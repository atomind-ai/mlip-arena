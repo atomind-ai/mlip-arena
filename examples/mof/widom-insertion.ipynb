{
 "cells": [
  {
   "cell_type": "markdown",
   "metadata": {},
   "source": [
    "## Prepare input structures"
   ]
  },
  {
   "cell_type": "code",
   "execution_count": 1,
   "metadata": {},
   "outputs": [
    {
     "name": "stdout",
     "output_type": "stream",
     "text": [
      "No module named 'deepmd'\n"
     ]
    },
    {
     "name": "stderr",
     "output_type": "stream",
     "text": [
      "/pscratch/sd/c/cyrusyc/.conda/mlip-arena/lib/python3.11/site-packages/ase/io/cif.py:408: UserWarning: crystal system 'triclinic' is not interpreted for space group Spacegroup(1, setting=1). This may result in wrong setting!\n",
      "  warnings.warn(\n"
     ]
    },
    {
     "name": "stdout",
     "output_type": "stream",
     "text": [
      "mofs.db uploaded to atomind/mlip-arena/mof\n"
     ]
    }
   ],
   "source": [
    "import glob\n",
    "from dotenv import load_dotenv\n",
    "from ase.io import read\n",
    "from mlip_arena.tasks.mof.input import save_to_db\n",
    "\n",
    "load_dotenv()\n",
    "\n",
    "files = glob.glob('structures/*.cif')\n",
    "\n",
    "atoms_list = []\n",
    "\n",
    "for file in files:\n",
    "    atoms = read(file)\n",
    "    atoms_list.append(atoms)\n",
    "\n",
    "save_to_db(\n",
    "    atoms_list=atoms_list,\n",
    "    db_path='mofs.db'\n",
    ")"
   ]
  },
  {
   "cell_type": "markdown",
   "metadata": {},
   "source": [
    "## Flow definition"
   ]
  },
  {
   "cell_type": "code",
   "execution_count": 1,
   "metadata": {},
   "outputs": [
    {
     "name": "stdout",
     "output_type": "stream",
     "text": [
      "No module named 'deepmd'\n"
     ]
    },
    {
     "data": {
      "text/html": [
       "<pre style=\"white-space:pre;overflow-x:auto;line-height:normal;font-family:Menlo,'DejaVu Sans Mono',consolas,'Courier New',monospace\">15:57:19.295 | <span style=\"color: #d7d700; text-decoration-color: #d7d700\">WARNING</span> | MDAnalysis.coordinates.AMBER - netCDF4 is not available. Writing AMBER ncdf files will be slow.\n",
       "</pre>\n"
      ],
      "text/plain": [
       "15:57:19.295 | \u001b[38;5;184mWARNING\u001b[0m | MDAnalysis.coordinates.AMBER - netCDF4 is not available. Writing AMBER ncdf files will be slow.\n"
      ]
     },
     "metadata": {},
     "output_type": "display_data"
    }
   ],
   "source": [
    "from ase.build import molecule\n",
    "from mlip_arena.models import MLIPEnum\n",
    "from mlip_arena.tasks.mof.input import get_atoms_from_db\n",
    "from mlip_arena.tasks.mof.flow import widom_insertion\n",
    "from tqdm.auto import tqdm\n",
    "\n",
    "from prefect import flow\n",
    "\n",
    "@flow\n",
    "def benchmark_test():\n",
    "    results = []\n",
    "    for model in MLIPEnum:\n",
    "        if model.name != \"MACE-MP(M)\":\n",
    "            continue\n",
    "        for atoms in tqdm(get_atoms_from_db('mofs.db')):\n",
    "            result = widom_insertion(\n",
    "                atoms, \n",
    "                molecule('CO2'),\n",
    "                calculator_name=model.name,\n",
    "            )\n",
    "            results.append(result)\n",
    "            break\n",
    "    \n",
    "    return [r for r in results]"
   ]
  },
  {
   "cell_type": "code",
   "execution_count": null,
   "metadata": {},
   "outputs": [],
   "source": [
    "\n",
    "result = benchmark_test()\n",
    "\n",
    "print(result)\n",
    "\n"
   ]
  },
  {
   "cell_type": "code",
   "execution_count": 10,
   "metadata": {},
   "outputs": [
    {
     "data": {
      "text/plain": [
       "[2.3617881373330576e-06, 2.5985147795206755e-06]"
      ]
     },
     "execution_count": 10,
     "metadata": {},
     "output_type": "execute_result"
    }
   ],
   "source": [
    "result[0]['henry_coefficient']"
   ]
  },
  {
   "cell_type": "code",
   "execution_count": null,
   "metadata": {},
   "outputs": [],
   "source": []
  }
 ],
 "metadata": {
  "kernelspec": {
   "display_name": "mlip-arena",
   "language": "python",
   "name": "python3"
  },
  "language_info": {
   "codemirror_mode": {
    "name": "ipython",
    "version": 3
   },
   "file_extension": ".py",
   "mimetype": "text/x-python",
   "name": "python",
   "nbconvert_exporter": "python",
   "pygments_lexer": "ipython3",
   "version": "3.11.10"
  },
  "widgets": {
   "application/vnd.jupyter.widget-state+json": {
    "state": {},
    "version_major": 2,
    "version_minor": 0
   }
  }
 },
 "nbformat": 4,
 "nbformat_minor": 4
}
