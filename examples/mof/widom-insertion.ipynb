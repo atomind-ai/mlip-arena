{
 "cells": [
  {
   "cell_type": "markdown",
   "metadata": {},
   "source": [
    "## Prepare input structures\n",
    "\n",
    "We first start by preparing the input ASE database. In the subfolder `structures` there are 9 example MOF structures. `save_to_db` is an convenient function to conver CIF files into one db."
   ]
  },
  {
   "cell_type": "code",
   "execution_count": 1,
   "metadata": {
    "tags": []
   },
   "outputs": [
    {
     "name": "stderr",
     "output_type": "stream",
     "text": [
      "\u001b[32m2024-12-22 01:08:13.317\u001b[0m | \u001b[1mINFO    \u001b[0m | \u001b[36mmlip_arena.tasks.mof\u001b[0m:\u001b[36m<module>\u001b[0m:\u001b[36m6\u001b[0m - \u001b[1m\n",
      "The module 'mlip_arena.tasks.mof' is adapted from the repository: https://github.com/hspark1212/DAC-SIM. \n",
      "By using this module, you agree to the terms and conditions specified in the following license: \n",
      "\n",
      "https://github.com/hspark1212/DAC-SIM/blob/main/LICENSE\n",
      "\n",
      "Additionally, please ensure proper attribution by citing the reference: \n",
      "\n",
      "Lim, Y., Park, H., Walsh, A., & Kim, J. (2024). Accelerating CO₂ Direct Air Capture Screening for Metal-Organic Frameworks with a Transferable Machine Learning Force Field.\n",
      "\n",
      "A local copy of the LICENSE file can be found at: /pscratch/sd/c/cyrusyc/mlip-arena/mlip_arena/tasks/mof/LICENSE.\n",
      "\u001b[0m\n"
     ]
    },
    {
     "name": "stdout",
     "output_type": "stream",
     "text": [
      "No module named 'deepmd'\n"
     ]
    },
    {
     "name": "stderr",
     "output_type": "stream",
     "text": [
      "/pscratch/sd/c/cyrusyc/.conda/mlip-arena/lib/python3.11/site-packages/ase/io/cif.py:408: UserWarning: crystal system 'triclinic' is not interpreted for space group Spacegroup(1, setting=1). This may result in wrong setting!\n",
      "  warnings.warn(\n",
      "\u001b[32m2024-12-22 01:08:15.893\u001b[0m | \u001b[1mINFO    \u001b[0m | \u001b[36mmlip_arena.tasks.mof.input\u001b[0m:\u001b[36msave_to_db\u001b[0m:\u001b[36m45\u001b[0m - \u001b[1mmofs.db uploaded to atomind/mlip-arena/mof\u001b[0m\n"
     ]
    },
    {
     "data": {
      "text/plain": [
       "PosixPath('mofs.db')"
      ]
     },
     "execution_count": 1,
     "metadata": {},
     "output_type": "execute_result"
    }
   ],
   "source": [
    "from dotenv import load_dotenv\n",
    "load_dotenv()\n",
    "\n",
    "import glob\n",
    "from ase.io import read\n",
    "from mlip_arena.tasks.mof.input import save_to_db\n",
    "\n",
    "files = glob.glob('structures/*.cif')\n",
    "\n",
    "atoms_list = []\n",
    "\n",
    "for file in files:\n",
    "    atoms = read(file)\n",
    "    atoms_list.append(atoms)\n",
    "\n",
    "save_to_db(\n",
    "    atoms_list=atoms_list,\n",
    "    db_path='mofs.db'\n",
    ")"
   ]
  },
  {
   "cell_type": "markdown",
   "metadata": {
    "tags": []
   },
   "source": [
    "## Demo: MOF benchmark workflow"
   ]
  },
  {
   "cell_type": "code",
   "execution_count": 1,
   "metadata": {},
   "outputs": [
    {
     "name": "stdout",
     "output_type": "stream",
     "text": [
      "No module named 'deepmd'\n"
     ]
    },
    {
     "data": {
      "text/html": [
       "<pre style=\"white-space:pre;overflow-x:auto;line-height:normal;font-family:Menlo,'DejaVu Sans Mono',consolas,'Courier New',monospace\">15:57:19.295 | <span style=\"color: #d7d700; text-decoration-color: #d7d700\">WARNING</span> | MDAnalysis.coordinates.AMBER - netCDF4 is not available. Writing AMBER ncdf files will be slow.\n",
       "</pre>\n"
      ],
      "text/plain": [
       "15:57:19.295 | \u001b[38;5;184mWARNING\u001b[0m | MDAnalysis.coordinates.AMBER - netCDF4 is not available. Writing AMBER ncdf files will be slow.\n"
      ]
     },
     "metadata": {},
     "output_type": "display_data"
    }
   ],
   "source": [
    "from ase.build import molecule\n",
    "from mlip_arena.models import MLIPEnum\n",
    "from mlip_arena.tasks.mof.flow import run as MOF\n",
    "\n",
    "@flow\n",
    "def benchmark_one():\n",
    "    results = []\n",
    "    for model in MLIPEnum:\n",
    "        if model.name != \"MACE-MP(M)\":\n",
    "            continue # skip all models other than MACE-MP\n",
    "        for atoms in tqdm(get_atoms_from_db('mofs.db')):\n",
    "            result = widom_insertion(\n",
    "                atoms, \n",
    "                molecule('CO2'),\n",
    "                calculator_name=model.name,\n",
    "            )\n",
    "            results.append(result)\n",
    "            break # only test on first MOF\n",
    "    return [r for r in results]"
   ]
  },
  {
   "cell_type": "code",
   "execution_count": 10,
   "metadata": {},
   "outputs": [
    {
     "data": {
      "text/plain": [
       "[2.3617881373330576e-06, 2.5985147795206755e-06]"
      ]
     },
     "execution_count": 10,
     "metadata": {},
     "output_type": "execute_result"
    }
   ],
   "source": [
    "result = benchmark_one()\n",
    "result[0]['henry_coefficient']"
   ]
  },
  {
   "cell_type": "markdown",
   "metadata": {},
   "source": [
    "## Run workflow"
   ]
  },
  {
   "cell_type": "code",
   "execution_count": null,
   "metadata": {
    "tags": []
   },
   "outputs": [],
   "source": [
    "from dask.distributed import Client\n",
    "from dask_jobqueue import SLURMCluster\n",
    "from prefect_dask import DaskTaskRunner\n",
    "\n",
    "from ase.build import molecule\n",
    "from mlip_arena.models import MLIPEnum\n",
    "from mlip_arena.tasks.mof.flow import run as MOF\n",
    "\n",
    "MOF()"
   ]
  }
 ],
 "metadata": {
  "kernelspec": {
   "display_name": "mlip-arena",
   "language": "python",
   "name": "mlip-arena"
  },
  "language_info": {
   "codemirror_mode": {
    "name": "ipython",
    "version": 3
   },
   "file_extension": ".py",
   "mimetype": "text/x-python",
   "name": "python",
   "nbconvert_exporter": "python",
   "pygments_lexer": "ipython3",
   "version": "3.11.8"
  },
  "widgets": {
   "application/vnd.jupyter.widget-state+json": {
    "state": {},
    "version_major": 2,
    "version_minor": 0
   }
  }
 },
 "nbformat": 4,
 "nbformat_minor": 4
}
