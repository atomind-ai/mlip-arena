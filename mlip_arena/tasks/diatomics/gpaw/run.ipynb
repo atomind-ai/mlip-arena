{
 "cells": [
  {
   "cell_type": "code",
   "execution_count": 1,
   "id": "08ee4c09-7fb5-4ce1-a7a3-5c5c52a6d4d5",
   "metadata": {
    "tags": []
   },
   "outputs": [],
   "source": [
    "from ase import Atoms, Atom\n",
    "from ase.io import read, write\n",
    "from ase.data import chemical_symbols, covalent_radii, vdw_alvarez\n",
    "from ase.parallel import paropen as open\n",
    "from gpaw import GPAW, PW, FermiDirac, LCAO\n",
    "# from gpaw.new.ase_interface import GPAW\n",
    "from gpaw import Davidson\n",
    "from gpaw import Mixer, MixerSum, MixerDif\n",
    "from gpaw.directmin.etdm_lcao import LCAOETDM\n",
    "from gpaw.cdft.cdft import CDFT\n",
    "from pathlib import Path\n",
    "import os\n",
    "import numpy as np\n",
    "from pymatgen.core import Element\n",
    "from tqdm.auto import tqdm\n",
    "import pandas as pd"
   ]
  },
  {
   "cell_type": "code",
   "execution_count": null,
   "id": "90887faa-1601-4c4c-9c44-d16731471d7f",
   "metadata": {
    "tags": []
   },
   "outputs": [
    {
     "data": {
      "application/vnd.jupyter.widget-view+json": {
       "model_id": "cf2b43396da34f09b4fa9163b0d268d7",
       "version_major": 2,
       "version_minor": 0
      },
      "text/plain": [
       "  0%|          | 0/16 [00:00<?, ?it/s]"
      ]
     },
     "metadata": {},
     "output_type": "display_data"
    },
    {
     "name": "stdout",
     "output_type": "stream",
     "text": [
      "Atoms(symbols='H2', pbc=True, cell=[15.0, 15.001, 15.002], initial_magmoms=..., calculator=SinglePointCalculator(...))\n"
     ]
    },
    {
     "data": {
      "application/vnd.jupyter.widget-view+json": {
       "model_id": "048104b77fba4550867161794f620d65",
       "version_major": 2,
       "version_minor": 0
      },
      "text/plain": [
       "  0%|          | 0/16 [00:00<?, ?it/s]"
      ]
     },
     "metadata": {},
     "output_type": "display_data"
    },
    {
     "name": "stdout",
     "output_type": "stream",
     "text": [
      "Atoms(symbols='C2', pbc=True, cell=[15.0, 15.001, 15.002], initial_magmoms=..., calculator=SinglePointCalculator(...))\n"
     ]
    },
    {
     "data": {
      "application/vnd.jupyter.widget-view+json": {
       "model_id": "8fa672379414479daa47f8ed7f425379",
       "version_major": 2,
       "version_minor": 0
      },
      "text/plain": [
       "  0%|          | 0/22 [00:00<?, ?it/s]"
      ]
     },
     "metadata": {},
     "output_type": "display_data"
    },
    {
     "name": "stdout",
     "output_type": "stream",
     "text": [
      "Atoms(symbols='N2', pbc=True, cell=[15.0, 15.001, 15.002], initial_magmoms=..., calculator=SinglePointCalculator(...))\n"
     ]
    },
    {
     "data": {
      "application/vnd.jupyter.widget-view+json": {
       "model_id": "1bb32681b918425597e6e4f9c2411c5f",
       "version_major": 2,
       "version_minor": 0
      },
      "text/plain": [
       "  0%|          | 0/21 [00:00<?, ?it/s]"
      ]
     },
     "metadata": {},
     "output_type": "display_data"
    },
    {
     "name": "stdout",
     "output_type": "stream",
     "text": [
      "Atoms(symbols='O2', pbc=True, cell=[15.0, 15.001, 15.002], initial_magmoms=..., calculator=SinglePointCalculator(...))\n"
     ]
    },
    {
     "data": {
      "application/vnd.jupyter.widget-view+json": {
       "model_id": "a754ff99a9e944f5bb77346fa5c7f123",
       "version_major": 2,
       "version_minor": 0
      },
      "text/plain": [
       "  0%|          | 0/19 [00:00<?, ?it/s]"
      ]
     },
     "metadata": {},
     "output_type": "display_data"
    },
    {
     "name": "stdout",
     "output_type": "stream",
     "text": [
      "Atoms(symbols='Li2', pbc=True, cell=[15.0, 15.001, 15.002], initial_magmoms=..., calculator=SinglePointCalculator(...))\n"
     ]
    },
    {
     "data": {
      "application/vnd.jupyter.widget-view+json": {
       "model_id": "a7c3f7819f1b47eea4b42edaac6b1da6",
       "version_major": 2,
       "version_minor": 0
      },
      "text/plain": [
       "  0%|          | 0/25 [00:00<?, ?it/s]"
      ]
     },
     "metadata": {},
     "output_type": "display_data"
    },
    {
     "name": "stdout",
     "output_type": "stream",
     "text": [
      "Atoms(symbols='Be2', pbc=True, cell=[15.0, 15.001, 15.002], initial_magmoms=..., calculator=SinglePointCalculator(...))\n"
     ]
    },
    {
     "data": {
      "application/vnd.jupyter.widget-view+json": {
       "model_id": "5e79b7bc8b4340ff9d35755ba859a2ba",
       "version_major": 2,
       "version_minor": 0
      },
      "text/plain": [
       "  0%|          | 0/24 [00:00<?, ?it/s]"
      ]
     },
     "metadata": {},
     "output_type": "display_data"
    },
    {
     "name": "stdout",
     "output_type": "stream",
     "text": [
      "Atoms(symbols='Mg2', pbc=True, cell=[15.562, 15.562999999999999, 15.564], initial_magmoms=..., calculator=SinglePointCalculator(...))\n"
     ]
    },
    {
     "data": {
      "application/vnd.jupyter.widget-view+json": {
       "model_id": "43c6a60f2f2040a8a005c462cf36eb02",
       "version_major": 2,
       "version_minor": 0
      },
      "text/plain": [
       "  0%|          | 0/30 [00:00<?, ?it/s]"
      ]
     },
     "metadata": {},
     "output_type": "display_data"
    },
    {
     "name": "stdout",
     "output_type": "stream",
     "text": [
      "Atoms(symbols='Na2', pbc=True, cell=[15.5, 15.501, 15.502], initial_magmoms=..., calculator=SinglePointCalculator(...))\n"
     ]
    },
    {
     "data": {
      "application/vnd.jupyter.widget-view+json": {
       "model_id": "6568ffaad27a4ce3bb540f1fc3440e10",
       "version_major": 2,
       "version_minor": 0
      },
      "text/plain": [
       "  0%|          | 0/28 [00:00<?, ?it/s]"
      ]
     },
     "metadata": {},
     "output_type": "display_data"
    },
    {
     "name": "stdout",
     "output_type": "stream",
     "text": [
      "Atoms(symbols='Cr2', pbc=True, cell=[15.190000000000001, 15.191, 15.192000000000002], initial_magmoms=..., calculator=SinglePointCalculator(...))\n"
     ]
    },
    {
     "data": {
      "application/vnd.jupyter.widget-view+json": {
       "model_id": "03f87ed3d767468fa018b33a57eb94cc",
       "version_major": 2,
       "version_minor": 0
      },
      "text/plain": [
       "  0%|          | 0/29 [00:00<?, ?it/s]"
      ]
     },
     "metadata": {},
     "output_type": "display_data"
    }
   ],
   "source": [
    "\n",
    "magnetism = 'NM'\n",
    "\n",
    "# for symbol in tqdm(chemical_symbols):\n",
    "for symbol in tqdm(['H', 'C', 'N', 'O', 'Li', 'Be', 'Mg', 'Na', 'Cr', 'Fe', 'Mo', 'Cu', 'B', 'Si', 'As', 'Ge']):\n",
    "    \n",
    "    s = set([symbol])\n",
    "    \n",
    "    if 'X' in s:\n",
    "        continue\n",
    "        \n",
    "    try:\n",
    "        atom = Atom(symbol)\n",
    "        rmin = covalent_radii[atom.number] * 2 * 0.6\n",
    "        rvdw = vdw_alvarez.vdw_radii[atom.number] if atom.number < len(vdw_alvarez.vdw_radii) else np.nan \n",
    "        rmax = 3.1 * rvdw if not np.isnan(rvdw) else 6\n",
    "        rstep = 0.2 #if rmin < 1 else 0.4\n",
    "\n",
    "        a = max(2 * rmax, 15)\n",
    "\n",
    "        da = symbol + symbol\n",
    "\n",
    "        # out_dir = Path(str(da + f\"_{magnetism}\"))\n",
    "        out_dir = Path(str(da))\n",
    "        os.makedirs(out_dir, exist_ok=True)\n",
    "\n",
    "        npts = int((rmax - rmin)/rstep)\n",
    "        rs = np.linspace(rmin, rmax, npts)\n",
    "        e = np.zeros_like(rs)\n",
    "\n",
    "        r = rs[-1]\n",
    "\n",
    "        positions = [\n",
    "            [a/2-r/2, a/2, a/2],\n",
    "            [a/2+r/2, a/2, a/2],\n",
    "        ]\n",
    "\n",
    "        try:\n",
    "            element = Element(symbol)\n",
    "            m = element.valence[1]\n",
    "            if element.valence == (0, 2):\n",
    "                m = 0\n",
    "        except:\n",
    "            m = 0\n",
    "\n",
    "        skip = 0\n",
    "\n",
    "        traj_fpath = out_dir / \"PBE.extxyz\"\n",
    "\n",
    "        if traj_fpath.exists():\n",
    "            traj = read(traj_fpath, index=\":\")\n",
    "            skip = len(traj)\n",
    "            atoms = traj[-1]\n",
    "        else:\n",
    "            # Create the unit cell with two atoms\n",
    "            atoms = Atoms(\n",
    "                da, \n",
    "                positions=positions,\n",
    "                # magmoms=magmoms,\n",
    "                cell=[a, a+0.001, a+0.002], \n",
    "                pbc=True\n",
    "            )\n",
    "\n",
    "        # if magnetism == 'FM':\n",
    "        #     if m == 0:\n",
    "        #         continue\n",
    "        #     magmoms = [m, m]\n",
    "        # elif magnetism == 'AFM':\n",
    "        #     if m == 0:\n",
    "        #         continue\n",
    "        #     magmoms = [m, -m]\n",
    "        # elif magnetism == 'NM':\n",
    "        #     magmoms = [0, 0]\n",
    "\n",
    "\n",
    "\n",
    "        print(atoms)\n",
    "\n",
    "        restart_fpath = out_dir / 'restart.gpw'\n",
    "\n",
    "        calc = GPAW(\n",
    "            mode=PW(1500),\n",
    "            xc='PBE',\n",
    "            spinpol=True,\n",
    "            # basis='dzp'\n",
    "            basis='szp(dzp)',\n",
    "            # h=0.25,\n",
    "            # nbands=0 if element.is_noble_gas else '110%',\n",
    "            hund=False,\n",
    "            mixer=MixerDif(0.01, 1, 1) if element.is_transition_metal else MixerDif(0.25, 3, 10),\n",
<<<<<<< Updated upstream
    "            eigensolver='rmm-diis', #Davidson(3),  # This solver can parallelize over bands Davidson(3), #\n",
=======
    "            # eigensolver='rmm-diis', #Davidson(3),  # This solver can parallelize over bands Davidson(3), #\n",
>>>>>>> Stashed changes
    "            occupations=FermiDirac(0.03, fixmagmom=False), # if not element.is_metal else FermiDirac(0.2, fixmagmom=False),\n",
    "            # eigensolver=LCAOETDM(),\n",
    "            #     # searchdir_algo={'name': 'l-bfgs-p', 'memory': 10}),\n",
    "            # occupations={'name': 'fixed-uniform'},\n",
    "            # mixer={'backend': 'no-mixing'},\n",
    "            # nbands='nao',\n",
    "            symmetry={'point_group': True},\n",
    "            txt=out_dir / 'out.txt',\n",
    "            convergence={\n",
    "                'eigenstates': 1e-5,\n",
    "                'density': 5e-3,\n",
    "                'energy': 5e-4,\n",
    "                # 'bands': 4\n",
    "            },\n",
    "            parallel={'gpu': True}\n",
    "            # {'energy': 0.0005,  # eV / electron\n",
    "            #  'density': 1.0e-4,  # electrons / electron\n",
    "            #  'eigenstates': 4.0e-8,  # eV^2 / electron\n",
    "            #  'bands': 'occupied'},\n",
<<<<<<< Updated upstream
    "            \n",
=======
    "            # parallel={'gpu': True},\n",
    "            setups='paw'  \n",
>>>>>>> Stashed changes
    "        )\n",
    "        # calc = GPAW(\n",
    "        #     mode='pw', #PW(1500),\n",
    "        #     xc='PBE',\n",
    "        #     # spinpol=True,\n",
    "        #     # basis='szp(dzp)',\n",
    "        #     # h=0.25,\n",
    "        #     # nbands=0 if element.is_noble_gas else '110%',\n",
    "        #     hund=False,\n",
    "        #     # mixer=MixerDif(0.01, 1, 1) if element.is_transition_metal else MixerDif(0.25, 3, 10),\n",
    "        #     # eigensolver='rmm-diis', #Davidson(3),  # This solver can parallelize over bands Davidson(3), #\n",
    "        #     # occupations=FermiDirac(0.01, fixmagmom=False), # if not element.is_metal else FermiDirac(0.2, fixmagmom=False),\n",
    "        #     # eigensolver=LCAOETDM(),\n",
    "        #     #     # searchdir_algo={'name': 'l-bfgs-p', 'memory': 10}),\n",
    "        #     # occupations={'name': 'fixed-uniform'},\n",
    "        #     # mixer={'backend': 'no-mixing'},\n",
    "        #     # nbands='nao',\n",
    "        #     # symmetry={'point_group': True},\n",
    "        #     txt=out_dir / 'out.txt',\n",
    "        #     convergence={\n",
    "        #         'eigenstates': 1e-5,\n",
    "        #         'density': 5e-3,\n",
    "        #         'energy': 5e-4,\n",
    "        #         # 'bands': 4\n",
    "        #     },\n",
    "        #     # {'energy': 0.0005,  # eV / electron\n",
    "        #     #  'density': 1.0e-4,  # electrons / electron\n",
    "        #     #  'eigenstates': 4.0e-8,  # eV^2 / electron\n",
    "        #     #  'bands': 'occupied'},\n",
    "        #     parallel={'gpu': True},\n",
    "        #     setups='paw'\n",
    "        # )\n",
    "        # calc.attach(calc.write, 10, restart_fpath, mode='all')\n",
    "\n",
    "        atoms.calc = calc\n",
    "\n",
    "        # cdft = CDFT(calc=calc, atoms=atoms, spinspin_regions=      \n",
    "        # atoms.calc = cdft\n",
    "\n",
    "        for i, r in enumerate(tqdm(np.flip(rs))):\n",
    "\n",
    "            if i < skip:\n",
    "                continue\n",
    "\n",
    "            positions = [\n",
    "                [a/2-r/2, a/2, a/2],\n",
    "                [a/2+r/2, a/2, a/2],\n",
    "            ]\n",
    "\n",
    "            atoms.set_positions(positions)\n",
    "\n",
    "            if i == 0:\n",
    "                fm_magmoms = [m, m]\n",
    "                atoms.set_initial_magnetic_moments(fm_magmoms) \n",
    "                fm_energy = atoms.get_potential_energy()\n",
    "                # shutil.move(out_dir / \"WAVECAR\", out_dir / \"WAVECAR_FM\")\n",
    "\n",
    "                afm_magmoms = [m, -m]\n",
    "                atoms.set_initial_magnetic_moments(afm_magmoms) \n",
    "                afm_energy = atoms.get_potential_energy()\n",
    "                # shutil.move(out_dir / \"WAVECAR\", out_dir / \"WAVECAR_AFM\")\n",
    "\n",
    "                if fm_energy <= afm_energy:\n",
    "                    magmoms = fm_magmoms\n",
    "                    # atoms.set_initial_magnetic_moments(magmoms) \n",
    "                    # shutil.move(out_dir / \"WAVECAR_FM\", out_dir / \"WAVECAR\")       \n",
    "                else:\n",
    "                    magmoms = afm_magmoms\n",
    "                    # atoms.set_initial_magnetic_moments(magmoms)\n",
    "                    # shutil.move(out_dir / \"WAVECAR_AFM\", out_dir / \"WAVECAR\")\n",
    "\n",
    "            if i > 0:   \n",
    "                magmoms = atoms.get_magnetic_moments()\n",
    "\n",
    "            atoms.set_initial_magnetic_moments(magmoms)\n",
    "                # m = min(abs(magmoms[0])*1.2, m)\n",
    "                # magmoms = magmoms*m/np.abs(magmoms)\n",
    "\n",
    "            e[i] = atoms.get_potential_energy()\n",
    "\n",
    "            atoms.calc.results.update({\n",
    "                \"forces\": atoms.get_forces()\n",
    "            })\n",
    "\n",
    "            write(traj_fpath, atoms, append=True)\n",
    "    except Exception as e:\n",
    "        print(e)\n"
   ]
  },
  {
   "cell_type": "code",
   "execution_count": 13,
   "id": "06118461-8db9-49f0-8aae-2150146ab9b5",
   "metadata": {
    "tags": []
   },
   "outputs": [
    {
     "name": "stdout",
     "output_type": "stream",
     "text": [
      "\n"
     ]
    }
   ],
   "source": [
    "!echo $GPAW_NEW"
   ]
  },
  {
   "cell_type": "code",
   "execution_count": null,
   "id": "a0ac2c09-370b-4fdd-bf74-ea5c4ade0215",
   "metadata": {},
   "outputs": [],
   "source": [
    "\n",
    "\n",
    "df = pd.DataFrame(columns=['name', 'method', 'R', 'E', 'F', 'S^2'])\n",
    "\n",
    "\n",
    "\n",
    "for symbol in tqdm(chemical_symbols):\n",
    "    \n",
    "    for magnetism in ['AFM', 'FM', 'NM']:\n",
    "    \n",
    "        da = symbol + symbol\n",
    "\n",
    "        # out_dir = Path(da)\n",
    "        out_dir = Path(str(da + f\"_{magnetism}\"))\n",
    "\n",
    "        traj_fpath = out_dir / \"traj.extxyz\"\n",
    "\n",
    "        if traj_fpath.exists():\n",
    "            traj = read(traj_fpath, index=\":\")\n",
    "        else:\n",
    "            continue\n",
    "\n",
    "        Rs, Es, Fs, S2s = [], [], [], []\n",
    "        for atoms in traj:\n",
    "\n",
    "            vec = atoms.positions[1] - atoms.positions[0]\n",
    "            r = np.linalg.norm(vec)\n",
    "            e = atoms.get_potential_energy()\n",
    "            # f = np.inner(vec/r, atoms.get_forces()[1])\n",
    "            # s2 = np.mean(np.power(atoms.get_magnetic_moments(), 2))\n",
    "\n",
    "            Rs.append(r)\n",
    "            Es.append(e)\n",
    "            # Fs.append(f)\n",
    "            # S2s.append(s2)\n",
    "\n",
    "        data = {\n",
    "            'name': da,\n",
    "            'method': f'GGA-PBE (GPAW): {magnetism}',\n",
    "            'R': Rs,\n",
    "            'E': Es,\n",
    "            'F': Fs,\n",
    "            'S^2': S2s\n",
    "        }\n",
    "\n",
    "        df = pd.concat([df, pd.DataFrame([data])], ignore_index=True)\n",
    "\n",
    "json_fpath = 'homonuclear-diatomics.json'\n",
    "\n",
    "df.to_json(json_fpath, orient='records')    "
   ]
  },
  {
   "cell_type": "code",
   "execution_count": null,
   "id": "5d4a7312-a619-411f-9c6f-36c40cd47a34",
   "metadata": {},
   "outputs": [],
   "source": []
  }
 ],
 "metadata": {
  "kernelspec": {
   "display_name": "mlip-arena",
   "language": "python",
   "name": "mlip-arena"
  },
  "language_info": {
   "codemirror_mode": {
    "name": "ipython",
    "version": 3
   },
   "file_extension": ".py",
   "mimetype": "text/x-python",
   "name": "python",
   "nbconvert_exporter": "python",
   "pygments_lexer": "ipython3",
   "version": "3.11.10"
  },
  "widgets": {
   "application/vnd.jupyter.widget-state+json": {
    "state": {
     "019efd3abfaf449f90bc4e2419e97d84": {
      "model_module": "@jupyter-widgets/controls",
      "model_module_version": "2.0.0",
      "model_name": "FloatProgressModel",
      "state": {
       "bar_style": "success",
       "layout": "IPY_MODEL_295482d5db12405c806572738cbff31e",
       "max": 22,
       "style": "IPY_MODEL_e09a0c50b3bb4e2ebaba70054dcbbedb",
       "value": 22
      }
     },
     "0325659ee95e49a5b91b3b5d00ed7438": {
      "model_module": "@jupyter-widgets/controls",
      "model_module_version": "2.0.0",
      "model_name": "FloatProgressModel",
      "state": {
       "bar_style": "danger",
       "layout": "IPY_MODEL_74c767383218458094552abeda7cf5a8",
       "max": 16,
       "style": "IPY_MODEL_b9c8d4aba50241e4873535d5253bc431",
       "value": 8
      }
     },
     "03a04053ba144fb4b307d6bcc564b412": {
      "model_module": "@jupyter-widgets/base",
      "model_module_version": "2.0.0",
      "model_name": "LayoutModel",
      "state": {}
     },
     "03f87ed3d767468fa018b33a57eb94cc": {
      "model_module": "@jupyter-widgets/controls",
      "model_module_version": "2.0.0",
      "model_name": "HBoxModel",
      "state": {
       "children": [
        "IPY_MODEL_7a1b1f4cbceb41e09dad9b8724d74046",
        "IPY_MODEL_0a0e4f0e284c4e6a8b4c6ecfd884fc1a",
        "IPY_MODEL_06455df8a89646fa993fee1979052f1e"
       ],
       "layout": "IPY_MODEL_73bc039f53694da9ab33d38f3105ff84"
      }
     },
     "048104b77fba4550867161794f620d65": {
      "model_module": "@jupyter-widgets/controls",
      "model_module_version": "2.0.0",
      "model_name": "HBoxModel",
      "state": {
       "children": [
        "IPY_MODEL_293e634149a84e368597d71b93e9028d",
        "IPY_MODEL_080c0fd5c655426d8cb7d76ac45300e9",
        "IPY_MODEL_a38e0664f6244c998579aa13a2ae30fe"
       ],
       "layout": "IPY_MODEL_d854a6aa89aa4b0b85b74e6571610fa5"
      }
     },
     "05222193081f48b9be6bfc7d641ebb74": {
      "model_module": "@jupyter-widgets/controls",
      "model_module_version": "2.0.0",
      "model_name": "FloatProgressModel",
      "state": {
       "bar_style": "success",
       "layout": "IPY_MODEL_17a3ef38fb2247309b10e3ceb637b3a3",
       "max": 16,
       "style": "IPY_MODEL_a8c890c01841474aa7bc13026223fb0f",
       "value": 16
      }
     },
     "05ed74a6ba944337bebcb2fac08c00de": {
      "model_module": "@jupyter-widgets/controls",
      "model_module_version": "2.0.0",
      "model_name": "FloatProgressModel",
      "state": {
       "bar_style": "danger",
       "layout": "IPY_MODEL_2a9e6e02eea34005972127793e52a1b9",
       "max": 29,
       "style": "IPY_MODEL_1ff383b756164e788e5e03be30f715a1",
       "value": 3
      }
     },
     "06455df8a89646fa993fee1979052f1e": {
      "model_module": "@jupyter-widgets/controls",
      "model_module_version": "2.0.0",
      "model_name": "HTMLModel",
      "state": {
       "layout": "IPY_MODEL_7fa6e2baf01f48758b14ecff82b6b66a",
       "style": "IPY_MODEL_c080db3fe74a4fddad2f70f4c3b066c9",
       "value": " 0/29 [00:00&lt;?, ?it/s]"
      }
     },
     "064928844e9a4e7e922d917d81e44ff8": {
      "model_module": "@jupyter-widgets/base",
      "model_module_version": "2.0.0",
      "model_name": "LayoutModel",
      "state": {}
     },
     "068d7d8108c54a5b811dffcfaf40239e": {
      "model_module": "@jupyter-widgets/controls",
      "model_module_version": "2.0.0",
      "model_name": "FloatProgressModel",
      "state": {
       "bar_style": "success",
       "layout": "IPY_MODEL_8b6f74e2cce947dbba9ffcdc474f7266",
       "max": 28,
       "style": "IPY_MODEL_9bfc0fbbe907411682d8f6fbd3ff3b5c",
       "value": 28
      }
     },
     "070a3885f56e4c868105e1890b6e22c6": {
      "model_module": "@jupyter-widgets/controls",
      "model_module_version": "2.0.0",
      "model_name": "ProgressStyleModel",
      "state": {
       "description_width": ""
      }
     },
     "080c0fd5c655426d8cb7d76ac45300e9": {
      "model_module": "@jupyter-widgets/controls",
      "model_module_version": "2.0.0",
      "model_name": "FloatProgressModel",
      "state": {
       "bar_style": "success",
       "layout": "IPY_MODEL_62719a7465b345979bb2459d04cebef4",
       "max": 16,
       "style": "IPY_MODEL_d4eab8e28aea4048b6742decdc83b75c",
       "value": 16
      }
     },
     "0a0e4f0e284c4e6a8b4c6ecfd884fc1a": {
      "model_module": "@jupyter-widgets/controls",
      "model_module_version": "2.0.0",
      "model_name": "FloatProgressModel",
      "state": {
       "layout": "IPY_MODEL_03a04053ba144fb4b307d6bcc564b412",
       "max": 29,
       "style": "IPY_MODEL_89a35e74cfa549818bc55c018ec41b3c"
      }
     },
     "0b1640f03887470d8db0697f71b279a5": {
      "model_module": "@jupyter-widgets/base",
      "model_module_version": "2.0.0",
      "model_name": "LayoutModel",
      "state": {}
     },
     "0cb5caf71dc4422ba63c318519d70091": {
      "model_module": "@jupyter-widgets/controls",
      "model_module_version": "2.0.0",
      "model_name": "FloatProgressModel",
      "state": {
       "bar_style": "success",
       "layout": "IPY_MODEL_0dec17085c864428820c8f9fd5bfd882",
       "max": 25,
       "style": "IPY_MODEL_070a3885f56e4c868105e1890b6e22c6",
       "value": 25
      }
     },
     "0cf24b3f362a423f9ec09410b2da7ab9": {
      "model_module": "@jupyter-widgets/controls",
      "model_module_version": "2.0.0",
      "model_name": "HTMLStyleModel",
      "state": {
       "description_width": "",
       "font_size": null,
       "text_color": null
      }
     },
     "0dc8cccaddd3466685f62cf530a2e32d": {
      "model_module": "@jupyter-widgets/base",
      "model_module_version": "2.0.0",
      "model_name": "LayoutModel",
      "state": {}
     },
     "0dec17085c864428820c8f9fd5bfd882": {
      "model_module": "@jupyter-widgets/base",
      "model_module_version": "2.0.0",
      "model_name": "LayoutModel",
      "state": {}
     },
     "1191615f21194ca48fb25f9533117b87": {
      "model_module": "@jupyter-widgets/base",
      "model_module_version": "2.0.0",
      "model_name": "LayoutModel",
      "state": {}
     },
     "12b05791535a4222830d69a025e7c76f": {
      "model_module": "@jupyter-widgets/controls",
      "model_module_version": "2.0.0",
      "model_name": "HTMLModel",
      "state": {
       "layout": "IPY_MODEL_56f11c401d9749df8743fd8126f2e376",
       "style": "IPY_MODEL_95b437973d1f40acb2d0cfeba75893bc",
       "value": " 44%"
      }
     },
     "13f57927f07149a3b5eaee9a4de745fc": {
      "model_module": "@jupyter-widgets/base",
      "model_module_version": "2.0.0",
      "model_name": "LayoutModel",
      "state": {}
     },
     "175f4a5c23fd4e33839d75ea09bd0b63": {
      "model_module": "@jupyter-widgets/controls",
      "model_module_version": "2.0.0",
      "model_name": "FloatProgressModel",
      "state": {
       "bar_style": "success",
       "layout": "IPY_MODEL_2524bedd5427411a9190237d797e2185",
       "max": 24,
       "style": "IPY_MODEL_1ddb98b8b01045ca839a725f3d7940b4",
       "value": 24
      }
     },
     "17a3ef38fb2247309b10e3ceb637b3a3": {
      "model_module": "@jupyter-widgets/base",
      "model_module_version": "2.0.0",
      "model_name": "LayoutModel",
      "state": {}
     },
     "1b5af72876ef4a4ea02b42370d798860": {
      "model_module": "@jupyter-widgets/controls",
      "model_module_version": "2.0.0",
      "model_name": "HTMLStyleModel",
      "state": {
       "description_width": "",
       "font_size": null,
       "text_color": null
      }
     },
     "1bb32681b918425597e6e4f9c2411c5f": {
      "model_module": "@jupyter-widgets/controls",
      "model_module_version": "2.0.0",
      "model_name": "HBoxModel",
      "state": {
       "children": [
        "IPY_MODEL_80b54d27120c4447b7b71e3cfd236efd",
        "IPY_MODEL_a0a18912938849328eaeed3a3b56e568",
        "IPY_MODEL_fe1e85dd7119422a89688939420ae705"
       ],
       "layout": "IPY_MODEL_41d948f60f0e4c64bfa963937192ff05"
      }
     },
     "1ddb98b8b01045ca839a725f3d7940b4": {
      "model_module": "@jupyter-widgets/controls",
      "model_module_version": "2.0.0",
      "model_name": "ProgressStyleModel",
      "state": {
       "description_width": ""
      }
     },
     "1ff383b756164e788e5e03be30f715a1": {
      "model_module": "@jupyter-widgets/controls",
      "model_module_version": "2.0.0",
      "model_name": "ProgressStyleModel",
      "state": {
       "description_width": ""
      }
     },
     "201b9069e1134d5fa0cea2fa6270c27f": {
      "model_module": "@jupyter-widgets/controls",
      "model_module_version": "2.0.0",
      "model_name": "HTMLModel",
      "state": {
       "layout": "IPY_MODEL_a010f8415b9140fd9851f8976fa1b01a",
       "style": "IPY_MODEL_e8bc898cab2647f99dc9e0276a4c5802",
       "value": "100%"
      }
     },
     "2524bedd5427411a9190237d797e2185": {
      "model_module": "@jupyter-widgets/base",
      "model_module_version": "2.0.0",
      "model_name": "LayoutModel",
      "state": {}
     },
     "25dd92e9748b478586a15a3b2115b106": {
      "model_module": "@jupyter-widgets/base",
      "model_module_version": "2.0.0",
      "model_name": "LayoutModel",
      "state": {}
     },
     "293e634149a84e368597d71b93e9028d": {
      "model_module": "@jupyter-widgets/controls",
      "model_module_version": "2.0.0",
      "model_name": "HTMLModel",
      "state": {
       "layout": "IPY_MODEL_83fb5c716e7f4ca0bd2f957f71bd76c3",
       "style": "IPY_MODEL_cba3272c3ca04cc6b44412aeb7b03d6e",
       "value": "100%"
      }
     },
     "295482d5db12405c806572738cbff31e": {
      "model_module": "@jupyter-widgets/base",
      "model_module_version": "2.0.0",
      "model_name": "LayoutModel",
      "state": {}
     },
     "2a9e6e02eea34005972127793e52a1b9": {
      "model_module": "@jupyter-widgets/base",
      "model_module_version": "2.0.0",
      "model_name": "LayoutModel",
      "state": {}
     },
     "2b8f557e0a9d44a4916ae94e68829d91": {
      "model_module": "@jupyter-widgets/controls",
      "model_module_version": "2.0.0",
      "model_name": "HBoxModel",
      "state": {
       "children": [
        "IPY_MODEL_9cafe2f9352e4142aaa6aae33fd113fe",
        "IPY_MODEL_90daa5625664457289fda9a570b1399e",
        "IPY_MODEL_77f335d26be2432397efb1303bb698c1"
       ],
       "layout": "IPY_MODEL_933323d0cd844d7eae9b833c9bfcbc7a"
      }
     },
     "2f86f510a39f4e00be046ec19b1e43d8": {
      "model_module": "@jupyter-widgets/base",
      "model_module_version": "2.0.0",
      "model_name": "LayoutModel",
      "state": {}
     },
     "310133afa8104798a90c9518716b96dc": {
      "model_module": "@jupyter-widgets/base",
      "model_module_version": "2.0.0",
      "model_name": "LayoutModel",
      "state": {}
     },
     "31aacb49170c41faac563c20843afc7a": {
      "model_module": "@jupyter-widgets/base",
      "model_module_version": "2.0.0",
      "model_name": "LayoutModel",
      "state": {}
     },
     "31ee00614a4b4fefb4809515404b87c6": {
      "model_module": "@jupyter-widgets/controls",
      "model_module_version": "2.0.0",
      "model_name": "ProgressStyleModel",
      "state": {
       "description_width": ""
      }
     },
     "322d906591404273865850242dd3b52a": {
      "model_module": "@jupyter-widgets/controls",
      "model_module_version": "2.0.0",
      "model_name": "FloatProgressModel",
      "state": {
       "bar_style": "success",
       "layout": "IPY_MODEL_60bd806842d64d68bf497250d9782f23",
       "max": 24,
       "style": "IPY_MODEL_63c86c8b3ccc424f9227cf7a02e0abb2",
       "value": 24
      }
     },
     "332c34d536a54480a2c12968458c52e6": {
      "model_module": "@jupyter-widgets/controls",
      "model_module_version": "2.0.0",
      "model_name": "HTMLStyleModel",
      "state": {
       "description_width": "",
       "font_size": null,
       "text_color": null
      }
     },
     "3a82b029a4f7464d96fd6d533ddebfe4": {
      "model_module": "@jupyter-widgets/controls",
      "model_module_version": "2.0.0",
      "model_name": "HTMLModel",
      "state": {
       "layout": "IPY_MODEL_d51f5d6d7b414d9e9fa1bdc59f1fed40",
       "style": "IPY_MODEL_6873664e4ee749ee91a1955d9d7a3a5e",
       "value": "100%"
      }
     },
     "3b1bc675acca4abb806a7370b81a0f80": {
      "model_module": "@jupyter-widgets/controls",
      "model_module_version": "2.0.0",
      "model_name": "HTMLStyleModel",
      "state": {
       "description_width": "",
       "font_size": null,
       "text_color": null
      }
     },
     "3dd67e3cdbfb43c2972f6cd90621d43d": {
      "model_module": "@jupyter-widgets/controls",
      "model_module_version": "2.0.0",
      "model_name": "HTMLStyleModel",
      "state": {
       "description_width": "",
       "font_size": null,
       "text_color": null
      }
     },
     "3f0ac448c3c34e0d8b123118eb7933aa": {
      "model_module": "@jupyter-widgets/controls",
      "model_module_version": "2.0.0",
      "model_name": "HTMLStyleModel",
      "state": {
       "description_width": "",
       "font_size": null,
       "text_color": null
      }
     },
     "3f64ef306500456db218c844a340f0bf": {
      "model_module": "@jupyter-widgets/controls",
      "model_module_version": "2.0.0",
      "model_name": "HTMLStyleModel",
      "state": {
       "description_width": "",
       "font_size": null,
       "text_color": null
      }
     },
     "404225735437479eb515d35385c64566": {
      "model_module": "@jupyter-widgets/controls",
      "model_module_version": "2.0.0",
      "model_name": "FloatProgressModel",
      "state": {
       "layout": "IPY_MODEL_6bda5d4f28994279bee7738cfa44b4fd",
       "max": 16,
       "style": "IPY_MODEL_71fd39baf4074c9e8179af717aeaf2db",
       "value": 7
      }
     },
     "41d948f60f0e4c64bfa963937192ff05": {
      "model_module": "@jupyter-widgets/base",
      "model_module_version": "2.0.0",
      "model_name": "LayoutModel",
      "state": {}
     },
     "43c6a60f2f2040a8a005c462cf36eb02": {
      "model_module": "@jupyter-widgets/controls",
      "model_module_version": "2.0.0",
      "model_name": "HBoxModel",
      "state": {
       "children": [
        "IPY_MODEL_50cb1dd6ac2b4816991021e7354707fa",
        "IPY_MODEL_72ea9ce39e954fb88be19c28273e595d",
        "IPY_MODEL_9ec6a648dab147cf9a909aadab83e895"
       ],
       "layout": "IPY_MODEL_31aacb49170c41faac563c20843afc7a"
      }
     },
     "467b0af2f3a14af783422d4c1ffe2e37": {
      "model_module": "@jupyter-widgets/base",
      "model_module_version": "2.0.0",
      "model_name": "LayoutModel",
      "state": {}
     },
     "4a33b3716b0941c3b586ee9b92fe0d58": {
      "model_module": "@jupyter-widgets/controls",
      "model_module_version": "2.0.0",
      "model_name": "HTMLModel",
      "state": {
       "layout": "IPY_MODEL_8172ee05551d4cdb8b1ce670be6df434",
       "style": "IPY_MODEL_959ee0a159654724a2145eb8c9d084b9",
       "value": " 50%"
      }
     },
     "4dae4e3e455443b8a5ea8bb0e38abc38": {
      "model_module": "@jupyter-widgets/controls",
      "model_module_version": "2.0.0",
      "model_name": "HTMLModel",
      "state": {
       "layout": "IPY_MODEL_e172dd2b27b9474fafa071ebd346e6fd",
       "style": "IPY_MODEL_e4de6f7c9c8c4afdb2c3bdeb5a1da73e",
       "value": " 24/24 [00:00&lt;00:00, 6216.85it/s]"
      }
     },
     "4ee066ad5f4d402ea048da9e8e768d77": {
      "model_module": "@jupyter-widgets/controls",
      "model_module_version": "2.0.0",
      "model_name": "HBoxModel",
      "state": {
       "children": [
        "IPY_MODEL_af105a5a9c654af89e361df4a79a8b18",
        "IPY_MODEL_daf6d481c6ed4a13895c775d822d0242",
        "IPY_MODEL_50f5402ab36c4cd0857b5e96a7eeb30f"
       ],
       "layout": "IPY_MODEL_a52771b4ba7a4d5dbc3fa3171beb8bc1"
      }
     },
     "50a9ac56cb7b4b47a1ec4bec6c8f1b9f": {
      "model_module": "@jupyter-widgets/controls",
      "model_module_version": "2.0.0",
      "model_name": "HTMLStyleModel",
      "state": {
       "description_width": "",
       "font_size": null,
       "text_color": null
      }
     },
     "50cb1dd6ac2b4816991021e7354707fa": {
      "model_module": "@jupyter-widgets/controls",
      "model_module_version": "2.0.0",
      "model_name": "HTMLModel",
      "state": {
       "layout": "IPY_MODEL_8f389f61d8574799be79de57b9da9c7f",
       "style": "IPY_MODEL_68c71b79cde946048532cb1745de0162",
       "value": "100%"
      }
     },
     "50f5402ab36c4cd0857b5e96a7eeb30f": {
      "model_module": "@jupyter-widgets/controls",
      "model_module_version": "2.0.0",
      "model_name": "HTMLModel",
      "state": {
       "layout": "IPY_MODEL_0dc8cccaddd3466685f62cf530a2e32d",
       "style": "IPY_MODEL_af0f83766b264249b04fe32a9c278013",
       "value": " 30/30 [00:00&lt;00:00, 6255.49it/s]"
      }
     },
     "52d1c4450d2c482a81be7167674e59fd": {
      "model_module": "@jupyter-widgets/controls",
      "model_module_version": "2.0.0",
      "model_name": "HTMLModel",
      "state": {
       "layout": "IPY_MODEL_0b1640f03887470d8db0697f71b279a5",
       "style": "IPY_MODEL_bdcb506bd5304193898a0d69b84696b4",
       "value": " 28/28 [00:00&lt;00:00, 6071.47it/s]"
      }
     },
     "532d767b9d3b4a11a17dce8f1688ed9b": {
      "model_module": "@jupyter-widgets/controls",
      "model_module_version": "2.0.0",
      "model_name": "ProgressStyleModel",
      "state": {
       "description_width": ""
      }
     },
     "53a8a534e65c49ea95f28c4383c62e77": {
      "model_module": "@jupyter-widgets/controls",
      "model_module_version": "2.0.0",
      "model_name": "HTMLModel",
      "state": {
       "layout": "IPY_MODEL_d20a28ec1fa5450aaa3116f57a4969f2",
       "style": "IPY_MODEL_e7a0e0cbfdb44f8ebaaab4898eb7e5bb",
       "value": " 7/16 [00:14&lt;00:00, 36.25it/s]"
      }
     },
     "56acbad3ec18465389c8084e847b5d1e": {
      "model_module": "@jupyter-widgets/controls",
      "model_module_version": "2.0.0",
      "model_name": "HTMLModel",
      "state": {
       "layout": "IPY_MODEL_310133afa8104798a90c9518716b96dc",
       "style": "IPY_MODEL_cd244af01c3e4707a75fa3427199f298",
       "value": "100%"
      }
     },
     "56d7aab73ad546698d12e1190ebf89d3": {
      "model_module": "@jupyter-widgets/controls",
      "model_module_version": "2.0.0",
      "model_name": "HTMLStyleModel",
      "state": {
       "description_width": "",
       "font_size": null,
       "text_color": null
      }
     },
     "56f11c401d9749df8743fd8126f2e376": {
      "model_module": "@jupyter-widgets/base",
      "model_module_version": "2.0.0",
      "model_name": "LayoutModel",
      "state": {}
     },
     "57b5d706248f4a048a0840b13eab6933": {
      "model_module": "@jupyter-widgets/base",
      "model_module_version": "2.0.0",
      "model_name": "LayoutModel",
      "state": {}
     },
     "58075d0c5c1d431dba009b2e92efb09b": {
      "model_module": "@jupyter-widgets/base",
      "model_module_version": "2.0.0",
      "model_name": "LayoutModel",
      "state": {}
     },
     "59e96468b0ab4f2daf3ba677a2af75be": {
      "model_module": "@jupyter-widgets/base",
      "model_module_version": "2.0.0",
      "model_name": "LayoutModel",
      "state": {}
     },
     "5b762a3b8d8c408f881e23040afe9d4d": {
      "model_module": "@jupyter-widgets/base",
      "model_module_version": "2.0.0",
      "model_name": "LayoutModel",
      "state": {}
     },
     "5cd1c2a9176243b89760cfdc3370846a": {
      "model_module": "@jupyter-widgets/controls",
      "model_module_version": "2.0.0",
      "model_name": "FloatProgressModel",
      "state": {
       "bar_style": "success",
       "layout": "IPY_MODEL_a7bc7584ec024e2caaefcd0e230540b6",
       "max": 19,
       "style": "IPY_MODEL_804fc20e748c49328ed856d47b7d19ea",
       "value": 19
      }
     },
     "5d5b786ef5824065bbaf0ade2f10ff97": {
      "model_module": "@jupyter-widgets/base",
      "model_module_version": "2.0.0",
      "model_name": "LayoutModel",
      "state": {}
     },
     "5e79b7bc8b4340ff9d35755ba859a2ba": {
      "model_module": "@jupyter-widgets/controls",
      "model_module_version": "2.0.0",
      "model_name": "HBoxModel",
      "state": {
       "children": [
        "IPY_MODEL_63b8750d1dff48e78a596175378f9376",
        "IPY_MODEL_322d906591404273865850242dd3b52a",
        "IPY_MODEL_a8c6939262b640b6b530e8c76959868f"
       ],
       "layout": "IPY_MODEL_58075d0c5c1d431dba009b2e92efb09b"
      }
     },
     "608808626eae492fa91b0d68f47dff04": {
      "model_module": "@jupyter-widgets/base",
      "model_module_version": "2.0.0",
      "model_name": "LayoutModel",
      "state": {}
     },
     "60b697fdd03448cca047db6230e0f5a9": {
      "model_module": "@jupyter-widgets/base",
      "model_module_version": "2.0.0",
      "model_name": "LayoutModel",
      "state": {}
     },
     "60bd806842d64d68bf497250d9782f23": {
      "model_module": "@jupyter-widgets/base",
      "model_module_version": "2.0.0",
      "model_name": "LayoutModel",
      "state": {}
     },
     "62719a7465b345979bb2459d04cebef4": {
      "model_module": "@jupyter-widgets/base",
      "model_module_version": "2.0.0",
      "model_name": "LayoutModel",
      "state": {}
     },
     "63083946b8b84267b420430d950b1930": {
      "model_module": "@jupyter-widgets/base",
      "model_module_version": "2.0.0",
      "model_name": "LayoutModel",
      "state": {}
     },
     "633906c1efea4d78b6d3c80c8dabe668": {
      "model_module": "@jupyter-widgets/controls",
      "model_module_version": "2.0.0",
      "model_name": "HTMLStyleModel",
      "state": {
       "description_width": "",
       "font_size": null,
       "text_color": null
      }
     },
     "63b8750d1dff48e78a596175378f9376": {
      "model_module": "@jupyter-widgets/controls",
      "model_module_version": "2.0.0",
      "model_name": "HTMLModel",
      "state": {
       "layout": "IPY_MODEL_5b762a3b8d8c408f881e23040afe9d4d",
       "style": "IPY_MODEL_dfc93a33fc944a93a224115c6b51164d",
       "value": "100%"
      }
     },
     "63c86c8b3ccc424f9227cf7a02e0abb2": {
      "model_module": "@jupyter-widgets/controls",
      "model_module_version": "2.0.0",
      "model_name": "ProgressStyleModel",
      "state": {
       "description_width": ""
      }
     },
     "647972b9d960422db9c8fd95cdfe4535": {
      "model_module": "@jupyter-widgets/controls",
      "model_module_version": "2.0.0",
      "model_name": "HTMLModel",
      "state": {
       "layout": "IPY_MODEL_b3141d40ec414bb7b062ec6a624a582b",
       "style": "IPY_MODEL_fe5718022ac24b5b9a0955ca9c48dad1",
       "value": "100%"
      }
     },
     "64cc1c7586df4f8aba71918709f35f44": {
      "model_module": "@jupyter-widgets/base",
      "model_module_version": "2.0.0",
      "model_name": "LayoutModel",
      "state": {}
     },
     "654d558cb845478a8603eb1390370944": {
      "model_module": "@jupyter-widgets/controls",
      "model_module_version": "2.0.0",
      "model_name": "ProgressStyleModel",
      "state": {
       "description_width": ""
      }
     },
     "6568ffaad27a4ce3bb540f1fc3440e10": {
      "model_module": "@jupyter-widgets/controls",
      "model_module_version": "2.0.0",
      "model_name": "HBoxModel",
      "state": {
       "children": [
        "IPY_MODEL_9de20635d8a14299b600e5b74dc4ef3b",
        "IPY_MODEL_068d7d8108c54a5b811dffcfaf40239e",
        "IPY_MODEL_8f54ebddba784e1b964877b447e6baa6"
       ],
       "layout": "IPY_MODEL_64cc1c7586df4f8aba71918709f35f44"
      }
     },
     "675e3757f1c448b6808ee2bcef0674af": {
      "model_module": "@jupyter-widgets/controls",
      "model_module_version": "2.0.0",
      "model_name": "HTMLStyleModel",
      "state": {
       "description_width": "",
       "font_size": null,
       "text_color": null
      }
     },
     "6873664e4ee749ee91a1955d9d7a3a5e": {
      "model_module": "@jupyter-widgets/controls",
      "model_module_version": "2.0.0",
      "model_name": "HTMLStyleModel",
      "state": {
       "description_width": "",
       "font_size": null,
       "text_color": null
      }
     },
     "68c71b79cde946048532cb1745de0162": {
      "model_module": "@jupyter-widgets/controls",
      "model_module_version": "2.0.0",
      "model_name": "HTMLStyleModel",
      "state": {
       "description_width": "",
       "font_size": null,
       "text_color": null
      }
     },
     "6b66b2d61eed4e909d292586b67b6658": {
      "model_module": "@jupyter-widgets/controls",
      "model_module_version": "2.0.0",
      "model_name": "HTMLStyleModel",
      "state": {
       "description_width": "",
       "font_size": null,
       "text_color": null
      }
     },
     "6bda5d4f28994279bee7738cfa44b4fd": {
      "model_module": "@jupyter-widgets/base",
      "model_module_version": "2.0.0",
      "model_name": "LayoutModel",
      "state": {}
     },
     "6e600c724d3a4dc1a9a6eb526eaffe5a": {
      "model_module": "@jupyter-widgets/controls",
      "model_module_version": "2.0.0",
      "model_name": "HTMLStyleModel",
      "state": {
       "description_width": "",
       "font_size": null,
       "text_color": null
      }
     },
     "7069efff195840d2b4008ed452839775": {
      "model_module": "@jupyter-widgets/base",
      "model_module_version": "2.0.0",
      "model_name": "LayoutModel",
      "state": {}
     },
     "70aa20bc35f54b12b7b7dd52064adaa4": {
      "model_module": "@jupyter-widgets/controls",
      "model_module_version": "2.0.0",
      "model_name": "FloatProgressModel",
      "state": {
       "bar_style": "success",
       "layout": "IPY_MODEL_7bdff38a044f46b59128ac58175b363f",
       "max": 25,
       "style": "IPY_MODEL_31ee00614a4b4fefb4809515404b87c6",
       "value": 25
      }
     },
     "712b5171e22e4d298a1f95da52aef92e": {
      "model_module": "@jupyter-widgets/controls",
      "model_module_version": "2.0.0",
      "model_name": "FloatProgressModel",
      "state": {
       "bar_style": "success",
       "layout": "IPY_MODEL_13f57927f07149a3b5eaee9a4de745fc",
       "max": 19,
       "style": "IPY_MODEL_654d558cb845478a8603eb1390370944",
       "value": 19
      }
     },
     "71a242330b844e449df0f64b2f978db7": {
      "model_module": "@jupyter-widgets/controls",
      "model_module_version": "2.0.0",
      "model_name": "ProgressStyleModel",
      "state": {
       "description_width": ""
      }
     },
     "71fd39baf4074c9e8179af717aeaf2db": {
      "model_module": "@jupyter-widgets/controls",
      "model_module_version": "2.0.0",
      "model_name": "ProgressStyleModel",
      "state": {
       "description_width": ""
      }
     },
     "72ea9ce39e954fb88be19c28273e595d": {
      "model_module": "@jupyter-widgets/controls",
      "model_module_version": "2.0.0",
      "model_name": "FloatProgressModel",
      "state": {
       "bar_style": "success",
       "layout": "IPY_MODEL_ed014a43707a4ac099f4d3f135b9ae80",
       "max": 30,
       "style": "IPY_MODEL_7ab0ca6df2174cdbaad9417e745f8d4b",
       "value": 30
      }
     },
     "73bc039f53694da9ab33d38f3105ff84": {
      "model_module": "@jupyter-widgets/base",
      "model_module_version": "2.0.0",
      "model_name": "LayoutModel",
      "state": {}
     },
     "74c767383218458094552abeda7cf5a8": {
      "model_module": "@jupyter-widgets/base",
      "model_module_version": "2.0.0",
      "model_name": "LayoutModel",
      "state": {}
     },
     "771258f2a06841048273512fb2b92a74": {
      "model_module": "@jupyter-widgets/controls",
      "model_module_version": "2.0.0",
      "model_name": "HTMLStyleModel",
      "state": {
       "description_width": "",
       "font_size": null,
       "text_color": null
      }
     },
     "775d65fcddfa4df98744cbed7af5047b": {
      "model_module": "@jupyter-widgets/controls",
      "model_module_version": "2.0.0",
      "model_name": "HTMLStyleModel",
      "state": {
       "description_width": "",
       "font_size": null,
       "text_color": null
      }
     },
     "77f335d26be2432397efb1303bb698c1": {
      "model_module": "@jupyter-widgets/controls",
      "model_module_version": "2.0.0",
      "model_name": "HTMLModel",
      "state": {
       "layout": "IPY_MODEL_784a28847f1949dfafeb9b522357f35a",
       "style": "IPY_MODEL_6e600c724d3a4dc1a9a6eb526eaffe5a",
       "value": " 21/21 [00:00&lt;00:00, 4597.82it/s]"
      }
     },
     "784a28847f1949dfafeb9b522357f35a": {
      "model_module": "@jupyter-widgets/base",
      "model_module_version": "2.0.0",
      "model_name": "LayoutModel",
      "state": {}
     },
     "79cb3d063c1f4c30a06980674c9cb75b": {
      "model_module": "@jupyter-widgets/controls",
      "model_module_version": "2.0.0",
      "model_name": "HTMLModel",
      "state": {
       "layout": "IPY_MODEL_8705a5cdd2724831898adc95b6bac5ea",
       "style": "IPY_MODEL_98227771dc6444e6a6cf6cc3969ff139",
       "value": " 22/22 [00:00&lt;00:00, 4719.93it/s]"
      }
     },
     "7a1b1f4cbceb41e09dad9b8724d74046": {
      "model_module": "@jupyter-widgets/controls",
      "model_module_version": "2.0.0",
      "model_name": "HTMLModel",
      "state": {
       "layout": "IPY_MODEL_d81089cf727e4dc197b8556d832ad319",
       "style": "IPY_MODEL_50a9ac56cb7b4b47a1ec4bec6c8f1b9f",
       "value": "  0%"
      }
     },
     "7a5dabbab74a4cfdaebba473209a986e": {
      "model_module": "@jupyter-widgets/controls",
      "model_module_version": "2.0.0",
      "model_name": "HTMLModel",
      "state": {
       "layout": "IPY_MODEL_1191615f21194ca48fb25f9533117b87",
       "style": "IPY_MODEL_3f64ef306500456db218c844a340f0bf",
       "value": "100%"
      }
     },
     "7a95a0bbf7cb44e7a52c9a15f1931e77": {
      "model_module": "@jupyter-widgets/controls",
      "model_module_version": "2.0.0",
      "model_name": "HTMLStyleModel",
      "state": {
       "description_width": "",
       "font_size": null,
       "text_color": null
      }
     },
     "7ab0ca6df2174cdbaad9417e745f8d4b": {
      "model_module": "@jupyter-widgets/controls",
      "model_module_version": "2.0.0",
      "model_name": "ProgressStyleModel",
      "state": {
       "description_width": ""
      }
     },
     "7b66585299d44751a2913a1311245c98": {
      "model_module": "@jupyter-widgets/controls",
      "model_module_version": "2.0.0",
      "model_name": "HTMLModel",
      "state": {
       "layout": "IPY_MODEL_59e96468b0ab4f2daf3ba677a2af75be",
       "style": "IPY_MODEL_775d65fcddfa4df98744cbed7af5047b",
       "value": " 19/19 [00:00&lt;00:00, 4907.73it/s]"
      }
     },
     "7bdff38a044f46b59128ac58175b363f": {
      "model_module": "@jupyter-widgets/base",
      "model_module_version": "2.0.0",
      "model_name": "LayoutModel",
      "state": {}
     },
     "7fa6e2baf01f48758b14ecff82b6b66a": {
      "model_module": "@jupyter-widgets/base",
      "model_module_version": "2.0.0",
      "model_name": "LayoutModel",
      "state": {}
     },
     "8035368fdc6a49e1af25ca1b63934af5": {
      "model_module": "@jupyter-widgets/base",
      "model_module_version": "2.0.0",
      "model_name": "LayoutModel",
      "state": {}
     },
     "804fc20e748c49328ed856d47b7d19ea": {
      "model_module": "@jupyter-widgets/controls",
      "model_module_version": "2.0.0",
      "model_name": "ProgressStyleModel",
      "state": {
       "description_width": ""
      }
     },
     "80b54d27120c4447b7b71e3cfd236efd": {
      "model_module": "@jupyter-widgets/controls",
      "model_module_version": "2.0.0",
      "model_name": "HTMLModel",
      "state": {
       "layout": "IPY_MODEL_a4a25dc88180447198f5a050be8405be",
       "style": "IPY_MODEL_6b66b2d61eed4e909d292586b67b6658",
       "value": "100%"
      }
     },
     "8172ee05551d4cdb8b1ce670be6df434": {
      "model_module": "@jupyter-widgets/base",
      "model_module_version": "2.0.0",
      "model_name": "LayoutModel",
      "state": {}
     },
     "81c0b3cd02ed450b85da6325254eeeb7": {
      "model_module": "@jupyter-widgets/base",
      "model_module_version": "2.0.0",
      "model_name": "LayoutModel",
      "state": {}
     },
     "82be5b1d854048a7ab1139592f4b3b95": {
      "model_module": "@jupyter-widgets/controls",
      "model_module_version": "2.0.0",
      "model_name": "HTMLModel",
      "state": {
       "layout": "IPY_MODEL_d5af07ad383945ee95ff113055051f4f",
       "style": "IPY_MODEL_ebbe757b21d34be8b2a456a90366d590",
       "value": " 25/25 [00:00&lt;00:00, 5703.74it/s]"
      }
     },
     "838579736d9843b1b8de4a1bb2a51e0e": {
      "model_module": "@jupyter-widgets/controls",
      "model_module_version": "2.0.0",
      "model_name": "HTMLModel",
      "state": {
       "layout": "IPY_MODEL_8559eedee97d402a824f10eb01e6e6d0",
       "style": "IPY_MODEL_332c34d536a54480a2c12968458c52e6",
       "value": "100%"
      }
     },
     "83fb5c716e7f4ca0bd2f957f71bd76c3": {
      "model_module": "@jupyter-widgets/base",
      "model_module_version": "2.0.0",
      "model_name": "LayoutModel",
      "state": {}
     },
     "846febd8930547d7bf823150f4ffae3c": {
      "model_module": "@jupyter-widgets/controls",
      "model_module_version": "2.0.0",
      "model_name": "HTMLStyleModel",
      "state": {
       "description_width": "",
       "font_size": null,
       "text_color": null
      }
     },
     "8559eedee97d402a824f10eb01e6e6d0": {
      "model_module": "@jupyter-widgets/base",
      "model_module_version": "2.0.0",
      "model_name": "LayoutModel",
      "state": {}
     },
     "8705a5cdd2724831898adc95b6bac5ea": {
      "model_module": "@jupyter-widgets/base",
      "model_module_version": "2.0.0",
      "model_name": "LayoutModel",
      "state": {}
     },
     "89a35e74cfa549818bc55c018ec41b3c": {
      "model_module": "@jupyter-widgets/controls",
      "model_module_version": "2.0.0",
      "model_name": "ProgressStyleModel",
      "state": {
       "description_width": ""
      }
     },
     "8b1495c7cebe4bcf94888e3fe1e252e5": {
      "model_module": "@jupyter-widgets/controls",
      "model_module_version": "2.0.0",
      "model_name": "ProgressStyleModel",
      "state": {
       "description_width": ""
      }
     },
     "8b6f74e2cce947dbba9ffcdc474f7266": {
      "model_module": "@jupyter-widgets/base",
      "model_module_version": "2.0.0",
      "model_name": "LayoutModel",
      "state": {}
     },
     "8d94afbed6614ee0849652a2dad3f4a5": {
      "model_module": "@jupyter-widgets/controls",
      "model_module_version": "2.0.0",
      "model_name": "HTMLModel",
      "state": {
       "layout": "IPY_MODEL_fdbe092b69a8442c9181ff00d44002cf",
       "style": "IPY_MODEL_3b1bc675acca4abb806a7370b81a0f80",
       "value": "100%"
      }
     },
     "8f389f61d8574799be79de57b9da9c7f": {
      "model_module": "@jupyter-widgets/base",
      "model_module_version": "2.0.0",
      "model_name": "LayoutModel",
      "state": {}
     },
     "8f406ac3eb2b4167b88ce6fd524eff02": {
      "model_module": "@jupyter-widgets/base",
      "model_module_version": "2.0.0",
      "model_name": "LayoutModel",
      "state": {}
     },
     "8f54ebddba784e1b964877b447e6baa6": {
      "model_module": "@jupyter-widgets/controls",
      "model_module_version": "2.0.0",
      "model_name": "HTMLModel",
      "state": {
       "layout": "IPY_MODEL_f95e7c0d663b400fa37d209004544470",
       "style": "IPY_MODEL_959bb62649a2494686094b004961b7f0",
       "value": " 28/28 [00:00&lt;00:00, 6803.41it/s]"
      }
     },
     "8fa672379414479daa47f8ed7f425379": {
      "model_module": "@jupyter-widgets/controls",
      "model_module_version": "2.0.0",
      "model_name": "HBoxModel",
      "state": {
       "children": [
        "IPY_MODEL_d0542643d2cb4139a75cbffaecf21757",
        "IPY_MODEL_bd99c05ddbbf44aab164b990128f3420",
        "IPY_MODEL_79cb3d063c1f4c30a06980674c9cb75b"
       ],
       "layout": "IPY_MODEL_81c0b3cd02ed450b85da6325254eeeb7"
      }
     },
     "90daa5625664457289fda9a570b1399e": {
      "model_module": "@jupyter-widgets/controls",
      "model_module_version": "2.0.0",
      "model_name": "FloatProgressModel",
      "state": {
       "bar_style": "success",
       "layout": "IPY_MODEL_f6ecccb08b974283aa130f95026428cb",
       "max": 21,
       "style": "IPY_MODEL_71a242330b844e449df0f64b2f978db7",
       "value": 21
      }
     },
     "930a863ee24b4764937d73a0d0b35c5d": {
      "model_module": "@jupyter-widgets/controls",
      "model_module_version": "2.0.0",
      "model_name": "HTMLStyleModel",
      "state": {
       "description_width": "",
       "font_size": null,
       "text_color": null
      }
     },
     "933323d0cd844d7eae9b833c9bfcbc7a": {
      "model_module": "@jupyter-widgets/base",
      "model_module_version": "2.0.0",
      "model_name": "LayoutModel",
      "state": {}
     },
     "942351909d0847628fc9064e51e9efb7": {
      "model_module": "@jupyter-widgets/base",
      "model_module_version": "2.0.0",
      "model_name": "LayoutModel",
      "state": {}
     },
     "959bb62649a2494686094b004961b7f0": {
      "model_module": "@jupyter-widgets/controls",
      "model_module_version": "2.0.0",
      "model_name": "HTMLStyleModel",
      "state": {
       "description_width": "",
       "font_size": null,
       "text_color": null
      }
     },
     "959ee0a159654724a2145eb8c9d084b9": {
      "model_module": "@jupyter-widgets/controls",
      "model_module_version": "2.0.0",
      "model_name": "HTMLStyleModel",
      "state": {
       "description_width": "",
       "font_size": null,
       "text_color": null
      }
     },
     "95b437973d1f40acb2d0cfeba75893bc": {
      "model_module": "@jupyter-widgets/controls",
      "model_module_version": "2.0.0",
      "model_name": "HTMLStyleModel",
      "state": {
       "description_width": "",
       "font_size": null,
       "text_color": null
      }
     },
     "95bb6baeb60e4aeab8359879382c8e73": {
      "model_module": "@jupyter-widgets/base",
      "model_module_version": "2.0.0",
      "model_name": "LayoutModel",
      "state": {}
     },
     "98227771dc6444e6a6cf6cc3969ff139": {
      "model_module": "@jupyter-widgets/controls",
      "model_module_version": "2.0.0",
      "model_name": "HTMLStyleModel",
      "state": {
       "description_width": "",
       "font_size": null,
       "text_color": null
      }
     },
     "9ae97351248f4fcd9d7ffec6ef6fc66a": {
      "model_module": "@jupyter-widgets/controls",
      "model_module_version": "2.0.0",
      "model_name": "HBoxModel",
      "state": {
       "children": [
        "IPY_MODEL_7a5dabbab74a4cfdaebba473209a986e",
        "IPY_MODEL_019efd3abfaf449f90bc4e2419e97d84",
        "IPY_MODEL_b4b156c02f27467bbf66edea7995d021"
       ],
       "layout": "IPY_MODEL_a3e101c64d4e403e9a8f0f30966d7528"
      }
     },
     "9bfc0fbbe907411682d8f6fbd3ff3b5c": {
      "model_module": "@jupyter-widgets/controls",
      "model_module_version": "2.0.0",
      "model_name": "ProgressStyleModel",
      "state": {
       "description_width": ""
      }
     },
     "9cafe2f9352e4142aaa6aae33fd113fe": {
      "model_module": "@jupyter-widgets/controls",
      "model_module_version": "2.0.0",
      "model_name": "HTMLModel",
      "state": {
       "layout": "IPY_MODEL_be2dbb8a876b475f81918be47258737a",
       "style": "IPY_MODEL_1b5af72876ef4a4ea02b42370d798860",
       "value": "100%"
      }
     },
     "9de20635d8a14299b600e5b74dc4ef3b": {
      "model_module": "@jupyter-widgets/controls",
      "model_module_version": "2.0.0",
      "model_name": "HTMLModel",
      "state": {
       "layout": "IPY_MODEL_57b5d706248f4a048a0840b13eab6933",
       "style": "IPY_MODEL_fce806ac73224b399c8724f8c7bc97c6",
       "value": "100%"
      }
     },
     "9ec6a648dab147cf9a909aadab83e895": {
      "model_module": "@jupyter-widgets/controls",
      "model_module_version": "2.0.0",
      "model_name": "HTMLModel",
      "state": {
       "layout": "IPY_MODEL_c0dc8ba9fc624f45a890b677a81527f7",
       "style": "IPY_MODEL_930a863ee24b4764937d73a0d0b35c5d",
       "value": " 30/30 [00:00&lt;00:00, 7320.33it/s]"
      }
     },
     "a010f8415b9140fd9851f8976fa1b01a": {
      "model_module": "@jupyter-widgets/base",
      "model_module_version": "2.0.0",
      "model_name": "LayoutModel",
      "state": {}
     },
     "a0a18912938849328eaeed3a3b56e568": {
      "model_module": "@jupyter-widgets/controls",
      "model_module_version": "2.0.0",
      "model_name": "FloatProgressModel",
      "state": {
       "bar_style": "success",
       "layout": "IPY_MODEL_f03cd6a734044cd4a575a86860b7d027",
       "max": 21,
       "style": "IPY_MODEL_8b1495c7cebe4bcf94888e3fe1e252e5",
       "value": 21
      }
     },
     "a38e0664f6244c998579aa13a2ae30fe": {
      "model_module": "@jupyter-widgets/controls",
      "model_module_version": "2.0.0",
      "model_name": "HTMLModel",
      "state": {
       "layout": "IPY_MODEL_2f86f510a39f4e00be046ec19b1e43d8",
       "style": "IPY_MODEL_0cf24b3f362a423f9ec09410b2da7ab9",
       "value": " 16/16 [00:00&lt;00:00, 3303.58it/s]"
      }
     },
     "a3e101c64d4e403e9a8f0f30966d7528": {
      "model_module": "@jupyter-widgets/base",
      "model_module_version": "2.0.0",
      "model_name": "LayoutModel",
      "state": {}
     },
     "a4a25dc88180447198f5a050be8405be": {
      "model_module": "@jupyter-widgets/base",
      "model_module_version": "2.0.0",
      "model_name": "LayoutModel",
      "state": {}
     },
     "a52771b4ba7a4d5dbc3fa3171beb8bc1": {
      "model_module": "@jupyter-widgets/base",
      "model_module_version": "2.0.0",
      "model_name": "LayoutModel",
      "state": {}
     },
     "a749689397134443af37b1ccfa7d8e22": {
      "model_module": "@jupyter-widgets/base",
      "model_module_version": "2.0.0",
      "model_name": "LayoutModel",
      "state": {}
     },
     "a754ff99a9e944f5bb77346fa5c7f123": {
      "model_module": "@jupyter-widgets/controls",
      "model_module_version": "2.0.0",
      "model_name": "HBoxModel",
      "state": {
       "children": [
        "IPY_MODEL_647972b9d960422db9c8fd95cdfe4535",
        "IPY_MODEL_712b5171e22e4d298a1f95da52aef92e",
        "IPY_MODEL_e3d303158a894b048f99bf8984a6692a"
       ],
       "layout": "IPY_MODEL_e13edb15c632454c9310b053d1e7bbc0"
      }
     },
     "a7bc7584ec024e2caaefcd0e230540b6": {
      "model_module": "@jupyter-widgets/base",
      "model_module_version": "2.0.0",
      "model_name": "LayoutModel",
      "state": {}
     },
     "a7c3f7819f1b47eea4b42edaac6b1da6": {
      "model_module": "@jupyter-widgets/controls",
      "model_module_version": "2.0.0",
      "model_name": "HBoxModel",
      "state": {
       "children": [
        "IPY_MODEL_838579736d9843b1b8de4a1bb2a51e0e",
        "IPY_MODEL_0cb5caf71dc4422ba63c318519d70091",
        "IPY_MODEL_82be5b1d854048a7ab1139592f4b3b95"
       ],
       "layout": "IPY_MODEL_5d5b786ef5824065bbaf0ade2f10ff97"
      }
     },
     "a828884198844f77817f20f9e1170c52": {
      "model_module": "@jupyter-widgets/controls",
      "model_module_version": "2.0.0",
      "model_name": "HTMLModel",
      "state": {
       "layout": "IPY_MODEL_b02bad64890347c19336c3d74e8a7fe4",
       "style": "IPY_MODEL_f0c93b13e434427898f8f87f8aa3ef25",
       "value": " 8/16 [00:26&lt;00:00, 33.20it/s]"
      }
     },
     "a8c6939262b640b6b530e8c76959868f": {
      "model_module": "@jupyter-widgets/controls",
      "model_module_version": "2.0.0",
      "model_name": "HTMLModel",
      "state": {
       "layout": "IPY_MODEL_608808626eae492fa91b0d68f47dff04",
       "style": "IPY_MODEL_3dd67e3cdbfb43c2972f6cd90621d43d",
       "value": " 24/24 [00:00&lt;00:00, 5641.30it/s]"
      }
     },
     "a8c890c01841474aa7bc13026223fb0f": {
      "model_module": "@jupyter-widgets/controls",
      "model_module_version": "2.0.0",
      "model_name": "ProgressStyleModel",
      "state": {
       "description_width": ""
      }
     },
     "aa81b75260164f4ea21dd43717be0ecd": {
      "model_module": "@jupyter-widgets/controls",
      "model_module_version": "2.0.0",
      "model_name": "ProgressStyleModel",
      "state": {
       "description_width": ""
      }
     },
     "af0f83766b264249b04fe32a9c278013": {
      "model_module": "@jupyter-widgets/controls",
      "model_module_version": "2.0.0",
      "model_name": "HTMLStyleModel",
      "state": {
       "description_width": "",
       "font_size": null,
       "text_color": null
      }
     },
     "af105a5a9c654af89e361df4a79a8b18": {
      "model_module": "@jupyter-widgets/controls",
      "model_module_version": "2.0.0",
      "model_name": "HTMLModel",
      "state": {
       "layout": "IPY_MODEL_064928844e9a4e7e922d917d81e44ff8",
       "style": "IPY_MODEL_56d7aab73ad546698d12e1190ebf89d3",
       "value": "100%"
      }
     },
     "afd1e2cdc57b4d4a98c877c4653e0172": {
      "model_module": "@jupyter-widgets/controls",
      "model_module_version": "2.0.0",
      "model_name": "HTMLStyleModel",
      "state": {
       "description_width": "",
       "font_size": null,
       "text_color": null
      }
     },
     "b02bad64890347c19336c3d74e8a7fe4": {
      "model_module": "@jupyter-widgets/base",
      "model_module_version": "2.0.0",
      "model_name": "LayoutModel",
      "state": {}
     },
     "b1a6d4e3356745ae958ff6446309c1d2": {
      "model_module": "@jupyter-widgets/base",
      "model_module_version": "2.0.0",
      "model_name": "LayoutModel",
      "state": {}
     },
     "b3141d40ec414bb7b062ec6a624a582b": {
      "model_module": "@jupyter-widgets/base",
      "model_module_version": "2.0.0",
      "model_name": "LayoutModel",
      "state": {}
     },
     "b4b156c02f27467bbf66edea7995d021": {
      "model_module": "@jupyter-widgets/controls",
      "model_module_version": "2.0.0",
      "model_name": "HTMLModel",
      "state": {
       "layout": "IPY_MODEL_f42a7f7b438a4d0094338b4f0ea4c693",
       "style": "IPY_MODEL_846febd8930547d7bf823150f4ffae3c",
       "value": " 22/22 [00:00&lt;00:00, 4752.26it/s]"
      }
     },
     "b6a5756b0fa947afb2feeb22d11561fb": {
      "model_module": "@jupyter-widgets/controls",
      "model_module_version": "2.0.0",
      "model_name": "HBoxModel",
      "state": {
       "children": [
        "IPY_MODEL_3a82b029a4f7464d96fd6d533ddebfe4",
        "IPY_MODEL_05222193081f48b9be6bfc7d641ebb74",
        "IPY_MODEL_c14549c00be84f719516191adadd76af"
       ],
       "layout": "IPY_MODEL_b998b321bb394e99b5da2b9e2c99fe36"
      }
     },
     "b85fc632bd20492bbeafd934d3fa780b": {
      "model_module": "@jupyter-widgets/controls",
      "model_module_version": "2.0.0",
      "model_name": "HTMLModel",
      "state": {
       "layout": "IPY_MODEL_e123b16936ce457f81878628d2d962a7",
       "style": "IPY_MODEL_ce9ffc395b094eaf9137ed0f69d4c526",
       "value": " 25/25 [00:00&lt;00:00, 6465.11it/s]"
      }
     },
     "b966765fd8f74fe7914e11eec54a10b9": {
      "model_module": "@jupyter-widgets/controls",
      "model_module_version": "2.0.0",
      "model_name": "HBoxModel",
      "state": {
       "children": [
        "IPY_MODEL_4a33b3716b0941c3b586ee9b92fe0d58",
        "IPY_MODEL_0325659ee95e49a5b91b3b5d00ed7438",
        "IPY_MODEL_a828884198844f77817f20f9e1170c52"
       ],
       "layout": "IPY_MODEL_f03f2a5969d14a1db67bbfe9d28fa7cc"
      }
     },
     "b98c2c2cc31f4c51931fe91d56435ca1": {
      "model_module": "@jupyter-widgets/controls",
      "model_module_version": "2.0.0",
      "model_name": "HBoxModel",
      "state": {
       "children": [
        "IPY_MODEL_8d94afbed6614ee0849652a2dad3f4a5",
        "IPY_MODEL_5cd1c2a9176243b89760cfdc3370846a",
        "IPY_MODEL_7b66585299d44751a2913a1311245c98"
       ],
       "layout": "IPY_MODEL_b1a6d4e3356745ae958ff6446309c1d2"
      }
     },
     "b998b321bb394e99b5da2b9e2c99fe36": {
      "model_module": "@jupyter-widgets/base",
      "model_module_version": "2.0.0",
      "model_name": "LayoutModel",
      "state": {}
     },
     "b9c8d4aba50241e4873535d5253bc431": {
      "model_module": "@jupyter-widgets/controls",
      "model_module_version": "2.0.0",
      "model_name": "ProgressStyleModel",
      "state": {
       "description_width": ""
      }
     },
     "bd99c05ddbbf44aab164b990128f3420": {
      "model_module": "@jupyter-widgets/controls",
      "model_module_version": "2.0.0",
      "model_name": "FloatProgressModel",
      "state": {
       "bar_style": "success",
       "layout": "IPY_MODEL_8035368fdc6a49e1af25ca1b63934af5",
       "max": 22,
       "style": "IPY_MODEL_ddf9183cedc5426e889abf3bf4539d1e",
       "value": 22
      }
     },
     "bdcb506bd5304193898a0d69b84696b4": {
      "model_module": "@jupyter-widgets/controls",
      "model_module_version": "2.0.0",
      "model_name": "HTMLStyleModel",
      "state": {
       "description_width": "",
       "font_size": null,
       "text_color": null
      }
     },
     "be2dbb8a876b475f81918be47258737a": {
      "model_module": "@jupyter-widgets/base",
      "model_module_version": "2.0.0",
      "model_name": "LayoutModel",
      "state": {}
     },
     "c0467c436bdf4576b7072a658154b8eb": {
      "model_module": "@jupyter-widgets/controls",
      "model_module_version": "2.0.0",
      "model_name": "FloatProgressModel",
      "state": {
       "bar_style": "success",
       "layout": "IPY_MODEL_f156c7882d814602b5c577a8ef7eba94",
       "max": 28,
       "style": "IPY_MODEL_aa81b75260164f4ea21dd43717be0ecd",
       "value": 28
      }
     },
     "c080db3fe74a4fddad2f70f4c3b066c9": {
      "model_module": "@jupyter-widgets/controls",
      "model_module_version": "2.0.0",
      "model_name": "HTMLStyleModel",
      "state": {
       "description_width": "",
       "font_size": null,
       "text_color": null
      }
     },
     "c0dc8ba9fc624f45a890b677a81527f7": {
      "model_module": "@jupyter-widgets/base",
      "model_module_version": "2.0.0",
      "model_name": "LayoutModel",
      "state": {}
     },
     "c14549c00be84f719516191adadd76af": {
      "model_module": "@jupyter-widgets/controls",
      "model_module_version": "2.0.0",
      "model_name": "HTMLModel",
      "state": {
       "layout": "IPY_MODEL_60b697fdd03448cca047db6230e0f5a9",
       "style": "IPY_MODEL_afd1e2cdc57b4d4a98c877c4653e0172",
       "value": " 16/16 [00:00&lt;00:00, 3209.72it/s]"
      }
     },
     "c3bd6287007c4a17a79275daa2b1ae2b": {
      "model_module": "@jupyter-widgets/controls",
      "model_module_version": "2.0.0",
      "model_name": "HTMLModel",
      "state": {
       "layout": "IPY_MODEL_467b0af2f3a14af783422d4c1ffe2e37",
       "style": "IPY_MODEL_771258f2a06841048273512fb2b92a74",
       "value": "100%"
      }
     },
     "c6c89e3d686147bfa3a0d64a53401913": {
      "model_module": "@jupyter-widgets/base",
      "model_module_version": "2.0.0",
      "model_name": "LayoutModel",
      "state": {}
     },
     "cba3272c3ca04cc6b44412aeb7b03d6e": {
      "model_module": "@jupyter-widgets/controls",
      "model_module_version": "2.0.0",
      "model_name": "HTMLStyleModel",
      "state": {
       "description_width": "",
       "font_size": null,
       "text_color": null
      }
     },
     "cd244af01c3e4707a75fa3427199f298": {
      "model_module": "@jupyter-widgets/controls",
      "model_module_version": "2.0.0",
      "model_name": "HTMLStyleModel",
      "state": {
       "description_width": "",
       "font_size": null,
       "text_color": null
      }
     },
     "ce9ffc395b094eaf9137ed0f69d4c526": {
      "model_module": "@jupyter-widgets/controls",
      "model_module_version": "2.0.0",
      "model_name": "HTMLStyleModel",
      "state": {
       "description_width": "",
       "font_size": null,
       "text_color": null
      }
     },
     "cf2b43396da34f09b4fa9163b0d268d7": {
      "model_module": "@jupyter-widgets/controls",
      "model_module_version": "2.0.0",
      "model_name": "HBoxModel",
      "state": {
       "children": [
        "IPY_MODEL_12b05791535a4222830d69a025e7c76f",
        "IPY_MODEL_404225735437479eb515d35385c64566",
        "IPY_MODEL_53a8a534e65c49ea95f28c4383c62e77"
       ],
       "layout": "IPY_MODEL_e869b2e5fca443f2abce088213b5b3a3"
      }
     },
     "d0542643d2cb4139a75cbffaecf21757": {
      "model_module": "@jupyter-widgets/controls",
      "model_module_version": "2.0.0",
      "model_name": "HTMLModel",
      "state": {
       "layout": "IPY_MODEL_ee8d0ef1e6374952a0ab056b4fe78936",
       "style": "IPY_MODEL_f164dc377ac14ef88d42367a75820482",
       "value": "100%"
      }
     },
     "d20a28ec1fa5450aaa3116f57a4969f2": {
      "model_module": "@jupyter-widgets/base",
      "model_module_version": "2.0.0",
      "model_name": "LayoutModel",
      "state": {}
     },
     "d4eab8e28aea4048b6742decdc83b75c": {
      "model_module": "@jupyter-widgets/controls",
      "model_module_version": "2.0.0",
      "model_name": "ProgressStyleModel",
      "state": {
       "description_width": ""
      }
     },
     "d51f5d6d7b414d9e9fa1bdc59f1fed40": {
      "model_module": "@jupyter-widgets/base",
      "model_module_version": "2.0.0",
      "model_name": "LayoutModel",
      "state": {}
     },
     "d5af07ad383945ee95ff113055051f4f": {
      "model_module": "@jupyter-widgets/base",
      "model_module_version": "2.0.0",
      "model_name": "LayoutModel",
      "state": {}
     },
     "d81089cf727e4dc197b8556d832ad319": {
      "model_module": "@jupyter-widgets/base",
      "model_module_version": "2.0.0",
      "model_name": "LayoutModel",
      "state": {}
     },
     "d854a6aa89aa4b0b85b74e6571610fa5": {
      "model_module": "@jupyter-widgets/base",
      "model_module_version": "2.0.0",
      "model_name": "LayoutModel",
      "state": {}
     },
     "daf6d481c6ed4a13895c775d822d0242": {
      "model_module": "@jupyter-widgets/controls",
      "model_module_version": "2.0.0",
      "model_name": "FloatProgressModel",
      "state": {
       "bar_style": "success",
       "layout": "IPY_MODEL_942351909d0847628fc9064e51e9efb7",
       "max": 30,
       "style": "IPY_MODEL_532d767b9d3b4a11a17dce8f1688ed9b",
       "value": 30
      }
     },
     "ddf9183cedc5426e889abf3bf4539d1e": {
      "model_module": "@jupyter-widgets/controls",
      "model_module_version": "2.0.0",
      "model_name": "ProgressStyleModel",
      "state": {
       "description_width": ""
      }
     },
     "dfc93a33fc944a93a224115c6b51164d": {
      "model_module": "@jupyter-widgets/controls",
      "model_module_version": "2.0.0",
      "model_name": "HTMLStyleModel",
      "state": {
       "description_width": "",
       "font_size": null,
       "text_color": null
      }
     },
     "e09a0c50b3bb4e2ebaba70054dcbbedb": {
      "model_module": "@jupyter-widgets/controls",
      "model_module_version": "2.0.0",
      "model_name": "ProgressStyleModel",
      "state": {
       "description_width": ""
      }
     },
     "e123b16936ce457f81878628d2d962a7": {
      "model_module": "@jupyter-widgets/base",
      "model_module_version": "2.0.0",
      "model_name": "LayoutModel",
      "state": {}
     },
     "e13edb15c632454c9310b053d1e7bbc0": {
      "model_module": "@jupyter-widgets/base",
      "model_module_version": "2.0.0",
      "model_name": "LayoutModel",
      "state": {}
     },
     "e172dd2b27b9474fafa071ebd346e6fd": {
      "model_module": "@jupyter-widgets/base",
      "model_module_version": "2.0.0",
      "model_name": "LayoutModel",
      "state": {}
     },
     "e177331cfd7d4d868394e0e7cc0c4f76": {
      "model_module": "@jupyter-widgets/controls",
      "model_module_version": "2.0.0",
      "model_name": "HBoxModel",
      "state": {
       "children": [
        "IPY_MODEL_c3bd6287007c4a17a79275daa2b1ae2b",
        "IPY_MODEL_175f4a5c23fd4e33839d75ea09bd0b63",
        "IPY_MODEL_4dae4e3e455443b8a5ea8bb0e38abc38"
       ],
       "layout": "IPY_MODEL_8f406ac3eb2b4167b88ce6fd524eff02"
      }
     },
     "e2a61ed939434f548f885aeed891b133": {
      "model_module": "@jupyter-widgets/controls",
      "model_module_version": "2.0.0",
      "model_name": "HBoxModel",
      "state": {
       "children": [
        "IPY_MODEL_e70e8ca28423417ea0a6c2f799216e83",
        "IPY_MODEL_05ed74a6ba944337bebcb2fac08c00de",
        "IPY_MODEL_f3243b172bfd416289669c713857c8f2"
       ],
       "layout": "IPY_MODEL_7069efff195840d2b4008ed452839775"
      }
     },
     "e3d303158a894b048f99bf8984a6692a": {
      "model_module": "@jupyter-widgets/controls",
      "model_module_version": "2.0.0",
      "model_name": "HTMLModel",
      "state": {
       "layout": "IPY_MODEL_a749689397134443af37b1ccfa7d8e22",
       "style": "IPY_MODEL_3f0ac448c3c34e0d8b123118eb7933aa",
       "value": " 19/19 [00:00&lt;00:00, 4071.10it/s]"
      }
     },
     "e4de6f7c9c8c4afdb2c3bdeb5a1da73e": {
      "model_module": "@jupyter-widgets/controls",
      "model_module_version": "2.0.0",
      "model_name": "HTMLStyleModel",
      "state": {
       "description_width": "",
       "font_size": null,
       "text_color": null
      }
     },
     "e70e8ca28423417ea0a6c2f799216e83": {
      "model_module": "@jupyter-widgets/controls",
      "model_module_version": "2.0.0",
      "model_name": "HTMLModel",
      "state": {
       "layout": "IPY_MODEL_c6c89e3d686147bfa3a0d64a53401913",
       "style": "IPY_MODEL_7a95a0bbf7cb44e7a52c9a15f1931e77",
       "value": " 10%"
      }
     },
     "e7a0e0cbfdb44f8ebaaab4898eb7e5bb": {
      "model_module": "@jupyter-widgets/controls",
      "model_module_version": "2.0.0",
      "model_name": "HTMLStyleModel",
      "state": {
       "description_width": "",
       "font_size": null,
       "text_color": null
      }
     },
     "e869b2e5fca443f2abce088213b5b3a3": {
      "model_module": "@jupyter-widgets/base",
      "model_module_version": "2.0.0",
      "model_name": "LayoutModel",
      "state": {}
     },
     "e8bc898cab2647f99dc9e0276a4c5802": {
      "model_module": "@jupyter-widgets/controls",
      "model_module_version": "2.0.0",
      "model_name": "HTMLStyleModel",
      "state": {
       "description_width": "",
       "font_size": null,
       "text_color": null
      }
     },
     "ebbe757b21d34be8b2a456a90366d590": {
      "model_module": "@jupyter-widgets/controls",
      "model_module_version": "2.0.0",
      "model_name": "HTMLStyleModel",
      "state": {
       "description_width": "",
       "font_size": null,
       "text_color": null
      }
     },
     "ed014a43707a4ac099f4d3f135b9ae80": {
      "model_module": "@jupyter-widgets/base",
      "model_module_version": "2.0.0",
      "model_name": "LayoutModel",
      "state": {}
     },
     "ee8d0ef1e6374952a0ab056b4fe78936": {
      "model_module": "@jupyter-widgets/base",
      "model_module_version": "2.0.0",
      "model_name": "LayoutModel",
      "state": {}
     },
     "f03cd6a734044cd4a575a86860b7d027": {
      "model_module": "@jupyter-widgets/base",
      "model_module_version": "2.0.0",
      "model_name": "LayoutModel",
      "state": {}
     },
     "f03f2a5969d14a1db67bbfe9d28fa7cc": {
      "model_module": "@jupyter-widgets/base",
      "model_module_version": "2.0.0",
      "model_name": "LayoutModel",
      "state": {}
     },
     "f0c93b13e434427898f8f87f8aa3ef25": {
      "model_module": "@jupyter-widgets/controls",
      "model_module_version": "2.0.0",
      "model_name": "HTMLStyleModel",
      "state": {
       "description_width": "",
       "font_size": null,
       "text_color": null
      }
     },
     "f156c7882d814602b5c577a8ef7eba94": {
      "model_module": "@jupyter-widgets/base",
      "model_module_version": "2.0.0",
      "model_name": "LayoutModel",
      "state": {}
     },
     "f164dc377ac14ef88d42367a75820482": {
      "model_module": "@jupyter-widgets/controls",
      "model_module_version": "2.0.0",
      "model_name": "HTMLStyleModel",
      "state": {
       "description_width": "",
       "font_size": null,
       "text_color": null
      }
     },
     "f3243b172bfd416289669c713857c8f2": {
      "model_module": "@jupyter-widgets/controls",
      "model_module_version": "2.0.0",
      "model_name": "HTMLModel",
      "state": {
       "layout": "IPY_MODEL_63083946b8b84267b420430d950b1930",
       "style": "IPY_MODEL_633906c1efea4d78b6d3c80c8dabe668",
       "value": " 3/29 [00:25&lt;03:43,  8.59s/it]"
      }
     },
     "f3e63e0a4fcb4754b1fc9c89b86f035d": {
      "model_module": "@jupyter-widgets/controls",
      "model_module_version": "2.0.0",
      "model_name": "HBoxModel",
      "state": {
       "children": [
        "IPY_MODEL_201b9069e1134d5fa0cea2fa6270c27f",
        "IPY_MODEL_70aa20bc35f54b12b7b7dd52064adaa4",
        "IPY_MODEL_b85fc632bd20492bbeafd934d3fa780b"
       ],
       "layout": "IPY_MODEL_f54524d6990e4f849d43017c03f2dee4"
      }
     },
     "f42a7f7b438a4d0094338b4f0ea4c693": {
      "model_module": "@jupyter-widgets/base",
      "model_module_version": "2.0.0",
      "model_name": "LayoutModel",
      "state": {}
     },
     "f54524d6990e4f849d43017c03f2dee4": {
      "model_module": "@jupyter-widgets/base",
      "model_module_version": "2.0.0",
      "model_name": "LayoutModel",
      "state": {}
     },
     "f6ecccb08b974283aa130f95026428cb": {
      "model_module": "@jupyter-widgets/base",
      "model_module_version": "2.0.0",
      "model_name": "LayoutModel",
      "state": {}
     },
     "f95e7c0d663b400fa37d209004544470": {
      "model_module": "@jupyter-widgets/base",
      "model_module_version": "2.0.0",
      "model_name": "LayoutModel",
      "state": {}
     },
     "f9984d78b7ec4000a2baf41d7d4ff9d8": {
      "model_module": "@jupyter-widgets/controls",
      "model_module_version": "2.0.0",
      "model_name": "HBoxModel",
      "state": {
       "children": [
        "IPY_MODEL_56acbad3ec18465389c8084e847b5d1e",
        "IPY_MODEL_c0467c436bdf4576b7072a658154b8eb",
        "IPY_MODEL_52d1c4450d2c482a81be7167674e59fd"
       ],
       "layout": "IPY_MODEL_95bb6baeb60e4aeab8359879382c8e73"
      }
     },
     "fce806ac73224b399c8724f8c7bc97c6": {
      "model_module": "@jupyter-widgets/controls",
      "model_module_version": "2.0.0",
      "model_name": "HTMLStyleModel",
      "state": {
       "description_width": "",
       "font_size": null,
       "text_color": null
      }
     },
     "fdbe092b69a8442c9181ff00d44002cf": {
      "model_module": "@jupyter-widgets/base",
      "model_module_version": "2.0.0",
      "model_name": "LayoutModel",
      "state": {}
     },
     "fe1e85dd7119422a89688939420ae705": {
      "model_module": "@jupyter-widgets/controls",
      "model_module_version": "2.0.0",
      "model_name": "HTMLModel",
      "state": {
       "layout": "IPY_MODEL_25dd92e9748b478586a15a3b2115b106",
       "style": "IPY_MODEL_675e3757f1c448b6808ee2bcef0674af",
       "value": " 21/21 [00:00&lt;00:00, 4935.03it/s]"
      }
     },
     "fe5718022ac24b5b9a0955ca9c48dad1": {
      "model_module": "@jupyter-widgets/controls",
      "model_module_version": "2.0.0",
      "model_name": "HTMLStyleModel",
      "state": {
       "description_width": "",
       "font_size": null,
       "text_color": null
      }
     }
    },
    "version_major": 2,
    "version_minor": 0
   }
  }
 },
 "nbformat": 4,
 "nbformat_minor": 5
}
