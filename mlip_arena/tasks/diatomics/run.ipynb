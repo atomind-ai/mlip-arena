{
 "cells": [
  {
   "cell_type": "code",
   "execution_count": 9,
   "id": "3200850a-b8fb-4f50-9815-16ae8da0f942",
   "metadata": {
    "tags": []
   },
   "outputs": [],
   "source": [
    "import os\n",
    "from pathlib import Path\n",
    "\n",
    "import numpy as np\n",
    "import pandas as pd\n",
    "from ase import Atom, Atoms\n",
    "from ase.data import chemical_symbols, covalent_radii, vdw_alvarez\n",
    "from ase.io import read, write\n",
    "from pymatgen.core import Element\n",
    "from scipy import stats\n",
    "from scipy.interpolate import splrep, BSpline, CubicSpline, UnivariateSpline\n",
    "from tqdm.auto import tqdm\n",
    "\n",
    "from mlip_arena.models import MLIPEnum, REGISTRY\n",
    "\n",
    "%matplotlib inline"
   ]
  },
  {
   "cell_type": "markdown",
   "id": "02ff9cf9-49a2-4cec-80d3-56c6661a513b",
   "metadata": {
    "tags": []
   },
   "source": [
    "# Compute MLIP homonuclear diatomics"
   ]
  },
  {
   "cell_type": "code",
   "execution_count": 2,
   "id": "90887faa-1601-4c4c-9c44-d16731471d7f",
   "metadata": {
    "scrolled": true,
    "tags": []
   },
   "outputs": [
    {
     "name": "stdout",
     "output_type": "stream",
     "text": [
      "========== ORBv2 ==========\n",
      "Selected GPU cuda:0 with 40339.31 MB free memory from 1 GPUs\n",
      "Downloading ORB model from https://storage.googleapis.com/orbitalmaterials-public-models/forcefields/orb-v2-20241011.ckpt to /global/homes/c/cyrusyc/.cache/orb/orb-v2-20241011.ckpt...\n",
      "Download completed.\n",
      "GPU tensorfloat matmuls precision set to 'high'. This can achieve up to 2x speedup on Nvidia A100 and H100 devices.\n"
     ]
    },
    {
     "data": {
      "application/vnd.jupyter.widget-view+json": {
       "model_id": "fde27645a0014db6a912f33d326114d4",
       "version_major": 2,
       "version_minor": 0
      },
      "text/plain": [
       "  0%|          | 0/118 [00:00<?, ?it/s]"
      ]
     },
     "metadata": {},
     "output_type": "display_data"
    },
    {
     "name": "stdout",
     "output_type": "stream",
     "text": [
      "Atoms(symbols='H2', pbc=True, cell=[7.4399999999999995, 7.441, 7.441999999999999])\n"
     ]
    },
    {
     "data": {
      "application/vnd.jupyter.widget-view+json": {
       "model_id": "9d4f8778428e4bd598f23ce61c747345",
       "version_major": 2,
       "version_minor": 0
      },
      "text/plain": [
       "  0%|          | 0/344 [00:00<?, ?it/s]"
      ]
     },
     "metadata": {},
     "output_type": "display_data"
    },
    {
     "name": "stdout",
     "output_type": "stream",
     "text": [
      "Atoms(symbols='He2', pbc=True, cell=[8.866, 8.866999999999999, 8.868])\n"
     ]
    },
    {
     "data": {
      "application/vnd.jupyter.widget-view+json": {
       "model_id": "ff1558c5b9ca4ad6b919557f9d778bec",
       "version_major": 2,
       "version_minor": 0
      },
      "text/plain": [
       "  0%|          | 0/418 [00:00<?, ?it/s]"
      ]
     },
     "metadata": {},
     "output_type": "display_data"
    },
    {
     "name": "stdout",
     "output_type": "stream",
     "text": [
      "Atoms(symbols='Li2', pbc=True, cell=[13.144000000000002, 13.145000000000001, 13.146000000000003])\n"
     ]
    },
    {
     "data": {
      "application/vnd.jupyter.widget-view+json": {
       "model_id": "a2fc840fbaf34da68b4976580e1dab40",
       "version_major": 2,
       "version_minor": 0
      },
      "text/plain": [
       "  0%|          | 0/542 [00:00<?, ?it/s]"
      ]
     },
     "metadata": {},
     "output_type": "display_data"
    },
    {
     "name": "stdout",
     "output_type": "stream",
     "text": [
      "Atoms(symbols='Be2', pbc=True, cell=[12.276, 12.277, 12.278])\n"
     ]
    },
    {
     "data": {
      "application/vnd.jupyter.widget-view+json": {
       "model_id": "8b5474352be645b09d3d0bad807c97bd",
       "version_major": 2,
       "version_minor": 0
      },
      "text/plain": [
       "  0%|          | 0/527 [00:00<?, ?it/s]"
      ]
     },
     "metadata": {},
     "output_type": "display_data"
    },
    {
     "name": "stdout",
     "output_type": "stream",
     "text": [
      "Atoms(symbols='B2', pbc=True, cell=[11.842, 11.843, 11.844000000000001])\n"
     ]
    },
    {
     "data": {
      "application/vnd.jupyter.widget-view+json": {
       "model_id": "aebd7ee1c5dd4fb69bba40c3bba0a27b",
       "version_major": 2,
       "version_minor": 0
      },
      "text/plain": [
       "  0%|          | 0/516 [00:00<?, ?it/s]"
      ]
     },
     "metadata": {},
     "output_type": "display_data"
    },
    {
     "name": "stdout",
     "output_type": "stream",
     "text": [
      "Atoms(symbols='C2', pbc=True, cell=[10.974, 10.975, 10.976])\n"
     ]
    },
    {
     "data": {
      "application/vnd.jupyter.widget-view+json": {
       "model_id": "a38618e62b3c45ddbf00e3c84f58df2f",
       "version_major": 2,
       "version_minor": 0
      },
      "text/plain": [
       "  0%|          | 0/480 [00:00<?, ?it/s]"
      ]
     },
     "metadata": {},
     "output_type": "display_data"
    },
    {
     "name": "stdout",
     "output_type": "stream",
     "text": [
      "Atoms(symbols='N2', pbc=True, cell=[10.292, 10.293, 10.294])\n"
     ]
    },
    {
     "data": {
      "application/vnd.jupyter.widget-view+json": {
       "model_id": "e1de9a9c513340a58d2eb60f1262f2d3",
       "version_major": 2,
       "version_minor": 0
      },
      "text/plain": [
       "  0%|          | 0/450 [00:00<?, ?it/s]"
      ]
     },
     "metadata": {},
     "output_type": "display_data"
    },
    {
     "name": "stdout",
     "output_type": "stream",
     "text": [
      "Atoms(symbols='O2', pbc=True, cell=[9.3, 9.301, 9.302000000000001])\n"
     ]
    },
    {
     "data": {
      "application/vnd.jupyter.widget-view+json": {
       "model_id": "cf3a832303f04afeab0e29d48e743356",
       "version_major": 2,
       "version_minor": 0
      },
      "text/plain": [
       "  0%|          | 0/405 [00:00<?, ?it/s]"
      ]
     },
     "metadata": {},
     "output_type": "display_data"
    },
    {
     "name": "stdout",
     "output_type": "stream",
     "text": [
      "Atoms(symbols='F2', pbc=True, cell=[9.052, 9.052999999999999, 9.054])\n"
     ]
    },
    {
     "data": {
      "application/vnd.jupyter.widget-view+json": {
       "model_id": "54d5361dc0a64d2daf100360ae89cba2",
       "version_major": 2,
       "version_minor": 0
      },
      "text/plain": [
       "  0%|          | 0/401 [00:00<?, ?it/s]"
      ]
     },
     "metadata": {},
     "output_type": "display_data"
    },
    {
     "name": "stdout",
     "output_type": "stream",
     "text": [
      "Atoms(symbols='Ne2', pbc=True, cell=[9.796000000000001, 9.797, 9.798000000000002])\n"
     ]
    },
    {
     "data": {
      "application/vnd.jupyter.widget-view+json": {
       "model_id": "421fcce8471c4499a9a2e8b41d38d102",
       "version_major": 2,
       "version_minor": 0
      },
      "text/plain": [
       "  0%|          | 0/437 [00:00<?, ?it/s]"
      ]
     },
     "metadata": {},
     "output_type": "display_data"
    },
    {
     "name": "stdout",
     "output_type": "stream",
     "text": [
      "Atoms(symbols='Na2', pbc=True, cell=[15.5, 15.501, 15.502])\n"
     ]
    },
    {
     "data": {
      "application/vnd.jupyter.widget-view+json": {
       "model_id": "97f89a8ca8ce489ab1de25ae0c428a92",
       "version_major": 2,
       "version_minor": 0
      },
      "text/plain": [
       "  0%|          | 0/625 [00:00<?, ?it/s]"
      ]
     },
     "metadata": {},
     "output_type": "display_data"
    },
    {
     "name": "stdout",
     "output_type": "stream",
     "text": [
      "Atoms(symbols='Mg2', pbc=True, cell=[15.562, 15.562999999999999, 15.564])\n"
     ]
    },
    {
     "data": {
      "application/vnd.jupyter.widget-view+json": {
       "model_id": "c1290ac80bf74eb5ba072e03317144e4",
       "version_major": 2,
       "version_minor": 0
      },
      "text/plain": [
       "  0%|          | 0/651 [00:00<?, ?it/s]"
      ]
     },
     "metadata": {},
     "output_type": "display_data"
    },
    {
     "name": "stdout",
     "output_type": "stream",
     "text": [
      "Atoms(symbols='Al2', pbc=True, cell=[13.950000000000001, 13.951, 13.952000000000002])\n"
     ]
    },
    {
     "data": {
      "application/vnd.jupyter.widget-view+json": {
       "model_id": "567744cfe2954b01a581aa778a45109f",
       "version_major": 2,
       "version_minor": 0
      },
      "text/plain": [
       "  0%|          | 0/588 [00:00<?, ?it/s]"
      ]
     },
     "metadata": {},
     "output_type": "display_data"
    },
    {
     "name": "stdout",
     "output_type": "stream",
     "text": [
      "Atoms(symbols='Si2', pbc=True, cell=[13.578, 13.578999999999999, 13.58])\n"
     ]
    },
    {
     "data": {
      "application/vnd.jupyter.widget-view+json": {
       "model_id": "b6b9bbd6706c41f09695a0fe345f7a3a",
       "version_major": 2,
       "version_minor": 0
      },
      "text/plain": [
       "  0%|          | 0/578 [00:00<?, ?it/s]"
      ]
     },
     "metadata": {},
     "output_type": "display_data"
    },
    {
     "name": "stdout",
     "output_type": "stream",
     "text": [
      "Atoms(symbols='P2', pbc=True, cell=[11.78, 11.780999999999999, 11.782])\n"
     ]
    },
    {
     "data": {
      "application/vnd.jupyter.widget-view+json": {
       "model_id": "ede2f160e8554f36904597d8ff21232e",
       "version_major": 2,
       "version_minor": 0
      },
      "text/plain": [
       "  0%|          | 0/492 [00:00<?, ?it/s]"
      ]
     },
     "metadata": {},
     "output_type": "display_data"
    },
    {
     "name": "stdout",
     "output_type": "stream",
     "text": [
      "Atoms(symbols='S2', pbc=True, cell=[11.718, 11.719, 11.72])\n"
     ]
    },
    {
     "data": {
      "application/vnd.jupyter.widget-view+json": {
       "model_id": "2dba742b038a4238805f519f96835792",
       "version_major": 2,
       "version_minor": 0
      },
      "text/plain": [
       "  0%|          | 0/491 [00:00<?, ?it/s]"
      ]
     },
     "metadata": {},
     "output_type": "display_data"
    },
    {
     "name": "stdout",
     "output_type": "stream",
     "text": [
      "Atoms(symbols='Cl2', pbc=True, cell=[11.284, 11.285, 11.286000000000001])\n"
     ]
    },
    {
     "data": {
      "application/vnd.jupyter.widget-view+json": {
       "model_id": "569072aae3c04e388ce6832c9e82ad76",
       "version_major": 2,
       "version_minor": 0
      },
      "text/plain": [
       "  0%|          | 0/472 [00:00<?, ?it/s]"
      ]
     },
     "metadata": {},
     "output_type": "display_data"
    },
    {
     "name": "stdout",
     "output_type": "stream",
     "text": [
      "Atoms(symbols='Ar2', pbc=True, cell=[11.346, 11.347, 11.348])\n"
     ]
    },
    {
     "data": {
      "application/vnd.jupyter.widget-view+json": {
       "model_id": "1582c4c2caac43db9af52bae15fe537b",
       "version_major": 2,
       "version_minor": 0
      },
      "text/plain": [
       "  0%|          | 0/471 [00:00<?, ?it/s]"
      ]
     },
     "metadata": {},
     "output_type": "display_data"
    },
    {
     "name": "stdout",
     "output_type": "stream",
     "text": [
      "Atoms(symbols='K2', pbc=True, cell=[16.926000000000002, 16.927000000000003, 16.928])\n"
     ]
    },
    {
     "data": {
      "application/vnd.jupyter.widget-view+json": {
       "model_id": "b379f4013cd64888a6e4256bcc8336b8",
       "version_major": 2,
       "version_minor": 0
      },
      "text/plain": [
       "  0%|          | 0/663 [00:00<?, ?it/s]"
      ]
     },
     "metadata": {},
     "output_type": "display_data"
    },
    {
     "name": "stdout",
     "output_type": "stream",
     "text": [
      "Atoms(symbols='Ca2', pbc=True, cell=[16.244, 16.245, 16.246])\n"
     ]
    },
    {
     "data": {
      "application/vnd.jupyter.widget-view+json": {
       "model_id": "5c8e740c3436469bb6462cdc604ceb94",
       "version_major": 2,
       "version_minor": 0
      },
      "text/plain": [
       "  0%|          | 0/653 [00:00<?, ?it/s]"
      ]
     },
     "metadata": {},
     "output_type": "display_data"
    },
    {
     "name": "stdout",
     "output_type": "stream",
     "text": [
      "Atoms(symbols='Sc2', pbc=True, cell=[15.996, 15.997, 15.998000000000001])\n"
     ]
    },
    {
     "data": {
      "application/vnd.jupyter.widget-view+json": {
       "model_id": "4e838599d9024341a42715245b7431fb",
       "version_major": 2,
       "version_minor": 0
      },
      "text/plain": [
       "  0%|          | 0/646 [00:00<?, ?it/s]"
      ]
     },
     "metadata": {},
     "output_type": "display_data"
    },
    {
     "name": "stdout",
     "output_type": "stream",
     "text": [
      "Atoms(symbols='Ti2', pbc=True, cell=[15.252, 15.253, 15.254000000000001])\n"
     ]
    },
    {
     "data": {
      "application/vnd.jupyter.widget-view+json": {
       "model_id": "6664436826a24f6eac97a860c7b8b9f6",
       "version_major": 2,
       "version_minor": 0
      },
      "text/plain": [
       "  0%|          | 0/618 [00:00<?, ?it/s]"
      ]
     },
     "metadata": {},
     "output_type": "display_data"
    },
    {
     "name": "stdout",
     "output_type": "stream",
     "text": [
      "Atoms(symbols='V2', pbc=True, cell=[15.004, 15.004999999999999, 15.006])\n"
     ]
    },
    {
     "data": {
      "application/vnd.jupyter.widget-view+json": {
       "model_id": "59b9ddad40ae491a801288d215d8d23e",
       "version_major": 2,
       "version_minor": 0
      },
      "text/plain": [
       "  0%|          | 0/612 [00:00<?, ?it/s]"
      ]
     },
     "metadata": {},
     "output_type": "display_data"
    },
    {
     "name": "stdout",
     "output_type": "stream",
     "text": [
      "Atoms(symbols='Cr2', pbc=True, cell=[15.190000000000001, 15.191, 15.192000000000002])\n"
     ]
    },
    {
     "data": {
      "application/vnd.jupyter.widget-view+json": {
       "model_id": "4a2b5560ce354ac793ae948a42b5252a",
       "version_major": 2,
       "version_minor": 0
      },
      "text/plain": [
       "  0%|          | 0/634 [00:00<?, ?it/s]"
      ]
     },
     "metadata": {},
     "output_type": "display_data"
    },
    {
     "name": "stdout",
     "output_type": "stream",
     "text": [
      "Atoms(symbols='Mn2', pbc=True, cell=[15.190000000000001, 15.191, 15.192000000000002])\n"
     ]
    },
    {
     "data": {
      "application/vnd.jupyter.widget-view+json": {
       "model_id": "833225306e2649888642acfd339316de",
       "version_major": 2,
       "version_minor": 0
      },
      "text/plain": [
       "  0%|          | 0/634 [00:00<?, ?it/s]"
      ]
     },
     "metadata": {},
     "output_type": "display_data"
    },
    {
     "name": "stdout",
     "output_type": "stream",
     "text": [
      "Atoms(symbols='Fe2', pbc=True, cell=[15.128, 15.129, 15.13])\n"
     ]
    },
    {
     "data": {
      "application/vnd.jupyter.widget-view+json": {
       "model_id": "8662d5902ab14029a9f569bef1853ded",
       "version_major": 2,
       "version_minor": 0
      },
      "text/plain": [
       "  0%|          | 0/637 [00:00<?, ?it/s]"
      ]
     },
     "metadata": {},
     "output_type": "display_data"
    },
    {
     "name": "stdout",
     "output_type": "stream",
     "text": [
      "Atoms(symbols='Co2', pbc=True, cell=[14.879999999999999, 14.880999999999998, 14.882])\n"
     ]
    },
    {
     "data": {
      "application/vnd.jupyter.widget-view+json": {
       "model_id": "0dc8dd7ad5eb4fef8f25a8cb90503a03",
       "version_major": 2,
       "version_minor": 0
      },
      "text/plain": [
       "  0%|          | 0/630 [00:00<?, ?it/s]"
      ]
     },
     "metadata": {},
     "output_type": "display_data"
    },
    {
     "name": "stdout",
     "output_type": "stream",
     "text": [
      "Atoms(symbols='Ni2', pbc=True, cell=[14.879999999999999, 14.880999999999998, 14.882])\n"
     ]
    },
    {
     "data": {
      "application/vnd.jupyter.widget-view+json": {
       "model_id": "f985a89ddcd74c569ac80beea4cdfc4d",
       "version_major": 2,
       "version_minor": 0
      },
      "text/plain": [
       "  0%|          | 0/632 [00:00<?, ?it/s]"
      ]
     },
     "metadata": {},
     "output_type": "display_data"
    },
    {
     "name": "stdout",
     "output_type": "stream",
     "text": [
      "Atoms(symbols='Cu2', pbc=True, cell=[14.756, 14.757, 14.758000000000001])\n"
     ]
    },
    {
     "data": {
      "application/vnd.jupyter.widget-view+json": {
       "model_id": "4607486bfaaf41828b4633d273c145a5",
       "version_major": 2,
       "version_minor": 0
      },
      "text/plain": [
       "  0%|          | 0/618 [00:00<?, ?it/s]"
      ]
     },
     "metadata": {},
     "output_type": "display_data"
    },
    {
     "name": "stdout",
     "output_type": "stream",
     "text": [
      "Atoms(symbols='Zn2', pbc=True, cell=[14.818000000000001, 14.819, 14.820000000000002])\n"
     ]
    },
    {
     "data": {
      "application/vnd.jupyter.widget-view+json": {
       "model_id": "77fd598603094c5fadf539f8e35a8a8b",
       "version_major": 2,
       "version_minor": 0
      },
      "text/plain": [
       "  0%|          | 0/631 [00:00<?, ?it/s]"
      ]
     },
     "metadata": {},
     "output_type": "display_data"
    },
    {
     "name": "stdout",
     "output_type": "stream",
     "text": [
      "Atoms(symbols='Ga2', pbc=True, cell=[14.383999999999999, 14.384999999999998, 14.386])\n"
     ]
    },
    {
     "data": {
      "application/vnd.jupyter.widget-view+json": {
       "model_id": "50e676dfa8304d0194fbd5affff2bdd4",
       "version_major": 2,
       "version_minor": 0
      },
      "text/plain": [
       "  0%|          | 0/609 [00:00<?, ?it/s]"
      ]
     },
     "metadata": {},
     "output_type": "display_data"
    },
    {
     "name": "stdout",
     "output_type": "stream",
     "text": [
      "Atoms(symbols='Ge2', pbc=True, cell=[14.198, 14.199, 14.200000000000001])\n"
     ]
    },
    {
     "data": {
      "application/vnd.jupyter.widget-view+json": {
       "model_id": "e6855106c33248da950626955461a268",
       "version_major": 2,
       "version_minor": 0
      },
      "text/plain": [
       "  0%|          | 0/601 [00:00<?, ?it/s]"
      ]
     },
     "metadata": {},
     "output_type": "display_data"
    },
    {
     "name": "stdout",
     "output_type": "stream",
     "text": [
      "Atoms(symbols='As2', pbc=True, cell=[11.655999999999999, 11.656999999999998, 11.658])\n"
     ]
    },
    {
     "data": {
      "application/vnd.jupyter.widget-view+json": {
       "model_id": "ababe6cc711a410fb8148aeffbdfa5bf",
       "version_major": 2,
       "version_minor": 0
      },
      "text/plain": [
       "  0%|          | 0/475 [00:00<?, ?it/s]"
      ]
     },
     "metadata": {},
     "output_type": "display_data"
    },
    {
     "name": "stdout",
     "output_type": "stream",
     "text": [
      "Atoms(symbols='Se2', pbc=True, cell=[11.284, 11.285, 11.286000000000001])\n"
     ]
    },
    {
     "data": {
      "application/vnd.jupyter.widget-view+json": {
       "model_id": "7d6a14bafa5049148bae6455d06de998",
       "version_major": 2,
       "version_minor": 0
      },
      "text/plain": [
       "  0%|          | 0/456 [00:00<?, ?it/s]"
      ]
     },
     "metadata": {},
     "output_type": "display_data"
    },
    {
     "name": "stdout",
     "output_type": "stream",
     "text": [
      "Atoms(symbols='Br2', pbc=True, cell=[11.532000000000002, 11.533000000000001, 11.534000000000002])\n"
     ]
    },
    {
     "data": {
      "application/vnd.jupyter.widget-view+json": {
       "model_id": "fb44546f41824f5b8e2aefa9f9cd2e31",
       "version_major": 2,
       "version_minor": 0
      },
      "text/plain": [
       "  0%|          | 0/468 [00:00<?, ?it/s]"
      ]
     },
     "metadata": {},
     "output_type": "display_data"
    },
    {
     "name": "stdout",
     "output_type": "stream",
     "text": [
      "Atoms(symbols='Kr2', pbc=True, cell=[13.950000000000001, 13.951, 13.952000000000002])\n"
     ]
    },
    {
     "data": {
      "application/vnd.jupyter.widget-view+json": {
       "model_id": "884a859383bc4d96b1eaeec2be5bb0e5",
       "version_major": 2,
       "version_minor": 0
      },
      "text/plain": [
       "  0%|          | 0/593 [00:00<?, ?it/s]"
      ]
     },
     "metadata": {},
     "output_type": "display_data"
    },
    {
     "name": "stdout",
     "output_type": "stream",
     "text": [
      "Atoms(symbols='Rb2', pbc=True, cell=[19.902, 19.903000000000002, 19.904])\n"
     ]
    },
    {
     "data": {
      "application/vnd.jupyter.widget-view+json": {
       "model_id": "ab3dc18564434454961bdfc7ddf3f2a1",
       "version_major": 2,
       "version_minor": 0
      },
      "text/plain": [
       "  0%|          | 0/797 [00:00<?, ?it/s]"
      ]
     },
     "metadata": {},
     "output_type": "display_data"
    },
    {
     "name": "stdout",
     "output_type": "stream",
     "text": [
      "Atoms(symbols='Sr2', pbc=True, cell=[17.608, 17.609, 17.61])\n"
     ]
    },
    {
     "data": {
      "application/vnd.jupyter.widget-view+json": {
       "model_id": "4e40d91bf9d148629f85d56ad967710b",
       "version_major": 2,
       "version_minor": 0
      },
      "text/plain": [
       "  0%|          | 0/704 [00:00<?, ?it/s]"
      ]
     },
     "metadata": {},
     "output_type": "display_data"
    },
    {
     "name": "stdout",
     "output_type": "stream",
     "text": [
      "Atoms(symbols='Y2', pbc=True, cell=[17.05, 17.051000000000002, 17.052])\n"
     ]
    },
    {
     "data": {
      "application/vnd.jupyter.widget-view+json": {
       "model_id": "01608f2e6626449898900a6dad483acc",
       "version_major": 2,
       "version_minor": 0
      },
      "text/plain": [
       "  0%|          | 0/681 [00:00<?, ?it/s]"
      ]
     },
     "metadata": {},
     "output_type": "display_data"
    },
    {
     "name": "stdout",
     "output_type": "stream",
     "text": [
      "Atoms(symbols='Zr2', pbc=True, cell=[15.624, 15.625, 15.626000000000001])\n"
     ]
    },
    {
     "data": {
      "application/vnd.jupyter.widget-view+json": {
       "model_id": "8dcf5cc037e94375818777de398c2d24",
       "version_major": 2,
       "version_minor": 0
      },
      "text/plain": [
       "  0%|          | 0/623 [00:00<?, ?it/s]"
      ]
     },
     "metadata": {},
     "output_type": "display_data"
    },
    {
     "name": "stdout",
     "output_type": "stream",
     "text": [
      "Atoms(symbols='Nb2', pbc=True, cell=[15.872000000000002, 15.873000000000001, 15.874000000000002])\n"
     ]
    },
    {
     "data": {
      "application/vnd.jupyter.widget-view+json": {
       "model_id": "8e7a0b6a8b544fb598240631538cd7a3",
       "version_major": 2,
       "version_minor": 0
      },
      "text/plain": [
       "  0%|          | 0/646 [00:00<?, ?it/s]"
      ]
     },
     "metadata": {},
     "output_type": "display_data"
    },
    {
     "name": "stdout",
     "output_type": "stream",
     "text": [
      "Atoms(symbols='Mo2', pbc=True, cell=[15.190000000000001, 15.191, 15.192000000000002])\n"
     ]
    },
    {
     "data": {
      "application/vnd.jupyter.widget-view+json": {
       "model_id": "71b31444bf6646f0a1a84bf0464f225a",
       "version_major": 2,
       "version_minor": 0
      },
      "text/plain": [
       "  0%|          | 0/620 [00:00<?, ?it/s]"
      ]
     },
     "metadata": {},
     "output_type": "display_data"
    },
    {
     "name": "stdout",
     "output_type": "stream",
     "text": [
      "Atoms(symbols='Tc2', pbc=True, cell=[15.128, 15.129, 15.13])\n"
     ]
    },
    {
     "data": {
      "application/vnd.jupyter.widget-view+json": {
       "model_id": "d3bed70c3fe9404f9bbc868618c50dab",
       "version_major": 2,
       "version_minor": 0
      },
      "text/plain": [
       "  0%|          | 0/624 [00:00<?, ?it/s]"
      ]
     },
     "metadata": {},
     "output_type": "display_data"
    },
    {
     "name": "stdout",
     "output_type": "stream",
     "text": [
      "Atoms(symbols='Ru2', pbc=True, cell=[15.252, 15.253, 15.254000000000001])\n"
     ]
    },
    {
     "data": {
      "application/vnd.jupyter.widget-view+json": {
       "model_id": "4ce482eb55a043bcb81b8cf9ee8a42af",
       "version_major": 2,
       "version_minor": 0
      },
      "text/plain": [
       "  0%|          | 0/631 [00:00<?, ?it/s]"
      ]
     },
     "metadata": {},
     "output_type": "display_data"
    },
    {
     "name": "stdout",
     "output_type": "stream",
     "text": [
      "Atoms(symbols='Rh2', pbc=True, cell=[15.128, 15.129, 15.13])\n"
     ]
    },
    {
     "data": {
      "application/vnd.jupyter.widget-view+json": {
       "model_id": "feedd3d7b8d2493b824e09bce300e2c3",
       "version_major": 2,
       "version_minor": 0
      },
      "text/plain": [
       "  0%|          | 0/628 [00:00<?, ?it/s]"
      ]
     },
     "metadata": {},
     "output_type": "display_data"
    },
    {
     "name": "stdout",
     "output_type": "stream",
     "text": [
      "Atoms(symbols='Pd2', pbc=True, cell=[13.33, 13.331, 13.332])\n"
     ]
    },
    {
     "data": {
      "application/vnd.jupyter.widget-view+json": {
       "model_id": "ef587ac0902348d68bb78364ad379165",
       "version_major": 2,
       "version_minor": 0
      },
      "text/plain": [
       "  0%|          | 0/541 [00:00<?, ?it/s]"
      ]
     },
     "metadata": {},
     "output_type": "display_data"
    },
    {
     "name": "stdout",
     "output_type": "stream",
     "text": [
      "Atoms(symbols='Ag2', pbc=True, cell=[15.686, 15.687, 15.688])\n"
     ]
    },
    {
     "data": {
      "application/vnd.jupyter.widget-view+json": {
       "model_id": "616e3d8ac06c4826bef27d337a20c7e6",
       "version_major": 2,
       "version_minor": 0
      },
      "text/plain": [
       "  0%|          | 0/653 [00:00<?, ?it/s]"
      ]
     },
     "metadata": {},
     "output_type": "display_data"
    },
    {
     "name": "stdout",
     "output_type": "stream",
     "text": [
      "Atoms(symbols='Cd2', pbc=True, cell=[15.438000000000002, 15.439000000000002, 15.440000000000003])\n"
     ]
    },
    {
     "data": {
      "application/vnd.jupyter.widget-view+json": {
       "model_id": "54f9e24b319046ecba5d6bd62b8cd662",
       "version_major": 2,
       "version_minor": 0
      },
      "text/plain": [
       "  0%|          | 0/642 [00:00<?, ?it/s]"
      ]
     },
     "metadata": {},
     "output_type": "display_data"
    },
    {
     "name": "stdout",
     "output_type": "stream",
     "text": [
      "Atoms(symbols='In2', pbc=True, cell=[15.066, 15.067, 15.068000000000001])\n"
     ]
    },
    {
     "data": {
      "application/vnd.jupyter.widget-view+json": {
       "model_id": "56edd2b635d24ba495626324f6077065",
       "version_major": 2,
       "version_minor": 0
      },
      "text/plain": [
       "  0%|          | 0/625 [00:00<?, ?it/s]"
      ]
     },
     "metadata": {},
     "output_type": "display_data"
    },
    {
     "name": "stdout",
     "output_type": "stream",
     "text": [
      "Atoms(symbols='Sn2', pbc=True, cell=[15.004, 15.004999999999999, 15.006])\n"
     ]
    },
    {
     "data": {
      "application/vnd.jupyter.widget-view+json": {
       "model_id": "cc135ebe00e6443e89c0565ee0680e76",
       "version_major": 2,
       "version_minor": 0
      },
      "text/plain": [
       "  0%|          | 0/625 [00:00<?, ?it/s]"
      ]
     },
     "metadata": {},
     "output_type": "display_data"
    },
    {
     "name": "stdout",
     "output_type": "stream",
     "text": [
      "Atoms(symbols='Sb2', pbc=True, cell=[15.314000000000002, 15.315000000000001, 15.316000000000003])\n"
     ]
    },
    {
     "data": {
      "application/vnd.jupyter.widget-view+json": {
       "model_id": "8e50b6e60ca640b086f33edd09f97dbb",
       "version_major": 2,
       "version_minor": 0
      },
      "text/plain": [
       "  0%|          | 0/640 [00:00<?, ?it/s]"
      ]
     },
     "metadata": {},
     "output_type": "display_data"
    },
    {
     "name": "stdout",
     "output_type": "stream",
     "text": [
      "Atoms(symbols='Te2', pbc=True, cell=[12.338000000000001, 12.339, 12.340000000000002])\n"
     ]
    },
    {
     "data": {
      "application/vnd.jupyter.widget-view+json": {
       "model_id": "acc607f35cb844178be29faf2e712b21",
       "version_major": 2,
       "version_minor": 0
      },
      "text/plain": [
       "  0%|          | 0/492 [00:00<?, ?it/s]"
      ]
     },
     "metadata": {},
     "output_type": "display_data"
    },
    {
     "name": "stdout",
     "output_type": "stream",
     "text": [
      "Atoms(symbols='I2', pbc=True, cell=[12.648000000000001, 12.649000000000001, 12.650000000000002])\n"
     ]
    },
    {
     "data": {
      "application/vnd.jupyter.widget-view+json": {
       "model_id": "ef9f4b157e61406a95359c776711d52a",
       "version_major": 2,
       "version_minor": 0
      },
      "text/plain": [
       "  0%|          | 0/507 [00:00<?, ?it/s]"
      ]
     },
     "metadata": {},
     "output_type": "display_data"
    },
    {
     "name": "stdout",
     "output_type": "stream",
     "text": [
      "Atoms(symbols='Xe2', pbc=True, cell=[12.772, 12.773, 12.774000000000001])\n"
     ]
    },
    {
     "data": {
      "application/vnd.jupyter.widget-view+json": {
       "model_id": "1d7fb4f6cd124c8cbe02f8942709b0c3",
       "version_major": 2,
       "version_minor": 0
      },
      "text/plain": [
       "  0%|          | 0/512 [00:00<?, ?it/s]"
      ]
     },
     "metadata": {},
     "output_type": "display_data"
    },
    {
     "name": "stdout",
     "output_type": "stream",
     "text": [
      "Atoms(symbols='Cs2', pbc=True, cell=[21.576, 21.577, 21.578])\n"
     ]
    },
    {
     "data": {
      "application/vnd.jupyter.widget-view+json": {
       "model_id": "9943ad6d333542cbb84249203c401c27",
       "version_major": 2,
       "version_minor": 0
      },
      "text/plain": [
       "  0%|          | 0/859 [00:00<?, ?it/s]"
      ]
     },
     "metadata": {},
     "output_type": "display_data"
    },
    {
     "name": "stdout",
     "output_type": "stream",
     "text": [
      "Atoms(symbols='Ba2', pbc=True, cell=[18.785999999999998, 18.787, 18.787999999999997])\n"
     ]
    },
    {
     "data": {
      "application/vnd.jupyter.widget-view+json": {
       "model_id": "7aaf77a953144904a0a1d86bad9c866f",
       "version_major": 2,
       "version_minor": 0
      },
      "text/plain": [
       "  0%|          | 0/745 [00:00<?, ?it/s]"
      ]
     },
     "metadata": {},
     "output_type": "display_data"
    },
    {
     "name": "stdout",
     "output_type": "stream",
     "text": [
      "Atoms(symbols='La2', pbc=True, cell=[18.476, 18.477, 18.477999999999998])\n"
     ]
    },
    {
     "data": {
      "application/vnd.jupyter.widget-view+json": {
       "model_id": "b0bfc84280b64a06972ee896e0d4f010",
       "version_major": 2,
       "version_minor": 0
      },
      "text/plain": [
       "  0%|          | 0/737 [00:00<?, ?it/s]"
      ]
     },
     "metadata": {},
     "output_type": "display_data"
    },
    {
     "name": "stdout",
     "output_type": "stream",
     "text": [
      "Atoms(symbols='Ce2', pbc=True, cell=[17.855999999999998, 17.857, 17.857999999999997])\n"
     ]
    },
    {
     "data": {
      "application/vnd.jupyter.widget-view+json": {
       "model_id": "9ab65f160377460daf32179e34c99284",
       "version_major": 2,
       "version_minor": 0
      },
      "text/plain": [
       "  0%|          | 0/709 [00:00<?, ?it/s]"
      ]
     },
     "metadata": {},
     "output_type": "display_data"
    },
    {
     "name": "stdout",
     "output_type": "stream",
     "text": [
      "Atoms(symbols='Pr2', pbc=True, cell=[18.104, 18.105, 18.105999999999998])\n"
     ]
    },
    {
     "data": {
      "application/vnd.jupyter.widget-view+json": {
       "model_id": "c26dac9c092c464594d4d18e057df649",
       "version_major": 2,
       "version_minor": 0
      },
      "text/plain": [
       "  0%|          | 0/722 [00:00<?, ?it/s]"
      ]
     },
     "metadata": {},
     "output_type": "display_data"
    },
    {
     "name": "stdout",
     "output_type": "stream",
     "text": [
      "Atoms(symbols='Nd2', pbc=True, cell=[18.290000000000003, 18.291000000000004, 18.292])\n"
     ]
    },
    {
     "data": {
      "application/vnd.jupyter.widget-view+json": {
       "model_id": "e6f36a13f7d0470babe6ef33a7babdc5",
       "version_major": 2,
       "version_minor": 0
      },
      "text/plain": [
       "  0%|          | 0/733 [00:00<?, ?it/s]"
      ]
     },
     "metadata": {},
     "output_type": "display_data"
    },
    {
     "name": "stdout",
     "output_type": "stream",
     "text": [
      "Atoms(symbols='Dy2', pbc=True, cell=[17.794, 17.795, 17.796])\n"
     ]
    },
    {
     "data": {
      "application/vnd.jupyter.widget-view+json": {
       "model_id": "5ff3135bfd8348d0a4ffa0e03800588d",
       "version_major": 2,
       "version_minor": 0
      },
      "text/plain": [
       "  0%|          | 0/716 [00:00<?, ?it/s]"
      ]
     },
     "metadata": {},
     "output_type": "display_data"
    },
    {
     "name": "stdout",
     "output_type": "stream",
     "text": [
      "Atoms(symbols='Ho2', pbc=True, cell=[17.422, 17.423000000000002, 17.424])\n"
     ]
    },
    {
     "data": {
      "application/vnd.jupyter.widget-view+json": {
       "model_id": "d03dd03f565d4518b9250ddc3599a7b1",
       "version_major": 2,
       "version_minor": 0
      },
      "text/plain": [
       "  0%|          | 0/698 [00:00<?, ?it/s]"
      ]
     },
     "metadata": {},
     "output_type": "display_data"
    },
    {
     "name": "stdout",
     "output_type": "stream",
     "text": [
      "Atoms(symbols='Er2', pbc=True, cell=[17.546, 17.547, 17.548])\n"
     ]
    },
    {
     "data": {
      "application/vnd.jupyter.widget-view+json": {
       "model_id": "c39d62bf3ad74c28a16705343531abd8",
       "version_major": 2,
       "version_minor": 0
      },
      "text/plain": [
       "  0%|          | 0/707 [00:00<?, ?it/s]"
      ]
     },
     "metadata": {},
     "output_type": "display_data"
    },
    {
     "name": "stdout",
     "output_type": "stream",
     "text": [
      "Atoms(symbols='Tm2', pbc=True, cell=[17.298000000000002, 17.299000000000003, 17.3])\n"
     ]
    },
    {
     "data": {
      "application/vnd.jupyter.widget-view+json": {
       "model_id": "c3c8a58e5a864b0a984c147c7c7be54f",
       "version_major": 2,
       "version_minor": 0
      },
      "text/plain": [
       "  0%|          | 0/693 [00:00<?, ?it/s]"
      ]
     },
     "metadata": {},
     "output_type": "display_data"
    },
    {
     "name": "stdout",
     "output_type": "stream",
     "text": [
      "Atoms(symbols='Yb2', pbc=True, cell=[17.36, 17.361, 17.362])\n"
     ]
    },
    {
     "data": {
      "application/vnd.jupyter.widget-view+json": {
       "model_id": "f3b8061b7f744edebdab8c434ea61790",
       "version_major": 2,
       "version_minor": 0
      },
      "text/plain": [
       "  0%|          | 0/699 [00:00<?, ?it/s]"
      ]
     },
     "metadata": {},
     "output_type": "display_data"
    },
    {
     "name": "stdout",
     "output_type": "stream",
     "text": [
      "Atoms(symbols='Lu2', pbc=True, cell=[16.988000000000003, 16.989000000000004, 16.990000000000002])\n"
     ]
    },
    {
     "data": {
      "application/vnd.jupyter.widget-view+json": {
       "model_id": "cd133de9973d422ab314a61055f99955",
       "version_major": 2,
       "version_minor": 0
      },
      "text/plain": [
       "  0%|          | 0/681 [00:00<?, ?it/s]"
      ]
     },
     "metadata": {},
     "output_type": "display_data"
    },
    {
     "name": "stdout",
     "output_type": "stream",
     "text": [
      "Atoms(symbols='Hf2', pbc=True, cell=[16.306, 16.307000000000002, 16.308])\n"
     ]
    },
    {
     "data": {
      "application/vnd.jupyter.widget-view+json": {
       "model_id": "cd46f975718a438caa807d90a758728a",
       "version_major": 2,
       "version_minor": 0
      },
      "text/plain": [
       "  0%|          | 0/657 [00:00<?, ?it/s]"
      ]
     },
     "metadata": {},
     "output_type": "display_data"
    },
    {
     "name": "stderr",
     "output_type": "stream",
     "text": [
      "IOPub message rate exceeded.\n",
      "The Jupyter server will temporarily stop sending output\n",
      "to the client in order to avoid crashing it.\n",
      "To change this limit, set the config variable\n",
      "`--ServerApp.iopub_msg_rate_limit`.\n",
      "\n",
      "Current values:\n",
      "ServerApp.iopub_msg_rate_limit=1000.0 (msgs/sec)\n",
      "ServerApp.rate_limit_window=3.0 (secs)\n",
      "\n"
     ]
    },
    {
     "name": "stdout",
     "output_type": "stream",
     "text": [
      "Atoms(symbols='Md2', pbc=True, cell=[12.0, 12.001, 12.002])\n"
     ]
    },
    {
     "data": {
      "application/vnd.jupyter.widget-view+json": {
       "model_id": "052152e48a5d424c848ab954a0eb1a2d",
       "version_major": 2,
       "version_minor": 0
      },
      "text/plain": [
       "  0%|          | 0/582 [00:00<?, ?it/s]"
      ]
     },
     "metadata": {},
     "output_type": "display_data"
    },
    {
     "name": "stdout",
     "output_type": "stream",
     "text": [
      "Atoms(symbols='No2', pbc=True, cell=[12.0, 12.001, 12.002])\n"
     ]
    },
    {
     "data": {
      "application/vnd.jupyter.widget-view+json": {
       "model_id": "f92f7ecf653e4e8794856a16f3f96f2d",
       "version_major": 2,
       "version_minor": 0
      },
      "text/plain": [
       "  0%|          | 0/582 [00:00<?, ?it/s]"
      ]
     },
     "metadata": {},
     "output_type": "display_data"
    },
    {
     "name": "stdout",
     "output_type": "stream",
     "text": [
      "Atoms(symbols='Lr2', pbc=True, cell=[12.0, 12.001, 12.002])\n"
     ]
    },
    {
     "data": {
      "application/vnd.jupyter.widget-view+json": {
       "model_id": "37812fa907744861a1540588da19cb3a",
       "version_major": 2,
       "version_minor": 0
      },
      "text/plain": [
       "  0%|          | 0/582 [00:00<?, ?it/s]"
      ]
     },
     "metadata": {},
     "output_type": "display_data"
    },
    {
     "name": "stdout",
     "output_type": "stream",
     "text": [
      "Atoms(symbols='Rf2', pbc=True, cell=[12.0, 12.001, 12.002])\n"
     ]
    },
    {
     "data": {
      "application/vnd.jupyter.widget-view+json": {
       "model_id": "8afb278d247b439883d0c46fa4a0144b",
       "version_major": 2,
       "version_minor": 0
      },
      "text/plain": [
       "  0%|          | 0/582 [00:00<?, ?it/s]"
      ]
     },
     "metadata": {},
     "output_type": "display_data"
    },
    {
     "name": "stdout",
     "output_type": "stream",
     "text": [
      "Atoms(symbols='Db2', pbc=True, cell=[12.0, 12.001, 12.002])\n"
     ]
    },
    {
     "data": {
      "application/vnd.jupyter.widget-view+json": {
       "model_id": "30c5d695a8334d938b2bc90aafc45848",
       "version_major": 2,
       "version_minor": 0
      },
      "text/plain": [
       "  0%|          | 0/582 [00:00<?, ?it/s]"
      ]
     },
     "metadata": {},
     "output_type": "display_data"
    },
    {
     "name": "stdout",
     "output_type": "stream",
     "text": [
      "Atoms(symbols='Sg2', pbc=True, cell=[12.0, 12.001, 12.002])\n"
     ]
    },
    {
     "data": {
      "application/vnd.jupyter.widget-view+json": {
       "model_id": "79cd1e8a0a1d42c19fbcb67cdba0bd42",
       "version_major": 2,
       "version_minor": 0
      },
      "text/plain": [
       "  0%|          | 0/582 [00:00<?, ?it/s]"
      ]
     },
     "metadata": {},
     "output_type": "display_data"
    },
    {
     "name": "stdout",
     "output_type": "stream",
     "text": [
      "Atoms(symbols='Bh2', pbc=True, cell=[12.0, 12.001, 12.002])\n"
     ]
    },
    {
     "data": {
      "application/vnd.jupyter.widget-view+json": {
       "model_id": "b60db221da2b4e6e87b6d25c5c6bb6f9",
       "version_major": 2,
       "version_minor": 0
      },
      "text/plain": [
       "  0%|          | 0/582 [00:00<?, ?it/s]"
      ]
     },
     "metadata": {},
     "output_type": "display_data"
    },
    {
     "name": "stdout",
     "output_type": "stream",
     "text": [
      "Atoms(symbols='Hs2', pbc=True, cell=[12.0, 12.001, 12.002])\n"
     ]
    },
    {
     "data": {
      "application/vnd.jupyter.widget-view+json": {
       "model_id": "fb6ff68f1b3c4cf593c625d3b280275f",
       "version_major": 2,
       "version_minor": 0
      },
      "text/plain": [
       "  0%|          | 0/582 [00:00<?, ?it/s]"
      ]
     },
     "metadata": {},
     "output_type": "display_data"
    },
    {
     "name": "stderr",
     "output_type": "stream",
     "text": [
      "IOPub message rate exceeded.\n",
      "The Jupyter server will temporarily stop sending output\n",
      "to the client in order to avoid crashing it.\n",
      "To change this limit, set the config variable\n",
      "`--ServerApp.iopub_msg_rate_limit`.\n",
      "\n",
      "Current values:\n",
      "ServerApp.iopub_msg_rate_limit=1000.0 (msgs/sec)\n",
      "ServerApp.rate_limit_window=3.0 (secs)\n",
      "\n"
     ]
    }
   ],
   "source": [
    "for model in MLIPEnum:\n",
    "    \n",
    "    model_name = model.name\n",
    "    \n",
    "    if model_name != 'ORBv2':\n",
    "        continue\n",
    "    \n",
    "    print(f\"========== {model_name} ==========\")\n",
    "\n",
    "    calc = MLIPEnum[model_name].value()\n",
    "\n",
    "    for symbol in tqdm(chemical_symbols[1:]):\n",
    "\n",
    "        s = set([symbol])\n",
    "\n",
    "        if \"X\" in s:\n",
    "            continue\n",
    "\n",
    "        try:\n",
    "            atom = Atom(symbol)\n",
    "            rmin = 0.9 * covalent_radii[atom.number]\n",
    "            rvdw = vdw_alvarez.vdw_radii[atom.number] if atom.number < len(vdw_alvarez.vdw_radii) else np.nan\n",
    "            rmax = 3.1 * rvdw if not np.isnan(rvdw) else 6\n",
    "            rstep = 0.01\n",
    "\n",
    "            a = 2 * rmax\n",
    "\n",
    "            npts = int((rmax - rmin)/rstep)\n",
    "\n",
    "            rs = np.linspace(rmin, rmax, npts)\n",
    "            es = np.zeros_like(rs)\n",
    "\n",
    "            da = symbol + symbol\n",
    "\n",
    "            out_dir = Path(REGISTRY[model_name][\"family\"]) / str(da)\n",
    "            os.makedirs(out_dir, exist_ok=True)\n",
    "\n",
    "            skip = 0\n",
    "\n",
    "            element = Element(symbol)\n",
    "\n",
    "            try:\n",
    "                m = element.valence[1]\n",
    "                if element.valence == (0, 2):\n",
    "                    m = 0\n",
    "            except:\n",
    "                m = 0\n",
    "\n",
    "\n",
    "            r = rs[0]\n",
    "\n",
    "            positions = [\n",
    "                [a/2-r/2, a/2, a/2],\n",
    "                [a/2+r/2, a/2, a/2],\n",
    "            ]\n",
    "\n",
    "            traj_fpath = out_dir / f\"{model_name}.extxyz\"\n",
    "\n",
    "            if traj_fpath.exists():\n",
    "                traj = read(traj_fpath, index=\":\")\n",
    "                skip = len(traj)\n",
    "                atoms = traj[-1]\n",
    "            else:\n",
    "                # Create the unit cell with two atoms\n",
    "                atoms = Atoms(\n",
    "                    da,\n",
    "                    positions=positions,\n",
    "                    # magmoms=magmoms,\n",
    "                    cell=[a, a+0.001, a+0.002],\n",
    "                    pbc=True\n",
    "                )\n",
    "\n",
    "            print(atoms)\n",
    "\n",
    "            atoms.calc = calc\n",
    "\n",
    "            for i, r in enumerate(tqdm(rs)):\n",
    "\n",
    "                if i < skip:\n",
    "                    continue\n",
    "\n",
    "                positions = [\n",
    "                    [a/2-r/2, a/2, a/2],\n",
    "                    [a/2+r/2, a/2, a/2],\n",
    "                ]\n",
    "\n",
    "                # atoms.set_initial_magnetic_moments(magmoms)\n",
    "\n",
    "                atoms.set_positions(positions)\n",
    "\n",
    "                es[i] = atoms.get_potential_energy()\n",
    "\n",
    "                write(traj_fpath, atoms, append=\"a\")\n",
    "        except Exception as e:\n",
    "            print(e)\n"
   ]
  },
  {
   "cell_type": "markdown",
   "id": "f1bbfae1-790d-4586-9d7d-79c1ba658dcb",
   "metadata": {},
   "source": [
    "# Analysis and output"
   ]
  },
  {
   "cell_type": "code",
   "execution_count": 34,
   "id": "a0ac2c09-370b-4fdd-bf74-ea5c4ade0215",
   "metadata": {
    "scrolled": true,
    "tags": []
   },
   "outputs": [
    {
     "name": "stdout",
     "output_type": "stream",
     "text": [
      "========== MACE-MP(M) ==========\n"
     ]
    },
    {
     "data": {
      "application/vnd.jupyter.widget-view+json": {
       "model_id": "c76d9da0324b41ea82a7f3c1c6bbbd02",
       "version_major": 2,
       "version_minor": 0
      },
      "text/plain": [
       "  0%|          | 0/118 [00:00<?, ?it/s]"
      ]
     },
     "metadata": {},
     "output_type": "display_data"
    },
    {
     "name": "stderr",
     "output_type": "stream",
     "text": [
      "/tmp/ipykernel_252771/4211250337.py:207: FutureWarning: The behavior of DataFrame concatenation with empty or all-NA entries is deprecated. In a future version, this will no longer exclude empty or all-NA columns when determining the result dtypes. To retain the old behavior, exclude the relevant entries before the concat operation.\n",
      "  df = pd.concat([df, pd.DataFrame([data])], ignore_index=True)\n",
      "/tmp/ipykernel_252771/4211250337.py:197: RuntimeWarning: invalid value encountered in scalar divide\n",
      "  \"tortuosity\": etv / (abs(es[0] - es.min()) + (es[-1] - es.min())),\n",
      "/tmp/ipykernel_252771/4211250337.py:199: ConstantInputWarning: An input array is constant; the correlation coefficient is not defined.\n",
      "  \"spearman-descending-force\": stats.spearmanr(rs[iminf:], fs[iminf:]).statistic,\n",
      "/tmp/ipykernel_252771/4211250337.py:201: ConstantInputWarning: An input array is constant; the correlation coefficient is not defined.\n",
      "  \"spearman-repulsion-energy\": stats.spearmanr(rs[imine:], es[imine:]).statistic,\n"
     ]
    },
    {
     "name": "stdout",
     "output_type": "stream",
     "text": [
      "========== CHGNet ==========\n"
     ]
    },
    {
     "data": {
      "application/vnd.jupyter.widget-view+json": {
       "model_id": "3480954042c54cfaa14639051e927a2e",
       "version_major": 2,
       "version_minor": 0
      },
      "text/plain": [
       "  0%|          | 0/118 [00:00<?, ?it/s]"
      ]
     },
     "metadata": {},
     "output_type": "display_data"
    },
    {
     "name": "stderr",
     "output_type": "stream",
     "text": [
      "/tmp/ipykernel_252771/4211250337.py:207: FutureWarning: The behavior of DataFrame concatenation with empty or all-NA entries is deprecated. In a future version, this will no longer exclude empty or all-NA columns when determining the result dtypes. To retain the old behavior, exclude the relevant entries before the concat operation.\n",
      "  df = pd.concat([df, pd.DataFrame([data])], ignore_index=True)\n"
     ]
    },
    {
     "name": "stdout",
     "output_type": "stream",
     "text": [
      "========== M3GNet ==========\n"
     ]
    },
    {
     "data": {
      "application/vnd.jupyter.widget-view+json": {
       "model_id": "0cab810ea1b149da864700de1aa2a8a6",
       "version_major": 2,
       "version_minor": 0
      },
      "text/plain": [
       "  0%|          | 0/118 [00:00<?, ?it/s]"
      ]
     },
     "metadata": {},
     "output_type": "display_data"
    },
    {
     "name": "stderr",
     "output_type": "stream",
     "text": [
      "/tmp/ipykernel_252771/4211250337.py:207: FutureWarning: The behavior of DataFrame concatenation with empty or all-NA entries is deprecated. In a future version, this will no longer exclude empty or all-NA columns when determining the result dtypes. To retain the old behavior, exclude the relevant entries before the concat operation.\n",
      "  df = pd.concat([df, pd.DataFrame([data])], ignore_index=True)\n",
      "/tmp/ipykernel_252771/4211250337.py:200: ConstantInputWarning: An input array is constant; the correlation coefficient is not defined.\n",
      "  \"spearman-ascending-force\": stats.spearmanr(rs[:iminf], fs[:iminf]).statistic,\n"
     ]
    },
    {
     "name": "stdout",
     "output_type": "stream",
     "text": [
      "========== ORB ==========\n"
     ]
    },
    {
     "data": {
      "application/vnd.jupyter.widget-view+json": {
       "model_id": "5746ba4b3e184c219ec3b21f7a08db5c",
       "version_major": 2,
       "version_minor": 0
      },
      "text/plain": [
       "  0%|          | 0/118 [00:00<?, ?it/s]"
      ]
     },
     "metadata": {},
     "output_type": "display_data"
    },
    {
     "name": "stderr",
     "output_type": "stream",
     "text": [
      "/tmp/ipykernel_252771/4211250337.py:207: FutureWarning: The behavior of DataFrame concatenation with empty or all-NA entries is deprecated. In a future version, this will no longer exclude empty or all-NA columns when determining the result dtypes. To retain the old behavior, exclude the relevant entries before the concat operation.\n",
      "  df = pd.concat([df, pd.DataFrame([data])], ignore_index=True)\n"
     ]
    },
    {
     "name": "stdout",
     "output_type": "stream",
     "text": [
      "========== SevenNet ==========\n"
     ]
    },
    {
     "data": {
      "application/vnd.jupyter.widget-view+json": {
       "model_id": "067c399a9bb84555b40030b9ee9b1078",
       "version_major": 2,
       "version_minor": 0
      },
      "text/plain": [
       "  0%|          | 0/118 [00:00<?, ?it/s]"
      ]
     },
     "metadata": {},
     "output_type": "display_data"
    },
    {
     "name": "stderr",
     "output_type": "stream",
     "text": [
      "/tmp/ipykernel_252771/4211250337.py:207: FutureWarning: The behavior of DataFrame concatenation with empty or all-NA entries is deprecated. In a future version, this will no longer exclude empty or all-NA columns when determining the result dtypes. To retain the old behavior, exclude the relevant entries before the concat operation.\n",
      "  df = pd.concat([df, pd.DataFrame([data])], ignore_index=True)\n",
      "/tmp/ipykernel_252771/4211250337.py:202: ConstantInputWarning: An input array is constant; the correlation coefficient is not defined.\n",
      "  \"spearman-attraction-energy\": stats.spearmanr(rs[:imine], es[:imine]).statistic,\n"
     ]
    },
    {
     "name": "stdout",
     "output_type": "stream",
     "text": [
      "========== eqV2(OMat) ==========\n"
     ]
    },
    {
     "data": {
      "application/vnd.jupyter.widget-view+json": {
       "model_id": "5ace0e7a29a84f6eb87611ac4301a634",
       "version_major": 2,
       "version_minor": 0
      },
      "text/plain": [
       "  0%|          | 0/118 [00:00<?, ?it/s]"
      ]
     },
     "metadata": {},
     "output_type": "display_data"
    },
    {
     "name": "stderr",
     "output_type": "stream",
     "text": [
      "/tmp/ipykernel_252771/4211250337.py:207: FutureWarning: The behavior of DataFrame concatenation with empty or all-NA entries is deprecated. In a future version, this will no longer exclude empty or all-NA columns when determining the result dtypes. To retain the old behavior, exclude the relevant entries before the concat operation.\n",
      "  df = pd.concat([df, pd.DataFrame([data])], ignore_index=True)\n"
     ]
    },
    {
     "name": "stdout",
     "output_type": "stream",
     "text": [
      "========== EquiformerV2(OC22) ==========\n"
     ]
    },
    {
     "data": {
      "application/vnd.jupyter.widget-view+json": {
       "model_id": "1f5c9bf8e5734c9fafaaf88a9627525d",
       "version_major": 2,
       "version_minor": 0
      },
      "text/plain": [
       "  0%|          | 0/118 [00:00<?, ?it/s]"
      ]
     },
     "metadata": {},
     "output_type": "display_data"
    },
    {
     "name": "stderr",
     "output_type": "stream",
     "text": [
      "/tmp/ipykernel_252771/4211250337.py:207: FutureWarning: The behavior of DataFrame concatenation with empty or all-NA entries is deprecated. In a future version, this will no longer exclude empty or all-NA columns when determining the result dtypes. To retain the old behavior, exclude the relevant entries before the concat operation.\n",
      "  df = pd.concat([df, pd.DataFrame([data])], ignore_index=True)\n",
      "/tmp/ipykernel_252771/4211250337.py:197: RuntimeWarning: invalid value encountered in scalar divide\n",
      "  \"tortuosity\": etv / (abs(es[0] - es.min()) + (es[-1] - es.min())),\n",
      "/tmp/ipykernel_252771/4211250337.py:201: ConstantInputWarning: An input array is constant; the correlation coefficient is not defined.\n",
      "  \"spearman-repulsion-energy\": stats.spearmanr(rs[imine:], es[imine:]).statistic,\n",
      "/tmp/ipykernel_252771/4211250337.py:202: ConstantInputWarning: An input array is constant; the correlation coefficient is not defined.\n",
      "  \"spearman-attraction-energy\": stats.spearmanr(rs[:imine], es[:imine]).statistic,\n",
      "/tmp/ipykernel_252771/4211250337.py:197: RuntimeWarning: divide by zero encountered in scalar divide\n",
      "  \"tortuosity\": etv / (abs(es[0] - es.min()) + (es[-1] - es.min())),\n"
     ]
    },
    {
     "name": "stdout",
     "output_type": "stream",
     "text": [
      "========== EquiformerV2(OC20) ==========\n"
     ]
    },
    {
     "data": {
      "application/vnd.jupyter.widget-view+json": {
       "model_id": "1848f508ae534cd8a46e96d12a1f8d4c",
       "version_major": 2,
       "version_minor": 0
      },
      "text/plain": [
       "  0%|          | 0/118 [00:00<?, ?it/s]"
      ]
     },
     "metadata": {},
     "output_type": "display_data"
    },
    {
     "name": "stderr",
     "output_type": "stream",
     "text": [
      "/tmp/ipykernel_252771/4211250337.py:207: FutureWarning: The behavior of DataFrame concatenation with empty or all-NA entries is deprecated. In a future version, this will no longer exclude empty or all-NA columns when determining the result dtypes. To retain the old behavior, exclude the relevant entries before the concat operation.\n",
      "  df = pd.concat([df, pd.DataFrame([data])], ignore_index=True)\n"
     ]
    },
    {
     "name": "stdout",
     "output_type": "stream",
     "text": [
      "========== eSCN(OC20) ==========\n"
     ]
    },
    {
     "data": {
      "application/vnd.jupyter.widget-view+json": {
       "model_id": "fb9dfedf4d2944f1b420187d25ebe5ff",
       "version_major": 2,
       "version_minor": 0
      },
      "text/plain": [
       "  0%|          | 0/118 [00:00<?, ?it/s]"
      ]
     },
     "metadata": {},
     "output_type": "display_data"
    },
    {
     "name": "stderr",
     "output_type": "stream",
     "text": [
      "/tmp/ipykernel_252771/4211250337.py:207: FutureWarning: The behavior of DataFrame concatenation with empty or all-NA entries is deprecated. In a future version, this will no longer exclude empty or all-NA columns when determining the result dtypes. To retain the old behavior, exclude the relevant entries before the concat operation.\n",
      "  df = pd.concat([df, pd.DataFrame([data])], ignore_index=True)\n"
     ]
    },
    {
     "name": "stdout",
     "output_type": "stream",
     "text": [
      "========== MACE-OFF(M) ==========\n"
     ]
    },
    {
     "data": {
      "application/vnd.jupyter.widget-view+json": {
       "model_id": "864a1e4b6cd048d78864977aaf3bc34a",
       "version_major": 2,
       "version_minor": 0
      },
      "text/plain": [
       "  0%|          | 0/118 [00:00<?, ?it/s]"
      ]
     },
     "metadata": {},
     "output_type": "display_data"
    },
    {
     "name": "stderr",
     "output_type": "stream",
     "text": [
      "/tmp/ipykernel_252771/4211250337.py:207: FutureWarning: The behavior of DataFrame concatenation with empty or all-NA entries is deprecated. In a future version, this will no longer exclude empty or all-NA columns when determining the result dtypes. To retain the old behavior, exclude the relevant entries before the concat operation.\n",
      "  df = pd.concat([df, pd.DataFrame([data])], ignore_index=True)\n"
     ]
    },
    {
     "name": "stdout",
     "output_type": "stream",
     "text": [
      "========== ALIGNN ==========\n"
     ]
    },
    {
     "data": {
      "application/vnd.jupyter.widget-view+json": {
       "model_id": "57d521c2b1ee45f0b8cb70b351f57f57",
       "version_major": 2,
       "version_minor": 0
      },
      "text/plain": [
       "  0%|          | 0/118 [00:00<?, ?it/s]"
      ]
     },
     "metadata": {},
     "output_type": "display_data"
    },
    {
     "name": "stderr",
     "output_type": "stream",
     "text": [
      "/tmp/ipykernel_252771/4211250337.py:207: FutureWarning: The behavior of DataFrame concatenation with empty or all-NA entries is deprecated. In a future version, this will no longer exclude empty or all-NA columns when determining the result dtypes. To retain the old behavior, exclude the relevant entries before the concat operation.\n",
      "  df = pd.concat([df, pd.DataFrame([data])], ignore_index=True)\n",
      "/tmp/ipykernel_252771/4211250337.py:202: ConstantInputWarning: An input array is constant; the correlation coefficient is not defined.\n",
      "  \"spearman-attraction-energy\": stats.spearmanr(rs[:imine], es[:imine]).statistic,\n"
     ]
    },
    {
     "name": "stdout",
     "output_type": "stream",
     "text": [
      "========== ORBv2 ==========\n"
     ]
    },
    {
     "data": {
      "application/vnd.jupyter.widget-view+json": {
       "model_id": "eb7e69ba02b14c4c90c0e665c091e9e2",
       "version_major": 2,
       "version_minor": 0
      },
      "text/plain": [
       "  0%|          | 0/118 [00:00<?, ?it/s]"
      ]
     },
     "metadata": {},
     "output_type": "display_data"
    },
    {
     "name": "stderr",
     "output_type": "stream",
     "text": [
      "/tmp/ipykernel_252771/4211250337.py:207: FutureWarning: The behavior of DataFrame concatenation with empty or all-NA entries is deprecated. In a future version, this will no longer exclude empty or all-NA columns when determining the result dtypes. To retain the old behavior, exclude the relevant entries before the concat operation.\n",
      "  df = pd.concat([df, pd.DataFrame([data])], ignore_index=True)\n",
      "/tmp/ipykernel_252771/4211250337.py:200: ConstantInputWarning: An input array is constant; the correlation coefficient is not defined.\n",
      "  \"spearman-ascending-force\": stats.spearmanr(rs[:iminf], fs[:iminf]).statistic,\n"
     ]
    }
   ],
   "source": [
    "\n",
    "\n",
    "for model in MLIPEnum:\n",
    "    \n",
    "    model_name = model.name\n",
    "    \n",
    "    # json_fpath = Path(REGISTRY[model_name][\"family\"]) / \"homonuclear-diatomics.json\"\n",
    "    \n",
    "    # if json_fpath.exists():\n",
    "    #     continue\n",
    "\n",
    "    # if model_name != \"ORBv2\":\n",
    "    #     continue\n",
    "\n",
    "    print(f\"========== {model_name} ==========\")\n",
    "    \n",
    "    df = pd.DataFrame(columns=[\n",
    "        \"name\", \n",
    "        \"method\", \n",
    "        \"R\", \"E\", \"F\", \"S^2\",\n",
    "        \"force-flip-times\",\n",
    "        \"force-total-variation\",\n",
    "        \"force-jump\",\n",
    "        \"energy-diff-flip-times\",\n",
    "        \"energy-grad-norm-max\",\n",
    "        \"energy-jump\",\n",
    "        \"energy-total-variation\",\n",
    "        \"tortuosity\",\n",
    "        \"conservation-deviation\",\n",
    "        \"spearman-descending-force\",\n",
    "        \"spearman-ascending-force\",\n",
    "        \"spearman-repulsion-energy\",\n",
    "        \"spearman-attraction-energy\",\n",
    "        \"pbe-energy-mae\",\n",
    "        \"pbe-force-mae\"\n",
    "    ])\n",
    "    \n",
    "\n",
    "    for symbol in tqdm(chemical_symbols[1:]):\n",
    "\n",
    "        da = symbol + symbol\n",
    "\n",
    "        out_dir = Path(REGISTRY[model_name][\"family\"]) / da\n",
    "\n",
    "        traj_fpath = out_dir / f\"{model_name}.extxyz\"\n",
    "\n",
    "\n",
    "        if traj_fpath.exists():\n",
    "            traj = read(traj_fpath, index=\":\")\n",
    "        else:\n",
    "            continue\n",
    "\n",
    "        Rs, Es, Fs, S2s = [], [], [], []\n",
    "        for atoms in traj:\n",
    "\n",
    "            vec = atoms.positions[1] - atoms.positions[0]\n",
    "            r = np.linalg.norm(vec)\n",
    "            e = atoms.get_potential_energy()\n",
    "            f = np.inner(vec/r, atoms.get_forces()[1])\n",
    "            # s2 = np.mean(np.power(atoms.get_magnetic_moments(), 2))\n",
    "\n",
    "            Rs.append(r)\n",
    "            Es.append(e)\n",
    "            Fs.append(f)\n",
    "            # S2s.append(s2)\n",
    "\n",
    "        rs = np.array(Rs)\n",
    "        es = np.array(Es)\n",
    "        fs = np.array(Fs)\n",
    "\n",
    "        # sort interatomic distances and align to zero at far field\n",
    "        indices = np.argsort(rs)[::-1]\n",
    "        rs = rs[indices]\n",
    "        es = es[indices]\n",
    "        eshift = es[0]\n",
    "        es -= eshift\n",
    "        fs = fs[indices]\n",
    "\n",
    "        iminf = np.argmin(fs)\n",
    "        imine = np.argmin(es)\n",
    "\n",
    "        de_dr = np.gradient(es, rs)\n",
    "        d2e_dr2 = np.gradient(de_dr, rs)\n",
    "\n",
    "        # avoid numerical sensitity close to zero\n",
    "        rounded_fs = np.copy(fs)\n",
    "        rounded_fs[np.abs(rounded_fs) < 1e-2] = 0 # 10meV/A\n",
    "        fs_sign = np.sign(rounded_fs)\n",
    "        mask = fs_sign != 0\n",
    "        rounded_fs = rounded_fs[mask]\n",
    "        fs_sign = fs_sign[mask]\n",
    "        f_flip = np.diff(fs_sign) != 0\n",
    "        \n",
    "        fdiff = np.diff(fs)\n",
    "        fdiff_sign = np.sign(fdiff)\n",
    "        mask = fdiff_sign != 0\n",
    "        fdiff = fdiff[mask]\n",
    "        fdiff_sign = fdiff_sign[mask]\n",
    "        fdiff_flip = np.diff(fdiff_sign) != 0\n",
    "        fjump = np.abs(fdiff[:-1][fdiff_flip]).sum() + np.abs(fdiff[1:][fdiff_flip]).sum()\n",
    "        \n",
    "\n",
    "        ediff = np.diff(es)\n",
    "        ediff[np.abs(ediff) < 1e-3] = 0 # 1meV\n",
    "        ediff_sign = np.sign(ediff)\n",
    "        mask = ediff_sign != 0\n",
    "        ediff = ediff[mask]\n",
    "        ediff_sign = ediff_sign[mask]\n",
    "        ediff_flip = np.diff(ediff_sign) != 0\n",
    "        ejump = np.abs(ediff[:-1][ediff_flip]).sum() + np.abs(ediff[1:][ediff_flip]).sum()\n",
    "        \n",
    "        try:\n",
    "            pbe_traj = read(f'./vasp/{da}_FM/PBE.extxyz', index=\":\")\n",
    "\n",
    "            pbe_rs, pbe_es, pbe_fs = [], [], []\n",
    "\n",
    "            for atoms in pbe_traj:\n",
    "                vec = atoms.positions[1] - atoms.positions[0]\n",
    "                r = np.linalg.norm(vec)\n",
    "                pbe_rs.append(r)\n",
    "                pbe_es.append(atoms.get_potential_energy())\n",
    "                pbe_fs.append(np.inner(vec/r, atoms.get_forces()[1]))\n",
    "\n",
    "            pbe_rs = np.array(pbe_rs)\n",
    "            pbe_es = np.array(pbe_es)\n",
    "            pbe_fs = np.array(pbe_fs)\n",
    "\n",
    "            indices = np.argsort(pbe_rs)\n",
    "            pbe_rs = pbe_rs[indices]\n",
    "            pbe_es = pbe_es[indices]\n",
    "            pbe_fs = pbe_fs[indices]\n",
    "\n",
    "            pbe_es -= pbe_es[-1]\n",
    "\n",
    "            xs = np.linspace(pbe_rs.min(), pbe_rs.max(), int(1e3))\n",
    "\n",
    "            cs = UnivariateSpline(pbe_rs, pbe_es, s=0)\n",
    "            pbe_energy_mae = np.mean(np.abs(es - cs(rs)))\n",
    "\n",
    "            cs = UnivariateSpline(pbe_rs, pbe_fs, s=0)\n",
    "            pbe_force_mae = np.mean(np.abs(fs - cs(rs)))\n",
    "        except:\n",
    "            pbe_energy_mae = None\n",
    "            pbe_force_mae = None\n",
    "        \n",
    "        \n",
    "#         edged_es = np.convolve(es, [1, -2, 1], mode='valid')\n",
    "#         # edged_es[np.abs(edged_es) < 0.1] = 0\n",
    "#         prob = np.exp(-es[1:-1]) / np.sum(np.exp(-es[1:-1]))\n",
    "#         edged_es *= prob\n",
    "#         # edged_es /= np.abs(es[1:-1])\n",
    "#         ejump = np.linalg.norm(edged_es)\n",
    "#         ejump = np.abs(edged_es).sum() / 2.0\n",
    "        \n",
    "#         edged_fs = np.convolve(fs, [1, -2, 1], mode='valid')\n",
    "#         # edged_fs[np.abs(edged_fs) < 0.1] = 0\n",
    "#         edged_fs *= prob\n",
    "#         fjump = np.linalg.norm(edged_fs)\n",
    "        # fjump = np.abs(edged_fs).sum() / 2.0\n",
    "        \n",
    "#         fig, axes = plt.subplot_mosaic(\n",
    "#             \"\"\"\n",
    "#             ac\n",
    "#             bd\n",
    "#             \"\"\",\n",
    "#             constrained_layout=True\n",
    "#         )\n",
    "        \n",
    "\n",
    "#         axes['a'].plot(rs, es)\n",
    "#         axes['b'].plot(rs[1:-1], edged_es)\n",
    "#         # axes['b'].plot(0.5*(rs[1:] + rs[:-1]), np.diff(es))\n",
    "#         axes['b'].text(0.7, 0.7, f\"{ejump:.3e}\", transform=axes['b'].transAxes)\n",
    "        \n",
    "#         axes['c'].plot(rs, fs)\n",
    "#         axes['d'].plot(rs[1:-1], edged_fs)\n",
    "#         axes['d'].text(0.7, 0.7, f\"{fjump:.3e}\", transform=axes['d'].transAxes)\n",
    "        \n",
    "\n",
    "        conservation_deviation = np.mean(np.abs(fs + de_dr))\n",
    "        \n",
    "        etv = np.sum(np.abs(np.diff(es)))\n",
    "\n",
    "        data = {\n",
    "            \"name\": da,\n",
    "            \"method\": model_name,\n",
    "            \"R\": rs,\n",
    "            \"E\": es + eshift,\n",
    "            \"F\": fs,\n",
    "            \"S^2\": S2s,\n",
    "            \"force-flip-times\": np.sum(f_flip),\n",
    "            \"force-total-variation\": np.sum(np.abs(np.diff(fs))),\n",
    "            \"force-jump\": fjump,\n",
    "            \"energy-diff-flip-times\": np.sum(ediff_flip),\n",
    "            \"energy-grad-norm-max\": np.max(np.abs(de_dr)),\n",
    "            \"energy-jump\": ejump,\n",
    "            # \"energy-grad-norm-mean\": np.mean(de_dr_abs),\n",
    "            \"energy-total-variation\": etv,\n",
    "            \"tortuosity\": etv / (abs(es[0] - es.min()) + (es[-1] - es.min())),\n",
    "            \"conservation-deviation\": conservation_deviation,\n",
    "            \"spearman-descending-force\": stats.spearmanr(rs[iminf:], fs[iminf:]).statistic,\n",
    "            \"spearman-ascending-force\": stats.spearmanr(rs[:iminf], fs[:iminf]).statistic,\n",
    "            \"spearman-repulsion-energy\": stats.spearmanr(rs[imine:], es[imine:]).statistic,\n",
    "            \"spearman-attraction-energy\": stats.spearmanr(rs[:imine], es[:imine]).statistic,\n",
    "            \"pbe-energy-mae\": pbe_energy_mae,\n",
    "            \"pbe-force-mae\": pbe_force_mae\n",
    "        }\n",
    "\n",
    "        df = pd.concat([df, pd.DataFrame([data])], ignore_index=True)\n",
    "\n",
    "    json_fpath = Path(REGISTRY[model_name][\"family\"]) / \"homonuclear-diatomics.json\"\n",
    "\n",
    "    if json_fpath.exists():\n",
    "        df0 = pd.read_json(json_fpath)\n",
    "        df = pd.concat([df0, df], ignore_index=True)\n",
    "        df.drop_duplicates(inplace=True, subset=[\"name\", \"method\"], keep='last')\n",
    "\n",
    "    df.to_json(json_fpath, orient=\"records\")"
   ]
  },
  {
   "cell_type": "code",
   "execution_count": 33,
   "id": "15ad3492-f40c-432d-bbbc-1aaae3652311",
   "metadata": {
    "tags": []
   },
   "outputs": [
    {
     "data": {
      "text/plain": [
       "Text(0.9, 0.9, 'MAE:  52.528')"
      ]
     },
     "execution_count": 33,
     "metadata": {},
     "output_type": "execute_result"
    },
    {
     "data": {
      "image/png": "[encoded data removed]",
      "text/plain": [
       "<Figure size 640x480 with 2 Axes>"
      ]
     },
     "metadata": {},
     "output_type": "display_data"
    }
   ],
   "source": [
    "from matplotlib import pyplot as plt\n",
    "\n",
    "fig, axes = plt.subplots(2)\n",
    "axes[0].plot(rs, fs)\n",
    "axes[0].plot(rs, cs(rs))\n",
    "\n",
    "axes[1].plot(rs, fs - cs(rs))\n",
    "\n",
    "axes[1].text(0.9, 0.9, f\"MAE: { np.abs(fs - cs(rs)).mean(): .3f}\")"
   ]
  },
  {
   "cell_type": "code",
   "execution_count": 14,
   "id": "e0dd4367-3dca-440f-a7a9-7fdd84183f2c",
   "metadata": {
    "tags": []
   },
   "outputs": [
    {
     "data": {
      "text/html": [
       "<div>\n",
       "<style scoped>\n",
       "    .dataframe tbody tr th:only-of-type {\n",
       "        vertical-align: middle;\n",
       "    }\n",
       "\n",
       "    .dataframe tbody tr th {\n",
       "        vertical-align: top;\n",
       "    }\n",
       "\n",
       "    .dataframe thead th {\n",
       "        text-align: right;\n",
       "    }\n",
       "</style>\n",
       "<table border=\"1\" class=\"dataframe\">\n",
       "  <thead>\n",
       "    <tr style=\"text-align: right;\">\n",
       "      <th></th>\n",
       "      <th>name</th>\n",
       "      <th>method</th>\n",
       "      <th>R</th>\n",
       "      <th>E</th>\n",
       "      <th>F</th>\n",
       "      <th>S^2</th>\n",
       "      <th>force-flip-times</th>\n",
       "      <th>force-total-variation</th>\n",
       "      <th>energy-diff-flip-times</th>\n",
       "      <th>energy-grad-norm-max</th>\n",
       "      <th>...</th>\n",
       "      <th>energy-total-variation</th>\n",
       "      <th>conservation-deviation</th>\n",
       "      <th>spearman-descending-force</th>\n",
       "      <th>spearman-ascending-force</th>\n",
       "      <th>spearman-repulsion-energy</th>\n",
       "      <th>spearman-attraction-energy</th>\n",
       "      <th>tortuosity</th>\n",
       "      <th>force-jump</th>\n",
       "      <th>pbe-energy-mae</th>\n",
       "      <th>pbe-force-mae</th>\n",
       "    </tr>\n",
       "  </thead>\n",
       "  <tbody>\n",
       "    <tr>\n",
       "      <th>117</th>\n",
       "      <td>HH</td>\n",
       "      <td>ORB</td>\n",
       "      <td>[3.7199999999999998, 3.70996794, 3.69993586, 3...</td>\n",
       "      <td>[-2.253027916, -2.2530450821, -2.2531223297, -...</td>\n",
       "      <td>[0.00029414, 0.00030291, 0.00033964, 0.0003847...</td>\n",
       "      <td>[]</td>\n",
       "      <td>4</td>\n",
       "      <td>133.563746</td>\n",
       "      <td>3</td>\n",
       "      <td>102.248369</td>\n",
       "      <td>...</td>\n",
       "      <td>13.361551</td>\n",
       "      <td>3.256510</td>\n",
       "      <td>-0.995613</td>\n",
       "      <td>0.578188</td>\n",
       "      <td>-0.974646</td>\n",
       "      <td>0.503110</td>\n",
       "      <td>1.294458</td>\n",
       "      <td>33.598923</td>\n",
       "      <td>1.380663</td>\n",
       "      <td>2.621806</td>\n",
       "    </tr>\n",
       "    <tr>\n",
       "      <th>118</th>\n",
       "      <td>HeHe</td>\n",
       "      <td>ORB</td>\n",
       "      <td>[4.433, 4.42297362, 4.41294724, 4.40292086, 4....</td>\n",
       "      <td>[-0.0489044189, -0.0488109589, -0.0487890244, ...</td>\n",
       "      <td>[0.00020237, 0.00022884, 0.00022473, 0.0002023...</td>\n",
       "      <td>[]</td>\n",
       "      <td>2</td>\n",
       "      <td>125.775458</td>\n",
       "      <td>3</td>\n",
       "      <td>133.955726</td>\n",
       "      <td>...</td>\n",
       "      <td>13.115419</td>\n",
       "      <td>2.880469</td>\n",
       "      <td>-0.995071</td>\n",
       "      <td>-0.047308</td>\n",
       "      <td>-0.971360</td>\n",
       "      <td>0.339413</td>\n",
       "      <td>1.462191</td>\n",
       "      <td>31.778227</td>\n",
       "      <td>NaN</td>\n",
       "      <td>NaN</td>\n",
       "    </tr>\n",
       "    <tr>\n",
       "      <th>119</th>\n",
       "      <td>LiLi</td>\n",
       "      <td>ORB</td>\n",
       "      <td>[6.572, 6.56198152, 6.55196304, 6.54194454, 6....</td>\n",
       "      <td>[-0.6005258560000001, -0.600976944, -0.6010656...</td>\n",
       "      <td>[-5.638e-05, -9.191e-05, -0.000119780000000000...</td>\n",
       "      <td>[]</td>\n",
       "      <td>1</td>\n",
       "      <td>21.673787</td>\n",
       "      <td>4</td>\n",
       "      <td>11.264810</td>\n",
       "      <td>...</td>\n",
       "      <td>6.484533</td>\n",
       "      <td>0.676364</td>\n",
       "      <td>-0.993505</td>\n",
       "      <td>0.999677</td>\n",
       "      <td>-0.999719</td>\n",
       "      <td>0.948915</td>\n",
       "      <td>1.048659</td>\n",
       "      <td>0.069108</td>\n",
       "      <td>0.304063</td>\n",
       "      <td>0.650049</td>\n",
       "    </tr>\n",
       "    <tr>\n",
       "      <th>120</th>\n",
       "      <td>BeBe</td>\n",
       "      <td>ORB</td>\n",
       "      <td>[6.138, 6.12797338, 6.11794676, 6.10792016, 6....</td>\n",
       "      <td>[0.1439437866, 0.1446228027, 0.1446933746, 0.1...</td>\n",
       "      <td>[0.00024622, 0.00020539, 0.00021473, 0.0002307...</td>\n",
       "      <td>[]</td>\n",
       "      <td>1</td>\n",
       "      <td>74.423075</td>\n",
       "      <td>5</td>\n",
       "      <td>17.538560</td>\n",
       "      <td>...</td>\n",
       "      <td>11.756050</td>\n",
       "      <td>3.683254</td>\n",
       "      <td>-1.000000</td>\n",
       "      <td>0.970939</td>\n",
       "      <td>-0.980368</td>\n",
       "      <td>0.695956</td>\n",
       "      <td>1.058202</td>\n",
       "      <td>0.021102</td>\n",
       "      <td>NaN</td>\n",
       "      <td>NaN</td>\n",
       "    </tr>\n",
       "    <tr>\n",
       "      <th>121</th>\n",
       "      <td>BB</td>\n",
       "      <td>ORB</td>\n",
       "      <td>[5.921, 5.91097088, 5.90094174, 5.89091262, 5....</td>\n",
       "      <td>[-1.7345266341999999, -1.7349262238, -1.735033...</td>\n",
       "      <td>[-5.236e-05, -9.37e-06, 1.198e-05, 1.637e-05, ...</td>\n",
       "      <td>[]</td>\n",
       "      <td>1</td>\n",
       "      <td>149.497415</td>\n",
       "      <td>8</td>\n",
       "      <td>33.563880</td>\n",
       "      <td>...</td>\n",
       "      <td>16.196704</td>\n",
       "      <td>5.626231</td>\n",
       "      <td>-1.000000</td>\n",
       "      <td>0.923103</td>\n",
       "      <td>-0.987539</td>\n",
       "      <td>0.815314</td>\n",
       "      <td>1.190810</td>\n",
       "      <td>0.672005</td>\n",
       "      <td>1.081229</td>\n",
       "      <td>1.333676</td>\n",
       "    </tr>\n",
       "    <tr>\n",
       "      <th>...</th>\n",
       "      <td>...</td>\n",
       "      <td>...</td>\n",
       "      <td>...</td>\n",
       "      <td>...</td>\n",
       "      <td>...</td>\n",
       "      <td>...</td>\n",
       "      <td>...</td>\n",
       "      <td>...</td>\n",
       "      <td>...</td>\n",
       "      <td>...</td>\n",
       "      <td>...</td>\n",
       "      <td>...</td>\n",
       "      <td>...</td>\n",
       "      <td>...</td>\n",
       "      <td>...</td>\n",
       "      <td>...</td>\n",
       "      <td>...</td>\n",
       "      <td>...</td>\n",
       "      <td>...</td>\n",
       "      <td>...</td>\n",
       "      <td>...</td>\n",
       "    </tr>\n",
       "    <tr>\n",
       "      <th>346</th>\n",
       "      <td>NhNh</td>\n",
       "      <td>ORBv2</td>\n",
       "      <td>[6.0, 5.989982779999999, 5.979965579999999, 5....</td>\n",
       "      <td>[-1.2127504348754883, -1.2130546569824219, -1....</td>\n",
       "      <td>[0.0, 7.4e-07, 0.0, 7e-08, 9.54e-06, 4.87e-06,...</td>\n",
       "      <td>[]</td>\n",
       "      <td>1</td>\n",
       "      <td>418.177464</td>\n",
       "      <td>10</td>\n",
       "      <td>66.461493</td>\n",
       "      <td>...</td>\n",
       "      <td>23.668904</td>\n",
       "      <td>38.121299</td>\n",
       "      <td>-0.939579</td>\n",
       "      <td>0.981659</td>\n",
       "      <td>-0.346116</td>\n",
       "      <td>0.992399</td>\n",
       "      <td>1.721098</td>\n",
       "      <td>344.819311</td>\n",
       "      <td>NaN</td>\n",
       "      <td>NaN</td>\n",
       "    </tr>\n",
       "    <tr>\n",
       "      <th>347</th>\n",
       "      <td>FlFl</td>\n",
       "      <td>ORBv2</td>\n",
       "      <td>[6.0, 5.989982779999999, 5.979965579999999, 5....</td>\n",
       "      <td>[-1.6584091186523438, -1.6582937240600586, -1....</td>\n",
       "      <td>[0.0, 2.79e-06, 0.0, 4.8e-07, -1.968e-05, 7.6e...</td>\n",
       "      <td>[]</td>\n",
       "      <td>1</td>\n",
       "      <td>414.590097</td>\n",
       "      <td>11</td>\n",
       "      <td>37.387570</td>\n",
       "      <td>...</td>\n",
       "      <td>18.537373</td>\n",
       "      <td>46.828852</td>\n",
       "      <td>-0.979767</td>\n",
       "      <td>0.996953</td>\n",
       "      <td>-0.347458</td>\n",
       "      <td>0.997401</td>\n",
       "      <td>1.522742</td>\n",
       "      <td>353.778117</td>\n",
       "      <td>NaN</td>\n",
       "      <td>NaN</td>\n",
       "    </tr>\n",
       "    <tr>\n",
       "      <th>348</th>\n",
       "      <td>McMc</td>\n",
       "      <td>ORBv2</td>\n",
       "      <td>[6.0, 5.989982779999999, 5.979965579999999, 5....</td>\n",
       "      <td>[0.09161853790283203, 0.09169960021972656, 0.0...</td>\n",
       "      <td>[0.0, -9.4e-07, 0.0, -2.38e-06, 0.0, 0.0, 0.0,...</td>\n",
       "      <td>[]</td>\n",
       "      <td>1</td>\n",
       "      <td>429.250003</td>\n",
       "      <td>4</td>\n",
       "      <td>74.488620</td>\n",
       "      <td>...</td>\n",
       "      <td>28.765408</td>\n",
       "      <td>29.080300</td>\n",
       "      <td>-0.825820</td>\n",
       "      <td>0.849567</td>\n",
       "      <td>-0.262398</td>\n",
       "      <td>0.978996</td>\n",
       "      <td>1.466244</td>\n",
       "      <td>332.199750</td>\n",
       "      <td>NaN</td>\n",
       "      <td>NaN</td>\n",
       "    </tr>\n",
       "    <tr>\n",
       "      <th>349</th>\n",
       "      <td>LvLv</td>\n",
       "      <td>ORBv2</td>\n",
       "      <td>[6.0, 5.989982779999999, 5.979965579999999, 5....</td>\n",
       "      <td>[0.1532306671142578, 0.15334033966064453, 0.15...</td>\n",
       "      <td>[0.0, -3.56e-06, 0.0, 6.36e-06, -4.78e-06, 8.1...</td>\n",
       "      <td>[]</td>\n",
       "      <td>1</td>\n",
       "      <td>412.500944</td>\n",
       "      <td>4</td>\n",
       "      <td>32.615990</td>\n",
       "      <td>...</td>\n",
       "      <td>21.352589</td>\n",
       "      <td>35.098622</td>\n",
       "      <td>-0.982043</td>\n",
       "      <td>0.959481</td>\n",
       "      <td>-0.644378</td>\n",
       "      <td>0.999991</td>\n",
       "      <td>1.982194</td>\n",
       "      <td>344.140646</td>\n",
       "      <td>NaN</td>\n",
       "      <td>NaN</td>\n",
       "    </tr>\n",
       "    <tr>\n",
       "      <th>350</th>\n",
       "      <td>TsTs</td>\n",
       "      <td>ORBv2</td>\n",
       "      <td>[6.0, 5.989982779999999, 5.979965579999999, 5....</td>\n",
       "      <td>[0.2908821105957031, 0.2906169891357422, 0.290...</td>\n",
       "      <td>[0.0, 4.57e-06, 0.0, -3.1e-07, -1.051e-05, -2....</td>\n",
       "      <td>[]</td>\n",
       "      <td>1</td>\n",
       "      <td>393.376749</td>\n",
       "      <td>6</td>\n",
       "      <td>90.260724</td>\n",
       "      <td>...</td>\n",
       "      <td>21.170416</td>\n",
       "      <td>30.675171</td>\n",
       "      <td>-0.991744</td>\n",
       "      <td>0.996975</td>\n",
       "      <td>-0.868141</td>\n",
       "      <td>0.796969</td>\n",
       "      <td>2.002857</td>\n",
       "      <td>334.536066</td>\n",
       "      <td>NaN</td>\n",
       "      <td>NaN</td>\n",
       "    </tr>\n",
       "  </tbody>\n",
       "</table>\n",
       "<p>234 rows × 21 columns</p>\n",
       "</div>"
      ],
      "text/plain": [
       "     name method                                                  R  \\\n",
       "117    HH    ORB  [3.7199999999999998, 3.70996794, 3.69993586, 3...   \n",
       "118  HeHe    ORB  [4.433, 4.42297362, 4.41294724, 4.40292086, 4....   \n",
       "119  LiLi    ORB  [6.572, 6.56198152, 6.55196304, 6.54194454, 6....   \n",
       "120  BeBe    ORB  [6.138, 6.12797338, 6.11794676, 6.10792016, 6....   \n",
       "121    BB    ORB  [5.921, 5.91097088, 5.90094174, 5.89091262, 5....   \n",
       "..    ...    ...                                                ...   \n",
       "346  NhNh  ORBv2  [6.0, 5.989982779999999, 5.979965579999999, 5....   \n",
       "347  FlFl  ORBv2  [6.0, 5.989982779999999, 5.979965579999999, 5....   \n",
       "348  McMc  ORBv2  [6.0, 5.989982779999999, 5.979965579999999, 5....   \n",
       "349  LvLv  ORBv2  [6.0, 5.989982779999999, 5.979965579999999, 5....   \n",
       "350  TsTs  ORBv2  [6.0, 5.989982779999999, 5.979965579999999, 5....   \n",
       "\n",
       "                                                     E  \\\n",
       "117  [-2.253027916, -2.2530450821, -2.2531223297, -...   \n",
       "118  [-0.0489044189, -0.0488109589, -0.0487890244, ...   \n",
       "119  [-0.6005258560000001, -0.600976944, -0.6010656...   \n",
       "120  [0.1439437866, 0.1446228027, 0.1446933746, 0.1...   \n",
       "121  [-1.7345266341999999, -1.7349262238, -1.735033...   \n",
       "..                                                 ...   \n",
       "346  [-1.2127504348754883, -1.2130546569824219, -1....   \n",
       "347  [-1.6584091186523438, -1.6582937240600586, -1....   \n",
       "348  [0.09161853790283203, 0.09169960021972656, 0.0...   \n",
       "349  [0.1532306671142578, 0.15334033966064453, 0.15...   \n",
       "350  [0.2908821105957031, 0.2906169891357422, 0.290...   \n",
       "\n",
       "                                                     F S^2 force-flip-times  \\\n",
       "117  [0.00029414, 0.00030291, 0.00033964, 0.0003847...  []                4   \n",
       "118  [0.00020237, 0.00022884, 0.00022473, 0.0002023...  []                2   \n",
       "119  [-5.638e-05, -9.191e-05, -0.000119780000000000...  []                1   \n",
       "120  [0.00024622, 0.00020539, 0.00021473, 0.0002307...  []                1   \n",
       "121  [-5.236e-05, -9.37e-06, 1.198e-05, 1.637e-05, ...  []                1   \n",
       "..                                                 ...  ..              ...   \n",
       "346  [0.0, 7.4e-07, 0.0, 7e-08, 9.54e-06, 4.87e-06,...  []                1   \n",
       "347  [0.0, 2.79e-06, 0.0, 4.8e-07, -1.968e-05, 7.6e...  []                1   \n",
       "348  [0.0, -9.4e-07, 0.0, -2.38e-06, 0.0, 0.0, 0.0,...  []                1   \n",
       "349  [0.0, -3.56e-06, 0.0, 6.36e-06, -4.78e-06, 8.1...  []                1   \n",
       "350  [0.0, 4.57e-06, 0.0, -3.1e-07, -1.051e-05, -2....  []                1   \n",
       "\n",
       "     force-total-variation energy-diff-flip-times  energy-grad-norm-max  ...  \\\n",
       "117             133.563746                      3            102.248369  ...   \n",
       "118             125.775458                      3            133.955726  ...   \n",
       "119              21.673787                      4             11.264810  ...   \n",
       "120              74.423075                      5             17.538560  ...   \n",
       "121             149.497415                      8             33.563880  ...   \n",
       "..                     ...                    ...                   ...  ...   \n",
       "346             418.177464                     10             66.461493  ...   \n",
       "347             414.590097                     11             37.387570  ...   \n",
       "348             429.250003                      4             74.488620  ...   \n",
       "349             412.500944                      4             32.615990  ...   \n",
       "350             393.376749                      6             90.260724  ...   \n",
       "\n",
       "     energy-total-variation  conservation-deviation  \\\n",
       "117               13.361551                3.256510   \n",
       "118               13.115419                2.880469   \n",
       "119                6.484533                0.676364   \n",
       "120               11.756050                3.683254   \n",
       "121               16.196704                5.626231   \n",
       "..                      ...                     ...   \n",
       "346               23.668904               38.121299   \n",
       "347               18.537373               46.828852   \n",
       "348               28.765408               29.080300   \n",
       "349               21.352589               35.098622   \n",
       "350               21.170416               30.675171   \n",
       "\n",
       "     spearman-descending-force  spearman-ascending-force  \\\n",
       "117                  -0.995613                  0.578188   \n",
       "118                  -0.995071                 -0.047308   \n",
       "119                  -0.993505                  0.999677   \n",
       "120                  -1.000000                  0.970939   \n",
       "121                  -1.000000                  0.923103   \n",
       "..                         ...                       ...   \n",
       "346                  -0.939579                  0.981659   \n",
       "347                  -0.979767                  0.996953   \n",
       "348                  -0.825820                  0.849567   \n",
       "349                  -0.982043                  0.959481   \n",
       "350                  -0.991744                  0.996975   \n",
       "\n",
       "     spearman-repulsion-energy  spearman-attraction-energy  tortuosity  \\\n",
       "117                  -0.974646                    0.503110    1.294458   \n",
       "118                  -0.971360                    0.339413    1.462191   \n",
       "119                  -0.999719                    0.948915    1.048659   \n",
       "120                  -0.980368                    0.695956    1.058202   \n",
       "121                  -0.987539                    0.815314    1.190810   \n",
       "..                         ...                         ...         ...   \n",
       "346                  -0.346116                    0.992399    1.721098   \n",
       "347                  -0.347458                    0.997401    1.522742   \n",
       "348                  -0.262398                    0.978996    1.466244   \n",
       "349                  -0.644378                    0.999991    1.982194   \n",
       "350                  -0.868141                    0.796969    2.002857   \n",
       "\n",
       "     force-jump  pbe-energy-mae  pbe-force-mae  \n",
       "117   33.598923        1.380663       2.621806  \n",
       "118   31.778227             NaN            NaN  \n",
       "119    0.069108        0.304063       0.650049  \n",
       "120    0.021102             NaN            NaN  \n",
       "121    0.672005        1.081229       1.333676  \n",
       "..          ...             ...            ...  \n",
       "346  344.819311             NaN            NaN  \n",
       "347  353.778117             NaN            NaN  \n",
       "348  332.199750             NaN            NaN  \n",
       "349  344.140646             NaN            NaN  \n",
       "350  334.536066             NaN            NaN  \n",
       "\n",
       "[234 rows x 21 columns]"
      ]
     },
     "execution_count": 14,
     "metadata": {},
     "output_type": "execute_result"
    }
   ],
   "source": [
    "df"
   ]
  },
  {
   "cell_type": "code",
   "execution_count": null,
   "id": "4e6ae884-89f3-43f2-8fd9-19bf00c91566",
   "metadata": {},
   "outputs": [],
   "source": []
  }
 ],
 "metadata": {
  "kernelspec": {
   "display_name": "mlip-arena",
   "language": "python",
   "name": "mlip-arena"
  },
  "language_info": {
   "codemirror_mode": {
    "name": "ipython",
    "version": 3
   },
   "file_extension": ".py",
   "mimetype": "text/x-python",
   "name": "python",
   "nbconvert_exporter": "python",
   "pygments_lexer": "ipython3",
   "version": "3.11.8"
  },
  "widgets": {
   "application/vnd.jupyter.widget-state+json": {
    "state": {
     "002c7d9693744207aec1bbd45f460c65": {
      "model_module": "@jupyter-widgets/controls",
      "model_module_version": "2.0.0",
      "model_name": "ProgressStyleModel",
      "state": {
       "description_width": ""
      }
     },
     "0052587c81e74f42bfb5a71c2704c05d": {
      "model_module": "@jupyter-widgets/controls",
      "model_module_version": "2.0.0",
      "model_name": "HTMLModel",
      "state": {
       "layout": "IPY_MODEL_71d53e285a6a46de85e849d14f903fa1",
       "style": "IPY_MODEL_f31809136bd841be825f683794bbeefb",
       "value": " 582/582 [00:12&lt;00:00, 46.49it/s]"
      }
     },
     "0057cb74274d4e8aac02d79442956996": {
      "model_module": "@jupyter-widgets/controls",
      "model_module_version": "2.0.0",
      "model_name": "HTMLStyleModel",
      "state": {
       "description_width": "",
       "font_size": null,
       "text_color": null
      }
     },
     "00a8bdbe72314cd58629ccb30ff169e5": {
      "model_module": "@jupyter-widgets/controls",
      "model_module_version": "2.0.0",
      "model_name": "HTMLModel",
      "state": {
       "layout": "IPY_MODEL_b295212e60b342ebbff7fc5bd8fa0e72",
       "style": "IPY_MODEL_f7832945a9384882bb56438a962709aa",
       "value": "100%"
      }
     },
     "012884511eb04b44ab6257eb033919aa": {
      "model_module": "@jupyter-widgets/base",
      "model_module_version": "2.0.0",
      "model_name": "LayoutModel",
      "state": {}
     },
     "0145e14e39f24195a4d4d9c8a47e9007": {
      "model_module": "@jupyter-widgets/controls",
      "model_module_version": "2.0.0",
      "model_name": "FloatProgressModel",
      "state": {
       "bar_style": "success",
       "layout": "IPY_MODEL_1d694f9e0e704d51b53a94d1e7e3ff75",
       "max": 640,
       "style": "IPY_MODEL_bec9eac8d9e44741ace26202035cdc6e",
       "value": 640
      }
     },
     "01608f2e6626449898900a6dad483acc": {
      "model_module": "@jupyter-widgets/controls",
      "model_module_version": "2.0.0",
      "model_name": "HBoxModel",
      "state": {
       "children": [
        "IPY_MODEL_7641e3604f2a442fba58fb0bc3e2b3c2",
        "IPY_MODEL_9f4a3601f7dd43099055b5fd254ff986",
        "IPY_MODEL_e9312d79a06244f99ebfdaee0aa12b78"
       ],
       "layout": "IPY_MODEL_ff34e6acce344d60b3c95007efcd58b1"
      }
     },
     "01979df23a6c44f1865d92fb7082ef48": {
      "model_module": "@jupyter-widgets/controls",
      "model_module_version": "2.0.0",
      "model_name": "HTMLModel",
      "state": {
       "layout": "IPY_MODEL_9111d816d8454876a1b3f5b23958c0b5",
       "style": "IPY_MODEL_096b42d4181f47ada9a48f5694652707",
       "value": " 681/681 [00:15&lt;00:00, 44.77it/s]"
      }
     },
     "019aa0840290487ba1f62f4960b1d534": {
      "model_module": "@jupyter-widgets/controls",
      "model_module_version": "2.0.0",
      "model_name": "HTMLStyleModel",
      "state": {
       "description_width": "",
       "font_size": null,
       "text_color": null
      }
     },
     "01a46c83a1fc4bc29db706b903135945": {
      "model_module": "@jupyter-widgets/controls",
      "model_module_version": "2.0.0",
      "model_name": "HTMLModel",
      "state": {
       "layout": "IPY_MODEL_1f9553a5f0a74bfb83d403f9286cf5c3",
       "style": "IPY_MODEL_de82ff54a1d2462fa325fddcc70cd00a",
       "value": "100%"
      }
     },
     "01b6ec67ca3249aab54ec98c6ccaa247": {
      "model_module": "@jupyter-widgets/base",
      "model_module_version": "2.0.0",
      "model_name": "LayoutModel",
      "state": {}
     },
     "01d94c85855b4630a516ed2a4d4ed632": {
      "model_module": "@jupyter-widgets/controls",
      "model_module_version": "2.0.0",
      "model_name": "HTMLStyleModel",
      "state": {
       "description_width": "",
       "font_size": null,
       "text_color": null
      }
     },
     "023965b07273427c9b264f577d0c9cf7": {
      "model_module": "@jupyter-widgets/controls",
      "model_module_version": "2.0.0",
      "model_name": "HTMLStyleModel",
      "state": {
       "description_width": "",
       "font_size": null,
       "text_color": null
      }
     },
     "024ea91e8fe1459a8b6a44d83c756868": {
      "model_module": "@jupyter-widgets/base",
      "model_module_version": "2.0.0",
      "model_name": "LayoutModel",
      "state": {}
     },
     "029e707b669e45e5bb864d86ad7e38b6": {
      "model_module": "@jupyter-widgets/controls",
      "model_module_version": "2.0.0",
      "model_name": "HBoxModel",
      "state": {
       "children": [
        "IPY_MODEL_e051450ff6fb42888c080f4bc9d7c233",
        "IPY_MODEL_79c91474d036469f8b7853793a2d0e54",
        "IPY_MODEL_6dc51be4147e4c10af4dc0f63d314339"
       ],
       "layout": "IPY_MODEL_4781c8956e724beaac7c2465c9b456b1"
      }
     },
     "02bf4e3e9c1c455aa3769beacd25f65f": {
      "model_module": "@jupyter-widgets/controls",
      "model_module_version": "2.0.0",
      "model_name": "HTMLStyleModel",
      "state": {
       "description_width": "",
       "font_size": null,
       "text_color": null
      }
     },
     "03306a77bbda42be9fca49bc9b49a2e0": {
      "model_module": "@jupyter-widgets/controls",
      "model_module_version": "2.0.0",
      "model_name": "HTMLModel",
      "state": {
       "layout": "IPY_MODEL_67860ed1b0e94d4191aa86f053b1db76",
       "style": "IPY_MODEL_4a1a278cef5a4a14a8341aeff9bbd4a5",
       "value": " 819/819 [00:17&lt;00:00, 46.00it/s]"
      }
     },
     "038835185ed2455d9627a27548aafb86": {
      "model_module": "@jupyter-widgets/controls",
      "model_module_version": "2.0.0",
      "model_name": "HTMLModel",
      "state": {
       "layout": "IPY_MODEL_292c15417a5345f68fe07f40c173eaae",
       "style": "IPY_MODEL_a5328e174f104025bc789053911e7e0d",
       "value": "100%"
      }
     },
     "0407ee94c232406fb03a51776d8833b4": {
      "model_module": "@jupyter-widgets/controls",
      "model_module_version": "2.0.0",
      "model_name": "HTMLModel",
      "state": {
       "layout": "IPY_MODEL_f3041fd331d849d580103be817931cc5",
       "style": "IPY_MODEL_2a49aed17ef34973b993663f2f6589be",
       "value": " 24/118 [00:07&lt;00:31,  3.03it/s]"
      }
     },
     "0408e6dc47524a10bbf4c028eb2b0abd": {
      "model_module": "@jupyter-widgets/controls",
      "model_module_version": "2.0.0",
      "model_name": "HTMLStyleModel",
      "state": {
       "description_width": "",
       "font_size": null,
       "text_color": null
      }
     },
     "042c321b8679400296b51956e25b20b8": {
      "model_module": "@jupyter-widgets/controls",
      "model_module_version": "2.0.0",
      "model_name": "HTMLStyleModel",
      "state": {
       "description_width": "",
       "font_size": null,
       "text_color": null
      }
     },
     "04341040b54b4438a412e1c348701269": {
      "model_module": "@jupyter-widgets/controls",
      "model_module_version": "2.0.0",
      "model_name": "FloatProgressModel",
      "state": {
       "bar_style": "success",
       "layout": "IPY_MODEL_f8694ba7b41547cc9542d0fff073e4e4",
       "max": 582,
       "style": "IPY_MODEL_d9f93a82e5824020ad72c0cb506d537e",
       "value": 582
      }
     },
     "046c4947c97c47ed9d95ca5dc6d36e8a": {
      "model_module": "@jupyter-widgets/controls",
      "model_module_version": "2.0.0",
      "model_name": "ProgressStyleModel",
      "state": {
       "description_width": ""
      }
     },
     "047c29d9a0cf44fcbcbfce8b22f7601d": {
      "model_module": "@jupyter-widgets/base",
      "model_module_version": "2.0.0",
      "model_name": "LayoutModel",
      "state": {}
     },
     "04856f14b1554877a2af238f1fec4ae4": {
      "model_module": "@jupyter-widgets/controls",
      "model_module_version": "2.0.0",
      "model_name": "ProgressStyleModel",
      "state": {
       "description_width": ""
      }
     },
     "04fd705030c74360a9e4905c52795aef": {
      "model_module": "@jupyter-widgets/base",
      "model_module_version": "2.0.0",
      "model_name": "LayoutModel",
      "state": {}
     },
     "052152e48a5d424c848ab954a0eb1a2d": {
      "model_module": "@jupyter-widgets/controls",
      "model_module_version": "2.0.0",
      "model_name": "HBoxModel",
      "state": {
       "children": [
        "IPY_MODEL_383946f26cb9499b81b14fcf96e89550",
        "IPY_MODEL_bfa8cf227c4b480bbc1e1d0f2fee00d0",
        "IPY_MODEL_ded36b53eaf945bdb39251a3e4aef0c6"
       ],
       "layout": "IPY_MODEL_2e5beba7fd7940b1a1cd85a2b52768a4"
      }
     },
     "056beed2e2b649a1988ef05292495d15": {
      "model_module": "@jupyter-widgets/controls",
      "model_module_version": "2.0.0",
      "model_name": "ProgressStyleModel",
      "state": {
       "description_width": ""
      }
     },
     "056d0efcfbeb482d91e3147211f76cd5": {
      "model_module": "@jupyter-widgets/controls",
      "model_module_version": "2.0.0",
      "model_name": "HTMLModel",
      "state": {
       "layout": "IPY_MODEL_12e7c646bf4745c8aea431fc474990e6",
       "style": "IPY_MODEL_214150cb33274c1dbfd6ee90b8cc7252",
       "value": " 646/646 [00:14&lt;00:00, 45.66it/s]"
      }
     },
     "057a4fc5f5384595834a635d6e6fe1a0": {
      "model_module": "@jupyter-widgets/controls",
      "model_module_version": "2.0.0",
      "model_name": "HBoxModel",
      "state": {
       "children": [
        "IPY_MODEL_4ed5afd54c7f42fd98acac3f8d937668",
        "IPY_MODEL_df9750752a9a409d8a018382725012c5",
        "IPY_MODEL_bf7a0f5fe4714d1fac9ec1dc356d7312"
       ],
       "layout": "IPY_MODEL_b491d9341fcc4914a5ceade6b2f87070"
      }
     },
     "059034918c674276bc16b69250c69af7": {
      "model_module": "@jupyter-widgets/controls",
      "model_module_version": "2.0.0",
      "model_name": "FloatProgressModel",
      "state": {
       "bar_style": "success",
       "layout": "IPY_MODEL_c67e23ff28494ea48f270f440ba237c8",
       "max": 118,
       "style": "IPY_MODEL_7ae917cbf97c45e6a818663db01bb158",
       "value": 118
      }
     },
     "05aba3d21d1044768921db67f0aea6b4": {
      "model_module": "@jupyter-widgets/controls",
      "model_module_version": "2.0.0",
      "model_name": "HTMLStyleModel",
      "state": {
       "description_width": "",
       "font_size": null,
       "text_color": null
      }
     },
     "05f62a2658804f0282d96034faf37b9c": {
      "model_module": "@jupyter-widgets/controls",
      "model_module_version": "2.0.0",
      "model_name": "HTMLStyleModel",
      "state": {
       "description_width": "",
       "font_size": null,
       "text_color": null
      }
     },
     "0602c98a3d52417a8377c5a76ad6569b": {
      "model_module": "@jupyter-widgets/controls",
      "model_module_version": "2.0.0",
      "model_name": "HTMLStyleModel",
      "state": {
       "description_width": "",
       "font_size": null,
       "text_color": null
      }
     },
     "061a06f8c7ae47d2a8ea86531dc265d6": {
      "model_module": "@jupyter-widgets/base",
      "model_module_version": "2.0.0",
      "model_name": "LayoutModel",
      "state": {}
     },
     "0645743e31a248bf9f43b35e476d33c4": {
      "model_module": "@jupyter-widgets/controls",
      "model_module_version": "2.0.0",
      "model_name": "HTMLStyleModel",
      "state": {
       "description_width": "",
       "font_size": null,
       "text_color": null
      }
     },
     "06680ce080824668ad0048ce94d21a9c": {
      "model_module": "@jupyter-widgets/controls",
      "model_module_version": "2.0.0",
      "model_name": "FloatProgressModel",
      "state": {
       "bar_style": "success",
       "layout": "IPY_MODEL_c9cce67daefc40bd8b53755e93d136e9",
       "max": 118,
       "style": "IPY_MODEL_2e755cff6f80498283666dab6a454dd7",
       "value": 118
      }
     },
     "066a7e90d97b451d88cf7f8e1cf6e01d": {
      "model_module": "@jupyter-widgets/controls",
      "model_module_version": "2.0.0",
      "model_name": "HTMLStyleModel",
      "state": {
       "description_width": "",
       "font_size": null,
       "text_color": null
      }
     },
     "067c399a9bb84555b40030b9ee9b1078": {
      "model_module": "@jupyter-widgets/controls",
      "model_module_version": "2.0.0",
      "model_name": "HBoxModel",
      "state": {
       "children": [
        "IPY_MODEL_b4a2b140981341db99e64b1ee22ab948",
        "IPY_MODEL_c440d3d746a84dc180ab70afbb8ab615",
        "IPY_MODEL_74faaa64c45546459a312dabf1d2ed2e"
       ],
       "layout": "IPY_MODEL_a398f9f7f36840f6a396d9bdfed76d74"
      }
     },
     "06972ea86a0449c8b763ee3dbc087054": {
      "model_module": "@jupyter-widgets/base",
      "model_module_version": "2.0.0",
      "model_name": "LayoutModel",
      "state": {}
     },
     "069cb9ed52e546dc8dbaa80a05bde1ef": {
      "model_module": "@jupyter-widgets/base",
      "model_module_version": "2.0.0",
      "model_name": "LayoutModel",
      "state": {}
     },
     "06ddc1df893e40a398e8dc7cc5cad4f7": {
      "model_module": "@jupyter-widgets/base",
      "model_module_version": "2.0.0",
      "model_name": "LayoutModel",
      "state": {}
     },
     "06f2ca83b79040b2abbd038c559de77c": {
      "model_module": "@jupyter-widgets/controls",
      "model_module_version": "2.0.0",
      "model_name": "HTMLStyleModel",
      "state": {
       "description_width": "",
       "font_size": null,
       "text_color": null
      }
     },
     "072c25f374b84da594a0b3fd4af69316": {
      "model_module": "@jupyter-widgets/controls",
      "model_module_version": "2.0.0",
      "model_name": "ProgressStyleModel",
      "state": {
       "description_width": ""
      }
     },
     "07416ca97bec49bb88e24124453746f8": {
      "model_module": "@jupyter-widgets/controls",
      "model_module_version": "2.0.0",
      "model_name": "HBoxModel",
      "state": {
       "children": [
        "IPY_MODEL_39b6b990c8b44375a07506b3cbcb1697",
        "IPY_MODEL_1ec7bfbbdd954588a17a0b68abc52c8e",
        "IPY_MODEL_a5e023dab6cd46d3985efe821ee1632e"
       ],
       "layout": "IPY_MODEL_e2e161e5e396411c92c563233d188f3f"
      }
     },
     "074ddb20b3694039878347716ec432ec": {
      "model_module": "@jupyter-widgets/base",
      "model_module_version": "2.0.0",
      "model_name": "LayoutModel",
      "state": {}
     },
     "078c74a149b14d02a3470dc269a641ca": {
      "model_module": "@jupyter-widgets/base",
      "model_module_version": "2.0.0",
      "model_name": "LayoutModel",
      "state": {}
     },
     "079b52497a17466ab62a34f47930bc44": {
      "model_module": "@jupyter-widgets/base",
      "model_module_version": "2.0.0",
      "model_name": "LayoutModel",
      "state": {}
     },
     "07c8dcab1d4a46bea50255db7dfa8abf": {
      "model_module": "@jupyter-widgets/controls",
      "model_module_version": "2.0.0",
      "model_name": "FloatProgressModel",
      "state": {
       "bar_style": "success",
       "layout": "IPY_MODEL_7772194bf87d48b2a5ef35f022656263",
       "max": 118,
       "style": "IPY_MODEL_ca869d9284d64faeb169ea10c185f1c7",
       "value": 118
      }
     },
     "07d2a05a691841fe96104994e99f448b": {
      "model_module": "@jupyter-widgets/controls",
      "model_module_version": "2.0.0",
      "model_name": "FloatProgressModel",
      "state": {
       "bar_style": "success",
       "layout": "IPY_MODEL_16e65ff7fbbb4ffe876acc1fea9c010a",
       "max": 475,
       "style": "IPY_MODEL_911a916f4ead418c9efab159c4a3f45c",
       "value": 475
      }
     },
     "0800c03f921d4411bc0034eb03c35122": {
      "model_module": "@jupyter-widgets/controls",
      "model_module_version": "2.0.0",
      "model_name": "HTMLModel",
      "state": {
       "layout": "IPY_MODEL_6d78b2a61d114c9ca715d82f694cf0ce",
       "style": "IPY_MODEL_d74ac5022d074a9fa896aa82f38bb77c",
       "value": " 620/620 [00:13&lt;00:00, 45.46it/s]"
      }
     },
     "0802492e83a54ca3b0bf8bbc88227c12": {
      "model_module": "@jupyter-widgets/base",
      "model_module_version": "2.0.0",
      "model_name": "LayoutModel",
      "state": {}
     },
     "082881a0c10a4ebca3fcb358923c9a01": {
      "model_module": "@jupyter-widgets/base",
      "model_module_version": "2.0.0",
      "model_name": "LayoutModel",
      "state": {}
     },
     "08a4c2f1791b4f7aa10c878d88f90919": {
      "model_module": "@jupyter-widgets/controls",
      "model_module_version": "2.0.0",
      "model_name": "HTMLStyleModel",
      "state": {
       "description_width": "",
       "font_size": null,
       "text_color": null
      }
     },
     "08a9c6b5e6d84814ab2bd973c99ebbd6": {
      "model_module": "@jupyter-widgets/controls",
      "model_module_version": "2.0.0",
      "model_name": "HTMLModel",
      "state": {
       "layout": "IPY_MODEL_5cc27777a8fd4049ab765f6b7596cf33",
       "style": "IPY_MODEL_53f619725613493ba99bc11a252ce4e3",
       "value": "100%"
      }
     },
     "08da6efa622c433e8faedc4934692856": {
      "model_module": "@jupyter-widgets/controls",
      "model_module_version": "2.0.0",
      "model_name": "FloatProgressModel",
      "state": {
       "bar_style": "success",
       "layout": "IPY_MODEL_b9015b4262b74349b3c1b60fe7a140d2",
       "max": 927,
       "style": "IPY_MODEL_d83316b58aa047a7ad7165383105bac7",
       "value": 927
      }
     },
     "08f1530af176485ca77ca206ca859037": {
      "model_module": "@jupyter-widgets/controls",
      "model_module_version": "2.0.0",
      "model_name": "HTMLModel",
      "state": {
       "layout": "IPY_MODEL_20ec3631863a41a0a3fdb9e0dd710cac",
       "style": "IPY_MODEL_9b852583205f470a99ab4be793e60028",
       "value": "100%"
      }
     },
     "09102104fa414c1584fae3b631e78666": {
      "model_module": "@jupyter-widgets/controls",
      "model_module_version": "2.0.0",
      "model_name": "ProgressStyleModel",
      "state": {
       "description_width": ""
      }
     },
     "09193e0a04f047088c92acaefd58376c": {
      "model_module": "@jupyter-widgets/controls",
      "model_module_version": "2.0.0",
      "model_name": "ProgressStyleModel",
      "state": {
       "description_width": ""
      }
     },
     "096b42d4181f47ada9a48f5694652707": {
      "model_module": "@jupyter-widgets/controls",
      "model_module_version": "2.0.0",
      "model_name": "HTMLStyleModel",
      "state": {
       "description_width": "",
       "font_size": null,
       "text_color": null
      }
     },
     "09b5c29009a44d3492aa7ae674a574d1": {
      "model_module": "@jupyter-widgets/base",
      "model_module_version": "2.0.0",
      "model_name": "LayoutModel",
      "state": {}
     },
     "09c5070cfc084b9bb824ce320c264e1e": {
      "model_module": "@jupyter-widgets/base",
      "model_module_version": "2.0.0",
      "model_name": "LayoutModel",
      "state": {}
     },
     "09d34091887447c0bfc20ba43ff04ae1": {
      "model_module": "@jupyter-widgets/base",
      "model_module_version": "2.0.0",
      "model_name": "LayoutModel",
      "state": {}
     },
     "09f93bdfc8ec4c23a541cbcc1c84903b": {
      "model_module": "@jupyter-widgets/controls",
      "model_module_version": "2.0.0",
      "model_name": "HTMLModel",
      "state": {
       "layout": "IPY_MODEL_a0ffcf9570ae4810a00a8e9b0ab7f274",
       "style": "IPY_MODEL_4f2a026a9d0b486b96891805d7871a36",
       "value": "100%"
      }
     },
     "0a6f0d3df7f74062b890eabdf5aa7305": {
      "model_module": "@jupyter-widgets/base",
      "model_module_version": "2.0.0",
      "model_name": "LayoutModel",
      "state": {}
     },
     "0b821032b1814105872d237f180dae35": {
      "model_module": "@jupyter-widgets/controls",
      "model_module_version": "2.0.0",
      "model_name": "FloatProgressModel",
      "state": {
       "bar_style": "success",
       "layout": "IPY_MODEL_b1c0d6f4ae094c23b48b1c601f59b5a2",
       "max": 118,
       "style": "IPY_MODEL_580892e812e94e579ab3355df7802a2d",
       "value": 118
      }
     },
     "0b97ba02d99e4858b07f9c72226e8ed8": {
      "model_module": "@jupyter-widgets/base",
      "model_module_version": "2.0.0",
      "model_name": "LayoutModel",
      "state": {}
     },
     "0baf17f30e44471885c60d29a64a0fbe": {
      "model_module": "@jupyter-widgets/base",
      "model_module_version": "2.0.0",
      "model_name": "LayoutModel",
      "state": {}
     },
     "0bd25cde55e24b088e7ecfdbef2235db": {
      "model_module": "@jupyter-widgets/controls",
      "model_module_version": "2.0.0",
      "model_name": "ProgressStyleModel",
      "state": {
       "description_width": ""
      }
     },
     "0c0b034d05274d22892ae592e24ba2f4": {
      "model_module": "@jupyter-widgets/controls",
      "model_module_version": "2.0.0",
      "model_name": "HBoxModel",
      "state": {
       "children": [
        "IPY_MODEL_fdda79ccaddf4ca495965cffc083e1a4",
        "IPY_MODEL_77a785bb148a4339882cee9cb1e98857",
        "IPY_MODEL_38ddeabda9cd45e9934a833c45787e8e"
       ],
       "layout": "IPY_MODEL_f81e31f7ce6448f7bd0aedc23fd5aa3d"
      }
     },
     "0c2e10c492ae4cfea0f78e4739902336": {
      "model_module": "@jupyter-widgets/controls",
      "model_module_version": "2.0.0",
      "model_name": "HTMLStyleModel",
      "state": {
       "description_width": "",
       "font_size": null,
       "text_color": null
      }
     },
     "0c3144770de94fd199b723b78824c1d9": {
      "model_module": "@jupyter-widgets/controls",
      "model_module_version": "2.0.0",
      "model_name": "ProgressStyleModel",
      "state": {
       "description_width": ""
      }
     },
     "0cab810ea1b149da864700de1aa2a8a6": {
      "model_module": "@jupyter-widgets/controls",
      "model_module_version": "2.0.0",
      "model_name": "HBoxModel",
      "state": {
       "children": [
        "IPY_MODEL_344171143ba54a9fb3999b74900cacde",
        "IPY_MODEL_da5648bb6c664a38a7290987f2251ec4",
        "IPY_MODEL_2c4fac522746405e81e5737b1d0e3a98"
       ],
       "layout": "IPY_MODEL_45271f83ab2e4c7c832f763e0cf53ee8"
      }
     },
     "0cdd70caeba04a818c01fde60ed5860a": {
      "model_module": "@jupyter-widgets/base",
      "model_module_version": "2.0.0",
      "model_name": "LayoutModel",
      "state": {}
     },
     "0cde2701b53f473cb1eee9991003e429": {
      "model_module": "@jupyter-widgets/controls",
      "model_module_version": "2.0.0",
      "model_name": "HTMLModel",
      "state": {
       "layout": "IPY_MODEL_69d13c0d772c42bdbe8deb601fa0ef77",
       "style": "IPY_MODEL_bb2eec31ef4542f8b7e47b6e80e7014e",
       "value": " 0/118 [00:00&lt;?, ?it/s]"
      }
     },
     "0ce30649003648ca97f2b9da902b466a": {
      "model_module": "@jupyter-widgets/base",
      "model_module_version": "2.0.0",
      "model_name": "LayoutModel",
      "state": {}
     },
     "0cee0074e36d46c6b2fdb97ea658be71": {
      "model_module": "@jupyter-widgets/base",
      "model_module_version": "2.0.0",
      "model_name": "LayoutModel",
      "state": {}
     },
     "0d2ad97e6ca64e9ba81f8aa10c339273": {
      "model_module": "@jupyter-widgets/controls",
      "model_module_version": "2.0.0",
      "model_name": "HTMLStyleModel",
      "state": {
       "description_width": "",
       "font_size": null,
       "text_color": null
      }
     },
     "0d40d5a20b8c4544a894ddf93f734992": {
      "model_module": "@jupyter-widgets/controls",
      "model_module_version": "2.0.0",
      "model_name": "HTMLStyleModel",
      "state": {
       "description_width": "",
       "font_size": null,
       "text_color": null
      }
     },
     "0d917e5f8d494e0692b27c2829b1e616": {
      "model_module": "@jupyter-widgets/base",
      "model_module_version": "2.0.0",
      "model_name": "LayoutModel",
      "state": {}
     },
     "0daeee0f668147b58f1560c4efeb9f8c": {
      "model_module": "@jupyter-widgets/base",
      "model_module_version": "2.0.0",
      "model_name": "LayoutModel",
      "state": {}
     },
     "0db0a4938b0f4a7d982ef20813cdb7d5": {
      "model_module": "@jupyter-widgets/base",
      "model_module_version": "2.0.0",
      "model_name": "LayoutModel",
      "state": {}
     },
     "0db6e00138b248c59555974361041ac3": {
      "model_module": "@jupyter-widgets/base",
      "model_module_version": "2.0.0",
      "model_name": "LayoutModel",
      "state": {}
     },
     "0dc8dd7ad5eb4fef8f25a8cb90503a03": {
      "model_module": "@jupyter-widgets/controls",
      "model_module_version": "2.0.0",
      "model_name": "HBoxModel",
      "state": {
       "children": [
        "IPY_MODEL_ac74c837fb884c19986d0c480f147c84",
        "IPY_MODEL_affbaf55ee8042be8368390fa4685645",
        "IPY_MODEL_a99e7f7109a8407da161575d66cb241f"
       ],
       "layout": "IPY_MODEL_e8ad831bc42241fcbeccfa3c53b6cad3"
      }
     },
     "0dec797e7f9449b0b76b172b7a826107": {
      "model_module": "@jupyter-widgets/base",
      "model_module_version": "2.0.0",
      "model_name": "LayoutModel",
      "state": {}
     },
     "0ded6cb0f2d44c4695940b0ac6266b62": {
      "model_module": "@jupyter-widgets/controls",
      "model_module_version": "2.0.0",
      "model_name": "ProgressStyleModel",
      "state": {
       "description_width": ""
      }
     },
     "0e059d43f6574bb5b48e8a53290efbcd": {
      "model_module": "@jupyter-widgets/base",
      "model_module_version": "2.0.0",
      "model_name": "LayoutModel",
      "state": {}
     },
     "0e1a39142cf942b0a92d9ca7737ef1d3": {
      "model_module": "@jupyter-widgets/controls",
      "model_module_version": "2.0.0",
      "model_name": "HTMLStyleModel",
      "state": {
       "description_width": "",
       "font_size": null,
       "text_color": null
      }
     },
     "0e3b75a5e8e84b10bc033a1bab3d6bdf": {
      "model_module": "@jupyter-widgets/controls",
      "model_module_version": "2.0.0",
      "model_name": "HTMLStyleModel",
      "state": {
       "description_width": "",
       "font_size": null,
       "text_color": null
      }
     },
     "0e6f2ab587184d08b49963de2f9346f0": {
      "model_module": "@jupyter-widgets/controls",
      "model_module_version": "2.0.0",
      "model_name": "ProgressStyleModel",
      "state": {
       "description_width": ""
      }
     },
     "0e81dca228a646769983ad19fdcf6a41": {
      "model_module": "@jupyter-widgets/controls",
      "model_module_version": "2.0.0",
      "model_name": "HTMLStyleModel",
      "state": {
       "description_width": "",
       "font_size": null,
       "text_color": null
      }
     },
     "0ec4ead87d5a44ab85496d07e65e6fde": {
      "model_module": "@jupyter-widgets/controls",
      "model_module_version": "2.0.0",
      "model_name": "HTMLStyleModel",
      "state": {
       "description_width": "",
       "font_size": null,
       "text_color": null
      }
     },
     "0ecbc357dd2149bf80fd52c327e095dd": {
      "model_module": "@jupyter-widgets/base",
      "model_module_version": "2.0.0",
      "model_name": "LayoutModel",
      "state": {}
     },
     "0eee35eece8e43258a601cf94916168d": {
      "model_module": "@jupyter-widgets/controls",
      "model_module_version": "2.0.0",
      "model_name": "FloatProgressModel",
      "state": {
       "bar_style": "success",
       "layout": "IPY_MODEL_dd6897df7b9b43c1afc6d55ada52eada",
       "max": 118,
       "style": "IPY_MODEL_046c4947c97c47ed9d95ca5dc6d36e8a",
       "value": 118
      }
     },
     "0f1efef8b5384067891a5ee0328cc5df": {
      "model_module": "@jupyter-widgets/controls",
      "model_module_version": "2.0.0",
      "model_name": "HTMLModel",
      "state": {
       "layout": "IPY_MODEL_87a517e048ee4bc48d768f2507c58360",
       "style": "IPY_MODEL_05f62a2658804f0282d96034faf37b9c",
       "value": "100%"
      }
     },
     "0f3077004baf4da09d3385c02542ab48": {
      "model_module": "@jupyter-widgets/controls",
      "model_module_version": "2.0.0",
      "model_name": "HTMLStyleModel",
      "state": {
       "description_width": "",
       "font_size": null,
       "text_color": null
      }
     },
     "0f4a90827dc248a3bb29715122947e7a": {
      "model_module": "@jupyter-widgets/controls",
      "model_module_version": "2.0.0",
      "model_name": "HTMLStyleModel",
      "state": {
       "description_width": "",
       "font_size": null,
       "text_color": null
      }
     },
     "0f6c4c3c920d4861b7888cf71cd0fa88": {
      "model_module": "@jupyter-widgets/controls",
      "model_module_version": "2.0.0",
      "model_name": "FloatProgressModel",
      "state": {
       "bar_style": "success",
       "layout": "IPY_MODEL_e36b80d486e748d9924a28119e770edf",
       "max": 745,
       "style": "IPY_MODEL_761238efde27435eae018522f8f15140",
       "value": 745
      }
     },
     "0fbcb5e1da5a4017a004ce2bdbf8b07f": {
      "model_module": "@jupyter-widgets/controls",
      "model_module_version": "2.0.0",
      "model_name": "HTMLModel",
      "state": {
       "layout": "IPY_MODEL_14ba7933c8f146e4ae94657251633026",
       "style": "IPY_MODEL_bcf92a252ee0468ba2621313d8cbc657",
       "value": " 420/420 [00:09&lt;00:00, 43.53it/s]"
      }
     },
     "0fbd2f7b8f004b7d9b79380019212354": {
      "model_module": "@jupyter-widgets/controls",
      "model_module_version": "2.0.0",
      "model_name": "FloatProgressModel",
      "state": {
       "bar_style": "success",
       "layout": "IPY_MODEL_ddc94c38db6d45618ce97886913bba8a",
       "max": 634,
       "style": "IPY_MODEL_8d0c8b50e0f54e3bbb32a571b2719c29",
       "value": 634
      }
     },
     "0fd1c1e18f4942309dd851982f0f39ff": {
      "model_module": "@jupyter-widgets/base",
      "model_module_version": "2.0.0",
      "model_name": "LayoutModel",
      "state": {}
     },
     "100c8bccae594a98bd032cf630dd8ddc": {
      "model_module": "@jupyter-widgets/base",
      "model_module_version": "2.0.0",
      "model_name": "LayoutModel",
      "state": {}
     },
     "103890caf8034863865e1a1da747d7d9": {
      "model_module": "@jupyter-widgets/base",
      "model_module_version": "2.0.0",
      "model_name": "LayoutModel",
      "state": {}
     },
     "1062d1b80df34f1abb4bac5ac530c434": {
      "model_module": "@jupyter-widgets/base",
      "model_module_version": "2.0.0",
      "model_name": "LayoutModel",
      "state": {}
     },
     "108fbb1267e74490964b15e146638eda": {
      "model_module": "@jupyter-widgets/base",
      "model_module_version": "2.0.0",
      "model_name": "LayoutModel",
      "state": {}
     },
     "113319991efc4f06a737ebd59832b73e": {
      "model_module": "@jupyter-widgets/controls",
      "model_module_version": "2.0.0",
      "model_name": "HTMLStyleModel",
      "state": {
       "description_width": "",
       "font_size": null,
       "text_color": null
      }
     },
     "114cbad249a24d7aba93c4a6fdfccef9": {
      "model_module": "@jupyter-widgets/controls",
      "model_module_version": "2.0.0",
      "model_name": "HTMLModel",
      "state": {
       "layout": "IPY_MODEL_7f9875b841f34e0593b2e2fb94c107c4",
       "style": "IPY_MODEL_6db2f53ec79c4ebaa805f4665b8b4946",
       "value": "100%"
      }
     },
     "1184703888a447718f7df480688fd63b": {
      "model_module": "@jupyter-widgets/controls",
      "model_module_version": "2.0.0",
      "model_name": "HTMLModel",
      "state": {
       "layout": "IPY_MODEL_5a8cef754db44beab09baefd1eda155f",
       "style": "IPY_MODEL_be89ae0bfc2e485e9b4dcbc6f8bc4bf5",
       "value": "100%"
      }
     },
     "11f21003b9f44e7e97fb30074f79cbd5": {
      "model_module": "@jupyter-widgets/base",
      "model_module_version": "2.0.0",
      "model_name": "LayoutModel",
      "state": {}
     },
     "12410d164b7f4aa983e545b2325b6f3e": {
      "model_module": "@jupyter-widgets/base",
      "model_module_version": "2.0.0",
      "model_name": "LayoutModel",
      "state": {}
     },
     "126ee5e2120e4f3d9c4314669466b2df": {
      "model_module": "@jupyter-widgets/controls",
      "model_module_version": "2.0.0",
      "model_name": "ProgressStyleModel",
      "state": {
       "description_width": ""
      }
     },
     "12839bc33f23444ba5834ed198b6df27": {
      "model_module": "@jupyter-widgets/controls",
      "model_module_version": "2.0.0",
      "model_name": "HTMLStyleModel",
      "state": {
       "description_width": "",
       "font_size": null,
       "text_color": null
      }
     },
     "128c75a88b824f85a3062d2c4ba0de02": {
      "model_module": "@jupyter-widgets/controls",
      "model_module_version": "2.0.0",
      "model_name": "HTMLStyleModel",
      "state": {
       "description_width": "",
       "font_size": null,
       "text_color": null
      }
     },
     "129aafc69fb141c996c510e291b351b7": {
      "model_module": "@jupyter-widgets/base",
      "model_module_version": "2.0.0",
      "model_name": "LayoutModel",
      "state": {}
     },
     "12c3573c2b654eca9fccfe80201be88d": {
      "model_module": "@jupyter-widgets/controls",
      "model_module_version": "2.0.0",
      "model_name": "ProgressStyleModel",
      "state": {
       "description_width": ""
      }
     },
     "12c659a82e6b4f089642b4fa07eccddf": {
      "model_module": "@jupyter-widgets/base",
      "model_module_version": "2.0.0",
      "model_name": "LayoutModel",
      "state": {}
     },
     "12e7c646bf4745c8aea431fc474990e6": {
      "model_module": "@jupyter-widgets/base",
      "model_module_version": "2.0.0",
      "model_name": "LayoutModel",
      "state": {}
     },
     "12f7f35ddb274113a69e0076b2a8e2d3": {
      "model_module": "@jupyter-widgets/controls",
      "model_module_version": "2.0.0",
      "model_name": "HTMLStyleModel",
      "state": {
       "description_width": "",
       "font_size": null,
       "text_color": null
      }
     },
     "133179799d304d50b7a5ca4bbe903a66": {
      "model_module": "@jupyter-widgets/base",
      "model_module_version": "2.0.0",
      "model_name": "LayoutModel",
      "state": {}
     },
     "13578dfda2884ebd931be1c1cc6e1053": {
      "model_module": "@jupyter-widgets/base",
      "model_module_version": "2.0.0",
      "model_name": "LayoutModel",
      "state": {}
     },
     "13ae3c5a45484005a4afdba17666b907": {
      "model_module": "@jupyter-widgets/base",
      "model_module_version": "2.0.0",
      "model_name": "LayoutModel",
      "state": {}
     },
     "13edef82704b49a18c0f6be496d0f866": {
      "model_module": "@jupyter-widgets/controls",
      "model_module_version": "2.0.0",
      "model_name": "FloatProgressModel",
      "state": {
       "bar_style": "success",
       "layout": "IPY_MODEL_bc3ed0ea6230420b947e8640f5b278ad",
       "max": 663,
       "style": "IPY_MODEL_056beed2e2b649a1988ef05292495d15",
       "value": 663
      }
     },
     "14056f6a48ca4381a15045b662c63ece": {
      "model_module": "@jupyter-widgets/controls",
      "model_module_version": "2.0.0",
      "model_name": "HTMLModel",
      "state": {
       "layout": "IPY_MODEL_7e94f244e3fd4d2d89340dee34ca7f77",
       "style": "IPY_MODEL_cb10a73f926b4c71966ae1f5b8cf4f79",
       "value": "  1%"
      }
     },
     "147827df793045bfad45c9f9a8aa2c65": {
      "model_module": "@jupyter-widgets/base",
      "model_module_version": "2.0.0",
      "model_name": "LayoutModel",
      "state": {}
     },
     "14947875e14f4164a9dc4509dba04256": {
      "model_module": "@jupyter-widgets/controls",
      "model_module_version": "2.0.0",
      "model_name": "HTMLStyleModel",
      "state": {
       "description_width": "",
       "font_size": null,
       "text_color": null
      }
     },
     "14b31d5de7b648f3910ce108166891ad": {
      "model_module": "@jupyter-widgets/base",
      "model_module_version": "2.0.0",
      "model_name": "LayoutModel",
      "state": {}
     },
     "14ba7933c8f146e4ae94657251633026": {
      "model_module": "@jupyter-widgets/base",
      "model_module_version": "2.0.0",
      "model_name": "LayoutModel",
      "state": {}
     },
     "14ce545de96b4cbb98c2a6393eb0afdf": {
      "model_module": "@jupyter-widgets/controls",
      "model_module_version": "2.0.0",
      "model_name": "ProgressStyleModel",
      "state": {
       "description_width": ""
      }
     },
     "14d8b7c145d44b918a62bd1e326d4a75": {
      "model_module": "@jupyter-widgets/controls",
      "model_module_version": "2.0.0",
      "model_name": "HTMLModel",
      "state": {
       "layout": "IPY_MODEL_b60ef777063d44e1bbc6c2d55daf6975",
       "style": "IPY_MODEL_32757a0f4df54e208ab8b2579c582804",
       "value": "100%"
      }
     },
     "14faca4bf7c14f10b6a0a83fdfe4a53a": {
      "model_module": "@jupyter-widgets/base",
      "model_module_version": "2.0.0",
      "model_name": "LayoutModel",
      "state": {}
     },
     "14ffeb47aade41a7be46fedcc30bc08e": {
      "model_module": "@jupyter-widgets/controls",
      "model_module_version": "2.0.0",
      "model_name": "FloatProgressModel",
      "state": {
       "bar_style": "success",
       "layout": "IPY_MODEL_d6e32b54958244b093d6f8ab5876eb9d",
       "max": 636,
       "style": "IPY_MODEL_c8b7f67c9db64cef9e000a384e1887a0",
       "value": 636
      }
     },
     "15371c87aa0b4b17aef49ede66e953ab": {
      "model_module": "@jupyter-widgets/base",
      "model_module_version": "2.0.0",
      "model_name": "LayoutModel",
      "state": {}
     },
     "155a2c2c8c2e43788dd148b198bef9fa": {
      "model_module": "@jupyter-widgets/controls",
      "model_module_version": "2.0.0",
      "model_name": "HTMLModel",
      "state": {
       "layout": "IPY_MODEL_341fbf8a741d4e34a3349c310124371e",
       "style": "IPY_MODEL_d5e6a68eda0b410fb6657b47c4c4d1ac",
       "value": " 0/118 [00:00&lt;?, ?it/s]"
      }
     },
     "1582c4c2caac43db9af52bae15fe537b": {
      "model_module": "@jupyter-widgets/controls",
      "model_module_version": "2.0.0",
      "model_name": "HBoxModel",
      "state": {
       "children": [
        "IPY_MODEL_35ee6ef8d79044508bf9a152ca648723",
        "IPY_MODEL_8d7f17191e1c403f9f15b9649fd1da3b",
        "IPY_MODEL_881d7e73bb614c7f9f5b3590d16068cf"
       ],
       "layout": "IPY_MODEL_fcd6c5785fd74b1989aab0bbb343e258"
      }
     },
     "15eb51bed7384a53b8df429fe84f7f15": {
      "model_module": "@jupyter-widgets/controls",
      "model_module_version": "2.0.0",
      "model_name": "HTMLModel",
      "state": {
       "layout": "IPY_MODEL_e29bb56e0ba44932b049250f31cfb0cb",
       "style": "IPY_MODEL_e7b7b67b7f7b4d1ca1f67dc1d3bb08b2",
       "value": " 1036/1036 [00:21&lt;00:00, 58.92it/s]"
      }
     },
     "16073c24f7434f4bab49b7ff16fcf51e": {
      "model_module": "@jupyter-widgets/controls",
      "model_module_version": "2.0.0",
      "model_name": "HTMLModel",
      "state": {
       "layout": "IPY_MODEL_43c8b5602ced440cac614951221b4eb4",
       "style": "IPY_MODEL_7869a4ada5ec422fb2c2148025273cec",
       "value": " 639/639 [00:17&lt;00:00, 37.06it/s]"
      }
     },
     "1634ef5d358743659f4a8cd7991b440d": {
      "model_module": "@jupyter-widgets/controls",
      "model_module_version": "2.0.0",
      "model_name": "HTMLModel",
      "state": {
       "layout": "IPY_MODEL_3a4416ba6a924143a28e9741dbaddc88",
       "style": "IPY_MODEL_82d0099581794ec7bba78dce48e1742b",
       "value": " 634/634 [00:14&lt;00:00, 45.18it/s]"
      }
     },
     "167f3012cd71452cb51740af6f948f67": {
      "model_module": "@jupyter-widgets/controls",
      "model_module_version": "2.0.0",
      "model_name": "HBoxModel",
      "state": {
       "children": [
        "IPY_MODEL_6302daad75d8473bb8f7f1cfbc917ede",
        "IPY_MODEL_08da6efa622c433e8faedc4934692856",
        "IPY_MODEL_b4b9837e525d49fa8455a30146c817e3"
       ],
       "layout": "IPY_MODEL_aaa5c209663049b8bae80c452132a058"
      }
     },
     "16bad53d030c498fa5e50b5a60e70d1f": {
      "model_module": "@jupyter-widgets/controls",
      "model_module_version": "2.0.0",
      "model_name": "ProgressStyleModel",
      "state": {
       "description_width": ""
      }
     },
     "16e65ff7fbbb4ffe876acc1fea9c010a": {
      "model_module": "@jupyter-widgets/base",
      "model_module_version": "2.0.0",
      "model_name": "LayoutModel",
      "state": {}
     },
     "1711a0575e2a4642a894fd9a9785bed2": {
      "model_module": "@jupyter-widgets/controls",
      "model_module_version": "2.0.0",
      "model_name": "HTMLModel",
      "state": {
       "layout": "IPY_MODEL_6c45599d73ad48c1b83b5bfbefe3fe31",
       "style": "IPY_MODEL_dfac4e014e324477a0818897e2ecfd3d",
       "value": " 704/704 [00:18&lt;00:00, 35.06it/s]"
      }
     },
     "1745305af80348dd97f7817f531c45ac": {
      "model_module": "@jupyter-widgets/controls",
      "model_module_version": "2.0.0",
      "model_name": "HTMLModel",
      "state": {
       "layout": "IPY_MODEL_30692bcf6d834db58e0dc0e26233b3e4",
       "style": "IPY_MODEL_0d2ad97e6ca64e9ba81f8aa10c339273",
       "value": "100%"
      }
     },
     "1781d4d1c3964806a9669a7105107a90": {
      "model_module": "@jupyter-widgets/base",
      "model_module_version": "2.0.0",
      "model_name": "LayoutModel",
      "state": {}
     },
     "17b8c18d523d4854a1448e32a27d1fcd": {
      "model_module": "@jupyter-widgets/controls",
      "model_module_version": "2.0.0",
      "model_name": "HTMLStyleModel",
      "state": {
       "description_width": "",
       "font_size": null,
       "text_color": null
      }
     },
     "17bafba60f7844db8adaaf0aea726ca0": {
      "model_module": "@jupyter-widgets/controls",
      "model_module_version": "2.0.0",
      "model_name": "HBoxModel",
      "state": {
       "children": [
        "IPY_MODEL_b5c7c99c48c640bd853b33b7b4788379",
        "IPY_MODEL_3921ccdab7e7434c8fc25dacaa18095c",
        "IPY_MODEL_cc0ce662cce24051ba1deb1acb76d63c"
       ],
       "layout": "IPY_MODEL_92143a70e23c4ef793915f3412a57d07"
      }
     },
     "17fba909a8444a3fae6d1274c60fea48": {
      "model_module": "@jupyter-widgets/base",
      "model_module_version": "2.0.0",
      "model_name": "LayoutModel",
      "state": {}
     },
     "1848f508ae534cd8a46e96d12a1f8d4c": {
      "model_module": "@jupyter-widgets/controls",
      "model_module_version": "2.0.0",
      "model_name": "HBoxModel",
      "state": {
       "children": [
        "IPY_MODEL_01a46c83a1fc4bc29db706b903135945",
        "IPY_MODEL_28fb4634ed26471a85721d01774b3a8c",
        "IPY_MODEL_b25aa2ae2127427fb13881253f466e10"
       ],
       "layout": "IPY_MODEL_2fae6e554df44be28d6d43af532953fd"
      }
     },
     "1850851fb8274d7f8c358c20b7bc0b9f": {
      "model_module": "@jupyter-widgets/base",
      "model_module_version": "2.0.0",
      "model_name": "LayoutModel",
      "state": {}
     },
     "185638e94b334ab38aa278d928e39535": {
      "model_module": "@jupyter-widgets/controls",
      "model_module_version": "2.0.0",
      "model_name": "ProgressStyleModel",
      "state": {
       "description_width": ""
      }
     },
     "185de646882843c0a7a94847c843bdb3": {
      "model_module": "@jupyter-widgets/controls",
      "model_module_version": "2.0.0",
      "model_name": "FloatProgressModel",
      "state": {
       "bar_style": "success",
       "layout": "IPY_MODEL_14b31d5de7b648f3910ce108166891ad",
       "max": 118,
       "style": "IPY_MODEL_cb5432b9dcc14cdfb97878dd49b578fd",
       "value": 118
      }
     },
     "18742c6f779745d39c52025dc8e42f07": {
      "model_module": "@jupyter-widgets/base",
      "model_module_version": "2.0.0",
      "model_name": "LayoutModel",
      "state": {}
     },
     "189c84defcaf4310b278cd6f84bbe108": {
      "model_module": "@jupyter-widgets/base",
      "model_module_version": "2.0.0",
      "model_name": "LayoutModel",
      "state": {}
     },
     "18c316a88ae844fbb1a839df660f1e20": {
      "model_module": "@jupyter-widgets/base",
      "model_module_version": "2.0.0",
      "model_name": "LayoutModel",
      "state": {}
     },
     "18ffc66baa7749fd8a9897241a2b9053": {
      "model_module": "@jupyter-widgets/controls",
      "model_module_version": "2.0.0",
      "model_name": "HTMLStyleModel",
      "state": {
       "description_width": "",
       "font_size": null,
       "text_color": null
      }
     },
     "190701ba75444eb88562520f1c02dfbe": {
      "model_module": "@jupyter-widgets/base",
      "model_module_version": "2.0.0",
      "model_name": "LayoutModel",
      "state": {}
     },
     "19423160062345cbb6793ad0479ee4ba": {
      "model_module": "@jupyter-widgets/controls",
      "model_module_version": "2.0.0",
      "model_name": "HTMLModel",
      "state": {
       "layout": "IPY_MODEL_45b920c81ee742bd886250fd3e480dd9",
       "style": "IPY_MODEL_8718c40292af4d64b67700ee098dbe06",
       "value": " 612/612 [00:14&lt;00:00, 45.30it/s]"
      }
     },
     "194e385260b84506a9337bc832a94b85": {
      "model_module": "@jupyter-widgets/controls",
      "model_module_version": "2.0.0",
      "model_name": "HTMLModel",
      "state": {
       "layout": "IPY_MODEL_f5259364fee4482bad9ab6602e94ddcd",
       "style": "IPY_MODEL_b8966efabcb648908709cbd68f72a276",
       "value": "100%"
      }
     },
     "1952ac3af5ab4639ad52da2e85b80720": {
      "model_module": "@jupyter-widgets/base",
      "model_module_version": "2.0.0",
      "model_name": "LayoutModel",
      "state": {}
     },
     "199b1a48a7674b279ae469bdd47fa2ff": {
      "model_module": "@jupyter-widgets/controls",
      "model_module_version": "2.0.0",
      "model_name": "ProgressStyleModel",
      "state": {
       "description_width": ""
      }
     },
     "19dc7c0c4c844152bc733a5b5262f1cd": {
      "model_module": "@jupyter-widgets/base",
      "model_module_version": "2.0.0",
      "model_name": "LayoutModel",
      "state": {}
     },
     "1a4bb69fcc884dfea8873e2b2cf6e4af": {
      "model_module": "@jupyter-widgets/base",
      "model_module_version": "2.0.0",
      "model_name": "LayoutModel",
      "state": {}
     },
     "1a7c4e65e1064a5aa117abd64d8021e6": {
      "model_module": "@jupyter-widgets/controls",
      "model_module_version": "2.0.0",
      "model_name": "HTMLModel",
      "state": {
       "layout": "IPY_MODEL_390956fb9e29466cb7a82a5c1c361bb8",
       "style": "IPY_MODEL_da942307eeca47fcba23ab0d68f0ff4f",
       "value": " 578/578 [00:12&lt;00:00, 44.45it/s]"
      }
     },
     "1b3481a5d418474b948c7e0ac590458f": {
      "model_module": "@jupyter-widgets/base",
      "model_module_version": "2.0.0",
      "model_name": "LayoutModel",
      "state": {}
     },
     "1b39eb0199dc4c5abf6ac5f0b60ddd22": {
      "model_module": "@jupyter-widgets/controls",
      "model_module_version": "2.0.0",
      "model_name": "FloatProgressModel",
      "state": {
       "bar_style": "success",
       "layout": "IPY_MODEL_84eedacb96af4dc29d634b0afe1c01d5",
       "max": 693,
       "style": "IPY_MODEL_5f4204151dc54507911c4461665a5c1c",
       "value": 693
      }
     },
     "1b6ad6315378476f86ae0365fbcc3a3f": {
      "model_module": "@jupyter-widgets/controls",
      "model_module_version": "2.0.0",
      "model_name": "HTMLStyleModel",
      "state": {
       "description_width": "",
       "font_size": null,
       "text_color": null
      }
     },
     "1ba4d8851a6a46a58d5ff34a058ee5a8": {
      "model_module": "@jupyter-widgets/base",
      "model_module_version": "2.0.0",
      "model_name": "LayoutModel",
      "state": {}
     },
     "1bd058a1468949fdba549b31b02450de": {
      "model_module": "@jupyter-widgets/controls",
      "model_module_version": "2.0.0",
      "model_name": "HTMLStyleModel",
      "state": {
       "description_width": "",
       "font_size": null,
       "text_color": null
      }
     },
     "1bd7e70cde5546cf93da8736091c5cae": {
      "model_module": "@jupyter-widgets/controls",
      "model_module_version": "2.0.0",
      "model_name": "HTMLStyleModel",
      "state": {
       "description_width": "",
       "font_size": null,
       "text_color": null
      }
     },
     "1be23796b22d4ba882951fd3e4121e1d": {
      "model_module": "@jupyter-widgets/base",
      "model_module_version": "2.0.0",
      "model_name": "LayoutModel",
      "state": {}
     },
     "1c230e17e5c84368aba2da6b9bba9f05": {
      "model_module": "@jupyter-widgets/controls",
      "model_module_version": "2.0.0",
      "model_name": "FloatProgressModel",
      "state": {
       "bar_style": "success",
       "layout": "IPY_MODEL_57315dcca986446fb10ea8b98c07e323",
       "max": 588,
       "style": "IPY_MODEL_7e6d80c23d4f4c38ac3d7d44c8b21bc8",
       "value": 588
      }
     },
     "1c270e298e7f42dc95520a17c03ac646": {
      "model_module": "@jupyter-widgets/controls",
      "model_module_version": "2.0.0",
      "model_name": "HTMLModel",
      "state": {
       "layout": "IPY_MODEL_893af3192b6c4f24a62f796d26aa2b48",
       "style": "IPY_MODEL_b53b001453d646e9be6fc996571317d1",
       "value": " 118/118 [00:02&lt;00:00, 36.50it/s]"
      }
     },
     "1c5053abd4b1452d96513c24ff7c94b1": {
      "model_module": "@jupyter-widgets/base",
      "model_module_version": "2.0.0",
      "model_name": "LayoutModel",
      "state": {}
     },
     "1c53153a40c5458283939c7c0e2006c6": {
      "model_module": "@jupyter-widgets/base",
      "model_module_version": "2.0.0",
      "model_name": "LayoutModel",
      "state": {}
     },
     "1c5cd2911d9249e2b99a187d56756d76": {
      "model_module": "@jupyter-widgets/controls",
      "model_module_version": "2.0.0",
      "model_name": "HTMLModel",
      "state": {
       "layout": "IPY_MODEL_d1d0b070a1734330953c284decd07271",
       "style": "IPY_MODEL_b8d4f7ab985e4306907a3b61a7c77843",
       "value": " 118/118 [00:26&lt;00:00,  3.94it/s]"
      }
     },
     "1c5e6b18825a401b971a5f69479d161a": {
      "model_module": "@jupyter-widgets/controls",
      "model_module_version": "2.0.0",
      "model_name": "HTMLStyleModel",
      "state": {
       "description_width": "",
       "font_size": null,
       "text_color": null
      }
     },
     "1c7ada74940e4c89ae898a7c7ee63fd5": {
      "model_module": "@jupyter-widgets/base",
      "model_module_version": "2.0.0",
      "model_name": "LayoutModel",
      "state": {}
     },
     "1c9944db76d04a5886a9f6634847a50d": {
      "model_module": "@jupyter-widgets/controls",
      "model_module_version": "2.0.0",
      "model_name": "HTMLStyleModel",
      "state": {
       "description_width": "",
       "font_size": null,
       "text_color": null
      }
     },
     "1d62fbc089594524b97e89ad501b109a": {
      "model_module": "@jupyter-widgets/controls",
      "model_module_version": "2.0.0",
      "model_name": "HTMLStyleModel",
      "state": {
       "description_width": "",
       "font_size": null,
       "text_color": null
      }
     },
     "1d694f9e0e704d51b53a94d1e7e3ff75": {
      "model_module": "@jupyter-widgets/base",
      "model_module_version": "2.0.0",
      "model_name": "LayoutModel",
      "state": {}
     },
     "1d7fb4f6cd124c8cbe02f8942709b0c3": {
      "model_module": "@jupyter-widgets/controls",
      "model_module_version": "2.0.0",
      "model_name": "HBoxModel",
      "state": {
       "children": [
        "IPY_MODEL_e0fd0de2c2bc428199180b356d574c59",
        "IPY_MODEL_225c19c5551b4273a4a9e1be6017033d",
        "IPY_MODEL_7e5af200df5e4d9ea00245736cd5ee9a"
       ],
       "layout": "IPY_MODEL_baece54431df4d538694e502ba4f05b3"
      }
     },
     "1da302ea599946e396fa29f6cf001591": {
      "model_module": "@jupyter-widgets/controls",
      "model_module_version": "2.0.0",
      "model_name": "ProgressStyleModel",
      "state": {
       "description_width": ""
      }
     },
     "1db3e06b2e0948169c961b7475719fec": {
      "model_module": "@jupyter-widgets/controls",
      "model_module_version": "2.0.0",
      "model_name": "HTMLStyleModel",
      "state": {
       "description_width": "",
       "font_size": null,
       "text_color": null
      }
     },
     "1e3ca74d20f64211a69779a495a89813": {
      "model_module": "@jupyter-widgets/controls",
      "model_module_version": "2.0.0",
      "model_name": "FloatProgressModel",
      "state": {
       "bar_style": "success",
       "layout": "IPY_MODEL_b918709a44a54e7da3e08f60b3130c03",
       "max": 620,
       "style": "IPY_MODEL_8cd1a79ae81347618a5d077c0e83d3ce",
       "value": 620
      }
     },
     "1e4fd9b8f6874f6c8fdf0ea13f5801e5": {
      "model_module": "@jupyter-widgets/controls",
      "model_module_version": "2.0.0",
      "model_name": "HTMLStyleModel",
      "state": {
       "description_width": "",
       "font_size": null,
       "text_color": null
      }
     },
     "1e560a1341b34d55bf76f30d1f730cf4": {
      "model_module": "@jupyter-widgets/base",
      "model_module_version": "2.0.0",
      "model_name": "LayoutModel",
      "state": {}
     },
     "1e8e0bb1b2744cbfb79588d4127858b1": {
      "model_module": "@jupyter-widgets/controls",
      "model_module_version": "2.0.0",
      "model_name": "ProgressStyleModel",
      "state": {
       "description_width": ""
      }
     },
     "1ec7bfbbdd954588a17a0b68abc52c8e": {
      "model_module": "@jupyter-widgets/controls",
      "model_module_version": "2.0.0",
      "model_name": "FloatProgressModel",
      "state": {
       "bar_style": "success",
       "layout": "IPY_MODEL_0db0a4938b0f4a7d982ef20813cdb7d5",
       "max": 703,
       "style": "IPY_MODEL_25be0d77629244c3973df0329c6eed21",
       "value": 703
      }
     },
     "1edd20f9be354d18a55f71648e8ff3ec": {
      "model_module": "@jupyter-widgets/base",
      "model_module_version": "2.0.0",
      "model_name": "LayoutModel",
      "state": {}
     },
     "1f113b0406f34ee288df85b3f6fc1e92": {
      "model_module": "@jupyter-widgets/base",
      "model_module_version": "2.0.0",
      "model_name": "LayoutModel",
      "state": {}
     },
     "1f450019e4ee45ce9d9ff94cd684e7ee": {
      "model_module": "@jupyter-widgets/controls",
      "model_module_version": "2.0.0",
      "model_name": "FloatProgressModel",
      "state": {
       "bar_style": "success",
       "layout": "IPY_MODEL_c247056a9ca14c7ead695fdd9d1f7a55",
       "max": 118,
       "style": "IPY_MODEL_2065745f550d4910afb9fa6da8b942b5",
       "value": 118
      }
     },
     "1f5c9bf8e5734c9fafaaf88a9627525d": {
      "model_module": "@jupyter-widgets/controls",
      "model_module_version": "2.0.0",
      "model_name": "HBoxModel",
      "state": {
       "children": [
        "IPY_MODEL_de5eb03db82d4ea8bf47e98785ceda60",
        "IPY_MODEL_388e8c229a8548108b7f0c4d82fe0737",
        "IPY_MODEL_1c5cd2911d9249e2b99a187d56756d76"
       ],
       "layout": "IPY_MODEL_b38113400a9a471d9eb3c7d686d86013"
      }
     },
     "1f67062f00f944eba0a3502c1d586f78": {
      "model_module": "@jupyter-widgets/controls",
      "model_module_version": "2.0.0",
      "model_name": "HTMLStyleModel",
      "state": {
       "description_width": "",
       "font_size": null,
       "text_color": null
      }
     },
     "1f7ff16e3f6344e592cc51e2f93efe08": {
      "model_module": "@jupyter-widgets/base",
      "model_module_version": "2.0.0",
      "model_name": "LayoutModel",
      "state": {}
     },
     "1f83791c153848559cc622fa5bf3a2db": {
      "model_module": "@jupyter-widgets/controls",
      "model_module_version": "2.0.0",
      "model_name": "FloatProgressModel",
      "state": {
       "bar_style": "success",
       "layout": "IPY_MODEL_94879cdb6e3c4e44b0012a87cdc698bc",
       "max": 1036,
       "style": "IPY_MODEL_4389365640af4e4cac441b3974e6bdfe",
       "value": 1036
      }
     },
     "1f9553a5f0a74bfb83d403f9286cf5c3": {
      "model_module": "@jupyter-widgets/base",
      "model_module_version": "2.0.0",
      "model_name": "LayoutModel",
      "state": {}
     },
     "1fc0c7adbd854390b958bb5889672fa2": {
      "model_module": "@jupyter-widgets/controls",
      "model_module_version": "2.0.0",
      "model_name": "HTMLStyleModel",
      "state": {
       "description_width": "",
       "font_size": null,
       "text_color": null
      }
     },
     "2008cb14cdb844c1a8ca449b809bcfb5": {
      "model_module": "@jupyter-widgets/base",
      "model_module_version": "2.0.0",
      "model_name": "LayoutModel",
      "state": {}
     },
     "203eb24548eb4c03bbdf01efa5a69816": {
      "model_module": "@jupyter-widgets/controls",
      "model_module_version": "2.0.0",
      "model_name": "HTMLStyleModel",
      "state": {
       "description_width": "",
       "font_size": null,
       "text_color": null
      }
     },
     "204ad18b14b64a27b23c49516d47ba98": {
      "model_module": "@jupyter-widgets/base",
      "model_module_version": "2.0.0",
      "model_name": "LayoutModel",
      "state": {}
     },
     "2050cf27d4b24fcebe51a8a23f96912c": {
      "model_module": "@jupyter-widgets/controls",
      "model_module_version": "2.0.0",
      "model_name": "HTMLModel",
      "state": {
       "layout": "IPY_MODEL_59354d928d9649b4a7febdcd14c624d2",
       "style": "IPY_MODEL_5ffecfcf795b479f844958cf5f664fe2",
       "value": " 118/118 [00:26&lt;00:00,  4.05it/s]"
      }
     },
     "2050e06bd87c477c9d3da5a8983fd66f": {
      "model_module": "@jupyter-widgets/controls",
      "model_module_version": "2.0.0",
      "model_name": "HTMLStyleModel",
      "state": {
       "description_width": "",
       "font_size": null,
       "text_color": null
      }
     },
     "2065745f550d4910afb9fa6da8b942b5": {
      "model_module": "@jupyter-widgets/controls",
      "model_module_version": "2.0.0",
      "model_name": "ProgressStyleModel",
      "state": {
       "description_width": ""
      }
     },
     "2076c695e7534e72a326dacfee032bac": {
      "model_module": "@jupyter-widgets/base",
      "model_module_version": "2.0.0",
      "model_name": "LayoutModel",
      "state": {}
     },
     "2088d5e9fc31486c9cd3493f7e21bdfe": {
      "model_module": "@jupyter-widgets/base",
      "model_module_version": "2.0.0",
      "model_name": "LayoutModel",
      "state": {}
     },
     "2099da5f8715424982ff72d06041a24a": {
      "model_module": "@jupyter-widgets/controls",
      "model_module_version": "2.0.0",
      "model_name": "HTMLModel",
      "state": {
       "layout": "IPY_MODEL_e80018e93f0f4e63826f30d45ef9224e",
       "style": "IPY_MODEL_439d0d68eeb144e9950c285d5ed5d7eb",
       "value": " 653/653 [00:16&lt;00:00, 38.43it/s]"
      }
     },
     "209d92e4ba154d37ae739c1ac5cfe511": {
      "model_module": "@jupyter-widgets/controls",
      "model_module_version": "2.0.0",
      "model_name": "HTMLStyleModel",
      "state": {
       "description_width": "",
       "font_size": null,
       "text_color": null
      }
     },
     "20ec3631863a41a0a3fdb9e0dd710cac": {
      "model_module": "@jupyter-widgets/base",
      "model_module_version": "2.0.0",
      "model_name": "LayoutModel",
      "state": {}
     },
     "20f796712c6b4a58abb769b050782bc6": {
      "model_module": "@jupyter-widgets/base",
      "model_module_version": "2.0.0",
      "model_name": "LayoutModel",
      "state": {}
     },
     "214150cb33274c1dbfd6ee90b8cc7252": {
      "model_module": "@jupyter-widgets/controls",
      "model_module_version": "2.0.0",
      "model_name": "HTMLStyleModel",
      "state": {
       "description_width": "",
       "font_size": null,
       "text_color": null
      }
     },
     "21900d31c44741919a29d32fb9ee65a8": {
      "model_module": "@jupyter-widgets/controls",
      "model_module_version": "2.0.0",
      "model_name": "ProgressStyleModel",
      "state": {
       "description_width": ""
      }
     },
     "21e84c1ee89a4c6280311793a8fb068e": {
      "model_module": "@jupyter-widgets/base",
      "model_module_version": "2.0.0",
      "model_name": "LayoutModel",
      "state": {}
     },
     "220f1654d3eb4976bd8c63dacb0fba34": {
      "model_module": "@jupyter-widgets/controls",
      "model_module_version": "2.0.0",
      "model_name": "ProgressStyleModel",
      "state": {
       "description_width": ""
      }
     },
     "222442dc5bbb46438c68a554ae3999de": {
      "model_module": "@jupyter-widgets/controls",
      "model_module_version": "2.0.0",
      "model_name": "ProgressStyleModel",
      "state": {
       "description_width": ""
      }
     },
     "225c19c5551b4273a4a9e1be6017033d": {
      "model_module": "@jupyter-widgets/controls",
      "model_module_version": "2.0.0",
      "model_name": "FloatProgressModel",
      "state": {
       "bar_style": "success",
       "layout": "IPY_MODEL_024ea91e8fe1459a8b6a44d83c756868",
       "max": 512,
       "style": "IPY_MODEL_a706fcae00aa44619e9e11729315446b",
       "value": 512
      }
     },
     "228c8d2396cc49e29df1994d9ae1b017": {
      "model_module": "@jupyter-widgets/base",
      "model_module_version": "2.0.0",
      "model_name": "LayoutModel",
      "state": {}
     },
     "22976613037a42359efa1580cabff2f4": {
      "model_module": "@jupyter-widgets/base",
      "model_module_version": "2.0.0",
      "model_name": "LayoutModel",
      "state": {}
     },
     "22cdf94043314b678edf61a8a393b2e3": {
      "model_module": "@jupyter-widgets/controls",
      "model_module_version": "2.0.0",
      "model_name": "HBoxModel",
      "state": {
       "children": [
        "IPY_MODEL_db2eb5a386aa4cc2adc0ed517d5cc187",
        "IPY_MODEL_932437c49b59428a81f3ca8595dc6404",
        "IPY_MODEL_b9039836b2154389a73ee0feea6a25c3"
       ],
       "layout": "IPY_MODEL_d860fd7279f04f67bb89a20dddb71422"
      }
     },
     "22e23e2137bd45dbae1ef62bcd32ffca": {
      "model_module": "@jupyter-widgets/controls",
      "model_module_version": "2.0.0",
      "model_name": "HTMLModel",
      "state": {
       "layout": "IPY_MODEL_687c823dc4cd437ea55ae53595222bc8",
       "style": "IPY_MODEL_b594c36dd7034bf2b00a421948733037",
       "value": "100%"
      }
     },
     "23038ad74de94500b47ba66b5dc348f8": {
      "model_module": "@jupyter-widgets/base",
      "model_module_version": "2.0.0",
      "model_name": "LayoutModel",
      "state": {}
     },
     "230e0f2edf1546baa4dd12284f92ae8e": {
      "model_module": "@jupyter-widgets/base",
      "model_module_version": "2.0.0",
      "model_name": "LayoutModel",
      "state": {}
     },
     "23780d7c4f7347cfb60a09b0a804be05": {
      "model_module": "@jupyter-widgets/controls",
      "model_module_version": "2.0.0",
      "model_name": "ProgressStyleModel",
      "state": {
       "description_width": ""
      }
     },
     "2403469db0f049e29ff0125cc7ca48fe": {
      "model_module": "@jupyter-widgets/controls",
      "model_module_version": "2.0.0",
      "model_name": "ProgressStyleModel",
      "state": {
       "description_width": ""
      }
     },
     "248c81307e1a4a24b71e470cf0dc2c0c": {
      "model_module": "@jupyter-widgets/controls",
      "model_module_version": "2.0.0",
      "model_name": "ProgressStyleModel",
      "state": {
       "description_width": ""
      }
     },
     "24bd31ea1de349c1a1d1856682f82d98": {
      "model_module": "@jupyter-widgets/controls",
      "model_module_version": "2.0.0",
      "model_name": "FloatProgressModel",
      "state": {
       "bar_style": "success",
       "layout": "IPY_MODEL_9ba7d72481164e59839baa76b60a1e94",
       "max": 704,
       "style": "IPY_MODEL_8cc050419fe84290b555f7d14e412dd9",
       "value": 704
      }
     },
     "24c6968340534442a1ac6c3d5deca3dc": {
      "model_module": "@jupyter-widgets/base",
      "model_module_version": "2.0.0",
      "model_name": "LayoutModel",
      "state": {}
     },
     "24d538424ae54158866294e1601c166c": {
      "model_module": "@jupyter-widgets/controls",
      "model_module_version": "2.0.0",
      "model_name": "ProgressStyleModel",
      "state": {
       "description_width": ""
      }
     },
     "252621b0c20d4fa59ee3edf8aae8f68e": {
      "model_module": "@jupyter-widgets/controls",
      "model_module_version": "2.0.0",
      "model_name": "HTMLStyleModel",
      "state": {
       "description_width": "",
       "font_size": null,
       "text_color": null
      }
     },
     "252c88c7b176406a86aef5a155ff3f0a": {
      "model_module": "@jupyter-widgets/base",
      "model_module_version": "2.0.0",
      "model_name": "LayoutModel",
      "state": {}
     },
     "2562c30705664f8e87c8eb05862b4dc3": {
      "model_module": "@jupyter-widgets/controls",
      "model_module_version": "2.0.0",
      "model_name": "ProgressStyleModel",
      "state": {
       "description_width": ""
      }
     },
     "2567aec01ec14477bf9402ebe15a5fa9": {
      "model_module": "@jupyter-widgets/base",
      "model_module_version": "2.0.0",
      "model_name": "LayoutModel",
      "state": {}
     },
     "2579c6632b85419b82bdc5e0b6f773d3": {
      "model_module": "@jupyter-widgets/base",
      "model_module_version": "2.0.0",
      "model_name": "LayoutModel",
      "state": {}
     },
     "25939a2be2a3492da750ff6c60ec75e2": {
      "model_module": "@jupyter-widgets/base",
      "model_module_version": "2.0.0",
      "model_name": "LayoutModel",
      "state": {}
     },
     "259d3451d29b4a078693394d2483afb2": {
      "model_module": "@jupyter-widgets/controls",
      "model_module_version": "2.0.0",
      "model_name": "HTMLModel",
      "state": {
       "layout": "IPY_MODEL_c445d937422641aa8f692062b7a41856",
       "style": "IPY_MODEL_6b88b08363244e4a8d020be33d6282ad",
       "value": "100%"
      }
     },
     "25be0d77629244c3973df0329c6eed21": {
      "model_module": "@jupyter-widgets/controls",
      "model_module_version": "2.0.0",
      "model_name": "ProgressStyleModel",
      "state": {
       "description_width": ""
      }
     },
     "25cb0761314b4b86b38404f76fb6bcaa": {
      "model_module": "@jupyter-widgets/base",
      "model_module_version": "2.0.0",
      "model_name": "LayoutModel",
      "state": {}
     },
     "262240d7411e4dacad4abde48ad48e76": {
      "model_module": "@jupyter-widgets/base",
      "model_module_version": "2.0.0",
      "model_name": "LayoutModel",
      "state": {}
     },
     "2640df4bcf4a49098b315118ec560123": {
      "model_module": "@jupyter-widgets/base",
      "model_module_version": "2.0.0",
      "model_name": "LayoutModel",
      "state": {}
     },
     "2670e9d446f94ecd83ed5afa07b34003": {
      "model_module": "@jupyter-widgets/base",
      "model_module_version": "2.0.0",
      "model_name": "LayoutModel",
      "state": {}
     },
     "267df40210e6472fafd8c9ae03889ca7": {
      "model_module": "@jupyter-widgets/controls",
      "model_module_version": "2.0.0",
      "model_name": "HTMLStyleModel",
      "state": {
       "description_width": "",
       "font_size": null,
       "text_color": null
      }
     },
     "2688b0e749a14aefb944e0d2da73069b": {
      "model_module": "@jupyter-widgets/controls",
      "model_module_version": "2.0.0",
      "model_name": "FloatProgressModel",
      "state": {
       "bar_style": "success",
       "layout": "IPY_MODEL_9924d7aed6d54f3fa4a2bf7da2d85c67",
       "max": 418,
       "style": "IPY_MODEL_51072a0bf1bc4a78a43214af92da27c9",
       "value": 418
      }
     },
     "26c3e848cc4c4c1598f5280073485cee": {
      "model_module": "@jupyter-widgets/controls",
      "model_module_version": "2.0.0",
      "model_name": "HTMLModel",
      "state": {
       "layout": "IPY_MODEL_c295c42d074e4d33ae82e4d3eee0b3e1",
       "style": "IPY_MODEL_7d65a18ea47e4fcfa66a06bdc91fac32",
       "value": "100%"
      }
     },
     "2716f7cef97e49d89cb00727f72f2dee": {
      "model_module": "@jupyter-widgets/controls",
      "model_module_version": "2.0.0",
      "model_name": "HTMLModel",
      "state": {
       "layout": "IPY_MODEL_73db964ef48e41b3a8bec031b0a94d42",
       "style": "IPY_MODEL_83aad8b02ae34beabe2ed127ec725f3f",
       "value": "100%"
      }
     },
     "272b81c61fe94cbf980e26c85321e079": {
      "model_module": "@jupyter-widgets/controls",
      "model_module_version": "2.0.0",
      "model_name": "HBoxModel",
      "state": {
       "children": [
        "IPY_MODEL_6e6e17cc0f8141329483d08fd36543d8",
        "IPY_MODEL_0eee35eece8e43258a601cf94916168d",
        "IPY_MODEL_92a30095c005482f89de78bc87db2f59"
       ],
       "layout": "IPY_MODEL_71c189e3b9b54f849ece59456e26fa6d"
      }
     },
     "27600f1c8f3044c38cdb3605286eb346": {
      "model_module": "@jupyter-widgets/controls",
      "model_module_version": "2.0.0",
      "model_name": "HTMLStyleModel",
      "state": {
       "description_width": "",
       "font_size": null,
       "text_color": null
      }
     },
     "27b074973db948a0b8d4d069a5e5fbd6": {
      "model_module": "@jupyter-widgets/controls",
      "model_module_version": "2.0.0",
      "model_name": "FloatProgressModel",
      "state": {
       "bar_style": "success",
       "layout": "IPY_MODEL_98459531a2244be1b98530daafecc4e3",
       "max": 628,
       "style": "IPY_MODEL_603d3dd23cb44a9d962fabeae0f0322c",
       "value": 628
      }
     },
     "27ef72831cf34e64b53b86c5b0b80ffb": {
      "model_module": "@jupyter-widgets/controls",
      "model_module_version": "2.0.0",
      "model_name": "FloatProgressModel",
      "state": {
       "bar_style": "success",
       "layout": "IPY_MODEL_3d79890958854b82a8f19d95e5cc8975",
       "max": 118,
       "style": "IPY_MODEL_9156579a4a6847f9af24aa7e29898621",
       "value": 118
      }
     },
     "27f0c90731a247588160dd231c59c401": {
      "model_module": "@jupyter-widgets/controls",
      "model_module_version": "2.0.0",
      "model_name": "HTMLModel",
      "state": {
       "layout": "IPY_MODEL_2e997d242ec1446c8327c863ed1242c8",
       "style": "IPY_MODEL_8a135ef19b3a4ea28da35d3588988749",
       "value": "100%"
      }
     },
     "284e53af31e14c6eb288f349f3a580d1": {
      "model_module": "@jupyter-widgets/controls",
      "model_module_version": "2.0.0",
      "model_name": "HTMLStyleModel",
      "state": {
       "description_width": "",
       "font_size": null,
       "text_color": null
      }
     },
     "28658a675e3c42d6b7a9e0c6243b16c1": {
      "model_module": "@jupyter-widgets/base",
      "model_module_version": "2.0.0",
      "model_name": "LayoutModel",
      "state": {}
     },
     "286b15ee14044bbc8268ed387351988f": {
      "model_module": "@jupyter-widgets/base",
      "model_module_version": "2.0.0",
      "model_name": "LayoutModel",
      "state": {}
     },
     "28b224b725d2485abda2fbcbf82a2660": {
      "model_module": "@jupyter-widgets/controls",
      "model_module_version": "2.0.0",
      "model_name": "HTMLStyleModel",
      "state": {
       "description_width": "",
       "font_size": null,
       "text_color": null
      }
     },
     "28cc3c500c82423c93a916545abc0349": {
      "model_module": "@jupyter-widgets/controls",
      "model_module_version": "2.0.0",
      "model_name": "FloatProgressModel",
      "state": {
       "bar_style": "success",
       "layout": "IPY_MODEL_b11561530f944f11a3647aee484f4194",
       "max": 582,
       "style": "IPY_MODEL_83545af40d4548158ac23f4d28e186eb",
       "value": 582
      }
     },
     "28d2837d85b74ccda6411ecbe8fd784d": {
      "model_module": "@jupyter-widgets/controls",
      "model_module_version": "2.0.0",
      "model_name": "HTMLStyleModel",
      "state": {
       "description_width": "",
       "font_size": null,
       "text_color": null
      }
     },
     "28eaf2798a7946e1a1d892d59cf4ce30": {
      "model_module": "@jupyter-widgets/controls",
      "model_module_version": "2.0.0",
      "model_name": "HTMLStyleModel",
      "state": {
       "description_width": "",
       "font_size": null,
       "text_color": null
      }
     },
     "28f460d34077404eacc607e4ea1c9b3f": {
      "model_module": "@jupyter-widgets/base",
      "model_module_version": "2.0.0",
      "model_name": "LayoutModel",
      "state": {}
     },
     "28fb1a3e8abc41fda0f4dee3a8c4777d": {
      "model_module": "@jupyter-widgets/controls",
      "model_module_version": "2.0.0",
      "model_name": "HTMLStyleModel",
      "state": {
       "description_width": "",
       "font_size": null,
       "text_color": null
      }
     },
     "28fb4634ed26471a85721d01774b3a8c": {
      "model_module": "@jupyter-widgets/controls",
      "model_module_version": "2.0.0",
      "model_name": "FloatProgressModel",
      "state": {
       "bar_style": "success",
       "layout": "IPY_MODEL_590fa79cc22d4fb5b22f1d4847016f2f",
       "max": 118,
       "style": "IPY_MODEL_222442dc5bbb46438c68a554ae3999de",
       "value": 118
      }
     },
     "292c15417a5345f68fe07f40c173eaae": {
      "model_module": "@jupyter-widgets/base",
      "model_module_version": "2.0.0",
      "model_name": "LayoutModel",
      "state": {}
     },
     "294dfab6fc8c460daaa2756c5f26d58d": {
      "model_module": "@jupyter-widgets/base",
      "model_module_version": "2.0.0",
      "model_name": "LayoutModel",
      "state": {}
     },
     "2a019631c1ac41dfb103518e3cb89198": {
      "model_module": "@jupyter-widgets/controls",
      "model_module_version": "2.0.0",
      "model_name": "ProgressStyleModel",
      "state": {
       "description_width": ""
      }
     },
     "2a49aed17ef34973b993663f2f6589be": {
      "model_module": "@jupyter-widgets/controls",
      "model_module_version": "2.0.0",
      "model_name": "HTMLStyleModel",
      "state": {
       "description_width": "",
       "font_size": null,
       "text_color": null
      }
     },
     "2a4cf8944c454c199a28de25cd009c23": {
      "model_module": "@jupyter-widgets/controls",
      "model_module_version": "2.0.0",
      "model_name": "HTMLStyleModel",
      "state": {
       "description_width": "",
       "font_size": null,
       "text_color": null
      }
     },
     "2a9ed2612e13428c973644d5165a716f": {
      "model_module": "@jupyter-widgets/base",
      "model_module_version": "2.0.0",
      "model_name": "LayoutModel",
      "state": {}
     },
     "2aa51a1208c646b7b5a449054d9fce48": {
      "model_module": "@jupyter-widgets/controls",
      "model_module_version": "2.0.0",
      "model_name": "HBoxModel",
      "state": {
       "children": [
        "IPY_MODEL_37d078a938d242658c17abec46775841",
        "IPY_MODEL_059034918c674276bc16b69250c69af7",
        "IPY_MODEL_6ceec306f7bd424bb49f3c554ce514cf"
       ],
       "layout": "IPY_MODEL_954f07010f3d400299de3c67076469c1"
      }
     },
     "2ae358a80e064fa88d727e527fed3c18": {
      "model_module": "@jupyter-widgets/controls",
      "model_module_version": "2.0.0",
      "model_name": "ProgressStyleModel",
      "state": {
       "description_width": ""
      }
     },
     "2aedb079d02e4b15b6c2f8256ab3b638": {
      "model_module": "@jupyter-widgets/controls",
      "model_module_version": "2.0.0",
      "model_name": "HTMLStyleModel",
      "state": {
       "description_width": "",
       "font_size": null,
       "text_color": null
      }
     },
     "2afd9b54c972439eb6c11296dd0a1391": {
      "model_module": "@jupyter-widgets/controls",
      "model_module_version": "2.0.0",
      "model_name": "FloatProgressModel",
      "state": {
       "bar_style": "success",
       "layout": "IPY_MODEL_1c53153a40c5458283939c7c0e2006c6",
       "max": 700,
       "style": "IPY_MODEL_86d4e9fe093c4c2f9dd15d42674bac02",
       "value": 700
      }
     },
     "2b2ec958c634415fb0c2d202d2a87b73": {
      "model_module": "@jupyter-widgets/controls",
      "model_module_version": "2.0.0",
      "model_name": "HTMLModel",
      "state": {
       "layout": "IPY_MODEL_079b52497a17466ab62a34f47930bc44",
       "style": "IPY_MODEL_066a7e90d97b451d88cf7f8e1cf6e01d",
       "value": "100%"
      }
     },
     "2b2f0b383ddb455e90d96c5ccab4d791": {
      "model_module": "@jupyter-widgets/controls",
      "model_module_version": "2.0.0",
      "model_name": "HTMLModel",
      "state": {
       "layout": "IPY_MODEL_96d575d67d0d484bbb112a46a733053e",
       "style": "IPY_MODEL_8ae15efa9945452d954e73340f682c21",
       "value": " 632/632 [00:14&lt;00:00, 45.29it/s]"
      }
     },
     "2b53d2a0e29e4232beb508ffd72e258c": {
      "model_module": "@jupyter-widgets/base",
      "model_module_version": "2.0.0",
      "model_name": "LayoutModel",
      "state": {}
     },
     "2b6476632fcf47f5b4a0a3ea499ffc75": {
      "model_module": "@jupyter-widgets/controls",
      "model_module_version": "2.0.0",
      "model_name": "HTMLStyleModel",
      "state": {
       "description_width": "",
       "font_size": null,
       "text_color": null
      }
     },
     "2b8c6fd81c3c47019b389a4ba16f00e7": {
      "model_module": "@jupyter-widgets/base",
      "model_module_version": "2.0.0",
      "model_name": "LayoutModel",
      "state": {}
     },
     "2b9de5bd50934331b8b116b6de2d7973": {
      "model_module": "@jupyter-widgets/controls",
      "model_module_version": "2.0.0",
      "model_name": "HTMLModel",
      "state": {
       "layout": "IPY_MODEL_40892bdc28074de59f7fec6c51f6a8bc",
       "style": "IPY_MODEL_84f5bb3615c2430ea5277f35146b1839",
       "value": " 582/582 [00:12&lt;00:00, 46.82it/s]"
      }
     },
     "2baa06da999c49e4a24be65f4d61cfbd": {
      "model_module": "@jupyter-widgets/controls",
      "model_module_version": "2.0.0",
      "model_name": "HTMLStyleModel",
      "state": {
       "description_width": "",
       "font_size": null,
       "text_color": null
      }
     },
     "2bb9406c92b14d1bb57adf5c35ac909f": {
      "model_module": "@jupyter-widgets/base",
      "model_module_version": "2.0.0",
      "model_name": "LayoutModel",
      "state": {}
     },
     "2bc38040ae424874b401f24814d6cf20": {
      "model_module": "@jupyter-widgets/controls",
      "model_module_version": "2.0.0",
      "model_name": "HTMLModel",
      "state": {
       "layout": "IPY_MODEL_eeeb5868b2a94d0bb36f372c2dd15db7",
       "style": "IPY_MODEL_78dc9f89527c4939a3fecea2065ea4ee",
       "value": "  8%"
      }
     },
     "2bd56c1bd6624cdc84066bc80cef7dc1": {
      "model_module": "@jupyter-widgets/controls",
      "model_module_version": "2.0.0",
      "model_name": "FloatProgressModel",
      "state": {
       "bar_style": "success",
       "layout": "IPY_MODEL_5ab6e1865a3344c79be5876d599cb7fa",
       "max": 582,
       "style": "IPY_MODEL_751cc452f3644722aceb353ca9e88fa4",
       "value": 582
      }
     },
     "2c4938ba05444e94b4b84f84c3bae384": {
      "model_module": "@jupyter-widgets/controls",
      "model_module_version": "2.0.0",
      "model_name": "HBoxModel",
      "state": {
       "children": [
        "IPY_MODEL_d0cf04a80687447181f49a7c5163f3c0",
        "IPY_MODEL_2bd56c1bd6624cdc84066bc80cef7dc1",
        "IPY_MODEL_9c5a63706b514416808a5c3382772cec"
       ],
       "layout": "IPY_MODEL_0a6f0d3df7f74062b890eabdf5aa7305"
      }
     },
     "2c4fac522746405e81e5737b1d0e3a98": {
      "model_module": "@jupyter-widgets/controls",
      "model_module_version": "2.0.0",
      "model_name": "HTMLModel",
      "state": {
       "layout": "IPY_MODEL_a77f2078f06c49c495b5f49f9f4d4136",
       "style": "IPY_MODEL_3622e7df0a4c40fa8630b9bca0456edd",
       "value": " 118/118 [00:29&lt;00:00,  3.57it/s]"
      }
     },
     "2c6b810ae96a4907905f819181180fcc": {
      "model_module": "@jupyter-widgets/base",
      "model_module_version": "2.0.0",
      "model_name": "LayoutModel",
      "state": {}
     },
     "2cec71e27a6744fb9b6d8e642cfd1863": {
      "model_module": "@jupyter-widgets/controls",
      "model_module_version": "2.0.0",
      "model_name": "FloatProgressModel",
      "state": {
       "bar_style": "success",
       "layout": "IPY_MODEL_262240d7411e4dacad4abde48ad48e76",
       "max": 698,
       "style": "IPY_MODEL_09193e0a04f047088c92acaefd58376c",
       "value": 698
      }
     },
     "2d1c18a9dc3646c7a04eb84bb6c4c763": {
      "model_module": "@jupyter-widgets/controls",
      "model_module_version": "2.0.0",
      "model_name": "FloatProgressModel",
      "state": {
       "bar_style": "danger",
       "layout": "IPY_MODEL_dff138eabc3f44f78fa38257a22ca301",
       "max": 118,
       "style": "IPY_MODEL_915b02cc401b43cc88b10b052d058a33",
       "value": 9
      }
     },
     "2d697b39e9824d3592597f1091561152": {
      "model_module": "@jupyter-widgets/controls",
      "model_module_version": "2.0.0",
      "model_name": "HTMLStyleModel",
      "state": {
       "description_width": "",
       "font_size": null,
       "text_color": null
      }
     },
     "2dba742b038a4238805f519f96835792": {
      "model_module": "@jupyter-widgets/controls",
      "model_module_version": "2.0.0",
      "model_name": "HBoxModel",
      "state": {
       "children": [
        "IPY_MODEL_9b12e69bd86e4be0820008dd8c8ef778",
        "IPY_MODEL_4c5c3b827f774373838189e1007435f4",
        "IPY_MODEL_dc8c4808bf3b4df08f6dd536470f9de3"
       ],
       "layout": "IPY_MODEL_01b6ec67ca3249aab54ec98c6ccaa247"
      }
     },
     "2dde58a070e641cdb7be32b5ea046996": {
      "model_module": "@jupyter-widgets/controls",
      "model_module_version": "2.0.0",
      "model_name": "HTMLModel",
      "state": {
       "layout": "IPY_MODEL_9cd9e001ca514123bc6f5a41611715b5",
       "style": "IPY_MODEL_f2fe026e90a747a8bcabf576217a9b29",
       "value": "100%"
      }
     },
     "2dfcdce700da450f9414bc752ffec2c3": {
      "model_module": "@jupyter-widgets/base",
      "model_module_version": "2.0.0",
      "model_name": "LayoutModel",
      "state": {}
     },
     "2e2a082adfaf421985f2cbf5dd86636b": {
      "model_module": "@jupyter-widgets/base",
      "model_module_version": "2.0.0",
      "model_name": "LayoutModel",
      "state": {}
     },
     "2e393cbb5b724bbd99544c5e39fdcecf": {
      "model_module": "@jupyter-widgets/controls",
      "model_module_version": "2.0.0",
      "model_name": "HTMLStyleModel",
      "state": {
       "description_width": "",
       "font_size": null,
       "text_color": null
      }
     },
     "2e5beba7fd7940b1a1cd85a2b52768a4": {
      "model_module": "@jupyter-widgets/base",
      "model_module_version": "2.0.0",
      "model_name": "LayoutModel",
      "state": {}
     },
     "2e6113031bb244609cd4bd54fa8485b1": {
      "model_module": "@jupyter-widgets/controls",
      "model_module_version": "2.0.0",
      "model_name": "HTMLStyleModel",
      "state": {
       "description_width": "",
       "font_size": null,
       "text_color": null
      }
     },
     "2e755cff6f80498283666dab6a454dd7": {
      "model_module": "@jupyter-widgets/controls",
      "model_module_version": "2.0.0",
      "model_name": "ProgressStyleModel",
      "state": {
       "description_width": ""
      }
     },
     "2e997d242ec1446c8327c863ed1242c8": {
      "model_module": "@jupyter-widgets/base",
      "model_module_version": "2.0.0",
      "model_name": "LayoutModel",
      "state": {}
     },
     "2ea9c88d8ffd4e678b2dbfe815e4257b": {
      "model_module": "@jupyter-widgets/controls",
      "model_module_version": "2.0.0",
      "model_name": "HTMLModel",
      "state": {
       "layout": "IPY_MODEL_d52a3ece1b7945e8b0747f6ae7eddbd2",
       "style": "IPY_MODEL_450deb82d5324b8093df33e42d1741ee",
       "value": " 859/859 [00:18&lt;00:00, 58.32it/s]"
      }
     },
     "2ec4414f17cf4bc2a66152a210db91de": {
      "model_module": "@jupyter-widgets/controls",
      "model_module_version": "2.0.0",
      "model_name": "HTMLStyleModel",
      "state": {
       "description_width": "",
       "font_size": null,
       "text_color": null
      }
     },
     "2ecabbd780f842f2841ba5c6fb617081": {
      "model_module": "@jupyter-widgets/controls",
      "model_module_version": "2.0.0",
      "model_name": "HTMLStyleModel",
      "state": {
       "description_width": "",
       "font_size": null,
       "text_color": null
      }
     },
     "2ed4b426b4b84598a9c8ceace8bb995e": {
      "model_module": "@jupyter-widgets/controls",
      "model_module_version": "2.0.0",
      "model_name": "HTMLModel",
      "state": {
       "layout": "IPY_MODEL_a3c01fe9c4d148a8bb53c1f3c34f1ec6",
       "style": "IPY_MODEL_7153cbca68884b84b15e232395fb7970",
       "value": " 9/118 [00:02&lt;00:26,  4.05it/s]"
      }
     },
     "2ef8b2467b30446ca7ee45342e8aa17e": {
      "model_module": "@jupyter-widgets/controls",
      "model_module_version": "2.0.0",
      "model_name": "HTMLStyleModel",
      "state": {
       "description_width": "",
       "font_size": null,
       "text_color": null
      }
     },
     "2f1f3c9224ef4cb1a325f2da0a79964f": {
      "model_module": "@jupyter-widgets/controls",
      "model_module_version": "2.0.0",
      "model_name": "HTMLModel",
      "state": {
       "layout": "IPY_MODEL_842ba97f9dee40c2984344017d3ac304",
       "style": "IPY_MODEL_4f09abffa6f1428b806218a7c248835d",
       "value": " 609/609 [00:13&lt;00:00, 44.80it/s]"
      }
     },
     "2f9d316be1d74dcc97325f6f3f4f5f75": {
      "model_module": "@jupyter-widgets/controls",
      "model_module_version": "2.0.0",
      "model_name": "HTMLModel",
      "state": {
       "layout": "IPY_MODEL_b8529c3a3ecc4120b7cf5feb4008913a",
       "style": "IPY_MODEL_61721cc122834861a63902c334f0a106",
       "value": " 118/118 [00:30&lt;00:00,  2.97it/s]"
      }
     },
     "2faa636d181b49bdbcd61987c1a5e963": {
      "model_module": "@jupyter-widgets/controls",
      "model_module_version": "2.0.0",
      "model_name": "HTMLStyleModel",
      "state": {
       "description_width": "",
       "font_size": null,
       "text_color": null
      }
     },
     "2fae6e554df44be28d6d43af532953fd": {
      "model_module": "@jupyter-widgets/base",
      "model_module_version": "2.0.0",
      "model_name": "LayoutModel",
      "state": {}
     },
     "2fe17bf0ef194dc3856ca6bc2586e24d": {
      "model_module": "@jupyter-widgets/controls",
      "model_module_version": "2.0.0",
      "model_name": "HTMLModel",
      "state": {
       "layout": "IPY_MODEL_93fc2f1d2d2a4d93813c9fc14f5ea190",
       "style": "IPY_MODEL_f5afbbad32ff457fa68ee0f6c7e6dfc9",
       "value": " 737/737 [00:16&lt;00:00, 45.17it/s]"
      }
     },
     "2fe921a835e1457a85d5a69c852f6fa8": {
      "model_module": "@jupyter-widgets/base",
      "model_module_version": "2.0.0",
      "model_name": "LayoutModel",
      "state": {}
     },
     "2ffa599cb39948899defae1b691b67c9": {
      "model_module": "@jupyter-widgets/controls",
      "model_module_version": "2.0.0",
      "model_name": "HTMLModel",
      "state": {
       "layout": "IPY_MODEL_06ddc1df893e40a398e8dc7cc5cad4f7",
       "style": "IPY_MODEL_e911b9ea0532490e9bbe8ca15329f838",
       "value": "100%"
      }
     },
     "3009873b12414da1b4ed7cace6129193": {
      "model_module": "@jupyter-widgets/base",
      "model_module_version": "2.0.0",
      "model_name": "LayoutModel",
      "state": {}
     },
     "3014fe902e1947a18f22d3bad9c4be9b": {
      "model_module": "@jupyter-widgets/base",
      "model_module_version": "2.0.0",
      "model_name": "LayoutModel",
      "state": {}
     },
     "301d53f644274e69b9d0191fb037a9a1": {
      "model_module": "@jupyter-widgets/controls",
      "model_module_version": "2.0.0",
      "model_name": "ProgressStyleModel",
      "state": {
       "description_width": ""
      }
     },
     "3046b42559e1456c87d2210f482c0be2": {
      "model_module": "@jupyter-widgets/controls",
      "model_module_version": "2.0.0",
      "model_name": "HBoxModel",
      "state": {
       "children": [
        "IPY_MODEL_a8f536266f31488c878571253be8e6aa",
        "IPY_MODEL_f2a4944b7fa54c01a4b2e7aca56f9ca2",
        "IPY_MODEL_7daf02a84b3e4883b5b61763c118491e"
       ],
       "layout": "IPY_MODEL_6ad3cecf4cfe4d12a5b680fd3ab98f57"
      }
     },
     "304b508633f3412a9fd4a6a9fcf856ab": {
      "model_module": "@jupyter-widgets/controls",
      "model_module_version": "2.0.0",
      "model_name": "HTMLModel",
      "state": {
       "layout": "IPY_MODEL_40702bbca4554962986cd4300ee8f9bc",
       "style": "IPY_MODEL_4d9fed50b8aa4f6b9bbb3f096c742ad9",
       "value": "100%"
      }
     },
     "30692bcf6d834db58e0dc0e26233b3e4": {
      "model_module": "@jupyter-widgets/base",
      "model_module_version": "2.0.0",
      "model_name": "LayoutModel",
      "state": {}
     },
     "30888d1f160e44489f954560793cafeb": {
      "model_module": "@jupyter-widgets/controls",
      "model_module_version": "2.0.0",
      "model_name": "HTMLStyleModel",
      "state": {
       "description_width": "",
       "font_size": null,
       "text_color": null
      }
     },
     "30b28a07c10f4ab4b9f55113c9d53e5a": {
      "model_module": "@jupyter-widgets/controls",
      "model_module_version": "2.0.0",
      "model_name": "HTMLStyleModel",
      "state": {
       "description_width": "",
       "font_size": null,
       "text_color": null
      }
     },
     "30c5d695a8334d938b2bc90aafc45848": {
      "model_module": "@jupyter-widgets/controls",
      "model_module_version": "2.0.0",
      "model_name": "HBoxModel",
      "state": {
       "children": [
        "IPY_MODEL_a07a5435eab14c9392d66aa69df41f93",
        "IPY_MODEL_4eb6ef4a778e4dd1ad1791df02663e83",
        "IPY_MODEL_2b9de5bd50934331b8b116b6de2d7973"
       ],
       "layout": "IPY_MODEL_85add65216824667a4978e9e7f9671de"
      }
     },
     "30d1f03de7c7455b8d6b32465a3974f7": {
      "model_module": "@jupyter-widgets/base",
      "model_module_version": "2.0.0",
      "model_name": "LayoutModel",
      "state": {}
     },
     "314bc8f03f214c32ae3607a78949c0c5": {
      "model_module": "@jupyter-widgets/base",
      "model_module_version": "2.0.0",
      "model_name": "LayoutModel",
      "state": {}
     },
     "3157ef038dbd4b8bbdd1f7da45e14c7c": {
      "model_module": "@jupyter-widgets/controls",
      "model_module_version": "2.0.0",
      "model_name": "HTMLModel",
      "state": {
       "layout": "IPY_MODEL_6e7a89038d4544af9ccf8ef72f6bdcf0",
       "style": "IPY_MODEL_d64f421965f24ef0927a6fca04bcbe27",
       "value": " 118/118 [00:29&lt;00:00,  3.30it/s]"
      }
     },
     "31725ad78c8b491db7c4076609fa4165": {
      "model_module": "@jupyter-widgets/controls",
      "model_module_version": "2.0.0",
      "model_name": "HTMLStyleModel",
      "state": {
       "description_width": "",
       "font_size": null,
       "text_color": null
      }
     },
     "319a68cf1abd4fa0893738fff3617d34": {
      "model_module": "@jupyter-widgets/base",
      "model_module_version": "2.0.0",
      "model_name": "LayoutModel",
      "state": {}
     },
     "31b89231d8aa46d7a4c3cc4033036d8e": {
      "model_module": "@jupyter-widgets/base",
      "model_module_version": "2.0.0",
      "model_name": "LayoutModel",
      "state": {}
     },
     "321bf04df5c5428b949ac43e1fad6650": {
      "model_module": "@jupyter-widgets/base",
      "model_module_version": "2.0.0",
      "model_name": "LayoutModel",
      "state": {}
     },
     "32260ca84c214c8dad882ca442d50bba": {
      "model_module": "@jupyter-widgets/controls",
      "model_module_version": "2.0.0",
      "model_name": "HBoxModel",
      "state": {
       "children": [
        "IPY_MODEL_2dde58a070e641cdb7be32b5ea046996",
        "IPY_MODEL_5047c2113bd54052a787c33048a217b7",
        "IPY_MODEL_c614b14db3074951b85a21b53b42ab9c"
       ],
       "layout": "IPY_MODEL_c63ecbfe338b4dc59ae8754279922eba"
      }
     },
     "322fd4a42f8b45d38ac9d5c91775efc8": {
      "model_module": "@jupyter-widgets/controls",
      "model_module_version": "2.0.0",
      "model_name": "HTMLModel",
      "state": {
       "layout": "IPY_MODEL_52b0751ccaaf4df1bc7402a0f9f53b10",
       "style": "IPY_MODEL_6afd54ca0d3241ccbad6f6c627ba97b7",
       "value": " 618/618 [00:15&lt;00:00, 39.20it/s]"
      }
     },
     "3239bdee8a244337a647037023ce5f65": {
      "model_module": "@jupyter-widgets/controls",
      "model_module_version": "2.0.0",
      "model_name": "HTMLModel",
      "state": {
       "layout": "IPY_MODEL_b1ae751047014ca8a1184acfd3e4ca97",
       "style": "IPY_MODEL_f6a3be76774642798f52e8f1a0f8e627",
       "value": "100%"
      }
     },
     "3270ddd7bdf34606ab8027dae55b7794": {
      "model_module": "@jupyter-widgets/controls",
      "model_module_version": "2.0.0",
      "model_name": "ProgressStyleModel",
      "state": {
       "description_width": ""
      }
     },
     "32757a0f4df54e208ab8b2579c582804": {
      "model_module": "@jupyter-widgets/controls",
      "model_module_version": "2.0.0",
      "model_name": "HTMLStyleModel",
      "state": {
       "description_width": "",
       "font_size": null,
       "text_color": null
      }
     },
     "328c04b7c32c4d418302643d0dad1bb1": {
      "model_module": "@jupyter-widgets/base",
      "model_module_version": "2.0.0",
      "model_name": "LayoutModel",
      "state": {}
     },
     "32bf550e5c24453ca65014b3cd90501c": {
      "model_module": "@jupyter-widgets/controls",
      "model_module_version": "2.0.0",
      "model_name": "HTMLModel",
      "state": {
       "layout": "IPY_MODEL_7e29424b38d34ac4af25ef3e26e5fbc9",
       "style": "IPY_MODEL_e04f0b729125432ab28f3743407ffdb1",
       "value": " 405/405 [00:09&lt;00:00, 43.60it/s]"
      }
     },
     "32df22415d2e412d8f65a124524442dd": {
      "model_module": "@jupyter-widgets/controls",
      "model_module_version": "2.0.0",
      "model_name": "HBoxModel",
      "state": {
       "children": [
        "IPY_MODEL_d73c1ef255c3478e83c2b9ae72d7a414",
        "IPY_MODEL_678f4f41817d4b48a0a627f41dea775c",
        "IPY_MODEL_70502ce03b4d4a78ad605a9fab2bd8e3"
       ],
       "layout": "IPY_MODEL_e92a560cdd5e47e4bf57818dcd034c17"
      }
     },
     "3349e5b01f014f6693f1a9f06dd0f368": {
      "model_module": "@jupyter-widgets/base",
      "model_module_version": "2.0.0",
      "model_name": "LayoutModel",
      "state": {}
     },
     "335989544ff94b81b109e4ed6fb3a990": {
      "model_module": "@jupyter-widgets/controls",
      "model_module_version": "2.0.0",
      "model_name": "FloatProgressModel",
      "state": {
       "bar_style": "success",
       "layout": "IPY_MODEL_3349e5b01f014f6693f1a9f06dd0f368",
       "max": 650,
       "style": "IPY_MODEL_0ded6cb0f2d44c4695940b0ac6266b62",
       "value": 650
      }
     },
     "336206df58e8457bb79e3db5870aa303": {
      "model_module": "@jupyter-widgets/controls",
      "model_module_version": "2.0.0",
      "model_name": "FloatProgressModel",
      "state": {
       "bar_style": "success",
       "layout": "IPY_MODEL_de8d3cf55fd24d969b087d967ea10c09",
       "max": 690,
       "style": "IPY_MODEL_2562c30705664f8e87c8eb05862b4dc3",
       "value": 690
      }
     },
     "33886faa4d084f9199d9e5291cb831bf": {
      "model_module": "@jupyter-widgets/controls",
      "model_module_version": "2.0.0",
      "model_name": "HTMLStyleModel",
      "state": {
       "description_width": "",
       "font_size": null,
       "text_color": null
      }
     },
     "33e201ba89c54a9fa14f47ef9f3af1ee": {
      "model_module": "@jupyter-widgets/controls",
      "model_module_version": "2.0.0",
      "model_name": "HBoxModel",
      "state": {
       "children": [
        "IPY_MODEL_09f93bdfc8ec4c23a541cbcc1c84903b",
        "IPY_MODEL_04341040b54b4438a412e1c348701269",
        "IPY_MODEL_404d3577b650483f84879af04fab6e9f"
       ],
       "layout": "IPY_MODEL_9e2a521579f944dea24d95feb836d33b"
      }
     },
     "33f50e256a5147b8b1e6275f747a526f": {
      "model_module": "@jupyter-widgets/controls",
      "model_module_version": "2.0.0",
      "model_name": "HTMLModel",
      "state": {
       "layout": "IPY_MODEL_fd0e1d2f1cdd4cbab9532ce8ed8d756e",
       "style": "IPY_MODEL_d09e16b502934f388556962250fabc2b",
       "value": "100%"
      }
     },
     "33fdd49af91f4b8d9fe2935f0f69ff60": {
      "model_module": "@jupyter-widgets/controls",
      "model_module_version": "2.0.0",
      "model_name": "HTMLModel",
      "state": {
       "layout": "IPY_MODEL_4cae02ce46ea46d88a6e09bc3ca584c1",
       "style": "IPY_MODEL_41294c05ac0c4f1db8f5f6d93b5ae459",
       "value": " 401/401 [00:08&lt;00:00, 45.82it/s]"
      }
     },
     "341fbf8a741d4e34a3349c310124371e": {
      "model_module": "@jupyter-widgets/base",
      "model_module_version": "2.0.0",
      "model_name": "LayoutModel",
      "state": {}
     },
     "344171143ba54a9fb3999b74900cacde": {
      "model_module": "@jupyter-widgets/controls",
      "model_module_version": "2.0.0",
      "model_name": "HTMLModel",
      "state": {
       "layout": "IPY_MODEL_cad87160279f4b7a8bec27aef6e7d4b6",
       "style": "IPY_MODEL_873635a394b749788b1fe6e6ecad1471",
       "value": "100%"
      }
     },
     "3480954042c54cfaa14639051e927a2e": {
      "model_module": "@jupyter-widgets/controls",
      "model_module_version": "2.0.0",
      "model_name": "HBoxModel",
      "state": {
       "children": [
        "IPY_MODEL_dd788e15c15e47cbac950de1b3d2e0f7",
        "IPY_MODEL_e6befd6461c74d3189c765346e84367b",
        "IPY_MODEL_2f9d316be1d74dcc97325f6f3f4f5f75"
       ],
       "layout": "IPY_MODEL_228c8d2396cc49e29df1994d9ae1b017"
      }
     },
     "3490ab9af97e4bc29bf22a140f024660": {
      "model_module": "@jupyter-widgets/controls",
      "model_module_version": "2.0.0",
      "model_name": "HTMLStyleModel",
      "state": {
       "description_width": "",
       "font_size": null,
       "text_color": null
      }
     },
     "3496f297dd03432dbe2f9ae86c0e66a0": {
      "model_module": "@jupyter-widgets/base",
      "model_module_version": "2.0.0",
      "model_name": "LayoutModel",
      "state": {}
     },
     "34e32f074040437c84d87b33b426b19e": {
      "model_module": "@jupyter-widgets/base",
      "model_module_version": "2.0.0",
      "model_name": "LayoutModel",
      "state": {}
     },
     "34ec3859e36f4e1dae9c49a3c1b2fdc8": {
      "model_module": "@jupyter-widgets/base",
      "model_module_version": "2.0.0",
      "model_name": "LayoutModel",
      "state": {}
     },
     "34fc3cbd75ce469e9826693f1f2c49d4": {
      "model_module": "@jupyter-widgets/controls",
      "model_module_version": "2.0.0",
      "model_name": "FloatProgressModel",
      "state": {
       "bar_style": "success",
       "layout": "IPY_MODEL_f712e8ce6eaf4256947aa1f7a430ed2b",
       "max": 401,
       "style": "IPY_MODEL_09102104fa414c1584fae3b631e78666",
       "value": 401
      }
     },
     "3504e2b959b64fb79c9f059437b79970": {
      "model_module": "@jupyter-widgets/base",
      "model_module_version": "2.0.0",
      "model_name": "LayoutModel",
      "state": {}
     },
     "352966b57779479e80edebd50863f1fc": {
      "model_module": "@jupyter-widgets/base",
      "model_module_version": "2.0.0",
      "model_name": "LayoutModel",
      "state": {}
     },
     "35496898b2154ff0afcff07c95fadc18": {
      "model_module": "@jupyter-widgets/base",
      "model_module_version": "2.0.0",
      "model_name": "LayoutModel",
      "state": {}
     },
     "35ca9abfd6c14f45960a29be4f2169f6": {
      "model_module": "@jupyter-widgets/base",
      "model_module_version": "2.0.0",
      "model_name": "LayoutModel",
      "state": {}
     },
     "35ee6ef8d79044508bf9a152ca648723": {
      "model_module": "@jupyter-widgets/controls",
      "model_module_version": "2.0.0",
      "model_name": "HTMLModel",
      "state": {
       "layout": "IPY_MODEL_e4c0b74a409746e4b51ee877640a6d9b",
       "style": "IPY_MODEL_43a46f9ae6bf446388b45a6210b8e0aa",
       "value": "100%"
      }
     },
     "35ef655ff6904521b09071c9540789e4": {
      "model_module": "@jupyter-widgets/controls",
      "model_module_version": "2.0.0",
      "model_name": "HTMLStyleModel",
      "state": {
       "description_width": "",
       "font_size": null,
       "text_color": null
      }
     },
     "3622e7df0a4c40fa8630b9bca0456edd": {
      "model_module": "@jupyter-widgets/controls",
      "model_module_version": "2.0.0",
      "model_name": "HTMLStyleModel",
      "state": {
       "description_width": "",
       "font_size": null,
       "text_color": null
      }
     },
     "3656368459e04e7f835d5279c56a86b1": {
      "model_module": "@jupyter-widgets/controls",
      "model_module_version": "2.0.0",
      "model_name": "HBoxModel",
      "state": {
       "children": [
        "IPY_MODEL_a92fa60df5a74b728263ed7f1f939b22",
        "IPY_MODEL_aff13b17e0d9455ebf6c375a4f217ed2",
        "IPY_MODEL_155a2c2c8c2e43788dd148b198bef9fa"
       ],
       "layout": "IPY_MODEL_598b6a24bf3845f7a6f2dcaf1e40bb50"
      }
     },
     "365774a0144748dfa3a8ff9281777338": {
      "model_module": "@jupyter-widgets/controls",
      "model_module_version": "2.0.0",
      "model_name": "HTMLStyleModel",
      "state": {
       "description_width": "",
       "font_size": null,
       "text_color": null
      }
     },
     "367b9608da0843d8ae4331e62a0d3c3b": {
      "model_module": "@jupyter-widgets/base",
      "model_module_version": "2.0.0",
      "model_name": "LayoutModel",
      "state": {}
     },
     "3687379d7f5c48239ddf6bec64fc046e": {
      "model_module": "@jupyter-widgets/controls",
      "model_module_version": "2.0.0",
      "model_name": "HTMLStyleModel",
      "state": {
       "description_width": "",
       "font_size": null,
       "text_color": null
      }
     },
     "36a1cdcc97974029acf7f4c8deb5645d": {
      "model_module": "@jupyter-widgets/controls",
      "model_module_version": "2.0.0",
      "model_name": "HTMLStyleModel",
      "state": {
       "description_width": "",
       "font_size": null,
       "text_color": null
      }
     },
     "3709ccac242b4aa496bcd86e82913d9f": {
      "model_module": "@jupyter-widgets/base",
      "model_module_version": "2.0.0",
      "model_name": "LayoutModel",
      "state": {}
     },
     "370a315d72aa4804bc80b4fabab24443": {
      "model_module": "@jupyter-widgets/base",
      "model_module_version": "2.0.0",
      "model_name": "LayoutModel",
      "state": {}
     },
     "3727efc894d84278a2a7abc8a5ae07ec": {
      "model_module": "@jupyter-widgets/controls",
      "model_module_version": "2.0.0",
      "model_name": "ProgressStyleModel",
      "state": {
       "description_width": ""
      }
     },
     "37509621c53c4d41b91ee8a4599e6304": {
      "model_module": "@jupyter-widgets/base",
      "model_module_version": "2.0.0",
      "model_name": "LayoutModel",
      "state": {}
     },
     "37525622f2324eaeb2a181bb54ed4add": {
      "model_module": "@jupyter-widgets/controls",
      "model_module_version": "2.0.0",
      "model_name": "HTMLModel",
      "state": {
       "layout": "IPY_MODEL_7d0af23edd624df191a611471b85b5b0",
       "style": "IPY_MODEL_4d5b62e262f44a20aec670abb8e5b170",
       "value": " 637/637 [00:14&lt;00:00, 44.89it/s]"
      }
     },
     "376c0b0dde3448679f037066a41c8e68": {
      "model_module": "@jupyter-widgets/controls",
      "model_module_version": "2.0.0",
      "model_name": "FloatProgressModel",
      "state": {
       "bar_style": "success",
       "layout": "IPY_MODEL_1952ac3af5ab4639ad52da2e85b80720",
       "max": 468,
       "style": "IPY_MODEL_d19c574af5dc4f8c801275f6e19e583c",
       "value": 468
      }
     },
     "37812fa907744861a1540588da19cb3a": {
      "model_module": "@jupyter-widgets/controls",
      "model_module_version": "2.0.0",
      "model_name": "HBoxModel",
      "state": {
       "children": [
        "IPY_MODEL_aa96dfe9d37e40a0a26d561937cf291c",
        "IPY_MODEL_58ab8994406f406d91360569d213fabc",
        "IPY_MODEL_498acbe7bdd042ba916841c46bcce52a"
       ],
       "layout": "IPY_MODEL_39b8ba24a02e4a7bb497f29fcc04ee98"
      }
     },
     "37c6b4c333f4443f9461974ffc079cd8": {
      "model_module": "@jupyter-widgets/controls",
      "model_module_version": "2.0.0",
      "model_name": "HTMLStyleModel",
      "state": {
       "description_width": "",
       "font_size": null,
       "text_color": null
      }
     },
     "37d078a938d242658c17abec46775841": {
      "model_module": "@jupyter-widgets/controls",
      "model_module_version": "2.0.0",
      "model_name": "HTMLModel",
      "state": {
       "layout": "IPY_MODEL_0dec797e7f9449b0b76b172b7a826107",
       "style": "IPY_MODEL_9a414d5be459453c917ab2fc5a736434",
       "value": "100%"
      }
     },
     "380496fd9ca14d2ba9fe388b00c06989": {
      "model_module": "@jupyter-widgets/controls",
      "model_module_version": "2.0.0",
      "model_name": "HTMLStyleModel",
      "state": {
       "description_width": "",
       "font_size": null,
       "text_color": null
      }
     },
     "381d9e2664f8468e960e40eea0459b17": {
      "model_module": "@jupyter-widgets/base",
      "model_module_version": "2.0.0",
      "model_name": "LayoutModel",
      "state": {}
     },
     "3832a6e8fad745449ff1fc37574afed8": {
      "model_module": "@jupyter-widgets/controls",
      "model_module_version": "2.0.0",
      "model_name": "HTMLModel",
      "state": {
       "layout": "IPY_MODEL_370a315d72aa4804bc80b4fabab24443",
       "style": "IPY_MODEL_2b6476632fcf47f5b4a0a3ea499ffc75",
       "value": " 492/492 [00:11&lt;00:00, 45.23it/s]"
      }
     },
     "383946f26cb9499b81b14fcf96e89550": {
      "model_module": "@jupyter-widgets/controls",
      "model_module_version": "2.0.0",
      "model_name": "HTMLModel",
      "state": {
       "layout": "IPY_MODEL_994022adcdaf47b2b6af0f81a9d43716",
       "style": "IPY_MODEL_6045f4eb5aad4067bef8752c32bb67cf",
       "value": "100%"
      }
     },
     "38642f6547454c6cb41d2eec3925625f": {
      "model_module": "@jupyter-widgets/controls",
      "model_module_version": "2.0.0",
      "model_name": "HTMLModel",
      "state": {
       "layout": "IPY_MODEL_a776fcc9af94454eaf53ca810e21ca75",
       "style": "IPY_MODEL_d73abe938d4a4866a3f834dca02f7b65",
       "value": "100%"
      }
     },
     "3874abc501fb422e8d600ce557e93122": {
      "model_module": "@jupyter-widgets/base",
      "model_module_version": "2.0.0",
      "model_name": "LayoutModel",
      "state": {}
     },
     "388e8c229a8548108b7f0c4d82fe0737": {
      "model_module": "@jupyter-widgets/controls",
      "model_module_version": "2.0.0",
      "model_name": "FloatProgressModel",
      "state": {
       "bar_style": "success",
       "layout": "IPY_MODEL_88a01c06ceaf44359ea44e3bc5133cbd",
       "max": 118,
       "style": "IPY_MODEL_db2674b688864f4ba39486fe6ea6f475",
       "value": 118
      }
     },
     "38ddeabda9cd45e9934a833c45787e8e": {
      "model_module": "@jupyter-widgets/controls",
      "model_module_version": "2.0.0",
      "model_name": "HTMLModel",
      "state": {
       "layout": "IPY_MODEL_2579c6632b85419b82bdc5e0b6f773d3",
       "style": "IPY_MODEL_3687379d7f5c48239ddf6bec64fc046e",
       "value": " 587/587 [00:13&lt;00:00, 45.34it/s]"
      }
     },
     "38f5f62a56d14862827f88f77a5fa994": {
      "model_module": "@jupyter-widgets/base",
      "model_module_version": "2.0.0",
      "model_name": "LayoutModel",
      "state": {}
     },
     "390956fb9e29466cb7a82a5c1c361bb8": {
      "model_module": "@jupyter-widgets/base",
      "model_module_version": "2.0.0",
      "model_name": "LayoutModel",
      "state": {}
     },
     "3912d14bbe1946f0a95d5d4e1e05320e": {
      "model_module": "@jupyter-widgets/base",
      "model_module_version": "2.0.0",
      "model_name": "LayoutModel",
      "state": {}
     },
     "3921ccdab7e7434c8fc25dacaa18095c": {
      "model_module": "@jupyter-widgets/controls",
      "model_module_version": "2.0.0",
      "model_name": "FloatProgressModel",
      "state": {
       "bar_style": "success",
       "layout": "IPY_MODEL_189c84defcaf4310b278cd6f84bbe108",
       "max": 474,
       "style": "IPY_MODEL_afb6acda331c410898188666447fa26c",
       "value": 474
      }
     },
     "39306c0e8d1c43808e88dce0606ef5ad": {
      "model_module": "@jupyter-widgets/base",
      "model_module_version": "2.0.0",
      "model_name": "LayoutModel",
      "state": {}
     },
     "393883b0ae2a44c58811a27338a87804": {
      "model_module": "@jupyter-widgets/controls",
      "model_module_version": "2.0.0",
      "model_name": "HTMLStyleModel",
      "state": {
       "description_width": "",
       "font_size": null,
       "text_color": null
      }
     },
     "398a9bfdf33143009e6be71db1e1d3b2": {
      "model_module": "@jupyter-widgets/controls",
      "model_module_version": "2.0.0",
      "model_name": "HTMLStyleModel",
      "state": {
       "description_width": "",
       "font_size": null,
       "text_color": null
      }
     },
     "39b6b990c8b44375a07506b3cbcb1697": {
      "model_module": "@jupyter-widgets/controls",
      "model_module_version": "2.0.0",
      "model_name": "HTMLModel",
      "state": {
       "layout": "IPY_MODEL_314bc8f03f214c32ae3607a78949c0c5",
       "style": "IPY_MODEL_113319991efc4f06a737ebd59832b73e",
       "value": "100%"
      }
     },
     "39b8ba24a02e4a7bb497f29fcc04ee98": {
      "model_module": "@jupyter-widgets/base",
      "model_module_version": "2.0.0",
      "model_name": "LayoutModel",
      "state": {}
     },
     "3a3195946ff04c72b7dd6ece4290f6e1": {
      "model_module": "@jupyter-widgets/base",
      "model_module_version": "2.0.0",
      "model_name": "LayoutModel",
      "state": {}
     },
     "3a4416ba6a924143a28e9741dbaddc88": {
      "model_module": "@jupyter-widgets/base",
      "model_module_version": "2.0.0",
      "model_name": "LayoutModel",
      "state": {}
     },
     "3a52ec61e52c4f968d6683d6739b8289": {
      "model_module": "@jupyter-widgets/base",
      "model_module_version": "2.0.0",
      "model_name": "LayoutModel",
      "state": {}
     },
     "3a7f014273eb4f63b378fdf8efc8f36c": {
      "model_module": "@jupyter-widgets/controls",
      "model_module_version": "2.0.0",
      "model_name": "HTMLStyleModel",
      "state": {
       "description_width": "",
       "font_size": null,
       "text_color": null
      }
     },
     "3a86fb90dcee4bfd9573e4818f2a48f7": {
      "model_module": "@jupyter-widgets/controls",
      "model_module_version": "2.0.0",
      "model_name": "FloatProgressModel",
      "state": {
       "bar_style": "danger",
       "layout": "IPY_MODEL_efb3cf56ca3c422aa3bcabcd00dd7c0b",
       "max": 118,
       "style": "IPY_MODEL_d855e1319bcd4c979ca10c877c154622"
      }
     },
     "3a9474da16b743a4bd11edaabca28fe3": {
      "model_module": "@jupyter-widgets/base",
      "model_module_version": "2.0.0",
      "model_name": "LayoutModel",
      "state": {}
     },
     "3ac60541024d4d55b9cb63c3fc925dce": {
      "model_module": "@jupyter-widgets/controls",
      "model_module_version": "2.0.0",
      "model_name": "HTMLStyleModel",
      "state": {
       "description_width": "",
       "font_size": null,
       "text_color": null
      }
     },
     "3af45527edbf4e37b1bfa4f2450aaf57": {
      "model_module": "@jupyter-widgets/base",
      "model_module_version": "2.0.0",
      "model_name": "LayoutModel",
      "state": {}
     },
     "3afe6305810840fd95ae62f2949bad14": {
      "model_module": "@jupyter-widgets/base",
      "model_module_version": "2.0.0",
      "model_name": "LayoutModel",
      "state": {}
     },
     "3b24fcda02e2467c8f1b75ccddbabcc0": {
      "model_module": "@jupyter-widgets/controls",
      "model_module_version": "2.0.0",
      "model_name": "HTMLModel",
      "state": {
       "layout": "IPY_MODEL_28658a675e3c42d6b7a9e0c6243b16c1",
       "style": "IPY_MODEL_8b06aeeb7200409f8b0374efab9e5376",
       "value": " 582/582 [00:12&lt;00:00, 45.10it/s]"
      }
     },
     "3b3b567cd0b94136a7264de61c4ffc15": {
      "model_module": "@jupyter-widgets/controls",
      "model_module_version": "2.0.0",
      "model_name": "HTMLModel",
      "state": {
       "layout": "IPY_MODEL_252c88c7b176406a86aef5a155ff3f0a",
       "style": "IPY_MODEL_aa36599f397e4e948bf0f7cb3cd116ac",
       "value": "100%"
      }
     },
     "3bba3b6c8fe94f17bdeb8b1107cdcf81": {
      "model_module": "@jupyter-widgets/controls",
      "model_module_version": "2.0.0",
      "model_name": "ProgressStyleModel",
      "state": {
       "description_width": ""
      }
     },
     "3bbb47b8b9894d9b9144389635921dd9": {
      "model_module": "@jupyter-widgets/controls",
      "model_module_version": "2.0.0",
      "model_name": "HTMLModel",
      "state": {
       "layout": "IPY_MODEL_fbce76e202b94bc9b60ecb4c32114bba",
       "style": "IPY_MODEL_b5bbdb3e317b4778a09f9b31c928bcdc",
       "value": " 693/693 [00:15&lt;00:00, 45.34it/s]"
      }
     },
     "3c695d6539bf416a901abc65376894e7": {
      "model_module": "@jupyter-widgets/base",
      "model_module_version": "2.0.0",
      "model_name": "LayoutModel",
      "state": {}
     },
     "3c872733f7c343d4b5fa4e5f389ed574": {
      "model_module": "@jupyter-widgets/base",
      "model_module_version": "2.0.0",
      "model_name": "LayoutModel",
      "state": {}
     },
     "3c8bfcbcc38a49dbbe9ce079a6b7fc05": {
      "model_module": "@jupyter-widgets/controls",
      "model_module_version": "2.0.0",
      "model_name": "HTMLStyleModel",
      "state": {
       "description_width": "",
       "font_size": null,
       "text_color": null
      }
     },
     "3c95f0d3aaba4781a3326736be9719c4": {
      "model_module": "@jupyter-widgets/base",
      "model_module_version": "2.0.0",
      "model_name": "LayoutModel",
      "state": {}
     },
     "3d4c7ec2a33d4597bf37d4b9c01ccec0": {
      "model_module": "@jupyter-widgets/base",
      "model_module_version": "2.0.0",
      "model_name": "LayoutModel",
      "state": {}
     },
     "3d79890958854b82a8f19d95e5cc8975": {
      "model_module": "@jupyter-widgets/base",
      "model_module_version": "2.0.0",
      "model_name": "LayoutModel",
      "state": {}
     },
     "3d80c3ed990549708138aa171aaaa43c": {
      "model_module": "@jupyter-widgets/controls",
      "model_module_version": "2.0.0",
      "model_name": "HTMLStyleModel",
      "state": {
       "description_width": "",
       "font_size": null,
       "text_color": null
      }
     },
     "3dc04997d1764198b95770a38c0d5122": {
      "model_module": "@jupyter-widgets/controls",
      "model_module_version": "2.0.0",
      "model_name": "FloatProgressModel",
      "state": {
       "bar_style": "success",
       "layout": "IPY_MODEL_0cee0074e36d46c6b2fdb97ea658be71",
       "max": 640,
       "style": "IPY_MODEL_fdb06dd8950d4901858fc5c397527df5",
       "value": 640
      }
     },
     "3dc1b498f63746be8ed36e7a119c031c": {
      "model_module": "@jupyter-widgets/controls",
      "model_module_version": "2.0.0",
      "model_name": "HTMLModel",
      "state": {
       "layout": "IPY_MODEL_f9bd5141cde54394b6772c60887af497",
       "style": "IPY_MODEL_4c8b25d651c44f4b907c505aefedc18f",
       "value": " 636/636 [00:17&lt;00:00, 37.62it/s]"
      }
     },
     "3e6439409c784689aa0343f5150183f6": {
      "model_module": "@jupyter-widgets/controls",
      "model_module_version": "2.0.0",
      "model_name": "HTMLStyleModel",
      "state": {
       "description_width": "",
       "font_size": null,
       "text_color": null
      }
     },
     "3f34d60698c04610ad429d16d5b3dbd5": {
      "model_module": "@jupyter-widgets/controls",
      "model_module_version": "2.0.0",
      "model_name": "ProgressStyleModel",
      "state": {
       "description_width": ""
      }
     },
     "3f53261f314a4f45b8f6824437b249d3": {
      "model_module": "@jupyter-widgets/controls",
      "model_module_version": "2.0.0",
      "model_name": "HTMLStyleModel",
      "state": {
       "description_width": "",
       "font_size": null,
       "text_color": null
      }
     },
     "3f54db0f2f154920ae60603e20af3a38": {
      "model_module": "@jupyter-widgets/controls",
      "model_module_version": "2.0.0",
      "model_name": "HBoxModel",
      "state": {
       "children": [
        "IPY_MODEL_fbf0a9521f15416ba65b413962154f9e",
        "IPY_MODEL_14ffeb47aade41a7be46fedcc30bc08e",
        "IPY_MODEL_3dc1b498f63746be8ed36e7a119c031c"
       ],
       "layout": "IPY_MODEL_9ecff5840c47450faabd99390f229656"
      }
     },
     "3fe0892a74ac4931b9d5a2875d0a8071": {
      "model_module": "@jupyter-widgets/controls",
      "model_module_version": "2.0.0",
      "model_name": "ProgressStyleModel",
      "state": {
       "description_width": ""
      }
     },
     "40100edf8ce14c1097a85becfaedfc21": {
      "model_module": "@jupyter-widgets/controls",
      "model_module_version": "2.0.0",
      "model_name": "HTMLModel",
      "state": {
       "layout": "IPY_MODEL_9abef1a3e30641158bde32879fb81401",
       "style": "IPY_MODEL_c52763867fdb4c29b6d8ef740961376e",
       "value": " 475/475 [00:10&lt;00:00, 44.75it/s]"
      }
     },
     "404d3577b650483f84879af04fab6e9f": {
      "model_module": "@jupyter-widgets/controls",
      "model_module_version": "2.0.0",
      "model_name": "HTMLModel",
      "state": {
       "layout": "IPY_MODEL_858a66e1487d4819aedd80b4a39d68c0",
       "style": "IPY_MODEL_911a3084415446b09c45295e7f8b6da7",
       "value": " 582/582 [00:12&lt;00:00, 47.35it/s]"
      }
     },
     "40702bbca4554962986cd4300ee8f9bc": {
      "model_module": "@jupyter-widgets/base",
      "model_module_version": "2.0.0",
      "model_name": "LayoutModel",
      "state": {}
     },
     "40892bdc28074de59f7fec6c51f6a8bc": {
      "model_module": "@jupyter-widgets/base",
      "model_module_version": "2.0.0",
      "model_name": "LayoutModel",
      "state": {}
     },
     "40c64d34cec34cb4b2d7df3f8ee34c07": {
      "model_module": "@jupyter-widgets/controls",
      "model_module_version": "2.0.0",
      "model_name": "HBoxModel",
      "state": {
       "children": [
        "IPY_MODEL_84336b99caa24f01a4c572d738ac924a",
        "IPY_MODEL_ba1a02193c5f4522b254ca5f38caa56d",
        "IPY_MODEL_4e173b70dbc34fe8918649e74e3eee71"
       ],
       "layout": "IPY_MODEL_bf6308215639423991102802a97a1f80"
      }
     },
     "40e49e14f49549eea9e216e55b88aa5f": {
      "model_module": "@jupyter-widgets/controls",
      "model_module_version": "2.0.0",
      "model_name": "HTMLStyleModel",
      "state": {
       "description_width": "",
       "font_size": null,
       "text_color": null
      }
     },
     "4105e76f7be34f6a9163006073dfd45e": {
      "model_module": "@jupyter-widgets/controls",
      "model_module_version": "2.0.0",
      "model_name": "HTMLModel",
      "state": {
       "layout": "IPY_MODEL_798fcb1acb4b49dab1de2ee76ab3da49",
       "style": "IPY_MODEL_6f84103439724878a526604d268080a2",
       "value": " 628/628 [00:14&lt;00:00, 44.42it/s]"
      }
     },
     "410693420f6443a4a678b36a9dc556ef": {
      "model_module": "@jupyter-widgets/base",
      "model_module_version": "2.0.0",
      "model_name": "LayoutModel",
      "state": {}
     },
     "4107eb2b5bc14ab48f2039d06c928b55": {
      "model_module": "@jupyter-widgets/base",
      "model_module_version": "2.0.0",
      "model_name": "LayoutModel",
      "state": {}
     },
     "4124c81c5a164dee9e4dc97c5658d52f": {
      "model_module": "@jupyter-widgets/controls",
      "model_module_version": "2.0.0",
      "model_name": "HTMLModel",
      "state": {
       "layout": "IPY_MODEL_4c61f58de52749b783abdaf8336dfffa",
       "style": "IPY_MODEL_dbd2574f69ce4a0487a7a28a11cc8904",
       "value": " 118/118 [00:39&lt;00:00,  3.25it/s]"
      }
     },
     "41294c05ac0c4f1db8f5f6d93b5ae459": {
      "model_module": "@jupyter-widgets/controls",
      "model_module_version": "2.0.0",
      "model_name": "HTMLStyleModel",
      "state": {
       "description_width": "",
       "font_size": null,
       "text_color": null
      }
     },
     "412be44e7dcd48c1abfdc8fb3fdf56c4": {
      "model_module": "@jupyter-widgets/base",
      "model_module_version": "2.0.0",
      "model_name": "LayoutModel",
      "state": {}
     },
     "41409a34e13e496b87ea37d5b7a85a84": {
      "model_module": "@jupyter-widgets/controls",
      "model_module_version": "2.0.0",
      "model_name": "FloatProgressModel",
      "state": {
       "bar_style": "success",
       "layout": "IPY_MODEL_e8236c01066c4249978e927fc26800f3",
       "max": 344,
       "style": "IPY_MODEL_3bba3b6c8fe94f17bdeb8b1107cdcf81",
       "value": 344
      }
     },
     "41b970e525dc454e82b2fc15bdb59aec": {
      "model_module": "@jupyter-widgets/controls",
      "model_module_version": "2.0.0",
      "model_name": "HTMLModel",
      "state": {
       "layout": "IPY_MODEL_6fae26a6620e482d8330c55981c382a9",
       "style": "IPY_MODEL_2d697b39e9824d3592597f1091561152",
       "value": " 0/118 [00:00&lt;?, ?it/s]"
      }
     },
     "41ca5fa9a9034afca784e2b98667759b": {
      "model_module": "@jupyter-widgets/controls",
      "model_module_version": "2.0.0",
      "model_name": "HTMLStyleModel",
      "state": {
       "description_width": "",
       "font_size": null,
       "text_color": null
      }
     },
     "421fcce8471c4499a9a2e8b41d38d102": {
      "model_module": "@jupyter-widgets/controls",
      "model_module_version": "2.0.0",
      "model_name": "HBoxModel",
      "state": {
       "children": [
        "IPY_MODEL_92f6e04036b643fb9d340cbf49dcf424",
        "IPY_MODEL_f020fc01b66647cb80b62fb432b5fdb2",
        "IPY_MODEL_79d1a3f30b624a5b999bdc28aa6743a0"
       ],
       "layout": "IPY_MODEL_e8c4112b124746e5985cd1921797b36f"
      }
     },
     "42399a71cf6d402bb6fd44ca3f3ed3c8": {
      "model_module": "@jupyter-widgets/controls",
      "model_module_version": "2.0.0",
      "model_name": "HTMLModel",
      "state": {
       "layout": "IPY_MODEL_25939a2be2a3492da750ff6c60ec75e2",
       "style": "IPY_MODEL_625d749f62df413aa08894161b3dcaf1",
       "value": " 640/640 [00:13&lt;00:00, 47.35it/s]"
      }
     },
     "427dc832e7b043e2aed83a75a253a69c": {
      "model_module": "@jupyter-widgets/base",
      "model_module_version": "2.0.0",
      "model_name": "LayoutModel",
      "state": {}
     },
     "42874565b652444ea616c9e099b5f89f": {
      "model_module": "@jupyter-widgets/controls",
      "model_module_version": "2.0.0",
      "model_name": "HTMLStyleModel",
      "state": {
       "description_width": "",
       "font_size": null,
       "text_color": null
      }
     },
     "429ddbfc5eb441bd94fe0d3923d0e586": {
      "model_module": "@jupyter-widgets/base",
      "model_module_version": "2.0.0",
      "model_name": "LayoutModel",
      "state": {}
     },
     "42a8db0b0afd433a93f573c8e547ef77": {
      "model_module": "@jupyter-widgets/base",
      "model_module_version": "2.0.0",
      "model_name": "LayoutModel",
      "state": {}
     },
     "42cd02832e5c4cad8bee911e8c330d54": {
      "model_module": "@jupyter-widgets/controls",
      "model_module_version": "2.0.0",
      "model_name": "HTMLStyleModel",
      "state": {
       "description_width": "",
       "font_size": null,
       "text_color": null
      }
     },
     "42d370237e1b4a7da193648b946dc30d": {
      "model_module": "@jupyter-widgets/base",
      "model_module_version": "2.0.0",
      "model_name": "LayoutModel",
      "state": {}
     },
     "43232cc7ae47419c85d87e2c7ad4e0c8": {
      "model_module": "@jupyter-widgets/base",
      "model_module_version": "2.0.0",
      "model_name": "LayoutModel",
      "state": {}
     },
     "4354659e720d4ae4962ab95267b38f1e": {
      "model_module": "@jupyter-widgets/controls",
      "model_module_version": "2.0.0",
      "model_name": "FloatProgressModel",
      "state": {
       "bar_style": "success",
       "layout": "IPY_MODEL_94ba6fd2880a41d49607b5680254ff92",
       "max": 582,
       "style": "IPY_MODEL_2ae358a80e064fa88d727e527fed3c18",
       "value": 582
      }
     },
     "4389365640af4e4cac441b3974e6bdfe": {
      "model_module": "@jupyter-widgets/controls",
      "model_module_version": "2.0.0",
      "model_name": "ProgressStyleModel",
      "state": {
       "description_width": ""
      }
     },
     "4392df82ae014deb9674defde0293c96": {
      "model_module": "@jupyter-widgets/controls",
      "model_module_version": "2.0.0",
      "model_name": "HTMLModel",
      "state": {
       "layout": "IPY_MODEL_4dbfa55c9d67440fb14a384c81426f9b",
       "style": "IPY_MODEL_8bd81a4a48774f4f97084a05257f0256",
       "value": "100%"
      }
     },
     "439d0d68eeb144e9950c285d5ed5d7eb": {
      "model_module": "@jupyter-widgets/controls",
      "model_module_version": "2.0.0",
      "model_name": "HTMLStyleModel",
      "state": {
       "description_width": "",
       "font_size": null,
       "text_color": null
      }
     },
     "43a46f9ae6bf446388b45a6210b8e0aa": {
      "model_module": "@jupyter-widgets/controls",
      "model_module_version": "2.0.0",
      "model_name": "HTMLStyleModel",
      "state": {
       "description_width": "",
       "font_size": null,
       "text_color": null
      }
     },
     "43a9a31c291b4841b7808f869b7801c2": {
      "model_module": "@jupyter-widgets/controls",
      "model_module_version": "2.0.0",
      "model_name": "HTMLStyleModel",
      "state": {
       "description_width": "",
       "font_size": null,
       "text_color": null
      }
     },
     "43c8b5602ced440cac614951221b4eb4": {
      "model_module": "@jupyter-widgets/base",
      "model_module_version": "2.0.0",
      "model_name": "LayoutModel",
      "state": {}
     },
     "43e4f24e14fb4b8f8e206e402c65bcfd": {
      "model_module": "@jupyter-widgets/base",
      "model_module_version": "2.0.0",
      "model_name": "LayoutModel",
      "state": {}
     },
     "43eef99c546a45b892d9a0e78cb97a9e": {
      "model_module": "@jupyter-widgets/base",
      "model_module_version": "2.0.0",
      "model_name": "LayoutModel",
      "state": {}
     },
     "449416e4fc4848338a928c6bab42a328": {
      "model_module": "@jupyter-widgets/controls",
      "model_module_version": "2.0.0",
      "model_name": "FloatProgressModel",
      "state": {
       "bar_style": "success",
       "layout": "IPY_MODEL_6fb9ffb423074a5c8cf94a9e901d4b9d",
       "max": 651,
       "style": "IPY_MODEL_f1d9e7f642f44660b7fed8a632d311ad",
       "value": 651
      }
     },
     "44c7946127274df7b17596df1574dca5": {
      "model_module": "@jupyter-widgets/controls",
      "model_module_version": "2.0.0",
      "model_name": "HTMLModel",
      "state": {
       "layout": "IPY_MODEL_5dd44c84630f44e4844b8252e6130b2a",
       "style": "IPY_MODEL_a2b9e87f34d5468eb70d5e3433dd495f",
       "value": " 582/582 [00:15&lt;00:00, 38.75it/s]"
      }
     },
     "44c9748804be4a31b822eb40c4a56f08": {
      "model_module": "@jupyter-widgets/base",
      "model_module_version": "2.0.0",
      "model_name": "LayoutModel",
      "state": {}
     },
     "450deb82d5324b8093df33e42d1741ee": {
      "model_module": "@jupyter-widgets/controls",
      "model_module_version": "2.0.0",
      "model_name": "HTMLStyleModel",
      "state": {
       "description_width": "",
       "font_size": null,
       "text_color": null
      }
     },
     "45271f83ab2e4c7c832f763e0cf53ee8": {
      "model_module": "@jupyter-widgets/base",
      "model_module_version": "2.0.0",
      "model_name": "LayoutModel",
      "state": {}
     },
     "454d4fa4170440f7934bd9afc6e2bcb5": {
      "model_module": "@jupyter-widgets/base",
      "model_module_version": "2.0.0",
      "model_name": "LayoutModel",
      "state": {}
     },
     "45b920c81ee742bd886250fd3e480dd9": {
      "model_module": "@jupyter-widgets/base",
      "model_module_version": "2.0.0",
      "model_name": "LayoutModel",
      "state": {}
     },
     "4607486bfaaf41828b4633d273c145a5": {
      "model_module": "@jupyter-widgets/controls",
      "model_module_version": "2.0.0",
      "model_name": "HBoxModel",
      "state": {
       "children": [
        "IPY_MODEL_c1a08bc35a144ef1a300aa1e00b5da5b",
        "IPY_MODEL_ea190cfb1cd84a1ea405086495e04d14",
        "IPY_MODEL_a136cf73bfe74765afc11cd1ca0e4bf2"
       ],
       "layout": "IPY_MODEL_5af114a229ab46358f28b38e036a6406"
      }
     },
     "4647222f7adc41a28a7dada3d3925ef1": {
      "model_module": "@jupyter-widgets/base",
      "model_module_version": "2.0.0",
      "model_name": "LayoutModel",
      "state": {}
     },
     "46d17adcb5914a6896a44cff6aa7a1e9": {
      "model_module": "@jupyter-widgets/controls",
      "model_module_version": "2.0.0",
      "model_name": "HTMLModel",
      "state": {
       "layout": "IPY_MODEL_5db5bf78aa864d6f9b8264536ef22f3e",
       "style": "IPY_MODEL_12f7f35ddb274113a69e0076b2a8e2d3",
       "value": "100%"
      }
     },
     "46e3538c038d4d7b8bb87dbe52728649": {
      "model_module": "@jupyter-widgets/controls",
      "model_module_version": "2.0.0",
      "model_name": "FloatProgressModel",
      "state": {
       "bar_style": "success",
       "layout": "IPY_MODEL_2670e9d446f94ecd83ed5afa07b34003",
       "max": 582,
       "style": "IPY_MODEL_cacab0dbfac944e185dbe0d2aaa18b44",
       "value": 582
      }
     },
     "471b2936003c4b188ef92b1ebad2b1dd": {
      "model_module": "@jupyter-widgets/base",
      "model_module_version": "2.0.0",
      "model_name": "LayoutModel",
      "state": {}
     },
     "47431a07418444489efca0d53d561133": {
      "model_module": "@jupyter-widgets/controls",
      "model_module_version": "2.0.0",
      "model_name": "ProgressStyleModel",
      "state": {
       "description_width": ""
      }
     },
     "477dac5715ac4e29973ed25e1b58059e": {
      "model_module": "@jupyter-widgets/controls",
      "model_module_version": "2.0.0",
      "model_name": "ProgressStyleModel",
      "state": {
       "description_width": ""
      }
     },
     "4781c8956e724beaac7c2465c9b456b1": {
      "model_module": "@jupyter-widgets/base",
      "model_module_version": "2.0.0",
      "model_name": "LayoutModel",
      "state": {}
     },
     "4783780347b646c58062f5a7b43f9483": {
      "model_module": "@jupyter-widgets/controls",
      "model_module_version": "2.0.0",
      "model_name": "HTMLStyleModel",
      "state": {
       "description_width": "",
       "font_size": null,
       "text_color": null
      }
     },
     "47ed3681f0944a77b939bbb90505d1e3": {
      "model_module": "@jupyter-widgets/controls",
      "model_module_version": "2.0.0",
      "model_name": "ProgressStyleModel",
      "state": {
       "description_width": ""
      }
     },
     "4828b2f2848c4852b7d9fb6dd0fbfef8": {
      "model_module": "@jupyter-widgets/controls",
      "model_module_version": "2.0.0",
      "model_name": "HBoxModel",
      "state": {
       "children": [
        "IPY_MODEL_c9d40987acd74482b2450f0be46749e6",
        "IPY_MODEL_13edef82704b49a18c0f6be496d0f866",
        "IPY_MODEL_97131ca8fd714608a53b7405a5bd9264"
       ],
       "layout": "IPY_MODEL_2b53d2a0e29e4232beb508ffd72e258c"
      }
     },
     "4834a7affd75411cbbbcee7654695354": {
      "model_module": "@jupyter-widgets/controls",
      "model_module_version": "2.0.0",
      "model_name": "HTMLModel",
      "state": {
       "layout": "IPY_MODEL_43232cc7ae47419c85d87e2c7ad4e0c8",
       "style": "IPY_MODEL_b20b0d9b5eaa4c4180a7807ef0fc7e64",
       "value": "100%"
      }
     },
     "484202a7932443239217485260ae146f": {
      "model_module": "@jupyter-widgets/controls",
      "model_module_version": "2.0.0",
      "model_name": "HBoxModel",
      "state": {
       "children": [
        "IPY_MODEL_e6017f0ad5f64739ae45896ba3acc109",
        "IPY_MODEL_735e3e4e7dfb478e98f981d4617d07a9",
        "IPY_MODEL_a1eaf5d964ca49b287e63eaf2550d665"
       ],
       "layout": "IPY_MODEL_1062d1b80df34f1abb4bac5ac530c434"
      }
     },
     "4848d60c1557476ebae13ca2eb6bfb61": {
      "model_module": "@jupyter-widgets/base",
      "model_module_version": "2.0.0",
      "model_name": "LayoutModel",
      "state": {}
     },
     "48554044577a4b908220dbf934d2ef98": {
      "model_module": "@jupyter-widgets/controls",
      "model_module_version": "2.0.0",
      "model_name": "FloatProgressModel",
      "state": {
       "bar_style": "success",
       "layout": "IPY_MODEL_91f4200459694e54a6498e4728b349b0",
       "max": 118,
       "style": "IPY_MODEL_24d538424ae54158866294e1601c166c",
       "value": 118
      }
     },
     "4979333fefeb4edaa3b59d16612928ca": {
      "model_module": "@jupyter-widgets/controls",
      "model_module_version": "2.0.0",
      "model_name": "HTMLStyleModel",
      "state": {
       "description_width": "",
       "font_size": null,
       "text_color": null
      }
     },
     "498acbe7bdd042ba916841c46bcce52a": {
      "model_module": "@jupyter-widgets/controls",
      "model_module_version": "2.0.0",
      "model_name": "HTMLModel",
      "state": {
       "layout": "IPY_MODEL_6af7a4484874441d8cfd4250c1604ac1",
       "style": "IPY_MODEL_2ec4414f17cf4bc2a66152a210db91de",
       "value": " 582/582 [00:13&lt;00:00, 46.55it/s]"
      }
     },
     "49bc7e58fb294281a44e6e79f7eca935": {
      "model_module": "@jupyter-widgets/controls",
      "model_module_version": "2.0.0",
      "model_name": "HTMLStyleModel",
      "state": {
       "description_width": "",
       "font_size": null,
       "text_color": null
      }
     },
     "49d035e20c58486c8fb4ea503a62cb89": {
      "model_module": "@jupyter-widgets/base",
      "model_module_version": "2.0.0",
      "model_name": "LayoutModel",
      "state": {}
     },
     "49ddfbc8042b4ed4a6669f73c597af29": {
      "model_module": "@jupyter-widgets/base",
      "model_module_version": "2.0.0",
      "model_name": "LayoutModel",
      "state": {}
     },
     "4a1a278cef5a4a14a8341aeff9bbd4a5": {
      "model_module": "@jupyter-widgets/controls",
      "model_module_version": "2.0.0",
      "model_name": "HTMLStyleModel",
      "state": {
       "description_width": "",
       "font_size": null,
       "text_color": null
      }
     },
     "4a27189d785145bfb9c6fa420c34b619": {
      "model_module": "@jupyter-widgets/base",
      "model_module_version": "2.0.0",
      "model_name": "LayoutModel",
      "state": {}
     },
     "4a2b5560ce354ac793ae948a42b5252a": {
      "model_module": "@jupyter-widgets/controls",
      "model_module_version": "2.0.0",
      "model_name": "HBoxModel",
      "state": {
       "children": [
        "IPY_MODEL_a52ea54363f942ba90d80faa7825fe2e",
        "IPY_MODEL_0fbd2f7b8f004b7d9b79380019212354",
        "IPY_MODEL_1634ef5d358743659f4a8cd7991b440d"
       ],
       "layout": "IPY_MODEL_dde198cb88154fcdb1d5a4be3e126c4c"
      }
     },
     "4a6832d531ee48beb2f2161d09921a0a": {
      "model_module": "@jupyter-widgets/controls",
      "model_module_version": "2.0.0",
      "model_name": "HTMLModel",
      "state": {
       "layout": "IPY_MODEL_d02f0de1361d4608b8582a02d9259857",
       "style": "IPY_MODEL_e094a43328874c40af003093d977538c",
       "value": "100%"
      }
     },
     "4a7a8fbea444442fa1d50966645f37f5": {
      "model_module": "@jupyter-widgets/controls",
      "model_module_version": "2.0.0",
      "model_name": "HTMLModel",
      "state": {
       "layout": "IPY_MODEL_c387fef7d55b4046a42e966899f5fcde",
       "style": "IPY_MODEL_a0db1b8773204109aa749bdfc9106015",
       "value": " 716/716 [00:16&lt;00:00, 42.51it/s]"
      }
     },
     "4b0237c6333b4953bfd8875d129f2058": {
      "model_module": "@jupyter-widgets/controls",
      "model_module_version": "2.0.0",
      "model_name": "HBoxModel",
      "state": {
       "children": [
        "IPY_MODEL_519cf0492f8a4d80ae694dd1115bfed6",
        "IPY_MODEL_4e12396de7a54d96932bb58184006473",
        "IPY_MODEL_b86a47cf5b6a4b0ca8766d419c0353f9"
       ],
       "layout": "IPY_MODEL_100c8bccae594a98bd032cf630dd8ddc"
      }
     },
     "4b38f1d5140943159d0b1a4e27996cdc": {
      "model_module": "@jupyter-widgets/controls",
      "model_module_version": "2.0.0",
      "model_name": "FloatProgressModel",
      "state": {
       "bar_style": "success",
       "layout": "IPY_MODEL_43e4f24e14fb4b8f8e206e402c65bcfd",
       "max": 653,
       "style": "IPY_MODEL_3f34d60698c04610ad429d16d5b3dbd5",
       "value": 653
      }
     },
     "4b67d8b7be194ac0b876b0c391df880d": {
      "model_module": "@jupyter-widgets/controls",
      "model_module_version": "2.0.0",
      "model_name": "HTMLStyleModel",
      "state": {
       "description_width": "",
       "font_size": null,
       "text_color": null
      }
     },
     "4b7ccbb65a2349088bdde6774e305619": {
      "model_module": "@jupyter-widgets/base",
      "model_module_version": "2.0.0",
      "model_name": "LayoutModel",
      "state": {}
     },
     "4b7f80e78167411d873dbd68f07728b1": {
      "model_module": "@jupyter-widgets/base",
      "model_module_version": "2.0.0",
      "model_name": "LayoutModel",
      "state": {}
     },
     "4b91f698855d45dfb710754cb914599d": {
      "model_module": "@jupyter-widgets/base",
      "model_module_version": "2.0.0",
      "model_name": "LayoutModel",
      "state": {}
     },
     "4b9cf826e33643618a11bef8449c64b4": {
      "model_module": "@jupyter-widgets/controls",
      "model_module_version": "2.0.0",
      "model_name": "HTMLStyleModel",
      "state": {
       "description_width": "",
       "font_size": null,
       "text_color": null
      }
     },
     "4babc2594f3a4ee48b7c530b86666548": {
      "model_module": "@jupyter-widgets/controls",
      "model_module_version": "2.0.0",
      "model_name": "HTMLModel",
      "state": {
       "layout": "IPY_MODEL_294dfab6fc8c460daaa2756c5f26d58d",
       "style": "IPY_MODEL_81a9f7c78f944844be4a9edfe4a1f36d",
       "value": " 401/401 [00:08&lt;00:00, 47.48it/s]"
      }
     },
     "4bc63bee7b3e4e19b5b2b4f02b88f930": {
      "model_module": "@jupyter-widgets/controls",
      "model_module_version": "2.0.0",
      "model_name": "HTMLStyleModel",
      "state": {
       "description_width": "",
       "font_size": null,
       "text_color": null
      }
     },
     "4c5c3b827f774373838189e1007435f4": {
      "model_module": "@jupyter-widgets/controls",
      "model_module_version": "2.0.0",
      "model_name": "FloatProgressModel",
      "state": {
       "bar_style": "success",
       "layout": "IPY_MODEL_37509621c53c4d41b91ee8a4599e6304",
       "max": 491,
       "style": "IPY_MODEL_47431a07418444489efca0d53d561133",
       "value": 491
      }
     },
     "4c60571d45f541e1ac7fa558346d3eda": {
      "model_module": "@jupyter-widgets/controls",
      "model_module_version": "2.0.0",
      "model_name": "HBoxModel",
      "state": {
       "children": [
        "IPY_MODEL_2ffa599cb39948899defae1b691b67c9",
        "IPY_MODEL_eb3d2eb455f443298699329becd58bbb",
        "IPY_MODEL_0052587c81e74f42bfb5a71c2704c05d"
       ],
       "layout": "IPY_MODEL_78fc6d74bcc14509a3220294f67ef5a5"
      }
     },
     "4c61f58de52749b783abdaf8336dfffa": {
      "model_module": "@jupyter-widgets/base",
      "model_module_version": "2.0.0",
      "model_name": "LayoutModel",
      "state": {}
     },
     "4c7b7b48687c408d99fc0cbb3c0496c5": {
      "model_module": "@jupyter-widgets/controls",
      "model_module_version": "2.0.0",
      "model_name": "HTMLModel",
      "state": {
       "layout": "IPY_MODEL_b762608d298840b8957ec4cc3ad00895",
       "style": "IPY_MODEL_75ca958174864fd584aae10d495809ec",
       "value": " 620/620 [00:13&lt;00:00, 45.92it/s]"
      }
     },
     "4c8b25d651c44f4b907c505aefedc18f": {
      "model_module": "@jupyter-widgets/controls",
      "model_module_version": "2.0.0",
      "model_name": "HTMLStyleModel",
      "state": {
       "description_width": "",
       "font_size": null,
       "text_color": null
      }
     },
     "4c997e299985485ebfface72001769b9": {
      "model_module": "@jupyter-widgets/base",
      "model_module_version": "2.0.0",
      "model_name": "LayoutModel",
      "state": {}
     },
     "4cae02ce46ea46d88a6e09bc3ca584c1": {
      "model_module": "@jupyter-widgets/base",
      "model_module_version": "2.0.0",
      "model_name": "LayoutModel",
      "state": {}
     },
     "4cb4c29c3b3b4c0dae357d038d941b14": {
      "model_module": "@jupyter-widgets/controls",
      "model_module_version": "2.0.0",
      "model_name": "FloatProgressModel",
      "state": {
       "bar_style": "success",
       "layout": "IPY_MODEL_4848d60c1557476ebae13ca2eb6bfb61",
       "max": 472,
       "style": "IPY_MODEL_77ff9fa7dd81402a89a8377e4b608995",
       "value": 472
      }
     },
     "4cc7a6bea5ef4ae3889934f2d5637f82": {
      "model_module": "@jupyter-widgets/controls",
      "model_module_version": "2.0.0",
      "model_name": "HBoxModel",
      "state": {
       "children": [
        "IPY_MODEL_f0209abd3e2848168ec20712aee3717d",
        "IPY_MODEL_8b5996ba676d47de81d7b52cecc17fe0",
        "IPY_MODEL_f3d59078ddfc4beeb6d0ce78872a611d"
       ],
       "layout": "IPY_MODEL_9829050eb68b4e559cd08947861db079"
      }
     },
     "4ccb4f06ce97402e9c2778f497d417be": {
      "model_module": "@jupyter-widgets/controls",
      "model_module_version": "2.0.0",
      "model_name": "FloatProgressModel",
      "state": {
       "bar_style": "success",
       "layout": "IPY_MODEL_11f21003b9f44e7e97fb30074f79cbd5",
       "max": 450,
       "style": "IPY_MODEL_199b1a48a7674b279ae469bdd47fa2ff",
       "value": 450
      }
     },
     "4ce482eb55a043bcb81b8cf9ee8a42af": {
      "model_module": "@jupyter-widgets/controls",
      "model_module_version": "2.0.0",
      "model_name": "HBoxModel",
      "state": {
       "children": [
        "IPY_MODEL_bbf491e9e1a9431fa9fe52fcf1bd3c92",
        "IPY_MODEL_b58930bede1d43c096dc02789d50c353",
        "IPY_MODEL_fb4c33cc0e024060a88e10f500705077"
       ],
       "layout": "IPY_MODEL_04fd705030c74360a9e4905c52795aef"
      }
     },
     "4d08b258b86e4cc88787b6f328ca6759": {
      "model_module": "@jupyter-widgets/controls",
      "model_module_version": "2.0.0",
      "model_name": "HTMLModel",
      "state": {
       "layout": "IPY_MODEL_af644c06d5344c88b803baecd12996ac",
       "style": "IPY_MODEL_d1724cd90d47416fbda32d60b3e0c22b",
       "value": " 472/472 [00:10&lt;00:00, 44.63it/s]"
      }
     },
     "4d52454bbe7b4a5f93b2f3310f31c2ce": {
      "model_module": "@jupyter-widgets/controls",
      "model_module_version": "2.0.0",
      "model_name": "HTMLModel",
      "state": {
       "layout": "IPY_MODEL_648cd24bb03b4c3a9aee6ac46f55fb96",
       "style": "IPY_MODEL_fc74f04b5d474cd8bdf722ac9ccf821d",
       "value": "100%"
      }
     },
     "4d5b62e262f44a20aec670abb8e5b170": {
      "model_module": "@jupyter-widgets/controls",
      "model_module_version": "2.0.0",
      "model_name": "HTMLStyleModel",
      "state": {
       "description_width": "",
       "font_size": null,
       "text_color": null
      }
     },
     "4d9b8f53d7934e5d9cbc7773782b6133": {
      "model_module": "@jupyter-widgets/base",
      "model_module_version": "2.0.0",
      "model_name": "LayoutModel",
      "state": {}
     },
     "4d9fed50b8aa4f6b9bbb3f096c742ad9": {
      "model_module": "@jupyter-widgets/controls",
      "model_module_version": "2.0.0",
      "model_name": "HTMLStyleModel",
      "state": {
       "description_width": "",
       "font_size": null,
       "text_color": null
      }
     },
     "4daba08d216f47059674844ffb992742": {
      "model_module": "@jupyter-widgets/controls",
      "model_module_version": "2.0.0",
      "model_name": "FloatProgressModel",
      "state": {
       "bar_style": "danger",
       "layout": "IPY_MODEL_92bcac7742ce43a5b5664761e80a593f",
       "max": 582,
       "style": "IPY_MODEL_4f4ffb19bcad417086139eb61077b25c"
      }
     },
     "4dbb8621965d45f98f8d7a115ce78aff": {
      "model_module": "@jupyter-widgets/base",
      "model_module_version": "2.0.0",
      "model_name": "LayoutModel",
      "state": {}
     },
     "4dbfa55c9d67440fb14a384c81426f9b": {
      "model_module": "@jupyter-widgets/base",
      "model_module_version": "2.0.0",
      "model_name": "LayoutModel",
      "state": {}
     },
     "4dd60366939a4d3a9a1b0de11b9c30dc": {
      "model_module": "@jupyter-widgets/base",
      "model_module_version": "2.0.0",
      "model_name": "LayoutModel",
      "state": {}
     },
     "4dd6ac900cdd4663a4c23190bc9f20e3": {
      "model_module": "@jupyter-widgets/controls",
      "model_module_version": "2.0.0",
      "model_name": "HTMLStyleModel",
      "state": {
       "description_width": "",
       "font_size": null,
       "text_color": null
      }
     },
     "4dfbe3f09cfb40738a1a55853c81ca9f": {
      "model_module": "@jupyter-widgets/controls",
      "model_module_version": "2.0.0",
      "model_name": "FloatProgressModel",
      "state": {
       "bar_style": "success",
       "layout": "IPY_MODEL_061a06f8c7ae47d2a8ea86531dc265d6",
       "max": 582,
       "style": "IPY_MODEL_12c3573c2b654eca9fccfe80201be88d",
       "value": 582
      }
     },
     "4e12396de7a54d96932bb58184006473": {
      "model_module": "@jupyter-widgets/controls",
      "model_module_version": "2.0.0",
      "model_name": "FloatProgressModel",
      "state": {
       "bar_style": "success",
       "layout": "IPY_MODEL_14faca4bf7c14f10b6a0a83fdfe4a53a",
       "max": 118,
       "style": "IPY_MODEL_98acaefce1404043877c41a580e02c98",
       "value": 118
      }
     },
     "4e173b70dbc34fe8918649e74e3eee71": {
      "model_module": "@jupyter-widgets/controls",
      "model_module_version": "2.0.0",
      "model_name": "HTMLModel",
      "state": {
       "layout": "IPY_MODEL_5730f4f8ead84c1396197bf5eb92a3c5",
       "style": "IPY_MODEL_6d3dceb5d3784837a4926220e0e48399",
       "value": " 712/712 [00:16&lt;00:00, 39.64it/s]"
      }
     },
     "4e40d91bf9d148629f85d56ad967710b": {
      "model_module": "@jupyter-widgets/controls",
      "model_module_version": "2.0.0",
      "model_name": "HBoxModel",
      "state": {
       "children": [
        "IPY_MODEL_77f0569cc54d4a509bc49a54be5b0aa7",
        "IPY_MODEL_24bd31ea1de349c1a1d1856682f82d98",
        "IPY_MODEL_1711a0575e2a4642a894fd9a9785bed2"
       ],
       "layout": "IPY_MODEL_d2044a7336a348dabfb7c4f30d9b367a"
      }
     },
     "4e460187e6404878a697412850349eff": {
      "model_module": "@jupyter-widgets/base",
      "model_module_version": "2.0.0",
      "model_name": "LayoutModel",
      "state": {}
     },
     "4e48b3d4caf3427ea5f25ed7938f8e95": {
      "model_module": "@jupyter-widgets/controls",
      "model_module_version": "2.0.0",
      "model_name": "HTMLStyleModel",
      "state": {
       "description_width": "",
       "font_size": null,
       "text_color": null
      }
     },
     "4e5fe976d5fb4fbabfce7b5e6617c84b": {
      "model_module": "@jupyter-widgets/controls",
      "model_module_version": "2.0.0",
      "model_name": "FloatProgressModel",
      "state": {
       "bar_style": "success",
       "layout": "IPY_MODEL_a9c5a1fbbc0540d79022f4e7b68c1ae0",
       "max": 709,
       "style": "IPY_MODEL_185638e94b334ab38aa278d928e39535",
       "value": 709
      }
     },
     "4e838599d9024341a42715245b7431fb": {
      "model_module": "@jupyter-widgets/controls",
      "model_module_version": "2.0.0",
      "model_name": "HBoxModel",
      "state": {
       "children": [
        "IPY_MODEL_f58b57fc5a7a46e4b2b66f4e1c70a3fd",
        "IPY_MODEL_db3d234ed33346b1b5994fdc419ed546",
        "IPY_MODEL_7ea94892d12b47d7b82d6433258dd8ce"
       ],
       "layout": "IPY_MODEL_8eafdbc37c2b453ba4f14302d84a5ca8"
      }
     },
     "4eb6ef4a778e4dd1ad1791df02663e83": {
      "model_module": "@jupyter-widgets/controls",
      "model_module_version": "2.0.0",
      "model_name": "FloatProgressModel",
      "state": {
       "bar_style": "success",
       "layout": "IPY_MODEL_d5970757e5454292ab770d7d59cbbaa3",
       "max": 582,
       "style": "IPY_MODEL_7992f9a2e44d4cbf84da1ed80ac7c7d0",
       "value": 582
      }
     },
     "4ed5afd54c7f42fd98acac3f8d937668": {
      "model_module": "@jupyter-widgets/controls",
      "model_module_version": "2.0.0",
      "model_name": "HTMLModel",
      "state": {
       "layout": "IPY_MODEL_4b91f698855d45dfb710754cb914599d",
       "style": "IPY_MODEL_50246cab8cd545e39e3894bb69716097",
       "value": "100%"
      }
     },
     "4ee64f46565e4c54bd01c8f139d606f1": {
      "model_module": "@jupyter-widgets/base",
      "model_module_version": "2.0.0",
      "model_name": "LayoutModel",
      "state": {}
     },
     "4f09abffa6f1428b806218a7c248835d": {
      "model_module": "@jupyter-widgets/controls",
      "model_module_version": "2.0.0",
      "model_name": "HTMLStyleModel",
      "state": {
       "description_width": "",
       "font_size": null,
       "text_color": null
      }
     },
     "4f2a026a9d0b486b96891805d7871a36": {
      "model_module": "@jupyter-widgets/controls",
      "model_module_version": "2.0.0",
      "model_name": "HTMLStyleModel",
      "state": {
       "description_width": "",
       "font_size": null,
       "text_color": null
      }
     },
     "4f2afbcbab044d7597f8aba5a3ef84c9": {
      "model_module": "@jupyter-widgets/controls",
      "model_module_version": "2.0.0",
      "model_name": "ProgressStyleModel",
      "state": {
       "description_width": ""
      }
     },
     "4f3142900b934af496365c9523644284": {
      "model_module": "@jupyter-widgets/base",
      "model_module_version": "2.0.0",
      "model_name": "LayoutModel",
      "state": {}
     },
     "4f49bd0c469b4516bc99708c25f0b273": {
      "model_module": "@jupyter-widgets/controls",
      "model_module_version": "2.0.0",
      "model_name": "HTMLModel",
      "state": {
       "layout": "IPY_MODEL_dcb39719828e4feda8f7a4e5217609c5",
       "style": "IPY_MODEL_28eaf2798a7946e1a1d892d59cf4ce30",
       "value": " 722/722 [00:16&lt;00:00, 45.27it/s]"
      }
     },
     "4f4ffb19bcad417086139eb61077b25c": {
      "model_module": "@jupyter-widgets/controls",
      "model_module_version": "2.0.0",
      "model_name": "ProgressStyleModel",
      "state": {
       "description_width": ""
      }
     },
     "4f5c35d7bd314bcfbc3355ca55c42654": {
      "model_module": "@jupyter-widgets/controls",
      "model_module_version": "2.0.0",
      "model_name": "HTMLModel",
      "state": {
       "layout": "IPY_MODEL_e6c244a861364abd94e87046b58ec73e",
       "style": "IPY_MODEL_1c5e6b18825a401b971a5f69479d161a",
       "value": " 634/634 [00:14&lt;00:00, 44.96it/s]"
      }
     },
     "4f65907e1973468485acb0043aa822ee": {
      "model_module": "@jupyter-widgets/controls",
      "model_module_version": "2.0.0",
      "model_name": "HTMLModel",
      "state": {
       "layout": "IPY_MODEL_e47ec44b472f40c49268403c00379fc8",
       "style": "IPY_MODEL_a22f07e919c745f983e9cbb418dedf07",
       "value": "100%"
      }
     },
     "4f9ebcd2677249c7bbfe6d4e9b5a484b": {
      "model_module": "@jupyter-widgets/controls",
      "model_module_version": "2.0.0",
      "model_name": "FloatProgressModel",
      "state": {
       "bar_style": "success",
       "layout": "IPY_MODEL_79ab3945a01145d5a6875d38698332ae",
       "max": 601,
       "style": "IPY_MODEL_c5e287710c1b42ca8c84ffc62caacf83",
       "value": 601
      }
     },
     "4fc38e58979f4704a20208ce9f72dfa7": {
      "model_module": "@jupyter-widgets/controls",
      "model_module_version": "2.0.0",
      "model_name": "HTMLModel",
      "state": {
       "layout": "IPY_MODEL_3a3195946ff04c72b7dd6ece4290f6e1",
       "style": "IPY_MODEL_2ecabbd780f842f2841ba5c6fb617081",
       "value": " 118/118 [00:26&lt;00:00,  4.18it/s]"
      }
     },
     "4ff1e8073a964b5eb5679a99d2970c18": {
      "model_module": "@jupyter-widgets/base",
      "model_module_version": "2.0.0",
      "model_name": "LayoutModel",
      "state": {}
     },
     "50246cab8cd545e39e3894bb69716097": {
      "model_module": "@jupyter-widgets/controls",
      "model_module_version": "2.0.0",
      "model_name": "HTMLStyleModel",
      "state": {
       "description_width": "",
       "font_size": null,
       "text_color": null
      }
     },
     "5047c2113bd54052a787c33048a217b7": {
      "model_module": "@jupyter-widgets/controls",
      "model_module_version": "2.0.0",
      "model_name": "FloatProgressModel",
      "state": {
       "bar_style": "success",
       "layout": "IPY_MODEL_3c872733f7c343d4b5fa4e5f389ed574",
       "max": 118,
       "style": "IPY_MODEL_16bad53d030c498fa5e50b5a60e70d1f",
       "value": 118
      }
     },
     "504c9ce218774e23bc9334e953b6f477": {
      "model_module": "@jupyter-widgets/controls",
      "model_module_version": "2.0.0",
      "model_name": "HTMLModel",
      "state": {
       "layout": "IPY_MODEL_9ce72104988a48cebd6b14d6493b38bc",
       "style": "IPY_MODEL_bd418064cfba44e7a916c51e253dd322",
       "value": " 456/456 [00:10&lt;00:00, 45.22it/s]"
      }
     },
     "50507924fd2b43ceafe37317ff83bb83": {
      "model_module": "@jupyter-widgets/base",
      "model_module_version": "2.0.0",
      "model_name": "LayoutModel",
      "state": {}
     },
     "507551b2a9974481a9e919328c187c6c": {
      "model_module": "@jupyter-widgets/base",
      "model_module_version": "2.0.0",
      "model_name": "LayoutModel",
      "state": {}
     },
     "508586cfe2bb4e559ea7dd2536be3482": {
      "model_module": "@jupyter-widgets/controls",
      "model_module_version": "2.0.0",
      "model_name": "FloatProgressModel",
      "state": {
       "bar_style": "success",
       "layout": "IPY_MODEL_f12ac3dd4ce742a58fd625514e7792db",
       "max": 715,
       "style": "IPY_MODEL_c94837441a144542994ba93aa12d21f7",
       "value": 715
      }
     },
     "508cd88eeea94560bbc8c7db91ea15d7": {
      "model_module": "@jupyter-widgets/controls",
      "model_module_version": "2.0.0",
      "model_name": "FloatProgressModel",
      "state": {
       "bar_style": "success",
       "layout": "IPY_MODEL_f919ea2cd4444ed6bdb448eb3ee4d2d9",
       "max": 492,
       "style": "IPY_MODEL_21900d31c44741919a29d32fb9ee65a8",
       "value": 492
      }
     },
     "50aad6ef8bec43e68ea4bf1688755576": {
      "model_module": "@jupyter-widgets/controls",
      "model_module_version": "2.0.0",
      "model_name": "FloatProgressModel",
      "state": {
       "bar_style": "success",
       "layout": "IPY_MODEL_eb10dd80f6ba4631bb8927f95e1b1d41",
       "max": 620,
       "style": "IPY_MODEL_220f1654d3eb4976bd8c63dacb0fba34",
       "value": 620
      }
     },
     "50b8c31b44264bd68a148585fa4aa0b6": {
      "model_module": "@jupyter-widgets/controls",
      "model_module_version": "2.0.0",
      "model_name": "ProgressStyleModel",
      "state": {
       "description_width": ""
      }
     },
     "50e676dfa8304d0194fbd5affff2bdd4": {
      "model_module": "@jupyter-widgets/controls",
      "model_module_version": "2.0.0",
      "model_name": "HBoxModel",
      "state": {
       "children": [
        "IPY_MODEL_603f7b8329e3421b85ac884a300cd570",
        "IPY_MODEL_b6c00ec68e77485facd52d1822a7b4a3",
        "IPY_MODEL_2f1f3c9224ef4cb1a325f2da0a79964f"
       ],
       "layout": "IPY_MODEL_dd6b096ab6624b3eac4b25ae06668b15"
      }
     },
     "51072a0bf1bc4a78a43214af92da27c9": {
      "model_module": "@jupyter-widgets/controls",
      "model_module_version": "2.0.0",
      "model_name": "ProgressStyleModel",
      "state": {
       "description_width": ""
      }
     },
     "5115537c76d746acb742a4631ab858a0": {
      "model_module": "@jupyter-widgets/base",
      "model_module_version": "2.0.0",
      "model_name": "LayoutModel",
      "state": {}
     },
     "51208ad03d984097b48be5d688b135ce": {
      "model_module": "@jupyter-widgets/controls",
      "model_module_version": "2.0.0",
      "model_name": "HTMLModel",
      "state": {
       "layout": "IPY_MODEL_d34efd454ede47d0bd6a6d1ef6c07ce8",
       "style": "IPY_MODEL_284e53af31e14c6eb288f349f3a580d1",
       "value": " 582/582 [00:12&lt;00:00, 46.74it/s]"
      }
     },
     "512f1207ae5447e3b086c28dcfe02ae2": {
      "model_module": "@jupyter-widgets/base",
      "model_module_version": "2.0.0",
      "model_name": "LayoutModel",
      "state": {}
     },
     "519cf0492f8a4d80ae694dd1115bfed6": {
      "model_module": "@jupyter-widgets/controls",
      "model_module_version": "2.0.0",
      "model_name": "HTMLModel",
      "state": {
       "layout": "IPY_MODEL_e423b240e7d3418492cc8e19331ccda1",
       "style": "IPY_MODEL_a8f5282649e04b309540ac9d0944cb80",
       "value": "100%"
      }
     },
     "52a2011eb39d450d9d1f0f120eb22f9e": {
      "model_module": "@jupyter-widgets/base",
      "model_module_version": "2.0.0",
      "model_name": "LayoutModel",
      "state": {}
     },
     "52b0751ccaaf4df1bc7402a0f9f53b10": {
      "model_module": "@jupyter-widgets/base",
      "model_module_version": "2.0.0",
      "model_name": "LayoutModel",
      "state": {}
     },
     "52e615c11f1d441eb31c5de67d81c1b0": {
      "model_module": "@jupyter-widgets/base",
      "model_module_version": "2.0.0",
      "model_name": "LayoutModel",
      "state": {}
     },
     "5343e045940c47a4a7031b0d1193c362": {
      "model_module": "@jupyter-widgets/controls",
      "model_module_version": "2.0.0",
      "model_name": "HTMLStyleModel",
      "state": {
       "description_width": "",
       "font_size": null,
       "text_color": null
      }
     },
     "535aa3bf1ba74dbf8a222b0caf7822d1": {
      "model_module": "@jupyter-widgets/base",
      "model_module_version": "2.0.0",
      "model_name": "LayoutModel",
      "state": {}
     },
     "535d2a9e062440f39760a09ff3a79d44": {
      "model_module": "@jupyter-widgets/controls",
      "model_module_version": "2.0.0",
      "model_name": "ProgressStyleModel",
      "state": {
       "description_width": ""
      }
     },
     "538811dc1db041009078c2983d4fb3f5": {
      "model_module": "@jupyter-widgets/controls",
      "model_module_version": "2.0.0",
      "model_name": "HTMLModel",
      "state": {
       "layout": "IPY_MODEL_a66c2eb728594477a8fb48302eeec6ae",
       "style": "IPY_MODEL_a2f1f67614d1453f852269b7af76410b",
       "value": " 118/118 [00:38&lt;00:00,  3.11it/s]"
      }
     },
     "53944a1486e146c2856fb56d1c8056cf": {
      "model_module": "@jupyter-widgets/controls",
      "model_module_version": "2.0.0",
      "model_name": "HTMLModel",
      "state": {
       "layout": "IPY_MODEL_09b5c29009a44d3492aa7ae674a574d1",
       "style": "IPY_MODEL_d3eb78ac735f4b55bfe11674c360a295",
       "value": "100%"
      }
     },
     "53f619725613493ba99bc11a252ce4e3": {
      "model_module": "@jupyter-widgets/controls",
      "model_module_version": "2.0.0",
      "model_name": "HTMLStyleModel",
      "state": {
       "description_width": "",
       "font_size": null,
       "text_color": null
      }
     },
     "542f9759be1f497dbed95969751fc71e": {
      "model_module": "@jupyter-widgets/controls",
      "model_module_version": "2.0.0",
      "model_name": "ProgressStyleModel",
      "state": {
       "description_width": ""
      }
     },
     "54517276a6d044729df4f5505944f784": {
      "model_module": "@jupyter-widgets/controls",
      "model_module_version": "2.0.0",
      "model_name": "HTMLStyleModel",
      "state": {
       "description_width": "",
       "font_size": null,
       "text_color": null
      }
     },
     "54670ff934134f0db31c7260e8e77461": {
      "model_module": "@jupyter-widgets/controls",
      "model_module_version": "2.0.0",
      "model_name": "HTMLStyleModel",
      "state": {
       "description_width": "",
       "font_size": null,
       "text_color": null
      }
     },
     "547529db27b746de843441d9d9e5b4c0": {
      "model_module": "@jupyter-widgets/base",
      "model_module_version": "2.0.0",
      "model_name": "LayoutModel",
      "state": {}
     },
     "54d5361dc0a64d2daf100360ae89cba2": {
      "model_module": "@jupyter-widgets/controls",
      "model_module_version": "2.0.0",
      "model_name": "HBoxModel",
      "state": {
       "children": [
        "IPY_MODEL_d43557e2dcda41aa897426186516d29b",
        "IPY_MODEL_34fc3cbd75ce469e9826693f1f2c49d4",
        "IPY_MODEL_33fdd49af91f4b8d9fe2935f0f69ff60"
       ],
       "layout": "IPY_MODEL_5e20ab213d3f410485a37e25695d446e"
      }
     },
     "54f9e24b319046ecba5d6bd62b8cd662": {
      "model_module": "@jupyter-widgets/controls",
      "model_module_version": "2.0.0",
      "model_name": "HBoxModel",
      "state": {
       "children": [
        "IPY_MODEL_75b3ef2a39864ee6a1cb73f536a7c3fe",
        "IPY_MODEL_60b5a758d43a46e38c32f8dcfdf89a87",
        "IPY_MODEL_6a6d756c78bc482baa4d20ee63dfc7c3"
       ],
       "layout": "IPY_MODEL_1c5053abd4b1452d96513c24ff7c94b1"
      }
     },
     "5545a4a4968b4a1c880b5a0bbcd9d1da": {
      "model_module": "@jupyter-widgets/controls",
      "model_module_version": "2.0.0",
      "model_name": "HTMLModel",
      "state": {
       "layout": "IPY_MODEL_3c695d6539bf416a901abc65376894e7",
       "style": "IPY_MODEL_8fc968550ca34218b00b076dd06ae52a",
       "value": " 624/624 [00:13&lt;00:00, 43.74it/s]"
      }
     },
     "554aee61014449f2b0e60fa0e163bcd2": {
      "model_module": "@jupyter-widgets/base",
      "model_module_version": "2.0.0",
      "model_name": "LayoutModel",
      "state": {}
     },
     "557644a2ec11455c81ca0328b904dc5c": {
      "model_module": "@jupyter-widgets/controls",
      "model_module_version": "2.0.0",
      "model_name": "HTMLModel",
      "state": {
       "layout": "IPY_MODEL_5cad13541bd64e6ca9fd26622c1de7c2",
       "style": "IPY_MODEL_14947875e14f4164a9dc4509dba04256",
       "value": " 793/793 [00:16&lt;00:00, 45.43it/s]"
      }
     },
     "558677fcc0ce4116baee8eb9656f53ef": {
      "model_module": "@jupyter-widgets/controls",
      "model_module_version": "2.0.0",
      "model_name": "FloatProgressModel",
      "state": {
       "bar_style": "success",
       "layout": "IPY_MODEL_c697dabc4efb4158be01972d7f2e9a2a",
       "max": 737,
       "style": "IPY_MODEL_ecaac287510f4220aa03274d067e1b1a",
       "value": 737
      }
     },
     "55b3b3691bc34c36b1e7d2ff59e91dcb": {
      "model_module": "@jupyter-widgets/controls",
      "model_module_version": "2.0.0",
      "model_name": "ProgressStyleModel",
      "state": {
       "description_width": ""
      }
     },
     "55fe3f86a05647129ca96baeabf665d4": {
      "model_module": "@jupyter-widgets/controls",
      "model_module_version": "2.0.0",
      "model_name": "HTMLStyleModel",
      "state": {
       "description_width": "",
       "font_size": null,
       "text_color": null
      }
     },
     "56172568cc6643efb004643d50e6bc09": {
      "model_module": "@jupyter-widgets/controls",
      "model_module_version": "2.0.0",
      "model_name": "HTMLStyleModel",
      "state": {
       "description_width": "",
       "font_size": null,
       "text_color": null
      }
     },
     "567744cfe2954b01a581aa778a45109f": {
      "model_module": "@jupyter-widgets/controls",
      "model_module_version": "2.0.0",
      "model_name": "HBoxModel",
      "state": {
       "children": [
        "IPY_MODEL_26c3e848cc4c4c1598f5280073485cee",
        "IPY_MODEL_1c230e17e5c84368aba2da6b9bba9f05",
        "IPY_MODEL_6a68d265e42942bb92a7a4b6ed2720eb"
       ],
       "layout": "IPY_MODEL_5a4e23f556ac4288b6cc0e7a62c2db5a"
      }
     },
     "569072aae3c04e388ce6832c9e82ad76": {
      "model_module": "@jupyter-widgets/controls",
      "model_module_version": "2.0.0",
      "model_name": "HBoxModel",
      "state": {
       "children": [
        "IPY_MODEL_b076efd5ba9149e7ae767c393380baa7",
        "IPY_MODEL_4cb4c29c3b3b4c0dae357d038d941b14",
        "IPY_MODEL_4d08b258b86e4cc88787b6f328ca6759"
       ],
       "layout": "IPY_MODEL_d18608b443534ed287d8ddbc08cee500"
      }
     },
     "56ade4b33d8b4966aa396d94da2e618d": {
      "model_module": "@jupyter-widgets/base",
      "model_module_version": "2.0.0",
      "model_name": "LayoutModel",
      "state": {}
     },
     "56db11a4220b4705af028fcd6c953117": {
      "model_module": "@jupyter-widgets/base",
      "model_module_version": "2.0.0",
      "model_name": "LayoutModel",
      "state": {}
     },
     "56e4fd8adb854e3b8082637a24c4f747": {
      "model_module": "@jupyter-widgets/base",
      "model_module_version": "2.0.0",
      "model_name": "LayoutModel",
      "state": {}
     },
     "56edd2b635d24ba495626324f6077065": {
      "model_module": "@jupyter-widgets/controls",
      "model_module_version": "2.0.0",
      "model_name": "HBoxModel",
      "state": {
       "children": [
        "IPY_MODEL_4d52454bbe7b4a5f93b2f3310f31c2ce",
        "IPY_MODEL_5b3458dd18c64f4080e95cc725c1c1fd",
        "IPY_MODEL_76133dd0a56142efbafda72912435fde"
       ],
       "layout": "IPY_MODEL_70582b2815b9443780466eff79e6669e"
      }
     },
     "571f8c3030cc4a88badb4b5d488bf2d8": {
      "model_module": "@jupyter-widgets/base",
      "model_module_version": "2.0.0",
      "model_name": "LayoutModel",
      "state": {}
     },
     "5730f4f8ead84c1396197bf5eb92a3c5": {
      "model_module": "@jupyter-widgets/base",
      "model_module_version": "2.0.0",
      "model_name": "LayoutModel",
      "state": {}
     },
     "57315dcca986446fb10ea8b98c07e323": {
      "model_module": "@jupyter-widgets/base",
      "model_module_version": "2.0.0",
      "model_name": "LayoutModel",
      "state": {}
     },
     "5746ba4b3e184c219ec3b21f7a08db5c": {
      "model_module": "@jupyter-widgets/controls",
      "model_module_version": "2.0.0",
      "model_name": "HBoxModel",
      "state": {
       "children": [
        "IPY_MODEL_c63153668ded41dfacb0dfb218fb8965",
        "IPY_MODEL_1f450019e4ee45ce9d9ff94cd684e7ee",
        "IPY_MODEL_4124c81c5a164dee9e4dc97c5658d52f"
       ],
       "layout": "IPY_MODEL_0fd1c1e18f4942309dd851982f0f39ff"
      }
     },
     "576279a757074d01a5c6a4622683dbbe": {
      "model_module": "@jupyter-widgets/controls",
      "model_module_version": "2.0.0",
      "model_name": "FloatProgressModel",
      "state": {
       "bar_style": "success",
       "layout": "IPY_MODEL_7822dd8e46cc4938ac505fa0a0ccb355",
       "max": 582,
       "style": "IPY_MODEL_542f9759be1f497dbed95969751fc71e",
       "value": 582
      }
     },
     "57d521c2b1ee45f0b8cb70b351f57f57": {
      "model_module": "@jupyter-widgets/controls",
      "model_module_version": "2.0.0",
      "model_name": "HBoxModel",
      "state": {
       "children": [
        "IPY_MODEL_ea93047ccaec4aa78c35350e6194f14e",
        "IPY_MODEL_be4e95ad75ba4e20b09150c70058f453",
        "IPY_MODEL_9fb3265ed4094463b3a6a82551de1e8a"
       ],
       "layout": "IPY_MODEL_b64d9a81e993414a9b22d8db5c4421f0"
      }
     },
     "580892e812e94e579ab3355df7802a2d": {
      "model_module": "@jupyter-widgets/controls",
      "model_module_version": "2.0.0",
      "model_name": "ProgressStyleModel",
      "state": {
       "description_width": ""
      }
     },
     "5823f1dc85f742cabe7ec2eb7615d696": {
      "model_module": "@jupyter-widgets/base",
      "model_module_version": "2.0.0",
      "model_name": "LayoutModel",
      "state": {}
     },
     "586a0c8a7b484007a4182fd5a8e64255": {
      "model_module": "@jupyter-widgets/base",
      "model_module_version": "2.0.0",
      "model_name": "LayoutModel",
      "state": {}
     },
     "589248fa3cba47079fd18781b801808a": {
      "model_module": "@jupyter-widgets/base",
      "model_module_version": "2.0.0",
      "model_name": "LayoutModel",
      "state": {}
     },
     "58ab8994406f406d91360569d213fabc": {
      "model_module": "@jupyter-widgets/controls",
      "model_module_version": "2.0.0",
      "model_name": "FloatProgressModel",
      "state": {
       "bar_style": "success",
       "layout": "IPY_MODEL_b7a37cf87b074164b3204b728dae2da2",
       "max": 582,
       "style": "IPY_MODEL_e7f1cb7c2cf249308b69b7a22126bf13",
       "value": 582
      }
     },
     "58c2285a466a47be8b6c1f4842a4842c": {
      "model_module": "@jupyter-widgets/controls",
      "model_module_version": "2.0.0",
      "model_name": "FloatProgressModel",
      "state": {
       "bar_style": "success",
       "layout": "IPY_MODEL_06972ea86a0449c8b763ee3dbc087054",
       "max": 507,
       "style": "IPY_MODEL_b1e009ac2988466189b7d13b68673bdc",
       "value": 507
      }
     },
     "58c567dd580f42f8afc975beb30037b4": {
      "model_module": "@jupyter-widgets/controls",
      "model_module_version": "2.0.0",
      "model_name": "ProgressStyleModel",
      "state": {
       "description_width": ""
      }
     },
     "58c9b8c926ce45b6ada9dc518c121ff9": {
      "model_module": "@jupyter-widgets/controls",
      "model_module_version": "2.0.0",
      "model_name": "ProgressStyleModel",
      "state": {
       "description_width": ""
      }
     },
     "59004f0dc09f4869ae75a7835fa2a11c": {
      "model_module": "@jupyter-widgets/base",
      "model_module_version": "2.0.0",
      "model_name": "LayoutModel",
      "state": {}
     },
     "590fa79cc22d4fb5b22f1d4847016f2f": {
      "model_module": "@jupyter-widgets/base",
      "model_module_version": "2.0.0",
      "model_name": "LayoutModel",
      "state": {}
     },
     "592ac5865ebf4787ada8013e9f7c890e": {
      "model_module": "@jupyter-widgets/controls",
      "model_module_version": "2.0.0",
      "model_name": "HTMLModel",
      "state": {
       "layout": "IPY_MODEL_9e9f7ae6eb0b445aa0186600dbb870d9",
       "style": "IPY_MODEL_3f53261f314a4f45b8f6824437b249d3",
       "value": "100%"
      }
     },
     "59354d928d9649b4a7febdcd14c624d2": {
      "model_module": "@jupyter-widgets/base",
      "model_module_version": "2.0.0",
      "model_name": "LayoutModel",
      "state": {}
     },
     "598b6a24bf3845f7a6f2dcaf1e40bb50": {
      "model_module": "@jupyter-widgets/base",
      "model_module_version": "2.0.0",
      "model_name": "LayoutModel",
      "state": {}
     },
     "59a139139d5e468782cab07ebc401cf4": {
      "model_module": "@jupyter-widgets/controls",
      "model_module_version": "2.0.0",
      "model_name": "ProgressStyleModel",
      "state": {
       "description_width": ""
      }
     },
     "59b41e1de37b4c769629f3dec4d203ac": {
      "model_module": "@jupyter-widgets/controls",
      "model_module_version": "2.0.0",
      "model_name": "FloatProgressModel",
      "state": {
       "bar_style": "success",
       "layout": "IPY_MODEL_535aa3bf1ba74dbf8a222b0caf7822d1",
       "max": 653,
       "style": "IPY_MODEL_04856f14b1554877a2af238f1fec4ae4",
       "value": 653
      }
     },
     "59b9ddad40ae491a801288d215d8d23e": {
      "model_module": "@jupyter-widgets/controls",
      "model_module_version": "2.0.0",
      "model_name": "HBoxModel",
      "state": {
       "children": [
        "IPY_MODEL_8a9a7354bfe048fbaa1c55bdc025aece",
        "IPY_MODEL_a2901dd4db0f4dadb1cddf919e9f9e72",
        "IPY_MODEL_19423160062345cbb6793ad0479ee4ba"
       ],
       "layout": "IPY_MODEL_89390c8bfd734f3c8a8bedf1e3c0d413"
      }
     },
     "5a424caf15884f91b50617c787b2e52d": {
      "model_module": "@jupyter-widgets/controls",
      "model_module_version": "2.0.0",
      "model_name": "HTMLModel",
      "state": {
       "layout": "IPY_MODEL_eddaa41e9bb042cabee5d8b8cb6b357f",
       "style": "IPY_MODEL_2baa06da999c49e4a24be65f4d61cfbd",
       "value": "100%"
      }
     },
     "5a4e23f556ac4288b6cc0e7a62c2db5a": {
      "model_module": "@jupyter-widgets/base",
      "model_module_version": "2.0.0",
      "model_name": "LayoutModel",
      "state": {}
     },
     "5a895731016e4142a73335f55f222448": {
      "model_module": "@jupyter-widgets/base",
      "model_module_version": "2.0.0",
      "model_name": "LayoutModel",
      "state": {}
     },
     "5a8cef754db44beab09baefd1eda155f": {
      "model_module": "@jupyter-widgets/base",
      "model_module_version": "2.0.0",
      "model_name": "LayoutModel",
      "state": {}
     },
     "5aa50610418a44bbac56205969899727": {
      "model_module": "@jupyter-widgets/controls",
      "model_module_version": "2.0.0",
      "model_name": "HTMLModel",
      "state": {
       "layout": "IPY_MODEL_12c659a82e6b4f089642b4fa07eccddf",
       "style": "IPY_MODEL_0f4a90827dc248a3bb29715122947e7a",
       "value": " 480/480 [00:10&lt;00:00, 45.41it/s]"
      }
     },
     "5ab6e1865a3344c79be5876d599cb7fa": {
      "model_module": "@jupyter-widgets/base",
      "model_module_version": "2.0.0",
      "model_name": "LayoutModel",
      "state": {}
     },
     "5ace0e7a29a84f6eb87611ac4301a634": {
      "model_module": "@jupyter-widgets/controls",
      "model_module_version": "2.0.0",
      "model_name": "HBoxModel",
      "state": {
       "children": [
        "IPY_MODEL_114cbad249a24d7aba93c4a6fdfccef9",
        "IPY_MODEL_a656340dadba450b8aff1688d7eb0d32",
        "IPY_MODEL_b1128ef09c81411ba3c7a9c9415ee3b0"
       ],
       "layout": "IPY_MODEL_90b18794b0424ff79a280ae0b8731553"
      }
     },
     "5af114a229ab46358f28b38e036a6406": {
      "model_module": "@jupyter-widgets/base",
      "model_module_version": "2.0.0",
      "model_name": "LayoutModel",
      "state": {}
     },
     "5b06fa87886e4af2ad4cf2ac5a1d7829": {
      "model_module": "@jupyter-widgets/base",
      "model_module_version": "2.0.0",
      "model_name": "LayoutModel",
      "state": {}
     },
     "5b3458dd18c64f4080e95cc725c1c1fd": {
      "model_module": "@jupyter-widgets/controls",
      "model_module_version": "2.0.0",
      "model_name": "FloatProgressModel",
      "state": {
       "bar_style": "success",
       "layout": "IPY_MODEL_72eaab1212c14d368029e38ba96f2f96",
       "max": 625,
       "style": "IPY_MODEL_f0c9c773a9284e14a63387a8ea0c9705",
       "value": 625
      }
     },
     "5b4b460d640e4f599c4bb93150ca6ca5": {
      "model_module": "@jupyter-widgets/base",
      "model_module_version": "2.0.0",
      "model_name": "LayoutModel",
      "state": {}
     },
     "5b518aae17c247a399e1352df78e1395": {
      "model_module": "@jupyter-widgets/base",
      "model_module_version": "2.0.0",
      "model_name": "LayoutModel",
      "state": {}
     },
     "5bb4033fd79c499fb89a53fbbfe8fd11": {
      "model_module": "@jupyter-widgets/base",
      "model_module_version": "2.0.0",
      "model_name": "LayoutModel",
      "state": {}
     },
     "5c5f0e7fade648baaed40e57df8fa42b": {
      "model_module": "@jupyter-widgets/controls",
      "model_module_version": "2.0.0",
      "model_name": "HTMLStyleModel",
      "state": {
       "description_width": "",
       "font_size": null,
       "text_color": null
      }
     },
     "5c68ae636511403b93d1705b0ab5933c": {
      "model_module": "@jupyter-widgets/base",
      "model_module_version": "2.0.0",
      "model_name": "LayoutModel",
      "state": {}
     },
     "5c6bfac1ba0244d78cd220fe75881808": {
      "model_module": "@jupyter-widgets/base",
      "model_module_version": "2.0.0",
      "model_name": "LayoutModel",
      "state": {}
     },
     "5c72017059d24ac0a103781893045807": {
      "model_module": "@jupyter-widgets/controls",
      "model_module_version": "2.0.0",
      "model_name": "FloatProgressModel",
      "state": {
       "bar_style": "success",
       "layout": "IPY_MODEL_7eaaf162c94742a689633f97c66f430a",
       "max": 582,
       "style": "IPY_MODEL_754af087fcca4494a87885a1eb9e8eba",
       "value": 582
      }
     },
     "5c7a6bb9362a4f82ba28641399da13ca": {
      "model_module": "@jupyter-widgets/base",
      "model_module_version": "2.0.0",
      "model_name": "LayoutModel",
      "state": {}
     },
     "5c8e740c3436469bb6462cdc604ceb94": {
      "model_module": "@jupyter-widgets/controls",
      "model_module_version": "2.0.0",
      "model_name": "HBoxModel",
      "state": {
       "children": [
        "IPY_MODEL_ede3aa40fac94e51a0a17aa0b885b0c9",
        "IPY_MODEL_59b41e1de37b4c769629f3dec4d203ac",
        "IPY_MODEL_2099da5f8715424982ff72d06041a24a"
       ],
       "layout": "IPY_MODEL_839ab11a92b94906aac70d1a2b323133"
      }
     },
     "5cad13541bd64e6ca9fd26622c1de7c2": {
      "model_module": "@jupyter-widgets/base",
      "model_module_version": "2.0.0",
      "model_name": "LayoutModel",
      "state": {}
     },
     "5cc27777a8fd4049ab765f6b7596cf33": {
      "model_module": "@jupyter-widgets/base",
      "model_module_version": "2.0.0",
      "model_name": "LayoutModel",
      "state": {}
     },
     "5d173ff65fb44618a8d6ed6c0dc7bc87": {
      "model_module": "@jupyter-widgets/controls",
      "model_module_version": "2.0.0",
      "model_name": "HTMLStyleModel",
      "state": {
       "description_width": "",
       "font_size": null,
       "text_color": null
      }
     },
     "5d6dcf47c67e400689dd7114c7436638": {
      "model_module": "@jupyter-widgets/controls",
      "model_module_version": "2.0.0",
      "model_name": "HTMLStyleModel",
      "state": {
       "description_width": "",
       "font_size": null,
       "text_color": null
      }
     },
     "5db5bf78aa864d6f9b8264536ef22f3e": {
      "model_module": "@jupyter-widgets/base",
      "model_module_version": "2.0.0",
      "model_name": "LayoutModel",
      "state": {}
     },
     "5dbec5b6336442febef3497bb8703d25": {
      "model_module": "@jupyter-widgets/controls",
      "model_module_version": "2.0.0",
      "model_name": "ProgressStyleModel",
      "state": {
       "description_width": ""
      }
     },
     "5dd44c84630f44e4844b8252e6130b2a": {
      "model_module": "@jupyter-widgets/base",
      "model_module_version": "2.0.0",
      "model_name": "LayoutModel",
      "state": {}
     },
     "5e20ab213d3f410485a37e25695d446e": {
      "model_module": "@jupyter-widgets/base",
      "model_module_version": "2.0.0",
      "model_name": "LayoutModel",
      "state": {}
     },
     "5e48f46cba534aa8a04d6373797df577": {
      "model_module": "@jupyter-widgets/controls",
      "model_module_version": "2.0.0",
      "model_name": "FloatProgressModel",
      "state": {
       "bar_style": "success",
       "layout": "IPY_MODEL_f328224a280d429694cfe9f379db6885",
       "max": 582,
       "style": "IPY_MODEL_90ae05257df34aef915eee8bf01ddd97",
       "value": 582
      }
     },
     "5e8c3d2ff59249adb8ff76146be7b502": {
      "model_module": "@jupyter-widgets/base",
      "model_module_version": "2.0.0",
      "model_name": "LayoutModel",
      "state": {}
     },
     "5e9182db45f04286a8618cca38692647": {
      "model_module": "@jupyter-widgets/controls",
      "model_module_version": "2.0.0",
      "model_name": "HTMLModel",
      "state": {
       "layout": "IPY_MODEL_18c316a88ae844fbb1a839df660f1e20",
       "style": "IPY_MODEL_9147ad5a8d3b4a63a4bab94c8e528ed4",
       "value": " 450/450 [00:10&lt;00:00, 45.43it/s]"
      }
     },
     "5ea19adff4c54e708209b307b7f14195": {
      "model_module": "@jupyter-widgets/base",
      "model_module_version": "2.0.0",
      "model_name": "LayoutModel",
      "state": {}
     },
     "5edd199cfe40479287642af2bd785439": {
      "model_module": "@jupyter-widgets/controls",
      "model_module_version": "2.0.0",
      "model_name": "HTMLModel",
      "state": {
       "layout": "IPY_MODEL_ca78ac2120af4751981da70287551a69",
       "style": "IPY_MODEL_af6c6054e4b64e80ba8a540630f06bd1",
       "value": " 118/118 [00:30&lt;00:00,  3.57it/s]"
      }
     },
     "5f0ff76956874d5fbc80bd3fab74fe8b": {
      "model_module": "@jupyter-widgets/base",
      "model_module_version": "2.0.0",
      "model_name": "LayoutModel",
      "state": {}
     },
     "5f299532f1fd4bfa9868a260bb53f4fe": {
      "model_module": "@jupyter-widgets/controls",
      "model_module_version": "2.0.0",
      "model_name": "FloatProgressModel",
      "state": {
       "bar_style": "danger",
       "layout": "IPY_MODEL_879fa293603b4adea0c30613a2ed90c7",
       "max": 118,
       "style": "IPY_MODEL_ba2d4cf6d2a140aaae4b73553859f0d2",
       "value": 24
      }
     },
     "5f35ce86e5054b38823e87ef60267406": {
      "model_module": "@jupyter-widgets/base",
      "model_module_version": "2.0.0",
      "model_name": "LayoutModel",
      "state": {}
     },
     "5f4204151dc54507911c4461665a5c1c": {
      "model_module": "@jupyter-widgets/controls",
      "model_module_version": "2.0.0",
      "model_name": "ProgressStyleModel",
      "state": {
       "description_width": ""
      }
     },
     "5f4b73b670b748cebe2e11c9b3e70a25": {
      "model_module": "@jupyter-widgets/controls",
      "model_module_version": "2.0.0",
      "model_name": "HBoxModel",
      "state": {
       "children": [
        "IPY_MODEL_87eda30a05104b098551813a41a95e73",
        "IPY_MODEL_db669adeb1b545ee884d8fc650c05e96",
        "IPY_MODEL_c9ca1f11baf043cb9181b6a6cfae53d1"
       ],
       "layout": "IPY_MODEL_f0494f23795741c6803a1ad65d8989c3"
      }
     },
     "5fbeb3be39f444baa83b5c8d760d821f": {
      "model_module": "@jupyter-widgets/controls",
      "model_module_version": "2.0.0",
      "model_name": "HBoxModel",
      "state": {
       "children": [
        "IPY_MODEL_2bc38040ae424874b401f24814d6cf20",
        "IPY_MODEL_2d1c18a9dc3646c7a04eb84bb6c4c763",
        "IPY_MODEL_2ed4b426b4b84598a9c8ceace8bb995e"
       ],
       "layout": "IPY_MODEL_2567aec01ec14477bf9402ebe15a5fa9"
      }
     },
     "5ff3135bfd8348d0a4ffa0e03800588d": {
      "model_module": "@jupyter-widgets/controls",
      "model_module_version": "2.0.0",
      "model_name": "HBoxModel",
      "state": {
       "children": [
        "IPY_MODEL_d04e3b725f8e41fe8a851015ce6c5e83",
        "IPY_MODEL_b04e72d49cfa4cafa6038f10bc3ca77f",
        "IPY_MODEL_4a7a8fbea444442fa1d50966645f37f5"
       ],
       "layout": "IPY_MODEL_e0280df540504e38921cfc87d3a9ca8e"
      }
     },
     "5ffecfcf795b479f844958cf5f664fe2": {
      "model_module": "@jupyter-widgets/controls",
      "model_module_version": "2.0.0",
      "model_name": "HTMLStyleModel",
      "state": {
       "description_width": "",
       "font_size": null,
       "text_color": null
      }
     },
     "60366fed0bbe415aa0fee1bdaa1fec26": {
      "model_module": "@jupyter-widgets/base",
      "model_module_version": "2.0.0",
      "model_name": "LayoutModel",
      "state": {}
     },
     "603d3dd23cb44a9d962fabeae0f0322c": {
      "model_module": "@jupyter-widgets/controls",
      "model_module_version": "2.0.0",
      "model_name": "ProgressStyleModel",
      "state": {
       "description_width": ""
      }
     },
     "603f7b8329e3421b85ac884a300cd570": {
      "model_module": "@jupyter-widgets/controls",
      "model_module_version": "2.0.0",
      "model_name": "HTMLModel",
      "state": {
       "layout": "IPY_MODEL_a1216090c3f0420cb35348f226effe7e",
       "style": "IPY_MODEL_8501e9e0532c4025b4dcd27516755e91",
       "value": "100%"
      }
     },
     "6045f4eb5aad4067bef8752c32bb67cf": {
      "model_module": "@jupyter-widgets/controls",
      "model_module_version": "2.0.0",
      "model_name": "HTMLStyleModel",
      "state": {
       "description_width": "",
       "font_size": null,
       "text_color": null
      }
     },
     "6050e488f07b434d9a1c4785e95254f4": {
      "model_module": "@jupyter-widgets/base",
      "model_module_version": "2.0.0",
      "model_name": "LayoutModel",
      "state": {}
     },
     "608b4e5356a940108f8a761ba77149cb": {
      "model_module": "@jupyter-widgets/controls",
      "model_module_version": "2.0.0",
      "model_name": "HBoxModel",
      "state": {
       "children": [
        "IPY_MODEL_727142ae0bf64ecdb36588b96954ebde",
        "IPY_MODEL_d18e52196b39419bbd8fb5ceafd80afb",
        "IPY_MODEL_538811dc1db041009078c2983d4fb3f5"
       ],
       "layout": "IPY_MODEL_c70cefc391c941b0acdfbab2b4cdd90e"
      }
     },
     "60b5a758d43a46e38c32f8dcfdf89a87": {
      "model_module": "@jupyter-widgets/controls",
      "model_module_version": "2.0.0",
      "model_name": "FloatProgressModel",
      "state": {
       "bar_style": "success",
       "layout": "IPY_MODEL_cafcd08027d44053befebed7394e3472",
       "max": 642,
       "style": "IPY_MODEL_d8bdde362a3b4858a62bff4121384200",
       "value": 642
      }
     },
     "60b96eac710f418c88f9612b15f7ef21": {
      "model_module": "@jupyter-widgets/base",
      "model_module_version": "2.0.0",
      "model_name": "LayoutModel",
      "state": {}
     },
     "60d8b36e0792486dab3d227785bb9787": {
      "model_module": "@jupyter-widgets/controls",
      "model_module_version": "2.0.0",
      "model_name": "HTMLModel",
      "state": {
       "layout": "IPY_MODEL_4107eb2b5bc14ab48f2039d06c928b55",
       "style": "IPY_MODEL_30b28a07c10f4ab4b9f55113c9d53e5a",
       "value": " 650/650 [00:14&lt;00:00, 44.95it/s]"
      }
     },
     "60e63826b15f4d1cb182e3f6f40286f4": {
      "model_module": "@jupyter-widgets/base",
      "model_module_version": "2.0.0",
      "model_name": "LayoutModel",
      "state": {}
     },
     "6101f244a74d479a96fb0a808bf39ecb": {
      "model_module": "@jupyter-widgets/base",
      "model_module_version": "2.0.0",
      "model_name": "LayoutModel",
      "state": {}
     },
     "611dafec43834f2f8c6928b35bdcff1e": {
      "model_module": "@jupyter-widgets/controls",
      "model_module_version": "2.0.0",
      "model_name": "HTMLModel",
      "state": {
       "layout": "IPY_MODEL_2b8c6fd81c3c47019b389a4ba16f00e7",
       "style": "IPY_MODEL_6ee64ba9558d4fa4bcf53261327b0b3c",
       "value": "  0%"
      }
     },
     "616e3d8ac06c4826bef27d337a20c7e6": {
      "model_module": "@jupyter-widgets/controls",
      "model_module_version": "2.0.0",
      "model_name": "HBoxModel",
      "state": {
       "children": [
        "IPY_MODEL_d78b398ef205497aa664128f7865e124",
        "IPY_MODEL_4b38f1d5140943159d0b1a4e27996cdc",
        "IPY_MODEL_c3f3dc471e6043c899731cac63d5b310"
       ],
       "layout": "IPY_MODEL_42a8db0b0afd433a93f573c8e547ef77"
      }
     },
     "61721cc122834861a63902c334f0a106": {
      "model_module": "@jupyter-widgets/controls",
      "model_module_version": "2.0.0",
      "model_name": "HTMLStyleModel",
      "state": {
       "description_width": "",
       "font_size": null,
       "text_color": null
      }
     },
     "61fc240a2c75408e9f4e352912b632a3": {
      "model_module": "@jupyter-widgets/controls",
      "model_module_version": "2.0.0",
      "model_name": "HTMLStyleModel",
      "state": {
       "description_width": "",
       "font_size": null,
       "text_color": null
      }
     },
     "61fd9a9f76df4eec8ca890c332cac119": {
      "model_module": "@jupyter-widgets/base",
      "model_module_version": "2.0.0",
      "model_name": "LayoutModel",
      "state": {}
     },
     "6254072e367d429994adb1daf558e40b": {
      "model_module": "@jupyter-widgets/controls",
      "model_module_version": "2.0.0",
      "model_name": "ProgressStyleModel",
      "state": {
       "description_width": ""
      }
     },
     "625d749f62df413aa08894161b3dcaf1": {
      "model_module": "@jupyter-widgets/controls",
      "model_module_version": "2.0.0",
      "model_name": "HTMLStyleModel",
      "state": {
       "description_width": "",
       "font_size": null,
       "text_color": null
      }
     },
     "625fe6018b2d444dbf3510464cfc24fe": {
      "model_module": "@jupyter-widgets/base",
      "model_module_version": "2.0.0",
      "model_name": "LayoutModel",
      "state": {}
     },
     "62bc1ca46a004936b93cc6f41eaac394": {
      "model_module": "@jupyter-widgets/controls",
      "model_module_version": "2.0.0",
      "model_name": "HTMLStyleModel",
      "state": {
       "description_width": "",
       "font_size": null,
       "text_color": null
      }
     },
     "62bd2debd4154bde903b17855890e219": {
      "model_module": "@jupyter-widgets/controls",
      "model_module_version": "2.0.0",
      "model_name": "HTMLModel",
      "state": {
       "layout": "IPY_MODEL_97625e19408e42dd8fea36678f2c2860",
       "style": "IPY_MODEL_d58001b04fce432fac55f58711378fd5",
       "value": "100%"
      }
     },
     "6302daad75d8473bb8f7f1cfbc917ede": {
      "model_module": "@jupyter-widgets/controls",
      "model_module_version": "2.0.0",
      "model_name": "HTMLModel",
      "state": {
       "layout": "IPY_MODEL_addc93fb179841bba284dba4e039ce0f",
       "style": "IPY_MODEL_019aa0840290487ba1f62f4960b1d534",
       "value": "100%"
      }
     },
     "643f2ac0ef3a4a6c843b3f54c0bcf3e0": {
      "model_module": "@jupyter-widgets/controls",
      "model_module_version": "2.0.0",
      "model_name": "HTMLStyleModel",
      "state": {
       "description_width": "",
       "font_size": null,
       "text_color": null
      }
     },
     "644271edecba4be2b88aa19137afb8da": {
      "model_module": "@jupyter-widgets/controls",
      "model_module_version": "2.0.0",
      "model_name": "HTMLModel",
      "state": {
       "layout": "IPY_MODEL_204ad18b14b64a27b23c49516d47ba98",
       "style": "IPY_MODEL_c5090ec95dd14898a83c574c5ee83ea9",
       "value": "100%"
      }
     },
     "645815bd23f049e19cd17dc96a06d65e": {
      "model_module": "@jupyter-widgets/controls",
      "model_module_version": "2.0.0",
      "model_name": "HBoxModel",
      "state": {
       "children": [
        "IPY_MODEL_53944a1486e146c2856fb56d1c8056cf",
        "IPY_MODEL_185de646882843c0a7a94847c843bdb3",
        "IPY_MODEL_f0d6dc7f276f483091b7c8a02fe699d2"
       ],
       "layout": "IPY_MODEL_d7659a6b886b4d1283b4ad1db069b77e"
      }
     },
     "648cd24bb03b4c3a9aee6ac46f55fb96": {
      "model_module": "@jupyter-widgets/base",
      "model_module_version": "2.0.0",
      "model_name": "LayoutModel",
      "state": {}
     },
     "64e23aa03a8842d38b3c5d1cd4d4d261": {
      "model_module": "@jupyter-widgets/controls",
      "model_module_version": "2.0.0",
      "model_name": "HTMLStyleModel",
      "state": {
       "description_width": "",
       "font_size": null,
       "text_color": null
      }
     },
     "65039c6928474bc0b0235b783a0e1f0b": {
      "model_module": "@jupyter-widgets/controls",
      "model_module_version": "2.0.0",
      "model_name": "FloatProgressModel",
      "state": {
       "bar_style": "success",
       "layout": "IPY_MODEL_6bfd3e61d934485093392708bb6a34e9",
       "max": 625,
       "style": "IPY_MODEL_85838fdfa5bf4109b1cc1e86ff886d88",
       "value": 625
      }
     },
     "65c3fe3fb77942e481cfab4f83b1e620": {
      "model_module": "@jupyter-widgets/controls",
      "model_module_version": "2.0.0",
      "model_name": "ProgressStyleModel",
      "state": {
       "description_width": ""
      }
     },
     "65ecfbc35cd04372af1b5e5b294c6796": {
      "model_module": "@jupyter-widgets/controls",
      "model_module_version": "2.0.0",
      "model_name": "HTMLStyleModel",
      "state": {
       "description_width": "",
       "font_size": null,
       "text_color": null
      }
     },
     "6641965b53964d499f626b055b5be542": {
      "model_module": "@jupyter-widgets/controls",
      "model_module_version": "2.0.0",
      "model_name": "ProgressStyleModel",
      "state": {
       "description_width": ""
      }
     },
     "6664436826a24f6eac97a860c7b8b9f6": {
      "model_module": "@jupyter-widgets/controls",
      "model_module_version": "2.0.0",
      "model_name": "HBoxModel",
      "state": {
       "children": [
        "IPY_MODEL_8a1968dacbbb477b9e6f71661602ae1d",
        "IPY_MODEL_d8237fc49b6c47c8b204b51985593ab3",
        "IPY_MODEL_322fd4a42f8b45d38ac9d5c91775efc8"
       ],
       "layout": "IPY_MODEL_ba1e0ea62b324a30b797f05420d423a0"
      }
     },
     "66a839bb18604cb4ac4aa8a6898fbb99": {
      "model_module": "@jupyter-widgets/controls",
      "model_module_version": "2.0.0",
      "model_name": "ProgressStyleModel",
      "state": {
       "description_width": ""
      }
     },
     "66afb7ea5d1548bd95ab8cb203988780": {
      "model_module": "@jupyter-widgets/controls",
      "model_module_version": "2.0.0",
      "model_name": "HTMLStyleModel",
      "state": {
       "description_width": "",
       "font_size": null,
       "text_color": null
      }
     },
     "66e7fccf901d41849931042a2a12ef6c": {
      "model_module": "@jupyter-widgets/controls",
      "model_module_version": "2.0.0",
      "model_name": "HTMLModel",
      "state": {
       "layout": "IPY_MODEL_30d1f03de7c7455b8d6b32465a3974f7",
       "style": "IPY_MODEL_4bc63bee7b3e4e19b5b2b4f02b88f930",
       "value": " 631/631 [00:14&lt;00:00, 45.23it/s]"
      }
     },
     "66f28531d5594c5091a2b002907dde17": {
      "model_module": "@jupyter-widgets/controls",
      "model_module_version": "2.0.0",
      "model_name": "HTMLModel",
      "state": {
       "layout": "IPY_MODEL_8160697f344e45b68aaac2cd5786946a",
       "style": "IPY_MODEL_4e48b3d4caf3427ea5f25ed7938f8e95",
       "value": "100%"
      }
     },
     "676b632df10446cd85062aa753a495a1": {
      "model_module": "@jupyter-widgets/base",
      "model_module_version": "2.0.0",
      "model_name": "LayoutModel",
      "state": {}
     },
     "67860ed1b0e94d4191aa86f053b1db76": {
      "model_module": "@jupyter-widgets/base",
      "model_module_version": "2.0.0",
      "model_name": "LayoutModel",
      "state": {}
     },
     "678f4f41817d4b48a0a627f41dea775c": {
      "model_module": "@jupyter-widgets/controls",
      "model_module_version": "2.0.0",
      "model_name": "FloatProgressModel",
      "state": {
       "bar_style": "success",
       "layout": "IPY_MODEL_6d2303cbc75e4ae0989edfa97f84bd66",
       "max": 118,
       "style": "IPY_MODEL_1e8e0bb1b2744cbfb79588d4127858b1",
       "value": 118
      }
     },
     "67e4527c629d45d5bcaaabe3274c31bb": {
      "model_module": "@jupyter-widgets/controls",
      "model_module_version": "2.0.0",
      "model_name": "HTMLModel",
      "state": {
       "layout": "IPY_MODEL_3a9474da16b743a4bd11edaabca28fe3",
       "style": "IPY_MODEL_4dd6ac900cdd4663a4c23190bc9f20e3",
       "value": "100%"
      }
     },
     "67ebe16822f44773883977bf328e2aeb": {
      "model_module": "@jupyter-widgets/controls",
      "model_module_version": "2.0.0",
      "model_name": "HTMLModel",
      "state": {
       "layout": "IPY_MODEL_ef82226bb45c490b9e1883216e566256",
       "style": "IPY_MODEL_8c9d8a084d6b469c93961368034f4c42",
       "value": "100%"
      }
     },
     "68501fcfc221499f9a9af518045330af": {
      "model_module": "@jupyter-widgets/base",
      "model_module_version": "2.0.0",
      "model_name": "LayoutModel",
      "state": {}
     },
     "687069c643a346fc87e50e7e50b42f68": {
      "model_module": "@jupyter-widgets/controls",
      "model_module_version": "2.0.0",
      "model_name": "HTMLStyleModel",
      "state": {
       "description_width": "",
       "font_size": null,
       "text_color": null
      }
     },
     "687c823dc4cd437ea55ae53595222bc8": {
      "model_module": "@jupyter-widgets/base",
      "model_module_version": "2.0.0",
      "model_name": "LayoutModel",
      "state": {}
     },
     "6891903324164cfda7299dbf952b5c8a": {
      "model_module": "@jupyter-widgets/controls",
      "model_module_version": "2.0.0",
      "model_name": "HTMLModel",
      "state": {
       "layout": "IPY_MODEL_dd227e712d60482183b495c59503a3f1",
       "style": "IPY_MODEL_0f3077004baf4da09d3385c02542ab48",
       "value": " 582/582 [00:12&lt;00:00, 48.16it/s]"
      }
     },
     "68eddd5381ed4a6c9c3baf63a4c4fe2b": {
      "model_module": "@jupyter-widgets/base",
      "model_module_version": "2.0.0",
      "model_name": "LayoutModel",
      "state": {}
     },
     "68f88f84ccaa4fce96bed50038a21d1c": {
      "model_module": "@jupyter-widgets/controls",
      "model_module_version": "2.0.0",
      "model_name": "HTMLStyleModel",
      "state": {
       "description_width": "",
       "font_size": null,
       "text_color": null
      }
     },
     "697b5395b1d947d6911f47b996d22f30": {
      "model_module": "@jupyter-widgets/controls",
      "model_module_version": "2.0.0",
      "model_name": "FloatProgressModel",
      "state": {
       "bar_style": "success",
       "layout": "IPY_MODEL_1b3481a5d418474b948c7e0ac590458f",
       "max": 118,
       "style": "IPY_MODEL_b674a672e22f4492865867671fd95c05",
       "value": 118
      }
     },
     "69d13c0d772c42bdbe8deb601fa0ef77": {
      "model_module": "@jupyter-widgets/base",
      "model_module_version": "2.0.0",
      "model_name": "LayoutModel",
      "state": {}
     },
     "6a68d265e42942bb92a7a4b6ed2720eb": {
      "model_module": "@jupyter-widgets/controls",
      "model_module_version": "2.0.0",
      "model_name": "HTMLModel",
      "state": {
       "layout": "IPY_MODEL_97b1ac6e1f7c453fb3213663b65ad99f",
       "style": "IPY_MODEL_e27fdd99bf73417e8ccd3ccb479bbd34",
       "value": " 588/588 [00:13&lt;00:00, 45.38it/s]"
      }
     },
     "6a6d756c78bc482baa4d20ee63dfc7c3": {
      "model_module": "@jupyter-widgets/controls",
      "model_module_version": "2.0.0",
      "model_name": "HTMLModel",
      "state": {
       "layout": "IPY_MODEL_d8df6a5e18a54d22a70a53b0897952fb",
       "style": "IPY_MODEL_d25af5a0040b493b99d5321f90de948c",
       "value": " 642/642 [00:14&lt;00:00, 45.02it/s]"
      }
     },
     "6a98b3b068f14d19b783debe07b71e42": {
      "model_module": "@jupyter-widgets/controls",
      "model_module_version": "2.0.0",
      "model_name": "HTMLStyleModel",
      "state": {
       "description_width": "",
       "font_size": null,
       "text_color": null
      }
     },
     "6ad3cecf4cfe4d12a5b680fd3ab98f57": {
      "model_module": "@jupyter-widgets/base",
      "model_module_version": "2.0.0",
      "model_name": "LayoutModel",
      "state": {}
     },
     "6af7a4484874441d8cfd4250c1604ac1": {
      "model_module": "@jupyter-widgets/base",
      "model_module_version": "2.0.0",
      "model_name": "LayoutModel",
      "state": {}
     },
     "6afd54ca0d3241ccbad6f6c627ba97b7": {
      "model_module": "@jupyter-widgets/controls",
      "model_module_version": "2.0.0",
      "model_name": "HTMLStyleModel",
      "state": {
       "description_width": "",
       "font_size": null,
       "text_color": null
      }
     },
     "6b0fad6381584713927780e2c7584ff2": {
      "model_module": "@jupyter-widgets/controls",
      "model_module_version": "2.0.0",
      "model_name": "HBoxModel",
      "state": {
       "children": [
        "IPY_MODEL_76d67ba51c4b4b559153b919f537525d",
        "IPY_MODEL_eb7ebc0ac2e4414bb0e5df43828946fe",
        "IPY_MODEL_0fbcb5e1da5a4017a004ce2bdbf8b07f"
       ],
       "layout": "IPY_MODEL_0db6e00138b248c59555974361041ac3"
      }
     },
     "6b38552e76004a9ab0a9c2a82b1b663c": {
      "model_module": "@jupyter-widgets/base",
      "model_module_version": "2.0.0",
      "model_name": "LayoutModel",
      "state": {}
     },
     "6b88b08363244e4a8d020be33d6282ad": {
      "model_module": "@jupyter-widgets/controls",
      "model_module_version": "2.0.0",
      "model_name": "HTMLStyleModel",
      "state": {
       "description_width": "",
       "font_size": null,
       "text_color": null
      }
     },
     "6b8d75c01dc8444798f03319b314fc77": {
      "model_module": "@jupyter-widgets/controls",
      "model_module_version": "2.0.0",
      "model_name": "ProgressStyleModel",
      "state": {
       "description_width": ""
      }
     },
     "6bc1367bf6834fd1925d87fb6edca629": {
      "model_module": "@jupyter-widgets/controls",
      "model_module_version": "2.0.0",
      "model_name": "FloatProgressModel",
      "state": {
       "bar_style": "success",
       "layout": "IPY_MODEL_a824cc75d94545babf4aca718fd22401",
       "max": 681,
       "style": "IPY_MODEL_301d53f644274e69b9d0191fb037a9a1",
       "value": 681
      }
     },
     "6bfd3e61d934485093392708bb6a34e9": {
      "model_module": "@jupyter-widgets/base",
      "model_module_version": "2.0.0",
      "model_name": "LayoutModel",
      "state": {}
     },
     "6c45599d73ad48c1b83b5bfbefe3fe31": {
      "model_module": "@jupyter-widgets/base",
      "model_module_version": "2.0.0",
      "model_name": "LayoutModel",
      "state": {}
     },
     "6c8ccb994d3c47ca990cd459856de102": {
      "model_module": "@jupyter-widgets/controls",
      "model_module_version": "2.0.0",
      "model_name": "HTMLStyleModel",
      "state": {
       "description_width": "",
       "font_size": null,
       "text_color": null
      }
     },
     "6c9d76da31ce4f38a0353dff675569f5": {
      "model_module": "@jupyter-widgets/controls",
      "model_module_version": "2.0.0",
      "model_name": "HTMLModel",
      "state": {
       "layout": "IPY_MODEL_fbad7e9da801410e877a58fa92c2ec58",
       "style": "IPY_MODEL_cdec7e25811746e1bb7d96728e2d64a1",
       "value": "  0%"
      }
     },
     "6c9e1f1ff76146c4b8c69fd3624cce48": {
      "model_module": "@jupyter-widgets/base",
      "model_module_version": "2.0.0",
      "model_name": "LayoutModel",
      "state": {}
     },
     "6ca20e7e52d0487fae09d78632b3ade7": {
      "model_module": "@jupyter-widgets/controls",
      "model_module_version": "2.0.0",
      "model_name": "ProgressStyleModel",
      "state": {
       "description_width": ""
      }
     },
     "6cdb8d2dad074266900c003616ce9a96": {
      "model_module": "@jupyter-widgets/base",
      "model_module_version": "2.0.0",
      "model_name": "LayoutModel",
      "state": {}
     },
     "6ceec306f7bd424bb49f3c554ce514cf": {
      "model_module": "@jupyter-widgets/controls",
      "model_module_version": "2.0.0",
      "model_name": "HTMLModel",
      "state": {
       "layout": "IPY_MODEL_1781d4d1c3964806a9669a7105107a90",
       "style": "IPY_MODEL_941ebfe1ade84f338a98ced65514e1fc",
       "value": " 118/118 [00:35&lt;00:00,  3.39it/s]"
      }
     },
     "6d2303cbc75e4ae0989edfa97f84bd66": {
      "model_module": "@jupyter-widgets/base",
      "model_module_version": "2.0.0",
      "model_name": "LayoutModel",
      "state": {}
     },
     "6d330a56b13c48a08550f2ecc985048a": {
      "model_module": "@jupyter-widgets/controls",
      "model_module_version": "2.0.0",
      "model_name": "FloatProgressModel",
      "state": {
       "bar_style": "success",
       "layout": "IPY_MODEL_8be6054ee9cb41a5b29667f6801c546a",
       "max": 541,
       "style": "IPY_MODEL_72c714e9220647de951b50ed1253527a",
       "value": 541
      }
     },
     "6d3dceb5d3784837a4926220e0e48399": {
      "model_module": "@jupyter-widgets/controls",
      "model_module_version": "2.0.0",
      "model_name": "HTMLStyleModel",
      "state": {
       "description_width": "",
       "font_size": null,
       "text_color": null
      }
     },
     "6d43db56b7a24b97a57d39602d21fb59": {
      "model_module": "@jupyter-widgets/controls",
      "model_module_version": "2.0.0",
      "model_name": "HTMLModel",
      "state": {
       "layout": "IPY_MODEL_cd1bce40301a414bb6aa7a7ef51e801f",
       "style": "IPY_MODEL_28fb1a3e8abc41fda0f4dee3a8c4777d",
       "value": " 507/507 [00:11&lt;00:00, 43.47it/s]"
      }
     },
     "6d78b2a61d114c9ca715d82f694cf0ce": {
      "model_module": "@jupyter-widgets/base",
      "model_module_version": "2.0.0",
      "model_name": "LayoutModel",
      "state": {}
     },
     "6db2f53ec79c4ebaa805f4665b8b4946": {
      "model_module": "@jupyter-widgets/controls",
      "model_module_version": "2.0.0",
      "model_name": "HTMLStyleModel",
      "state": {
       "description_width": "",
       "font_size": null,
       "text_color": null
      }
     },
     "6dc51be4147e4c10af4dc0f63d314339": {
      "model_module": "@jupyter-widgets/controls",
      "model_module_version": "2.0.0",
      "model_name": "HTMLModel",
      "state": {
       "layout": "IPY_MODEL_edcecc0af3094cf082159846856e2a70",
       "style": "IPY_MODEL_c273d4a7161f4d53ab140560aba00940",
       "value": " 720/720 [00:16&lt;00:00, 44.72it/s]"
      }
     },
     "6e6e17cc0f8141329483d08fd36543d8": {
      "model_module": "@jupyter-widgets/controls",
      "model_module_version": "2.0.0",
      "model_name": "HTMLModel",
      "state": {
       "layout": "IPY_MODEL_836587d6e6324506a8709ec4c5804231",
       "style": "IPY_MODEL_747d4c3b4f804b2599c5450588c87795",
       "value": "100%"
      }
     },
     "6e7a89038d4544af9ccf8ef72f6bdcf0": {
      "model_module": "@jupyter-widgets/base",
      "model_module_version": "2.0.0",
      "model_name": "LayoutModel",
      "state": {}
     },
     "6ea7eb3d2a754d3bb48b197ab6c4a47f": {
      "model_module": "@jupyter-widgets/controls",
      "model_module_version": "2.0.0",
      "model_name": "FloatProgressModel",
      "state": {
       "bar_style": "success",
       "layout": "IPY_MODEL_3af45527edbf4e37b1bfa4f2450aaf57",
       "max": 625,
       "style": "IPY_MODEL_3270ddd7bdf34606ab8027dae55b7794",
       "value": 625
      }
     },
     "6eaa828078a44abe9e3b43b21673b2a5": {
      "model_module": "@jupyter-widgets/controls",
      "model_module_version": "2.0.0",
      "model_name": "FloatProgressModel",
      "state": {
       "bar_style": "success",
       "layout": "IPY_MODEL_ce344112985044779f1a1729f1de28f4",
       "max": 405,
       "style": "IPY_MODEL_50b8c31b44264bd68a148585fa4aa0b6",
       "value": 405
      }
     },
     "6ec918bf55ab4dc09ed4ba6a9365942d": {
      "model_module": "@jupyter-widgets/controls",
      "model_module_version": "2.0.0",
      "model_name": "HTMLStyleModel",
      "state": {
       "description_width": "",
       "font_size": null,
       "text_color": null
      }
     },
     "6ee64ba9558d4fa4bcf53261327b0b3c": {
      "model_module": "@jupyter-widgets/controls",
      "model_module_version": "2.0.0",
      "model_name": "HTMLStyleModel",
      "state": {
       "description_width": "",
       "font_size": null,
       "text_color": null
      }
     },
     "6f16616ba25f4979939feb39e84949fe": {
      "model_module": "@jupyter-widgets/controls",
      "model_module_version": "2.0.0",
      "model_name": "HTMLStyleModel",
      "state": {
       "description_width": "",
       "font_size": null,
       "text_color": null
      }
     },
     "6f274aa9171748009a2c43c9a9ea9a4c": {
      "model_module": "@jupyter-widgets/base",
      "model_module_version": "2.0.0",
      "model_name": "LayoutModel",
      "state": {}
     },
     "6f331f887ee6429880b7edabc2d0da49": {
      "model_module": "@jupyter-widgets/controls",
      "model_module_version": "2.0.0",
      "model_name": "HTMLStyleModel",
      "state": {
       "description_width": "",
       "font_size": null,
       "text_color": null
      }
     },
     "6f84103439724878a526604d268080a2": {
      "model_module": "@jupyter-widgets/controls",
      "model_module_version": "2.0.0",
      "model_name": "HTMLStyleModel",
      "state": {
       "description_width": "",
       "font_size": null,
       "text_color": null
      }
     },
     "6fae26a6620e482d8330c55981c382a9": {
      "model_module": "@jupyter-widgets/base",
      "model_module_version": "2.0.0",
      "model_name": "LayoutModel",
      "state": {}
     },
     "6fb9ffb423074a5c8cf94a9e901d4b9d": {
      "model_module": "@jupyter-widgets/base",
      "model_module_version": "2.0.0",
      "model_name": "LayoutModel",
      "state": {}
     },
     "6ffcfdd58ff642f49b01f648835afe6f": {
      "model_module": "@jupyter-widgets/base",
      "model_module_version": "2.0.0",
      "model_name": "LayoutModel",
      "state": {}
     },
     "702db9fba0d041b1bbcdc74b81647ee8": {
      "model_module": "@jupyter-widgets/controls",
      "model_module_version": "2.0.0",
      "model_name": "HTMLModel",
      "state": {
       "layout": "IPY_MODEL_9fb326c7901c47e197d798c643b17c88",
       "style": "IPY_MODEL_7604f1812e12470e95c25264ecdd3db0",
       "value": "100%"
      }
     },
     "702edfc3bb0246ca9dc92406fa8608ae": {
      "model_module": "@jupyter-widgets/base",
      "model_module_version": "2.0.0",
      "model_name": "LayoutModel",
      "state": {}
     },
     "70502ce03b4d4a78ad605a9fab2bd8e3": {
      "model_module": "@jupyter-widgets/controls",
      "model_module_version": "2.0.0",
      "model_name": "HTMLModel",
      "state": {
       "layout": "IPY_MODEL_bc17a80e01c74ce0ada28465700d3c3e",
       "style": "IPY_MODEL_128c75a88b824f85a3062d2c4ba0de02",
       "value": " 118/118 [00:30&lt;00:00,  3.56it/s]"
      }
     },
     "7054ad66405448e29dc6cb21a086e97f": {
      "model_module": "@jupyter-widgets/controls",
      "model_module_version": "2.0.0",
      "model_name": "HTMLModel",
      "state": {
       "layout": "IPY_MODEL_c4145b05fae846fc9c8b6caffdb7f2e6",
       "style": "IPY_MODEL_94192a3ed8114fae96883a9885759d1b",
       "value": "100%"
      }
     },
     "70582b2815b9443780466eff79e6669e": {
      "model_module": "@jupyter-widgets/base",
      "model_module_version": "2.0.0",
      "model_name": "LayoutModel",
      "state": {}
     },
     "7153cbca68884b84b15e232395fb7970": {
      "model_module": "@jupyter-widgets/controls",
      "model_module_version": "2.0.0",
      "model_name": "HTMLStyleModel",
      "state": {
       "description_width": "",
       "font_size": null,
       "text_color": null
      }
     },
     "717c0c5469c84e2da728ca9f89a2b5b2": {
      "model_module": "@jupyter-widgets/controls",
      "model_module_version": "2.0.0",
      "model_name": "HTMLStyleModel",
      "state": {
       "description_width": "",
       "font_size": null,
       "text_color": null
      }
     },
     "71852b32a6b2449a921d8a1211c7ee9e": {
      "model_module": "@jupyter-widgets/controls",
      "model_module_version": "2.0.0",
      "model_name": "HTMLModel",
      "state": {
       "layout": "IPY_MODEL_0b97ba02d99e4858b07f9c72226e8ed8",
       "style": "IPY_MODEL_fca228f4b9f547c1904ba3f7e40926bf",
       "value": "100%"
      }
     },
     "71b31444bf6646f0a1a84bf0464f225a": {
      "model_module": "@jupyter-widgets/controls",
      "model_module_version": "2.0.0",
      "model_name": "HBoxModel",
      "state": {
       "children": [
        "IPY_MODEL_e68280d4ea104de7bb562139de9b60ce",
        "IPY_MODEL_1e3ca74d20f64211a69779a495a89813",
        "IPY_MODEL_0800c03f921d4411bc0034eb03c35122"
       ],
       "layout": "IPY_MODEL_cb3faf3bb1d14cf49355dd9cecc76b1d"
      }
     },
     "71c189e3b9b54f849ece59456e26fa6d": {
      "model_module": "@jupyter-widgets/base",
      "model_module_version": "2.0.0",
      "model_name": "LayoutModel",
      "state": {}
     },
     "71d53e285a6a46de85e849d14f903fa1": {
      "model_module": "@jupyter-widgets/base",
      "model_module_version": "2.0.0",
      "model_name": "LayoutModel",
      "state": {}
     },
     "726cd8d2e62144b78d547d6183088f89": {
      "model_module": "@jupyter-widgets/base",
      "model_module_version": "2.0.0",
      "model_name": "LayoutModel",
      "state": {}
     },
     "727142ae0bf64ecdb36588b96954ebde": {
      "model_module": "@jupyter-widgets/controls",
      "model_module_version": "2.0.0",
      "model_name": "HTMLModel",
      "state": {
       "layout": "IPY_MODEL_129aafc69fb141c996c510e291b351b7",
       "style": "IPY_MODEL_c2cf6f552c5e46dd93e6825e606e93b4",
       "value": "100%"
      }
     },
     "7298fc26ee604804a1a85f1c716fd921": {
      "model_module": "@jupyter-widgets/controls",
      "model_module_version": "2.0.0",
      "model_name": "FloatProgressModel",
      "state": {
       "bar_style": "success",
       "layout": "IPY_MODEL_2c6b810ae96a4907905f819181180fcc",
       "max": 632,
       "style": "IPY_MODEL_877597f5d40044f9a03ece45331ae18c",
       "value": 632
      }
     },
     "72c714e9220647de951b50ed1253527a": {
      "model_module": "@jupyter-widgets/controls",
      "model_module_version": "2.0.0",
      "model_name": "ProgressStyleModel",
      "state": {
       "description_width": ""
      }
     },
     "72eaab1212c14d368029e38ba96f2f96": {
      "model_module": "@jupyter-widgets/base",
      "model_module_version": "2.0.0",
      "model_name": "LayoutModel",
      "state": {}
     },
     "7350bcc89416484a8026dc9a590dc049": {
      "model_module": "@jupyter-widgets/controls",
      "model_module_version": "2.0.0",
      "model_name": "HTMLStyleModel",
      "state": {
       "description_width": "",
       "font_size": null,
       "text_color": null
      }
     },
     "735544e7c6d34cad9d0b46e820e191f5": {
      "model_module": "@jupyter-widgets/base",
      "model_module_version": "2.0.0",
      "model_name": "LayoutModel",
      "state": {}
     },
     "735e3e4e7dfb478e98f981d4617d07a9": {
      "model_module": "@jupyter-widgets/controls",
      "model_module_version": "2.0.0",
      "model_name": "FloatProgressModel",
      "state": {
       "bar_style": "success",
       "layout": "IPY_MODEL_f19b89ffe867424494f22126128f0db3",
       "max": 722,
       "style": "IPY_MODEL_bc9050faf61c4f23b0ce2c92f3784ee5",
       "value": 722
      }
     },
     "738ee80441e44b8fa51e2b1a5da0ea1a": {
      "model_module": "@jupyter-widgets/controls",
      "model_module_version": "2.0.0",
      "model_name": "HTMLStyleModel",
      "state": {
       "description_width": "",
       "font_size": null,
       "text_color": null
      }
     },
     "73af3577ddab4046ad4c114fa4863686": {
      "model_module": "@jupyter-widgets/controls",
      "model_module_version": "2.0.0",
      "model_name": "HBoxModel",
      "state": {
       "children": [
        "IPY_MODEL_b49a3ab93e5c45638b9109d3c902d818",
        "IPY_MODEL_b41e75f67290458cb13037209b6c1b57",
        "IPY_MODEL_4babc2594f3a4ee48b7c530b86666548"
       ],
       "layout": "IPY_MODEL_7ea8e5257e9f44beb09d97b4513ec465"
      }
     },
     "73b7c23bb28d438c94161a05bb8fc397": {
      "model_module": "@jupyter-widgets/controls",
      "model_module_version": "2.0.0",
      "model_name": "HBoxModel",
      "state": {
       "children": [
        "IPY_MODEL_f8101fc2b6254d96879179e5901b2912",
        "IPY_MODEL_2afd9b54c972439eb6c11296dd0a1391",
        "IPY_MODEL_9aec75805e474cf39ec78bc3287be0e4"
       ],
       "layout": "IPY_MODEL_cbe577937feb4356bb6644a4de1b4cb5"
      }
     },
     "73db964ef48e41b3a8bec031b0a94d42": {
      "model_module": "@jupyter-widgets/base",
      "model_module_version": "2.0.0",
      "model_name": "LayoutModel",
      "state": {}
     },
     "73e52b946f57424ea079521c393c06f7": {
      "model_module": "@jupyter-widgets/base",
      "model_module_version": "2.0.0",
      "model_name": "LayoutModel",
      "state": {}
     },
     "747d4c3b4f804b2599c5450588c87795": {
      "model_module": "@jupyter-widgets/controls",
      "model_module_version": "2.0.0",
      "model_name": "HTMLStyleModel",
      "state": {
       "description_width": "",
       "font_size": null,
       "text_color": null
      }
     },
     "748674b4b03c4ddf992556c6383b64f6": {
      "model_module": "@jupyter-widgets/base",
      "model_module_version": "2.0.0",
      "model_name": "LayoutModel",
      "state": {}
     },
     "748ac9acdaee463e8f879f1a80d13d50": {
      "model_module": "@jupyter-widgets/base",
      "model_module_version": "2.0.0",
      "model_name": "LayoutModel",
      "state": {}
     },
     "74faaa64c45546459a312dabf1d2ed2e": {
      "model_module": "@jupyter-widgets/controls",
      "model_module_version": "2.0.0",
      "model_name": "HTMLModel",
      "state": {
       "layout": "IPY_MODEL_855945d64e814611a92dc99d3a80db69",
       "style": "IPY_MODEL_90331f07515740b38b28d378066a822f",
       "value": " 118/118 [00:28&lt;00:00,  3.61it/s]"
      }
     },
     "7519f454bded4d558e67662f9ca185aa": {
      "model_module": "@jupyter-widgets/controls",
      "model_module_version": "2.0.0",
      "model_name": "HTMLModel",
      "state": {
       "layout": "IPY_MODEL_069cb9ed52e546dc8dbaa80a05bde1ef",
       "style": "IPY_MODEL_fc80a9b2e08e41fe82c23ce3cbbd706d",
       "value": " 711/711 [00:16&lt;00:00, 44.14it/s]"
      }
     },
     "751cc452f3644722aceb353ca9e88fa4": {
      "model_module": "@jupyter-widgets/controls",
      "model_module_version": "2.0.0",
      "model_name": "ProgressStyleModel",
      "state": {
       "description_width": ""
      }
     },
     "754af087fcca4494a87885a1eb9e8eba": {
      "model_module": "@jupyter-widgets/controls",
      "model_module_version": "2.0.0",
      "model_name": "ProgressStyleModel",
      "state": {
       "description_width": ""
      }
     },
     "75b3ef2a39864ee6a1cb73f536a7c3fe": {
      "model_module": "@jupyter-widgets/controls",
      "model_module_version": "2.0.0",
      "model_name": "HTMLModel",
      "state": {
       "layout": "IPY_MODEL_ab3e020310694618a24bade165750b35",
       "style": "IPY_MODEL_7350bcc89416484a8026dc9a590dc049",
       "value": "100%"
      }
     },
     "75ca958174864fd584aae10d495809ec": {
      "model_module": "@jupyter-widgets/controls",
      "model_module_version": "2.0.0",
      "model_name": "HTMLStyleModel",
      "state": {
       "description_width": "",
       "font_size": null,
       "text_color": null
      }
     },
     "7604f1812e12470e95c25264ecdd3db0": {
      "model_module": "@jupyter-widgets/controls",
      "model_module_version": "2.0.0",
      "model_name": "HTMLStyleModel",
      "state": {
       "description_width": "",
       "font_size": null,
       "text_color": null
      }
     },
     "761238efde27435eae018522f8f15140": {
      "model_module": "@jupyter-widgets/controls",
      "model_module_version": "2.0.0",
      "model_name": "ProgressStyleModel",
      "state": {
       "description_width": ""
      }
     },
     "76133dd0a56142efbafda72912435fde": {
      "model_module": "@jupyter-widgets/controls",
      "model_module_version": "2.0.0",
      "model_name": "HTMLModel",
      "state": {
       "layout": "IPY_MODEL_1a4bb69fcc884dfea8873e2b2cf6e4af",
       "style": "IPY_MODEL_963d6bbf16d0436aad7f50b7dad312d7",
       "value": " 625/625 [00:14&lt;00:00, 45.22it/s]"
      }
     },
     "763066cc78ea461dbeeca76942643d58": {
      "model_module": "@jupyter-widgets/base",
      "model_module_version": "2.0.0",
      "model_name": "LayoutModel",
      "state": {}
     },
     "7641e3604f2a442fba58fb0bc3e2b3c2": {
      "model_module": "@jupyter-widgets/controls",
      "model_module_version": "2.0.0",
      "model_name": "HTMLModel",
      "state": {
       "layout": "IPY_MODEL_8bd19412492b480a8d1d55b486d643d8",
       "style": "IPY_MODEL_aff749ad40654044bcd798f008f85205",
       "value": "100%"
      }
     },
     "76532a1cab6d4dbfb8950605aeefe760": {
      "model_module": "@jupyter-widgets/controls",
      "model_module_version": "2.0.0",
      "model_name": "HTMLModel",
      "state": {
       "layout": "IPY_MODEL_b5f4aeffc0e54c658d20ffe714b70c5c",
       "style": "IPY_MODEL_c100f83805644ce38e8afd8a31a7cf02",
       "value": "100%"
      }
     },
     "767f0bbd1b504bb8aedc30243c8489cd": {
      "model_module": "@jupyter-widgets/controls",
      "model_module_version": "2.0.0",
      "model_name": "HBoxModel",
      "state": {
       "children": [
        "IPY_MODEL_e28384a9ffdf4b44ae3edfc6e0fa8f08",
        "IPY_MODEL_336206df58e8457bb79e3db5870aa303",
        "IPY_MODEL_8a5dc975cce94c3e9799c9daf488b8a0"
       ],
       "layout": "IPY_MODEL_49d035e20c58486c8fb4ea503a62cb89"
      }
     },
     "76906536344b43d98f7a2bc2e47f8770": {
      "model_module": "@jupyter-widgets/controls",
      "model_module_version": "2.0.0",
      "model_name": "ProgressStyleModel",
      "state": {
       "description_width": ""
      }
     },
     "76d67ba51c4b4b559153b919f537525d": {
      "model_module": "@jupyter-widgets/controls",
      "model_module_version": "2.0.0",
      "model_name": "HTMLModel",
      "state": {
       "layout": "IPY_MODEL_3014fe902e1947a18f22d3bad9c4be9b",
       "style": "IPY_MODEL_e8a29d7d4a324b20acf92ed6e5d8e27c",
       "value": "100%"
      }
     },
     "77130faf3411457b8d4d141b7ed92d33": {
      "model_module": "@jupyter-widgets/base",
      "model_module_version": "2.0.0",
      "model_name": "LayoutModel",
      "state": {}
     },
     "775cb657538e422cb4f101af5b7db422": {
      "model_module": "@jupyter-widgets/base",
      "model_module_version": "2.0.0",
      "model_name": "LayoutModel",
      "state": {}
     },
     "775fa6befe104d23a6029b44f4edec5d": {
      "model_module": "@jupyter-widgets/controls",
      "model_module_version": "2.0.0",
      "model_name": "HTMLStyleModel",
      "state": {
       "description_width": "",
       "font_size": null,
       "text_color": null
      }
     },
     "7772194bf87d48b2a5ef35f022656263": {
      "model_module": "@jupyter-widgets/base",
      "model_module_version": "2.0.0",
      "model_name": "LayoutModel",
      "state": {}
     },
     "77a785bb148a4339882cee9cb1e98857": {
      "model_module": "@jupyter-widgets/controls",
      "model_module_version": "2.0.0",
      "model_name": "FloatProgressModel",
      "state": {
       "bar_style": "success",
       "layout": "IPY_MODEL_8170d5343a2044e782a874de5c53be2b",
       "max": 587,
       "style": "IPY_MODEL_d6fc5c591b484da88c56bf05b966d2e2",
       "value": 587
      }
     },
     "77f0569cc54d4a509bc49a54be5b0aa7": {
      "model_module": "@jupyter-widgets/controls",
      "model_module_version": "2.0.0",
      "model_name": "HTMLModel",
      "state": {
       "layout": "IPY_MODEL_321bf04df5c5428b949ac43e1fad6650",
       "style": "IPY_MODEL_06f2ca83b79040b2abbd038c559de77c",
       "value": "100%"
      }
     },
     "77fd598603094c5fadf539f8e35a8a8b": {
      "model_module": "@jupyter-widgets/controls",
      "model_module_version": "2.0.0",
      "model_name": "HBoxModel",
      "state": {
       "children": [
        "IPY_MODEL_c110be11bd0244ce935b2afcb9ab2a22",
        "IPY_MODEL_d400ad87cf164fef8d583349101e4045",
        "IPY_MODEL_bd07d4e56f7741ba9740cc2dc7306687"
       ],
       "layout": "IPY_MODEL_25cb0761314b4b86b38404f76fb6bcaa"
      }
     },
     "77fdb921df9c449d8fefc56dde8821cc": {
      "model_module": "@jupyter-widgets/base",
      "model_module_version": "2.0.0",
      "model_name": "LayoutModel",
      "state": {}
     },
     "77ff9fa7dd81402a89a8377e4b608995": {
      "model_module": "@jupyter-widgets/controls",
      "model_module_version": "2.0.0",
      "model_name": "ProgressStyleModel",
      "state": {
       "description_width": ""
      }
     },
     "7822dd8e46cc4938ac505fa0a0ccb355": {
      "model_module": "@jupyter-widgets/base",
      "model_module_version": "2.0.0",
      "model_name": "LayoutModel",
      "state": {}
     },
     "78299760a0254666b7305763fb48f068": {
      "model_module": "@jupyter-widgets/controls",
      "model_module_version": "2.0.0",
      "model_name": "ProgressStyleModel",
      "state": {
       "description_width": ""
      }
     },
     "7869a4ada5ec422fb2c2148025273cec": {
      "model_module": "@jupyter-widgets/controls",
      "model_module_version": "2.0.0",
      "model_name": "HTMLStyleModel",
      "state": {
       "description_width": "",
       "font_size": null,
       "text_color": null
      }
     },
     "78cf9cc5f2754a599c0de1b2dfea0ec5": {
      "model_module": "@jupyter-widgets/controls",
      "model_module_version": "2.0.0",
      "model_name": "HTMLStyleModel",
      "state": {
       "description_width": "",
       "font_size": null,
       "text_color": null
      }
     },
     "78dc9f89527c4939a3fecea2065ea4ee": {
      "model_module": "@jupyter-widgets/controls",
      "model_module_version": "2.0.0",
      "model_name": "HTMLStyleModel",
      "state": {
       "description_width": "",
       "font_size": null,
       "text_color": null
      }
     },
     "78fc6d74bcc14509a3220294f67ef5a5": {
      "model_module": "@jupyter-widgets/base",
      "model_module_version": "2.0.0",
      "model_name": "LayoutModel",
      "state": {}
     },
     "79344fe053824c69a806f4cf85201005": {
      "model_module": "@jupyter-widgets/base",
      "model_module_version": "2.0.0",
      "model_name": "LayoutModel",
      "state": {}
     },
     "79646b16211e42019665ac4cec933dd1": {
      "model_module": "@jupyter-widgets/base",
      "model_module_version": "2.0.0",
      "model_name": "LayoutModel",
      "state": {}
     },
     "79856bf00f1e4965bac00485f739055d": {
      "model_module": "@jupyter-widgets/controls",
      "model_module_version": "2.0.0",
      "model_name": "HTMLStyleModel",
      "state": {
       "description_width": "",
       "font_size": null,
       "text_color": null
      }
     },
     "7987a2cee4ee4ef1b83e79b182735e82": {
      "model_module": "@jupyter-widgets/controls",
      "model_module_version": "2.0.0",
      "model_name": "FloatProgressModel",
      "state": {
       "bar_style": "success",
       "layout": "IPY_MODEL_b437d28f47f84d3ea822176afd4a22b8",
       "max": 635,
       "style": "IPY_MODEL_58c567dd580f42f8afc975beb30037b4",
       "value": 635
      }
     },
     "798fcb1acb4b49dab1de2ee76ab3da49": {
      "model_module": "@jupyter-widgets/base",
      "model_module_version": "2.0.0",
      "model_name": "LayoutModel",
      "state": {}
     },
     "7992f9a2e44d4cbf84da1ed80ac7c7d0": {
      "model_module": "@jupyter-widgets/controls",
      "model_module_version": "2.0.0",
      "model_name": "ProgressStyleModel",
      "state": {
       "description_width": ""
      }
     },
     "7993cba5d5a54077823457196278101e": {
      "model_module": "@jupyter-widgets/base",
      "model_module_version": "2.0.0",
      "model_name": "LayoutModel",
      "state": {}
     },
     "79a40eadde2945158e76e86bff6ec4a5": {
      "model_module": "@jupyter-widgets/controls",
      "model_module_version": "2.0.0",
      "model_name": "HTMLModel",
      "state": {
       "layout": "IPY_MODEL_e6782a50810e4a82a310ef193d1ebee8",
       "style": "IPY_MODEL_1f67062f00f944eba0a3502c1d586f78",
       "value": "100%"
      }
     },
     "79ab3945a01145d5a6875d38698332ae": {
      "model_module": "@jupyter-widgets/base",
      "model_module_version": "2.0.0",
      "model_name": "LayoutModel",
      "state": {}
     },
     "79ae80f20d784d5282c130337e902768": {
      "model_module": "@jupyter-widgets/controls",
      "model_module_version": "2.0.0",
      "model_name": "ProgressStyleModel",
      "state": {
       "description_width": ""
      }
     },
     "79c91474d036469f8b7853793a2d0e54": {
      "model_module": "@jupyter-widgets/controls",
      "model_module_version": "2.0.0",
      "model_name": "FloatProgressModel",
      "state": {
       "bar_style": "success",
       "layout": "IPY_MODEL_381d9e2664f8468e960e40eea0459b17",
       "max": 720,
       "style": "IPY_MODEL_d439fd0375534df79746bf55d54f11df",
       "value": 720
      }
     },
     "79cd1e8a0a1d42c19fbcb67cdba0bd42": {
      "model_module": "@jupyter-widgets/controls",
      "model_module_version": "2.0.0",
      "model_name": "HBoxModel",
      "state": {
       "children": [
        "IPY_MODEL_7ba6933903d94e1ca1050a20e81d344e",
        "IPY_MODEL_9d27d90456cf461a9ed4beea6dcc437b",
        "IPY_MODEL_97785d787e3a4be7a1444f5194f8e4a5"
       ],
       "layout": "IPY_MODEL_286b15ee14044bbc8268ed387351988f"
      }
     },
     "79d1a3f30b624a5b999bdc28aa6743a0": {
      "model_module": "@jupyter-widgets/controls",
      "model_module_version": "2.0.0",
      "model_name": "HTMLModel",
      "state": {
       "layout": "IPY_MODEL_bd4303d4b29c4b81ad30a1fe1f6f08f9",
       "style": "IPY_MODEL_79856bf00f1e4965bac00485f739055d",
       "value": " 437/437 [00:09&lt;00:00, 45.02it/s]"
      }
     },
     "7a505cbd6de54406b93d99c13542b29b": {
      "model_module": "@jupyter-widgets/controls",
      "model_module_version": "2.0.0",
      "model_name": "FloatProgressModel",
      "state": {
       "bar_style": "success",
       "layout": "IPY_MODEL_8430362a7f194c59ac0b95a01e38b130",
       "max": 582,
       "style": "IPY_MODEL_0e6f2ab587184d08b49963de2f9346f0",
       "value": 582
      }
     },
     "7a6d65c617b5417a8d0bec4b547ff339": {
      "model_module": "@jupyter-widgets/controls",
      "model_module_version": "2.0.0",
      "model_name": "HTMLModel",
      "state": {
       "layout": "IPY_MODEL_79646b16211e42019665ac4cec933dd1",
       "style": "IPY_MODEL_c06eceacb331447899914598e4ce6723",
       "value": "100%"
      }
     },
     "7aaf77a953144904a0a1d86bad9c866f": {
      "model_module": "@jupyter-widgets/controls",
      "model_module_version": "2.0.0",
      "model_name": "HBoxModel",
      "state": {
       "children": [
        "IPY_MODEL_f9fc78eca3c94f6689071df2b6477561",
        "IPY_MODEL_0f6c4c3c920d4861b7888cf71cd0fa88",
        "IPY_MODEL_f8ef566ece5a48a399fdf01f823fa1d0"
       ],
       "layout": "IPY_MODEL_fe254c4dcf6f40d8b31eb50a75906014"
      }
     },
     "7ae917cbf97c45e6a818663db01bb158": {
      "model_module": "@jupyter-widgets/controls",
      "model_module_version": "2.0.0",
      "model_name": "ProgressStyleModel",
      "state": {
       "description_width": ""
      }
     },
     "7b0172f51d174d1dbc323da9a2f461bd": {
      "model_module": "@jupyter-widgets/controls",
      "model_module_version": "2.0.0",
      "model_name": "ProgressStyleModel",
      "state": {
       "description_width": ""
      }
     },
     "7b081b9f1d994e2382f4574c29760487": {
      "model_module": "@jupyter-widgets/controls",
      "model_module_version": "2.0.0",
      "model_name": "ProgressStyleModel",
      "state": {
       "description_width": ""
      }
     },
     "7b12b6c4a8e94d7b84e69ae1ee6e5f83": {
      "model_module": "@jupyter-widgets/base",
      "model_module_version": "2.0.0",
      "model_name": "LayoutModel",
      "state": {}
     },
     "7ba6933903d94e1ca1050a20e81d344e": {
      "model_module": "@jupyter-widgets/controls",
      "model_module_version": "2.0.0",
      "model_name": "HTMLModel",
      "state": {
       "layout": "IPY_MODEL_aa179e5822284ccd97b0b0e1261b80b0",
       "style": "IPY_MODEL_c540f7616e9e4233a620ce77c5bee56c",
       "value": "100%"
      }
     },
     "7bc84db8e2444076b54b64fdd35f86aa": {
      "model_module": "@jupyter-widgets/controls",
      "model_module_version": "2.0.0",
      "model_name": "HTMLModel",
      "state": {
       "layout": "IPY_MODEL_77130faf3411457b8d4d141b7ed92d33",
       "style": "IPY_MODEL_9eae31f7078b4e4c8dfbaf658bc8144c",
       "value": " 541/541 [00:12&lt;00:00, 43.31it/s]"
      }
     },
     "7bfe14ad79894f1d9f897e7b9b95dbf7": {
      "model_module": "@jupyter-widgets/controls",
      "model_module_version": "2.0.0",
      "model_name": "FloatProgressModel",
      "state": {
       "bar_style": "success",
       "layout": "IPY_MODEL_5b06fa87886e4af2ad4cf2ac5a1d7829",
       "max": 699,
       "style": "IPY_MODEL_e071c849777843919ec08c738f256714",
       "value": 699
      }
     },
     "7c1a812a5d834b109b2ce3848374f9bd": {
      "model_module": "@jupyter-widgets/controls",
      "model_module_version": "2.0.0",
      "model_name": "HTMLStyleModel",
      "state": {
       "description_width": "",
       "font_size": null,
       "text_color": null
      }
     },
     "7c202cbdb87f4275bfe8f05b38ff1479": {
      "model_module": "@jupyter-widgets/controls",
      "model_module_version": "2.0.0",
      "model_name": "HBoxModel",
      "state": {
       "children": [
        "IPY_MODEL_e02b492a388846b6be918ad1ce81a422",
        "IPY_MODEL_c27c3ec56f9d49bc923a0e8130a72fa0",
        "IPY_MODEL_8044c668c3a040138508f87d3bb8bb20"
       ],
       "layout": "IPY_MODEL_28f460d34077404eacc607e4ea1c9b3f"
      }
     },
     "7d0af23edd624df191a611471b85b5b0": {
      "model_module": "@jupyter-widgets/base",
      "model_module_version": "2.0.0",
      "model_name": "LayoutModel",
      "state": {}
     },
     "7d65a18ea47e4fcfa66a06bdc91fac32": {
      "model_module": "@jupyter-widgets/controls",
      "model_module_version": "2.0.0",
      "model_name": "HTMLStyleModel",
      "state": {
       "description_width": "",
       "font_size": null,
       "text_color": null
      }
     },
     "7d6a14bafa5049148bae6455d06de998": {
      "model_module": "@jupyter-widgets/controls",
      "model_module_version": "2.0.0",
      "model_name": "HBoxModel",
      "state": {
       "children": [
        "IPY_MODEL_8b6cf05b6e524d67bae02502a4a8e562",
        "IPY_MODEL_e149fdefcbfa47b9a6e75037904c8c77",
        "IPY_MODEL_504c9ce218774e23bc9334e953b6f477"
       ],
       "layout": "IPY_MODEL_869175389aee4c77973ebf81aa2bac3a"
      }
     },
     "7d95d9e09dee40fb964802870ac51236": {
      "model_module": "@jupyter-widgets/base",
      "model_module_version": "2.0.0",
      "model_name": "LayoutModel",
      "state": {}
     },
     "7daf02a84b3e4883b5b61763c118491e": {
      "model_module": "@jupyter-widgets/controls",
      "model_module_version": "2.0.0",
      "model_name": "HTMLModel",
      "state": {
       "layout": "IPY_MODEL_735544e7c6d34cad9d0b46e820e191f5",
       "style": "IPY_MODEL_c32f006bc33e435cb7e22a3a7edddd2b",
       "value": " 702/702 [00:15&lt;00:00, 45.27it/s]"
      }
     },
     "7db0748325c545aeaca081ac2c96d6ac": {
      "model_module": "@jupyter-widgets/controls",
      "model_module_version": "2.0.0",
      "model_name": "FloatProgressModel",
      "state": {
       "bar_style": "success",
       "layout": "IPY_MODEL_554aee61014449f2b0e60fa0e163bcd2",
       "max": 711,
       "style": "IPY_MODEL_59a139139d5e468782cab07ebc401cf4",
       "value": 711
      }
     },
     "7df845ae7b7a4a34b22ea5f78d8d0978": {
      "model_module": "@jupyter-widgets/controls",
      "model_module_version": "2.0.0",
      "model_name": "HTMLModel",
      "state": {
       "layout": "IPY_MODEL_a03fdbebae1c47e1a7a0e49a993aaa35",
       "style": "IPY_MODEL_42874565b652444ea616c9e099b5f89f",
       "value": "100%"
      }
     },
     "7e29424b38d34ac4af25ef3e26e5fbc9": {
      "model_module": "@jupyter-widgets/base",
      "model_module_version": "2.0.0",
      "model_name": "LayoutModel",
      "state": {}
     },
     "7e46dc09fba64f8e8483ffd9dd2b3482": {
      "model_module": "@jupyter-widgets/base",
      "model_module_version": "2.0.0",
      "model_name": "LayoutModel",
      "state": {}
     },
     "7e55c024cc124da38ef40df2f68021b1": {
      "model_module": "@jupyter-widgets/base",
      "model_module_version": "2.0.0",
      "model_name": "LayoutModel",
      "state": {}
     },
     "7e5af200df5e4d9ea00245736cd5ee9a": {
      "model_module": "@jupyter-widgets/controls",
      "model_module_version": "2.0.0",
      "model_name": "HTMLModel",
      "state": {
       "layout": "IPY_MODEL_8488e47995d74585a9447f34682d264e",
       "style": "IPY_MODEL_1bd7e70cde5546cf93da8736091c5cae",
       "value": " 512/512 [00:11&lt;00:00, 44.91it/s]"
      }
     },
     "7e6d80c23d4f4c38ac3d7d44c8b21bc8": {
      "model_module": "@jupyter-widgets/controls",
      "model_module_version": "2.0.0",
      "model_name": "ProgressStyleModel",
      "state": {
       "description_width": ""
      }
     },
     "7e94f244e3fd4d2d89340dee34ca7f77": {
      "model_module": "@jupyter-widgets/base",
      "model_module_version": "2.0.0",
      "model_name": "LayoutModel",
      "state": {}
     },
     "7ea8e5257e9f44beb09d97b4513ec465": {
      "model_module": "@jupyter-widgets/base",
      "model_module_version": "2.0.0",
      "model_name": "LayoutModel",
      "state": {}
     },
     "7ea94892d12b47d7b82d6433258dd8ce": {
      "model_module": "@jupyter-widgets/controls",
      "model_module_version": "2.0.0",
      "model_name": "HTMLModel",
      "state": {
       "layout": "IPY_MODEL_763066cc78ea461dbeeca76942643d58",
       "style": "IPY_MODEL_9eb5790392dc4b5ebf43809d7f0741df",
       "value": " 646/646 [00:16&lt;00:00, 40.05it/s]"
      }
     },
     "7eaaf162c94742a689633f97c66f430a": {
      "model_module": "@jupyter-widgets/base",
      "model_module_version": "2.0.0",
      "model_name": "LayoutModel",
      "state": {}
     },
     "7eccefced19844c3952748c761606cf2": {
      "model_module": "@jupyter-widgets/base",
      "model_module_version": "2.0.0",
      "model_name": "LayoutModel",
      "state": {}
     },
     "7ed0124c039b4239bbe85f80e6878809": {
      "model_module": "@jupyter-widgets/base",
      "model_module_version": "2.0.0",
      "model_name": "LayoutModel",
      "state": {}
     },
     "7ee50b22b2f14c7980d85cd02a55e82b": {
      "model_module": "@jupyter-widgets/controls",
      "model_module_version": "2.0.0",
      "model_name": "HTMLStyleModel",
      "state": {
       "description_width": "",
       "font_size": null,
       "text_color": null
      }
     },
     "7f79e4e736684538b58031a7f7dd8657": {
      "model_module": "@jupyter-widgets/base",
      "model_module_version": "2.0.0",
      "model_name": "LayoutModel",
      "state": {}
     },
     "7f85f490fdb943f8874bf9c4c70f99e7": {
      "model_module": "@jupyter-widgets/base",
      "model_module_version": "2.0.0",
      "model_name": "LayoutModel",
      "state": {}
     },
     "7f8f11cfa3ec4b86a838709a29772f18": {
      "model_module": "@jupyter-widgets/base",
      "model_module_version": "2.0.0",
      "model_name": "LayoutModel",
      "state": {}
     },
     "7f9875b841f34e0593b2e2fb94c107c4": {
      "model_module": "@jupyter-widgets/base",
      "model_module_version": "2.0.0",
      "model_name": "LayoutModel",
      "state": {}
     },
     "7fa9eb71b52b4c37a0f4e0ce01d555f4": {
      "model_module": "@jupyter-widgets/controls",
      "model_module_version": "2.0.0",
      "model_name": "HBoxModel",
      "state": {
       "children": [
        "IPY_MODEL_14056f6a48ca4381a15045b662c63ece",
        "IPY_MODEL_f683c08a929045f7b50c00b120edfcb3",
        "IPY_MODEL_cdc04f15105c44e78d4470e4161bb02c"
       ],
       "layout": "IPY_MODEL_f5a92a2c4e7e4279a19589ed7b96524a"
      }
     },
     "7fac412df0f747f7a6940321df2a6fa6": {
      "model_module": "@jupyter-widgets/controls",
      "model_module_version": "2.0.0",
      "model_name": "HTMLStyleModel",
      "state": {
       "description_width": "",
       "font_size": null,
       "text_color": null
      }
     },
     "8044c668c3a040138508f87d3bb8bb20": {
      "model_module": "@jupyter-widgets/controls",
      "model_module_version": "2.0.0",
      "model_name": "HTMLModel",
      "state": {
       "layout": "IPY_MODEL_d76dab555493409cb48aefcf3e11b48c",
       "style": "IPY_MODEL_2e6113031bb244609cd4bd54fa8485b1",
       "value": " 582/582 [00:12&lt;00:00, 46.60it/s]"
      }
     },
     "804e90316a6d4f32bc390c2e57cba93d": {
      "model_module": "@jupyter-widgets/controls",
      "model_module_version": "2.0.0",
      "model_name": "HTMLModel",
      "state": {
       "layout": "IPY_MODEL_5115537c76d746acb742a4631ab858a0",
       "style": "IPY_MODEL_54670ff934134f0db31c7260e8e77461",
       "value": " 715/715 [00:15&lt;00:00, 46.21it/s]"
      }
     },
     "8081f402b6e642b284891f05932a9c66": {
      "model_module": "@jupyter-widgets/controls",
      "model_module_version": "2.0.0",
      "model_name": "HTMLStyleModel",
      "state": {
       "description_width": "",
       "font_size": null,
       "text_color": null
      }
     },
     "8160697f344e45b68aaac2cd5786946a": {
      "model_module": "@jupyter-widgets/base",
      "model_module_version": "2.0.0",
      "model_name": "LayoutModel",
      "state": {}
     },
     "816b03281e0e4044b0f3c47e5dd87794": {
      "model_module": "@jupyter-widgets/base",
      "model_module_version": "2.0.0",
      "model_name": "LayoutModel",
      "state": {}
     },
     "8170d5343a2044e782a874de5c53be2b": {
      "model_module": "@jupyter-widgets/base",
      "model_module_version": "2.0.0",
      "model_name": "LayoutModel",
      "state": {}
     },
     "818b9cbb869c42b6838ede5240607e45": {
      "model_module": "@jupyter-widgets/controls",
      "model_module_version": "2.0.0",
      "model_name": "HTMLStyleModel",
      "state": {
       "description_width": "",
       "font_size": null,
       "text_color": null
      }
     },
     "81a33b136632432a8ce4d52552fea2fd": {
      "model_module": "@jupyter-widgets/controls",
      "model_module_version": "2.0.0",
      "model_name": "HTMLStyleModel",
      "state": {
       "description_width": "",
       "font_size": null,
       "text_color": null
      }
     },
     "81a9f7c78f944844be4a9edfe4a1f36d": {
      "model_module": "@jupyter-widgets/controls",
      "model_module_version": "2.0.0",
      "model_name": "HTMLStyleModel",
      "state": {
       "description_width": "",
       "font_size": null,
       "text_color": null
      }
     },
     "81bb8e0502df4f22be52edeb4fe1aaf0": {
      "model_module": "@jupyter-widgets/base",
      "model_module_version": "2.0.0",
      "model_name": "LayoutModel",
      "state": {}
     },
     "828b6dfa80ff4965909082560a12047d": {
      "model_module": "@jupyter-widgets/base",
      "model_module_version": "2.0.0",
      "model_name": "LayoutModel",
      "state": {}
     },
     "82d0099581794ec7bba78dce48e1742b": {
      "model_module": "@jupyter-widgets/controls",
      "model_module_version": "2.0.0",
      "model_name": "HTMLStyleModel",
      "state": {
       "description_width": "",
       "font_size": null,
       "text_color": null
      }
     },
     "833225306e2649888642acfd339316de": {
      "model_module": "@jupyter-widgets/controls",
      "model_module_version": "2.0.0",
      "model_name": "HBoxModel",
      "state": {
       "children": [
        "IPY_MODEL_4a6832d531ee48beb2f2161d09921a0a",
        "IPY_MODEL_dcf077ea0bcc470c9cb342d5d018e1c7",
        "IPY_MODEL_4f5c35d7bd314bcfbc3355ca55c42654"
       ],
       "layout": "IPY_MODEL_bc8cea7a391342a9b784994c82b27482"
      }
     },
     "833f81e632b7499f9d228ee407cb174e": {
      "model_module": "@jupyter-widgets/controls",
      "model_module_version": "2.0.0",
      "model_name": "HBoxModel",
      "state": {
       "children": [
        "IPY_MODEL_1184703888a447718f7df480688fd63b",
        "IPY_MODEL_caf4a85450fc48809a9a53350cd51932",
        "IPY_MODEL_557644a2ec11455c81ca0328b904dc5c"
       ],
       "layout": "IPY_MODEL_68eddd5381ed4a6c9c3baf63a4c4fe2b"
      }
     },
     "8348ee7ade56425587546046f786a024": {
      "model_module": "@jupyter-widgets/base",
      "model_module_version": "2.0.0",
      "model_name": "LayoutModel",
      "state": {}
     },
     "83545af40d4548158ac23f4d28e186eb": {
      "model_module": "@jupyter-widgets/controls",
      "model_module_version": "2.0.0",
      "model_name": "ProgressStyleModel",
      "state": {
       "description_width": ""
      }
     },
     "836587d6e6324506a8709ec4c5804231": {
      "model_module": "@jupyter-widgets/base",
      "model_module_version": "2.0.0",
      "model_name": "LayoutModel",
      "state": {}
     },
     "8365bb32588648e58614210fba9245cd": {
      "model_module": "@jupyter-widgets/controls",
      "model_module_version": "2.0.0",
      "model_name": "HTMLStyleModel",
      "state": {
       "description_width": "",
       "font_size": null,
       "text_color": null
      }
     },
     "8383cd271c2e49dc9da3bc985a30d0d1": {
      "model_module": "@jupyter-widgets/base",
      "model_module_version": "2.0.0",
      "model_name": "LayoutModel",
      "state": {}
     },
     "839ab11a92b94906aac70d1a2b323133": {
      "model_module": "@jupyter-widgets/base",
      "model_module_version": "2.0.0",
      "model_name": "LayoutModel",
      "state": {}
     },
     "839efccc4e6341e2a5f1eba023e18415": {
      "model_module": "@jupyter-widgets/controls",
      "model_module_version": "2.0.0",
      "model_name": "FloatProgressModel",
      "state": {
       "bar_style": "success",
       "layout": "IPY_MODEL_5b518aae17c247a399e1352df78e1395",
       "max": 593,
       "style": "IPY_MODEL_8874754da0a849969fe8612376a541ca",
       "value": 593
      }
     },
     "83aad8b02ae34beabe2ed127ec725f3f": {
      "model_module": "@jupyter-widgets/controls",
      "model_module_version": "2.0.0",
      "model_name": "HTMLStyleModel",
      "state": {
       "description_width": "",
       "font_size": null,
       "text_color": null
      }
     },
     "842ba97f9dee40c2984344017d3ac304": {
      "model_module": "@jupyter-widgets/base",
      "model_module_version": "2.0.0",
      "model_name": "LayoutModel",
      "state": {}
     },
     "8430362a7f194c59ac0b95a01e38b130": {
      "model_module": "@jupyter-widgets/base",
      "model_module_version": "2.0.0",
      "model_name": "LayoutModel",
      "state": {}
     },
     "84336b99caa24f01a4c572d738ac924a": {
      "model_module": "@jupyter-widgets/controls",
      "model_module_version": "2.0.0",
      "model_name": "HTMLModel",
      "state": {
       "layout": "IPY_MODEL_2640df4bcf4a49098b315118ec560123",
       "style": "IPY_MODEL_30888d1f160e44489f954560793cafeb",
       "value": "100%"
      }
     },
     "8488e47995d74585a9447f34682d264e": {
      "model_module": "@jupyter-widgets/base",
      "model_module_version": "2.0.0",
      "model_name": "LayoutModel",
      "state": {}
     },
     "84d71102e14a41ad9fc9b997dd08398b": {
      "model_module": "@jupyter-widgets/base",
      "model_module_version": "2.0.0",
      "model_name": "LayoutModel",
      "state": {}
     },
     "84eedacb96af4dc29d634b0afe1c01d5": {
      "model_module": "@jupyter-widgets/base",
      "model_module_version": "2.0.0",
      "model_name": "LayoutModel",
      "state": {}
     },
     "84f5bb3615c2430ea5277f35146b1839": {
      "model_module": "@jupyter-widgets/controls",
      "model_module_version": "2.0.0",
      "model_name": "HTMLStyleModel",
      "state": {
       "description_width": "",
       "font_size": null,
       "text_color": null
      }
     },
     "8501e9e0532c4025b4dcd27516755e91": {
      "model_module": "@jupyter-widgets/controls",
      "model_module_version": "2.0.0",
      "model_name": "HTMLStyleModel",
      "state": {
       "description_width": "",
       "font_size": null,
       "text_color": null
      }
     },
     "855945d64e814611a92dc99d3a80db69": {
      "model_module": "@jupyter-widgets/base",
      "model_module_version": "2.0.0",
      "model_name": "LayoutModel",
      "state": {}
     },
     "85838fdfa5bf4109b1cc1e86ff886d88": {
      "model_module": "@jupyter-widgets/controls",
      "model_module_version": "2.0.0",
      "model_name": "ProgressStyleModel",
      "state": {
       "description_width": ""
      }
     },
     "858a66e1487d4819aedd80b4a39d68c0": {
      "model_module": "@jupyter-widgets/base",
      "model_module_version": "2.0.0",
      "model_name": "LayoutModel",
      "state": {}
     },
     "85add65216824667a4978e9e7f9671de": {
      "model_module": "@jupyter-widgets/base",
      "model_module_version": "2.0.0",
      "model_name": "LayoutModel",
      "state": {}
     },
     "85e9a0d2ef27442985be83bade9413a6": {
      "model_module": "@jupyter-widgets/base",
      "model_module_version": "2.0.0",
      "model_name": "LayoutModel",
      "state": {}
     },
     "864a1e4b6cd048d78864977aaf3bc34a": {
      "model_module": "@jupyter-widgets/controls",
      "model_module_version": "2.0.0",
      "model_name": "HBoxModel",
      "state": {
       "children": [
        "IPY_MODEL_be8d6226271a49c1962a9497cabcfac3",
        "IPY_MODEL_8a8f283d169249918f9542106a6b6ccc",
        "IPY_MODEL_1c270e298e7f42dc95520a17c03ac646"
       ],
       "layout": "IPY_MODEL_21e84c1ee89a4c6280311793a8fb068e"
      }
     },
     "8662d5902ab14029a9f569bef1853ded": {
      "model_module": "@jupyter-widgets/controls",
      "model_module_version": "2.0.0",
      "model_name": "HBoxModel",
      "state": {
       "children": [
        "IPY_MODEL_67e4527c629d45d5bcaaabe3274c31bb",
        "IPY_MODEL_9b28192bf8cb46aaaa0ddb425adc32a5",
        "IPY_MODEL_37525622f2324eaeb2a181bb54ed4add"
       ],
       "layout": "IPY_MODEL_a6c3c56bab0345f0917201c08860eccf"
      }
     },
     "869175389aee4c77973ebf81aa2bac3a": {
      "model_module": "@jupyter-widgets/base",
      "model_module_version": "2.0.0",
      "model_name": "LayoutModel",
      "state": {}
     },
     "86b561c3bc2b49a18d5b3b603e9951c6": {
      "model_module": "@jupyter-widgets/base",
      "model_module_version": "2.0.0",
      "model_name": "LayoutModel",
      "state": {}
     },
     "86d4e9fe093c4c2f9dd15d42674bac02": {
      "model_module": "@jupyter-widgets/controls",
      "model_module_version": "2.0.0",
      "model_name": "ProgressStyleModel",
      "state": {
       "description_width": ""
      }
     },
     "86e68ee4b90545de8ca4d7bdb0c79658": {
      "model_module": "@jupyter-widgets/base",
      "model_module_version": "2.0.0",
      "model_name": "LayoutModel",
      "state": {}
     },
     "86f71e0cf4ac4c9fa01465a6d5edc14a": {
      "model_module": "@jupyter-widgets/base",
      "model_module_version": "2.0.0",
      "model_name": "LayoutModel",
      "state": {}
     },
     "8718c40292af4d64b67700ee098dbe06": {
      "model_module": "@jupyter-widgets/controls",
      "model_module_version": "2.0.0",
      "model_name": "HTMLStyleModel",
      "state": {
       "description_width": "",
       "font_size": null,
       "text_color": null
      }
     },
     "873635a394b749788b1fe6e6ecad1471": {
      "model_module": "@jupyter-widgets/controls",
      "model_module_version": "2.0.0",
      "model_name": "HTMLStyleModel",
      "state": {
       "description_width": "",
       "font_size": null,
       "text_color": null
      }
     },
     "877597f5d40044f9a03ece45331ae18c": {
      "model_module": "@jupyter-widgets/controls",
      "model_module_version": "2.0.0",
      "model_name": "ProgressStyleModel",
      "state": {
       "description_width": ""
      }
     },
     "877d3e5a00b342b09d72f617d3a1379c": {
      "model_module": "@jupyter-widgets/controls",
      "model_module_version": "2.0.0",
      "model_name": "HTMLStyleModel",
      "state": {
       "description_width": "",
       "font_size": null,
       "text_color": null
      }
     },
     "879a9820c83a487481d45857c3ede119": {
      "model_module": "@jupyter-widgets/controls",
      "model_module_version": "2.0.0",
      "model_name": "HTMLModel",
      "state": {
       "layout": "IPY_MODEL_319a68cf1abd4fa0893738fff3617d34",
       "style": "IPY_MODEL_c26ea44416634e8195af5221d8097bc6",
       "value": "100%"
      }
     },
     "879fa293603b4adea0c30613a2ed90c7": {
      "model_module": "@jupyter-widgets/base",
      "model_module_version": "2.0.0",
      "model_name": "LayoutModel",
      "state": {}
     },
     "87a517e048ee4bc48d768f2507c58360": {
      "model_module": "@jupyter-widgets/base",
      "model_module_version": "2.0.0",
      "model_name": "LayoutModel",
      "state": {}
     },
     "87c75889e20e4f75b2da87c452a79926": {
      "model_module": "@jupyter-widgets/controls",
      "model_module_version": "2.0.0",
      "model_name": "HTMLStyleModel",
      "state": {
       "description_width": "",
       "font_size": null,
       "text_color": null
      }
     },
     "87ec9fb1ff4d4da382cfe3a34ccc9fcb": {
      "model_module": "@jupyter-widgets/controls",
      "model_module_version": "2.0.0",
      "model_name": "HTMLStyleModel",
      "state": {
       "description_width": "",
       "font_size": null,
       "text_color": null
      }
     },
     "87eda30a05104b098551813a41a95e73": {
      "model_module": "@jupyter-widgets/controls",
      "model_module_version": "2.0.0",
      "model_name": "HTMLModel",
      "state": {
       "layout": "IPY_MODEL_b002fbcb54544ee3b1ea727d72e8aa00",
       "style": "IPY_MODEL_8365bb32588648e58614210fba9245cd",
       "value": "100%"
      }
     },
     "880f67708043489e95c8e75090b1655c": {
      "model_module": "@jupyter-widgets/base",
      "model_module_version": "2.0.0",
      "model_name": "LayoutModel",
      "state": {}
     },
     "881079a2706b4106a84b9a67d31fdec1": {
      "model_module": "@jupyter-widgets/controls",
      "model_module_version": "2.0.0",
      "model_name": "ProgressStyleModel",
      "state": {
       "description_width": ""
      }
     },
     "881d7e73bb614c7f9f5b3590d16068cf": {
      "model_module": "@jupyter-widgets/controls",
      "model_module_version": "2.0.0",
      "model_name": "HTMLModel",
      "state": {
       "layout": "IPY_MODEL_d9de830a4b414457a74d6a3177ae1b91",
       "style": "IPY_MODEL_4979333fefeb4edaa3b59d16612928ca",
       "value": " 471/471 [00:11&lt;00:00, 38.09it/s]"
      }
     },
     "884a859383bc4d96b1eaeec2be5bb0e5": {
      "model_module": "@jupyter-widgets/controls",
      "model_module_version": "2.0.0",
      "model_name": "HBoxModel",
      "state": {
       "children": [
        "IPY_MODEL_702db9fba0d041b1bbcdc74b81647ee8",
        "IPY_MODEL_839efccc4e6341e2a5f1eba023e18415",
        "IPY_MODEL_d93f15e77b8546878299608b760f5855"
       ],
       "layout": "IPY_MODEL_cb19e419f7fa4f28aa0e43f769ac1353"
      }
     },
     "88506df381794aa49c4ec32bd70153e1": {
      "model_module": "@jupyter-widgets/base",
      "model_module_version": "2.0.0",
      "model_name": "LayoutModel",
      "state": {}
     },
     "885f921372b049c0b00323ac49da9c03": {
      "model_module": "@jupyter-widgets/controls",
      "model_module_version": "2.0.0",
      "model_name": "HTMLStyleModel",
      "state": {
       "description_width": "",
       "font_size": null,
       "text_color": null
      }
     },
     "8874754da0a849969fe8612376a541ca": {
      "model_module": "@jupyter-widgets/controls",
      "model_module_version": "2.0.0",
      "model_name": "ProgressStyleModel",
      "state": {
       "description_width": ""
      }
     },
     "88a01c06ceaf44359ea44e3bc5133cbd": {
      "model_module": "@jupyter-widgets/base",
      "model_module_version": "2.0.0",
      "model_name": "LayoutModel",
      "state": {}
     },
     "88a8d00b437946239757d73141340259": {
      "model_module": "@jupyter-widgets/base",
      "model_module_version": "2.0.0",
      "model_name": "LayoutModel",
      "state": {}
     },
     "88b16b284e3046ad810c9936b5fe93cb": {
      "model_module": "@jupyter-widgets/base",
      "model_module_version": "2.0.0",
      "model_name": "LayoutModel",
      "state": {}
     },
     "88f7369549dc419a97de7b88d21644ea": {
      "model_module": "@jupyter-widgets/base",
      "model_module_version": "2.0.0",
      "model_name": "LayoutModel",
      "state": {}
     },
     "89390c8bfd734f3c8a8bedf1e3c0d413": {
      "model_module": "@jupyter-widgets/base",
      "model_module_version": "2.0.0",
      "model_name": "LayoutModel",
      "state": {}
     },
     "893af3192b6c4f24a62f796d26aa2b48": {
      "model_module": "@jupyter-widgets/base",
      "model_module_version": "2.0.0",
      "model_name": "LayoutModel",
      "state": {}
     },
     "89728cdf0a0a4161917ff2168aff27f4": {
      "model_module": "@jupyter-widgets/controls",
      "model_module_version": "2.0.0",
      "model_name": "HTMLStyleModel",
      "state": {
       "description_width": "",
       "font_size": null,
       "text_color": null
      }
     },
     "89896b0a0f68481b97da19aece55c3a9": {
      "model_module": "@jupyter-widgets/controls",
      "model_module_version": "2.0.0",
      "model_name": "HTMLModel",
      "state": {
       "layout": "IPY_MODEL_6b38552e76004a9ab0a9c2a82b1b663c",
       "style": "IPY_MODEL_267df40210e6472fafd8c9ae03889ca7",
       "value": "100%"
      }
     },
     "8a135ef19b3a4ea28da35d3588988749": {
      "model_module": "@jupyter-widgets/controls",
      "model_module_version": "2.0.0",
      "model_name": "HTMLStyleModel",
      "state": {
       "description_width": "",
       "font_size": null,
       "text_color": null
      }
     },
     "8a1968dacbbb477b9e6f71661602ae1d": {
      "model_module": "@jupyter-widgets/controls",
      "model_module_version": "2.0.0",
      "model_name": "HTMLModel",
      "state": {
       "layout": "IPY_MODEL_1850851fb8274d7f8c358c20b7bc0b9f",
       "style": "IPY_MODEL_94d947732fdf4955ba7006b88684f559",
       "value": "100%"
      }
     },
     "8a38c63fabc74fa1897b81e2b40e6136": {
      "model_module": "@jupyter-widgets/base",
      "model_module_version": "2.0.0",
      "model_name": "LayoutModel",
      "state": {}
     },
     "8a5dc975cce94c3e9799c9daf488b8a0": {
      "model_module": "@jupyter-widgets/controls",
      "model_module_version": "2.0.0",
      "model_name": "HTMLModel",
      "state": {
       "layout": "IPY_MODEL_ead7605629e04a72b909926883177811",
       "style": "IPY_MODEL_365774a0144748dfa3a8ff9281777338",
       "value": " 690/690 [00:15&lt;00:00, 44.29it/s]"
      }
     },
     "8a6c19a76bf74055adad9b63db91e363": {
      "model_module": "@jupyter-widgets/controls",
      "model_module_version": "2.0.0",
      "model_name": "ProgressStyleModel",
      "state": {
       "description_width": ""
      }
     },
     "8a8f283d169249918f9542106a6b6ccc": {
      "model_module": "@jupyter-widgets/controls",
      "model_module_version": "2.0.0",
      "model_name": "FloatProgressModel",
      "state": {
       "bar_style": "success",
       "layout": "IPY_MODEL_49ddfbc8042b4ed4a6669f73c597af29",
       "max": 118,
       "style": "IPY_MODEL_6641965b53964d499f626b055b5be542",
       "value": 118
      }
     },
     "8a9a7354bfe048fbaa1c55bdc025aece": {
      "model_module": "@jupyter-widgets/controls",
      "model_module_version": "2.0.0",
      "model_name": "HTMLModel",
      "state": {
       "layout": "IPY_MODEL_cade5b8af96e478f81c2a3a7ba07e2bf",
       "style": "IPY_MODEL_68f88f84ccaa4fce96bed50038a21d1c",
       "value": "100%"
      }
     },
     "8ae0b0dae416409bbf79330735a39a26": {
      "model_module": "@jupyter-widgets/controls",
      "model_module_version": "2.0.0",
      "model_name": "ProgressStyleModel",
      "state": {
       "description_width": ""
      }
     },
     "8ae15efa9945452d954e73340f682c21": {
      "model_module": "@jupyter-widgets/controls",
      "model_module_version": "2.0.0",
      "model_name": "HTMLStyleModel",
      "state": {
       "description_width": "",
       "font_size": null,
       "text_color": null
      }
     },
     "8afb278d247b439883d0c46fa4a0144b": {
      "model_module": "@jupyter-widgets/controls",
      "model_module_version": "2.0.0",
      "model_name": "HBoxModel",
      "state": {
       "children": [
        "IPY_MODEL_f726127933994e4c80441c41707fb198",
        "IPY_MODEL_4dfbe3f09cfb40738a1a55853c81ca9f",
        "IPY_MODEL_ee5f5979bf1842f8ac41177262f0dab4"
       ],
       "layout": "IPY_MODEL_0802492e83a54ca3b0bf8bbc88227c12"
      }
     },
     "8b06aeeb7200409f8b0374efab9e5376": {
      "model_module": "@jupyter-widgets/controls",
      "model_module_version": "2.0.0",
      "model_name": "HTMLStyleModel",
      "state": {
       "description_width": "",
       "font_size": null,
       "text_color": null
      }
     },
     "8b094e54ca2b43c8883ee2751a72076c": {
      "model_module": "@jupyter-widgets/controls",
      "model_module_version": "2.0.0",
      "model_name": "HTMLModel",
      "state": {
       "layout": "IPY_MODEL_f09407a5844644c290d584924633931b",
       "style": "IPY_MODEL_62bc1ca46a004936b93cc6f41eaac394",
       "value": " 118/118 [00:39&lt;00:00,  3.26it/s]"
      }
     },
     "8b182ca1bbb24b37bf9323a66e5ef120": {
      "model_module": "@jupyter-widgets/base",
      "model_module_version": "2.0.0",
      "model_name": "LayoutModel",
      "state": {}
     },
     "8b5474352be645b09d3d0bad807c97bd": {
      "model_module": "@jupyter-widgets/controls",
      "model_module_version": "2.0.0",
      "model_name": "HBoxModel",
      "state": {
       "children": [
        "IPY_MODEL_4834a7affd75411cbbbcee7654695354",
        "IPY_MODEL_ed6c9a8a0b904cefaffd64910153ed29",
        "IPY_MODEL_bd0809d0047a4eaf942347099859b021"
       ],
       "layout": "IPY_MODEL_9e93ba0b6b9e4a0b919dca47e7dcbb3a"
      }
     },
     "8b5996ba676d47de81d7b52cecc17fe0": {
      "model_module": "@jupyter-widgets/controls",
      "model_module_version": "2.0.0",
      "model_name": "FloatProgressModel",
      "state": {
       "bar_style": "success",
       "layout": "IPY_MODEL_775cb657538e422cb4f101af5b7db422",
       "max": 465,
       "style": "IPY_MODEL_76906536344b43d98f7a2bc2e47f8770",
       "value": 465
      }
     },
     "8b6cf05b6e524d67bae02502a4a8e562": {
      "model_module": "@jupyter-widgets/controls",
      "model_module_version": "2.0.0",
      "model_name": "HTMLModel",
      "state": {
       "layout": "IPY_MODEL_190701ba75444eb88562520f1c02dfbe",
       "style": "IPY_MODEL_aef66ed000d140b8845d9b2a96bd2ce0",
       "value": "100%"
      }
     },
     "8ba66e5d676a42d68d9bd6777f3c25ae": {
      "model_module": "@jupyter-widgets/base",
      "model_module_version": "2.0.0",
      "model_name": "LayoutModel",
      "state": {}
     },
     "8ba793bae0234d6e9520cd9e8061958d": {
      "model_module": "@jupyter-widgets/controls",
      "model_module_version": "2.0.0",
      "model_name": "HTMLStyleModel",
      "state": {
       "description_width": "",
       "font_size": null,
       "text_color": null
      }
     },
     "8bd19412492b480a8d1d55b486d643d8": {
      "model_module": "@jupyter-widgets/base",
      "model_module_version": "2.0.0",
      "model_name": "LayoutModel",
      "state": {}
     },
     "8bd81a4a48774f4f97084a05257f0256": {
      "model_module": "@jupyter-widgets/controls",
      "model_module_version": "2.0.0",
      "model_name": "HTMLStyleModel",
      "state": {
       "description_width": "",
       "font_size": null,
       "text_color": null
      }
     },
     "8be6054ee9cb41a5b29667f6801c546a": {
      "model_module": "@jupyter-widgets/base",
      "model_module_version": "2.0.0",
      "model_name": "LayoutModel",
      "state": {}
     },
     "8c5f3bb09c0e466f9db2dca3ea207ba7": {
      "model_module": "@jupyter-widgets/controls",
      "model_module_version": "2.0.0",
      "model_name": "ProgressStyleModel",
      "state": {
       "description_width": ""
      }
     },
     "8c7587253479474282fccd762628c420": {
      "model_module": "@jupyter-widgets/controls",
      "model_module_version": "2.0.0",
      "model_name": "HBoxModel",
      "state": {
       "children": [
        "IPY_MODEL_acd0dd146531463187e8439b86bcc4c8",
        "IPY_MODEL_508586cfe2bb4e559ea7dd2536be3482",
        "IPY_MODEL_804e90316a6d4f32bc390c2e57cba93d"
       ],
       "layout": "IPY_MODEL_976ab4f9dc434cb4b49ddcd20918e93d"
      }
     },
     "8c9d8a084d6b469c93961368034f4c42": {
      "model_module": "@jupyter-widgets/controls",
      "model_module_version": "2.0.0",
      "model_name": "HTMLStyleModel",
      "state": {
       "description_width": "",
       "font_size": null,
       "text_color": null
      }
     },
     "8cc050419fe84290b555f7d14e412dd9": {
      "model_module": "@jupyter-widgets/controls",
      "model_module_version": "2.0.0",
      "model_name": "ProgressStyleModel",
      "state": {
       "description_width": ""
      }
     },
     "8cd1a79ae81347618a5d077c0e83d3ce": {
      "model_module": "@jupyter-widgets/controls",
      "model_module_version": "2.0.0",
      "model_name": "ProgressStyleModel",
      "state": {
       "description_width": ""
      }
     },
     "8d0c8b50e0f54e3bbb32a571b2719c29": {
      "model_module": "@jupyter-widgets/controls",
      "model_module_version": "2.0.0",
      "model_name": "ProgressStyleModel",
      "state": {
       "description_width": ""
      }
     },
     "8d7f17191e1c403f9f15b9649fd1da3b": {
      "model_module": "@jupyter-widgets/controls",
      "model_module_version": "2.0.0",
      "model_name": "FloatProgressModel",
      "state": {
       "bar_style": "success",
       "layout": "IPY_MODEL_828b6dfa80ff4965909082560a12047d",
       "max": 471,
       "style": "IPY_MODEL_6ca20e7e52d0487fae09d78632b3ade7",
       "value": 471
      }
     },
     "8d8b6ec5bd0641569fabe7580f3a5de0": {
      "model_module": "@jupyter-widgets/controls",
      "model_module_version": "2.0.0",
      "model_name": "HTMLModel",
      "state": {
       "layout": "IPY_MODEL_2bb9406c92b14d1bb57adf5c35ac909f",
       "style": "IPY_MODEL_cce05ca1de8149309f1884d8779225fb",
       "value": " 596/596 [00:12&lt;00:00, 47.79it/s]"
      }
     },
     "8dab50e9a44d4175a86567127a56da6e": {
      "model_module": "@jupyter-widgets/controls",
      "model_module_version": "2.0.0",
      "model_name": "HTMLStyleModel",
      "state": {
       "description_width": "",
       "font_size": null,
       "text_color": null
      }
     },
     "8dcb75ff94ce4158a0bca9b51d35c444": {
      "model_module": "@jupyter-widgets/controls",
      "model_module_version": "2.0.0",
      "model_name": "HTMLModel",
      "state": {
       "layout": "IPY_MODEL_c94038d751194456accd0151bc2dec09",
       "style": "IPY_MODEL_9d442354059a4ec2b30ddeedbfdabb3f",
       "value": "100%"
      }
     },
     "8dcf5cc037e94375818777de398c2d24": {
      "model_module": "@jupyter-widgets/controls",
      "model_module_version": "2.0.0",
      "model_name": "HBoxModel",
      "state": {
       "children": [
        "IPY_MODEL_22e23e2137bd45dbae1ef62bcd32ffca",
        "IPY_MODEL_fbae97fc694341cf9e3309e6425fb160",
        "IPY_MODEL_a15732e2aafb413e8fd04e3283828578"
       ],
       "layout": "IPY_MODEL_9f3a5f8ecd7544b4845cc5e35ca71421"
      }
     },
     "8e1084a8a3714eddbe78a41ad1cab858": {
      "model_module": "@jupyter-widgets/base",
      "model_module_version": "2.0.0",
      "model_name": "LayoutModel",
      "state": {}
     },
     "8e50b6e60ca640b086f33edd09f97dbb": {
      "model_module": "@jupyter-widgets/controls",
      "model_module_version": "2.0.0",
      "model_name": "HBoxModel",
      "state": {
       "children": [
        "IPY_MODEL_194e385260b84506a9337bc832a94b85",
        "IPY_MODEL_0145e14e39f24195a4d4d9c8a47e9007",
        "IPY_MODEL_d6b1ae94ddd04cbf9a23a7692b824f42"
       ],
       "layout": "IPY_MODEL_59004f0dc09f4869ae75a7835fa2a11c"
      }
     },
     "8e7a0b6a8b544fb598240631538cd7a3": {
      "model_module": "@jupyter-widgets/controls",
      "model_module_version": "2.0.0",
      "model_name": "HBoxModel",
      "state": {
       "children": [
        "IPY_MODEL_644271edecba4be2b88aa19137afb8da",
        "IPY_MODEL_fc4e9bb943aa4e71806d936eea62c0ed",
        "IPY_MODEL_056d0efcfbeb482d91e3147211f76cd5"
       ],
       "layout": "IPY_MODEL_79344fe053824c69a806f4cf85201005"
      }
     },
     "8ea95121989941a288d7aee749797707": {
      "model_module": "@jupyter-widgets/controls",
      "model_module_version": "2.0.0",
      "model_name": "ProgressStyleModel",
      "state": {
       "description_width": ""
      }
     },
     "8eafdbc37c2b453ba4f14302d84a5ca8": {
      "model_module": "@jupyter-widgets/base",
      "model_module_version": "2.0.0",
      "model_name": "LayoutModel",
      "state": {}
     },
     "8efed59df720487894fd196a6a70815d": {
      "model_module": "@jupyter-widgets/controls",
      "model_module_version": "2.0.0",
      "model_name": "HTMLStyleModel",
      "state": {
       "description_width": "",
       "font_size": null,
       "text_color": null
      }
     },
     "8f81e0243f7e4d1ab729f5040d9a99c9": {
      "model_module": "@jupyter-widgets/controls",
      "model_module_version": "2.0.0",
      "model_name": "ProgressStyleModel",
      "state": {
       "description_width": ""
      }
     },
     "8fbb55327775462ebc2492ccca00c525": {
      "model_module": "@jupyter-widgets/controls",
      "model_module_version": "2.0.0",
      "model_name": "HTMLModel",
      "state": {
       "layout": "IPY_MODEL_a2c8cfa7a6a44d40950749c4e6cfe1f4",
       "style": "IPY_MODEL_33886faa4d084f9199d9e5291cb831bf",
       "value": " 582/582 [00:12&lt;00:00, 45.48it/s]"
      }
     },
     "8fc968550ca34218b00b076dd06ae52a": {
      "model_module": "@jupyter-widgets/controls",
      "model_module_version": "2.0.0",
      "model_name": "HTMLStyleModel",
      "state": {
       "description_width": "",
       "font_size": null,
       "text_color": null
      }
     },
     "8ffdbc54f5ab40fb8235645fd5eda229": {
      "model_module": "@jupyter-widgets/base",
      "model_module_version": "2.0.0",
      "model_name": "LayoutModel",
      "state": {}
     },
     "90331f07515740b38b28d378066a822f": {
      "model_module": "@jupyter-widgets/controls",
      "model_module_version": "2.0.0",
      "model_name": "HTMLStyleModel",
      "state": {
       "description_width": "",
       "font_size": null,
       "text_color": null
      }
     },
     "9061fd532f05497e8a6c517d0052e3db": {
      "model_module": "@jupyter-widgets/base",
      "model_module_version": "2.0.0",
      "model_name": "LayoutModel",
      "state": {}
     },
     "90ae05257df34aef915eee8bf01ddd97": {
      "model_module": "@jupyter-widgets/controls",
      "model_module_version": "2.0.0",
      "model_name": "ProgressStyleModel",
      "state": {
       "description_width": ""
      }
     },
     "90b18794b0424ff79a280ae0b8731553": {
      "model_module": "@jupyter-widgets/base",
      "model_module_version": "2.0.0",
      "model_name": "LayoutModel",
      "state": {}
     },
     "9111d816d8454876a1b3f5b23958c0b5": {
      "model_module": "@jupyter-widgets/base",
      "model_module_version": "2.0.0",
      "model_name": "LayoutModel",
      "state": {}
     },
     "911a3084415446b09c45295e7f8b6da7": {
      "model_module": "@jupyter-widgets/controls",
      "model_module_version": "2.0.0",
      "model_name": "HTMLStyleModel",
      "state": {
       "description_width": "",
       "font_size": null,
       "text_color": null
      }
     },
     "911a916f4ead418c9efab159c4a3f45c": {
      "model_module": "@jupyter-widgets/controls",
      "model_module_version": "2.0.0",
      "model_name": "ProgressStyleModel",
      "state": {
       "description_width": ""
      }
     },
     "9147ad5a8d3b4a63a4bab94c8e528ed4": {
      "model_module": "@jupyter-widgets/controls",
      "model_module_version": "2.0.0",
      "model_name": "HTMLStyleModel",
      "state": {
       "description_width": "",
       "font_size": null,
       "text_color": null
      }
     },
     "914ca8dfb8184bf0a1fb6c1153c982c9": {
      "model_module": "@jupyter-widgets/controls",
      "model_module_version": "2.0.0",
      "model_name": "FloatProgressModel",
      "state": {
       "bar_style": "success",
       "layout": "IPY_MODEL_77fdb921df9c449d8fefc56dde8821cc",
       "max": 674,
       "style": "IPY_MODEL_8ae0b0dae416409bbf79330735a39a26",
       "value": 674
      }
     },
     "9156579a4a6847f9af24aa7e29898621": {
      "model_module": "@jupyter-widgets/controls",
      "model_module_version": "2.0.0",
      "model_name": "ProgressStyleModel",
      "state": {
       "description_width": ""
      }
     },
     "915b02cc401b43cc88b10b052d058a33": {
      "model_module": "@jupyter-widgets/controls",
      "model_module_version": "2.0.0",
      "model_name": "ProgressStyleModel",
      "state": {
       "description_width": ""
      }
     },
     "915c7e15aa3e413798ed5a361e837fd4": {
      "model_module": "@jupyter-widgets/base",
      "model_module_version": "2.0.0",
      "model_name": "LayoutModel",
      "state": {}
     },
     "91a4713a94e24cf88613aea1dc5b0d14": {
      "model_module": "@jupyter-widgets/controls",
      "model_module_version": "2.0.0",
      "model_name": "HTMLModel",
      "state": {
       "layout": "IPY_MODEL_60e63826b15f4d1cb182e3f6f40286f4",
       "style": "IPY_MODEL_8081f402b6e642b284891f05932a9c66",
       "value": "100%"
      }
     },
     "91f4200459694e54a6498e4728b349b0": {
      "model_module": "@jupyter-widgets/base",
      "model_module_version": "2.0.0",
      "model_name": "LayoutModel",
      "state": {}
     },
     "92143a70e23c4ef793915f3412a57d07": {
      "model_module": "@jupyter-widgets/base",
      "model_module_version": "2.0.0",
      "model_name": "LayoutModel",
      "state": {}
     },
     "929c8863f0f54952abb5bf42db39817f": {
      "model_module": "@jupyter-widgets/base",
      "model_module_version": "2.0.0",
      "model_name": "LayoutModel",
      "state": {}
     },
     "92a30095c005482f89de78bc87db2f59": {
      "model_module": "@jupyter-widgets/controls",
      "model_module_version": "2.0.0",
      "model_name": "HTMLModel",
      "state": {
       "layout": "IPY_MODEL_ddc69c55957745c19f8661ec083d1d84",
       "style": "IPY_MODEL_2aedb079d02e4b15b6c2f8256ab3b638",
       "value": " 118/118 [00:31&lt;00:00,  2.41it/s]"
      }
     },
     "92bcac7742ce43a5b5664761e80a593f": {
      "model_module": "@jupyter-widgets/base",
      "model_module_version": "2.0.0",
      "model_name": "LayoutModel",
      "state": {}
     },
     "92e687a466ef4bb0b55573e3b967d50d": {
      "model_module": "@jupyter-widgets/base",
      "model_module_version": "2.0.0",
      "model_name": "LayoutModel",
      "state": {}
     },
     "92ea88b2ff4f471f94d0f10f8d107c12": {
      "model_module": "@jupyter-widgets/controls",
      "model_module_version": "2.0.0",
      "model_name": "HTMLModel",
      "state": {
       "layout": "IPY_MODEL_1f113b0406f34ee288df85b3f6fc1e92",
       "style": "IPY_MODEL_78cf9cc5f2754a599c0de1b2dfea0ec5",
       "value": " 0/582 [00:00&lt;?, ?it/s]"
      }
     },
     "92f6e04036b643fb9d340cbf49dcf424": {
      "model_module": "@jupyter-widgets/controls",
      "model_module_version": "2.0.0",
      "model_name": "HTMLModel",
      "state": {
       "layout": "IPY_MODEL_748674b4b03c4ddf992556c6383b64f6",
       "style": "IPY_MODEL_fb76dd0971904a909169f2cfbda2db59",
       "value": "100%"
      }
     },
     "932437c49b59428a81f3ca8595dc6404": {
      "model_module": "@jupyter-widgets/controls",
      "model_module_version": "2.0.0",
      "model_name": "FloatProgressModel",
      "state": {
       "bar_style": "success",
       "layout": "IPY_MODEL_c65043abf5d14be0b9ca4acc83efd282",
       "max": 118,
       "style": "IPY_MODEL_a0387544473a4994a6f0f58927eba395",
       "value": 118
      }
     },
     "936b8230c74240489181934585499899": {
      "model_module": "@jupyter-widgets/base",
      "model_module_version": "2.0.0",
      "model_name": "LayoutModel",
      "state": {}
     },
     "93c4e71ff9e1416884747de39ac3c064": {
      "model_module": "@jupyter-widgets/controls",
      "model_module_version": "2.0.0",
      "model_name": "HTMLModel",
      "state": {
       "layout": "IPY_MODEL_f1f43f8619b64f2aaf41eb6dbdc00e0d",
       "style": "IPY_MODEL_f16d79f8508b4220afc6183120932709",
       "value": " 709/709 [00:16&lt;00:00, 44.70it/s]"
      }
     },
     "93fc2f1d2d2a4d93813c9fc14f5ea190": {
      "model_module": "@jupyter-widgets/base",
      "model_module_version": "2.0.0",
      "model_name": "LayoutModel",
      "state": {}
     },
     "94192a3ed8114fae96883a9885759d1b": {
      "model_module": "@jupyter-widgets/controls",
      "model_module_version": "2.0.0",
      "model_name": "HTMLStyleModel",
      "state": {
       "description_width": "",
       "font_size": null,
       "text_color": null
      }
     },
     "941ebfe1ade84f338a98ced65514e1fc": {
      "model_module": "@jupyter-widgets/controls",
      "model_module_version": "2.0.0",
      "model_name": "HTMLStyleModel",
      "state": {
       "description_width": "",
       "font_size": null,
       "text_color": null
      }
     },
     "947e880d04d34246931552937b8b69e6": {
      "model_module": "@jupyter-widgets/controls",
      "model_module_version": "2.0.0",
      "model_name": "HBoxModel",
      "state": {
       "children": [
        "IPY_MODEL_e28bbf81b54f47daaeac4d5290d8b4c2",
        "IPY_MODEL_f603d552adaa4b81bc41d23f0e1f6f22",
        "IPY_MODEL_e1fbffcd09124fb0ad304fdec86cf01d"
       ],
       "layout": "IPY_MODEL_fbe3d91f1b534a94831595c0501a5f96"
      }
     },
     "94879cdb6e3c4e44b0012a87cdc698bc": {
      "model_module": "@jupyter-widgets/base",
      "model_module_version": "2.0.0",
      "model_name": "LayoutModel",
      "state": {}
     },
     "94adcb2090ca457e88a20e4cca1bf375": {
      "model_module": "@jupyter-widgets/controls",
      "model_module_version": "2.0.0",
      "model_name": "FloatProgressModel",
      "state": {
       "bar_style": "success",
       "layout": "IPY_MODEL_4f3142900b934af496365c9523644284",
       "max": 631,
       "style": "IPY_MODEL_c7ccf882c99c4b21b12f84d2cac7f72b",
       "value": 631
      }
     },
     "94ba6fd2880a41d49607b5680254ff92": {
      "model_module": "@jupyter-widgets/base",
      "model_module_version": "2.0.0",
      "model_name": "LayoutModel",
      "state": {}
     },
     "94d947732fdf4955ba7006b88684f559": {
      "model_module": "@jupyter-widgets/controls",
      "model_module_version": "2.0.0",
      "model_name": "HTMLStyleModel",
      "state": {
       "description_width": "",
       "font_size": null,
       "text_color": null
      }
     },
     "954f07010f3d400299de3c67076469c1": {
      "model_module": "@jupyter-widgets/base",
      "model_module_version": "2.0.0",
      "model_name": "LayoutModel",
      "state": {}
     },
     "95b19b56d6f0469ab4961d8576beeaa6": {
      "model_module": "@jupyter-widgets/controls",
      "model_module_version": "2.0.0",
      "model_name": "HBoxModel",
      "state": {
       "children": [
        "IPY_MODEL_76532a1cab6d4dbfb8950605aeefe760",
        "IPY_MODEL_f42c2a3eb3934154aace4528760d7f4d",
        "IPY_MODEL_03306a77bbda42be9fca49bc9b49a2e0"
       ],
       "layout": "IPY_MODEL_ceced663282a410e841ed7dd0ace68ae"
      }
     },
     "963d6bbf16d0436aad7f50b7dad312d7": {
      "model_module": "@jupyter-widgets/controls",
      "model_module_version": "2.0.0",
      "model_name": "HTMLStyleModel",
      "state": {
       "description_width": "",
       "font_size": null,
       "text_color": null
      }
     },
     "965527af42cc4fcd83928084b67efb96": {
      "model_module": "@jupyter-widgets/controls",
      "model_module_version": "2.0.0",
      "model_name": "FloatProgressModel",
      "state": {
       "bar_style": "success",
       "layout": "IPY_MODEL_e7c925fe7f994f47aded2c8233c5569c",
       "max": 542,
       "style": "IPY_MODEL_65c3fe3fb77942e481cfab4f83b1e620",
       "value": 542
      }
     },
     "96d575d67d0d484bbb112a46a733053e": {
      "model_module": "@jupyter-widgets/base",
      "model_module_version": "2.0.0",
      "model_name": "LayoutModel",
      "state": {}
     },
     "97131ca8fd714608a53b7405a5bd9264": {
      "model_module": "@jupyter-widgets/controls",
      "model_module_version": "2.0.0",
      "model_name": "HTMLModel",
      "state": {
       "layout": "IPY_MODEL_0ecbc357dd2149bf80fd52c327e095dd",
       "style": "IPY_MODEL_cdb89bf18aaf4016b60ae1ae95023de8",
       "value": " 663/663 [00:17&lt;00:00, 40.18it/s]"
      }
     },
     "97625e19408e42dd8fea36678f2c2860": {
      "model_module": "@jupyter-widgets/base",
      "model_module_version": "2.0.0",
      "model_name": "LayoutModel",
      "state": {}
     },
     "97645d2281a344089294676cc18759a6": {
      "model_module": "@jupyter-widgets/controls",
      "model_module_version": "2.0.0",
      "model_name": "FloatProgressModel",
      "state": {
       "bar_style": "success",
       "layout": "IPY_MODEL_8ffdbc54f5ab40fb8235645fd5eda229",
       "max": 118,
       "style": "IPY_MODEL_d3265add41ac4dd5b6ad82beb8c1be07",
       "value": 118
      }
     },
     "976ab4f9dc434cb4b49ddcd20918e93d": {
      "model_module": "@jupyter-widgets/base",
      "model_module_version": "2.0.0",
      "model_name": "LayoutModel",
      "state": {}
     },
     "976bf6bb35574d3f8426e40d77cd85b1": {
      "model_module": "@jupyter-widgets/controls",
      "model_module_version": "2.0.0",
      "model_name": "ProgressStyleModel",
      "state": {
       "description_width": ""
      }
     },
     "97785d787e3a4be7a1444f5194f8e4a5": {
      "model_module": "@jupyter-widgets/controls",
      "model_module_version": "2.0.0",
      "model_name": "HTMLModel",
      "state": {
       "layout": "IPY_MODEL_c0026214e73340e1a01284e6bc9bb769",
       "style": "IPY_MODEL_203eb24548eb4c03bbdf01efa5a69816",
       "value": " 582/582 [00:12&lt;00:00, 48.08it/s]"
      }
     },
     "97b1ac6e1f7c453fb3213663b65ad99f": {
      "model_module": "@jupyter-widgets/base",
      "model_module_version": "2.0.0",
      "model_name": "LayoutModel",
      "state": {}
     },
     "97f89a8ca8ce489ab1de25ae0c428a92": {
      "model_module": "@jupyter-widgets/controls",
      "model_module_version": "2.0.0",
      "model_name": "HBoxModel",
      "state": {
       "children": [
        "IPY_MODEL_b43817d00c73478fb60a03b45cf4cc17",
        "IPY_MODEL_65039c6928474bc0b0235b783a0e1f0b",
        "IPY_MODEL_f5dfb4f3701348ff97a1bf397de4615d"
       ],
       "layout": "IPY_MODEL_22976613037a42359efa1580cabff2f4"
      }
     },
     "9829050eb68b4e559cd08947861db079": {
      "model_module": "@jupyter-widgets/base",
      "model_module_version": "2.0.0",
      "model_name": "LayoutModel",
      "state": {}
     },
     "98459531a2244be1b98530daafecc4e3": {
      "model_module": "@jupyter-widgets/base",
      "model_module_version": "2.0.0",
      "model_name": "LayoutModel",
      "state": {}
     },
     "98642c597e5945d7ad79eb5dbcbaaf8f": {
      "model_module": "@jupyter-widgets/base",
      "model_module_version": "2.0.0",
      "model_name": "LayoutModel",
      "state": {}
     },
     "9868ae86fcbb45cc84b37e5918e19a1d": {
      "model_module": "@jupyter-widgets/controls",
      "model_module_version": "2.0.0",
      "model_name": "FloatProgressModel",
      "state": {
       "bar_style": "success",
       "layout": "IPY_MODEL_abb4dcc65921404a865c83b3f00e9f48",
       "max": 707,
       "style": "IPY_MODEL_8ea95121989941a288d7aee749797707",
       "value": 707
      }
     },
     "987b7f08baab450f8d3975ca60af09b6": {
      "model_module": "@jupyter-widgets/controls",
      "model_module_version": "2.0.0",
      "model_name": "FloatProgressModel",
      "state": {
       "bar_style": "danger",
       "layout": "IPY_MODEL_471b2936003c4b188ef92b1ebad2b1dd",
       "max": 118,
       "style": "IPY_MODEL_0c3144770de94fd199b723b78824c1d9"
      }
     },
     "98acaefce1404043877c41a580e02c98": {
      "model_module": "@jupyter-widgets/controls",
      "model_module_version": "2.0.0",
      "model_name": "ProgressStyleModel",
      "state": {
       "description_width": ""
      }
     },
     "98d9baeee5864459841da8df9595ffa6": {
      "model_module": "@jupyter-widgets/controls",
      "model_module_version": "2.0.0",
      "model_name": "ProgressStyleModel",
      "state": {
       "description_width": ""
      }
     },
     "9920da81f1204fb4b04955600f28343c": {
      "model_module": "@jupyter-widgets/base",
      "model_module_version": "2.0.0",
      "model_name": "LayoutModel",
      "state": {}
     },
     "9924d7aed6d54f3fa4a2bf7da2d85c67": {
      "model_module": "@jupyter-widgets/base",
      "model_module_version": "2.0.0",
      "model_name": "LayoutModel",
      "state": {}
     },
     "994022adcdaf47b2b6af0f81a9d43716": {
      "model_module": "@jupyter-widgets/base",
      "model_module_version": "2.0.0",
      "model_name": "LayoutModel",
      "state": {}
     },
     "9943ad6d333542cbb84249203c401c27": {
      "model_module": "@jupyter-widgets/controls",
      "model_module_version": "2.0.0",
      "model_name": "HBoxModel",
      "state": {
       "children": [
        "IPY_MODEL_d8eef0df6aa24dbfbb2fe3ae15cb5d93",
        "IPY_MODEL_b1f661c015cb4324a223a4c941b0331f",
        "IPY_MODEL_2ea9c88d8ffd4e678b2dbfe815e4257b"
       ],
       "layout": "IPY_MODEL_a191efc2be484d7e99a0a22b46fd6936"
      }
     },
     "994aab1a2f704083865399e0dc6c831b": {
      "model_module": "@jupyter-widgets/base",
      "model_module_version": "2.0.0",
      "model_name": "LayoutModel",
      "state": {}
     },
     "99ca6a6c5ab04bf1a2b1b752510de5ea": {
      "model_module": "@jupyter-widgets/controls",
      "model_module_version": "2.0.0",
      "model_name": "HTMLModel",
      "state": {
       "layout": "IPY_MODEL_1be23796b22d4ba882951fd3e4121e1d",
       "style": "IPY_MODEL_2faa636d181b49bdbcd61987c1a5e963",
       "value": " 542/542 [00:12&lt;00:00, 44.54it/s]"
      }
     },
     "9a2c80a24e304f9b9198c0b64c1d862c": {
      "model_module": "@jupyter-widgets/base",
      "model_module_version": "2.0.0",
      "model_name": "LayoutModel",
      "state": {}
     },
     "9a3f1ba4aa9045ad94163b9bd95ec56f": {
      "model_module": "@jupyter-widgets/controls",
      "model_module_version": "2.0.0",
      "model_name": "HTMLModel",
      "state": {
       "layout": "IPY_MODEL_328c04b7c32c4d418302643d0dad1bb1",
       "style": "IPY_MODEL_ad691a305e814d9a982b38f469d25999",
       "value": "100%"
      }
     },
     "9a414d5be459453c917ab2fc5a736434": {
      "model_module": "@jupyter-widgets/controls",
      "model_module_version": "2.0.0",
      "model_name": "HTMLStyleModel",
      "state": {
       "description_width": "",
       "font_size": null,
       "text_color": null
      }
     },
     "9a6f492241a04e2e9b9e8e3761648a99": {
      "model_module": "@jupyter-widgets/base",
      "model_module_version": "2.0.0",
      "model_name": "LayoutModel",
      "state": {}
     },
     "9a85508f40f04eaeb2955d129c94dbba": {
      "model_module": "@jupyter-widgets/base",
      "model_module_version": "2.0.0",
      "model_name": "LayoutModel",
      "state": {}
     },
     "9ab65f160377460daf32179e34c99284": {
      "model_module": "@jupyter-widgets/controls",
      "model_module_version": "2.0.0",
      "model_name": "HBoxModel",
      "state": {
       "children": [
        "IPY_MODEL_259d3451d29b4a078693394d2483afb2",
        "IPY_MODEL_4e5fe976d5fb4fbabfce7b5e6617c84b",
        "IPY_MODEL_93c4e71ff9e1416884747de39ac3c064"
       ],
       "layout": "IPY_MODEL_c92bb179cb2849579b45d578d57ccd66"
      }
     },
     "9abef1a3e30641158bde32879fb81401": {
      "model_module": "@jupyter-widgets/base",
      "model_module_version": "2.0.0",
      "model_name": "LayoutModel",
      "state": {}
     },
     "9ac25f833d4648e699df5a8937016a43": {
      "model_module": "@jupyter-widgets/base",
      "model_module_version": "2.0.0",
      "model_name": "LayoutModel",
      "state": {}
     },
     "9adae96bae7848999faa2e10d91ca8ef": {
      "model_module": "@jupyter-widgets/controls",
      "model_module_version": "2.0.0",
      "model_name": "ProgressStyleModel",
      "state": {
       "description_width": ""
      }
     },
     "9aec75805e474cf39ec78bc3287be0e4": {
      "model_module": "@jupyter-widgets/controls",
      "model_module_version": "2.0.0",
      "model_name": "HTMLModel",
      "state": {
       "layout": "IPY_MODEL_fc6a4f5360784d10b6317cf8d8e39d2c",
       "style": "IPY_MODEL_28d2837d85b74ccda6411ecbe8fd784d",
       "value": " 700/700 [00:15&lt;00:00, 44.27it/s]"
      }
     },
     "9b12e69bd86e4be0820008dd8c8ef778": {
      "model_module": "@jupyter-widgets/controls",
      "model_module_version": "2.0.0",
      "model_name": "HTMLModel",
      "state": {
       "layout": "IPY_MODEL_c717b78a0c2b47aeb1ab8720f97d0890",
       "style": "IPY_MODEL_6ec918bf55ab4dc09ed4ba6a9365942d",
       "value": "100%"
      }
     },
     "9b28192bf8cb46aaaa0ddb425adc32a5": {
      "model_module": "@jupyter-widgets/controls",
      "model_module_version": "2.0.0",
      "model_name": "FloatProgressModel",
      "state": {
       "bar_style": "success",
       "layout": "IPY_MODEL_19dc7c0c4c844152bc733a5b5262f1cd",
       "max": 637,
       "style": "IPY_MODEL_0bd25cde55e24b088e7ecfdbef2235db",
       "value": 637
      }
     },
     "9b825be3697c48749ec03e95b78d2ba3": {
      "model_module": "@jupyter-widgets/base",
      "model_module_version": "2.0.0",
      "model_name": "LayoutModel",
      "state": {}
     },
     "9b852583205f470a99ab4be793e60028": {
      "model_module": "@jupyter-widgets/controls",
      "model_module_version": "2.0.0",
      "model_name": "HTMLStyleModel",
      "state": {
       "description_width": "",
       "font_size": null,
       "text_color": null
      }
     },
     "9ba7d72481164e59839baa76b60a1e94": {
      "model_module": "@jupyter-widgets/base",
      "model_module_version": "2.0.0",
      "model_name": "LayoutModel",
      "state": {}
     },
     "9c4defc7096d4fa2bf449a13ae54fbbd": {
      "model_module": "@jupyter-widgets/controls",
      "model_module_version": "2.0.0",
      "model_name": "ProgressStyleModel",
      "state": {
       "description_width": ""
      }
     },
     "9c5a63706b514416808a5c3382772cec": {
      "model_module": "@jupyter-widgets/controls",
      "model_module_version": "2.0.0",
      "model_name": "HTMLModel",
      "state": {
       "layout": "IPY_MODEL_aba50debf0944c1f8410fd8e1f25c0e6",
       "style": "IPY_MODEL_d09c7c123a7e454eb18e66337e2f0d82",
       "value": " 582/582 [00:14&lt;00:00, 46.13it/s]"
      }
     },
     "9c947880bcf1446ca617296336790ce0": {
      "model_module": "@jupyter-widgets/base",
      "model_module_version": "2.0.0",
      "model_name": "LayoutModel",
      "state": {}
     },
     "9ca8ad4eb903449f9eeb629788823ce9": {
      "model_module": "@jupyter-widgets/controls",
      "model_module_version": "2.0.0",
      "model_name": "HTMLModel",
      "state": {
       "layout": "IPY_MODEL_dfd863c3d8694097843a3d2164f4d129",
       "style": "IPY_MODEL_81a33b136632432a8ce4d52552fea2fd",
       "value": " 797/797 [00:21&lt;00:00, 38.03it/s]"
      }
     },
     "9cc8185f827e457fb3cbe4d5bc4210aa": {
      "model_module": "@jupyter-widgets/controls",
      "model_module_version": "2.0.0",
      "model_name": "HTMLStyleModel",
      "state": {
       "description_width": "",
       "font_size": null,
       "text_color": null
      }
     },
     "9cd9e001ca514123bc6f5a41611715b5": {
      "model_module": "@jupyter-widgets/base",
      "model_module_version": "2.0.0",
      "model_name": "LayoutModel",
      "state": {}
     },
     "9ce72104988a48cebd6b14d6493b38bc": {
      "model_module": "@jupyter-widgets/base",
      "model_module_version": "2.0.0",
      "model_name": "LayoutModel",
      "state": {}
     },
     "9d27d90456cf461a9ed4beea6dcc437b": {
      "model_module": "@jupyter-widgets/controls",
      "model_module_version": "2.0.0",
      "model_name": "FloatProgressModel",
      "state": {
       "bar_style": "success",
       "layout": "IPY_MODEL_7993cba5d5a54077823457196278101e",
       "max": 582,
       "style": "IPY_MODEL_adb67132e2ce49139e3201a30d6cbed4",
       "value": 582
      }
     },
     "9d442354059a4ec2b30ddeedbfdabb3f": {
      "model_module": "@jupyter-widgets/controls",
      "model_module_version": "2.0.0",
      "model_name": "HTMLStyleModel",
      "state": {
       "description_width": "",
       "font_size": null,
       "text_color": null
      }
     },
     "9d4f8778428e4bd598f23ce61c747345": {
      "model_module": "@jupyter-widgets/controls",
      "model_module_version": "2.0.0",
      "model_name": "HBoxModel",
      "state": {
       "children": [
        "IPY_MODEL_038835185ed2455d9627a27548aafb86",
        "IPY_MODEL_41409a34e13e496b87ea37d5b7a85a84",
        "IPY_MODEL_bc2bee5d84774a0182ba7405f6f74aa5"
       ],
       "layout": "IPY_MODEL_6050e488f07b434d9a1c4785e95254f4"
      }
     },
     "9d71aa94787946d9b1155abe9b2da62b": {
      "model_module": "@jupyter-widgets/controls",
      "model_module_version": "2.0.0",
      "model_name": "ProgressStyleModel",
      "state": {
       "description_width": ""
      }
     },
     "9d9c19e6577544f39030960f413defe8": {
      "model_module": "@jupyter-widgets/controls",
      "model_module_version": "2.0.0",
      "model_name": "HTMLStyleModel",
      "state": {
       "description_width": "",
       "font_size": null,
       "text_color": null
      }
     },
     "9dc8109f12944cc886ff75910bda3597": {
      "model_module": "@jupyter-widgets/controls",
      "model_module_version": "2.0.0",
      "model_name": "ProgressStyleModel",
      "state": {
       "description_width": ""
      }
     },
     "9ddaec79b4424616a0038a3ae5434748": {
      "model_module": "@jupyter-widgets/controls",
      "model_module_version": "2.0.0",
      "model_name": "ProgressStyleModel",
      "state": {
       "description_width": ""
      }
     },
     "9e2a521579f944dea24d95feb836d33b": {
      "model_module": "@jupyter-widgets/base",
      "model_module_version": "2.0.0",
      "model_name": "LayoutModel",
      "state": {}
     },
     "9e93ba0b6b9e4a0b919dca47e7dcbb3a": {
      "model_module": "@jupyter-widgets/base",
      "model_module_version": "2.0.0",
      "model_name": "LayoutModel",
      "state": {}
     },
     "9e9f7ae6eb0b445aa0186600dbb870d9": {
      "model_module": "@jupyter-widgets/base",
      "model_module_version": "2.0.0",
      "model_name": "LayoutModel",
      "state": {}
     },
     "9eae31f7078b4e4c8dfbaf658bc8144c": {
      "model_module": "@jupyter-widgets/controls",
      "model_module_version": "2.0.0",
      "model_name": "HTMLStyleModel",
      "state": {
       "description_width": "",
       "font_size": null,
       "text_color": null
      }
     },
     "9eb5790392dc4b5ebf43809d7f0741df": {
      "model_module": "@jupyter-widgets/controls",
      "model_module_version": "2.0.0",
      "model_name": "HTMLStyleModel",
      "state": {
       "description_width": "",
       "font_size": null,
       "text_color": null
      }
     },
     "9ecff5840c47450faabd99390f229656": {
      "model_module": "@jupyter-widgets/base",
      "model_module_version": "2.0.0",
      "model_name": "LayoutModel",
      "state": {}
     },
     "9ed93552fcc34d64b7730b7aed457f44": {
      "model_module": "@jupyter-widgets/base",
      "model_module_version": "2.0.0",
      "model_name": "LayoutModel",
      "state": {}
     },
     "9edb5fe5791b45989c12f30d4a07bf7a": {
      "model_module": "@jupyter-widgets/controls",
      "model_module_version": "2.0.0",
      "model_name": "ProgressStyleModel",
      "state": {
       "description_width": ""
      }
     },
     "9f3a5f8ecd7544b4845cc5e35ca71421": {
      "model_module": "@jupyter-widgets/base",
      "model_module_version": "2.0.0",
      "model_name": "LayoutModel",
      "state": {}
     },
     "9f3ec56526b74ad297a93c458791c5c2": {
      "model_module": "@jupyter-widgets/base",
      "model_module_version": "2.0.0",
      "model_name": "LayoutModel",
      "state": {}
     },
     "9f4a3601f7dd43099055b5fd254ff986": {
      "model_module": "@jupyter-widgets/controls",
      "model_module_version": "2.0.0",
      "model_name": "FloatProgressModel",
      "state": {
       "bar_style": "success",
       "layout": "IPY_MODEL_bc2e47f36d384b63bd53296660aa01d2",
       "max": 681,
       "style": "IPY_MODEL_126ee5e2120e4f3d9c4314669466b2df",
       "value": 681
      }
     },
     "9f61591e7f964fd6baf641053b77eb52": {
      "model_module": "@jupyter-widgets/base",
      "model_module_version": "2.0.0",
      "model_name": "LayoutModel",
      "state": {}
     },
     "9f6844672e6c48249f9074f405655dd6": {
      "model_module": "@jupyter-widgets/base",
      "model_module_version": "2.0.0",
      "model_name": "LayoutModel",
      "state": {}
     },
     "9f9bdb87630149af889cc4054754b110": {
      "model_module": "@jupyter-widgets/controls",
      "model_module_version": "2.0.0",
      "model_name": "HTMLStyleModel",
      "state": {
       "description_width": "",
       "font_size": null,
       "text_color": null
      }
     },
     "9fb3265ed4094463b3a6a82551de1e8a": {
      "model_module": "@jupyter-widgets/controls",
      "model_module_version": "2.0.0",
      "model_name": "HTMLModel",
      "state": {
       "layout": "IPY_MODEL_4ee64f46565e4c54bd01c8f139d606f1",
       "style": "IPY_MODEL_5d173ff65fb44618a8d6ed6c0dc7bc87",
       "value": " 118/118 [00:38&lt;00:00,  3.10it/s]"
      }
     },
     "9fb326c7901c47e197d798c643b17c88": {
      "model_module": "@jupyter-widgets/base",
      "model_module_version": "2.0.0",
      "model_name": "LayoutModel",
      "state": {}
     },
     "a0289b6ee1314b26b2901b6a2ffe506a": {
      "model_module": "@jupyter-widgets/controls",
      "model_module_version": "2.0.0",
      "model_name": "HTMLModel",
      "state": {
       "layout": "IPY_MODEL_4ff1e8073a964b5eb5679a99d2970c18",
       "style": "IPY_MODEL_65ecfbc35cd04372af1b5e5b294c6796",
       "value": " 582/582 [00:12&lt;00:00, 46.39it/s]"
      }
     },
     "a0360f1443dc4e338c159832fd2dedac": {
      "model_module": "@jupyter-widgets/base",
      "model_module_version": "2.0.0",
      "model_name": "LayoutModel",
      "state": {}
     },
     "a0387544473a4994a6f0f58927eba395": {
      "model_module": "@jupyter-widgets/controls",
      "model_module_version": "2.0.0",
      "model_name": "ProgressStyleModel",
      "state": {
       "description_width": ""
      }
     },
     "a03fdbebae1c47e1a7a0e49a993aaa35": {
      "model_module": "@jupyter-widgets/base",
      "model_module_version": "2.0.0",
      "model_name": "LayoutModel",
      "state": {}
     },
     "a077000080af414897cdb7d1e2864367": {
      "model_module": "@jupyter-widgets/controls",
      "model_module_version": "2.0.0",
      "model_name": "HTMLModel",
      "state": {
       "layout": "IPY_MODEL_4b7f80e78167411d873dbd68f07728b1",
       "style": "IPY_MODEL_0e81dca228a646769983ad19fdcf6a41",
       "value": "100%"
      }
     },
     "a07a5435eab14c9392d66aa69df41f93": {
      "model_module": "@jupyter-widgets/controls",
      "model_module_version": "2.0.0",
      "model_name": "HTMLModel",
      "state": {
       "layout": "IPY_MODEL_efb842b0de4648c0b5710a17cb617d7d",
       "style": "IPY_MODEL_4783780347b646c58062f5a7b43f9483",
       "value": "100%"
      }
     },
     "a08fb74b7b7643978c93a82d00cdcc3a": {
      "model_module": "@jupyter-widgets/base",
      "model_module_version": "2.0.0",
      "model_name": "LayoutModel",
      "state": {}
     },
     "a0b9e7e3aab8477eb19c3c3352a0c4bf": {
      "model_module": "@jupyter-widgets/controls",
      "model_module_version": "2.0.0",
      "model_name": "HTMLStyleModel",
      "state": {
       "description_width": "",
       "font_size": null,
       "text_color": null
      }
     },
     "a0db1b8773204109aa749bdfc9106015": {
      "model_module": "@jupyter-widgets/controls",
      "model_module_version": "2.0.0",
      "model_name": "HTMLStyleModel",
      "state": {
       "description_width": "",
       "font_size": null,
       "text_color": null
      }
     },
     "a0eed69bac664e5889b336f353bf9617": {
      "model_module": "@jupyter-widgets/controls",
      "model_module_version": "2.0.0",
      "model_name": "HBoxModel",
      "state": {
       "children": [
        "IPY_MODEL_91a4713a94e24cf88613aea1dc5b0d14",
        "IPY_MODEL_ee5a3d688156485ab26c07f3d3d1d9f5",
        "IPY_MODEL_c894fa79e07a4bc8a32812a8947f456a"
       ],
       "layout": "IPY_MODEL_f3b3ec3534f244f6a4b4fcfec4a3e46b"
      }
     },
     "a0ffcf9570ae4810a00a8e9b0ab7f274": {
      "model_module": "@jupyter-widgets/base",
      "model_module_version": "2.0.0",
      "model_name": "LayoutModel",
      "state": {}
     },
     "a1216090c3f0420cb35348f226effe7e": {
      "model_module": "@jupyter-widgets/base",
      "model_module_version": "2.0.0",
      "model_name": "LayoutModel",
      "state": {}
     },
     "a136cf73bfe74765afc11cd1ca0e4bf2": {
      "model_module": "@jupyter-widgets/controls",
      "model_module_version": "2.0.0",
      "model_name": "HTMLModel",
      "state": {
       "layout": "IPY_MODEL_047c29d9a0cf44fcbcbfce8b22f7601d",
       "style": "IPY_MODEL_02bf4e3e9c1c455aa3769beacd25f65f",
       "value": " 618/618 [00:13&lt;00:00, 44.69it/s]"
      }
     },
     "a15732e2aafb413e8fd04e3283828578": {
      "model_module": "@jupyter-widgets/controls",
      "model_module_version": "2.0.0",
      "model_name": "HTMLModel",
      "state": {
       "layout": "IPY_MODEL_a26b3eabcd224fcfa8b508649fc31fb1",
       "style": "IPY_MODEL_3d80c3ed990549708138aa171aaaa43c",
       "value": " 623/623 [00:14&lt;00:00, 32.24it/s]"
      }
     },
     "a1637f4901f343eb8a83b1e3c2e1846a": {
      "model_module": "@jupyter-widgets/controls",
      "model_module_version": "2.0.0",
      "model_name": "HBoxModel",
      "state": {
       "children": [
        "IPY_MODEL_592ac5865ebf4787ada8013e9f7c890e",
        "IPY_MODEL_3dc04997d1764198b95770a38c0d5122",
        "IPY_MODEL_42399a71cf6d402bb6fd44ca3f3ed3c8"
       ],
       "layout": "IPY_MODEL_410693420f6443a4a678b36a9dc556ef"
      }
     },
     "a19171e4c5094eecbff1671eae4957c5": {
      "model_module": "@jupyter-widgets/base",
      "model_module_version": "2.0.0",
      "model_name": "LayoutModel",
      "state": {}
     },
     "a191efc2be484d7e99a0a22b46fd6936": {
      "model_module": "@jupyter-widgets/base",
      "model_module_version": "2.0.0",
      "model_name": "LayoutModel",
      "state": {}
     },
     "a1971f4fc6bd443abdc94749b771ce0b": {
      "model_module": "@jupyter-widgets/controls",
      "model_module_version": "2.0.0",
      "model_name": "HTMLModel",
      "state": {
       "layout": "IPY_MODEL_726cd8d2e62144b78d547d6183088f89",
       "style": "IPY_MODEL_8dab50e9a44d4175a86567127a56da6e",
       "value": "100%"
      }
     },
     "a1b4cfcc52a643e1b401f0a060308a05": {
      "model_module": "@jupyter-widgets/base",
      "model_module_version": "2.0.0",
      "model_name": "LayoutModel",
      "state": {}
     },
     "a1eaf5d964ca49b287e63eaf2550d665": {
      "model_module": "@jupyter-widgets/controls",
      "model_module_version": "2.0.0",
      "model_name": "HTMLModel",
      "state": {
       "layout": "IPY_MODEL_3c95f0d3aaba4781a3326736be9719c4",
       "style": "IPY_MODEL_1c9944db76d04a5886a9f6634847a50d",
       "value": " 722/722 [00:15&lt;00:00, 46.48it/s]"
      }
     },
     "a2160fcae1ce47dc855aa01199b26201": {
      "model_module": "@jupyter-widgets/controls",
      "model_module_version": "2.0.0",
      "model_name": "HTMLStyleModel",
      "state": {
       "description_width": "",
       "font_size": null,
       "text_color": null
      }
     },
     "a22f07e919c745f983e9cbb418dedf07": {
      "model_module": "@jupyter-widgets/controls",
      "model_module_version": "2.0.0",
      "model_name": "HTMLStyleModel",
      "state": {
       "description_width": "",
       "font_size": null,
       "text_color": null
      }
     },
     "a26b3eabcd224fcfa8b508649fc31fb1": {
      "model_module": "@jupyter-widgets/base",
      "model_module_version": "2.0.0",
      "model_name": "LayoutModel",
      "state": {}
     },
     "a2771d6ab3f9437598a8ca7b7fad2ca9": {
      "model_module": "@jupyter-widgets/controls",
      "model_module_version": "2.0.0",
      "model_name": "ProgressStyleModel",
      "state": {
       "description_width": ""
      }
     },
     "a2901dd4db0f4dadb1cddf919e9f9e72": {
      "model_module": "@jupyter-widgets/controls",
      "model_module_version": "2.0.0",
      "model_name": "FloatProgressModel",
      "state": {
       "bar_style": "success",
       "layout": "IPY_MODEL_a957531e040f4d03b8fad6592cc71dbb",
       "max": 612,
       "style": "IPY_MODEL_a7041dfcfcb24c4ba2495e8c12d4e779",
       "value": 612
      }
     },
     "a2a6ea4465a84131aaab6a9ef0a343bf": {
      "model_module": "@jupyter-widgets/controls",
      "model_module_version": "2.0.0",
      "model_name": "HTMLStyleModel",
      "state": {
       "description_width": "",
       "font_size": null,
       "text_color": null
      }
     },
     "a2b9e87f34d5468eb70d5e3433dd495f": {
      "model_module": "@jupyter-widgets/controls",
      "model_module_version": "2.0.0",
      "model_name": "HTMLStyleModel",
      "state": {
       "description_width": "",
       "font_size": null,
       "text_color": null
      }
     },
     "a2c8cfa7a6a44d40950749c4e6cfe1f4": {
      "model_module": "@jupyter-widgets/base",
      "model_module_version": "2.0.0",
      "model_name": "LayoutModel",
      "state": {}
     },
     "a2dd9d1751874c01b0cccd6e077e2414": {
      "model_module": "@jupyter-widgets/controls",
      "model_module_version": "2.0.0",
      "model_name": "HBoxModel",
      "state": {
       "children": [
        "IPY_MODEL_d6a48e1f110b486a92ea70edc51c9265",
        "IPY_MODEL_e621d295ed4f4086ae0fcf3435a80c27",
        "IPY_MODEL_f1e9cce0b3e046029a261c58687ea85c"
       ],
       "layout": "IPY_MODEL_1f7ff16e3f6344e592cc51e2f93efe08"
      }
     },
     "a2f1f67614d1453f852269b7af76410b": {
      "model_module": "@jupyter-widgets/controls",
      "model_module_version": "2.0.0",
      "model_name": "HTMLStyleModel",
      "state": {
       "description_width": "",
       "font_size": null,
       "text_color": null
      }
     },
     "a2fc840fbaf34da68b4976580e1dab40": {
      "model_module": "@jupyter-widgets/controls",
      "model_module_version": "2.0.0",
      "model_name": "HBoxModel",
      "state": {
       "children": [
        "IPY_MODEL_4392df82ae014deb9674defde0293c96",
        "IPY_MODEL_965527af42cc4fcd83928084b67efb96",
        "IPY_MODEL_99ca6a6c5ab04bf1a2b1b752510de5ea"
       ],
       "layout": "IPY_MODEL_2dfcdce700da450f9414bc752ffec2c3"
      }
     },
     "a3531cc4861c460aac776caf1a415dfd": {
      "model_module": "@jupyter-widgets/base",
      "model_module_version": "2.0.0",
      "model_name": "LayoutModel",
      "state": {}
     },
     "a38618e62b3c45ddbf00e3c84f58df2f": {
      "model_module": "@jupyter-widgets/controls",
      "model_module_version": "2.0.0",
      "model_name": "HBoxModel",
      "state": {
       "children": [
        "IPY_MODEL_7054ad66405448e29dc6cb21a086e97f",
        "IPY_MODEL_d9030c8315d54b2f80ce8bc9bf81bff9",
        "IPY_MODEL_5aa50610418a44bbac56205969899727"
       ],
       "layout": "IPY_MODEL_bbc513f68d5d416c908ed6e325798ceb"
      }
     },
     "a398f9f7f36840f6a396d9bdfed76d74": {
      "model_module": "@jupyter-widgets/base",
      "model_module_version": "2.0.0",
      "model_name": "LayoutModel",
      "state": {}
     },
     "a3a771648ef04701a70d0d4acb6fcc47": {
      "model_module": "@jupyter-widgets/controls",
      "model_module_version": "2.0.0",
      "model_name": "HTMLModel",
      "state": {
       "layout": "IPY_MODEL_fd291bff8dab4c189b565be4a8a714c5",
       "style": "IPY_MODEL_6a98b3b068f14d19b783debe07b71e42",
       "value": "100%"
      }
     },
     "a3c01fe9c4d148a8bb53c1f3c34f1ec6": {
      "model_module": "@jupyter-widgets/base",
      "model_module_version": "2.0.0",
      "model_name": "LayoutModel",
      "state": {}
     },
     "a4e808f794044ab791e9e04b6ac94679": {
      "model_module": "@jupyter-widgets/controls",
      "model_module_version": "2.0.0",
      "model_name": "HTMLModel",
      "state": {
       "layout": "IPY_MODEL_e802a157b550432d8f3726d76af08e39",
       "style": "IPY_MODEL_0d40d5a20b8c4544a894ddf93f734992",
       "value": "100%"
      }
     },
     "a4f166bb92c04e5f952a3577c634e1e0": {
      "model_module": "@jupyter-widgets/base",
      "model_module_version": "2.0.0",
      "model_name": "LayoutModel",
      "state": {}
     },
     "a52ea54363f942ba90d80faa7825fe2e": {
      "model_module": "@jupyter-widgets/controls",
      "model_module_version": "2.0.0",
      "model_name": "HTMLModel",
      "state": {
       "layout": "IPY_MODEL_6cdb8d2dad074266900c003616ce9a96",
       "style": "IPY_MODEL_c8aa26c6cc064f059565ed54d3d142ae",
       "value": "100%"
      }
     },
     "a5328e174f104025bc789053911e7e0d": {
      "model_module": "@jupyter-widgets/controls",
      "model_module_version": "2.0.0",
      "model_name": "HTMLStyleModel",
      "state": {
       "description_width": "",
       "font_size": null,
       "text_color": null
      }
     },
     "a5708caf73084d21be16a78f11ea5f63": {
      "model_module": "@jupyter-widgets/base",
      "model_module_version": "2.0.0",
      "model_name": "LayoutModel",
      "state": {}
     },
     "a5d453657583490995aa4b9c68622df0": {
      "model_module": "@jupyter-widgets/controls",
      "model_module_version": "2.0.0",
      "model_name": "FloatProgressModel",
      "state": {
       "bar_style": "success",
       "layout": "IPY_MODEL_7e55c024cc124da38ef40df2f68021b1",
       "max": 118,
       "style": "IPY_MODEL_976bf6bb35574d3f8426e40d77cd85b1",
       "value": 118
      }
     },
     "a5e023dab6cd46d3985efe821ee1632e": {
      "model_module": "@jupyter-widgets/controls",
      "model_module_version": "2.0.0",
      "model_name": "HTMLModel",
      "state": {
       "layout": "IPY_MODEL_e6fe5435e0b042328c6d2d35667c308b",
       "style": "IPY_MODEL_738ee80441e44b8fa51e2b1a5da0ea1a",
       "value": " 703/703 [00:17&lt;00:00, 46.06it/s]"
      }
     },
     "a64a39a316aa41389af60b8b7cd6d9e5": {
      "model_module": "@jupyter-widgets/base",
      "model_module_version": "2.0.0",
      "model_name": "LayoutModel",
      "state": {}
     },
     "a656340dadba450b8aff1688d7eb0d32": {
      "model_module": "@jupyter-widgets/controls",
      "model_module_version": "2.0.0",
      "model_name": "FloatProgressModel",
      "state": {
       "bar_style": "success",
       "layout": "IPY_MODEL_9a2c80a24e304f9b9198c0b64c1d862c",
       "max": 118,
       "style": "IPY_MODEL_55b3b3691bc34c36b1e7d2ff59e91dcb",
       "value": 118
      }
     },
     "a66c2eb728594477a8fb48302eeec6ae": {
      "model_module": "@jupyter-widgets/base",
      "model_module_version": "2.0.0",
      "model_name": "LayoutModel",
      "state": {}
     },
     "a66eb9de637441a0a7c3aeb88a221d49": {
      "model_module": "@jupyter-widgets/controls",
      "model_module_version": "2.0.0",
      "model_name": "FloatProgressModel",
      "state": {
       "bar_style": "success",
       "layout": "IPY_MODEL_9061fd532f05497e8a6c517d0052e3db",
       "max": 797,
       "style": "IPY_MODEL_4f2afbcbab044d7597f8aba5a3ef84c9",
       "value": 797
      }
     },
     "a695c0aedc9848ff8d53a2fb6e7de3ea": {
      "model_module": "@jupyter-widgets/controls",
      "model_module_version": "2.0.0",
      "model_name": "HBoxModel",
      "state": {
       "children": [
        "IPY_MODEL_89896b0a0f68481b97da19aece55c3a9",
        "IPY_MODEL_48554044577a4b908220dbf934d2ef98",
        "IPY_MODEL_b9faaf33ef6f41f89c41a7a861a370f5"
       ],
       "layout": "IPY_MODEL_dac51d7172bd4e4bb515d9655807f54a"
      }
     },
     "a6c3c56bab0345f0917201c08860eccf": {
      "model_module": "@jupyter-widgets/base",
      "model_module_version": "2.0.0",
      "model_name": "LayoutModel",
      "state": {}
     },
     "a7041dfcfcb24c4ba2495e8c12d4e779": {
      "model_module": "@jupyter-widgets/controls",
      "model_module_version": "2.0.0",
      "model_name": "ProgressStyleModel",
      "state": {
       "description_width": ""
      }
     },
     "a706fcae00aa44619e9e11729315446b": {
      "model_module": "@jupyter-widgets/controls",
      "model_module_version": "2.0.0",
      "model_name": "ProgressStyleModel",
      "state": {
       "description_width": ""
      }
     },
     "a71176f634534c96a5eb8a0bd96a8d00": {
      "model_module": "@jupyter-widgets/base",
      "model_module_version": "2.0.0",
      "model_name": "LayoutModel",
      "state": {}
     },
     "a776fcc9af94454eaf53ca810e21ca75": {
      "model_module": "@jupyter-widgets/base",
      "model_module_version": "2.0.0",
      "model_name": "LayoutModel",
      "state": {}
     },
     "a77f2078f06c49c495b5f49f9f4d4136": {
      "model_module": "@jupyter-widgets/base",
      "model_module_version": "2.0.0",
      "model_name": "LayoutModel",
      "state": {}
     },
     "a79c1a5b3d2c43cb908a52e9d82b9f77": {
      "model_module": "@jupyter-widgets/base",
      "model_module_version": "2.0.0",
      "model_name": "LayoutModel",
      "state": {}
     },
     "a824cc75d94545babf4aca718fd22401": {
      "model_module": "@jupyter-widgets/base",
      "model_module_version": "2.0.0",
      "model_name": "LayoutModel",
      "state": {}
     },
     "a8d08be41f92461db8535fc1bea289cd": {
      "model_module": "@jupyter-widgets/base",
      "model_module_version": "2.0.0",
      "model_name": "LayoutModel",
      "state": {}
     },
     "a8e211ede01e446b9a8fb83ddebf1027": {
      "model_module": "@jupyter-widgets/base",
      "model_module_version": "2.0.0",
      "model_name": "LayoutModel",
      "state": {}
     },
     "a8f5282649e04b309540ac9d0944cb80": {
      "model_module": "@jupyter-widgets/controls",
      "model_module_version": "2.0.0",
      "model_name": "HTMLStyleModel",
      "state": {
       "description_width": "",
       "font_size": null,
       "text_color": null
      }
     },
     "a8f536266f31488c878571253be8e6aa": {
      "model_module": "@jupyter-widgets/controls",
      "model_module_version": "2.0.0",
      "model_name": "HTMLModel",
      "state": {
       "layout": "IPY_MODEL_1c7ada74940e4c89ae898a7c7ee63fd5",
       "style": "IPY_MODEL_a0b9e7e3aab8477eb19c3c3352a0c4bf",
       "value": "100%"
      }
     },
     "a92fa60df5a74b728263ed7f1f939b22": {
      "model_module": "@jupyter-widgets/controls",
      "model_module_version": "2.0.0",
      "model_name": "HTMLModel",
      "state": {
       "layout": "IPY_MODEL_d456de98fbe34ff2b456b9087933d674",
       "style": "IPY_MODEL_023965b07273427c9b264f577d0c9cf7",
       "value": "  0%"
      }
     },
     "a957531e040f4d03b8fad6592cc71dbb": {
      "model_module": "@jupyter-widgets/base",
      "model_module_version": "2.0.0",
      "model_name": "LayoutModel",
      "state": {}
     },
     "a98b2b0a96e345cd8e42878c6a284197": {
      "model_module": "@jupyter-widgets/base",
      "model_module_version": "2.0.0",
      "model_name": "LayoutModel",
      "state": {}
     },
     "a99e7f7109a8407da161575d66cb241f": {
      "model_module": "@jupyter-widgets/controls",
      "model_module_version": "2.0.0",
      "model_name": "HTMLModel",
      "state": {
       "layout": "IPY_MODEL_aaea2e7fca9943df92d9ccb4bca9d447",
       "style": "IPY_MODEL_c209edf6a2284f9493cd7e1c613ac1c4",
       "value": " 630/630 [00:13&lt;00:00, 44.75it/s]"
      }
     },
     "a9c5a1fbbc0540d79022f4e7b68c1ae0": {
      "model_module": "@jupyter-widgets/base",
      "model_module_version": "2.0.0",
      "model_name": "LayoutModel",
      "state": {}
     },
     "a9f894a1c51a4441b88a3bbecb2b6ddf": {
      "model_module": "@jupyter-widgets/controls",
      "model_module_version": "2.0.0",
      "model_name": "FloatProgressModel",
      "state": {
       "bar_style": "success",
       "layout": "IPY_MODEL_4647222f7adc41a28a7dada3d3925ef1",
       "max": 657,
       "style": "IPY_MODEL_002c7d9693744207aec1bbd45f460c65",
       "value": 657
      }
     },
     "aa179e5822284ccd97b0b0e1261b80b0": {
      "model_module": "@jupyter-widgets/base",
      "model_module_version": "2.0.0",
      "model_name": "LayoutModel",
      "state": {}
     },
     "aa2cb0f482dc4fbf90e1de4b9d6ec53c": {
      "model_module": "@jupyter-widgets/controls",
      "model_module_version": "2.0.0",
      "model_name": "HTMLModel",
      "state": {
       "layout": "IPY_MODEL_81bb8e0502df4f22be52edeb4fe1aaf0",
       "style": "IPY_MODEL_54517276a6d044729df4f5505944f784",
       "value": " 118/118 [00:39&lt;00:00,  2.99it/s]"
      }
     },
     "aa36599f397e4e948bf0f7cb3cd116ac": {
      "model_module": "@jupyter-widgets/controls",
      "model_module_version": "2.0.0",
      "model_name": "HTMLStyleModel",
      "state": {
       "description_width": "",
       "font_size": null,
       "text_color": null
      }
     },
     "aa6e94d8448d461a91454e266fd06db4": {
      "model_module": "@jupyter-widgets/controls",
      "model_module_version": "2.0.0",
      "model_name": "HTMLStyleModel",
      "state": {
       "description_width": "",
       "font_size": null,
       "text_color": null
      }
     },
     "aa837516bfd946e18932ac01f3c20db2": {
      "model_module": "@jupyter-widgets/base",
      "model_module_version": "2.0.0",
      "model_name": "LayoutModel",
      "state": {}
     },
     "aa96dfe9d37e40a0a26d561937cf291c": {
      "model_module": "@jupyter-widgets/controls",
      "model_module_version": "2.0.0",
      "model_name": "HTMLModel",
      "state": {
       "layout": "IPY_MODEL_cd7654f222c54a7d95913024d192d428",
       "style": "IPY_MODEL_398a9bfdf33143009e6be71db1e1d3b2",
       "value": "100%"
      }
     },
     "aaa5c209663049b8bae80c452132a058": {
      "model_module": "@jupyter-widgets/base",
      "model_module_version": "2.0.0",
      "model_name": "LayoutModel",
      "state": {}
     },
     "aaea2e7fca9943df92d9ccb4bca9d447": {
      "model_module": "@jupyter-widgets/base",
      "model_module_version": "2.0.0",
      "model_name": "LayoutModel",
      "state": {}
     },
     "ab3dc18564434454961bdfc7ddf3f2a1": {
      "model_module": "@jupyter-widgets/controls",
      "model_module_version": "2.0.0",
      "model_name": "HBoxModel",
      "state": {
       "children": [
        "IPY_MODEL_d5921110f5494d1f8d07956b7691407e",
        "IPY_MODEL_a66eb9de637441a0a7c3aeb88a221d49",
        "IPY_MODEL_9ca8ad4eb903449f9eeb629788823ce9"
       ],
       "layout": "IPY_MODEL_5c7a6bb9362a4f82ba28641399da13ca"
      }
     },
     "ab3e020310694618a24bade165750b35": {
      "model_module": "@jupyter-widgets/base",
      "model_module_version": "2.0.0",
      "model_name": "LayoutModel",
      "state": {}
     },
     "ab7f49e6b4c54d4598429a58333a7d6d": {
      "model_module": "@jupyter-widgets/controls",
      "model_module_version": "2.0.0",
      "model_name": "HTMLStyleModel",
      "state": {
       "description_width": "",
       "font_size": null,
       "text_color": null
      }
     },
     "aba50debf0944c1f8410fd8e1f25c0e6": {
      "model_module": "@jupyter-widgets/base",
      "model_module_version": "2.0.0",
      "model_name": "LayoutModel",
      "state": {}
     },
     "ababe6cc711a410fb8148aeffbdfa5bf": {
      "model_module": "@jupyter-widgets/controls",
      "model_module_version": "2.0.0",
      "model_name": "HBoxModel",
      "state": {
       "children": [
        "IPY_MODEL_3239bdee8a244337a647037023ce5f65",
        "IPY_MODEL_07d2a05a691841fe96104994e99f448b",
        "IPY_MODEL_40100edf8ce14c1097a85becfaedfc21"
       ],
       "layout": "IPY_MODEL_ad4c2f815f2d4b35aa18e1ac5ceac109"
      }
     },
     "abb4dcc65921404a865c83b3f00e9f48": {
      "model_module": "@jupyter-widgets/base",
      "model_module_version": "2.0.0",
      "model_name": "LayoutModel",
      "state": {}
     },
     "ac0470a77a354901bcf7d51396a0389c": {
      "model_module": "@jupyter-widgets/base",
      "model_module_version": "2.0.0",
      "model_name": "LayoutModel",
      "state": {}
     },
     "ac52217720274af19fbffe6150b31bd9": {
      "model_module": "@jupyter-widgets/controls",
      "model_module_version": "2.0.0",
      "model_name": "HBoxModel",
      "state": {
       "children": [
        "IPY_MODEL_5a424caf15884f91b50617c787b2e52d",
        "IPY_MODEL_f4702e92be70412a8393c420e31e9940",
        "IPY_MODEL_dd7ca07be8654ef9be0aff81d28aeb4d"
       ],
       "layout": "IPY_MODEL_6ffcfdd58ff642f49b01f648835afe6f"
      }
     },
     "ac74c837fb884c19986d0c480f147c84": {
      "model_module": "@jupyter-widgets/controls",
      "model_module_version": "2.0.0",
      "model_name": "HTMLModel",
      "state": {
       "layout": "IPY_MODEL_0baf17f30e44471885c60d29a64a0fbe",
       "style": "IPY_MODEL_28b224b725d2485abda2fbcbf82a2660",
       "value": "100%"
      }
     },
     "acc607f35cb844178be29faf2e712b21": {
      "model_module": "@jupyter-widgets/controls",
      "model_module_version": "2.0.0",
      "model_name": "HBoxModel",
      "state": {
       "children": [
        "IPY_MODEL_f610b7365cd2432fba02eb6ff21a9f25",
        "IPY_MODEL_b5e6ee96c96946bebf9df2de2d9d6501",
        "IPY_MODEL_3832a6e8fad745449ff1fc37574afed8"
       ],
       "layout": "IPY_MODEL_9920da81f1204fb4b04955600f28343c"
      }
     },
     "accad379d49c44a58b58ba73dcfa2fd5": {
      "model_module": "@jupyter-widgets/base",
      "model_module_version": "2.0.0",
      "model_name": "LayoutModel",
      "state": {}
     },
     "acd0dd146531463187e8439b86bcc4c8": {
      "model_module": "@jupyter-widgets/controls",
      "model_module_version": "2.0.0",
      "model_name": "HTMLModel",
      "state": {
       "layout": "IPY_MODEL_748ac9acdaee463e8f879f1a80d13d50",
       "style": "IPY_MODEL_1e4fd9b8f6874f6c8fdf0ea13f5801e5",
       "value": "100%"
      }
     },
     "ad0c0bd755a94c4393fcef360a09e390": {
      "model_module": "@jupyter-widgets/controls",
      "model_module_version": "2.0.0",
      "model_name": "ProgressStyleModel",
      "state": {
       "description_width": ""
      }
     },
     "ad4c2f815f2d4b35aa18e1ac5ceac109": {
      "model_module": "@jupyter-widgets/base",
      "model_module_version": "2.0.0",
      "model_name": "LayoutModel",
      "state": {}
     },
     "ad68ceb8531247938922a3e4dffc2deb": {
      "model_module": "@jupyter-widgets/base",
      "model_module_version": "2.0.0",
      "model_name": "LayoutModel",
      "state": {}
     },
     "ad691a305e814d9a982b38f469d25999": {
      "model_module": "@jupyter-widgets/controls",
      "model_module_version": "2.0.0",
      "model_name": "HTMLStyleModel",
      "state": {
       "description_width": "",
       "font_size": null,
       "text_color": null
      }
     },
     "adb67132e2ce49139e3201a30d6cbed4": {
      "model_module": "@jupyter-widgets/controls",
      "model_module_version": "2.0.0",
      "model_name": "ProgressStyleModel",
      "state": {
       "description_width": ""
      }
     },
     "addc93fb179841bba284dba4e039ce0f": {
      "model_module": "@jupyter-widgets/base",
      "model_module_version": "2.0.0",
      "model_name": "LayoutModel",
      "state": {}
     },
     "ae116fdcde0d4b9291d508beec1ef336": {
      "model_module": "@jupyter-widgets/base",
      "model_module_version": "2.0.0",
      "model_name": "LayoutModel",
      "state": {}
     },
     "ae48839758fd4f9eaaf0dc04e564e493": {
      "model_module": "@jupyter-widgets/base",
      "model_module_version": "2.0.0",
      "model_name": "LayoutModel",
      "state": {}
     },
     "ae4d733015c141249d4076ff1c3ee4ed": {
      "model_module": "@jupyter-widgets/controls",
      "model_module_version": "2.0.0",
      "model_name": "HTMLModel",
      "state": {
       "layout": "IPY_MODEL_a19171e4c5094eecbff1671eae4957c5",
       "style": "IPY_MODEL_a2a6ea4465a84131aaab6a9ef0a343bf",
       "value": " 733/733 [00:18&lt;00:00, 44.27it/s]"
      }
     },
     "aebd7ee1c5dd4fb69bba40c3bba0a27b": {
      "model_module": "@jupyter-widgets/controls",
      "model_module_version": "2.0.0",
      "model_name": "HBoxModel",
      "state": {
       "children": [
        "IPY_MODEL_ce06f6511f51441797cb1f6e0365b73e",
        "IPY_MODEL_d7107b4524374757809a2421acaa8f60",
        "IPY_MODEL_cafec27eeda44cc38791040ddedf7c43"
       ],
       "layout": "IPY_MODEL_52e615c11f1d441eb31c5de67d81c1b0"
      }
     },
     "aef66ed000d140b8845d9b2a96bd2ce0": {
      "model_module": "@jupyter-widgets/controls",
      "model_module_version": "2.0.0",
      "model_name": "HTMLStyleModel",
      "state": {
       "description_width": "",
       "font_size": null,
       "text_color": null
      }
     },
     "af4f2133c0af434bbde908123a682bf4": {
      "model_module": "@jupyter-widgets/controls",
      "model_module_version": "2.0.0",
      "model_name": "HBoxModel",
      "state": {
       "children": [
        "IPY_MODEL_33f50e256a5147b8b1e6275f747a526f",
        "IPY_MODEL_ed9c990aea1d4f3baf42c815f0f7cf55",
        "IPY_MODEL_8d8b6ec5bd0641569fabe7580f3a5de0"
       ],
       "layout": "IPY_MODEL_09d34091887447c0bfc20ba43ff04ae1"
      }
     },
     "af644c06d5344c88b803baecd12996ac": {
      "model_module": "@jupyter-widgets/base",
      "model_module_version": "2.0.0",
      "model_name": "LayoutModel",
      "state": {}
     },
     "af6c6054e4b64e80ba8a540630f06bd1": {
      "model_module": "@jupyter-widgets/controls",
      "model_module_version": "2.0.0",
      "model_name": "HTMLStyleModel",
      "state": {
       "description_width": "",
       "font_size": null,
       "text_color": null
      }
     },
     "afb6acda331c410898188666447fa26c": {
      "model_module": "@jupyter-widgets/controls",
      "model_module_version": "2.0.0",
      "model_name": "ProgressStyleModel",
      "state": {
       "description_width": ""
      }
     },
     "aff13b17e0d9455ebf6c375a4f217ed2": {
      "model_module": "@jupyter-widgets/controls",
      "model_module_version": "2.0.0",
      "model_name": "FloatProgressModel",
      "state": {
       "bar_style": "danger",
       "layout": "IPY_MODEL_a08fb74b7b7643978c93a82d00cdcc3a",
       "max": 118,
       "style": "IPY_MODEL_47ed3681f0944a77b939bbb90505d1e3"
      }
     },
     "aff749ad40654044bcd798f008f85205": {
      "model_module": "@jupyter-widgets/controls",
      "model_module_version": "2.0.0",
      "model_name": "HTMLStyleModel",
      "state": {
       "description_width": "",
       "font_size": null,
       "text_color": null
      }
     },
     "affbaf55ee8042be8368390fa4685645": {
      "model_module": "@jupyter-widgets/controls",
      "model_module_version": "2.0.0",
      "model_name": "FloatProgressModel",
      "state": {
       "bar_style": "success",
       "layout": "IPY_MODEL_23038ad74de94500b47ba66b5dc348f8",
       "max": 630,
       "style": "IPY_MODEL_de94a5c413bb4dc2a2c398f3065bb835",
       "value": 630
      }
     },
     "b002fbcb54544ee3b1ea727d72e8aa00": {
      "model_module": "@jupyter-widgets/base",
      "model_module_version": "2.0.0",
      "model_name": "LayoutModel",
      "state": {}
     },
     "b04e72d49cfa4cafa6038f10bc3ca77f": {
      "model_module": "@jupyter-widgets/controls",
      "model_module_version": "2.0.0",
      "model_name": "FloatProgressModel",
      "state": {
       "bar_style": "success",
       "layout": "IPY_MODEL_85e9a0d2ef27442985be83bade9413a6",
       "max": 716,
       "style": "IPY_MODEL_7b081b9f1d994e2382f4574c29760487",
       "value": 716
      }
     },
     "b076efd5ba9149e7ae767c393380baa7": {
      "model_module": "@jupyter-widgets/controls",
      "model_module_version": "2.0.0",
      "model_name": "HTMLModel",
      "state": {
       "layout": "IPY_MODEL_9a6f492241a04e2e9b9e8e3761648a99",
       "style": "IPY_MODEL_64e23aa03a8842d38b3c5d1cd4d4d261",
       "value": "100%"
      }
     },
     "b0bfc84280b64a06972ee896e0d4f010": {
      "model_module": "@jupyter-widgets/controls",
      "model_module_version": "2.0.0",
      "model_name": "HBoxModel",
      "state": {
       "children": [
        "IPY_MODEL_00a8bdbe72314cd58629ccb30ff169e5",
        "IPY_MODEL_558677fcc0ce4116baee8eb9656f53ef",
        "IPY_MODEL_2fe17bf0ef194dc3856ca6bc2586e24d"
       ],
       "layout": "IPY_MODEL_ed4c147303754f9cae93951cec4dd1e2"
      }
     },
     "b10637c3f0ba4a93b37c356e994c452b": {
      "model_module": "@jupyter-widgets/controls",
      "model_module_version": "2.0.0",
      "model_name": "HTMLStyleModel",
      "state": {
       "description_width": "",
       "font_size": null,
       "text_color": null
      }
     },
     "b1128ef09c81411ba3c7a9c9415ee3b0": {
      "model_module": "@jupyter-widgets/controls",
      "model_module_version": "2.0.0",
      "model_name": "HTMLModel",
      "state": {
       "layout": "IPY_MODEL_507551b2a9974481a9e919328c187c6c",
       "style": "IPY_MODEL_05aba3d21d1044768921db67f0aea6b4",
       "value": " 118/118 [00:30&lt;00:00,  2.97it/s]"
      }
     },
     "b11561530f944f11a3647aee484f4194": {
      "model_module": "@jupyter-widgets/base",
      "model_module_version": "2.0.0",
      "model_name": "LayoutModel",
      "state": {}
     },
     "b11bd96cc6db461fab972ff336b8c6b2": {
      "model_module": "@jupyter-widgets/controls",
      "model_module_version": "2.0.0",
      "model_name": "HBoxModel",
      "state": {
       "children": [
        "IPY_MODEL_f73dfbe9c167487d960f4da3de2560b5",
        "IPY_MODEL_0b821032b1814105872d237f180dae35",
        "IPY_MODEL_4fc38e58979f4704a20208ce9f72dfa7"
       ],
       "layout": "IPY_MODEL_8383cd271c2e49dc9da3bc985a30d0d1"
      }
     },
     "b1ae751047014ca8a1184acfd3e4ca97": {
      "model_module": "@jupyter-widgets/base",
      "model_module_version": "2.0.0",
      "model_name": "LayoutModel",
      "state": {}
     },
     "b1c0d6f4ae094c23b48b1c601f59b5a2": {
      "model_module": "@jupyter-widgets/base",
      "model_module_version": "2.0.0",
      "model_name": "LayoutModel",
      "state": {}
     },
     "b1e009ac2988466189b7d13b68673bdc": {
      "model_module": "@jupyter-widgets/controls",
      "model_module_version": "2.0.0",
      "model_name": "ProgressStyleModel",
      "state": {
       "description_width": ""
      }
     },
     "b1f661c015cb4324a223a4c941b0331f": {
      "model_module": "@jupyter-widgets/controls",
      "model_module_version": "2.0.0",
      "model_name": "FloatProgressModel",
      "state": {
       "bar_style": "success",
       "layout": "IPY_MODEL_ef78212508e74df882aa8396d42d36e8",
       "max": 859,
       "style": "IPY_MODEL_14ce545de96b4cbb98c2a6393eb0afdf",
       "value": 859
      }
     },
     "b20b0d9b5eaa4c4180a7807ef0fc7e64": {
      "model_module": "@jupyter-widgets/controls",
      "model_module_version": "2.0.0",
      "model_name": "HTMLStyleModel",
      "state": {
       "description_width": "",
       "font_size": null,
       "text_color": null
      }
     },
     "b240bf2c79ab4c5186207f8af2e05759": {
      "model_module": "@jupyter-widgets/controls",
      "model_module_version": "2.0.0",
      "model_name": "HTMLStyleModel",
      "state": {
       "description_width": "",
       "font_size": null,
       "text_color": null
      }
     },
     "b25aa2ae2127427fb13881253f466e10": {
      "model_module": "@jupyter-widgets/controls",
      "model_module_version": "2.0.0",
      "model_name": "HTMLModel",
      "state": {
       "layout": "IPY_MODEL_8a38c63fabc74fa1897b81e2b40e6136",
       "style": "IPY_MODEL_01d94c85855b4630a516ed2a4d4ed632",
       "value": " 118/118 [00:26&lt;00:00,  3.97it/s]"
      }
     },
     "b2697ad14fbb4fcebf5c6e96d5c72d86": {
      "model_module": "@jupyter-widgets/base",
      "model_module_version": "2.0.0",
      "model_name": "LayoutModel",
      "state": {}
     },
     "b27276773c9840de9de21f440cd41407": {
      "model_module": "@jupyter-widgets/base",
      "model_module_version": "2.0.0",
      "model_name": "LayoutModel",
      "state": {}
     },
     "b295212e60b342ebbff7fc5bd8fa0e72": {
      "model_module": "@jupyter-widgets/base",
      "model_module_version": "2.0.0",
      "model_name": "LayoutModel",
      "state": {}
     },
     "b379f4013cd64888a6e4256bcc8336b8": {
      "model_module": "@jupyter-widgets/controls",
      "model_module_version": "2.0.0",
      "model_name": "HBoxModel",
      "state": {
       "children": [
        "IPY_MODEL_62bd2debd4154bde903b17855890e219",
        "IPY_MODEL_edefc82cab9e4aab833f72b3ba883e67",
        "IPY_MODEL_cda73c5de4a34415a446fff3ef46bb70"
       ],
       "layout": "IPY_MODEL_f2a8736d1cd347e6bc02c23054e13e7d"
      }
     },
     "b38113400a9a471d9eb3c7d686d86013": {
      "model_module": "@jupyter-widgets/base",
      "model_module_version": "2.0.0",
      "model_name": "LayoutModel",
      "state": {}
     },
     "b3fecbca0b894656ba15010d6fbff338": {
      "model_module": "@jupyter-widgets/base",
      "model_module_version": "2.0.0",
      "model_name": "LayoutModel",
      "state": {}
     },
     "b41e75f67290458cb13037209b6c1b57": {
      "model_module": "@jupyter-widgets/controls",
      "model_module_version": "2.0.0",
      "model_name": "FloatProgressModel",
      "state": {
       "bar_style": "success",
       "layout": "IPY_MODEL_7eccefced19844c3952748c761606cf2",
       "max": 401,
       "style": "IPY_MODEL_78299760a0254666b7305763fb48f068",
       "value": 401
      }
     },
     "b437d28f47f84d3ea822176afd4a22b8": {
      "model_module": "@jupyter-widgets/base",
      "model_module_version": "2.0.0",
      "model_name": "LayoutModel",
      "state": {}
     },
     "b43817d00c73478fb60a03b45cf4cc17": {
      "model_module": "@jupyter-widgets/controls",
      "model_module_version": "2.0.0",
      "model_name": "HTMLModel",
      "state": {
       "layout": "IPY_MODEL_31b89231d8aa46d7a4c3cc4033036d8e",
       "style": "IPY_MODEL_9cc8185f827e457fb3cbe4d5bc4210aa",
       "value": "100%"
      }
     },
     "b491d9341fcc4914a5ceade6b2f87070": {
      "model_module": "@jupyter-widgets/base",
      "model_module_version": "2.0.0",
      "model_name": "LayoutModel",
      "state": {}
     },
     "b49a3ab93e5c45638b9109d3c902d818": {
      "model_module": "@jupyter-widgets/controls",
      "model_module_version": "2.0.0",
      "model_name": "HTMLModel",
      "state": {
       "layout": "IPY_MODEL_86e68ee4b90545de8ca4d7bdb0c79658",
       "style": "IPY_MODEL_643f2ac0ef3a4a6c843b3f54c0bcf3e0",
       "value": "100%"
      }
     },
     "b4a2b140981341db99e64b1ee22ab948": {
      "model_module": "@jupyter-widgets/controls",
      "model_module_version": "2.0.0",
      "model_name": "HTMLModel",
      "state": {
       "layout": "IPY_MODEL_e4bb77ec917248c19023db80c38f7a61",
       "style": "IPY_MODEL_c4d17d34640f4fa0af7d7086d79264ac",
       "value": "100%"
      }
     },
     "b4a70c63566444328ae47cf661675a19": {
      "model_module": "@jupyter-widgets/controls",
      "model_module_version": "2.0.0",
      "model_name": "HBoxModel",
      "state": {
       "children": [
        "IPY_MODEL_46d17adcb5914a6896a44cff6aa7a1e9",
        "IPY_MODEL_50aad6ef8bec43e68ea4bf1688755576",
        "IPY_MODEL_4c7b7b48687c408d99fc0cbb3c0496c5"
       ],
       "layout": "IPY_MODEL_a1b4cfcc52a643e1b401f0a060308a05"
      }
     },
     "b4b9837e525d49fa8455a30146c817e3": {
      "model_module": "@jupyter-widgets/controls",
      "model_module_version": "2.0.0",
      "model_name": "HTMLModel",
      "state": {
       "layout": "IPY_MODEL_133179799d304d50b7a5ca4bbe903a66",
       "style": "IPY_MODEL_8ba793bae0234d6e9520cd9e8061958d",
       "value": " 927/927 [00:19&lt;00:00, 47.99it/s]"
      }
     },
     "b4da023e33dd4f6c9da3d55b0786a88c": {
      "model_module": "@jupyter-widgets/base",
      "model_module_version": "2.0.0",
      "model_name": "LayoutModel",
      "state": {}
     },
     "b53af57da7664d0f8e0f2be742f69594": {
      "model_module": "@jupyter-widgets/controls",
      "model_module_version": "2.0.0",
      "model_name": "FloatProgressModel",
      "state": {
       "bar_style": "success",
       "layout": "IPY_MODEL_0e059d43f6574bb5b48e8a53290efbcd",
       "max": 578,
       "style": "IPY_MODEL_fc5c114335714dedb6e3662ed03ece92",
       "value": 578
      }
     },
     "b53b001453d646e9be6fc996571317d1": {
      "model_module": "@jupyter-widgets/controls",
      "model_module_version": "2.0.0",
      "model_name": "HTMLStyleModel",
      "state": {
       "description_width": "",
       "font_size": null,
       "text_color": null
      }
     },
     "b561ddf45332429d8adcbad504a73e06": {
      "model_module": "@jupyter-widgets/base",
      "model_module_version": "2.0.0",
      "model_name": "LayoutModel",
      "state": {}
     },
     "b58930bede1d43c096dc02789d50c353": {
      "model_module": "@jupyter-widgets/controls",
      "model_module_version": "2.0.0",
      "model_name": "FloatProgressModel",
      "state": {
       "bar_style": "success",
       "layout": "IPY_MODEL_efb864b4cf274d20bde323284ea19bc2",
       "max": 631,
       "style": "IPY_MODEL_8c5f3bb09c0e466f9db2dca3ea207ba7",
       "value": 631
      }
     },
     "b594c36dd7034bf2b00a421948733037": {
      "model_module": "@jupyter-widgets/controls",
      "model_module_version": "2.0.0",
      "model_name": "HTMLStyleModel",
      "state": {
       "description_width": "",
       "font_size": null,
       "text_color": null
      }
     },
     "b5a425b25bf74719bd0f46f886feb998": {
      "model_module": "@jupyter-widgets/controls",
      "model_module_version": "2.0.0",
      "model_name": "ProgressStyleModel",
      "state": {
       "description_width": ""
      }
     },
     "b5bbdb3e317b4778a09f9b31c928bcdc": {
      "model_module": "@jupyter-widgets/controls",
      "model_module_version": "2.0.0",
      "model_name": "HTMLStyleModel",
      "state": {
       "description_width": "",
       "font_size": null,
       "text_color": null
      }
     },
     "b5c7c99c48c640bd853b33b7b4788379": {
      "model_module": "@jupyter-widgets/controls",
      "model_module_version": "2.0.0",
      "model_name": "HTMLModel",
      "state": {
       "layout": "IPY_MODEL_929c8863f0f54952abb5bf42db39817f",
       "style": "IPY_MODEL_3490ab9af97e4bc29bf22a140f024660",
       "value": "100%"
      }
     },
     "b5e6ee96c96946bebf9df2de2d9d6501": {
      "model_module": "@jupyter-widgets/controls",
      "model_module_version": "2.0.0",
      "model_name": "FloatProgressModel",
      "state": {
       "bar_style": "success",
       "layout": "IPY_MODEL_ae116fdcde0d4b9291d508beec1ef336",
       "max": 492,
       "style": "IPY_MODEL_2a019631c1ac41dfb103518e3cb89198",
       "value": 492
      }
     },
     "b5f4aeffc0e54c658d20ffe714b70c5c": {
      "model_module": "@jupyter-widgets/base",
      "model_module_version": "2.0.0",
      "model_name": "LayoutModel",
      "state": {}
     },
     "b60db221da2b4e6e87b6d25c5c6bb6f9": {
      "model_module": "@jupyter-widgets/controls",
      "model_module_version": "2.0.0",
      "model_name": "HBoxModel",
      "state": {
       "children": [
        "IPY_MODEL_08f1530af176485ca77ca206ca859037",
        "IPY_MODEL_5c72017059d24ac0a103781893045807",
        "IPY_MODEL_51208ad03d984097b48be5d688b135ce"
       ],
       "layout": "IPY_MODEL_cdbbaa5acdeb4557be121ea10340a04d"
      }
     },
     "b60ef777063d44e1bbc6c2d55daf6975": {
      "model_module": "@jupyter-widgets/base",
      "model_module_version": "2.0.0",
      "model_name": "LayoutModel",
      "state": {}
     },
     "b64d9a81e993414a9b22d8db5c4421f0": {
      "model_module": "@jupyter-widgets/base",
      "model_module_version": "2.0.0",
      "model_name": "LayoutModel",
      "state": {}
     },
     "b674a672e22f4492865867671fd95c05": {
      "model_module": "@jupyter-widgets/controls",
      "model_module_version": "2.0.0",
      "model_name": "ProgressStyleModel",
      "state": {
       "description_width": ""
      }
     },
     "b67875df6fc94657af92e75aaaf542ba": {
      "model_module": "@jupyter-widgets/base",
      "model_module_version": "2.0.0",
      "model_name": "LayoutModel",
      "state": {}
     },
     "b6b9bbd6706c41f09695a0fe345f7a3a": {
      "model_module": "@jupyter-widgets/controls",
      "model_module_version": "2.0.0",
      "model_name": "HBoxModel",
      "state": {
       "children": [
        "IPY_MODEL_1745305af80348dd97f7817f531c45ac",
        "IPY_MODEL_b53af57da7664d0f8e0f2be742f69594",
        "IPY_MODEL_1a7c4e65e1064a5aa117abd64d8021e6"
       ],
       "layout": "IPY_MODEL_fc8be5cd4ccc410ea3f7c7d42bcc07c5"
      }
     },
     "b6c00ec68e77485facd52d1822a7b4a3": {
      "model_module": "@jupyter-widgets/controls",
      "model_module_version": "2.0.0",
      "model_name": "FloatProgressModel",
      "state": {
       "bar_style": "success",
       "layout": "IPY_MODEL_d6f0436a0b654565b212dff4817a7784",
       "max": 609,
       "style": "IPY_MODEL_6b8d75c01dc8444798f03319b314fc77",
       "value": 609
      }
     },
     "b762608d298840b8957ec4cc3ad00895": {
      "model_module": "@jupyter-widgets/base",
      "model_module_version": "2.0.0",
      "model_name": "LayoutModel",
      "state": {}
     },
     "b7a37cf87b074164b3204b728dae2da2": {
      "model_module": "@jupyter-widgets/base",
      "model_module_version": "2.0.0",
      "model_name": "LayoutModel",
      "state": {}
     },
     "b7d3a0245222484baa20a8fb69f3977d": {
      "model_module": "@jupyter-widgets/controls",
      "model_module_version": "2.0.0",
      "model_name": "HTMLModel",
      "state": {
       "layout": "IPY_MODEL_1ba4d8851a6a46a58d5ff34a058ee5a8",
       "style": "IPY_MODEL_c69ae76a576044bbb80113d09578cd3a",
       "value": " 20%"
      }
     },
     "b8529c3a3ecc4120b7cf5feb4008913a": {
      "model_module": "@jupyter-widgets/base",
      "model_module_version": "2.0.0",
      "model_name": "LayoutModel",
      "state": {}
     },
     "b86a47cf5b6a4b0ca8766d419c0353f9": {
      "model_module": "@jupyter-widgets/controls",
      "model_module_version": "2.0.0",
      "model_name": "HTMLModel",
      "state": {
       "layout": "IPY_MODEL_9f61591e7f964fd6baf641053b77eb52",
       "style": "IPY_MODEL_209d92e4ba154d37ae739c1ac5cfe511",
       "value": " 118/118 [00:40&lt;00:00,  3.27it/s]"
      }
     },
     "b87feb7e10b34e4f9f86fb26b6ef97ee": {
      "model_module": "@jupyter-widgets/base",
      "model_module_version": "2.0.0",
      "model_name": "LayoutModel",
      "state": {}
     },
     "b8966efabcb648908709cbd68f72a276": {
      "model_module": "@jupyter-widgets/controls",
      "model_module_version": "2.0.0",
      "model_name": "HTMLStyleModel",
      "state": {
       "description_width": "",
       "font_size": null,
       "text_color": null
      }
     },
     "b8d4f7ab985e4306907a3b61a7c77843": {
      "model_module": "@jupyter-widgets/controls",
      "model_module_version": "2.0.0",
      "model_name": "HTMLStyleModel",
      "state": {
       "description_width": "",
       "font_size": null,
       "text_color": null
      }
     },
     "b9015b4262b74349b3c1b60fe7a140d2": {
      "model_module": "@jupyter-widgets/base",
      "model_module_version": "2.0.0",
      "model_name": "LayoutModel",
      "state": {}
     },
     "b9039836b2154389a73ee0feea6a25c3": {
      "model_module": "@jupyter-widgets/controls",
      "model_module_version": "2.0.0",
      "model_name": "HTMLModel",
      "state": {
       "layout": "IPY_MODEL_09c5070cfc084b9bb824ce320c264e1e",
       "style": "IPY_MODEL_b240bf2c79ab4c5186207f8af2e05759",
       "value": " 118/118 [00:26&lt;00:00,  4.13it/s]"
      }
     },
     "b918709a44a54e7da3e08f60b3130c03": {
      "model_module": "@jupyter-widgets/base",
      "model_module_version": "2.0.0",
      "model_name": "LayoutModel",
      "state": {}
     },
     "b9faaf33ef6f41f89c41a7a861a370f5": {
      "model_module": "@jupyter-widgets/controls",
      "model_module_version": "2.0.0",
      "model_name": "HTMLModel",
      "state": {
       "layout": "IPY_MODEL_f50f0bdc2e3b4524b4b35db0f2d44468",
       "style": "IPY_MODEL_6f331f887ee6429880b7edabc2d0da49",
       "value": " 118/118 [00:32&lt;00:00,  2.90it/s]"
      }
     },
     "ba1a02193c5f4522b254ca5f38caa56d": {
      "model_module": "@jupyter-widgets/controls",
      "model_module_version": "2.0.0",
      "model_name": "FloatProgressModel",
      "state": {
       "bar_style": "success",
       "layout": "IPY_MODEL_bfb8c3112d8c4b46bb995561c6612c01",
       "max": 712,
       "style": "IPY_MODEL_bc06569d875e41c6b1d04230d73fa317",
       "value": 712
      }
     },
     "ba1e0ea62b324a30b797f05420d423a0": {
      "model_module": "@jupyter-widgets/base",
      "model_module_version": "2.0.0",
      "model_name": "LayoutModel",
      "state": {}
     },
     "ba2d4cf6d2a140aaae4b73553859f0d2": {
      "model_module": "@jupyter-widgets/controls",
      "model_module_version": "2.0.0",
      "model_name": "ProgressStyleModel",
      "state": {
       "description_width": ""
      }
     },
     "ba80802c5e77409191ffd1f488025225": {
      "model_module": "@jupyter-widgets/base",
      "model_module_version": "2.0.0",
      "model_name": "LayoutModel",
      "state": {}
     },
     "baece54431df4d538694e502ba4f05b3": {
      "model_module": "@jupyter-widgets/base",
      "model_module_version": "2.0.0",
      "model_name": "LayoutModel",
      "state": {}
     },
     "bb1c21727aaa4ed69753cefa47393014": {
      "model_module": "@jupyter-widgets/base",
      "model_module_version": "2.0.0",
      "model_name": "LayoutModel",
      "state": {}
     },
     "bb29113542314323903611a766f52931": {
      "model_module": "@jupyter-widgets/base",
      "model_module_version": "2.0.0",
      "model_name": "LayoutModel",
      "state": {}
     },
     "bb2eec31ef4542f8b7e47b6e80e7014e": {
      "model_module": "@jupyter-widgets/controls",
      "model_module_version": "2.0.0",
      "model_name": "HTMLStyleModel",
      "state": {
       "description_width": "",
       "font_size": null,
       "text_color": null
      }
     },
     "bb4d95ded414479bb22ee6822e4af6fa": {
      "model_module": "@jupyter-widgets/controls",
      "model_module_version": "2.0.0",
      "model_name": "HBoxModel",
      "state": {
       "children": [
        "IPY_MODEL_fe661539a5d04db29fd6d96119bb1fe1",
        "IPY_MODEL_576279a757074d01a5c6a4622683dbbe",
        "IPY_MODEL_6891903324164cfda7299dbf952b5c8a"
       ],
       "layout": "IPY_MODEL_38f5f62a56d14862827f88f77a5fa994"
      }
     },
     "bbc513f68d5d416c908ed6e325798ceb": {
      "model_module": "@jupyter-widgets/base",
      "model_module_version": "2.0.0",
      "model_name": "LayoutModel",
      "state": {}
     },
     "bbc82a3394564c799ffcce6689aa921e": {
      "model_module": "@jupyter-widgets/controls",
      "model_module_version": "2.0.0",
      "model_name": "ProgressStyleModel",
      "state": {
       "description_width": ""
      }
     },
     "bbf491e9e1a9431fa9fe52fcf1bd3c92": {
      "model_module": "@jupyter-widgets/controls",
      "model_module_version": "2.0.0",
      "model_name": "HTMLModel",
      "state": {
       "layout": "IPY_MODEL_bcfc384626f34c64925bbace87df1a5c",
       "style": "IPY_MODEL_2e393cbb5b724bbd99544c5e39fdcecf",
       "value": "100%"
      }
     },
     "bc06569d875e41c6b1d04230d73fa317": {
      "model_module": "@jupyter-widgets/controls",
      "model_module_version": "2.0.0",
      "model_name": "ProgressStyleModel",
      "state": {
       "description_width": ""
      }
     },
     "bc17a80e01c74ce0ada28465700d3c3e": {
      "model_module": "@jupyter-widgets/base",
      "model_module_version": "2.0.0",
      "model_name": "LayoutModel",
      "state": {}
     },
     "bc2bee5d84774a0182ba7405f6f74aa5": {
      "model_module": "@jupyter-widgets/controls",
      "model_module_version": "2.0.0",
      "model_name": "HTMLModel",
      "state": {
       "layout": "IPY_MODEL_816b03281e0e4044b0f3c47e5dd87794",
       "style": "IPY_MODEL_e5119c4d0d9e443385763be3931313e5",
       "value": " 344/344 [00:09&lt;00:00, 42.71it/s]"
      }
     },
     "bc2e47f36d384b63bd53296660aa01d2": {
      "model_module": "@jupyter-widgets/base",
      "model_module_version": "2.0.0",
      "model_name": "LayoutModel",
      "state": {}
     },
     "bc3ed0ea6230420b947e8640f5b278ad": {
      "model_module": "@jupyter-widgets/base",
      "model_module_version": "2.0.0",
      "model_name": "LayoutModel",
      "state": {}
     },
     "bc8cea7a391342a9b784994c82b27482": {
      "model_module": "@jupyter-widgets/base",
      "model_module_version": "2.0.0",
      "model_name": "LayoutModel",
      "state": {}
     },
     "bc9050faf61c4f23b0ce2c92f3784ee5": {
      "model_module": "@jupyter-widgets/controls",
      "model_module_version": "2.0.0",
      "model_name": "ProgressStyleModel",
      "state": {
       "description_width": ""
      }
     },
     "bcca3dbc4d2944a79273c95a189ce70c": {
      "model_module": "@jupyter-widgets/controls",
      "model_module_version": "2.0.0",
      "model_name": "HTMLStyleModel",
      "state": {
       "description_width": "",
       "font_size": null,
       "text_color": null
      }
     },
     "bcf92a252ee0468ba2621313d8cbc657": {
      "model_module": "@jupyter-widgets/controls",
      "model_module_version": "2.0.0",
      "model_name": "HTMLStyleModel",
      "state": {
       "description_width": "",
       "font_size": null,
       "text_color": null
      }
     },
     "bcfc384626f34c64925bbace87df1a5c": {
      "model_module": "@jupyter-widgets/base",
      "model_module_version": "2.0.0",
      "model_name": "LayoutModel",
      "state": {}
     },
     "bd07d4e56f7741ba9740cc2dc7306687": {
      "model_module": "@jupyter-widgets/controls",
      "model_module_version": "2.0.0",
      "model_name": "HTMLModel",
      "state": {
       "layout": "IPY_MODEL_a64a39a316aa41389af60b8b7cd6d9e5",
       "style": "IPY_MODEL_3e6439409c784689aa0343f5150183f6",
       "value": " 631/631 [00:14&lt;00:00, 45.22it/s]"
      }
     },
     "bd0809d0047a4eaf942347099859b021": {
      "model_module": "@jupyter-widgets/controls",
      "model_module_version": "2.0.0",
      "model_name": "HTMLModel",
      "state": {
       "layout": "IPY_MODEL_9c947880bcf1446ca617296336790ce0",
       "style": "IPY_MODEL_0645743e31a248bf9f43b35e476d33c4",
       "value": " 527/527 [00:11&lt;00:00, 45.82it/s]"
      }
     },
     "bd3d32dceb24407894d10edce942da91": {
      "model_module": "@jupyter-widgets/controls",
      "model_module_version": "2.0.0",
      "model_name": "HTMLModel",
      "state": {
       "layout": "IPY_MODEL_13ae3c5a45484005a4afdba17666b907",
       "style": "IPY_MODEL_42cd02832e5c4cad8bee911e8c330d54",
       "value": "100%"
      }
     },
     "bd418064cfba44e7a916c51e253dd322": {
      "model_module": "@jupyter-widgets/controls",
      "model_module_version": "2.0.0",
      "model_name": "HTMLStyleModel",
      "state": {
       "description_width": "",
       "font_size": null,
       "text_color": null
      }
     },
     "bd4303d4b29c4b81ad30a1fe1f6f08f9": {
      "model_module": "@jupyter-widgets/base",
      "model_module_version": "2.0.0",
      "model_name": "LayoutModel",
      "state": {}
     },
     "bd5f43a2631d4e5f9b1b5309a38f1f80": {
      "model_module": "@jupyter-widgets/base",
      "model_module_version": "2.0.0",
      "model_name": "LayoutModel",
      "state": {}
     },
     "bdabd91725b1461d86b19aaedfd5edde": {
      "model_module": "@jupyter-widgets/controls",
      "model_module_version": "2.0.0",
      "model_name": "HTMLModel",
      "state": {
       "layout": "IPY_MODEL_ef9fa938273b447db1ab594919b7aec7",
       "style": "IPY_MODEL_cef7edeefec94156a2d0d0d245d8ef6f",
       "value": "100%"
      }
     },
     "be24027e06f04985ba092485b630436d": {
      "model_module": "@jupyter-widgets/controls",
      "model_module_version": "2.0.0",
      "model_name": "ProgressStyleModel",
      "state": {
       "description_width": ""
      }
     },
     "be4e95ad75ba4e20b09150c70058f453": {
      "model_module": "@jupyter-widgets/controls",
      "model_module_version": "2.0.0",
      "model_name": "FloatProgressModel",
      "state": {
       "bar_style": "success",
       "layout": "IPY_MODEL_ae48839758fd4f9eaaf0dc04e564e493",
       "max": 118,
       "style": "IPY_MODEL_2403469db0f049e29ff0125cc7ca48fe",
       "value": 118
      }
     },
     "be89ae0bfc2e485e9b4dcbc6f8bc4bf5": {
      "model_module": "@jupyter-widgets/controls",
      "model_module_version": "2.0.0",
      "model_name": "HTMLStyleModel",
      "state": {
       "description_width": "",
       "font_size": null,
       "text_color": null
      }
     },
     "be8d6226271a49c1962a9497cabcfac3": {
      "model_module": "@jupyter-widgets/controls",
      "model_module_version": "2.0.0",
      "model_name": "HTMLModel",
      "state": {
       "layout": "IPY_MODEL_d21742f0c5aa4f5ea053361f31145aa2",
       "style": "IPY_MODEL_27600f1c8f3044c38cdb3605286eb346",
       "value": "100%"
      }
     },
     "beabcc18eb9442b8bf8282928a12c62e": {
      "model_module": "@jupyter-widgets/controls",
      "model_module_version": "2.0.0",
      "model_name": "HTMLStyleModel",
      "state": {
       "description_width": "",
       "font_size": null,
       "text_color": null
      }
     },
     "bec9eac8d9e44741ace26202035cdc6e": {
      "model_module": "@jupyter-widgets/controls",
      "model_module_version": "2.0.0",
      "model_name": "ProgressStyleModel",
      "state": {
       "description_width": ""
      }
     },
     "bf6308215639423991102802a97a1f80": {
      "model_module": "@jupyter-widgets/base",
      "model_module_version": "2.0.0",
      "model_name": "LayoutModel",
      "state": {}
     },
     "bf7a0f5fe4714d1fac9ec1dc356d7312": {
      "model_module": "@jupyter-widgets/controls",
      "model_module_version": "2.0.0",
      "model_name": "HTMLModel",
      "state": {
       "layout": "IPY_MODEL_352966b57779479e80edebd50863f1fc",
       "style": "IPY_MODEL_37c6b4c333f4443f9461974ffc079cd8",
       "value": " 582/582 [00:12&lt;00:00, 46.49it/s]"
      }
     },
     "bf820d2526024334ad8ca1f0e8c8c3cb": {
      "model_module": "@jupyter-widgets/base",
      "model_module_version": "2.0.0",
      "model_name": "LayoutModel",
      "state": {}
     },
     "bfa6af029cb04e87a56d3e5514e4277e": {
      "model_module": "@jupyter-widgets/controls",
      "model_module_version": "2.0.0",
      "model_name": "HBoxModel",
      "state": {
       "children": [
        "IPY_MODEL_611dafec43834f2f8c6928b35bdcff1e",
        "IPY_MODEL_4daba08d216f47059674844ffb992742",
        "IPY_MODEL_92ea88b2ff4f471f94d0f10f8d107c12"
       ],
       "layout": "IPY_MODEL_4d9b8f53d7934e5d9cbc7773782b6133"
      }
     },
     "bfa8cf227c4b480bbc1e1d0f2fee00d0": {
      "model_module": "@jupyter-widgets/controls",
      "model_module_version": "2.0.0",
      "model_name": "FloatProgressModel",
      "state": {
       "bar_style": "success",
       "layout": "IPY_MODEL_6f274aa9171748009a2c43c9a9ea9a4c",
       "max": 582,
       "style": "IPY_MODEL_58c9b8c926ce45b6ada9dc518c121ff9",
       "value": 582
      }
     },
     "bfb0945160104686b9ba2625539bca2f": {
      "model_module": "@jupyter-widgets/controls",
      "model_module_version": "2.0.0",
      "model_name": "HTMLModel",
      "state": {
       "layout": "IPY_MODEL_f2d5d492a03d40c4984412df80c9aca7",
       "style": "IPY_MODEL_ed28197b8bba45fdaac3d7055c9bcb1d",
       "value": " 582/582 [00:12&lt;00:00, 47.27it/s]"
      }
     },
     "bfb8c3112d8c4b46bb995561c6612c01": {
      "model_module": "@jupyter-widgets/base",
      "model_module_version": "2.0.0",
      "model_name": "LayoutModel",
      "state": {}
     },
     "bfeb413e6f6d4ece9d1d337eeac2cf02": {
      "model_module": "@jupyter-widgets/controls",
      "model_module_version": "2.0.0",
      "model_name": "HBoxModel",
      "state": {
       "children": [
        "IPY_MODEL_a1971f4fc6bd443abdc94749b771ce0b",
        "IPY_MODEL_d42b8e0c23594bf6affe0b974cda8c6a",
        "IPY_MODEL_a0289b6ee1314b26b2901b6a2ffe506a"
       ],
       "layout": "IPY_MODEL_429ddbfc5eb441bd94fe0d3923d0e586"
      }
     },
     "c0026214e73340e1a01284e6bc9bb769": {
      "model_module": "@jupyter-widgets/base",
      "model_module_version": "2.0.0",
      "model_name": "LayoutModel",
      "state": {}
     },
     "c06eceacb331447899914598e4ce6723": {
      "model_module": "@jupyter-widgets/controls",
      "model_module_version": "2.0.0",
      "model_name": "HTMLStyleModel",
      "state": {
       "description_width": "",
       "font_size": null,
       "text_color": null
      }
     },
     "c0ee3067547f4866b8973ceae0d0a096": {
      "model_module": "@jupyter-widgets/controls",
      "model_module_version": "2.0.0",
      "model_name": "HBoxModel",
      "state": {
       "children": [
        "IPY_MODEL_bdabd91725b1461d86b19aaedfd5edde",
        "IPY_MODEL_7db0748325c545aeaca081ac2c96d6ac",
        "IPY_MODEL_7519f454bded4d558e67662f9ca185aa"
       ],
       "layout": "IPY_MODEL_13578dfda2884ebd931be1c1cc6e1053"
      }
     },
     "c100f83805644ce38e8afd8a31a7cf02": {
      "model_module": "@jupyter-widgets/controls",
      "model_module_version": "2.0.0",
      "model_name": "HTMLStyleModel",
      "state": {
       "description_width": "",
       "font_size": null,
       "text_color": null
      }
     },
     "c110be11bd0244ce935b2afcb9ab2a22": {
      "model_module": "@jupyter-widgets/controls",
      "model_module_version": "2.0.0",
      "model_name": "HTMLModel",
      "state": {
       "layout": "IPY_MODEL_43eef99c546a45b892d9a0e78cb97a9e",
       "style": "IPY_MODEL_5c5f0e7fade648baaed40e57df8fa42b",
       "value": "100%"
      }
     },
     "c11a5fce58624acbbfd35f91253771e9": {
      "model_module": "@jupyter-widgets/base",
      "model_module_version": "2.0.0",
      "model_name": "LayoutModel",
      "state": {}
     },
     "c1290ac80bf74eb5ba072e03317144e4": {
      "model_module": "@jupyter-widgets/controls",
      "model_module_version": "2.0.0",
      "model_name": "HBoxModel",
      "state": {
       "children": [
        "IPY_MODEL_f24890c0b2454fd39dd8cf545dc524ab",
        "IPY_MODEL_449416e4fc4848338a928c6bab42a328",
        "IPY_MODEL_e597f920eb544c3fbcf7b8ea044de481"
       ],
       "layout": "IPY_MODEL_7b12b6c4a8e94d7b84e69ae1ee6e5f83"
      }
     },
     "c1565ec2c66d4d3f8c85354c0bc2e766": {
      "model_module": "@jupyter-widgets/controls",
      "model_module_version": "2.0.0",
      "model_name": "HTMLModel",
      "state": {
       "layout": "IPY_MODEL_9f6844672e6c48249f9074f405655dd6",
       "style": "IPY_MODEL_0602c98a3d52417a8377c5a76ad6569b",
       "value": "100%"
      }
     },
     "c1894a1ae188403f8840e4de341b7a1f": {
      "model_module": "@jupyter-widgets/controls",
      "model_module_version": "2.0.0",
      "model_name": "HTMLStyleModel",
      "state": {
       "description_width": "",
       "font_size": null,
       "text_color": null
      }
     },
     "c1a08bc35a144ef1a300aa1e00b5da5b": {
      "model_module": "@jupyter-widgets/controls",
      "model_module_version": "2.0.0",
      "model_name": "HTMLModel",
      "state": {
       "layout": "IPY_MODEL_0d917e5f8d494e0692b27c2829b1e616",
       "style": "IPY_MODEL_49bc7e58fb294281a44e6e79f7eca935",
       "value": "100%"
      }
     },
     "c1c2072201aa4201ab9500a4bafb03e6": {
      "model_module": "@jupyter-widgets/controls",
      "model_module_version": "2.0.0",
      "model_name": "HTMLStyleModel",
      "state": {
       "description_width": "",
       "font_size": null,
       "text_color": null
      }
     },
     "c209edf6a2284f9493cd7e1c613ac1c4": {
      "model_module": "@jupyter-widgets/controls",
      "model_module_version": "2.0.0",
      "model_name": "HTMLStyleModel",
      "state": {
       "description_width": "",
       "font_size": null,
       "text_color": null
      }
     },
     "c247056a9ca14c7ead695fdd9d1f7a55": {
      "model_module": "@jupyter-widgets/base",
      "model_module_version": "2.0.0",
      "model_name": "LayoutModel",
      "state": {}
     },
     "c24a01160b634184a6af8085c6524e93": {
      "model_module": "@jupyter-widgets/controls",
      "model_module_version": "2.0.0",
      "model_name": "HBoxModel",
      "state": {
       "children": [
        "IPY_MODEL_d3a2b1bdc28546338e5e16376d391eee",
        "IPY_MODEL_94adcb2090ca457e88a20e4cca1bf375",
        "IPY_MODEL_66e7fccf901d41849931042a2a12ef6c"
       ],
       "layout": "IPY_MODEL_5c6bfac1ba0244d78cd220fe75881808"
      }
     },
     "c26dac9c092c464594d4d18e057df649": {
      "model_module": "@jupyter-widgets/controls",
      "model_module_version": "2.0.0",
      "model_name": "HBoxModel",
      "state": {
       "children": [
        "IPY_MODEL_71852b32a6b2449a921d8a1211c7ee9e",
        "IPY_MODEL_ec52bb2e650f4aa985f831bd50238007",
        "IPY_MODEL_4f49bd0c469b4516bc99708c25f0b273"
       ],
       "layout": "IPY_MODEL_e275c53c2f1e4910a679efee3000c0bd"
      }
     },
     "c26ea44416634e8195af5221d8097bc6": {
      "model_module": "@jupyter-widgets/controls",
      "model_module_version": "2.0.0",
      "model_name": "HTMLStyleModel",
      "state": {
       "description_width": "",
       "font_size": null,
       "text_color": null
      }
     },
     "c273d4a7161f4d53ab140560aba00940": {
      "model_module": "@jupyter-widgets/controls",
      "model_module_version": "2.0.0",
      "model_name": "HTMLStyleModel",
      "state": {
       "description_width": "",
       "font_size": null,
       "text_color": null
      }
     },
     "c27c3ec56f9d49bc923a0e8130a72fa0": {
      "model_module": "@jupyter-widgets/controls",
      "model_module_version": "2.0.0",
      "model_name": "FloatProgressModel",
      "state": {
       "bar_style": "success",
       "layout": "IPY_MODEL_a8e211ede01e446b9a8fb83ddebf1027",
       "max": 582,
       "style": "IPY_MODEL_98d9baeee5864459841da8df9595ffa6",
       "value": 582
      }
     },
     "c295c42d074e4d33ae82e4d3eee0b3e1": {
      "model_module": "@jupyter-widgets/base",
      "model_module_version": "2.0.0",
      "model_name": "LayoutModel",
      "state": {}
     },
     "c2cf6f552c5e46dd93e6825e606e93b4": {
      "model_module": "@jupyter-widgets/controls",
      "model_module_version": "2.0.0",
      "model_name": "HTMLStyleModel",
      "state": {
       "description_width": "",
       "font_size": null,
       "text_color": null
      }
     },
     "c3194631988d4581b951c874c30c6a43": {
      "model_module": "@jupyter-widgets/controls",
      "model_module_version": "2.0.0",
      "model_name": "HTMLStyleModel",
      "state": {
       "description_width": "",
       "font_size": null,
       "text_color": null
      }
     },
     "c32f006bc33e435cb7e22a3a7edddd2b": {
      "model_module": "@jupyter-widgets/controls",
      "model_module_version": "2.0.0",
      "model_name": "HTMLStyleModel",
      "state": {
       "description_width": "",
       "font_size": null,
       "text_color": null
      }
     },
     "c35d3497822f4ef782988b91d234e934": {
      "model_module": "@jupyter-widgets/base",
      "model_module_version": "2.0.0",
      "model_name": "LayoutModel",
      "state": {}
     },
     "c387fef7d55b4046a42e966899f5fcde": {
      "model_module": "@jupyter-widgets/base",
      "model_module_version": "2.0.0",
      "model_name": "LayoutModel",
      "state": {}
     },
     "c39d62bf3ad74c28a16705343531abd8": {
      "model_module": "@jupyter-widgets/controls",
      "model_module_version": "2.0.0",
      "model_name": "HBoxModel",
      "state": {
       "children": [
        "IPY_MODEL_e2c710e654854bb98d66e21426ef5dc5",
        "IPY_MODEL_9868ae86fcbb45cc84b37e5918e19a1d",
        "IPY_MODEL_f5880650967046b9b6a5b486d4bd0458"
       ],
       "layout": "IPY_MODEL_625fe6018b2d444dbf3510464cfc24fe"
      }
     },
     "c3a409c24eb54f018c5391591f96d74d": {
      "model_module": "@jupyter-widgets/controls",
      "model_module_version": "2.0.0",
      "model_name": "HTMLStyleModel",
      "state": {
       "description_width": "",
       "font_size": null,
       "text_color": null
      }
     },
     "c3aeb35b1c2747a6a58e6f2e40de8074": {
      "model_module": "@jupyter-widgets/base",
      "model_module_version": "2.0.0",
      "model_name": "LayoutModel",
      "state": {}
     },
     "c3bb69a6894b41b484dadf8b17930ed8": {
      "model_module": "@jupyter-widgets/base",
      "model_module_version": "2.0.0",
      "model_name": "LayoutModel",
      "state": {}
     },
     "c3c8a58e5a864b0a984c147c7c7be54f": {
      "model_module": "@jupyter-widgets/controls",
      "model_module_version": "2.0.0",
      "model_name": "HBoxModel",
      "state": {
       "children": [
        "IPY_MODEL_304b508633f3412a9fd4a6a9fcf856ab",
        "IPY_MODEL_1b39eb0199dc4c5abf6ac5f0b60ddd22",
        "IPY_MODEL_3bbb47b8b9894d9b9144389635921dd9"
       ],
       "layout": "IPY_MODEL_ba80802c5e77409191ffd1f488025225"
      }
     },
     "c3e0f9a14034492bbea977624a59993c": {
      "model_module": "@jupyter-widgets/base",
      "model_module_version": "2.0.0",
      "model_name": "LayoutModel",
      "state": {}
     },
     "c3f3dc471e6043c899731cac63d5b310": {
      "model_module": "@jupyter-widgets/controls",
      "model_module_version": "2.0.0",
      "model_name": "HTMLModel",
      "state": {
       "layout": "IPY_MODEL_5c68ae636511403b93d1705b0ab5933c",
       "style": "IPY_MODEL_fa1e84052a1e40b0802be3927a564d1f",
       "value": " 653/653 [00:16&lt;00:00, 42.69it/s]"
      }
     },
     "c4145b05fae846fc9c8b6caffdb7f2e6": {
      "model_module": "@jupyter-widgets/base",
      "model_module_version": "2.0.0",
      "model_name": "LayoutModel",
      "state": {}
     },
     "c41c2dab989f402c965cb85f31646d82": {
      "model_module": "@jupyter-widgets/base",
      "model_module_version": "2.0.0",
      "model_name": "LayoutModel",
      "state": {}
     },
     "c41ecca604664fd39fcec666d0d19dc5": {
      "model_module": "@jupyter-widgets/controls",
      "model_module_version": "2.0.0",
      "model_name": "HTMLModel",
      "state": {
       "layout": "IPY_MODEL_bd5f43a2631d4e5f9b1b5309a38f1f80",
       "style": "IPY_MODEL_c1c2072201aa4201ab9500a4bafb03e6",
       "value": "100%"
      }
     },
     "c440d3d746a84dc180ab70afbb8ab615": {
      "model_module": "@jupyter-widgets/controls",
      "model_module_version": "2.0.0",
      "model_name": "FloatProgressModel",
      "state": {
       "bar_style": "success",
       "layout": "IPY_MODEL_5a895731016e4142a73335f55f222448",
       "max": 118,
       "style": "IPY_MODEL_881079a2706b4106a84b9a67d31fdec1",
       "value": 118
      }
     },
     "c445d937422641aa8f692062b7a41856": {
      "model_module": "@jupyter-widgets/base",
      "model_module_version": "2.0.0",
      "model_name": "LayoutModel",
      "state": {}
     },
     "c4d17d34640f4fa0af7d7086d79264ac": {
      "model_module": "@jupyter-widgets/controls",
      "model_module_version": "2.0.0",
      "model_name": "HTMLStyleModel",
      "state": {
       "description_width": "",
       "font_size": null,
       "text_color": null
      }
     },
     "c5090ec95dd14898a83c574c5ee83ea9": {
      "model_module": "@jupyter-widgets/controls",
      "model_module_version": "2.0.0",
      "model_name": "HTMLStyleModel",
      "state": {
       "description_width": "",
       "font_size": null,
       "text_color": null
      }
     },
     "c52763867fdb4c29b6d8ef740961376e": {
      "model_module": "@jupyter-widgets/controls",
      "model_module_version": "2.0.0",
      "model_name": "HTMLStyleModel",
      "state": {
       "description_width": "",
       "font_size": null,
       "text_color": null
      }
     },
     "c540f7616e9e4233a620ce77c5bee56c": {
      "model_module": "@jupyter-widgets/controls",
      "model_module_version": "2.0.0",
      "model_name": "HTMLStyleModel",
      "state": {
       "description_width": "",
       "font_size": null,
       "text_color": null
      }
     },
     "c5e287710c1b42ca8c84ffc62caacf83": {
      "model_module": "@jupyter-widgets/controls",
      "model_module_version": "2.0.0",
      "model_name": "ProgressStyleModel",
      "state": {
       "description_width": ""
      }
     },
     "c614b14db3074951b85a21b53b42ab9c": {
      "model_module": "@jupyter-widgets/controls",
      "model_module_version": "2.0.0",
      "model_name": "HTMLModel",
      "state": {
       "layout": "IPY_MODEL_d84a1e76a01a463c944121c356089882",
       "style": "IPY_MODEL_ab7f49e6b4c54d4598429a58333a7d6d",
       "value": " 118/118 [00:29&lt;00:00,  3.49it/s]"
      }
     },
     "c63153668ded41dfacb0dfb218fb8965": {
      "model_module": "@jupyter-widgets/controls",
      "model_module_version": "2.0.0",
      "model_name": "HTMLModel",
      "state": {
       "layout": "IPY_MODEL_ecb7edd49e6744f6b65f7b4a94c09aa9",
       "style": "IPY_MODEL_aa6e94d8448d461a91454e266fd06db4",
       "value": "100%"
      }
     },
     "c63ecbfe338b4dc59ae8754279922eba": {
      "model_module": "@jupyter-widgets/base",
      "model_module_version": "2.0.0",
      "model_name": "LayoutModel",
      "state": {}
     },
     "c64627d259c741a2bf9a9ad82aece846": {
      "model_module": "@jupyter-widgets/controls",
      "model_module_version": "2.0.0",
      "model_name": "HBoxModel",
      "state": {
       "children": [
        "IPY_MODEL_2b2ec958c634415fb0c2d202d2a87b73",
        "IPY_MODEL_1f83791c153848559cc622fa5bf3a2db",
        "IPY_MODEL_15eb51bed7384a53b8df429fe84f7f15"
       ],
       "layout": "IPY_MODEL_3d4c7ec2a33d4597bf37d4b9c01ccec0"
      }
     },
     "c65043abf5d14be0b9ca4acc83efd282": {
      "model_module": "@jupyter-widgets/base",
      "model_module_version": "2.0.0",
      "model_name": "LayoutModel",
      "state": {}
     },
     "c673ca8a70364225a6d47cd86ffbdee9": {
      "model_module": "@jupyter-widgets/controls",
      "model_module_version": "2.0.0",
      "model_name": "HTMLStyleModel",
      "state": {
       "description_width": "",
       "font_size": null,
       "text_color": null
      }
     },
     "c67e23ff28494ea48f270f440ba237c8": {
      "model_module": "@jupyter-widgets/base",
      "model_module_version": "2.0.0",
      "model_name": "LayoutModel",
      "state": {}
     },
     "c697dabc4efb4158be01972d7f2e9a2a": {
      "model_module": "@jupyter-widgets/base",
      "model_module_version": "2.0.0",
      "model_name": "LayoutModel",
      "state": {}
     },
     "c69ae76a576044bbb80113d09578cd3a": {
      "model_module": "@jupyter-widgets/controls",
      "model_module_version": "2.0.0",
      "model_name": "HTMLStyleModel",
      "state": {
       "description_width": "",
       "font_size": null,
       "text_color": null
      }
     },
     "c70cefc391c941b0acdfbab2b4cdd90e": {
      "model_module": "@jupyter-widgets/base",
      "model_module_version": "2.0.0",
      "model_name": "LayoutModel",
      "state": {}
     },
     "c717b78a0c2b47aeb1ab8720f97d0890": {
      "model_module": "@jupyter-widgets/base",
      "model_module_version": "2.0.0",
      "model_name": "LayoutModel",
      "state": {}
     },
     "c766e6518e87447a9f3d369d0e614835": {
      "model_module": "@jupyter-widgets/controls",
      "model_module_version": "2.0.0",
      "model_name": "HBoxModel",
      "state": {
       "children": [
        "IPY_MODEL_e60b56f2e7084c52b58f018b0923fb19",
        "IPY_MODEL_97645d2281a344089294676cc18759a6",
        "IPY_MODEL_cfdd9eff77fd4fb2b0d390da01a24923"
       ],
       "layout": "IPY_MODEL_cecccb03ee6c448283222fdb1da00a71"
      }
     },
     "c76d9da0324b41ea82a7f3c1c6bbbd02": {
      "model_module": "@jupyter-widgets/controls",
      "model_module_version": "2.0.0",
      "model_name": "HBoxModel",
      "state": {
       "children": [
        "IPY_MODEL_ea6bd18693ba4a85a2107eb02e387cce",
        "IPY_MODEL_697b5395b1d947d6911f47b996d22f30",
        "IPY_MODEL_3157ef038dbd4b8bbdd1f7da45e14c7c"
       ],
       "layout": "IPY_MODEL_ad68ceb8531247938922a3e4dffc2deb"
      }
     },
     "c7ccf882c99c4b21b12f84d2cac7f72b": {
      "model_module": "@jupyter-widgets/controls",
      "model_module_version": "2.0.0",
      "model_name": "ProgressStyleModel",
      "state": {
       "description_width": ""
      }
     },
     "c7d6d5692421493d808fc8a475562f15": {
      "model_module": "@jupyter-widgets/controls",
      "model_module_version": "2.0.0",
      "model_name": "ProgressStyleModel",
      "state": {
       "description_width": ""
      }
     },
     "c894fa79e07a4bc8a32812a8947f456a": {
      "model_module": "@jupyter-widgets/controls",
      "model_module_version": "2.0.0",
      "model_name": "HTMLModel",
      "state": {
       "layout": "IPY_MODEL_8b182ca1bbb24b37bf9323a66e5ef120",
       "style": "IPY_MODEL_ebe905ca61064cc185f0e4171c949434",
       "value": " 365/365 [00:07&lt;00:00, 49.05it/s]"
      }
     },
     "c8a6fe98dfa744109a16e5e2a857bcfc": {
      "model_module": "@jupyter-widgets/base",
      "model_module_version": "2.0.0",
      "model_name": "LayoutModel",
      "state": {}
     },
     "c8aa26c6cc064f059565ed54d3d142ae": {
      "model_module": "@jupyter-widgets/controls",
      "model_module_version": "2.0.0",
      "model_name": "HTMLStyleModel",
      "state": {
       "description_width": "",
       "font_size": null,
       "text_color": null
      }
     },
     "c8b7f67c9db64cef9e000a384e1887a0": {
      "model_module": "@jupyter-widgets/controls",
      "model_module_version": "2.0.0",
      "model_name": "ProgressStyleModel",
      "state": {
       "description_width": ""
      }
     },
     "c92bb179cb2849579b45d578d57ccd66": {
      "model_module": "@jupyter-widgets/base",
      "model_module_version": "2.0.0",
      "model_name": "LayoutModel",
      "state": {}
     },
     "c93f2800e88a4ee384035eb9409d1803": {
      "model_module": "@jupyter-widgets/base",
      "model_module_version": "2.0.0",
      "model_name": "LayoutModel",
      "state": {}
     },
     "c94038d751194456accd0151bc2dec09": {
      "model_module": "@jupyter-widgets/base",
      "model_module_version": "2.0.0",
      "model_name": "LayoutModel",
      "state": {}
     },
     "c94837441a144542994ba93aa12d21f7": {
      "model_module": "@jupyter-widgets/controls",
      "model_module_version": "2.0.0",
      "model_name": "ProgressStyleModel",
      "state": {
       "description_width": ""
      }
     },
     "c9ba1d236a574898bce6e0d87e9e9ee6": {
      "model_module": "@jupyter-widgets/controls",
      "model_module_version": "2.0.0",
      "model_name": "HTMLStyleModel",
      "state": {
       "description_width": "",
       "font_size": null,
       "text_color": null
      }
     },
     "c9ca1f11baf043cb9181b6a6cfae53d1": {
      "model_module": "@jupyter-widgets/controls",
      "model_module_version": "2.0.0",
      "model_name": "HTMLModel",
      "state": {
       "layout": "IPY_MODEL_a79c1a5b3d2c43cb908a52e9d82b9f77",
       "style": "IPY_MODEL_f83b8d0c470a4d03938850f7d06e1d52",
       "value": " 118/118 [00:02&lt;00:00, 58.50it/s]"
      }
     },
     "c9cce67daefc40bd8b53755e93d136e9": {
      "model_module": "@jupyter-widgets/base",
      "model_module_version": "2.0.0",
      "model_name": "LayoutModel",
      "state": {}
     },
     "c9d40987acd74482b2450f0be46749e6": {
      "model_module": "@jupyter-widgets/controls",
      "model_module_version": "2.0.0",
      "model_name": "HTMLModel",
      "state": {
       "layout": "IPY_MODEL_34ec3859e36f4e1dae9c49a3c1b2fdc8",
       "style": "IPY_MODEL_1db3e06b2e0948169c961b7475719fec",
       "value": "100%"
      }
     },
     "ca78ac2120af4751981da70287551a69": {
      "model_module": "@jupyter-widgets/base",
      "model_module_version": "2.0.0",
      "model_name": "LayoutModel",
      "state": {}
     },
     "ca869d9284d64faeb169ea10c185f1c7": {
      "model_module": "@jupyter-widgets/controls",
      "model_module_version": "2.0.0",
      "model_name": "ProgressStyleModel",
      "state": {
       "description_width": ""
      }
     },
     "ca8de162f7784ec1908f62ca55e9758b": {
      "model_module": "@jupyter-widgets/base",
      "model_module_version": "2.0.0",
      "model_name": "LayoutModel",
      "state": {}
     },
     "cacab0dbfac944e185dbe0d2aaa18b44": {
      "model_module": "@jupyter-widgets/controls",
      "model_module_version": "2.0.0",
      "model_name": "ProgressStyleModel",
      "state": {
       "description_width": ""
      }
     },
     "cad87160279f4b7a8bec27aef6e7d4b6": {
      "model_module": "@jupyter-widgets/base",
      "model_module_version": "2.0.0",
      "model_name": "LayoutModel",
      "state": {}
     },
     "cade5b8af96e478f81c2a3a7ba07e2bf": {
      "model_module": "@jupyter-widgets/base",
      "model_module_version": "2.0.0",
      "model_name": "LayoutModel",
      "state": {}
     },
     "caf4a85450fc48809a9a53350cd51932": {
      "model_module": "@jupyter-widgets/controls",
      "model_module_version": "2.0.0",
      "model_name": "FloatProgressModel",
      "state": {
       "bar_style": "success",
       "layout": "IPY_MODEL_412be44e7dcd48c1abfdc8fb3fdf56c4",
       "max": 793,
       "style": "IPY_MODEL_bbc82a3394564c799ffcce6689aa921e",
       "value": 793
      }
     },
     "cafcd08027d44053befebed7394e3472": {
      "model_module": "@jupyter-widgets/base",
      "model_module_version": "2.0.0",
      "model_name": "LayoutModel",
      "state": {}
     },
     "cafec27eeda44cc38791040ddedf7c43": {
      "model_module": "@jupyter-widgets/controls",
      "model_module_version": "2.0.0",
      "model_name": "HTMLModel",
      "state": {
       "layout": "IPY_MODEL_88b16b284e3046ad810c9936b5fe93cb",
       "style": "IPY_MODEL_87ec9fb1ff4d4da382cfe3a34ccc9fcb",
       "value": " 516/516 [00:16&lt;00:00, 44.60it/s]"
      }
     },
     "caff8298bdfd4ac3af6d5ec28ee19677": {
      "model_module": "@jupyter-widgets/controls",
      "model_module_version": "2.0.0",
      "model_name": "HTMLModel",
      "state": {
       "layout": "IPY_MODEL_9f3ec56526b74ad297a93c458791c5c2",
       "style": "IPY_MODEL_18ffc66baa7749fd8a9897241a2b9053",
       "value": "100%"
      }
     },
     "cb10a73f926b4c71966ae1f5b8cf4f79": {
      "model_module": "@jupyter-widgets/controls",
      "model_module_version": "2.0.0",
      "model_name": "HTMLStyleModel",
      "state": {
       "description_width": "",
       "font_size": null,
       "text_color": null
      }
     },
     "cb19e419f7fa4f28aa0e43f769ac1353": {
      "model_module": "@jupyter-widgets/base",
      "model_module_version": "2.0.0",
      "model_name": "LayoutModel",
      "state": {}
     },
     "cb3faf3bb1d14cf49355dd9cecc76b1d": {
      "model_module": "@jupyter-widgets/base",
      "model_module_version": "2.0.0",
      "model_name": "LayoutModel",
      "state": {}
     },
     "cb5432b9dcc14cdfb97878dd49b578fd": {
      "model_module": "@jupyter-widgets/controls",
      "model_module_version": "2.0.0",
      "model_name": "ProgressStyleModel",
      "state": {
       "description_width": ""
      }
     },
     "cb96a6f569ee47ee82fdd8bf23828f77": {
      "model_module": "@jupyter-widgets/controls",
      "model_module_version": "2.0.0",
      "model_name": "HTMLModel",
      "state": {
       "layout": "IPY_MODEL_bb29113542314323903611a766f52931",
       "style": "IPY_MODEL_4b67d8b7be194ac0b876b0c391df880d",
       "value": "100%"
      }
     },
     "cbe577937feb4356bb6644a4de1b4cb5": {
      "model_module": "@jupyter-widgets/base",
      "model_module_version": "2.0.0",
      "model_name": "LayoutModel",
      "state": {}
     },
     "cc0ce662cce24051ba1deb1acb76d63c": {
      "model_module": "@jupyter-widgets/controls",
      "model_module_version": "2.0.0",
      "model_name": "HTMLModel",
      "state": {
       "layout": "IPY_MODEL_ea62d4c89e5b4a05af82a3bfec36fca7",
       "style": "IPY_MODEL_3c8bfcbcc38a49dbbe9ce079a6b7fc05",
       "value": " 474/474 [00:10&lt;00:00, 45.25it/s]"
      }
     },
     "cc135ebe00e6443e89c0565ee0680e76": {
      "model_module": "@jupyter-widgets/controls",
      "model_module_version": "2.0.0",
      "model_name": "HBoxModel",
      "state": {
       "children": [
        "IPY_MODEL_f26027372b8841fda224561b97435a86",
        "IPY_MODEL_6ea7eb3d2a754d3bb48b197ab6c4a47f",
        "IPY_MODEL_f0f2f2cd0fb94c55b2918cdc0c795d1b"
       ],
       "layout": "IPY_MODEL_c3bb69a6894b41b484dadf8b17930ed8"
      }
     },
     "cce05ca1de8149309f1884d8779225fb": {
      "model_module": "@jupyter-widgets/controls",
      "model_module_version": "2.0.0",
      "model_name": "HTMLStyleModel",
      "state": {
       "description_width": "",
       "font_size": null,
       "text_color": null
      }
     },
     "cd114890372a4596a4e11b91a9989a74": {
      "model_module": "@jupyter-widgets/base",
      "model_module_version": "2.0.0",
      "model_name": "LayoutModel",
      "state": {}
     },
     "cd133de9973d422ab314a61055f99955": {
      "model_module": "@jupyter-widgets/controls",
      "model_module_version": "2.0.0",
      "model_name": "HBoxModel",
      "state": {
       "children": [
        "IPY_MODEL_bd3d32dceb24407894d10edce942da91",
        "IPY_MODEL_6bc1367bf6834fd1925d87fb6edca629",
        "IPY_MODEL_01979df23a6c44f1865d92fb7082ef48"
       ],
       "layout": "IPY_MODEL_7ed0124c039b4239bbe85f80e6878809"
      }
     },
     "cd1bce40301a414bb6aa7a7ef51e801f": {
      "model_module": "@jupyter-widgets/base",
      "model_module_version": "2.0.0",
      "model_name": "LayoutModel",
      "state": {}
     },
     "cd46f975718a438caa807d90a758728a": {
      "model_module": "@jupyter-widgets/controls",
      "model_module_version": "2.0.0",
      "model_name": "HBoxModel",
      "state": {
       "children": [
        "IPY_MODEL_d080e8df058442e98376546714e45d98",
        "IPY_MODEL_a9f894a1c51a4441b88a3bbecb2b6ddf",
        "IPY_MODEL_d8f86851c15945b5b78e13e1cfde37d0"
       ],
       "layout": "IPY_MODEL_86f71e0cf4ac4c9fa01465a6d5edc14a"
      }
     },
     "cd5e22a043d94f389df2231307845bfa": {
      "model_module": "@jupyter-widgets/controls",
      "model_module_version": "2.0.0",
      "model_name": "FloatProgressModel",
      "state": {
       "bar_style": "success",
       "layout": "IPY_MODEL_4dbb8621965d45f98f8d7a115ce78aff",
       "max": 733,
       "style": "IPY_MODEL_9edb5fe5791b45989c12f30d4a07bf7a",
       "value": 733
      }
     },
     "cd7654f222c54a7d95913024d192d428": {
      "model_module": "@jupyter-widgets/base",
      "model_module_version": "2.0.0",
      "model_name": "LayoutModel",
      "state": {}
     },
     "cda73c5de4a34415a446fff3ef46bb70": {
      "model_module": "@jupyter-widgets/controls",
      "model_module_version": "2.0.0",
      "model_name": "HTMLModel",
      "state": {
       "layout": "IPY_MODEL_5823f1dc85f742cabe7ec2eb7615d696",
       "style": "IPY_MODEL_0ec4ead87d5a44ab85496d07e65e6fde",
       "value": " 663/663 [00:17&lt;00:00, 38.58it/s]"
      }
     },
     "cdb89bf18aaf4016b60ae1ae95023de8": {
      "model_module": "@jupyter-widgets/controls",
      "model_module_version": "2.0.0",
      "model_name": "HTMLStyleModel",
      "state": {
       "description_width": "",
       "font_size": null,
       "text_color": null
      }
     },
     "cdbbaa5acdeb4557be121ea10340a04d": {
      "model_module": "@jupyter-widgets/base",
      "model_module_version": "2.0.0",
      "model_name": "LayoutModel",
      "state": {}
     },
     "cdc04f15105c44e78d4470e4161bb02c": {
      "model_module": "@jupyter-widgets/controls",
      "model_module_version": "2.0.0",
      "model_name": "HTMLModel",
      "state": {
       "layout": "IPY_MODEL_7e46dc09fba64f8e8483ffd9dd2b3482",
       "style": "IPY_MODEL_d6c2468b9856477ebcaf48fdcabe0f02",
       "value": " 1/118 [00:00&lt;00:28,  4.16it/s]"
      }
     },
     "cdc6d51d2b014f51802771e820189f9e": {
      "model_module": "@jupyter-widgets/base",
      "model_module_version": "2.0.0",
      "model_name": "LayoutModel",
      "state": {}
     },
     "cde323c3d2ed4231827bf4bf11316470": {
      "model_module": "@jupyter-widgets/controls",
      "model_module_version": "2.0.0",
      "model_name": "HBoxModel",
      "state": {
       "children": [
        "IPY_MODEL_c41ecca604664fd39fcec666d0d19dc5",
        "IPY_MODEL_fba8100749f245dea1aaab6859e499d6",
        "IPY_MODEL_f8815753c29342cfb381603cf9219cc2"
       ],
       "layout": "IPY_MODEL_a98b2b0a96e345cd8e42878c6a284197"
      }
     },
     "cdec7e25811746e1bb7d96728e2d64a1": {
      "model_module": "@jupyter-widgets/controls",
      "model_module_version": "2.0.0",
      "model_name": "HTMLStyleModel",
      "state": {
       "description_width": "",
       "font_size": null,
       "text_color": null
      }
     },
     "ce06f6511f51441797cb1f6e0365b73e": {
      "model_module": "@jupyter-widgets/controls",
      "model_module_version": "2.0.0",
      "model_name": "HTMLModel",
      "state": {
       "layout": "IPY_MODEL_fa05cc54765f4889af7cd06bf0fa4b18",
       "style": "IPY_MODEL_bcca3dbc4d2944a79273c95a189ce70c",
       "value": "100%"
      }
     },
     "ce344112985044779f1a1729f1de28f4": {
      "model_module": "@jupyter-widgets/base",
      "model_module_version": "2.0.0",
      "model_name": "LayoutModel",
      "state": {}
     },
     "ce7dfc343aa540e083815b9a351b0dbe": {
      "model_module": "@jupyter-widgets/controls",
      "model_module_version": "2.0.0",
      "model_name": "HTMLStyleModel",
      "state": {
       "description_width": "",
       "font_size": null,
       "text_color": null
      }
     },
     "cecccb03ee6c448283222fdb1da00a71": {
      "model_module": "@jupyter-widgets/base",
      "model_module_version": "2.0.0",
      "model_name": "LayoutModel",
      "state": {}
     },
     "ceced663282a410e841ed7dd0ace68ae": {
      "model_module": "@jupyter-widgets/base",
      "model_module_version": "2.0.0",
      "model_name": "LayoutModel",
      "state": {}
     },
     "cef7edeefec94156a2d0d0d245d8ef6f": {
      "model_module": "@jupyter-widgets/controls",
      "model_module_version": "2.0.0",
      "model_name": "HTMLStyleModel",
      "state": {
       "description_width": "",
       "font_size": null,
       "text_color": null
      }
     },
     "cf3a832303f04afeab0e29d48e743356": {
      "model_module": "@jupyter-widgets/controls",
      "model_module_version": "2.0.0",
      "model_name": "HBoxModel",
      "state": {
       "children": [
        "IPY_MODEL_a077000080af414897cdb7d1e2864367",
        "IPY_MODEL_6eaa828078a44abe9e3b43b21673b2a5",
        "IPY_MODEL_32bf550e5c24453ca65014b3cd90501c"
       ],
       "layout": "IPY_MODEL_3a52ec61e52c4f968d6683d6739b8289"
      }
     },
     "cfc0457f70a24d0981593f266e335fc8": {
      "model_module": "@jupyter-widgets/controls",
      "model_module_version": "2.0.0",
      "model_name": "HBoxModel",
      "state": {
       "children": [
        "IPY_MODEL_fc7a81c0a9e84225a1c71eb818334504",
        "IPY_MODEL_e1749d0e15e743b3911bb76f696649d8",
        "IPY_MODEL_16073c24f7434f4bab49b7ff16fcf51e"
       ],
       "layout": "IPY_MODEL_86b561c3bc2b49a18d5b3b603e9951c6"
      }
     },
     "cfdd9eff77fd4fb2b0d390da01a24923": {
      "model_module": "@jupyter-widgets/controls",
      "model_module_version": "2.0.0",
      "model_name": "HTMLModel",
      "state": {
       "layout": "IPY_MODEL_880f67708043489e95c8e75090b1655c",
       "style": "IPY_MODEL_0c2e10c492ae4cfea0f78e4739902336",
       "value": " 118/118 [00:26&lt;00:00,  3.90it/s]"
      }
     },
     "d02f0de1361d4608b8582a02d9259857": {
      "model_module": "@jupyter-widgets/base",
      "model_module_version": "2.0.0",
      "model_name": "LayoutModel",
      "state": {}
     },
     "d03dd03f565d4518b9250ddc3599a7b1": {
      "model_module": "@jupyter-widgets/controls",
      "model_module_version": "2.0.0",
      "model_name": "HBoxModel",
      "state": {
       "children": [
        "IPY_MODEL_ebaa699673c546b4bcfb72b98bbcab16",
        "IPY_MODEL_2cec71e27a6744fb9b6d8e642cfd1863",
        "IPY_MODEL_de194635f9754d4ab07944094e45026a"
       ],
       "layout": "IPY_MODEL_2088d5e9fc31486c9cd3493f7e21bdfe"
      }
     },
     "d04e3b725f8e41fe8a851015ce6c5e83": {
      "model_module": "@jupyter-widgets/controls",
      "model_module_version": "2.0.0",
      "model_name": "HTMLModel",
      "state": {
       "layout": "IPY_MODEL_b67875df6fc94657af92e75aaaf542ba",
       "style": "IPY_MODEL_d2135922114b4b2485059fe8d162a49d",
       "value": "100%"
      }
     },
     "d080e8df058442e98376546714e45d98": {
      "model_module": "@jupyter-widgets/controls",
      "model_module_version": "2.0.0",
      "model_name": "HTMLModel",
      "state": {
       "layout": "IPY_MODEL_6c9e1f1ff76146c4b8c69fd3624cce48",
       "style": "IPY_MODEL_beabcc18eb9442b8bf8282928a12c62e",
       "value": "100%"
      }
     },
     "d09c7c123a7e454eb18e66337e2f0d82": {
      "model_module": "@jupyter-widgets/controls",
      "model_module_version": "2.0.0",
      "model_name": "HTMLStyleModel",
      "state": {
       "description_width": "",
       "font_size": null,
       "text_color": null
      }
     },
     "d09e16b502934f388556962250fabc2b": {
      "model_module": "@jupyter-widgets/controls",
      "model_module_version": "2.0.0",
      "model_name": "HTMLStyleModel",
      "state": {
       "description_width": "",
       "font_size": null,
       "text_color": null
      }
     },
     "d0b2fe1e85c4415fb3b7f951b9dc8b4b": {
      "model_module": "@jupyter-widgets/base",
      "model_module_version": "2.0.0",
      "model_name": "LayoutModel",
      "state": {}
     },
     "d0cbd26f4821484b97035e9eb2f67ee2": {
      "model_module": "@jupyter-widgets/controls",
      "model_module_version": "2.0.0",
      "model_name": "HTMLModel",
      "state": {
       "layout": "IPY_MODEL_b27276773c9840de9de21f440cd41407",
       "style": "IPY_MODEL_89728cdf0a0a4161917ff2168aff27f4",
       "value": "  0%"
      }
     },
     "d0cf04a80687447181f49a7c5163f3c0": {
      "model_module": "@jupyter-widgets/controls",
      "model_module_version": "2.0.0",
      "model_name": "HTMLModel",
      "state": {
       "layout": "IPY_MODEL_4a27189d785145bfb9c6fa420c34b619",
       "style": "IPY_MODEL_2ef8b2467b30446ca7ee45342e8aa17e",
       "value": "100%"
      }
     },
     "d1724cd90d47416fbda32d60b3e0c22b": {
      "model_module": "@jupyter-widgets/controls",
      "model_module_version": "2.0.0",
      "model_name": "HTMLStyleModel",
      "state": {
       "description_width": "",
       "font_size": null,
       "text_color": null
      }
     },
     "d18608b443534ed287d8ddbc08cee500": {
      "model_module": "@jupyter-widgets/base",
      "model_module_version": "2.0.0",
      "model_name": "LayoutModel",
      "state": {}
     },
     "d18e52196b39419bbd8fb5ceafd80afb": {
      "model_module": "@jupyter-widgets/controls",
      "model_module_version": "2.0.0",
      "model_name": "FloatProgressModel",
      "state": {
       "bar_style": "success",
       "layout": "IPY_MODEL_12410d164b7f4aa983e545b2325b6f3e",
       "max": 118,
       "style": "IPY_MODEL_f2aa51ccc545405d8d6f92bb82cf2d65",
       "value": 118
      }
     },
     "d19c574af5dc4f8c801275f6e19e583c": {
      "model_module": "@jupyter-widgets/controls",
      "model_module_version": "2.0.0",
      "model_name": "ProgressStyleModel",
      "state": {
       "description_width": ""
      }
     },
     "d1d0b070a1734330953c284decd07271": {
      "model_module": "@jupyter-widgets/base",
      "model_module_version": "2.0.0",
      "model_name": "LayoutModel",
      "state": {}
     },
     "d2044a7336a348dabfb7c4f30d9b367a": {
      "model_module": "@jupyter-widgets/base",
      "model_module_version": "2.0.0",
      "model_name": "LayoutModel",
      "state": {}
     },
     "d2135922114b4b2485059fe8d162a49d": {
      "model_module": "@jupyter-widgets/controls",
      "model_module_version": "2.0.0",
      "model_name": "HTMLStyleModel",
      "state": {
       "description_width": "",
       "font_size": null,
       "text_color": null
      }
     },
     "d21742f0c5aa4f5ea053361f31145aa2": {
      "model_module": "@jupyter-widgets/base",
      "model_module_version": "2.0.0",
      "model_name": "LayoutModel",
      "state": {}
     },
     "d25af5a0040b493b99d5321f90de948c": {
      "model_module": "@jupyter-widgets/controls",
      "model_module_version": "2.0.0",
      "model_name": "HTMLStyleModel",
      "state": {
       "description_width": "",
       "font_size": null,
       "text_color": null
      }
     },
     "d2ccfddcae6d4658b19b1af335171dfd": {
      "model_module": "@jupyter-widgets/controls",
      "model_module_version": "2.0.0",
      "model_name": "HTMLModel",
      "state": {
       "layout": "IPY_MODEL_4dd60366939a4d3a9a1b0de11b9c30dc",
       "style": "IPY_MODEL_40e49e14f49549eea9e216e55b88aa5f",
       "value": " 418/418 [00:09&lt;00:00, 45.01it/s]"
      }
     },
     "d2e0c07ad94346adb593d669f9c90dc3": {
      "model_module": "@jupyter-widgets/controls",
      "model_module_version": "2.0.0",
      "model_name": "ProgressStyleModel",
      "state": {
       "description_width": ""
      }
     },
     "d3265add41ac4dd5b6ad82beb8c1be07": {
      "model_module": "@jupyter-widgets/controls",
      "model_module_version": "2.0.0",
      "model_name": "ProgressStyleModel",
      "state": {
       "description_width": ""
      }
     },
     "d34efd454ede47d0bd6a6d1ef6c07ce8": {
      "model_module": "@jupyter-widgets/base",
      "model_module_version": "2.0.0",
      "model_name": "LayoutModel",
      "state": {}
     },
     "d3a2b1bdc28546338e5e16376d391eee": {
      "model_module": "@jupyter-widgets/controls",
      "model_module_version": "2.0.0",
      "model_name": "HTMLModel",
      "state": {
       "layout": "IPY_MODEL_b2697ad14fbb4fcebf5c6e96d5c72d86",
       "style": "IPY_MODEL_0057cb74274d4e8aac02d79442956996",
       "value": "100%"
      }
     },
     "d3bed70c3fe9404f9bbc868618c50dab": {
      "model_module": "@jupyter-widgets/controls",
      "model_module_version": "2.0.0",
      "model_name": "HBoxModel",
      "state": {
       "children": [
        "IPY_MODEL_a3a771648ef04701a70d0d4acb6fcc47",
        "IPY_MODEL_ddd6ad6fb8434ca6bc0619bc294545bb",
        "IPY_MODEL_5545a4a4968b4a1c880b5a0bbcd9d1da"
       ],
       "layout": "IPY_MODEL_547529db27b746de843441d9d9e5b4c0"
      }
     },
     "d3eb78ac735f4b55bfe11674c360a295": {
      "model_module": "@jupyter-widgets/controls",
      "model_module_version": "2.0.0",
      "model_name": "HTMLStyleModel",
      "state": {
       "description_width": "",
       "font_size": null,
       "text_color": null
      }
     },
     "d400ad87cf164fef8d583349101e4045": {
      "model_module": "@jupyter-widgets/controls",
      "model_module_version": "2.0.0",
      "model_name": "FloatProgressModel",
      "state": {
       "bar_style": "success",
       "layout": "IPY_MODEL_accad379d49c44a58b58ba73dcfa2fd5",
       "max": 631,
       "style": "IPY_MODEL_9adae96bae7848999faa2e10d91ca8ef",
       "value": 631
      }
     },
     "d42b8e0c23594bf6affe0b974cda8c6a": {
      "model_module": "@jupyter-widgets/controls",
      "model_module_version": "2.0.0",
      "model_name": "FloatProgressModel",
      "state": {
       "bar_style": "success",
       "layout": "IPY_MODEL_0daeee0f668147b58f1560c4efeb9f8c",
       "max": 582,
       "style": "IPY_MODEL_c7d6d5692421493d808fc8a475562f15",
       "value": 582
      }
     },
     "d43557e2dcda41aa897426186516d29b": {
      "model_module": "@jupyter-widgets/controls",
      "model_module_version": "2.0.0",
      "model_name": "HTMLModel",
      "state": {
       "layout": "IPY_MODEL_3874abc501fb422e8d600ce557e93122",
       "style": "IPY_MODEL_e31858f2d64543e6848ef08dee5fc317",
       "value": "100%"
      }
     },
     "d439fd0375534df79746bf55d54f11df": {
      "model_module": "@jupyter-widgets/controls",
      "model_module_version": "2.0.0",
      "model_name": "ProgressStyleModel",
      "state": {
       "description_width": ""
      }
     },
     "d456de98fbe34ff2b456b9087933d674": {
      "model_module": "@jupyter-widgets/base",
      "model_module_version": "2.0.0",
      "model_name": "LayoutModel",
      "state": {}
     },
     "d463d947b2cc4990b95297f75d7edc67": {
      "model_module": "@jupyter-widgets/controls",
      "model_module_version": "2.0.0",
      "model_name": "HTMLModel",
      "state": {
       "layout": "IPY_MODEL_9ed93552fcc34d64b7730b7aed457f44",
       "style": "IPY_MODEL_dbafee63e481486aae2e709484663aac",
       "value": "100%"
      }
     },
     "d4e04588914f4666a106d75c670b76e8": {
      "model_module": "@jupyter-widgets/base",
      "model_module_version": "2.0.0",
      "model_name": "LayoutModel",
      "state": {}
     },
     "d52a3ece1b7945e8b0747f6ae7eddbd2": {
      "model_module": "@jupyter-widgets/base",
      "model_module_version": "2.0.0",
      "model_name": "LayoutModel",
      "state": {}
     },
     "d58001b04fce432fac55f58711378fd5": {
      "model_module": "@jupyter-widgets/controls",
      "model_module_version": "2.0.0",
      "model_name": "HTMLStyleModel",
      "state": {
       "description_width": "",
       "font_size": null,
       "text_color": null
      }
     },
     "d5921110f5494d1f8d07956b7691407e": {
      "model_module": "@jupyter-widgets/controls",
      "model_module_version": "2.0.0",
      "model_name": "HTMLModel",
      "state": {
       "layout": "IPY_MODEL_1e560a1341b34d55bf76f30d1f730cf4",
       "style": "IPY_MODEL_3a7f014273eb4f63b378fdf8efc8f36c",
       "value": "100%"
      }
     },
     "d5970757e5454292ab770d7d59cbbaa3": {
      "model_module": "@jupyter-widgets/base",
      "model_module_version": "2.0.0",
      "model_name": "LayoutModel",
      "state": {}
     },
     "d5e6a68eda0b410fb6657b47c4c4d1ac": {
      "model_module": "@jupyter-widgets/controls",
      "model_module_version": "2.0.0",
      "model_name": "HTMLStyleModel",
      "state": {
       "description_width": "",
       "font_size": null,
       "text_color": null
      }
     },
     "d5fcd598fea74265813a56464aa01728": {
      "model_module": "@jupyter-widgets/controls",
      "model_module_version": "2.0.0",
      "model_name": "HTMLModel",
      "state": {
       "layout": "IPY_MODEL_9a85508f40f04eaeb2955d129c94dbba",
       "style": "IPY_MODEL_1b6ad6315378476f86ae0365fbcc3a3f",
       "value": " 635/635 [00:13&lt;00:00, 45.87it/s]"
      }
     },
     "d64f421965f24ef0927a6fca04bcbe27": {
      "model_module": "@jupyter-widgets/controls",
      "model_module_version": "2.0.0",
      "model_name": "HTMLStyleModel",
      "state": {
       "description_width": "",
       "font_size": null,
       "text_color": null
      }
     },
     "d6a48e1f110b486a92ea70edc51c9265": {
      "model_module": "@jupyter-widgets/controls",
      "model_module_version": "2.0.0",
      "model_name": "HTMLModel",
      "state": {
       "layout": "IPY_MODEL_cd114890372a4596a4e11b91a9989a74",
       "style": "IPY_MODEL_35ef655ff6904521b09071c9540789e4",
       "value": "  8%"
      }
     },
     "d6b1ae94ddd04cbf9a23a7692b824f42": {
      "model_module": "@jupyter-widgets/controls",
      "model_module_version": "2.0.0",
      "model_name": "HTMLModel",
      "state": {
       "layout": "IPY_MODEL_7f8f11cfa3ec4b86a838709a29772f18",
       "style": "IPY_MODEL_dd20021bc640486ca1c7622a7c217c26",
       "value": " 640/640 [00:14&lt;00:00, 44.87it/s]"
      }
     },
     "d6c2468b9856477ebcaf48fdcabe0f02": {
      "model_module": "@jupyter-widgets/controls",
      "model_module_version": "2.0.0",
      "model_name": "HTMLStyleModel",
      "state": {
       "description_width": "",
       "font_size": null,
       "text_color": null
      }
     },
     "d6e32b54958244b093d6f8ab5876eb9d": {
      "model_module": "@jupyter-widgets/base",
      "model_module_version": "2.0.0",
      "model_name": "LayoutModel",
      "state": {}
     },
     "d6f0436a0b654565b212dff4817a7784": {
      "model_module": "@jupyter-widgets/base",
      "model_module_version": "2.0.0",
      "model_name": "LayoutModel",
      "state": {}
     },
     "d6fc5c591b484da88c56bf05b966d2e2": {
      "model_module": "@jupyter-widgets/controls",
      "model_module_version": "2.0.0",
      "model_name": "ProgressStyleModel",
      "state": {
       "description_width": ""
      }
     },
     "d7107b4524374757809a2421acaa8f60": {
      "model_module": "@jupyter-widgets/controls",
      "model_module_version": "2.0.0",
      "model_name": "FloatProgressModel",
      "state": {
       "bar_style": "success",
       "layout": "IPY_MODEL_35ca9abfd6c14f45960a29be4f2169f6",
       "max": 516,
       "style": "IPY_MODEL_6254072e367d429994adb1daf558e40b",
       "value": 516
      }
     },
     "d73abe938d4a4866a3f834dca02f7b65": {
      "model_module": "@jupyter-widgets/controls",
      "model_module_version": "2.0.0",
      "model_name": "HTMLStyleModel",
      "state": {
       "description_width": "",
       "font_size": null,
       "text_color": null
      }
     },
     "d73c1ef255c3478e83c2b9ae72d7a414": {
      "model_module": "@jupyter-widgets/controls",
      "model_module_version": "2.0.0",
      "model_name": "HTMLModel",
      "state": {
       "layout": "IPY_MODEL_994aab1a2f704083865399e0dc6c831b",
       "style": "IPY_MODEL_de8c7b6ce7e34cec826dd8abe624b354",
       "value": "100%"
      }
     },
     "d74ac5022d074a9fa896aa82f38bb77c": {
      "model_module": "@jupyter-widgets/controls",
      "model_module_version": "2.0.0",
      "model_name": "HTMLStyleModel",
      "state": {
       "description_width": "",
       "font_size": null,
       "text_color": null
      }
     },
     "d7659a6b886b4d1283b4ad1db069b77e": {
      "model_module": "@jupyter-widgets/base",
      "model_module_version": "2.0.0",
      "model_name": "LayoutModel",
      "state": {}
     },
     "d76dab555493409cb48aefcf3e11b48c": {
      "model_module": "@jupyter-widgets/base",
      "model_module_version": "2.0.0",
      "model_name": "LayoutModel",
      "state": {}
     },
     "d78b398ef205497aa664128f7865e124": {
      "model_module": "@jupyter-widgets/controls",
      "model_module_version": "2.0.0",
      "model_name": "HTMLModel",
      "state": {
       "layout": "IPY_MODEL_4b7ccbb65a2349088bdde6774e305619",
       "style": "IPY_MODEL_12839bc33f23444ba5834ed198b6df27",
       "value": "100%"
      }
     },
     "d8237fc49b6c47c8b204b51985593ab3": {
      "model_module": "@jupyter-widgets/controls",
      "model_module_version": "2.0.0",
      "model_name": "FloatProgressModel",
      "state": {
       "bar_style": "success",
       "layout": "IPY_MODEL_d0b2fe1e85c4415fb3b7f951b9dc8b4b",
       "max": 618,
       "style": "IPY_MODEL_3727efc894d84278a2a7abc8a5ae07ec",
       "value": 618
      }
     },
     "d83316b58aa047a7ad7165383105bac7": {
      "model_module": "@jupyter-widgets/controls",
      "model_module_version": "2.0.0",
      "model_name": "ProgressStyleModel",
      "state": {
       "description_width": ""
      }
     },
     "d84a1e76a01a463c944121c356089882": {
      "model_module": "@jupyter-widgets/base",
      "model_module_version": "2.0.0",
      "model_name": "LayoutModel",
      "state": {}
     },
     "d855e1319bcd4c979ca10c877c154622": {
      "model_module": "@jupyter-widgets/controls",
      "model_module_version": "2.0.0",
      "model_name": "ProgressStyleModel",
      "state": {
       "description_width": ""
      }
     },
     "d860fd7279f04f67bb89a20dddb71422": {
      "model_module": "@jupyter-widgets/base",
      "model_module_version": "2.0.0",
      "model_name": "LayoutModel",
      "state": {}
     },
     "d8bdde362a3b4858a62bff4121384200": {
      "model_module": "@jupyter-widgets/controls",
      "model_module_version": "2.0.0",
      "model_name": "ProgressStyleModel",
      "state": {
       "description_width": ""
      }
     },
     "d8df6a5e18a54d22a70a53b0897952fb": {
      "model_module": "@jupyter-widgets/base",
      "model_module_version": "2.0.0",
      "model_name": "LayoutModel",
      "state": {}
     },
     "d8eef0df6aa24dbfbb2fe3ae15cb5d93": {
      "model_module": "@jupyter-widgets/controls",
      "model_module_version": "2.0.0",
      "model_name": "HTMLModel",
      "state": {
       "layout": "IPY_MODEL_7d95d9e09dee40fb964802870ac51236",
       "style": "IPY_MODEL_4b9cf826e33643618a11bef8449c64b4",
       "value": "100%"
      }
     },
     "d8f86851c15945b5b78e13e1cfde37d0": {
      "model_module": "@jupyter-widgets/controls",
      "model_module_version": "2.0.0",
      "model_name": "HTMLModel",
      "state": {
       "layout": "IPY_MODEL_2fe921a835e1457a85d5a69c852f6fa8",
       "style": "IPY_MODEL_5d6dcf47c67e400689dd7114c7436638",
       "value": " 657/657 [00:14&lt;00:00, 44.96it/s]"
      }
     },
     "d8fe16c1d01d4aef8e8bbffdb676266b": {
      "model_module": "@jupyter-widgets/controls",
      "model_module_version": "2.0.0",
      "model_name": "HBoxModel",
      "state": {
       "children": [
        "IPY_MODEL_f81743f09f2b43a4bbfc28ad3ee2e25d",
        "IPY_MODEL_335989544ff94b81b109e4ed6fb3a990",
        "IPY_MODEL_60d8b36e0792486dab3d227785bb9787"
       ],
       "layout": "IPY_MODEL_082881a0c10a4ebca3fcb358923c9a01"
      }
     },
     "d9030c8315d54b2f80ce8bc9bf81bff9": {
      "model_module": "@jupyter-widgets/controls",
      "model_module_version": "2.0.0",
      "model_name": "FloatProgressModel",
      "state": {
       "bar_style": "success",
       "layout": "IPY_MODEL_f44aa2223bf242adbb7bc663d500271a",
       "max": 480,
       "style": "IPY_MODEL_b5a425b25bf74719bd0f46f886feb998",
       "value": 480
      }
     },
     "d93f15e77b8546878299608b760f5855": {
      "model_module": "@jupyter-widgets/controls",
      "model_module_version": "2.0.0",
      "model_name": "HTMLModel",
      "state": {
       "layout": "IPY_MODEL_56e4fd8adb854e3b8082637a24c4f747",
       "style": "IPY_MODEL_393883b0ae2a44c58811a27338a87804",
       "value": " 593/593 [00:15&lt;00:00, 38.28it/s]"
      }
     },
     "d9de830a4b414457a74d6a3177ae1b91": {
      "model_module": "@jupyter-widgets/base",
      "model_module_version": "2.0.0",
      "model_name": "LayoutModel",
      "state": {}
     },
     "d9f93a82e5824020ad72c0cb506d537e": {
      "model_module": "@jupyter-widgets/controls",
      "model_module_version": "2.0.0",
      "model_name": "ProgressStyleModel",
      "state": {
       "description_width": ""
      }
     },
     "da5648bb6c664a38a7290987f2251ec4": {
      "model_module": "@jupyter-widgets/controls",
      "model_module_version": "2.0.0",
      "model_name": "FloatProgressModel",
      "state": {
       "bar_style": "success",
       "layout": "IPY_MODEL_17fba909a8444a3fae6d1274c60fea48",
       "max": 118,
       "style": "IPY_MODEL_e0b5247269354a0dbbdc27be5a6a8ca0",
       "value": 118
      }
     },
     "da800724f39c401aa1de7d00863dc7f6": {
      "model_module": "@jupyter-widgets/controls",
      "model_module_version": "2.0.0",
      "model_name": "ProgressStyleModel",
      "state": {
       "description_width": ""
      }
     },
     "da942307eeca47fcba23ab0d68f0ff4f": {
      "model_module": "@jupyter-widgets/controls",
      "model_module_version": "2.0.0",
      "model_name": "HTMLStyleModel",
      "state": {
       "description_width": "",
       "font_size": null,
       "text_color": null
      }
     },
     "dac51d7172bd4e4bb515d9655807f54a": {
      "model_module": "@jupyter-widgets/base",
      "model_module_version": "2.0.0",
      "model_name": "LayoutModel",
      "state": {}
     },
     "db08f61d37e24988a112b8896b1b1304": {
      "model_module": "@jupyter-widgets/controls",
      "model_module_version": "2.0.0",
      "model_name": "FloatProgressModel",
      "state": {
       "bar_style": "success",
       "layout": "IPY_MODEL_60b96eac710f418c88f9612b15f7ef21",
       "max": 118,
       "style": "IPY_MODEL_d2e0c07ad94346adb593d669f9c90dc3",
       "value": 118
      }
     },
     "db2674b688864f4ba39486fe6ea6f475": {
      "model_module": "@jupyter-widgets/controls",
      "model_module_version": "2.0.0",
      "model_name": "ProgressStyleModel",
      "state": {
       "description_width": ""
      }
     },
     "db2eb5a386aa4cc2adc0ed517d5cc187": {
      "model_module": "@jupyter-widgets/controls",
      "model_module_version": "2.0.0",
      "model_name": "HTMLModel",
      "state": {
       "layout": "IPY_MODEL_9b825be3697c48749ec03e95b78d2ba3",
       "style": "IPY_MODEL_0408e6dc47524a10bbf4c028eb2b0abd",
       "value": "100%"
      }
     },
     "db3d234ed33346b1b5994fdc419ed546": {
      "model_module": "@jupyter-widgets/controls",
      "model_module_version": "2.0.0",
      "model_name": "FloatProgressModel",
      "state": {
       "bar_style": "success",
       "layout": "IPY_MODEL_c93f2800e88a4ee384035eb9409d1803",
       "max": 646,
       "style": "IPY_MODEL_1da302ea599946e396fa29f6cf001591",
       "value": 646
      }
     },
     "db669adeb1b545ee884d8fc650c05e96": {
      "model_module": "@jupyter-widgets/controls",
      "model_module_version": "2.0.0",
      "model_name": "FloatProgressModel",
      "state": {
       "bar_style": "success",
       "layout": "IPY_MODEL_454d4fa4170440f7934bd9afc6e2bcb5",
       "max": 118,
       "style": "IPY_MODEL_e4d120f2e9ec4da59ea9e60820039506",
       "value": 118
      }
     },
     "dbafee63e481486aae2e709484663aac": {
      "model_module": "@jupyter-widgets/controls",
      "model_module_version": "2.0.0",
      "model_name": "HTMLStyleModel",
      "state": {
       "description_width": "",
       "font_size": null,
       "text_color": null
      }
     },
     "dbd2574f69ce4a0487a7a28a11cc8904": {
      "model_module": "@jupyter-widgets/controls",
      "model_module_version": "2.0.0",
      "model_name": "HTMLStyleModel",
      "state": {
       "description_width": "",
       "font_size": null,
       "text_color": null
      }
     },
     "dc8c4808bf3b4df08f6dd536470f9de3": {
      "model_module": "@jupyter-widgets/controls",
      "model_module_version": "2.0.0",
      "model_name": "HTMLModel",
      "state": {
       "layout": "IPY_MODEL_98642c597e5945d7ad79eb5dbcbaaf8f",
       "style": "IPY_MODEL_1fc0c7adbd854390b958bb5889672fa2",
       "value": " 491/491 [00:10&lt;00:00, 45.43it/s]"
      }
     },
     "dcb39719828e4feda8f7a4e5217609c5": {
      "model_module": "@jupyter-widgets/base",
      "model_module_version": "2.0.0",
      "model_name": "LayoutModel",
      "state": {}
     },
     "dcf077ea0bcc470c9cb342d5d018e1c7": {
      "model_module": "@jupyter-widgets/controls",
      "model_module_version": "2.0.0",
      "model_name": "FloatProgressModel",
      "state": {
       "bar_style": "success",
       "layout": "IPY_MODEL_a0360f1443dc4e338c159832fd2dedac",
       "max": 634,
       "style": "IPY_MODEL_66a839bb18604cb4ac4aa8a6898fbb99",
       "value": 634
      }
     },
     "dd20021bc640486ca1c7622a7c217c26": {
      "model_module": "@jupyter-widgets/controls",
      "model_module_version": "2.0.0",
      "model_name": "HTMLStyleModel",
      "state": {
       "description_width": "",
       "font_size": null,
       "text_color": null
      }
     },
     "dd227e712d60482183b495c59503a3f1": {
      "model_module": "@jupyter-widgets/base",
      "model_module_version": "2.0.0",
      "model_name": "LayoutModel",
      "state": {}
     },
     "dd6897df7b9b43c1afc6d55ada52eada": {
      "model_module": "@jupyter-widgets/base",
      "model_module_version": "2.0.0",
      "model_name": "LayoutModel",
      "state": {}
     },
     "dd6b096ab6624b3eac4b25ae06668b15": {
      "model_module": "@jupyter-widgets/base",
      "model_module_version": "2.0.0",
      "model_name": "LayoutModel",
      "state": {}
     },
     "dd788e15c15e47cbac950de1b3d2e0f7": {
      "model_module": "@jupyter-widgets/controls",
      "model_module_version": "2.0.0",
      "model_name": "HTMLModel",
      "state": {
       "layout": "IPY_MODEL_f0829f359343458c9ad67b303266ba1d",
       "style": "IPY_MODEL_41ca5fa9a9034afca784e2b98667759b",
       "value": "100%"
      }
     },
     "dd7ca07be8654ef9be0aff81d28aeb4d": {
      "model_module": "@jupyter-widgets/controls",
      "model_module_version": "2.0.0",
      "model_name": "HTMLModel",
      "state": {
       "layout": "IPY_MODEL_aa837516bfd946e18932ac01f3c20db2",
       "style": "IPY_MODEL_2a4cf8944c454c199a28de25cd009c23",
       "value": " 674/674 [00:14&lt;00:00, 47.44it/s]"
      }
     },
     "dd8fc99dcfcc44ecb2dfd55a1373c18f": {
      "model_module": "@jupyter-widgets/base",
      "model_module_version": "2.0.0",
      "model_name": "LayoutModel",
      "state": {}
     },
     "ddc69c55957745c19f8661ec083d1d84": {
      "model_module": "@jupyter-widgets/base",
      "model_module_version": "2.0.0",
      "model_name": "LayoutModel",
      "state": {}
     },
     "ddc94c38db6d45618ce97886913bba8a": {
      "model_module": "@jupyter-widgets/base",
      "model_module_version": "2.0.0",
      "model_name": "LayoutModel",
      "state": {}
     },
     "ddd6ad6fb8434ca6bc0619bc294545bb": {
      "model_module": "@jupyter-widgets/controls",
      "model_module_version": "2.0.0",
      "model_name": "FloatProgressModel",
      "state": {
       "bar_style": "success",
       "layout": "IPY_MODEL_44c9748804be4a31b822eb40c4a56f08",
       "max": 624,
       "style": "IPY_MODEL_ec1188fc50f14a2ea35a3a3eb9dc6e05",
       "value": 624
      }
     },
     "dde198cb88154fcdb1d5a4be3e126c4c": {
      "model_module": "@jupyter-widgets/base",
      "model_module_version": "2.0.0",
      "model_name": "LayoutModel",
      "state": {}
     },
     "de194635f9754d4ab07944094e45026a": {
      "model_module": "@jupyter-widgets/controls",
      "model_module_version": "2.0.0",
      "model_name": "HTMLModel",
      "state": {
       "layout": "IPY_MODEL_074ddb20b3694039878347716ec432ec",
       "style": "IPY_MODEL_e82fb1cc80274b05af71c19ff1406780",
       "value": " 698/698 [00:15&lt;00:00, 45.53it/s]"
      }
     },
     "de5eb03db82d4ea8bf47e98785ceda60": {
      "model_module": "@jupyter-widgets/controls",
      "model_module_version": "2.0.0",
      "model_name": "HTMLModel",
      "state": {
       "layout": "IPY_MODEL_5e8c3d2ff59249adb8ff76146be7b502",
       "style": "IPY_MODEL_3ac60541024d4d55b9cb63c3fc925dce",
       "value": "100%"
      }
     },
     "de82ff54a1d2462fa325fddcc70cd00a": {
      "model_module": "@jupyter-widgets/controls",
      "model_module_version": "2.0.0",
      "model_name": "HTMLStyleModel",
      "state": {
       "description_width": "",
       "font_size": null,
       "text_color": null
      }
     },
     "de8c7b6ce7e34cec826dd8abe624b354": {
      "model_module": "@jupyter-widgets/controls",
      "model_module_version": "2.0.0",
      "model_name": "HTMLStyleModel",
      "state": {
       "description_width": "",
       "font_size": null,
       "text_color": null
      }
     },
     "de8d3cf55fd24d969b087d967ea10c09": {
      "model_module": "@jupyter-widgets/base",
      "model_module_version": "2.0.0",
      "model_name": "LayoutModel",
      "state": {}
     },
     "de94a5c413bb4dc2a2c398f3065bb835": {
      "model_module": "@jupyter-widgets/controls",
      "model_module_version": "2.0.0",
      "model_name": "ProgressStyleModel",
      "state": {
       "description_width": ""
      }
     },
     "ded36b53eaf945bdb39251a3e4aef0c6": {
      "model_module": "@jupyter-widgets/controls",
      "model_module_version": "2.0.0",
      "model_name": "HTMLModel",
      "state": {
       "layout": "IPY_MODEL_8e1084a8a3714eddbe78a41ad1cab858",
       "style": "IPY_MODEL_a2160fcae1ce47dc855aa01199b26201",
       "value": " 582/582 [00:14&lt;00:00, 38.62it/s]"
      }
     },
     "df9750752a9a409d8a018382725012c5": {
      "model_module": "@jupyter-widgets/controls",
      "model_module_version": "2.0.0",
      "model_name": "FloatProgressModel",
      "state": {
       "bar_style": "success",
       "layout": "IPY_MODEL_0ce30649003648ca97f2b9da902b466a",
       "max": 582,
       "style": "IPY_MODEL_9d71aa94787946d9b1155abe9b2da62b",
       "value": 582
      }
     },
     "dfac4e014e324477a0818897e2ecfd3d": {
      "model_module": "@jupyter-widgets/controls",
      "model_module_version": "2.0.0",
      "model_name": "HTMLStyleModel",
      "state": {
       "description_width": "",
       "font_size": null,
       "text_color": null
      }
     },
     "dfd863c3d8694097843a3d2164f4d129": {
      "model_module": "@jupyter-widgets/base",
      "model_module_version": "2.0.0",
      "model_name": "LayoutModel",
      "state": {}
     },
     "dff138eabc3f44f78fa38257a22ca301": {
      "model_module": "@jupyter-widgets/base",
      "model_module_version": "2.0.0",
      "model_name": "LayoutModel",
      "state": {}
     },
     "e0280df540504e38921cfc87d3a9ca8e": {
      "model_module": "@jupyter-widgets/base",
      "model_module_version": "2.0.0",
      "model_name": "LayoutModel",
      "state": {}
     },
     "e02b492a388846b6be918ad1ce81a422": {
      "model_module": "@jupyter-widgets/controls",
      "model_module_version": "2.0.0",
      "model_name": "HTMLModel",
      "state": {
       "layout": "IPY_MODEL_7f85f490fdb943f8874bf9c4c70f99e7",
       "style": "IPY_MODEL_c3194631988d4581b951c874c30c6a43",
       "value": "100%"
      }
     },
     "e03202eb0f724e64b073f8c1d193066e": {
      "model_module": "@jupyter-widgets/base",
      "model_module_version": "2.0.0",
      "model_name": "LayoutModel",
      "state": {}
     },
     "e04f0b729125432ab28f3743407ffdb1": {
      "model_module": "@jupyter-widgets/controls",
      "model_module_version": "2.0.0",
      "model_name": "HTMLStyleModel",
      "state": {
       "description_width": "",
       "font_size": null,
       "text_color": null
      }
     },
     "e0502eab1e634d22a2242812be62473c": {
      "model_module": "@jupyter-widgets/controls",
      "model_module_version": "2.0.0",
      "model_name": "ProgressStyleModel",
      "state": {
       "description_width": ""
      }
     },
     "e051450ff6fb42888c080f4bc9d7c233": {
      "model_module": "@jupyter-widgets/controls",
      "model_module_version": "2.0.0",
      "model_name": "HTMLModel",
      "state": {
       "layout": "IPY_MODEL_2e2a082adfaf421985f2cbf5dd86636b",
       "style": "IPY_MODEL_7fac412df0f747f7a6940321df2a6fa6",
       "value": "100%"
      }
     },
     "e06802a39f7440bcbb66717abfb2831e": {
      "model_module": "@jupyter-widgets/base",
      "model_module_version": "2.0.0",
      "model_name": "LayoutModel",
      "state": {}
     },
     "e071c849777843919ec08c738f256714": {
      "model_module": "@jupyter-widgets/controls",
      "model_module_version": "2.0.0",
      "model_name": "ProgressStyleModel",
      "state": {
       "description_width": ""
      }
     },
     "e094a43328874c40af003093d977538c": {
      "model_module": "@jupyter-widgets/controls",
      "model_module_version": "2.0.0",
      "model_name": "HTMLStyleModel",
      "state": {
       "description_width": "",
       "font_size": null,
       "text_color": null
      }
     },
     "e0b5247269354a0dbbdc27be5a6a8ca0": {
      "model_module": "@jupyter-widgets/controls",
      "model_module_version": "2.0.0",
      "model_name": "ProgressStyleModel",
      "state": {
       "description_width": ""
      }
     },
     "e0fd0de2c2bc428199180b356d574c59": {
      "model_module": "@jupyter-widgets/controls",
      "model_module_version": "2.0.0",
      "model_name": "HTMLModel",
      "state": {
       "layout": "IPY_MODEL_2008cb14cdb844c1a8ca449b809bcfb5",
       "style": "IPY_MODEL_f29f155583774f21a52b5a1f333fa9ad",
       "value": "100%"
      }
     },
     "e10e2a0839554e17a88c0b3a5f74819f": {
      "model_module": "@jupyter-widgets/controls",
      "model_module_version": "2.0.0",
      "model_name": "HTMLModel",
      "state": {
       "layout": "IPY_MODEL_24c6968340534442a1ac6c3d5deca3dc",
       "style": "IPY_MODEL_f968d63f7ed54aeca155a701dd541450",
       "value": " 582/582 [00:12&lt;00:00, 45.71it/s]"
      }
     },
     "e149fdefcbfa47b9a6e75037904c8c77": {
      "model_module": "@jupyter-widgets/controls",
      "model_module_version": "2.0.0",
      "model_name": "FloatProgressModel",
      "state": {
       "bar_style": "success",
       "layout": "IPY_MODEL_3504e2b959b64fb79c9f059437b79970",
       "max": 456,
       "style": "IPY_MODEL_da800724f39c401aa1de7d00863dc7f6",
       "value": 456
      }
     },
     "e1749d0e15e743b3911bb76f696649d8": {
      "model_module": "@jupyter-widgets/controls",
      "model_module_version": "2.0.0",
      "model_name": "FloatProgressModel",
      "state": {
       "bar_style": "success",
       "layout": "IPY_MODEL_b4da023e33dd4f6c9da3d55b0786a88c",
       "max": 639,
       "style": "IPY_MODEL_535d2a9e062440f39760a09ff3a79d44",
       "value": 639
      }
     },
     "e1de9a9c513340a58d2eb60f1262f2d3": {
      "model_module": "@jupyter-widgets/controls",
      "model_module_version": "2.0.0",
      "model_name": "HBoxModel",
      "state": {
       "children": [
        "IPY_MODEL_38642f6547454c6cb41d2eec3925625f",
        "IPY_MODEL_4ccb4f06ce97402e9c2778f497d417be",
        "IPY_MODEL_5e9182db45f04286a8618cca38692647"
       ],
       "layout": "IPY_MODEL_56ade4b33d8b4966aa396d94da2e618d"
      }
     },
     "e1fbffcd09124fb0ad304fdec86cf01d": {
      "model_module": "@jupyter-widgets/controls",
      "model_module_version": "2.0.0",
      "model_name": "HTMLModel",
      "state": {
       "layout": "IPY_MODEL_2076c695e7534e72a326dacfee032bac",
       "style": "IPY_MODEL_5343e045940c47a4a7031b0d1193c362",
       "value": " 465/465 [00:10&lt;00:00, 45.60it/s]"
      }
     },
     "e275c53c2f1e4910a679efee3000c0bd": {
      "model_module": "@jupyter-widgets/base",
      "model_module_version": "2.0.0",
      "model_name": "LayoutModel",
      "state": {}
     },
     "e27fdd99bf73417e8ccd3ccb479bbd34": {
      "model_module": "@jupyter-widgets/controls",
      "model_module_version": "2.0.0",
      "model_name": "HTMLStyleModel",
      "state": {
       "description_width": "",
       "font_size": null,
       "text_color": null
      }
     },
     "e28384a9ffdf4b44ae3edfc6e0fa8f08": {
      "model_module": "@jupyter-widgets/controls",
      "model_module_version": "2.0.0",
      "model_name": "HTMLModel",
      "state": {
       "layout": "IPY_MODEL_367b9608da0843d8ae4331e62a0d3c3b",
       "style": "IPY_MODEL_6c8ccb994d3c47ca990cd459856de102",
       "value": "100%"
      }
     },
     "e28bbf81b54f47daaeac4d5290d8b4c2": {
      "model_module": "@jupyter-widgets/controls",
      "model_module_version": "2.0.0",
      "model_name": "HTMLModel",
      "state": {
       "layout": "IPY_MODEL_915c7e15aa3e413798ed5a361e837fd4",
       "style": "IPY_MODEL_87c75889e20e4f75b2da87c452a79926",
       "value": "100%"
      }
     },
     "e2900bb35d664b40b57f24317c285166": {
      "model_module": "@jupyter-widgets/base",
      "model_module_version": "2.0.0",
      "model_name": "LayoutModel",
      "state": {}
     },
     "e29bb56e0ba44932b049250f31cfb0cb": {
      "model_module": "@jupyter-widgets/base",
      "model_module_version": "2.0.0",
      "model_name": "LayoutModel",
      "state": {}
     },
     "e2c710e654854bb98d66e21426ef5dc5": {
      "model_module": "@jupyter-widgets/controls",
      "model_module_version": "2.0.0",
      "model_name": "HTMLModel",
      "state": {
       "layout": "IPY_MODEL_a8d08be41f92461db8535fc1bea289cd",
       "style": "IPY_MODEL_f4d831ff889e40b088e6dc3090c3a2c3",
       "value": "100%"
      }
     },
     "e2e161e5e396411c92c563233d188f3f": {
      "model_module": "@jupyter-widgets/base",
      "model_module_version": "2.0.0",
      "model_name": "LayoutModel",
      "state": {}
     },
     "e31858f2d64543e6848ef08dee5fc317": {
      "model_module": "@jupyter-widgets/controls",
      "model_module_version": "2.0.0",
      "model_name": "HTMLStyleModel",
      "state": {
       "description_width": "",
       "font_size": null,
       "text_color": null
      }
     },
     "e3565330ddc0487aaa0b9fe872725da0": {
      "model_module": "@jupyter-widgets/controls",
      "model_module_version": "2.0.0",
      "model_name": "HTMLStyleModel",
      "state": {
       "description_width": "",
       "font_size": null,
       "text_color": null
      }
     },
     "e36b80d486e748d9924a28119e770edf": {
      "model_module": "@jupyter-widgets/base",
      "model_module_version": "2.0.0",
      "model_name": "LayoutModel",
      "state": {}
     },
     "e3b1f3662193414db72892ff8ae961be": {
      "model_module": "@jupyter-widgets/controls",
      "model_module_version": "2.0.0",
      "model_name": "HBoxModel",
      "state": {
       "children": [
        "IPY_MODEL_6c9d76da31ce4f38a0353dff675569f5",
        "IPY_MODEL_3a86fb90dcee4bfd9573e4818f2a48f7",
        "IPY_MODEL_0cde2701b53f473cb1eee9991003e429"
       ],
       "layout": "IPY_MODEL_c35d3497822f4ef782988b91d234e934"
      }
     },
     "e3bb3eaadfa541ea8afcd3c0d37fffdb": {
      "model_module": "@jupyter-widgets/controls",
      "model_module_version": "2.0.0",
      "model_name": "HTMLModel",
      "state": {
       "layout": "IPY_MODEL_88f7369549dc419a97de7b88d21644ea",
       "style": "IPY_MODEL_66afb7ea5d1548bd95ab8cb203988780",
       "value": " 601/601 [00:13&lt;00:00, 44.07it/s]"
      }
     },
     "e423b240e7d3418492cc8e19331ccda1": {
      "model_module": "@jupyter-widgets/base",
      "model_module_version": "2.0.0",
      "model_name": "LayoutModel",
      "state": {}
     },
     "e47ec44b472f40c49268403c00379fc8": {
      "model_module": "@jupyter-widgets/base",
      "model_module_version": "2.0.0",
      "model_name": "LayoutModel",
      "state": {}
     },
     "e4bb77ec917248c19023db80c38f7a61": {
      "model_module": "@jupyter-widgets/base",
      "model_module_version": "2.0.0",
      "model_name": "LayoutModel",
      "state": {}
     },
     "e4c0b74a409746e4b51ee877640a6d9b": {
      "model_module": "@jupyter-widgets/base",
      "model_module_version": "2.0.0",
      "model_name": "LayoutModel",
      "state": {}
     },
     "e4d120f2e9ec4da59ea9e60820039506": {
      "model_module": "@jupyter-widgets/controls",
      "model_module_version": "2.0.0",
      "model_name": "ProgressStyleModel",
      "state": {
       "description_width": ""
      }
     },
     "e5119c4d0d9e443385763be3931313e5": {
      "model_module": "@jupyter-widgets/controls",
      "model_module_version": "2.0.0",
      "model_name": "HTMLStyleModel",
      "state": {
       "description_width": "",
       "font_size": null,
       "text_color": null
      }
     },
     "e583c982592a462c8985b3ac8b0ae329": {
      "model_module": "@jupyter-widgets/base",
      "model_module_version": "2.0.0",
      "model_name": "LayoutModel",
      "state": {}
     },
     "e597f920eb544c3fbcf7b8ea044de481": {
      "model_module": "@jupyter-widgets/controls",
      "model_module_version": "2.0.0",
      "model_name": "HTMLModel",
      "state": {
       "layout": "IPY_MODEL_3afe6305810840fd95ae62f2949bad14",
       "style": "IPY_MODEL_17b8c18d523d4854a1448e32a27d1fcd",
       "value": " 651/651 [00:14&lt;00:00, 45.26it/s]"
      }
     },
     "e6017f0ad5f64739ae45896ba3acc109": {
      "model_module": "@jupyter-widgets/controls",
      "model_module_version": "2.0.0",
      "model_name": "HTMLModel",
      "state": {
       "layout": "IPY_MODEL_012884511eb04b44ab6257eb033919aa",
       "style": "IPY_MODEL_775fa6befe104d23a6029b44f4edec5d",
       "value": "100%"
      }
     },
     "e60b56f2e7084c52b58f018b0923fb19": {
      "model_module": "@jupyter-widgets/controls",
      "model_module_version": "2.0.0",
      "model_name": "HTMLModel",
      "state": {
       "layout": "IPY_MODEL_bf820d2526024334ad8ca1f0e8c8c3cb",
       "style": "IPY_MODEL_1d62fbc089594524b97e89ad501b109a",
       "value": "100%"
      }
     },
     "e621d295ed4f4086ae0fcf3435a80c27": {
      "model_module": "@jupyter-widgets/controls",
      "model_module_version": "2.0.0",
      "model_name": "FloatProgressModel",
      "state": {
       "bar_style": "danger",
       "layout": "IPY_MODEL_a71176f634534c96a5eb8a0bd96a8d00",
       "max": 118,
       "style": "IPY_MODEL_ef630614a34846f8a4fe3558eb4e72b4",
       "value": 10
      }
     },
     "e6782a50810e4a82a310ef193d1ebee8": {
      "model_module": "@jupyter-widgets/base",
      "model_module_version": "2.0.0",
      "model_name": "LayoutModel",
      "state": {}
     },
     "e68280d4ea104de7bb562139de9b60ce": {
      "model_module": "@jupyter-widgets/controls",
      "model_module_version": "2.0.0",
      "model_name": "HTMLModel",
      "state": {
       "layout": "IPY_MODEL_18742c6f779745d39c52025dc8e42f07",
       "style": "IPY_MODEL_55fe3f86a05647129ca96baeabf665d4",
       "value": "100%"
      }
     },
     "e6855106c33248da950626955461a268": {
      "model_module": "@jupyter-widgets/controls",
      "model_module_version": "2.0.0",
      "model_name": "HBoxModel",
      "state": {
       "children": [
        "IPY_MODEL_8dcb75ff94ce4158a0bca9b51d35c444",
        "IPY_MODEL_4f9ebcd2677249c7bbfe6d4e9b5a484b",
        "IPY_MODEL_e3bb3eaadfa541ea8afcd3c0d37fffdb"
       ],
       "layout": "IPY_MODEL_c3aeb35b1c2747a6a58e6f2e40de8074"
      }
     },
     "e6befd6461c74d3189c765346e84367b": {
      "model_module": "@jupyter-widgets/controls",
      "model_module_version": "2.0.0",
      "model_name": "FloatProgressModel",
      "state": {
       "bar_style": "success",
       "layout": "IPY_MODEL_ca8de162f7784ec1908f62ca55e9758b",
       "max": 118,
       "style": "IPY_MODEL_9c4defc7096d4fa2bf449a13ae54fbbd",
       "value": 118
      }
     },
     "e6c1e1f6aea84e8b810fb99d6d9d8d1d": {
      "model_module": "@jupyter-widgets/base",
      "model_module_version": "2.0.0",
      "model_name": "LayoutModel",
      "state": {}
     },
     "e6c244a861364abd94e87046b58ec73e": {
      "model_module": "@jupyter-widgets/base",
      "model_module_version": "2.0.0",
      "model_name": "LayoutModel",
      "state": {}
     },
     "e6f36a13f7d0470babe6ef33a7babdc5": {
      "model_module": "@jupyter-widgets/controls",
      "model_module_version": "2.0.0",
      "model_name": "HBoxModel",
      "state": {
       "children": [
        "IPY_MODEL_7a6d65c617b5417a8d0bec4b547ff339",
        "IPY_MODEL_cd5e22a043d94f389df2231307845bfa",
        "IPY_MODEL_ae4d733015c141249d4076ff1c3ee4ed"
       ],
       "layout": "IPY_MODEL_b87feb7e10b34e4f9f86fb26b6ef97ee"
      }
     },
     "e6fe5435e0b042328c6d2d35667c308b": {
      "model_module": "@jupyter-widgets/base",
      "model_module_version": "2.0.0",
      "model_name": "LayoutModel",
      "state": {}
     },
     "e7b7b67b7f7b4d1ca1f67dc1d3bb08b2": {
      "model_module": "@jupyter-widgets/controls",
      "model_module_version": "2.0.0",
      "model_name": "HTMLStyleModel",
      "state": {
       "description_width": "",
       "font_size": null,
       "text_color": null
      }
     },
     "e7c925fe7f994f47aded2c8233c5569c": {
      "model_module": "@jupyter-widgets/base",
      "model_module_version": "2.0.0",
      "model_name": "LayoutModel",
      "state": {}
     },
     "e7d225a8762142e18ee89434b029b478": {
      "model_module": "@jupyter-widgets/controls",
      "model_module_version": "2.0.0",
      "model_name": "HTMLModel",
      "state": {
       "layout": "IPY_MODEL_589248fa3cba47079fd18781b801808a",
       "style": "IPY_MODEL_9f9bdb87630149af889cc4054754b110",
       "value": " 468/468 [00:10&lt;00:00, 37.13it/s]"
      }
     },
     "e7f1cb7c2cf249308b69b7a22126bf13": {
      "model_module": "@jupyter-widgets/controls",
      "model_module_version": "2.0.0",
      "model_name": "ProgressStyleModel",
      "state": {
       "description_width": ""
      }
     },
     "e80018e93f0f4e63826f30d45ef9224e": {
      "model_module": "@jupyter-widgets/base",
      "model_module_version": "2.0.0",
      "model_name": "LayoutModel",
      "state": {}
     },
     "e802a157b550432d8f3726d76af08e39": {
      "model_module": "@jupyter-widgets/base",
      "model_module_version": "2.0.0",
      "model_name": "LayoutModel",
      "state": {}
     },
     "e8236c01066c4249978e927fc26800f3": {
      "model_module": "@jupyter-widgets/base",
      "model_module_version": "2.0.0",
      "model_name": "LayoutModel",
      "state": {}
     },
     "e82fb1cc80274b05af71c19ff1406780": {
      "model_module": "@jupyter-widgets/controls",
      "model_module_version": "2.0.0",
      "model_name": "HTMLStyleModel",
      "state": {
       "description_width": "",
       "font_size": null,
       "text_color": null
      }
     },
     "e8a29d7d4a324b20acf92ed6e5d8e27c": {
      "model_module": "@jupyter-widgets/controls",
      "model_module_version": "2.0.0",
      "model_name": "HTMLStyleModel",
      "state": {
       "description_width": "",
       "font_size": null,
       "text_color": null
      }
     },
     "e8ad831bc42241fcbeccfa3c53b6cad3": {
      "model_module": "@jupyter-widgets/base",
      "model_module_version": "2.0.0",
      "model_name": "LayoutModel",
      "state": {}
     },
     "e8c4112b124746e5985cd1921797b36f": {
      "model_module": "@jupyter-widgets/base",
      "model_module_version": "2.0.0",
      "model_name": "LayoutModel",
      "state": {}
     },
     "e911b9ea0532490e9bbe8ca15329f838": {
      "model_module": "@jupyter-widgets/controls",
      "model_module_version": "2.0.0",
      "model_name": "HTMLStyleModel",
      "state": {
       "description_width": "",
       "font_size": null,
       "text_color": null
      }
     },
     "e921d232035a4da8bea729b3cc6e17c5": {
      "model_module": "@jupyter-widgets/controls",
      "model_module_version": "2.0.0",
      "model_name": "HBoxModel",
      "state": {
       "children": [
        "IPY_MODEL_2716f7cef97e49d89cb00727f72f2dee",
        "IPY_MODEL_914ca8dfb8184bf0a1fb6c1153c982c9",
        "IPY_MODEL_ff5ed4ecb7d645db988b6ac180683057"
       ],
       "layout": "IPY_MODEL_c11a5fce58624acbbfd35f91253771e9"
      }
     },
     "e92a560cdd5e47e4bf57818dcd034c17": {
      "model_module": "@jupyter-widgets/base",
      "model_module_version": "2.0.0",
      "model_name": "LayoutModel",
      "state": {}
     },
     "e9312d79a06244f99ebfdaee0aa12b78": {
      "model_module": "@jupyter-widgets/controls",
      "model_module_version": "2.0.0",
      "model_name": "HTMLModel",
      "state": {
       "layout": "IPY_MODEL_9ac25f833d4648e699df5a8937016a43",
       "style": "IPY_MODEL_717c0c5469c84e2da728ca9f89a2b5b2",
       "value": " 681/681 [00:18&lt;00:00, 41.89it/s]"
      }
     },
     "ea190cfb1cd84a1ea405086495e04d14": {
      "model_module": "@jupyter-widgets/controls",
      "model_module_version": "2.0.0",
      "model_name": "FloatProgressModel",
      "state": {
       "bar_style": "success",
       "layout": "IPY_MODEL_8ba66e5d676a42d68d9bd6777f3c25ae",
       "max": 618,
       "style": "IPY_MODEL_477dac5715ac4e29973ed25e1b58059e",
       "value": 618
      }
     },
     "ea62d4c89e5b4a05af82a3bfec36fca7": {
      "model_module": "@jupyter-widgets/base",
      "model_module_version": "2.0.0",
      "model_name": "LayoutModel",
      "state": {}
     },
     "ea6bd18693ba4a85a2107eb02e387cce": {
      "model_module": "@jupyter-widgets/controls",
      "model_module_version": "2.0.0",
      "model_name": "HTMLModel",
      "state": {
       "layout": "IPY_MODEL_0cdd70caeba04a818c01fde60ed5860a",
       "style": "IPY_MODEL_7c1a812a5d834b109b2ce3848374f9bd",
       "value": "100%"
      }
     },
     "ea7bc9218eb84950be40bf3744c9bf61": {
      "model_module": "@jupyter-widgets/controls",
      "model_module_version": "2.0.0",
      "model_name": "HTMLModel",
      "state": {
       "layout": "IPY_MODEL_7f79e4e736684538b58031a7f7dd8657",
       "style": "IPY_MODEL_877d3e5a00b342b09d72f617d3a1379c",
       "value": " 492/492 [00:11&lt;00:00, 45.04it/s]"
      }
     },
     "ea93047ccaec4aa78c35350e6194f14e": {
      "model_module": "@jupyter-widgets/controls",
      "model_module_version": "2.0.0",
      "model_name": "HTMLModel",
      "state": {
       "layout": "IPY_MODEL_ead20dc3760c4e14ac3d48d446aeef1d",
       "style": "IPY_MODEL_f7ca0a5340bf4e66a7ca72045d1d426d",
       "value": "100%"
      }
     },
     "ead20dc3760c4e14ac3d48d446aeef1d": {
      "model_module": "@jupyter-widgets/base",
      "model_module_version": "2.0.0",
      "model_name": "LayoutModel",
      "state": {}
     },
     "ead7605629e04a72b909926883177811": {
      "model_module": "@jupyter-widgets/base",
      "model_module_version": "2.0.0",
      "model_name": "LayoutModel",
      "state": {}
     },
     "eb10dd80f6ba4631bb8927f95e1b1d41": {
      "model_module": "@jupyter-widgets/base",
      "model_module_version": "2.0.0",
      "model_name": "LayoutModel",
      "state": {}
     },
     "eb3d2eb455f443298699329becd58bbb": {
      "model_module": "@jupyter-widgets/controls",
      "model_module_version": "2.0.0",
      "model_name": "FloatProgressModel",
      "state": {
       "bar_style": "success",
       "layout": "IPY_MODEL_2a9ed2612e13428c973644d5165a716f",
       "max": 582,
       "style": "IPY_MODEL_9ddaec79b4424616a0038a3ae5434748",
       "value": 582
      }
     },
     "eb7e69ba02b14c4c90c0e665c091e9e2": {
      "model_module": "@jupyter-widgets/controls",
      "model_module_version": "2.0.0",
      "model_name": "HBoxModel",
      "state": {
       "children": [
        "IPY_MODEL_ec3c1e9b4f16451d8994b3ab1f7a6cc2",
        "IPY_MODEL_27ef72831cf34e64b53b86c5b0b80ffb",
        "IPY_MODEL_8b094e54ca2b43c8883ee2751a72076c"
       ],
       "layout": "IPY_MODEL_84d71102e14a41ad9fc9b997dd08398b"
      }
     },
     "eb7ebc0ac2e4414bb0e5df43828946fe": {
      "model_module": "@jupyter-widgets/controls",
      "model_module_version": "2.0.0",
      "model_name": "FloatProgressModel",
      "state": {
       "bar_style": "success",
       "layout": "IPY_MODEL_108fbb1267e74490964b15e146638eda",
       "max": 420,
       "style": "IPY_MODEL_9dc8109f12944cc886ff75910bda3597",
       "value": 420
      }
     },
     "ebaa699673c546b4bcfb72b98bbcab16": {
      "model_module": "@jupyter-widgets/controls",
      "model_module_version": "2.0.0",
      "model_name": "HTMLModel",
      "state": {
       "layout": "IPY_MODEL_20f796712c6b4a58abb769b050782bc6",
       "style": "IPY_MODEL_0e3b75a5e8e84b10bc033a1bab3d6bdf",
       "value": "100%"
      }
     },
     "ebe905ca61064cc185f0e4171c949434": {
      "model_module": "@jupyter-widgets/controls",
      "model_module_version": "2.0.0",
      "model_name": "HTMLStyleModel",
      "state": {
       "description_width": "",
       "font_size": null,
       "text_color": null
      }
     },
     "ec1188fc50f14a2ea35a3a3eb9dc6e05": {
      "model_module": "@jupyter-widgets/controls",
      "model_module_version": "2.0.0",
      "model_name": "ProgressStyleModel",
      "state": {
       "description_width": ""
      }
     },
     "ec3c1e9b4f16451d8994b3ab1f7a6cc2": {
      "model_module": "@jupyter-widgets/controls",
      "model_module_version": "2.0.0",
      "model_name": "HTMLModel",
      "state": {
       "layout": "IPY_MODEL_571f8c3030cc4a88badb4b5d488bf2d8",
       "style": "IPY_MODEL_1bd058a1468949fdba549b31b02450de",
       "value": "100%"
      }
     },
     "ec52bb2e650f4aa985f831bd50238007": {
      "model_module": "@jupyter-widgets/controls",
      "model_module_version": "2.0.0",
      "model_name": "FloatProgressModel",
      "state": {
       "bar_style": "success",
       "layout": "IPY_MODEL_bb1c21727aaa4ed69753cefa47393014",
       "max": 722,
       "style": "IPY_MODEL_7b0172f51d174d1dbc323da9a2f461bd",
       "value": 722
      }
     },
     "ec64c0d4488f49e8aca3442677a71ac9": {
      "model_module": "@jupyter-widgets/controls",
      "model_module_version": "2.0.0",
      "model_name": "HTMLModel",
      "state": {
       "layout": "IPY_MODEL_586a0c8a7b484007a4182fd5a8e64255",
       "style": "IPY_MODEL_7ee50b22b2f14c7980d85cd02a55e82b",
       "value": "100%"
      }
     },
     "ec867c328f4b425fba7577fd1d1430cd": {
      "model_module": "@jupyter-widgets/controls",
      "model_module_version": "2.0.0",
      "model_name": "HBoxModel",
      "state": {
       "children": [
        "IPY_MODEL_caff8298bdfd4ac3af6d5ec28ee19677",
        "IPY_MODEL_4354659e720d4ae4962ab95267b38f1e",
        "IPY_MODEL_3b24fcda02e2467c8f1b75ccddbabcc0"
       ],
       "layout": "IPY_MODEL_c3e0f9a14034492bbea977624a59993c"
      }
     },
     "ecaac287510f4220aa03274d067e1b1a": {
      "model_module": "@jupyter-widgets/controls",
      "model_module_version": "2.0.0",
      "model_name": "ProgressStyleModel",
      "state": {
       "description_width": ""
      }
     },
     "ecb7edd49e6744f6b65f7b4a94c09aa9": {
      "model_module": "@jupyter-widgets/base",
      "model_module_version": "2.0.0",
      "model_name": "LayoutModel",
      "state": {}
     },
     "ed28197b8bba45fdaac3d7055c9bcb1d": {
      "model_module": "@jupyter-widgets/controls",
      "model_module_version": "2.0.0",
      "model_name": "HTMLStyleModel",
      "state": {
       "description_width": "",
       "font_size": null,
       "text_color": null
      }
     },
     "ed4c147303754f9cae93951cec4dd1e2": {
      "model_module": "@jupyter-widgets/base",
      "model_module_version": "2.0.0",
      "model_name": "LayoutModel",
      "state": {}
     },
     "ed6c9a8a0b904cefaffd64910153ed29": {
      "model_module": "@jupyter-widgets/controls",
      "model_module_version": "2.0.0",
      "model_name": "FloatProgressModel",
      "state": {
       "bar_style": "success",
       "layout": "IPY_MODEL_5b4b460d640e4f599c4bb93150ca6ca5",
       "max": 527,
       "style": "IPY_MODEL_fe5839e0cea44b69a68e4d2f5d7ce9b0",
       "value": 527
      }
     },
     "ed9c990aea1d4f3baf42c815f0f7cf55": {
      "model_module": "@jupyter-widgets/controls",
      "model_module_version": "2.0.0",
      "model_name": "FloatProgressModel",
      "state": {
       "bar_style": "success",
       "layout": "IPY_MODEL_4c997e299985485ebfface72001769b9",
       "max": 596,
       "style": "IPY_MODEL_5dbec5b6336442febef3497bb8703d25",
       "value": 596
      }
     },
     "edcecc0af3094cf082159846856e2a70": {
      "model_module": "@jupyter-widgets/base",
      "model_module_version": "2.0.0",
      "model_name": "LayoutModel",
      "state": {}
     },
     "eddaa41e9bb042cabee5d8b8cb6b357f": {
      "model_module": "@jupyter-widgets/base",
      "model_module_version": "2.0.0",
      "model_name": "LayoutModel",
      "state": {}
     },
     "ede2f160e8554f36904597d8ff21232e": {
      "model_module": "@jupyter-widgets/controls",
      "model_module_version": "2.0.0",
      "model_name": "HBoxModel",
      "state": {
       "children": [
        "IPY_MODEL_79a40eadde2945158e76e86bff6ec4a5",
        "IPY_MODEL_508cd88eeea94560bbc8c7db91ea15d7",
        "IPY_MODEL_ea7bc9218eb84950be40bf3744c9bf61"
       ],
       "layout": "IPY_MODEL_92e687a466ef4bb0b55573e3b967d50d"
      }
     },
     "ede3aa40fac94e51a0a17aa0b885b0c9": {
      "model_module": "@jupyter-widgets/controls",
      "model_module_version": "2.0.0",
      "model_name": "HTMLModel",
      "state": {
       "layout": "IPY_MODEL_702edfc3bb0246ca9dc92406fa8608ae",
       "style": "IPY_MODEL_885f921372b049c0b00323ac49da9c03",
       "value": "100%"
      }
     },
     "edefc82cab9e4aab833f72b3ba883e67": {
      "model_module": "@jupyter-widgets/controls",
      "model_module_version": "2.0.0",
      "model_name": "FloatProgressModel",
      "state": {
       "bar_style": "success",
       "layout": "IPY_MODEL_b561ddf45332429d8adcbad504a73e06",
       "max": 663,
       "style": "IPY_MODEL_072c25f374b84da594a0b3fd4af69316",
       "value": 663
      }
     },
     "ee5a3d688156485ab26c07f3d3d1d9f5": {
      "model_module": "@jupyter-widgets/controls",
      "model_module_version": "2.0.0",
      "model_name": "FloatProgressModel",
      "state": {
       "bar_style": "success",
       "layout": "IPY_MODEL_ac0470a77a354901bcf7d51396a0389c",
       "max": 365,
       "style": "IPY_MODEL_ad0c0bd755a94c4393fcef360a09e390",
       "value": 365
      }
     },
     "ee5f5979bf1842f8ac41177262f0dab4": {
      "model_module": "@jupyter-widgets/controls",
      "model_module_version": "2.0.0",
      "model_name": "HTMLModel",
      "state": {
       "layout": "IPY_MODEL_e583c982592a462c8985b3ac8b0ae329",
       "style": "IPY_MODEL_6f16616ba25f4979939feb39e84949fe",
       "value": " 582/582 [00:12&lt;00:00, 48.87it/s]"
      }
     },
     "eeeb5868b2a94d0bb36f372c2dd15db7": {
      "model_module": "@jupyter-widgets/base",
      "model_module_version": "2.0.0",
      "model_name": "LayoutModel",
      "state": {}
     },
     "ef587ac0902348d68bb78364ad379165": {
      "model_module": "@jupyter-widgets/controls",
      "model_module_version": "2.0.0",
      "model_name": "HBoxModel",
      "state": {
       "children": [
        "IPY_MODEL_3b3b567cd0b94136a7264de61c4ffc15",
        "IPY_MODEL_6d330a56b13c48a08550f2ecc985048a",
        "IPY_MODEL_7bc84db8e2444076b54b64fdd35f86aa"
       ],
       "layout": "IPY_MODEL_b3fecbca0b894656ba15010d6fbff338"
      }
     },
     "ef630614a34846f8a4fe3558eb4e72b4": {
      "model_module": "@jupyter-widgets/controls",
      "model_module_version": "2.0.0",
      "model_name": "ProgressStyleModel",
      "state": {
       "description_width": ""
      }
     },
     "ef78212508e74df882aa8396d42d36e8": {
      "model_module": "@jupyter-widgets/base",
      "model_module_version": "2.0.0",
      "model_name": "LayoutModel",
      "state": {}
     },
     "ef82226bb45c490b9e1883216e566256": {
      "model_module": "@jupyter-widgets/base",
      "model_module_version": "2.0.0",
      "model_name": "LayoutModel",
      "state": {}
     },
     "ef8f1db4d83e497a8cd6f3855d0a787d": {
      "model_module": "@jupyter-widgets/base",
      "model_module_version": "2.0.0",
      "model_name": "LayoutModel",
      "state": {}
     },
     "ef9f4b157e61406a95359c776711d52a": {
      "model_module": "@jupyter-widgets/controls",
      "model_module_version": "2.0.0",
      "model_name": "HBoxModel",
      "state": {
       "children": [
        "IPY_MODEL_879a9820c83a487481d45857c3ede119",
        "IPY_MODEL_58c2285a466a47be8b6c1f4842a4842c",
        "IPY_MODEL_6d43db56b7a24b97a57d39602d21fb59"
       ],
       "layout": "IPY_MODEL_a5708caf73084d21be16a78f11ea5f63"
      }
     },
     "ef9fa938273b447db1ab594919b7aec7": {
      "model_module": "@jupyter-widgets/base",
      "model_module_version": "2.0.0",
      "model_name": "LayoutModel",
      "state": {}
     },
     "efb3cf56ca3c422aa3bcabcd00dd7c0b": {
      "model_module": "@jupyter-widgets/base",
      "model_module_version": "2.0.0",
      "model_name": "LayoutModel",
      "state": {}
     },
     "efb842b0de4648c0b5710a17cb617d7d": {
      "model_module": "@jupyter-widgets/base",
      "model_module_version": "2.0.0",
      "model_name": "LayoutModel",
      "state": {}
     },
     "efb864b4cf274d20bde323284ea19bc2": {
      "model_module": "@jupyter-widgets/base",
      "model_module_version": "2.0.0",
      "model_name": "LayoutModel",
      "state": {}
     },
     "f010590d1e96421fb0c6bf05d71eade4": {
      "model_module": "@jupyter-widgets/controls",
      "model_module_version": "2.0.0",
      "model_name": "HTMLModel",
      "state": {
       "layout": "IPY_MODEL_512f1207ae5447e3b086c28dcfe02ae2",
       "style": "IPY_MODEL_380496fd9ca14d2ba9fe388b00c06989",
       "value": " 118/118 [27:17&lt;00:00,  9.02s/it]"
      }
     },
     "f0209abd3e2848168ec20712aee3717d": {
      "model_module": "@jupyter-widgets/controls",
      "model_module_version": "2.0.0",
      "model_name": "HTMLModel",
      "state": {
       "layout": "IPY_MODEL_c8a6fe98dfa744109a16e5e2a857bcfc",
       "style": "IPY_MODEL_f205b56770ce4ec9a33e823ef26114d9",
       "value": "100%"
      }
     },
     "f020fc01b66647cb80b62fb432b5fdb2": {
      "model_module": "@jupyter-widgets/controls",
      "model_module_version": "2.0.0",
      "model_name": "FloatProgressModel",
      "state": {
       "bar_style": "success",
       "layout": "IPY_MODEL_3912d14bbe1946f0a95d5d4e1e05320e",
       "max": 437,
       "style": "IPY_MODEL_23780d7c4f7347cfb60a09b0a804be05",
       "value": 437
      }
     },
     "f0494f23795741c6803a1ad65d8989c3": {
      "model_module": "@jupyter-widgets/base",
      "model_module_version": "2.0.0",
      "model_name": "LayoutModel",
      "state": {}
     },
     "f0829f359343458c9ad67b303266ba1d": {
      "model_module": "@jupyter-widgets/base",
      "model_module_version": "2.0.0",
      "model_name": "LayoutModel",
      "state": {}
     },
     "f09407a5844644c290d584924633931b": {
      "model_module": "@jupyter-widgets/base",
      "model_module_version": "2.0.0",
      "model_name": "LayoutModel",
      "state": {}
     },
     "f0c9c773a9284e14a63387a8ea0c9705": {
      "model_module": "@jupyter-widgets/controls",
      "model_module_version": "2.0.0",
      "model_name": "ProgressStyleModel",
      "state": {
       "description_width": ""
      }
     },
     "f0d6dc7f276f483091b7c8a02fe699d2": {
      "model_module": "@jupyter-widgets/controls",
      "model_module_version": "2.0.0",
      "model_name": "HTMLModel",
      "state": {
       "layout": "IPY_MODEL_e2900bb35d664b40b57f24317c285166",
       "style": "IPY_MODEL_c9ba1d236a574898bce6e0d87e9e9ee6",
       "value": " 118/118 [00:41&lt;00:00,  3.05it/s]"
      }
     },
     "f0f2f2cd0fb94c55b2918cdc0c795d1b": {
      "model_module": "@jupyter-widgets/controls",
      "model_module_version": "2.0.0",
      "model_name": "HTMLModel",
      "state": {
       "layout": "IPY_MODEL_88a8d00b437946239757d73141340259",
       "style": "IPY_MODEL_f292f32535a44c70b41511b6de59d50d",
       "value": " 625/625 [00:13&lt;00:00, 45.06it/s]"
      }
     },
     "f12ac3dd4ce742a58fd625514e7792db": {
      "model_module": "@jupyter-widgets/base",
      "model_module_version": "2.0.0",
      "model_name": "LayoutModel",
      "state": {}
     },
     "f16d79f8508b4220afc6183120932709": {
      "model_module": "@jupyter-widgets/controls",
      "model_module_version": "2.0.0",
      "model_name": "HTMLStyleModel",
      "state": {
       "description_width": "",
       "font_size": null,
       "text_color": null
      }
     },
     "f19b89ffe867424494f22126128f0db3": {
      "model_module": "@jupyter-widgets/base",
      "model_module_version": "2.0.0",
      "model_name": "LayoutModel",
      "state": {}
     },
     "f1a20e5ad8e14ca4a8cb11efee0d1709": {
      "model_module": "@jupyter-widgets/controls",
      "model_module_version": "2.0.0",
      "model_name": "HBoxModel",
      "state": {
       "children": [
        "IPY_MODEL_d0cbd26f4821484b97035e9eb2f67ee2",
        "IPY_MODEL_987b7f08baab450f8d3975ca60af09b6",
        "IPY_MODEL_41b970e525dc454e82b2fc15bdb59aec"
       ],
       "layout": "IPY_MODEL_ff6c771a5bf74a3d81cba98dbe2972d2"
      }
     },
     "f1d9e7f642f44660b7fed8a632d311ad": {
      "model_module": "@jupyter-widgets/controls",
      "model_module_version": "2.0.0",
      "model_name": "ProgressStyleModel",
      "state": {
       "description_width": ""
      }
     },
     "f1e5494ac44f474092b4a69f56eb18c9": {
      "model_module": "@jupyter-widgets/base",
      "model_module_version": "2.0.0",
      "model_name": "LayoutModel",
      "state": {}
     },
     "f1e9cce0b3e046029a261c58687ea85c": {
      "model_module": "@jupyter-widgets/controls",
      "model_module_version": "2.0.0",
      "model_name": "HTMLModel",
      "state": {
       "layout": "IPY_MODEL_f4dee160d89540e09fe64c9480c31b6b",
       "style": "IPY_MODEL_61fc240a2c75408e9f4e352912b632a3",
       "value": " 10/118 [00:02&lt;00:33,  3.22it/s]"
      }
     },
     "f1f43f8619b64f2aaf41eb6dbdc00e0d": {
      "model_module": "@jupyter-widgets/base",
      "model_module_version": "2.0.0",
      "model_name": "LayoutModel",
      "state": {}
     },
     "f205b56770ce4ec9a33e823ef26114d9": {
      "model_module": "@jupyter-widgets/controls",
      "model_module_version": "2.0.0",
      "model_name": "HTMLStyleModel",
      "state": {
       "description_width": "",
       "font_size": null,
       "text_color": null
      }
     },
     "f24890c0b2454fd39dd8cf545dc524ab": {
      "model_module": "@jupyter-widgets/controls",
      "model_module_version": "2.0.0",
      "model_name": "HTMLModel",
      "state": {
       "layout": "IPY_MODEL_50507924fd2b43ceafe37317ff83bb83",
       "style": "IPY_MODEL_b10637c3f0ba4a93b37c356e994c452b",
       "value": "100%"
      }
     },
     "f26027372b8841fda224561b97435a86": {
      "model_module": "@jupyter-widgets/controls",
      "model_module_version": "2.0.0",
      "model_name": "HTMLModel",
      "state": {
       "layout": "IPY_MODEL_6101f244a74d479a96fb0a808bf39ecb",
       "style": "IPY_MODEL_8efed59df720487894fd196a6a70815d",
       "value": "100%"
      }
     },
     "f292f32535a44c70b41511b6de59d50d": {
      "model_module": "@jupyter-widgets/controls",
      "model_module_version": "2.0.0",
      "model_name": "HTMLStyleModel",
      "state": {
       "description_width": "",
       "font_size": null,
       "text_color": null
      }
     },
     "f29f155583774f21a52b5a1f333fa9ad": {
      "model_module": "@jupyter-widgets/controls",
      "model_module_version": "2.0.0",
      "model_name": "HTMLStyleModel",
      "state": {
       "description_width": "",
       "font_size": null,
       "text_color": null
      }
     },
     "f2a4944b7fa54c01a4b2e7aca56f9ca2": {
      "model_module": "@jupyter-widgets/controls",
      "model_module_version": "2.0.0",
      "model_name": "FloatProgressModel",
      "state": {
       "bar_style": "success",
       "layout": "IPY_MODEL_68501fcfc221499f9a9af518045330af",
       "max": 702,
       "style": "IPY_MODEL_79ae80f20d784d5282c130337e902768",
       "value": 702
      }
     },
     "f2a8736d1cd347e6bc02c23054e13e7d": {
      "model_module": "@jupyter-widgets/base",
      "model_module_version": "2.0.0",
      "model_name": "LayoutModel",
      "state": {}
     },
     "f2aa51ccc545405d8d6f92bb82cf2d65": {
      "model_module": "@jupyter-widgets/controls",
      "model_module_version": "2.0.0",
      "model_name": "ProgressStyleModel",
      "state": {
       "description_width": ""
      }
     },
     "f2d5d492a03d40c4984412df80c9aca7": {
      "model_module": "@jupyter-widgets/base",
      "model_module_version": "2.0.0",
      "model_name": "LayoutModel",
      "state": {}
     },
     "f2fe026e90a747a8bcabf576217a9b29": {
      "model_module": "@jupyter-widgets/controls",
      "model_module_version": "2.0.0",
      "model_name": "HTMLStyleModel",
      "state": {
       "description_width": "",
       "font_size": null,
       "text_color": null
      }
     },
     "f3041fd331d849d580103be817931cc5": {
      "model_module": "@jupyter-widgets/base",
      "model_module_version": "2.0.0",
      "model_name": "LayoutModel",
      "state": {}
     },
     "f31809136bd841be825f683794bbeefb": {
      "model_module": "@jupyter-widgets/controls",
      "model_module_version": "2.0.0",
      "model_name": "HTMLStyleModel",
      "state": {
       "description_width": "",
       "font_size": null,
       "text_color": null
      }
     },
     "f328224a280d429694cfe9f379db6885": {
      "model_module": "@jupyter-widgets/base",
      "model_module_version": "2.0.0",
      "model_name": "LayoutModel",
      "state": {}
     },
     "f37434a7dfa543b0a1e00a04070c5351": {
      "model_module": "@jupyter-widgets/controls",
      "model_module_version": "2.0.0",
      "model_name": "HTMLStyleModel",
      "state": {
       "description_width": "",
       "font_size": null,
       "text_color": null
      }
     },
     "f3a368264be94778b819137e3eb61d19": {
      "model_module": "@jupyter-widgets/controls",
      "model_module_version": "2.0.0",
      "model_name": "HBoxModel",
      "state": {
       "children": [
        "IPY_MODEL_b7d3a0245222484baa20a8fb69f3977d",
        "IPY_MODEL_5f299532f1fd4bfa9868a260bb53f4fe",
        "IPY_MODEL_0407ee94c232406fb03a51776d8833b4"
       ],
       "layout": "IPY_MODEL_56db11a4220b4705af028fcd6c953117"
      }
     },
     "f3b3ec3534f244f6a4b4fcfec4a3e46b": {
      "model_module": "@jupyter-widgets/base",
      "model_module_version": "2.0.0",
      "model_name": "LayoutModel",
      "state": {}
     },
     "f3b8061b7f744edebdab8c434ea61790": {
      "model_module": "@jupyter-widgets/controls",
      "model_module_version": "2.0.0",
      "model_name": "HBoxModel",
      "state": {
       "children": [
        "IPY_MODEL_a4e808f794044ab791e9e04b6ac94679",
        "IPY_MODEL_7bfe14ad79894f1d9f897e7b9b95dbf7",
        "IPY_MODEL_f541ca1c07da4d5e99f2e738abf0f7b1"
       ],
       "layout": "IPY_MODEL_676b632df10446cd85062aa753a495a1"
      }
     },
     "f3d59078ddfc4beeb6d0ce78872a611d": {
      "model_module": "@jupyter-widgets/controls",
      "model_module_version": "2.0.0",
      "model_name": "HTMLModel",
      "state": {
       "layout": "IPY_MODEL_e03202eb0f724e64b073f8c1d193066e",
       "style": "IPY_MODEL_687069c643a346fc87e50e7e50b42f68",
       "value": " 465/465 [00:10&lt;00:00, 45.09it/s]"
      }
     },
     "f42c2a3eb3934154aace4528760d7f4d": {
      "model_module": "@jupyter-widgets/controls",
      "model_module_version": "2.0.0",
      "model_name": "FloatProgressModel",
      "state": {
       "bar_style": "success",
       "layout": "IPY_MODEL_4e460187e6404878a697412850349eff",
       "max": 819,
       "style": "IPY_MODEL_be24027e06f04985ba092485b630436d",
       "value": 819
      }
     },
     "f44aa2223bf242adbb7bc663d500271a": {
      "model_module": "@jupyter-widgets/base",
      "model_module_version": "2.0.0",
      "model_name": "LayoutModel",
      "state": {}
     },
     "f4702e92be70412a8393c420e31e9940": {
      "model_module": "@jupyter-widgets/controls",
      "model_module_version": "2.0.0",
      "model_name": "FloatProgressModel",
      "state": {
       "bar_style": "success",
       "layout": "IPY_MODEL_34e32f074040437c84d87b33b426b19e",
       "max": 674,
       "style": "IPY_MODEL_a2771d6ab3f9437598a8ca7b7fad2ca9",
       "value": 674
      }
     },
     "f4d831ff889e40b088e6dc3090c3a2c3": {
      "model_module": "@jupyter-widgets/controls",
      "model_module_version": "2.0.0",
      "model_name": "HTMLStyleModel",
      "state": {
       "description_width": "",
       "font_size": null,
       "text_color": null
      }
     },
     "f4dee160d89540e09fe64c9480c31b6b": {
      "model_module": "@jupyter-widgets/base",
      "model_module_version": "2.0.0",
      "model_name": "LayoutModel",
      "state": {}
     },
     "f50f0bdc2e3b4524b4b35db0f2d44468": {
      "model_module": "@jupyter-widgets/base",
      "model_module_version": "2.0.0",
      "model_name": "LayoutModel",
      "state": {}
     },
     "f5259364fee4482bad9ab6602e94ddcd": {
      "model_module": "@jupyter-widgets/base",
      "model_module_version": "2.0.0",
      "model_name": "LayoutModel",
      "state": {}
     },
     "f541ca1c07da4d5e99f2e738abf0f7b1": {
      "model_module": "@jupyter-widgets/controls",
      "model_module_version": "2.0.0",
      "model_name": "HTMLModel",
      "state": {
       "layout": "IPY_MODEL_5bb4033fd79c499fb89a53fbbfe8fd11",
       "style": "IPY_MODEL_43a9a31c291b4841b7808f869b7801c2",
       "value": " 699/699 [00:15&lt;00:00, 43.45it/s]"
      }
     },
     "f5880650967046b9b6a5b486d4bd0458": {
      "model_module": "@jupyter-widgets/controls",
      "model_module_version": "2.0.0",
      "model_name": "HTMLModel",
      "state": {
       "layout": "IPY_MODEL_427dc832e7b043e2aed83a75a253a69c",
       "style": "IPY_MODEL_9d9c19e6577544f39030960f413defe8",
       "value": " 707/707 [00:15&lt;00:00, 45.01it/s]"
      }
     },
     "f58b57fc5a7a46e4b2b66f4e1c70a3fd": {
      "model_module": "@jupyter-widgets/controls",
      "model_module_version": "2.0.0",
      "model_name": "HTMLModel",
      "state": {
       "layout": "IPY_MODEL_3709ccac242b4aa496bcd86e82913d9f",
       "style": "IPY_MODEL_c1894a1ae188403f8840e4de341b7a1f",
       "value": "100%"
      }
     },
     "f5a92a2c4e7e4279a19589ed7b96524a": {
      "model_module": "@jupyter-widgets/base",
      "model_module_version": "2.0.0",
      "model_name": "LayoutModel",
      "state": {}
     },
     "f5afbbad32ff457fa68ee0f6c7e6dfc9": {
      "model_module": "@jupyter-widgets/controls",
      "model_module_version": "2.0.0",
      "model_name": "HTMLStyleModel",
      "state": {
       "description_width": "",
       "font_size": null,
       "text_color": null
      }
     },
     "f5dfb4f3701348ff97a1bf397de4615d": {
      "model_module": "@jupyter-widgets/controls",
      "model_module_version": "2.0.0",
      "model_name": "HTMLModel",
      "state": {
       "layout": "IPY_MODEL_a3531cc4861c460aac776caf1a415dfd",
       "style": "IPY_MODEL_2050e06bd87c477c9d3da5a8983fd66f",
       "value": " 625/625 [00:14&lt;00:00, 44.79it/s]"
      }
     },
     "f603d552adaa4b81bc41d23f0e1f6f22": {
      "model_module": "@jupyter-widgets/controls",
      "model_module_version": "2.0.0",
      "model_name": "FloatProgressModel",
      "state": {
       "bar_style": "success",
       "layout": "IPY_MODEL_52a2011eb39d450d9d1f0f120eb22f9e",
       "max": 465,
       "style": "IPY_MODEL_3fe0892a74ac4931b9d5a2875d0a8071",
       "value": 465
      }
     },
     "f610b7365cd2432fba02eb6ff21a9f25": {
      "model_module": "@jupyter-widgets/controls",
      "model_module_version": "2.0.0",
      "model_name": "HTMLModel",
      "state": {
       "layout": "IPY_MODEL_3009873b12414da1b4ed7cace6129193",
       "style": "IPY_MODEL_818b9cbb869c42b6838ede5240607e45",
       "value": "100%"
      }
     },
     "f66a8e0bb91c481eb9d1bffc68770723": {
      "model_module": "@jupyter-widgets/base",
      "model_module_version": "2.0.0",
      "model_name": "LayoutModel",
      "state": {}
     },
     "f683c08a929045f7b50c00b120edfcb3": {
      "model_module": "@jupyter-widgets/controls",
      "model_module_version": "2.0.0",
      "model_name": "FloatProgressModel",
      "state": {
       "bar_style": "danger",
       "layout": "IPY_MODEL_60366fed0bbe415aa0fee1bdaa1fec26",
       "max": 118,
       "style": "IPY_MODEL_e0502eab1e634d22a2242812be62473c",
       "value": 1
      }
     },
     "f6a3be76774642798f52e8f1a0f8e627": {
      "model_module": "@jupyter-widgets/controls",
      "model_module_version": "2.0.0",
      "model_name": "HTMLStyleModel",
      "state": {
       "description_width": "",
       "font_size": null,
       "text_color": null
      }
     },
     "f70eb064999a48a1a9e931d303363a99": {
      "model_module": "@jupyter-widgets/controls",
      "model_module_version": "2.0.0",
      "model_name": "HBoxModel",
      "state": {
       "children": [
        "IPY_MODEL_7df845ae7b7a4a34b22ea5f78d8d0978",
        "IPY_MODEL_28cc3c500c82423c93a916545abc0349",
        "IPY_MODEL_8fbb55327775462ebc2492ccca00c525"
       ],
       "layout": "IPY_MODEL_88506df381794aa49c4ec32bd70153e1"
      }
     },
     "f712e8ce6eaf4256947aa1f7a430ed2b": {
      "model_module": "@jupyter-widgets/base",
      "model_module_version": "2.0.0",
      "model_name": "LayoutModel",
      "state": {}
     },
     "f726127933994e4c80441c41707fb198": {
      "model_module": "@jupyter-widgets/controls",
      "model_module_version": "2.0.0",
      "model_name": "HTMLModel",
      "state": {
       "layout": "IPY_MODEL_15371c87aa0b4b17aef49ede66e953ab",
       "style": "IPY_MODEL_0e1a39142cf942b0a92d9ca7737ef1d3",
       "value": "100%"
      }
     },
     "f72975541cc547d2958a4e7c39a06e2d": {
      "model_module": "@jupyter-widgets/controls",
      "model_module_version": "2.0.0",
      "model_name": "HBoxModel",
      "state": {
       "children": [
        "IPY_MODEL_c1565ec2c66d4d3f8c85354c0bc2e766",
        "IPY_MODEL_a5d453657583490995aa4b9c68622df0",
        "IPY_MODEL_5edd199cfe40479287642af2bd785439"
       ],
       "layout": "IPY_MODEL_3496f297dd03432dbe2f9ae86c0e66a0"
      }
     },
     "f73dfbe9c167487d960f4da3de2560b5": {
      "model_module": "@jupyter-widgets/controls",
      "model_module_version": "2.0.0",
      "model_name": "HTMLModel",
      "state": {
       "layout": "IPY_MODEL_078c74a149b14d02a3470dc269a641ca",
       "style": "IPY_MODEL_e3565330ddc0487aaa0b9fe872725da0",
       "value": "100%"
      }
     },
     "f7832945a9384882bb56438a962709aa": {
      "model_module": "@jupyter-widgets/controls",
      "model_module_version": "2.0.0",
      "model_name": "HTMLStyleModel",
      "state": {
       "description_width": "",
       "font_size": null,
       "text_color": null
      }
     },
     "f7ca0a5340bf4e66a7ca72045d1d426d": {
      "model_module": "@jupyter-widgets/controls",
      "model_module_version": "2.0.0",
      "model_name": "HTMLStyleModel",
      "state": {
       "description_width": "",
       "font_size": null,
       "text_color": null
      }
     },
     "f7dafade198d4cd8ac2b3291685b4c8d": {
      "model_module": "@jupyter-widgets/controls",
      "model_module_version": "2.0.0",
      "model_name": "HTMLStyleModel",
      "state": {
       "description_width": "",
       "font_size": null,
       "text_color": null
      }
     },
     "f7f8f74dab6b427dbafac57c4479a9a6": {
      "model_module": "@jupyter-widgets/controls",
      "model_module_version": "2.0.0",
      "model_name": "HBoxModel",
      "state": {
       "children": [
        "IPY_MODEL_cb96a6f569ee47ee82fdd8bf23828f77",
        "IPY_MODEL_5e48f46cba534aa8a04d6373797df577",
        "IPY_MODEL_e10e2a0839554e17a88c0b3a5f74819f"
       ],
       "layout": "IPY_MODEL_c41c2dab989f402c965cb85f31646d82"
      }
     },
     "f8101fc2b6254d96879179e5901b2912": {
      "model_module": "@jupyter-widgets/controls",
      "model_module_version": "2.0.0",
      "model_name": "HTMLModel",
      "state": {
       "layout": "IPY_MODEL_f1e5494ac44f474092b4a69f56eb18c9",
       "style": "IPY_MODEL_252621b0c20d4fa59ee3edf8aae8f68e",
       "value": "100%"
      }
     },
     "f81743f09f2b43a4bbfc28ad3ee2e25d": {
      "model_module": "@jupyter-widgets/controls",
      "model_module_version": "2.0.0",
      "model_name": "HTMLModel",
      "state": {
       "layout": "IPY_MODEL_cdc6d51d2b014f51802771e820189f9e",
       "style": "IPY_MODEL_ce7dfc343aa540e083815b9a351b0dbe",
       "value": "100%"
      }
     },
     "f81e31f7ce6448f7bd0aedc23fd5aa3d": {
      "model_module": "@jupyter-widgets/base",
      "model_module_version": "2.0.0",
      "model_name": "LayoutModel",
      "state": {}
     },
     "f83b8d0c470a4d03938850f7d06e1d52": {
      "model_module": "@jupyter-widgets/controls",
      "model_module_version": "2.0.0",
      "model_name": "HTMLStyleModel",
      "state": {
       "description_width": "",
       "font_size": null,
       "text_color": null
      }
     },
     "f8694ba7b41547cc9542d0fff073e4e4": {
      "model_module": "@jupyter-widgets/base",
      "model_module_version": "2.0.0",
      "model_name": "LayoutModel",
      "state": {}
     },
     "f8815753c29342cfb381603cf9219cc2": {
      "model_module": "@jupyter-widgets/controls",
      "model_module_version": "2.0.0",
      "model_name": "HTMLModel",
      "state": {
       "layout": "IPY_MODEL_ef8f1db4d83e497a8cd6f3855d0a787d",
       "style": "IPY_MODEL_042c321b8679400296b51956e25b20b8",
       "value": " 654/654 [00:13&lt;00:00, 46.95it/s]"
      }
     },
     "f8ef566ece5a48a399fdf01f823fa1d0": {
      "model_module": "@jupyter-widgets/controls",
      "model_module_version": "2.0.0",
      "model_name": "HTMLModel",
      "state": {
       "layout": "IPY_MODEL_d4e04588914f4666a106d75c670b76e8",
       "style": "IPY_MODEL_31725ad78c8b491db7c4076609fa4165",
       "value": " 745/745 [00:16&lt;00:00, 45.59it/s]"
      }
     },
     "f919ea2cd4444ed6bdb448eb3ee4d2d9": {
      "model_module": "@jupyter-widgets/base",
      "model_module_version": "2.0.0",
      "model_name": "LayoutModel",
      "state": {}
     },
     "f92f7ecf653e4e8794856a16f3f96f2d": {
      "model_module": "@jupyter-widgets/controls",
      "model_module_version": "2.0.0",
      "model_name": "HBoxModel",
      "state": {
       "children": [
        "IPY_MODEL_14d8b7c145d44b918a62bd1e326d4a75",
        "IPY_MODEL_7a505cbd6de54406b93d99c13542b29b",
        "IPY_MODEL_44c7946127274df7b17596df1574dca5"
       ],
       "layout": "IPY_MODEL_8348ee7ade56425587546046f786a024"
      }
     },
     "f968d63f7ed54aeca155a701dd541450": {
      "model_module": "@jupyter-widgets/controls",
      "model_module_version": "2.0.0",
      "model_name": "HTMLStyleModel",
      "state": {
       "description_width": "",
       "font_size": null,
       "text_color": null
      }
     },
     "f985a89ddcd74c569ac80beea4cdfc4d": {
      "model_module": "@jupyter-widgets/controls",
      "model_module_version": "2.0.0",
      "model_name": "HBoxModel",
      "state": {
       "children": [
        "IPY_MODEL_08a9c6b5e6d84814ab2bd973c99ebbd6",
        "IPY_MODEL_7298fc26ee604804a1a85f1c716fd921",
        "IPY_MODEL_2b2f0b383ddb455e90d96c5ccab4d791"
       ],
       "layout": "IPY_MODEL_f66a8e0bb91c481eb9d1bffc68770723"
      }
     },
     "f9b7bdc7d5c948e59adb8eeacd6a7485": {
      "model_module": "@jupyter-widgets/controls",
      "model_module_version": "2.0.0",
      "model_name": "HBoxModel",
      "state": {
       "children": [
        "IPY_MODEL_67ebe16822f44773883977bf328e2aeb",
        "IPY_MODEL_7987a2cee4ee4ef1b83e79b182735e82",
        "IPY_MODEL_d5fcd598fea74265813a56464aa01728"
       ],
       "layout": "IPY_MODEL_73e52b946f57424ea079521c393c06f7"
      }
     },
     "f9bd5141cde54394b6772c60887af497": {
      "model_module": "@jupyter-widgets/base",
      "model_module_version": "2.0.0",
      "model_name": "LayoutModel",
      "state": {}
     },
     "f9fc78eca3c94f6689071df2b6477561": {
      "model_module": "@jupyter-widgets/controls",
      "model_module_version": "2.0.0",
      "model_name": "HTMLModel",
      "state": {
       "layout": "IPY_MODEL_5f35ce86e5054b38823e87ef60267406",
       "style": "IPY_MODEL_c3a409c24eb54f018c5391591f96d74d",
       "value": "100%"
      }
     },
     "fa05cc54765f4889af7cd06bf0fa4b18": {
      "model_module": "@jupyter-widgets/base",
      "model_module_version": "2.0.0",
      "model_name": "LayoutModel",
      "state": {}
     },
     "fa1e84052a1e40b0802be3927a564d1f": {
      "model_module": "@jupyter-widgets/controls",
      "model_module_version": "2.0.0",
      "model_name": "HTMLStyleModel",
      "state": {
       "description_width": "",
       "font_size": null,
       "text_color": null
      }
     },
     "fb44546f41824f5b8e2aefa9f9cd2e31": {
      "model_module": "@jupyter-widgets/controls",
      "model_module_version": "2.0.0",
      "model_name": "HBoxModel",
      "state": {
       "children": [
        "IPY_MODEL_ec64c0d4488f49e8aca3442677a71ac9",
        "IPY_MODEL_376c0b0dde3448679f037066a41c8e68",
        "IPY_MODEL_e7d225a8762142e18ee89434b029b478"
       ],
       "layout": "IPY_MODEL_103890caf8034863865e1a1da747d7d9"
      }
     },
     "fb4c33cc0e024060a88e10f500705077": {
      "model_module": "@jupyter-widgets/controls",
      "model_module_version": "2.0.0",
      "model_name": "HTMLModel",
      "state": {
       "layout": "IPY_MODEL_1edd20f9be354d18a55f71648e8ff3ec",
       "style": "IPY_MODEL_08a4c2f1791b4f7aa10c878d88f90919",
       "value": " 631/631 [00:14&lt;00:00, 43.71it/s]"
      }
     },
     "fb6ff68f1b3c4cf593c625d3b280275f": {
      "model_module": "@jupyter-widgets/controls",
      "model_module_version": "2.0.0",
      "model_name": "HBoxModel",
      "state": {
       "children": [
        "IPY_MODEL_d463d947b2cc4990b95297f75d7edc67",
        "IPY_MODEL_46e3538c038d4d7b8bb87dbe52728649",
        "IPY_MODEL_bfb0945160104686b9ba2625539bca2f"
       ],
       "layout": "IPY_MODEL_42d370237e1b4a7da193648b946dc30d"
      }
     },
     "fb76dd0971904a909169f2cfbda2db59": {
      "model_module": "@jupyter-widgets/controls",
      "model_module_version": "2.0.0",
      "model_name": "HTMLStyleModel",
      "state": {
       "description_width": "",
       "font_size": null,
       "text_color": null
      }
     },
     "fb9dfedf4d2944f1b420187d25ebe5ff": {
      "model_module": "@jupyter-widgets/controls",
      "model_module_version": "2.0.0",
      "model_name": "HBoxModel",
      "state": {
       "children": [
        "IPY_MODEL_66f28531d5594c5091a2b002907dde17",
        "IPY_MODEL_db08f61d37e24988a112b8896b1b1304",
        "IPY_MODEL_2050cf27d4b24fcebe51a8a23f96912c"
       ],
       "layout": "IPY_MODEL_5ea19adff4c54e708209b307b7f14195"
      }
     },
     "fba8100749f245dea1aaab6859e499d6": {
      "model_module": "@jupyter-widgets/controls",
      "model_module_version": "2.0.0",
      "model_name": "FloatProgressModel",
      "state": {
       "bar_style": "success",
       "layout": "IPY_MODEL_fc56add76983481ba056b09c2cc27303",
       "max": 654,
       "style": "IPY_MODEL_8a6c19a76bf74055adad9b63db91e363",
       "value": 654
      }
     },
     "fbad7e9da801410e877a58fa92c2ec58": {
      "model_module": "@jupyter-widgets/base",
      "model_module_version": "2.0.0",
      "model_name": "LayoutModel",
      "state": {}
     },
     "fbae97fc694341cf9e3309e6425fb160": {
      "model_module": "@jupyter-widgets/controls",
      "model_module_version": "2.0.0",
      "model_name": "FloatProgressModel",
      "state": {
       "bar_style": "success",
       "layout": "IPY_MODEL_dd8fc99dcfcc44ecb2dfd55a1373c18f",
       "max": 623,
       "style": "IPY_MODEL_8f81e0243f7e4d1ab729f5040d9a99c9",
       "value": 623
      }
     },
     "fbce76e202b94bc9b60ecb4c32114bba": {
      "model_module": "@jupyter-widgets/base",
      "model_module_version": "2.0.0",
      "model_name": "LayoutModel",
      "state": {}
     },
     "fbe3d91f1b534a94831595c0501a5f96": {
      "model_module": "@jupyter-widgets/base",
      "model_module_version": "2.0.0",
      "model_name": "LayoutModel",
      "state": {}
     },
     "fbf0a9521f15416ba65b413962154f9e": {
      "model_module": "@jupyter-widgets/controls",
      "model_module_version": "2.0.0",
      "model_name": "HTMLModel",
      "state": {
       "layout": "IPY_MODEL_e6c1e1f6aea84e8b810fb99d6d9d8d1d",
       "style": "IPY_MODEL_36a1cdcc97974029acf7f4c8deb5645d",
       "value": "100%"
      }
     },
     "fc4e9bb943aa4e71806d936eea62c0ed": {
      "model_module": "@jupyter-widgets/controls",
      "model_module_version": "2.0.0",
      "model_name": "FloatProgressModel",
      "state": {
       "bar_style": "success",
       "layout": "IPY_MODEL_35496898b2154ff0afcff07c95fadc18",
       "max": 646,
       "style": "IPY_MODEL_248c81307e1a4a24b71e470cf0dc2c0c",
       "value": 646
      }
     },
     "fc56add76983481ba056b09c2cc27303": {
      "model_module": "@jupyter-widgets/base",
      "model_module_version": "2.0.0",
      "model_name": "LayoutModel",
      "state": {}
     },
     "fc5c114335714dedb6e3662ed03ece92": {
      "model_module": "@jupyter-widgets/controls",
      "model_module_version": "2.0.0",
      "model_name": "ProgressStyleModel",
      "state": {
       "description_width": ""
      }
     },
     "fc6a4f5360784d10b6317cf8d8e39d2c": {
      "model_module": "@jupyter-widgets/base",
      "model_module_version": "2.0.0",
      "model_name": "LayoutModel",
      "state": {}
     },
     "fc74f04b5d474cd8bdf722ac9ccf821d": {
      "model_module": "@jupyter-widgets/controls",
      "model_module_version": "2.0.0",
      "model_name": "HTMLStyleModel",
      "state": {
       "description_width": "",
       "font_size": null,
       "text_color": null
      }
     },
     "fc7a81c0a9e84225a1c71eb818334504": {
      "model_module": "@jupyter-widgets/controls",
      "model_module_version": "2.0.0",
      "model_name": "HTMLModel",
      "state": {
       "layout": "IPY_MODEL_230e0f2edf1546baa4dd12284f92ae8e",
       "style": "IPY_MODEL_56172568cc6643efb004643d50e6bc09",
       "value": "100%"
      }
     },
     "fc80a9b2e08e41fe82c23ce3cbbd706d": {
      "model_module": "@jupyter-widgets/controls",
      "model_module_version": "2.0.0",
      "model_name": "HTMLStyleModel",
      "state": {
       "description_width": "",
       "font_size": null,
       "text_color": null
      }
     },
     "fc8be5cd4ccc410ea3f7c7d42bcc07c5": {
      "model_module": "@jupyter-widgets/base",
      "model_module_version": "2.0.0",
      "model_name": "LayoutModel",
      "state": {}
     },
     "fca228f4b9f547c1904ba3f7e40926bf": {
      "model_module": "@jupyter-widgets/controls",
      "model_module_version": "2.0.0",
      "model_name": "HTMLStyleModel",
      "state": {
       "description_width": "",
       "font_size": null,
       "text_color": null
      }
     },
     "fcd6c5785fd74b1989aab0bbb343e258": {
      "model_module": "@jupyter-widgets/base",
      "model_module_version": "2.0.0",
      "model_name": "LayoutModel",
      "state": {}
     },
     "fd0e1d2f1cdd4cbab9532ce8ed8d756e": {
      "model_module": "@jupyter-widgets/base",
      "model_module_version": "2.0.0",
      "model_name": "LayoutModel",
      "state": {}
     },
     "fd291bff8dab4c189b565be4a8a714c5": {
      "model_module": "@jupyter-widgets/base",
      "model_module_version": "2.0.0",
      "model_name": "LayoutModel",
      "state": {}
     },
     "fdb06dd8950d4901858fc5c397527df5": {
      "model_module": "@jupyter-widgets/controls",
      "model_module_version": "2.0.0",
      "model_name": "ProgressStyleModel",
      "state": {
       "description_width": ""
      }
     },
     "fdda79ccaddf4ca495965cffc083e1a4": {
      "model_module": "@jupyter-widgets/controls",
      "model_module_version": "2.0.0",
      "model_name": "HTMLModel",
      "state": {
       "layout": "IPY_MODEL_5f0ff76956874d5fbc80bd3fab74fe8b",
       "style": "IPY_MODEL_c673ca8a70364225a6d47cd86ffbdee9",
       "value": "100%"
      }
     },
     "fde27645a0014db6a912f33d326114d4": {
      "model_module": "@jupyter-widgets/controls",
      "model_module_version": "2.0.0",
      "model_name": "HBoxModel",
      "state": {
       "children": [
        "IPY_MODEL_9a3f1ba4aa9045ad94163b9bd95ec56f",
        "IPY_MODEL_06680ce080824668ad0048ce94d21a9c",
        "IPY_MODEL_f010590d1e96421fb0c6bf05d71eade4"
       ],
       "layout": "IPY_MODEL_936b8230c74240489181934585499899"
      }
     },
     "fde62999ff554649a89a0d67556a5078": {
      "model_module": "@jupyter-widgets/controls",
      "model_module_version": "2.0.0",
      "model_name": "HBoxModel",
      "state": {
       "children": [
        "IPY_MODEL_0f1efef8b5384067891a5ee0328cc5df",
        "IPY_MODEL_07c8dcab1d4a46bea50255db7dfa8abf",
        "IPY_MODEL_aa2cb0f482dc4fbf90e1de4b9d6ec53c"
       ],
       "layout": "IPY_MODEL_61fd9a9f76df4eec8ca890c332cac119"
      }
     },
     "fe254c4dcf6f40d8b31eb50a75906014": {
      "model_module": "@jupyter-widgets/base",
      "model_module_version": "2.0.0",
      "model_name": "LayoutModel",
      "state": {}
     },
     "fe5839e0cea44b69a68e4d2f5d7ce9b0": {
      "model_module": "@jupyter-widgets/controls",
      "model_module_version": "2.0.0",
      "model_name": "ProgressStyleModel",
      "state": {
       "description_width": ""
      }
     },
     "fe661539a5d04db29fd6d96119bb1fe1": {
      "model_module": "@jupyter-widgets/controls",
      "model_module_version": "2.0.0",
      "model_name": "HTMLModel",
      "state": {
       "layout": "IPY_MODEL_147827df793045bfad45c9f9a8aa2c65",
       "style": "IPY_MODEL_f37434a7dfa543b0a1e00a04070c5351",
       "value": "100%"
      }
     },
     "feedd3d7b8d2493b824e09bce300e2c3": {
      "model_module": "@jupyter-widgets/controls",
      "model_module_version": "2.0.0",
      "model_name": "HBoxModel",
      "state": {
       "children": [
        "IPY_MODEL_4f65907e1973468485acb0043aa822ee",
        "IPY_MODEL_27b074973db948a0b8d4d069a5e5fbd6",
        "IPY_MODEL_4105e76f7be34f6a9163006073dfd45e"
       ],
       "layout": "IPY_MODEL_e06802a39f7440bcbb66717abfb2831e"
      }
     },
     "ff1558c5b9ca4ad6b919557f9d778bec": {
      "model_module": "@jupyter-widgets/controls",
      "model_module_version": "2.0.0",
      "model_name": "HBoxModel",
      "state": {
       "children": [
        "IPY_MODEL_27f0c90731a247588160dd231c59c401",
        "IPY_MODEL_2688b0e749a14aefb944e0d2da73069b",
        "IPY_MODEL_d2ccfddcae6d4658b19b1af335171dfd"
       ],
       "layout": "IPY_MODEL_39306c0e8d1c43808e88dce0606ef5ad"
      }
     },
     "ff34e6acce344d60b3c95007efcd58b1": {
      "model_module": "@jupyter-widgets/base",
      "model_module_version": "2.0.0",
      "model_name": "LayoutModel",
      "state": {}
     },
     "ff5ed4ecb7d645db988b6ac180683057": {
      "model_module": "@jupyter-widgets/controls",
      "model_module_version": "2.0.0",
      "model_name": "HTMLModel",
      "state": {
       "layout": "IPY_MODEL_a4f166bb92c04e5f952a3577c634e1e0",
       "style": "IPY_MODEL_f7dafade198d4cd8ac2b3291685b4c8d",
       "value": " 674/674 [00:14&lt;00:00, 45.64it/s]"
      }
     },
     "ff6c771a5bf74a3d81cba98dbe2972d2": {
      "model_module": "@jupyter-widgets/base",
      "model_module_version": "2.0.0",
      "model_name": "LayoutModel",
      "state": {}
     }
    },
    "version_major": 2,
    "version_minor": 0
   }
  }
 },
 "nbformat": 4,
 "nbformat_minor": 5
}
