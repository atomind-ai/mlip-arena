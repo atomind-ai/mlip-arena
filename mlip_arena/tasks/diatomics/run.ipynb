{
 "cells": [
  {
   "cell_type": "code",
   "execution_count": 1,
   "id": "3200850a-b8fb-4f50-9815-16ae8da0f942",
   "metadata": {
    "tags": []
   },
   "outputs": [],
   "source": [
    "import os\n",
    "from pathlib import Path\n",
    "\n",
    "import numpy as np\n",
    "import pandas as pd\n",
    "from ase import Atom, Atoms\n",
    "from ase.data import chemical_symbols, covalent_radii, vdw_alvarez\n",
    "from ase.io import read, write\n",
    "from pymatgen.core import Element\n",
    "from scipy import stats\n",
    "from tqdm.auto import tqdm\n",
    "\n",
    "from mlip_arena.models.utils import REGISTRY, MLIPEnum\n",
    "\n",
    "# model_name = \"MACE-MP(M)\"\n",
    "\n",
    "# calc = MLIPEnum[model_name].value()"
   ]
  },
  {
   "cell_type": "code",
   "execution_count": 7,
   "id": "90887faa-1601-4c4c-9c44-d16731471d7f",
   "metadata": {
    "scrolled": true,
    "tags": []
   },
   "outputs": [
    {
     "name": "stdout",
     "output_type": "stream",
     "text": [
      "========== eSCN(OC20) ==========\n"
     ]
    },
    {
     "name": "stderr",
     "output_type": "stream",
     "text": [
      "WARNING:root:Detected old config, converting to new format. Consider updating to avoid potential incompatibilities.\n",
      "WARNING:root:Couldn't modify the submission pickle with error: [Errno 2] No such file or directory: '/checkpoint/zitnick/ocp_logs/4486283/30683411_submitted.pkl'\n",
      "/pscratch/sd/c/cyrusyc/.conda/mlip-arena/lib/python3.11/site-packages/fairchem/core/modules/normalization/normalizer.py:69: UserWarning: To copy construct from a tensor, it is recommended to use sourceTensor.clone().detach() or sourceTensor.clone().detach().requires_grad_(True), rather than torch.tensor(sourceTensor).\n",
      "  \"mean\": torch.tensor(state_dict[\"mean\"]),\n"
     ]
    },
    {
     "data": {
      "application/vnd.jupyter.widget-view+json": {
       "model_id": "24eab286853845a9adc00bf1b005fe96",
       "version_major": 2,
       "version_minor": 0
      },
      "text/plain": [
       "  0%|          | 0/118 [00:00<?, ?it/s]"
      ]
     },
     "metadata": {},
     "output_type": "display_data"
    },
    {
     "name": "stdout",
     "output_type": "stream",
     "text": [
      "Atoms(symbols='H2', pbc=True, cell=[7.4399999999999995, 7.441, 7.441999999999999])\n"
     ]
    },
    {
     "data": {
      "application/vnd.jupyter.widget-view+json": {
       "model_id": "9ccd4691d8444d92aee01824ac31c279",
       "version_major": 2,
       "version_minor": 0
      },
      "text/plain": [
       "  0%|          | 0/344 [00:00<?, ?it/s]"
      ]
     },
     "metadata": {},
     "output_type": "display_data"
    },
    {
     "name": "stdout",
     "output_type": "stream",
     "text": [
      "Atoms(symbols='He2', pbc=True, cell=[8.866, 8.866999999999999, 8.868])\n"
     ]
    },
    {
     "data": {
      "application/vnd.jupyter.widget-view+json": {
       "model_id": "021844151e0748cab81beb127dce87d9",
       "version_major": 2,
       "version_minor": 0
      },
      "text/plain": [
       "  0%|          | 0/418 [00:00<?, ?it/s]"
      ]
     },
     "metadata": {},
     "output_type": "display_data"
    },
    {
     "name": "stdout",
     "output_type": "stream",
     "text": [
      "Atoms(symbols='Li2', pbc=True, cell=[13.144000000000002, 13.145000000000001, 13.146000000000003])\n"
     ]
    },
    {
     "data": {
      "application/vnd.jupyter.widget-view+json": {
       "model_id": "0351d3f8e0234361ae62ab84d59a625a",
       "version_major": 2,
       "version_minor": 0
      },
      "text/plain": [
       "  0%|          | 0/542 [00:00<?, ?it/s]"
      ]
     },
     "metadata": {},
     "output_type": "display_data"
    },
    {
     "name": "stdout",
     "output_type": "stream",
     "text": [
      "Atoms(symbols='Be2', pbc=True, cell=[12.276, 12.277, 12.278])\n"
     ]
    },
    {
     "data": {
      "application/vnd.jupyter.widget-view+json": {
       "model_id": "1af3ab5e3cfa470597b1b0b00f4ea89e",
       "version_major": 2,
       "version_minor": 0
      },
      "text/plain": [
       "  0%|          | 0/527 [00:00<?, ?it/s]"
      ]
     },
     "metadata": {},
     "output_type": "display_data"
    },
    {
     "name": "stdout",
     "output_type": "stream",
     "text": [
      "Atoms(symbols='B2', pbc=True, cell=[11.842, 11.843, 11.844000000000001])\n"
     ]
    },
    {
     "data": {
      "application/vnd.jupyter.widget-view+json": {
       "model_id": "cd070b6565634a87bac75970ac988db9",
       "version_major": 2,
       "version_minor": 0
      },
      "text/plain": [
       "  0%|          | 0/516 [00:00<?, ?it/s]"
      ]
     },
     "metadata": {},
     "output_type": "display_data"
    },
    {
     "name": "stdout",
     "output_type": "stream",
     "text": [
      "Atoms(symbols='C2', pbc=True, cell=[10.974, 10.975, 10.976])\n"
     ]
    },
    {
     "data": {
      "application/vnd.jupyter.widget-view+json": {
       "model_id": "ad1a090228244cd89a40f0dcae83baac",
       "version_major": 2,
       "version_minor": 0
      },
      "text/plain": [
       "  0%|          | 0/480 [00:00<?, ?it/s]"
      ]
     },
     "metadata": {},
     "output_type": "display_data"
    },
    {
     "name": "stdout",
     "output_type": "stream",
     "text": [
      "Atoms(symbols='N2', pbc=True, cell=[10.292, 10.293, 10.294])\n"
     ]
    },
    {
     "data": {
      "application/vnd.jupyter.widget-view+json": {
       "model_id": "2d15b033ce7e463ca30c1edf770e554d",
       "version_major": 2,
       "version_minor": 0
      },
      "text/plain": [
       "  0%|          | 0/450 [00:00<?, ?it/s]"
      ]
     },
     "metadata": {},
     "output_type": "display_data"
    },
    {
     "name": "stdout",
     "output_type": "stream",
     "text": [
      "Atoms(symbols='O2', pbc=True, cell=[9.3, 9.301, 9.302000000000001])\n"
     ]
    },
    {
     "data": {
      "application/vnd.jupyter.widget-view+json": {
       "model_id": "a47ba796ac0d43f49bb9a6a372533408",
       "version_major": 2,
       "version_minor": 0
      },
      "text/plain": [
       "  0%|          | 0/405 [00:00<?, ?it/s]"
      ]
     },
     "metadata": {},
     "output_type": "display_data"
    },
    {
     "name": "stdout",
     "output_type": "stream",
     "text": [
      "Atoms(symbols='F2', pbc=True, cell=[9.052, 9.052999999999999, 9.054])\n"
     ]
    },
    {
     "data": {
      "application/vnd.jupyter.widget-view+json": {
       "model_id": "641dfc50acee41d89321000de0472249",
       "version_major": 2,
       "version_minor": 0
      },
      "text/plain": [
       "  0%|          | 0/401 [00:00<?, ?it/s]"
      ]
     },
     "metadata": {},
     "output_type": "display_data"
    },
    {
     "name": "stdout",
     "output_type": "stream",
     "text": [
      "Atoms(symbols='Ne2', pbc=True, cell=[9.796000000000001, 9.797, 9.798000000000002])\n"
     ]
    },
    {
     "data": {
      "application/vnd.jupyter.widget-view+json": {
       "model_id": "0fb90f08d0114d66b42e277570075867",
       "version_major": 2,
       "version_minor": 0
      },
      "text/plain": [
       "  0%|          | 0/437 [00:00<?, ?it/s]"
      ]
     },
     "metadata": {},
     "output_type": "display_data"
    },
    {
     "name": "stdout",
     "output_type": "stream",
     "text": [
      "Atoms(symbols='Na2', pbc=True, cell=[15.5, 15.501, 15.502])\n"
     ]
    },
    {
     "data": {
      "application/vnd.jupyter.widget-view+json": {
       "model_id": "0e301092e4a441f9b1bd88b0612d4fa7",
       "version_major": 2,
       "version_minor": 0
      },
      "text/plain": [
       "  0%|          | 0/625 [00:00<?, ?it/s]"
      ]
     },
     "metadata": {},
     "output_type": "display_data"
    },
    {
     "name": "stdout",
     "output_type": "stream",
     "text": [
      "Atoms(symbols='Mg2', pbc=True, cell=[15.562, 15.562999999999999, 15.564])\n"
     ]
    },
    {
     "data": {
      "application/vnd.jupyter.widget-view+json": {
       "model_id": "3da0910f4f7648c4a2698da360d606c7",
       "version_major": 2,
       "version_minor": 0
      },
      "text/plain": [
       "  0%|          | 0/651 [00:00<?, ?it/s]"
      ]
     },
     "metadata": {},
     "output_type": "display_data"
    },
    {
     "name": "stdout",
     "output_type": "stream",
     "text": [
      "Atoms(symbols='Al2', pbc=True, cell=[13.950000000000001, 13.951, 13.952000000000002])\n"
     ]
    },
    {
     "data": {
      "application/vnd.jupyter.widget-view+json": {
       "model_id": "4fb4bcc42863455698e74a6543d13797",
       "version_major": 2,
       "version_minor": 0
      },
      "text/plain": [
       "  0%|          | 0/588 [00:00<?, ?it/s]"
      ]
     },
     "metadata": {},
     "output_type": "display_data"
    },
    {
     "name": "stdout",
     "output_type": "stream",
     "text": [
      "Atoms(symbols='Si2', pbc=True, cell=[13.578, 13.578999999999999, 13.58])\n"
     ]
    },
    {
     "data": {
      "application/vnd.jupyter.widget-view+json": {
       "model_id": "7973fdc719574ca2ab1097efacc35bfb",
       "version_major": 2,
       "version_minor": 0
      },
      "text/plain": [
       "  0%|          | 0/578 [00:00<?, ?it/s]"
      ]
     },
     "metadata": {},
     "output_type": "display_data"
    },
    {
     "name": "stdout",
     "output_type": "stream",
     "text": [
      "Atoms(symbols='P2', pbc=True, cell=[11.78, 11.780999999999999, 11.782])\n"
     ]
    },
    {
     "data": {
      "application/vnd.jupyter.widget-view+json": {
       "model_id": "dccf29b383d64c0cb120c8f72763bd98",
       "version_major": 2,
       "version_minor": 0
      },
      "text/plain": [
       "  0%|          | 0/492 [00:00<?, ?it/s]"
      ]
     },
     "metadata": {},
     "output_type": "display_data"
    },
    {
     "name": "stdout",
     "output_type": "stream",
     "text": [
      "Atoms(symbols='S2', pbc=True, cell=[11.718, 11.719, 11.72])\n"
     ]
    },
    {
     "data": {
      "application/vnd.jupyter.widget-view+json": {
       "model_id": "ea09c6aac7d84c339dbaddda3853b9e2",
       "version_major": 2,
       "version_minor": 0
      },
      "text/plain": [
       "  0%|          | 0/491 [00:00<?, ?it/s]"
      ]
     },
     "metadata": {},
     "output_type": "display_data"
    },
    {
     "name": "stdout",
     "output_type": "stream",
     "text": [
      "Atoms(symbols='Cl2', pbc=True, cell=[11.284, 11.285, 11.286000000000001])\n"
     ]
    },
    {
     "data": {
      "application/vnd.jupyter.widget-view+json": {
       "model_id": "5026400e316b4f9db2f641893c267440",
       "version_major": 2,
       "version_minor": 0
      },
      "text/plain": [
       "  0%|          | 0/472 [00:00<?, ?it/s]"
      ]
     },
     "metadata": {},
     "output_type": "display_data"
    },
    {
     "name": "stdout",
     "output_type": "stream",
     "text": [
      "Atoms(symbols='Ar2', pbc=True, cell=[11.346, 11.347, 11.348])\n"
     ]
    },
    {
     "data": {
      "application/vnd.jupyter.widget-view+json": {
       "model_id": "017a69b355da4410ae25801d630ac39b",
       "version_major": 2,
       "version_minor": 0
      },
      "text/plain": [
       "  0%|          | 0/471 [00:00<?, ?it/s]"
      ]
     },
     "metadata": {},
     "output_type": "display_data"
    },
    {
     "name": "stdout",
     "output_type": "stream",
     "text": [
      "Atoms(symbols='K2', pbc=True, cell=[16.926000000000002, 16.927000000000003, 16.928])\n"
     ]
    },
    {
     "data": {
      "application/vnd.jupyter.widget-view+json": {
       "model_id": "0d1e6e0bb1274281a3c4923583d5ef26",
       "version_major": 2,
       "version_minor": 0
      },
      "text/plain": [
       "  0%|          | 0/663 [00:00<?, ?it/s]"
      ]
     },
     "metadata": {},
     "output_type": "display_data"
    },
    {
     "name": "stdout",
     "output_type": "stream",
     "text": [
      "Atoms(symbols='Ca2', pbc=True, cell=[16.244, 16.245, 16.246])\n"
     ]
    },
    {
     "data": {
      "application/vnd.jupyter.widget-view+json": {
       "model_id": "83db27472a2b4b7c90b0ec38981cf8a0",
       "version_major": 2,
       "version_minor": 0
      },
      "text/plain": [
       "  0%|          | 0/653 [00:00<?, ?it/s]"
      ]
     },
     "metadata": {},
     "output_type": "display_data"
    },
    {
     "name": "stdout",
     "output_type": "stream",
     "text": [
      "Atoms(symbols='Sc2', pbc=True, cell=[15.996, 15.997, 15.998000000000001])\n"
     ]
    },
    {
     "data": {
      "application/vnd.jupyter.widget-view+json": {
       "model_id": "282ef294f8a442068d4a29e7b7c28333",
       "version_major": 2,
       "version_minor": 0
      },
      "text/plain": [
       "  0%|          | 0/646 [00:00<?, ?it/s]"
      ]
     },
     "metadata": {},
     "output_type": "display_data"
    },
    {
     "name": "stdout",
     "output_type": "stream",
     "text": [
      "Atoms(symbols='Ti2', pbc=True, cell=[15.252, 15.253, 15.254000000000001])\n"
     ]
    },
    {
     "data": {
      "application/vnd.jupyter.widget-view+json": {
       "model_id": "3afef0afbfaa49438e4aa91c171db434",
       "version_major": 2,
       "version_minor": 0
      },
      "text/plain": [
       "  0%|          | 0/618 [00:00<?, ?it/s]"
      ]
     },
     "metadata": {},
     "output_type": "display_data"
    },
    {
     "name": "stdout",
     "output_type": "stream",
     "text": [
      "Atoms(symbols='V2', pbc=True, cell=[15.004, 15.004999999999999, 15.006])\n"
     ]
    },
    {
     "data": {
      "application/vnd.jupyter.widget-view+json": {
       "model_id": "aaecbf8fa3a04c8098655912e69a6b8d",
       "version_major": 2,
       "version_minor": 0
      },
      "text/plain": [
       "  0%|          | 0/612 [00:00<?, ?it/s]"
      ]
     },
     "metadata": {},
     "output_type": "display_data"
    },
    {
     "name": "stdout",
     "output_type": "stream",
     "text": [
      "Atoms(symbols='Cr2', pbc=True, cell=[15.190000000000001, 15.191, 15.192000000000002])\n"
     ]
    },
    {
     "data": {
      "application/vnd.jupyter.widget-view+json": {
       "model_id": "e70fa07b40274cd78d97888cf325187e",
       "version_major": 2,
       "version_minor": 0
      },
      "text/plain": [
       "  0%|          | 0/634 [00:00<?, ?it/s]"
      ]
     },
     "metadata": {},
     "output_type": "display_data"
    },
    {
     "name": "stdout",
     "output_type": "stream",
     "text": [
      "Atoms(symbols='Mn2', pbc=True, cell=[15.190000000000001, 15.191, 15.192000000000002])\n"
     ]
    },
    {
     "data": {
      "application/vnd.jupyter.widget-view+json": {
       "model_id": "c31f32587a7b4785a5ae8fc57a67a6a8",
       "version_major": 2,
       "version_minor": 0
      },
      "text/plain": [
       "  0%|          | 0/634 [00:00<?, ?it/s]"
      ]
     },
     "metadata": {},
     "output_type": "display_data"
    },
    {
     "name": "stdout",
     "output_type": "stream",
     "text": [
      "Atoms(symbols='Fe2', pbc=True, cell=[15.128, 15.129, 15.13])\n"
     ]
    },
    {
     "data": {
      "application/vnd.jupyter.widget-view+json": {
       "model_id": "56bd67b330db46d1b2c2a061a91382f4",
       "version_major": 2,
       "version_minor": 0
      },
      "text/plain": [
       "  0%|          | 0/637 [00:00<?, ?it/s]"
      ]
     },
     "metadata": {},
     "output_type": "display_data"
    },
    {
     "name": "stdout",
     "output_type": "stream",
     "text": [
      "Atoms(symbols='Co2', pbc=True, cell=[14.879999999999999, 14.880999999999998, 14.882])\n"
     ]
    },
    {
     "data": {
      "application/vnd.jupyter.widget-view+json": {
       "model_id": "255f15d5e8e54211b9df002198d5edd2",
       "version_major": 2,
       "version_minor": 0
      },
      "text/plain": [
       "  0%|          | 0/630 [00:00<?, ?it/s]"
      ]
     },
     "metadata": {},
     "output_type": "display_data"
    },
    {
     "name": "stdout",
     "output_type": "stream",
     "text": [
      "Atoms(symbols='Ni2', pbc=True, cell=[14.879999999999999, 14.880999999999998, 14.882])\n"
     ]
    },
    {
     "data": {
      "application/vnd.jupyter.widget-view+json": {
       "model_id": "7506a894ef4e4837b1be7361c35171d9",
       "version_major": 2,
       "version_minor": 0
      },
      "text/plain": [
       "  0%|          | 0/632 [00:00<?, ?it/s]"
      ]
     },
     "metadata": {},
     "output_type": "display_data"
    },
    {
     "name": "stdout",
     "output_type": "stream",
     "text": [
      "Atoms(symbols='Cu2', pbc=True, cell=[14.756, 14.757, 14.758000000000001])\n"
     ]
    },
    {
     "data": {
      "application/vnd.jupyter.widget-view+json": {
       "model_id": "9dd100e193014415a7246477fb6510fd",
       "version_major": 2,
       "version_minor": 0
      },
      "text/plain": [
       "  0%|          | 0/618 [00:00<?, ?it/s]"
      ]
     },
     "metadata": {},
     "output_type": "display_data"
    },
    {
     "name": "stdout",
     "output_type": "stream",
     "text": [
      "Atoms(symbols='Zn2', pbc=True, cell=[14.818000000000001, 14.819, 14.820000000000002])\n"
     ]
    },
    {
     "data": {
      "application/vnd.jupyter.widget-view+json": {
       "model_id": "62fb70fb1d1d40d080778d91f4e72586",
       "version_major": 2,
       "version_minor": 0
      },
      "text/plain": [
       "  0%|          | 0/631 [00:00<?, ?it/s]"
      ]
     },
     "metadata": {},
     "output_type": "display_data"
    },
    {
     "name": "stdout",
     "output_type": "stream",
     "text": [
      "Atoms(symbols='Ga2', pbc=True, cell=[14.383999999999999, 14.384999999999998, 14.386])\n"
     ]
    },
    {
     "data": {
      "application/vnd.jupyter.widget-view+json": {
       "model_id": "904220ce9932428fa052402e69ffdcad",
       "version_major": 2,
       "version_minor": 0
      },
      "text/plain": [
       "  0%|          | 0/609 [00:00<?, ?it/s]"
      ]
     },
     "metadata": {},
     "output_type": "display_data"
    },
    {
     "name": "stdout",
     "output_type": "stream",
     "text": [
      "Atoms(symbols='Ge2', pbc=True, cell=[14.198, 14.199, 14.200000000000001])\n"
     ]
    },
    {
     "data": {
      "application/vnd.jupyter.widget-view+json": {
       "model_id": "ff0fe051c4044ace8fbeb5d2e94db0c6",
       "version_major": 2,
       "version_minor": 0
      },
      "text/plain": [
       "  0%|          | 0/601 [00:00<?, ?it/s]"
      ]
     },
     "metadata": {},
     "output_type": "display_data"
    },
    {
     "name": "stdout",
     "output_type": "stream",
     "text": [
      "Atoms(symbols='As2', pbc=True, cell=[11.655999999999999, 11.656999999999998, 11.658])\n"
     ]
    },
    {
     "data": {
      "application/vnd.jupyter.widget-view+json": {
       "model_id": "bda6526e6fa04bad9b69112c7b73ada7",
       "version_major": 2,
       "version_minor": 0
      },
      "text/plain": [
       "  0%|          | 0/475 [00:00<?, ?it/s]"
      ]
     },
     "metadata": {},
     "output_type": "display_data"
    },
    {
     "name": "stdout",
     "output_type": "stream",
     "text": [
      "Atoms(symbols='Se2', pbc=True, cell=[11.284, 11.285, 11.286000000000001])\n"
     ]
    },
    {
     "data": {
      "application/vnd.jupyter.widget-view+json": {
       "model_id": "8e77fbc41d244195b742bffa2670e945",
       "version_major": 2,
       "version_minor": 0
      },
      "text/plain": [
       "  0%|          | 0/456 [00:00<?, ?it/s]"
      ]
     },
     "metadata": {},
     "output_type": "display_data"
    },
    {
     "name": "stdout",
     "output_type": "stream",
     "text": [
      "Atoms(symbols='Br2', pbc=True, cell=[11.532000000000002, 11.533000000000001, 11.534000000000002])\n"
     ]
    },
    {
     "data": {
      "application/vnd.jupyter.widget-view+json": {
       "model_id": "8789d10a86d843b79ba4523da889f04b",
       "version_major": 2,
       "version_minor": 0
      },
      "text/plain": [
       "  0%|          | 0/468 [00:00<?, ?it/s]"
      ]
     },
     "metadata": {},
     "output_type": "display_data"
    },
    {
     "name": "stdout",
     "output_type": "stream",
     "text": [
      "Atoms(symbols='Kr2', pbc=True, cell=[13.950000000000001, 13.951, 13.952000000000002])\n"
     ]
    },
    {
     "data": {
      "application/vnd.jupyter.widget-view+json": {
       "model_id": "a0de3c3adc534efd94770361755963a6",
       "version_major": 2,
       "version_minor": 0
      },
      "text/plain": [
       "  0%|          | 0/593 [00:00<?, ?it/s]"
      ]
     },
     "metadata": {},
     "output_type": "display_data"
    },
    {
     "name": "stdout",
     "output_type": "stream",
     "text": [
      "Atoms(symbols='Rb2', pbc=True, cell=[19.902, 19.903000000000002, 19.904])\n"
     ]
    },
    {
     "data": {
      "application/vnd.jupyter.widget-view+json": {
       "model_id": "fd8192ac694d4b3a99ca48302393790e",
       "version_major": 2,
       "version_minor": 0
      },
      "text/plain": [
       "  0%|          | 0/797 [00:00<?, ?it/s]"
      ]
     },
     "metadata": {},
     "output_type": "display_data"
    },
    {
     "name": "stdout",
     "output_type": "stream",
     "text": [
      "Atoms(symbols='Sr2', pbc=True, cell=[17.608, 17.609, 17.61])\n"
     ]
    },
    {
     "data": {
      "application/vnd.jupyter.widget-view+json": {
       "model_id": "3e9cbac78b434f2196bb066f61bba487",
       "version_major": 2,
       "version_minor": 0
      },
      "text/plain": [
       "  0%|          | 0/704 [00:00<?, ?it/s]"
      ]
     },
     "metadata": {},
     "output_type": "display_data"
    },
    {
     "name": "stdout",
     "output_type": "stream",
     "text": [
      "Atoms(symbols='Y2', pbc=True, cell=[17.05, 17.051000000000002, 17.052])\n"
     ]
    },
    {
     "data": {
      "application/vnd.jupyter.widget-view+json": {
       "model_id": "17e1466cb09e422fb146edd954eb4db9",
       "version_major": 2,
       "version_minor": 0
      },
      "text/plain": [
       "  0%|          | 0/681 [00:00<?, ?it/s]"
      ]
     },
     "metadata": {},
     "output_type": "display_data"
    },
    {
     "name": "stdout",
     "output_type": "stream",
     "text": [
      "Atoms(symbols='Nb2', pbc=True, cell=[15.872000000000002, 15.873000000000001, 15.874000000000002])\n"
     ]
    },
    {
     "data": {
      "application/vnd.jupyter.widget-view+json": {
       "model_id": "58c04052ec954aba8d271d544daa8fbb",
       "version_major": 2,
       "version_minor": 0
      },
      "text/plain": [
       "  0%|          | 0/646 [00:00<?, ?it/s]"
      ]
     },
     "metadata": {},
     "output_type": "display_data"
    },
    {
     "name": "stdout",
     "output_type": "stream",
     "text": [
      "Atoms(symbols='Mo2', pbc=True, cell=[15.190000000000001, 15.191, 15.192000000000002])\n"
     ]
    },
    {
     "data": {
      "application/vnd.jupyter.widget-view+json": {
       "model_id": "c275743709304330bc3205c17184ca0f",
       "version_major": 2,
       "version_minor": 0
      },
      "text/plain": [
       "  0%|          | 0/620 [00:00<?, ?it/s]"
      ]
     },
     "metadata": {},
     "output_type": "display_data"
    },
    {
     "name": "stderr",
     "output_type": "stream",
     "text": [
      "IOPub message rate exceeded.\n",
      "The Jupyter server will temporarily stop sending output\n",
      "to the client in order to avoid crashing it.\n",
      "To change this limit, set the config variable\n",
      "`--ServerApp.iopub_msg_rate_limit`.\n",
      "\n",
      "Current values:\n",
      "ServerApp.iopub_msg_rate_limit=1000.0 (msgs/sec)\n",
      "ServerApp.rate_limit_window=3.0 (secs)\n",
      "\n"
     ]
    },
    {
     "name": "stdout",
     "output_type": "stream",
     "text": [
      "Atoms(symbols='Cd2', pbc=True, cell=[15.438000000000002, 15.439000000000002, 15.440000000000003])\n"
     ]
    },
    {
     "data": {
      "application/vnd.jupyter.widget-view+json": {
       "model_id": "3d2c83f5b55c453db1a23a3d99bb3344",
       "version_major": 2,
       "version_minor": 0
      },
      "text/plain": [
       "  0%|          | 0/642 [00:00<?, ?it/s]"
      ]
     },
     "metadata": {},
     "output_type": "display_data"
    },
    {
     "name": "stdout",
     "output_type": "stream",
     "text": [
      "Atoms(symbols='In2', pbc=True, cell=[15.066, 15.067, 15.068000000000001])\n"
     ]
    },
    {
     "data": {
      "application/vnd.jupyter.widget-view+json": {
       "model_id": "3fad57be74d84a4bb10810043f9199a4",
       "version_major": 2,
       "version_minor": 0
      },
      "text/plain": [
       "  0%|          | 0/625 [00:00<?, ?it/s]"
      ]
     },
     "metadata": {},
     "output_type": "display_data"
    },
    {
     "name": "stdout",
     "output_type": "stream",
     "text": [
      "Atoms(symbols='Sn2', pbc=True, cell=[15.004, 15.004999999999999, 15.006])\n"
     ]
    },
    {
     "data": {
      "application/vnd.jupyter.widget-view+json": {
       "model_id": "a07721be340f4731a315ce7741391683",
       "version_major": 2,
       "version_minor": 0
      },
      "text/plain": [
       "  0%|          | 0/625 [00:00<?, ?it/s]"
      ]
     },
     "metadata": {},
     "output_type": "display_data"
    },
    {
     "name": "stdout",
     "output_type": "stream",
     "text": [
      "Atoms(symbols='Sb2', pbc=True, cell=[15.314000000000002, 15.315000000000001, 15.316000000000003])\n"
     ]
    },
    {
     "data": {
      "application/vnd.jupyter.widget-view+json": {
       "model_id": "4d72e3d97a07494eb35b3b2e1ddfd1ec",
       "version_major": 2,
       "version_minor": 0
      },
      "text/plain": [
       "  0%|          | 0/640 [00:00<?, ?it/s]"
      ]
     },
     "metadata": {},
     "output_type": "display_data"
    },
    {
     "name": "stdout",
     "output_type": "stream",
     "text": [
      "Atoms(symbols='Te2', pbc=True, cell=[12.338000000000001, 12.339, 12.340000000000002])\n"
     ]
    },
    {
     "data": {
      "application/vnd.jupyter.widget-view+json": {
       "model_id": "6133cef6ebcb4f1d8eb0cf4b4b1c6741",
       "version_major": 2,
       "version_minor": 0
      },
      "text/plain": [
       "  0%|          | 0/492 [00:00<?, ?it/s]"
      ]
     },
     "metadata": {},
     "output_type": "display_data"
    },
    {
     "name": "stdout",
     "output_type": "stream",
     "text": [
      "Atoms(symbols='I2', pbc=True, cell=[12.648000000000001, 12.649000000000001, 12.650000000000002])\n"
     ]
    },
    {
     "data": {
      "application/vnd.jupyter.widget-view+json": {
       "model_id": "3bd8abaf4d7a420ba8803fbb192a2e1a",
       "version_major": 2,
       "version_minor": 0
      },
      "text/plain": [
       "  0%|          | 0/507 [00:00<?, ?it/s]"
      ]
     },
     "metadata": {},
     "output_type": "display_data"
    },
    {
     "name": "stdout",
     "output_type": "stream",
     "text": [
      "Atoms(symbols='Xe2', pbc=True, cell=[12.772, 12.773, 12.774000000000001])\n"
     ]
    },
    {
     "data": {
      "application/vnd.jupyter.widget-view+json": {
       "model_id": "db6b9d25f3c6447bb616b456f860eafb",
       "version_major": 2,
       "version_minor": 0
      },
      "text/plain": [
       "  0%|          | 0/512 [00:00<?, ?it/s]"
      ]
     },
     "metadata": {},
     "output_type": "display_data"
    },
    {
     "name": "stdout",
     "output_type": "stream",
     "text": [
      "Atoms(symbols='Cs2', pbc=True, cell=[21.576, 21.577, 21.578])\n"
     ]
    },
    {
     "data": {
      "application/vnd.jupyter.widget-view+json": {
       "model_id": "1ea6aa7e55a24d03a56c4baef169c2c5",
       "version_major": 2,
       "version_minor": 0
      },
      "text/plain": [
       "  0%|          | 0/859 [00:00<?, ?it/s]"
      ]
     },
     "metadata": {},
     "output_type": "display_data"
    },
    {
     "name": "stdout",
     "output_type": "stream",
     "text": [
      "Atoms(symbols='Ba2', pbc=True, cell=[18.785999999999998, 18.787, 18.787999999999997])\n"
     ]
    },
    {
     "data": {
      "application/vnd.jupyter.widget-view+json": {
       "model_id": "ef6bd3aac5c841b484873ec94326b59f",
       "version_major": 2,
       "version_minor": 0
      },
      "text/plain": [
       "  0%|          | 0/745 [00:00<?, ?it/s]"
      ]
     },
     "metadata": {},
     "output_type": "display_data"
    },
    {
     "name": "stdout",
     "output_type": "stream",
     "text": [
      "Atoms(symbols='La2', pbc=True, cell=[18.476, 18.477, 18.477999999999998])\n"
     ]
    },
    {
     "data": {
      "application/vnd.jupyter.widget-view+json": {
       "model_id": "603378b57ec640cdba20b9400027d995",
       "version_major": 2,
       "version_minor": 0
      },
      "text/plain": [
       "  0%|          | 0/737 [00:00<?, ?it/s]"
      ]
     },
     "metadata": {},
     "output_type": "display_data"
    },
    {
     "name": "stdout",
     "output_type": "stream",
     "text": [
      "Atoms(symbols='Ce2', pbc=True, cell=[17.855999999999998, 17.857, 17.857999999999997])\n"
     ]
    },
    {
     "data": {
      "application/vnd.jupyter.widget-view+json": {
       "model_id": "c3286c2110794defb8e5e8eb60a860c6",
       "version_major": 2,
       "version_minor": 0
      },
      "text/plain": [
       "  0%|          | 0/709 [00:00<?, ?it/s]"
      ]
     },
     "metadata": {},
     "output_type": "display_data"
    },
    {
     "name": "stdout",
     "output_type": "stream",
     "text": [
      "Atoms(symbols='Pr2', pbc=True, cell=[18.104, 18.105, 18.105999999999998])\n"
     ]
    },
    {
     "data": {
      "application/vnd.jupyter.widget-view+json": {
       "model_id": "7b4dc48b02af425b99d44b6d5dcc663a",
       "version_major": 2,
       "version_minor": 0
      },
      "text/plain": [
       "  0%|          | 0/722 [00:00<?, ?it/s]"
      ]
     },
     "metadata": {},
     "output_type": "display_data"
    },
    {
     "name": "stdout",
     "output_type": "stream",
     "text": [
      "Atoms(symbols='Nd2', pbc=True, cell=[18.290000000000003, 18.291000000000004, 18.292])\n"
     ]
    },
    {
     "data": {
      "application/vnd.jupyter.widget-view+json": {
       "model_id": "e24310aa6f854226a4d49044b328855c",
       "version_major": 2,
       "version_minor": 0
      },
      "text/plain": [
       "  0%|          | 0/733 [00:00<?, ?it/s]"
      ]
     },
     "metadata": {},
     "output_type": "display_data"
    },
    {
     "name": "stdout",
     "output_type": "stream",
     "text": [
      "Atoms(symbols='Pm2', pbc=True, cell=[12.0, 12.001, 12.002])\n"
     ]
    },
    {
     "data": {
      "application/vnd.jupyter.widget-view+json": {
       "model_id": "1c296999dc304301afa71043656e6aa5",
       "version_major": 2,
       "version_minor": 0
      },
      "text/plain": [
       "  0%|          | 0/420 [00:00<?, ?it/s]"
      ]
     },
     "metadata": {},
     "output_type": "display_data"
    },
    {
     "name": "stdout",
     "output_type": "stream",
     "text": [
      "Atoms(symbols='Sm2', pbc=True, cell=[17.98, 17.981, 17.982])\n"
     ]
    },
    {
     "data": {
      "application/vnd.jupyter.widget-view+json": {
       "model_id": "578da66d66f347ce9965d01fb97d1dfe",
       "version_major": 2,
       "version_minor": 0
      },
      "text/plain": [
       "  0%|          | 0/720 [00:00<?, ?it/s]"
      ]
     },
     "metadata": {},
     "output_type": "display_data"
    },
    {
     "name": "stdout",
     "output_type": "stream",
     "text": [
      "Atoms(symbols='Eu2', pbc=True, cell=[17.794, 17.795, 17.796])\n"
     ]
    },
    {
     "data": {
      "application/vnd.jupyter.widget-view+json": {
       "model_id": "e79a78a61d0f4197a5407034ca7bbe7c",
       "version_major": 2,
       "version_minor": 0
      },
      "text/plain": [
       "  0%|          | 0/711 [00:00<?, ?it/s]"
      ]
     },
     "metadata": {},
     "output_type": "display_data"
    },
    {
     "name": "stdout",
     "output_type": "stream",
     "text": [
      "Atoms(symbols='Gd2', pbc=True, cell=[17.546, 17.547, 17.548])\n"
     ]
    },
    {
     "data": {
      "application/vnd.jupyter.widget-view+json": {
       "model_id": "a69ead578b04443aa57b3469ab1a607a",
       "version_major": 2,
       "version_minor": 0
      },
      "text/plain": [
       "  0%|          | 0/700 [00:00<?, ?it/s]"
      ]
     },
     "metadata": {},
     "output_type": "display_data"
    },
    {
     "name": "stdout",
     "output_type": "stream",
     "text": [
      "Atoms(symbols='Tb2', pbc=True, cell=[17.298000000000002, 17.299000000000003, 17.3])\n"
     ]
    },
    {
     "data": {
      "application/vnd.jupyter.widget-view+json": {
       "model_id": "aa6237744d0b45e392a580572436f57f",
       "version_major": 2,
       "version_minor": 0
      },
      "text/plain": [
       "  0%|          | 0/690 [00:00<?, ?it/s]"
      ]
     },
     "metadata": {},
     "output_type": "display_data"
    },
    {
     "name": "stdout",
     "output_type": "stream",
     "text": [
      "Atoms(symbols='Dy2', pbc=True, cell=[17.794, 17.795, 17.796])\n"
     ]
    },
    {
     "data": {
      "application/vnd.jupyter.widget-view+json": {
       "model_id": "34c71c7acb4e45a9932124173ee455e3",
       "version_major": 2,
       "version_minor": 0
      },
      "text/plain": [
       "  0%|          | 0/716 [00:00<?, ?it/s]"
      ]
     },
     "metadata": {},
     "output_type": "display_data"
    },
    {
     "name": "stdout",
     "output_type": "stream",
     "text": [
      "Atoms(symbols='Ho2', pbc=True, cell=[17.422, 17.423000000000002, 17.424])\n"
     ]
    },
    {
     "data": {
      "application/vnd.jupyter.widget-view+json": {
       "model_id": "172541ffaf77413eaaf308501eed8f79",
       "version_major": 2,
       "version_minor": 0
      },
      "text/plain": [
       "  0%|          | 0/698 [00:00<?, ?it/s]"
      ]
     },
     "metadata": {},
     "output_type": "display_data"
    },
    {
     "name": "stdout",
     "output_type": "stream",
     "text": [
      "Atoms(symbols='Er2', pbc=True, cell=[17.546, 17.547, 17.548])\n"
     ]
    },
    {
     "data": {
      "application/vnd.jupyter.widget-view+json": {
       "model_id": "6b5629e3b5e346d9b69a7017ddaa0be6",
       "version_major": 2,
       "version_minor": 0
      },
      "text/plain": [
       "  0%|          | 0/707 [00:00<?, ?it/s]"
      ]
     },
     "metadata": {},
     "output_type": "display_data"
    },
    {
     "name": "stdout",
     "output_type": "stream",
     "text": [
      "Atoms(symbols='Tm2', pbc=True, cell=[17.298000000000002, 17.299000000000003, 17.3])\n"
     ]
    },
    {
     "data": {
      "application/vnd.jupyter.widget-view+json": {
       "model_id": "48ba2827991c4f319c8b136d179ba09e",
       "version_major": 2,
       "version_minor": 0
      },
      "text/plain": [
       "  0%|          | 0/693 [00:00<?, ?it/s]"
      ]
     },
     "metadata": {},
     "output_type": "display_data"
    },
    {
     "name": "stdout",
     "output_type": "stream",
     "text": [
      "Atoms(symbols='Ir2', pbc=True, cell=[14.942000000000002, 14.943000000000001, 14.944000000000003])\n"
     ]
    },
    {
     "data": {
      "application/vnd.jupyter.widget-view+json": {
       "model_id": "3994e6dbc7eb42f4a4f0dabfe9bdadc4",
       "version_major": 2,
       "version_minor": 0
      },
      "text/plain": [
       "  0%|          | 0/620 [00:00<?, ?it/s]"
      ]
     },
     "metadata": {},
     "output_type": "display_data"
    },
    {
     "name": "stdout",
     "output_type": "stream",
     "text": [
      "Atoms(symbols='Pt2', pbc=True, cell=[14.198, 14.199, 14.200000000000001])\n"
     ]
    },
    {
     "data": {
      "application/vnd.jupyter.widget-view+json": {
       "model_id": "091858598a094986a0e2cafeb05d4673",
       "version_major": 2,
       "version_minor": 0
      },
      "text/plain": [
       "  0%|          | 0/587 [00:00<?, ?it/s]"
      ]
     },
     "metadata": {},
     "output_type": "display_data"
    },
    {
     "name": "stdout",
     "output_type": "stream",
     "text": [
      "Atoms(symbols='Au2', pbc=True, cell=[14.383999999999999, 14.384999999999998, 14.386])\n"
     ]
    },
    {
     "data": {
      "application/vnd.jupyter.widget-view+json": {
       "model_id": "323e98ca8a914960b2e9eba184195bd1",
       "version_major": 2,
       "version_minor": 0
      },
      "text/plain": [
       "  0%|          | 0/596 [00:00<?, ?it/s]"
      ]
     },
     "metadata": {},
     "output_type": "display_data"
    },
    {
     "name": "stdout",
     "output_type": "stream",
     "text": [
      "Atoms(symbols='Hg2', pbc=True, cell=[15.190000000000001, 15.191, 15.192000000000002])\n"
     ]
    },
    {
     "data": {
      "application/vnd.jupyter.widget-view+json": {
       "model_id": "31170ef335cc47dbb5e69f7f3d8252a6",
       "version_major": 2,
       "version_minor": 0
      },
      "text/plain": [
       "  0%|          | 0/640 [00:00<?, ?it/s]"
      ]
     },
     "metadata": {},
     "output_type": "display_data"
    },
    {
     "name": "stdout",
     "output_type": "stream",
     "text": [
      "Atoms(symbols='Tl2', pbc=True, cell=[15.314000000000002, 15.315000000000001, 15.316000000000003])\n"
     ]
    },
    {
     "data": {
      "application/vnd.jupyter.widget-view+json": {
       "model_id": "aada92001d55469888f69c338b8fdebf",
       "version_major": 2,
       "version_minor": 0
      },
      "text/plain": [
       "  0%|          | 0/635 [00:00<?, ?it/s]"
      ]
     },
     "metadata": {},
     "output_type": "display_data"
    },
    {
     "name": "stdout",
     "output_type": "stream",
     "text": [
      "Atoms(symbols='Pb2', pbc=True, cell=[16.12, 16.121000000000002, 16.122])\n"
     ]
    },
    {
     "data": {
      "application/vnd.jupyter.widget-view+json": {
       "model_id": "5dfd7154ebb2475a81c1eda1123aa0bf",
       "version_major": 2,
       "version_minor": 0
      },
      "text/plain": [
       "  0%|          | 0/674 [00:00<?, ?it/s]"
      ]
     },
     "metadata": {},
     "output_type": "display_data"
    },
    {
     "name": "stdout",
     "output_type": "stream",
     "text": [
      "Atoms(symbols='Bi2', pbc=True, cell=[15.748000000000001, 15.749, 15.750000000000002])\n"
     ]
    },
    {
     "data": {
      "application/vnd.jupyter.widget-view+json": {
       "model_id": "6f68da33e0c94d7abd0422ef273b887e",
       "version_major": 2,
       "version_minor": 0
      },
      "text/plain": [
       "  0%|          | 0/654 [00:00<?, ?it/s]"
      ]
     },
     "metadata": {},
     "output_type": "display_data"
    },
    {
     "name": "stdout",
     "output_type": "stream",
     "text": [
      "Atoms(symbols='Po2', pbc=True, cell=[12.0, 12.001, 12.002])\n"
     ]
    },
    {
     "data": {
      "application/vnd.jupyter.widget-view+json": {
       "model_id": "db62430a8102448f8c57ea9a7569a1b6",
       "version_major": 2,
       "version_minor": 0
      },
      "text/plain": [
       "  0%|          | 0/474 [00:00<?, ?it/s]"
      ]
     },
     "metadata": {},
     "output_type": "display_data"
    },
    {
     "name": "stdout",
     "output_type": "stream",
     "text": [
      "Atoms(symbols='At2', pbc=True, cell=[12.0, 12.001, 12.002])\n"
     ]
    },
    {
     "data": {
      "application/vnd.jupyter.widget-view+json": {
       "model_id": "c14064f161c341dfba1a6cc23d808599",
       "version_major": 2,
       "version_minor": 0
      },
      "text/plain": [
       "  0%|          | 0/465 [00:00<?, ?it/s]"
      ]
     },
     "metadata": {},
     "output_type": "display_data"
    },
    {
     "name": "stdout",
     "output_type": "stream",
     "text": [
      "Atoms(symbols='Rn2', pbc=True, cell=[12.0, 12.001, 12.002])\n"
     ]
    },
    {
     "data": {
      "application/vnd.jupyter.widget-view+json": {
       "model_id": "12291aa152424ab484a6721a8838347e",
       "version_major": 2,
       "version_minor": 0
      },
      "text/plain": [
       "  0%|          | 0/465 [00:00<?, ?it/s]"
      ]
     },
     "metadata": {},
     "output_type": "display_data"
    },
    {
     "name": "stdout",
     "output_type": "stream",
     "text": [
      "Atoms(symbols='Fr2', pbc=True, cell=[12.0, 12.001, 12.002])\n"
     ]
    },
    {
     "data": {
      "application/vnd.jupyter.widget-view+json": {
       "model_id": "0bd07aec4e874124b532e28efe4eaf5f",
       "version_major": 2,
       "version_minor": 0
      },
      "text/plain": [
       "  0%|          | 0/365 [00:00<?, ?it/s]"
      ]
     },
     "metadata": {},
     "output_type": "display_data"
    },
    {
     "name": "stdout",
     "output_type": "stream",
     "text": [
      "Atoms(symbols='Ra2', pbc=True, cell=[12.0, 12.001, 12.002])\n"
     ]
    },
    {
     "data": {
      "application/vnd.jupyter.widget-view+json": {
       "model_id": "8cec7d0d1bb44240b02cdd72d384371e",
       "version_major": 2,
       "version_minor": 0
      },
      "text/plain": [
       "  0%|          | 0/401 [00:00<?, ?it/s]"
      ]
     },
     "metadata": {},
     "output_type": "display_data"
    },
    {
     "name": "stdout",
     "output_type": "stream",
     "text": [
      "Atoms(symbols='Ac2', pbc=True, cell=[17.36, 17.361, 17.362])\n"
     ]
    },
    {
     "data": {
      "application/vnd.jupyter.widget-view+json": {
       "model_id": "38eefae6e06e4338ae75ff5093b20655",
       "version_major": 2,
       "version_minor": 0
      },
      "text/plain": [
       "  0%|          | 0/674 [00:00<?, ?it/s]"
      ]
     },
     "metadata": {},
     "output_type": "display_data"
    },
    {
     "name": "stdout",
     "output_type": "stream",
     "text": [
      "Atoms(symbols='Th2', pbc=True, cell=[18.166, 18.167, 18.168])\n"
     ]
    },
    {
     "data": {
      "application/vnd.jupyter.widget-view+json": {
       "model_id": "71290e296bf449e6bd2e532b12722cef",
       "version_major": 2,
       "version_minor": 0
      },
      "text/plain": [
       "  0%|          | 0/722 [00:00<?, ?it/s]"
      ]
     },
     "metadata": {},
     "output_type": "display_data"
    },
    {
     "name": "stderr",
     "output_type": "stream",
     "text": [
      "../aten/src/ATen/native/cuda/Indexing.cu:1237: indexSelectSmallIndex: block: [0,0,0], thread: [96,0,0] Assertion `srcIndex < srcSelectDimSize` failed.\n",
      "../aten/src/ATen/native/cuda/Indexing.cu:1237: indexSelectSmallIndex: block: [0,0,0], thread: [97,0,0] Assertion `srcIndex < srcSelectDimSize` failed.\n",
      "../aten/src/ATen/native/cuda/Indexing.cu:1237: indexSelectSmallIndex: block: [0,0,0], thread: [98,0,0] Assertion `srcIndex < srcSelectDimSize` failed.\n",
      "../aten/src/ATen/native/cuda/Indexing.cu:1237: indexSelectSmallIndex: block: [0,0,0], thread: [99,0,0] Assertion `srcIndex < srcSelectDimSize` failed.\n",
      "../aten/src/ATen/native/cuda/Indexing.cu:1237: indexSelectSmallIndex: block: [0,0,0], thread: [100,0,0] Assertion `srcIndex < srcSelectDimSize` failed.\n",
      "../aten/src/ATen/native/cuda/Indexing.cu:1237: indexSelectSmallIndex: block: [0,0,0], thread: [101,0,0] Assertion `srcIndex < srcSelectDimSize` failed.\n",
      "../aten/src/ATen/native/cuda/Indexing.cu:1237: indexSelectSmallIndex: block: [0,0,0], thread: [102,0,0] Assertion `srcIndex < srcSelectDimSize` failed.\n",
      "../aten/src/ATen/native/cuda/Indexing.cu:1237: indexSelectSmallIndex: block: [0,0,0], thread: [103,0,0] Assertion `srcIndex < srcSelectDimSize` failed.\n",
      "../aten/src/ATen/native/cuda/Indexing.cu:1237: indexSelectSmallIndex: block: [0,0,0], thread: [104,0,0] Assertion `srcIndex < srcSelectDimSize` failed.\n",
      "../aten/src/ATen/native/cuda/Indexing.cu:1237: indexSelectSmallIndex: block: [0,0,0], thread: [105,0,0] Assertion `srcIndex < srcSelectDimSize` failed.\n",
      "../aten/src/ATen/native/cuda/Indexing.cu:1237: indexSelectSmallIndex: block: [0,0,0], thread: [106,0,0] Assertion `srcIndex < srcSelectDimSize` failed.\n",
      "../aten/src/ATen/native/cuda/Indexing.cu:1237: indexSelectSmallIndex: block: [0,0,0], thread: [107,0,0] Assertion `srcIndex < srcSelectDimSize` failed.\n",
      "../aten/src/ATen/native/cuda/Indexing.cu:1237: indexSelectSmallIndex: block: [0,0,0], thread: [108,0,0] Assertion `srcIndex < srcSelectDimSize` failed.\n",
      "../aten/src/ATen/native/cuda/Indexing.cu:1237: indexSelectSmallIndex: block: [0,0,0], thread: [109,0,0] Assertion `srcIndex < srcSelectDimSize` failed.\n",
      "../aten/src/ATen/native/cuda/Indexing.cu:1237: indexSelectSmallIndex: block: [0,0,0], thread: [110,0,0] Assertion `srcIndex < srcSelectDimSize` failed.\n",
      "../aten/src/ATen/native/cuda/Indexing.cu:1237: indexSelectSmallIndex: block: [0,0,0], thread: [111,0,0] Assertion `srcIndex < srcSelectDimSize` failed.\n",
      "../aten/src/ATen/native/cuda/Indexing.cu:1237: indexSelectSmallIndex: block: [0,0,0], thread: [112,0,0] Assertion `srcIndex < srcSelectDimSize` failed.\n",
      "../aten/src/ATen/native/cuda/Indexing.cu:1237: indexSelectSmallIndex: block: [0,0,0], thread: [113,0,0] Assertion `srcIndex < srcSelectDimSize` failed.\n",
      "../aten/src/ATen/native/cuda/Indexing.cu:1237: indexSelectSmallIndex: block: [0,0,0], thread: [114,0,0] Assertion `srcIndex < srcSelectDimSize` failed.\n",
      "../aten/src/ATen/native/cuda/Indexing.cu:1237: indexSelectSmallIndex: block: [0,0,0], thread: [115,0,0] Assertion `srcIndex < srcSelectDimSize` failed.\n",
      "../aten/src/ATen/native/cuda/Indexing.cu:1237: indexSelectSmallIndex: block: [0,0,0], thread: [116,0,0] Assertion `srcIndex < srcSelectDimSize` failed.\n",
      "../aten/src/ATen/native/cuda/Indexing.cu:1237: indexSelectSmallIndex: block: [0,0,0], thread: [117,0,0] Assertion `srcIndex < srcSelectDimSize` failed.\n",
      "../aten/src/ATen/native/cuda/Indexing.cu:1237: indexSelectSmallIndex: block: [0,0,0], thread: [118,0,0] Assertion `srcIndex < srcSelectDimSize` failed.\n",
      "../aten/src/ATen/native/cuda/Indexing.cu:1237: indexSelectSmallIndex: block: [0,0,0], thread: [119,0,0] Assertion `srcIndex < srcSelectDimSize` failed.\n",
      "../aten/src/ATen/native/cuda/Indexing.cu:1237: indexSelectSmallIndex: block: [0,0,0], thread: [120,0,0] Assertion `srcIndex < srcSelectDimSize` failed.\n",
      "../aten/src/ATen/native/cuda/Indexing.cu:1237: indexSelectSmallIndex: block: [0,0,0], thread: [121,0,0] Assertion `srcIndex < srcSelectDimSize` failed.\n",
      "../aten/src/ATen/native/cuda/Indexing.cu:1237: indexSelectSmallIndex: block: [0,0,0], thread: [122,0,0] Assertion `srcIndex < srcSelectDimSize` failed.\n",
      "../aten/src/ATen/native/cuda/Indexing.cu:1237: indexSelectSmallIndex: block: [0,0,0], thread: [123,0,0] Assertion `srcIndex < srcSelectDimSize` failed.\n",
      "../aten/src/ATen/native/cuda/Indexing.cu:1237: indexSelectSmallIndex: block: [0,0,0], thread: [124,0,0] Assertion `srcIndex < srcSelectDimSize` failed.\n",
      "../aten/src/ATen/native/cuda/Indexing.cu:1237: indexSelectSmallIndex: block: [0,0,0], thread: [125,0,0] Assertion `srcIndex < srcSelectDimSize` failed.\n",
      "../aten/src/ATen/native/cuda/Indexing.cu:1237: indexSelectSmallIndex: block: [0,0,0], thread: [126,0,0] Assertion `srcIndex < srcSelectDimSize` failed.\n",
      "../aten/src/ATen/native/cuda/Indexing.cu:1237: indexSelectSmallIndex: block: [0,0,0], thread: [127,0,0] Assertion `srcIndex < srcSelectDimSize` failed.\n",
      "../aten/src/ATen/native/cuda/Indexing.cu:1237: indexSelectSmallIndex: block: [0,0,0], thread: [0,0,0] Assertion `srcIndex < srcSelectDimSize` failed.\n",
      "../aten/src/ATen/native/cuda/Indexing.cu:1237: indexSelectSmallIndex: block: [0,0,0], thread: [1,0,0] Assertion `srcIndex < srcSelectDimSize` failed.\n",
      "../aten/src/ATen/native/cuda/Indexing.cu:1237: indexSelectSmallIndex: block: [0,0,0], thread: [2,0,0] Assertion `srcIndex < srcSelectDimSize` failed.\n",
      "../aten/src/ATen/native/cuda/Indexing.cu:1237: indexSelectSmallIndex: block: [0,0,0], thread: [3,0,0] Assertion `srcIndex < srcSelectDimSize` failed.\n",
      "../aten/src/ATen/native/cuda/Indexing.cu:1237: indexSelectSmallIndex: block: [0,0,0], thread: [4,0,0] Assertion `srcIndex < srcSelectDimSize` failed.\n",
      "../aten/src/ATen/native/cuda/Indexing.cu:1237: indexSelectSmallIndex: block: [0,0,0], thread: [5,0,0] Assertion `srcIndex < srcSelectDimSize` failed.\n",
      "../aten/src/ATen/native/cuda/Indexing.cu:1237: indexSelectSmallIndex: block: [0,0,0], thread: [6,0,0] Assertion `srcIndex < srcSelectDimSize` failed.\n",
      "../aten/src/ATen/native/cuda/Indexing.cu:1237: indexSelectSmallIndex: block: [0,0,0], thread: [7,0,0] Assertion `srcIndex < srcSelectDimSize` failed.\n",
      "../aten/src/ATen/native/cuda/Indexing.cu:1237: indexSelectSmallIndex: block: [0,0,0], thread: [8,0,0] Assertion `srcIndex < srcSelectDimSize` failed.\n",
      "../aten/src/ATen/native/cuda/Indexing.cu:1237: indexSelectSmallIndex: block: [0,0,0], thread: [9,0,0] Assertion `srcIndex < srcSelectDimSize` failed.\n",
      "../aten/src/ATen/native/cuda/Indexing.cu:1237: indexSelectSmallIndex: block: [0,0,0], thread: [10,0,0] Assertion `srcIndex < srcSelectDimSize` failed.\n",
      "../aten/src/ATen/native/cuda/Indexing.cu:1237: indexSelectSmallIndex: block: [0,0,0], thread: [11,0,0] Assertion `srcIndex < srcSelectDimSize` failed.\n",
      "../aten/src/ATen/native/cuda/Indexing.cu:1237: indexSelectSmallIndex: block: [0,0,0], thread: [12,0,0] Assertion `srcIndex < srcSelectDimSize` failed.\n",
      "../aten/src/ATen/native/cuda/Indexing.cu:1237: indexSelectSmallIndex: block: [0,0,0], thread: [13,0,0] Assertion `srcIndex < srcSelectDimSize` failed.\n",
      "../aten/src/ATen/native/cuda/Indexing.cu:1237: indexSelectSmallIndex: block: [0,0,0], thread: [14,0,0] Assertion `srcIndex < srcSelectDimSize` failed.\n",
      "../aten/src/ATen/native/cuda/Indexing.cu:1237: indexSelectSmallIndex: block: [0,0,0], thread: [15,0,0] Assertion `srcIndex < srcSelectDimSize` failed.\n",
      "../aten/src/ATen/native/cuda/Indexing.cu:1237: indexSelectSmallIndex: block: [0,0,0], thread: [16,0,0] Assertion `srcIndex < srcSelectDimSize` failed.\n",
      "../aten/src/ATen/native/cuda/Indexing.cu:1237: indexSelectSmallIndex: block: [0,0,0], thread: [17,0,0] Assertion `srcIndex < srcSelectDimSize` failed.\n",
      "../aten/src/ATen/native/cuda/Indexing.cu:1237: indexSelectSmallIndex: block: [0,0,0], thread: [18,0,0] Assertion `srcIndex < srcSelectDimSize` failed.\n",
      "../aten/src/ATen/native/cuda/Indexing.cu:1237: indexSelectSmallIndex: block: [0,0,0], thread: [19,0,0] Assertion `srcIndex < srcSelectDimSize` failed.\n",
      "../aten/src/ATen/native/cuda/Indexing.cu:1237: indexSelectSmallIndex: block: [0,0,0], thread: [20,0,0] Assertion `srcIndex < srcSelectDimSize` failed.\n",
      "../aten/src/ATen/native/cuda/Indexing.cu:1237: indexSelectSmallIndex: block: [0,0,0], thread: [21,0,0] Assertion `srcIndex < srcSelectDimSize` failed.\n",
      "../aten/src/ATen/native/cuda/Indexing.cu:1237: indexSelectSmallIndex: block: [0,0,0], thread: [22,0,0] Assertion `srcIndex < srcSelectDimSize` failed.\n",
      "../aten/src/ATen/native/cuda/Indexing.cu:1237: indexSelectSmallIndex: block: [0,0,0], thread: [23,0,0] Assertion `srcIndex < srcSelectDimSize` failed.\n",
      "../aten/src/ATen/native/cuda/Indexing.cu:1237: indexSelectSmallIndex: block: [0,0,0], thread: [24,0,0] Assertion `srcIndex < srcSelectDimSize` failed.\n",
      "../aten/src/ATen/native/cuda/Indexing.cu:1237: indexSelectSmallIndex: block: [0,0,0], thread: [25,0,0] Assertion `srcIndex < srcSelectDimSize` failed.\n",
      "../aten/src/ATen/native/cuda/Indexing.cu:1237: indexSelectSmallIndex: block: [0,0,0], thread: [26,0,0] Assertion `srcIndex < srcSelectDimSize` failed.\n",
      "../aten/src/ATen/native/cuda/Indexing.cu:1237: indexSelectSmallIndex: block: [0,0,0], thread: [27,0,0] Assertion `srcIndex < srcSelectDimSize` failed.\n",
      "../aten/src/ATen/native/cuda/Indexing.cu:1237: indexSelectSmallIndex: block: [0,0,0], thread: [28,0,0] Assertion `srcIndex < srcSelectDimSize` failed.\n",
      "../aten/src/ATen/native/cuda/Indexing.cu:1237: indexSelectSmallIndex: block: [0,0,0], thread: [29,0,0] Assertion `srcIndex < srcSelectDimSize` failed.\n",
      "../aten/src/ATen/native/cuda/Indexing.cu:1237: indexSelectSmallIndex: block: [0,0,0], thread: [30,0,0] Assertion `srcIndex < srcSelectDimSize` failed.\n",
      "../aten/src/ATen/native/cuda/Indexing.cu:1237: indexSelectSmallIndex: block: [0,0,0], thread: [31,0,0] Assertion `srcIndex < srcSelectDimSize` failed.\n",
      "../aten/src/ATen/native/cuda/Indexing.cu:1237: indexSelectSmallIndex: block: [0,0,0], thread: [32,0,0] Assertion `srcIndex < srcSelectDimSize` failed.\n",
      "../aten/src/ATen/native/cuda/Indexing.cu:1237: indexSelectSmallIndex: block: [0,0,0], thread: [33,0,0] Assertion `srcIndex < srcSelectDimSize` failed.\n",
      "../aten/src/ATen/native/cuda/Indexing.cu:1237: indexSelectSmallIndex: block: [0,0,0], thread: [34,0,0] Assertion `srcIndex < srcSelectDimSize` failed.\n",
      "../aten/src/ATen/native/cuda/Indexing.cu:1237: indexSelectSmallIndex: block: [0,0,0], thread: [35,0,0] Assertion `srcIndex < srcSelectDimSize` failed.\n",
      "../aten/src/ATen/native/cuda/Indexing.cu:1237: indexSelectSmallIndex: block: [0,0,0], thread: [36,0,0] Assertion `srcIndex < srcSelectDimSize` failed.\n",
      "../aten/src/ATen/native/cuda/Indexing.cu:1237: indexSelectSmallIndex: block: [0,0,0], thread: [37,0,0] Assertion `srcIndex < srcSelectDimSize` failed.\n",
      "../aten/src/ATen/native/cuda/Indexing.cu:1237: indexSelectSmallIndex: block: [0,0,0], thread: [38,0,0] Assertion `srcIndex < srcSelectDimSize` failed.\n",
      "../aten/src/ATen/native/cuda/Indexing.cu:1237: indexSelectSmallIndex: block: [0,0,0], thread: [39,0,0] Assertion `srcIndex < srcSelectDimSize` failed.\n",
      "../aten/src/ATen/native/cuda/Indexing.cu:1237: indexSelectSmallIndex: block: [0,0,0], thread: [40,0,0] Assertion `srcIndex < srcSelectDimSize` failed.\n",
      "../aten/src/ATen/native/cuda/Indexing.cu:1237: indexSelectSmallIndex: block: [0,0,0], thread: [41,0,0] Assertion `srcIndex < srcSelectDimSize` failed.\n",
      "../aten/src/ATen/native/cuda/Indexing.cu:1237: indexSelectSmallIndex: block: [0,0,0], thread: [42,0,0] Assertion `srcIndex < srcSelectDimSize` failed.\n",
      "../aten/src/ATen/native/cuda/Indexing.cu:1237: indexSelectSmallIndex: block: [0,0,0], thread: [43,0,0] Assertion `srcIndex < srcSelectDimSize` failed.\n",
      "../aten/src/ATen/native/cuda/Indexing.cu:1237: indexSelectSmallIndex: block: [0,0,0], thread: [44,0,0] Assertion `srcIndex < srcSelectDimSize` failed.\n",
      "../aten/src/ATen/native/cuda/Indexing.cu:1237: indexSelectSmallIndex: block: [0,0,0], thread: [45,0,0] Assertion `srcIndex < srcSelectDimSize` failed.\n",
      "../aten/src/ATen/native/cuda/Indexing.cu:1237: indexSelectSmallIndex: block: [0,0,0], thread: [46,0,0] Assertion `srcIndex < srcSelectDimSize` failed.\n",
      "../aten/src/ATen/native/cuda/Indexing.cu:1237: indexSelectSmallIndex: block: [0,0,0], thread: [47,0,0] Assertion `srcIndex < srcSelectDimSize` failed.\n",
      "../aten/src/ATen/native/cuda/Indexing.cu:1237: indexSelectSmallIndex: block: [0,0,0], thread: [48,0,0] Assertion `srcIndex < srcSelectDimSize` failed.\n",
      "../aten/src/ATen/native/cuda/Indexing.cu:1237: indexSelectSmallIndex: block: [0,0,0], thread: [49,0,0] Assertion `srcIndex < srcSelectDimSize` failed.\n",
      "../aten/src/ATen/native/cuda/Indexing.cu:1237: indexSelectSmallIndex: block: [0,0,0], thread: [50,0,0] Assertion `srcIndex < srcSelectDimSize` failed.\n",
      "../aten/src/ATen/native/cuda/Indexing.cu:1237: indexSelectSmallIndex: block: [0,0,0], thread: [51,0,0] Assertion `srcIndex < srcSelectDimSize` failed.\n",
      "../aten/src/ATen/native/cuda/Indexing.cu:1237: indexSelectSmallIndex: block: [0,0,0], thread: [52,0,0] Assertion `srcIndex < srcSelectDimSize` failed.\n",
      "../aten/src/ATen/native/cuda/Indexing.cu:1237: indexSelectSmallIndex: block: [0,0,0], thread: [53,0,0] Assertion `srcIndex < srcSelectDimSize` failed.\n",
      "../aten/src/ATen/native/cuda/Indexing.cu:1237: indexSelectSmallIndex: block: [0,0,0], thread: [54,0,0] Assertion `srcIndex < srcSelectDimSize` failed.\n",
      "../aten/src/ATen/native/cuda/Indexing.cu:1237: indexSelectSmallIndex: block: [0,0,0], thread: [55,0,0] Assertion `srcIndex < srcSelectDimSize` failed.\n",
      "../aten/src/ATen/native/cuda/Indexing.cu:1237: indexSelectSmallIndex: block: [0,0,0], thread: [56,0,0] Assertion `srcIndex < srcSelectDimSize` failed.\n",
      "../aten/src/ATen/native/cuda/Indexing.cu:1237: indexSelectSmallIndex: block: [0,0,0], thread: [57,0,0] Assertion `srcIndex < srcSelectDimSize` failed.\n",
      "../aten/src/ATen/native/cuda/Indexing.cu:1237: indexSelectSmallIndex: block: [0,0,0], thread: [58,0,0] Assertion `srcIndex < srcSelectDimSize` failed.\n",
      "../aten/src/ATen/native/cuda/Indexing.cu:1237: indexSelectSmallIndex: block: [0,0,0], thread: [59,0,0] Assertion `srcIndex < srcSelectDimSize` failed.\n",
      "../aten/src/ATen/native/cuda/Indexing.cu:1237: indexSelectSmallIndex: block: [0,0,0], thread: [60,0,0] Assertion `srcIndex < srcSelectDimSize` failed.\n",
      "../aten/src/ATen/native/cuda/Indexing.cu:1237: indexSelectSmallIndex: block: [0,0,0], thread: [61,0,0] Assertion `srcIndex < srcSelectDimSize` failed.\n",
      "../aten/src/ATen/native/cuda/Indexing.cu:1237: indexSelectSmallIndex: block: [0,0,0], thread: [62,0,0] Assertion `srcIndex < srcSelectDimSize` failed.\n",
      "../aten/src/ATen/native/cuda/Indexing.cu:1237: indexSelectSmallIndex: block: [0,0,0], thread: [63,0,0] Assertion `srcIndex < srcSelectDimSize` failed.\n",
      "../aten/src/ATen/native/cuda/Indexing.cu:1237: indexSelectSmallIndex: block: [1,0,0], thread: [0,0,0] Assertion `srcIndex < srcSelectDimSize` failed.\n",
      "../aten/src/ATen/native/cuda/Indexing.cu:1237: indexSelectSmallIndex: block: [1,0,0], thread: [1,0,0] Assertion `srcIndex < srcSelectDimSize` failed.\n",
      "../aten/src/ATen/native/cuda/Indexing.cu:1237: indexSelectSmallIndex: block: [1,0,0], thread: [2,0,0] Assertion `srcIndex < srcSelectDimSize` failed.\n",
      "../aten/src/ATen/native/cuda/Indexing.cu:1237: indexSelectSmallIndex: block: [1,0,0], thread: [3,0,0] Assertion `srcIndex < srcSelectDimSize` failed.\n",
      "../aten/src/ATen/native/cuda/Indexing.cu:1237: indexSelectSmallIndex: block: [1,0,0], thread: [4,0,0] Assertion `srcIndex < srcSelectDimSize` failed.\n",
      "../aten/src/ATen/native/cuda/Indexing.cu:1237: indexSelectSmallIndex: block: [1,0,0], thread: [5,0,0] Assertion `srcIndex < srcSelectDimSize` failed.\n",
      "../aten/src/ATen/native/cuda/Indexing.cu:1237: indexSelectSmallIndex: block: [1,0,0], thread: [6,0,0] Assertion `srcIndex < srcSelectDimSize` failed.\n",
      "../aten/src/ATen/native/cuda/Indexing.cu:1237: indexSelectSmallIndex: block: [1,0,0], thread: [7,0,0] Assertion `srcIndex < srcSelectDimSize` failed.\n",
      "../aten/src/ATen/native/cuda/Indexing.cu:1237: indexSelectSmallIndex: block: [1,0,0], thread: [8,0,0] Assertion `srcIndex < srcSelectDimSize` failed.\n",
      "../aten/src/ATen/native/cuda/Indexing.cu:1237: indexSelectSmallIndex: block: [1,0,0], thread: [9,0,0] Assertion `srcIndex < srcSelectDimSize` failed.\n",
      "../aten/src/ATen/native/cuda/Indexing.cu:1237: indexSelectSmallIndex: block: [1,0,0], thread: [10,0,0] Assertion `srcIndex < srcSelectDimSize` failed.\n",
      "../aten/src/ATen/native/cuda/Indexing.cu:1237: indexSelectSmallIndex: block: [1,0,0], thread: [11,0,0] Assertion `srcIndex < srcSelectDimSize` failed.\n",
      "../aten/src/ATen/native/cuda/Indexing.cu:1237: indexSelectSmallIndex: block: [1,0,0], thread: [12,0,0] Assertion `srcIndex < srcSelectDimSize` failed.\n",
      "../aten/src/ATen/native/cuda/Indexing.cu:1237: indexSelectSmallIndex: block: [1,0,0], thread: [13,0,0] Assertion `srcIndex < srcSelectDimSize` failed.\n",
      "../aten/src/ATen/native/cuda/Indexing.cu:1237: indexSelectSmallIndex: block: [1,0,0], thread: [14,0,0] Assertion `srcIndex < srcSelectDimSize` failed.\n",
      "../aten/src/ATen/native/cuda/Indexing.cu:1237: indexSelectSmallIndex: block: [1,0,0], thread: [15,0,0] Assertion `srcIndex < srcSelectDimSize` failed.\n",
      "../aten/src/ATen/native/cuda/Indexing.cu:1237: indexSelectSmallIndex: block: [1,0,0], thread: [16,0,0] Assertion `srcIndex < srcSelectDimSize` failed.\n",
      "../aten/src/ATen/native/cuda/Indexing.cu:1237: indexSelectSmallIndex: block: [1,0,0], thread: [17,0,0] Assertion `srcIndex < srcSelectDimSize` failed.\n",
      "../aten/src/ATen/native/cuda/Indexing.cu:1237: indexSelectSmallIndex: block: [1,0,0], thread: [18,0,0] Assertion `srcIndex < srcSelectDimSize` failed.\n",
      "../aten/src/ATen/native/cuda/Indexing.cu:1237: indexSelectSmallIndex: block: [1,0,0], thread: [19,0,0] Assertion `srcIndex < srcSelectDimSize` failed.\n",
      "../aten/src/ATen/native/cuda/Indexing.cu:1237: indexSelectSmallIndex: block: [1,0,0], thread: [20,0,0] Assertion `srcIndex < srcSelectDimSize` failed.\n",
      "../aten/src/ATen/native/cuda/Indexing.cu:1237: indexSelectSmallIndex: block: [1,0,0], thread: [21,0,0] Assertion `srcIndex < srcSelectDimSize` failed.\n",
      "../aten/src/ATen/native/cuda/Indexing.cu:1237: indexSelectSmallIndex: block: [1,0,0], thread: [22,0,0] Assertion `srcIndex < srcSelectDimSize` failed.\n",
      "../aten/src/ATen/native/cuda/Indexing.cu:1237: indexSelectSmallIndex: block: [1,0,0], thread: [23,0,0] Assertion `srcIndex < srcSelectDimSize` failed.\n",
      "../aten/src/ATen/native/cuda/Indexing.cu:1237: indexSelectSmallIndex: block: [1,0,0], thread: [24,0,0] Assertion `srcIndex < srcSelectDimSize` failed.\n",
      "../aten/src/ATen/native/cuda/Indexing.cu:1237: indexSelectSmallIndex: block: [1,0,0], thread: [25,0,0] Assertion `srcIndex < srcSelectDimSize` failed.\n",
      "../aten/src/ATen/native/cuda/Indexing.cu:1237: indexSelectSmallIndex: block: [1,0,0], thread: [26,0,0] Assertion `srcIndex < srcSelectDimSize` failed.\n",
      "../aten/src/ATen/native/cuda/Indexing.cu:1237: indexSelectSmallIndex: block: [1,0,0], thread: [27,0,0] Assertion `srcIndex < srcSelectDimSize` failed.\n",
      "../aten/src/ATen/native/cuda/Indexing.cu:1237: indexSelectSmallIndex: block: [1,0,0], thread: [28,0,0] Assertion `srcIndex < srcSelectDimSize` failed.\n",
      "../aten/src/ATen/native/cuda/Indexing.cu:1237: indexSelectSmallIndex: block: [1,0,0], thread: [29,0,0] Assertion `srcIndex < srcSelectDimSize` failed.\n",
      "../aten/src/ATen/native/cuda/Indexing.cu:1237: indexSelectSmallIndex: block: [1,0,0], thread: [30,0,0] Assertion `srcIndex < srcSelectDimSize` failed.\n",
      "../aten/src/ATen/native/cuda/Indexing.cu:1237: indexSelectSmallIndex: block: [1,0,0], thread: [31,0,0] Assertion `srcIndex < srcSelectDimSize` failed.\n",
      "../aten/src/ATen/native/cuda/Indexing.cu:1237: indexSelectSmallIndex: block: [0,0,0], thread: [64,0,0] Assertion `srcIndex < srcSelectDimSize` failed.\n",
      "../aten/src/ATen/native/cuda/Indexing.cu:1237: indexSelectSmallIndex: block: [0,0,0], thread: [65,0,0] Assertion `srcIndex < srcSelectDimSize` failed.\n",
      "../aten/src/ATen/native/cuda/Indexing.cu:1237: indexSelectSmallIndex: block: [0,0,0], thread: [66,0,0] Assertion `srcIndex < srcSelectDimSize` failed.\n",
      "../aten/src/ATen/native/cuda/Indexing.cu:1237: indexSelectSmallIndex: block: [0,0,0], thread: [67,0,0] Assertion `srcIndex < srcSelectDimSize` failed.\n",
      "../aten/src/ATen/native/cuda/Indexing.cu:1237: indexSelectSmallIndex: block: [0,0,0], thread: [68,0,0] Assertion `srcIndex < srcSelectDimSize` failed.\n",
      "../aten/src/ATen/native/cuda/Indexing.cu:1237: indexSelectSmallIndex: block: [0,0,0], thread: [69,0,0] Assertion `srcIndex < srcSelectDimSize` failed.\n",
      "../aten/src/ATen/native/cuda/Indexing.cu:1237: indexSelectSmallIndex: block: [0,0,0], thread: [70,0,0] Assertion `srcIndex < srcSelectDimSize` failed.\n",
      "../aten/src/ATen/native/cuda/Indexing.cu:1237: indexSelectSmallIndex: block: [0,0,0], thread: [71,0,0] Assertion `srcIndex < srcSelectDimSize` failed.\n",
      "../aten/src/ATen/native/cuda/Indexing.cu:1237: indexSelectSmallIndex: block: [0,0,0], thread: [72,0,0] Assertion `srcIndex < srcSelectDimSize` failed.\n",
      "../aten/src/ATen/native/cuda/Indexing.cu:1237: indexSelectSmallIndex: block: [0,0,0], thread: [73,0,0] Assertion `srcIndex < srcSelectDimSize` failed.\n",
      "../aten/src/ATen/native/cuda/Indexing.cu:1237: indexSelectSmallIndex: block: [0,0,0], thread: [74,0,0] Assertion `srcIndex < srcSelectDimSize` failed.\n",
      "../aten/src/ATen/native/cuda/Indexing.cu:1237: indexSelectSmallIndex: block: [0,0,0], thread: [75,0,0] Assertion `srcIndex < srcSelectDimSize` failed.\n",
      "../aten/src/ATen/native/cuda/Indexing.cu:1237: indexSelectSmallIndex: block: [0,0,0], thread: [76,0,0] Assertion `srcIndex < srcSelectDimSize` failed.\n",
      "../aten/src/ATen/native/cuda/Indexing.cu:1237: indexSelectSmallIndex: block: [0,0,0], thread: [77,0,0] Assertion `srcIndex < srcSelectDimSize` failed.\n",
      "../aten/src/ATen/native/cuda/Indexing.cu:1237: indexSelectSmallIndex: block: [0,0,0], thread: [78,0,0] Assertion `srcIndex < srcSelectDimSize` failed.\n",
      "../aten/src/ATen/native/cuda/Indexing.cu:1237: indexSelectSmallIndex: block: [0,0,0], thread: [79,0,0] Assertion `srcIndex < srcSelectDimSize` failed.\n",
      "../aten/src/ATen/native/cuda/Indexing.cu:1237: indexSelectSmallIndex: block: [0,0,0], thread: [80,0,0] Assertion `srcIndex < srcSelectDimSize` failed.\n",
      "../aten/src/ATen/native/cuda/Indexing.cu:1237: indexSelectSmallIndex: block: [0,0,0], thread: [81,0,0] Assertion `srcIndex < srcSelectDimSize` failed.\n",
      "../aten/src/ATen/native/cuda/Indexing.cu:1237: indexSelectSmallIndex: block: [0,0,0], thread: [82,0,0] Assertion `srcIndex < srcSelectDimSize` failed.\n",
      "../aten/src/ATen/native/cuda/Indexing.cu:1237: indexSelectSmallIndex: block: [0,0,0], thread: [83,0,0] Assertion `srcIndex < srcSelectDimSize` failed.\n",
      "../aten/src/ATen/native/cuda/Indexing.cu:1237: indexSelectSmallIndex: block: [0,0,0], thread: [84,0,0] Assertion `srcIndex < srcSelectDimSize` failed.\n",
      "../aten/src/ATen/native/cuda/Indexing.cu:1237: indexSelectSmallIndex: block: [0,0,0], thread: [85,0,0] Assertion `srcIndex < srcSelectDimSize` failed.\n",
      "../aten/src/ATen/native/cuda/Indexing.cu:1237: indexSelectSmallIndex: block: [0,0,0], thread: [86,0,0] Assertion `srcIndex < srcSelectDimSize` failed.\n",
      "../aten/src/ATen/native/cuda/Indexing.cu:1237: indexSelectSmallIndex: block: [0,0,0], thread: [87,0,0] Assertion `srcIndex < srcSelectDimSize` failed.\n",
      "../aten/src/ATen/native/cuda/Indexing.cu:1237: indexSelectSmallIndex: block: [0,0,0], thread: [88,0,0] Assertion `srcIndex < srcSelectDimSize` failed.\n",
      "../aten/src/ATen/native/cuda/Indexing.cu:1237: indexSelectSmallIndex: block: [0,0,0], thread: [89,0,0] Assertion `srcIndex < srcSelectDimSize` failed.\n",
      "../aten/src/ATen/native/cuda/Indexing.cu:1237: indexSelectSmallIndex: block: [0,0,0], thread: [90,0,0] Assertion `srcIndex < srcSelectDimSize` failed.\n",
      "../aten/src/ATen/native/cuda/Indexing.cu:1237: indexSelectSmallIndex: block: [0,0,0], thread: [91,0,0] Assertion `srcIndex < srcSelectDimSize` failed.\n",
      "../aten/src/ATen/native/cuda/Indexing.cu:1237: indexSelectSmallIndex: block: [0,0,0], thread: [92,0,0] Assertion `srcIndex < srcSelectDimSize` failed.\n",
      "../aten/src/ATen/native/cuda/Indexing.cu:1237: indexSelectSmallIndex: block: [0,0,0], thread: [93,0,0] Assertion `srcIndex < srcSelectDimSize` failed.\n",
      "../aten/src/ATen/native/cuda/Indexing.cu:1237: indexSelectSmallIndex: block: [0,0,0], thread: [94,0,0] Assertion `srcIndex < srcSelectDimSize` failed.\n",
      "../aten/src/ATen/native/cuda/Indexing.cu:1237: indexSelectSmallIndex: block: [0,0,0], thread: [95,0,0] Assertion `srcIndex < srcSelectDimSize` failed.\n",
      "../aten/src/ATen/native/cuda/Indexing.cu:1237: indexSelectSmallIndex: block: [1,0,0], thread: [32,0,0] Assertion `srcIndex < srcSelectDimSize` failed.\n",
      "../aten/src/ATen/native/cuda/Indexing.cu:1237: indexSelectSmallIndex: block: [1,0,0], thread: [33,0,0] Assertion `srcIndex < srcSelectDimSize` failed.\n",
      "../aten/src/ATen/native/cuda/Indexing.cu:1237: indexSelectSmallIndex: block: [1,0,0], thread: [34,0,0] Assertion `srcIndex < srcSelectDimSize` failed.\n",
      "../aten/src/ATen/native/cuda/Indexing.cu:1237: indexSelectSmallIndex: block: [1,0,0], thread: [35,0,0] Assertion `srcIndex < srcSelectDimSize` failed.\n",
      "../aten/src/ATen/native/cuda/Indexing.cu:1237: indexSelectSmallIndex: block: [1,0,0], thread: [36,0,0] Assertion `srcIndex < srcSelectDimSize` failed.\n",
      "../aten/src/ATen/native/cuda/Indexing.cu:1237: indexSelectSmallIndex: block: [1,0,0], thread: [37,0,0] Assertion `srcIndex < srcSelectDimSize` failed.\n",
      "../aten/src/ATen/native/cuda/Indexing.cu:1237: indexSelectSmallIndex: block: [1,0,0], thread: [38,0,0] Assertion `srcIndex < srcSelectDimSize` failed.\n",
      "../aten/src/ATen/native/cuda/Indexing.cu:1237: indexSelectSmallIndex: block: [1,0,0], thread: [39,0,0] Assertion `srcIndex < srcSelectDimSize` failed.\n",
      "../aten/src/ATen/native/cuda/Indexing.cu:1237: indexSelectSmallIndex: block: [1,0,0], thread: [40,0,0] Assertion `srcIndex < srcSelectDimSize` failed.\n",
      "../aten/src/ATen/native/cuda/Indexing.cu:1237: indexSelectSmallIndex: block: [1,0,0], thread: [41,0,0] Assertion `srcIndex < srcSelectDimSize` failed.\n",
      "../aten/src/ATen/native/cuda/Indexing.cu:1237: indexSelectSmallIndex: block: [1,0,0], thread: [42,0,0] Assertion `srcIndex < srcSelectDimSize` failed.\n",
      "../aten/src/ATen/native/cuda/Indexing.cu:1237: indexSelectSmallIndex: block: [1,0,0], thread: [43,0,0] Assertion `srcIndex < srcSelectDimSize` failed.\n",
      "../aten/src/ATen/native/cuda/Indexing.cu:1237: indexSelectSmallIndex: block: [1,0,0], thread: [44,0,0] Assertion `srcIndex < srcSelectDimSize` failed.\n",
      "../aten/src/ATen/native/cuda/Indexing.cu:1237: indexSelectSmallIndex: block: [1,0,0], thread: [45,0,0] Assertion `srcIndex < srcSelectDimSize` failed.\n",
      "../aten/src/ATen/native/cuda/Indexing.cu:1237: indexSelectSmallIndex: block: [1,0,0], thread: [46,0,0] Assertion `srcIndex < srcSelectDimSize` failed.\n",
      "../aten/src/ATen/native/cuda/Indexing.cu:1237: indexSelectSmallIndex: block: [1,0,0], thread: [47,0,0] Assertion `srcIndex < srcSelectDimSize` failed.\n",
      "../aten/src/ATen/native/cuda/Indexing.cu:1237: indexSelectSmallIndex: block: [1,0,0], thread: [48,0,0] Assertion `srcIndex < srcSelectDimSize` failed.\n",
      "../aten/src/ATen/native/cuda/Indexing.cu:1237: indexSelectSmallIndex: block: [1,0,0], thread: [49,0,0] Assertion `srcIndex < srcSelectDimSize` failed.\n",
      "../aten/src/ATen/native/cuda/Indexing.cu:1237: indexSelectSmallIndex: block: [1,0,0], thread: [50,0,0] Assertion `srcIndex < srcSelectDimSize` failed.\n",
      "../aten/src/ATen/native/cuda/Indexing.cu:1237: indexSelectSmallIndex: block: [1,0,0], thread: [51,0,0] Assertion `srcIndex < srcSelectDimSize` failed.\n",
      "../aten/src/ATen/native/cuda/Indexing.cu:1237: indexSelectSmallIndex: block: [1,0,0], thread: [52,0,0] Assertion `srcIndex < srcSelectDimSize` failed.\n",
      "../aten/src/ATen/native/cuda/Indexing.cu:1237: indexSelectSmallIndex: block: [1,0,0], thread: [53,0,0] Assertion `srcIndex < srcSelectDimSize` failed.\n",
      "../aten/src/ATen/native/cuda/Indexing.cu:1237: indexSelectSmallIndex: block: [1,0,0], thread: [54,0,0] Assertion `srcIndex < srcSelectDimSize` failed.\n",
      "../aten/src/ATen/native/cuda/Indexing.cu:1237: indexSelectSmallIndex: block: [1,0,0], thread: [55,0,0] Assertion `srcIndex < srcSelectDimSize` failed.\n",
      "../aten/src/ATen/native/cuda/Indexing.cu:1237: indexSelectSmallIndex: block: [1,0,0], thread: [56,0,0] Assertion `srcIndex < srcSelectDimSize` failed.\n",
      "../aten/src/ATen/native/cuda/Indexing.cu:1237: indexSelectSmallIndex: block: [1,0,0], thread: [57,0,0] Assertion `srcIndex < srcSelectDimSize` failed.\n",
      "../aten/src/ATen/native/cuda/Indexing.cu:1237: indexSelectSmallIndex: block: [1,0,0], thread: [58,0,0] Assertion `srcIndex < srcSelectDimSize` failed.\n",
      "../aten/src/ATen/native/cuda/Indexing.cu:1237: indexSelectSmallIndex: block: [1,0,0], thread: [59,0,0] Assertion `srcIndex < srcSelectDimSize` failed.\n",
      "../aten/src/ATen/native/cuda/Indexing.cu:1237: indexSelectSmallIndex: block: [1,0,0], thread: [60,0,0] Assertion `srcIndex < srcSelectDimSize` failed.\n",
      "../aten/src/ATen/native/cuda/Indexing.cu:1237: indexSelectSmallIndex: block: [1,0,0], thread: [61,0,0] Assertion `srcIndex < srcSelectDimSize` failed.\n",
      "../aten/src/ATen/native/cuda/Indexing.cu:1237: indexSelectSmallIndex: block: [1,0,0], thread: [62,0,0] Assertion `srcIndex < srcSelectDimSize` failed.\n",
      "../aten/src/ATen/native/cuda/Indexing.cu:1237: indexSelectSmallIndex: block: [1,0,0], thread: [63,0,0] Assertion `srcIndex < srcSelectDimSize` failed.\n",
      "../aten/src/ATen/native/cuda/Indexing.cu:1237: indexSelectSmallIndex: block: [1,0,0], thread: [64,0,0] Assertion `srcIndex < srcSelectDimSize` failed.\n",
      "../aten/src/ATen/native/cuda/Indexing.cu:1237: indexSelectSmallIndex: block: [1,0,0], thread: [65,0,0] Assertion `srcIndex < srcSelectDimSize` failed.\n",
      "../aten/src/ATen/native/cuda/Indexing.cu:1237: indexSelectSmallIndex: block: [1,0,0], thread: [66,0,0] Assertion `srcIndex < srcSelectDimSize` failed.\n",
      "../aten/src/ATen/native/cuda/Indexing.cu:1237: indexSelectSmallIndex: block: [1,0,0], thread: [67,0,0] Assertion `srcIndex < srcSelectDimSize` failed.\n",
      "../aten/src/ATen/native/cuda/Indexing.cu:1237: indexSelectSmallIndex: block: [1,0,0], thread: [68,0,0] Assertion `srcIndex < srcSelectDimSize` failed.\n",
      "../aten/src/ATen/native/cuda/Indexing.cu:1237: indexSelectSmallIndex: block: [1,0,0], thread: [69,0,0] Assertion `srcIndex < srcSelectDimSize` failed.\n",
      "../aten/src/ATen/native/cuda/Indexing.cu:1237: indexSelectSmallIndex: block: [1,0,0], thread: [70,0,0] Assertion `srcIndex < srcSelectDimSize` failed.\n",
      "../aten/src/ATen/native/cuda/Indexing.cu:1237: indexSelectSmallIndex: block: [1,0,0], thread: [71,0,0] Assertion `srcIndex < srcSelectDimSize` failed.\n",
      "../aten/src/ATen/native/cuda/Indexing.cu:1237: indexSelectSmallIndex: block: [1,0,0], thread: [72,0,0] Assertion `srcIndex < srcSelectDimSize` failed.\n",
      "../aten/src/ATen/native/cuda/Indexing.cu:1237: indexSelectSmallIndex: block: [1,0,0], thread: [73,0,0] Assertion `srcIndex < srcSelectDimSize` failed.\n",
      "../aten/src/ATen/native/cuda/Indexing.cu:1237: indexSelectSmallIndex: block: [1,0,0], thread: [74,0,0] Assertion `srcIndex < srcSelectDimSize` failed.\n",
      "../aten/src/ATen/native/cuda/Indexing.cu:1237: indexSelectSmallIndex: block: [1,0,0], thread: [75,0,0] Assertion `srcIndex < srcSelectDimSize` failed.\n",
      "../aten/src/ATen/native/cuda/Indexing.cu:1237: indexSelectSmallIndex: block: [1,0,0], thread: [76,0,0] Assertion `srcIndex < srcSelectDimSize` failed.\n",
      "../aten/src/ATen/native/cuda/Indexing.cu:1237: indexSelectSmallIndex: block: [1,0,0], thread: [77,0,0] Assertion `srcIndex < srcSelectDimSize` failed.\n",
      "../aten/src/ATen/native/cuda/Indexing.cu:1237: indexSelectSmallIndex: block: [1,0,0], thread: [78,0,0] Assertion `srcIndex < srcSelectDimSize` failed.\n",
      "../aten/src/ATen/native/cuda/Indexing.cu:1237: indexSelectSmallIndex: block: [1,0,0], thread: [79,0,0] Assertion `srcIndex < srcSelectDimSize` failed.\n",
      "../aten/src/ATen/native/cuda/Indexing.cu:1237: indexSelectSmallIndex: block: [1,0,0], thread: [80,0,0] Assertion `srcIndex < srcSelectDimSize` failed.\n",
      "../aten/src/ATen/native/cuda/Indexing.cu:1237: indexSelectSmallIndex: block: [1,0,0], thread: [81,0,0] Assertion `srcIndex < srcSelectDimSize` failed.\n",
      "../aten/src/ATen/native/cuda/Indexing.cu:1237: indexSelectSmallIndex: block: [1,0,0], thread: [82,0,0] Assertion `srcIndex < srcSelectDimSize` failed.\n",
      "../aten/src/ATen/native/cuda/Indexing.cu:1237: indexSelectSmallIndex: block: [1,0,0], thread: [83,0,0] Assertion `srcIndex < srcSelectDimSize` failed.\n",
      "../aten/src/ATen/native/cuda/Indexing.cu:1237: indexSelectSmallIndex: block: [1,0,0], thread: [84,0,0] Assertion `srcIndex < srcSelectDimSize` failed.\n",
      "../aten/src/ATen/native/cuda/Indexing.cu:1237: indexSelectSmallIndex: block: [1,0,0], thread: [85,0,0] Assertion `srcIndex < srcSelectDimSize` failed.\n",
      "../aten/src/ATen/native/cuda/Indexing.cu:1237: indexSelectSmallIndex: block: [1,0,0], thread: [86,0,0] Assertion `srcIndex < srcSelectDimSize` failed.\n",
      "../aten/src/ATen/native/cuda/Indexing.cu:1237: indexSelectSmallIndex: block: [1,0,0], thread: [87,0,0] Assertion `srcIndex < srcSelectDimSize` failed.\n",
      "../aten/src/ATen/native/cuda/Indexing.cu:1237: indexSelectSmallIndex: block: [1,0,0], thread: [88,0,0] Assertion `srcIndex < srcSelectDimSize` failed.\n",
      "../aten/src/ATen/native/cuda/Indexing.cu:1237: indexSelectSmallIndex: block: [1,0,0], thread: [89,0,0] Assertion `srcIndex < srcSelectDimSize` failed.\n",
      "../aten/src/ATen/native/cuda/Indexing.cu:1237: indexSelectSmallIndex: block: [1,0,0], thread: [90,0,0] Assertion `srcIndex < srcSelectDimSize` failed.\n",
      "../aten/src/ATen/native/cuda/Indexing.cu:1237: indexSelectSmallIndex: block: [1,0,0], thread: [91,0,0] Assertion `srcIndex < srcSelectDimSize` failed.\n",
      "../aten/src/ATen/native/cuda/Indexing.cu:1237: indexSelectSmallIndex: block: [1,0,0], thread: [92,0,0] Assertion `srcIndex < srcSelectDimSize` failed.\n",
      "../aten/src/ATen/native/cuda/Indexing.cu:1237: indexSelectSmallIndex: block: [1,0,0], thread: [93,0,0] Assertion `srcIndex < srcSelectDimSize` failed.\n",
      "../aten/src/ATen/native/cuda/Indexing.cu:1237: indexSelectSmallIndex: block: [1,0,0], thread: [94,0,0] Assertion `srcIndex < srcSelectDimSize` failed.\n",
      "../aten/src/ATen/native/cuda/Indexing.cu:1237: indexSelectSmallIndex: block: [1,0,0], thread: [95,0,0] Assertion `srcIndex < srcSelectDimSize` failed.\n",
      "../aten/src/ATen/native/cuda/Indexing.cu:1237: indexSelectSmallIndex: block: [1,0,0], thread: [96,0,0] Assertion `srcIndex < srcSelectDimSize` failed.\n",
      "../aten/src/ATen/native/cuda/Indexing.cu:1237: indexSelectSmallIndex: block: [1,0,0], thread: [97,0,0] Assertion `srcIndex < srcSelectDimSize` failed.\n",
      "../aten/src/ATen/native/cuda/Indexing.cu:1237: indexSelectSmallIndex: block: [1,0,0], thread: [98,0,0] Assertion `srcIndex < srcSelectDimSize` failed.\n",
      "../aten/src/ATen/native/cuda/Indexing.cu:1237: indexSelectSmallIndex: block: [1,0,0], thread: [99,0,0] Assertion `srcIndex < srcSelectDimSize` failed.\n",
      "../aten/src/ATen/native/cuda/Indexing.cu:1237: indexSelectSmallIndex: block: [1,0,0], thread: [100,0,0] Assertion `srcIndex < srcSelectDimSize` failed.\n",
      "../aten/src/ATen/native/cuda/Indexing.cu:1237: indexSelectSmallIndex: block: [1,0,0], thread: [101,0,0] Assertion `srcIndex < srcSelectDimSize` failed.\n",
      "../aten/src/ATen/native/cuda/Indexing.cu:1237: indexSelectSmallIndex: block: [1,0,0], thread: [102,0,0] Assertion `srcIndex < srcSelectDimSize` failed.\n",
      "../aten/src/ATen/native/cuda/Indexing.cu:1237: indexSelectSmallIndex: block: [1,0,0], thread: [103,0,0] Assertion `srcIndex < srcSelectDimSize` failed.\n",
      "../aten/src/ATen/native/cuda/Indexing.cu:1237: indexSelectSmallIndex: block: [1,0,0], thread: [104,0,0] Assertion `srcIndex < srcSelectDimSize` failed.\n",
      "../aten/src/ATen/native/cuda/Indexing.cu:1237: indexSelectSmallIndex: block: [1,0,0], thread: [105,0,0] Assertion `srcIndex < srcSelectDimSize` failed.\n",
      "../aten/src/ATen/native/cuda/Indexing.cu:1237: indexSelectSmallIndex: block: [1,0,0], thread: [106,0,0] Assertion `srcIndex < srcSelectDimSize` failed.\n",
      "../aten/src/ATen/native/cuda/Indexing.cu:1237: indexSelectSmallIndex: block: [1,0,0], thread: [107,0,0] Assertion `srcIndex < srcSelectDimSize` failed.\n",
      "../aten/src/ATen/native/cuda/Indexing.cu:1237: indexSelectSmallIndex: block: [1,0,0], thread: [108,0,0] Assertion `srcIndex < srcSelectDimSize` failed.\n",
      "../aten/src/ATen/native/cuda/Indexing.cu:1237: indexSelectSmallIndex: block: [1,0,0], thread: [109,0,0] Assertion `srcIndex < srcSelectDimSize` failed.\n",
      "../aten/src/ATen/native/cuda/Indexing.cu:1237: indexSelectSmallIndex: block: [1,0,0], thread: [110,0,0] Assertion `srcIndex < srcSelectDimSize` failed.\n",
      "../aten/src/ATen/native/cuda/Indexing.cu:1237: indexSelectSmallIndex: block: [1,0,0], thread: [111,0,0] Assertion `srcIndex < srcSelectDimSize` failed.\n",
      "../aten/src/ATen/native/cuda/Indexing.cu:1237: indexSelectSmallIndex: block: [1,0,0], thread: [112,0,0] Assertion `srcIndex < srcSelectDimSize` failed.\n",
      "../aten/src/ATen/native/cuda/Indexing.cu:1237: indexSelectSmallIndex: block: [1,0,0], thread: [113,0,0] Assertion `srcIndex < srcSelectDimSize` failed.\n",
      "../aten/src/ATen/native/cuda/Indexing.cu:1237: indexSelectSmallIndex: block: [1,0,0], thread: [114,0,0] Assertion `srcIndex < srcSelectDimSize` failed.\n",
      "../aten/src/ATen/native/cuda/Indexing.cu:1237: indexSelectSmallIndex: block: [1,0,0], thread: [115,0,0] Assertion `srcIndex < srcSelectDimSize` failed.\n",
      "../aten/src/ATen/native/cuda/Indexing.cu:1237: indexSelectSmallIndex: block: [1,0,0], thread: [116,0,0] Assertion `srcIndex < srcSelectDimSize` failed.\n",
      "../aten/src/ATen/native/cuda/Indexing.cu:1237: indexSelectSmallIndex: block: [1,0,0], thread: [117,0,0] Assertion `srcIndex < srcSelectDimSize` failed.\n",
      "../aten/src/ATen/native/cuda/Indexing.cu:1237: indexSelectSmallIndex: block: [1,0,0], thread: [118,0,0] Assertion `srcIndex < srcSelectDimSize` failed.\n",
      "../aten/src/ATen/native/cuda/Indexing.cu:1237: indexSelectSmallIndex: block: [1,0,0], thread: [119,0,0] Assertion `srcIndex < srcSelectDimSize` failed.\n",
      "../aten/src/ATen/native/cuda/Indexing.cu:1237: indexSelectSmallIndex: block: [1,0,0], thread: [120,0,0] Assertion `srcIndex < srcSelectDimSize` failed.\n",
      "../aten/src/ATen/native/cuda/Indexing.cu:1237: indexSelectSmallIndex: block: [1,0,0], thread: [121,0,0] Assertion `srcIndex < srcSelectDimSize` failed.\n",
      "../aten/src/ATen/native/cuda/Indexing.cu:1237: indexSelectSmallIndex: block: [1,0,0], thread: [122,0,0] Assertion `srcIndex < srcSelectDimSize` failed.\n",
      "../aten/src/ATen/native/cuda/Indexing.cu:1237: indexSelectSmallIndex: block: [1,0,0], thread: [123,0,0] Assertion `srcIndex < srcSelectDimSize` failed.\n",
      "../aten/src/ATen/native/cuda/Indexing.cu:1237: indexSelectSmallIndex: block: [1,0,0], thread: [124,0,0] Assertion `srcIndex < srcSelectDimSize` failed.\n",
      "../aten/src/ATen/native/cuda/Indexing.cu:1237: indexSelectSmallIndex: block: [1,0,0], thread: [125,0,0] Assertion `srcIndex < srcSelectDimSize` failed.\n",
      "../aten/src/ATen/native/cuda/Indexing.cu:1237: indexSelectSmallIndex: block: [1,0,0], thread: [126,0,0] Assertion `srcIndex < srcSelectDimSize` failed.\n",
      "../aten/src/ATen/native/cuda/Indexing.cu:1237: indexSelectSmallIndex: block: [1,0,0], thread: [127,0,0] Assertion `srcIndex < srcSelectDimSize` failed.\n"
     ]
    },
    {
     "name": "stdout",
     "output_type": "stream",
     "text": [
      "CUDA error: device-side assert triggered\n",
      "CUDA kernel errors might be asynchronously reported at some other API call, so the stacktrace below might be incorrect.\n",
      "For debugging consider passing CUDA_LAUNCH_BLOCKING=1.\n",
      "Compile with `TORCH_USE_CUDA_DSA` to enable device-side assertions.\n",
      "\n",
      "Atoms(symbols='Pa2', pbc=True, cell=[17.855999999999998, 17.857, 17.857999999999997])\n"
     ]
    },
    {
     "data": {
      "application/vnd.jupyter.widget-view+json": {
       "model_id": "de1bca44ed464ccd9bac3c05a4c2845b",
       "version_major": 2,
       "version_minor": 0
      },
      "text/plain": [
       "  0%|          | 0/712 [00:00<?, ?it/s]"
      ]
     },
     "metadata": {},
     "output_type": "display_data"
    },
    {
     "name": "stdout",
     "output_type": "stream",
     "text": [
      "CUDA error: device-side assert triggered\n",
      "CUDA kernel errors might be asynchronously reported at some other API call, so the stacktrace below might be incorrect.\n",
      "For debugging consider passing CUDA_LAUNCH_BLOCKING=1.\n",
      "Compile with `TORCH_USE_CUDA_DSA` to enable device-side assertions.\n",
      "\n",
      "Atoms(symbols='U2', pbc=True, cell=[16.802, 16.803, 16.804])\n"
     ]
    },
    {
     "data": {
      "application/vnd.jupyter.widget-view+json": {
       "model_id": "a0b48eb17daa4f2992938d1a73cbc320",
       "version_major": 2,
       "version_minor": 0
      },
      "text/plain": [
       "  0%|          | 0/663 [00:00<?, ?it/s]"
      ]
     },
     "metadata": {},
     "output_type": "display_data"
    },
    {
     "name": "stdout",
     "output_type": "stream",
     "text": [
      "CUDA error: device-side assert triggered\n",
      "CUDA kernel errors might be asynchronously reported at some other API call, so the stacktrace below might be incorrect.\n",
      "For debugging consider passing CUDA_LAUNCH_BLOCKING=1.\n",
      "Compile with `TORCH_USE_CUDA_DSA` to enable device-side assertions.\n",
      "\n",
      "Atoms(symbols='Np2', pbc=True, cell=[17.483999999999998, 17.485, 17.485999999999997])\n"
     ]
    },
    {
     "data": {
      "application/vnd.jupyter.widget-view+json": {
       "model_id": "a25fea3ea8ce4d22a6a66526d7d439ca",
       "version_major": 2,
       "version_minor": 0
      },
      "text/plain": [
       "  0%|          | 0/703 [00:00<?, ?it/s]"
      ]
     },
     "metadata": {},
     "output_type": "display_data"
    },
    {
     "name": "stdout",
     "output_type": "stream",
     "text": [
      "CUDA error: device-side assert triggered\n",
      "CUDA kernel errors might be asynchronously reported at some other API call, so the stacktrace below might be incorrect.\n",
      "For debugging consider passing CUDA_LAUNCH_BLOCKING=1.\n",
      "Compile with `TORCH_USE_CUDA_DSA` to enable device-side assertions.\n",
      "\n",
      "Atoms(symbols='Pu2', pbc=True, cell=[17.422, 17.423000000000002, 17.424])\n"
     ]
    },
    {
     "data": {
      "application/vnd.jupyter.widget-view+json": {
       "model_id": "0b0e3f5f942541329f52ce669319104e",
       "version_major": 2,
       "version_minor": 0
      },
      "text/plain": [
       "  0%|          | 0/702 [00:00<?, ?it/s]"
      ]
     },
     "metadata": {},
     "output_type": "display_data"
    },
    {
     "name": "stdout",
     "output_type": "stream",
     "text": [
      "CUDA error: device-side assert triggered\n",
      "CUDA kernel errors might be asynchronously reported at some other API call, so the stacktrace below might be incorrect.\n",
      "For debugging consider passing CUDA_LAUNCH_BLOCKING=1.\n",
      "Compile with `TORCH_USE_CUDA_DSA` to enable device-side assertions.\n",
      "\n",
      "Atoms(symbols='Am2', pbc=True, cell=[17.546, 17.547, 17.548])\n"
     ]
    },
    {
     "data": {
      "application/vnd.jupyter.widget-view+json": {
       "model_id": "aa3342c116f843cf8e7087f149e09fef",
       "version_major": 2,
       "version_minor": 0
      },
      "text/plain": [
       "  0%|          | 0/715 [00:00<?, ?it/s]"
      ]
     },
     "metadata": {},
     "output_type": "display_data"
    },
    {
     "name": "stdout",
     "output_type": "stream",
     "text": [
      "CUDA error: device-side assert triggered\n",
      "CUDA kernel errors might be asynchronously reported at some other API call, so the stacktrace below might be incorrect.\n",
      "For debugging consider passing CUDA_LAUNCH_BLOCKING=1.\n",
      "Compile with `TORCH_USE_CUDA_DSA` to enable device-side assertions.\n",
      "\n",
      "Atoms(symbols='Cm2', pbc=True, cell=[18.91, 18.911, 18.912])\n"
     ]
    },
    {
     "data": {
      "application/vnd.jupyter.widget-view+json": {
       "model_id": "7cf1e41dae09467cb438f27cc19dd4e8",
       "version_major": 2,
       "version_minor": 0
      },
      "text/plain": [
       "  0%|          | 0/793 [00:00<?, ?it/s]"
      ]
     },
     "metadata": {},
     "output_type": "display_data"
    },
    {
     "name": "stdout",
     "output_type": "stream",
     "text": [
      "CUDA error: device-side assert triggered\n",
      "CUDA kernel errors might be asynchronously reported at some other API call, so the stacktrace below might be incorrect.\n",
      "For debugging consider passing CUDA_LAUNCH_BLOCKING=1.\n",
      "Compile with `TORCH_USE_CUDA_DSA` to enable device-side assertions.\n",
      "\n",
      "Atoms(symbols='Bk2', pbc=True, cell=[21.08, 21.081, 21.081999999999997])\n"
     ]
    },
    {
     "data": {
      "application/vnd.jupyter.widget-view+json": {
       "model_id": "ef86333810ec4f8880c7c7dab7d6c7ad",
       "version_major": 2,
       "version_minor": 0
      },
      "text/plain": [
       "  0%|          | 0/1036 [00:00<?, ?it/s]"
      ]
     },
     "metadata": {},
     "output_type": "display_data"
    },
    {
     "name": "stdout",
     "output_type": "stream",
     "text": [
      "CUDA error: device-side assert triggered\n",
      "CUDA kernel errors might be asynchronously reported at some other API call, so the stacktrace below might be incorrect.\n",
      "For debugging consider passing CUDA_LAUNCH_BLOCKING=1.\n",
      "Compile with `TORCH_USE_CUDA_DSA` to enable device-side assertions.\n",
      "\n",
      "Atoms(symbols='Cf2', pbc=True, cell=[18.91, 18.911, 18.912])\n"
     ]
    },
    {
     "data": {
      "application/vnd.jupyter.widget-view+json": {
       "model_id": "07c430075db943df8e03f4ded0bd9d2f",
       "version_major": 2,
       "version_minor": 0
      },
      "text/plain": [
       "  0%|          | 0/927 [00:00<?, ?it/s]"
      ]
     },
     "metadata": {},
     "output_type": "display_data"
    },
    {
     "name": "stdout",
     "output_type": "stream",
     "text": [
      "CUDA error: device-side assert triggered\n",
      "CUDA kernel errors might be asynchronously reported at some other API call, so the stacktrace below might be incorrect.\n",
      "For debugging consider passing CUDA_LAUNCH_BLOCKING=1.\n",
      "Compile with `TORCH_USE_CUDA_DSA` to enable device-side assertions.\n",
      "\n",
      "Atoms(symbols='Es2', pbc=True, cell=[16.740000000000002, 16.741000000000003, 16.742])\n"
     ]
    },
    {
     "data": {
      "application/vnd.jupyter.widget-view+json": {
       "model_id": "b1c2b6167c7b4e369601458e2bbeac82",
       "version_major": 2,
       "version_minor": 0
      },
      "text/plain": [
       "  0%|          | 0/819 [00:00<?, ?it/s]"
      ]
     },
     "metadata": {},
     "output_type": "display_data"
    },
    {
     "name": "stdout",
     "output_type": "stream",
     "text": [
      "CUDA error: device-side assert triggered\n",
      "CUDA kernel errors might be asynchronously reported at some other API call, so the stacktrace below might be incorrect.\n",
      "For debugging consider passing CUDA_LAUNCH_BLOCKING=1.\n",
      "Compile with `TORCH_USE_CUDA_DSA` to enable device-side assertions.\n",
      "\n",
      "Atoms(symbols='Fm2', pbc=True, cell=[12.0, 12.001, 12.002])\n"
     ]
    },
    {
     "data": {
      "application/vnd.jupyter.widget-view+json": {
       "model_id": "aaf00a4a650c4f90b7d183ac4d626ed6",
       "version_major": 2,
       "version_minor": 0
      },
      "text/plain": [
       "  0%|          | 0/582 [00:00<?, ?it/s]"
      ]
     },
     "metadata": {},
     "output_type": "display_data"
    },
    {
     "name": "stdout",
     "output_type": "stream",
     "text": [
      "CUDA error: device-side assert triggered\n",
      "CUDA kernel errors might be asynchronously reported at some other API call, so the stacktrace below might be incorrect.\n",
      "For debugging consider passing CUDA_LAUNCH_BLOCKING=1.\n",
      "Compile with `TORCH_USE_CUDA_DSA` to enable device-side assertions.\n",
      "\n",
      "Atoms(symbols='Md2', pbc=True, cell=[12.0, 12.001, 12.002])\n"
     ]
    },
    {
     "data": {
      "application/vnd.jupyter.widget-view+json": {
       "model_id": "04a689f74eec46ddb75675fab67aa9f5",
       "version_major": 2,
       "version_minor": 0
      },
      "text/plain": [
       "  0%|          | 0/582 [00:00<?, ?it/s]"
      ]
     },
     "metadata": {},
     "output_type": "display_data"
    },
    {
     "name": "stdout",
     "output_type": "stream",
     "text": [
      "CUDA error: device-side assert triggered\n",
      "CUDA kernel errors might be asynchronously reported at some other API call, so the stacktrace below might be incorrect.\n",
      "For debugging consider passing CUDA_LAUNCH_BLOCKING=1.\n",
      "Compile with `TORCH_USE_CUDA_DSA` to enable device-side assertions.\n",
      "\n",
      "Atoms(symbols='No2', pbc=True, cell=[12.0, 12.001, 12.002])\n"
     ]
    },
    {
     "data": {
      "application/vnd.jupyter.widget-view+json": {
       "model_id": "3f09c0c7eeab4b899ec41d54e4b403de",
       "version_major": 2,
       "version_minor": 0
      },
      "text/plain": [
       "  0%|          | 0/582 [00:00<?, ?it/s]"
      ]
     },
     "metadata": {},
     "output_type": "display_data"
    },
    {
     "name": "stdout",
     "output_type": "stream",
     "text": [
      "CUDA error: device-side assert triggered\n",
      "CUDA kernel errors might be asynchronously reported at some other API call, so the stacktrace below might be incorrect.\n",
      "For debugging consider passing CUDA_LAUNCH_BLOCKING=1.\n",
      "Compile with `TORCH_USE_CUDA_DSA` to enable device-side assertions.\n",
      "\n",
      "Atoms(symbols='Lr2', pbc=True, cell=[12.0, 12.001, 12.002])\n"
     ]
    },
    {
     "data": {
      "application/vnd.jupyter.widget-view+json": {
       "model_id": "7fd49c209c43482f952d41c28363ec44",
       "version_major": 2,
       "version_minor": 0
      },
      "text/plain": [
       "  0%|          | 0/582 [00:00<?, ?it/s]"
      ]
     },
     "metadata": {},
     "output_type": "display_data"
    },
    {
     "name": "stdout",
     "output_type": "stream",
     "text": [
      "CUDA error: device-side assert triggered\n",
      "CUDA kernel errors might be asynchronously reported at some other API call, so the stacktrace below might be incorrect.\n",
      "For debugging consider passing CUDA_LAUNCH_BLOCKING=1.\n",
      "Compile with `TORCH_USE_CUDA_DSA` to enable device-side assertions.\n",
      "\n",
      "Atoms(symbols='Rf2', pbc=True, cell=[12.0, 12.001, 12.002])\n"
     ]
    },
    {
     "data": {
      "application/vnd.jupyter.widget-view+json": {
       "model_id": "c294b2793aaf4875b4af9792c8dba402",
       "version_major": 2,
       "version_minor": 0
      },
      "text/plain": [
       "  0%|          | 0/582 [00:00<?, ?it/s]"
      ]
     },
     "metadata": {},
     "output_type": "display_data"
    },
    {
     "name": "stdout",
     "output_type": "stream",
     "text": [
      "CUDA error: device-side assert triggered\n",
      "CUDA kernel errors might be asynchronously reported at some other API call, so the stacktrace below might be incorrect.\n",
      "For debugging consider passing CUDA_LAUNCH_BLOCKING=1.\n",
      "Compile with `TORCH_USE_CUDA_DSA` to enable device-side assertions.\n",
      "\n",
      "Atoms(symbols='Db2', pbc=True, cell=[12.0, 12.001, 12.002])\n"
     ]
    },
    {
     "data": {
      "application/vnd.jupyter.widget-view+json": {
       "model_id": "beff0a1759a740cd850dbc0a9a65fea8",
       "version_major": 2,
       "version_minor": 0
      },
      "text/plain": [
       "  0%|          | 0/582 [00:00<?, ?it/s]"
      ]
     },
     "metadata": {},
     "output_type": "display_data"
    },
    {
     "name": "stdout",
     "output_type": "stream",
     "text": [
      "CUDA error: device-side assert triggered\n",
      "CUDA kernel errors might be asynchronously reported at some other API call, so the stacktrace below might be incorrect.\n",
      "For debugging consider passing CUDA_LAUNCH_BLOCKING=1.\n",
      "Compile with `TORCH_USE_CUDA_DSA` to enable device-side assertions.\n",
      "\n",
      "Atoms(symbols='Sg2', pbc=True, cell=[12.0, 12.001, 12.002])\n"
     ]
    },
    {
     "data": {
      "application/vnd.jupyter.widget-view+json": {
       "model_id": "95b45f7f261b48edb9913800a68034a7",
       "version_major": 2,
       "version_minor": 0
      },
      "text/plain": [
       "  0%|          | 0/582 [00:00<?, ?it/s]"
      ]
     },
     "metadata": {},
     "output_type": "display_data"
    },
    {
     "name": "stdout",
     "output_type": "stream",
     "text": [
      "CUDA error: device-side assert triggered\n",
      "CUDA kernel errors might be asynchronously reported at some other API call, so the stacktrace below might be incorrect.\n",
      "For debugging consider passing CUDA_LAUNCH_BLOCKING=1.\n",
      "Compile with `TORCH_USE_CUDA_DSA` to enable device-side assertions.\n",
      "\n",
      "Atoms(symbols='Bh2', pbc=True, cell=[12.0, 12.001, 12.002])\n"
     ]
    },
    {
     "data": {
      "application/vnd.jupyter.widget-view+json": {
       "model_id": "082ed6db90a7476aa84c249f2fa31a6d",
       "version_major": 2,
       "version_minor": 0
      },
      "text/plain": [
       "  0%|          | 0/582 [00:00<?, ?it/s]"
      ]
     },
     "metadata": {},
     "output_type": "display_data"
    },
    {
     "name": "stdout",
     "output_type": "stream",
     "text": [
      "CUDA error: device-side assert triggered\n",
      "CUDA kernel errors might be asynchronously reported at some other API call, so the stacktrace below might be incorrect.\n",
      "For debugging consider passing CUDA_LAUNCH_BLOCKING=1.\n",
      "Compile with `TORCH_USE_CUDA_DSA` to enable device-side assertions.\n",
      "\n",
      "Atoms(symbols='Hs2', pbc=True, cell=[12.0, 12.001, 12.002])\n"
     ]
    },
    {
     "data": {
      "application/vnd.jupyter.widget-view+json": {
       "model_id": "1bdf7d6eeeaf4b78a3a3d6383f4aab13",
       "version_major": 2,
       "version_minor": 0
      },
      "text/plain": [
       "  0%|          | 0/582 [00:00<?, ?it/s]"
      ]
     },
     "metadata": {},
     "output_type": "display_data"
    },
    {
     "name": "stdout",
     "output_type": "stream",
     "text": [
      "CUDA error: device-side assert triggered\n",
      "CUDA kernel errors might be asynchronously reported at some other API call, so the stacktrace below might be incorrect.\n",
      "For debugging consider passing CUDA_LAUNCH_BLOCKING=1.\n",
      "Compile with `TORCH_USE_CUDA_DSA` to enable device-side assertions.\n",
      "\n",
      "Atoms(symbols='Mt2', pbc=True, cell=[12.0, 12.001, 12.002])\n"
     ]
    },
    {
     "data": {
      "application/vnd.jupyter.widget-view+json": {
       "model_id": "e7558626dbc342ccaf5b37541c8e1575",
       "version_major": 2,
       "version_minor": 0
      },
      "text/plain": [
       "  0%|          | 0/582 [00:00<?, ?it/s]"
      ]
     },
     "metadata": {},
     "output_type": "display_data"
    },
    {
     "name": "stdout",
     "output_type": "stream",
     "text": [
      "CUDA error: device-side assert triggered\n",
      "CUDA kernel errors might be asynchronously reported at some other API call, so the stacktrace below might be incorrect.\n",
      "For debugging consider passing CUDA_LAUNCH_BLOCKING=1.\n",
      "Compile with `TORCH_USE_CUDA_DSA` to enable device-side assertions.\n",
      "\n",
      "Atoms(symbols='Ds2', pbc=True, cell=[12.0, 12.001, 12.002])\n"
     ]
    },
    {
     "data": {
      "application/vnd.jupyter.widget-view+json": {
       "model_id": "ac000438284a47f2b45e212225141349",
       "version_major": 2,
       "version_minor": 0
      },
      "text/plain": [
       "  0%|          | 0/582 [00:00<?, ?it/s]"
      ]
     },
     "metadata": {},
     "output_type": "display_data"
    },
    {
     "name": "stdout",
     "output_type": "stream",
     "text": [
      "CUDA error: device-side assert triggered\n",
      "CUDA kernel errors might be asynchronously reported at some other API call, so the stacktrace below might be incorrect.\n",
      "For debugging consider passing CUDA_LAUNCH_BLOCKING=1.\n",
      "Compile with `TORCH_USE_CUDA_DSA` to enable device-side assertions.\n",
      "\n",
      "Atoms(symbols='Rg2', pbc=True, cell=[12.0, 12.001, 12.002])\n"
     ]
    },
    {
     "data": {
      "application/vnd.jupyter.widget-view+json": {
       "model_id": "a7d6ab0bbd4149b1a27563d45cf7715d",
       "version_major": 2,
       "version_minor": 0
      },
      "text/plain": [
       "  0%|          | 0/582 [00:00<?, ?it/s]"
      ]
     },
     "metadata": {},
     "output_type": "display_data"
    },
    {
     "name": "stdout",
     "output_type": "stream",
     "text": [
      "CUDA error: device-side assert triggered\n",
      "CUDA kernel errors might be asynchronously reported at some other API call, so the stacktrace below might be incorrect.\n",
      "For debugging consider passing CUDA_LAUNCH_BLOCKING=1.\n",
      "Compile with `TORCH_USE_CUDA_DSA` to enable device-side assertions.\n",
      "\n",
      "Atoms(symbols='Cn2', pbc=True, cell=[12.0, 12.001, 12.002])\n"
     ]
    },
    {
     "data": {
      "application/vnd.jupyter.widget-view+json": {
       "model_id": "457140990a5f47ad9e7047cb6006056f",
       "version_major": 2,
       "version_minor": 0
      },
      "text/plain": [
       "  0%|          | 0/582 [00:00<?, ?it/s]"
      ]
     },
     "metadata": {},
     "output_type": "display_data"
    },
    {
     "name": "stdout",
     "output_type": "stream",
     "text": [
      "CUDA error: device-side assert triggered\n",
      "CUDA kernel errors might be asynchronously reported at some other API call, so the stacktrace below might be incorrect.\n",
      "For debugging consider passing CUDA_LAUNCH_BLOCKING=1.\n",
      "Compile with `TORCH_USE_CUDA_DSA` to enable device-side assertions.\n",
      "\n",
      "Atoms(symbols='Nh2', pbc=True, cell=[12.0, 12.001, 12.002])\n"
     ]
    },
    {
     "data": {
      "application/vnd.jupyter.widget-view+json": {
       "model_id": "9db17a0c4cb84a6d9d6bd8752d5d18c6",
       "version_major": 2,
       "version_minor": 0
      },
      "text/plain": [
       "  0%|          | 0/582 [00:00<?, ?it/s]"
      ]
     },
     "metadata": {},
     "output_type": "display_data"
    },
    {
     "name": "stdout",
     "output_type": "stream",
     "text": [
      "CUDA error: device-side assert triggered\n",
      "CUDA kernel errors might be asynchronously reported at some other API call, so the stacktrace below might be incorrect.\n",
      "For debugging consider passing CUDA_LAUNCH_BLOCKING=1.\n",
      "Compile with `TORCH_USE_CUDA_DSA` to enable device-side assertions.\n",
      "\n",
      "Atoms(symbols='Fl2', pbc=True, cell=[12.0, 12.001, 12.002])\n"
     ]
    },
    {
     "data": {
      "application/vnd.jupyter.widget-view+json": {
       "model_id": "bacec72e6c8c4dd2bb2d582180ca2f60",
       "version_major": 2,
       "version_minor": 0
      },
      "text/plain": [
       "  0%|          | 0/582 [00:00<?, ?it/s]"
      ]
     },
     "metadata": {},
     "output_type": "display_data"
    },
    {
     "name": "stdout",
     "output_type": "stream",
     "text": [
      "CUDA error: device-side assert triggered\n",
      "CUDA kernel errors might be asynchronously reported at some other API call, so the stacktrace below might be incorrect.\n",
      "For debugging consider passing CUDA_LAUNCH_BLOCKING=1.\n",
      "Compile with `TORCH_USE_CUDA_DSA` to enable device-side assertions.\n",
      "\n",
      "Atoms(symbols='Mc2', pbc=True, cell=[12.0, 12.001, 12.002])\n"
     ]
    },
    {
     "data": {
      "application/vnd.jupyter.widget-view+json": {
       "model_id": "d8b2f170eb334afab30b7409d3f8c58b",
       "version_major": 2,
       "version_minor": 0
      },
      "text/plain": [
       "  0%|          | 0/582 [00:00<?, ?it/s]"
      ]
     },
     "metadata": {},
     "output_type": "display_data"
    },
    {
     "name": "stdout",
     "output_type": "stream",
     "text": [
      "CUDA error: device-side assert triggered\n",
      "CUDA kernel errors might be asynchronously reported at some other API call, so the stacktrace below might be incorrect.\n",
      "For debugging consider passing CUDA_LAUNCH_BLOCKING=1.\n",
      "Compile with `TORCH_USE_CUDA_DSA` to enable device-side assertions.\n",
      "\n",
      "Atoms(symbols='Lv2', pbc=True, cell=[12.0, 12.001, 12.002])\n"
     ]
    },
    {
     "data": {
      "application/vnd.jupyter.widget-view+json": {
       "model_id": "7e3cbc309764417ab4b4585b6a5280d9",
       "version_major": 2,
       "version_minor": 0
      },
      "text/plain": [
       "  0%|          | 0/582 [00:00<?, ?it/s]"
      ]
     },
     "metadata": {},
     "output_type": "display_data"
    },
    {
     "name": "stdout",
     "output_type": "stream",
     "text": [
      "CUDA error: device-side assert triggered\n",
      "CUDA kernel errors might be asynchronously reported at some other API call, so the stacktrace below might be incorrect.\n",
      "For debugging consider passing CUDA_LAUNCH_BLOCKING=1.\n",
      "Compile with `TORCH_USE_CUDA_DSA` to enable device-side assertions.\n",
      "\n",
      "Atoms(symbols='Ts2', pbc=True, cell=[12.0, 12.001, 12.002])\n"
     ]
    },
    {
     "data": {
      "application/vnd.jupyter.widget-view+json": {
       "model_id": "280942de0d284c13bfb0e87f8865a5f9",
       "version_major": 2,
       "version_minor": 0
      },
      "text/plain": [
       "  0%|          | 0/582 [00:00<?, ?it/s]"
      ]
     },
     "metadata": {},
     "output_type": "display_data"
    },
    {
     "name": "stdout",
     "output_type": "stream",
     "text": [
      "CUDA error: device-side assert triggered\n",
      "CUDA kernel errors might be asynchronously reported at some other API call, so the stacktrace below might be incorrect.\n",
      "For debugging consider passing CUDA_LAUNCH_BLOCKING=1.\n",
      "Compile with `TORCH_USE_CUDA_DSA` to enable device-side assertions.\n",
      "\n",
      "Atoms(symbols='Og2', pbc=True, cell=[12.0, 12.001, 12.002])\n"
     ]
    },
    {
     "data": {
      "application/vnd.jupyter.widget-view+json": {
       "model_id": "d255dfff643f481486ec79c4f149f763",
       "version_major": 2,
       "version_minor": 0
      },
      "text/plain": [
       "  0%|          | 0/582 [00:00<?, ?it/s]"
      ]
     },
     "metadata": {},
     "output_type": "display_data"
    },
    {
     "name": "stdout",
     "output_type": "stream",
     "text": [
      "CUDA error: device-side assert triggered\n",
      "CUDA kernel errors might be asynchronously reported at some other API call, so the stacktrace below might be incorrect.\n",
      "For debugging consider passing CUDA_LAUNCH_BLOCKING=1.\n",
      "Compile with `TORCH_USE_CUDA_DSA` to enable device-side assertions.\n",
      "\n"
     ]
    }
   ],
   "source": [
    "for model in MLIPEnum:\n",
    "    \n",
    "    model_name = model.name\n",
    "    \n",
    "    print(f\"========== {model_name} ==========\")\n",
    "\n",
    "    calc = MLIPEnum[model_name].value()\n",
    "\n",
    "    for symbol in tqdm(chemical_symbols[1:]):\n",
    "\n",
    "        s = set([symbol])\n",
    "\n",
    "        if \"X\" in s:\n",
    "            continue\n",
    "\n",
    "        try:\n",
    "            atom = Atom(symbol)\n",
    "            rmin = 0.9 * covalent_radii[atom.number]\n",
    "            rvdw = vdw_alvarez.vdw_radii[atom.number] if atom.number < len(vdw_alvarez.vdw_radii) else np.nan\n",
    "            rmax = 3.1 * rvdw if not np.isnan(rvdw) else 6\n",
    "            rstep = 0.01\n",
    "\n",
    "            a = 2 * rmax\n",
    "\n",
    "            npts = int((rmax - rmin)/rstep)\n",
    "\n",
    "            rs = np.linspace(rmin, rmax, npts)\n",
    "            es = np.zeros_like(rs)\n",
    "\n",
    "            da = symbol + symbol\n",
    "\n",
    "            out_dir = Path(REGISTRY[model_name][\"family\"]) / str(da)\n",
    "            os.makedirs(out_dir, exist_ok=True)\n",
    "\n",
    "            skip = 0\n",
    "\n",
    "            element = Element(symbol)\n",
    "\n",
    "            try:\n",
    "                m = element.valence[1]\n",
    "                if element.valence == (0, 2):\n",
    "                    m = 0\n",
    "            except:\n",
    "                m = 0\n",
    "\n",
    "\n",
    "            r = rs[0]\n",
    "\n",
    "            positions = [\n",
    "                [a/2-r/2, a/2, a/2],\n",
    "                [a/2+r/2, a/2, a/2],\n",
    "            ]\n",
    "\n",
    "            traj_fpath = out_dir / f\"{model_name}.extxyz\"\n",
    "\n",
    "            if traj_fpath.exists():\n",
    "                traj = read(traj_fpath, index=\":\")\n",
    "                skip = len(traj)\n",
    "                atoms = traj[-1]\n",
    "            else:\n",
    "                # Create the unit cell with two atoms\n",
    "                atoms = Atoms(\n",
    "                    da,\n",
    "                    positions=positions,\n",
    "                    # magmoms=magmoms,\n",
    "                    cell=[a, a+0.001, a+0.002],\n",
    "                    pbc=True\n",
    "                )\n",
    "\n",
    "            print(atoms)\n",
    "\n",
    "            atoms.calc = calc\n",
    "\n",
    "            for i, r in enumerate(tqdm(rs)):\n",
    "\n",
    "                if i < skip:\n",
    "                    continue\n",
    "\n",
    "                positions = [\n",
    "                    [a/2-r/2, a/2, a/2],\n",
    "                    [a/2+r/2, a/2, a/2],\n",
    "                ]\n",
    "\n",
    "                # atoms.set_initial_magnetic_moments(magmoms)\n",
    "\n",
    "                atoms.set_positions(positions)\n",
    "\n",
    "                es[i] = atoms.get_potential_energy()\n",
    "\n",
    "                write(traj_fpath, atoms, append=\"a\")\n",
    "        except Exception as e:\n",
    "            print(e)\n"
   ]
  },
  {
   "cell_type": "code",
   "execution_count": 3,
   "id": "a0ac2c09-370b-4fdd-bf74-ea5c4ade0215",
   "metadata": {
    "tags": []
   },
   "outputs": [
    {
     "name": "stdout",
     "output_type": "stream",
     "text": [
      "========== eSCN(OC20) ==========\n"
     ]
    },
    {
     "data": {
      "application/vnd.jupyter.widget-view+json": {
       "model_id": "4b2d8cd4d5684d739de0cf3534849fe0",
       "version_major": 2,
       "version_minor": 0
      },
      "text/plain": [
       "  0%|          | 0/118 [00:00<?, ?it/s]"
      ]
     },
     "metadata": {},
     "output_type": "display_data"
    },
    {
     "name": "stderr",
     "output_type": "stream",
     "text": [
      "/tmp/ipykernel_337193/1177231743.py:116: FutureWarning: The behavior of DataFrame concatenation with empty or all-NA entries is deprecated. In a future version, this will no longer exclude empty or all-NA columns when determining the result dtypes. To retain the old behavior, exclude the relevant entries before the concat operation.\n",
      "  df = pd.concat([df, pd.DataFrame([data])], ignore_index=True)\n"
     ]
    }
   ],
   "source": [
    "\n",
    "\n",
    "for model in MLIPEnum:\n",
    "    \n",
    "    model_name = model.name\n",
    "    \n",
    "#     json_fpath = Path(REGISTRY[model_name][\"family\"]) / \"homonuclear-diatomics.json\"\n",
    "    \n",
    "#     if json_fpath.exists():\n",
    "#         continue\n",
    "    \n",
    "    print(f\"========== {model_name} ==========\")\n",
    "    \n",
    "    df = pd.DataFrame(columns=[\n",
    "        \"name\", \n",
    "        \"method\", \n",
    "        \"R\", \"E\", \"F\", \"S^2\", \n",
    "        \"force-flip-times\",\n",
    "        \"force-total-variation\",\n",
    "        \"energy-diff-flip-times\",\n",
    "        \"energy-grad-norm-max\",\n",
    "        \"energy-jump\",\n",
    "        \"energy-total-variation\",\n",
    "        \"tortuosity\",\n",
    "        \"conservation-deviation\",\n",
    "        \"spearman-descending-force\",\n",
    "        \"spearman-ascending-force\",\n",
    "        \"spearman-repulsion-energy\",\n",
    "        \"spearman-attraction-energy\"\n",
    "    ])\n",
    "    \n",
    "\n",
    "    for symbol in tqdm(chemical_symbols[1:]):\n",
    "\n",
    "        da = symbol + symbol\n",
    "\n",
    "        out_dir = Path(REGISTRY[model_name][\"family\"]) / da\n",
    "\n",
    "        traj_fpath = out_dir / f\"{model_name}.extxyz\"\n",
    "\n",
    "\n",
    "        if traj_fpath.exists():\n",
    "            traj = read(traj_fpath, index=\":\")\n",
    "        else:\n",
    "            continue\n",
    "\n",
    "        Rs, Es, Fs, S2s = [], [], [], []\n",
    "        for atoms in traj:\n",
    "\n",
    "            vec = atoms.positions[1] - atoms.positions[0]\n",
    "            r = np.linalg.norm(vec)\n",
    "            e = atoms.get_potential_energy()\n",
    "            f = np.inner(vec/r, atoms.get_forces()[1])\n",
    "            # s2 = np.mean(np.power(atoms.get_magnetic_moments(), 2))\n",
    "\n",
    "            Rs.append(r)\n",
    "            Es.append(e)\n",
    "            Fs.append(f)\n",
    "            # S2s.append(s2)\n",
    "\n",
    "        rs = np.array(Rs)\n",
    "        es = np.array(Es)\n",
    "        fs = np.array(Fs)\n",
    "\n",
    "        indices = np.argsort(rs)[::-1]\n",
    "        rs = rs[indices]\n",
    "        es = es[indices]\n",
    "        fs = fs[indices]\n",
    "\n",
    "        iminf = np.argmin(fs)\n",
    "        imine = np.argmin(es)\n",
    "\n",
    "        de_dr = np.gradient(es, rs)\n",
    "        d2e_dr2 = np.gradient(de_dr, rs)\n",
    "\n",
    "        rounded_fs = np.copy(fs)\n",
    "        rounded_fs[np.abs(rounded_fs) < 1e-2] = 0\n",
    "        fs_sign = np.sign(rounded_fs)\n",
    "        fs_sign = fs_sign[fs_sign != 0]\n",
    "\n",
    "        # rounded_ediff = np.diff(es)\n",
    "        # rounded_ediff[np.abs(rounded_ediff) < zero_threshold] = 0\n",
    "        ediff = np.diff(es)\n",
    "        ediff[np.abs(ediff) < 1e-3] = 0\n",
    "        ediff_sign = np.sign(ediff)\n",
    "        mask = ediff_sign != 0\n",
    "        ediff = ediff[mask]\n",
    "        ediff_sign = ediff_sign[mask]\n",
    "        ediff_flip = np.diff(ediff_sign) != 0\n",
    "        ejump = np.abs(ediff[:-1][ediff_flip]).sum() + np.abs(ediff[1:][ediff_flip]).sum()\n",
    "\n",
    "        conservation_deviation = np.mean(np.abs(fs + de_dr))\n",
    "        \n",
    "        etv = np.sum(np.abs(np.diff(es)))\n",
    "\n",
    "        data = {\n",
    "            \"name\": da,\n",
    "            \"method\": model_name,\n",
    "            \"R\": rs,\n",
    "            \"E\": es,\n",
    "            \"F\": fs,\n",
    "            \"S^2\": S2s,\n",
    "            \"force-flip-times\": np.sum(np.diff(fs_sign)!=0),\n",
    "            \"force-total-variation\": np.sum(np.abs(np.diff(fs))),\n",
    "            \"energy-diff-flip-times\": np.sum(ediff_flip),\n",
    "            \"energy-grad-norm-max\": np.max(np.abs(de_dr)),\n",
    "            \"energy-jump\": ejump,\n",
    "            # \"energy-grad-norm-mean\": np.mean(de_dr_abs),\n",
    "            \"energy-total-variation\": etv,\n",
    "            \"tortuosity\": etv / (abs(es[0] - es.min()) + (es[-1] - es.min())),\n",
    "            \"conservation-deviation\": conservation_deviation,\n",
    "            \"spearman-descending-force\": stats.spearmanr(rs[iminf:], fs[iminf:]).statistic,\n",
    "            \"spearman-ascending-force\": stats.spearmanr(rs[:iminf], fs[:iminf]).statistic,\n",
    "            \"spearman-repulsion-energy\": stats.spearmanr(rs[imine:], es[imine:]).statistic,\n",
    "            \"spearman-attraction-energy\": stats.spearmanr(rs[:imine], es[:imine]).statistic,\n",
    "        }\n",
    "\n",
    "        df = pd.concat([df, pd.DataFrame([data])], ignore_index=True)\n",
    "\n",
    "\n",
    "    json_fpath = Path(REGISTRY[model_name][\"family\"]) / \"homonuclear-diatomics.json\"\n",
    "\n",
    "    if json_fpath.exists():\n",
    "        df0 = pd.read_json(json_fpath)\n",
    "        df = pd.concat([df0, df], ignore_index=True)\n",
    "        df.drop_duplicates(inplace=True, subset=[\"name\", \"method\"], keep='last')\n",
    "\n",
    "    df.to_json(json_fpath, orient=\"records\")"
   ]
  },
  {
   "cell_type": "code",
   "execution_count": 5,
   "id": "e0dd4367-3dca-440f-a7a9-7fdd84183f2c",
   "metadata": {
    "tags": []
   },
   "outputs": [
    {
     "data": {
      "text/html": [
       "<div>\n",
       "<style scoped>\n",
       "    .dataframe tbody tr th:only-of-type {\n",
       "        vertical-align: middle;\n",
       "    }\n",
       "\n",
       "    .dataframe tbody tr th {\n",
       "        vertical-align: top;\n",
       "    }\n",
       "\n",
       "    .dataframe thead th {\n",
       "        text-align: right;\n",
       "    }\n",
       "</style>\n",
       "<table border=\"1\" class=\"dataframe\">\n",
       "  <thead>\n",
       "    <tr style=\"text-align: right;\">\n",
       "      <th></th>\n",
       "      <th>name</th>\n",
       "      <th>method</th>\n",
       "      <th>R</th>\n",
       "      <th>E</th>\n",
       "      <th>F</th>\n",
       "      <th>S^2</th>\n",
       "      <th>force-flip-times</th>\n",
       "      <th>force-total-variation</th>\n",
       "      <th>energy-diff-flip-times</th>\n",
       "      <th>energy-grad-norm-max</th>\n",
       "      <th>energy-jump</th>\n",
       "      <th>energy-total-variation</th>\n",
       "      <th>conservation-deviation</th>\n",
       "      <th>spearman-descending-force</th>\n",
       "      <th>spearman-ascending-force</th>\n",
       "      <th>spearman-repulsion-energy</th>\n",
       "      <th>spearman-attraction-energy</th>\n",
       "      <th>tortuosity</th>\n",
       "    </tr>\n",
       "  </thead>\n",
       "  <tbody>\n",
       "    <tr>\n",
       "      <th>118</th>\n",
       "      <td>HH</td>\n",
       "      <td>ALIGNN</td>\n",
       "      <td>[3.7199999999999998, 3.70996794, 3.69993586, 3...</td>\n",
       "      <td>[-1.2249419689178467, -1.2238645553588867, -1....</td>\n",
       "      <td>[1.91e-06, 0.00826454, 0.00533009, -0.00355052...</td>\n",
       "      <td>[]</td>\n",
       "      <td>29</td>\n",
       "      <td>443.614255</td>\n",
       "      <td>30</td>\n",
       "      <td>40.656501</td>\n",
       "      <td>4.074248</td>\n",
       "      <td>13.676080</td>\n",
       "      <td>2.022960</td>\n",
       "      <td>-0.200684</td>\n",
       "      <td>-0.119952</td>\n",
       "      <td>-0.986572</td>\n",
       "      <td>0.844786</td>\n",
       "      <td>1.797762</td>\n",
       "    </tr>\n",
       "    <tr>\n",
       "      <th>119</th>\n",
       "      <td>HeHe</td>\n",
       "      <td>ALIGNN</td>\n",
       "      <td>[4.433, 4.4229736200000005, 4.41294724, 4.4029...</td>\n",
       "      <td>[2.4748411178588867, 2.4748411178588867, 2.474...</td>\n",
       "      <td>[0.0, -1e-08, 0.0, 0.0, 1e-08, 0.0, 0.0, 0.0, ...</td>\n",
       "      <td>[]</td>\n",
       "      <td>44</td>\n",
       "      <td>1448.979436</td>\n",
       "      <td>43</td>\n",
       "      <td>160.175544</td>\n",
       "      <td>13.831072</td>\n",
       "      <td>32.544741</td>\n",
       "      <td>4.849522</td>\n",
       "      <td>-0.021494</td>\n",
       "      <td>-0.195001</td>\n",
       "      <td>-0.720218</td>\n",
       "      <td>0.609519</td>\n",
       "      <td>3.921846</td>\n",
       "    </tr>\n",
       "    <tr>\n",
       "      <th>120</th>\n",
       "      <td>LiLi</td>\n",
       "      <td>ALIGNN</td>\n",
       "      <td>[6.572000000000001, 6.561981520000001, 6.55196...</td>\n",
       "      <td>[-0.21738338470458984, -0.21738338470458984, -...</td>\n",
       "      <td>[0.0, 0.0, 0.0, 0.0, 0.0, 0.0, 0.0, 0.0, 0.0, ...</td>\n",
       "      <td>[]</td>\n",
       "      <td>22</td>\n",
       "      <td>1127.749591</td>\n",
       "      <td>20</td>\n",
       "      <td>281.659136</td>\n",
       "      <td>2.067203</td>\n",
       "      <td>20.053466</td>\n",
       "      <td>2.469147</td>\n",
       "      <td>-0.714286</td>\n",
       "      <td>-0.444127</td>\n",
       "      <td>-0.991010</td>\n",
       "      <td>-0.654715</td>\n",
       "      <td>1.386696</td>\n",
       "    </tr>\n",
       "    <tr>\n",
       "      <th>121</th>\n",
       "      <td>BeBe</td>\n",
       "      <td>ALIGNN</td>\n",
       "      <td>[6.138000000000001, 6.12797338, 6.117946759999...</td>\n",
       "      <td>[2.665587902069092, 2.665587902069092, 2.66558...</td>\n",
       "      <td>[0.0, 0.0, 0.0, 0.0, 1e-08, 0.0, 0.0, 0.0, 0.0...</td>\n",
       "      <td>[]</td>\n",
       "      <td>25</td>\n",
       "      <td>1645.960357</td>\n",
       "      <td>21</td>\n",
       "      <td>145.040462</td>\n",
       "      <td>9.422094</td>\n",
       "      <td>51.647955</td>\n",
       "      <td>5.076523</td>\n",
       "      <td>0.544090</td>\n",
       "      <td>-0.158055</td>\n",
       "      <td>-0.989962</td>\n",
       "      <td>0.342476</td>\n",
       "      <td>1.715953</td>\n",
       "    </tr>\n",
       "    <tr>\n",
       "      <th>122</th>\n",
       "      <td>BB</td>\n",
       "      <td>ALIGNN</td>\n",
       "      <td>[5.921000000000001, 5.91097088, 5.900941739999...</td>\n",
       "      <td>[0.6220548152923584, 0.6220548152923584, 0.622...</td>\n",
       "      <td>[0.0, 0.0, 1e-08, 0.0, 0.0, 1e-08, -1e-08, -1e...</td>\n",
       "      <td>[]</td>\n",
       "      <td>35</td>\n",
       "      <td>1811.413732</td>\n",
       "      <td>36</td>\n",
       "      <td>131.340791</td>\n",
       "      <td>13.088368</td>\n",
       "      <td>52.691856</td>\n",
       "      <td>5.551787</td>\n",
       "      <td>0.052632</td>\n",
       "      <td>-0.171460</td>\n",
       "      <td>-0.985024</td>\n",
       "      <td>0.757880</td>\n",
       "      <td>1.617372</td>\n",
       "    </tr>\n",
       "    <tr>\n",
       "      <th>...</th>\n",
       "      <td>...</td>\n",
       "      <td>...</td>\n",
       "      <td>...</td>\n",
       "      <td>...</td>\n",
       "      <td>...</td>\n",
       "      <td>...</td>\n",
       "      <td>...</td>\n",
       "      <td>...</td>\n",
       "      <td>...</td>\n",
       "      <td>...</td>\n",
       "      <td>...</td>\n",
       "      <td>...</td>\n",
       "      <td>...</td>\n",
       "      <td>...</td>\n",
       "      <td>...</td>\n",
       "      <td>...</td>\n",
       "      <td>...</td>\n",
       "      <td>...</td>\n",
       "    </tr>\n",
       "    <tr>\n",
       "      <th>231</th>\n",
       "      <td>FlFl</td>\n",
       "      <td>ALIGNN</td>\n",
       "      <td>[6.0, 5.989982779999999, 5.979965579999999, 5....</td>\n",
       "      <td>[-10.127323150634766, -10.127323150634766, -10...</td>\n",
       "      <td>[0.0, 0.0, -9.5e-07, 0.0, 0.0, 0.0, 0.0, 9.5e-...</td>\n",
       "      <td>[]</td>\n",
       "      <td>39</td>\n",
       "      <td>3329.770831</td>\n",
       "      <td>44</td>\n",
       "      <td>181.338142</td>\n",
       "      <td>12.292844</td>\n",
       "      <td>84.239434</td>\n",
       "      <td>8.151059</td>\n",
       "      <td>-0.249255</td>\n",
       "      <td>-0.316556</td>\n",
       "      <td>-0.946770</td>\n",
       "      <td>0.159576</td>\n",
       "      <td>2.694147</td>\n",
       "    </tr>\n",
       "    <tr>\n",
       "      <th>232</th>\n",
       "      <td>McMc</td>\n",
       "      <td>ALIGNN</td>\n",
       "      <td>[6.0, 5.989982779999999, 5.979965579999999, 5....</td>\n",
       "      <td>[-10.127323150634766, -10.127323150634766, -10...</td>\n",
       "      <td>[0.0, 0.0, -9.5e-07, 0.0, 0.0, 0.0, 0.0, 9.5e-...</td>\n",
       "      <td>[]</td>\n",
       "      <td>39</td>\n",
       "      <td>3329.770831</td>\n",
       "      <td>44</td>\n",
       "      <td>181.338142</td>\n",
       "      <td>12.292844</td>\n",
       "      <td>84.239434</td>\n",
       "      <td>8.151059</td>\n",
       "      <td>-0.249255</td>\n",
       "      <td>-0.316556</td>\n",
       "      <td>-0.946770</td>\n",
       "      <td>0.159576</td>\n",
       "      <td>2.694147</td>\n",
       "    </tr>\n",
       "    <tr>\n",
       "      <th>233</th>\n",
       "      <td>LvLv</td>\n",
       "      <td>ALIGNN</td>\n",
       "      <td>[6.0, 5.989982779999999, 5.979965579999999, 5....</td>\n",
       "      <td>[-10.127323150634766, -10.127323150634766, -10...</td>\n",
       "      <td>[0.0, 0.0, -9.5e-07, 0.0, 0.0, 0.0, 0.0, 9.5e-...</td>\n",
       "      <td>[]</td>\n",
       "      <td>39</td>\n",
       "      <td>3329.770831</td>\n",
       "      <td>44</td>\n",
       "      <td>181.338142</td>\n",
       "      <td>12.292844</td>\n",
       "      <td>84.239434</td>\n",
       "      <td>8.151059</td>\n",
       "      <td>-0.249255</td>\n",
       "      <td>-0.316556</td>\n",
       "      <td>-0.946770</td>\n",
       "      <td>0.159576</td>\n",
       "      <td>2.694147</td>\n",
       "    </tr>\n",
       "    <tr>\n",
       "      <th>234</th>\n",
       "      <td>TsTs</td>\n",
       "      <td>ALIGNN</td>\n",
       "      <td>[6.0, 5.989982779999999, 5.979965579999999, 5....</td>\n",
       "      <td>[-10.127323150634766, -10.127323150634766, -10...</td>\n",
       "      <td>[0.0, 0.0, -9.5e-07, 0.0, 0.0, 0.0, 0.0, 9.5e-...</td>\n",
       "      <td>[]</td>\n",
       "      <td>39</td>\n",
       "      <td>3329.770831</td>\n",
       "      <td>44</td>\n",
       "      <td>181.338142</td>\n",
       "      <td>12.292844</td>\n",
       "      <td>84.239434</td>\n",
       "      <td>8.151059</td>\n",
       "      <td>-0.249255</td>\n",
       "      <td>-0.316556</td>\n",
       "      <td>-0.946770</td>\n",
       "      <td>0.159576</td>\n",
       "      <td>2.694147</td>\n",
       "    </tr>\n",
       "    <tr>\n",
       "      <th>235</th>\n",
       "      <td>OgOg</td>\n",
       "      <td>ALIGNN</td>\n",
       "      <td>[6.0, 5.989982779999999, 5.979965579999999, 5....</td>\n",
       "      <td>[-10.127323150634766, -10.127323150634766, -10...</td>\n",
       "      <td>[0.0, 0.0, -9.5e-07, 0.0, 0.0, 0.0, 0.0, 9.5e-...</td>\n",
       "      <td>[]</td>\n",
       "      <td>39</td>\n",
       "      <td>3329.770831</td>\n",
       "      <td>44</td>\n",
       "      <td>181.338142</td>\n",
       "      <td>12.292844</td>\n",
       "      <td>84.239434</td>\n",
       "      <td>8.151059</td>\n",
       "      <td>-0.249255</td>\n",
       "      <td>-0.316556</td>\n",
       "      <td>-0.946770</td>\n",
       "      <td>0.159576</td>\n",
       "      <td>2.694147</td>\n",
       "    </tr>\n",
       "  </tbody>\n",
       "</table>\n",
       "<p>118 rows × 18 columns</p>\n",
       "</div>"
      ],
      "text/plain": [
       "     name  method                                                  R  \\\n",
       "118    HH  ALIGNN  [3.7199999999999998, 3.70996794, 3.69993586, 3...   \n",
       "119  HeHe  ALIGNN  [4.433, 4.4229736200000005, 4.41294724, 4.4029...   \n",
       "120  LiLi  ALIGNN  [6.572000000000001, 6.561981520000001, 6.55196...   \n",
       "121  BeBe  ALIGNN  [6.138000000000001, 6.12797338, 6.117946759999...   \n",
       "122    BB  ALIGNN  [5.921000000000001, 5.91097088, 5.900941739999...   \n",
       "..    ...     ...                                                ...   \n",
       "231  FlFl  ALIGNN  [6.0, 5.989982779999999, 5.979965579999999, 5....   \n",
       "232  McMc  ALIGNN  [6.0, 5.989982779999999, 5.979965579999999, 5....   \n",
       "233  LvLv  ALIGNN  [6.0, 5.989982779999999, 5.979965579999999, 5....   \n",
       "234  TsTs  ALIGNN  [6.0, 5.989982779999999, 5.979965579999999, 5....   \n",
       "235  OgOg  ALIGNN  [6.0, 5.989982779999999, 5.979965579999999, 5....   \n",
       "\n",
       "                                                     E  \\\n",
       "118  [-1.2249419689178467, -1.2238645553588867, -1....   \n",
       "119  [2.4748411178588867, 2.4748411178588867, 2.474...   \n",
       "120  [-0.21738338470458984, -0.21738338470458984, -...   \n",
       "121  [2.665587902069092, 2.665587902069092, 2.66558...   \n",
       "122  [0.6220548152923584, 0.6220548152923584, 0.622...   \n",
       "..                                                 ...   \n",
       "231  [-10.127323150634766, -10.127323150634766, -10...   \n",
       "232  [-10.127323150634766, -10.127323150634766, -10...   \n",
       "233  [-10.127323150634766, -10.127323150634766, -10...   \n",
       "234  [-10.127323150634766, -10.127323150634766, -10...   \n",
       "235  [-10.127323150634766, -10.127323150634766, -10...   \n",
       "\n",
       "                                                     F S^2 force-flip-times  \\\n",
       "118  [1.91e-06, 0.00826454, 0.00533009, -0.00355052...  []               29   \n",
       "119  [0.0, -1e-08, 0.0, 0.0, 1e-08, 0.0, 0.0, 0.0, ...  []               44   \n",
       "120  [0.0, 0.0, 0.0, 0.0, 0.0, 0.0, 0.0, 0.0, 0.0, ...  []               22   \n",
       "121  [0.0, 0.0, 0.0, 0.0, 1e-08, 0.0, 0.0, 0.0, 0.0...  []               25   \n",
       "122  [0.0, 0.0, 1e-08, 0.0, 0.0, 1e-08, -1e-08, -1e...  []               35   \n",
       "..                                                 ...  ..              ...   \n",
       "231  [0.0, 0.0, -9.5e-07, 0.0, 0.0, 0.0, 0.0, 9.5e-...  []               39   \n",
       "232  [0.0, 0.0, -9.5e-07, 0.0, 0.0, 0.0, 0.0, 9.5e-...  []               39   \n",
       "233  [0.0, 0.0, -9.5e-07, 0.0, 0.0, 0.0, 0.0, 9.5e-...  []               39   \n",
       "234  [0.0, 0.0, -9.5e-07, 0.0, 0.0, 0.0, 0.0, 9.5e-...  []               39   \n",
       "235  [0.0, 0.0, -9.5e-07, 0.0, 0.0, 0.0, 0.0, 9.5e-...  []               39   \n",
       "\n",
       "     force-total-variation energy-diff-flip-times  energy-grad-norm-max  \\\n",
       "118             443.614255                     30             40.656501   \n",
       "119            1448.979436                     43            160.175544   \n",
       "120            1127.749591                     20            281.659136   \n",
       "121            1645.960357                     21            145.040462   \n",
       "122            1811.413732                     36            131.340791   \n",
       "..                     ...                    ...                   ...   \n",
       "231            3329.770831                     44            181.338142   \n",
       "232            3329.770831                     44            181.338142   \n",
       "233            3329.770831                     44            181.338142   \n",
       "234            3329.770831                     44            181.338142   \n",
       "235            3329.770831                     44            181.338142   \n",
       "\n",
       "     energy-jump  energy-total-variation  conservation-deviation  \\\n",
       "118     4.074248               13.676080                2.022960   \n",
       "119    13.831072               32.544741                4.849522   \n",
       "120     2.067203               20.053466                2.469147   \n",
       "121     9.422094               51.647955                5.076523   \n",
       "122    13.088368               52.691856                5.551787   \n",
       "..           ...                     ...                     ...   \n",
       "231    12.292844               84.239434                8.151059   \n",
       "232    12.292844               84.239434                8.151059   \n",
       "233    12.292844               84.239434                8.151059   \n",
       "234    12.292844               84.239434                8.151059   \n",
       "235    12.292844               84.239434                8.151059   \n",
       "\n",
       "     spearman-descending-force  spearman-ascending-force  \\\n",
       "118                  -0.200684                 -0.119952   \n",
       "119                  -0.021494                 -0.195001   \n",
       "120                  -0.714286                 -0.444127   \n",
       "121                   0.544090                 -0.158055   \n",
       "122                   0.052632                 -0.171460   \n",
       "..                         ...                       ...   \n",
       "231                  -0.249255                 -0.316556   \n",
       "232                  -0.249255                 -0.316556   \n",
       "233                  -0.249255                 -0.316556   \n",
       "234                  -0.249255                 -0.316556   \n",
       "235                  -0.249255                 -0.316556   \n",
       "\n",
       "     spearman-repulsion-energy  spearman-attraction-energy  tortuosity  \n",
       "118                  -0.986572                    0.844786    1.797762  \n",
       "119                  -0.720218                    0.609519    3.921846  \n",
       "120                  -0.991010                   -0.654715    1.386696  \n",
       "121                  -0.989962                    0.342476    1.715953  \n",
       "122                  -0.985024                    0.757880    1.617372  \n",
       "..                         ...                         ...         ...  \n",
       "231                  -0.946770                    0.159576    2.694147  \n",
       "232                  -0.946770                    0.159576    2.694147  \n",
       "233                  -0.946770                    0.159576    2.694147  \n",
       "234                  -0.946770                    0.159576    2.694147  \n",
       "235                  -0.946770                    0.159576    2.694147  \n",
       "\n",
       "[118 rows x 18 columns]"
      ]
     },
     "execution_count": 5,
     "metadata": {},
     "output_type": "execute_result"
    }
   ],
   "source": [
    "df"
   ]
  },
  {
   "cell_type": "code",
   "execution_count": null,
   "id": "4e6ae884-89f3-43f2-8fd9-19bf00c91566",
   "metadata": {},
   "outputs": [],
   "source": []
  }
 ],
 "metadata": {
  "kernelspec": {
   "display_name": "mlip-arena",
   "language": "python",
   "name": "mlip-arena"
  },
  "language_info": {
   "codemirror_mode": {
    "name": "ipython",
    "version": 3
   },
   "file_extension": ".py",
   "mimetype": "text/x-python",
   "name": "python",
   "nbconvert_exporter": "python",
   "pygments_lexer": "ipython3",
   "version": "3.11.8"
  },
  "widgets": {
   "application/vnd.jupyter.widget-state+json": {
    "state": {
     "0004813407d945e1856f73a2a0bd80df": {
      "model_module": "@jupyter-widgets/controls",
      "model_module_version": "2.0.0",
      "model_name": "HTMLModel",
      "state": {
       "layout": "IPY_MODEL_098b8a09e36544c3a0faa815999882e9",
       "style": "IPY_MODEL_2f7c398fe25e49e19c3f1d9da0b2278f",
       "value": "100%"
      }
     },
     "00204758fc4a463980b636be4198ee72": {
      "model_module": "@jupyter-widgets/base",
      "model_module_version": "2.0.0",
      "model_name": "LayoutModel",
      "state": {}
     },
     "006157b44fed4b55a93d11ce8d152875": {
      "model_module": "@jupyter-widgets/controls",
      "model_module_version": "2.0.0",
      "model_name": "HTMLStyleModel",
      "state": {
       "description_width": "",
       "font_size": null,
       "text_color": null
      }
     },
     "00a7b123980c432587487ca9a03246d3": {
      "model_module": "@jupyter-widgets/base",
      "model_module_version": "2.0.0",
      "model_name": "LayoutModel",
      "state": {}
     },
     "00c18fe507e94bc4bcd44982bd20caa1": {
      "model_module": "@jupyter-widgets/base",
      "model_module_version": "2.0.0",
      "model_name": "LayoutModel",
      "state": {}
     },
     "012b14b3b2934035a30964cf6ba73283": {
      "model_module": "@jupyter-widgets/controls",
      "model_module_version": "2.0.0",
      "model_name": "FloatProgressModel",
      "state": {
       "bar_style": "success",
       "layout": "IPY_MODEL_3a9dbd4630354eb19b60b7fd5dc29a79",
       "max": 527,
       "style": "IPY_MODEL_dc4718cd062a4d80b2df8bcd734e594b",
       "value": 527
      }
     },
     "013aaf31c3964614ae3a17d8bf435beb": {
      "model_module": "@jupyter-widgets/controls",
      "model_module_version": "2.0.0",
      "model_name": "HTMLStyleModel",
      "state": {
       "description_width": "",
       "font_size": null,
       "text_color": null
      }
     },
     "01503e5f12044e89affe0a5de5d6d0ed": {
      "model_module": "@jupyter-widgets/controls",
      "model_module_version": "2.0.0",
      "model_name": "HBoxModel",
      "state": {
       "children": [
        "IPY_MODEL_ddb93c71aab442759ef773cd53f0fa9d",
        "IPY_MODEL_9b1a6f9d0b334716900f48c3a5806c60",
        "IPY_MODEL_0b2ae8d701764d03b4631fd11759aee9"
       ],
       "layout": "IPY_MODEL_5f8fa83696b24a35aa34110a36696eca"
      }
     },
     "01a3012c8f234433a80849feb4120a0b": {
      "model_module": "@jupyter-widgets/controls",
      "model_module_version": "2.0.0",
      "model_name": "HBoxModel",
      "state": {
       "children": [
        "IPY_MODEL_90fa7b98107c433ab1af180a325ef8dc",
        "IPY_MODEL_af18efbcd2cb48db902c2b895ff0cb63",
        "IPY_MODEL_0762ce6c82cb46d894ade3bdb683f23d"
       ],
       "layout": "IPY_MODEL_4a508e95308e467b8fdcbaa812118193"
      }
     },
     "01ca5ac3227a47ea9f60230c38d065d4": {
      "model_module": "@jupyter-widgets/controls",
      "model_module_version": "2.0.0",
      "model_name": "HTMLStyleModel",
      "state": {
       "description_width": "",
       "font_size": null,
       "text_color": null
      }
     },
     "024843b38fd94ff8b2ee9d0fc0ce4b0e": {
      "model_module": "@jupyter-widgets/controls",
      "model_module_version": "2.0.0",
      "model_name": "HTMLModel",
      "state": {
       "layout": "IPY_MODEL_61d35c29be0149c79e19f54cf3e49b25",
       "style": "IPY_MODEL_2e9662a0566c46f79ed0e7895544bfbc",
       "value": "100%"
      }
     },
     "0249d45ac4e64cb488e2a8bea2b47dc9": {
      "model_module": "@jupyter-widgets/base",
      "model_module_version": "2.0.0",
      "model_name": "LayoutModel",
      "state": {}
     },
     "02b69e029b274577b305b64a91491d03": {
      "model_module": "@jupyter-widgets/controls",
      "model_module_version": "2.0.0",
      "model_name": "FloatProgressModel",
      "state": {
       "bar_style": "success",
       "layout": "IPY_MODEL_f18cf84eff00460fba4f620a1326e15b",
       "max": 587,
       "style": "IPY_MODEL_247d7f75120449d69f7f0e00b1539822",
       "value": 587
      }
     },
     "02b733f57fd849e8a5da3bac83f56f64": {
      "model_module": "@jupyter-widgets/controls",
      "model_module_version": "2.0.0",
      "model_name": "HTMLStyleModel",
      "state": {
       "description_width": "",
       "font_size": null,
       "text_color": null
      }
     },
     "02c6953b337e4315b3094c2ce3381c8d": {
      "model_module": "@jupyter-widgets/controls",
      "model_module_version": "2.0.0",
      "model_name": "ProgressStyleModel",
      "state": {
       "description_width": ""
      }
     },
     "0307750431aa4502a025431ea112725c": {
      "model_module": "@jupyter-widgets/base",
      "model_module_version": "2.0.0",
      "model_name": "LayoutModel",
      "state": {}
     },
     "03155500043147078d5d775cdd3e9c5b": {
      "model_module": "@jupyter-widgets/base",
      "model_module_version": "2.0.0",
      "model_name": "LayoutModel",
      "state": {}
     },
     "0315daa21a28487e9976bb8cf85401d4": {
      "model_module": "@jupyter-widgets/controls",
      "model_module_version": "2.0.0",
      "model_name": "HTMLModel",
      "state": {
       "layout": "IPY_MODEL_78167284d2424b91a01cb9cbf359030c",
       "style": "IPY_MODEL_878f76788b3e40929a04d8c366b12fc5",
       "value": "100%"
      }
     },
     "0336508dc1d24af68362e9d7525822f2": {
      "model_module": "@jupyter-widgets/controls",
      "model_module_version": "2.0.0",
      "model_name": "HTMLModel",
      "state": {
       "layout": "IPY_MODEL_6575678acc19499b99707044a69121cb",
       "style": "IPY_MODEL_c9f93359d7294bdfa92e88aa8bb62232",
       "value": " 0/703 [00:00&lt;?, ?it/s]"
      }
     },
     "0363e6c44c5b4ad7a88383b935734034": {
      "model_module": "@jupyter-widgets/base",
      "model_module_version": "2.0.0",
      "model_name": "LayoutModel",
      "state": {}
     },
     "0371206b7d2c41d8bbfab13c8db9c89f": {
      "model_module": "@jupyter-widgets/base",
      "model_module_version": "2.0.0",
      "model_name": "LayoutModel",
      "state": {}
     },
     "038e94af5d0a44d1b3b9173bff6bd131": {
      "model_module": "@jupyter-widgets/base",
      "model_module_version": "2.0.0",
      "model_name": "LayoutModel",
      "state": {}
     },
     "03acbb58ddbf440abfe958372a0cd43a": {
      "model_module": "@jupyter-widgets/base",
      "model_module_version": "2.0.0",
      "model_name": "LayoutModel",
      "state": {}
     },
     "03cacd35ee9348f0866cd323337fe44f": {
      "model_module": "@jupyter-widgets/controls",
      "model_module_version": "2.0.0",
      "model_name": "HTMLModel",
      "state": {
       "layout": "IPY_MODEL_4293931585aa48e494c58da2329ba3c9",
       "style": "IPY_MODEL_38e13fed7ddb47938e25f375188ddd6c",
       "value": " 797/797 [00:00&lt;00:00, 170641.16it/s]"
      }
     },
     "04390c0b7b454f649c5179338a070fcc": {
      "model_module": "@jupyter-widgets/controls",
      "model_module_version": "2.0.0",
      "model_name": "HTMLStyleModel",
      "state": {
       "description_width": "",
       "font_size": null,
       "text_color": null
      }
     },
     "04ccb446e443481a82ace8e9f612d223": {
      "model_module": "@jupyter-widgets/base",
      "model_module_version": "2.0.0",
      "model_name": "LayoutModel",
      "state": {}
     },
     "04d8f6f8eaf7479087e00dbb6898c168": {
      "model_module": "@jupyter-widgets/base",
      "model_module_version": "2.0.0",
      "model_name": "LayoutModel",
      "state": {}
     },
     "0532a514f58a4817ad4a96a95bde2e19": {
      "model_module": "@jupyter-widgets/base",
      "model_module_version": "2.0.0",
      "model_name": "LayoutModel",
      "state": {}
     },
     "059afe10860a4c8f94f81e49a1641ba4": {
      "model_module": "@jupyter-widgets/controls",
      "model_module_version": "2.0.0",
      "model_name": "HBoxModel",
      "state": {
       "children": [
        "IPY_MODEL_08188e3c8a884ac1a35caa1233f72c0a",
        "IPY_MODEL_d8633436edfd4210aab91c69c3ec0ae7",
        "IPY_MODEL_426a240aa863431f80da08713c972c68"
       ],
       "layout": "IPY_MODEL_84d308de2f8d42e18bc1daf83fc85c0a"
      }
     },
     "060d7c4a9a2e421aab6b876efaabba5f": {
      "model_module": "@jupyter-widgets/base",
      "model_module_version": "2.0.0",
      "model_name": "LayoutModel",
      "state": {}
     },
     "0717f79e3c8043c7bff431f03554d771": {
      "model_module": "@jupyter-widgets/base",
      "model_module_version": "2.0.0",
      "model_name": "LayoutModel",
      "state": {}
     },
     "075e91a0a71841a8a16c5e0d65179b71": {
      "model_module": "@jupyter-widgets/controls",
      "model_module_version": "2.0.0",
      "model_name": "ProgressStyleModel",
      "state": {
       "description_width": ""
      }
     },
     "0762ce6c82cb46d894ade3bdb683f23d": {
      "model_module": "@jupyter-widgets/controls",
      "model_module_version": "2.0.0",
      "model_name": "HTMLModel",
      "state": {
       "layout": "IPY_MODEL_692939b86b2e4d1c9c7263ef0ad17cd6",
       "style": "IPY_MODEL_37647b69bfed458b9e2a67cfbf01412c",
       "value": " 690/690 [00:00&lt;00:00, 152713.30it/s]"
      }
     },
     "076a84693b4145028a3509718493baae": {
      "model_module": "@jupyter-widgets/controls",
      "model_module_version": "2.0.0",
      "model_name": "ProgressStyleModel",
      "state": {
       "description_width": ""
      }
     },
     "07dbffe16929458eb24e5c061a2281d3": {
      "model_module": "@jupyter-widgets/base",
      "model_module_version": "2.0.0",
      "model_name": "LayoutModel",
      "state": {}
     },
     "08188e3c8a884ac1a35caa1233f72c0a": {
      "model_module": "@jupyter-widgets/controls",
      "model_module_version": "2.0.0",
      "model_name": "HTMLModel",
      "state": {
       "layout": "IPY_MODEL_6dfb47c7db8944bc97cb91ac148e26b1",
       "style": "IPY_MODEL_006157b44fed4b55a93d11ce8d152875",
       "value": "100%"
      }
     },
     "081d53937311492ba48ce743057d04c4": {
      "model_module": "@jupyter-widgets/base",
      "model_module_version": "2.0.0",
      "model_name": "LayoutModel",
      "state": {}
     },
     "0826053cd0854e1f8d81da2dd55844e1": {
      "model_module": "@jupyter-widgets/base",
      "model_module_version": "2.0.0",
      "model_name": "LayoutModel",
      "state": {}
     },
     "082664e94e5d4e08929bfd694f667b64": {
      "model_module": "@jupyter-widgets/controls",
      "model_module_version": "2.0.0",
      "model_name": "HBoxModel",
      "state": {
       "children": [
        "IPY_MODEL_30602a4d14a946648aba2fa0ccc6ba97",
        "IPY_MODEL_425cf83623384290a0dbbd23ae896273",
        "IPY_MODEL_867e8e18658d4d15943c77cef594f1b9"
       ],
       "layout": "IPY_MODEL_86182e2e6744462f91a79d46671505e1"
      }
     },
     "084310c2892d485db70f602a0e7d8b7d": {
      "model_module": "@jupyter-widgets/controls",
      "model_module_version": "2.0.0",
      "model_name": "HTMLModel",
      "state": {
       "layout": "IPY_MODEL_4c4c60c10aea4c46bfa8c02da800918c",
       "style": "IPY_MODEL_43ea81182ebc4e608e4d7b3b77c19cd8",
       "value": " 700/700 [00:00&lt;00:00, 149066.45it/s]"
      }
     },
     "085ae0282425433b807fefe1d2ee1209": {
      "model_module": "@jupyter-widgets/base",
      "model_module_version": "2.0.0",
      "model_name": "LayoutModel",
      "state": {}
     },
     "0876a4b9a05843cbb9115c37e6dbc87c": {
      "model_module": "@jupyter-widgets/controls",
      "model_module_version": "2.0.0",
      "model_name": "HTMLModel",
      "state": {
       "layout": "IPY_MODEL_dc9b52c7e0074523a44d9ff50a165297",
       "style": "IPY_MODEL_9cc3a0e03aba464b8da584a77c67b1c6",
       "value": "100%"
      }
     },
     "0899fa4a944b44b48cfd85b1994a3fc2": {
      "model_module": "@jupyter-widgets/controls",
      "model_module_version": "2.0.0",
      "model_name": "HTMLStyleModel",
      "state": {
       "description_width": "",
       "font_size": null,
       "text_color": null
      }
     },
     "08a28f785e3a472a98227bb820b2ee08": {
      "model_module": "@jupyter-widgets/controls",
      "model_module_version": "2.0.0",
      "model_name": "HTMLStyleModel",
      "state": {
       "description_width": "",
       "font_size": null,
       "text_color": null
      }
     },
     "08d01a4be8a4412ab50df8f83944426c": {
      "model_module": "@jupyter-widgets/base",
      "model_module_version": "2.0.0",
      "model_name": "LayoutModel",
      "state": {}
     },
     "08dc661362674caa945a12f55162fb7e": {
      "model_module": "@jupyter-widgets/base",
      "model_module_version": "2.0.0",
      "model_name": "LayoutModel",
      "state": {}
     },
     "08df3e8df60e4d1db358b8282ad5542e": {
      "model_module": "@jupyter-widgets/controls",
      "model_module_version": "2.0.0",
      "model_name": "HTMLStyleModel",
      "state": {
       "description_width": "",
       "font_size": null,
       "text_color": null
      }
     },
     "08f01df522c947b5aeefaedbc2a75a5c": {
      "model_module": "@jupyter-widgets/base",
      "model_module_version": "2.0.0",
      "model_name": "LayoutModel",
      "state": {}
     },
     "092c5ad081c743f096fbefca0bf7f7a4": {
      "model_module": "@jupyter-widgets/base",
      "model_module_version": "2.0.0",
      "model_name": "LayoutModel",
      "state": {}
     },
     "098b8a09e36544c3a0faa815999882e9": {
      "model_module": "@jupyter-widgets/base",
      "model_module_version": "2.0.0",
      "model_name": "LayoutModel",
      "state": {}
     },
     "0991c2fdf9134e158674e992e66ff027": {
      "model_module": "@jupyter-widgets/controls",
      "model_module_version": "2.0.0",
      "model_name": "HTMLModel",
      "state": {
       "layout": "IPY_MODEL_19ee2f197aec456d9105ab9c8fb91294",
       "style": "IPY_MODEL_95bd892752d34fd89dc5800afafe5f6a",
       "value": "100%"
      }
     },
     "0a038cefbce54e86a5380f35c470bf14": {
      "model_module": "@jupyter-widgets/controls",
      "model_module_version": "2.0.0",
      "model_name": "HTMLStyleModel",
      "state": {
       "description_width": "",
       "font_size": null,
       "text_color": null
      }
     },
     "0a6f1d7881234cefa31f2fb45ffa8a7d": {
      "model_module": "@jupyter-widgets/base",
      "model_module_version": "2.0.0",
      "model_name": "LayoutModel",
      "state": {}
     },
     "0ac0e56303fc43d2b84e06d04293ea8f": {
      "model_module": "@jupyter-widgets/controls",
      "model_module_version": "2.0.0",
      "model_name": "HTMLStyleModel",
      "state": {
       "description_width": "",
       "font_size": null,
       "text_color": null
      }
     },
     "0ac3ff7108314920b328b7ae7b3357ef": {
      "model_module": "@jupyter-widgets/controls",
      "model_module_version": "2.0.0",
      "model_name": "FloatProgressModel",
      "state": {
       "bar_style": "danger",
       "layout": "IPY_MODEL_7084071b92934207905aecadb59c7857",
       "max": 582,
       "style": "IPY_MODEL_dbc6782266ad4e9f95d4f843f5cce918"
      }
     },
     "0ae2559f88d941ff8c19868c18f91906": {
      "model_module": "@jupyter-widgets/base",
      "model_module_version": "2.0.0",
      "model_name": "LayoutModel",
      "state": {}
     },
     "0ae8849151794c29bd1d608cb09cf7d7": {
      "model_module": "@jupyter-widgets/controls",
      "model_module_version": "2.0.0",
      "model_name": "HTMLModel",
      "state": {
       "layout": "IPY_MODEL_2893cb458eaf48b190d6c85bcd455337",
       "style": "IPY_MODEL_3c89a0052f974e5f8b82054064598959",
       "value": "100%"
      }
     },
     "0af89dd11f6f43adb7ddfa787738a853": {
      "model_module": "@jupyter-widgets/controls",
      "model_module_version": "2.0.0",
      "model_name": "HTMLModel",
      "state": {
       "layout": "IPY_MODEL_092c5ad081c743f096fbefca0bf7f7a4",
       "style": "IPY_MODEL_ef7196c89246454a89c292a93f9723a5",
       "value": " 646/646 [00:00&lt;00:00, 149962.39it/s]"
      }
     },
     "0b2ae8d701764d03b4631fd11759aee9": {
      "model_module": "@jupyter-widgets/controls",
      "model_module_version": "2.0.0",
      "model_name": "HTMLModel",
      "state": {
       "layout": "IPY_MODEL_10745dde84e24d7c86169ea41ed80709",
       "style": "IPY_MODEL_daee4634258347b39ffdebf53e1a35f9",
       "value": " 542/542 [00:00&lt;00:00, 129629.51it/s]"
      }
     },
     "0b69ca1c3689434d814abe2db7cc645c": {
      "model_module": "@jupyter-widgets/controls",
      "model_module_version": "2.0.0",
      "model_name": "HTMLStyleModel",
      "state": {
       "description_width": "",
       "font_size": null,
       "text_color": null
      }
     },
     "0b7673afc66d4357b0ee19cc86972d64": {
      "model_module": "@jupyter-widgets/controls",
      "model_module_version": "2.0.0",
      "model_name": "ProgressStyleModel",
      "state": {
       "description_width": ""
      }
     },
     "0be2699b96794e41ade1874e5c066490": {
      "model_module": "@jupyter-widgets/base",
      "model_module_version": "2.0.0",
      "model_name": "LayoutModel",
      "state": {}
     },
     "0bfd7ed712094571a52398c10873f8af": {
      "model_module": "@jupyter-widgets/controls",
      "model_module_version": "2.0.0",
      "model_name": "HTMLStyleModel",
      "state": {
       "description_width": "",
       "font_size": null,
       "text_color": null
      }
     },
     "0c10b17ea99e40aaa5eb01cb598daaa1": {
      "model_module": "@jupyter-widgets/base",
      "model_module_version": "2.0.0",
      "model_name": "LayoutModel",
      "state": {}
     },
     "0c2ceb87f6454ec89a8236c99f67438b": {
      "model_module": "@jupyter-widgets/controls",
      "model_module_version": "2.0.0",
      "model_name": "HTMLStyleModel",
      "state": {
       "description_width": "",
       "font_size": null,
       "text_color": null
      }
     },
     "0c3afdd21e2e4a33887c2c8107b97540": {
      "model_module": "@jupyter-widgets/base",
      "model_module_version": "2.0.0",
      "model_name": "LayoutModel",
      "state": {}
     },
     "0c62b76982394edc8320464c421a1286": {
      "model_module": "@jupyter-widgets/base",
      "model_module_version": "2.0.0",
      "model_name": "LayoutModel",
      "state": {}
     },
     "0cd390aa05b9408483f7ba46b9e3cea6": {
      "model_module": "@jupyter-widgets/controls",
      "model_module_version": "2.0.0",
      "model_name": "HBoxModel",
      "state": {
       "children": [
        "IPY_MODEL_1ce34a55cf7743ef99066f2e43017490",
        "IPY_MODEL_4ed09517f3e74988922d43f042881637",
        "IPY_MODEL_e6452b96877c423d8aa76cd20bdd6f84"
       ],
       "layout": "IPY_MODEL_8d28aace2abf47aaa33d462d8dcb12e0"
      }
     },
     "0cd8ffff132e4641a17c485dae69e240": {
      "model_module": "@jupyter-widgets/base",
      "model_module_version": "2.0.0",
      "model_name": "LayoutModel",
      "state": {}
     },
     "0ce63e006dad4f8ebd8b99f788efbf30": {
      "model_module": "@jupyter-widgets/base",
      "model_module_version": "2.0.0",
      "model_name": "LayoutModel",
      "state": {}
     },
     "0d0953e04fbe4b99b08b056c7c0e7422": {
      "model_module": "@jupyter-widgets/base",
      "model_module_version": "2.0.0",
      "model_name": "LayoutModel",
      "state": {}
     },
     "0d2bf77e18f44febba69d0355e9329dd": {
      "model_module": "@jupyter-widgets/controls",
      "model_module_version": "2.0.0",
      "model_name": "HTMLStyleModel",
      "state": {
       "description_width": "",
       "font_size": null,
       "text_color": null
      }
     },
     "0d6084d9b3e34f839aaa03c37f04331e": {
      "model_module": "@jupyter-widgets/controls",
      "model_module_version": "2.0.0",
      "model_name": "HTMLModel",
      "state": {
       "layout": "IPY_MODEL_fcb19763abea4941b23067924165a5a8",
       "style": "IPY_MODEL_dcc2399169d24e63b937e555889b0a2d",
       "value": " 634/634 [00:00&lt;00:00, 131486.78it/s]"
      }
     },
     "0d7bb2cdc83b4707a125c962a0b95934": {
      "model_module": "@jupyter-widgets/controls",
      "model_module_version": "2.0.0",
      "model_name": "HTMLStyleModel",
      "state": {
       "description_width": "",
       "font_size": null,
       "text_color": null
      }
     },
     "0d8653f7406644f0939f26e038eb952c": {
      "model_module": "@jupyter-widgets/base",
      "model_module_version": "2.0.0",
      "model_name": "LayoutModel",
      "state": {}
     },
     "0d9ec33d3c01468d8f2cf70db9660c58": {
      "model_module": "@jupyter-widgets/controls",
      "model_module_version": "2.0.0",
      "model_name": "FloatProgressModel",
      "state": {
       "bar_style": "success",
       "layout": "IPY_MODEL_04ccb446e443481a82ace8e9f612d223",
       "max": 711,
       "style": "IPY_MODEL_500ac45e27dc4b34b9510c5869a1cdab",
       "value": 711
      }
     },
     "0dc8ca1b33fb4f039cdbba81815ca350": {
      "model_module": "@jupyter-widgets/controls",
      "model_module_version": "2.0.0",
      "model_name": "HTMLStyleModel",
      "state": {
       "description_width": "",
       "font_size": null,
       "text_color": null
      }
     },
     "0de86bec8db5445daa6d231bf20e8be6": {
      "model_module": "@jupyter-widgets/controls",
      "model_module_version": "2.0.0",
      "model_name": "HTMLModel",
      "state": {
       "layout": "IPY_MODEL_833b78dc1cf04266898e06226ad97c56",
       "style": "IPY_MODEL_5c377d593a35483ebf8215941f761df8",
       "value": "  0%"
      }
     },
     "0e16eed104dd4f82a51ee18c48ba073c": {
      "model_module": "@jupyter-widgets/base",
      "model_module_version": "2.0.0",
      "model_name": "LayoutModel",
      "state": {}
     },
     "0e37909d92b141e2a1a757eaf7dd9e03": {
      "model_module": "@jupyter-widgets/controls",
      "model_module_version": "2.0.0",
      "model_name": "FloatProgressModel",
      "state": {
       "bar_style": "success",
       "layout": "IPY_MODEL_04d8f6f8eaf7479087e00dbb6898c168",
       "max": 693,
       "style": "IPY_MODEL_365228414885465785591102d0763c15",
       "value": 693
      }
     },
     "0e4ec3eacd1c424cba674219b4e86f42": {
      "model_module": "@jupyter-widgets/controls",
      "model_module_version": "2.0.0",
      "model_name": "ProgressStyleModel",
      "state": {
       "description_width": ""
      }
     },
     "0e5c6b4cc4fe4cbfb71727119461bf2d": {
      "model_module": "@jupyter-widgets/base",
      "model_module_version": "2.0.0",
      "model_name": "LayoutModel",
      "state": {}
     },
     "0ec09b7fabac41d1be020f43604a020e": {
      "model_module": "@jupyter-widgets/base",
      "model_module_version": "2.0.0",
      "model_name": "LayoutModel",
      "state": {}
     },
     "0f54e87160834c878eefe3e3536cd2c7": {
      "model_module": "@jupyter-widgets/base",
      "model_module_version": "2.0.0",
      "model_name": "LayoutModel",
      "state": {}
     },
     "0fbb8b79028f46aea23fa57764be9fe5": {
      "model_module": "@jupyter-widgets/base",
      "model_module_version": "2.0.0",
      "model_name": "LayoutModel",
      "state": {}
     },
     "0fd718180289405abc7a1d66cd094e85": {
      "model_module": "@jupyter-widgets/controls",
      "model_module_version": "2.0.0",
      "model_name": "HTMLModel",
      "state": {
       "layout": "IPY_MODEL_cc46c981924347f8a3c4d00f31e5f0c4",
       "style": "IPY_MODEL_26ccf0ea31514b4388842d9ea93de2e8",
       "value": " 491/491 [00:00&lt;00:00, 109142.15it/s]"
      }
     },
     "101448e751de4d9aaf7459305fffe5b3": {
      "model_module": "@jupyter-widgets/base",
      "model_module_version": "2.0.0",
      "model_name": "LayoutModel",
      "state": {}
     },
     "101754264753424793f39c14706a7673": {
      "model_module": "@jupyter-widgets/controls",
      "model_module_version": "2.0.0",
      "model_name": "FloatProgressModel",
      "state": {
       "bar_style": "success",
       "layout": "IPY_MODEL_07dbffe16929458eb24e5c061a2281d3",
       "max": 468,
       "style": "IPY_MODEL_ed2c939428e34ee197450465b71474dc",
       "value": 468
      }
     },
     "1025679f66304fa8a13c52e2e032c869": {
      "model_module": "@jupyter-widgets/controls",
      "model_module_version": "2.0.0",
      "model_name": "HTMLModel",
      "state": {
       "layout": "IPY_MODEL_6da8f56222cd4af88cb61d6637ab3cf0",
       "style": "IPY_MODEL_994bbe7d7f364f0d856f6dccebe5b22f",
       "value": " 527/527 [00:00&lt;00:00, 126135.48it/s]"
      }
     },
     "1039146f7e874314a778e8db7552b96a": {
      "model_module": "@jupyter-widgets/controls",
      "model_module_version": "2.0.0",
      "model_name": "HTMLModel",
      "state": {
       "layout": "IPY_MODEL_292d25daf95d4b1d88715890f1162a54",
       "style": "IPY_MODEL_9ca832ac4fa4467a98a19c905a0040ef",
       "value": " 654/654 [00:00&lt;00:00, 141922.33it/s]"
      }
     },
     "104c1c4d9a094ba2a46ae8388bc57cef": {
      "model_module": "@jupyter-widgets/base",
      "model_module_version": "2.0.0",
      "model_name": "LayoutModel",
      "state": {}
     },
     "105e7fec3da44ff887cb48050da45c23": {
      "model_module": "@jupyter-widgets/controls",
      "model_module_version": "2.0.0",
      "model_name": "HTMLStyleModel",
      "state": {
       "description_width": "",
       "font_size": null,
       "text_color": null
      }
     },
     "10745dde84e24d7c86169ea41ed80709": {
      "model_module": "@jupyter-widgets/base",
      "model_module_version": "2.0.0",
      "model_name": "LayoutModel",
      "state": {}
     },
     "11034cfb3b294dffb823b57f9aea4d43": {
      "model_module": "@jupyter-widgets/controls",
      "model_module_version": "2.0.0",
      "model_name": "FloatProgressModel",
      "state": {
       "bar_style": "success",
       "layout": "IPY_MODEL_2bf2dede86ef40bbaec426711f82c056",
       "max": 418,
       "style": "IPY_MODEL_72dc4423878742abba4c4164ee0c0f70",
       "value": 418
      }
     },
     "111be3ac3f6e4ad1a2b19429b45ce920": {
      "model_module": "@jupyter-widgets/controls",
      "model_module_version": "2.0.0",
      "model_name": "HTMLStyleModel",
      "state": {
       "description_width": "",
       "font_size": null,
       "text_color": null
      }
     },
     "117b326c0040424284a59fb79ca2d922": {
      "model_module": "@jupyter-widgets/controls",
      "model_module_version": "2.0.0",
      "model_name": "HTMLModel",
      "state": {
       "layout": "IPY_MODEL_b6c15bcb61e94a5c9b18d8100b6c7f34",
       "style": "IPY_MODEL_37960e8d9853486c82aa6e1fd883774e",
       "value": "100%"
      }
     },
     "124a6cb088c14261bcb16c34d64f6eda": {
      "model_module": "@jupyter-widgets/controls",
      "model_module_version": "2.0.0",
      "model_name": "ProgressStyleModel",
      "state": {
       "description_width": ""
      }
     },
     "12667c6bd3804bb0b9523adb5b2982e8": {
      "model_module": "@jupyter-widgets/controls",
      "model_module_version": "2.0.0",
      "model_name": "ProgressStyleModel",
      "state": {
       "description_width": ""
      }
     },
     "12ebc6bd841c41e2b726204e37eb8aff": {
      "model_module": "@jupyter-widgets/controls",
      "model_module_version": "2.0.0",
      "model_name": "HTMLModel",
      "state": {
       "layout": "IPY_MODEL_c171a9b92bcf4b9fbb8ea2da38bfed37",
       "style": "IPY_MODEL_ae9a89d5541d4df8be4893b0764b5e8e",
       "value": " 468/468 [00:00&lt;00:00, 106018.59it/s]"
      }
     },
     "130c48148db54fed8d2c0ff3c6349035": {
      "model_module": "@jupyter-widgets/controls",
      "model_module_version": "2.0.0",
      "model_name": "HTMLModel",
      "state": {
       "layout": "IPY_MODEL_b3342623c3dc45029f87fd2f14c4edf5",
       "style": "IPY_MODEL_e486074e669446238a6a25e9c9608215",
       "value": "100%"
      }
     },
     "13252a095e1a489b824c0f9c4b82c34d": {
      "model_module": "@jupyter-widgets/controls",
      "model_module_version": "2.0.0",
      "model_name": "HTMLModel",
      "state": {
       "layout": "IPY_MODEL_876cb29ee9de4f768d99c55e40f2e20a",
       "style": "IPY_MODEL_8240c886ae214c4281afc8792b1523b2",
       "value": "100%"
      }
     },
     "13714b45682a4482b053b128fc5c6405": {
      "model_module": "@jupyter-widgets/base",
      "model_module_version": "2.0.0",
      "model_name": "LayoutModel",
      "state": {}
     },
     "13764b31b28b4d60b73351cacd18a63b": {
      "model_module": "@jupyter-widgets/controls",
      "model_module_version": "2.0.0",
      "model_name": "ProgressStyleModel",
      "state": {
       "description_width": ""
      }
     },
     "139d69aa4e9e435dbc55125b53adf448": {
      "model_module": "@jupyter-widgets/controls",
      "model_module_version": "2.0.0",
      "model_name": "ProgressStyleModel",
      "state": {
       "description_width": ""
      }
     },
     "13decc10f6cb46ba850e31d294532f17": {
      "model_module": "@jupyter-widgets/controls",
      "model_module_version": "2.0.0",
      "model_name": "HTMLStyleModel",
      "state": {
       "description_width": "",
       "font_size": null,
       "text_color": null
      }
     },
     "13e4f62bfcbd46fab1d6b1ef44b15ef0": {
      "model_module": "@jupyter-widgets/controls",
      "model_module_version": "2.0.0",
      "model_name": "HTMLStyleModel",
      "state": {
       "description_width": "",
       "font_size": null,
       "text_color": null
      }
     },
     "141d9702a5fe4d2bb5607fd38c626c2c": {
      "model_module": "@jupyter-widgets/controls",
      "model_module_version": "2.0.0",
      "model_name": "HBoxModel",
      "state": {
       "children": [
        "IPY_MODEL_ad78bf7ddac84d9f9950c115266f631e",
        "IPY_MODEL_1ba8d7cebfdd4fc69fe55fedecbadba2",
        "IPY_MODEL_5078f9949e8346bfa6387f4199856e99"
       ],
       "layout": "IPY_MODEL_d40064bb0112440bbb2659aca96556b5"
      }
     },
     "1437fb76ab1b49f696fb40709b910e78": {
      "model_module": "@jupyter-widgets/base",
      "model_module_version": "2.0.0",
      "model_name": "LayoutModel",
      "state": {}
     },
     "1453c635751d4212a33269db575c4b68": {
      "model_module": "@jupyter-widgets/controls",
      "model_module_version": "2.0.0",
      "model_name": "HTMLStyleModel",
      "state": {
       "description_width": "",
       "font_size": null,
       "text_color": null
      }
     },
     "14ddf231436140eeb3333b31eeb102b1": {
      "model_module": "@jupyter-widgets/base",
      "model_module_version": "2.0.0",
      "model_name": "LayoutModel",
      "state": {}
     },
     "150db3a476b04a25b2aa68a1d39037c9": {
      "model_module": "@jupyter-widgets/controls",
      "model_module_version": "2.0.0",
      "model_name": "FloatProgressModel",
      "state": {
       "bar_style": "danger",
       "layout": "IPY_MODEL_fb922e1265824a83a7a38d4ed6c2b51d",
       "max": 582,
       "style": "IPY_MODEL_1c2724aee05b451e96054fbaffadc5d8"
      }
     },
     "152a52a937ea47728e19d1cdc16161a3": {
      "model_module": "@jupyter-widgets/base",
      "model_module_version": "2.0.0",
      "model_name": "LayoutModel",
      "state": {}
     },
     "154a3086463d49bfb3739421613ec16f": {
      "model_module": "@jupyter-widgets/controls",
      "model_module_version": "2.0.0",
      "model_name": "HTMLModel",
      "state": {
       "layout": "IPY_MODEL_03acbb58ddbf440abfe958372a0cd43a",
       "style": "IPY_MODEL_d1c4418b22c94349934a744f07ce22cc",
       "value": " 601/601 [00:00&lt;00:00, 121659.11it/s]"
      }
     },
     "15dc509f35e94d69b7f435b179a49cbf": {
      "model_module": "@jupyter-widgets/controls",
      "model_module_version": "2.0.0",
      "model_name": "ProgressStyleModel",
      "state": {
       "description_width": ""
      }
     },
     "15fca2a3482a4798a6dbe8fa758d10ec": {
      "model_module": "@jupyter-widgets/controls",
      "model_module_version": "2.0.0",
      "model_name": "FloatProgressModel",
      "state": {
       "bar_style": "success",
       "layout": "IPY_MODEL_49fe4f963d1846c790a17962ff11e2cb",
       "max": 634,
       "style": "IPY_MODEL_657faee073f64290876c5d9dd2f2fa99",
       "value": 634
      }
     },
     "16676cd15e1f4c50a1c87f272cd54ff5": {
      "model_module": "@jupyter-widgets/controls",
      "model_module_version": "2.0.0",
      "model_name": "HTMLStyleModel",
      "state": {
       "description_width": "",
       "font_size": null,
       "text_color": null
      }
     },
     "166bbf08c0ff45f5a99e457abdc5804c": {
      "model_module": "@jupyter-widgets/controls",
      "model_module_version": "2.0.0",
      "model_name": "HTMLStyleModel",
      "state": {
       "description_width": "",
       "font_size": null,
       "text_color": null
      }
     },
     "16bd94b4f10e4f3caaf08406ad951038": {
      "model_module": "@jupyter-widgets/base",
      "model_module_version": "2.0.0",
      "model_name": "LayoutModel",
      "state": {}
     },
     "16f9bdddfd79448786380ecc6eb91e11": {
      "model_module": "@jupyter-widgets/controls",
      "model_module_version": "2.0.0",
      "model_name": "HTMLStyleModel",
      "state": {
       "description_width": "",
       "font_size": null,
       "text_color": null
      }
     },
     "171fc8aa0c4c415195e34fcce5a0dc46": {
      "model_module": "@jupyter-widgets/base",
      "model_module_version": "2.0.0",
      "model_name": "LayoutModel",
      "state": {}
     },
     "173ec4f2ad7c420582938de706450a3b": {
      "model_module": "@jupyter-widgets/base",
      "model_module_version": "2.0.0",
      "model_name": "LayoutModel",
      "state": {}
     },
     "17abf218f1094f96979c080732d103de": {
      "model_module": "@jupyter-widgets/base",
      "model_module_version": "2.0.0",
      "model_name": "LayoutModel",
      "state": {}
     },
     "17bed32c88e94fa1a5a10ae6b040035b": {
      "model_module": "@jupyter-widgets/base",
      "model_module_version": "2.0.0",
      "model_name": "LayoutModel",
      "state": {}
     },
     "17e42cc454cc41cea966a37b00ed1030": {
      "model_module": "@jupyter-widgets/base",
      "model_module_version": "2.0.0",
      "model_name": "LayoutModel",
      "state": {}
     },
     "17eb789b213b42979056a14cd1115024": {
      "model_module": "@jupyter-widgets/controls",
      "model_module_version": "2.0.0",
      "model_name": "HTMLModel",
      "state": {
       "layout": "IPY_MODEL_53e8abb2081046388ac8c95b0aa34dc5",
       "style": "IPY_MODEL_2d5b6a5be62243a9ae25deb431e18674",
       "value": " 401/401 [00:00&lt;00:00, 89515.99it/s]"
      }
     },
     "17f9801f9ac342658d725482d59d35e9": {
      "model_module": "@jupyter-widgets/controls",
      "model_module_version": "2.0.0",
      "model_name": "HTMLStyleModel",
      "state": {
       "description_width": "",
       "font_size": null,
       "text_color": null
      }
     },
     "187503fe6d12467592727378fe463070": {
      "model_module": "@jupyter-widgets/controls",
      "model_module_version": "2.0.0",
      "model_name": "HTMLModel",
      "state": {
       "layout": "IPY_MODEL_2d97aaee9cf34e6783dd720420d4ccf4",
       "style": "IPY_MODEL_f221c5c9377041609fde06f28a29a3a9",
       "value": "100%"
      }
     },
     "187e4fd1463541cf9717438b0e9a9f55": {
      "model_module": "@jupyter-widgets/controls",
      "model_module_version": "2.0.0",
      "model_name": "FloatProgressModel",
      "state": {
       "bar_style": "success",
       "layout": "IPY_MODEL_67872a03ae7c4768901cdb78daa016ee",
       "max": 699,
       "style": "IPY_MODEL_645fa829b56d4aed9cb3d1b4f7f7632e",
       "value": 699
      }
     },
     "18b110c272e04508afb90055b939e721": {
      "model_module": "@jupyter-widgets/base",
      "model_module_version": "2.0.0",
      "model_name": "LayoutModel",
      "state": {}
     },
     "18bb692e4f0840aa804dc1b2e00ec633": {
      "model_module": "@jupyter-widgets/base",
      "model_module_version": "2.0.0",
      "model_name": "LayoutModel",
      "state": {}
     },
     "1978a5afd0f845ef9762906adf6cedf3": {
      "model_module": "@jupyter-widgets/controls",
      "model_module_version": "2.0.0",
      "model_name": "HTMLModel",
      "state": {
       "layout": "IPY_MODEL_2df8c002e2354beda802b542ebb3e0d1",
       "style": "IPY_MODEL_e4ad7f210e9f4a759b9f44208b8c52fc",
       "value": "100%"
      }
     },
     "198e3b9e79f040d7b0efa77a2f798559": {
      "model_module": "@jupyter-widgets/base",
      "model_module_version": "2.0.0",
      "model_name": "LayoutModel",
      "state": {}
     },
     "199556b8ec4749d78eb429cda343076d": {
      "model_module": "@jupyter-widgets/controls",
      "model_module_version": "2.0.0",
      "model_name": "HTMLModel",
      "state": {
       "layout": "IPY_MODEL_5784f6c9144e4a1184c6eb167bdab1b9",
       "style": "IPY_MODEL_013aaf31c3964614ae3a17d8bf435beb",
       "value": " 0/715 [00:00&lt;?, ?it/s]"
      }
     },
     "19b6c060ec384e998c3a64023ce7b9af": {
      "model_module": "@jupyter-widgets/controls",
      "model_module_version": "2.0.0",
      "model_name": "HBoxModel",
      "state": {
       "children": [
        "IPY_MODEL_3edc43692067449fa5eed45fe5f3a6b9",
        "IPY_MODEL_3a957677010a404b8357327777ed0029",
        "IPY_MODEL_d9f6a58f06fd4e6abcb6aae419e49d2f"
       ],
       "layout": "IPY_MODEL_f5f1a40316ac48a4a8d566811d3c7fb5"
      }
     },
     "19c4d0fe1b41489e8a6c3cec76d9b56f": {
      "model_module": "@jupyter-widgets/controls",
      "model_module_version": "2.0.0",
      "model_name": "HTMLStyleModel",
      "state": {
       "description_width": "",
       "font_size": null,
       "text_color": null
      }
     },
     "19cd162dfdd14e91bee38f1c7be207c3": {
      "model_module": "@jupyter-widgets/controls",
      "model_module_version": "2.0.0",
      "model_name": "FloatProgressModel",
      "state": {
       "bar_style": "danger",
       "layout": "IPY_MODEL_8499dff6af0e49d98ff3296756dea7fc",
       "max": 819,
       "style": "IPY_MODEL_6d74257fe77b4133b2589d673daf2026"
      }
     },
     "19ee2f197aec456d9105ab9c8fb91294": {
      "model_module": "@jupyter-widgets/base",
      "model_module_version": "2.0.0",
      "model_name": "LayoutModel",
      "state": {}
     },
     "1a159421feb84339a395d97a88ddc649": {
      "model_module": "@jupyter-widgets/base",
      "model_module_version": "2.0.0",
      "model_name": "LayoutModel",
      "state": {}
     },
     "1a49fb4997c74abb801aa75ea90b4f36": {
      "model_module": "@jupyter-widgets/controls",
      "model_module_version": "2.0.0",
      "model_name": "HBoxModel",
      "state": {
       "children": [
        "IPY_MODEL_bb0f8dc97f4741bc89fb41df00439f2c",
        "IPY_MODEL_f5b6491a435045399bb32204a5515a20",
        "IPY_MODEL_0fd718180289405abc7a1d66cd094e85"
       ],
       "layout": "IPY_MODEL_58d4887eb13e40a594501f138f803d99"
      }
     },
     "1a563963f8df4809bb495c5c1264ab30": {
      "model_module": "@jupyter-widgets/controls",
      "model_module_version": "2.0.0",
      "model_name": "FloatProgressModel",
      "state": {
       "bar_style": "danger",
       "layout": "IPY_MODEL_9207dae0e1cd4f799ec973e242632126",
       "max": 582,
       "style": "IPY_MODEL_4080030eebdf49a4925032bb9a802dae"
      }
     },
     "1a759888d21d42548e2cd638e5452075": {
      "model_module": "@jupyter-widgets/controls",
      "model_module_version": "2.0.0",
      "model_name": "ProgressStyleModel",
      "state": {
       "description_width": ""
      }
     },
     "1b0e394a4e7d456180b810befb599214": {
      "model_module": "@jupyter-widgets/controls",
      "model_module_version": "2.0.0",
      "model_name": "HTMLStyleModel",
      "state": {
       "description_width": "",
       "font_size": null,
       "text_color": null
      }
     },
     "1b1a84f70b1f4f34a5378d83e8bde5f0": {
      "model_module": "@jupyter-widgets/controls",
      "model_module_version": "2.0.0",
      "model_name": "HTMLStyleModel",
      "state": {
       "description_width": "",
       "font_size": null,
       "text_color": null
      }
     },
     "1b2bb26d74b34723b25c48cdb4a11ced": {
      "model_module": "@jupyter-widgets/base",
      "model_module_version": "2.0.0",
      "model_name": "LayoutModel",
      "state": {}
     },
     "1b35efa0dbba4cf1afc9b4d9e1b82513": {
      "model_module": "@jupyter-widgets/controls",
      "model_module_version": "2.0.0",
      "model_name": "ProgressStyleModel",
      "state": {
       "description_width": ""
      }
     },
     "1b9933bef0b14ac298cedefd2f7ccecc": {
      "model_module": "@jupyter-widgets/base",
      "model_module_version": "2.0.0",
      "model_name": "LayoutModel",
      "state": {}
     },
     "1ba8d7cebfdd4fc69fe55fedecbadba2": {
      "model_module": "@jupyter-widgets/controls",
      "model_module_version": "2.0.0",
      "model_name": "FloatProgressModel",
      "state": {
       "bar_style": "danger",
       "layout": "IPY_MODEL_7cbdbeed358f411495358da335a2a944",
       "max": 582,
       "style": "IPY_MODEL_0e4ec3eacd1c424cba674219b4e86f42"
      }
     },
     "1bb249e73e444f519dd7ce85589fa62b": {
      "model_module": "@jupyter-widgets/controls",
      "model_module_version": "2.0.0",
      "model_name": "ProgressStyleModel",
      "state": {
       "description_width": ""
      }
     },
     "1bec46c5f2c141de9baaaadbb711dae6": {
      "model_module": "@jupyter-widgets/controls",
      "model_module_version": "2.0.0",
      "model_name": "FloatProgressModel",
      "state": {
       "bar_style": "danger",
       "layout": "IPY_MODEL_8bd583173fb14793be09ba2593793315",
       "max": 1036,
       "style": "IPY_MODEL_cb55ded3db3a4f8487b1fcd913768f62"
      }
     },
     "1c0cfe12452d4ef4899eb07930ebb906": {
      "model_module": "@jupyter-widgets/controls",
      "model_module_version": "2.0.0",
      "model_name": "HTMLModel",
      "state": {
       "layout": "IPY_MODEL_1b2bb26d74b34723b25c48cdb4a11ced",
       "style": "IPY_MODEL_ab14777928c04b8dbd7eaaf8cd481270",
       "value": "100%"
      }
     },
     "1c2724aee05b451e96054fbaffadc5d8": {
      "model_module": "@jupyter-widgets/controls",
      "model_module_version": "2.0.0",
      "model_name": "ProgressStyleModel",
      "state": {
       "description_width": ""
      }
     },
     "1c55942ca49f4b12ac337d7441b4b1f0": {
      "model_module": "@jupyter-widgets/controls",
      "model_module_version": "2.0.0",
      "model_name": "HTMLModel",
      "state": {
       "layout": "IPY_MODEL_cbc279e30a7e49959020b8004a041b3e",
       "style": "IPY_MODEL_dee88f878b74485aa6f665503e6d32d9",
       "value": "100%"
      }
     },
     "1cb8232c5ccf4e94a613263a7457f1a4": {
      "model_module": "@jupyter-widgets/base",
      "model_module_version": "2.0.0",
      "model_name": "LayoutModel",
      "state": {}
     },
     "1cc9a1e7536a47e7a35b0222efcf5734": {
      "model_module": "@jupyter-widgets/base",
      "model_module_version": "2.0.0",
      "model_name": "LayoutModel",
      "state": {}
     },
     "1cced13fbaec49f8b4cdbdae0ee96ca5": {
      "model_module": "@jupyter-widgets/base",
      "model_module_version": "2.0.0",
      "model_name": "LayoutModel",
      "state": {}
     },
     "1ce34a55cf7743ef99066f2e43017490": {
      "model_module": "@jupyter-widgets/controls",
      "model_module_version": "2.0.0",
      "model_name": "HTMLModel",
      "state": {
       "layout": "IPY_MODEL_b456533d56bf40249e037dadfe85c872",
       "style": "IPY_MODEL_cc07060e85bf4ca19005154c1febdef5",
       "value": "100%"
      }
     },
     "1dcecd907f4a4c438e5fae9a34034d4b": {
      "model_module": "@jupyter-widgets/base",
      "model_module_version": "2.0.0",
      "model_name": "LayoutModel",
      "state": {}
     },
     "1e01f6d0eebc42a8bbfa798b2a3ad807": {
      "model_module": "@jupyter-widgets/controls",
      "model_module_version": "2.0.0",
      "model_name": "HBoxModel",
      "state": {
       "children": [
        "IPY_MODEL_fcbef1dd06194a00a812bf9a0c978b41",
        "IPY_MODEL_27bee521f93b4394928bab4294e4d2e4",
        "IPY_MODEL_154a3086463d49bfb3739421613ec16f"
       ],
       "layout": "IPY_MODEL_0cd8ffff132e4641a17c485dae69e240"
      }
     },
     "1e163a132985492ea4d3638949421b2c": {
      "model_module": "@jupyter-widgets/base",
      "model_module_version": "2.0.0",
      "model_name": "LayoutModel",
      "state": {}
     },
     "1e1949724d5e41dab28d20eeaf2cb798": {
      "model_module": "@jupyter-widgets/controls",
      "model_module_version": "2.0.0",
      "model_name": "HBoxModel",
      "state": {
       "children": [
        "IPY_MODEL_b31e09c9fedd467491e5ef041ccdb3a1",
        "IPY_MODEL_bb4250ee660a49e8ae14f8d747138e37",
        "IPY_MODEL_bccf40419848424689025755ac184e90"
       ],
       "layout": "IPY_MODEL_869ff49171b84e57b8cc2edd2288447c"
      }
     },
     "1e476076f2d44511b5973f90146b4644": {
      "model_module": "@jupyter-widgets/controls",
      "model_module_version": "2.0.0",
      "model_name": "ProgressStyleModel",
      "state": {
       "description_width": ""
      }
     },
     "1ee4e7767c70489784d2a7e2c1c20a1f": {
      "model_module": "@jupyter-widgets/controls",
      "model_module_version": "2.0.0",
      "model_name": "ProgressStyleModel",
      "state": {
       "description_width": ""
      }
     },
     "1f52488f5b0e413caf4ebe084d3e8664": {
      "model_module": "@jupyter-widgets/controls",
      "model_module_version": "2.0.0",
      "model_name": "HTMLModel",
      "state": {
       "layout": "IPY_MODEL_fcf1e10f8f9648f3bb1fda8202511919",
       "style": "IPY_MODEL_16f9bdddfd79448786380ecc6eb91e11",
       "value": "100%"
      }
     },
     "1f69539d7dc8418484822dbb9a373278": {
      "model_module": "@jupyter-widgets/base",
      "model_module_version": "2.0.0",
      "model_name": "LayoutModel",
      "state": {}
     },
     "1f841b5cf5514a009dc9ef4f1fb09362": {
      "model_module": "@jupyter-widgets/controls",
      "model_module_version": "2.0.0",
      "model_name": "HTMLStyleModel",
      "state": {
       "description_width": "",
       "font_size": null,
       "text_color": null
      }
     },
     "1f8f6786629e4f78b548ff9ec58895c8": {
      "model_module": "@jupyter-widgets/base",
      "model_module_version": "2.0.0",
      "model_name": "LayoutModel",
      "state": {}
     },
     "1f987cabaaaa4892878fbdfbca6f04e8": {
      "model_module": "@jupyter-widgets/controls",
      "model_module_version": "2.0.0",
      "model_name": "HTMLModel",
      "state": {
       "layout": "IPY_MODEL_77856d533ec34111b69b1af3c24c84fe",
       "style": "IPY_MODEL_effb3968eab84765a20a74a0ffe5ec3f",
       "value": " 587/587 [00:00&lt;00:00, 118089.91it/s]"
      }
     },
     "1f9b0af280db4ffe8e312aa130b47bb3": {
      "model_module": "@jupyter-widgets/controls",
      "model_module_version": "2.0.0",
      "model_name": "FloatProgressModel",
      "state": {
       "bar_style": "success",
       "layout": "IPY_MODEL_c0d8c812026b4a8b967a1247a6cd4072",
       "max": 618,
       "style": "IPY_MODEL_d70c5bd510624c369bdeb7b262ff58d9",
       "value": 618
      }
     },
     "1fbc42496ce14a3da96fc54e995bbf81": {
      "model_module": "@jupyter-widgets/controls",
      "model_module_version": "2.0.0",
      "model_name": "FloatProgressModel",
      "state": {
       "bar_style": "success",
       "layout": "IPY_MODEL_8accbd319dbf40d6ad5d9c3a4e9dd004",
       "max": 737,
       "style": "IPY_MODEL_c2093468cb5b45f0b2c6e31caacbbd2a",
       "value": 737
      }
     },
     "1fe05022a4c241a48b55daf55fbcdc04": {
      "model_module": "@jupyter-widgets/base",
      "model_module_version": "2.0.0",
      "model_name": "LayoutModel",
      "state": {}
     },
     "2007c271223f4da598b2ad48c368da1c": {
      "model_module": "@jupyter-widgets/base",
      "model_module_version": "2.0.0",
      "model_name": "LayoutModel",
      "state": {}
     },
     "20cfd913c75c492e94736b476327f9f1": {
      "model_module": "@jupyter-widgets/base",
      "model_module_version": "2.0.0",
      "model_name": "LayoutModel",
      "state": {}
     },
     "20e9274412324ed5b91975a8a1939e2f": {
      "model_module": "@jupyter-widgets/controls",
      "model_module_version": "2.0.0",
      "model_name": "FloatProgressModel",
      "state": {
       "bar_style": "success",
       "layout": "IPY_MODEL_37ade164318b4caf837f0e4c5adddebc",
       "max": 709,
       "style": "IPY_MODEL_b50ca9904c2647fd93143cb30b2dd88e",
       "value": 709
      }
     },
     "20ed481e7cd54e538eb979335496e714": {
      "model_module": "@jupyter-widgets/controls",
      "model_module_version": "2.0.0",
      "model_name": "ProgressStyleModel",
      "state": {
       "description_width": ""
      }
     },
     "2112b78461744a7c9c64aeaf088608bb": {
      "model_module": "@jupyter-widgets/controls",
      "model_module_version": "2.0.0",
      "model_name": "HTMLModel",
      "state": {
       "layout": "IPY_MODEL_ef81594f40434f209f5fae27a79d2225",
       "style": "IPY_MODEL_ba2e74fef75845598c1ebd6b246fdbfa",
       "value": " 456/456 [00:00&lt;00:00, 104149.57it/s]"
      }
     },
     "21e06fd09adf4453a83198cd1dc58932": {
      "model_module": "@jupyter-widgets/base",
      "model_module_version": "2.0.0",
      "model_name": "LayoutModel",
      "state": {}
     },
     "21e0745f753848c690b8fba7144c0ac9": {
      "model_module": "@jupyter-widgets/controls",
      "model_module_version": "2.0.0",
      "model_name": "HBoxModel",
      "state": {
       "children": [
        "IPY_MODEL_a320d773eabf40bd8e5f06fb1ce6a42a",
        "IPY_MODEL_bb66a79b87d24e138f9d7a0c2f0a648d",
        "IPY_MODEL_9dd30fe496e349f49cbc88f50c241773"
       ],
       "layout": "IPY_MODEL_8e73e02ae8d34d93bc802eb161c7d5d1"
      }
     },
     "21f323798b0c4a7b9723bc729d479c57": {
      "model_module": "@jupyter-widgets/base",
      "model_module_version": "2.0.0",
      "model_name": "LayoutModel",
      "state": {}
     },
     "228ce479aff34265965fc4b04a984d78": {
      "model_module": "@jupyter-widgets/controls",
      "model_module_version": "2.0.0",
      "model_name": "ProgressStyleModel",
      "state": {
       "description_width": ""
      }
     },
     "22cf1c0266eb4c0eb9d2e46b6f68a320": {
      "model_module": "@jupyter-widgets/controls",
      "model_module_version": "2.0.0",
      "model_name": "FloatProgressModel",
      "state": {
       "bar_style": "success",
       "layout": "IPY_MODEL_b37d993f80ba4645a5c584e57273c652",
       "max": 631,
       "style": "IPY_MODEL_977a09023f0448e092c837693d395a17",
       "value": 631
      }
     },
     "230efbe5dde142faa8ae7c0eb0054d87": {
      "model_module": "@jupyter-widgets/controls",
      "model_module_version": "2.0.0",
      "model_name": "HTMLModel",
      "state": {
       "layout": "IPY_MODEL_18bb692e4f0840aa804dc1b2e00ec633",
       "style": "IPY_MODEL_c4ffcc340b1c459da1a2630963299eef",
       "value": " 474/474 [00:00&lt;00:00, 106709.25it/s]"
      }
     },
     "237f0dc41c7b455fb910b76266e3bb72": {
      "model_module": "@jupyter-widgets/controls",
      "model_module_version": "2.0.0",
      "model_name": "ProgressStyleModel",
      "state": {
       "description_width": ""
      }
     },
     "2399547f6e0249d989342edda3ed86b4": {
      "model_module": "@jupyter-widgets/controls",
      "model_module_version": "2.0.0",
      "model_name": "HBoxModel",
      "state": {
       "children": [
        "IPY_MODEL_6447424f5af744dea43f08f3d49b53d7",
        "IPY_MODEL_ebb62414753c493688c3f50e57b0f71f",
        "IPY_MODEL_7b464b63e6c64343ba20e093ca1a300c"
       ],
       "layout": "IPY_MODEL_aee44a796b544be58284a5c964bf627e"
      }
     },
     "23f5f02f55f3468790f1651f6e0e3188": {
      "model_module": "@jupyter-widgets/base",
      "model_module_version": "2.0.0",
      "model_name": "LayoutModel",
      "state": {}
     },
     "242c69ac52294a3e9048d03a6cbdc54d": {
      "model_module": "@jupyter-widgets/controls",
      "model_module_version": "2.0.0",
      "model_name": "HTMLModel",
      "state": {
       "layout": "IPY_MODEL_a1c4a4633cc147eea25521e91c80b1ad",
       "style": "IPY_MODEL_8894d6b715fd40dd9e4a938b105d0415",
       "value": " 640/640 [00:00&lt;00:00, 150274.57it/s]"
      }
     },
     "2468a4134d9641d086695737339cab07": {
      "model_module": "@jupyter-widgets/controls",
      "model_module_version": "2.0.0",
      "model_name": "HTMLModel",
      "state": {
       "layout": "IPY_MODEL_ac06f90c2d5e4b1fa1a13402ff9ed492",
       "style": "IPY_MODEL_b96205fa36ac40a3a2e32d47a3bff178",
       "value": " 465/465 [00:00&lt;00:00, 110947.80it/s]"
      }
     },
     "247d7f75120449d69f7f0e00b1539822": {
      "model_module": "@jupyter-widgets/controls",
      "model_module_version": "2.0.0",
      "model_name": "ProgressStyleModel",
      "state": {
       "description_width": ""
      }
     },
     "251bd673e0824f1496a8473a571aebf0": {
      "model_module": "@jupyter-widgets/controls",
      "model_module_version": "2.0.0",
      "model_name": "HBoxModel",
      "state": {
       "children": [
        "IPY_MODEL_42b44e89019d476b95f0344d9c657505",
        "IPY_MODEL_601343a081334359b2b0e46ff2eaf924",
        "IPY_MODEL_d662fbb657e14c91a20c2fbfa9a02be5"
       ],
       "layout": "IPY_MODEL_a91829a030c44482bfd7a8e0b3d0af52"
      }
     },
     "25ed00804fe0435b9e6a08b13065a9c1": {
      "model_module": "@jupyter-widgets/controls",
      "model_module_version": "2.0.0",
      "model_name": "HTMLStyleModel",
      "state": {
       "description_width": "",
       "font_size": null,
       "text_color": null
      }
     },
     "261242125147487a8aeda77d7453e97c": {
      "model_module": "@jupyter-widgets/controls",
      "model_module_version": "2.0.0",
      "model_name": "HTMLStyleModel",
      "state": {
       "description_width": "",
       "font_size": null,
       "text_color": null
      }
     },
     "267aed32c00341e9942c898e6ee80286": {
      "model_module": "@jupyter-widgets/controls",
      "model_module_version": "2.0.0",
      "model_name": "HTMLModel",
      "state": {
       "layout": "IPY_MODEL_7a8a34c5ea144072bf73079746cf6984",
       "style": "IPY_MODEL_cc8551c6d0be4b1fb8a6c590919ea3bd",
       "value": " 681/681 [00:00&lt;00:00, 157433.78it/s]"
      }
     },
     "26833c364e1747e78b8efec52df21a0e": {
      "model_module": "@jupyter-widgets/controls",
      "model_module_version": "2.0.0",
      "model_name": "FloatProgressModel",
      "state": {
       "bar_style": "success",
       "layout": "IPY_MODEL_518f57c72e0d4da0998b4a606b35acce",
       "max": 618,
       "style": "IPY_MODEL_5061ede62ab145db85d1c1576906e146",
       "value": 618
      }
     },
     "26ccf0ea31514b4388842d9ea93de2e8": {
      "model_module": "@jupyter-widgets/controls",
      "model_module_version": "2.0.0",
      "model_name": "HTMLStyleModel",
      "state": {
       "description_width": "",
       "font_size": null,
       "text_color": null
      }
     },
     "26dbdcb7f94e483a85207429f472484e": {
      "model_module": "@jupyter-widgets/controls",
      "model_module_version": "2.0.0",
      "model_name": "HTMLModel",
      "state": {
       "layout": "IPY_MODEL_b3940fbb737042d99165b0db5e50fdb3",
       "style": "IPY_MODEL_caabad2e69f0458a9a299fff7fb9bfd3",
       "value": " 698/698 [00:00&lt;00:00, 145819.80it/s]"
      }
     },
     "2703936132c943b9b8b163d37432ced1": {
      "model_module": "@jupyter-widgets/controls",
      "model_module_version": "2.0.0",
      "model_name": "HTMLStyleModel",
      "state": {
       "description_width": "",
       "font_size": null,
       "text_color": null
      }
     },
     "273116cf1aeb467b802dcaa2af16774b": {
      "model_module": "@jupyter-widgets/controls",
      "model_module_version": "2.0.0",
      "model_name": "HBoxModel",
      "state": {
       "children": [
        "IPY_MODEL_130c48148db54fed8d2c0ff3c6349035",
        "IPY_MODEL_3d09e0d6710b44e4852173acba0abcf8",
        "IPY_MODEL_ec797ea51ed24abfb79261d1b9fcaf81"
       ],
       "layout": "IPY_MODEL_88a814c0d8134e85b9a3b3d0122b9029"
      }
     },
     "2753c58995fa4a90aeeea62f7bd9d603": {
      "model_module": "@jupyter-widgets/base",
      "model_module_version": "2.0.0",
      "model_name": "LayoutModel",
      "state": {}
     },
     "278b35cc78c94e3a80e5de5451d7d9d7": {
      "model_module": "@jupyter-widgets/controls",
      "model_module_version": "2.0.0",
      "model_name": "ProgressStyleModel",
      "state": {
       "description_width": ""
      }
     },
     "279aeb8df3b74bb6919e88333f5d5ebd": {
      "model_module": "@jupyter-widgets/controls",
      "model_module_version": "2.0.0",
      "model_name": "HTMLStyleModel",
      "state": {
       "description_width": "",
       "font_size": null,
       "text_color": null
      }
     },
     "27a4eeed6a714e36b1475b6ef8c0ddf2": {
      "model_module": "@jupyter-widgets/controls",
      "model_module_version": "2.0.0",
      "model_name": "ProgressStyleModel",
      "state": {
       "description_width": ""
      }
     },
     "27bee521f93b4394928bab4294e4d2e4": {
      "model_module": "@jupyter-widgets/controls",
      "model_module_version": "2.0.0",
      "model_name": "FloatProgressModel",
      "state": {
       "bar_style": "success",
       "layout": "IPY_MODEL_4836d4233e8c49208e57856841ee6173",
       "max": 601,
       "style": "IPY_MODEL_3f84fa59baf242f2bc45226ec0fa25d9",
       "value": 601
      }
     },
     "27dee161f0be4c05aac62bf74f069109": {
      "model_module": "@jupyter-widgets/base",
      "model_module_version": "2.0.0",
      "model_name": "LayoutModel",
      "state": {}
     },
     "27eb5574ed4441799ebf95f2be781fcc": {
      "model_module": "@jupyter-widgets/base",
      "model_module_version": "2.0.0",
      "model_name": "LayoutModel",
      "state": {}
     },
     "281a7b92beeb436d9b4a5fa097582ba7": {
      "model_module": "@jupyter-widgets/controls",
      "model_module_version": "2.0.0",
      "model_name": "HBoxModel",
      "state": {
       "children": [
        "IPY_MODEL_774b78f9af474f35a26edc223ae8731a",
        "IPY_MODEL_b8690cc7cb1e46aeb3922774d548e489",
        "IPY_MODEL_267aed32c00341e9942c898e6ee80286"
       ],
       "layout": "IPY_MODEL_76c955c8a90b4951af5bd45915df1364"
      }
     },
     "2845244d63454b278e06307b098fb7b1": {
      "model_module": "@jupyter-widgets/controls",
      "model_module_version": "2.0.0",
      "model_name": "HTMLStyleModel",
      "state": {
       "description_width": "",
       "font_size": null,
       "text_color": null
      }
     },
     "287a8d492c634a068007307170e3f07b": {
      "model_module": "@jupyter-widgets/controls",
      "model_module_version": "2.0.0",
      "model_name": "HTMLModel",
      "state": {
       "layout": "IPY_MODEL_9a1234fc0518485f9eac4c159a7e1d46",
       "style": "IPY_MODEL_b667d1a46efc495397e78b9d0d5c9f07",
       "value": "  0%"
      }
     },
     "2893cb458eaf48b190d6c85bcd455337": {
      "model_module": "@jupyter-widgets/base",
      "model_module_version": "2.0.0",
      "model_name": "LayoutModel",
      "state": {}
     },
     "292c1c82e9224b03b5b7608d47b67e54": {
      "model_module": "@jupyter-widgets/controls",
      "model_module_version": "2.0.0",
      "model_name": "ProgressStyleModel",
      "state": {
       "description_width": ""
      }
     },
     "292d25daf95d4b1d88715890f1162a54": {
      "model_module": "@jupyter-widgets/base",
      "model_module_version": "2.0.0",
      "model_name": "LayoutModel",
      "state": {}
     },
     "299b7a4c0dab4d9c819863b5e4d1f5f3": {
      "model_module": "@jupyter-widgets/controls",
      "model_module_version": "2.0.0",
      "model_name": "HBoxModel",
      "state": {
       "children": [
        "IPY_MODEL_805e5ab3a84e4d0887728df692e9c3fc",
        "IPY_MODEL_11034cfb3b294dffb823b57f9aea4d43",
        "IPY_MODEL_ec6e3f512db44f3eac20b234b8ad6c3b"
       ],
       "layout": "IPY_MODEL_0e16eed104dd4f82a51ee18c48ba073c"
      }
     },
     "29baecb2fae84ea19c7611fc68b4b4c2": {
      "model_module": "@jupyter-widgets/controls",
      "model_module_version": "2.0.0",
      "model_name": "FloatProgressModel",
      "state": {
       "bar_style": "danger",
       "layout": "IPY_MODEL_85a82846e2e7472e94bfc6f69c6a1cf0",
       "max": 582,
       "style": "IPY_MODEL_02c6953b337e4315b3094c2ce3381c8d"
      }
     },
     "29db70000f5d4b118ab0b7fee1e6a1a9": {
      "model_module": "@jupyter-widgets/controls",
      "model_module_version": "2.0.0",
      "model_name": "HTMLModel",
      "state": {
       "layout": "IPY_MODEL_7aa9107dc17a46e5983ff522a75a52ba",
       "style": "IPY_MODEL_30d8f99252b44dedb50da775af9d7d79",
       "value": "100%"
      }
     },
     "29e4adb03f234a169480a211171796d6": {
      "model_module": "@jupyter-widgets/base",
      "model_module_version": "2.0.0",
      "model_name": "LayoutModel",
      "state": {}
     },
     "2a12ca8780194ff2932cb5b05ed39724": {
      "model_module": "@jupyter-widgets/controls",
      "model_module_version": "2.0.0",
      "model_name": "HTMLStyleModel",
      "state": {
       "description_width": "",
       "font_size": null,
       "text_color": null
      }
     },
     "2ac8044b037a4948b21efb14bf6bf77b": {
      "model_module": "@jupyter-widgets/controls",
      "model_module_version": "2.0.0",
      "model_name": "HBoxModel",
      "state": {
       "children": [
        "IPY_MODEL_7b2fdd7f0a3a4c7a98bb75ca86dcb00c",
        "IPY_MODEL_15fca2a3482a4798a6dbe8fa758d10ec",
        "IPY_MODEL_710e872576b449f293aa9665ad6486e6"
       ],
       "layout": "IPY_MODEL_41f028314f19467cb170d4ceeb0b3481"
      }
     },
     "2b3741105b3541d0842ad91f706c6549": {
      "model_module": "@jupyter-widgets/controls",
      "model_module_version": "2.0.0",
      "model_name": "HTMLStyleModel",
      "state": {
       "description_width": "",
       "font_size": null,
       "text_color": null
      }
     },
     "2be19c48542148998522d051f2e019c6": {
      "model_module": "@jupyter-widgets/controls",
      "model_module_version": "2.0.0",
      "model_name": "HBoxModel",
      "state": {
       "children": [
        "IPY_MODEL_2f2159866b1342ae9e1ede397bbec746",
        "IPY_MODEL_e10b9a85675648a89f246df7be382969",
        "IPY_MODEL_aefd09b5785f498e8b5311c137fe467a"
       ],
       "layout": "IPY_MODEL_db4f992ed8694d47bfdd17b4585d7893"
      }
     },
     "2bf2dede86ef40bbaec426711f82c056": {
      "model_module": "@jupyter-widgets/base",
      "model_module_version": "2.0.0",
      "model_name": "LayoutModel",
      "state": {}
     },
     "2c11eef879e542e2b7c2c758cb9d7bd1": {
      "model_module": "@jupyter-widgets/controls",
      "model_module_version": "2.0.0",
      "model_name": "FloatProgressModel",
      "state": {
       "bar_style": "success",
       "layout": "IPY_MODEL_a26f1b45f65341cfa01b9de696309267",
       "max": 612,
       "style": "IPY_MODEL_c8d2908bc9434462aa5b0a7444d31684",
       "value": 612
      }
     },
     "2c354d5b301b476ea036562335ef9946": {
      "model_module": "@jupyter-widgets/base",
      "model_module_version": "2.0.0",
      "model_name": "LayoutModel",
      "state": {}
     },
     "2c7b765072554fc0bd55555ce335342e": {
      "model_module": "@jupyter-widgets/controls",
      "model_module_version": "2.0.0",
      "model_name": "FloatProgressModel",
      "state": {
       "bar_style": "success",
       "layout": "IPY_MODEL_40d67c8125004d85baecbbe41256bc44",
       "max": 859,
       "style": "IPY_MODEL_80015a4bc8a440d895aafaa154d33147",
       "value": 859
      }
     },
     "2ce52702b47242afad1f70f9bab7c3ee": {
      "model_module": "@jupyter-widgets/base",
      "model_module_version": "2.0.0",
      "model_name": "LayoutModel",
      "state": {}
     },
     "2cf46a5a26d44b80bc54456b840f7246": {
      "model_module": "@jupyter-widgets/controls",
      "model_module_version": "2.0.0",
      "model_name": "HTMLModel",
      "state": {
       "layout": "IPY_MODEL_926aec9078bb407685b6427f96b9dc79",
       "style": "IPY_MODEL_5d745d59f6724e40a7c3e72cc26b3b7d",
       "value": " 625/625 [00:00&lt;00:00, 141592.31it/s]"
      }
     },
     "2d56fa8c824f4022bd810d9480f210ed": {
      "model_module": "@jupyter-widgets/controls",
      "model_module_version": "2.0.0",
      "model_name": "HBoxModel",
      "state": {
       "children": [
        "IPY_MODEL_afab245b221b4ecbb9d89ed521ef12fc",
        "IPY_MODEL_ed970246066c4f22b6e98f74cbe6f7c3",
        "IPY_MODEL_fb8eef5e77964dda8832f4d14bc69668"
       ],
       "layout": "IPY_MODEL_a8c2c0ef7c8e47a4a809cf1c953aac27"
      }
     },
     "2d5b6a5be62243a9ae25deb431e18674": {
      "model_module": "@jupyter-widgets/controls",
      "model_module_version": "2.0.0",
      "model_name": "HTMLStyleModel",
      "state": {
       "description_width": "",
       "font_size": null,
       "text_color": null
      }
     },
     "2d617762d80d43bb8c4856b908ec4ec9": {
      "model_module": "@jupyter-widgets/base",
      "model_module_version": "2.0.0",
      "model_name": "LayoutModel",
      "state": {}
     },
     "2d6221b298234577a413f954892c8557": {
      "model_module": "@jupyter-widgets/controls",
      "model_module_version": "2.0.0",
      "model_name": "HBoxModel",
      "state": {
       "children": [
        "IPY_MODEL_ebf2eb3f2b61456080a565dd45b661ee",
        "IPY_MODEL_e12bbbf383df412d8be6212f34d43261",
        "IPY_MODEL_ea596f7037294732b0dde07a24f225b9"
       ],
       "layout": "IPY_MODEL_31fe191079fc4d5f8158e193b360552e"
      }
     },
     "2d97aaee9cf34e6783dd720420d4ccf4": {
      "model_module": "@jupyter-widgets/base",
      "model_module_version": "2.0.0",
      "model_name": "LayoutModel",
      "state": {}
     },
     "2da5ba9a5fcd4a36a1ab077ceab0447d": {
      "model_module": "@jupyter-widgets/controls",
      "model_module_version": "2.0.0",
      "model_name": "HTMLModel",
      "state": {
       "layout": "IPY_MODEL_83e550fb6cdb4661bd4fe28a825f2cfb",
       "style": "IPY_MODEL_be569e3e1966416399e38fd6e3184c52",
       "value": " 720/720 [00:00&lt;00:00, 169305.31it/s]"
      }
     },
     "2dc0cba4a254412890ce834b9d7b37ac": {
      "model_module": "@jupyter-widgets/base",
      "model_module_version": "2.0.0",
      "model_name": "LayoutModel",
      "state": {}
     },
     "2df8c002e2354beda802b542ebb3e0d1": {
      "model_module": "@jupyter-widgets/base",
      "model_module_version": "2.0.0",
      "model_name": "LayoutModel",
      "state": {}
     },
     "2e27d18e23df4d528a00fd7dc767f06e": {
      "model_module": "@jupyter-widgets/base",
      "model_module_version": "2.0.0",
      "model_name": "LayoutModel",
      "state": {}
     },
     "2e3155e6f60a4c4a8ffa5f37381cd6fb": {
      "model_module": "@jupyter-widgets/controls",
      "model_module_version": "2.0.0",
      "model_name": "FloatProgressModel",
      "state": {
       "bar_style": "danger",
       "layout": "IPY_MODEL_d218b8850454470ea299c6d520b95710",
       "max": 582,
       "style": "IPY_MODEL_d2439707fc0443b3ba9cd3d21bc3eb0a"
      }
     },
     "2e53c3cc974c490bbb2d31b767721005": {
      "model_module": "@jupyter-widgets/base",
      "model_module_version": "2.0.0",
      "model_name": "LayoutModel",
      "state": {}
     },
     "2e5cfb1106a24828bb640d0dbd7852b7": {
      "model_module": "@jupyter-widgets/controls",
      "model_module_version": "2.0.0",
      "model_name": "HTMLModel",
      "state": {
       "layout": "IPY_MODEL_97a857d3a9db4bf496cdf37314ee74d1",
       "style": "IPY_MODEL_e5b5b4a7d2c14d0eb4cda3b35a2cafb6",
       "value": " 681/681 [00:00&lt;00:00, 145663.78it/s]"
      }
     },
     "2e626fe9a8fb4944be60585da2ddd31a": {
      "model_module": "@jupyter-widgets/controls",
      "model_module_version": "2.0.0",
      "model_name": "FloatProgressModel",
      "state": {
       "bar_style": "success",
       "layout": "IPY_MODEL_f4d035233f1d4eedaa2b33eb01a9b248",
       "max": 650,
       "style": "IPY_MODEL_076a84693b4145028a3509718493baae",
       "value": 650
      }
     },
     "2e6614ca93214e209448f3d0f04f7657": {
      "model_module": "@jupyter-widgets/controls",
      "model_module_version": "2.0.0",
      "model_name": "HTMLModel",
      "state": {
       "layout": "IPY_MODEL_ce34e1b4f11040688ff7cb6816fb7dc5",
       "style": "IPY_MODEL_b516afedc67a43e1be2be376defc9f20",
       "value": " 401/401 [00:00&lt;00:00, 87627.17it/s]"
      }
     },
     "2e9662a0566c46f79ed0e7895544bfbc": {
      "model_module": "@jupyter-widgets/controls",
      "model_module_version": "2.0.0",
      "model_name": "HTMLStyleModel",
      "state": {
       "description_width": "",
       "font_size": null,
       "text_color": null
      }
     },
     "2ed78b3a78f04c0a8da5fc749afc15a3": {
      "model_module": "@jupyter-widgets/controls",
      "model_module_version": "2.0.0",
      "model_name": "HTMLStyleModel",
      "state": {
       "description_width": "",
       "font_size": null,
       "text_color": null
      }
     },
     "2f07ed90f3a34620a709fba7219a9099": {
      "model_module": "@jupyter-widgets/controls",
      "model_module_version": "2.0.0",
      "model_name": "FloatProgressModel",
      "state": {
       "bar_style": "danger",
       "layout": "IPY_MODEL_93e255ef09b24957b3f668b12e3c32ff",
       "max": 582,
       "style": "IPY_MODEL_20ed481e7cd54e538eb979335496e714"
      }
     },
     "2f2159866b1342ae9e1ede397bbec746": {
      "model_module": "@jupyter-widgets/controls",
      "model_module_version": "2.0.0",
      "model_name": "HTMLModel",
      "state": {
       "layout": "IPY_MODEL_c5a3ecc1cfaf41a0995b43bb285e5df7",
       "style": "IPY_MODEL_eecd1a54963640058fb32d89a78f4c0b",
       "value": "100%"
      }
     },
     "2f667d66dc024accaf60548aad4b2d56": {
      "model_module": "@jupyter-widgets/base",
      "model_module_version": "2.0.0",
      "model_name": "LayoutModel",
      "state": {}
     },
     "2f7c398fe25e49e19c3f1d9da0b2278f": {
      "model_module": "@jupyter-widgets/controls",
      "model_module_version": "2.0.0",
      "model_name": "HTMLStyleModel",
      "state": {
       "description_width": "",
       "font_size": null,
       "text_color": null
      }
     },
     "2fb92ad5e96b4404b4de2f519ae8bfe7": {
      "model_module": "@jupyter-widgets/controls",
      "model_module_version": "2.0.0",
      "model_name": "HBoxModel",
      "state": {
       "children": [
        "IPY_MODEL_ee6637b8b6804297b050ddf027e99037",
        "IPY_MODEL_f2e6f4a0bac64f178ed76a3b48d31fa0",
        "IPY_MODEL_2e6614ca93214e209448f3d0f04f7657"
       ],
       "layout": "IPY_MODEL_1f8f6786629e4f78b548ff9ec58895c8"
      }
     },
     "2fc3ceea251342799ca6a378486da0e1": {
      "model_module": "@jupyter-widgets/controls",
      "model_module_version": "2.0.0",
      "model_name": "HTMLModel",
      "state": {
       "layout": "IPY_MODEL_fb22e29e66224a0aa23c69c3b1eec175",
       "style": "IPY_MODEL_b8cedb48a2d6489d9ea4415646a6211f",
       "value": " 541/541 [00:00&lt;00:00, 122582.17it/s]"
      }
     },
     "30602a4d14a946648aba2fa0ccc6ba97": {
      "model_module": "@jupyter-widgets/controls",
      "model_module_version": "2.0.0",
      "model_name": "HTMLModel",
      "state": {
       "layout": "IPY_MODEL_64a70e214965469fa195f3e9b6d9f4de",
       "style": "IPY_MODEL_79919a0a51dc4b9fbec1c53383928705",
       "value": "100%"
      }
     },
     "30874d6fd54347e8b9bc4f510525e659": {
      "model_module": "@jupyter-widgets/controls",
      "model_module_version": "2.0.0",
      "model_name": "FloatProgressModel",
      "state": {
       "bar_style": "success",
       "layout": "IPY_MODEL_3c00656a8fc2450ba9d7977f814587a1",
       "max": 480,
       "style": "IPY_MODEL_1b35efa0dbba4cf1afc9b4d9e1b82513",
       "value": 480
      }
     },
     "30d8f99252b44dedb50da775af9d7d79": {
      "model_module": "@jupyter-widgets/controls",
      "model_module_version": "2.0.0",
      "model_name": "HTMLStyleModel",
      "state": {
       "description_width": "",
       "font_size": null,
       "text_color": null
      }
     },
     "31f216561b8d40fa8b5b385a7f3e24a7": {
      "model_module": "@jupyter-widgets/controls",
      "model_module_version": "2.0.0",
      "model_name": "FloatProgressModel",
      "state": {
       "bar_style": "danger",
       "layout": "IPY_MODEL_eaacfa5bed91431d84fdfc101fbb8ca6",
       "max": 582,
       "style": "IPY_MODEL_1a759888d21d42548e2cd638e5452075"
      }
     },
     "31fe191079fc4d5f8158e193b360552e": {
      "model_module": "@jupyter-widgets/base",
      "model_module_version": "2.0.0",
      "model_name": "LayoutModel",
      "state": {}
     },
     "321c84477aa94ccf8a22faa8d5a514b8": {
      "model_module": "@jupyter-widgets/base",
      "model_module_version": "2.0.0",
      "model_name": "LayoutModel",
      "state": {}
     },
     "321d28739f0b431c935dc09a592b8fa3": {
      "model_module": "@jupyter-widgets/controls",
      "model_module_version": "2.0.0",
      "model_name": "ProgressStyleModel",
      "state": {
       "description_width": ""
      }
     },
     "3247f8cb3ebf497e815c39a2862e7a3f": {
      "model_module": "@jupyter-widgets/base",
      "model_module_version": "2.0.0",
      "model_name": "LayoutModel",
      "state": {}
     },
     "32690c80bd6e436297d194a91bb3ecbe": {
      "model_module": "@jupyter-widgets/controls",
      "model_module_version": "2.0.0",
      "model_name": "HTMLStyleModel",
      "state": {
       "description_width": "",
       "font_size": null,
       "text_color": null
      }
     },
     "3349a9afe3ca478887ba3ba13eef4ece": {
      "model_module": "@jupyter-widgets/controls",
      "model_module_version": "2.0.0",
      "model_name": "HTMLModel",
      "state": {
       "layout": "IPY_MODEL_7da38e1d99364ea491845c0e62b8265d",
       "style": "IPY_MODEL_b59403411ba445a58c22f8071c5a9d8b",
       "value": "100%"
      }
     },
     "33703c913ec24740858bb8cc81fcb3b1": {
      "model_module": "@jupyter-widgets/base",
      "model_module_version": "2.0.0",
      "model_name": "LayoutModel",
      "state": {}
     },
     "33b31c765b01400d8c87858b84782db5": {
      "model_module": "@jupyter-widgets/controls",
      "model_module_version": "2.0.0",
      "model_name": "HTMLStyleModel",
      "state": {
       "description_width": "",
       "font_size": null,
       "text_color": null
      }
     },
     "340116fb89634de8a051096e7eb6f144": {
      "model_module": "@jupyter-widgets/base",
      "model_module_version": "2.0.0",
      "model_name": "LayoutModel",
      "state": {}
     },
     "34e1441d89d44d008ebc730fcf6a8c15": {
      "model_module": "@jupyter-widgets/base",
      "model_module_version": "2.0.0",
      "model_name": "LayoutModel",
      "state": {}
     },
     "353c4c0f2a0f4ec09076c5e50c55c360": {
      "model_module": "@jupyter-widgets/controls",
      "model_module_version": "2.0.0",
      "model_name": "ProgressStyleModel",
      "state": {
       "description_width": ""
      }
     },
     "354a99f062ef47eb8e8035431161694b": {
      "model_module": "@jupyter-widgets/controls",
      "model_module_version": "2.0.0",
      "model_name": "HTMLModel",
      "state": {
       "layout": "IPY_MODEL_cd2f385353e54989bdb363584e51ac26",
       "style": "IPY_MODEL_cf18b1115a654df89bb904931615388e",
       "value": "100%"
      }
     },
     "354c2bf638a3492d9540e35d8abdd2c8": {
      "model_module": "@jupyter-widgets/controls",
      "model_module_version": "2.0.0",
      "model_name": "HBoxModel",
      "state": {
       "children": [
        "IPY_MODEL_6b08365cbd054c4dbead806b487e9e51",
        "IPY_MODEL_9f3e1aca0c6c441e8a6ed3d9914517c0",
        "IPY_MODEL_741a1bdd0e8c46cd8071e1686caec426"
       ],
       "layout": "IPY_MODEL_9017c826c55b49e0ac3c8dc8e864d789"
      }
     },
     "357521d9500349bf9917ff58995d6cd2": {
      "model_module": "@jupyter-widgets/base",
      "model_module_version": "2.0.0",
      "model_name": "LayoutModel",
      "state": {}
     },
     "357e034f85a04feeba687a4f0ec4790d": {
      "model_module": "@jupyter-widgets/base",
      "model_module_version": "2.0.0",
      "model_name": "LayoutModel",
      "state": {}
     },
     "35baf1cef8d54841a71de783de484970": {
      "model_module": "@jupyter-widgets/controls",
      "model_module_version": "2.0.0",
      "model_name": "HTMLStyleModel",
      "state": {
       "description_width": "",
       "font_size": null,
       "text_color": null
      }
     },
     "35cd4ca7e1cc44498a8e854acc466a94": {
      "model_module": "@jupyter-widgets/controls",
      "model_module_version": "2.0.0",
      "model_name": "HTMLStyleModel",
      "state": {
       "description_width": "",
       "font_size": null,
       "text_color": null
      }
     },
     "35e903ab265c46dbb8003cd9f191381a": {
      "model_module": "@jupyter-widgets/controls",
      "model_module_version": "2.0.0",
      "model_name": "ProgressStyleModel",
      "state": {
       "description_width": ""
      }
     },
     "360a14be9ea741d8b26c19f9efb7a453": {
      "model_module": "@jupyter-widgets/base",
      "model_module_version": "2.0.0",
      "model_name": "LayoutModel",
      "state": {}
     },
     "365228414885465785591102d0763c15": {
      "model_module": "@jupyter-widgets/controls",
      "model_module_version": "2.0.0",
      "model_name": "ProgressStyleModel",
      "state": {
       "description_width": ""
      }
     },
     "365b219a20224e57b8d5fd44a506e7d4": {
      "model_module": "@jupyter-widgets/controls",
      "model_module_version": "2.0.0",
      "model_name": "HTMLStyleModel",
      "state": {
       "description_width": "",
       "font_size": null,
       "text_color": null
      }
     },
     "36709174a8ba496d87a5647b05cf86a6": {
      "model_module": "@jupyter-widgets/controls",
      "model_module_version": "2.0.0",
      "model_name": "HBoxModel",
      "state": {
       "children": [
        "IPY_MODEL_f4d87bb2975c41f1aa74edecf1360e53",
        "IPY_MODEL_4e5b39833d214a918948243114fa906d",
        "IPY_MODEL_d5c6bd36b7f1431fbf0579df311b8702"
       ],
       "layout": "IPY_MODEL_03155500043147078d5d775cdd3e9c5b"
      }
     },
     "36bfd2e049e74cd1b5c9f99caba230e8": {
      "model_module": "@jupyter-widgets/controls",
      "model_module_version": "2.0.0",
      "model_name": "HTMLModel",
      "state": {
       "layout": "IPY_MODEL_53533a590852488ebef39c171f003040",
       "style": "IPY_MODEL_968a3382ab234ccba04088388043d206",
       "value": "  0%"
      }
     },
     "3748ae0b03ae49128120f693fe3aefb1": {
      "model_module": "@jupyter-widgets/base",
      "model_module_version": "2.0.0",
      "model_name": "LayoutModel",
      "state": {}
     },
     "37647b69bfed458b9e2a67cfbf01412c": {
      "model_module": "@jupyter-widgets/controls",
      "model_module_version": "2.0.0",
      "model_name": "HTMLStyleModel",
      "state": {
       "description_width": "",
       "font_size": null,
       "text_color": null
      }
     },
     "37960e8d9853486c82aa6e1fd883774e": {
      "model_module": "@jupyter-widgets/controls",
      "model_module_version": "2.0.0",
      "model_name": "HTMLStyleModel",
      "state": {
       "description_width": "",
       "font_size": null,
       "text_color": null
      }
     },
     "37ade164318b4caf837f0e4c5adddebc": {
      "model_module": "@jupyter-widgets/base",
      "model_module_version": "2.0.0",
      "model_name": "LayoutModel",
      "state": {}
     },
     "37d3a9b9c24b45f289ff196f4b8066e5": {
      "model_module": "@jupyter-widgets/base",
      "model_module_version": "2.0.0",
      "model_name": "LayoutModel",
      "state": {}
     },
     "37d84048a72a4578b2b163b0c5b16d0b": {
      "model_module": "@jupyter-widgets/base",
      "model_module_version": "2.0.0",
      "model_name": "LayoutModel",
      "state": {}
     },
     "381ca2eecec846888f7d4cccfbb501b7": {
      "model_module": "@jupyter-widgets/base",
      "model_module_version": "2.0.0",
      "model_name": "LayoutModel",
      "state": {}
     },
     "382fdf95e807471a9ee4ab17b3295445": {
      "model_module": "@jupyter-widgets/controls",
      "model_module_version": "2.0.0",
      "model_name": "ProgressStyleModel",
      "state": {
       "description_width": ""
      }
     },
     "384035f249304115aa707d669aaa0c6d": {
      "model_module": "@jupyter-widgets/controls",
      "model_module_version": "2.0.0",
      "model_name": "HTMLStyleModel",
      "state": {
       "description_width": "",
       "font_size": null,
       "text_color": null
      }
     },
     "38530113801140359e4aaccd6d0ae511": {
      "model_module": "@jupyter-widgets/controls",
      "model_module_version": "2.0.0",
      "model_name": "HTMLStyleModel",
      "state": {
       "description_width": "",
       "font_size": null,
       "text_color": null
      }
     },
     "3860a32ec87540beb6b864f95be0e37d": {
      "model_module": "@jupyter-widgets/base",
      "model_module_version": "2.0.0",
      "model_name": "LayoutModel",
      "state": {}
     },
     "3870932c1c47475ebde182b0b4ae49c6": {
      "model_module": "@jupyter-widgets/controls",
      "model_module_version": "2.0.0",
      "model_name": "HTMLModel",
      "state": {
       "layout": "IPY_MODEL_bd111e4630aa4ead8128792e6217da64",
       "style": "IPY_MODEL_791b29faab734a3287a6895a79108110",
       "value": "100%"
      }
     },
     "388e977f120449dfa6d8982ff4260e42": {
      "model_module": "@jupyter-widgets/base",
      "model_module_version": "2.0.0",
      "model_name": "LayoutModel",
      "state": {}
     },
     "389401aaac864467b665c748ecaff4e5": {
      "model_module": "@jupyter-widgets/controls",
      "model_module_version": "2.0.0",
      "model_name": "ProgressStyleModel",
      "state": {
       "description_width": ""
      }
     },
     "38c79ba68bbb4f6cba47df6f114f6c34": {
      "model_module": "@jupyter-widgets/controls",
      "model_module_version": "2.0.0",
      "model_name": "HTMLStyleModel",
      "state": {
       "description_width": "",
       "font_size": null,
       "text_color": null
      }
     },
     "38dd57315b14450f80533f90914c207b": {
      "model_module": "@jupyter-widgets/base",
      "model_module_version": "2.0.0",
      "model_name": "LayoutModel",
      "state": {}
     },
     "38e13fed7ddb47938e25f375188ddd6c": {
      "model_module": "@jupyter-widgets/controls",
      "model_module_version": "2.0.0",
      "model_name": "HTMLStyleModel",
      "state": {
       "description_width": "",
       "font_size": null,
       "text_color": null
      }
     },
     "398283e9da3b470084857cade425607f": {
      "model_module": "@jupyter-widgets/controls",
      "model_module_version": "2.0.0",
      "model_name": "HTMLStyleModel",
      "state": {
       "description_width": "",
       "font_size": null,
       "text_color": null
      }
     },
     "3985fbabc08c4858bee75e48c1df3c73": {
      "model_module": "@jupyter-widgets/controls",
      "model_module_version": "2.0.0",
      "model_name": "ProgressStyleModel",
      "state": {
       "description_width": ""
      }
     },
     "39969aac1a2348b6a4af4a94361bdef6": {
      "model_module": "@jupyter-widgets/base",
      "model_module_version": "2.0.0",
      "model_name": "LayoutModel",
      "state": {}
     },
     "39cab2f7c9ff4ecba5c4ce76dc394c9d": {
      "model_module": "@jupyter-widgets/controls",
      "model_module_version": "2.0.0",
      "model_name": "HTMLModel",
      "state": {
       "layout": "IPY_MODEL_b93b62d31538413192f3adc0ca8098cd",
       "style": "IPY_MODEL_7ee2c911b85d4a539dfacd30c098979c",
       "value": "100%"
      }
     },
     "39e3232da20a41e89d8907a0e7fa3c2f": {
      "model_module": "@jupyter-widgets/controls",
      "model_module_version": "2.0.0",
      "model_name": "FloatProgressModel",
      "state": {
       "bar_style": "success",
       "layout": "IPY_MODEL_a2bdf73565e542de8c81fe9a6b3e1e6e",
       "max": 646,
       "style": "IPY_MODEL_aec45b7745e44ba4bab8530b493a98ff",
       "value": 646
      }
     },
     "3a2a8744bb5749ec800dbc94fb3c9c5a": {
      "model_module": "@jupyter-widgets/base",
      "model_module_version": "2.0.0",
      "model_name": "LayoutModel",
      "state": {}
     },
     "3a4eba43da5046ed81e4b6cdf8b65efb": {
      "model_module": "@jupyter-widgets/controls",
      "model_module_version": "2.0.0",
      "model_name": "HTMLStyleModel",
      "state": {
       "description_width": "",
       "font_size": null,
       "text_color": null
      }
     },
     "3a842d6950d5468fb1861e04c7ef4bb5": {
      "model_module": "@jupyter-widgets/base",
      "model_module_version": "2.0.0",
      "model_name": "LayoutModel",
      "state": {}
     },
     "3a8652916bd747c0b1b66fbc8ab49dfa": {
      "model_module": "@jupyter-widgets/controls",
      "model_module_version": "2.0.0",
      "model_name": "HTMLStyleModel",
      "state": {
       "description_width": "",
       "font_size": null,
       "text_color": null
      }
     },
     "3a957677010a404b8357327777ed0029": {
      "model_module": "@jupyter-widgets/controls",
      "model_module_version": "2.0.0",
      "model_name": "FloatProgressModel",
      "state": {
       "bar_style": "success",
       "layout": "IPY_MODEL_45cce6d100b54cc1b7ec1391724c9cd6",
       "max": 420,
       "style": "IPY_MODEL_e0c9a27c75084df3855ebba89b131ca0",
       "value": 420
      }
     },
     "3a9dbd4630354eb19b60b7fd5dc29a79": {
      "model_module": "@jupyter-widgets/base",
      "model_module_version": "2.0.0",
      "model_name": "LayoutModel",
      "state": {}
     },
     "3b51dbd55ba8457898905c176f4d98ed": {
      "model_module": "@jupyter-widgets/controls",
      "model_module_version": "2.0.0",
      "model_name": "ProgressStyleModel",
      "state": {
       "description_width": ""
      }
     },
     "3b6f5666382346958f86aca3c1baa2fc": {
      "model_module": "@jupyter-widgets/base",
      "model_module_version": "2.0.0",
      "model_name": "LayoutModel",
      "state": {}
     },
     "3bc61fa33c3c48e38f7fe2a4ef767ba0": {
      "model_module": "@jupyter-widgets/controls",
      "model_module_version": "2.0.0",
      "model_name": "HTMLModel",
      "state": {
       "layout": "IPY_MODEL_78d63ff803d242e59cd306aa33106ec3",
       "style": "IPY_MODEL_365b219a20224e57b8d5fd44a506e7d4",
       "value": "100%"
      }
     },
     "3bcb1f0cb0674d9cbeb072be0ad84ca6": {
      "model_module": "@jupyter-widgets/base",
      "model_module_version": "2.0.0",
      "model_name": "LayoutModel",
      "state": {}
     },
     "3c00656a8fc2450ba9d7977f814587a1": {
      "model_module": "@jupyter-widgets/base",
      "model_module_version": "2.0.0",
      "model_name": "LayoutModel",
      "state": {}
     },
     "3c89a0052f974e5f8b82054064598959": {
      "model_module": "@jupyter-widgets/controls",
      "model_module_version": "2.0.0",
      "model_name": "HTMLStyleModel",
      "state": {
       "description_width": "",
       "font_size": null,
       "text_color": null
      }
     },
     "3c911d812a5a4c93aedf0545d8ecb787": {
      "model_module": "@jupyter-widgets/controls",
      "model_module_version": "2.0.0",
      "model_name": "FloatProgressModel",
      "state": {
       "bar_style": "success",
       "layout": "IPY_MODEL_3bcb1f0cb0674d9cbeb072be0ad84ca6",
       "max": 720,
       "style": "IPY_MODEL_389401aaac864467b665c748ecaff4e5",
       "value": 720
      }
     },
     "3ca150ba520246c2854871ebc169f5c3": {
      "model_module": "@jupyter-widgets/controls",
      "model_module_version": "2.0.0",
      "model_name": "HTMLModel",
      "state": {
       "layout": "IPY_MODEL_68f1b2f2938a490e9509adc542e4722b",
       "style": "IPY_MODEL_6dedb1705f1747938a1a13b3ca3b7748",
       "value": " 711/711 [00:00&lt;00:00, 140973.35it/s]"
      }
     },
     "3ccc2b4acbba4614a0f145bd3f4c1625": {
      "model_module": "@jupyter-widgets/controls",
      "model_module_version": "2.0.0",
      "model_name": "HBoxModel",
      "state": {
       "children": [
        "IPY_MODEL_ae337d05eefc40f393211e21b86a83fd",
        "IPY_MODEL_fe9a4853ceab4cb4857ca88129bdb285",
        "IPY_MODEL_17eb789b213b42979056a14cd1115024"
       ],
       "layout": "IPY_MODEL_13714b45682a4482b053b128fc5c6405"
      }
     },
     "3d09e0d6710b44e4852173acba0abcf8": {
      "model_module": "@jupyter-widgets/controls",
      "model_module_version": "2.0.0",
      "model_name": "FloatProgressModel",
      "state": {
       "bar_style": "success",
       "layout": "IPY_MODEL_9134c0142a31424d9bc787a67e3c6f82",
       "max": 588,
       "style": "IPY_MODEL_228ce479aff34265965fc4b04a984d78",
       "value": 588
      }
     },
     "3d531b58c34c4fcc8f8958eacc9c3658": {
      "model_module": "@jupyter-widgets/base",
      "model_module_version": "2.0.0",
      "model_name": "LayoutModel",
      "state": {}
     },
     "3d73b6e0244949dba6ff7bf08bca68c3": {
      "model_module": "@jupyter-widgets/controls",
      "model_module_version": "2.0.0",
      "model_name": "HBoxModel",
      "state": {
       "children": [
        "IPY_MODEL_d2216edbd1034746b32e96c93e42adf3",
        "IPY_MODEL_bc85b57ee27e4f52bd78a970d0aa0c7b",
        "IPY_MODEL_5f25013431db4e56804fcf341b75700f"
       ],
       "layout": "IPY_MODEL_832be73f5dc9485ca7e9416b4372a7f4"
      }
     },
     "3dab2bde492041b687caa5d70767cf65": {
      "model_module": "@jupyter-widgets/controls",
      "model_module_version": "2.0.0",
      "model_name": "ProgressStyleModel",
      "state": {
       "description_width": ""
      }
     },
     "3db75944245446128b8670bd4411bec7": {
      "model_module": "@jupyter-widgets/controls",
      "model_module_version": "2.0.0",
      "model_name": "HTMLStyleModel",
      "state": {
       "description_width": "",
       "font_size": null,
       "text_color": null
      }
     },
     "3dd1474368fc45a6bccb6cdf6559e61d": {
      "model_module": "@jupyter-widgets/controls",
      "model_module_version": "2.0.0",
      "model_name": "HTMLStyleModel",
      "state": {
       "description_width": "",
       "font_size": null,
       "text_color": null
      }
     },
     "3dd6edda2e284673a5c710490f5ab8a2": {
      "model_module": "@jupyter-widgets/controls",
      "model_module_version": "2.0.0",
      "model_name": "HTMLModel",
      "state": {
       "layout": "IPY_MODEL_3f2d4f3ba10446a082227a755595be94",
       "style": "IPY_MODEL_ff88612da34947058fba1102a6c89cfd",
       "value": "100%"
      }
     },
     "3debd1bd2a2d4b01845edeaabe0cc8a7": {
      "model_module": "@jupyter-widgets/controls",
      "model_module_version": "2.0.0",
      "model_name": "HTMLModel",
      "state": {
       "layout": "IPY_MODEL_80fdae94b6b34b0f8dd4dec56ec5362f",
       "style": "IPY_MODEL_825af9b8a35f487b948b0de7417678b6",
       "value": " 0/582 [00:00&lt;?, ?it/s]"
      }
     },
     "3e8fe92769954dc89971091da8ba51d1": {
      "model_module": "@jupyter-widgets/controls",
      "model_module_version": "2.0.0",
      "model_name": "HTMLModel",
      "state": {
       "layout": "IPY_MODEL_d49b59bbb3614e3d936fd913ee8300cd",
       "style": "IPY_MODEL_3a8652916bd747c0b1b66fbc8ab49dfa",
       "value": "100%"
      }
     },
     "3ec752f20df1405690db6ebc92dc714e": {
      "model_module": "@jupyter-widgets/controls",
      "model_module_version": "2.0.0",
      "model_name": "FloatProgressModel",
      "state": {
       "bar_style": "success",
       "layout": "IPY_MODEL_e9bdd86c7368464f924832ae8614cc75",
       "max": 624,
       "style": "IPY_MODEL_8442aba326cc44a78ef35794515285ad",
       "value": 624
      }
     },
     "3edc43692067449fa5eed45fe5f3a6b9": {
      "model_module": "@jupyter-widgets/controls",
      "model_module_version": "2.0.0",
      "model_name": "HTMLModel",
      "state": {
       "layout": "IPY_MODEL_7a1942739a3c44eba0985ed97fe5ae7a",
       "style": "IPY_MODEL_6d214fee9bfd4790b17d9c7d1ae25bf9",
       "value": "100%"
      }
     },
     "3f2d4f3ba10446a082227a755595be94": {
      "model_module": "@jupyter-widgets/base",
      "model_module_version": "2.0.0",
      "model_name": "LayoutModel",
      "state": {}
     },
     "3f3482fb51f8425ebcd666cd43feade9": {
      "model_module": "@jupyter-widgets/controls",
      "model_module_version": "2.0.0",
      "model_name": "ProgressStyleModel",
      "state": {
       "description_width": ""
      }
     },
     "3f3f6d61e464418d986098a3d9c1ddc5": {
      "model_module": "@jupyter-widgets/controls",
      "model_module_version": "2.0.0",
      "model_name": "HTMLModel",
      "state": {
       "layout": "IPY_MODEL_cbf2f1a8950b49559b05765091eddf80",
       "style": "IPY_MODEL_d6d4ca3bfdd1474c904e362ac3a004a1",
       "value": "  0%"
      }
     },
     "3f84fa59baf242f2bc45226ec0fa25d9": {
      "model_module": "@jupyter-widgets/controls",
      "model_module_version": "2.0.0",
      "model_name": "ProgressStyleModel",
      "state": {
       "description_width": ""
      }
     },
     "3fd98c5d150f444ca82cbf826e8f26d5": {
      "model_module": "@jupyter-widgets/controls",
      "model_module_version": "2.0.0",
      "model_name": "HTMLModel",
      "state": {
       "layout": "IPY_MODEL_0e5c6b4cc4fe4cbfb71727119461bf2d",
       "style": "IPY_MODEL_d3a4870a4aa84ca0a02a746b9260d6a3",
       "value": " 631/631 [00:00&lt;00:00, 136817.92it/s]"
      }
     },
     "400657db85c34f3fbbce316c119fc13a": {
      "model_module": "@jupyter-widgets/base",
      "model_module_version": "2.0.0",
      "model_name": "LayoutModel",
      "state": {}
     },
     "4044ce73492e4fe58ea201a4dabe8094": {
      "model_module": "@jupyter-widgets/controls",
      "model_module_version": "2.0.0",
      "model_name": "HBoxModel",
      "state": {
       "children": [
        "IPY_MODEL_0991c2fdf9134e158674e992e66ff027",
        "IPY_MODEL_efc6ea8508804d1daafa8a9ec4fa20ff",
        "IPY_MODEL_e1d0f36365344b1986527d669ffc022c"
       ],
       "layout": "IPY_MODEL_c1d4aa3547134db792e72c1f0e39b180"
      }
     },
     "4080030eebdf49a4925032bb9a802dae": {
      "model_module": "@jupyter-widgets/controls",
      "model_module_version": "2.0.0",
      "model_name": "ProgressStyleModel",
      "state": {
       "description_width": ""
      }
     },
     "40d67c8125004d85baecbbe41256bc44": {
      "model_module": "@jupyter-widgets/base",
      "model_module_version": "2.0.0",
      "model_name": "LayoutModel",
      "state": {}
     },
     "41084167918546f4bad33d9f504a0a2d": {
      "model_module": "@jupyter-widgets/controls",
      "model_module_version": "2.0.0",
      "model_name": "HBoxModel",
      "state": {
       "children": [
        "IPY_MODEL_0315daa21a28487e9976bb8cf85401d4",
        "IPY_MODEL_3c911d812a5a4c93aedf0545d8ecb787",
        "IPY_MODEL_2da5ba9a5fcd4a36a1ab077ceab0447d"
       ],
       "layout": "IPY_MODEL_c0d8be1ee7c14190baf2fd1de1911d85"
      }
     },
     "410d92e755fd4b478a1916cce8f5fedb": {
      "model_module": "@jupyter-widgets/controls",
      "model_module_version": "2.0.0",
      "model_name": "HTMLStyleModel",
      "state": {
       "description_width": "",
       "font_size": null,
       "text_color": null
      }
     },
     "41ce4f602e1040fa8a2d91295982360b": {
      "model_module": "@jupyter-widgets/base",
      "model_module_version": "2.0.0",
      "model_name": "LayoutModel",
      "state": {}
     },
     "41f028314f19467cb170d4ceeb0b3481": {
      "model_module": "@jupyter-widgets/base",
      "model_module_version": "2.0.0",
      "model_name": "LayoutModel",
      "state": {}
     },
     "425cf83623384290a0dbbd23ae896273": {
      "model_module": "@jupyter-widgets/controls",
      "model_module_version": "2.0.0",
      "model_name": "FloatProgressModel",
      "state": {
       "bar_style": "success",
       "layout": "IPY_MODEL_27dee161f0be4c05aac62bf74f069109",
       "max": 450,
       "style": "IPY_MODEL_124a6cb088c14261bcb16c34d64f6eda",
       "value": 450
      }
     },
     "426a240aa863431f80da08713c972c68": {
      "model_module": "@jupyter-widgets/controls",
      "model_module_version": "2.0.0",
      "model_name": "HTMLModel",
      "state": {
       "layout": "IPY_MODEL_d2f686dc684f4720a74180497d6f5f3a",
       "style": "IPY_MODEL_ebb69c66678746efbf81e3c422222256",
       "value": " 704/704 [00:00&lt;00:00, 144709.14it/s]"
      }
     },
     "426aef702c724b3985c3ae73e64578b6": {
      "model_module": "@jupyter-widgets/base",
      "model_module_version": "2.0.0",
      "model_name": "LayoutModel",
      "state": {}
     },
     "4293931585aa48e494c58da2329ba3c9": {
      "model_module": "@jupyter-widgets/base",
      "model_module_version": "2.0.0",
      "model_name": "LayoutModel",
      "state": {}
     },
     "42b44e89019d476b95f0344d9c657505": {
      "model_module": "@jupyter-widgets/controls",
      "model_module_version": "2.0.0",
      "model_name": "HTMLModel",
      "state": {
       "layout": "IPY_MODEL_910f2a3c2daa444c9490b944925dedb0",
       "style": "IPY_MODEL_2b3741105b3541d0842ad91f706c6549",
       "value": "100%"
      }
     },
     "42d436b728b74d099f54702f47f7024e": {
      "model_module": "@jupyter-widgets/base",
      "model_module_version": "2.0.0",
      "model_name": "LayoutModel",
      "state": {}
     },
     "42da6543e008461caf0e4cd48f4223a1": {
      "model_module": "@jupyter-widgets/controls",
      "model_module_version": "2.0.0",
      "model_name": "HBoxModel",
      "state": {
       "children": [
        "IPY_MODEL_f0e4011178ba4879828b8cd512493b68",
        "IPY_MODEL_7ab8d0b3af2e4f85918336fad24642da",
        "IPY_MODEL_1039146f7e874314a778e8db7552b96a"
       ],
       "layout": "IPY_MODEL_d3f998c8f4de4b048ecefc524e445975"
      }
     },
     "42e2687fa76b4b78917a34b01b7e5e9b": {
      "model_module": "@jupyter-widgets/controls",
      "model_module_version": "2.0.0",
      "model_name": "HBoxModel",
      "state": {
       "children": [
        "IPY_MODEL_8562d886abe54c3985b6cbb70ec0630d",
        "IPY_MODEL_101754264753424793f39c14706a7673",
        "IPY_MODEL_12ebc6bd841c41e2b726204e37eb8aff"
       ],
       "layout": "IPY_MODEL_0c3afdd21e2e4a33887c2c8107b97540"
      }
     },
     "42e5a77cd0634158b5a1e782d80f65af": {
      "model_module": "@jupyter-widgets/controls",
      "model_module_version": "2.0.0",
      "model_name": "ProgressStyleModel",
      "state": {
       "description_width": ""
      }
     },
     "430df9e5797442adb9ef8ba96a9d2a89": {
      "model_module": "@jupyter-widgets/base",
      "model_module_version": "2.0.0",
      "model_name": "LayoutModel",
      "state": {}
     },
     "4316059624c04ac2b1105fa1b4550631": {
      "model_module": "@jupyter-widgets/base",
      "model_module_version": "2.0.0",
      "model_name": "LayoutModel",
      "state": {}
     },
     "4316d940ffbc4006a1e6d01f7f85ab8c": {
      "model_module": "@jupyter-widgets/base",
      "model_module_version": "2.0.0",
      "model_name": "LayoutModel",
      "state": {}
     },
     "4379ba69c9df4a2d8d57fc903e627cf6": {
      "model_module": "@jupyter-widgets/controls",
      "model_module_version": "2.0.0",
      "model_name": "HBoxModel",
      "state": {
       "children": [
        "IPY_MODEL_4c6bcfed103e44089fcdfb256c2fed03",
        "IPY_MODEL_31f216561b8d40fa8b5b385a7f3e24a7",
        "IPY_MODEL_775808f12744437f966e6ccd6edab171"
       ],
       "layout": "IPY_MODEL_5343fa5c6b154e3096f0039ae6d40d7b"
      }
     },
     "43ea81182ebc4e608e4d7b3b77c19cd8": {
      "model_module": "@jupyter-widgets/controls",
      "model_module_version": "2.0.0",
      "model_name": "HTMLStyleModel",
      "state": {
       "description_width": "",
       "font_size": null,
       "text_color": null
      }
     },
     "44166f76dcc7466e9b1960756b2c14ba": {
      "model_module": "@jupyter-widgets/controls",
      "model_module_version": "2.0.0",
      "model_name": "FloatProgressModel",
      "state": {
       "bar_style": "success",
       "layout": "IPY_MODEL_d360ab03f3ca44d48f7f3ef4d67defa4",
       "max": 474,
       "style": "IPY_MODEL_15dc509f35e94d69b7f435b179a49cbf",
       "value": 474
      }
     },
     "442956f1cd1f4b298cce706bec060392": {
      "model_module": "@jupyter-widgets/base",
      "model_module_version": "2.0.0",
      "model_name": "LayoutModel",
      "state": {}
     },
     "4487522f815d48e697732e3cc1f22123": {
      "model_module": "@jupyter-widgets/base",
      "model_module_version": "2.0.0",
      "model_name": "LayoutModel",
      "state": {}
     },
     "4565a09b2a6749e192cb56c6d7a3f924": {
      "model_module": "@jupyter-widgets/base",
      "model_module_version": "2.0.0",
      "model_name": "LayoutModel",
      "state": {}
     },
     "456a0d47371146169be6092882ca7856": {
      "model_module": "@jupyter-widgets/base",
      "model_module_version": "2.0.0",
      "model_name": "LayoutModel",
      "state": {}
     },
     "45c9803b87094d53985f22d304499667": {
      "model_module": "@jupyter-widgets/controls",
      "model_module_version": "2.0.0",
      "model_name": "HTMLModel",
      "state": {
       "layout": "IPY_MODEL_f78b52402c0b4860934f945c3d3cbf7e",
       "style": "IPY_MODEL_e7f99c8583f44d60920bce835c537eb1",
       "value": " 623/623 [00:00&lt;00:00, 124129.56it/s]"
      }
     },
     "45cce6d100b54cc1b7ec1391724c9cd6": {
      "model_module": "@jupyter-widgets/base",
      "model_module_version": "2.0.0",
      "model_name": "LayoutModel",
      "state": {}
     },
     "45e4c9bd0f5743c6a821dad49066b15d": {
      "model_module": "@jupyter-widgets/controls",
      "model_module_version": "2.0.0",
      "model_name": "HTMLStyleModel",
      "state": {
       "description_width": "",
       "font_size": null,
       "text_color": null
      }
     },
     "45eab7900fcc4d93a9a404b7e165c806": {
      "model_module": "@jupyter-widgets/base",
      "model_module_version": "2.0.0",
      "model_name": "LayoutModel",
      "state": {}
     },
     "45f1a01b6aca4563a118aa4e0c46546c": {
      "model_module": "@jupyter-widgets/base",
      "model_module_version": "2.0.0",
      "model_name": "LayoutModel",
      "state": {}
     },
     "47208f86db0f416bab88910dcd4f31a0": {
      "model_module": "@jupyter-widgets/controls",
      "model_module_version": "2.0.0",
      "model_name": "ProgressStyleModel",
      "state": {
       "description_width": ""
      }
     },
     "4791ae4f1b1a40c58bb58f2fdfdd8198": {
      "model_module": "@jupyter-widgets/base",
      "model_module_version": "2.0.0",
      "model_name": "LayoutModel",
      "state": {}
     },
     "47a465db65314d1eb75329fe03747e08": {
      "model_module": "@jupyter-widgets/controls",
      "model_module_version": "2.0.0",
      "model_name": "HTMLStyleModel",
      "state": {
       "description_width": "",
       "font_size": null,
       "text_color": null
      }
     },
     "47be06995d754844ac893927967a0b04": {
      "model_module": "@jupyter-widgets/base",
      "model_module_version": "2.0.0",
      "model_name": "LayoutModel",
      "state": {}
     },
     "47d56bf7513b4404a8ffe194be72055d": {
      "model_module": "@jupyter-widgets/controls",
      "model_module_version": "2.0.0",
      "model_name": "HBoxModel",
      "state": {
       "children": [
        "IPY_MODEL_4dbdb8cea0384021bcce075964c70162",
        "IPY_MODEL_0d9ec33d3c01468d8f2cf70db9660c58",
        "IPY_MODEL_3ca150ba520246c2854871ebc169f5c3"
       ],
       "layout": "IPY_MODEL_5d941a41c8034c19a9e40d51f3395abc"
      }
     },
     "480692ca01f04b8a978fae8d108ed78f": {
      "model_module": "@jupyter-widgets/base",
      "model_module_version": "2.0.0",
      "model_name": "LayoutModel",
      "state": {}
     },
     "482d6048bc604947b25718ed9a5a493e": {
      "model_module": "@jupyter-widgets/controls",
      "model_module_version": "2.0.0",
      "model_name": "HTMLModel",
      "state": {
       "layout": "IPY_MODEL_92344908d6cf4c159be1a51886d21d1e",
       "style": "IPY_MODEL_975020bdcd8040baab43968d0dcd4b65",
       "value": " 0/702 [00:00&lt;?, ?it/s]"
      }
     },
     "4836d4233e8c49208e57856841ee6173": {
      "model_module": "@jupyter-widgets/base",
      "model_module_version": "2.0.0",
      "model_name": "LayoutModel",
      "state": {}
     },
     "4881dc79369a45afafc2945c7eccedcd": {
      "model_module": "@jupyter-widgets/base",
      "model_module_version": "2.0.0",
      "model_name": "LayoutModel",
      "state": {}
     },
     "492b7ef990cc40ad9ed2e5d06cd6a456": {
      "model_module": "@jupyter-widgets/base",
      "model_module_version": "2.0.0",
      "model_name": "LayoutModel",
      "state": {}
     },
     "493156b3208a4283bc0d7172c23659b8": {
      "model_module": "@jupyter-widgets/controls",
      "model_module_version": "2.0.0",
      "model_name": "FloatProgressModel",
      "state": {
       "bar_style": "success",
       "layout": "IPY_MODEL_883d46527e8f4cb0a694ad9662c1409e",
       "max": 653,
       "style": "IPY_MODEL_bef410d70aac41baa87b3ac4d63f0eaf",
       "value": 653
      }
     },
     "49359984b1c84e83863db0f228803344": {
      "model_module": "@jupyter-widgets/controls",
      "model_module_version": "2.0.0",
      "model_name": "HTMLModel",
      "state": {
       "layout": "IPY_MODEL_5cba787b6dbb4a4983d543d311026162",
       "style": "IPY_MODEL_dd6e800462314f4583ed64dcc7664e9f",
       "value": "100%"
      }
     },
     "4990dd17d7734b3ab046cb9d39e7088b": {
      "model_module": "@jupyter-widgets/controls",
      "model_module_version": "2.0.0",
      "model_name": "HBoxModel",
      "state": {
       "children": [
        "IPY_MODEL_fa34e479df984ccab1554f16e9ee3588",
        "IPY_MODEL_26833c364e1747e78b8efec52df21a0e",
        "IPY_MODEL_b93dc8a9930f4aef8ae99fff22e48c07"
       ],
       "layout": "IPY_MODEL_1dcecd907f4a4c438e5fae9a34034d4b"
      }
     },
     "49c9f91507cf471cb5e96f3d4ea48547": {
      "model_module": "@jupyter-widgets/base",
      "model_module_version": "2.0.0",
      "model_name": "LayoutModel",
      "state": {}
     },
     "49fe4f963d1846c790a17962ff11e2cb": {
      "model_module": "@jupyter-widgets/base",
      "model_module_version": "2.0.0",
      "model_name": "LayoutModel",
      "state": {}
     },
     "4a10ec3fa8f045b08728366f9a3bc8f5": {
      "model_module": "@jupyter-widgets/base",
      "model_module_version": "2.0.0",
      "model_name": "LayoutModel",
      "state": {}
     },
     "4a208d29114d44429d53f98157ba4909": {
      "model_module": "@jupyter-widgets/base",
      "model_module_version": "2.0.0",
      "model_name": "LayoutModel",
      "state": {}
     },
     "4a32f01bbcc54d60a1b9f551a6cffa85": {
      "model_module": "@jupyter-widgets/controls",
      "model_module_version": "2.0.0",
      "model_name": "HTMLStyleModel",
      "state": {
       "description_width": "",
       "font_size": null,
       "text_color": null
      }
     },
     "4a4977b225f8407387073c49925d857c": {
      "model_module": "@jupyter-widgets/base",
      "model_module_version": "2.0.0",
      "model_name": "LayoutModel",
      "state": {}
     },
     "4a508e95308e467b8fdcbaa812118193": {
      "model_module": "@jupyter-widgets/base",
      "model_module_version": "2.0.0",
      "model_name": "LayoutModel",
      "state": {}
     },
     "4a535e6cb5ab4b54b304a93a115bda4c": {
      "model_module": "@jupyter-widgets/controls",
      "model_module_version": "2.0.0",
      "model_name": "HTMLModel",
      "state": {
       "layout": "IPY_MODEL_2e53c3cc974c490bbb2d31b767721005",
       "style": "IPY_MODEL_1b1a84f70b1f4f34a5378d83e8bde5f0",
       "value": " 0/582 [00:00&lt;?, ?it/s]"
      }
     },
     "4abb934c3e8d4d97856388eb8b6bec12": {
      "model_module": "@jupyter-widgets/base",
      "model_module_version": "2.0.0",
      "model_name": "LayoutModel",
      "state": {}
     },
     "4ac2bbec89414a0bbcaa9b4328f7a96f": {
      "model_module": "@jupyter-widgets/base",
      "model_module_version": "2.0.0",
      "model_name": "LayoutModel",
      "state": {}
     },
     "4acacf2db06b41858fbc2b2e569f5faf": {
      "model_module": "@jupyter-widgets/base",
      "model_module_version": "2.0.0",
      "model_name": "LayoutModel",
      "state": {}
     },
     "4aeed59b794646a5bebd905fabe039d6": {
      "model_module": "@jupyter-widgets/controls",
      "model_module_version": "2.0.0",
      "model_name": "HTMLModel",
      "state": {
       "layout": "IPY_MODEL_cd45f99ea97348a8a80568acc325b1cb",
       "style": "IPY_MODEL_afa6e47a92b34622bffaef7bab678278",
       "value": " 472/472 [00:00&lt;00:00, 106573.62it/s]"
      }
     },
     "4af7aa3269094a8c97961de7cc992416": {
      "model_module": "@jupyter-widgets/base",
      "model_module_version": "2.0.0",
      "model_name": "LayoutModel",
      "state": {}
     },
     "4b02f89674144d3db818d12adf4b139d": {
      "model_module": "@jupyter-widgets/controls",
      "model_module_version": "2.0.0",
      "model_name": "HTMLStyleModel",
      "state": {
       "description_width": "",
       "font_size": null,
       "text_color": null
      }
     },
     "4b1e8f33f61a4d2f86a853f91b264a5f": {
      "model_module": "@jupyter-widgets/controls",
      "model_module_version": "2.0.0",
      "model_name": "HTMLModel",
      "state": {
       "layout": "IPY_MODEL_b5faab4c99e141d9a3890defe528b194",
       "style": "IPY_MODEL_47a465db65314d1eb75329fe03747e08",
       "value": "100%"
      }
     },
     "4b62aa0d871c4d76aa112e9d2e0a7863": {
      "model_module": "@jupyter-widgets/controls",
      "model_module_version": "2.0.0",
      "model_name": "HTMLModel",
      "state": {
       "layout": "IPY_MODEL_ec8c7c897fc047ee996031658017fe8d",
       "style": "IPY_MODEL_89721fe6343647a6a9c9b50715cb3de5",
       "value": " 0/582 [00:00&lt;?, ?it/s]"
      }
     },
     "4b97658bb6714f85abe386ec6afbf7e7": {
      "model_module": "@jupyter-widgets/controls",
      "model_module_version": "2.0.0",
      "model_name": "HTMLModel",
      "state": {
       "layout": "IPY_MODEL_b5c2b1244cd54319973dc7e68be7e1d1",
       "style": "IPY_MODEL_17f9801f9ac342658d725482d59d35e9",
       "value": "100%"
      }
     },
     "4be373ea81174740abcc19be1a06d919": {
      "model_module": "@jupyter-widgets/controls",
      "model_module_version": "2.0.0",
      "model_name": "FloatProgressModel",
      "state": {
       "bar_style": "success",
       "layout": "IPY_MODEL_8d6ef156db8f4a298f0b167ec9469d41",
       "max": 365,
       "style": "IPY_MODEL_c05b0f8252274ac9b2209009c83cbf16",
       "value": 365
      }
     },
     "4c4c60c10aea4c46bfa8c02da800918c": {
      "model_module": "@jupyter-widgets/base",
      "model_module_version": "2.0.0",
      "model_name": "LayoutModel",
      "state": {}
     },
     "4c6adc66432a474eb4cf970e36cf4327": {
      "model_module": "@jupyter-widgets/controls",
      "model_module_version": "2.0.0",
      "model_name": "HTMLModel",
      "state": {
       "layout": "IPY_MODEL_ffc1a09d1b5a4e8e989b9a1fc976a052",
       "style": "IPY_MODEL_d48e597cfe67435abac1b84f3f6c9ee7",
       "value": " 628/628 [00:00&lt;00:00, 145261.29it/s]"
      }
     },
     "4c6bcfed103e44089fcdfb256c2fed03": {
      "model_module": "@jupyter-widgets/controls",
      "model_module_version": "2.0.0",
      "model_name": "HTMLModel",
      "state": {
       "layout": "IPY_MODEL_74f057977bfe4cfa8f02b43e36b41640",
       "style": "IPY_MODEL_66a91760550d4fa299730896f02c46b9",
       "value": "  0%"
      }
     },
     "4c70085c79a6432dafaeb84605f00f79": {
      "model_module": "@jupyter-widgets/controls",
      "model_module_version": "2.0.0",
      "model_name": "HTMLStyleModel",
      "state": {
       "description_width": "",
       "font_size": null,
       "text_color": null
      }
     },
     "4d3464383c85433c832a38c308a58528": {
      "model_module": "@jupyter-widgets/controls",
      "model_module_version": "2.0.0",
      "model_name": "HBoxModel",
      "state": {
       "children": [
        "IPY_MODEL_7c670a56d7d64b7d84706540c771bd2b",
        "IPY_MODEL_19cd162dfdd14e91bee38f1c7be207c3",
        "IPY_MODEL_e5e1c34671b34f418cc63482e6596f7b"
       ],
       "layout": "IPY_MODEL_0fbb8b79028f46aea23fa57764be9fe5"
      }
     },
     "4d68e39226c74c079cb50d4a57829ead": {
      "model_module": "@jupyter-widgets/controls",
      "model_module_version": "2.0.0",
      "model_name": "HTMLStyleModel",
      "state": {
       "description_width": "",
       "font_size": null,
       "text_color": null
      }
     },
     "4d956e721e804a66b6af575eef83077e": {
      "model_module": "@jupyter-widgets/base",
      "model_module_version": "2.0.0",
      "model_name": "LayoutModel",
      "state": {}
     },
     "4daa195d464a4337baa0fe1a2dd52217": {
      "model_module": "@jupyter-widgets/controls",
      "model_module_version": "2.0.0",
      "model_name": "ProgressStyleModel",
      "state": {
       "description_width": ""
      }
     },
     "4dbdb8cea0384021bcce075964c70162": {
      "model_module": "@jupyter-widgets/controls",
      "model_module_version": "2.0.0",
      "model_name": "HTMLModel",
      "state": {
       "layout": "IPY_MODEL_5389905a3a64435daf047be7d07f40a9",
       "style": "IPY_MODEL_111be3ac3f6e4ad1a2b19429b45ce920",
       "value": "100%"
      }
     },
     "4ddf63cf671d484aa8443fdf08d08e20": {
      "model_module": "@jupyter-widgets/controls",
      "model_module_version": "2.0.0",
      "model_name": "ProgressStyleModel",
      "state": {
       "description_width": ""
      }
     },
     "4e5b39833d214a918948243114fa906d": {
      "model_module": "@jupyter-widgets/controls",
      "model_module_version": "2.0.0",
      "model_name": "FloatProgressModel",
      "state": {
       "bar_style": "success",
       "layout": "IPY_MODEL_a1682eadbf0946249d37e68a72c2e3fb",
       "max": 593,
       "style": "IPY_MODEL_321d28739f0b431c935dc09a592b8fa3",
       "value": 593
      }
     },
     "4e7850913d0548cd8d050a9e78bb336b": {
      "model_module": "@jupyter-widgets/controls",
      "model_module_version": "2.0.0",
      "model_name": "HBoxModel",
      "state": {
       "children": [
        "IPY_MODEL_0ae8849151794c29bd1d608cb09cf7d7",
        "IPY_MODEL_6a63f81d90094855ba91e958f8f1cf8a",
        "IPY_MODEL_833f4fa35cd14c37a7cc57629118a16b"
       ],
       "layout": "IPY_MODEL_b351d958b0bc47e2bffca5e5db3b7544"
      }
     },
     "4ea9154195994cb2bfc105965ffeeffc": {
      "model_module": "@jupyter-widgets/controls",
      "model_module_version": "2.0.0",
      "model_name": "HBoxModel",
      "state": {
       "children": [
        "IPY_MODEL_c80fb5259d6940d28980edb2454549b9",
        "IPY_MODEL_f0d0f1854e994c6384a567f05f09a28c",
        "IPY_MODEL_e668623aed7f4fcfaa969d6e81ea4660"
       ],
       "layout": "IPY_MODEL_69ee27f2a149427cbcb3ad287a1d3799"
      }
     },
     "4eb4261a441b4b13b7f97905097a5aa7": {
      "model_module": "@jupyter-widgets/controls",
      "model_module_version": "2.0.0",
      "model_name": "ProgressStyleModel",
      "state": {
       "description_width": ""
      }
     },
     "4eb6c64da56743f69dafcde96b6ff248": {
      "model_module": "@jupyter-widgets/controls",
      "model_module_version": "2.0.0",
      "model_name": "HBoxModel",
      "state": {
       "children": [
        "IPY_MODEL_543925458a204420b51159c62d387489",
        "IPY_MODEL_b2f6520892bf4fd4b2874bb7c9fcdc62",
        "IPY_MODEL_4a535e6cb5ab4b54b304a93a115bda4c"
       ],
       "layout": "IPY_MODEL_4fb7049819744e64b16bd249dbb57a08"
      }
     },
     "4eb7229ba40e47d08c2cdc9a76005b2c": {
      "model_module": "@jupyter-widgets/controls",
      "model_module_version": "2.0.0",
      "model_name": "HBoxModel",
      "state": {
       "children": [
        "IPY_MODEL_0004813407d945e1856f73a2a0bd80df",
        "IPY_MODEL_44166f76dcc7466e9b1960756b2c14ba",
        "IPY_MODEL_230efbe5dde142faa8ae7c0eb0054d87"
       ],
       "layout": "IPY_MODEL_45eab7900fcc4d93a9a404b7e165c806"
      }
     },
     "4ec72e9c08194fd28041e747717103ef": {
      "model_module": "@jupyter-widgets/controls",
      "model_module_version": "2.0.0",
      "model_name": "FloatProgressModel",
      "state": {
       "bar_style": "success",
       "layout": "IPY_MODEL_357521d9500349bf9917ff58995d6cd2",
       "max": 632,
       "style": "IPY_MODEL_7ef28dcd986042bea339f64b7998c5c7",
       "value": 632
      }
     },
     "4ed09517f3e74988922d43f042881637": {
      "model_module": "@jupyter-widgets/controls",
      "model_module_version": "2.0.0",
      "model_name": "FloatProgressModel",
      "state": {
       "bar_style": "success",
       "layout": "IPY_MODEL_d2ef124ab4d742af9788cf7d211ca8d8",
       "max": 578,
       "style": "IPY_MODEL_139d69aa4e9e435dbc55125b53adf448",
       "value": 578
      }
     },
     "4f096a5907854fb0a76535106e2ceeb8": {
      "model_module": "@jupyter-widgets/controls",
      "model_module_version": "2.0.0",
      "model_name": "ProgressStyleModel",
      "state": {
       "description_width": ""
      }
     },
     "4f4e2945df964b4380735be138725099": {
      "model_module": "@jupyter-widgets/controls",
      "model_module_version": "2.0.0",
      "model_name": "HTMLStyleModel",
      "state": {
       "description_width": "",
       "font_size": null,
       "text_color": null
      }
     },
     "4fb7049819744e64b16bd249dbb57a08": {
      "model_module": "@jupyter-widgets/base",
      "model_module_version": "2.0.0",
      "model_name": "LayoutModel",
      "state": {}
     },
     "4fd85368be894e4db0b8316fec659dde": {
      "model_module": "@jupyter-widgets/controls",
      "model_module_version": "2.0.0",
      "model_name": "HTMLModel",
      "state": {
       "layout": "IPY_MODEL_5371644db8274910959cbad0516b7609",
       "style": "IPY_MODEL_f9dc6ad363ce4d34958aaa835e5139f0",
       "value": " 365/365 [00:00&lt;00:00, 80144.54it/s]"
      }
     },
     "4ff772c5b87c4a79980a0a169a54db09": {
      "model_module": "@jupyter-widgets/base",
      "model_module_version": "2.0.0",
      "model_name": "LayoutModel",
      "state": {}
     },
     "500ac45e27dc4b34b9510c5869a1cdab": {
      "model_module": "@jupyter-widgets/controls",
      "model_module_version": "2.0.0",
      "model_name": "ProgressStyleModel",
      "state": {
       "description_width": ""
      }
     },
     "505f03e4ae9044ddb618db65f17bf9f6": {
      "model_module": "@jupyter-widgets/base",
      "model_module_version": "2.0.0",
      "model_name": "LayoutModel",
      "state": {}
     },
     "5061ede62ab145db85d1c1576906e146": {
      "model_module": "@jupyter-widgets/controls",
      "model_module_version": "2.0.0",
      "model_name": "ProgressStyleModel",
      "state": {
       "description_width": ""
      }
     },
     "5074ee9573304b4bb22ce7226184b171": {
      "model_module": "@jupyter-widgets/controls",
      "model_module_version": "2.0.0",
      "model_name": "HTMLStyleModel",
      "state": {
       "description_width": "",
       "font_size": null,
       "text_color": null
      }
     },
     "507877b5646742d8a705142aa76e15c1": {
      "model_module": "@jupyter-widgets/controls",
      "model_module_version": "2.0.0",
      "model_name": "HTMLStyleModel",
      "state": {
       "description_width": "",
       "font_size": null,
       "text_color": null
      }
     },
     "5078f9949e8346bfa6387f4199856e99": {
      "model_module": "@jupyter-widgets/controls",
      "model_module_version": "2.0.0",
      "model_name": "HTMLModel",
      "state": {
       "layout": "IPY_MODEL_f16fb6f75d13445f8e224165ef7dc975",
       "style": "IPY_MODEL_13decc10f6cb46ba850e31d294532f17",
       "value": " 0/582 [00:00&lt;?, ?it/s]"
      }
     },
     "50c0e36ba4af4259b42e1cf4304d1607": {
      "model_module": "@jupyter-widgets/base",
      "model_module_version": "2.0.0",
      "model_name": "LayoutModel",
      "state": {}
     },
     "5103fa6a446044e5ac2a17aaeefc483f": {
      "model_module": "@jupyter-widgets/controls",
      "model_module_version": "2.0.0",
      "model_name": "ProgressStyleModel",
      "state": {
       "description_width": ""
      }
     },
     "51546bc3597c429b9541acba372186df": {
      "model_module": "@jupyter-widgets/base",
      "model_module_version": "2.0.0",
      "model_name": "LayoutModel",
      "state": {}
     },
     "518f57c72e0d4da0998b4a606b35acce": {
      "model_module": "@jupyter-widgets/base",
      "model_module_version": "2.0.0",
      "model_name": "LayoutModel",
      "state": {}
     },
     "520bebaa6fa845a1bbcbc1ef36138bf2": {
      "model_module": "@jupyter-widgets/controls",
      "model_module_version": "2.0.0",
      "model_name": "HTMLStyleModel",
      "state": {
       "description_width": "",
       "font_size": null,
       "text_color": null
      }
     },
     "5245a9c93a224139aee0cae3ed35949b": {
      "model_module": "@jupyter-widgets/controls",
      "model_module_version": "2.0.0",
      "model_name": "HTMLStyleModel",
      "state": {
       "description_width": "",
       "font_size": null,
       "text_color": null
      }
     },
     "52b3df5bfdf24d058eae75f007e79686": {
      "model_module": "@jupyter-widgets/controls",
      "model_module_version": "2.0.0",
      "model_name": "HTMLModel",
      "state": {
       "layout": "IPY_MODEL_657f2bbcf7f34d188b67687a321bf4ec",
       "style": "IPY_MODEL_cdb992e99d1f4fc190398b1c4fc17459",
       "value": "  0%"
      }
     },
     "52e6215d2aa24c249dd9774a9cb77580": {
      "model_module": "@jupyter-widgets/controls",
      "model_module_version": "2.0.0",
      "model_name": "HTMLStyleModel",
      "state": {
       "description_width": "",
       "font_size": null,
       "text_color": null
      }
     },
     "52f831e5ecce4e5494cb8ac055ceede8": {
      "model_module": "@jupyter-widgets/controls",
      "model_module_version": "2.0.0",
      "model_name": "FloatProgressModel",
      "state": {
       "bar_style": "success",
       "layout": "IPY_MODEL_47be06995d754844ac893927967a0b04",
       "max": 634,
       "style": "IPY_MODEL_4f096a5907854fb0a76535106e2ceeb8",
       "value": 634
      }
     },
     "53239fb8b85b4f2db1d7421abe635485": {
      "model_module": "@jupyter-widgets/controls",
      "model_module_version": "2.0.0",
      "model_name": "HTMLStyleModel",
      "state": {
       "description_width": "",
       "font_size": null,
       "text_color": null
      }
     },
     "5343fa5c6b154e3096f0039ae6d40d7b": {
      "model_module": "@jupyter-widgets/base",
      "model_module_version": "2.0.0",
      "model_name": "LayoutModel",
      "state": {}
     },
     "53533a590852488ebef39c171f003040": {
      "model_module": "@jupyter-widgets/base",
      "model_module_version": "2.0.0",
      "model_name": "LayoutModel",
      "state": {}
     },
     "5371644db8274910959cbad0516b7609": {
      "model_module": "@jupyter-widgets/base",
      "model_module_version": "2.0.0",
      "model_name": "LayoutModel",
      "state": {}
     },
     "5389905a3a64435daf047be7d07f40a9": {
      "model_module": "@jupyter-widgets/base",
      "model_module_version": "2.0.0",
      "model_name": "LayoutModel",
      "state": {}
     },
     "53e8abb2081046388ac8c95b0aa34dc5": {
      "model_module": "@jupyter-widgets/base",
      "model_module_version": "2.0.0",
      "model_name": "LayoutModel",
      "state": {}
     },
     "53f3e3c48a904747affca1fce8e076f2": {
      "model_module": "@jupyter-widgets/controls",
      "model_module_version": "2.0.0",
      "model_name": "HTMLModel",
      "state": {
       "layout": "IPY_MODEL_83d00a87a91f4730887351507853754f",
       "style": "IPY_MODEL_90160766438b4fd7ae2970c424819287",
       "value": "100%"
      }
     },
     "543925458a204420b51159c62d387489": {
      "model_module": "@jupyter-widgets/controls",
      "model_module_version": "2.0.0",
      "model_name": "HTMLModel",
      "state": {
       "layout": "IPY_MODEL_1cced13fbaec49f8b4cdbdae0ee96ca5",
       "style": "IPY_MODEL_c15d1a995cdd459d9db14322ad2f9cb3",
       "value": "  0%"
      }
     },
     "549921cf461c4573bc82cf22ffb0ef8b": {
      "model_module": "@jupyter-widgets/base",
      "model_module_version": "2.0.0",
      "model_name": "LayoutModel",
      "state": {}
     },
     "54f6b6fbe73446e58957521949af1c43": {
      "model_module": "@jupyter-widgets/controls",
      "model_module_version": "2.0.0",
      "model_name": "HTMLModel",
      "state": {
       "layout": "IPY_MODEL_23f5f02f55f3468790f1651f6e0e3188",
       "style": "IPY_MODEL_507877b5646742d8a705142aa76e15c1",
       "value": "  0%"
      }
     },
     "558f761992f6486ebd344da569410304": {
      "model_module": "@jupyter-widgets/base",
      "model_module_version": "2.0.0",
      "model_name": "LayoutModel",
      "state": {}
     },
     "55a3665fa04e4ccc8a4d8dbb51a0f1f4": {
      "model_module": "@jupyter-widgets/controls",
      "model_module_version": "2.0.0",
      "model_name": "HTMLStyleModel",
      "state": {
       "description_width": "",
       "font_size": null,
       "text_color": null
      }
     },
     "55a9c489a76340198988b572e8b19e5f": {
      "model_module": "@jupyter-widgets/base",
      "model_module_version": "2.0.0",
      "model_name": "LayoutModel",
      "state": {}
     },
     "55de41bcf5d04cf89f895310ec690866": {
      "model_module": "@jupyter-widgets/controls",
      "model_module_version": "2.0.0",
      "model_name": "HBoxModel",
      "state": {
       "children": [
        "IPY_MODEL_f7bf289bd81d4934a17869fe4d8416d0",
        "IPY_MODEL_d5c210e0df514526aabc9843ee92671e",
        "IPY_MODEL_922ce093eaac4441888d75040bac39fc"
       ],
       "layout": "IPY_MODEL_812b73d419944b748e1b0a20a5c4cece"
      }
     },
     "56308c78ad8e488ea6e5b9f75e3790ba": {
      "model_module": "@jupyter-widgets/controls",
      "model_module_version": "2.0.0",
      "model_name": "ProgressStyleModel",
      "state": {
       "description_width": ""
      }
     },
     "567417c73a014976b7ef5c3facf993b4": {
      "model_module": "@jupyter-widgets/base",
      "model_module_version": "2.0.0",
      "model_name": "LayoutModel",
      "state": {}
     },
     "568691c645ca4329a304c95203420ac2": {
      "model_module": "@jupyter-widgets/base",
      "model_module_version": "2.0.0",
      "model_name": "LayoutModel",
      "state": {}
     },
     "56b46d7a951b4d1c8bb31ed6bb281a03": {
      "model_module": "@jupyter-widgets/base",
      "model_module_version": "2.0.0",
      "model_name": "LayoutModel",
      "state": {}
     },
     "56f9026381604acf9f0c65f8187a3d87": {
      "model_module": "@jupyter-widgets/controls",
      "model_module_version": "2.0.0",
      "model_name": "HTMLModel",
      "state": {
       "layout": "IPY_MODEL_0ec09b7fabac41d1be020f43604a020e",
       "style": "IPY_MODEL_b0d054955dd64517b732e2a530c5d957",
       "value": "  0%"
      }
     },
     "56ffc6e84d014500b8ba57423405a871": {
      "model_module": "@jupyter-widgets/controls",
      "model_module_version": "2.0.0",
      "model_name": "ProgressStyleModel",
      "state": {
       "description_width": ""
      }
     },
     "57724473cff74af2b10cb958a1581967": {
      "model_module": "@jupyter-widgets/base",
      "model_module_version": "2.0.0",
      "model_name": "LayoutModel",
      "state": {}
     },
     "5784f6c9144e4a1184c6eb167bdab1b9": {
      "model_module": "@jupyter-widgets/base",
      "model_module_version": "2.0.0",
      "model_name": "LayoutModel",
      "state": {}
     },
     "582f865d56524a29b9154220c5450765": {
      "model_module": "@jupyter-widgets/base",
      "model_module_version": "2.0.0",
      "model_name": "LayoutModel",
      "state": {}
     },
     "58472e408b7a48babfdd52115c97416f": {
      "model_module": "@jupyter-widgets/base",
      "model_module_version": "2.0.0",
      "model_name": "LayoutModel",
      "state": {}
     },
     "588c889d08b94d509edc6814ede83c5e": {
      "model_module": "@jupyter-widgets/base",
      "model_module_version": "2.0.0",
      "model_name": "LayoutModel",
      "state": {}
     },
     "58ba00d597884e23999bf35060549a45": {
      "model_module": "@jupyter-widgets/controls",
      "model_module_version": "2.0.0",
      "model_name": "HBoxModel",
      "state": {
       "children": [
        "IPY_MODEL_5f996049fe9f4171bc4c5ca405d4c58d",
        "IPY_MODEL_cbce0546875044f58cb3a0c18736b78e",
        "IPY_MODEL_ecadacf646924aa980c7c666cce63044"
       ],
       "layout": "IPY_MODEL_bd0926206d8d4ccda33d001e20ff095e"
      }
     },
     "58be02f2f62942ee924cf8bba82d8496": {
      "model_module": "@jupyter-widgets/base",
      "model_module_version": "2.0.0",
      "model_name": "LayoutModel",
      "state": {}
     },
     "58d4887eb13e40a594501f138f803d99": {
      "model_module": "@jupyter-widgets/base",
      "model_module_version": "2.0.0",
      "model_name": "LayoutModel",
      "state": {}
     },
     "596b86deb43e44bfbad34e6a7bba3e63": {
      "model_module": "@jupyter-widgets/base",
      "model_module_version": "2.0.0",
      "model_name": "LayoutModel",
      "state": {}
     },
     "59b1ab6870cb4a2aa5a017f59295e38d": {
      "model_module": "@jupyter-widgets/controls",
      "model_module_version": "2.0.0",
      "model_name": "ProgressStyleModel",
      "state": {
       "description_width": ""
      }
     },
     "59c58361e7804143a9bd49efac51b15b": {
      "model_module": "@jupyter-widgets/base",
      "model_module_version": "2.0.0",
      "model_name": "LayoutModel",
      "state": {}
     },
     "59d79da074b64951bae43c8145e3d967": {
      "model_module": "@jupyter-widgets/base",
      "model_module_version": "2.0.0",
      "model_name": "LayoutModel",
      "state": {}
     },
     "59f7b6be255c4d5c8de2f3ed4c2cb0e1": {
      "model_module": "@jupyter-widgets/base",
      "model_module_version": "2.0.0",
      "model_name": "LayoutModel",
      "state": {}
     },
     "5a68a38cd9b34e4bb6d6275e3702245f": {
      "model_module": "@jupyter-widgets/base",
      "model_module_version": "2.0.0",
      "model_name": "LayoutModel",
      "state": {}
     },
     "5ab82d6e2f93485293161d0df1d904ac": {
      "model_module": "@jupyter-widgets/base",
      "model_module_version": "2.0.0",
      "model_name": "LayoutModel",
      "state": {}
     },
     "5ac53e4d72054207abc89b609157b6ff": {
      "model_module": "@jupyter-widgets/base",
      "model_module_version": "2.0.0",
      "model_name": "LayoutModel",
      "state": {}
     },
     "5aef1cd825a34c53aed93f703a0d2220": {
      "model_module": "@jupyter-widgets/controls",
      "model_module_version": "2.0.0",
      "model_name": "HTMLStyleModel",
      "state": {
       "description_width": "",
       "font_size": null,
       "text_color": null
      }
     },
     "5b0843770c834d01984991a34a6f6581": {
      "model_module": "@jupyter-widgets/controls",
      "model_module_version": "2.0.0",
      "model_name": "FloatProgressModel",
      "state": {
       "bar_style": "success",
       "layout": "IPY_MODEL_ac125ba60fcc4d7c9b4ca5de5423b2c9",
       "max": 625,
       "style": "IPY_MODEL_9cf975275f4c4388997531be45cbe954",
       "value": 625
      }
     },
     "5b390e97fb774501935b2c7c2eec465b": {
      "model_module": "@jupyter-widgets/controls",
      "model_module_version": "2.0.0",
      "model_name": "FloatProgressModel",
      "state": {
       "bar_style": "danger",
       "layout": "IPY_MODEL_321c84477aa94ccf8a22faa8d5a514b8",
       "max": 582,
       "style": "IPY_MODEL_4ddf63cf671d484aa8443fdf08d08e20"
      }
     },
     "5b3c78847edc421c92e1746d7705b65e": {
      "model_module": "@jupyter-widgets/controls",
      "model_module_version": "2.0.0",
      "model_name": "HTMLStyleModel",
      "state": {
       "description_width": "",
       "font_size": null,
       "text_color": null
      }
     },
     "5b47b6898cdf45aa9005ff7d50bb6ee0": {
      "model_module": "@jupyter-widgets/controls",
      "model_module_version": "2.0.0",
      "model_name": "HTMLModel",
      "state": {
       "layout": "IPY_MODEL_5ed35ca6145f46ba96544fefb2a98fbf",
       "style": "IPY_MODEL_c69780df4dcb4a058dd88d210251e20e",
       "value": " 745/745 [00:00&lt;00:00, 165401.04it/s]"
      }
     },
     "5b8075817c24499aaa27c85e257885f5": {
      "model_module": "@jupyter-widgets/base",
      "model_module_version": "2.0.0",
      "model_name": "LayoutModel",
      "state": {}
     },
     "5b8b5088340648b0977e49d3ccf4d84d": {
      "model_module": "@jupyter-widgets/base",
      "model_module_version": "2.0.0",
      "model_name": "LayoutModel",
      "state": {}
     },
     "5bf4216b3bd9487890202f4e3fae43d8": {
      "model_module": "@jupyter-widgets/controls",
      "model_module_version": "2.0.0",
      "model_name": "ProgressStyleModel",
      "state": {
       "description_width": ""
      }
     },
     "5c377d593a35483ebf8215941f761df8": {
      "model_module": "@jupyter-widgets/controls",
      "model_module_version": "2.0.0",
      "model_name": "HTMLStyleModel",
      "state": {
       "description_width": "",
       "font_size": null,
       "text_color": null
      }
     },
     "5c967f18f7c94a22b24a46f095b30f43": {
      "model_module": "@jupyter-widgets/controls",
      "model_module_version": "2.0.0",
      "model_name": "HBoxModel",
      "state": {
       "children": [
        "IPY_MODEL_6e14629ba40f431cb0c694a7aaa78a5b",
        "IPY_MODEL_6fe70d3e0b834adc8a1bef91d003d34f",
        "IPY_MODEL_eae2d748b04341ac9d24e946e416c354"
       ],
       "layout": "IPY_MODEL_df613ca896d74bc29213f674473949f3"
      }
     },
     "5cb59fed39d24e698386393154486e92": {
      "model_module": "@jupyter-widgets/controls",
      "model_module_version": "2.0.0",
      "model_name": "HTMLStyleModel",
      "state": {
       "description_width": "",
       "font_size": null,
       "text_color": null
      }
     },
     "5cba787b6dbb4a4983d543d311026162": {
      "model_module": "@jupyter-widgets/base",
      "model_module_version": "2.0.0",
      "model_name": "LayoutModel",
      "state": {}
     },
     "5d01a1167d3c449a99978939717f336a": {
      "model_module": "@jupyter-widgets/controls",
      "model_module_version": "2.0.0",
      "model_name": "ProgressStyleModel",
      "state": {
       "description_width": ""
      }
     },
     "5d5244d48d444eda8e1cf1d93ce68f7e": {
      "model_module": "@jupyter-widgets/controls",
      "model_module_version": "2.0.0",
      "model_name": "HBoxModel",
      "state": {
       "children": [
        "IPY_MODEL_3f3f6d61e464418d986098a3d9c1ddc5",
        "IPY_MODEL_150db3a476b04a25b2aa68a1d39037c9",
        "IPY_MODEL_90b2016980d64c47ad134cfc6d8bb066"
       ],
       "layout": "IPY_MODEL_cc5331c6a3c24f0eba47a3b9f890a9db"
      }
     },
     "5d745d59f6724e40a7c3e72cc26b3b7d": {
      "model_module": "@jupyter-widgets/controls",
      "model_module_version": "2.0.0",
      "model_name": "HTMLStyleModel",
      "state": {
       "description_width": "",
       "font_size": null,
       "text_color": null
      }
     },
     "5d941a41c8034c19a9e40d51f3395abc": {
      "model_module": "@jupyter-widgets/base",
      "model_module_version": "2.0.0",
      "model_name": "LayoutModel",
      "state": {}
     },
     "5de6732522574ab5ba5d6f3aebd3cb98": {
      "model_module": "@jupyter-widgets/base",
      "model_module_version": "2.0.0",
      "model_name": "LayoutModel",
      "state": {}
     },
     "5ed35ca6145f46ba96544fefb2a98fbf": {
      "model_module": "@jupyter-widgets/base",
      "model_module_version": "2.0.0",
      "model_name": "LayoutModel",
      "state": {}
     },
     "5ed90f970dd846f492fcb230dd003cc5": {
      "model_module": "@jupyter-widgets/controls",
      "model_module_version": "2.0.0",
      "model_name": "HTMLModel",
      "state": {
       "layout": "IPY_MODEL_08d01a4be8a4412ab50df8f83944426c",
       "style": "IPY_MODEL_aed69f2ccf3447b29f237fb76f7a3286",
       "value": " 642/642 [00:00&lt;00:00, 142345.15it/s]"
      }
     },
     "5f25013431db4e56804fcf341b75700f": {
      "model_module": "@jupyter-widgets/controls",
      "model_module_version": "2.0.0",
      "model_name": "HTMLModel",
      "state": {
       "layout": "IPY_MODEL_060d7c4a9a2e421aab6b876efaabba5f",
       "style": "IPY_MODEL_52e6215d2aa24c249dd9774a9cb77580",
       "value": " 674/674 [00:00&lt;00:00, 148944.20it/s]"
      }
     },
     "5f256aec84d24981b7a2d0ce73703a2e": {
      "model_module": "@jupyter-widgets/base",
      "model_module_version": "2.0.0",
      "model_name": "LayoutModel",
      "state": {}
     },
     "5f3c75cee5f34560aeded47b49870a33": {
      "model_module": "@jupyter-widgets/controls",
      "model_module_version": "2.0.0",
      "model_name": "ProgressStyleModel",
      "state": {
       "description_width": ""
      }
     },
     "5f701715e73749bda1bdec218970ca1e": {
      "model_module": "@jupyter-widgets/controls",
      "model_module_version": "2.0.0",
      "model_name": "HTMLModel",
      "state": {
       "layout": "IPY_MODEL_3b6f5666382346958f86aca3c1baa2fc",
       "style": "IPY_MODEL_a12d1e96753541039f5a1f9e283d1ec0",
       "value": " 0/1036 [00:00&lt;?, ?it/s]"
      }
     },
     "5f8c7f22b3bd498aaced4e9726bc9164": {
      "model_module": "@jupyter-widgets/controls",
      "model_module_version": "2.0.0",
      "model_name": "ProgressStyleModel",
      "state": {
       "description_width": ""
      }
     },
     "5f8fa83696b24a35aa34110a36696eca": {
      "model_module": "@jupyter-widgets/base",
      "model_module_version": "2.0.0",
      "model_name": "LayoutModel",
      "state": {}
     },
     "5f97cf02cc08482db66ee9908ff61c88": {
      "model_module": "@jupyter-widgets/controls",
      "model_module_version": "2.0.0",
      "model_name": "HTMLModel",
      "state": {
       "layout": "IPY_MODEL_4af7aa3269094a8c97961de7cc992416",
       "style": "IPY_MODEL_cc83337fdc7d4c71812f3e0dc0baba46",
       "value": "  0%"
      }
     },
     "5f996049fe9f4171bc4c5ca405d4c58d": {
      "model_module": "@jupyter-widgets/controls",
      "model_module_version": "2.0.0",
      "model_name": "HTMLModel",
      "state": {
       "layout": "IPY_MODEL_3247f8cb3ebf497e815c39a2862e7a3f",
       "style": "IPY_MODEL_2845244d63454b278e06307b098fb7b1",
       "value": "100%"
      }
     },
     "5f9c5bacf97a483cb80fd444c5d6d732": {
      "model_module": "@jupyter-widgets/controls",
      "model_module_version": "2.0.0",
      "model_name": "HTMLModel",
      "state": {
       "layout": "IPY_MODEL_69ccc0b0b57042d488d628b854810292",
       "style": "IPY_MODEL_60e0aeba36ef487e8b6eb9f3f2b67b3c",
       "value": "100%"
      }
     },
     "5fb27f1aec874236ace13d6e8ebfd92e": {
      "model_module": "@jupyter-widgets/base",
      "model_module_version": "2.0.0",
      "model_name": "LayoutModel",
      "state": {}
     },
     "5fcd0b9bc9194cb5b876aaa06d0e4b8f": {
      "model_module": "@jupyter-widgets/controls",
      "model_module_version": "2.0.0",
      "model_name": "FloatProgressModel",
      "state": {
       "bar_style": "success",
       "layout": "IPY_MODEL_862aa252487c411fb30411ac25e5992f",
       "max": 456,
       "style": "IPY_MODEL_bc436fa25a5e46b5ae4cb348d649e712",
       "value": 456
      }
     },
     "5fd310c537134507a91ed3fc7051e460": {
      "model_module": "@jupyter-widgets/base",
      "model_module_version": "2.0.0",
      "model_name": "LayoutModel",
      "state": {}
     },
     "5fd7b0fe06e74bc68fe4ee6588538171": {
      "model_module": "@jupyter-widgets/controls",
      "model_module_version": "2.0.0",
      "model_name": "ProgressStyleModel",
      "state": {
       "description_width": ""
      }
     },
     "6001d1e9beb74d789ed5e13f5c664963": {
      "model_module": "@jupyter-widgets/controls",
      "model_module_version": "2.0.0",
      "model_name": "FloatProgressModel",
      "state": {
       "bar_style": "success",
       "layout": "IPY_MODEL_eb63e770deb548a6a5a36fb4b21d894b",
       "max": 465,
       "style": "IPY_MODEL_8f1997ce19d04732bc2725ceabd82def",
       "value": 465
      }
     },
     "6010c9087ad5424e84cb3e64018bad8a": {
      "model_module": "@jupyter-widgets/base",
      "model_module_version": "2.0.0",
      "model_name": "LayoutModel",
      "state": {}
     },
     "601343a081334359b2b0e46ff2eaf924": {
      "model_module": "@jupyter-widgets/controls",
      "model_module_version": "2.0.0",
      "model_name": "FloatProgressModel",
      "state": {
       "bar_style": "success",
       "layout": "IPY_MODEL_72ee70b1ae144b26b0096ecd68ffc388",
       "max": 733,
       "style": "IPY_MODEL_7a481205cd53457bb3e15a56ff31df21",
       "value": 733
      }
     },
     "607dbf8c42a8485a92366af3fa476c41": {
      "model_module": "@jupyter-widgets/controls",
      "model_module_version": "2.0.0",
      "model_name": "HTMLModel",
      "state": {
       "layout": "IPY_MODEL_eb12553bef694c0d8281477a6cc24c50",
       "style": "IPY_MODEL_e6ac8815850a428aa66bfc2e86fd3b89",
       "value": " 650/650 [00:00&lt;00:00, 149377.98it/s]"
      }
     },
     "60c3959ba2354e4e906ee30ce972a857": {
      "model_module": "@jupyter-widgets/controls",
      "model_module_version": "2.0.0",
      "model_name": "FloatProgressModel",
      "state": {
       "bar_style": "danger",
       "layout": "IPY_MODEL_c9ba67f9d2024f37848a48103f84c7c1",
       "max": 703,
       "style": "IPY_MODEL_d243f5d5438040e19e972592df52a8fc"
      }
     },
     "60e0aeba36ef487e8b6eb9f3f2b67b3c": {
      "model_module": "@jupyter-widgets/controls",
      "model_module_version": "2.0.0",
      "model_name": "HTMLStyleModel",
      "state": {
       "description_width": "",
       "font_size": null,
       "text_color": null
      }
     },
     "611f68ec6c2245708c79db9d4d844197": {
      "model_module": "@jupyter-widgets/controls",
      "model_module_version": "2.0.0",
      "model_name": "ProgressStyleModel",
      "state": {
       "description_width": ""
      }
     },
     "615b76932e794232bd60b1c713486f20": {
      "model_module": "@jupyter-widgets/controls",
      "model_module_version": "2.0.0",
      "model_name": "HTMLStyleModel",
      "state": {
       "description_width": "",
       "font_size": null,
       "text_color": null
      }
     },
     "61a7a0f8354a4f7d9bbbe875f87a2f20": {
      "model_module": "@jupyter-widgets/base",
      "model_module_version": "2.0.0",
      "model_name": "LayoutModel",
      "state": {}
     },
     "61d35c29be0149c79e19f54cf3e49b25": {
      "model_module": "@jupyter-widgets/base",
      "model_module_version": "2.0.0",
      "model_name": "LayoutModel",
      "state": {}
     },
     "61ea20d82dd84553aedce7b853264864": {
      "model_module": "@jupyter-widgets/base",
      "model_module_version": "2.0.0",
      "model_name": "LayoutModel",
      "state": {}
     },
     "6263bfdb95ca4db582e9ade0f565d480": {
      "model_module": "@jupyter-widgets/controls",
      "model_module_version": "2.0.0",
      "model_name": "HBoxModel",
      "state": {
       "children": [
        "IPY_MODEL_fde06540ba5543e0a1a13855576468c1",
        "IPY_MODEL_9ba2f4c62917412eb9920c4b19864f3a",
        "IPY_MODEL_e390d5b7d41f453181b3261915f4a5a3"
       ],
       "layout": "IPY_MODEL_686abfdca4fe49abb4051a7057e446f0"
      }
     },
     "62670e32fbe34984af3bba09cbcca4a5": {
      "model_module": "@jupyter-widgets/controls",
      "model_module_version": "2.0.0",
      "model_name": "HBoxModel",
      "state": {
       "children": [
        "IPY_MODEL_5f9c5bacf97a483cb80fd444c5d6d732",
        "IPY_MODEL_4be373ea81174740abcc19be1a06d919",
        "IPY_MODEL_4fd85368be894e4db0b8316fec659dde"
       ],
       "layout": "IPY_MODEL_400657db85c34f3fbbce316c119fc13a"
      }
     },
     "627d524c60c248df843179e7d871e809": {
      "model_module": "@jupyter-widgets/base",
      "model_module_version": "2.0.0",
      "model_name": "LayoutModel",
      "state": {}
     },
     "62b0d300f3fc478dba3a50b891d4945d": {
      "model_module": "@jupyter-widgets/controls",
      "model_module_version": "2.0.0",
      "model_name": "HTMLStyleModel",
      "state": {
       "description_width": "",
       "font_size": null,
       "text_color": null
      }
     },
     "630169ecf5c54eb8b32c05640b872615": {
      "model_module": "@jupyter-widgets/base",
      "model_module_version": "2.0.0",
      "model_name": "LayoutModel",
      "state": {}
     },
     "6368e15f92c540508fbb9ecb6c3bb5ce": {
      "model_module": "@jupyter-widgets/controls",
      "model_module_version": "2.0.0",
      "model_name": "HTMLModel",
      "state": {
       "layout": "IPY_MODEL_db7d626bcc044fa4afb714b55e3c842b",
       "style": "IPY_MODEL_80a039b2f1dc4eb98779df563c56a2dd",
       "value": "  0%"
      }
     },
     "6402d0f2ed814f1b8c64314017cbbbfa": {
      "model_module": "@jupyter-widgets/base",
      "model_module_version": "2.0.0",
      "model_name": "LayoutModel",
      "state": {}
     },
     "640d9e9e8e07461a952383ca421cc074": {
      "model_module": "@jupyter-widgets/base",
      "model_module_version": "2.0.0",
      "model_name": "LayoutModel",
      "state": {}
     },
     "6447424f5af744dea43f08f3d49b53d7": {
      "model_module": "@jupyter-widgets/controls",
      "model_module_version": "2.0.0",
      "model_name": "HTMLModel",
      "state": {
       "layout": "IPY_MODEL_c48e84f119914da389ecd9a6f58e91a4",
       "style": "IPY_MODEL_4b02f89674144d3db818d12adf4b139d",
       "value": "100%"
      }
     },
     "644797722161488899e969ecbdc39a38": {
      "model_module": "@jupyter-widgets/controls",
      "model_module_version": "2.0.0",
      "model_name": "ProgressStyleModel",
      "state": {
       "description_width": ""
      }
     },
     "645fa829b56d4aed9cb3d1b4f7f7632e": {
      "model_module": "@jupyter-widgets/controls",
      "model_module_version": "2.0.0",
      "model_name": "ProgressStyleModel",
      "state": {
       "description_width": ""
      }
     },
     "6461750e5c414088a29fde53e9cd3c08": {
      "model_module": "@jupyter-widgets/base",
      "model_module_version": "2.0.0",
      "model_name": "LayoutModel",
      "state": {}
     },
     "64a70e214965469fa195f3e9b6d9f4de": {
      "model_module": "@jupyter-widgets/base",
      "model_module_version": "2.0.0",
      "model_name": "LayoutModel",
      "state": {}
     },
     "64d5dd3751c641cc9ff127e44c5e78d0": {
      "model_module": "@jupyter-widgets/base",
      "model_module_version": "2.0.0",
      "model_name": "LayoutModel",
      "state": {}
     },
     "6504cd4ddc66484c9e219d3d54c3d688": {
      "model_module": "@jupyter-widgets/controls",
      "model_module_version": "2.0.0",
      "model_name": "HTMLModel",
      "state": {
       "layout": "IPY_MODEL_37d84048a72a4578b2b163b0c5b16d0b",
       "style": "IPY_MODEL_105e7fec3da44ff887cb48050da45c23",
       "value": " 512/512 [00:00&lt;00:00, 107240.13it/s]"
      }
     },
     "65153028094848ddae737f5c28869028": {
      "model_module": "@jupyter-widgets/controls",
      "model_module_version": "2.0.0",
      "model_name": "HBoxModel",
      "state": {
       "children": [
        "IPY_MODEL_3870932c1c47475ebde182b0b4ae49c6",
        "IPY_MODEL_012b14b3b2934035a30964cf6ba73283",
        "IPY_MODEL_1025679f66304fa8a13c52e2e032c869"
       ],
       "layout": "IPY_MODEL_442956f1cd1f4b298cce706bec060392"
      }
     },
     "6575678acc19499b99707044a69121cb": {
      "model_module": "@jupyter-widgets/base",
      "model_module_version": "2.0.0",
      "model_name": "LayoutModel",
      "state": {}
     },
     "657c3e1d6bec4e5397fcdc41ef81e261": {
      "model_module": "@jupyter-widgets/base",
      "model_module_version": "2.0.0",
      "model_name": "LayoutModel",
      "state": {}
     },
     "657f2bbcf7f34d188b67687a321bf4ec": {
      "model_module": "@jupyter-widgets/base",
      "model_module_version": "2.0.0",
      "model_name": "LayoutModel",
      "state": {}
     },
     "657faee073f64290876c5d9dd2f2fa99": {
      "model_module": "@jupyter-widgets/controls",
      "model_module_version": "2.0.0",
      "model_name": "ProgressStyleModel",
      "state": {
       "description_width": ""
      }
     },
     "65f4054163b84382b4a0b5d2aedb6ef5": {
      "model_module": "@jupyter-widgets/controls",
      "model_module_version": "2.0.0",
      "model_name": "HBoxModel",
      "state": {
       "children": [
        "IPY_MODEL_8cc47a498c284ee89c9762d5a56c1987",
        "IPY_MODEL_f0861ddbf7a342b8bc58e919cb07b632",
        "IPY_MODEL_c654b12b86734e71a31daf759f383516"
       ],
       "layout": "IPY_MODEL_0532a514f58a4817ad4a96a95bde2e19"
      }
     },
     "66259fdf30334bc9a84dceb86c17ed05": {
      "model_module": "@jupyter-widgets/controls",
      "model_module_version": "2.0.0",
      "model_name": "HTMLModel",
      "state": {
       "layout": "IPY_MODEL_56b46d7a951b4d1c8bb31ed6bb281a03",
       "style": "IPY_MODEL_0a038cefbce54e86a5380f35c470bf14",
       "value": "  0%"
      }
     },
     "664d6d5ae4ac4b5f85626825d7b541b7": {
      "model_module": "@jupyter-widgets/controls",
      "model_module_version": "2.0.0",
      "model_name": "ProgressStyleModel",
      "state": {
       "description_width": ""
      }
     },
     "66a91760550d4fa299730896f02c46b9": {
      "model_module": "@jupyter-widgets/controls",
      "model_module_version": "2.0.0",
      "model_name": "HTMLStyleModel",
      "state": {
       "description_width": "",
       "font_size": null,
       "text_color": null
      }
     },
     "66bc0f777bbe42d0a351dbed7383b4e4": {
      "model_module": "@jupyter-widgets/base",
      "model_module_version": "2.0.0",
      "model_name": "LayoutModel",
      "state": {}
     },
     "6742d1bd2eb440a390154eae913c07f8": {
      "model_module": "@jupyter-widgets/controls",
      "model_module_version": "2.0.0",
      "model_name": "HTMLModel",
      "state": {
       "layout": "IPY_MODEL_6ab269e4a6d04dd09b43e5695fc8e516",
       "style": "IPY_MODEL_b816a1cb68994e0c83bc2af698547fa5",
       "value": " 0/663 [00:00&lt;?, ?it/s]"
      }
     },
     "674f0e95e8fd49b59b05a6ce8759df4f": {
      "model_module": "@jupyter-widgets/controls",
      "model_module_version": "2.0.0",
      "model_name": "ProgressStyleModel",
      "state": {
       "description_width": ""
      }
     },
     "675914f1fc1b49058e68a72311e1ac6d": {
      "model_module": "@jupyter-widgets/base",
      "model_module_version": "2.0.0",
      "model_name": "LayoutModel",
      "state": {}
     },
     "67872a03ae7c4768901cdb78daa016ee": {
      "model_module": "@jupyter-widgets/base",
      "model_module_version": "2.0.0",
      "model_name": "LayoutModel",
      "state": {}
     },
     "678fd49a6455403a8d113f88e2ff6335": {
      "model_module": "@jupyter-widgets/base",
      "model_module_version": "2.0.0",
      "model_name": "LayoutModel",
      "state": {}
     },
     "6795cbdc99324f78a72625a75517cbfb": {
      "model_module": "@jupyter-widgets/controls",
      "model_module_version": "2.0.0",
      "model_name": "HTMLModel",
      "state": {
       "layout": "IPY_MODEL_802a784a0a074298b459b3d2501ea39a",
       "style": "IPY_MODEL_38c79ba68bbb4f6cba47df6f114f6c34",
       "value": " 653/653 [00:00&lt;00:00, 145437.58it/s]"
      }
     },
     "67b8894b601842d7b530d2c08e763ee7": {
      "model_module": "@jupyter-widgets/base",
      "model_module_version": "2.0.0",
      "model_name": "LayoutModel",
      "state": {}
     },
     "68285c70cc2148059b02b062ab25e209": {
      "model_module": "@jupyter-widgets/controls",
      "model_module_version": "2.0.0",
      "model_name": "HTMLModel",
      "state": {
       "layout": "IPY_MODEL_c1e1144dd8e544558d5e29c8b87b075a",
       "style": "IPY_MODEL_5cb59fed39d24e698386393154486e92",
       "value": "100%"
      }
     },
     "686abfdca4fe49abb4051a7057e446f0": {
      "model_module": "@jupyter-widgets/base",
      "model_module_version": "2.0.0",
      "model_name": "LayoutModel",
      "state": {}
     },
     "689600b12c5a4375af5c656a4dfaab18": {
      "model_module": "@jupyter-widgets/controls",
      "model_module_version": "2.0.0",
      "model_name": "HTMLStyleModel",
      "state": {
       "description_width": "",
       "font_size": null,
       "text_color": null
      }
     },
     "68b837b545774caa9d8e4d8a5328076b": {
      "model_module": "@jupyter-widgets/base",
      "model_module_version": "2.0.0",
      "model_name": "LayoutModel",
      "state": {}
     },
     "68bd371078a04cb787999bd0bec9d950": {
      "model_module": "@jupyter-widgets/controls",
      "model_module_version": "2.0.0",
      "model_name": "HTMLModel",
      "state": {
       "layout": "IPY_MODEL_e296f73e66c343a2865d00907016e582",
       "style": "IPY_MODEL_941f322644cc4b27b7f003da101349c7",
       "value": "100%"
      }
     },
     "68f1b2f2938a490e9509adc542e4722b": {
      "model_module": "@jupyter-widgets/base",
      "model_module_version": "2.0.0",
      "model_name": "LayoutModel",
      "state": {}
     },
     "68f20a0e806a493fb0fc194f7ada2558": {
      "model_module": "@jupyter-widgets/controls",
      "model_module_version": "2.0.0",
      "model_name": "HBoxModel",
      "state": {
       "children": [
        "IPY_MODEL_187503fe6d12467592727378fe463070",
        "IPY_MODEL_8e478d822e124459a5385a6e0807f6d2",
        "IPY_MODEL_3fd98c5d150f444ca82cbf826e8f26d5"
       ],
       "layout": "IPY_MODEL_e453ba2c18b9418893746ce0cc88b0c3"
      }
     },
     "692939b86b2e4d1c9c7263ef0ad17cd6": {
      "model_module": "@jupyter-widgets/base",
      "model_module_version": "2.0.0",
      "model_name": "LayoutModel",
      "state": {}
     },
     "697c4d1ed12f48498ee35806a7110025": {
      "model_module": "@jupyter-widgets/controls",
      "model_module_version": "2.0.0",
      "model_name": "HBoxModel",
      "state": {
       "children": [
        "IPY_MODEL_13252a095e1a489b824c0f9c4b82c34d",
        "IPY_MODEL_2c11eef879e542e2b7c2c758cb9d7bd1",
        "IPY_MODEL_70989a4fddf34806b31e5ea75f4fdde4"
       ],
       "layout": "IPY_MODEL_c378a3be29d64042aa7ee1daff24dbb8"
      }
     },
     "699368d5c48546feb1e018076a71bb9e": {
      "model_module": "@jupyter-widgets/base",
      "model_module_version": "2.0.0",
      "model_name": "LayoutModel",
      "state": {}
     },
     "69ccc0b0b57042d488d628b854810292": {
      "model_module": "@jupyter-widgets/base",
      "model_module_version": "2.0.0",
      "model_name": "LayoutModel",
      "state": {}
     },
     "69d9badd461345219c022565f3dbdbc5": {
      "model_module": "@jupyter-widgets/controls",
      "model_module_version": "2.0.0",
      "model_name": "HBoxModel",
      "state": {
       "children": [
        "IPY_MODEL_3e8fe92769954dc89971091da8ba51d1",
        "IPY_MODEL_c61fdde41f364753b295b850d56acd3c",
        "IPY_MODEL_c2b95e8cc9504135abd357b1b5c20aad"
       ],
       "layout": "IPY_MODEL_388e977f120449dfa6d8982ff4260e42"
      }
     },
     "69ee27f2a149427cbcb3ad287a1d3799": {
      "model_module": "@jupyter-widgets/base",
      "model_module_version": "2.0.0",
      "model_name": "LayoutModel",
      "state": {}
     },
     "6a5b9455e297412e8b7fc524c79f9493": {
      "model_module": "@jupyter-widgets/base",
      "model_module_version": "2.0.0",
      "model_name": "LayoutModel",
      "state": {}
     },
     "6a63f81d90094855ba91e958f8f1cf8a": {
      "model_module": "@jupyter-widgets/controls",
      "model_module_version": "2.0.0",
      "model_name": "FloatProgressModel",
      "state": {
       "bar_style": "success",
       "layout": "IPY_MODEL_567417c73a014976b7ef5c3facf993b4",
       "max": 707,
       "style": "IPY_MODEL_278b35cc78c94e3a80e5de5451d7d9d7",
       "value": 707
      }
     },
     "6a73bacef0c34385b63acf657267dc51": {
      "model_module": "@jupyter-widgets/controls",
      "model_module_version": "2.0.0",
      "model_name": "HTMLModel",
      "state": {
       "layout": "IPY_MODEL_2d617762d80d43bb8c4856b908ec4ec9",
       "style": "IPY_MODEL_08a28f785e3a472a98227bb820b2ee08",
       "value": "100%"
      }
     },
     "6aa347ba97974cb48aa3a604dbd79645": {
      "model_module": "@jupyter-widgets/controls",
      "model_module_version": "2.0.0",
      "model_name": "HTMLModel",
      "state": {
       "layout": "IPY_MODEL_596b86deb43e44bfbad34e6a7bba3e63",
       "style": "IPY_MODEL_3db75944245446128b8670bd4411bec7",
       "value": " 640/640 [00:00&lt;00:00, 139533.97it/s]"
      }
     },
     "6ab269e4a6d04dd09b43e5695fc8e516": {
      "model_module": "@jupyter-widgets/base",
      "model_module_version": "2.0.0",
      "model_name": "LayoutModel",
      "state": {}
     },
     "6b08365cbd054c4dbead806b487e9e51": {
      "model_module": "@jupyter-widgets/controls",
      "model_module_version": "2.0.0",
      "model_name": "HTMLModel",
      "state": {
       "layout": "IPY_MODEL_a5075f09b64942059c9cfb24246a5608",
       "style": "IPY_MODEL_b04ced895d4241b4a22e6106b89af204",
       "value": "100%"
      }
     },
     "6b7a77ca648c4fda87f4d9c038f33d78": {
      "model_module": "@jupyter-widgets/controls",
      "model_module_version": "2.0.0",
      "model_name": "HTMLModel",
      "state": {
       "layout": "IPY_MODEL_a98ba4fdb43646ce843c5827fa26d145",
       "style": "IPY_MODEL_dac68fe2ec944acb91fd7fdf11733078",
       "value": " 0/927 [00:00&lt;?, ?it/s]"
      }
     },
     "6b7c112a402f43bd8ae28dd7f4996079": {
      "model_module": "@jupyter-widgets/controls",
      "model_module_version": "2.0.0",
      "model_name": "HTMLStyleModel",
      "state": {
       "description_width": "",
       "font_size": null,
       "text_color": null
      }
     },
     "6b85dbcc422b428f82d10227536bbd19": {
      "model_module": "@jupyter-widgets/base",
      "model_module_version": "2.0.0",
      "model_name": "LayoutModel",
      "state": {}
     },
     "6bcd6c0db643449da5d5916cdddbe650": {
      "model_module": "@jupyter-widgets/controls",
      "model_module_version": "2.0.0",
      "model_name": "HTMLModel",
      "state": {
       "layout": "IPY_MODEL_51546bc3597c429b9541acba372186df",
       "style": "IPY_MODEL_c7de7c72d7344cd8b52b4801f1ade5b5",
       "value": "100%"
      }
     },
     "6bed872e69fa4c0c9b10aaa007c34427": {
      "model_module": "@jupyter-widgets/controls",
      "model_module_version": "2.0.0",
      "model_name": "HTMLModel",
      "state": {
       "layout": "IPY_MODEL_4ff772c5b87c4a79980a0a169a54db09",
       "style": "IPY_MODEL_4c70085c79a6432dafaeb84605f00f79",
       "value": "100%"
      }
     },
     "6c7a893d671447b2b77ce4cb95742cff": {
      "model_module": "@jupyter-widgets/controls",
      "model_module_version": "2.0.0",
      "model_name": "HBoxModel",
      "state": {
       "children": [
        "IPY_MODEL_f044456d634c4550a170744d4c47c250",
        "IPY_MODEL_739f229dad394b36853fc57f21ef0e31",
        "IPY_MODEL_2e5cfb1106a24828bb640d0dbd7852b7"
       ],
       "layout": "IPY_MODEL_eb8fec51fca24bf094a8cf3bd1cbbd3b"
      }
     },
     "6d214fee9bfd4790b17d9c7d1ae25bf9": {
      "model_module": "@jupyter-widgets/controls",
      "model_module_version": "2.0.0",
      "model_name": "HTMLStyleModel",
      "state": {
       "description_width": "",
       "font_size": null,
       "text_color": null
      }
     },
     "6d558657c9e14ab88dd7b0a7a587e357": {
      "model_module": "@jupyter-widgets/base",
      "model_module_version": "2.0.0",
      "model_name": "LayoutModel",
      "state": {}
     },
     "6d6e02a80649471bb9efdb6ebb44a944": {
      "model_module": "@jupyter-widgets/base",
      "model_module_version": "2.0.0",
      "model_name": "LayoutModel",
      "state": {}
     },
     "6d74257fe77b4133b2589d673daf2026": {
      "model_module": "@jupyter-widgets/controls",
      "model_module_version": "2.0.0",
      "model_name": "ProgressStyleModel",
      "state": {
       "description_width": ""
      }
     },
     "6d9fb7db31264baab8f15e054ea0676d": {
      "model_module": "@jupyter-widgets/base",
      "model_module_version": "2.0.0",
      "model_name": "LayoutModel",
      "state": {}
     },
     "6da8f56222cd4af88cb61d6637ab3cf0": {
      "model_module": "@jupyter-widgets/base",
      "model_module_version": "2.0.0",
      "model_name": "LayoutModel",
      "state": {}
     },
     "6dbad1255ebf440a90c89983d9ce5f65": {
      "model_module": "@jupyter-widgets/controls",
      "model_module_version": "2.0.0",
      "model_name": "HTMLStyleModel",
      "state": {
       "description_width": "",
       "font_size": null,
       "text_color": null
      }
     },
     "6dc6b4fe41c4433e814e3405d1cd093e": {
      "model_module": "@jupyter-widgets/controls",
      "model_module_version": "2.0.0",
      "model_name": "FloatProgressModel",
      "state": {
       "bar_style": "danger",
       "layout": "IPY_MODEL_627d524c60c248df843179e7d871e809",
       "max": 582,
       "style": "IPY_MODEL_56ffc6e84d014500b8ba57423405a871"
      }
     },
     "6dedb1705f1747938a1a13b3ca3b7748": {
      "model_module": "@jupyter-widgets/controls",
      "model_module_version": "2.0.0",
      "model_name": "HTMLStyleModel",
      "state": {
       "description_width": "",
       "font_size": null,
       "text_color": null
      }
     },
     "6dfb47c7db8944bc97cb91ac148e26b1": {
      "model_module": "@jupyter-widgets/base",
      "model_module_version": "2.0.0",
      "model_name": "LayoutModel",
      "state": {}
     },
     "6e14629ba40f431cb0c694a7aaa78a5b": {
      "model_module": "@jupyter-widgets/controls",
      "model_module_version": "2.0.0",
      "model_name": "HTMLModel",
      "state": {
       "layout": "IPY_MODEL_f03df860c1a644538ab0b54cd140f5e8",
       "style": "IPY_MODEL_689600b12c5a4375af5c656a4dfaab18",
       "value": "  0%"
      }
     },
     "6e34097f2e8f4c7487bf2dc671d4ef59": {
      "model_module": "@jupyter-widgets/base",
      "model_module_version": "2.0.0",
      "model_name": "LayoutModel",
      "state": {}
     },
     "6e4e38c9ee594211b3970a046167719d": {
      "model_module": "@jupyter-widgets/controls",
      "model_module_version": "2.0.0",
      "model_name": "ProgressStyleModel",
      "state": {
       "description_width": ""
      }
     },
     "6e7ec63053c34b1b910c57a4c7ba7b88": {
      "model_module": "@jupyter-widgets/controls",
      "model_module_version": "2.0.0",
      "model_name": "HBoxModel",
      "state": {
       "children": [
        "IPY_MODEL_fb71381693434ea5875c667951385c64",
        "IPY_MODEL_7b471771ab64443fb45ac5c55afb6c3a",
        "IPY_MODEL_945f516520ad4d45beb3003b682618fd"
       ],
       "layout": "IPY_MODEL_14ddf231436140eeb3333b31eeb102b1"
      }
     },
     "6ebad9d76a514f07ad949c72629c6213": {
      "model_module": "@jupyter-widgets/controls",
      "model_module_version": "2.0.0",
      "model_name": "HTMLModel",
      "state": {
       "layout": "IPY_MODEL_3d531b58c34c4fcc8f8958eacc9c3658",
       "style": "IPY_MODEL_615b76932e794232bd60b1c713486f20",
       "value": " 118/118 [00:15&lt;00:00, 28.01it/s]"
      }
     },
     "6ed8d9b1af49453583e30fc5f9459768": {
      "model_module": "@jupyter-widgets/base",
      "model_module_version": "2.0.0",
      "model_name": "LayoutModel",
      "state": {}
     },
     "6f6df7b3ad5346339b520eddc2342fe7": {
      "model_module": "@jupyter-widgets/controls",
      "model_module_version": "2.0.0",
      "model_name": "HTMLStyleModel",
      "state": {
       "description_width": "",
       "font_size": null,
       "text_color": null
      }
     },
     "6fd4d37c5ff143b391c2c5b0ec2b805d": {
      "model_module": "@jupyter-widgets/base",
      "model_module_version": "2.0.0",
      "model_name": "LayoutModel",
      "state": {}
     },
     "6fe70d3e0b834adc8a1bef91d003d34f": {
      "model_module": "@jupyter-widgets/controls",
      "model_module_version": "2.0.0",
      "model_name": "FloatProgressModel",
      "state": {
       "bar_style": "danger",
       "layout": "IPY_MODEL_0d8653f7406644f0939f26e038eb952c",
       "max": 582,
       "style": "IPY_MODEL_35e903ab265c46dbb8003cd9f191381a"
      }
     },
     "6ffbd236fd5f41558cc5fbcad7bb91dd": {
      "model_module": "@jupyter-widgets/controls",
      "model_module_version": "2.0.0",
      "model_name": "HTMLModel",
      "state": {
       "layout": "IPY_MODEL_568691c645ca4329a304c95203420ac2",
       "style": "IPY_MODEL_fc419bfa5d2c4d8b93144e8dd4a5d2b9",
       "value": " 620/620 [00:00&lt;00:00, 139547.54it/s]"
      }
     },
     "7024040de6a04d2aaaa5d4b5c44c70b3": {
      "model_module": "@jupyter-widgets/base",
      "model_module_version": "2.0.0",
      "model_name": "LayoutModel",
      "state": {}
     },
     "7084071b92934207905aecadb59c7857": {
      "model_module": "@jupyter-widgets/base",
      "model_module_version": "2.0.0",
      "model_name": "LayoutModel",
      "state": {}
     },
     "70989a4fddf34806b31e5ea75f4fdde4": {
      "model_module": "@jupyter-widgets/controls",
      "model_module_version": "2.0.0",
      "model_name": "HTMLModel",
      "state": {
       "layout": "IPY_MODEL_b74c78bf585f4c629420ae0891f2ad7a",
       "style": "IPY_MODEL_fab3439abc734af9b533b3d67de02c17",
       "value": " 612/612 [00:00&lt;00:00, 137238.78it/s]"
      }
     },
     "710e872576b449f293aa9665ad6486e6": {
      "model_module": "@jupyter-widgets/controls",
      "model_module_version": "2.0.0",
      "model_name": "HTMLModel",
      "state": {
       "layout": "IPY_MODEL_ed1f8cad3a7b40b58013a6a97a014337",
       "style": "IPY_MODEL_b194a027e4d34f87a50a25ec6c2b7fc2",
       "value": " 634/634 [00:00&lt;00:00, 140378.44it/s]"
      }
     },
     "7127a6dadd5d4787b617952a293efa35": {
      "model_module": "@jupyter-widgets/base",
      "model_module_version": "2.0.0",
      "model_name": "LayoutModel",
      "state": {}
     },
     "71ddf891fcc041c9b10e15988525ba0e": {
      "model_module": "@jupyter-widgets/base",
      "model_module_version": "2.0.0",
      "model_name": "LayoutModel",
      "state": {}
     },
     "71def538f7084c4d8bd69994dbb15ca4": {
      "model_module": "@jupyter-widgets/base",
      "model_module_version": "2.0.0",
      "model_name": "LayoutModel",
      "state": {}
     },
     "71ebcd1366c443388d3d011f916983cc": {
      "model_module": "@jupyter-widgets/controls",
      "model_module_version": "2.0.0",
      "model_name": "HTMLModel",
      "state": {
       "layout": "IPY_MODEL_ae5751d043184c15a5426f9fdf924717",
       "style": "IPY_MODEL_1f841b5cf5514a009dc9ef4f1fb09362",
       "value": " 0/582 [00:00&lt;?, ?it/s]"
      }
     },
     "72575a811cfc4f09878b37c13fdf0e0f": {
      "model_module": "@jupyter-widgets/controls",
      "model_module_version": "2.0.0",
      "model_name": "FloatProgressModel",
      "state": {
       "bar_style": "success",
       "layout": "IPY_MODEL_0c62b76982394edc8320464c421a1286",
       "max": 630,
       "style": "IPY_MODEL_47208f86db0f416bab88910dcd4f31a0",
       "value": 630
      }
     },
     "72a229c974924e48b9262d236c5bb445": {
      "model_module": "@jupyter-widgets/base",
      "model_module_version": "2.0.0",
      "model_name": "LayoutModel",
      "state": {}
     },
     "72b05ba00fd941c9a457f5eef7f60480": {
      "model_module": "@jupyter-widgets/base",
      "model_module_version": "2.0.0",
      "model_name": "LayoutModel",
      "state": {}
     },
     "72dc4423878742abba4c4164ee0c0f70": {
      "model_module": "@jupyter-widgets/controls",
      "model_module_version": "2.0.0",
      "model_name": "ProgressStyleModel",
      "state": {
       "description_width": ""
      }
     },
     "72e7146c47cc469aa4e72ceeb52dc0bd": {
      "model_module": "@jupyter-widgets/controls",
      "model_module_version": "2.0.0",
      "model_name": "HBoxModel",
      "state": {
       "children": [
        "IPY_MODEL_5f97cf02cc08482db66ee9908ff61c88",
        "IPY_MODEL_6dc6b4fe41c4433e814e3405d1cd093e",
        "IPY_MODEL_f6c4bc46acde484c9bced5237779ed01"
       ],
       "layout": "IPY_MODEL_39969aac1a2348b6a4af4a94361bdef6"
      }
     },
     "72ee70b1ae144b26b0096ecd68ffc388": {
      "model_module": "@jupyter-widgets/base",
      "model_module_version": "2.0.0",
      "model_name": "LayoutModel",
      "state": {}
     },
     "739f229dad394b36853fc57f21ef0e31": {
      "model_module": "@jupyter-widgets/controls",
      "model_module_version": "2.0.0",
      "model_name": "FloatProgressModel",
      "state": {
       "bar_style": "success",
       "layout": "IPY_MODEL_da1a7ce82085486bbfbaa8f363d8fd2e",
       "max": 681,
       "style": "IPY_MODEL_12667c6bd3804bb0b9523adb5b2982e8",
       "value": 681
      }
     },
     "73bb049a769b451c8c7b12fa7163a130": {
      "model_module": "@jupyter-widgets/controls",
      "model_module_version": "2.0.0",
      "model_name": "HBoxModel",
      "state": {
       "children": [
        "IPY_MODEL_bdba566dc31042b5b6b7c0165694e856",
        "IPY_MODEL_9c717ab83cc141c884ecc37a3fee8d58",
        "IPY_MODEL_a9b13af6c385454896fe4ef134e94767"
       ],
       "layout": "IPY_MODEL_1f69539d7dc8418484822dbb9a373278"
      }
     },
     "741a1bdd0e8c46cd8071e1686caec426": {
      "model_module": "@jupyter-widgets/controls",
      "model_module_version": "2.0.0",
      "model_name": "HTMLModel",
      "state": {
       "layout": "IPY_MODEL_9d10e5ec648b448682cdf872cc1c9806",
       "style": "IPY_MODEL_80b9528eff024123b6df0d259360cfc0",
       "value": " 631/631 [00:00&lt;00:00, 140934.33it/s]"
      }
     },
     "747ded9ac94e450c88acc402be618ea5": {
      "model_module": "@jupyter-widgets/base",
      "model_module_version": "2.0.0",
      "model_name": "LayoutModel",
      "state": {}
     },
     "74f057977bfe4cfa8f02b43e36b41640": {
      "model_module": "@jupyter-widgets/base",
      "model_module_version": "2.0.0",
      "model_name": "LayoutModel",
      "state": {}
     },
     "75835b09b040455fb63f3aa84d4c00b8": {
      "model_module": "@jupyter-widgets/base",
      "model_module_version": "2.0.0",
      "model_name": "LayoutModel",
      "state": {}
     },
     "759045bcbcd94803af14dead9796b192": {
      "model_module": "@jupyter-widgets/base",
      "model_module_version": "2.0.0",
      "model_name": "LayoutModel",
      "state": {}
     },
     "75a5503215d74dc5b9ee42df57f1b3e6": {
      "model_module": "@jupyter-widgets/controls",
      "model_module_version": "2.0.0",
      "model_name": "FloatProgressModel",
      "state": {
       "bar_style": "success",
       "layout": "IPY_MODEL_fc41953ed5324e80858c7256896e6a9f",
       "max": 797,
       "style": "IPY_MODEL_83d988e4c5ce40daaaf6a18756d91109",
       "value": 797
      }
     },
     "75a84a5e49ff4d2a8ebb964e359007ec": {
      "model_module": "@jupyter-widgets/controls",
      "model_module_version": "2.0.0",
      "model_name": "FloatProgressModel",
      "state": {
       "bar_style": "danger",
       "layout": "IPY_MODEL_081d53937311492ba48ce743057d04c4",
       "max": 582,
       "style": "IPY_MODEL_82bfb457d06947edae134e4d33a8d024"
      }
     },
     "75cf70ce2db846299c8f8ad4c708251b": {
      "model_module": "@jupyter-widgets/controls",
      "model_module_version": "2.0.0",
      "model_name": "HTMLStyleModel",
      "state": {
       "description_width": "",
       "font_size": null,
       "text_color": null
      }
     },
     "7610a0c89ae041a79f7bfda2cc9477a4": {
      "model_module": "@jupyter-widgets/controls",
      "model_module_version": "2.0.0",
      "model_name": "HTMLModel",
      "state": {
       "layout": "IPY_MODEL_38dd57315b14450f80533f90914c207b",
       "style": "IPY_MODEL_e93086e13ac24ff5a331f712f7c0ec16",
       "value": " 709/709 [00:00&lt;00:00, 158288.26it/s]"
      }
     },
     "7625ad244f0b45db8529eeb7fb8b81b6": {
      "model_module": "@jupyter-widgets/base",
      "model_module_version": "2.0.0",
      "model_name": "LayoutModel",
      "state": {}
     },
     "7655ac38a8da47a9810149b19511452b": {
      "model_module": "@jupyter-widgets/controls",
      "model_module_version": "2.0.0",
      "model_name": "HTMLModel",
      "state": {
       "layout": "IPY_MODEL_79154146c73e46fd94165814e82e4c7c",
       "style": "IPY_MODEL_1453c635751d4212a33269db575c4b68",
       "value": " 636/636 [00:00&lt;00:00, 153866.14it/s]"
      }
     },
     "76b9b797875c4021bf17c12c06bd57e7": {
      "model_module": "@jupyter-widgets/controls",
      "model_module_version": "2.0.0",
      "model_name": "HBoxModel",
      "state": {
       "children": [
        "IPY_MODEL_52b3df5bfdf24d058eae75f007e79686",
        "IPY_MODEL_29baecb2fae84ea19c7611fc68b4b4c2",
        "IPY_MODEL_8a856621166a42ed8be8fae8527fbfe7"
       ],
       "layout": "IPY_MODEL_d6a0206482444f0e94475a8e9c671253"
      }
     },
     "76c955c8a90b4951af5bd45915df1364": {
      "model_module": "@jupyter-widgets/base",
      "model_module_version": "2.0.0",
      "model_name": "LayoutModel",
      "state": {}
     },
     "774136b13a4249b89c047901d06070d1": {
      "model_module": "@jupyter-widgets/controls",
      "model_module_version": "2.0.0",
      "model_name": "HTMLStyleModel",
      "state": {
       "description_width": "",
       "font_size": null,
       "text_color": null
      }
     },
     "774b78f9af474f35a26edc223ae8731a": {
      "model_module": "@jupyter-widgets/controls",
      "model_module_version": "2.0.0",
      "model_name": "HTMLModel",
      "state": {
       "layout": "IPY_MODEL_21e06fd09adf4453a83198cd1dc58932",
       "style": "IPY_MODEL_84e4c04e17ec44378df826bedc8bdaf8",
       "value": "100%"
      }
     },
     "775808f12744437f966e6ccd6edab171": {
      "model_module": "@jupyter-widgets/controls",
      "model_module_version": "2.0.0",
      "model_name": "HTMLModel",
      "state": {
       "layout": "IPY_MODEL_c06b1a81ad434464b6ba65324e75c1bb",
       "style": "IPY_MODEL_910d8c7a9ccb492fb13e56f6a6e5a9b7",
       "value": " 0/582 [00:00&lt;?, ?it/s]"
      }
     },
     "776559621271435696f9b648ba350858": {
      "model_module": "@jupyter-widgets/controls",
      "model_module_version": "2.0.0",
      "model_name": "HTMLModel",
      "state": {
       "layout": "IPY_MODEL_67b8894b601842d7b530d2c08e763ee7",
       "style": "IPY_MODEL_410d92e755fd4b478a1916cce8f5fedb",
       "value": "  0%"
      }
     },
     "777154838604417189e30ffbdbbc15d2": {
      "model_module": "@jupyter-widgets/controls",
      "model_module_version": "2.0.0",
      "model_name": "HBoxModel",
      "state": {
       "children": [
        "IPY_MODEL_ac75c7b17e9b45d1abca9cb8e2b716c7",
        "IPY_MODEL_c5479f6a807646fd9db767d3ba4b425c",
        "IPY_MODEL_6aa347ba97974cb48aa3a604dbd79645"
       ],
       "layout": "IPY_MODEL_480692ca01f04b8a978fae8d108ed78f"
      }
     },
     "77856d533ec34111b69b1af3c24c84fe": {
      "model_module": "@jupyter-widgets/base",
      "model_module_version": "2.0.0",
      "model_name": "LayoutModel",
      "state": {}
     },
     "780cd669c7674dad8cde61431a8256f0": {
      "model_module": "@jupyter-widgets/controls",
      "model_module_version": "2.0.0",
      "model_name": "HBoxModel",
      "state": {
       "children": [
        "IPY_MODEL_7b440c0a4d3145cfa5b4c7c514ff35ed",
        "IPY_MODEL_788b244d59ec4398b27ad16c97b010d6",
        "IPY_MODEL_6b7a77ca648c4fda87f4d9c038f33d78"
       ],
       "layout": "IPY_MODEL_c3c20fea9a974e3f8d34d2c2cdc56168"
      }
     },
     "78167284d2424b91a01cb9cbf359030c": {
      "model_module": "@jupyter-widgets/base",
      "model_module_version": "2.0.0",
      "model_name": "LayoutModel",
      "state": {}
     },
     "788b244d59ec4398b27ad16c97b010d6": {
      "model_module": "@jupyter-widgets/controls",
      "model_module_version": "2.0.0",
      "model_name": "FloatProgressModel",
      "state": {
       "bar_style": "danger",
       "layout": "IPY_MODEL_ca6b985b32ba4a199c8d5ba62b8a30a9",
       "max": 927,
       "style": "IPY_MODEL_1bb249e73e444f519dd7ce85589fa62b"
      }
     },
     "78d63ff803d242e59cd306aa33106ec3": {
      "model_module": "@jupyter-widgets/base",
      "model_module_version": "2.0.0",
      "model_name": "LayoutModel",
      "state": {}
     },
     "78e8e629e07d49a5a770e113295f1b1f": {
      "model_module": "@jupyter-widgets/controls",
      "model_module_version": "2.0.0",
      "model_name": "HTMLStyleModel",
      "state": {
       "description_width": "",
       "font_size": null,
       "text_color": null
      }
     },
     "78f7a77b33be4a16979121f5741bb872": {
      "model_module": "@jupyter-widgets/controls",
      "model_module_version": "2.0.0",
      "model_name": "HTMLStyleModel",
      "state": {
       "description_width": "",
       "font_size": null,
       "text_color": null
      }
     },
     "790219af8103449286f0f4a579a1ff11": {
      "model_module": "@jupyter-widgets/controls",
      "model_module_version": "2.0.0",
      "model_name": "HTMLModel",
      "state": {
       "layout": "IPY_MODEL_6ed8d9b1af49453583e30fc5f9459768",
       "style": "IPY_MODEL_53239fb8b85b4f2db1d7421abe635485",
       "value": "100%"
      }
     },
     "79154146c73e46fd94165814e82e4c7c": {
      "model_module": "@jupyter-widgets/base",
      "model_module_version": "2.0.0",
      "model_name": "LayoutModel",
      "state": {}
     },
     "791b29faab734a3287a6895a79108110": {
      "model_module": "@jupyter-widgets/controls",
      "model_module_version": "2.0.0",
      "model_name": "HTMLStyleModel",
      "state": {
       "description_width": "",
       "font_size": null,
       "text_color": null
      }
     },
     "795917d706774192b1f3cede6962936a": {
      "model_module": "@jupyter-widgets/base",
      "model_module_version": "2.0.0",
      "model_name": "LayoutModel",
      "state": {}
     },
     "79919a0a51dc4b9fbec1c53383928705": {
      "model_module": "@jupyter-widgets/controls",
      "model_module_version": "2.0.0",
      "model_name": "HTMLStyleModel",
      "state": {
       "description_width": "",
       "font_size": null,
       "text_color": null
      }
     },
     "79c90b7be388457a848c29ee4f58a6ff": {
      "model_module": "@jupyter-widgets/controls",
      "model_module_version": "2.0.0",
      "model_name": "HTMLModel",
      "state": {
       "layout": "IPY_MODEL_9a3ba11c58074737a892fac1afd2858f",
       "style": "IPY_MODEL_cdb1f505bc414bf08f6e49cacac8f155",
       "value": " 475/475 [00:00&lt;00:00, 112603.54it/s]"
      }
     },
     "79e00257d36841588dc03df38523d026": {
      "model_module": "@jupyter-widgets/base",
      "model_module_version": "2.0.0",
      "model_name": "LayoutModel",
      "state": {}
     },
     "7a1942739a3c44eba0985ed97fe5ae7a": {
      "model_module": "@jupyter-widgets/base",
      "model_module_version": "2.0.0",
      "model_name": "LayoutModel",
      "state": {}
     },
     "7a19baa3acab4261860151eded00a581": {
      "model_module": "@jupyter-widgets/controls",
      "model_module_version": "2.0.0",
      "model_name": "FloatProgressModel",
      "state": {
       "bar_style": "success",
       "layout": "IPY_MODEL_bf990943f9084423a183c74592f02807",
       "max": 118,
       "style": "IPY_MODEL_382fdf95e807471a9ee4ab17b3295445",
       "value": 118
      }
     },
     "7a477e86a059469093c267a5991b53fd": {
      "model_module": "@jupyter-widgets/base",
      "model_module_version": "2.0.0",
      "model_name": "LayoutModel",
      "state": {}
     },
     "7a481205cd53457bb3e15a56ff31df21": {
      "model_module": "@jupyter-widgets/controls",
      "model_module_version": "2.0.0",
      "model_name": "ProgressStyleModel",
      "state": {
       "description_width": ""
      }
     },
     "7a8a34c5ea144072bf73079746cf6984": {
      "model_module": "@jupyter-widgets/base",
      "model_module_version": "2.0.0",
      "model_name": "LayoutModel",
      "state": {}
     },
     "7aa9107dc17a46e5983ff522a75a52ba": {
      "model_module": "@jupyter-widgets/base",
      "model_module_version": "2.0.0",
      "model_name": "LayoutModel",
      "state": {}
     },
     "7ab8d0b3af2e4f85918336fad24642da": {
      "model_module": "@jupyter-widgets/controls",
      "model_module_version": "2.0.0",
      "model_name": "FloatProgressModel",
      "state": {
       "bar_style": "success",
       "layout": "IPY_MODEL_0717f79e3c8043c7bff431f03554d771",
       "max": 654,
       "style": "IPY_MODEL_a7491a32a7794b4ebfcf5486377c0f15",
       "value": 654
      }
     },
     "7acb22780e3e4ce4a19fa2f368dce926": {
      "model_module": "@jupyter-widgets/controls",
      "model_module_version": "2.0.0",
      "model_name": "HTMLStyleModel",
      "state": {
       "description_width": "",
       "font_size": null,
       "text_color": null
      }
     },
     "7b0699d46ff848b9b652bf75a53f275d": {
      "model_module": "@jupyter-widgets/controls",
      "model_module_version": "2.0.0",
      "model_name": "ProgressStyleModel",
      "state": {
       "description_width": ""
      }
     },
     "7b2a1eab42b84f43a4f4c253172981a2": {
      "model_module": "@jupyter-widgets/base",
      "model_module_version": "2.0.0",
      "model_name": "LayoutModel",
      "state": {}
     },
     "7b2fdd7f0a3a4c7a98bb75ca86dcb00c": {
      "model_module": "@jupyter-widgets/controls",
      "model_module_version": "2.0.0",
      "model_name": "HTMLModel",
      "state": {
       "layout": "IPY_MODEL_7b2a1eab42b84f43a4f4c253172981a2",
       "style": "IPY_MODEL_eee18fbf701e4839b8967791aff05ade",
       "value": "100%"
      }
     },
     "7b440c0a4d3145cfa5b4c7c514ff35ed": {
      "model_module": "@jupyter-widgets/controls",
      "model_module_version": "2.0.0",
      "model_name": "HTMLModel",
      "state": {
       "layout": "IPY_MODEL_b7f4a7b0e26247aab7a7a900a5ead190",
       "style": "IPY_MODEL_7acb22780e3e4ce4a19fa2f368dce926",
       "value": "  0%"
      }
     },
     "7b464b63e6c64343ba20e093ca1a300c": {
      "model_module": "@jupyter-widgets/controls",
      "model_module_version": "2.0.0",
      "model_name": "HTMLModel",
      "state": {
       "layout": "IPY_MODEL_58472e408b7a48babfdd52115c97416f",
       "style": "IPY_MODEL_4d68e39226c74c079cb50d4a57829ead",
       "value": " 651/651 [00:00&lt;00:00, 159463.41it/s]"
      }
     },
     "7b471771ab64443fb45ac5c55afb6c3a": {
      "model_module": "@jupyter-widgets/controls",
      "model_module_version": "2.0.0",
      "model_name": "FloatProgressModel",
      "state": {
       "bar_style": "success",
       "layout": "IPY_MODEL_6d558657c9e14ab88dd7b0a7a587e357",
       "max": 620,
       "style": "IPY_MODEL_fc25fead1c6c4e8da8223eafc21abbba",
       "value": 620
      }
     },
     "7b4b4f9e0a2b46088e23cc263eb1bc62": {
      "model_module": "@jupyter-widgets/controls",
      "model_module_version": "2.0.0",
      "model_name": "HTMLModel",
      "state": {
       "layout": "IPY_MODEL_a5a96cb47a304dd69712af00ffd31852",
       "style": "IPY_MODEL_5b3c78847edc421c92e1746d7705b65e",
       "value": "100%"
      }
     },
     "7c5cedf6c0d74a21ab372c350314e2d1": {
      "model_module": "@jupyter-widgets/base",
      "model_module_version": "2.0.0",
      "model_name": "LayoutModel",
      "state": {}
     },
     "7c670a56d7d64b7d84706540c771bd2b": {
      "model_module": "@jupyter-widgets/controls",
      "model_module_version": "2.0.0",
      "model_name": "HTMLModel",
      "state": {
       "layout": "IPY_MODEL_678fd49a6455403a8d113f88e2ff6335",
       "style": "IPY_MODEL_0c2ceb87f6454ec89a8236c99f67438b",
       "value": "  0%"
      }
     },
     "7c6b69dd731947be813c8c56afc1033b": {
      "model_module": "@jupyter-widgets/controls",
      "model_module_version": "2.0.0",
      "model_name": "HBoxModel",
      "state": {
       "children": [
        "IPY_MODEL_a6cb003aebe548b7bdc26325626e704a",
        "IPY_MODEL_8ca4ce57ae1548c2a3de0c10c1c10745",
        "IPY_MODEL_2468a4134d9641d086695737339cab07"
       ],
       "layout": "IPY_MODEL_e9e6ca7ea7ae4054854690521e4abb57"
      }
     },
     "7c71349285664c469415689a36910dc7": {
      "model_module": "@jupyter-widgets/base",
      "model_module_version": "2.0.0",
      "model_name": "LayoutModel",
      "state": {}
     },
     "7cbdbeed358f411495358da335a2a944": {
      "model_module": "@jupyter-widgets/base",
      "model_module_version": "2.0.0",
      "model_name": "LayoutModel",
      "state": {}
     },
     "7d1cb76a71e84441add7007f6c2b8791": {
      "model_module": "@jupyter-widgets/controls",
      "model_module_version": "2.0.0",
      "model_name": "HTMLModel",
      "state": {
       "layout": "IPY_MODEL_c452bfe1a49c41f8aa3b3076d218a6fb",
       "style": "IPY_MODEL_6dbad1255ebf440a90c89983d9ce5f65",
       "value": "100%"
      }
     },
     "7d281bb562b0445d9a3514e5a5da271c": {
      "model_module": "@jupyter-widgets/controls",
      "model_module_version": "2.0.0",
      "model_name": "HTMLModel",
      "state": {
       "layout": "IPY_MODEL_6d9fb7db31264baab8f15e054ea0676d",
       "style": "IPY_MODEL_3dd1474368fc45a6bccb6cdf6559e61d",
       "value": "100%"
      }
     },
     "7da38e1d99364ea491845c0e62b8265d": {
      "model_module": "@jupyter-widgets/base",
      "model_module_version": "2.0.0",
      "model_name": "LayoutModel",
      "state": {}
     },
     "7dab093ca85e4eb59a9a1d7cd6b4fd03": {
      "model_module": "@jupyter-widgets/controls",
      "model_module_version": "2.0.0",
      "model_name": "HBoxModel",
      "state": {
       "children": [
        "IPY_MODEL_790219af8103449286f0f4a579a1ff11",
        "IPY_MODEL_d2a8fbb49a9e4500a0991759df72132c",
        "IPY_MODEL_d2e8a2e8aa9f4855b6adc8983b4f0677"
       ],
       "layout": "IPY_MODEL_a3d31360aef74fe0a2552375a2b65280"
      }
     },
     "7daeefc8ccd44e7390f0179e79f507e4": {
      "model_module": "@jupyter-widgets/controls",
      "model_module_version": "2.0.0",
      "model_name": "ProgressStyleModel",
      "state": {
       "description_width": ""
      }
     },
     "7dc8f2a542aa4462a81e16ebaedf215e": {
      "model_module": "@jupyter-widgets/controls",
      "model_module_version": "2.0.0",
      "model_name": "HTMLModel",
      "state": {
       "layout": "IPY_MODEL_4881dc79369a45afafc2945c7eccedcd",
       "style": "IPY_MODEL_1b0e394a4e7d456180b810befb599214",
       "value": " 663/663 [00:00&lt;00:00, 148334.32it/s]"
      }
     },
     "7e3648a523e2467e84e2aea8d40c46ef": {
      "model_module": "@jupyter-widgets/controls",
      "model_module_version": "2.0.0",
      "model_name": "HBoxModel",
      "state": {
       "children": [
        "IPY_MODEL_7d281bb562b0445d9a3514e5a5da271c",
        "IPY_MODEL_30874d6fd54347e8b9bc4f510525e659",
        "IPY_MODEL_b4b31e0595c44fb9b483d126ff2e1a11"
       ],
       "layout": "IPY_MODEL_ba854aebb7bc40c3bfa3d4b97253a71e"
      }
     },
     "7e7c82c75aa24e5fae05d4b41ba74daa": {
      "model_module": "@jupyter-widgets/base",
      "model_module_version": "2.0.0",
      "model_name": "LayoutModel",
      "state": {}
     },
     "7e7d044783c742449bcab89f54502898": {
      "model_module": "@jupyter-widgets/controls",
      "model_module_version": "2.0.0",
      "model_name": "HTMLModel",
      "state": {
       "layout": "IPY_MODEL_50c0e36ba4af4259b42e1cf4304d1607",
       "style": "IPY_MODEL_bf3d03402cc248479d609297b54fcffc",
       "value": " 674/674 [00:00&lt;00:00, 146725.54it/s]"
      }
     },
     "7ee2c911b85d4a539dfacd30c098979c": {
      "model_module": "@jupyter-widgets/controls",
      "model_module_version": "2.0.0",
      "model_name": "HTMLStyleModel",
      "state": {
       "description_width": "",
       "font_size": null,
       "text_color": null
      }
     },
     "7ef28dcd986042bea339f64b7998c5c7": {
      "model_module": "@jupyter-widgets/controls",
      "model_module_version": "2.0.0",
      "model_name": "ProgressStyleModel",
      "state": {
       "description_width": ""
      }
     },
     "7f6e292ddecc4fa39b006d9a01c69f1e": {
      "model_module": "@jupyter-widgets/base",
      "model_module_version": "2.0.0",
      "model_name": "LayoutModel",
      "state": {}
     },
     "7fb1489a284d4e0c804cf044f7f0d9df": {
      "model_module": "@jupyter-widgets/controls",
      "model_module_version": "2.0.0",
      "model_name": "HTMLModel",
      "state": {
       "layout": "IPY_MODEL_0ae2559f88d941ff8c19868c18f91906",
       "style": "IPY_MODEL_0d2bf77e18f44febba69d0355e9329dd",
       "value": " 737/737 [00:00&lt;00:00, 169019.74it/s]"
      }
     },
     "7fbc321589bf4b17b4cb7f12ccd520fe": {
      "model_module": "@jupyter-widgets/base",
      "model_module_version": "2.0.0",
      "model_name": "LayoutModel",
      "state": {}
     },
     "7ff2f0b9356c480989d30b1e623af7c0": {
      "model_module": "@jupyter-widgets/base",
      "model_module_version": "2.0.0",
      "model_name": "LayoutModel",
      "state": {}
     },
     "80015a4bc8a440d895aafaa154d33147": {
      "model_module": "@jupyter-widgets/controls",
      "model_module_version": "2.0.0",
      "model_name": "ProgressStyleModel",
      "state": {
       "description_width": ""
      }
     },
     "802a784a0a074298b459b3d2501ea39a": {
      "model_module": "@jupyter-widgets/base",
      "model_module_version": "2.0.0",
      "model_name": "LayoutModel",
      "state": {}
     },
     "805e5ab3a84e4d0887728df692e9c3fc": {
      "model_module": "@jupyter-widgets/controls",
      "model_module_version": "2.0.0",
      "model_name": "HTMLModel",
      "state": {
       "layout": "IPY_MODEL_d8556aaf314e4614ad4d5653f202dd35",
       "style": "IPY_MODEL_166bbf08c0ff45f5a99e457abdc5804c",
       "value": "100%"
      }
     },
     "80a039b2f1dc4eb98779df563c56a2dd": {
      "model_module": "@jupyter-widgets/controls",
      "model_module_version": "2.0.0",
      "model_name": "HTMLStyleModel",
      "state": {
       "description_width": "",
       "font_size": null,
       "text_color": null
      }
     },
     "80b9528eff024123b6df0d259360cfc0": {
      "model_module": "@jupyter-widgets/controls",
      "model_module_version": "2.0.0",
      "model_name": "HTMLStyleModel",
      "state": {
       "description_width": "",
       "font_size": null,
       "text_color": null
      }
     },
     "80ba8085138d46e998f0c127ca4858fd": {
      "model_module": "@jupyter-widgets/controls",
      "model_module_version": "2.0.0",
      "model_name": "HBoxModel",
      "state": {
       "children": [
        "IPY_MODEL_3bc61fa33c3c48e38f7fe2a4ef767ba0",
        "IPY_MODEL_0e37909d92b141e2a1a757eaf7dd9e03",
        "IPY_MODEL_a4fa0f51f7f54708930dacbb668553df"
       ],
       "layout": "IPY_MODEL_381ca2eecec846888f7d4cccfbb501b7"
      }
     },
     "80fdae94b6b34b0f8dd4dec56ec5362f": {
      "model_module": "@jupyter-widgets/base",
      "model_module_version": "2.0.0",
      "model_name": "LayoutModel",
      "state": {}
     },
     "8101f7bc06db482087ae258c38188789": {
      "model_module": "@jupyter-widgets/controls",
      "model_module_version": "2.0.0",
      "model_name": "FloatProgressModel",
      "state": {
       "bar_style": "danger",
       "layout": "IPY_MODEL_08f01df522c947b5aeefaedbc2a75a5c",
       "max": 582,
       "style": "IPY_MODEL_9f374d12951d4844b84403ed12706191"
      }
     },
     "812b73d419944b748e1b0a20a5c4cece": {
      "model_module": "@jupyter-widgets/base",
      "model_module_version": "2.0.0",
      "model_name": "LayoutModel",
      "state": {}
     },
     "81a9b267c8654c4390c68f8fd36280ba": {
      "model_module": "@jupyter-widgets/controls",
      "model_module_version": "2.0.0",
      "model_name": "HTMLStyleModel",
      "state": {
       "description_width": "",
       "font_size": null,
       "text_color": null
      }
     },
     "81bf3e5aabdc4a619ec5bf6460393708": {
      "model_module": "@jupyter-widgets/base",
      "model_module_version": "2.0.0",
      "model_name": "LayoutModel",
      "state": {}
     },
     "81de8f5fe6774fefa1a3371da0d866c4": {
      "model_module": "@jupyter-widgets/controls",
      "model_module_version": "2.0.0",
      "model_name": "HTMLModel",
      "state": {
       "layout": "IPY_MODEL_e281aa437d514953bc26ccd0f5a13845",
       "style": "IPY_MODEL_fdbf787f2dd34b078a81d37995b780cd",
       "value": "100%"
      }
     },
     "8240c886ae214c4281afc8792b1523b2": {
      "model_module": "@jupyter-widgets/controls",
      "model_module_version": "2.0.0",
      "model_name": "HTMLStyleModel",
      "state": {
       "description_width": "",
       "font_size": null,
       "text_color": null
      }
     },
     "825af9b8a35f487b948b0de7417678b6": {
      "model_module": "@jupyter-widgets/controls",
      "model_module_version": "2.0.0",
      "model_name": "HTMLStyleModel",
      "state": {
       "description_width": "",
       "font_size": null,
       "text_color": null
      }
     },
     "8268fa0c076c480bb2a71175958adc61": {
      "model_module": "@jupyter-widgets/controls",
      "model_module_version": "2.0.0",
      "model_name": "FloatProgressModel",
      "state": {
       "bar_style": "success",
       "layout": "IPY_MODEL_cc076fa4e23b4ef5b925e68f48fd2b01",
       "max": 512,
       "style": "IPY_MODEL_7daeefc8ccd44e7390f0179e79f507e4",
       "value": 512
      }
     },
     "8289c60bccca4aabb017390483101692": {
      "model_module": "@jupyter-widgets/base",
      "model_module_version": "2.0.0",
      "model_name": "LayoutModel",
      "state": {}
     },
     "82b7dedb5f9240219286e0d782f2a68d": {
      "model_module": "@jupyter-widgets/controls",
      "model_module_version": "2.0.0",
      "model_name": "HTMLStyleModel",
      "state": {
       "description_width": "",
       "font_size": null,
       "text_color": null
      }
     },
     "82bfb457d06947edae134e4d33a8d024": {
      "model_module": "@jupyter-widgets/controls",
      "model_module_version": "2.0.0",
      "model_name": "ProgressStyleModel",
      "state": {
       "description_width": ""
      }
     },
     "82cda4f3dfc841508f7ab913806e1495": {
      "model_module": "@jupyter-widgets/controls",
      "model_module_version": "2.0.0",
      "model_name": "HBoxModel",
      "state": {
       "children": [
        "IPY_MODEL_81de8f5fe6774fefa1a3371da0d866c4",
        "IPY_MODEL_d7b104b4799743d98c6a58f6b063fd44",
        "IPY_MODEL_caa03e980f884a668d5389c6ed83fa5d"
       ],
       "layout": "IPY_MODEL_fc9b3494166348ce82c9f08553c05c52"
      }
     },
     "82e87a7124cb44309f9da7266a5770e2": {
      "model_module": "@jupyter-widgets/controls",
      "model_module_version": "2.0.0",
      "model_name": "HBoxModel",
      "state": {
       "children": [
        "IPY_MODEL_287a8d492c634a068007307170e3f07b",
        "IPY_MODEL_e43f8c05e03846bc8fe25db164779db6",
        "IPY_MODEL_4b62aa0d871c4d76aa112e9d2e0a7863"
       ],
       "layout": "IPY_MODEL_6402d0f2ed814f1b8c64314017cbbbfa"
      }
     },
     "832be73f5dc9485ca7e9416b4372a7f4": {
      "model_module": "@jupyter-widgets/base",
      "model_module_version": "2.0.0",
      "model_name": "LayoutModel",
      "state": {}
     },
     "833b78dc1cf04266898e06226ad97c56": {
      "model_module": "@jupyter-widgets/base",
      "model_module_version": "2.0.0",
      "model_name": "LayoutModel",
      "state": {}
     },
     "833f4fa35cd14c37a7cc57629118a16b": {
      "model_module": "@jupyter-widgets/controls",
      "model_module_version": "2.0.0",
      "model_name": "HTMLModel",
      "state": {
       "layout": "IPY_MODEL_75835b09b040455fb63f3aa84d4c00b8",
       "style": "IPY_MODEL_bd072fa0b2684b988b360fa3073bda97",
       "value": " 707/707 [00:00&lt;00:00, 160013.65it/s]"
      }
     },
     "83a3c22d37ff45c083d196a4cbe33b1c": {
      "model_module": "@jupyter-widgets/controls",
      "model_module_version": "2.0.0",
      "model_name": "HTMLModel",
      "state": {
       "layout": "IPY_MODEL_492b7ef990cc40ad9ed2e5d06cd6a456",
       "style": "IPY_MODEL_ea275dc0a16d4ef08495340970da0c20",
       "value": " 618/618 [00:00&lt;00:00, 139734.76it/s]"
      }
     },
     "83c08809ae3e4a7c904fc85dc49f3cae": {
      "model_module": "@jupyter-widgets/controls",
      "model_module_version": "2.0.0",
      "model_name": "FloatProgressModel",
      "state": {
       "bar_style": "danger",
       "layout": "IPY_MODEL_b5a79841fdb7470a92f1fef840262d88",
       "max": 715,
       "style": "IPY_MODEL_7b0699d46ff848b9b652bf75a53f275d"
      }
     },
     "83d00a87a91f4730887351507853754f": {
      "model_module": "@jupyter-widgets/base",
      "model_module_version": "2.0.0",
      "model_name": "LayoutModel",
      "state": {}
     },
     "83d988e4c5ce40daaaf6a18756d91109": {
      "model_module": "@jupyter-widgets/controls",
      "model_module_version": "2.0.0",
      "model_name": "ProgressStyleModel",
      "state": {
       "description_width": ""
      }
     },
     "83e550fb6cdb4661bd4fe28a825f2cfb": {
      "model_module": "@jupyter-widgets/base",
      "model_module_version": "2.0.0",
      "model_name": "LayoutModel",
      "state": {}
     },
     "8442aba326cc44a78ef35794515285ad": {
      "model_module": "@jupyter-widgets/controls",
      "model_module_version": "2.0.0",
      "model_name": "ProgressStyleModel",
      "state": {
       "description_width": ""
      }
     },
     "8499dff6af0e49d98ff3296756dea7fc": {
      "model_module": "@jupyter-widgets/base",
      "model_module_version": "2.0.0",
      "model_name": "LayoutModel",
      "state": {}
     },
     "84d308de2f8d42e18bc1daf83fc85c0a": {
      "model_module": "@jupyter-widgets/base",
      "model_module_version": "2.0.0",
      "model_name": "LayoutModel",
      "state": {}
     },
     "84e4c04e17ec44378df826bedc8bdaf8": {
      "model_module": "@jupyter-widgets/controls",
      "model_module_version": "2.0.0",
      "model_name": "HTMLStyleModel",
      "state": {
       "description_width": "",
       "font_size": null,
       "text_color": null
      }
     },
     "8562d886abe54c3985b6cbb70ec0630d": {
      "model_module": "@jupyter-widgets/controls",
      "model_module_version": "2.0.0",
      "model_name": "HTMLModel",
      "state": {
       "layout": "IPY_MODEL_a9edaf16fb2f46fbbdbc84157e674eec",
       "style": "IPY_MODEL_df8ed781c5ad49aa8460cead918b3820",
       "value": "100%"
      }
     },
     "85a82846e2e7472e94bfc6f69c6a1cf0": {
      "model_module": "@jupyter-widgets/base",
      "model_module_version": "2.0.0",
      "model_name": "LayoutModel",
      "state": {}
     },
     "86182e2e6744462f91a79d46671505e1": {
      "model_module": "@jupyter-widgets/base",
      "model_module_version": "2.0.0",
      "model_name": "LayoutModel",
      "state": {}
     },
     "86254c4090864aa0ac5cfcd7b7edd732": {
      "model_module": "@jupyter-widgets/base",
      "model_module_version": "2.0.0",
      "model_name": "LayoutModel",
      "state": {}
     },
     "862aa252487c411fb30411ac25e5992f": {
      "model_module": "@jupyter-widgets/base",
      "model_module_version": "2.0.0",
      "model_name": "LayoutModel",
      "state": {}
     },
     "867e8e18658d4d15943c77cef594f1b9": {
      "model_module": "@jupyter-widgets/controls",
      "model_module_version": "2.0.0",
      "model_name": "HTMLModel",
      "state": {
       "layout": "IPY_MODEL_7fbc321589bf4b17b4cb7f12ccd520fe",
       "style": "IPY_MODEL_a1dbaf8b96a64ad48b474e6d61ca1108",
       "value": " 450/450 [00:00&lt;00:00, 103489.24it/s]"
      }
     },
     "868fe3cae784412980dee8e10e95fa00": {
      "model_module": "@jupyter-widgets/base",
      "model_module_version": "2.0.0",
      "model_name": "LayoutModel",
      "state": {}
     },
     "869ff49171b84e57b8cc2edd2288447c": {
      "model_module": "@jupyter-widgets/base",
      "model_module_version": "2.0.0",
      "model_name": "LayoutModel",
      "state": {}
     },
     "86b52a594f7c4029840a77c435c8aeba": {
      "model_module": "@jupyter-widgets/controls",
      "model_module_version": "2.0.0",
      "model_name": "FloatProgressModel",
      "state": {
       "bar_style": "danger",
       "layout": "IPY_MODEL_8b02c36e7efa4f698b146c0ccb392ad2",
       "max": 702,
       "style": "IPY_MODEL_6e4e38c9ee594211b3970a046167719d"
      }
     },
     "870c8b2a11434a72be3dc2a89d771a8b": {
      "model_module": "@jupyter-widgets/base",
      "model_module_version": "2.0.0",
      "model_name": "LayoutModel",
      "state": {}
     },
     "876cb29ee9de4f768d99c55e40f2e20a": {
      "model_module": "@jupyter-widgets/base",
      "model_module_version": "2.0.0",
      "model_name": "LayoutModel",
      "state": {}
     },
     "878f76788b3e40929a04d8c366b12fc5": {
      "model_module": "@jupyter-widgets/controls",
      "model_module_version": "2.0.0",
      "model_name": "HTMLStyleModel",
      "state": {
       "description_width": "",
       "font_size": null,
       "text_color": null
      }
     },
     "87a5013b98fc42a3b9b96f61bd632cb4": {
      "model_module": "@jupyter-widgets/controls",
      "model_module_version": "2.0.0",
      "model_name": "HBoxModel",
      "state": {
       "children": [
        "IPY_MODEL_6bcd6c0db643449da5d5916cdddbe650",
        "IPY_MODEL_d48b07640e774f23b1599d3354e34561",
        "IPY_MODEL_5ed90f970dd846f492fcb230dd003cc5"
       ],
       "layout": "IPY_MODEL_34e1441d89d44d008ebc730fcf6a8c15"
      }
     },
     "881360c962e741b1a431912728714aff": {
      "model_module": "@jupyter-widgets/controls",
      "model_module_version": "2.0.0",
      "model_name": "HTMLModel",
      "state": {
       "layout": "IPY_MODEL_f2b60f9ecb164e99981cf860b8508b76",
       "style": "IPY_MODEL_96a8b0e8d68c43cdbe8d3235a66644de",
       "value": "100%"
      }
     },
     "88176565973143508f1002d6e5eebb0c": {
      "model_module": "@jupyter-widgets/base",
      "model_module_version": "2.0.0",
      "model_name": "LayoutModel",
      "state": {}
     },
     "882ced9ed3074d5885945305d97e4520": {
      "model_module": "@jupyter-widgets/base",
      "model_module_version": "2.0.0",
      "model_name": "LayoutModel",
      "state": {}
     },
     "883d46527e8f4cb0a694ad9662c1409e": {
      "model_module": "@jupyter-widgets/base",
      "model_module_version": "2.0.0",
      "model_name": "LayoutModel",
      "state": {}
     },
     "8852db58e9284e859d865d5c1c3564ee": {
      "model_module": "@jupyter-widgets/controls",
      "model_module_version": "2.0.0",
      "model_name": "FloatProgressModel",
      "state": {
       "bar_style": "success",
       "layout": "IPY_MODEL_b6e019a8e34e47988ae211f3b3fd59f5",
       "max": 637,
       "style": "IPY_MODEL_f2407df9182b43c9a92f2b87c628fcdf",
       "value": 637
      }
     },
     "8894d6b715fd40dd9e4a938b105d0415": {
      "model_module": "@jupyter-widgets/controls",
      "model_module_version": "2.0.0",
      "model_name": "HTMLStyleModel",
      "state": {
       "description_width": "",
       "font_size": null,
       "text_color": null
      }
     },
     "88a814c0d8134e85b9a3b3d0122b9029": {
      "model_module": "@jupyter-widgets/base",
      "model_module_version": "2.0.0",
      "model_name": "LayoutModel",
      "state": {}
     },
     "89721fe6343647a6a9c9b50715cb3de5": {
      "model_module": "@jupyter-widgets/controls",
      "model_module_version": "2.0.0",
      "model_name": "HTMLStyleModel",
      "state": {
       "description_width": "",
       "font_size": null,
       "text_color": null
      }
     },
     "8a856621166a42ed8be8fae8527fbfe7": {
      "model_module": "@jupyter-widgets/controls",
      "model_module_version": "2.0.0",
      "model_name": "HTMLModel",
      "state": {
       "layout": "IPY_MODEL_4ac2bbec89414a0bbcaa9b4328f7a96f",
       "style": "IPY_MODEL_a022f059130d4fd3ae1adaf35b714c08",
       "value": " 0/582 [00:00&lt;?, ?it/s]"
      }
     },
     "8a9238eec2514aa2af3421a146f62690": {
      "model_module": "@jupyter-widgets/controls",
      "model_module_version": "2.0.0",
      "model_name": "HTMLStyleModel",
      "state": {
       "description_width": "",
       "font_size": null,
       "text_color": null
      }
     },
     "8accbd319dbf40d6ad5d9c3a4e9dd004": {
      "model_module": "@jupyter-widgets/base",
      "model_module_version": "2.0.0",
      "model_name": "LayoutModel",
      "state": {}
     },
     "8b02c36e7efa4f698b146c0ccb392ad2": {
      "model_module": "@jupyter-widgets/base",
      "model_module_version": "2.0.0",
      "model_name": "LayoutModel",
      "state": {}
     },
     "8bb4c63791ee49efa126e2b08149f02d": {
      "model_module": "@jupyter-widgets/base",
      "model_module_version": "2.0.0",
      "model_name": "LayoutModel",
      "state": {}
     },
     "8bd583173fb14793be09ba2593793315": {
      "model_module": "@jupyter-widgets/base",
      "model_module_version": "2.0.0",
      "model_name": "LayoutModel",
      "state": {}
     },
     "8c07b00558f64a49957393cd33398e52": {
      "model_module": "@jupyter-widgets/base",
      "model_module_version": "2.0.0",
      "model_name": "LayoutModel",
      "state": {}
     },
     "8c70b3c186eb46629aadb2516089917d": {
      "model_module": "@jupyter-widgets/controls",
      "model_module_version": "2.0.0",
      "model_name": "ProgressStyleModel",
      "state": {
       "description_width": ""
      }
     },
     "8c74c4a94df246cbb8b12860e262f10b": {
      "model_module": "@jupyter-widgets/controls",
      "model_module_version": "2.0.0",
      "model_name": "HTMLModel",
      "state": {
       "layout": "IPY_MODEL_d66dce8f6c9a4c5685865155b4c07d99",
       "style": "IPY_MODEL_b59534dbcb2d401aabe95250c28b5d2c",
       "value": "100%"
      }
     },
     "8ca4ce57ae1548c2a3de0c10c1c10745": {
      "model_module": "@jupyter-widgets/controls",
      "model_module_version": "2.0.0",
      "model_name": "FloatProgressModel",
      "state": {
       "bar_style": "success",
       "layout": "IPY_MODEL_2007c271223f4da598b2ad48c368da1c",
       "max": 465,
       "style": "IPY_MODEL_c03c58221342438693ad10e4fe4ad51a",
       "value": 465
      }
     },
     "8cc2039b15694976b8b4a7a73f4cddc1": {
      "model_module": "@jupyter-widgets/controls",
      "model_module_version": "2.0.0",
      "model_name": "FloatProgressModel",
      "state": {
       "bar_style": "success",
       "layout": "IPY_MODEL_f09adf53313d402da205511ac347d2ad",
       "max": 698,
       "style": "IPY_MODEL_5103fa6a446044e5ac2a17aaeefc483f",
       "value": 698
      }
     },
     "8cc47a498c284ee89c9762d5a56c1987": {
      "model_module": "@jupyter-widgets/controls",
      "model_module_version": "2.0.0",
      "model_name": "HTMLModel",
      "state": {
       "layout": "IPY_MODEL_7e7c82c75aa24e5fae05d4b41ba74daa",
       "style": "IPY_MODEL_f40b0787368d4034bab621329bbbe728",
       "value": "100%"
      }
     },
     "8d28aace2abf47aaa33d462d8dcb12e0": {
      "model_module": "@jupyter-widgets/base",
      "model_module_version": "2.0.0",
      "model_name": "LayoutModel",
      "state": {}
     },
     "8d6441ece4744f52b2af12e3ed6e8ece": {
      "model_module": "@jupyter-widgets/base",
      "model_module_version": "2.0.0",
      "model_name": "LayoutModel",
      "state": {}
     },
     "8d6ef156db8f4a298f0b167ec9469d41": {
      "model_module": "@jupyter-widgets/base",
      "model_module_version": "2.0.0",
      "model_name": "LayoutModel",
      "state": {}
     },
     "8d8b8c3bc9c749c7889c0893a5e359ba": {
      "model_module": "@jupyter-widgets/controls",
      "model_module_version": "2.0.0",
      "model_name": "HBoxModel",
      "state": {
       "children": [
        "IPY_MODEL_aaf48e7268534537807ee67d9712cce0",
        "IPY_MODEL_d98ec9f5596445b8bfe6644487a8dc96",
        "IPY_MODEL_dc4bae12a082457aa1404a5935fd7c50"
       ],
       "layout": "IPY_MODEL_c1ac07c9f10e483db6b5396d0d33db28"
      }
     },
     "8e0281c32f1b43c6a6be42b877c06e50": {
      "model_module": "@jupyter-widgets/controls",
      "model_module_version": "2.0.0",
      "model_name": "FloatProgressModel",
      "state": {
       "bar_style": "danger",
       "layout": "IPY_MODEL_57724473cff74af2b10cb958a1581967",
       "max": 582,
       "style": "IPY_MODEL_237f0dc41c7b455fb910b76266e3bb72"
      }
     },
     "8e478d822e124459a5385a6e0807f6d2": {
      "model_module": "@jupyter-widgets/controls",
      "model_module_version": "2.0.0",
      "model_name": "FloatProgressModel",
      "state": {
       "bar_style": "success",
       "layout": "IPY_MODEL_699368d5c48546feb1e018076a71bb9e",
       "max": 631,
       "style": "IPY_MODEL_ebe4ab756dfe40f8b14991b9fc3314ef",
       "value": 631
      }
     },
     "8e73e02ae8d34d93bc802eb161c7d5d1": {
      "model_module": "@jupyter-widgets/base",
      "model_module_version": "2.0.0",
      "model_name": "LayoutModel",
      "state": {}
     },
     "8eb6948ff28b47e7a6d0bf0784082ce3": {
      "model_module": "@jupyter-widgets/controls",
      "model_module_version": "2.0.0",
      "model_name": "HBoxModel",
      "state": {
       "children": [
        "IPY_MODEL_3dd6edda2e284673a5c710490f5ab8a2",
        "IPY_MODEL_22cf1c0266eb4c0eb9d2e46b6f68a320",
        "IPY_MODEL_ee4092cb425244bbb56cfd7083573952"
       ],
       "layout": "IPY_MODEL_795917d706774192b1f3cede6962936a"
      }
     },
     "8ed84022f9fc4d5098c43c3a2cc11cd9": {
      "model_module": "@jupyter-widgets/controls",
      "model_module_version": "2.0.0",
      "model_name": "HTMLStyleModel",
      "state": {
       "description_width": "",
       "font_size": null,
       "text_color": null
      }
     },
     "8efadb9788104ebca47550d81d7f0164": {
      "model_module": "@jupyter-widgets/base",
      "model_module_version": "2.0.0",
      "model_name": "LayoutModel",
      "state": {}
     },
     "8f1997ce19d04732bc2725ceabd82def": {
      "model_module": "@jupyter-widgets/controls",
      "model_module_version": "2.0.0",
      "model_name": "ProgressStyleModel",
      "state": {
       "description_width": ""
      }
     },
     "8f1d521dccc042fcba70c17a360aa490": {
      "model_module": "@jupyter-widgets/base",
      "model_module_version": "2.0.0",
      "model_name": "LayoutModel",
      "state": {}
     },
     "8f59cd1075b64c2f88bdfbdc4d30eeae": {
      "model_module": "@jupyter-widgets/base",
      "model_module_version": "2.0.0",
      "model_name": "LayoutModel",
      "state": {}
     },
     "8fbe009e1b994916b1149d26385a3608": {
      "model_module": "@jupyter-widgets/controls",
      "model_module_version": "2.0.0",
      "model_name": "HTMLModel",
      "state": {
       "layout": "IPY_MODEL_2dc0cba4a254412890ce834b9d7b37ac",
       "style": "IPY_MODEL_35cd4ca7e1cc44498a8e854acc466a94",
       "value": " 0/722 [00:01&lt;?, ?it/s]"
      }
     },
     "90160766438b4fd7ae2970c424819287": {
      "model_module": "@jupyter-widgets/controls",
      "model_module_version": "2.0.0",
      "model_name": "HTMLStyleModel",
      "state": {
       "description_width": "",
       "font_size": null,
       "text_color": null
      }
     },
     "9017c826c55b49e0ac3c8dc8e864d789": {
      "model_module": "@jupyter-widgets/base",
      "model_module_version": "2.0.0",
      "model_name": "LayoutModel",
      "state": {}
     },
     "903158fc0e4d4a4f9b0b6d4163415524": {
      "model_module": "@jupyter-widgets/base",
      "model_module_version": "2.0.0",
      "model_name": "LayoutModel",
      "state": {}
     },
     "90484e34e5cd4a37a7420b2cf2e53bb2": {
      "model_module": "@jupyter-widgets/base",
      "model_module_version": "2.0.0",
      "model_name": "LayoutModel",
      "state": {}
     },
     "9050e90e88ca4464b538d04945756f8e": {
      "model_module": "@jupyter-widgets/controls",
      "model_module_version": "2.0.0",
      "model_name": "ProgressStyleModel",
      "state": {
       "description_width": ""
      }
     },
     "908319f9eb0342c981b21d6b8ca8f91c": {
      "model_module": "@jupyter-widgets/controls",
      "model_module_version": "2.0.0",
      "model_name": "HTMLStyleModel",
      "state": {
       "description_width": "",
       "font_size": null,
       "text_color": null
      }
     },
     "909f99c13f03486aa76854003965645a": {
      "model_module": "@jupyter-widgets/base",
      "model_module_version": "2.0.0",
      "model_name": "LayoutModel",
      "state": {}
     },
     "90ad95923a0c4beebdd304d49654f549": {
      "model_module": "@jupyter-widgets/base",
      "model_module_version": "2.0.0",
      "model_name": "LayoutModel",
      "state": {}
     },
     "90b2016980d64c47ad134cfc6d8bb066": {
      "model_module": "@jupyter-widgets/controls",
      "model_module_version": "2.0.0",
      "model_name": "HTMLModel",
      "state": {
       "layout": "IPY_MODEL_29e4adb03f234a169480a211171796d6",
       "style": "IPY_MODEL_04390c0b7b454f649c5179338a070fcc",
       "value": " 0/582 [00:00&lt;?, ?it/s]"
      }
     },
     "90fa7b98107c433ab1af180a325ef8dc": {
      "model_module": "@jupyter-widgets/controls",
      "model_module_version": "2.0.0",
      "model_name": "HTMLModel",
      "state": {
       "layout": "IPY_MODEL_20cfd913c75c492e94736b476327f9f1",
       "style": "IPY_MODEL_908319f9eb0342c981b21d6b8ca8f91c",
       "value": "100%"
      }
     },
     "910d8c7a9ccb492fb13e56f6a6e5a9b7": {
      "model_module": "@jupyter-widgets/controls",
      "model_module_version": "2.0.0",
      "model_name": "HTMLStyleModel",
      "state": {
       "description_width": "",
       "font_size": null,
       "text_color": null
      }
     },
     "910f2a3c2daa444c9490b944925dedb0": {
      "model_module": "@jupyter-widgets/base",
      "model_module_version": "2.0.0",
      "model_name": "LayoutModel",
      "state": {}
     },
     "9134c0142a31424d9bc787a67e3c6f82": {
      "model_module": "@jupyter-widgets/base",
      "model_module_version": "2.0.0",
      "model_name": "LayoutModel",
      "state": {}
     },
     "9162444625264ed8a83f124ae27cd5e3": {
      "model_module": "@jupyter-widgets/base",
      "model_module_version": "2.0.0",
      "model_name": "LayoutModel",
      "state": {}
     },
     "9176675b4ca245a2ae993584396ccff2": {
      "model_module": "@jupyter-widgets/base",
      "model_module_version": "2.0.0",
      "model_name": "LayoutModel",
      "state": {}
     },
     "91d2eaa763a241e2939b84f2c80aa041": {
      "model_module": "@jupyter-widgets/controls",
      "model_module_version": "2.0.0",
      "model_name": "HTMLModel",
      "state": {
       "layout": "IPY_MODEL_173ec4f2ad7c420582938de706450a3b",
       "style": "IPY_MODEL_6b7c112a402f43bd8ae28dd7f4996079",
       "value": "100%"
      }
     },
     "91dfeed002d041f699e63be2bfcfa582": {
      "model_module": "@jupyter-widgets/controls",
      "model_module_version": "2.0.0",
      "model_name": "HBoxModel",
      "state": {
       "children": [
        "IPY_MODEL_7d1cb76a71e84441add7007f6c2b8791",
        "IPY_MODEL_1f9b0af280db4ffe8e312aa130b47bb3",
        "IPY_MODEL_83a3c22d37ff45c083d196a4cbe33b1c"
       ],
       "layout": "IPY_MODEL_101448e751de4d9aaf7459305fffe5b3"
      }
     },
     "9207dae0e1cd4f799ec973e242632126": {
      "model_module": "@jupyter-widgets/base",
      "model_module_version": "2.0.0",
      "model_name": "LayoutModel",
      "state": {}
     },
     "922ce093eaac4441888d75040bac39fc": {
      "model_module": "@jupyter-widgets/controls",
      "model_module_version": "2.0.0",
      "model_name": "HTMLModel",
      "state": {
       "layout": "IPY_MODEL_cdaba5ddff574a709eac8018ee94561d",
       "style": "IPY_MODEL_5245a9c93a224139aee0cae3ed35949b",
       "value": " 609/609 [00:00&lt;00:00, 134261.82it/s]"
      }
     },
     "92344908d6cf4c159be1a51886d21d1e": {
      "model_module": "@jupyter-widgets/base",
      "model_module_version": "2.0.0",
      "model_name": "LayoutModel",
      "state": {}
     },
     "925331dd1b934d66940f2c42360dab72": {
      "model_module": "@jupyter-widgets/controls",
      "model_module_version": "2.0.0",
      "model_name": "FloatProgressModel",
      "state": {
       "bar_style": "success",
       "layout": "IPY_MODEL_bd5a03d97e1d4acd86af194966176372",
       "max": 516,
       "style": "IPY_MODEL_c61084a91d82410881f26ba606bf66c1",
       "value": 516
      }
     },
     "926aec9078bb407685b6427f96b9dc79": {
      "model_module": "@jupyter-widgets/base",
      "model_module_version": "2.0.0",
      "model_name": "LayoutModel",
      "state": {}
     },
     "930416fb58c043ca92b37880637145f4": {
      "model_module": "@jupyter-widgets/controls",
      "model_module_version": "2.0.0",
      "model_name": "HTMLModel",
      "state": {
       "layout": "IPY_MODEL_f3f93958960d49cf90e0600ee3d5a40e",
       "style": "IPY_MODEL_45e4c9bd0f5743c6a821dad49066b15d",
       "value": " 0/582 [00:00&lt;?, ?it/s]"
      }
     },
     "932657a33be9430781f887466b0a71a8": {
      "model_module": "@jupyter-widgets/controls",
      "model_module_version": "2.0.0",
      "model_name": "FloatProgressModel",
      "state": {
       "bar_style": "success",
       "layout": "IPY_MODEL_3748ae0b03ae49128120f693fe3aefb1",
       "max": 636,
       "style": "IPY_MODEL_4eb4261a441b4b13b7f97905097a5aa7",
       "value": 636
      }
     },
     "937bac674fd14aaa9c28fe7c9eb1bec8": {
      "model_module": "@jupyter-widgets/controls",
      "model_module_version": "2.0.0",
      "model_name": "HTMLModel",
      "state": {
       "layout": "IPY_MODEL_e6b650e5d0e2470bb6fb81d5e985fcd1",
       "style": "IPY_MODEL_38530113801140359e4aaccd6d0ae511",
       "value": "100%"
      }
     },
     "93e255ef09b24957b3f668b12e3c32ff": {
      "model_module": "@jupyter-widgets/base",
      "model_module_version": "2.0.0",
      "model_name": "LayoutModel",
      "state": {}
     },
     "93f2996859f1486b944b2206a1c81203": {
      "model_module": "@jupyter-widgets/controls",
      "model_module_version": "2.0.0",
      "model_name": "HBoxModel",
      "state": {
       "children": [
        "IPY_MODEL_6a73bacef0c34385b63acf657267dc51",
        "IPY_MODEL_52f831e5ecce4e5494cb8ac055ceede8",
        "IPY_MODEL_0d6084d9b3e34f839aaa03c37f04331e"
       ],
       "layout": "IPY_MODEL_5ac53e4d72054207abc89b609157b6ff"
      }
     },
     "941f322644cc4b27b7f003da101349c7": {
      "model_module": "@jupyter-widgets/controls",
      "model_module_version": "2.0.0",
      "model_name": "HTMLStyleModel",
      "state": {
       "description_width": "",
       "font_size": null,
       "text_color": null
      }
     },
     "945f516520ad4d45beb3003b682618fd": {
      "model_module": "@jupyter-widgets/controls",
      "model_module_version": "2.0.0",
      "model_name": "HTMLModel",
      "state": {
       "layout": "IPY_MODEL_2f667d66dc024accaf60548aad4b2d56",
       "style": "IPY_MODEL_c5fb3b7bec4049d599e22bb490300598",
       "value": " 620/620 [00:00&lt;00:00, 131682.63it/s]"
      }
     },
     "94c05af2cf4b462e8a7ff4185d0cbaaa": {
      "model_module": "@jupyter-widgets/base",
      "model_module_version": "2.0.0",
      "model_name": "LayoutModel",
      "state": {}
     },
     "94ced940801e40dcaa3a421eaecb3deb": {
      "model_module": "@jupyter-widgets/controls",
      "model_module_version": "2.0.0",
      "model_name": "HTMLModel",
      "state": {
       "layout": "IPY_MODEL_8d6441ece4744f52b2af12e3ed6e8ece",
       "style": "IPY_MODEL_9ede0feb93a6429e8baefe49a22cb26e",
       "value": "100%"
      }
     },
     "955a97ded23e469ab31ec496057bbaaf": {
      "model_module": "@jupyter-widgets/base",
      "model_module_version": "2.0.0",
      "model_name": "LayoutModel",
      "state": {}
     },
     "95b7a882f556480eb0427c80773d5d50": {
      "model_module": "@jupyter-widgets/controls",
      "model_module_version": "2.0.0",
      "model_name": "FloatProgressModel",
      "state": {
       "bar_style": "success",
       "layout": "IPY_MODEL_7625ad244f0b45db8529eeb7fb8b81b6",
       "max": 700,
       "style": "IPY_MODEL_ee9b466a3cc5419c99a081076d01a3ac",
       "value": 700
      }
     },
     "95bd892752d34fd89dc5800afafe5f6a": {
      "model_module": "@jupyter-widgets/controls",
      "model_module_version": "2.0.0",
      "model_name": "HTMLStyleModel",
      "state": {
       "description_width": "",
       "font_size": null,
       "text_color": null
      }
     },
     "95e77ca169ba4402884808fe0fb423f7": {
      "model_module": "@jupyter-widgets/controls",
      "model_module_version": "2.0.0",
      "model_name": "HBoxModel",
      "state": {
       "children": [
        "IPY_MODEL_29db70000f5d4b118ab0b7fee1e6a1a9",
        "IPY_MODEL_187e4fd1463541cf9717438b0e9a9f55",
        "IPY_MODEL_b2f45728e5184165a666a002f699728e"
       ],
       "layout": "IPY_MODEL_0be2699b96794e41ade1874e5c066490"
      }
     },
     "964e403aa2d0484384cdad2ace3e89bd": {
      "model_module": "@jupyter-widgets/base",
      "model_module_version": "2.0.0",
      "model_name": "LayoutModel",
      "state": {}
     },
     "96536933654245d3a254bfeb63118044": {
      "model_module": "@jupyter-widgets/controls",
      "model_module_version": "2.0.0",
      "model_name": "HTMLStyleModel",
      "state": {
       "description_width": "",
       "font_size": null,
       "text_color": null
      }
     },
     "967676864d03453c822f99c0eea3bd33": {
      "model_module": "@jupyter-widgets/controls",
      "model_module_version": "2.0.0",
      "model_name": "HTMLModel",
      "state": {
       "layout": "IPY_MODEL_59f7b6be255c4d5c8de2f3ed4c2cb0e1",
       "style": "IPY_MODEL_5074ee9573304b4bb22ce7226184b171",
       "value": " 632/632 [00:00&lt;00:00, 134619.88it/s]"
      }
     },
     "968a3382ab234ccba04088388043d206": {
      "model_module": "@jupyter-widgets/controls",
      "model_module_version": "2.0.0",
      "model_name": "HTMLStyleModel",
      "state": {
       "description_width": "",
       "font_size": null,
       "text_color": null
      }
     },
     "96a8b0e8d68c43cdbe8d3235a66644de": {
      "model_module": "@jupyter-widgets/controls",
      "model_module_version": "2.0.0",
      "model_name": "HTMLStyleModel",
      "state": {
       "description_width": "",
       "font_size": null,
       "text_color": null
      }
     },
     "970de3b3830f4090a2c33c5b9702c770": {
      "model_module": "@jupyter-widgets/base",
      "model_module_version": "2.0.0",
      "model_name": "LayoutModel",
      "state": {}
     },
     "972cf36913d24d25ba3eff3a99add69a": {
      "model_module": "@jupyter-widgets/controls",
      "model_module_version": "2.0.0",
      "model_name": "HBoxModel",
      "state": {
       "children": [
        "IPY_MODEL_56f9026381604acf9f0c65f8187a3d87",
        "IPY_MODEL_8101f7bc06db482087ae258c38188789",
        "IPY_MODEL_71ebcd1366c443388d3d011f916983cc"
       ],
       "layout": "IPY_MODEL_72a229c974924e48b9262d236c5bb445"
      }
     },
     "974501b237424396a25f845cf5a147d7": {
      "model_module": "@jupyter-widgets/controls",
      "model_module_version": "2.0.0",
      "model_name": "HTMLStyleModel",
      "state": {
       "description_width": "",
       "font_size": null,
       "text_color": null
      }
     },
     "975020bdcd8040baab43968d0dcd4b65": {
      "model_module": "@jupyter-widgets/controls",
      "model_module_version": "2.0.0",
      "model_name": "HTMLStyleModel",
      "state": {
       "description_width": "",
       "font_size": null,
       "text_color": null
      }
     },
     "977a09023f0448e092c837693d395a17": {
      "model_module": "@jupyter-widgets/controls",
      "model_module_version": "2.0.0",
      "model_name": "ProgressStyleModel",
      "state": {
       "description_width": ""
      }
     },
     "97a857d3a9db4bf496cdf37314ee74d1": {
      "model_module": "@jupyter-widgets/base",
      "model_module_version": "2.0.0",
      "model_name": "LayoutModel",
      "state": {}
     },
     "97dfd0033e6f4e7bbf7a9185bdb57359": {
      "model_module": "@jupyter-widgets/controls",
      "model_module_version": "2.0.0",
      "model_name": "HBoxModel",
      "state": {
       "children": [
        "IPY_MODEL_117b326c0040424284a59fb79ca2d922",
        "IPY_MODEL_c87893981f0243fd9a5e1441db9d9d54",
        "IPY_MODEL_79c90b7be388457a848c29ee4f58a6ff"
       ],
       "layout": "IPY_MODEL_7c5cedf6c0d74a21ab372c350314e2d1"
      }
     },
     "984acf163c464895a6942f82590d35b0": {
      "model_module": "@jupyter-widgets/controls",
      "model_module_version": "2.0.0",
      "model_name": "HBoxModel",
      "state": {
       "children": [
        "IPY_MODEL_0de86bec8db5445daa6d231bf20e8be6",
        "IPY_MODEL_1bec46c5f2c141de9baaaadbb711dae6",
        "IPY_MODEL_5f701715e73749bda1bdec218970ca1e"
       ],
       "layout": "IPY_MODEL_b3b4e569b45a40c7aeb9a16acfcd212e"
      }
     },
     "986f44b9cd964604996f6fbd30c308a7": {
      "model_module": "@jupyter-widgets/controls",
      "model_module_version": "2.0.0",
      "model_name": "FloatProgressModel",
      "state": {
       "bar_style": "danger",
       "layout": "IPY_MODEL_426aef702c724b3985c3ae73e64578b6",
       "max": 663,
       "style": "IPY_MODEL_1e476076f2d44511b5973f90146b4644"
      }
     },
     "9881178601ea4cb8b3465cfece5d0d73": {
      "model_module": "@jupyter-widgets/base",
      "model_module_version": "2.0.0",
      "model_name": "LayoutModel",
      "state": {}
     },
     "98b7d97e15af4399820a6dd7a29e420d": {
      "model_module": "@jupyter-widgets/base",
      "model_module_version": "2.0.0",
      "model_name": "LayoutModel",
      "state": {}
     },
     "98e87049dcaa4e739317100280bd2299": {
      "model_module": "@jupyter-widgets/controls",
      "model_module_version": "2.0.0",
      "model_name": "HTMLModel",
      "state": {
       "layout": "IPY_MODEL_e64a7fa742734ea0acdd1f649175d8d8",
       "style": "IPY_MODEL_3a4eba43da5046ed81e4b6cdf8b65efb",
       "value": " 0/582 [00:00&lt;?, ?it/s]"
      }
     },
     "98ed98f9b3db40b0bccc72ba8ff88dc6": {
      "model_module": "@jupyter-widgets/base",
      "model_module_version": "2.0.0",
      "model_name": "LayoutModel",
      "state": {}
     },
     "99287514f9484132aaf137e7346da5e8": {
      "model_module": "@jupyter-widgets/controls",
      "model_module_version": "2.0.0",
      "model_name": "HBoxModel",
      "state": {
       "children": [
        "IPY_MODEL_024843b38fd94ff8b2ee9d0fc0ce4b0e",
        "IPY_MODEL_02b69e029b274577b305b64a91491d03",
        "IPY_MODEL_1f987cabaaaa4892878fbdfbca6f04e8"
       ],
       "layout": "IPY_MODEL_e4ede447250448d1853e5a43bec8cd45"
      }
     },
     "994bbe7d7f364f0d856f6dccebe5b22f": {
      "model_module": "@jupyter-widgets/controls",
      "model_module_version": "2.0.0",
      "model_name": "HTMLStyleModel",
      "state": {
       "description_width": "",
       "font_size": null,
       "text_color": null
      }
     },
     "9a1234fc0518485f9eac4c159a7e1d46": {
      "model_module": "@jupyter-widgets/base",
      "model_module_version": "2.0.0",
      "model_name": "LayoutModel",
      "state": {}
     },
     "9a3ba11c58074737a892fac1afd2858f": {
      "model_module": "@jupyter-widgets/base",
      "model_module_version": "2.0.0",
      "model_name": "LayoutModel",
      "state": {}
     },
     "9a6b6b24854b44ada2c96314ac80b7df": {
      "model_module": "@jupyter-widgets/controls",
      "model_module_version": "2.0.0",
      "model_name": "HBoxModel",
      "state": {
       "children": [
        "IPY_MODEL_a99a9852b8764316b74544b3ed735476",
        "IPY_MODEL_83c08809ae3e4a7c904fc85dc49f3cae",
        "IPY_MODEL_199556b8ec4749d78eb429cda343076d"
       ],
       "layout": "IPY_MODEL_970de3b3830f4090a2c33c5b9702c770"
      }
     },
     "9a82f9f2cc24469585534d6186fe6beb": {
      "model_module": "@jupyter-widgets/base",
      "model_module_version": "2.0.0",
      "model_name": "LayoutModel",
      "state": {}
     },
     "9abf4a5539e443769564f00dee0bdf9d": {
      "model_module": "@jupyter-widgets/controls",
      "model_module_version": "2.0.0",
      "model_name": "HBoxModel",
      "state": {
       "children": [
        "IPY_MODEL_e0d5dd8b985c47ec9bbea0e74164cdc0",
        "IPY_MODEL_75a84a5e49ff4d2a8ebb964e359007ec",
        "IPY_MODEL_c54dd98329ea479881ce0227ff927ea3"
       ],
       "layout": "IPY_MODEL_bc633775bcff44119cd24bfa44700c01"
      }
     },
     "9b1a6f9d0b334716900f48c3a5806c60": {
      "model_module": "@jupyter-widgets/controls",
      "model_module_version": "2.0.0",
      "model_name": "FloatProgressModel",
      "state": {
       "bar_style": "success",
       "layout": "IPY_MODEL_8f1d521dccc042fcba70c17a360aa490",
       "max": 542,
       "style": "IPY_MODEL_eebf856bb15d4ed78a3a93d05b728ab6",
       "value": 542
      }
     },
     "9b45c4f67f1a4f0dab03d0d96a0c4333": {
      "model_module": "@jupyter-widgets/controls",
      "model_module_version": "2.0.0",
      "model_name": "HTMLModel",
      "state": {
       "layout": "IPY_MODEL_37d3a9b9c24b45f289ff196f4b8066e5",
       "style": "IPY_MODEL_5aef1cd825a34c53aed93f703a0d2220",
       "value": "  0%"
      }
     },
     "9ba2f4c62917412eb9920c4b19864f3a": {
      "model_module": "@jupyter-widgets/controls",
      "model_module_version": "2.0.0",
      "model_name": "FloatProgressModel",
      "state": {
       "bar_style": "success",
       "layout": "IPY_MODEL_0c10b17ea99e40aaa5eb01cb598daaa1",
       "max": 646,
       "style": "IPY_MODEL_5f8c7f22b3bd498aaced4e9726bc9164",
       "value": 646
      }
     },
     "9c5a9e9990c94ddb9ec58a46c6aed5fa": {
      "model_module": "@jupyter-widgets/controls",
      "model_module_version": "2.0.0",
      "model_name": "HTMLModel",
      "state": {
       "layout": "IPY_MODEL_eb81867a4dec40268df0876e0d270efb",
       "style": "IPY_MODEL_af6b4c4ffb644a5482ee44b631d5b8e1",
       "value": "100%"
      }
     },
     "9c717ab83cc141c884ecc37a3fee8d58": {
      "model_module": "@jupyter-widgets/controls",
      "model_module_version": "2.0.0",
      "model_name": "FloatProgressModel",
      "state": {
       "bar_style": "danger",
       "layout": "IPY_MODEL_038e94af5d0a44d1b3b9173bff6bd131",
       "max": 582,
       "style": "IPY_MODEL_ae8f7790c343408ca78797bb2bd879d9"
      }
     },
     "9ca832ac4fa4467a98a19c905a0040ef": {
      "model_module": "@jupyter-widgets/controls",
      "model_module_version": "2.0.0",
      "model_name": "HTMLStyleModel",
      "state": {
       "description_width": "",
       "font_size": null,
       "text_color": null
      }
     },
     "9cc3a0e03aba464b8da584a77c67b1c6": {
      "model_module": "@jupyter-widgets/controls",
      "model_module_version": "2.0.0",
      "model_name": "HTMLStyleModel",
      "state": {
       "description_width": "",
       "font_size": null,
       "text_color": null
      }
     },
     "9cf975275f4c4388997531be45cbe954": {
      "model_module": "@jupyter-widgets/controls",
      "model_module_version": "2.0.0",
      "model_name": "ProgressStyleModel",
      "state": {
       "description_width": ""
      }
     },
     "9d10e5ec648b448682cdf872cc1c9806": {
      "model_module": "@jupyter-widgets/base",
      "model_module_version": "2.0.0",
      "model_name": "LayoutModel",
      "state": {}
     },
     "9d40f78b0e114b778d88ca49332c7862": {
      "model_module": "@jupyter-widgets/controls",
      "model_module_version": "2.0.0",
      "model_name": "ProgressStyleModel",
      "state": {
       "description_width": ""
      }
     },
     "9d79ff9e6bc04571a4a969a468f08856": {
      "model_module": "@jupyter-widgets/base",
      "model_module_version": "2.0.0",
      "model_name": "LayoutModel",
      "state": {}
     },
     "9dd30fe496e349f49cbc88f50c241773": {
      "model_module": "@jupyter-widgets/controls",
      "model_module_version": "2.0.0",
      "model_name": "HTMLModel",
      "state": {
       "layout": "IPY_MODEL_4d956e721e804a66b6af575eef83077e",
       "style": "IPY_MODEL_a76b08d17a054037932907eeb3ab2dac",
       "value": " 596/596 [00:00&lt;00:00, 122997.70it/s]"
      }
     },
     "9e54425e903146a4aafb7d1243e48598": {
      "model_module": "@jupyter-widgets/controls",
      "model_module_version": "2.0.0",
      "model_name": "HTMLStyleModel",
      "state": {
       "description_width": "",
       "font_size": null,
       "text_color": null
      }
     },
     "9e6ebb50b78347e5a73ca2bc16c2a435": {
      "model_module": "@jupyter-widgets/controls",
      "model_module_version": "2.0.0",
      "model_name": "FloatProgressModel",
      "state": {
       "bar_style": "success",
       "layout": "IPY_MODEL_1cb8232c5ccf4e94a613263a7457f1a4",
       "max": 722,
       "style": "IPY_MODEL_5fd7b0fe06e74bc68fe4ee6588538171",
       "value": 722
      }
     },
     "9e87df59fb7f4423adc476efacf24852": {
      "model_module": "@jupyter-widgets/controls",
      "model_module_version": "2.0.0",
      "model_name": "HTMLStyleModel",
      "state": {
       "description_width": "",
       "font_size": null,
       "text_color": null
      }
     },
     "9ece3562e3f74f94905a3cdd90ddd178": {
      "model_module": "@jupyter-widgets/controls",
      "model_module_version": "2.0.0",
      "model_name": "HTMLStyleModel",
      "state": {
       "description_width": "",
       "font_size": null,
       "text_color": null
      }
     },
     "9ede0feb93a6429e8baefe49a22cb26e": {
      "model_module": "@jupyter-widgets/controls",
      "model_module_version": "2.0.0",
      "model_name": "HTMLStyleModel",
      "state": {
       "description_width": "",
       "font_size": null,
       "text_color": null
      }
     },
     "9f35e7daffa9458bb1b5a13b4cd85419": {
      "model_module": "@jupyter-widgets/controls",
      "model_module_version": "2.0.0",
      "model_name": "HTMLStyleModel",
      "state": {
       "description_width": "",
       "font_size": null,
       "text_color": null
      }
     },
     "9f374d12951d4844b84403ed12706191": {
      "model_module": "@jupyter-widgets/controls",
      "model_module_version": "2.0.0",
      "model_name": "ProgressStyleModel",
      "state": {
       "description_width": ""
      }
     },
     "9f3e1aca0c6c441e8a6ed3d9914517c0": {
      "model_module": "@jupyter-widgets/controls",
      "model_module_version": "2.0.0",
      "model_name": "FloatProgressModel",
      "state": {
       "bar_style": "success",
       "layout": "IPY_MODEL_6e34097f2e8f4c7487bf2dc671d4ef59",
       "max": 631,
       "style": "IPY_MODEL_59b1ab6870cb4a2aa5a017f59295e38d",
       "value": 631
      }
     },
     "a022f059130d4fd3ae1adaf35b714c08": {
      "model_module": "@jupyter-widgets/controls",
      "model_module_version": "2.0.0",
      "model_name": "HTMLStyleModel",
      "state": {
       "description_width": "",
       "font_size": null,
       "text_color": null
      }
     },
     "a0c7e58d486446e586c059a720ffe94e": {
      "model_module": "@jupyter-widgets/controls",
      "model_module_version": "2.0.0",
      "model_name": "HBoxModel",
      "state": {
       "children": [
        "IPY_MODEL_8c74c4a94df246cbb8b12860e262f10b",
        "IPY_MODEL_3ec752f20df1405690db6ebc92dc714e",
        "IPY_MODEL_c4181ea0180942319f76ecfb3afa93d8"
       ],
       "layout": "IPY_MODEL_64d5dd3751c641cc9ff127e44c5e78d0"
      }
     },
     "a12d1e96753541039f5a1f9e283d1ec0": {
      "model_module": "@jupyter-widgets/controls",
      "model_module_version": "2.0.0",
      "model_name": "HTMLStyleModel",
      "state": {
       "description_width": "",
       "font_size": null,
       "text_color": null
      }
     },
     "a1682eadbf0946249d37e68a72c2e3fb": {
      "model_module": "@jupyter-widgets/base",
      "model_module_version": "2.0.0",
      "model_name": "LayoutModel",
      "state": {}
     },
     "a1c4a4633cc147eea25521e91c80b1ad": {
      "model_module": "@jupyter-widgets/base",
      "model_module_version": "2.0.0",
      "model_name": "LayoutModel",
      "state": {}
     },
     "a1dbaf8b96a64ad48b474e6d61ca1108": {
      "model_module": "@jupyter-widgets/controls",
      "model_module_version": "2.0.0",
      "model_name": "HTMLStyleModel",
      "state": {
       "description_width": "",
       "font_size": null,
       "text_color": null
      }
     },
     "a20609fb815f4cad895491654674ef69": {
      "model_module": "@jupyter-widgets/controls",
      "model_module_version": "2.0.0",
      "model_name": "HTMLStyleModel",
      "state": {
       "description_width": "",
       "font_size": null,
       "text_color": null
      }
     },
     "a26f1b45f65341cfa01b9de696309267": {
      "model_module": "@jupyter-widgets/base",
      "model_module_version": "2.0.0",
      "model_name": "LayoutModel",
      "state": {}
     },
     "a294bb00827146c7a1a34cc633717740": {
      "model_module": "@jupyter-widgets/controls",
      "model_module_version": "2.0.0",
      "model_name": "ProgressStyleModel",
      "state": {
       "description_width": ""
      }
     },
     "a2bdf73565e542de8c81fe9a6b3e1e6e": {
      "model_module": "@jupyter-widgets/base",
      "model_module_version": "2.0.0",
      "model_name": "LayoutModel",
      "state": {}
     },
     "a2d2e97948634b8ebe8be994a674c7ce": {
      "model_module": "@jupyter-widgets/base",
      "model_module_version": "2.0.0",
      "model_name": "LayoutModel",
      "state": {}
     },
     "a320d773eabf40bd8e5f06fb1ce6a42a": {
      "model_module": "@jupyter-widgets/controls",
      "model_module_version": "2.0.0",
      "model_name": "HTMLModel",
      "state": {
       "layout": "IPY_MODEL_66bc0f777bbe42d0a351dbed7383b4e4",
       "style": "IPY_MODEL_e7be466e48344f76bcbd0a673fd9e56a",
       "value": "100%"
      }
     },
     "a3d31360aef74fe0a2552375a2b65280": {
      "model_module": "@jupyter-widgets/base",
      "model_module_version": "2.0.0",
      "model_name": "LayoutModel",
      "state": {}
     },
     "a4fa0f51f7f54708930dacbb668553df": {
      "model_module": "@jupyter-widgets/controls",
      "model_module_version": "2.0.0",
      "model_name": "HTMLModel",
      "state": {
       "layout": "IPY_MODEL_1b9933bef0b14ac298cedefd2f7ccecc",
       "style": "IPY_MODEL_ee0e95ab3faa4941aacb0b7f64532368",
       "value": " 693/693 [00:00&lt;00:00, 152660.33it/s]"
      }
     },
     "a5075f09b64942059c9cfb24246a5608": {
      "model_module": "@jupyter-widgets/base",
      "model_module_version": "2.0.0",
      "model_name": "LayoutModel",
      "state": {}
     },
     "a50c02a60c534cfca912d4acc5101f01": {
      "model_module": "@jupyter-widgets/base",
      "model_module_version": "2.0.0",
      "model_name": "LayoutModel",
      "state": {}
     },
     "a5a96cb47a304dd69712af00ffd31852": {
      "model_module": "@jupyter-widgets/base",
      "model_module_version": "2.0.0",
      "model_name": "LayoutModel",
      "state": {}
     },
     "a6076161c36e41e68e392d6e696b96bf": {
      "model_module": "@jupyter-widgets/controls",
      "model_module_version": "2.0.0",
      "model_name": "HBoxModel",
      "state": {
       "children": [
        "IPY_MODEL_1978a5afd0f845ef9762906adf6cedf3",
        "IPY_MODEL_9e6ebb50b78347e5a73ca2bc16c2a435",
        "IPY_MODEL_e617c0b8567e482f8d940c40ff7eeeab"
       ],
       "layout": "IPY_MODEL_9176675b4ca245a2ae993584396ccff2"
      }
     },
     "a64a6a7413504cbbac1ef239b6d356cc": {
      "model_module": "@jupyter-widgets/controls",
      "model_module_version": "2.0.0",
      "model_name": "ProgressStyleModel",
      "state": {
       "description_width": ""
      }
     },
     "a6cb003aebe548b7bdc26325626e704a": {
      "model_module": "@jupyter-widgets/controls",
      "model_module_version": "2.0.0",
      "model_name": "HTMLModel",
      "state": {
       "layout": "IPY_MODEL_d198556651264e49b171c43a5d50f844",
       "style": "IPY_MODEL_8a9238eec2514aa2af3421a146f62690",
       "value": "100%"
      }
     },
     "a6d988808b15444b96727850c31b0cda": {
      "model_module": "@jupyter-widgets/controls",
      "model_module_version": "2.0.0",
      "model_name": "HTMLStyleModel",
      "state": {
       "description_width": "",
       "font_size": null,
       "text_color": null
      }
     },
     "a6e25982eaf64453b38da54600a2c429": {
      "model_module": "@jupyter-widgets/controls",
      "model_module_version": "2.0.0",
      "model_name": "HBoxModel",
      "state": {
       "children": [
        "IPY_MODEL_354a99f062ef47eb8e8035431161694b",
        "IPY_MODEL_2e626fe9a8fb4944be60585da2ddd31a",
        "IPY_MODEL_607dbf8c42a8485a92366af3fa476c41"
       ],
       "layout": "IPY_MODEL_9a82f9f2cc24469585534d6186fe6beb"
      }
     },
     "a6ef92a7a06e470aabe8ca99a1bf6fe2": {
      "model_module": "@jupyter-widgets/controls",
      "model_module_version": "2.0.0",
      "model_name": "FloatProgressModel",
      "state": {
       "bar_style": "success",
       "layout": "IPY_MODEL_a8d31440ade84d558287534dd292787b",
       "max": 541,
       "style": "IPY_MODEL_674f0e95e8fd49b59b05a6ce8759df4f",
       "value": 541
      }
     },
     "a7491a32a7794b4ebfcf5486377c0f15": {
      "model_module": "@jupyter-widgets/controls",
      "model_module_version": "2.0.0",
      "model_name": "ProgressStyleModel",
      "state": {
       "description_width": ""
      }
     },
     "a76b08d17a054037932907eeb3ab2dac": {
      "model_module": "@jupyter-widgets/controls",
      "model_module_version": "2.0.0",
      "model_name": "HTMLStyleModel",
      "state": {
       "description_width": "",
       "font_size": null,
       "text_color": null
      }
     },
     "a7ac4d07f6904b89b02ca1d5aa928f1b": {
      "model_module": "@jupyter-widgets/controls",
      "model_module_version": "2.0.0",
      "model_name": "HTMLModel",
      "state": {
       "layout": "IPY_MODEL_3a2a8744bb5749ec800dbc94fb3c9c5a",
       "style": "IPY_MODEL_19c4d0fe1b41489e8a6c3cec76d9b56f",
       "value": "100%"
      }
     },
     "a7bf75696aad40b2859672312974c2b3": {
      "model_module": "@jupyter-widgets/base",
      "model_module_version": "2.0.0",
      "model_name": "LayoutModel",
      "state": {}
     },
     "a7f1e057e166433baf864e35daea789f": {
      "model_module": "@jupyter-widgets/controls",
      "model_module_version": "2.0.0",
      "model_name": "HTMLModel",
      "state": {
       "layout": "IPY_MODEL_71ddf891fcc041c9b10e15988525ba0e",
       "style": "IPY_MODEL_b8c521a072ae43dc99fc0cc03c92c437",
       "value": "100%"
      }
     },
     "a8bda3b0fd034c35bde1f381993f2b93": {
      "model_module": "@jupyter-widgets/controls",
      "model_module_version": "2.0.0",
      "model_name": "FloatProgressModel",
      "state": {
       "bar_style": "success",
       "layout": "IPY_MODEL_152a52a937ea47728e19d1cdc16161a3",
       "max": 625,
       "style": "IPY_MODEL_d62a28e8ff2a4793afe5bc668be67afc",
       "value": 625
      }
     },
     "a8be185891414315ad2fc2c34dd1a8c9": {
      "model_module": "@jupyter-widgets/base",
      "model_module_version": "2.0.0",
      "model_name": "LayoutModel",
      "state": {}
     },
     "a8c2c0ef7c8e47a4a809cf1c953aac27": {
      "model_module": "@jupyter-widgets/base",
      "model_module_version": "2.0.0",
      "model_name": "LayoutModel",
      "state": {}
     },
     "a8d31440ade84d558287534dd292787b": {
      "model_module": "@jupyter-widgets/base",
      "model_module_version": "2.0.0",
      "model_name": "LayoutModel",
      "state": {}
     },
     "a91829a030c44482bfd7a8e0b3d0af52": {
      "model_module": "@jupyter-widgets/base",
      "model_module_version": "2.0.0",
      "model_name": "LayoutModel",
      "state": {}
     },
     "a9428dc26f9043a5856da4993ca61f3b": {
      "model_module": "@jupyter-widgets/controls",
      "model_module_version": "2.0.0",
      "model_name": "HTMLStyleModel",
      "state": {
       "description_width": "",
       "font_size": null,
       "text_color": null
      }
     },
     "a98ba4fdb43646ce843c5827fa26d145": {
      "model_module": "@jupyter-widgets/base",
      "model_module_version": "2.0.0",
      "model_name": "LayoutModel",
      "state": {}
     },
     "a99a9852b8764316b74544b3ed735476": {
      "model_module": "@jupyter-widgets/controls",
      "model_module_version": "2.0.0",
      "model_name": "HTMLModel",
      "state": {
       "layout": "IPY_MODEL_d6ca0df66c2d4a13892238055f4dd193",
       "style": "IPY_MODEL_2a12ca8780194ff2932cb5b05ed39724",
       "value": "  0%"
      }
     },
     "a9b13af6c385454896fe4ef134e94767": {
      "model_module": "@jupyter-widgets/controls",
      "model_module_version": "2.0.0",
      "model_name": "HTMLModel",
      "state": {
       "layout": "IPY_MODEL_b29e957230d644b599c7d9fa7692aa80",
       "style": "IPY_MODEL_f0c4b896c25c41c297afd3994448bb69",
       "value": " 0/582 [00:00&lt;?, ?it/s]"
      }
     },
     "a9c21a40b6414cb08a4d65c427120325": {
      "model_module": "@jupyter-widgets/base",
      "model_module_version": "2.0.0",
      "model_name": "LayoutModel",
      "state": {}
     },
     "a9c30ca2d9314130b4c180fa272234b3": {
      "model_module": "@jupyter-widgets/controls",
      "model_module_version": "2.0.0",
      "model_name": "HBoxModel",
      "state": {
       "children": [
        "IPY_MODEL_da2e18f5fca743fabb1a126829cf0cc2",
        "IPY_MODEL_ee702b733aa8473dadf7a3ab17f50b96",
        "IPY_MODEL_4c6adc66432a474eb4cf970e36cf4327"
       ],
       "layout": "IPY_MODEL_357e034f85a04feeba687a4f0ec4790d"
      }
     },
     "a9edaf16fb2f46fbbdbc84157e674eec": {
      "model_module": "@jupyter-widgets/base",
      "model_module_version": "2.0.0",
      "model_name": "LayoutModel",
      "state": {}
     },
     "aa77e32527fa43ef944e60749bdd2035": {
      "model_module": "@jupyter-widgets/controls",
      "model_module_version": "2.0.0",
      "model_name": "HBoxModel",
      "state": {
       "children": [
        "IPY_MODEL_36bfd2e049e74cd1b5c9f99caba230e8",
        "IPY_MODEL_1a563963f8df4809bb495c5c1264ab30",
        "IPY_MODEL_f78983732a514f1892b055fa20b4228a"
       ],
       "layout": "IPY_MODEL_4acacf2db06b41858fbc2b2e569f5faf"
      }
     },
     "aa80191ef5b841d89cb0e5663e5dae50": {
      "model_module": "@jupyter-widgets/controls",
      "model_module_version": "2.0.0",
      "model_name": "ProgressStyleModel",
      "state": {
       "description_width": ""
      }
     },
     "aaf48e7268534537807ee67d9712cce0": {
      "model_module": "@jupyter-widgets/controls",
      "model_module_version": "2.0.0",
      "model_name": "HTMLModel",
      "state": {
       "layout": "IPY_MODEL_f93304bd8850410cafc5490d48793b18",
       "style": "IPY_MODEL_16676cd15e1f4c50a1c87f272cd54ff5",
       "value": "100%"
      }
     },
     "aaf7f8ba2291460197ad2725b2ac492f": {
      "model_module": "@jupyter-widgets/controls",
      "model_module_version": "2.0.0",
      "model_name": "ProgressStyleModel",
      "state": {
       "description_width": ""
      }
     },
     "ab14777928c04b8dbd7eaaf8cd481270": {
      "model_module": "@jupyter-widgets/controls",
      "model_module_version": "2.0.0",
      "model_name": "HTMLStyleModel",
      "state": {
       "description_width": "",
       "font_size": null,
       "text_color": null
      }
     },
     "ab581fdc88504330814b54c61e2180a2": {
      "model_module": "@jupyter-widgets/controls",
      "model_module_version": "2.0.0",
      "model_name": "FloatProgressModel",
      "state": {
       "bar_style": "danger",
       "layout": "IPY_MODEL_b18977e0e8104ed3b186a915d6ab8adf",
       "max": 722,
       "style": "IPY_MODEL_da53257e98434bad97d329d73e9faf03"
      }
     },
     "ac06f90c2d5e4b1fa1a13402ff9ed492": {
      "model_module": "@jupyter-widgets/base",
      "model_module_version": "2.0.0",
      "model_name": "LayoutModel",
      "state": {}
     },
     "ac125ba60fcc4d7c9b4ca5de5423b2c9": {
      "model_module": "@jupyter-widgets/base",
      "model_module_version": "2.0.0",
      "model_name": "LayoutModel",
      "state": {}
     },
     "ac165e6165774f5b8517006ed55016f8": {
      "model_module": "@jupyter-widgets/controls",
      "model_module_version": "2.0.0",
      "model_name": "ProgressStyleModel",
      "state": {
       "description_width": ""
      }
     },
     "ac249f25503049398387d6b225fd1cc1": {
      "model_module": "@jupyter-widgets/controls",
      "model_module_version": "2.0.0",
      "model_name": "HTMLModel",
      "state": {
       "layout": "IPY_MODEL_e6ea0e3f3e484539b6845eaee320d016",
       "style": "IPY_MODEL_dd1240f64cfb41a4ad6eb30761f522d7",
       "value": " 0/712 [00:00&lt;?, ?it/s]"
      }
     },
     "ac4660eb444146f096040168b18be8ef": {
      "model_module": "@jupyter-widgets/controls",
      "model_module_version": "2.0.0",
      "model_name": "HTMLModel",
      "state": {
       "layout": "IPY_MODEL_d75e4d8b56d34ee891e5ddcddc72f4dd",
       "style": "IPY_MODEL_520bebaa6fa845a1bbcbc1ef36138bf2",
       "value": "100%"
      }
     },
     "ac75c7b17e9b45d1abca9cb8e2b716c7": {
      "model_module": "@jupyter-widgets/controls",
      "model_module_version": "2.0.0",
      "model_name": "HTMLModel",
      "state": {
       "layout": "IPY_MODEL_b1597bc132f942f1abf21bb4694082ec",
       "style": "IPY_MODEL_0bfd7ed712094571a52398c10873f8af",
       "value": "100%"
      }
     },
     "ad78bf7ddac84d9f9950c115266f631e": {
      "model_module": "@jupyter-widgets/controls",
      "model_module_version": "2.0.0",
      "model_name": "HTMLModel",
      "state": {
       "layout": "IPY_MODEL_4565a09b2a6749e192cb56c6d7a3f924",
       "style": "IPY_MODEL_e5ba28e2a7324223bd87f8c279358bf0",
       "value": "  0%"
      }
     },
     "ae337d05eefc40f393211e21b86a83fd": {
      "model_module": "@jupyter-widgets/controls",
      "model_module_version": "2.0.0",
      "model_name": "HTMLModel",
      "state": {
       "layout": "IPY_MODEL_d1cb18ac35b84e95b358484c830cd0c2",
       "style": "IPY_MODEL_55a3665fa04e4ccc8a4d8dbb51a0f1f4",
       "value": "100%"
      }
     },
     "ae5751d043184c15a5426f9fdf924717": {
      "model_module": "@jupyter-widgets/base",
      "model_module_version": "2.0.0",
      "model_name": "LayoutModel",
      "state": {}
     },
     "ae76f6fbb8db4dcc87c1e1bcb6a78e3d": {
      "model_module": "@jupyter-widgets/controls",
      "model_module_version": "2.0.0",
      "model_name": "HTMLStyleModel",
      "state": {
       "description_width": "",
       "font_size": null,
       "text_color": null
      }
     },
     "ae8f7790c343408ca78797bb2bd879d9": {
      "model_module": "@jupyter-widgets/controls",
      "model_module_version": "2.0.0",
      "model_name": "ProgressStyleModel",
      "state": {
       "description_width": ""
      }
     },
     "ae9a89d5541d4df8be4893b0764b5e8e": {
      "model_module": "@jupyter-widgets/controls",
      "model_module_version": "2.0.0",
      "model_name": "HTMLStyleModel",
      "state": {
       "description_width": "",
       "font_size": null,
       "text_color": null
      }
     },
     "aec45b7745e44ba4bab8530b493a98ff": {
      "model_module": "@jupyter-widgets/controls",
      "model_module_version": "2.0.0",
      "model_name": "ProgressStyleModel",
      "state": {
       "description_width": ""
      }
     },
     "aed69f2ccf3447b29f237fb76f7a3286": {
      "model_module": "@jupyter-widgets/controls",
      "model_module_version": "2.0.0",
      "model_name": "HTMLStyleModel",
      "state": {
       "description_width": "",
       "font_size": null,
       "text_color": null
      }
     },
     "aee44a796b544be58284a5c964bf627e": {
      "model_module": "@jupyter-widgets/base",
      "model_module_version": "2.0.0",
      "model_name": "LayoutModel",
      "state": {}
     },
     "aefd09b5785f498e8b5311c137fe467a": {
      "model_module": "@jupyter-widgets/controls",
      "model_module_version": "2.0.0",
      "model_name": "HTMLModel",
      "state": {
       "layout": "IPY_MODEL_5f256aec84d24981b7a2d0ce73703a2e",
       "style": "IPY_MODEL_0d7bb2cdc83b4707a125c962a0b95934",
       "value": " 437/437 [00:00&lt;00:00, 106348.18it/s]"
      }
     },
     "af18efbcd2cb48db902c2b895ff0cb63": {
      "model_module": "@jupyter-widgets/controls",
      "model_module_version": "2.0.0",
      "model_name": "FloatProgressModel",
      "state": {
       "bar_style": "success",
       "layout": "IPY_MODEL_f62445b532c540a6b0bf849c02c8bbac",
       "max": 690,
       "style": "IPY_MODEL_c15a67fb64fc48a294acd89385dcdcc0",
       "value": 690
      }
     },
     "af538d2984db4819aef42ca6ca95773b": {
      "model_module": "@jupyter-widgets/controls",
      "model_module_version": "2.0.0",
      "model_name": "HTMLStyleModel",
      "state": {
       "description_width": "",
       "font_size": null,
       "text_color": null
      }
     },
     "af6b4c4ffb644a5482ee44b631d5b8e1": {
      "model_module": "@jupyter-widgets/controls",
      "model_module_version": "2.0.0",
      "model_name": "HTMLStyleModel",
      "state": {
       "description_width": "",
       "font_size": null,
       "text_color": null
      }
     },
     "afa6e47a92b34622bffaef7bab678278": {
      "model_module": "@jupyter-widgets/controls",
      "model_module_version": "2.0.0",
      "model_name": "HTMLStyleModel",
      "state": {
       "description_width": "",
       "font_size": null,
       "text_color": null
      }
     },
     "afab245b221b4ecbb9d89ed521ef12fc": {
      "model_module": "@jupyter-widgets/controls",
      "model_module_version": "2.0.0",
      "model_name": "HTMLModel",
      "state": {
       "layout": "IPY_MODEL_4316059624c04ac2b1105fa1b4550631",
       "style": "IPY_MODEL_e97dbcb69dd4497386c8d2b83bf98407",
       "value": "100%"
      }
     },
     "b04ced895d4241b4a22e6106b89af204": {
      "model_module": "@jupyter-widgets/controls",
      "model_module_version": "2.0.0",
      "model_name": "HTMLStyleModel",
      "state": {
       "description_width": "",
       "font_size": null,
       "text_color": null
      }
     },
     "b0d054955dd64517b732e2a530c5d957": {
      "model_module": "@jupyter-widgets/controls",
      "model_module_version": "2.0.0",
      "model_name": "HTMLStyleModel",
      "state": {
       "description_width": "",
       "font_size": null,
       "text_color": null
      }
     },
     "b1597bc132f942f1abf21bb4694082ec": {
      "model_module": "@jupyter-widgets/base",
      "model_module_version": "2.0.0",
      "model_name": "LayoutModel",
      "state": {}
     },
     "b18977e0e8104ed3b186a915d6ab8adf": {
      "model_module": "@jupyter-widgets/base",
      "model_module_version": "2.0.0",
      "model_name": "LayoutModel",
      "state": {}
     },
     "b194a027e4d34f87a50a25ec6c2b7fc2": {
      "model_module": "@jupyter-widgets/controls",
      "model_module_version": "2.0.0",
      "model_name": "HTMLStyleModel",
      "state": {
       "description_width": "",
       "font_size": null,
       "text_color": null
      }
     },
     "b19b5c91f7e94535abd1375c9e9c69c7": {
      "model_module": "@jupyter-widgets/controls",
      "model_module_version": "2.0.0",
      "model_name": "HTMLStyleModel",
      "state": {
       "description_width": "",
       "font_size": null,
       "text_color": null
      }
     },
     "b19ce558e3d6400c93b3ab99555467bd": {
      "model_module": "@jupyter-widgets/controls",
      "model_module_version": "2.0.0",
      "model_name": "FloatProgressModel",
      "state": {
       "bar_style": "success",
       "layout": "IPY_MODEL_4a208d29114d44429d53f98157ba4909",
       "max": 640,
       "style": "IPY_MODEL_4daa195d464a4337baa0fe1a2dd52217",
       "value": 640
      }
     },
     "b1d3707e242c4d48bc8327e4f7e75480": {
      "model_module": "@jupyter-widgets/controls",
      "model_module_version": "2.0.0",
      "model_name": "HBoxModel",
      "state": {
       "children": [
        "IPY_MODEL_49359984b1c84e83863db0f228803344",
        "IPY_MODEL_c4b068adb524496bab86e6cfd1f927d3",
        "IPY_MODEL_4aeed59b794646a5bebd905fabe039d6"
       ],
       "layout": "IPY_MODEL_d4aac90338cb442d8899af84aba7f16e"
      }
     },
     "b202edaed16043b091554f2317fe301b": {
      "model_module": "@jupyter-widgets/base",
      "model_module_version": "2.0.0",
      "model_name": "LayoutModel",
      "state": {}
     },
     "b204c2e3bbb343c59f28da11fcb29805": {
      "model_module": "@jupyter-widgets/controls",
      "model_module_version": "2.0.0",
      "model_name": "HTMLModel",
      "state": {
       "layout": "IPY_MODEL_0363e6c44c5b4ad7a88383b935734034",
       "style": "IPY_MODEL_974501b237424396a25f845cf5a147d7",
       "value": " 465/465 [00:00&lt;00:00, 114396.82it/s]"
      }
     },
     "b29e957230d644b599c7d9fa7692aa80": {
      "model_module": "@jupyter-widgets/base",
      "model_module_version": "2.0.0",
      "model_name": "LayoutModel",
      "state": {}
     },
     "b2f45728e5184165a666a002f699728e": {
      "model_module": "@jupyter-widgets/controls",
      "model_module_version": "2.0.0",
      "model_name": "HTMLModel",
      "state": {
       "layout": "IPY_MODEL_a2d2e97948634b8ebe8be994a674c7ce",
       "style": "IPY_MODEL_fb574410aa58469ca2d6ad4695958b58",
       "value": " 699/699 [00:00&lt;00:00, 151970.69it/s]"
      }
     },
     "b2f6520892bf4fd4b2874bb7c9fcdc62": {
      "model_module": "@jupyter-widgets/controls",
      "model_module_version": "2.0.0",
      "model_name": "FloatProgressModel",
      "state": {
       "bar_style": "danger",
       "layout": "IPY_MODEL_870c8b2a11434a72be3dc2a89d771a8b",
       "max": 582,
       "style": "IPY_MODEL_eecfd1af905d436d9fdb4f25aef35c99"
      }
     },
     "b31e09c9fedd467491e5ef041ccdb3a1": {
      "model_module": "@jupyter-widgets/controls",
      "model_module_version": "2.0.0",
      "model_name": "HTMLModel",
      "state": {
       "layout": "IPY_MODEL_a50c02a60c534cfca912d4acc5101f01",
       "style": "IPY_MODEL_02b733f57fd849e8a5da3bac83f56f64",
       "value": "100%"
      }
     },
     "b3342623c3dc45029f87fd2f14c4edf5": {
      "model_module": "@jupyter-widgets/base",
      "model_module_version": "2.0.0",
      "model_name": "LayoutModel",
      "state": {}
     },
     "b351d958b0bc47e2bffca5e5db3b7544": {
      "model_module": "@jupyter-widgets/base",
      "model_module_version": "2.0.0",
      "model_name": "LayoutModel",
      "state": {}
     },
     "b36ce062dfb04cc99464b9da85c6e890": {
      "model_module": "@jupyter-widgets/controls",
      "model_module_version": "2.0.0",
      "model_name": "HTMLStyleModel",
      "state": {
       "description_width": "",
       "font_size": null,
       "text_color": null
      }
     },
     "b37d993f80ba4645a5c584e57273c652": {
      "model_module": "@jupyter-widgets/base",
      "model_module_version": "2.0.0",
      "model_name": "LayoutModel",
      "state": {}
     },
     "b3940fbb737042d99165b0db5e50fdb3": {
      "model_module": "@jupyter-widgets/base",
      "model_module_version": "2.0.0",
      "model_name": "LayoutModel",
      "state": {}
     },
     "b3b4e569b45a40c7aeb9a16acfcd212e": {
      "model_module": "@jupyter-widgets/base",
      "model_module_version": "2.0.0",
      "model_name": "LayoutModel",
      "state": {}
     },
     "b40f19d6407046d7b46bfea1ae82f909": {
      "model_module": "@jupyter-widgets/controls",
      "model_module_version": "2.0.0",
      "model_name": "HBoxModel",
      "state": {
       "children": [
        "IPY_MODEL_e89a2b1cc21b4126b719c4cac8027a97",
        "IPY_MODEL_2e3155e6f60a4c4a8ffa5f37381cd6fb",
        "IPY_MODEL_3debd1bd2a2d4b01845edeaabe0cc8a7"
       ],
       "layout": "IPY_MODEL_8f59cd1075b64c2f88bdfbdc4d30eeae"
      }
     },
     "b456533d56bf40249e037dadfe85c872": {
      "model_module": "@jupyter-widgets/base",
      "model_module_version": "2.0.0",
      "model_name": "LayoutModel",
      "state": {}
     },
     "b46a481852f04d7eaf34c9c025d779e8": {
      "model_module": "@jupyter-widgets/controls",
      "model_module_version": "2.0.0",
      "model_name": "HBoxModel",
      "state": {
       "children": [
        "IPY_MODEL_0876a4b9a05843cbb9115c37e6dbc87c",
        "IPY_MODEL_95b7a882f556480eb0427c80773d5d50",
        "IPY_MODEL_084310c2892d485db70f602a0e7d8b7d"
       ],
       "layout": "IPY_MODEL_e83db7c834ea494798ee34ebe3acb615"
      }
     },
     "b4b31e0595c44fb9b483d126ff2e1a11": {
      "model_module": "@jupyter-widgets/controls",
      "model_module_version": "2.0.0",
      "model_name": "HTMLModel",
      "state": {
       "layout": "IPY_MODEL_6fd4d37c5ff143b391c2c5b0ec2b805d",
       "style": "IPY_MODEL_caa0a395a65a43468bf92e524e6d5b78",
       "value": " 480/480 [00:00&lt;00:00, 120627.08it/s]"
      }
     },
     "b4fc95271f73491b976b65f61f23c180": {
      "model_module": "@jupyter-widgets/controls",
      "model_module_version": "2.0.0",
      "model_name": "HBoxModel",
      "state": {
       "children": [
        "IPY_MODEL_9c5a9e9990c94ddb9ec58a46c6aed5fa",
        "IPY_MODEL_4ec72e9c08194fd28041e747717103ef",
        "IPY_MODEL_967676864d03453c822f99c0eea3bd33"
       ],
       "layout": "IPY_MODEL_d06214b309294b06bfa0937960cb48b2"
      }
     },
     "b500740306fc404d8bdb51368184d783": {
      "model_module": "@jupyter-widgets/controls",
      "model_module_version": "2.0.0",
      "model_name": "HBoxModel",
      "state": {
       "children": [
        "IPY_MODEL_d65f0edb6bbb480ca0f5bbaadbe54663",
        "IPY_MODEL_0ac3ff7108314920b328b7ae7b3357ef",
        "IPY_MODEL_e5011dc7ae414556af74dafc3efe2270"
       ],
       "layout": "IPY_MODEL_747ded9ac94e450c88acc402be618ea5"
      }
     },
     "b50ca9904c2647fd93143cb30b2dd88e": {
      "model_module": "@jupyter-widgets/controls",
      "model_module_version": "2.0.0",
      "model_name": "ProgressStyleModel",
      "state": {
       "description_width": ""
      }
     },
     "b516afedc67a43e1be2be376defc9f20": {
      "model_module": "@jupyter-widgets/controls",
      "model_module_version": "2.0.0",
      "model_name": "HTMLStyleModel",
      "state": {
       "description_width": "",
       "font_size": null,
       "text_color": null
      }
     },
     "b57789d9468e4be2a8d10fc0ef8b5b4c": {
      "model_module": "@jupyter-widgets/controls",
      "model_module_version": "2.0.0",
      "model_name": "HBoxModel",
      "state": {
       "children": [
        "IPY_MODEL_d1d26df3b6d24c82b1a4355c39447bec",
        "IPY_MODEL_925331dd1b934d66940f2c42360dab72",
        "IPY_MODEL_ba1f9751945c4315822b7e90bd2298b2"
       ],
       "layout": "IPY_MODEL_7c71349285664c469415689a36910dc7"
      }
     },
     "b59403411ba445a58c22f8071c5a9d8b": {
      "model_module": "@jupyter-widgets/controls",
      "model_module_version": "2.0.0",
      "model_name": "HTMLStyleModel",
      "state": {
       "description_width": "",
       "font_size": null,
       "text_color": null
      }
     },
     "b59534dbcb2d401aabe95250c28b5d2c": {
      "model_module": "@jupyter-widgets/controls",
      "model_module_version": "2.0.0",
      "model_name": "HTMLStyleModel",
      "state": {
       "description_width": "",
       "font_size": null,
       "text_color": null
      }
     },
     "b5a79841fdb7470a92f1fef840262d88": {
      "model_module": "@jupyter-widgets/base",
      "model_module_version": "2.0.0",
      "model_name": "LayoutModel",
      "state": {}
     },
     "b5aaa9f6acec4c988bcb11eaaf261a66": {
      "model_module": "@jupyter-widgets/controls",
      "model_module_version": "2.0.0",
      "model_name": "HTMLModel",
      "state": {
       "layout": "IPY_MODEL_98ed98f9b3db40b0bccc72ba8ff88dc6",
       "style": "IPY_MODEL_ce0d4a64282b4116a3c375506dc77930",
       "value": " 492/492 [00:00&lt;00:00, 108558.98it/s]"
      }
     },
     "b5c2b1244cd54319973dc7e68be7e1d1": {
      "model_module": "@jupyter-widgets/base",
      "model_module_version": "2.0.0",
      "model_name": "LayoutModel",
      "state": {}
     },
     "b5faab4c99e141d9a3890defe528b194": {
      "model_module": "@jupyter-widgets/base",
      "model_module_version": "2.0.0",
      "model_name": "LayoutModel",
      "state": {}
     },
     "b62ad69e085c4efaad3874181aeb6b46": {
      "model_module": "@jupyter-widgets/controls",
      "model_module_version": "2.0.0",
      "model_name": "HTMLStyleModel",
      "state": {
       "description_width": "",
       "font_size": null,
       "text_color": null
      }
     },
     "b62f40f6c8be4f1e87485b576ded5af7": {
      "model_module": "@jupyter-widgets/controls",
      "model_module_version": "2.0.0",
      "model_name": "HBoxModel",
      "state": {
       "children": [
        "IPY_MODEL_ac4660eb444146f096040168b18be8ef",
        "IPY_MODEL_5b0843770c834d01984991a34a6f6581",
        "IPY_MODEL_e790006bb91f42f9bbdaa2e3ccb1fc5b"
       ],
       "layout": "IPY_MODEL_e73b9b6007cf42429b928989e353e120"
      }
     },
     "b63a24753b244b76abec9c6ba0507290": {
      "model_module": "@jupyter-widgets/controls",
      "model_module_version": "2.0.0",
      "model_name": "FloatProgressModel",
      "state": {
       "bar_style": "success",
       "layout": "IPY_MODEL_49c9f91507cf471cb5e96f3d4ea48547",
       "max": 471,
       "style": "IPY_MODEL_3985fbabc08c4858bee75e48c1df3c73",
       "value": 471
      }
     },
     "b63ba375f6a54a16b8e14a10ee4221fb": {
      "model_module": "@jupyter-widgets/base",
      "model_module_version": "2.0.0",
      "model_name": "LayoutModel",
      "state": {}
     },
     "b667d1a46efc495397e78b9d0d5c9f07": {
      "model_module": "@jupyter-widgets/controls",
      "model_module_version": "2.0.0",
      "model_name": "HTMLStyleModel",
      "state": {
       "description_width": "",
       "font_size": null,
       "text_color": null
      }
     },
     "b6c15bcb61e94a5c9b18d8100b6c7f34": {
      "model_module": "@jupyter-widgets/base",
      "model_module_version": "2.0.0",
      "model_name": "LayoutModel",
      "state": {}
     },
     "b6e019a8e34e47988ae211f3b3fd59f5": {
      "model_module": "@jupyter-widgets/base",
      "model_module_version": "2.0.0",
      "model_name": "LayoutModel",
      "state": {}
     },
     "b748811282c94cc287882ab3fd87d17a": {
      "model_module": "@jupyter-widgets/controls",
      "model_module_version": "2.0.0",
      "model_name": "HTMLStyleModel",
      "state": {
       "description_width": "",
       "font_size": null,
       "text_color": null
      }
     },
     "b74c78bf585f4c629420ae0891f2ad7a": {
      "model_module": "@jupyter-widgets/base",
      "model_module_version": "2.0.0",
      "model_name": "LayoutModel",
      "state": {}
     },
     "b7f4a7b0e26247aab7a7a900a5ead190": {
      "model_module": "@jupyter-widgets/base",
      "model_module_version": "2.0.0",
      "model_name": "LayoutModel",
      "state": {}
     },
     "b80d78756dec4d99abdbf9a5f6564fc3": {
      "model_module": "@jupyter-widgets/controls",
      "model_module_version": "2.0.0",
      "model_name": "FloatProgressModel",
      "state": {
       "bar_style": "success",
       "layout": "IPY_MODEL_55a9c489a76340198988b572e8b19e5f",
       "max": 492,
       "style": "IPY_MODEL_27a4eeed6a714e36b1475b6ef8c0ddf2",
       "value": 492
      }
     },
     "b816a1cb68994e0c83bc2af698547fa5": {
      "model_module": "@jupyter-widgets/controls",
      "model_module_version": "2.0.0",
      "model_name": "HTMLStyleModel",
      "state": {
       "description_width": "",
       "font_size": null,
       "text_color": null
      }
     },
     "b8690cc7cb1e46aeb3922774d548e489": {
      "model_module": "@jupyter-widgets/controls",
      "model_module_version": "2.0.0",
      "model_name": "FloatProgressModel",
      "state": {
       "bar_style": "success",
       "layout": "IPY_MODEL_c4a770bff2bc403dbaebe39b7eee0406",
       "max": 681,
       "style": "IPY_MODEL_cc1f0adbb77946798c299f88362a3a26",
       "value": 681
      }
     },
     "b8c521a072ae43dc99fc0cc03c92c437": {
      "model_module": "@jupyter-widgets/controls",
      "model_module_version": "2.0.0",
      "model_name": "HTMLStyleModel",
      "state": {
       "description_width": "",
       "font_size": null,
       "text_color": null
      }
     },
     "b8cedb48a2d6489d9ea4415646a6211f": {
      "model_module": "@jupyter-widgets/controls",
      "model_module_version": "2.0.0",
      "model_name": "HTMLStyleModel",
      "state": {
       "description_width": "",
       "font_size": null,
       "text_color": null
      }
     },
     "b932e3fa563c4d32b18769fed45437e0": {
      "model_module": "@jupyter-widgets/base",
      "model_module_version": "2.0.0",
      "model_name": "LayoutModel",
      "state": {}
     },
     "b93b62d31538413192f3adc0ca8098cd": {
      "model_module": "@jupyter-widgets/base",
      "model_module_version": "2.0.0",
      "model_name": "LayoutModel",
      "state": {}
     },
     "b93dc8a9930f4aef8ae99fff22e48c07": {
      "model_module": "@jupyter-widgets/controls",
      "model_module_version": "2.0.0",
      "model_name": "HTMLModel",
      "state": {
       "layout": "IPY_MODEL_59c58361e7804143a9bd49efac51b15b",
       "style": "IPY_MODEL_fd9ab1ff0339484e8a797be02f1b5f64",
       "value": " 618/618 [00:00&lt;00:00, 129500.39it/s]"
      }
     },
     "b96205fa36ac40a3a2e32d47a3bff178": {
      "model_module": "@jupyter-widgets/controls",
      "model_module_version": "2.0.0",
      "model_name": "HTMLStyleModel",
      "state": {
       "description_width": "",
       "font_size": null,
       "text_color": null
      }
     },
     "ba1f9751945c4315822b7e90bd2298b2": {
      "model_module": "@jupyter-widgets/controls",
      "model_module_version": "2.0.0",
      "model_name": "HTMLModel",
      "state": {
       "layout": "IPY_MODEL_0ce63e006dad4f8ebd8b99f788efbf30",
       "style": "IPY_MODEL_d2dc08536ee44d518bcaa829efdc9602",
       "value": " 516/516 [00:00&lt;00:00, 124504.45it/s]"
      }
     },
     "ba2e74fef75845598c1ebd6b246fdbfa": {
      "model_module": "@jupyter-widgets/controls",
      "model_module_version": "2.0.0",
      "model_name": "HTMLStyleModel",
      "state": {
       "description_width": "",
       "font_size": null,
       "text_color": null
      }
     },
     "ba854aebb7bc40c3bfa3d4b97253a71e": {
      "model_module": "@jupyter-widgets/base",
      "model_module_version": "2.0.0",
      "model_name": "LayoutModel",
      "state": {}
     },
     "baa293131ccb4c7e811d938a59dba244": {
      "model_module": "@jupyter-widgets/controls",
      "model_module_version": "2.0.0",
      "model_name": "FloatProgressModel",
      "state": {
       "bar_style": "success",
       "layout": "IPY_MODEL_8c07b00558f64a49957393cd33398e52",
       "max": 663,
       "style": "IPY_MODEL_bc03e9dbfac547179692acddb1a626aa",
       "value": 663
      }
     },
     "badc971fc7ed488592ede5607ccec9d0": {
      "model_module": "@jupyter-widgets/controls",
      "model_module_version": "2.0.0",
      "model_name": "FloatProgressModel",
      "state": {
       "bar_style": "success",
       "layout": "IPY_MODEL_1fe05022a4c241a48b55daf55fbcdc04",
       "max": 745,
       "style": "IPY_MODEL_c1db0d8c66b64e04a98dc7d0954fd196",
       "value": 745
      }
     },
     "bae4a9fe0b2042bcb1e8c4a84b27011e": {
      "model_module": "@jupyter-widgets/controls",
      "model_module_version": "2.0.0",
      "model_name": "HTMLStyleModel",
      "state": {
       "description_width": "",
       "font_size": null,
       "text_color": null
      }
     },
     "bb0f8dc97f4741bc89fb41df00439f2c": {
      "model_module": "@jupyter-widgets/controls",
      "model_module_version": "2.0.0",
      "model_name": "HTMLModel",
      "state": {
       "layout": "IPY_MODEL_18b110c272e04508afb90055b939e721",
       "style": "IPY_MODEL_0b69ca1c3689434d814abe2db7cc645c",
       "value": "100%"
      }
     },
     "bb4250ee660a49e8ae14f8d747138e37": {
      "model_module": "@jupyter-widgets/controls",
      "model_module_version": "2.0.0",
      "model_name": "FloatProgressModel",
      "state": {
       "bar_style": "success",
       "layout": "IPY_MODEL_4791ae4f1b1a40c58bb58f2fdfdd8198",
       "max": 639,
       "style": "IPY_MODEL_ac165e6165774f5b8517006ed55016f8",
       "value": 639
      }
     },
     "bb66a79b87d24e138f9d7a0c2f0a648d": {
      "model_module": "@jupyter-widgets/controls",
      "model_module_version": "2.0.0",
      "model_name": "FloatProgressModel",
      "state": {
       "bar_style": "success",
       "layout": "IPY_MODEL_68b837b545774caa9d8e4d8a5328076b",
       "max": 596,
       "style": "IPY_MODEL_644797722161488899e969ecbdc39a38",
       "value": 596
      }
     },
     "bbb887b36c7b4e7898cf4833e22d55f8": {
      "model_module": "@jupyter-widgets/controls",
      "model_module_version": "2.0.0",
      "model_name": "HBoxModel",
      "state": {
       "children": [
        "IPY_MODEL_66259fdf30334bc9a84dceb86c17ed05",
        "IPY_MODEL_86b52a594f7c4029840a77c435c8aeba",
        "IPY_MODEL_482d6048bc604947b25718ed9a5a493e"
       ],
       "layout": "IPY_MODEL_5de6732522574ab5ba5d6f3aebd3cb98"
      }
     },
     "bc03e9dbfac547179692acddb1a626aa": {
      "model_module": "@jupyter-widgets/controls",
      "model_module_version": "2.0.0",
      "model_name": "ProgressStyleModel",
      "state": {
       "description_width": ""
      }
     },
     "bc436fa25a5e46b5ae4cb348d649e712": {
      "model_module": "@jupyter-widgets/controls",
      "model_module_version": "2.0.0",
      "model_name": "ProgressStyleModel",
      "state": {
       "description_width": ""
      }
     },
     "bc633775bcff44119cd24bfa44700c01": {
      "model_module": "@jupyter-widgets/base",
      "model_module_version": "2.0.0",
      "model_name": "LayoutModel",
      "state": {}
     },
     "bc85b57ee27e4f52bd78a970d0aa0c7b": {
      "model_module": "@jupyter-widgets/controls",
      "model_module_version": "2.0.0",
      "model_name": "FloatProgressModel",
      "state": {
       "bar_style": "success",
       "layout": "IPY_MODEL_61a7a0f8354a4f7d9bbbe875f87a2f20",
       "max": 674,
       "style": "IPY_MODEL_1ee4e7767c70489784d2a7e2c1c20a1f",
       "value": 674
      }
     },
     "bccf40419848424689025755ac184e90": {
      "model_module": "@jupyter-widgets/controls",
      "model_module_version": "2.0.0",
      "model_name": "HTMLModel",
      "state": {
       "layout": "IPY_MODEL_feb4e5439c0e4f2bb08dc72096803ed3",
       "style": "IPY_MODEL_6f6df7b3ad5346339b520eddc2342fe7",
       "value": " 639/639 [00:00&lt;00:00, 148501.79it/s]"
      }
     },
     "bd072fa0b2684b988b360fa3073bda97": {
      "model_module": "@jupyter-widgets/controls",
      "model_module_version": "2.0.0",
      "model_name": "HTMLStyleModel",
      "state": {
       "description_width": "",
       "font_size": null,
       "text_color": null
      }
     },
     "bd0926206d8d4ccda33d001e20ff095e": {
      "model_module": "@jupyter-widgets/base",
      "model_module_version": "2.0.0",
      "model_name": "LayoutModel",
      "state": {}
     },
     "bd111e4630aa4ead8128792e6217da64": {
      "model_module": "@jupyter-widgets/base",
      "model_module_version": "2.0.0",
      "model_name": "LayoutModel",
      "state": {}
     },
     "bd442da5a69743a5a00ae3a2c5dc67a8": {
      "model_module": "@jupyter-widgets/controls",
      "model_module_version": "2.0.0",
      "model_name": "HBoxModel",
      "state": {
       "children": [
        "IPY_MODEL_68bd371078a04cb787999bd0bec9d950",
        "IPY_MODEL_932657a33be9430781f887466b0a71a8",
        "IPY_MODEL_7655ac38a8da47a9810149b19511452b"
       ],
       "layout": "IPY_MODEL_0d0953e04fbe4b99b08b056c7c0e7422"
      }
     },
     "bd5a03d97e1d4acd86af194966176372": {
      "model_module": "@jupyter-widgets/base",
      "model_module_version": "2.0.0",
      "model_name": "LayoutModel",
      "state": {}
     },
     "bdba566dc31042b5b6b7c0165694e856": {
      "model_module": "@jupyter-widgets/controls",
      "model_module_version": "2.0.0",
      "model_name": "HTMLModel",
      "state": {
       "layout": "IPY_MODEL_430df9e5797442adb9ef8ba96a9d2a89",
       "style": "IPY_MODEL_af538d2984db4819aef42ca6ca95773b",
       "value": "  0%"
      }
     },
     "bdeb9a9877054eacbac70eb453d62ddb": {
      "model_module": "@jupyter-widgets/controls",
      "model_module_version": "2.0.0",
      "model_name": "HTMLStyleModel",
      "state": {
       "description_width": "",
       "font_size": null,
       "text_color": null
      }
     },
     "be3ad66ad312493b864c5bbd5912d51b": {
      "model_module": "@jupyter-widgets/base",
      "model_module_version": "2.0.0",
      "model_name": "LayoutModel",
      "state": {}
     },
     "be569e3e1966416399e38fd6e3184c52": {
      "model_module": "@jupyter-widgets/controls",
      "model_module_version": "2.0.0",
      "model_name": "HTMLStyleModel",
      "state": {
       "description_width": "",
       "font_size": null,
       "text_color": null
      }
     },
     "beb7c659be05427885f4b8ea28aad6ae": {
      "model_module": "@jupyter-widgets/controls",
      "model_module_version": "2.0.0",
      "model_name": "ProgressStyleModel",
      "state": {
       "description_width": ""
      }
     },
     "bef410d70aac41baa87b3ac4d63f0eaf": {
      "model_module": "@jupyter-widgets/controls",
      "model_module_version": "2.0.0",
      "model_name": "ProgressStyleModel",
      "state": {
       "description_width": ""
      }
     },
     "bf3d03402cc248479d609297b54fcffc": {
      "model_module": "@jupyter-widgets/controls",
      "model_module_version": "2.0.0",
      "model_name": "HTMLStyleModel",
      "state": {
       "description_width": "",
       "font_size": null,
       "text_color": null
      }
     },
     "bf990943f9084423a183c74592f02807": {
      "model_module": "@jupyter-widgets/base",
      "model_module_version": "2.0.0",
      "model_name": "LayoutModel",
      "state": {}
     },
     "c03c58221342438693ad10e4fe4ad51a": {
      "model_module": "@jupyter-widgets/controls",
      "model_module_version": "2.0.0",
      "model_name": "ProgressStyleModel",
      "state": {
       "description_width": ""
      }
     },
     "c05b0f8252274ac9b2209009c83cbf16": {
      "model_module": "@jupyter-widgets/controls",
      "model_module_version": "2.0.0",
      "model_name": "ProgressStyleModel",
      "state": {
       "description_width": ""
      }
     },
     "c06b1a81ad434464b6ba65324e75c1bb": {
      "model_module": "@jupyter-widgets/base",
      "model_module_version": "2.0.0",
      "model_name": "LayoutModel",
      "state": {}
     },
     "c0d8be1ee7c14190baf2fd1de1911d85": {
      "model_module": "@jupyter-widgets/base",
      "model_module_version": "2.0.0",
      "model_name": "LayoutModel",
      "state": {}
     },
     "c0d8c812026b4a8b967a1247a6cd4072": {
      "model_module": "@jupyter-widgets/base",
      "model_module_version": "2.0.0",
      "model_name": "LayoutModel",
      "state": {}
     },
     "c15a67fb64fc48a294acd89385dcdcc0": {
      "model_module": "@jupyter-widgets/controls",
      "model_module_version": "2.0.0",
      "model_name": "ProgressStyleModel",
      "state": {
       "description_width": ""
      }
     },
     "c15d1a995cdd459d9db14322ad2f9cb3": {
      "model_module": "@jupyter-widgets/controls",
      "model_module_version": "2.0.0",
      "model_name": "HTMLStyleModel",
      "state": {
       "description_width": "",
       "font_size": null,
       "text_color": null
      }
     },
     "c171a9b92bcf4b9fbb8ea2da38bfed37": {
      "model_module": "@jupyter-widgets/base",
      "model_module_version": "2.0.0",
      "model_name": "LayoutModel",
      "state": {}
     },
     "c19140d094cb4ec789fc23fe86bd4027": {
      "model_module": "@jupyter-widgets/controls",
      "model_module_version": "2.0.0",
      "model_name": "HTMLStyleModel",
      "state": {
       "description_width": "",
       "font_size": null,
       "text_color": null
      }
     },
     "c1ac07c9f10e483db6b5396d0d33db28": {
      "model_module": "@jupyter-widgets/base",
      "model_module_version": "2.0.0",
      "model_name": "LayoutModel",
      "state": {}
     },
     "c1d4aa3547134db792e72c1f0e39b180": {
      "model_module": "@jupyter-widgets/base",
      "model_module_version": "2.0.0",
      "model_name": "LayoutModel",
      "state": {}
     },
     "c1db0d8c66b64e04a98dc7d0954fd196": {
      "model_module": "@jupyter-widgets/controls",
      "model_module_version": "2.0.0",
      "model_name": "ProgressStyleModel",
      "state": {
       "description_width": ""
      }
     },
     "c1e1144dd8e544558d5e29c8b87b075a": {
      "model_module": "@jupyter-widgets/base",
      "model_module_version": "2.0.0",
      "model_name": "LayoutModel",
      "state": {}
     },
     "c2093468cb5b45f0b2c6e31caacbbd2a": {
      "model_module": "@jupyter-widgets/controls",
      "model_module_version": "2.0.0",
      "model_name": "ProgressStyleModel",
      "state": {
       "description_width": ""
      }
     },
     "c219de993e0b49eebfd96a6a734bcb54": {
      "model_module": "@jupyter-widgets/controls",
      "model_module_version": "2.0.0",
      "model_name": "HTMLModel",
      "state": {
       "layout": "IPY_MODEL_582f865d56524a29b9154220c5450765",
       "style": "IPY_MODEL_b748811282c94cc287882ab3fd87d17a",
       "value": "  0%"
      }
     },
     "c2b95e8cc9504135abd357b1b5c20aad": {
      "model_module": "@jupyter-widgets/controls",
      "model_module_version": "2.0.0",
      "model_name": "HTMLModel",
      "state": {
       "layout": "IPY_MODEL_81bf3e5aabdc4a619ec5bf6460393708",
       "style": "IPY_MODEL_e87c9d9ccd014580a849098975882568",
       "value": " 405/405 [00:00&lt;00:00, 90717.92it/s]"
      }
     },
     "c2d0271eec30480abce002fcbe2cebca": {
      "model_module": "@jupyter-widgets/controls",
      "model_module_version": "2.0.0",
      "model_name": "HTMLModel",
      "state": {
       "layout": "IPY_MODEL_340116fb89634de8a051096e7eb6f144",
       "style": "IPY_MODEL_398283e9da3b470084857cade425607f",
       "value": "100%"
      }
     },
     "c318a1ec35df48428f5eec690ee7576a": {
      "model_module": "@jupyter-widgets/controls",
      "model_module_version": "2.0.0",
      "model_name": "FloatProgressModel",
      "state": {
       "bar_style": "success",
       "layout": "IPY_MODEL_ece14cc4acb245d0923b85f20fd60071",
       "max": 620,
       "style": "IPY_MODEL_56308c78ad8e488ea6e5b9f75e3790ba",
       "value": 620
      }
     },
     "c378a3be29d64042aa7ee1daff24dbb8": {
      "model_module": "@jupyter-widgets/base",
      "model_module_version": "2.0.0",
      "model_name": "LayoutModel",
      "state": {}
     },
     "c3c20fea9a974e3f8d34d2c2cdc56168": {
      "model_module": "@jupyter-widgets/base",
      "model_module_version": "2.0.0",
      "model_name": "LayoutModel",
      "state": {}
     },
     "c4181ea0180942319f76ecfb3afa93d8": {
      "model_module": "@jupyter-widgets/controls",
      "model_module_version": "2.0.0",
      "model_name": "HTMLModel",
      "state": {
       "layout": "IPY_MODEL_4a4977b225f8407387073c49925d857c",
       "style": "IPY_MODEL_2ed78b3a78f04c0a8da5fc749afc15a3",
       "value": " 624/624 [00:00&lt;00:00, 128434.87it/s]"
      }
     },
     "c452bfe1a49c41f8aa3b3076d218a6fb": {
      "model_module": "@jupyter-widgets/base",
      "model_module_version": "2.0.0",
      "model_name": "LayoutModel",
      "state": {}
     },
     "c48e84f119914da389ecd9a6f58e91a4": {
      "model_module": "@jupyter-widgets/base",
      "model_module_version": "2.0.0",
      "model_name": "LayoutModel",
      "state": {}
     },
     "c4a770bff2bc403dbaebe39b7eee0406": {
      "model_module": "@jupyter-widgets/base",
      "model_module_version": "2.0.0",
      "model_name": "LayoutModel",
      "state": {}
     },
     "c4b068adb524496bab86e6cfd1f927d3": {
      "model_module": "@jupyter-widgets/controls",
      "model_module_version": "2.0.0",
      "model_name": "FloatProgressModel",
      "state": {
       "bar_style": "success",
       "layout": "IPY_MODEL_90ad95923a0c4beebdd304d49654f549",
       "max": 472,
       "style": "IPY_MODEL_075e91a0a71841a8a16c5e0d65179b71",
       "value": 472
      }
     },
     "c4ffcc340b1c459da1a2630963299eef": {
      "model_module": "@jupyter-widgets/controls",
      "model_module_version": "2.0.0",
      "model_name": "HTMLStyleModel",
      "state": {
       "description_width": "",
       "font_size": null,
       "text_color": null
      }
     },
     "c53f453e3c554675984b1d922edf7eef": {
      "model_module": "@jupyter-widgets/base",
      "model_module_version": "2.0.0",
      "model_name": "LayoutModel",
      "state": {}
     },
     "c5479f6a807646fd9db767d3ba4b425c": {
      "model_module": "@jupyter-widgets/controls",
      "model_module_version": "2.0.0",
      "model_name": "FloatProgressModel",
      "state": {
       "bar_style": "success",
       "layout": "IPY_MODEL_903158fc0e4d4a4f9b0b6d4163415524",
       "max": 640,
       "style": "IPY_MODEL_292c1c82e9224b03b5b7608d47b67e54",
       "value": 640
      }
     },
     "c54dd98329ea479881ce0227ff927ea3": {
      "model_module": "@jupyter-widgets/controls",
      "model_module_version": "2.0.0",
      "model_name": "HTMLModel",
      "state": {
       "layout": "IPY_MODEL_6d6e02a80649471bb9efdb6ebb44a944",
       "style": "IPY_MODEL_4f4e2945df964b4380735be138725099",
       "value": " 0/582 [00:00&lt;?, ?it/s]"
      }
     },
     "c5a3ecc1cfaf41a0995b43bb285e5df7": {
      "model_module": "@jupyter-widgets/base",
      "model_module_version": "2.0.0",
      "model_name": "LayoutModel",
      "state": {}
     },
     "c5d9eadd85eb455685b54e950a52459a": {
      "model_module": "@jupyter-widgets/base",
      "model_module_version": "2.0.0",
      "model_name": "LayoutModel",
      "state": {}
     },
     "c5fb3b7bec4049d599e22bb490300598": {
      "model_module": "@jupyter-widgets/controls",
      "model_module_version": "2.0.0",
      "model_name": "HTMLStyleModel",
      "state": {
       "description_width": "",
       "font_size": null,
       "text_color": null
      }
     },
     "c61084a91d82410881f26ba606bf66c1": {
      "model_module": "@jupyter-widgets/controls",
      "model_module_version": "2.0.0",
      "model_name": "ProgressStyleModel",
      "state": {
       "description_width": ""
      }
     },
     "c61fdde41f364753b295b850d56acd3c": {
      "model_module": "@jupyter-widgets/controls",
      "model_module_version": "2.0.0",
      "model_name": "FloatProgressModel",
      "state": {
       "bar_style": "success",
       "layout": "IPY_MODEL_964e403aa2d0484384cdad2ace3e89bd",
       "max": 405,
       "style": "IPY_MODEL_5d01a1167d3c449a99978939717f336a",
       "value": 405
      }
     },
     "c654b12b86734e71a31daf759f383516": {
      "model_module": "@jupyter-widgets/controls",
      "model_module_version": "2.0.0",
      "model_name": "HTMLModel",
      "state": {
       "layout": "IPY_MODEL_17bed32c88e94fa1a5a10ae6b040035b",
       "style": "IPY_MODEL_9f35e7daffa9458bb1b5a13b4cd85419",
       "value": " 625/625 [00:00&lt;00:00, 138685.85it/s]"
      }
     },
     "c69780df4dcb4a058dd88d210251e20e": {
      "model_module": "@jupyter-widgets/controls",
      "model_module_version": "2.0.0",
      "model_name": "HTMLStyleModel",
      "state": {
       "description_width": "",
       "font_size": null,
       "text_color": null
      }
     },
     "c6ec4351afaf4dcdbd37ea08e98f5d29": {
      "model_module": "@jupyter-widgets/base",
      "model_module_version": "2.0.0",
      "model_name": "LayoutModel",
      "state": {}
     },
     "c711e0cccd1f4dfbb986def345bc9001": {
      "model_module": "@jupyter-widgets/controls",
      "model_module_version": "2.0.0",
      "model_name": "HTMLModel",
      "state": {
       "layout": "IPY_MODEL_6461750e5c414088a29fde53e9cd3c08",
       "style": "IPY_MODEL_08df3e8df60e4d1db358b8282ad5542e",
       "value": " 471/471 [00:00&lt;00:00, 113087.02it/s]"
      }
     },
     "c7de7c72d7344cd8b52b4801f1ade5b5": {
      "model_module": "@jupyter-widgets/controls",
      "model_module_version": "2.0.0",
      "model_name": "HTMLStyleModel",
      "state": {
       "description_width": "",
       "font_size": null,
       "text_color": null
      }
     },
     "c80fb5259d6940d28980edb2454549b9": {
      "model_module": "@jupyter-widgets/controls",
      "model_module_version": "2.0.0",
      "model_name": "HTMLModel",
      "state": {
       "layout": "IPY_MODEL_17e42cc454cc41cea966a37b00ed1030",
       "style": "IPY_MODEL_9e87df59fb7f4423adc476efacf24852",
       "value": "  0%"
      }
     },
     "c87893981f0243fd9a5e1441db9d9d54": {
      "model_module": "@jupyter-widgets/controls",
      "model_module_version": "2.0.0",
      "model_name": "FloatProgressModel",
      "state": {
       "bar_style": "success",
       "layout": "IPY_MODEL_21f323798b0c4a7b9723bc729d479c57",
       "max": 475,
       "style": "IPY_MODEL_eada8aa48c0f4c93b0a68df07009ed1d",
       "value": 475
      }
     },
     "c8998bae079c4a03afe411d691d4cb13": {
      "model_module": "@jupyter-widgets/controls",
      "model_module_version": "2.0.0",
      "model_name": "HTMLStyleModel",
      "state": {
       "description_width": "",
       "font_size": null,
       "text_color": null
      }
     },
     "c8d2908bc9434462aa5b0a7444d31684": {
      "model_module": "@jupyter-widgets/controls",
      "model_module_version": "2.0.0",
      "model_name": "ProgressStyleModel",
      "state": {
       "description_width": ""
      }
     },
     "c9545a398bb2411b93302caef5785dbb": {
      "model_module": "@jupyter-widgets/controls",
      "model_module_version": "2.0.0",
      "model_name": "HTMLModel",
      "state": {
       "layout": "IPY_MODEL_3a842d6950d5468fb1861e04c7ef4bb5",
       "style": "IPY_MODEL_d3bc143d4496423ba8346065599317df",
       "value": "100%"
      }
     },
     "c9ba67f9d2024f37848a48103f84c7c1": {
      "model_module": "@jupyter-widgets/base",
      "model_module_version": "2.0.0",
      "model_name": "LayoutModel",
      "state": {}
     },
     "c9f93359d7294bdfa92e88aa8bb62232": {
      "model_module": "@jupyter-widgets/controls",
      "model_module_version": "2.0.0",
      "model_name": "HTMLStyleModel",
      "state": {
       "description_width": "",
       "font_size": null,
       "text_color": null
      }
     },
     "ca6b985b32ba4a199c8d5ba62b8a30a9": {
      "model_module": "@jupyter-widgets/base",
      "model_module_version": "2.0.0",
      "model_name": "LayoutModel",
      "state": {}
     },
     "caa03e980f884a668d5389c6ed83fa5d": {
      "model_module": "@jupyter-widgets/controls",
      "model_module_version": "2.0.0",
      "model_name": "HTMLModel",
      "state": {
       "layout": "IPY_MODEL_79e00257d36841588dc03df38523d026",
       "style": "IPY_MODEL_bdeb9a9877054eacbac70eb453d62ddb",
       "value": " 507/507 [00:00&lt;00:00, 85094.52it/s]"
      }
     },
     "caa0a395a65a43468bf92e524e6d5b78": {
      "model_module": "@jupyter-widgets/controls",
      "model_module_version": "2.0.0",
      "model_name": "HTMLStyleModel",
      "state": {
       "description_width": "",
       "font_size": null,
       "text_color": null
      }
     },
     "caabad2e69f0458a9a299fff7fb9bfd3": {
      "model_module": "@jupyter-widgets/controls",
      "model_module_version": "2.0.0",
      "model_name": "HTMLStyleModel",
      "state": {
       "description_width": "",
       "font_size": null,
       "text_color": null
      }
     },
     "cb4d03b6924e47b48aaa74564c25e0d8": {
      "model_module": "@jupyter-widgets/base",
      "model_module_version": "2.0.0",
      "model_name": "LayoutModel",
      "state": {}
     },
     "cb55ded3db3a4f8487b1fcd913768f62": {
      "model_module": "@jupyter-widgets/controls",
      "model_module_version": "2.0.0",
      "model_name": "ProgressStyleModel",
      "state": {
       "description_width": ""
      }
     },
     "cb841e75dcae49609a311279478eb738": {
      "model_module": "@jupyter-widgets/base",
      "model_module_version": "2.0.0",
      "model_name": "LayoutModel",
      "state": {}
     },
     "cbc279e30a7e49959020b8004a041b3e": {
      "model_module": "@jupyter-widgets/base",
      "model_module_version": "2.0.0",
      "model_name": "LayoutModel",
      "state": {}
     },
     "cbce0546875044f58cb3a0c18736b78e": {
      "model_module": "@jupyter-widgets/controls",
      "model_module_version": "2.0.0",
      "model_name": "FloatProgressModel",
      "state": {
       "bar_style": "success",
       "layout": "IPY_MODEL_a7bf75696aad40b2859672312974c2b3",
       "max": 635,
       "style": "IPY_MODEL_d601a60fd4a2418ebe8859474964a9b4",
       "value": 635
      }
     },
     "cbeb3ff13fd649e4b1e1b22e8f39c5e3": {
      "model_module": "@jupyter-widgets/controls",
      "model_module_version": "2.0.0",
      "model_name": "HTMLStyleModel",
      "state": {
       "description_width": "",
       "font_size": null,
       "text_color": null
      }
     },
     "cbf2f1a8950b49559b05765091eddf80": {
      "model_module": "@jupyter-widgets/base",
      "model_module_version": "2.0.0",
      "model_name": "LayoutModel",
      "state": {}
     },
     "cc07060e85bf4ca19005154c1febdef5": {
      "model_module": "@jupyter-widgets/controls",
      "model_module_version": "2.0.0",
      "model_name": "HTMLStyleModel",
      "state": {
       "description_width": "",
       "font_size": null,
       "text_color": null
      }
     },
     "cc076fa4e23b4ef5b925e68f48fd2b01": {
      "model_module": "@jupyter-widgets/base",
      "model_module_version": "2.0.0",
      "model_name": "LayoutModel",
      "state": {}
     },
     "cc18b4c673094ad4a507b90d710019c4": {
      "model_module": "@jupyter-widgets/controls",
      "model_module_version": "2.0.0",
      "model_name": "HBoxModel",
      "state": {
       "children": [
        "IPY_MODEL_9b45c4f67f1a4f0dab03d0d96a0c4333",
        "IPY_MODEL_8e0281c32f1b43c6a6be42b877c06e50",
        "IPY_MODEL_feaa962961c34739909a61b335dc3607"
       ],
       "layout": "IPY_MODEL_41ce4f602e1040fa8a2d91295982360b"
      }
     },
     "cc1f0adbb77946798c299f88362a3a26": {
      "model_module": "@jupyter-widgets/controls",
      "model_module_version": "2.0.0",
      "model_name": "ProgressStyleModel",
      "state": {
       "description_width": ""
      }
     },
     "cc3a39b5a0354cd39296176cfd09f57d": {
      "model_module": "@jupyter-widgets/controls",
      "model_module_version": "2.0.0",
      "model_name": "HBoxModel",
      "state": {
       "children": [
        "IPY_MODEL_eef1e044cb15436e9896516a82dee9ba",
        "IPY_MODEL_2f07ed90f3a34620a709fba7219a9099",
        "IPY_MODEL_930416fb58c043ca92b37880637145f4"
       ],
       "layout": "IPY_MODEL_16bd94b4f10e4f3caaf08406ad951038"
      }
     },
     "cc46c981924347f8a3c4d00f31e5f0c4": {
      "model_module": "@jupyter-widgets/base",
      "model_module_version": "2.0.0",
      "model_name": "LayoutModel",
      "state": {}
     },
     "cc4baa8d37a84791b0bd1998212bbcbf": {
      "model_module": "@jupyter-widgets/base",
      "model_module_version": "2.0.0",
      "model_name": "LayoutModel",
      "state": {}
     },
     "cc5331c6a3c24f0eba47a3b9f890a9db": {
      "model_module": "@jupyter-widgets/base",
      "model_module_version": "2.0.0",
      "model_name": "LayoutModel",
      "state": {}
     },
     "cc83337fdc7d4c71812f3e0dc0baba46": {
      "model_module": "@jupyter-widgets/controls",
      "model_module_version": "2.0.0",
      "model_name": "HTMLStyleModel",
      "state": {
       "description_width": "",
       "font_size": null,
       "text_color": null
      }
     },
     "cc8551c6d0be4b1fb8a6c590919ea3bd": {
      "model_module": "@jupyter-widgets/controls",
      "model_module_version": "2.0.0",
      "model_name": "HTMLStyleModel",
      "state": {
       "description_width": "",
       "font_size": null,
       "text_color": null
      }
     },
     "cc96f1ab65074bb88ed49758f85d1458": {
      "model_module": "@jupyter-widgets/controls",
      "model_module_version": "2.0.0",
      "model_name": "HTMLModel",
      "state": {
       "layout": "IPY_MODEL_759045bcbcd94803af14dead9796b192",
       "style": "IPY_MODEL_e30ba13e08404407bf9af768589c006b",
       "value": "  0%"
      }
     },
     "ccb064b60aa745b0add3ad25a9dede98": {
      "model_module": "@jupyter-widgets/controls",
      "model_module_version": "2.0.0",
      "model_name": "ProgressStyleModel",
      "state": {
       "description_width": ""
      }
     },
     "cd2f385353e54989bdb363584e51ac26": {
      "model_module": "@jupyter-widgets/base",
      "model_module_version": "2.0.0",
      "model_name": "LayoutModel",
      "state": {}
     },
     "cd45f99ea97348a8a80568acc325b1cb": {
      "model_module": "@jupyter-widgets/base",
      "model_module_version": "2.0.0",
      "model_name": "LayoutModel",
      "state": {}
     },
     "cdaba5ddff574a709eac8018ee94561d": {
      "model_module": "@jupyter-widgets/base",
      "model_module_version": "2.0.0",
      "model_name": "LayoutModel",
      "state": {}
     },
     "cdb1f505bc414bf08f6e49cacac8f155": {
      "model_module": "@jupyter-widgets/controls",
      "model_module_version": "2.0.0",
      "model_name": "HTMLStyleModel",
      "state": {
       "description_width": "",
       "font_size": null,
       "text_color": null
      }
     },
     "cdb992e99d1f4fc190398b1c4fc17459": {
      "model_module": "@jupyter-widgets/controls",
      "model_module_version": "2.0.0",
      "model_name": "HTMLStyleModel",
      "state": {
       "description_width": "",
       "font_size": null,
       "text_color": null
      }
     },
     "ce0d4a64282b4116a3c375506dc77930": {
      "model_module": "@jupyter-widgets/controls",
      "model_module_version": "2.0.0",
      "model_name": "HTMLStyleModel",
      "state": {
       "description_width": "",
       "font_size": null,
       "text_color": null
      }
     },
     "ce34e1b4f11040688ff7cb6816fb7dc5": {
      "model_module": "@jupyter-widgets/base",
      "model_module_version": "2.0.0",
      "model_name": "LayoutModel",
      "state": {}
     },
     "ce3ba845bbe04c7eb4c7cde248defa08": {
      "model_module": "@jupyter-widgets/controls",
      "model_module_version": "2.0.0",
      "model_name": "HBoxModel",
      "state": {
       "children": [
        "IPY_MODEL_4b1e8f33f61a4d2f86a853f91b264a5f",
        "IPY_MODEL_7a19baa3acab4261860151eded00a581",
        "IPY_MODEL_6ebad9d76a514f07ad949c72629c6213"
       ],
       "layout": "IPY_MODEL_08dc661362674caa945a12f55162fb7e"
      }
     },
     "cf18b1115a654df89bb904931615388e": {
      "model_module": "@jupyter-widgets/controls",
      "model_module_version": "2.0.0",
      "model_name": "HTMLStyleModel",
      "state": {
       "description_width": "",
       "font_size": null,
       "text_color": null
      }
     },
     "d06214b309294b06bfa0937960cb48b2": {
      "model_module": "@jupyter-widgets/base",
      "model_module_version": "2.0.0",
      "model_name": "LayoutModel",
      "state": {}
     },
     "d11e237acd9a4d10be05da322fee9ab2": {
      "model_module": "@jupyter-widgets/controls",
      "model_module_version": "2.0.0",
      "model_name": "HTMLModel",
      "state": {
       "layout": "IPY_MODEL_630169ecf5c54eb8b32c05640b872615",
       "style": "IPY_MODEL_e65959a1a95141b8812053e2fd86fc2b",
       "value": "100%"
      }
     },
     "d15225fc77d7452294ce28cbe046a472": {
      "model_module": "@jupyter-widgets/controls",
      "model_module_version": "2.0.0",
      "model_name": "HTMLStyleModel",
      "state": {
       "description_width": "",
       "font_size": null,
       "text_color": null
      }
     },
     "d198556651264e49b171c43a5d50f844": {
      "model_module": "@jupyter-widgets/base",
      "model_module_version": "2.0.0",
      "model_name": "LayoutModel",
      "state": {}
     },
     "d1c4418b22c94349934a744f07ce22cc": {
      "model_module": "@jupyter-widgets/controls",
      "model_module_version": "2.0.0",
      "model_name": "HTMLStyleModel",
      "state": {
       "description_width": "",
       "font_size": null,
       "text_color": null
      }
     },
     "d1cb18ac35b84e95b358484c830cd0c2": {
      "model_module": "@jupyter-widgets/base",
      "model_module_version": "2.0.0",
      "model_name": "LayoutModel",
      "state": {}
     },
     "d1d26df3b6d24c82b1a4355c39447bec": {
      "model_module": "@jupyter-widgets/controls",
      "model_module_version": "2.0.0",
      "model_name": "HTMLModel",
      "state": {
       "layout": "IPY_MODEL_cb841e75dcae49609a311279478eb738",
       "style": "IPY_MODEL_c19140d094cb4ec789fc23fe86bd4027",
       "value": "100%"
      }
     },
     "d1d9d4b389e149a5bdb8d8dbe496ae55": {
      "model_module": "@jupyter-widgets/controls",
      "model_module_version": "2.0.0",
      "model_name": "HBoxModel",
      "state": {
       "children": [
        "IPY_MODEL_1c55942ca49f4b12ac337d7441b4b1f0",
        "IPY_MODEL_8852db58e9284e859d865d5c1c3564ee",
        "IPY_MODEL_d2a7a858691c41f894bfd15b87924c8e"
       ],
       "layout": "IPY_MODEL_2e27d18e23df4d528a00fd7dc767f06e"
      }
     },
     "d218b8850454470ea299c6d520b95710": {
      "model_module": "@jupyter-widgets/base",
      "model_module_version": "2.0.0",
      "model_name": "LayoutModel",
      "state": {}
     },
     "d2216edbd1034746b32e96c93e42adf3": {
      "model_module": "@jupyter-widgets/controls",
      "model_module_version": "2.0.0",
      "model_name": "HTMLModel",
      "state": {
       "layout": "IPY_MODEL_657c3e1d6bec4e5397fcdc41ef81e261",
       "style": "IPY_MODEL_dee9b3978f0c46aba89ea4f31f006491",
       "value": "100%"
      }
     },
     "d2439707fc0443b3ba9cd3d21bc3eb0a": {
      "model_module": "@jupyter-widgets/controls",
      "model_module_version": "2.0.0",
      "model_name": "ProgressStyleModel",
      "state": {
       "description_width": ""
      }
     },
     "d243f5d5438040e19e972592df52a8fc": {
      "model_module": "@jupyter-widgets/controls",
      "model_module_version": "2.0.0",
      "model_name": "ProgressStyleModel",
      "state": {
       "description_width": ""
      }
     },
     "d2a7a858691c41f894bfd15b87924c8e": {
      "model_module": "@jupyter-widgets/controls",
      "model_module_version": "2.0.0",
      "model_name": "HTMLModel",
      "state": {
       "layout": "IPY_MODEL_7127a6dadd5d4787b617952a293efa35",
       "style": "IPY_MODEL_774136b13a4249b89c047901d06070d1",
       "value": " 637/637 [00:00&lt;00:00, 148267.02it/s]"
      }
     },
     "d2a8fbb49a9e4500a0991759df72132c": {
      "model_module": "@jupyter-widgets/controls",
      "model_module_version": "2.0.0",
      "model_name": "FloatProgressModel",
      "state": {
       "bar_style": "success",
       "layout": "IPY_MODEL_868fe3cae784412980dee8e10e95fa00",
       "max": 344,
       "style": "IPY_MODEL_aa80191ef5b841d89cb0e5663e5dae50",
       "value": 344
      }
     },
     "d2dc08536ee44d518bcaa829efdc9602": {
      "model_module": "@jupyter-widgets/controls",
      "model_module_version": "2.0.0",
      "model_name": "HTMLStyleModel",
      "state": {
       "description_width": "",
       "font_size": null,
       "text_color": null
      }
     },
     "d2e8a2e8aa9f4855b6adc8983b4f0677": {
      "model_module": "@jupyter-widgets/controls",
      "model_module_version": "2.0.0",
      "model_name": "HTMLModel",
      "state": {
       "layout": "IPY_MODEL_59d79da074b64951bae43c8145e3d967",
       "style": "IPY_MODEL_d600a631c6134bf382e3942891986429",
       "value": " 344/344 [00:00&lt;00:00, 72970.24it/s]"
      }
     },
     "d2ef124ab4d742af9788cf7d211ca8d8": {
      "model_module": "@jupyter-widgets/base",
      "model_module_version": "2.0.0",
      "model_name": "LayoutModel",
      "state": {}
     },
     "d2f686dc684f4720a74180497d6f5f3a": {
      "model_module": "@jupyter-widgets/base",
      "model_module_version": "2.0.0",
      "model_name": "LayoutModel",
      "state": {}
     },
     "d2fc42deee3a4335b0ad29c29ef41737": {
      "model_module": "@jupyter-widgets/controls",
      "model_module_version": "2.0.0",
      "model_name": "HTMLModel",
      "state": {
       "layout": "IPY_MODEL_45f1a01b6aca4563a118aa4e0c46546c",
       "style": "IPY_MODEL_0899fa4a944b44b48cfd85b1994a3fc2",
       "value": "100%"
      }
     },
     "d31c32b777644aabbb6f9016e801d33c": {
      "model_module": "@jupyter-widgets/controls",
      "model_module_version": "2.0.0",
      "model_name": "FloatProgressModel",
      "state": {
       "bar_style": "danger",
       "layout": "IPY_MODEL_2ce52702b47242afad1f70f9bab7c3ee",
       "max": 712,
       "style": "IPY_MODEL_353c4c0f2a0f4ec09076c5e50c55c360"
      }
     },
     "d360ab03f3ca44d48f7f3ef4d67defa4": {
      "model_module": "@jupyter-widgets/base",
      "model_module_version": "2.0.0",
      "model_name": "LayoutModel",
      "state": {}
     },
     "d3a4870a4aa84ca0a02a746b9260d6a3": {
      "model_module": "@jupyter-widgets/controls",
      "model_module_version": "2.0.0",
      "model_name": "HTMLStyleModel",
      "state": {
       "description_width": "",
       "font_size": null,
       "text_color": null
      }
     },
     "d3bc143d4496423ba8346065599317df": {
      "model_module": "@jupyter-widgets/controls",
      "model_module_version": "2.0.0",
      "model_name": "HTMLStyleModel",
      "state": {
       "description_width": "",
       "font_size": null,
       "text_color": null
      }
     },
     "d3c46c41085e4d2182a16fe3d91be695": {
      "model_module": "@jupyter-widgets/controls",
      "model_module_version": "2.0.0",
      "model_name": "HBoxModel",
      "state": {
       "children": [
        "IPY_MODEL_91d2eaa763a241e2939b84f2c80aa041",
        "IPY_MODEL_1fbc42496ce14a3da96fc54e995bbf81",
        "IPY_MODEL_7fb1489a284d4e0c804cf044f7f0d9df"
       ],
       "layout": "IPY_MODEL_b63ba375f6a54a16b8e14a10ee4221fb"
      }
     },
     "d3f998c8f4de4b048ecefc524e445975": {
      "model_module": "@jupyter-widgets/base",
      "model_module_version": "2.0.0",
      "model_name": "LayoutModel",
      "state": {}
     },
     "d40064bb0112440bbb2659aca96556b5": {
      "model_module": "@jupyter-widgets/base",
      "model_module_version": "2.0.0",
      "model_name": "LayoutModel",
      "state": {}
     },
     "d41b2ac39e7c45329ab980c34f2f50cc": {
      "model_module": "@jupyter-widgets/base",
      "model_module_version": "2.0.0",
      "model_name": "LayoutModel",
      "state": {}
     },
     "d48b07640e774f23b1599d3354e34561": {
      "model_module": "@jupyter-widgets/controls",
      "model_module_version": "2.0.0",
      "model_name": "FloatProgressModel",
      "state": {
       "bar_style": "success",
       "layout": "IPY_MODEL_0f54e87160834c878eefe3e3536cd2c7",
       "max": 642,
       "style": "IPY_MODEL_9d40f78b0e114b778d88ca49332c7862",
       "value": 642
      }
     },
     "d48e597cfe67435abac1b84f3f6c9ee7": {
      "model_module": "@jupyter-widgets/controls",
      "model_module_version": "2.0.0",
      "model_name": "HTMLStyleModel",
      "state": {
       "description_width": "",
       "font_size": null,
       "text_color": null
      }
     },
     "d49b59bbb3614e3d936fd913ee8300cd": {
      "model_module": "@jupyter-widgets/base",
      "model_module_version": "2.0.0",
      "model_name": "LayoutModel",
      "state": {}
     },
     "d4aac90338cb442d8899af84aba7f16e": {
      "model_module": "@jupyter-widgets/base",
      "model_module_version": "2.0.0",
      "model_name": "LayoutModel",
      "state": {}
     },
     "d4bb4045914945cb8307406964407733": {
      "model_module": "@jupyter-widgets/base",
      "model_module_version": "2.0.0",
      "model_name": "LayoutModel",
      "state": {}
     },
     "d5c210e0df514526aabc9843ee92671e": {
      "model_module": "@jupyter-widgets/controls",
      "model_module_version": "2.0.0",
      "model_name": "FloatProgressModel",
      "state": {
       "bar_style": "success",
       "layout": "IPY_MODEL_ef84abc087384bd5878b52b2bfc25d16",
       "max": 609,
       "style": "IPY_MODEL_5f3c75cee5f34560aeded47b49870a33",
       "value": 609
      }
     },
     "d5c6bd36b7f1431fbf0579df311b8702": {
      "model_module": "@jupyter-widgets/controls",
      "model_module_version": "2.0.0",
      "model_name": "HTMLModel",
      "state": {
       "layout": "IPY_MODEL_7024040de6a04d2aaaa5d4b5c44c70b3",
       "style": "IPY_MODEL_e1120634af32460bac961f2803cb6bd4",
       "value": " 593/593 [00:00&lt;00:00, 123613.25it/s]"
      }
     },
     "d600a631c6134bf382e3942891986429": {
      "model_module": "@jupyter-widgets/controls",
      "model_module_version": "2.0.0",
      "model_name": "HTMLStyleModel",
      "state": {
       "description_width": "",
       "font_size": null,
       "text_color": null
      }
     },
     "d601a60fd4a2418ebe8859474964a9b4": {
      "model_module": "@jupyter-widgets/controls",
      "model_module_version": "2.0.0",
      "model_name": "ProgressStyleModel",
      "state": {
       "description_width": ""
      }
     },
     "d62a28e8ff2a4793afe5bc668be67afc": {
      "model_module": "@jupyter-widgets/controls",
      "model_module_version": "2.0.0",
      "model_name": "ProgressStyleModel",
      "state": {
       "description_width": ""
      }
     },
     "d65f0edb6bbb480ca0f5bbaadbe54663": {
      "model_module": "@jupyter-widgets/controls",
      "model_module_version": "2.0.0",
      "model_name": "HTMLModel",
      "state": {
       "layout": "IPY_MODEL_88176565973143508f1002d6e5eebb0c",
       "style": "IPY_MODEL_62b0d300f3fc478dba3a50b891d4945d",
       "value": "  0%"
      }
     },
     "d662fbb657e14c91a20c2fbfa9a02be5": {
      "model_module": "@jupyter-widgets/controls",
      "model_module_version": "2.0.0",
      "model_name": "HTMLModel",
      "state": {
       "layout": "IPY_MODEL_e66a13d8874f4eb1bb6143660fda9734",
       "style": "IPY_MODEL_35baf1cef8d54841a71de783de484970",
       "value": " 733/733 [00:00&lt;00:00, 172227.04it/s]"
      }
     },
     "d66dce8f6c9a4c5685865155b4c07d99": {
      "model_module": "@jupyter-widgets/base",
      "model_module_version": "2.0.0",
      "model_name": "LayoutModel",
      "state": {}
     },
     "d68766b5d63e4953ab610991e5d87d39": {
      "model_module": "@jupyter-widgets/controls",
      "model_module_version": "2.0.0",
      "model_name": "HTMLStyleModel",
      "state": {
       "description_width": "",
       "font_size": null,
       "text_color": null
      }
     },
     "d6a0206482444f0e94475a8e9c671253": {
      "model_module": "@jupyter-widgets/base",
      "model_module_version": "2.0.0",
      "model_name": "LayoutModel",
      "state": {}
     },
     "d6ca0df66c2d4a13892238055f4dd193": {
      "model_module": "@jupyter-widgets/base",
      "model_module_version": "2.0.0",
      "model_name": "LayoutModel",
      "state": {}
     },
     "d6d4ca3bfdd1474c904e362ac3a004a1": {
      "model_module": "@jupyter-widgets/controls",
      "model_module_version": "2.0.0",
      "model_name": "HTMLStyleModel",
      "state": {
       "description_width": "",
       "font_size": null,
       "text_color": null
      }
     },
     "d6dcf17ade454f25a86e00d2f83bd655": {
      "model_module": "@jupyter-widgets/controls",
      "model_module_version": "2.0.0",
      "model_name": "FloatProgressModel",
      "state": {
       "bar_style": "success",
       "layout": "IPY_MODEL_558f761992f6486ebd344da569410304",
       "max": 492,
       "style": "IPY_MODEL_a294bb00827146c7a1a34cc633717740",
       "value": 492
      }
     },
     "d70c5bd510624c369bdeb7b262ff58d9": {
      "model_module": "@jupyter-widgets/controls",
      "model_module_version": "2.0.0",
      "model_name": "ProgressStyleModel",
      "state": {
       "description_width": ""
      }
     },
     "d75e4d8b56d34ee891e5ddcddc72f4dd": {
      "model_module": "@jupyter-widgets/base",
      "model_module_version": "2.0.0",
      "model_name": "LayoutModel",
      "state": {}
     },
     "d7b104b4799743d98c6a58f6b063fd44": {
      "model_module": "@jupyter-widgets/controls",
      "model_module_version": "2.0.0",
      "model_name": "FloatProgressModel",
      "state": {
       "bar_style": "success",
       "layout": "IPY_MODEL_27eb5574ed4441799ebf95f2be781fcc",
       "max": 507,
       "style": "IPY_MODEL_664d6d5ae4ac4b5f85626825d7b541b7",
       "value": 507
      }
     },
     "d7ed4a1bc94a464dba8d1e5b78b3a710": {
      "model_module": "@jupyter-widgets/controls",
      "model_module_version": "2.0.0",
      "model_name": "HBoxModel",
      "state": {
       "children": [
        "IPY_MODEL_d2fc42deee3a4335b0ad29c29ef41737",
        "IPY_MODEL_badc971fc7ed488592ede5607ccec9d0",
        "IPY_MODEL_5b47b6898cdf45aa9005ff7d50bb6ee0"
       ],
       "layout": "IPY_MODEL_9881178601ea4cb8b3465cfece5d0d73"
      }
     },
     "d81b6dd18c924000bdabcc398831f4b4": {
      "model_module": "@jupyter-widgets/controls",
      "model_module_version": "2.0.0",
      "model_name": "HTMLStyleModel",
      "state": {
       "description_width": "",
       "font_size": null,
       "text_color": null
      }
     },
     "d83a047e112b41aaadc90bd8d379aa00": {
      "model_module": "@jupyter-widgets/controls",
      "model_module_version": "2.0.0",
      "model_name": "HTMLModel",
      "state": {
       "layout": "IPY_MODEL_8bb4c63791ee49efa126e2b08149f02d",
       "style": "IPY_MODEL_da9521ac9fac4e0f877cc9f72afc6d6a",
       "value": " 630/630 [00:00&lt;00:00, 134016.92it/s]"
      }
     },
     "d8556aaf314e4614ad4d5653f202dd35": {
      "model_module": "@jupyter-widgets/base",
      "model_module_version": "2.0.0",
      "model_name": "LayoutModel",
      "state": {}
     },
     "d8633436edfd4210aab91c69c3ec0ae7": {
      "model_module": "@jupyter-widgets/controls",
      "model_module_version": "2.0.0",
      "model_name": "FloatProgressModel",
      "state": {
       "bar_style": "success",
       "layout": "IPY_MODEL_d4bb4045914945cb8307406964407733",
       "max": 704,
       "style": "IPY_MODEL_f3bbae084def4cec98529a04825fbce5",
       "value": 704
      }
     },
     "d9361a6a765a4da29d8864c953804878": {
      "model_module": "@jupyter-widgets/controls",
      "model_module_version": "2.0.0",
      "model_name": "HBoxModel",
      "state": {
       "children": [
        "IPY_MODEL_e9a9aca99ab3461792d88196d7f130c9",
        "IPY_MODEL_39e3232da20a41e89d8907a0e7fa3c2f",
        "IPY_MODEL_0af89dd11f6f43adb7ddfa787738a853"
       ],
       "layout": "IPY_MODEL_a9c21a40b6414cb08a4d65c427120325"
      }
     },
     "d98ec9f5596445b8bfe6644487a8dc96": {
      "model_module": "@jupyter-widgets/controls",
      "model_module_version": "2.0.0",
      "model_name": "FloatProgressModel",
      "state": {
       "bar_style": "success",
       "layout": "IPY_MODEL_c53f453e3c554675984b1d922edf7eef",
       "max": 657,
       "style": "IPY_MODEL_aaf7f8ba2291460197ad2725b2ac492f",
       "value": 657
      }
     },
     "d992f60df20748eb8f289bad05230241": {
      "model_module": "@jupyter-widgets/controls",
      "model_module_version": "2.0.0",
      "model_name": "ProgressStyleModel",
      "state": {
       "description_width": ""
      }
     },
     "d9954fec95344b72b30166d787e22344": {
      "model_module": "@jupyter-widgets/controls",
      "model_module_version": "2.0.0",
      "model_name": "HTMLModel",
      "state": {
       "layout": "IPY_MODEL_5b8b5088340648b0977e49d3ccf4d84d",
       "style": "IPY_MODEL_9e54425e903146a4aafb7d1243e48598",
       "value": " 859/859 [00:00&lt;00:00, 185449.20it/s]"
      }
     },
     "d9f6a58f06fd4e6abcb6aae419e49d2f": {
      "model_module": "@jupyter-widgets/controls",
      "model_module_version": "2.0.0",
      "model_name": "HTMLModel",
      "state": {
       "layout": "IPY_MODEL_7ff2f0b9356c480989d30b1e623af7c0",
       "style": "IPY_MODEL_2703936132c943b9b8b163d37432ced1",
       "value": " 420/420 [00:00&lt;00:00, 95812.45it/s]"
      }
     },
     "da1a7ce82085486bbfbaa8f363d8fd2e": {
      "model_module": "@jupyter-widgets/base",
      "model_module_version": "2.0.0",
      "model_name": "LayoutModel",
      "state": {}
     },
     "da2e18f5fca743fabb1a126829cf0cc2": {
      "model_module": "@jupyter-widgets/controls",
      "model_module_version": "2.0.0",
      "model_name": "HTMLModel",
      "state": {
       "layout": "IPY_MODEL_dcd52f824d1d49d58cc5573f69e8dfcc",
       "style": "IPY_MODEL_4a32f01bbcc54d60a1b9f551a6cffa85",
       "value": "100%"
      }
     },
     "da53257e98434bad97d329d73e9faf03": {
      "model_module": "@jupyter-widgets/controls",
      "model_module_version": "2.0.0",
      "model_name": "ProgressStyleModel",
      "state": {
       "description_width": ""
      }
     },
     "da9521ac9fac4e0f877cc9f72afc6d6a": {
      "model_module": "@jupyter-widgets/controls",
      "model_module_version": "2.0.0",
      "model_name": "HTMLStyleModel",
      "state": {
       "description_width": "",
       "font_size": null,
       "text_color": null
      }
     },
     "dac68fe2ec944acb91fd7fdf11733078": {
      "model_module": "@jupyter-widgets/controls",
      "model_module_version": "2.0.0",
      "model_name": "HTMLStyleModel",
      "state": {
       "description_width": "",
       "font_size": null,
       "text_color": null
      }
     },
     "dac794134e0b41c7bdc03333449bc9b3": {
      "model_module": "@jupyter-widgets/base",
      "model_module_version": "2.0.0",
      "model_name": "LayoutModel",
      "state": {}
     },
     "daee4634258347b39ffdebf53e1a35f9": {
      "model_module": "@jupyter-widgets/controls",
      "model_module_version": "2.0.0",
      "model_name": "HTMLStyleModel",
      "state": {
       "description_width": "",
       "font_size": null,
       "text_color": null
      }
     },
     "db4f992ed8694d47bfdd17b4585d7893": {
      "model_module": "@jupyter-widgets/base",
      "model_module_version": "2.0.0",
      "model_name": "LayoutModel",
      "state": {}
     },
     "db754ff85bd749169f5413b1c20e7cab": {
      "model_module": "@jupyter-widgets/controls",
      "model_module_version": "2.0.0",
      "model_name": "HBoxModel",
      "state": {
       "children": [
        "IPY_MODEL_a7f1e057e166433baf864e35daea789f",
        "IPY_MODEL_8268fa0c076c480bb2a71175958adc61",
        "IPY_MODEL_6504cd4ddc66484c9e219d3d54c3d688"
       ],
       "layout": "IPY_MODEL_98b7d97e15af4399820a6dd7a29e420d"
      }
     },
     "db7d626bcc044fa4afb714b55e3c842b": {
      "model_module": "@jupyter-widgets/base",
      "model_module_version": "2.0.0",
      "model_name": "LayoutModel",
      "state": {}
     },
     "dbc6782266ad4e9f95d4f843f5cce918": {
      "model_module": "@jupyter-widgets/controls",
      "model_module_version": "2.0.0",
      "model_name": "ProgressStyleModel",
      "state": {
       "description_width": ""
      }
     },
     "dbfc75c9586942318f5139c608711863": {
      "model_module": "@jupyter-widgets/controls",
      "model_module_version": "2.0.0",
      "model_name": "HTMLStyleModel",
      "state": {
       "description_width": "",
       "font_size": null,
       "text_color": null
      }
     },
     "dc360b252b9f430ca5963a498651dfe5": {
      "model_module": "@jupyter-widgets/controls",
      "model_module_version": "2.0.0",
      "model_name": "HBoxModel",
      "state": {
       "children": [
        "IPY_MODEL_776559621271435696f9b648ba350858",
        "IPY_MODEL_ab581fdc88504330814b54c61e2180a2",
        "IPY_MODEL_8fbe009e1b994916b1149d26385a3608"
       ],
       "layout": "IPY_MODEL_1437fb76ab1b49f696fb40709b910e78"
      }
     },
     "dc3e1d427c1942a68f6a15172c7c6897": {
      "model_module": "@jupyter-widgets/controls",
      "model_module_version": "2.0.0",
      "model_name": "HTMLStyleModel",
      "state": {
       "description_width": "",
       "font_size": null,
       "text_color": null
      }
     },
     "dc4718cd062a4d80b2df8bcd734e594b": {
      "model_module": "@jupyter-widgets/controls",
      "model_module_version": "2.0.0",
      "model_name": "ProgressStyleModel",
      "state": {
       "description_width": ""
      }
     },
     "dc4bae12a082457aa1404a5935fd7c50": {
      "model_module": "@jupyter-widgets/controls",
      "model_module_version": "2.0.0",
      "model_name": "HTMLModel",
      "state": {
       "layout": "IPY_MODEL_171fc8aa0c4c415195e34fcce5a0dc46",
       "style": "IPY_MODEL_a6d988808b15444b96727850c31b0cda",
       "value": " 657/657 [00:00&lt;00:00, 145248.67it/s]"
      }
     },
     "dc4d50d96b074deea7e990fa7b099a78": {
      "model_module": "@jupyter-widgets/controls",
      "model_module_version": "2.0.0",
      "model_name": "HBoxModel",
      "state": {
       "children": [
        "IPY_MODEL_39cab2f7c9ff4ecba5c4ce76dc394c9d",
        "IPY_MODEL_a8bda3b0fd034c35bde1f381993f2b93",
        "IPY_MODEL_2cf46a5a26d44b80bc54456b840f7246"
       ],
       "layout": "IPY_MODEL_dde6fb83376647a2804e55a7f5ebd1b5"
      }
     },
     "dc6451f2e3fa4fa3a19fb9eb88fa9c57": {
      "model_module": "@jupyter-widgets/base",
      "model_module_version": "2.0.0",
      "model_name": "LayoutModel",
      "state": {}
     },
     "dc9b52c7e0074523a44d9ff50a165297": {
      "model_module": "@jupyter-widgets/base",
      "model_module_version": "2.0.0",
      "model_name": "LayoutModel",
      "state": {}
     },
     "dcc2399169d24e63b937e555889b0a2d": {
      "model_module": "@jupyter-widgets/controls",
      "model_module_version": "2.0.0",
      "model_name": "HTMLStyleModel",
      "state": {
       "description_width": "",
       "font_size": null,
       "text_color": null
      }
     },
     "dcd52f824d1d49d58cc5573f69e8dfcc": {
      "model_module": "@jupyter-widgets/base",
      "model_module_version": "2.0.0",
      "model_name": "LayoutModel",
      "state": {}
     },
     "dd1240f64cfb41a4ad6eb30761f522d7": {
      "model_module": "@jupyter-widgets/controls",
      "model_module_version": "2.0.0",
      "model_name": "HTMLStyleModel",
      "state": {
       "description_width": "",
       "font_size": null,
       "text_color": null
      }
     },
     "dd6e800462314f4583ed64dcc7664e9f": {
      "model_module": "@jupyter-widgets/controls",
      "model_module_version": "2.0.0",
      "model_name": "HTMLStyleModel",
      "state": {
       "description_width": "",
       "font_size": null,
       "text_color": null
      }
     },
     "ddb93c71aab442759ef773cd53f0fa9d": {
      "model_module": "@jupyter-widgets/controls",
      "model_module_version": "2.0.0",
      "model_name": "HTMLModel",
      "state": {
       "layout": "IPY_MODEL_6010c9087ad5424e84cb3e64018bad8a",
       "style": "IPY_MODEL_261242125147487a8aeda77d7453e97c",
       "value": "100%"
      }
     },
     "dde6fb83376647a2804e55a7f5ebd1b5": {
      "model_module": "@jupyter-widgets/base",
      "model_module_version": "2.0.0",
      "model_name": "LayoutModel",
      "state": {}
     },
     "de0b4c4d697e464cac088e645b1ef954": {
      "model_module": "@jupyter-widgets/base",
      "model_module_version": "2.0.0",
      "model_name": "LayoutModel",
      "state": {}
     },
     "de7eed3e1b0949f7af8d7780a9abe573": {
      "model_module": "@jupyter-widgets/base",
      "model_module_version": "2.0.0",
      "model_name": "LayoutModel",
      "state": {}
     },
     "deb7b5aae179450a8e880ada06a7fcb6": {
      "model_module": "@jupyter-widgets/controls",
      "model_module_version": "2.0.0",
      "model_name": "HBoxModel",
      "state": {
       "children": [
        "IPY_MODEL_6368e15f92c540508fbb9ecb6c3bb5ce",
        "IPY_MODEL_d31c32b777644aabbb6f9016e801d33c",
        "IPY_MODEL_ac249f25503049398387d6b225fd1cc1"
       ],
       "layout": "IPY_MODEL_33703c913ec24740858bb8cc81fcb3b1"
      }
     },
     "dee88f878b74485aa6f665503e6d32d9": {
      "model_module": "@jupyter-widgets/controls",
      "model_module_version": "2.0.0",
      "model_name": "HTMLStyleModel",
      "state": {
       "description_width": "",
       "font_size": null,
       "text_color": null
      }
     },
     "dee9b3978f0c46aba89ea4f31f006491": {
      "model_module": "@jupyter-widgets/controls",
      "model_module_version": "2.0.0",
      "model_name": "HTMLStyleModel",
      "state": {
       "description_width": "",
       "font_size": null,
       "text_color": null
      }
     },
     "df613ca896d74bc29213f674473949f3": {
      "model_module": "@jupyter-widgets/base",
      "model_module_version": "2.0.0",
      "model_name": "LayoutModel",
      "state": {}
     },
     "df8ed781c5ad49aa8460cead918b3820": {
      "model_module": "@jupyter-widgets/controls",
      "model_module_version": "2.0.0",
      "model_name": "HTMLStyleModel",
      "state": {
       "description_width": "",
       "font_size": null,
       "text_color": null
      }
     },
     "dfd772cda755424ab815bbbbf4cddb41": {
      "model_module": "@jupyter-widgets/controls",
      "model_module_version": "2.0.0",
      "model_name": "FloatProgressModel",
      "state": {
       "bar_style": "danger",
       "layout": "IPY_MODEL_17abf218f1094f96979c080732d103de",
       "max": 582,
       "style": "IPY_MODEL_3dab2bde492041b687caa5d70767cf65"
      }
     },
     "e0c9a27c75084df3855ebba89b131ca0": {
      "model_module": "@jupyter-widgets/controls",
      "model_module_version": "2.0.0",
      "model_name": "ProgressStyleModel",
      "state": {
       "description_width": ""
      }
     },
     "e0d5dd8b985c47ec9bbea0e74164cdc0": {
      "model_module": "@jupyter-widgets/controls",
      "model_module_version": "2.0.0",
      "model_name": "HTMLModel",
      "state": {
       "layout": "IPY_MODEL_cb4d03b6924e47b48aaa74564c25e0d8",
       "style": "IPY_MODEL_25ed00804fe0435b9e6a08b13065a9c1",
       "value": "  0%"
      }
     },
     "e10b9a85675648a89f246df7be382969": {
      "model_module": "@jupyter-widgets/controls",
      "model_module_version": "2.0.0",
      "model_name": "FloatProgressModel",
      "state": {
       "bar_style": "success",
       "layout": "IPY_MODEL_7f6e292ddecc4fa39b006d9a01c69f1e",
       "max": 437,
       "style": "IPY_MODEL_9050e90e88ca4464b538d04945756f8e",
       "value": 437
      }
     },
     "e1120634af32460bac961f2803cb6bd4": {
      "model_module": "@jupyter-widgets/controls",
      "model_module_version": "2.0.0",
      "model_name": "HTMLStyleModel",
      "state": {
       "description_width": "",
       "font_size": null,
       "text_color": null
      }
     },
     "e12bbbf383df412d8be6212f34d43261": {
      "model_module": "@jupyter-widgets/controls",
      "model_module_version": "2.0.0",
      "model_name": "FloatProgressModel",
      "state": {
       "bar_style": "danger",
       "layout": "IPY_MODEL_e90e28834861488c8523ab4d615427fd",
       "max": 582,
       "style": "IPY_MODEL_fe096eec2777422f841fa84cdad59f9e"
      }
     },
     "e1415540fc8840038368b971cc869df6": {
      "model_module": "@jupyter-widgets/controls",
      "model_module_version": "2.0.0",
      "model_name": "FloatProgressModel",
      "state": {
       "bar_style": "success",
       "layout": "IPY_MODEL_198e3b9e79f040d7b0efa77a2f798559",
       "max": 623,
       "style": "IPY_MODEL_d992f60df20748eb8f289bad05230241",
       "value": 623
      }
     },
     "e148a204f7e846a3bab1dc8d5345dc8f": {
      "model_module": "@jupyter-widgets/controls",
      "model_module_version": "2.0.0",
      "model_name": "HTMLStyleModel",
      "state": {
       "description_width": "",
       "font_size": null,
       "text_color": null
      }
     },
     "e168f43dea734646a889f93ccb322201": {
      "model_module": "@jupyter-widgets/base",
      "model_module_version": "2.0.0",
      "model_name": "LayoutModel",
      "state": {}
     },
     "e1c4e4321b584f9b998185b708a639d9": {
      "model_module": "@jupyter-widgets/controls",
      "model_module_version": "2.0.0",
      "model_name": "HBoxModel",
      "state": {
       "children": [
        "IPY_MODEL_7b4b4f9e0a2b46088e23cc263eb1bc62",
        "IPY_MODEL_75a5503215d74dc5b9ee42df57f1b3e6",
        "IPY_MODEL_03cacd35ee9348f0866cd323337fe44f"
       ],
       "layout": "IPY_MODEL_72b05ba00fd941c9a457f5eef7f60480"
      }
     },
     "e1d0f36365344b1986527d669ffc022c": {
      "model_module": "@jupyter-widgets/controls",
      "model_module_version": "2.0.0",
      "model_name": "HTMLModel",
      "state": {
       "layout": "IPY_MODEL_ec4e3decb15b4cb696b86cd075eea3b0",
       "style": "IPY_MODEL_a9428dc26f9043a5856da4993ca61f3b",
       "value": " 716/716 [00:00&lt;00:00, 159766.01it/s]"
      }
     },
     "e281aa437d514953bc26ccd0f5a13845": {
      "model_module": "@jupyter-widgets/base",
      "model_module_version": "2.0.0",
      "model_name": "LayoutModel",
      "state": {}
     },
     "e296f73e66c343a2865d00907016e582": {
      "model_module": "@jupyter-widgets/base",
      "model_module_version": "2.0.0",
      "model_name": "LayoutModel",
      "state": {}
     },
     "e30ba13e08404407bf9af768589c006b": {
      "model_module": "@jupyter-widgets/controls",
      "model_module_version": "2.0.0",
      "model_name": "HTMLStyleModel",
      "state": {
       "description_width": "",
       "font_size": null,
       "text_color": null
      }
     },
     "e390d5b7d41f453181b3261915f4a5a3": {
      "model_module": "@jupyter-widgets/controls",
      "model_module_version": "2.0.0",
      "model_name": "HTMLModel",
      "state": {
       "layout": "IPY_MODEL_4a10ec3fa8f045b08728366f9a3bc8f5",
       "style": "IPY_MODEL_78e8e629e07d49a5a770e113295f1b1f",
       "value": " 646/646 [00:00&lt;00:00, 144031.49it/s]"
      }
     },
     "e43f8c05e03846bc8fe25db164779db6": {
      "model_module": "@jupyter-widgets/controls",
      "model_module_version": "2.0.0",
      "model_name": "FloatProgressModel",
      "state": {
       "bar_style": "danger",
       "layout": "IPY_MODEL_104c1c4d9a094ba2a46ae8388bc57cef",
       "max": 582,
       "style": "IPY_MODEL_611f68ec6c2245708c79db9d4d844197"
      }
     },
     "e453ba2c18b9418893746ce0cc88b0c3": {
      "model_module": "@jupyter-widgets/base",
      "model_module_version": "2.0.0",
      "model_name": "LayoutModel",
      "state": {}
     },
     "e486074e669446238a6a25e9c9608215": {
      "model_module": "@jupyter-widgets/controls",
      "model_module_version": "2.0.0",
      "model_name": "HTMLStyleModel",
      "state": {
       "description_width": "",
       "font_size": null,
       "text_color": null
      }
     },
     "e4ad7f210e9f4a759b9f44208b8c52fc": {
      "model_module": "@jupyter-widgets/controls",
      "model_module_version": "2.0.0",
      "model_name": "HTMLStyleModel",
      "state": {
       "description_width": "",
       "font_size": null,
       "text_color": null
      }
     },
     "e4ede447250448d1853e5a43bec8cd45": {
      "model_module": "@jupyter-widgets/base",
      "model_module_version": "2.0.0",
      "model_name": "LayoutModel",
      "state": {}
     },
     "e4ff99d0ce184b799d40479571a909b5": {
      "model_module": "@jupyter-widgets/controls",
      "model_module_version": "2.0.0",
      "model_name": "HBoxModel",
      "state": {
       "children": [
        "IPY_MODEL_53f3e3c48a904747affca1fce8e076f2",
        "IPY_MODEL_b80d78756dec4d99abdbf9a5f6564fc3",
        "IPY_MODEL_f061f23fd69e47a68636de072c8be111"
       ],
       "layout": "IPY_MODEL_0826053cd0854e1f8d81da2dd55844e1"
      }
     },
     "e5011dc7ae414556af74dafc3efe2270": {
      "model_module": "@jupyter-widgets/controls",
      "model_module_version": "2.0.0",
      "model_name": "HTMLModel",
      "state": {
       "layout": "IPY_MODEL_d41b2ac39e7c45329ab980c34f2f50cc",
       "style": "IPY_MODEL_f8bf266060994ce0811e59b4b37a1110",
       "value": " 0/582 [00:00&lt;?, ?it/s]"
      }
     },
     "e5343702b2654d05833c1bd5dc484621": {
      "model_module": "@jupyter-widgets/controls",
      "model_module_version": "2.0.0",
      "model_name": "HBoxModel",
      "state": {
       "children": [
        "IPY_MODEL_c9545a398bb2411b93302caef5785dbb",
        "IPY_MODEL_5fcd0b9bc9194cb5b876aaa06d0e4b8f",
        "IPY_MODEL_2112b78461744a7c9c64aeaf088608bb"
       ],
       "layout": "IPY_MODEL_0307750431aa4502a025431ea112725c"
      }
     },
     "e5b5b4a7d2c14d0eb4cda3b35a2cafb6": {
      "model_module": "@jupyter-widgets/controls",
      "model_module_version": "2.0.0",
      "model_name": "HTMLStyleModel",
      "state": {
       "description_width": "",
       "font_size": null,
       "text_color": null
      }
     },
     "e5ba28e2a7324223bd87f8c279358bf0": {
      "model_module": "@jupyter-widgets/controls",
      "model_module_version": "2.0.0",
      "model_name": "HTMLStyleModel",
      "state": {
       "description_width": "",
       "font_size": null,
       "text_color": null
      }
     },
     "e5e1c34671b34f418cc63482e6596f7b": {
      "model_module": "@jupyter-widgets/controls",
      "model_module_version": "2.0.0",
      "model_name": "HTMLModel",
      "state": {
       "layout": "IPY_MODEL_4316d940ffbc4006a1e6d01f7f85ab8c",
       "style": "IPY_MODEL_d68766b5d63e4953ab610991e5d87d39",
       "value": " 0/819 [00:00&lt;?, ?it/s]"
      }
     },
     "e617c0b8567e482f8d940c40ff7eeeab": {
      "model_module": "@jupyter-widgets/controls",
      "model_module_version": "2.0.0",
      "model_name": "HTMLModel",
      "state": {
       "layout": "IPY_MODEL_1cc9a1e7536a47e7a35b0222efcf5734",
       "style": "IPY_MODEL_32690c80bd6e436297d194a91bb3ecbe",
       "value": " 722/722 [00:00&lt;00:00, 142440.62it/s]"
      }
     },
     "e6452b96877c423d8aa76cd20bdd6f84": {
      "model_module": "@jupyter-widgets/controls",
      "model_module_version": "2.0.0",
      "model_name": "HTMLModel",
      "state": {
       "layout": "IPY_MODEL_2c354d5b301b476ea036562335ef9946",
       "style": "IPY_MODEL_96536933654245d3a254bfeb63118044",
       "value": " 578/578 [00:00&lt;00:00, 129393.02it/s]"
      }
     },
     "e64a7fa742734ea0acdd1f649175d8d8": {
      "model_module": "@jupyter-widgets/base",
      "model_module_version": "2.0.0",
      "model_name": "LayoutModel",
      "state": {}
     },
     "e65959a1a95141b8812053e2fd86fc2b": {
      "model_module": "@jupyter-widgets/controls",
      "model_module_version": "2.0.0",
      "model_name": "HTMLStyleModel",
      "state": {
       "description_width": "",
       "font_size": null,
       "text_color": null
      }
     },
     "e668623aed7f4fcfaa969d6e81ea4660": {
      "model_module": "@jupyter-widgets/controls",
      "model_module_version": "2.0.0",
      "model_name": "HTMLModel",
      "state": {
       "layout": "IPY_MODEL_8289c60bccca4aabb017390483101692",
       "style": "IPY_MODEL_82b7dedb5f9240219286e0d782f2a68d",
       "value": " 0/793 [00:00&lt;?, ?it/s]"
      }
     },
     "e66a13d8874f4eb1bb6143660fda9734": {
      "model_module": "@jupyter-widgets/base",
      "model_module_version": "2.0.0",
      "model_name": "LayoutModel",
      "state": {}
     },
     "e6ac8815850a428aa66bfc2e86fd3b89": {
      "model_module": "@jupyter-widgets/controls",
      "model_module_version": "2.0.0",
      "model_name": "HTMLStyleModel",
      "state": {
       "description_width": "",
       "font_size": null,
       "text_color": null
      }
     },
     "e6b650e5d0e2470bb6fb81d5e985fcd1": {
      "model_module": "@jupyter-widgets/base",
      "model_module_version": "2.0.0",
      "model_name": "LayoutModel",
      "state": {}
     },
     "e6d4fe9b8b9f41818458c749f386f268": {
      "model_module": "@jupyter-widgets/controls",
      "model_module_version": "2.0.0",
      "model_name": "HBoxModel",
      "state": {
       "children": [
        "IPY_MODEL_4b97658bb6714f85abe386ec6afbf7e7",
        "IPY_MODEL_493156b3208a4283bc0d7172c23659b8",
        "IPY_MODEL_6795cbdc99324f78a72625a75517cbfb"
       ],
       "layout": "IPY_MODEL_0371206b7d2c41d8bbfab13c8db9c89f"
      }
     },
     "e6ea0e3f3e484539b6845eaee320d016": {
      "model_module": "@jupyter-widgets/base",
      "model_module_version": "2.0.0",
      "model_name": "LayoutModel",
      "state": {}
     },
     "e70cdbe84eee49448a774f02ff158a31": {
      "model_module": "@jupyter-widgets/controls",
      "model_module_version": "2.0.0",
      "model_name": "HBoxModel",
      "state": {
       "children": [
        "IPY_MODEL_937bac674fd14aaa9c28fe7c9eb1bec8",
        "IPY_MODEL_20e9274412324ed5b91975a8a1939e2f",
        "IPY_MODEL_7610a0c89ae041a79f7bfda2cc9477a4"
       ],
       "layout": "IPY_MODEL_0249d45ac4e64cb488e2a8bea2b47dc9"
      }
     },
     "e724680d6594477ab01b036793eb0267": {
      "model_module": "@jupyter-widgets/controls",
      "model_module_version": "2.0.0",
      "model_name": "FloatProgressModel",
      "state": {
       "bar_style": "success",
       "layout": "IPY_MODEL_71def538f7084c4d8bd69994dbb15ca4",
       "max": 674,
       "style": "IPY_MODEL_13764b31b28b4d60b73351cacd18a63b",
       "value": 674
      }
     },
     "e73b9b6007cf42429b928989e353e120": {
      "model_module": "@jupyter-widgets/base",
      "model_module_version": "2.0.0",
      "model_name": "LayoutModel",
      "state": {}
     },
     "e790006bb91f42f9bbdaa2e3ccb1fc5b": {
      "model_module": "@jupyter-widgets/controls",
      "model_module_version": "2.0.0",
      "model_name": "HTMLModel",
      "state": {
       "layout": "IPY_MODEL_eecd2b5088d84f5d9291e6ec77f411d9",
       "style": "IPY_MODEL_e8fc78ffbdba4af79b32f261fd1b869a",
       "value": " 625/625 [00:00&lt;00:00, 124003.78it/s]"
      }
     },
     "e7be466e48344f76bcbd0a673fd9e56a": {
      "model_module": "@jupyter-widgets/controls",
      "model_module_version": "2.0.0",
      "model_name": "HTMLStyleModel",
      "state": {
       "description_width": "",
       "font_size": null,
       "text_color": null
      }
     },
     "e7f99c8583f44d60920bce835c537eb1": {
      "model_module": "@jupyter-widgets/controls",
      "model_module_version": "2.0.0",
      "model_name": "HTMLStyleModel",
      "state": {
       "description_width": "",
       "font_size": null,
       "text_color": null
      }
     },
     "e8209e6d795f4565b976d40c50215e6f": {
      "model_module": "@jupyter-widgets/controls",
      "model_module_version": "2.0.0",
      "model_name": "HBoxModel",
      "state": {
       "children": [
        "IPY_MODEL_1f52488f5b0e413caf4ebe084d3e8664",
        "IPY_MODEL_72575a811cfc4f09878b37c13fdf0e0f",
        "IPY_MODEL_d83a047e112b41aaadc90bd8d379aa00"
       ],
       "layout": "IPY_MODEL_5a68a38cd9b34e4bb6d6275e3702245f"
      }
     },
     "e83db7c834ea494798ee34ebe3acb615": {
      "model_module": "@jupyter-widgets/base",
      "model_module_version": "2.0.0",
      "model_name": "LayoutModel",
      "state": {}
     },
     "e87c9d9ccd014580a849098975882568": {
      "model_module": "@jupyter-widgets/controls",
      "model_module_version": "2.0.0",
      "model_name": "HTMLStyleModel",
      "state": {
       "description_width": "",
       "font_size": null,
       "text_color": null
      }
     },
     "e89a2b1cc21b4126b719c4cac8027a97": {
      "model_module": "@jupyter-widgets/controls",
      "model_module_version": "2.0.0",
      "model_name": "HTMLModel",
      "state": {
       "layout": "IPY_MODEL_955a97ded23e469ab31ec496057bbaaf",
       "style": "IPY_MODEL_c8998bae079c4a03afe411d691d4cb13",
       "value": "  0%"
      }
     },
     "e8fc78ffbdba4af79b32f261fd1b869a": {
      "model_module": "@jupyter-widgets/controls",
      "model_module_version": "2.0.0",
      "model_name": "HTMLStyleModel",
      "state": {
       "description_width": "",
       "font_size": null,
       "text_color": null
      }
     },
     "e90e28834861488c8523ab4d615427fd": {
      "model_module": "@jupyter-widgets/base",
      "model_module_version": "2.0.0",
      "model_name": "LayoutModel",
      "state": {}
     },
     "e910ae6085454f5fa2766adba441b2e6": {
      "model_module": "@jupyter-widgets/base",
      "model_module_version": "2.0.0",
      "model_name": "LayoutModel",
      "state": {}
     },
     "e93086e13ac24ff5a331f712f7c0ec16": {
      "model_module": "@jupyter-widgets/controls",
      "model_module_version": "2.0.0",
      "model_name": "HTMLStyleModel",
      "state": {
       "description_width": "",
       "font_size": null,
       "text_color": null
      }
     },
     "e9574266afbd443993bd6bfd5e1ce66e": {
      "model_module": "@jupyter-widgets/controls",
      "model_module_version": "2.0.0",
      "model_name": "HBoxModel",
      "state": {
       "children": [
        "IPY_MODEL_6bed872e69fa4c0c9b10aaa007c34427",
        "IPY_MODEL_c318a1ec35df48428f5eec690ee7576a",
        "IPY_MODEL_6ffbd236fd5f41558cc5fbcad7bb91dd"
       ],
       "layout": "IPY_MODEL_00a7b123980c432587487ca9a03246d3"
      }
     },
     "e97dbcb69dd4497386c8d2b83bf98407": {
      "model_module": "@jupyter-widgets/controls",
      "model_module_version": "2.0.0",
      "model_name": "HTMLStyleModel",
      "state": {
       "description_width": "",
       "font_size": null,
       "text_color": null
      }
     },
     "e982f0d6da8b486bbed2932c9681e4cf": {
      "model_module": "@jupyter-widgets/controls",
      "model_module_version": "2.0.0",
      "model_name": "HTMLStyleModel",
      "state": {
       "description_width": "",
       "font_size": null,
       "text_color": null
      }
     },
     "e9a9aca99ab3461792d88196d7f130c9": {
      "model_module": "@jupyter-widgets/controls",
      "model_module_version": "2.0.0",
      "model_name": "HTMLModel",
      "state": {
       "layout": "IPY_MODEL_588c889d08b94d509edc6814ede83c5e",
       "style": "IPY_MODEL_9ece3562e3f74f94905a3cdd90ddd178",
       "value": "100%"
      }
     },
     "e9bdd86c7368464f924832ae8614cc75": {
      "model_module": "@jupyter-widgets/base",
      "model_module_version": "2.0.0",
      "model_name": "LayoutModel",
      "state": {}
     },
     "e9e6ca7ea7ae4054854690521e4abb57": {
      "model_module": "@jupyter-widgets/base",
      "model_module_version": "2.0.0",
      "model_name": "LayoutModel",
      "state": {}
     },
     "e9f911aaf6e44cc0ba6460fec7081ef7": {
      "model_module": "@jupyter-widgets/controls",
      "model_module_version": "2.0.0",
      "model_name": "HBoxModel",
      "state": {
       "children": [
        "IPY_MODEL_3349a9afe3ca478887ba3ba13eef4ece",
        "IPY_MODEL_e724680d6594477ab01b036793eb0267",
        "IPY_MODEL_7e7d044783c742449bcab89f54502898"
       ],
       "layout": "IPY_MODEL_1a159421feb84339a395d97a88ddc649"
      }
     },
     "ea275dc0a16d4ef08495340970da0c20": {
      "model_module": "@jupyter-widgets/controls",
      "model_module_version": "2.0.0",
      "model_name": "HTMLStyleModel",
      "state": {
       "description_width": "",
       "font_size": null,
       "text_color": null
      }
     },
     "ea596f7037294732b0dde07a24f225b9": {
      "model_module": "@jupyter-widgets/controls",
      "model_module_version": "2.0.0",
      "model_name": "HTMLModel",
      "state": {
       "layout": "IPY_MODEL_de0b4c4d697e464cac088e645b1ef954",
       "style": "IPY_MODEL_384035f249304115aa707d669aaa0c6d",
       "value": " 0/582 [00:00&lt;?, ?it/s]"
      }
     },
     "eaacfa5bed91431d84fdfc101fbb8ca6": {
      "model_module": "@jupyter-widgets/base",
      "model_module_version": "2.0.0",
      "model_name": "LayoutModel",
      "state": {}
     },
     "eacca6f528684e60964c6595dd6bc7a3": {
      "model_module": "@jupyter-widgets/controls",
      "model_module_version": "2.0.0",
      "model_name": "HTMLModel",
      "state": {
       "layout": "IPY_MODEL_9162444625264ed8a83f124ae27cd5e3",
       "style": "IPY_MODEL_dc3e1d427c1942a68f6a15172c7c6897",
       "value": "100%"
      }
     },
     "eada8aa48c0f4c93b0a68df07009ed1d": {
      "model_module": "@jupyter-widgets/controls",
      "model_module_version": "2.0.0",
      "model_name": "ProgressStyleModel",
      "state": {
       "description_width": ""
      }
     },
     "eae2d748b04341ac9d24e946e416c354": {
      "model_module": "@jupyter-widgets/controls",
      "model_module_version": "2.0.0",
      "model_name": "HTMLModel",
      "state": {
       "layout": "IPY_MODEL_5fb27f1aec874236ace13d6e8ebfd92e",
       "style": "IPY_MODEL_13e4f62bfcbd46fab1d6b1ef44b15ef0",
       "value": " 0/582 [00:00&lt;?, ?it/s]"
      }
     },
     "eaefed817b3947c89a392558ec05c759": {
      "model_module": "@jupyter-widgets/controls",
      "model_module_version": "2.0.0",
      "model_name": "HBoxModel",
      "state": {
       "children": [
        "IPY_MODEL_c219de993e0b49eebfd96a6a734bcb54",
        "IPY_MODEL_5b390e97fb774501935b2c7c2eec465b",
        "IPY_MODEL_ed787dfd1b2a4be9925bdb53d1448c93"
       ],
       "layout": "IPY_MODEL_00c18fe507e94bc4bcd44982bd20caa1"
      }
     },
     "eb12553bef694c0d8281477a6cc24c50": {
      "model_module": "@jupyter-widgets/base",
      "model_module_version": "2.0.0",
      "model_name": "LayoutModel",
      "state": {}
     },
     "eb2e562a8c444e6784333897e09e52fa": {
      "model_module": "@jupyter-widgets/controls",
      "model_module_version": "2.0.0",
      "model_name": "HBoxModel",
      "state": {
       "children": [
        "IPY_MODEL_f9aa2df978dc458d893198582f01b66e",
        "IPY_MODEL_b63a24753b244b76abec9c6ba0507290",
        "IPY_MODEL_c711e0cccd1f4dfbb986def345bc9001"
       ],
       "layout": "IPY_MODEL_4abb934c3e8d4d97856388eb8b6bec12"
      }
     },
     "eb63e770deb548a6a5a36fb4b21d894b": {
      "model_module": "@jupyter-widgets/base",
      "model_module_version": "2.0.0",
      "model_name": "LayoutModel",
      "state": {}
     },
     "eb81867a4dec40268df0876e0d270efb": {
      "model_module": "@jupyter-widgets/base",
      "model_module_version": "2.0.0",
      "model_name": "LayoutModel",
      "state": {}
     },
     "eb8fec51fca24bf094a8cf3bd1cbbd3b": {
      "model_module": "@jupyter-widgets/base",
      "model_module_version": "2.0.0",
      "model_name": "LayoutModel",
      "state": {}
     },
     "ebb62414753c493688c3f50e57b0f71f": {
      "model_module": "@jupyter-widgets/controls",
      "model_module_version": "2.0.0",
      "model_name": "FloatProgressModel",
      "state": {
       "bar_style": "success",
       "layout": "IPY_MODEL_42d436b728b74d099f54702f47f7024e",
       "max": 651,
       "style": "IPY_MODEL_3b51dbd55ba8457898905c176f4d98ed",
       "value": 651
      }
     },
     "ebb69c66678746efbf81e3c422222256": {
      "model_module": "@jupyter-widgets/controls",
      "model_module_version": "2.0.0",
      "model_name": "HTMLStyleModel",
      "state": {
       "description_width": "",
       "font_size": null,
       "text_color": null
      }
     },
     "ebe4ab756dfe40f8b14991b9fc3314ef": {
      "model_module": "@jupyter-widgets/controls",
      "model_module_version": "2.0.0",
      "model_name": "ProgressStyleModel",
      "state": {
       "description_width": ""
      }
     },
     "ebf2eb3f2b61456080a565dd45b661ee": {
      "model_module": "@jupyter-widgets/controls",
      "model_module_version": "2.0.0",
      "model_name": "HTMLModel",
      "state": {
       "layout": "IPY_MODEL_00204758fc4a463980b636be4198ee72",
       "style": "IPY_MODEL_b19b5c91f7e94535abd1375c9e9c69c7",
       "value": "  0%"
      }
     },
     "ec4e3decb15b4cb696b86cd075eea3b0": {
      "model_module": "@jupyter-widgets/base",
      "model_module_version": "2.0.0",
      "model_name": "LayoutModel",
      "state": {}
     },
     "ec6e3f512db44f3eac20b234b8ad6c3b": {
      "model_module": "@jupyter-widgets/controls",
      "model_module_version": "2.0.0",
      "model_name": "HTMLModel",
      "state": {
       "layout": "IPY_MODEL_360a14be9ea741d8b26c19f9efb7a453",
       "style": "IPY_MODEL_bae4a9fe0b2042bcb1e8c4a84b27011e",
       "value": " 418/418 [00:00&lt;00:00, 100869.86it/s]"
      }
     },
     "ec797ea51ed24abfb79261d1b9fcaf81": {
      "model_module": "@jupyter-widgets/controls",
      "model_module_version": "2.0.0",
      "model_name": "HTMLModel",
      "state": {
       "layout": "IPY_MODEL_5ab82d6e2f93485293161d0df1d904ac",
       "style": "IPY_MODEL_d81b6dd18c924000bdabcc398831f4b4",
       "value": " 588/588 [00:00&lt;00:00, 129843.67it/s]"
      }
     },
     "ec8c7c897fc047ee996031658017fe8d": {
      "model_module": "@jupyter-widgets/base",
      "model_module_version": "2.0.0",
      "model_name": "LayoutModel",
      "state": {}
     },
     "ecadacf646924aa980c7c666cce63044": {
      "model_module": "@jupyter-widgets/controls",
      "model_module_version": "2.0.0",
      "model_name": "HTMLModel",
      "state": {
       "layout": "IPY_MODEL_505f03e4ae9044ddb618db65f17bf9f6",
       "style": "IPY_MODEL_33b31c765b01400d8c87858b84782db5",
       "value": " 635/635 [00:00&lt;00:00, 144552.68it/s]"
      }
     },
     "ece14cc4acb245d0923b85f20fd60071": {
      "model_module": "@jupyter-widgets/base",
      "model_module_version": "2.0.0",
      "model_name": "LayoutModel",
      "state": {}
     },
     "ed09f8ee4be5463e933350c9fb8c0990": {
      "model_module": "@jupyter-widgets/controls",
      "model_module_version": "2.0.0",
      "model_name": "HTMLStyleModel",
      "state": {
       "description_width": "",
       "font_size": null,
       "text_color": null
      }
     },
     "ed1f8cad3a7b40b58013a6a97a014337": {
      "model_module": "@jupyter-widgets/base",
      "model_module_version": "2.0.0",
      "model_name": "LayoutModel",
      "state": {}
     },
     "ed2c939428e34ee197450465b71474dc": {
      "model_module": "@jupyter-widgets/controls",
      "model_module_version": "2.0.0",
      "model_name": "ProgressStyleModel",
      "state": {
       "description_width": ""
      }
     },
     "ed787dfd1b2a4be9925bdb53d1448c93": {
      "model_module": "@jupyter-widgets/controls",
      "model_module_version": "2.0.0",
      "model_name": "HTMLModel",
      "state": {
       "layout": "IPY_MODEL_882ced9ed3074d5885945305d97e4520",
       "style": "IPY_MODEL_78f7a77b33be4a16979121f5741bb872",
       "value": " 0/582 [00:00&lt;?, ?it/s]"
      }
     },
     "ed970246066c4f22b6e98f74cbe6f7c3": {
      "model_module": "@jupyter-widgets/controls",
      "model_module_version": "2.0.0",
      "model_name": "FloatProgressModel",
      "state": {
       "bar_style": "success",
       "layout": "IPY_MODEL_e910ae6085454f5fa2766adba441b2e6",
       "max": 653,
       "style": "IPY_MODEL_ccb064b60aa745b0add3ad25a9dede98",
       "value": 653
      }
     },
     "ee0e95ab3faa4941aacb0b7f64532368": {
      "model_module": "@jupyter-widgets/controls",
      "model_module_version": "2.0.0",
      "model_name": "HTMLStyleModel",
      "state": {
       "description_width": "",
       "font_size": null,
       "text_color": null
      }
     },
     "ee4092cb425244bbb56cfd7083573952": {
      "model_module": "@jupyter-widgets/controls",
      "model_module_version": "2.0.0",
      "model_name": "HTMLModel",
      "state": {
       "layout": "IPY_MODEL_dac794134e0b41c7bdc03333449bc9b3",
       "style": "IPY_MODEL_75cf70ce2db846299c8f8ad4c708251b",
       "value": " 631/631 [00:00&lt;00:00, 138268.94it/s]"
      }
     },
     "ee6637b8b6804297b050ddf027e99037": {
      "model_module": "@jupyter-widgets/controls",
      "model_module_version": "2.0.0",
      "model_name": "HTMLModel",
      "state": {
       "layout": "IPY_MODEL_2753c58995fa4a90aeeea62f7bd9d603",
       "style": "IPY_MODEL_0ac0e56303fc43d2b84e06d04293ea8f",
       "value": "100%"
      }
     },
     "ee702b733aa8473dadf7a3ab17f50b96": {
      "model_module": "@jupyter-widgets/controls",
      "model_module_version": "2.0.0",
      "model_name": "FloatProgressModel",
      "state": {
       "bar_style": "success",
       "layout": "IPY_MODEL_94c05af2cf4b462e8a7ff4185d0cbaaa",
       "max": 628,
       "style": "IPY_MODEL_3f3482fb51f8425ebcd666cd43feade9",
       "value": 628
      }
     },
     "ee9b466a3cc5419c99a081076d01a3ac": {
      "model_module": "@jupyter-widgets/controls",
      "model_module_version": "2.0.0",
      "model_name": "ProgressStyleModel",
      "state": {
       "description_width": ""
      }
     },
     "eebf856bb15d4ed78a3a93d05b728ab6": {
      "model_module": "@jupyter-widgets/controls",
      "model_module_version": "2.0.0",
      "model_name": "ProgressStyleModel",
      "state": {
       "description_width": ""
      }
     },
     "eecd1a54963640058fb32d89a78f4c0b": {
      "model_module": "@jupyter-widgets/controls",
      "model_module_version": "2.0.0",
      "model_name": "HTMLStyleModel",
      "state": {
       "description_width": "",
       "font_size": null,
       "text_color": null
      }
     },
     "eecd2b5088d84f5d9291e6ec77f411d9": {
      "model_module": "@jupyter-widgets/base",
      "model_module_version": "2.0.0",
      "model_name": "LayoutModel",
      "state": {}
     },
     "eecfd1af905d436d9fdb4f25aef35c99": {
      "model_module": "@jupyter-widgets/controls",
      "model_module_version": "2.0.0",
      "model_name": "ProgressStyleModel",
      "state": {
       "description_width": ""
      }
     },
     "eee18fbf701e4839b8967791aff05ade": {
      "model_module": "@jupyter-widgets/controls",
      "model_module_version": "2.0.0",
      "model_name": "HTMLStyleModel",
      "state": {
       "description_width": "",
       "font_size": null,
       "text_color": null
      }
     },
     "eef1e044cb15436e9896516a82dee9ba": {
      "model_module": "@jupyter-widgets/controls",
      "model_module_version": "2.0.0",
      "model_name": "HTMLModel",
      "state": {
       "layout": "IPY_MODEL_dc6451f2e3fa4fa3a19fb9eb88fa9c57",
       "style": "IPY_MODEL_ed09f8ee4be5463e933350c9fb8c0990",
       "value": "  0%"
      }
     },
     "ef7196c89246454a89c292a93f9723a5": {
      "model_module": "@jupyter-widgets/controls",
      "model_module_version": "2.0.0",
      "model_name": "HTMLStyleModel",
      "state": {
       "description_width": "",
       "font_size": null,
       "text_color": null
      }
     },
     "ef81594f40434f209f5fae27a79d2225": {
      "model_module": "@jupyter-widgets/base",
      "model_module_version": "2.0.0",
      "model_name": "LayoutModel",
      "state": {}
     },
     "ef84abc087384bd5878b52b2bfc25d16": {
      "model_module": "@jupyter-widgets/base",
      "model_module_version": "2.0.0",
      "model_name": "LayoutModel",
      "state": {}
     },
     "efc6ea8508804d1daafa8a9ec4fa20ff": {
      "model_module": "@jupyter-widgets/controls",
      "model_module_version": "2.0.0",
      "model_name": "FloatProgressModel",
      "state": {
       "bar_style": "success",
       "layout": "IPY_MODEL_640d9e9e8e07461a952383ca421cc074",
       "max": 716,
       "style": "IPY_MODEL_5bf4216b3bd9487890202f4e3fae43d8",
       "value": 716
      }
     },
     "effb3968eab84765a20a74a0ffe5ec3f": {
      "model_module": "@jupyter-widgets/controls",
      "model_module_version": "2.0.0",
      "model_name": "HTMLStyleModel",
      "state": {
       "description_width": "",
       "font_size": null,
       "text_color": null
      }
     },
     "f0263b83459a4c5889b684b4b9f65ab4": {
      "model_module": "@jupyter-widgets/controls",
      "model_module_version": "2.0.0",
      "model_name": "HBoxModel",
      "state": {
       "children": [
        "IPY_MODEL_f87a92238a8548058036b13960f5ce99",
        "IPY_MODEL_60c3959ba2354e4e906ee30ce972a857",
        "IPY_MODEL_0336508dc1d24af68362e9d7525822f2"
       ],
       "layout": "IPY_MODEL_0a6f1d7881234cefa31f2fb45ffa8a7d"
      }
     },
     "f03df860c1a644538ab0b54cd140f5e8": {
      "model_module": "@jupyter-widgets/base",
      "model_module_version": "2.0.0",
      "model_name": "LayoutModel",
      "state": {}
     },
     "f044456d634c4550a170744d4c47c250": {
      "model_module": "@jupyter-widgets/controls",
      "model_module_version": "2.0.0",
      "model_name": "HTMLModel",
      "state": {
       "layout": "IPY_MODEL_9d79ff9e6bc04571a4a969a468f08856",
       "style": "IPY_MODEL_e982f0d6da8b486bbed2932c9681e4cf",
       "value": "100%"
      }
     },
     "f061f23fd69e47a68636de072c8be111": {
      "model_module": "@jupyter-widgets/controls",
      "model_module_version": "2.0.0",
      "model_name": "HTMLModel",
      "state": {
       "layout": "IPY_MODEL_be3ad66ad312493b864c5bbd5912d51b",
       "style": "IPY_MODEL_0dc8ca1b33fb4f039cdbba81815ca350",
       "value": " 492/492 [00:00&lt;00:00, 109006.26it/s]"
      }
     },
     "f08542ad6c0543f6a3d6f0bec8f1b8d9": {
      "model_module": "@jupyter-widgets/controls",
      "model_module_version": "2.0.0",
      "model_name": "HBoxModel",
      "state": {
       "children": [
        "IPY_MODEL_94ced940801e40dcaa3a421eaecb3deb",
        "IPY_MODEL_b19ce558e3d6400c93b3ab99555467bd",
        "IPY_MODEL_242c69ac52294a3e9048d03a6cbdc54d"
       ],
       "layout": "IPY_MODEL_de7eed3e1b0949f7af8d7780a9abe573"
      }
     },
     "f0861ddbf7a342b8bc58e919cb07b632": {
      "model_module": "@jupyter-widgets/controls",
      "model_module_version": "2.0.0",
      "model_name": "FloatProgressModel",
      "state": {
       "bar_style": "success",
       "layout": "IPY_MODEL_7a477e86a059469093c267a5991b53fd",
       "max": 625,
       "style": "IPY_MODEL_a64a6a7413504cbbac1ef239b6d356cc",
       "value": 625
      }
     },
     "f09adf53313d402da205511ac347d2ad": {
      "model_module": "@jupyter-widgets/base",
      "model_module_version": "2.0.0",
      "model_name": "LayoutModel",
      "state": {}
     },
     "f0c4b896c25c41c297afd3994448bb69": {
      "model_module": "@jupyter-widgets/controls",
      "model_module_version": "2.0.0",
      "model_name": "HTMLStyleModel",
      "state": {
       "description_width": "",
       "font_size": null,
       "text_color": null
      }
     },
     "f0d0f1854e994c6384a567f05f09a28c": {
      "model_module": "@jupyter-widgets/controls",
      "model_module_version": "2.0.0",
      "model_name": "FloatProgressModel",
      "state": {
       "bar_style": "danger",
       "layout": "IPY_MODEL_b202edaed16043b091554f2317fe301b",
       "max": 793,
       "style": "IPY_MODEL_42e5a77cd0634158b5a1e782d80f65af"
      }
     },
     "f0e4011178ba4879828b8cd512493b68": {
      "model_module": "@jupyter-widgets/controls",
      "model_module_version": "2.0.0",
      "model_name": "HTMLModel",
      "state": {
       "layout": "IPY_MODEL_58be02f2f62942ee924cf8bba82d8496",
       "style": "IPY_MODEL_b62ad69e085c4efaad3874181aeb6b46",
       "value": "100%"
      }
     },
     "f0f89fd4013d4e4885edc3caf2f61bf6": {
      "model_module": "@jupyter-widgets/base",
      "model_module_version": "2.0.0",
      "model_name": "LayoutModel",
      "state": {}
     },
     "f13c2ae364154b06b7f8271fca37e805": {
      "model_module": "@jupyter-widgets/controls",
      "model_module_version": "2.0.0",
      "model_name": "HBoxModel",
      "state": {
       "children": [
        "IPY_MODEL_d11e237acd9a4d10be05da322fee9ab2",
        "IPY_MODEL_e1415540fc8840038368b971cc869df6",
        "IPY_MODEL_45c9803b87094d53985f22d304499667"
       ],
       "layout": "IPY_MODEL_61ea20d82dd84553aedce7b853264864"
      }
     },
     "f16fb6f75d13445f8e224165ef7dc975": {
      "model_module": "@jupyter-widgets/base",
      "model_module_version": "2.0.0",
      "model_name": "LayoutModel",
      "state": {}
     },
     "f18cf84eff00460fba4f620a1326e15b": {
      "model_module": "@jupyter-widgets/base",
      "model_module_version": "2.0.0",
      "model_name": "LayoutModel",
      "state": {}
     },
     "f221c5c9377041609fde06f28a29a3a9": {
      "model_module": "@jupyter-widgets/controls",
      "model_module_version": "2.0.0",
      "model_name": "HTMLStyleModel",
      "state": {
       "description_width": "",
       "font_size": null,
       "text_color": null
      }
     },
     "f2407df9182b43c9a92f2b87c628fcdf": {
      "model_module": "@jupyter-widgets/controls",
      "model_module_version": "2.0.0",
      "model_name": "ProgressStyleModel",
      "state": {
       "description_width": ""
      }
     },
     "f2b60f9ecb164e99981cf860b8508b76": {
      "model_module": "@jupyter-widgets/base",
      "model_module_version": "2.0.0",
      "model_name": "LayoutModel",
      "state": {}
     },
     "f2e6f4a0bac64f178ed76a3b48d31fa0": {
      "model_module": "@jupyter-widgets/controls",
      "model_module_version": "2.0.0",
      "model_name": "FloatProgressModel",
      "state": {
       "bar_style": "success",
       "layout": "IPY_MODEL_c5d9eadd85eb455685b54e950a52459a",
       "max": 401,
       "style": "IPY_MODEL_8c70b3c186eb46629aadb2516089917d",
       "value": 401
      }
     },
     "f3bbae084def4cec98529a04825fbce5": {
      "model_module": "@jupyter-widgets/controls",
      "model_module_version": "2.0.0",
      "model_name": "ProgressStyleModel",
      "state": {
       "description_width": ""
      }
     },
     "f3f93958960d49cf90e0600ee3d5a40e": {
      "model_module": "@jupyter-widgets/base",
      "model_module_version": "2.0.0",
      "model_name": "LayoutModel",
      "state": {}
     },
     "f40b0787368d4034bab621329bbbe728": {
      "model_module": "@jupyter-widgets/controls",
      "model_module_version": "2.0.0",
      "model_name": "HTMLStyleModel",
      "state": {
       "description_width": "",
       "font_size": null,
       "text_color": null
      }
     },
     "f4254fc6a50640a283ea1680a22b1744": {
      "model_module": "@jupyter-widgets/controls",
      "model_module_version": "2.0.0",
      "model_name": "HBoxModel",
      "state": {
       "children": [
        "IPY_MODEL_eacca6f528684e60964c6595dd6bc7a3",
        "IPY_MODEL_a6ef92a7a06e470aabe8ca99a1bf6fe2",
        "IPY_MODEL_2fc3ceea251342799ca6a378486da0e1"
       ],
       "layout": "IPY_MODEL_90484e34e5cd4a37a7420b2cf2e53bb2"
      }
     },
     "f47b2527345b450090eb210eb09c1692": {
      "model_module": "@jupyter-widgets/controls",
      "model_module_version": "2.0.0",
      "model_name": "HTMLStyleModel",
      "state": {
       "description_width": "",
       "font_size": null,
       "text_color": null
      }
     },
     "f48df65c20224961bedfaeda9b9ff17c": {
      "model_module": "@jupyter-widgets/base",
      "model_module_version": "2.0.0",
      "model_name": "LayoutModel",
      "state": {}
     },
     "f4d035233f1d4eedaa2b33eb01a9b248": {
      "model_module": "@jupyter-widgets/base",
      "model_module_version": "2.0.0",
      "model_name": "LayoutModel",
      "state": {}
     },
     "f4d87bb2975c41f1aa74edecf1360e53": {
      "model_module": "@jupyter-widgets/controls",
      "model_module_version": "2.0.0",
      "model_name": "HTMLModel",
      "state": {
       "layout": "IPY_MODEL_6a5b9455e297412e8b7fc524c79f9493",
       "style": "IPY_MODEL_81a9b267c8654c4390c68f8fd36280ba",
       "value": "100%"
      }
     },
     "f5b6491a435045399bb32204a5515a20": {
      "model_module": "@jupyter-widgets/controls",
      "model_module_version": "2.0.0",
      "model_name": "FloatProgressModel",
      "state": {
       "bar_style": "success",
       "layout": "IPY_MODEL_a8be185891414315ad2fc2c34dd1a8c9",
       "max": 491,
       "style": "IPY_MODEL_0b7673afc66d4357b0ee19cc86972d64",
       "value": 491
      }
     },
     "f5f1a40316ac48a4a8d566811d3c7fb5": {
      "model_module": "@jupyter-widgets/base",
      "model_module_version": "2.0.0",
      "model_name": "LayoutModel",
      "state": {}
     },
     "f62445b532c540a6b0bf849c02c8bbac": {
      "model_module": "@jupyter-widgets/base",
      "model_module_version": "2.0.0",
      "model_name": "LayoutModel",
      "state": {}
     },
     "f6c4bc46acde484c9bced5237779ed01": {
      "model_module": "@jupyter-widgets/controls",
      "model_module_version": "2.0.0",
      "model_name": "HTMLModel",
      "state": {
       "layout": "IPY_MODEL_f0f89fd4013d4e4885edc3caf2f61bf6",
       "style": "IPY_MODEL_e148a204f7e846a3bab1dc8d5345dc8f",
       "value": " 0/582 [00:00&lt;?, ?it/s]"
      }
     },
     "f78983732a514f1892b055fa20b4228a": {
      "model_module": "@jupyter-widgets/controls",
      "model_module_version": "2.0.0",
      "model_name": "HTMLModel",
      "state": {
       "layout": "IPY_MODEL_b932e3fa563c4d32b18769fed45437e0",
       "style": "IPY_MODEL_ae76f6fbb8db4dcc87c1e1bcb6a78e3d",
       "value": " 0/582 [00:00&lt;?, ?it/s]"
      }
     },
     "f78b52402c0b4860934f945c3d3cbf7e": {
      "model_module": "@jupyter-widgets/base",
      "model_module_version": "2.0.0",
      "model_name": "LayoutModel",
      "state": {}
     },
     "f7bf289bd81d4934a17869fe4d8416d0": {
      "model_module": "@jupyter-widgets/controls",
      "model_module_version": "2.0.0",
      "model_name": "HTMLModel",
      "state": {
       "layout": "IPY_MODEL_6b85dbcc422b428f82d10227536bbd19",
       "style": "IPY_MODEL_b36ce062dfb04cc99464b9da85c6e890",
       "value": "100%"
      }
     },
     "f87a92238a8548058036b13960f5ce99": {
      "model_module": "@jupyter-widgets/controls",
      "model_module_version": "2.0.0",
      "model_name": "HTMLModel",
      "state": {
       "layout": "IPY_MODEL_085ae0282425433b807fefe1d2ee1209",
       "style": "IPY_MODEL_cbeb3ff13fd649e4b1e1b22e8f39c5e3",
       "value": "  0%"
      }
     },
     "f8bf266060994ce0811e59b4b37a1110": {
      "model_module": "@jupyter-widgets/controls",
      "model_module_version": "2.0.0",
      "model_name": "HTMLStyleModel",
      "state": {
       "description_width": "",
       "font_size": null,
       "text_color": null
      }
     },
     "f8c18ddfc2d843e3b91c3461126a0caa": {
      "model_module": "@jupyter-widgets/controls",
      "model_module_version": "2.0.0",
      "model_name": "HBoxModel",
      "state": {
       "children": [
        "IPY_MODEL_cc96f1ab65074bb88ed49758f85d1458",
        "IPY_MODEL_dfd772cda755424ab815bbbbf4cddb41",
        "IPY_MODEL_98e87049dcaa4e739317100280bd2299"
       ],
       "layout": "IPY_MODEL_4487522f815d48e697732e3cc1f22123"
      }
     },
     "f9212d9c2d724d2c8e61a7479e53652a": {
      "model_module": "@jupyter-widgets/controls",
      "model_module_version": "2.0.0",
      "model_name": "HBoxModel",
      "state": {
       "children": [
        "IPY_MODEL_c2d0271eec30480abce002fcbe2cebca",
        "IPY_MODEL_baa293131ccb4c7e811d938a59dba244",
        "IPY_MODEL_7dc8f2a542aa4462a81e16ebaedf215e"
       ],
       "layout": "IPY_MODEL_c6ec4351afaf4dcdbd37ea08e98f5d29"
      }
     },
     "f93304bd8850410cafc5490d48793b18": {
      "model_module": "@jupyter-widgets/base",
      "model_module_version": "2.0.0",
      "model_name": "LayoutModel",
      "state": {}
     },
     "f9aa2df978dc458d893198582f01b66e": {
      "model_module": "@jupyter-widgets/controls",
      "model_module_version": "2.0.0",
      "model_name": "HTMLModel",
      "state": {
       "layout": "IPY_MODEL_675914f1fc1b49058e68a72311e1ac6d",
       "style": "IPY_MODEL_dbfc75c9586942318f5139c608711863",
       "value": "100%"
      }
     },
     "f9dc6ad363ce4d34958aaa835e5139f0": {
      "model_module": "@jupyter-widgets/controls",
      "model_module_version": "2.0.0",
      "model_name": "HTMLStyleModel",
      "state": {
       "description_width": "",
       "font_size": null,
       "text_color": null
      }
     },
     "fa220b8259414ba5967c936431d6e6ad": {
      "model_module": "@jupyter-widgets/controls",
      "model_module_version": "2.0.0",
      "model_name": "HBoxModel",
      "state": {
       "children": [
        "IPY_MODEL_1c0cfe12452d4ef4899eb07930ebb906",
        "IPY_MODEL_2c7b765072554fc0bd55555ce335342e",
        "IPY_MODEL_d9954fec95344b72b30166d787e22344"
       ],
       "layout": "IPY_MODEL_909f99c13f03486aa76854003965645a"
      }
     },
     "fa34e479df984ccab1554f16e9ee3588": {
      "model_module": "@jupyter-widgets/controls",
      "model_module_version": "2.0.0",
      "model_name": "HTMLModel",
      "state": {
       "layout": "IPY_MODEL_1e163a132985492ea4d3638949421b2c",
       "style": "IPY_MODEL_d15225fc77d7452294ce28cbe046a472",
       "value": "100%"
      }
     },
     "fab3439abc734af9b533b3d67de02c17": {
      "model_module": "@jupyter-widgets/controls",
      "model_module_version": "2.0.0",
      "model_name": "HTMLStyleModel",
      "state": {
       "description_width": "",
       "font_size": null,
       "text_color": null
      }
     },
     "fb22e29e66224a0aa23c69c3b1eec175": {
      "model_module": "@jupyter-widgets/base",
      "model_module_version": "2.0.0",
      "model_name": "LayoutModel",
      "state": {}
     },
     "fb574410aa58469ca2d6ad4695958b58": {
      "model_module": "@jupyter-widgets/controls",
      "model_module_version": "2.0.0",
      "model_name": "HTMLStyleModel",
      "state": {
       "description_width": "",
       "font_size": null,
       "text_color": null
      }
     },
     "fb71381693434ea5875c667951385c64": {
      "model_module": "@jupyter-widgets/controls",
      "model_module_version": "2.0.0",
      "model_name": "HTMLModel",
      "state": {
       "layout": "IPY_MODEL_f48df65c20224961bedfaeda9b9ff17c",
       "style": "IPY_MODEL_279aeb8df3b74bb6919e88333f5d5ebd",
       "value": "100%"
      }
     },
     "fb8eef5e77964dda8832f4d14bc69668": {
      "model_module": "@jupyter-widgets/controls",
      "model_module_version": "2.0.0",
      "model_name": "HTMLModel",
      "state": {
       "layout": "IPY_MODEL_86254c4090864aa0ac5cfcd7b7edd732",
       "style": "IPY_MODEL_8ed84022f9fc4d5098c43c3a2cc11cd9",
       "value": " 653/653 [00:00&lt;00:00, 143939.48it/s]"
      }
     },
     "fb922e1265824a83a7a38d4ed6c2b51d": {
      "model_module": "@jupyter-widgets/base",
      "model_module_version": "2.0.0",
      "model_name": "LayoutModel",
      "state": {}
     },
     "fc25fead1c6c4e8da8223eafc21abbba": {
      "model_module": "@jupyter-widgets/controls",
      "model_module_version": "2.0.0",
      "model_name": "ProgressStyleModel",
      "state": {
       "description_width": ""
      }
     },
     "fc41953ed5324e80858c7256896e6a9f": {
      "model_module": "@jupyter-widgets/base",
      "model_module_version": "2.0.0",
      "model_name": "LayoutModel",
      "state": {}
     },
     "fc419bfa5d2c4d8b93144e8dd4a5d2b9": {
      "model_module": "@jupyter-widgets/controls",
      "model_module_version": "2.0.0",
      "model_name": "HTMLStyleModel",
      "state": {
       "description_width": "",
       "font_size": null,
       "text_color": null
      }
     },
     "fc8fe9a8aa214f80b6d8734fb817ee22": {
      "model_module": "@jupyter-widgets/controls",
      "model_module_version": "2.0.0",
      "model_name": "HBoxModel",
      "state": {
       "children": [
        "IPY_MODEL_54f6b6fbe73446e58957521949af1c43",
        "IPY_MODEL_986f44b9cd964604996f6fbd30c308a7",
        "IPY_MODEL_6742d1bd2eb440a390154eae913c07f8"
       ],
       "layout": "IPY_MODEL_456a0d47371146169be6092882ca7856"
      }
     },
     "fc957d69f6a1461dbe69f01152e638ea": {
      "model_module": "@jupyter-widgets/controls",
      "model_module_version": "2.0.0",
      "model_name": "HBoxModel",
      "state": {
       "children": [
        "IPY_MODEL_a7ac4d07f6904b89b02ca1d5aa928f1b",
        "IPY_MODEL_d6dcf17ade454f25a86e00d2f83bd655",
        "IPY_MODEL_b5aaa9f6acec4c988bcb11eaaf261a66"
       ],
       "layout": "IPY_MODEL_549921cf461c4573bc82cf22ffb0ef8b"
      }
     },
     "fc9b3494166348ce82c9f08553c05c52": {
      "model_module": "@jupyter-widgets/base",
      "model_module_version": "2.0.0",
      "model_name": "LayoutModel",
      "state": {}
     },
     "fcb19763abea4941b23067924165a5a8": {
      "model_module": "@jupyter-widgets/base",
      "model_module_version": "2.0.0",
      "model_name": "LayoutModel",
      "state": {}
     },
     "fcbef1dd06194a00a812bf9a0c978b41": {
      "model_module": "@jupyter-widgets/controls",
      "model_module_version": "2.0.0",
      "model_name": "HTMLModel",
      "state": {
       "layout": "IPY_MODEL_5fd310c537134507a91ed3fc7051e460",
       "style": "IPY_MODEL_a20609fb815f4cad895491654674ef69",
       "value": "100%"
      }
     },
     "fce12acc5df84509a4007fd570d8be3d": {
      "model_module": "@jupyter-widgets/controls",
      "model_module_version": "2.0.0",
      "model_name": "HBoxModel",
      "state": {
       "children": [
        "IPY_MODEL_881360c962e741b1a431912728714aff",
        "IPY_MODEL_6001d1e9beb74d789ed5e13f5c664963",
        "IPY_MODEL_b204c2e3bbb343c59f28da11fcb29805"
       ],
       "layout": "IPY_MODEL_8efadb9788104ebca47550d81d7f0164"
      }
     },
     "fcf1e10f8f9648f3bb1fda8202511919": {
      "model_module": "@jupyter-widgets/base",
      "model_module_version": "2.0.0",
      "model_name": "LayoutModel",
      "state": {}
     },
     "fd9ab1ff0339484e8a797be02f1b5f64": {
      "model_module": "@jupyter-widgets/controls",
      "model_module_version": "2.0.0",
      "model_name": "HTMLStyleModel",
      "state": {
       "description_width": "",
       "font_size": null,
       "text_color": null
      }
     },
     "fdbf787f2dd34b078a81d37995b780cd": {
      "model_module": "@jupyter-widgets/controls",
      "model_module_version": "2.0.0",
      "model_name": "HTMLStyleModel",
      "state": {
       "description_width": "",
       "font_size": null,
       "text_color": null
      }
     },
     "fde06540ba5543e0a1a13855576468c1": {
      "model_module": "@jupyter-widgets/controls",
      "model_module_version": "2.0.0",
      "model_name": "HTMLModel",
      "state": {
       "layout": "IPY_MODEL_cc4baa8d37a84791b0bd1998212bbcbf",
       "style": "IPY_MODEL_01ca5ac3227a47ea9f60230c38d065d4",
       "value": "100%"
      }
     },
     "fe096eec2777422f841fa84cdad59f9e": {
      "model_module": "@jupyter-widgets/controls",
      "model_module_version": "2.0.0",
      "model_name": "ProgressStyleModel",
      "state": {
       "description_width": ""
      }
     },
     "fe9a4853ceab4cb4857ca88129bdb285": {
      "model_module": "@jupyter-widgets/controls",
      "model_module_version": "2.0.0",
      "model_name": "FloatProgressModel",
      "state": {
       "bar_style": "success",
       "layout": "IPY_MODEL_e168f43dea734646a889f93ccb322201",
       "max": 401,
       "style": "IPY_MODEL_beb7c659be05427885f4b8ea28aad6ae",
       "value": 401
      }
     },
     "feaa962961c34739909a61b335dc3607": {
      "model_module": "@jupyter-widgets/controls",
      "model_module_version": "2.0.0",
      "model_name": "HTMLModel",
      "state": {
       "layout": "IPY_MODEL_5b8075817c24499aaa27c85e257885f5",
       "style": "IPY_MODEL_f47b2527345b450090eb210eb09c1692",
       "value": " 0/582 [00:00&lt;?, ?it/s]"
      }
     },
     "feb4e5439c0e4f2bb08dc72096803ed3": {
      "model_module": "@jupyter-widgets/base",
      "model_module_version": "2.0.0",
      "model_name": "LayoutModel",
      "state": {}
     },
     "ff7d58912b854f42a40f2f66cf1be038": {
      "model_module": "@jupyter-widgets/controls",
      "model_module_version": "2.0.0",
      "model_name": "HBoxModel",
      "state": {
       "children": [
        "IPY_MODEL_68285c70cc2148059b02b062ab25e209",
        "IPY_MODEL_8cc2039b15694976b8b4a7a73f4cddc1",
        "IPY_MODEL_26dbdcb7f94e483a85207429f472484e"
       ],
       "layout": "IPY_MODEL_3860a32ec87540beb6b864f95be0e37d"
      }
     },
     "ff88612da34947058fba1102a6c89cfd": {
      "model_module": "@jupyter-widgets/controls",
      "model_module_version": "2.0.0",
      "model_name": "HTMLStyleModel",
      "state": {
       "description_width": "",
       "font_size": null,
       "text_color": null
      }
     },
     "ffc1a09d1b5a4e8e989b9a1fc976a052": {
      "model_module": "@jupyter-widgets/base",
      "model_module_version": "2.0.0",
      "model_name": "LayoutModel",
      "state": {}
     }
    },
    "version_major": 2,
    "version_minor": 0
   }
  }
 },
 "nbformat": 4,
 "nbformat_minor": 5
}
