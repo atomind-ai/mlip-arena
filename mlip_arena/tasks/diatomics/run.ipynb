{
 "cells": [
  {
   "cell_type": "code",
   "execution_count": 2,
   "id": "3200850a-b8fb-4f50-9815-16ae8da0f942",
   "metadata": {
    "tags": []
   },
   "outputs": [],
   "source": [
    "import os\n",
    "from pathlib import Path\n",
    "\n",
    "import numpy as np\n",
    "import pandas as pd\n",
    "from ase import Atom, Atoms\n",
    "from ase.data import chemical_symbols, covalent_radii, vdw_alvarez\n",
    "from ase.io import read, write\n",
    "from pymatgen.core import Element\n",
    "from scipy import stats\n",
    "from tqdm.auto import tqdm\n",
    "\n",
    "from mlip_arena.models.utils import REGISTRY, MLIPEnum\n",
    "\n",
    "# model_name = \"MACE-MP(M)\"\n",
    "\n",
    "# calc = MLIPEnum[model_name].value()"
   ]
  },
  {
   "cell_type": "code",
   "execution_count": 3,
   "id": "90887faa-1601-4c4c-9c44-d16731471d7f",
   "metadata": {
    "scrolled": true,
    "tags": []
   },
   "outputs": [
    {
     "name": "stdout",
     "output_type": "stream",
     "text": [
      "========== MACE-OFF(M) ==========\n",
      "Selected GPU cuda:0 with 40338.06 MB free memory from 4 GPUs\n",
      "Default dtype float32 does not match model dtype float64, converting models to float32.\n"
     ]
    },
    {
     "data": {
      "application/vnd.jupyter.widget-view+json": {
       "model_id": "60f14aee9df9484997239ace3de2e101",
       "version_major": 2,
       "version_minor": 0
      },
      "text/plain": [
       "  0%|          | 0/118 [00:00<?, ?it/s]"
      ]
     },
     "metadata": {},
     "output_type": "display_data"
    },
    {
     "name": "stdout",
     "output_type": "stream",
     "text": [
      "Atoms(symbols='H2', pbc=True, cell=[7.4399999999999995, 7.441, 7.441999999999999])\n"
     ]
    },
    {
     "data": {
      "application/vnd.jupyter.widget-view+json": {
       "model_id": "01f85ac837a44f64950df4fbe5f108f1",
       "version_major": 2,
       "version_minor": 0
      },
      "text/plain": [
       "  0%|          | 0/344 [00:00<?, ?it/s]"
      ]
     },
     "metadata": {},
     "output_type": "display_data"
    },
    {
     "name": "stdout",
     "output_type": "stream",
     "text": [
      "Atoms(symbols='He2', pbc=True, cell=[8.866, 8.866999999999999, 8.868])\n"
     ]
    },
    {
     "data": {
      "application/vnd.jupyter.widget-view+json": {
       "model_id": "ab613d7a045e45bd939214bfc6ff0b3f",
       "version_major": 2,
       "version_minor": 0
      },
      "text/plain": [
       "  0%|          | 0/418 [00:00<?, ?it/s]"
      ]
     },
     "metadata": {},
     "output_type": "display_data"
    },
    {
     "name": "stdout",
     "output_type": "stream",
     "text": [
      "2 is not in list\n",
      "Atoms(symbols='Li2', pbc=True, cell=[13.144000000000002, 13.145000000000001, 13.146000000000003])\n"
     ]
    },
    {
     "data": {
      "application/vnd.jupyter.widget-view+json": {
       "model_id": "a44cf4d8d9af41ea98901956c5b2e800",
       "version_major": 2,
       "version_minor": 0
      },
      "text/plain": [
       "  0%|          | 0/542 [00:00<?, ?it/s]"
      ]
     },
     "metadata": {},
     "output_type": "display_data"
    },
    {
     "name": "stdout",
     "output_type": "stream",
     "text": [
      "3 is not in list\n",
      "Atoms(symbols='Be2', pbc=True, cell=[12.276, 12.277, 12.278])\n"
     ]
    },
    {
     "data": {
      "application/vnd.jupyter.widget-view+json": {
       "model_id": "e3a16426d1cb4f9785fcfc1fd83dd8cd",
       "version_major": 2,
       "version_minor": 0
      },
      "text/plain": [
       "  0%|          | 0/527 [00:00<?, ?it/s]"
      ]
     },
     "metadata": {},
     "output_type": "display_data"
    },
    {
     "name": "stdout",
     "output_type": "stream",
     "text": [
      "4 is not in list\n",
      "Atoms(symbols='B2', pbc=True, cell=[11.842, 11.843, 11.844000000000001])\n"
     ]
    },
    {
     "data": {
      "application/vnd.jupyter.widget-view+json": {
       "model_id": "0b96202a2c594947b6093ecab0d89a25",
       "version_major": 2,
       "version_minor": 0
      },
      "text/plain": [
       "  0%|          | 0/516 [00:00<?, ?it/s]"
      ]
     },
     "metadata": {},
     "output_type": "display_data"
    },
    {
     "name": "stdout",
     "output_type": "stream",
     "text": [
      "5 is not in list\n",
      "Atoms(symbols='C2', pbc=True, cell=[10.974, 10.975, 10.976])\n"
     ]
    },
    {
     "data": {
      "application/vnd.jupyter.widget-view+json": {
       "model_id": "55e1867137bb450f8c31b378ddcf5f2b",
       "version_major": 2,
       "version_minor": 0
      },
      "text/plain": [
       "  0%|          | 0/480 [00:00<?, ?it/s]"
      ]
     },
     "metadata": {},
     "output_type": "display_data"
    },
    {
     "name": "stdout",
     "output_type": "stream",
     "text": [
      "Atoms(symbols='N2', pbc=True, cell=[10.292, 10.293, 10.294])\n"
     ]
    },
    {
     "data": {
      "application/vnd.jupyter.widget-view+json": {
       "model_id": "0c71c7705dbc428d81308cdc16942921",
       "version_major": 2,
       "version_minor": 0
      },
      "text/plain": [
       "  0%|          | 0/450 [00:00<?, ?it/s]"
      ]
     },
     "metadata": {},
     "output_type": "display_data"
    },
    {
     "name": "stdout",
     "output_type": "stream",
     "text": [
      "Atoms(symbols='O2', pbc=True, cell=[9.3, 9.301, 9.302000000000001])\n"
     ]
    },
    {
     "data": {
      "application/vnd.jupyter.widget-view+json": {
       "model_id": "52a86764001b45cab2fef7af36f4d16a",
       "version_major": 2,
       "version_minor": 0
      },
      "text/plain": [
       "  0%|          | 0/405 [00:00<?, ?it/s]"
      ]
     },
     "metadata": {},
     "output_type": "display_data"
    },
    {
     "name": "stdout",
     "output_type": "stream",
     "text": [
      "Atoms(symbols='F2', pbc=True, cell=[9.052, 9.052999999999999, 9.054])\n"
     ]
    },
    {
     "data": {
      "application/vnd.jupyter.widget-view+json": {
       "model_id": "34a2485e76cd4acc8c5d4caa724037ae",
       "version_major": 2,
       "version_minor": 0
      },
      "text/plain": [
       "  0%|          | 0/401 [00:00<?, ?it/s]"
      ]
     },
     "metadata": {},
     "output_type": "display_data"
    },
    {
     "name": "stdout",
     "output_type": "stream",
     "text": [
      "Atoms(symbols='Ne2', pbc=True, cell=[9.796000000000001, 9.797, 9.798000000000002])\n"
     ]
    },
    {
     "data": {
      "application/vnd.jupyter.widget-view+json": {
       "model_id": "da6bf461ce4849ef8b723a140aee5e46",
       "version_major": 2,
       "version_minor": 0
      },
      "text/plain": [
       "  0%|          | 0/437 [00:00<?, ?it/s]"
      ]
     },
     "metadata": {},
     "output_type": "display_data"
    },
    {
     "name": "stdout",
     "output_type": "stream",
     "text": [
      "10 is not in list\n",
      "Atoms(symbols='Na2', pbc=True, cell=[15.5, 15.501, 15.502])\n"
     ]
    },
    {
     "data": {
      "application/vnd.jupyter.widget-view+json": {
       "model_id": "07b8b95e8418423193b3eb48a1c3197a",
       "version_major": 2,
       "version_minor": 0
      },
      "text/plain": [
       "  0%|          | 0/625 [00:00<?, ?it/s]"
      ]
     },
     "metadata": {},
     "output_type": "display_data"
    },
    {
     "name": "stdout",
     "output_type": "stream",
     "text": [
      "11 is not in list\n",
      "Atoms(symbols='Mg2', pbc=True, cell=[15.562, 15.562999999999999, 15.564])\n"
     ]
    },
    {
     "data": {
      "application/vnd.jupyter.widget-view+json": {
       "model_id": "1032c8118d4e4da6b9ea753d152490b2",
       "version_major": 2,
       "version_minor": 0
      },
      "text/plain": [
       "  0%|          | 0/651 [00:00<?, ?it/s]"
      ]
     },
     "metadata": {},
     "output_type": "display_data"
    },
    {
     "name": "stdout",
     "output_type": "stream",
     "text": [
      "12 is not in list\n",
      "Atoms(symbols='Al2', pbc=True, cell=[13.950000000000001, 13.951, 13.952000000000002])\n"
     ]
    },
    {
     "data": {
      "application/vnd.jupyter.widget-view+json": {
       "model_id": "a907fe3e32644eaa884b9c11b80e503e",
       "version_major": 2,
       "version_minor": 0
      },
      "text/plain": [
       "  0%|          | 0/588 [00:00<?, ?it/s]"
      ]
     },
     "metadata": {},
     "output_type": "display_data"
    },
    {
     "name": "stdout",
     "output_type": "stream",
     "text": [
      "13 is not in list\n",
      "Atoms(symbols='Si2', pbc=True, cell=[13.578, 13.578999999999999, 13.58])\n"
     ]
    },
    {
     "data": {
      "application/vnd.jupyter.widget-view+json": {
       "model_id": "fd88635852dc4d2ca1c3cd298a760a2e",
       "version_major": 2,
       "version_minor": 0
      },
      "text/plain": [
       "  0%|          | 0/578 [00:00<?, ?it/s]"
      ]
     },
     "metadata": {},
     "output_type": "display_data"
    },
    {
     "name": "stdout",
     "output_type": "stream",
     "text": [
      "14 is not in list\n",
      "Atoms(symbols='P2', pbc=True, cell=[11.78, 11.780999999999999, 11.782])\n"
     ]
    },
    {
     "data": {
      "application/vnd.jupyter.widget-view+json": {
       "model_id": "12bf703b946a4f038142fb8531dbdd44",
       "version_major": 2,
       "version_minor": 0
      },
      "text/plain": [
       "  0%|          | 0/492 [00:00<?, ?it/s]"
      ]
     },
     "metadata": {},
     "output_type": "display_data"
    },
    {
     "name": "stdout",
     "output_type": "stream",
     "text": [
      "Atoms(symbols='S2', pbc=True, cell=[11.718, 11.719, 11.72])\n"
     ]
    },
    {
     "data": {
      "application/vnd.jupyter.widget-view+json": {
       "model_id": "84232451800944dd931a9cc1a3f7c76a",
       "version_major": 2,
       "version_minor": 0
      },
      "text/plain": [
       "  0%|          | 0/491 [00:00<?, ?it/s]"
      ]
     },
     "metadata": {},
     "output_type": "display_data"
    },
    {
     "name": "stdout",
     "output_type": "stream",
     "text": [
      "Atoms(symbols='Cl2', pbc=True, cell=[11.284, 11.285, 11.286000000000001])\n"
     ]
    },
    {
     "data": {
      "application/vnd.jupyter.widget-view+json": {
       "model_id": "49a6bc3910244f04b9a74e8d2e8c4142",
       "version_major": 2,
       "version_minor": 0
      },
      "text/plain": [
       "  0%|          | 0/472 [00:00<?, ?it/s]"
      ]
     },
     "metadata": {},
     "output_type": "display_data"
    },
    {
     "name": "stdout",
     "output_type": "stream",
     "text": [
      "Atoms(symbols='Ar2', pbc=True, cell=[11.346, 11.347, 11.348])\n"
     ]
    },
    {
     "data": {
      "application/vnd.jupyter.widget-view+json": {
       "model_id": "ebb843c27f634344bd10a526081ca13c",
       "version_major": 2,
       "version_minor": 0
      },
      "text/plain": [
       "  0%|          | 0/471 [00:00<?, ?it/s]"
      ]
     },
     "metadata": {},
     "output_type": "display_data"
    },
    {
     "name": "stdout",
     "output_type": "stream",
     "text": [
      "18 is not in list\n",
      "Atoms(symbols='K2', pbc=True, cell=[16.926000000000002, 16.927000000000003, 16.928])\n"
     ]
    },
    {
     "data": {
      "application/vnd.jupyter.widget-view+json": {
       "model_id": "c3cee6fcc4894e5085ce78549feb9177",
       "version_major": 2,
       "version_minor": 0
      },
      "text/plain": [
       "  0%|          | 0/663 [00:00<?, ?it/s]"
      ]
     },
     "metadata": {},
     "output_type": "display_data"
    },
    {
     "name": "stdout",
     "output_type": "stream",
     "text": [
      "19 is not in list\n",
      "Atoms(symbols='Ca2', pbc=True, cell=[16.244, 16.245, 16.246])\n"
     ]
    },
    {
     "data": {
      "application/vnd.jupyter.widget-view+json": {
       "model_id": "df8ca2be9bfd496ca5cabda54ab5c6fc",
       "version_major": 2,
       "version_minor": 0
      },
      "text/plain": [
       "  0%|          | 0/653 [00:00<?, ?it/s]"
      ]
     },
     "metadata": {},
     "output_type": "display_data"
    },
    {
     "name": "stdout",
     "output_type": "stream",
     "text": [
      "20 is not in list\n",
      "Atoms(symbols='Sc2', pbc=True, cell=[15.996, 15.997, 15.998000000000001])\n"
     ]
    },
    {
     "data": {
      "application/vnd.jupyter.widget-view+json": {
       "model_id": "4861cf3841bf4bce95c6f28db390c90c",
       "version_major": 2,
       "version_minor": 0
      },
      "text/plain": [
       "  0%|          | 0/646 [00:00<?, ?it/s]"
      ]
     },
     "metadata": {},
     "output_type": "display_data"
    },
    {
     "name": "stdout",
     "output_type": "stream",
     "text": [
      "21 is not in list\n",
      "Atoms(symbols='Ti2', pbc=True, cell=[15.252, 15.253, 15.254000000000001])\n"
     ]
    },
    {
     "data": {
      "application/vnd.jupyter.widget-view+json": {
       "model_id": "b8de0654f19c406da7709f59f4d5ab46",
       "version_major": 2,
       "version_minor": 0
      },
      "text/plain": [
       "  0%|          | 0/618 [00:00<?, ?it/s]"
      ]
     },
     "metadata": {},
     "output_type": "display_data"
    },
    {
     "name": "stdout",
     "output_type": "stream",
     "text": [
      "22 is not in list\n",
      "Atoms(symbols='V2', pbc=True, cell=[15.004, 15.004999999999999, 15.006])\n"
     ]
    },
    {
     "data": {
      "application/vnd.jupyter.widget-view+json": {
       "model_id": "436311045ab541f3b42f9e3082c888c4",
       "version_major": 2,
       "version_minor": 0
      },
      "text/plain": [
       "  0%|          | 0/612 [00:00<?, ?it/s]"
      ]
     },
     "metadata": {},
     "output_type": "display_data"
    },
    {
     "name": "stdout",
     "output_type": "stream",
     "text": [
      "23 is not in list\n",
      "Atoms(symbols='Cr2', pbc=True, cell=[15.190000000000001, 15.191, 15.192000000000002])\n"
     ]
    },
    {
     "data": {
      "application/vnd.jupyter.widget-view+json": {
       "model_id": "790a63d1478f4313b967ca5ac646b60e",
       "version_major": 2,
       "version_minor": 0
      },
      "text/plain": [
       "  0%|          | 0/634 [00:00<?, ?it/s]"
      ]
     },
     "metadata": {},
     "output_type": "display_data"
    },
    {
     "name": "stdout",
     "output_type": "stream",
     "text": [
      "24 is not in list\n",
      "Atoms(symbols='Mn2', pbc=True, cell=[15.190000000000001, 15.191, 15.192000000000002])\n"
     ]
    },
    {
     "data": {
      "application/vnd.jupyter.widget-view+json": {
       "model_id": "842404aaf77046fb95be4886c3c6b204",
       "version_major": 2,
       "version_minor": 0
      },
      "text/plain": [
       "  0%|          | 0/634 [00:00<?, ?it/s]"
      ]
     },
     "metadata": {},
     "output_type": "display_data"
    },
    {
     "name": "stdout",
     "output_type": "stream",
     "text": [
      "25 is not in list\n",
      "Atoms(symbols='Fe2', pbc=True, cell=[15.128, 15.129, 15.13])\n"
     ]
    },
    {
     "data": {
      "application/vnd.jupyter.widget-view+json": {
       "model_id": "421357cb56af4b589fdeafc354559700",
       "version_major": 2,
       "version_minor": 0
      },
      "text/plain": [
       "  0%|          | 0/637 [00:00<?, ?it/s]"
      ]
     },
     "metadata": {},
     "output_type": "display_data"
    },
    {
     "name": "stdout",
     "output_type": "stream",
     "text": [
      "26 is not in list\n",
      "Atoms(symbols='Co2', pbc=True, cell=[14.879999999999999, 14.880999999999998, 14.882])\n"
     ]
    },
    {
     "data": {
      "application/vnd.jupyter.widget-view+json": {
       "model_id": "c0a0dc53185143dc99d99695bc93ffbc",
       "version_major": 2,
       "version_minor": 0
      },
      "text/plain": [
       "  0%|          | 0/630 [00:00<?, ?it/s]"
      ]
     },
     "metadata": {},
     "output_type": "display_data"
    },
    {
     "name": "stdout",
     "output_type": "stream",
     "text": [
      "27 is not in list\n",
      "Atoms(symbols='Ni2', pbc=True, cell=[14.879999999999999, 14.880999999999998, 14.882])\n"
     ]
    },
    {
     "data": {
      "application/vnd.jupyter.widget-view+json": {
       "model_id": "686f870641b645e19ab34b492285d65b",
       "version_major": 2,
       "version_minor": 0
      },
      "text/plain": [
       "  0%|          | 0/632 [00:00<?, ?it/s]"
      ]
     },
     "metadata": {},
     "output_type": "display_data"
    },
    {
     "name": "stdout",
     "output_type": "stream",
     "text": [
      "28 is not in list\n",
      "Atoms(symbols='Cu2', pbc=True, cell=[14.756, 14.757, 14.758000000000001])\n"
     ]
    },
    {
     "data": {
      "application/vnd.jupyter.widget-view+json": {
       "model_id": "af3aa8ccc84a4e9c90cf7be3058f8974",
       "version_major": 2,
       "version_minor": 0
      },
      "text/plain": [
       "  0%|          | 0/618 [00:00<?, ?it/s]"
      ]
     },
     "metadata": {},
     "output_type": "display_data"
    },
    {
     "name": "stdout",
     "output_type": "stream",
     "text": [
      "29 is not in list\n",
      "Atoms(symbols='Zn2', pbc=True, cell=[14.818000000000001, 14.819, 14.820000000000002])\n"
     ]
    },
    {
     "data": {
      "application/vnd.jupyter.widget-view+json": {
       "model_id": "1663ce2f57b94ba58726f1807ace289f",
       "version_major": 2,
       "version_minor": 0
      },
      "text/plain": [
       "  0%|          | 0/631 [00:00<?, ?it/s]"
      ]
     },
     "metadata": {},
     "output_type": "display_data"
    },
    {
     "name": "stdout",
     "output_type": "stream",
     "text": [
      "30 is not in list\n",
      "Atoms(symbols='Ga2', pbc=True, cell=[14.383999999999999, 14.384999999999998, 14.386])\n"
     ]
    },
    {
     "data": {
      "application/vnd.jupyter.widget-view+json": {
       "model_id": "b4101abb835e446ba361c5f4b8347f75",
       "version_major": 2,
       "version_minor": 0
      },
      "text/plain": [
       "  0%|          | 0/609 [00:00<?, ?it/s]"
      ]
     },
     "metadata": {},
     "output_type": "display_data"
    },
    {
     "name": "stdout",
     "output_type": "stream",
     "text": [
      "31 is not in list\n",
      "Atoms(symbols='Ge2', pbc=True, cell=[14.198, 14.199, 14.200000000000001])\n"
     ]
    },
    {
     "data": {
      "application/vnd.jupyter.widget-view+json": {
       "model_id": "3f974765427c4cb5ac7eea72a57cfa58",
       "version_major": 2,
       "version_minor": 0
      },
      "text/plain": [
       "  0%|          | 0/601 [00:00<?, ?it/s]"
      ]
     },
     "metadata": {},
     "output_type": "display_data"
    },
    {
     "name": "stdout",
     "output_type": "stream",
     "text": [
      "32 is not in list\n",
      "Atoms(symbols='As2', pbc=True, cell=[11.655999999999999, 11.656999999999998, 11.658])\n"
     ]
    },
    {
     "data": {
      "application/vnd.jupyter.widget-view+json": {
       "model_id": "a8e033dbae494467a5028eab97e28bbe",
       "version_major": 2,
       "version_minor": 0
      },
      "text/plain": [
       "  0%|          | 0/475 [00:00<?, ?it/s]"
      ]
     },
     "metadata": {},
     "output_type": "display_data"
    },
    {
     "name": "stdout",
     "output_type": "stream",
     "text": [
      "33 is not in list\n",
      "Atoms(symbols='Se2', pbc=True, cell=[11.284, 11.285, 11.286000000000001])\n"
     ]
    },
    {
     "data": {
      "application/vnd.jupyter.widget-view+json": {
       "model_id": "c430c0fe2a6a4f45a6b15cf6a6266c70",
       "version_major": 2,
       "version_minor": 0
      },
      "text/plain": [
       "  0%|          | 0/456 [00:00<?, ?it/s]"
      ]
     },
     "metadata": {},
     "output_type": "display_data"
    },
    {
     "name": "stdout",
     "output_type": "stream",
     "text": [
      "34 is not in list\n",
      "Atoms(symbols='Br2', pbc=True, cell=[11.532000000000002, 11.533000000000001, 11.534000000000002])\n"
     ]
    },
    {
     "data": {
      "application/vnd.jupyter.widget-view+json": {
       "model_id": "adc60afc577747f4ab184e8bc4ec889e",
       "version_major": 2,
       "version_minor": 0
      },
      "text/plain": [
       "  0%|          | 0/468 [00:00<?, ?it/s]"
      ]
     },
     "metadata": {},
     "output_type": "display_data"
    },
    {
     "name": "stdout",
     "output_type": "stream",
     "text": [
      "Atoms(symbols='Kr2', pbc=True, cell=[13.950000000000001, 13.951, 13.952000000000002])\n"
     ]
    },
    {
     "data": {
      "application/vnd.jupyter.widget-view+json": {
       "model_id": "a7c29ad28c4148e8899542b0dbf542a4",
       "version_major": 2,
       "version_minor": 0
      },
      "text/plain": [
       "  0%|          | 0/593 [00:00<?, ?it/s]"
      ]
     },
     "metadata": {},
     "output_type": "display_data"
    },
    {
     "name": "stdout",
     "output_type": "stream",
     "text": [
      "36 is not in list\n",
      "Atoms(symbols='Rb2', pbc=True, cell=[19.902, 19.903000000000002, 19.904])\n"
     ]
    },
    {
     "data": {
      "application/vnd.jupyter.widget-view+json": {
       "model_id": "54d89e170cca451c8c3f04f7c921c1c4",
       "version_major": 2,
       "version_minor": 0
      },
      "text/plain": [
       "  0%|          | 0/797 [00:00<?, ?it/s]"
      ]
     },
     "metadata": {},
     "output_type": "display_data"
    },
    {
     "name": "stdout",
     "output_type": "stream",
     "text": [
      "37 is not in list\n",
      "Atoms(symbols='Sr2', pbc=True, cell=[17.608, 17.609, 17.61])\n"
     ]
    },
    {
     "data": {
      "application/vnd.jupyter.widget-view+json": {
       "model_id": "3108baf3f8ae40069fb5c5d282eb45f0",
       "version_major": 2,
       "version_minor": 0
      },
      "text/plain": [
       "  0%|          | 0/704 [00:00<?, ?it/s]"
      ]
     },
     "metadata": {},
     "output_type": "display_data"
    },
    {
     "name": "stdout",
     "output_type": "stream",
     "text": [
      "38 is not in list\n",
      "Atoms(symbols='Y2', pbc=True, cell=[17.05, 17.051000000000002, 17.052])\n"
     ]
    },
    {
     "data": {
      "application/vnd.jupyter.widget-view+json": {
       "model_id": "f83629d595504b658a703122591784a1",
       "version_major": 2,
       "version_minor": 0
      },
      "text/plain": [
       "  0%|          | 0/681 [00:00<?, ?it/s]"
      ]
     },
     "metadata": {},
     "output_type": "display_data"
    },
    {
     "name": "stdout",
     "output_type": "stream",
     "text": [
      "39 is not in list\n",
      "Atoms(symbols='Zr2', pbc=True, cell=[15.624, 15.625, 15.626000000000001])\n"
     ]
    },
    {
     "data": {
      "application/vnd.jupyter.widget-view+json": {
       "model_id": "31f0e507a3414cde8f21821b16eae5ca",
       "version_major": 2,
       "version_minor": 0
      },
      "text/plain": [
       "  0%|          | 0/623 [00:00<?, ?it/s]"
      ]
     },
     "metadata": {},
     "output_type": "display_data"
    },
    {
     "name": "stdout",
     "output_type": "stream",
     "text": [
      "40 is not in list\n",
      "Atoms(symbols='Nb2', pbc=True, cell=[15.872000000000002, 15.873000000000001, 15.874000000000002])\n"
     ]
    },
    {
     "data": {
      "application/vnd.jupyter.widget-view+json": {
       "model_id": "25d1d0e58c5948b7af0bf6435f32a5af",
       "version_major": 2,
       "version_minor": 0
      },
      "text/plain": [
       "  0%|          | 0/646 [00:00<?, ?it/s]"
      ]
     },
     "metadata": {},
     "output_type": "display_data"
    },
    {
     "name": "stdout",
     "output_type": "stream",
     "text": [
      "41 is not in list\n",
      "Atoms(symbols='Mo2', pbc=True, cell=[15.190000000000001, 15.191, 15.192000000000002])\n"
     ]
    },
    {
     "data": {
      "application/vnd.jupyter.widget-view+json": {
       "model_id": "f0fa99be9cb04af081dcb4ce3d7728f2",
       "version_major": 2,
       "version_minor": 0
      },
      "text/plain": [
       "  0%|          | 0/620 [00:00<?, ?it/s]"
      ]
     },
     "metadata": {},
     "output_type": "display_data"
    },
    {
     "name": "stdout",
     "output_type": "stream",
     "text": [
      "42 is not in list\n",
      "Atoms(symbols='Tc2', pbc=True, cell=[15.128, 15.129, 15.13])\n"
     ]
    },
    {
     "data": {
      "application/vnd.jupyter.widget-view+json": {
       "model_id": "937365c9a05a4cabb90e4f56bf63ad51",
       "version_major": 2,
       "version_minor": 0
      },
      "text/plain": [
       "  0%|          | 0/624 [00:00<?, ?it/s]"
      ]
     },
     "metadata": {},
     "output_type": "display_data"
    },
    {
     "name": "stdout",
     "output_type": "stream",
     "text": [
      "43 is not in list\n",
      "Atoms(symbols='Ru2', pbc=True, cell=[15.252, 15.253, 15.254000000000001])\n"
     ]
    },
    {
     "data": {
      "application/vnd.jupyter.widget-view+json": {
       "model_id": "0aa4efe49e48493c974959853942d76b",
       "version_major": 2,
       "version_minor": 0
      },
      "text/plain": [
       "  0%|          | 0/631 [00:00<?, ?it/s]"
      ]
     },
     "metadata": {},
     "output_type": "display_data"
    },
    {
     "name": "stdout",
     "output_type": "stream",
     "text": [
      "44 is not in list\n",
      "Atoms(symbols='Rh2', pbc=True, cell=[15.128, 15.129, 15.13])\n"
     ]
    },
    {
     "data": {
      "application/vnd.jupyter.widget-view+json": {
       "model_id": "dec48a374ed7401d91cbe262d527e39c",
       "version_major": 2,
       "version_minor": 0
      },
      "text/plain": [
       "  0%|          | 0/628 [00:00<?, ?it/s]"
      ]
     },
     "metadata": {},
     "output_type": "display_data"
    },
    {
     "name": "stdout",
     "output_type": "stream",
     "text": [
      "45 is not in list\n",
      "Atoms(symbols='Pd2', pbc=True, cell=[13.33, 13.331, 13.332])\n"
     ]
    },
    {
     "data": {
      "application/vnd.jupyter.widget-view+json": {
       "model_id": "85b8216dcd1b4178b56d9ae347782b99",
       "version_major": 2,
       "version_minor": 0
      },
      "text/plain": [
       "  0%|          | 0/541 [00:00<?, ?it/s]"
      ]
     },
     "metadata": {},
     "output_type": "display_data"
    },
    {
     "name": "stdout",
     "output_type": "stream",
     "text": [
      "46 is not in list\n",
      "Atoms(symbols='Ag2', pbc=True, cell=[15.686, 15.687, 15.688])\n"
     ]
    },
    {
     "data": {
      "application/vnd.jupyter.widget-view+json": {
       "model_id": "bb01328f2d7e4e2cae40113d6d5bd9d6",
       "version_major": 2,
       "version_minor": 0
      },
      "text/plain": [
       "  0%|          | 0/653 [00:00<?, ?it/s]"
      ]
     },
     "metadata": {},
     "output_type": "display_data"
    },
    {
     "name": "stdout",
     "output_type": "stream",
     "text": [
      "47 is not in list\n",
      "Atoms(symbols='Cd2', pbc=True, cell=[15.438000000000002, 15.439000000000002, 15.440000000000003])\n"
     ]
    },
    {
     "data": {
      "application/vnd.jupyter.widget-view+json": {
       "model_id": "3d01ff97a4d143c687c9bdb1c3a9c849",
       "version_major": 2,
       "version_minor": 0
      },
      "text/plain": [
       "  0%|          | 0/642 [00:00<?, ?it/s]"
      ]
     },
     "metadata": {},
     "output_type": "display_data"
    },
    {
     "name": "stdout",
     "output_type": "stream",
     "text": [
      "48 is not in list\n",
      "Atoms(symbols='In2', pbc=True, cell=[15.066, 15.067, 15.068000000000001])\n"
     ]
    },
    {
     "data": {
      "application/vnd.jupyter.widget-view+json": {
       "model_id": "4a5d8d48ed684b9b94d18146443f6b8b",
       "version_major": 2,
       "version_minor": 0
      },
      "text/plain": [
       "  0%|          | 0/625 [00:00<?, ?it/s]"
      ]
     },
     "metadata": {},
     "output_type": "display_data"
    },
    {
     "name": "stdout",
     "output_type": "stream",
     "text": [
      "49 is not in list\n",
      "Atoms(symbols='Sn2', pbc=True, cell=[15.004, 15.004999999999999, 15.006])\n"
     ]
    },
    {
     "data": {
      "application/vnd.jupyter.widget-view+json": {
       "model_id": "f42b59ee5d74427088ed03dda2be8987",
       "version_major": 2,
       "version_minor": 0
      },
      "text/plain": [
       "  0%|          | 0/625 [00:00<?, ?it/s]"
      ]
     },
     "metadata": {},
     "output_type": "display_data"
    },
    {
     "name": "stdout",
     "output_type": "stream",
     "text": [
      "50 is not in list\n",
      "Atoms(symbols='Sb2', pbc=True, cell=[15.314000000000002, 15.315000000000001, 15.316000000000003])\n"
     ]
    },
    {
     "data": {
      "application/vnd.jupyter.widget-view+json": {
       "model_id": "720434d9f6fe4cbaada16a5bb1ec6450",
       "version_major": 2,
       "version_minor": 0
      },
      "text/plain": [
       "  0%|          | 0/640 [00:00<?, ?it/s]"
      ]
     },
     "metadata": {},
     "output_type": "display_data"
    },
    {
     "name": "stdout",
     "output_type": "stream",
     "text": [
      "51 is not in list\n",
      "Atoms(symbols='Te2', pbc=True, cell=[12.338000000000001, 12.339, 12.340000000000002])\n"
     ]
    },
    {
     "data": {
      "application/vnd.jupyter.widget-view+json": {
       "model_id": "53726bf903e545bc82afe94eb0cf233c",
       "version_major": 2,
       "version_minor": 0
      },
      "text/plain": [
       "  0%|          | 0/492 [00:00<?, ?it/s]"
      ]
     },
     "metadata": {},
     "output_type": "display_data"
    },
    {
     "name": "stdout",
     "output_type": "stream",
     "text": [
      "52 is not in list\n",
      "Atoms(symbols='I2', pbc=True, cell=[12.648000000000001, 12.649000000000001, 12.650000000000002])\n"
     ]
    },
    {
     "data": {
      "application/vnd.jupyter.widget-view+json": {
       "model_id": "bc018829104e4b719a12870c7ddfc89e",
       "version_major": 2,
       "version_minor": 0
      },
      "text/plain": [
       "  0%|          | 0/507 [00:00<?, ?it/s]"
      ]
     },
     "metadata": {},
     "output_type": "display_data"
    },
    {
     "name": "stdout",
     "output_type": "stream",
     "text": [
      "Atoms(symbols='Xe2', pbc=True, cell=[12.772, 12.773, 12.774000000000001])\n"
     ]
    },
    {
     "data": {
      "application/vnd.jupyter.widget-view+json": {
       "model_id": "9cece0b309864ddb83616ae5447e1971",
       "version_major": 2,
       "version_minor": 0
      },
      "text/plain": [
       "  0%|          | 0/512 [00:00<?, ?it/s]"
      ]
     },
     "metadata": {},
     "output_type": "display_data"
    },
    {
     "name": "stdout",
     "output_type": "stream",
     "text": [
      "54 is not in list\n",
      "Atoms(symbols='Cs2', pbc=True, cell=[21.576, 21.577, 21.578])\n"
     ]
    },
    {
     "data": {
      "application/vnd.jupyter.widget-view+json": {
       "model_id": "eb4596c6422b4318a71b912aeca8e47d",
       "version_major": 2,
       "version_minor": 0
      },
      "text/plain": [
       "  0%|          | 0/859 [00:00<?, ?it/s]"
      ]
     },
     "metadata": {},
     "output_type": "display_data"
    },
    {
     "name": "stdout",
     "output_type": "stream",
     "text": [
      "55 is not in list\n",
      "Atoms(symbols='Ba2', pbc=True, cell=[18.785999999999998, 18.787, 18.787999999999997])\n"
     ]
    },
    {
     "data": {
      "application/vnd.jupyter.widget-view+json": {
       "model_id": "54e7da5565bf45459b919b1084bb1032",
       "version_major": 2,
       "version_minor": 0
      },
      "text/plain": [
       "  0%|          | 0/745 [00:00<?, ?it/s]"
      ]
     },
     "metadata": {},
     "output_type": "display_data"
    },
    {
     "name": "stdout",
     "output_type": "stream",
     "text": [
      "56 is not in list\n",
      "Atoms(symbols='La2', pbc=True, cell=[18.476, 18.477, 18.477999999999998])\n"
     ]
    },
    {
     "data": {
      "application/vnd.jupyter.widget-view+json": {
       "model_id": "9cf99aa57c9144729661e4ed75a49034",
       "version_major": 2,
       "version_minor": 0
      },
      "text/plain": [
       "  0%|          | 0/737 [00:00<?, ?it/s]"
      ]
     },
     "metadata": {},
     "output_type": "display_data"
    },
    {
     "name": "stdout",
     "output_type": "stream",
     "text": [
      "57 is not in list\n",
      "Atoms(symbols='Ce2', pbc=True, cell=[17.855999999999998, 17.857, 17.857999999999997])\n"
     ]
    },
    {
     "data": {
      "application/vnd.jupyter.widget-view+json": {
       "model_id": "892378b456c349daa06ce702064620bd",
       "version_major": 2,
       "version_minor": 0
      },
      "text/plain": [
       "  0%|          | 0/709 [00:00<?, ?it/s]"
      ]
     },
     "metadata": {},
     "output_type": "display_data"
    },
    {
     "name": "stdout",
     "output_type": "stream",
     "text": [
      "58 is not in list\n",
      "Atoms(symbols='Pr2', pbc=True, cell=[18.104, 18.105, 18.105999999999998])\n"
     ]
    },
    {
     "data": {
      "application/vnd.jupyter.widget-view+json": {
       "model_id": "896a935ef0df4527a8b386c63d407889",
       "version_major": 2,
       "version_minor": 0
      },
      "text/plain": [
       "  0%|          | 0/722 [00:00<?, ?it/s]"
      ]
     },
     "metadata": {},
     "output_type": "display_data"
    },
    {
     "name": "stdout",
     "output_type": "stream",
     "text": [
      "59 is not in list\n",
      "Atoms(symbols='Nd2', pbc=True, cell=[18.290000000000003, 18.291000000000004, 18.292])\n"
     ]
    },
    {
     "data": {
      "application/vnd.jupyter.widget-view+json": {
       "model_id": "d1571b3ca8494d20a58d951a10171c32",
       "version_major": 2,
       "version_minor": 0
      },
      "text/plain": [
       "  0%|          | 0/733 [00:00<?, ?it/s]"
      ]
     },
     "metadata": {},
     "output_type": "display_data"
    },
    {
     "name": "stdout",
     "output_type": "stream",
     "text": [
      "60 is not in list\n",
      "Atoms(symbols='Pm2', pbc=True, cell=[12.0, 12.001, 12.002])\n"
     ]
    },
    {
     "data": {
      "application/vnd.jupyter.widget-view+json": {
       "model_id": "5a19cdefec1e47baa7d7db6f233263d7",
       "version_major": 2,
       "version_minor": 0
      },
      "text/plain": [
       "  0%|          | 0/420 [00:00<?, ?it/s]"
      ]
     },
     "metadata": {},
     "output_type": "display_data"
    },
    {
     "name": "stdout",
     "output_type": "stream",
     "text": [
      "61 is not in list\n",
      "Atoms(symbols='Sm2', pbc=True, cell=[17.98, 17.981, 17.982])\n"
     ]
    },
    {
     "data": {
      "application/vnd.jupyter.widget-view+json": {
       "model_id": "41a2fdd56f8243a8b67d7a9a1d6667f3",
       "version_major": 2,
       "version_minor": 0
      },
      "text/plain": [
       "  0%|          | 0/720 [00:00<?, ?it/s]"
      ]
     },
     "metadata": {},
     "output_type": "display_data"
    },
    {
     "name": "stdout",
     "output_type": "stream",
     "text": [
      "62 is not in list\n",
      "Atoms(symbols='Eu2', pbc=True, cell=[17.794, 17.795, 17.796])\n"
     ]
    },
    {
     "data": {
      "application/vnd.jupyter.widget-view+json": {
       "model_id": "83e7045b2cf947ae81cfa3bb0139bf07",
       "version_major": 2,
       "version_minor": 0
      },
      "text/plain": [
       "  0%|          | 0/711 [00:00<?, ?it/s]"
      ]
     },
     "metadata": {},
     "output_type": "display_data"
    },
    {
     "name": "stdout",
     "output_type": "stream",
     "text": [
      "63 is not in list\n",
      "Atoms(symbols='Gd2', pbc=True, cell=[17.546, 17.547, 17.548])\n"
     ]
    },
    {
     "data": {
      "application/vnd.jupyter.widget-view+json": {
       "model_id": "76738693289543c3b6ef87521e14fe60",
       "version_major": 2,
       "version_minor": 0
      },
      "text/plain": [
       "  0%|          | 0/700 [00:00<?, ?it/s]"
      ]
     },
     "metadata": {},
     "output_type": "display_data"
    },
    {
     "name": "stdout",
     "output_type": "stream",
     "text": [
      "64 is not in list\n",
      "Atoms(symbols='Tb2', pbc=True, cell=[17.298000000000002, 17.299000000000003, 17.3])\n"
     ]
    },
    {
     "data": {
      "application/vnd.jupyter.widget-view+json": {
       "model_id": "9e1624f09df54e1088fbea1196661e81",
       "version_major": 2,
       "version_minor": 0
      },
      "text/plain": [
       "  0%|          | 0/690 [00:00<?, ?it/s]"
      ]
     },
     "metadata": {},
     "output_type": "display_data"
    },
    {
     "name": "stdout",
     "output_type": "stream",
     "text": [
      "65 is not in list\n",
      "Atoms(symbols='Dy2', pbc=True, cell=[17.794, 17.795, 17.796])\n"
     ]
    },
    {
     "data": {
      "application/vnd.jupyter.widget-view+json": {
       "model_id": "b9548f8076484c6bad28ce9b43dc1f51",
       "version_major": 2,
       "version_minor": 0
      },
      "text/plain": [
       "  0%|          | 0/716 [00:00<?, ?it/s]"
      ]
     },
     "metadata": {},
     "output_type": "display_data"
    },
    {
     "name": "stdout",
     "output_type": "stream",
     "text": [
      "66 is not in list\n",
      "Atoms(symbols='Ho2', pbc=True, cell=[17.422, 17.423000000000002, 17.424])\n"
     ]
    },
    {
     "data": {
      "application/vnd.jupyter.widget-view+json": {
       "model_id": "0ca06149ad4b4876a9def18a2b29ac88",
       "version_major": 2,
       "version_minor": 0
      },
      "text/plain": [
       "  0%|          | 0/698 [00:00<?, ?it/s]"
      ]
     },
     "metadata": {},
     "output_type": "display_data"
    },
    {
     "name": "stdout",
     "output_type": "stream",
     "text": [
      "67 is not in list\n",
      "Atoms(symbols='Er2', pbc=True, cell=[17.546, 17.547, 17.548])\n"
     ]
    },
    {
     "data": {
      "application/vnd.jupyter.widget-view+json": {
       "model_id": "b923c7e24849445ea3619bf203c14a1e",
       "version_major": 2,
       "version_minor": 0
      },
      "text/plain": [
       "  0%|          | 0/707 [00:00<?, ?it/s]"
      ]
     },
     "metadata": {},
     "output_type": "display_data"
    },
    {
     "name": "stdout",
     "output_type": "stream",
     "text": [
      "68 is not in list\n",
      "Atoms(symbols='Tm2', pbc=True, cell=[17.298000000000002, 17.299000000000003, 17.3])\n"
     ]
    },
    {
     "data": {
      "application/vnd.jupyter.widget-view+json": {
       "model_id": "92ee1257d30943b38373db07749c35ce",
       "version_major": 2,
       "version_minor": 0
      },
      "text/plain": [
       "  0%|          | 0/693 [00:00<?, ?it/s]"
      ]
     },
     "metadata": {},
     "output_type": "display_data"
    },
    {
     "name": "stdout",
     "output_type": "stream",
     "text": [
      "69 is not in list\n",
      "Atoms(symbols='Yb2', pbc=True, cell=[17.36, 17.361, 17.362])\n"
     ]
    },
    {
     "data": {
      "application/vnd.jupyter.widget-view+json": {
       "model_id": "5d1380c902964aacb8981bb53faf00f1",
       "version_major": 2,
       "version_minor": 0
      },
      "text/plain": [
       "  0%|          | 0/699 [00:00<?, ?it/s]"
      ]
     },
     "metadata": {},
     "output_type": "display_data"
    },
    {
     "name": "stdout",
     "output_type": "stream",
     "text": [
      "70 is not in list\n",
      "Atoms(symbols='Lu2', pbc=True, cell=[16.988000000000003, 16.989000000000004, 16.990000000000002])\n"
     ]
    },
    {
     "data": {
      "application/vnd.jupyter.widget-view+json": {
       "model_id": "3c60668859374504943b502ea974534c",
       "version_major": 2,
       "version_minor": 0
      },
      "text/plain": [
       "  0%|          | 0/681 [00:00<?, ?it/s]"
      ]
     },
     "metadata": {},
     "output_type": "display_data"
    },
    {
     "name": "stdout",
     "output_type": "stream",
     "text": [
      "71 is not in list\n",
      "Atoms(symbols='Hf2', pbc=True, cell=[16.306, 16.307000000000002, 16.308])\n"
     ]
    },
    {
     "data": {
      "application/vnd.jupyter.widget-view+json": {
       "model_id": "298112ab16804d8ca58858ff1f20b9a0",
       "version_major": 2,
       "version_minor": 0
      },
      "text/plain": [
       "  0%|          | 0/657 [00:00<?, ?it/s]"
      ]
     },
     "metadata": {},
     "output_type": "display_data"
    },
    {
     "name": "stdout",
     "output_type": "stream",
     "text": [
      "72 is not in list\n",
      "Atoms(symbols='Ta2', pbc=True, cell=[15.686, 15.687, 15.688])\n"
     ]
    },
    {
     "data": {
      "application/vnd.jupyter.widget-view+json": {
       "model_id": "3c5e86ee10e045e5a89d9e75882b5d94",
       "version_major": 2,
       "version_minor": 0
      },
      "text/plain": [
       "  0%|          | 0/631 [00:00<?, ?it/s]"
      ]
     },
     "metadata": {},
     "output_type": "display_data"
    },
    {
     "name": "stdout",
     "output_type": "stream",
     "text": [
      "73 is not in list\n",
      "Atoms(symbols='W2', pbc=True, cell=[15.934, 15.934999999999999, 15.936])\n"
     ]
    },
    {
     "data": {
      "application/vnd.jupyter.widget-view+json": {
       "model_id": "423d9d78ce8b49df8ddaf756ffdbeb88",
       "version_major": 2,
       "version_minor": 0
      },
      "text/plain": [
       "  0%|          | 0/650 [00:00<?, ?it/s]"
      ]
     },
     "metadata": {},
     "output_type": "display_data"
    },
    {
     "name": "stdout",
     "output_type": "stream",
     "text": [
      "74 is not in list\n",
      "Atoms(symbols='Re2', pbc=True, cell=[15.438000000000002, 15.439000000000002, 15.440000000000003])\n"
     ]
    },
    {
     "data": {
      "application/vnd.jupyter.widget-view+json": {
       "model_id": "cca05a5f87b5459a8b9528801eac5352",
       "version_major": 2,
       "version_minor": 0
      },
      "text/plain": [
       "  0%|          | 0/636 [00:00<?, ?it/s]"
      ]
     },
     "metadata": {},
     "output_type": "display_data"
    },
    {
     "name": "stdout",
     "output_type": "stream",
     "text": [
      "75 is not in list\n",
      "Atoms(symbols='Os2', pbc=True, cell=[15.376, 15.376999999999999, 15.378])\n"
     ]
    },
    {
     "data": {
      "application/vnd.jupyter.widget-view+json": {
       "model_id": "cf8ff0747782479e9a77375a1343bf17",
       "version_major": 2,
       "version_minor": 0
      },
      "text/plain": [
       "  0%|          | 0/639 [00:00<?, ?it/s]"
      ]
     },
     "metadata": {},
     "output_type": "display_data"
    },
    {
     "name": "stdout",
     "output_type": "stream",
     "text": [
      "76 is not in list\n",
      "Atoms(symbols='Ir2', pbc=True, cell=[14.942000000000002, 14.943000000000001, 14.944000000000003])\n"
     ]
    },
    {
     "data": {
      "application/vnd.jupyter.widget-view+json": {
       "model_id": "45208b327918488b8b346f52440e16e3",
       "version_major": 2,
       "version_minor": 0
      },
      "text/plain": [
       "  0%|          | 0/620 [00:00<?, ?it/s]"
      ]
     },
     "metadata": {},
     "output_type": "display_data"
    },
    {
     "name": "stdout",
     "output_type": "stream",
     "text": [
      "77 is not in list\n",
      "Atoms(symbols='Pt2', pbc=True, cell=[14.198, 14.199, 14.200000000000001])\n"
     ]
    },
    {
     "data": {
      "application/vnd.jupyter.widget-view+json": {
       "model_id": "c5b01dcc37124116b16530e077ad6d97",
       "version_major": 2,
       "version_minor": 0
      },
      "text/plain": [
       "  0%|          | 0/587 [00:00<?, ?it/s]"
      ]
     },
     "metadata": {},
     "output_type": "display_data"
    },
    {
     "name": "stdout",
     "output_type": "stream",
     "text": [
      "78 is not in list\n",
      "Atoms(symbols='Au2', pbc=True, cell=[14.383999999999999, 14.384999999999998, 14.386])\n"
     ]
    },
    {
     "data": {
      "application/vnd.jupyter.widget-view+json": {
       "model_id": "7048662f5a784355b08232fc16320365",
       "version_major": 2,
       "version_minor": 0
      },
      "text/plain": [
       "  0%|          | 0/596 [00:00<?, ?it/s]"
      ]
     },
     "metadata": {},
     "output_type": "display_data"
    },
    {
     "name": "stdout",
     "output_type": "stream",
     "text": [
      "79 is not in list\n",
      "Atoms(symbols='Hg2', pbc=True, cell=[15.190000000000001, 15.191, 15.192000000000002])\n"
     ]
    },
    {
     "data": {
      "application/vnd.jupyter.widget-view+json": {
       "model_id": "b540a851229e4671b03a9955919fba60",
       "version_major": 2,
       "version_minor": 0
      },
      "text/plain": [
       "  0%|          | 0/640 [00:00<?, ?it/s]"
      ]
     },
     "metadata": {},
     "output_type": "display_data"
    },
    {
     "name": "stdout",
     "output_type": "stream",
     "text": [
      "80 is not in list\n",
      "Atoms(symbols='Tl2', pbc=True, cell=[15.314000000000002, 15.315000000000001, 15.316000000000003])\n"
     ]
    },
    {
     "data": {
      "application/vnd.jupyter.widget-view+json": {
       "model_id": "de413df4d43d4ecab478f88217612a33",
       "version_major": 2,
       "version_minor": 0
      },
      "text/plain": [
       "  0%|          | 0/635 [00:00<?, ?it/s]"
      ]
     },
     "metadata": {},
     "output_type": "display_data"
    },
    {
     "name": "stdout",
     "output_type": "stream",
     "text": [
      "81 is not in list\n",
      "Atoms(symbols='Pb2', pbc=True, cell=[16.12, 16.121000000000002, 16.122])\n"
     ]
    },
    {
     "data": {
      "application/vnd.jupyter.widget-view+json": {
       "model_id": "a3da5c3e1e4844ee8745784f5581c9c9",
       "version_major": 2,
       "version_minor": 0
      },
      "text/plain": [
       "  0%|          | 0/674 [00:00<?, ?it/s]"
      ]
     },
     "metadata": {},
     "output_type": "display_data"
    },
    {
     "name": "stdout",
     "output_type": "stream",
     "text": [
      "82 is not in list\n",
      "Atoms(symbols='Bi2', pbc=True, cell=[15.748000000000001, 15.749, 15.750000000000002])\n"
     ]
    },
    {
     "data": {
      "application/vnd.jupyter.widget-view+json": {
       "model_id": "84760d2ada42494b858dfcf6d39b476d",
       "version_major": 2,
       "version_minor": 0
      },
      "text/plain": [
       "  0%|          | 0/654 [00:00<?, ?it/s]"
      ]
     },
     "metadata": {},
     "output_type": "display_data"
    },
    {
     "name": "stdout",
     "output_type": "stream",
     "text": [
      "83 is not in list\n",
      "Atoms(symbols='Po2', pbc=True, cell=[12.0, 12.001, 12.002])\n"
     ]
    },
    {
     "data": {
      "application/vnd.jupyter.widget-view+json": {
       "model_id": "f01183fb7b724696a64c0f777420d8fe",
       "version_major": 2,
       "version_minor": 0
      },
      "text/plain": [
       "  0%|          | 0/474 [00:00<?, ?it/s]"
      ]
     },
     "metadata": {},
     "output_type": "display_data"
    },
    {
     "name": "stdout",
     "output_type": "stream",
     "text": [
      "84 is not in list\n",
      "Atoms(symbols='At2', pbc=True, cell=[12.0, 12.001, 12.002])\n"
     ]
    },
    {
     "data": {
      "application/vnd.jupyter.widget-view+json": {
       "model_id": "fce4419e5e2140a6b0b808088cf59e48",
       "version_major": 2,
       "version_minor": 0
      },
      "text/plain": [
       "  0%|          | 0/465 [00:00<?, ?it/s]"
      ]
     },
     "metadata": {},
     "output_type": "display_data"
    },
    {
     "name": "stdout",
     "output_type": "stream",
     "text": [
      "85 is not in list\n",
      "Atoms(symbols='Rn2', pbc=True, cell=[12.0, 12.001, 12.002])\n"
     ]
    },
    {
     "data": {
      "application/vnd.jupyter.widget-view+json": {
       "model_id": "865e6262d40c4fc1938209464a06643d",
       "version_major": 2,
       "version_minor": 0
      },
      "text/plain": [
       "  0%|          | 0/465 [00:00<?, ?it/s]"
      ]
     },
     "metadata": {},
     "output_type": "display_data"
    },
    {
     "name": "stdout",
     "output_type": "stream",
     "text": [
      "86 is not in list\n",
      "Atoms(symbols='Fr2', pbc=True, cell=[12.0, 12.001, 12.002])\n"
     ]
    },
    {
     "data": {
      "application/vnd.jupyter.widget-view+json": {
       "model_id": "707c38a2ba64490bb1402d39fd9c52d4",
       "version_major": 2,
       "version_minor": 0
      },
      "text/plain": [
       "  0%|          | 0/365 [00:00<?, ?it/s]"
      ]
     },
     "metadata": {},
     "output_type": "display_data"
    },
    {
     "name": "stdout",
     "output_type": "stream",
     "text": [
      "87 is not in list\n",
      "Atoms(symbols='Ra2', pbc=True, cell=[12.0, 12.001, 12.002])\n"
     ]
    },
    {
     "data": {
      "application/vnd.jupyter.widget-view+json": {
       "model_id": "fb5e8b261d7c411dafc1f87eff2df6d1",
       "version_major": 2,
       "version_minor": 0
      },
      "text/plain": [
       "  0%|          | 0/401 [00:00<?, ?it/s]"
      ]
     },
     "metadata": {},
     "output_type": "display_data"
    },
    {
     "name": "stdout",
     "output_type": "stream",
     "text": [
      "88 is not in list\n",
      "Atoms(symbols='Ac2', pbc=True, cell=[17.36, 17.361, 17.362])\n"
     ]
    },
    {
     "data": {
      "application/vnd.jupyter.widget-view+json": {
       "model_id": "e6f30f30f7f54d7297c7a53ab239258f",
       "version_major": 2,
       "version_minor": 0
      },
      "text/plain": [
       "  0%|          | 0/674 [00:00<?, ?it/s]"
      ]
     },
     "metadata": {},
     "output_type": "display_data"
    },
    {
     "name": "stdout",
     "output_type": "stream",
     "text": [
      "89 is not in list\n",
      "Atoms(symbols='Th2', pbc=True, cell=[18.166, 18.167, 18.168])\n"
     ]
    },
    {
     "data": {
      "application/vnd.jupyter.widget-view+json": {
       "model_id": "4fb9f03322f6499694f1b6dbf2113463",
       "version_major": 2,
       "version_minor": 0
      },
      "text/plain": [
       "  0%|          | 0/722 [00:00<?, ?it/s]"
      ]
     },
     "metadata": {},
     "output_type": "display_data"
    },
    {
     "name": "stdout",
     "output_type": "stream",
     "text": [
      "90 is not in list\n",
      "Atoms(symbols='Pa2', pbc=True, cell=[17.855999999999998, 17.857, 17.857999999999997])\n"
     ]
    },
    {
     "data": {
      "application/vnd.jupyter.widget-view+json": {
       "model_id": "54ac3a74c40b418b94608f5594b3d359",
       "version_major": 2,
       "version_minor": 0
      },
      "text/plain": [
       "  0%|          | 0/712 [00:00<?, ?it/s]"
      ]
     },
     "metadata": {},
     "output_type": "display_data"
    },
    {
     "name": "stdout",
     "output_type": "stream",
     "text": [
      "91 is not in list\n",
      "Atoms(symbols='U2', pbc=True, cell=[16.802, 16.803, 16.804])\n"
     ]
    },
    {
     "data": {
      "application/vnd.jupyter.widget-view+json": {
       "model_id": "f7840bcd21354066a323d0536e8ec8c4",
       "version_major": 2,
       "version_minor": 0
      },
      "text/plain": [
       "  0%|          | 0/663 [00:00<?, ?it/s]"
      ]
     },
     "metadata": {},
     "output_type": "display_data"
    },
    {
     "name": "stdout",
     "output_type": "stream",
     "text": [
      "92 is not in list\n",
      "Atoms(symbols='Np2', pbc=True, cell=[17.483999999999998, 17.485, 17.485999999999997])\n"
     ]
    },
    {
     "data": {
      "application/vnd.jupyter.widget-view+json": {
       "model_id": "b48fa322ffc74160a4b483cbffa2aa9b",
       "version_major": 2,
       "version_minor": 0
      },
      "text/plain": [
       "  0%|          | 0/703 [00:00<?, ?it/s]"
      ]
     },
     "metadata": {},
     "output_type": "display_data"
    },
    {
     "name": "stdout",
     "output_type": "stream",
     "text": [
      "93 is not in list\n",
      "Atoms(symbols='Pu2', pbc=True, cell=[17.422, 17.423000000000002, 17.424])\n"
     ]
    },
    {
     "data": {
      "application/vnd.jupyter.widget-view+json": {
       "model_id": "83ceecdbf5b648f1a530f46149790c9b",
       "version_major": 2,
       "version_minor": 0
      },
      "text/plain": [
       "  0%|          | 0/702 [00:00<?, ?it/s]"
      ]
     },
     "metadata": {},
     "output_type": "display_data"
    },
    {
     "name": "stdout",
     "output_type": "stream",
     "text": [
      "94 is not in list\n",
      "Atoms(symbols='Am2', pbc=True, cell=[17.546, 17.547, 17.548])\n"
     ]
    },
    {
     "data": {
      "application/vnd.jupyter.widget-view+json": {
       "model_id": "df3dbcf70c244c249e677c11078cbd52",
       "version_major": 2,
       "version_minor": 0
      },
      "text/plain": [
       "  0%|          | 0/715 [00:00<?, ?it/s]"
      ]
     },
     "metadata": {},
     "output_type": "display_data"
    },
    {
     "name": "stdout",
     "output_type": "stream",
     "text": [
      "95 is not in list\n",
      "Atoms(symbols='Cm2', pbc=True, cell=[18.91, 18.911, 18.912])\n"
     ]
    },
    {
     "data": {
      "application/vnd.jupyter.widget-view+json": {
       "model_id": "ea11a75aae8d43158103952ae9719b8a",
       "version_major": 2,
       "version_minor": 0
      },
      "text/plain": [
       "  0%|          | 0/793 [00:00<?, ?it/s]"
      ]
     },
     "metadata": {},
     "output_type": "display_data"
    },
    {
     "name": "stdout",
     "output_type": "stream",
     "text": [
      "96 is not in list\n",
      "Atoms(symbols='Bk2', pbc=True, cell=[21.08, 21.081, 21.081999999999997])\n"
     ]
    },
    {
     "data": {
      "application/vnd.jupyter.widget-view+json": {
       "model_id": "d894f668a8a3455baadd0e6882eb592c",
       "version_major": 2,
       "version_minor": 0
      },
      "text/plain": [
       "  0%|          | 0/1036 [00:00<?, ?it/s]"
      ]
     },
     "metadata": {},
     "output_type": "display_data"
    },
    {
     "name": "stdout",
     "output_type": "stream",
     "text": [
      "97 is not in list\n",
      "Atoms(symbols='Cf2', pbc=True, cell=[18.91, 18.911, 18.912])\n"
     ]
    },
    {
     "data": {
      "application/vnd.jupyter.widget-view+json": {
       "model_id": "c17ed1946a8643ce921a5dbb2597c5c0",
       "version_major": 2,
       "version_minor": 0
      },
      "text/plain": [
       "  0%|          | 0/927 [00:00<?, ?it/s]"
      ]
     },
     "metadata": {},
     "output_type": "display_data"
    },
    {
     "name": "stdout",
     "output_type": "stream",
     "text": [
      "98 is not in list\n",
      "Atoms(symbols='Es2', pbc=True, cell=[16.740000000000002, 16.741000000000003, 16.742])\n"
     ]
    },
    {
     "data": {
      "application/vnd.jupyter.widget-view+json": {
       "model_id": "baaf28096fbc4a37b46dfab7b1ff51d2",
       "version_major": 2,
       "version_minor": 0
      },
      "text/plain": [
       "  0%|          | 0/819 [00:00<?, ?it/s]"
      ]
     },
     "metadata": {},
     "output_type": "display_data"
    },
    {
     "name": "stdout",
     "output_type": "stream",
     "text": [
      "99 is not in list\n",
      "Atoms(symbols='Fm2', pbc=True, cell=[12.0, 12.001, 12.002])\n"
     ]
    },
    {
     "data": {
      "application/vnd.jupyter.widget-view+json": {
       "model_id": "6ae91484eae64b0bb8b804b6e1d0cd13",
       "version_major": 2,
       "version_minor": 0
      },
      "text/plain": [
       "  0%|          | 0/582 [00:00<?, ?it/s]"
      ]
     },
     "metadata": {},
     "output_type": "display_data"
    },
    {
     "name": "stdout",
     "output_type": "stream",
     "text": [
      "100 is not in list\n",
      "Atoms(symbols='Md2', pbc=True, cell=[12.0, 12.001, 12.002])\n"
     ]
    },
    {
     "data": {
      "application/vnd.jupyter.widget-view+json": {
       "model_id": "56eb7be027184430a41451a5b4b35489",
       "version_major": 2,
       "version_minor": 0
      },
      "text/plain": [
       "  0%|          | 0/582 [00:00<?, ?it/s]"
      ]
     },
     "metadata": {},
     "output_type": "display_data"
    },
    {
     "name": "stdout",
     "output_type": "stream",
     "text": [
      "101 is not in list\n",
      "Atoms(symbols='No2', pbc=True, cell=[12.0, 12.001, 12.002])\n"
     ]
    },
    {
     "data": {
      "application/vnd.jupyter.widget-view+json": {
       "model_id": "f2648f8226f2439ab06cb1123091d96e",
       "version_major": 2,
       "version_minor": 0
      },
      "text/plain": [
       "  0%|          | 0/582 [00:00<?, ?it/s]"
      ]
     },
     "metadata": {},
     "output_type": "display_data"
    },
    {
     "name": "stdout",
     "output_type": "stream",
     "text": [
      "102 is not in list\n",
      "Atoms(symbols='Lr2', pbc=True, cell=[12.0, 12.001, 12.002])\n"
     ]
    },
    {
     "data": {
      "application/vnd.jupyter.widget-view+json": {
       "model_id": "57d9a32acc164368b6454a93d1af32d2",
       "version_major": 2,
       "version_minor": 0
      },
      "text/plain": [
       "  0%|          | 0/582 [00:00<?, ?it/s]"
      ]
     },
     "metadata": {},
     "output_type": "display_data"
    },
    {
     "name": "stdout",
     "output_type": "stream",
     "text": [
      "103 is not in list\n",
      "Atoms(symbols='Rf2', pbc=True, cell=[12.0, 12.001, 12.002])\n"
     ]
    },
    {
     "data": {
      "application/vnd.jupyter.widget-view+json": {
       "model_id": "abc295ec44e947dabbecd002950da314",
       "version_major": 2,
       "version_minor": 0
      },
      "text/plain": [
       "  0%|          | 0/582 [00:00<?, ?it/s]"
      ]
     },
     "metadata": {},
     "output_type": "display_data"
    },
    {
     "name": "stdout",
     "output_type": "stream",
     "text": [
      "104 is not in list\n",
      "Atoms(symbols='Db2', pbc=True, cell=[12.0, 12.001, 12.002])\n"
     ]
    },
    {
     "data": {
      "application/vnd.jupyter.widget-view+json": {
       "model_id": "ea6ef834e6fc44fcbf6b1ab44ec379e3",
       "version_major": 2,
       "version_minor": 0
      },
      "text/plain": [
       "  0%|          | 0/582 [00:00<?, ?it/s]"
      ]
     },
     "metadata": {},
     "output_type": "display_data"
    },
    {
     "name": "stdout",
     "output_type": "stream",
     "text": [
      "105 is not in list\n",
      "Atoms(symbols='Sg2', pbc=True, cell=[12.0, 12.001, 12.002])\n"
     ]
    },
    {
     "data": {
      "application/vnd.jupyter.widget-view+json": {
       "model_id": "aaa35c274b08467e86b690c9697aedb7",
       "version_major": 2,
       "version_minor": 0
      },
      "text/plain": [
       "  0%|          | 0/582 [00:00<?, ?it/s]"
      ]
     },
     "metadata": {},
     "output_type": "display_data"
    },
    {
     "name": "stdout",
     "output_type": "stream",
     "text": [
      "106 is not in list\n",
      "Atoms(symbols='Bh2', pbc=True, cell=[12.0, 12.001, 12.002])\n"
     ]
    },
    {
     "data": {
      "application/vnd.jupyter.widget-view+json": {
       "model_id": "04a9d6f79b344f2d836ebd22e38cf5aa",
       "version_major": 2,
       "version_minor": 0
      },
      "text/plain": [
       "  0%|          | 0/582 [00:00<?, ?it/s]"
      ]
     },
     "metadata": {},
     "output_type": "display_data"
    },
    {
     "name": "stdout",
     "output_type": "stream",
     "text": [
      "107 is not in list\n",
      "Atoms(symbols='Hs2', pbc=True, cell=[12.0, 12.001, 12.002])\n"
     ]
    },
    {
     "data": {
      "application/vnd.jupyter.widget-view+json": {
       "model_id": "747b6cb9ffd045ffb64cb3e2295bea06",
       "version_major": 2,
       "version_minor": 0
      },
      "text/plain": [
       "  0%|          | 0/582 [00:00<?, ?it/s]"
      ]
     },
     "metadata": {},
     "output_type": "display_data"
    },
    {
     "name": "stdout",
     "output_type": "stream",
     "text": [
      "108 is not in list\n",
      "Atoms(symbols='Mt2', pbc=True, cell=[12.0, 12.001, 12.002])\n"
     ]
    },
    {
     "data": {
      "application/vnd.jupyter.widget-view+json": {
       "model_id": "5deb50644d58476cbe6b68866c6b513f",
       "version_major": 2,
       "version_minor": 0
      },
      "text/plain": [
       "  0%|          | 0/582 [00:00<?, ?it/s]"
      ]
     },
     "metadata": {},
     "output_type": "display_data"
    },
    {
     "name": "stdout",
     "output_type": "stream",
     "text": [
      "109 is not in list\n",
      "Atoms(symbols='Ds2', pbc=True, cell=[12.0, 12.001, 12.002])\n"
     ]
    },
    {
     "data": {
      "application/vnd.jupyter.widget-view+json": {
       "model_id": "c18cd8b6069e4fda917ab388fa8895a2",
       "version_major": 2,
       "version_minor": 0
      },
      "text/plain": [
       "  0%|          | 0/582 [00:00<?, ?it/s]"
      ]
     },
     "metadata": {},
     "output_type": "display_data"
    },
    {
     "name": "stdout",
     "output_type": "stream",
     "text": [
      "110 is not in list\n",
      "Atoms(symbols='Rg2', pbc=True, cell=[12.0, 12.001, 12.002])\n"
     ]
    },
    {
     "data": {
      "application/vnd.jupyter.widget-view+json": {
       "model_id": "54d0eaa9374e49af9bfa944f11dd944b",
       "version_major": 2,
       "version_minor": 0
      },
      "text/plain": [
       "  0%|          | 0/582 [00:00<?, ?it/s]"
      ]
     },
     "metadata": {},
     "output_type": "display_data"
    },
    {
     "name": "stdout",
     "output_type": "stream",
     "text": [
      "111 is not in list\n",
      "Atoms(symbols='Cn2', pbc=True, cell=[12.0, 12.001, 12.002])\n"
     ]
    },
    {
     "data": {
      "application/vnd.jupyter.widget-view+json": {
       "model_id": "9062ff7ef8004a91a83143148f6be4c3",
       "version_major": 2,
       "version_minor": 0
      },
      "text/plain": [
       "  0%|          | 0/582 [00:00<?, ?it/s]"
      ]
     },
     "metadata": {},
     "output_type": "display_data"
    },
    {
     "name": "stdout",
     "output_type": "stream",
     "text": [
      "112 is not in list\n",
      "Atoms(symbols='Nh2', pbc=True, cell=[12.0, 12.001, 12.002])\n"
     ]
    },
    {
     "data": {
      "application/vnd.jupyter.widget-view+json": {
       "model_id": "c6484bf80eb4445a83d0fbda39d96c76",
       "version_major": 2,
       "version_minor": 0
      },
      "text/plain": [
       "  0%|          | 0/582 [00:00<?, ?it/s]"
      ]
     },
     "metadata": {},
     "output_type": "display_data"
    },
    {
     "name": "stdout",
     "output_type": "stream",
     "text": [
      "113 is not in list\n",
      "Atoms(symbols='Fl2', pbc=True, cell=[12.0, 12.001, 12.002])\n"
     ]
    },
    {
     "data": {
      "application/vnd.jupyter.widget-view+json": {
       "model_id": "f6d31a7f18364512b2c9d6c5a40fa427",
       "version_major": 2,
       "version_minor": 0
      },
      "text/plain": [
       "  0%|          | 0/582 [00:00<?, ?it/s]"
      ]
     },
     "metadata": {},
     "output_type": "display_data"
    },
    {
     "name": "stdout",
     "output_type": "stream",
     "text": [
      "114 is not in list\n",
      "Atoms(symbols='Mc2', pbc=True, cell=[12.0, 12.001, 12.002])\n"
     ]
    },
    {
     "data": {
      "application/vnd.jupyter.widget-view+json": {
       "model_id": "ba8206f8afa74c68a68fb6c093c52e46",
       "version_major": 2,
       "version_minor": 0
      },
      "text/plain": [
       "  0%|          | 0/582 [00:00<?, ?it/s]"
      ]
     },
     "metadata": {},
     "output_type": "display_data"
    },
    {
     "name": "stdout",
     "output_type": "stream",
     "text": [
      "115 is not in list\n",
      "Atoms(symbols='Lv2', pbc=True, cell=[12.0, 12.001, 12.002])\n"
     ]
    },
    {
     "data": {
      "application/vnd.jupyter.widget-view+json": {
       "model_id": "ece8574e260446c593992e1acf7d10ea",
       "version_major": 2,
       "version_minor": 0
      },
      "text/plain": [
       "  0%|          | 0/582 [00:00<?, ?it/s]"
      ]
     },
     "metadata": {},
     "output_type": "display_data"
    },
    {
     "name": "stdout",
     "output_type": "stream",
     "text": [
      "116 is not in list\n",
      "Atoms(symbols='Ts2', pbc=True, cell=[12.0, 12.001, 12.002])\n"
     ]
    },
    {
     "data": {
      "application/vnd.jupyter.widget-view+json": {
       "model_id": "ca585859fce94007b174054465be99be",
       "version_major": 2,
       "version_minor": 0
      },
      "text/plain": [
       "  0%|          | 0/582 [00:00<?, ?it/s]"
      ]
     },
     "metadata": {},
     "output_type": "display_data"
    },
    {
     "name": "stdout",
     "output_type": "stream",
     "text": [
      "117 is not in list\n",
      "Atoms(symbols='Og2', pbc=True, cell=[12.0, 12.001, 12.002])\n"
     ]
    },
    {
     "data": {
      "application/vnd.jupyter.widget-view+json": {
       "model_id": "2730cd949b314eb4b9c7e01d383d0940",
       "version_major": 2,
       "version_minor": 0
      },
      "text/plain": [
       "  0%|          | 0/582 [00:00<?, ?it/s]"
      ]
     },
     "metadata": {},
     "output_type": "display_data"
    },
    {
     "name": "stdout",
     "output_type": "stream",
     "text": [
      "118 is not in list\n"
     ]
    }
   ],
   "source": [
    "for model in MLIPEnum:\n",
    "    \n",
    "    model_name = model.name\n",
    "    \n",
    "    json_fpath = Path(REGISTRY[model_name][\"family\"]) / \"homonuclear-diatomics.json\"\n",
    "    \n",
    "    if json_fpath.exists():\n",
    "        continue\n",
    "    \n",
    "    print(f\"========== {model_name} ==========\")\n",
    "\n",
    "    calc = MLIPEnum[model_name].value()\n",
    "\n",
    "    for symbol in tqdm(chemical_symbols[1:]):\n",
    "\n",
    "        s = set([symbol])\n",
    "\n",
    "        if \"X\" in s:\n",
    "            continue\n",
    "\n",
    "        try:\n",
    "            atom = Atom(symbol)\n",
    "            rmin = 0.9 * covalent_radii[atom.number]\n",
    "            rvdw = vdw_alvarez.vdw_radii[atom.number] if atom.number < len(vdw_alvarez.vdw_radii) else np.nan\n",
    "            rmax = 3.1 * rvdw if not np.isnan(rvdw) else 6\n",
    "            rstep = 0.01\n",
    "\n",
    "            a = 2 * rmax\n",
    "\n",
    "            npts = int((rmax - rmin)/rstep)\n",
    "\n",
    "            rs = np.linspace(rmin, rmax, npts)\n",
    "            es = np.zeros_like(rs)\n",
    "\n",
    "            da = symbol + symbol\n",
    "\n",
    "            out_dir = Path(REGISTRY[model_name][\"family\"]) / str(da)\n",
    "            os.makedirs(out_dir, exist_ok=True)\n",
    "\n",
    "            skip = 0\n",
    "\n",
    "            element = Element(symbol)\n",
    "\n",
    "            try:\n",
    "                m = element.valence[1]\n",
    "                if element.valence == (0, 2):\n",
    "                    m = 0\n",
    "            except:\n",
    "                m = 0\n",
    "\n",
    "\n",
    "            r = rs[0]\n",
    "\n",
    "            positions = [\n",
    "                [a/2-r/2, a/2, a/2],\n",
    "                [a/2+r/2, a/2, a/2],\n",
    "            ]\n",
    "\n",
    "            traj_fpath = out_dir / f\"{model_name}.extxyz\"\n",
    "\n",
    "            if traj_fpath.exists():\n",
    "                traj = read(traj_fpath, index=\":\")\n",
    "                skip = len(traj)\n",
    "                atoms = traj[-1]\n",
    "            else:\n",
    "                # Create the unit cell with two atoms\n",
    "                atoms = Atoms(\n",
    "                    da,\n",
    "                    positions=positions,\n",
    "                    # magmoms=magmoms,\n",
    "                    cell=[a, a+0.001, a+0.002],\n",
    "                    pbc=True\n",
    "                )\n",
    "\n",
    "            print(atoms)\n",
    "\n",
    "            atoms.calc = calc\n",
    "\n",
    "            for i, r in enumerate(tqdm(rs)):\n",
    "\n",
    "                if i < skip:\n",
    "                    continue\n",
    "\n",
    "                positions = [\n",
    "                    [a/2-r/2, a/2, a/2],\n",
    "                    [a/2+r/2, a/2, a/2],\n",
    "                ]\n",
    "\n",
    "                # atoms.set_initial_magnetic_moments(magmoms)\n",
    "\n",
    "                atoms.set_positions(positions)\n",
    "\n",
    "                es[i] = atoms.get_potential_energy()\n",
    "\n",
    "                write(traj_fpath, atoms, append=\"a\")\n",
    "        except Exception as e:\n",
    "            print(e)\n"
   ]
  },
  {
   "cell_type": "code",
   "execution_count": 4,
   "id": "a0ac2c09-370b-4fdd-bf74-ea5c4ade0215",
   "metadata": {
    "tags": []
   },
   "outputs": [
    {
     "name": "stdout",
     "output_type": "stream",
     "text": [
      "========== MACE-MP(M) ==========\n"
     ]
    },
    {
     "data": {
      "application/vnd.jupyter.widget-view+json": {
       "model_id": "fd91fe7d9c4c455c80e8324bd9926ef8",
       "version_major": 2,
       "version_minor": 0
      },
      "text/plain": [
       "  0%|          | 0/118 [00:00<?, ?it/s]"
      ]
     },
     "metadata": {},
     "output_type": "display_data"
    },
    {
     "name": "stderr",
     "output_type": "stream",
     "text": [
      "/tmp/ipykernel_275368/4160231063.py:111: FutureWarning: The behavior of DataFrame concatenation with empty or all-NA entries is deprecated. In a future version, this will no longer exclude empty or all-NA columns when determining the result dtypes. To retain the old behavior, exclude the relevant entries before the concat operation.\n",
      "  df = pd.concat([df, pd.DataFrame([data])], ignore_index=True)\n",
      "/tmp/ipykernel_275368/4160231063.py:103: RuntimeWarning: invalid value encountered in scalar divide\n",
      "  \"tortuosity\": etv / (abs(es[0] - es.min()) + (es[-1] - es.min())),\n",
      "/tmp/ipykernel_275368/4160231063.py:105: ConstantInputWarning: An input array is constant; the correlation coefficient is not defined.\n",
      "  \"spearman-descending-force\": stats.spearmanr(rs[iminf:], fs[iminf:]).statistic,\n",
      "/tmp/ipykernel_275368/4160231063.py:107: ConstantInputWarning: An input array is constant; the correlation coefficient is not defined.\n",
      "  \"spearman-repulsion-energy\": stats.spearmanr(rs[imine:], es[imine:]).statistic,\n"
     ]
    },
    {
     "name": "stdout",
     "output_type": "stream",
     "text": [
      "========== CHGNet ==========\n"
     ]
    },
    {
     "data": {
      "application/vnd.jupyter.widget-view+json": {
       "model_id": "e26d83ceeac4484c92679cc26f7c41a9",
       "version_major": 2,
       "version_minor": 0
      },
      "text/plain": [
       "  0%|          | 0/118 [00:00<?, ?it/s]"
      ]
     },
     "metadata": {},
     "output_type": "display_data"
    },
    {
     "name": "stderr",
     "output_type": "stream",
     "text": [
      "/tmp/ipykernel_275368/4160231063.py:111: FutureWarning: The behavior of DataFrame concatenation with empty or all-NA entries is deprecated. In a future version, this will no longer exclude empty or all-NA columns when determining the result dtypes. To retain the old behavior, exclude the relevant entries before the concat operation.\n",
      "  df = pd.concat([df, pd.DataFrame([data])], ignore_index=True)\n"
     ]
    },
    {
     "name": "stdout",
     "output_type": "stream",
     "text": [
      "========== M3GNet ==========\n"
     ]
    },
    {
     "data": {
      "application/vnd.jupyter.widget-view+json": {
       "model_id": "ac04367f9be54d34a4f07b69ab4850ca",
       "version_major": 2,
       "version_minor": 0
      },
      "text/plain": [
       "  0%|          | 0/118 [00:00<?, ?it/s]"
      ]
     },
     "metadata": {},
     "output_type": "display_data"
    },
    {
     "name": "stderr",
     "output_type": "stream",
     "text": [
      "/tmp/ipykernel_275368/4160231063.py:111: FutureWarning: The behavior of DataFrame concatenation with empty or all-NA entries is deprecated. In a future version, this will no longer exclude empty or all-NA columns when determining the result dtypes. To retain the old behavior, exclude the relevant entries before the concat operation.\n",
      "  df = pd.concat([df, pd.DataFrame([data])], ignore_index=True)\n",
      "/tmp/ipykernel_275368/4160231063.py:106: ConstantInputWarning: An input array is constant; the correlation coefficient is not defined.\n",
      "  \"spearman-ascending-force\": stats.spearmanr(rs[:iminf], fs[:iminf]).statistic,\n"
     ]
    },
    {
     "name": "stdout",
     "output_type": "stream",
     "text": [
      "========== ORB ==========\n"
     ]
    },
    {
     "data": {
      "application/vnd.jupyter.widget-view+json": {
       "model_id": "b5ecf455670d44f095423a83166c2127",
       "version_major": 2,
       "version_minor": 0
      },
      "text/plain": [
       "  0%|          | 0/118 [00:00<?, ?it/s]"
      ]
     },
     "metadata": {},
     "output_type": "display_data"
    },
    {
     "name": "stderr",
     "output_type": "stream",
     "text": [
      "/tmp/ipykernel_275368/4160231063.py:111: FutureWarning: The behavior of DataFrame concatenation with empty or all-NA entries is deprecated. In a future version, this will no longer exclude empty or all-NA columns when determining the result dtypes. To retain the old behavior, exclude the relevant entries before the concat operation.\n",
      "  df = pd.concat([df, pd.DataFrame([data])], ignore_index=True)\n"
     ]
    },
    {
     "name": "stdout",
     "output_type": "stream",
     "text": [
      "========== SevenNet ==========\n"
     ]
    },
    {
     "data": {
      "application/vnd.jupyter.widget-view+json": {
       "model_id": "bff0a28cba234f318bcfac953af5e451",
       "version_major": 2,
       "version_minor": 0
      },
      "text/plain": [
       "  0%|          | 0/118 [00:00<?, ?it/s]"
      ]
     },
     "metadata": {},
     "output_type": "display_data"
    },
    {
     "name": "stderr",
     "output_type": "stream",
     "text": [
      "/tmp/ipykernel_275368/4160231063.py:111: FutureWarning: The behavior of DataFrame concatenation with empty or all-NA entries is deprecated. In a future version, this will no longer exclude empty or all-NA columns when determining the result dtypes. To retain the old behavior, exclude the relevant entries before the concat operation.\n",
      "  df = pd.concat([df, pd.DataFrame([data])], ignore_index=True)\n",
      "/tmp/ipykernel_275368/4160231063.py:108: ConstantInputWarning: An input array is constant; the correlation coefficient is not defined.\n",
      "  \"spearman-attraction-energy\": stats.spearmanr(rs[:imine], es[:imine]).statistic,\n"
     ]
    },
    {
     "name": "stdout",
     "output_type": "stream",
     "text": [
      "========== EquiformerV2(OC22) ==========\n"
     ]
    },
    {
     "data": {
      "application/vnd.jupyter.widget-view+json": {
       "model_id": "ed1abfe116eb46c79f1692f1081179a1",
       "version_major": 2,
       "version_minor": 0
      },
      "text/plain": [
       "  0%|          | 0/118 [00:00<?, ?it/s]"
      ]
     },
     "metadata": {},
     "output_type": "display_data"
    },
    {
     "name": "stderr",
     "output_type": "stream",
     "text": [
      "/tmp/ipykernel_275368/4160231063.py:111: FutureWarning: The behavior of DataFrame concatenation with empty or all-NA entries is deprecated. In a future version, this will no longer exclude empty or all-NA columns when determining the result dtypes. To retain the old behavior, exclude the relevant entries before the concat operation.\n",
      "  df = pd.concat([df, pd.DataFrame([data])], ignore_index=True)\n",
      "/tmp/ipykernel_275368/4160231063.py:103: RuntimeWarning: invalid value encountered in scalar divide\n",
      "  \"tortuosity\": etv / (abs(es[0] - es.min()) + (es[-1] - es.min())),\n",
      "/tmp/ipykernel_275368/4160231063.py:107: ConstantInputWarning: An input array is constant; the correlation coefficient is not defined.\n",
      "  \"spearman-repulsion-energy\": stats.spearmanr(rs[imine:], es[imine:]).statistic,\n",
      "/tmp/ipykernel_275368/4160231063.py:108: ConstantInputWarning: An input array is constant; the correlation coefficient is not defined.\n",
      "  \"spearman-attraction-energy\": stats.spearmanr(rs[:imine], es[:imine]).statistic,\n",
      "/tmp/ipykernel_275368/4160231063.py:103: RuntimeWarning: divide by zero encountered in scalar divide\n",
      "  \"tortuosity\": etv / (abs(es[0] - es.min()) + (es[-1] - es.min())),\n"
     ]
    },
    {
     "name": "stdout",
     "output_type": "stream",
     "text": [
      "========== EquiformerV2(OC20) ==========\n"
     ]
    },
    {
     "data": {
      "application/vnd.jupyter.widget-view+json": {
       "model_id": "bc3ded4031c64ce3bc391a4cf6588d33",
       "version_major": 2,
       "version_minor": 0
      },
      "text/plain": [
       "  0%|          | 0/118 [00:00<?, ?it/s]"
      ]
     },
     "metadata": {},
     "output_type": "display_data"
    },
    {
     "name": "stderr",
     "output_type": "stream",
     "text": [
      "/tmp/ipykernel_275368/4160231063.py:111: FutureWarning: The behavior of DataFrame concatenation with empty or all-NA entries is deprecated. In a future version, this will no longer exclude empty or all-NA columns when determining the result dtypes. To retain the old behavior, exclude the relevant entries before the concat operation.\n",
      "  df = pd.concat([df, pd.DataFrame([data])], ignore_index=True)\n"
     ]
    },
    {
     "name": "stdout",
     "output_type": "stream",
     "text": [
      "========== eSCN(OC20) ==========\n"
     ]
    },
    {
     "data": {
      "application/vnd.jupyter.widget-view+json": {
       "model_id": "e01d03146a9d48b39453c7d009f351b9",
       "version_major": 2,
       "version_minor": 0
      },
      "text/plain": [
       "  0%|          | 0/118 [00:00<?, ?it/s]"
      ]
     },
     "metadata": {},
     "output_type": "display_data"
    },
    {
     "name": "stdout",
     "output_type": "stream",
     "text": [
      "========== MACE-OFF(M) ==========\n"
     ]
    },
    {
     "data": {
      "application/vnd.jupyter.widget-view+json": {
       "model_id": "d2db61130b304bbf9a9663f7816b4cb7",
       "version_major": 2,
       "version_minor": 0
      },
      "text/plain": [
       "  0%|          | 0/118 [00:00<?, ?it/s]"
      ]
     },
     "metadata": {},
     "output_type": "display_data"
    },
    {
     "name": "stderr",
     "output_type": "stream",
     "text": [
      "/tmp/ipykernel_275368/4160231063.py:111: FutureWarning: The behavior of DataFrame concatenation with empty or all-NA entries is deprecated. In a future version, this will no longer exclude empty or all-NA columns when determining the result dtypes. To retain the old behavior, exclude the relevant entries before the concat operation.\n",
      "  df = pd.concat([df, pd.DataFrame([data])], ignore_index=True)\n"
     ]
    },
    {
     "name": "stdout",
     "output_type": "stream",
     "text": [
      "========== ALIGNN ==========\n"
     ]
    },
    {
     "data": {
      "application/vnd.jupyter.widget-view+json": {
       "model_id": "5548223541194414821c0884c79d50df",
       "version_major": 2,
       "version_minor": 0
      },
      "text/plain": [
       "  0%|          | 0/118 [00:00<?, ?it/s]"
      ]
     },
     "metadata": {},
     "output_type": "display_data"
    },
    {
     "name": "stderr",
     "output_type": "stream",
     "text": [
      "/tmp/ipykernel_275368/4160231063.py:111: FutureWarning: The behavior of DataFrame concatenation with empty or all-NA entries is deprecated. In a future version, this will no longer exclude empty or all-NA columns when determining the result dtypes. To retain the old behavior, exclude the relevant entries before the concat operation.\n",
      "  df = pd.concat([df, pd.DataFrame([data])], ignore_index=True)\n",
      "/tmp/ipykernel_275368/4160231063.py:108: ConstantInputWarning: An input array is constant; the correlation coefficient is not defined.\n",
      "  \"spearman-attraction-energy\": stats.spearmanr(rs[:imine], es[:imine]).statistic,\n"
     ]
    }
   ],
   "source": [
    "\n",
    "\n",
    "for model in MLIPEnum:\n",
    "    \n",
    "    model_name = model.name\n",
    "    \n",
    "    print(f\"========== {model_name} ==========\")\n",
    "    \n",
    "    df = pd.DataFrame(columns=[\n",
    "        \"name\", \n",
    "        \"method\", \n",
    "        \"R\", \"E\", \"F\", \"S^2\", \n",
    "        \"force-flip-times\",\n",
    "        \"force-total-variation\",\n",
    "        \"energy-diff-flip-times\",\n",
    "        \"energy-grad-norm-max\",\n",
    "        \"energy-jump\",\n",
    "        \"energy-total-variation\",\n",
    "        \"tortuosity\",\n",
    "        \"conservation-deviation\",\n",
    "        \"spearman-descending-force\",\n",
    "        \"spearman-ascending-force\",\n",
    "        \"spearman-repulsion-energy\",\n",
    "        \"spearman-attraction-energy\"\n",
    "    ])\n",
    "    \n",
    "\n",
    "    for symbol in tqdm(chemical_symbols[1:]):\n",
    "\n",
    "        da = symbol + symbol\n",
    "\n",
    "        out_dir = Path(REGISTRY[model_name][\"family\"]) / da\n",
    "\n",
    "        traj_fpath = out_dir / f\"{model_name}.extxyz\"\n",
    "\n",
    "\n",
    "        if traj_fpath.exists():\n",
    "            traj = read(traj_fpath, index=\":\")\n",
    "        else:\n",
    "            continue\n",
    "\n",
    "        Rs, Es, Fs, S2s = [], [], [], []\n",
    "        for atoms in traj:\n",
    "\n",
    "            vec = atoms.positions[1] - atoms.positions[0]\n",
    "            r = np.linalg.norm(vec)\n",
    "            e = atoms.get_potential_energy()\n",
    "            f = np.inner(vec/r, atoms.get_forces()[1])\n",
    "            # s2 = np.mean(np.power(atoms.get_magnetic_moments(), 2))\n",
    "\n",
    "            Rs.append(r)\n",
    "            Es.append(e)\n",
    "            Fs.append(f)\n",
    "            # S2s.append(s2)\n",
    "\n",
    "        rs = np.array(Rs)\n",
    "        es = np.array(Es)\n",
    "        fs = np.array(Fs)\n",
    "\n",
    "        indices = np.argsort(rs)[::-1]\n",
    "        rs = rs[indices]\n",
    "        es = es[indices]\n",
    "        fs = fs[indices]\n",
    "\n",
    "        iminf = np.argmin(fs)\n",
    "        imine = np.argmin(es)\n",
    "\n",
    "        de_dr = np.gradient(es, rs)\n",
    "        d2e_dr2 = np.gradient(de_dr, rs)\n",
    "\n",
    "        rounded_fs = np.copy(fs)\n",
    "        rounded_fs[np.abs(rounded_fs) < 1e-2] = 0\n",
    "        fs_sign = np.sign(rounded_fs)\n",
    "        fs_sign = fs_sign[fs_sign != 0]\n",
    "\n",
    "        # rounded_ediff = np.diff(es)\n",
    "        # rounded_ediff[np.abs(rounded_ediff) < zero_threshold] = 0\n",
    "        ediff = np.diff(es)\n",
    "        ediff[np.abs(ediff) < 1e-3] = 0\n",
    "        ediff_sign = np.sign(ediff)\n",
    "        mask = ediff_sign != 0\n",
    "        ediff = ediff[mask]\n",
    "        ediff_sign = ediff_sign[mask]\n",
    "        ediff_flip = np.diff(ediff_sign) != 0\n",
    "        ejump = np.abs(ediff[:-1][ediff_flip]).sum() + np.abs(ediff[1:][ediff_flip]).sum()\n",
    "\n",
    "        conservation_deviation = np.mean(np.abs(fs + de_dr))\n",
    "        \n",
    "        etv = np.sum(np.abs(np.diff(es)))\n",
    "\n",
    "        data = {\n",
    "            \"name\": da,\n",
    "            \"method\": model_name,\n",
    "            \"R\": rs,\n",
    "            \"E\": es,\n",
    "            \"F\": fs,\n",
    "            \"S^2\": S2s,\n",
    "            \"force-flip-times\": np.sum(np.diff(fs_sign)!=0),\n",
    "            \"force-total-variation\": np.sum(np.abs(np.diff(fs))),\n",
    "            \"energy-diff-flip-times\": np.sum(ediff_flip),\n",
    "            \"energy-grad-norm-max\": np.max(np.abs(de_dr)),\n",
    "            \"energy-jump\": ejump,\n",
    "            # \"energy-grad-norm-mean\": np.mean(de_dr_abs),\n",
    "            \"energy-total-variation\": etv,\n",
    "            \"tortuosity\": etv / (abs(es[0] - es.min()) + (es[-1] - es.min())),\n",
    "            \"conservation-deviation\": conservation_deviation,\n",
    "            \"spearman-descending-force\": stats.spearmanr(rs[iminf:], fs[iminf:]).statistic,\n",
    "            \"spearman-ascending-force\": stats.spearmanr(rs[:iminf], fs[:iminf]).statistic,\n",
    "            \"spearman-repulsion-energy\": stats.spearmanr(rs[imine:], es[imine:]).statistic,\n",
    "            \"spearman-attraction-energy\": stats.spearmanr(rs[:imine], es[:imine]).statistic,\n",
    "        }\n",
    "\n",
    "        df = pd.concat([df, pd.DataFrame([data])], ignore_index=True)\n",
    "\n",
    "\n",
    "    json_fpath = Path(REGISTRY[model_name][\"family\"]) / \"homonuclear-diatomics.json\"\n",
    "\n",
    "    if json_fpath.exists():\n",
    "        df0 = pd.read_json(json_fpath)\n",
    "        df = pd.concat([df0, df], ignore_index=True)\n",
    "        df.drop_duplicates(inplace=True, subset=[\"name\", \"method\"], keep='last')\n",
    "\n",
    "    df.to_json(json_fpath, orient=\"records\")"
   ]
  },
  {
   "cell_type": "code",
   "execution_count": 5,
   "id": "e0dd4367-3dca-440f-a7a9-7fdd84183f2c",
   "metadata": {
    "tags": []
   },
   "outputs": [
    {
     "data": {
      "text/html": [
       "<div>\n",
       "<style scoped>\n",
       "    .dataframe tbody tr th:only-of-type {\n",
       "        vertical-align: middle;\n",
       "    }\n",
       "\n",
       "    .dataframe tbody tr th {\n",
       "        vertical-align: top;\n",
       "    }\n",
       "\n",
       "    .dataframe thead th {\n",
       "        text-align: right;\n",
       "    }\n",
       "</style>\n",
       "<table border=\"1\" class=\"dataframe\">\n",
       "  <thead>\n",
       "    <tr style=\"text-align: right;\">\n",
       "      <th></th>\n",
       "      <th>name</th>\n",
       "      <th>method</th>\n",
       "      <th>R</th>\n",
       "      <th>E</th>\n",
       "      <th>F</th>\n",
       "      <th>S^2</th>\n",
       "      <th>force-flip-times</th>\n",
       "      <th>force-total-variation</th>\n",
       "      <th>energy-diff-flip-times</th>\n",
       "      <th>energy-grad-norm-max</th>\n",
       "      <th>energy-jump</th>\n",
       "      <th>energy-total-variation</th>\n",
       "      <th>conservation-deviation</th>\n",
       "      <th>spearman-descending-force</th>\n",
       "      <th>spearman-ascending-force</th>\n",
       "      <th>spearman-repulsion-energy</th>\n",
       "      <th>spearman-attraction-energy</th>\n",
       "      <th>tortuosity</th>\n",
       "    </tr>\n",
       "  </thead>\n",
       "  <tbody>\n",
       "    <tr>\n",
       "      <th>118</th>\n",
       "      <td>HH</td>\n",
       "      <td>ALIGNN</td>\n",
       "      <td>[3.7199999999999998, 3.70996794, 3.69993586, 3...</td>\n",
       "      <td>[-1.2249419689178467, -1.2238645553588867, -1....</td>\n",
       "      <td>[1.91e-06, 0.00826454, 0.00533009, -0.00355052...</td>\n",
       "      <td>[]</td>\n",
       "      <td>29</td>\n",
       "      <td>443.614255</td>\n",
       "      <td>30</td>\n",
       "      <td>40.656501</td>\n",
       "      <td>4.074248</td>\n",
       "      <td>13.676080</td>\n",
       "      <td>2.022960</td>\n",
       "      <td>-0.200684</td>\n",
       "      <td>-0.119952</td>\n",
       "      <td>-0.986572</td>\n",
       "      <td>0.844786</td>\n",
       "      <td>1.797762</td>\n",
       "    </tr>\n",
       "    <tr>\n",
       "      <th>119</th>\n",
       "      <td>HeHe</td>\n",
       "      <td>ALIGNN</td>\n",
       "      <td>[4.433, 4.4229736200000005, 4.41294724, 4.4029...</td>\n",
       "      <td>[2.4748411178588867, 2.4748411178588867, 2.474...</td>\n",
       "      <td>[0.0, -1e-08, 0.0, 0.0, 1e-08, 0.0, 0.0, 0.0, ...</td>\n",
       "      <td>[]</td>\n",
       "      <td>44</td>\n",
       "      <td>1448.979436</td>\n",
       "      <td>43</td>\n",
       "      <td>160.175544</td>\n",
       "      <td>13.831072</td>\n",
       "      <td>32.544741</td>\n",
       "      <td>4.849522</td>\n",
       "      <td>-0.021494</td>\n",
       "      <td>-0.195001</td>\n",
       "      <td>-0.720218</td>\n",
       "      <td>0.609519</td>\n",
       "      <td>3.921846</td>\n",
       "    </tr>\n",
       "    <tr>\n",
       "      <th>120</th>\n",
       "      <td>LiLi</td>\n",
       "      <td>ALIGNN</td>\n",
       "      <td>[6.572000000000001, 6.561981520000001, 6.55196...</td>\n",
       "      <td>[-0.21738338470458984, -0.21738338470458984, -...</td>\n",
       "      <td>[0.0, 0.0, 0.0, 0.0, 0.0, 0.0, 0.0, 0.0, 0.0, ...</td>\n",
       "      <td>[]</td>\n",
       "      <td>22</td>\n",
       "      <td>1127.749591</td>\n",
       "      <td>20</td>\n",
       "      <td>281.659136</td>\n",
       "      <td>2.067203</td>\n",
       "      <td>20.053466</td>\n",
       "      <td>2.469147</td>\n",
       "      <td>-0.714286</td>\n",
       "      <td>-0.444127</td>\n",
       "      <td>-0.991010</td>\n",
       "      <td>-0.654715</td>\n",
       "      <td>1.386696</td>\n",
       "    </tr>\n",
       "    <tr>\n",
       "      <th>121</th>\n",
       "      <td>BeBe</td>\n",
       "      <td>ALIGNN</td>\n",
       "      <td>[6.138000000000001, 6.12797338, 6.117946759999...</td>\n",
       "      <td>[2.665587902069092, 2.665587902069092, 2.66558...</td>\n",
       "      <td>[0.0, 0.0, 0.0, 0.0, 1e-08, 0.0, 0.0, 0.0, 0.0...</td>\n",
       "      <td>[]</td>\n",
       "      <td>25</td>\n",
       "      <td>1645.960357</td>\n",
       "      <td>21</td>\n",
       "      <td>145.040462</td>\n",
       "      <td>9.422094</td>\n",
       "      <td>51.647955</td>\n",
       "      <td>5.076523</td>\n",
       "      <td>0.544090</td>\n",
       "      <td>-0.158055</td>\n",
       "      <td>-0.989962</td>\n",
       "      <td>0.342476</td>\n",
       "      <td>1.715953</td>\n",
       "    </tr>\n",
       "    <tr>\n",
       "      <th>122</th>\n",
       "      <td>BB</td>\n",
       "      <td>ALIGNN</td>\n",
       "      <td>[5.921000000000001, 5.91097088, 5.900941739999...</td>\n",
       "      <td>[0.6220548152923584, 0.6220548152923584, 0.622...</td>\n",
       "      <td>[0.0, 0.0, 1e-08, 0.0, 0.0, 1e-08, -1e-08, -1e...</td>\n",
       "      <td>[]</td>\n",
       "      <td>35</td>\n",
       "      <td>1811.413732</td>\n",
       "      <td>36</td>\n",
       "      <td>131.340791</td>\n",
       "      <td>13.088368</td>\n",
       "      <td>52.691856</td>\n",
       "      <td>5.551787</td>\n",
       "      <td>0.052632</td>\n",
       "      <td>-0.171460</td>\n",
       "      <td>-0.985024</td>\n",
       "      <td>0.757880</td>\n",
       "      <td>1.617372</td>\n",
       "    </tr>\n",
       "    <tr>\n",
       "      <th>...</th>\n",
       "      <td>...</td>\n",
       "      <td>...</td>\n",
       "      <td>...</td>\n",
       "      <td>...</td>\n",
       "      <td>...</td>\n",
       "      <td>...</td>\n",
       "      <td>...</td>\n",
       "      <td>...</td>\n",
       "      <td>...</td>\n",
       "      <td>...</td>\n",
       "      <td>...</td>\n",
       "      <td>...</td>\n",
       "      <td>...</td>\n",
       "      <td>...</td>\n",
       "      <td>...</td>\n",
       "      <td>...</td>\n",
       "      <td>...</td>\n",
       "      <td>...</td>\n",
       "    </tr>\n",
       "    <tr>\n",
       "      <th>231</th>\n",
       "      <td>FlFl</td>\n",
       "      <td>ALIGNN</td>\n",
       "      <td>[6.0, 5.989982779999999, 5.979965579999999, 5....</td>\n",
       "      <td>[-10.127323150634766, -10.127323150634766, -10...</td>\n",
       "      <td>[0.0, 0.0, -9.5e-07, 0.0, 0.0, 0.0, 0.0, 9.5e-...</td>\n",
       "      <td>[]</td>\n",
       "      <td>39</td>\n",
       "      <td>3329.770831</td>\n",
       "      <td>44</td>\n",
       "      <td>181.338142</td>\n",
       "      <td>12.292844</td>\n",
       "      <td>84.239434</td>\n",
       "      <td>8.151059</td>\n",
       "      <td>-0.249255</td>\n",
       "      <td>-0.316556</td>\n",
       "      <td>-0.946770</td>\n",
       "      <td>0.159576</td>\n",
       "      <td>2.694147</td>\n",
       "    </tr>\n",
       "    <tr>\n",
       "      <th>232</th>\n",
       "      <td>McMc</td>\n",
       "      <td>ALIGNN</td>\n",
       "      <td>[6.0, 5.989982779999999, 5.979965579999999, 5....</td>\n",
       "      <td>[-10.127323150634766, -10.127323150634766, -10...</td>\n",
       "      <td>[0.0, 0.0, -9.5e-07, 0.0, 0.0, 0.0, 0.0, 9.5e-...</td>\n",
       "      <td>[]</td>\n",
       "      <td>39</td>\n",
       "      <td>3329.770831</td>\n",
       "      <td>44</td>\n",
       "      <td>181.338142</td>\n",
       "      <td>12.292844</td>\n",
       "      <td>84.239434</td>\n",
       "      <td>8.151059</td>\n",
       "      <td>-0.249255</td>\n",
       "      <td>-0.316556</td>\n",
       "      <td>-0.946770</td>\n",
       "      <td>0.159576</td>\n",
       "      <td>2.694147</td>\n",
       "    </tr>\n",
       "    <tr>\n",
       "      <th>233</th>\n",
       "      <td>LvLv</td>\n",
       "      <td>ALIGNN</td>\n",
       "      <td>[6.0, 5.989982779999999, 5.979965579999999, 5....</td>\n",
       "      <td>[-10.127323150634766, -10.127323150634766, -10...</td>\n",
       "      <td>[0.0, 0.0, -9.5e-07, 0.0, 0.0, 0.0, 0.0, 9.5e-...</td>\n",
       "      <td>[]</td>\n",
       "      <td>39</td>\n",
       "      <td>3329.770831</td>\n",
       "      <td>44</td>\n",
       "      <td>181.338142</td>\n",
       "      <td>12.292844</td>\n",
       "      <td>84.239434</td>\n",
       "      <td>8.151059</td>\n",
       "      <td>-0.249255</td>\n",
       "      <td>-0.316556</td>\n",
       "      <td>-0.946770</td>\n",
       "      <td>0.159576</td>\n",
       "      <td>2.694147</td>\n",
       "    </tr>\n",
       "    <tr>\n",
       "      <th>234</th>\n",
       "      <td>TsTs</td>\n",
       "      <td>ALIGNN</td>\n",
       "      <td>[6.0, 5.989982779999999, 5.979965579999999, 5....</td>\n",
       "      <td>[-10.127323150634766, -10.127323150634766, -10...</td>\n",
       "      <td>[0.0, 0.0, -9.5e-07, 0.0, 0.0, 0.0, 0.0, 9.5e-...</td>\n",
       "      <td>[]</td>\n",
       "      <td>39</td>\n",
       "      <td>3329.770831</td>\n",
       "      <td>44</td>\n",
       "      <td>181.338142</td>\n",
       "      <td>12.292844</td>\n",
       "      <td>84.239434</td>\n",
       "      <td>8.151059</td>\n",
       "      <td>-0.249255</td>\n",
       "      <td>-0.316556</td>\n",
       "      <td>-0.946770</td>\n",
       "      <td>0.159576</td>\n",
       "      <td>2.694147</td>\n",
       "    </tr>\n",
       "    <tr>\n",
       "      <th>235</th>\n",
       "      <td>OgOg</td>\n",
       "      <td>ALIGNN</td>\n",
       "      <td>[6.0, 5.989982779999999, 5.979965579999999, 5....</td>\n",
       "      <td>[-10.127323150634766, -10.127323150634766, -10...</td>\n",
       "      <td>[0.0, 0.0, -9.5e-07, 0.0, 0.0, 0.0, 0.0, 9.5e-...</td>\n",
       "      <td>[]</td>\n",
       "      <td>39</td>\n",
       "      <td>3329.770831</td>\n",
       "      <td>44</td>\n",
       "      <td>181.338142</td>\n",
       "      <td>12.292844</td>\n",
       "      <td>84.239434</td>\n",
       "      <td>8.151059</td>\n",
       "      <td>-0.249255</td>\n",
       "      <td>-0.316556</td>\n",
       "      <td>-0.946770</td>\n",
       "      <td>0.159576</td>\n",
       "      <td>2.694147</td>\n",
       "    </tr>\n",
       "  </tbody>\n",
       "</table>\n",
       "<p>118 rows × 18 columns</p>\n",
       "</div>"
      ],
      "text/plain": [
       "     name  method                                                  R  \\\n",
       "118    HH  ALIGNN  [3.7199999999999998, 3.70996794, 3.69993586, 3...   \n",
       "119  HeHe  ALIGNN  [4.433, 4.4229736200000005, 4.41294724, 4.4029...   \n",
       "120  LiLi  ALIGNN  [6.572000000000001, 6.561981520000001, 6.55196...   \n",
       "121  BeBe  ALIGNN  [6.138000000000001, 6.12797338, 6.117946759999...   \n",
       "122    BB  ALIGNN  [5.921000000000001, 5.91097088, 5.900941739999...   \n",
       "..    ...     ...                                                ...   \n",
       "231  FlFl  ALIGNN  [6.0, 5.989982779999999, 5.979965579999999, 5....   \n",
       "232  McMc  ALIGNN  [6.0, 5.989982779999999, 5.979965579999999, 5....   \n",
       "233  LvLv  ALIGNN  [6.0, 5.989982779999999, 5.979965579999999, 5....   \n",
       "234  TsTs  ALIGNN  [6.0, 5.989982779999999, 5.979965579999999, 5....   \n",
       "235  OgOg  ALIGNN  [6.0, 5.989982779999999, 5.979965579999999, 5....   \n",
       "\n",
       "                                                     E  \\\n",
       "118  [-1.2249419689178467, -1.2238645553588867, -1....   \n",
       "119  [2.4748411178588867, 2.4748411178588867, 2.474...   \n",
       "120  [-0.21738338470458984, -0.21738338470458984, -...   \n",
       "121  [2.665587902069092, 2.665587902069092, 2.66558...   \n",
       "122  [0.6220548152923584, 0.6220548152923584, 0.622...   \n",
       "..                                                 ...   \n",
       "231  [-10.127323150634766, -10.127323150634766, -10...   \n",
       "232  [-10.127323150634766, -10.127323150634766, -10...   \n",
       "233  [-10.127323150634766, -10.127323150634766, -10...   \n",
       "234  [-10.127323150634766, -10.127323150634766, -10...   \n",
       "235  [-10.127323150634766, -10.127323150634766, -10...   \n",
       "\n",
       "                                                     F S^2 force-flip-times  \\\n",
       "118  [1.91e-06, 0.00826454, 0.00533009, -0.00355052...  []               29   \n",
       "119  [0.0, -1e-08, 0.0, 0.0, 1e-08, 0.0, 0.0, 0.0, ...  []               44   \n",
       "120  [0.0, 0.0, 0.0, 0.0, 0.0, 0.0, 0.0, 0.0, 0.0, ...  []               22   \n",
       "121  [0.0, 0.0, 0.0, 0.0, 1e-08, 0.0, 0.0, 0.0, 0.0...  []               25   \n",
       "122  [0.0, 0.0, 1e-08, 0.0, 0.0, 1e-08, -1e-08, -1e...  []               35   \n",
       "..                                                 ...  ..              ...   \n",
       "231  [0.0, 0.0, -9.5e-07, 0.0, 0.0, 0.0, 0.0, 9.5e-...  []               39   \n",
       "232  [0.0, 0.0, -9.5e-07, 0.0, 0.0, 0.0, 0.0, 9.5e-...  []               39   \n",
       "233  [0.0, 0.0, -9.5e-07, 0.0, 0.0, 0.0, 0.0, 9.5e-...  []               39   \n",
       "234  [0.0, 0.0, -9.5e-07, 0.0, 0.0, 0.0, 0.0, 9.5e-...  []               39   \n",
       "235  [0.0, 0.0, -9.5e-07, 0.0, 0.0, 0.0, 0.0, 9.5e-...  []               39   \n",
       "\n",
       "     force-total-variation energy-diff-flip-times  energy-grad-norm-max  \\\n",
       "118             443.614255                     30             40.656501   \n",
       "119            1448.979436                     43            160.175544   \n",
       "120            1127.749591                     20            281.659136   \n",
       "121            1645.960357                     21            145.040462   \n",
       "122            1811.413732                     36            131.340791   \n",
       "..                     ...                    ...                   ...   \n",
       "231            3329.770831                     44            181.338142   \n",
       "232            3329.770831                     44            181.338142   \n",
       "233            3329.770831                     44            181.338142   \n",
       "234            3329.770831                     44            181.338142   \n",
       "235            3329.770831                     44            181.338142   \n",
       "\n",
       "     energy-jump  energy-total-variation  conservation-deviation  \\\n",
       "118     4.074248               13.676080                2.022960   \n",
       "119    13.831072               32.544741                4.849522   \n",
       "120     2.067203               20.053466                2.469147   \n",
       "121     9.422094               51.647955                5.076523   \n",
       "122    13.088368               52.691856                5.551787   \n",
       "..           ...                     ...                     ...   \n",
       "231    12.292844               84.239434                8.151059   \n",
       "232    12.292844               84.239434                8.151059   \n",
       "233    12.292844               84.239434                8.151059   \n",
       "234    12.292844               84.239434                8.151059   \n",
       "235    12.292844               84.239434                8.151059   \n",
       "\n",
       "     spearman-descending-force  spearman-ascending-force  \\\n",
       "118                  -0.200684                 -0.119952   \n",
       "119                  -0.021494                 -0.195001   \n",
       "120                  -0.714286                 -0.444127   \n",
       "121                   0.544090                 -0.158055   \n",
       "122                   0.052632                 -0.171460   \n",
       "..                         ...                       ...   \n",
       "231                  -0.249255                 -0.316556   \n",
       "232                  -0.249255                 -0.316556   \n",
       "233                  -0.249255                 -0.316556   \n",
       "234                  -0.249255                 -0.316556   \n",
       "235                  -0.249255                 -0.316556   \n",
       "\n",
       "     spearman-repulsion-energy  spearman-attraction-energy  tortuosity  \n",
       "118                  -0.986572                    0.844786    1.797762  \n",
       "119                  -0.720218                    0.609519    3.921846  \n",
       "120                  -0.991010                   -0.654715    1.386696  \n",
       "121                  -0.989962                    0.342476    1.715953  \n",
       "122                  -0.985024                    0.757880    1.617372  \n",
       "..                         ...                         ...         ...  \n",
       "231                  -0.946770                    0.159576    2.694147  \n",
       "232                  -0.946770                    0.159576    2.694147  \n",
       "233                  -0.946770                    0.159576    2.694147  \n",
       "234                  -0.946770                    0.159576    2.694147  \n",
       "235                  -0.946770                    0.159576    2.694147  \n",
       "\n",
       "[118 rows x 18 columns]"
      ]
     },
     "execution_count": 5,
     "metadata": {},
     "output_type": "execute_result"
    }
   ],
   "source": [
    "df"
   ]
  },
  {
   "cell_type": "code",
   "execution_count": null,
   "id": "4e6ae884-89f3-43f2-8fd9-19bf00c91566",
   "metadata": {},
   "outputs": [],
   "source": []
  }
 ],
 "metadata": {
  "kernelspec": {
   "display_name": "mlip-arena",
   "language": "python",
   "name": "mlip-arena"
  },
  "language_info": {
   "codemirror_mode": {
    "name": "ipython",
    "version": 3
   },
   "file_extension": ".py",
   "mimetype": "text/x-python",
   "name": "python",
   "nbconvert_exporter": "python",
   "pygments_lexer": "ipython3",
   "version": "3.11.8"
  },
  "widgets": {
   "application/vnd.jupyter.widget-state+json": {
    "state": {
     "00501c04e46d488c8d56bee4da98cc43": {
      "model_module": "@jupyter-widgets/base",
      "model_module_version": "2.0.0",
      "model_name": "LayoutModel",
      "state": {}
     },
     "005e406ef74c41cc89484a8749f30f66": {
      "model_module": "@jupyter-widgets/base",
      "model_module_version": "2.0.0",
      "model_name": "LayoutModel",
      "state": {}
     },
     "00935f02e0b5480b8de411a5ecbeb1c2": {
      "model_module": "@jupyter-widgets/base",
      "model_module_version": "2.0.0",
      "model_name": "LayoutModel",
      "state": {}
     },
     "00d17b9bb1af413fbe8b3e61547da42f": {
      "model_module": "@jupyter-widgets/controls",
      "model_module_version": "2.0.0",
      "model_name": "HTMLModel",
      "state": {
       "layout": "IPY_MODEL_2635eaf56e274468a6011c6d4032f04f",
       "style": "IPY_MODEL_0c30166e53a94213bcd17437d3f27ab0",
       "value": "  0%"
      }
     },
     "00d61b2df9b74f4bb9c5c0b7e143cc3b": {
      "model_module": "@jupyter-widgets/base",
      "model_module_version": "2.0.0",
      "model_name": "LayoutModel",
      "state": {}
     },
     "01133b84fa0a44ee838f923cc9fe805b": {
      "model_module": "@jupyter-widgets/base",
      "model_module_version": "2.0.0",
      "model_name": "LayoutModel",
      "state": {}
     },
     "0132875a553049c4b3be804fe79c2661": {
      "model_module": "@jupyter-widgets/base",
      "model_module_version": "2.0.0",
      "model_name": "LayoutModel",
      "state": {}
     },
     "01674669b8b242af95100a7a7989fa3e": {
      "model_module": "@jupyter-widgets/controls",
      "model_module_version": "2.0.0",
      "model_name": "HTMLStyleModel",
      "state": {
       "description_width": "",
       "font_size": null,
       "text_color": null
      }
     },
     "01f85ac837a44f64950df4fbe5f108f1": {
      "model_module": "@jupyter-widgets/controls",
      "model_module_version": "2.0.0",
      "model_name": "HBoxModel",
      "state": {
       "children": [
        "IPY_MODEL_2fd5f60ef8ab4fcc93267deec40a1591",
        "IPY_MODEL_0b8df2e137924bb9a13c3b8f8c3c3904",
        "IPY_MODEL_2ea09c8e28854d57b133a96204fbc0d0"
       ],
       "layout": "IPY_MODEL_58ce37afa07e47dcb6c96e66046bd07c"
      }
     },
     "023724ae4ade4d1a9ca9ceefc20fb527": {
      "model_module": "@jupyter-widgets/controls",
      "model_module_version": "2.0.0",
      "model_name": "HTMLModel",
      "state": {
       "layout": "IPY_MODEL_9eaec30410fa43eba65de0dd97edc36c",
       "style": "IPY_MODEL_968a12675dab421681b9189c58cf1c0a",
       "value": " 0/624 [00:00&lt;?, ?it/s]"
      }
     },
     "02466037d4b642ea9e6aad1e897bc460": {
      "model_module": "@jupyter-widgets/controls",
      "model_module_version": "2.0.0",
      "model_name": "HTMLModel",
      "state": {
       "layout": "IPY_MODEL_a18116e6abca4c0fa60687b25f0995fb",
       "style": "IPY_MODEL_90553eb8ef754fb68acc6879d10e8199",
       "value": "  0%"
      }
     },
     "02a0a24eacc04e8ba470991efecebb4d": {
      "model_module": "@jupyter-widgets/base",
      "model_module_version": "2.0.0",
      "model_name": "LayoutModel",
      "state": {}
     },
     "02a0bf2446d24058b4565aaa9a9d33ea": {
      "model_module": "@jupyter-widgets/controls",
      "model_module_version": "2.0.0",
      "model_name": "HTMLStyleModel",
      "state": {
       "description_width": "",
       "font_size": null,
       "text_color": null
      }
     },
     "02ae1b4787ea4e2e90827c5138b4f6f0": {
      "model_module": "@jupyter-widgets/base",
      "model_module_version": "2.0.0",
      "model_name": "LayoutModel",
      "state": {}
     },
     "02e16a79a0b74a35bd6edcf9f4791560": {
      "model_module": "@jupyter-widgets/controls",
      "model_module_version": "2.0.0",
      "model_name": "HTMLModel",
      "state": {
       "layout": "IPY_MODEL_acd0cd732e0048b9a0ec8c47a58eb7fd",
       "style": "IPY_MODEL_9f979fb889b74dbf94257c20c59feaa2",
       "value": " 0/733 [00:00&lt;?, ?it/s]"
      }
     },
     "0323297ed611482baf59cc9ec360aa5c": {
      "model_module": "@jupyter-widgets/controls",
      "model_module_version": "2.0.0",
      "model_name": "HTMLStyleModel",
      "state": {
       "description_width": "",
       "font_size": null,
       "text_color": null
      }
     },
     "034a3fff6e7043e89f9f921758806269": {
      "model_module": "@jupyter-widgets/controls",
      "model_module_version": "2.0.0",
      "model_name": "HTMLStyleModel",
      "state": {
       "description_width": "",
       "font_size": null,
       "text_color": null
      }
     },
     "036592080ada4be6b40416d5b8a3bbba": {
      "model_module": "@jupyter-widgets/controls",
      "model_module_version": "2.0.0",
      "model_name": "HTMLStyleModel",
      "state": {
       "description_width": "",
       "font_size": null,
       "text_color": null
      }
     },
     "036d6183e00f4316b57a6e1f2026e195": {
      "model_module": "@jupyter-widgets/controls",
      "model_module_version": "2.0.0",
      "model_name": "HTMLModel",
      "state": {
       "layout": "IPY_MODEL_7899d27bc83e4bd2bc0ca4136c3434db",
       "style": "IPY_MODEL_08fca5b7b3ba436f90c4fa29426ad0fb",
       "value": " 0/663 [00:00&lt;?, ?it/s]"
      }
     },
     "038e2397d1e24f999e59b72b616b6909": {
      "model_module": "@jupyter-widgets/base",
      "model_module_version": "2.0.0",
      "model_name": "LayoutModel",
      "state": {}
     },
     "03ae1c4492f4468187217ca68d67999c": {
      "model_module": "@jupyter-widgets/base",
      "model_module_version": "2.0.0",
      "model_name": "LayoutModel",
      "state": {}
     },
     "04a9d6f79b344f2d836ebd22e38cf5aa": {
      "model_module": "@jupyter-widgets/controls",
      "model_module_version": "2.0.0",
      "model_name": "HBoxModel",
      "state": {
       "children": [
        "IPY_MODEL_f62446078c504825b1629912ee5decff",
        "IPY_MODEL_4256b2adbac940bcbf378a5b0bbbc901",
        "IPY_MODEL_bdf7a429e99049f48df0440402b50eb8"
       ],
       "layout": "IPY_MODEL_5c35549c2bc64e6d967d9189ff826839"
      }
     },
     "04c148729eeb4390aad6097349c9a5fe": {
      "model_module": "@jupyter-widgets/controls",
      "model_module_version": "2.0.0",
      "model_name": "FloatProgressModel",
      "state": {
       "bar_style": "danger",
       "layout": "IPY_MODEL_41d40d643bf9448b8a457f910cf00df3",
       "max": 471,
       "style": "IPY_MODEL_223c292bd2db4358870298efcf40f099"
      }
     },
     "04d904b120904036be04015f36ab38e0": {
      "model_module": "@jupyter-widgets/controls",
      "model_module_version": "2.0.0",
      "model_name": "ProgressStyleModel",
      "state": {
       "description_width": ""
      }
     },
     "04d9eea7d96e4edaa0e514a7988e5750": {
      "model_module": "@jupyter-widgets/controls",
      "model_module_version": "2.0.0",
      "model_name": "HTMLStyleModel",
      "state": {
       "description_width": "",
       "font_size": null,
       "text_color": null
      }
     },
     "04dbb5b2936d47c7b3d688c4576a1ffa": {
      "model_module": "@jupyter-widgets/controls",
      "model_module_version": "2.0.0",
      "model_name": "HTMLModel",
      "state": {
       "layout": "IPY_MODEL_11ec9b1929df4f28be5d7b556142c4fd",
       "style": "IPY_MODEL_728e4fbd9c0041ac98ee75e4606b186c",
       "value": "  0%"
      }
     },
     "051cd41d5e434a5d8ca0e30547eb23d6": {
      "model_module": "@jupyter-widgets/base",
      "model_module_version": "2.0.0",
      "model_name": "LayoutModel",
      "state": {}
     },
     "05578e65232049a582e8e8dac87987e7": {
      "model_module": "@jupyter-widgets/controls",
      "model_module_version": "2.0.0",
      "model_name": "ProgressStyleModel",
      "state": {
       "description_width": ""
      }
     },
     "0576d502047945c7a007689c618d37db": {
      "model_module": "@jupyter-widgets/controls",
      "model_module_version": "2.0.0",
      "model_name": "HTMLModel",
      "state": {
       "layout": "IPY_MODEL_e07c7cc9d12942809d03c382e04dd999",
       "style": "IPY_MODEL_21f81a6779c1457d90d9a880b8c28324",
       "value": "  0%"
      }
     },
     "05af422d3ec240cf8497ab2e4a28571d": {
      "model_module": "@jupyter-widgets/base",
      "model_module_version": "2.0.0",
      "model_name": "LayoutModel",
      "state": {}
     },
     "05b8b83982894f828448795f8675a62b": {
      "model_module": "@jupyter-widgets/controls",
      "model_module_version": "2.0.0",
      "model_name": "ProgressStyleModel",
      "state": {
       "description_width": ""
      }
     },
     "05bad267009c4ea58b2830e61a3ed4a4": {
      "model_module": "@jupyter-widgets/controls",
      "model_module_version": "2.0.0",
      "model_name": "HTMLStyleModel",
      "state": {
       "description_width": "",
       "font_size": null,
       "text_color": null
      }
     },
     "05cc113df61b48049a57fde52130d56c": {
      "model_module": "@jupyter-widgets/controls",
      "model_module_version": "2.0.0",
      "model_name": "HTMLModel",
      "state": {
       "layout": "IPY_MODEL_d5381c12916840b29740b639ec687a9f",
       "style": "IPY_MODEL_d1c63b0cac91423aacb501f18735354f",
       "value": " 0/709 [00:00&lt;?, ?it/s]"
      }
     },
     "063387d42a2246bfae61251f1b1eeb85": {
      "model_module": "@jupyter-widgets/base",
      "model_module_version": "2.0.0",
      "model_name": "LayoutModel",
      "state": {}
     },
     "068e0ab51527453db4ae776560492a0f": {
      "model_module": "@jupyter-widgets/controls",
      "model_module_version": "2.0.0",
      "model_name": "HTMLStyleModel",
      "state": {
       "description_width": "",
       "font_size": null,
       "text_color": null
      }
     },
     "06d9fcbe2d924e639cc3cd0479951d0d": {
      "model_module": "@jupyter-widgets/base",
      "model_module_version": "2.0.0",
      "model_name": "LayoutModel",
      "state": {}
     },
     "06f026245e2a49bb8c71d8b3a40b553b": {
      "model_module": "@jupyter-widgets/base",
      "model_module_version": "2.0.0",
      "model_name": "LayoutModel",
      "state": {}
     },
     "06f13dd6ff1244c8a141bba28d114101": {
      "model_module": "@jupyter-widgets/base",
      "model_module_version": "2.0.0",
      "model_name": "LayoutModel",
      "state": {}
     },
     "06f5d35a5af7449ca6df374aa98504a1": {
      "model_module": "@jupyter-widgets/controls",
      "model_module_version": "2.0.0",
      "model_name": "HTMLModel",
      "state": {
       "layout": "IPY_MODEL_56562b9c4a5d4537a85cbff5868dd0c1",
       "style": "IPY_MODEL_65a11a3602c446899eed2842ab8920f8",
       "value": "  0%"
      }
     },
     "073f4813e77748d38c5f0efb61699982": {
      "model_module": "@jupyter-widgets/controls",
      "model_module_version": "2.0.0",
      "model_name": "HTMLStyleModel",
      "state": {
       "description_width": "",
       "font_size": null,
       "text_color": null
      }
     },
     "0763c4d6cc7d4550bee2d302b7099c6d": {
      "model_module": "@jupyter-widgets/base",
      "model_module_version": "2.0.0",
      "model_name": "LayoutModel",
      "state": {}
     },
     "079af6781ecb4defafc2cd08269605db": {
      "model_module": "@jupyter-widgets/base",
      "model_module_version": "2.0.0",
      "model_name": "LayoutModel",
      "state": {}
     },
     "07b8b95e8418423193b3eb48a1c3197a": {
      "model_module": "@jupyter-widgets/controls",
      "model_module_version": "2.0.0",
      "model_name": "HBoxModel",
      "state": {
       "children": [
        "IPY_MODEL_cbfd6f08947b4ab0a4827d1dd3406e7d",
        "IPY_MODEL_86e011bb8be64a308d15250e6696fb7f",
        "IPY_MODEL_788456149a424cada784dd17ab0ab108"
       ],
       "layout": "IPY_MODEL_da147f3cf22948c79580f2bf4a9a5ba4"
      }
     },
     "07d3930c1efa4cc090e6342df0f95ede": {
      "model_module": "@jupyter-widgets/controls",
      "model_module_version": "2.0.0",
      "model_name": "ProgressStyleModel",
      "state": {
       "description_width": ""
      }
     },
     "07e58a28975749c48cf7872115f95fc3": {
      "model_module": "@jupyter-widgets/controls",
      "model_module_version": "2.0.0",
      "model_name": "ProgressStyleModel",
      "state": {
       "description_width": ""
      }
     },
     "07f2024b48f54e1bbb5e62b2f90501f3": {
      "model_module": "@jupyter-widgets/controls",
      "model_module_version": "2.0.0",
      "model_name": "HTMLModel",
      "state": {
       "layout": "IPY_MODEL_b062440011924d1e9bf2fcc5e19a2b97",
       "style": "IPY_MODEL_6ea2e7c4aa7f4a9d9cb8f24b5b3ea65a",
       "value": "  0%"
      }
     },
     "081dccce26fb4f3ca27d6ed51acef847": {
      "model_module": "@jupyter-widgets/base",
      "model_module_version": "2.0.0",
      "model_name": "LayoutModel",
      "state": {}
     },
     "083e46a0e1d24472b28018a334401af2": {
      "model_module": "@jupyter-widgets/base",
      "model_module_version": "2.0.0",
      "model_name": "LayoutModel",
      "state": {}
     },
     "0848baf337444202b8aa06b6a4a1f683": {
      "model_module": "@jupyter-widgets/base",
      "model_module_version": "2.0.0",
      "model_name": "LayoutModel",
      "state": {}
     },
     "08678fe7132847c89fce718248a81eef": {
      "model_module": "@jupyter-widgets/controls",
      "model_module_version": "2.0.0",
      "model_name": "HTMLStyleModel",
      "state": {
       "description_width": "",
       "font_size": null,
       "text_color": null
      }
     },
     "087723f078fb4f26a56a26140a5eb680": {
      "model_module": "@jupyter-widgets/controls",
      "model_module_version": "2.0.0",
      "model_name": "HTMLStyleModel",
      "state": {
       "description_width": "",
       "font_size": null,
       "text_color": null
      }
     },
     "08fca5b7b3ba436f90c4fa29426ad0fb": {
      "model_module": "@jupyter-widgets/controls",
      "model_module_version": "2.0.0",
      "model_name": "HTMLStyleModel",
      "state": {
       "description_width": "",
       "font_size": null,
       "text_color": null
      }
     },
     "091faec82ed14895a2fafd9fbbedc648": {
      "model_module": "@jupyter-widgets/base",
      "model_module_version": "2.0.0",
      "model_name": "LayoutModel",
      "state": {}
     },
     "092233a81fa340188ead5c11fc4ad495": {
      "model_module": "@jupyter-widgets/controls",
      "model_module_version": "2.0.0",
      "model_name": "HTMLModel",
      "state": {
       "layout": "IPY_MODEL_3e07311c8fb747ee9ba9f31c2f4dfd92",
       "style": "IPY_MODEL_d7aa95113cfc4680a9a88843d231c7d8",
       "value": " 0/582 [00:00&lt;?, ?it/s]"
      }
     },
     "0968c127d253421e906a9fc3d5cf256b": {
      "model_module": "@jupyter-widgets/controls",
      "model_module_version": "2.0.0",
      "model_name": "FloatProgressModel",
      "state": {
       "bar_style": "danger",
       "layout": "IPY_MODEL_1e079f25055e4422a69d471b167a6f81",
       "max": 716,
       "style": "IPY_MODEL_5678591dd4274cad952daffb786c9a63"
      }
     },
     "09c51502aaf345a7a5333ba6b54c04d5": {
      "model_module": "@jupyter-widgets/controls",
      "model_module_version": "2.0.0",
      "model_name": "ProgressStyleModel",
      "state": {
       "description_width": ""
      }
     },
     "09cbbc05fa8444de88d0891830abe1c6": {
      "model_module": "@jupyter-widgets/base",
      "model_module_version": "2.0.0",
      "model_name": "LayoutModel",
      "state": {}
     },
     "09cc9ac739574703a4ee5726f8d48abb": {
      "model_module": "@jupyter-widgets/base",
      "model_module_version": "2.0.0",
      "model_name": "LayoutModel",
      "state": {}
     },
     "0a60b395bcaf4b01b003e8a6067aca49": {
      "model_module": "@jupyter-widgets/controls",
      "model_module_version": "2.0.0",
      "model_name": "HTMLModel",
      "state": {
       "layout": "IPY_MODEL_a58fa750fe524b37b0d74354b79c3018",
       "style": "IPY_MODEL_bf636121740044a69454809c1d488256",
       "value": " 0/635 [00:00&lt;?, ?it/s]"
      }
     },
     "0aa4efe49e48493c974959853942d76b": {
      "model_module": "@jupyter-widgets/controls",
      "model_module_version": "2.0.0",
      "model_name": "HBoxModel",
      "state": {
       "children": [
        "IPY_MODEL_6ca34cc2cd9a4a9e98296fe25a374a9a",
        "IPY_MODEL_8a8767a41a1b456cb93184d74a0341c3",
        "IPY_MODEL_e8e629bbd29c41919886bb662c11358b"
       ],
       "layout": "IPY_MODEL_0e66bc9853ad491aad53041b88406907"
      }
     },
     "0abed06f690e450ebc391d27845b2037": {
      "model_module": "@jupyter-widgets/controls",
      "model_module_version": "2.0.0",
      "model_name": "HTMLStyleModel",
      "state": {
       "description_width": "",
       "font_size": null,
       "text_color": null
      }
     },
     "0af5c65ecf324b7999f096d6543a9352": {
      "model_module": "@jupyter-widgets/controls",
      "model_module_version": "2.0.0",
      "model_name": "HTMLModel",
      "state": {
       "layout": "IPY_MODEL_f3abca8e300a4a49b50a2532d4cb0515",
       "style": "IPY_MODEL_5f5e89481f964d348dc14f28b329e291",
       "value": " 0/715 [00:00&lt;?, ?it/s]"
      }
     },
     "0b0001ced61c4f8babbbbd50133b3c5b": {
      "model_module": "@jupyter-widgets/controls",
      "model_module_version": "2.0.0",
      "model_name": "HTMLStyleModel",
      "state": {
       "description_width": "",
       "font_size": null,
       "text_color": null
      }
     },
     "0b1f119694dd4fb19245299403690324": {
      "model_module": "@jupyter-widgets/controls",
      "model_module_version": "2.0.0",
      "model_name": "HTMLStyleModel",
      "state": {
       "description_width": "",
       "font_size": null,
       "text_color": null
      }
     },
     "0b6328dbb9a546c59eabd71d4bd5e108": {
      "model_module": "@jupyter-widgets/controls",
      "model_module_version": "2.0.0",
      "model_name": "HTMLModel",
      "state": {
       "layout": "IPY_MODEL_d0465dd1c4854af5bf7cdb38e34b4cf6",
       "style": "IPY_MODEL_5ee42c3db4e4419498da8ee84a72ad2d",
       "value": " 0/582 [00:00&lt;?, ?it/s]"
      }
     },
     "0b6c3ffe5b234283a094c47be518f51e": {
      "model_module": "@jupyter-widgets/controls",
      "model_module_version": "2.0.0",
      "model_name": "HTMLModel",
      "state": {
       "layout": "IPY_MODEL_b5bbdd5ce61d4588b16838554b67b516",
       "style": "IPY_MODEL_77db29adbc614c078087fabd1113c087",
       "value": " 0/582 [00:00&lt;?, ?it/s]"
      }
     },
     "0b8df2e137924bb9a13c3b8f8c3c3904": {
      "model_module": "@jupyter-widgets/controls",
      "model_module_version": "2.0.0",
      "model_name": "FloatProgressModel",
      "state": {
       "bar_style": "success",
       "layout": "IPY_MODEL_dc7b8e6ee5634eb4b6de4d1ac642cd57",
       "max": 344,
       "style": "IPY_MODEL_68faf73be82b4f44ab3f53949fd94cdb",
       "value": 344
      }
     },
     "0b96202a2c594947b6093ecab0d89a25": {
      "model_module": "@jupyter-widgets/controls",
      "model_module_version": "2.0.0",
      "model_name": "HBoxModel",
      "state": {
       "children": [
        "IPY_MODEL_ee89bdd141f44583a3b5ec896968997f",
        "IPY_MODEL_c609639a42fa487a888191becba4850e",
        "IPY_MODEL_f825b816a6574dbb8563de8cbf9200b4"
       ],
       "layout": "IPY_MODEL_a7c92bc8098d4078b7dbd283409d4f53"
      }
     },
     "0c0abb5dbec94cfb8e375ea11fd4fd83": {
      "model_module": "@jupyter-widgets/base",
      "model_module_version": "2.0.0",
      "model_name": "LayoutModel",
      "state": {}
     },
     "0c30166e53a94213bcd17437d3f27ab0": {
      "model_module": "@jupyter-widgets/controls",
      "model_module_version": "2.0.0",
      "model_name": "HTMLStyleModel",
      "state": {
       "description_width": "",
       "font_size": null,
       "text_color": null
      }
     },
     "0c45b710f18b481a945b2212cc51758f": {
      "model_module": "@jupyter-widgets/controls",
      "model_module_version": "2.0.0",
      "model_name": "ProgressStyleModel",
      "state": {
       "description_width": ""
      }
     },
     "0c71c7705dbc428d81308cdc16942921": {
      "model_module": "@jupyter-widgets/controls",
      "model_module_version": "2.0.0",
      "model_name": "HBoxModel",
      "state": {
       "children": [
        "IPY_MODEL_713f868a7750466aba93d21078a80386",
        "IPY_MODEL_4f75234d9fba4ad089a294085852e91c",
        "IPY_MODEL_1645678eb3884e4a8c1ce8472e87ef3b"
       ],
       "layout": "IPY_MODEL_16be6ebc07ca42be9529920166d34acc"
      }
     },
     "0c95733688b245449541191702644d0c": {
      "model_module": "@jupyter-widgets/base",
      "model_module_version": "2.0.0",
      "model_name": "LayoutModel",
      "state": {}
     },
     "0c95bec8aa584ef081a880c8b47da165": {
      "model_module": "@jupyter-widgets/controls",
      "model_module_version": "2.0.0",
      "model_name": "ProgressStyleModel",
      "state": {
       "description_width": ""
      }
     },
     "0c9951f296e84ebd809d0c244c2f565a": {
      "model_module": "@jupyter-widgets/controls",
      "model_module_version": "2.0.0",
      "model_name": "HTMLModel",
      "state": {
       "layout": "IPY_MODEL_b358c0080f8d4dbcaf97f1a50d2274d3",
       "style": "IPY_MODEL_5128f131dbeb471485cb1ceebc64007e",
       "value": "  0%"
      }
     },
     "0ca06149ad4b4876a9def18a2b29ac88": {
      "model_module": "@jupyter-widgets/controls",
      "model_module_version": "2.0.0",
      "model_name": "HBoxModel",
      "state": {
       "children": [
        "IPY_MODEL_e27a0bbd9c0a474aa4bdbb1048939e63",
        "IPY_MODEL_762787e5554246b48e1c6c5c2a8991be",
        "IPY_MODEL_ce6aa1c793fa49f898eded9b1edbb39c"
       ],
       "layout": "IPY_MODEL_7f9f86222c054ed29bcd07f902104a29"
      }
     },
     "0cb63c2caeea4548864d6d5d32c11b34": {
      "model_module": "@jupyter-widgets/base",
      "model_module_version": "2.0.0",
      "model_name": "LayoutModel",
      "state": {}
     },
     "0cc078445ba343f9ba5def5111f32198": {
      "model_module": "@jupyter-widgets/controls",
      "model_module_version": "2.0.0",
      "model_name": "FloatProgressModel",
      "state": {
       "bar_style": "danger",
       "layout": "IPY_MODEL_dac9e47e862343e898c035944d1d6cc3",
       "max": 707,
       "style": "IPY_MODEL_48cd6b7872f74108a58a5ab2f1abd567"
      }
     },
     "0cea549aafb7428d9a15cd58db3a4245": {
      "model_module": "@jupyter-widgets/base",
      "model_module_version": "2.0.0",
      "model_name": "LayoutModel",
      "state": {}
     },
     "0cec1ac6e39f468b82760b185d007f61": {
      "model_module": "@jupyter-widgets/controls",
      "model_module_version": "2.0.0",
      "model_name": "HTMLStyleModel",
      "state": {
       "description_width": "",
       "font_size": null,
       "text_color": null
      }
     },
     "0d0160e9658945a4b4731cbe1c85b444": {
      "model_module": "@jupyter-widgets/base",
      "model_module_version": "2.0.0",
      "model_name": "LayoutModel",
      "state": {}
     },
     "0d5ec5d626f64d92b193026e957543d3": {
      "model_module": "@jupyter-widgets/controls",
      "model_module_version": "2.0.0",
      "model_name": "ProgressStyleModel",
      "state": {
       "description_width": ""
      }
     },
     "0dbc26ec4af74340b1731bb8a6fb24e8": {
      "model_module": "@jupyter-widgets/controls",
      "model_module_version": "2.0.0",
      "model_name": "ProgressStyleModel",
      "state": {
       "description_width": ""
      }
     },
     "0e1ac00f04c54c1582da51c7cb626e0d": {
      "model_module": "@jupyter-widgets/base",
      "model_module_version": "2.0.0",
      "model_name": "LayoutModel",
      "state": {}
     },
     "0e222df0a0ac474cb1c5d9b9d4d1d156": {
      "model_module": "@jupyter-widgets/base",
      "model_module_version": "2.0.0",
      "model_name": "LayoutModel",
      "state": {}
     },
     "0e49d2588280414a89ec07a68bd8f340": {
      "model_module": "@jupyter-widgets/base",
      "model_module_version": "2.0.0",
      "model_name": "LayoutModel",
      "state": {}
     },
     "0e66bc9853ad491aad53041b88406907": {
      "model_module": "@jupyter-widgets/base",
      "model_module_version": "2.0.0",
      "model_name": "LayoutModel",
      "state": {}
     },
     "0e832f00f80b4a1cba8e47766be8dbcd": {
      "model_module": "@jupyter-widgets/controls",
      "model_module_version": "2.0.0",
      "model_name": "ProgressStyleModel",
      "state": {
       "description_width": ""
      }
     },
     "0e9b352ce1094ca6a277274245def4a8": {
      "model_module": "@jupyter-widgets/controls",
      "model_module_version": "2.0.0",
      "model_name": "HTMLModel",
      "state": {
       "layout": "IPY_MODEL_b895ead6b3ab428aa21b5482cf0e5c1c",
       "style": "IPY_MODEL_b1f29d06244d451b997ea696b2cfe9d8",
       "value": " 0/625 [00:00&lt;?, ?it/s]"
      }
     },
     "0eb112e7e50848159e93722fcf2a2040": {
      "model_module": "@jupyter-widgets/base",
      "model_module_version": "2.0.0",
      "model_name": "LayoutModel",
      "state": {}
     },
     "0ecc9ad6ad6042a4863e490e74ce0064": {
      "model_module": "@jupyter-widgets/base",
      "model_module_version": "2.0.0",
      "model_name": "LayoutModel",
      "state": {}
     },
     "0eefb8ba2c0e47b398496184a15cab5d": {
      "model_module": "@jupyter-widgets/base",
      "model_module_version": "2.0.0",
      "model_name": "LayoutModel",
      "state": {}
     },
     "0f3bc6cea00a402f90aeb9d3d682ba2d": {
      "model_module": "@jupyter-widgets/base",
      "model_module_version": "2.0.0",
      "model_name": "LayoutModel",
      "state": {}
     },
     "0f95539ffd6f4c01bfbaf0039f9545c3": {
      "model_module": "@jupyter-widgets/base",
      "model_module_version": "2.0.0",
      "model_name": "LayoutModel",
      "state": {}
     },
     "1032c8118d4e4da6b9ea753d152490b2": {
      "model_module": "@jupyter-widgets/controls",
      "model_module_version": "2.0.0",
      "model_name": "HBoxModel",
      "state": {
       "children": [
        "IPY_MODEL_61edbecd0be442a485a8736173b5a62a",
        "IPY_MODEL_5e7e1f36ba4d4f26b7a64e1bf1065a26",
        "IPY_MODEL_3e7b7437cdf8438fb0ef7faba65b91e0"
       ],
       "layout": "IPY_MODEL_9b946a9884814fedbb8aac51edcb75a6"
      }
     },
     "1082971a4dc1462290c0b85947392b0b": {
      "model_module": "@jupyter-widgets/base",
      "model_module_version": "2.0.0",
      "model_name": "LayoutModel",
      "state": {}
     },
     "10e8d96a677e4b0f8d30354f1032d0e2": {
      "model_module": "@jupyter-widgets/controls",
      "model_module_version": "2.0.0",
      "model_name": "HTMLModel",
      "state": {
       "layout": "IPY_MODEL_164103bcd6be458bb2a962665cf9876d",
       "style": "IPY_MODEL_4c6ef9805a0e480996a960bba25fe760",
       "value": "100%"
      }
     },
     "10f5ae7a2b704203bce46d1862e0236d": {
      "model_module": "@jupyter-widgets/base",
      "model_module_version": "2.0.0",
      "model_name": "LayoutModel",
      "state": {}
     },
     "10fcbbfd84af401f8e37c598d592c8db": {
      "model_module": "@jupyter-widgets/controls",
      "model_module_version": "2.0.0",
      "model_name": "ProgressStyleModel",
      "state": {
       "description_width": ""
      }
     },
     "10ffbcb62b1247feb26b6fccbbeddf63": {
      "model_module": "@jupyter-widgets/controls",
      "model_module_version": "2.0.0",
      "model_name": "HTMLModel",
      "state": {
       "layout": "IPY_MODEL_c4443b24e7114bafb375fa9e6b154af8",
       "style": "IPY_MODEL_de1fddeb1acb4f558f9688b62c5f16d4",
       "value": " 0/631 [00:00&lt;?, ?it/s]"
      }
     },
     "11a2a69e94c9447c82e42dd40408f0fc": {
      "model_module": "@jupyter-widgets/base",
      "model_module_version": "2.0.0",
      "model_name": "LayoutModel",
      "state": {}
     },
     "11c73f62990743d2a02d92bc46657caf": {
      "model_module": "@jupyter-widgets/base",
      "model_module_version": "2.0.0",
      "model_name": "LayoutModel",
      "state": {}
     },
     "11ec9b1929df4f28be5d7b556142c4fd": {
      "model_module": "@jupyter-widgets/base",
      "model_module_version": "2.0.0",
      "model_name": "LayoutModel",
      "state": {}
     },
     "123d9b74762346748366d43a3184b7c6": {
      "model_module": "@jupyter-widgets/controls",
      "model_module_version": "2.0.0",
      "model_name": "HTMLStyleModel",
      "state": {
       "description_width": "",
       "font_size": null,
       "text_color": null
      }
     },
     "125c50cb306b40cb974a7e4369ade782": {
      "model_module": "@jupyter-widgets/controls",
      "model_module_version": "2.0.0",
      "model_name": "ProgressStyleModel",
      "state": {
       "description_width": ""
      }
     },
     "12982fc4e9684c219dd135faea5316d9": {
      "model_module": "@jupyter-widgets/controls",
      "model_module_version": "2.0.0",
      "model_name": "FloatProgressModel",
      "state": {
       "bar_style": "danger",
       "layout": "IPY_MODEL_348ecd07e3c347da89b5dbd5bfc3e0a1",
       "max": 745,
       "style": "IPY_MODEL_8388304b260c47dc870497cdf3d87a49"
      }
     },
     "12bf703b946a4f038142fb8531dbdd44": {
      "model_module": "@jupyter-widgets/controls",
      "model_module_version": "2.0.0",
      "model_name": "HBoxModel",
      "state": {
       "children": [
        "IPY_MODEL_b818e5d65c3542f6a729ce65fba6fb51",
        "IPY_MODEL_c7920e1bff204e9bb57e4091f0afcefe",
        "IPY_MODEL_aa4b3aba0f034b6683169439504d09e2"
       ],
       "layout": "IPY_MODEL_37735b4091e548288bc48279a94d8715"
      }
     },
     "12da4a20718d4a9c99734952b388568d": {
      "model_module": "@jupyter-widgets/controls",
      "model_module_version": "2.0.0",
      "model_name": "HTMLModel",
      "state": {
       "layout": "IPY_MODEL_97a25eb27ff74a93ad2a9175b6ebca3b",
       "style": "IPY_MODEL_e07a50f7639b4df39f7043458d0c4141",
       "value": "  0%"
      }
     },
     "130c0380d91b40509d93e759297da39e": {
      "model_module": "@jupyter-widgets/controls",
      "model_module_version": "2.0.0",
      "model_name": "FloatProgressModel",
      "state": {
       "bar_style": "danger",
       "layout": "IPY_MODEL_8e8d68849b9a4b919e6d094fb62566de",
       "max": 639,
       "style": "IPY_MODEL_28392fc934c2416fba367587ec22b3b4"
      }
     },
     "1312dc9db7784ebd825bd5700237df60": {
      "model_module": "@jupyter-widgets/base",
      "model_module_version": "2.0.0",
      "model_name": "LayoutModel",
      "state": {}
     },
     "131dfd0c9e9f48c8883bca380eb9d076": {
      "model_module": "@jupyter-widgets/base",
      "model_module_version": "2.0.0",
      "model_name": "LayoutModel",
      "state": {}
     },
     "13b4735bcc6d40769008f369d9774799": {
      "model_module": "@jupyter-widgets/base",
      "model_module_version": "2.0.0",
      "model_name": "LayoutModel",
      "state": {}
     },
     "13d77f5757d5454d9958b2d05a0513f1": {
      "model_module": "@jupyter-widgets/controls",
      "model_module_version": "2.0.0",
      "model_name": "HTMLModel",
      "state": {
       "layout": "IPY_MODEL_712317d0da60419798389f5e084a4736",
       "style": "IPY_MODEL_92fd2558ba3f41a2a5e3fbd8a57a3823",
       "value": " 0/712 [00:00&lt;?, ?it/s]"
      }
     },
     "141cb81e7b574aea9acba4dff6c56578": {
      "model_module": "@jupyter-widgets/base",
      "model_module_version": "2.0.0",
      "model_name": "LayoutModel",
      "state": {}
     },
     "143c81e97b9b465c97de430de5de9fa3": {
      "model_module": "@jupyter-widgets/base",
      "model_module_version": "2.0.0",
      "model_name": "LayoutModel",
      "state": {}
     },
     "1494901bd38b4447aaa6c069756e28f8": {
      "model_module": "@jupyter-widgets/controls",
      "model_module_version": "2.0.0",
      "model_name": "HTMLModel",
      "state": {
       "layout": "IPY_MODEL_063387d42a2246bfae61251f1b1eeb85",
       "style": "IPY_MODEL_6ad4e434aed3436387348cd0809a737a",
       "value": " 0/634 [00:00&lt;?, ?it/s]"
      }
     },
     "14f913283a274d03b3dd535439cb079a": {
      "model_module": "@jupyter-widgets/base",
      "model_module_version": "2.0.0",
      "model_name": "LayoutModel",
      "state": {}
     },
     "1516b6d8f3834824b843b0005d29048f": {
      "model_module": "@jupyter-widgets/controls",
      "model_module_version": "2.0.0",
      "model_name": "HTMLStyleModel",
      "state": {
       "description_width": "",
       "font_size": null,
       "text_color": null
      }
     },
     "152b3043d3f44b518ae3fba668b75e3c": {
      "model_module": "@jupyter-widgets/base",
      "model_module_version": "2.0.0",
      "model_name": "LayoutModel",
      "state": {}
     },
     "154735548fbf480d9db1a54681c5d34e": {
      "model_module": "@jupyter-widgets/controls",
      "model_module_version": "2.0.0",
      "model_name": "HTMLModel",
      "state": {
       "layout": "IPY_MODEL_92093ee3a4964bc0a918889c3b3e28c5",
       "style": "IPY_MODEL_aa173eadf7f648f1b26a91f5ac8d01f4",
       "value": " 0/620 [00:00&lt;?, ?it/s]"
      }
     },
     "1569e3c605164471b271b233018b6edf": {
      "model_module": "@jupyter-widgets/base",
      "model_module_version": "2.0.0",
      "model_name": "LayoutModel",
      "state": {}
     },
     "15875f75a42c4321980af603ff06c2f4": {
      "model_module": "@jupyter-widgets/controls",
      "model_module_version": "2.0.0",
      "model_name": "HTMLModel",
      "state": {
       "layout": "IPY_MODEL_dd6000d200364a21b649c1885bdcde41",
       "style": "IPY_MODEL_ba9d9e531f8c4e8c915c3b242508ebbd",
       "value": " 0/582 [00:00&lt;?, ?it/s]"
      }
     },
     "159515a376d747d2b03c792ec54d823f": {
      "model_module": "@jupyter-widgets/controls",
      "model_module_version": "2.0.0",
      "model_name": "HTMLStyleModel",
      "state": {
       "description_width": "",
       "font_size": null,
       "text_color": null
      }
     },
     "15a151c6a38841438aab7bac9fb21acc": {
      "model_module": "@jupyter-widgets/controls",
      "model_module_version": "2.0.0",
      "model_name": "HTMLModel",
      "state": {
       "layout": "IPY_MODEL_fb049d1803164191abea7d1c7be72ed3",
       "style": "IPY_MODEL_c03779c3208747f49ba4c2e9ed4b236e",
       "value": " 405/405 [00:08&lt;00:00, 46.84it/s]"
      }
     },
     "15b19311eeb0473db5f436be22833c5d": {
      "model_module": "@jupyter-widgets/controls",
      "model_module_version": "2.0.0",
      "model_name": "HTMLStyleModel",
      "state": {
       "description_width": "",
       "font_size": null,
       "text_color": null
      }
     },
     "15d8ff3189314262952b69c4f8537fb7": {
      "model_module": "@jupyter-widgets/controls",
      "model_module_version": "2.0.0",
      "model_name": "ProgressStyleModel",
      "state": {
       "description_width": ""
      }
     },
     "1609e08dc54748229aa11c98c8d47e08": {
      "model_module": "@jupyter-widgets/base",
      "model_module_version": "2.0.0",
      "model_name": "LayoutModel",
      "state": {}
     },
     "164103bcd6be458bb2a962665cf9876d": {
      "model_module": "@jupyter-widgets/base",
      "model_module_version": "2.0.0",
      "model_name": "LayoutModel",
      "state": {}
     },
     "1645678eb3884e4a8c1ce8472e87ef3b": {
      "model_module": "@jupyter-widgets/controls",
      "model_module_version": "2.0.0",
      "model_name": "HTMLModel",
      "state": {
       "layout": "IPY_MODEL_c28218b29ef649ceb54693affca63583",
       "style": "IPY_MODEL_cffe0e0987ca4936945f46a837d0686f",
       "value": " 450/450 [00:09&lt;00:00, 50.89it/s]"
      }
     },
     "165098a1cd3b4605bf631ff0f2ffa428": {
      "model_module": "@jupyter-widgets/controls",
      "model_module_version": "2.0.0",
      "model_name": "HTMLStyleModel",
      "state": {
       "description_width": "",
       "font_size": null,
       "text_color": null
      }
     },
     "1663ce2f57b94ba58726f1807ace289f": {
      "model_module": "@jupyter-widgets/controls",
      "model_module_version": "2.0.0",
      "model_name": "HBoxModel",
      "state": {
       "children": [
        "IPY_MODEL_7e24c4311c3841c28a9457de0a24abb8",
        "IPY_MODEL_59d036379ad74642ad3cb815272fe22d",
        "IPY_MODEL_826bec853b5640ca8eab735c18c1775c"
       ],
       "layout": "IPY_MODEL_858af77f7f194f298c75b33e3437749e"
      }
     },
     "166aeae028ea4e2196f104b3d7785d4a": {
      "model_module": "@jupyter-widgets/base",
      "model_module_version": "2.0.0",
      "model_name": "LayoutModel",
      "state": {}
     },
     "16b9a8241d6f4fa78c9e592ee65e4664": {
      "model_module": "@jupyter-widgets/base",
      "model_module_version": "2.0.0",
      "model_name": "LayoutModel",
      "state": {}
     },
     "16be6ebc07ca42be9529920166d34acc": {
      "model_module": "@jupyter-widgets/base",
      "model_module_version": "2.0.0",
      "model_name": "LayoutModel",
      "state": {}
     },
     "1727acaabbaa48a8b9dd20628f12f651": {
      "model_module": "@jupyter-widgets/base",
      "model_module_version": "2.0.0",
      "model_name": "LayoutModel",
      "state": {}
     },
     "17370df38e754ad59a76ffb9e59d4faa": {
      "model_module": "@jupyter-widgets/base",
      "model_module_version": "2.0.0",
      "model_name": "LayoutModel",
      "state": {}
     },
     "17b643581c504bfdbc51441c0960d519": {
      "model_module": "@jupyter-widgets/base",
      "model_module_version": "2.0.0",
      "model_name": "LayoutModel",
      "state": {}
     },
     "17bf216c398d474e84a5d68ac8e4261c": {
      "model_module": "@jupyter-widgets/controls",
      "model_module_version": "2.0.0",
      "model_name": "HTMLModel",
      "state": {
       "layout": "IPY_MODEL_93a3bfb21e2248ff90b0897827297db9",
       "style": "IPY_MODEL_9a9a3511c9104696a16e90c30ab64f68",
       "value": " 0/793 [00:00&lt;?, ?it/s]"
      }
     },
     "17e3dce8ebe44002b5d27780a0fe811c": {
      "model_module": "@jupyter-widgets/base",
      "model_module_version": "2.0.0",
      "model_name": "LayoutModel",
      "state": {}
     },
     "1843c825d175443ea2c441e1c775578f": {
      "model_module": "@jupyter-widgets/controls",
      "model_module_version": "2.0.0",
      "model_name": "HTMLStyleModel",
      "state": {
       "description_width": "",
       "font_size": null,
       "text_color": null
      }
     },
     "187f811fd7484409afbd80a379f7ebe6": {
      "model_module": "@jupyter-widgets/controls",
      "model_module_version": "2.0.0",
      "model_name": "HTMLModel",
      "state": {
       "layout": "IPY_MODEL_7b3b541a90bc40c088e8ed8dd43ef419",
       "style": "IPY_MODEL_19cfa2f7343a4933abe07fd651c3dd60",
       "value": "  0%"
      }
     },
     "18d5817ed574440f81e7261ff0cfddf9": {
      "model_module": "@jupyter-widgets/controls",
      "model_module_version": "2.0.0",
      "model_name": "ProgressStyleModel",
      "state": {
       "description_width": ""
      }
     },
     "18f0be0a7b0a491c82a834d71ecea99b": {
      "model_module": "@jupyter-widgets/controls",
      "model_module_version": "2.0.0",
      "model_name": "HTMLStyleModel",
      "state": {
       "description_width": "",
       "font_size": null,
       "text_color": null
      }
     },
     "19207ab66d3f48689971a9e331e881b7": {
      "model_module": "@jupyter-widgets/base",
      "model_module_version": "2.0.0",
      "model_name": "LayoutModel",
      "state": {}
     },
     "19295d03f367404298085ec25fc03423": {
      "model_module": "@jupyter-widgets/controls",
      "model_module_version": "2.0.0",
      "model_name": "HTMLModel",
      "state": {
       "layout": "IPY_MODEL_f402789c457a401eb2cc598a2797daa6",
       "style": "IPY_MODEL_ea8685c0910b4b58a1cbee1679c31d7a",
       "value": " 0/674 [00:00&lt;?, ?it/s]"
      }
     },
     "194b52b8df0d47099f18cf3f36c11184": {
      "model_module": "@jupyter-widgets/controls",
      "model_module_version": "2.0.0",
      "model_name": "FloatProgressModel",
      "state": {
       "bar_style": "danger",
       "layout": "IPY_MODEL_324e040da5f44bce9796d0d9d39d100c",
       "max": 578,
       "style": "IPY_MODEL_d11e1bb7710649268a9421a9e9bdca64"
      }
     },
     "197d0958f1eb4673baa604d55d342c67": {
      "model_module": "@jupyter-widgets/controls",
      "model_module_version": "2.0.0",
      "model_name": "FloatProgressModel",
      "state": {
       "bar_style": "danger",
       "layout": "IPY_MODEL_9379345f13a043cbb4e3867daa38d576",
       "max": 582,
       "style": "IPY_MODEL_d63eb6c38c354802a8523a5162e79a85"
      }
     },
     "1982db2ceb1741459282de583f54ea2a": {
      "model_module": "@jupyter-widgets/base",
      "model_module_version": "2.0.0",
      "model_name": "LayoutModel",
      "state": {}
     },
     "199fc2010e2e4e95bc9b3969f3d98597": {
      "model_module": "@jupyter-widgets/base",
      "model_module_version": "2.0.0",
      "model_name": "LayoutModel",
      "state": {}
     },
     "19cfa2f7343a4933abe07fd651c3dd60": {
      "model_module": "@jupyter-widgets/controls",
      "model_module_version": "2.0.0",
      "model_name": "HTMLStyleModel",
      "state": {
       "description_width": "",
       "font_size": null,
       "text_color": null
      }
     },
     "1a3485ad1abe48d785e27a61a47232cc": {
      "model_module": "@jupyter-widgets/base",
      "model_module_version": "2.0.0",
      "model_name": "LayoutModel",
      "state": {}
     },
     "1aa4fd9542974a1091d939c7c2deeed4": {
      "model_module": "@jupyter-widgets/base",
      "model_module_version": "2.0.0",
      "model_name": "LayoutModel",
      "state": {}
     },
     "1ac81ad0421346129ad0aef65d86fa25": {
      "model_module": "@jupyter-widgets/base",
      "model_module_version": "2.0.0",
      "model_name": "LayoutModel",
      "state": {}
     },
     "1adce9cb89a3401dba94c9723f993c10": {
      "model_module": "@jupyter-widgets/base",
      "model_module_version": "2.0.0",
      "model_name": "LayoutModel",
      "state": {}
     },
     "1b16a119bb884652b311b75fb636b1cb": {
      "model_module": "@jupyter-widgets/controls",
      "model_module_version": "2.0.0",
      "model_name": "HTMLModel",
      "state": {
       "layout": "IPY_MODEL_9dbea9f0008d40e9b431076fd938bede",
       "style": "IPY_MODEL_f645397bfa104acd9dcd58dc842eda6d",
       "value": " 0/582 [00:00&lt;?, ?it/s]"
      }
     },
     "1b1b0cae8c7644d98e54aa9b60ff5bf9": {
      "model_module": "@jupyter-widgets/base",
      "model_module_version": "2.0.0",
      "model_name": "LayoutModel",
      "state": {}
     },
     "1b1b7bb9a47246cdabb3f7197af8b8d4": {
      "model_module": "@jupyter-widgets/base",
      "model_module_version": "2.0.0",
      "model_name": "LayoutModel",
      "state": {}
     },
     "1b635c10754b43c8ae3491e16728231b": {
      "model_module": "@jupyter-widgets/base",
      "model_module_version": "2.0.0",
      "model_name": "LayoutModel",
      "state": {}
     },
     "1b7b77a6c0f941aeaa2e8f5e0069b6be": {
      "model_module": "@jupyter-widgets/controls",
      "model_module_version": "2.0.0",
      "model_name": "FloatProgressModel",
      "state": {
       "bar_style": "danger",
       "layout": "IPY_MODEL_6e030e6d74244a5fbc2d9e66d4d2313d",
       "max": 582,
       "style": "IPY_MODEL_edc4c2d883994e7ba2cff1d058a5896a"
      }
     },
     "1b816d5c54404e55972baeeb920dccd0": {
      "model_module": "@jupyter-widgets/base",
      "model_module_version": "2.0.0",
      "model_name": "LayoutModel",
      "state": {}
     },
     "1bb3430deb784a2b980c461dd1ca6bf8": {
      "model_module": "@jupyter-widgets/controls",
      "model_module_version": "2.0.0",
      "model_name": "HTMLStyleModel",
      "state": {
       "description_width": "",
       "font_size": null,
       "text_color": null
      }
     },
     "1bd2784a551747018d4b875f58d08dad": {
      "model_module": "@jupyter-widgets/controls",
      "model_module_version": "2.0.0",
      "model_name": "HTMLStyleModel",
      "state": {
       "description_width": "",
       "font_size": null,
       "text_color": null
      }
     },
     "1ca8b568d1e5423ea1b6510d6c2e3277": {
      "model_module": "@jupyter-widgets/base",
      "model_module_version": "2.0.0",
      "model_name": "LayoutModel",
      "state": {}
     },
     "1d736c5d57774b439754bfa8837fbf8e": {
      "model_module": "@jupyter-widgets/controls",
      "model_module_version": "2.0.0",
      "model_name": "ProgressStyleModel",
      "state": {
       "description_width": ""
      }
     },
     "1d8f02105726456194977e525fd8fc69": {
      "model_module": "@jupyter-widgets/base",
      "model_module_version": "2.0.0",
      "model_name": "LayoutModel",
      "state": {}
     },
     "1e079f25055e4422a69d471b167a6f81": {
      "model_module": "@jupyter-widgets/base",
      "model_module_version": "2.0.0",
      "model_name": "LayoutModel",
      "state": {}
     },
     "1e2419544a074f52bd250bf69b974385": {
      "model_module": "@jupyter-widgets/controls",
      "model_module_version": "2.0.0",
      "model_name": "FloatProgressModel",
      "state": {
       "bar_style": "danger",
       "layout": "IPY_MODEL_199fc2010e2e4e95bc9b3969f3d98597",
       "max": 642,
       "style": "IPY_MODEL_d3eb0a3af1904e3f91732da5059b1127"
      }
     },
     "1e3217d2d0854b52b0304b420c6889dc": {
      "model_module": "@jupyter-widgets/base",
      "model_module_version": "2.0.0",
      "model_name": "LayoutModel",
      "state": {}
     },
     "1e47632410b0404b81f467c09d6dd25f": {
      "model_module": "@jupyter-widgets/controls",
      "model_module_version": "2.0.0",
      "model_name": "FloatProgressModel",
      "state": {
       "bar_style": "danger",
       "layout": "IPY_MODEL_a6cfa521d6a84ebe85950108e6ca0ed8",
       "max": 582,
       "style": "IPY_MODEL_07d3930c1efa4cc090e6342df0f95ede"
      }
     },
     "1e52c3448201497b9dece4a9a9ce0506": {
      "model_module": "@jupyter-widgets/controls",
      "model_module_version": "2.0.0",
      "model_name": "ProgressStyleModel",
      "state": {
       "description_width": ""
      }
     },
     "1ebc621b75f14d9d92f47069ba706f17": {
      "model_module": "@jupyter-widgets/base",
      "model_module_version": "2.0.0",
      "model_name": "LayoutModel",
      "state": {}
     },
     "1f7f72763ea14699a95fd1caca0967c2": {
      "model_module": "@jupyter-widgets/base",
      "model_module_version": "2.0.0",
      "model_name": "LayoutModel",
      "state": {}
     },
     "1faa6cf77aec49eea8a1a77b2b4af69f": {
      "model_module": "@jupyter-widgets/controls",
      "model_module_version": "2.0.0",
      "model_name": "FloatProgressModel",
      "state": {
       "bar_style": "danger",
       "layout": "IPY_MODEL_7a34ca651c564a3a94d28c7ccd49fb7a",
       "max": 681,
       "style": "IPY_MODEL_60a278c88b264195a1fb531d089f5357"
      }
     },
     "1fb20313548b429ab23567d197f185ea": {
      "model_module": "@jupyter-widgets/controls",
      "model_module_version": "2.0.0",
      "model_name": "HTMLStyleModel",
      "state": {
       "description_width": "",
       "font_size": null,
       "text_color": null
      }
     },
     "2031d3271d134af2b52f930f13b9de4e": {
      "model_module": "@jupyter-widgets/controls",
      "model_module_version": "2.0.0",
      "model_name": "ProgressStyleModel",
      "state": {
       "description_width": ""
      }
     },
     "20364a2b19c8408ca1010261db430e71": {
      "model_module": "@jupyter-widgets/controls",
      "model_module_version": "2.0.0",
      "model_name": "HTMLModel",
      "state": {
       "layout": "IPY_MODEL_0f95539ffd6f4c01bfbaf0039f9545c3",
       "style": "IPY_MODEL_9235b3bfb0a640688ad1e5da94e1602d",
       "value": "  0%"
      }
     },
     "206e0639b30f434695f2d3f52b3eafa1": {
      "model_module": "@jupyter-widgets/base",
      "model_module_version": "2.0.0",
      "model_name": "LayoutModel",
      "state": {}
     },
     "20bc79988635480d9ba819c5a07e973f": {
      "model_module": "@jupyter-widgets/base",
      "model_module_version": "2.0.0",
      "model_name": "LayoutModel",
      "state": {}
     },
     "21b43777f1d2482aaa9680773a24082d": {
      "model_module": "@jupyter-widgets/controls",
      "model_module_version": "2.0.0",
      "model_name": "HTMLModel",
      "state": {
       "layout": "IPY_MODEL_92b3d00c8f384901ac9f5cb2e56efe30",
       "style": "IPY_MODEL_aee935f559954e87942a11761d600161",
       "value": " 0/582 [00:00&lt;?, ?it/s]"
      }
     },
     "21c3f75cffe94b94b4fcfe3b89824f85": {
      "model_module": "@jupyter-widgets/base",
      "model_module_version": "2.0.0",
      "model_name": "LayoutModel",
      "state": {}
     },
     "21f81a6779c1457d90d9a880b8c28324": {
      "model_module": "@jupyter-widgets/controls",
      "model_module_version": "2.0.0",
      "model_name": "HTMLStyleModel",
      "state": {
       "description_width": "",
       "font_size": null,
       "text_color": null
      }
     },
     "220b95adc6ac47fcb2193eb38a0f554b": {
      "model_module": "@jupyter-widgets/controls",
      "model_module_version": "2.0.0",
      "model_name": "FloatProgressModel",
      "state": {
       "bar_style": "danger",
       "layout": "IPY_MODEL_edd8b350cffd4d79a091be351ab1a77e",
       "max": 681,
       "style": "IPY_MODEL_e7660853d5f34d80be973344d14a5e62"
      }
     },
     "2211f58670104255a1a9ee4202944b28": {
      "model_module": "@jupyter-widgets/base",
      "model_module_version": "2.0.0",
      "model_name": "LayoutModel",
      "state": {}
     },
     "2225148cbf4743298c9fe6c069c094a7": {
      "model_module": "@jupyter-widgets/controls",
      "model_module_version": "2.0.0",
      "model_name": "FloatProgressModel",
      "state": {
       "bar_style": "danger",
       "layout": "IPY_MODEL_41df0a1b33bc48feb8b69c1db4d06df9",
       "max": 704,
       "style": "IPY_MODEL_24d82fec01674409a2e5fbb81f5d74ec"
      }
     },
     "223c292bd2db4358870298efcf40f099": {
      "model_module": "@jupyter-widgets/controls",
      "model_module_version": "2.0.0",
      "model_name": "ProgressStyleModel",
      "state": {
       "description_width": ""
      }
     },
     "2254a774f634498c9e964942aa9c9ab3": {
      "model_module": "@jupyter-widgets/controls",
      "model_module_version": "2.0.0",
      "model_name": "ProgressStyleModel",
      "state": {
       "description_width": ""
      }
     },
     "22613ab514834dc99c5034ebe3b7aef3": {
      "model_module": "@jupyter-widgets/controls",
      "model_module_version": "2.0.0",
      "model_name": "ProgressStyleModel",
      "state": {
       "description_width": ""
      }
     },
     "22a5184cef254420a99908104e28d05e": {
      "model_module": "@jupyter-widgets/controls",
      "model_module_version": "2.0.0",
      "model_name": "ProgressStyleModel",
      "state": {
       "description_width": ""
      }
     },
     "22b03094afa8478aa1ff9a6a702a41d1": {
      "model_module": "@jupyter-widgets/controls",
      "model_module_version": "2.0.0",
      "model_name": "HTMLStyleModel",
      "state": {
       "description_width": "",
       "font_size": null,
       "text_color": null
      }
     },
     "22c6432ea4ff4bf2ad35620d42abf47e": {
      "model_module": "@jupyter-widgets/controls",
      "model_module_version": "2.0.0",
      "model_name": "HTMLStyleModel",
      "state": {
       "description_width": "",
       "font_size": null,
       "text_color": null
      }
     },
     "22e8210452ec40dcb25caa286b70183e": {
      "model_module": "@jupyter-widgets/base",
      "model_module_version": "2.0.0",
      "model_name": "LayoutModel",
      "state": {}
     },
     "22fb34bfc350464b9070a2014dea0c62": {
      "model_module": "@jupyter-widgets/base",
      "model_module_version": "2.0.0",
      "model_name": "LayoutModel",
      "state": {}
     },
     "231956d4e9c3424c9205e94fb8b426a3": {
      "model_module": "@jupyter-widgets/base",
      "model_module_version": "2.0.0",
      "model_name": "LayoutModel",
      "state": {}
     },
     "231c96dc96134fe5874503b9d7112b5e": {
      "model_module": "@jupyter-widgets/controls",
      "model_module_version": "2.0.0",
      "model_name": "HTMLModel",
      "state": {
       "layout": "IPY_MODEL_1b1b7bb9a47246cdabb3f7197af8b8d4",
       "style": "IPY_MODEL_8dd9747268364af4bab32285659275ce",
       "value": " 0/927 [00:00&lt;?, ?it/s]"
      }
     },
     "233f80dea1ab4307bfc4bb3ea972d1c2": {
      "model_module": "@jupyter-widgets/base",
      "model_module_version": "2.0.0",
      "model_name": "LayoutModel",
      "state": {}
     },
     "236e4d6d132d4824a64e4fc8ba084d43": {
      "model_module": "@jupyter-widgets/base",
      "model_module_version": "2.0.0",
      "model_name": "LayoutModel",
      "state": {}
     },
     "239dff341580403a928a0598934d1605": {
      "model_module": "@jupyter-widgets/controls",
      "model_module_version": "2.0.0",
      "model_name": "HTMLStyleModel",
      "state": {
       "description_width": "",
       "font_size": null,
       "text_color": null
      }
     },
     "23a93736f85848b98ea5a045d6ec1ad9": {
      "model_module": "@jupyter-widgets/controls",
      "model_module_version": "2.0.0",
      "model_name": "FloatProgressModel",
      "state": {
       "bar_style": "success",
       "layout": "IPY_MODEL_f483035468ca4d249d52322d8fa90f33",
       "max": 118,
       "style": "IPY_MODEL_4abe9cda8e8c4cf9bd73aa1516fe9701",
       "value": 118
      }
     },
     "23ec135f627449868309f1449ec4a67d": {
      "model_module": "@jupyter-widgets/controls",
      "model_module_version": "2.0.0",
      "model_name": "HTMLModel",
      "state": {
       "layout": "IPY_MODEL_e04818a67ede461ca0065524528ab703",
       "style": "IPY_MODEL_15b19311eeb0473db5f436be22833c5d",
       "value": "  0%"
      }
     },
     "23f6af2c1eeb4d21b9a4550c94fbc2ee": {
      "model_module": "@jupyter-widgets/base",
      "model_module_version": "2.0.0",
      "model_name": "LayoutModel",
      "state": {}
     },
     "2434e59d92e4405d97030e80ab86f984": {
      "model_module": "@jupyter-widgets/base",
      "model_module_version": "2.0.0",
      "model_name": "LayoutModel",
      "state": {}
     },
     "245ce93a140b4df1adfc38ff599a3cef": {
      "model_module": "@jupyter-widgets/base",
      "model_module_version": "2.0.0",
      "model_name": "LayoutModel",
      "state": {}
     },
     "2471bd3c0da84f798b84ea822d6fd0d7": {
      "model_module": "@jupyter-widgets/controls",
      "model_module_version": "2.0.0",
      "model_name": "HTMLModel",
      "state": {
       "layout": "IPY_MODEL_b4e6721016fe4838abb84691dfd0125e",
       "style": "IPY_MODEL_bc06bf2c66e0449180084703b591b172",
       "value": " 0/420 [00:00&lt;?, ?it/s]"
      }
     },
     "248b0cefb42a40d2a8adeaf0615f1426": {
      "model_module": "@jupyter-widgets/base",
      "model_module_version": "2.0.0",
      "model_name": "LayoutModel",
      "state": {}
     },
     "24d322e1a98544a3a80eb8e0601ff3a5": {
      "model_module": "@jupyter-widgets/controls",
      "model_module_version": "2.0.0",
      "model_name": "FloatProgressModel",
      "state": {
       "bar_style": "danger",
       "layout": "IPY_MODEL_14f913283a274d03b3dd535439cb079a",
       "max": 702,
       "style": "IPY_MODEL_10fcbbfd84af401f8e37c598d592c8db"
      }
     },
     "24d82fec01674409a2e5fbb81f5d74ec": {
      "model_module": "@jupyter-widgets/controls",
      "model_module_version": "2.0.0",
      "model_name": "ProgressStyleModel",
      "state": {
       "description_width": ""
      }
     },
     "2505451174934337a13c49ef6a2b597e": {
      "model_module": "@jupyter-widgets/base",
      "model_module_version": "2.0.0",
      "model_name": "LayoutModel",
      "state": {}
     },
     "2508be9a65c049ec98083954b0d54e49": {
      "model_module": "@jupyter-widgets/base",
      "model_module_version": "2.0.0",
      "model_name": "LayoutModel",
      "state": {}
     },
     "251d2a3c06ec41bf8e7c7a2248c5496b": {
      "model_module": "@jupyter-widgets/controls",
      "model_module_version": "2.0.0",
      "model_name": "HTMLStyleModel",
      "state": {
       "description_width": "",
       "font_size": null,
       "text_color": null
      }
     },
     "2590167f7c8948829d5e36803efb9037": {
      "model_module": "@jupyter-widgets/controls",
      "model_module_version": "2.0.0",
      "model_name": "HTMLStyleModel",
      "state": {
       "description_width": "",
       "font_size": null,
       "text_color": null
      }
     },
     "25cc9ba3f04640549646f1d72ead075f": {
      "model_module": "@jupyter-widgets/controls",
      "model_module_version": "2.0.0",
      "model_name": "FloatProgressModel",
      "state": {
       "bar_style": "danger",
       "layout": "IPY_MODEL_8e70516b6e54479ea9c1d94ba2f80058",
       "max": 418,
       "style": "IPY_MODEL_3dfd11cd52194121b24480cb40a7c323"
      }
     },
     "25d1d0e58c5948b7af0bf6435f32a5af": {
      "model_module": "@jupyter-widgets/controls",
      "model_module_version": "2.0.0",
      "model_name": "HBoxModel",
      "state": {
       "children": [
        "IPY_MODEL_a29ac64f0d3d4a15a60faac06c6e37f0",
        "IPY_MODEL_a86b01e18bd347828d95957afae9a8d0",
        "IPY_MODEL_5860f8d93a80476b837a1111dcb10f11"
       ],
       "layout": "IPY_MODEL_8fa2c7caa1924da699a5ff1f75cf7132"
      }
     },
     "25dd4cfe877b416ab4d76df08bfbc9c0": {
      "model_module": "@jupyter-widgets/controls",
      "model_module_version": "2.0.0",
      "model_name": "HTMLModel",
      "state": {
       "layout": "IPY_MODEL_ec81aa2d9f44466fb7e51d2519d49fb8",
       "style": "IPY_MODEL_cbabdee61c2f403eb13ffb1cb9b8d92c",
       "value": " 0/620 [00:00&lt;?, ?it/s]"
      }
     },
     "25fde9b52a3041b5a2842a66e5b6f698": {
      "model_module": "@jupyter-widgets/base",
      "model_module_version": "2.0.0",
      "model_name": "LayoutModel",
      "state": {}
     },
     "2635eaf56e274468a6011c6d4032f04f": {
      "model_module": "@jupyter-widgets/base",
      "model_module_version": "2.0.0",
      "model_name": "LayoutModel",
      "state": {}
     },
     "2636830f45e94a908f096f9cfed1f519": {
      "model_module": "@jupyter-widgets/controls",
      "model_module_version": "2.0.0",
      "model_name": "HTMLModel",
      "state": {
       "layout": "IPY_MODEL_489b6b46ab42414ba1deee60f3ff1418",
       "style": "IPY_MODEL_f0082e9b9d8c46cdb442a522a18042d8",
       "value": "  0%"
      }
     },
     "2647ffde31cf4651b07a79724f573c01": {
      "model_module": "@jupyter-widgets/base",
      "model_module_version": "2.0.0",
      "model_name": "LayoutModel",
      "state": {}
     },
     "2664eaf289494a74bae0750e7b703a08": {
      "model_module": "@jupyter-widgets/controls",
      "model_module_version": "2.0.0",
      "model_name": "HTMLModel",
      "state": {
       "layout": "IPY_MODEL_45a50b59d0ac4f5085e750de35b880ec",
       "style": "IPY_MODEL_4fed745a5bab4d42825f3099879494b9",
       "value": "  0%"
      }
     },
     "267a1c9f4a2e48eb89170b1ddee72fc8": {
      "model_module": "@jupyter-widgets/base",
      "model_module_version": "2.0.0",
      "model_name": "LayoutModel",
      "state": {}
     },
     "2730cd949b314eb4b9c7e01d383d0940": {
      "model_module": "@jupyter-widgets/controls",
      "model_module_version": "2.0.0",
      "model_name": "HBoxModel",
      "state": {
       "children": [
        "IPY_MODEL_b59350b6254e4e268c37b02ed8e43e68",
        "IPY_MODEL_30c174bd49a8462785e14751863f9b06",
        "IPY_MODEL_5fcf861d016a4261982c7f582ff7f055"
       ],
       "layout": "IPY_MODEL_d4c9f95dbb264dc2881b3151302b4583"
      }
     },
     "273a9bb53c93485782c94c706acb5d1d": {
      "model_module": "@jupyter-widgets/base",
      "model_module_version": "2.0.0",
      "model_name": "LayoutModel",
      "state": {}
     },
     "27448e1a0c1a45038dcd110a614328c2": {
      "model_module": "@jupyter-widgets/controls",
      "model_module_version": "2.0.0",
      "model_name": "ProgressStyleModel",
      "state": {
       "description_width": ""
      }
     },
     "278a4fd9f76a4d869b02f2d8f8718394": {
      "model_module": "@jupyter-widgets/controls",
      "model_module_version": "2.0.0",
      "model_name": "HTMLStyleModel",
      "state": {
       "description_width": "",
       "font_size": null,
       "text_color": null
      }
     },
     "279e95ecfc134da5abaafad84ffaeade": {
      "model_module": "@jupyter-widgets/base",
      "model_module_version": "2.0.0",
      "model_name": "LayoutModel",
      "state": {}
     },
     "280ffb473fa942c1b756db753573f5a2": {
      "model_module": "@jupyter-widgets/controls",
      "model_module_version": "2.0.0",
      "model_name": "HTMLStyleModel",
      "state": {
       "description_width": "",
       "font_size": null,
       "text_color": null
      }
     },
     "28392fc934c2416fba367587ec22b3b4": {
      "model_module": "@jupyter-widgets/controls",
      "model_module_version": "2.0.0",
      "model_name": "ProgressStyleModel",
      "state": {
       "description_width": ""
      }
     },
     "28c0c9877c4640ebac01aaf3cda0b989": {
      "model_module": "@jupyter-widgets/controls",
      "model_module_version": "2.0.0",
      "model_name": "FloatProgressModel",
      "state": {
       "bar_style": "danger",
       "layout": "IPY_MODEL_f659419533074bad8de05a3cddbf6fac",
       "max": 797,
       "style": "IPY_MODEL_f321bfb8b84b429c931ebd9ad9cc621f"
      }
     },
     "28c2c3fdd36b4a119a1b240753c842bd": {
      "model_module": "@jupyter-widgets/controls",
      "model_module_version": "2.0.0",
      "model_name": "HTMLStyleModel",
      "state": {
       "description_width": "",
       "font_size": null,
       "text_color": null
      }
     },
     "298112ab16804d8ca58858ff1f20b9a0": {
      "model_module": "@jupyter-widgets/controls",
      "model_module_version": "2.0.0",
      "model_name": "HBoxModel",
      "state": {
       "children": [
        "IPY_MODEL_5a5988e4acc14673b01c1337a373b3ea",
        "IPY_MODEL_44432fd58f5f478eb71517a833373ee3",
        "IPY_MODEL_6725cf2a963945c5bba2f9e18963ef95"
       ],
       "layout": "IPY_MODEL_2ac99d12838a41ee9f2ba4901741ad62"
      }
     },
     "29b48daa32724a4ca53be2bb12b246b8": {
      "model_module": "@jupyter-widgets/base",
      "model_module_version": "2.0.0",
      "model_name": "LayoutModel",
      "state": {}
     },
     "2a00c816dc00481fb411ce1544dcd7bd": {
      "model_module": "@jupyter-widgets/controls",
      "model_module_version": "2.0.0",
      "model_name": "ProgressStyleModel",
      "state": {
       "description_width": ""
      }
     },
     "2a9a1a85640a473da149af15043302c6": {
      "model_module": "@jupyter-widgets/controls",
      "model_module_version": "2.0.0",
      "model_name": "HTMLStyleModel",
      "state": {
       "description_width": "",
       "font_size": null,
       "text_color": null
      }
     },
     "2aa1e3d2c5c444b38eb01f0dadef56e0": {
      "model_module": "@jupyter-widgets/controls",
      "model_module_version": "2.0.0",
      "model_name": "ProgressStyleModel",
      "state": {
       "description_width": ""
      }
     },
     "2ac99d12838a41ee9f2ba4901741ad62": {
      "model_module": "@jupyter-widgets/base",
      "model_module_version": "2.0.0",
      "model_name": "LayoutModel",
      "state": {}
     },
     "2b01457bbe5840e097d35e6b4b090a8e": {
      "model_module": "@jupyter-widgets/controls",
      "model_module_version": "2.0.0",
      "model_name": "HTMLStyleModel",
      "state": {
       "description_width": "",
       "font_size": null,
       "text_color": null
      }
     },
     "2b26e60bc9b24e9291c78fa7981313be": {
      "model_module": "@jupyter-widgets/controls",
      "model_module_version": "2.0.0",
      "model_name": "FloatProgressModel",
      "state": {
       "bar_style": "danger",
       "layout": "IPY_MODEL_22fb34bfc350464b9070a2014dea0c62",
       "max": 674,
       "style": "IPY_MODEL_8a6a721bcdd84e928a7374326602016a"
      }
     },
     "2b46746b9fb44294a242d7fc3e77a33f": {
      "model_module": "@jupyter-widgets/controls",
      "model_module_version": "2.0.0",
      "model_name": "HTMLModel",
      "state": {
       "layout": "IPY_MODEL_7b844620277b43f9a6b27179d204b2e9",
       "style": "IPY_MODEL_278a4fd9f76a4d869b02f2d8f8718394",
       "value": "  0%"
      }
     },
     "2b9d16b4af28486abff62c7114881254": {
      "model_module": "@jupyter-widgets/controls",
      "model_module_version": "2.0.0",
      "model_name": "HTMLModel",
      "state": {
       "layout": "IPY_MODEL_6fa3ff5d35ee4c78909eb8ff65952154",
       "style": "IPY_MODEL_d6d80024a19d4bf9823a196eb1313a80",
       "value": "100%"
      }
     },
     "2bce5229b0dc405caffd6489e3faf44a": {
      "model_module": "@jupyter-widgets/controls",
      "model_module_version": "2.0.0",
      "model_name": "HTMLModel",
      "state": {
       "layout": "IPY_MODEL_7f7d7716302c4ac4b44eb49099070af9",
       "style": "IPY_MODEL_a97c79416ba040c19b456bcafe5d9b0b",
       "value": "  0%"
      }
     },
     "2bce6fb1fcaf4776b7a64d55f5ed812f": {
      "model_module": "@jupyter-widgets/controls",
      "model_module_version": "2.0.0",
      "model_name": "ProgressStyleModel",
      "state": {
       "description_width": ""
      }
     },
     "2bd48bff03cc43cbbdeea1b9c887a35a": {
      "model_module": "@jupyter-widgets/controls",
      "model_module_version": "2.0.0",
      "model_name": "ProgressStyleModel",
      "state": {
       "description_width": ""
      }
     },
     "2c1483bac58b4a919ae463671899715b": {
      "model_module": "@jupyter-widgets/controls",
      "model_module_version": "2.0.0",
      "model_name": "HTMLModel",
      "state": {
       "layout": "IPY_MODEL_57b93a9b2c9b4afbad6cf36bb730627b",
       "style": "IPY_MODEL_713e4ad2ba6a4e278eb38bc309de72e6",
       "value": "  0%"
      }
     },
     "2c510208f3bb44ed87de98a3b0896a2e": {
      "model_module": "@jupyter-widgets/controls",
      "model_module_version": "2.0.0",
      "model_name": "HTMLStyleModel",
      "state": {
       "description_width": "",
       "font_size": null,
       "text_color": null
      }
     },
     "2c5fd371c6a3406ab0dd21289d4d6358": {
      "model_module": "@jupyter-widgets/controls",
      "model_module_version": "2.0.0",
      "model_name": "HTMLStyleModel",
      "state": {
       "description_width": "",
       "font_size": null,
       "text_color": null
      }
     },
     "2c7ccd74f9cf47cebc6743ee9cdf3638": {
      "model_module": "@jupyter-widgets/base",
      "model_module_version": "2.0.0",
      "model_name": "LayoutModel",
      "state": {}
     },
     "2cc07698bb884baca4a934164d803c07": {
      "model_module": "@jupyter-widgets/controls",
      "model_module_version": "2.0.0",
      "model_name": "ProgressStyleModel",
      "state": {
       "description_width": ""
      }
     },
     "2d30bcc3fdff4129bdf95d83bdf6935a": {
      "model_module": "@jupyter-widgets/base",
      "model_module_version": "2.0.0",
      "model_name": "LayoutModel",
      "state": {}
     },
     "2d46c956b5f24492bed1d915ad1f59e7": {
      "model_module": "@jupyter-widgets/controls",
      "model_module_version": "2.0.0",
      "model_name": "ProgressStyleModel",
      "state": {
       "description_width": ""
      }
     },
     "2d564047328944b68bdb4c3388ac7545": {
      "model_module": "@jupyter-widgets/controls",
      "model_module_version": "2.0.0",
      "model_name": "HTMLStyleModel",
      "state": {
       "description_width": "",
       "font_size": null,
       "text_color": null
      }
     },
     "2d6909be11294302a71f8e835adfa63a": {
      "model_module": "@jupyter-widgets/controls",
      "model_module_version": "2.0.0",
      "model_name": "HTMLModel",
      "state": {
       "layout": "IPY_MODEL_2434e59d92e4405d97030e80ab86f984",
       "style": "IPY_MODEL_c40fd2121a484ff581cada1c37f1ef82",
       "value": " 0/527 [00:00&lt;?, ?it/s]"
      }
     },
     "2d6b534d67b246e18f71dc77a52b088f": {
      "model_module": "@jupyter-widgets/controls",
      "model_module_version": "2.0.0",
      "model_name": "HTMLStyleModel",
      "state": {
       "description_width": "",
       "font_size": null,
       "text_color": null
      }
     },
     "2d810a64fa884fdeb33c8a4ea43e768c": {
      "model_module": "@jupyter-widgets/base",
      "model_module_version": "2.0.0",
      "model_name": "LayoutModel",
      "state": {}
     },
     "2dab168fc1ee4753ae4f5c9553f1a9e2": {
      "model_module": "@jupyter-widgets/base",
      "model_module_version": "2.0.0",
      "model_name": "LayoutModel",
      "state": {}
     },
     "2df901a64ddd41bd8d905a2a95558825": {
      "model_module": "@jupyter-widgets/controls",
      "model_module_version": "2.0.0",
      "model_name": "HTMLStyleModel",
      "state": {
       "description_width": "",
       "font_size": null,
       "text_color": null
      }
     },
     "2e418cbcb1414745be75c9d47f9c8ede": {
      "model_module": "@jupyter-widgets/controls",
      "model_module_version": "2.0.0",
      "model_name": "HTMLStyleModel",
      "state": {
       "description_width": "",
       "font_size": null,
       "text_color": null
      }
     },
     "2e7d428a15974aa3b3aa9a4d94a5ae7d": {
      "model_module": "@jupyter-widgets/base",
      "model_module_version": "2.0.0",
      "model_name": "LayoutModel",
      "state": {}
     },
     "2e84e7b3df9e4e9ca8eab73adec6782c": {
      "model_module": "@jupyter-widgets/controls",
      "model_module_version": "2.0.0",
      "model_name": "HTMLModel",
      "state": {
       "layout": "IPY_MODEL_b1c48b42412d4561ad042f29f283f596",
       "style": "IPY_MODEL_4f7c6e0b73b34dd2ad1d8e8f06932188",
       "value": "  0%"
      }
     },
     "2ea09c8e28854d57b133a96204fbc0d0": {
      "model_module": "@jupyter-widgets/controls",
      "model_module_version": "2.0.0",
      "model_name": "HTMLModel",
      "state": {
       "layout": "IPY_MODEL_1f7f72763ea14699a95fd1caca0967c2",
       "style": "IPY_MODEL_3c5e9a4002854d04ac00a79e1e6c4d61",
       "value": " 344/344 [00:11&lt;00:00, 47.76it/s]"
      }
     },
     "2eeee2f7d4e947b1b9bcac63cf3ecc11": {
      "model_module": "@jupyter-widgets/controls",
      "model_module_version": "2.0.0",
      "model_name": "HTMLStyleModel",
      "state": {
       "description_width": "",
       "font_size": null,
       "text_color": null
      }
     },
     "2f59d088ccb1453f80516b16294a0424": {
      "model_module": "@jupyter-widgets/controls",
      "model_module_version": "2.0.0",
      "model_name": "FloatProgressModel",
      "state": {
       "bar_style": "danger",
       "layout": "IPY_MODEL_79260809f0e24b5eb887d55c630f8e6a",
       "max": 612,
       "style": "IPY_MODEL_738ae30a40794b0db2ccf4ad2e400cc2"
      }
     },
     "2f77dd8a87c643a3a22382134ad3df58": {
      "model_module": "@jupyter-widgets/controls",
      "model_module_version": "2.0.0",
      "model_name": "HTMLStyleModel",
      "state": {
       "description_width": "",
       "font_size": null,
       "text_color": null
      }
     },
     "2f84de1ec0fc4100a01553822bf11a3b": {
      "model_module": "@jupyter-widgets/base",
      "model_module_version": "2.0.0",
      "model_name": "LayoutModel",
      "state": {}
     },
     "2fd5f60ef8ab4fcc93267deec40a1591": {
      "model_module": "@jupyter-widgets/controls",
      "model_module_version": "2.0.0",
      "model_name": "HTMLModel",
      "state": {
       "layout": "IPY_MODEL_03ae1c4492f4468187217ca68d67999c",
       "style": "IPY_MODEL_3cd9b7c48c1847dd9855e34deedc99e0",
       "value": "100%"
      }
     },
     "30048f1da8f4404e9178c1a355799cd2": {
      "model_module": "@jupyter-widgets/controls",
      "model_module_version": "2.0.0",
      "model_name": "HTMLModel",
      "state": {
       "layout": "IPY_MODEL_c3e45ccb867e41ee9cf5fed3034e1a6f",
       "style": "IPY_MODEL_621fa93808d3443da1a6c03aad028c99",
       "value": " 0/690 [00:00&lt;?, ?it/s]"
      }
     },
     "3004b50a8d9444c68b5f532adc6b4bb7": {
      "model_module": "@jupyter-widgets/controls",
      "model_module_version": "2.0.0",
      "model_name": "HTMLModel",
      "state": {
       "layout": "IPY_MODEL_b24f44f085f0497aa32f8480c54ecd2b",
       "style": "IPY_MODEL_a138b4e59a4c430f83e2035d42dc987a",
       "value": " 0/711 [00:00&lt;?, ?it/s]"
      }
     },
     "302b3a6212fc49d58b773a737d91619f": {
      "model_module": "@jupyter-widgets/controls",
      "model_module_version": "2.0.0",
      "model_name": "HTMLStyleModel",
      "state": {
       "description_width": "",
       "font_size": null,
       "text_color": null
      }
     },
     "307a9ea2fb2c46e8898db38a5fed5d66": {
      "model_module": "@jupyter-widgets/base",
      "model_module_version": "2.0.0",
      "model_name": "LayoutModel",
      "state": {}
     },
     "309c00629edf4d4d8736a1fc0d985721": {
      "model_module": "@jupyter-widgets/controls",
      "model_module_version": "2.0.0",
      "model_name": "ProgressStyleModel",
      "state": {
       "description_width": ""
      }
     },
     "30c174bd49a8462785e14751863f9b06": {
      "model_module": "@jupyter-widgets/controls",
      "model_module_version": "2.0.0",
      "model_name": "FloatProgressModel",
      "state": {
       "bar_style": "danger",
       "layout": "IPY_MODEL_141cb81e7b574aea9acba4dff6c56578",
       "max": 582,
       "style": "IPY_MODEL_9de94f893139480a99471c2ef8e9f200"
      }
     },
     "3108baf3f8ae40069fb5c5d282eb45f0": {
      "model_module": "@jupyter-widgets/controls",
      "model_module_version": "2.0.0",
      "model_name": "HBoxModel",
      "state": {
       "children": [
        "IPY_MODEL_0576d502047945c7a007689c618d37db",
        "IPY_MODEL_2225148cbf4743298c9fe6c069c094a7",
        "IPY_MODEL_ab1361a816c94fe98be82897b42b0eb4"
       ],
       "layout": "IPY_MODEL_4375633d7bfc4485bd12e368596163d4"
      }
     },
     "313453bf461b4c7da1bf478ccc9f2a56": {
      "model_module": "@jupyter-widgets/base",
      "model_module_version": "2.0.0",
      "model_name": "LayoutModel",
      "state": {}
     },
     "316ce8524039402abf6e0a712b950e96": {
      "model_module": "@jupyter-widgets/controls",
      "model_module_version": "2.0.0",
      "model_name": "HTMLModel",
      "state": {
       "layout": "IPY_MODEL_7c5dfdcb60db428da6501eab95e588ef",
       "style": "IPY_MODEL_3738cda915104dd18f6b4d86b56916bb",
       "value": "  0%"
      }
     },
     "317f7f2c02e74453a3973afbb5b65e66": {
      "model_module": "@jupyter-widgets/controls",
      "model_module_version": "2.0.0",
      "model_name": "HTMLModel",
      "state": {
       "layout": "IPY_MODEL_54bcf6dde2f14a7e944853acf0160e62",
       "style": "IPY_MODEL_5c4288234cba4bd88b128293be320fb8",
       "value": "  0%"
      }
     },
     "319ec114b63946b1b685f4ea3e005861": {
      "model_module": "@jupyter-widgets/controls",
      "model_module_version": "2.0.0",
      "model_name": "HTMLStyleModel",
      "state": {
       "description_width": "",
       "font_size": null,
       "text_color": null
      }
     },
     "31a9f8c02d8c4bc3b534647921bd3959": {
      "model_module": "@jupyter-widgets/base",
      "model_module_version": "2.0.0",
      "model_name": "LayoutModel",
      "state": {}
     },
     "31f0e507a3414cde8f21821b16eae5ca": {
      "model_module": "@jupyter-widgets/controls",
      "model_module_version": "2.0.0",
      "model_name": "HBoxModel",
      "state": {
       "children": [
        "IPY_MODEL_b0cef2c45a6d4035abc07cfb61521ebb",
        "IPY_MODEL_eccbcb1957d6401381b4b4d8ee8fff0c",
        "IPY_MODEL_ab2cb79f5076492cb1739244b9ef297c"
       ],
       "layout": "IPY_MODEL_e6abab84b5494da7ada94f950d65d4c2"
      }
     },
     "31fe2e4effbe494b88d413588391243b": {
      "model_module": "@jupyter-widgets/controls",
      "model_module_version": "2.0.0",
      "model_name": "HTMLStyleModel",
      "state": {
       "description_width": "",
       "font_size": null,
       "text_color": null
      }
     },
     "324e040da5f44bce9796d0d9d39d100c": {
      "model_module": "@jupyter-widgets/base",
      "model_module_version": "2.0.0",
      "model_name": "LayoutModel",
      "state": {}
     },
     "326a36956fd14fd3a3b476ab5de172d6": {
      "model_module": "@jupyter-widgets/controls",
      "model_module_version": "2.0.0",
      "model_name": "HTMLStyleModel",
      "state": {
       "description_width": "",
       "font_size": null,
       "text_color": null
      }
     },
     "3310d2d4e6d24663a54a081ab3134748": {
      "model_module": "@jupyter-widgets/controls",
      "model_module_version": "2.0.0",
      "model_name": "HTMLModel",
      "state": {
       "layout": "IPY_MODEL_433ed82caa444194aee28306b4db5abd",
       "style": "IPY_MODEL_df5ac736761a4a1097cab02d4fe66adf",
       "value": "  0%"
      }
     },
     "333336334cfe40eb81a91e4dfe8f30ce": {
      "model_module": "@jupyter-widgets/controls",
      "model_module_version": "2.0.0",
      "model_name": "HTMLModel",
      "state": {
       "layout": "IPY_MODEL_a36978cadc2543f097eb536f603491d2",
       "style": "IPY_MODEL_705a048b6f6e4651b78111499a0c2dc7",
       "value": "  0%"
      }
     },
     "3348586a77ab4a0a92729d4778e0a6ed": {
      "model_module": "@jupyter-widgets/controls",
      "model_module_version": "2.0.0",
      "model_name": "HTMLStyleModel",
      "state": {
       "description_width": "",
       "font_size": null,
       "text_color": null
      }
     },
     "335a65c6d8044397bd33238580a66405": {
      "model_module": "@jupyter-widgets/base",
      "model_module_version": "2.0.0",
      "model_name": "LayoutModel",
      "state": {}
     },
     "33646f8ad3714a6f87516ce4a424a13a": {
      "model_module": "@jupyter-widgets/base",
      "model_module_version": "2.0.0",
      "model_name": "LayoutModel",
      "state": {}
     },
     "341071ce33364019937c4ba4bcf722e6": {
      "model_module": "@jupyter-widgets/controls",
      "model_module_version": "2.0.0",
      "model_name": "HTMLStyleModel",
      "state": {
       "description_width": "",
       "font_size": null,
       "text_color": null
      }
     },
     "348ecd07e3c347da89b5dbd5bfc3e0a1": {
      "model_module": "@jupyter-widgets/base",
      "model_module_version": "2.0.0",
      "model_name": "LayoutModel",
      "state": {}
     },
     "34a2485e76cd4acc8c5d4caa724037ae": {
      "model_module": "@jupyter-widgets/controls",
      "model_module_version": "2.0.0",
      "model_name": "HBoxModel",
      "state": {
       "children": [
        "IPY_MODEL_4574fb7393ab41188953ef40c45c7277",
        "IPY_MODEL_c12f1fec2a1642a2951bfd9d05195088",
        "IPY_MODEL_ab2ac881c3f340718e6b6388ce801e31"
       ],
       "layout": "IPY_MODEL_8566beaf619344f4a492ec270637b626"
      }
     },
     "34cb213e67174969aa21cc69dabcbd5b": {
      "model_module": "@jupyter-widgets/controls",
      "model_module_version": "2.0.0",
      "model_name": "HTMLModel",
      "state": {
       "layout": "IPY_MODEL_a7316de9fd194129bf0e317fa16b5bd8",
       "style": "IPY_MODEL_3de904c22aec4de2984d8f89b36bee88",
       "value": " 0/582 [00:00&lt;?, ?it/s]"
      }
     },
     "34e3af0aca7e409ab43eeb65e4673360": {
      "model_module": "@jupyter-widgets/controls",
      "model_module_version": "2.0.0",
      "model_name": "HTMLStyleModel",
      "state": {
       "description_width": "",
       "font_size": null,
       "text_color": null
      }
     },
     "351d8e2fa0d94d78954e1a113fb0866b": {
      "model_module": "@jupyter-widgets/base",
      "model_module_version": "2.0.0",
      "model_name": "LayoutModel",
      "state": {}
     },
     "3538971f620349d288407de0324ef781": {
      "model_module": "@jupyter-widgets/controls",
      "model_module_version": "2.0.0",
      "model_name": "HTMLModel",
      "state": {
       "layout": "IPY_MODEL_94bfdd1fd4ee4d0da32402b15040f53f",
       "style": "IPY_MODEL_bc0203d7ca464f78b70251f3e7254dc9",
       "value": "  0%"
      }
     },
     "356561b1f5a34b16b38de9ac1629fb42": {
      "model_module": "@jupyter-widgets/controls",
      "model_module_version": "2.0.0",
      "model_name": "HTMLStyleModel",
      "state": {
       "description_width": "",
       "font_size": null,
       "text_color": null
      }
     },
     "35f96b2687ca4558aa61aafd6c478310": {
      "model_module": "@jupyter-widgets/base",
      "model_module_version": "2.0.0",
      "model_name": "LayoutModel",
      "state": {}
     },
     "361f6d718f0343cc9c10b29c67881206": {
      "model_module": "@jupyter-widgets/controls",
      "model_module_version": "2.0.0",
      "model_name": "FloatProgressModel",
      "state": {
       "bar_style": "success",
       "layout": "IPY_MODEL_0ecc9ad6ad6042a4863e490e74ce0064",
       "max": 118,
       "style": "IPY_MODEL_05578e65232049a582e8e8dac87987e7",
       "value": 118
      }
     },
     "363f24431dc0434eb1ed5ded9f8d8eea": {
      "model_module": "@jupyter-widgets/controls",
      "model_module_version": "2.0.0",
      "model_name": "ProgressStyleModel",
      "state": {
       "description_width": ""
      }
     },
     "36929ff319f04932837ac25a645a39b0": {
      "model_module": "@jupyter-widgets/controls",
      "model_module_version": "2.0.0",
      "model_name": "FloatProgressModel",
      "state": {
       "bar_style": "danger",
       "layout": "IPY_MODEL_eac5757fd9424977937de0cf79efaeda",
       "max": 582,
       "style": "IPY_MODEL_7e040500b37a4d3383c2e77e59b30bb8"
      }
     },
     "371aedb62cdc4833a3898135c5ea01f6": {
      "model_module": "@jupyter-widgets/controls",
      "model_module_version": "2.0.0",
      "model_name": "HTMLStyleModel",
      "state": {
       "description_width": "",
       "font_size": null,
       "text_color": null
      }
     },
     "3738cda915104dd18f6b4d86b56916bb": {
      "model_module": "@jupyter-widgets/controls",
      "model_module_version": "2.0.0",
      "model_name": "HTMLStyleModel",
      "state": {
       "description_width": "",
       "font_size": null,
       "text_color": null
      }
     },
     "3754034e019c442ea2a1f45feb787e75": {
      "model_module": "@jupyter-widgets/controls",
      "model_module_version": "2.0.0",
      "model_name": "HTMLModel",
      "state": {
       "layout": "IPY_MODEL_17e3dce8ebe44002b5d27780a0fe811c",
       "style": "IPY_MODEL_f443205e4a754008872b98f01040a981",
       "value": "  0%"
      }
     },
     "37562b6becf24efdbfbb60d29a0af16d": {
      "model_module": "@jupyter-widgets/controls",
      "model_module_version": "2.0.0",
      "model_name": "HTMLModel",
      "state": {
       "layout": "IPY_MODEL_77b2cf999c03440f9f6ddf1dc9b26eee",
       "style": "IPY_MODEL_073f4813e77748d38c5f0efb61699982",
       "value": "  0%"
      }
     },
     "37735b4091e548288bc48279a94d8715": {
      "model_module": "@jupyter-widgets/base",
      "model_module_version": "2.0.0",
      "model_name": "LayoutModel",
      "state": {}
     },
     "377aed8012714784903a1493d6e5bb46": {
      "model_module": "@jupyter-widgets/controls",
      "model_module_version": "2.0.0",
      "model_name": "ProgressStyleModel",
      "state": {
       "description_width": ""
      }
     },
     "378fba4775464a37b60946c09028f53a": {
      "model_module": "@jupyter-widgets/base",
      "model_module_version": "2.0.0",
      "model_name": "LayoutModel",
      "state": {}
     },
     "379ae7b4fc6140babd5a39ef4d4d81c7": {
      "model_module": "@jupyter-widgets/base",
      "model_module_version": "2.0.0",
      "model_name": "LayoutModel",
      "state": {}
     },
     "37b194ce7fe3471da2a03ffc7a1dd837": {
      "model_module": "@jupyter-widgets/controls",
      "model_module_version": "2.0.0",
      "model_name": "ProgressStyleModel",
      "state": {
       "description_width": ""
      }
     },
     "37dd455f7fea42d9aa7bff30fa131b1e": {
      "model_module": "@jupyter-widgets/controls",
      "model_module_version": "2.0.0",
      "model_name": "HTMLStyleModel",
      "state": {
       "description_width": "",
       "font_size": null,
       "text_color": null
      }
     },
     "381f19629f9047b48b91efbb89036c9f": {
      "model_module": "@jupyter-widgets/base",
      "model_module_version": "2.0.0",
      "model_name": "LayoutModel",
      "state": {}
     },
     "382224da530042f09ac0123e9ffe6b43": {
      "model_module": "@jupyter-widgets/controls",
      "model_module_version": "2.0.0",
      "model_name": "ProgressStyleModel",
      "state": {
       "description_width": ""
      }
     },
     "3838bd5afb024736a0e0a721e2dffde6": {
      "model_module": "@jupyter-widgets/base",
      "model_module_version": "2.0.0",
      "model_name": "LayoutModel",
      "state": {}
     },
     "38d56367011b423f8b15b6cfaa1b74f7": {
      "model_module": "@jupyter-widgets/controls",
      "model_module_version": "2.0.0",
      "model_name": "HTMLStyleModel",
      "state": {
       "description_width": "",
       "font_size": null,
       "text_color": null
      }
     },
     "38fe7db94ae64a1a9d22975f6ce32ff9": {
      "model_module": "@jupyter-widgets/base",
      "model_module_version": "2.0.0",
      "model_name": "LayoutModel",
      "state": {}
     },
     "394a9200875f451cae514ca6c2b6c3b4": {
      "model_module": "@jupyter-widgets/controls",
      "model_module_version": "2.0.0",
      "model_name": "HTMLStyleModel",
      "state": {
       "description_width": "",
       "font_size": null,
       "text_color": null
      }
     },
     "394d834633cb4572a7209c7bb87a500d": {
      "model_module": "@jupyter-widgets/base",
      "model_module_version": "2.0.0",
      "model_name": "LayoutModel",
      "state": {}
     },
     "397c2923ad234fcf88f9c4644c9b38f9": {
      "model_module": "@jupyter-widgets/base",
      "model_module_version": "2.0.0",
      "model_name": "LayoutModel",
      "state": {}
     },
     "39c3374fcca6456580a0fbfe21ba7db6": {
      "model_module": "@jupyter-widgets/base",
      "model_module_version": "2.0.0",
      "model_name": "LayoutModel",
      "state": {}
     },
     "3a14488e6f6c40b98b0a6032f05373f8": {
      "model_module": "@jupyter-widgets/controls",
      "model_module_version": "2.0.0",
      "model_name": "ProgressStyleModel",
      "state": {
       "description_width": ""
      }
     },
     "3a31f0b145154597ab47b85f4105c6cd": {
      "model_module": "@jupyter-widgets/controls",
      "model_module_version": "2.0.0",
      "model_name": "FloatProgressModel",
      "state": {
       "bar_style": "danger",
       "layout": "IPY_MODEL_88877442bc0c4267b71fb452cadf3ed2",
       "max": 618,
       "style": "IPY_MODEL_bf00654e24a947a7beeac4982bfada7c"
      }
     },
     "3a3412349d8e431b92237c3619249c93": {
      "model_module": "@jupyter-widgets/base",
      "model_module_version": "2.0.0",
      "model_name": "LayoutModel",
      "state": {}
     },
     "3a43f32bb6df40ca9850112672cfbd57": {
      "model_module": "@jupyter-widgets/controls",
      "model_module_version": "2.0.0",
      "model_name": "ProgressStyleModel",
      "state": {
       "description_width": ""
      }
     },
     "3a63d6f3ba6648f98ac0be31b6a5f907": {
      "model_module": "@jupyter-widgets/base",
      "model_module_version": "2.0.0",
      "model_name": "LayoutModel",
      "state": {}
     },
     "3a7f5f1ca7cd4074b6ae84fe674ee5a4": {
      "model_module": "@jupyter-widgets/controls",
      "model_module_version": "2.0.0",
      "model_name": "HTMLModel",
      "state": {
       "layout": "IPY_MODEL_231956d4e9c3424c9205e94fb8b426a3",
       "style": "IPY_MODEL_c44b5da294474b3fa20be029d1bbf2c6",
       "value": " 0/693 [00:00&lt;?, ?it/s]"
      }
     },
     "3a89443505894b42995a8a56dd94a25d": {
      "model_module": "@jupyter-widgets/controls",
      "model_module_version": "2.0.0",
      "model_name": "HTMLModel",
      "state": {
       "layout": "IPY_MODEL_5e7bee41b454448b8311333c53bc2001",
       "style": "IPY_MODEL_319ec114b63946b1b685f4ea3e005861",
       "value": "  0%"
      }
     },
     "3accacef12c847ce8909cae151d3747c": {
      "model_module": "@jupyter-widgets/controls",
      "model_module_version": "2.0.0",
      "model_name": "HTMLModel",
      "state": {
       "layout": "IPY_MODEL_1982db2ceb1741459282de583f54ea2a",
       "style": "IPY_MODEL_ca5ee4eee0294cb7a7fcb7f14e7ed7b3",
       "value": " 0/582 [00:00&lt;?, ?it/s]"
      }
     },
     "3b264d7ccf9042d8bbf452f6f36ba752": {
      "model_module": "@jupyter-widgets/base",
      "model_module_version": "2.0.0",
      "model_name": "LayoutModel",
      "state": {}
     },
     "3b400c6560de43e6aeba60b02c1094c9": {
      "model_module": "@jupyter-widgets/base",
      "model_module_version": "2.0.0",
      "model_name": "LayoutModel",
      "state": {}
     },
     "3b92e1516b8d4d6c99b5d96479c25ef7": {
      "model_module": "@jupyter-widgets/controls",
      "model_module_version": "2.0.0",
      "model_name": "FloatProgressModel",
      "state": {
       "bar_style": "danger",
       "layout": "IPY_MODEL_99298f7101c24b73b8aec0e2ceda5703",
       "max": 859,
       "style": "IPY_MODEL_80933b951f7a477591e5e1567c51a619"
      }
     },
     "3bc683a2b4dd49018e67725e92a2da09": {
      "model_module": "@jupyter-widgets/controls",
      "model_module_version": "2.0.0",
      "model_name": "HTMLStyleModel",
      "state": {
       "description_width": "",
       "font_size": null,
       "text_color": null
      }
     },
     "3bfe8b45ecba4d189f638e450a18354d": {
      "model_module": "@jupyter-widgets/base",
      "model_module_version": "2.0.0",
      "model_name": "LayoutModel",
      "state": {}
     },
     "3c27916543fb4fb284d0bcf7485ccd86": {
      "model_module": "@jupyter-widgets/controls",
      "model_module_version": "2.0.0",
      "model_name": "HTMLModel",
      "state": {
       "layout": "IPY_MODEL_0c0abb5dbec94cfb8e375ea11fd4fd83",
       "style": "IPY_MODEL_f8a20b3f34a14fa18eba887fadc3d88c",
       "value": "  0%"
      }
     },
     "3c518be8ed2649f4bad3b31278ad535e": {
      "model_module": "@jupyter-widgets/controls",
      "model_module_version": "2.0.0",
      "model_name": "FloatProgressModel",
      "state": {
       "bar_style": "danger",
       "layout": "IPY_MODEL_a4700f3d6b194b9da292f3b15558d96b",
       "max": 620,
       "style": "IPY_MODEL_5465e4807ef841be8dcf637fed4e99cb"
      }
     },
     "3c5e86ee10e045e5a89d9e75882b5d94": {
      "model_module": "@jupyter-widgets/controls",
      "model_module_version": "2.0.0",
      "model_name": "HBoxModel",
      "state": {
       "children": [
        "IPY_MODEL_45bf92a77fec44be941ebf4f938c6b61",
        "IPY_MODEL_e810975d92bd4932b1d782e6a4ab8e8a",
        "IPY_MODEL_10ffbcb62b1247feb26b6fccbbeddf63"
       ],
       "layout": "IPY_MODEL_b19055fee6654e178adbf377ad782532"
      }
     },
     "3c5e9a4002854d04ac00a79e1e6c4d61": {
      "model_module": "@jupyter-widgets/controls",
      "model_module_version": "2.0.0",
      "model_name": "HTMLStyleModel",
      "state": {
       "description_width": "",
       "font_size": null,
       "text_color": null
      }
     },
     "3c5f507875284a3d884a2306c8cdc638": {
      "model_module": "@jupyter-widgets/controls",
      "model_module_version": "2.0.0",
      "model_name": "HTMLStyleModel",
      "state": {
       "description_width": "",
       "font_size": null,
       "text_color": null
      }
     },
     "3c60668859374504943b502ea974534c": {
      "model_module": "@jupyter-widgets/controls",
      "model_module_version": "2.0.0",
      "model_name": "HBoxModel",
      "state": {
       "children": [
        "IPY_MODEL_f2bc4902a4cf47a0bf73f4015cc2f5ff",
        "IPY_MODEL_220b95adc6ac47fcb2193eb38a0f554b",
        "IPY_MODEL_e27549c09c2c46618674b1efd1d83b2b"
       ],
       "layout": "IPY_MODEL_66e219f8b35b4a2182efd8de623a46f5"
      }
     },
     "3cbd04bdefbb42f79291a7a7654552a3": {
      "model_module": "@jupyter-widgets/controls",
      "model_module_version": "2.0.0",
      "model_name": "HTMLModel",
      "state": {
       "layout": "IPY_MODEL_7f3c49eb59de45f5992ab4e106bf0c91",
       "style": "IPY_MODEL_564f777741554c7d94cdb600b71197fd",
       "value": "  0%"
      }
     },
     "3ccfe324a0ec49bbb369959e46cd7342": {
      "model_module": "@jupyter-widgets/base",
      "model_module_version": "2.0.0",
      "model_name": "LayoutModel",
      "state": {}
     },
     "3cd9b7c48c1847dd9855e34deedc99e0": {
      "model_module": "@jupyter-widgets/controls",
      "model_module_version": "2.0.0",
      "model_name": "HTMLStyleModel",
      "state": {
       "description_width": "",
       "font_size": null,
       "text_color": null
      }
     },
     "3d01ff97a4d143c687c9bdb1c3a9c849": {
      "model_module": "@jupyter-widgets/controls",
      "model_module_version": "2.0.0",
      "model_name": "HBoxModel",
      "state": {
       "children": [
        "IPY_MODEL_dbeb0e6e5de04609a9b7e838ce89cfbc",
        "IPY_MODEL_1e2419544a074f52bd250bf69b974385",
        "IPY_MODEL_7774039ad66f4fccbd07de54baa7575d"
       ],
       "layout": "IPY_MODEL_38fe7db94ae64a1a9d22975f6ce32ff9"
      }
     },
     "3d7dd4798ad64c1c9b7def359b2c04ba": {
      "model_module": "@jupyter-widgets/controls",
      "model_module_version": "2.0.0",
      "model_name": "HTMLModel",
      "state": {
       "layout": "IPY_MODEL_a5518b3e0a2f439bb990f6acb0fb3f71",
       "style": "IPY_MODEL_2c5fd371c6a3406ab0dd21289d4d6358",
       "value": "  0%"
      }
     },
     "3de904c22aec4de2984d8f89b36bee88": {
      "model_module": "@jupyter-widgets/controls",
      "model_module_version": "2.0.0",
      "model_name": "HTMLStyleModel",
      "state": {
       "description_width": "",
       "font_size": null,
       "text_color": null
      }
     },
     "3dfd11cd52194121b24480cb40a7c323": {
      "model_module": "@jupyter-widgets/controls",
      "model_module_version": "2.0.0",
      "model_name": "ProgressStyleModel",
      "state": {
       "description_width": ""
      }
     },
     "3e07311c8fb747ee9ba9f31c2f4dfd92": {
      "model_module": "@jupyter-widgets/base",
      "model_module_version": "2.0.0",
      "model_name": "LayoutModel",
      "state": {}
     },
     "3e0a332af7d84918bf387d6a87846187": {
      "model_module": "@jupyter-widgets/base",
      "model_module_version": "2.0.0",
      "model_name": "LayoutModel",
      "state": {}
     },
     "3e1eb23ed94b47adb5662b125560baac": {
      "model_module": "@jupyter-widgets/controls",
      "model_module_version": "2.0.0",
      "model_name": "HTMLModel",
      "state": {
       "layout": "IPY_MODEL_51b784aa90ff4039a61c546c92e1c1f2",
       "style": "IPY_MODEL_70d309343b03420e8e280ca1f66ffeae",
       "value": " 0/582 [00:00&lt;?, ?it/s]"
      }
     },
     "3e3afd14a3194f02bc0d6a4d6084b27a": {
      "model_module": "@jupyter-widgets/base",
      "model_module_version": "2.0.0",
      "model_name": "LayoutModel",
      "state": {}
     },
     "3e55b6f2e1b54b8688e7bf3c624252e4": {
      "model_module": "@jupyter-widgets/base",
      "model_module_version": "2.0.0",
      "model_name": "LayoutModel",
      "state": {}
     },
     "3e7b7437cdf8438fb0ef7faba65b91e0": {
      "model_module": "@jupyter-widgets/controls",
      "model_module_version": "2.0.0",
      "model_name": "HTMLModel",
      "state": {
       "layout": "IPY_MODEL_f07a7a7ed2fb44848acb723bf5991291",
       "style": "IPY_MODEL_38d56367011b423f8b15b6cfaa1b74f7",
       "value": " 0/651 [00:00&lt;?, ?it/s]"
      }
     },
     "3e8ece3da0154d41a385d31bb524babd": {
      "model_module": "@jupyter-widgets/controls",
      "model_module_version": "2.0.0",
      "model_name": "HTMLStyleModel",
      "state": {
       "description_width": "",
       "font_size": null,
       "text_color": null
      }
     },
     "3ede7fde37b34153b64b4fbf57658b40": {
      "model_module": "@jupyter-widgets/controls",
      "model_module_version": "2.0.0",
      "model_name": "HTMLStyleModel",
      "state": {
       "description_width": "",
       "font_size": null,
       "text_color": null
      }
     },
     "3f974765427c4cb5ac7eea72a57cfa58": {
      "model_module": "@jupyter-widgets/controls",
      "model_module_version": "2.0.0",
      "model_name": "HBoxModel",
      "state": {
       "children": [
        "IPY_MODEL_3310d2d4e6d24663a54a081ab3134748",
        "IPY_MODEL_c92ad2025f89418dab6fef7a5488005b",
        "IPY_MODEL_9fe7dd6342fc47e1893b860e133dab9e"
       ],
       "layout": "IPY_MODEL_a1991442f9cb4888918b3a4d07eff224"
      }
     },
     "3fc3f004dbcd47c1b8906dfd2b11addc": {
      "model_module": "@jupyter-widgets/base",
      "model_module_version": "2.0.0",
      "model_name": "LayoutModel",
      "state": {}
     },
     "3fe6f8b30cb8441ea0fa85eb72aeee6e": {
      "model_module": "@jupyter-widgets/base",
      "model_module_version": "2.0.0",
      "model_name": "LayoutModel",
      "state": {}
     },
     "400c1409d4814b8e853ac5a27120b3df": {
      "model_module": "@jupyter-widgets/controls",
      "model_module_version": "2.0.0",
      "model_name": "ProgressStyleModel",
      "state": {
       "description_width": ""
      }
     },
     "401fe909cee24e0f936cdb7f1dbdb301": {
      "model_module": "@jupyter-widgets/controls",
      "model_module_version": "2.0.0",
      "model_name": "HTMLStyleModel",
      "state": {
       "description_width": "",
       "font_size": null,
       "text_color": null
      }
     },
     "407e4ae9f3854167a5019e6000adda0d": {
      "model_module": "@jupyter-widgets/base",
      "model_module_version": "2.0.0",
      "model_name": "LayoutModel",
      "state": {}
     },
     "40bae65346fb4628a56ebed4031bbf9c": {
      "model_module": "@jupyter-widgets/controls",
      "model_module_version": "2.0.0",
      "model_name": "HTMLModel",
      "state": {
       "layout": "IPY_MODEL_c59e165a9f504db9b505d38c5bcd2595",
       "style": "IPY_MODEL_e81b18d6a4a445549e4c119f81d250d7",
       "value": "  0%"
      }
     },
     "41a2fdd56f8243a8b67d7a9a1d6667f3": {
      "model_module": "@jupyter-widgets/controls",
      "model_module_version": "2.0.0",
      "model_name": "HBoxModel",
      "state": {
       "children": [
        "IPY_MODEL_20364a2b19c8408ca1010261db430e71",
        "IPY_MODEL_c86021d262ed452491e256f95da970d9",
        "IPY_MODEL_846748a211f146048db69fda84e22456"
       ],
       "layout": "IPY_MODEL_eab71cf2ac8649159bcce2ac57eed7d5"
      }
     },
     "41afb28d4b5349809335e15e1a2225f8": {
      "model_module": "@jupyter-widgets/controls",
      "model_module_version": "2.0.0",
      "model_name": "FloatProgressModel",
      "state": {
       "bar_style": "success",
       "layout": "IPY_MODEL_72cb9618e8894cb299b46a6f904aa657",
       "max": 118,
       "style": "IPY_MODEL_8543a6f2ead545d69cc49317fb506a1c",
       "value": 118
      }
     },
     "41d40d643bf9448b8a457f910cf00df3": {
      "model_module": "@jupyter-widgets/base",
      "model_module_version": "2.0.0",
      "model_name": "LayoutModel",
      "state": {}
     },
     "41df0a1b33bc48feb8b69c1db4d06df9": {
      "model_module": "@jupyter-widgets/base",
      "model_module_version": "2.0.0",
      "model_name": "LayoutModel",
      "state": {}
     },
     "421357cb56af4b589fdeafc354559700": {
      "model_module": "@jupyter-widgets/controls",
      "model_module_version": "2.0.0",
      "model_name": "HBoxModel",
      "state": {
       "children": [
        "IPY_MODEL_98bf6227634c4ac19848e9a9bed1874f",
        "IPY_MODEL_9f08b611e4fc4871a115012fdba77c8b",
        "IPY_MODEL_a40e869461c542e6a332fdc5dc3ac6a2"
       ],
       "layout": "IPY_MODEL_de89cd922f0b4b009589dad206be1212"
      }
     },
     "4220cd8912e74ea5834d4d87ef8870b5": {
      "model_module": "@jupyter-widgets/controls",
      "model_module_version": "2.0.0",
      "model_name": "HTMLModel",
      "state": {
       "layout": "IPY_MODEL_b4da7fa2594945d3ba2cc8e734219a21",
       "style": "IPY_MODEL_e238a6da5b5b4805859189ade398c34b",
       "value": "  0%"
      }
     },
     "423d9d78ce8b49df8ddaf756ffdbeb88": {
      "model_module": "@jupyter-widgets/controls",
      "model_module_version": "2.0.0",
      "model_name": "HBoxModel",
      "state": {
       "children": [
        "IPY_MODEL_b659b7e172a3448db791850ffab8cd2b",
        "IPY_MODEL_9ffc3f4f25e94238abe62319d2daec57",
        "IPY_MODEL_79a29feda4db493b87692fed0fd70ffa"
       ],
       "layout": "IPY_MODEL_cd034267af8b4d2b8e7a33626ec4956d"
      }
     },
     "42405c9237c6414785cd3b305d86a2b5": {
      "model_module": "@jupyter-widgets/base",
      "model_module_version": "2.0.0",
      "model_name": "LayoutModel",
      "state": {}
     },
     "4256b2adbac940bcbf378a5b0bbbc901": {
      "model_module": "@jupyter-widgets/controls",
      "model_module_version": "2.0.0",
      "model_name": "FloatProgressModel",
      "state": {
       "bar_style": "danger",
       "layout": "IPY_MODEL_083e46a0e1d24472b28018a334401af2",
       "max": 582,
       "style": "IPY_MODEL_e9c0705294824a338c6dd5fbc13aea66"
      }
     },
     "42a231d4ff0b43a7b456e33ec62ac753": {
      "model_module": "@jupyter-widgets/controls",
      "model_module_version": "2.0.0",
      "model_name": "HTMLModel",
      "state": {
       "layout": "IPY_MODEL_091faec82ed14895a2fafd9fbbedc648",
       "style": "IPY_MODEL_45a8930e2e1a4bf5bddba46b2db7cb8a",
       "value": "100%"
      }
     },
     "4330d33d865141fca5c73c92b80dec69": {
      "model_module": "@jupyter-widgets/base",
      "model_module_version": "2.0.0",
      "model_name": "LayoutModel",
      "state": {}
     },
     "433ed82caa444194aee28306b4db5abd": {
      "model_module": "@jupyter-widgets/base",
      "model_module_version": "2.0.0",
      "model_name": "LayoutModel",
      "state": {}
     },
     "435dcea521734bc489fe797b9f99b3b1": {
      "model_module": "@jupyter-widgets/controls",
      "model_module_version": "2.0.0",
      "model_name": "ProgressStyleModel",
      "state": {
       "description_width": ""
      }
     },
     "436311045ab541f3b42f9e3082c888c4": {
      "model_module": "@jupyter-widgets/controls",
      "model_module_version": "2.0.0",
      "model_name": "HBoxModel",
      "state": {
       "children": [
        "IPY_MODEL_a8f1f32246b6442db1e3ee71a08aa965",
        "IPY_MODEL_2f59d088ccb1453f80516b16294a0424",
        "IPY_MODEL_f8716ee5e7d94604ab6638534b1c511a"
       ],
       "layout": "IPY_MODEL_7a4b22fda14d454580a685a966d636b0"
      }
     },
     "4375633d7bfc4485bd12e368596163d4": {
      "model_module": "@jupyter-widgets/base",
      "model_module_version": "2.0.0",
      "model_name": "LayoutModel",
      "state": {}
     },
     "43985424a8864e7a93a18ef25f68ddec": {
      "model_module": "@jupyter-widgets/controls",
      "model_module_version": "2.0.0",
      "model_name": "HTMLModel",
      "state": {
       "layout": "IPY_MODEL_233f80dea1ab4307bfc4bb3ea972d1c2",
       "style": "IPY_MODEL_45872f79ad5248bbb57b47e4a7129033",
       "value": " 480/480 [00:11&lt;00:00, 40.72it/s]"
      }
     },
     "440ef51837a94927ba81bff536094ddc": {
      "model_module": "@jupyter-widgets/controls",
      "model_module_version": "2.0.0",
      "model_name": "HTMLModel",
      "state": {
       "layout": "IPY_MODEL_763a218579d04ceb80e3cd8429062bab",
       "style": "IPY_MODEL_eeb05b9b56d040c58d12aa2b1a16bfaf",
       "value": " 0/653 [00:00&lt;?, ?it/s]"
      }
     },
     "4418dfd74c5a470888b9ae01098358bb": {
      "model_module": "@jupyter-widgets/controls",
      "model_module_version": "2.0.0",
      "model_name": "HTMLStyleModel",
      "state": {
       "description_width": "",
       "font_size": null,
       "text_color": null
      }
     },
     "44432fd58f5f478eb71517a833373ee3": {
      "model_module": "@jupyter-widgets/controls",
      "model_module_version": "2.0.0",
      "model_name": "FloatProgressModel",
      "state": {
       "bar_style": "danger",
       "layout": "IPY_MODEL_7c722b4b934b46918a0857d6563d2739",
       "max": 657,
       "style": "IPY_MODEL_4737675e806a456285497cd9a0f4799a"
      }
     },
     "4476f0dcf0b54d52aa73b59619a25af3": {
      "model_module": "@jupyter-widgets/controls",
      "model_module_version": "2.0.0",
      "model_name": "HTMLModel",
      "state": {
       "layout": "IPY_MODEL_5f474ba0c86c40ed9831415293a310bb",
       "style": "IPY_MODEL_31fe2e4effbe494b88d413588391243b",
       "value": " 0/582 [00:00&lt;?, ?it/s]"
      }
     },
     "447cce272ca940fe8aa2c0f49848ad9c": {
      "model_module": "@jupyter-widgets/base",
      "model_module_version": "2.0.0",
      "model_name": "LayoutModel",
      "state": {}
     },
     "44ed94e598b640488927484e755795fe": {
      "model_module": "@jupyter-widgets/base",
      "model_module_version": "2.0.0",
      "model_name": "LayoutModel",
      "state": {}
     },
     "45208b327918488b8b346f52440e16e3": {
      "model_module": "@jupyter-widgets/controls",
      "model_module_version": "2.0.0",
      "model_name": "HBoxModel",
      "state": {
       "children": [
        "IPY_MODEL_4ad82839faf14ce1af01adb82d64c224",
        "IPY_MODEL_4e1638162f3d45abac6962a48dd59671",
        "IPY_MODEL_25dd4cfe877b416ab4d76df08bfbc9c0"
       ],
       "layout": "IPY_MODEL_812855adc3864021bf5ebcdcb526f42b"
      }
     },
     "45284ffa85b645fd93c2d097618cc2d8": {
      "model_module": "@jupyter-widgets/base",
      "model_module_version": "2.0.0",
      "model_name": "LayoutModel",
      "state": {}
     },
     "4574fb7393ab41188953ef40c45c7277": {
      "model_module": "@jupyter-widgets/controls",
      "model_module_version": "2.0.0",
      "model_name": "HTMLModel",
      "state": {
       "layout": "IPY_MODEL_1adce9cb89a3401dba94c9723f993c10",
       "style": "IPY_MODEL_c76db08900124de8b7497077b88c1a29",
       "value": "100%"
      }
     },
     "45872f79ad5248bbb57b47e4a7129033": {
      "model_module": "@jupyter-widgets/controls",
      "model_module_version": "2.0.0",
      "model_name": "HTMLStyleModel",
      "state": {
       "description_width": "",
       "font_size": null,
       "text_color": null
      }
     },
     "45a50b59d0ac4f5085e750de35b880ec": {
      "model_module": "@jupyter-widgets/base",
      "model_module_version": "2.0.0",
      "model_name": "LayoutModel",
      "state": {}
     },
     "45a8930e2e1a4bf5bddba46b2db7cb8a": {
      "model_module": "@jupyter-widgets/controls",
      "model_module_version": "2.0.0",
      "model_name": "HTMLStyleModel",
      "state": {
       "description_width": "",
       "font_size": null,
       "text_color": null
      }
     },
     "45bf92a77fec44be941ebf4f938c6b61": {
      "model_module": "@jupyter-widgets/controls",
      "model_module_version": "2.0.0",
      "model_name": "HTMLModel",
      "state": {
       "layout": "IPY_MODEL_f0104606ad2f40c797b3aee6904adda7",
       "style": "IPY_MODEL_02a0bf2446d24058b4565aaa9a9d33ea",
       "value": "  0%"
      }
     },
     "465f9e096d284df886cb644a73665dc7": {
      "model_module": "@jupyter-widgets/controls",
      "model_module_version": "2.0.0",
      "model_name": "FloatProgressModel",
      "state": {
       "bar_style": "danger",
       "layout": "IPY_MODEL_a5af6ce964414b2897d0fecc5092903d",
       "max": 1036,
       "style": "IPY_MODEL_37b194ce7fe3471da2a03ffc7a1dd837"
      }
     },
     "46acf5b431fb40e29e8b027a0864f6cc": {
      "model_module": "@jupyter-widgets/controls",
      "model_module_version": "2.0.0",
      "model_name": "HTMLModel",
      "state": {
       "layout": "IPY_MODEL_4764ae7629744ba0a33ee74baf9d4b06",
       "style": "IPY_MODEL_a08bd36b94744f78ab07d7f3f3dda6cf",
       "value": " 0/707 [00:00&lt;?, ?it/s]"
      }
     },
     "46b3168045bc4dd499dd16b6f9dcb41d": {
      "model_module": "@jupyter-widgets/base",
      "model_module_version": "2.0.0",
      "model_name": "LayoutModel",
      "state": {}
     },
     "46e5170f23854dcca4399b6f90dbd4ad": {
      "model_module": "@jupyter-widgets/controls",
      "model_module_version": "2.0.0",
      "model_name": "ProgressStyleModel",
      "state": {
       "description_width": ""
      }
     },
     "46fd3a0946094b9099a1d05dfd729ac7": {
      "model_module": "@jupyter-widgets/controls",
      "model_module_version": "2.0.0",
      "model_name": "HTMLModel",
      "state": {
       "layout": "IPY_MODEL_1aa4fd9542974a1091d939c7c2deeed4",
       "style": "IPY_MODEL_80ee5bf0a0b54b3f9d9e92c9ae236704",
       "value": " 0/628 [00:00&lt;?, ?it/s]"
      }
     },
     "47356184e6d341dab68736f47698ac63": {
      "model_module": "@jupyter-widgets/base",
      "model_module_version": "2.0.0",
      "model_name": "LayoutModel",
      "state": {}
     },
     "4737675e806a456285497cd9a0f4799a": {
      "model_module": "@jupyter-widgets/controls",
      "model_module_version": "2.0.0",
      "model_name": "ProgressStyleModel",
      "state": {
       "description_width": ""
      }
     },
     "473e229db4f24f099fb840b50bb2fcb8": {
      "model_module": "@jupyter-widgets/controls",
      "model_module_version": "2.0.0",
      "model_name": "HTMLModel",
      "state": {
       "layout": "IPY_MODEL_6c1c67f7c7ed47f0a729bdf252dd57d5",
       "style": "IPY_MODEL_a8d8110ea7694534a1014af804364a0b",
       "value": "  0%"
      }
     },
     "4764ae7629744ba0a33ee74baf9d4b06": {
      "model_module": "@jupyter-widgets/base",
      "model_module_version": "2.0.0",
      "model_name": "LayoutModel",
      "state": {}
     },
     "478a02e21c4e47c2b63362a72fdd0ecd": {
      "model_module": "@jupyter-widgets/base",
      "model_module_version": "2.0.0",
      "model_name": "LayoutModel",
      "state": {}
     },
     "47e716eae35847c6aab644bbf72157d3": {
      "model_module": "@jupyter-widgets/base",
      "model_module_version": "2.0.0",
      "model_name": "LayoutModel",
      "state": {}
     },
     "4861cf3841bf4bce95c6f28db390c90c": {
      "model_module": "@jupyter-widgets/controls",
      "model_module_version": "2.0.0",
      "model_name": "HBoxModel",
      "state": {
       "children": [
        "IPY_MODEL_81b97b93dbe142bcb20eef142bf5d635",
        "IPY_MODEL_8322aece9bd44355b12fb4864f53c304",
        "IPY_MODEL_e7c765768ab04b9794b08c9a608539f5"
       ],
       "layout": "IPY_MODEL_816aca0ab2bd459684f109db98f34f60"
      }
     },
     "489b6b46ab42414ba1deee60f3ff1418": {
      "model_module": "@jupyter-widgets/base",
      "model_module_version": "2.0.0",
      "model_name": "LayoutModel",
      "state": {}
     },
     "48cd6b7872f74108a58a5ab2f1abd567": {
      "model_module": "@jupyter-widgets/controls",
      "model_module_version": "2.0.0",
      "model_name": "ProgressStyleModel",
      "state": {
       "description_width": ""
      }
     },
     "48f17da75848477991919abe0bc86fb4": {
      "model_module": "@jupyter-widgets/controls",
      "model_module_version": "2.0.0",
      "model_name": "HTMLStyleModel",
      "state": {
       "description_width": "",
       "font_size": null,
       "text_color": null
      }
     },
     "49090325447e455e885e1df4a874f707": {
      "model_module": "@jupyter-widgets/controls",
      "model_module_version": "2.0.0",
      "model_name": "HTMLStyleModel",
      "state": {
       "description_width": "",
       "font_size": null,
       "text_color": null
      }
     },
     "491d248bc8204f74876fa14d24c082e4": {
      "model_module": "@jupyter-widgets/controls",
      "model_module_version": "2.0.0",
      "model_name": "HTMLModel",
      "state": {
       "layout": "IPY_MODEL_06f13dd6ff1244c8a141bba28d114101",
       "style": "IPY_MODEL_0323297ed611482baf59cc9ec360aa5c",
       "value": "  0%"
      }
     },
     "493389b3528244f2b0ebc66aa95fa8bd": {
      "model_module": "@jupyter-widgets/controls",
      "model_module_version": "2.0.0",
      "model_name": "FloatProgressModel",
      "state": {
       "bar_style": "danger",
       "layout": "IPY_MODEL_5fa722bc889149eaa613eefc58d2d03a",
       "max": 582,
       "style": "IPY_MODEL_b03b2ebfef3c4ffdab2c26fe75f1631f"
      }
     },
     "494bb71fec214b72ba3100411f77379b": {
      "model_module": "@jupyter-widgets/base",
      "model_module_version": "2.0.0",
      "model_name": "LayoutModel",
      "state": {}
     },
     "49a6bc3910244f04b9a74e8d2e8c4142": {
      "model_module": "@jupyter-widgets/controls",
      "model_module_version": "2.0.0",
      "model_name": "HBoxModel",
      "state": {
       "children": [
        "IPY_MODEL_61a2dbdfa12d4ab78adb82bdfe148b40",
        "IPY_MODEL_8b85aaf28d8e4d928e43c5e357c0dcf0",
        "IPY_MODEL_a8120c39fb204a4e9ad9f41ce1c60372"
       ],
       "layout": "IPY_MODEL_6d3114abc2b8453ab3b95894fc0bf35a"
      }
     },
     "49af15ea5f334066b32b21917da86e4b": {
      "model_module": "@jupyter-widgets/base",
      "model_module_version": "2.0.0",
      "model_name": "LayoutModel",
      "state": {}
     },
     "4a52b09872c14a12a4c4c5952b7f0a15": {
      "model_module": "@jupyter-widgets/base",
      "model_module_version": "2.0.0",
      "model_name": "LayoutModel",
      "state": {}
     },
     "4a59cef2b45544469e9d6f36f3a1ce9e": {
      "model_module": "@jupyter-widgets/controls",
      "model_module_version": "2.0.0",
      "model_name": "ProgressStyleModel",
      "state": {
       "description_width": ""
      }
     },
     "4a5d8d48ed684b9b94d18146443f6b8b": {
      "model_module": "@jupyter-widgets/controls",
      "model_module_version": "2.0.0",
      "model_name": "HBoxModel",
      "state": {
       "children": [
        "IPY_MODEL_4220cd8912e74ea5834d4d87ef8870b5",
        "IPY_MODEL_f4346595f5154338a5f8ac3aa73c1a24",
        "IPY_MODEL_faf732daab3a4eb4b0ea4bf847612420"
       ],
       "layout": "IPY_MODEL_b26a06c7c4784a1dad67e4c71fe212ab"
      }
     },
     "4a92589dc82045e5b1efec66cf13eeca": {
      "model_module": "@jupyter-widgets/base",
      "model_module_version": "2.0.0",
      "model_name": "LayoutModel",
      "state": {}
     },
     "4a9a81cd638742f1967f103dd83d63cf": {
      "model_module": "@jupyter-widgets/base",
      "model_module_version": "2.0.0",
      "model_name": "LayoutModel",
      "state": {}
     },
     "4aab185f738c4e518d161c33c83c2e96": {
      "model_module": "@jupyter-widgets/controls",
      "model_module_version": "2.0.0",
      "model_name": "HTMLStyleModel",
      "state": {
       "description_width": "",
       "font_size": null,
       "text_color": null
      }
     },
     "4abe9cda8e8c4cf9bd73aa1516fe9701": {
      "model_module": "@jupyter-widgets/controls",
      "model_module_version": "2.0.0",
      "model_name": "ProgressStyleModel",
      "state": {
       "description_width": ""
      }
     },
     "4ad82839faf14ce1af01adb82d64c224": {
      "model_module": "@jupyter-widgets/controls",
      "model_module_version": "2.0.0",
      "model_name": "HTMLModel",
      "state": {
       "layout": "IPY_MODEL_ed149c9433464e1e9af7fd08899c5316",
       "style": "IPY_MODEL_2eeee2f7d4e947b1b9bcac63cf3ecc11",
       "value": "  0%"
      }
     },
     "4af228f53c2442a996864496060441fd": {
      "model_module": "@jupyter-widgets/controls",
      "model_module_version": "2.0.0",
      "model_name": "HTMLStyleModel",
      "state": {
       "description_width": "",
       "font_size": null,
       "text_color": null
      }
     },
     "4b5b1a63413846d683dec964567cb4cc": {
      "model_module": "@jupyter-widgets/controls",
      "model_module_version": "2.0.0",
      "model_name": "HTMLStyleModel",
      "state": {
       "description_width": "",
       "font_size": null,
       "text_color": null
      }
     },
     "4b9af43a325d4dcaaaff9b98cd57d738": {
      "model_module": "@jupyter-widgets/base",
      "model_module_version": "2.0.0",
      "model_name": "LayoutModel",
      "state": {}
     },
     "4bcabd7ba255424eab0ada488be2d345": {
      "model_module": "@jupyter-widgets/controls",
      "model_module_version": "2.0.0",
      "model_name": "FloatProgressModel",
      "state": {
       "bar_style": "danger",
       "layout": "IPY_MODEL_f60916bbdd1e4a0598b7c817b33b9e1a",
       "max": 587,
       "style": "IPY_MODEL_66b6f03debc94bcc8e94ad8788a8d790"
      }
     },
     "4bf0bf26a1864de090024d8df5d8a39d": {
      "model_module": "@jupyter-widgets/controls",
      "model_module_version": "2.0.0",
      "model_name": "HTMLModel",
      "state": {
       "layout": "IPY_MODEL_2211f58670104255a1a9ee4202944b28",
       "style": "IPY_MODEL_c2d24beac2c940c69db60599dcacfa1a",
       "value": " 0/609 [00:00&lt;?, ?it/s]"
      }
     },
     "4bf751773c9c484d896ce7ceaa9050db": {
      "model_module": "@jupyter-widgets/base",
      "model_module_version": "2.0.0",
      "model_name": "LayoutModel",
      "state": {}
     },
     "4bf9ef22dc6c4734930faa32e88b9490": {
      "model_module": "@jupyter-widgets/controls",
      "model_module_version": "2.0.0",
      "model_name": "FloatProgressModel",
      "state": {
       "bar_style": "danger",
       "layout": "IPY_MODEL_407e4ae9f3854167a5019e6000adda0d",
       "max": 492,
       "style": "IPY_MODEL_4a59cef2b45544469e9d6f36f3a1ce9e"
      }
     },
     "4c6ef9805a0e480996a960bba25fe760": {
      "model_module": "@jupyter-widgets/controls",
      "model_module_version": "2.0.0",
      "model_name": "HTMLStyleModel",
      "state": {
       "description_width": "",
       "font_size": null,
       "text_color": null
      }
     },
     "4ca25ca44f94497891294e859e61db70": {
      "model_module": "@jupyter-widgets/controls",
      "model_module_version": "2.0.0",
      "model_name": "HTMLModel",
      "state": {
       "layout": "IPY_MODEL_0848baf337444202b8aa06b6a4a1f683",
       "style": "IPY_MODEL_ddcb9e6a2ca245fb8a51409081415009",
       "value": "  0%"
      }
     },
     "4ca928a887b34a5b8c4afab7476e1b94": {
      "model_module": "@jupyter-widgets/base",
      "model_module_version": "2.0.0",
      "model_name": "LayoutModel",
      "state": {}
     },
     "4cb98f958e544f0b8d250f13ed69e73a": {
      "model_module": "@jupyter-widgets/controls",
      "model_module_version": "2.0.0",
      "model_name": "HTMLModel",
      "state": {
       "layout": "IPY_MODEL_f321d2bc5eae46a796d04c7b72b0b498",
       "style": "IPY_MODEL_c6fdd3181a6141babcccea54cfa3b15c",
       "value": " 0/578 [00:00&lt;?, ?it/s]"
      }
     },
     "4d21c073e67e4cbcbfd4f05be54a50c1": {
      "model_module": "@jupyter-widgets/controls",
      "model_module_version": "2.0.0",
      "model_name": "HTMLStyleModel",
      "state": {
       "description_width": "",
       "font_size": null,
       "text_color": null
      }
     },
     "4d53a793fca2457d9fcba64cea46c0b7": {
      "model_module": "@jupyter-widgets/controls",
      "model_module_version": "2.0.0",
      "model_name": "HTMLStyleModel",
      "state": {
       "description_width": "",
       "font_size": null,
       "text_color": null
      }
     },
     "4de305734bd04828b76e193a7768cc8a": {
      "model_module": "@jupyter-widgets/controls",
      "model_module_version": "2.0.0",
      "model_name": "HTMLModel",
      "state": {
       "layout": "IPY_MODEL_1ca8b568d1e5423ea1b6510d6c2e3277",
       "style": "IPY_MODEL_62118008f468448a9ec4d8ad00896c3c",
       "value": " 118/118 [00:00&lt;00:00, 6593.59it/s]"
      }
     },
     "4de7841e568b4ce0adb70479378dbdd7": {
      "model_module": "@jupyter-widgets/base",
      "model_module_version": "2.0.0",
      "model_name": "LayoutModel",
      "state": {}
     },
     "4e1638162f3d45abac6962a48dd59671": {
      "model_module": "@jupyter-widgets/controls",
      "model_module_version": "2.0.0",
      "model_name": "FloatProgressModel",
      "state": {
       "bar_style": "danger",
       "layout": "IPY_MODEL_e534d8888f2f4e778f1cdf3cc4b28145",
       "max": 620,
       "style": "IPY_MODEL_876f175ae292472ab03bef27df73387b"
      }
     },
     "4e1664f3d7f8452496b0e6401c335178": {
      "model_module": "@jupyter-widgets/base",
      "model_module_version": "2.0.0",
      "model_name": "LayoutModel",
      "state": {}
     },
     "4e2ec520a5974a0786fbce63f264c479": {
      "model_module": "@jupyter-widgets/base",
      "model_module_version": "2.0.0",
      "model_name": "LayoutModel",
      "state": {}
     },
     "4eac8324e4484a19ace768dfe1a8dd0c": {
      "model_module": "@jupyter-widgets/base",
      "model_module_version": "2.0.0",
      "model_name": "LayoutModel",
      "state": {}
     },
     "4eb1d0ba906b425b89d90fd5167a08e7": {
      "model_module": "@jupyter-widgets/controls",
      "model_module_version": "2.0.0",
      "model_name": "HTMLModel",
      "state": {
       "layout": "IPY_MODEL_b3825e4450f243838fcd3170c5b7dc7c",
       "style": "IPY_MODEL_7845c629cf444f4aab5a54d8a8284e41",
       "value": "  0%"
      }
     },
     "4eb696b9ee2942b085d531604cfffada": {
      "model_module": "@jupyter-widgets/controls",
      "model_module_version": "2.0.0",
      "model_name": "HTMLModel",
      "state": {
       "layout": "IPY_MODEL_2505451174934337a13c49ef6a2b597e",
       "style": "IPY_MODEL_6458bde8b0e1415d9db683236215c67e",
       "value": " 0/618 [00:00&lt;?, ?it/s]"
      }
     },
     "4f12276962ce458e8ac99e01b7d6220b": {
      "model_module": "@jupyter-widgets/base",
      "model_module_version": "2.0.0",
      "model_name": "LayoutModel",
      "state": {}
     },
     "4f17663c37a843ecb61c4a412bed8fea": {
      "model_module": "@jupyter-widgets/base",
      "model_module_version": "2.0.0",
      "model_name": "LayoutModel",
      "state": {}
     },
     "4f17dc754cdf4bd18794697a7ff26a3d": {
      "model_module": "@jupyter-widgets/controls",
      "model_module_version": "2.0.0",
      "model_name": "HTMLStyleModel",
      "state": {
       "description_width": "",
       "font_size": null,
       "text_color": null
      }
     },
     "4f67127828284379b62966f263acd599": {
      "model_module": "@jupyter-widgets/controls",
      "model_module_version": "2.0.0",
      "model_name": "FloatProgressModel",
      "state": {
       "bar_style": "danger",
       "layout": "IPY_MODEL_6dd0dac94a2e4232b071f099e1fbeee3",
       "max": 632,
       "style": "IPY_MODEL_e9458e382f0446a7894b8c2aa5a48b37"
      }
     },
     "4f75234d9fba4ad089a294085852e91c": {
      "model_module": "@jupyter-widgets/controls",
      "model_module_version": "2.0.0",
      "model_name": "FloatProgressModel",
      "state": {
       "bar_style": "success",
       "layout": "IPY_MODEL_8b9391a8a0d44fbcae58fed2d0062e0e",
       "max": 450,
       "style": "IPY_MODEL_2a00c816dc00481fb411ce1544dcd7bd",
       "value": 450
      }
     },
     "4f7c6e0b73b34dd2ad1d8e8f06932188": {
      "model_module": "@jupyter-widgets/controls",
      "model_module_version": "2.0.0",
      "model_name": "HTMLStyleModel",
      "state": {
       "description_width": "",
       "font_size": null,
       "text_color": null
      }
     },
     "4f927899166e44ef8670d63fc5927ea7": {
      "model_module": "@jupyter-widgets/controls",
      "model_module_version": "2.0.0",
      "model_name": "ProgressStyleModel",
      "state": {
       "description_width": ""
      }
     },
     "4fb9f03322f6499694f1b6dbf2113463": {
      "model_module": "@jupyter-widgets/controls",
      "model_module_version": "2.0.0",
      "model_name": "HBoxModel",
      "state": {
       "children": [
        "IPY_MODEL_6717b75fde754d84b2ef30438165fb89",
        "IPY_MODEL_d3bb725472404384a60d36cf5efe5d9d",
        "IPY_MODEL_d2859405e38c42d0a398bb29e3701671"
       ],
       "layout": "IPY_MODEL_46b3168045bc4dd499dd16b6f9dcb41d"
      }
     },
     "4feb465513434c9bb3856fab47c4e3b2": {
      "model_module": "@jupyter-widgets/controls",
      "model_module_version": "2.0.0",
      "model_name": "FloatProgressModel",
      "state": {
       "bar_style": "danger",
       "layout": "IPY_MODEL_9eda09cd6a4240049002e52616883e8f",
       "max": 640,
       "style": "IPY_MODEL_5ca980f06b1b432994495a3ddb2a8fb3"
      }
     },
     "4fed745a5bab4d42825f3099879494b9": {
      "model_module": "@jupyter-widgets/controls",
      "model_module_version": "2.0.0",
      "model_name": "HTMLStyleModel",
      "state": {
       "description_width": "",
       "font_size": null,
       "text_color": null
      }
     },
     "502d24db41fd4c77bcd71b44ad50d056": {
      "model_module": "@jupyter-widgets/base",
      "model_module_version": "2.0.0",
      "model_name": "LayoutModel",
      "state": {}
     },
     "50f404636328430d88124aa14202b7a8": {
      "model_module": "@jupyter-widgets/base",
      "model_module_version": "2.0.0",
      "model_name": "LayoutModel",
      "state": {}
     },
     "5128f131dbeb471485cb1ceebc64007e": {
      "model_module": "@jupyter-widgets/controls",
      "model_module_version": "2.0.0",
      "model_name": "HTMLStyleModel",
      "state": {
       "description_width": "",
       "font_size": null,
       "text_color": null
      }
     },
     "514399a446e440df95cd9c7256de0dfa": {
      "model_module": "@jupyter-widgets/controls",
      "model_module_version": "2.0.0",
      "model_name": "HTMLModel",
      "state": {
       "layout": "IPY_MODEL_31a9f8c02d8c4bc3b534647921bd3959",
       "style": "IPY_MODEL_7af45fc85d5446ff8f7d0708c1b05344",
       "value": "  0%"
      }
     },
     "51b784aa90ff4039a61c546c92e1c1f2": {
      "model_module": "@jupyter-widgets/base",
      "model_module_version": "2.0.0",
      "model_name": "LayoutModel",
      "state": {}
     },
     "51baae61bd34460a95065cf97dbc2f91": {
      "model_module": "@jupyter-widgets/base",
      "model_module_version": "2.0.0",
      "model_name": "LayoutModel",
      "state": {}
     },
     "51f19f2d557e4130a646270972d3ba70": {
      "model_module": "@jupyter-widgets/controls",
      "model_module_version": "2.0.0",
      "model_name": "FloatProgressModel",
      "state": {
       "bar_style": "danger",
       "layout": "IPY_MODEL_35f96b2687ca4558aa61aafd6c478310",
       "max": 819,
       "style": "IPY_MODEL_2bce6fb1fcaf4776b7a64d55f5ed812f"
      }
     },
     "51f934ccdee0432c969f496c94c5f28a": {
      "model_module": "@jupyter-widgets/controls",
      "model_module_version": "2.0.0",
      "model_name": "ProgressStyleModel",
      "state": {
       "description_width": ""
      }
     },
     "521ba6fcd0904936afce7dd3d624cd8c": {
      "model_module": "@jupyter-widgets/controls",
      "model_module_version": "2.0.0",
      "model_name": "HTMLModel",
      "state": {
       "layout": "IPY_MODEL_c86804c1904748309e07bf9b696aabfe",
       "style": "IPY_MODEL_61e19f01162f4bd890fe939287e78dd0",
       "value": "100%"
      }
     },
     "52a86764001b45cab2fef7af36f4d16a": {
      "model_module": "@jupyter-widgets/controls",
      "model_module_version": "2.0.0",
      "model_name": "HBoxModel",
      "state": {
       "children": [
        "IPY_MODEL_f23eceafc08a48a7a2ae4f3b75a01ae4",
        "IPY_MODEL_8dac3a9fea5540bdaafaa89de7f3034a",
        "IPY_MODEL_15a151c6a38841438aab7bac9fb21acc"
       ],
       "layout": "IPY_MODEL_f895bd2d454c49ae81c79fd11c4a535c"
      }
     },
     "530c28d082f34cb58834f979ec5637f6": {
      "model_module": "@jupyter-widgets/base",
      "model_module_version": "2.0.0",
      "model_name": "LayoutModel",
      "state": {}
     },
     "536aa825e6e942239d3453e7a4238825": {
      "model_module": "@jupyter-widgets/controls",
      "model_module_version": "2.0.0",
      "model_name": "FloatProgressModel",
      "state": {
       "bar_style": "danger",
       "layout": "IPY_MODEL_72f6583f7f6b4386acddc31a219ee1b4",
       "max": 628,
       "style": "IPY_MODEL_90dd577e71fd4509809772a0cfff4ebb"
      }
     },
     "536ae6e20fc74c478c078418462fce2e": {
      "model_module": "@jupyter-widgets/base",
      "model_module_version": "2.0.0",
      "model_name": "LayoutModel",
      "state": {}
     },
     "53726bf903e545bc82afe94eb0cf233c": {
      "model_module": "@jupyter-widgets/controls",
      "model_module_version": "2.0.0",
      "model_name": "HBoxModel",
      "state": {
       "children": [
        "IPY_MODEL_fd4c764ecf624becb262c6a322c99377",
        "IPY_MODEL_4bf9ef22dc6c4734930faa32e88b9490",
        "IPY_MODEL_a810ce8c4f49482d9c6b095d83b21372"
       ],
       "layout": "IPY_MODEL_7f1d6f4de9094d2d8ce6ed9976371e61"
      }
     },
     "53db0b05263f442aa840e75accfb9b81": {
      "model_module": "@jupyter-widgets/controls",
      "model_module_version": "2.0.0",
      "model_name": "FloatProgressModel",
      "state": {
       "bar_style": "danger",
       "layout": "IPY_MODEL_916ea2bb94a5442a802343cdcab8bac8",
       "max": 635,
       "style": "IPY_MODEL_fb9f66b7d0c844acadb1247f0f7b934e"
      }
     },
     "5465e4807ef841be8dcf637fed4e99cb": {
      "model_module": "@jupyter-widgets/controls",
      "model_module_version": "2.0.0",
      "model_name": "ProgressStyleModel",
      "state": {
       "description_width": ""
      }
     },
     "54ac3a74c40b418b94608f5594b3d359": {
      "model_module": "@jupyter-widgets/controls",
      "model_module_version": "2.0.0",
      "model_name": "HBoxModel",
      "state": {
       "children": [
        "IPY_MODEL_12da4a20718d4a9c99734952b388568d",
        "IPY_MODEL_5eb0de69fba146069643c162d354dce9",
        "IPY_MODEL_13d77f5757d5454d9958b2d05a0513f1"
       ],
       "layout": "IPY_MODEL_478a02e21c4e47c2b63362a72fdd0ecd"
      }
     },
     "54bcf6dde2f14a7e944853acf0160e62": {
      "model_module": "@jupyter-widgets/base",
      "model_module_version": "2.0.0",
      "model_name": "LayoutModel",
      "state": {}
     },
     "54d0eaa9374e49af9bfa944f11dd944b": {
      "model_module": "@jupyter-widgets/controls",
      "model_module_version": "2.0.0",
      "model_name": "HBoxModel",
      "state": {
       "children": [
        "IPY_MODEL_3d7dd4798ad64c1c9b7def359b2c04ba",
        "IPY_MODEL_65476498f77e4b9e8310f94dc30c1598",
        "IPY_MODEL_57a9c654d772457388e54a2b956e182b"
       ],
       "layout": "IPY_MODEL_06f026245e2a49bb8c71d8b3a40b553b"
      }
     },
     "54d89e170cca451c8c3f04f7c921c1c4": {
      "model_module": "@jupyter-widgets/controls",
      "model_module_version": "2.0.0",
      "model_name": "HBoxModel",
      "state": {
       "children": [
        "IPY_MODEL_d4f336037f8946248d6732fdbefde46b",
        "IPY_MODEL_28c0c9877c4640ebac01aaf3cda0b989",
        "IPY_MODEL_fc6cb39d22df436ab9aa77816d7f0909"
       ],
       "layout": "IPY_MODEL_ebbb9428eafd412ea9577a6828d5ccfa"
      }
     },
     "54e7da5565bf45459b919b1084bb1032": {
      "model_module": "@jupyter-widgets/controls",
      "model_module_version": "2.0.0",
      "model_name": "HBoxModel",
      "state": {
       "children": [
        "IPY_MODEL_fe8a30139d424044b58f336796bf99a3",
        "IPY_MODEL_12982fc4e9684c219dd135faea5316d9",
        "IPY_MODEL_64dfeb216fb74d7494f9d5d261ba135b"
       ],
       "layout": "IPY_MODEL_5fa7b3a98dcb4e348e91c32276945e9a"
      }
     },
     "54fefc77e1eb48478da2c905691f79e0": {
      "model_module": "@jupyter-widgets/controls",
      "model_module_version": "2.0.0",
      "model_name": "HTMLModel",
      "state": {
       "layout": "IPY_MODEL_131dfd0c9e9f48c8883bca380eb9d076",
       "style": "IPY_MODEL_b9fcf84223084cd1bebb935e8ae8cd38",
       "value": "  0%"
      }
     },
     "55384bf5754f40978a53b3676ad93a35": {
      "model_module": "@jupyter-widgets/base",
      "model_module_version": "2.0.0",
      "model_name": "LayoutModel",
      "state": {}
     },
     "554213f6277f42e2ad15d2ddc63951b1": {
      "model_module": "@jupyter-widgets/controls",
      "model_module_version": "2.0.0",
      "model_name": "FloatProgressModel",
      "state": {
       "bar_style": "success",
       "layout": "IPY_MODEL_a0ea20465e3d48548d69935b3fc4e040",
       "max": 118,
       "style": "IPY_MODEL_5f612954486044b293743015c514be72",
       "value": 118
      }
     },
     "5548223541194414821c0884c79d50df": {
      "model_module": "@jupyter-widgets/controls",
      "model_module_version": "2.0.0",
      "model_name": "HBoxModel",
      "state": {
       "children": [
        "IPY_MODEL_91fb3f5ab5a64d528bbc6845a7c58e3d",
        "IPY_MODEL_cd719dac0acd4e4ea26c71237a6df078",
        "IPY_MODEL_589f6b614c554a2e85cb7b233843a7bd"
       ],
       "layout": "IPY_MODEL_2647ffde31cf4651b07a79724f573c01"
      }
     },
     "55b5d0b5d12d45ad8ae5a346b5ff2577": {
      "model_module": "@jupyter-widgets/controls",
      "model_module_version": "2.0.0",
      "model_name": "HTMLModel",
      "state": {
       "layout": "IPY_MODEL_73ca27687b0a4adb97597e400413c034",
       "style": "IPY_MODEL_97ed167371674bac92f1ad78606c6b43",
       "value": "  0%"
      }
     },
     "55cd47aee28143e7ae0016c1ba1d4530": {
      "model_module": "@jupyter-widgets/base",
      "model_module_version": "2.0.0",
      "model_name": "LayoutModel",
      "state": {}
     },
     "55e1867137bb450f8c31b378ddcf5f2b": {
      "model_module": "@jupyter-widgets/controls",
      "model_module_version": "2.0.0",
      "model_name": "HBoxModel",
      "state": {
       "children": [
        "IPY_MODEL_e88044f23c954988858463444dd7817c",
        "IPY_MODEL_841619a62a314302884b2a8ee642e546",
        "IPY_MODEL_43985424a8864e7a93a18ef25f68ddec"
       ],
       "layout": "IPY_MODEL_273a9bb53c93485782c94c706acb5d1d"
      }
     },
     "56386d0e1ff144baaf65faaada49016a": {
      "model_module": "@jupyter-widgets/base",
      "model_module_version": "2.0.0",
      "model_name": "LayoutModel",
      "state": {}
     },
     "564f777741554c7d94cdb600b71197fd": {
      "model_module": "@jupyter-widgets/controls",
      "model_module_version": "2.0.0",
      "model_name": "HTMLStyleModel",
      "state": {
       "description_width": "",
       "font_size": null,
       "text_color": null
      }
     },
     "56562b9c4a5d4537a85cbff5868dd0c1": {
      "model_module": "@jupyter-widgets/base",
      "model_module_version": "2.0.0",
      "model_name": "LayoutModel",
      "state": {}
     },
     "5678591dd4274cad952daffb786c9a63": {
      "model_module": "@jupyter-widgets/controls",
      "model_module_version": "2.0.0",
      "model_name": "ProgressStyleModel",
      "state": {
       "description_width": ""
      }
     },
     "567d0b3ad9de4eb393685a3bb7feedb1": {
      "model_module": "@jupyter-widgets/base",
      "model_module_version": "2.0.0",
      "model_name": "LayoutModel",
      "state": {}
     },
     "56a728e88d194b668c4707d21dfbefd7": {
      "model_module": "@jupyter-widgets/base",
      "model_module_version": "2.0.0",
      "model_name": "LayoutModel",
      "state": {}
     },
     "56eb7be027184430a41451a5b4b35489": {
      "model_module": "@jupyter-widgets/controls",
      "model_module_version": "2.0.0",
      "model_name": "HBoxModel",
      "state": {
       "children": [
        "IPY_MODEL_c1b652695bc847e98cab3aaad40aec61",
        "IPY_MODEL_36929ff319f04932837ac25a645a39b0",
        "IPY_MODEL_0b6328dbb9a546c59eabd71d4bd5e108"
       ],
       "layout": "IPY_MODEL_6bb9f6dc14cb4ebe93d7dd10e6ffe11e"
      }
     },
     "56ee420d70044847a49216faefe82547": {
      "model_module": "@jupyter-widgets/base",
      "model_module_version": "2.0.0",
      "model_name": "LayoutModel",
      "state": {}
     },
     "576bc9a05c7b440f8cd798251139a99c": {
      "model_module": "@jupyter-widgets/controls",
      "model_module_version": "2.0.0",
      "model_name": "HTMLModel",
      "state": {
       "layout": "IPY_MODEL_cd08c9e947ad4d8085f4e096d398a0ac",
       "style": "IPY_MODEL_e685803e2b3d41c5aab17e8d0ab3005e",
       "value": "  0%"
      }
     },
     "57952bc78b5c4fe581f59ae6ee04c56f": {
      "model_module": "@jupyter-widgets/controls",
      "model_module_version": "2.0.0",
      "model_name": "HTMLStyleModel",
      "state": {
       "description_width": "",
       "font_size": null,
       "text_color": null
      }
     },
     "57a9c654d772457388e54a2b956e182b": {
      "model_module": "@jupyter-widgets/controls",
      "model_module_version": "2.0.0",
      "model_name": "HTMLModel",
      "state": {
       "layout": "IPY_MODEL_dcfe1c2d4e30463882b9b8c3a0b4370c",
       "style": "IPY_MODEL_6237fd5a25724b6eb1fe7ecc0f6e03e0",
       "value": " 0/582 [00:00&lt;?, ?it/s]"
      }
     },
     "57b93a9b2c9b4afbad6cf36bb730627b": {
      "model_module": "@jupyter-widgets/base",
      "model_module_version": "2.0.0",
      "model_name": "LayoutModel",
      "state": {}
     },
     "57d9a32acc164368b6454a93d1af32d2": {
      "model_module": "@jupyter-widgets/controls",
      "model_module_version": "2.0.0",
      "model_name": "HBoxModel",
      "state": {
       "children": [
        "IPY_MODEL_712f43a1d7d347a29ec6036967a1fdb4",
        "IPY_MODEL_d169f9c197124d08b25ed350ff7cb7ed",
        "IPY_MODEL_3accacef12c847ce8909cae151d3747c"
       ],
       "layout": "IPY_MODEL_038e2397d1e24f999e59b72b616b6909"
      }
     },
     "585d861c04954b878893308ebc1007c0": {
      "model_module": "@jupyter-widgets/base",
      "model_module_version": "2.0.0",
      "model_name": "LayoutModel",
      "state": {}
     },
     "5860f8d93a80476b837a1111dcb10f11": {
      "model_module": "@jupyter-widgets/controls",
      "model_module_version": "2.0.0",
      "model_name": "HTMLModel",
      "state": {
       "layout": "IPY_MODEL_61483407841944b0ba95640694f29c16",
       "style": "IPY_MODEL_4f17dc754cdf4bd18794697a7ff26a3d",
       "value": " 0/646 [00:00&lt;?, ?it/s]"
      }
     },
     "5872e7139907405d8151282a5dbd18d0": {
      "model_module": "@jupyter-widgets/controls",
      "model_module_version": "2.0.0",
      "model_name": "HTMLStyleModel",
      "state": {
       "description_width": "",
       "font_size": null,
       "text_color": null
      }
     },
     "589f6b614c554a2e85cb7b233843a7bd": {
      "model_module": "@jupyter-widgets/controls",
      "model_module_version": "2.0.0",
      "model_name": "HTMLModel",
      "state": {
       "layout": "IPY_MODEL_9de93dfa0fa44c0a8e200667d58387df",
       "style": "IPY_MODEL_c73cf09766944324bbf766863bcdaa2c",
       "value": " 118/118 [00:32&lt;00:00,  3.81it/s]"
      }
     },
     "58ce37afa07e47dcb6c96e66046bd07c": {
      "model_module": "@jupyter-widgets/base",
      "model_module_version": "2.0.0",
      "model_name": "LayoutModel",
      "state": {}
     },
     "591583785e3a44b297700ec8874b269b": {
      "model_module": "@jupyter-widgets/base",
      "model_module_version": "2.0.0",
      "model_name": "LayoutModel",
      "state": {}
     },
     "59d036379ad74642ad3cb815272fe22d": {
      "model_module": "@jupyter-widgets/controls",
      "model_module_version": "2.0.0",
      "model_name": "FloatProgressModel",
      "state": {
       "bar_style": "danger",
       "layout": "IPY_MODEL_1609e08dc54748229aa11c98c8d47e08",
       "max": 631,
       "style": "IPY_MODEL_8f0b29a387254cd2a75a2d04f35c6ea8"
      }
     },
     "59d0da7fdd214e8ab9f4008e5d18f8fe": {
      "model_module": "@jupyter-widgets/base",
      "model_module_version": "2.0.0",
      "model_name": "LayoutModel",
      "state": {}
     },
     "5a19cdefec1e47baa7d7db6f233263d7": {
      "model_module": "@jupyter-widgets/controls",
      "model_module_version": "2.0.0",
      "model_name": "HBoxModel",
      "state": {
       "children": [
        "IPY_MODEL_c6eec580b2ea49de9aa377281e24389a",
        "IPY_MODEL_a2525cd7a52d486cad5da32308e31d87",
        "IPY_MODEL_2471bd3c0da84f798b84ea822d6fd0d7"
       ],
       "layout": "IPY_MODEL_11a2a69e94c9447c82e42dd40408f0fc"
      }
     },
     "5a5988e4acc14673b01c1337a373b3ea": {
      "model_module": "@jupyter-widgets/controls",
      "model_module_version": "2.0.0",
      "model_name": "HTMLModel",
      "state": {
       "layout": "IPY_MODEL_d4324ac3e4a64655955f822b81c35f09",
       "style": "IPY_MODEL_6bdcf3f0ee5b4278ad99d1a9b6238d31",
       "value": "  0%"
      }
     },
     "5abbbc77f6b84d57ba0731204012c69a": {
      "model_module": "@jupyter-widgets/base",
      "model_module_version": "2.0.0",
      "model_name": "LayoutModel",
      "state": {}
     },
     "5abcb1b33fd2446dae6d70451ac5c4d5": {
      "model_module": "@jupyter-widgets/controls",
      "model_module_version": "2.0.0",
      "model_name": "FloatProgressModel",
      "state": {
       "bar_style": "danger",
       "layout": "IPY_MODEL_a0222337f78047298c7fd0ffb140782d",
       "max": 618,
       "style": "IPY_MODEL_e2323167704b41f7a735d2bdd299ea4b"
      }
     },
     "5af39b8fc4f942b9847a47a1fb9a1a5e": {
      "model_module": "@jupyter-widgets/base",
      "model_module_version": "2.0.0",
      "model_name": "LayoutModel",
      "state": {}
     },
     "5b61b1196f8048afa66883890abbb165": {
      "model_module": "@jupyter-widgets/controls",
      "model_module_version": "2.0.0",
      "model_name": "HTMLModel",
      "state": {
       "layout": "IPY_MODEL_ad88b8515bd64e5fbbe70acf3319a492",
       "style": "IPY_MODEL_d16e0e6ea3824f41b9c1d34074f84d97",
       "value": "  0%"
      }
     },
     "5b64ce241f244a8d887059e689ef1f07": {
      "model_module": "@jupyter-widgets/base",
      "model_module_version": "2.0.0",
      "model_name": "LayoutModel",
      "state": {}
     },
     "5bc0a5d258bb402fa1170be3022002b6": {
      "model_module": "@jupyter-widgets/controls",
      "model_module_version": "2.0.0",
      "model_name": "HTMLStyleModel",
      "state": {
       "description_width": "",
       "font_size": null,
       "text_color": null
      }
     },
     "5c10fe9c8c224fed80c2b34038586106": {
      "model_module": "@jupyter-widgets/base",
      "model_module_version": "2.0.0",
      "model_name": "LayoutModel",
      "state": {}
     },
     "5c35549c2bc64e6d967d9189ff826839": {
      "model_module": "@jupyter-widgets/base",
      "model_module_version": "2.0.0",
      "model_name": "LayoutModel",
      "state": {}
     },
     "5c4288234cba4bd88b128293be320fb8": {
      "model_module": "@jupyter-widgets/controls",
      "model_module_version": "2.0.0",
      "model_name": "HTMLStyleModel",
      "state": {
       "description_width": "",
       "font_size": null,
       "text_color": null
      }
     },
     "5c85d450931544c3ba5bbfed4b5d8275": {
      "model_module": "@jupyter-widgets/controls",
      "model_module_version": "2.0.0",
      "model_name": "FloatProgressModel",
      "state": {
       "bar_style": "danger",
       "layout": "IPY_MODEL_6387654593324eb4a477804b8c7d6bcb",
       "max": 582,
       "style": "IPY_MODEL_07e58a28975749c48cf7872115f95fc3"
      }
     },
     "5ca980f06b1b432994495a3ddb2a8fb3": {
      "model_module": "@jupyter-widgets/controls",
      "model_module_version": "2.0.0",
      "model_name": "ProgressStyleModel",
      "state": {
       "description_width": ""
      }
     },
     "5d1380c902964aacb8981bb53faf00f1": {
      "model_module": "@jupyter-widgets/controls",
      "model_module_version": "2.0.0",
      "model_name": "HBoxModel",
      "state": {
       "children": [
        "IPY_MODEL_55b5d0b5d12d45ad8ae5a346b5ff2577",
        "IPY_MODEL_5db78cc3734a488787753d0c1fe55fad",
        "IPY_MODEL_b552539bd289443abd1fb3341847ebff"
       ],
       "layout": "IPY_MODEL_77b3353bdb244c20bd6778325664e328"
      }
     },
     "5d2752f8fae64f2cbdc31578bc13ad76": {
      "model_module": "@jupyter-widgets/controls",
      "model_module_version": "2.0.0",
      "model_name": "FloatProgressModel",
      "state": {
       "bar_style": "danger",
       "layout": "IPY_MODEL_85d3ca78a5a1426ab140e6cf0dd9ffd5",
       "max": 624,
       "style": "IPY_MODEL_8b8337ac53d44159ad834d2ce26c71e9"
      }
     },
     "5db78cc3734a488787753d0c1fe55fad": {
      "model_module": "@jupyter-widgets/controls",
      "model_module_version": "2.0.0",
      "model_name": "FloatProgressModel",
      "state": {
       "bar_style": "danger",
       "layout": "IPY_MODEL_8bfd6ecb300e4fceb028ece5e3a948b1",
       "max": 699,
       "style": "IPY_MODEL_7ba0479f1013444e86737788c9190647"
      }
     },
     "5deb50644d58476cbe6b68866c6b513f": {
      "model_module": "@jupyter-widgets/controls",
      "model_module_version": "2.0.0",
      "model_name": "HBoxModel",
      "state": {
       "children": [
        "IPY_MODEL_a295dad1bdbd42129115fa58554378c8",
        "IPY_MODEL_b8ebe102f7c443a888adfd46a27e3b93",
        "IPY_MODEL_3e1eb23ed94b47adb5662b125560baac"
       ],
       "layout": "IPY_MODEL_e7a7e934012742edb01b2e5f01e2c0b7"
      }
     },
     "5e0b4f241e874cf985caffbc824a0469": {
      "model_module": "@jupyter-widgets/controls",
      "model_module_version": "2.0.0",
      "model_name": "HTMLStyleModel",
      "state": {
       "description_width": "",
       "font_size": null,
       "text_color": null
      }
     },
     "5e3db7a9fac54c1bb0ab8985d91d60a8": {
      "model_module": "@jupyter-widgets/controls",
      "model_module_version": "2.0.0",
      "model_name": "HTMLStyleModel",
      "state": {
       "description_width": "",
       "font_size": null,
       "text_color": null
      }
     },
     "5e533f2c444d43bd9181f278f3da707a": {
      "model_module": "@jupyter-widgets/base",
      "model_module_version": "2.0.0",
      "model_name": "LayoutModel",
      "state": {}
     },
     "5e53f2bbf27e44458196aa1a43ffdf22": {
      "model_module": "@jupyter-widgets/base",
      "model_module_version": "2.0.0",
      "model_name": "LayoutModel",
      "state": {}
     },
     "5e7bee41b454448b8311333c53bc2001": {
      "model_module": "@jupyter-widgets/base",
      "model_module_version": "2.0.0",
      "model_name": "LayoutModel",
      "state": {}
     },
     "5e7e1f36ba4d4f26b7a64e1bf1065a26": {
      "model_module": "@jupyter-widgets/controls",
      "model_module_version": "2.0.0",
      "model_name": "FloatProgressModel",
      "state": {
       "bar_style": "danger",
       "layout": "IPY_MODEL_d43260950dbc408393eadc7f5dbea5a2",
       "max": 651,
       "style": "IPY_MODEL_1e52c3448201497b9dece4a9a9ce0506"
      }
     },
     "5eb0de69fba146069643c162d354dce9": {
      "model_module": "@jupyter-widgets/controls",
      "model_module_version": "2.0.0",
      "model_name": "FloatProgressModel",
      "state": {
       "bar_style": "danger",
       "layout": "IPY_MODEL_d78cc8982ace4b4398cbe6b13ce6aed9",
       "max": 712,
       "style": "IPY_MODEL_a6d552fe65af412fb92c6af7452f67f3"
      }
     },
     "5ee42c3db4e4419498da8ee84a72ad2d": {
      "model_module": "@jupyter-widgets/controls",
      "model_module_version": "2.0.0",
      "model_name": "HTMLStyleModel",
      "state": {
       "description_width": "",
       "font_size": null,
       "text_color": null
      }
     },
     "5ee5d8fdd7974beaa65c181756a6840e": {
      "model_module": "@jupyter-widgets/base",
      "model_module_version": "2.0.0",
      "model_name": "LayoutModel",
      "state": {}
     },
     "5f474ba0c86c40ed9831415293a310bb": {
      "model_module": "@jupyter-widgets/base",
      "model_module_version": "2.0.0",
      "model_name": "LayoutModel",
      "state": {}
     },
     "5f5e89481f964d348dc14f28b329e291": {
      "model_module": "@jupyter-widgets/controls",
      "model_module_version": "2.0.0",
      "model_name": "HTMLStyleModel",
      "state": {
       "description_width": "",
       "font_size": null,
       "text_color": null
      }
     },
     "5f612954486044b293743015c514be72": {
      "model_module": "@jupyter-widgets/controls",
      "model_module_version": "2.0.0",
      "model_name": "ProgressStyleModel",
      "state": {
       "description_width": ""
      }
     },
     "5f8f398cb31448509a755b9f49a46c1f": {
      "model_module": "@jupyter-widgets/base",
      "model_module_version": "2.0.0",
      "model_name": "LayoutModel",
      "state": {}
     },
     "5fa235f14f614fa28c4676db8d54981b": {
      "model_module": "@jupyter-widgets/base",
      "model_module_version": "2.0.0",
      "model_name": "LayoutModel",
      "state": {}
     },
     "5fa722bc889149eaa613eefc58d2d03a": {
      "model_module": "@jupyter-widgets/base",
      "model_module_version": "2.0.0",
      "model_name": "LayoutModel",
      "state": {}
     },
     "5fa7b3a98dcb4e348e91c32276945e9a": {
      "model_module": "@jupyter-widgets/base",
      "model_module_version": "2.0.0",
      "model_name": "LayoutModel",
      "state": {}
     },
     "5fa82f38d07647d6870b1d120ac05ce0": {
      "model_module": "@jupyter-widgets/base",
      "model_module_version": "2.0.0",
      "model_name": "LayoutModel",
      "state": {}
     },
     "5faa3d67b87a42b9992c1cc21954bb35": {
      "model_module": "@jupyter-widgets/controls",
      "model_module_version": "2.0.0",
      "model_name": "HTMLModel",
      "state": {
       "layout": "IPY_MODEL_3a3412349d8e431b92237c3619249c93",
       "style": "IPY_MODEL_326a36956fd14fd3a3b476ab5de172d6",
       "value": "  0%"
      }
     },
     "5fcf861d016a4261982c7f582ff7f055": {
      "model_module": "@jupyter-widgets/controls",
      "model_module_version": "2.0.0",
      "model_name": "HTMLModel",
      "state": {
       "layout": "IPY_MODEL_39c3374fcca6456580a0fbfe21ba7db6",
       "style": "IPY_MODEL_be86a0a9975f4c0ab74d45ab8d851d2a",
       "value": " 0/582 [00:00&lt;?, ?it/s]"
      }
     },
     "5fdaae91eb184c21a8e151cff5ecd665": {
      "model_module": "@jupyter-widgets/controls",
      "model_module_version": "2.0.0",
      "model_name": "HTMLStyleModel",
      "state": {
       "description_width": "",
       "font_size": null,
       "text_color": null
      }
     },
     "6020618e71924fa0b32d9a012a1979e0": {
      "model_module": "@jupyter-widgets/controls",
      "model_module_version": "2.0.0",
      "model_name": "ProgressStyleModel",
      "state": {
       "description_width": ""
      }
     },
     "60552a4bf1c249d09013577f3e14ffec": {
      "model_module": "@jupyter-widgets/controls",
      "model_module_version": "2.0.0",
      "model_name": "HTMLStyleModel",
      "state": {
       "description_width": "",
       "font_size": null,
       "text_color": null
      }
     },
     "60a278c88b264195a1fb531d089f5357": {
      "model_module": "@jupyter-widgets/controls",
      "model_module_version": "2.0.0",
      "model_name": "ProgressStyleModel",
      "state": {
       "description_width": ""
      }
     },
     "60f14aee9df9484997239ace3de2e101": {
      "model_module": "@jupyter-widgets/controls",
      "model_module_version": "2.0.0",
      "model_name": "HBoxModel",
      "state": {
       "children": [
        "IPY_MODEL_cf66ff699caf48fba0364ed8105f9ef9",
        "IPY_MODEL_9c124d8f1b7b42bd962d9b511fda0e00",
        "IPY_MODEL_e06dabbb48ec474392670e0765d30d2b"
       ],
       "layout": "IPY_MODEL_f231c0ec26fe47bfa0b6987f0d470ba2"
      }
     },
     "6145d3bd382149fa869910549612296e": {
      "model_module": "@jupyter-widgets/controls",
      "model_module_version": "2.0.0",
      "model_name": "HTMLModel",
      "state": {
       "layout": "IPY_MODEL_f3ebd31ff9224500ad6a2abc5783ca7a",
       "style": "IPY_MODEL_0b1f119694dd4fb19245299403690324",
       "value": " 0/582 [00:00&lt;?, ?it/s]"
      }
     },
     "61483407841944b0ba95640694f29c16": {
      "model_module": "@jupyter-widgets/base",
      "model_module_version": "2.0.0",
      "model_name": "LayoutModel",
      "state": {}
     },
     "616693f50b37415996839c6b0f220917": {
      "model_module": "@jupyter-widgets/base",
      "model_module_version": "2.0.0",
      "model_name": "LayoutModel",
      "state": {}
     },
     "61a2dbdfa12d4ab78adb82bdfe148b40": {
      "model_module": "@jupyter-widgets/controls",
      "model_module_version": "2.0.0",
      "model_name": "HTMLModel",
      "state": {
       "layout": "IPY_MODEL_84c0a4c8181b40ba87fa1ee80d03449f",
       "style": "IPY_MODEL_ac5c7a8de20b4b9ea8c1d99884662cbb",
       "value": "100%"
      }
     },
     "61e19f01162f4bd890fe939287e78dd0": {
      "model_module": "@jupyter-widgets/controls",
      "model_module_version": "2.0.0",
      "model_name": "HTMLStyleModel",
      "state": {
       "description_width": "",
       "font_size": null,
       "text_color": null
      }
     },
     "61edbecd0be442a485a8736173b5a62a": {
      "model_module": "@jupyter-widgets/controls",
      "model_module_version": "2.0.0",
      "model_name": "HTMLModel",
      "state": {
       "layout": "IPY_MODEL_d05b88ccee3e4edfae0b0dc49a1c4b92",
       "style": "IPY_MODEL_c52ca850e58c4ac4b964f1cd3cc551d1",
       "value": "  0%"
      }
     },
     "62118008f468448a9ec4d8ad00896c3c": {
      "model_module": "@jupyter-widgets/controls",
      "model_module_version": "2.0.0",
      "model_name": "HTMLStyleModel",
      "state": {
       "description_width": "",
       "font_size": null,
       "text_color": null
      }
     },
     "621fa93808d3443da1a6c03aad028c99": {
      "model_module": "@jupyter-widgets/controls",
      "model_module_version": "2.0.0",
      "model_name": "HTMLStyleModel",
      "state": {
       "description_width": "",
       "font_size": null,
       "text_color": null
      }
     },
     "6237fd5a25724b6eb1fe7ecc0f6e03e0": {
      "model_module": "@jupyter-widgets/controls",
      "model_module_version": "2.0.0",
      "model_name": "HTMLStyleModel",
      "state": {
       "description_width": "",
       "font_size": null,
       "text_color": null
      }
     },
     "62712b7f61904686b23bc492cfd50a76": {
      "model_module": "@jupyter-widgets/base",
      "model_module_version": "2.0.0",
      "model_name": "LayoutModel",
      "state": {}
     },
     "63270fd21e094bb18d85eec5b83e9517": {
      "model_module": "@jupyter-widgets/base",
      "model_module_version": "2.0.0",
      "model_name": "LayoutModel",
      "state": {}
     },
     "6367f2f039614b928d448745a58ac38f": {
      "model_module": "@jupyter-widgets/controls",
      "model_module_version": "2.0.0",
      "model_name": "HTMLStyleModel",
      "state": {
       "description_width": "",
       "font_size": null,
       "text_color": null
      }
     },
     "636cc5f1bc484fe083f838871c207a15": {
      "model_module": "@jupyter-widgets/base",
      "model_module_version": "2.0.0",
      "model_name": "LayoutModel",
      "state": {}
     },
     "6370029c5bc64f28b04ff4cf1c9bc1e4": {
      "model_module": "@jupyter-widgets/base",
      "model_module_version": "2.0.0",
      "model_name": "LayoutModel",
      "state": {}
     },
     "6387654593324eb4a477804b8c7d6bcb": {
      "model_module": "@jupyter-widgets/base",
      "model_module_version": "2.0.0",
      "model_name": "LayoutModel",
      "state": {}
     },
     "63c269f599c540f197a0b69b1907ba6d": {
      "model_module": "@jupyter-widgets/controls",
      "model_module_version": "2.0.0",
      "model_name": "ProgressStyleModel",
      "state": {
       "description_width": ""
      }
     },
     "63d208fba13c4ed489b3339e60508158": {
      "model_module": "@jupyter-widgets/base",
      "model_module_version": "2.0.0",
      "model_name": "LayoutModel",
      "state": {}
     },
     "6458bde8b0e1415d9db683236215c67e": {
      "model_module": "@jupyter-widgets/controls",
      "model_module_version": "2.0.0",
      "model_name": "HTMLStyleModel",
      "state": {
       "description_width": "",
       "font_size": null,
       "text_color": null
      }
     },
     "6473134739a74224b2943657609175d5": {
      "model_module": "@jupyter-widgets/controls",
      "model_module_version": "2.0.0",
      "model_name": "ProgressStyleModel",
      "state": {
       "description_width": ""
      }
     },
     "647313d9f6f448dbb8f6842b5947cf0a": {
      "model_module": "@jupyter-widgets/controls",
      "model_module_version": "2.0.0",
      "model_name": "HTMLModel",
      "state": {
       "layout": "IPY_MODEL_248b0cefb42a40d2a8adeaf0615f1426",
       "style": "IPY_MODEL_036592080ada4be6b40416d5b8a3bbba",
       "value": "  0%"
      }
     },
     "64c046df2e094db1afc69908a434fc4e": {
      "model_module": "@jupyter-widgets/controls",
      "model_module_version": "2.0.0",
      "model_name": "HTMLModel",
      "state": {
       "layout": "IPY_MODEL_4a52b09872c14a12a4c4c5952b7f0a15",
       "style": "IPY_MODEL_1fb20313548b429ab23567d197f185ea",
       "value": "  0%"
      }
     },
     "64dfeb216fb74d7494f9d5d261ba135b": {
      "model_module": "@jupyter-widgets/controls",
      "model_module_version": "2.0.0",
      "model_name": "HTMLModel",
      "state": {
       "layout": "IPY_MODEL_cae12318ce364b21b3130903933feec7",
       "style": "IPY_MODEL_f619dc01d68e4aeabc022f093f995990",
       "value": " 0/745 [00:00&lt;?, ?it/s]"
      }
     },
     "650dbac690dc4baab0c56f10cf6ed71c": {
      "model_module": "@jupyter-widgets/base",
      "model_module_version": "2.0.0",
      "model_name": "LayoutModel",
      "state": {}
     },
     "652599b84cfa45c99694887fda705387": {
      "model_module": "@jupyter-widgets/base",
      "model_module_version": "2.0.0",
      "model_name": "LayoutModel",
      "state": {}
     },
     "65476498f77e4b9e8310f94dc30c1598": {
      "model_module": "@jupyter-widgets/controls",
      "model_module_version": "2.0.0",
      "model_name": "FloatProgressModel",
      "state": {
       "bar_style": "danger",
       "layout": "IPY_MODEL_d1a8202e59ba453a967428979995a08b",
       "max": 582,
       "style": "IPY_MODEL_e9b71b448a244ec1bad17d48443b49e2"
      }
     },
     "655a05bbdbe24cd98746b288f3fee7da": {
      "model_module": "@jupyter-widgets/controls",
      "model_module_version": "2.0.0",
      "model_name": "HTMLStyleModel",
      "state": {
       "description_width": "",
       "font_size": null,
       "text_color": null
      }
     },
     "65a11a3602c446899eed2842ab8920f8": {
      "model_module": "@jupyter-widgets/controls",
      "model_module_version": "2.0.0",
      "model_name": "HTMLStyleModel",
      "state": {
       "description_width": "",
       "font_size": null,
       "text_color": null
      }
     },
     "65acc23802fe4725862f15096692fd67": {
      "model_module": "@jupyter-widgets/controls",
      "model_module_version": "2.0.0",
      "model_name": "HTMLStyleModel",
      "state": {
       "description_width": "",
       "font_size": null,
       "text_color": null
      }
     },
     "65d45222a4f24c89bc69f235c5408258": {
      "model_module": "@jupyter-widgets/base",
      "model_module_version": "2.0.0",
      "model_name": "LayoutModel",
      "state": {}
     },
     "666d03de561e407aab10e73db80bbc0f": {
      "model_module": "@jupyter-widgets/base",
      "model_module_version": "2.0.0",
      "model_name": "LayoutModel",
      "state": {}
     },
     "66ae75c5a3854bd9a16b4135110791d6": {
      "model_module": "@jupyter-widgets/base",
      "model_module_version": "2.0.0",
      "model_name": "LayoutModel",
      "state": {}
     },
     "66b6f03debc94bcc8e94ad8788a8d790": {
      "model_module": "@jupyter-widgets/controls",
      "model_module_version": "2.0.0",
      "model_name": "ProgressStyleModel",
      "state": {
       "description_width": ""
      }
     },
     "66dbf890b9714510bb8254c95f4de287": {
      "model_module": "@jupyter-widgets/controls",
      "model_module_version": "2.0.0",
      "model_name": "HTMLStyleModel",
      "state": {
       "description_width": "",
       "font_size": null,
       "text_color": null
      }
     },
     "66e219f8b35b4a2182efd8de623a46f5": {
      "model_module": "@jupyter-widgets/base",
      "model_module_version": "2.0.0",
      "model_name": "LayoutModel",
      "state": {}
     },
     "6717b75fde754d84b2ef30438165fb89": {
      "model_module": "@jupyter-widgets/controls",
      "model_module_version": "2.0.0",
      "model_name": "HTMLModel",
      "state": {
       "layout": "IPY_MODEL_7779b3aeff144992882202a59c6a4bf0",
       "style": "IPY_MODEL_e8d0ab9c0ff04fc882af7fc6c1a88e43",
       "value": "  0%"
      }
     },
     "6725cf2a963945c5bba2f9e18963ef95": {
      "model_module": "@jupyter-widgets/controls",
      "model_module_version": "2.0.0",
      "model_name": "HTMLModel",
      "state": {
       "layout": "IPY_MODEL_b6061dfcdce54a7abd449d9586b5c641",
       "style": "IPY_MODEL_8dada1deed144d2d979659a889aca643",
       "value": " 0/657 [00:00&lt;?, ?it/s]"
      }
     },
     "67a62861aecd44a48a04db0ff375cc71": {
      "model_module": "@jupyter-widgets/base",
      "model_module_version": "2.0.0",
      "model_name": "LayoutModel",
      "state": {}
     },
     "67b135a7f51047b885a16f1011b8f8c8": {
      "model_module": "@jupyter-widgets/base",
      "model_module_version": "2.0.0",
      "model_name": "LayoutModel",
      "state": {}
     },
     "6814f6751a7b4a9bb5e8848e8f305483": {
      "model_module": "@jupyter-widgets/base",
      "model_module_version": "2.0.0",
      "model_name": "LayoutModel",
      "state": {}
     },
     "686f870641b645e19ab34b492285d65b": {
      "model_module": "@jupyter-widgets/controls",
      "model_module_version": "2.0.0",
      "model_name": "HBoxModel",
      "state": {
       "children": [
        "IPY_MODEL_a894e48815184232b30d99b4c7f98545",
        "IPY_MODEL_4f67127828284379b62966f263acd599",
        "IPY_MODEL_858c21a567d941b280d1eb2600633ed9"
       ],
       "layout": "IPY_MODEL_ea741176484a4879ba17633ec5216d13"
      }
     },
     "68a94cc220f5456b913373c0d7efda27": {
      "model_module": "@jupyter-widgets/controls",
      "model_module_version": "2.0.0",
      "model_name": "FloatProgressModel",
      "state": {
       "bar_style": "danger",
       "layout": "IPY_MODEL_9430eaadddb2412a93675407dd1fe6f1",
       "max": 582,
       "style": "IPY_MODEL_27448e1a0c1a45038dcd110a614328c2"
      }
     },
     "68cf4055edc14ffabf7c7374593d052d": {
      "model_module": "@jupyter-widgets/base",
      "model_module_version": "2.0.0",
      "model_name": "LayoutModel",
      "state": {}
     },
     "68faf73be82b4f44ab3f53949fd94cdb": {
      "model_module": "@jupyter-widgets/controls",
      "model_module_version": "2.0.0",
      "model_name": "ProgressStyleModel",
      "state": {
       "description_width": ""
      }
     },
     "69a6039a8529418b8cad53e233004eac": {
      "model_module": "@jupyter-widgets/controls",
      "model_module_version": "2.0.0",
      "model_name": "ProgressStyleModel",
      "state": {
       "description_width": ""
      }
     },
     "6ad4e434aed3436387348cd0809a737a": {
      "model_module": "@jupyter-widgets/controls",
      "model_module_version": "2.0.0",
      "model_name": "HTMLStyleModel",
      "state": {
       "description_width": "",
       "font_size": null,
       "text_color": null
      }
     },
     "6ae91484eae64b0bb8b804b6e1d0cd13": {
      "model_module": "@jupyter-widgets/controls",
      "model_module_version": "2.0.0",
      "model_name": "HBoxModel",
      "state": {
       "children": [
        "IPY_MODEL_187f811fd7484409afbd80a379f7ebe6",
        "IPY_MODEL_f18da14e2cb94f3cb9937bcd37660d27",
        "IPY_MODEL_e4ed7a1aa76744cfb45b0450ea5f63a5"
       ],
       "layout": "IPY_MODEL_00d61b2df9b74f4bb9c5c0b7e143cc3b"
      }
     },
     "6b46ec476dfb4555bd48b93b2a2c87b7": {
      "model_module": "@jupyter-widgets/base",
      "model_module_version": "2.0.0",
      "model_name": "LayoutModel",
      "state": {}
     },
     "6b4a42cba48c4b268eb7a9343684d3d6": {
      "model_module": "@jupyter-widgets/base",
      "model_module_version": "2.0.0",
      "model_name": "LayoutModel",
      "state": {}
     },
     "6b556d578b05440d96d8b74f1297b638": {
      "model_module": "@jupyter-widgets/controls",
      "model_module_version": "2.0.0",
      "model_name": "ProgressStyleModel",
      "state": {
       "description_width": ""
      }
     },
     "6b8418f9de06402b8c0de105794fba0b": {
      "model_module": "@jupyter-widgets/controls",
      "model_module_version": "2.0.0",
      "model_name": "HTMLStyleModel",
      "state": {
       "description_width": "",
       "font_size": null,
       "text_color": null
      }
     },
     "6bb9f6dc14cb4ebe93d7dd10e6ffe11e": {
      "model_module": "@jupyter-widgets/base",
      "model_module_version": "2.0.0",
      "model_name": "LayoutModel",
      "state": {}
     },
     "6bdcf3f0ee5b4278ad99d1a9b6238d31": {
      "model_module": "@jupyter-widgets/controls",
      "model_module_version": "2.0.0",
      "model_name": "HTMLStyleModel",
      "state": {
       "description_width": "",
       "font_size": null,
       "text_color": null
      }
     },
     "6bf8fc80544d432db19eb239cbf95c05": {
      "model_module": "@jupyter-widgets/controls",
      "model_module_version": "2.0.0",
      "model_name": "HTMLModel",
      "state": {
       "layout": "IPY_MODEL_00501c04e46d488c8d56bee4da98cc43",
       "style": "IPY_MODEL_bfd809525560470792fc3526714cd25e",
       "value": "  0%"
      }
     },
     "6c1c67f7c7ed47f0a729bdf252dd57d5": {
      "model_module": "@jupyter-widgets/base",
      "model_module_version": "2.0.0",
      "model_name": "LayoutModel",
      "state": {}
     },
     "6c7980e50d0d4e89b6c69847ced30600": {
      "model_module": "@jupyter-widgets/controls",
      "model_module_version": "2.0.0",
      "model_name": "HTMLStyleModel",
      "state": {
       "description_width": "",
       "font_size": null,
       "text_color": null
      }
     },
     "6c98625c908245febcb8c2b7652eaa95": {
      "model_module": "@jupyter-widgets/controls",
      "model_module_version": "2.0.0",
      "model_name": "FloatProgressModel",
      "state": {
       "bar_style": "success",
       "layout": "IPY_MODEL_91d96e6b31a94f22bb39ee95110b1e8c",
       "max": 118,
       "style": "IPY_MODEL_cc9628d361e044669267ff68c1547fec",
       "value": 118
      }
     },
     "6ca34cc2cd9a4a9e98296fe25a374a9a": {
      "model_module": "@jupyter-widgets/controls",
      "model_module_version": "2.0.0",
      "model_name": "HTMLModel",
      "state": {
       "layout": "IPY_MODEL_4a92589dc82045e5b1efec66cf13eeca",
       "style": "IPY_MODEL_57952bc78b5c4fe581f59ae6ee04c56f",
       "value": "  0%"
      }
     },
     "6ca661a4d96c467d81c42551f4fb0114": {
      "model_module": "@jupyter-widgets/controls",
      "model_module_version": "2.0.0",
      "model_name": "HTMLModel",
      "state": {
       "layout": "IPY_MODEL_cb43052f57b04e6d81cb7a00e11fa0c5",
       "style": "IPY_MODEL_c50f535460ca43a9951a7c330950385f",
       "value": " 507/507 [00:10&lt;00:00, 53.60it/s]"
      }
     },
     "6d25fcfb978f4e3a89126b33eae30d70": {
      "model_module": "@jupyter-widgets/controls",
      "model_module_version": "2.0.0",
      "model_name": "FloatProgressModel",
      "state": {
       "bar_style": "danger",
       "layout": "IPY_MODEL_fa39a566bbd64d2895531a04c9492640",
       "max": 715,
       "style": "IPY_MODEL_c4cda841c69a4c8abfdc040c912051a0"
      }
     },
     "6d3114abc2b8453ab3b95894fc0bf35a": {
      "model_module": "@jupyter-widgets/base",
      "model_module_version": "2.0.0",
      "model_name": "LayoutModel",
      "state": {}
     },
     "6d7d881f9884463bb295160a8075c0e7": {
      "model_module": "@jupyter-widgets/controls",
      "model_module_version": "2.0.0",
      "model_name": "HTMLStyleModel",
      "state": {
       "description_width": "",
       "font_size": null,
       "text_color": null
      }
     },
     "6d83a7e99f01468f91fbfd1ef9eaadee": {
      "model_module": "@jupyter-widgets/base",
      "model_module_version": "2.0.0",
      "model_name": "LayoutModel",
      "state": {}
     },
     "6dd0dac94a2e4232b071f099e1fbeee3": {
      "model_module": "@jupyter-widgets/base",
      "model_module_version": "2.0.0",
      "model_name": "LayoutModel",
      "state": {}
     },
     "6e030e6d74244a5fbc2d9e66d4d2313d": {
      "model_module": "@jupyter-widgets/base",
      "model_module_version": "2.0.0",
      "model_name": "LayoutModel",
      "state": {}
     },
     "6ea2e7c4aa7f4a9d9cb8f24b5b3ea65a": {
      "model_module": "@jupyter-widgets/controls",
      "model_module_version": "2.0.0",
      "model_name": "HTMLStyleModel",
      "state": {
       "description_width": "",
       "font_size": null,
       "text_color": null
      }
     },
     "6f5030bcaf5748d9873a5aa8674b9f6d": {
      "model_module": "@jupyter-widgets/controls",
      "model_module_version": "2.0.0",
      "model_name": "HTMLStyleModel",
      "state": {
       "description_width": "",
       "font_size": null,
       "text_color": null
      }
     },
     "6f672f6cada94383a4fa32fcccc30fdd": {
      "model_module": "@jupyter-widgets/controls",
      "model_module_version": "2.0.0",
      "model_name": "HTMLStyleModel",
      "state": {
       "description_width": "",
       "font_size": null,
       "text_color": null
      }
     },
     "6fa3ff5d35ee4c78909eb8ff65952154": {
      "model_module": "@jupyter-widgets/base",
      "model_module_version": "2.0.0",
      "model_name": "LayoutModel",
      "state": {}
     },
     "702fcc727a424642bf791dce50be8136": {
      "model_module": "@jupyter-widgets/controls",
      "model_module_version": "2.0.0",
      "model_name": "FloatProgressModel",
      "state": {
       "bar_style": "danger",
       "layout": "IPY_MODEL_91b9bc7e9b55499ba3a29f560ad1ef78",
       "max": 636,
       "style": "IPY_MODEL_04d904b120904036be04015f36ab38e0"
      }
     },
     "7048662f5a784355b08232fc16320365": {
      "model_module": "@jupyter-widgets/controls",
      "model_module_version": "2.0.0",
      "model_name": "HBoxModel",
      "state": {
       "children": [
        "IPY_MODEL_576bc9a05c7b440f8cd798251139a99c",
        "IPY_MODEL_de91189e249d4f78a1df711f8698ce35",
        "IPY_MODEL_f20f46b407b7453491d0d2a247018e59"
       ],
       "layout": "IPY_MODEL_a21d15f955bc407bb59fc1ee897ac579"
      }
     },
     "705a048b6f6e4651b78111499a0c2dc7": {
      "model_module": "@jupyter-widgets/controls",
      "model_module_version": "2.0.0",
      "model_name": "HTMLStyleModel",
      "state": {
       "description_width": "",
       "font_size": null,
       "text_color": null
      }
     },
     "707c38a2ba64490bb1402d39fd9c52d4": {
      "model_module": "@jupyter-widgets/controls",
      "model_module_version": "2.0.0",
      "model_name": "HBoxModel",
      "state": {
       "children": [
        "IPY_MODEL_3754034e019c442ea2a1f45feb787e75",
        "IPY_MODEL_f879315b79624604b9858d470e4aeef9",
        "IPY_MODEL_d86ebe602c874338ac76ab7cc71b6183"
       ],
       "layout": "IPY_MODEL_7600dbbb7f5a45b0a053330aad5d047c"
      }
     },
     "708b4a3767d441859e8bf8a574c59aea": {
      "model_module": "@jupyter-widgets/controls",
      "model_module_version": "2.0.0",
      "model_name": "ProgressStyleModel",
      "state": {
       "description_width": ""
      }
     },
     "70bbbfa07c9047da807cc14f4dbf65b6": {
      "model_module": "@jupyter-widgets/controls",
      "model_module_version": "2.0.0",
      "model_name": "FloatProgressModel",
      "state": {
       "bar_style": "danger",
       "layout": "IPY_MODEL_079af6781ecb4defafc2cd08269605db",
       "max": 927,
       "style": "IPY_MODEL_f52f7934e9774be88b0f16f918c6ca55"
      }
     },
     "70d039f07f914dc5bf5f76052a2311e6": {
      "model_module": "@jupyter-widgets/base",
      "model_module_version": "2.0.0",
      "model_name": "LayoutModel",
      "state": {}
     },
     "70d309343b03420e8e280ca1f66ffeae": {
      "model_module": "@jupyter-widgets/controls",
      "model_module_version": "2.0.0",
      "model_name": "HTMLStyleModel",
      "state": {
       "description_width": "",
       "font_size": null,
       "text_color": null
      }
     },
     "70d99257d66f4b70999b860763888d99": {
      "model_module": "@jupyter-widgets/base",
      "model_module_version": "2.0.0",
      "model_name": "LayoutModel",
      "state": {}
     },
     "70ec18db72d74134bf09a6157fc83ada": {
      "model_module": "@jupyter-widgets/base",
      "model_module_version": "2.0.0",
      "model_name": "LayoutModel",
      "state": {}
     },
     "7114af5a972248ceb66a3b55e2895326": {
      "model_module": "@jupyter-widgets/base",
      "model_module_version": "2.0.0",
      "model_name": "LayoutModel",
      "state": {}
     },
     "712317d0da60419798389f5e084a4736": {
      "model_module": "@jupyter-widgets/base",
      "model_module_version": "2.0.0",
      "model_name": "LayoutModel",
      "state": {}
     },
     "712f43a1d7d347a29ec6036967a1fdb4": {
      "model_module": "@jupyter-widgets/controls",
      "model_module_version": "2.0.0",
      "model_name": "HTMLModel",
      "state": {
       "layout": "IPY_MODEL_ff6e419360f34eeeaa76f147390790de",
       "style": "IPY_MODEL_7dbbf62313454c9d997d0f81e7ca7987",
       "value": "  0%"
      }
     },
     "713e4ad2ba6a4e278eb38bc309de72e6": {
      "model_module": "@jupyter-widgets/controls",
      "model_module_version": "2.0.0",
      "model_name": "HTMLStyleModel",
      "state": {
       "description_width": "",
       "font_size": null,
       "text_color": null
      }
     },
     "713ece5401284c1c8bdcf27626ecf1c5": {
      "model_module": "@jupyter-widgets/base",
      "model_module_version": "2.0.0",
      "model_name": "LayoutModel",
      "state": {}
     },
     "713f868a7750466aba93d21078a80386": {
      "model_module": "@jupyter-widgets/controls",
      "model_module_version": "2.0.0",
      "model_name": "HTMLModel",
      "state": {
       "layout": "IPY_MODEL_e2931b30eecb4672ab6dfd6f303ef03d",
       "style": "IPY_MODEL_0abed06f690e450ebc391d27845b2037",
       "value": "100%"
      }
     },
     "717bb9617cbb46bdb0af95e0fc7a50b6": {
      "model_module": "@jupyter-widgets/controls",
      "model_module_version": "2.0.0",
      "model_name": "ProgressStyleModel",
      "state": {
       "description_width": ""
      }
     },
     "71bf12375da245cbae6118e0cff36cef": {
      "model_module": "@jupyter-widgets/controls",
      "model_module_version": "2.0.0",
      "model_name": "HTMLStyleModel",
      "state": {
       "description_width": "",
       "font_size": null,
       "text_color": null
      }
     },
     "71c13fca01d34b73b9a2de64d1f51455": {
      "model_module": "@jupyter-widgets/base",
      "model_module_version": "2.0.0",
      "model_name": "LayoutModel",
      "state": {}
     },
     "720434d9f6fe4cbaada16a5bb1ec6450": {
      "model_module": "@jupyter-widgets/controls",
      "model_module_version": "2.0.0",
      "model_name": "HBoxModel",
      "state": {
       "children": [
        "IPY_MODEL_5faa3d67b87a42b9992c1cc21954bb35",
        "IPY_MODEL_4feb465513434c9bb3856fab47c4e3b2",
        "IPY_MODEL_f598efdcb282451d9b52c1a85909ebc6"
       ],
       "layout": "IPY_MODEL_1ebc621b75f14d9d92f47069ba706f17"
      }
     },
     "728042a56ea44a698b26d8e68fb4d8a9": {
      "model_module": "@jupyter-widgets/base",
      "model_module_version": "2.0.0",
      "model_name": "LayoutModel",
      "state": {}
     },
     "728e4fbd9c0041ac98ee75e4606b186c": {
      "model_module": "@jupyter-widgets/controls",
      "model_module_version": "2.0.0",
      "model_name": "HTMLStyleModel",
      "state": {
       "description_width": "",
       "font_size": null,
       "text_color": null
      }
     },
     "728f931f6ef841d7bd8d84eb643d6bc0": {
      "model_module": "@jupyter-widgets/base",
      "model_module_version": "2.0.0",
      "model_name": "LayoutModel",
      "state": {}
     },
     "72ad4101901a4602bd0d6db4c3f188d7": {
      "model_module": "@jupyter-widgets/controls",
      "model_module_version": "2.0.0",
      "model_name": "HTMLStyleModel",
      "state": {
       "description_width": "",
       "font_size": null,
       "text_color": null
      }
     },
     "72ae205a2c40453ab6203c4ff9b07db3": {
      "model_module": "@jupyter-widgets/base",
      "model_module_version": "2.0.0",
      "model_name": "LayoutModel",
      "state": {}
     },
     "72cb9618e8894cb299b46a6f904aa657": {
      "model_module": "@jupyter-widgets/base",
      "model_module_version": "2.0.0",
      "model_name": "LayoutModel",
      "state": {}
     },
     "72f6583f7f6b4386acddc31a219ee1b4": {
      "model_module": "@jupyter-widgets/base",
      "model_module_version": "2.0.0",
      "model_name": "LayoutModel",
      "state": {}
     },
     "730e495ed0b2438ca21815cf72902595": {
      "model_module": "@jupyter-widgets/controls",
      "model_module_version": "2.0.0",
      "model_name": "HTMLStyleModel",
      "state": {
       "description_width": "",
       "font_size": null,
       "text_color": null
      }
     },
     "7337074eb82b4afe87877d6928d471c3": {
      "model_module": "@jupyter-widgets/controls",
      "model_module_version": "2.0.0",
      "model_name": "HTMLModel",
      "state": {
       "layout": "IPY_MODEL_945eb5fdb1084025b5c7e356b6bfe9f8",
       "style": "IPY_MODEL_c4d652c26a234b6c8e4b07f193364a0d",
       "value": "  0%"
      }
     },
     "7358eb09c749440dbab328e07eb1864c": {
      "model_module": "@jupyter-widgets/controls",
      "model_module_version": "2.0.0",
      "model_name": "HTMLModel",
      "state": {
       "layout": "IPY_MODEL_335a65c6d8044397bd33238580a66405",
       "style": "IPY_MODEL_159515a376d747d2b03c792ec54d823f",
       "value": "  0%"
      }
     },
     "738ae30a40794b0db2ccf4ad2e400cc2": {
      "model_module": "@jupyter-widgets/controls",
      "model_module_version": "2.0.0",
      "model_name": "ProgressStyleModel",
      "state": {
       "description_width": ""
      }
     },
     "73aa92ce71364ce898813e6d9cc77e23": {
      "model_module": "@jupyter-widgets/controls",
      "model_module_version": "2.0.0",
      "model_name": "HTMLModel",
      "state": {
       "layout": "IPY_MODEL_c18f90a9340c40c891761d3610dd9afb",
       "style": "IPY_MODEL_f74b01c751be41bfb2408097edacfb7d",
       "value": "  0%"
      }
     },
     "73ca27687b0a4adb97597e400413c034": {
      "model_module": "@jupyter-widgets/base",
      "model_module_version": "2.0.0",
      "model_name": "LayoutModel",
      "state": {}
     },
     "7432847af89b48f2b694ff70e4349971": {
      "model_module": "@jupyter-widgets/controls",
      "model_module_version": "2.0.0",
      "model_name": "HTMLModel",
      "state": {
       "layout": "IPY_MODEL_caa9cfaa4ab849169a86b4ca0dd53dbb",
       "style": "IPY_MODEL_92fbe9c69d8d43b2b719b411806fc243",
       "value": "  0%"
      }
     },
     "747b6cb9ffd045ffb64cb3e2295bea06": {
      "model_module": "@jupyter-widgets/controls",
      "model_module_version": "2.0.0",
      "model_name": "HBoxModel",
      "state": {
       "children": [
        "IPY_MODEL_83a315f2d5e34f7f9957cbd1065e3713",
        "IPY_MODEL_197d0958f1eb4673baa604d55d342c67",
        "IPY_MODEL_4476f0dcf0b54d52aa73b59619a25af3"
       ],
       "layout": "IPY_MODEL_b4eb86a95a744aaf92a5ff1f88652c14"
      }
     },
     "74945783502342b585af31f8b9e0bda4": {
      "model_module": "@jupyter-widgets/controls",
      "model_module_version": "2.0.0",
      "model_name": "HTMLModel",
      "state": {
       "layout": "IPY_MODEL_379ae7b4fc6140babd5a39ef4d4d81c7",
       "style": "IPY_MODEL_2f77dd8a87c643a3a22382134ad3df58",
       "value": "100%"
      }
     },
     "74c61aab25ac48c48fd645467c0629b4": {
      "model_module": "@jupyter-widgets/controls",
      "model_module_version": "2.0.0",
      "model_name": "ProgressStyleModel",
      "state": {
       "description_width": ""
      }
     },
     "74ca63ae0e884e66a947efa1f123df89": {
      "model_module": "@jupyter-widgets/controls",
      "model_module_version": "2.0.0",
      "model_name": "HTMLStyleModel",
      "state": {
       "description_width": "",
       "font_size": null,
       "text_color": null
      }
     },
     "75182c945a6d41ce8cf679dba562a174": {
      "model_module": "@jupyter-widgets/controls",
      "model_module_version": "2.0.0",
      "model_name": "HTMLStyleModel",
      "state": {
       "description_width": "",
       "font_size": null,
       "text_color": null
      }
     },
     "7530beb768ea44caa548f2414a9913fd": {
      "model_module": "@jupyter-widgets/controls",
      "model_module_version": "2.0.0",
      "model_name": "HTMLModel",
      "state": {
       "layout": "IPY_MODEL_22e8210452ec40dcb25caa286b70183e",
       "style": "IPY_MODEL_b0f5f5adb10b4985a4d21536afdd56cd",
       "value": " 0/702 [00:00&lt;?, ?it/s]"
      }
     },
     "753f8171a8894bbaa7369397aa74c1df": {
      "model_module": "@jupyter-widgets/base",
      "model_module_version": "2.0.0",
      "model_name": "LayoutModel",
      "state": {}
     },
     "75500802bf5a4d33928d184d69bd173f": {
      "model_module": "@jupyter-widgets/base",
      "model_module_version": "2.0.0",
      "model_name": "LayoutModel",
      "state": {}
     },
     "756d2801499748a3b9c1b28de5e8fe59": {
      "model_module": "@jupyter-widgets/controls",
      "model_module_version": "2.0.0",
      "model_name": "HTMLModel",
      "state": {
       "layout": "IPY_MODEL_63270fd21e094bb18d85eec5b83e9517",
       "style": "IPY_MODEL_f5e4499a579e462e9bd22118701a18c6",
       "value": " 0/663 [00:00&lt;?, ?it/s]"
      }
     },
     "756efddb6af44719ac0a4fd98dd94129": {
      "model_module": "@jupyter-widgets/controls",
      "model_module_version": "2.0.0",
      "model_name": "HTMLStyleModel",
      "state": {
       "description_width": "",
       "font_size": null,
       "text_color": null
      }
     },
     "75b0c15f4dce4bc58ddc2676908b70c0": {
      "model_module": "@jupyter-widgets/controls",
      "model_module_version": "2.0.0",
      "model_name": "FloatProgressModel",
      "state": {
       "bar_style": "danger",
       "layout": "IPY_MODEL_b9f5df3ef9024636a3c8b6e22f8efa2e",
       "max": 690,
       "style": "IPY_MODEL_9d54d9e7e7ee4340944c13eeee7cf66c"
      }
     },
     "75f047a7442c42b2a6a52250c95de71f": {
      "model_module": "@jupyter-widgets/controls",
      "model_module_version": "2.0.0",
      "model_name": "HTMLModel",
      "state": {
       "layout": "IPY_MODEL_5b64ce241f244a8d887059e689ef1f07",
       "style": "IPY_MODEL_938af0cca95146c8ae2158cb02d35db4",
       "value": "  0%"
      }
     },
     "7600dbbb7f5a45b0a053330aad5d047c": {
      "model_module": "@jupyter-widgets/base",
      "model_module_version": "2.0.0",
      "model_name": "LayoutModel",
      "state": {}
     },
     "761ef0000e2e41d793cddc260002d56f": {
      "model_module": "@jupyter-widgets/controls",
      "model_module_version": "2.0.0",
      "model_name": "HTMLModel",
      "state": {
       "layout": "IPY_MODEL_09cbbc05fa8444de88d0891830abe1c6",
       "style": "IPY_MODEL_123d9b74762346748366d43a3184b7c6",
       "value": " 0/716 [00:00&lt;?, ?it/s]"
      }
     },
     "762787e5554246b48e1c6c5c2a8991be": {
      "model_module": "@jupyter-widgets/controls",
      "model_module_version": "2.0.0",
      "model_name": "FloatProgressModel",
      "state": {
       "bar_style": "danger",
       "layout": "IPY_MODEL_42405c9237c6414785cd3b305d86a2b5",
       "max": 698,
       "style": "IPY_MODEL_ca000c457c2a4ad5a6cac7efb9a71962"
      }
     },
     "7629489717e049a8ae4920f9dee503dc": {
      "model_module": "@jupyter-widgets/base",
      "model_module_version": "2.0.0",
      "model_name": "LayoutModel",
      "state": {}
     },
     "763a218579d04ceb80e3cd8429062bab": {
      "model_module": "@jupyter-widgets/base",
      "model_module_version": "2.0.0",
      "model_name": "LayoutModel",
      "state": {}
     },
     "7668c78a31044df881931d406b4ad532": {
      "model_module": "@jupyter-widgets/base",
      "model_module_version": "2.0.0",
      "model_name": "LayoutModel",
      "state": {}
     },
     "76738693289543c3b6ef87521e14fe60": {
      "model_module": "@jupyter-widgets/controls",
      "model_module_version": "2.0.0",
      "model_name": "HBoxModel",
      "state": {
       "children": [
        "IPY_MODEL_d797af9291364d6889f9daa309f42a84",
        "IPY_MODEL_9e753f1d13e247f6a63fd2143ab41f27",
        "IPY_MODEL_a72709253fc74077848975e2f5217149"
       ],
       "layout": "IPY_MODEL_2dab168fc1ee4753ae4f5c9553f1a9e2"
      }
     },
     "767adee2f863491099728e12a6e19c87": {
      "model_module": "@jupyter-widgets/base",
      "model_module_version": "2.0.0",
      "model_name": "LayoutModel",
      "state": {}
     },
     "7695dbd9bae345669df3ec1432625e44": {
      "model_module": "@jupyter-widgets/base",
      "model_module_version": "2.0.0",
      "model_name": "LayoutModel",
      "state": {}
     },
     "769ea342ecf24a12b431063c6f668a2c": {
      "model_module": "@jupyter-widgets/controls",
      "model_module_version": "2.0.0",
      "model_name": "HTMLStyleModel",
      "state": {
       "description_width": "",
       "font_size": null,
       "text_color": null
      }
     },
     "76c73add005d4259b1f9ab15a0539650": {
      "model_module": "@jupyter-widgets/controls",
      "model_module_version": "2.0.0",
      "model_name": "HTMLStyleModel",
      "state": {
       "description_width": "",
       "font_size": null,
       "text_color": null
      }
     },
     "773aad667d9442ba8612782f01769077": {
      "model_module": "@jupyter-widgets/base",
      "model_module_version": "2.0.0",
      "model_name": "LayoutModel",
      "state": {}
     },
     "775e06ab0522458b9324be5fcbef82b0": {
      "model_module": "@jupyter-widgets/controls",
      "model_module_version": "2.0.0",
      "model_name": "HTMLModel",
      "state": {
       "layout": "IPY_MODEL_3a63d6f3ba6648f98ac0be31b6a5f907",
       "style": "IPY_MODEL_22c6432ea4ff4bf2ad35620d42abf47e",
       "value": " 0/401 [00:00&lt;?, ?it/s]"
      }
     },
     "7774039ad66f4fccbd07de54baa7575d": {
      "model_module": "@jupyter-widgets/controls",
      "model_module_version": "2.0.0",
      "model_name": "HTMLModel",
      "state": {
       "layout": "IPY_MODEL_6814f6751a7b4a9bb5e8848e8f305483",
       "style": "IPY_MODEL_d36cd4279f3e4b9985d9d8e1c34ccf5e",
       "value": " 0/642 [00:00&lt;?, ?it/s]"
      }
     },
     "7779b3aeff144992882202a59c6a4bf0": {
      "model_module": "@jupyter-widgets/base",
      "model_module_version": "2.0.0",
      "model_name": "LayoutModel",
      "state": {}
     },
     "77b2cf999c03440f9f6ddf1dc9b26eee": {
      "model_module": "@jupyter-widgets/base",
      "model_module_version": "2.0.0",
      "model_name": "LayoutModel",
      "state": {}
     },
     "77b3353bdb244c20bd6778325664e328": {
      "model_module": "@jupyter-widgets/base",
      "model_module_version": "2.0.0",
      "model_name": "LayoutModel",
      "state": {}
     },
     "77db29adbc614c078087fabd1113c087": {
      "model_module": "@jupyter-widgets/controls",
      "model_module_version": "2.0.0",
      "model_name": "HTMLStyleModel",
      "state": {
       "description_width": "",
       "font_size": null,
       "text_color": null
      }
     },
     "7845c629cf444f4aab5a54d8a8284e41": {
      "model_module": "@jupyter-widgets/controls",
      "model_module_version": "2.0.0",
      "model_name": "HTMLStyleModel",
      "state": {
       "description_width": "",
       "font_size": null,
       "text_color": null
      }
     },
     "7850b47abaa041168794acedc1c5f0a2": {
      "model_module": "@jupyter-widgets/base",
      "model_module_version": "2.0.0",
      "model_name": "LayoutModel",
      "state": {}
     },
     "788456149a424cada784dd17ab0ab108": {
      "model_module": "@jupyter-widgets/controls",
      "model_module_version": "2.0.0",
      "model_name": "HTMLModel",
      "state": {
       "layout": "IPY_MODEL_2c7ccd74f9cf47cebc6743ee9cdf3638",
       "style": "IPY_MODEL_1843c825d175443ea2c441e1c775578f",
       "value": " 0/625 [00:00&lt;?, ?it/s]"
      }
     },
     "7899d27bc83e4bd2bc0ca4136c3434db": {
      "model_module": "@jupyter-widgets/base",
      "model_module_version": "2.0.0",
      "model_name": "LayoutModel",
      "state": {}
     },
     "78bf7ce918204b3dbe83eba89dafce62": {
      "model_module": "@jupyter-widgets/controls",
      "model_module_version": "2.0.0",
      "model_name": "HTMLModel",
      "state": {
       "layout": "IPY_MODEL_7ac183139f1f413289c3bef3f3ee52e4",
       "style": "IPY_MODEL_341071ce33364019937c4ba4bcf722e6",
       "value": "  0%"
      }
     },
     "78c8759b6649495692b5d82de13d1579": {
      "model_module": "@jupyter-widgets/controls",
      "model_module_version": "2.0.0",
      "model_name": "HTMLModel",
      "state": {
       "layout": "IPY_MODEL_9aac4647885c45dc9c8bd9330ba72b07",
       "style": "IPY_MODEL_6b8418f9de06402b8c0de105794fba0b",
       "value": " 0/681 [00:00&lt;?, ?it/s]"
      }
     },
     "790a63d1478f4313b967ca5ac646b60e": {
      "model_module": "@jupyter-widgets/controls",
      "model_module_version": "2.0.0",
      "model_name": "HBoxModel",
      "state": {
       "children": [
        "IPY_MODEL_317f7f2c02e74453a3973afbb5b65e66",
        "IPY_MODEL_9955189b039f455c98dc5e5f48f2783f",
        "IPY_MODEL_fb8bcd0ec4d648d98c7ac2810982cb24"
       ],
       "layout": "IPY_MODEL_a804802be3c84b9f85839464b743ac5c"
      }
     },
     "79260809f0e24b5eb887d55c630f8e6a": {
      "model_module": "@jupyter-widgets/base",
      "model_module_version": "2.0.0",
      "model_name": "LayoutModel",
      "state": {}
     },
     "7988f34ff6d84355a9f4c3205ad43fb3": {
      "model_module": "@jupyter-widgets/controls",
      "model_module_version": "2.0.0",
      "model_name": "HTMLStyleModel",
      "state": {
       "description_width": "",
       "font_size": null,
       "text_color": null
      }
     },
     "79a29feda4db493b87692fed0fd70ffa": {
      "model_module": "@jupyter-widgets/controls",
      "model_module_version": "2.0.0",
      "model_name": "HTMLModel",
      "state": {
       "layout": "IPY_MODEL_29b48daa32724a4ca53be2bb12b246b8",
       "style": "IPY_MODEL_6c7980e50d0d4e89b6c69847ced30600",
       "value": " 0/650 [00:00&lt;?, ?it/s]"
      }
     },
     "7a130ac93e02486f862a221806fe4de8": {
      "model_module": "@jupyter-widgets/controls",
      "model_module_version": "2.0.0",
      "model_name": "HTMLModel",
      "state": {
       "layout": "IPY_MODEL_56386d0e1ff144baaf65faaada49016a",
       "style": "IPY_MODEL_ab238684395f41778a0ffd5564fdc33a",
       "value": " 0/582 [00:00&lt;?, ?it/s]"
      }
     },
     "7a26ddc8a3dd4012aaf8e99344a5a319": {
      "model_module": "@jupyter-widgets/controls",
      "model_module_version": "2.0.0",
      "model_name": "HTMLModel",
      "state": {
       "layout": "IPY_MODEL_267a1c9f4a2e48eb89170b1ddee72fc8",
       "style": "IPY_MODEL_7fb9be0c20304924b562d4fa6cb2eab0",
       "value": " 0/819 [00:00&lt;?, ?it/s]"
      }
     },
     "7a34ca651c564a3a94d28c7ccd49fb7a": {
      "model_module": "@jupyter-widgets/base",
      "model_module_version": "2.0.0",
      "model_name": "LayoutModel",
      "state": {}
     },
     "7a4b22fda14d454580a685a966d636b0": {
      "model_module": "@jupyter-widgets/base",
      "model_module_version": "2.0.0",
      "model_name": "LayoutModel",
      "state": {}
     },
     "7a8f8b53655140289942ed03254e0721": {
      "model_module": "@jupyter-widgets/controls",
      "model_module_version": "2.0.0",
      "model_name": "HTMLStyleModel",
      "state": {
       "description_width": "",
       "font_size": null,
       "text_color": null
      }
     },
     "7ac183139f1f413289c3bef3f3ee52e4": {
      "model_module": "@jupyter-widgets/base",
      "model_module_version": "2.0.0",
      "model_name": "LayoutModel",
      "state": {}
     },
     "7af45fc85d5446ff8f7d0708c1b05344": {
      "model_module": "@jupyter-widgets/controls",
      "model_module_version": "2.0.0",
      "model_name": "HTMLStyleModel",
      "state": {
       "description_width": "",
       "font_size": null,
       "text_color": null
      }
     },
     "7b3b541a90bc40c088e8ed8dd43ef419": {
      "model_module": "@jupyter-widgets/base",
      "model_module_version": "2.0.0",
      "model_name": "LayoutModel",
      "state": {}
     },
     "7b844620277b43f9a6b27179d204b2e9": {
      "model_module": "@jupyter-widgets/base",
      "model_module_version": "2.0.0",
      "model_name": "LayoutModel",
      "state": {}
     },
     "7b8da3d80c584b20b69cc0c8495460b2": {
      "model_module": "@jupyter-widgets/controls",
      "model_module_version": "2.0.0",
      "model_name": "HTMLStyleModel",
      "state": {
       "description_width": "",
       "font_size": null,
       "text_color": null
      }
     },
     "7ba0479f1013444e86737788c9190647": {
      "model_module": "@jupyter-widgets/controls",
      "model_module_version": "2.0.0",
      "model_name": "ProgressStyleModel",
      "state": {
       "description_width": ""
      }
     },
     "7c0a70babadf466a94213a36e08c2291": {
      "model_module": "@jupyter-widgets/base",
      "model_module_version": "2.0.0",
      "model_name": "LayoutModel",
      "state": {}
     },
     "7c5dfdcb60db428da6501eab95e588ef": {
      "model_module": "@jupyter-widgets/base",
      "model_module_version": "2.0.0",
      "model_name": "LayoutModel",
      "state": {}
     },
     "7c722b4b934b46918a0857d6563d2739": {
      "model_module": "@jupyter-widgets/base",
      "model_module_version": "2.0.0",
      "model_name": "LayoutModel",
      "state": {}
     },
     "7d1536c4e4954f41ad72f40c90285b2a": {
      "model_module": "@jupyter-widgets/base",
      "model_module_version": "2.0.0",
      "model_name": "LayoutModel",
      "state": {}
     },
     "7d2713095f6349128acf1ce110335100": {
      "model_module": "@jupyter-widgets/base",
      "model_module_version": "2.0.0",
      "model_name": "LayoutModel",
      "state": {}
     },
     "7d4edcc8434d4d4780b5341523e44881": {
      "model_module": "@jupyter-widgets/controls",
      "model_module_version": "2.0.0",
      "model_name": "FloatProgressModel",
      "state": {
       "bar_style": "danger",
       "layout": "IPY_MODEL_85985fcba5a147f6ac5a8867015876f0",
       "max": 640,
       "style": "IPY_MODEL_d54e202da16943098d901f8d462054b5"
      }
     },
     "7d933fb0874c4cc492909c475b6b7667": {
      "model_module": "@jupyter-widgets/base",
      "model_module_version": "2.0.0",
      "model_name": "LayoutModel",
      "state": {}
     },
     "7dbbf62313454c9d997d0f81e7ca7987": {
      "model_module": "@jupyter-widgets/controls",
      "model_module_version": "2.0.0",
      "model_name": "HTMLStyleModel",
      "state": {
       "description_width": "",
       "font_size": null,
       "text_color": null
      }
     },
     "7e040500b37a4d3383c2e77e59b30bb8": {
      "model_module": "@jupyter-widgets/controls",
      "model_module_version": "2.0.0",
      "model_name": "ProgressStyleModel",
      "state": {
       "description_width": ""
      }
     },
     "7e24c4311c3841c28a9457de0a24abb8": {
      "model_module": "@jupyter-widgets/controls",
      "model_module_version": "2.0.0",
      "model_name": "HTMLModel",
      "state": {
       "layout": "IPY_MODEL_4bf751773c9c484d896ce7ceaa9050db",
       "style": "IPY_MODEL_1516b6d8f3834824b843b0005d29048f",
       "value": "  0%"
      }
     },
     "7e3fc875aeaf42df89c4db956dbd318f": {
      "model_module": "@jupyter-widgets/controls",
      "model_module_version": "2.0.0",
      "model_name": "HTMLModel",
      "state": {
       "layout": "IPY_MODEL_d35d47531d0240b495c8af0aacfee9f0",
       "style": "IPY_MODEL_c7f20b7932b34bfe9106d5bafd184b90",
       "value": " 118/118 [00:22&lt;00:00,  4.12it/s]"
      }
     },
     "7e57c1c421b8425297693b87b61fff43": {
      "model_module": "@jupyter-widgets/controls",
      "model_module_version": "2.0.0",
      "model_name": "ProgressStyleModel",
      "state": {
       "description_width": ""
      }
     },
     "7e6eddce4ff2493d9d28512a850d9dab": {
      "model_module": "@jupyter-widgets/base",
      "model_module_version": "2.0.0",
      "model_name": "LayoutModel",
      "state": {}
     },
     "7f1d6f4de9094d2d8ce6ed9976371e61": {
      "model_module": "@jupyter-widgets/base",
      "model_module_version": "2.0.0",
      "model_name": "LayoutModel",
      "state": {}
     },
     "7f3c49eb59de45f5992ab4e106bf0c91": {
      "model_module": "@jupyter-widgets/base",
      "model_module_version": "2.0.0",
      "model_name": "LayoutModel",
      "state": {}
     },
     "7f5ac11c7d7f4dbfa4fcd2c568b4a578": {
      "model_module": "@jupyter-widgets/base",
      "model_module_version": "2.0.0",
      "model_name": "LayoutModel",
      "state": {}
     },
     "7f7d7716302c4ac4b44eb49099070af9": {
      "model_module": "@jupyter-widgets/base",
      "model_module_version": "2.0.0",
      "model_name": "LayoutModel",
      "state": {}
     },
     "7f858b64004648e0a7441242fef9d81f": {
      "model_module": "@jupyter-widgets/controls",
      "model_module_version": "2.0.0",
      "model_name": "HTMLStyleModel",
      "state": {
       "description_width": "",
       "font_size": null,
       "text_color": null
      }
     },
     "7f90215842004d05af7e7a19abe583ec": {
      "model_module": "@jupyter-widgets/controls",
      "model_module_version": "2.0.0",
      "model_name": "HTMLModel",
      "state": {
       "layout": "IPY_MODEL_b4b42cdbf6c14910aae55cf60f0099b9",
       "style": "IPY_MODEL_165098a1cd3b4605bf631ff0f2ffa428",
       "value": "  0%"
      }
     },
     "7f9b680424a841b0903bd3be2ba3e541": {
      "model_module": "@jupyter-widgets/controls",
      "model_module_version": "2.0.0",
      "model_name": "HTMLModel",
      "state": {
       "layout": "IPY_MODEL_713ece5401284c1c8bdcf27626ecf1c5",
       "style": "IPY_MODEL_e9d3e06b83164f6188637c83a508a69f",
       "value": " 118/118 [00:25&lt;00:00,  3.43it/s]"
      }
     },
     "7f9f86222c054ed29bcd07f902104a29": {
      "model_module": "@jupyter-widgets/base",
      "model_module_version": "2.0.0",
      "model_name": "LayoutModel",
      "state": {}
     },
     "7fb9be0c20304924b562d4fa6cb2eab0": {
      "model_module": "@jupyter-widgets/controls",
      "model_module_version": "2.0.0",
      "model_name": "HTMLStyleModel",
      "state": {
       "description_width": "",
       "font_size": null,
       "text_color": null
      }
     },
     "8035add3815a49d285d8a06ceeb25706": {
      "model_module": "@jupyter-widgets/controls",
      "model_module_version": "2.0.0",
      "model_name": "HTMLStyleModel",
      "state": {
       "description_width": "",
       "font_size": null,
       "text_color": null
      }
     },
     "804710e9220d49ef9421d8b3fc49eaea": {
      "model_module": "@jupyter-widgets/controls",
      "model_module_version": "2.0.0",
      "model_name": "ProgressStyleModel",
      "state": {
       "description_width": ""
      }
     },
     "80933b951f7a477591e5e1567c51a619": {
      "model_module": "@jupyter-widgets/controls",
      "model_module_version": "2.0.0",
      "model_name": "ProgressStyleModel",
      "state": {
       "description_width": ""
      }
     },
     "80ee5bf0a0b54b3f9d9e92c9ae236704": {
      "model_module": "@jupyter-widgets/controls",
      "model_module_version": "2.0.0",
      "model_name": "HTMLStyleModel",
      "state": {
       "description_width": "",
       "font_size": null,
       "text_color": null
      }
     },
     "812855adc3864021bf5ebcdcb526f42b": {
      "model_module": "@jupyter-widgets/base",
      "model_module_version": "2.0.0",
      "model_name": "LayoutModel",
      "state": {}
     },
     "81418c07ab5a4a6faf60faa9105c54e4": {
      "model_module": "@jupyter-widgets/controls",
      "model_module_version": "2.0.0",
      "model_name": "FloatProgressModel",
      "state": {
       "bar_style": "success",
       "layout": "IPY_MODEL_2508be9a65c049ec98083954b0d54e49",
       "max": 118,
       "style": "IPY_MODEL_63c269f599c540f197a0b69b1907ba6d",
       "value": 118
      }
     },
     "8142d1b4fc2d4c899f286a4a5559a4f5": {
      "model_module": "@jupyter-widgets/controls",
      "model_module_version": "2.0.0",
      "model_name": "HTMLModel",
      "state": {
       "layout": "IPY_MODEL_cb0decf7db414e8a98e42a95ea78a8d5",
       "style": "IPY_MODEL_a9420c2df4a34366a8b8ba790f8047b1",
       "value": "  0%"
      }
     },
     "81580a4f4789422181c55f7036e4b58f": {
      "model_module": "@jupyter-widgets/controls",
      "model_module_version": "2.0.0",
      "model_name": "HTMLModel",
      "state": {
       "layout": "IPY_MODEL_5abbbc77f6b84d57ba0731204012c69a",
       "style": "IPY_MODEL_2a9a1a85640a473da149af15043302c6",
       "value": " 0/654 [00:00&lt;?, ?it/s]"
      }
     },
     "816aca0ab2bd459684f109db98f34f60": {
      "model_module": "@jupyter-widgets/base",
      "model_module_version": "2.0.0",
      "model_name": "LayoutModel",
      "state": {}
     },
     "818434bc7cfa483496c440f59d584895": {
      "model_module": "@jupyter-widgets/controls",
      "model_module_version": "2.0.0",
      "model_name": "HTMLModel",
      "state": {
       "layout": "IPY_MODEL_a308a25f9f5b4247b9c7495f257fa3da",
       "style": "IPY_MODEL_4d21c073e67e4cbcbfd4f05be54a50c1",
       "value": " 0/1036 [00:00&lt;?, ?it/s]"
      }
     },
     "81b97b93dbe142bcb20eef142bf5d635": {
      "model_module": "@jupyter-widgets/controls",
      "model_module_version": "2.0.0",
      "model_name": "HTMLModel",
      "state": {
       "layout": "IPY_MODEL_19207ab66d3f48689971a9e331e881b7",
       "style": "IPY_MODEL_22b03094afa8478aa1ff9a6a702a41d1",
       "value": "  0%"
      }
     },
     "81ddd1d0c0944ea0a7e32e3f881b3988": {
      "model_module": "@jupyter-widgets/base",
      "model_module_version": "2.0.0",
      "model_name": "LayoutModel",
      "state": {}
     },
     "81f03edd1fdf4509bf1120f77b23b0b2": {
      "model_module": "@jupyter-widgets/base",
      "model_module_version": "2.0.0",
      "model_name": "LayoutModel",
      "state": {}
     },
     "820b8b668c99476fa80cb8f1360ac734": {
      "model_module": "@jupyter-widgets/base",
      "model_module_version": "2.0.0",
      "model_name": "LayoutModel",
      "state": {}
     },
     "820c83c5b35d4e4aa9233ab57737b778": {
      "model_module": "@jupyter-widgets/controls",
      "model_module_version": "2.0.0",
      "model_name": "HTMLModel",
      "state": {
       "layout": "IPY_MODEL_4a9a81cd638742f1967f103dd83d63cf",
       "style": "IPY_MODEL_3bc683a2b4dd49018e67725e92a2da09",
       "value": "  0%"
      }
     },
     "823855a66c7e4907b44ff04809b9a3bd": {
      "model_module": "@jupyter-widgets/controls",
      "model_module_version": "2.0.0",
      "model_name": "FloatProgressModel",
      "state": {
       "bar_style": "danger",
       "layout": "IPY_MODEL_e90e29a370a0432fb413e7373209cf97",
       "max": 793,
       "style": "IPY_MODEL_708b4a3767d441859e8bf8a574c59aea"
      }
     },
     "8247213bf7074270b61fd753a318c9ee": {
      "model_module": "@jupyter-widgets/controls",
      "model_module_version": "2.0.0",
      "model_name": "FloatProgressModel",
      "state": {
       "bar_style": "danger",
       "layout": "IPY_MODEL_9fdbbbdd8c5a4ec68222e6592e49085d",
       "max": 709,
       "style": "IPY_MODEL_382224da530042f09ac0123e9ffe6b43"
      }
     },
     "826bec853b5640ca8eab735c18c1775c": {
      "model_module": "@jupyter-widgets/controls",
      "model_module_version": "2.0.0",
      "model_name": "HTMLModel",
      "state": {
       "layout": "IPY_MODEL_99b19ee1639a4f99a60b34c76885864f",
       "style": "IPY_MODEL_2d6b534d67b246e18f71dc77a52b088f",
       "value": " 0/631 [00:00&lt;?, ?it/s]"
      }
     },
     "8322aece9bd44355b12fb4864f53c304": {
      "model_module": "@jupyter-widgets/controls",
      "model_module_version": "2.0.0",
      "model_name": "FloatProgressModel",
      "state": {
       "bar_style": "danger",
       "layout": "IPY_MODEL_e303bab263a04e3bb93e421b81ba1acc",
       "max": 646,
       "style": "IPY_MODEL_6b556d578b05440d96d8b74f1297b638"
      }
     },
     "83465d1c0b484f2cae346f9017703671": {
      "model_module": "@jupyter-widgets/controls",
      "model_module_version": "2.0.0",
      "model_name": "HTMLStyleModel",
      "state": {
       "description_width": "",
       "font_size": null,
       "text_color": null
      }
     },
     "8388304b260c47dc870497cdf3d87a49": {
      "model_module": "@jupyter-widgets/controls",
      "model_module_version": "2.0.0",
      "model_name": "ProgressStyleModel",
      "state": {
       "description_width": ""
      }
     },
     "83a315f2d5e34f7f9957cbd1065e3713": {
      "model_module": "@jupyter-widgets/controls",
      "model_module_version": "2.0.0",
      "model_name": "HTMLModel",
      "state": {
       "layout": "IPY_MODEL_d96bbd12aa424c8f88fcd162888994ea",
       "style": "IPY_MODEL_abbbc9b647e64cff82472c63554e79bd",
       "value": "  0%"
      }
     },
     "83ceecdbf5b648f1a530f46149790c9b": {
      "model_module": "@jupyter-widgets/controls",
      "model_module_version": "2.0.0",
      "model_name": "HBoxModel",
      "state": {
       "children": [
        "IPY_MODEL_2b46746b9fb44294a242d7fc3e77a33f",
        "IPY_MODEL_24d322e1a98544a3a80eb8e0601ff3a5",
        "IPY_MODEL_7530beb768ea44caa548f2414a9913fd"
       ],
       "layout": "IPY_MODEL_cebdd4ed54224432a0be598229247c93"
      }
     },
     "83e21245769d4027945d52bd92688e1a": {
      "model_module": "@jupyter-widgets/controls",
      "model_module_version": "2.0.0",
      "model_name": "ProgressStyleModel",
      "state": {
       "description_width": ""
      }
     },
     "83e7045b2cf947ae81cfa3bb0139bf07": {
      "model_module": "@jupyter-widgets/controls",
      "model_module_version": "2.0.0",
      "model_name": "HBoxModel",
      "state": {
       "children": [
        "IPY_MODEL_0c9951f296e84ebd809d0c244c2f565a",
        "IPY_MODEL_f5801983c9f747a8a7df0b04812a3344",
        "IPY_MODEL_3004b50a8d9444c68b5f532adc6b4bb7"
       ],
       "layout": "IPY_MODEL_eac38c05b33245fa9291166ac129640a"
      }
     },
     "841619a62a314302884b2a8ee642e546": {
      "model_module": "@jupyter-widgets/controls",
      "model_module_version": "2.0.0",
      "model_name": "FloatProgressModel",
      "state": {
       "bar_style": "success",
       "layout": "IPY_MODEL_313453bf461b4c7da1bf478ccc9f2a56",
       "max": 480,
       "style": "IPY_MODEL_89e0024d4a884b95948f69cd0c582f2b",
       "value": 480
      }
     },
     "8418e9f2136a4096b4d89d0ed1e21c5b": {
      "model_module": "@jupyter-widgets/controls",
      "model_module_version": "2.0.0",
      "model_name": "FloatProgressModel",
      "state": {
       "bar_style": "danger",
       "layout": "IPY_MODEL_d48c4ad65c094f4387e6234f264deebe",
       "max": 653,
       "style": "IPY_MODEL_fcaf2482f6e243c79ce1bd0aa5a42f2b"
      }
     },
     "84232451800944dd931a9cc1a3f7c76a": {
      "model_module": "@jupyter-widgets/controls",
      "model_module_version": "2.0.0",
      "model_name": "HBoxModel",
      "state": {
       "children": [
        "IPY_MODEL_b3499b45d23d41f38538326b5a6e7336",
        "IPY_MODEL_9ccf98c2c9384e6f8fb8ff24cf28e67b",
        "IPY_MODEL_cd71bb613b9d400f90555220660c581a"
       ],
       "layout": "IPY_MODEL_90e51b0b688b45718916186633a14697"
      }
     },
     "842404aaf77046fb95be4886c3c6b204": {
      "model_module": "@jupyter-widgets/controls",
      "model_module_version": "2.0.0",
      "model_name": "HBoxModel",
      "state": {
       "children": [
        "IPY_MODEL_4eb1d0ba906b425b89d90fd5167a08e7",
        "IPY_MODEL_8e640d83a76e4f4da2c15bada3818ae4",
        "IPY_MODEL_1494901bd38b4447aaa6c069756e28f8"
       ],
       "layout": "IPY_MODEL_d15380339f40436fbd34ff783825a268"
      }
     },
     "846748a211f146048db69fda84e22456": {
      "model_module": "@jupyter-widgets/controls",
      "model_module_version": "2.0.0",
      "model_name": "HTMLModel",
      "state": {
       "layout": "IPY_MODEL_da0e2f9c642440f9995c45b6e0e1b68d",
       "style": "IPY_MODEL_ddbd1ab2605a4a2c901f836a0c581021",
       "value": " 0/720 [00:00&lt;?, ?it/s]"
      }
     },
     "84760d2ada42494b858dfcf6d39b476d": {
      "model_module": "@jupyter-widgets/controls",
      "model_module_version": "2.0.0",
      "model_name": "HBoxModel",
      "state": {
       "children": [
        "IPY_MODEL_02466037d4b642ea9e6aad1e897bc460",
        "IPY_MODEL_ab5da8f557804c4f8106c50da53ddfa6",
        "IPY_MODEL_81580a4f4789422181c55f7036e4b58f"
       ],
       "layout": "IPY_MODEL_05af422d3ec240cf8497ab2e4a28571d"
      }
     },
     "848e3ebe62fa4fba9e7703f8781b0ba8": {
      "model_module": "@jupyter-widgets/controls",
      "model_module_version": "2.0.0",
      "model_name": "ProgressStyleModel",
      "state": {
       "description_width": ""
      }
     },
     "849f94a96be942bbb978cf89766adaf6": {
      "model_module": "@jupyter-widgets/base",
      "model_module_version": "2.0.0",
      "model_name": "LayoutModel",
      "state": {}
     },
     "84c0a4c8181b40ba87fa1ee80d03449f": {
      "model_module": "@jupyter-widgets/base",
      "model_module_version": "2.0.0",
      "model_name": "LayoutModel",
      "state": {}
     },
     "84e688e8987f4bf69d35fc3342b2913a": {
      "model_module": "@jupyter-widgets/base",
      "model_module_version": "2.0.0",
      "model_name": "LayoutModel",
      "state": {}
     },
     "8537f202a2214676baa5d1fbde58aaf6": {
      "model_module": "@jupyter-widgets/controls",
      "model_module_version": "2.0.0",
      "model_name": "HTMLModel",
      "state": {
       "layout": "IPY_MODEL_279e95ecfc134da5abaafad84ffaeade",
       "style": "IPY_MODEL_655a05bbdbe24cd98746b288f3fee7da",
       "value": " 0/582 [00:00&lt;?, ?it/s]"
      }
     },
     "8543a6f2ead545d69cc49317fb506a1c": {
      "model_module": "@jupyter-widgets/controls",
      "model_module_version": "2.0.0",
      "model_name": "ProgressStyleModel",
      "state": {
       "description_width": ""
      }
     },
     "855798414fe64278b0ecea058170ab81": {
      "model_module": "@jupyter-widgets/controls",
      "model_module_version": "2.0.0",
      "model_name": "HTMLModel",
      "state": {
       "layout": "IPY_MODEL_7668c78a31044df881931d406b4ad532",
       "style": "IPY_MODEL_3ede7fde37b34153b64b4fbf57658b40",
       "value": " 468/468 [00:09&lt;00:00, 53.37it/s]"
      }
     },
     "85661f97e6454c7a9497cd06febbbcc6": {
      "model_module": "@jupyter-widgets/base",
      "model_module_version": "2.0.0",
      "model_name": "LayoutModel",
      "state": {}
     },
     "8566beaf619344f4a492ec270637b626": {
      "model_module": "@jupyter-widgets/base",
      "model_module_version": "2.0.0",
      "model_name": "LayoutModel",
      "state": {}
     },
     "8583ee075d904808b8af5d73e3fbfdbd": {
      "model_module": "@jupyter-widgets/controls",
      "model_module_version": "2.0.0",
      "model_name": "HTMLModel",
      "state": {
       "layout": "IPY_MODEL_b1aef31c09724585ad94828f45495f17",
       "style": "IPY_MODEL_37dd455f7fea42d9aa7bff30fa131b1e",
       "value": " 0/859 [00:00&lt;?, ?it/s]"
      }
     },
     "858af77f7f194f298c75b33e3437749e": {
      "model_module": "@jupyter-widgets/base",
      "model_module_version": "2.0.0",
      "model_name": "LayoutModel",
      "state": {}
     },
     "858c21a567d941b280d1eb2600633ed9": {
      "model_module": "@jupyter-widgets/controls",
      "model_module_version": "2.0.0",
      "model_name": "HTMLModel",
      "state": {
       "layout": "IPY_MODEL_6b46ec476dfb4555bd48b93b2a2c87b7",
       "style": "IPY_MODEL_76c73add005d4259b1f9ab15a0539650",
       "value": " 0/632 [00:00&lt;?, ?it/s]"
      }
     },
     "85985fcba5a147f6ac5a8867015876f0": {
      "model_module": "@jupyter-widgets/base",
      "model_module_version": "2.0.0",
      "model_name": "LayoutModel",
      "state": {}
     },
     "85b8216dcd1b4178b56d9ae347782b99": {
      "model_module": "@jupyter-widgets/controls",
      "model_module_version": "2.0.0",
      "model_name": "HBoxModel",
      "state": {
       "children": [
        "IPY_MODEL_2664eaf289494a74bae0750e7b703a08",
        "IPY_MODEL_90334e00600241a8b5038daed7d73e95",
        "IPY_MODEL_b51c75235a97408f8955403eb0bf7b02"
       ],
       "layout": "IPY_MODEL_0cea549aafb7428d9a15cd58db3a4245"
      }
     },
     "85d3ca78a5a1426ab140e6cf0dd9ffd5": {
      "model_module": "@jupyter-widgets/base",
      "model_module_version": "2.0.0",
      "model_name": "LayoutModel",
      "state": {}
     },
     "85d5c41fd07849499efff0a46545ca85": {
      "model_module": "@jupyter-widgets/controls",
      "model_module_version": "2.0.0",
      "model_name": "ProgressStyleModel",
      "state": {
       "description_width": ""
      }
     },
     "865e6262d40c4fc1938209464a06643d": {
      "model_module": "@jupyter-widgets/controls",
      "model_module_version": "2.0.0",
      "model_name": "HBoxModel",
      "state": {
       "children": [
        "IPY_MODEL_04dbb5b2936d47c7b3d688c4576a1ffa",
        "IPY_MODEL_898503d61c3f4a8a8df23d8478cb86b1",
        "IPY_MODEL_b823671e4d1846c6b86f5ca4fa7bbe88"
       ],
       "layout": "IPY_MODEL_67b135a7f51047b885a16f1011b8f8c8"
      }
     },
     "86788aff60144ea08a4816986551bc34": {
      "model_module": "@jupyter-widgets/base",
      "model_module_version": "2.0.0",
      "model_name": "LayoutModel",
      "state": {}
     },
     "86e011bb8be64a308d15250e6696fb7f": {
      "model_module": "@jupyter-widgets/controls",
      "model_module_version": "2.0.0",
      "model_name": "FloatProgressModel",
      "state": {
       "bar_style": "danger",
       "layout": "IPY_MODEL_63d208fba13c4ed489b3339e60508158",
       "max": 625,
       "style": "IPY_MODEL_93affe0563c8474b8aa9349a1226eda5"
      }
     },
     "86ede0df84f943d498765df6838cce49": {
      "model_module": "@jupyter-widgets/base",
      "model_module_version": "2.0.0",
      "model_name": "LayoutModel",
      "state": {}
     },
     "8707d62599e14dccaf3cc2e0323f0f5b": {
      "model_module": "@jupyter-widgets/controls",
      "model_module_version": "2.0.0",
      "model_name": "HTMLModel",
      "state": {
       "layout": "IPY_MODEL_f480e7441d3a44f28dbdb86495417ce9",
       "style": "IPY_MODEL_251d2a3c06ec41bf8e7c7a2248c5496b",
       "value": " 118/118 [00:25&lt;00:00,  3.51it/s]"
      }
     },
     "87288e5a0b64409d809f061386b4c244": {
      "model_module": "@jupyter-widgets/controls",
      "model_module_version": "2.0.0",
      "model_name": "FloatProgressModel",
      "state": {
       "bar_style": "danger",
       "layout": "IPY_MODEL_81f03edd1fdf4509bf1120f77b23b0b2",
       "max": 625,
       "style": "IPY_MODEL_a40b41cb1dc74a4c97ffb63678b2f4b5"
      }
     },
     "874d7674b67e432895f48adeda8b5ef6": {
      "model_module": "@jupyter-widgets/base",
      "model_module_version": "2.0.0",
      "model_name": "LayoutModel",
      "state": {}
     },
     "876f175ae292472ab03bef27df73387b": {
      "model_module": "@jupyter-widgets/controls",
      "model_module_version": "2.0.0",
      "model_name": "ProgressStyleModel",
      "state": {
       "description_width": ""
      }
     },
     "8809a02a36134f98a59d954db070db1a": {
      "model_module": "@jupyter-widgets/controls",
      "model_module_version": "2.0.0",
      "model_name": "HTMLModel",
      "state": {
       "layout": "IPY_MODEL_397c2923ad234fcf88f9c4644c9b38f9",
       "style": "IPY_MODEL_04d9eea7d96e4edaa0e514a7988e5750",
       "value": "  0%"
      }
     },
     "8866c4eb07ff4337b675fd356ba8268c": {
      "model_module": "@jupyter-widgets/base",
      "model_module_version": "2.0.0",
      "model_name": "LayoutModel",
      "state": {}
     },
     "88877442bc0c4267b71fb452cadf3ed2": {
      "model_module": "@jupyter-widgets/base",
      "model_module_version": "2.0.0",
      "model_name": "LayoutModel",
      "state": {}
     },
     "88de78c788514d59994d620e36359ce1": {
      "model_module": "@jupyter-widgets/base",
      "model_module_version": "2.0.0",
      "model_name": "LayoutModel",
      "state": {}
     },
     "892378b456c349daa06ce702064620bd": {
      "model_module": "@jupyter-widgets/controls",
      "model_module_version": "2.0.0",
      "model_name": "HBoxModel",
      "state": {
       "children": [
        "IPY_MODEL_2e84e7b3df9e4e9ca8eab73adec6782c",
        "IPY_MODEL_8247213bf7074270b61fd753a318c9ee",
        "IPY_MODEL_05cc113df61b48049a57fde52130d56c"
       ],
       "layout": "IPY_MODEL_b07fa1682d534ef78698590eb1e8e5b7"
      }
     },
     "896a935ef0df4527a8b386c63d407889": {
      "model_module": "@jupyter-widgets/controls",
      "model_module_version": "2.0.0",
      "model_name": "HBoxModel",
      "state": {
       "children": [
        "IPY_MODEL_2c1483bac58b4a919ae463671899715b",
        "IPY_MODEL_8dd4153b0be648ea8ca734761cf6c8c2",
        "IPY_MODEL_a2cf39c9ab5d42c7865e755e15e80960"
       ],
       "layout": "IPY_MODEL_4330d33d865141fca5c73c92b80dec69"
      }
     },
     "898503d61c3f4a8a8df23d8478cb86b1": {
      "model_module": "@jupyter-widgets/controls",
      "model_module_version": "2.0.0",
      "model_name": "FloatProgressModel",
      "state": {
       "bar_style": "danger",
       "layout": "IPY_MODEL_502d24db41fd4c77bcd71b44ad50d056",
       "max": 465,
       "style": "IPY_MODEL_f49b40f41940470abdfae71a499bc207"
      }
     },
     "89e0024d4a884b95948f69cd0c582f2b": {
      "model_module": "@jupyter-widgets/controls",
      "model_module_version": "2.0.0",
      "model_name": "ProgressStyleModel",
      "state": {
       "description_width": ""
      }
     },
     "89f9e7dd020c461b886d2b7b4cffce47": {
      "model_module": "@jupyter-widgets/controls",
      "model_module_version": "2.0.0",
      "model_name": "HTMLModel",
      "state": {
       "layout": "IPY_MODEL_9a8699920d1f4ca7a8f00ca4d708070e",
       "style": "IPY_MODEL_769ea342ecf24a12b431063c6f668a2c",
       "value": "  0%"
      }
     },
     "8a6a721bcdd84e928a7374326602016a": {
      "model_module": "@jupyter-widgets/controls",
      "model_module_version": "2.0.0",
      "model_name": "ProgressStyleModel",
      "state": {
       "description_width": ""
      }
     },
     "8a8767a41a1b456cb93184d74a0341c3": {
      "model_module": "@jupyter-widgets/controls",
      "model_module_version": "2.0.0",
      "model_name": "FloatProgressModel",
      "state": {
       "bar_style": "danger",
       "layout": "IPY_MODEL_0132875a553049c4b3be804fe79c2661",
       "max": 631,
       "style": "IPY_MODEL_400c1409d4814b8e853ac5a27120b3df"
      }
     },
     "8b5266216ac94945864ef511c3dbb730": {
      "model_module": "@jupyter-widgets/controls",
      "model_module_version": "2.0.0",
      "model_name": "HTMLStyleModel",
      "state": {
       "description_width": "",
       "font_size": null,
       "text_color": null
      }
     },
     "8b59404b9dea4a9b9dccd55ab2745c21": {
      "model_module": "@jupyter-widgets/controls",
      "model_module_version": "2.0.0",
      "model_name": "HTMLModel",
      "state": {
       "layout": "IPY_MODEL_c35622a6687240efb1ada6be21625703",
       "style": "IPY_MODEL_d18df1bc9646418bb85850b21fb0829f",
       "value": " 0/542 [00:00&lt;?, ?it/s]"
      }
     },
     "8b8337ac53d44159ad834d2ce26c71e9": {
      "model_module": "@jupyter-widgets/controls",
      "model_module_version": "2.0.0",
      "model_name": "ProgressStyleModel",
      "state": {
       "description_width": ""
      }
     },
     "8b85aaf28d8e4d928e43c5e357c0dcf0": {
      "model_module": "@jupyter-widgets/controls",
      "model_module_version": "2.0.0",
      "model_name": "FloatProgressModel",
      "state": {
       "bar_style": "success",
       "layout": "IPY_MODEL_9a80842af8a34dbcb2b1c788333cc08d",
       "max": 472,
       "style": "IPY_MODEL_f026e4b938104624a9b6ebcca9070f07",
       "value": 472
      }
     },
     "8b9391a8a0d44fbcae58fed2d0062e0e": {
      "model_module": "@jupyter-widgets/base",
      "model_module_version": "2.0.0",
      "model_name": "LayoutModel",
      "state": {}
     },
     "8bfd6ecb300e4fceb028ece5e3a948b1": {
      "model_module": "@jupyter-widgets/base",
      "model_module_version": "2.0.0",
      "model_name": "LayoutModel",
      "state": {}
     },
     "8c8d035625464847a485dcd6eb0f3894": {
      "model_module": "@jupyter-widgets/controls",
      "model_module_version": "2.0.0",
      "model_name": "FloatProgressModel",
      "state": {
       "bar_style": "success",
       "layout": "IPY_MODEL_0f3bc6cea00a402f90aeb9d3d682ba2d",
       "max": 118,
       "style": "IPY_MODEL_848e3ebe62fa4fba9e7703f8781b0ba8",
       "value": 118
      }
     },
     "8d3abce16d3d46f69b17f668bf2bc650": {
      "model_module": "@jupyter-widgets/controls",
      "model_module_version": "2.0.0",
      "model_name": "HTMLModel",
      "state": {
       "layout": "IPY_MODEL_b8c35ab27cdb4e6298ab95d987d788c3",
       "style": "IPY_MODEL_e27cfc7df2da45619b999569b2809a71",
       "value": " 0/636 [00:00&lt;?, ?it/s]"
      }
     },
     "8d949953d0a149cb8b43dfb693cb7198": {
      "model_module": "@jupyter-widgets/controls",
      "model_module_version": "2.0.0",
      "model_name": "HTMLStyleModel",
      "state": {
       "description_width": "",
       "font_size": null,
       "text_color": null
      }
     },
     "8dac3a9fea5540bdaafaa89de7f3034a": {
      "model_module": "@jupyter-widgets/controls",
      "model_module_version": "2.0.0",
      "model_name": "FloatProgressModel",
      "state": {
       "bar_style": "success",
       "layout": "IPY_MODEL_7629489717e049a8ae4920f9dee503dc",
       "max": 405,
       "style": "IPY_MODEL_309c00629edf4d4d8736a1fc0d985721",
       "value": 405
      }
     },
     "8dada1deed144d2d979659a889aca643": {
      "model_module": "@jupyter-widgets/controls",
      "model_module_version": "2.0.0",
      "model_name": "HTMLStyleModel",
      "state": {
       "description_width": "",
       "font_size": null,
       "text_color": null
      }
     },
     "8dd4153b0be648ea8ca734761cf6c8c2": {
      "model_module": "@jupyter-widgets/controls",
      "model_module_version": "2.0.0",
      "model_name": "FloatProgressModel",
      "state": {
       "bar_style": "danger",
       "layout": "IPY_MODEL_5e53f2bbf27e44458196aa1a43ffdf22",
       "max": 722,
       "style": "IPY_MODEL_bb8dd9525ef84be0a486e4e68d852a46"
      }
     },
     "8dd9747268364af4bab32285659275ce": {
      "model_module": "@jupyter-widgets/controls",
      "model_module_version": "2.0.0",
      "model_name": "HTMLStyleModel",
      "state": {
       "description_width": "",
       "font_size": null,
       "text_color": null
      }
     },
     "8de3d400c082424c85bde7b61b0ca7a6": {
      "model_module": "@jupyter-widgets/base",
      "model_module_version": "2.0.0",
      "model_name": "LayoutModel",
      "state": {}
     },
     "8e640d83a76e4f4da2c15bada3818ae4": {
      "model_module": "@jupyter-widgets/controls",
      "model_module_version": "2.0.0",
      "model_name": "FloatProgressModel",
      "state": {
       "bar_style": "danger",
       "layout": "IPY_MODEL_5ee5d8fdd7974beaa65c181756a6840e",
       "max": 634,
       "style": "IPY_MODEL_0dbc26ec4af74340b1731bb8a6fb24e8"
      }
     },
     "8e70516b6e54479ea9c1d94ba2f80058": {
      "model_module": "@jupyter-widgets/base",
      "model_module_version": "2.0.0",
      "model_name": "LayoutModel",
      "state": {}
     },
     "8e7243456ce44144b0847d05cecdfa0b": {
      "model_module": "@jupyter-widgets/base",
      "model_module_version": "2.0.0",
      "model_name": "LayoutModel",
      "state": {}
     },
     "8e8d68849b9a4b919e6d094fb62566de": {
      "model_module": "@jupyter-widgets/base",
      "model_module_version": "2.0.0",
      "model_name": "LayoutModel",
      "state": {}
     },
     "8f0b29a387254cd2a75a2d04f35c6ea8": {
      "model_module": "@jupyter-widgets/controls",
      "model_module_version": "2.0.0",
      "model_name": "ProgressStyleModel",
      "state": {
       "description_width": ""
      }
     },
     "8f146894876b4f108a277800605c3d45": {
      "model_module": "@jupyter-widgets/controls",
      "model_module_version": "2.0.0",
      "model_name": "HTMLModel",
      "state": {
       "layout": "IPY_MODEL_3b400c6560de43e6aeba60b02c1094c9",
       "style": "IPY_MODEL_db97dfd5000848eda62ef1b178c7994f",
       "value": " 118/118 [00:23&lt;00:00,  4.05it/s]"
      }
     },
     "8f1a57004ea140ce9a4931dbddecfcd1": {
      "model_module": "@jupyter-widgets/controls",
      "model_module_version": "2.0.0",
      "model_name": "HTMLModel",
      "state": {
       "layout": "IPY_MODEL_307a9ea2fb2c46e8898db38a5fed5d66",
       "style": "IPY_MODEL_302b3a6212fc49d58b773a737d91619f",
       "value": " 118/118 [00:33&lt;00:00,  3.81it/s]"
      }
     },
     "8fa2c7caa1924da699a5ff1f75cf7132": {
      "model_module": "@jupyter-widgets/base",
      "model_module_version": "2.0.0",
      "model_name": "LayoutModel",
      "state": {}
     },
     "90334e00600241a8b5038daed7d73e95": {
      "model_module": "@jupyter-widgets/controls",
      "model_module_version": "2.0.0",
      "model_name": "FloatProgressModel",
      "state": {
       "bar_style": "danger",
       "layout": "IPY_MODEL_70d99257d66f4b70999b860763888d99",
       "max": 541,
       "style": "IPY_MODEL_51f934ccdee0432c969f496c94c5f28a"
      }
     },
     "90553eb8ef754fb68acc6879d10e8199": {
      "model_module": "@jupyter-widgets/controls",
      "model_module_version": "2.0.0",
      "model_name": "HTMLStyleModel",
      "state": {
       "description_width": "",
       "font_size": null,
       "text_color": null
      }
     },
     "9062ff7ef8004a91a83143148f6be4c3": {
      "model_module": "@jupyter-widgets/controls",
      "model_module_version": "2.0.0",
      "model_name": "HBoxModel",
      "state": {
       "children": [
        "IPY_MODEL_316ce8524039402abf6e0a712b950e96",
        "IPY_MODEL_1e47632410b0404b81f467c09d6dd25f",
        "IPY_MODEL_7a130ac93e02486f862a221806fe4de8"
       ],
       "layout": "IPY_MODEL_081dccce26fb4f3ca27d6ed51acef847"
      }
     },
     "90a7a8e4b9b5433194da23336678501b": {
      "model_module": "@jupyter-widgets/base",
      "model_module_version": "2.0.0",
      "model_name": "LayoutModel",
      "state": {}
     },
     "90dd577e71fd4509809772a0cfff4ebb": {
      "model_module": "@jupyter-widgets/controls",
      "model_module_version": "2.0.0",
      "model_name": "ProgressStyleModel",
      "state": {
       "description_width": ""
      }
     },
     "90e51b0b688b45718916186633a14697": {
      "model_module": "@jupyter-widgets/base",
      "model_module_version": "2.0.0",
      "model_name": "LayoutModel",
      "state": {}
     },
     "915f534efa23404dbf001582c76d6549": {
      "model_module": "@jupyter-widgets/controls",
      "model_module_version": "2.0.0",
      "model_name": "HTMLModel",
      "state": {
       "layout": "IPY_MODEL_0e1ac00f04c54c1582da51c7cb626e0d",
       "style": "IPY_MODEL_65acc23802fe4725862f15096692fd67",
       "value": " 118/118 [00:25&lt;00:00,  4.17it/s]"
      }
     },
     "916ea2bb94a5442a802343cdcab8bac8": {
      "model_module": "@jupyter-widgets/base",
      "model_module_version": "2.0.0",
      "model_name": "LayoutModel",
      "state": {}
     },
     "9180ba2379404cb0bd76103c4265791f": {
      "model_module": "@jupyter-widgets/controls",
      "model_module_version": "2.0.0",
      "model_name": "HTMLModel",
      "state": {
       "layout": "IPY_MODEL_051cd41d5e434a5d8ca0e30547eb23d6",
       "style": "IPY_MODEL_f872e29555b24ba8a1f7841c2d85f1f9",
       "value": "  0%"
      }
     },
     "91b9bc7e9b55499ba3a29f560ad1ef78": {
      "model_module": "@jupyter-widgets/base",
      "model_module_version": "2.0.0",
      "model_name": "LayoutModel",
      "state": {}
     },
     "91c67da69257410ab7633ce0ff046fb6": {
      "model_module": "@jupyter-widgets/base",
      "model_module_version": "2.0.0",
      "model_name": "LayoutModel",
      "state": {}
     },
     "91d96e6b31a94f22bb39ee95110b1e8c": {
      "model_module": "@jupyter-widgets/base",
      "model_module_version": "2.0.0",
      "model_name": "LayoutModel",
      "state": {}
     },
     "91fb3f5ab5a64d528bbc6845a7c58e3d": {
      "model_module": "@jupyter-widgets/controls",
      "model_module_version": "2.0.0",
      "model_name": "HTMLModel",
      "state": {
       "layout": "IPY_MODEL_d09985e1e7ef48519090650860893426",
       "style": "IPY_MODEL_4af228f53c2442a996864496060441fd",
       "value": "100%"
      }
     },
     "92093ee3a4964bc0a918889c3b3e28c5": {
      "model_module": "@jupyter-widgets/base",
      "model_module_version": "2.0.0",
      "model_name": "LayoutModel",
      "state": {}
     },
     "921ee516cfb3475daea7fe3abb662310": {
      "model_module": "@jupyter-widgets/controls",
      "model_module_version": "2.0.0",
      "model_name": "ProgressStyleModel",
      "state": {
       "description_width": ""
      }
     },
     "9235b3bfb0a640688ad1e5da94e1602d": {
      "model_module": "@jupyter-widgets/controls",
      "model_module_version": "2.0.0",
      "model_name": "HTMLStyleModel",
      "state": {
       "description_width": "",
       "font_size": null,
       "text_color": null
      }
     },
     "9252cda11c6442ba942bdd9b25c7a9ce": {
      "model_module": "@jupyter-widgets/controls",
      "model_module_version": "2.0.0",
      "model_name": "ProgressStyleModel",
      "state": {
       "description_width": ""
      }
     },
     "92a07338cc3a429ba385470ae7e3ed09": {
      "model_module": "@jupyter-widgets/controls",
      "model_module_version": "2.0.0",
      "model_name": "HTMLStyleModel",
      "state": {
       "description_width": "",
       "font_size": null,
       "text_color": null
      }
     },
     "92b3d00c8f384901ac9f5cb2e56efe30": {
      "model_module": "@jupyter-widgets/base",
      "model_module_version": "2.0.0",
      "model_name": "LayoutModel",
      "state": {}
     },
     "92ee1257d30943b38373db07749c35ce": {
      "model_module": "@jupyter-widgets/controls",
      "model_module_version": "2.0.0",
      "model_name": "HBoxModel",
      "state": {
       "children": [
        "IPY_MODEL_e263c4a93fab40b3a3571da64adbd820",
        "IPY_MODEL_c63f327b903e46efa707d44d25fc5d2c",
        "IPY_MODEL_3a7f5f1ca7cd4074b6ae84fe674ee5a4"
       ],
       "layout": "IPY_MODEL_45284ffa85b645fd93c2d097618cc2d8"
      }
     },
     "92fa5b0d964e45299b3c39e19964de8e": {
      "model_module": "@jupyter-widgets/controls",
      "model_module_version": "2.0.0",
      "model_name": "FloatProgressModel",
      "state": {
       "bar_style": "danger",
       "layout": "IPY_MODEL_1b816d5c54404e55972baeeb920dccd0",
       "max": 582,
       "style": "IPY_MODEL_6473134739a74224b2943657609175d5"
      }
     },
     "92fbe9c69d8d43b2b719b411806fc243": {
      "model_module": "@jupyter-widgets/controls",
      "model_module_version": "2.0.0",
      "model_name": "HTMLStyleModel",
      "state": {
       "description_width": "",
       "font_size": null,
       "text_color": null
      }
     },
     "92fd2558ba3f41a2a5e3fbd8a57a3823": {
      "model_module": "@jupyter-widgets/controls",
      "model_module_version": "2.0.0",
      "model_name": "HTMLStyleModel",
      "state": {
       "description_width": "",
       "font_size": null,
       "text_color": null
      }
     },
     "9306ac7cea8f46a2a37415523fafaf32": {
      "model_module": "@jupyter-widgets/base",
      "model_module_version": "2.0.0",
      "model_name": "LayoutModel",
      "state": {}
     },
     "937365c9a05a4cabb90e4f56bf63ad51": {
      "model_module": "@jupyter-widgets/controls",
      "model_module_version": "2.0.0",
      "model_name": "HBoxModel",
      "state": {
       "children": [
        "IPY_MODEL_820c83c5b35d4e4aa9233ab57737b778",
        "IPY_MODEL_5d2752f8fae64f2cbdc31578bc13ad76",
        "IPY_MODEL_023724ae4ade4d1a9ca9ceefc20fb527"
       ],
       "layout": "IPY_MODEL_e1f1bca1eda74d35bd27f1b0dc7c366f"
      }
     },
     "9379345f13a043cbb4e3867daa38d576": {
      "model_module": "@jupyter-widgets/base",
      "model_module_version": "2.0.0",
      "model_name": "LayoutModel",
      "state": {}
     },
     "938af0cca95146c8ae2158cb02d35db4": {
      "model_module": "@jupyter-widgets/controls",
      "model_module_version": "2.0.0",
      "model_name": "HTMLStyleModel",
      "state": {
       "description_width": "",
       "font_size": null,
       "text_color": null
      }
     },
     "93a3bfb21e2248ff90b0897827297db9": {
      "model_module": "@jupyter-widgets/base",
      "model_module_version": "2.0.0",
      "model_name": "LayoutModel",
      "state": {}
     },
     "93affe0563c8474b8aa9349a1226eda5": {
      "model_module": "@jupyter-widgets/controls",
      "model_module_version": "2.0.0",
      "model_name": "ProgressStyleModel",
      "state": {
       "description_width": ""
      }
     },
     "941f2086a7364cb388d2908b64880229": {
      "model_module": "@jupyter-widgets/base",
      "model_module_version": "2.0.0",
      "model_name": "LayoutModel",
      "state": {}
     },
     "9427f41ad258442a8aafbc8bb2053a32": {
      "model_module": "@jupyter-widgets/controls",
      "model_module_version": "2.0.0",
      "model_name": "HTMLModel",
      "state": {
       "layout": "IPY_MODEL_4eac8324e4484a19ace768dfe1a8dd0c",
       "style": "IPY_MODEL_6d7d881f9884463bb295160a8075c0e7",
       "value": " 0/587 [00:00&lt;?, ?it/s]"
      }
     },
     "9430eaadddb2412a93675407dd1fe6f1": {
      "model_module": "@jupyter-widgets/base",
      "model_module_version": "2.0.0",
      "model_name": "LayoutModel",
      "state": {}
     },
     "945eb5fdb1084025b5c7e356b6bfe9f8": {
      "model_module": "@jupyter-widgets/base",
      "model_module_version": "2.0.0",
      "model_name": "LayoutModel",
      "state": {}
     },
     "948a4a4ffe7e4956bfe8ccaf769011fd": {
      "model_module": "@jupyter-widgets/controls",
      "model_module_version": "2.0.0",
      "model_name": "HTMLStyleModel",
      "state": {
       "description_width": "",
       "font_size": null,
       "text_color": null
      }
     },
     "9493a3c03c1b4dc59355d44741167590": {
      "model_module": "@jupyter-widgets/base",
      "model_module_version": "2.0.0",
      "model_name": "LayoutModel",
      "state": {}
     },
     "94bfdd1fd4ee4d0da32402b15040f53f": {
      "model_module": "@jupyter-widgets/base",
      "model_module_version": "2.0.0",
      "model_name": "LayoutModel",
      "state": {}
     },
     "94cc407455264af7a1240573eae25ae3": {
      "model_module": "@jupyter-widgets/base",
      "model_module_version": "2.0.0",
      "model_name": "LayoutModel",
      "state": {}
     },
     "952e9336b3ad488c94dd2a0b6500cd7d": {
      "model_module": "@jupyter-widgets/controls",
      "model_module_version": "2.0.0",
      "model_name": "HTMLModel",
      "state": {
       "layout": "IPY_MODEL_143c81e97b9b465c97de430de5de9fa3",
       "style": "IPY_MODEL_068e0ab51527453db4ae776560492a0f",
       "value": " 0/588 [00:00&lt;?, ?it/s]"
      }
     },
     "9581d07ad0b0492a967df81fbf9d7521": {
      "model_module": "@jupyter-widgets/base",
      "model_module_version": "2.0.0",
      "model_name": "LayoutModel",
      "state": {}
     },
     "95ce848e776c42aab6e2e69d88817044": {
      "model_module": "@jupyter-widgets/controls",
      "model_module_version": "2.0.0",
      "model_name": "FloatProgressModel",
      "state": {
       "bar_style": "danger",
       "layout": "IPY_MODEL_4e2ec520a5974a0786fbce63f264c479",
       "max": 582,
       "style": "IPY_MODEL_4f927899166e44ef8670d63fc5927ea7"
      }
     },
     "968a12675dab421681b9189c58cf1c0a": {
      "model_module": "@jupyter-widgets/controls",
      "model_module_version": "2.0.0",
      "model_name": "HTMLStyleModel",
      "state": {
       "description_width": "",
       "font_size": null,
       "text_color": null
      }
     },
     "969f642b15c442cd8833efced8d7a7a3": {
      "model_module": "@jupyter-widgets/controls",
      "model_module_version": "2.0.0",
      "model_name": "HTMLStyleModel",
      "state": {
       "description_width": "",
       "font_size": null,
       "text_color": null
      }
     },
     "9747364e545f48f1b7a36a9de201eaa7": {
      "model_module": "@jupyter-widgets/controls",
      "model_module_version": "2.0.0",
      "model_name": "HTMLStyleModel",
      "state": {
       "description_width": "",
       "font_size": null,
       "text_color": null
      }
     },
     "97a25eb27ff74a93ad2a9175b6ebca3b": {
      "model_module": "@jupyter-widgets/base",
      "model_module_version": "2.0.0",
      "model_name": "LayoutModel",
      "state": {}
     },
     "97ed167371674bac92f1ad78606c6b43": {
      "model_module": "@jupyter-widgets/controls",
      "model_module_version": "2.0.0",
      "model_name": "HTMLStyleModel",
      "state": {
       "description_width": "",
       "font_size": null,
       "text_color": null
      }
     },
     "9806fbb1da6f48c0b01a637d140c07bd": {
      "model_module": "@jupyter-widgets/controls",
      "model_module_version": "2.0.0",
      "model_name": "HTMLModel",
      "state": {
       "layout": "IPY_MODEL_70ec18db72d74134bf09a6157fc83ada",
       "style": "IPY_MODEL_66dbf890b9714510bb8254c95f4de287",
       "value": " 0/471 [00:00&lt;?, ?it/s]"
      }
     },
     "98251ac11de745e18686215249aaaca8": {
      "model_module": "@jupyter-widgets/controls",
      "model_module_version": "2.0.0",
      "model_name": "FloatProgressModel",
      "state": {
       "bar_style": "danger",
       "layout": "IPY_MODEL_7d1536c4e4954f41ad72f40c90285b2a",
       "max": 582,
       "style": "IPY_MODEL_717bb9617cbb46bdb0af95e0fc7a50b6"
      }
     },
     "98bf6227634c4ac19848e9a9bed1874f": {
      "model_module": "@jupyter-widgets/controls",
      "model_module_version": "2.0.0",
      "model_name": "HTMLModel",
      "state": {
       "layout": "IPY_MODEL_21c3f75cffe94b94b4fcfe3b89824f85",
       "style": "IPY_MODEL_d253edd4907d48dfb5911f5a1cd00f20",
       "value": "  0%"
      }
     },
     "99298f7101c24b73b8aec0e2ceda5703": {
      "model_module": "@jupyter-widgets/base",
      "model_module_version": "2.0.0",
      "model_name": "LayoutModel",
      "state": {}
     },
     "9955189b039f455c98dc5e5f48f2783f": {
      "model_module": "@jupyter-widgets/controls",
      "model_module_version": "2.0.0",
      "model_name": "FloatProgressModel",
      "state": {
       "bar_style": "danger",
       "layout": "IPY_MODEL_00935f02e0b5480b8de411a5ecbeb1c2",
       "max": 634,
       "style": "IPY_MODEL_09c51502aaf345a7a5333ba6b54c04d5"
      }
     },
     "996ae3368931411c85f1e64c30c230e2": {
      "model_module": "@jupyter-widgets/controls",
      "model_module_version": "2.0.0",
      "model_name": "HTMLModel",
      "state": {
       "layout": "IPY_MODEL_c66e490602624ea4bcd56b2254719d48",
       "style": "IPY_MODEL_bd53b85748b042d39e76550bd1f88de7",
       "value": " 0/582 [00:00&lt;?, ?it/s]"
      }
     },
     "99b19ee1639a4f99a60b34c76885864f": {
      "model_module": "@jupyter-widgets/base",
      "model_module_version": "2.0.0",
      "model_name": "LayoutModel",
      "state": {}
     },
     "9a80842af8a34dbcb2b1c788333cc08d": {
      "model_module": "@jupyter-widgets/base",
      "model_module_version": "2.0.0",
      "model_name": "LayoutModel",
      "state": {}
     },
     "9a8699920d1f4ca7a8f00ca4d708070e": {
      "model_module": "@jupyter-widgets/base",
      "model_module_version": "2.0.0",
      "model_name": "LayoutModel",
      "state": {}
     },
     "9a9a3511c9104696a16e90c30ab64f68": {
      "model_module": "@jupyter-widgets/controls",
      "model_module_version": "2.0.0",
      "model_name": "HTMLStyleModel",
      "state": {
       "description_width": "",
       "font_size": null,
       "text_color": null
      }
     },
     "9aac4647885c45dc9c8bd9330ba72b07": {
      "model_module": "@jupyter-widgets/base",
      "model_module_version": "2.0.0",
      "model_name": "LayoutModel",
      "state": {}
     },
     "9b946a9884814fedbb8aac51edcb75a6": {
      "model_module": "@jupyter-widgets/base",
      "model_module_version": "2.0.0",
      "model_name": "LayoutModel",
      "state": {}
     },
     "9b9ebbeee7ed46b9b14309a94a088962": {
      "model_module": "@jupyter-widgets/controls",
      "model_module_version": "2.0.0",
      "model_name": "HTMLStyleModel",
      "state": {
       "description_width": "",
       "font_size": null,
       "text_color": null
      }
     },
     "9c124d8f1b7b42bd962d9b511fda0e00": {
      "model_module": "@jupyter-widgets/controls",
      "model_module_version": "2.0.0",
      "model_name": "FloatProgressModel",
      "state": {
       "bar_style": "success",
       "layout": "IPY_MODEL_6d83a7e99f01468f91fbfd1ef9eaadee",
       "max": 118,
       "style": "IPY_MODEL_fc0e99e28c1846c4b8ef34fc2afd83ae",
       "value": 118
      }
     },
     "9c66fe0254bb429ea45bbea7ac4be80f": {
      "model_module": "@jupyter-widgets/controls",
      "model_module_version": "2.0.0",
      "model_name": "HTMLStyleModel",
      "state": {
       "description_width": "",
       "font_size": null,
       "text_color": null
      }
     },
     "9ccf98c2c9384e6f8fb8ff24cf28e67b": {
      "model_module": "@jupyter-widgets/controls",
      "model_module_version": "2.0.0",
      "model_name": "FloatProgressModel",
      "state": {
       "bar_style": "success",
       "layout": "IPY_MODEL_3fc3f004dbcd47c1b8906dfd2b11addc",
       "max": 491,
       "style": "IPY_MODEL_46e5170f23854dcca4399b6f90dbd4ad",
       "value": 491
      }
     },
     "9cece0b309864ddb83616ae5447e1971": {
      "model_module": "@jupyter-widgets/controls",
      "model_module_version": "2.0.0",
      "model_name": "HBoxModel",
      "state": {
       "children": [
        "IPY_MODEL_06f5d35a5af7449ca6df374aa98504a1",
        "IPY_MODEL_a93fe355397f438c9be770df850d9e4a",
        "IPY_MODEL_bcd8555e25764ae29d929240bae98fed"
       ],
       "layout": "IPY_MODEL_a939c4130b7b43e7b9c6fa412c1a107b"
      }
     },
     "9cf6a969cb5e4786be91b52b8ad61e28": {
      "model_module": "@jupyter-widgets/controls",
      "model_module_version": "2.0.0",
      "model_name": "FloatProgressModel",
      "state": {
       "bar_style": "success",
       "layout": "IPY_MODEL_51baae61bd34460a95065cf97dbc2f91",
       "max": 507,
       "style": "IPY_MODEL_2031d3271d134af2b52f930f13b9de4e",
       "value": 507
      }
     },
     "9cf99aa57c9144729661e4ed75a49034": {
      "model_module": "@jupyter-widgets/controls",
      "model_module_version": "2.0.0",
      "model_name": "HBoxModel",
      "state": {
       "children": [
        "IPY_MODEL_7432847af89b48f2b694ff70e4349971",
        "IPY_MODEL_a7603eca03654f2b8b53dd7e6754fc14",
        "IPY_MODEL_b6a5d887ca074c6e907fd0b8494c888d"
       ],
       "layout": "IPY_MODEL_636cc5f1bc484fe083f838871c207a15"
      }
     },
     "9d54d9e7e7ee4340944c13eeee7cf66c": {
      "model_module": "@jupyter-widgets/controls",
      "model_module_version": "2.0.0",
      "model_name": "ProgressStyleModel",
      "state": {
       "description_width": ""
      }
     },
     "9dbea9f0008d40e9b431076fd938bede": {
      "model_module": "@jupyter-widgets/base",
      "model_module_version": "2.0.0",
      "model_name": "LayoutModel",
      "state": {}
     },
     "9de93dfa0fa44c0a8e200667d58387df": {
      "model_module": "@jupyter-widgets/base",
      "model_module_version": "2.0.0",
      "model_name": "LayoutModel",
      "state": {}
     },
     "9de94f893139480a99471c2ef8e9f200": {
      "model_module": "@jupyter-widgets/controls",
      "model_module_version": "2.0.0",
      "model_name": "ProgressStyleModel",
      "state": {
       "description_width": ""
      }
     },
     "9dfcebd186b54e738212ab493cbdc220": {
      "model_module": "@jupyter-widgets/base",
      "model_module_version": "2.0.0",
      "model_name": "LayoutModel",
      "state": {}
     },
     "9e1624f09df54e1088fbea1196661e81": {
      "model_module": "@jupyter-widgets/controls",
      "model_module_version": "2.0.0",
      "model_name": "HBoxModel",
      "state": {
       "children": [
        "IPY_MODEL_c0d608b59df14c6d8d4b184f084931b4",
        "IPY_MODEL_75b0c15f4dce4bc58ddc2676908b70c0",
        "IPY_MODEL_30048f1da8f4404e9178c1a355799cd2"
       ],
       "layout": "IPY_MODEL_a68b396246894d8d8113dd0123c18ec9"
      }
     },
     "9e1c8bdddb9a4fac9012a8ce5437da4e": {
      "model_module": "@jupyter-widgets/controls",
      "model_module_version": "2.0.0",
      "model_name": "ProgressStyleModel",
      "state": {
       "description_width": ""
      }
     },
     "9e350f12c5ff4562801eeef023cd9184": {
      "model_module": "@jupyter-widgets/base",
      "model_module_version": "2.0.0",
      "model_name": "LayoutModel",
      "state": {}
     },
     "9e753f1d13e247f6a63fd2143ab41f27": {
      "model_module": "@jupyter-widgets/controls",
      "model_module_version": "2.0.0",
      "model_name": "FloatProgressModel",
      "state": {
       "bar_style": "danger",
       "layout": "IPY_MODEL_e119f38f0e7a4438aca559d6a9cbd8d3",
       "max": 700,
       "style": "IPY_MODEL_804710e9220d49ef9421d8b3fc49eaea"
      }
     },
     "9eaec30410fa43eba65de0dd97edc36c": {
      "model_module": "@jupyter-widgets/base",
      "model_module_version": "2.0.0",
      "model_name": "LayoutModel",
      "state": {}
     },
     "9eaec57a72544438be4b7c75d0d7b82d": {
      "model_module": "@jupyter-widgets/controls",
      "model_module_version": "2.0.0",
      "model_name": "HTMLStyleModel",
      "state": {
       "description_width": "",
       "font_size": null,
       "text_color": null
      }
     },
     "9eda09cd6a4240049002e52616883e8f": {
      "model_module": "@jupyter-widgets/base",
      "model_module_version": "2.0.0",
      "model_name": "LayoutModel",
      "state": {}
     },
     "9ef0b8bb280a40a1a3fb672a1351acb7": {
      "model_module": "@jupyter-widgets/base",
      "model_module_version": "2.0.0",
      "model_name": "LayoutModel",
      "state": {}
     },
     "9f08b611e4fc4871a115012fdba77c8b": {
      "model_module": "@jupyter-widgets/controls",
      "model_module_version": "2.0.0",
      "model_name": "FloatProgressModel",
      "state": {
       "bar_style": "danger",
       "layout": "IPY_MODEL_585d861c04954b878893308ebc1007c0",
       "max": 637,
       "style": "IPY_MODEL_6020618e71924fa0b32d9a012a1979e0"
      }
     },
     "9f35ec0359624c02a0ffcb9a014e4cdc": {
      "model_module": "@jupyter-widgets/base",
      "model_module_version": "2.0.0",
      "model_name": "LayoutModel",
      "state": {}
     },
     "9f5147853df54a1db74b568018a89ef3": {
      "model_module": "@jupyter-widgets/controls",
      "model_module_version": "2.0.0",
      "model_name": "HTMLStyleModel",
      "state": {
       "description_width": "",
       "font_size": null,
       "text_color": null
      }
     },
     "9f77ffeaf427461e9a64ff2c023eb837": {
      "model_module": "@jupyter-widgets/controls",
      "model_module_version": "2.0.0",
      "model_name": "HTMLModel",
      "state": {
       "layout": "IPY_MODEL_d62cb26e5d164c669694309c4fa32b19",
       "style": "IPY_MODEL_239dff341580403a928a0598934d1605",
       "value": " 0/456 [00:00&lt;?, ?it/s]"
      }
     },
     "9f979fb889b74dbf94257c20c59feaa2": {
      "model_module": "@jupyter-widgets/controls",
      "model_module_version": "2.0.0",
      "model_name": "HTMLStyleModel",
      "state": {
       "description_width": "",
       "font_size": null,
       "text_color": null
      }
     },
     "9fdbbbdd8c5a4ec68222e6592e49085d": {
      "model_module": "@jupyter-widgets/base",
      "model_module_version": "2.0.0",
      "model_name": "LayoutModel",
      "state": {}
     },
     "9fe7dd6342fc47e1893b860e133dab9e": {
      "model_module": "@jupyter-widgets/controls",
      "model_module_version": "2.0.0",
      "model_name": "HTMLModel",
      "state": {
       "layout": "IPY_MODEL_152b3043d3f44b518ae3fba668b75e3c",
       "style": "IPY_MODEL_49090325447e455e885e1df4a874f707",
       "value": " 0/601 [00:00&lt;?, ?it/s]"
      }
     },
     "9ff656113c5741659509d0177f6702e9": {
      "model_module": "@jupyter-widgets/base",
      "model_module_version": "2.0.0",
      "model_name": "LayoutModel",
      "state": {}
     },
     "9ffc3f4f25e94238abe62319d2daec57": {
      "model_module": "@jupyter-widgets/controls",
      "model_module_version": "2.0.0",
      "model_name": "FloatProgressModel",
      "state": {
       "bar_style": "danger",
       "layout": "IPY_MODEL_70d039f07f914dc5bf5f76052a2311e6",
       "max": 650,
       "style": "IPY_MODEL_3a43f32bb6df40ca9850112672cfbd57"
      }
     },
     "a0222337f78047298c7fd0ffb140782d": {
      "model_module": "@jupyter-widgets/base",
      "model_module_version": "2.0.0",
      "model_name": "LayoutModel",
      "state": {}
     },
     "a08bd36b94744f78ab07d7f3f3dda6cf": {
      "model_module": "@jupyter-widgets/controls",
      "model_module_version": "2.0.0",
      "model_name": "HTMLStyleModel",
      "state": {
       "description_width": "",
       "font_size": null,
       "text_color": null
      }
     },
     "a0961fd5adec45ddb58aa537a5582edf": {
      "model_module": "@jupyter-widgets/base",
      "model_module_version": "2.0.0",
      "model_name": "LayoutModel",
      "state": {}
     },
     "a0abb7b36dcc4b8e98259a94835e4cae": {
      "model_module": "@jupyter-widgets/base",
      "model_module_version": "2.0.0",
      "model_name": "LayoutModel",
      "state": {}
     },
     "a0ea20465e3d48548d69935b3fc4e040": {
      "model_module": "@jupyter-widgets/base",
      "model_module_version": "2.0.0",
      "model_name": "LayoutModel",
      "state": {}
     },
     "a116a5c219584308ad6b2fcf2925f104": {
      "model_module": "@jupyter-widgets/base",
      "model_module_version": "2.0.0",
      "model_name": "LayoutModel",
      "state": {}
     },
     "a1245a7c556e4b82bd2ada918c03cdab": {
      "model_module": "@jupyter-widgets/controls",
      "model_module_version": "2.0.0",
      "model_name": "HTMLStyleModel",
      "state": {
       "description_width": "",
       "font_size": null,
       "text_color": null
      }
     },
     "a1250830d43f49cb819d7923edeb087b": {
      "model_module": "@jupyter-widgets/base",
      "model_module_version": "2.0.0",
      "model_name": "LayoutModel",
      "state": {}
     },
     "a138b4e59a4c430f83e2035d42dc987a": {
      "model_module": "@jupyter-widgets/controls",
      "model_module_version": "2.0.0",
      "model_name": "HTMLStyleModel",
      "state": {
       "description_width": "",
       "font_size": null,
       "text_color": null
      }
     },
     "a1726db5e8b14ab4ac3716b56daf630b": {
      "model_module": "@jupyter-widgets/controls",
      "model_module_version": "2.0.0",
      "model_name": "HTMLStyleModel",
      "state": {
       "description_width": "",
       "font_size": null,
       "text_color": null
      }
     },
     "a18116e6abca4c0fa60687b25f0995fb": {
      "model_module": "@jupyter-widgets/base",
      "model_module_version": "2.0.0",
      "model_name": "LayoutModel",
      "state": {}
     },
     "a1982ea4ec744e6faac923e1669b129d": {
      "model_module": "@jupyter-widgets/base",
      "model_module_version": "2.0.0",
      "model_name": "LayoutModel",
      "state": {}
     },
     "a1991442f9cb4888918b3a4d07eff224": {
      "model_module": "@jupyter-widgets/base",
      "model_module_version": "2.0.0",
      "model_name": "LayoutModel",
      "state": {}
     },
     "a21d15f955bc407bb59fc1ee897ac579": {
      "model_module": "@jupyter-widgets/base",
      "model_module_version": "2.0.0",
      "model_name": "LayoutModel",
      "state": {}
     },
     "a21f842678a448aba380e83e469b2ec5": {
      "model_module": "@jupyter-widgets/controls",
      "model_module_version": "2.0.0",
      "model_name": "HTMLModel",
      "state": {
       "layout": "IPY_MODEL_c446d15d6a144c62842004e5caaa6adc",
       "style": "IPY_MODEL_2df901a64ddd41bd8d905a2a95558825",
       "value": "  0%"
      }
     },
     "a2525cd7a52d486cad5da32308e31d87": {
      "model_module": "@jupyter-widgets/controls",
      "model_module_version": "2.0.0",
      "model_name": "FloatProgressModel",
      "state": {
       "bar_style": "danger",
       "layout": "IPY_MODEL_c2800327043c45b5aee95cbba203ab99",
       "max": 420,
       "style": "IPY_MODEL_15d8ff3189314262952b69c4f8537fb7"
      }
     },
     "a2786f61da984655aa077dd3ad8c5035": {
      "model_module": "@jupyter-widgets/controls",
      "model_module_version": "2.0.0",
      "model_name": "HTMLModel",
      "state": {
       "layout": "IPY_MODEL_378fba4775464a37b60946c09028f53a",
       "style": "IPY_MODEL_6f672f6cada94383a4fa32fcccc30fdd",
       "value": "  0%"
      }
     },
     "a28c60958ecc405f9781366fcf7ba59b": {
      "model_module": "@jupyter-widgets/base",
      "model_module_version": "2.0.0",
      "model_name": "LayoutModel",
      "state": {}
     },
     "a295dad1bdbd42129115fa58554378c8": {
      "model_module": "@jupyter-widgets/controls",
      "model_module_version": "2.0.0",
      "model_name": "HTMLModel",
      "state": {
       "layout": "IPY_MODEL_a8ea5f12125440d5b00ba4440d25c1b1",
       "style": "IPY_MODEL_8035add3815a49d285d8a06ceeb25706",
       "value": "  0%"
      }
     },
     "a29ac64f0d3d4a15a60faac06c6e37f0": {
      "model_module": "@jupyter-widgets/controls",
      "model_module_version": "2.0.0",
      "model_name": "HTMLModel",
      "state": {
       "layout": "IPY_MODEL_b151642a746744069f5ce851f12e285d",
       "style": "IPY_MODEL_ce7a3dc1e4d942dca78c762c69240766",
       "value": "  0%"
      }
     },
     "a2cf39c9ab5d42c7865e755e15e80960": {
      "model_module": "@jupyter-widgets/controls",
      "model_module_version": "2.0.0",
      "model_name": "HTMLModel",
      "state": {
       "layout": "IPY_MODEL_81ddd1d0c0944ea0a7e32e3f881b3988",
       "style": "IPY_MODEL_6367f2f039614b928d448745a58ac38f",
       "value": " 0/722 [00:00&lt;?, ?it/s]"
      }
     },
     "a2f78e53301e47999efd8730acafb7c4": {
      "model_module": "@jupyter-widgets/controls",
      "model_module_version": "2.0.0",
      "model_name": "FloatProgressModel",
      "state": {
       "bar_style": "danger",
       "layout": "IPY_MODEL_0c95733688b245449541191702644d0c",
       "max": 475,
       "style": "IPY_MODEL_f6afdad40aa6448f97bb7f2807f9fbf7"
      }
     },
     "a2fac47e036e4c52acb5e9bc43c26030": {
      "model_module": "@jupyter-widgets/controls",
      "model_module_version": "2.0.0",
      "model_name": "HTMLModel",
      "state": {
       "layout": "IPY_MODEL_11c73f62990743d2a02d92bc46657caf",
       "style": "IPY_MODEL_d67e4f361c024bf38d98bb833305e7da",
       "value": " 0/653 [00:00&lt;?, ?it/s]"
      }
     },
     "a308a25f9f5b4247b9c7495f257fa3da": {
      "model_module": "@jupyter-widgets/base",
      "model_module_version": "2.0.0",
      "model_name": "LayoutModel",
      "state": {}
     },
     "a3267bb773e34b66a63545a52c4793cd": {
      "model_module": "@jupyter-widgets/controls",
      "model_module_version": "2.0.0",
      "model_name": "ProgressStyleModel",
      "state": {
       "description_width": ""
      }
     },
     "a36978cadc2543f097eb536f603491d2": {
      "model_module": "@jupyter-widgets/base",
      "model_module_version": "2.0.0",
      "model_name": "LayoutModel",
      "state": {}
     },
     "a3da5c3e1e4844ee8745784f5581c9c9": {
      "model_module": "@jupyter-widgets/controls",
      "model_module_version": "2.0.0",
      "model_name": "HBoxModel",
      "state": {
       "children": [
        "IPY_MODEL_df8932bbebd6457a85a2184bfb230951",
        "IPY_MODEL_e58b155bafd449ff9e818f5f5bb98bc1",
        "IPY_MODEL_19295d03f367404298085ec25fc03423"
       ],
       "layout": "IPY_MODEL_767adee2f863491099728e12a6e19c87"
      }
     },
     "a40b41cb1dc74a4c97ffb63678b2f4b5": {
      "model_module": "@jupyter-widgets/controls",
      "model_module_version": "2.0.0",
      "model_name": "ProgressStyleModel",
      "state": {
       "description_width": ""
      }
     },
     "a40e869461c542e6a332fdc5dc3ac6a2": {
      "model_module": "@jupyter-widgets/controls",
      "model_module_version": "2.0.0",
      "model_name": "HTMLModel",
      "state": {
       "layout": "IPY_MODEL_206e0639b30f434695f2d3f52b3eafa1",
       "style": "IPY_MODEL_a1245a7c556e4b82bd2ada918c03cdab",
       "value": " 0/637 [00:00&lt;?, ?it/s]"
      }
     },
     "a44cf4d8d9af41ea98901956c5b2e800": {
      "model_module": "@jupyter-widgets/controls",
      "model_module_version": "2.0.0",
      "model_name": "HBoxModel",
      "state": {
       "children": [
        "IPY_MODEL_8809a02a36134f98a59d954db070db1a",
        "IPY_MODEL_fb97e8a64b1846edae69763bc050b0bc",
        "IPY_MODEL_8b59404b9dea4a9b9dccd55ab2745c21"
       ],
       "layout": "IPY_MODEL_e3f88948a3cf41d1b9983541cbf19c6d"
      }
     },
     "a4700f3d6b194b9da292f3b15558d96b": {
      "model_module": "@jupyter-widgets/base",
      "model_module_version": "2.0.0",
      "model_name": "LayoutModel",
      "state": {}
     },
     "a47ded6d6187405cb78dba68f8e8451c": {
      "model_module": "@jupyter-widgets/controls",
      "model_module_version": "2.0.0",
      "model_name": "HTMLStyleModel",
      "state": {
       "description_width": "",
       "font_size": null,
       "text_color": null
      }
     },
     "a5518b3e0a2f439bb990f6acb0fb3f71": {
      "model_module": "@jupyter-widgets/base",
      "model_module_version": "2.0.0",
      "model_name": "LayoutModel",
      "state": {}
     },
     "a58fa750fe524b37b0d74354b79c3018": {
      "model_module": "@jupyter-widgets/base",
      "model_module_version": "2.0.0",
      "model_name": "LayoutModel",
      "state": {}
     },
     "a5a1086b8c8e460c8af925cda1d9ea81": {
      "model_module": "@jupyter-widgets/base",
      "model_module_version": "2.0.0",
      "model_name": "LayoutModel",
      "state": {}
     },
     "a5af6ce964414b2897d0fecc5092903d": {
      "model_module": "@jupyter-widgets/base",
      "model_module_version": "2.0.0",
      "model_name": "LayoutModel",
      "state": {}
     },
     "a624bd71c99e48a1b1a857e04d260a3d": {
      "model_module": "@jupyter-widgets/base",
      "model_module_version": "2.0.0",
      "model_name": "LayoutModel",
      "state": {}
     },
     "a65d6e8c64934accae3edcbf9c248bce": {
      "model_module": "@jupyter-widgets/controls",
      "model_module_version": "2.0.0",
      "model_name": "FloatProgressModel",
      "state": {
       "bar_style": "danger",
       "layout": "IPY_MODEL_591583785e3a44b297700ec8874b269b",
       "max": 401,
       "style": "IPY_MODEL_9252cda11c6442ba942bdd9b25c7a9ce"
      }
     },
     "a68b396246894d8d8113dd0123c18ec9": {
      "model_module": "@jupyter-widgets/base",
      "model_module_version": "2.0.0",
      "model_name": "LayoutModel",
      "state": {}
     },
     "a6cfa521d6a84ebe85950108e6ca0ed8": {
      "model_module": "@jupyter-widgets/base",
      "model_module_version": "2.0.0",
      "model_name": "LayoutModel",
      "state": {}
     },
     "a6d552fe65af412fb92c6af7452f67f3": {
      "model_module": "@jupyter-widgets/controls",
      "model_module_version": "2.0.0",
      "model_name": "ProgressStyleModel",
      "state": {
       "description_width": ""
      }
     },
     "a72709253fc74077848975e2f5217149": {
      "model_module": "@jupyter-widgets/controls",
      "model_module_version": "2.0.0",
      "model_name": "HTMLModel",
      "state": {
       "layout": "IPY_MODEL_536ae6e20fc74c478c078418462fce2e",
       "style": "IPY_MODEL_2b01457bbe5840e097d35e6b4b090a8e",
       "value": " 0/700 [00:00&lt;?, ?it/s]"
      }
     },
     "a7316de9fd194129bf0e317fa16b5bd8": {
      "model_module": "@jupyter-widgets/base",
      "model_module_version": "2.0.0",
      "model_name": "LayoutModel",
      "state": {}
     },
     "a7603eca03654f2b8b53dd7e6754fc14": {
      "model_module": "@jupyter-widgets/controls",
      "model_module_version": "2.0.0",
      "model_name": "FloatProgressModel",
      "state": {
       "bar_style": "danger",
       "layout": "IPY_MODEL_8866c4eb07ff4337b675fd356ba8268c",
       "max": 737,
       "style": "IPY_MODEL_e4a58077d7054129a71eeaf34fc9da13"
      }
     },
     "a79788c75df14da897ec7a259a07dce0": {
      "model_module": "@jupyter-widgets/controls",
      "model_module_version": "2.0.0",
      "model_name": "ProgressStyleModel",
      "state": {
       "description_width": ""
      }
     },
     "a7c29ad28c4148e8899542b0dbf542a4": {
      "model_module": "@jupyter-widgets/controls",
      "model_module_version": "2.0.0",
      "model_name": "HBoxModel",
      "state": {
       "children": [
        "IPY_MODEL_473e229db4f24f099fb840b50bb2fcb8",
        "IPY_MODEL_de8d0ef66b7f4ddb9b0794be0c68aa71",
        "IPY_MODEL_f217014702e7480dbca5714229aa9bf9"
       ],
       "layout": "IPY_MODEL_9ff656113c5741659509d0177f6702e9"
      }
     },
     "a7c92bc8098d4078b7dbd283409d4f53": {
      "model_module": "@jupyter-widgets/base",
      "model_module_version": "2.0.0",
      "model_name": "LayoutModel",
      "state": {}
     },
     "a804802be3c84b9f85839464b743ac5c": {
      "model_module": "@jupyter-widgets/base",
      "model_module_version": "2.0.0",
      "model_name": "LayoutModel",
      "state": {}
     },
     "a810ce8c4f49482d9c6b095d83b21372": {
      "model_module": "@jupyter-widgets/controls",
      "model_module_version": "2.0.0",
      "model_name": "HTMLModel",
      "state": {
       "layout": "IPY_MODEL_f567b9c0a4b747a7a26b516c1907dac5",
       "style": "IPY_MODEL_c41796b72b71431c85bf5e9f3babe45a",
       "value": " 0/492 [00:00&lt;?, ?it/s]"
      }
     },
     "a8120c39fb204a4e9ad9f41ce1c60372": {
      "model_module": "@jupyter-widgets/controls",
      "model_module_version": "2.0.0",
      "model_name": "HTMLModel",
      "state": {
       "layout": "IPY_MODEL_2d810a64fa884fdeb33c8a4ea43e768c",
       "style": "IPY_MODEL_83465d1c0b484f2cae346f9017703671",
       "value": " 472/472 [00:09&lt;00:00, 53.67it/s]"
      }
     },
     "a86b01e18bd347828d95957afae9a8d0": {
      "model_module": "@jupyter-widgets/controls",
      "model_module_version": "2.0.0",
      "model_name": "FloatProgressModel",
      "state": {
       "bar_style": "danger",
       "layout": "IPY_MODEL_351d8e2fa0d94d78954e1a113fb0866b",
       "max": 646,
       "style": "IPY_MODEL_85d5c41fd07849499efff0a46545ca85"
      }
     },
     "a894e48815184232b30d99b4c7f98545": {
      "model_module": "@jupyter-widgets/controls",
      "model_module_version": "2.0.0",
      "model_name": "HTMLModel",
      "state": {
       "layout": "IPY_MODEL_56ee420d70044847a49216faefe82547",
       "style": "IPY_MODEL_9f5147853df54a1db74b568018a89ef3",
       "value": "  0%"
      }
     },
     "a8a7c86465b24ff9ae64248d6fdf235c": {
      "model_module": "@jupyter-widgets/controls",
      "model_module_version": "2.0.0",
      "model_name": "HTMLModel",
      "state": {
       "layout": "IPY_MODEL_820b8b668c99476fa80cb8f1360ac734",
       "style": "IPY_MODEL_60552a4bf1c249d09013577f3e14ffec",
       "value": "  0%"
      }
     },
     "a8d8110ea7694534a1014af804364a0b": {
      "model_module": "@jupyter-widgets/controls",
      "model_module_version": "2.0.0",
      "model_name": "HTMLStyleModel",
      "state": {
       "description_width": "",
       "font_size": null,
       "text_color": null
      }
     },
     "a8e033dbae494467a5028eab97e28bbe": {
      "model_module": "@jupyter-widgets/controls",
      "model_module_version": "2.0.0",
      "model_name": "HBoxModel",
      "state": {
       "children": [
        "IPY_MODEL_37562b6becf24efdbfbb60d29a0af16d",
        "IPY_MODEL_a2f78e53301e47999efd8730acafb7c4",
        "IPY_MODEL_d8eadf30e73b434498aa4e21492fad8d"
       ],
       "layout": "IPY_MODEL_2f84de1ec0fc4100a01553822bf11a3b"
      }
     },
     "a8ea5f12125440d5b00ba4440d25c1b1": {
      "model_module": "@jupyter-widgets/base",
      "model_module_version": "2.0.0",
      "model_name": "LayoutModel",
      "state": {}
     },
     "a8ebd6969a75466abc76f6c5482d4656": {
      "model_module": "@jupyter-widgets/base",
      "model_module_version": "2.0.0",
      "model_name": "LayoutModel",
      "state": {}
     },
     "a8f1f32246b6442db1e3ee71a08aa965": {
      "model_module": "@jupyter-widgets/controls",
      "model_module_version": "2.0.0",
      "model_name": "HTMLModel",
      "state": {
       "layout": "IPY_MODEL_a0961fd5adec45ddb58aa537a5582edf",
       "style": "IPY_MODEL_48f17da75848477991919abe0bc86fb4",
       "value": "  0%"
      }
     },
     "a907fe3e32644eaa884b9c11b80e503e": {
      "model_module": "@jupyter-widgets/controls",
      "model_module_version": "2.0.0",
      "model_name": "HBoxModel",
      "state": {
       "children": [
        "IPY_MODEL_7358eb09c749440dbab328e07eb1864c",
        "IPY_MODEL_b49ea765e32247909289dfb30eb0af3d",
        "IPY_MODEL_952e9336b3ad488c94dd2a0b6500cd7d"
       ],
       "layout": "IPY_MODEL_1d8f02105726456194977e525fd8fc69"
      }
     },
     "a90bfa4230164fc2b20fc92efd24091b": {
      "model_module": "@jupyter-widgets/controls",
      "model_module_version": "2.0.0",
      "model_name": "HTMLStyleModel",
      "state": {
       "description_width": "",
       "font_size": null,
       "text_color": null
      }
     },
     "a939c4130b7b43e7b9c6fa412c1a107b": {
      "model_module": "@jupyter-widgets/base",
      "model_module_version": "2.0.0",
      "model_name": "LayoutModel",
      "state": {}
     },
     "a93b6df317be4e33b90996e92d7bf56a": {
      "model_module": "@jupyter-widgets/controls",
      "model_module_version": "2.0.0",
      "model_name": "HTMLModel",
      "state": {
       "layout": "IPY_MODEL_90a7a8e4b9b5433194da23336678501b",
       "style": "IPY_MODEL_2d564047328944b68bdb4c3388ac7545",
       "value": "  0%"
      }
     },
     "a93fe355397f438c9be770df850d9e4a": {
      "model_module": "@jupyter-widgets/controls",
      "model_module_version": "2.0.0",
      "model_name": "FloatProgressModel",
      "state": {
       "bar_style": "danger",
       "layout": "IPY_MODEL_1b1b0cae8c7644d98e54aa9b60ff5bf9",
       "max": 512,
       "style": "IPY_MODEL_377aed8012714784903a1493d6e5bb46"
      }
     },
     "a9420c2df4a34366a8b8ba790f8047b1": {
      "model_module": "@jupyter-widgets/controls",
      "model_module_version": "2.0.0",
      "model_name": "HTMLStyleModel",
      "state": {
       "description_width": "",
       "font_size": null,
       "text_color": null
      }
     },
     "a97c79416ba040c19b456bcafe5d9b0b": {
      "model_module": "@jupyter-widgets/controls",
      "model_module_version": "2.0.0",
      "model_name": "HTMLStyleModel",
      "state": {
       "description_width": "",
       "font_size": null,
       "text_color": null
      }
     },
     "aa173eadf7f648f1b26a91f5ac8d01f4": {
      "model_module": "@jupyter-widgets/controls",
      "model_module_version": "2.0.0",
      "model_name": "HTMLStyleModel",
      "state": {
       "description_width": "",
       "font_size": null,
       "text_color": null
      }
     },
     "aa18202d30814083a051e4d04ff4fdc8": {
      "model_module": "@jupyter-widgets/base",
      "model_module_version": "2.0.0",
      "model_name": "LayoutModel",
      "state": {}
     },
     "aa4b3aba0f034b6683169439504d09e2": {
      "model_module": "@jupyter-widgets/controls",
      "model_module_version": "2.0.0",
      "model_name": "HTMLModel",
      "state": {
       "layout": "IPY_MODEL_17370df38e754ad59a76ffb9e59d4faa",
       "style": "IPY_MODEL_2e418cbcb1414745be75c9d47f9c8ede",
       "value": " 492/492 [00:10&lt;00:00, 53.23it/s]"
      }
     },
     "aaa35c274b08467e86b690c9697aedb7": {
      "model_module": "@jupyter-widgets/controls",
      "model_module_version": "2.0.0",
      "model_name": "HBoxModel",
      "state": {
       "children": [
        "IPY_MODEL_f589d09e0c3d4f52b102e1755cc63264",
        "IPY_MODEL_68a94cc220f5456b913373c0d7efda27",
        "IPY_MODEL_c98b0e4d00ea44cc86050151889bb0aa"
       ],
       "layout": "IPY_MODEL_ec9d2394be3c4f9284e5c34947b98d72"
      }
     },
     "aac6941cbba7407cbb9d4f7af4c0c8ff": {
      "model_module": "@jupyter-widgets/base",
      "model_module_version": "2.0.0",
      "model_name": "LayoutModel",
      "state": {}
     },
     "ab1361a816c94fe98be82897b42b0eb4": {
      "model_module": "@jupyter-widgets/controls",
      "model_module_version": "2.0.0",
      "model_name": "HTMLModel",
      "state": {
       "layout": "IPY_MODEL_1ac81ad0421346129ad0aef65d86fa25",
       "style": "IPY_MODEL_cb0c242efa26416db2bbebc0716081c8",
       "value": " 0/704 [00:00&lt;?, ?it/s]"
      }
     },
     "ab238684395f41778a0ffd5564fdc33a": {
      "model_module": "@jupyter-widgets/controls",
      "model_module_version": "2.0.0",
      "model_name": "HTMLStyleModel",
      "state": {
       "description_width": "",
       "font_size": null,
       "text_color": null
      }
     },
     "ab2ac881c3f340718e6b6388ce801e31": {
      "model_module": "@jupyter-widgets/controls",
      "model_module_version": "2.0.0",
      "model_name": "HTMLModel",
      "state": {
       "layout": "IPY_MODEL_d5f8f9cb12454833ae38fc48163c4639",
       "style": "IPY_MODEL_1bd2784a551747018d4b875f58d08dad",
       "value": " 401/401 [00:08&lt;00:00, 46.80it/s]"
      }
     },
     "ab2cb79f5076492cb1739244b9ef297c": {
      "model_module": "@jupyter-widgets/controls",
      "model_module_version": "2.0.0",
      "model_name": "HTMLModel",
      "state": {
       "layout": "IPY_MODEL_86788aff60144ea08a4816986551bc34",
       "style": "IPY_MODEL_0cec1ac6e39f468b82760b185d007f61",
       "value": " 0/623 [00:00&lt;?, ?it/s]"
      }
     },
     "ab45fa2e2208430d920ce42fba87d06b": {
      "model_module": "@jupyter-widgets/controls",
      "model_module_version": "2.0.0",
      "model_name": "FloatProgressModel",
      "state": {
       "bar_style": "danger",
       "layout": "IPY_MODEL_0cb63c2caeea4548864d6d5d32c11b34",
       "max": 663,
       "style": "IPY_MODEL_22a5184cef254420a99908104e28d05e"
      }
     },
     "ab5da8f557804c4f8106c50da53ddfa6": {
      "model_module": "@jupyter-widgets/controls",
      "model_module_version": "2.0.0",
      "model_name": "FloatProgressModel",
      "state": {
       "bar_style": "danger",
       "layout": "IPY_MODEL_eb7b84578b05470db56e029c9820cf27",
       "max": 654,
       "style": "IPY_MODEL_d45eeadbd3a845868f4c300bb9126c5f"
      }
     },
     "ab613d7a045e45bd939214bfc6ff0b3f": {
      "model_module": "@jupyter-widgets/controls",
      "model_module_version": "2.0.0",
      "model_name": "HBoxModel",
      "state": {
       "children": [
        "IPY_MODEL_78bf7ce918204b3dbe83eba89dafce62",
        "IPY_MODEL_25cc9ba3f04640549646f1d72ead075f",
        "IPY_MODEL_f009e7e3c4c5430981c02f75f4ef37c4"
       ],
       "layout": "IPY_MODEL_ef79f0aec95a4e099c52624c35b75c91"
      }
     },
     "ab7e1896dc2b46b688c42be0a50cdbdf": {
      "model_module": "@jupyter-widgets/base",
      "model_module_version": "2.0.0",
      "model_name": "LayoutModel",
      "state": {}
     },
     "abbbc9b647e64cff82472c63554e79bd": {
      "model_module": "@jupyter-widgets/controls",
      "model_module_version": "2.0.0",
      "model_name": "HTMLStyleModel",
      "state": {
       "description_width": "",
       "font_size": null,
       "text_color": null
      }
     },
     "abc295ec44e947dabbecd002950da314": {
      "model_module": "@jupyter-widgets/controls",
      "model_module_version": "2.0.0",
      "model_name": "HBoxModel",
      "state": {
       "children": [
        "IPY_MODEL_6bf8fc80544d432db19eb239cbf95c05",
        "IPY_MODEL_98251ac11de745e18686215249aaaca8",
        "IPY_MODEL_15875f75a42c4321980af603ff06c2f4"
       ],
       "layout": "IPY_MODEL_7114af5a972248ceb66a3b55e2895326"
      }
     },
     "abc70ebca80642cb92c8e39dd9c35d60": {
      "model_module": "@jupyter-widgets/base",
      "model_module_version": "2.0.0",
      "model_name": "LayoutModel",
      "state": {}
     },
     "ac00ac37000942cfa7f7df39f0a0065c": {
      "model_module": "@jupyter-widgets/base",
      "model_module_version": "2.0.0",
      "model_name": "LayoutModel",
      "state": {}
     },
     "ac04367f9be54d34a4f07b69ab4850ca": {
      "model_module": "@jupyter-widgets/controls",
      "model_module_version": "2.0.0",
      "model_name": "HBoxModel",
      "state": {
       "children": [
        "IPY_MODEL_f14f0b4cc50742d6a9dcf716741a4bb0",
        "IPY_MODEL_8c8d035625464847a485dcd6eb0f3894",
        "IPY_MODEL_b649c95960d74c98a51acbc8d0f85c93"
       ],
       "layout": "IPY_MODEL_55384bf5754f40978a53b3676ad93a35"
      }
     },
     "ac5c7a8de20b4b9ea8c1d99884662cbb": {
      "model_module": "@jupyter-widgets/controls",
      "model_module_version": "2.0.0",
      "model_name": "HTMLStyleModel",
      "state": {
       "description_width": "",
       "font_size": null,
       "text_color": null
      }
     },
     "ac6bb91c6dcb4203b881a02f192b14f6": {
      "model_module": "@jupyter-widgets/base",
      "model_module_version": "2.0.0",
      "model_name": "LayoutModel",
      "state": {}
     },
     "acd0cd732e0048b9a0ec8c47a58eb7fd": {
      "model_module": "@jupyter-widgets/base",
      "model_module_version": "2.0.0",
      "model_name": "LayoutModel",
      "state": {}
     },
     "ad44ecc531a64479a044dcd69d18a440": {
      "model_module": "@jupyter-widgets/base",
      "model_module_version": "2.0.0",
      "model_name": "LayoutModel",
      "state": {}
     },
     "ad88b8515bd64e5fbbe70acf3319a492": {
      "model_module": "@jupyter-widgets/base",
      "model_module_version": "2.0.0",
      "model_name": "LayoutModel",
      "state": {}
     },
     "adc60afc577747f4ab184e8bc4ec889e": {
      "model_module": "@jupyter-widgets/controls",
      "model_module_version": "2.0.0",
      "model_name": "HBoxModel",
      "state": {
       "children": [
        "IPY_MODEL_521ba6fcd0904936afce7dd3d624cd8c",
        "IPY_MODEL_b3baaff481e64973befb464ed214114c",
        "IPY_MODEL_855798414fe64278b0ecea058170ab81"
       ],
       "layout": "IPY_MODEL_daa1e32bcca1475891077640436b018e"
      }
     },
     "adf3ddcb2a964b88a297129cea3524a7": {
      "model_module": "@jupyter-widgets/base",
      "model_module_version": "2.0.0",
      "model_name": "LayoutModel",
      "state": {}
     },
     "ae16665f94cc46b9ae4ed5626805acce": {
      "model_module": "@jupyter-widgets/controls",
      "model_module_version": "2.0.0",
      "model_name": "ProgressStyleModel",
      "state": {
       "description_width": ""
      }
     },
     "aee935f559954e87942a11761d600161": {
      "model_module": "@jupyter-widgets/controls",
      "model_module_version": "2.0.0",
      "model_name": "HTMLStyleModel",
      "state": {
       "description_width": "",
       "font_size": null,
       "text_color": null
      }
     },
     "af3aa8ccc84a4e9c90cf7be3058f8974": {
      "model_module": "@jupyter-widgets/controls",
      "model_module_version": "2.0.0",
      "model_name": "HBoxModel",
      "state": {
       "children": [
        "IPY_MODEL_cb12be512fae46a4b552d7990b484c6f",
        "IPY_MODEL_3a31f0b145154597ab47b85f4105c6cd",
        "IPY_MODEL_de822948efe14f2cbb5c257451c30907"
       ],
       "layout": "IPY_MODEL_666d03de561e407aab10e73db80bbc0f"
      }
     },
     "afc480d22d794d859d3c72de9fdb2afd": {
      "model_module": "@jupyter-widgets/controls",
      "model_module_version": "2.0.0",
      "model_name": "HTMLStyleModel",
      "state": {
       "description_width": "",
       "font_size": null,
       "text_color": null
      }
     },
     "b03b2ebfef3c4ffdab2c26fe75f1631f": {
      "model_module": "@jupyter-widgets/controls",
      "model_module_version": "2.0.0",
      "model_name": "ProgressStyleModel",
      "state": {
       "description_width": ""
      }
     },
     "b054b0e1b32b491d8b0d138e2cd36bb7": {
      "model_module": "@jupyter-widgets/controls",
      "model_module_version": "2.0.0",
      "model_name": "HTMLStyleModel",
      "state": {
       "description_width": "",
       "font_size": null,
       "text_color": null
      }
     },
     "b062440011924d1e9bf2fcc5e19a2b97": {
      "model_module": "@jupyter-widgets/base",
      "model_module_version": "2.0.0",
      "model_name": "LayoutModel",
      "state": {}
     },
     "b07fa1682d534ef78698590eb1e8e5b7": {
      "model_module": "@jupyter-widgets/base",
      "model_module_version": "2.0.0",
      "model_name": "LayoutModel",
      "state": {}
     },
     "b0cef2c45a6d4035abc07cfb61521ebb": {
      "model_module": "@jupyter-widgets/controls",
      "model_module_version": "2.0.0",
      "model_name": "HTMLModel",
      "state": {
       "layout": "IPY_MODEL_67a62861aecd44a48a04db0ff375cc71",
       "style": "IPY_MODEL_730e495ed0b2438ca21815cf72902595",
       "value": "  0%"
      }
     },
     "b0f5f5adb10b4985a4d21536afdd56cd": {
      "model_module": "@jupyter-widgets/controls",
      "model_module_version": "2.0.0",
      "model_name": "HTMLStyleModel",
      "state": {
       "description_width": "",
       "font_size": null,
       "text_color": null
      }
     },
     "b1208dcce91c42da844bc619fe576551": {
      "model_module": "@jupyter-widgets/controls",
      "model_module_version": "2.0.0",
      "model_name": "ProgressStyleModel",
      "state": {
       "description_width": ""
      }
     },
     "b151642a746744069f5ce851f12e285d": {
      "model_module": "@jupyter-widgets/base",
      "model_module_version": "2.0.0",
      "model_name": "LayoutModel",
      "state": {}
     },
     "b19055fee6654e178adbf377ad782532": {
      "model_module": "@jupyter-widgets/base",
      "model_module_version": "2.0.0",
      "model_name": "LayoutModel",
      "state": {}
     },
     "b1aef31c09724585ad94828f45495f17": {
      "model_module": "@jupyter-widgets/base",
      "model_module_version": "2.0.0",
      "model_name": "LayoutModel",
      "state": {}
     },
     "b1c48b42412d4561ad042f29f283f596": {
      "model_module": "@jupyter-widgets/base",
      "model_module_version": "2.0.0",
      "model_name": "LayoutModel",
      "state": {}
     },
     "b1f29d06244d451b997ea696b2cfe9d8": {
      "model_module": "@jupyter-widgets/controls",
      "model_module_version": "2.0.0",
      "model_name": "HTMLStyleModel",
      "state": {
       "description_width": "",
       "font_size": null,
       "text_color": null
      }
     },
     "b21ffdb1b67a47718f434369dd2bee0b": {
      "model_module": "@jupyter-widgets/base",
      "model_module_version": "2.0.0",
      "model_name": "LayoutModel",
      "state": {}
     },
     "b24f44f085f0497aa32f8480c54ecd2b": {
      "model_module": "@jupyter-widgets/base",
      "model_module_version": "2.0.0",
      "model_name": "LayoutModel",
      "state": {}
     },
     "b26a06c7c4784a1dad67e4c71fe212ab": {
      "model_module": "@jupyter-widgets/base",
      "model_module_version": "2.0.0",
      "model_name": "LayoutModel",
      "state": {}
     },
     "b30d9e37cdb447a3bdf256e4d88110be": {
      "model_module": "@jupyter-widgets/base",
      "model_module_version": "2.0.0",
      "model_name": "LayoutModel",
      "state": {}
     },
     "b3499b45d23d41f38538326b5a6e7336": {
      "model_module": "@jupyter-widgets/controls",
      "model_module_version": "2.0.0",
      "model_name": "HTMLModel",
      "state": {
       "layout": "IPY_MODEL_6370029c5bc64f28b04ff4cf1c9bc1e4",
       "style": "IPY_MODEL_5e3db7a9fac54c1bb0ab8985d91d60a8",
       "value": "100%"
      }
     },
     "b358c0080f8d4dbcaf97f1a50d2274d3": {
      "model_module": "@jupyter-widgets/base",
      "model_module_version": "2.0.0",
      "model_name": "LayoutModel",
      "state": {}
     },
     "b3825e4450f243838fcd3170c5b7dc7c": {
      "model_module": "@jupyter-widgets/base",
      "model_module_version": "2.0.0",
      "model_name": "LayoutModel",
      "state": {}
     },
     "b3baaff481e64973befb464ed214114c": {
      "model_module": "@jupyter-widgets/controls",
      "model_module_version": "2.0.0",
      "model_name": "FloatProgressModel",
      "state": {
       "bar_style": "success",
       "layout": "IPY_MODEL_56a728e88d194b668c4707d21dfbefd7",
       "max": 468,
       "style": "IPY_MODEL_74c61aab25ac48c48fd645467c0629b4",
       "value": 468
      }
     },
     "b3cb2d3446934e45bc74ace32d01a84d": {
      "model_module": "@jupyter-widgets/base",
      "model_module_version": "2.0.0",
      "model_name": "LayoutModel",
      "state": {}
     },
     "b407d16d65144290aac1f93e24524de8": {
      "model_module": "@jupyter-widgets/controls",
      "model_module_version": "2.0.0",
      "model_name": "HTMLStyleModel",
      "state": {
       "description_width": "",
       "font_size": null,
       "text_color": null
      }
     },
     "b4101abb835e446ba361c5f4b8347f75": {
      "model_module": "@jupyter-widgets/controls",
      "model_module_version": "2.0.0",
      "model_name": "HBoxModel",
      "state": {
       "children": [
        "IPY_MODEL_b4f7e5b58f1d4a399a04058d29c24d34",
        "IPY_MODEL_d775a1a775664abcb0bcc9265b343a74",
        "IPY_MODEL_4bf0bf26a1864de090024d8df5d8a39d"
       ],
       "layout": "IPY_MODEL_d9d2cf33034a42f8b2bca6aecf3f8f84"
      }
     },
     "b48fa322ffc74160a4b483cbffa2aa9b": {
      "model_module": "@jupyter-widgets/controls",
      "model_module_version": "2.0.0",
      "model_name": "HBoxModel",
      "state": {
       "children": [
        "IPY_MODEL_8142d1b4fc2d4c899f286a4a5559a4f5",
        "IPY_MODEL_fc5bd8104a4942aeb5ab48e3c8269573",
        "IPY_MODEL_cc913e73888f4beaa4f4c948712ab6de"
       ],
       "layout": "IPY_MODEL_6b4a42cba48c4b268eb7a9343684d3d6"
      }
     },
     "b49ea765e32247909289dfb30eb0af3d": {
      "model_module": "@jupyter-widgets/controls",
      "model_module_version": "2.0.0",
      "model_name": "FloatProgressModel",
      "state": {
       "bar_style": "danger",
       "layout": "IPY_MODEL_1312dc9db7784ebd825bd5700237df60",
       "max": 588,
       "style": "IPY_MODEL_e3820f4114d84efbb17a0096cc4d668e"
      }
     },
     "b4b42cdbf6c14910aae55cf60f0099b9": {
      "model_module": "@jupyter-widgets/base",
      "model_module_version": "2.0.0",
      "model_name": "LayoutModel",
      "state": {}
     },
     "b4cc7292d0bf48769a249e0794e14f15": {
      "model_module": "@jupyter-widgets/base",
      "model_module_version": "2.0.0",
      "model_name": "LayoutModel",
      "state": {}
     },
     "b4da7fa2594945d3ba2cc8e734219a21": {
      "model_module": "@jupyter-widgets/base",
      "model_module_version": "2.0.0",
      "model_name": "LayoutModel",
      "state": {}
     },
     "b4e6721016fe4838abb84691dfd0125e": {
      "model_module": "@jupyter-widgets/base",
      "model_module_version": "2.0.0",
      "model_name": "LayoutModel",
      "state": {}
     },
     "b4eb86a95a744aaf92a5ff1f88652c14": {
      "model_module": "@jupyter-widgets/base",
      "model_module_version": "2.0.0",
      "model_name": "LayoutModel",
      "state": {}
     },
     "b4f7e5b58f1d4a399a04058d29c24d34": {
      "model_module": "@jupyter-widgets/controls",
      "model_module_version": "2.0.0",
      "model_name": "HTMLModel",
      "state": {
       "layout": "IPY_MODEL_75500802bf5a4d33928d184d69bd173f",
       "style": "IPY_MODEL_ba4b0acd3bc94ccba15919aea71e6b84",
       "value": "  0%"
      }
     },
     "b51c75235a97408f8955403eb0bf7b02": {
      "model_module": "@jupyter-widgets/controls",
      "model_module_version": "2.0.0",
      "model_name": "HTMLModel",
      "state": {
       "layout": "IPY_MODEL_2d30bcc3fdff4129bdf95d83bdf6935a",
       "style": "IPY_MODEL_948a4a4ffe7e4956bfe8ccaf769011fd",
       "value": " 0/541 [00:00&lt;?, ?it/s]"
      }
     },
     "b52cb1d8a7114a8d89840ac6769afef9": {
      "model_module": "@jupyter-widgets/base",
      "model_module_version": "2.0.0",
      "model_name": "LayoutModel",
      "state": {}
     },
     "b540a851229e4671b03a9955919fba60": {
      "model_module": "@jupyter-widgets/controls",
      "model_module_version": "2.0.0",
      "model_name": "HBoxModel",
      "state": {
       "children": [
        "IPY_MODEL_514399a446e440df95cd9c7256de0dfa",
        "IPY_MODEL_7d4edcc8434d4d4780b5341523e44881",
        "IPY_MODEL_ec8d2e1b16784a4ebfdaf05794a21d1c"
       ],
       "layout": "IPY_MODEL_b21ffdb1b67a47718f434369dd2bee0b"
      }
     },
     "b552539bd289443abd1fb3341847ebff": {
      "model_module": "@jupyter-widgets/controls",
      "model_module_version": "2.0.0",
      "model_name": "HTMLModel",
      "state": {
       "layout": "IPY_MODEL_5fa235f14f614fa28c4676db8d54981b",
       "style": "IPY_MODEL_2590167f7c8948829d5e36803efb9037",
       "value": " 0/699 [00:00&lt;?, ?it/s]"
      }
     },
     "b59350b6254e4e268c37b02ed8e43e68": {
      "model_module": "@jupyter-widgets/controls",
      "model_module_version": "2.0.0",
      "model_name": "HTMLModel",
      "state": {
       "layout": "IPY_MODEL_b6ef812c74844d52a14047cc54fed28b",
       "style": "IPY_MODEL_8b5266216ac94945864ef511c3dbb730",
       "value": "  0%"
      }
     },
     "b59e4f6bc25441cfa29c39cb0e0f52cb": {
      "model_module": "@jupyter-widgets/controls",
      "model_module_version": "2.0.0",
      "model_name": "HTMLModel",
      "state": {
       "layout": "IPY_MODEL_44ed94e598b640488927484e755795fe",
       "style": "IPY_MODEL_4aab185f738c4e518d161c33c83c2e96",
       "value": "100%"
      }
     },
     "b5bbdd5ce61d4588b16838554b67b516": {
      "model_module": "@jupyter-widgets/base",
      "model_module_version": "2.0.0",
      "model_name": "LayoutModel",
      "state": {}
     },
     "b5ecf455670d44f095423a83166c2127": {
      "model_module": "@jupyter-widgets/controls",
      "model_module_version": "2.0.0",
      "model_name": "HBoxModel",
      "state": {
       "children": [
        "IPY_MODEL_c3a7c1fc3e734bb8be0ed39c5a0aa8fe",
        "IPY_MODEL_554213f6277f42e2ad15d2ddc63951b1",
        "IPY_MODEL_8f1a57004ea140ce9a4931dbddecfcd1"
       ],
       "layout": "IPY_MODEL_c872b6018de847f8922aa1e554fc2de4"
      }
     },
     "b6061dfcdce54a7abd449d9586b5c641": {
      "model_module": "@jupyter-widgets/base",
      "model_module_version": "2.0.0",
      "model_name": "LayoutModel",
      "state": {}
     },
     "b649c95960d74c98a51acbc8d0f85c93": {
      "model_module": "@jupyter-widgets/controls",
      "model_module_version": "2.0.0",
      "model_name": "HTMLModel",
      "state": {
       "layout": "IPY_MODEL_8e7243456ce44144b0847d05cecdfa0b",
       "style": "IPY_MODEL_e56183af65a34fd1b67d4261f6e61a4b",
       "value": " 118/118 [00:24&lt;00:00,  4.24it/s]"
      }
     },
     "b659b7e172a3448db791850ffab8cd2b": {
      "model_module": "@jupyter-widgets/controls",
      "model_module_version": "2.0.0",
      "model_name": "HTMLModel",
      "state": {
       "layout": "IPY_MODEL_16b9a8241d6f4fa78c9e592ee65e4664",
       "style": "IPY_MODEL_756efddb6af44719ac0a4fd98dd94129",
       "value": "  0%"
      }
     },
     "b6a5d887ca074c6e907fd0b8494c888d": {
      "model_module": "@jupyter-widgets/controls",
      "model_module_version": "2.0.0",
      "model_name": "HTMLModel",
      "state": {
       "layout": "IPY_MODEL_728f931f6ef841d7bd8d84eb643d6bc0",
       "style": "IPY_MODEL_e6a603f90f474b408bc073c99b1e4bb7",
       "value": " 0/737 [00:00&lt;?, ?it/s]"
      }
     },
     "b6d8c118d70f45a6b1122e51705b9979": {
      "model_module": "@jupyter-widgets/base",
      "model_module_version": "2.0.0",
      "model_name": "LayoutModel",
      "state": {}
     },
     "b6ef812c74844d52a14047cc54fed28b": {
      "model_module": "@jupyter-widgets/base",
      "model_module_version": "2.0.0",
      "model_name": "LayoutModel",
      "state": {}
     },
     "b705dc71d0b8453ca00668ef7bd03304": {
      "model_module": "@jupyter-widgets/controls",
      "model_module_version": "2.0.0",
      "model_name": "HTMLModel",
      "state": {
       "layout": "IPY_MODEL_d1ab3761b0614f188868f2cc58b9c660",
       "style": "IPY_MODEL_eb3446ecc01d4711a7d1c30ab9e08c4c",
       "value": "  0%"
      }
     },
     "b818e5d65c3542f6a729ce65fba6fb51": {
      "model_module": "@jupyter-widgets/controls",
      "model_module_version": "2.0.0",
      "model_name": "HTMLModel",
      "state": {
       "layout": "IPY_MODEL_f91abc986c064e2aab75734db161fdf6",
       "style": "IPY_MODEL_ccb6045ce4b04882b0071dc48a0a1740",
       "value": "100%"
      }
     },
     "b823671e4d1846c6b86f5ca4fa7bbe88": {
      "model_module": "@jupyter-widgets/controls",
      "model_module_version": "2.0.0",
      "model_name": "HTMLModel",
      "state": {
       "layout": "IPY_MODEL_65d45222a4f24c89bc69f235c5408258",
       "style": "IPY_MODEL_3348586a77ab4a0a92729d4778e0a6ed",
       "value": " 0/465 [00:00&lt;?, ?it/s]"
      }
     },
     "b83b0efe6e50437b8fa2125a166529ee": {
      "model_module": "@jupyter-widgets/controls",
      "model_module_version": "2.0.0",
      "model_name": "HTMLStyleModel",
      "state": {
       "description_width": "",
       "font_size": null,
       "text_color": null
      }
     },
     "b84891942751456b90996d1a0b4fe7fc": {
      "model_module": "@jupyter-widgets/controls",
      "model_module_version": "2.0.0",
      "model_name": "HTMLModel",
      "state": {
       "layout": "IPY_MODEL_e929c08983e04f85afb81059f412ce3e",
       "style": "IPY_MODEL_d31f8f04c4484a56b342b840320868dd",
       "value": "  0%"
      }
     },
     "b895ead6b3ab428aa21b5482cf0e5c1c": {
      "model_module": "@jupyter-widgets/base",
      "model_module_version": "2.0.0",
      "model_name": "LayoutModel",
      "state": {}
     },
     "b8b2f4aa19f644728165cc1f4c7f29c5": {
      "model_module": "@jupyter-widgets/base",
      "model_module_version": "2.0.0",
      "model_name": "LayoutModel",
      "state": {}
     },
     "b8b6f250519a4b8788d1c5ce98f001ef": {
      "model_module": "@jupyter-widgets/controls",
      "model_module_version": "2.0.0",
      "model_name": "HTMLModel",
      "state": {
       "layout": "IPY_MODEL_ca1afe75fed345c79f93bed1312c0861",
       "style": "IPY_MODEL_5fdaae91eb184c21a8e151cff5ecd665",
       "value": "  0%"
      }
     },
     "b8c35ab27cdb4e6298ab95d987d788c3": {
      "model_module": "@jupyter-widgets/base",
      "model_module_version": "2.0.0",
      "model_name": "LayoutModel",
      "state": {}
     },
     "b8de0654f19c406da7709f59f4d5ab46": {
      "model_module": "@jupyter-widgets/controls",
      "model_module_version": "2.0.0",
      "model_name": "HBoxModel",
      "state": {
       "children": [
        "IPY_MODEL_23ec135f627449868309f1449ec4a67d",
        "IPY_MODEL_5abcb1b33fd2446dae6d70451ac5c4d5",
        "IPY_MODEL_4eb696b9ee2942b085d531604cfffada"
       ],
       "layout": "IPY_MODEL_166aeae028ea4e2196f104b3d7785d4a"
      }
     },
     "b8ebe102f7c443a888adfd46a27e3b93": {
      "model_module": "@jupyter-widgets/controls",
      "model_module_version": "2.0.0",
      "model_name": "FloatProgressModel",
      "state": {
       "bar_style": "danger",
       "layout": "IPY_MODEL_abc70ebca80642cb92c8e39dd9c35d60",
       "max": 582,
       "style": "IPY_MODEL_363f24431dc0434eb1ed5ded9f8d8eea"
      }
     },
     "b923c7e24849445ea3619bf203c14a1e": {
      "model_module": "@jupyter-widgets/controls",
      "model_module_version": "2.0.0",
      "model_name": "HBoxModel",
      "state": {
       "children": [
        "IPY_MODEL_7337074eb82b4afe87877d6928d471c3",
        "IPY_MODEL_0cc078445ba343f9ba5def5111f32198",
        "IPY_MODEL_46acf5b431fb40e29e8b027a0864f6cc"
       ],
       "layout": "IPY_MODEL_e5d6f533e450436586aef82b12833169"
      }
     },
     "b9548f8076484c6bad28ce9b43dc1f51": {
      "model_module": "@jupyter-widgets/controls",
      "model_module_version": "2.0.0",
      "model_name": "HBoxModel",
      "state": {
       "children": [
        "IPY_MODEL_333336334cfe40eb81a91e4dfe8f30ce",
        "IPY_MODEL_0968c127d253421e906a9fc3d5cf256b",
        "IPY_MODEL_761ef0000e2e41d793cddc260002d56f"
       ],
       "layout": "IPY_MODEL_c3c0b5d155f5403781dddede15c7d36a"
      }
     },
     "b998172e000c419e9ad923518881ccb4": {
      "model_module": "@jupyter-widgets/base",
      "model_module_version": "2.0.0",
      "model_name": "LayoutModel",
      "state": {}
     },
     "b9f5df3ef9024636a3c8b6e22f8efa2e": {
      "model_module": "@jupyter-widgets/base",
      "model_module_version": "2.0.0",
      "model_name": "LayoutModel",
      "state": {}
     },
     "b9fcf84223084cd1bebb935e8ae8cd38": {
      "model_module": "@jupyter-widgets/controls",
      "model_module_version": "2.0.0",
      "model_name": "HTMLStyleModel",
      "state": {
       "description_width": "",
       "font_size": null,
       "text_color": null
      }
     },
     "ba4b0acd3bc94ccba15919aea71e6b84": {
      "model_module": "@jupyter-widgets/controls",
      "model_module_version": "2.0.0",
      "model_name": "HTMLStyleModel",
      "state": {
       "description_width": "",
       "font_size": null,
       "text_color": null
      }
     },
     "ba8206f8afa74c68a68fb6c093c52e46": {
      "model_module": "@jupyter-widgets/controls",
      "model_module_version": "2.0.0",
      "model_name": "HBoxModel",
      "state": {
       "children": [
        "IPY_MODEL_07f2024b48f54e1bbb5e62b2f90501f3",
        "IPY_MODEL_92fa5b0d964e45299b3c39e19964de8e",
        "IPY_MODEL_34cb213e67174969aa21cc69dabcbd5b"
       ],
       "layout": "IPY_MODEL_3ccfe324a0ec49bbb369959e46cd7342"
      }
     },
     "ba9d9e531f8c4e8c915c3b242508ebbd": {
      "model_module": "@jupyter-widgets/controls",
      "model_module_version": "2.0.0",
      "model_name": "HTMLStyleModel",
      "state": {
       "description_width": "",
       "font_size": null,
       "text_color": null
      }
     },
     "baaf28096fbc4a37b46dfab7b1ff51d2": {
      "model_module": "@jupyter-widgets/controls",
      "model_module_version": "2.0.0",
      "model_name": "HBoxModel",
      "state": {
       "children": [
        "IPY_MODEL_f0551b6d18bf4239b6ac0d2ef87c2e4c",
        "IPY_MODEL_51f19f2d557e4130a646270972d3ba70",
        "IPY_MODEL_7a26ddc8a3dd4012aaf8e99344a5a319"
       ],
       "layout": "IPY_MODEL_9581d07ad0b0492a967df81fbf9d7521"
      }
     },
     "bb01328f2d7e4e2cae40113d6d5bd9d6": {
      "model_module": "@jupyter-widgets/controls",
      "model_module_version": "2.0.0",
      "model_name": "HBoxModel",
      "state": {
       "children": [
        "IPY_MODEL_4ca25ca44f94497891294e859e61db70",
        "IPY_MODEL_8418e9f2136a4096b4d89d0ed1e21c5b",
        "IPY_MODEL_a2fac47e036e4c52acb5e9bc43c26030"
       ],
       "layout": "IPY_MODEL_b52cb1d8a7114a8d89840ac6769afef9"
      }
     },
     "bb525e8ff651409281d3ee438991fcc5": {
      "model_module": "@jupyter-widgets/base",
      "model_module_version": "2.0.0",
      "model_name": "LayoutModel",
      "state": {}
     },
     "bb5e683459414e3a92bf5c45d50f9f6e": {
      "model_module": "@jupyter-widgets/controls",
      "model_module_version": "2.0.0",
      "model_name": "HTMLStyleModel",
      "state": {
       "description_width": "",
       "font_size": null,
       "text_color": null
      }
     },
     "bb8dd9525ef84be0a486e4e68d852a46": {
      "model_module": "@jupyter-widgets/controls",
      "model_module_version": "2.0.0",
      "model_name": "ProgressStyleModel",
      "state": {
       "description_width": ""
      }
     },
     "bc018829104e4b719a12870c7ddfc89e": {
      "model_module": "@jupyter-widgets/controls",
      "model_module_version": "2.0.0",
      "model_name": "HBoxModel",
      "state": {
       "children": [
        "IPY_MODEL_74945783502342b585af31f8b9e0bda4",
        "IPY_MODEL_9cf6a969cb5e4786be91b52b8ad61e28",
        "IPY_MODEL_6ca661a4d96c467d81c42551f4fb0114"
       ],
       "layout": "IPY_MODEL_bb525e8ff651409281d3ee438991fcc5"
      }
     },
     "bc0203d7ca464f78b70251f3e7254dc9": {
      "model_module": "@jupyter-widgets/controls",
      "model_module_version": "2.0.0",
      "model_name": "HTMLStyleModel",
      "state": {
       "description_width": "",
       "font_size": null,
       "text_color": null
      }
     },
     "bc06bf2c66e0449180084703b591b172": {
      "model_module": "@jupyter-widgets/controls",
      "model_module_version": "2.0.0",
      "model_name": "HTMLStyleModel",
      "state": {
       "description_width": "",
       "font_size": null,
       "text_color": null
      }
     },
     "bc3ded4031c64ce3bc391a4cf6588d33": {
      "model_module": "@jupyter-widgets/controls",
      "model_module_version": "2.0.0",
      "model_name": "HBoxModel",
      "state": {
       "children": [
        "IPY_MODEL_d9743d5e093b4323888dbcb687c11723",
        "IPY_MODEL_23a93736f85848b98ea5a045d6ec1ad9",
        "IPY_MODEL_7e3fc875aeaf42df89c4db956dbd318f"
       ],
       "layout": "IPY_MODEL_3e3afd14a3194f02bc0d6a4d6084b27a"
      }
     },
     "bcc948f6d28e414f99b944df65ce3a18": {
      "model_module": "@jupyter-widgets/controls",
      "model_module_version": "2.0.0",
      "model_name": "HTMLModel",
      "state": {
       "layout": "IPY_MODEL_47e716eae35847c6aab644bbf72157d3",
       "style": "IPY_MODEL_394a9200875f451cae514ca6c2b6c3b4",
       "value": "  0%"
      }
     },
     "bcd2dc2d9c2a4bc1a0a5fec826500392": {
      "model_module": "@jupyter-widgets/controls",
      "model_module_version": "2.0.0",
      "model_name": "HTMLModel",
      "state": {
       "layout": "IPY_MODEL_ac00ac37000942cfa7f7df39f0a0065c",
       "style": "IPY_MODEL_b83b0efe6e50437b8fa2125a166529ee",
       "value": " 0/474 [00:00&lt;?, ?it/s]"
      }
     },
     "bcd8555e25764ae29d929240bae98fed": {
      "model_module": "@jupyter-widgets/controls",
      "model_module_version": "2.0.0",
      "model_name": "HTMLModel",
      "state": {
       "layout": "IPY_MODEL_e07c92d205664822ba0429d1493d0467",
       "style": "IPY_MODEL_92a07338cc3a429ba385470ae7e3ed09",
       "value": " 0/512 [00:00&lt;?, ?it/s]"
      }
     },
     "bd53b85748b042d39e76550bd1f88de7": {
      "model_module": "@jupyter-widgets/controls",
      "model_module_version": "2.0.0",
      "model_name": "HTMLStyleModel",
      "state": {
       "description_width": "",
       "font_size": null,
       "text_color": null
      }
     },
     "bdf7a429e99049f48df0440402b50eb8": {
      "model_module": "@jupyter-widgets/controls",
      "model_module_version": "2.0.0",
      "model_name": "HTMLModel",
      "state": {
       "layout": "IPY_MODEL_1b635c10754b43c8ae3491e16728231b",
       "style": "IPY_MODEL_eaf9bf258c294b2a8f952e0cc0f6f245",
       "value": " 0/582 [00:00&lt;?, ?it/s]"
      }
     },
     "be86a0a9975f4c0ab74d45ab8d851d2a": {
      "model_module": "@jupyter-widgets/controls",
      "model_module_version": "2.0.0",
      "model_name": "HTMLStyleModel",
      "state": {
       "description_width": "",
       "font_size": null,
       "text_color": null
      }
     },
     "bed38577a35b450a8b9880626967d2e4": {
      "model_module": "@jupyter-widgets/controls",
      "model_module_version": "2.0.0",
      "model_name": "HTMLStyleModel",
      "state": {
       "description_width": "",
       "font_size": null,
       "text_color": null
      }
     },
     "bee1635362354a0a928086c3d8835358": {
      "model_module": "@jupyter-widgets/controls",
      "model_module_version": "2.0.0",
      "model_name": "HTMLModel",
      "state": {
       "layout": "IPY_MODEL_aa18202d30814083a051e4d04ff4fdc8",
       "style": "IPY_MODEL_8d949953d0a149cb8b43dfb693cb7198",
       "value": "  0%"
      }
     },
     "bf00654e24a947a7beeac4982bfada7c": {
      "model_module": "@jupyter-widgets/controls",
      "model_module_version": "2.0.0",
      "model_name": "ProgressStyleModel",
      "state": {
       "description_width": ""
      }
     },
     "bf636121740044a69454809c1d488256": {
      "model_module": "@jupyter-widgets/controls",
      "model_module_version": "2.0.0",
      "model_name": "HTMLStyleModel",
      "state": {
       "description_width": "",
       "font_size": null,
       "text_color": null
      }
     },
     "bfd809525560470792fc3526714cd25e": {
      "model_module": "@jupyter-widgets/controls",
      "model_module_version": "2.0.0",
      "model_name": "HTMLStyleModel",
      "state": {
       "description_width": "",
       "font_size": null,
       "text_color": null
      }
     },
     "bff0a28cba234f318bcfac953af5e451": {
      "model_module": "@jupyter-widgets/controls",
      "model_module_version": "2.0.0",
      "model_name": "HBoxModel",
      "state": {
       "children": [
        "IPY_MODEL_10e8d96a677e4b0f8d30354f1032d0e2",
        "IPY_MODEL_41afb28d4b5349809335e15e1a2225f8",
        "IPY_MODEL_8707d62599e14dccaf3cc2e0323f0f5b"
       ],
       "layout": "IPY_MODEL_0eb112e7e50848159e93722fcf2a2040"
      }
     },
     "c03779c3208747f49ba4c2e9ed4b236e": {
      "model_module": "@jupyter-widgets/controls",
      "model_module_version": "2.0.0",
      "model_name": "HTMLStyleModel",
      "state": {
       "description_width": "",
       "font_size": null,
       "text_color": null
      }
     },
     "c0a0dc53185143dc99d99695bc93ffbc": {
      "model_module": "@jupyter-widgets/controls",
      "model_module_version": "2.0.0",
      "model_name": "HBoxModel",
      "state": {
       "children": [
        "IPY_MODEL_3c27916543fb4fb284d0bcf7485ccd86",
        "IPY_MODEL_c665469bd8304f9cb07714a4602b2b77",
        "IPY_MODEL_e478d472c85149de85d676a180eca12b"
       ],
       "layout": "IPY_MODEL_b30d9e37cdb447a3bdf256e4d88110be"
      }
     },
     "c0d608b59df14c6d8d4b184f084931b4": {
      "model_module": "@jupyter-widgets/controls",
      "model_module_version": "2.0.0",
      "model_name": "HTMLModel",
      "state": {
       "layout": "IPY_MODEL_10f5ae7a2b704203bce46d1862e0236d",
       "style": "IPY_MODEL_fe74237ba7394406bcc647e714c1ad80",
       "value": "  0%"
      }
     },
     "c12f1fec2a1642a2951bfd9d05195088": {
      "model_module": "@jupyter-widgets/controls",
      "model_module_version": "2.0.0",
      "model_name": "FloatProgressModel",
      "state": {
       "bar_style": "success",
       "layout": "IPY_MODEL_236e4d6d132d4824a64e4fc8ba084d43",
       "max": 401,
       "style": "IPY_MODEL_3a14488e6f6c40b98b0a6032f05373f8",
       "value": 401
      }
     },
     "c17ed1946a8643ce921a5dbb2597c5c0": {
      "model_module": "@jupyter-widgets/controls",
      "model_module_version": "2.0.0",
      "model_name": "HBoxModel",
      "state": {
       "children": [
        "IPY_MODEL_a93b6df317be4e33b90996e92d7bf56a",
        "IPY_MODEL_70bbbfa07c9047da807cc14f4dbf65b6",
        "IPY_MODEL_231c96dc96134fe5874503b9d7112b5e"
       ],
       "layout": "IPY_MODEL_a1250830d43f49cb819d7923edeb087b"
      }
     },
     "c18cd8b6069e4fda917ab388fa8895a2": {
      "model_module": "@jupyter-widgets/controls",
      "model_module_version": "2.0.0",
      "model_name": "HBoxModel",
      "state": {
       "children": [
        "IPY_MODEL_89f9e7dd020c461b886d2b7b4cffce47",
        "IPY_MODEL_ead8098aafb0409aba5a239a42347e41",
        "IPY_MODEL_6145d3bd382149fa869910549612296e"
       ],
       "layout": "IPY_MODEL_7d2713095f6349128acf1ce110335100"
      }
     },
     "c18f90a9340c40c891761d3610dd9afb": {
      "model_module": "@jupyter-widgets/base",
      "model_module_version": "2.0.0",
      "model_name": "LayoutModel",
      "state": {}
     },
     "c1b652695bc847e98cab3aaad40aec61": {
      "model_module": "@jupyter-widgets/controls",
      "model_module_version": "2.0.0",
      "model_name": "HTMLModel",
      "state": {
       "layout": "IPY_MODEL_c4ef35f8c17749dc96c936a7cc6973f8",
       "style": "IPY_MODEL_e00621cdc9fe4ea9a6154e5f4cd4dc83",
       "value": "  0%"
      }
     },
     "c1e95cf7e5954a00bd47ff36695828f6": {
      "model_module": "@jupyter-widgets/controls",
      "model_module_version": "2.0.0",
      "model_name": "HTMLModel",
      "state": {
       "layout": "IPY_MODEL_b3cb2d3446934e45bc74ace32d01a84d",
       "style": "IPY_MODEL_2c510208f3bb44ed87de98a3b0896a2e",
       "value": " 0/437 [00:00&lt;?, ?it/s]"
      }
     },
     "c214a03968bc48129ce0dd5702d23901": {
      "model_module": "@jupyter-widgets/controls",
      "model_module_version": "2.0.0",
      "model_name": "HTMLStyleModel",
      "state": {
       "description_width": "",
       "font_size": null,
       "text_color": null
      }
     },
     "c2800327043c45b5aee95cbba203ab99": {
      "model_module": "@jupyter-widgets/base",
      "model_module_version": "2.0.0",
      "model_name": "LayoutModel",
      "state": {}
     },
     "c28218b29ef649ceb54693affca63583": {
      "model_module": "@jupyter-widgets/base",
      "model_module_version": "2.0.0",
      "model_name": "LayoutModel",
      "state": {}
     },
     "c2d24beac2c940c69db60599dcacfa1a": {
      "model_module": "@jupyter-widgets/controls",
      "model_module_version": "2.0.0",
      "model_name": "HTMLStyleModel",
      "state": {
       "description_width": "",
       "font_size": null,
       "text_color": null
      }
     },
     "c32d974baed84616b714db257ea8f5c0": {
      "model_module": "@jupyter-widgets/controls",
      "model_module_version": "2.0.0",
      "model_name": "ProgressStyleModel",
      "state": {
       "description_width": ""
      }
     },
     "c34d41ec5fe14f04a591919fc81f686d": {
      "model_module": "@jupyter-widgets/controls",
      "model_module_version": "2.0.0",
      "model_name": "ProgressStyleModel",
      "state": {
       "description_width": ""
      }
     },
     "c35622a6687240efb1ada6be21625703": {
      "model_module": "@jupyter-widgets/base",
      "model_module_version": "2.0.0",
      "model_name": "LayoutModel",
      "state": {}
     },
     "c362971f65764fc49b53e55f58ec9d66": {
      "model_module": "@jupyter-widgets/controls",
      "model_module_version": "2.0.0",
      "model_name": "FloatProgressModel",
      "state": {
       "bar_style": "danger",
       "layout": "IPY_MODEL_b8b2f4aa19f644728165cc1f4c7f29c5",
       "max": 582,
       "style": "IPY_MODEL_22613ab514834dc99c5034ebe3b7aef3"
      }
     },
     "c3a7c1fc3e734bb8be0ed39c5a0aa8fe": {
      "model_module": "@jupyter-widgets/controls",
      "model_module_version": "2.0.0",
      "model_name": "HTMLModel",
      "state": {
       "layout": "IPY_MODEL_3838bd5afb024736a0e0a721e2dffde6",
       "style": "IPY_MODEL_c6feab080ecf4f3eaff289a615337091",
       "value": "100%"
      }
     },
     "c3c0b5d155f5403781dddede15c7d36a": {
      "model_module": "@jupyter-widgets/base",
      "model_module_version": "2.0.0",
      "model_name": "LayoutModel",
      "state": {}
     },
     "c3cee6fcc4894e5085ce78549feb9177": {
      "model_module": "@jupyter-widgets/controls",
      "model_module_version": "2.0.0",
      "model_name": "HBoxModel",
      "state": {
       "children": [
        "IPY_MODEL_2bce5229b0dc405caffd6489e3faf44a",
        "IPY_MODEL_ab45fa2e2208430d920ce42fba87d06b",
        "IPY_MODEL_756d2801499748a3b9c1b28de5e8fe59"
       ],
       "layout": "IPY_MODEL_728042a56ea44a698b26d8e68fb4d8a9"
      }
     },
     "c3e45ccb867e41ee9cf5fed3034e1a6f": {
      "model_module": "@jupyter-widgets/base",
      "model_module_version": "2.0.0",
      "model_name": "LayoutModel",
      "state": {}
     },
     "c40fd2121a484ff581cada1c37f1ef82": {
      "model_module": "@jupyter-widgets/controls",
      "model_module_version": "2.0.0",
      "model_name": "HTMLStyleModel",
      "state": {
       "description_width": "",
       "font_size": null,
       "text_color": null
      }
     },
     "c41796b72b71431c85bf5e9f3babe45a": {
      "model_module": "@jupyter-widgets/controls",
      "model_module_version": "2.0.0",
      "model_name": "HTMLStyleModel",
      "state": {
       "description_width": "",
       "font_size": null,
       "text_color": null
      }
     },
     "c430c0fe2a6a4f45a6b15cf6a6266c70": {
      "model_module": "@jupyter-widgets/controls",
      "model_module_version": "2.0.0",
      "model_name": "HBoxModel",
      "state": {
       "children": [
        "IPY_MODEL_5b61b1196f8048afa66883890abbb165",
        "IPY_MODEL_fe48a4d600ff44c9a4030cad883aee02",
        "IPY_MODEL_9f77ffeaf427461e9a64ff2c023eb837"
       ],
       "layout": "IPY_MODEL_1569e3c605164471b271b233018b6edf"
      }
     },
     "c4443b24e7114bafb375fa9e6b154af8": {
      "model_module": "@jupyter-widgets/base",
      "model_module_version": "2.0.0",
      "model_name": "LayoutModel",
      "state": {}
     },
     "c446d15d6a144c62842004e5caaa6adc": {
      "model_module": "@jupyter-widgets/base",
      "model_module_version": "2.0.0",
      "model_name": "LayoutModel",
      "state": {}
     },
     "c44b5da294474b3fa20be029d1bbf2c6": {
      "model_module": "@jupyter-widgets/controls",
      "model_module_version": "2.0.0",
      "model_name": "HTMLStyleModel",
      "state": {
       "description_width": "",
       "font_size": null,
       "text_color": null
      }
     },
     "c45ca52bf5c04cbca051c901cf144808": {
      "model_module": "@jupyter-widgets/controls",
      "model_module_version": "2.0.0",
      "model_name": "ProgressStyleModel",
      "state": {
       "description_width": ""
      }
     },
     "c4cda841c69a4c8abfdc040c912051a0": {
      "model_module": "@jupyter-widgets/controls",
      "model_module_version": "2.0.0",
      "model_name": "ProgressStyleModel",
      "state": {
       "description_width": ""
      }
     },
     "c4d652c26a234b6c8e4b07f193364a0d": {
      "model_module": "@jupyter-widgets/controls",
      "model_module_version": "2.0.0",
      "model_name": "HTMLStyleModel",
      "state": {
       "description_width": "",
       "font_size": null,
       "text_color": null
      }
     },
     "c4ef35f8c17749dc96c936a7cc6973f8": {
      "model_module": "@jupyter-widgets/base",
      "model_module_version": "2.0.0",
      "model_name": "LayoutModel",
      "state": {}
     },
     "c50f535460ca43a9951a7c330950385f": {
      "model_module": "@jupyter-widgets/controls",
      "model_module_version": "2.0.0",
      "model_name": "HTMLStyleModel",
      "state": {
       "description_width": "",
       "font_size": null,
       "text_color": null
      }
     },
     "c52ca850e58c4ac4b964f1cd3cc551d1": {
      "model_module": "@jupyter-widgets/controls",
      "model_module_version": "2.0.0",
      "model_name": "HTMLStyleModel",
      "state": {
       "description_width": "",
       "font_size": null,
       "text_color": null
      }
     },
     "c59e165a9f504db9b505d38c5bcd2595": {
      "model_module": "@jupyter-widgets/base",
      "model_module_version": "2.0.0",
      "model_name": "LayoutModel",
      "state": {}
     },
     "c5b01dcc37124116b16530e077ad6d97": {
      "model_module": "@jupyter-widgets/controls",
      "model_module_version": "2.0.0",
      "model_name": "HBoxModel",
      "state": {
       "children": [
        "IPY_MODEL_647313d9f6f448dbb8f6842b5947cf0a",
        "IPY_MODEL_4bcabd7ba255424eab0ada488be2d345",
        "IPY_MODEL_9427f41ad258442a8aafbc8bb2053a32"
       ],
       "layout": "IPY_MODEL_d98a8b12e93b41be9733706cf2a42c8a"
      }
     },
     "c609639a42fa487a888191becba4850e": {
      "model_module": "@jupyter-widgets/controls",
      "model_module_version": "2.0.0",
      "model_name": "FloatProgressModel",
      "state": {
       "bar_style": "danger",
       "layout": "IPY_MODEL_e9c49e823f954777b05013882be066b2",
       "max": 516,
       "style": "IPY_MODEL_d1d3fa427c4e415586cc527277edb0ca"
      }
     },
     "c62d905c1027433aa7f2f1bca7f01747": {
      "model_module": "@jupyter-widgets/controls",
      "model_module_version": "2.0.0",
      "model_name": "HTMLModel",
      "state": {
       "layout": "IPY_MODEL_c9c2653174ad47aab2e26235a9177055",
       "style": "IPY_MODEL_7f858b64004648e0a7441242fef9d81f",
       "value": "  0%"
      }
     },
     "c6361e03bc694bde83fb1ed8ac5b4fa9": {
      "model_module": "@jupyter-widgets/base",
      "model_module_version": "2.0.0",
      "model_name": "LayoutModel",
      "state": {}
     },
     "c63f327b903e46efa707d44d25fc5d2c": {
      "model_module": "@jupyter-widgets/controls",
      "model_module_version": "2.0.0",
      "model_name": "FloatProgressModel",
      "state": {
       "bar_style": "danger",
       "layout": "IPY_MODEL_a0abb7b36dcc4b8e98259a94835e4cae",
       "max": 693,
       "style": "IPY_MODEL_c34d41ec5fe14f04a591919fc81f686d"
      }
     },
     "c6484bf80eb4445a83d0fbda39d96c76": {
      "model_module": "@jupyter-widgets/controls",
      "model_module_version": "2.0.0",
      "model_name": "HBoxModel",
      "state": {
       "children": [
        "IPY_MODEL_64c046df2e094db1afc69908a434fc4e",
        "IPY_MODEL_493389b3528244f2b0ebc66aa95fa8bd",
        "IPY_MODEL_21b43777f1d2482aaa9680773a24082d"
       ],
       "layout": "IPY_MODEL_b998172e000c419e9ad923518881ccb4"
      }
     },
     "c665469bd8304f9cb07714a4602b2b77": {
      "model_module": "@jupyter-widgets/controls",
      "model_module_version": "2.0.0",
      "model_name": "FloatProgressModel",
      "state": {
       "bar_style": "danger",
       "layout": "IPY_MODEL_88de78c788514d59994d620e36359ce1",
       "max": 630,
       "style": "IPY_MODEL_2cc07698bb884baca4a934164d803c07"
      }
     },
     "c66e490602624ea4bcd56b2254719d48": {
      "model_module": "@jupyter-widgets/base",
      "model_module_version": "2.0.0",
      "model_name": "LayoutModel",
      "state": {}
     },
     "c683c5aae1034d9dbb5d7758c28c2836": {
      "model_module": "@jupyter-widgets/controls",
      "model_module_version": "2.0.0",
      "model_name": "HTMLStyleModel",
      "state": {
       "description_width": "",
       "font_size": null,
       "text_color": null
      }
     },
     "c6eec580b2ea49de9aa377281e24389a": {
      "model_module": "@jupyter-widgets/controls",
      "model_module_version": "2.0.0",
      "model_name": "HTMLModel",
      "state": {
       "layout": "IPY_MODEL_17b643581c504bfdbc51441c0960d519",
       "style": "IPY_MODEL_bb5e683459414e3a92bf5c45d50f9f6e",
       "value": "  0%"
      }
     },
     "c6f1af42119949e8b1f24570dc615e6d": {
      "model_module": "@jupyter-widgets/controls",
      "model_module_version": "2.0.0",
      "model_name": "ProgressStyleModel",
      "state": {
       "description_width": ""
      }
     },
     "c6fdd3181a6141babcccea54cfa3b15c": {
      "model_module": "@jupyter-widgets/controls",
      "model_module_version": "2.0.0",
      "model_name": "HTMLStyleModel",
      "state": {
       "description_width": "",
       "font_size": null,
       "text_color": null
      }
     },
     "c6feab080ecf4f3eaff289a615337091": {
      "model_module": "@jupyter-widgets/controls",
      "model_module_version": "2.0.0",
      "model_name": "HTMLStyleModel",
      "state": {
       "description_width": "",
       "font_size": null,
       "text_color": null
      }
     },
     "c710802d246748d5ae2d7f2e04f7dc10": {
      "model_module": "@jupyter-widgets/base",
      "model_module_version": "2.0.0",
      "model_name": "LayoutModel",
      "state": {}
     },
     "c73cf09766944324bbf766863bcdaa2c": {
      "model_module": "@jupyter-widgets/controls",
      "model_module_version": "2.0.0",
      "model_name": "HTMLStyleModel",
      "state": {
       "description_width": "",
       "font_size": null,
       "text_color": null
      }
     },
     "c76db08900124de8b7497077b88c1a29": {
      "model_module": "@jupyter-widgets/controls",
      "model_module_version": "2.0.0",
      "model_name": "HTMLStyleModel",
      "state": {
       "description_width": "",
       "font_size": null,
       "text_color": null
      }
     },
     "c7920e1bff204e9bb57e4091f0afcefe": {
      "model_module": "@jupyter-widgets/controls",
      "model_module_version": "2.0.0",
      "model_name": "FloatProgressModel",
      "state": {
       "bar_style": "success",
       "layout": "IPY_MODEL_d0e77cec9323448499015a8d8c41696c",
       "max": 492,
       "style": "IPY_MODEL_0c95bec8aa584ef081a880c8b47da165",
       "value": 492
      }
     },
     "c7a5e9eba9984b00a7320a70de0d52cd": {
      "model_module": "@jupyter-widgets/controls",
      "model_module_version": "2.0.0",
      "model_name": "HTMLModel",
      "state": {
       "layout": "IPY_MODEL_e2285c3e7ef04e75a004e1a12d9f816c",
       "style": "IPY_MODEL_08678fe7132847c89fce718248a81eef",
       "value": " 0/465 [00:00&lt;?, ?it/s]"
      }
     },
     "c7f20b7932b34bfe9106d5bafd184b90": {
      "model_module": "@jupyter-widgets/controls",
      "model_module_version": "2.0.0",
      "model_name": "HTMLStyleModel",
      "state": {
       "description_width": "",
       "font_size": null,
       "text_color": null
      }
     },
     "c86021d262ed452491e256f95da970d9": {
      "model_module": "@jupyter-widgets/controls",
      "model_module_version": "2.0.0",
      "model_name": "FloatProgressModel",
      "state": {
       "bar_style": "danger",
       "layout": "IPY_MODEL_50f404636328430d88124aa14202b7a8",
       "max": 720,
       "style": "IPY_MODEL_2bd48bff03cc43cbbdeea1b9c887a35a"
      }
     },
     "c86804c1904748309e07bf9b696aabfe": {
      "model_module": "@jupyter-widgets/base",
      "model_module_version": "2.0.0",
      "model_name": "LayoutModel",
      "state": {}
     },
     "c872b6018de847f8922aa1e554fc2de4": {
      "model_module": "@jupyter-widgets/base",
      "model_module_version": "2.0.0",
      "model_name": "LayoutModel",
      "state": {}
     },
     "c92ad2025f89418dab6fef7a5488005b": {
      "model_module": "@jupyter-widgets/controls",
      "model_module_version": "2.0.0",
      "model_name": "FloatProgressModel",
      "state": {
       "bar_style": "danger",
       "layout": "IPY_MODEL_a5a1086b8c8e460c8af925cda1d9ea81",
       "max": 601,
       "style": "IPY_MODEL_435dcea521734bc489fe797b9f99b3b1"
      }
     },
     "c98b0e4d00ea44cc86050151889bb0aa": {
      "model_module": "@jupyter-widgets/controls",
      "model_module_version": "2.0.0",
      "model_name": "HTMLModel",
      "state": {
       "layout": "IPY_MODEL_f4e9c3ab75134c5c900eb6acc5fc7e8a",
       "style": "IPY_MODEL_d80e5811445940feb35bda4a79c294f9",
       "value": " 0/582 [00:00&lt;?, ?it/s]"
      }
     },
     "c98e2a5a91bb48bfbe386332749ad70b": {
      "model_module": "@jupyter-widgets/base",
      "model_module_version": "2.0.0",
      "model_name": "LayoutModel",
      "state": {}
     },
     "c9c2653174ad47aab2e26235a9177055": {
      "model_module": "@jupyter-widgets/base",
      "model_module_version": "2.0.0",
      "model_name": "LayoutModel",
      "state": {}
     },
     "ca000c457c2a4ad5a6cac7efb9a71962": {
      "model_module": "@jupyter-widgets/controls",
      "model_module_version": "2.0.0",
      "model_name": "ProgressStyleModel",
      "state": {
       "description_width": ""
      }
     },
     "ca1afe75fed345c79f93bed1312c0861": {
      "model_module": "@jupyter-widgets/base",
      "model_module_version": "2.0.0",
      "model_name": "LayoutModel",
      "state": {}
     },
     "ca585859fce94007b174054465be99be": {
      "model_module": "@jupyter-widgets/controls",
      "model_module_version": "2.0.0",
      "model_name": "HBoxModel",
      "state": {
       "children": [
        "IPY_MODEL_54fefc77e1eb48478da2c905691f79e0",
        "IPY_MODEL_1b7b77a6c0f941aeaa2e8f5e0069b6be",
        "IPY_MODEL_0b6c3ffe5b234283a094c47be518f51e"
       ],
       "layout": "IPY_MODEL_3b264d7ccf9042d8bbf452f6f36ba752"
      }
     },
     "ca5ee4eee0294cb7a7fcb7f14e7ed7b3": {
      "model_module": "@jupyter-widgets/controls",
      "model_module_version": "2.0.0",
      "model_name": "HTMLStyleModel",
      "state": {
       "description_width": "",
       "font_size": null,
       "text_color": null
      }
     },
     "caa9cfaa4ab849169a86b4ca0dd53dbb": {
      "model_module": "@jupyter-widgets/base",
      "model_module_version": "2.0.0",
      "model_name": "LayoutModel",
      "state": {}
     },
     "cab67070dad6441da06b3ed2b28de84f": {
      "model_module": "@jupyter-widgets/base",
      "model_module_version": "2.0.0",
      "model_name": "LayoutModel",
      "state": {}
     },
     "cae12318ce364b21b3130903933feec7": {
      "model_module": "@jupyter-widgets/base",
      "model_module_version": "2.0.0",
      "model_name": "LayoutModel",
      "state": {}
     },
     "cb0c242efa26416db2bbebc0716081c8": {
      "model_module": "@jupyter-widgets/controls",
      "model_module_version": "2.0.0",
      "model_name": "HTMLStyleModel",
      "state": {
       "description_width": "",
       "font_size": null,
       "text_color": null
      }
     },
     "cb0decf7db414e8a98e42a95ea78a8d5": {
      "model_module": "@jupyter-widgets/base",
      "model_module_version": "2.0.0",
      "model_name": "LayoutModel",
      "state": {}
     },
     "cb12be512fae46a4b552d7990b484c6f": {
      "model_module": "@jupyter-widgets/controls",
      "model_module_version": "2.0.0",
      "model_name": "HTMLModel",
      "state": {
       "layout": "IPY_MODEL_02a0a24eacc04e8ba470991efecebb4d",
       "style": "IPY_MODEL_1bb3430deb784a2b980c461dd1ca6bf8",
       "value": "  0%"
      }
     },
     "cb43052f57b04e6d81cb7a00e11fa0c5": {
      "model_module": "@jupyter-widgets/base",
      "model_module_version": "2.0.0",
      "model_name": "LayoutModel",
      "state": {}
     },
     "cbabdee61c2f403eb13ffb1cb9b8d92c": {
      "model_module": "@jupyter-widgets/controls",
      "model_module_version": "2.0.0",
      "model_name": "HTMLStyleModel",
      "state": {
       "description_width": "",
       "font_size": null,
       "text_color": null
      }
     },
     "cbfd6f08947b4ab0a4827d1dd3406e7d": {
      "model_module": "@jupyter-widgets/controls",
      "model_module_version": "2.0.0",
      "model_name": "HTMLModel",
      "state": {
       "layout": "IPY_MODEL_d425334afd314b098f4cc1e8a68d684d",
       "style": "IPY_MODEL_d946c04d5aa0474e9538171cb068817f",
       "value": "  0%"
      }
     },
     "cc05d298206d4d608c704f37f24e1e53": {
      "model_module": "@jupyter-widgets/controls",
      "model_module_version": "2.0.0",
      "model_name": "ProgressStyleModel",
      "state": {
       "description_width": ""
      }
     },
     "cc913e73888f4beaa4f4c948712ab6de": {
      "model_module": "@jupyter-widgets/controls",
      "model_module_version": "2.0.0",
      "model_name": "HTMLModel",
      "state": {
       "layout": "IPY_MODEL_23f6af2c1eeb4d21b9a4550c94fbc2ee",
       "style": "IPY_MODEL_05bad267009c4ea58b2830e61a3ed4a4",
       "value": " 0/703 [00:00&lt;?, ?it/s]"
      }
     },
     "cc9628d361e044669267ff68c1547fec": {
      "model_module": "@jupyter-widgets/controls",
      "model_module_version": "2.0.0",
      "model_name": "ProgressStyleModel",
      "state": {
       "description_width": ""
      }
     },
     "cca05a5f87b5459a8b9528801eac5352": {
      "model_module": "@jupyter-widgets/controls",
      "model_module_version": "2.0.0",
      "model_name": "HBoxModel",
      "state": {
       "children": [
        "IPY_MODEL_a2786f61da984655aa077dd3ad8c5035",
        "IPY_MODEL_702fcc727a424642bf791dce50be8136",
        "IPY_MODEL_8d3abce16d3d46f69b17f668bf2bc650"
       ],
       "layout": "IPY_MODEL_ac6bb91c6dcb4203b881a02f192b14f6"
      }
     },
     "ccb6045ce4b04882b0071dc48a0a1740": {
      "model_module": "@jupyter-widgets/controls",
      "model_module_version": "2.0.0",
      "model_name": "HTMLStyleModel",
      "state": {
       "description_width": "",
       "font_size": null,
       "text_color": null
      }
     },
     "cd034267af8b4d2b8e7a33626ec4956d": {
      "model_module": "@jupyter-widgets/base",
      "model_module_version": "2.0.0",
      "model_name": "LayoutModel",
      "state": {}
     },
     "cd08c9e947ad4d8085f4e096d398a0ac": {
      "model_module": "@jupyter-widgets/base",
      "model_module_version": "2.0.0",
      "model_name": "LayoutModel",
      "state": {}
     },
     "cd719dac0acd4e4ea26c71237a6df078": {
      "model_module": "@jupyter-widgets/controls",
      "model_module_version": "2.0.0",
      "model_name": "FloatProgressModel",
      "state": {
       "bar_style": "success",
       "layout": "IPY_MODEL_381f19629f9047b48b91efbb89036c9f",
       "max": 118,
       "style": "IPY_MODEL_dea81c78ceab485f8625e1b2051d2f91",
       "value": 118
      }
     },
     "cd71bb613b9d400f90555220660c581a": {
      "model_module": "@jupyter-widgets/controls",
      "model_module_version": "2.0.0",
      "model_name": "HTMLModel",
      "state": {
       "layout": "IPY_MODEL_9f35ec0359624c02a0ffcb9a014e4cdc",
       "style": "IPY_MODEL_7988f34ff6d84355a9f4c3205ad43fb3",
       "value": " 491/491 [00:10&lt;00:00, 53.39it/s]"
      }
     },
     "ce6aa1c793fa49f898eded9b1edbb39c": {
      "model_module": "@jupyter-widgets/controls",
      "model_module_version": "2.0.0",
      "model_name": "HTMLModel",
      "state": {
       "layout": "IPY_MODEL_005e406ef74c41cc89484a8749f30f66",
       "style": "IPY_MODEL_71bf12375da245cbae6118e0cff36cef",
       "value": " 0/698 [00:00&lt;?, ?it/s]"
      }
     },
     "ce7a3dc1e4d942dca78c762c69240766": {
      "model_module": "@jupyter-widgets/controls",
      "model_module_version": "2.0.0",
      "model_name": "HTMLStyleModel",
      "state": {
       "description_width": "",
       "font_size": null,
       "text_color": null
      }
     },
     "cebdd4ed54224432a0be598229247c93": {
      "model_module": "@jupyter-widgets/base",
      "model_module_version": "2.0.0",
      "model_name": "LayoutModel",
      "state": {}
     },
     "cf423955b53048e3b3d4531dab248a29": {
      "model_module": "@jupyter-widgets/controls",
      "model_module_version": "2.0.0",
      "model_name": "ProgressStyleModel",
      "state": {
       "description_width": ""
      }
     },
     "cf66ff699caf48fba0364ed8105f9ef9": {
      "model_module": "@jupyter-widgets/controls",
      "model_module_version": "2.0.0",
      "model_name": "HTMLModel",
      "state": {
       "layout": "IPY_MODEL_5c10fe9c8c224fed80c2b34038586106",
       "style": "IPY_MODEL_0b0001ced61c4f8babbbbd50133b3c5b",
       "value": "100%"
      }
     },
     "cf8ff0747782479e9a77375a1343bf17": {
      "model_module": "@jupyter-widgets/controls",
      "model_module_version": "2.0.0",
      "model_name": "HBoxModel",
      "state": {
       "children": [
        "IPY_MODEL_c62d905c1027433aa7f2f1bca7f01747",
        "IPY_MODEL_130c0380d91b40509d93e759297da39e",
        "IPY_MODEL_d50a82b7f35040c5930ea1803c1c565f"
       ],
       "layout": "IPY_MODEL_9306ac7cea8f46a2a37415523fafaf32"
      }
     },
     "cfad5f5b190b418f8b591e50a390cbbc": {
      "model_module": "@jupyter-widgets/controls",
      "model_module_version": "2.0.0",
      "model_name": "ProgressStyleModel",
      "state": {
       "description_width": ""
      }
     },
     "cfe34dca1b4d4d7cb42f0f7e5b45f9bf": {
      "model_module": "@jupyter-widgets/controls",
      "model_module_version": "2.0.0",
      "model_name": "HTMLModel",
      "state": {
       "layout": "IPY_MODEL_3fe6f8b30cb8441ea0fa85eb72aeee6e",
       "style": "IPY_MODEL_75182c945a6d41ce8cf679dba562a174",
       "value": "  0%"
      }
     },
     "cffe0e0987ca4936945f46a837d0686f": {
      "model_module": "@jupyter-widgets/controls",
      "model_module_version": "2.0.0",
      "model_name": "HTMLStyleModel",
      "state": {
       "description_width": "",
       "font_size": null,
       "text_color": null
      }
     },
     "d0465dd1c4854af5bf7cdb38e34b4cf6": {
      "model_module": "@jupyter-widgets/base",
      "model_module_version": "2.0.0",
      "model_name": "LayoutModel",
      "state": {}
     },
     "d05b88ccee3e4edfae0b0dc49a1c4b92": {
      "model_module": "@jupyter-widgets/base",
      "model_module_version": "2.0.0",
      "model_name": "LayoutModel",
      "state": {}
     },
     "d09985e1e7ef48519090650860893426": {
      "model_module": "@jupyter-widgets/base",
      "model_module_version": "2.0.0",
      "model_name": "LayoutModel",
      "state": {}
     },
     "d0e77cec9323448499015a8d8c41696c": {
      "model_module": "@jupyter-widgets/base",
      "model_module_version": "2.0.0",
      "model_name": "LayoutModel",
      "state": {}
     },
     "d0f20b7dbd11442db0bd8153ed246479": {
      "model_module": "@jupyter-widgets/base",
      "model_module_version": "2.0.0",
      "model_name": "LayoutModel",
      "state": {}
     },
     "d100dae152214e36b474a64c9427578a": {
      "model_module": "@jupyter-widgets/controls",
      "model_module_version": "2.0.0",
      "model_name": "HTMLStyleModel",
      "state": {
       "description_width": "",
       "font_size": null,
       "text_color": null
      }
     },
     "d11e1bb7710649268a9421a9e9bdca64": {
      "model_module": "@jupyter-widgets/controls",
      "model_module_version": "2.0.0",
      "model_name": "ProgressStyleModel",
      "state": {
       "description_width": ""
      }
     },
     "d15380339f40436fbd34ff783825a268": {
      "model_module": "@jupyter-widgets/base",
      "model_module_version": "2.0.0",
      "model_name": "LayoutModel",
      "state": {}
     },
     "d1571b3ca8494d20a58d951a10171c32": {
      "model_module": "@jupyter-widgets/controls",
      "model_module_version": "2.0.0",
      "model_name": "HBoxModel",
      "state": {
       "children": [
        "IPY_MODEL_f2422202ab7843618dc2bc50c57d26b8",
        "IPY_MODEL_e581642a87b0440dbc8204d80e9a83c5",
        "IPY_MODEL_02e16a79a0b74a35bd6edcf9f4791560"
       ],
       "layout": "IPY_MODEL_86ede0df84f943d498765df6838cce49"
      }
     },
     "d169f9c197124d08b25ed350ff7cb7ed": {
      "model_module": "@jupyter-widgets/controls",
      "model_module_version": "2.0.0",
      "model_name": "FloatProgressModel",
      "state": {
       "bar_style": "danger",
       "layout": "IPY_MODEL_0e222df0a0ac474cb1c5d9b9d4d1d156",
       "max": 582,
       "style": "IPY_MODEL_125c50cb306b40cb974a7e4369ade782"
      }
     },
     "d16e0e6ea3824f41b9c1d34074f84d97": {
      "model_module": "@jupyter-widgets/controls",
      "model_module_version": "2.0.0",
      "model_name": "HTMLStyleModel",
      "state": {
       "description_width": "",
       "font_size": null,
       "text_color": null
      }
     },
     "d18df1bc9646418bb85850b21fb0829f": {
      "model_module": "@jupyter-widgets/controls",
      "model_module_version": "2.0.0",
      "model_name": "HTMLStyleModel",
      "state": {
       "description_width": "",
       "font_size": null,
       "text_color": null
      }
     },
     "d1a8202e59ba453a967428979995a08b": {
      "model_module": "@jupyter-widgets/base",
      "model_module_version": "2.0.0",
      "model_name": "LayoutModel",
      "state": {}
     },
     "d1ab3761b0614f188868f2cc58b9c660": {
      "model_module": "@jupyter-widgets/base",
      "model_module_version": "2.0.0",
      "model_name": "LayoutModel",
      "state": {}
     },
     "d1b6c73afac04656aff3afcb2996d91e": {
      "model_module": "@jupyter-widgets/controls",
      "model_module_version": "2.0.0",
      "model_name": "FloatProgressModel",
      "state": {
       "bar_style": "danger",
       "layout": "IPY_MODEL_b6d8c118d70f45a6b1122e51705b9979",
       "max": 527,
       "style": "IPY_MODEL_a3267bb773e34b66a63545a52c4793cd"
      }
     },
     "d1c63b0cac91423aacb501f18735354f": {
      "model_module": "@jupyter-widgets/controls",
      "model_module_version": "2.0.0",
      "model_name": "HTMLStyleModel",
      "state": {
       "description_width": "",
       "font_size": null,
       "text_color": null
      }
     },
     "d1d3fa427c4e415586cc527277edb0ca": {
      "model_module": "@jupyter-widgets/controls",
      "model_module_version": "2.0.0",
      "model_name": "ProgressStyleModel",
      "state": {
       "description_width": ""
      }
     },
     "d1e20a88506c4735b9fda0f9856bce5d": {
      "model_module": "@jupyter-widgets/controls",
      "model_module_version": "2.0.0",
      "model_name": "FloatProgressModel",
      "state": {
       "bar_style": "danger",
       "layout": "IPY_MODEL_650dbac690dc4baab0c56f10cf6ed71c",
       "max": 582,
       "style": "IPY_MODEL_0e832f00f80b4a1cba8e47766be8dbcd"
      }
     },
     "d253edd4907d48dfb5911f5a1cd00f20": {
      "model_module": "@jupyter-widgets/controls",
      "model_module_version": "2.0.0",
      "model_name": "HTMLStyleModel",
      "state": {
       "description_width": "",
       "font_size": null,
       "text_color": null
      }
     },
     "d2859405e38c42d0a398bb29e3701671": {
      "model_module": "@jupyter-widgets/controls",
      "model_module_version": "2.0.0",
      "model_name": "HTMLModel",
      "state": {
       "layout": "IPY_MODEL_3bfe8b45ecba4d189f638e450a18354d",
       "style": "IPY_MODEL_9c66fe0254bb429ea45bbea7ac4be80f",
       "value": " 0/722 [00:00&lt;?, ?it/s]"
      }
     },
     "d2a680e77794461183141225a3b5742b": {
      "model_module": "@jupyter-widgets/controls",
      "model_module_version": "2.0.0",
      "model_name": "HTMLStyleModel",
      "state": {
       "description_width": "",
       "font_size": null,
       "text_color": null
      }
     },
     "d2db61130b304bbf9a9663f7816b4cb7": {
      "model_module": "@jupyter-widgets/controls",
      "model_module_version": "2.0.0",
      "model_name": "HBoxModel",
      "state": {
       "children": [
        "IPY_MODEL_42a231d4ff0b43a7b456e33ec62ac753",
        "IPY_MODEL_6c98625c908245febcb8c2b7652eaa95",
        "IPY_MODEL_d37f1ad043b84fcda5fd5334ee49b070"
       ],
       "layout": "IPY_MODEL_530c28d082f34cb58834f979ec5637f6"
      }
     },
     "d31f8f04c4484a56b342b840320868dd": {
      "model_module": "@jupyter-widgets/controls",
      "model_module_version": "2.0.0",
      "model_name": "HTMLStyleModel",
      "state": {
       "description_width": "",
       "font_size": null,
       "text_color": null
      }
     },
     "d35d47531d0240b495c8af0aacfee9f0": {
      "model_module": "@jupyter-widgets/base",
      "model_module_version": "2.0.0",
      "model_name": "LayoutModel",
      "state": {}
     },
     "d36cd4279f3e4b9985d9d8e1c34ccf5e": {
      "model_module": "@jupyter-widgets/controls",
      "model_module_version": "2.0.0",
      "model_name": "HTMLStyleModel",
      "state": {
       "description_width": "",
       "font_size": null,
       "text_color": null
      }
     },
     "d37f1ad043b84fcda5fd5334ee49b070": {
      "model_module": "@jupyter-widgets/controls",
      "model_module_version": "2.0.0",
      "model_name": "HTMLModel",
      "state": {
       "layout": "IPY_MODEL_a28c60958ecc405f9781366fcf7ba59b",
       "style": "IPY_MODEL_034a3fff6e7043e89f9f921758806269",
       "value": " 118/118 [00:02&lt;00:00, 43.01it/s]"
      }
     },
     "d3bb725472404384a60d36cf5efe5d9d": {
      "model_module": "@jupyter-widgets/controls",
      "model_module_version": "2.0.0",
      "model_name": "FloatProgressModel",
      "state": {
       "bar_style": "danger",
       "layout": "IPY_MODEL_ecb3dbe50365494091080a58d0784b89",
       "max": 722,
       "style": "IPY_MODEL_cf423955b53048e3b3d4531dab248a29"
      }
     },
     "d3eb0a3af1904e3f91732da5059b1127": {
      "model_module": "@jupyter-widgets/controls",
      "model_module_version": "2.0.0",
      "model_name": "ProgressStyleModel",
      "state": {
       "description_width": ""
      }
     },
     "d425334afd314b098f4cc1e8a68d684d": {
      "model_module": "@jupyter-widgets/base",
      "model_module_version": "2.0.0",
      "model_name": "LayoutModel",
      "state": {}
     },
     "d4324ac3e4a64655955f822b81c35f09": {
      "model_module": "@jupyter-widgets/base",
      "model_module_version": "2.0.0",
      "model_name": "LayoutModel",
      "state": {}
     },
     "d43260950dbc408393eadc7f5dbea5a2": {
      "model_module": "@jupyter-widgets/base",
      "model_module_version": "2.0.0",
      "model_name": "LayoutModel",
      "state": {}
     },
     "d45eeadbd3a845868f4c300bb9126c5f": {
      "model_module": "@jupyter-widgets/controls",
      "model_module_version": "2.0.0",
      "model_name": "ProgressStyleModel",
      "state": {
       "description_width": ""
      }
     },
     "d48c4ad65c094f4387e6234f264deebe": {
      "model_module": "@jupyter-widgets/base",
      "model_module_version": "2.0.0",
      "model_name": "LayoutModel",
      "state": {}
     },
     "d4c9f95dbb264dc2881b3151302b4583": {
      "model_module": "@jupyter-widgets/base",
      "model_module_version": "2.0.0",
      "model_name": "LayoutModel",
      "state": {}
     },
     "d4ee3400317641e3a25905a31f4815da": {
      "model_module": "@jupyter-widgets/controls",
      "model_module_version": "2.0.0",
      "model_name": "FloatProgressModel",
      "state": {
       "bar_style": "danger",
       "layout": "IPY_MODEL_0763c4d6cc7d4550bee2d302b7099c6d",
       "max": 465,
       "style": "IPY_MODEL_a79788c75df14da897ec7a259a07dce0"
      }
     },
     "d4f336037f8946248d6732fdbefde46b": {
      "model_module": "@jupyter-widgets/controls",
      "model_module_version": "2.0.0",
      "model_name": "HTMLModel",
      "state": {
       "layout": "IPY_MODEL_4f17663c37a843ecb61c4a412bed8fea",
       "style": "IPY_MODEL_ead7ef31e99c459d914bfd19c8853411",
       "value": "  0%"
      }
     },
     "d50a82b7f35040c5930ea1803c1c565f": {
      "model_module": "@jupyter-widgets/controls",
      "model_module_version": "2.0.0",
      "model_name": "HTMLModel",
      "state": {
       "layout": "IPY_MODEL_71c13fca01d34b73b9a2de64d1f51455",
       "style": "IPY_MODEL_f83c1028155242768f585e7ebc8cd752",
       "value": " 0/639 [00:00&lt;?, ?it/s]"
      }
     },
     "d5381c12916840b29740b639ec687a9f": {
      "model_module": "@jupyter-widgets/base",
      "model_module_version": "2.0.0",
      "model_name": "LayoutModel",
      "state": {}
     },
     "d54e202da16943098d901f8d462054b5": {
      "model_module": "@jupyter-widgets/controls",
      "model_module_version": "2.0.0",
      "model_name": "ProgressStyleModel",
      "state": {
       "description_width": ""
      }
     },
     "d5f8f9cb12454833ae38fc48163c4639": {
      "model_module": "@jupyter-widgets/base",
      "model_module_version": "2.0.0",
      "model_name": "LayoutModel",
      "state": {}
     },
     "d62cb26e5d164c669694309c4fa32b19": {
      "model_module": "@jupyter-widgets/base",
      "model_module_version": "2.0.0",
      "model_name": "LayoutModel",
      "state": {}
     },
     "d63eb6c38c354802a8523a5162e79a85": {
      "model_module": "@jupyter-widgets/controls",
      "model_module_version": "2.0.0",
      "model_name": "ProgressStyleModel",
      "state": {
       "description_width": ""
      }
     },
     "d67e4f361c024bf38d98bb833305e7da": {
      "model_module": "@jupyter-widgets/controls",
      "model_module_version": "2.0.0",
      "model_name": "HTMLStyleModel",
      "state": {
       "description_width": "",
       "font_size": null,
       "text_color": null
      }
     },
     "d6d80024a19d4bf9823a196eb1313a80": {
      "model_module": "@jupyter-widgets/controls",
      "model_module_version": "2.0.0",
      "model_name": "HTMLStyleModel",
      "state": {
       "description_width": "",
       "font_size": null,
       "text_color": null
      }
     },
     "d775a1a775664abcb0bcc9265b343a74": {
      "model_module": "@jupyter-widgets/controls",
      "model_module_version": "2.0.0",
      "model_name": "FloatProgressModel",
      "state": {
       "bar_style": "danger",
       "layout": "IPY_MODEL_d8a2de9989674b2dadc51417f19bae01",
       "max": 609,
       "style": "IPY_MODEL_05b8b83982894f828448795f8675a62b"
      }
     },
     "d78cc8982ace4b4398cbe6b13ce6aed9": {
      "model_module": "@jupyter-widgets/base",
      "model_module_version": "2.0.0",
      "model_name": "LayoutModel",
      "state": {}
     },
     "d797af9291364d6889f9daa309f42a84": {
      "model_module": "@jupyter-widgets/controls",
      "model_module_version": "2.0.0",
      "model_name": "HTMLModel",
      "state": {
       "layout": "IPY_MODEL_72ae205a2c40453ab6203c4ff9b07db3",
       "style": "IPY_MODEL_c683c5aae1034d9dbb5d7758c28c2836",
       "value": "  0%"
      }
     },
     "d7aa95113cfc4680a9a88843d231c7d8": {
      "model_module": "@jupyter-widgets/controls",
      "model_module_version": "2.0.0",
      "model_name": "HTMLStyleModel",
      "state": {
       "description_width": "",
       "font_size": null,
       "text_color": null
      }
     },
     "d80e5811445940feb35bda4a79c294f9": {
      "model_module": "@jupyter-widgets/controls",
      "model_module_version": "2.0.0",
      "model_name": "HTMLStyleModel",
      "state": {
       "description_width": "",
       "font_size": null,
       "text_color": null
      }
     },
     "d86ebe602c874338ac76ab7cc71b6183": {
      "model_module": "@jupyter-widgets/controls",
      "model_module_version": "2.0.0",
      "model_name": "HTMLModel",
      "state": {
       "layout": "IPY_MODEL_b4cc7292d0bf48769a249e0794e14f15",
       "style": "IPY_MODEL_b407d16d65144290aac1f93e24524de8",
       "value": " 0/365 [00:00&lt;?, ?it/s]"
      }
     },
     "d894f668a8a3455baadd0e6882eb592c": {
      "model_module": "@jupyter-widgets/controls",
      "model_module_version": "2.0.0",
      "model_name": "HBoxModel",
      "state": {
       "children": [
        "IPY_MODEL_2636830f45e94a908f096f9cfed1f519",
        "IPY_MODEL_465f9e096d284df886cb644a73665dc7",
        "IPY_MODEL_818434bc7cfa483496c440f59d584895"
       ],
       "layout": "IPY_MODEL_9dfcebd186b54e738212ab493cbdc220"
      }
     },
     "d8a2de9989674b2dadc51417f19bae01": {
      "model_module": "@jupyter-widgets/base",
      "model_module_version": "2.0.0",
      "model_name": "LayoutModel",
      "state": {}
     },
     "d8eadf30e73b434498aa4e21492fad8d": {
      "model_module": "@jupyter-widgets/controls",
      "model_module_version": "2.0.0",
      "model_name": "HTMLModel",
      "state": {
       "layout": "IPY_MODEL_4de7841e568b4ce0adb70479378dbdd7",
       "style": "IPY_MODEL_5e0b4f241e874cf985caffbc824a0469",
       "value": " 0/475 [00:00&lt;?, ?it/s]"
      }
     },
     "d925c1bf76974c0e9f1a5e8ece344d1a": {
      "model_module": "@jupyter-widgets/controls",
      "model_module_version": "2.0.0",
      "model_name": "HTMLStyleModel",
      "state": {
       "description_width": "",
       "font_size": null,
       "text_color": null
      }
     },
     "d946c04d5aa0474e9538171cb068817f": {
      "model_module": "@jupyter-widgets/controls",
      "model_module_version": "2.0.0",
      "model_name": "HTMLStyleModel",
      "state": {
       "description_width": "",
       "font_size": null,
       "text_color": null
      }
     },
     "d96bbd12aa424c8f88fcd162888994ea": {
      "model_module": "@jupyter-widgets/base",
      "model_module_version": "2.0.0",
      "model_name": "LayoutModel",
      "state": {}
     },
     "d9743d5e093b4323888dbcb687c11723": {
      "model_module": "@jupyter-widgets/controls",
      "model_module_version": "2.0.0",
      "model_name": "HTMLModel",
      "state": {
       "layout": "IPY_MODEL_9ef0b8bb280a40a1a3fb672a1351acb7",
       "style": "IPY_MODEL_efb3341dc02b40b5b2ce48599b5edb8e",
       "value": "100%"
      }
     },
     "d98a8b12e93b41be9733706cf2a42c8a": {
      "model_module": "@jupyter-widgets/base",
      "model_module_version": "2.0.0",
      "model_name": "LayoutModel",
      "state": {}
     },
     "d9a734ad43194936ab34a32e890c3277": {
      "model_module": "@jupyter-widgets/controls",
      "model_module_version": "2.0.0",
      "model_name": "HTMLModel",
      "state": {
       "layout": "IPY_MODEL_447cce272ca940fe8aa2c0f49848ad9c",
       "style": "IPY_MODEL_d2a680e77794461183141225a3b5742b",
       "value": "  0%"
      }
     },
     "d9d2cf33034a42f8b2bca6aecf3f8f84": {
      "model_module": "@jupyter-widgets/base",
      "model_module_version": "2.0.0",
      "model_name": "LayoutModel",
      "state": {}
     },
     "da0e2f9c642440f9995c45b6e0e1b68d": {
      "model_module": "@jupyter-widgets/base",
      "model_module_version": "2.0.0",
      "model_name": "LayoutModel",
      "state": {}
     },
     "da147f3cf22948c79580f2bf4a9a5ba4": {
      "model_module": "@jupyter-widgets/base",
      "model_module_version": "2.0.0",
      "model_name": "LayoutModel",
      "state": {}
     },
     "da6bf461ce4849ef8b723a140aee5e46": {
      "model_module": "@jupyter-widgets/controls",
      "model_module_version": "2.0.0",
      "model_name": "HBoxModel",
      "state": {
       "children": [
        "IPY_MODEL_491d248bc8204f74876fa14d24c082e4",
        "IPY_MODEL_e261dbc8fdcc430c84b8c8b7cb6b7da0",
        "IPY_MODEL_c1e95cf7e5954a00bd47ff36695828f6"
       ],
       "layout": "IPY_MODEL_7850b47abaa041168794acedc1c5f0a2"
      }
     },
     "daa1e32bcca1475891077640436b018e": {
      "model_module": "@jupyter-widgets/base",
      "model_module_version": "2.0.0",
      "model_name": "LayoutModel",
      "state": {}
     },
     "dac9e47e862343e898c035944d1d6cc3": {
      "model_module": "@jupyter-widgets/base",
      "model_module_version": "2.0.0",
      "model_name": "LayoutModel",
      "state": {}
     },
     "db97dfd5000848eda62ef1b178c7994f": {
      "model_module": "@jupyter-widgets/controls",
      "model_module_version": "2.0.0",
      "model_name": "HTMLStyleModel",
      "state": {
       "description_width": "",
       "font_size": null,
       "text_color": null
      }
     },
     "dbeb0e6e5de04609a9b7e838ce89cfbc": {
      "model_module": "@jupyter-widgets/controls",
      "model_module_version": "2.0.0",
      "model_name": "HTMLModel",
      "state": {
       "layout": "IPY_MODEL_753f8171a8894bbaa7369397aa74c1df",
       "style": "IPY_MODEL_9747364e545f48f1b7a36a9de201eaa7",
       "value": "  0%"
      }
     },
     "dc7770f223f2442baaa1a90ea647cafc": {
      "model_module": "@jupyter-widgets/controls",
      "model_module_version": "2.0.0",
      "model_name": "FloatProgressModel",
      "state": {
       "bar_style": "success",
       "layout": "IPY_MODEL_4f12276962ce458e8ac99e01b7d6220b",
       "max": 118,
       "style": "IPY_MODEL_0d5ec5d626f64d92b193026e957543d3",
       "value": 118
      }
     },
     "dc7b8e6ee5634eb4b6de4d1ac642cd57": {
      "model_module": "@jupyter-widgets/base",
      "model_module_version": "2.0.0",
      "model_name": "LayoutModel",
      "state": {}
     },
     "dcc9c8d46b8446f2975e0017dc425650": {
      "model_module": "@jupyter-widgets/controls",
      "model_module_version": "2.0.0",
      "model_name": "HTMLModel",
      "state": {
       "layout": "IPY_MODEL_13b4735bcc6d40769008f369d9774799",
       "style": "IPY_MODEL_6f5030bcaf5748d9873a5aa8674b9f6d",
       "value": "  0%"
      }
     },
     "dcfe1c2d4e30463882b9b8c3a0b4370c": {
      "model_module": "@jupyter-widgets/base",
      "model_module_version": "2.0.0",
      "model_name": "LayoutModel",
      "state": {}
     },
     "dd6000d200364a21b649c1885bdcde41": {
      "model_module": "@jupyter-widgets/base",
      "model_module_version": "2.0.0",
      "model_name": "LayoutModel",
      "state": {}
     },
     "ddbd1ab2605a4a2c901f836a0c581021": {
      "model_module": "@jupyter-widgets/controls",
      "model_module_version": "2.0.0",
      "model_name": "HTMLStyleModel",
      "state": {
       "description_width": "",
       "font_size": null,
       "text_color": null
      }
     },
     "ddcb9e6a2ca245fb8a51409081415009": {
      "model_module": "@jupyter-widgets/controls",
      "model_module_version": "2.0.0",
      "model_name": "HTMLStyleModel",
      "state": {
       "description_width": "",
       "font_size": null,
       "text_color": null
      }
     },
     "de0454683d654e2ca344e2ce3ae273e7": {
      "model_module": "@jupyter-widgets/base",
      "model_module_version": "2.0.0",
      "model_name": "LayoutModel",
      "state": {}
     },
     "de092fbb94524325992dec0b2ec9abb1": {
      "model_module": "@jupyter-widgets/controls",
      "model_module_version": "2.0.0",
      "model_name": "HTMLModel",
      "state": {
       "layout": "IPY_MODEL_7f5ac11c7d7f4dbfa4fcd2c568b4a578",
       "style": "IPY_MODEL_e7465421d0e249c98a92537712429c56",
       "value": " 0/674 [00:00&lt;?, ?it/s]"
      }
     },
     "de1fddeb1acb4f558f9688b62c5f16d4": {
      "model_module": "@jupyter-widgets/controls",
      "model_module_version": "2.0.0",
      "model_name": "HTMLStyleModel",
      "state": {
       "description_width": "",
       "font_size": null,
       "text_color": null
      }
     },
     "de413df4d43d4ecab478f88217612a33": {
      "model_module": "@jupyter-widgets/controls",
      "model_module_version": "2.0.0",
      "model_name": "HBoxModel",
      "state": {
       "children": [
        "IPY_MODEL_40bae65346fb4628a56ebed4031bbf9c",
        "IPY_MODEL_53db0b05263f442aa840e75accfb9b81",
        "IPY_MODEL_0a60b395bcaf4b01b003e8a6067aca49"
       ],
       "layout": "IPY_MODEL_f4a81dff1ee844ff80b220920cab6e73"
      }
     },
     "de822948efe14f2cbb5c257451c30907": {
      "model_module": "@jupyter-widgets/controls",
      "model_module_version": "2.0.0",
      "model_name": "HTMLModel",
      "state": {
       "layout": "IPY_MODEL_91c67da69257410ab7633ce0ff046fb6",
       "style": "IPY_MODEL_3e8ece3da0154d41a385d31bb524babd",
       "value": " 0/618 [00:00&lt;?, ?it/s]"
      }
     },
     "de89cd922f0b4b009589dad206be1212": {
      "model_module": "@jupyter-widgets/base",
      "model_module_version": "2.0.0",
      "model_name": "LayoutModel",
      "state": {}
     },
     "de8d0ef66b7f4ddb9b0794be0c68aa71": {
      "model_module": "@jupyter-widgets/controls",
      "model_module_version": "2.0.0",
      "model_name": "FloatProgressModel",
      "state": {
       "bar_style": "danger",
       "layout": "IPY_MODEL_245ce93a140b4df1adfc38ff599a3cef",
       "max": 593,
       "style": "IPY_MODEL_18d5817ed574440f81e7261ff0cfddf9"
      }
     },
     "de91189e249d4f78a1df711f8698ce35": {
      "model_module": "@jupyter-widgets/controls",
      "model_module_version": "2.0.0",
      "model_name": "FloatProgressModel",
      "state": {
       "bar_style": "danger",
       "layout": "IPY_MODEL_68cf4055edc14ffabf7c7374593d052d",
       "max": 596,
       "style": "IPY_MODEL_1d736c5d57774b439754bfa8837fbf8e"
      }
     },
     "dea81c78ceab485f8625e1b2051d2f91": {
      "model_module": "@jupyter-widgets/controls",
      "model_module_version": "2.0.0",
      "model_name": "ProgressStyleModel",
      "state": {
       "description_width": ""
      }
     },
     "dec48a374ed7401d91cbe262d527e39c": {
      "model_module": "@jupyter-widgets/controls",
      "model_module_version": "2.0.0",
      "model_name": "HBoxModel",
      "state": {
       "children": [
        "IPY_MODEL_9180ba2379404cb0bd76103c4265791f",
        "IPY_MODEL_536aa825e6e942239d3453e7a4238825",
        "IPY_MODEL_46fd3a0946094b9099a1d05dfd729ac7"
       ],
       "layout": "IPY_MODEL_fc353df3c5544a9dbd8831ea15a15deb"
      }
     },
     "df3dbcf70c244c249e677c11078cbd52": {
      "model_module": "@jupyter-widgets/controls",
      "model_module_version": "2.0.0",
      "model_name": "HBoxModel",
      "state": {
       "children": [
        "IPY_MODEL_00d17b9bb1af413fbe8b3e61547da42f",
        "IPY_MODEL_6d25fcfb978f4e3a89126b33eae30d70",
        "IPY_MODEL_0af5c65ecf324b7999f096d6543a9352"
       ],
       "layout": "IPY_MODEL_567d0b3ad9de4eb393685a3bb7feedb1"
      }
     },
     "df4a08a9c98947cd87e7141f7fe1c139": {
      "model_module": "@jupyter-widgets/controls",
      "model_module_version": "2.0.0",
      "model_name": "HTMLModel",
      "state": {
       "layout": "IPY_MODEL_de0454683d654e2ca344e2ce3ae273e7",
       "style": "IPY_MODEL_7b8da3d80c584b20b69cc0c8495460b2",
       "value": "100%"
      }
     },
     "df5ac736761a4a1097cab02d4fe66adf": {
      "model_module": "@jupyter-widgets/controls",
      "model_module_version": "2.0.0",
      "model_name": "HTMLStyleModel",
      "state": {
       "description_width": "",
       "font_size": null,
       "text_color": null
      }
     },
     "df73be1dba354f7d862577b304d6d908": {
      "model_module": "@jupyter-widgets/controls",
      "model_module_version": "2.0.0",
      "model_name": "HTMLStyleModel",
      "state": {
       "description_width": "",
       "font_size": null,
       "text_color": null
      }
     },
     "df8932bbebd6457a85a2184bfb230951": {
      "model_module": "@jupyter-widgets/controls",
      "model_module_version": "2.0.0",
      "model_name": "HTMLModel",
      "state": {
       "layout": "IPY_MODEL_0d0160e9658945a4b4731cbe1c85b444",
       "style": "IPY_MODEL_5872e7139907405d8151282a5dbd18d0",
       "value": "  0%"
      }
     },
     "df8ca2be9bfd496ca5cabda54ab5c6fc": {
      "model_module": "@jupyter-widgets/controls",
      "model_module_version": "2.0.0",
      "model_name": "HBoxModel",
      "state": {
       "children": [
        "IPY_MODEL_75f047a7442c42b2a6a52250c95de71f",
        "IPY_MODEL_e79d79231cb447c0ac71813f06dac9dc",
        "IPY_MODEL_440ef51837a94927ba81bff536094ddc"
       ],
       "layout": "IPY_MODEL_9493a3c03c1b4dc59355d44741167590"
      }
     },
     "dfe7b6f0a3c1477cb5cb9454b04bcc08": {
      "model_module": "@jupyter-widgets/controls",
      "model_module_version": "2.0.0",
      "model_name": "FloatProgressModel",
      "state": {
       "bar_style": "success",
       "layout": "IPY_MODEL_a116a5c219584308ad6b2fcf2925f104",
       "max": 118,
       "style": "IPY_MODEL_83e21245769d4027945d52bd92688e1a",
       "value": 118
      }
     },
     "e00621cdc9fe4ea9a6154e5f4cd4dc83": {
      "model_module": "@jupyter-widgets/controls",
      "model_module_version": "2.0.0",
      "model_name": "HTMLStyleModel",
      "state": {
       "description_width": "",
       "font_size": null,
       "text_color": null
      }
     },
     "e01d03146a9d48b39453c7d009f351b9": {
      "model_module": "@jupyter-widgets/controls",
      "model_module_version": "2.0.0",
      "model_name": "HBoxModel",
      "state": {
       "children": [
        "IPY_MODEL_b59e4f6bc25441cfa29c39cb0e0f52cb",
        "IPY_MODEL_361f6d718f0343cc9c10b29c67881206",
        "IPY_MODEL_4de305734bd04828b76e193a7768cc8a"
       ],
       "layout": "IPY_MODEL_5e533f2c444d43bd9181f278f3da707a"
      }
     },
     "e04818a67ede461ca0065524528ab703": {
      "model_module": "@jupyter-widgets/base",
      "model_module_version": "2.0.0",
      "model_name": "LayoutModel",
      "state": {}
     },
     "e0524b7cbd114ad583461f790ed8ae34": {
      "model_module": "@jupyter-widgets/controls",
      "model_module_version": "2.0.0",
      "model_name": "HTMLStyleModel",
      "state": {
       "description_width": "",
       "font_size": null,
       "text_color": null
      }
     },
     "e06dabbb48ec474392670e0765d30d2b": {
      "model_module": "@jupyter-widgets/controls",
      "model_module_version": "2.0.0",
      "model_name": "HTMLModel",
      "state": {
       "layout": "IPY_MODEL_01133b84fa0a44ee838f923cc9fe805b",
       "style": "IPY_MODEL_969f642b15c442cd8833efced8d7a7a3",
       "value": " 118/118 [01:41&lt;00:00,  4.61it/s]"
      }
     },
     "e07a50f7639b4df39f7043458d0c4141": {
      "model_module": "@jupyter-widgets/controls",
      "model_module_version": "2.0.0",
      "model_name": "HTMLStyleModel",
      "state": {
       "description_width": "",
       "font_size": null,
       "text_color": null
      }
     },
     "e07c7cc9d12942809d03c382e04dd999": {
      "model_module": "@jupyter-widgets/base",
      "model_module_version": "2.0.0",
      "model_name": "LayoutModel",
      "state": {}
     },
     "e07c92d205664822ba0429d1493d0467": {
      "model_module": "@jupyter-widgets/base",
      "model_module_version": "2.0.0",
      "model_name": "LayoutModel",
      "state": {}
     },
     "e119f38f0e7a4438aca559d6a9cbd8d3": {
      "model_module": "@jupyter-widgets/base",
      "model_module_version": "2.0.0",
      "model_name": "LayoutModel",
      "state": {}
     },
     "e1f1bca1eda74d35bd27f1b0dc7c366f": {
      "model_module": "@jupyter-widgets/base",
      "model_module_version": "2.0.0",
      "model_name": "LayoutModel",
      "state": {}
     },
     "e2285c3e7ef04e75a004e1a12d9f816c": {
      "model_module": "@jupyter-widgets/base",
      "model_module_version": "2.0.0",
      "model_name": "LayoutModel",
      "state": {}
     },
     "e2323167704b41f7a735d2bdd299ea4b": {
      "model_module": "@jupyter-widgets/controls",
      "model_module_version": "2.0.0",
      "model_name": "ProgressStyleModel",
      "state": {
       "description_width": ""
      }
     },
     "e238a6da5b5b4805859189ade398c34b": {
      "model_module": "@jupyter-widgets/controls",
      "model_module_version": "2.0.0",
      "model_name": "HTMLStyleModel",
      "state": {
       "description_width": "",
       "font_size": null,
       "text_color": null
      }
     },
     "e261dbc8fdcc430c84b8c8b7cb6b7da0": {
      "model_module": "@jupyter-widgets/controls",
      "model_module_version": "2.0.0",
      "model_name": "FloatProgressModel",
      "state": {
       "bar_style": "danger",
       "layout": "IPY_MODEL_a8ebd6969a75466abc76f6c5482d4656",
       "max": 437,
       "style": "IPY_MODEL_cc05d298206d4d608c704f37f24e1e53"
      }
     },
     "e263c4a93fab40b3a3571da64adbd820": {
      "model_module": "@jupyter-widgets/controls",
      "model_module_version": "2.0.0",
      "model_name": "HTMLModel",
      "state": {
       "layout": "IPY_MODEL_1a3485ad1abe48d785e27a61a47232cc",
       "style": "IPY_MODEL_74ca63ae0e884e66a947efa1f123df89",
       "value": "  0%"
      }
     },
     "e26d83ceeac4484c92679cc26f7c41a9": {
      "model_module": "@jupyter-widgets/controls",
      "model_module_version": "2.0.0",
      "model_name": "HBoxModel",
      "state": {
       "children": [
        "IPY_MODEL_df4a08a9c98947cd87e7141f7fe1c139",
        "IPY_MODEL_dc7770f223f2442baaa1a90ea647cafc",
        "IPY_MODEL_7f9b680424a841b0903bd3be2ba3e541"
       ],
       "layout": "IPY_MODEL_0e49d2588280414a89ec07a68bd8f340"
      }
     },
     "e27549c09c2c46618674b1efd1d83b2b": {
      "model_module": "@jupyter-widgets/controls",
      "model_module_version": "2.0.0",
      "model_name": "HTMLModel",
      "state": {
       "layout": "IPY_MODEL_0eefb8ba2c0e47b398496184a15cab5d",
       "style": "IPY_MODEL_72ad4101901a4602bd0d6db4c3f188d7",
       "value": " 0/681 [00:00&lt;?, ?it/s]"
      }
     },
     "e27a0bbd9c0a474aa4bdbb1048939e63": {
      "model_module": "@jupyter-widgets/controls",
      "model_module_version": "2.0.0",
      "model_name": "HTMLModel",
      "state": {
       "layout": "IPY_MODEL_55cd47aee28143e7ae0016c1ba1d4530",
       "style": "IPY_MODEL_e0524b7cbd114ad583461f790ed8ae34",
       "value": "  0%"
      }
     },
     "e27cfc7df2da45619b999569b2809a71": {
      "model_module": "@jupyter-widgets/controls",
      "model_module_version": "2.0.0",
      "model_name": "HTMLStyleModel",
      "state": {
       "description_width": "",
       "font_size": null,
       "text_color": null
      }
     },
     "e2931b30eecb4672ab6dfd6f303ef03d": {
      "model_module": "@jupyter-widgets/base",
      "model_module_version": "2.0.0",
      "model_name": "LayoutModel",
      "state": {}
     },
     "e2ad01dc226c40308f189543debb5357": {
      "model_module": "@jupyter-widgets/base",
      "model_module_version": "2.0.0",
      "model_name": "LayoutModel",
      "state": {}
     },
     "e303bab263a04e3bb93e421b81ba1acc": {
      "model_module": "@jupyter-widgets/base",
      "model_module_version": "2.0.0",
      "model_name": "LayoutModel",
      "state": {}
     },
     "e3820f4114d84efbb17a0096cc4d668e": {
      "model_module": "@jupyter-widgets/controls",
      "model_module_version": "2.0.0",
      "model_name": "ProgressStyleModel",
      "state": {
       "description_width": ""
      }
     },
     "e3a16426d1cb4f9785fcfc1fd83dd8cd": {
      "model_module": "@jupyter-widgets/controls",
      "model_module_version": "2.0.0",
      "model_name": "HBoxModel",
      "state": {
       "children": [
        "IPY_MODEL_b705dc71d0b8453ca00668ef7bd03304",
        "IPY_MODEL_d1b6c73afac04656aff3afcb2996d91e",
        "IPY_MODEL_2d6909be11294302a71f8e835adfa63a"
       ],
       "layout": "IPY_MODEL_e2ad01dc226c40308f189543debb5357"
      }
     },
     "e3f88948a3cf41d1b9983541cbf19c6d": {
      "model_module": "@jupyter-widgets/base",
      "model_module_version": "2.0.0",
      "model_name": "LayoutModel",
      "state": {}
     },
     "e478d472c85149de85d676a180eca12b": {
      "model_module": "@jupyter-widgets/controls",
      "model_module_version": "2.0.0",
      "model_name": "HTMLModel",
      "state": {
       "layout": "IPY_MODEL_06d9fcbe2d924e639cc3cd0479951d0d",
       "style": "IPY_MODEL_b054b0e1b32b491d8b0d138e2cd36bb7",
       "value": " 0/630 [00:00&lt;?, ?it/s]"
      }
     },
     "e4a58077d7054129a71eeaf34fc9da13": {
      "model_module": "@jupyter-widgets/controls",
      "model_module_version": "2.0.0",
      "model_name": "ProgressStyleModel",
      "state": {
       "description_width": ""
      }
     },
     "e4ed7a1aa76744cfb45b0450ea5f63a5": {
      "model_module": "@jupyter-widgets/controls",
      "model_module_version": "2.0.0",
      "model_name": "HTMLModel",
      "state": {
       "layout": "IPY_MODEL_8de3d400c082424c85bde7b61b0ca7a6",
       "style": "IPY_MODEL_087723f078fb4f26a56a26140a5eb680",
       "value": " 0/582 [00:00&lt;?, ?it/s]"
      }
     },
     "e534d8888f2f4e778f1cdf3cc4b28145": {
      "model_module": "@jupyter-widgets/base",
      "model_module_version": "2.0.0",
      "model_name": "LayoutModel",
      "state": {}
     },
     "e56183af65a34fd1b67d4261f6e61a4b": {
      "model_module": "@jupyter-widgets/controls",
      "model_module_version": "2.0.0",
      "model_name": "HTMLStyleModel",
      "state": {
       "description_width": "",
       "font_size": null,
       "text_color": null
      }
     },
     "e581642a87b0440dbc8204d80e9a83c5": {
      "model_module": "@jupyter-widgets/controls",
      "model_module_version": "2.0.0",
      "model_name": "FloatProgressModel",
      "state": {
       "bar_style": "danger",
       "layout": "IPY_MODEL_aac6941cbba7407cbb9d4f7af4c0c8ff",
       "max": 733,
       "style": "IPY_MODEL_c32d974baed84616b714db257ea8f5c0"
      }
     },
     "e58b155bafd449ff9e818f5f5bb98bc1": {
      "model_module": "@jupyter-widgets/controls",
      "model_module_version": "2.0.0",
      "model_name": "FloatProgressModel",
      "state": {
       "bar_style": "danger",
       "layout": "IPY_MODEL_616693f50b37415996839c6b0f220917",
       "max": 674,
       "style": "IPY_MODEL_7e57c1c421b8425297693b87b61fff43"
      }
     },
     "e5d6f533e450436586aef82b12833169": {
      "model_module": "@jupyter-widgets/base",
      "model_module_version": "2.0.0",
      "model_name": "LayoutModel",
      "state": {}
     },
     "e685803e2b3d41c5aab17e8d0ab3005e": {
      "model_module": "@jupyter-widgets/controls",
      "model_module_version": "2.0.0",
      "model_name": "HTMLStyleModel",
      "state": {
       "description_width": "",
       "font_size": null,
       "text_color": null
      }
     },
     "e6a603f90f474b408bc073c99b1e4bb7": {
      "model_module": "@jupyter-widgets/controls",
      "model_module_version": "2.0.0",
      "model_name": "HTMLStyleModel",
      "state": {
       "description_width": "",
       "font_size": null,
       "text_color": null
      }
     },
     "e6abab84b5494da7ada94f950d65d4c2": {
      "model_module": "@jupyter-widgets/base",
      "model_module_version": "2.0.0",
      "model_name": "LayoutModel",
      "state": {}
     },
     "e6f30f30f7f54d7297c7a53ab239258f": {
      "model_module": "@jupyter-widgets/controls",
      "model_module_version": "2.0.0",
      "model_name": "HBoxModel",
      "state": {
       "children": [
        "IPY_MODEL_73aa92ce71364ce898813e6d9cc77e23",
        "IPY_MODEL_2b26e60bc9b24e9291c78fa7981313be",
        "IPY_MODEL_de092fbb94524325992dec0b2ec9abb1"
       ],
       "layout": "IPY_MODEL_5f8f398cb31448509a755b9f49a46c1f"
      }
     },
     "e7465421d0e249c98a92537712429c56": {
      "model_module": "@jupyter-widgets/controls",
      "model_module_version": "2.0.0",
      "model_name": "HTMLStyleModel",
      "state": {
       "description_width": "",
       "font_size": null,
       "text_color": null
      }
     },
     "e7660853d5f34d80be973344d14a5e62": {
      "model_module": "@jupyter-widgets/controls",
      "model_module_version": "2.0.0",
      "model_name": "ProgressStyleModel",
      "state": {
       "description_width": ""
      }
     },
     "e79d79231cb447c0ac71813f06dac9dc": {
      "model_module": "@jupyter-widgets/controls",
      "model_module_version": "2.0.0",
      "model_name": "FloatProgressModel",
      "state": {
       "bar_style": "danger",
       "layout": "IPY_MODEL_a624bd71c99e48a1b1a857e04d260a3d",
       "max": 653,
       "style": "IPY_MODEL_b1208dcce91c42da844bc619fe576551"
      }
     },
     "e7a7e934012742edb01b2e5f01e2c0b7": {
      "model_module": "@jupyter-widgets/base",
      "model_module_version": "2.0.0",
      "model_name": "LayoutModel",
      "state": {}
     },
     "e7c765768ab04b9794b08c9a608539f5": {
      "model_module": "@jupyter-widgets/controls",
      "model_module_version": "2.0.0",
      "model_name": "HTMLModel",
      "state": {
       "layout": "IPY_MODEL_94cc407455264af7a1240573eae25ae3",
       "style": "IPY_MODEL_f94023a26a794045988fb2fa454d6eee",
       "value": " 0/646 [00:00&lt;?, ?it/s]"
      }
     },
     "e810975d92bd4932b1d782e6a4ab8e8a": {
      "model_module": "@jupyter-widgets/controls",
      "model_module_version": "2.0.0",
      "model_name": "FloatProgressModel",
      "state": {
       "bar_style": "danger",
       "layout": "IPY_MODEL_59d0da7fdd214e8ab9f4008e5d18f8fe",
       "max": 631,
       "style": "IPY_MODEL_9e1c8bdddb9a4fac9012a8ce5437da4e"
      }
     },
     "e81b18d6a4a445549e4c119f81d250d7": {
      "model_module": "@jupyter-widgets/controls",
      "model_module_version": "2.0.0",
      "model_name": "HTMLStyleModel",
      "state": {
       "description_width": "",
       "font_size": null,
       "text_color": null
      }
     },
     "e88044f23c954988858463444dd7817c": {
      "model_module": "@jupyter-widgets/controls",
      "model_module_version": "2.0.0",
      "model_name": "HTMLModel",
      "state": {
       "layout": "IPY_MODEL_20bc79988635480d9ba819c5a07e973f",
       "style": "IPY_MODEL_371aedb62cdc4833a3898135c5ea01f6",
       "value": "100%"
      }
     },
     "e8d0ab9c0ff04fc882af7fc6c1a88e43": {
      "model_module": "@jupyter-widgets/controls",
      "model_module_version": "2.0.0",
      "model_name": "HTMLStyleModel",
      "state": {
       "description_width": "",
       "font_size": null,
       "text_color": null
      }
     },
     "e8e629bbd29c41919886bb662c11358b": {
      "model_module": "@jupyter-widgets/controls",
      "model_module_version": "2.0.0",
      "model_name": "HTMLModel",
      "state": {
       "layout": "IPY_MODEL_2e7d428a15974aa3b3aa9a4d94a5ae7d",
       "style": "IPY_MODEL_5bc0a5d258bb402fa1170be3022002b6",
       "value": " 0/631 [00:00&lt;?, ?it/s]"
      }
     },
     "e90e29a370a0432fb413e7373209cf97": {
      "model_module": "@jupyter-widgets/base",
      "model_module_version": "2.0.0",
      "model_name": "LayoutModel",
      "state": {}
     },
     "e929c08983e04f85afb81059f412ce3e": {
      "model_module": "@jupyter-widgets/base",
      "model_module_version": "2.0.0",
      "model_name": "LayoutModel",
      "state": {}
     },
     "e9458e382f0446a7894b8c2aa5a48b37": {
      "model_module": "@jupyter-widgets/controls",
      "model_module_version": "2.0.0",
      "model_name": "ProgressStyleModel",
      "state": {
       "description_width": ""
      }
     },
     "e9b71b448a244ec1bad17d48443b49e2": {
      "model_module": "@jupyter-widgets/controls",
      "model_module_version": "2.0.0",
      "model_name": "ProgressStyleModel",
      "state": {
       "description_width": ""
      }
     },
     "e9c0705294824a338c6dd5fbc13aea66": {
      "model_module": "@jupyter-widgets/controls",
      "model_module_version": "2.0.0",
      "model_name": "ProgressStyleModel",
      "state": {
       "description_width": ""
      }
     },
     "e9c49e823f954777b05013882be066b2": {
      "model_module": "@jupyter-widgets/base",
      "model_module_version": "2.0.0",
      "model_name": "LayoutModel",
      "state": {}
     },
     "e9d3e06b83164f6188637c83a508a69f": {
      "model_module": "@jupyter-widgets/controls",
      "model_module_version": "2.0.0",
      "model_name": "HTMLStyleModel",
      "state": {
       "description_width": "",
       "font_size": null,
       "text_color": null
      }
     },
     "ea11a75aae8d43158103952ae9719b8a": {
      "model_module": "@jupyter-widgets/controls",
      "model_module_version": "2.0.0",
      "model_name": "HBoxModel",
      "state": {
       "children": [
        "IPY_MODEL_dcc9c8d46b8446f2975e0017dc425650",
        "IPY_MODEL_823855a66c7e4907b44ff04809b9a3bd",
        "IPY_MODEL_17bf216c398d474e84a5d68ac8e4261c"
       ],
       "layout": "IPY_MODEL_a1982ea4ec744e6faac923e1669b129d"
      }
     },
     "ea6ef834e6fc44fcbf6b1ab44ec379e3": {
      "model_module": "@jupyter-widgets/controls",
      "model_module_version": "2.0.0",
      "model_name": "HBoxModel",
      "state": {
       "children": [
        "IPY_MODEL_3538971f620349d288407de0324ef781",
        "IPY_MODEL_5c85d450931544c3ba5bbfed4b5d8275",
        "IPY_MODEL_8537f202a2214676baa5d1fbde58aaf6"
       ],
       "layout": "IPY_MODEL_fb549da7913d470fb0341a8c3ebf7050"
      }
     },
     "ea741176484a4879ba17633ec5216d13": {
      "model_module": "@jupyter-widgets/base",
      "model_module_version": "2.0.0",
      "model_name": "LayoutModel",
      "state": {}
     },
     "ea8685c0910b4b58a1cbee1679c31d7a": {
      "model_module": "@jupyter-widgets/controls",
      "model_module_version": "2.0.0",
      "model_name": "HTMLStyleModel",
      "state": {
       "description_width": "",
       "font_size": null,
       "text_color": null
      }
     },
     "eab71cf2ac8649159bcce2ac57eed7d5": {
      "model_module": "@jupyter-widgets/base",
      "model_module_version": "2.0.0",
      "model_name": "LayoutModel",
      "state": {}
     },
     "eac38c05b33245fa9291166ac129640a": {
      "model_module": "@jupyter-widgets/base",
      "model_module_version": "2.0.0",
      "model_name": "LayoutModel",
      "state": {}
     },
     "eac5757fd9424977937de0cf79efaeda": {
      "model_module": "@jupyter-widgets/base",
      "model_module_version": "2.0.0",
      "model_name": "LayoutModel",
      "state": {}
     },
     "ead7ef31e99c459d914bfd19c8853411": {
      "model_module": "@jupyter-widgets/controls",
      "model_module_version": "2.0.0",
      "model_name": "HTMLStyleModel",
      "state": {
       "description_width": "",
       "font_size": null,
       "text_color": null
      }
     },
     "ead8098aafb0409aba5a239a42347e41": {
      "model_module": "@jupyter-widgets/controls",
      "model_module_version": "2.0.0",
      "model_name": "FloatProgressModel",
      "state": {
       "bar_style": "danger",
       "layout": "IPY_MODEL_62712b7f61904686b23bc492cfd50a76",
       "max": 582,
       "style": "IPY_MODEL_c6f1af42119949e8b1f24570dc615e6d"
      }
     },
     "eaf9bf258c294b2a8f952e0cc0f6f245": {
      "model_module": "@jupyter-widgets/controls",
      "model_module_version": "2.0.0",
      "model_name": "HTMLStyleModel",
      "state": {
       "description_width": "",
       "font_size": null,
       "text_color": null
      }
     },
     "eb3446ecc01d4711a7d1c30ab9e08c4c": {
      "model_module": "@jupyter-widgets/controls",
      "model_module_version": "2.0.0",
      "model_name": "HTMLStyleModel",
      "state": {
       "description_width": "",
       "font_size": null,
       "text_color": null
      }
     },
     "eb4596c6422b4318a71b912aeca8e47d": {
      "model_module": "@jupyter-widgets/controls",
      "model_module_version": "2.0.0",
      "model_name": "HBoxModel",
      "state": {
       "children": [
        "IPY_MODEL_cfe34dca1b4d4d7cb42f0f7e5b45f9bf",
        "IPY_MODEL_3b92e1516b8d4d6c99b5d96479c25ef7",
        "IPY_MODEL_8583ee075d904808b8af5d73e3fbfdbd"
       ],
       "layout": "IPY_MODEL_1082971a4dc1462290c0b85947392b0b"
      }
     },
     "eb7b84578b05470db56e029c9820cf27": {
      "model_module": "@jupyter-widgets/base",
      "model_module_version": "2.0.0",
      "model_name": "LayoutModel",
      "state": {}
     },
     "ebb843c27f634344bd10a526081ca13c": {
      "model_module": "@jupyter-widgets/controls",
      "model_module_version": "2.0.0",
      "model_name": "HBoxModel",
      "state": {
       "children": [
        "IPY_MODEL_3a89443505894b42995a8a56dd94a25d",
        "IPY_MODEL_04c148729eeb4390aad6097349c9a5fe",
        "IPY_MODEL_9806fbb1da6f48c0b01a637d140c07bd"
       ],
       "layout": "IPY_MODEL_4ca928a887b34a5b8c4afab7476e1b94"
      }
     },
     "ebbb9428eafd412ea9577a6828d5ccfa": {
      "model_module": "@jupyter-widgets/base",
      "model_module_version": "2.0.0",
      "model_name": "LayoutModel",
      "state": {}
     },
     "ec683105d0324f16a3764736ccc8df73": {
      "model_module": "@jupyter-widgets/base",
      "model_module_version": "2.0.0",
      "model_name": "LayoutModel",
      "state": {}
     },
     "ec81aa2d9f44466fb7e51d2519d49fb8": {
      "model_module": "@jupyter-widgets/base",
      "model_module_version": "2.0.0",
      "model_name": "LayoutModel",
      "state": {}
     },
     "ec8d2e1b16784a4ebfdaf05794a21d1c": {
      "model_module": "@jupyter-widgets/controls",
      "model_module_version": "2.0.0",
      "model_name": "HTMLModel",
      "state": {
       "layout": "IPY_MODEL_ad44ecc531a64479a044dcd69d18a440",
       "style": "IPY_MODEL_a90bfa4230164fc2b20fc92efd24091b",
       "value": " 0/640 [00:00&lt;?, ?it/s]"
      }
     },
     "ec9d2394be3c4f9284e5c34947b98d72": {
      "model_module": "@jupyter-widgets/base",
      "model_module_version": "2.0.0",
      "model_name": "LayoutModel",
      "state": {}
     },
     "ecb3dbe50365494091080a58d0784b89": {
      "model_module": "@jupyter-widgets/base",
      "model_module_version": "2.0.0",
      "model_name": "LayoutModel",
      "state": {}
     },
     "eccbcb1957d6401381b4b4d8ee8fff0c": {
      "model_module": "@jupyter-widgets/controls",
      "model_module_version": "2.0.0",
      "model_name": "FloatProgressModel",
      "state": {
       "bar_style": "danger",
       "layout": "IPY_MODEL_7d933fb0874c4cc492909c475b6b7667",
       "max": 623,
       "style": "IPY_MODEL_ae16665f94cc46b9ae4ed5626805acce"
      }
     },
     "ece8574e260446c593992e1acf7d10ea": {
      "model_module": "@jupyter-widgets/controls",
      "model_module_version": "2.0.0",
      "model_name": "HBoxModel",
      "state": {
       "children": [
        "IPY_MODEL_bcc948f6d28e414f99b944df65ce3a18",
        "IPY_MODEL_95ce848e776c42aab6e2e69d88817044",
        "IPY_MODEL_092233a81fa340188ead5c11fc4ad495"
       ],
       "layout": "IPY_MODEL_773aad667d9442ba8612782f01769077"
      }
     },
     "ed149c9433464e1e9af7fd08899c5316": {
      "model_module": "@jupyter-widgets/base",
      "model_module_version": "2.0.0",
      "model_name": "LayoutModel",
      "state": {}
     },
     "ed1abfe116eb46c79f1692f1081179a1": {
      "model_module": "@jupyter-widgets/controls",
      "model_module_version": "2.0.0",
      "model_name": "HBoxModel",
      "state": {
       "children": [
        "IPY_MODEL_2b9d16b4af28486abff62c7114881254",
        "IPY_MODEL_81418c07ab5a4a6faf60faa9105c54e4",
        "IPY_MODEL_8f146894876b4f108a277800605c3d45"
       ],
       "layout": "IPY_MODEL_f9f4192521584aaeb6184e67a26cc99a"
      }
     },
     "ed6d03b8b5b54af9a5a42e642738c015": {
      "model_module": "@jupyter-widgets/base",
      "model_module_version": "2.0.0",
      "model_name": "LayoutModel",
      "state": {}
     },
     "edc4c2d883994e7ba2cff1d058a5896a": {
      "model_module": "@jupyter-widgets/controls",
      "model_module_version": "2.0.0",
      "model_name": "ProgressStyleModel",
      "state": {
       "description_width": ""
      }
     },
     "edd8b350cffd4d79a091be351ab1a77e": {
      "model_module": "@jupyter-widgets/base",
      "model_module_version": "2.0.0",
      "model_name": "LayoutModel",
      "state": {}
     },
     "ee89bdd141f44583a3b5ec896968997f": {
      "model_module": "@jupyter-widgets/controls",
      "model_module_version": "2.0.0",
      "model_name": "HTMLModel",
      "state": {
       "layout": "IPY_MODEL_394d834633cb4572a7209c7bb87a500d",
       "style": "IPY_MODEL_4418dfd74c5a470888b9ae01098358bb",
       "value": "  0%"
      }
     },
     "eeb05b9b56d040c58d12aa2b1a16bfaf": {
      "model_module": "@jupyter-widgets/controls",
      "model_module_version": "2.0.0",
      "model_name": "HTMLStyleModel",
      "state": {
       "description_width": "",
       "font_size": null,
       "text_color": null
      }
     },
     "ef79f0aec95a4e099c52624c35b75c91": {
      "model_module": "@jupyter-widgets/base",
      "model_module_version": "2.0.0",
      "model_name": "LayoutModel",
      "state": {}
     },
     "efb3341dc02b40b5b2ce48599b5edb8e": {
      "model_module": "@jupyter-widgets/controls",
      "model_module_version": "2.0.0",
      "model_name": "HTMLStyleModel",
      "state": {
       "description_width": "",
       "font_size": null,
       "text_color": null
      }
     },
     "f0082e9b9d8c46cdb442a522a18042d8": {
      "model_module": "@jupyter-widgets/controls",
      "model_module_version": "2.0.0",
      "model_name": "HTMLStyleModel",
      "state": {
       "description_width": "",
       "font_size": null,
       "text_color": null
      }
     },
     "f009e7e3c4c5430981c02f75f4ef37c4": {
      "model_module": "@jupyter-widgets/controls",
      "model_module_version": "2.0.0",
      "model_name": "HTMLModel",
      "state": {
       "layout": "IPY_MODEL_494bb71fec214b72ba3100411f77379b",
       "style": "IPY_MODEL_df73be1dba354f7d862577b304d6d908",
       "value": " 0/418 [00:00&lt;?, ?it/s]"
      }
     },
     "f0104606ad2f40c797b3aee6904adda7": {
      "model_module": "@jupyter-widgets/base",
      "model_module_version": "2.0.0",
      "model_name": "LayoutModel",
      "state": {}
     },
     "f01183fb7b724696a64c0f777420d8fe": {
      "model_module": "@jupyter-widgets/controls",
      "model_module_version": "2.0.0",
      "model_name": "HBoxModel",
      "state": {
       "children": [
        "IPY_MODEL_3cbd04bdefbb42f79291a7a7654552a3",
        "IPY_MODEL_f16243142c0f4a2b9f0c24c69920a2e8",
        "IPY_MODEL_bcd2dc2d9c2a4bc1a0a5fec826500392"
       ],
       "layout": "IPY_MODEL_fc36a075d46d4b2a83d4671e29d9465f"
      }
     },
     "f026e4b938104624a9b6ebcca9070f07": {
      "model_module": "@jupyter-widgets/controls",
      "model_module_version": "2.0.0",
      "model_name": "ProgressStyleModel",
      "state": {
       "description_width": ""
      }
     },
     "f0551b6d18bf4239b6ac0d2ef87c2e4c": {
      "model_module": "@jupyter-widgets/controls",
      "model_module_version": "2.0.0",
      "model_name": "HTMLModel",
      "state": {
       "layout": "IPY_MODEL_7e6eddce4ff2493d9d28512a850d9dab",
       "style": "IPY_MODEL_28c2c3fdd36b4a119a1b240753c842bd",
       "value": "  0%"
      }
     },
     "f07a7a7ed2fb44848acb723bf5991291": {
      "model_module": "@jupyter-widgets/base",
      "model_module_version": "2.0.0",
      "model_name": "LayoutModel",
      "state": {}
     },
     "f0bcaf9552f64c2ab2b00cb2c168cee9": {
      "model_module": "@jupyter-widgets/controls",
      "model_module_version": "2.0.0",
      "model_name": "HTMLModel",
      "state": {
       "layout": "IPY_MODEL_7c0a70babadf466a94213a36e08c2291",
       "style": "IPY_MODEL_c214a03968bc48129ce0dd5702d23901",
       "value": "  0%"
      }
     },
     "f0f8f9e54f324a36826a522b1a0a95a2": {
      "model_module": "@jupyter-widgets/controls",
      "model_module_version": "2.0.0",
      "model_name": "ProgressStyleModel",
      "state": {
       "description_width": ""
      }
     },
     "f0fa99be9cb04af081dcb4ce3d7728f2": {
      "model_module": "@jupyter-widgets/controls",
      "model_module_version": "2.0.0",
      "model_name": "HBoxModel",
      "state": {
       "children": [
        "IPY_MODEL_d9a734ad43194936ab34a32e890c3277",
        "IPY_MODEL_3c518be8ed2649f4bad3b31278ad535e",
        "IPY_MODEL_154735548fbf480d9db1a54681c5d34e"
       ],
       "layout": "IPY_MODEL_47356184e6d341dab68736f47698ac63"
      }
     },
     "f14f0b4cc50742d6a9dcf716741a4bb0": {
      "model_module": "@jupyter-widgets/controls",
      "model_module_version": "2.0.0",
      "model_name": "HTMLModel",
      "state": {
       "layout": "IPY_MODEL_49af15ea5f334066b32b21917da86e4b",
       "style": "IPY_MODEL_9b9ebbeee7ed46b9b14309a94a088962",
       "value": "100%"
      }
     },
     "f16243142c0f4a2b9f0c24c69920a2e8": {
      "model_module": "@jupyter-widgets/controls",
      "model_module_version": "2.0.0",
      "model_name": "FloatProgressModel",
      "state": {
       "bar_style": "danger",
       "layout": "IPY_MODEL_02ae1b4787ea4e2e90827c5138b4f6f0",
       "max": 474,
       "style": "IPY_MODEL_f0f8f9e54f324a36826a522b1a0a95a2"
      }
     },
     "f18da14e2cb94f3cb9937bcd37660d27": {
      "model_module": "@jupyter-widgets/controls",
      "model_module_version": "2.0.0",
      "model_name": "FloatProgressModel",
      "state": {
       "bar_style": "danger",
       "layout": "IPY_MODEL_c6361e03bc694bde83fb1ed8ac5b4fa9",
       "max": 582,
       "style": "IPY_MODEL_cfad5f5b190b418f8b591e50a390cbbc"
      }
     },
     "f1d3c8ca6a7d44e59dd07613c5eb01d9": {
      "model_module": "@jupyter-widgets/base",
      "model_module_version": "2.0.0",
      "model_name": "LayoutModel",
      "state": {}
     },
     "f1e7bdb1faa2479ab1e4235510fe3fcb": {
      "model_module": "@jupyter-widgets/base",
      "model_module_version": "2.0.0",
      "model_name": "LayoutModel",
      "state": {}
     },
     "f2014e4fb7ce4230830f2b7913144601": {
      "model_module": "@jupyter-widgets/base",
      "model_module_version": "2.0.0",
      "model_name": "LayoutModel",
      "state": {}
     },
     "f20f46b407b7453491d0d2a247018e59": {
      "model_module": "@jupyter-widgets/controls",
      "model_module_version": "2.0.0",
      "model_name": "HTMLModel",
      "state": {
       "layout": "IPY_MODEL_f6363b1010ef45ea9d6c20e3404d5975",
       "style": "IPY_MODEL_280ffb473fa942c1b756db753573f5a2",
       "value": " 0/596 [00:00&lt;?, ?it/s]"
      }
     },
     "f217014702e7480dbca5714229aa9bf9": {
      "model_module": "@jupyter-widgets/controls",
      "model_module_version": "2.0.0",
      "model_name": "HTMLModel",
      "state": {
       "layout": "IPY_MODEL_d0f20b7dbd11442db0bd8153ed246479",
       "style": "IPY_MODEL_3c5f507875284a3d884a2306c8cdc638",
       "value": " 0/593 [00:00&lt;?, ?it/s]"
      }
     },
     "f231c0ec26fe47bfa0b6987f0d470ba2": {
      "model_module": "@jupyter-widgets/base",
      "model_module_version": "2.0.0",
      "model_name": "LayoutModel",
      "state": {}
     },
     "f23eceafc08a48a7a2ae4f3b75a01ae4": {
      "model_module": "@jupyter-widgets/controls",
      "model_module_version": "2.0.0",
      "model_name": "HTMLModel",
      "state": {
       "layout": "IPY_MODEL_3e55b6f2e1b54b8688e7bf3c624252e4",
       "style": "IPY_MODEL_d925c1bf76974c0e9f1a5e8ece344d1a",
       "value": "100%"
      }
     },
     "f2422202ab7843618dc2bc50c57d26b8": {
      "model_module": "@jupyter-widgets/controls",
      "model_module_version": "2.0.0",
      "model_name": "HTMLModel",
      "state": {
       "layout": "IPY_MODEL_33646f8ad3714a6f87516ce4a424a13a",
       "style": "IPY_MODEL_01674669b8b242af95100a7a7989fa3e",
       "value": "  0%"
      }
     },
     "f2648f8226f2439ab06cb1123091d96e": {
      "model_module": "@jupyter-widgets/controls",
      "model_module_version": "2.0.0",
      "model_name": "HBoxModel",
      "state": {
       "children": [
        "IPY_MODEL_ff6fc3cc9bc946cc9698579d1f1ce7e4",
        "IPY_MODEL_c362971f65764fc49b53e55f58ec9d66",
        "IPY_MODEL_1b16a119bb884652b311b75fb636b1cb"
       ],
       "layout": "IPY_MODEL_1727acaabbaa48a8b9dd20628f12f651"
      }
     },
     "f2bc4902a4cf47a0bf73f4015cc2f5ff": {
      "model_module": "@jupyter-widgets/controls",
      "model_module_version": "2.0.0",
      "model_name": "HTMLModel",
      "state": {
       "layout": "IPY_MODEL_5af39b8fc4f942b9847a47a1fb9a1a5e",
       "style": "IPY_MODEL_bed38577a35b450a8b9880626967d2e4",
       "value": "  0%"
      }
     },
     "f321bfb8b84b429c931ebd9ad9cc621f": {
      "model_module": "@jupyter-widgets/controls",
      "model_module_version": "2.0.0",
      "model_name": "ProgressStyleModel",
      "state": {
       "description_width": ""
      }
     },
     "f321d2bc5eae46a796d04c7b72b0b498": {
      "model_module": "@jupyter-widgets/base",
      "model_module_version": "2.0.0",
      "model_name": "LayoutModel",
      "state": {}
     },
     "f3abca8e300a4a49b50a2532d4cb0515": {
      "model_module": "@jupyter-widgets/base",
      "model_module_version": "2.0.0",
      "model_name": "LayoutModel",
      "state": {}
     },
     "f3ebd31ff9224500ad6a2abc5783ca7a": {
      "model_module": "@jupyter-widgets/base",
      "model_module_version": "2.0.0",
      "model_name": "LayoutModel",
      "state": {}
     },
     "f402789c457a401eb2cc598a2797daa6": {
      "model_module": "@jupyter-widgets/base",
      "model_module_version": "2.0.0",
      "model_name": "LayoutModel",
      "state": {}
     },
     "f42b59ee5d74427088ed03dda2be8987": {
      "model_module": "@jupyter-widgets/controls",
      "model_module_version": "2.0.0",
      "model_name": "HBoxModel",
      "state": {
       "children": [
        "IPY_MODEL_f0bcaf9552f64c2ab2b00cb2c168cee9",
        "IPY_MODEL_87288e5a0b64409d809f061386b4c244",
        "IPY_MODEL_0e9b352ce1094ca6a277274245def4a8"
       ],
       "layout": "IPY_MODEL_652599b84cfa45c99694887fda705387"
      }
     },
     "f4346595f5154338a5f8ac3aa73c1a24": {
      "model_module": "@jupyter-widgets/controls",
      "model_module_version": "2.0.0",
      "model_name": "FloatProgressModel",
      "state": {
       "bar_style": "danger",
       "layout": "IPY_MODEL_f1d3c8ca6a7d44e59dd07613c5eb01d9",
       "max": 625,
       "style": "IPY_MODEL_69a6039a8529418b8cad53e233004eac"
      }
     },
     "f443205e4a754008872b98f01040a981": {
      "model_module": "@jupyter-widgets/controls",
      "model_module_version": "2.0.0",
      "model_name": "HTMLStyleModel",
      "state": {
       "description_width": "",
       "font_size": null,
       "text_color": null
      }
     },
     "f480e7441d3a44f28dbdb86495417ce9": {
      "model_module": "@jupyter-widgets/base",
      "model_module_version": "2.0.0",
      "model_name": "LayoutModel",
      "state": {}
     },
     "f483035468ca4d249d52322d8fa90f33": {
      "model_module": "@jupyter-widgets/base",
      "model_module_version": "2.0.0",
      "model_name": "LayoutModel",
      "state": {}
     },
     "f49b40f41940470abdfae71a499bc207": {
      "model_module": "@jupyter-widgets/controls",
      "model_module_version": "2.0.0",
      "model_name": "ProgressStyleModel",
      "state": {
       "description_width": ""
      }
     },
     "f4a81dff1ee844ff80b220920cab6e73": {
      "model_module": "@jupyter-widgets/base",
      "model_module_version": "2.0.0",
      "model_name": "LayoutModel",
      "state": {}
     },
     "f4e9c3ab75134c5c900eb6acc5fc7e8a": {
      "model_module": "@jupyter-widgets/base",
      "model_module_version": "2.0.0",
      "model_name": "LayoutModel",
      "state": {}
     },
     "f52f7934e9774be88b0f16f918c6ca55": {
      "model_module": "@jupyter-widgets/controls",
      "model_module_version": "2.0.0",
      "model_name": "ProgressStyleModel",
      "state": {
       "description_width": ""
      }
     },
     "f567b9c0a4b747a7a26b516c1907dac5": {
      "model_module": "@jupyter-widgets/base",
      "model_module_version": "2.0.0",
      "model_name": "LayoutModel",
      "state": {}
     },
     "f5801983c9f747a8a7df0b04812a3344": {
      "model_module": "@jupyter-widgets/controls",
      "model_module_version": "2.0.0",
      "model_name": "FloatProgressModel",
      "state": {
       "bar_style": "danger",
       "layout": "IPY_MODEL_09cc9ac739574703a4ee5726f8d48abb",
       "max": 711,
       "style": "IPY_MODEL_2d46c956b5f24492bed1d915ad1f59e7"
      }
     },
     "f589d09e0c3d4f52b102e1755cc63264": {
      "model_module": "@jupyter-widgets/controls",
      "model_module_version": "2.0.0",
      "model_name": "HTMLModel",
      "state": {
       "layout": "IPY_MODEL_941f2086a7364cb388d2908b64880229",
       "style": "IPY_MODEL_356561b1f5a34b16b38de9ac1629fb42",
       "value": "  0%"
      }
     },
     "f598efdcb282451d9b52c1a85909ebc6": {
      "model_module": "@jupyter-widgets/controls",
      "model_module_version": "2.0.0",
      "model_name": "HTMLModel",
      "state": {
       "layout": "IPY_MODEL_ed6d03b8b5b54af9a5a42e642738c015",
       "style": "IPY_MODEL_a1726db5e8b14ab4ac3716b56daf630b",
       "value": " 0/640 [00:00&lt;?, ?it/s]"
      }
     },
     "f5e4499a579e462e9bd22118701a18c6": {
      "model_module": "@jupyter-widgets/controls",
      "model_module_version": "2.0.0",
      "model_name": "HTMLStyleModel",
      "state": {
       "description_width": "",
       "font_size": null,
       "text_color": null
      }
     },
     "f60916bbdd1e4a0598b7c817b33b9e1a": {
      "model_module": "@jupyter-widgets/base",
      "model_module_version": "2.0.0",
      "model_name": "LayoutModel",
      "state": {}
     },
     "f619dc01d68e4aeabc022f093f995990": {
      "model_module": "@jupyter-widgets/controls",
      "model_module_version": "2.0.0",
      "model_name": "HTMLStyleModel",
      "state": {
       "description_width": "",
       "font_size": null,
       "text_color": null
      }
     },
     "f62446078c504825b1629912ee5decff": {
      "model_module": "@jupyter-widgets/controls",
      "model_module_version": "2.0.0",
      "model_name": "HTMLModel",
      "state": {
       "layout": "IPY_MODEL_f2014e4fb7ce4230830f2b7913144601",
       "style": "IPY_MODEL_401fe909cee24e0f936cdb7f1dbdb301",
       "value": "  0%"
      }
     },
     "f6363b1010ef45ea9d6c20e3404d5975": {
      "model_module": "@jupyter-widgets/base",
      "model_module_version": "2.0.0",
      "model_name": "LayoutModel",
      "state": {}
     },
     "f645397bfa104acd9dcd58dc842eda6d": {
      "model_module": "@jupyter-widgets/controls",
      "model_module_version": "2.0.0",
      "model_name": "HTMLStyleModel",
      "state": {
       "description_width": "",
       "font_size": null,
       "text_color": null
      }
     },
     "f659419533074bad8de05a3cddbf6fac": {
      "model_module": "@jupyter-widgets/base",
      "model_module_version": "2.0.0",
      "model_name": "LayoutModel",
      "state": {}
     },
     "f6afdad40aa6448f97bb7f2807f9fbf7": {
      "model_module": "@jupyter-widgets/controls",
      "model_module_version": "2.0.0",
      "model_name": "ProgressStyleModel",
      "state": {
       "description_width": ""
      }
     },
     "f6d31a7f18364512b2c9d6c5a40fa427": {
      "model_module": "@jupyter-widgets/controls",
      "model_module_version": "2.0.0",
      "model_name": "HBoxModel",
      "state": {
       "children": [
        "IPY_MODEL_b8b6f250519a4b8788d1c5ce98f001ef",
        "IPY_MODEL_d1e20a88506c4735b9fda0f9856bce5d",
        "IPY_MODEL_996ae3368931411c85f1e64c30c230e2"
       ],
       "layout": "IPY_MODEL_874d7674b67e432895f48adeda8b5ef6"
      }
     },
     "f74b01c751be41bfb2408097edacfb7d": {
      "model_module": "@jupyter-widgets/controls",
      "model_module_version": "2.0.0",
      "model_name": "HTMLStyleModel",
      "state": {
       "description_width": "",
       "font_size": null,
       "text_color": null
      }
     },
     "f7840bcd21354066a323d0536e8ec8c4": {
      "model_module": "@jupyter-widgets/controls",
      "model_module_version": "2.0.0",
      "model_name": "HBoxModel",
      "state": {
       "children": [
        "IPY_MODEL_7f90215842004d05af7e7a19abe583ec",
        "IPY_MODEL_fc29e1d9d88c4cddabf444cf82fa389c",
        "IPY_MODEL_036d6183e00f4316b57a6e1f2026e195"
       ],
       "layout": "IPY_MODEL_25fde9b52a3041b5a2842a66e5b6f698"
      }
     },
     "f825b816a6574dbb8563de8cbf9200b4": {
      "model_module": "@jupyter-widgets/controls",
      "model_module_version": "2.0.0",
      "model_name": "HTMLModel",
      "state": {
       "layout": "IPY_MODEL_7695dbd9bae345669df3ec1432625e44",
       "style": "IPY_MODEL_afc480d22d794d859d3c72de9fdb2afd",
       "value": " 0/516 [00:00&lt;?, ?it/s]"
      }
     },
     "f83629d595504b658a703122591784a1": {
      "model_module": "@jupyter-widgets/controls",
      "model_module_version": "2.0.0",
      "model_name": "HBoxModel",
      "state": {
       "children": [
        "IPY_MODEL_bee1635362354a0a928086c3d8835358",
        "IPY_MODEL_1faa6cf77aec49eea8a1a77b2b4af69f",
        "IPY_MODEL_78c8759b6649495692b5d82de13d1579"
       ],
       "layout": "IPY_MODEL_9e350f12c5ff4562801eeef023cd9184"
      }
     },
     "f83c1028155242768f585e7ebc8cd752": {
      "model_module": "@jupyter-widgets/controls",
      "model_module_version": "2.0.0",
      "model_name": "HTMLStyleModel",
      "state": {
       "description_width": "",
       "font_size": null,
       "text_color": null
      }
     },
     "f8716ee5e7d94604ab6638534b1c511a": {
      "model_module": "@jupyter-widgets/controls",
      "model_module_version": "2.0.0",
      "model_name": "HTMLModel",
      "state": {
       "layout": "IPY_MODEL_1e3217d2d0854b52b0304b420c6889dc",
       "style": "IPY_MODEL_34e3af0aca7e409ab43eeb65e4673360",
       "value": " 0/612 [00:00&lt;?, ?it/s]"
      }
     },
     "f872e29555b24ba8a1f7841c2d85f1f9": {
      "model_module": "@jupyter-widgets/controls",
      "model_module_version": "2.0.0",
      "model_name": "HTMLStyleModel",
      "state": {
       "description_width": "",
       "font_size": null,
       "text_color": null
      }
     },
     "f879315b79624604b9858d470e4aeef9": {
      "model_module": "@jupyter-widgets/controls",
      "model_module_version": "2.0.0",
      "model_name": "FloatProgressModel",
      "state": {
       "bar_style": "danger",
       "layout": "IPY_MODEL_849f94a96be942bbb978cf89766adaf6",
       "max": 365,
       "style": "IPY_MODEL_0c45b710f18b481a945b2212cc51758f"
      }
     },
     "f895bd2d454c49ae81c79fd11c4a535c": {
      "model_module": "@jupyter-widgets/base",
      "model_module_version": "2.0.0",
      "model_name": "LayoutModel",
      "state": {}
     },
     "f8a20b3f34a14fa18eba887fadc3d88c": {
      "model_module": "@jupyter-widgets/controls",
      "model_module_version": "2.0.0",
      "model_name": "HTMLStyleModel",
      "state": {
       "description_width": "",
       "font_size": null,
       "text_color": null
      }
     },
     "f91abc986c064e2aab75734db161fdf6": {
      "model_module": "@jupyter-widgets/base",
      "model_module_version": "2.0.0",
      "model_name": "LayoutModel",
      "state": {}
     },
     "f94023a26a794045988fb2fa454d6eee": {
      "model_module": "@jupyter-widgets/controls",
      "model_module_version": "2.0.0",
      "model_name": "HTMLStyleModel",
      "state": {
       "description_width": "",
       "font_size": null,
       "text_color": null
      }
     },
     "f9f4192521584aaeb6184e67a26cc99a": {
      "model_module": "@jupyter-widgets/base",
      "model_module_version": "2.0.0",
      "model_name": "LayoutModel",
      "state": {}
     },
     "fa39a566bbd64d2895531a04c9492640": {
      "model_module": "@jupyter-widgets/base",
      "model_module_version": "2.0.0",
      "model_name": "LayoutModel",
      "state": {}
     },
     "faf732daab3a4eb4b0ea4bf847612420": {
      "model_module": "@jupyter-widgets/controls",
      "model_module_version": "2.0.0",
      "model_name": "HTMLModel",
      "state": {
       "layout": "IPY_MODEL_3e0a332af7d84918bf387d6a87846187",
       "style": "IPY_MODEL_7a8f8b53655140289942ed03254e0721",
       "value": " 0/625 [00:00&lt;?, ?it/s]"
      }
     },
     "fb049d1803164191abea7d1c7be72ed3": {
      "model_module": "@jupyter-widgets/base",
      "model_module_version": "2.0.0",
      "model_name": "LayoutModel",
      "state": {}
     },
     "fb549da7913d470fb0341a8c3ebf7050": {
      "model_module": "@jupyter-widgets/base",
      "model_module_version": "2.0.0",
      "model_name": "LayoutModel",
      "state": {}
     },
     "fb5e8b261d7c411dafc1f87eff2df6d1": {
      "model_module": "@jupyter-widgets/controls",
      "model_module_version": "2.0.0",
      "model_name": "HBoxModel",
      "state": {
       "children": [
        "IPY_MODEL_a8a7c86465b24ff9ae64248d6fdf235c",
        "IPY_MODEL_a65d6e8c64934accae3edcbf9c248bce",
        "IPY_MODEL_775e06ab0522458b9324be5fcbef82b0"
       ],
       "layout": "IPY_MODEL_4b9af43a325d4dcaaaff9b98cd57d738"
      }
     },
     "fb8bcd0ec4d648d98c7ac2810982cb24": {
      "model_module": "@jupyter-widgets/controls",
      "model_module_version": "2.0.0",
      "model_name": "HTMLModel",
      "state": {
       "layout": "IPY_MODEL_cab67070dad6441da06b3ed2b28de84f",
       "style": "IPY_MODEL_4b5b1a63413846d683dec964567cb4cc",
       "value": " 0/634 [00:00&lt;?, ?it/s]"
      }
     },
     "fb97e8a64b1846edae69763bc050b0bc": {
      "model_module": "@jupyter-widgets/controls",
      "model_module_version": "2.0.0",
      "model_name": "FloatProgressModel",
      "state": {
       "bar_style": "danger",
       "layout": "IPY_MODEL_5fa82f38d07647d6870b1d120ac05ce0",
       "max": 542,
       "style": "IPY_MODEL_2254a774f634498c9e964942aa9c9ab3"
      }
     },
     "fb9f66b7d0c844acadb1247f0f7b934e": {
      "model_module": "@jupyter-widgets/controls",
      "model_module_version": "2.0.0",
      "model_name": "ProgressStyleModel",
      "state": {
       "description_width": ""
      }
     },
     "fc0e99e28c1846c4b8ef34fc2afd83ae": {
      "model_module": "@jupyter-widgets/controls",
      "model_module_version": "2.0.0",
      "model_name": "ProgressStyleModel",
      "state": {
       "description_width": ""
      }
     },
     "fc29e1d9d88c4cddabf444cf82fa389c": {
      "model_module": "@jupyter-widgets/controls",
      "model_module_version": "2.0.0",
      "model_name": "FloatProgressModel",
      "state": {
       "bar_style": "danger",
       "layout": "IPY_MODEL_c710802d246748d5ae2d7f2e04f7dc10",
       "max": 663,
       "style": "IPY_MODEL_2aa1e3d2c5c444b38eb01f0dadef56e0"
      }
     },
     "fc353df3c5544a9dbd8831ea15a15deb": {
      "model_module": "@jupyter-widgets/base",
      "model_module_version": "2.0.0",
      "model_name": "LayoutModel",
      "state": {}
     },
     "fc36a075d46d4b2a83d4671e29d9465f": {
      "model_module": "@jupyter-widgets/base",
      "model_module_version": "2.0.0",
      "model_name": "LayoutModel",
      "state": {}
     },
     "fc5bd8104a4942aeb5ab48e3c8269573": {
      "model_module": "@jupyter-widgets/controls",
      "model_module_version": "2.0.0",
      "model_name": "FloatProgressModel",
      "state": {
       "bar_style": "danger",
       "layout": "IPY_MODEL_85661f97e6454c7a9497cd06febbbcc6",
       "max": 703,
       "style": "IPY_MODEL_c45ca52bf5c04cbca051c901cf144808"
      }
     },
     "fc6cb39d22df436ab9aa77816d7f0909": {
      "model_module": "@jupyter-widgets/controls",
      "model_module_version": "2.0.0",
      "model_name": "HTMLModel",
      "state": {
       "layout": "IPY_MODEL_ec683105d0324f16a3764736ccc8df73",
       "style": "IPY_MODEL_d100dae152214e36b474a64c9427578a",
       "value": " 0/797 [00:00&lt;?, ?it/s]"
      }
     },
     "fcaf2482f6e243c79ce1bd0aa5a42f2b": {
      "model_module": "@jupyter-widgets/controls",
      "model_module_version": "2.0.0",
      "model_name": "ProgressStyleModel",
      "state": {
       "description_width": ""
      }
     },
     "fce4419e5e2140a6b0b808088cf59e48": {
      "model_module": "@jupyter-widgets/controls",
      "model_module_version": "2.0.0",
      "model_name": "HBoxModel",
      "state": {
       "children": [
        "IPY_MODEL_b84891942751456b90996d1a0b4fe7fc",
        "IPY_MODEL_d4ee3400317641e3a25905a31f4815da",
        "IPY_MODEL_c7a5e9eba9984b00a7320a70de0d52cd"
       ],
       "layout": "IPY_MODEL_c98e2a5a91bb48bfbe386332749ad70b"
      }
     },
     "fcf2dc9fd91b40a1870ef9bd35e28cca": {
      "model_module": "@jupyter-widgets/base",
      "model_module_version": "2.0.0",
      "model_name": "LayoutModel",
      "state": {}
     },
     "fd4c764ecf624becb262c6a322c99377": {
      "model_module": "@jupyter-widgets/controls",
      "model_module_version": "2.0.0",
      "model_name": "HTMLModel",
      "state": {
       "layout": "IPY_MODEL_ab7e1896dc2b46b688c42be0a50cdbdf",
       "style": "IPY_MODEL_18f0be0a7b0a491c82a834d71ecea99b",
       "value": "  0%"
      }
     },
     "fd88635852dc4d2ca1c3cd298a760a2e": {
      "model_module": "@jupyter-widgets/controls",
      "model_module_version": "2.0.0",
      "model_name": "HBoxModel",
      "state": {
       "children": [
        "IPY_MODEL_a21f842678a448aba380e83e469b2ec5",
        "IPY_MODEL_194b52b8df0d47099f18cf3f36c11184",
        "IPY_MODEL_4cb98f958e544f0b8d250f13ed69e73a"
       ],
       "layout": "IPY_MODEL_f1e7bdb1faa2479ab1e4235510fe3fcb"
      }
     },
     "fd91fe7d9c4c455c80e8324bd9926ef8": {
      "model_module": "@jupyter-widgets/controls",
      "model_module_version": "2.0.0",
      "model_name": "HBoxModel",
      "state": {
       "children": [
        "IPY_MODEL_fe8733c7cd6a442aaa09443be7f3f02c",
        "IPY_MODEL_dfe7b6f0a3c1477cb5cb9454b04bcc08",
        "IPY_MODEL_915f534efa23404dbf001582c76d6549"
       ],
       "layout": "IPY_MODEL_66ae75c5a3854bd9a16b4135110791d6"
      }
     },
     "fe48a4d600ff44c9a4030cad883aee02": {
      "model_module": "@jupyter-widgets/controls",
      "model_module_version": "2.0.0",
      "model_name": "FloatProgressModel",
      "state": {
       "bar_style": "danger",
       "layout": "IPY_MODEL_fcf2dc9fd91b40a1870ef9bd35e28cca",
       "max": 456,
       "style": "IPY_MODEL_921ee516cfb3475daea7fe3abb662310"
      }
     },
     "fe74237ba7394406bcc647e714c1ad80": {
      "model_module": "@jupyter-widgets/controls",
      "model_module_version": "2.0.0",
      "model_name": "HTMLStyleModel",
      "state": {
       "description_width": "",
       "font_size": null,
       "text_color": null
      }
     },
     "fe8733c7cd6a442aaa09443be7f3f02c": {
      "model_module": "@jupyter-widgets/controls",
      "model_module_version": "2.0.0",
      "model_name": "HTMLModel",
      "state": {
       "layout": "IPY_MODEL_84e688e8987f4bf69d35fc3342b2913a",
       "style": "IPY_MODEL_4d53a793fca2457d9fcba64cea46c0b7",
       "value": "100%"
      }
     },
     "fe8a30139d424044b58f336796bf99a3": {
      "model_module": "@jupyter-widgets/controls",
      "model_module_version": "2.0.0",
      "model_name": "HTMLModel",
      "state": {
       "layout": "IPY_MODEL_4e1664f3d7f8452496b0e6401c335178",
       "style": "IPY_MODEL_a47ded6d6187405cb78dba68f8e8451c",
       "value": "  0%"
      }
     },
     "ff6e419360f34eeeaa76f147390790de": {
      "model_module": "@jupyter-widgets/base",
      "model_module_version": "2.0.0",
      "model_name": "LayoutModel",
      "state": {}
     },
     "ff6fc3cc9bc946cc9698579d1f1ce7e4": {
      "model_module": "@jupyter-widgets/controls",
      "model_module_version": "2.0.0",
      "model_name": "HTMLModel",
      "state": {
       "layout": "IPY_MODEL_adf3ddcb2a964b88a297129cea3524a7",
       "style": "IPY_MODEL_9eaec57a72544438be4b7c75d0d7b82d",
       "value": "  0%"
      }
     }
    },
    "version_major": 2,
    "version_minor": 0
   }
  }
 },
 "nbformat": 4,
 "nbformat_minor": 5
}
