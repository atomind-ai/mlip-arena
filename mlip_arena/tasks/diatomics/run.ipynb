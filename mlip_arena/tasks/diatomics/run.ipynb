{
 "cells": [
  {
   "cell_type": "code",
   "execution_count": 3,
   "id": "3200850a-b8fb-4f50-9815-16ae8da0f942",
   "metadata": {
    "tags": []
   },
   "outputs": [],
   "source": [
    "import os\n",
    "from pathlib import Path\n",
    "\n",
    "import numpy as np\n",
    "import pandas as pd\n",
    "from ase import Atom, Atoms\n",
    "from ase.data import chemical_symbols, covalent_radii, vdw_alvarez\n",
    "from ase.io import read, write\n",
    "from pymatgen.core import Element\n",
    "from scipy import stats\n",
    "from tqdm.auto import tqdm\n",
    "\n",
    "from mlip_arena.models import MLIPEnum, REGISTRY\n",
    "\n",
    "%matplotlib inline"
   ]
  },
  {
   "cell_type": "code",
   "execution_count": 7,
   "id": "90887faa-1601-4c4c-9c44-d16731471d7f",
   "metadata": {
    "scrolled": true,
    "tags": []
   },
   "outputs": [
    {
     "name": "stdout",
     "output_type": "stream",
     "text": [
      "========== eqV2(OMat) ==========\n"
     ]
    },
    {
     "name": "stderr",
     "output_type": "stream",
     "text": [
      "WARNING:root:Couldn't modify the submission pickle with error: [Errno 2] No such file or directory: '/fsx-ocp-med/lbluque/logs/omat-alex-mp/S2EFS/train/4460394/32006266_submitted.pkl'\n"
     ]
    },
    {
     "data": {
      "application/vnd.jupyter.widget-view+json": {
       "model_id": "e77f2270a8f34d81b65cab9852bab94c",
       "version_major": 2,
       "version_minor": 0
      },
      "text/plain": [
       "  0%|          | 0/118 [00:00<?, ?it/s]"
      ]
     },
     "metadata": {},
     "output_type": "display_data"
    },
    {
     "name": "stdout",
     "output_type": "stream",
     "text": [
      "Atoms(symbols='H2', pbc=True, cell=[7.4399999999999995, 7.441, 7.441999999999999], calculator=SinglePointCalculator(...))\n"
     ]
    },
    {
     "data": {
      "application/vnd.jupyter.widget-view+json": {
       "model_id": "33161320d6e5493ab57a0848eb1395a5",
       "version_major": 2,
       "version_minor": 0
      },
      "text/plain": [
       "  0%|          | 0/344 [00:00<?, ?it/s]"
      ]
     },
     "metadata": {},
     "output_type": "display_data"
    },
    {
     "name": "stdout",
     "output_type": "stream",
     "text": [
      "Atoms(symbols='He2', pbc=True, cell=[8.866, 8.866999999999999, 8.868], calculator=SinglePointCalculator(...))\n"
     ]
    },
    {
     "data": {
      "application/vnd.jupyter.widget-view+json": {
       "model_id": "4109a21a613a448a94f4667dd7383747",
       "version_major": 2,
       "version_minor": 0
      },
      "text/plain": [
       "  0%|          | 0/418 [00:00<?, ?it/s]"
      ]
     },
     "metadata": {},
     "output_type": "display_data"
    },
    {
     "name": "stdout",
     "output_type": "stream",
     "text": [
      "Atoms(symbols='Li2', pbc=True, cell=[13.144000000000002, 13.145000000000001, 13.146000000000003])\n"
     ]
    },
    {
     "data": {
      "application/vnd.jupyter.widget-view+json": {
       "model_id": "5c0588112db2428bac40c25c24530e67",
       "version_major": 2,
       "version_minor": 0
      },
      "text/plain": [
       "  0%|          | 0/542 [00:00<?, ?it/s]"
      ]
     },
     "metadata": {},
     "output_type": "display_data"
    },
    {
     "name": "stdout",
     "output_type": "stream",
     "text": [
      "Atoms(symbols='Be2', pbc=True, cell=[12.276, 12.277, 12.278])\n"
     ]
    },
    {
     "data": {
      "application/vnd.jupyter.widget-view+json": {
       "model_id": "cc5d8bcc3a49475fb01984ca4c768bee",
       "version_major": 2,
       "version_minor": 0
      },
      "text/plain": [
       "  0%|          | 0/527 [00:00<?, ?it/s]"
      ]
     },
     "metadata": {},
     "output_type": "display_data"
    },
    {
     "name": "stdout",
     "output_type": "stream",
     "text": [
      "Atoms(symbols='B2', pbc=True, cell=[11.842, 11.843, 11.844000000000001])\n"
     ]
    },
    {
     "data": {
      "application/vnd.jupyter.widget-view+json": {
       "model_id": "66d7e64e73394dc39a66ab3596fec3ca",
       "version_major": 2,
       "version_minor": 0
      },
      "text/plain": [
       "  0%|          | 0/516 [00:00<?, ?it/s]"
      ]
     },
     "metadata": {},
     "output_type": "display_data"
    },
    {
     "name": "stdout",
     "output_type": "stream",
     "text": [
      "Atoms(symbols='C2', pbc=True, cell=[10.974, 10.975, 10.976])\n"
     ]
    },
    {
     "data": {
      "application/vnd.jupyter.widget-view+json": {
       "model_id": "8a6fa1e6419b4987ac7430e62b76234d",
       "version_major": 2,
       "version_minor": 0
      },
      "text/plain": [
       "  0%|          | 0/480 [00:00<?, ?it/s]"
      ]
     },
     "metadata": {},
     "output_type": "display_data"
    },
    {
     "name": "stdout",
     "output_type": "stream",
     "text": [
      "Atoms(symbols='N2', pbc=True, cell=[10.292, 10.293, 10.294])\n"
     ]
    },
    {
     "data": {
      "application/vnd.jupyter.widget-view+json": {
       "model_id": "ef48b0b0e9904154823ab0d01bd44376",
       "version_major": 2,
       "version_minor": 0
      },
      "text/plain": [
       "  0%|          | 0/450 [00:00<?, ?it/s]"
      ]
     },
     "metadata": {},
     "output_type": "display_data"
    },
    {
     "name": "stdout",
     "output_type": "stream",
     "text": [
      "Atoms(symbols='O2', pbc=True, cell=[9.3, 9.301, 9.302000000000001])\n"
     ]
    },
    {
     "data": {
      "application/vnd.jupyter.widget-view+json": {
       "model_id": "cafa0ec9fa784f25a2f64d8c76496593",
       "version_major": 2,
       "version_minor": 0
      },
      "text/plain": [
       "  0%|          | 0/405 [00:00<?, ?it/s]"
      ]
     },
     "metadata": {},
     "output_type": "display_data"
    },
    {
     "name": "stdout",
     "output_type": "stream",
     "text": [
      "Atoms(symbols='F2', pbc=True, cell=[9.052, 9.052999999999999, 9.054])\n"
     ]
    },
    {
     "data": {
      "application/vnd.jupyter.widget-view+json": {
       "model_id": "21d27eaeee9848798b9f819da5326c05",
       "version_major": 2,
       "version_minor": 0
      },
      "text/plain": [
       "  0%|          | 0/401 [00:00<?, ?it/s]"
      ]
     },
     "metadata": {},
     "output_type": "display_data"
    },
    {
     "name": "stdout",
     "output_type": "stream",
     "text": [
      "Atoms(symbols='Ne2', pbc=True, cell=[9.796000000000001, 9.797, 9.798000000000002])\n"
     ]
    },
    {
     "data": {
      "application/vnd.jupyter.widget-view+json": {
       "model_id": "f1a5036eebaa4e7c9601bc2ded6e7347",
       "version_major": 2,
       "version_minor": 0
      },
      "text/plain": [
       "  0%|          | 0/437 [00:00<?, ?it/s]"
      ]
     },
     "metadata": {},
     "output_type": "display_data"
    },
    {
     "name": "stdout",
     "output_type": "stream",
     "text": [
      "Atoms(symbols='Na2', pbc=True, cell=[15.5, 15.501, 15.502])\n"
     ]
    },
    {
     "data": {
      "application/vnd.jupyter.widget-view+json": {
       "model_id": "759939e385084be58faa4e41c6cc2648",
       "version_major": 2,
       "version_minor": 0
      },
      "text/plain": [
       "  0%|          | 0/625 [00:00<?, ?it/s]"
      ]
     },
     "metadata": {},
     "output_type": "display_data"
    },
    {
     "name": "stdout",
     "output_type": "stream",
     "text": [
      "Atoms(symbols='Mg2', pbc=True, cell=[15.562, 15.562999999999999, 15.564])\n"
     ]
    },
    {
     "data": {
      "application/vnd.jupyter.widget-view+json": {
       "model_id": "96a4ffb0515f45539e6de783c39cd398",
       "version_major": 2,
       "version_minor": 0
      },
      "text/plain": [
       "  0%|          | 0/651 [00:00<?, ?it/s]"
      ]
     },
     "metadata": {},
     "output_type": "display_data"
    },
    {
     "name": "stdout",
     "output_type": "stream",
     "text": [
      "Atoms(symbols='Al2', pbc=True, cell=[13.950000000000001, 13.951, 13.952000000000002])\n"
     ]
    },
    {
     "data": {
      "application/vnd.jupyter.widget-view+json": {
       "model_id": "592e2b487edd47c1b0a4165064533689",
       "version_major": 2,
       "version_minor": 0
      },
      "text/plain": [
       "  0%|          | 0/588 [00:00<?, ?it/s]"
      ]
     },
     "metadata": {},
     "output_type": "display_data"
    },
    {
     "name": "stdout",
     "output_type": "stream",
     "text": [
      "Atoms(symbols='Si2', pbc=True, cell=[13.578, 13.578999999999999, 13.58])\n"
     ]
    },
    {
     "data": {
      "application/vnd.jupyter.widget-view+json": {
       "model_id": "4f5ee68259a64c76beda1adc163a6cbd",
       "version_major": 2,
       "version_minor": 0
      },
      "text/plain": [
       "  0%|          | 0/578 [00:00<?, ?it/s]"
      ]
     },
     "metadata": {},
     "output_type": "display_data"
    },
    {
     "name": "stdout",
     "output_type": "stream",
     "text": [
      "Atoms(symbols='P2', pbc=True, cell=[11.78, 11.780999999999999, 11.782])\n"
     ]
    },
    {
     "data": {
      "application/vnd.jupyter.widget-view+json": {
       "model_id": "cb5f6ecb3ca74d50b75430a0c388ad6f",
       "version_major": 2,
       "version_minor": 0
      },
      "text/plain": [
       "  0%|          | 0/492 [00:00<?, ?it/s]"
      ]
     },
     "metadata": {},
     "output_type": "display_data"
    },
    {
     "name": "stdout",
     "output_type": "stream",
     "text": [
      "Atoms(symbols='S2', pbc=True, cell=[11.718, 11.719, 11.72])\n"
     ]
    },
    {
     "data": {
      "application/vnd.jupyter.widget-view+json": {
       "model_id": "25b6bd606d7347ccbbc065dbac275f71",
       "version_major": 2,
       "version_minor": 0
      },
      "text/plain": [
       "  0%|          | 0/491 [00:00<?, ?it/s]"
      ]
     },
     "metadata": {},
     "output_type": "display_data"
    },
    {
     "name": "stdout",
     "output_type": "stream",
     "text": [
      "Atoms(symbols='Cl2', pbc=True, cell=[11.284, 11.285, 11.286000000000001])\n"
     ]
    },
    {
     "data": {
      "application/vnd.jupyter.widget-view+json": {
       "model_id": "416c99cd3f864f419cd0184960a4155b",
       "version_major": 2,
       "version_minor": 0
      },
      "text/plain": [
       "  0%|          | 0/472 [00:00<?, ?it/s]"
      ]
     },
     "metadata": {},
     "output_type": "display_data"
    },
    {
     "name": "stdout",
     "output_type": "stream",
     "text": [
      "Atoms(symbols='Ar2', pbc=True, cell=[11.346, 11.347, 11.348])\n"
     ]
    },
    {
     "data": {
      "application/vnd.jupyter.widget-view+json": {
       "model_id": "6bf463d79e45467bb5b64a129a86e03e",
       "version_major": 2,
       "version_minor": 0
      },
      "text/plain": [
       "  0%|          | 0/471 [00:00<?, ?it/s]"
      ]
     },
     "metadata": {},
     "output_type": "display_data"
    },
    {
     "name": "stdout",
     "output_type": "stream",
     "text": [
      "Atoms(symbols='K2', pbc=True, cell=[16.926000000000002, 16.927000000000003, 16.928])\n"
     ]
    },
    {
     "data": {
      "application/vnd.jupyter.widget-view+json": {
       "model_id": "e0197e568746415eb890d89cd0bbeaa3",
       "version_major": 2,
       "version_minor": 0
      },
      "text/plain": [
       "  0%|          | 0/663 [00:00<?, ?it/s]"
      ]
     },
     "metadata": {},
     "output_type": "display_data"
    },
    {
     "name": "stdout",
     "output_type": "stream",
     "text": [
      "Atoms(symbols='Ca2', pbc=True, cell=[16.244, 16.245, 16.246])\n"
     ]
    },
    {
     "data": {
      "application/vnd.jupyter.widget-view+json": {
       "model_id": "3acd1fa6108947b2bb14edf0999c89ab",
       "version_major": 2,
       "version_minor": 0
      },
      "text/plain": [
       "  0%|          | 0/653 [00:00<?, ?it/s]"
      ]
     },
     "metadata": {},
     "output_type": "display_data"
    },
    {
     "name": "stdout",
     "output_type": "stream",
     "text": [
      "Atoms(symbols='Sc2', pbc=True, cell=[15.996, 15.997, 15.998000000000001])\n"
     ]
    },
    {
     "data": {
      "application/vnd.jupyter.widget-view+json": {
       "model_id": "bec7223da3404c3a9da1cffeba23286f",
       "version_major": 2,
       "version_minor": 0
      },
      "text/plain": [
       "  0%|          | 0/646 [00:00<?, ?it/s]"
      ]
     },
     "metadata": {},
     "output_type": "display_data"
    },
    {
     "name": "stdout",
     "output_type": "stream",
     "text": [
      "Atoms(symbols='Ti2', pbc=True, cell=[15.252, 15.253, 15.254000000000001])\n"
     ]
    },
    {
     "data": {
      "application/vnd.jupyter.widget-view+json": {
       "model_id": "b25ebdf58a274614a1cecf32328f5164",
       "version_major": 2,
       "version_minor": 0
      },
      "text/plain": [
       "  0%|          | 0/618 [00:00<?, ?it/s]"
      ]
     },
     "metadata": {},
     "output_type": "display_data"
    },
    {
     "name": "stdout",
     "output_type": "stream",
     "text": [
      "Atoms(symbols='V2', pbc=True, cell=[15.004, 15.004999999999999, 15.006])\n"
     ]
    },
    {
     "data": {
      "application/vnd.jupyter.widget-view+json": {
       "model_id": "c5ce66b45fdd4bac8dd69caf7b6a8a6f",
       "version_major": 2,
       "version_minor": 0
      },
      "text/plain": [
       "  0%|          | 0/612 [00:00<?, ?it/s]"
      ]
     },
     "metadata": {},
     "output_type": "display_data"
    },
    {
     "name": "stdout",
     "output_type": "stream",
     "text": [
      "Atoms(symbols='Cr2', pbc=True, cell=[15.190000000000001, 15.191, 15.192000000000002])\n"
     ]
    },
    {
     "data": {
      "application/vnd.jupyter.widget-view+json": {
       "model_id": "b094adadc86849238da83396b6e818f3",
       "version_major": 2,
       "version_minor": 0
      },
      "text/plain": [
       "  0%|          | 0/634 [00:00<?, ?it/s]"
      ]
     },
     "metadata": {},
     "output_type": "display_data"
    },
    {
     "name": "stdout",
     "output_type": "stream",
     "text": [
      "Atoms(symbols='Mn2', pbc=True, cell=[15.190000000000001, 15.191, 15.192000000000002])\n"
     ]
    },
    {
     "data": {
      "application/vnd.jupyter.widget-view+json": {
       "model_id": "60b9c56384d1403da19808c5b5410c40",
       "version_major": 2,
       "version_minor": 0
      },
      "text/plain": [
       "  0%|          | 0/634 [00:00<?, ?it/s]"
      ]
     },
     "metadata": {},
     "output_type": "display_data"
    },
    {
     "name": "stdout",
     "output_type": "stream",
     "text": [
      "Atoms(symbols='Fe2', pbc=True, cell=[15.128, 15.129, 15.13])\n"
     ]
    },
    {
     "data": {
      "application/vnd.jupyter.widget-view+json": {
       "model_id": "eb13c83599ac439a886b1b39ab9e3219",
       "version_major": 2,
       "version_minor": 0
      },
      "text/plain": [
       "  0%|          | 0/637 [00:00<?, ?it/s]"
      ]
     },
     "metadata": {},
     "output_type": "display_data"
    },
    {
     "name": "stdout",
     "output_type": "stream",
     "text": [
      "Atoms(symbols='Co2', pbc=True, cell=[14.879999999999999, 14.880999999999998, 14.882])\n"
     ]
    },
    {
     "data": {
      "application/vnd.jupyter.widget-view+json": {
       "model_id": "74d387a976ac45518667180f5f1d7dca",
       "version_major": 2,
       "version_minor": 0
      },
      "text/plain": [
       "  0%|          | 0/630 [00:00<?, ?it/s]"
      ]
     },
     "metadata": {},
     "output_type": "display_data"
    },
    {
     "name": "stdout",
     "output_type": "stream",
     "text": [
      "Atoms(symbols='Ni2', pbc=True, cell=[14.879999999999999, 14.880999999999998, 14.882])\n"
     ]
    },
    {
     "data": {
      "application/vnd.jupyter.widget-view+json": {
       "model_id": "49a1583cdbc649729d9d30ba63c140d3",
       "version_major": 2,
       "version_minor": 0
      },
      "text/plain": [
       "  0%|          | 0/632 [00:00<?, ?it/s]"
      ]
     },
     "metadata": {},
     "output_type": "display_data"
    },
    {
     "name": "stdout",
     "output_type": "stream",
     "text": [
      "Atoms(symbols='Cu2', pbc=True, cell=[14.756, 14.757, 14.758000000000001])\n"
     ]
    },
    {
     "data": {
      "application/vnd.jupyter.widget-view+json": {
       "model_id": "0e3c31876fed4ecdac47b797c62dc08e",
       "version_major": 2,
       "version_minor": 0
      },
      "text/plain": [
       "  0%|          | 0/618 [00:00<?, ?it/s]"
      ]
     },
     "metadata": {},
     "output_type": "display_data"
    },
    {
     "name": "stdout",
     "output_type": "stream",
     "text": [
      "Atoms(symbols='Zn2', pbc=True, cell=[14.818000000000001, 14.819, 14.820000000000002])\n"
     ]
    },
    {
     "data": {
      "application/vnd.jupyter.widget-view+json": {
       "model_id": "7f9e6fa0a05c4344bd68cf58f0a9816e",
       "version_major": 2,
       "version_minor": 0
      },
      "text/plain": [
       "  0%|          | 0/631 [00:00<?, ?it/s]"
      ]
     },
     "metadata": {},
     "output_type": "display_data"
    },
    {
     "name": "stdout",
     "output_type": "stream",
     "text": [
      "Atoms(symbols='Ga2', pbc=True, cell=[14.383999999999999, 14.384999999999998, 14.386])\n"
     ]
    },
    {
     "data": {
      "application/vnd.jupyter.widget-view+json": {
       "model_id": "ad3c78bdf5af4d1fa90eab5f10ba2bde",
       "version_major": 2,
       "version_minor": 0
      },
      "text/plain": [
       "  0%|          | 0/609 [00:00<?, ?it/s]"
      ]
     },
     "metadata": {},
     "output_type": "display_data"
    },
    {
     "name": "stdout",
     "output_type": "stream",
     "text": [
      "Atoms(symbols='Ge2', pbc=True, cell=[14.198, 14.199, 14.200000000000001])\n"
     ]
    },
    {
     "data": {
      "application/vnd.jupyter.widget-view+json": {
       "model_id": "a7fdb11ede9544e59987eea70e559d86",
       "version_major": 2,
       "version_minor": 0
      },
      "text/plain": [
       "  0%|          | 0/601 [00:00<?, ?it/s]"
      ]
     },
     "metadata": {},
     "output_type": "display_data"
    },
    {
     "name": "stdout",
     "output_type": "stream",
     "text": [
      "Atoms(symbols='As2', pbc=True, cell=[11.655999999999999, 11.656999999999998, 11.658])\n"
     ]
    },
    {
     "data": {
      "application/vnd.jupyter.widget-view+json": {
       "model_id": "c633a1308e304dae9dda69ad84a96989",
       "version_major": 2,
       "version_minor": 0
      },
      "text/plain": [
       "  0%|          | 0/475 [00:00<?, ?it/s]"
      ]
     },
     "metadata": {},
     "output_type": "display_data"
    },
    {
     "name": "stdout",
     "output_type": "stream",
     "text": [
      "Atoms(symbols='Se2', pbc=True, cell=[11.284, 11.285, 11.286000000000001])\n"
     ]
    },
    {
     "data": {
      "application/vnd.jupyter.widget-view+json": {
       "model_id": "34b3b4bb2fbb40df91e7c2444b2ce942",
       "version_major": 2,
       "version_minor": 0
      },
      "text/plain": [
       "  0%|          | 0/456 [00:00<?, ?it/s]"
      ]
     },
     "metadata": {},
     "output_type": "display_data"
    },
    {
     "name": "stdout",
     "output_type": "stream",
     "text": [
      "Atoms(symbols='Br2', pbc=True, cell=[11.532000000000002, 11.533000000000001, 11.534000000000002])\n"
     ]
    },
    {
     "data": {
      "application/vnd.jupyter.widget-view+json": {
       "model_id": "7ea332ea894447e5ae593a6cb1b56c7a",
       "version_major": 2,
       "version_minor": 0
      },
      "text/plain": [
       "  0%|          | 0/468 [00:00<?, ?it/s]"
      ]
     },
     "metadata": {},
     "output_type": "display_data"
    },
    {
     "name": "stdout",
     "output_type": "stream",
     "text": [
      "Atoms(symbols='Kr2', pbc=True, cell=[13.950000000000001, 13.951, 13.952000000000002])\n"
     ]
    },
    {
     "data": {
      "application/vnd.jupyter.widget-view+json": {
       "model_id": "27f59e0b042745b89fa04a0df01201a0",
       "version_major": 2,
       "version_minor": 0
      },
      "text/plain": [
       "  0%|          | 0/593 [00:00<?, ?it/s]"
      ]
     },
     "metadata": {},
     "output_type": "display_data"
    },
    {
     "name": "stdout",
     "output_type": "stream",
     "text": [
      "Atoms(symbols='Rb2', pbc=True, cell=[19.902, 19.903000000000002, 19.904])\n"
     ]
    },
    {
     "data": {
      "application/vnd.jupyter.widget-view+json": {
       "model_id": "10031ad6ac8446be81d9ee42aa7c630e",
       "version_major": 2,
       "version_minor": 0
      },
      "text/plain": [
       "  0%|          | 0/797 [00:00<?, ?it/s]"
      ]
     },
     "metadata": {},
     "output_type": "display_data"
    },
    {
     "name": "stdout",
     "output_type": "stream",
     "text": [
      "Atoms(symbols='Sr2', pbc=True, cell=[17.608, 17.609, 17.61])\n"
     ]
    },
    {
     "data": {
      "application/vnd.jupyter.widget-view+json": {
       "model_id": "9b33442f8a80462f9e8cc8426fc933e8",
       "version_major": 2,
       "version_minor": 0
      },
      "text/plain": [
       "  0%|          | 0/704 [00:00<?, ?it/s]"
      ]
     },
     "metadata": {},
     "output_type": "display_data"
    },
    {
     "name": "stdout",
     "output_type": "stream",
     "text": [
      "Atoms(symbols='Y2', pbc=True, cell=[17.05, 17.051000000000002, 17.052])\n"
     ]
    },
    {
     "data": {
      "application/vnd.jupyter.widget-view+json": {
       "model_id": "964912428a9f4b6888e86e77a056a278",
       "version_major": 2,
       "version_minor": 0
      },
      "text/plain": [
       "  0%|          | 0/681 [00:00<?, ?it/s]"
      ]
     },
     "metadata": {},
     "output_type": "display_data"
    },
    {
     "name": "stdout",
     "output_type": "stream",
     "text": [
      "Atoms(symbols='Zr2', pbc=True, cell=[15.624, 15.625, 15.626000000000001])\n"
     ]
    },
    {
     "data": {
      "application/vnd.jupyter.widget-view+json": {
       "model_id": "99995c462de64ee886cd1ce508ca7b32",
       "version_major": 2,
       "version_minor": 0
      },
      "text/plain": [
       "  0%|          | 0/623 [00:00<?, ?it/s]"
      ]
     },
     "metadata": {},
     "output_type": "display_data"
    },
    {
     "name": "stdout",
     "output_type": "stream",
     "text": [
      "Atoms(symbols='Nb2', pbc=True, cell=[15.872000000000002, 15.873000000000001, 15.874000000000002])\n"
     ]
    },
    {
     "data": {
      "application/vnd.jupyter.widget-view+json": {
       "model_id": "fe0eb64e91bd4f98ac3bfbeb630762ce",
       "version_major": 2,
       "version_minor": 0
      },
      "text/plain": [
       "  0%|          | 0/646 [00:00<?, ?it/s]"
      ]
     },
     "metadata": {},
     "output_type": "display_data"
    },
    {
     "name": "stdout",
     "output_type": "stream",
     "text": [
      "Atoms(symbols='Mo2', pbc=True, cell=[15.190000000000001, 15.191, 15.192000000000002])\n"
     ]
    },
    {
     "data": {
      "application/vnd.jupyter.widget-view+json": {
       "model_id": "5a1890a3879a488aa47630c7cb2cb7d3",
       "version_major": 2,
       "version_minor": 0
      },
      "text/plain": [
       "  0%|          | 0/620 [00:00<?, ?it/s]"
      ]
     },
     "metadata": {},
     "output_type": "display_data"
    },
    {
     "name": "stdout",
     "output_type": "stream",
     "text": [
      "Atoms(symbols='Tc2', pbc=True, cell=[15.128, 15.129, 15.13])\n"
     ]
    },
    {
     "data": {
      "application/vnd.jupyter.widget-view+json": {
       "model_id": "76815ec05cc4495cbf8ce252865fbdc5",
       "version_major": 2,
       "version_minor": 0
      },
      "text/plain": [
       "  0%|          | 0/624 [00:00<?, ?it/s]"
      ]
     },
     "metadata": {},
     "output_type": "display_data"
    },
    {
     "name": "stdout",
     "output_type": "stream",
     "text": [
      "Atoms(symbols='Ru2', pbc=True, cell=[15.252, 15.253, 15.254000000000001])\n"
     ]
    },
    {
     "data": {
      "application/vnd.jupyter.widget-view+json": {
       "model_id": "e5885834967a44d8927faad4458ce7c6",
       "version_major": 2,
       "version_minor": 0
      },
      "text/plain": [
       "  0%|          | 0/631 [00:00<?, ?it/s]"
      ]
     },
     "metadata": {},
     "output_type": "display_data"
    },
    {
     "name": "stdout",
     "output_type": "stream",
     "text": [
      "Atoms(symbols='Rh2', pbc=True, cell=[15.128, 15.129, 15.13])\n"
     ]
    },
    {
     "data": {
      "application/vnd.jupyter.widget-view+json": {
       "model_id": "9ab9223fdc0540c890ec01b16c6e2b7f",
       "version_major": 2,
       "version_minor": 0
      },
      "text/plain": [
       "  0%|          | 0/628 [00:00<?, ?it/s]"
      ]
     },
     "metadata": {},
     "output_type": "display_data"
    },
    {
     "name": "stdout",
     "output_type": "stream",
     "text": [
      "Atoms(symbols='Pd2', pbc=True, cell=[13.33, 13.331, 13.332])\n"
     ]
    },
    {
     "data": {
      "application/vnd.jupyter.widget-view+json": {
       "model_id": "d3396aed00b744d0afb663cc50d721d4",
       "version_major": 2,
       "version_minor": 0
      },
      "text/plain": [
       "  0%|          | 0/541 [00:00<?, ?it/s]"
      ]
     },
     "metadata": {},
     "output_type": "display_data"
    },
    {
     "name": "stdout",
     "output_type": "stream",
     "text": [
      "Atoms(symbols='Ag2', pbc=True, cell=[15.686, 15.687, 15.688])\n"
     ]
    },
    {
     "data": {
      "application/vnd.jupyter.widget-view+json": {
       "model_id": "1b45e3364bca474ebbe35e3151e95f5b",
       "version_major": 2,
       "version_minor": 0
      },
      "text/plain": [
       "  0%|          | 0/653 [00:00<?, ?it/s]"
      ]
     },
     "metadata": {},
     "output_type": "display_data"
    },
    {
     "name": "stdout",
     "output_type": "stream",
     "text": [
      "Atoms(symbols='Cd2', pbc=True, cell=[15.438000000000002, 15.439000000000002, 15.440000000000003])\n"
     ]
    },
    {
     "data": {
      "application/vnd.jupyter.widget-view+json": {
       "model_id": "375c045215b247bba8adc37561f8073c",
       "version_major": 2,
       "version_minor": 0
      },
      "text/plain": [
       "  0%|          | 0/642 [00:00<?, ?it/s]"
      ]
     },
     "metadata": {},
     "output_type": "display_data"
    },
    {
     "name": "stdout",
     "output_type": "stream",
     "text": [
      "Atoms(symbols='In2', pbc=True, cell=[15.066, 15.067, 15.068000000000001])\n"
     ]
    },
    {
     "data": {
      "application/vnd.jupyter.widget-view+json": {
       "model_id": "223a9efce99d4fef9ae48b6a2b5d2973",
       "version_major": 2,
       "version_minor": 0
      },
      "text/plain": [
       "  0%|          | 0/625 [00:00<?, ?it/s]"
      ]
     },
     "metadata": {},
     "output_type": "display_data"
    },
    {
     "name": "stdout",
     "output_type": "stream",
     "text": [
      "Atoms(symbols='Sn2', pbc=True, cell=[15.004, 15.004999999999999, 15.006])\n"
     ]
    },
    {
     "data": {
      "application/vnd.jupyter.widget-view+json": {
       "model_id": "d46cec3a59b04c28b09c53565784ed1b",
       "version_major": 2,
       "version_minor": 0
      },
      "text/plain": [
       "  0%|          | 0/625 [00:00<?, ?it/s]"
      ]
     },
     "metadata": {},
     "output_type": "display_data"
    },
    {
     "name": "stdout",
     "output_type": "stream",
     "text": [
      "Atoms(symbols='Sb2', pbc=True, cell=[15.314000000000002, 15.315000000000001, 15.316000000000003])\n"
     ]
    },
    {
     "data": {
      "application/vnd.jupyter.widget-view+json": {
       "model_id": "ae2e54fb70d849aea94f03960e144bc0",
       "version_major": 2,
       "version_minor": 0
      },
      "text/plain": [
       "  0%|          | 0/640 [00:00<?, ?it/s]"
      ]
     },
     "metadata": {},
     "output_type": "display_data"
    },
    {
     "name": "stdout",
     "output_type": "stream",
     "text": [
      "Atoms(symbols='Te2', pbc=True, cell=[12.338000000000001, 12.339, 12.340000000000002])\n"
     ]
    },
    {
     "data": {
      "application/vnd.jupyter.widget-view+json": {
       "model_id": "556beb20e06b4494b4a9cedecc7d1bb2",
       "version_major": 2,
       "version_minor": 0
      },
      "text/plain": [
       "  0%|          | 0/492 [00:00<?, ?it/s]"
      ]
     },
     "metadata": {},
     "output_type": "display_data"
    },
    {
     "name": "stdout",
     "output_type": "stream",
     "text": [
      "Atoms(symbols='I2', pbc=True, cell=[12.648000000000001, 12.649000000000001, 12.650000000000002])\n"
     ]
    },
    {
     "data": {
      "application/vnd.jupyter.widget-view+json": {
       "model_id": "580220c5d9f84ddeba2d107cebc27388",
       "version_major": 2,
       "version_minor": 0
      },
      "text/plain": [
       "  0%|          | 0/507 [00:00<?, ?it/s]"
      ]
     },
     "metadata": {},
     "output_type": "display_data"
    },
    {
     "name": "stdout",
     "output_type": "stream",
     "text": [
      "Atoms(symbols='Xe2', pbc=True, cell=[12.772, 12.773, 12.774000000000001])\n"
     ]
    },
    {
     "data": {
      "application/vnd.jupyter.widget-view+json": {
       "model_id": "b223a63423b84d1b9aed015ab28aa74d",
       "version_major": 2,
       "version_minor": 0
      },
      "text/plain": [
       "  0%|          | 0/512 [00:00<?, ?it/s]"
      ]
     },
     "metadata": {},
     "output_type": "display_data"
    },
    {
     "name": "stdout",
     "output_type": "stream",
     "text": [
      "Atoms(symbols='Cs2', pbc=True, cell=[21.576, 21.577, 21.578])\n"
     ]
    },
    {
     "data": {
      "application/vnd.jupyter.widget-view+json": {
       "model_id": "222cba83b3f244de88155582bea72e79",
       "version_major": 2,
       "version_minor": 0
      },
      "text/plain": [
       "  0%|          | 0/859 [00:00<?, ?it/s]"
      ]
     },
     "metadata": {},
     "output_type": "display_data"
    },
    {
     "name": "stdout",
     "output_type": "stream",
     "text": [
      "Atoms(symbols='Ba2', pbc=True, cell=[18.785999999999998, 18.787, 18.787999999999997])\n"
     ]
    },
    {
     "data": {
      "application/vnd.jupyter.widget-view+json": {
       "model_id": "cdcb3bdf95c84fa5a9fcd1aadbc360f5",
       "version_major": 2,
       "version_minor": 0
      },
      "text/plain": [
       "  0%|          | 0/745 [00:00<?, ?it/s]"
      ]
     },
     "metadata": {},
     "output_type": "display_data"
    },
    {
     "name": "stdout",
     "output_type": "stream",
     "text": [
      "Atoms(symbols='La2', pbc=True, cell=[18.476, 18.477, 18.477999999999998])\n"
     ]
    },
    {
     "data": {
      "application/vnd.jupyter.widget-view+json": {
       "model_id": "59f93f3830504b5c8b1f31fdcb271391",
       "version_major": 2,
       "version_minor": 0
      },
      "text/plain": [
       "  0%|          | 0/737 [00:00<?, ?it/s]"
      ]
     },
     "metadata": {},
     "output_type": "display_data"
    },
    {
     "name": "stdout",
     "output_type": "stream",
     "text": [
      "Atoms(symbols='Ce2', pbc=True, cell=[17.855999999999998, 17.857, 17.857999999999997])\n"
     ]
    },
    {
     "data": {
      "application/vnd.jupyter.widget-view+json": {
       "model_id": "c3ab174f1c404215b8a1fdf75826fd2e",
       "version_major": 2,
       "version_minor": 0
      },
      "text/plain": [
       "  0%|          | 0/709 [00:00<?, ?it/s]"
      ]
     },
     "metadata": {},
     "output_type": "display_data"
    },
    {
     "name": "stdout",
     "output_type": "stream",
     "text": [
      "Atoms(symbols='Pr2', pbc=True, cell=[18.104, 18.105, 18.105999999999998])\n"
     ]
    },
    {
     "data": {
      "application/vnd.jupyter.widget-view+json": {
       "model_id": "b2c80e8cf5c54724a3f51476ddf35cb1",
       "version_major": 2,
       "version_minor": 0
      },
      "text/plain": [
       "  0%|          | 0/722 [00:00<?, ?it/s]"
      ]
     },
     "metadata": {},
     "output_type": "display_data"
    },
    {
     "name": "stdout",
     "output_type": "stream",
     "text": [
      "Atoms(symbols='Nd2', pbc=True, cell=[18.290000000000003, 18.291000000000004, 18.292])\n"
     ]
    },
    {
     "data": {
      "application/vnd.jupyter.widget-view+json": {
       "model_id": "c10a80c6609b4ca3886b14f604b9c34d",
       "version_major": 2,
       "version_minor": 0
      },
      "text/plain": [
       "  0%|          | 0/733 [00:00<?, ?it/s]"
      ]
     },
     "metadata": {},
     "output_type": "display_data"
    },
    {
     "name": "stdout",
     "output_type": "stream",
     "text": [
      "Atoms(symbols='Pm2', pbc=True, cell=[12.0, 12.001, 12.002])\n"
     ]
    },
    {
     "data": {
      "application/vnd.jupyter.widget-view+json": {
       "model_id": "e50e5736fd21439f9b3f09840ee7fadf",
       "version_major": 2,
       "version_minor": 0
      },
      "text/plain": [
       "  0%|          | 0/420 [00:00<?, ?it/s]"
      ]
     },
     "metadata": {},
     "output_type": "display_data"
    },
    {
     "name": "stdout",
     "output_type": "stream",
     "text": [
      "Atoms(symbols='Sm2', pbc=True, cell=[17.98, 17.981, 17.982])\n"
     ]
    },
    {
     "data": {
      "application/vnd.jupyter.widget-view+json": {
       "model_id": "7cbbcac8168c4d319740457057076c32",
       "version_major": 2,
       "version_minor": 0
      },
      "text/plain": [
       "  0%|          | 0/720 [00:00<?, ?it/s]"
      ]
     },
     "metadata": {},
     "output_type": "display_data"
    },
    {
     "name": "stdout",
     "output_type": "stream",
     "text": [
      "Atoms(symbols='Eu2', pbc=True, cell=[17.794, 17.795, 17.796])\n"
     ]
    },
    {
     "data": {
      "application/vnd.jupyter.widget-view+json": {
       "model_id": "7f474e7fa0b94820946b87a09daf58d2",
       "version_major": 2,
       "version_minor": 0
      },
      "text/plain": [
       "  0%|          | 0/711 [00:00<?, ?it/s]"
      ]
     },
     "metadata": {},
     "output_type": "display_data"
    },
    {
     "name": "stdout",
     "output_type": "stream",
     "text": [
      "Atoms(symbols='Gd2', pbc=True, cell=[17.546, 17.547, 17.548])\n"
     ]
    },
    {
     "data": {
      "application/vnd.jupyter.widget-view+json": {
       "model_id": "3020aa47f4fa4bf6bb584ab08c95c107",
       "version_major": 2,
       "version_minor": 0
      },
      "text/plain": [
       "  0%|          | 0/700 [00:00<?, ?it/s]"
      ]
     },
     "metadata": {},
     "output_type": "display_data"
    },
    {
     "name": "stdout",
     "output_type": "stream",
     "text": [
      "Atoms(symbols='Tb2', pbc=True, cell=[17.298000000000002, 17.299000000000003, 17.3])\n"
     ]
    },
    {
     "data": {
      "application/vnd.jupyter.widget-view+json": {
       "model_id": "d19efa9854514dcb9f29e97e6304438c",
       "version_major": 2,
       "version_minor": 0
      },
      "text/plain": [
       "  0%|          | 0/690 [00:00<?, ?it/s]"
      ]
     },
     "metadata": {},
     "output_type": "display_data"
    },
    {
     "name": "stdout",
     "output_type": "stream",
     "text": [
      "Atoms(symbols='Dy2', pbc=True, cell=[17.794, 17.795, 17.796])\n"
     ]
    },
    {
     "data": {
      "application/vnd.jupyter.widget-view+json": {
       "model_id": "58edf1da064843ebb33b8913e1ae5203",
       "version_major": 2,
       "version_minor": 0
      },
      "text/plain": [
       "  0%|          | 0/716 [00:00<?, ?it/s]"
      ]
     },
     "metadata": {},
     "output_type": "display_data"
    },
    {
     "name": "stdout",
     "output_type": "stream",
     "text": [
      "Atoms(symbols='Ho2', pbc=True, cell=[17.422, 17.423000000000002, 17.424])\n"
     ]
    },
    {
     "data": {
      "application/vnd.jupyter.widget-view+json": {
       "model_id": "0f12b385965a46efbc9478258c1cbd39",
       "version_major": 2,
       "version_minor": 0
      },
      "text/plain": [
       "  0%|          | 0/698 [00:00<?, ?it/s]"
      ]
     },
     "metadata": {},
     "output_type": "display_data"
    },
    {
     "name": "stdout",
     "output_type": "stream",
     "text": [
      "Atoms(symbols='Er2', pbc=True, cell=[17.546, 17.547, 17.548])\n"
     ]
    },
    {
     "data": {
      "application/vnd.jupyter.widget-view+json": {
       "model_id": "50a7a50929a64085b40c4f1a603a3ac4",
       "version_major": 2,
       "version_minor": 0
      },
      "text/plain": [
       "  0%|          | 0/707 [00:00<?, ?it/s]"
      ]
     },
     "metadata": {},
     "output_type": "display_data"
    },
    {
     "name": "stdout",
     "output_type": "stream",
     "text": [
      "Atoms(symbols='Tm2', pbc=True, cell=[17.298000000000002, 17.299000000000003, 17.3])\n"
     ]
    },
    {
     "data": {
      "application/vnd.jupyter.widget-view+json": {
       "model_id": "5f1540d3aa9f4c01827b1bead628324c",
       "version_major": 2,
       "version_minor": 0
      },
      "text/plain": [
       "  0%|          | 0/693 [00:00<?, ?it/s]"
      ]
     },
     "metadata": {},
     "output_type": "display_data"
    },
    {
     "name": "stdout",
     "output_type": "stream",
     "text": [
      "Atoms(symbols='Yb2', pbc=True, cell=[17.36, 17.361, 17.362])\n"
     ]
    },
    {
     "data": {
      "application/vnd.jupyter.widget-view+json": {
       "model_id": "e4d6e53ee37943f1b75a4778faa31ebf",
       "version_major": 2,
       "version_minor": 0
      },
      "text/plain": [
       "  0%|          | 0/699 [00:00<?, ?it/s]"
      ]
     },
     "metadata": {},
     "output_type": "display_data"
    },
    {
     "name": "stdout",
     "output_type": "stream",
     "text": [
      "Atoms(symbols='Lu2', pbc=True, cell=[16.988000000000003, 16.989000000000004, 16.990000000000002])\n"
     ]
    },
    {
     "data": {
      "application/vnd.jupyter.widget-view+json": {
       "model_id": "9014811f4ed94a0ab89bd85cbadb732f",
       "version_major": 2,
       "version_minor": 0
      },
      "text/plain": [
       "  0%|          | 0/681 [00:00<?, ?it/s]"
      ]
     },
     "metadata": {},
     "output_type": "display_data"
    },
    {
     "name": "stdout",
     "output_type": "stream",
     "text": [
      "Atoms(symbols='Hf2', pbc=True, cell=[16.306, 16.307000000000002, 16.308])\n"
     ]
    },
    {
     "data": {
      "application/vnd.jupyter.widget-view+json": {
       "model_id": "89586da069624d629410af7be1f1e473",
       "version_major": 2,
       "version_minor": 0
      },
      "text/plain": [
       "  0%|          | 0/657 [00:00<?, ?it/s]"
      ]
     },
     "metadata": {},
     "output_type": "display_data"
    },
    {
     "name": "stdout",
     "output_type": "stream",
     "text": [
      "Atoms(symbols='Ta2', pbc=True, cell=[15.686, 15.687, 15.688])\n"
     ]
    },
    {
     "data": {
      "application/vnd.jupyter.widget-view+json": {
       "model_id": "537b2cf63c2940cda27b18a0396b7a84",
       "version_major": 2,
       "version_minor": 0
      },
      "text/plain": [
       "  0%|          | 0/631 [00:00<?, ?it/s]"
      ]
     },
     "metadata": {},
     "output_type": "display_data"
    },
    {
     "name": "stdout",
     "output_type": "stream",
     "text": [
      "Atoms(symbols='W2', pbc=True, cell=[15.934, 15.934999999999999, 15.936])\n"
     ]
    },
    {
     "data": {
      "application/vnd.jupyter.widget-view+json": {
       "model_id": "e7c24191459544e4b2144c5241ae9d00",
       "version_major": 2,
       "version_minor": 0
      },
      "text/plain": [
       "  0%|          | 0/650 [00:00<?, ?it/s]"
      ]
     },
     "metadata": {},
     "output_type": "display_data"
    },
    {
     "name": "stdout",
     "output_type": "stream",
     "text": [
      "Atoms(symbols='Re2', pbc=True, cell=[15.438000000000002, 15.439000000000002, 15.440000000000003])\n"
     ]
    },
    {
     "data": {
      "application/vnd.jupyter.widget-view+json": {
       "model_id": "d82bb2fd3a2a46d3872d3b9d225c5986",
       "version_major": 2,
       "version_minor": 0
      },
      "text/plain": [
       "  0%|          | 0/636 [00:00<?, ?it/s]"
      ]
     },
     "metadata": {},
     "output_type": "display_data"
    },
    {
     "name": "stdout",
     "output_type": "stream",
     "text": [
      "Atoms(symbols='Os2', pbc=True, cell=[15.376, 15.376999999999999, 15.378])\n"
     ]
    },
    {
     "data": {
      "application/vnd.jupyter.widget-view+json": {
       "model_id": "d653e4c600854394b9e1793e2ad4aefb",
       "version_major": 2,
       "version_minor": 0
      },
      "text/plain": [
       "  0%|          | 0/639 [00:00<?, ?it/s]"
      ]
     },
     "metadata": {},
     "output_type": "display_data"
    },
    {
     "name": "stdout",
     "output_type": "stream",
     "text": [
      "Atoms(symbols='Ir2', pbc=True, cell=[14.942000000000002, 14.943000000000001, 14.944000000000003])\n"
     ]
    },
    {
     "data": {
      "application/vnd.jupyter.widget-view+json": {
       "model_id": "06ecb6dd44fc44d7bedcad9399b15622",
       "version_major": 2,
       "version_minor": 0
      },
      "text/plain": [
       "  0%|          | 0/620 [00:00<?, ?it/s]"
      ]
     },
     "metadata": {},
     "output_type": "display_data"
    },
    {
     "name": "stdout",
     "output_type": "stream",
     "text": [
      "Atoms(symbols='Pt2', pbc=True, cell=[14.198, 14.199, 14.200000000000001])\n"
     ]
    },
    {
     "data": {
      "application/vnd.jupyter.widget-view+json": {
       "model_id": "14e45272ea124e6db825a235ab20485a",
       "version_major": 2,
       "version_minor": 0
      },
      "text/plain": [
       "  0%|          | 0/587 [00:00<?, ?it/s]"
      ]
     },
     "metadata": {},
     "output_type": "display_data"
    },
    {
     "name": "stdout",
     "output_type": "stream",
     "text": [
      "Atoms(symbols='Au2', pbc=True, cell=[14.383999999999999, 14.384999999999998, 14.386])\n"
     ]
    },
    {
     "data": {
      "application/vnd.jupyter.widget-view+json": {
       "model_id": "15b1e817990942b1887d1f9e69bf7c1e",
       "version_major": 2,
       "version_minor": 0
      },
      "text/plain": [
       "  0%|          | 0/596 [00:00<?, ?it/s]"
      ]
     },
     "metadata": {},
     "output_type": "display_data"
    },
    {
     "name": "stdout",
     "output_type": "stream",
     "text": [
      "Atoms(symbols='Hg2', pbc=True, cell=[15.190000000000001, 15.191, 15.192000000000002])\n"
     ]
    },
    {
     "data": {
      "application/vnd.jupyter.widget-view+json": {
       "model_id": "bbccab2efd3e4cd1a10946a456de943a",
       "version_major": 2,
       "version_minor": 0
      },
      "text/plain": [
       "  0%|          | 0/640 [00:00<?, ?it/s]"
      ]
     },
     "metadata": {},
     "output_type": "display_data"
    },
    {
     "name": "stdout",
     "output_type": "stream",
     "text": [
      "Atoms(symbols='Tl2', pbc=True, cell=[15.314000000000002, 15.315000000000001, 15.316000000000003])\n"
     ]
    },
    {
     "data": {
      "application/vnd.jupyter.widget-view+json": {
       "model_id": "0592858c27ed4350ac931fd4fc5f58e1",
       "version_major": 2,
       "version_minor": 0
      },
      "text/plain": [
       "  0%|          | 0/635 [00:00<?, ?it/s]"
      ]
     },
     "metadata": {},
     "output_type": "display_data"
    },
    {
     "name": "stdout",
     "output_type": "stream",
     "text": [
      "Atoms(symbols='Pb2', pbc=True, cell=[16.12, 16.121000000000002, 16.122])\n"
     ]
    },
    {
     "data": {
      "application/vnd.jupyter.widget-view+json": {
       "model_id": "28249df131e24506a8f3ea28c9455176",
       "version_major": 2,
       "version_minor": 0
      },
      "text/plain": [
       "  0%|          | 0/674 [00:00<?, ?it/s]"
      ]
     },
     "metadata": {},
     "output_type": "display_data"
    },
    {
     "name": "stdout",
     "output_type": "stream",
     "text": [
      "Atoms(symbols='Bi2', pbc=True, cell=[15.748000000000001, 15.749, 15.750000000000002])\n"
     ]
    },
    {
     "data": {
      "application/vnd.jupyter.widget-view+json": {
       "model_id": "52c77f90b3bd4e128bf111ee184e4669",
       "version_major": 2,
       "version_minor": 0
      },
      "text/plain": [
       "  0%|          | 0/654 [00:00<?, ?it/s]"
      ]
     },
     "metadata": {},
     "output_type": "display_data"
    },
    {
     "name": "stdout",
     "output_type": "stream",
     "text": [
      "Atoms(symbols='Po2', pbc=True, cell=[12.0, 12.001, 12.002])\n"
     ]
    },
    {
     "data": {
      "application/vnd.jupyter.widget-view+json": {
       "model_id": "55d5fa3b5f9a43419f5a12381c0a27a1",
       "version_major": 2,
       "version_minor": 0
      },
      "text/plain": [
       "  0%|          | 0/474 [00:00<?, ?it/s]"
      ]
     },
     "metadata": {},
     "output_type": "display_data"
    },
    {
     "name": "stdout",
     "output_type": "stream",
     "text": [
      "Atoms(symbols='At2', pbc=True, cell=[12.0, 12.001, 12.002])\n"
     ]
    },
    {
     "data": {
      "application/vnd.jupyter.widget-view+json": {
       "model_id": "09fbb07390fb4fbeaae4d557bd36e8f9",
       "version_major": 2,
       "version_minor": 0
      },
      "text/plain": [
       "  0%|          | 0/465 [00:00<?, ?it/s]"
      ]
     },
     "metadata": {},
     "output_type": "display_data"
    },
    {
     "name": "stdout",
     "output_type": "stream",
     "text": [
      "Atoms(symbols='Rn2', pbc=True, cell=[12.0, 12.001, 12.002])\n"
     ]
    },
    {
     "data": {
      "application/vnd.jupyter.widget-view+json": {
       "model_id": "65ce7e54b69a4a9191aa688a0817fe52",
       "version_major": 2,
       "version_minor": 0
      },
      "text/plain": [
       "  0%|          | 0/465 [00:00<?, ?it/s]"
      ]
     },
     "metadata": {},
     "output_type": "display_data"
    },
    {
     "name": "stdout",
     "output_type": "stream",
     "text": [
      "Atoms(symbols='Fr2', pbc=True, cell=[12.0, 12.001, 12.002])\n"
     ]
    },
    {
     "data": {
      "application/vnd.jupyter.widget-view+json": {
       "model_id": "e20691b9ed1945fb92739cbb373e5784",
       "version_major": 2,
       "version_minor": 0
      },
      "text/plain": [
       "  0%|          | 0/365 [00:00<?, ?it/s]"
      ]
     },
     "metadata": {},
     "output_type": "display_data"
    },
    {
     "name": "stdout",
     "output_type": "stream",
     "text": [
      "Atoms(symbols='Ra2', pbc=True, cell=[12.0, 12.001, 12.002])\n"
     ]
    },
    {
     "data": {
      "application/vnd.jupyter.widget-view+json": {
       "model_id": "e5ecefa32153447bb6cd6bc6e901b696",
       "version_major": 2,
       "version_minor": 0
      },
      "text/plain": [
       "  0%|          | 0/401 [00:00<?, ?it/s]"
      ]
     },
     "metadata": {},
     "output_type": "display_data"
    },
    {
     "name": "stdout",
     "output_type": "stream",
     "text": [
      "Atoms(symbols='Ac2', pbc=True, cell=[17.36, 17.361, 17.362])\n"
     ]
    },
    {
     "data": {
      "application/vnd.jupyter.widget-view+json": {
       "model_id": "5d63feb401bf4ce5a6d6b97f0b15a484",
       "version_major": 2,
       "version_minor": 0
      },
      "text/plain": [
       "  0%|          | 0/674 [00:00<?, ?it/s]"
      ]
     },
     "metadata": {},
     "output_type": "display_data"
    },
    {
     "name": "stdout",
     "output_type": "stream",
     "text": [
      "Atoms(symbols='Th2', pbc=True, cell=[18.166, 18.167, 18.168])\n"
     ]
    },
    {
     "data": {
      "application/vnd.jupyter.widget-view+json": {
       "model_id": "c6b9b43a26dd43898e36af24e6a71bf1",
       "version_major": 2,
       "version_minor": 0
      },
      "text/plain": [
       "  0%|          | 0/722 [00:00<?, ?it/s]"
      ]
     },
     "metadata": {},
     "output_type": "display_data"
    },
    {
     "name": "stdout",
     "output_type": "stream",
     "text": [
      "Atoms(symbols='Pa2', pbc=True, cell=[17.855999999999998, 17.857, 17.857999999999997])\n"
     ]
    },
    {
     "data": {
      "application/vnd.jupyter.widget-view+json": {
       "model_id": "b3b5ebb1c83b45a0ba39a3e5a6791413",
       "version_major": 2,
       "version_minor": 0
      },
      "text/plain": [
       "  0%|          | 0/712 [00:00<?, ?it/s]"
      ]
     },
     "metadata": {},
     "output_type": "display_data"
    },
    {
     "name": "stdout",
     "output_type": "stream",
     "text": [
      "Atoms(symbols='U2', pbc=True, cell=[16.802, 16.803, 16.804])\n"
     ]
    },
    {
     "data": {
      "application/vnd.jupyter.widget-view+json": {
       "model_id": "38a83f18a3f24213a8eae042bcf12019",
       "version_major": 2,
       "version_minor": 0
      },
      "text/plain": [
       "  0%|          | 0/663 [00:00<?, ?it/s]"
      ]
     },
     "metadata": {},
     "output_type": "display_data"
    },
    {
     "name": "stdout",
     "output_type": "stream",
     "text": [
      "Atoms(symbols='Np2', pbc=True, cell=[17.483999999999998, 17.485, 17.485999999999997])\n"
     ]
    },
    {
     "data": {
      "application/vnd.jupyter.widget-view+json": {
       "model_id": "2c08bcd50ca340c080e7527d571abdbe",
       "version_major": 2,
       "version_minor": 0
      },
      "text/plain": [
       "  0%|          | 0/703 [00:00<?, ?it/s]"
      ]
     },
     "metadata": {},
     "output_type": "display_data"
    },
    {
     "name": "stdout",
     "output_type": "stream",
     "text": [
      "Atoms(symbols='Pu2', pbc=True, cell=[17.422, 17.423000000000002, 17.424])\n"
     ]
    },
    {
     "data": {
      "application/vnd.jupyter.widget-view+json": {
       "model_id": "79f1134294974bdeb837a5a011cc2d15",
       "version_major": 2,
       "version_minor": 0
      },
      "text/plain": [
       "  0%|          | 0/702 [00:00<?, ?it/s]"
      ]
     },
     "metadata": {},
     "output_type": "display_data"
    },
    {
     "name": "stdout",
     "output_type": "stream",
     "text": [
      "Atoms(symbols='Am2', pbc=True, cell=[17.546, 17.547, 17.548])\n"
     ]
    },
    {
     "data": {
      "application/vnd.jupyter.widget-view+json": {
       "model_id": "19e13233f2d34d8d9e89913acce2821d",
       "version_major": 2,
       "version_minor": 0
      },
      "text/plain": [
       "  0%|          | 0/715 [00:00<?, ?it/s]"
      ]
     },
     "metadata": {},
     "output_type": "display_data"
    },
    {
     "name": "stdout",
     "output_type": "stream",
     "text": [
      "Atoms(symbols='Cm2', pbc=True, cell=[18.91, 18.911, 18.912])\n"
     ]
    },
    {
     "data": {
      "application/vnd.jupyter.widget-view+json": {
       "model_id": "9896e5691f2247caabae48ae52d11ec9",
       "version_major": 2,
       "version_minor": 0
      },
      "text/plain": [
       "  0%|          | 0/793 [00:00<?, ?it/s]"
      ]
     },
     "metadata": {},
     "output_type": "display_data"
    },
    {
     "name": "stdout",
     "output_type": "stream",
     "text": [
      "Atomic number exceeds that given in model config\n",
      "Atoms(symbols='Bk2', pbc=True, cell=[21.08, 21.081, 21.081999999999997])\n"
     ]
    },
    {
     "data": {
      "application/vnd.jupyter.widget-view+json": {
       "model_id": "c22f12fd957d45a591d3163481a523c2",
       "version_major": 2,
       "version_minor": 0
      },
      "text/plain": [
       "  0%|          | 0/1036 [00:00<?, ?it/s]"
      ]
     },
     "metadata": {},
     "output_type": "display_data"
    },
    {
     "name": "stdout",
     "output_type": "stream",
     "text": [
      "Atomic number exceeds that given in model config\n",
      "Atoms(symbols='Cf2', pbc=True, cell=[18.91, 18.911, 18.912])\n"
     ]
    },
    {
     "data": {
      "application/vnd.jupyter.widget-view+json": {
       "model_id": "63b0a0d2d6494aba9446595dd9469856",
       "version_major": 2,
       "version_minor": 0
      },
      "text/plain": [
       "  0%|          | 0/927 [00:00<?, ?it/s]"
      ]
     },
     "metadata": {},
     "output_type": "display_data"
    },
    {
     "name": "stdout",
     "output_type": "stream",
     "text": [
      "Atomic number exceeds that given in model config\n",
      "Atoms(symbols='Es2', pbc=True, cell=[16.740000000000002, 16.741000000000003, 16.742])\n"
     ]
    },
    {
     "data": {
      "application/vnd.jupyter.widget-view+json": {
       "model_id": "17a7a93393464381917abc7e0ced997a",
       "version_major": 2,
       "version_minor": 0
      },
      "text/plain": [
       "  0%|          | 0/819 [00:00<?, ?it/s]"
      ]
     },
     "metadata": {},
     "output_type": "display_data"
    },
    {
     "name": "stdout",
     "output_type": "stream",
     "text": [
      "Atomic number exceeds that given in model config\n",
      "Atoms(symbols='Fm2', pbc=True, cell=[12.0, 12.001, 12.002])\n"
     ]
    },
    {
     "data": {
      "application/vnd.jupyter.widget-view+json": {
       "model_id": "9d198ddf0f95482daa5bc29cc729e43f",
       "version_major": 2,
       "version_minor": 0
      },
      "text/plain": [
       "  0%|          | 0/582 [00:00<?, ?it/s]"
      ]
     },
     "metadata": {},
     "output_type": "display_data"
    },
    {
     "name": "stdout",
     "output_type": "stream",
     "text": [
      "Atomic number exceeds that given in model config\n",
      "Atoms(symbols='Md2', pbc=True, cell=[12.0, 12.001, 12.002])\n"
     ]
    },
    {
     "data": {
      "application/vnd.jupyter.widget-view+json": {
       "model_id": "daf26fc9a40a4b4295f1a152d7f4d8b2",
       "version_major": 2,
       "version_minor": 0
      },
      "text/plain": [
       "  0%|          | 0/582 [00:00<?, ?it/s]"
      ]
     },
     "metadata": {},
     "output_type": "display_data"
    },
    {
     "name": "stdout",
     "output_type": "stream",
     "text": [
      "Atomic number exceeds that given in model config\n",
      "Atoms(symbols='No2', pbc=True, cell=[12.0, 12.001, 12.002])\n"
     ]
    },
    {
     "data": {
      "application/vnd.jupyter.widget-view+json": {
       "model_id": "0248fa704e4d4362bfb1a4c8e7130ecc",
       "version_major": 2,
       "version_minor": 0
      },
      "text/plain": [
       "  0%|          | 0/582 [00:00<?, ?it/s]"
      ]
     },
     "metadata": {},
     "output_type": "display_data"
    },
    {
     "name": "stdout",
     "output_type": "stream",
     "text": [
      "Atomic number exceeds that given in model config\n",
      "Atoms(symbols='Lr2', pbc=True, cell=[12.0, 12.001, 12.002])\n"
     ]
    },
    {
     "data": {
      "application/vnd.jupyter.widget-view+json": {
       "model_id": "6414629b0fb443fbb62aa8e0cc227f5f",
       "version_major": 2,
       "version_minor": 0
      },
      "text/plain": [
       "  0%|          | 0/582 [00:00<?, ?it/s]"
      ]
     },
     "metadata": {},
     "output_type": "display_data"
    },
    {
     "name": "stdout",
     "output_type": "stream",
     "text": [
      "Atomic number exceeds that given in model config\n",
      "Atoms(symbols='Rf2', pbc=True, cell=[12.0, 12.001, 12.002])\n"
     ]
    },
    {
     "data": {
      "application/vnd.jupyter.widget-view+json": {
       "model_id": "5e60aa556cd64190a316eca2c46cbf93",
       "version_major": 2,
       "version_minor": 0
      },
      "text/plain": [
       "  0%|          | 0/582 [00:00<?, ?it/s]"
      ]
     },
     "metadata": {},
     "output_type": "display_data"
    },
    {
     "name": "stdout",
     "output_type": "stream",
     "text": [
      "Atomic number exceeds that given in model config\n",
      "Atoms(symbols='Db2', pbc=True, cell=[12.0, 12.001, 12.002])\n"
     ]
    },
    {
     "data": {
      "application/vnd.jupyter.widget-view+json": {
       "model_id": "ffb9dd11dad9417498e34b778d4ea807",
       "version_major": 2,
       "version_minor": 0
      },
      "text/plain": [
       "  0%|          | 0/582 [00:00<?, ?it/s]"
      ]
     },
     "metadata": {},
     "output_type": "display_data"
    },
    {
     "name": "stdout",
     "output_type": "stream",
     "text": [
      "Atomic number exceeds that given in model config\n",
      "Atoms(symbols='Sg2', pbc=True, cell=[12.0, 12.001, 12.002])\n"
     ]
    },
    {
     "data": {
      "application/vnd.jupyter.widget-view+json": {
       "model_id": "c4f7b1d831cb484186fdd8e1d6e89eb9",
       "version_major": 2,
       "version_minor": 0
      },
      "text/plain": [
       "  0%|          | 0/582 [00:00<?, ?it/s]"
      ]
     },
     "metadata": {},
     "output_type": "display_data"
    },
    {
     "name": "stdout",
     "output_type": "stream",
     "text": [
      "Atomic number exceeds that given in model config\n",
      "Atoms(symbols='Bh2', pbc=True, cell=[12.0, 12.001, 12.002])\n"
     ]
    },
    {
     "data": {
      "application/vnd.jupyter.widget-view+json": {
       "model_id": "41ca932fa2bc4502bfc8801fd66b2d46",
       "version_major": 2,
       "version_minor": 0
      },
      "text/plain": [
       "  0%|          | 0/582 [00:00<?, ?it/s]"
      ]
     },
     "metadata": {},
     "output_type": "display_data"
    },
    {
     "name": "stdout",
     "output_type": "stream",
     "text": [
      "Atomic number exceeds that given in model config\n",
      "Atoms(symbols='Hs2', pbc=True, cell=[12.0, 12.001, 12.002])\n"
     ]
    },
    {
     "data": {
      "application/vnd.jupyter.widget-view+json": {
       "model_id": "0197657a588c46ae8397449bcadfd5df",
       "version_major": 2,
       "version_minor": 0
      },
      "text/plain": [
       "  0%|          | 0/582 [00:00<?, ?it/s]"
      ]
     },
     "metadata": {},
     "output_type": "display_data"
    },
    {
     "name": "stdout",
     "output_type": "stream",
     "text": [
      "Atomic number exceeds that given in model config\n",
      "Atoms(symbols='Mt2', pbc=True, cell=[12.0, 12.001, 12.002])\n"
     ]
    },
    {
     "data": {
      "application/vnd.jupyter.widget-view+json": {
       "model_id": "3e6350e98a014e28a7da48321dfbc69b",
       "version_major": 2,
       "version_minor": 0
      },
      "text/plain": [
       "  0%|          | 0/582 [00:00<?, ?it/s]"
      ]
     },
     "metadata": {},
     "output_type": "display_data"
    },
    {
     "name": "stdout",
     "output_type": "stream",
     "text": [
      "Atomic number exceeds that given in model config\n",
      "Atoms(symbols='Ds2', pbc=True, cell=[12.0, 12.001, 12.002])\n"
     ]
    },
    {
     "data": {
      "application/vnd.jupyter.widget-view+json": {
       "model_id": "60915d35e2c7488b955a46e756226246",
       "version_major": 2,
       "version_minor": 0
      },
      "text/plain": [
       "  0%|          | 0/582 [00:00<?, ?it/s]"
      ]
     },
     "metadata": {},
     "output_type": "display_data"
    },
    {
     "name": "stdout",
     "output_type": "stream",
     "text": [
      "Atomic number exceeds that given in model config\n",
      "Atoms(symbols='Rg2', pbc=True, cell=[12.0, 12.001, 12.002])\n"
     ]
    },
    {
     "data": {
      "application/vnd.jupyter.widget-view+json": {
       "model_id": "1c4548e494ae4b10acb2f0c8b6f2be90",
       "version_major": 2,
       "version_minor": 0
      },
      "text/plain": [
       "  0%|          | 0/582 [00:00<?, ?it/s]"
      ]
     },
     "metadata": {},
     "output_type": "display_data"
    },
    {
     "name": "stdout",
     "output_type": "stream",
     "text": [
      "Atomic number exceeds that given in model config\n",
      "Atoms(symbols='Cn2', pbc=True, cell=[12.0, 12.001, 12.002])\n"
     ]
    },
    {
     "data": {
      "application/vnd.jupyter.widget-view+json": {
       "model_id": "2be77b0f982a468391f5f7ebfa8b75c0",
       "version_major": 2,
       "version_minor": 0
      },
      "text/plain": [
       "  0%|          | 0/582 [00:00<?, ?it/s]"
      ]
     },
     "metadata": {},
     "output_type": "display_data"
    },
    {
     "name": "stdout",
     "output_type": "stream",
     "text": [
      "Atomic number exceeds that given in model config\n",
      "Atoms(symbols='Nh2', pbc=True, cell=[12.0, 12.001, 12.002])\n"
     ]
    },
    {
     "data": {
      "application/vnd.jupyter.widget-view+json": {
       "model_id": "9352ecb344694878893711eba254820d",
       "version_major": 2,
       "version_minor": 0
      },
      "text/plain": [
       "  0%|          | 0/582 [00:00<?, ?it/s]"
      ]
     },
     "metadata": {},
     "output_type": "display_data"
    },
    {
     "name": "stdout",
     "output_type": "stream",
     "text": [
      "Atomic number exceeds that given in model config\n",
      "Atoms(symbols='Fl2', pbc=True, cell=[12.0, 12.001, 12.002])\n"
     ]
    },
    {
     "data": {
      "application/vnd.jupyter.widget-view+json": {
       "model_id": "3a79ff6d710145bc981294ab956dd2d0",
       "version_major": 2,
       "version_minor": 0
      },
      "text/plain": [
       "  0%|          | 0/582 [00:00<?, ?it/s]"
      ]
     },
     "metadata": {},
     "output_type": "display_data"
    },
    {
     "name": "stdout",
     "output_type": "stream",
     "text": [
      "Atomic number exceeds that given in model config\n",
      "Atoms(symbols='Mc2', pbc=True, cell=[12.0, 12.001, 12.002])\n"
     ]
    },
    {
     "data": {
      "application/vnd.jupyter.widget-view+json": {
       "model_id": "8ecf3133cdc44afb9058aa06de7f2753",
       "version_major": 2,
       "version_minor": 0
      },
      "text/plain": [
       "  0%|          | 0/582 [00:00<?, ?it/s]"
      ]
     },
     "metadata": {},
     "output_type": "display_data"
    },
    {
     "name": "stdout",
     "output_type": "stream",
     "text": [
      "Atomic number exceeds that given in model config\n",
      "Atoms(symbols='Lv2', pbc=True, cell=[12.0, 12.001, 12.002])\n"
     ]
    },
    {
     "data": {
      "application/vnd.jupyter.widget-view+json": {
       "model_id": "af977980325744619ca1b8e752d0cd72",
       "version_major": 2,
       "version_minor": 0
      },
      "text/plain": [
       "  0%|          | 0/582 [00:00<?, ?it/s]"
      ]
     },
     "metadata": {},
     "output_type": "display_data"
    },
    {
     "name": "stdout",
     "output_type": "stream",
     "text": [
      "Atomic number exceeds that given in model config\n",
      "Atoms(symbols='Ts2', pbc=True, cell=[12.0, 12.001, 12.002])\n"
     ]
    },
    {
     "data": {
      "application/vnd.jupyter.widget-view+json": {
       "model_id": "4ede4574968c418984449abde252c0ab",
       "version_major": 2,
       "version_minor": 0
      },
      "text/plain": [
       "  0%|          | 0/582 [00:00<?, ?it/s]"
      ]
     },
     "metadata": {},
     "output_type": "display_data"
    },
    {
     "name": "stdout",
     "output_type": "stream",
     "text": [
      "Atomic number exceeds that given in model config\n",
      "Atoms(symbols='Og2', pbc=True, cell=[12.0, 12.001, 12.002])\n"
     ]
    },
    {
     "data": {
      "application/vnd.jupyter.widget-view+json": {
       "model_id": "cefa8ab6ce3f449f8b882198315c971a",
       "version_major": 2,
       "version_minor": 0
      },
      "text/plain": [
       "  0%|          | 0/582 [00:00<?, ?it/s]"
      ]
     },
     "metadata": {},
     "output_type": "display_data"
    },
    {
     "name": "stdout",
     "output_type": "stream",
     "text": [
      "Atomic number exceeds that given in model config\n"
     ]
    }
   ],
   "source": [
    "for model in MLIPEnum:\n",
    "    \n",
    "    model_name = model.name\n",
    "    \n",
    "    if model_name != 'eqV2(OMat)':\n",
    "        continue\n",
    "    \n",
    "    print(f\"========== {model_name} ==========\")\n",
    "\n",
    "    calc = MLIPEnum[model_name].value()\n",
    "\n",
    "    for symbol in tqdm(chemical_symbols[1:]):\n",
    "\n",
    "        s = set([symbol])\n",
    "\n",
    "        if \"X\" in s:\n",
    "            continue\n",
    "\n",
    "        try:\n",
    "            atom = Atom(symbol)\n",
    "            rmin = 0.9 * covalent_radii[atom.number]\n",
    "            rvdw = vdw_alvarez.vdw_radii[atom.number] if atom.number < len(vdw_alvarez.vdw_radii) else np.nan\n",
    "            rmax = 3.1 * rvdw if not np.isnan(rvdw) else 6\n",
    "            rstep = 0.01\n",
    "\n",
    "            a = 2 * rmax\n",
    "\n",
    "            npts = int((rmax - rmin)/rstep)\n",
    "\n",
    "            rs = np.linspace(rmin, rmax, npts)\n",
    "            es = np.zeros_like(rs)\n",
    "\n",
    "            da = symbol + symbol\n",
    "\n",
    "            out_dir = Path(REGISTRY[model_name][\"family\"]) / str(da)\n",
    "            os.makedirs(out_dir, exist_ok=True)\n",
    "\n",
    "            skip = 0\n",
    "\n",
    "            element = Element(symbol)\n",
    "\n",
    "            try:\n",
    "                m = element.valence[1]\n",
    "                if element.valence == (0, 2):\n",
    "                    m = 0\n",
    "            except:\n",
    "                m = 0\n",
    "\n",
    "\n",
    "            r = rs[0]\n",
    "\n",
    "            positions = [\n",
    "                [a/2-r/2, a/2, a/2],\n",
    "                [a/2+r/2, a/2, a/2],\n",
    "            ]\n",
    "\n",
    "            traj_fpath = out_dir / f\"{model_name}.extxyz\"\n",
    "\n",
    "            if traj_fpath.exists():\n",
    "                traj = read(traj_fpath, index=\":\")\n",
    "                skip = len(traj)\n",
    "                atoms = traj[-1]\n",
    "            else:\n",
    "                # Create the unit cell with two atoms\n",
    "                atoms = Atoms(\n",
    "                    da,\n",
    "                    positions=positions,\n",
    "                    # magmoms=magmoms,\n",
    "                    cell=[a, a+0.001, a+0.002],\n",
    "                    pbc=True\n",
    "                )\n",
    "\n",
    "            print(atoms)\n",
    "\n",
    "            atoms.calc = calc\n",
    "\n",
    "            for i, r in enumerate(tqdm(rs)):\n",
    "\n",
    "                if i < skip:\n",
    "                    continue\n",
    "\n",
    "                positions = [\n",
    "                    [a/2-r/2, a/2, a/2],\n",
    "                    [a/2+r/2, a/2, a/2],\n",
    "                ]\n",
    "\n",
    "                # atoms.set_initial_magnetic_moments(magmoms)\n",
    "\n",
    "                atoms.set_positions(positions)\n",
    "\n",
    "                es[i] = atoms.get_potential_energy()\n",
    "\n",
    "                write(traj_fpath, atoms, append=\"a\")\n",
    "        except Exception as e:\n",
    "            print(e)\n"
   ]
  },
  {
   "cell_type": "code",
   "execution_count": 8,
   "id": "a0ac2c09-370b-4fdd-bf74-ea5c4ade0215",
   "metadata": {
    "scrolled": true,
    "tags": []
   },
   "outputs": [
    {
     "name": "stdout",
     "output_type": "stream",
     "text": [
      "========== eqV2(OMat) ==========\n"
     ]
    },
    {
     "data": {
      "application/vnd.jupyter.widget-view+json": {
       "model_id": "c23d83b4331c43e3bceb6d786f65d9ec",
       "version_major": 2,
       "version_minor": 0
      },
      "text/plain": [
       "  0%|          | 0/118 [00:00<?, ?it/s]"
      ]
     },
     "metadata": {},
     "output_type": "display_data"
    },
    {
     "name": "stderr",
     "output_type": "stream",
     "text": [
      "/tmp/ipykernel_1500708/3508918110.py:164: FutureWarning: The behavior of DataFrame concatenation with empty or all-NA entries is deprecated. In a future version, this will no longer exclude empty or all-NA columns when determining the result dtypes. To retain the old behavior, exclude the relevant entries before the concat operation.\n",
      "  df = pd.concat([df, pd.DataFrame([data])], ignore_index=True)\n"
     ]
    }
   ],
   "source": [
    "\n",
    "\n",
    "for model in MLIPEnum:\n",
    "    \n",
    "    model_name = model.name\n",
    "    \n",
    "#     json_fpath = Path(REGISTRY[model_name][\"family\"]) / \"homonuclear-diatomics.json\"\n",
    "    \n",
    "#     if json_fpath.exists():\n",
    "#         continue\n",
    "\n",
    "    print(f\"========== {model_name} ==========\")\n",
    "    \n",
    "    df = pd.DataFrame(columns=[\n",
    "        \"name\", \n",
    "        \"method\", \n",
    "        \"R\", \"E\", \"F\", \"S^2\", \n",
    "        \"force-flip-times\",\n",
    "        \"force-total-variation\",\n",
    "        \"force-jump\",\n",
    "        \"energy-diff-flip-times\",\n",
    "        \"energy-grad-norm-max\",\n",
    "        \"energy-jump\",\n",
    "        \"energy-total-variation\",\n",
    "        \"tortuosity\",\n",
    "        \"conservation-deviation\",\n",
    "        \"spearman-descending-force\",\n",
    "        \"spearman-ascending-force\",\n",
    "        \"spearman-repulsion-energy\",\n",
    "        \"spearman-attraction-energy\"\n",
    "    ])\n",
    "    \n",
    "\n",
    "    for symbol in tqdm(chemical_symbols[1:]):\n",
    "\n",
    "        da = symbol + symbol\n",
    "\n",
    "        out_dir = Path(REGISTRY[model_name][\"family\"]) / da\n",
    "\n",
    "        traj_fpath = out_dir / f\"{model_name}.extxyz\"\n",
    "\n",
    "\n",
    "        if traj_fpath.exists():\n",
    "            traj = read(traj_fpath, index=\":\")\n",
    "        else:\n",
    "            continue\n",
    "\n",
    "        Rs, Es, Fs, S2s = [], [], [], []\n",
    "        for atoms in traj:\n",
    "\n",
    "            vec = atoms.positions[1] - atoms.positions[0]\n",
    "            r = np.linalg.norm(vec)\n",
    "            e = atoms.get_potential_energy()\n",
    "            f = np.inner(vec/r, atoms.get_forces()[1])\n",
    "            # s2 = np.mean(np.power(atoms.get_magnetic_moments(), 2))\n",
    "\n",
    "            Rs.append(r)\n",
    "            Es.append(e)\n",
    "            Fs.append(f)\n",
    "            # S2s.append(s2)\n",
    "\n",
    "        rs = np.array(Rs)\n",
    "        es = np.array(Es)\n",
    "        fs = np.array(Fs)\n",
    "\n",
    "        indices = np.argsort(rs)[::-1]\n",
    "        rs = rs[indices]\n",
    "        es = es[indices]\n",
    "        eshift = es[0]\n",
    "        es -= eshift\n",
    "        fs = fs[indices]\n",
    "\n",
    "        iminf = np.argmin(fs)\n",
    "        imine = np.argmin(es)\n",
    "\n",
    "        de_dr = np.gradient(es, rs)\n",
    "        d2e_dr2 = np.gradient(de_dr, rs)\n",
    "\n",
    "        rounded_fs = np.copy(fs)\n",
    "        rounded_fs[np.abs(rounded_fs) < 1e-2] = 0\n",
    "        fs_sign = np.sign(rounded_fs)\n",
    "        mask = fs_sign != 0\n",
    "        rounded_fs = rounded_fs[mask]\n",
    "        fs_sign = fs_sign[mask]\n",
    "        f_flip = np.diff(fs_sign) != 0\n",
    "        \n",
    "        fdiff = np.diff(fs)\n",
    "        fdiff_sign = np.sign(fdiff)\n",
    "        mask = fdiff_sign != 0\n",
    "        fdiff = fdiff[mask]\n",
    "        fdiff_sign = fdiff_sign[mask]\n",
    "        fdiff_flip = np.diff(fdiff_sign) != 0\n",
    "        fjump = np.abs(fdiff[:-1][fdiff_flip]).sum() + np.abs(fdiff[1:][fdiff_flip]).sum()\n",
    "        \n",
    "\n",
    "        ediff = np.diff(es)\n",
    "        ediff[np.abs(ediff) < 1e-3] = 0\n",
    "        ediff_sign = np.sign(ediff)\n",
    "        mask = ediff_sign != 0\n",
    "        ediff = ediff[mask]\n",
    "        ediff_sign = ediff_sign[mask]\n",
    "        ediff_flip = np.diff(ediff_sign) != 0\n",
    "        ejump = np.abs(ediff[:-1][ediff_flip]).sum() + np.abs(ediff[1:][ediff_flip]).sum()\n",
    "        \n",
    "        \n",
    "#         edged_es = np.convolve(es, [1, -2, 1], mode='valid')\n",
    "#         # edged_es[np.abs(edged_es) < 0.1] = 0\n",
    "#         prob = np.exp(-es[1:-1]) / np.sum(np.exp(-es[1:-1]))\n",
    "#         edged_es *= prob\n",
    "#         # edged_es /= np.abs(es[1:-1])\n",
    "#         ejump = np.linalg.norm(edged_es)\n",
    "#         ejump = np.abs(edged_es).sum() / 2.0\n",
    "        \n",
    "#         edged_fs = np.convolve(fs, [1, -2, 1], mode='valid')\n",
    "#         # edged_fs[np.abs(edged_fs) < 0.1] = 0\n",
    "#         edged_fs *= prob\n",
    "#         fjump = np.linalg.norm(edged_fs)\n",
    "        # fjump = np.abs(edged_fs).sum() / 2.0\n",
    "        \n",
    "#         fig, axes = plt.subplot_mosaic(\n",
    "#             \"\"\"\n",
    "#             ac\n",
    "#             bd\n",
    "#             \"\"\",\n",
    "#             constrained_layout=True\n",
    "#         )\n",
    "        \n",
    "\n",
    "#         axes['a'].plot(rs, es)\n",
    "#         axes['b'].plot(rs[1:-1], edged_es)\n",
    "#         # axes['b'].plot(0.5*(rs[1:] + rs[:-1]), np.diff(es))\n",
    "#         axes['b'].text(0.7, 0.7, f\"{ejump:.3e}\", transform=axes['b'].transAxes)\n",
    "        \n",
    "#         axes['c'].plot(rs, fs)\n",
    "#         axes['d'].plot(rs[1:-1], edged_fs)\n",
    "#         axes['d'].text(0.7, 0.7, f\"{fjump:.3e}\", transform=axes['d'].transAxes)\n",
    "        \n",
    "\n",
    "        conservation_deviation = np.mean(np.abs(fs + de_dr))\n",
    "        \n",
    "        etv = np.sum(np.abs(np.diff(es)))\n",
    "\n",
    "        data = {\n",
    "            \"name\": da,\n",
    "            \"method\": model_name,\n",
    "            \"R\": rs,\n",
    "            \"E\": es + eshift,\n",
    "            \"F\": fs,\n",
    "            \"S^2\": S2s,\n",
    "            \"force-flip-times\": np.sum(f_flip),\n",
    "            \"force-total-variation\": np.sum(np.abs(np.diff(fs))),\n",
    "            \"force-jump\": fjump,\n",
    "            \"energy-diff-flip-times\": np.sum(ediff_flip),\n",
    "            \"energy-grad-norm-max\": np.max(np.abs(de_dr)),\n",
    "            \"energy-jump\": ejump,\n",
    "            # \"energy-grad-norm-mean\": np.mean(de_dr_abs),\n",
    "            \"energy-total-variation\": etv,\n",
    "            \"tortuosity\": etv / (abs(es[0] - es.min()) + (es[-1] - es.min())),\n",
    "            \"conservation-deviation\": conservation_deviation,\n",
    "            \"spearman-descending-force\": stats.spearmanr(rs[iminf:], fs[iminf:]).statistic,\n",
    "            \"spearman-ascending-force\": stats.spearmanr(rs[:iminf], fs[:iminf]).statistic,\n",
    "            \"spearman-repulsion-energy\": stats.spearmanr(rs[imine:], es[imine:]).statistic,\n",
    "            \"spearman-attraction-energy\": stats.spearmanr(rs[:imine], es[:imine]).statistic,\n",
    "        }\n",
    "\n",
    "        df = pd.concat([df, pd.DataFrame([data])], ignore_index=True)\n",
    "\n",
    "    json_fpath = Path(REGISTRY[model_name][\"family\"]) / \"homonuclear-diatomics.json\"\n",
    "\n",
    "    if json_fpath.exists():\n",
    "        df0 = pd.read_json(json_fpath)\n",
    "        df = pd.concat([df0, df], ignore_index=True)\n",
    "        df.drop_duplicates(inplace=True, subset=[\"name\", \"method\"], keep='last')\n",
    "\n",
    "    df.to_json(json_fpath, orient=\"records\")"
   ]
  },
  {
   "cell_type": "code",
   "execution_count": 9,
   "id": "e0dd4367-3dca-440f-a7a9-7fdd84183f2c",
   "metadata": {
    "tags": []
   },
   "outputs": [
    {
     "data": {
      "text/html": [
       "<div>\n",
       "<style scoped>\n",
       "    .dataframe tbody tr th:only-of-type {\n",
       "        vertical-align: middle;\n",
       "    }\n",
       "\n",
       "    .dataframe tbody tr th {\n",
       "        vertical-align: top;\n",
       "    }\n",
       "\n",
       "    .dataframe thead th {\n",
       "        text-align: right;\n",
       "    }\n",
       "</style>\n",
       "<table border=\"1\" class=\"dataframe\">\n",
       "  <thead>\n",
       "    <tr style=\"text-align: right;\">\n",
       "      <th></th>\n",
       "      <th>name</th>\n",
       "      <th>method</th>\n",
       "      <th>R</th>\n",
       "      <th>E</th>\n",
       "      <th>F</th>\n",
       "      <th>S^2</th>\n",
       "      <th>force-flip-times</th>\n",
       "      <th>force-total-variation</th>\n",
       "      <th>force-jump</th>\n",
       "      <th>energy-diff-flip-times</th>\n",
       "      <th>energy-grad-norm-max</th>\n",
       "      <th>energy-jump</th>\n",
       "      <th>energy-total-variation</th>\n",
       "      <th>tortuosity</th>\n",
       "      <th>conservation-deviation</th>\n",
       "      <th>spearman-descending-force</th>\n",
       "      <th>spearman-ascending-force</th>\n",
       "      <th>spearman-repulsion-energy</th>\n",
       "      <th>spearman-attraction-energy</th>\n",
       "    </tr>\n",
       "  </thead>\n",
       "  <tbody>\n",
       "    <tr>\n",
       "      <th>0</th>\n",
       "      <td>HH</td>\n",
       "      <td>eqV2(OMat)</td>\n",
       "      <td>[3.7199999999999998, 3.70996794, 3.69993586, 3...</td>\n",
       "      <td>[-2.0984511375427246, -2.095881462097168, -2.0...</td>\n",
       "      <td>[9.72e-06, 7.52e-06, 3.211e-05, 3.564e-05, 3.9...</td>\n",
       "      <td>[]</td>\n",
       "      <td>2</td>\n",
       "      <td>106.606564</td>\n",
       "      <td>1.924082</td>\n",
       "      <td>17</td>\n",
       "      <td>93.241588</td>\n",
       "      <td>0.564488</td>\n",
       "      <td>18.840863</td>\n",
       "      <td>1.555587</td>\n",
       "      <td>2.842868</td>\n",
       "      <td>-0.994359</td>\n",
       "      <td>-0.072700</td>\n",
       "      <td>-0.992857</td>\n",
       "      <td>0.431210</td>\n",
       "    </tr>\n",
       "    <tr>\n",
       "      <th>1</th>\n",
       "      <td>HeHe</td>\n",
       "      <td>eqV2(OMat)</td>\n",
       "      <td>[4.433, 4.4229736200000005, 4.41294724, 4.4029...</td>\n",
       "      <td>[0.5383987426757812, 0.5361838340759277, 0.536...</td>\n",
       "      <td>[-1.365e-05, -4.945e-05, -8.538e-05, -0.000155...</td>\n",
       "      <td>[]</td>\n",
       "      <td>2</td>\n",
       "      <td>265.816823</td>\n",
       "      <td>5.186691</td>\n",
       "      <td>14</td>\n",
       "      <td>77.250589</td>\n",
       "      <td>0.699341</td>\n",
       "      <td>19.451416</td>\n",
       "      <td>4.166659</td>\n",
       "      <td>10.740978</td>\n",
       "      <td>-0.973671</td>\n",
       "      <td>-0.546770</td>\n",
       "      <td>-0.912122</td>\n",
       "      <td>0.600920</td>\n",
       "    </tr>\n",
       "    <tr>\n",
       "      <th>2</th>\n",
       "      <td>LiLi</td>\n",
       "      <td>eqV2(OMat)</td>\n",
       "      <td>[6.572000000000001, 6.561981520000001, 6.55196...</td>\n",
       "      <td>[-0.5126352310180664, -0.5116205215454102, -0....</td>\n",
       "      <td>[-3.34e-05, 0.00016922, 0.00028867, 0.0005224,...</td>\n",
       "      <td>[]</td>\n",
       "      <td>1</td>\n",
       "      <td>28.116090</td>\n",
       "      <td>0.053238</td>\n",
       "      <td>31</td>\n",
       "      <td>17.085735</td>\n",
       "      <td>0.181582</td>\n",
       "      <td>7.866485</td>\n",
       "      <td>1.334280</td>\n",
       "      <td>1.063989</td>\n",
       "      <td>-0.998354</td>\n",
       "      <td>0.976426</td>\n",
       "      <td>-0.981398</td>\n",
       "      <td>0.705693</td>\n",
       "    </tr>\n",
       "    <tr>\n",
       "      <th>3</th>\n",
       "      <td>BeBe</td>\n",
       "      <td>eqV2(OMat)</td>\n",
       "      <td>[6.138000000000001, 6.12797338, 6.117946759999...</td>\n",
       "      <td>[0.23909759521484375, 0.2400522232055664, 0.23...</td>\n",
       "      <td>[-4.817e-05, 0.00051783, 0.00090912, 0.0012907...</td>\n",
       "      <td>[]</td>\n",
       "      <td>1</td>\n",
       "      <td>188.239996</td>\n",
       "      <td>0.177490</td>\n",
       "      <td>35</td>\n",
       "      <td>22.672879</td>\n",
       "      <td>0.328797</td>\n",
       "      <td>13.735467</td>\n",
       "      <td>1.275790</td>\n",
       "      <td>6.498375</td>\n",
       "      <td>-0.997688</td>\n",
       "      <td>0.983071</td>\n",
       "      <td>-0.972891</td>\n",
       "      <td>0.014737</td>\n",
       "    </tr>\n",
       "    <tr>\n",
       "      <th>4</th>\n",
       "      <td>BB</td>\n",
       "      <td>eqV2(OMat)</td>\n",
       "      <td>[5.921000000000001, 5.91097088, 5.900941739999...</td>\n",
       "      <td>[-1.388545036315918, -1.3869714736938477, -1.3...</td>\n",
       "      <td>[-7.486e-05, -0.00062429, -0.00124062, -0.0016...</td>\n",
       "      <td>[]</td>\n",
       "      <td>1</td>\n",
       "      <td>142.788128</td>\n",
       "      <td>0.010691</td>\n",
       "      <td>19</td>\n",
       "      <td>30.771105</td>\n",
       "      <td>0.572540</td>\n",
       "      <td>13.649937</td>\n",
       "      <td>1.145869</td>\n",
       "      <td>4.867476</td>\n",
       "      <td>-1.000000</td>\n",
       "      <td>0.990445</td>\n",
       "      <td>-0.984379</td>\n",
       "      <td>0.993144</td>\n",
       "    </tr>\n",
       "    <tr>\n",
       "      <th>...</th>\n",
       "      <td>...</td>\n",
       "      <td>...</td>\n",
       "      <td>...</td>\n",
       "      <td>...</td>\n",
       "      <td>...</td>\n",
       "      <td>...</td>\n",
       "      <td>...</td>\n",
       "      <td>...</td>\n",
       "      <td>...</td>\n",
       "      <td>...</td>\n",
       "      <td>...</td>\n",
       "      <td>...</td>\n",
       "      <td>...</td>\n",
       "      <td>...</td>\n",
       "      <td>...</td>\n",
       "      <td>...</td>\n",
       "      <td>...</td>\n",
       "      <td>...</td>\n",
       "      <td>...</td>\n",
       "    </tr>\n",
       "    <tr>\n",
       "      <th>90</th>\n",
       "      <td>PaPa</td>\n",
       "      <td>eqV2(OMat)</td>\n",
       "      <td>[8.927999999999999, 8.91797468, 8.90794936, 8....</td>\n",
       "      <td>[-8.536531448364258, -8.537920951843262, -8.55...</td>\n",
       "      <td>[0.00149543, 0.00933722, 0.01594199, 0.0210447...</td>\n",
       "      <td>[]</td>\n",
       "      <td>14</td>\n",
       "      <td>293.319609</td>\n",
       "      <td>0.622614</td>\n",
       "      <td>47</td>\n",
       "      <td>94.871632</td>\n",
       "      <td>1.276346</td>\n",
       "      <td>37.647346</td>\n",
       "      <td>3.460726</td>\n",
       "      <td>9.596265</td>\n",
       "      <td>-0.976682</td>\n",
       "      <td>0.916942</td>\n",
       "      <td>-1.000000</td>\n",
       "      <td>0.064439</td>\n",
       "    </tr>\n",
       "    <tr>\n",
       "      <th>91</th>\n",
       "      <td>UU</td>\n",
       "      <td>eqV2(OMat)</td>\n",
       "      <td>[8.401, 8.390974320000002, 8.38094864, 8.37092...</td>\n",
       "      <td>[-12.306029319763184, -12.309735298156738, -12...</td>\n",
       "      <td>[0.00250636, -0.00677688, -0.01450382, -0.0195...</td>\n",
       "      <td>[]</td>\n",
       "      <td>9</td>\n",
       "      <td>308.464112</td>\n",
       "      <td>1.041690</td>\n",
       "      <td>53</td>\n",
       "      <td>74.002914</td>\n",
       "      <td>2.503158</td>\n",
       "      <td>36.593965</td>\n",
       "      <td>3.514434</td>\n",
       "      <td>9.661410</td>\n",
       "      <td>-0.853855</td>\n",
       "      <td>0.856809</td>\n",
       "      <td>-1.000000</td>\n",
       "      <td>0.009604</td>\n",
       "    </tr>\n",
       "    <tr>\n",
       "      <th>92</th>\n",
       "      <td>NpNp</td>\n",
       "      <td>eqV2(OMat)</td>\n",
       "      <td>[8.741999999999999, 8.7319829, 8.72196582, 8.7...</td>\n",
       "      <td>[-16.419757843017578, -16.415634155273438, -16...</td>\n",
       "      <td>[0.00010047, 0.00343876, 0.00583172, 0.0066036...</td>\n",
       "      <td>[]</td>\n",
       "      <td>13</td>\n",
       "      <td>366.700701</td>\n",
       "      <td>2.488891</td>\n",
       "      <td>58</td>\n",
       "      <td>145.748637</td>\n",
       "      <td>3.159492</td>\n",
       "      <td>68.312851</td>\n",
       "      <td>6.846896</td>\n",
       "      <td>14.868774</td>\n",
       "      <td>-0.970815</td>\n",
       "      <td>0.783776</td>\n",
       "      <td>-1.000000</td>\n",
       "      <td>-0.092599</td>\n",
       "    </tr>\n",
       "    <tr>\n",
       "      <th>93</th>\n",
       "      <td>PuPu</td>\n",
       "      <td>eqV2(OMat)</td>\n",
       "      <td>[8.710999999999999, 8.70097432, 8.690948639999...</td>\n",
       "      <td>[-21.575969696044922, -21.568323135375977, -21...</td>\n",
       "      <td>[0.00021465, -0.018026, -0.02833581, -0.022387...</td>\n",
       "      <td>[]</td>\n",
       "      <td>25</td>\n",
       "      <td>404.453349</td>\n",
       "      <td>20.662893</td>\n",
       "      <td>85</td>\n",
       "      <td>195.927256</td>\n",
       "      <td>14.399994</td>\n",
       "      <td>78.172195</td>\n",
       "      <td>5.575810</td>\n",
       "      <td>15.614091</td>\n",
       "      <td>-0.661178</td>\n",
       "      <td>0.348212</td>\n",
       "      <td>-0.002303</td>\n",
       "      <td>0.654905</td>\n",
       "    </tr>\n",
       "    <tr>\n",
       "      <th>94</th>\n",
       "      <td>AmAm</td>\n",
       "      <td>eqV2(OMat)</td>\n",
       "      <td>[8.773, 8.7629818, 8.75296358, 8.7429453800000...</td>\n",
       "      <td>[8.622910499572754, 8.642560958862305, 8.69469...</td>\n",
       "      <td>[-0.00028193, -0.00328918, -0.00321345, 0.0024...</td>\n",
       "      <td>[]</td>\n",
       "      <td>8</td>\n",
       "      <td>63.571266</td>\n",
       "      <td>0.964731</td>\n",
       "      <td>58</td>\n",
       "      <td>50.950555</td>\n",
       "      <td>2.227477</td>\n",
       "      <td>30.767544</td>\n",
       "      <td>2.925538</td>\n",
       "      <td>3.732556</td>\n",
       "      <td>-0.999440</td>\n",
       "      <td>0.872640</td>\n",
       "      <td>-0.995198</td>\n",
       "      <td>0.738493</td>\n",
       "    </tr>\n",
       "  </tbody>\n",
       "</table>\n",
       "<p>95 rows × 19 columns</p>\n",
       "</div>"
      ],
      "text/plain": [
       "    name      method                                                  R  \\\n",
       "0     HH  eqV2(OMat)  [3.7199999999999998, 3.70996794, 3.69993586, 3...   \n",
       "1   HeHe  eqV2(OMat)  [4.433, 4.4229736200000005, 4.41294724, 4.4029...   \n",
       "2   LiLi  eqV2(OMat)  [6.572000000000001, 6.561981520000001, 6.55196...   \n",
       "3   BeBe  eqV2(OMat)  [6.138000000000001, 6.12797338, 6.117946759999...   \n",
       "4     BB  eqV2(OMat)  [5.921000000000001, 5.91097088, 5.900941739999...   \n",
       "..   ...         ...                                                ...   \n",
       "90  PaPa  eqV2(OMat)  [8.927999999999999, 8.91797468, 8.90794936, 8....   \n",
       "91    UU  eqV2(OMat)  [8.401, 8.390974320000002, 8.38094864, 8.37092...   \n",
       "92  NpNp  eqV2(OMat)  [8.741999999999999, 8.7319829, 8.72196582, 8.7...   \n",
       "93  PuPu  eqV2(OMat)  [8.710999999999999, 8.70097432, 8.690948639999...   \n",
       "94  AmAm  eqV2(OMat)  [8.773, 8.7629818, 8.75296358, 8.7429453800000...   \n",
       "\n",
       "                                                    E  \\\n",
       "0   [-2.0984511375427246, -2.095881462097168, -2.0...   \n",
       "1   [0.5383987426757812, 0.5361838340759277, 0.536...   \n",
       "2   [-0.5126352310180664, -0.5116205215454102, -0....   \n",
       "3   [0.23909759521484375, 0.2400522232055664, 0.23...   \n",
       "4   [-1.388545036315918, -1.3869714736938477, -1.3...   \n",
       "..                                                ...   \n",
       "90  [-8.536531448364258, -8.537920951843262, -8.55...   \n",
       "91  [-12.306029319763184, -12.309735298156738, -12...   \n",
       "92  [-16.419757843017578, -16.415634155273438, -16...   \n",
       "93  [-21.575969696044922, -21.568323135375977, -21...   \n",
       "94  [8.622910499572754, 8.642560958862305, 8.69469...   \n",
       "\n",
       "                                                    F S^2 force-flip-times  \\\n",
       "0   [9.72e-06, 7.52e-06, 3.211e-05, 3.564e-05, 3.9...  []                2   \n",
       "1   [-1.365e-05, -4.945e-05, -8.538e-05, -0.000155...  []                2   \n",
       "2   [-3.34e-05, 0.00016922, 0.00028867, 0.0005224,...  []                1   \n",
       "3   [-4.817e-05, 0.00051783, 0.00090912, 0.0012907...  []                1   \n",
       "4   [-7.486e-05, -0.00062429, -0.00124062, -0.0016...  []                1   \n",
       "..                                                ...  ..              ...   \n",
       "90  [0.00149543, 0.00933722, 0.01594199, 0.0210447...  []               14   \n",
       "91  [0.00250636, -0.00677688, -0.01450382, -0.0195...  []                9   \n",
       "92  [0.00010047, 0.00343876, 0.00583172, 0.0066036...  []               13   \n",
       "93  [0.00021465, -0.018026, -0.02833581, -0.022387...  []               25   \n",
       "94  [-0.00028193, -0.00328918, -0.00321345, 0.0024...  []                8   \n",
       "\n",
       "    force-total-variation  force-jump energy-diff-flip-times  \\\n",
       "0              106.606564    1.924082                     17   \n",
       "1              265.816823    5.186691                     14   \n",
       "2               28.116090    0.053238                     31   \n",
       "3              188.239996    0.177490                     35   \n",
       "4              142.788128    0.010691                     19   \n",
       "..                    ...         ...                    ...   \n",
       "90             293.319609    0.622614                     47   \n",
       "91             308.464112    1.041690                     53   \n",
       "92             366.700701    2.488891                     58   \n",
       "93             404.453349   20.662893                     85   \n",
       "94              63.571266    0.964731                     58   \n",
       "\n",
       "    energy-grad-norm-max  energy-jump  energy-total-variation  tortuosity  \\\n",
       "0              93.241588     0.564488               18.840863    1.555587   \n",
       "1              77.250589     0.699341               19.451416    4.166659   \n",
       "2              17.085735     0.181582                7.866485    1.334280   \n",
       "3              22.672879     0.328797               13.735467    1.275790   \n",
       "4              30.771105     0.572540               13.649937    1.145869   \n",
       "..                   ...          ...                     ...         ...   \n",
       "90             94.871632     1.276346               37.647346    3.460726   \n",
       "91             74.002914     2.503158               36.593965    3.514434   \n",
       "92            145.748637     3.159492               68.312851    6.846896   \n",
       "93            195.927256    14.399994               78.172195    5.575810   \n",
       "94             50.950555     2.227477               30.767544    2.925538   \n",
       "\n",
       "    conservation-deviation  spearman-descending-force  \\\n",
       "0                 2.842868                  -0.994359   \n",
       "1                10.740978                  -0.973671   \n",
       "2                 1.063989                  -0.998354   \n",
       "3                 6.498375                  -0.997688   \n",
       "4                 4.867476                  -1.000000   \n",
       "..                     ...                        ...   \n",
       "90                9.596265                  -0.976682   \n",
       "91                9.661410                  -0.853855   \n",
       "92               14.868774                  -0.970815   \n",
       "93               15.614091                  -0.661178   \n",
       "94                3.732556                  -0.999440   \n",
       "\n",
       "    spearman-ascending-force  spearman-repulsion-energy  \\\n",
       "0                  -0.072700                  -0.992857   \n",
       "1                  -0.546770                  -0.912122   \n",
       "2                   0.976426                  -0.981398   \n",
       "3                   0.983071                  -0.972891   \n",
       "4                   0.990445                  -0.984379   \n",
       "..                       ...                        ...   \n",
       "90                  0.916942                  -1.000000   \n",
       "91                  0.856809                  -1.000000   \n",
       "92                  0.783776                  -1.000000   \n",
       "93                  0.348212                  -0.002303   \n",
       "94                  0.872640                  -0.995198   \n",
       "\n",
       "    spearman-attraction-energy  \n",
       "0                     0.431210  \n",
       "1                     0.600920  \n",
       "2                     0.705693  \n",
       "3                     0.014737  \n",
       "4                     0.993144  \n",
       "..                         ...  \n",
       "90                    0.064439  \n",
       "91                    0.009604  \n",
       "92                   -0.092599  \n",
       "93                    0.654905  \n",
       "94                    0.738493  \n",
       "\n",
       "[95 rows x 19 columns]"
      ]
     },
     "execution_count": 9,
     "metadata": {},
     "output_type": "execute_result"
    }
   ],
   "source": [
    "df"
   ]
  },
  {
   "cell_type": "code",
   "execution_count": null,
   "id": "4e6ae884-89f3-43f2-8fd9-19bf00c91566",
   "metadata": {},
   "outputs": [],
   "source": []
  }
 ],
 "metadata": {
  "kernelspec": {
   "display_name": "mlip-arena",
   "language": "python",
   "name": "mlip-arena"
  },
  "language_info": {
   "codemirror_mode": {
    "name": "ipython",
    "version": 3
   },
   "file_extension": ".py",
   "mimetype": "text/x-python",
   "name": "python",
   "nbconvert_exporter": "python",
   "pygments_lexer": "ipython3",
   "version": "3.11.8"
  },
  "widgets": {
   "application/vnd.jupyter.widget-state+json": {
    "state": {},
    "version_major": 2,
    "version_minor": 0
   }
  }
 },
 "nbformat": 4,
 "nbformat_minor": 5
}
