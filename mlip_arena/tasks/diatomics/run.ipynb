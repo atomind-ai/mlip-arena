{
 "cells": [
  {
   "cell_type": "code",
   "execution_count": 1,
   "id": "3200850a-b8fb-4f50-9815-16ae8da0f942",
   "metadata": {
    "tags": []
   },
   "outputs": [],
   "source": [
    "import os\n",
    "from pathlib import Path\n",
    "\n",
    "import numpy as np\n",
    "import pandas as pd\n",
    "from ase import Atom, Atoms\n",
    "from ase.data import chemical_symbols, covalent_radii, vdw_alvarez\n",
    "from ase.io import read, write\n",
    "from pymatgen.core import Element\n",
    "from scipy import stats\n",
    "from tqdm.auto import tqdm\n",
    "\n",
    "from mlip_arena.models.utils import REGISTRY, MLIPEnum\n",
    "\n",
    "# model_name = \"MACE-MP(M)\"\n",
    "\n",
    "# calc = MLIPEnum[model_name].value()"
   ]
  },
  {
   "cell_type": "code",
   "execution_count": null,
   "id": "90887faa-1601-4c4c-9c44-d16731471d7f",
   "metadata": {
    "scrolled": true,
    "tags": []
   },
   "outputs": [
    {
     "name": "stdout",
     "output_type": "stream",
     "text": [
      "========== EquiformerV2(OC20) ==========\n"
     ]
    },
    {
     "name": "stderr",
     "output_type": "stream",
     "text": [
      "WARNING:root:Detected old config, converting to new format. Consider updating to avoid potential incompatibilities.\n",
      "WARNING:root:Couldn't modify the submission pickle with error: [Errno 2] No such file or directory: '/checkpoint/abhshkdz/open-catalyst-project/logs/equiformer_v2/8307793/30669435_submitted.pkl'\n",
      "WARNING:root:Skipping scheduler setup. No training set found.\n",
      "/pscratch/sd/c/cyrusyc/.conda/mlip-arena/lib/python3.11/site-packages/fairchem/core/modules/normalization/normalizer.py:69: UserWarning: To copy construct from a tensor, it is recommended to use sourceTensor.clone().detach() or sourceTensor.clone().detach().requires_grad_(True), rather than torch.tensor(sourceTensor).\n",
      "  \"mean\": torch.tensor(state_dict[\"mean\"]),\n"
     ]
    },
    {
     "data": {
      "application/vnd.jupyter.widget-view+json": {
       "model_id": "fb3a1b082e65432392452cd49c970a73",
       "version_major": 2,
       "version_minor": 0
      },
      "text/plain": [
       "  0%|          | 0/118 [00:00<?, ?it/s]"
      ]
     },
     "metadata": {},
     "output_type": "display_data"
    },
    {
     "name": "stdout",
     "output_type": "stream",
     "text": [
      "Atoms(symbols='H2', pbc=True, cell=[7.4399999999999995, 7.441, 7.441999999999999])\n"
     ]
    },
    {
     "data": {
      "application/vnd.jupyter.widget-view+json": {
       "model_id": "ae877fcff60b488b9bf999c8e60ede7b",
       "version_major": 2,
       "version_minor": 0
      },
      "text/plain": [
       "  0%|          | 0/344 [00:00<?, ?it/s]"
      ]
     },
     "metadata": {},
     "output_type": "display_data"
    },
    {
     "name": "stdout",
     "output_type": "stream",
     "text": [
      "Atoms(symbols='He2', pbc=True, cell=[8.866, 8.866999999999999, 8.868])\n"
     ]
    },
    {
     "data": {
      "application/vnd.jupyter.widget-view+json": {
       "model_id": "3129493feb1341f8a481440ca48c3022",
       "version_major": 2,
       "version_minor": 0
      },
      "text/plain": [
       "  0%|          | 0/418 [00:00<?, ?it/s]"
      ]
     },
     "metadata": {},
     "output_type": "display_data"
    },
    {
     "name": "stdout",
     "output_type": "stream",
     "text": [
      "Atoms(symbols='Li2', pbc=True, cell=[13.144000000000002, 13.145000000000001, 13.146000000000003])\n"
     ]
    },
    {
     "data": {
      "application/vnd.jupyter.widget-view+json": {
       "model_id": "740fe86bac484a61b83a384823b1645b",
       "version_major": 2,
       "version_minor": 0
      },
      "text/plain": [
       "  0%|          | 0/542 [00:00<?, ?it/s]"
      ]
     },
     "metadata": {},
     "output_type": "display_data"
    },
    {
     "name": "stdout",
     "output_type": "stream",
     "text": [
      "Atoms(symbols='Be2', pbc=True, cell=[12.276, 12.277, 12.278])\n"
     ]
    },
    {
     "data": {
      "application/vnd.jupyter.widget-view+json": {
       "model_id": "f2649afe32f7486398ffd71c098b5481",
       "version_major": 2,
       "version_minor": 0
      },
      "text/plain": [
       "  0%|          | 0/527 [00:00<?, ?it/s]"
      ]
     },
     "metadata": {},
     "output_type": "display_data"
    },
    {
     "name": "stdout",
     "output_type": "stream",
     "text": [
      "Atoms(symbols='B2', pbc=True, cell=[11.842, 11.843, 11.844000000000001])\n"
     ]
    },
    {
     "data": {
      "application/vnd.jupyter.widget-view+json": {
       "model_id": "c7bbc608a47f413496fd445fb83dd747",
       "version_major": 2,
       "version_minor": 0
      },
      "text/plain": [
       "  0%|          | 0/516 [00:00<?, ?it/s]"
      ]
     },
     "metadata": {},
     "output_type": "display_data"
    },
    {
     "name": "stdout",
     "output_type": "stream",
     "text": [
      "Atoms(symbols='C2', pbc=True, cell=[10.974, 10.975, 10.976])\n"
     ]
    },
    {
     "data": {
      "application/vnd.jupyter.widget-view+json": {
       "model_id": "d73537663862482798c4512e13763b16",
       "version_major": 2,
       "version_minor": 0
      },
      "text/plain": [
       "  0%|          | 0/480 [00:00<?, ?it/s]"
      ]
     },
     "metadata": {},
     "output_type": "display_data"
    },
    {
     "name": "stdout",
     "output_type": "stream",
     "text": [
      "Atoms(symbols='N2', pbc=True, cell=[10.292, 10.293, 10.294])\n"
     ]
    },
    {
     "data": {
      "application/vnd.jupyter.widget-view+json": {
       "model_id": "d26f8600f65f41a2a754ba489bd1fe64",
       "version_major": 2,
       "version_minor": 0
      },
      "text/plain": [
       "  0%|          | 0/450 [00:00<?, ?it/s]"
      ]
     },
     "metadata": {},
     "output_type": "display_data"
    },
    {
     "name": "stdout",
     "output_type": "stream",
     "text": [
      "Atoms(symbols='O2', pbc=True, cell=[9.3, 9.301, 9.302000000000001])\n"
     ]
    },
    {
     "data": {
      "application/vnd.jupyter.widget-view+json": {
       "model_id": "2445be9f8d824f8a960a2380a50ed5ad",
       "version_major": 2,
       "version_minor": 0
      },
      "text/plain": [
       "  0%|          | 0/405 [00:00<?, ?it/s]"
      ]
     },
     "metadata": {},
     "output_type": "display_data"
    },
    {
     "name": "stdout",
     "output_type": "stream",
     "text": [
      "Atoms(symbols='F2', pbc=True, cell=[9.052, 9.052999999999999, 9.054])\n"
     ]
    },
    {
     "data": {
      "application/vnd.jupyter.widget-view+json": {
       "model_id": "87d7c2beadb94a98a85736521676a92f",
       "version_major": 2,
       "version_minor": 0
      },
      "text/plain": [
       "  0%|          | 0/401 [00:00<?, ?it/s]"
      ]
     },
     "metadata": {},
     "output_type": "display_data"
    },
    {
     "name": "stdout",
     "output_type": "stream",
     "text": [
      "Atoms(symbols='Ne2', pbc=True, cell=[9.796000000000001, 9.797, 9.798000000000002])\n"
     ]
    },
    {
     "data": {
      "application/vnd.jupyter.widget-view+json": {
       "model_id": "c0b5603b4b7a4f798d28003cb8017e24",
       "version_major": 2,
       "version_minor": 0
      },
      "text/plain": [
       "  0%|          | 0/437 [00:00<?, ?it/s]"
      ]
     },
     "metadata": {},
     "output_type": "display_data"
    },
    {
     "name": "stdout",
     "output_type": "stream",
     "text": [
      "Atoms(symbols='Na2', pbc=True, cell=[15.5, 15.501, 15.502])\n"
     ]
    },
    {
     "data": {
      "application/vnd.jupyter.widget-view+json": {
       "model_id": "717e21591149423f98c6ec8a57e2c007",
       "version_major": 2,
       "version_minor": 0
      },
      "text/plain": [
       "  0%|          | 0/625 [00:00<?, ?it/s]"
      ]
     },
     "metadata": {},
     "output_type": "display_data"
    },
    {
     "name": "stdout",
     "output_type": "stream",
     "text": [
      "Atoms(symbols='Mg2', pbc=True, cell=[15.562, 15.562999999999999, 15.564])\n"
     ]
    },
    {
     "data": {
      "application/vnd.jupyter.widget-view+json": {
       "model_id": "c48f33f121084bc2a47c96a26bb24d40",
       "version_major": 2,
       "version_minor": 0
      },
      "text/plain": [
       "  0%|          | 0/651 [00:00<?, ?it/s]"
      ]
     },
     "metadata": {},
     "output_type": "display_data"
    },
    {
     "name": "stdout",
     "output_type": "stream",
     "text": [
      "Atoms(symbols='Al2', pbc=True, cell=[13.950000000000001, 13.951, 13.952000000000002])\n"
     ]
    },
    {
     "data": {
      "application/vnd.jupyter.widget-view+json": {
       "model_id": "c49da4c1a00f4ef89ab53a8a58d8494c",
       "version_major": 2,
       "version_minor": 0
      },
      "text/plain": [
       "  0%|          | 0/588 [00:00<?, ?it/s]"
      ]
     },
     "metadata": {},
     "output_type": "display_data"
    },
    {
     "name": "stdout",
     "output_type": "stream",
     "text": [
      "Atoms(symbols='Si2', pbc=True, cell=[13.578, 13.578999999999999, 13.58])\n"
     ]
    },
    {
     "data": {
      "application/vnd.jupyter.widget-view+json": {
       "model_id": "8062fddb9b7c4d5fbf7342785acc73bc",
       "version_major": 2,
       "version_minor": 0
      },
      "text/plain": [
       "  0%|          | 0/578 [00:00<?, ?it/s]"
      ]
     },
     "metadata": {},
     "output_type": "display_data"
    },
    {
     "name": "stdout",
     "output_type": "stream",
     "text": [
      "Atoms(symbols='P2', pbc=True, cell=[11.78, 11.780999999999999, 11.782])\n"
     ]
    },
    {
     "data": {
      "application/vnd.jupyter.widget-view+json": {
       "model_id": "7d320bd7c5484dfab71ace8529b70d1d",
       "version_major": 2,
       "version_minor": 0
      },
      "text/plain": [
       "  0%|          | 0/492 [00:00<?, ?it/s]"
      ]
     },
     "metadata": {},
     "output_type": "display_data"
    },
    {
     "name": "stdout",
     "output_type": "stream",
     "text": [
      "Atoms(symbols='S2', pbc=True, cell=[11.718, 11.719, 11.72])\n"
     ]
    },
    {
     "data": {
      "application/vnd.jupyter.widget-view+json": {
       "model_id": "6324d2c298a542828c07291c18c221cb",
       "version_major": 2,
       "version_minor": 0
      },
      "text/plain": [
       "  0%|          | 0/491 [00:00<?, ?it/s]"
      ]
     },
     "metadata": {},
     "output_type": "display_data"
    },
    {
     "name": "stdout",
     "output_type": "stream",
     "text": [
      "Atoms(symbols='Cl2', pbc=True, cell=[11.284, 11.285, 11.286000000000001])\n"
     ]
    },
    {
     "data": {
      "application/vnd.jupyter.widget-view+json": {
       "model_id": "54c5575c22574894b4818ffdf81a76d5",
       "version_major": 2,
       "version_minor": 0
      },
      "text/plain": [
       "  0%|          | 0/472 [00:00<?, ?it/s]"
      ]
     },
     "metadata": {},
     "output_type": "display_data"
    },
    {
     "name": "stdout",
     "output_type": "stream",
     "text": [
      "Atoms(symbols='Ar2', pbc=True, cell=[11.346, 11.347, 11.348])\n"
     ]
    },
    {
     "data": {
      "application/vnd.jupyter.widget-view+json": {
       "model_id": "16ee4481621d4b2ab2814a926ec66961",
       "version_major": 2,
       "version_minor": 0
      },
      "text/plain": [
       "  0%|          | 0/471 [00:00<?, ?it/s]"
      ]
     },
     "metadata": {},
     "output_type": "display_data"
    },
    {
     "name": "stdout",
     "output_type": "stream",
     "text": [
      "Atoms(symbols='K2', pbc=True, cell=[16.926000000000002, 16.927000000000003, 16.928])\n"
     ]
    },
    {
     "data": {
      "application/vnd.jupyter.widget-view+json": {
       "model_id": "40c58d9009e14342b5d63daffa92e500",
       "version_major": 2,
       "version_minor": 0
      },
      "text/plain": [
       "  0%|          | 0/663 [00:00<?, ?it/s]"
      ]
     },
     "metadata": {},
     "output_type": "display_data"
    },
    {
     "name": "stdout",
     "output_type": "stream",
     "text": [
      "Atoms(symbols='Ca2', pbc=True, cell=[16.244, 16.245, 16.246])\n"
     ]
    },
    {
     "data": {
      "application/vnd.jupyter.widget-view+json": {
       "model_id": "6c26cc1757ea4f1c92a4260d2eebaca9",
       "version_major": 2,
       "version_minor": 0
      },
      "text/plain": [
       "  0%|          | 0/653 [00:00<?, ?it/s]"
      ]
     },
     "metadata": {},
     "output_type": "display_data"
    },
    {
     "name": "stdout",
     "output_type": "stream",
     "text": [
      "Atoms(symbols='Sc2', pbc=True, cell=[15.996, 15.997, 15.998000000000001])\n"
     ]
    },
    {
     "data": {
      "application/vnd.jupyter.widget-view+json": {
       "model_id": "1a8a3149ff4f4c7797b366cab2419e19",
       "version_major": 2,
       "version_minor": 0
      },
      "text/plain": [
       "  0%|          | 0/646 [00:00<?, ?it/s]"
      ]
     },
     "metadata": {},
     "output_type": "display_data"
    },
    {
     "name": "stdout",
     "output_type": "stream",
     "text": [
      "Atoms(symbols='Ti2', pbc=True, cell=[15.252, 15.253, 15.254000000000001])\n"
     ]
    },
    {
     "data": {
      "application/vnd.jupyter.widget-view+json": {
       "model_id": "e17caa1e90444469a529c782f74c6f44",
       "version_major": 2,
       "version_minor": 0
      },
      "text/plain": [
       "  0%|          | 0/618 [00:00<?, ?it/s]"
      ]
     },
     "metadata": {},
     "output_type": "display_data"
    },
    {
     "name": "stdout",
     "output_type": "stream",
     "text": [
      "Atoms(symbols='V2', pbc=True, cell=[15.004, 15.004999999999999, 15.006])\n"
     ]
    },
    {
     "data": {
      "application/vnd.jupyter.widget-view+json": {
       "model_id": "80181fe3673a4f9c81237113fb09241a",
       "version_major": 2,
       "version_minor": 0
      },
      "text/plain": [
       "  0%|          | 0/612 [00:00<?, ?it/s]"
      ]
     },
     "metadata": {},
     "output_type": "display_data"
    },
    {
     "name": "stdout",
     "output_type": "stream",
     "text": [
      "Atoms(symbols='Cr2', pbc=True, cell=[15.190000000000001, 15.191, 15.192000000000002])\n"
     ]
    },
    {
     "data": {
      "application/vnd.jupyter.widget-view+json": {
       "model_id": "cec3efec611048898f3c253919e77c9c",
       "version_major": 2,
       "version_minor": 0
      },
      "text/plain": [
       "  0%|          | 0/634 [00:00<?, ?it/s]"
      ]
     },
     "metadata": {},
     "output_type": "display_data"
    },
    {
     "name": "stdout",
     "output_type": "stream",
     "text": [
      "Atoms(symbols='Mn2', pbc=True, cell=[15.190000000000001, 15.191, 15.192000000000002])\n"
     ]
    },
    {
     "data": {
      "application/vnd.jupyter.widget-view+json": {
       "model_id": "0cbe0177d37145a09368da269439e9d3",
       "version_major": 2,
       "version_minor": 0
      },
      "text/plain": [
       "  0%|          | 0/634 [00:00<?, ?it/s]"
      ]
     },
     "metadata": {},
     "output_type": "display_data"
    },
    {
     "name": "stdout",
     "output_type": "stream",
     "text": [
      "Atoms(symbols='Fe2', pbc=True, cell=[15.128, 15.129, 15.13])\n"
     ]
    },
    {
     "data": {
      "application/vnd.jupyter.widget-view+json": {
       "model_id": "0224bdbfba704f7d8e7bbab53038785d",
       "version_major": 2,
       "version_minor": 0
      },
      "text/plain": [
       "  0%|          | 0/637 [00:00<?, ?it/s]"
      ]
     },
     "metadata": {},
     "output_type": "display_data"
    },
    {
     "name": "stdout",
     "output_type": "stream",
     "text": [
      "Atoms(symbols='Co2', pbc=True, cell=[14.879999999999999, 14.880999999999998, 14.882])\n"
     ]
    },
    {
     "data": {
      "application/vnd.jupyter.widget-view+json": {
       "model_id": "c9e09cee05b749e3b4be596a46d11584",
       "version_major": 2,
       "version_minor": 0
      },
      "text/plain": [
       "  0%|          | 0/630 [00:00<?, ?it/s]"
      ]
     },
     "metadata": {},
     "output_type": "display_data"
    },
    {
     "name": "stdout",
     "output_type": "stream",
     "text": [
      "Atoms(symbols='Ni2', pbc=True, cell=[14.879999999999999, 14.880999999999998, 14.882])\n"
     ]
    },
    {
     "data": {
      "application/vnd.jupyter.widget-view+json": {
       "model_id": "857608f7605140ecb55488b3ffbc0dc7",
       "version_major": 2,
       "version_minor": 0
      },
      "text/plain": [
       "  0%|          | 0/632 [00:00<?, ?it/s]"
      ]
     },
     "metadata": {},
     "output_type": "display_data"
    },
    {
     "name": "stdout",
     "output_type": "stream",
     "text": [
      "Atoms(symbols='Cu2', pbc=True, cell=[14.756, 14.757, 14.758000000000001])\n"
     ]
    },
    {
     "data": {
      "application/vnd.jupyter.widget-view+json": {
       "model_id": "1d5ed5324d4c401ca9479f06587a593b",
       "version_major": 2,
       "version_minor": 0
      },
      "text/plain": [
       "  0%|          | 0/618 [00:00<?, ?it/s]"
      ]
     },
     "metadata": {},
     "output_type": "display_data"
    },
    {
     "name": "stdout",
     "output_type": "stream",
     "text": [
      "Atoms(symbols='Zn2', pbc=True, cell=[14.818000000000001, 14.819, 14.820000000000002])\n"
     ]
    },
    {
     "data": {
      "application/vnd.jupyter.widget-view+json": {
       "model_id": "d89a24804f30470994a9777666d7a055",
       "version_major": 2,
       "version_minor": 0
      },
      "text/plain": [
       "  0%|          | 0/631 [00:00<?, ?it/s]"
      ]
     },
     "metadata": {},
     "output_type": "display_data"
    },
    {
     "name": "stdout",
     "output_type": "stream",
     "text": [
      "Atoms(symbols='Ga2', pbc=True, cell=[14.383999999999999, 14.384999999999998, 14.386])\n"
     ]
    },
    {
     "data": {
      "application/vnd.jupyter.widget-view+json": {
       "model_id": "9b88430fbc464a5fa1114cb251948b94",
       "version_major": 2,
       "version_minor": 0
      },
      "text/plain": [
       "  0%|          | 0/609 [00:00<?, ?it/s]"
      ]
     },
     "metadata": {},
     "output_type": "display_data"
    },
    {
     "name": "stdout",
     "output_type": "stream",
     "text": [
      "Atoms(symbols='Ge2', pbc=True, cell=[14.198, 14.199, 14.200000000000001])\n"
     ]
    },
    {
     "data": {
      "application/vnd.jupyter.widget-view+json": {
       "model_id": "169860b84069488380ae557fb7cf5ed1",
       "version_major": 2,
       "version_minor": 0
      },
      "text/plain": [
       "  0%|          | 0/601 [00:00<?, ?it/s]"
      ]
     },
     "metadata": {},
     "output_type": "display_data"
    },
    {
     "name": "stdout",
     "output_type": "stream",
     "text": [
      "Atoms(symbols='As2', pbc=True, cell=[11.655999999999999, 11.656999999999998, 11.658])\n"
     ]
    },
    {
     "data": {
      "application/vnd.jupyter.widget-view+json": {
       "model_id": "0a76df7eccb14dea84019b81b0fd0b3e",
       "version_major": 2,
       "version_minor": 0
      },
      "text/plain": [
       "  0%|          | 0/475 [00:00<?, ?it/s]"
      ]
     },
     "metadata": {},
     "output_type": "display_data"
    },
    {
     "name": "stdout",
     "output_type": "stream",
     "text": [
      "Atoms(symbols='Se2', pbc=True, cell=[11.284, 11.285, 11.286000000000001])\n"
     ]
    },
    {
     "data": {
      "application/vnd.jupyter.widget-view+json": {
       "model_id": "a7187637bd0449baa9ba01567467692f",
       "version_major": 2,
       "version_minor": 0
      },
      "text/plain": [
       "  0%|          | 0/456 [00:00<?, ?it/s]"
      ]
     },
     "metadata": {},
     "output_type": "display_data"
    },
    {
     "name": "stdout",
     "output_type": "stream",
     "text": [
      "Atoms(symbols='Br2', pbc=True, cell=[11.532000000000002, 11.533000000000001, 11.534000000000002])\n"
     ]
    },
    {
     "data": {
      "application/vnd.jupyter.widget-view+json": {
       "model_id": "08eecc5ce1da4e4a852a5439bc2d7845",
       "version_major": 2,
       "version_minor": 0
      },
      "text/plain": [
       "  0%|          | 0/468 [00:00<?, ?it/s]"
      ]
     },
     "metadata": {},
     "output_type": "display_data"
    },
    {
     "name": "stdout",
     "output_type": "stream",
     "text": [
      "Atoms(symbols='Kr2', pbc=True, cell=[13.950000000000001, 13.951, 13.952000000000002])\n"
     ]
    },
    {
     "data": {
      "application/vnd.jupyter.widget-view+json": {
       "model_id": "bd3e4d3b58e14a9783ee394a15e1aca1",
       "version_major": 2,
       "version_minor": 0
      },
      "text/plain": [
       "  0%|          | 0/593 [00:00<?, ?it/s]"
      ]
     },
     "metadata": {},
     "output_type": "display_data"
    },
    {
     "name": "stdout",
     "output_type": "stream",
     "text": [
      "Atoms(symbols='Rb2', pbc=True, cell=[19.902, 19.903000000000002, 19.904])\n"
     ]
    },
    {
     "data": {
      "application/vnd.jupyter.widget-view+json": {
       "model_id": "d304b8fb931645d8b7f0ff5e31fcb21f",
       "version_major": 2,
       "version_minor": 0
      },
      "text/plain": [
       "  0%|          | 0/797 [00:00<?, ?it/s]"
      ]
     },
     "metadata": {},
     "output_type": "display_data"
    },
    {
     "name": "stdout",
     "output_type": "stream",
     "text": [
      "Atoms(symbols='Sr2', pbc=True, cell=[17.608, 17.609, 17.61])\n"
     ]
    },
    {
     "data": {
      "application/vnd.jupyter.widget-view+json": {
       "model_id": "48b5a4ab0c6c46eea0623f3b419935ed",
       "version_major": 2,
       "version_minor": 0
      },
      "text/plain": [
       "  0%|          | 0/704 [00:00<?, ?it/s]"
      ]
     },
     "metadata": {},
     "output_type": "display_data"
    },
    {
     "name": "stdout",
     "output_type": "stream",
     "text": [
      "Atoms(symbols='Y2', pbc=True, cell=[17.05, 17.051000000000002, 17.052])\n"
     ]
    },
    {
     "data": {
      "application/vnd.jupyter.widget-view+json": {
       "model_id": "5e95b61650f6494fbd300072e7f8ad60",
       "version_major": 2,
       "version_minor": 0
      },
      "text/plain": [
       "  0%|          | 0/681 [00:00<?, ?it/s]"
      ]
     },
     "metadata": {},
     "output_type": "display_data"
    },
    {
     "name": "stdout",
     "output_type": "stream",
     "text": [
      "Atoms(symbols='Zr2', pbc=True, cell=[15.624, 15.625, 15.626000000000001])\n"
     ]
    },
    {
     "data": {
      "application/vnd.jupyter.widget-view+json": {
       "model_id": "1abe8f3089954547af62d929e97d55fa",
       "version_major": 2,
       "version_minor": 0
      },
      "text/plain": [
       "  0%|          | 0/623 [00:00<?, ?it/s]"
      ]
     },
     "metadata": {},
     "output_type": "display_data"
    },
    {
     "name": "stdout",
     "output_type": "stream",
     "text": [
      "Atoms(symbols='Nb2', pbc=True, cell=[15.872000000000002, 15.873000000000001, 15.874000000000002])\n"
     ]
    },
    {
     "data": {
      "application/vnd.jupyter.widget-view+json": {
       "model_id": "94f02034d0cd465181de8b39084dad42",
       "version_major": 2,
       "version_minor": 0
      },
      "text/plain": [
       "  0%|          | 0/646 [00:00<?, ?it/s]"
      ]
     },
     "metadata": {},
     "output_type": "display_data"
    },
    {
     "name": "stdout",
     "output_type": "stream",
     "text": [
      "Atoms(symbols='Mo2', pbc=True, cell=[15.190000000000001, 15.191, 15.192000000000002])\n"
     ]
    },
    {
     "data": {
      "application/vnd.jupyter.widget-view+json": {
       "model_id": "2210fd8038384aa6888b45285c474e47",
       "version_major": 2,
       "version_minor": 0
      },
      "text/plain": [
       "  0%|          | 0/620 [00:00<?, ?it/s]"
      ]
     },
     "metadata": {},
     "output_type": "display_data"
    }
   ],
   "source": [
    "for model in MLIPEnum:\n",
    "    \n",
    "    model_name = model.name\n",
    "    \n",
    "    if model_name == 'EquiformerV2(OC22)':\n",
    "        continue\n",
    "    \n",
    "    json_fpath = Path(REGISTRY[model_name][\"family\"]) / \"homonuclear-diatomics.json\"\n",
    "    \n",
    "    if json_fpath.exists():\n",
    "        continue\n",
    "    \n",
    "    print(f\"========== {model_name} ==========\")\n",
    "\n",
    "    calc = MLIPEnum[model_name].value()\n",
    "\n",
    "    for symbol in tqdm(chemical_symbols[1:]):\n",
    "\n",
    "        s = set([symbol])\n",
    "\n",
    "        if \"X\" in s:\n",
    "            continue\n",
    "\n",
    "        try:\n",
    "            atom = Atom(symbol)\n",
    "            rmin = 0.9 * covalent_radii[atom.number]\n",
    "            rvdw = vdw_alvarez.vdw_radii[atom.number] if atom.number < len(vdw_alvarez.vdw_radii) else np.nan\n",
    "            rmax = 3.1 * rvdw if not np.isnan(rvdw) else 6\n",
    "            rstep = 0.01\n",
    "\n",
    "            a = 2 * rmax\n",
    "\n",
    "            npts = int((rmax - rmin)/rstep)\n",
    "\n",
    "            rs = np.linspace(rmin, rmax, npts)\n",
    "            es = np.zeros_like(rs)\n",
    "\n",
    "            da = symbol + symbol\n",
    "\n",
    "            out_dir = Path(REGISTRY[model_name][\"family\"]) / str(da)\n",
    "            os.makedirs(out_dir, exist_ok=True)\n",
    "\n",
    "            skip = 0\n",
    "\n",
    "            element = Element(symbol)\n",
    "\n",
    "            try:\n",
    "                m = element.valence[1]\n",
    "                if element.valence == (0, 2):\n",
    "                    m = 0\n",
    "            except:\n",
    "                m = 0\n",
    "\n",
    "\n",
    "            r = rs[0]\n",
    "\n",
    "            positions = [\n",
    "                [a/2-r/2, a/2, a/2],\n",
    "                [a/2+r/2, a/2, a/2],\n",
    "            ]\n",
    "\n",
    "            traj_fpath = out_dir / f\"{model_name}.extxyz\"\n",
    "\n",
    "            if traj_fpath.exists():\n",
    "                traj = read(traj_fpath, index=\":\")\n",
    "                skip = len(traj)\n",
    "                atoms = traj[-1]\n",
    "            else:\n",
    "                # Create the unit cell with two atoms\n",
    "                atoms = Atoms(\n",
    "                    da,\n",
    "                    positions=positions,\n",
    "                    # magmoms=magmoms,\n",
    "                    cell=[a, a+0.001, a+0.002],\n",
    "                    pbc=True\n",
    "                )\n",
    "\n",
    "            print(atoms)\n",
    "\n",
    "            atoms.calc = calc\n",
    "\n",
    "            for i, r in enumerate(tqdm(rs)):\n",
    "\n",
    "                if i < skip:\n",
    "                    continue\n",
    "\n",
    "                positions = [\n",
    "                    [a/2-r/2, a/2, a/2],\n",
    "                    [a/2+r/2, a/2, a/2],\n",
    "                ]\n",
    "\n",
    "                # atoms.set_initial_magnetic_moments(magmoms)\n",
    "\n",
    "                atoms.set_positions(positions)\n",
    "\n",
    "                es[i] = atoms.get_potential_energy()\n",
    "\n",
    "                write(traj_fpath, atoms, append=\"a\")\n",
    "        except Exception as e:\n",
    "            print(e)\n"
   ]
  },
  {
   "cell_type": "code",
   "execution_count": 3,
   "id": "a0ac2c09-370b-4fdd-bf74-ea5c4ade0215",
   "metadata": {
    "tags": []
   },
   "outputs": [
    {
     "name": "stdout",
     "output_type": "stream",
     "text": [
      "========== MACE-MP(M) ==========\n"
     ]
    },
    {
     "data": {
      "application/vnd.jupyter.widget-view+json": {
       "model_id": "597310b16837405fa6674583f7ea6892",
       "version_major": 2,
       "version_minor": 0
      },
      "text/plain": [
       "  0%|          | 0/118 [00:00<?, ?it/s]"
      ]
     },
     "metadata": {},
     "output_type": "display_data"
    },
    {
     "name": "stderr",
     "output_type": "stream",
     "text": [
      "/tmp/ipykernel_768993/102531167.py:107: FutureWarning: The behavior of DataFrame concatenation with empty or all-NA entries is deprecated. In a future version, this will no longer exclude empty or all-NA columns when determining the result dtypes. To retain the old behavior, exclude the relevant entries before the concat operation.\n",
      "  df = pd.concat([df, pd.DataFrame([data])], ignore_index=True)\n",
      "/tmp/ipykernel_768993/102531167.py:101: ConstantInputWarning: An input array is constant; the correlation coefficient is not defined.\n",
      "  \"spearman-descending-force\": stats.spearmanr(rs[iminf:], fs[iminf:]).statistic,\n",
      "/tmp/ipykernel_768993/102531167.py:103: ConstantInputWarning: An input array is constant; the correlation coefficient is not defined.\n",
      "  \"spearman-repulsion-energy\": stats.spearmanr(rs[imine:], es[imine:]).statistic,\n"
     ]
    },
    {
     "name": "stdout",
     "output_type": "stream",
     "text": [
      "========== CHGNet ==========\n"
     ]
    },
    {
     "data": {
      "application/vnd.jupyter.widget-view+json": {
       "model_id": "7e33d5e27fc144dfa24b28307d003e18",
       "version_major": 2,
       "version_minor": 0
      },
      "text/plain": [
       "  0%|          | 0/118 [00:00<?, ?it/s]"
      ]
     },
     "metadata": {},
     "output_type": "display_data"
    },
    {
     "name": "stderr",
     "output_type": "stream",
     "text": [
      "/tmp/ipykernel_768993/102531167.py:107: FutureWarning: The behavior of DataFrame concatenation with empty or all-NA entries is deprecated. In a future version, this will no longer exclude empty or all-NA columns when determining the result dtypes. To retain the old behavior, exclude the relevant entries before the concat operation.\n",
      "  df = pd.concat([df, pd.DataFrame([data])], ignore_index=True)\n"
     ]
    },
    {
     "name": "stdout",
     "output_type": "stream",
     "text": [
      "========== M3GNet ==========\n"
     ]
    },
    {
     "data": {
      "application/vnd.jupyter.widget-view+json": {
       "model_id": "9e2521f6b5314c65adadb27928af771b",
       "version_major": 2,
       "version_minor": 0
      },
      "text/plain": [
       "  0%|          | 0/118 [00:00<?, ?it/s]"
      ]
     },
     "metadata": {},
     "output_type": "display_data"
    },
    {
     "name": "stderr",
     "output_type": "stream",
     "text": [
      "/tmp/ipykernel_768993/102531167.py:107: FutureWarning: The behavior of DataFrame concatenation with empty or all-NA entries is deprecated. In a future version, this will no longer exclude empty or all-NA columns when determining the result dtypes. To retain the old behavior, exclude the relevant entries before the concat operation.\n",
      "  df = pd.concat([df, pd.DataFrame([data])], ignore_index=True)\n",
      "/tmp/ipykernel_768993/102531167.py:102: ConstantInputWarning: An input array is constant; the correlation coefficient is not defined.\n",
      "  \"spearman-ascending-force\": stats.spearmanr(rs[:iminf], fs[:iminf]).statistic,\n"
     ]
    },
    {
     "name": "stdout",
     "output_type": "stream",
     "text": [
      "========== ORB ==========\n"
     ]
    },
    {
     "data": {
      "application/vnd.jupyter.widget-view+json": {
       "model_id": "dc4eb14a89484a89a0f3efceddb1101a",
       "version_major": 2,
       "version_minor": 0
      },
      "text/plain": [
       "  0%|          | 0/118 [00:00<?, ?it/s]"
      ]
     },
     "metadata": {},
     "output_type": "display_data"
    },
    {
     "name": "stderr",
     "output_type": "stream",
     "text": [
      "/tmp/ipykernel_768993/102531167.py:107: FutureWarning: The behavior of DataFrame concatenation with empty or all-NA entries is deprecated. In a future version, this will no longer exclude empty or all-NA columns when determining the result dtypes. To retain the old behavior, exclude the relevant entries before the concat operation.\n",
      "  df = pd.concat([df, pd.DataFrame([data])], ignore_index=True)\n"
     ]
    },
    {
     "name": "stdout",
     "output_type": "stream",
     "text": [
      "========== SevenNet ==========\n"
     ]
    },
    {
     "data": {
      "application/vnd.jupyter.widget-view+json": {
       "model_id": "0701d73663f5483ba64f000208e73b97",
       "version_major": 2,
       "version_minor": 0
      },
      "text/plain": [
       "  0%|          | 0/118 [00:00<?, ?it/s]"
      ]
     },
     "metadata": {},
     "output_type": "display_data"
    },
    {
     "name": "stderr",
     "output_type": "stream",
     "text": [
      "/tmp/ipykernel_768993/102531167.py:107: FutureWarning: The behavior of DataFrame concatenation with empty or all-NA entries is deprecated. In a future version, this will no longer exclude empty or all-NA columns when determining the result dtypes. To retain the old behavior, exclude the relevant entries before the concat operation.\n",
      "  df = pd.concat([df, pd.DataFrame([data])], ignore_index=True)\n",
      "/tmp/ipykernel_768993/102531167.py:104: ConstantInputWarning: An input array is constant; the correlation coefficient is not defined.\n",
      "  \"spearman-attraction-energy\": stats.spearmanr(rs[:imine], es[:imine]).statistic,\n"
     ]
    },
    {
     "name": "stdout",
     "output_type": "stream",
     "text": [
      "========== EquiformerV2(OC22) ==========\n"
     ]
    },
    {
     "data": {
      "application/vnd.jupyter.widget-view+json": {
       "model_id": "4b773e96037947d9b51f710e50b3635b",
       "version_major": 2,
       "version_minor": 0
      },
      "text/plain": [
       "  0%|          | 0/118 [00:00<?, ?it/s]"
      ]
     },
     "metadata": {},
     "output_type": "display_data"
    },
    {
     "name": "stderr",
     "output_type": "stream",
     "text": [
      "/tmp/ipykernel_768993/102531167.py:107: FutureWarning: The behavior of DataFrame concatenation with empty or all-NA entries is deprecated. In a future version, this will no longer exclude empty or all-NA columns when determining the result dtypes. To retain the old behavior, exclude the relevant entries before the concat operation.\n",
      "  df = pd.concat([df, pd.DataFrame([data])], ignore_index=True)\n",
      "/tmp/ipykernel_768993/102531167.py:103: ConstantInputWarning: An input array is constant; the correlation coefficient is not defined.\n",
      "  \"spearman-repulsion-energy\": stats.spearmanr(rs[imine:], es[imine:]).statistic,\n",
      "/tmp/ipykernel_768993/102531167.py:104: ConstantInputWarning: An input array is constant; the correlation coefficient is not defined.\n",
      "  \"spearman-attraction-energy\": stats.spearmanr(rs[:imine], es[:imine]).statistic,\n"
     ]
    },
    {
     "name": "stdout",
     "output_type": "stream",
     "text": [
      "========== EquiformerV2(OC20) ==========\n"
     ]
    },
    {
     "data": {
      "application/vnd.jupyter.widget-view+json": {
       "model_id": "f5f6c8438a9c4a3892d6b3cbf94f1910",
       "version_major": 2,
       "version_minor": 0
      },
      "text/plain": [
       "  0%|          | 0/118 [00:00<?, ?it/s]"
      ]
     },
     "metadata": {},
     "output_type": "display_data"
    },
    {
     "name": "stdout",
     "output_type": "stream",
     "text": [
      "========== eSCN(OC20) ==========\n"
     ]
    },
    {
     "name": "stderr",
     "output_type": "stream",
     "text": [
      "/tmp/ipykernel_768993/102531167.py:114: FutureWarning: The behavior of DataFrame concatenation with empty or all-NA entries is deprecated. In a future version, this will no longer exclude empty or all-NA columns when determining the result dtypes. To retain the old behavior, exclude the relevant entries before the concat operation.\n",
      "  df = pd.concat([df0, df], ignore_index=True)\n"
     ]
    },
    {
     "data": {
      "application/vnd.jupyter.widget-view+json": {
       "model_id": "4f3e200efba948aea10d1d937cd787fd",
       "version_major": 2,
       "version_minor": 0
      },
      "text/plain": [
       "  0%|          | 0/118 [00:00<?, ?it/s]"
      ]
     },
     "metadata": {},
     "output_type": "display_data"
    },
    {
     "name": "stdout",
     "output_type": "stream",
     "text": [
      "========== MACE-OFF(M) ==========\n"
     ]
    },
    {
     "data": {
      "application/vnd.jupyter.widget-view+json": {
       "model_id": "e51884511ccc43338c5e621b7b6c35be",
       "version_major": 2,
       "version_minor": 0
      },
      "text/plain": [
       "  0%|          | 0/118 [00:00<?, ?it/s]"
      ]
     },
     "metadata": {},
     "output_type": "display_data"
    },
    {
     "name": "stdout",
     "output_type": "stream",
     "text": [
      "========== ALIGNN ==========\n"
     ]
    },
    {
     "data": {
      "application/vnd.jupyter.widget-view+json": {
       "model_id": "85868bdd44274852b7e8f414c36e2a8a",
       "version_major": 2,
       "version_minor": 0
      },
      "text/plain": [
       "  0%|          | 0/118 [00:00<?, ?it/s]"
      ]
     },
     "metadata": {},
     "output_type": "display_data"
    },
    {
     "ename": "OSError",
     "evalue": "Cannot save file into a non-existent directory: 'alignn'",
     "output_type": "error",
     "traceback": [
      "\u001b[0;31m---------------------------------------------------------------------------\u001b[0m",
      "\u001b[0;31mOSError\u001b[0m                                   Traceback (most recent call last)",
      "Cell \u001b[0;32mIn[3], line 117\u001b[0m\n\u001b[1;32m    114\u001b[0m     df \u001b[38;5;241m=\u001b[39m pd\u001b[38;5;241m.\u001b[39mconcat([df0, df], ignore_index\u001b[38;5;241m=\u001b[39m\u001b[38;5;28;01mTrue\u001b[39;00m)\n\u001b[1;32m    115\u001b[0m     df\u001b[38;5;241m.\u001b[39mdrop_duplicates(inplace\u001b[38;5;241m=\u001b[39m\u001b[38;5;28;01mTrue\u001b[39;00m, subset\u001b[38;5;241m=\u001b[39m[\u001b[38;5;124m\"\u001b[39m\u001b[38;5;124mname\u001b[39m\u001b[38;5;124m\"\u001b[39m, \u001b[38;5;124m\"\u001b[39m\u001b[38;5;124mmethod\u001b[39m\u001b[38;5;124m\"\u001b[39m], keep\u001b[38;5;241m=\u001b[39m\u001b[38;5;124m'\u001b[39m\u001b[38;5;124mlast\u001b[39m\u001b[38;5;124m'\u001b[39m)\n\u001b[0;32m--> 117\u001b[0m \u001b[43mdf\u001b[49m\u001b[38;5;241;43m.\u001b[39;49m\u001b[43mto_json\u001b[49m\u001b[43m(\u001b[49m\u001b[43mjson_fpath\u001b[49m\u001b[43m,\u001b[49m\u001b[43m \u001b[49m\u001b[43morient\u001b[49m\u001b[38;5;241;43m=\u001b[39;49m\u001b[38;5;124;43m\"\u001b[39;49m\u001b[38;5;124;43mrecords\u001b[39;49m\u001b[38;5;124;43m\"\u001b[39;49m\u001b[43m)\u001b[49m\n",
      "File \u001b[0;32m/pscratch/sd/c/cyrusyc/.conda/mlip-arena/lib/python3.11/site-packages/pandas/util/_decorators.py:333\u001b[0m, in \u001b[0;36mdeprecate_nonkeyword_arguments.<locals>.decorate.<locals>.wrapper\u001b[0;34m(*args, **kwargs)\u001b[0m\n\u001b[1;32m    327\u001b[0m \u001b[38;5;28;01mif\u001b[39;00m \u001b[38;5;28mlen\u001b[39m(args) \u001b[38;5;241m>\u001b[39m num_allow_args:\n\u001b[1;32m    328\u001b[0m     warnings\u001b[38;5;241m.\u001b[39mwarn(\n\u001b[1;32m    329\u001b[0m         msg\u001b[38;5;241m.\u001b[39mformat(arguments\u001b[38;5;241m=\u001b[39m_format_argument_list(allow_args)),\n\u001b[1;32m    330\u001b[0m         \u001b[38;5;167;01mFutureWarning\u001b[39;00m,\n\u001b[1;32m    331\u001b[0m         stacklevel\u001b[38;5;241m=\u001b[39mfind_stack_level(),\n\u001b[1;32m    332\u001b[0m     )\n\u001b[0;32m--> 333\u001b[0m \u001b[38;5;28;01mreturn\u001b[39;00m \u001b[43mfunc\u001b[49m\u001b[43m(\u001b[49m\u001b[38;5;241;43m*\u001b[39;49m\u001b[43margs\u001b[49m\u001b[43m,\u001b[49m\u001b[43m \u001b[49m\u001b[38;5;241;43m*\u001b[39;49m\u001b[38;5;241;43m*\u001b[39;49m\u001b[43mkwargs\u001b[49m\u001b[43m)\u001b[49m\n",
      "File \u001b[0;32m/pscratch/sd/c/cyrusyc/.conda/mlip-arena/lib/python3.11/site-packages/pandas/core/generic.py:2702\u001b[0m, in \u001b[0;36mNDFrame.to_json\u001b[0;34m(self, path_or_buf, orient, date_format, double_precision, force_ascii, date_unit, default_handler, lines, compression, index, indent, storage_options, mode)\u001b[0m\n\u001b[1;32m   2699\u001b[0m config\u001b[38;5;241m.\u001b[39mis_nonnegative_int(indent)\n\u001b[1;32m   2700\u001b[0m indent \u001b[38;5;241m=\u001b[39m indent \u001b[38;5;129;01mor\u001b[39;00m \u001b[38;5;241m0\u001b[39m\n\u001b[0;32m-> 2702\u001b[0m \u001b[38;5;28;01mreturn\u001b[39;00m \u001b[43mjson\u001b[49m\u001b[38;5;241;43m.\u001b[39;49m\u001b[43mto_json\u001b[49m\u001b[43m(\u001b[49m\n\u001b[1;32m   2703\u001b[0m \u001b[43m    \u001b[49m\u001b[43mpath_or_buf\u001b[49m\u001b[38;5;241;43m=\u001b[39;49m\u001b[43mpath_or_buf\u001b[49m\u001b[43m,\u001b[49m\n\u001b[1;32m   2704\u001b[0m \u001b[43m    \u001b[49m\u001b[43mobj\u001b[49m\u001b[38;5;241;43m=\u001b[39;49m\u001b[38;5;28;43mself\u001b[39;49m\u001b[43m,\u001b[49m\n\u001b[1;32m   2705\u001b[0m \u001b[43m    \u001b[49m\u001b[43morient\u001b[49m\u001b[38;5;241;43m=\u001b[39;49m\u001b[43morient\u001b[49m\u001b[43m,\u001b[49m\n\u001b[1;32m   2706\u001b[0m \u001b[43m    \u001b[49m\u001b[43mdate_format\u001b[49m\u001b[38;5;241;43m=\u001b[39;49m\u001b[43mdate_format\u001b[49m\u001b[43m,\u001b[49m\n\u001b[1;32m   2707\u001b[0m \u001b[43m    \u001b[49m\u001b[43mdouble_precision\u001b[49m\u001b[38;5;241;43m=\u001b[39;49m\u001b[43mdouble_precision\u001b[49m\u001b[43m,\u001b[49m\n\u001b[1;32m   2708\u001b[0m \u001b[43m    \u001b[49m\u001b[43mforce_ascii\u001b[49m\u001b[38;5;241;43m=\u001b[39;49m\u001b[43mforce_ascii\u001b[49m\u001b[43m,\u001b[49m\n\u001b[1;32m   2709\u001b[0m \u001b[43m    \u001b[49m\u001b[43mdate_unit\u001b[49m\u001b[38;5;241;43m=\u001b[39;49m\u001b[43mdate_unit\u001b[49m\u001b[43m,\u001b[49m\n\u001b[1;32m   2710\u001b[0m \u001b[43m    \u001b[49m\u001b[43mdefault_handler\u001b[49m\u001b[38;5;241;43m=\u001b[39;49m\u001b[43mdefault_handler\u001b[49m\u001b[43m,\u001b[49m\n\u001b[1;32m   2711\u001b[0m \u001b[43m    \u001b[49m\u001b[43mlines\u001b[49m\u001b[38;5;241;43m=\u001b[39;49m\u001b[43mlines\u001b[49m\u001b[43m,\u001b[49m\n\u001b[1;32m   2712\u001b[0m \u001b[43m    \u001b[49m\u001b[43mcompression\u001b[49m\u001b[38;5;241;43m=\u001b[39;49m\u001b[43mcompression\u001b[49m\u001b[43m,\u001b[49m\n\u001b[1;32m   2713\u001b[0m \u001b[43m    \u001b[49m\u001b[43mindex\u001b[49m\u001b[38;5;241;43m=\u001b[39;49m\u001b[43mindex\u001b[49m\u001b[43m,\u001b[49m\n\u001b[1;32m   2714\u001b[0m \u001b[43m    \u001b[49m\u001b[43mindent\u001b[49m\u001b[38;5;241;43m=\u001b[39;49m\u001b[43mindent\u001b[49m\u001b[43m,\u001b[49m\n\u001b[1;32m   2715\u001b[0m \u001b[43m    \u001b[49m\u001b[43mstorage_options\u001b[49m\u001b[38;5;241;43m=\u001b[39;49m\u001b[43mstorage_options\u001b[49m\u001b[43m,\u001b[49m\n\u001b[1;32m   2716\u001b[0m \u001b[43m    \u001b[49m\u001b[43mmode\u001b[49m\u001b[38;5;241;43m=\u001b[39;49m\u001b[43mmode\u001b[49m\u001b[43m,\u001b[49m\n\u001b[1;32m   2717\u001b[0m \u001b[43m\u001b[49m\u001b[43m)\u001b[49m\n",
      "File \u001b[0;32m/pscratch/sd/c/cyrusyc/.conda/mlip-arena/lib/python3.11/site-packages/pandas/io/json/_json.py:217\u001b[0m, in \u001b[0;36mto_json\u001b[0;34m(path_or_buf, obj, orient, date_format, double_precision, force_ascii, date_unit, default_handler, lines, compression, index, indent, storage_options, mode)\u001b[0m\n\u001b[1;32m    213\u001b[0m     s \u001b[38;5;241m=\u001b[39m convert_to_line_delimits(s)\n\u001b[1;32m    215\u001b[0m \u001b[38;5;28;01mif\u001b[39;00m path_or_buf \u001b[38;5;129;01mis\u001b[39;00m \u001b[38;5;129;01mnot\u001b[39;00m \u001b[38;5;28;01mNone\u001b[39;00m:\n\u001b[1;32m    216\u001b[0m     \u001b[38;5;66;03m# apply compression and byte/text conversion\u001b[39;00m\n\u001b[0;32m--> 217\u001b[0m     \u001b[38;5;28;01mwith\u001b[39;00m \u001b[43mget_handle\u001b[49m\u001b[43m(\u001b[49m\n\u001b[1;32m    218\u001b[0m \u001b[43m        \u001b[49m\u001b[43mpath_or_buf\u001b[49m\u001b[43m,\u001b[49m\u001b[43m \u001b[49m\u001b[43mmode\u001b[49m\u001b[43m,\u001b[49m\u001b[43m \u001b[49m\u001b[43mcompression\u001b[49m\u001b[38;5;241;43m=\u001b[39;49m\u001b[43mcompression\u001b[49m\u001b[43m,\u001b[49m\u001b[43m \u001b[49m\u001b[43mstorage_options\u001b[49m\u001b[38;5;241;43m=\u001b[39;49m\u001b[43mstorage_options\u001b[49m\n\u001b[1;32m    219\u001b[0m \u001b[43m    \u001b[49m\u001b[43m)\u001b[49m \u001b[38;5;28;01mas\u001b[39;00m handles:\n\u001b[1;32m    220\u001b[0m         handles\u001b[38;5;241m.\u001b[39mhandle\u001b[38;5;241m.\u001b[39mwrite(s)\n\u001b[1;32m    221\u001b[0m \u001b[38;5;28;01melse\u001b[39;00m:\n",
      "File \u001b[0;32m/pscratch/sd/c/cyrusyc/.conda/mlip-arena/lib/python3.11/site-packages/pandas/io/common.py:749\u001b[0m, in \u001b[0;36mget_handle\u001b[0;34m(path_or_buf, mode, encoding, compression, memory_map, is_text, errors, storage_options)\u001b[0m\n\u001b[1;32m    747\u001b[0m \u001b[38;5;66;03m# Only for write methods\u001b[39;00m\n\u001b[1;32m    748\u001b[0m \u001b[38;5;28;01mif\u001b[39;00m \u001b[38;5;124m\"\u001b[39m\u001b[38;5;124mr\u001b[39m\u001b[38;5;124m\"\u001b[39m \u001b[38;5;129;01mnot\u001b[39;00m \u001b[38;5;129;01min\u001b[39;00m mode \u001b[38;5;129;01mand\u001b[39;00m is_path:\n\u001b[0;32m--> 749\u001b[0m     \u001b[43mcheck_parent_directory\u001b[49m\u001b[43m(\u001b[49m\u001b[38;5;28;43mstr\u001b[39;49m\u001b[43m(\u001b[49m\u001b[43mhandle\u001b[49m\u001b[43m)\u001b[49m\u001b[43m)\u001b[49m\n\u001b[1;32m    751\u001b[0m \u001b[38;5;28;01mif\u001b[39;00m compression:\n\u001b[1;32m    752\u001b[0m     \u001b[38;5;28;01mif\u001b[39;00m compression \u001b[38;5;241m!=\u001b[39m \u001b[38;5;124m\"\u001b[39m\u001b[38;5;124mzstd\u001b[39m\u001b[38;5;124m\"\u001b[39m:\n\u001b[1;32m    753\u001b[0m         \u001b[38;5;66;03m# compression libraries do not like an explicit text-mode\u001b[39;00m\n",
      "File \u001b[0;32m/pscratch/sd/c/cyrusyc/.conda/mlip-arena/lib/python3.11/site-packages/pandas/io/common.py:616\u001b[0m, in \u001b[0;36mcheck_parent_directory\u001b[0;34m(path)\u001b[0m\n\u001b[1;32m    614\u001b[0m parent \u001b[38;5;241m=\u001b[39m Path(path)\u001b[38;5;241m.\u001b[39mparent\n\u001b[1;32m    615\u001b[0m \u001b[38;5;28;01mif\u001b[39;00m \u001b[38;5;129;01mnot\u001b[39;00m parent\u001b[38;5;241m.\u001b[39mis_dir():\n\u001b[0;32m--> 616\u001b[0m     \u001b[38;5;28;01mraise\u001b[39;00m \u001b[38;5;167;01mOSError\u001b[39;00m(\u001b[38;5;124mrf\u001b[39m\u001b[38;5;124m\"\u001b[39m\u001b[38;5;124mCannot save file into a non-existent directory: \u001b[39m\u001b[38;5;124m'\u001b[39m\u001b[38;5;132;01m{\u001b[39;00mparent\u001b[38;5;132;01m}\u001b[39;00m\u001b[38;5;124m'\u001b[39m\u001b[38;5;124m\"\u001b[39m)\n",
      "\u001b[0;31mOSError\u001b[0m: Cannot save file into a non-existent directory: 'alignn'"
     ]
    }
   ],
   "source": [
    "\n",
    "\n",
    "for model in MLIPEnum:\n",
    "    \n",
    "    model_name = model.name\n",
    "    \n",
    "    print(f\"========== {model_name} ==========\")\n",
    "    \n",
    "    df = pd.DataFrame(columns=[\n",
    "        \"name\", \n",
    "        \"method\", \n",
    "        \"R\", \"E\", \"F\", \"S^2\", \n",
    "        \"force-flip-times\",\n",
    "        \"force-total-variation\",\n",
    "        \"energy-diff-flip-times\",\n",
    "        \"energy-grad-norm-max\",\n",
    "        \"energy-jump\",\n",
    "        \"energy-total-variation\",\n",
    "        \"conservation-deviation\",\n",
    "        \"spearman-descending-force\",\n",
    "        \"spearman-ascending-force\",\n",
    "        \"spearman-repulsion-energy\",\n",
    "        \"spearman-attraction-energy\"\n",
    "    ])\n",
    "    \n",
    "\n",
    "    for symbol in tqdm(chemical_symbols[1:]):\n",
    "\n",
    "        da = symbol + symbol\n",
    "\n",
    "        out_dir = Path(REGISTRY[model_name][\"family\"]) / da\n",
    "\n",
    "        traj_fpath = out_dir / f\"{model_name}.extxyz\"\n",
    "\n",
    "\n",
    "        if traj_fpath.exists():\n",
    "            traj = read(traj_fpath, index=\":\")\n",
    "        else:\n",
    "            continue\n",
    "\n",
    "        Rs, Es, Fs, S2s = [], [], [], []\n",
    "        for atoms in traj:\n",
    "\n",
    "            vec = atoms.positions[1] - atoms.positions[0]\n",
    "            r = np.linalg.norm(vec)\n",
    "            e = atoms.get_potential_energy()\n",
    "            f = np.inner(vec/r, atoms.get_forces()[1])\n",
    "            # s2 = np.mean(np.power(atoms.get_magnetic_moments(), 2))\n",
    "\n",
    "            Rs.append(r)\n",
    "            Es.append(e)\n",
    "            Fs.append(f)\n",
    "            # S2s.append(s2)\n",
    "\n",
    "        rs = np.array(Rs)\n",
    "        es = np.array(Es)\n",
    "        fs = np.array(Fs)\n",
    "\n",
    "        indices = np.argsort(rs)[::-1]\n",
    "        rs = rs[indices]\n",
    "        es = es[indices]\n",
    "        fs = fs[indices]\n",
    "\n",
    "        iminf = np.argmin(fs)\n",
    "        imine = np.argmin(es)\n",
    "\n",
    "        de_dr = np.gradient(es, rs)\n",
    "        d2e_dr2 = np.gradient(de_dr, rs)\n",
    "\n",
    "        rounded_fs = np.copy(fs)\n",
    "        rounded_fs[np.abs(rounded_fs) < 1e-2] = 0\n",
    "        fs_sign = np.sign(rounded_fs)\n",
    "        fs_sign = fs_sign[fs_sign != 0]\n",
    "\n",
    "        # rounded_ediff = np.diff(es)\n",
    "        # rounded_ediff[np.abs(rounded_ediff) < zero_threshold] = 0\n",
    "        ediff = np.diff(es)\n",
    "        ediff[np.abs(ediff) < 1e-3] = 0\n",
    "        ediff_sign = np.sign(ediff)\n",
    "        mask = ediff_sign != 0\n",
    "        ediff = ediff[mask]\n",
    "        ediff_sign = ediff_sign[mask]\n",
    "        ediff_flip = np.diff(ediff_sign) != 0\n",
    "        ejump = np.abs(ediff[:-1][ediff_flip]).sum() + np.abs(ediff[1:][ediff_flip]).sum()\n",
    "\n",
    "        conservation_deviation = np.mean(np.abs(fs + de_dr))\n",
    "\n",
    "        data = {\n",
    "            \"name\": da,\n",
    "            \"method\": model_name,\n",
    "            \"R\": rs,\n",
    "            \"E\": es,\n",
    "            \"F\": fs,\n",
    "            \"S^2\": S2s,\n",
    "            \"force-flip-times\": np.sum(np.diff(fs_sign)!=0),\n",
    "            \"force-total-variation\": np.sum(np.abs(np.diff(fs))),\n",
    "            \"energy-diff-flip-times\": np.sum(ediff_flip),\n",
    "            \"energy-grad-norm-max\": np.max(np.abs(de_dr)),\n",
    "            \"energy-jump\": ejump,\n",
    "            # \"energy-grad-norm-mean\": np.mean(de_dr_abs),\n",
    "            \"energy-total-variation\": np.sum(np.abs(np.diff(es))),\n",
    "            \"conservation-deviation\": conservation_deviation,\n",
    "            \"spearman-descending-force\": stats.spearmanr(rs[iminf:], fs[iminf:]).statistic,\n",
    "            \"spearman-ascending-force\": stats.spearmanr(rs[:iminf], fs[:iminf]).statistic,\n",
    "            \"spearman-repulsion-energy\": stats.spearmanr(rs[imine:], es[imine:]).statistic,\n",
    "            \"spearman-attraction-energy\": stats.spearmanr(rs[:imine], es[:imine]).statistic,\n",
    "        }\n",
    "\n",
    "        df = pd.concat([df, pd.DataFrame([data])], ignore_index=True)\n",
    "\n",
    "\n",
    "    json_fpath = Path(REGISTRY[model_name][\"family\"]) / \"homonuclear-diatomics.json\"\n",
    "\n",
    "    if json_fpath.exists():\n",
    "        df0 = pd.read_json(json_fpath)\n",
    "        df = pd.concat([df0, df], ignore_index=True)\n",
    "        df.drop_duplicates(inplace=True, subset=[\"name\", \"method\"], keep='last')\n",
    "\n",
    "    df.to_json(json_fpath, orient=\"records\")"
   ]
  },
  {
   "cell_type": "code",
   "execution_count": 12,
   "id": "e0dd4367-3dca-440f-a7a9-7fdd84183f2c",
   "metadata": {
    "tags": []
   },
   "outputs": [
    {
     "data": {
      "text/html": [
       "<div>\n",
       "<style scoped>\n",
       "    .dataframe tbody tr th:only-of-type {\n",
       "        vertical-align: middle;\n",
       "    }\n",
       "\n",
       "    .dataframe tbody tr th {\n",
       "        vertical-align: top;\n",
       "    }\n",
       "\n",
       "    .dataframe thead th {\n",
       "        text-align: right;\n",
       "    }\n",
       "</style>\n",
       "<table border=\"1\" class=\"dataframe\">\n",
       "  <thead>\n",
       "    <tr style=\"text-align: right;\">\n",
       "      <th></th>\n",
       "      <th>name</th>\n",
       "      <th>method</th>\n",
       "      <th>R</th>\n",
       "      <th>E</th>\n",
       "      <th>F</th>\n",
       "      <th>S^2</th>\n",
       "      <th>force-flip-times</th>\n",
       "      <th>force-total-variation</th>\n",
       "      <th>energy-diff-flip-times</th>\n",
       "      <th>energy-grad-norm-max</th>\n",
       "      <th>energy-jump</th>\n",
       "      <th>energy-total-variation</th>\n",
       "      <th>conservation-deviation</th>\n",
       "      <th>spearman-descending-force</th>\n",
       "      <th>spearman-ascending-force</th>\n",
       "      <th>spearman-repulsion-energy</th>\n",
       "      <th>spearman-attraction-energy</th>\n",
       "    </tr>\n",
       "  </thead>\n",
       "  <tbody>\n",
       "    <tr>\n",
       "      <th>89</th>\n",
       "      <td>HH</td>\n",
       "      <td>MACE-MP(M)</td>\n",
       "      <td>[3.7199999999999998, 3.70996794, 3.69993586, 3...</td>\n",
       "      <td>[-2.348365306854248, -2.3483591079711914, -2.3...</td>\n",
       "      <td>[1.7e-07, 0.00035892, 0.00068535, 0.00112034, ...</td>\n",
       "      <td>[]</td>\n",
       "      <td>3</td>\n",
       "      <td>80.309463</td>\n",
       "      <td>2</td>\n",
       "      <td>65.875268</td>\n",
       "      <td>0.009835</td>\n",
       "      <td>15.816339</td>\n",
       "      <td>0.043480</td>\n",
       "      <td>-0.999421</td>\n",
       "      <td>0.840215</td>\n",
       "      <td>-1.000000</td>\n",
       "      <td>0.794565</td>\n",
       "    </tr>\n",
       "    <tr>\n",
       "      <th>90</th>\n",
       "      <td>HeHe</td>\n",
       "      <td>MACE-MP(M)</td>\n",
       "      <td>[4.433, 4.4229736200000005, 4.41294724, 4.4029...</td>\n",
       "      <td>[0.022882699966430664, 0.022882461547851562, 0...</td>\n",
       "      <td>[0.0, -0.00010788, -0.00021458, -0.00032269, -...</td>\n",
       "      <td>[]</td>\n",
       "      <td>2</td>\n",
       "      <td>1.485210</td>\n",
       "      <td>0</td>\n",
       "      <td>0.821236</td>\n",
       "      <td>0.000000</td>\n",
       "      <td>0.344755</td>\n",
       "      <td>0.001872</td>\n",
       "      <td>-0.904433</td>\n",
       "      <td>0.077295</td>\n",
       "      <td>-1.000000</td>\n",
       "      <td>0.093575</td>\n",
       "    </tr>\n",
       "    <tr>\n",
       "      <th>91</th>\n",
       "      <td>LiLi</td>\n",
       "      <td>MACE-MP(M)</td>\n",
       "      <td>[6.572000000000001, 6.561981520000001, 6.55196...</td>\n",
       "      <td>[-1.8418288230895996, -1.8418288230895996, -1....</td>\n",
       "      <td>[0.0, 0.0, 0.0, 0.0, 0.0, 0.0, 0.0, 0.0, 0.0, ...</td>\n",
       "      <td>[]</td>\n",
       "      <td>1</td>\n",
       "      <td>8.583572</td>\n",
       "      <td>1</td>\n",
       "      <td>8.122311</td>\n",
       "      <td>0.002224</td>\n",
       "      <td>5.332280</td>\n",
       "      <td>0.013703</td>\n",
       "      <td>-0.999858</td>\n",
       "      <td>0.993021</td>\n",
       "      <td>-0.999996</td>\n",
       "      <td>0.995153</td>\n",
       "    </tr>\n",
       "    <tr>\n",
       "      <th>92</th>\n",
       "      <td>BeBe</td>\n",
       "      <td>MACE-MP(M)</td>\n",
       "      <td>[6.138000000000001, 6.12797338, 6.117946759999...</td>\n",
       "      <td>[-0.6769685745239258, -0.6769685745239258, -0....</td>\n",
       "      <td>[0.0, 0.0, 0.0, 0.0, 0.0, 0.0, 0.0, 0.0, 0.0, ...</td>\n",
       "      <td>[]</td>\n",
       "      <td>2</td>\n",
       "      <td>29.133944</td>\n",
       "      <td>2</td>\n",
       "      <td>10.346194</td>\n",
       "      <td>0.016283</td>\n",
       "      <td>6.239225</td>\n",
       "      <td>0.022079</td>\n",
       "      <td>NaN</td>\n",
       "      <td>-0.044580</td>\n",
       "      <td>-0.998691</td>\n",
       "      <td>0.999892</td>\n",
       "    </tr>\n",
       "    <tr>\n",
       "      <th>93</th>\n",
       "      <td>BB</td>\n",
       "      <td>MACE-MP(M)</td>\n",
       "      <td>[5.921000000000001, 5.91097088, 5.900941739999...</td>\n",
       "      <td>[-1.404820442199707, -1.404820442199707, -1.40...</td>\n",
       "      <td>[-6e-08, -0.00011319, -0.00023184, -0.0003534,...</td>\n",
       "      <td>[]</td>\n",
       "      <td>2</td>\n",
       "      <td>330.078666</td>\n",
       "      <td>2</td>\n",
       "      <td>123.581618</td>\n",
       "      <td>0.543755</td>\n",
       "      <td>40.039458</td>\n",
       "      <td>0.138081</td>\n",
       "      <td>NaN</td>\n",
       "      <td>0.201590</td>\n",
       "      <td>-0.999921</td>\n",
       "      <td>0.999947</td>\n",
       "    </tr>\n",
       "    <tr>\n",
       "      <th>...</th>\n",
       "      <td>...</td>\n",
       "      <td>...</td>\n",
       "      <td>...</td>\n",
       "      <td>...</td>\n",
       "      <td>...</td>\n",
       "      <td>...</td>\n",
       "      <td>...</td>\n",
       "      <td>...</td>\n",
       "      <td>...</td>\n",
       "      <td>...</td>\n",
       "      <td>...</td>\n",
       "      <td>...</td>\n",
       "      <td>...</td>\n",
       "      <td>...</td>\n",
       "      <td>...</td>\n",
       "      <td>...</td>\n",
       "      <td>...</td>\n",
       "    </tr>\n",
       "    <tr>\n",
       "      <th>173</th>\n",
       "      <td>ThTh</td>\n",
       "      <td>MACE-MP(M)</td>\n",
       "      <td>[9.082999999999998, 9.07297364, 9.062947300000...</td>\n",
       "      <td>[-4.095590591430664, -4.095590591430664, -4.09...</td>\n",
       "      <td>[0.0, 0.0, 0.0, 0.0, 0.0, 0.0, 0.0, 0.0, 0.0, ...</td>\n",
       "      <td>[]</td>\n",
       "      <td>2</td>\n",
       "      <td>16.226657</td>\n",
       "      <td>2</td>\n",
       "      <td>6.413536</td>\n",
       "      <td>0.006823</td>\n",
       "      <td>3.392294</td>\n",
       "      <td>0.024297</td>\n",
       "      <td>NaN</td>\n",
       "      <td>0.026348</td>\n",
       "      <td>-0.997169</td>\n",
       "      <td>0.918191</td>\n",
       "    </tr>\n",
       "    <tr>\n",
       "      <th>174</th>\n",
       "      <td>PaPa</td>\n",
       "      <td>MACE-MP(M)</td>\n",
       "      <td>[8.927999999999999, 8.91797468, 8.90794936, 8....</td>\n",
       "      <td>[-8.707170486450195, -8.707170486450195, -8.70...</td>\n",
       "      <td>[0.0, 0.0, 0.0, 0.0, 0.0, 0.0, 0.0, 0.0, 0.0, ...</td>\n",
       "      <td>[]</td>\n",
       "      <td>2</td>\n",
       "      <td>6.407403</td>\n",
       "      <td>2</td>\n",
       "      <td>2.536645</td>\n",
       "      <td>0.006878</td>\n",
       "      <td>2.349456</td>\n",
       "      <td>0.018977</td>\n",
       "      <td>-0.627256</td>\n",
       "      <td>0.460505</td>\n",
       "      <td>NaN</td>\n",
       "      <td>0.950999</td>\n",
       "    </tr>\n",
       "    <tr>\n",
       "      <th>175</th>\n",
       "      <td>UU</td>\n",
       "      <td>MACE-MP(M)</td>\n",
       "      <td>[8.401, 8.390974320000002, 8.38094864, 8.37092...</td>\n",
       "      <td>[-11.437246322631836, -11.437246322631836, -11...</td>\n",
       "      <td>[0.0, 0.0, 0.0, 0.0, 0.0, 0.0, 0.0, 0.0, 0.0, ...</td>\n",
       "      <td>[]</td>\n",
       "      <td>1</td>\n",
       "      <td>34.878494</td>\n",
       "      <td>1</td>\n",
       "      <td>25.824510</td>\n",
       "      <td>0.004967</td>\n",
       "      <td>11.734995</td>\n",
       "      <td>0.025810</td>\n",
       "      <td>-0.974165</td>\n",
       "      <td>0.939272</td>\n",
       "      <td>-1.000000</td>\n",
       "      <td>0.966465</td>\n",
       "    </tr>\n",
       "    <tr>\n",
       "      <th>176</th>\n",
       "      <td>NpNp</td>\n",
       "      <td>MACE-MP(M)</td>\n",
       "      <td>[8.741999999999999, 8.7319829, 8.72196582, 8.7...</td>\n",
       "      <td>[-18.34619903564453, -18.34619903564453, -18.3...</td>\n",
       "      <td>[0.0, 0.0, 0.0, 0.0, 0.0, 0.0, 0.0, 0.0, 0.0, ...</td>\n",
       "      <td>[]</td>\n",
       "      <td>3</td>\n",
       "      <td>14.386345</td>\n",
       "      <td>3</td>\n",
       "      <td>8.632403</td>\n",
       "      <td>0.010139</td>\n",
       "      <td>2.824085</td>\n",
       "      <td>0.015532</td>\n",
       "      <td>-1.000000</td>\n",
       "      <td>0.189479</td>\n",
       "      <td>-1.000000</td>\n",
       "      <td>0.439673</td>\n",
       "    </tr>\n",
       "    <tr>\n",
       "      <th>177</th>\n",
       "      <td>PuPu</td>\n",
       "      <td>MACE-MP(M)</td>\n",
       "      <td>[8.710999999999999, 8.70097432, 8.690948639999...</td>\n",
       "      <td>[-23.70560073852539, -23.70560073852539, -23.7...</td>\n",
       "      <td>[0.0, 0.0, 0.0, 0.0, 0.0, 0.0, 0.0, 0.0, 0.0, ...</td>\n",
       "      <td>[]</td>\n",
       "      <td>2</td>\n",
       "      <td>10.916421</td>\n",
       "      <td>2</td>\n",
       "      <td>6.815384</td>\n",
       "      <td>0.005814</td>\n",
       "      <td>3.295753</td>\n",
       "      <td>0.012909</td>\n",
       "      <td>-1.000000</td>\n",
       "      <td>0.115110</td>\n",
       "      <td>NaN</td>\n",
       "      <td>0.260405</td>\n",
       "    </tr>\n",
       "  </tbody>\n",
       "</table>\n",
       "<p>89 rows × 17 columns</p>\n",
       "</div>"
      ],
      "text/plain": [
       "     name      method                                                  R  \\\n",
       "89     HH  MACE-MP(M)  [3.7199999999999998, 3.70996794, 3.69993586, 3...   \n",
       "90   HeHe  MACE-MP(M)  [4.433, 4.4229736200000005, 4.41294724, 4.4029...   \n",
       "91   LiLi  MACE-MP(M)  [6.572000000000001, 6.561981520000001, 6.55196...   \n",
       "92   BeBe  MACE-MP(M)  [6.138000000000001, 6.12797338, 6.117946759999...   \n",
       "93     BB  MACE-MP(M)  [5.921000000000001, 5.91097088, 5.900941739999...   \n",
       "..    ...         ...                                                ...   \n",
       "173  ThTh  MACE-MP(M)  [9.082999999999998, 9.07297364, 9.062947300000...   \n",
       "174  PaPa  MACE-MP(M)  [8.927999999999999, 8.91797468, 8.90794936, 8....   \n",
       "175    UU  MACE-MP(M)  [8.401, 8.390974320000002, 8.38094864, 8.37092...   \n",
       "176  NpNp  MACE-MP(M)  [8.741999999999999, 8.7319829, 8.72196582, 8.7...   \n",
       "177  PuPu  MACE-MP(M)  [8.710999999999999, 8.70097432, 8.690948639999...   \n",
       "\n",
       "                                                     E  \\\n",
       "89   [-2.348365306854248, -2.3483591079711914, -2.3...   \n",
       "90   [0.022882699966430664, 0.022882461547851562, 0...   \n",
       "91   [-1.8418288230895996, -1.8418288230895996, -1....   \n",
       "92   [-0.6769685745239258, -0.6769685745239258, -0....   \n",
       "93   [-1.404820442199707, -1.404820442199707, -1.40...   \n",
       "..                                                 ...   \n",
       "173  [-4.095590591430664, -4.095590591430664, -4.09...   \n",
       "174  [-8.707170486450195, -8.707170486450195, -8.70...   \n",
       "175  [-11.437246322631836, -11.437246322631836, -11...   \n",
       "176  [-18.34619903564453, -18.34619903564453, -18.3...   \n",
       "177  [-23.70560073852539, -23.70560073852539, -23.7...   \n",
       "\n",
       "                                                     F S^2 force-flip-times  \\\n",
       "89   [1.7e-07, 0.00035892, 0.00068535, 0.00112034, ...  []                3   \n",
       "90   [0.0, -0.00010788, -0.00021458, -0.00032269, -...  []                2   \n",
       "91   [0.0, 0.0, 0.0, 0.0, 0.0, 0.0, 0.0, 0.0, 0.0, ...  []                1   \n",
       "92   [0.0, 0.0, 0.0, 0.0, 0.0, 0.0, 0.0, 0.0, 0.0, ...  []                2   \n",
       "93   [-6e-08, -0.00011319, -0.00023184, -0.0003534,...  []                2   \n",
       "..                                                 ...  ..              ...   \n",
       "173  [0.0, 0.0, 0.0, 0.0, 0.0, 0.0, 0.0, 0.0, 0.0, ...  []                2   \n",
       "174  [0.0, 0.0, 0.0, 0.0, 0.0, 0.0, 0.0, 0.0, 0.0, ...  []                2   \n",
       "175  [0.0, 0.0, 0.0, 0.0, 0.0, 0.0, 0.0, 0.0, 0.0, ...  []                1   \n",
       "176  [0.0, 0.0, 0.0, 0.0, 0.0, 0.0, 0.0, 0.0, 0.0, ...  []                3   \n",
       "177  [0.0, 0.0, 0.0, 0.0, 0.0, 0.0, 0.0, 0.0, 0.0, ...  []                2   \n",
       "\n",
       "     force-total-variation energy-diff-flip-times  energy-grad-norm-max  \\\n",
       "89               80.309463                      2             65.875268   \n",
       "90                1.485210                      0              0.821236   \n",
       "91                8.583572                      1              8.122311   \n",
       "92               29.133944                      2             10.346194   \n",
       "93              330.078666                      2            123.581618   \n",
       "..                     ...                    ...                   ...   \n",
       "173              16.226657                      2              6.413536   \n",
       "174               6.407403                      2              2.536645   \n",
       "175              34.878494                      1             25.824510   \n",
       "176              14.386345                      3              8.632403   \n",
       "177              10.916421                      2              6.815384   \n",
       "\n",
       "     energy-jump  energy-total-variation  conservation-deviation  \\\n",
       "89      0.009835               15.816339                0.043480   \n",
       "90      0.000000                0.344755                0.001872   \n",
       "91      0.002224                5.332280                0.013703   \n",
       "92      0.016283                6.239225                0.022079   \n",
       "93      0.543755               40.039458                0.138081   \n",
       "..           ...                     ...                     ...   \n",
       "173     0.006823                3.392294                0.024297   \n",
       "174     0.006878                2.349456                0.018977   \n",
       "175     0.004967               11.734995                0.025810   \n",
       "176     0.010139                2.824085                0.015532   \n",
       "177     0.005814                3.295753                0.012909   \n",
       "\n",
       "     spearman-descending-force  spearman-ascending-force  \\\n",
       "89                   -0.999421                  0.840215   \n",
       "90                   -0.904433                  0.077295   \n",
       "91                   -0.999858                  0.993021   \n",
       "92                         NaN                 -0.044580   \n",
       "93                         NaN                  0.201590   \n",
       "..                         ...                       ...   \n",
       "173                        NaN                  0.026348   \n",
       "174                  -0.627256                  0.460505   \n",
       "175                  -0.974165                  0.939272   \n",
       "176                  -1.000000                  0.189479   \n",
       "177                  -1.000000                  0.115110   \n",
       "\n",
       "     spearman-repulsion-energy  spearman-attraction-energy  \n",
       "89                   -1.000000                    0.794565  \n",
       "90                   -1.000000                    0.093575  \n",
       "91                   -0.999996                    0.995153  \n",
       "92                   -0.998691                    0.999892  \n",
       "93                   -0.999921                    0.999947  \n",
       "..                         ...                         ...  \n",
       "173                  -0.997169                    0.918191  \n",
       "174                        NaN                    0.950999  \n",
       "175                  -1.000000                    0.966465  \n",
       "176                  -1.000000                    0.439673  \n",
       "177                        NaN                    0.260405  \n",
       "\n",
       "[89 rows x 17 columns]"
      ]
     },
     "execution_count": 12,
     "metadata": {},
     "output_type": "execute_result"
    }
   ],
   "source": [
    "df"
   ]
  },
  {
   "cell_type": "code",
   "execution_count": null,
   "id": "4e6ae884-89f3-43f2-8fd9-19bf00c91566",
   "metadata": {},
   "outputs": [],
   "source": []
  }
 ],
 "metadata": {
  "kernelspec": {
   "display_name": "mlip-arena",
   "language": "python",
   "name": "mlip-arena"
  },
  "language_info": {
   "codemirror_mode": {
    "name": "ipython",
    "version": 3
   },
   "file_extension": ".py",
   "mimetype": "text/x-python",
   "name": "python",
   "nbconvert_exporter": "python",
   "pygments_lexer": "ipython3",
   "version": "3.11.8"
  },
  "widgets": {
   "application/vnd.jupyter.widget-state+json": {
    "state": {
     "0006facbd3614fe1a2a377945ee5601d": {
      "model_module": "@jupyter-widgets/base",
      "model_module_version": "2.0.0",
      "model_name": "LayoutModel",
      "state": {}
     },
     "0017deb8473c44198139ed411461dbdd": {
      "model_module": "@jupyter-widgets/controls",
      "model_module_version": "2.0.0",
      "model_name": "HTMLModel",
      "state": {
       "layout": "IPY_MODEL_a699c3ce826b4a3c8c47d656445e1b95",
       "style": "IPY_MODEL_ee37d771d1e74fc1bcdc89b3f1b5df8b",
       "value": " 405/405 [00:00&lt;00:00, 114528.93it/s]"
      }
     },
     "002bee97bc014899ad12d42defc7c222": {
      "model_module": "@jupyter-widgets/controls",
      "model_module_version": "2.0.0",
      "model_name": "ProgressStyleModel",
      "state": {
       "description_width": ""
      }
     },
     "003287d87e2b440e98d052d5d14d5a72": {
      "model_module": "@jupyter-widgets/base",
      "model_module_version": "2.0.0",
      "model_name": "LayoutModel",
      "state": {}
     },
     "0083ca6ecbeb4dd68b269db1a9c12d85": {
      "model_module": "@jupyter-widgets/base",
      "model_module_version": "2.0.0",
      "model_name": "LayoutModel",
      "state": {}
     },
     "008f7b31a22841f0abdf191db0c6fc4f": {
      "model_module": "@jupyter-widgets/base",
      "model_module_version": "2.0.0",
      "model_name": "LayoutModel",
      "state": {}
     },
     "00a5eeca05dd4b7dac5a9d5c2c43da7c": {
      "model_module": "@jupyter-widgets/controls",
      "model_module_version": "2.0.0",
      "model_name": "HTMLStyleModel",
      "state": {
       "description_width": "",
       "font_size": null,
       "text_color": null
      }
     },
     "00cc052ca30c48698adaa2645f338d08": {
      "model_module": "@jupyter-widgets/controls",
      "model_module_version": "2.0.0",
      "model_name": "HTMLModel",
      "state": {
       "layout": "IPY_MODEL_fe72d68904f94ec094cb9d5a442aff36",
       "style": "IPY_MODEL_b739d439686541739e7aa4142c0b8d41",
       "value": "100%"
      }
     },
     "00d563a2327247748063bfff17733f7b": {
      "model_module": "@jupyter-widgets/base",
      "model_module_version": "2.0.0",
      "model_name": "LayoutModel",
      "state": {}
     },
     "00e591bbff0e460096834c2bee900737": {
      "model_module": "@jupyter-widgets/controls",
      "model_module_version": "2.0.0",
      "model_name": "HTMLModel",
      "state": {
       "layout": "IPY_MODEL_b72ae6dc3cb94f9bab1ca02b66e813b4",
       "style": "IPY_MODEL_d67e75a05e4d45d589517ec88bfc8790",
       "value": " 631/631 [00:00&lt;00:00, 167942.50it/s]"
      }
     },
     "01039ac33d644e2fb1919a6631923fa8": {
      "model_module": "@jupyter-widgets/controls",
      "model_module_version": "2.0.0",
      "model_name": "HTMLStyleModel",
      "state": {
       "description_width": "",
       "font_size": null,
       "text_color": null
      }
     },
     "010db51754ad4ba6b774a701fcd6dbeb": {
      "model_module": "@jupyter-widgets/controls",
      "model_module_version": "2.0.0",
      "model_name": "HBoxModel",
      "state": {
       "children": [
        "IPY_MODEL_571a2146a06541ee9654c59566905ac5",
        "IPY_MODEL_a61112e2a2b443d59a3c78ac77ed0dc6",
        "IPY_MODEL_bf27dd16881045f182c920b00ec2c8c3"
       ],
       "layout": "IPY_MODEL_b1f24b93042648e2a6df6ca2cefce89b"
      }
     },
     "014839258f234649b3dc328c9ae65d15": {
      "model_module": "@jupyter-widgets/base",
      "model_module_version": "2.0.0",
      "model_name": "LayoutModel",
      "state": {}
     },
     "018cf8855c064bee97cc5394027ed554": {
      "model_module": "@jupyter-widgets/controls",
      "model_module_version": "2.0.0",
      "model_name": "HTMLModel",
      "state": {
       "layout": "IPY_MODEL_27fb78e55d474d059406cd6fe49512ff",
       "style": "IPY_MODEL_bd3eaef22c014276a9013c48a2ac6663",
       "value": " 475/475 [00:00&lt;00:00, 133237.10it/s]"
      }
     },
     "01980249431448d9a0e55dd4fdb1054a": {
      "model_module": "@jupyter-widgets/base",
      "model_module_version": "2.0.0",
      "model_name": "LayoutModel",
      "state": {}
     },
     "01ac6f61cb724aedb1cd0256898007a0": {
      "model_module": "@jupyter-widgets/base",
      "model_module_version": "2.0.0",
      "model_name": "LayoutModel",
      "state": {}
     },
     "01b7dfe8fbb446698c7fffc26adecfa3": {
      "model_module": "@jupyter-widgets/controls",
      "model_module_version": "2.0.0",
      "model_name": "HTMLStyleModel",
      "state": {
       "description_width": "",
       "font_size": null,
       "text_color": null
      }
     },
     "01d40c73e7af459e880fb158488ed27d": {
      "model_module": "@jupyter-widgets/base",
      "model_module_version": "2.0.0",
      "model_name": "LayoutModel",
      "state": {}
     },
     "01da846be731454182270cbca6af97b4": {
      "model_module": "@jupyter-widgets/base",
      "model_module_version": "2.0.0",
      "model_name": "LayoutModel",
      "state": {}
     },
     "01e0078e1e534d139ec907d4c7d573ae": {
      "model_module": "@jupyter-widgets/base",
      "model_module_version": "2.0.0",
      "model_name": "LayoutModel",
      "state": {}
     },
     "01eb2f9d843340dda6463ae00c13eee8": {
      "model_module": "@jupyter-widgets/controls",
      "model_module_version": "2.0.0",
      "model_name": "FloatProgressModel",
      "state": {
       "bar_style": "success",
       "layout": "IPY_MODEL_dc93aeeb2caf42baba3ce1443cab9ba1",
       "max": 593,
       "style": "IPY_MODEL_b2b6d79d62564234b082b8fd7442eb2b",
       "value": 593
      }
     },
     "0224bdbfba704f7d8e7bbab53038785d": {
      "model_module": "@jupyter-widgets/controls",
      "model_module_version": "2.0.0",
      "model_name": "HBoxModel",
      "state": {
       "children": [
        "IPY_MODEL_cdf41103c0cf450086daa15f65e83f5e",
        "IPY_MODEL_7375874b14094185981f38e6ac3b9f79",
        "IPY_MODEL_b50c29a907c644cdb558575670bdf113"
       ],
       "layout": "IPY_MODEL_19e3bd0336474753b9eb91ad02e93bd5"
      }
     },
     "024b6b9110b24ed18665af5541a27071": {
      "model_module": "@jupyter-widgets/controls",
      "model_module_version": "2.0.0",
      "model_name": "HTMLModel",
      "state": {
       "layout": "IPY_MODEL_245a9754e2ac4451828de96fd21dd71e",
       "style": "IPY_MODEL_693a6529b4e94283a21d9449b5eb73fd",
       "value": " 699/699 [00:00&lt;00:00, 193073.33it/s]"
      }
     },
     "0252d45b2bd847ccbc8bba2164ff90b0": {
      "model_module": "@jupyter-widgets/base",
      "model_module_version": "2.0.0",
      "model_name": "LayoutModel",
      "state": {}
     },
     "0263cc9418814c2a9f821b1536cb174a": {
      "model_module": "@jupyter-widgets/base",
      "model_module_version": "2.0.0",
      "model_name": "LayoutModel",
      "state": {}
     },
     "029020d80ff04fb6937f82f42dabeefa": {
      "model_module": "@jupyter-widgets/controls",
      "model_module_version": "2.0.0",
      "model_name": "ProgressStyleModel",
      "state": {
       "description_width": ""
      }
     },
     "02c87eb550634510905f27a9ab56c37c": {
      "model_module": "@jupyter-widgets/base",
      "model_module_version": "2.0.0",
      "model_name": "LayoutModel",
      "state": {}
     },
     "02ccc99a3f2d4dfb8401522cb9be47a3": {
      "model_module": "@jupyter-widgets/base",
      "model_module_version": "2.0.0",
      "model_name": "LayoutModel",
      "state": {}
     },
     "02d3d8c99bbc495b9a5790aa04ad0450": {
      "model_module": "@jupyter-widgets/controls",
      "model_module_version": "2.0.0",
      "model_name": "HTMLStyleModel",
      "state": {
       "description_width": "",
       "font_size": null,
       "text_color": null
      }
     },
     "02e62c93522b422d8a613c15450c6d5b": {
      "model_module": "@jupyter-widgets/controls",
      "model_module_version": "2.0.0",
      "model_name": "HBoxModel",
      "state": {
       "children": [
        "IPY_MODEL_7a5e7f1263bf43ddad71fe08662940b1",
        "IPY_MODEL_f0e7c381cf8e49379440b515939d13cd",
        "IPY_MODEL_42464f37aaa5410eacfc1e6862b00923"
       ],
       "layout": "IPY_MODEL_818314cb9e354a0295fb91f1a95ed919"
      }
     },
     "030372ae83a4408387891de68cf3893c": {
      "model_module": "@jupyter-widgets/base",
      "model_module_version": "2.0.0",
      "model_name": "LayoutModel",
      "state": {}
     },
     "0313a7f0d95946c09d01a9667887f9b3": {
      "model_module": "@jupyter-widgets/controls",
      "model_module_version": "2.0.0",
      "model_name": "HTMLStyleModel",
      "state": {
       "description_width": "",
       "font_size": null,
       "text_color": null
      }
     },
     "0343fb3ba0674f30b05eab19041f219f": {
      "model_module": "@jupyter-widgets/base",
      "model_module_version": "2.0.0",
      "model_name": "LayoutModel",
      "state": {}
     },
     "034a18cd0d9644bcabd458bf62d63d71": {
      "model_module": "@jupyter-widgets/controls",
      "model_module_version": "2.0.0",
      "model_name": "ProgressStyleModel",
      "state": {
       "description_width": ""
      }
     },
     "0364b702436a4b3a97bcaba669286067": {
      "model_module": "@jupyter-widgets/base",
      "model_module_version": "2.0.0",
      "model_name": "LayoutModel",
      "state": {}
     },
     "03a3fec74788452795bb5f69b9296c67": {
      "model_module": "@jupyter-widgets/base",
      "model_module_version": "2.0.0",
      "model_name": "LayoutModel",
      "state": {}
     },
     "03c556684fb4487abce64804dad6d580": {
      "model_module": "@jupyter-widgets/base",
      "model_module_version": "2.0.0",
      "model_name": "LayoutModel",
      "state": {}
     },
     "03d555db855640829419aa1cff372f55": {
      "model_module": "@jupyter-widgets/controls",
      "model_module_version": "2.0.0",
      "model_name": "HTMLModel",
      "state": {
       "layout": "IPY_MODEL_b3c0f4b177cf4165a168087639996df1",
       "style": "IPY_MODEL_400d94d640024220a6ac8b9627475abd",
       "value": "100%"
      }
     },
     "03e3e52ac78047b1820ede5c77cc206b": {
      "model_module": "@jupyter-widgets/base",
      "model_module_version": "2.0.0",
      "model_name": "LayoutModel",
      "state": {}
     },
     "04046889e54b4647bca313a473f9b1b5": {
      "model_module": "@jupyter-widgets/controls",
      "model_module_version": "2.0.0",
      "model_name": "HTMLModel",
      "state": {
       "layout": "IPY_MODEL_18c6c95d0fb84220b9c54073867061f8",
       "style": "IPY_MODEL_1f2e428d77cf4841a0fb79f797b7e3e6",
       "value": "100%"
      }
     },
     "041f98cde1fa473eaac0f904d5d187f8": {
      "model_module": "@jupyter-widgets/controls",
      "model_module_version": "2.0.0",
      "model_name": "ProgressStyleModel",
      "state": {
       "description_width": ""
      }
     },
     "04440396b47148099fa34085e3ff23fb": {
      "model_module": "@jupyter-widgets/controls",
      "model_module_version": "2.0.0",
      "model_name": "HTMLModel",
      "state": {
       "layout": "IPY_MODEL_578031ce85c945f5a559d6af1c9fcf38",
       "style": "IPY_MODEL_7203257bdb3945efb7470ddc6ce8191e",
       "value": "100%"
      }
     },
     "0477d9641d2247c1a134382ed6e6688d": {
      "model_module": "@jupyter-widgets/controls",
      "model_module_version": "2.0.0",
      "model_name": "HTMLStyleModel",
      "state": {
       "description_width": "",
       "font_size": null,
       "text_color": null
      }
     },
     "04966ba2943546cb83c5d6663c5a433a": {
      "model_module": "@jupyter-widgets/controls",
      "model_module_version": "2.0.0",
      "model_name": "ProgressStyleModel",
      "state": {
       "description_width": ""
      }
     },
     "04e3263d22ba4f3fb8dd39728d9337f4": {
      "model_module": "@jupyter-widgets/controls",
      "model_module_version": "2.0.0",
      "model_name": "FloatProgressModel",
      "state": {
       "bar_style": "success",
       "layout": "IPY_MODEL_1ab21621d4c14894aeb520e28fb0cc7c",
       "max": 491,
       "style": "IPY_MODEL_221e07cbd4674ecd8df0e9550bd4d895",
       "value": 491
      }
     },
     "0500619b348a4d1e8a2f493756f3e4e6": {
      "model_module": "@jupyter-widgets/base",
      "model_module_version": "2.0.0",
      "model_name": "LayoutModel",
      "state": {}
     },
     "051b3c800dfc43fe818bc13b1d913649": {
      "model_module": "@jupyter-widgets/controls",
      "model_module_version": "2.0.0",
      "model_name": "HTMLStyleModel",
      "state": {
       "description_width": "",
       "font_size": null,
       "text_color": null
      }
     },
     "052482db22fa45a89c3d2861a5a24b18": {
      "model_module": "@jupyter-widgets/controls",
      "model_module_version": "2.0.0",
      "model_name": "ProgressStyleModel",
      "state": {
       "description_width": ""
      }
     },
     "054906f9f2b84731b5d428d5f6f43139": {
      "model_module": "@jupyter-widgets/controls",
      "model_module_version": "2.0.0",
      "model_name": "HTMLModel",
      "state": {
       "layout": "IPY_MODEL_3134050156f9434baffbab4bbfcd1a15",
       "style": "IPY_MODEL_74487b693d4d4b34b8da05543e452440",
       "value": "100%"
      }
     },
     "058ae4d7f4a84901b9b93f78e237290d": {
      "model_module": "@jupyter-widgets/controls",
      "model_module_version": "2.0.0",
      "model_name": "HTMLModel",
      "state": {
       "layout": "IPY_MODEL_d99b0f8735c04410ae23a2c04d95df5e",
       "style": "IPY_MODEL_99c2dbdd41af45569687f88f4bb7a5f0",
       "value": "100%"
      }
     },
     "05a160c93cf942fdbef4378771d43743": {
      "model_module": "@jupyter-widgets/base",
      "model_module_version": "2.0.0",
      "model_name": "LayoutModel",
      "state": {}
     },
     "05a783e6954b4fb9a8060f32160c43ec": {
      "model_module": "@jupyter-widgets/controls",
      "model_module_version": "2.0.0",
      "model_name": "FloatProgressModel",
      "state": {
       "bar_style": "danger",
       "layout": "IPY_MODEL_c62fd2d1354d460494307c89d2230a50",
       "max": 582,
       "style": "IPY_MODEL_126e084701fb4c4290ab9f137b4f2728"
      }
     },
     "05b2b91b412a47c580760e6f83aba210": {
      "model_module": "@jupyter-widgets/base",
      "model_module_version": "2.0.0",
      "model_name": "LayoutModel",
      "state": {}
     },
     "05e521b2187849f2be85f2458e1f6219": {
      "model_module": "@jupyter-widgets/base",
      "model_module_version": "2.0.0",
      "model_name": "LayoutModel",
      "state": {}
     },
     "05e9764612af4eb7a2a2dc16091c1fde": {
      "model_module": "@jupyter-widgets/controls",
      "model_module_version": "2.0.0",
      "model_name": "HTMLStyleModel",
      "state": {
       "description_width": "",
       "font_size": null,
       "text_color": null
      }
     },
     "05f9938408f04f99bcd3086135846bd3": {
      "model_module": "@jupyter-widgets/base",
      "model_module_version": "2.0.0",
      "model_name": "LayoutModel",
      "state": {}
     },
     "05fee5d05fc54b3ca40aa8d98fbf10bb": {
      "model_module": "@jupyter-widgets/controls",
      "model_module_version": "2.0.0",
      "model_name": "HTMLStyleModel",
      "state": {
       "description_width": "",
       "font_size": null,
       "text_color": null
      }
     },
     "06231c2a6afc4d9f89259b87fff3b846": {
      "model_module": "@jupyter-widgets/controls",
      "model_module_version": "2.0.0",
      "model_name": "HTMLStyleModel",
      "state": {
       "description_width": "",
       "font_size": null,
       "text_color": null
      }
     },
     "062d932bbc0b4a6a89905106336599d8": {
      "model_module": "@jupyter-widgets/base",
      "model_module_version": "2.0.0",
      "model_name": "LayoutModel",
      "state": {}
     },
     "06741aca97d24a828dc29ac9dc897b71": {
      "model_module": "@jupyter-widgets/base",
      "model_module_version": "2.0.0",
      "model_name": "LayoutModel",
      "state": {}
     },
     "06dc99fdae3c456298d1d6705443428e": {
      "model_module": "@jupyter-widgets/controls",
      "model_module_version": "2.0.0",
      "model_name": "HBoxModel",
      "state": {
       "children": [
        "IPY_MODEL_e1e1084ef59d4d2fb2cd2a3bdac08e5c",
        "IPY_MODEL_b6304d974c1e43208177dff34109835f",
        "IPY_MODEL_d2755590204640639a4dd9ec34d44013"
       ],
       "layout": "IPY_MODEL_05a160c93cf942fdbef4378771d43743"
      }
     },
     "06e45443179e4e37b0b4e9c4edfeefa7": {
      "model_module": "@jupyter-widgets/controls",
      "model_module_version": "2.0.0",
      "model_name": "HTMLModel",
      "state": {
       "layout": "IPY_MODEL_58978b93718b4a748942000c86be1b92",
       "style": "IPY_MODEL_8715b4130075463b8ea9d552c18b81f2",
       "value": " 0/582 [00:00&lt;?, ?it/s]"
      }
     },
     "0714e6d0c5fc42b5a552329ea03bfa2a": {
      "model_module": "@jupyter-widgets/base",
      "model_module_version": "2.0.0",
      "model_name": "LayoutModel",
      "state": {}
     },
     "071d6fd9a01d4131aa4759b1383d01d8": {
      "model_module": "@jupyter-widgets/controls",
      "model_module_version": "2.0.0",
      "model_name": "ProgressStyleModel",
      "state": {
       "description_width": ""
      }
     },
     "0731c6b0027d4c25b3b41dec0e012839": {
      "model_module": "@jupyter-widgets/base",
      "model_module_version": "2.0.0",
      "model_name": "LayoutModel",
      "state": {}
     },
     "0764728ba4a84ad0a197ffc1ed50d1c6": {
      "model_module": "@jupyter-widgets/controls",
      "model_module_version": "2.0.0",
      "model_name": "FloatProgressModel",
      "state": {
       "bar_style": "danger",
       "layout": "IPY_MODEL_1fd19557438b406d8db4e5277f04fec7",
       "max": 118,
       "style": "IPY_MODEL_6150f4fa1e9d4db686c62946a4699ac6",
       "value": 49
      }
     },
     "0765620c052f4883bcfae8d66107d599": {
      "model_module": "@jupyter-widgets/base",
      "model_module_version": "2.0.0",
      "model_name": "LayoutModel",
      "state": {}
     },
     "076928af9c7b424ea94601820e531bf1": {
      "model_module": "@jupyter-widgets/base",
      "model_module_version": "2.0.0",
      "model_name": "LayoutModel",
      "state": {}
     },
     "078f49aae97d4f6e98ade373c524add9": {
      "model_module": "@jupyter-widgets/controls",
      "model_module_version": "2.0.0",
      "model_name": "HTMLStyleModel",
      "state": {
       "description_width": "",
       "font_size": null,
       "text_color": null
      }
     },
     "07b28576dfff47449b119dbeb936f844": {
      "model_module": "@jupyter-widgets/controls",
      "model_module_version": "2.0.0",
      "model_name": "HTMLStyleModel",
      "state": {
       "description_width": "",
       "font_size": null,
       "text_color": null
      }
     },
     "07d9e0a1108f487787c132a21c35f1ed": {
      "model_module": "@jupyter-widgets/base",
      "model_module_version": "2.0.0",
      "model_name": "LayoutModel",
      "state": {}
     },
     "07ed7a1cc285427fa901e2a77366d954": {
      "model_module": "@jupyter-widgets/controls",
      "model_module_version": "2.0.0",
      "model_name": "ProgressStyleModel",
      "state": {
       "description_width": ""
      }
     },
     "07f8494ecc4b456e9f9a01c11a1996aa": {
      "model_module": "@jupyter-widgets/controls",
      "model_module_version": "2.0.0",
      "model_name": "HTMLModel",
      "state": {
       "layout": "IPY_MODEL_3e94457304694eb08f5f7635758aaecc",
       "style": "IPY_MODEL_52d4cb77a72047278dda11ed3d496b83",
       "value": " 651/651 [00:00&lt;00:00, 182105.64it/s]"
      }
     },
     "0803283bd4c841acb16ded20dbec10d2": {
      "model_module": "@jupyter-widgets/controls",
      "model_module_version": "2.0.0",
      "model_name": "HTMLStyleModel",
      "state": {
       "description_width": "",
       "font_size": null,
       "text_color": null
      }
     },
     "0806460bebd8436d8c125e662b44fd36": {
      "model_module": "@jupyter-widgets/controls",
      "model_module_version": "2.0.0",
      "model_name": "HTMLStyleModel",
      "state": {
       "description_width": "",
       "font_size": null,
       "text_color": null
      }
     },
     "082459eedfc946faab501ab65f6847d7": {
      "model_module": "@jupyter-widgets/controls",
      "model_module_version": "2.0.0",
      "model_name": "FloatProgressModel",
      "state": {
       "bar_style": "success",
       "layout": "IPY_MODEL_4ab88d9dab384bfe9a2c02051577e09e",
       "max": 542,
       "style": "IPY_MODEL_bde0874ccd63410f825e478cc845182e",
       "value": 542
      }
     },
     "0835640aaacf494f9396c73dfd612720": {
      "model_module": "@jupyter-widgets/controls",
      "model_module_version": "2.0.0",
      "model_name": "FloatProgressModel",
      "state": {
       "bar_style": "success",
       "layout": "IPY_MODEL_708055c133f1496a92d492accf7d0567",
       "max": 681,
       "style": "IPY_MODEL_ce564adda0d84ec4a112c5c134ec4e5d",
       "value": 681
      }
     },
     "08369c66b9a648adbcd43bba4ca739f9": {
      "model_module": "@jupyter-widgets/base",
      "model_module_version": "2.0.0",
      "model_name": "LayoutModel",
      "state": {}
     },
     "083c10167de547b38d2e2c2fc1553969": {
      "model_module": "@jupyter-widgets/controls",
      "model_module_version": "2.0.0",
      "model_name": "HBoxModel",
      "state": {
       "children": [
        "IPY_MODEL_1889520f1da14da8926d795d5b933ad6",
        "IPY_MODEL_2d94ef2f529244228fb80f9d54fca0a4",
        "IPY_MODEL_ac8d9929f710492e8de4f5bc349f5bdf"
       ],
       "layout": "IPY_MODEL_7c14cb7d88794189821e591e13b4add5"
      }
     },
     "0846ada0acc24e198e7920140a2172af": {
      "model_module": "@jupyter-widgets/base",
      "model_module_version": "2.0.0",
      "model_name": "LayoutModel",
      "state": {}
     },
     "086f2cd247e9434fa2c0cf5706505bab": {
      "model_module": "@jupyter-widgets/base",
      "model_module_version": "2.0.0",
      "model_name": "LayoutModel",
      "state": {}
     },
     "086fbf17e41e4620afbd5f272c2dae13": {
      "model_module": "@jupyter-widgets/controls",
      "model_module_version": "2.0.0",
      "model_name": "HTMLStyleModel",
      "state": {
       "description_width": "",
       "font_size": null,
       "text_color": null
      }
     },
     "08714a0c159f4bf6b1ca80056d970555": {
      "model_module": "@jupyter-widgets/base",
      "model_module_version": "2.0.0",
      "model_name": "LayoutModel",
      "state": {}
     },
     "08911fbfe744401daae2cf0a7d19818d": {
      "model_module": "@jupyter-widgets/base",
      "model_module_version": "2.0.0",
      "model_name": "LayoutModel",
      "state": {}
     },
     "089a569701104828aa1830ff0225a3cd": {
      "model_module": "@jupyter-widgets/controls",
      "model_module_version": "2.0.0",
      "model_name": "HBoxModel",
      "state": {
       "children": [
        "IPY_MODEL_286aa19b1a5642c798056ca68eb10690",
        "IPY_MODEL_fd6e9c66513e4c6fa7660ecdfa02bf60",
        "IPY_MODEL_d5c8d242677d4f17ba2da957626c82d2"
       ],
       "layout": "IPY_MODEL_ed49d084d64a489fa6dedb1b182d1c77"
      }
     },
     "08c5c32b84ef4a9097665a0ffa10fb64": {
      "model_module": "@jupyter-widgets/controls",
      "model_module_version": "2.0.0",
      "model_name": "ProgressStyleModel",
      "state": {
       "description_width": ""
      }
     },
     "08eecc5ce1da4e4a852a5439bc2d7845": {
      "model_module": "@jupyter-widgets/controls",
      "model_module_version": "2.0.0",
      "model_name": "HBoxModel",
      "state": {
       "children": [
        "IPY_MODEL_42c0e9aa45a441fab0ec104078f1a6f7",
        "IPY_MODEL_7e74598519ca45eeb8775c889f388d94",
        "IPY_MODEL_c9700f0ee77d4b1aad3d55495df3c770"
       ],
       "layout": "IPY_MODEL_4bd08eca8a1747469412bd6df4acc1b8"
      }
     },
     "090b1e5649984f0d93bd36d269a149ff": {
      "model_module": "@jupyter-widgets/base",
      "model_module_version": "2.0.0",
      "model_name": "LayoutModel",
      "state": {}
     },
     "092372cecdf249b69bdc793b5db4702e": {
      "model_module": "@jupyter-widgets/base",
      "model_module_version": "2.0.0",
      "model_name": "LayoutModel",
      "state": {}
     },
     "09602b3d8ccb43c9b9ea92a8f026f589": {
      "model_module": "@jupyter-widgets/base",
      "model_module_version": "2.0.0",
      "model_name": "LayoutModel",
      "state": {}
     },
     "0960506543de46119c9c90b3ea17bcd8": {
      "model_module": "@jupyter-widgets/controls",
      "model_module_version": "2.0.0",
      "model_name": "FloatProgressModel",
      "state": {
       "bar_style": "success",
       "layout": "IPY_MODEL_fd19551fc78d474db71f3125d57d9d40",
       "max": 344,
       "style": "IPY_MODEL_adfd8f3e406c405695b56a46a7a427f1",
       "value": 344
      }
     },
     "09633217cb644b18a669bd047293d4a6": {
      "model_module": "@jupyter-widgets/base",
      "model_module_version": "2.0.0",
      "model_name": "LayoutModel",
      "state": {}
     },
     "097bd1175d4d41fea7e6d30df59de175": {
      "model_module": "@jupyter-widgets/base",
      "model_module_version": "2.0.0",
      "model_name": "LayoutModel",
      "state": {}
     },
     "09853bd7652f48a0b69d5d837ac14c17": {
      "model_module": "@jupyter-widgets/controls",
      "model_module_version": "2.0.0",
      "model_name": "HBoxModel",
      "state": {
       "children": [
        "IPY_MODEL_a7ceba7172e24a45ab54d827ebabb989",
        "IPY_MODEL_30b2c869bc6541d39abab7faf21cf3bd",
        "IPY_MODEL_2f6f8d9cc89841fead0965c4798f514f"
       ],
       "layout": "IPY_MODEL_5ee9e55075494ee681e49df03ed959e3"
      }
     },
     "0990681ca66f414192a8c76986e21589": {
      "model_module": "@jupyter-widgets/controls",
      "model_module_version": "2.0.0",
      "model_name": "HTMLStyleModel",
      "state": {
       "description_width": "",
       "font_size": null,
       "text_color": null
      }
     },
     "0991858791ba4891a1780dfbcac716b1": {
      "model_module": "@jupyter-widgets/controls",
      "model_module_version": "2.0.0",
      "model_name": "HBoxModel",
      "state": {
       "children": [
        "IPY_MODEL_6effdb2a52b14187b86af1aa5652990f",
        "IPY_MODEL_9e3a0c872b3d4313849f855d6ee650b8",
        "IPY_MODEL_0017deb8473c44198139ed411461dbdd"
       ],
       "layout": "IPY_MODEL_8ef9fb7591ab443ca0c6d7d67d59e909"
      }
     },
     "099c91b31ca54d58a2cc517843681564": {
      "model_module": "@jupyter-widgets/controls",
      "model_module_version": "2.0.0",
      "model_name": "FloatProgressModel",
      "state": {
       "bar_style": "success",
       "layout": "IPY_MODEL_2bae17ad761d4f339134b60574c69cdc",
       "max": 612,
       "style": "IPY_MODEL_17f888c62cea40509b10ff21f4e104d0",
       "value": 612
      }
     },
     "09bc3be26c154aac8834478ab44249fb": {
      "model_module": "@jupyter-widgets/controls",
      "model_module_version": "2.0.0",
      "model_name": "FloatProgressModel",
      "state": {
       "bar_style": "success",
       "layout": "IPY_MODEL_c73f379fb8d94a9ea0469d0180210bde",
       "max": 472,
       "style": "IPY_MODEL_399c2ce02f3a44cbb1c3b810c9fba8b3",
       "value": 472
      }
     },
     "0a2da83c0a61441c9a01ca25c844a25d": {
      "model_module": "@jupyter-widgets/controls",
      "model_module_version": "2.0.0",
      "model_name": "HTMLStyleModel",
      "state": {
       "description_width": "",
       "font_size": null,
       "text_color": null
      }
     },
     "0a3e24b1dfac42b1a1a3a0afa7c797b8": {
      "model_module": "@jupyter-widgets/controls",
      "model_module_version": "2.0.0",
      "model_name": "ProgressStyleModel",
      "state": {
       "description_width": ""
      }
     },
     "0a51985a38f04160a5167776be11cf29": {
      "model_module": "@jupyter-widgets/base",
      "model_module_version": "2.0.0",
      "model_name": "LayoutModel",
      "state": {}
     },
     "0a7286d8879f46c99fe49be1a875a0d8": {
      "model_module": "@jupyter-widgets/controls",
      "model_module_version": "2.0.0",
      "model_name": "HTMLStyleModel",
      "state": {
       "description_width": "",
       "font_size": null,
       "text_color": null
      }
     },
     "0a76df7eccb14dea84019b81b0fd0b3e": {
      "model_module": "@jupyter-widgets/controls",
      "model_module_version": "2.0.0",
      "model_name": "HBoxModel",
      "state": {
       "children": [
        "IPY_MODEL_6da3103353254e5e803e4e64715a0819",
        "IPY_MODEL_8e5abdad0ade49039f7cfc5e4a06eecb",
        "IPY_MODEL_b828e4f7c86e403b9ac6e57f1607d141"
       ],
       "layout": "IPY_MODEL_52ec59a8455949d393cfdb4247f6c5ec"
      }
     },
     "0a7a946309b74e3fb67d3e6796542c83": {
      "model_module": "@jupyter-widgets/controls",
      "model_module_version": "2.0.0",
      "model_name": "HTMLStyleModel",
      "state": {
       "description_width": "",
       "font_size": null,
       "text_color": null
      }
     },
     "0a95debea40b41d7b5fba4e17acf5c06": {
      "model_module": "@jupyter-widgets/controls",
      "model_module_version": "2.0.0",
      "model_name": "ProgressStyleModel",
      "state": {
       "description_width": ""
      }
     },
     "0a95e86472a14c4a8659ae76dc904998": {
      "model_module": "@jupyter-widgets/controls",
      "model_module_version": "2.0.0",
      "model_name": "HBoxModel",
      "state": {
       "children": [
        "IPY_MODEL_a776c78037584420b620a1d1dbc04545",
        "IPY_MODEL_9fc64675e2a04961beec81d95ae7ab60",
        "IPY_MODEL_9f3dec94a19c4b3288acbeebe9bec1a1"
       ],
       "layout": "IPY_MODEL_57f80793f07644f1a025d6f7d72e0bbc"
      }
     },
     "0aa66b3c5c0447e9ac4c2ec3e158a72e": {
      "model_module": "@jupyter-widgets/controls",
      "model_module_version": "2.0.0",
      "model_name": "ProgressStyleModel",
      "state": {
       "description_width": ""
      }
     },
     "0abf31bbb8f6431eae038e9a5e61e2f8": {
      "model_module": "@jupyter-widgets/controls",
      "model_module_version": "2.0.0",
      "model_name": "ProgressStyleModel",
      "state": {
       "description_width": ""
      }
     },
     "0af2195f91c64555833d8a13f96ba73d": {
      "model_module": "@jupyter-widgets/controls",
      "model_module_version": "2.0.0",
      "model_name": "HTMLStyleModel",
      "state": {
       "description_width": "",
       "font_size": null,
       "text_color": null
      }
     },
     "0af41ba59c4d462ebb708d3a7111f3a6": {
      "model_module": "@jupyter-widgets/controls",
      "model_module_version": "2.0.0",
      "model_name": "HTMLModel",
      "state": {
       "layout": "IPY_MODEL_3cbe89d2bf4a41558774d0886f407b77",
       "style": "IPY_MODEL_9106cb065a954285a57893ce8369741f",
       "value": " 601/601 [00:00&lt;00:00, 159734.92it/s]"
      }
     },
     "0b07bf710ac94a368e136e3a9a681710": {
      "model_module": "@jupyter-widgets/controls",
      "model_module_version": "2.0.0",
      "model_name": "HTMLStyleModel",
      "state": {
       "description_width": "",
       "font_size": null,
       "text_color": null
      }
     },
     "0b2c6da43c9743fb8ad12f3249df77d3": {
      "model_module": "@jupyter-widgets/controls",
      "model_module_version": "2.0.0",
      "model_name": "HTMLStyleModel",
      "state": {
       "description_width": "",
       "font_size": null,
       "text_color": null
      }
     },
     "0b6249e48bfd476cb3574a825bec67f4": {
      "model_module": "@jupyter-widgets/controls",
      "model_module_version": "2.0.0",
      "model_name": "HTMLModel",
      "state": {
       "layout": "IPY_MODEL_f1616890f2f64df18475356d0e41cf36",
       "style": "IPY_MODEL_10c2c7431b7248d998da6dea90797ee0",
       "value": "100%"
      }
     },
     "0b9b3f216791433b863ee583f941da93": {
      "model_module": "@jupyter-widgets/base",
      "model_module_version": "2.0.0",
      "model_name": "LayoutModel",
      "state": {}
     },
     "0bb6606d2485425abf6dc039ff97367c": {
      "model_module": "@jupyter-widgets/base",
      "model_module_version": "2.0.0",
      "model_name": "LayoutModel",
      "state": {}
     },
     "0bd44225cdc9410b8935f0239ec38d7b": {
      "model_module": "@jupyter-widgets/controls",
      "model_module_version": "2.0.0",
      "model_name": "HTMLStyleModel",
      "state": {
       "description_width": "",
       "font_size": null,
       "text_color": null
      }
     },
     "0bd4e1a8047f404b92e85cf26a84416d": {
      "model_module": "@jupyter-widgets/controls",
      "model_module_version": "2.0.0",
      "model_name": "HTMLModel",
      "state": {
       "layout": "IPY_MODEL_5888558f612e452da4d0864eadf076d0",
       "style": "IPY_MODEL_a7a475034214477bb7247066db961c34",
       "value": " 620/620 [00:00&lt;00:00, 168784.87it/s]"
      }
     },
     "0bd646ddeeb14430a30df7977fc50645": {
      "model_module": "@jupyter-widgets/controls",
      "model_module_version": "2.0.0",
      "model_name": "HTMLStyleModel",
      "state": {
       "description_width": "",
       "font_size": null,
       "text_color": null
      }
     },
     "0becd1e3811c4662aa6d4d03fa035e60": {
      "model_module": "@jupyter-widgets/base",
      "model_module_version": "2.0.0",
      "model_name": "LayoutModel",
      "state": {}
     },
     "0c065bba2ae7467584e483d99e4591f0": {
      "model_module": "@jupyter-widgets/controls",
      "model_module_version": "2.0.0",
      "model_name": "FloatProgressModel",
      "state": {
       "bar_style": "success",
       "layout": "IPY_MODEL_7ace23604bc34f69a7b2462b936a20b5",
       "max": 618,
       "style": "IPY_MODEL_8fe478c745e04ab9ac01df6c5305b4ff",
       "value": 618
      }
     },
     "0c099db8ae5f445ea5688cc6f3e580ee": {
      "model_module": "@jupyter-widgets/controls",
      "model_module_version": "2.0.0",
      "model_name": "HTMLStyleModel",
      "state": {
       "description_width": "",
       "font_size": null,
       "text_color": null
      }
     },
     "0c1bc50b57fe40369f9df3f94b0d2342": {
      "model_module": "@jupyter-widgets/base",
      "model_module_version": "2.0.0",
      "model_name": "LayoutModel",
      "state": {}
     },
     "0c36892577de43a5b7b989bdd5b24fe8": {
      "model_module": "@jupyter-widgets/controls",
      "model_module_version": "2.0.0",
      "model_name": "ProgressStyleModel",
      "state": {
       "description_width": ""
      }
     },
     "0c39ce5ed4124df6b56ebfc77ed34117": {
      "model_module": "@jupyter-widgets/base",
      "model_module_version": "2.0.0",
      "model_name": "LayoutModel",
      "state": {}
     },
     "0c6e5d9cbb0e44a696ecbb8db938d94c": {
      "model_module": "@jupyter-widgets/base",
      "model_module_version": "2.0.0",
      "model_name": "LayoutModel",
      "state": {}
     },
     "0c77f202a83c48f0b2cf1ee05d4751c6": {
      "model_module": "@jupyter-widgets/base",
      "model_module_version": "2.0.0",
      "model_name": "LayoutModel",
      "state": {}
     },
     "0cbe0177d37145a09368da269439e9d3": {
      "model_module": "@jupyter-widgets/controls",
      "model_module_version": "2.0.0",
      "model_name": "HBoxModel",
      "state": {
       "children": [
        "IPY_MODEL_83e08cafcd974c109c732add255d171e",
        "IPY_MODEL_6ec1e6b7e619476dbb86787dcaffe3db",
        "IPY_MODEL_13a396fac69c46eda235a6a4650a5566"
       ],
       "layout": "IPY_MODEL_05b2b91b412a47c580760e6f83aba210"
      }
     },
     "0cff66ab45224e94b967a513805f7d06": {
      "model_module": "@jupyter-widgets/base",
      "model_module_version": "2.0.0",
      "model_name": "LayoutModel",
      "state": {}
     },
     "0d02a0920fe647b59110c31f7a40a4be": {
      "model_module": "@jupyter-widgets/base",
      "model_module_version": "2.0.0",
      "model_name": "LayoutModel",
      "state": {}
     },
     "0d039338c55f402e96ebe864cc5eed0c": {
      "model_module": "@jupyter-widgets/controls",
      "model_module_version": "2.0.0",
      "model_name": "HTMLModel",
      "state": {
       "layout": "IPY_MODEL_2b3856704f5b46369f68469aefcbb200",
       "style": "IPY_MODEL_25399d2dae854f5da4717407aaad2a97",
       "value": " 456/456 [00:29&lt;00:00, 15.48it/s]"
      }
     },
     "0d05b74162b241498220e9451296a04c": {
      "model_module": "@jupyter-widgets/base",
      "model_module_version": "2.0.0",
      "model_name": "LayoutModel",
      "state": {}
     },
     "0d20bfbe19cc4379a1b9e227f3aa57ef": {
      "model_module": "@jupyter-widgets/base",
      "model_module_version": "2.0.0",
      "model_name": "LayoutModel",
      "state": {}
     },
     "0d2d83ddfe9c42ccb2f5bf962c8437e7": {
      "model_module": "@jupyter-widgets/controls",
      "model_module_version": "2.0.0",
      "model_name": "HTMLModel",
      "state": {
       "layout": "IPY_MODEL_84d390bf1c2947ca9d5f0e78f21ed729",
       "style": "IPY_MODEL_6752eb616a5743b0bf0772826db2adf6",
       "value": " 0/582 [00:00&lt;?, ?it/s]"
      }
     },
     "0d3e190cc31f4b74b14df9b5e34bfdea": {
      "model_module": "@jupyter-widgets/controls",
      "model_module_version": "2.0.0",
      "model_name": "HTMLStyleModel",
      "state": {
       "description_width": "",
       "font_size": null,
       "text_color": null
      }
     },
     "0d4b93f6a65b4a11b2e1214890696b77": {
      "model_module": "@jupyter-widgets/base",
      "model_module_version": "2.0.0",
      "model_name": "LayoutModel",
      "state": {}
     },
     "0d5ecfbb975847198b1a5c2a7108acfb": {
      "model_module": "@jupyter-widgets/base",
      "model_module_version": "2.0.0",
      "model_name": "LayoutModel",
      "state": {}
     },
     "0da4196124d94910a69a44163637c5ff": {
      "model_module": "@jupyter-widgets/base",
      "model_module_version": "2.0.0",
      "model_name": "LayoutModel",
      "state": {}
     },
     "0db2223b607c4bf6915f859a54ea0c97": {
      "model_module": "@jupyter-widgets/controls",
      "model_module_version": "2.0.0",
      "model_name": "ProgressStyleModel",
      "state": {
       "description_width": ""
      }
     },
     "0dc2bf0a689246fabf67b8b7829e6aed": {
      "model_module": "@jupyter-widgets/controls",
      "model_module_version": "2.0.0",
      "model_name": "HTMLStyleModel",
      "state": {
       "description_width": "",
       "font_size": null,
       "text_color": null
      }
     },
     "0e00984110e84043abe9e1f34392f485": {
      "model_module": "@jupyter-widgets/controls",
      "model_module_version": "2.0.0",
      "model_name": "ProgressStyleModel",
      "state": {
       "description_width": ""
      }
     },
     "0e03440769e347a89854888e58ce70f9": {
      "model_module": "@jupyter-widgets/controls",
      "model_module_version": "2.0.0",
      "model_name": "ProgressStyleModel",
      "state": {
       "description_width": ""
      }
     },
     "0e18bd872fa448aba5a7dbc10d4aef69": {
      "model_module": "@jupyter-widgets/base",
      "model_module_version": "2.0.0",
      "model_name": "LayoutModel",
      "state": {}
     },
     "0e3c866a7472472da6416d702cd3538d": {
      "model_module": "@jupyter-widgets/controls",
      "model_module_version": "2.0.0",
      "model_name": "HTMLModel",
      "state": {
       "layout": "IPY_MODEL_d2e7edd30b4c4a9f9013e8f5c7bc9be5",
       "style": "IPY_MODEL_3a8f9060b78d4d36b1360123108bdb93",
       "value": "100%"
      }
     },
     "0e8789ae2e2347359ca937b7eac33449": {
      "model_module": "@jupyter-widgets/controls",
      "model_module_version": "2.0.0",
      "model_name": "HBoxModel",
      "state": {
       "children": [
        "IPY_MODEL_3982b4385b9e42dc9c849085dc7271c7",
        "IPY_MODEL_9c870ba2ff624ac483b8d2b378bab2e0",
        "IPY_MODEL_76e33d2db53d45cba323db9f0627f526"
       ],
       "layout": "IPY_MODEL_b1356e9713c449329560f51507c011d1"
      }
     },
     "0e92385bf71c48db8f8565b760dab796": {
      "model_module": "@jupyter-widgets/controls",
      "model_module_version": "2.0.0",
      "model_name": "ProgressStyleModel",
      "state": {
       "description_width": ""
      }
     },
     "0e9aa2879f98468a93986bb62c5e1778": {
      "model_module": "@jupyter-widgets/base",
      "model_module_version": "2.0.0",
      "model_name": "LayoutModel",
      "state": {}
     },
     "0eb54ea75bb5405fa34bfcf7a3819f88": {
      "model_module": "@jupyter-widgets/controls",
      "model_module_version": "2.0.0",
      "model_name": "HTMLStyleModel",
      "state": {
       "description_width": "",
       "font_size": null,
       "text_color": null
      }
     },
     "0ec0dd8a654a4a0d8757f3d4d708f4a0": {
      "model_module": "@jupyter-widgets/base",
      "model_module_version": "2.0.0",
      "model_name": "LayoutModel",
      "state": {}
     },
     "0eddf7069eca49aab3b65d2dfabf926c": {
      "model_module": "@jupyter-widgets/controls",
      "model_module_version": "2.0.0",
      "model_name": "HTMLModel",
      "state": {
       "layout": "IPY_MODEL_ae13ba08ec494718adf19fd45a140117",
       "style": "IPY_MODEL_7b7df4919e894463a4cc028a1c5ce36c",
       "value": " 634/634 [00:00&lt;00:00, 177208.37it/s]"
      }
     },
     "0ef6b2a91bef4a3bb8278836b52028ea": {
      "model_module": "@jupyter-widgets/base",
      "model_module_version": "2.0.0",
      "model_name": "LayoutModel",
      "state": {}
     },
     "0efaf513850043ef86d3b145b854714b": {
      "model_module": "@jupyter-widgets/base",
      "model_module_version": "2.0.0",
      "model_name": "LayoutModel",
      "state": {}
     },
     "0f0e3cc9860f46658a0c92e2d379e2ff": {
      "model_module": "@jupyter-widgets/controls",
      "model_module_version": "2.0.0",
      "model_name": "FloatProgressModel",
      "state": {
       "bar_style": "success",
       "layout": "IPY_MODEL_4e268ae0321a4cd4b171d5d1640f6d8e",
       "max": 631,
       "style": "IPY_MODEL_4ee96624eccf433799200e37e8c244bd",
       "value": 631
      }
     },
     "0f2a4dd31ca646b1bc303cf2ba7271ff": {
      "model_module": "@jupyter-widgets/base",
      "model_module_version": "2.0.0",
      "model_name": "LayoutModel",
      "state": {}
     },
     "0f33e43699bd49959dd209d55c73f2f9": {
      "model_module": "@jupyter-widgets/base",
      "model_module_version": "2.0.0",
      "model_name": "LayoutModel",
      "state": {}
     },
     "0f3e7ceccb1a4725a74f8884ce4f860c": {
      "model_module": "@jupyter-widgets/controls",
      "model_module_version": "2.0.0",
      "model_name": "HBoxModel",
      "state": {
       "children": [
        "IPY_MODEL_fe77fe09cf694c58994b5fc45753f6f6",
        "IPY_MODEL_272a7c040d6c4bbea0c22f8b59206e92",
        "IPY_MODEL_f32af14541a245ddb3ddd6bb7a36d343"
       ],
       "layout": "IPY_MODEL_cfa1f28f697c4f999fe03ce7ed6cacac"
      }
     },
     "0f4a03dd71db471dbdf39557911bb477": {
      "model_module": "@jupyter-widgets/controls",
      "model_module_version": "2.0.0",
      "model_name": "HTMLStyleModel",
      "state": {
       "description_width": "",
       "font_size": null,
       "text_color": null
      }
     },
     "0f5774f29c374df5b6b3a5ef00c731cd": {
      "model_module": "@jupyter-widgets/controls",
      "model_module_version": "2.0.0",
      "model_name": "ProgressStyleModel",
      "state": {
       "description_width": ""
      }
     },
     "0f5fa28b0b6b4e64b4d856e12e83b678": {
      "model_module": "@jupyter-widgets/base",
      "model_module_version": "2.0.0",
      "model_name": "LayoutModel",
      "state": {}
     },
     "0f793c45665443ea976660fed8797650": {
      "model_module": "@jupyter-widgets/controls",
      "model_module_version": "2.0.0",
      "model_name": "HBoxModel",
      "state": {
       "children": [
        "IPY_MODEL_b8f56c7eeea548d5a17cd08f0749b6ab",
        "IPY_MODEL_b2039e4b4d184a76b4d665d95449f2de",
        "IPY_MODEL_4e66d7148609482680fd7f94a4b399c5"
       ],
       "layout": "IPY_MODEL_a047ab5c6971422e98c767176c3f872e"
      }
     },
     "0f7bb2e1b8724c728db58c93efbb5746": {
      "model_module": "@jupyter-widgets/controls",
      "model_module_version": "2.0.0",
      "model_name": "HTMLModel",
      "state": {
       "layout": "IPY_MODEL_969626a57dd2483f9c9c41aee25da932",
       "style": "IPY_MODEL_7494038c961a461eb58466df506ff4d5",
       "value": "100%"
      }
     },
     "0f7cca6f661d46919efc92e5837f5002": {
      "model_module": "@jupyter-widgets/controls",
      "model_module_version": "2.0.0",
      "model_name": "HTMLModel",
      "state": {
       "layout": "IPY_MODEL_16f44145649341fdb303231188047050",
       "style": "IPY_MODEL_f8ca3a93dabd4d7b8c46033815d24507",
       "value": " 618/618 [00:00&lt;00:00, 173371.67it/s]"
      }
     },
     "0f8185dbdc7548e5889b6e8902a6bc99": {
      "model_module": "@jupyter-widgets/base",
      "model_module_version": "2.0.0",
      "model_name": "LayoutModel",
      "state": {}
     },
     "0fae7793c9eb434a89d87db3b85a8de6": {
      "model_module": "@jupyter-widgets/base",
      "model_module_version": "2.0.0",
      "model_name": "LayoutModel",
      "state": {}
     },
     "0fe82a0fe0384e4f8e8bceeb3fffe272": {
      "model_module": "@jupyter-widgets/base",
      "model_module_version": "2.0.0",
      "model_name": "LayoutModel",
      "state": {}
     },
     "0ff677bd7adf47818d55186b24970ace": {
      "model_module": "@jupyter-widgets/base",
      "model_module_version": "2.0.0",
      "model_name": "LayoutModel",
      "state": {}
     },
     "105f6d95bc1049c2bd03b6230968ac20": {
      "model_module": "@jupyter-widgets/base",
      "model_module_version": "2.0.0",
      "model_name": "LayoutModel",
      "state": {}
     },
     "10b5a57ba47943c9a22dd26a44ac94de": {
      "model_module": "@jupyter-widgets/controls",
      "model_module_version": "2.0.0",
      "model_name": "FloatProgressModel",
      "state": {
       "bar_style": "success",
       "layout": "IPY_MODEL_ff121fed93934ade8ed1e324b673464c",
       "max": 437,
       "style": "IPY_MODEL_9d45a1342c0247f0a2e0ce65aa6aff34",
       "value": 437
      }
     },
     "10c2c7431b7248d998da6dea90797ee0": {
      "model_module": "@jupyter-widgets/controls",
      "model_module_version": "2.0.0",
      "model_name": "HTMLStyleModel",
      "state": {
       "description_width": "",
       "font_size": null,
       "text_color": null
      }
     },
     "10d0155d28ec40ed8f0c070c94fa9128": {
      "model_module": "@jupyter-widgets/controls",
      "model_module_version": "2.0.0",
      "model_name": "HTMLModel",
      "state": {
       "layout": "IPY_MODEL_44e32edede3b447ca40e42e6ff92d723",
       "style": "IPY_MODEL_fe9c8b491a37499188c3dc4b07723503",
       "value": "100%"
      }
     },
     "10d32fca5de14e778e7e1821faa560d7": {
      "model_module": "@jupyter-widgets/controls",
      "model_module_version": "2.0.0",
      "model_name": "HTMLModel",
      "state": {
       "layout": "IPY_MODEL_0da4196124d94910a69a44163637c5ff",
       "style": "IPY_MODEL_45f08a8e47304f1ba3fc77a8203e6c27",
       "value": "100%"
      }
     },
     "10f2a23923644d8db81ddf3cffd0d90e": {
      "model_module": "@jupyter-widgets/base",
      "model_module_version": "2.0.0",
      "model_name": "LayoutModel",
      "state": {}
     },
     "10f5fdd05ee9407e857c6aadf8a6ed1c": {
      "model_module": "@jupyter-widgets/base",
      "model_module_version": "2.0.0",
      "model_name": "LayoutModel",
      "state": {}
     },
     "11016d5c04114a4a8a214b0066011239": {
      "model_module": "@jupyter-widgets/controls",
      "model_module_version": "2.0.0",
      "model_name": "ProgressStyleModel",
      "state": {
       "description_width": ""
      }
     },
     "1108caa2cba0481a91d9d8edab02cf1d": {
      "model_module": "@jupyter-widgets/controls",
      "model_module_version": "2.0.0",
      "model_name": "ProgressStyleModel",
      "state": {
       "description_width": ""
      }
     },
     "1136dda0726d416eaff79ecfc38340a5": {
      "model_module": "@jupyter-widgets/controls",
      "model_module_version": "2.0.0",
      "model_name": "HTMLModel",
      "state": {
       "layout": "IPY_MODEL_313f8a14d7264fc1a1322f3c3691e4a2",
       "style": "IPY_MODEL_fc7be59ec08c4fa69d6e82d642261919",
       "value": "100%"
      }
     },
     "115d0b7e1f654833a48bf175aef18847": {
      "model_module": "@jupyter-widgets/base",
      "model_module_version": "2.0.0",
      "model_name": "LayoutModel",
      "state": {}
     },
     "11aef9d437b046c6bd7f43018be7b6f7": {
      "model_module": "@jupyter-widgets/controls",
      "model_module_version": "2.0.0",
      "model_name": "HTMLStyleModel",
      "state": {
       "description_width": "",
       "font_size": null,
       "text_color": null
      }
     },
     "11cbe184fddf4a50809809741e74ad9f": {
      "model_module": "@jupyter-widgets/base",
      "model_module_version": "2.0.0",
      "model_name": "LayoutModel",
      "state": {}
     },
     "11d12a271a5642dbbe5569fefb51de4f": {
      "model_module": "@jupyter-widgets/controls",
      "model_module_version": "2.0.0",
      "model_name": "HTMLModel",
      "state": {
       "layout": "IPY_MODEL_9a12786318b5456faa0ca6536f76a937",
       "style": "IPY_MODEL_14e9be74d89a48d2a1cf9c6db2cc6af9",
       "value": "100%"
      }
     },
     "11e0f4ca22184b4394ea326b3fca54fb": {
      "model_module": "@jupyter-widgets/controls",
      "model_module_version": "2.0.0",
      "model_name": "HTMLStyleModel",
      "state": {
       "description_width": "",
       "font_size": null,
       "text_color": null
      }
     },
     "11f4da2ad5a34a629e7dca523af51198": {
      "model_module": "@jupyter-widgets/controls",
      "model_module_version": "2.0.0",
      "model_name": "FloatProgressModel",
      "state": {
       "bar_style": "success",
       "layout": "IPY_MODEL_8b7b720efa054c3f95ab4a78b3c4fded",
       "max": 640,
       "style": "IPY_MODEL_ff36a486f65d4177aa05a006d96fbe22",
       "value": 640
      }
     },
     "1237c523256849cc9aba227204a10eaa": {
      "model_module": "@jupyter-widgets/controls",
      "model_module_version": "2.0.0",
      "model_name": "HTMLModel",
      "state": {
       "layout": "IPY_MODEL_431e257f5f9749ff8d4c0a738dbb1822",
       "style": "IPY_MODEL_a671af9108804d01894e2c5b2b49184e",
       "value": " 620/620 [00:00&lt;00:00, 159157.14it/s]"
      }
     },
     "1259d556c41f47739fe771f0209aad98": {
      "model_module": "@jupyter-widgets/controls",
      "model_module_version": "2.0.0",
      "model_name": "HTMLModel",
      "state": {
       "layout": "IPY_MODEL_80d8d4806c964529ab8cb945cbcdb999",
       "style": "IPY_MODEL_0f4a03dd71db471dbdf39557911bb477",
       "value": " 651/651 [00:42&lt;00:00, 15.57it/s]"
      }
     },
     "126e084701fb4c4290ab9f137b4f2728": {
      "model_module": "@jupyter-widgets/controls",
      "model_module_version": "2.0.0",
      "model_name": "ProgressStyleModel",
      "state": {
       "description_width": ""
      }
     },
     "127c4231e6e94d96b3f6b864b9e6922b": {
      "model_module": "@jupyter-widgets/controls",
      "model_module_version": "2.0.0",
      "model_name": "ProgressStyleModel",
      "state": {
       "description_width": ""
      }
     },
     "1284fc2de5d94d2191048fdb8ad8395d": {
      "model_module": "@jupyter-widgets/controls",
      "model_module_version": "2.0.0",
      "model_name": "FloatProgressModel",
      "state": {
       "bar_style": "success",
       "layout": "IPY_MODEL_16db111e8c6643a0bb1c492d3b7ccf39",
       "max": 797,
       "style": "IPY_MODEL_b23e5ebc6c624ce4949ac0c7affa9ddd",
       "value": 797
      }
     },
     "128da82e52f241f9b68029f2eb4ef241": {
      "model_module": "@jupyter-widgets/base",
      "model_module_version": "2.0.0",
      "model_name": "LayoutModel",
      "state": {}
     },
     "12d96df5be544efda0eb355d492cb990": {
      "model_module": "@jupyter-widgets/controls",
      "model_module_version": "2.0.0",
      "model_name": "FloatProgressModel",
      "state": {
       "bar_style": "success",
       "layout": "IPY_MODEL_e167e472764845c69f1f7e939f005c5c",
       "max": 653,
       "style": "IPY_MODEL_188632ea3dea4bcebd458e5606540480",
       "value": 653
      }
     },
     "12f5c38050424bf6bd9152693a89e63f": {
      "model_module": "@jupyter-widgets/base",
      "model_module_version": "2.0.0",
      "model_name": "LayoutModel",
      "state": {}
     },
     "12fd4ace87af400893472cc65c53d1f0": {
      "model_module": "@jupyter-widgets/controls",
      "model_module_version": "2.0.0",
      "model_name": "HTMLModel",
      "state": {
       "layout": "IPY_MODEL_0e9aa2879f98468a93986bb62c5e1778",
       "style": "IPY_MODEL_534f9907050145dc8b8d9f4404c29acc",
       "value": " 542/542 [00:00&lt;00:00, 151332.23it/s]"
      }
     },
     "13186fc452314148817d846950df07c9": {
      "model_module": "@jupyter-widgets/controls",
      "model_module_version": "2.0.0",
      "model_name": "HTMLModel",
      "state": {
       "layout": "IPY_MODEL_d63dd694e61c4404aa7548c2b44b6cfd",
       "style": "IPY_MODEL_c5400ed13d2a485093138fe1f99da7a1",
       "value": "100%"
      }
     },
     "131e5fa9a89e42bfbd1eab2c4ea47efc": {
      "model_module": "@jupyter-widgets/controls",
      "model_module_version": "2.0.0",
      "model_name": "ProgressStyleModel",
      "state": {
       "description_width": ""
      }
     },
     "135c36a4ec284b14a673a391e201af5f": {
      "model_module": "@jupyter-widgets/base",
      "model_module_version": "2.0.0",
      "model_name": "LayoutModel",
      "state": {}
     },
     "13691ab48dd2467ea6d3e751ce609fe5": {
      "model_module": "@jupyter-widgets/controls",
      "model_module_version": "2.0.0",
      "model_name": "HTMLStyleModel",
      "state": {
       "description_width": "",
       "font_size": null,
       "text_color": null
      }
     },
     "13931d2503aa49d5a10c7696280f3600": {
      "model_module": "@jupyter-widgets/base",
      "model_module_version": "2.0.0",
      "model_name": "LayoutModel",
      "state": {}
     },
     "13a396fac69c46eda235a6a4650a5566": {
      "model_module": "@jupyter-widgets/controls",
      "model_module_version": "2.0.0",
      "model_name": "HTMLModel",
      "state": {
       "layout": "IPY_MODEL_75409c5aba7f418eaddf9259ca53a0cf",
       "style": "IPY_MODEL_9e4a43e1fba84a0282c9aab89c88ab73",
       "value": " 634/634 [00:40&lt;00:00, 15.60it/s]"
      }
     },
     "13ae4d9dff2a4d12853a924ec3438559": {
      "model_module": "@jupyter-widgets/base",
      "model_module_version": "2.0.0",
      "model_name": "LayoutModel",
      "state": {}
     },
     "13b3b8567f2c4077a9c8aa8cfc8ee5c0": {
      "model_module": "@jupyter-widgets/controls",
      "model_module_version": "2.0.0",
      "model_name": "HBoxModel",
      "state": {
       "children": [
        "IPY_MODEL_1ae1a596778d481b8b20780afe820813",
        "IPY_MODEL_9ff33c2060b84b2a890686db722db644",
        "IPY_MODEL_9462ff758dc64f3c8d59d9a9c550e9ba"
       ],
       "layout": "IPY_MODEL_864e78a7f10b4934bbb88f43f3e57476"
      }
     },
     "13be7007dfc24d4aac5a3dce35a7d1c6": {
      "model_module": "@jupyter-widgets/base",
      "model_module_version": "2.0.0",
      "model_name": "LayoutModel",
      "state": {}
     },
     "13d01a817c9148f8804843030df81f47": {
      "model_module": "@jupyter-widgets/base",
      "model_module_version": "2.0.0",
      "model_name": "LayoutModel",
      "state": {}
     },
     "1426c50d1b6644e7913c5d2141dfe869": {
      "model_module": "@jupyter-widgets/base",
      "model_module_version": "2.0.0",
      "model_name": "LayoutModel",
      "state": {}
     },
     "1449acfa9733483093bb857113aa262d": {
      "model_module": "@jupyter-widgets/base",
      "model_module_version": "2.0.0",
      "model_name": "LayoutModel",
      "state": {}
     },
     "144c914075b24f6785c2d8998a499270": {
      "model_module": "@jupyter-widgets/controls",
      "model_module_version": "2.0.0",
      "model_name": "HTMLStyleModel",
      "state": {
       "description_width": "",
       "font_size": null,
       "text_color": null
      }
     },
     "148a03fdbb864456a4c691588865f191": {
      "model_module": "@jupyter-widgets/controls",
      "model_module_version": "2.0.0",
      "model_name": "HTMLModel",
      "state": {
       "layout": "IPY_MODEL_5ad403b9144e4de4906ec105c38daa87",
       "style": "IPY_MODEL_bfa4292f42a745e7bc91bedcf26e1e1b",
       "value": " 418/418 [00:00&lt;00:00, 118022.15it/s]"
      }
     },
     "149d011873f544eea49dd867b6f25738": {
      "model_module": "@jupyter-widgets/controls",
      "model_module_version": "2.0.0",
      "model_name": "HTMLStyleModel",
      "state": {
       "description_width": "",
       "font_size": null,
       "text_color": null
      }
     },
     "14ac45a314b34afe97cb541e4991d97d": {
      "model_module": "@jupyter-widgets/base",
      "model_module_version": "2.0.0",
      "model_name": "LayoutModel",
      "state": {}
     },
     "14e9be74d89a48d2a1cf9c6db2cc6af9": {
      "model_module": "@jupyter-widgets/controls",
      "model_module_version": "2.0.0",
      "model_name": "HTMLStyleModel",
      "state": {
       "description_width": "",
       "font_size": null,
       "text_color": null
      }
     },
     "14eebbb3426b4d509fe3738c4d026e2b": {
      "model_module": "@jupyter-widgets/base",
      "model_module_version": "2.0.0",
      "model_name": "LayoutModel",
      "state": {}
     },
     "14fd81da3ede45f49827b268644e1b19": {
      "model_module": "@jupyter-widgets/base",
      "model_module_version": "2.0.0",
      "model_name": "LayoutModel",
      "state": {}
     },
     "15124e9c1d64435694e040e3316ecc5b": {
      "model_module": "@jupyter-widgets/controls",
      "model_module_version": "2.0.0",
      "model_name": "FloatProgressModel",
      "state": {
       "bar_style": "success",
       "layout": "IPY_MODEL_01d40c73e7af459e880fb158488ed27d",
       "max": 578,
       "style": "IPY_MODEL_840ba1d0e4de4e728735aa67504d3c55",
       "value": 578
      }
     },
     "1543dae859de475b9d6a2e832a5d10bb": {
      "model_module": "@jupyter-widgets/base",
      "model_module_version": "2.0.0",
      "model_name": "LayoutModel",
      "state": {}
     },
     "157235686d7d4337a20ddf618adf9232": {
      "model_module": "@jupyter-widgets/controls",
      "model_module_version": "2.0.0",
      "model_name": "HTMLStyleModel",
      "state": {
       "description_width": "",
       "font_size": null,
       "text_color": null
      }
     },
     "15e79840d3504a5a9db2d0e3ee6adaa4": {
      "model_module": "@jupyter-widgets/controls",
      "model_module_version": "2.0.0",
      "model_name": "HTMLModel",
      "state": {
       "layout": "IPY_MODEL_e7d71d0d197e4024aa3766ae1929606d",
       "style": "IPY_MODEL_c741a012619c49dcbde17e0852e888fd",
       "value": "100%"
      }
     },
     "16254a7308834d74894693b6fde376d8": {
      "model_module": "@jupyter-widgets/base",
      "model_module_version": "2.0.0",
      "model_name": "LayoutModel",
      "state": {}
     },
     "16699ecca0ef4be88b423a0c4636fe00": {
      "model_module": "@jupyter-widgets/base",
      "model_module_version": "2.0.0",
      "model_name": "LayoutModel",
      "state": {}
     },
     "166b8f1ebdd84d5cbb5176d1afe5de34": {
      "model_module": "@jupyter-widgets/base",
      "model_module_version": "2.0.0",
      "model_name": "LayoutModel",
      "state": {}
     },
     "169860b84069488380ae557fb7cf5ed1": {
      "model_module": "@jupyter-widgets/controls",
      "model_module_version": "2.0.0",
      "model_name": "HBoxModel",
      "state": {
       "children": [
        "IPY_MODEL_2ac3290a23eb4427b7230ee0795b33d0",
        "IPY_MODEL_5031124538ec45358f5ed667adb1a5c8",
        "IPY_MODEL_9e585bd744f4418281cbc2f266929af0"
       ],
       "layout": "IPY_MODEL_dc1e252bc59742a08815e90380761a6c"
      }
     },
     "169f9d24782547389b5a7e50939a0655": {
      "model_module": "@jupyter-widgets/controls",
      "model_module_version": "2.0.0",
      "model_name": "HTMLStyleModel",
      "state": {
       "description_width": "",
       "font_size": null,
       "text_color": null
      }
     },
     "16b3e8d0ad554692abd6a2abece7302f": {
      "model_module": "@jupyter-widgets/controls",
      "model_module_version": "2.0.0",
      "model_name": "HTMLStyleModel",
      "state": {
       "description_width": "",
       "font_size": null,
       "text_color": null
      }
     },
     "16bff6622a5b47519f96e98c92697c59": {
      "model_module": "@jupyter-widgets/controls",
      "model_module_version": "2.0.0",
      "model_name": "HTMLStyleModel",
      "state": {
       "description_width": "",
       "font_size": null,
       "text_color": null
      }
     },
     "16db111e8c6643a0bb1c492d3b7ccf39": {
      "model_module": "@jupyter-widgets/base",
      "model_module_version": "2.0.0",
      "model_name": "LayoutModel",
      "state": {}
     },
     "16ee4481621d4b2ab2814a926ec66961": {
      "model_module": "@jupyter-widgets/controls",
      "model_module_version": "2.0.0",
      "model_name": "HBoxModel",
      "state": {
       "children": [
        "IPY_MODEL_9925fbfc3b99433ab668b3e43ee2f069",
        "IPY_MODEL_f73a6a0d91144f828c94962ec79191c4",
        "IPY_MODEL_94e416cf77c34f9a84528d08e334f5b8"
       ],
       "layout": "IPY_MODEL_786153828e134d8b858472da93f6016b"
      }
     },
     "16f44145649341fdb303231188047050": {
      "model_module": "@jupyter-widgets/base",
      "model_module_version": "2.0.0",
      "model_name": "LayoutModel",
      "state": {}
     },
     "170b7b0e39694726ae386422367a8111": {
      "model_module": "@jupyter-widgets/controls",
      "model_module_version": "2.0.0",
      "model_name": "HTMLStyleModel",
      "state": {
       "description_width": "",
       "font_size": null,
       "text_color": null
      }
     },
     "173e279381664b6d9c1d1d28ccd69b76": {
      "model_module": "@jupyter-widgets/controls",
      "model_module_version": "2.0.0",
      "model_name": "FloatProgressModel",
      "state": {
       "bar_style": "success",
       "layout": "IPY_MODEL_4fb334cbbd874c1ba14cc2149a746d94",
       "max": 587,
       "style": "IPY_MODEL_86a95ea3e068470cb2e3ab7e2fb34932",
       "value": 587
      }
     },
     "17727b873b874846ba4fe49ae127bcfc": {
      "model_module": "@jupyter-widgets/controls",
      "model_module_version": "2.0.0",
      "model_name": "FloatProgressModel",
      "state": {
       "bar_style": "danger",
       "layout": "IPY_MODEL_ad16dd7a8d5546a4aa046f2ce771e8fa",
       "max": 582,
       "style": "IPY_MODEL_79534cda34604e02a3dfaa8437306670"
      }
     },
     "1783e3c14ba04ee185c96ac6712c04db": {
      "model_module": "@jupyter-widgets/base",
      "model_module_version": "2.0.0",
      "model_name": "LayoutModel",
      "state": {}
     },
     "178cc22a76cf47df9b5dc0ef2b84c0ba": {
      "model_module": "@jupyter-widgets/base",
      "model_module_version": "2.0.0",
      "model_name": "LayoutModel",
      "state": {}
     },
     "1798885c4ecd4f61974b1c033a25091a": {
      "model_module": "@jupyter-widgets/controls",
      "model_module_version": "2.0.0",
      "model_name": "ProgressStyleModel",
      "state": {
       "description_width": ""
      }
     },
     "17bbe30ba8db47d1bd2cdf16fd9ec2db": {
      "model_module": "@jupyter-widgets/controls",
      "model_module_version": "2.0.0",
      "model_name": "ProgressStyleModel",
      "state": {
       "description_width": ""
      }
     },
     "17edc7b492f94824865007a4528e5916": {
      "model_module": "@jupyter-widgets/controls",
      "model_module_version": "2.0.0",
      "model_name": "HBoxModel",
      "state": {
       "children": [
        "IPY_MODEL_c44ed1c4d0d1414abc711ce9a87c5ab0",
        "IPY_MODEL_3b30234e97c5461284980f47b3c0ed74",
        "IPY_MODEL_636e1d884abd4dd2bef23cdb8be084a7"
       ],
       "layout": "IPY_MODEL_af78ab7c60814f2e866d9bb1d4921b51"
      }
     },
     "17f888c62cea40509b10ff21f4e104d0": {
      "model_module": "@jupyter-widgets/controls",
      "model_module_version": "2.0.0",
      "model_name": "ProgressStyleModel",
      "state": {
       "description_width": ""
      }
     },
     "1839f435c04b4439beaa20fa97a47f17": {
      "model_module": "@jupyter-widgets/controls",
      "model_module_version": "2.0.0",
      "model_name": "HTMLModel",
      "state": {
       "layout": "IPY_MODEL_9624e079e9cc4e368ab2050b185b36f6",
       "style": "IPY_MODEL_bdb2b11b96ba46aa9bc921d10db2cbef",
       "value": " 609/609 [00:00&lt;00:00, 163550.46it/s]"
      }
     },
     "1849497189c945e5a93f11027fd4c105": {
      "model_module": "@jupyter-widgets/controls",
      "model_module_version": "2.0.0",
      "model_name": "ProgressStyleModel",
      "state": {
       "description_width": ""
      }
     },
     "186648c58afd42b18f79ac6702b98310": {
      "model_module": "@jupyter-widgets/controls",
      "model_module_version": "2.0.0",
      "model_name": "HTMLStyleModel",
      "state": {
       "description_width": "",
       "font_size": null,
       "text_color": null
      }
     },
     "188632ea3dea4bcebd458e5606540480": {
      "model_module": "@jupyter-widgets/controls",
      "model_module_version": "2.0.0",
      "model_name": "ProgressStyleModel",
      "state": {
       "description_width": ""
      }
     },
     "1889520f1da14da8926d795d5b933ad6": {
      "model_module": "@jupyter-widgets/controls",
      "model_module_version": "2.0.0",
      "model_name": "HTMLModel",
      "state": {
       "layout": "IPY_MODEL_db7cfeb7b6bb471da1fb44bb1b44df5b",
       "style": "IPY_MODEL_c52b30dc96804aa7965e515acc64d2bd",
       "value": "100%"
      }
     },
     "18a4e1028b7e4883825ab308d27bdfc7": {
      "model_module": "@jupyter-widgets/controls",
      "model_module_version": "2.0.0",
      "model_name": "HTMLModel",
      "state": {
       "layout": "IPY_MODEL_11cbe184fddf4a50809809741e74ad9f",
       "style": "IPY_MODEL_bea58fd534c54722a71d6556a5e8e071",
       "value": "  0%"
      }
     },
     "18c6c95d0fb84220b9c54073867061f8": {
      "model_module": "@jupyter-widgets/base",
      "model_module_version": "2.0.0",
      "model_name": "LayoutModel",
      "state": {}
     },
     "1908fc5f3f18488ba1ce277b38286858": {
      "model_module": "@jupyter-widgets/base",
      "model_module_version": "2.0.0",
      "model_name": "LayoutModel",
      "state": {}
     },
     "191a443204be4385bb999cb29dadcda8": {
      "model_module": "@jupyter-widgets/controls",
      "model_module_version": "2.0.0",
      "model_name": "HTMLModel",
      "state": {
       "layout": "IPY_MODEL_54909908839649beaae2294a5dd1c60f",
       "style": "IPY_MODEL_888af90999c14c3b8f09ebac6864a6a8",
       "value": " 634/634 [00:00&lt;00:00, 177753.26it/s]"
      }
     },
     "191a639a90364eb1b87edecbf4fe165c": {
      "model_module": "@jupyter-widgets/controls",
      "model_module_version": "2.0.0",
      "model_name": "HTMLModel",
      "state": {
       "layout": "IPY_MODEL_08714a0c159f4bf6b1ca80056d970555",
       "style": "IPY_MODEL_24e2662eb74b42678eabb5dd34ec4bdc",
       "value": "100%"
      }
     },
     "1923ff952adf428f9d890c2a253bc5c0": {
      "model_module": "@jupyter-widgets/controls",
      "model_module_version": "2.0.0",
      "model_name": "HBoxModel",
      "state": {
       "children": [
        "IPY_MODEL_cfac8609e39948ea9f33dc6e1ceca090",
        "IPY_MODEL_d04771f5fba3491d940a562a3a92fc23",
        "IPY_MODEL_f0d04f04a3f84ad5a52c0746c6c9e5f0"
       ],
       "layout": "IPY_MODEL_6518e36eafc34908b8554728e5b5de86"
      }
     },
     "194933c83c6143f38e31970530937b73": {
      "model_module": "@jupyter-widgets/controls",
      "model_module_version": "2.0.0",
      "model_name": "HBoxModel",
      "state": {
       "children": [
        "IPY_MODEL_7ee9f3a03ccb409580d271c56d37ea09",
        "IPY_MODEL_e03931d849fd48e29d2eb277d6cf189c",
        "IPY_MODEL_66f760c2b3264658b7733931e8170189"
       ],
       "layout": "IPY_MODEL_8658a28806124201bf37a31276122d15"
      }
     },
     "197a95a87a7f4fd6ac3aec40fd8ee037": {
      "model_module": "@jupyter-widgets/controls",
      "model_module_version": "2.0.0",
      "model_name": "HTMLModel",
      "state": {
       "layout": "IPY_MODEL_05e521b2187849f2be85f2458e1f6219",
       "style": "IPY_MODEL_6151cd3d8b47426b91edfd9a51d487f8",
       "value": "100%"
      }
     },
     "19a427ea194841c298f9aa70dea3f147": {
      "model_module": "@jupyter-widgets/controls",
      "model_module_version": "2.0.0",
      "model_name": "ProgressStyleModel",
      "state": {
       "description_width": ""
      }
     },
     "19aadd8dc58f48f1b97c247d5840dc74": {
      "model_module": "@jupyter-widgets/base",
      "model_module_version": "2.0.0",
      "model_name": "LayoutModel",
      "state": {}
     },
     "19aed6797a2f4699884bb1adbeba90a4": {
      "model_module": "@jupyter-widgets/controls",
      "model_module_version": "2.0.0",
      "model_name": "HBoxModel",
      "state": {
       "children": [
        "IPY_MODEL_2086253092e241179f9ff7add9f40132",
        "IPY_MODEL_37336d9cad904929aff13a010fe0042f",
        "IPY_MODEL_191a443204be4385bb999cb29dadcda8"
       ],
       "layout": "IPY_MODEL_56f3e5b71f5a4eaa956e875e4969e26b"
      }
     },
     "19d7a4b484364adda7be98dde66b09cc": {
      "model_module": "@jupyter-widgets/base",
      "model_module_version": "2.0.0",
      "model_name": "LayoutModel",
      "state": {}
     },
     "19e3bd0336474753b9eb91ad02e93bd5": {
      "model_module": "@jupyter-widgets/base",
      "model_module_version": "2.0.0",
      "model_name": "LayoutModel",
      "state": {}
     },
     "1a06f43a8d0046539a434c419bb593e3": {
      "model_module": "@jupyter-widgets/controls",
      "model_module_version": "2.0.0",
      "model_name": "HTMLStyleModel",
      "state": {
       "description_width": "",
       "font_size": null,
       "text_color": null
      }
     },
     "1a245578f8fe4133be5943e73b3abc73": {
      "model_module": "@jupyter-widgets/base",
      "model_module_version": "2.0.0",
      "model_name": "LayoutModel",
      "state": {}
     },
     "1a43ad0f9299416cae64ed58eab6f115": {
      "model_module": "@jupyter-widgets/base",
      "model_module_version": "2.0.0",
      "model_name": "LayoutModel",
      "state": {}
     },
     "1a6b69d110e248f99274134b6e30b337": {
      "model_module": "@jupyter-widgets/controls",
      "model_module_version": "2.0.0",
      "model_name": "FloatProgressModel",
      "state": {
       "bar_style": "success",
       "layout": "IPY_MODEL_f4cd4b26291946dfb536be45a1743bbd",
       "max": 418,
       "style": "IPY_MODEL_3631afa1364a44bc8805b809ecececd2",
       "value": 418
      }
     },
     "1a8a3149ff4f4c7797b366cab2419e19": {
      "model_module": "@jupyter-widgets/controls",
      "model_module_version": "2.0.0",
      "model_name": "HBoxModel",
      "state": {
       "children": [
        "IPY_MODEL_a1ef5cf63c2f4d6381652ff0e7087c70",
        "IPY_MODEL_9537069da7bb4d538e103b12c080670e",
        "IPY_MODEL_665660578b534e95a064c113d674d078"
       ],
       "layout": "IPY_MODEL_ec2c2531e08147bcbede53eaf3c609ae"
      }
     },
     "1ab162eb426f47c390b19d30dd156c08": {
      "model_module": "@jupyter-widgets/base",
      "model_module_version": "2.0.0",
      "model_name": "LayoutModel",
      "state": {}
     },
     "1ab21621d4c14894aeb520e28fb0cc7c": {
      "model_module": "@jupyter-widgets/base",
      "model_module_version": "2.0.0",
      "model_name": "LayoutModel",
      "state": {}
     },
     "1abe8f3089954547af62d929e97d55fa": {
      "model_module": "@jupyter-widgets/controls",
      "model_module_version": "2.0.0",
      "model_name": "HBoxModel",
      "state": {
       "children": [
        "IPY_MODEL_45a4b9a77fe846b7a3e10d6bdf107b99",
        "IPY_MODEL_7c6ccd52269f4cd098d5e7e689b8854a",
        "IPY_MODEL_2ae3c0678fa64bc8b85a6b7437db97cc"
       ],
       "layout": "IPY_MODEL_3758ff9e44234ff5a3b157c15057a8d3"
      }
     },
     "1ae1a596778d481b8b20780afe820813": {
      "model_module": "@jupyter-widgets/controls",
      "model_module_version": "2.0.0",
      "model_name": "HTMLModel",
      "state": {
       "layout": "IPY_MODEL_85a5d6c6af2744dab4031c58aecbf7c8",
       "style": "IPY_MODEL_2df5d8da5adb42fcbaf55368488a87f1",
       "value": "100%"
      }
     },
     "1af148d2201a482f8387c26d2a945c05": {
      "model_module": "@jupyter-widgets/base",
      "model_module_version": "2.0.0",
      "model_name": "LayoutModel",
      "state": {}
     },
     "1b016cc23d3340a5be43b82001c924be": {
      "model_module": "@jupyter-widgets/base",
      "model_module_version": "2.0.0",
      "model_name": "LayoutModel",
      "state": {}
     },
     "1b10e2bf14fb41329afe79e7a268eef8": {
      "model_module": "@jupyter-widgets/controls",
      "model_module_version": "2.0.0",
      "model_name": "HTMLStyleModel",
      "state": {
       "description_width": "",
       "font_size": null,
       "text_color": null
      }
     },
     "1b5227c2328a4eb0bfd7a13875a67a33": {
      "model_module": "@jupyter-widgets/base",
      "model_module_version": "2.0.0",
      "model_name": "LayoutModel",
      "state": {}
     },
     "1b8a55dab2a84a5c9a20e18bd7b354bd": {
      "model_module": "@jupyter-widgets/controls",
      "model_module_version": "2.0.0",
      "model_name": "HTMLStyleModel",
      "state": {
       "description_width": "",
       "font_size": null,
       "text_color": null
      }
     },
     "1b93fac2cbd645f89d9b4330fff00995": {
      "model_module": "@jupyter-widgets/controls",
      "model_module_version": "2.0.0",
      "model_name": "HTMLModel",
      "state": {
       "layout": "IPY_MODEL_6846f7e576ed414785ac18cab4d7ba7b",
       "style": "IPY_MODEL_1a06f43a8d0046539a434c419bb593e3",
       "value": " 0/582 [00:00&lt;?, ?it/s]"
      }
     },
     "1bc460d47af6457597b779c9f4d4d3a2": {
      "model_module": "@jupyter-widgets/controls",
      "model_module_version": "2.0.0",
      "model_name": "ProgressStyleModel",
      "state": {
       "description_width": ""
      }
     },
     "1bc8a83e744a4bc4916aaffb37f6678d": {
      "model_module": "@jupyter-widgets/controls",
      "model_module_version": "2.0.0",
      "model_name": "HTMLStyleModel",
      "state": {
       "description_width": "",
       "font_size": null,
       "text_color": null
      }
     },
     "1be04bd0d5874e72843bb5a43db4d003": {
      "model_module": "@jupyter-widgets/base",
      "model_module_version": "2.0.0",
      "model_name": "LayoutModel",
      "state": {}
     },
     "1be0fde5ebb64db49f58783bef676feb": {
      "model_module": "@jupyter-widgets/controls",
      "model_module_version": "2.0.0",
      "model_name": "HTMLModel",
      "state": {
       "layout": "IPY_MODEL_6181ff3d55af46fb996638af106a3ac8",
       "style": "IPY_MODEL_bab5ea1cc98a4e23aaf3108a1fde0253",
       "value": " 0/582 [00:00&lt;?, ?it/s]"
      }
     },
     "1c45257b9b8340679df54b5b7a2a5a1e": {
      "model_module": "@jupyter-widgets/base",
      "model_module_version": "2.0.0",
      "model_name": "LayoutModel",
      "state": {}
     },
     "1c4ac5d919a949b59b63f5cf7f6da677": {
      "model_module": "@jupyter-widgets/controls",
      "model_module_version": "2.0.0",
      "model_name": "HTMLStyleModel",
      "state": {
       "description_width": "",
       "font_size": null,
       "text_color": null
      }
     },
     "1c57d5fcb7164758a4d50170932cd0b0": {
      "model_module": "@jupyter-widgets/base",
      "model_module_version": "2.0.0",
      "model_name": "LayoutModel",
      "state": {}
     },
     "1c6da25a6228498aa14d119b5a5f094f": {
      "model_module": "@jupyter-widgets/controls",
      "model_module_version": "2.0.0",
      "model_name": "HTMLModel",
      "state": {
       "layout": "IPY_MODEL_7c75254bf4054b688e8ce5bdc020af86",
       "style": "IPY_MODEL_ce6129ffca3243f3a35f4c71ef843677",
       "value": " 642/642 [00:00&lt;00:00, 177340.83it/s]"
      }
     },
     "1c8e0e9af56d4a0f83155a4253882f32": {
      "model_module": "@jupyter-widgets/base",
      "model_module_version": "2.0.0",
      "model_name": "LayoutModel",
      "state": {}
     },
     "1ccdd94012c44d69b3aced0dbc5bc229": {
      "model_module": "@jupyter-widgets/controls",
      "model_module_version": "2.0.0",
      "model_name": "HTMLStyleModel",
      "state": {
       "description_width": "",
       "font_size": null,
       "text_color": null
      }
     },
     "1d0f7fb18dbd4349aa05a48e435850f9": {
      "model_module": "@jupyter-widgets/controls",
      "model_module_version": "2.0.0",
      "model_name": "HTMLStyleModel",
      "state": {
       "description_width": "",
       "font_size": null,
       "text_color": null
      }
     },
     "1d1e4a2bc8a24001adc5ad254f1b3ac6": {
      "model_module": "@jupyter-widgets/controls",
      "model_module_version": "2.0.0",
      "model_name": "HTMLStyleModel",
      "state": {
       "description_width": "",
       "font_size": null,
       "text_color": null
      }
     },
     "1d5ed5324d4c401ca9479f06587a593b": {
      "model_module": "@jupyter-widgets/controls",
      "model_module_version": "2.0.0",
      "model_name": "HBoxModel",
      "state": {
       "children": [
        "IPY_MODEL_60d4747ecd4b450c94dc21a9fe7f2a7a",
        "IPY_MODEL_66db841a6233418b8e386567473f0c11",
        "IPY_MODEL_4aebc549e3c347a5af5637c655fa9e01"
       ],
       "layout": "IPY_MODEL_01980249431448d9a0e55dd4fdb1054a"
      }
     },
     "1daaa4b515b04b93ba76026df1b8c810": {
      "model_module": "@jupyter-widgets/base",
      "model_module_version": "2.0.0",
      "model_name": "LayoutModel",
      "state": {}
     },
     "1db197690959410fab86630b46a3dfee": {
      "model_module": "@jupyter-widgets/controls",
      "model_module_version": "2.0.0",
      "model_name": "ProgressStyleModel",
      "state": {
       "description_width": ""
      }
     },
     "1e3a8fc07c074ae6b8cbb1263d939318": {
      "model_module": "@jupyter-widgets/controls",
      "model_module_version": "2.0.0",
      "model_name": "HTMLStyleModel",
      "state": {
       "description_width": "",
       "font_size": null,
       "text_color": null
      }
     },
     "1e44f3ee50aa41b78c744c63e5acad89": {
      "model_module": "@jupyter-widgets/controls",
      "model_module_version": "2.0.0",
      "model_name": "HTMLModel",
      "state": {
       "layout": "IPY_MODEL_6365ff85929f453b8912a1aa1b9b0dd8",
       "style": "IPY_MODEL_dbdeb8d636904a11ba06f06369faf886",
       "value": "100%"
      }
     },
     "1e47c14ac2db4e75b55972191d805357": {
      "model_module": "@jupyter-widgets/base",
      "model_module_version": "2.0.0",
      "model_name": "LayoutModel",
      "state": {}
     },
     "1e7799b939794d46ba41fa679a31855d": {
      "model_module": "@jupyter-widgets/base",
      "model_module_version": "2.0.0",
      "model_name": "LayoutModel",
      "state": {}
     },
     "1ea47bf5ddf0416f8684aeebff62fa21": {
      "model_module": "@jupyter-widgets/controls",
      "model_module_version": "2.0.0",
      "model_name": "HTMLStyleModel",
      "state": {
       "description_width": "",
       "font_size": null,
       "text_color": null
      }
     },
     "1ebe6dc143184f6cb78fe7431bff65f7": {
      "model_module": "@jupyter-widgets/base",
      "model_module_version": "2.0.0",
      "model_name": "LayoutModel",
      "state": {}
     },
     "1ef811c5aca54a87b252fa7f2a762841": {
      "model_module": "@jupyter-widgets/controls",
      "model_module_version": "2.0.0",
      "model_name": "HTMLStyleModel",
      "state": {
       "description_width": "",
       "font_size": null,
       "text_color": null
      }
     },
     "1f0258891b5d44e49876769f8f9568cb": {
      "model_module": "@jupyter-widgets/controls",
      "model_module_version": "2.0.0",
      "model_name": "ProgressStyleModel",
      "state": {
       "description_width": ""
      }
     },
     "1f2e428d77cf4841a0fb79f797b7e3e6": {
      "model_module": "@jupyter-widgets/controls",
      "model_module_version": "2.0.0",
      "model_name": "HTMLStyleModel",
      "state": {
       "description_width": "",
       "font_size": null,
       "text_color": null
      }
     },
     "1f35c6b443b542f1a28f23e7a59cde07": {
      "model_module": "@jupyter-widgets/controls",
      "model_module_version": "2.0.0",
      "model_name": "ProgressStyleModel",
      "state": {
       "description_width": ""
      }
     },
     "1f40882fb4014dcda30563557843900b": {
      "model_module": "@jupyter-widgets/base",
      "model_module_version": "2.0.0",
      "model_name": "LayoutModel",
      "state": {}
     },
     "1f49df1224b64134aab2f15c16ce6a84": {
      "model_module": "@jupyter-widgets/controls",
      "model_module_version": "2.0.0",
      "model_name": "HTMLModel",
      "state": {
       "layout": "IPY_MODEL_e58e2d51440f4c08a4623a5d6ccd8b7f",
       "style": "IPY_MODEL_22ac7c43ce2b475688b85c1deee9cde2",
       "value": " 0/582 [00:00&lt;?, ?it/s]"
      }
     },
     "1f52360c586b4313a7c4ee59c2e45a7a": {
      "model_module": "@jupyter-widgets/controls",
      "model_module_version": "2.0.0",
      "model_name": "HTMLModel",
      "state": {
       "layout": "IPY_MODEL_642d84af2bb549168196d9571cc3493d",
       "style": "IPY_MODEL_244eb441846348cc9d7a5cbd1ae26988",
       "value": "  0%"
      }
     },
     "1f8dff9519b649a4a9dcbcda0a8cb52f": {
      "model_module": "@jupyter-widgets/controls",
      "model_module_version": "2.0.0",
      "model_name": "FloatProgressModel",
      "state": {
       "bar_style": "success",
       "layout": "IPY_MODEL_614f4cdaeec54cc9aef375a98c151a2d",
       "max": 716,
       "style": "IPY_MODEL_80ca8a7f21df4c4ab2f6e9a1a259f91d",
       "value": 716
      }
     },
     "1f91b8edca344f589db25f909e5ecfe9": {
      "model_module": "@jupyter-widgets/base",
      "model_module_version": "2.0.0",
      "model_name": "LayoutModel",
      "state": {}
     },
     "1f9604d1603f4cb7a5910a93d3e6481b": {
      "model_module": "@jupyter-widgets/base",
      "model_module_version": "2.0.0",
      "model_name": "LayoutModel",
      "state": {}
     },
     "1fb9ae13acfb4f0082e66fb1616d826b": {
      "model_module": "@jupyter-widgets/controls",
      "model_module_version": "2.0.0",
      "model_name": "HTMLModel",
      "state": {
       "layout": "IPY_MODEL_fa2642523833400e83b980774a08b804",
       "style": "IPY_MODEL_ffc6a525824244e1ae017178280075ea",
       "value": " 588/588 [00:00&lt;00:00, 164110.38it/s]"
      }
     },
     "1fd1371ea57543c0be3a089538cef5e4": {
      "model_module": "@jupyter-widgets/controls",
      "model_module_version": "2.0.0",
      "model_name": "ProgressStyleModel",
      "state": {
       "description_width": ""
      }
     },
     "1fd19557438b406d8db4e5277f04fec7": {
      "model_module": "@jupyter-widgets/base",
      "model_module_version": "2.0.0",
      "model_name": "LayoutModel",
      "state": {}
     },
     "1fde17e07092481f9b53ff48cea3750e": {
      "model_module": "@jupyter-widgets/controls",
      "model_module_version": "2.0.0",
      "model_name": "HBoxModel",
      "state": {
       "children": [
        "IPY_MODEL_f91fc5acf19b469ea3eb785c70f2fd61",
        "IPY_MODEL_c1b240409d874a69bad588931d8ddfba",
        "IPY_MODEL_89f3544b85514a4c956cf09a95044ddf"
       ],
       "layout": "IPY_MODEL_b0f04d7623074c1381f9ab6f01150cc4"
      }
     },
     "202e17999ea148e6b49189b7f44cb6ea": {
      "model_module": "@jupyter-widgets/controls",
      "model_module_version": "2.0.0",
      "model_name": "HTMLModel",
      "state": {
       "layout": "IPY_MODEL_6eaeadd60cfa41808256154c6cec1db3",
       "style": "IPY_MODEL_a453a16ef55c4ea385076dd3ad0773c6",
       "value": " 651/651 [00:00&lt;00:00, 181211.30it/s]"
      }
     },
     "2055775de8ff41b5a472fe4fc2dcbc8b": {
      "model_module": "@jupyter-widgets/base",
      "model_module_version": "2.0.0",
      "model_name": "LayoutModel",
      "state": {}
     },
     "205f87bfaa3f4042a95a15bdf2db7ced": {
      "model_module": "@jupyter-widgets/controls",
      "model_module_version": "2.0.0",
      "model_name": "ProgressStyleModel",
      "state": {
       "description_width": ""
      }
     },
     "206d113eda1147199863af07d4e60a6a": {
      "model_module": "@jupyter-widgets/controls",
      "model_module_version": "2.0.0",
      "model_name": "HTMLStyleModel",
      "state": {
       "description_width": "",
       "font_size": null,
       "text_color": null
      }
     },
     "2086253092e241179f9ff7add9f40132": {
      "model_module": "@jupyter-widgets/controls",
      "model_module_version": "2.0.0",
      "model_name": "HTMLModel",
      "state": {
       "layout": "IPY_MODEL_5ce536abf970419494659ad59174a9c8",
       "style": "IPY_MODEL_974c16b605e8446e9f23fd434aa82f91",
       "value": "100%"
      }
     },
     "20884712b05349799a286117051d3823": {
      "model_module": "@jupyter-widgets/controls",
      "model_module_version": "2.0.0",
      "model_name": "HTMLModel",
      "state": {
       "layout": "IPY_MODEL_2f1ca282b79e4830aa8cabe7011c40b1",
       "style": "IPY_MODEL_587ca4d45a56459c97b54b37212ca0c2",
       "value": "100%"
      }
     },
     "20c8b140f4d8407d9d18b9df2644ccd6": {
      "model_module": "@jupyter-widgets/base",
      "model_module_version": "2.0.0",
      "model_name": "LayoutModel",
      "state": {}
     },
     "20d75a76d0704291b5cf9c000852b9e8": {
      "model_module": "@jupyter-widgets/controls",
      "model_module_version": "2.0.0",
      "model_name": "FloatProgressModel",
      "state": {
       "bar_style": "success",
       "layout": "IPY_MODEL_de85d78e64664e63a0f32395a6f84572",
       "max": 118,
       "style": "IPY_MODEL_c043449dda9f4d328f49709059dd6aa3",
       "value": 118
      }
     },
     "2100da88fd624030a0154eda2417a200": {
      "model_module": "@jupyter-widgets/controls",
      "model_module_version": "2.0.0",
      "model_name": "HBoxModel",
      "state": {
       "children": [
        "IPY_MODEL_4e56b1fc8fbc411895498763be0b8cb1",
        "IPY_MODEL_8f16ed2a63b64a8db9d95dc3b59b160d",
        "IPY_MODEL_ed2b7a04755a478c9860d9c139bb3738"
       ],
       "layout": "IPY_MODEL_cc258a2183ee44faaee413fc12d5e287"
      }
     },
     "2101f1c1be3b4004b7fa0718a1a06c92": {
      "model_module": "@jupyter-widgets/controls",
      "model_module_version": "2.0.0",
      "model_name": "HTMLStyleModel",
      "state": {
       "description_width": "",
       "font_size": null,
       "text_color": null
      }
     },
     "21212a1a4c3349f5b54343ced482e97f": {
      "model_module": "@jupyter-widgets/base",
      "model_module_version": "2.0.0",
      "model_name": "LayoutModel",
      "state": {}
     },
     "21654ad00d9c4691b5a2d5280aa3c0fc": {
      "model_module": "@jupyter-widgets/controls",
      "model_module_version": "2.0.0",
      "model_name": "HTMLModel",
      "state": {
       "layout": "IPY_MODEL_77a212e6859a4086ae0883aaf0e3c430",
       "style": "IPY_MODEL_e7c15284dc31489dad39b1c0e84968c6",
       "value": "100%"
      }
     },
     "2170a1aee650433aa50ac3c04dea7950": {
      "model_module": "@jupyter-widgets/controls",
      "model_module_version": "2.0.0",
      "model_name": "HTMLModel",
      "state": {
       "layout": "IPY_MODEL_0f33e43699bd49959dd209d55c73f2f9",
       "style": "IPY_MODEL_b1c608d4779943279212311fb0f8a739",
       "value": "  0%"
      }
     },
     "218379e005014e0082c25e930af22e98": {
      "model_module": "@jupyter-widgets/controls",
      "model_module_version": "2.0.0",
      "model_name": "HTMLStyleModel",
      "state": {
       "description_width": "",
       "font_size": null,
       "text_color": null
      }
     },
     "219f40b1d6ed4aa8973d345372f9e182": {
      "model_module": "@jupyter-widgets/controls",
      "model_module_version": "2.0.0",
      "model_name": "HTMLModel",
      "state": {
       "layout": "IPY_MODEL_69d1e49a7a4d4eb5959c034bac1d7e5d",
       "style": "IPY_MODEL_c1ad1af549a04c55891ba74e68a7a63c",
       "value": "100%"
      }
     },
     "21aae938c97142b0848ba2ddb0a1b86d": {
      "model_module": "@jupyter-widgets/controls",
      "model_module_version": "2.0.0",
      "model_name": "FloatProgressModel",
      "state": {
       "bar_style": "success",
       "layout": "IPY_MODEL_497c9989ad624c2ea89255d938e6cea1",
       "max": 631,
       "style": "IPY_MODEL_97a1649d78324c2da99eea89e846a9d0",
       "value": 631
      }
     },
     "21ad00287df245c4bca6e4f529ba9d75": {
      "model_module": "@jupyter-widgets/controls",
      "model_module_version": "2.0.0",
      "model_name": "ProgressStyleModel",
      "state": {
       "description_width": ""
      }
     },
     "21bcf9c145c54dc5925fc3612489b71f": {
      "model_module": "@jupyter-widgets/base",
      "model_module_version": "2.0.0",
      "model_name": "LayoutModel",
      "state": {}
     },
     "21c7cc4574b74ce4a910e79f6e4f5f25": {
      "model_module": "@jupyter-widgets/base",
      "model_module_version": "2.0.0",
      "model_name": "LayoutModel",
      "state": {}
     },
     "21f9a969ae7b40a7b995de523a5a4a9f": {
      "model_module": "@jupyter-widgets/controls",
      "model_module_version": "2.0.0",
      "model_name": "FloatProgressModel",
      "state": {
       "bar_style": "success",
       "layout": "IPY_MODEL_4b718c06c0d14a6bb41879dea3df6bac",
       "max": 401,
       "style": "IPY_MODEL_c380c7e146cb499692b8d6510b60e947",
       "value": 401
      }
     },
     "21fb7fa993a447d48f81924114b6e75f": {
      "model_module": "@jupyter-widgets/controls",
      "model_module_version": "2.0.0",
      "model_name": "HTMLModel",
      "state": {
       "layout": "IPY_MODEL_2e41727c52094374abe85da5acebdb63",
       "style": "IPY_MODEL_b58d104efab1434ea81b5f733ee15462",
       "value": "  0%"
      }
     },
     "2210fd8038384aa6888b45285c474e47": {
      "model_module": "@jupyter-widgets/controls",
      "model_module_version": "2.0.0",
      "model_name": "HBoxModel",
      "state": {
       "children": [
        "IPY_MODEL_da8a0e263abc4f3abbe4ea392d441351",
        "IPY_MODEL_43f4eae17739418ab70534b225eb953f",
        "IPY_MODEL_57ab3a6c304e469b9475090763b27b09"
       ],
       "layout": "IPY_MODEL_62bbc6f3457e4929bc6ac5231a630cc6"
      }
     },
     "221e07cbd4674ecd8df0e9550bd4d895": {
      "model_module": "@jupyter-widgets/controls",
      "model_module_version": "2.0.0",
      "model_name": "ProgressStyleModel",
      "state": {
       "description_width": ""
      }
     },
     "224cf17807cd4430a2a27db1cd30467c": {
      "model_module": "@jupyter-widgets/controls",
      "model_module_version": "2.0.0",
      "model_name": "HTMLStyleModel",
      "state": {
       "description_width": "",
       "font_size": null,
       "text_color": null
      }
     },
     "2298347f6e6a4527a2be259788d97d38": {
      "model_module": "@jupyter-widgets/controls",
      "model_module_version": "2.0.0",
      "model_name": "HTMLModel",
      "state": {
       "layout": "IPY_MODEL_d81cb166abc246aeae7f4fd18b3cfc76",
       "style": "IPY_MODEL_af07d28190fe4d7ea54315e8256fe19f",
       "value": " 492/492 [00:32&lt;00:00, 15.44it/s]"
      }
     },
     "22a321aaba604c00a6c5159c3cad0f2a": {
      "model_module": "@jupyter-widgets/controls",
      "model_module_version": "2.0.0",
      "model_name": "HTMLModel",
      "state": {
       "layout": "IPY_MODEL_14ac45a314b34afe97cb541e4991d97d",
       "style": "IPY_MODEL_23d99a1f334342db90fea97940336ef4",
       "value": "100%"
      }
     },
     "22ac7c43ce2b475688b85c1deee9cde2": {
      "model_module": "@jupyter-widgets/controls",
      "model_module_version": "2.0.0",
      "model_name": "HTMLStyleModel",
      "state": {
       "description_width": "",
       "font_size": null,
       "text_color": null
      }
     },
     "22cb73d70d5b4fb696f361869e9ef980": {
      "model_module": "@jupyter-widgets/base",
      "model_module_version": "2.0.0",
      "model_name": "LayoutModel",
      "state": {}
     },
     "22d2e30b42c14582866dedc4dbd64a23": {
      "model_module": "@jupyter-widgets/controls",
      "model_module_version": "2.0.0",
      "model_name": "FloatProgressModel",
      "state": {
       "bar_style": "success",
       "layout": "IPY_MODEL_5664e54708a844cfbab0b346af56b614",
       "max": 480,
       "style": "IPY_MODEL_cb6f1ab33c3b47d1802e52414c4a3799",
       "value": 480
      }
     },
     "22f9a4520e1f4475bc596b9d31e7ea88": {
      "model_module": "@jupyter-widgets/controls",
      "model_module_version": "2.0.0",
      "model_name": "ProgressStyleModel",
      "state": {
       "description_width": ""
      }
     },
     "23620aaeb214473ab7e6b6f03dadaff7": {
      "model_module": "@jupyter-widgets/controls",
      "model_module_version": "2.0.0",
      "model_name": "FloatProgressModel",
      "state": {
       "bar_style": "success",
       "layout": "IPY_MODEL_4df5180aaf6a401cbe5c923ba2625a22",
       "max": 650,
       "style": "IPY_MODEL_002bee97bc014899ad12d42defc7c222",
       "value": 650
      }
     },
     "238d1ac68bcb4dc5a4aebb36c8140f56": {
      "model_module": "@jupyter-widgets/controls",
      "model_module_version": "2.0.0",
      "model_name": "HTMLModel",
      "state": {
       "layout": "IPY_MODEL_d1c9d917c8d64d589384e5067a85ad4d",
       "style": "IPY_MODEL_6a01e0216fb34bb9824e609f76fb6a32",
       "value": "100%"
      }
     },
     "23d99a1f334342db90fea97940336ef4": {
      "model_module": "@jupyter-widgets/controls",
      "model_module_version": "2.0.0",
      "model_name": "HTMLStyleModel",
      "state": {
       "description_width": "",
       "font_size": null,
       "text_color": null
      }
     },
     "241240761c304f789e27c17246e57865": {
      "model_module": "@jupyter-widgets/base",
      "model_module_version": "2.0.0",
      "model_name": "LayoutModel",
      "state": {}
     },
     "241517aa5aac4188bdc8841575eb3b31": {
      "model_module": "@jupyter-widgets/controls",
      "model_module_version": "2.0.0",
      "model_name": "HTMLModel",
      "state": {
       "layout": "IPY_MODEL_135c36a4ec284b14a673a391e201af5f",
       "style": "IPY_MODEL_0a7286d8879f46c99fe49be1a875a0d8",
       "value": " 541/541 [00:00&lt;00:00, 140302.88it/s]"
      }
     },
     "2445be9f8d824f8a960a2380a50ed5ad": {
      "model_module": "@jupyter-widgets/controls",
      "model_module_version": "2.0.0",
      "model_name": "HBoxModel",
      "state": {
       "children": [
        "IPY_MODEL_28c97b2358fe4a58865ca058decd050c",
        "IPY_MODEL_81f1c03f05a5452d957d1340523a2cac",
        "IPY_MODEL_a145b60a45874ac580413220c81b2e17"
       ],
       "layout": "IPY_MODEL_c75e65e8910144a8af47fdd7c5293391"
      }
     },
     "244b8dc06e1643bbbab03c6d69868f38": {
      "model_module": "@jupyter-widgets/base",
      "model_module_version": "2.0.0",
      "model_name": "LayoutModel",
      "state": {}
     },
     "244eb441846348cc9d7a5cbd1ae26988": {
      "model_module": "@jupyter-widgets/controls",
      "model_module_version": "2.0.0",
      "model_name": "HTMLStyleModel",
      "state": {
       "description_width": "",
       "font_size": null,
       "text_color": null
      }
     },
     "244f28c685ed43f38d291e79226abaf6": {
      "model_module": "@jupyter-widgets/base",
      "model_module_version": "2.0.0",
      "model_name": "LayoutModel",
      "state": {}
     },
     "2451f331e3914b3b96c1a076a26a6427": {
      "model_module": "@jupyter-widgets/base",
      "model_module_version": "2.0.0",
      "model_name": "LayoutModel",
      "state": {}
     },
     "245a9754e2ac4451828de96fd21dd71e": {
      "model_module": "@jupyter-widgets/base",
      "model_module_version": "2.0.0",
      "model_name": "LayoutModel",
      "state": {}
     },
     "245c85ec3e084c0f8027b0c2d9a5f1d8": {
      "model_module": "@jupyter-widgets/controls",
      "model_module_version": "2.0.0",
      "model_name": "HTMLStyleModel",
      "state": {
       "description_width": "",
       "font_size": null,
       "text_color": null
      }
     },
     "24629965dc7141aeaa000f0b63f0b3ed": {
      "model_module": "@jupyter-widgets/controls",
      "model_module_version": "2.0.0",
      "model_name": "FloatProgressModel",
      "state": {
       "bar_style": "danger",
       "layout": "IPY_MODEL_8404ad33bb9940f49ed5496ce0e88f90",
       "max": 582,
       "style": "IPY_MODEL_f25b0874270149218cd71056f026d3aa"
      }
     },
     "2480f5619ce447a8b7751f5f6a1f4583": {
      "model_module": "@jupyter-widgets/base",
      "model_module_version": "2.0.0",
      "model_name": "LayoutModel",
      "state": {}
     },
     "249c4a922158421eb98aa1bebc61091e": {
      "model_module": "@jupyter-widgets/base",
      "model_module_version": "2.0.0",
      "model_name": "LayoutModel",
      "state": {}
     },
     "24e2662eb74b42678eabb5dd34ec4bdc": {
      "model_module": "@jupyter-widgets/controls",
      "model_module_version": "2.0.0",
      "model_name": "HTMLStyleModel",
      "state": {
       "description_width": "",
       "font_size": null,
       "text_color": null
      }
     },
     "2500ac28f85043ab88573c3e44b0d60c": {
      "model_module": "@jupyter-widgets/controls",
      "model_module_version": "2.0.0",
      "model_name": "ProgressStyleModel",
      "state": {
       "description_width": ""
      }
     },
     "2528de8f11e64e029f80060c945fa9d4": {
      "model_module": "@jupyter-widgets/base",
      "model_module_version": "2.0.0",
      "model_name": "LayoutModel",
      "state": {}
     },
     "2533aabba07c4d1293f0ba3a7e6db0f2": {
      "model_module": "@jupyter-widgets/base",
      "model_module_version": "2.0.0",
      "model_name": "LayoutModel",
      "state": {}
     },
     "2538d9ce1d804c7880a110798fb8fb3d": {
      "model_module": "@jupyter-widgets/controls",
      "model_module_version": "2.0.0",
      "model_name": "HTMLStyleModel",
      "state": {
       "description_width": "",
       "font_size": null,
       "text_color": null
      }
     },
     "25399d2dae854f5da4717407aaad2a97": {
      "model_module": "@jupyter-widgets/controls",
      "model_module_version": "2.0.0",
      "model_name": "HTMLStyleModel",
      "state": {
       "description_width": "",
       "font_size": null,
       "text_color": null
      }
     },
     "257098dcb5ce45c693dded5cf3e832b9": {
      "model_module": "@jupyter-widgets/controls",
      "model_module_version": "2.0.0",
      "model_name": "HBoxModel",
      "state": {
       "children": [
        "IPY_MODEL_bd069c86cc58497cb2b40432314f24c3",
        "IPY_MODEL_a19c96432f0e4410a6215be225cc3678",
        "IPY_MODEL_8f51a705b2ed4c9faa543bb9c92f9905"
       ],
       "layout": "IPY_MODEL_35804088638f409083d05f4e708f47dc"
      }
     },
     "257e0fbe9d9b4ec4875725c37fc0e0ac": {
      "model_module": "@jupyter-widgets/base",
      "model_module_version": "2.0.0",
      "model_name": "LayoutModel",
      "state": {}
     },
     "258e4a87aab7425ea0d4465f6c555f37": {
      "model_module": "@jupyter-widgets/controls",
      "model_module_version": "2.0.0",
      "model_name": "HTMLModel",
      "state": {
       "layout": "IPY_MODEL_b3c8a981044a494baf4b12a2d689852f",
       "style": "IPY_MODEL_1b8a55dab2a84a5c9a20e18bd7b354bd",
       "value": "  0%"
      }
     },
     "259143a5c0434e1caec2babc6bc4ef03": {
      "model_module": "@jupyter-widgets/base",
      "model_module_version": "2.0.0",
      "model_name": "LayoutModel",
      "state": {}
     },
     "25f5e706da334b1fafca8e5f0efa8a08": {
      "model_module": "@jupyter-widgets/controls",
      "model_module_version": "2.0.0",
      "model_name": "FloatProgressModel",
      "state": {
       "bar_style": "success",
       "layout": "IPY_MODEL_bc0877a271b34cc7bfa86d4762adccc0",
       "max": 601,
       "style": "IPY_MODEL_a67df1e74f634ca79bb50c4a95da9302",
       "value": 601
      }
     },
     "2619b6e079394370a5dd8fcaa424908e": {
      "model_module": "@jupyter-widgets/base",
      "model_module_version": "2.0.0",
      "model_name": "LayoutModel",
      "state": {}
     },
     "262b2ffa59ff4df083ef0451876c5738": {
      "model_module": "@jupyter-widgets/base",
      "model_module_version": "2.0.0",
      "model_name": "LayoutModel",
      "state": {}
     },
     "2631fce7950943af95be9ae7f30ec588": {
      "model_module": "@jupyter-widgets/base",
      "model_module_version": "2.0.0",
      "model_name": "LayoutModel",
      "state": {}
     },
     "263d9eb9e10a47119d760236c3c59c7b": {
      "model_module": "@jupyter-widgets/controls",
      "model_module_version": "2.0.0",
      "model_name": "FloatProgressModel",
      "state": {
       "bar_style": "danger",
       "layout": "IPY_MODEL_01ac6f61cb724aedb1cd0256898007a0",
       "max": 582,
       "style": "IPY_MODEL_aa00934b611d43fbbd2e2b43ab9b6cd1"
      }
     },
     "2643c177a9894c6d8a7e4b03fb703023": {
      "model_module": "@jupyter-widgets/controls",
      "model_module_version": "2.0.0",
      "model_name": "ProgressStyleModel",
      "state": {
       "description_width": ""
      }
     },
     "26842e45e055475388a4a965fb6cd0be": {
      "model_module": "@jupyter-widgets/controls",
      "model_module_version": "2.0.0",
      "model_name": "ProgressStyleModel",
      "state": {
       "description_width": ""
      }
     },
     "2684ad1f47a44d199ff4f483fc77edcb": {
      "model_module": "@jupyter-widgets/controls",
      "model_module_version": "2.0.0",
      "model_name": "FloatProgressModel",
      "state": {
       "bar_style": "success",
       "layout": "IPY_MODEL_6cd4a7e487604efa8bfd6bee4f12d82f",
       "max": 634,
       "style": "IPY_MODEL_46aa0c42f29242d39138b8da6c167a84",
       "value": 634
      }
     },
     "270074febdcf42209bb5913a6e134c90": {
      "model_module": "@jupyter-widgets/base",
      "model_module_version": "2.0.0",
      "model_name": "LayoutModel",
      "state": {}
     },
     "270cc2bdff6e454380d3e51c8a82a60e": {
      "model_module": "@jupyter-widgets/base",
      "model_module_version": "2.0.0",
      "model_name": "LayoutModel",
      "state": {}
     },
     "272a7c040d6c4bbea0c22f8b59206e92": {
      "model_module": "@jupyter-widgets/controls",
      "model_module_version": "2.0.0",
      "model_name": "FloatProgressModel",
      "state": {
       "bar_style": "success",
       "layout": "IPY_MODEL_6c4446b541994a58a641e94dcbee3fa7",
       "max": 472,
       "style": "IPY_MODEL_e7771cff687a4534b4a37bede6219577",
       "value": 472
      }
     },
     "2752208f760c4b2aa22b0903a2f37a67": {
      "model_module": "@jupyter-widgets/controls",
      "model_module_version": "2.0.0",
      "model_name": "HTMLModel",
      "state": {
       "layout": "IPY_MODEL_318f9e6410da4735b0c90ada09f99b82",
       "style": "IPY_MODEL_2dd8d37c21fb49558a1161bc09f78114",
       "value": "  0%"
      }
     },
     "276a62273b354c6b9fc7e20ba3b86dfb": {
      "model_module": "@jupyter-widgets/controls",
      "model_module_version": "2.0.0",
      "model_name": "FloatProgressModel",
      "state": {
       "bar_style": "success",
       "layout": "IPY_MODEL_ccbc9e01d9214fe5b15a3a4ddc5c1f62",
       "max": 450,
       "style": "IPY_MODEL_a984d41eebaa4bfdb292866904d5f382",
       "value": 450
      }
     },
     "2798a527afdd4c15a10b90fb6837bcb6": {
      "model_module": "@jupyter-widgets/controls",
      "model_module_version": "2.0.0",
      "model_name": "HTMLModel",
      "state": {
       "layout": "IPY_MODEL_a09d238871524b878f08d3890a1d66d3",
       "style": "IPY_MODEL_50128cda0caa4bd18b7030c282032994",
       "value": "100%"
      }
     },
     "27fb78e55d474d059406cd6fe49512ff": {
      "model_module": "@jupyter-widgets/base",
      "model_module_version": "2.0.0",
      "model_name": "LayoutModel",
      "state": {}
     },
     "28010343e0764e7b94f4ad47876afe66": {
      "model_module": "@jupyter-widgets/controls",
      "model_module_version": "2.0.0",
      "model_name": "HTMLStyleModel",
      "state": {
       "description_width": "",
       "font_size": null,
       "text_color": null
      }
     },
     "28148253056b44dca2aace1ca7ae603f": {
      "model_module": "@jupyter-widgets/base",
      "model_module_version": "2.0.0",
      "model_name": "LayoutModel",
      "state": {}
     },
     "281db1562a4e4846a16bba01930af34f": {
      "model_module": "@jupyter-widgets/controls",
      "model_module_version": "2.0.0",
      "model_name": "ProgressStyleModel",
      "state": {
       "description_width": ""
      }
     },
     "286aa19b1a5642c798056ca68eb10690": {
      "model_module": "@jupyter-widgets/controls",
      "model_module_version": "2.0.0",
      "model_name": "HTMLModel",
      "state": {
       "layout": "IPY_MODEL_ba549a4ae7714005aac8095e85465656",
       "style": "IPY_MODEL_63ab8e888c3440c7b2cbc0fe9248d323",
       "value": "100%"
      }
     },
     "287107e7513d4867a107653c88d20970": {
      "model_module": "@jupyter-widgets/controls",
      "model_module_version": "2.0.0",
      "model_name": "HTMLModel",
      "state": {
       "layout": "IPY_MODEL_ee8c1a1d188d4bd68fb3f2ab89f4e5a1",
       "style": "IPY_MODEL_ceeb7774f2d14490ba6085cb0c2b9bb4",
       "value": "100%"
      }
     },
     "2889227aac4b4af38ad0b59d3af0849f": {
      "model_module": "@jupyter-widgets/base",
      "model_module_version": "2.0.0",
      "model_name": "LayoutModel",
      "state": {}
     },
     "288c4b65ac364b6f8a739ead6a631df8": {
      "model_module": "@jupyter-widgets/controls",
      "model_module_version": "2.0.0",
      "model_name": "HBoxModel",
      "state": {
       "children": [
        "IPY_MODEL_f726b6d13f37420e83578787902b949c",
        "IPY_MODEL_aaca24053f7342b58e56d42c97e3d88e",
        "IPY_MODEL_7f113028687e4a889e1108351794474d"
       ],
       "layout": "IPY_MODEL_07d9e0a1108f487787c132a21c35f1ed"
      }
     },
     "28c5ea73455f4143b647fd094d008ab3": {
      "model_module": "@jupyter-widgets/base",
      "model_module_version": "2.0.0",
      "model_name": "LayoutModel",
      "state": {}
     },
     "28c97b2358fe4a58865ca058decd050c": {
      "model_module": "@jupyter-widgets/controls",
      "model_module_version": "2.0.0",
      "model_name": "HTMLModel",
      "state": {
       "layout": "IPY_MODEL_4fbdc2e5f604489b85d62033d19edfc3",
       "style": "IPY_MODEL_3e247adfd3a540d49548d97bb1f482f8",
       "value": "100%"
      }
     },
     "28dbcefe1af24cf3a981d8db1d0da7e9": {
      "model_module": "@jupyter-widgets/controls",
      "model_module_version": "2.0.0",
      "model_name": "HTMLStyleModel",
      "state": {
       "description_width": "",
       "font_size": null,
       "text_color": null
      }
     },
     "28f3ccdd08a944a79f2fe4348ebe6847": {
      "model_module": "@jupyter-widgets/controls",
      "model_module_version": "2.0.0",
      "model_name": "HTMLModel",
      "state": {
       "layout": "IPY_MODEL_0c1bc50b57fe40369f9df3f94b0d2342",
       "style": "IPY_MODEL_3b587c63a3f641a2aa63fb5193d96a78",
       "value": " 0/582 [00:00&lt;?, ?it/s]"
      }
     },
     "29040123d53e45a08b5d073771d6122a": {
      "model_module": "@jupyter-widgets/base",
      "model_module_version": "2.0.0",
      "model_name": "LayoutModel",
      "state": {}
     },
     "298ce90da0554be08c78c1453a96192f": {
      "model_module": "@jupyter-widgets/controls",
      "model_module_version": "2.0.0",
      "model_name": "HTMLModel",
      "state": {
       "layout": "IPY_MODEL_7dbd493078644cf3ac98ceddc2225073",
       "style": "IPY_MODEL_dbd099941feb4fba876746627099a86a",
       "value": "100%"
      }
     },
     "298edd30a4a349e3a87b85604b48d773": {
      "model_module": "@jupyter-widgets/controls",
      "model_module_version": "2.0.0",
      "model_name": "HTMLStyleModel",
      "state": {
       "description_width": "",
       "font_size": null,
       "text_color": null
      }
     },
     "29c8e8b333cb4c4394f61a7f0b8179e6": {
      "model_module": "@jupyter-widgets/controls",
      "model_module_version": "2.0.0",
      "model_name": "HTMLStyleModel",
      "state": {
       "description_width": "",
       "font_size": null,
       "text_color": null
      }
     },
     "29d2dc8620e9440a992b014dc31d5627": {
      "model_module": "@jupyter-widgets/controls",
      "model_module_version": "2.0.0",
      "model_name": "HTMLModel",
      "state": {
       "layout": "IPY_MODEL_03e3e52ac78047b1820ede5c77cc206b",
       "style": "IPY_MODEL_3f68284d49bf4b66bc6c34413f085c7e",
       "value": " 0/582 [00:00&lt;?, ?it/s]"
      }
     },
     "2a045f1f328840428253d1edc674f5a5": {
      "model_module": "@jupyter-widgets/controls",
      "model_module_version": "2.0.0",
      "model_name": "HTMLStyleModel",
      "state": {
       "description_width": "",
       "font_size": null,
       "text_color": null
      }
     },
     "2a074a5c68194e47b9cea28bedf1afd4": {
      "model_module": "@jupyter-widgets/controls",
      "model_module_version": "2.0.0",
      "model_name": "ProgressStyleModel",
      "state": {
       "description_width": ""
      }
     },
     "2a11837d83824936b8dd74546b791d46": {
      "model_module": "@jupyter-widgets/controls",
      "model_module_version": "2.0.0",
      "model_name": "FloatProgressModel",
      "state": {
       "bar_style": "danger",
       "layout": "IPY_MODEL_d05d444c4e244473b277105b8b1cbdad",
       "max": 582,
       "style": "IPY_MODEL_3b2a8ad5c0c64258a46541ea60dbdb46"
      }
     },
     "2a36a31fa3614687815d9fa02e91b121": {
      "model_module": "@jupyter-widgets/base",
      "model_module_version": "2.0.0",
      "model_name": "LayoutModel",
      "state": {}
     },
     "2a74cbf0e9d3445cb1dbfec565319e5f": {
      "model_module": "@jupyter-widgets/controls",
      "model_module_version": "2.0.0",
      "model_name": "HTMLModel",
      "state": {
       "layout": "IPY_MODEL_c8ea99dca7bd4dec9d5b0116f3dcdeab",
       "style": "IPY_MODEL_224cf17807cd4430a2a27db1cd30467c",
       "value": " 0/582 [00:00&lt;?, ?it/s]"
      }
     },
     "2aa1eae6c8a74584816a29ec16b5b8d1": {
      "model_module": "@jupyter-widgets/base",
      "model_module_version": "2.0.0",
      "model_name": "LayoutModel",
      "state": {}
     },
     "2aa8a830df8c427ea94366d58368f145": {
      "model_module": "@jupyter-widgets/controls",
      "model_module_version": "2.0.0",
      "model_name": "HBoxModel",
      "state": {
       "children": [
        "IPY_MODEL_10d32fca5de14e778e7e1821faa560d7",
        "IPY_MODEL_970d39dfe383423c94c14c4880828116",
        "IPY_MODEL_a0179a10ee824cc3bb5d095dc20b3c15"
       ],
       "layout": "IPY_MODEL_9b32a113adf24186b44a39b6e608da7b"
      }
     },
     "2aba5fda67bf4094bb9fea4bc6c9dbfe": {
      "model_module": "@jupyter-widgets/base",
      "model_module_version": "2.0.0",
      "model_name": "LayoutModel",
      "state": {}
     },
     "2abcfc317149443796e98746081433f9": {
      "model_module": "@jupyter-widgets/controls",
      "model_module_version": "2.0.0",
      "model_name": "HTMLStyleModel",
      "state": {
       "description_width": "",
       "font_size": null,
       "text_color": null
      }
     },
     "2ac3290a23eb4427b7230ee0795b33d0": {
      "model_module": "@jupyter-widgets/controls",
      "model_module_version": "2.0.0",
      "model_name": "HTMLModel",
      "state": {
       "layout": "IPY_MODEL_a4bf4aa12d214107b585125e325f77a1",
       "style": "IPY_MODEL_504a9e841e0c49e58e15f3aa0be4fdf9",
       "value": "100%"
      }
     },
     "2ad7fdaef9b64e55a87f9e938aba2006": {
      "model_module": "@jupyter-widgets/controls",
      "model_module_version": "2.0.0",
      "model_name": "ProgressStyleModel",
      "state": {
       "description_width": ""
      }
     },
     "2ae3c0678fa64bc8b85a6b7437db97cc": {
      "model_module": "@jupyter-widgets/controls",
      "model_module_version": "2.0.0",
      "model_name": "HTMLModel",
      "state": {
       "layout": "IPY_MODEL_30caecbf42164d77b6103626fe4a6069",
       "style": "IPY_MODEL_78e6864198504960ba0e1f75c3f14350",
       "value": " 623/623 [00:39&lt;00:00, 15.58it/s]"
      }
     },
     "2ae6397bafb0423fb6f05b96fc55b547": {
      "model_module": "@jupyter-widgets/controls",
      "model_module_version": "2.0.0",
      "model_name": "HBoxModel",
      "state": {
       "children": [
        "IPY_MODEL_fcabc8a5400542668191448720591c39",
        "IPY_MODEL_21aae938c97142b0848ba2ddb0a1b86d",
        "IPY_MODEL_93d1f0e0d5084626b109f060d2eab380"
       ],
       "layout": "IPY_MODEL_86a0e2f4e9fa43c58a84791aad550839"
      }
     },
     "2aefd93f5c71472a964b7cc95d170360": {
      "model_module": "@jupyter-widgets/base",
      "model_module_version": "2.0.0",
      "model_name": "LayoutModel",
      "state": {}
     },
     "2b020c7ed0744d878d6507ff49a289b1": {
      "model_module": "@jupyter-widgets/base",
      "model_module_version": "2.0.0",
      "model_name": "LayoutModel",
      "state": {}
     },
     "2b0c3ed96fa646198519fc785c5b0fcc": {
      "model_module": "@jupyter-widgets/base",
      "model_module_version": "2.0.0",
      "model_name": "LayoutModel",
      "state": {}
     },
     "2b1298a0d5254a0dac86d3487973fd5f": {
      "model_module": "@jupyter-widgets/base",
      "model_module_version": "2.0.0",
      "model_name": "LayoutModel",
      "state": {}
     },
     "2b1ebf9e45aa40669db57e6d98727cd7": {
      "model_module": "@jupyter-widgets/controls",
      "model_module_version": "2.0.0",
      "model_name": "FloatProgressModel",
      "state": {
       "bar_style": "danger",
       "layout": "IPY_MODEL_d1996cbaf1974b59abf31d388f5fa8cf",
       "max": 582,
       "style": "IPY_MODEL_650606ee62e24b7eb00b2a185d0a67a2"
      }
     },
     "2b3856704f5b46369f68469aefcbb200": {
      "model_module": "@jupyter-widgets/base",
      "model_module_version": "2.0.0",
      "model_name": "LayoutModel",
      "state": {}
     },
     "2b4a9adde876469496cd61d3d60255e5": {
      "model_module": "@jupyter-widgets/controls",
      "model_module_version": "2.0.0",
      "model_name": "HTMLStyleModel",
      "state": {
       "description_width": "",
       "font_size": null,
       "text_color": null
      }
     },
     "2b4b51a497e54952a8a693efa4f339f9": {
      "model_module": "@jupyter-widgets/controls",
      "model_module_version": "2.0.0",
      "model_name": "HBoxModel",
      "state": {
       "children": [
        "IPY_MODEL_b63975a8264945fc85af7d8a58b013ec",
        "IPY_MODEL_f61fe1fe438143838526709d129e3887",
        "IPY_MODEL_fd86c69dc56847eeb3f4aa453ce0985d"
       ],
       "layout": "IPY_MODEL_65e3885e15d341d49f7cf926bd25fd47"
      }
     },
     "2b4d90ded7b64ec49081058bf8d93375": {
      "model_module": "@jupyter-widgets/controls",
      "model_module_version": "2.0.0",
      "model_name": "HTMLModel",
      "state": {
       "layout": "IPY_MODEL_dbfd133b9b7247aa98fddd6dfc9e682e",
       "style": "IPY_MODEL_320f70a400334e14b26b51d5966eb8b5",
       "value": "100%"
      }
     },
     "2b92a3161bf3471db16fa52f96f02b4d": {
      "model_module": "@jupyter-widgets/controls",
      "model_module_version": "2.0.0",
      "model_name": "HTMLStyleModel",
      "state": {
       "description_width": "",
       "font_size": null,
       "text_color": null
      }
     },
     "2bae17ad761d4f339134b60574c69cdc": {
      "model_module": "@jupyter-widgets/base",
      "model_module_version": "2.0.0",
      "model_name": "LayoutModel",
      "state": {}
     },
     "2c46aff01ea0423e92ca9010c969591b": {
      "model_module": "@jupyter-widgets/controls",
      "model_module_version": "2.0.0",
      "model_name": "HTMLStyleModel",
      "state": {
       "description_width": "",
       "font_size": null,
       "text_color": null
      }
     },
     "2c495f29659f4653812b1156d95cf7fe": {
      "model_module": "@jupyter-widgets/controls",
      "model_module_version": "2.0.0",
      "model_name": "ProgressStyleModel",
      "state": {
       "description_width": ""
      }
     },
     "2c7e40309fbd40589bddad428814eab9": {
      "model_module": "@jupyter-widgets/controls",
      "model_module_version": "2.0.0",
      "model_name": "HTMLStyleModel",
      "state": {
       "description_width": "",
       "font_size": null,
       "text_color": null
      }
     },
     "2cb271bcb1574a6fa2774650449e6be1": {
      "model_module": "@jupyter-widgets/controls",
      "model_module_version": "2.0.0",
      "model_name": "HTMLModel",
      "state": {
       "layout": "IPY_MODEL_d9b9ae92f93742c79e03ee46159270bb",
       "style": "IPY_MODEL_2101f1c1be3b4004b7fa0718a1a06c92",
       "value": " 450/450 [00:00&lt;00:00, 127014.59it/s]"
      }
     },
     "2cbee8274dd04781855dae89db5aaa39": {
      "model_module": "@jupyter-widgets/base",
      "model_module_version": "2.0.0",
      "model_name": "LayoutModel",
      "state": {}
     },
     "2cc8e40d57a540e48c005abe4c81019a": {
      "model_module": "@jupyter-widgets/base",
      "model_module_version": "2.0.0",
      "model_name": "LayoutModel",
      "state": {}
     },
     "2ce4e8076a3d4c8e8492faf75199f36d": {
      "model_module": "@jupyter-widgets/base",
      "model_module_version": "2.0.0",
      "model_name": "LayoutModel",
      "state": {}
     },
     "2ce99fbb1acc430388403de1a4660bfc": {
      "model_module": "@jupyter-widgets/controls",
      "model_module_version": "2.0.0",
      "model_name": "HTMLStyleModel",
      "state": {
       "description_width": "",
       "font_size": null,
       "text_color": null
      }
     },
     "2d114bef26034aea8d32abc7ba7ce693": {
      "model_module": "@jupyter-widgets/controls",
      "model_module_version": "2.0.0",
      "model_name": "HTMLStyleModel",
      "state": {
       "description_width": "",
       "font_size": null,
       "text_color": null
      }
     },
     "2d133c13dafb4a3d92df33ddfd5e6b45": {
      "model_module": "@jupyter-widgets/base",
      "model_module_version": "2.0.0",
      "model_name": "LayoutModel",
      "state": {}
     },
     "2d2dee96bb4944dc9544b3508c6ae86e": {
      "model_module": "@jupyter-widgets/controls",
      "model_module_version": "2.0.0",
      "model_name": "HTMLModel",
      "state": {
       "layout": "IPY_MODEL_93bccdf4de9d485f86b9bb488ef8a9ad",
       "style": "IPY_MODEL_169f9d24782547389b5a7e50939a0655",
       "value": " 712/712 [00:00&lt;00:00, 197014.41it/s]"
      }
     },
     "2d66774b65ed4585920ad3ca89cf5697": {
      "model_module": "@jupyter-widgets/base",
      "model_module_version": "2.0.0",
      "model_name": "LayoutModel",
      "state": {}
     },
     "2d8a550654d74d3fad2c3e7ecf894a0f": {
      "model_module": "@jupyter-widgets/controls",
      "model_module_version": "2.0.0",
      "model_name": "HTMLStyleModel",
      "state": {
       "description_width": "",
       "font_size": null,
       "text_color": null
      }
     },
     "2d94ef2f529244228fb80f9d54fca0a4": {
      "model_module": "@jupyter-widgets/controls",
      "model_module_version": "2.0.0",
      "model_name": "FloatProgressModel",
      "state": {
       "bar_style": "success",
       "layout": "IPY_MODEL_d11c16a5850e4f2088f3f2c2a0ae5f7a",
       "max": 578,
       "style": "IPY_MODEL_9390b8b5290b4ec986acea363c4f1c49",
       "value": 578
      }
     },
     "2dce4970db27460d92db70bfba5584fc": {
      "model_module": "@jupyter-widgets/controls",
      "model_module_version": "2.0.0",
      "model_name": "HTMLModel",
      "state": {
       "layout": "IPY_MODEL_a6393c772ef34d7ebf538ea15ae92dff",
       "style": "IPY_MODEL_c705b73bb52746eb80be30308b2b193f",
       "value": " 704/704 [00:00&lt;00:00, 180997.30it/s]"
      }
     },
     "2dd8d37c21fb49558a1161bc09f78114": {
      "model_module": "@jupyter-widgets/controls",
      "model_module_version": "2.0.0",
      "model_name": "HTMLStyleModel",
      "state": {
       "description_width": "",
       "font_size": null,
       "text_color": null
      }
     },
     "2df29056551a4239bd87d508b943bb6d": {
      "model_module": "@jupyter-widgets/base",
      "model_module_version": "2.0.0",
      "model_name": "LayoutModel",
      "state": {}
     },
     "2df5d8da5adb42fcbaf55368488a87f1": {
      "model_module": "@jupyter-widgets/controls",
      "model_module_version": "2.0.0",
      "model_name": "HTMLStyleModel",
      "state": {
       "description_width": "",
       "font_size": null,
       "text_color": null
      }
     },
     "2df8f395dfef45e585a7fe895379d9c8": {
      "model_module": "@jupyter-widgets/controls",
      "model_module_version": "2.0.0",
      "model_name": "ProgressStyleModel",
      "state": {
       "description_width": ""
      }
     },
     "2e00b684503a43ed8b20fb460e81c249": {
      "model_module": "@jupyter-widgets/controls",
      "model_module_version": "2.0.0",
      "model_name": "HTMLModel",
      "state": {
       "layout": "IPY_MODEL_03a3fec74788452795bb5f69b9296c67",
       "style": "IPY_MODEL_978950545403447a84df85d55a919566",
       "value": " 472/472 [00:30&lt;00:00, 15.05it/s]"
      }
     },
     "2e398723e4ba4165a8df728e576814f6": {
      "model_module": "@jupyter-widgets/controls",
      "model_module_version": "2.0.0",
      "model_name": "FloatProgressModel",
      "state": {
       "bar_style": "success",
       "layout": "IPY_MODEL_45b9f5e4e9f3400f90e93454a82f282c",
       "max": 492,
       "style": "IPY_MODEL_6d32da25d37c43d99048846cee47b0be",
       "value": 492
      }
     },
     "2e3b0ec56e30443e948aa4f646c1340b": {
      "model_module": "@jupyter-widgets/controls",
      "model_module_version": "2.0.0",
      "model_name": "HTMLStyleModel",
      "state": {
       "description_width": "",
       "font_size": null,
       "text_color": null
      }
     },
     "2e41727c52094374abe85da5acebdb63": {
      "model_module": "@jupyter-widgets/base",
      "model_module_version": "2.0.0",
      "model_name": "LayoutModel",
      "state": {}
     },
     "2e729b75636f41b3a057ceaca9cb3fd8": {
      "model_module": "@jupyter-widgets/base",
      "model_module_version": "2.0.0",
      "model_name": "LayoutModel",
      "state": {}
     },
     "2e82d7dba56c4a2c8322649b4785c971": {
      "model_module": "@jupyter-widgets/controls",
      "model_module_version": "2.0.0",
      "model_name": "HBoxModel",
      "state": {
       "children": [
        "IPY_MODEL_2170a1aee650433aa50ac3c04dea7950",
        "IPY_MODEL_17727b873b874846ba4fe49ae127bcfc",
        "IPY_MODEL_56ddf346db084d5ea54f5c224dcb12d6"
       ],
       "layout": "IPY_MODEL_d7513cd3eb85409495978ba5ac8c6961"
      }
     },
     "2ed7817e0422417180af2136e051a013": {
      "model_module": "@jupyter-widgets/controls",
      "model_module_version": "2.0.0",
      "model_name": "HBoxModel",
      "state": {
       "children": [
        "IPY_MODEL_8a3c3e6cda404307821e8d14cdd10ede",
        "IPY_MODEL_1f8dff9519b649a4a9dcbcda0a8cb52f",
        "IPY_MODEL_3dcc2b614b8b4d44a9dda11696fe5399"
       ],
       "layout": "IPY_MODEL_705ce57a89d2419cb967c57871065a2a"
      }
     },
     "2ef6d1d01179429396e5b93cda4968f6": {
      "model_module": "@jupyter-widgets/controls",
      "model_module_version": "2.0.0",
      "model_name": "HTMLModel",
      "state": {
       "layout": "IPY_MODEL_bff4b0b58b0d4144814cce09e6636acb",
       "style": "IPY_MODEL_cd3963fc1e3143bc88da842c5ea93bc5",
       "value": " 49/118 [00:07&lt;00:10,  6.67it/s]"
      }
     },
     "2f04920c62b44f9a87bf9f9ae0a80d88": {
      "model_module": "@jupyter-widgets/base",
      "model_module_version": "2.0.0",
      "model_name": "LayoutModel",
      "state": {}
     },
     "2f1ca282b79e4830aa8cabe7011c40b1": {
      "model_module": "@jupyter-widgets/base",
      "model_module_version": "2.0.0",
      "model_name": "LayoutModel",
      "state": {}
     },
     "2f455aab469b419aa370efa619930063": {
      "model_module": "@jupyter-widgets/controls",
      "model_module_version": "2.0.0",
      "model_name": "HTMLStyleModel",
      "state": {
       "description_width": "",
       "font_size": null,
       "text_color": null
      }
     },
     "2f5a23e3cd2547d5b8271d3d3a429fad": {
      "model_module": "@jupyter-widgets/controls",
      "model_module_version": "2.0.0",
      "model_name": "HTMLModel",
      "state": {
       "layout": "IPY_MODEL_88d4287c86ee4cc59b5536a2fa7359f9",
       "style": "IPY_MODEL_83665f976ed041a2af7a234eb0a9450a",
       "value": "100%"
      }
     },
     "2f69260c69d540c887044d552257e3ee": {
      "model_module": "@jupyter-widgets/controls",
      "model_module_version": "2.0.0",
      "model_name": "HTMLStyleModel",
      "state": {
       "description_width": "",
       "font_size": null,
       "text_color": null
      }
     },
     "2f6f8d9cc89841fead0965c4798f514f": {
      "model_module": "@jupyter-widgets/controls",
      "model_module_version": "2.0.0",
      "model_name": "HTMLModel",
      "state": {
       "layout": "IPY_MODEL_db563b02eff24f928c8e27e2d293cb80",
       "style": "IPY_MODEL_9c21458b7f3c471ab14cf72b4e2b2301",
       "value": " 0/582 [00:00&lt;?, ?it/s]"
      }
     },
     "2f807373722948858b3c2f2b2f55f414": {
      "model_module": "@jupyter-widgets/base",
      "model_module_version": "2.0.0",
      "model_name": "LayoutModel",
      "state": {}
     },
     "2f80a006e12a4804b2bbc0c703d1f362": {
      "model_module": "@jupyter-widgets/controls",
      "model_module_version": "2.0.0",
      "model_name": "HBoxModel",
      "state": {
       "children": [
        "IPY_MODEL_18a4e1028b7e4883825ab308d27bdfc7",
        "IPY_MODEL_76cb23ed526a407c9023d60d143b3e5b",
        "IPY_MODEL_d2bf38b243134f94946d00d2abbe06f9"
       ],
       "layout": "IPY_MODEL_2aefd93f5c71472a964b7cc95d170360"
      }
     },
     "2fafd58df320494bab2d94060561a073": {
      "model_module": "@jupyter-widgets/controls",
      "model_module_version": "2.0.0",
      "model_name": "HBoxModel",
      "state": {
       "children": [
        "IPY_MODEL_34bc3036f6b641779656635d80279edc",
        "IPY_MODEL_c893cf1eebeb4c72a41f5757e3e871d0",
        "IPY_MODEL_75b247fbb4f54356881e8eddc3bb1f0e"
       ],
       "layout": "IPY_MODEL_f6c6268cb3c44b7f9757659d2300faa3"
      }
     },
     "2fce356911824dd6bdb3495a15a99483": {
      "model_module": "@jupyter-widgets/controls",
      "model_module_version": "2.0.0",
      "model_name": "HTMLModel",
      "state": {
       "layout": "IPY_MODEL_2cbee8274dd04781855dae89db5aaa39",
       "style": "IPY_MODEL_07b28576dfff47449b119dbeb936f844",
       "value": " 642/642 [00:00&lt;00:00, 158489.89it/s]"
      }
     },
     "2fd79810ec984e4b86d2b9c000d8d5b9": {
      "model_module": "@jupyter-widgets/controls",
      "model_module_version": "2.0.0",
      "model_name": "FloatProgressModel",
      "state": {
       "bar_style": "success",
       "layout": "IPY_MODEL_ee9e9765fa4647f4a2935346a56c5021",
       "max": 646,
       "style": "IPY_MODEL_e17107d8e4504b17a23df0ce7eb2481b",
       "value": 646
      }
     },
     "3006ede41363478fafc34bbe8b54e03c": {
      "model_module": "@jupyter-widgets/controls",
      "model_module_version": "2.0.0",
      "model_name": "FloatProgressModel",
      "state": {
       "bar_style": "success",
       "layout": "IPY_MODEL_d4072ed3e93f4e3eb2780ee1123e1f2c",
       "max": 631,
       "style": "IPY_MODEL_0e03440769e347a89854888e58ce70f9",
       "value": 631
      }
     },
     "300c74e32136412f896ab30caa1dc689": {
      "model_module": "@jupyter-widgets/controls",
      "model_module_version": "2.0.0",
      "model_name": "HTMLStyleModel",
      "state": {
       "description_width": "",
       "font_size": null,
       "text_color": null
      }
     },
     "305cde0d7de0439e87fd9baed5bc4333": {
      "model_module": "@jupyter-widgets/controls",
      "model_module_version": "2.0.0",
      "model_name": "HTMLStyleModel",
      "state": {
       "description_width": "",
       "font_size": null,
       "text_color": null
      }
     },
     "308c92f25b94401fa73c7d023db487af": {
      "model_module": "@jupyter-widgets/base",
      "model_module_version": "2.0.0",
      "model_name": "LayoutModel",
      "state": {}
     },
     "30a94a71e4ac44b8b9d002a8fc509138": {
      "model_module": "@jupyter-widgets/controls",
      "model_module_version": "2.0.0",
      "model_name": "HBoxModel",
      "state": {
       "children": [
        "IPY_MODEL_7759f581730948a8b06dcc7e21691217",
        "IPY_MODEL_cdc4304adf7b4d53abad226b7f7e7379",
        "IPY_MODEL_96e7c69f92064315823641822b53b48e"
       ],
       "layout": "IPY_MODEL_244f28c685ed43f38d291e79226abaf6"
      }
     },
     "30b2c869bc6541d39abab7faf21cf3bd": {
      "model_module": "@jupyter-widgets/controls",
      "model_module_version": "2.0.0",
      "model_name": "FloatProgressModel",
      "state": {
       "bar_style": "danger",
       "layout": "IPY_MODEL_64149908fd9640df90275ac5baa4fc58",
       "max": 582,
       "style": "IPY_MODEL_ed077a4c23f84285ad8551416f5d3efa"
      }
     },
     "30caecbf42164d77b6103626fe4a6069": {
      "model_module": "@jupyter-widgets/base",
      "model_module_version": "2.0.0",
      "model_name": "LayoutModel",
      "state": {}
     },
     "30efda8516434ba0a58e5b2435285390": {
      "model_module": "@jupyter-widgets/controls",
      "model_module_version": "2.0.0",
      "model_name": "FloatProgressModel",
      "state": {
       "bar_style": "success",
       "layout": "IPY_MODEL_f2aa099765db4225a9b3c4518fb04334",
       "max": 542,
       "style": "IPY_MODEL_0a3e24b1dfac42b1a1a3a0afa7c797b8",
       "value": 542
      }
     },
     "30f0fc160d2d4d8e86912edd5938f94b": {
      "model_module": "@jupyter-widgets/base",
      "model_module_version": "2.0.0",
      "model_name": "LayoutModel",
      "state": {}
     },
     "310c7114f2fd4569a88de26eb9a79c08": {
      "model_module": "@jupyter-widgets/controls",
      "model_module_version": "2.0.0",
      "model_name": "HBoxModel",
      "state": {
       "children": [
        "IPY_MODEL_f4e0c7d537854349a00a2cae38ffd907",
        "IPY_MODEL_e92d426f33eb4f4c86153a03654943a5",
        "IPY_MODEL_d198b5c3c9fd4923af2b44a6a8be923f"
       ],
       "layout": "IPY_MODEL_91235cee2eb54d28ab740bb1ba0a3eb9"
      }
     },
     "3129493feb1341f8a481440ca48c3022": {
      "model_module": "@jupyter-widgets/controls",
      "model_module_version": "2.0.0",
      "model_name": "HBoxModel",
      "state": {
       "children": [
        "IPY_MODEL_b47e76fd81404a12a1e271d9cc428b1c",
        "IPY_MODEL_1a6b69d110e248f99274134b6e30b337",
        "IPY_MODEL_8e9b2ed2ce244b1e872892bbf863c1af"
       ],
       "layout": "IPY_MODEL_c2341ee1f9ba4feeaa5c8545e13d7e3b"
      }
     },
     "3134050156f9434baffbab4bbfcd1a15": {
      "model_module": "@jupyter-widgets/base",
      "model_module_version": "2.0.0",
      "model_name": "LayoutModel",
      "state": {}
     },
     "313f8a14d7264fc1a1322f3c3691e4a2": {
      "model_module": "@jupyter-widgets/base",
      "model_module_version": "2.0.0",
      "model_name": "LayoutModel",
      "state": {}
     },
     "3145328f22114d9fa02c6ce2c7c0882d": {
      "model_module": "@jupyter-widgets/controls",
      "model_module_version": "2.0.0",
      "model_name": "ProgressStyleModel",
      "state": {
       "description_width": ""
      }
     },
     "315f15972bc24cbcb4663e3a8ea6e428": {
      "model_module": "@jupyter-widgets/controls",
      "model_module_version": "2.0.0",
      "model_name": "HTMLModel",
      "state": {
       "layout": "IPY_MODEL_317f80e93cd747d2a921bbe6f119fe1f",
       "style": "IPY_MODEL_b9a11cb48af14c2f9eddc6332f97b87f",
       "value": " 593/593 [00:00&lt;00:00, 166002.95it/s]"
      }
     },
     "316b351270104c26b8b2be94c46c99a6": {
      "model_module": "@jupyter-widgets/controls",
      "model_module_version": "2.0.0",
      "model_name": "FloatProgressModel",
      "state": {
       "bar_style": "success",
       "layout": "IPY_MODEL_f52fb7a1ecde4c41973c81aebdb55992",
       "max": 625,
       "style": "IPY_MODEL_c770ca9d31fc4ec198723dc9ac77ac3d",
       "value": 625
      }
     },
     "317f80e93cd747d2a921bbe6f119fe1f": {
      "model_module": "@jupyter-widgets/base",
      "model_module_version": "2.0.0",
      "model_name": "LayoutModel",
      "state": {}
     },
     "318f9e6410da4735b0c90ada09f99b82": {
      "model_module": "@jupyter-widgets/base",
      "model_module_version": "2.0.0",
      "model_name": "LayoutModel",
      "state": {}
     },
     "319c8606b3b1497589ea43c20dc4383b": {
      "model_module": "@jupyter-widgets/controls",
      "model_module_version": "2.0.0",
      "model_name": "HBoxModel",
      "state": {
       "children": [
        "IPY_MODEL_f04eeb7f640f41248b82c1ec33b6464b",
        "IPY_MODEL_d985612ca7ad40e5a3e7d2b1b3205553",
        "IPY_MODEL_36618766bf2549479044913c410af83d"
       ],
       "layout": "IPY_MODEL_79cea479db764d70ab4d737fb6d2cceb"
      }
     },
     "31c0f8e1c1644c8284b5265dae58b0ac": {
      "model_module": "@jupyter-widgets/controls",
      "model_module_version": "2.0.0",
      "model_name": "HTMLModel",
      "state": {
       "layout": "IPY_MODEL_7a803797f72c4e9389384573e07b20e7",
       "style": "IPY_MODEL_7b838df12184414eb7a4a329851b4045",
       "value": "100%"
      }
     },
     "31ee72c5800f406194e22e602cb8d383": {
      "model_module": "@jupyter-widgets/base",
      "model_module_version": "2.0.0",
      "model_name": "LayoutModel",
      "state": {}
     },
     "31fe5b8283ea43a1b13407b716e6890e": {
      "model_module": "@jupyter-widgets/controls",
      "model_module_version": "2.0.0",
      "model_name": "ProgressStyleModel",
      "state": {
       "description_width": ""
      }
     },
     "320f70a400334e14b26b51d5966eb8b5": {
      "model_module": "@jupyter-widgets/controls",
      "model_module_version": "2.0.0",
      "model_name": "HTMLStyleModel",
      "state": {
       "description_width": "",
       "font_size": null,
       "text_color": null
      }
     },
     "322aacd069bb4dda9ddba3cd8dd4bdab": {
      "model_module": "@jupyter-widgets/base",
      "model_module_version": "2.0.0",
      "model_name": "LayoutModel",
      "state": {}
     },
     "3249621ced3f49bc9a975ed8751c67a9": {
      "model_module": "@jupyter-widgets/controls",
      "model_module_version": "2.0.0",
      "model_name": "HTMLModel",
      "state": {
       "layout": "IPY_MODEL_e8e813fd15f6442185ba74496454c4bd",
       "style": "IPY_MODEL_99f7f20f45f44cfa8ec3cf47060cea50",
       "value": "100%"
      }
     },
     "325522c973324f9498c599ea6571812d": {
      "model_module": "@jupyter-widgets/base",
      "model_module_version": "2.0.0",
      "model_name": "LayoutModel",
      "state": {}
     },
     "327020233c304b6587337a5c3d47813c": {
      "model_module": "@jupyter-widgets/controls",
      "model_module_version": "2.0.0",
      "model_name": "ProgressStyleModel",
      "state": {
       "description_width": ""
      }
     },
     "328bac6dfb7a48b8948f767db76e642f": {
      "model_module": "@jupyter-widgets/base",
      "model_module_version": "2.0.0",
      "model_name": "LayoutModel",
      "state": {}
     },
     "32e0d4b789c14866b375dab199712a7b": {
      "model_module": "@jupyter-widgets/controls",
      "model_module_version": "2.0.0",
      "model_name": "HTMLStyleModel",
      "state": {
       "description_width": "",
       "font_size": null,
       "text_color": null
      }
     },
     "334a7aedcf314417ab5d3f31c13e37d1": {
      "model_module": "@jupyter-widgets/controls",
      "model_module_version": "2.0.0",
      "model_name": "HTMLModel",
      "state": {
       "layout": "IPY_MODEL_2619b6e079394370a5dd8fcaa424908e",
       "style": "IPY_MODEL_5da22de5f4a546e7a24cd48cad1b5d26",
       "value": "  0%"
      }
     },
     "334af103e92041a29082baf8fafe51ef": {
      "model_module": "@jupyter-widgets/controls",
      "model_module_version": "2.0.0",
      "model_name": "HTMLStyleModel",
      "state": {
       "description_width": "",
       "font_size": null,
       "text_color": null
      }
     },
     "3364f80149a442f4aef5205d43652394": {
      "model_module": "@jupyter-widgets/controls",
      "model_module_version": "2.0.0",
      "model_name": "HTMLStyleModel",
      "state": {
       "description_width": "",
       "font_size": null,
       "text_color": null
      }
     },
     "336ff95b67a64522aeb6dd257f3710b1": {
      "model_module": "@jupyter-widgets/base",
      "model_module_version": "2.0.0",
      "model_name": "LayoutModel",
      "state": {}
     },
     "337107edb3cb49f1af0c7c2fd53581cf": {
      "model_module": "@jupyter-widgets/controls",
      "model_module_version": "2.0.0",
      "model_name": "FloatProgressModel",
      "state": {
       "bar_style": "success",
       "layout": "IPY_MODEL_0c6e5d9cbb0e44a696ecbb8db938d94c",
       "max": 631,
       "style": "IPY_MODEL_ef533a94db804d768e1434f3b000c69d",
       "value": 631
      }
     },
     "33e9bbc73ddd44388c075ea218a85bd0": {
      "model_module": "@jupyter-widgets/controls",
      "model_module_version": "2.0.0",
      "model_name": "HTMLStyleModel",
      "state": {
       "description_width": "",
       "font_size": null,
       "text_color": null
      }
     },
     "3403c19f4c454a1e850b337e76755292": {
      "model_module": "@jupyter-widgets/base",
      "model_module_version": "2.0.0",
      "model_name": "LayoutModel",
      "state": {}
     },
     "3433b3ae607d41ed97c659902c4afd6d": {
      "model_module": "@jupyter-widgets/base",
      "model_module_version": "2.0.0",
      "model_name": "LayoutModel",
      "state": {}
     },
     "3442b155085245db8ca15f33df89e97e": {
      "model_module": "@jupyter-widgets/base",
      "model_module_version": "2.0.0",
      "model_name": "LayoutModel",
      "state": {}
     },
     "34806909b1f5411ca8dfc74f00b86f6a": {
      "model_module": "@jupyter-widgets/controls",
      "model_module_version": "2.0.0",
      "model_name": "FloatProgressModel",
      "state": {
       "bar_style": "success",
       "layout": "IPY_MODEL_1426c50d1b6644e7913c5d2141dfe869",
       "max": 618,
       "style": "IPY_MODEL_8987d8f62cf94d0ca9cc838e7dd32805",
       "value": 618
      }
     },
     "349357e65749461f9016bafcb5ea0d85": {
      "model_module": "@jupyter-widgets/controls",
      "model_module_version": "2.0.0",
      "model_name": "HTMLModel",
      "state": {
       "layout": "IPY_MODEL_a7f17e6cb2c6449caecfbf11aa494c3b",
       "style": "IPY_MODEL_5fe40748fd2448468f19451041e13dd1",
       "value": " 681/681 [00:00&lt;00:00, 194837.72it/s]"
      }
     },
     "34b39f6e603d4763af82b9ce378009d0": {
      "model_module": "@jupyter-widgets/controls",
      "model_module_version": "2.0.0",
      "model_name": "HTMLStyleModel",
      "state": {
       "description_width": "",
       "font_size": null,
       "text_color": null
      }
     },
     "34bc3036f6b641779656635d80279edc": {
      "model_module": "@jupyter-widgets/controls",
      "model_module_version": "2.0.0",
      "model_name": "HTMLModel",
      "state": {
       "layout": "IPY_MODEL_9eb4e76af11a4cdf840484ea899b6a9b",
       "style": "IPY_MODEL_84666733c89b497bac6698f62f230557",
       "value": "100%"
      }
     },
     "34de72b483944512a37c2c76199639d1": {
      "model_module": "@jupyter-widgets/base",
      "model_module_version": "2.0.0",
      "model_name": "LayoutModel",
      "state": {}
     },
     "34f28fe33f8f499c9ebff279802733e4": {
      "model_module": "@jupyter-widgets/base",
      "model_module_version": "2.0.0",
      "model_name": "LayoutModel",
      "state": {}
     },
     "350e2d1015754a609c98f7d73ca420ba": {
      "model_module": "@jupyter-widgets/base",
      "model_module_version": "2.0.0",
      "model_name": "LayoutModel",
      "state": {}
     },
     "3515b97e566442718b63481df6a08ea5": {
      "model_module": "@jupyter-widgets/base",
      "model_module_version": "2.0.0",
      "model_name": "LayoutModel",
      "state": {}
     },
     "351655fa658c409096c5e675b37108ff": {
      "model_module": "@jupyter-widgets/controls",
      "model_module_version": "2.0.0",
      "model_name": "HTMLModel",
      "state": {
       "layout": "IPY_MODEL_7434f627669146848e14bf87c3895292",
       "style": "IPY_MODEL_8e32d0e13fb44227afe1f0436439ef53",
       "value": " 593/593 [00:38&lt;00:00, 15.42it/s]"
      }
     },
     "351e4d10417643b99d3ed5030fa8e731": {
      "model_module": "@jupyter-widgets/base",
      "model_module_version": "2.0.0",
      "model_name": "LayoutModel",
      "state": {}
     },
     "356c77e871584c7a8a7d5a4ffadd0615": {
      "model_module": "@jupyter-widgets/base",
      "model_module_version": "2.0.0",
      "model_name": "LayoutModel",
      "state": {}
     },
     "3573bb0d41bc492889019f7d3529f115": {
      "model_module": "@jupyter-widgets/base",
      "model_module_version": "2.0.0",
      "model_name": "LayoutModel",
      "state": {}
     },
     "35804088638f409083d05f4e708f47dc": {
      "model_module": "@jupyter-widgets/base",
      "model_module_version": "2.0.0",
      "model_name": "LayoutModel",
      "state": {}
     },
     "35b1ad5e251f4b50a5e0cf5855b8dfcc": {
      "model_module": "@jupyter-widgets/controls",
      "model_module_version": "2.0.0",
      "model_name": "FloatProgressModel",
      "state": {
       "bar_style": "success",
       "layout": "IPY_MODEL_cd8a62afaa794f038f8e1cd134dc98d3",
       "max": 681,
       "style": "IPY_MODEL_ef2a365c70014eb0840a2d622dc9c134",
       "value": 681
      }
     },
     "3605aacf507f4b16938f9794e3f5da61": {
      "model_module": "@jupyter-widgets/base",
      "model_module_version": "2.0.0",
      "model_name": "LayoutModel",
      "state": {}
     },
     "360ea9bae4c64100a94be32652a71cc4": {
      "model_module": "@jupyter-widgets/controls",
      "model_module_version": "2.0.0",
      "model_name": "FloatProgressModel",
      "state": {
       "bar_style": "success",
       "layout": "IPY_MODEL_556fa67ceaa34d01a1bb71f362d84c28",
       "max": 700,
       "style": "IPY_MODEL_26842e45e055475388a4a965fb6cd0be",
       "value": 700
      }
     },
     "3631afa1364a44bc8805b809ecececd2": {
      "model_module": "@jupyter-widgets/controls",
      "model_module_version": "2.0.0",
      "model_name": "ProgressStyleModel",
      "state": {
       "description_width": ""
      }
     },
     "36618766bf2549479044913c410af83d": {
      "model_module": "@jupyter-widgets/controls",
      "model_module_version": "2.0.0",
      "model_name": "HTMLModel",
      "state": {
       "layout": "IPY_MODEL_3403c19f4c454a1e850b337e76755292",
       "style": "IPY_MODEL_cad3207121394fdd920c96d9a71d5c0c",
       "value": " 456/456 [00:00&lt;00:00, 128673.48it/s]"
      }
     },
     "3668cfe0452742c7b0a9b4797dbb5f30": {
      "model_module": "@jupyter-widgets/base",
      "model_module_version": "2.0.0",
      "model_name": "LayoutModel",
      "state": {}
     },
     "366fef4f3dc14cdc810ec67cf787a63d": {
      "model_module": "@jupyter-widgets/base",
      "model_module_version": "2.0.0",
      "model_name": "LayoutModel",
      "state": {}
     },
     "3670a51a479e408f88dc8ff058fb3822": {
      "model_module": "@jupyter-widgets/base",
      "model_module_version": "2.0.0",
      "model_name": "LayoutModel",
      "state": {}
     },
     "3683a6a3da5a4dc7b771d98e3bb7d316": {
      "model_module": "@jupyter-widgets/controls",
      "model_module_version": "2.0.0",
      "model_name": "HTMLStyleModel",
      "state": {
       "description_width": "",
       "font_size": null,
       "text_color": null
      }
     },
     "368fcf6269594d1f9a2421ac99f139c7": {
      "model_module": "@jupyter-widgets/controls",
      "model_module_version": "2.0.0",
      "model_name": "FloatProgressModel",
      "state": {
       "bar_style": "success",
       "layout": "IPY_MODEL_be8ca29437ed423e93118236ad5330ce",
       "max": 642,
       "style": "IPY_MODEL_649ad5b6ae474766a75c2066c747634a",
       "value": 642
      }
     },
     "3695042b614c46989a7d83aa802bc027": {
      "model_module": "@jupyter-widgets/controls",
      "model_module_version": "2.0.0",
      "model_name": "HTMLModel",
      "state": {
       "layout": "IPY_MODEL_e38c68877db041b4aefa6c49dacc6d6c",
       "style": "IPY_MODEL_33e9bbc73ddd44388c075ea218a85bd0",
       "value": " 646/646 [00:00&lt;00:00, 179319.68it/s]"
      }
     },
     "36ac3a44fb6e4c2dada3a02ea8ec154f": {
      "model_module": "@jupyter-widgets/base",
      "model_module_version": "2.0.0",
      "model_name": "LayoutModel",
      "state": {}
     },
     "36c6da6206f54ef89287f7e4081ae4b3": {
      "model_module": "@jupyter-widgets/controls",
      "model_module_version": "2.0.0",
      "model_name": "HTMLModel",
      "state": {
       "layout": "IPY_MODEL_5a319979388248ca9f30009da0934cbe",
       "style": "IPY_MODEL_29c8e8b333cb4c4394f61a7f0b8179e6",
       "value": " 0/819 [00:00&lt;?, ?it/s]"
      }
     },
     "36ec798366e4489db3100850c7f75bce": {
      "model_module": "@jupyter-widgets/controls",
      "model_module_version": "2.0.0",
      "model_name": "FloatProgressModel",
      "state": {
       "bar_style": "success",
       "layout": "IPY_MODEL_4576f69f7b6144589b8449623bac85bc",
       "max": 472,
       "style": "IPY_MODEL_c376f2dd04344857b934aae720a3955b",
       "value": 472
      }
     },
     "37034d37bd144c03ab286d7f4af875b9": {
      "model_module": "@jupyter-widgets/controls",
      "model_module_version": "2.0.0",
      "model_name": "HTMLModel",
      "state": {
       "layout": "IPY_MODEL_49dac009edf740bf8387faaa926523c2",
       "style": "IPY_MODEL_f305c076c1914bb48bbf7e56b451cbf8",
       "value": "  0%"
      }
     },
     "3718387f55d341d3bd0f926652fad9fb": {
      "model_module": "@jupyter-widgets/controls",
      "model_module_version": "2.0.0",
      "model_name": "HTMLModel",
      "state": {
       "layout": "IPY_MODEL_543343e7e57d4494be7577c691e73888",
       "style": "IPY_MODEL_7b4e0192eba540978beb187321b8ccb0",
       "value": "  0%"
      }
     },
     "37336d9cad904929aff13a010fe0042f": {
      "model_module": "@jupyter-widgets/controls",
      "model_module_version": "2.0.0",
      "model_name": "FloatProgressModel",
      "state": {
       "bar_style": "success",
       "layout": "IPY_MODEL_00d563a2327247748063bfff17733f7b",
       "max": 634,
       "style": "IPY_MODEL_3f8bc17ea8ed4f438a4babe045eac35c",
       "value": 634
      }
     },
     "3739a05f333e4d9bb5eb39c12e928b4e": {
      "model_module": "@jupyter-widgets/base",
      "model_module_version": "2.0.0",
      "model_name": "LayoutModel",
      "state": {}
     },
     "37524b8c2adc4bd1970aa99775db0d5b": {
      "model_module": "@jupyter-widgets/base",
      "model_module_version": "2.0.0",
      "model_name": "LayoutModel",
      "state": {}
     },
     "3758ff9e44234ff5a3b157c15057a8d3": {
      "model_module": "@jupyter-widgets/base",
      "model_module_version": "2.0.0",
      "model_name": "LayoutModel",
      "state": {}
     },
     "3767e895567141f69389dd4636fcf6a1": {
      "model_module": "@jupyter-widgets/controls",
      "model_module_version": "2.0.0",
      "model_name": "HTMLModel",
      "state": {
       "layout": "IPY_MODEL_37524b8c2adc4bd1970aa99775db0d5b",
       "style": "IPY_MODEL_8e0b3ad035334bd69c11252e60a0eb48",
       "value": " 35%"
      }
     },
     "37b5b26a360647888ebc341e1ddd205a": {
      "model_module": "@jupyter-widgets/controls",
      "model_module_version": "2.0.0",
      "model_name": "HTMLModel",
      "state": {
       "layout": "IPY_MODEL_4e331046152d4a1dbcd9e935a940bcba",
       "style": "IPY_MODEL_801aae61b0b94ebdb640c677e6fe5f34",
       "value": "100%"
      }
     },
     "37b70f9ed91e4ea9a2f69f6991458631": {
      "model_module": "@jupyter-widgets/controls",
      "model_module_version": "2.0.0",
      "model_name": "HTMLStyleModel",
      "state": {
       "description_width": "",
       "font_size": null,
       "text_color": null
      }
     },
     "37d08c4b167b43f4be22fab5e0ef4d54": {
      "model_module": "@jupyter-widgets/controls",
      "model_module_version": "2.0.0",
      "model_name": "FloatProgressModel",
      "state": {
       "bar_style": "success",
       "layout": "IPY_MODEL_1e47c14ac2db4e75b55972191d805357",
       "max": 631,
       "style": "IPY_MODEL_11016d5c04114a4a8a214b0066011239",
       "value": 631
      }
     },
     "37d406b0a90b420199263160e0fb64c1": {
      "model_module": "@jupyter-widgets/base",
      "model_module_version": "2.0.0",
      "model_name": "LayoutModel",
      "state": {}
     },
     "37efc2c473284a7da6a546a82a456cd3": {
      "model_module": "@jupyter-widgets/base",
      "model_module_version": "2.0.0",
      "model_name": "LayoutModel",
      "state": {}
     },
     "38011653c77d4b9bb874217028541a50": {
      "model_module": "@jupyter-widgets/base",
      "model_module_version": "2.0.0",
      "model_name": "LayoutModel",
      "state": {}
     },
     "383a3856e216438e883dafb7b6f8d9c5": {
      "model_module": "@jupyter-widgets/controls",
      "model_module_version": "2.0.0",
      "model_name": "HBoxModel",
      "state": {
       "children": [
        "IPY_MODEL_7ebf54292c454b46aa1d26b073945eba",
        "IPY_MODEL_6bb83d2d877849e4bfad108534026573",
        "IPY_MODEL_50bfacb1669d4030b7d036bda797ca46"
       ],
       "layout": "IPY_MODEL_34de72b483944512a37c2c76199639d1"
      }
     },
     "383e3bae421946889330051a4b1cb879": {
      "model_module": "@jupyter-widgets/controls",
      "model_module_version": "2.0.0",
      "model_name": "FloatProgressModel",
      "state": {
       "bar_style": "success",
       "layout": "IPY_MODEL_f5f2332e7a5d4fc09d46785d0abcb3c6",
       "max": 468,
       "style": "IPY_MODEL_0a95debea40b41d7b5fba4e17acf5c06",
       "value": 468
      }
     },
     "386634505d9947979b6e5d22490faf17": {
      "model_module": "@jupyter-widgets/controls",
      "model_module_version": "2.0.0",
      "model_name": "HBoxModel",
      "state": {
       "children": [
        "IPY_MODEL_812dc799c6304610907ad69a63fade5d",
        "IPY_MODEL_d732d826dd56449eab060bea7edb0164",
        "IPY_MODEL_3695042b614c46989a7d83aa802bc027"
       ],
       "layout": "IPY_MODEL_8b36912805c0470699244e662f23b2fc"
      }
     },
     "386def26126540caa9f7166c1b365ad4": {
      "model_module": "@jupyter-widgets/controls",
      "model_module_version": "2.0.0",
      "model_name": "HTMLStyleModel",
      "state": {
       "description_width": "",
       "font_size": null,
       "text_color": null
      }
     },
     "3877d4b2845b401fb4896b0f695d00b4": {
      "model_module": "@jupyter-widgets/base",
      "model_module_version": "2.0.0",
      "model_name": "LayoutModel",
      "state": {}
     },
     "387f93acbdb64c72bdf4247b66297971": {
      "model_module": "@jupyter-widgets/base",
      "model_module_version": "2.0.0",
      "model_name": "LayoutModel",
      "state": {}
     },
     "3885557e90d842b3a1e7e087be03efd1": {
      "model_module": "@jupyter-widgets/controls",
      "model_module_version": "2.0.0",
      "model_name": "HTMLModel",
      "state": {
       "layout": "IPY_MODEL_dc03b07bac2a40df9ac9d59cd191bb27",
       "style": "IPY_MODEL_32e0d4b789c14866b375dab199712a7b",
       "value": "100%"
      }
     },
     "3895d70601e94867800d88000352133f": {
      "model_module": "@jupyter-widgets/base",
      "model_module_version": "2.0.0",
      "model_name": "LayoutModel",
      "state": {}
     },
     "389a8129d5364421b68bd45dced7066e": {
      "model_module": "@jupyter-widgets/controls",
      "model_module_version": "2.0.0",
      "model_name": "HBoxModel",
      "state": {
       "children": [
        "IPY_MODEL_c1f56fb6465a4eb192b42415109ee249",
        "IPY_MODEL_8a5489b874ed445eaf4c94e968185a87",
        "IPY_MODEL_e6e4c52557f34d32a35fa55be7f854b3"
       ],
       "layout": "IPY_MODEL_2480f5619ce447a8b7751f5f6a1f4583"
      }
     },
     "38bd3de7189f493bad1bbfcfdc071b9c": {
      "model_module": "@jupyter-widgets/controls",
      "model_module_version": "2.0.0",
      "model_name": "HTMLModel",
      "state": {
       "layout": "IPY_MODEL_a579723cb0a1481b8574880e329664f7",
       "style": "IPY_MODEL_ff6f0466225241699c82520814e26260",
       "value": " 636/636 [00:00&lt;00:00, 173613.89it/s]"
      }
     },
     "38f3ad37212c4c7ea72b1b9e35be8dba": {
      "model_module": "@jupyter-widgets/base",
      "model_module_version": "2.0.0",
      "model_name": "LayoutModel",
      "state": {}
     },
     "390d9eddeae54f6e8acea07b0df5b53a": {
      "model_module": "@jupyter-widgets/controls",
      "model_module_version": "2.0.0",
      "model_name": "HTMLStyleModel",
      "state": {
       "description_width": "",
       "font_size": null,
       "text_color": null
      }
     },
     "390f12c949f448c688eaee279bdf47ad": {
      "model_module": "@jupyter-widgets/controls",
      "model_module_version": "2.0.0",
      "model_name": "HBoxModel",
      "state": {
       "children": [
        "IPY_MODEL_627b539e8c9d485a9645f79dc8d2bed2",
        "IPY_MODEL_3b611169e93f44b28e7340f60f99d802",
        "IPY_MODEL_2dce4970db27460d92db70bfba5584fc"
       ],
       "layout": "IPY_MODEL_366fef4f3dc14cdc810ec67cf787a63d"
      }
     },
     "391582a1726445778b40700fb6e5074c": {
      "model_module": "@jupyter-widgets/controls",
      "model_module_version": "2.0.0",
      "model_name": "FloatProgressModel",
      "state": {
       "bar_style": "success",
       "layout": "IPY_MODEL_e591400a3b3547568e83a4ad084bf48b",
       "max": 646,
       "style": "IPY_MODEL_31fe5b8283ea43a1b13407b716e6890e",
       "value": 646
      }
     },
     "3916fdca318a42b78bdffec185f8db40": {
      "model_module": "@jupyter-widgets/controls",
      "model_module_version": "2.0.0",
      "model_name": "ProgressStyleModel",
      "state": {
       "description_width": ""
      }
     },
     "392d4a2cd1ba487f81fc7e18508ae645": {
      "model_module": "@jupyter-widgets/base",
      "model_module_version": "2.0.0",
      "model_name": "LayoutModel",
      "state": {}
     },
     "3967eddb7c054307b2e8130f450065dd": {
      "model_module": "@jupyter-widgets/controls",
      "model_module_version": "2.0.0",
      "model_name": "HTMLModel",
      "state": {
       "layout": "IPY_MODEL_7319a771a1834bacb6b244ec59c70172",
       "style": "IPY_MODEL_1ef811c5aca54a87b252fa7f2a762841",
       "value": " 646/646 [00:00&lt;00:00, 168230.50it/s]"
      }
     },
     "3982b4385b9e42dc9c849085dc7271c7": {
      "model_module": "@jupyter-widgets/controls",
      "model_module_version": "2.0.0",
      "model_name": "HTMLModel",
      "state": {
       "layout": "IPY_MODEL_fd523c40609743caa5f4425088dd2dd8",
       "style": "IPY_MODEL_85b2e6bde79f4d079e950d092e0f6d2c",
       "value": "100%"
      }
     },
     "3998c79b25a54588852f7d36c885953b": {
      "model_module": "@jupyter-widgets/base",
      "model_module_version": "2.0.0",
      "model_name": "LayoutModel",
      "state": {}
     },
     "399c2ce02f3a44cbb1c3b810c9fba8b3": {
      "model_module": "@jupyter-widgets/controls",
      "model_module_version": "2.0.0",
      "model_name": "ProgressStyleModel",
      "state": {
       "description_width": ""
      }
     },
     "39ba353e33704a9ea0c6766cd310da3e": {
      "model_module": "@jupyter-widgets/controls",
      "model_module_version": "2.0.0",
      "model_name": "ProgressStyleModel",
      "state": {
       "description_width": ""
      }
     },
     "39d806c3467b433aa7aa05fc84c7b349": {
      "model_module": "@jupyter-widgets/controls",
      "model_module_version": "2.0.0",
      "model_name": "HTMLStyleModel",
      "state": {
       "description_width": "",
       "font_size": null,
       "text_color": null
      }
     },
     "39db9bc3c1c7432881f2de757e9b8044": {
      "model_module": "@jupyter-widgets/controls",
      "model_module_version": "2.0.0",
      "model_name": "FloatProgressModel",
      "state": {
       "bar_style": "success",
       "layout": "IPY_MODEL_0731c6b0027d4c25b3b41dec0e012839",
       "max": 542,
       "style": "IPY_MODEL_ec2f7b6550f048ab92d800c87533665b",
       "value": 542
      }
     },
     "3a2f98c6154a48eabfa284871c80e88e": {
      "model_module": "@jupyter-widgets/controls",
      "model_module_version": "2.0.0",
      "model_name": "HBoxModel",
      "state": {
       "children": [
        "IPY_MODEL_6a5570af1fbb4c3892f42702b2989a65",
        "IPY_MODEL_ecc257b552214331b953dbb3301d7707",
        "IPY_MODEL_349357e65749461f9016bafcb5ea0d85"
       ],
       "layout": "IPY_MODEL_6052f3fa73c04d15b2d4c67ecbb0c808"
      }
     },
     "3a470a0ece4e4ebda530d2c2300f1bd6": {
      "model_module": "@jupyter-widgets/base",
      "model_module_version": "2.0.0",
      "model_name": "LayoutModel",
      "state": {}
     },
     "3a6c544ddd874ac887ab145a476b2211": {
      "model_module": "@jupyter-widgets/base",
      "model_module_version": "2.0.0",
      "model_name": "LayoutModel",
      "state": {}
     },
     "3a707885c146450e8f582a56f7a1ca73": {
      "model_module": "@jupyter-widgets/controls",
      "model_module_version": "2.0.0",
      "model_name": "HTMLModel",
      "state": {
       "layout": "IPY_MODEL_b031e8f755614a6ea8d37e1fbecc810a",
       "style": "IPY_MODEL_5442fcabc1b44c8290d9c333f8cb4947",
       "value": "100%"
      }
     },
     "3a8be1d9f3ca49e0b688ac0c88b5c985": {
      "model_module": "@jupyter-widgets/base",
      "model_module_version": "2.0.0",
      "model_name": "LayoutModel",
      "state": {}
     },
     "3a8f9060b78d4d36b1360123108bdb93": {
      "model_module": "@jupyter-widgets/controls",
      "model_module_version": "2.0.0",
      "model_name": "HTMLStyleModel",
      "state": {
       "description_width": "",
       "font_size": null,
       "text_color": null
      }
     },
     "3aa2a1df306847be9efad18b91795150": {
      "model_module": "@jupyter-widgets/base",
      "model_module_version": "2.0.0",
      "model_name": "LayoutModel",
      "state": {}
     },
     "3acfb987fdbf45ab82610cf227ac130a": {
      "model_module": "@jupyter-widgets/controls",
      "model_module_version": "2.0.0",
      "model_name": "HTMLModel",
      "state": {
       "layout": "IPY_MODEL_08911fbfe744401daae2cf0a7d19818d",
       "style": "IPY_MODEL_beb5a98521a848c9811c322ab968fc20",
       "value": " 401/401 [00:00&lt;00:00, 112322.42it/s]"
      }
     },
     "3ad4999f90954caeafcfe7f859d51fa0": {
      "model_module": "@jupyter-widgets/base",
      "model_module_version": "2.0.0",
      "model_name": "LayoutModel",
      "state": {}
     },
     "3ad558f5747e42d5ba5c38ae6e738801": {
      "model_module": "@jupyter-widgets/controls",
      "model_module_version": "2.0.0",
      "model_name": "HTMLStyleModel",
      "state": {
       "description_width": "",
       "font_size": null,
       "text_color": null
      }
     },
     "3b2832b2fa60401799aa946ad3d294ab": {
      "model_module": "@jupyter-widgets/base",
      "model_module_version": "2.0.0",
      "model_name": "LayoutModel",
      "state": {}
     },
     "3b2a8ad5c0c64258a46541ea60dbdb46": {
      "model_module": "@jupyter-widgets/controls",
      "model_module_version": "2.0.0",
      "model_name": "ProgressStyleModel",
      "state": {
       "description_width": ""
      }
     },
     "3b30234e97c5461284980f47b3c0ed74": {
      "model_module": "@jupyter-widgets/controls",
      "model_module_version": "2.0.0",
      "model_name": "FloatProgressModel",
      "state": {
       "bar_style": "success",
       "layout": "IPY_MODEL_beee9a25809144a98088470f94ff920c",
       "max": 722,
       "style": "IPY_MODEL_4c5fb31a00f143f3a44d80ba85188ef2",
       "value": 722
      }
     },
     "3b587c63a3f641a2aa63fb5193d96a78": {
      "model_module": "@jupyter-widgets/controls",
      "model_module_version": "2.0.0",
      "model_name": "HTMLStyleModel",
      "state": {
       "description_width": "",
       "font_size": null,
       "text_color": null
      }
     },
     "3b611169e93f44b28e7340f60f99d802": {
      "model_module": "@jupyter-widgets/controls",
      "model_module_version": "2.0.0",
      "model_name": "FloatProgressModel",
      "state": {
       "bar_style": "success",
       "layout": "IPY_MODEL_30f0fc160d2d4d8e86912edd5938f94b",
       "max": 704,
       "style": "IPY_MODEL_73d8c0336de246cb8c73280c3b9590a4",
       "value": 704
      }
     },
     "3bb9251d96c842d4a54a36dadc4b071b": {
      "model_module": "@jupyter-widgets/base",
      "model_module_version": "2.0.0",
      "model_name": "LayoutModel",
      "state": {}
     },
     "3bffeb674c334f05a0531413c7cc9226": {
      "model_module": "@jupyter-widgets/controls",
      "model_module_version": "2.0.0",
      "model_name": "HTMLModel",
      "state": {
       "layout": "IPY_MODEL_2df29056551a4239bd87d508b943bb6d",
       "style": "IPY_MODEL_98d88e2c1bc44fae98747fcb441b106e",
       "value": " 418/418 [00:00&lt;00:00, 117887.24it/s]"
      }
     },
     "3c196f4da3f144b482420d938867767b": {
      "model_module": "@jupyter-widgets/base",
      "model_module_version": "2.0.0",
      "model_name": "LayoutModel",
      "state": {}
     },
     "3c1ba0af6842412bb2dc64c709d736c8": {
      "model_module": "@jupyter-widgets/controls",
      "model_module_version": "2.0.0",
      "model_name": "ProgressStyleModel",
      "state": {
       "description_width": ""
      }
     },
     "3c1db3a2cacc4b52b440dc7808b9f107": {
      "model_module": "@jupyter-widgets/controls",
      "model_module_version": "2.0.0",
      "model_name": "FloatProgressModel",
      "state": {
       "bar_style": "success",
       "layout": "IPY_MODEL_ab3ff6fb022245b49b2452acc66764a8",
       "max": 634,
       "style": "IPY_MODEL_a67908f3160e48c089e4dd472d809f57",
       "value": 634
      }
     },
     "3c20e4a0e3824d399b5b5416f81638dc": {
      "model_module": "@jupyter-widgets/controls",
      "model_module_version": "2.0.0",
      "model_name": "HTMLModel",
      "state": {
       "layout": "IPY_MODEL_308c92f25b94401fa73c7d023db487af",
       "style": "IPY_MODEL_519dc4ad316341f199d94acbc0f63428",
       "value": "  0%"
      }
     },
     "3c26322b1c9846488fc6585cf257884c": {
      "model_module": "@jupyter-widgets/base",
      "model_module_version": "2.0.0",
      "model_name": "LayoutModel",
      "state": {}
     },
     "3c447bfcb9084ad183754df04aa12071": {
      "model_module": "@jupyter-widgets/controls",
      "model_module_version": "2.0.0",
      "model_name": "HTMLStyleModel",
      "state": {
       "description_width": "",
       "font_size": null,
       "text_color": null
      }
     },
     "3c71645d299a4d8fb0deb8d8498efd02": {
      "model_module": "@jupyter-widgets/controls",
      "model_module_version": "2.0.0",
      "model_name": "HTMLStyleModel",
      "state": {
       "description_width": "",
       "font_size": null,
       "text_color": null
      }
     },
     "3c86bfe9eb5a4cedaa3b911e6838d89c": {
      "model_module": "@jupyter-widgets/controls",
      "model_module_version": "2.0.0",
      "model_name": "ProgressStyleModel",
      "state": {
       "description_width": ""
      }
     },
     "3cbe89d2bf4a41558774d0886f407b77": {
      "model_module": "@jupyter-widgets/base",
      "model_module_version": "2.0.0",
      "model_name": "LayoutModel",
      "state": {}
     },
     "3ce799ea4edb4a859f3483ac0c061fdf": {
      "model_module": "@jupyter-widgets/controls",
      "model_module_version": "2.0.0",
      "model_name": "HBoxModel",
      "state": {
       "children": [
        "IPY_MODEL_15e79840d3504a5a9db2d0e3ee6adaa4",
        "IPY_MODEL_8fff9e0aedb84661a93c1445f65fe38d",
        "IPY_MODEL_48a47675f3214520ac70059dd878d131"
       ],
       "layout": "IPY_MODEL_9f76272327fb452fbb4cf3bb435fd8b5"
      }
     },
     "3d2b72457c5645669fd403d61c4f3bc5": {
      "model_module": "@jupyter-widgets/controls",
      "model_module_version": "2.0.0",
      "model_name": "HTMLModel",
      "state": {
       "layout": "IPY_MODEL_12f5c38050424bf6bd9152693a89e63f",
       "style": "IPY_MODEL_b56dfe53c83f4457a1fb72d968a62c9c",
       "value": " 709/709 [00:00&lt;00:00, 194656.12it/s]"
      }
     },
     "3d33087429c84004ab8414385b6a4d60": {
      "model_module": "@jupyter-widgets/controls",
      "model_module_version": "2.0.0",
      "model_name": "HTMLStyleModel",
      "state": {
       "description_width": "",
       "font_size": null,
       "text_color": null
      }
     },
     "3d689507cba14758843de95bcb623e40": {
      "model_module": "@jupyter-widgets/base",
      "model_module_version": "2.0.0",
      "model_name": "LayoutModel",
      "state": {}
     },
     "3d84855609964c77891f49f3207cb2e7": {
      "model_module": "@jupyter-widgets/controls",
      "model_module_version": "2.0.0",
      "model_name": "FloatProgressModel",
      "state": {
       "bar_style": "danger",
       "layout": "IPY_MODEL_0fae7793c9eb434a89d87db3b85a8de6",
       "max": 582,
       "style": "IPY_MODEL_bd3f973e2847413f85e855ac93f774df"
      }
     },
     "3d9d5d6a6e054e1ba4e6604588df706a": {
      "model_module": "@jupyter-widgets/controls",
      "model_module_version": "2.0.0",
      "model_name": "FloatProgressModel",
      "state": {
       "bar_style": "success",
       "layout": "IPY_MODEL_6bdfd35c50a241ca8bcd87111a4fbb2e",
       "max": 634,
       "style": "IPY_MODEL_f7fe311bfb9b45f488cc3a71b6dec3a3",
       "value": 634
      }
     },
     "3d9dcb180f5442078d769e6a13a5db08": {
      "model_module": "@jupyter-widgets/controls",
      "model_module_version": "2.0.0",
      "model_name": "HTMLStyleModel",
      "state": {
       "description_width": "",
       "font_size": null,
       "text_color": null
      }
     },
     "3db7175548a54786ab0a93aacd0f1dd8": {
      "model_module": "@jupyter-widgets/base",
      "model_module_version": "2.0.0",
      "model_name": "LayoutModel",
      "state": {}
     },
     "3dcc2b614b8b4d44a9dda11696fe5399": {
      "model_module": "@jupyter-widgets/controls",
      "model_module_version": "2.0.0",
      "model_name": "HTMLModel",
      "state": {
       "layout": "IPY_MODEL_5db8375c8e5d4463b16372c7324aea69",
       "style": "IPY_MODEL_aa56e6284a744252ba5e6f57217a52be",
       "value": " 716/716 [00:00&lt;00:00, 198961.29it/s]"
      }
     },
     "3e04c4c46e0e4576b9f92d1f9d2ded4e": {
      "model_module": "@jupyter-widgets/base",
      "model_module_version": "2.0.0",
      "model_name": "LayoutModel",
      "state": {}
     },
     "3e089494afe54b58a093b60542e49090": {
      "model_module": "@jupyter-widgets/controls",
      "model_module_version": "2.0.0",
      "model_name": "HBoxModel",
      "state": {
       "children": [
        "IPY_MODEL_03d555db855640829419aa1cff372f55",
        "IPY_MODEL_c6808396b3984587b311b24365356a15",
        "IPY_MODEL_dc101f0c826442fb80b9c5f4b86df82f"
       ],
       "layout": "IPY_MODEL_8cd616051228402c9bddd204ed36f538"
      }
     },
     "3e0a70ee1fac499682b993a93e610264": {
      "model_module": "@jupyter-widgets/controls",
      "model_module_version": "2.0.0",
      "model_name": "ProgressStyleModel",
      "state": {
       "description_width": ""
      }
     },
     "3e247adfd3a540d49548d97bb1f482f8": {
      "model_module": "@jupyter-widgets/controls",
      "model_module_version": "2.0.0",
      "model_name": "HTMLStyleModel",
      "state": {
       "description_width": "",
       "font_size": null,
       "text_color": null
      }
     },
     "3e4202fdf7854b20a5798132690cb73f": {
      "model_module": "@jupyter-widgets/controls",
      "model_module_version": "2.0.0",
      "model_name": "HTMLStyleModel",
      "state": {
       "description_width": "",
       "font_size": null,
       "text_color": null
      }
     },
     "3e7834132ce34ee4842731ef5fc01a45": {
      "model_module": "@jupyter-widgets/controls",
      "model_module_version": "2.0.0",
      "model_name": "HTMLStyleModel",
      "state": {
       "description_width": "",
       "font_size": null,
       "text_color": null
      }
     },
     "3e94457304694eb08f5f7635758aaecc": {
      "model_module": "@jupyter-widgets/base",
      "model_module_version": "2.0.0",
      "model_name": "LayoutModel",
      "state": {}
     },
     "3ebabf9fa31543459c0e3e5ac44533ff": {
      "model_module": "@jupyter-widgets/base",
      "model_module_version": "2.0.0",
      "model_name": "LayoutModel",
      "state": {}
     },
     "3efaa58dd79240159a53db8cb6f4ab33": {
      "model_module": "@jupyter-widgets/base",
      "model_module_version": "2.0.0",
      "model_name": "LayoutModel",
      "state": {}
     },
     "3f14e9a681394311b634aca05cdf5333": {
      "model_module": "@jupyter-widgets/base",
      "model_module_version": "2.0.0",
      "model_name": "LayoutModel",
      "state": {}
     },
     "3f4ba28c60ce492aa689d276e6c6beee": {
      "model_module": "@jupyter-widgets/controls",
      "model_module_version": "2.0.0",
      "model_name": "HTMLStyleModel",
      "state": {
       "description_width": "",
       "font_size": null,
       "text_color": null
      }
     },
     "3f68284d49bf4b66bc6c34413f085c7e": {
      "model_module": "@jupyter-widgets/controls",
      "model_module_version": "2.0.0",
      "model_name": "HTMLStyleModel",
      "state": {
       "description_width": "",
       "font_size": null,
       "text_color": null
      }
     },
     "3f7947800d79469c817857275c87d7b5": {
      "model_module": "@jupyter-widgets/controls",
      "model_module_version": "2.0.0",
      "model_name": "ProgressStyleModel",
      "state": {
       "description_width": ""
      }
     },
     "3f8bc17ea8ed4f438a4babe045eac35c": {
      "model_module": "@jupyter-widgets/controls",
      "model_module_version": "2.0.0",
      "model_name": "ProgressStyleModel",
      "state": {
       "description_width": ""
      }
     },
     "3f8f5d5e2d984a0489a27459d1aedb2b": {
      "model_module": "@jupyter-widgets/base",
      "model_module_version": "2.0.0",
      "model_name": "LayoutModel",
      "state": {}
     },
     "3f97ef0445d5443f8fd138ac454d0cc2": {
      "model_module": "@jupyter-widgets/controls",
      "model_module_version": "2.0.0",
      "model_name": "HTMLModel",
      "state": {
       "layout": "IPY_MODEL_0becd1e3811c4662aa6d4d03fa035e60",
       "style": "IPY_MODEL_626c10ea01ee436684de5486a34839cf",
       "value": " 472/472 [00:00&lt;00:00, 129596.20it/s]"
      }
     },
     "3faba02f0443418484ece274e8e15d63": {
      "model_module": "@jupyter-widgets/controls",
      "model_module_version": "2.0.0",
      "model_name": "HTMLStyleModel",
      "state": {
       "description_width": "",
       "font_size": null,
       "text_color": null
      }
     },
     "3fc07840974d408184e4886cd7b3ec96": {
      "model_module": "@jupyter-widgets/base",
      "model_module_version": "2.0.0",
      "model_name": "LayoutModel",
      "state": {}
     },
     "3fcdb0f3e1744cd1af320692ef66cda8": {
      "model_module": "@jupyter-widgets/controls",
      "model_module_version": "2.0.0",
      "model_name": "HBoxModel",
      "state": {
       "children": [
        "IPY_MODEL_d9bddadeeaf34a19b5e7f3d12422ad88",
        "IPY_MODEL_ed3d93445caf46b392f9bdc350ba1b50",
        "IPY_MODEL_bfb508213ca4483fa3c57275c932cb67"
       ],
       "layout": "IPY_MODEL_abe00270f02d44c99f9e5529106bbfd7"
      }
     },
     "3ff45b0a704041aa91b1a03e73fc27ae": {
      "model_module": "@jupyter-widgets/controls",
      "model_module_version": "2.0.0",
      "model_name": "HBoxModel",
      "state": {
       "children": [
        "IPY_MODEL_6dcbe9f42d4c42028ed6a1275b6a653c",
        "IPY_MODEL_2a11837d83824936b8dd74546b791d46",
        "IPY_MODEL_1b93fac2cbd645f89d9b4330fff00995"
       ],
       "layout": "IPY_MODEL_8fce1fca5f03447db528873b98d21f7f"
      }
     },
     "4009147435c542d28b24f2e90e3678f3": {
      "model_module": "@jupyter-widgets/controls",
      "model_module_version": "2.0.0",
      "model_name": "HBoxModel",
      "state": {
       "children": [
        "IPY_MODEL_526d10dd3e6c4ded92f482e1bdbb66b1",
        "IPY_MODEL_e370c641df8248ccbc8571481cb4cc1b",
        "IPY_MODEL_4c2113d8f06b4923b6a52277948b031c"
       ],
       "layout": "IPY_MODEL_01e0078e1e534d139ec907d4c7d573ae"
      }
     },
     "400d94d640024220a6ac8b9627475abd": {
      "model_module": "@jupyter-widgets/controls",
      "model_module_version": "2.0.0",
      "model_name": "HTMLStyleModel",
      "state": {
       "description_width": "",
       "font_size": null,
       "text_color": null
      }
     },
     "403c410e8f844f73803ef5003e6d21d2": {
      "model_module": "@jupyter-widgets/controls",
      "model_module_version": "2.0.0",
      "model_name": "HTMLStyleModel",
      "state": {
       "description_width": "",
       "font_size": null,
       "text_color": null
      }
     },
     "403c7ea9e4344f7080d90dfe2ec54fbe": {
      "model_module": "@jupyter-widgets/controls",
      "model_module_version": "2.0.0",
      "model_name": "ProgressStyleModel",
      "state": {
       "description_width": ""
      }
     },
     "4041c8204e12400dabf012736f882207": {
      "model_module": "@jupyter-widgets/controls",
      "model_module_version": "2.0.0",
      "model_name": "HTMLStyleModel",
      "state": {
       "description_width": "",
       "font_size": null,
       "text_color": null
      }
     },
     "404def8b7d8747aa8f38f460c65e8493": {
      "model_module": "@jupyter-widgets/base",
      "model_module_version": "2.0.0",
      "model_name": "LayoutModel",
      "state": {}
     },
     "40c206e0a78b4652b10c956f688669d1": {
      "model_module": "@jupyter-widgets/base",
      "model_module_version": "2.0.0",
      "model_name": "LayoutModel",
      "state": {}
     },
     "40c58d9009e14342b5d63daffa92e500": {
      "model_module": "@jupyter-widgets/controls",
      "model_module_version": "2.0.0",
      "model_name": "HBoxModel",
      "state": {
       "children": [
        "IPY_MODEL_4ba0413ee7624d5c89b404e919a583ea",
        "IPY_MODEL_8ce26ab5bc974844b13273dee3845e79",
        "IPY_MODEL_f728b66774f249f4acbb8052d10af21e"
       ],
       "layout": "IPY_MODEL_1783e3c14ba04ee185c96ac6712c04db"
      }
     },
     "40eadd51a12b454c8311bcf056f7a69e": {
      "model_module": "@jupyter-widgets/base",
      "model_module_version": "2.0.0",
      "model_name": "LayoutModel",
      "state": {}
     },
     "40ebf12949fb49cc9761bd5f489f4952": {
      "model_module": "@jupyter-widgets/controls",
      "model_module_version": "2.0.0",
      "model_name": "ProgressStyleModel",
      "state": {
       "description_width": ""
      }
     },
     "412e86f15dbe426a8045158f84b02e63": {
      "model_module": "@jupyter-widgets/controls",
      "model_module_version": "2.0.0",
      "model_name": "HBoxModel",
      "state": {
       "children": [
        "IPY_MODEL_57ad46e39e5b487d8501268c102099ac",
        "IPY_MODEL_868f7c5045a6422a917f2d83d5e4ac2d",
        "IPY_MODEL_38bd3de7189f493bad1bbfcfdc071b9c"
       ],
       "layout": "IPY_MODEL_4ccd7dc704f044898ee09e68f9194368"
      }
     },
     "4167f21f2ba040dab1d86731eadcb1dd": {
      "model_module": "@jupyter-widgets/base",
      "model_module_version": "2.0.0",
      "model_name": "LayoutModel",
      "state": {}
     },
     "416e984452dd4f8abeb92208a1de7f6c": {
      "model_module": "@jupyter-widgets/controls",
      "model_module_version": "2.0.0",
      "model_name": "ProgressStyleModel",
      "state": {
       "description_width": ""
      }
     },
     "422bf67ee3174da9b3b55152b297296a": {
      "model_module": "@jupyter-widgets/base",
      "model_module_version": "2.0.0",
      "model_name": "LayoutModel",
      "state": {}
     },
     "42464f37aaa5410eacfc1e6862b00923": {
      "model_module": "@jupyter-widgets/controls",
      "model_module_version": "2.0.0",
      "model_name": "HTMLModel",
      "state": {
       "layout": "IPY_MODEL_2d66774b65ed4585920ad3ca89cf5697",
       "style": "IPY_MODEL_98e8af8b9bc04c1abb3d5d0471397f70",
       "value": " 609/609 [00:00&lt;00:00, 170390.98it/s]"
      }
     },
     "4256edce733444dc852bbc7e5d2617e5": {
      "model_module": "@jupyter-widgets/controls",
      "model_module_version": "2.0.0",
      "model_name": "HBoxModel",
      "state": {
       "children": [
        "IPY_MODEL_99e3d687b2254c1a90190aaf86cc0a49",
        "IPY_MODEL_316b351270104c26b8b2be94c46c99a6",
        "IPY_MODEL_4b32ec9b2b184077a625a594ec669e27"
       ],
       "layout": "IPY_MODEL_56a039cab3be4f6cab469a227311c884"
      }
     },
     "4269d5e0676f432aa8212d4e739efaf2": {
      "model_module": "@jupyter-widgets/controls",
      "model_module_version": "2.0.0",
      "model_name": "HBoxModel",
      "state": {
       "children": [
        "IPY_MODEL_7107c73deabc4c11ac400dc4be9eadfb",
        "IPY_MODEL_ae5b34fcb6ed4c2da81119cc1eabca85",
        "IPY_MODEL_36c6da6206f54ef89287f7e4081ae4b3"
       ],
       "layout": "IPY_MODEL_4e93b0bcc60c4787979df0258b436ad8"
      }
     },
     "427ea8058f98430e97865a3b3f2ea0f1": {
      "model_module": "@jupyter-widgets/controls",
      "model_module_version": "2.0.0",
      "model_name": "HBoxModel",
      "state": {
       "children": [
        "IPY_MODEL_d5643946b88343be825f52730fbf8a74",
        "IPY_MODEL_d5cf888602994501aa7470376b99d23f",
        "IPY_MODEL_d634ff3095b7471b82b9f278aeed3a17"
       ],
       "layout": "IPY_MODEL_ecceb1c4e93246d0803d83d9e2aa9d1a"
      }
     },
     "42838220993c4abc811a9972b21920ce": {
      "model_module": "@jupyter-widgets/base",
      "model_module_version": "2.0.0",
      "model_name": "LayoutModel",
      "state": {}
     },
     "428eaeea3fb24dff8351c62d75ac9cdf": {
      "model_module": "@jupyter-widgets/base",
      "model_module_version": "2.0.0",
      "model_name": "LayoutModel",
      "state": {}
     },
     "42c0e9aa45a441fab0ec104078f1a6f7": {
      "model_module": "@jupyter-widgets/controls",
      "model_module_version": "2.0.0",
      "model_name": "HTMLModel",
      "state": {
       "layout": "IPY_MODEL_9f02e9c50c6d4397b5985f4ed0863c60",
       "style": "IPY_MODEL_5536233ed8b24d04b5f7a111904ec4df",
       "value": "100%"
      }
     },
     "431e257f5f9749ff8d4c0a738dbb1822": {
      "model_module": "@jupyter-widgets/base",
      "model_module_version": "2.0.0",
      "model_name": "LayoutModel",
      "state": {}
     },
     "434414b495a34f709a5cf1699835f7b8": {
      "model_module": "@jupyter-widgets/base",
      "model_module_version": "2.0.0",
      "model_name": "LayoutModel",
      "state": {}
     },
     "4349eaab9ffa4e49bd6bfb89598de55c": {
      "model_module": "@jupyter-widgets/controls",
      "model_module_version": "2.0.0",
      "model_name": "HTMLModel",
      "state": {
       "layout": "IPY_MODEL_88b1c6487a0743ee9cc9387e0d930e1a",
       "style": "IPY_MODEL_3f4ba28c60ce492aa689d276e6c6beee",
       "value": " 516/516 [00:33&lt;00:00, 15.46it/s]"
      }
     },
     "4360e9e16e794fc1b766015378aae0de": {
      "model_module": "@jupyter-widgets/base",
      "model_module_version": "2.0.0",
      "model_name": "LayoutModel",
      "state": {}
     },
     "43f4eae17739418ab70534b225eb953f": {
      "model_module": "@jupyter-widgets/controls",
      "model_module_version": "2.0.0",
      "model_name": "FloatProgressModel",
      "state": {
       "layout": "IPY_MODEL_758f6760dd1b4af097483479bd9e5ef0",
       "max": 620,
       "style": "IPY_MODEL_f91fd4f584dd420189ca4542b377c00a",
       "value": 282
      }
     },
     "43f68f68b1e949c0a14118342d35dc97": {
      "model_module": "@jupyter-widgets/base",
      "model_module_version": "2.0.0",
      "model_name": "LayoutModel",
      "state": {}
     },
     "4436f485ee194e9ea900a154af4e2129": {
      "model_module": "@jupyter-widgets/controls",
      "model_module_version": "2.0.0",
      "model_name": "HTMLStyleModel",
      "state": {
       "description_width": "",
       "font_size": null,
       "text_color": null
      }
     },
     "444f15360f174966be1e45b32da7aefe": {
      "model_module": "@jupyter-widgets/controls",
      "model_module_version": "2.0.0",
      "model_name": "HTMLModel",
      "state": {
       "layout": "IPY_MODEL_88fda7a76268446aa57b5ad2deb6a791",
       "style": "IPY_MODEL_639f7f1a2b3b4d5eae337e2839cd687a",
       "value": " 631/631 [00:40&lt;00:00, 15.53it/s]"
      }
     },
     "4470e5534a6945cab5a40bca197e15bf": {
      "model_module": "@jupyter-widgets/controls",
      "model_module_version": "2.0.0",
      "model_name": "HTMLStyleModel",
      "state": {
       "description_width": "",
       "font_size": null,
       "text_color": null
      }
     },
     "44807e5b96a7484a86cd8c15281de540": {
      "model_module": "@jupyter-widgets/controls",
      "model_module_version": "2.0.0",
      "model_name": "FloatProgressModel",
      "state": {
       "bar_style": "success",
       "layout": "IPY_MODEL_9ab037680842462f82b0f5c308a1fe36",
       "max": 630,
       "style": "IPY_MODEL_1db197690959410fab86630b46a3dfee",
       "value": 630
      }
     },
     "449450f2bc454f89964159391242eb41": {
      "model_module": "@jupyter-widgets/base",
      "model_module_version": "2.0.0",
      "model_name": "LayoutModel",
      "state": {}
     },
     "44991a23561f413f82da84694371e971": {
      "model_module": "@jupyter-widgets/base",
      "model_module_version": "2.0.0",
      "model_name": "LayoutModel",
      "state": {}
     },
     "44c7fc07e1f84374a23ff5bfbfa8a9f5": {
      "model_module": "@jupyter-widgets/controls",
      "model_module_version": "2.0.0",
      "model_name": "HTMLModel",
      "state": {
       "layout": "IPY_MODEL_57dfd929b91e479fa0e5e25083c96ed1",
       "style": "IPY_MODEL_85044804cf404c19b933e5156dfa11b2",
       "value": " 625/625 [00:40&lt;00:00, 15.43it/s]"
      }
     },
     "44e32edede3b447ca40e42e6ff92d723": {
      "model_module": "@jupyter-widgets/base",
      "model_module_version": "2.0.0",
      "model_name": "LayoutModel",
      "state": {}
     },
     "44fb73e327b042cda322dad8ecee5ab5": {
      "model_module": "@jupyter-widgets/base",
      "model_module_version": "2.0.0",
      "model_name": "LayoutModel",
      "state": {}
     },
     "4555c6679f354ca280e6d2a9e66682d0": {
      "model_module": "@jupyter-widgets/controls",
      "model_module_version": "2.0.0",
      "model_name": "ProgressStyleModel",
      "state": {
       "description_width": ""
      }
     },
     "455f7e3af53446188f6d386b0915bf1d": {
      "model_module": "@jupyter-widgets/base",
      "model_module_version": "2.0.0",
      "model_name": "LayoutModel",
      "state": {}
     },
     "4576f69f7b6144589b8449623bac85bc": {
      "model_module": "@jupyter-widgets/base",
      "model_module_version": "2.0.0",
      "model_name": "LayoutModel",
      "state": {}
     },
     "457f03dcbdac40118a85b27f345905e0": {
      "model_module": "@jupyter-widgets/base",
      "model_module_version": "2.0.0",
      "model_name": "LayoutModel",
      "state": {}
     },
     "458a518242b74254b9e36acc51c74409": {
      "model_module": "@jupyter-widgets/controls",
      "model_module_version": "2.0.0",
      "model_name": "FloatProgressModel",
      "state": {
       "bar_style": "success",
       "layout": "IPY_MODEL_f6c94007edb54a8ab32c69258d315f70",
       "max": 797,
       "style": "IPY_MODEL_1108caa2cba0481a91d9d8edab02cf1d",
       "value": 797
      }
     },
     "459217a352874b129ca355244ff89232": {
      "model_module": "@jupyter-widgets/controls",
      "model_module_version": "2.0.0",
      "model_name": "HTMLModel",
      "state": {
       "layout": "IPY_MODEL_687798b4b0954d6aa329d312278765db",
       "style": "IPY_MODEL_81a7ab2b3b4f49dd88f989387580db91",
       "value": " 625/625 [00:00&lt;00:00, 174949.28it/s]"
      }
     },
     "45a4b9a77fe846b7a3e10d6bdf107b99": {
      "model_module": "@jupyter-widgets/controls",
      "model_module_version": "2.0.0",
      "model_name": "HTMLModel",
      "state": {
       "layout": "IPY_MODEL_f0a08a4119924cf1a24d983397caa346",
       "style": "IPY_MODEL_3faba02f0443418484ece274e8e15d63",
       "value": "100%"
      }
     },
     "45b9f5e4e9f3400f90e93454a82f282c": {
      "model_module": "@jupyter-widgets/base",
      "model_module_version": "2.0.0",
      "model_name": "LayoutModel",
      "state": {}
     },
     "45d756b1eda14a3ba1ebaac584e28851": {
      "model_module": "@jupyter-widgets/controls",
      "model_module_version": "2.0.0",
      "model_name": "HBoxModel",
      "state": {
       "children": [
        "IPY_MODEL_9453a8dbcf2e496c8251688d6ed42441",
        "IPY_MODEL_7617fc463dd146cb915685d602831aa7",
        "IPY_MODEL_018cf8855c064bee97cc5394027ed554"
       ],
       "layout": "IPY_MODEL_ba4684dad784451090db00538daf8069"
      }
     },
     "45f08a8e47304f1ba3fc77a8203e6c27": {
      "model_module": "@jupyter-widgets/controls",
      "model_module_version": "2.0.0",
      "model_name": "HTMLStyleModel",
      "state": {
       "description_width": "",
       "font_size": null,
       "text_color": null
      }
     },
     "45fb16e4e7b9465f8bf7c3e0aa70c92d": {
      "model_module": "@jupyter-widgets/base",
      "model_module_version": "2.0.0",
      "model_name": "LayoutModel",
      "state": {}
     },
     "460f5651c6804843905c2781aed0cb2d": {
      "model_module": "@jupyter-widgets/controls",
      "model_module_version": "2.0.0",
      "model_name": "HTMLStyleModel",
      "state": {
       "description_width": "",
       "font_size": null,
       "text_color": null
      }
     },
     "4658edc56eeb4cc49a6dce92cad944b8": {
      "model_module": "@jupyter-widgets/base",
      "model_module_version": "2.0.0",
      "model_name": "LayoutModel",
      "state": {}
     },
     "467217989fae4bb9a95d001ef505e681": {
      "model_module": "@jupyter-widgets/controls",
      "model_module_version": "2.0.0",
      "model_name": "HTMLStyleModel",
      "state": {
       "description_width": "",
       "font_size": null,
       "text_color": null
      }
     },
     "46aa0c42f29242d39138b8da6c167a84": {
      "model_module": "@jupyter-widgets/controls",
      "model_module_version": "2.0.0",
      "model_name": "ProgressStyleModel",
      "state": {
       "description_width": ""
      }
     },
     "46aa95f1e2764dfb98ea498691c85df5": {
      "model_module": "@jupyter-widgets/base",
      "model_module_version": "2.0.0",
      "model_name": "LayoutModel",
      "state": {}
     },
     "46be359dab8047348384727bc986cf7f": {
      "model_module": "@jupyter-widgets/controls",
      "model_module_version": "2.0.0",
      "model_name": "HBoxModel",
      "state": {
       "children": [
        "IPY_MODEL_f6e0a464c7a64416941c2e608042ff76",
        "IPY_MODEL_da040df606fe47678a2e277e2e8876b5",
        "IPY_MODEL_0d2d83ddfe9c42ccb2f5bf962c8437e7"
       ],
       "layout": "IPY_MODEL_0500619b348a4d1e8a2f493756f3e4e6"
      }
     },
     "46da81bb384947d1ad8986b6ecf87276": {
      "model_module": "@jupyter-widgets/base",
      "model_module_version": "2.0.0",
      "model_name": "LayoutModel",
      "state": {}
     },
     "4711ec6955af4a38bd9cab56cc1dff50": {
      "model_module": "@jupyter-widgets/base",
      "model_module_version": "2.0.0",
      "model_name": "LayoutModel",
      "state": {}
     },
     "471344cbe5f4459cb4893097e9861e6c": {
      "model_module": "@jupyter-widgets/controls",
      "model_module_version": "2.0.0",
      "model_name": "HTMLStyleModel",
      "state": {
       "description_width": "",
       "font_size": null,
       "text_color": null
      }
     },
     "47159bd01924489a83656c66df148b01": {
      "model_module": "@jupyter-widgets/controls",
      "model_module_version": "2.0.0",
      "model_name": "ProgressStyleModel",
      "state": {
       "description_width": ""
      }
     },
     "478132d4766d4bef8658c337e5b1855e": {
      "model_module": "@jupyter-widgets/base",
      "model_module_version": "2.0.0",
      "model_name": "LayoutModel",
      "state": {}
     },
     "47d1ee0662494e30a2937a98cfe74a26": {
      "model_module": "@jupyter-widgets/controls",
      "model_module_version": "2.0.0",
      "model_name": "FloatProgressModel",
      "state": {
       "bar_style": "success",
       "layout": "IPY_MODEL_623836d3f2584102b7e5d29dbd6d70bf",
       "max": 630,
       "style": "IPY_MODEL_19a427ea194841c298f9aa70dea3f147",
       "value": 630
      }
     },
     "47d8d7ad9299409fa501189d37323945": {
      "model_module": "@jupyter-widgets/controls",
      "model_module_version": "2.0.0",
      "model_name": "FloatProgressModel",
      "state": {
       "bar_style": "success",
       "layout": "IPY_MODEL_4fd32b79ae1147398a34c4d78765de1c",
       "max": 681,
       "style": "IPY_MODEL_5fb48507578841b8a94fdde7d27994c1",
       "value": 681
      }
     },
     "47e5885f631d43dcbdaeb9e7c8abb46f": {
      "model_module": "@jupyter-widgets/base",
      "model_module_version": "2.0.0",
      "model_name": "LayoutModel",
      "state": {}
     },
     "480b944374d745139283058502bd3922": {
      "model_module": "@jupyter-widgets/controls",
      "model_module_version": "2.0.0",
      "model_name": "FloatProgressModel",
      "state": {
       "bar_style": "success",
       "layout": "IPY_MODEL_91f9b5b3c3cd487da5521ea7096d592b",
       "max": 690,
       "style": "IPY_MODEL_6bbcb3022ea54e5abd057c37d717a1a6",
       "value": 690
      }
     },
     "486288a11d9c467683d645d8f3956077": {
      "model_module": "@jupyter-widgets/controls",
      "model_module_version": "2.0.0",
      "model_name": "FloatProgressModel",
      "state": {
       "bar_style": "success",
       "layout": "IPY_MODEL_8986062b54f0401e9b87b8732c287a97",
       "max": 475,
       "style": "IPY_MODEL_4eb8b6b269414b0691c58a0268a4b45b",
       "value": 475
      }
     },
     "4898202c0587455bacde2a8c56905d33": {
      "model_module": "@jupyter-widgets/base",
      "model_module_version": "2.0.0",
      "model_name": "LayoutModel",
      "state": {}
     },
     "48a47675f3214520ac70059dd878d131": {
      "model_module": "@jupyter-widgets/controls",
      "model_module_version": "2.0.0",
      "model_name": "HTMLModel",
      "state": {
       "layout": "IPY_MODEL_1a245578f8fe4133be5943e73b3abc73",
       "style": "IPY_MODEL_802cdc8c17e14a21af37f6a9e6df4670",
       "value": " 630/630 [00:00&lt;00:00, 176090.33it/s]"
      }
     },
     "48b5a4ab0c6c46eea0623f3b419935ed": {
      "model_module": "@jupyter-widgets/controls",
      "model_module_version": "2.0.0",
      "model_name": "HBoxModel",
      "state": {
       "children": [
        "IPY_MODEL_9b0882cf3e564987bba17345d9cb3e3b",
        "IPY_MODEL_72140e1b620e4d99b9ab85dfe7cfaa1f",
        "IPY_MODEL_b98e4bbcf9f64af18ea3839344fa2e1a"
       ],
       "layout": "IPY_MODEL_d50992487be84353bd74be47c79cca67"
      }
     },
     "48f8c1de2478416fae5479f9daabcc80": {
      "model_module": "@jupyter-widgets/base",
      "model_module_version": "2.0.0",
      "model_name": "LayoutModel",
      "state": {}
     },
     "4916a894091349a9baf9e9569704980b": {
      "model_module": "@jupyter-widgets/controls",
      "model_module_version": "2.0.0",
      "model_name": "HTMLModel",
      "state": {
       "layout": "IPY_MODEL_76d5dcc829374b3ea339a93ef7afd5fe",
       "style": "IPY_MODEL_83365452cd7d483eaad043e90a77d28d",
       "value": " 516/516 [00:00&lt;00:00, 143671.06it/s]"
      }
     },
     "4935f0332891432798363e9fc9611f67": {
      "model_module": "@jupyter-widgets/base",
      "model_module_version": "2.0.0",
      "model_name": "LayoutModel",
      "state": {}
     },
     "49428e33e4584dbe80b3d0cffc0f500e": {
      "model_module": "@jupyter-widgets/base",
      "model_module_version": "2.0.0",
      "model_name": "LayoutModel",
      "state": {}
     },
     "497c9989ad624c2ea89255d938e6cea1": {
      "model_module": "@jupyter-widgets/base",
      "model_module_version": "2.0.0",
      "model_name": "LayoutModel",
      "state": {}
     },
     "49a205b4bb934af48370f5ed2fb26586": {
      "model_module": "@jupyter-widgets/controls",
      "model_module_version": "2.0.0",
      "model_name": "HTMLStyleModel",
      "state": {
       "description_width": "",
       "font_size": null,
       "text_color": null
      }
     },
     "49a67fb4dd1e4b5b84b1a5cb73ea344a": {
      "model_module": "@jupyter-widgets/controls",
      "model_module_version": "2.0.0",
      "model_name": "HTMLStyleModel",
      "state": {
       "description_width": "",
       "font_size": null,
       "text_color": null
      }
     },
     "49b3deec376e4b2fa672f702131b1e79": {
      "model_module": "@jupyter-widgets/base",
      "model_module_version": "2.0.0",
      "model_name": "LayoutModel",
      "state": {}
     },
     "49dac009edf740bf8387faaa926523c2": {
      "model_module": "@jupyter-widgets/base",
      "model_module_version": "2.0.0",
      "model_name": "LayoutModel",
      "state": {}
     },
     "4a2b8fe7ece9475aa7b875d5d3700d08": {
      "model_module": "@jupyter-widgets/base",
      "model_module_version": "2.0.0",
      "model_name": "LayoutModel",
      "state": {}
     },
     "4a576acb0a344300a5278be28c32defd": {
      "model_module": "@jupyter-widgets/controls",
      "model_module_version": "2.0.0",
      "model_name": "ProgressStyleModel",
      "state": {
       "description_width": ""
      }
     },
     "4a739f2d8f43408ebcee9671c53ee8c3": {
      "model_module": "@jupyter-widgets/base",
      "model_module_version": "2.0.0",
      "model_name": "LayoutModel",
      "state": {}
     },
     "4ab88d9dab384bfe9a2c02051577e09e": {
      "model_module": "@jupyter-widgets/base",
      "model_module_version": "2.0.0",
      "model_name": "LayoutModel",
      "state": {}
     },
     "4ac38cea7d5140c09c63ceb97931b6b8": {
      "model_module": "@jupyter-widgets/controls",
      "model_module_version": "2.0.0",
      "model_name": "HTMLStyleModel",
      "state": {
       "description_width": "",
       "font_size": null,
       "text_color": null
      }
     },
     "4aebc549e3c347a5af5637c655fa9e01": {
      "model_module": "@jupyter-widgets/controls",
      "model_module_version": "2.0.0",
      "model_name": "HTMLModel",
      "state": {
       "layout": "IPY_MODEL_5753e963ade441fcb4c6128187061f5d",
       "style": "IPY_MODEL_c5d9d974b4e94f729c94bdcd8947757b",
       "value": " 618/618 [00:39&lt;00:00, 15.57it/s]"
      }
     },
     "4b0bf021a2f94c8bb3a9b2409ff8db1a": {
      "model_module": "@jupyter-widgets/base",
      "model_module_version": "2.0.0",
      "model_name": "LayoutModel",
      "state": {}
     },
     "4b176e6ea14c46e9a2f39e983e051510": {
      "model_module": "@jupyter-widgets/controls",
      "model_module_version": "2.0.0",
      "model_name": "HTMLStyleModel",
      "state": {
       "description_width": "",
       "font_size": null,
       "text_color": null
      }
     },
     "4b32ec9b2b184077a625a594ec669e27": {
      "model_module": "@jupyter-widgets/controls",
      "model_module_version": "2.0.0",
      "model_name": "HTMLModel",
      "state": {
       "layout": "IPY_MODEL_924c4a6c4e734fda9cdd2b519b428953",
       "style": "IPY_MODEL_dc0cae0f89c44fd281a406b405085822",
       "value": " 625/625 [00:00&lt;00:00, 171112.27it/s]"
      }
     },
     "4b34423a96844fe8b8795a7f6825e273": {
      "model_module": "@jupyter-widgets/controls",
      "model_module_version": "2.0.0",
      "model_name": "FloatProgressModel",
      "state": {
       "bar_style": "success",
       "layout": "IPY_MODEL_7b726225631c46f589d9dd994e50c60c",
       "max": 418,
       "style": "IPY_MODEL_5ce7cda3476148f3b8c4b61c9aa01c44",
       "value": 418
      }
     },
     "4b3584da9ff842c99803913aca0001aa": {
      "model_module": "@jupyter-widgets/controls",
      "model_module_version": "2.0.0",
      "model_name": "HTMLStyleModel",
      "state": {
       "description_width": "",
       "font_size": null,
       "text_color": null
      }
     },
     "4b718c06c0d14a6bb41879dea3df6bac": {
      "model_module": "@jupyter-widgets/base",
      "model_module_version": "2.0.0",
      "model_name": "LayoutModel",
      "state": {}
     },
     "4ba0413ee7624d5c89b404e919a583ea": {
      "model_module": "@jupyter-widgets/controls",
      "model_module_version": "2.0.0",
      "model_name": "HTMLModel",
      "state": {
       "layout": "IPY_MODEL_cfe155da4eeb428ca1a852721c026c5b",
       "style": "IPY_MODEL_95fd6b3195e34275818f67372a4e812f",
       "value": "100%"
      }
     },
     "4bc9bc3f3fbd4466996db3ca182f27ba": {
      "model_module": "@jupyter-widgets/controls",
      "model_module_version": "2.0.0",
      "model_name": "HTMLModel",
      "state": {
       "layout": "IPY_MODEL_c9e01a740be6422bab4488375e0058eb",
       "style": "IPY_MODEL_e9760c3eab7c411a8428043bdd3f0b3b",
       "value": " 639/639 [00:00&lt;00:00, 176884.92it/s]"
      }
     },
     "4bd08eca8a1747469412bd6df4acc1b8": {
      "model_module": "@jupyter-widgets/base",
      "model_module_version": "2.0.0",
      "model_name": "LayoutModel",
      "state": {}
     },
     "4be7f43cbfc04cba929f88111eb76997": {
      "model_module": "@jupyter-widgets/base",
      "model_module_version": "2.0.0",
      "model_name": "LayoutModel",
      "state": {}
     },
     "4c01c00afeed4b3bbfd5d742c85ad260": {
      "model_module": "@jupyter-widgets/controls",
      "model_module_version": "2.0.0",
      "model_name": "HTMLStyleModel",
      "state": {
       "description_width": "",
       "font_size": null,
       "text_color": null
      }
     },
     "4c10f3427a944aef84ad8288cad56109": {
      "model_module": "@jupyter-widgets/controls",
      "model_module_version": "2.0.0",
      "model_name": "FloatProgressModel",
      "state": {
       "bar_style": "success",
       "layout": "IPY_MODEL_7a029a891145410bbb259c06fa86f2b0",
       "max": 450,
       "style": "IPY_MODEL_0e92385bf71c48db8f8565b760dab796",
       "value": 450
      }
     },
     "4c1420b967fb474780e900096a760866": {
      "model_module": "@jupyter-widgets/controls",
      "model_module_version": "2.0.0",
      "model_name": "HTMLModel",
      "state": {
       "layout": "IPY_MODEL_b6e738de3bed4185aeffdb3332f7065b",
       "style": "IPY_MODEL_4f070277733b4afc991d0529ef79386b",
       "value": " 344/344 [00:00&lt;00:00, 94045.14it/s]"
      }
     },
     "4c2113d8f06b4923b6a52277948b031c": {
      "model_module": "@jupyter-widgets/controls",
      "model_module_version": "2.0.0",
      "model_name": "HTMLModel",
      "state": {
       "layout": "IPY_MODEL_c35eadc93b2e4b00a26cbfb311737b88",
       "style": "IPY_MODEL_716340c3f6c34e0dae59147699460bfe",
       "value": " 492/492 [00:00&lt;00:00, 135184.90it/s]"
      }
     },
     "4c32f69e60ed4087a8bd261f9aeb73bd": {
      "model_module": "@jupyter-widgets/base",
      "model_module_version": "2.0.0",
      "model_name": "LayoutModel",
      "state": {}
     },
     "4c58a8ca9c9b4d40b687cbf20161f6f5": {
      "model_module": "@jupyter-widgets/controls",
      "model_module_version": "2.0.0",
      "model_name": "ProgressStyleModel",
      "state": {
       "description_width": ""
      }
     },
     "4c5fb31a00f143f3a44d80ba85188ef2": {
      "model_module": "@jupyter-widgets/controls",
      "model_module_version": "2.0.0",
      "model_name": "ProgressStyleModel",
      "state": {
       "description_width": ""
      }
     },
     "4cc3ed8bb4e243769c41db0c92b41f0d": {
      "model_module": "@jupyter-widgets/controls",
      "model_module_version": "2.0.0",
      "model_name": "HTMLStyleModel",
      "state": {
       "description_width": "",
       "font_size": null,
       "text_color": null
      }
     },
     "4ccd7dc704f044898ee09e68f9194368": {
      "model_module": "@jupyter-widgets/base",
      "model_module_version": "2.0.0",
      "model_name": "LayoutModel",
      "state": {}
     },
     "4d2019b5145f4b348a0b6f1a3db1ea44": {
      "model_module": "@jupyter-widgets/base",
      "model_module_version": "2.0.0",
      "model_name": "LayoutModel",
      "state": {}
     },
     "4d4cd05711bc4ef09880bcd538acaf15": {
      "model_module": "@jupyter-widgets/controls",
      "model_module_version": "2.0.0",
      "model_name": "HTMLModel",
      "state": {
       "layout": "IPY_MODEL_774aa1ed363c4675b335aa99f572c0c8",
       "style": "IPY_MODEL_61c4a0ebf5874ec1b649c22cc9196781",
       "value": "100%"
      }
     },
     "4d54e6652ea5419e975d0903789e8ca1": {
      "model_module": "@jupyter-widgets/controls",
      "model_module_version": "2.0.0",
      "model_name": "HTMLModel",
      "state": {
       "layout": "IPY_MODEL_af0170e1a975483482b80fb466327dff",
       "style": "IPY_MODEL_69445f463d8c4af4a818a9ba62e3b95e",
       "value": "100%"
      }
     },
     "4d5ba7cab4424eb49653906ff6762245": {
      "model_module": "@jupyter-widgets/controls",
      "model_module_version": "2.0.0",
      "model_name": "HTMLModel",
      "state": {
       "layout": "IPY_MODEL_09633217cb644b18a669bd047293d4a6",
       "style": "IPY_MODEL_9bcc9e3d7d5d4af488f7127328775436",
       "value": "100%"
      }
     },
     "4d7bf0d914b14d3399d1112790f2676e": {
      "model_module": "@jupyter-widgets/controls",
      "model_module_version": "2.0.0",
      "model_name": "ProgressStyleModel",
      "state": {
       "description_width": ""
      }
     },
     "4d8a951d93874594b349a6888715e4ab": {
      "model_module": "@jupyter-widgets/base",
      "model_module_version": "2.0.0",
      "model_name": "LayoutModel",
      "state": {}
     },
     "4daf703d295749f9a772a914274f7485": {
      "model_module": "@jupyter-widgets/base",
      "model_module_version": "2.0.0",
      "model_name": "LayoutModel",
      "state": {}
     },
     "4de4e94b957d4636a13525a52bbc1fa9": {
      "model_module": "@jupyter-widgets/controls",
      "model_module_version": "2.0.0",
      "model_name": "HTMLStyleModel",
      "state": {
       "description_width": "",
       "font_size": null,
       "text_color": null
      }
     },
     "4df5180aaf6a401cbe5c923ba2625a22": {
      "model_module": "@jupyter-widgets/base",
      "model_module_version": "2.0.0",
      "model_name": "LayoutModel",
      "state": {}
     },
     "4e0e42be343a4cf0b3ed356d9838f9b6": {
      "model_module": "@jupyter-widgets/base",
      "model_module_version": "2.0.0",
      "model_name": "LayoutModel",
      "state": {}
     },
     "4e14df1576824441b78ed8b81990fa8b": {
      "model_module": "@jupyter-widgets/controls",
      "model_module_version": "2.0.0",
      "model_name": "HTMLStyleModel",
      "state": {
       "description_width": "",
       "font_size": null,
       "text_color": null
      }
     },
     "4e268ae0321a4cd4b171d5d1640f6d8e": {
      "model_module": "@jupyter-widgets/base",
      "model_module_version": "2.0.0",
      "model_name": "LayoutModel",
      "state": {}
     },
     "4e2fdd06817b4c08be176aa8450eff95": {
      "model_module": "@jupyter-widgets/controls",
      "model_module_version": "2.0.0",
      "model_name": "HTMLStyleModel",
      "state": {
       "description_width": "",
       "font_size": null,
       "text_color": null
      }
     },
     "4e331046152d4a1dbcd9e935a940bcba": {
      "model_module": "@jupyter-widgets/base",
      "model_module_version": "2.0.0",
      "model_name": "LayoutModel",
      "state": {}
     },
     "4e4ba17f186a4f23b09c5a23ecfb67f5": {
      "model_module": "@jupyter-widgets/controls",
      "model_module_version": "2.0.0",
      "model_name": "ProgressStyleModel",
      "state": {
       "description_width": ""
      }
     },
     "4e4e6e74abb84db8a000bfae285f105b": {
      "model_module": "@jupyter-widgets/controls",
      "model_module_version": "2.0.0",
      "model_name": "HTMLModel",
      "state": {
       "layout": "IPY_MODEL_b1508ef0f6904e42b6f7947c7bdb693f",
       "style": "IPY_MODEL_d67d66f7120e4643aed176ed23380487",
       "value": " 663/663 [00:00&lt;00:00, 182900.79it/s]"
      }
     },
     "4e56b1fc8fbc411895498763be0b8cb1": {
      "model_module": "@jupyter-widgets/controls",
      "model_module_version": "2.0.0",
      "model_name": "HTMLModel",
      "state": {
       "layout": "IPY_MODEL_de8fe5d90c114f72a876c42242713760",
       "style": "IPY_MODEL_78fc6308eff644c09f2182ba4d207fd0",
       "value": "100%"
      }
     },
     "4e5ff940139349c08176b7dbd0f802ad": {
      "model_module": "@jupyter-widgets/controls",
      "model_module_version": "2.0.0",
      "model_name": "ProgressStyleModel",
      "state": {
       "description_width": ""
      }
     },
     "4e66d7148609482680fd7f94a4b399c5": {
      "model_module": "@jupyter-widgets/controls",
      "model_module_version": "2.0.0",
      "model_name": "HTMLModel",
      "state": {
       "layout": "IPY_MODEL_3db7175548a54786ab0a93aacd0f1dd8",
       "style": "IPY_MODEL_923e983986cd4e90aafa12f2f7fb08cc",
       "value": " 471/471 [00:00&lt;00:00, 128388.72it/s]"
      }
     },
     "4e8319e4325042b9ac7a9d68b47367f8": {
      "model_module": "@jupyter-widgets/controls",
      "model_module_version": "2.0.0",
      "model_name": "ProgressStyleModel",
      "state": {
       "description_width": ""
      }
     },
     "4e93b0bcc60c4787979df0258b436ad8": {
      "model_module": "@jupyter-widgets/base",
      "model_module_version": "2.0.0",
      "model_name": "LayoutModel",
      "state": {}
     },
     "4eb8b6b269414b0691c58a0268a4b45b": {
      "model_module": "@jupyter-widgets/controls",
      "model_module_version": "2.0.0",
      "model_name": "ProgressStyleModel",
      "state": {
       "description_width": ""
      }
     },
     "4ebdb5db2c3348c68b230f6980b6ccbc": {
      "model_module": "@jupyter-widgets/base",
      "model_module_version": "2.0.0",
      "model_name": "LayoutModel",
      "state": {}
     },
     "4ee96624eccf433799200e37e8c244bd": {
      "model_module": "@jupyter-widgets/controls",
      "model_module_version": "2.0.0",
      "model_name": "ProgressStyleModel",
      "state": {
       "description_width": ""
      }
     },
     "4f070277733b4afc991d0529ef79386b": {
      "model_module": "@jupyter-widgets/controls",
      "model_module_version": "2.0.0",
      "model_name": "HTMLStyleModel",
      "state": {
       "description_width": "",
       "font_size": null,
       "text_color": null
      }
     },
     "4f0ea792b3324ff28feb22138a7f57df": {
      "model_module": "@jupyter-widgets/controls",
      "model_module_version": "2.0.0",
      "model_name": "HTMLStyleModel",
      "state": {
       "description_width": "",
       "font_size": null,
       "text_color": null
      }
     },
     "4f3b47718d994e63ba6991abd07d0e71": {
      "model_module": "@jupyter-widgets/controls",
      "model_module_version": "2.0.0",
      "model_name": "HTMLStyleModel",
      "state": {
       "description_width": "",
       "font_size": null,
       "text_color": null
      }
     },
     "4f5333f566e948559fd98b11d3032e6f": {
      "model_module": "@jupyter-widgets/controls",
      "model_module_version": "2.0.0",
      "model_name": "FloatProgressModel",
      "state": {
       "bar_style": "success",
       "layout": "IPY_MODEL_8d9e9e8b9b404bcfa21722bfe670a5a0",
       "max": 654,
       "style": "IPY_MODEL_d1a0ce6156fd4743bf9d1bc3073e8a19",
       "value": 654
      }
     },
     "4f59ef226fff483ca33c96787c50a1b0": {
      "model_module": "@jupyter-widgets/controls",
      "model_module_version": "2.0.0",
      "model_name": "HTMLStyleModel",
      "state": {
       "description_width": "",
       "font_size": null,
       "text_color": null
      }
     },
     "4f66848819ac4bf3b740dcbc872a9335": {
      "model_module": "@jupyter-widgets/controls",
      "model_module_version": "2.0.0",
      "model_name": "HTMLModel",
      "state": {
       "layout": "IPY_MODEL_6b0fb396d7c84b7684611d40f5d3c647",
       "style": "IPY_MODEL_961ccf5b4b1a4a589d59413a6e8ca77a",
       "value": " 596/596 [00:00&lt;00:00, 165604.85it/s]"
      }
     },
     "4f7a2ddad4eb44c4a3d8510030727731": {
      "model_module": "@jupyter-widgets/controls",
      "model_module_version": "2.0.0",
      "model_name": "FloatProgressModel",
      "state": {
       "bar_style": "success",
       "layout": "IPY_MODEL_bb6d192c6f844fb88aacbcfb1920d7bd",
       "max": 625,
       "style": "IPY_MODEL_775aae781c2f45cfa0bdc4d480342a26",
       "value": 625
      }
     },
     "4fb334cbbd874c1ba14cc2149a746d94": {
      "model_module": "@jupyter-widgets/base",
      "model_module_version": "2.0.0",
      "model_name": "LayoutModel",
      "state": {}
     },
     "4fbdc2e5f604489b85d62033d19edfc3": {
      "model_module": "@jupyter-widgets/base",
      "model_module_version": "2.0.0",
      "model_name": "LayoutModel",
      "state": {}
     },
     "4fc08550524245c1a188096520fd90bc": {
      "model_module": "@jupyter-widgets/base",
      "model_module_version": "2.0.0",
      "model_name": "LayoutModel",
      "state": {}
     },
     "4fc8f65aca1b4161b4d376dd58b736f0": {
      "model_module": "@jupyter-widgets/controls",
      "model_module_version": "2.0.0",
      "model_name": "HTMLModel",
      "state": {
       "layout": "IPY_MODEL_92f16a550c8b4118a9d49a2268004e40",
       "style": "IPY_MODEL_b2be656617224f4b89d2e4ec6ca25ee0",
       "value": "100%"
      }
     },
     "4fd32b79ae1147398a34c4d78765de1c": {
      "model_module": "@jupyter-widgets/base",
      "model_module_version": "2.0.0",
      "model_name": "LayoutModel",
      "state": {}
     },
     "4fd9ada03d534720bea1fbe6a6f4d6ba": {
      "model_module": "@jupyter-widgets/controls",
      "model_module_version": "2.0.0",
      "model_name": "HTMLModel",
      "state": {
       "layout": "IPY_MODEL_fa87cc94c2cb482baec28dabc28374ea",
       "style": "IPY_MODEL_1ccdd94012c44d69b3aced0dbc5bc229",
       "value": "100%"
      }
     },
     "4fe3f39e995544728e6193512e87841c": {
      "model_module": "@jupyter-widgets/base",
      "model_module_version": "2.0.0",
      "model_name": "LayoutModel",
      "state": {}
     },
     "500cd8aaed214e89916d56842447683f": {
      "model_module": "@jupyter-widgets/controls",
      "model_module_version": "2.0.0",
      "model_name": "ProgressStyleModel",
      "state": {
       "description_width": ""
      }
     },
     "50128cda0caa4bd18b7030c282032994": {
      "model_module": "@jupyter-widgets/controls",
      "model_module_version": "2.0.0",
      "model_name": "HTMLStyleModel",
      "state": {
       "description_width": "",
       "font_size": null,
       "text_color": null
      }
     },
     "5031124538ec45358f5ed667adb1a5c8": {
      "model_module": "@jupyter-widgets/controls",
      "model_module_version": "2.0.0",
      "model_name": "FloatProgressModel",
      "state": {
       "bar_style": "success",
       "layout": "IPY_MODEL_b37811fba86047209bbac8564e4a2227",
       "max": 601,
       "style": "IPY_MODEL_a9b17ef359484fb78dd258df827f067e",
       "value": 601
      }
     },
     "5048837c58b44c1c8db1abf21b84761e": {
      "model_module": "@jupyter-widgets/controls",
      "model_module_version": "2.0.0",
      "model_name": "FloatProgressModel",
      "state": {
       "bar_style": "success",
       "layout": "IPY_MODEL_6be2994a89a9426a90d81818d6ed43ef",
       "max": 625,
       "style": "IPY_MODEL_fae39819c3024360a07e40cfccacd305",
       "value": 625
      }
     },
     "504a9e841e0c49e58e15f3aa0be4fdf9": {
      "model_module": "@jupyter-widgets/controls",
      "model_module_version": "2.0.0",
      "model_name": "HTMLStyleModel",
      "state": {
       "description_width": "",
       "font_size": null,
       "text_color": null
      }
     },
     "50bfacb1669d4030b7d036bda797ca46": {
      "model_module": "@jupyter-widgets/controls",
      "model_module_version": "2.0.0",
      "model_name": "HTMLModel",
      "state": {
       "layout": "IPY_MODEL_60eae342e57c40fdabad77f2e892e058",
       "style": "IPY_MODEL_245c85ec3e084c0f8027b0c2d9a5f1d8",
       "value": " 0/715 [00:00&lt;?, ?it/s]"
      }
     },
     "50c65651065b405c8cacc5a3cac8ffb3": {
      "model_module": "@jupyter-widgets/controls",
      "model_module_version": "2.0.0",
      "model_name": "HTMLModel",
      "state": {
       "layout": "IPY_MODEL_89942d823e6441ff8b362ac93b0ee34f",
       "style": "IPY_MODEL_5b33fdd6d7584c1a89c7a1c45c845b87",
       "value": "100%"
      }
     },
     "50f6f845d76349bfb714c9e98375621f": {
      "model_module": "@jupyter-widgets/controls",
      "model_module_version": "2.0.0",
      "model_name": "HBoxModel",
      "state": {
       "children": [
        "IPY_MODEL_ff187854edc74da88e87d7fa1fdf4661",
        "IPY_MODEL_8efeadf607714540bf96c073e43f9f97",
        "IPY_MODEL_a13feda3af5843f08d29fcd910f7ea14"
       ],
       "layout": "IPY_MODEL_80e6f4a6dad14e4c90f0a0e9fd5e2058"
      }
     },
     "50fbdb45d3a94d9e9e131ea24b7d460a": {
      "model_module": "@jupyter-widgets/controls",
      "model_module_version": "2.0.0",
      "model_name": "ProgressStyleModel",
      "state": {
       "description_width": ""
      }
     },
     "5109059c32424ee89f8dc2fb90a5d9ad": {
      "model_module": "@jupyter-widgets/base",
      "model_module_version": "2.0.0",
      "model_name": "LayoutModel",
      "state": {}
     },
     "510a3a5a34e943308941dce56502e63e": {
      "model_module": "@jupyter-widgets/controls",
      "model_module_version": "2.0.0",
      "model_name": "HTMLModel",
      "state": {
       "layout": "IPY_MODEL_2055775de8ff41b5a472fe4fc2dcbc8b",
       "style": "IPY_MODEL_8a55c649cbca44d997785bc23ca529d9",
       "value": "100%"
      }
     },
     "518f9fd172094905bc315ecfd3b7b515": {
      "model_module": "@jupyter-widgets/controls",
      "model_module_version": "2.0.0",
      "model_name": "HTMLStyleModel",
      "state": {
       "description_width": "",
       "font_size": null,
       "text_color": null
      }
     },
     "5196789b72e3488690af1e6b55a494f8": {
      "model_module": "@jupyter-widgets/base",
      "model_module_version": "2.0.0",
      "model_name": "LayoutModel",
      "state": {}
     },
     "519dc4ad316341f199d94acbc0f63428": {
      "model_module": "@jupyter-widgets/controls",
      "model_module_version": "2.0.0",
      "model_name": "HTMLStyleModel",
      "state": {
       "description_width": "",
       "font_size": null,
       "text_color": null
      }
     },
     "51efcd0cc74a429c9467a4b640b0699a": {
      "model_module": "@jupyter-widgets/base",
      "model_module_version": "2.0.0",
      "model_name": "LayoutModel",
      "state": {}
     },
     "5215513cae9847cd8c12bb9373da00d9": {
      "model_module": "@jupyter-widgets/controls",
      "model_module_version": "2.0.0",
      "model_name": "HTMLModel",
      "state": {
       "layout": "IPY_MODEL_e1688f26e9454de1a5724294ebcccad3",
       "style": "IPY_MODEL_2ce99fbb1acc430388403de1a4660bfc",
       "value": "100%"
      }
     },
     "5228df4721ef435393c5ebf092ef6b7b": {
      "model_module": "@jupyter-widgets/controls",
      "model_module_version": "2.0.0",
      "model_name": "ProgressStyleModel",
      "state": {
       "description_width": ""
      }
     },
     "523701b969bb489d966c6e198cfc0626": {
      "model_module": "@jupyter-widgets/base",
      "model_module_version": "2.0.0",
      "model_name": "LayoutModel",
      "state": {}
     },
     "526a9c5a56ff4e4da724032722fb0661": {
      "model_module": "@jupyter-widgets/controls",
      "model_module_version": "2.0.0",
      "model_name": "ProgressStyleModel",
      "state": {
       "description_width": ""
      }
     },
     "526d10dd3e6c4ded92f482e1bdbb66b1": {
      "model_module": "@jupyter-widgets/controls",
      "model_module_version": "2.0.0",
      "model_name": "HTMLModel",
      "state": {
       "layout": "IPY_MODEL_2631fce7950943af95be9ae7f30ec588",
       "style": "IPY_MODEL_218379e005014e0082c25e930af22e98",
       "value": "100%"
      }
     },
     "52992029f2944382b88c1885f2b0949a": {
      "model_module": "@jupyter-widgets/controls",
      "model_module_version": "2.0.0",
      "model_name": "HBoxModel",
      "state": {
       "children": [
        "IPY_MODEL_37034d37bd144c03ab286d7f4af875b9",
        "IPY_MODEL_3d84855609964c77891f49f3207cb2e7",
        "IPY_MODEL_6091fe6ee1994e1c9abd882ed5b49b5c"
       ],
       "layout": "IPY_MODEL_87d6503f49c64e0fb4032757d7c30c1e"
      }
     },
     "52d4cb77a72047278dda11ed3d496b83": {
      "model_module": "@jupyter-widgets/controls",
      "model_module_version": "2.0.0",
      "model_name": "HTMLStyleModel",
      "state": {
       "description_width": "",
       "font_size": null,
       "text_color": null
      }
     },
     "52df7f6752364f66b71a542a72ed6ef2": {
      "model_module": "@jupyter-widgets/base",
      "model_module_version": "2.0.0",
      "model_name": "LayoutModel",
      "state": {}
     },
     "52ec59a8455949d393cfdb4247f6c5ec": {
      "model_module": "@jupyter-widgets/base",
      "model_module_version": "2.0.0",
      "model_name": "LayoutModel",
      "state": {}
     },
     "52ee21c1548f43dbadc4cd2d26801b74": {
      "model_module": "@jupyter-widgets/controls",
      "model_module_version": "2.0.0",
      "model_name": "HTMLStyleModel",
      "state": {
       "description_width": "",
       "font_size": null,
       "text_color": null
      }
     },
     "52fefa2d3e214220b422c6df982cf0b2": {
      "model_module": "@jupyter-widgets/controls",
      "model_module_version": "2.0.0",
      "model_name": "HTMLStyleModel",
      "state": {
       "description_width": "",
       "font_size": null,
       "text_color": null
      }
     },
     "532ed004bd804ff5b10b6f848e1922b3": {
      "model_module": "@jupyter-widgets/controls",
      "model_module_version": "2.0.0",
      "model_name": "FloatProgressModel",
      "state": {
       "bar_style": "success",
       "layout": "IPY_MODEL_cb34ed042fcc4f358f5f4a08cc4fdca1",
       "max": 632,
       "style": "IPY_MODEL_67f02b1ff23849a98473411c0059753d",
       "value": 632
      }
     },
     "533f5655dd594787be00fb3c2aa07a3c": {
      "model_module": "@jupyter-widgets/controls",
      "model_module_version": "2.0.0",
      "model_name": "HTMLModel",
      "state": {
       "layout": "IPY_MODEL_fdb15cdbaba44c5a9a0874747dfd2081",
       "style": "IPY_MODEL_c2a393c98de94ca48263f4c79049a0bb",
       "value": " 653/653 [00:00&lt;00:00, 182421.77it/s]"
      }
     },
     "534f9907050145dc8b8d9f4404c29acc": {
      "model_module": "@jupyter-widgets/controls",
      "model_module_version": "2.0.0",
      "model_name": "HTMLStyleModel",
      "state": {
       "description_width": "",
       "font_size": null,
       "text_color": null
      }
     },
     "535515e0f3d54841a271fa5c2c67cd52": {
      "model_module": "@jupyter-widgets/controls",
      "model_module_version": "2.0.0",
      "model_name": "HTMLStyleModel",
      "state": {
       "description_width": "",
       "font_size": null,
       "text_color": null
      }
     },
     "53ae54eecb954160ba472bd025ffb8c9": {
      "model_module": "@jupyter-widgets/controls",
      "model_module_version": "2.0.0",
      "model_name": "HBoxModel",
      "state": {
       "children": [
        "IPY_MODEL_f41030de6147457c9b481365411f744f",
        "IPY_MODEL_4b34423a96844fe8b8795a7f6825e273",
        "IPY_MODEL_3bffeb674c334f05a0531413c7cc9226"
       ],
       "layout": "IPY_MODEL_f6de8ef3e11847dcb41a2c2a73c0e555"
      }
     },
     "53c9db0935004d8c814ac7e5a2133127": {
      "model_module": "@jupyter-widgets/controls",
      "model_module_version": "2.0.0",
      "model_name": "HBoxModel",
      "state": {
       "children": [
        "IPY_MODEL_599a5215f58546fd88d5c6d37a912821",
        "IPY_MODEL_0764728ba4a84ad0a197ffc1ed50d1c6",
        "IPY_MODEL_2ef6d1d01179429396e5b93cda4968f6"
       ],
       "layout": "IPY_MODEL_fc4a8b07ed3e4b80ab734b5b4016793d"
      }
     },
     "5412697f8a6b463681ebb0a7d3e9a26a": {
      "model_module": "@jupyter-widgets/controls",
      "model_module_version": "2.0.0",
      "model_name": "HTMLStyleModel",
      "state": {
       "description_width": "",
       "font_size": null,
       "text_color": null
      }
     },
     "543343e7e57d4494be7577c691e73888": {
      "model_module": "@jupyter-widgets/base",
      "model_module_version": "2.0.0",
      "model_name": "LayoutModel",
      "state": {}
     },
     "5435849d40c4426db121971c128b63c1": {
      "model_module": "@jupyter-widgets/controls",
      "model_module_version": "2.0.0",
      "model_name": "HBoxModel",
      "state": {
       "children": [
        "IPY_MODEL_e7a5c1519a3446a48c8ac51e90abeb04",
        "IPY_MODEL_cf6b0e3d9532466dbe27685e2fe8fc33",
        "IPY_MODEL_ea80ea7466e04685bbbc4ad3a9fa55eb"
       ],
       "layout": "IPY_MODEL_e9148f40d0bc4f4eb6d052bc72f21684"
      }
     },
     "5442fcabc1b44c8290d9c333f8cb4947": {
      "model_module": "@jupyter-widgets/controls",
      "model_module_version": "2.0.0",
      "model_name": "HTMLStyleModel",
      "state": {
       "description_width": "",
       "font_size": null,
       "text_color": null
      }
     },
     "546b47ce46274f30b6f63cf1cd56ff1d": {
      "model_module": "@jupyter-widgets/controls",
      "model_module_version": "2.0.0",
      "model_name": "HBoxModel",
      "state": {
       "children": [
        "IPY_MODEL_648d22a116094a429b4c67a566fbfa8d",
        "IPY_MODEL_360ea9bae4c64100a94be32652a71cc4",
        "IPY_MODEL_e830a32dcb02462ea4f7dbd14e5b5b7e"
       ],
       "layout": "IPY_MODEL_0fe82a0fe0384e4f8e8bceeb3fffe272"
      }
     },
     "5489a80b9d2243fc82ab2870aacd80fc": {
      "model_module": "@jupyter-widgets/controls",
      "model_module_version": "2.0.0",
      "model_name": "HTMLModel",
      "state": {
       "layout": "IPY_MODEL_564b6961fca34d6f9fc55583caeb9d61",
       "style": "IPY_MODEL_ba40b19dc0124bf388dc2fcd1b45db77",
       "value": "100%"
      }
     },
     "548dad2df0534afa8d76ad76a7f2bad4": {
      "model_module": "@jupyter-widgets/base",
      "model_module_version": "2.0.0",
      "model_name": "LayoutModel",
      "state": {}
     },
     "54909908839649beaae2294a5dd1c60f": {
      "model_module": "@jupyter-widgets/base",
      "model_module_version": "2.0.0",
      "model_name": "LayoutModel",
      "state": {}
     },
     "54c5575c22574894b4818ffdf81a76d5": {
      "model_module": "@jupyter-widgets/controls",
      "model_module_version": "2.0.0",
      "model_name": "HBoxModel",
      "state": {
       "children": [
        "IPY_MODEL_74ea0f0391224a4e8963b03fc7f0fe0e",
        "IPY_MODEL_36ec798366e4489db3100850c7f75bce",
        "IPY_MODEL_2e00b684503a43ed8b20fb460e81c249"
       ],
       "layout": "IPY_MODEL_6e17a4870f9043ca8581ee55ea308eb3"
      }
     },
     "5536233ed8b24d04b5f7a111904ec4df": {
      "model_module": "@jupyter-widgets/controls",
      "model_module_version": "2.0.0",
      "model_name": "HTMLStyleModel",
      "state": {
       "description_width": "",
       "font_size": null,
       "text_color": null
      }
     },
     "5539026ae5604346b86b00501aff6d23": {
      "model_module": "@jupyter-widgets/base",
      "model_module_version": "2.0.0",
      "model_name": "LayoutModel",
      "state": {}
     },
     "556a3d4741084438ba75317f56cff53e": {
      "model_module": "@jupyter-widgets/controls",
      "model_module_version": "2.0.0",
      "model_name": "HTMLModel",
      "state": {
       "layout": "IPY_MODEL_4ebdb5db2c3348c68b230f6980b6ccbc",
       "style": "IPY_MODEL_da42a04e6afe46189bfd1d0e936db971",
       "value": "100%"
      }
     },
     "556fa67ceaa34d01a1bb71f362d84c28": {
      "model_module": "@jupyter-widgets/base",
      "model_module_version": "2.0.0",
      "model_name": "LayoutModel",
      "state": {}
     },
     "556fce204c3243b1a3e583b4c6312975": {
      "model_module": "@jupyter-widgets/base",
      "model_module_version": "2.0.0",
      "model_name": "LayoutModel",
      "state": {}
     },
     "557dfc1850064c0ca5bfe6d145cd9692": {
      "model_module": "@jupyter-widgets/controls",
      "model_module_version": "2.0.0",
      "model_name": "HTMLModel",
      "state": {
       "layout": "IPY_MODEL_64d99573b2544bb585757212a7e7c113",
       "style": "IPY_MODEL_9c2c4a774df649b8b7cda869ea1d0bbb",
       "value": "100%"
      }
     },
     "5589b3fce336437b876c5ab3afc55e89": {
      "model_module": "@jupyter-widgets/base",
      "model_module_version": "2.0.0",
      "model_name": "LayoutModel",
      "state": {}
     },
     "558b4f313bcd44eeabedf2f894d38893": {
      "model_module": "@jupyter-widgets/controls",
      "model_module_version": "2.0.0",
      "model_name": "HTMLStyleModel",
      "state": {
       "description_width": "",
       "font_size": null,
       "text_color": null
      }
     },
     "558df3d2f1404dcc80281a61d2218d55": {
      "model_module": "@jupyter-widgets/controls",
      "model_module_version": "2.0.0",
      "model_name": "HTMLStyleModel",
      "state": {
       "description_width": "",
       "font_size": null,
       "text_color": null
      }
     },
     "55e3542837e642a49743bdfb0f970a36": {
      "model_module": "@jupyter-widgets/controls",
      "model_module_version": "2.0.0",
      "model_name": "HTMLModel",
      "state": {
       "layout": "IPY_MODEL_cc7be1654baa42dabb559eaba4b2c689",
       "style": "IPY_MODEL_748afdeb6922480094b47daffc9f338d",
       "value": " 681/681 [00:00&lt;00:00, 188548.49it/s]"
      }
     },
     "5617fc9f3ffd49d1814ffca4458ef40a": {
      "model_module": "@jupyter-widgets/base",
      "model_module_version": "2.0.0",
      "model_name": "LayoutModel",
      "state": {}
     },
     "564a3807dfa245c39a9b43cd2535aa46": {
      "model_module": "@jupyter-widgets/base",
      "model_module_version": "2.0.0",
      "model_name": "LayoutModel",
      "state": {}
     },
     "564b6961fca34d6f9fc55583caeb9d61": {
      "model_module": "@jupyter-widgets/base",
      "model_module_version": "2.0.0",
      "model_name": "LayoutModel",
      "state": {}
     },
     "564fca24e47b4994a57f4172de85cccf": {
      "model_module": "@jupyter-widgets/controls",
      "model_module_version": "2.0.0",
      "model_name": "HBoxModel",
      "state": {
       "children": [
        "IPY_MODEL_59de63f0bdb041dca640d1a191604d84",
        "IPY_MODEL_3c1db3a2cacc4b52b440dc7808b9f107",
        "IPY_MODEL_5a0f0c9c8b734230814b79fdff5c945d"
       ],
       "layout": "IPY_MODEL_97d211fa15124cc6b12d2baa923f7721"
      }
     },
     "5664e54708a844cfbab0b346af56b614": {
      "model_module": "@jupyter-widgets/base",
      "model_module_version": "2.0.0",
      "model_name": "LayoutModel",
      "state": {}
     },
     "567a345d72014ce895f6e05853254c8f": {
      "model_module": "@jupyter-widgets/controls",
      "model_module_version": "2.0.0",
      "model_name": "HTMLModel",
      "state": {
       "layout": "IPY_MODEL_d89f56e1bfd641c89cd472fe8e8d6788",
       "style": "IPY_MODEL_05e9764612af4eb7a2a2dc16091c1fde",
       "value": "100%"
      }
     },
     "5698d2a79c2044d4843f03653c94ca51": {
      "model_module": "@jupyter-widgets/controls",
      "model_module_version": "2.0.0",
      "model_name": "HBoxModel",
      "state": {
       "children": [
        "IPY_MODEL_5b32e5b45c034181bae441a2a92613e7",
        "IPY_MODEL_37d08c4b167b43f4be22fab5e0ef4d54",
        "IPY_MODEL_00e591bbff0e460096834c2bee900737"
       ],
       "layout": "IPY_MODEL_9430231a25fd4da5a4017cd888727cd6"
      }
     },
     "5699586178b6405ba0220b1ec0aeff8f": {
      "model_module": "@jupyter-widgets/controls",
      "model_module_version": "2.0.0",
      "model_name": "HTMLStyleModel",
      "state": {
       "description_width": "",
       "font_size": null,
       "text_color": null
      }
     },
     "56a039cab3be4f6cab469a227311c884": {
      "model_module": "@jupyter-widgets/base",
      "model_module_version": "2.0.0",
      "model_name": "LayoutModel",
      "state": {}
     },
     "56ddf346db084d5ea54f5c224dcb12d6": {
      "model_module": "@jupyter-widgets/controls",
      "model_module_version": "2.0.0",
      "model_name": "HTMLModel",
      "state": {
       "layout": "IPY_MODEL_d8512ddfd8b845fbae0e7dedddaf41f5",
       "style": "IPY_MODEL_1d0f7fb18dbd4349aa05a48e435850f9",
       "value": " 0/582 [00:00&lt;?, ?it/s]"
      }
     },
     "56ec76fd715c460aa90941603702c882": {
      "model_module": "@jupyter-widgets/controls",
      "model_module_version": "2.0.0",
      "model_name": "ProgressStyleModel",
      "state": {
       "description_width": ""
      }
     },
     "56f3e5b71f5a4eaa956e875e4969e26b": {
      "model_module": "@jupyter-widgets/base",
      "model_module_version": "2.0.0",
      "model_name": "LayoutModel",
      "state": {}
     },
     "57166da7911a4d26886d73752f3acc00": {
      "model_module": "@jupyter-widgets/base",
      "model_module_version": "2.0.0",
      "model_name": "LayoutModel",
      "state": {}
     },
     "571a2146a06541ee9654c59566905ac5": {
      "model_module": "@jupyter-widgets/controls",
      "model_module_version": "2.0.0",
      "model_name": "HTMLModel",
      "state": {
       "layout": "IPY_MODEL_60ce57a4313c4261b1dcdf8a4ac197d1",
       "style": "IPY_MODEL_9753718912d446a3bc71fc204627894f",
       "value": "100%"
      }
     },
     "571e3dba0d434d39bf68a6d600c5546b": {
      "model_module": "@jupyter-widgets/controls",
      "model_module_version": "2.0.0",
      "model_name": "HTMLStyleModel",
      "state": {
       "description_width": "",
       "font_size": null,
       "text_color": null
      }
     },
     "5753e963ade441fcb4c6128187061f5d": {
      "model_module": "@jupyter-widgets/base",
      "model_module_version": "2.0.0",
      "model_name": "LayoutModel",
      "state": {}
     },
     "578031ce85c945f5a559d6af1c9fcf38": {
      "model_module": "@jupyter-widgets/base",
      "model_module_version": "2.0.0",
      "model_name": "LayoutModel",
      "state": {}
     },
     "57ab3a6c304e469b9475090763b27b09": {
      "model_module": "@jupyter-widgets/controls",
      "model_module_version": "2.0.0",
      "model_name": "HTMLModel",
      "state": {
       "layout": "IPY_MODEL_bc88ec9b00294e2ea56b6493f94d2ddc",
       "style": "IPY_MODEL_28dbcefe1af24cf3a981d8db1d0da7e9",
       "value": " 282/620 [00:18&lt;00:21, 15.61it/s]"
      }
     },
     "57ad46e39e5b487d8501268c102099ac": {
      "model_module": "@jupyter-widgets/controls",
      "model_module_version": "2.0.0",
      "model_name": "HTMLModel",
      "state": {
       "layout": "IPY_MODEL_cafd851491314add80cba7e5c77571d3",
       "style": "IPY_MODEL_5a4098425fee495489547466cdc0d063",
       "value": "100%"
      }
     },
     "57b0456575284269b90be0573485b499": {
      "model_module": "@jupyter-widgets/base",
      "model_module_version": "2.0.0",
      "model_name": "LayoutModel",
      "state": {}
     },
     "57dfd929b91e479fa0e5e25083c96ed1": {
      "model_module": "@jupyter-widgets/base",
      "model_module_version": "2.0.0",
      "model_name": "LayoutModel",
      "state": {}
     },
     "57f80793f07644f1a025d6f7d72e0bbc": {
      "model_module": "@jupyter-widgets/base",
      "model_module_version": "2.0.0",
      "model_name": "LayoutModel",
      "state": {}
     },
     "57fa8815b16f4d2c9d539711d62189bc": {
      "model_module": "@jupyter-widgets/base",
      "model_module_version": "2.0.0",
      "model_name": "LayoutModel",
      "state": {}
     },
     "58465f481fee47a1ae4573fb4df1ca1e": {
      "model_module": "@jupyter-widgets/controls",
      "model_module_version": "2.0.0",
      "model_name": "HTMLStyleModel",
      "state": {
       "description_width": "",
       "font_size": null,
       "text_color": null
      }
     },
     "584e71f1990b4639bfda6777fd56e6d4": {
      "model_module": "@jupyter-widgets/controls",
      "model_module_version": "2.0.0",
      "model_name": "ProgressStyleModel",
      "state": {
       "description_width": ""
      }
     },
     "587ca4d45a56459c97b54b37212ca0c2": {
      "model_module": "@jupyter-widgets/controls",
      "model_module_version": "2.0.0",
      "model_name": "HTMLStyleModel",
      "state": {
       "description_width": "",
       "font_size": null,
       "text_color": null
      }
     },
     "5888558f612e452da4d0864eadf076d0": {
      "model_module": "@jupyter-widgets/base",
      "model_module_version": "2.0.0",
      "model_name": "LayoutModel",
      "state": {}
     },
     "588e45c28b0f42f89b1207dbb754cbbb": {
      "model_module": "@jupyter-widgets/controls",
      "model_module_version": "2.0.0",
      "model_name": "HTMLStyleModel",
      "state": {
       "description_width": "",
       "font_size": null,
       "text_color": null
      }
     },
     "58978b93718b4a748942000c86be1b92": {
      "model_module": "@jupyter-widgets/base",
      "model_module_version": "2.0.0",
      "model_name": "LayoutModel",
      "state": {}
     },
     "58b2317a87a04ec2bd5faa1ea82bae62": {
      "model_module": "@jupyter-widgets/controls",
      "model_module_version": "2.0.0",
      "model_name": "HBoxModel",
      "state": {
       "children": [
        "IPY_MODEL_8f2d822f3b21439ca49dcb0c53082059",
        "IPY_MODEL_a6fbc3dd98a849d9b378bedebc8deeca",
        "IPY_MODEL_1839f435c04b4439beaa20fa97a47f17"
       ],
       "layout": "IPY_MODEL_1b016cc23d3340a5be43b82001c924be"
      }
     },
     "58ca94395b10413188a02ae840ba531d": {
      "model_module": "@jupyter-widgets/base",
      "model_module_version": "2.0.0",
      "model_name": "LayoutModel",
      "state": {}
     },
     "58df9c1927324ac783067eb796b9ec90": {
      "model_module": "@jupyter-widgets/controls",
      "model_module_version": "2.0.0",
      "model_name": "HTMLModel",
      "state": {
       "layout": "IPY_MODEL_620bffa43d054ace824b0c64887c0a9b",
       "style": "IPY_MODEL_2538d9ce1d804c7880a110798fb8fb3d",
       "value": "100%"
      }
     },
     "591d6540dec64ee0a3779a47dab1b192": {
      "model_module": "@jupyter-widgets/base",
      "model_module_version": "2.0.0",
      "model_name": "LayoutModel",
      "state": {}
     },
     "5922926021284903bc751c10ee451fe7": {
      "model_module": "@jupyter-widgets/controls",
      "model_module_version": "2.0.0",
      "model_name": "HTMLModel",
      "state": {
       "layout": "IPY_MODEL_819cd1b513a64eb0b23272c9ed6db993",
       "style": "IPY_MODEL_f486a362a6f04c48a780ec981bf49068",
       "value": " 450/450 [00:29&lt;00:00, 15.21it/s]"
      }
     },
     "5947e2771ee24a038a3ea0d70bc1003a": {
      "model_module": "@jupyter-widgets/base",
      "model_module_version": "2.0.0",
      "model_name": "LayoutModel",
      "state": {}
     },
     "594cecb25dcd444884969ddb38f8dc1b": {
      "model_module": "@jupyter-widgets/controls",
      "model_module_version": "2.0.0",
      "model_name": "FloatProgressModel",
      "state": {
       "bar_style": "success",
       "layout": "IPY_MODEL_0ff677bd7adf47818d55186b24970ace",
       "max": 642,
       "style": "IPY_MODEL_500cd8aaed214e89916d56842447683f",
       "value": 642
      }
     },
     "598006500ad8486898ba004c63018adf": {
      "model_module": "@jupyter-widgets/base",
      "model_module_version": "2.0.0",
      "model_name": "LayoutModel",
      "state": {}
     },
     "599401ddf68747f39a17b47dd8295287": {
      "model_module": "@jupyter-widgets/controls",
      "model_module_version": "2.0.0",
      "model_name": "HBoxModel",
      "state": {
       "children": [
        "IPY_MODEL_13186fc452314148817d846950df07c9",
        "IPY_MODEL_0960506543de46119c9c90b3ea17bcd8",
        "IPY_MODEL_4c1420b967fb474780e900096a760866"
       ],
       "layout": "IPY_MODEL_28c5ea73455f4143b647fd094d008ab3"
      }
     },
     "599a5215f58546fd88d5c6d37a912821": {
      "model_module": "@jupyter-widgets/controls",
      "model_module_version": "2.0.0",
      "model_name": "HTMLModel",
      "state": {
       "layout": "IPY_MODEL_f66496b15ebf42c98279401a4b2c3fd2",
       "style": "IPY_MODEL_ffa48bc67228484bbc0f9c70a4512dd4",
       "value": " 42%"
      }
     },
     "59ba8eac070946f5a99f2c595a9b0fdc": {
      "model_module": "@jupyter-widgets/controls",
      "model_module_version": "2.0.0",
      "model_name": "HTMLStyleModel",
      "state": {
       "description_width": "",
       "font_size": null,
       "text_color": null
      }
     },
     "59d999172e3d49df9154379a14bbb1a3": {
      "model_module": "@jupyter-widgets/base",
      "model_module_version": "2.0.0",
      "model_name": "LayoutModel",
      "state": {}
     },
     "59de63f0bdb041dca640d1a191604d84": {
      "model_module": "@jupyter-widgets/controls",
      "model_module_version": "2.0.0",
      "model_name": "HTMLModel",
      "state": {
       "layout": "IPY_MODEL_10f2a23923644d8db81ddf3cffd0d90e",
       "style": "IPY_MODEL_c8b70c08a412481488849816f206bf71",
       "value": "100%"
      }
     },
     "59edd5129f6443e28659282300da205b": {
      "model_module": "@jupyter-widgets/base",
      "model_module_version": "2.0.0",
      "model_name": "LayoutModel",
      "state": {}
     },
     "5a0edcbfff9c46f486f4a8d6420f38b9": {
      "model_module": "@jupyter-widgets/controls",
      "model_module_version": "2.0.0",
      "model_name": "HTMLStyleModel",
      "state": {
       "description_width": "",
       "font_size": null,
       "text_color": null
      }
     },
     "5a0f0c9c8b734230814b79fdff5c945d": {
      "model_module": "@jupyter-widgets/controls",
      "model_module_version": "2.0.0",
      "model_name": "HTMLModel",
      "state": {
       "layout": "IPY_MODEL_3efaa58dd79240159a53db8cb6f4ab33",
       "style": "IPY_MODEL_7b372c3261d94cca912ddaa182726131",
       "value": " 634/634 [00:00&lt;00:00, 175907.17it/s]"
      }
     },
     "5a1f796be47e4a9cbcf65615a05ae1a2": {
      "model_module": "@jupyter-widgets/controls",
      "model_module_version": "2.0.0",
      "model_name": "HTMLModel",
      "state": {
       "layout": "IPY_MODEL_dac10c5ad37f4870ba4c9634f2ff41db",
       "style": "IPY_MODEL_f2014038f5444f6b8d62ad74acc9ae64",
       "value": "100%"
      }
     },
     "5a319979388248ca9f30009da0934cbe": {
      "model_module": "@jupyter-widgets/base",
      "model_module_version": "2.0.0",
      "model_name": "LayoutModel",
      "state": {}
     },
     "5a38bae7fc4d4b4ba47be2b157cd2012": {
      "model_module": "@jupyter-widgets/controls",
      "model_module_version": "2.0.0",
      "model_name": "HTMLModel",
      "state": {
       "layout": "IPY_MODEL_3bb9251d96c842d4a54a36dadc4b071b",
       "style": "IPY_MODEL_6515d5378a8a40eaab3df4e3b0c356c9",
       "value": " 527/527 [00:33&lt;00:00, 15.23it/s]"
      }
     },
     "5a4098425fee495489547466cdc0d063": {
      "model_module": "@jupyter-widgets/controls",
      "model_module_version": "2.0.0",
      "model_name": "HTMLStyleModel",
      "state": {
       "description_width": "",
       "font_size": null,
       "text_color": null
      }
     },
     "5a4c9f9fd9864032b621140afc75bd88": {
      "model_module": "@jupyter-widgets/base",
      "model_module_version": "2.0.0",
      "model_name": "LayoutModel",
      "state": {}
     },
     "5a5d0b8ecf36440882241c2e3e26a46c": {
      "model_module": "@jupyter-widgets/base",
      "model_module_version": "2.0.0",
      "model_name": "LayoutModel",
      "state": {}
     },
     "5a6bd6fbc1fd42b9a7034f3c00272d51": {
      "model_module": "@jupyter-widgets/controls",
      "model_module_version": "2.0.0",
      "model_name": "HTMLModel",
      "state": {
       "layout": "IPY_MODEL_49428e33e4584dbe80b3d0cffc0f500e",
       "style": "IPY_MODEL_99cfe9063eab4945874947a765e416b9",
       "value": "100%"
      }
     },
     "5ad403b9144e4de4906ec105c38daa87": {
      "model_module": "@jupyter-widgets/base",
      "model_module_version": "2.0.0",
      "model_name": "LayoutModel",
      "state": {}
     },
     "5ae10f84d04040eab3d7eb9710780cf5": {
      "model_module": "@jupyter-widgets/controls",
      "model_module_version": "2.0.0",
      "model_name": "HBoxModel",
      "state": {
       "children": [
        "IPY_MODEL_21654ad00d9c4691b5a2d5280aa3c0fc",
        "IPY_MODEL_c6cdda183d0e4efdb2711dd9a127bda6",
        "IPY_MODEL_2d2dee96bb4944dc9544b3508c6ae86e"
       ],
       "layout": "IPY_MODEL_b9f988c68cb346fabdb4b271addba72e"
      }
     },
     "5b0ffed7883c41088fa0c81ba1b5275b": {
      "model_module": "@jupyter-widgets/controls",
      "model_module_version": "2.0.0",
      "model_name": "ProgressStyleModel",
      "state": {
       "description_width": ""
      }
     },
     "5b32e5b45c034181bae441a2a92613e7": {
      "model_module": "@jupyter-widgets/controls",
      "model_module_version": "2.0.0",
      "model_name": "HTMLModel",
      "state": {
       "layout": "IPY_MODEL_944ea1a8d34442d5aae5f21dcfd20997",
       "style": "IPY_MODEL_7e9f50f5631047f9b78d8b22a9a494d0",
       "value": "100%"
      }
     },
     "5b33fdd6d7584c1a89c7a1c45c845b87": {
      "model_module": "@jupyter-widgets/controls",
      "model_module_version": "2.0.0",
      "model_name": "HTMLStyleModel",
      "state": {
       "description_width": "",
       "font_size": null,
       "text_color": null
      }
     },
     "5b3a00b7af5c4849a9fe459cb375b565": {
      "model_module": "@jupyter-widgets/controls",
      "model_module_version": "2.0.0",
      "model_name": "HTMLModel",
      "state": {
       "layout": "IPY_MODEL_c8b8dc86cb1b44ada1dcaacb7b63bdff",
       "style": "IPY_MODEL_305cde0d7de0439e87fd9baed5bc4333",
       "value": "100%"
      }
     },
     "5b50e51952c04c858f30d7bde051ab9f": {
      "model_module": "@jupyter-widgets/base",
      "model_module_version": "2.0.0",
      "model_name": "LayoutModel",
      "state": {}
     },
     "5b5856a80b4e44428e5c83b4d7dbe897": {
      "model_module": "@jupyter-widgets/base",
      "model_module_version": "2.0.0",
      "model_name": "LayoutModel",
      "state": {}
     },
     "5b641b6eca8546ff9fdd391fee3c2907": {
      "model_module": "@jupyter-widgets/base",
      "model_module_version": "2.0.0",
      "model_name": "LayoutModel",
      "state": {}
     },
     "5ba606a4c9f84b70ae852d9b31c0c3a0": {
      "model_module": "@jupyter-widgets/base",
      "model_module_version": "2.0.0",
      "model_name": "LayoutModel",
      "state": {}
     },
     "5ba7c99315f44f59a36cd351686be3c8": {
      "model_module": "@jupyter-widgets/base",
      "model_module_version": "2.0.0",
      "model_name": "LayoutModel",
      "state": {}
     },
     "5ba81f86e066406b95cac0de9a5ca496": {
      "model_module": "@jupyter-widgets/controls",
      "model_module_version": "2.0.0",
      "model_name": "FloatProgressModel",
      "state": {
       "bar_style": "danger",
       "layout": "IPY_MODEL_771fc70f1e314c23a9fe6bc55b90e122",
       "max": 927,
       "style": "IPY_MODEL_a9ac68971cb84df8a5bfba37417ad00a"
      }
     },
     "5bbf5e7eb8294df589d0d45c9997ed00": {
      "model_module": "@jupyter-widgets/controls",
      "model_module_version": "2.0.0",
      "model_name": "HBoxModel",
      "state": {
       "children": [
        "IPY_MODEL_7f55ab5487c844659a6f50fc6d886064",
        "IPY_MODEL_5ba81f86e066406b95cac0de9a5ca496",
        "IPY_MODEL_709e841d55e44f578a0bebc999f5584f"
       ],
       "layout": "IPY_MODEL_34f28fe33f8f499c9ebff279802733e4"
      }
     },
     "5be04be7a5394c33a331fcb02d43c2ef": {
      "model_module": "@jupyter-widgets/controls",
      "model_module_version": "2.0.0",
      "model_name": "ProgressStyleModel",
      "state": {
       "description_width": ""
      }
     },
     "5be6d82bebf04ff49667ede270adf1b7": {
      "model_module": "@jupyter-widgets/controls",
      "model_module_version": "2.0.0",
      "model_name": "HTMLStyleModel",
      "state": {
       "description_width": "",
       "font_size": null,
       "text_color": null
      }
     },
     "5c11eb59d5ae4a1ca3641e4ee8761b08": {
      "model_module": "@jupyter-widgets/base",
      "model_module_version": "2.0.0",
      "model_name": "LayoutModel",
      "state": {}
     },
     "5c74833a1edf43a081645bb7a202085d": {
      "model_module": "@jupyter-widgets/base",
      "model_module_version": "2.0.0",
      "model_name": "LayoutModel",
      "state": {}
     },
     "5c7b0a7aeae445fbb9749e39d2d92234": {
      "model_module": "@jupyter-widgets/controls",
      "model_module_version": "2.0.0",
      "model_name": "FloatProgressModel",
      "state": {
       "bar_style": "success",
       "layout": "IPY_MODEL_91d7192310434cb5b8d7c83d7f8f74b1",
       "max": 651,
       "style": "IPY_MODEL_3c86bfe9eb5a4cedaa3b911e6838d89c",
       "value": 651
      }
     },
     "5ca80e7c5e024190828e773c7ac1f86f": {
      "model_module": "@jupyter-widgets/controls",
      "model_module_version": "2.0.0",
      "model_name": "HBoxModel",
      "state": {
       "children": [
        "IPY_MODEL_f39d81d41fd2452193833ab51d0f918c",
        "IPY_MODEL_486288a11d9c467683d645d8f3956077",
        "IPY_MODEL_ca31a76e120a4efe92271892d7d3817f"
       ],
       "layout": "IPY_MODEL_325522c973324f9498c599ea6571812d"
      }
     },
     "5cc84dc282c64ee8abe74a49145c1c0f": {
      "model_module": "@jupyter-widgets/base",
      "model_module_version": "2.0.0",
      "model_name": "LayoutModel",
      "state": {}
     },
     "5ce536abf970419494659ad59174a9c8": {
      "model_module": "@jupyter-widgets/base",
      "model_module_version": "2.0.0",
      "model_name": "LayoutModel",
      "state": {}
     },
     "5ce7cda3476148f3b8c4b61c9aa01c44": {
      "model_module": "@jupyter-widgets/controls",
      "model_module_version": "2.0.0",
      "model_name": "ProgressStyleModel",
      "state": {
       "description_width": ""
      }
     },
     "5d1266bd281f481e9ef66d68e946f8b9": {
      "model_module": "@jupyter-widgets/controls",
      "model_module_version": "2.0.0",
      "model_name": "HBoxModel",
      "state": {
       "children": [
        "IPY_MODEL_ee4043766e174774912c8e4ffcb63bd5",
        "IPY_MODEL_78fc884a81a14921a77b1d12c90e85a2",
        "IPY_MODEL_4f66848819ac4bf3b740dcbc872a9335"
       ],
       "layout": "IPY_MODEL_5a5d0b8ecf36440882241c2e3e26a46c"
      }
     },
     "5d23e019caac488ab11706fe88fd5688": {
      "model_module": "@jupyter-widgets/controls",
      "model_module_version": "2.0.0",
      "model_name": "ProgressStyleModel",
      "state": {
       "description_width": ""
      }
     },
     "5d4333c2c6b942718ffc85b708350954": {
      "model_module": "@jupyter-widgets/controls",
      "model_module_version": "2.0.0",
      "model_name": "HTMLModel",
      "state": {
       "layout": "IPY_MODEL_556fce204c3243b1a3e583b4c6312975",
       "style": "IPY_MODEL_471344cbe5f4459cb4893097e9861e6c",
       "value": "  0%"
      }
     },
     "5d4bd85cd4144360b43ece1587b8ed87": {
      "model_module": "@jupyter-widgets/controls",
      "model_module_version": "2.0.0",
      "model_name": "ProgressStyleModel",
      "state": {
       "description_width": ""
      }
     },
     "5d612327457e4ab4be8577e09530a97d": {
      "model_module": "@jupyter-widgets/base",
      "model_module_version": "2.0.0",
      "model_name": "LayoutModel",
      "state": {}
     },
     "5d7b0a29760b4e4387f1a21c01467de4": {
      "model_module": "@jupyter-widgets/controls",
      "model_module_version": "2.0.0",
      "model_name": "HTMLModel",
      "state": {
       "layout": "IPY_MODEL_5ba7c99315f44f59a36cd351686be3c8",
       "style": "IPY_MODEL_b902dc0b3011435eb5edb64a00f2ae95",
       "value": "100%"
      }
     },
     "5d8150ae3a2c4af99109bdf60492ca9c": {
      "model_module": "@jupyter-widgets/base",
      "model_module_version": "2.0.0",
      "model_name": "LayoutModel",
      "state": {}
     },
     "5d8d3d74342840d6a4a12f090d59f492": {
      "model_module": "@jupyter-widgets/controls",
      "model_module_version": "2.0.0",
      "model_name": "HTMLStyleModel",
      "state": {
       "description_width": "",
       "font_size": null,
       "text_color": null
      }
     },
     "5da22de5f4a546e7a24cd48cad1b5d26": {
      "model_module": "@jupyter-widgets/controls",
      "model_module_version": "2.0.0",
      "model_name": "HTMLStyleModel",
      "state": {
       "description_width": "",
       "font_size": null,
       "text_color": null
      }
     },
     "5db8375c8e5d4463b16372c7324aea69": {
      "model_module": "@jupyter-widgets/base",
      "model_module_version": "2.0.0",
      "model_name": "LayoutModel",
      "state": {}
     },
     "5dbc662291ff47c1b830c5364f6c96a1": {
      "model_module": "@jupyter-widgets/controls",
      "model_module_version": "2.0.0",
      "model_name": "HTMLModel",
      "state": {
       "layout": "IPY_MODEL_3b2832b2fa60401799aa946ad3d294ab",
       "style": "IPY_MODEL_c2958fec7b044e35b60ad16024e93f9b",
       "value": "  0%"
      }
     },
     "5dd9b63d334143c7a6dd8ad6849e63af": {
      "model_module": "@jupyter-widgets/controls",
      "model_module_version": "2.0.0",
      "model_name": "FloatProgressModel",
      "state": {
       "bar_style": "danger",
       "layout": "IPY_MODEL_8c2493b604f04654a27a8acede8b53be",
       "max": 793,
       "style": "IPY_MODEL_b9b3412b401e4515a0bcce8d4fbfd486"
      }
     },
     "5e120cccc8e543959c38f543a9df3565": {
      "model_module": "@jupyter-widgets/base",
      "model_module_version": "2.0.0",
      "model_name": "LayoutModel",
      "state": {}
     },
     "5e63bdee9bdd4fcdafec4e9a55261229": {
      "model_module": "@jupyter-widgets/controls",
      "model_module_version": "2.0.0",
      "model_name": "HTMLModel",
      "state": {
       "layout": "IPY_MODEL_58ca94395b10413188a02ae840ba531d",
       "style": "IPY_MODEL_63d358f50d0545bb82286f8a29a7f448",
       "value": " 657/657 [00:00&lt;00:00, 182095.93it/s]"
      }
     },
     "5e95b61650f6494fbd300072e7f8ad60": {
      "model_module": "@jupyter-widgets/controls",
      "model_module_version": "2.0.0",
      "model_name": "HBoxModel",
      "state": {
       "children": [
        "IPY_MODEL_63818f2ac81045f7a24a6cab627bbb94",
        "IPY_MODEL_47d8d7ad9299409fa501189d37323945",
        "IPY_MODEL_f991768a4b0a4fdfb757221bb49d1020"
       ],
       "layout": "IPY_MODEL_0343fb3ba0674f30b05eab19041f219f"
      }
     },
     "5e9e4200d08049f09044d9dc10a0b8ef": {
      "model_module": "@jupyter-widgets/base",
      "model_module_version": "2.0.0",
      "model_name": "LayoutModel",
      "state": {}
     },
     "5ee9e55075494ee681e49df03ed959e3": {
      "model_module": "@jupyter-widgets/base",
      "model_module_version": "2.0.0",
      "model_name": "LayoutModel",
      "state": {}
     },
     "5eea811b0bee40e4a64004581ad68f3a": {
      "model_module": "@jupyter-widgets/base",
      "model_module_version": "2.0.0",
      "model_name": "LayoutModel",
      "state": {}
     },
     "5ef20091f08442e2ae1362bc97a06be8": {
      "model_module": "@jupyter-widgets/controls",
      "model_module_version": "2.0.0",
      "model_name": "ProgressStyleModel",
      "state": {
       "description_width": ""
      }
     },
     "5efb4875405e48f6bf5a25b0d05c8d83": {
      "model_module": "@jupyter-widgets/controls",
      "model_module_version": "2.0.0",
      "model_name": "HBoxModel",
      "state": {
       "children": [
        "IPY_MODEL_4fd9ada03d534720bea1fbe6a6f4d6ba",
        "IPY_MODEL_df07134ed33547fe96966619360e3a82",
        "IPY_MODEL_d81a574b6b2c49d091db22cf5460f160"
       ],
       "layout": "IPY_MODEL_241240761c304f789e27c17246e57865"
      }
     },
     "5f1f694468f54f9ca08101115ca411db": {
      "model_module": "@jupyter-widgets/controls",
      "model_module_version": "2.0.0",
      "model_name": "HBoxModel",
      "state": {
       "children": [
        "IPY_MODEL_0b6249e48bfd476cb3574a825bec67f4",
        "IPY_MODEL_2fd79810ec984e4b86d2b9c000d8d5b9",
        "IPY_MODEL_3967eddb7c054307b2e8130f450065dd"
       ],
       "layout": "IPY_MODEL_0bb6606d2485425abf6dc039ff97367c"
      }
     },
     "5f2236e611af4da8a44b4b635373dec8": {
      "model_module": "@jupyter-widgets/base",
      "model_module_version": "2.0.0",
      "model_name": "LayoutModel",
      "state": {}
     },
     "5f3519614b8e47848de3349312e9bb4b": {
      "model_module": "@jupyter-widgets/base",
      "model_module_version": "2.0.0",
      "model_name": "LayoutModel",
      "state": {}
     },
     "5f4c325c4a3d430ebf320c2d8396cdb2": {
      "model_module": "@jupyter-widgets/controls",
      "model_module_version": "2.0.0",
      "model_name": "HBoxModel",
      "state": {
       "children": [
        "IPY_MODEL_d2ce7b6201b046dca7f8c482c7656427",
        "IPY_MODEL_911e311baf1449c59433c05544f76a5b",
        "IPY_MODEL_1fb9ae13acfb4f0082e66fb1616d826b"
       ],
       "layout": "IPY_MODEL_0714e6d0c5fc42b5a552329ea03bfa2a"
      }
     },
     "5f80493260ef4e7b9fc56c6ffb419b02": {
      "model_module": "@jupyter-widgets/base",
      "model_module_version": "2.0.0",
      "model_name": "LayoutModel",
      "state": {}
     },
     "5f96bf133db742ec879961407a5e20f0": {
      "model_module": "@jupyter-widgets/controls",
      "model_module_version": "2.0.0",
      "model_name": "ProgressStyleModel",
      "state": {
       "description_width": ""
      }
     },
     "5fb48507578841b8a94fdde7d27994c1": {
      "model_module": "@jupyter-widgets/controls",
      "model_module_version": "2.0.0",
      "model_name": "ProgressStyleModel",
      "state": {
       "description_width": ""
      }
     },
     "5fcccc16e33b41d684be14708869ad1a": {
      "model_module": "@jupyter-widgets/controls",
      "model_module_version": "2.0.0",
      "model_name": "ProgressStyleModel",
      "state": {
       "description_width": ""
      }
     },
     "5fd7115df1dc41568e3aef8db382afcc": {
      "model_module": "@jupyter-widgets/controls",
      "model_module_version": "2.0.0",
      "model_name": "ProgressStyleModel",
      "state": {
       "description_width": ""
      }
     },
     "5fe40748fd2448468f19451041e13dd1": {
      "model_module": "@jupyter-widgets/controls",
      "model_module_version": "2.0.0",
      "model_name": "HTMLStyleModel",
      "state": {
       "description_width": "",
       "font_size": null,
       "text_color": null
      }
     },
     "603ac8ed579a49bdaed84eb8c5df2eff": {
      "model_module": "@jupyter-widgets/controls",
      "model_module_version": "2.0.0",
      "model_name": "HTMLModel",
      "state": {
       "layout": "IPY_MODEL_dfcfdce6d1764ef392c3b5ff3aa0a44f",
       "style": "IPY_MODEL_558df3d2f1404dcc80281a61d2218d55",
       "value": "100%"
      }
     },
     "6052f3fa73c04d15b2d4c67ecbb0c808": {
      "model_module": "@jupyter-widgets/base",
      "model_module_version": "2.0.0",
      "model_name": "LayoutModel",
      "state": {}
     },
     "606c15ecf5c244908103ac996f5e6a32": {
      "model_module": "@jupyter-widgets/controls",
      "model_module_version": "2.0.0",
      "model_name": "HTMLModel",
      "state": {
       "layout": "IPY_MODEL_f4d8ecdc3db144b09d9b33766775eeb2",
       "style": "IPY_MODEL_6f60a6c66f2848a6a6e2acc51b450164",
       "value": " 628/628 [00:00&lt;00:00, 174392.41it/s]"
      }
     },
     "606e445c99534793a16dfc256069c8f1": {
      "model_module": "@jupyter-widgets/base",
      "model_module_version": "2.0.0",
      "model_name": "LayoutModel",
      "state": {}
     },
     "6091fe6ee1994e1c9abd882ed5b49b5c": {
      "model_module": "@jupyter-widgets/controls",
      "model_module_version": "2.0.0",
      "model_name": "HTMLModel",
      "state": {
       "layout": "IPY_MODEL_de8123ce74564bf39eeae17a618f295e",
       "style": "IPY_MODEL_b528c1459b1a4875aa16f78fb2656ee4",
       "value": " 0/582 [00:00&lt;?, ?it/s]"
      }
     },
     "60963a3a82e742d29e9eb85177dbe8bd": {
      "model_module": "@jupyter-widgets/base",
      "model_module_version": "2.0.0",
      "model_name": "LayoutModel",
      "state": {}
     },
     "609a0fb59ff34cf6b6e3080ea4a48b6a": {
      "model_module": "@jupyter-widgets/controls",
      "model_module_version": "2.0.0",
      "model_name": "HTMLStyleModel",
      "state": {
       "description_width": "",
       "font_size": null,
       "text_color": null
      }
     },
     "60ab44ee15304ebaa06959ecfa6827d8": {
      "model_module": "@jupyter-widgets/base",
      "model_module_version": "2.0.0",
      "model_name": "LayoutModel",
      "state": {}
     },
     "60b4607f65c6469cb1947da27f2a7107": {
      "model_module": "@jupyter-widgets/base",
      "model_module_version": "2.0.0",
      "model_name": "LayoutModel",
      "state": {}
     },
     "60bd698fd5bd405bb81a53b56ca49c23": {
      "model_module": "@jupyter-widgets/base",
      "model_module_version": "2.0.0",
      "model_name": "LayoutModel",
      "state": {}
     },
     "60ce57a4313c4261b1dcdf8a4ac197d1": {
      "model_module": "@jupyter-widgets/base",
      "model_module_version": "2.0.0",
      "model_name": "LayoutModel",
      "state": {}
     },
     "60d4747ecd4b450c94dc21a9fe7f2a7a": {
      "model_module": "@jupyter-widgets/controls",
      "model_module_version": "2.0.0",
      "model_name": "HTMLModel",
      "state": {
       "layout": "IPY_MODEL_5589b3fce336437b876c5ab3afc55e89",
       "style": "IPY_MODEL_613e19888be8449797ddf607f3bb7d63",
       "value": "100%"
      }
     },
     "60eae342e57c40fdabad77f2e892e058": {
      "model_module": "@jupyter-widgets/base",
      "model_module_version": "2.0.0",
      "model_name": "LayoutModel",
      "state": {}
     },
     "613e19888be8449797ddf607f3bb7d63": {
      "model_module": "@jupyter-widgets/controls",
      "model_module_version": "2.0.0",
      "model_name": "HTMLStyleModel",
      "state": {
       "description_width": "",
       "font_size": null,
       "text_color": null
      }
     },
     "613fabe6b86c478f8051d499d3345d8e": {
      "model_module": "@jupyter-widgets/base",
      "model_module_version": "2.0.0",
      "model_name": "LayoutModel",
      "state": {}
     },
     "614f4cdaeec54cc9aef375a98c151a2d": {
      "model_module": "@jupyter-widgets/base",
      "model_module_version": "2.0.0",
      "model_name": "LayoutModel",
      "state": {}
     },
     "6150f4fa1e9d4db686c62946a4699ac6": {
      "model_module": "@jupyter-widgets/controls",
      "model_module_version": "2.0.0",
      "model_name": "ProgressStyleModel",
      "state": {
       "description_width": ""
      }
     },
     "6151cd3d8b47426b91edfd9a51d487f8": {
      "model_module": "@jupyter-widgets/controls",
      "model_module_version": "2.0.0",
      "model_name": "HTMLStyleModel",
      "state": {
       "description_width": "",
       "font_size": null,
       "text_color": null
      }
     },
     "615e4a32a7954c71a9c7f79f20914a9c": {
      "model_module": "@jupyter-widgets/controls",
      "model_module_version": "2.0.0",
      "model_name": "FloatProgressModel",
      "state": {
       "bar_style": "success",
       "layout": "IPY_MODEL_abea76bf4b004f84b43464872e94707a",
       "max": 653,
       "style": "IPY_MODEL_71cd6eb866374a2f9c2e36ee006d4cc1",
       "value": 653
      }
     },
     "6181ff3d55af46fb996638af106a3ac8": {
      "model_module": "@jupyter-widgets/base",
      "model_module_version": "2.0.0",
      "model_name": "LayoutModel",
      "state": {}
     },
     "61c4a0ebf5874ec1b649c22cc9196781": {
      "model_module": "@jupyter-widgets/controls",
      "model_module_version": "2.0.0",
      "model_name": "HTMLStyleModel",
      "state": {
       "description_width": "",
       "font_size": null,
       "text_color": null
      }
     },
     "620bffa43d054ace824b0c64887c0a9b": {
      "model_module": "@jupyter-widgets/base",
      "model_module_version": "2.0.0",
      "model_name": "LayoutModel",
      "state": {}
     },
     "6214a0fda90c481d8ca8cf8af07d79c6": {
      "model_module": "@jupyter-widgets/base",
      "model_module_version": "2.0.0",
      "model_name": "LayoutModel",
      "state": {}
     },
     "623836d3f2584102b7e5d29dbd6d70bf": {
      "model_module": "@jupyter-widgets/base",
      "model_module_version": "2.0.0",
      "model_name": "LayoutModel",
      "state": {}
     },
     "626c10ea01ee436684de5486a34839cf": {
      "model_module": "@jupyter-widgets/controls",
      "model_module_version": "2.0.0",
      "model_name": "HTMLStyleModel",
      "state": {
       "description_width": "",
       "font_size": null,
       "text_color": null
      }
     },
     "627b539e8c9d485a9645f79dc8d2bed2": {
      "model_module": "@jupyter-widgets/controls",
      "model_module_version": "2.0.0",
      "model_name": "HTMLModel",
      "state": {
       "layout": "IPY_MODEL_b6f884bce4c3468cbd83a12cca86908a",
       "style": "IPY_MODEL_7981bca79bfb4ab3bfcc97656bb79f49",
       "value": "100%"
      }
     },
     "6282aa5a9fbb400fbb8b7c74c699fa5c": {
      "model_module": "@jupyter-widgets/controls",
      "model_module_version": "2.0.0",
      "model_name": "ProgressStyleModel",
      "state": {
       "description_width": ""
      }
     },
     "629fd6cb24744e68a0e10ca0cba42455": {
      "model_module": "@jupyter-widgets/controls",
      "model_module_version": "2.0.0",
      "model_name": "HBoxModel",
      "state": {
       "children": [
        "IPY_MODEL_6f3eaef40bd44d7db6d1e6331a48b393",
        "IPY_MODEL_d434947790e24417b853f8d50f8b9616",
        "IPY_MODEL_a597b3e896764adbbdb9b9e7081a4893"
       ],
       "layout": "IPY_MODEL_d68fadb17ef249f991c224bd72f2be58"
      }
     },
     "62bbc6f3457e4929bc6ac5231a630cc6": {
      "model_module": "@jupyter-widgets/base",
      "model_module_version": "2.0.0",
      "model_name": "LayoutModel",
      "state": {}
     },
     "62f19da5835d4703acf39e8fa810fa97": {
      "model_module": "@jupyter-widgets/base",
      "model_module_version": "2.0.0",
      "model_name": "LayoutModel",
      "state": {}
     },
     "6314f10ea2fa47aaa7a9a1a5dc744ef5": {
      "model_module": "@jupyter-widgets/controls",
      "model_module_version": "2.0.0",
      "model_name": "FloatProgressModel",
      "state": {
       "bar_style": "danger",
       "layout": "IPY_MODEL_a58128990ceb412ca32df3a945b8b8a2",
       "max": 474,
       "style": "IPY_MODEL_8357988779c841fea60537001f0388ff"
      }
     },
     "6324d2c298a542828c07291c18c221cb": {
      "model_module": "@jupyter-widgets/controls",
      "model_module_version": "2.0.0",
      "model_name": "HBoxModel",
      "state": {
       "children": [
        "IPY_MODEL_64cea4c488194e78bb6de300c45038d6",
        "IPY_MODEL_6d6522b4a2014ebdb668078e84d51f17",
        "IPY_MODEL_6ff7c057516446eda82c308a8f7c900f"
       ],
       "layout": "IPY_MODEL_6ff0d700ec6e4779b9a793ced734cbae"
      }
     },
     "6334ed2f3da84636a9257dd0675d28a2": {
      "model_module": "@jupyter-widgets/controls",
      "model_module_version": "2.0.0",
      "model_name": "ProgressStyleModel",
      "state": {
       "description_width": ""
      }
     },
     "633a0ccd10b046f58dff4c791f5a5554": {
      "model_module": "@jupyter-widgets/controls",
      "model_module_version": "2.0.0",
      "model_name": "HBoxModel",
      "state": {
       "children": [
        "IPY_MODEL_2798a527afdd4c15a10b90fb6837bcb6",
        "IPY_MODEL_e99ebcb4806d46bda192ab88f2c741cb",
        "IPY_MODEL_f25e599ac1054f7eb618dea9c6f7f22a"
       ],
       "layout": "IPY_MODEL_38011653c77d4b9bb874217028541a50"
      }
     },
     "633e5892992146d6865c3de680071276": {
      "model_module": "@jupyter-widgets/controls",
      "model_module_version": "2.0.0",
      "model_name": "HTMLStyleModel",
      "state": {
       "description_width": "",
       "font_size": null,
       "text_color": null
      }
     },
     "635e8a696bba4754bbe208d4e2db052a": {
      "model_module": "@jupyter-widgets/controls",
      "model_module_version": "2.0.0",
      "model_name": "FloatProgressModel",
      "state": {
       "bar_style": "danger",
       "layout": "IPY_MODEL_6d7cd769985246a4878299dc0653f602",
       "max": 365,
       "style": "IPY_MODEL_1f35c6b443b542f1a28f23e7a59cde07"
      }
     },
     "6365ff85929f453b8912a1aa1b9b0dd8": {
      "model_module": "@jupyter-widgets/base",
      "model_module_version": "2.0.0",
      "model_name": "LayoutModel",
      "state": {}
     },
     "636883c0aebe4e4a9cc4b4a015971566": {
      "model_module": "@jupyter-widgets/base",
      "model_module_version": "2.0.0",
      "model_name": "LayoutModel",
      "state": {}
     },
     "636e1d884abd4dd2bef23cdb8be084a7": {
      "model_module": "@jupyter-widgets/controls",
      "model_module_version": "2.0.0",
      "model_name": "HTMLModel",
      "state": {
       "layout": "IPY_MODEL_3515b97e566442718b63481df6a08ea5",
       "style": "IPY_MODEL_d48734d5900342e9b3817a59f12508b2",
       "value": " 722/722 [00:00&lt;00:00, 201375.68it/s]"
      }
     },
     "63818f2ac81045f7a24a6cab627bbb94": {
      "model_module": "@jupyter-widgets/controls",
      "model_module_version": "2.0.0",
      "model_name": "HTMLModel",
      "state": {
       "layout": "IPY_MODEL_7f7206103f924be69a1f979cf99e6a2d",
       "style": "IPY_MODEL_d4b8be7603924e12bfac4c95cbb6e865",
       "value": "100%"
      }
     },
     "638424c4542e4331a078efe9913e04a0": {
      "model_module": "@jupyter-widgets/controls",
      "model_module_version": "2.0.0",
      "model_name": "HBoxModel",
      "state": {
       "children": [
        "IPY_MODEL_a859fc0b5c474371b8edec97998e73e2",
        "IPY_MODEL_bb029013a6de4f079baa7c88f61a42cc",
        "IPY_MODEL_bbc5f51071e444829cd4dd0f930b1bac"
       ],
       "layout": "IPY_MODEL_7242798d71b34ebc8e9748b21366860b"
      }
     },
     "639f7f1a2b3b4d5eae337e2839cd687a": {
      "model_module": "@jupyter-widgets/controls",
      "model_module_version": "2.0.0",
      "model_name": "HTMLStyleModel",
      "state": {
       "description_width": "",
       "font_size": null,
       "text_color": null
      }
     },
     "63ab8e888c3440c7b2cbc0fe9248d323": {
      "model_module": "@jupyter-widgets/controls",
      "model_module_version": "2.0.0",
      "model_name": "HTMLStyleModel",
      "state": {
       "description_width": "",
       "font_size": null,
       "text_color": null
      }
     },
     "63ac85eedd85492e81fea781520d5d05": {
      "model_module": "@jupyter-widgets/controls",
      "model_module_version": "2.0.0",
      "model_name": "HTMLModel",
      "state": {
       "layout": "IPY_MODEL_de035fbef1cc4d448160307f793d35dc",
       "style": "IPY_MODEL_d2133762242c4bb6b6d5c62613776fed",
       "value": "100%"
      }
     },
     "63ae344acdfc487b8d2d685c5aae2203": {
      "model_module": "@jupyter-widgets/controls",
      "model_module_version": "2.0.0",
      "model_name": "HTMLModel",
      "state": {
       "layout": "IPY_MODEL_99994fd267664bafbdcf9f13cc0c6b8b",
       "style": "IPY_MODEL_01b7dfe8fbb446698c7fffc26adecfa3",
       "value": " 578/578 [00:37&lt;00:00, 15.52it/s]"
      }
     },
     "63d358f50d0545bb82286f8a29a7f448": {
      "model_module": "@jupyter-widgets/controls",
      "model_module_version": "2.0.0",
      "model_name": "HTMLStyleModel",
      "state": {
       "description_width": "",
       "font_size": null,
       "text_color": null
      }
     },
     "63dc3f79ebee43e2bb6e130ca42b673f": {
      "model_module": "@jupyter-widgets/base",
      "model_module_version": "2.0.0",
      "model_name": "LayoutModel",
      "state": {}
     },
     "6406dab277674c3190be546b5a6b06cd": {
      "model_module": "@jupyter-widgets/controls",
      "model_module_version": "2.0.0",
      "model_name": "HTMLModel",
      "state": {
       "layout": "IPY_MODEL_9688b00de8ff4ad6aaab141eaee73943",
       "style": "IPY_MODEL_460f5651c6804843905c2781aed0cb2d",
       "value": " 0/582 [00:00&lt;?, ?it/s]"
      }
     },
     "64149908fd9640df90275ac5baa4fc58": {
      "model_module": "@jupyter-widgets/base",
      "model_module_version": "2.0.0",
      "model_name": "LayoutModel",
      "state": {}
     },
     "642d84af2bb549168196d9571cc3493d": {
      "model_module": "@jupyter-widgets/base",
      "model_module_version": "2.0.0",
      "model_name": "LayoutModel",
      "state": {}
     },
     "64404292c566495badb90691875ce377": {
      "model_module": "@jupyter-widgets/base",
      "model_module_version": "2.0.0",
      "model_name": "LayoutModel",
      "state": {}
     },
     "648d22a116094a429b4c67a566fbfa8d": {
      "model_module": "@jupyter-widgets/controls",
      "model_module_version": "2.0.0",
      "model_name": "HTMLModel",
      "state": {
       "layout": "IPY_MODEL_f329fda1b1d74cc584c91330323bfc0c",
       "style": "IPY_MODEL_b50800c861ed40e8994611a5645f098b",
       "value": "100%"
      }
     },
     "6496cb11d414479ba445bf69ef2358df": {
      "model_module": "@jupyter-widgets/controls",
      "model_module_version": "2.0.0",
      "model_name": "ProgressStyleModel",
      "state": {
       "description_width": ""
      }
     },
     "649ad5b6ae474766a75c2066c747634a": {
      "model_module": "@jupyter-widgets/controls",
      "model_module_version": "2.0.0",
      "model_name": "ProgressStyleModel",
      "state": {
       "description_width": ""
      }
     },
     "64cea4c488194e78bb6de300c45038d6": {
      "model_module": "@jupyter-widgets/controls",
      "model_module_version": "2.0.0",
      "model_name": "HTMLModel",
      "state": {
       "layout": "IPY_MODEL_a3a4c7fa9c0945bf80dc49c483986ccc",
       "style": "IPY_MODEL_6d1ef7210ebc4beb95046d0e4d689a71",
       "value": "100%"
      }
     },
     "64d99573b2544bb585757212a7e7c113": {
      "model_module": "@jupyter-widgets/base",
      "model_module_version": "2.0.0",
      "model_name": "LayoutModel",
      "state": {}
     },
     "64da9ecd1fee4e77a501d85fe7a3d154": {
      "model_module": "@jupyter-widgets/controls",
      "model_module_version": "2.0.0",
      "model_name": "HTMLStyleModel",
      "state": {
       "description_width": "",
       "font_size": null,
       "text_color": null
      }
     },
     "650606ee62e24b7eb00b2a185d0a67a2": {
      "model_module": "@jupyter-widgets/controls",
      "model_module_version": "2.0.0",
      "model_name": "ProgressStyleModel",
      "state": {
       "description_width": ""
      }
     },
     "6515d5378a8a40eaab3df4e3b0c356c9": {
      "model_module": "@jupyter-widgets/controls",
      "model_module_version": "2.0.0",
      "model_name": "HTMLStyleModel",
      "state": {
       "description_width": "",
       "font_size": null,
       "text_color": null
      }
     },
     "6518e36eafc34908b8554728e5b5de86": {
      "model_module": "@jupyter-widgets/base",
      "model_module_version": "2.0.0",
      "model_name": "LayoutModel",
      "state": {}
     },
     "651e327aec3145cea1c8b8e72e848e9d": {
      "model_module": "@jupyter-widgets/controls",
      "model_module_version": "2.0.0",
      "model_name": "ProgressStyleModel",
      "state": {
       "description_width": ""
      }
     },
     "6566b5ceb90f43be8aaa49461adcdec6": {
      "model_module": "@jupyter-widgets/base",
      "model_module_version": "2.0.0",
      "model_name": "LayoutModel",
      "state": {}
     },
     "65735a53d1ff4b739c09c6b72c912c6e": {
      "model_module": "@jupyter-widgets/controls",
      "model_module_version": "2.0.0",
      "model_name": "HTMLStyleModel",
      "state": {
       "description_width": "",
       "font_size": null,
       "text_color": null
      }
     },
     "657d289162dd4a1c90f3be8aa1a5be2b": {
      "model_module": "@jupyter-widgets/base",
      "model_module_version": "2.0.0",
      "model_name": "LayoutModel",
      "state": {}
     },
     "65932a448fb04d9ab571ee7dce23ae94": {
      "model_module": "@jupyter-widgets/controls",
      "model_module_version": "2.0.0",
      "model_name": "HBoxModel",
      "state": {
       "children": [
        "IPY_MODEL_5215513cae9847cd8c12bb9373da00d9",
        "IPY_MODEL_6929e6b984114435bcad02aa4c89f033",
        "IPY_MODEL_1237c523256849cc9aba227204a10eaa"
       ],
       "layout": "IPY_MODEL_f3a690328e4c4814972a677292530d10"
      }
     },
     "65e3885e15d341d49f7cf926bd25fd47": {
      "model_module": "@jupyter-widgets/base",
      "model_module_version": "2.0.0",
      "model_name": "LayoutModel",
      "state": {}
     },
     "660e288736794266b592a4ec3606c7c8": {
      "model_module": "@jupyter-widgets/controls",
      "model_module_version": "2.0.0",
      "model_name": "ProgressStyleModel",
      "state": {
       "description_width": ""
      }
     },
     "661044a6f8424e108c0cf8179cfb2249": {
      "model_module": "@jupyter-widgets/controls",
      "model_module_version": "2.0.0",
      "model_name": "HTMLStyleModel",
      "state": {
       "description_width": "",
       "font_size": null,
       "text_color": null
      }
     },
     "662df917cd9347a1a8d18f63edb8ff08": {
      "model_module": "@jupyter-widgets/controls",
      "model_module_version": "2.0.0",
      "model_name": "HTMLStyleModel",
      "state": {
       "description_width": "",
       "font_size": null,
       "text_color": null
      }
     },
     "665651f33619453fbef7c5af7e9ad469": {
      "model_module": "@jupyter-widgets/controls",
      "model_module_version": "2.0.0",
      "model_name": "HBoxModel",
      "state": {
       "children": [
        "IPY_MODEL_ac136a1c5d704a179bdc636c25a2f99c",
        "IPY_MODEL_801a1fd834d745c8b98527672869a6b6",
        "IPY_MODEL_6d7b645a1f6b43988b71bc3682a8f2ef"
       ],
       "layout": "IPY_MODEL_244b8dc06e1643bbbab03c6d69868f38"
      }
     },
     "665660578b534e95a064c113d674d078": {
      "model_module": "@jupyter-widgets/controls",
      "model_module_version": "2.0.0",
      "model_name": "HTMLModel",
      "state": {
       "layout": "IPY_MODEL_4711ec6955af4a38bd9cab56cc1dff50",
       "style": "IPY_MODEL_2abcfc317149443796e98746081433f9",
       "value": " 646/646 [00:41&lt;00:00, 15.55it/s]"
      }
     },
     "665ecd6667204fdd8a7a372a3c0e5acb": {
      "model_module": "@jupyter-widgets/controls",
      "model_module_version": "2.0.0",
      "model_name": "HTMLStyleModel",
      "state": {
       "description_width": "",
       "font_size": null,
       "text_color": null
      }
     },
     "665f80c3ce4544aa913638aa7a7c7dc1": {
      "model_module": "@jupyter-widgets/controls",
      "model_module_version": "2.0.0",
      "model_name": "ProgressStyleModel",
      "state": {
       "description_width": ""
      }
     },
     "667e153243a9430d9821f5578434bbe8": {
      "model_module": "@jupyter-widgets/controls",
      "model_module_version": "2.0.0",
      "model_name": "FloatProgressModel",
      "state": {
       "bar_style": "success",
       "layout": "IPY_MODEL_14fd81da3ede45f49827b268644e1b19",
       "max": 612,
       "style": "IPY_MODEL_4c58a8ca9c9b4d40b687cbf20161f6f5",
       "value": 612
      }
     },
     "66922d8a699d487da59436ede8d2b800": {
      "model_module": "@jupyter-widgets/base",
      "model_module_version": "2.0.0",
      "model_name": "LayoutModel",
      "state": {}
     },
     "66bbf65fcb1a4c43840b372d7fbd366e": {
      "model_module": "@jupyter-widgets/controls",
      "model_module_version": "2.0.0",
      "model_name": "HBoxModel",
      "state": {
       "children": [
        "IPY_MODEL_de2f21a50afb403d8b0ef010ba937d18",
        "IPY_MODEL_6eb462a23d884ded96ee95fe069a4aa2",
        "IPY_MODEL_4916a894091349a9baf9e9569704980b"
       ],
       "layout": "IPY_MODEL_a7f012cc97584866800f77cef190702c"
      }
     },
     "66bbfeabba304c4d930e105935c73d0e": {
      "model_module": "@jupyter-widgets/controls",
      "model_module_version": "2.0.0",
      "model_name": "HTMLModel",
      "state": {
       "layout": "IPY_MODEL_b456e81bfa8e4f2d8566c00dc40a8432",
       "style": "IPY_MODEL_2f455aab469b419aa370efa619930063",
       "value": "100%"
      }
     },
     "66db5f66063643b7b254a8a49bfb3108": {
      "model_module": "@jupyter-widgets/base",
      "model_module_version": "2.0.0",
      "model_name": "LayoutModel",
      "state": {}
     },
     "66db841a6233418b8e386567473f0c11": {
      "model_module": "@jupyter-widgets/controls",
      "model_module_version": "2.0.0",
      "model_name": "FloatProgressModel",
      "state": {
       "bar_style": "success",
       "layout": "IPY_MODEL_9225b1d94a464d2e8f7a7a7377dabc4d",
       "max": 618,
       "style": "IPY_MODEL_5be04be7a5394c33a331fcb02d43c2ef",
       "value": 618
      }
     },
     "66df3eed6e5f44af8aa68af44cb74a12": {
      "model_module": "@jupyter-widgets/base",
      "model_module_version": "2.0.0",
      "model_name": "LayoutModel",
      "state": {}
     },
     "66f760c2b3264658b7733931e8170189": {
      "model_module": "@jupyter-widgets/controls",
      "model_module_version": "2.0.0",
      "model_name": "HTMLModel",
      "state": {
       "layout": "IPY_MODEL_82c162226e174f178882e7d0a00c70d6",
       "style": "IPY_MODEL_0990681ca66f414192a8c76986e21589",
       "value": " 632/632 [00:00&lt;00:00, 177358.50it/s]"
      }
     },
     "6700fca1cdab4bdb87b066174889b83b": {
      "model_module": "@jupyter-widgets/controls",
      "model_module_version": "2.0.0",
      "model_name": "HTMLStyleModel",
      "state": {
       "description_width": "",
       "font_size": null,
       "text_color": null
      }
     },
     "6707f5b4b375470081aabdff171f692e": {
      "model_module": "@jupyter-widgets/controls",
      "model_module_version": "2.0.0",
      "model_name": "FloatProgressModel",
      "state": {
       "bar_style": "success",
       "layout": "IPY_MODEL_4daf703d295749f9a772a914274f7485",
       "max": 588,
       "style": "IPY_MODEL_4d7bf0d914b14d3399d1112790f2676e",
       "value": 588
      }
     },
     "671e8e65ce724dfbbe332ce4451ecf3f": {
      "model_module": "@jupyter-widgets/controls",
      "model_module_version": "2.0.0",
      "model_name": "HTMLStyleModel",
      "state": {
       "description_width": "",
       "font_size": null,
       "text_color": null
      }
     },
     "6733406676a14be4aa0dc8976c681195": {
      "model_module": "@jupyter-widgets/controls",
      "model_module_version": "2.0.0",
      "model_name": "FloatProgressModel",
      "state": {
       "bar_style": "success",
       "layout": "IPY_MODEL_d8679094547a4e4ab5be11699a6ed8be",
       "max": 450,
       "style": "IPY_MODEL_db2033c015c9420497777dec77a567a3",
       "value": 450
      }
     },
     "6752eb616a5743b0bf0772826db2adf6": {
      "model_module": "@jupyter-widgets/controls",
      "model_module_version": "2.0.0",
      "model_name": "HTMLStyleModel",
      "state": {
       "description_width": "",
       "font_size": null,
       "text_color": null
      }
     },
     "67f02b1ff23849a98473411c0059753d": {
      "model_module": "@jupyter-widgets/controls",
      "model_module_version": "2.0.0",
      "model_name": "ProgressStyleModel",
      "state": {
       "description_width": ""
      }
     },
     "68328f6a95b6436fa662b982c4abbacb": {
      "model_module": "@jupyter-widgets/controls",
      "model_module_version": "2.0.0",
      "model_name": "HTMLStyleModel",
      "state": {
       "description_width": "",
       "font_size": null,
       "text_color": null
      }
     },
     "683c8ba33e1c44f3b8d65fac4cad91eb": {
      "model_module": "@jupyter-widgets/base",
      "model_module_version": "2.0.0",
      "model_name": "LayoutModel",
      "state": {}
     },
     "6846f7e576ed414785ac18cab4d7ba7b": {
      "model_module": "@jupyter-widgets/base",
      "model_module_version": "2.0.0",
      "model_name": "LayoutModel",
      "state": {}
     },
     "687107cf1153409c9b20225d4cf3e613": {
      "model_module": "@jupyter-widgets/controls",
      "model_module_version": "2.0.0",
      "model_name": "HBoxModel",
      "state": {
       "children": [
        "IPY_MODEL_e948f2d00a9a4847a9190d5d79efd7e6",
        "IPY_MODEL_5dd9b63d334143c7a6dd8ad6849e63af",
        "IPY_MODEL_f4dae17d2d4a463eb186f1a1b693aaca"
       ],
       "layout": "IPY_MODEL_bb2c5daff0c8459e93b379bff3ec1139"
      }
     },
     "687798b4b0954d6aa329d312278765db": {
      "model_module": "@jupyter-widgets/base",
      "model_module_version": "2.0.0",
      "model_name": "LayoutModel",
      "state": {}
     },
     "68821e12240149fdbb5bb2c54f50bed9": {
      "model_module": "@jupyter-widgets/controls",
      "model_module_version": "2.0.0",
      "model_name": "ProgressStyleModel",
      "state": {
       "description_width": ""
      }
     },
     "68ca2b1c1b81471ebf37ebb92b6fb410": {
      "model_module": "@jupyter-widgets/controls",
      "model_module_version": "2.0.0",
      "model_name": "HTMLModel",
      "state": {
       "layout": "IPY_MODEL_090b1e5649984f0d93bd36d269a149ff",
       "style": "IPY_MODEL_52fefa2d3e214220b422c6df982cf0b2",
       "value": " 623/623 [00:00&lt;00:00, 174727.61it/s]"
      }
     },
     "69220c85c8244be7b29c2f415a2e8bfb": {
      "model_module": "@jupyter-widgets/base",
      "model_module_version": "2.0.0",
      "model_name": "LayoutModel",
      "state": {}
     },
     "6929e6b984114435bcad02aa4c89f033": {
      "model_module": "@jupyter-widgets/controls",
      "model_module_version": "2.0.0",
      "model_name": "FloatProgressModel",
      "state": {
       "bar_style": "success",
       "layout": "IPY_MODEL_b907422428744c379ed273d5452c57a2",
       "max": 620,
       "style": "IPY_MODEL_3145328f22114d9fa02c6ce2c7c0882d",
       "value": 620
      }
     },
     "692c197c01b5465d9baf9321d9156e29": {
      "model_module": "@jupyter-widgets/base",
      "model_module_version": "2.0.0",
      "model_name": "LayoutModel",
      "state": {}
     },
     "6930034aa7fe4080810f66b69526616a": {
      "model_module": "@jupyter-widgets/controls",
      "model_module_version": "2.0.0",
      "model_name": "HTMLStyleModel",
      "state": {
       "description_width": "",
       "font_size": null,
       "text_color": null
      }
     },
     "693a6529b4e94283a21d9449b5eb73fd": {
      "model_module": "@jupyter-widgets/controls",
      "model_module_version": "2.0.0",
      "model_name": "HTMLStyleModel",
      "state": {
       "description_width": "",
       "font_size": null,
       "text_color": null
      }
     },
     "69445f463d8c4af4a818a9ba62e3b95e": {
      "model_module": "@jupyter-widgets/controls",
      "model_module_version": "2.0.0",
      "model_name": "HTMLStyleModel",
      "state": {
       "description_width": "",
       "font_size": null,
       "text_color": null
      }
     },
     "699c9b316b4e4ab0a4470d1fa1a6c10c": {
      "model_module": "@jupyter-widgets/controls",
      "model_module_version": "2.0.0",
      "model_name": "HTMLStyleModel",
      "state": {
       "description_width": "",
       "font_size": null,
       "text_color": null
      }
     },
     "69d1e49a7a4d4eb5959c034bac1d7e5d": {
      "model_module": "@jupyter-widgets/base",
      "model_module_version": "2.0.0",
      "model_name": "LayoutModel",
      "state": {}
     },
     "69d6aa43eb0144cb8a4dca6864e4c94c": {
      "model_module": "@jupyter-widgets/base",
      "model_module_version": "2.0.0",
      "model_name": "LayoutModel",
      "state": {}
     },
     "69da622641c344c38f53ad361ca3a673": {
      "model_module": "@jupyter-widgets/controls",
      "model_module_version": "2.0.0",
      "model_name": "HBoxModel",
      "state": {
       "children": [
        "IPY_MODEL_58df9c1927324ac783067eb796b9ec90",
        "IPY_MODEL_01eb2f9d843340dda6463ae00c13eee8",
        "IPY_MODEL_315f15972bc24cbcb4663e3a8ea6e428"
       ],
       "layout": "IPY_MODEL_5a4c9f9fd9864032b621140afc75bd88"
      }
     },
     "6a01e0216fb34bb9824e609f76fb6a32": {
      "model_module": "@jupyter-widgets/controls",
      "model_module_version": "2.0.0",
      "model_name": "HTMLStyleModel",
      "state": {
       "description_width": "",
       "font_size": null,
       "text_color": null
      }
     },
     "6a1e1a1e8ca94a828f97cc31bcfb1235": {
      "model_module": "@jupyter-widgets/controls",
      "model_module_version": "2.0.0",
      "model_name": "HTMLStyleModel",
      "state": {
       "description_width": "",
       "font_size": null,
       "text_color": null
      }
     },
     "6a254ad62f1d46da9ac194a76db6955f": {
      "model_module": "@jupyter-widgets/base",
      "model_module_version": "2.0.0",
      "model_name": "LayoutModel",
      "state": {}
     },
     "6a5570af1fbb4c3892f42702b2989a65": {
      "model_module": "@jupyter-widgets/controls",
      "model_module_version": "2.0.0",
      "model_name": "HTMLModel",
      "state": {
       "layout": "IPY_MODEL_a23ea48f377b43acb1c6e29202fcf397",
       "style": "IPY_MODEL_2d8a550654d74d3fad2c3e7ecf894a0f",
       "value": "100%"
      }
     },
     "6a90a7dd9768485bbb6fc0eb650f2017": {
      "model_module": "@jupyter-widgets/controls",
      "model_module_version": "2.0.0",
      "model_name": "HBoxModel",
      "state": {
       "children": [
        "IPY_MODEL_fca1d96d7c65431b95aaa3250069367b",
        "IPY_MODEL_30efda8516434ba0a58e5b2435285390",
        "IPY_MODEL_12fd4ace87af400893472cc65c53d1f0"
       ],
       "layout": "IPY_MODEL_a839b5d2353e4562b652e5b197e6a4e6"
      }
     },
     "6aa9826032aa43ff81130fc033ed0c0d": {
      "model_module": "@jupyter-widgets/controls",
      "model_module_version": "2.0.0",
      "model_name": "HBoxModel",
      "state": {
       "children": [
        "IPY_MODEL_e817384d503f41c89311c81495380d37",
        "IPY_MODEL_c583213ca0de47b48e09e0fe3de66aaf",
        "IPY_MODEL_ca821efc87234b94b3bfc4a161164eb0"
       ],
       "layout": "IPY_MODEL_21bcf9c145c54dc5925fc3612489b71f"
      }
     },
     "6ae097c85f174d6d82f9285fc146f72c": {
      "model_module": "@jupyter-widgets/controls",
      "model_module_version": "2.0.0",
      "model_name": "FloatProgressModel",
      "state": {
       "bar_style": "success",
       "layout": "IPY_MODEL_5d8150ae3a2c4af99109bdf60492ca9c",
       "max": 635,
       "style": "IPY_MODEL_e3539701900148fea476d2a0c3efe1cf",
       "value": 635
      }
     },
     "6b0fb396d7c84b7684611d40f5d3c647": {
      "model_module": "@jupyter-widgets/base",
      "model_module_version": "2.0.0",
      "model_name": "LayoutModel",
      "state": {}
     },
     "6b10bfb6cfbe47c3a32da00b4915cd67": {
      "model_module": "@jupyter-widgets/controls",
      "model_module_version": "2.0.0",
      "model_name": "HTMLModel",
      "state": {
       "layout": "IPY_MODEL_e556931ac7e24ec9ac736407af29d4b2",
       "style": "IPY_MODEL_467217989fae4bb9a95d001ef505e681",
       "value": " 618/618 [00:00&lt;00:00, 172874.47it/s]"
      }
     },
     "6b486609702f4ecea41853406a88abc5": {
      "model_module": "@jupyter-widgets/controls",
      "model_module_version": "2.0.0",
      "model_name": "HTMLStyleModel",
      "state": {
       "description_width": "",
       "font_size": null,
       "text_color": null
      }
     },
     "6b555bf14e4d4b2ea46d6abf14ac7830": {
      "model_module": "@jupyter-widgets/controls",
      "model_module_version": "2.0.0",
      "model_name": "HBoxModel",
      "state": {
       "children": [
        "IPY_MODEL_79bf68e1450748d2ab77bc7fca883114",
        "IPY_MODEL_615e4a32a7954c71a9c7f79f20914a9c",
        "IPY_MODEL_533f5655dd594787be00fb3c2aa07a3c"
       ],
       "layout": "IPY_MODEL_b1205249c7054a20947244dd6d558ab7"
      }
     },
     "6b571f1a46a349c6b9deb5525bae4db8": {
      "model_module": "@jupyter-widgets/controls",
      "model_module_version": "2.0.0",
      "model_name": "FloatProgressModel",
      "state": {
       "bar_style": "success",
       "layout": "IPY_MODEL_a174deda79404b0ba127c527340fdc12",
       "max": 657,
       "style": "IPY_MODEL_052482db22fa45a89c3d2861a5a24b18",
       "value": 657
      }
     },
     "6b885fe896ad4d48b3840f3e5987e692": {
      "model_module": "@jupyter-widgets/base",
      "model_module_version": "2.0.0",
      "model_name": "LayoutModel",
      "state": {}
     },
     "6b886024836b4f9cbe1d7a5a01578119": {
      "model_module": "@jupyter-widgets/controls",
      "model_module_version": "2.0.0",
      "model_name": "HTMLStyleModel",
      "state": {
       "description_width": "",
       "font_size": null,
       "text_color": null
      }
     },
     "6b95865b84394c229c3936adfa99dd6b": {
      "model_module": "@jupyter-widgets/controls",
      "model_module_version": "2.0.0",
      "model_name": "HTMLStyleModel",
      "state": {
       "description_width": "",
       "font_size": null,
       "text_color": null
      }
     },
     "6bb83d2d877849e4bfad108534026573": {
      "model_module": "@jupyter-widgets/controls",
      "model_module_version": "2.0.0",
      "model_name": "FloatProgressModel",
      "state": {
       "bar_style": "danger",
       "layout": "IPY_MODEL_5d612327457e4ab4be8577e09530a97d",
       "max": 715,
       "style": "IPY_MODEL_a42cf3ad6a514f6da0d45ee6cd7442ba"
      }
     },
     "6bbcb3022ea54e5abd057c37d717a1a6": {
      "model_module": "@jupyter-widgets/controls",
      "model_module_version": "2.0.0",
      "model_name": "ProgressStyleModel",
      "state": {
       "description_width": ""
      }
     },
     "6bce92b8751d455ab2cf33f6262d2dc5": {
      "model_module": "@jupyter-widgets/controls",
      "model_module_version": "2.0.0",
      "model_name": "HTMLStyleModel",
      "state": {
       "description_width": "",
       "font_size": null,
       "text_color": null
      }
     },
     "6bdfd35c50a241ca8bcd87111a4fbb2e": {
      "model_module": "@jupyter-widgets/base",
      "model_module_version": "2.0.0",
      "model_name": "LayoutModel",
      "state": {}
     },
     "6be2994a89a9426a90d81818d6ed43ef": {
      "model_module": "@jupyter-widgets/base",
      "model_module_version": "2.0.0",
      "model_name": "LayoutModel",
      "state": {}
     },
     "6c07e9921ae64671b76d14945079930c": {
      "model_module": "@jupyter-widgets/controls",
      "model_module_version": "2.0.0",
      "model_name": "HTMLModel",
      "state": {
       "layout": "IPY_MODEL_0c39ce5ed4124df6b56ebfc77ed34117",
       "style": "IPY_MODEL_e4e753fc2e5045e9a4515e3deb933a74",
       "value": "100%"
      }
     },
     "6c26cc1757ea4f1c92a4260d2eebaca9": {
      "model_module": "@jupyter-widgets/controls",
      "model_module_version": "2.0.0",
      "model_name": "HBoxModel",
      "state": {
       "children": [
        "IPY_MODEL_75f89932186a4f809e8db5aa0f3aa51f",
        "IPY_MODEL_8ad869097e4b4b7c9f03e5aa54e0a526",
        "IPY_MODEL_909967ae68164dc49dc5f375d1dfcbf1"
       ],
       "layout": "IPY_MODEL_455f7e3af53446188f6d386b0915bf1d"
      }
     },
     "6c31e4e85f254152bca446cd7d311f4a": {
      "model_module": "@jupyter-widgets/controls",
      "model_module_version": "2.0.0",
      "model_name": "HBoxModel",
      "state": {
       "children": [
        "IPY_MODEL_c15e97f749154985915aeb08ae8ee04b",
        "IPY_MODEL_e19da4e5f64c4f958e1f6c3e70b60e61",
        "IPY_MODEL_07f8494ecc4b456e9f9a01c11a1996aa"
       ],
       "layout": "IPY_MODEL_cbe9980177e74e7894168b6442db3695"
      }
     },
     "6c3449210112424ba9116006075ee5a2": {
      "model_module": "@jupyter-widgets/base",
      "model_module_version": "2.0.0",
      "model_name": "LayoutModel",
      "state": {}
     },
     "6c43b6e64a0f40728cfa6589682fc5ea": {
      "model_module": "@jupyter-widgets/controls",
      "model_module_version": "2.0.0",
      "model_name": "FloatProgressModel",
      "state": {
       "bar_style": "success",
       "layout": "IPY_MODEL_60963a3a82e742d29e9eb85177dbe8bd",
       "max": 625,
       "style": "IPY_MODEL_665f80c3ce4544aa913638aa7a7c7dc1",
       "value": 625
      }
     },
     "6c4446b541994a58a641e94dcbee3fa7": {
      "model_module": "@jupyter-widgets/base",
      "model_module_version": "2.0.0",
      "model_name": "LayoutModel",
      "state": {}
     },
     "6c6f61f6b06d40e598d13e453035ec33": {
      "model_module": "@jupyter-widgets/controls",
      "model_module_version": "2.0.0",
      "model_name": "HTMLStyleModel",
      "state": {
       "description_width": "",
       "font_size": null,
       "text_color": null
      }
     },
     "6caa96a0acd84c1dabf7a6bf821a6f94": {
      "model_module": "@jupyter-widgets/base",
      "model_module_version": "2.0.0",
      "model_name": "LayoutModel",
      "state": {}
     },
     "6caae07cf8b64443aa80dfbdf643cf2f": {
      "model_module": "@jupyter-widgets/controls",
      "model_module_version": "2.0.0",
      "model_name": "HTMLModel",
      "state": {
       "layout": "IPY_MODEL_657d289162dd4a1c90f3be8aa1a5be2b",
       "style": "IPY_MODEL_0dc2bf0a689246fabf67b8b7829e6aed",
       "value": "  0%"
      }
     },
     "6cd4a7e487604efa8bfd6bee4f12d82f": {
      "model_module": "@jupyter-widgets/base",
      "model_module_version": "2.0.0",
      "model_name": "LayoutModel",
      "state": {}
     },
     "6d063eafa57b4dcd911ef28509fc50d2": {
      "model_module": "@jupyter-widgets/controls",
      "model_module_version": "2.0.0",
      "model_name": "HBoxModel",
      "state": {
       "children": [
        "IPY_MODEL_567a345d72014ce895f6e05853254c8f",
        "IPY_MODEL_0835640aaacf494f9396c73dfd612720",
        "IPY_MODEL_55e3542837e642a49743bdfb0f970a36"
       ],
       "layout": "IPY_MODEL_3aa2a1df306847be9efad18b91795150"
      }
     },
     "6d1ef7210ebc4beb95046d0e4d689a71": {
      "model_module": "@jupyter-widgets/controls",
      "model_module_version": "2.0.0",
      "model_name": "HTMLStyleModel",
      "state": {
       "description_width": "",
       "font_size": null,
       "text_color": null
      }
     },
     "6d32da25d37c43d99048846cee47b0be": {
      "model_module": "@jupyter-widgets/controls",
      "model_module_version": "2.0.0",
      "model_name": "ProgressStyleModel",
      "state": {
       "description_width": ""
      }
     },
     "6d6522b4a2014ebdb668078e84d51f17": {
      "model_module": "@jupyter-widgets/controls",
      "model_module_version": "2.0.0",
      "model_name": "FloatProgressModel",
      "state": {
       "bar_style": "success",
       "layout": "IPY_MODEL_d0c2647495784a84ac3a1035e0e582aa",
       "max": 491,
       "style": "IPY_MODEL_2643c177a9894c6d8a7e4b03fb703023",
       "value": 491
      }
     },
     "6d7b645a1f6b43988b71bc3682a8f2ef": {
      "model_module": "@jupyter-widgets/controls",
      "model_module_version": "2.0.0",
      "model_name": "HTMLModel",
      "state": {
       "layout": "IPY_MODEL_7b6c2e0e212846ef8cb9a84f657e33a6",
       "style": "IPY_MODEL_1bc8a83e744a4bc4916aaffb37f6678d",
       "value": " 737/737 [00:00&lt;00:00, 200376.10it/s]"
      }
     },
     "6d7cd769985246a4878299dc0653f602": {
      "model_module": "@jupyter-widgets/base",
      "model_module_version": "2.0.0",
      "model_name": "LayoutModel",
      "state": {}
     },
     "6d959cfa29eb41f3bf507f5dc8024854": {
      "model_module": "@jupyter-widgets/controls",
      "model_module_version": "2.0.0",
      "model_name": "HTMLModel",
      "state": {
       "layout": "IPY_MODEL_f68c8dc359474094b5dc4b0cac4d94fc",
       "style": "IPY_MODEL_16bff6622a5b47519f96e98c92697c59",
       "value": " 624/624 [00:00&lt;00:00, 173580.43it/s]"
      }
     },
     "6d95a9af97414f8a8afdc46430f84e2a": {
      "model_module": "@jupyter-widgets/controls",
      "model_module_version": "2.0.0",
      "model_name": "HTMLModel",
      "state": {
       "layout": "IPY_MODEL_0e18bd872fa448aba5a7dbc10d4aef69",
       "style": "IPY_MODEL_b8bf748fdd8b490fb9f84341fae1a610",
       "value": " 646/646 [00:41&lt;00:00, 15.74it/s]"
      }
     },
     "6da3103353254e5e803e4e64715a0819": {
      "model_module": "@jupyter-widgets/controls",
      "model_module_version": "2.0.0",
      "model_name": "HTMLModel",
      "state": {
       "layout": "IPY_MODEL_0ef6b2a91bef4a3bb8278836b52028ea",
       "style": "IPY_MODEL_4f0ea792b3324ff28feb22138a7f57df",
       "value": "100%"
      }
     },
     "6da43b7769aa453d82a62d08ef8314ae": {
      "model_module": "@jupyter-widgets/base",
      "model_module_version": "2.0.0",
      "model_name": "LayoutModel",
      "state": {}
     },
     "6dcbe9f42d4c42028ed6a1275b6a653c": {
      "model_module": "@jupyter-widgets/controls",
      "model_module_version": "2.0.0",
      "model_name": "HTMLModel",
      "state": {
       "layout": "IPY_MODEL_aecd6ce073f844cca80f3abbe0e6f53b",
       "style": "IPY_MODEL_02d3d8c99bbc495b9a5790aa04ad0450",
       "value": "  0%"
      }
     },
     "6df00e381c374b7b96f05d1290744dd1": {
      "model_module": "@jupyter-widgets/controls",
      "model_module_version": "2.0.0",
      "model_name": "HBoxModel",
      "state": {
       "children": [
        "IPY_MODEL_9044d5d250bb4708b27f4f639f6f4ff8",
        "IPY_MODEL_fe5d229e7eda40a5a00709a386daa3ef",
        "IPY_MODEL_d12f1cbd4d8747e6b88ca9c05206e2fc"
       ],
       "layout": "IPY_MODEL_8e6fb08622b640f3bcdeccbae88580b0"
      }
     },
     "6e17a4870f9043ca8581ee55ea308eb3": {
      "model_module": "@jupyter-widgets/base",
      "model_module_version": "2.0.0",
      "model_name": "LayoutModel",
      "state": {}
     },
     "6e5aaa3b46bd4f6285eac350d37859b7": {
      "model_module": "@jupyter-widgets/controls",
      "model_module_version": "2.0.0",
      "model_name": "HTMLModel",
      "state": {
       "layout": "IPY_MODEL_0d4b93f6a65b4a11b2e1214890696b77",
       "style": "IPY_MODEL_588e45c28b0f42f89b1207dbb754cbbb",
       "value": " 0/582 [00:00&lt;?, ?it/s]"
      }
     },
     "6e8953006168415092bb037ed991f858": {
      "model_module": "@jupyter-widgets/controls",
      "model_module_version": "2.0.0",
      "model_name": "FloatProgressModel",
      "state": {
       "bar_style": "success",
       "layout": "IPY_MODEL_8b6ffd63f84749b7aa457c3436b519e2",
       "max": 468,
       "style": "IPY_MODEL_2ad7fdaef9b64e55a87f9e938aba2006",
       "value": 468
      }
     },
     "6ea0dbde2a774b42ba685cc0bdacf9d5": {
      "model_module": "@jupyter-widgets/controls",
      "model_module_version": "2.0.0",
      "model_name": "HBoxModel",
      "state": {
       "children": [
        "IPY_MODEL_11d12a271a5642dbbe5569fefb51de4f",
        "IPY_MODEL_480b944374d745139283058502bd3922",
        "IPY_MODEL_d6ff669112c44d91aee39323ca2dd196"
       ],
       "layout": "IPY_MODEL_0263cc9418814c2a9f821b1536cb174a"
      }
     },
     "6eaeadd60cfa41808256154c6cec1db3": {
      "model_module": "@jupyter-widgets/base",
      "model_module_version": "2.0.0",
      "model_name": "LayoutModel",
      "state": {}
     },
     "6eb462a23d884ded96ee95fe069a4aa2": {
      "model_module": "@jupyter-widgets/controls",
      "model_module_version": "2.0.0",
      "model_name": "FloatProgressModel",
      "state": {
       "bar_style": "success",
       "layout": "IPY_MODEL_02ccc99a3f2d4dfb8401522cb9be47a3",
       "max": 516,
       "style": "IPY_MODEL_bded767c65f04aaab30d3fe4a73b7e55",
       "value": 516
      }
     },
     "6ec1e6b7e619476dbb86787dcaffe3db": {
      "model_module": "@jupyter-widgets/controls",
      "model_module_version": "2.0.0",
      "model_name": "FloatProgressModel",
      "state": {
       "bar_style": "success",
       "layout": "IPY_MODEL_270074febdcf42209bb5913a6e134c90",
       "max": 634,
       "style": "IPY_MODEL_39ba353e33704a9ea0c6766cd310da3e",
       "value": 634
      }
     },
     "6edec019a9d74175b7d67b3a7327ecbd": {
      "model_module": "@jupyter-widgets/base",
      "model_module_version": "2.0.0",
      "model_name": "LayoutModel",
      "state": {}
     },
     "6effdb2a52b14187b86af1aa5652990f": {
      "model_module": "@jupyter-widgets/controls",
      "model_module_version": "2.0.0",
      "model_name": "HTMLModel",
      "state": {
       "layout": "IPY_MODEL_9418664161474205ac2469adcb0322df",
       "style": "IPY_MODEL_59ba8eac070946f5a99f2c595a9b0fdc",
       "value": "100%"
      }
     },
     "6f3630956d6a44c8be702eeebc2ad9c1": {
      "model_module": "@jupyter-widgets/controls",
      "model_module_version": "2.0.0",
      "model_name": "HBoxModel",
      "state": {
       "children": [
        "IPY_MODEL_3249621ced3f49bc9a975ed8751c67a9",
        "IPY_MODEL_b4c8914a39174c04849240a097bd11b7",
        "IPY_MODEL_fd0824bf3f11433fbab0c9c2a286c147"
       ],
       "layout": "IPY_MODEL_0ec0dd8a654a4a0d8757f3d4d708f4a0"
      }
     },
     "6f3cc78396d946e8a45809e81dd79471": {
      "model_module": "@jupyter-widgets/base",
      "model_module_version": "2.0.0",
      "model_name": "LayoutModel",
      "state": {}
     },
     "6f3eaef40bd44d7db6d1e6331a48b393": {
      "model_module": "@jupyter-widgets/controls",
      "model_module_version": "2.0.0",
      "model_name": "HTMLModel",
      "state": {
       "layout": "IPY_MODEL_0b9b3f216791433b863ee583f941da93",
       "style": "IPY_MODEL_738270c0188d415fb42b78f6531f907e",
       "value": "100%"
      }
     },
     "6f3fa22ff64244f8998abe375ade6126": {
      "model_module": "@jupyter-widgets/controls",
      "model_module_version": "2.0.0",
      "model_name": "HBoxModel",
      "state": {
       "children": [
        "IPY_MODEL_21fb7fa993a447d48f81924114b6e75f",
        "IPY_MODEL_a2b55bca96204b9e80a335b376e8fff3",
        "IPY_MODEL_1f49df1224b64134aab2f15c16ce6a84"
       ],
       "layout": "IPY_MODEL_92754209053b437ba7208eda88341f8e"
      }
     },
     "6f60a6c66f2848a6a6e2acc51b450164": {
      "model_module": "@jupyter-widgets/controls",
      "model_module_version": "2.0.0",
      "model_name": "HTMLStyleModel",
      "state": {
       "description_width": "",
       "font_size": null,
       "text_color": null
      }
     },
     "6f654f1e810a44b39c2a33caa8607456": {
      "model_module": "@jupyter-widgets/controls",
      "model_module_version": "2.0.0",
      "model_name": "HTMLStyleModel",
      "state": {
       "description_width": "",
       "font_size": null,
       "text_color": null
      }
     },
     "6f9ee3df50a64e8abd4068decca76771": {
      "model_module": "@jupyter-widgets/controls",
      "model_module_version": "2.0.0",
      "model_name": "HTMLStyleModel",
      "state": {
       "description_width": "",
       "font_size": null,
       "text_color": null
      }
     },
     "6fc6569c750742cfa175beee098913e1": {
      "model_module": "@jupyter-widgets/controls",
      "model_module_version": "2.0.0",
      "model_name": "HTMLModel",
      "state": {
       "layout": "IPY_MODEL_f6abcf5daeb84aa7b21d04ae1a9c0566",
       "style": "IPY_MODEL_2b4a9adde876469496cd61d3d60255e5",
       "value": " 720/720 [00:00&lt;00:00, 199530.81it/s]"
      }
     },
     "6ff0d700ec6e4779b9a793ced734cbae": {
      "model_module": "@jupyter-widgets/base",
      "model_module_version": "2.0.0",
      "model_name": "LayoutModel",
      "state": {}
     },
     "6ff7c057516446eda82c308a8f7c900f": {
      "model_module": "@jupyter-widgets/controls",
      "model_module_version": "2.0.0",
      "model_name": "HTMLModel",
      "state": {
       "layout": "IPY_MODEL_dbc42562cd8e437695648b8bb4483920",
       "style": "IPY_MODEL_c6b3c9e1e45a4e9aabcf52ef4e5558b0",
       "value": " 491/491 [00:31&lt;00:00, 15.43it/s]"
      }
     },
     "705ce57a89d2419cb967c57871065a2a": {
      "model_module": "@jupyter-widgets/base",
      "model_module_version": "2.0.0",
      "model_name": "LayoutModel",
      "state": {}
     },
     "708055c133f1496a92d492accf7d0567": {
      "model_module": "@jupyter-widgets/base",
      "model_module_version": "2.0.0",
      "model_name": "LayoutModel",
      "state": {}
     },
     "709e841d55e44f578a0bebc999f5584f": {
      "model_module": "@jupyter-widgets/controls",
      "model_module_version": "2.0.0",
      "model_name": "HTMLModel",
      "state": {
       "layout": "IPY_MODEL_16699ecca0ef4be88b423a0c4636fe00",
       "style": "IPY_MODEL_1e3a8fc07c074ae6b8cbb1263d939318",
       "value": " 0/927 [00:00&lt;?, ?it/s]"
      }
     },
     "70d1ea924c7c4c48a8b8b45151dc3ec3": {
      "model_module": "@jupyter-widgets/controls",
      "model_module_version": "2.0.0",
      "model_name": "FloatProgressModel",
      "state": {
       "bar_style": "success",
       "layout": "IPY_MODEL_fc78b8c9ccae4de7a0c43055b394524a",
       "max": 612,
       "style": "IPY_MODEL_071d6fd9a01d4131aa4759b1383d01d8",
       "value": 612
      }
     },
     "70dcbe1c17484097bd6df786f13534d6": {
      "model_module": "@jupyter-widgets/controls",
      "model_module_version": "2.0.0",
      "model_name": "HTMLStyleModel",
      "state": {
       "description_width": "",
       "font_size": null,
       "text_color": null
      }
     },
     "70e1a396e3bb4e7c89ecde4e84d71640": {
      "model_module": "@jupyter-widgets/controls",
      "model_module_version": "2.0.0",
      "model_name": "HTMLModel",
      "state": {
       "layout": "IPY_MODEL_8f071db1dce347b6a18452ff9804183f",
       "style": "IPY_MODEL_4b3584da9ff842c99803913aca0001aa",
       "value": "100%"
      }
     },
     "7107c73deabc4c11ac400dc4be9eadfb": {
      "model_module": "@jupyter-widgets/controls",
      "model_module_version": "2.0.0",
      "model_name": "HTMLModel",
      "state": {
       "layout": "IPY_MODEL_841d778796a14fdb8a3a6c5f003421b9",
       "style": "IPY_MODEL_ab8547cf409c4d90bf3929662c77868b",
       "value": "  0%"
      }
     },
     "71084ef782bf4aba8abdd6e6888f655e": {
      "model_module": "@jupyter-widgets/base",
      "model_module_version": "2.0.0",
      "model_name": "LayoutModel",
      "state": {}
     },
     "7113ec06295344a5ba1c6f05e00c3a26": {
      "model_module": "@jupyter-widgets/controls",
      "model_module_version": "2.0.0",
      "model_name": "HTMLStyleModel",
      "state": {
       "description_width": "",
       "font_size": null,
       "text_color": null
      }
     },
     "716340c3f6c34e0dae59147699460bfe": {
      "model_module": "@jupyter-widgets/controls",
      "model_module_version": "2.0.0",
      "model_name": "HTMLStyleModel",
      "state": {
       "description_width": "",
       "font_size": null,
       "text_color": null
      }
     },
     "717e21591149423f98c6ec8a57e2c007": {
      "model_module": "@jupyter-widgets/controls",
      "model_module_version": "2.0.0",
      "model_name": "HBoxModel",
      "state": {
       "children": [
        "IPY_MODEL_7dcf5fa3a8da4803876dce47dea40974",
        "IPY_MODEL_6c43b6e64a0f40728cfa6589682fc5ea",
        "IPY_MODEL_44c7fc07e1f84374a23ff5bfbfa8a9f5"
       ],
       "layout": "IPY_MODEL_be2d6a4253f24c7287911065782d69d4"
      }
     },
     "71a32719ca3549f7974e9aebb85f4c8e": {
      "model_module": "@jupyter-widgets/controls",
      "model_module_version": "2.0.0",
      "model_name": "HTMLModel",
      "state": {
       "layout": "IPY_MODEL_1f40882fb4014dcda30563557843900b",
       "style": "IPY_MODEL_051b3c800dfc43fe818bc13b1d913649",
       "value": "100%"
      }
     },
     "71c46868cf544899ac42b3e2dd471c44": {
      "model_module": "@jupyter-widgets/base",
      "model_module_version": "2.0.0",
      "model_name": "LayoutModel",
      "state": {}
     },
     "71c7bcb084fb4eaf9baf8f5f5e3092b9": {
      "model_module": "@jupyter-widgets/controls",
      "model_module_version": "2.0.0",
      "model_name": "HTMLModel",
      "state": {
       "layout": "IPY_MODEL_fae2e6cc0c91420996cf5b184abe2970",
       "style": "IPY_MODEL_3364f80149a442f4aef5205d43652394",
       "value": " 437/437 [00:28&lt;00:00, 15.35it/s]"
      }
     },
     "71cd6eb866374a2f9c2e36ee006d4cc1": {
      "model_module": "@jupyter-widgets/controls",
      "model_module_version": "2.0.0",
      "model_name": "ProgressStyleModel",
      "state": {
       "description_width": ""
      }
     },
     "7203257bdb3945efb7470ddc6ce8191e": {
      "model_module": "@jupyter-widgets/controls",
      "model_module_version": "2.0.0",
      "model_name": "HTMLStyleModel",
      "state": {
       "description_width": "",
       "font_size": null,
       "text_color": null
      }
     },
     "720e580e75664359b58886791f1172e2": {
      "model_module": "@jupyter-widgets/controls",
      "model_module_version": "2.0.0",
      "model_name": "FloatProgressModel",
      "state": {
       "bar_style": "success",
       "layout": "IPY_MODEL_0a51985a38f04160a5167776be11cf29",
       "max": 344,
       "style": "IPY_MODEL_a5fdff4273de47c9ae91b68790a2dce2",
       "value": 344
      }
     },
     "72140e1b620e4d99b9ab85dfe7cfaa1f": {
      "model_module": "@jupyter-widgets/controls",
      "model_module_version": "2.0.0",
      "model_name": "FloatProgressModel",
      "state": {
       "bar_style": "success",
       "layout": "IPY_MODEL_bf0842b5c58a4eb79a259f2568a8cc3b",
       "max": 704,
       "style": "IPY_MODEL_1f0258891b5d44e49876769f8f9568cb",
       "value": 704
      }
     },
     "722db766363f43ca83f63fd12ce56534": {
      "model_module": "@jupyter-widgets/base",
      "model_module_version": "2.0.0",
      "model_name": "LayoutModel",
      "state": {}
     },
     "7242798d71b34ebc8e9748b21366860b": {
      "model_module": "@jupyter-widgets/base",
      "model_module_version": "2.0.0",
      "model_name": "LayoutModel",
      "state": {}
     },
     "7319a771a1834bacb6b244ec59c70172": {
      "model_module": "@jupyter-widgets/base",
      "model_module_version": "2.0.0",
      "model_name": "LayoutModel",
      "state": {}
     },
     "7333663ad81b40cab1608b043ef1cd93": {
      "model_module": "@jupyter-widgets/base",
      "model_module_version": "2.0.0",
      "model_name": "LayoutModel",
      "state": {}
     },
     "7356f7fa01714948901afbeff1a6cfdc": {
      "model_module": "@jupyter-widgets/base",
      "model_module_version": "2.0.0",
      "model_name": "LayoutModel",
      "state": {}
     },
     "7375874b14094185981f38e6ac3b9f79": {
      "model_module": "@jupyter-widgets/controls",
      "model_module_version": "2.0.0",
      "model_name": "FloatProgressModel",
      "state": {
       "bar_style": "success",
       "layout": "IPY_MODEL_6da43b7769aa453d82a62d08ef8314ae",
       "max": 637,
       "style": "IPY_MODEL_403c7ea9e4344f7080d90dfe2ec54fbe",
       "value": 637
      }
     },
     "737eeb07d7e34092af850b4f663af9cc": {
      "model_module": "@jupyter-widgets/controls",
      "model_module_version": "2.0.0",
      "model_name": "HTMLStyleModel",
      "state": {
       "description_width": "",
       "font_size": null,
       "text_color": null
      }
     },
     "738270c0188d415fb42b78f6531f907e": {
      "model_module": "@jupyter-widgets/controls",
      "model_module_version": "2.0.0",
      "model_name": "HTMLStyleModel",
      "state": {
       "description_width": "",
       "font_size": null,
       "text_color": null
      }
     },
     "73b3262375cd4be984c7488ec1f48c59": {
      "model_module": "@jupyter-widgets/controls",
      "model_module_version": "2.0.0",
      "model_name": "HTMLStyleModel",
      "state": {
       "description_width": "",
       "font_size": null,
       "text_color": null
      }
     },
     "73bc913c745f4ea88161f451b735c25c": {
      "model_module": "@jupyter-widgets/controls",
      "model_module_version": "2.0.0",
      "model_name": "HTMLStyleModel",
      "state": {
       "description_width": "",
       "font_size": null,
       "text_color": null
      }
     },
     "73cd694fbbec46c7a1f8f329ee6f309d": {
      "model_module": "@jupyter-widgets/base",
      "model_module_version": "2.0.0",
      "model_name": "LayoutModel",
      "state": {}
     },
     "73d8c0336de246cb8c73280c3b9590a4": {
      "model_module": "@jupyter-widgets/controls",
      "model_module_version": "2.0.0",
      "model_name": "ProgressStyleModel",
      "state": {
       "description_width": ""
      }
     },
     "73f4c8a54fd74219a20a874856e50807": {
      "model_module": "@jupyter-widgets/controls",
      "model_module_version": "2.0.0",
      "model_name": "ProgressStyleModel",
      "state": {
       "description_width": ""
      }
     },
     "740fe86bac484a61b83a384823b1645b": {
      "model_module": "@jupyter-widgets/controls",
      "model_module_version": "2.0.0",
      "model_name": "HBoxModel",
      "state": {
       "children": [
        "IPY_MODEL_798750f83a8f45f3a605fb3305ad166f",
        "IPY_MODEL_082459eedfc946faab501ab65f6847d7",
        "IPY_MODEL_df12a341545f4238a1dff94bac7ed06a"
       ],
       "layout": "IPY_MODEL_e0e0e9737b1f4c2f8dac5442f5c03a9f"
      }
     },
     "7434f627669146848e14bf87c3895292": {
      "model_module": "@jupyter-widgets/base",
      "model_module_version": "2.0.0",
      "model_name": "LayoutModel",
      "state": {}
     },
     "74487b693d4d4b34b8da05543e452440": {
      "model_module": "@jupyter-widgets/controls",
      "model_module_version": "2.0.0",
      "model_name": "HTMLStyleModel",
      "state": {
       "description_width": "",
       "font_size": null,
       "text_color": null
      }
     },
     "74890cb1a26043019c0a2d4fb495ada8": {
      "model_module": "@jupyter-widgets/controls",
      "model_module_version": "2.0.0",
      "model_name": "HBoxModel",
      "state": {
       "children": [
        "IPY_MODEL_5489a80b9d2243fc82ab2870aacd80fc",
        "IPY_MODEL_87d6243ad04d493d94646a880e2dd06b",
        "IPY_MODEL_68ca2b1c1b81471ebf37ebb92b6fb410"
       ],
       "layout": "IPY_MODEL_2d133c13dafb4a3d92df33ddfd5e6b45"
      }
     },
     "748ab67ae46f435d840f671fd9dde2ef": {
      "model_module": "@jupyter-widgets/controls",
      "model_module_version": "2.0.0",
      "model_name": "HBoxModel",
      "state": {
       "children": [
        "IPY_MODEL_63ac85eedd85492e81fea781520d5d05",
        "IPY_MODEL_c57b3c611e3f412aa01653b84a5cef91",
        "IPY_MODEL_6d959cfa29eb41f3bf507f5dc8024854"
       ],
       "layout": "IPY_MODEL_0f5fa28b0b6b4e64b4d856e12e83b678"
      }
     },
     "748afdeb6922480094b47daffc9f338d": {
      "model_module": "@jupyter-widgets/controls",
      "model_module_version": "2.0.0",
      "model_name": "HTMLStyleModel",
      "state": {
       "description_width": "",
       "font_size": null,
       "text_color": null
      }
     },
     "74930b8558bb421cb88d7e1219570c82": {
      "model_module": "@jupyter-widgets/controls",
      "model_module_version": "2.0.0",
      "model_name": "HTMLStyleModel",
      "state": {
       "description_width": "",
       "font_size": null,
       "text_color": null
      }
     },
     "7494038c961a461eb58466df506ff4d5": {
      "model_module": "@jupyter-widgets/controls",
      "model_module_version": "2.0.0",
      "model_name": "HTMLStyleModel",
      "state": {
       "description_width": "",
       "font_size": null,
       "text_color": null
      }
     },
     "74db066304b5455c9b43c27db284f038": {
      "model_module": "@jupyter-widgets/controls",
      "model_module_version": "2.0.0",
      "model_name": "HTMLStyleModel",
      "state": {
       "description_width": "",
       "font_size": null,
       "text_color": null
      }
     },
     "74e08918ecce450886de3780d723fbe6": {
      "model_module": "@jupyter-widgets/controls",
      "model_module_version": "2.0.0",
      "model_name": "HBoxModel",
      "state": {
       "children": [
        "IPY_MODEL_ad7bfa04af674747b3589a86b42fc245",
        "IPY_MODEL_6ae097c85f174d6d82f9285fc146f72c",
        "IPY_MODEL_c87fd6887a614850afc7af3f3d784619"
       ],
       "layout": "IPY_MODEL_ce3d992aa2694d5c94320b07bbf8b991"
      }
     },
     "74ea0f0391224a4e8963b03fc7f0fe0e": {
      "model_module": "@jupyter-widgets/controls",
      "model_module_version": "2.0.0",
      "model_name": "HTMLModel",
      "state": {
       "layout": "IPY_MODEL_257e0fbe9d9b4ec4875725c37fc0e0ac",
       "style": "IPY_MODEL_d3aea3fe2a2b46ca8579c24bffee30d5",
       "value": "100%"
      }
     },
     "75091b10024940bf941dadb611847eaf": {
      "model_module": "@jupyter-widgets/controls",
      "model_module_version": "2.0.0",
      "model_name": "HTMLStyleModel",
      "state": {
       "description_width": "",
       "font_size": null,
       "text_color": null
      }
     },
     "7518f6fd9c2a4d76a2795f1135f1bf28": {
      "model_module": "@jupyter-widgets/controls",
      "model_module_version": "2.0.0",
      "model_name": "HTMLModel",
      "state": {
       "layout": "IPY_MODEL_2889227aac4b4af38ad0b59d3af0849f",
       "style": "IPY_MODEL_390d9eddeae54f6e8acea07b0df5b53a",
       "value": " 733/733 [00:00&lt;00:00, 202985.93it/s]"
      }
     },
     "75398ba7269f4f4c9d09c013a5c31dcf": {
      "model_module": "@jupyter-widgets/controls",
      "model_module_version": "2.0.0",
      "model_name": "HTMLStyleModel",
      "state": {
       "description_width": "",
       "font_size": null,
       "text_color": null
      }
     },
     "75409c5aba7f418eaddf9259ca53a0cf": {
      "model_module": "@jupyter-widgets/base",
      "model_module_version": "2.0.0",
      "model_name": "LayoutModel",
      "state": {}
     },
     "7543a96193cf4eb7b7e497d2f1029ce5": {
      "model_module": "@jupyter-widgets/base",
      "model_module_version": "2.0.0",
      "model_name": "LayoutModel",
      "state": {}
     },
     "7574def09494476ab9ac9097720de986": {
      "model_module": "@jupyter-widgets/controls",
      "model_module_version": "2.0.0",
      "model_name": "HBoxModel",
      "state": {
       "children": [
        "IPY_MODEL_4d4cd05711bc4ef09880bcd538acaf15",
        "IPY_MODEL_d2598edfed674499834e69934496e3f3",
        "IPY_MODEL_606c15ecf5c244908103ac996f5e6a32"
       ],
       "layout": "IPY_MODEL_2f807373722948858b3c2f2b2f55f414"
      }
     },
     "758f6760dd1b4af097483479bd9e5ef0": {
      "model_module": "@jupyter-widgets/base",
      "model_module_version": "2.0.0",
      "model_name": "LayoutModel",
      "state": {}
     },
     "75a136efcb094f5ebe4178d8ab8a9440": {
      "model_module": "@jupyter-widgets/controls",
      "model_module_version": "2.0.0",
      "model_name": "HTMLStyleModel",
      "state": {
       "description_width": "",
       "font_size": null,
       "text_color": null
      }
     },
     "75b247fbb4f54356881e8eddc3bb1f0e": {
      "model_module": "@jupyter-widgets/controls",
      "model_module_version": "2.0.0",
      "model_name": "HTMLModel",
      "state": {
       "layout": "IPY_MODEL_cc4534736e90486e9f4f4a47e8aa5aaa",
       "style": "IPY_MODEL_4470e5534a6945cab5a40bca197e15bf",
       "value": " 527/527 [00:00&lt;00:00, 148150.01it/s]"
      }
     },
     "75b4dab33c704b37bc101d7111838cc6": {
      "model_module": "@jupyter-widgets/base",
      "model_module_version": "2.0.0",
      "model_name": "LayoutModel",
      "state": {}
     },
     "75f89932186a4f809e8db5aa0f3aa51f": {
      "model_module": "@jupyter-widgets/controls",
      "model_module_version": "2.0.0",
      "model_name": "HTMLModel",
      "state": {
       "layout": "IPY_MODEL_636883c0aebe4e4a9cc4b4a015971566",
       "style": "IPY_MODEL_2a045f1f328840428253d1edc674f5a5",
       "value": "100%"
      }
     },
     "7617fc463dd146cb915685d602831aa7": {
      "model_module": "@jupyter-widgets/controls",
      "model_module_version": "2.0.0",
      "model_name": "FloatProgressModel",
      "state": {
       "bar_style": "success",
       "layout": "IPY_MODEL_178cc22a76cf47df9b5dc0ef2b84c0ba",
       "max": 475,
       "style": "IPY_MODEL_d54e74ba66c04c98b2900bc7860201f5",
       "value": 475
      }
     },
     "7628ca1aafc243c5b7d6ea89111abc9f": {
      "model_module": "@jupyter-widgets/base",
      "model_module_version": "2.0.0",
      "model_name": "LayoutModel",
      "state": {}
     },
     "763359f0b869417b9e67a912e49f085e": {
      "model_module": "@jupyter-widgets/controls",
      "model_module_version": "2.0.0",
      "model_name": "HBoxModel",
      "state": {
       "children": [
        "IPY_MODEL_bac102a6023d42e0bd134fd627403005",
        "IPY_MODEL_35b1ad5e251f4b50a5e0cf5855b8dfcc",
        "IPY_MODEL_848fca80dd99475d9fc75751045b90d0"
       ],
       "layout": "IPY_MODEL_2aba5fda67bf4094bb9fea4bc6c9dbfe"
      }
     },
     "765b4aa8e1374452b8bab367f71a296b": {
      "model_module": "@jupyter-widgets/controls",
      "model_module_version": "2.0.0",
      "model_name": "HTMLModel",
      "state": {
       "layout": "IPY_MODEL_cf29f5d8abd94a4284beab7ef8981b0d",
       "style": "IPY_MODEL_dd4b8a67df924e49b40120b934acee50",
       "value": " 623/623 [00:00&lt;00:00, 171415.07it/s]"
      }
     },
     "76791075b7434ae7b7606bfbbc4a844c": {
      "model_module": "@jupyter-widgets/base",
      "model_module_version": "2.0.0",
      "model_name": "LayoutModel",
      "state": {}
     },
     "76946c9909b6497e92a80133fa84c14b": {
      "model_module": "@jupyter-widgets/controls",
      "model_module_version": "2.0.0",
      "model_name": "HTMLStyleModel",
      "state": {
       "description_width": "",
       "font_size": null,
       "text_color": null
      }
     },
     "76b33c63443a4fe4ae3c2e5f752598fb": {
      "model_module": "@jupyter-widgets/controls",
      "model_module_version": "2.0.0",
      "model_name": "HTMLModel",
      "state": {
       "layout": "IPY_MODEL_1c57d5fcb7164758a4d50170932cd0b0",
       "style": "IPY_MODEL_298edd30a4a349e3a87b85604b48d773",
       "value": " 405/405 [00:00&lt;00:00, 112563.32it/s]"
      }
     },
     "76bed5599ab0467083cee36c17aff48d": {
      "model_module": "@jupyter-widgets/base",
      "model_module_version": "2.0.0",
      "model_name": "LayoutModel",
      "state": {}
     },
     "76cb23ed526a407c9023d60d143b3e5b": {
      "model_module": "@jupyter-widgets/controls",
      "model_module_version": "2.0.0",
      "model_name": "FloatProgressModel",
      "state": {
       "bar_style": "danger",
       "layout": "IPY_MODEL_6c3449210112424ba9116006075ee5a2",
       "max": 1036,
       "style": "IPY_MODEL_22f9a4520e1f4475bc596b9d31e7ea88"
      }
     },
     "76d5c97f031944949dfd6714a5f65a32": {
      "model_module": "@jupyter-widgets/base",
      "model_module_version": "2.0.0",
      "model_name": "LayoutModel",
      "state": {}
     },
     "76d5dcc829374b3ea339a93ef7afd5fe": {
      "model_module": "@jupyter-widgets/base",
      "model_module_version": "2.0.0",
      "model_name": "LayoutModel",
      "state": {}
     },
     "76e33d2db53d45cba323db9f0627f526": {
      "model_module": "@jupyter-widgets/controls",
      "model_module_version": "2.0.0",
      "model_name": "HTMLModel",
      "state": {
       "layout": "IPY_MODEL_2b0c3ed96fa646198519fc785c5b0fcc",
       "style": "IPY_MODEL_ce9cf913c8204199860a37cf8d708a13",
       "value": " 693/693 [00:00&lt;00:00, 191013.52it/s]"
      }
     },
     "771c663164954bd6829666c45dae5d8f": {
      "model_module": "@jupyter-widgets/controls",
      "model_module_version": "2.0.0",
      "model_name": "FloatProgressModel",
      "state": {
       "bar_style": "success",
       "layout": "IPY_MODEL_49b3deec376e4b2fa672f702131b1e79",
       "max": 405,
       "style": "IPY_MODEL_91ccd1c44ce5463ab80e0a2ae466a26c",
       "value": 405
      }
     },
     "771fc70f1e314c23a9fe6bc55b90e122": {
      "model_module": "@jupyter-widgets/base",
      "model_module_version": "2.0.0",
      "model_name": "LayoutModel",
      "state": {}
     },
     "774aa1ed363c4675b335aa99f572c0c8": {
      "model_module": "@jupyter-widgets/base",
      "model_module_version": "2.0.0",
      "model_name": "LayoutModel",
      "state": {}
     },
     "7759f581730948a8b06dcc7e21691217": {
      "model_module": "@jupyter-widgets/controls",
      "model_module_version": "2.0.0",
      "model_name": "HTMLModel",
      "state": {
       "layout": "IPY_MODEL_4be7f43cbfc04cba929f88111eb76997",
       "style": "IPY_MODEL_0806460bebd8436d8c125e662b44fd36",
       "value": "100%"
      }
     },
     "775aae781c2f45cfa0bdc4d480342a26": {
      "model_module": "@jupyter-widgets/controls",
      "model_module_version": "2.0.0",
      "model_name": "ProgressStyleModel",
      "state": {
       "description_width": ""
      }
     },
     "77a212e6859a4086ae0883aaf0e3c430": {
      "model_module": "@jupyter-widgets/base",
      "model_module_version": "2.0.0",
      "model_name": "LayoutModel",
      "state": {}
     },
     "77be08f4619249a49c7cdc53b4d0fa81": {
      "model_module": "@jupyter-widgets/controls",
      "model_module_version": "2.0.0",
      "model_name": "FloatProgressModel",
      "state": {
       "bar_style": "success",
       "layout": "IPY_MODEL_b9a08b7d5910414d9adba4f66e82c3ca",
       "max": 639,
       "style": "IPY_MODEL_fa07f7166f6249489b2f6073996440db",
       "value": 639
      }
     },
     "77bec8b5cff74f6f8eaf812dbb502b67": {
      "model_module": "@jupyter-widgets/controls",
      "model_module_version": "2.0.0",
      "model_name": "HBoxModel",
      "state": {
       "children": [
        "IPY_MODEL_1e44f3ee50aa41b78c744c63e5acad89",
        "IPY_MODEL_594cecb25dcd444884969ddb38f8dc1b",
        "IPY_MODEL_2fce356911824dd6bdb3495a15a99483"
       ],
       "layout": "IPY_MODEL_1af148d2201a482f8387c26d2a945c05"
      }
     },
     "77dc7ab65a0e4170a4baad0e875e553d": {
      "model_module": "@jupyter-widgets/controls",
      "model_module_version": "2.0.0",
      "model_name": "ProgressStyleModel",
      "state": {
       "description_width": ""
      }
     },
     "77deb31518604f5c948835822ba80107": {
      "model_module": "@jupyter-widgets/controls",
      "model_module_version": "2.0.0",
      "model_name": "HBoxModel",
      "state": {
       "children": [
        "IPY_MODEL_054906f9f2b84731b5d428d5f6f43139",
        "IPY_MODEL_a31564282d2f4a838530c7f072cf412a",
        "IPY_MODEL_202e17999ea148e6b49189b7f44cb6ea"
       ],
       "layout": "IPY_MODEL_f7b2e23dc60f4f6ab4746ecbb18be945"
      }
     },
     "77f8eb047f634cb884dc9043926b9faf": {
      "model_module": "@jupyter-widgets/controls",
      "model_module_version": "2.0.0",
      "model_name": "HBoxModel",
      "state": {
       "children": [
        "IPY_MODEL_cf5c8f937b344dbb864080b5e5b596e0",
        "IPY_MODEL_4f5333f566e948559fd98b11d3032e6f",
        "IPY_MODEL_a2b3be6bc729466f99caa8fb11f870fd"
       ],
       "layout": "IPY_MODEL_0f2a4dd31ca646b1bc303cf2ba7271ff"
      }
     },
     "780f5d240e864734977a8f27de0047ac": {
      "model_module": "@jupyter-widgets/controls",
      "model_module_version": "2.0.0",
      "model_name": "HTMLModel",
      "state": {
       "layout": "IPY_MODEL_cf2ed1bb47fb421699970ecddd131c0f",
       "style": "IPY_MODEL_3c71645d299a4d8fb0deb8d8498efd02",
       "value": "100%"
      }
     },
     "786153828e134d8b858472da93f6016b": {
      "model_module": "@jupyter-widgets/base",
      "model_module_version": "2.0.0",
      "model_name": "LayoutModel",
      "state": {}
     },
     "788f6ca18dd8447eab6bf1fa26989bfa": {
      "model_module": "@jupyter-widgets/controls",
      "model_module_version": "2.0.0",
      "model_name": "ProgressStyleModel",
      "state": {
       "description_width": ""
      }
     },
     "78bfa1745fff47aabaf4f42d433f88d3": {
      "model_module": "@jupyter-widgets/controls",
      "model_module_version": "2.0.0",
      "model_name": "HTMLModel",
      "state": {
       "layout": "IPY_MODEL_3c196f4da3f144b482420d938867767b",
       "style": "IPY_MODEL_c66886b1ccc543788b4f96e56ec31a21",
       "value": "100%"
      }
     },
     "78e6864198504960ba0e1f75c3f14350": {
      "model_module": "@jupyter-widgets/controls",
      "model_module_version": "2.0.0",
      "model_name": "HTMLStyleModel",
      "state": {
       "description_width": "",
       "font_size": null,
       "text_color": null
      }
     },
     "78e6dfc788fa4b4a8efd8721c31565d3": {
      "model_module": "@jupyter-widgets/base",
      "model_module_version": "2.0.0",
      "model_name": "LayoutModel",
      "state": {}
     },
     "78e8baeb84ac43f593ce97e9550a0111": {
      "model_module": "@jupyter-widgets/base",
      "model_module_version": "2.0.0",
      "model_name": "LayoutModel",
      "state": {}
     },
     "78e9aa30d01b4586ac52afdbf8032ab0": {
      "model_module": "@jupyter-widgets/controls",
      "model_module_version": "2.0.0",
      "model_name": "HTMLModel",
      "state": {
       "layout": "IPY_MODEL_835332a62b7f4ee4a5a3791aecec17e6",
       "style": "IPY_MODEL_f1204b2d29f74c48b152af59f6877296",
       "value": " 578/578 [00:00&lt;00:00, 157576.06it/s]"
      }
     },
     "78fc6308eff644c09f2182ba4d207fd0": {
      "model_module": "@jupyter-widgets/controls",
      "model_module_version": "2.0.0",
      "model_name": "HTMLStyleModel",
      "state": {
       "description_width": "",
       "font_size": null,
       "text_color": null
      }
     },
     "78fc884a81a14921a77b1d12c90e85a2": {
      "model_module": "@jupyter-widgets/controls",
      "model_module_version": "2.0.0",
      "model_name": "FloatProgressModel",
      "state": {
       "bar_style": "success",
       "layout": "IPY_MODEL_931a12c9c8d541e284f83784213b59f1",
       "max": 596,
       "style": "IPY_MODEL_1fd1371ea57543c0be3a089538cef5e4",
       "value": 596
      }
     },
     "79534cda34604e02a3dfaa8437306670": {
      "model_module": "@jupyter-widgets/controls",
      "model_module_version": "2.0.0",
      "model_name": "ProgressStyleModel",
      "state": {
       "description_width": ""
      }
     },
     "79748c55df854de3b4fb4a94320cd4a8": {
      "model_module": "@jupyter-widgets/controls",
      "model_module_version": "2.0.0",
      "model_name": "HBoxModel",
      "state": {
       "children": [
        "IPY_MODEL_78bfa1745fff47aabaf4f42d433f88d3",
        "IPY_MODEL_391582a1726445778b40700fb6e5074c",
        "IPY_MODEL_fe7237390695413f8b2410bdcc8b6e3b"
       ],
       "layout": "IPY_MODEL_e5cb06eb1c454835837c51000ecc4b63"
      }
     },
     "7977833c5fa24d5baffe0dcd5c7028c1": {
      "model_module": "@jupyter-widgets/controls",
      "model_module_version": "2.0.0",
      "model_name": "HTMLStyleModel",
      "state": {
       "description_width": "",
       "font_size": null,
       "text_color": null
      }
     },
     "7981bca79bfb4ab3bfcc97656bb79f49": {
      "model_module": "@jupyter-widgets/controls",
      "model_module_version": "2.0.0",
      "model_name": "HTMLStyleModel",
      "state": {
       "description_width": "",
       "font_size": null,
       "text_color": null
      }
     },
     "798750f83a8f45f3a605fb3305ad166f": {
      "model_module": "@jupyter-widgets/controls",
      "model_module_version": "2.0.0",
      "model_name": "HTMLModel",
      "state": {
       "layout": "IPY_MODEL_29040123d53e45a08b5d073771d6122a",
       "style": "IPY_MODEL_6f9ee3df50a64e8abd4068decca76771",
       "value": "100%"
      }
     },
     "79bf68e1450748d2ab77bc7fca883114": {
      "model_module": "@jupyter-widgets/controls",
      "model_module_version": "2.0.0",
      "model_name": "HTMLModel",
      "state": {
       "layout": "IPY_MODEL_5b5856a80b4e44428e5c83b4d7dbe897",
       "style": "IPY_MODEL_75a136efcb094f5ebe4178d8ab8a9440",
       "value": "100%"
      }
     },
     "79c2fc72104c4167a39df926de4b0257": {
      "model_module": "@jupyter-widgets/base",
      "model_module_version": "2.0.0",
      "model_name": "LayoutModel",
      "state": {}
     },
     "79cea479db764d70ab4d737fb6d2cceb": {
      "model_module": "@jupyter-widgets/base",
      "model_module_version": "2.0.0",
      "model_name": "LayoutModel",
      "state": {}
     },
     "79eba8271cab4cec93cd9bfb3a4cccbb": {
      "model_module": "@jupyter-widgets/controls",
      "model_module_version": "2.0.0",
      "model_name": "HBoxModel",
      "state": {
       "children": [
        "IPY_MODEL_e19afe059d2b4b009c78ab1334470ec8",
        "IPY_MODEL_e4df5c720fde4d84b69375d444a5e102",
        "IPY_MODEL_a7d0c4fce5074609810f2d622dd2a9a7"
       ],
       "layout": "IPY_MODEL_9d9b5e6074eb43469a51b484bbf3fe29"
      }
     },
     "7a029a891145410bbb259c06fa86f2b0": {
      "model_module": "@jupyter-widgets/base",
      "model_module_version": "2.0.0",
      "model_name": "LayoutModel",
      "state": {}
     },
     "7a203bbd8eea4b16aa15689b6998c1c6": {
      "model_module": "@jupyter-widgets/base",
      "model_module_version": "2.0.0",
      "model_name": "LayoutModel",
      "state": {}
     },
     "7a545eff8456458ab804a9c753b5872b": {
      "model_module": "@jupyter-widgets/controls",
      "model_module_version": "2.0.0",
      "model_name": "FloatProgressModel",
      "state": {
       "bar_style": "success",
       "layout": "IPY_MODEL_46aa95f1e2764dfb98ea498691c85df5",
       "max": 578,
       "style": "IPY_MODEL_9da252e883564ddc86272ee2e748ed69",
       "value": 578
      }
     },
     "7a563c0cc9dc4e77b5032767b404400b": {
      "model_module": "@jupyter-widgets/base",
      "model_module_version": "2.0.0",
      "model_name": "LayoutModel",
      "state": {}
     },
     "7a5e7f1263bf43ddad71fe08662940b1": {
      "model_module": "@jupyter-widgets/controls",
      "model_module_version": "2.0.0",
      "model_name": "HTMLModel",
      "state": {
       "layout": "IPY_MODEL_5f80493260ef4e7b9fc56c6ffb419b02",
       "style": "IPY_MODEL_c4d19d3c87c6492b8cdff0207e94a873",
       "value": "100%"
      }
     },
     "7a7af58719ec4c5a912b323d91a8105f": {
      "model_module": "@jupyter-widgets/controls",
      "model_module_version": "2.0.0",
      "model_name": "HTMLModel",
      "state": {
       "layout": "IPY_MODEL_f338a72571ab4223bc682218a34a450f",
       "style": "IPY_MODEL_dbe595b1d1464b45aa415b51ec393403",
       "value": "100%"
      }
     },
     "7a803797f72c4e9389384573e07b20e7": {
      "model_module": "@jupyter-widgets/base",
      "model_module_version": "2.0.0",
      "model_name": "LayoutModel",
      "state": {}
     },
     "7ace23604bc34f69a7b2462b936a20b5": {
      "model_module": "@jupyter-widgets/base",
      "model_module_version": "2.0.0",
      "model_name": "LayoutModel",
      "state": {}
     },
     "7ae1047d612d49358450adcc73abefd5": {
      "model_module": "@jupyter-widgets/controls",
      "model_module_version": "2.0.0",
      "model_name": "HBoxModel",
      "state": {
       "children": [
        "IPY_MODEL_93145d38622540ddacc2048a26d5ce2a",
        "IPY_MODEL_9dcdeab8df764bd5815e5e22d81f0bae",
        "IPY_MODEL_eaeb764ea68842a8865309b2bcff64e3"
       ],
       "layout": "IPY_MODEL_a40b717e9f1144a38381bf311c432bec"
      }
     },
     "7b372c3261d94cca912ddaa182726131": {
      "model_module": "@jupyter-widgets/controls",
      "model_module_version": "2.0.0",
      "model_name": "HTMLStyleModel",
      "state": {
       "description_width": "",
       "font_size": null,
       "text_color": null
      }
     },
     "7b4e0192eba540978beb187321b8ccb0": {
      "model_module": "@jupyter-widgets/controls",
      "model_module_version": "2.0.0",
      "model_name": "HTMLStyleModel",
      "state": {
       "description_width": "",
       "font_size": null,
       "text_color": null
      }
     },
     "7b6c2e0e212846ef8cb9a84f657e33a6": {
      "model_module": "@jupyter-widgets/base",
      "model_module_version": "2.0.0",
      "model_name": "LayoutModel",
      "state": {}
     },
     "7b726225631c46f589d9dd994e50c60c": {
      "model_module": "@jupyter-widgets/base",
      "model_module_version": "2.0.0",
      "model_name": "LayoutModel",
      "state": {}
     },
     "7b754479c26b48e7a4ad8d03a6aabd73": {
      "model_module": "@jupyter-widgets/controls",
      "model_module_version": "2.0.0",
      "model_name": "HTMLModel",
      "state": {
       "layout": "IPY_MODEL_933093df19bd42f7be18dafbda7b5133",
       "style": "IPY_MODEL_fe186ca510e44428876021a7988c1b55",
       "value": "100%"
      }
     },
     "7b7df4919e894463a4cc028a1c5ce36c": {
      "model_module": "@jupyter-widgets/controls",
      "model_module_version": "2.0.0",
      "model_name": "HTMLStyleModel",
      "state": {
       "description_width": "",
       "font_size": null,
       "text_color": null
      }
     },
     "7b838df12184414eb7a4a329851b4045": {
      "model_module": "@jupyter-widgets/controls",
      "model_module_version": "2.0.0",
      "model_name": "HTMLStyleModel",
      "state": {
       "description_width": "",
       "font_size": null,
       "text_color": null
      }
     },
     "7baab4f3bb274797901086a4db3db4dd": {
      "model_module": "@jupyter-widgets/controls",
      "model_module_version": "2.0.0",
      "model_name": "ProgressStyleModel",
      "state": {
       "description_width": ""
      }
     },
     "7bdc07dde2634465909419cf14bc359f": {
      "model_module": "@jupyter-widgets/controls",
      "model_module_version": "2.0.0",
      "model_name": "FloatProgressModel",
      "state": {
       "bar_style": "success",
       "layout": "IPY_MODEL_f95e2e1bcc624e7eb0879a369f51834f",
       "max": 456,
       "style": "IPY_MODEL_07ed7a1cc285427fa901e2a77366d954",
       "value": 456
      }
     },
     "7c14cb7d88794189821e591e13b4add5": {
      "model_module": "@jupyter-widgets/base",
      "model_module_version": "2.0.0",
      "model_name": "LayoutModel",
      "state": {}
     },
     "7c4deaf68b6345cca301e9e8288fcaa2": {
      "model_module": "@jupyter-widgets/controls",
      "model_module_version": "2.0.0",
      "model_name": "HBoxModel",
      "state": {
       "children": [
        "IPY_MODEL_8dc5b660eb9a440eb42e72226028a716",
        "IPY_MODEL_635e8a696bba4754bbe208d4e2db052a",
        "IPY_MODEL_f4173956504c4b18bd3ac36a20dec2c4"
       ],
       "layout": "IPY_MODEL_b04c72d4dd59439c85aae885f9337858"
      }
     },
     "7c6ccd52269f4cd098d5e7e689b8854a": {
      "model_module": "@jupyter-widgets/controls",
      "model_module_version": "2.0.0",
      "model_name": "FloatProgressModel",
      "state": {
       "bar_style": "success",
       "layout": "IPY_MODEL_b97c9029d5bf46358a151a6ac6e3f839",
       "max": 623,
       "style": "IPY_MODEL_416e984452dd4f8abeb92208a1de7f6c",
       "value": 623
      }
     },
     "7c75254bf4054b688e8ce5bdc020af86": {
      "model_module": "@jupyter-widgets/base",
      "model_module_version": "2.0.0",
      "model_name": "LayoutModel",
      "state": {}
     },
     "7c8579b6e88b403a80f897c086a91d9f": {
      "model_module": "@jupyter-widgets/controls",
      "model_module_version": "2.0.0",
      "model_name": "ProgressStyleModel",
      "state": {
       "description_width": ""
      }
     },
     "7ca79d6508aa4264901c94f10dc9df21": {
      "model_module": "@jupyter-widgets/base",
      "model_module_version": "2.0.0",
      "model_name": "LayoutModel",
      "state": {}
     },
     "7cda229a6344407bbbe26c569cbcbc8f": {
      "model_module": "@jupyter-widgets/controls",
      "model_module_version": "2.0.0",
      "model_name": "ProgressStyleModel",
      "state": {
       "description_width": ""
      }
     },
     "7d2b2930bd1f4590988eb5bd4e27f7de": {
      "model_module": "@jupyter-widgets/controls",
      "model_module_version": "2.0.0",
      "model_name": "ProgressStyleModel",
      "state": {
       "description_width": ""
      }
     },
     "7d320bd7c5484dfab71ace8529b70d1d": {
      "model_module": "@jupyter-widgets/controls",
      "model_module_version": "2.0.0",
      "model_name": "HBoxModel",
      "state": {
       "children": [
        "IPY_MODEL_66bbfeabba304c4d930e105935c73d0e",
        "IPY_MODEL_2e398723e4ba4165a8df728e576814f6",
        "IPY_MODEL_2298347f6e6a4527a2be259788d97d38"
       ],
       "layout": "IPY_MODEL_692c197c01b5465d9baf9321d9156e29"
      }
     },
     "7d46307ccdc944f485ee329c3697e113": {
      "model_module": "@jupyter-widgets/controls",
      "model_module_version": "2.0.0",
      "model_name": "HTMLModel",
      "state": {
       "layout": "IPY_MODEL_a87364f138a44f549273288b8a9eac7a",
       "style": "IPY_MODEL_2f69260c69d540c887044d552257e3ee",
       "value": " 118/118 [00:13&lt;00:00, 37.89it/s]"
      }
     },
     "7d8fcc1c2c564ae58b6322b8cda77742": {
      "model_module": "@jupyter-widgets/controls",
      "model_module_version": "2.0.0",
      "model_name": "HTMLModel",
      "state": {
       "layout": "IPY_MODEL_404def8b7d8747aa8f38f460c65e8493",
       "style": "IPY_MODEL_3e4202fdf7854b20a5798132690cb73f",
       "value": "100%"
      }
     },
     "7d973e2eaab24a26a0d4be5b3244956d": {
      "model_module": "@jupyter-widgets/base",
      "model_module_version": "2.0.0",
      "model_name": "LayoutModel",
      "state": {}
     },
     "7dbd493078644cf3ac98ceddc2225073": {
      "model_module": "@jupyter-widgets/base",
      "model_module_version": "2.0.0",
      "model_name": "LayoutModel",
      "state": {}
     },
     "7dcf5fa3a8da4803876dce47dea40974": {
      "model_module": "@jupyter-widgets/controls",
      "model_module_version": "2.0.0",
      "model_name": "HTMLModel",
      "state": {
       "layout": "IPY_MODEL_9b79f42da61a40f68250b002b153376e",
       "style": "IPY_MODEL_88186e60779a490cab2799a4c7b1aa96",
       "value": "100%"
      }
     },
     "7df937d2af4f483895fafea5f33efafb": {
      "model_module": "@jupyter-widgets/controls",
      "model_module_version": "2.0.0",
      "model_name": "FloatProgressModel",
      "state": {
       "bar_style": "success",
       "layout": "IPY_MODEL_ce98c26c0c1f4146a688b9285a744e78",
       "max": 437,
       "style": "IPY_MODEL_029020d80ff04fb6937f82f42dabeefa",
       "value": 437
      }
     },
     "7dfb9827f02f4ba3853dc09c15c28d68": {
      "model_module": "@jupyter-widgets/controls",
      "model_module_version": "2.0.0",
      "model_name": "HTMLStyleModel",
      "state": {
       "description_width": "",
       "font_size": null,
       "text_color": null
      }
     },
     "7e221ef443074875a5c52d873841dc06": {
      "model_module": "@jupyter-widgets/controls",
      "model_module_version": "2.0.0",
      "model_name": "HTMLStyleModel",
      "state": {
       "description_width": "",
       "font_size": null,
       "text_color": null
      }
     },
     "7e71eb67de58420181074d69b1b3ea1c": {
      "model_module": "@jupyter-widgets/base",
      "model_module_version": "2.0.0",
      "model_name": "LayoutModel",
      "state": {}
     },
     "7e74598519ca45eeb8775c889f388d94": {
      "model_module": "@jupyter-widgets/controls",
      "model_module_version": "2.0.0",
      "model_name": "FloatProgressModel",
      "state": {
       "bar_style": "success",
       "layout": "IPY_MODEL_47e5885f631d43dcbdaeb9e7c8abb46f",
       "max": 468,
       "style": "IPY_MODEL_c4302098ea06441d85fca8ac66e251f3",
       "value": 468
      }
     },
     "7e9f50f5631047f9b78d8b22a9a494d0": {
      "model_module": "@jupyter-widgets/controls",
      "model_module_version": "2.0.0",
      "model_name": "HTMLStyleModel",
      "state": {
       "description_width": "",
       "font_size": null,
       "text_color": null
      }
     },
     "7ea5c2bc75e646579da99234a9677bb8": {
      "model_module": "@jupyter-widgets/controls",
      "model_module_version": "2.0.0",
      "model_name": "HTMLModel",
      "state": {
       "layout": "IPY_MODEL_955426b381734f70a69c3b12a4d21da2",
       "style": "IPY_MODEL_70dcbe1c17484097bd6df786f13534d6",
       "value": "  0%"
      }
     },
     "7ebf54292c454b46aa1d26b073945eba": {
      "model_module": "@jupyter-widgets/controls",
      "model_module_version": "2.0.0",
      "model_name": "HTMLModel",
      "state": {
       "layout": "IPY_MODEL_3ebabf9fa31543459c0e3e5ac44533ff",
       "style": "IPY_MODEL_334af103e92041a29082baf8fafe51ef",
       "value": "  0%"
      }
     },
     "7ee9f3a03ccb409580d271c56d37ea09": {
      "model_module": "@jupyter-widgets/controls",
      "model_module_version": "2.0.0",
      "model_name": "HTMLModel",
      "state": {
       "layout": "IPY_MODEL_e3e30943eed845a7948f8aa27e7b54ed",
       "style": "IPY_MODEL_cfe3288f191f4309bc3067c0978ff2e1",
       "value": "100%"
      }
     },
     "7f113028687e4a889e1108351794474d": {
      "model_module": "@jupyter-widgets/controls",
      "model_module_version": "2.0.0",
      "model_name": "HTMLModel",
      "state": {
       "layout": "IPY_MODEL_0006facbd3614fe1a2a377945ee5601d",
       "style": "IPY_MODEL_0bd44225cdc9410b8935f0239ec38d7b",
       "value": " 492/492 [00:00&lt;00:00, 137371.69it/s]"
      }
     },
     "7f2d0c97882946d692013bd7216808de": {
      "model_module": "@jupyter-widgets/base",
      "model_module_version": "2.0.0",
      "model_name": "LayoutModel",
      "state": {}
     },
     "7f50b81fe6a74e289ad3506d6c45c26b": {
      "model_module": "@jupyter-widgets/base",
      "model_module_version": "2.0.0",
      "model_name": "LayoutModel",
      "state": {}
     },
     "7f55ab5487c844659a6f50fc6d886064": {
      "model_module": "@jupyter-widgets/controls",
      "model_module_version": "2.0.0",
      "model_name": "HTMLModel",
      "state": {
       "layout": "IPY_MODEL_e323924748444be5aed90ecdb8b7f7ae",
       "style": "IPY_MODEL_99377d183d844d0d8929c0832244cbf3",
       "value": "  0%"
      }
     },
     "7f7206103f924be69a1f979cf99e6a2d": {
      "model_module": "@jupyter-widgets/base",
      "model_module_version": "2.0.0",
      "model_name": "LayoutModel",
      "state": {}
     },
     "7f831910b4aa4a6c8d4460e526e9404e": {
      "model_module": "@jupyter-widgets/controls",
      "model_module_version": "2.0.0",
      "model_name": "HTMLStyleModel",
      "state": {
       "description_width": "",
       "font_size": null,
       "text_color": null
      }
     },
     "7f9b562f4ad345e78c46a92fc99615dd": {
      "model_module": "@jupyter-widgets/controls",
      "model_module_version": "2.0.0",
      "model_name": "HBoxModel",
      "state": {
       "children": [
        "IPY_MODEL_80fd6a66598f422692bd41da873fca89",
        "IPY_MODEL_21f9a969ae7b40a7b995de523a5a4a9f",
        "IPY_MODEL_ef57f559fcbd49308c1cf687fcc07ee4"
       ],
       "layout": "IPY_MODEL_8c9c9eca161d40aa8c85d002800eab37"
      }
     },
     "7fa35bd55e7640d5a6cbd8aa3bfeca85": {
      "model_module": "@jupyter-widgets/base",
      "model_module_version": "2.0.0",
      "model_name": "LayoutModel",
      "state": {}
     },
     "80181fe3673a4f9c81237113fb09241a": {
      "model_module": "@jupyter-widgets/controls",
      "model_module_version": "2.0.0",
      "model_name": "HBoxModel",
      "state": {
       "children": [
        "IPY_MODEL_287107e7513d4867a107653c88d20970",
        "IPY_MODEL_667e153243a9430d9821f5578434bbe8",
        "IPY_MODEL_fc936681009d48709e60e00e94536813"
       ],
       "layout": "IPY_MODEL_d29ee9f847b144898fc9d60d3a9d2ee8"
      }
     },
     "801a1fd834d745c8b98527672869a6b6": {
      "model_module": "@jupyter-widgets/controls",
      "model_module_version": "2.0.0",
      "model_name": "FloatProgressModel",
      "state": {
       "bar_style": "success",
       "layout": "IPY_MODEL_e8cdf65f553c445791df4d1bc0d56e8a",
       "max": 737,
       "style": "IPY_MODEL_21ad00287df245c4bca6e4f529ba9d75",
       "value": 737
      }
     },
     "801aae61b0b94ebdb640c677e6fe5f34": {
      "model_module": "@jupyter-widgets/controls",
      "model_module_version": "2.0.0",
      "model_name": "HTMLStyleModel",
      "state": {
       "description_width": "",
       "font_size": null,
       "text_color": null
      }
     },
     "802cdc8c17e14a21af37f6a9e6df4670": {
      "model_module": "@jupyter-widgets/controls",
      "model_module_version": "2.0.0",
      "model_name": "HTMLStyleModel",
      "state": {
       "description_width": "",
       "font_size": null,
       "text_color": null
      }
     },
     "8062fddb9b7c4d5fbf7342785acc73bc": {
      "model_module": "@jupyter-widgets/controls",
      "model_module_version": "2.0.0",
      "model_name": "HBoxModel",
      "state": {
       "children": [
        "IPY_MODEL_298ce90da0554be08c78c1453a96192f",
        "IPY_MODEL_7a545eff8456458ab804a9c753b5872b",
        "IPY_MODEL_63ae344acdfc487b8d2d685c5aae2203"
       ],
       "layout": "IPY_MODEL_f74fe5ea75ad4d92ba8d0fa9e1cfc3db"
      }
     },
     "807e4fa01fd04781b80ea77bc4e082b0": {
      "model_module": "@jupyter-widgets/base",
      "model_module_version": "2.0.0",
      "model_name": "LayoutModel",
      "state": {}
     },
     "809609af498645a2b8b3826691136a5c": {
      "model_module": "@jupyter-widgets/base",
      "model_module_version": "2.0.0",
      "model_name": "LayoutModel",
      "state": {}
     },
     "80a5293ede884b948d8544c9d6a46859": {
      "model_module": "@jupyter-widgets/controls",
      "model_module_version": "2.0.0",
      "model_name": "HTMLStyleModel",
      "state": {
       "description_width": "",
       "font_size": null,
       "text_color": null
      }
     },
     "80b96fc8c1654add9233f416883aac56": {
      "model_module": "@jupyter-widgets/controls",
      "model_module_version": "2.0.0",
      "model_name": "HTMLModel",
      "state": {
       "layout": "IPY_MODEL_d9bdfa1450e04bc7bd788d8297dcc0d9",
       "style": "IPY_MODEL_ac0f2b6cbe43413091b98ea74a6c41b5",
       "value": "100%"
      }
     },
     "80ca8a7f21df4c4ab2f6e9a1a259f91d": {
      "model_module": "@jupyter-widgets/controls",
      "model_module_version": "2.0.0",
      "model_name": "ProgressStyleModel",
      "state": {
       "description_width": ""
      }
     },
     "80d8d4806c964529ab8cb945cbcdb999": {
      "model_module": "@jupyter-widgets/base",
      "model_module_version": "2.0.0",
      "model_name": "LayoutModel",
      "state": {}
     },
     "80e6f4a6dad14e4c90f0a0e9fd5e2058": {
      "model_module": "@jupyter-widgets/base",
      "model_module_version": "2.0.0",
      "model_name": "LayoutModel",
      "state": {}
     },
     "80fd6a66598f422692bd41da873fca89": {
      "model_module": "@jupyter-widgets/controls",
      "model_module_version": "2.0.0",
      "model_name": "HTMLModel",
      "state": {
       "layout": "IPY_MODEL_722db766363f43ca83f63fd12ce56534",
       "style": "IPY_MODEL_9afbc49635ca45dc81fc9cca3801d7cf",
       "value": "100%"
      }
     },
     "8108b41f57364dedbcdfb7fdd951038c": {
      "model_module": "@jupyter-widgets/controls",
      "model_module_version": "2.0.0",
      "model_name": "HTMLModel",
      "state": {
       "layout": "IPY_MODEL_591d6540dec64ee0a3779a47dab1b192",
       "style": "IPY_MODEL_f8a44b75dc8245fca58b448a45efe8b6",
       "value": " 618/618 [00:39&lt;00:00, 15.63it/s]"
      }
     },
     "811638da47c04bf4b3a29c141a911bd5": {
      "model_module": "@jupyter-widgets/controls",
      "model_module_version": "2.0.0",
      "model_name": "HBoxModel",
      "state": {
       "children": [
        "IPY_MODEL_4d5ba7cab4424eb49653906ff6762245",
        "IPY_MODEL_77be08f4619249a49c7cdc53b4d0fa81",
        "IPY_MODEL_4bc9bc3f3fbd4466996db3ca182f27ba"
       ],
       "layout": "IPY_MODEL_76791075b7434ae7b7606bfbbc4a844c"
      }
     },
     "8127eb8116054efebb39ec884d3fed6d": {
      "model_module": "@jupyter-widgets/controls",
      "model_module_version": "2.0.0",
      "model_name": "ProgressStyleModel",
      "state": {
       "description_width": ""
      }
     },
     "812dc799c6304610907ad69a63fade5d": {
      "model_module": "@jupyter-widgets/controls",
      "model_module_version": "2.0.0",
      "model_name": "HTMLModel",
      "state": {
       "layout": "IPY_MODEL_1b5227c2328a4eb0bfd7a13875a67a33",
       "style": "IPY_MODEL_737eeb07d7e34092af850b4f663af9cc",
       "value": "100%"
      }
     },
     "818314cb9e354a0295fb91f1a95ed919": {
      "model_module": "@jupyter-widgets/base",
      "model_module_version": "2.0.0",
      "model_name": "LayoutModel",
      "state": {}
     },
     "819cd1b513a64eb0b23272c9ed6db993": {
      "model_module": "@jupyter-widgets/base",
      "model_module_version": "2.0.0",
      "model_name": "LayoutModel",
      "state": {}
     },
     "81a7ab2b3b4f49dd88f989387580db91": {
      "model_module": "@jupyter-widgets/controls",
      "model_module_version": "2.0.0",
      "model_name": "HTMLStyleModel",
      "state": {
       "description_width": "",
       "font_size": null,
       "text_color": null
      }
     },
     "81ada3173f2b404094dbaf8ff24f57ff": {
      "model_module": "@jupyter-widgets/controls",
      "model_module_version": "2.0.0",
      "model_name": "HBoxModel",
      "state": {
       "children": [
        "IPY_MODEL_5d7b0a29760b4e4387f1a21c01467de4",
        "IPY_MODEL_20d75a76d0704291b5cf9c000852b9e8",
        "IPY_MODEL_7d46307ccdc944f485ee329c3697e113"
       ],
       "layout": "IPY_MODEL_7a203bbd8eea4b16aa15689b6998c1c6"
      }
     },
     "81c0eecf412c4b73968a62e0f6e62d14": {
      "model_module": "@jupyter-widgets/controls",
      "model_module_version": "2.0.0",
      "model_name": "HTMLModel",
      "state": {
       "layout": "IPY_MODEL_d70bb50e4b7f4141aa1e1911e0e55fa3",
       "style": "IPY_MODEL_73bc913c745f4ea88161f451b735c25c",
       "value": "100%"
      }
     },
     "81d62a8d6cc2416198c4a57a161cde13": {
      "model_module": "@jupyter-widgets/controls",
      "model_module_version": "2.0.0",
      "model_name": "HTMLStyleModel",
      "state": {
       "description_width": "",
       "font_size": null,
       "text_color": null
      }
     },
     "81e55c918c104ed8ab6718f535b67e0d": {
      "model_module": "@jupyter-widgets/controls",
      "model_module_version": "2.0.0",
      "model_name": "HTMLStyleModel",
      "state": {
       "description_width": "",
       "font_size": null,
       "text_color": null
      }
     },
     "81f1c03f05a5452d957d1340523a2cac": {
      "model_module": "@jupyter-widgets/controls",
      "model_module_version": "2.0.0",
      "model_name": "FloatProgressModel",
      "state": {
       "bar_style": "success",
       "layout": "IPY_MODEL_06741aca97d24a828dc29ac9dc897b71",
       "max": 405,
       "style": "IPY_MODEL_1bc460d47af6457597b779c9f4d4d3a2",
       "value": 405
      }
     },
     "821d7bf00b234685969a669ae0c5897a": {
      "model_module": "@jupyter-widgets/controls",
      "model_module_version": "2.0.0",
      "model_name": "FloatProgressModel",
      "state": {
       "bar_style": "success",
       "layout": "IPY_MODEL_b39e95a185834d54a579b40bff0ea0ed",
       "max": 699,
       "style": "IPY_MODEL_4a576acb0a344300a5278be28c32defd",
       "value": 699
      }
     },
     "824c3ab3a2584f8e91ff943dde98f24a": {
      "model_module": "@jupyter-widgets/base",
      "model_module_version": "2.0.0",
      "model_name": "LayoutModel",
      "state": {}
     },
     "82755cf88e334204a14e2be62e66aa8a": {
      "model_module": "@jupyter-widgets/controls",
      "model_module_version": "2.0.0",
      "model_name": "HTMLStyleModel",
      "state": {
       "description_width": "",
       "font_size": null,
       "text_color": null
      }
     },
     "828f739cd0fc47fabd09399c9ce13ec8": {
      "model_module": "@jupyter-widgets/controls",
      "model_module_version": "2.0.0",
      "model_name": "HBoxModel",
      "state": {
       "children": [
        "IPY_MODEL_8a79f3f2f57749ebb17644a1df9fdf6c",
        "IPY_MODEL_9fc358d09a66496ca5181a2797ca712f",
        "IPY_MODEL_0bd4e1a8047f404b92e85cf26a84416d"
       ],
       "layout": "IPY_MODEL_e84f3f4f21064f789db9ecfe333cf46d"
      }
     },
     "82bc25fffed1478c97f2afed6c79191a": {
      "model_module": "@jupyter-widgets/controls",
      "model_module_version": "2.0.0",
      "model_name": "HTMLModel",
      "state": {
       "layout": "IPY_MODEL_4d2019b5145f4b348a0b6f1a3db1ea44",
       "style": "IPY_MODEL_d727330c344b44feaf58078a36331349",
       "value": "100%"
      }
     },
     "82c162226e174f178882e7d0a00c70d6": {
      "model_module": "@jupyter-widgets/base",
      "model_module_version": "2.0.0",
      "model_name": "LayoutModel",
      "state": {}
     },
     "82f0afe2a42a4ab8974094e0f7c60932": {
      "model_module": "@jupyter-widgets/controls",
      "model_module_version": "2.0.0",
      "model_name": "HTMLModel",
      "state": {
       "layout": "IPY_MODEL_3605aacf507f4b16938f9794e3f5da61",
       "style": "IPY_MODEL_8973eae7e3ab4ca48672af75a69311c8",
       "value": " 471/471 [00:00&lt;00:00, 128967.04it/s]"
      }
     },
     "832f6bd6818f42d49866b01879375e66": {
      "model_module": "@jupyter-widgets/controls",
      "model_module_version": "2.0.0",
      "model_name": "HTMLStyleModel",
      "state": {
       "description_width": "",
       "font_size": null,
       "text_color": null
      }
     },
     "83365452cd7d483eaad043e90a77d28d": {
      "model_module": "@jupyter-widgets/controls",
      "model_module_version": "2.0.0",
      "model_name": "HTMLStyleModel",
      "state": {
       "description_width": "",
       "font_size": null,
       "text_color": null
      }
     },
     "835332a62b7f4ee4a5a3791aecec17e6": {
      "model_module": "@jupyter-widgets/base",
      "model_module_version": "2.0.0",
      "model_name": "LayoutModel",
      "state": {}
     },
     "8357988779c841fea60537001f0388ff": {
      "model_module": "@jupyter-widgets/controls",
      "model_module_version": "2.0.0",
      "model_name": "ProgressStyleModel",
      "state": {
       "description_width": ""
      }
     },
     "83665f976ed041a2af7a234eb0a9450a": {
      "model_module": "@jupyter-widgets/controls",
      "model_module_version": "2.0.0",
      "model_name": "HTMLStyleModel",
      "state": {
       "description_width": "",
       "font_size": null,
       "text_color": null
      }
     },
     "8372efcb14b445138e49eec8690a91d9": {
      "model_module": "@jupyter-widgets/controls",
      "model_module_version": "2.0.0",
      "model_name": "ProgressStyleModel",
      "state": {
       "description_width": ""
      }
     },
     "83a0f033bc0e45b097f8d664c6970b7b": {
      "model_module": "@jupyter-widgets/controls",
      "model_module_version": "2.0.0",
      "model_name": "FloatProgressModel",
      "state": {
       "bar_style": "success",
       "layout": "IPY_MODEL_3f8f5d5e2d984a0489a27459d1aedb2b",
       "max": 711,
       "style": "IPY_MODEL_2df8f395dfef45e585a7fe895379d9c8",
       "value": 711
      }
     },
     "83d0883b727941b8adf253e27ea6067f": {
      "model_module": "@jupyter-widgets/controls",
      "model_module_version": "2.0.0",
      "model_name": "HBoxModel",
      "state": {
       "children": [
        "IPY_MODEL_9205623cab614d3d9c95dcc0eb6815b9",
        "IPY_MODEL_11f4da2ad5a34a629e7dca523af51198",
        "IPY_MODEL_a048651fad9d4b5ba85778be92e7d459"
       ],
       "layout": "IPY_MODEL_7a563c0cc9dc4e77b5032767b404400b"
      }
     },
     "83e08cafcd974c109c732add255d171e": {
      "model_module": "@jupyter-widgets/controls",
      "model_module_version": "2.0.0",
      "model_name": "HTMLModel",
      "state": {
       "layout": "IPY_MODEL_4a2b8fe7ece9475aa7b875d5d3700d08",
       "style": "IPY_MODEL_2d114bef26034aea8d32abc7ba7ce693",
       "value": "100%"
      }
     },
     "8404ad33bb9940f49ed5496ce0e88f90": {
      "model_module": "@jupyter-widgets/base",
      "model_module_version": "2.0.0",
      "model_name": "LayoutModel",
      "state": {}
     },
     "840ba1d0e4de4e728735aa67504d3c55": {
      "model_module": "@jupyter-widgets/controls",
      "model_module_version": "2.0.0",
      "model_name": "ProgressStyleModel",
      "state": {
       "description_width": ""
      }
     },
     "840d5a4f1fa440899c84e9282bbd744a": {
      "model_module": "@jupyter-widgets/base",
      "model_module_version": "2.0.0",
      "model_name": "LayoutModel",
      "state": {}
     },
     "84129bc101474dffac17cf1db126acef": {
      "model_module": "@jupyter-widgets/controls",
      "model_module_version": "2.0.0",
      "model_name": "FloatProgressModel",
      "state": {
       "bar_style": "success",
       "layout": "IPY_MODEL_0cff66ab45224e94b967a513805f7d06",
       "max": 609,
       "style": "IPY_MODEL_4e5ff940139349c08176b7dbd0f802ad",
       "value": 609
      }
     },
     "841937f396d04d399490bb482376c541": {
      "model_module": "@jupyter-widgets/controls",
      "model_module_version": "2.0.0",
      "model_name": "HTMLModel",
      "state": {
       "layout": "IPY_MODEL_ae19f2c44f054da39245df640c385a48",
       "style": "IPY_MODEL_8fa3ae4d35764fb080abec693b06fda1",
       "value": "100%"
      }
     },
     "841d778796a14fdb8a3a6c5f003421b9": {
      "model_module": "@jupyter-widgets/base",
      "model_module_version": "2.0.0",
      "model_name": "LayoutModel",
      "state": {}
     },
     "8437c1d16f2d4701b6ac66007d155f2f": {
      "model_module": "@jupyter-widgets/controls",
      "model_module_version": "2.0.0",
      "model_name": "HTMLStyleModel",
      "state": {
       "description_width": "",
       "font_size": null,
       "text_color": null
      }
     },
     "84666733c89b497bac6698f62f230557": {
      "model_module": "@jupyter-widgets/controls",
      "model_module_version": "2.0.0",
      "model_name": "HTMLStyleModel",
      "state": {
       "description_width": "",
       "font_size": null,
       "text_color": null
      }
     },
     "84834fb0659f48919deaa62389fdae5a": {
      "model_module": "@jupyter-widgets/controls",
      "model_module_version": "2.0.0",
      "model_name": "FloatProgressModel",
      "state": {
       "bar_style": "danger",
       "layout": "IPY_MODEL_1a43ad0f9299416cae64ed58eab6f115",
       "max": 582,
       "style": "IPY_MODEL_73f4c8a54fd74219a20a874856e50807"
      }
     },
     "848fca80dd99475d9fc75751045b90d0": {
      "model_module": "@jupyter-widgets/controls",
      "model_module_version": "2.0.0",
      "model_name": "HTMLModel",
      "state": {
       "layout": "IPY_MODEL_a5061ddb9f58463b9a932998ba6f30b2",
       "style": "IPY_MODEL_206d113eda1147199863af07d4e60a6a",
       "value": " 681/681 [00:00&lt;00:00, 178620.54it/s]"
      }
     },
     "84d0445149ec4852bc220c4ec524f772": {
      "model_module": "@jupyter-widgets/controls",
      "model_module_version": "2.0.0",
      "model_name": "ProgressStyleModel",
      "state": {
       "description_width": ""
      }
     },
     "84d390bf1c2947ca9d5f0e78f21ed729": {
      "model_module": "@jupyter-widgets/base",
      "model_module_version": "2.0.0",
      "model_name": "LayoutModel",
      "state": {}
     },
     "85044804cf404c19b933e5156dfa11b2": {
      "model_module": "@jupyter-widgets/controls",
      "model_module_version": "2.0.0",
      "model_name": "HTMLStyleModel",
      "state": {
       "description_width": "",
       "font_size": null,
       "text_color": null
      }
     },
     "852f9939c8b245dca6dc707f7d22d995": {
      "model_module": "@jupyter-widgets/controls",
      "model_module_version": "2.0.0",
      "model_name": "HTMLStyleModel",
      "state": {
       "description_width": "",
       "font_size": null,
       "text_color": null
      }
     },
     "857608f7605140ecb55488b3ffbc0dc7": {
      "model_module": "@jupyter-widgets/controls",
      "model_module_version": "2.0.0",
      "model_name": "HBoxModel",
      "state": {
       "children": [
        "IPY_MODEL_b72000944dd94a53b38362b0c24978c5",
        "IPY_MODEL_532ed004bd804ff5b10b6f848e1922b3",
        "IPY_MODEL_9710a395290a4ceab4e92613478a24d2"
       ],
       "layout": "IPY_MODEL_5f3519614b8e47848de3349312e9bb4b"
      }
     },
     "85864b2429774023b2dd23fb4339511c": {
      "model_module": "@jupyter-widgets/controls",
      "model_module_version": "2.0.0",
      "model_name": "HTMLModel",
      "state": {
       "layout": "IPY_MODEL_1449acfa9733483093bb857113aa262d",
       "style": "IPY_MODEL_16b3e8d0ad554692abd6a2abece7302f",
       "value": "100%"
      }
     },
     "8591b278f817421da8be681bb2e6129f": {
      "model_module": "@jupyter-widgets/controls",
      "model_module_version": "2.0.0",
      "model_name": "HTMLModel",
      "state": {
       "layout": "IPY_MODEL_b7e6a7e1bb054a2a9b1033b46e89aeda",
       "style": "IPY_MODEL_74db066304b5455c9b43c27db284f038",
       "value": " 0/465 [00:00&lt;?, ?it/s]"
      }
     },
     "859702e42a414e269c1c491117c77723": {
      "model_module": "@jupyter-widgets/base",
      "model_module_version": "2.0.0",
      "model_name": "LayoutModel",
      "state": {}
     },
     "85a5d6c6af2744dab4031c58aecbf7c8": {
      "model_module": "@jupyter-widgets/base",
      "model_module_version": "2.0.0",
      "model_name": "LayoutModel",
      "state": {}
     },
     "85b0715f0a374806a076dcc8c9fa5c3d": {
      "model_module": "@jupyter-widgets/base",
      "model_module_version": "2.0.0",
      "model_name": "LayoutModel",
      "state": {}
     },
     "85b2e6bde79f4d079e950d092e0f6d2c": {
      "model_module": "@jupyter-widgets/controls",
      "model_module_version": "2.0.0",
      "model_name": "HTMLStyleModel",
      "state": {
       "description_width": "",
       "font_size": null,
       "text_color": null
      }
     },
     "85c23e55d235466ebaa44be15371f929": {
      "model_module": "@jupyter-widgets/controls",
      "model_module_version": "2.0.0",
      "model_name": "FloatProgressModel",
      "state": {
       "layout": "IPY_MODEL_38f3ad37212c4c7ea72b1b9e35be8dba",
       "max": 118,
       "style": "IPY_MODEL_4555c6679f354ca280e6d2a9e66682d0",
       "value": 41
      }
     },
     "86105ba585474bdd8991bb6a5e57a220": {
      "model_module": "@jupyter-widgets/controls",
      "model_module_version": "2.0.0",
      "model_name": "HBoxModel",
      "state": {
       "children": [
        "IPY_MODEL_10d0155d28ec40ed8f0c070c94fa9128",
        "IPY_MODEL_22d2e30b42c14582866dedc4dbd64a23",
        "IPY_MODEL_9da0634bfd724e9db7a41e21fc2e0904"
       ],
       "layout": "IPY_MODEL_259143a5c0434e1caec2babc6bc4ef03"
      }
     },
     "864e78a7f10b4934bbb88f43f3e57476": {
      "model_module": "@jupyter-widgets/base",
      "model_module_version": "2.0.0",
      "model_name": "LayoutModel",
      "state": {}
     },
     "8655dcddb618440b87cfea3b7fd677da": {
      "model_module": "@jupyter-widgets/controls",
      "model_module_version": "2.0.0",
      "model_name": "HBoxModel",
      "state": {
       "children": [
        "IPY_MODEL_96a6b2fe73e7495b992f5e4104ed9e03",
        "IPY_MODEL_dd80474933be42829343f53115a121b7",
        "IPY_MODEL_241517aa5aac4188bdc8841575eb3b31"
       ],
       "layout": "IPY_MODEL_683c8ba33e1c44f3b8d65fac4cad91eb"
      }
     },
     "8658a28806124201bf37a31276122d15": {
      "model_module": "@jupyter-widgets/base",
      "model_module_version": "2.0.0",
      "model_name": "LayoutModel",
      "state": {}
     },
     "865f22da263c4c9f908fee3a862edfc8": {
      "model_module": "@jupyter-widgets/controls",
      "model_module_version": "2.0.0",
      "model_name": "ProgressStyleModel",
      "state": {
       "description_width": ""
      }
     },
     "868f7c5045a6422a917f2d83d5e4ac2d": {
      "model_module": "@jupyter-widgets/controls",
      "model_module_version": "2.0.0",
      "model_name": "FloatProgressModel",
      "state": {
       "bar_style": "success",
       "layout": "IPY_MODEL_262b2ffa59ff4df083ef0451876c5738",
       "max": 636,
       "style": "IPY_MODEL_9a6c0e7fb5b94195b60e38faf86dcf03",
       "value": 636
      }
     },
     "86a0e2f4e9fa43c58a84791aad550839": {
      "model_module": "@jupyter-widgets/base",
      "model_module_version": "2.0.0",
      "model_name": "LayoutModel",
      "state": {}
     },
     "86a95ea3e068470cb2e3ab7e2fb34932": {
      "model_module": "@jupyter-widgets/controls",
      "model_module_version": "2.0.0",
      "model_name": "ProgressStyleModel",
      "state": {
       "description_width": ""
      }
     },
     "86b3f50bc4e347909efa647b0836eac5": {
      "model_module": "@jupyter-widgets/controls",
      "model_module_version": "2.0.0",
      "model_name": "HTMLStyleModel",
      "state": {
       "description_width": "",
       "font_size": null,
       "text_color": null
      }
     },
     "86ffc5b7a268460e93eb59dddaacea57": {
      "model_module": "@jupyter-widgets/controls",
      "model_module_version": "2.0.0",
      "model_name": "HTMLStyleModel",
      "state": {
       "description_width": "",
       "font_size": null,
       "text_color": null
      }
     },
     "8715b4130075463b8ea9d552c18b81f2": {
      "model_module": "@jupyter-widgets/controls",
      "model_module_version": "2.0.0",
      "model_name": "HTMLStyleModel",
      "state": {
       "description_width": "",
       "font_size": null,
       "text_color": null
      }
     },
     "871abcabc52440129d0497014deb1d06": {
      "model_module": "@jupyter-widgets/base",
      "model_module_version": "2.0.0",
      "model_name": "LayoutModel",
      "state": {}
     },
     "874659c932fd4407a1645d65d27e6d63": {
      "model_module": "@jupyter-widgets/controls",
      "model_module_version": "2.0.0",
      "model_name": "HTMLModel",
      "state": {
       "layout": "IPY_MODEL_356c77e871584c7a8a7d5a4ffadd0615",
       "style": "IPY_MODEL_f9925ef3e7764f1ebf840e919d9e2da2",
       "value": " 628/628 [00:00&lt;00:00, 174600.48it/s]"
      }
     },
     "8764f4f8f8a248569c41ca3fdd8e5abc": {
      "model_module": "@jupyter-widgets/controls",
      "model_module_version": "2.0.0",
      "model_name": "ProgressStyleModel",
      "state": {
       "description_width": ""
      }
     },
     "8773106e005647c8bba64ecc202766a7": {
      "model_module": "@jupyter-widgets/base",
      "model_module_version": "2.0.0",
      "model_name": "LayoutModel",
      "state": {}
     },
     "87d6243ad04d493d94646a880e2dd06b": {
      "model_module": "@jupyter-widgets/controls",
      "model_module_version": "2.0.0",
      "model_name": "FloatProgressModel",
      "state": {
       "bar_style": "success",
       "layout": "IPY_MODEL_3d689507cba14758843de95bcb623e40",
       "max": 623,
       "style": "IPY_MODEL_0abf31bbb8f6431eae038e9a5e61e2f8",
       "value": 623
      }
     },
     "87d6503f49c64e0fb4032757d7c30c1e": {
      "model_module": "@jupyter-widgets/base",
      "model_module_version": "2.0.0",
      "model_name": "LayoutModel",
      "state": {}
     },
     "87d7c2beadb94a98a85736521676a92f": {
      "model_module": "@jupyter-widgets/controls",
      "model_module_version": "2.0.0",
      "model_name": "HBoxModel",
      "state": {
       "children": [
        "IPY_MODEL_8d8dbe13c7bb457cbf2dc50111eecb51",
        "IPY_MODEL_f169a0b787df49b0baa64479b6e445da",
        "IPY_MODEL_ecf809835b56458fb7cd34def28cdb3c"
       ],
       "layout": "IPY_MODEL_1e7799b939794d46ba41fa679a31855d"
      }
     },
     "87dec547b98443e5af17121f2f8c6cc1": {
      "model_module": "@jupyter-widgets/base",
      "model_module_version": "2.0.0",
      "model_name": "LayoutModel",
      "state": {}
     },
     "88186e60779a490cab2799a4c7b1aa96": {
      "model_module": "@jupyter-widgets/controls",
      "model_module_version": "2.0.0",
      "model_name": "HTMLStyleModel",
      "state": {
       "description_width": "",
       "font_size": null,
       "text_color": null
      }
     },
     "8845770045a44aa99b63c168096a8b36": {
      "model_module": "@jupyter-widgets/controls",
      "model_module_version": "2.0.0",
      "model_name": "HTMLStyleModel",
      "state": {
       "description_width": "",
       "font_size": null,
       "text_color": null
      }
     },
     "888af90999c14c3b8f09ebac6864a6a8": {
      "model_module": "@jupyter-widgets/controls",
      "model_module_version": "2.0.0",
      "model_name": "HTMLStyleModel",
      "state": {
       "description_width": "",
       "font_size": null,
       "text_color": null
      }
     },
     "88b1c6487a0743ee9cc9387e0d930e1a": {
      "model_module": "@jupyter-widgets/base",
      "model_module_version": "2.0.0",
      "model_name": "LayoutModel",
      "state": {}
     },
     "88d4287c86ee4cc59b5536a2fa7359f9": {
      "model_module": "@jupyter-widgets/base",
      "model_module_version": "2.0.0",
      "model_name": "LayoutModel",
      "state": {}
     },
     "88dbdb9421a3426fa0e641b1e730c575": {
      "model_module": "@jupyter-widgets/controls",
      "model_module_version": "2.0.0",
      "model_name": "HBoxModel",
      "state": {
       "children": [
        "IPY_MODEL_f57574ea06b5426a9ede2e41d0798597",
        "IPY_MODEL_04e3263d22ba4f3fb8dd39728d9337f4",
        "IPY_MODEL_b81ba64bfebb4de9a68b4a5a27be8116"
       ],
       "layout": "IPY_MODEL_5eea811b0bee40e4a64004581ad68f3a"
      }
     },
     "88fda7a76268446aa57b5ad2deb6a791": {
      "model_module": "@jupyter-widgets/base",
      "model_module_version": "2.0.0",
      "model_name": "LayoutModel",
      "state": {}
     },
     "8907a1a5eb8747ec91af34c17fdef305": {
      "model_module": "@jupyter-widgets/base",
      "model_module_version": "2.0.0",
      "model_name": "LayoutModel",
      "state": {}
     },
     "891184762b1644868bd980e771723a1b": {
      "model_module": "@jupyter-widgets/base",
      "model_module_version": "2.0.0",
      "model_name": "LayoutModel",
      "state": {}
     },
     "89165a4209b649aa8933377c621d8638": {
      "model_module": "@jupyter-widgets/controls",
      "model_module_version": "2.0.0",
      "model_name": "HBoxModel",
      "state": {
       "children": [
        "IPY_MODEL_8e3604121359477499e2d2806a7a6ea1",
        "IPY_MODEL_9e38e7b1f36f4afc95e14f6c2378a252",
        "IPY_MODEL_3acfb987fdbf45ab82610cf227ac130a"
       ],
       "layout": "IPY_MODEL_71c46868cf544899ac42b3e2dd471c44"
      }
     },
     "8931fa009d9f44c0a9a15bbf15e36a1a": {
      "model_module": "@jupyter-widgets/controls",
      "model_module_version": "2.0.0",
      "model_name": "HTMLModel",
      "state": {
       "layout": "IPY_MODEL_3a6c544ddd874ac887ab145a476b2211",
       "style": "IPY_MODEL_c98762742725497baa5071ec58bfec90",
       "value": " 797/797 [00:51&lt;00:00, 15.64it/s]"
      }
     },
     "894bd76e8bed475faa68def6e57519d3": {
      "model_module": "@jupyter-widgets/base",
      "model_module_version": "2.0.0",
      "model_name": "LayoutModel",
      "state": {}
     },
     "8973eae7e3ab4ca48672af75a69311c8": {
      "model_module": "@jupyter-widgets/controls",
      "model_module_version": "2.0.0",
      "model_name": "HTMLStyleModel",
      "state": {
       "description_width": "",
       "font_size": null,
       "text_color": null
      }
     },
     "8986062b54f0401e9b87b8732c287a97": {
      "model_module": "@jupyter-widgets/base",
      "model_module_version": "2.0.0",
      "model_name": "LayoutModel",
      "state": {}
     },
     "8987d8f62cf94d0ca9cc838e7dd32805": {
      "model_module": "@jupyter-widgets/controls",
      "model_module_version": "2.0.0",
      "model_name": "ProgressStyleModel",
      "state": {
       "description_width": ""
      }
     },
     "89942d823e6441ff8b362ac93b0ee34f": {
      "model_module": "@jupyter-widgets/base",
      "model_module_version": "2.0.0",
      "model_name": "LayoutModel",
      "state": {}
     },
     "89d7ebcb2f6c4b4fb503a563a0163d17": {
      "model_module": "@jupyter-widgets/base",
      "model_module_version": "2.0.0",
      "model_name": "LayoutModel",
      "state": {}
     },
     "89f3544b85514a4c956cf09a95044ddf": {
      "model_module": "@jupyter-widgets/controls",
      "model_module_version": "2.0.0",
      "model_name": "HTMLModel",
      "state": {
       "layout": "IPY_MODEL_4167f21f2ba040dab1d86731eadcb1dd",
       "style": "IPY_MODEL_d0104d8c945a4edaa90b6336fa030d1b",
       "value": " 507/507 [00:00&lt;00:00, 151052.15it/s]"
      }
     },
     "8a3c3e6cda404307821e8d14cdd10ede": {
      "model_module": "@jupyter-widgets/controls",
      "model_module_version": "2.0.0",
      "model_name": "HTMLModel",
      "state": {
       "layout": "IPY_MODEL_f7c62b07e5e84a15a5cbd55edf68fa80",
       "style": "IPY_MODEL_a98843317ce440b582eea9cd079e5b36",
       "value": "100%"
      }
     },
     "8a4f77fd2ab94acf9bbfa1b07524ffb5": {
      "model_module": "@jupyter-widgets/controls",
      "model_module_version": "2.0.0",
      "model_name": "FloatProgressModel",
      "state": {
       "bar_style": "success",
       "layout": "IPY_MODEL_3fc07840974d408184e4886cd7b3ec96",
       "max": 709,
       "style": "IPY_MODEL_205f87bfaa3f4042a95a15bdf2db7ced",
       "value": 709
      }
     },
     "8a5489b874ed445eaf4c94e968185a87": {
      "model_module": "@jupyter-widgets/controls",
      "model_module_version": "2.0.0",
      "model_name": "FloatProgressModel",
      "state": {
       "bar_style": "success",
       "layout": "IPY_MODEL_f4d27c9d5b7846f0b04baf6504cbf05a",
       "max": 637,
       "style": "IPY_MODEL_7d2b2930bd1f4590988eb5bd4e27f7de",
       "value": 637
      }
     },
     "8a55c649cbca44d997785bc23ca529d9": {
      "model_module": "@jupyter-widgets/controls",
      "model_module_version": "2.0.0",
      "model_name": "HTMLStyleModel",
      "state": {
       "description_width": "",
       "font_size": null,
       "text_color": null
      }
     },
     "8a79f3f2f57749ebb17644a1df9fdf6c": {
      "model_module": "@jupyter-widgets/controls",
      "model_module_version": "2.0.0",
      "model_name": "HTMLModel",
      "state": {
       "layout": "IPY_MODEL_e8ca3018658c4856be3647b6c5f8cbb3",
       "style": "IPY_MODEL_662df917cd9347a1a8d18f63edb8ff08",
       "value": "100%"
      }
     },
     "8ac8f0b57a34450bb98a8909ddf59090": {
      "model_module": "@jupyter-widgets/controls",
      "model_module_version": "2.0.0",
      "model_name": "HBoxModel",
      "state": {
       "children": [
        "IPY_MODEL_1f52360c586b4313a7c4ee59c2e45a7a",
        "IPY_MODEL_2b1ebf9e45aa40669db57e6d98727cd7",
        "IPY_MODEL_28f3ccdd08a944a79f2fe4348ebe6847"
       ],
       "layout": "IPY_MODEL_66df3eed6e5f44af8aa68af44cb74a12"
      }
     },
     "8ad869097e4b4b7c9f03e5aa54e0a526": {
      "model_module": "@jupyter-widgets/controls",
      "model_module_version": "2.0.0",
      "model_name": "FloatProgressModel",
      "state": {
       "bar_style": "success",
       "layout": "IPY_MODEL_cdb48207e6ec4d98a5770248275f80a7",
       "max": 653,
       "style": "IPY_MODEL_dc3c1cccf0da400ab5ac9d17cb7b7fc6",
       "value": 653
      }
     },
     "8b34d57cad954e00b6aae9f8adca70c0": {
      "model_module": "@jupyter-widgets/base",
      "model_module_version": "2.0.0",
      "model_name": "LayoutModel",
      "state": {}
     },
     "8b36912805c0470699244e662f23b2fc": {
      "model_module": "@jupyter-widgets/base",
      "model_module_version": "2.0.0",
      "model_name": "LayoutModel",
      "state": {}
     },
     "8b3c6495b1db41b1b723ea6ccc5b38b9": {
      "model_module": "@jupyter-widgets/controls",
      "model_module_version": "2.0.0",
      "model_name": "ProgressStyleModel",
      "state": {
       "description_width": ""
      }
     },
     "8b6ffd63f84749b7aa457c3436b519e2": {
      "model_module": "@jupyter-widgets/base",
      "model_module_version": "2.0.0",
      "model_name": "LayoutModel",
      "state": {}
     },
     "8b7b720efa054c3f95ab4a78b3c4fded": {
      "model_module": "@jupyter-widgets/base",
      "model_module_version": "2.0.0",
      "model_name": "LayoutModel",
      "state": {}
     },
     "8c000f4fc5674dfcac95d84958d7706b": {
      "model_module": "@jupyter-widgets/base",
      "model_module_version": "2.0.0",
      "model_name": "LayoutModel",
      "state": {}
     },
     "8c2493b604f04654a27a8acede8b53be": {
      "model_module": "@jupyter-widgets/base",
      "model_module_version": "2.0.0",
      "model_name": "LayoutModel",
      "state": {}
     },
     "8c9c9eca161d40aa8c85d002800eab37": {
      "model_module": "@jupyter-widgets/base",
      "model_module_version": "2.0.0",
      "model_name": "LayoutModel",
      "state": {}
     },
     "8cd616051228402c9bddd204ed36f538": {
      "model_module": "@jupyter-widgets/base",
      "model_module_version": "2.0.0",
      "model_name": "LayoutModel",
      "state": {}
     },
     "8ce26ab5bc974844b13273dee3845e79": {
      "model_module": "@jupyter-widgets/controls",
      "model_module_version": "2.0.0",
      "model_name": "FloatProgressModel",
      "state": {
       "bar_style": "success",
       "layout": "IPY_MODEL_60ab44ee15304ebaa06959ecfa6827d8",
       "max": 663,
       "style": "IPY_MODEL_3f7947800d79469c817857275c87d7b5",
       "value": 663
      }
     },
     "8d3cfe17330141c78017c5d2aa6af876": {
      "model_module": "@jupyter-widgets/base",
      "model_module_version": "2.0.0",
      "model_name": "LayoutModel",
      "state": {}
     },
     "8d8dbe13c7bb457cbf2dc50111eecb51": {
      "model_module": "@jupyter-widgets/controls",
      "model_module_version": "2.0.0",
      "model_name": "HTMLModel",
      "state": {
       "layout": "IPY_MODEL_3433b3ae607d41ed97c659902c4afd6d",
       "style": "IPY_MODEL_609a0fb59ff34cf6b6e3080ea4a48b6a",
       "value": "100%"
      }
     },
     "8d9e9e8b9b404bcfa21722bfe670a5a0": {
      "model_module": "@jupyter-widgets/base",
      "model_module_version": "2.0.0",
      "model_name": "LayoutModel",
      "state": {}
     },
     "8da9a658e433438eb7842fa8990a1538": {
      "model_module": "@jupyter-widgets/controls",
      "model_module_version": "2.0.0",
      "model_name": "HTMLModel",
      "state": {
       "layout": "IPY_MODEL_dcb397d4e9154467bfe9a3f66d040dc4",
       "style": "IPY_MODEL_4f3b47718d994e63ba6991abd07d0e71",
       "value": "  0%"
      }
     },
     "8dc5b660eb9a440eb42e72226028a716": {
      "model_module": "@jupyter-widgets/controls",
      "model_module_version": "2.0.0",
      "model_name": "HTMLModel",
      "state": {
       "layout": "IPY_MODEL_87dec547b98443e5af17121f2f8c6cc1",
       "style": "IPY_MODEL_82755cf88e334204a14e2be62e66aa8a",
       "value": "  0%"
      }
     },
     "8e0b3ad035334bd69c11252e60a0eb48": {
      "model_module": "@jupyter-widgets/controls",
      "model_module_version": "2.0.0",
      "model_name": "HTMLStyleModel",
      "state": {
       "description_width": "",
       "font_size": null,
       "text_color": null
      }
     },
     "8e16e6dc98854fa796bd5aff49f26af9": {
      "model_module": "@jupyter-widgets/base",
      "model_module_version": "2.0.0",
      "model_name": "LayoutModel",
      "state": {}
     },
     "8e323d4352134db890e6c3d50b1f7752": {
      "model_module": "@jupyter-widgets/controls",
      "model_module_version": "2.0.0",
      "model_name": "HTMLStyleModel",
      "state": {
       "description_width": "",
       "font_size": null,
       "text_color": null
      }
     },
     "8e32d0e13fb44227afe1f0436439ef53": {
      "model_module": "@jupyter-widgets/controls",
      "model_module_version": "2.0.0",
      "model_name": "HTMLStyleModel",
      "state": {
       "description_width": "",
       "font_size": null,
       "text_color": null
      }
     },
     "8e3604121359477499e2d2806a7a6ea1": {
      "model_module": "@jupyter-widgets/controls",
      "model_module_version": "2.0.0",
      "model_name": "HTMLModel",
      "state": {
       "layout": "IPY_MODEL_0d20bfbe19cc4379a1b9e227f3aa57ef",
       "style": "IPY_MODEL_affee8ce2cdd4858ab735002a3180568",
       "value": "100%"
      }
     },
     "8e5abdad0ade49039f7cfc5e4a06eecb": {
      "model_module": "@jupyter-widgets/controls",
      "model_module_version": "2.0.0",
      "model_name": "FloatProgressModel",
      "state": {
       "bar_style": "success",
       "layout": "IPY_MODEL_097bd1175d4d41fea7e6d30df59de175",
       "max": 475,
       "style": "IPY_MODEL_5d4bd85cd4144360b43ece1587b8ed87",
       "value": 475
      }
     },
     "8e6fb08622b640f3bcdeccbae88580b0": {
      "model_module": "@jupyter-widgets/base",
      "model_module_version": "2.0.0",
      "model_name": "LayoutModel",
      "state": {}
     },
     "8e9b2ed2ce244b1e872892bbf863c1af": {
      "model_module": "@jupyter-widgets/controls",
      "model_module_version": "2.0.0",
      "model_name": "HTMLModel",
      "state": {
       "layout": "IPY_MODEL_bef3d823123f4c8e84156fe2353c7f85",
       "style": "IPY_MODEL_b3e9820f802a4c238656b8f0f191e7a1",
       "value": " 418/418 [00:27&lt;00:00, 15.36it/s]"
      }
     },
     "8eaec09f5fc7464c9209470addbc4964": {
      "model_module": "@jupyter-widgets/controls",
      "model_module_version": "2.0.0",
      "model_name": "HTMLStyleModel",
      "state": {
       "description_width": "",
       "font_size": null,
       "text_color": null
      }
     },
     "8ec26c1460b348d5b42b00aac8aba734": {
      "model_module": "@jupyter-widgets/controls",
      "model_module_version": "2.0.0",
      "model_name": "HTMLModel",
      "state": {
       "layout": "IPY_MODEL_31ee72c5800f406194e22e602cb8d383",
       "style": "IPY_MODEL_11e0f4ca22184b4394ea326b3fca54fb",
       "value": "100%"
      }
     },
     "8ef9fb7591ab443ca0c6d7d67d59e909": {
      "model_module": "@jupyter-widgets/base",
      "model_module_version": "2.0.0",
      "model_name": "LayoutModel",
      "state": {}
     },
     "8efeadf607714540bf96c073e43f9f97": {
      "model_module": "@jupyter-widgets/controls",
      "model_module_version": "2.0.0",
      "model_name": "FloatProgressModel",
      "state": {
       "bar_style": "danger",
       "layout": "IPY_MODEL_387f93acbdb64c72bdf4247b66297971",
       "max": 582,
       "style": "IPY_MODEL_131e5fa9a89e42bfbd1eab2c4ea47efc"
      }
     },
     "8f03d233f22a4d9b9682625e4650ee02": {
      "model_module": "@jupyter-widgets/base",
      "model_module_version": "2.0.0",
      "model_name": "LayoutModel",
      "state": {}
     },
     "8f071db1dce347b6a18452ff9804183f": {
      "model_module": "@jupyter-widgets/base",
      "model_module_version": "2.0.0",
      "model_name": "LayoutModel",
      "state": {}
     },
     "8f16ed2a63b64a8db9d95dc3b59b160d": {
      "model_module": "@jupyter-widgets/controls",
      "model_module_version": "2.0.0",
      "model_name": "FloatProgressModel",
      "state": {
       "bar_style": "success",
       "layout": "IPY_MODEL_d5e4d4cbc0b845a192b186dc51501e97",
       "max": 698,
       "style": "IPY_MODEL_041f98cde1fa473eaac0f904d5d187f8",
       "value": 698
      }
     },
     "8f1d7e995142477d8172686c74e7437d": {
      "model_module": "@jupyter-widgets/base",
      "model_module_version": "2.0.0",
      "model_name": "LayoutModel",
      "state": {}
     },
     "8f2d822f3b21439ca49dcb0c53082059": {
      "model_module": "@jupyter-widgets/controls",
      "model_module_version": "2.0.0",
      "model_name": "HTMLModel",
      "state": {
       "layout": "IPY_MODEL_2f04920c62b44f9a87bf9f9ae0a80d88",
       "style": "IPY_MODEL_f7cfa8aa177e489f8ee2b296d0335a6a",
       "value": "100%"
      }
     },
     "8f348cfb8167439c8d168f5f306564ea": {
      "model_module": "@jupyter-widgets/controls",
      "model_module_version": "2.0.0",
      "model_name": "ProgressStyleModel",
      "state": {
       "description_width": ""
      }
     },
     "8f51a705b2ed4c9faa543bb9c92f9905": {
      "model_module": "@jupyter-widgets/controls",
      "model_module_version": "2.0.0",
      "model_name": "HTMLModel",
      "state": {
       "layout": "IPY_MODEL_606e445c99534793a16dfc256069c8f1",
       "style": "IPY_MODEL_633e5892992146d6865c3de680071276",
       "value": " 702/702 [00:00&lt;00:00, 192734.27it/s]"
      }
     },
     "8f63caa9481642c58b89a094ca7e1786": {
      "model_module": "@jupyter-widgets/controls",
      "model_module_version": "2.0.0",
      "model_name": "HBoxModel",
      "state": {
       "children": [
        "IPY_MODEL_191a639a90364eb1b87edecbf4fe165c",
        "IPY_MODEL_09bc3be26c154aac8834478ab44249fb",
        "IPY_MODEL_3f97ef0445d5443f8fd138ac454d0cc2"
       ],
       "layout": "IPY_MODEL_434414b495a34f709a5cf1699835f7b8"
      }
     },
     "8f7c8af7dd83428d96507c687b1a6b07": {
      "model_module": "@jupyter-widgets/base",
      "model_module_version": "2.0.0",
      "model_name": "LayoutModel",
      "state": {}
     },
     "8fa3ae4d35764fb080abec693b06fda1": {
      "model_module": "@jupyter-widgets/controls",
      "model_module_version": "2.0.0",
      "model_name": "HTMLStyleModel",
      "state": {
       "description_width": "",
       "font_size": null,
       "text_color": null
      }
     },
     "8fce1fca5f03447db528873b98d21f7f": {
      "model_module": "@jupyter-widgets/base",
      "model_module_version": "2.0.0",
      "model_name": "LayoutModel",
      "state": {}
     },
     "8fd98cb68092496dbfa19e20652731c4": {
      "model_module": "@jupyter-widgets/controls",
      "model_module_version": "2.0.0",
      "model_name": "HBoxModel",
      "state": {
       "children": [
        "IPY_MODEL_d5f24f949de040808e9c3a9feb4adca8",
        "IPY_MODEL_84834fb0659f48919deaa62389fdae5a",
        "IPY_MODEL_df42f36d47914d779df05e8181103a83"
       ],
       "layout": "IPY_MODEL_0d5ecfbb975847198b1a5c2a7108acfb"
      }
     },
     "8fe478c745e04ab9ac01df6c5305b4ff": {
      "model_module": "@jupyter-widgets/controls",
      "model_module_version": "2.0.0",
      "model_name": "ProgressStyleModel",
      "state": {
       "description_width": ""
      }
     },
     "8fff9e0aedb84661a93c1445f65fe38d": {
      "model_module": "@jupyter-widgets/controls",
      "model_module_version": "2.0.0",
      "model_name": "FloatProgressModel",
      "state": {
       "bar_style": "success",
       "layout": "IPY_MODEL_4898202c0587455bacde2a8c56905d33",
       "max": 630,
       "style": "IPY_MODEL_974845dfa4224684a00e8a9b10331341",
       "value": 630
      }
     },
     "9044d5d250bb4708b27f4f639f6f4ff8": {
      "model_module": "@jupyter-widgets/controls",
      "model_module_version": "2.0.0",
      "model_name": "HTMLModel",
      "state": {
       "layout": "IPY_MODEL_2e729b75636f41b3a057ceaca9cb3fd8",
       "style": "IPY_MODEL_300c74e32136412f896ab30caa1dc689",
       "value": "  0%"
      }
     },
     "9089001ed05b4fc9b8c6d8063c8c3243": {
      "model_module": "@jupyter-widgets/controls",
      "model_module_version": "2.0.0",
      "model_name": "HBoxModel",
      "state": {
       "children": [
        "IPY_MODEL_238d1ac68bcb4dc5a4aebb36c8140f56",
        "IPY_MODEL_9d3c1d4c15274332ac5a3c2f08b1f70f",
        "IPY_MODEL_f60fe05f8dac4c70b63fb209a28cde29"
       ],
       "layout": "IPY_MODEL_10f5fdd05ee9407e857c6aadf8a6ed1c"
      }
     },
     "909967ae68164dc49dc5f375d1dfcbf1": {
      "model_module": "@jupyter-widgets/controls",
      "model_module_version": "2.0.0",
      "model_name": "HTMLModel",
      "state": {
       "layout": "IPY_MODEL_1908fc5f3f18488ba1ce277b38286858",
       "style": "IPY_MODEL_144c914075b24f6785c2d8998a499270",
       "value": " 653/653 [00:42&lt;00:00, 15.61it/s]"
      }
     },
     "90b1ff78376e428880472bbb23b85464": {
      "model_module": "@jupyter-widgets/base",
      "model_module_version": "2.0.0",
      "model_name": "LayoutModel",
      "state": {}
     },
     "90da59a32b1c489b95593db2f0736227": {
      "model_module": "@jupyter-widgets/controls",
      "model_module_version": "2.0.0",
      "model_name": "HBoxModel",
      "state": {
       "children": [
        "IPY_MODEL_0e3c866a7472472da6416d702cd3538d",
        "IPY_MODEL_a762bd66615548c3a6f4297d492342c6",
        "IPY_MODEL_148a03fdbb864456a4c691588865f191"
       ],
       "layout": "IPY_MODEL_c5bdaf4ccea94219805a6fb4cc64ff30"
      }
     },
     "9106cb065a954285a57893ce8369741f": {
      "model_module": "@jupyter-widgets/controls",
      "model_module_version": "2.0.0",
      "model_name": "HTMLStyleModel",
      "state": {
       "description_width": "",
       "font_size": null,
       "text_color": null
      }
     },
     "911e311baf1449c59433c05544f76a5b": {
      "model_module": "@jupyter-widgets/controls",
      "model_module_version": "2.0.0",
      "model_name": "FloatProgressModel",
      "state": {
       "bar_style": "success",
       "layout": "IPY_MODEL_8b34d57cad954e00b6aae9f8adca70c0",
       "max": 588,
       "style": "IPY_MODEL_be811e479c3644b68bac6455a5bef1be",
       "value": 588
      }
     },
     "91235cee2eb54d28ab740bb1ba0a3eb9": {
      "model_module": "@jupyter-widgets/base",
      "model_module_version": "2.0.0",
      "model_name": "LayoutModel",
      "state": {}
     },
     "9128eae22de04f74aa89e1645bd75779": {
      "model_module": "@jupyter-widgets/controls",
      "model_module_version": "2.0.0",
      "model_name": "HBoxModel",
      "state": {
       "children": [
        "IPY_MODEL_197a95a87a7f4fd6ac3aec40fd8ee037",
        "IPY_MODEL_4c10f3427a944aef84ad8288cad56109",
        "IPY_MODEL_b500ef6a63d94033ade5bf2dcd2c25f4"
       ],
       "layout": "IPY_MODEL_59edd5129f6443e28659282300da205b"
      }
     },
     "91946b70754f4ce58ae7c00ca5b24ac5": {
      "model_module": "@jupyter-widgets/controls",
      "model_module_version": "2.0.0",
      "model_name": "HTMLStyleModel",
      "state": {
       "description_width": "",
       "font_size": null,
       "text_color": null
      }
     },
     "91ccd1c44ce5463ab80e0a2ae466a26c": {
      "model_module": "@jupyter-widgets/controls",
      "model_module_version": "2.0.0",
      "model_name": "ProgressStyleModel",
      "state": {
       "description_width": ""
      }
     },
     "91d7192310434cb5b8d7c83d7f8f74b1": {
      "model_module": "@jupyter-widgets/base",
      "model_module_version": "2.0.0",
      "model_name": "LayoutModel",
      "state": {}
     },
     "91f9b5b3c3cd487da5521ea7096d592b": {
      "model_module": "@jupyter-widgets/base",
      "model_module_version": "2.0.0",
      "model_name": "LayoutModel",
      "state": {}
     },
     "9205623cab614d3d9c95dcc0eb6815b9": {
      "model_module": "@jupyter-widgets/controls",
      "model_module_version": "2.0.0",
      "model_name": "HTMLModel",
      "state": {
       "layout": "IPY_MODEL_0846ada0acc24e198e7920140a2172af",
       "style": "IPY_MODEL_f37b5d4e7d59429abe14e9c7904af0ef",
       "value": "100%"
      }
     },
     "92228f16d29245fd894dac24633507e2": {
      "model_module": "@jupyter-widgets/controls",
      "model_module_version": "2.0.0",
      "model_name": "HTMLStyleModel",
      "state": {
       "description_width": "",
       "font_size": null,
       "text_color": null
      }
     },
     "9225b1d94a464d2e8f7a7a7377dabc4d": {
      "model_module": "@jupyter-widgets/base",
      "model_module_version": "2.0.0",
      "model_name": "LayoutModel",
      "state": {}
     },
     "923e983986cd4e90aafa12f2f7fb08cc": {
      "model_module": "@jupyter-widgets/controls",
      "model_module_version": "2.0.0",
      "model_name": "HTMLStyleModel",
      "state": {
       "description_width": "",
       "font_size": null,
       "text_color": null
      }
     },
     "924c4a6c4e734fda9cdd2b519b428953": {
      "model_module": "@jupyter-widgets/base",
      "model_module_version": "2.0.0",
      "model_name": "LayoutModel",
      "state": {}
     },
     "92565c520dc34ffbac4f6b8a7d648f4a": {
      "model_module": "@jupyter-widgets/base",
      "model_module_version": "2.0.0",
      "model_name": "LayoutModel",
      "state": {}
     },
     "92754209053b437ba7208eda88341f8e": {
      "model_module": "@jupyter-widgets/base",
      "model_module_version": "2.0.0",
      "model_name": "LayoutModel",
      "state": {}
     },
     "92f16a550c8b4118a9d49a2268004e40": {
      "model_module": "@jupyter-widgets/base",
      "model_module_version": "2.0.0",
      "model_name": "LayoutModel",
      "state": {}
     },
     "93145d38622540ddacc2048a26d5ce2a": {
      "model_module": "@jupyter-widgets/controls",
      "model_module_version": "2.0.0",
      "model_name": "HTMLModel",
      "state": {
       "layout": "IPY_MODEL_fdb65a9dc4f24dea9bbe2709c118d778",
       "style": "IPY_MODEL_37b70f9ed91e4ea9a2f69f6991458631",
       "value": "100%"
      }
     },
     "931a12c9c8d541e284f83784213b59f1": {
      "model_module": "@jupyter-widgets/base",
      "model_module_version": "2.0.0",
      "model_name": "LayoutModel",
      "state": {}
     },
     "933093df19bd42f7be18dafbda7b5133": {
      "model_module": "@jupyter-widgets/base",
      "model_module_version": "2.0.0",
      "model_name": "LayoutModel",
      "state": {}
     },
     "933cfa0bde454aedaa3e77a7b5a7e2b1": {
      "model_module": "@jupyter-widgets/base",
      "model_module_version": "2.0.0",
      "model_name": "LayoutModel",
      "state": {}
     },
     "938693a91c5c402eb47b95f8a79d195e": {
      "model_module": "@jupyter-widgets/controls",
      "model_module_version": "2.0.0",
      "model_name": "HTMLStyleModel",
      "state": {
       "description_width": "",
       "font_size": null,
       "text_color": null
      }
     },
     "9390b8b5290b4ec986acea363c4f1c49": {
      "model_module": "@jupyter-widgets/controls",
      "model_module_version": "2.0.0",
      "model_name": "ProgressStyleModel",
      "state": {
       "description_width": ""
      }
     },
     "93bccdf4de9d485f86b9bb488ef8a9ad": {
      "model_module": "@jupyter-widgets/base",
      "model_module_version": "2.0.0",
      "model_name": "LayoutModel",
      "state": {}
     },
     "93cbc9315ea44dc8bf1d01053edda8f2": {
      "model_module": "@jupyter-widgets/controls",
      "model_module_version": "2.0.0",
      "model_name": "ProgressStyleModel",
      "state": {
       "description_width": ""
      }
     },
     "93d1f0e0d5084626b109f060d2eab380": {
      "model_module": "@jupyter-widgets/controls",
      "model_module_version": "2.0.0",
      "model_name": "HTMLModel",
      "state": {
       "layout": "IPY_MODEL_3668cfe0452742c7b0a9b4797dbb5f30",
       "style": "IPY_MODEL_3d33087429c84004ab8414385b6a4d60",
       "value": " 631/631 [00:00&lt;00:00, 173388.75it/s]"
      }
     },
     "93f2c7a100274d70b2bc6f0c675a824d": {
      "model_module": "@jupyter-widgets/controls",
      "model_module_version": "2.0.0",
      "model_name": "HTMLModel",
      "state": {
       "layout": "IPY_MODEL_5947e2771ee24a038a3ea0d70bc1003a",
       "style": "IPY_MODEL_9a74497b9bd44f0484e476f171c31c88",
       "value": "  0%"
      }
     },
     "9418664161474205ac2469adcb0322df": {
      "model_module": "@jupyter-widgets/base",
      "model_module_version": "2.0.0",
      "model_name": "LayoutModel",
      "state": {}
     },
     "9430231a25fd4da5a4017cd888727cd6": {
      "model_module": "@jupyter-widgets/base",
      "model_module_version": "2.0.0",
      "model_name": "LayoutModel",
      "state": {}
     },
     "944ea1a8d34442d5aae5f21dcfd20997": {
      "model_module": "@jupyter-widgets/base",
      "model_module_version": "2.0.0",
      "model_name": "LayoutModel",
      "state": {}
     },
     "9453a8dbcf2e496c8251688d6ed42441": {
      "model_module": "@jupyter-widgets/controls",
      "model_module_version": "2.0.0",
      "model_name": "HTMLModel",
      "state": {
       "layout": "IPY_MODEL_1be04bd0d5874e72843bb5a43db4d003",
       "style": "IPY_MODEL_b9185352bf1f411ea3e3feb46b6379d0",
       "value": "100%"
      }
     },
     "9462ff758dc64f3c8d59d9a9c550e9ba": {
      "model_module": "@jupyter-widgets/controls",
      "model_module_version": "2.0.0",
      "model_name": "HTMLModel",
      "state": {
       "layout": "IPY_MODEL_3f14e9a681394311b634aca05cdf5333",
       "style": "IPY_MODEL_4436f485ee194e9ea900a154af4e2129",
       "value": " 646/646 [00:00&lt;00:00, 180827.58it/s]"
      }
     },
     "94809de267e6408e88b2b0121e12fae4": {
      "model_module": "@jupyter-widgets/controls",
      "model_module_version": "2.0.0",
      "model_name": "HTMLStyleModel",
      "state": {
       "description_width": "",
       "font_size": null,
       "text_color": null
      }
     },
     "94e416cf77c34f9a84528d08e334f5b8": {
      "model_module": "@jupyter-widgets/controls",
      "model_module_version": "2.0.0",
      "model_name": "HTMLModel",
      "state": {
       "layout": "IPY_MODEL_a65be834019a4a7f9f9735cc1ca2c332",
       "style": "IPY_MODEL_9bc1ecf8d10b495aacdd27036af1cabc",
       "value": " 471/471 [00:30&lt;00:00, 15.32it/s]"
      }
     },
     "94f02034d0cd465181de8b39084dad42": {
      "model_module": "@jupyter-widgets/controls",
      "model_module_version": "2.0.0",
      "model_name": "HBoxModel",
      "state": {
       "children": [
        "IPY_MODEL_31c0f8e1c1644c8284b5265dae58b0ac",
        "IPY_MODEL_bd75f22cde4643d7802fd190b288222c",
        "IPY_MODEL_6d95a9af97414f8a8afdc46430f84e2a"
       ],
       "layout": "IPY_MODEL_4fe3f39e995544728e6193512e87841c"
      }
     },
     "9537069da7bb4d538e103b12c080670e": {
      "model_module": "@jupyter-widgets/controls",
      "model_module_version": "2.0.0",
      "model_name": "FloatProgressModel",
      "state": {
       "bar_style": "success",
       "layout": "IPY_MODEL_0c77f202a83c48f0b2cf1ee05d4751c6",
       "max": 646,
       "style": "IPY_MODEL_95dc55c0858c4e3e8908af3443a607ba",
       "value": 646
      }
     },
     "955426b381734f70a69c3b12a4d21da2": {
      "model_module": "@jupyter-widgets/base",
      "model_module_version": "2.0.0",
      "model_name": "LayoutModel",
      "state": {}
     },
     "95af54db528a45ef8baca7c7adae61a1": {
      "model_module": "@jupyter-widgets/base",
      "model_module_version": "2.0.0",
      "model_name": "LayoutModel",
      "state": {}
     },
     "95bf2781d3ab4a9abdb8f4efc10b18fe": {
      "model_module": "@jupyter-widgets/base",
      "model_module_version": "2.0.0",
      "model_name": "LayoutModel",
      "state": {}
     },
     "95dc55c0858c4e3e8908af3443a607ba": {
      "model_module": "@jupyter-widgets/controls",
      "model_module_version": "2.0.0",
      "model_name": "ProgressStyleModel",
      "state": {
       "description_width": ""
      }
     },
     "95fd6b3195e34275818f67372a4e812f": {
      "model_module": "@jupyter-widgets/controls",
      "model_module_version": "2.0.0",
      "model_name": "HTMLStyleModel",
      "state": {
       "description_width": "",
       "font_size": null,
       "text_color": null
      }
     },
     "961ccf5b4b1a4a589d59413a6e8ca77a": {
      "model_module": "@jupyter-widgets/controls",
      "model_module_version": "2.0.0",
      "model_name": "HTMLStyleModel",
      "state": {
       "description_width": "",
       "font_size": null,
       "text_color": null
      }
     },
     "9624e079e9cc4e368ab2050b185b36f6": {
      "model_module": "@jupyter-widgets/base",
      "model_module_version": "2.0.0",
      "model_name": "LayoutModel",
      "state": {}
     },
     "9660506499424cd49af4e8b918efe039": {
      "model_module": "@jupyter-widgets/controls",
      "model_module_version": "2.0.0",
      "model_name": "HTMLModel",
      "state": {
       "layout": "IPY_MODEL_aa4556cb068946fe8567b896bb6a875f",
       "style": "IPY_MODEL_5a0edcbfff9c46f486f4a8d6420f38b9",
       "value": " 0/582 [00:00&lt;?, ?it/s]"
      }
     },
     "9688b00de8ff4ad6aaab141eaee73943": {
      "model_module": "@jupyter-widgets/base",
      "model_module_version": "2.0.0",
      "model_name": "LayoutModel",
      "state": {}
     },
     "969626a57dd2483f9c9c41aee25da932": {
      "model_module": "@jupyter-widgets/base",
      "model_module_version": "2.0.0",
      "model_name": "LayoutModel",
      "state": {}
     },
     "96a6b2fe73e7495b992f5e4104ed9e03": {
      "model_module": "@jupyter-widgets/controls",
      "model_module_version": "2.0.0",
      "model_name": "HTMLModel",
      "state": {
       "layout": "IPY_MODEL_f745e22ec680463ba7510b8ba991705a",
       "style": "IPY_MODEL_c2fdde1b72af4d08993cb35f60254a58",
       "value": "100%"
      }
     },
     "96ace5dd289f47ffa0d2ce53654c0dff": {
      "model_module": "@jupyter-widgets/controls",
      "model_module_version": "2.0.0",
      "model_name": "ProgressStyleModel",
      "state": {
       "description_width": ""
      }
     },
     "96acee189c894f17a29533aeca112819": {
      "model_module": "@jupyter-widgets/controls",
      "model_module_version": "2.0.0",
      "model_name": "HTMLModel",
      "state": {
       "layout": "IPY_MODEL_030372ae83a4408387891de68cf3893c",
       "style": "IPY_MODEL_3683a6a3da5a4dc7b771d98e3bb7d316",
       "value": "100%"
      }
     },
     "96cd3b72e3c1471e84e43f7080ffa566": {
      "model_module": "@jupyter-widgets/controls",
      "model_module_version": "2.0.0",
      "model_name": "FloatProgressModel",
      "state": {
       "bar_style": "success",
       "layout": "IPY_MODEL_449450f2bc454f89964159391242eb41",
       "max": 588,
       "style": "IPY_MODEL_3916fdca318a42b78bdffec185f8db40",
       "value": 588
      }
     },
     "96e7c69f92064315823641822b53b48e": {
      "model_module": "@jupyter-widgets/controls",
      "model_module_version": "2.0.0",
      "model_name": "HTMLModel",
      "state": {
       "layout": "IPY_MODEL_d6c750ad078f4186adc75c329a37e00b",
       "style": "IPY_MODEL_1c4ac5d919a949b59b63f5cf7f6da677",
       "value": " 527/527 [00:00&lt;00:00, 146919.12it/s]"
      }
     },
     "96f936d59376405ca38514f6eefd022b": {
      "model_module": "@jupyter-widgets/controls",
      "model_module_version": "2.0.0",
      "model_name": "HTMLModel",
      "state": {
       "layout": "IPY_MODEL_e7a110b3fd454758ab755c8eb7c6784b",
       "style": "IPY_MODEL_e36d25b788924b4b9e4463a722314031",
       "value": "100%"
      }
     },
     "970d39dfe383423c94c14c4880828116": {
      "model_module": "@jupyter-widgets/controls",
      "model_module_version": "2.0.0",
      "model_name": "FloatProgressModel",
      "state": {
       "bar_style": "success",
       "layout": "IPY_MODEL_a126f0eec76a4c3889ff863e92ec7cf7",
       "max": 618,
       "style": "IPY_MODEL_fe2dba880eac45c08af2e98140e395a9",
       "value": 618
      }
     },
     "9710a395290a4ceab4e92613478a24d2": {
      "model_module": "@jupyter-widgets/controls",
      "model_module_version": "2.0.0",
      "model_name": "HTMLModel",
      "state": {
       "layout": "IPY_MODEL_8f1d7e995142477d8172686c74e7437d",
       "style": "IPY_MODEL_af85ab6d9bcb43d5945d2ecda5cc54a4",
       "value": " 632/632 [00:40&lt;00:00, 15.56it/s]"
      }
     },
     "974845dfa4224684a00e8a9b10331341": {
      "model_module": "@jupyter-widgets/controls",
      "model_module_version": "2.0.0",
      "model_name": "ProgressStyleModel",
      "state": {
       "description_width": ""
      }
     },
     "974c16b605e8446e9f23fd434aa82f91": {
      "model_module": "@jupyter-widgets/controls",
      "model_module_version": "2.0.0",
      "model_name": "HTMLStyleModel",
      "state": {
       "description_width": "",
       "font_size": null,
       "text_color": null
      }
     },
     "9753718912d446a3bc71fc204627894f": {
      "model_module": "@jupyter-widgets/controls",
      "model_module_version": "2.0.0",
      "model_name": "HTMLStyleModel",
      "state": {
       "description_width": "",
       "font_size": null,
       "text_color": null
      }
     },
     "978950545403447a84df85d55a919566": {
      "model_module": "@jupyter-widgets/controls",
      "model_module_version": "2.0.0",
      "model_name": "HTMLStyleModel",
      "state": {
       "description_width": "",
       "font_size": null,
       "text_color": null
      }
     },
     "978ac00386a84e908a89c6f34372d2a5": {
      "model_module": "@jupyter-widgets/controls",
      "model_module_version": "2.0.0",
      "model_name": "HTMLModel",
      "state": {
       "layout": "IPY_MODEL_21c7cc4574b74ce4a910e79f6e4f5f25",
       "style": "IPY_MODEL_9a0b92c2964746918d2f8a9ba537650e",
       "value": " 797/797 [00:00&lt;00:00, 220767.42it/s]"
      }
     },
     "978dd4ac0e10417db0fd9eac8580935a": {
      "model_module": "@jupyter-widgets/controls",
      "model_module_version": "2.0.0",
      "model_name": "HTMLStyleModel",
      "state": {
       "description_width": "",
       "font_size": null,
       "text_color": null
      }
     },
     "97a1649d78324c2da99eea89e846a9d0": {
      "model_module": "@jupyter-widgets/controls",
      "model_module_version": "2.0.0",
      "model_name": "ProgressStyleModel",
      "state": {
       "description_width": ""
      }
     },
     "97d211fa15124cc6b12d2baa923f7721": {
      "model_module": "@jupyter-widgets/base",
      "model_module_version": "2.0.0",
      "model_name": "LayoutModel",
      "state": {}
     },
     "97db3058242f434ca7a3dd24c7a715e6": {
      "model_module": "@jupyter-widgets/base",
      "model_module_version": "2.0.0",
      "model_name": "LayoutModel",
      "state": {}
     },
     "97e2f12dfb874711b7b79bdd97fce589": {
      "model_module": "@jupyter-widgets/controls",
      "model_module_version": "2.0.0",
      "model_name": "HTMLStyleModel",
      "state": {
       "description_width": "",
       "font_size": null,
       "text_color": null
      }
     },
     "983c0d87da594bfdb43fcb9c645065d5": {
      "model_module": "@jupyter-widgets/base",
      "model_module_version": "2.0.0",
      "model_name": "LayoutModel",
      "state": {}
     },
     "9866319ea6824e6a9a21c9693758290c": {
      "model_module": "@jupyter-widgets/controls",
      "model_module_version": "2.0.0",
      "model_name": "HTMLModel",
      "state": {
       "layout": "IPY_MODEL_d4ec531c3d5347819a3c706225957389",
       "style": "IPY_MODEL_f195c54506f0439c98b4c277930b0776",
       "value": " 437/437 [00:00&lt;00:00, 123870.44it/s]"
      }
     },
     "98b35b9623804a09a54038e421dce469": {
      "model_module": "@jupyter-widgets/controls",
      "model_module_version": "2.0.0",
      "model_name": "HTMLStyleModel",
      "state": {
       "description_width": "",
       "font_size": null,
       "text_color": null
      }
     },
     "98d88e2c1bc44fae98747fcb441b106e": {
      "model_module": "@jupyter-widgets/controls",
      "model_module_version": "2.0.0",
      "model_name": "HTMLStyleModel",
      "state": {
       "description_width": "",
       "font_size": null,
       "text_color": null
      }
     },
     "98d8e113324f40fa9b0015a7575ee560": {
      "model_module": "@jupyter-widgets/controls",
      "model_module_version": "2.0.0",
      "model_name": "HBoxModel",
      "state": {
       "children": [
        "IPY_MODEL_fcfe9b3242e64f6ea09e0fab030e8648",
        "IPY_MODEL_23620aaeb214473ab7e6b6f03dadaff7",
        "IPY_MODEL_e2cadaa7577843738bf69a6b2c402a4d"
       ],
       "layout": "IPY_MODEL_95af54db528a45ef8baca7c7adae61a1"
      }
     },
     "98e8af8b9bc04c1abb3d5d0471397f70": {
      "model_module": "@jupyter-widgets/controls",
      "model_module_version": "2.0.0",
      "model_name": "HTMLStyleModel",
      "state": {
       "description_width": "",
       "font_size": null,
       "text_color": null
      }
     },
     "990c20f82fc241039bd219c391eea2ba": {
      "model_module": "@jupyter-widgets/controls",
      "model_module_version": "2.0.0",
      "model_name": "FloatProgressModel",
      "state": {
       "bar_style": "success",
       "layout": "IPY_MODEL_5c74833a1edf43a081645bb7a202085d",
       "max": 593,
       "style": "IPY_MODEL_7c8579b6e88b403a80f897c086a91d9f",
       "value": 593
      }
     },
     "9925fbfc3b99433ab668b3e43ee2f069": {
      "model_module": "@jupyter-widgets/controls",
      "model_module_version": "2.0.0",
      "model_name": "HTMLModel",
      "state": {
       "layout": "IPY_MODEL_328bac6dfb7a48b8948f767db76e642f",
       "style": "IPY_MODEL_5412697f8a6b463681ebb0a7d3e9a26a",
       "value": "100%"
      }
     },
     "992fd21dfc674d278e25eba9eb7258ae": {
      "model_module": "@jupyter-widgets/controls",
      "model_module_version": "2.0.0",
      "model_name": "HTMLModel",
      "state": {
       "layout": "IPY_MODEL_bed0f607c7914b9bb22e9348fc4cd81d",
       "style": "IPY_MODEL_34b39f6e603d4763af82b9ce378009d0",
       "value": " 420/420 [00:00&lt;00:00, 118730.72it/s]"
      }
     },
     "99377d183d844d0d8929c0832244cbf3": {
      "model_module": "@jupyter-widgets/controls",
      "model_module_version": "2.0.0",
      "model_name": "HTMLStyleModel",
      "state": {
       "description_width": "",
       "font_size": null,
       "text_color": null
      }
     },
     "994e4d9a9dc84ce298cbc82698f28a9e": {
      "model_module": "@jupyter-widgets/base",
      "model_module_version": "2.0.0",
      "model_name": "LayoutModel",
      "state": {}
     },
     "9958f21043994bc3ba20a5733a999d13": {
      "model_module": "@jupyter-widgets/base",
      "model_module_version": "2.0.0",
      "model_name": "LayoutModel",
      "state": {}
     },
     "99994fd267664bafbdcf9f13cc0c6b8b": {
      "model_module": "@jupyter-widgets/base",
      "model_module_version": "2.0.0",
      "model_name": "LayoutModel",
      "state": {}
     },
     "99c2dbdd41af45569687f88f4bb7a5f0": {
      "model_module": "@jupyter-widgets/controls",
      "model_module_version": "2.0.0",
      "model_name": "HTMLStyleModel",
      "state": {
       "description_width": "",
       "font_size": null,
       "text_color": null
      }
     },
     "99cfe9063eab4945874947a765e416b9": {
      "model_module": "@jupyter-widgets/controls",
      "model_module_version": "2.0.0",
      "model_name": "HTMLStyleModel",
      "state": {
       "description_width": "",
       "font_size": null,
       "text_color": null
      }
     },
     "99df8149e69042478c068b9e10a63bf8": {
      "model_module": "@jupyter-widgets/controls",
      "model_module_version": "2.0.0",
      "model_name": "HTMLStyleModel",
      "state": {
       "description_width": "",
       "font_size": null,
       "text_color": null
      }
     },
     "99e3d687b2254c1a90190aaf86cc0a49": {
      "model_module": "@jupyter-widgets/controls",
      "model_module_version": "2.0.0",
      "model_name": "HTMLModel",
      "state": {
       "layout": "IPY_MODEL_de03f22b5e1340be90fd1587e24036fb",
       "style": "IPY_MODEL_94809de267e6408e88b2b0121e12fae4",
       "value": "100%"
      }
     },
     "99f7f20f45f44cfa8ec3cf47060cea50": {
      "model_module": "@jupyter-widgets/controls",
      "model_module_version": "2.0.0",
      "model_name": "HTMLStyleModel",
      "state": {
       "description_width": "",
       "font_size": null,
       "text_color": null
      }
     },
     "9a0b92c2964746918d2f8a9ba537650e": {
      "model_module": "@jupyter-widgets/controls",
      "model_module_version": "2.0.0",
      "model_name": "HTMLStyleModel",
      "state": {
       "description_width": "",
       "font_size": null,
       "text_color": null
      }
     },
     "9a12786318b5456faa0ca6536f76a937": {
      "model_module": "@jupyter-widgets/base",
      "model_module_version": "2.0.0",
      "model_name": "LayoutModel",
      "state": {}
     },
     "9a39079765f24e109e2099cc9ea566cf": {
      "model_module": "@jupyter-widgets/controls",
      "model_module_version": "2.0.0",
      "model_name": "HTMLModel",
      "state": {
       "layout": "IPY_MODEL_69d6aa43eb0144cb8a4dca6864e4c94c",
       "style": "IPY_MODEL_832f6bd6818f42d49866b01879375e66",
       "value": "100%"
      }
     },
     "9a650725e2654284bf9fd76c86d124bc": {
      "model_module": "@jupyter-widgets/controls",
      "model_module_version": "2.0.0",
      "model_name": "ProgressStyleModel",
      "state": {
       "description_width": ""
      }
     },
     "9a6c0e7fb5b94195b60e38faf86dcf03": {
      "model_module": "@jupyter-widgets/controls",
      "model_module_version": "2.0.0",
      "model_name": "ProgressStyleModel",
      "state": {
       "description_width": ""
      }
     },
     "9a74497b9bd44f0484e476f171c31c88": {
      "model_module": "@jupyter-widgets/controls",
      "model_module_version": "2.0.0",
      "model_name": "HTMLStyleModel",
      "state": {
       "description_width": "",
       "font_size": null,
       "text_color": null
      }
     },
     "9ab037680842462f82b0f5c308a1fe36": {
      "model_module": "@jupyter-widgets/base",
      "model_module_version": "2.0.0",
      "model_name": "LayoutModel",
      "state": {}
     },
     "9ae89a3202364819b3fd8c6ea0733508": {
      "model_module": "@jupyter-widgets/controls",
      "model_module_version": "2.0.0",
      "model_name": "HBoxModel",
      "state": {
       "children": [
        "IPY_MODEL_3885557e90d842b3a1e7e087be03efd1",
        "IPY_MODEL_25f5e706da334b1fafca8e5f0efa8a08",
        "IPY_MODEL_0af41ba59c4d462ebb708d3a7111f3a6"
       ],
       "layout": "IPY_MODEL_a90889e4a8ba4028a49de2720addb69c"
      }
     },
     "9afbc49635ca45dc81fc9cca3801d7cf": {
      "model_module": "@jupyter-widgets/controls",
      "model_module_version": "2.0.0",
      "model_name": "HTMLStyleModel",
      "state": {
       "description_width": "",
       "font_size": null,
       "text_color": null
      }
     },
     "9b0882cf3e564987bba17345d9cb3e3b": {
      "model_module": "@jupyter-widgets/controls",
      "model_module_version": "2.0.0",
      "model_name": "HTMLModel",
      "state": {
       "layout": "IPY_MODEL_bf98c9c3c08444f9be44c4f8beb5c3ec",
       "style": "IPY_MODEL_4b176e6ea14c46e9a2f39e983e051510",
       "value": "100%"
      }
     },
     "9b27f76439ad4ef6b15996777a01693b": {
      "model_module": "@jupyter-widgets/controls",
      "model_module_version": "2.0.0",
      "model_name": "HTMLModel",
      "state": {
       "layout": "IPY_MODEL_7ca79d6508aa4264901c94f10dc9df21",
       "style": "IPY_MODEL_06231c2a6afc4d9f89259b87fff3b846",
       "value": "100%"
      }
     },
     "9b32a113adf24186b44a39b6e608da7b": {
      "model_module": "@jupyter-widgets/base",
      "model_module_version": "2.0.0",
      "model_name": "LayoutModel",
      "state": {}
     },
     "9b3df076a694490ab92dbbadb89a0d72": {
      "model_module": "@jupyter-widgets/controls",
      "model_module_version": "2.0.0",
      "model_name": "HBoxModel",
      "state": {
       "children": [
        "IPY_MODEL_5dbc662291ff47c1b830c5364f6c96a1",
        "IPY_MODEL_bd039e98166043caad6e24c6b5ff0b01",
        "IPY_MODEL_d85fd180aa574bea95dfcc0d96995cf9"
       ],
       "layout": "IPY_MODEL_e955d55d69cf4eab9c59eb624b37d9bf"
      }
     },
     "9b700d1ea94148d79c7c69bdc0347c2b": {
      "model_module": "@jupyter-widgets/base",
      "model_module_version": "2.0.0",
      "model_name": "LayoutModel",
      "state": {}
     },
     "9b79f42da61a40f68250b002b153376e": {
      "model_module": "@jupyter-widgets/base",
      "model_module_version": "2.0.0",
      "model_name": "LayoutModel",
      "state": {}
     },
     "9b7b9c717dfa428a897a57009c06ba0c": {
      "model_module": "@jupyter-widgets/controls",
      "model_module_version": "2.0.0",
      "model_name": "HBoxModel",
      "state": {
       "children": [
        "IPY_MODEL_9a39079765f24e109e2099cc9ea566cf",
        "IPY_MODEL_83a0f033bc0e45b097f8d664c6970b7b",
        "IPY_MODEL_fed97aba10de461dbbe278d7db8bf9bf"
       ],
       "layout": "IPY_MODEL_d56d77e6cd044e359fe289fa0352a984"
      }
     },
     "9b88430fbc464a5fa1114cb251948b94": {
      "model_module": "@jupyter-widgets/controls",
      "model_module_version": "2.0.0",
      "model_name": "HBoxModel",
      "state": {
       "children": [
        "IPY_MODEL_71a32719ca3549f7974e9aebb85f4c8e",
        "IPY_MODEL_84129bc101474dffac17cf1db126acef",
        "IPY_MODEL_e17f097631a548f5bc4018eddfc35939"
       ],
       "layout": "IPY_MODEL_0765620c052f4883bcfae8d66107d599"
      }
     },
     "9b9fd813f6c24df4b90d841edadbaf00": {
      "model_module": "@jupyter-widgets/controls",
      "model_module_version": "2.0.0",
      "model_name": "HTMLStyleModel",
      "state": {
       "description_width": "",
       "font_size": null,
       "text_color": null
      }
     },
     "9bb9e35867e94871a2d4874709d02dda": {
      "model_module": "@jupyter-widgets/controls",
      "model_module_version": "2.0.0",
      "model_name": "FloatProgressModel",
      "state": {
       "bar_style": "success",
       "layout": "IPY_MODEL_a65446b4dcaf40bca0f4516e50062cc9",
       "max": 512,
       "style": "IPY_MODEL_17bbe30ba8db47d1bd2cdf16fd9ec2db",
       "value": 512
      }
     },
     "9bbf73a5041b4ce78b977b611903a257": {
      "model_module": "@jupyter-widgets/base",
      "model_module_version": "2.0.0",
      "model_name": "LayoutModel",
      "state": {}
     },
     "9bc1ecf8d10b495aacdd27036af1cabc": {
      "model_module": "@jupyter-widgets/controls",
      "model_module_version": "2.0.0",
      "model_name": "HTMLStyleModel",
      "state": {
       "description_width": "",
       "font_size": null,
       "text_color": null
      }
     },
     "9bcc9e3d7d5d4af488f7127328775436": {
      "model_module": "@jupyter-widgets/controls",
      "model_module_version": "2.0.0",
      "model_name": "HTMLStyleModel",
      "state": {
       "description_width": "",
       "font_size": null,
       "text_color": null
      }
     },
     "9c21458b7f3c471ab14cf72b4e2b2301": {
      "model_module": "@jupyter-widgets/controls",
      "model_module_version": "2.0.0",
      "model_name": "HTMLStyleModel",
      "state": {
       "description_width": "",
       "font_size": null,
       "text_color": null
      }
     },
     "9c2bf180d348431f89dcb76e15514088": {
      "model_module": "@jupyter-widgets/base",
      "model_module_version": "2.0.0",
      "model_name": "LayoutModel",
      "state": {}
     },
     "9c2c4a774df649b8b7cda869ea1d0bbb": {
      "model_module": "@jupyter-widgets/controls",
      "model_module_version": "2.0.0",
      "model_name": "HTMLStyleModel",
      "state": {
       "description_width": "",
       "font_size": null,
       "text_color": null
      }
     },
     "9c30d38adb614aefa757a0707ea147b9": {
      "model_module": "@jupyter-widgets/controls",
      "model_module_version": "2.0.0",
      "model_name": "HTMLStyleModel",
      "state": {
       "description_width": "",
       "font_size": null,
       "text_color": null
      }
     },
     "9c81dadfc34b4a90b1969361f8a94c83": {
      "model_module": "@jupyter-widgets/base",
      "model_module_version": "2.0.0",
      "model_name": "LayoutModel",
      "state": {}
     },
     "9c870ba2ff624ac483b8d2b378bab2e0": {
      "model_module": "@jupyter-widgets/controls",
      "model_module_version": "2.0.0",
      "model_name": "FloatProgressModel",
      "state": {
       "bar_style": "success",
       "layout": "IPY_MODEL_dc7800454ae24a908513163d9c9fffc7",
       "max": 693,
       "style": "IPY_MODEL_2500ac28f85043ab88573c3e44b0d60c",
       "value": 693
      }
     },
     "9cc9b939a5ec41e48939467da5f3cd50": {
      "model_module": "@jupyter-widgets/controls",
      "model_module_version": "2.0.0",
      "model_name": "HTMLModel",
      "state": {
       "layout": "IPY_MODEL_b6946804fef743af9e7c919256829ed1",
       "style": "IPY_MODEL_7f831910b4aa4a6c8d4460e526e9404e",
       "value": " 0/401 [00:00&lt;?, ?it/s]"
      }
     },
     "9d1bcac67b7d4753af436b7888d7940e": {
      "model_module": "@jupyter-widgets/controls",
      "model_module_version": "2.0.0",
      "model_name": "HTMLModel",
      "state": {
       "layout": "IPY_MODEL_d2ae960c6f034018860b6af175bd6ae2",
       "style": "IPY_MODEL_6a1e1a1e8ca94a828f97cc31bcfb1235",
       "value": "100%"
      }
     },
     "9d3c1d4c15274332ac5a3c2f08b1f70f": {
      "model_module": "@jupyter-widgets/controls",
      "model_module_version": "2.0.0",
      "model_name": "FloatProgressModel",
      "state": {
       "bar_style": "success",
       "layout": "IPY_MODEL_71084ef782bf4aba8abdd6e6888f655e",
       "max": 745,
       "style": "IPY_MODEL_9f40c4c4900343a99f16e5a70bace395",
       "value": 745
      }
     },
     "9d45a1342c0247f0a2e0ce65aa6aff34": {
      "model_module": "@jupyter-widgets/controls",
      "model_module_version": "2.0.0",
      "model_name": "ProgressStyleModel",
      "state": {
       "description_width": ""
      }
     },
     "9d4765ac5fc64eb685fcbfcd251d5537": {
      "model_module": "@jupyter-widgets/controls",
      "model_module_version": "2.0.0",
      "model_name": "HBoxModel",
      "state": {
       "children": [
        "IPY_MODEL_3718387f55d341d3bd0f926652fad9fb",
        "IPY_MODEL_263d9eb9e10a47119d760236c3c59c7b",
        "IPY_MODEL_2a74cbf0e9d3445cb1dbfec565319e5f"
       ],
       "layout": "IPY_MODEL_2b020c7ed0744d878d6507ff49a289b1"
      }
     },
     "9d6662a93cea4656ad6ddfc1e99da3e2": {
      "model_module": "@jupyter-widgets/controls",
      "model_module_version": "2.0.0",
      "model_name": "HTMLModel",
      "state": {
       "layout": "IPY_MODEL_c9d504405abc4446ad0e2061ef486672",
       "style": "IPY_MODEL_76946c9909b6497e92a80133fa84c14b",
       "value": "100%"
      }
     },
     "9d9b5e6074eb43469a51b484bbf3fe29": {
      "model_module": "@jupyter-widgets/base",
      "model_module_version": "2.0.0",
      "model_name": "LayoutModel",
      "state": {}
     },
     "9da0634bfd724e9db7a41e21fc2e0904": {
      "model_module": "@jupyter-widgets/controls",
      "model_module_version": "2.0.0",
      "model_name": "HTMLModel",
      "state": {
       "layout": "IPY_MODEL_9da1072bd9744f5a8982127c3439cb93",
       "style": "IPY_MODEL_81e55c918c104ed8ab6718f535b67e0d",
       "value": " 480/480 [00:00&lt;00:00, 135673.96it/s]"
      }
     },
     "9da1072bd9744f5a8982127c3439cb93": {
      "model_module": "@jupyter-widgets/base",
      "model_module_version": "2.0.0",
      "model_name": "LayoutModel",
      "state": {}
     },
     "9da252e883564ddc86272ee2e748ed69": {
      "model_module": "@jupyter-widgets/controls",
      "model_module_version": "2.0.0",
      "model_name": "ProgressStyleModel",
      "state": {
       "description_width": ""
      }
     },
     "9dc8a5c3eebb4450a8b359a88b4c663b": {
      "model_module": "@jupyter-widgets/controls",
      "model_module_version": "2.0.0",
      "model_name": "HBoxModel",
      "state": {
       "children": [
        "IPY_MODEL_04440396b47148099fa34085e3ff23fb",
        "IPY_MODEL_c5c84356a3d94705ad764880977df362",
        "IPY_MODEL_459217a352874b129ca355244ff89232"
       ],
       "layout": "IPY_MODEL_a12cca2f09604da2b00ed6c37747bb48"
      }
     },
     "9dcdeab8df764bd5815e5e22d81f0bae": {
      "model_module": "@jupyter-widgets/controls",
      "model_module_version": "2.0.0",
      "model_name": "FloatProgressModel",
      "state": {
       "bar_style": "success",
       "layout": "IPY_MODEL_aef7fefc9d0747d08441d90589cbdf73",
       "max": 707,
       "style": "IPY_MODEL_d8ed104f28d844b88e3727fc8adef550",
       "value": 707
      }
     },
     "9dd9b45976f9425183e2fc8aacd1b8af": {
      "model_module": "@jupyter-widgets/base",
      "model_module_version": "2.0.0",
      "model_name": "LayoutModel",
      "state": {}
     },
     "9deb1606dd2c4666b6a3e525e96ebae3": {
      "model_module": "@jupyter-widgets/base",
      "model_module_version": "2.0.0",
      "model_name": "LayoutModel",
      "state": {}
     },
     "9e06475d45674291b1fde2cd2b2275f4": {
      "model_module": "@jupyter-widgets/base",
      "model_module_version": "2.0.0",
      "model_name": "LayoutModel",
      "state": {}
     },
     "9e38e7b1f36f4afc95e14f6c2378a252": {
      "model_module": "@jupyter-widgets/controls",
      "model_module_version": "2.0.0",
      "model_name": "FloatProgressModel",
      "state": {
       "bar_style": "success",
       "layout": "IPY_MODEL_994e4d9a9dc84ce298cbc82698f28a9e",
       "max": 401,
       "style": "IPY_MODEL_b7a2edf2b39141d5893a5648fdf7e03c",
       "value": 401
      }
     },
     "9e3a0c872b3d4313849f855d6ee650b8": {
      "model_module": "@jupyter-widgets/controls",
      "model_module_version": "2.0.0",
      "model_name": "FloatProgressModel",
      "state": {
       "bar_style": "success",
       "layout": "IPY_MODEL_564a3807dfa245c39a9b43cd2535aa46",
       "max": 405,
       "style": "IPY_MODEL_08c5c32b84ef4a9097665a0ffa10fb64",
       "value": 405
      }
     },
     "9e4a43e1fba84a0282c9aab89c88ab73": {
      "model_module": "@jupyter-widgets/controls",
      "model_module_version": "2.0.0",
      "model_name": "HTMLStyleModel",
      "state": {
       "description_width": "",
       "font_size": null,
       "text_color": null
      }
     },
     "9e585bd744f4418281cbc2f266929af0": {
      "model_module": "@jupyter-widgets/controls",
      "model_module_version": "2.0.0",
      "model_name": "HTMLModel",
      "state": {
       "layout": "IPY_MODEL_1543dae859de475b9d6a2e832a5d10bb",
       "style": "IPY_MODEL_a09dff7c775440fba4d8bafc5ca74dfa",
       "value": " 601/601 [00:38&lt;00:00, 15.39it/s]"
      }
     },
     "9eb4e76af11a4cdf840484ea899b6a9b": {
      "model_module": "@jupyter-widgets/base",
      "model_module_version": "2.0.0",
      "model_name": "LayoutModel",
      "state": {}
     },
     "9ed2f8acfea747f4b0d0c2246796c875": {
      "model_module": "@jupyter-widgets/controls",
      "model_module_version": "2.0.0",
      "model_name": "ProgressStyleModel",
      "state": {
       "description_width": ""
      }
     },
     "9f02e9c50c6d4397b5985f4ed0863c60": {
      "model_module": "@jupyter-widgets/base",
      "model_module_version": "2.0.0",
      "model_name": "LayoutModel",
      "state": {}
     },
     "9f2d7189c9a44f0999fa0d26246772fd": {
      "model_module": "@jupyter-widgets/controls",
      "model_module_version": "2.0.0",
      "model_name": "HTMLStyleModel",
      "state": {
       "description_width": "",
       "font_size": null,
       "text_color": null
      }
     },
     "9f3ca8c93cae42beb5fa9e84594ce5fc": {
      "model_module": "@jupyter-widgets/controls",
      "model_module_version": "2.0.0",
      "model_name": "HTMLStyleModel",
      "state": {
       "description_width": "",
       "font_size": null,
       "text_color": null
      }
     },
     "9f3d2c07a1f34a559cf7e59c30d51310": {
      "model_module": "@jupyter-widgets/base",
      "model_module_version": "2.0.0",
      "model_name": "LayoutModel",
      "state": {}
     },
     "9f3dec94a19c4b3288acbeebe9bec1a1": {
      "model_module": "@jupyter-widgets/controls",
      "model_module_version": "2.0.0",
      "model_name": "HTMLModel",
      "state": {
       "layout": "IPY_MODEL_46da81bb384947d1ad8986b6ecf87276",
       "style": "IPY_MODEL_a9c36f672c874641a340b92fc9f16fa0",
       "value": " 631/631 [00:00&lt;00:00, 174751.13it/s]"
      }
     },
     "9f40c4c4900343a99f16e5a70bace395": {
      "model_module": "@jupyter-widgets/controls",
      "model_module_version": "2.0.0",
      "model_name": "ProgressStyleModel",
      "state": {
       "description_width": ""
      }
     },
     "9f4680e9acad42ed97b3608831479583": {
      "model_module": "@jupyter-widgets/controls",
      "model_module_version": "2.0.0",
      "model_name": "HTMLStyleModel",
      "state": {
       "description_width": "",
       "font_size": null,
       "text_color": null
      }
     },
     "9f76272327fb452fbb4cf3bb435fd8b5": {
      "model_module": "@jupyter-widgets/base",
      "model_module_version": "2.0.0",
      "model_name": "LayoutModel",
      "state": {}
     },
     "9fb7c5fc02944461b25f7b31a3a37ffb": {
      "model_module": "@jupyter-widgets/controls",
      "model_module_version": "2.0.0",
      "model_name": "FloatProgressModel",
      "state": {
       "bar_style": "danger",
       "layout": "IPY_MODEL_0252d45b2bd847ccbc8bba2164ff90b0",
       "max": 582,
       "style": "IPY_MODEL_1849497189c945e5a93f11027fd4c105"
      }
     },
     "9fc358d09a66496ca5181a2797ca712f": {
      "model_module": "@jupyter-widgets/controls",
      "model_module_version": "2.0.0",
      "model_name": "FloatProgressModel",
      "state": {
       "bar_style": "success",
       "layout": "IPY_MODEL_e48f7f20ddd34462a7e22cb46f52a957",
       "max": 620,
       "style": "IPY_MODEL_e394e0160a594d4eaf627bbdb0da5f35",
       "value": 620
      }
     },
     "9fc64675e2a04961beec81d95ae7ab60": {
      "model_module": "@jupyter-widgets/controls",
      "model_module_version": "2.0.0",
      "model_name": "FloatProgressModel",
      "state": {
       "bar_style": "success",
       "layout": "IPY_MODEL_8907a1a5eb8747ec91af34c17fdef305",
       "max": 631,
       "style": "IPY_MODEL_a38a85b49eae4a339af574e92bd4f715",
       "value": 631
      }
     },
     "9fc6dd34f3cf4c28ada5bd860ead3ba8": {
      "model_module": "@jupyter-widgets/controls",
      "model_module_version": "2.0.0",
      "model_name": "HTMLModel",
      "state": {
       "layout": "IPY_MODEL_97db3058242f434ca7a3dd24c7a715e6",
       "style": "IPY_MODEL_170b7b0e39694726ae386422367a8111",
       "value": " 0/474 [00:00&lt;?, ?it/s]"
      }
     },
     "9ff33c2060b84b2a890686db722db644": {
      "model_module": "@jupyter-widgets/controls",
      "model_module_version": "2.0.0",
      "model_name": "FloatProgressModel",
      "state": {
       "bar_style": "success",
       "layout": "IPY_MODEL_52df7f6752364f66b71a542a72ed6ef2",
       "max": 646,
       "style": "IPY_MODEL_865f22da263c4c9f908fee3a862edfc8",
       "value": 646
      }
     },
     "a0179a10ee824cc3bb5d095dc20b3c15": {
      "model_module": "@jupyter-widgets/controls",
      "model_module_version": "2.0.0",
      "model_name": "HTMLModel",
      "state": {
       "layout": "IPY_MODEL_de45359c38ab4ca9a6f5034789ab3804",
       "style": "IPY_MODEL_f49b4bb67bcd482e9bb9b67402294ff3",
       "value": " 618/618 [00:00&lt;00:00, 172311.37it/s]"
      }
     },
     "a047ab5c6971422e98c767176c3f872e": {
      "model_module": "@jupyter-widgets/base",
      "model_module_version": "2.0.0",
      "model_name": "LayoutModel",
      "state": {}
     },
     "a048651fad9d4b5ba85778be92e7d459": {
      "model_module": "@jupyter-widgets/controls",
      "model_module_version": "2.0.0",
      "model_name": "HTMLModel",
      "state": {
       "layout": "IPY_MODEL_ae5155cf0a8d4b899b8f49055fd770ac",
       "style": "IPY_MODEL_ad6044673e004e15b1f7dd52eb1aae8d",
       "value": " 640/640 [00:00&lt;00:00, 176776.72it/s]"
      }
     },
     "a0514f6224e34702a264d6f980b70c95": {
      "model_module": "@jupyter-widgets/controls",
      "model_module_version": "2.0.0",
      "model_name": "FloatProgressModel",
      "state": {
       "bar_style": "success",
       "layout": "IPY_MODEL_a986cfdf13fb4d54a753ab0df2ab9cd3",
       "max": 720,
       "style": "IPY_MODEL_0db2223b607c4bf6915f859a54ea0c97",
       "value": 720
      }
     },
     "a05f19c4c94741d1bb722a6e15e453bf": {
      "model_module": "@jupyter-widgets/controls",
      "model_module_version": "2.0.0",
      "model_name": "HTMLStyleModel",
      "state": {
       "description_width": "",
       "font_size": null,
       "text_color": null
      }
     },
     "a09d238871524b878f08d3890a1d66d3": {
      "model_module": "@jupyter-widgets/base",
      "model_module_version": "2.0.0",
      "model_name": "LayoutModel",
      "state": {}
     },
     "a09dff7c775440fba4d8bafc5ca74dfa": {
      "model_module": "@jupyter-widgets/controls",
      "model_module_version": "2.0.0",
      "model_name": "HTMLStyleModel",
      "state": {
       "description_width": "",
       "font_size": null,
       "text_color": null
      }
     },
     "a0aa099133544df496aef50dfd89905a": {
      "model_module": "@jupyter-widgets/controls",
      "model_module_version": "2.0.0",
      "model_name": "HTMLStyleModel",
      "state": {
       "description_width": "",
       "font_size": null,
       "text_color": null
      }
     },
     "a0f3387db922430abe68622a7514a832": {
      "model_module": "@jupyter-widgets/controls",
      "model_module_version": "2.0.0",
      "model_name": "HBoxModel",
      "state": {
       "children": [
        "IPY_MODEL_f47c911b69924e6382dfe2face3069f6",
        "IPY_MODEL_1284fc2de5d94d2191048fdb8ad8395d",
        "IPY_MODEL_c0b2035f06374b57881e204ae5d4d1aa"
       ],
       "layout": "IPY_MODEL_d8aa4d0aa3994c22a2692f181ea5d905"
      }
     },
     "a126f0eec76a4c3889ff863e92ec7cf7": {
      "model_module": "@jupyter-widgets/base",
      "model_module_version": "2.0.0",
      "model_name": "LayoutModel",
      "state": {}
     },
     "a12cca2f09604da2b00ed6c37747bb48": {
      "model_module": "@jupyter-widgets/base",
      "model_module_version": "2.0.0",
      "model_name": "LayoutModel",
      "state": {}
     },
     "a13feda3af5843f08d29fcd910f7ea14": {
      "model_module": "@jupyter-widgets/controls",
      "model_module_version": "2.0.0",
      "model_name": "HTMLModel",
      "state": {
       "layout": "IPY_MODEL_b4953dcd31bc415884b6f8560674c7c1",
       "style": "IPY_MODEL_6930034aa7fe4080810f66b69526616a",
       "value": " 0/582 [00:00&lt;?, ?it/s]"
      }
     },
     "a145b60a45874ac580413220c81b2e17": {
      "model_module": "@jupyter-widgets/controls",
      "model_module_version": "2.0.0",
      "model_name": "HTMLModel",
      "state": {
       "layout": "IPY_MODEL_350e2d1015754a609c98f7d73ca420ba",
       "style": "IPY_MODEL_49a205b4bb934af48370f5ed2fb26586",
       "value": " 405/405 [00:26&lt;00:00, 15.29it/s]"
      }
     },
     "a174deda79404b0ba127c527340fdc12": {
      "model_module": "@jupyter-widgets/base",
      "model_module_version": "2.0.0",
      "model_name": "LayoutModel",
      "state": {}
     },
     "a18f57bf097949109fd530635c89460b": {
      "model_module": "@jupyter-widgets/controls",
      "model_module_version": "2.0.0",
      "model_name": "FloatProgressModel",
      "state": {
       "bar_style": "success",
       "layout": "IPY_MODEL_95bf2781d3ab4a9abdb8f4efc10b18fe",
       "max": 516,
       "style": "IPY_MODEL_56ec76fd715c460aa90941603702c882",
       "value": 516
      }
     },
     "a19c96432f0e4410a6215be225cc3678": {
      "model_module": "@jupyter-widgets/controls",
      "model_module_version": "2.0.0",
      "model_name": "FloatProgressModel",
      "state": {
       "bar_style": "success",
       "layout": "IPY_MODEL_891184762b1644868bd980e771723a1b",
       "max": 702,
       "style": "IPY_MODEL_4e4ba17f186a4f23b09c5a23ecfb67f5",
       "value": 702
      }
     },
     "a1ef5cf63c2f4d6381652ff0e7087c70": {
      "model_module": "@jupyter-widgets/controls",
      "model_module_version": "2.0.0",
      "model_name": "HTMLModel",
      "state": {
       "layout": "IPY_MODEL_3e04c4c46e0e4576b9f92d1f9d2ded4e",
       "style": "IPY_MODEL_0eb54ea75bb5405fa34bfcf7a3819f88",
       "value": "100%"
      }
     },
     "a23ea48f377b43acb1c6e29202fcf397": {
      "model_module": "@jupyter-widgets/base",
      "model_module_version": "2.0.0",
      "model_name": "LayoutModel",
      "state": {}
     },
     "a26a616b4fc84a708c528ded8f0b55fe": {
      "model_module": "@jupyter-widgets/base",
      "model_module_version": "2.0.0",
      "model_name": "LayoutModel",
      "state": {}
     },
     "a29fcf84687744df88f6dbcb5e17e03d": {
      "model_module": "@jupyter-widgets/controls",
      "model_module_version": "2.0.0",
      "model_name": "HTMLModel",
      "state": {
       "layout": "IPY_MODEL_8c000f4fc5674dfcac95d84958d7706b",
       "style": "IPY_MODEL_f1f2d0f60cf94f03b31d987f34cef22a",
       "value": "100%"
      }
     },
     "a2b3be6bc729466f99caa8fb11f870fd": {
      "model_module": "@jupyter-widgets/controls",
      "model_module_version": "2.0.0",
      "model_name": "HTMLModel",
      "state": {
       "layout": "IPY_MODEL_ed086f6176a34a94af509c4d5468dce3",
       "style": "IPY_MODEL_91946b70754f4ce58ae7c00ca5b24ac5",
       "value": " 654/654 [00:00&lt;00:00, 181276.42it/s]"
      }
     },
     "a2b55bca96204b9e80a335b376e8fff3": {
      "model_module": "@jupyter-widgets/controls",
      "model_module_version": "2.0.0",
      "model_name": "FloatProgressModel",
      "state": {
       "bar_style": "danger",
       "layout": "IPY_MODEL_57fa8815b16f4d2c9d539711d62189bc",
       "max": 582,
       "style": "IPY_MODEL_0e00984110e84043abe9e1f34392f485"
      }
     },
     "a2c888f462694f6ead3fe50a35c4d0db": {
      "model_module": "@jupyter-widgets/controls",
      "model_module_version": "2.0.0",
      "model_name": "HTMLModel",
      "state": {
       "layout": "IPY_MODEL_807e4fa01fd04781b80ea77bc4e082b0",
       "style": "IPY_MODEL_a0aa099133544df496aef50dfd89905a",
       "value": " 631/631 [00:00&lt;00:00, 174797.29it/s]"
      }
     },
     "a3087d8891644792b29183a9153d8889": {
      "model_module": "@jupyter-widgets/controls",
      "model_module_version": "2.0.0",
      "model_name": "FloatProgressModel",
      "state": {
       "bar_style": "success",
       "layout": "IPY_MODEL_6b885fe896ad4d48b3840f3e5987e692",
       "max": 733,
       "style": "IPY_MODEL_68821e12240149fdbb5bb2c54f50bed9",
       "value": 733
      }
     },
     "a30accbad85e4f298a40a653e5a4e4b7": {
      "model_module": "@jupyter-widgets/base",
      "model_module_version": "2.0.0",
      "model_name": "LayoutModel",
      "state": {}
     },
     "a31045d48eed4927ae96e9407a1612ac": {
      "model_module": "@jupyter-widgets/controls",
      "model_module_version": "2.0.0",
      "model_name": "FloatProgressModel",
      "state": {
       "bar_style": "success",
       "layout": "IPY_MODEL_f1af9d48a7ba4e44ac9ef3d046f82611",
       "max": 344,
       "style": "IPY_MODEL_0c36892577de43a5b7b989bdd5b24fe8",
       "value": 344
      }
     },
     "a31564282d2f4a838530c7f072cf412a": {
      "model_module": "@jupyter-widgets/controls",
      "model_module_version": "2.0.0",
      "model_name": "FloatProgressModel",
      "state": {
       "bar_style": "success",
       "layout": "IPY_MODEL_613fabe6b86c478f8051d499d3345d8e",
       "max": 651,
       "style": "IPY_MODEL_7baab4f3bb274797901086a4db3db4dd",
       "value": 651
      }
     },
     "a32d925b4aa14f98826d3b8677e44e06": {
      "model_module": "@jupyter-widgets/base",
      "model_module_version": "2.0.0",
      "model_name": "LayoutModel",
      "state": {}
     },
     "a38a85b49eae4a339af574e92bd4f715": {
      "model_module": "@jupyter-widgets/controls",
      "model_module_version": "2.0.0",
      "model_name": "ProgressStyleModel",
      "state": {
       "description_width": ""
      }
     },
     "a38d30c4b59b435fb9afccd9956e0ac7": {
      "model_module": "@jupyter-widgets/controls",
      "model_module_version": "2.0.0",
      "model_name": "HTMLStyleModel",
      "state": {
       "description_width": "",
       "font_size": null,
       "text_color": null
      }
     },
     "a3a4c7fa9c0945bf80dc49c483986ccc": {
      "model_module": "@jupyter-widgets/base",
      "model_module_version": "2.0.0",
      "model_name": "LayoutModel",
      "state": {}
     },
     "a3eabfe565e844beac57201a3503115f": {
      "model_module": "@jupyter-widgets/controls",
      "model_module_version": "2.0.0",
      "model_name": "FloatProgressModel",
      "state": {
       "bar_style": "success",
       "layout": "IPY_MODEL_eeb6a3d72bb84a1497cf04dd79bdca11",
       "max": 797,
       "style": "IPY_MODEL_1798885c4ecd4f61974b1c033a25091a",
       "value": 797
      }
     },
     "a3edff773257400b98b04631ec0db413": {
      "model_module": "@jupyter-widgets/controls",
      "model_module_version": "2.0.0",
      "model_name": "HBoxModel",
      "state": {
       "children": [
        "IPY_MODEL_603ac8ed579a49bdaed84eb8c5df2eff",
        "IPY_MODEL_383e3bae421946889330051a4b1cb879",
        "IPY_MODEL_e341d816d8a9429d8c8dfaea7177d6cd"
       ],
       "layout": "IPY_MODEL_3877d4b2845b401fb4896b0f695d00b4"
      }
     },
     "a40b717e9f1144a38381bf311c432bec": {
      "model_module": "@jupyter-widgets/base",
      "model_module_version": "2.0.0",
      "model_name": "LayoutModel",
      "state": {}
     },
     "a4187324be204a33815162b3e8c2e744": {
      "model_module": "@jupyter-widgets/base",
      "model_module_version": "2.0.0",
      "model_name": "LayoutModel",
      "state": {}
     },
     "a42cf3ad6a514f6da0d45ee6cd7442ba": {
      "model_module": "@jupyter-widgets/controls",
      "model_module_version": "2.0.0",
      "model_name": "ProgressStyleModel",
      "state": {
       "description_width": ""
      }
     },
     "a453a16ef55c4ea385076dd3ad0773c6": {
      "model_module": "@jupyter-widgets/controls",
      "model_module_version": "2.0.0",
      "model_name": "HTMLStyleModel",
      "state": {
       "description_width": "",
       "font_size": null,
       "text_color": null
      }
     },
     "a4984ef26e4d4aa49ee59c79eb0cd4ce": {
      "model_module": "@jupyter-widgets/controls",
      "model_module_version": "2.0.0",
      "model_name": "HBoxModel",
      "state": {
       "children": [
        "IPY_MODEL_d2b5691833b44d4f9d162642128a64d2",
        "IPY_MODEL_f8fc15d9ba8e4ef385f09b52d384bb5a",
        "IPY_MODEL_874659c932fd4407a1645d65d27e6d63"
       ],
       "layout": "IPY_MODEL_28148253056b44dca2aace1ca7ae603f"
      }
     },
     "a4bc07746128454fa199bba828047611": {
      "model_module": "@jupyter-widgets/controls",
      "model_module_version": "2.0.0",
      "model_name": "HBoxModel",
      "state": {
       "children": [
        "IPY_MODEL_780f5d240e864734977a8f27de0047ac",
        "IPY_MODEL_a3eabfe565e844beac57201a3503115f",
        "IPY_MODEL_978ac00386a84e908a89c6f34372d2a5"
       ],
       "layout": "IPY_MODEL_ef439ae77ab643128bac1fcdf738f561"
      }
     },
     "a4bf4aa12d214107b585125e325f77a1": {
      "model_module": "@jupyter-widgets/base",
      "model_module_version": "2.0.0",
      "model_name": "LayoutModel",
      "state": {}
     },
     "a5061ddb9f58463b9a932998ba6f30b2": {
      "model_module": "@jupyter-widgets/base",
      "model_module_version": "2.0.0",
      "model_name": "LayoutModel",
      "state": {}
     },
     "a564e012aede49bf946d889d00fe3bca": {
      "model_module": "@jupyter-widgets/controls",
      "model_module_version": "2.0.0",
      "model_name": "HTMLModel",
      "state": {
       "layout": "IPY_MODEL_478132d4766d4bef8658c337e5b1855e",
       "style": "IPY_MODEL_0b07bf710ac94a368e136e3a9a681710",
       "value": "100%"
      }
     },
     "a56703d164124c6197ed3a54e700559a": {
      "model_module": "@jupyter-widgets/controls",
      "model_module_version": "2.0.0",
      "model_name": "HBoxModel",
      "state": {
       "children": [
        "IPY_MODEL_eb58eb3b1aef48249a6ccdc8a0438ad1",
        "IPY_MODEL_96cd3b72e3c1471e84e43f7080ffa566",
        "IPY_MODEL_db515cd0e49543ad9dba9bb1d2ff5a70"
       ],
       "layout": "IPY_MODEL_66db5f66063643b7b254a8a49bfb3108"
      }
     },
     "a579723cb0a1481b8574880e329664f7": {
      "model_module": "@jupyter-widgets/base",
      "model_module_version": "2.0.0",
      "model_name": "LayoutModel",
      "state": {}
     },
     "a58128990ceb412ca32df3a945b8b8a2": {
      "model_module": "@jupyter-widgets/base",
      "model_module_version": "2.0.0",
      "model_name": "LayoutModel",
      "state": {}
     },
     "a597b3e896764adbbdb9b9e7081a4893": {
      "model_module": "@jupyter-widgets/controls",
      "model_module_version": "2.0.0",
      "model_name": "HTMLModel",
      "state": {
       "layout": "IPY_MODEL_40c206e0a78b4652b10c956f688669d1",
       "style": "IPY_MODEL_13691ab48dd2467ea6d3e751ce609fe5",
       "value": " 674/674 [00:00&lt;00:00, 186094.46it/s]"
      }
     },
     "a598ac32380f4c4da766c8861cfd0075": {
      "model_module": "@jupyter-widgets/controls",
      "model_module_version": "2.0.0",
      "model_name": "ProgressStyleModel",
      "state": {
       "description_width": ""
      }
     },
     "a5b923a238e94d4a9cedbb2d85f72ebb": {
      "model_module": "@jupyter-widgets/base",
      "model_module_version": "2.0.0",
      "model_name": "LayoutModel",
      "state": {}
     },
     "a5ef57d81ccb4ab28ce75aa0946a1dfa": {
      "model_module": "@jupyter-widgets/base",
      "model_module_version": "2.0.0",
      "model_name": "LayoutModel",
      "state": {}
     },
     "a5f3f359580848bdad76cbbc15878e07": {
      "model_module": "@jupyter-widgets/controls",
      "model_module_version": "2.0.0",
      "model_name": "FloatProgressModel",
      "state": {
       "bar_style": "success",
       "layout": "IPY_MODEL_acd8cd435d7742638e09d19e68e55413",
       "max": 618,
       "style": "IPY_MODEL_e38177ad1ecc4063b2f9545608feaaf6",
       "value": 618
      }
     },
     "a5fdff4273de47c9ae91b68790a2dce2": {
      "model_module": "@jupyter-widgets/controls",
      "model_module_version": "2.0.0",
      "model_name": "ProgressStyleModel",
      "state": {
       "description_width": ""
      }
     },
     "a607cf2d8d274f638529dbf4fb88867b": {
      "model_module": "@jupyter-widgets/controls",
      "model_module_version": "2.0.0",
      "model_name": "HTMLStyleModel",
      "state": {
       "description_width": "",
       "font_size": null,
       "text_color": null
      }
     },
     "a61112e2a2b443d59a3c78ac77ed0dc6": {
      "model_module": "@jupyter-widgets/controls",
      "model_module_version": "2.0.0",
      "model_name": "FloatProgressModel",
      "state": {
       "bar_style": "success",
       "layout": "IPY_MODEL_40eadd51a12b454c8311bcf056f7a69e",
       "max": 637,
       "style": "IPY_MODEL_8372efcb14b445138e49eec8690a91d9",
       "value": 637
      }
     },
     "a616a25a94de4d159fc05c790fe894ec": {
      "model_module": "@jupyter-widgets/base",
      "model_module_version": "2.0.0",
      "model_name": "LayoutModel",
      "state": {}
     },
     "a6393c772ef34d7ebf538ea15ae92dff": {
      "model_module": "@jupyter-widgets/base",
      "model_module_version": "2.0.0",
      "model_name": "LayoutModel",
      "state": {}
     },
     "a65446b4dcaf40bca0f4516e50062cc9": {
      "model_module": "@jupyter-widgets/base",
      "model_module_version": "2.0.0",
      "model_name": "LayoutModel",
      "state": {}
     },
     "a65be834019a4a7f9f9735cc1ca2c332": {
      "model_module": "@jupyter-widgets/base",
      "model_module_version": "2.0.0",
      "model_name": "LayoutModel",
      "state": {}
     },
     "a671af9108804d01894e2c5b2b49184e": {
      "model_module": "@jupyter-widgets/controls",
      "model_module_version": "2.0.0",
      "model_name": "HTMLStyleModel",
      "state": {
       "description_width": "",
       "font_size": null,
       "text_color": null
      }
     },
     "a67908f3160e48c089e4dd472d809f57": {
      "model_module": "@jupyter-widgets/controls",
      "model_module_version": "2.0.0",
      "model_name": "ProgressStyleModel",
      "state": {
       "description_width": ""
      }
     },
     "a67df1e74f634ca79bb50c4a95da9302": {
      "model_module": "@jupyter-widgets/controls",
      "model_module_version": "2.0.0",
      "model_name": "ProgressStyleModel",
      "state": {
       "description_width": ""
      }
     },
     "a699c3ce826b4a3c8c47d656445e1b95": {
      "model_module": "@jupyter-widgets/base",
      "model_module_version": "2.0.0",
      "model_name": "LayoutModel",
      "state": {}
     },
     "a6a72138e82c495bbb0a4ed179d25e46": {
      "model_module": "@jupyter-widgets/base",
      "model_module_version": "2.0.0",
      "model_name": "LayoutModel",
      "state": {}
     },
     "a6cbf66c3ffd4d84bf554d7926f4674f": {
      "model_module": "@jupyter-widgets/controls",
      "model_module_version": "2.0.0",
      "model_name": "HTMLModel",
      "state": {
       "layout": "IPY_MODEL_9f3d2c07a1f34a559cf7e59c30d51310",
       "style": "IPY_MODEL_0803283bd4c841acb16ded20dbec10d2",
       "value": " 620/620 [00:00&lt;00:00, 171727.43it/s]"
      }
     },
     "a6fbc3dd98a849d9b378bedebc8deeca": {
      "model_module": "@jupyter-widgets/controls",
      "model_module_version": "2.0.0",
      "model_name": "FloatProgressModel",
      "state": {
       "bar_style": "success",
       "layout": "IPY_MODEL_44fb73e327b042cda322dad8ecee5ab5",
       "max": 609,
       "style": "IPY_MODEL_f758fe64dbb44b70aaaa1fc6dca73fc0",
       "value": 609
      }
     },
     "a7187637bd0449baa9ba01567467692f": {
      "model_module": "@jupyter-widgets/controls",
      "model_module_version": "2.0.0",
      "model_name": "HBoxModel",
      "state": {
       "children": [
        "IPY_MODEL_0f7bb2e1b8724c728db58c93efbb5746",
        "IPY_MODEL_7bdc07dde2634465909419cf14bc359f",
        "IPY_MODEL_0d039338c55f402e96ebe864cc5eed0c"
       ],
       "layout": "IPY_MODEL_6a254ad62f1d46da9ac194a76db6955f"
      }
     },
     "a762bd66615548c3a6f4297d492342c6": {
      "model_module": "@jupyter-widgets/controls",
      "model_module_version": "2.0.0",
      "model_name": "FloatProgressModel",
      "state": {
       "bar_style": "success",
       "layout": "IPY_MODEL_a6a72138e82c495bbb0a4ed179d25e46",
       "max": 418,
       "style": "IPY_MODEL_6496cb11d414479ba445bf69ef2358df",
       "value": 418
      }
     },
     "a776c78037584420b620a1d1dbc04545": {
      "model_module": "@jupyter-widgets/controls",
      "model_module_version": "2.0.0",
      "model_name": "HTMLModel",
      "state": {
       "layout": "IPY_MODEL_062d932bbc0b4a6a89905106336599d8",
       "style": "IPY_MODEL_d2d9f6856e2e45fcbb8cd94254a94773",
       "value": "100%"
      }
     },
     "a786495f4be646ea852dc11bafbd00df": {
      "model_module": "@jupyter-widgets/controls",
      "model_module_version": "2.0.0",
      "model_name": "ProgressStyleModel",
      "state": {
       "description_width": ""
      }
     },
     "a7a475034214477bb7247066db961c34": {
      "model_module": "@jupyter-widgets/controls",
      "model_module_version": "2.0.0",
      "model_name": "HTMLStyleModel",
      "state": {
       "description_width": "",
       "font_size": null,
       "text_color": null
      }
     },
     "a7ceba7172e24a45ab54d827ebabb989": {
      "model_module": "@jupyter-widgets/controls",
      "model_module_version": "2.0.0",
      "model_name": "HTMLModel",
      "state": {
       "layout": "IPY_MODEL_f9e3e66a915a4c4692902e425219f127",
       "style": "IPY_MODEL_c7fb164ab76d4c3bab910e3b6aa64635",
       "value": "  0%"
      }
     },
     "a7d0c4fce5074609810f2d622dd2a9a7": {
      "model_module": "@jupyter-widgets/controls",
      "model_module_version": "2.0.0",
      "model_name": "HTMLModel",
      "state": {
       "layout": "IPY_MODEL_a30accbad85e4f298a40a653e5a4e4b7",
       "style": "IPY_MODEL_0313a7f0d95946c09d01a9667887f9b3",
       "value": " 0/582 [00:00&lt;?, ?it/s]"
      }
     },
     "a7f012cc97584866800f77cef190702c": {
      "model_module": "@jupyter-widgets/base",
      "model_module_version": "2.0.0",
      "model_name": "LayoutModel",
      "state": {}
     },
     "a7f17e6cb2c6449caecfbf11aa494c3b": {
      "model_module": "@jupyter-widgets/base",
      "model_module_version": "2.0.0",
      "model_name": "LayoutModel",
      "state": {}
     },
     "a7f62f14249a4995b115edf4052215d3": {
      "model_module": "@jupyter-widgets/base",
      "model_module_version": "2.0.0",
      "model_name": "LayoutModel",
      "state": {}
     },
     "a7fd90765f6545049f91aac6fc455412": {
      "model_module": "@jupyter-widgets/base",
      "model_module_version": "2.0.0",
      "model_name": "LayoutModel",
      "state": {}
     },
     "a7ff8980b84148c6a933698867c9b696": {
      "model_module": "@jupyter-widgets/base",
      "model_module_version": "2.0.0",
      "model_name": "LayoutModel",
      "state": {}
     },
     "a81f5ee0810b4b9c93234c9b55afb4cc": {
      "model_module": "@jupyter-widgets/controls",
      "model_module_version": "2.0.0",
      "model_name": "HTMLModel",
      "state": {
       "layout": "IPY_MODEL_ca97c8ac34df4a34a497397b5dd375d6",
       "style": "IPY_MODEL_3ad558f5747e42d5ba5c38ae6e738801",
       "value": " 612/612 [00:00&lt;00:00, 171929.94it/s]"
      }
     },
     "a839b5d2353e4562b652e5b197e6a4e6": {
      "model_module": "@jupyter-widgets/base",
      "model_module_version": "2.0.0",
      "model_name": "LayoutModel",
      "state": {}
     },
     "a859fc0b5c474371b8edec97998e73e2": {
      "model_module": "@jupyter-widgets/controls",
      "model_module_version": "2.0.0",
      "model_name": "HTMLModel",
      "state": {
       "layout": "IPY_MODEL_db735184e7154cad94032d5cd659c433",
       "style": "IPY_MODEL_c25a7b1430834e4c9303d501506e852f",
       "value": "100%"
      }
     },
     "a85f570c67b84d0e9096e406a05a1cb9": {
      "model_module": "@jupyter-widgets/controls",
      "model_module_version": "2.0.0",
      "model_name": "FloatProgressModel",
      "state": {
       "bar_style": "success",
       "layout": "IPY_MODEL_cddbac4c27f9462ba38eef2e8a0f7358",
       "max": 471,
       "style": "IPY_MODEL_651e327aec3145cea1c8b8e72e848e9d",
       "value": 471
      }
     },
     "a87364f138a44f549273288b8a9eac7a": {
      "model_module": "@jupyter-widgets/base",
      "model_module_version": "2.0.0",
      "model_name": "LayoutModel",
      "state": {}
     },
     "a891c169a8c54f2c99afe8901ac44f5b": {
      "model_module": "@jupyter-widgets/controls",
      "model_module_version": "2.0.0",
      "model_name": "HBoxModel",
      "state": {
       "children": [
        "IPY_MODEL_b27e9f19e6f14cdb89bcd5080dc835d5",
        "IPY_MODEL_3d9d5d6a6e054e1ba4e6604588df706a",
        "IPY_MODEL_0eddf7069eca49aab3b65d2dfabf926c"
       ],
       "layout": "IPY_MODEL_092372cecdf249b69bdc793b5db4702e"
      }
     },
     "a8e057a2de8d4217914df848ca257282": {
      "model_module": "@jupyter-widgets/controls",
      "model_module_version": "2.0.0",
      "model_name": "HBoxModel",
      "state": {
       "children": [
        "IPY_MODEL_2b4d90ded7b64ec49081058bf8d93375",
        "IPY_MODEL_d0a186b500594c8b8540b46aff8c95b4",
        "IPY_MODEL_bd2d6ad459204a499dc0a1a81c2c5311"
       ],
       "layout": "IPY_MODEL_85b0715f0a374806a076dcc8c9fa5c3d"
      }
     },
     "a90889e4a8ba4028a49de2720addb69c": {
      "model_module": "@jupyter-widgets/base",
      "model_module_version": "2.0.0",
      "model_name": "LayoutModel",
      "state": {}
     },
     "a91e370e1247480798b766fb87658369": {
      "model_module": "@jupyter-widgets/controls",
      "model_module_version": "2.0.0",
      "model_name": "FloatProgressModel",
      "state": {
       "bar_style": "success",
       "layout": "IPY_MODEL_05f9938408f04f99bcd3086135846bd3",
       "max": 593,
       "style": "IPY_MODEL_5f96bf133db742ec879961407a5e20f0",
       "value": 593
      }
     },
     "a965cec8c0f649358796b649fdf5ac65": {
      "model_module": "@jupyter-widgets/base",
      "model_module_version": "2.0.0",
      "model_name": "LayoutModel",
      "state": {}
     },
     "a984d41eebaa4bfdb292866904d5f382": {
      "model_module": "@jupyter-widgets/controls",
      "model_module_version": "2.0.0",
      "model_name": "ProgressStyleModel",
      "state": {
       "description_width": ""
      }
     },
     "a986cfdf13fb4d54a753ab0df2ab9cd3": {
      "model_module": "@jupyter-widgets/base",
      "model_module_version": "2.0.0",
      "model_name": "LayoutModel",
      "state": {}
     },
     "a98843317ce440b582eea9cd079e5b36": {
      "model_module": "@jupyter-widgets/controls",
      "model_module_version": "2.0.0",
      "model_name": "HTMLStyleModel",
      "state": {
       "description_width": "",
       "font_size": null,
       "text_color": null
      }
     },
     "a9ac68971cb84df8a5bfba37417ad00a": {
      "model_module": "@jupyter-widgets/controls",
      "model_module_version": "2.0.0",
      "model_name": "ProgressStyleModel",
      "state": {
       "description_width": ""
      }
     },
     "a9b17ef359484fb78dd258df827f067e": {
      "model_module": "@jupyter-widgets/controls",
      "model_module_version": "2.0.0",
      "model_name": "ProgressStyleModel",
      "state": {
       "description_width": ""
      }
     },
     "a9c36f672c874641a340b92fc9f16fa0": {
      "model_module": "@jupyter-widgets/controls",
      "model_module_version": "2.0.0",
      "model_name": "HTMLStyleModel",
      "state": {
       "description_width": "",
       "font_size": null,
       "text_color": null
      }
     },
     "a9c46cac2cf64858a8357a5d278368c0": {
      "model_module": "@jupyter-widgets/base",
      "model_module_version": "2.0.0",
      "model_name": "LayoutModel",
      "state": {}
     },
     "aa00934b611d43fbbd2e2b43ab9b6cd1": {
      "model_module": "@jupyter-widgets/controls",
      "model_module_version": "2.0.0",
      "model_name": "ProgressStyleModel",
      "state": {
       "description_width": ""
      }
     },
     "aa4556cb068946fe8567b896bb6a875f": {
      "model_module": "@jupyter-widgets/base",
      "model_module_version": "2.0.0",
      "model_name": "LayoutModel",
      "state": {}
     },
     "aa56e6284a744252ba5e6f57217a52be": {
      "model_module": "@jupyter-widgets/controls",
      "model_module_version": "2.0.0",
      "model_name": "HTMLStyleModel",
      "state": {
       "description_width": "",
       "font_size": null,
       "text_color": null
      }
     },
     "aa810d6dc59e44de9f7329a7f146acce": {
      "model_module": "@jupyter-widgets/base",
      "model_module_version": "2.0.0",
      "model_name": "LayoutModel",
      "state": {}
     },
     "aaad041782d34ecfa9daaffe62fa617d": {
      "model_module": "@jupyter-widgets/controls",
      "model_module_version": "2.0.0",
      "model_name": "HTMLModel",
      "state": {
       "layout": "IPY_MODEL_d5198082351846c39d1187dfa78c7bd8",
       "style": "IPY_MODEL_6b95865b84394c229c3936adfa99dd6b",
       "value": " 704/704 [00:00&lt;00:00, 195045.25it/s]"
      }
     },
     "aaca24053f7342b58e56d42c97e3d88e": {
      "model_module": "@jupyter-widgets/controls",
      "model_module_version": "2.0.0",
      "model_name": "FloatProgressModel",
      "state": {
       "bar_style": "success",
       "layout": "IPY_MODEL_d9fccfb55ab04b84879ddb393fcb7b67",
       "max": 492,
       "style": "IPY_MODEL_327020233c304b6587337a5c3d47813c",
       "value": 492
      }
     },
     "aae09611b67647aca23ee1845b7df7dd": {
      "model_module": "@jupyter-widgets/base",
      "model_module_version": "2.0.0",
      "model_name": "LayoutModel",
      "state": {}
     },
     "ab3ff6fb022245b49b2452acc66764a8": {
      "model_module": "@jupyter-widgets/base",
      "model_module_version": "2.0.0",
      "model_name": "LayoutModel",
      "state": {}
     },
     "ab4dab924c5b45c59058d8114dc955cc": {
      "model_module": "@jupyter-widgets/controls",
      "model_module_version": "2.0.0",
      "model_name": "FloatProgressModel",
      "state": {
       "bar_style": "success",
       "layout": "IPY_MODEL_51efcd0cc74a429c9467a4b640b0699a",
       "max": 480,
       "style": "IPY_MODEL_2c495f29659f4653812b1156d95cf7fe",
       "value": 480
      }
     },
     "ab8547cf409c4d90bf3929662c77868b": {
      "model_module": "@jupyter-widgets/controls",
      "model_module_version": "2.0.0",
      "model_name": "HTMLStyleModel",
      "state": {
       "description_width": "",
       "font_size": null,
       "text_color": null
      }
     },
     "ab8edbc3ec47468b8f65e23a92e488e6": {
      "model_module": "@jupyter-widgets/controls",
      "model_module_version": "2.0.0",
      "model_name": "HTMLModel",
      "state": {
       "layout": "IPY_MODEL_76bed5599ab0467083cee36c17aff48d",
       "style": "IPY_MODEL_1ea47bf5ddf0416f8684aeebff62fa21",
       "value": " 612/612 [00:00&lt;00:00, 172068.24it/s]"
      }
     },
     "abd968108eb040ffa67f4b169c95638f": {
      "model_module": "@jupyter-widgets/controls",
      "model_module_version": "2.0.0",
      "model_name": "FloatProgressModel",
      "state": {
       "bar_style": "success",
       "layout": "IPY_MODEL_bbb4547feb8042c6ab4988ddee806e15",
       "max": 653,
       "style": "IPY_MODEL_8f348cfb8167439c8d168f5f306564ea",
       "value": 653
      }
     },
     "abe00270f02d44c99f9e5529106bbfd7": {
      "model_module": "@jupyter-widgets/base",
      "model_module_version": "2.0.0",
      "model_name": "LayoutModel",
      "state": {}
     },
     "abea76bf4b004f84b43464872e94707a": {
      "model_module": "@jupyter-widgets/base",
      "model_module_version": "2.0.0",
      "model_name": "LayoutModel",
      "state": {}
     },
     "abec2d996e4c498ab6154f413ec5769f": {
      "model_module": "@jupyter-widgets/controls",
      "model_module_version": "2.0.0",
      "model_name": "HTMLModel",
      "state": {
       "layout": "IPY_MODEL_aae09611b67647aca23ee1845b7df7dd",
       "style": "IPY_MODEL_b7af9e06b8df47a3b0f7befd8a7cfaf7",
       "value": "100%"
      }
     },
     "abffb315c68140ce91b95430ae9705e3": {
      "model_module": "@jupyter-widgets/controls",
      "model_module_version": "2.0.0",
      "model_name": "HTMLModel",
      "state": {
       "layout": "IPY_MODEL_859702e42a414e269c1c491117c77723",
       "style": "IPY_MODEL_852f9939c8b245dca6dc707f7d22d995",
       "value": "100%"
      }
     },
     "ac0f2b6cbe43413091b98ea74a6c41b5": {
      "model_module": "@jupyter-widgets/controls",
      "model_module_version": "2.0.0",
      "model_name": "HTMLStyleModel",
      "state": {
       "description_width": "",
       "font_size": null,
       "text_color": null
      }
     },
     "ac136a1c5d704a179bdc636c25a2f99c": {
      "model_module": "@jupyter-widgets/controls",
      "model_module_version": "2.0.0",
      "model_name": "HTMLModel",
      "state": {
       "layout": "IPY_MODEL_824c3ab3a2584f8e91ff943dde98f24a",
       "style": "IPY_MODEL_086fbf17e41e4620afbd5f272c2dae13",
       "value": "100%"
      }
     },
     "ac1ebe0d6cac4698a2a3da3421e77eaa": {
      "model_module": "@jupyter-widgets/controls",
      "model_module_version": "2.0.0",
      "model_name": "ProgressStyleModel",
      "state": {
       "description_width": ""
      }
     },
     "ac8d9929f710492e8de4f5bc349f5bdf": {
      "model_module": "@jupyter-widgets/controls",
      "model_module_version": "2.0.0",
      "model_name": "HTMLModel",
      "state": {
       "layout": "IPY_MODEL_aedaee37d9dc46ebb09c5938e8709e75",
       "style": "IPY_MODEL_078f49aae97d4f6e98ade373c524add9",
       "value": " 578/578 [00:00&lt;00:00, 161008.68it/s]"
      }
     },
     "ac966d08d2af493f800f49e81999e068": {
      "model_module": "@jupyter-widgets/controls",
      "model_module_version": "2.0.0",
      "model_name": "HTMLStyleModel",
      "state": {
       "description_width": "",
       "font_size": null,
       "text_color": null
      }
     },
     "accdd32314434609a24d26cf5a8cf229": {
      "model_module": "@jupyter-widgets/controls",
      "model_module_version": "2.0.0",
      "model_name": "HBoxModel",
      "state": {
       "children": [
        "IPY_MODEL_d449313198604c1c814827b472be7ec9",
        "IPY_MODEL_a31045d48eed4927ae96e9407a1612ac",
        "IPY_MODEL_d3f3e45d79104c8e985c7438296de0ca"
       ],
       "layout": "IPY_MODEL_4a739f2d8f43408ebcee9671c53ee8c3"
      }
     },
     "acd8cd435d7742638e09d19e68e55413": {
      "model_module": "@jupyter-widgets/base",
      "model_module_version": "2.0.0",
      "model_name": "LayoutModel",
      "state": {}
     },
     "ad16dd7a8d5546a4aa046f2ce771e8fa": {
      "model_module": "@jupyter-widgets/base",
      "model_module_version": "2.0.0",
      "model_name": "LayoutModel",
      "state": {}
     },
     "ad6044673e004e15b1f7dd52eb1aae8d": {
      "model_module": "@jupyter-widgets/controls",
      "model_module_version": "2.0.0",
      "model_name": "HTMLStyleModel",
      "state": {
       "description_width": "",
       "font_size": null,
       "text_color": null
      }
     },
     "ad7b860787e44f88b3cf14b7172e8f19": {
      "model_module": "@jupyter-widgets/controls",
      "model_module_version": "2.0.0",
      "model_name": "FloatProgressModel",
      "state": {
       "bar_style": "success",
       "layout": "IPY_MODEL_60b4607f65c6469cb1947da27f2a7107",
       "max": 437,
       "style": "IPY_MODEL_4e8319e4325042b9ac7a9d68b47367f8",
       "value": 437
      }
     },
     "ad7bfa04af674747b3589a86b42fc245": {
      "model_module": "@jupyter-widgets/controls",
      "model_module_version": "2.0.0",
      "model_name": "HTMLModel",
      "state": {
       "layout": "IPY_MODEL_014839258f234649b3dc328c9ae65d15",
       "style": "IPY_MODEL_68328f6a95b6436fa662b982c4abbacb",
       "value": "100%"
      }
     },
     "adec637dea2c4bb5803c1aad05a22996": {
      "model_module": "@jupyter-widgets/controls",
      "model_module_version": "2.0.0",
      "model_name": "HTMLModel",
      "state": {
       "layout": "IPY_MODEL_75b4dab33c704b37bc101d7111838cc6",
       "style": "IPY_MODEL_403c410e8f844f73803ef5003e6d21d2",
       "value": "100%"
      }
     },
     "adfd8f3e406c405695b56a46a7a427f1": {
      "model_module": "@jupyter-widgets/controls",
      "model_module_version": "2.0.0",
      "model_name": "ProgressStyleModel",
      "state": {
       "description_width": ""
      }
     },
     "ae13ba08ec494718adf19fd45a140117": {
      "model_module": "@jupyter-widgets/base",
      "model_module_version": "2.0.0",
      "model_name": "LayoutModel",
      "state": {}
     },
     "ae198d3d14e243269120a107cbcfbf5d": {
      "model_module": "@jupyter-widgets/controls",
      "model_module_version": "2.0.0",
      "model_name": "ProgressStyleModel",
      "state": {
       "description_width": ""
      }
     },
     "ae19f2c44f054da39245df640c385a48": {
      "model_module": "@jupyter-widgets/base",
      "model_module_version": "2.0.0",
      "model_name": "LayoutModel",
      "state": {}
     },
     "ae5155cf0a8d4b899b8f49055fd770ac": {
      "model_module": "@jupyter-widgets/base",
      "model_module_version": "2.0.0",
      "model_name": "LayoutModel",
      "state": {}
     },
     "ae5b34fcb6ed4c2da81119cc1eabca85": {
      "model_module": "@jupyter-widgets/controls",
      "model_module_version": "2.0.0",
      "model_name": "FloatProgressModel",
      "state": {
       "bar_style": "danger",
       "layout": "IPY_MODEL_c21fe933a87844f997786293cbf98302",
       "max": 819,
       "style": "IPY_MODEL_a786495f4be646ea852dc11bafbd00df"
      }
     },
     "ae877fcff60b488b9bf999c8e60ede7b": {
      "model_module": "@jupyter-widgets/controls",
      "model_module_version": "2.0.0",
      "model_name": "HBoxModel",
      "state": {
       "children": [
        "IPY_MODEL_1136dda0726d416eaff79ecfc38340a5",
        "IPY_MODEL_720e580e75664359b58886791f1172e2",
        "IPY_MODEL_e45a48788c774109b39522459397550c"
       ],
       "layout": "IPY_MODEL_d25e971acafe4f2b9aac6968478de226"
      }
     },
     "aecd6ce073f844cca80f3abbe0e6f53b": {
      "model_module": "@jupyter-widgets/base",
      "model_module_version": "2.0.0",
      "model_name": "LayoutModel",
      "state": {}
     },
     "aed6608178cc46b38d43093ce75d4793": {
      "model_module": "@jupyter-widgets/controls",
      "model_module_version": "2.0.0",
      "model_name": "HTMLStyleModel",
      "state": {
       "description_width": "",
       "font_size": null,
       "text_color": null
      }
     },
     "aedaee37d9dc46ebb09c5938e8709e75": {
      "model_module": "@jupyter-widgets/base",
      "model_module_version": "2.0.0",
      "model_name": "LayoutModel",
      "state": {}
     },
     "aef7fefc9d0747d08441d90589cbdf73": {
      "model_module": "@jupyter-widgets/base",
      "model_module_version": "2.0.0",
      "model_name": "LayoutModel",
      "state": {}
     },
     "aefd66a5f65249e38ca98e92571787ae": {
      "model_module": "@jupyter-widgets/base",
      "model_module_version": "2.0.0",
      "model_name": "LayoutModel",
      "state": {}
     },
     "af0170e1a975483482b80fb466327dff": {
      "model_module": "@jupyter-widgets/base",
      "model_module_version": "2.0.0",
      "model_name": "LayoutModel",
      "state": {}
     },
     "af07d28190fe4d7ea54315e8256fe19f": {
      "model_module": "@jupyter-widgets/controls",
      "model_module_version": "2.0.0",
      "model_name": "HTMLStyleModel",
      "state": {
       "description_width": "",
       "font_size": null,
       "text_color": null
      }
     },
     "af174776626a4419bba70733a0bc5e50": {
      "model_module": "@jupyter-widgets/base",
      "model_module_version": "2.0.0",
      "model_name": "LayoutModel",
      "state": {}
     },
     "af78ab7c60814f2e866d9bb1d4921b51": {
      "model_module": "@jupyter-widgets/base",
      "model_module_version": "2.0.0",
      "model_name": "LayoutModel",
      "state": {}
     },
     "af84d969421c4c0b9e665c62a44a1938": {
      "model_module": "@jupyter-widgets/base",
      "model_module_version": "2.0.0",
      "model_name": "LayoutModel",
      "state": {}
     },
     "af85ab6d9bcb43d5945d2ecda5cc54a4": {
      "model_module": "@jupyter-widgets/controls",
      "model_module_version": "2.0.0",
      "model_name": "HTMLStyleModel",
      "state": {
       "description_width": "",
       "font_size": null,
       "text_color": null
      }
     },
     "affee8ce2cdd4858ab735002a3180568": {
      "model_module": "@jupyter-widgets/controls",
      "model_module_version": "2.0.0",
      "model_name": "HTMLStyleModel",
      "state": {
       "description_width": "",
       "font_size": null,
       "text_color": null
      }
     },
     "b01ef1640d7c4498a8d69be7b55ce43f": {
      "model_module": "@jupyter-widgets/controls",
      "model_module_version": "2.0.0",
      "model_name": "HBoxModel",
      "state": {
       "children": [
        "IPY_MODEL_334a7aedcf314417ab5d3f31c13e37d1",
        "IPY_MODEL_f7ebcfca6f6e47e5b387c958c992ad7e",
        "IPY_MODEL_29d2dc8620e9440a992b014dc31d5627"
       ],
       "layout": "IPY_MODEL_128da82e52f241f9b68029f2eb4ef241"
      }
     },
     "b031e8f755614a6ea8d37e1fbecc810a": {
      "model_module": "@jupyter-widgets/base",
      "model_module_version": "2.0.0",
      "model_name": "LayoutModel",
      "state": {}
     },
     "b041f71004524f8cb89e795babfe58ae": {
      "model_module": "@jupyter-widgets/base",
      "model_module_version": "2.0.0",
      "model_name": "LayoutModel",
      "state": {}
     },
     "b04c72d4dd59439c85aae885f9337858": {
      "model_module": "@jupyter-widgets/base",
      "model_module_version": "2.0.0",
      "model_name": "LayoutModel",
      "state": {}
     },
     "b0d3f7e1051d41a08f4ce5a210da98f0": {
      "model_module": "@jupyter-widgets/base",
      "model_module_version": "2.0.0",
      "model_name": "LayoutModel",
      "state": {}
     },
     "b0f04d7623074c1381f9ab6f01150cc4": {
      "model_module": "@jupyter-widgets/base",
      "model_module_version": "2.0.0",
      "model_name": "LayoutModel",
      "state": {}
     },
     "b1205249c7054a20947244dd6d558ab7": {
      "model_module": "@jupyter-widgets/base",
      "model_module_version": "2.0.0",
      "model_name": "LayoutModel",
      "state": {}
     },
     "b1356e9713c449329560f51507c011d1": {
      "model_module": "@jupyter-widgets/base",
      "model_module_version": "2.0.0",
      "model_name": "LayoutModel",
      "state": {}
     },
     "b1508ef0f6904e42b6f7947c7bdb693f": {
      "model_module": "@jupyter-widgets/base",
      "model_module_version": "2.0.0",
      "model_name": "LayoutModel",
      "state": {}
     },
     "b1ae38fab28d431981b297452bb7863b": {
      "model_module": "@jupyter-widgets/controls",
      "model_module_version": "2.0.0",
      "model_name": "ProgressStyleModel",
      "state": {
       "description_width": ""
      }
     },
     "b1b1a298313c4962b073c7b99fc8099f": {
      "model_module": "@jupyter-widgets/controls",
      "model_module_version": "2.0.0",
      "model_name": "HTMLStyleModel",
      "state": {
       "description_width": "",
       "font_size": null,
       "text_color": null
      }
     },
     "b1c608d4779943279212311fb0f8a739": {
      "model_module": "@jupyter-widgets/controls",
      "model_module_version": "2.0.0",
      "model_name": "HTMLStyleModel",
      "state": {
       "description_width": "",
       "font_size": null,
       "text_color": null
      }
     },
     "b1f24b93042648e2a6df6ca2cefce89b": {
      "model_module": "@jupyter-widgets/base",
      "model_module_version": "2.0.0",
      "model_name": "LayoutModel",
      "state": {}
     },
     "b2039e4b4d184a76b4d665d95449f2de": {
      "model_module": "@jupyter-widgets/controls",
      "model_module_version": "2.0.0",
      "model_name": "FloatProgressModel",
      "state": {
       "bar_style": "success",
       "layout": "IPY_MODEL_871abcabc52440129d0497014deb1d06",
       "max": 471,
       "style": "IPY_MODEL_dd659d8b0c2b4de880c31101907337cd",
       "value": 471
      }
     },
     "b23e5ebc6c624ce4949ac0c7affa9ddd": {
      "model_module": "@jupyter-widgets/controls",
      "model_module_version": "2.0.0",
      "model_name": "ProgressStyleModel",
      "state": {
       "description_width": ""
      }
     },
     "b253438671a941369633bf5c3cd71c58": {
      "model_module": "@jupyter-widgets/base",
      "model_module_version": "2.0.0",
      "model_name": "LayoutModel",
      "state": {}
     },
     "b27e9f19e6f14cdb89bcd5080dc835d5": {
      "model_module": "@jupyter-widgets/controls",
      "model_module_version": "2.0.0",
      "model_name": "HTMLModel",
      "state": {
       "layout": "IPY_MODEL_a7fd90765f6545049f91aac6fc455412",
       "style": "IPY_MODEL_28010343e0764e7b94f4ad47876afe66",
       "value": "100%"
      }
     },
     "b2b6d79d62564234b082b8fd7442eb2b": {
      "model_module": "@jupyter-widgets/controls",
      "model_module_version": "2.0.0",
      "model_name": "ProgressStyleModel",
      "state": {
       "description_width": ""
      }
     },
     "b2be656617224f4b89d2e4ec6ca25ee0": {
      "model_module": "@jupyter-widgets/controls",
      "model_module_version": "2.0.0",
      "model_name": "HTMLStyleModel",
      "state": {
       "description_width": "",
       "font_size": null,
       "text_color": null
      }
     },
     "b37811fba86047209bbac8564e4a2227": {
      "model_module": "@jupyter-widgets/base",
      "model_module_version": "2.0.0",
      "model_name": "LayoutModel",
      "state": {}
     },
     "b39e95a185834d54a579b40bff0ea0ed": {
      "model_module": "@jupyter-widgets/base",
      "model_module_version": "2.0.0",
      "model_name": "LayoutModel",
      "state": {}
     },
     "b3c0f4b177cf4165a168087639996df1": {
      "model_module": "@jupyter-widgets/base",
      "model_module_version": "2.0.0",
      "model_name": "LayoutModel",
      "state": {}
     },
     "b3c8a981044a494baf4b12a2d689852f": {
      "model_module": "@jupyter-widgets/base",
      "model_module_version": "2.0.0",
      "model_name": "LayoutModel",
      "state": {}
     },
     "b3e9820f802a4c238656b8f0f191e7a1": {
      "model_module": "@jupyter-widgets/controls",
      "model_module_version": "2.0.0",
      "model_name": "HTMLStyleModel",
      "state": {
       "description_width": "",
       "font_size": null,
       "text_color": null
      }
     },
     "b428226bc13a4f37bf624c41b6e675ed": {
      "model_module": "@jupyter-widgets/base",
      "model_module_version": "2.0.0",
      "model_name": "LayoutModel",
      "state": {}
     },
     "b456e81bfa8e4f2d8566c00dc40a8432": {
      "model_module": "@jupyter-widgets/base",
      "model_module_version": "2.0.0",
      "model_name": "LayoutModel",
      "state": {}
     },
     "b4753bcb45f34cca858ca506cfefa543": {
      "model_module": "@jupyter-widgets/base",
      "model_module_version": "2.0.0",
      "model_name": "LayoutModel",
      "state": {}
     },
     "b47e76fd81404a12a1e271d9cc428b1c": {
      "model_module": "@jupyter-widgets/controls",
      "model_module_version": "2.0.0",
      "model_name": "HTMLModel",
      "state": {
       "layout": "IPY_MODEL_c417fe7149cd4678bbf1047806d422d8",
       "style": "IPY_MODEL_4e14df1576824441b78ed8b81990fa8b",
       "value": "100%"
      }
     },
     "b4953dcd31bc415884b6f8560674c7c1": {
      "model_module": "@jupyter-widgets/base",
      "model_module_version": "2.0.0",
      "model_name": "LayoutModel",
      "state": {}
     },
     "b4c8914a39174c04849240a097bd11b7": {
      "model_module": "@jupyter-widgets/controls",
      "model_module_version": "2.0.0",
      "model_name": "FloatProgressModel",
      "state": {
       "bar_style": "success",
       "layout": "IPY_MODEL_9958f21043994bc3ba20a5733a999d13",
       "max": 722,
       "style": "IPY_MODEL_93cbc9315ea44dc8bf1d01053edda8f2",
       "value": 722
      }
     },
     "b500ef6a63d94033ade5bf2dcd2c25f4": {
      "model_module": "@jupyter-widgets/controls",
      "model_module_version": "2.0.0",
      "model_name": "HTMLModel",
      "state": {
       "layout": "IPY_MODEL_3670a51a479e408f88dc8ff058fb3822",
       "style": "IPY_MODEL_699c9b316b4e4ab0a4470d1fa1a6c10c",
       "value": " 450/450 [00:00&lt;00:00, 125194.80it/s]"
      }
     },
     "b501d2f32888405a8471b5dd40606821": {
      "model_module": "@jupyter-widgets/controls",
      "model_module_version": "2.0.0",
      "model_name": "HTMLStyleModel",
      "state": {
       "description_width": "",
       "font_size": null,
       "text_color": null
      }
     },
     "b50800c861ed40e8994611a5645f098b": {
      "model_module": "@jupyter-widgets/controls",
      "model_module_version": "2.0.0",
      "model_name": "HTMLStyleModel",
      "state": {
       "description_width": "",
       "font_size": null,
       "text_color": null
      }
     },
     "b50c29a907c644cdb558575670bdf113": {
      "model_module": "@jupyter-widgets/controls",
      "model_module_version": "2.0.0",
      "model_name": "HTMLModel",
      "state": {
       "layout": "IPY_MODEL_a4187324be204a33815162b3e8c2e744",
       "style": "IPY_MODEL_86b3f50bc4e347909efa647b0836eac5",
       "value": " 637/637 [00:40&lt;00:00, 15.65it/s]"
      }
     },
     "b528c1459b1a4875aa16f78fb2656ee4": {
      "model_module": "@jupyter-widgets/controls",
      "model_module_version": "2.0.0",
      "model_name": "HTMLStyleModel",
      "state": {
       "description_width": "",
       "font_size": null,
       "text_color": null
      }
     },
     "b5383a6e9b2f4c1d9c8af5587ccc2d3e": {
      "model_module": "@jupyter-widgets/controls",
      "model_module_version": "2.0.0",
      "model_name": "HTMLStyleModel",
      "state": {
       "description_width": "",
       "font_size": null,
       "text_color": null
      }
     },
     "b5438f1e40834e9a8c603a6cf20626f4": {
      "model_module": "@jupyter-widgets/controls",
      "model_module_version": "2.0.0",
      "model_name": "HTMLStyleModel",
      "state": {
       "description_width": "",
       "font_size": null,
       "text_color": null
      }
     },
     "b56dfe53c83f4457a1fb72d968a62c9c": {
      "model_module": "@jupyter-widgets/controls",
      "model_module_version": "2.0.0",
      "model_name": "HTMLStyleModel",
      "state": {
       "description_width": "",
       "font_size": null,
       "text_color": null
      }
     },
     "b58d104efab1434ea81b5f733ee15462": {
      "model_module": "@jupyter-widgets/controls",
      "model_module_version": "2.0.0",
      "model_name": "HTMLStyleModel",
      "state": {
       "description_width": "",
       "font_size": null,
       "text_color": null
      }
     },
     "b5bc53be17b94314abd5488d8a135e1d": {
      "model_module": "@jupyter-widgets/controls",
      "model_module_version": "2.0.0",
      "model_name": "HBoxModel",
      "state": {
       "children": [
        "IPY_MODEL_f1281d3d831a4d6eb08cf78c73c19a26",
        "IPY_MODEL_d489397dd2d844c785c88142c98551eb",
        "IPY_MODEL_992fd21dfc674d278e25eba9eb7258ae"
       ],
       "layout": "IPY_MODEL_2a36a31fa3614687815d9fa02e91b121"
      }
     },
     "b5fe43e7247042dfad286fe680a802f6": {
      "model_module": "@jupyter-widgets/base",
      "model_module_version": "2.0.0",
      "model_name": "LayoutModel",
      "state": {}
     },
     "b60458786f20446e8f8b5521d1bd9f02": {
      "model_module": "@jupyter-widgets/base",
      "model_module_version": "2.0.0",
      "model_name": "LayoutModel",
      "state": {}
     },
     "b6304d974c1e43208177dff34109835f": {
      "model_module": "@jupyter-widgets/controls",
      "model_module_version": "2.0.0",
      "model_name": "FloatProgressModel",
      "state": {
       "bar_style": "success",
       "layout": "IPY_MODEL_e442d3fb661c491dba064b24e8eb3646",
       "max": 663,
       "style": "IPY_MODEL_660e288736794266b592a4ec3606c7c8",
       "value": 663
      }
     },
     "b63975a8264945fc85af7d8a58b013ec": {
      "model_module": "@jupyter-widgets/controls",
      "model_module_version": "2.0.0",
      "model_name": "HTMLModel",
      "state": {
       "layout": "IPY_MODEL_5cc84dc282c64ee8abe74a49145c1c0f",
       "style": "IPY_MODEL_49a67fb4dd1e4b5b84b1a5cb73ea344a",
       "value": "100%"
      }
     },
     "b6946804fef743af9e7c919256829ed1": {
      "model_module": "@jupyter-widgets/base",
      "model_module_version": "2.0.0",
      "model_name": "LayoutModel",
      "state": {}
     },
     "b6e738de3bed4185aeffdb3332f7065b": {
      "model_module": "@jupyter-widgets/base",
      "model_module_version": "2.0.0",
      "model_name": "LayoutModel",
      "state": {}
     },
     "b6ec7efb8a7f4fecb69606506640749d": {
      "model_module": "@jupyter-widgets/controls",
      "model_module_version": "2.0.0",
      "model_name": "FloatProgressModel",
      "state": {
       "bar_style": "danger",
       "layout": "IPY_MODEL_6f3cc78396d946e8a45809e81dd79471",
       "max": 401,
       "style": "IPY_MODEL_0aa66b3c5c0447e9ac4c2ec3e158a72e"
      }
     },
     "b6f884bce4c3468cbd83a12cca86908a": {
      "model_module": "@jupyter-widgets/base",
      "model_module_version": "2.0.0",
      "model_name": "LayoutModel",
      "state": {}
     },
     "b6f9939dfc8c473da303e188e9b11ee4": {
      "model_module": "@jupyter-widgets/base",
      "model_module_version": "2.0.0",
      "model_name": "LayoutModel",
      "state": {}
     },
     "b71871288ece4ac4b2d782c903de093e": {
      "model_module": "@jupyter-widgets/controls",
      "model_module_version": "2.0.0",
      "model_name": "HTMLModel",
      "state": {
       "layout": "IPY_MODEL_894bd76e8bed475faa68def6e57519d3",
       "style": "IPY_MODEL_aed6608178cc46b38d43093ce75d4793",
       "value": " 516/516 [00:00&lt;00:00, 144024.81it/s]"
      }
     },
     "b72000944dd94a53b38362b0c24978c5": {
      "model_module": "@jupyter-widgets/controls",
      "model_module_version": "2.0.0",
      "model_name": "HTMLModel",
      "state": {
       "layout": "IPY_MODEL_90b1ff78376e428880472bbb23b85464",
       "style": "IPY_MODEL_3d9dcb180f5442078d769e6a13a5db08",
       "value": "100%"
      }
     },
     "b72ae6dc3cb94f9bab1ca02b66e813b4": {
      "model_module": "@jupyter-widgets/base",
      "model_module_version": "2.0.0",
      "model_name": "LayoutModel",
      "state": {}
     },
     "b72c1c9fd6e248e39acfa9697e280ef0": {
      "model_module": "@jupyter-widgets/controls",
      "model_module_version": "2.0.0",
      "model_name": "ProgressStyleModel",
      "state": {
       "description_width": ""
      }
     },
     "b739d439686541739e7aa4142c0b8d41": {
      "model_module": "@jupyter-widgets/controls",
      "model_module_version": "2.0.0",
      "model_name": "HTMLStyleModel",
      "state": {
       "description_width": "",
       "font_size": null,
       "text_color": null
      }
     },
     "b7a2edf2b39141d5893a5648fdf7e03c": {
      "model_module": "@jupyter-widgets/controls",
      "model_module_version": "2.0.0",
      "model_name": "ProgressStyleModel",
      "state": {
       "description_width": ""
      }
     },
     "b7af9e06b8df47a3b0f7befd8a7cfaf7": {
      "model_module": "@jupyter-widgets/controls",
      "model_module_version": "2.0.0",
      "model_name": "HTMLStyleModel",
      "state": {
       "description_width": "",
       "font_size": null,
       "text_color": null
      }
     },
     "b7b3b391dc9b4685819b6bf0228a4925": {
      "model_module": "@jupyter-widgets/base",
      "model_module_version": "2.0.0",
      "model_name": "LayoutModel",
      "state": {}
     },
     "b7e6a7e1bb054a2a9b1033b46e89aeda": {
      "model_module": "@jupyter-widgets/base",
      "model_module_version": "2.0.0",
      "model_name": "LayoutModel",
      "state": {}
     },
     "b80341acb8a5486f8639affa6f7d38b8": {
      "model_module": "@jupyter-widgets/controls",
      "model_module_version": "2.0.0",
      "model_name": "FloatProgressModel",
      "state": {
       "bar_style": "danger",
       "layout": "IPY_MODEL_8e16e6dc98854fa796bd5aff49f26af9",
       "max": 582,
       "style": "IPY_MODEL_ec694de3ccfb4324a3a55a6e86773dbe"
      }
     },
     "b81ba64bfebb4de9a68b4a5a27be8116": {
      "model_module": "@jupyter-widgets/controls",
      "model_module_version": "2.0.0",
      "model_name": "HTMLModel",
      "state": {
       "layout": "IPY_MODEL_8773106e005647c8bba64ecc202766a7",
       "style": "IPY_MODEL_f99ed8598b664be3981d3386728d0387",
       "value": " 491/491 [00:00&lt;00:00, 136348.20it/s]"
      }
     },
     "b828e4f7c86e403b9ac6e57f1607d141": {
      "model_module": "@jupyter-widgets/controls",
      "model_module_version": "2.0.0",
      "model_name": "HTMLModel",
      "state": {
       "layout": "IPY_MODEL_16254a7308834d74894693b6fde376d8",
       "style": "IPY_MODEL_99df8149e69042478c068b9e10a63bf8",
       "value": " 475/475 [00:30&lt;00:00, 15.38it/s]"
      }
     },
     "b8a62c19e86a43f39b508eb953b509d9": {
      "model_module": "@jupyter-widgets/base",
      "model_module_version": "2.0.0",
      "model_name": "LayoutModel",
      "state": {}
     },
     "b8bf748fdd8b490fb9f84341fae1a610": {
      "model_module": "@jupyter-widgets/controls",
      "model_module_version": "2.0.0",
      "model_name": "HTMLStyleModel",
      "state": {
       "description_width": "",
       "font_size": null,
       "text_color": null
      }
     },
     "b8e2ba0bd85845d2bd03a593503093f0": {
      "model_module": "@jupyter-widgets/controls",
      "model_module_version": "2.0.0",
      "model_name": "HTMLStyleModel",
      "state": {
       "description_width": "",
       "font_size": null,
       "text_color": null
      }
     },
     "b8f56c7eeea548d5a17cd08f0749b6ab": {
      "model_module": "@jupyter-widgets/controls",
      "model_module_version": "2.0.0",
      "model_name": "HTMLModel",
      "state": {
       "layout": "IPY_MODEL_3573bb0d41bc492889019f7d3529f115",
       "style": "IPY_MODEL_0bd646ddeeb14430a30df7977fc50645",
       "value": "100%"
      }
     },
     "b902dc0b3011435eb5edb64a00f2ae95": {
      "model_module": "@jupyter-widgets/controls",
      "model_module_version": "2.0.0",
      "model_name": "HTMLStyleModel",
      "state": {
       "description_width": "",
       "font_size": null,
       "text_color": null
      }
     },
     "b907422428744c379ed273d5452c57a2": {
      "model_module": "@jupyter-widgets/base",
      "model_module_version": "2.0.0",
      "model_name": "LayoutModel",
      "state": {}
     },
     "b9185352bf1f411ea3e3feb46b6379d0": {
      "model_module": "@jupyter-widgets/controls",
      "model_module_version": "2.0.0",
      "model_name": "HTMLStyleModel",
      "state": {
       "description_width": "",
       "font_size": null,
       "text_color": null
      }
     },
     "b92c917165874c8c87b9cc1f3c548a19": {
      "model_module": "@jupyter-widgets/base",
      "model_module_version": "2.0.0",
      "model_name": "LayoutModel",
      "state": {}
     },
     "b93961930c2842dc941d0371c4ba9795": {
      "model_module": "@jupyter-widgets/controls",
      "model_module_version": "2.0.0",
      "model_name": "HBoxModel",
      "state": {
       "children": [
        "IPY_MODEL_85864b2429774023b2dd23fb4339511c",
        "IPY_MODEL_099c91b31ca54d58a2cc517843681564",
        "IPY_MODEL_a81f5ee0810b4b9c93234c9b55afb4cc"
       ],
       "layout": "IPY_MODEL_4d8a951d93874594b349a6888715e4ab"
      }
     },
     "b97c9029d5bf46358a151a6ac6e3f839": {
      "model_module": "@jupyter-widgets/base",
      "model_module_version": "2.0.0",
      "model_name": "LayoutModel",
      "state": {}
     },
     "b98e4bbcf9f64af18ea3839344fa2e1a": {
      "model_module": "@jupyter-widgets/controls",
      "model_module_version": "2.0.0",
      "model_name": "HTMLModel",
      "state": {
       "layout": "IPY_MODEL_5b641b6eca8546ff9fdd391fee3c2907",
       "style": "IPY_MODEL_149d011873f544eea49dd867b6f25738",
       "value": " 704/704 [00:45&lt;00:00, 15.55it/s]"
      }
     },
     "b9a08b7d5910414d9adba4f66e82c3ca": {
      "model_module": "@jupyter-widgets/base",
      "model_module_version": "2.0.0",
      "model_name": "LayoutModel",
      "state": {}
     },
     "b9a11cb48af14c2f9eddc6332f97b87f": {
      "model_module": "@jupyter-widgets/controls",
      "model_module_version": "2.0.0",
      "model_name": "HTMLStyleModel",
      "state": {
       "description_width": "",
       "font_size": null,
       "text_color": null
      }
     },
     "b9b3412b401e4515a0bcce8d4fbfd486": {
      "model_module": "@jupyter-widgets/controls",
      "model_module_version": "2.0.0",
      "model_name": "ProgressStyleModel",
      "state": {
       "description_width": ""
      }
     },
     "b9f988c68cb346fabdb4b271addba72e": {
      "model_module": "@jupyter-widgets/base",
      "model_module_version": "2.0.0",
      "model_name": "LayoutModel",
      "state": {}
     },
     "ba3383383e01402fba168af994b47976": {
      "model_module": "@jupyter-widgets/base",
      "model_module_version": "2.0.0",
      "model_name": "LayoutModel",
      "state": {}
     },
     "ba39f8fdf3c94a1384832a2509d23f87": {
      "model_module": "@jupyter-widgets/controls",
      "model_module_version": "2.0.0",
      "model_name": "ProgressStyleModel",
      "state": {
       "description_width": ""
      }
     },
     "ba40b19dc0124bf388dc2fcd1b45db77": {
      "model_module": "@jupyter-widgets/controls",
      "model_module_version": "2.0.0",
      "model_name": "HTMLStyleModel",
      "state": {
       "description_width": "",
       "font_size": null,
       "text_color": null
      }
     },
     "ba4684dad784451090db00538daf8069": {
      "model_module": "@jupyter-widgets/base",
      "model_module_version": "2.0.0",
      "model_name": "LayoutModel",
      "state": {}
     },
     "ba549a4ae7714005aac8095e85465656": {
      "model_module": "@jupyter-widgets/base",
      "model_module_version": "2.0.0",
      "model_name": "LayoutModel",
      "state": {}
     },
     "ba578c44663645cdb4b3c72240c8dd6e": {
      "model_module": "@jupyter-widgets/controls",
      "model_module_version": "2.0.0",
      "model_name": "HTMLStyleModel",
      "state": {
       "description_width": "",
       "font_size": null,
       "text_color": null
      }
     },
     "ba8d7dfc8b6f4e43b38aee8eeba189f9": {
      "model_module": "@jupyter-widgets/controls",
      "model_module_version": "2.0.0",
      "model_name": "HBoxModel",
      "state": {
       "children": [
        "IPY_MODEL_5a6bd6fbc1fd42b9a7034f3c00272d51",
        "IPY_MODEL_a0514f6224e34702a264d6f980b70c95",
        "IPY_MODEL_6fc6569c750742cfa175beee098913e1"
       ],
       "layout": "IPY_MODEL_270cc2bdff6e454380d3e51c8a82a60e"
      }
     },
     "bab5ea1cc98a4e23aaf3108a1fde0253": {
      "model_module": "@jupyter-widgets/controls",
      "model_module_version": "2.0.0",
      "model_name": "HTMLStyleModel",
      "state": {
       "description_width": "",
       "font_size": null,
       "text_color": null
      }
     },
     "bac102a6023d42e0bd134fd627403005": {
      "model_module": "@jupyter-widgets/controls",
      "model_module_version": "2.0.0",
      "model_name": "HTMLModel",
      "state": {
       "layout": "IPY_MODEL_a32d925b4aa14f98826d3b8677e44e06",
       "style": "IPY_MODEL_8845770045a44aa99b63c168096a8b36",
       "value": "100%"
      }
     },
     "baf0f0ef04e44d0bb9db8b8250d9944d": {
      "model_module": "@jupyter-widgets/controls",
      "model_module_version": "2.0.0",
      "model_name": "HBoxModel",
      "state": {
       "children": [
        "IPY_MODEL_c01402bbcdb647a0be6739618668bfff",
        "IPY_MODEL_cc531ba7060c45d1a61f2f19a52a3ee6",
        "IPY_MODEL_765b4aa8e1374452b8bab367f71a296b"
       ],
       "layout": "IPY_MODEL_cd2857fd3f534df7a624e2f00bf6a69b"
      }
     },
     "bb029013a6de4f079baa7c88f61a42cc": {
      "model_module": "@jupyter-widgets/controls",
      "model_module_version": "2.0.0",
      "model_name": "FloatProgressModel",
      "state": {
       "bar_style": "success",
       "layout": "IPY_MODEL_7628ca1aafc243c5b7d6ea89111abc9f",
       "max": 625,
       "style": "IPY_MODEL_ca74001479d64d17ba3fadcf20303fc3",
       "value": 625
      }
     },
     "bb19c8575f4548d7922fa7c32d0df4dd": {
      "model_module": "@jupyter-widgets/controls",
      "model_module_version": "2.0.0",
      "model_name": "HTMLModel",
      "state": {
       "layout": "IPY_MODEL_3a470a0ece4e4ebda530d2c2300f1bd6",
       "style": "IPY_MODEL_86ffc5b7a268460e93eb59dddaacea57",
       "value": " 542/542 [00:00&lt;00:00, 151594.61it/s]"
      }
     },
     "bb2c5daff0c8459e93b379bff3ec1139": {
      "model_module": "@jupyter-widgets/base",
      "model_module_version": "2.0.0",
      "model_name": "LayoutModel",
      "state": {}
     },
     "bb6d192c6f844fb88aacbcfb1920d7bd": {
      "model_module": "@jupyter-widgets/base",
      "model_module_version": "2.0.0",
      "model_name": "LayoutModel",
      "state": {}
     },
     "bbb4547feb8042c6ab4988ddee806e15": {
      "model_module": "@jupyter-widgets/base",
      "model_module_version": "2.0.0",
      "model_name": "LayoutModel",
      "state": {}
     },
     "bbc5f51071e444829cd4dd0f930b1bac": {
      "model_module": "@jupyter-widgets/controls",
      "model_module_version": "2.0.0",
      "model_name": "HTMLModel",
      "state": {
       "layout": "IPY_MODEL_3998c79b25a54588852f7d36c885953b",
       "style": "IPY_MODEL_1b10e2bf14fb41329afe79e7a268eef8",
       "value": " 625/625 [00:00&lt;00:00, 173123.76it/s]"
      }
     },
     "bc0877a271b34cc7bfa86d4762adccc0": {
      "model_module": "@jupyter-widgets/base",
      "model_module_version": "2.0.0",
      "model_name": "LayoutModel",
      "state": {}
     },
     "bc3ba00d650e42b3b7e0e706070f5237": {
      "model_module": "@jupyter-widgets/controls",
      "model_module_version": "2.0.0",
      "model_name": "FloatProgressModel",
      "state": {
       "bar_style": "success",
       "layout": "IPY_MODEL_8f03d233f22a4d9b9682625e4650ee02",
       "max": 492,
       "style": "IPY_MODEL_cf65901486ea4edea6881ad531944316",
       "value": 492
      }
     },
     "bc88ec9b00294e2ea56b6493f94d2ddc": {
      "model_module": "@jupyter-widgets/base",
      "model_module_version": "2.0.0",
      "model_name": "LayoutModel",
      "state": {}
     },
     "bd039e98166043caad6e24c6b5ff0b01": {
      "model_module": "@jupyter-widgets/controls",
      "model_module_version": "2.0.0",
      "model_name": "FloatProgressModel",
      "state": {
       "bar_style": "danger",
       "layout": "IPY_MODEL_9c81dadfc34b4a90b1969361f8a94c83",
       "max": 582,
       "style": "IPY_MODEL_fe4a7158cd9d4224bda26ee52929b0ff"
      }
     },
     "bd069c86cc58497cb2b40432314f24c3": {
      "model_module": "@jupyter-widgets/controls",
      "model_module_version": "2.0.0",
      "model_name": "HTMLModel",
      "state": {
       "layout": "IPY_MODEL_dd2e3457481c4d69aafdba32b918e30d",
       "style": "IPY_MODEL_da59f8f7e92a4f4695091df1611c7a77",
       "value": "100%"
      }
     },
     "bd2d6ad459204a499dc0a1a81c2c5311": {
      "model_module": "@jupyter-widgets/controls",
      "model_module_version": "2.0.0",
      "model_name": "HTMLModel",
      "state": {
       "layout": "IPY_MODEL_0083ca6ecbeb4dd68b269db1a9c12d85",
       "style": "IPY_MODEL_1d1e4a2bc8a24001adc5ad254f1b3ac6",
       "value": " 663/663 [00:00&lt;00:00, 183250.32it/s]"
      }
     },
     "bd3e4d3b58e14a9783ee394a15e1aca1": {
      "model_module": "@jupyter-widgets/controls",
      "model_module_version": "2.0.0",
      "model_name": "HBoxModel",
      "state": {
       "children": [
        "IPY_MODEL_9d1bcac67b7d4753af436b7888d7940e",
        "IPY_MODEL_990c20f82fc241039bd219c391eea2ba",
        "IPY_MODEL_351655fa658c409096c5e675b37108ff"
       ],
       "layout": "IPY_MODEL_523701b969bb489d966c6e198cfc0626"
      }
     },
     "bd3eaef22c014276a9013c48a2ac6663": {
      "model_module": "@jupyter-widgets/controls",
      "model_module_version": "2.0.0",
      "model_name": "HTMLStyleModel",
      "state": {
       "description_width": "",
       "font_size": null,
       "text_color": null
      }
     },
     "bd3f973e2847413f85e855ac93f774df": {
      "model_module": "@jupyter-widgets/controls",
      "model_module_version": "2.0.0",
      "model_name": "ProgressStyleModel",
      "state": {
       "description_width": ""
      }
     },
     "bd6b1c99234345d48e5212d2cd99f729": {
      "model_module": "@jupyter-widgets/controls",
      "model_module_version": "2.0.0",
      "model_name": "HTMLStyleModel",
      "state": {
       "description_width": "",
       "font_size": null,
       "text_color": null
      }
     },
     "bd75f22cde4643d7802fd190b288222c": {
      "model_module": "@jupyter-widgets/controls",
      "model_module_version": "2.0.0",
      "model_name": "FloatProgressModel",
      "state": {
       "bar_style": "success",
       "layout": "IPY_MODEL_3a8be1d9f3ca49e0b688ac0c88b5c985",
       "max": 646,
       "style": "IPY_MODEL_584e71f1990b4639bfda6777fd56e6d4",
       "value": 646
      }
     },
     "bdb2b11b96ba46aa9bc921d10db2cbef": {
      "model_module": "@jupyter-widgets/controls",
      "model_module_version": "2.0.0",
      "model_name": "HTMLStyleModel",
      "state": {
       "description_width": "",
       "font_size": null,
       "text_color": null
      }
     },
     "bde048da0efe4e2d90e887068af7ec6c": {
      "model_module": "@jupyter-widgets/base",
      "model_module_version": "2.0.0",
      "model_name": "LayoutModel",
      "state": {}
     },
     "bde0874ccd63410f825e478cc845182e": {
      "model_module": "@jupyter-widgets/controls",
      "model_module_version": "2.0.0",
      "model_name": "ProgressStyleModel",
      "state": {
       "description_width": ""
      }
     },
     "bded767c65f04aaab30d3fe4a73b7e55": {
      "model_module": "@jupyter-widgets/controls",
      "model_module_version": "2.0.0",
      "model_name": "ProgressStyleModel",
      "state": {
       "description_width": ""
      }
     },
     "be2d6a4253f24c7287911065782d69d4": {
      "model_module": "@jupyter-widgets/base",
      "model_module_version": "2.0.0",
      "model_name": "LayoutModel",
      "state": {}
     },
     "be59b321cce548e6a89e39c8881b82e7": {
      "model_module": "@jupyter-widgets/base",
      "model_module_version": "2.0.0",
      "model_name": "LayoutModel",
      "state": {}
     },
     "be5bdd9df2f64a94b5e37de2adb22627": {
      "model_module": "@jupyter-widgets/controls",
      "model_module_version": "2.0.0",
      "model_name": "FloatProgressModel",
      "state": {
       "bar_style": "success",
       "layout": "IPY_MODEL_e2a62f33bfde4a89b6188a7cf8d7fca6",
       "max": 704,
       "style": "IPY_MODEL_50fbdb45d3a94d9e9e131ea24b7d460a",
       "value": 704
      }
     },
     "be811e479c3644b68bac6455a5bef1be": {
      "model_module": "@jupyter-widgets/controls",
      "model_module_version": "2.0.0",
      "model_name": "ProgressStyleModel",
      "state": {
       "description_width": ""
      }
     },
     "be8ca29437ed423e93118236ad5330ce": {
      "model_module": "@jupyter-widgets/base",
      "model_module_version": "2.0.0",
      "model_name": "LayoutModel",
      "state": {}
     },
     "bea58fd534c54722a71d6556a5e8e071": {
      "model_module": "@jupyter-widgets/controls",
      "model_module_version": "2.0.0",
      "model_name": "HTMLStyleModel",
      "state": {
       "description_width": "",
       "font_size": null,
       "text_color": null
      }
     },
     "beb5a98521a848c9811c322ab968fc20": {
      "model_module": "@jupyter-widgets/controls",
      "model_module_version": "2.0.0",
      "model_name": "HTMLStyleModel",
      "state": {
       "description_width": "",
       "font_size": null,
       "text_color": null
      }
     },
     "bebdfe157b9c4c25ae4dc80f8a84c701": {
      "model_module": "@jupyter-widgets/controls",
      "model_module_version": "2.0.0",
      "model_name": "HBoxModel",
      "state": {
       "children": [
        "IPY_MODEL_abffb315c68140ce91b95430ae9705e3",
        "IPY_MODEL_a3087d8891644792b29183a9153d8889",
        "IPY_MODEL_7518f6fd9c2a4d76a2795f1135f1bf28"
       ],
       "layout": "IPY_MODEL_b428226bc13a4f37bf624c41b6e675ed"
      }
     },
     "bed0f607c7914b9bb22e9348fc4cd81d": {
      "model_module": "@jupyter-widgets/base",
      "model_module_version": "2.0.0",
      "model_name": "LayoutModel",
      "state": {}
     },
     "beee9a25809144a98088470f94ff920c": {
      "model_module": "@jupyter-widgets/base",
      "model_module_version": "2.0.0",
      "model_name": "LayoutModel",
      "state": {}
     },
     "bef3d823123f4c8e84156fe2353c7f85": {
      "model_module": "@jupyter-widgets/base",
      "model_module_version": "2.0.0",
      "model_name": "LayoutModel",
      "state": {}
     },
     "bf0842b5c58a4eb79a259f2568a8cc3b": {
      "model_module": "@jupyter-widgets/base",
      "model_module_version": "2.0.0",
      "model_name": "LayoutModel",
      "state": {}
     },
     "bf1af8cf869944a69afaa797fe140e1d": {
      "model_module": "@jupyter-widgets/base",
      "model_module_version": "2.0.0",
      "model_name": "LayoutModel",
      "state": {}
     },
     "bf27dd16881045f182c920b00ec2c8c3": {
      "model_module": "@jupyter-widgets/controls",
      "model_module_version": "2.0.0",
      "model_name": "HTMLModel",
      "state": {
       "layout": "IPY_MODEL_5196789b72e3488690af1e6b55a494f8",
       "style": "IPY_MODEL_a05f19c4c94741d1bb722a6e15e453bf",
       "value": " 637/637 [00:00&lt;00:00, 178070.62it/s]"
      }
     },
     "bf4b712b42ed4504877df910b98b90a2": {
      "model_module": "@jupyter-widgets/base",
      "model_module_version": "2.0.0",
      "model_name": "LayoutModel",
      "state": {}
     },
     "bf98c9c3c08444f9be44c4f8beb5c3ec": {
      "model_module": "@jupyter-widgets/base",
      "model_module_version": "2.0.0",
      "model_name": "LayoutModel",
      "state": {}
     },
     "bfa4292f42a745e7bc91bedcf26e1e1b": {
      "model_module": "@jupyter-widgets/controls",
      "model_module_version": "2.0.0",
      "model_name": "HTMLStyleModel",
      "state": {
       "description_width": "",
       "font_size": null,
       "text_color": null
      }
     },
     "bfb508213ca4483fa3c57275c932cb67": {
      "model_module": "@jupyter-widgets/controls",
      "model_module_version": "2.0.0",
      "model_name": "HTMLModel",
      "state": {
       "layout": "IPY_MODEL_ea8c73b0865d4b3f844d30ea21411d18",
       "style": "IPY_MODEL_b5438f1e40834e9a8c603a6cf20626f4",
       "value": " 491/491 [00:00&lt;00:00, 138895.48it/s]"
      }
     },
     "bff4b0b58b0d4144814cce09e6636acb": {
      "model_module": "@jupyter-widgets/base",
      "model_module_version": "2.0.0",
      "model_name": "LayoutModel",
      "state": {}
     },
     "c013adf82998476693151bde6f35b10e": {
      "model_module": "@jupyter-widgets/controls",
      "model_module_version": "2.0.0",
      "model_name": "HBoxModel",
      "state": {
       "children": [
        "IPY_MODEL_abec2d996e4c498ab6154f413ec5769f",
        "IPY_MODEL_4f7a2ddad4eb44c4a3d8510030727731",
        "IPY_MODEL_dd8b93d9876f4d19ac068fdc03339257"
       ],
       "layout": "IPY_MODEL_c99b1b00bd774d6c844ab3671908e7b2"
      }
     },
     "c01402bbcdb647a0be6739618668bfff": {
      "model_module": "@jupyter-widgets/controls",
      "model_module_version": "2.0.0",
      "model_name": "HTMLModel",
      "state": {
       "layout": "IPY_MODEL_e17500078cdb49bdb6abd6a8fbc0c819",
       "style": "IPY_MODEL_186648c58afd42b18f79ac6702b98310",
       "value": "100%"
      }
     },
     "c02bf874e6b34574aa3f1ad3a60a94fe": {
      "model_module": "@jupyter-widgets/base",
      "model_module_version": "2.0.0",
      "model_name": "LayoutModel",
      "state": {}
     },
     "c043449dda9f4d328f49709059dd6aa3": {
      "model_module": "@jupyter-widgets/controls",
      "model_module_version": "2.0.0",
      "model_name": "ProgressStyleModel",
      "state": {
       "description_width": ""
      }
     },
     "c0a1404457e847e68c0deb5dc026a634": {
      "model_module": "@jupyter-widgets/base",
      "model_module_version": "2.0.0",
      "model_name": "LayoutModel",
      "state": {}
     },
     "c0b2035f06374b57881e204ae5d4d1aa": {
      "model_module": "@jupyter-widgets/controls",
      "model_module_version": "2.0.0",
      "model_name": "HTMLModel",
      "state": {
       "layout": "IPY_MODEL_ca8126824cc747c1b26dc98784bfbbd7",
       "style": "IPY_MODEL_ba578c44663645cdb4b3c72240c8dd6e",
       "value": " 797/797 [00:00&lt;00:00, 210481.07it/s]"
      }
     },
     "c0b5603b4b7a4f798d28003cb8017e24": {
      "model_module": "@jupyter-widgets/controls",
      "model_module_version": "2.0.0",
      "model_name": "HBoxModel",
      "state": {
       "children": [
        "IPY_MODEL_adec637dea2c4bb5803c1aad05a22996",
        "IPY_MODEL_10b5a57ba47943c9a22dd26a44ac94de",
        "IPY_MODEL_71c7bcb084fb4eaf9baf8f5f5e3092b9"
       ],
       "layout": "IPY_MODEL_0d05b74162b241498220e9451296a04c"
      }
     },
     "c0be083544cb4539bff9e63c46f63d29": {
      "model_module": "@jupyter-widgets/controls",
      "model_module_version": "2.0.0",
      "model_name": "ProgressStyleModel",
      "state": {
       "description_width": ""
      }
     },
     "c0da5da448c842f0993fcfc5fe9cd368": {
      "model_module": "@jupyter-widgets/base",
      "model_module_version": "2.0.0",
      "model_name": "LayoutModel",
      "state": {}
     },
     "c11fc2fbc9534c59823386b15fac34e5": {
      "model_module": "@jupyter-widgets/base",
      "model_module_version": "2.0.0",
      "model_name": "LayoutModel",
      "state": {}
     },
     "c15e97f749154985915aeb08ae8ee04b": {
      "model_module": "@jupyter-widgets/controls",
      "model_module_version": "2.0.0",
      "model_name": "HTMLModel",
      "state": {
       "layout": "IPY_MODEL_933cfa0bde454aedaa3e77a7b5a7e2b1",
       "style": "IPY_MODEL_0b2c6da43c9743fb8ad12f3249df77d3",
       "value": "100%"
      }
     },
     "c1ad1af549a04c55891ba74e68a7a63c": {
      "model_module": "@jupyter-widgets/controls",
      "model_module_version": "2.0.0",
      "model_name": "HTMLStyleModel",
      "state": {
       "description_width": "",
       "font_size": null,
       "text_color": null
      }
     },
     "c1b240409d874a69bad588931d8ddfba": {
      "model_module": "@jupyter-widgets/controls",
      "model_module_version": "2.0.0",
      "model_name": "FloatProgressModel",
      "state": {
       "bar_style": "success",
       "layout": "IPY_MODEL_cbeb5412b6104864abe02409592a4531",
       "max": 507,
       "style": "IPY_MODEL_127c4231e6e94d96b3f6b864b9e6922b",
       "value": 507
      }
     },
     "c1f56fb6465a4eb192b42415109ee249": {
      "model_module": "@jupyter-widgets/controls",
      "model_module_version": "2.0.0",
      "model_name": "HTMLModel",
      "state": {
       "layout": "IPY_MODEL_a5ef57d81ccb4ab28ce75aa0946a1dfa",
       "style": "IPY_MODEL_efa185cdfc7e431abe4499e5d0d9d978",
       "value": "100%"
      }
     },
     "c21fe933a87844f997786293cbf98302": {
      "model_module": "@jupyter-widgets/base",
      "model_module_version": "2.0.0",
      "model_name": "LayoutModel",
      "state": {}
     },
     "c22a24163cf445bf8aebecd338c44485": {
      "model_module": "@jupyter-widgets/controls",
      "model_module_version": "2.0.0",
      "model_name": "HBoxModel",
      "state": {
       "children": [
        "IPY_MODEL_81c0eecf412c4b73968a62e0f6e62d14",
        "IPY_MODEL_39db9bc3c1c7432881f2de757e9b8044",
        "IPY_MODEL_bb19c8575f4548d7922fa7c32d0df4dd"
       ],
       "layout": "IPY_MODEL_ccce997cfda84b01a49c3342e671884e"
      }
     },
     "c2341ee1f9ba4feeaa5c8545e13d7e3b": {
      "model_module": "@jupyter-widgets/base",
      "model_module_version": "2.0.0",
      "model_name": "LayoutModel",
      "state": {}
     },
     "c25a7b1430834e4c9303d501506e852f": {
      "model_module": "@jupyter-widgets/controls",
      "model_module_version": "2.0.0",
      "model_name": "HTMLStyleModel",
      "state": {
       "description_width": "",
       "font_size": null,
       "text_color": null
      }
     },
     "c260d07ac9f447e9a708566ef84c14b3": {
      "model_module": "@jupyter-widgets/controls",
      "model_module_version": "2.0.0",
      "model_name": "HTMLModel",
      "state": {
       "layout": "IPY_MODEL_ba3383383e01402fba168af994b47976",
       "style": "IPY_MODEL_5d8d3d74342840d6a4a12f090d59f492",
       "value": " 653/653 [00:00&lt;00:00, 180213.22it/s]"
      }
     },
     "c2958fec7b044e35b60ad16024e93f9b": {
      "model_module": "@jupyter-widgets/controls",
      "model_module_version": "2.0.0",
      "model_name": "HTMLStyleModel",
      "state": {
       "description_width": "",
       "font_size": null,
       "text_color": null
      }
     },
     "c2a393c98de94ca48263f4c79049a0bb": {
      "model_module": "@jupyter-widgets/controls",
      "model_module_version": "2.0.0",
      "model_name": "HTMLStyleModel",
      "state": {
       "description_width": "",
       "font_size": null,
       "text_color": null
      }
     },
     "c2d6471ffeae4f9d881cbdd6db80864f": {
      "model_module": "@jupyter-widgets/controls",
      "model_module_version": "2.0.0",
      "model_name": "HBoxModel",
      "state": {
       "children": [
        "IPY_MODEL_5b3a00b7af5c4849a9fe459cb375b565",
        "IPY_MODEL_7df937d2af4f483895fafea5f33efafb",
        "IPY_MODEL_9866319ea6824e6a9a21c9693758290c"
       ],
       "layout": "IPY_MODEL_14eebbb3426b4d509fe3738c4d026e2b"
      }
     },
     "c2e0e9ff384c445a996fc39198ece7d3": {
      "model_module": "@jupyter-widgets/controls",
      "model_module_version": "2.0.0",
      "model_name": "HTMLModel",
      "state": {
       "layout": "IPY_MODEL_b041f71004524f8cb89e795babfe58ae",
       "style": "IPY_MODEL_6b886024836b4f9cbe1d7a5a01578119",
       "value": "100%"
      }
     },
     "c2fdde1b72af4d08993cb35f60254a58": {
      "model_module": "@jupyter-widgets/controls",
      "model_module_version": "2.0.0",
      "model_name": "HTMLStyleModel",
      "state": {
       "description_width": "",
       "font_size": null,
       "text_color": null
      }
     },
     "c30eb801fa1c47da9462a2d86d3d16f1": {
      "model_module": "@jupyter-widgets/base",
      "model_module_version": "2.0.0",
      "model_name": "LayoutModel",
      "state": {}
     },
     "c31c25702cbe49e296e3b08905ffd76b": {
      "model_module": "@jupyter-widgets/base",
      "model_module_version": "2.0.0",
      "model_name": "LayoutModel",
      "state": {}
     },
     "c35eadc93b2e4b00a26cbfb311737b88": {
      "model_module": "@jupyter-widgets/base",
      "model_module_version": "2.0.0",
      "model_name": "LayoutModel",
      "state": {}
     },
     "c368f3c3e24f48819ff5489b0a81dd82": {
      "model_module": "@jupyter-widgets/base",
      "model_module_version": "2.0.0",
      "model_name": "LayoutModel",
      "state": {}
     },
     "c376f2dd04344857b934aae720a3955b": {
      "model_module": "@jupyter-widgets/controls",
      "model_module_version": "2.0.0",
      "model_name": "ProgressStyleModel",
      "state": {
       "description_width": ""
      }
     },
     "c380c7e146cb499692b8d6510b60e947": {
      "model_module": "@jupyter-widgets/controls",
      "model_module_version": "2.0.0",
      "model_name": "ProgressStyleModel",
      "state": {
       "description_width": ""
      }
     },
     "c395b0bc03dd440ea1832a15dda94a29": {
      "model_module": "@jupyter-widgets/base",
      "model_module_version": "2.0.0",
      "model_name": "LayoutModel",
      "state": {}
     },
     "c417fe7149cd4678bbf1047806d422d8": {
      "model_module": "@jupyter-widgets/base",
      "model_module_version": "2.0.0",
      "model_name": "LayoutModel",
      "state": {}
     },
     "c4302098ea06441d85fca8ac66e251f3": {
      "model_module": "@jupyter-widgets/controls",
      "model_module_version": "2.0.0",
      "model_name": "ProgressStyleModel",
      "state": {
       "description_width": ""
      }
     },
     "c44ed1c4d0d1414abc711ce9a87c5ab0": {
      "model_module": "@jupyter-widgets/controls",
      "model_module_version": "2.0.0",
      "model_name": "HTMLModel",
      "state": {
       "layout": "IPY_MODEL_43f68f68b1e949c0a14118342d35dc97",
       "style": "IPY_MODEL_74930b8558bb421cb88d7e1219570c82",
       "value": "100%"
      }
     },
     "c48f33f121084bc2a47c96a26bb24d40": {
      "model_module": "@jupyter-widgets/controls",
      "model_module_version": "2.0.0",
      "model_name": "HBoxModel",
      "state": {
       "children": [
        "IPY_MODEL_3a707885c146450e8f582a56f7a1ca73",
        "IPY_MODEL_5c7b0a7aeae445fbb9749e39d2d92234",
        "IPY_MODEL_1259d556c41f47739fe771f0209aad98"
       ],
       "layout": "IPY_MODEL_fd9835e5e0d04ae2b6aabc809c96cfea"
      }
     },
     "c49da4c1a00f4ef89ab53a8a58d8494c": {
      "model_module": "@jupyter-widgets/controls",
      "model_module_version": "2.0.0",
      "model_name": "HBoxModel",
      "state": {
       "children": [
        "IPY_MODEL_00cc052ca30c48698adaa2645f338d08",
        "IPY_MODEL_6707f5b4b375470081aabdff171f692e",
        "IPY_MODEL_fde1754d0e954bf2bdf577a1fc92845d"
       ],
       "layout": "IPY_MODEL_bde048da0efe4e2d90e887068af7ec6c"
      }
     },
     "c4d19d3c87c6492b8cdff0207e94a873": {
      "model_module": "@jupyter-widgets/controls",
      "model_module_version": "2.0.0",
      "model_name": "HTMLStyleModel",
      "state": {
       "description_width": "",
       "font_size": null,
       "text_color": null
      }
     },
     "c52b30dc96804aa7965e515acc64d2bd": {
      "model_module": "@jupyter-widgets/controls",
      "model_module_version": "2.0.0",
      "model_name": "HTMLStyleModel",
      "state": {
       "description_width": "",
       "font_size": null,
       "text_color": null
      }
     },
     "c5400ed13d2a485093138fe1f99da7a1": {
      "model_module": "@jupyter-widgets/controls",
      "model_module_version": "2.0.0",
      "model_name": "HTMLStyleModel",
      "state": {
       "description_width": "",
       "font_size": null,
       "text_color": null
      }
     },
     "c54ead1f3a454cd6883a3da574946d5e": {
      "model_module": "@jupyter-widgets/base",
      "model_module_version": "2.0.0",
      "model_name": "LayoutModel",
      "state": {}
     },
     "c57b3c611e3f412aa01653b84a5cef91": {
      "model_module": "@jupyter-widgets/controls",
      "model_module_version": "2.0.0",
      "model_name": "FloatProgressModel",
      "state": {
       "bar_style": "success",
       "layout": "IPY_MODEL_b60458786f20446e8f8b5521d1bd9f02",
       "max": 624,
       "style": "IPY_MODEL_034a18cd0d9644bcabd458bf62d63d71",
       "value": 624
      }
     },
     "c583213ca0de47b48e09e0fe3de66aaf": {
      "model_module": "@jupyter-widgets/controls",
      "model_module_version": "2.0.0",
      "model_name": "FloatProgressModel",
      "state": {
       "bar_style": "success",
       "layout": "IPY_MODEL_f0a6b7c402b84dd8b8bd4551eddd991e",
       "max": 640,
       "style": "IPY_MODEL_04966ba2943546cb83c5d6663c5a433a",
       "value": 640
      }
     },
     "c594a7f59c1d432ca68275120efd8cd0": {
      "model_module": "@jupyter-widgets/base",
      "model_module_version": "2.0.0",
      "model_name": "LayoutModel",
      "state": {}
     },
     "c5bdaf4ccea94219805a6fb4cc64ff30": {
      "model_module": "@jupyter-widgets/base",
      "model_module_version": "2.0.0",
      "model_name": "LayoutModel",
      "state": {}
     },
     "c5c84356a3d94705ad764880977df362": {
      "model_module": "@jupyter-widgets/controls",
      "model_module_version": "2.0.0",
      "model_name": "FloatProgressModel",
      "state": {
       "bar_style": "success",
       "layout": "IPY_MODEL_0f8185dbdc7548e5889b6e8902a6bc99",
       "max": 625,
       "style": "IPY_MODEL_eebfecfeb6914571bf81720a0bea946d",
       "value": 625
      }
     },
     "c5d9d974b4e94f729c94bdcd8947757b": {
      "model_module": "@jupyter-widgets/controls",
      "model_module_version": "2.0.0",
      "model_name": "HTMLStyleModel",
      "state": {
       "description_width": "",
       "font_size": null,
       "text_color": null
      }
     },
     "c5e43081656844bd831c593a0b6dc27c": {
      "model_module": "@jupyter-widgets/controls",
      "model_module_version": "2.0.0",
      "model_name": "ProgressStyleModel",
      "state": {
       "description_width": ""
      }
     },
     "c5ea81796b904a93a7eedba8836d76ed": {
      "model_module": "@jupyter-widgets/controls",
      "model_module_version": "2.0.0",
      "model_name": "HTMLModel",
      "state": {
       "layout": "IPY_MODEL_2451f331e3914b3b96c1a076a26a6427",
       "style": "IPY_MODEL_386def26126540caa9f7166c1b365ad4",
       "value": " 468/468 [00:00&lt;00:00, 132675.52it/s]"
      }
     },
     "c624782826534a1a8d62d849784336e3": {
      "model_module": "@jupyter-widgets/controls",
      "model_module_version": "2.0.0",
      "model_name": "HTMLStyleModel",
      "state": {
       "description_width": "",
       "font_size": null,
       "text_color": null
      }
     },
     "c62fd2d1354d460494307c89d2230a50": {
      "model_module": "@jupyter-widgets/base",
      "model_module_version": "2.0.0",
      "model_name": "LayoutModel",
      "state": {}
     },
     "c64f5ca3df43471a9687ff986053079a": {
      "model_module": "@jupyter-widgets/controls",
      "model_module_version": "2.0.0",
      "model_name": "HBoxModel",
      "state": {
       "children": [
        "IPY_MODEL_50c65651065b405c8cacc5a3cac8ffb3",
        "IPY_MODEL_173e279381664b6d9c1d1d28ccd69b76",
        "IPY_MODEL_fe8de5ed911f439d91d4d8b04ff63c64"
       ],
       "layout": "IPY_MODEL_02c87eb550634510905f27a9ab56c37c"
      }
     },
     "c66886b1ccc543788b4f96e56ec31a21": {
      "model_module": "@jupyter-widgets/controls",
      "model_module_version": "2.0.0",
      "model_name": "HTMLStyleModel",
      "state": {
       "description_width": "",
       "font_size": null,
       "text_color": null
      }
     },
     "c669ba8a1923497f868037fbf68adca2": {
      "model_module": "@jupyter-widgets/controls",
      "model_module_version": "2.0.0",
      "model_name": "HBoxModel",
      "state": {
       "children": [
        "IPY_MODEL_96f936d59376405ca38514f6eefd022b",
        "IPY_MODEL_c91316c4d8ec4848b007b0e74939174a",
        "IPY_MODEL_4e4e6e74abb84db8a000bfae285f105b"
       ],
       "layout": "IPY_MODEL_2ce4e8076a3d4c8e8492faf75199f36d"
      }
     },
     "c6808396b3984587b311b24365356a15": {
      "model_module": "@jupyter-widgets/controls",
      "model_module_version": "2.0.0",
      "model_name": "FloatProgressModel",
      "state": {
       "bar_style": "success",
       "layout": "IPY_MODEL_e3f7aea6a754421099bb87c460d3e1f3",
       "max": 601,
       "style": "IPY_MODEL_f2f8e4ffc09a413d8753ce191354b89d",
       "value": 601
      }
     },
     "c6b3c9e1e45a4e9aabcf52ef4e5558b0": {
      "model_module": "@jupyter-widgets/controls",
      "model_module_version": "2.0.0",
      "model_name": "HTMLStyleModel",
      "state": {
       "description_width": "",
       "font_size": null,
       "text_color": null
      }
     },
     "c6b430d4b53d4a78afc6cf608be40956": {
      "model_module": "@jupyter-widgets/controls",
      "model_module_version": "2.0.0",
      "model_name": "HTMLStyleModel",
      "state": {
       "description_width": "",
       "font_size": null,
       "text_color": null
      }
     },
     "c6cdda183d0e4efdb2711dd9a127bda6": {
      "model_module": "@jupyter-widgets/controls",
      "model_module_version": "2.0.0",
      "model_name": "FloatProgressModel",
      "state": {
       "bar_style": "success",
       "layout": "IPY_MODEL_4c32f69e60ed4087a8bd261f9aeb73bd",
       "max": 712,
       "style": "IPY_MODEL_5fd7115df1dc41568e3aef8db382afcc",
       "value": 712
      }
     },
     "c705b73bb52746eb80be30308b2b193f": {
      "model_module": "@jupyter-widgets/controls",
      "model_module_version": "2.0.0",
      "model_name": "HTMLStyleModel",
      "state": {
       "description_width": "",
       "font_size": null,
       "text_color": null
      }
     },
     "c73f379fb8d94a9ea0469d0180210bde": {
      "model_module": "@jupyter-widgets/base",
      "model_module_version": "2.0.0",
      "model_name": "LayoutModel",
      "state": {}
     },
     "c741a012619c49dcbde17e0852e888fd": {
      "model_module": "@jupyter-widgets/controls",
      "model_module_version": "2.0.0",
      "model_name": "HTMLStyleModel",
      "state": {
       "description_width": "",
       "font_size": null,
       "text_color": null
      }
     },
     "c75e65e8910144a8af47fdd7c5293391": {
      "model_module": "@jupyter-widgets/base",
      "model_module_version": "2.0.0",
      "model_name": "LayoutModel",
      "state": {}
     },
     "c75f4085889b40b88a90aab25fa32589": {
      "model_module": "@jupyter-widgets/controls",
      "model_module_version": "2.0.0",
      "model_name": "ProgressStyleModel",
      "state": {
       "description_width": ""
      }
     },
     "c770ca9d31fc4ec198723dc9ac77ac3d": {
      "model_module": "@jupyter-widgets/controls",
      "model_module_version": "2.0.0",
      "model_name": "ProgressStyleModel",
      "state": {
       "description_width": ""
      }
     },
     "c7889259452249b0b5d709ab3fc2926e": {
      "model_module": "@jupyter-widgets/controls",
      "model_module_version": "2.0.0",
      "model_name": "ProgressStyleModel",
      "state": {
       "description_width": ""
      }
     },
     "c7b3bbe0a9f2492997791c27402faf23": {
      "model_module": "@jupyter-widgets/controls",
      "model_module_version": "2.0.0",
      "model_name": "FloatProgressModel",
      "state": {
       "bar_style": "danger",
       "layout": "IPY_MODEL_cff8dfbf0aaf4aee889cd0892a194fb7",
       "max": 465,
       "style": "IPY_MODEL_c5e43081656844bd831c593a0b6dc27c"
      }
     },
     "c7bbc608a47f413496fd445fb83dd747": {
      "model_module": "@jupyter-widgets/controls",
      "model_module_version": "2.0.0",
      "model_name": "HBoxModel",
      "state": {
       "children": [
        "IPY_MODEL_6c07e9921ae64671b76d14945079930c",
        "IPY_MODEL_d4ccd67605094e9a82b9729f19668664",
        "IPY_MODEL_4349eaab9ffa4e49bd6bfb89598de55c"
       ],
       "layout": "IPY_MODEL_3c26322b1c9846488fc6585cf257884c"
      }
     },
     "c7fb164ab76d4c3bab910e3b6aa64635": {
      "model_module": "@jupyter-widgets/controls",
      "model_module_version": "2.0.0",
      "model_name": "HTMLStyleModel",
      "state": {
       "description_width": "",
       "font_size": null,
       "text_color": null
      }
     },
     "c84a7f5b5440420aa301461b06236eb2": {
      "model_module": "@jupyter-widgets/controls",
      "model_module_version": "2.0.0",
      "model_name": "HBoxModel",
      "state": {
       "children": [
        "IPY_MODEL_db0a92b8eb2841a6abeaeae64e81b613",
        "IPY_MODEL_c7b3bbe0a9f2492997791c27402faf23",
        "IPY_MODEL_8591b278f817421da8be681bb2e6129f"
       ],
       "layout": "IPY_MODEL_8d3cfe17330141c78017c5d2aa6af876"
      }
     },
     "c868c038b82446f692d920e71d0641ad": {
      "model_module": "@jupyter-widgets/base",
      "model_module_version": "2.0.0",
      "model_name": "LayoutModel",
      "state": {}
     },
     "c87fd6887a614850afc7af3f3d784619": {
      "model_module": "@jupyter-widgets/controls",
      "model_module_version": "2.0.0",
      "model_name": "HTMLModel",
      "state": {
       "layout": "IPY_MODEL_c368f3c3e24f48819ff5489b0a81dd82",
       "style": "IPY_MODEL_d27758b4c1144a9fa70c0a3e7758b411",
       "value": " 635/635 [00:00&lt;00:00, 175684.90it/s]"
      }
     },
     "c893cf1eebeb4c72a41f5757e3e871d0": {
      "model_module": "@jupyter-widgets/controls",
      "model_module_version": "2.0.0",
      "model_name": "FloatProgressModel",
      "state": {
       "bar_style": "success",
       "layout": "IPY_MODEL_9deb1606dd2c4666b6a3e525e96ebae3",
       "max": 527,
       "style": "IPY_MODEL_3e0a70ee1fac499682b993a93e610264",
       "value": 527
      }
     },
     "c8b70c08a412481488849816f206bf71": {
      "model_module": "@jupyter-widgets/controls",
      "model_module_version": "2.0.0",
      "model_name": "HTMLStyleModel",
      "state": {
       "description_width": "",
       "font_size": null,
       "text_color": null
      }
     },
     "c8b8dc86cb1b44ada1dcaacb7b63bdff": {
      "model_module": "@jupyter-widgets/base",
      "model_module_version": "2.0.0",
      "model_name": "LayoutModel",
      "state": {}
     },
     "c8c9417c49a740c5b9be9c039474f217": {
      "model_module": "@jupyter-widgets/controls",
      "model_module_version": "2.0.0",
      "model_name": "HBoxModel",
      "state": {
       "children": [
        "IPY_MODEL_7a7af58719ec4c5a912b323d91a8105f",
        "IPY_MODEL_a91e370e1247480798b766fb87658369",
        "IPY_MODEL_e0d64706b94a452d8cf605c8cc7c00d2"
       ],
       "layout": "IPY_MODEL_dbd65159036448b58c84d12d2129d5d3"
      }
     },
     "c8cedc48a9fd481bba3c167372888420": {
      "model_module": "@jupyter-widgets/controls",
      "model_module_version": "2.0.0",
      "model_name": "HTMLStyleModel",
      "state": {
       "description_width": "",
       "font_size": null,
       "text_color": null
      }
     },
     "c8ea99dca7bd4dec9d5b0116f3dcdeab": {
      "model_module": "@jupyter-widgets/base",
      "model_module_version": "2.0.0",
      "model_name": "LayoutModel",
      "state": {}
     },
     "c91316c4d8ec4848b007b0e74939174a": {
      "model_module": "@jupyter-widgets/controls",
      "model_module_version": "2.0.0",
      "model_name": "FloatProgressModel",
      "state": {
       "bar_style": "success",
       "layout": "IPY_MODEL_0364b702436a4b3a97bcaba669286067",
       "max": 663,
       "style": "IPY_MODEL_5ef20091f08442e2ae1362bc97a06be8",
       "value": 663
      }
     },
     "c95e7fb4268a4c2b9fd58445fe9368cf": {
      "model_module": "@jupyter-widgets/base",
      "model_module_version": "2.0.0",
      "model_name": "LayoutModel",
      "state": {}
     },
     "c9700f0ee77d4b1aad3d55495df3c770": {
      "model_module": "@jupyter-widgets/controls",
      "model_module_version": "2.0.0",
      "model_name": "HTMLModel",
      "state": {
       "layout": "IPY_MODEL_322aacd069bb4dda9ddba3cd8dd4bdab",
       "style": "IPY_MODEL_e9b140a88462499eb467f51a18e48284",
       "value": " 468/468 [00:30&lt;00:00, 15.60it/s]"
      }
     },
     "c97b0623a7174f16ad4d050db8e74015": {
      "model_module": "@jupyter-widgets/controls",
      "model_module_version": "2.0.0",
      "model_name": "ProgressStyleModel",
      "state": {
       "description_width": ""
      }
     },
     "c98762742725497baa5071ec58bfec90": {
      "model_module": "@jupyter-widgets/controls",
      "model_module_version": "2.0.0",
      "model_name": "HTMLStyleModel",
      "state": {
       "description_width": "",
       "font_size": null,
       "text_color": null
      }
     },
     "c99b1b00bd774d6c844ab3671908e7b2": {
      "model_module": "@jupyter-widgets/base",
      "model_module_version": "2.0.0",
      "model_name": "LayoutModel",
      "state": {}
     },
     "c9d504405abc4446ad0e2061ef486672": {
      "model_module": "@jupyter-widgets/base",
      "model_module_version": "2.0.0",
      "model_name": "LayoutModel",
      "state": {}
     },
     "c9e01a740be6422bab4488375e0058eb": {
      "model_module": "@jupyter-widgets/base",
      "model_module_version": "2.0.0",
      "model_name": "LayoutModel",
      "state": {}
     },
     "c9e09cee05b749e3b4be596a46d11584": {
      "model_module": "@jupyter-widgets/controls",
      "model_module_version": "2.0.0",
      "model_name": "HBoxModel",
      "state": {
       "children": [
        "IPY_MODEL_f917503a32994e6eb3ce23c9c1b043c2",
        "IPY_MODEL_47d1ee0662494e30a2937a98cfe74a26",
        "IPY_MODEL_d040205985234141ad33178ccf52423b"
       ],
       "layout": "IPY_MODEL_c0a1404457e847e68c0deb5dc026a634"
      }
     },
     "ca31a76e120a4efe92271892d7d3817f": {
      "model_module": "@jupyter-widgets/controls",
      "model_module_version": "2.0.0",
      "model_name": "HTMLModel",
      "state": {
       "layout": "IPY_MODEL_ce5786aa4e434b59bcff33179bb42c5e",
       "style": "IPY_MODEL_05fee5d05fc54b3ca40aa8d98fbf10bb",
       "value": " 475/475 [00:00&lt;00:00, 133594.47it/s]"
      }
     },
     "ca538af363b748c6ad32f16ac0570850": {
      "model_module": "@jupyter-widgets/controls",
      "model_module_version": "2.0.0",
      "model_name": "ProgressStyleModel",
      "state": {
       "description_width": ""
      }
     },
     "ca74001479d64d17ba3fadcf20303fc3": {
      "model_module": "@jupyter-widgets/controls",
      "model_module_version": "2.0.0",
      "model_name": "ProgressStyleModel",
      "state": {
       "description_width": ""
      }
     },
     "ca8126824cc747c1b26dc98784bfbbd7": {
      "model_module": "@jupyter-widgets/base",
      "model_module_version": "2.0.0",
      "model_name": "LayoutModel",
      "state": {}
     },
     "ca821efc87234b94b3bfc4a161164eb0": {
      "model_module": "@jupyter-widgets/controls",
      "model_module_version": "2.0.0",
      "model_name": "HTMLModel",
      "state": {
       "layout": "IPY_MODEL_f9669e9b81cc48c8b3c40fe1319bf7cb",
       "style": "IPY_MODEL_11aef9d437b046c6bd7f43018be7b6f7",
       "value": " 640/640 [00:00&lt;00:00, 164937.30it/s]"
      }
     },
     "ca97c8ac34df4a34a497397b5dd375d6": {
      "model_module": "@jupyter-widgets/base",
      "model_module_version": "2.0.0",
      "model_name": "LayoutModel",
      "state": {}
     },
     "caa5eb52586f4704a0a363b79cae0ad2": {
      "model_module": "@jupyter-widgets/controls",
      "model_module_version": "2.0.0",
      "model_name": "HBoxModel",
      "state": {
       "children": [
        "IPY_MODEL_7ea5c2bc75e646579da99234a9677bb8",
        "IPY_MODEL_6314f10ea2fa47aaa7a9a1a5dc744ef5",
        "IPY_MODEL_9fc6dd34f3cf4c28ada5bd860ead3ba8"
       ],
       "layout": "IPY_MODEL_aefd66a5f65249e38ca98e92571787ae"
      }
     },
     "cad3207121394fdd920c96d9a71d5c0c": {
      "model_module": "@jupyter-widgets/controls",
      "model_module_version": "2.0.0",
      "model_name": "HTMLStyleModel",
      "state": {
       "description_width": "",
       "font_size": null,
       "text_color": null
      }
     },
     "cafd851491314add80cba7e5c77571d3": {
      "model_module": "@jupyter-widgets/base",
      "model_module_version": "2.0.0",
      "model_name": "LayoutModel",
      "state": {}
     },
     "cb0a471df04d466191a668c7fdf69f2f": {
      "model_module": "@jupyter-widgets/base",
      "model_module_version": "2.0.0",
      "model_name": "LayoutModel",
      "state": {}
     },
     "cb34ed042fcc4f358f5f4a08cc4fdca1": {
      "model_module": "@jupyter-widgets/base",
      "model_module_version": "2.0.0",
      "model_name": "LayoutModel",
      "state": {}
     },
     "cb6f1ab33c3b47d1802e52414c4a3799": {
      "model_module": "@jupyter-widgets/controls",
      "model_module_version": "2.0.0",
      "model_name": "ProgressStyleModel",
      "state": {
       "description_width": ""
      }
     },
     "cb7015e07c284f6484ecdcd5b2d654cb": {
      "model_module": "@jupyter-widgets/base",
      "model_module_version": "2.0.0",
      "model_name": "LayoutModel",
      "state": {}
     },
     "cbe9980177e74e7894168b6442db3695": {
      "model_module": "@jupyter-widgets/base",
      "model_module_version": "2.0.0",
      "model_name": "LayoutModel",
      "state": {}
     },
     "cbeb5412b6104864abe02409592a4531": {
      "model_module": "@jupyter-widgets/base",
      "model_module_version": "2.0.0",
      "model_name": "LayoutModel",
      "state": {}
     },
     "cbf5c1814dbd47f9867e4f088c40bb46": {
      "model_module": "@jupyter-widgets/controls",
      "model_module_version": "2.0.0",
      "model_name": "FloatProgressModel",
      "state": {
       "bar_style": "success",
       "layout": "IPY_MODEL_c868c038b82446f692d920e71d0641ad",
       "max": 620,
       "style": "IPY_MODEL_d22c45af8edf49c79c086908b3a91446",
       "value": 620
      }
     },
     "cc258a2183ee44faaee413fc12d5e287": {
      "model_module": "@jupyter-widgets/base",
      "model_module_version": "2.0.0",
      "model_name": "LayoutModel",
      "state": {}
     },
     "cc4534736e90486e9f4f4a47e8aa5aaa": {
      "model_module": "@jupyter-widgets/base",
      "model_module_version": "2.0.0",
      "model_name": "LayoutModel",
      "state": {}
     },
     "cc531ba7060c45d1a61f2f19a52a3ee6": {
      "model_module": "@jupyter-widgets/controls",
      "model_module_version": "2.0.0",
      "model_name": "FloatProgressModel",
      "state": {
       "bar_style": "success",
       "layout": "IPY_MODEL_3ad4999f90954caeafcfe7f859d51fa0",
       "max": 623,
       "style": "IPY_MODEL_40ebf12949fb49cc9761bd5f489f4952",
       "value": 623
      }
     },
     "cc7be1654baa42dabb559eaba4b2c689": {
      "model_module": "@jupyter-widgets/base",
      "model_module_version": "2.0.0",
      "model_name": "LayoutModel",
      "state": {}
     },
     "ccaaa04091f8431cbf00ab3827a77f02": {
      "model_module": "@jupyter-widgets/base",
      "model_module_version": "2.0.0",
      "model_name": "LayoutModel",
      "state": {}
     },
     "ccbc9e01d9214fe5b15a3a4ddc5c1f62": {
      "model_module": "@jupyter-widgets/base",
      "model_module_version": "2.0.0",
      "model_name": "LayoutModel",
      "state": {}
     },
     "ccce997cfda84b01a49c3342e671884e": {
      "model_module": "@jupyter-widgets/base",
      "model_module_version": "2.0.0",
      "model_name": "LayoutModel",
      "state": {}
     },
     "ccf588662288416ab104f96cdafb0423": {
      "model_module": "@jupyter-widgets/controls",
      "model_module_version": "2.0.0",
      "model_name": "HTMLStyleModel",
      "state": {
       "description_width": "",
       "font_size": null,
       "text_color": null
      }
     },
     "cd2857fd3f534df7a624e2f00bf6a69b": {
      "model_module": "@jupyter-widgets/base",
      "model_module_version": "2.0.0",
      "model_name": "LayoutModel",
      "state": {}
     },
     "cd3963fc1e3143bc88da842c5ea93bc5": {
      "model_module": "@jupyter-widgets/controls",
      "model_module_version": "2.0.0",
      "model_name": "HTMLStyleModel",
      "state": {
       "description_width": "",
       "font_size": null,
       "text_color": null
      }
     },
     "cd6558b9c9594df9a974beaae6c3c6a0": {
      "model_module": "@jupyter-widgets/base",
      "model_module_version": "2.0.0",
      "model_name": "LayoutModel",
      "state": {}
     },
     "cd732250ee6a4fe7aa38eb28de761468": {
      "model_module": "@jupyter-widgets/controls",
      "model_module_version": "2.0.0",
      "model_name": "HTMLModel",
      "state": {
       "layout": "IPY_MODEL_59d999172e3d49df9154379a14bbb1a3",
       "style": "IPY_MODEL_4ac38cea7d5140c09c63ceb97931b6b8",
       "value": "100%"
      }
     },
     "cd8a62afaa794f038f8e1cd134dc98d3": {
      "model_module": "@jupyter-widgets/base",
      "model_module_version": "2.0.0",
      "model_name": "LayoutModel",
      "state": {}
     },
     "cd9418e5662f41d993c1fbddc9c4f4fb": {
      "model_module": "@jupyter-widgets/controls",
      "model_module_version": "2.0.0",
      "model_name": "FloatProgressModel",
      "state": {
       "bar_style": "success",
       "layout": "IPY_MODEL_eec526cb197549059632f399053c88a5",
       "max": 618,
       "style": "IPY_MODEL_f7f6780fc52043de8c41404e628167fa",
       "value": 618
      }
     },
     "cda62b3f33644015862b5dfed8f2a154": {
      "model_module": "@jupyter-widgets/controls",
      "model_module_version": "2.0.0",
      "model_name": "HBoxModel",
      "state": {
       "children": [
        "IPY_MODEL_219f40b1d6ed4aa8973d345372f9e182",
        "IPY_MODEL_a85f570c67b84d0e9096e406a05a1cb9",
        "IPY_MODEL_82f0afe2a42a4ab8974094e0f7c60932"
       ],
       "layout": "IPY_MODEL_2b1298a0d5254a0dac86d3487973fd5f"
      }
     },
     "cdb48207e6ec4d98a5770248275f80a7": {
      "model_module": "@jupyter-widgets/base",
      "model_module_version": "2.0.0",
      "model_name": "LayoutModel",
      "state": {}
     },
     "cdc4304adf7b4d53abad226b7f7e7379": {
      "model_module": "@jupyter-widgets/controls",
      "model_module_version": "2.0.0",
      "model_name": "FloatProgressModel",
      "state": {
       "bar_style": "success",
       "layout": "IPY_MODEL_79c2fc72104c4167a39df926de4b0257",
       "max": 527,
       "style": "IPY_MODEL_5228df4721ef435393c5ebf092ef6b7b",
       "value": 527
      }
     },
     "cdda9a9289d2418199599fc61d90128b": {
      "model_module": "@jupyter-widgets/base",
      "model_module_version": "2.0.0",
      "model_name": "LayoutModel",
      "state": {}
     },
     "cddbac4c27f9462ba38eef2e8a0f7358": {
      "model_module": "@jupyter-widgets/base",
      "model_module_version": "2.0.0",
      "model_name": "LayoutModel",
      "state": {}
     },
     "cdf41103c0cf450086daa15f65e83f5e": {
      "model_module": "@jupyter-widgets/controls",
      "model_module_version": "2.0.0",
      "model_name": "HTMLModel",
      "state": {
       "layout": "IPY_MODEL_f743b34ad22943b6bf5c5cf5f3d9aa37",
       "style": "IPY_MODEL_9f3ca8c93cae42beb5fa9e84594ce5fc",
       "value": "100%"
      }
     },
     "ce2c58b6719144e9a8f97e1c343edf5e": {
      "model_module": "@jupyter-widgets/controls",
      "model_module_version": "2.0.0",
      "model_name": "HTMLStyleModel",
      "state": {
       "description_width": "",
       "font_size": null,
       "text_color": null
      }
     },
     "ce35d629b75a4d6a93ff946307c46722": {
      "model_module": "@jupyter-widgets/controls",
      "model_module_version": "2.0.0",
      "model_name": "FloatProgressModel",
      "state": {
       "bar_style": "success",
       "layout": "IPY_MODEL_6214a0fda90c481d8ca8cf8af07d79c6",
       "max": 527,
       "style": "IPY_MODEL_47159bd01924489a83656c66df148b01",
       "value": 527
      }
     },
     "ce3d992aa2694d5c94320b07bbf8b991": {
      "model_module": "@jupyter-widgets/base",
      "model_module_version": "2.0.0",
      "model_name": "LayoutModel",
      "state": {}
     },
     "ce564adda0d84ec4a112c5c134ec4e5d": {
      "model_module": "@jupyter-widgets/controls",
      "model_module_version": "2.0.0",
      "model_name": "ProgressStyleModel",
      "state": {
       "description_width": ""
      }
     },
     "ce5786aa4e434b59bcff33179bb42c5e": {
      "model_module": "@jupyter-widgets/base",
      "model_module_version": "2.0.0",
      "model_name": "LayoutModel",
      "state": {}
     },
     "ce6129ffca3243f3a35f4c71ef843677": {
      "model_module": "@jupyter-widgets/controls",
      "model_module_version": "2.0.0",
      "model_name": "HTMLStyleModel",
      "state": {
       "description_width": "",
       "font_size": null,
       "text_color": null
      }
     },
     "ce7365a877474f2eb48b73cd09b69695": {
      "model_module": "@jupyter-widgets/controls",
      "model_module_version": "2.0.0",
      "model_name": "FloatProgressModel",
      "state": {
       "bar_style": "success",
       "layout": "IPY_MODEL_457f03dcbdac40118a85b27f345905e0",
       "max": 703,
       "style": "IPY_MODEL_fb1c50bf78354b15af2cbc36d5091718",
       "value": 703
      }
     },
     "ce98c26c0c1f4146a688b9285a744e78": {
      "model_module": "@jupyter-widgets/base",
      "model_module_version": "2.0.0",
      "model_name": "LayoutModel",
      "state": {}
     },
     "ce9cf913c8204199860a37cf8d708a13": {
      "model_module": "@jupyter-widgets/controls",
      "model_module_version": "2.0.0",
      "model_name": "HTMLStyleModel",
      "state": {
       "description_width": "",
       "font_size": null,
       "text_color": null
      }
     },
     "ceb9831a840d4d51b46454e6f8739e96": {
      "model_module": "@jupyter-widgets/base",
      "model_module_version": "2.0.0",
      "model_name": "LayoutModel",
      "state": {}
     },
     "cec3efec611048898f3c253919e77c9c": {
      "model_module": "@jupyter-widgets/controls",
      "model_module_version": "2.0.0",
      "model_name": "HBoxModel",
      "state": {
       "children": [
        "IPY_MODEL_d70d629f3f454160a5c809ab4d4c1146",
        "IPY_MODEL_2684ad1f47a44d199ff4f483fc77edcb",
        "IPY_MODEL_db3af4648e0e4c93ac3ed50d60489227"
       ],
       "layout": "IPY_MODEL_eefbe698a634401d837354fc080474bc"
      }
     },
     "ceeb7774f2d14490ba6085cb0c2b9bb4": {
      "model_module": "@jupyter-widgets/controls",
      "model_module_version": "2.0.0",
      "model_name": "HTMLStyleModel",
      "state": {
       "description_width": "",
       "font_size": null,
       "text_color": null
      }
     },
     "cf29f5d8abd94a4284beab7ef8981b0d": {
      "model_module": "@jupyter-widgets/base",
      "model_module_version": "2.0.0",
      "model_name": "LayoutModel",
      "state": {}
     },
     "cf2ed1bb47fb421699970ecddd131c0f": {
      "model_module": "@jupyter-widgets/base",
      "model_module_version": "2.0.0",
      "model_name": "LayoutModel",
      "state": {}
     },
     "cf4cfed5f47e4af6b068d80e12d72b7f": {
      "model_module": "@jupyter-widgets/controls",
      "model_module_version": "2.0.0",
      "model_name": "HTMLModel",
      "state": {
       "layout": "IPY_MODEL_7fa35bd55e7640d5a6cbd8aa3bfeca85",
       "style": "IPY_MODEL_9f2d7189c9a44f0999fa0d26246772fd",
       "value": " 512/512 [00:00&lt;00:00, 143682.83it/s]"
      }
     },
     "cf5c8f937b344dbb864080b5e5b596e0": {
      "model_module": "@jupyter-widgets/controls",
      "model_module_version": "2.0.0",
      "model_name": "HTMLModel",
      "state": {
       "layout": "IPY_MODEL_5e9e4200d08049f09044d9dc10a0b8ef",
       "style": "IPY_MODEL_e294aa894eba4a7e8c64e5bfe6c5413a",
       "value": "100%"
      }
     },
     "cf65901486ea4edea6881ad531944316": {
      "model_module": "@jupyter-widgets/controls",
      "model_module_version": "2.0.0",
      "model_name": "ProgressStyleModel",
      "state": {
       "description_width": ""
      }
     },
     "cf6b0e3d9532466dbe27685e2fe8fc33": {
      "model_module": "@jupyter-widgets/controls",
      "model_module_version": "2.0.0",
      "model_name": "FloatProgressModel",
      "state": {
       "bar_style": "success",
       "layout": "IPY_MODEL_5109059c32424ee89f8dc2fb90a5d9ad",
       "max": 653,
       "style": "IPY_MODEL_d8eea4a783cf418584f06eeb736eae5c",
       "value": 653
      }
     },
     "cf8957084eda493aa0891a157cb98d71": {
      "model_module": "@jupyter-widgets/controls",
      "model_module_version": "2.0.0",
      "model_name": "HTMLStyleModel",
      "state": {
       "description_width": "",
       "font_size": null,
       "text_color": null
      }
     },
     "cfa1f28f697c4f999fe03ce7ed6cacac": {
      "model_module": "@jupyter-widgets/base",
      "model_module_version": "2.0.0",
      "model_name": "LayoutModel",
      "state": {}
     },
     "cfac8609e39948ea9f33dc6e1ceca090": {
      "model_module": "@jupyter-widgets/controls",
      "model_module_version": "2.0.0",
      "model_name": "HTMLModel",
      "state": {
       "layout": "IPY_MODEL_428eaeea3fb24dff8351c62d75ac9cdf",
       "style": "IPY_MODEL_3e7834132ce34ee4842731ef5fc01a45",
       "value": "100%"
      }
     },
     "cfd1a07d3d4d4c9b8f64f50d8f610d4e": {
      "model_module": "@jupyter-widgets/base",
      "model_module_version": "2.0.0",
      "model_name": "LayoutModel",
      "state": {}
     },
     "cfe155da4eeb428ca1a852721c026c5b": {
      "model_module": "@jupyter-widgets/base",
      "model_module_version": "2.0.0",
      "model_name": "LayoutModel",
      "state": {}
     },
     "cfe3288f191f4309bc3067c0978ff2e1": {
      "model_module": "@jupyter-widgets/controls",
      "model_module_version": "2.0.0",
      "model_name": "HTMLStyleModel",
      "state": {
       "description_width": "",
       "font_size": null,
       "text_color": null
      }
     },
     "cff8dfbf0aaf4aee889cd0892a194fb7": {
      "model_module": "@jupyter-widgets/base",
      "model_module_version": "2.0.0",
      "model_name": "LayoutModel",
      "state": {}
     },
     "d0104d8c945a4edaa90b6336fa030d1b": {
      "model_module": "@jupyter-widgets/controls",
      "model_module_version": "2.0.0",
      "model_name": "HTMLStyleModel",
      "state": {
       "description_width": "",
       "font_size": null,
       "text_color": null
      }
     },
     "d040205985234141ad33178ccf52423b": {
      "model_module": "@jupyter-widgets/controls",
      "model_module_version": "2.0.0",
      "model_name": "HTMLModel",
      "state": {
       "layout": "IPY_MODEL_08369c66b9a648adbcd43bba4ca739f9",
       "style": "IPY_MODEL_7e221ef443074875a5c52d873841dc06",
       "value": " 630/630 [00:40&lt;00:00, 15.58it/s]"
      }
     },
     "d04771f5fba3491d940a562a3a92fc23": {
      "model_module": "@jupyter-widgets/controls",
      "model_module_version": "2.0.0",
      "model_name": "FloatProgressModel",
      "state": {
       "bar_style": "success",
       "layout": "IPY_MODEL_809609af498645a2b8b3826691136a5c",
       "max": 634,
       "style": "IPY_MODEL_8764f4f8f8a248569c41ca3fdd8e5abc",
       "value": 634
      }
     },
     "d05d444c4e244473b277105b8b1cbdad": {
      "model_module": "@jupyter-widgets/base",
      "model_module_version": "2.0.0",
      "model_name": "LayoutModel",
      "state": {}
     },
     "d0a186b500594c8b8540b46aff8c95b4": {
      "model_module": "@jupyter-widgets/controls",
      "model_module_version": "2.0.0",
      "model_name": "FloatProgressModel",
      "state": {
       "bar_style": "success",
       "layout": "IPY_MODEL_7356f7fa01714948901afbeff1a6cfdc",
       "max": 663,
       "style": "IPY_MODEL_ba39f8fdf3c94a1384832a2509d23f87",
       "value": 663
      }
     },
     "d0c2647495784a84ac3a1035e0e582aa": {
      "model_module": "@jupyter-widgets/base",
      "model_module_version": "2.0.0",
      "model_name": "LayoutModel",
      "state": {}
     },
     "d11c16a5850e4f2088f3f2c2a0ae5f7a": {
      "model_module": "@jupyter-widgets/base",
      "model_module_version": "2.0.0",
      "model_name": "LayoutModel",
      "state": {}
     },
     "d1267726c27247118acd83aa0ec7ea77": {
      "model_module": "@jupyter-widgets/base",
      "model_module_version": "2.0.0",
      "model_name": "LayoutModel",
      "state": {}
     },
     "d12f1cbd4d8747e6b88ca9c05206e2fc": {
      "model_module": "@jupyter-widgets/controls",
      "model_module_version": "2.0.0",
      "model_name": "HTMLModel",
      "state": {
       "layout": "IPY_MODEL_13be7007dfc24d4aac5a3dce35a7d1c6",
       "style": "IPY_MODEL_75398ba7269f4f4c9d09c013a5c31dcf",
       "value": " 0/465 [00:00&lt;?, ?it/s]"
      }
     },
     "d173fc6630d94f0ca9c87780bfd4d264": {
      "model_module": "@jupyter-widgets/base",
      "model_module_version": "2.0.0",
      "model_name": "LayoutModel",
      "state": {}
     },
     "d198b5c3c9fd4923af2b44a6a8be923f": {
      "model_module": "@jupyter-widgets/controls",
      "model_module_version": "2.0.0",
      "model_name": "HTMLModel",
      "state": {
       "layout": "IPY_MODEL_d374e5c60edd4c5fa5aa9194b67512c4",
       "style": "IPY_MODEL_661044a6f8424e108c0cf8179cfb2249",
       "value": " 632/632 [00:00&lt;00:00, 172679.31it/s]"
      }
     },
     "d1996cbaf1974b59abf31d388f5fa8cf": {
      "model_module": "@jupyter-widgets/base",
      "model_module_version": "2.0.0",
      "model_name": "LayoutModel",
      "state": {}
     },
     "d19e54e4a9b84f769d860c52a753ba75": {
      "model_module": "@jupyter-widgets/base",
      "model_module_version": "2.0.0",
      "model_name": "LayoutModel",
      "state": {}
     },
     "d1a0ce6156fd4743bf9d1bc3073e8a19": {
      "model_module": "@jupyter-widgets/controls",
      "model_module_version": "2.0.0",
      "model_name": "ProgressStyleModel",
      "state": {
       "description_width": ""
      }
     },
     "d1a6d7177def436da7f7fbf535fe1646": {
      "model_module": "@jupyter-widgets/controls",
      "model_module_version": "2.0.0",
      "model_name": "HBoxModel",
      "state": {
       "children": [
        "IPY_MODEL_556a3d4741084438ba75317f56cff53e",
        "IPY_MODEL_ad7b860787e44f88b3cf14b7172e8f19",
        "IPY_MODEL_e7a751da98ec4f2489623d62a648ab21"
       ],
       "layout": "IPY_MODEL_076928af9c7b424ea94601820e531bf1"
      }
     },
     "d1c9d917c8d64d589384e5067a85ad4d": {
      "model_module": "@jupyter-widgets/base",
      "model_module_version": "2.0.0",
      "model_name": "LayoutModel",
      "state": {}
     },
     "d2133762242c4bb6b6d5c62613776fed": {
      "model_module": "@jupyter-widgets/controls",
      "model_module_version": "2.0.0",
      "model_name": "HTMLStyleModel",
      "state": {
       "description_width": "",
       "font_size": null,
       "text_color": null
      }
     },
     "d22c45af8edf49c79c086908b3a91446": {
      "model_module": "@jupyter-widgets/controls",
      "model_module_version": "2.0.0",
      "model_name": "ProgressStyleModel",
      "state": {
       "description_width": ""
      }
     },
     "d23e248c7e5f4184a347d053a9d4f5ce": {
      "model_module": "@jupyter-widgets/controls",
      "model_module_version": "2.0.0",
      "model_name": "HTMLStyleModel",
      "state": {
       "description_width": "",
       "font_size": null,
       "text_color": null
      }
     },
     "d240c4450abb4af6b6743da477a5e172": {
      "model_module": "@jupyter-widgets/controls",
      "model_module_version": "2.0.0",
      "model_name": "HTMLStyleModel",
      "state": {
       "description_width": "",
       "font_size": null,
       "text_color": null
      }
     },
     "d2598edfed674499834e69934496e3f3": {
      "model_module": "@jupyter-widgets/controls",
      "model_module_version": "2.0.0",
      "model_name": "FloatProgressModel",
      "state": {
       "bar_style": "success",
       "layout": "IPY_MODEL_bf1af8cf869944a69afaa797fe140e1d",
       "max": 628,
       "style": "IPY_MODEL_c7889259452249b0b5d709ab3fc2926e",
       "value": 628
      }
     },
     "d25e971acafe4f2b9aac6968478de226": {
      "model_module": "@jupyter-widgets/base",
      "model_module_version": "2.0.0",
      "model_name": "LayoutModel",
      "state": {}
     },
     "d26f8600f65f41a2a754ba489bd1fe64": {
      "model_module": "@jupyter-widgets/controls",
      "model_module_version": "2.0.0",
      "model_name": "HBoxModel",
      "state": {
       "children": [
        "IPY_MODEL_f28e7a6e4c7b4324a824f845b986130f",
        "IPY_MODEL_6733406676a14be4aa0dc8976c681195",
        "IPY_MODEL_5922926021284903bc751c10ee451fe7"
       ],
       "layout": "IPY_MODEL_086f2cd247e9434fa2c0cf5706505bab"
      }
     },
     "d2755590204640639a4dd9ec34d44013": {
      "model_module": "@jupyter-widgets/controls",
      "model_module_version": "2.0.0",
      "model_name": "HTMLModel",
      "state": {
       "layout": "IPY_MODEL_c95e7fb4268a4c2b9fd58445fe9368cf",
       "style": "IPY_MODEL_97e2f12dfb874711b7b79bdd97fce589",
       "value": " 663/663 [00:00&lt;00:00, 166029.23it/s]"
      }
     },
     "d27758b4c1144a9fa70c0a3e7758b411": {
      "model_module": "@jupyter-widgets/controls",
      "model_module_version": "2.0.0",
      "model_name": "HTMLStyleModel",
      "state": {
       "description_width": "",
       "font_size": null,
       "text_color": null
      }
     },
     "d29ee9f847b144898fc9d60d3a9d2ee8": {
      "model_module": "@jupyter-widgets/base",
      "model_module_version": "2.0.0",
      "model_name": "LayoutModel",
      "state": {}
     },
     "d2ae960c6f034018860b6af175bd6ae2": {
      "model_module": "@jupyter-widgets/base",
      "model_module_version": "2.0.0",
      "model_name": "LayoutModel",
      "state": {}
     },
     "d2b5691833b44d4f9d162642128a64d2": {
      "model_module": "@jupyter-widgets/controls",
      "model_module_version": "2.0.0",
      "model_name": "HTMLModel",
      "state": {
       "layout": "IPY_MODEL_f8c7d03900a94cbba5570e9cf22abeea",
       "style": "IPY_MODEL_64da9ecd1fee4e77a501d85fe7a3d154",
       "value": "100%"
      }
     },
     "d2bf38b243134f94946d00d2abbe06f9": {
      "model_module": "@jupyter-widgets/controls",
      "model_module_version": "2.0.0",
      "model_name": "HTMLModel",
      "state": {
       "layout": "IPY_MODEL_7f2d0c97882946d692013bd7216808de",
       "style": "IPY_MODEL_a38d30c4b59b435fb9afccd9956e0ac7",
       "value": " 0/1036 [00:00&lt;?, ?it/s]"
      }
     },
     "d2ce7b6201b046dca7f8c482c7656427": {
      "model_module": "@jupyter-widgets/controls",
      "model_module_version": "2.0.0",
      "model_name": "HTMLModel",
      "state": {
       "layout": "IPY_MODEL_b6f9939dfc8c473da303e188e9b11ee4",
       "style": "IPY_MODEL_978dd4ac0e10417db0fd9eac8580935a",
       "value": "100%"
      }
     },
     "d2d79ee40bc242fcb3d48b8f636ae500": {
      "model_module": "@jupyter-widgets/controls",
      "model_module_version": "2.0.0",
      "model_name": "HTMLStyleModel",
      "state": {
       "description_width": "",
       "font_size": null,
       "text_color": null
      }
     },
     "d2d9f6856e2e45fcbb8cd94254a94773": {
      "model_module": "@jupyter-widgets/controls",
      "model_module_version": "2.0.0",
      "model_name": "HTMLStyleModel",
      "state": {
       "description_width": "",
       "font_size": null,
       "text_color": null
      }
     },
     "d2e7edd30b4c4a9f9013e8f5c7bc9be5": {
      "model_module": "@jupyter-widgets/base",
      "model_module_version": "2.0.0",
      "model_name": "LayoutModel",
      "state": {}
     },
     "d304b8fb931645d8b7f0ff5e31fcb21f": {
      "model_module": "@jupyter-widgets/controls",
      "model_module_version": "2.0.0",
      "model_name": "HBoxModel",
      "state": {
       "children": [
        "IPY_MODEL_f1d7c6edef5e4100a1f7d833cf89502b",
        "IPY_MODEL_458a518242b74254b9e36acc51c74409",
        "IPY_MODEL_8931fa009d9f44c0a9a15bbf15e36a1a"
       ],
       "layout": "IPY_MODEL_ccaaa04091f8431cbf00ab3827a77f02"
      }
     },
     "d3340f1b795443b388c066afcc204884": {
      "model_module": "@jupyter-widgets/controls",
      "model_module_version": "2.0.0",
      "model_name": "HBoxModel",
      "state": {
       "children": [
        "IPY_MODEL_058ae4d7f4a84901b9b93f78e237290d",
        "IPY_MODEL_337107edb3cb49f1af0c7c2fd53581cf",
        "IPY_MODEL_a2c888f462694f6ead3fe50a35c4d0db"
       ],
       "layout": "IPY_MODEL_e6703ff390b3435e82e4f4ce032330dd"
      }
     },
     "d374e5c60edd4c5fa5aa9194b67512c4": {
      "model_module": "@jupyter-widgets/base",
      "model_module_version": "2.0.0",
      "model_name": "LayoutModel",
      "state": {}
     },
     "d3aea3fe2a2b46ca8579c24bffee30d5": {
      "model_module": "@jupyter-widgets/controls",
      "model_module_version": "2.0.0",
      "model_name": "HTMLStyleModel",
      "state": {
       "description_width": "",
       "font_size": null,
       "text_color": null
      }
     },
     "d3cea40f57c34a25ad8e0a80d345792c": {
      "model_module": "@jupyter-widgets/controls",
      "model_module_version": "2.0.0",
      "model_name": "HTMLModel",
      "state": {
       "layout": "IPY_MODEL_d173fc6630d94f0ca9c87780bfd4d264",
       "style": "IPY_MODEL_2b92a3161bf3471db16fa52f96f02b4d",
       "value": " 630/630 [00:00&lt;00:00, 168156.52it/s]"
      }
     },
     "d3dc4223cd034985ace24563ad0b2787": {
      "model_module": "@jupyter-widgets/controls",
      "model_module_version": "2.0.0",
      "model_name": "HBoxModel",
      "state": {
       "children": [
        "IPY_MODEL_8ec26c1460b348d5b42b00aac8aba734",
        "IPY_MODEL_e60923314f2048c6865ce860cb2fab8b",
        "IPY_MODEL_ee4b863823a94468af77b18864d02679"
       ],
       "layout": "IPY_MODEL_6566b5ceb90f43be8aaa49461adcdec6"
      }
     },
     "d3f3e45d79104c8e985c7438296de0ca": {
      "model_module": "@jupyter-widgets/controls",
      "model_module_version": "2.0.0",
      "model_name": "HTMLModel",
      "state": {
       "layout": "IPY_MODEL_36ac3a44fb6e4c2dada3a02ea8ec154f",
       "style": "IPY_MODEL_e407e9e26d0e4d69bd1d1e0481ac6958",
       "value": " 344/344 [00:00&lt;00:00, 97259.22it/s]"
      }
     },
     "d4072ed3e93f4e3eb2780ee1123e1f2c": {
      "model_module": "@jupyter-widgets/base",
      "model_module_version": "2.0.0",
      "model_name": "LayoutModel",
      "state": {}
     },
     "d40c34d80a1343cd9e3907700df53659": {
      "model_module": "@jupyter-widgets/controls",
      "model_module_version": "2.0.0",
      "model_name": "FloatProgressModel",
      "state": {
       "bar_style": "danger",
       "layout": "IPY_MODEL_fcb83788e14540128c443f84a3ce53f7",
       "max": 582,
       "style": "IPY_MODEL_84d0445149ec4852bc220c4ec524f772"
      }
     },
     "d434947790e24417b853f8d50f8b9616": {
      "model_module": "@jupyter-widgets/controls",
      "model_module_version": "2.0.0",
      "model_name": "FloatProgressModel",
      "state": {
       "bar_style": "success",
       "layout": "IPY_MODEL_a616a25a94de4d159fc05c790fe894ec",
       "max": 674,
       "style": "IPY_MODEL_9ed2f8acfea747f4b0d0c2246796c875",
       "value": 674
      }
     },
     "d449313198604c1c814827b472be7ec9": {
      "model_module": "@jupyter-widgets/controls",
      "model_module_version": "2.0.0",
      "model_name": "HTMLModel",
      "state": {
       "layout": "IPY_MODEL_003287d87e2b440e98d052d5d14d5a72",
       "style": "IPY_MODEL_dbac6725cdc94f3eb95aba0a3328139c",
       "value": "100%"
      }
     },
     "d46c0cebe47d4540873e48d3e8cc6e54": {
      "model_module": "@jupyter-widgets/base",
      "model_module_version": "2.0.0",
      "model_name": "LayoutModel",
      "state": {}
     },
     "d48734d5900342e9b3817a59f12508b2": {
      "model_module": "@jupyter-widgets/controls",
      "model_module_version": "2.0.0",
      "model_name": "HTMLStyleModel",
      "state": {
       "description_width": "",
       "font_size": null,
       "text_color": null
      }
     },
     "d489397dd2d844c785c88142c98551eb": {
      "model_module": "@jupyter-widgets/controls",
      "model_module_version": "2.0.0",
      "model_name": "FloatProgressModel",
      "state": {
       "bar_style": "success",
       "layout": "IPY_MODEL_2528de8f11e64e029f80060c945fa9d4",
       "max": 420,
       "style": "IPY_MODEL_b1ae38fab28d431981b297452bb7863b",
       "value": 420
      }
     },
     "d4b8be7603924e12bfac4c95cbb6e865": {
      "model_module": "@jupyter-widgets/controls",
      "model_module_version": "2.0.0",
      "model_name": "HTMLStyleModel",
      "state": {
       "description_width": "",
       "font_size": null,
       "text_color": null
      }
     },
     "d4ccd67605094e9a82b9729f19668664": {
      "model_module": "@jupyter-widgets/controls",
      "model_module_version": "2.0.0",
      "model_name": "FloatProgressModel",
      "state": {
       "bar_style": "success",
       "layout": "IPY_MODEL_3442b155085245db8ca15f33df89e97e",
       "max": 516,
       "style": "IPY_MODEL_ae198d3d14e243269120a107cbcfbf5d",
       "value": 516
      }
     },
     "d4e42be4e3e84c02a02f5a2800695f66": {
      "model_module": "@jupyter-widgets/base",
      "model_module_version": "2.0.0",
      "model_name": "LayoutModel",
      "state": {}
     },
     "d4ec531c3d5347819a3c706225957389": {
      "model_module": "@jupyter-widgets/base",
      "model_module_version": "2.0.0",
      "model_name": "LayoutModel",
      "state": {}
     },
     "d50992487be84353bd74be47c79cca67": {
      "model_module": "@jupyter-widgets/base",
      "model_module_version": "2.0.0",
      "model_name": "LayoutModel",
      "state": {}
     },
     "d5198082351846c39d1187dfa78c7bd8": {
      "model_module": "@jupyter-widgets/base",
      "model_module_version": "2.0.0",
      "model_name": "LayoutModel",
      "state": {}
     },
     "d54e74ba66c04c98b2900bc7860201f5": {
      "model_module": "@jupyter-widgets/controls",
      "model_module_version": "2.0.0",
      "model_name": "ProgressStyleModel",
      "state": {
       "description_width": ""
      }
     },
     "d560377c7913468ca5cbf0e1659e8f45": {
      "model_module": "@jupyter-widgets/base",
      "model_module_version": "2.0.0",
      "model_name": "LayoutModel",
      "state": {}
     },
     "d5643946b88343be825f52730fbf8a74": {
      "model_module": "@jupyter-widgets/controls",
      "model_module_version": "2.0.0",
      "model_name": "HTMLModel",
      "state": {
       "layout": "IPY_MODEL_5c11eb59d5ae4a1ca3641e4ee8761b08",
       "style": "IPY_MODEL_4e2fdd06817b4c08be176aa8450eff95",
       "value": "100%"
      }
     },
     "d56d77e6cd044e359fe289fa0352a984": {
      "model_module": "@jupyter-widgets/base",
      "model_module_version": "2.0.0",
      "model_name": "LayoutModel",
      "state": {}
     },
     "d5882bb099b04a6bb79c4d7f74a7471a": {
      "model_module": "@jupyter-widgets/controls",
      "model_module_version": "2.0.0",
      "model_name": "HBoxModel",
      "state": {
       "children": [
        "IPY_MODEL_93f2c7a100274d70b2bc6f0c675a824d",
        "IPY_MODEL_d6b4d8ac825647db8468954e79411076",
        "IPY_MODEL_9660506499424cd49af4e8b918efe039"
       ],
       "layout": "IPY_MODEL_2aa1eae6c8a74584816a29ec16b5b8d1"
      }
     },
     "d5c8d242677d4f17ba2da957626c82d2": {
      "model_module": "@jupyter-widgets/controls",
      "model_module_version": "2.0.0",
      "model_name": "HTMLModel",
      "state": {
       "layout": "IPY_MODEL_598006500ad8486898ba004c63018adf",
       "style": "IPY_MODEL_65735a53d1ff4b739c09c6b72c912c6e",
       "value": " 624/624 [00:00&lt;00:00, 170649.13it/s]"
      }
     },
     "d5cf888602994501aa7470376b99d23f": {
      "model_module": "@jupyter-widgets/controls",
      "model_module_version": "2.0.0",
      "model_name": "FloatProgressModel",
      "state": {
       "bar_style": "success",
       "layout": "IPY_MODEL_69220c85c8244be7b29c2f415a2e8bfb",
       "max": 480,
       "style": "IPY_MODEL_c97b0623a7174f16ad4d050db8e74015",
       "value": 480
      }
     },
     "d5e4d4cbc0b845a192b186dc51501e97": {
      "model_module": "@jupyter-widgets/base",
      "model_module_version": "2.0.0",
      "model_name": "LayoutModel",
      "state": {}
     },
     "d5f24f949de040808e9c3a9feb4adca8": {
      "model_module": "@jupyter-widgets/controls",
      "model_module_version": "2.0.0",
      "model_name": "HTMLModel",
      "state": {
       "layout": "IPY_MODEL_4658edc56eeb4cc49a6dce92cad944b8",
       "style": "IPY_MODEL_8eaec09f5fc7464c9209470addbc4964",
       "value": "  0%"
      }
     },
     "d60b86eb756f47659b4e19be95266661": {
      "model_module": "@jupyter-widgets/base",
      "model_module_version": "2.0.0",
      "model_name": "LayoutModel",
      "state": {}
     },
     "d634ff3095b7471b82b9f278aeed3a17": {
      "model_module": "@jupyter-widgets/controls",
      "model_module_version": "2.0.0",
      "model_name": "HTMLModel",
      "state": {
       "layout": "IPY_MODEL_7f50b81fe6a74e289ad3506d6c45c26b",
       "style": "IPY_MODEL_80a5293ede884b948d8544c9d6a46859",
       "value": " 480/480 [00:00&lt;00:00, 135609.99it/s]"
      }
     },
     "d63dd694e61c4404aa7548c2b44b6cfd": {
      "model_module": "@jupyter-widgets/base",
      "model_module_version": "2.0.0",
      "model_name": "LayoutModel",
      "state": {}
     },
     "d67d66f7120e4643aed176ed23380487": {
      "model_module": "@jupyter-widgets/controls",
      "model_module_version": "2.0.0",
      "model_name": "HTMLStyleModel",
      "state": {
       "description_width": "",
       "font_size": null,
       "text_color": null
      }
     },
     "d67e75a05e4d45d589517ec88bfc8790": {
      "model_module": "@jupyter-widgets/controls",
      "model_module_version": "2.0.0",
      "model_name": "HTMLStyleModel",
      "state": {
       "description_width": "",
       "font_size": null,
       "text_color": null
      }
     },
     "d68fadb17ef249f991c224bd72f2be58": {
      "model_module": "@jupyter-widgets/base",
      "model_module_version": "2.0.0",
      "model_name": "LayoutModel",
      "state": {}
     },
     "d6b4d8ac825647db8468954e79411076": {
      "model_module": "@jupyter-widgets/controls",
      "model_module_version": "2.0.0",
      "model_name": "FloatProgressModel",
      "state": {
       "bar_style": "danger",
       "layout": "IPY_MODEL_4fc08550524245c1a188096520fd90bc",
       "max": 582,
       "style": "IPY_MODEL_77dc7ab65a0e4170a4baad0e875e553d"
      }
     },
     "d6c5f823d24e4b2681557c1e9f8dfac8": {
      "model_module": "@jupyter-widgets/controls",
      "model_module_version": "2.0.0",
      "model_name": "HBoxModel",
      "state": {
       "children": [
        "IPY_MODEL_2f5a23e3cd2547d5b8271d3d3a429fad",
        "IPY_MODEL_a5f3f359580848bdad76cbbc15878e07",
        "IPY_MODEL_0f7cca6f661d46919efc92e5837f5002"
       ],
       "layout": "IPY_MODEL_37d406b0a90b420199263160e0fb64c1"
      }
     },
     "d6c750ad078f4186adc75c329a37e00b": {
      "model_module": "@jupyter-widgets/base",
      "model_module_version": "2.0.0",
      "model_name": "LayoutModel",
      "state": {}
     },
     "d6d06888faa44ad1b4e163f1dbb9b50b": {
      "model_module": "@jupyter-widgets/controls",
      "model_module_version": "2.0.0",
      "model_name": "HTMLStyleModel",
      "state": {
       "description_width": "",
       "font_size": null,
       "text_color": null
      }
     },
     "d6ff669112c44d91aee39323ca2dd196": {
      "model_module": "@jupyter-widgets/controls",
      "model_module_version": "2.0.0",
      "model_name": "HTMLModel",
      "state": {
       "layout": "IPY_MODEL_b8a62c19e86a43f39b508eb953b509d9",
       "style": "IPY_MODEL_157235686d7d4337a20ddf618adf9232",
       "value": " 690/690 [00:00&lt;00:00, 191546.08it/s]"
      }
     },
     "d70bb50e4b7f4141aa1e1911e0e55fa3": {
      "model_module": "@jupyter-widgets/base",
      "model_module_version": "2.0.0",
      "model_name": "LayoutModel",
      "state": {}
     },
     "d70d629f3f454160a5c809ab4d4c1146": {
      "model_module": "@jupyter-widgets/controls",
      "model_module_version": "2.0.0",
      "model_name": "HTMLModel",
      "state": {
       "layout": "IPY_MODEL_a26a616b4fc84a708c528ded8f0b55fe",
       "style": "IPY_MODEL_0c099db8ae5f445ea5688cc6f3e580ee",
       "value": "100%"
      }
     },
     "d727330c344b44feaf58078a36331349": {
      "model_module": "@jupyter-widgets/controls",
      "model_module_version": "2.0.0",
      "model_name": "HTMLStyleModel",
      "state": {
       "description_width": "",
       "font_size": null,
       "text_color": null
      }
     },
     "d72e4af859e64b53a199fd124cf3484c": {
      "model_module": "@jupyter-widgets/controls",
      "model_module_version": "2.0.0",
      "model_name": "HBoxModel",
      "state": {
       "children": [
        "IPY_MODEL_04046889e54b4647bca313a473f9b1b5",
        "IPY_MODEL_821d7bf00b234685969a669ae0c5897a",
        "IPY_MODEL_024b6b9110b24ed18665af5541a27071"
       ],
       "layout": "IPY_MODEL_78e6dfc788fa4b4a8efd8721c31565d3"
      }
     },
     "d732d826dd56449eab060bea7edb0164": {
      "model_module": "@jupyter-widgets/controls",
      "model_module_version": "2.0.0",
      "model_name": "FloatProgressModel",
      "state": {
       "bar_style": "success",
       "layout": "IPY_MODEL_d19e54e4a9b84f769d860c52a753ba75",
       "max": 646,
       "style": "IPY_MODEL_0f5774f29c374df5b6b3a5ef00c731cd",
       "value": 646
      }
     },
     "d73537663862482798c4512e13763b16": {
      "model_module": "@jupyter-widgets/controls",
      "model_module_version": "2.0.0",
      "model_name": "HBoxModel",
      "state": {
       "children": [
        "IPY_MODEL_cd732250ee6a4fe7aa38eb28de761468",
        "IPY_MODEL_ab4dab924c5b45c59058d8114dc955cc",
        "IPY_MODEL_e5a81f9f27b5486bb7f14bd41158f3a3"
       ],
       "layout": "IPY_MODEL_b253438671a941369633bf5c3cd71c58"
      }
     },
     "d7513cd3eb85409495978ba5ac8c6961": {
      "model_module": "@jupyter-widgets/base",
      "model_module_version": "2.0.0",
      "model_name": "LayoutModel",
      "state": {}
     },
     "d77c4e6838c448d7b222039838c4bdbd": {
      "model_module": "@jupyter-widgets/controls",
      "model_module_version": "2.0.0",
      "model_name": "HBoxModel",
      "state": {
       "children": [
        "IPY_MODEL_ee3f030c67f248ae950d0cb39d2f5dfc",
        "IPY_MODEL_5048837c58b44c1c8db1abf21b84761e",
        "IPY_MODEL_de6934d7264a4832af26def1cea39c6e"
       ],
       "layout": "IPY_MODEL_fd27dfd3df7d409099218513f6a23e81"
      }
     },
     "d81a574b6b2c49d091db22cf5460f160": {
      "model_module": "@jupyter-widgets/controls",
      "model_module_version": "2.0.0",
      "model_name": "HTMLModel",
      "state": {
       "layout": "IPY_MODEL_1ab162eb426f47c390b19d30dd156c08",
       "style": "IPY_MODEL_2c7e40309fbd40589bddad428814eab9",
       "value": " 859/859 [00:00&lt;00:00, 221403.99it/s]"
      }
     },
     "d81cb166abc246aeae7f4fd18b3cfc76": {
      "model_module": "@jupyter-widgets/base",
      "model_module_version": "2.0.0",
      "model_name": "LayoutModel",
      "state": {}
     },
     "d8512ddfd8b845fbae0e7dedddaf41f5": {
      "model_module": "@jupyter-widgets/base",
      "model_module_version": "2.0.0",
      "model_name": "LayoutModel",
      "state": {}
     },
     "d85fd180aa574bea95dfcc0d96995cf9": {
      "model_module": "@jupyter-widgets/controls",
      "model_module_version": "2.0.0",
      "model_name": "HTMLModel",
      "state": {
       "layout": "IPY_MODEL_cb7015e07c284f6484ecdcd5b2d654cb",
       "style": "IPY_MODEL_bd6b1c99234345d48e5212d2cd99f729",
       "value": " 0/582 [00:00&lt;?, ?it/s]"
      }
     },
     "d867140ce0b64e77a85056cd95aec8f6": {
      "model_module": "@jupyter-widgets/base",
      "model_module_version": "2.0.0",
      "model_name": "LayoutModel",
      "state": {}
     },
     "d8679094547a4e4ab5be11699a6ed8be": {
      "model_module": "@jupyter-widgets/base",
      "model_module_version": "2.0.0",
      "model_name": "LayoutModel",
      "state": {}
     },
     "d89a24804f30470994a9777666d7a055": {
      "model_module": "@jupyter-widgets/controls",
      "model_module_version": "2.0.0",
      "model_name": "HBoxModel",
      "state": {
       "children": [
        "IPY_MODEL_7b754479c26b48e7a4ad8d03a6aabd73",
        "IPY_MODEL_0f0e3cc9860f46658a0c92e2d379e2ff",
        "IPY_MODEL_444f15360f174966be1e45b32da7aefe"
       ],
       "layout": "IPY_MODEL_e814c4e2492c4efdaadf850a08ae5e63"
      }
     },
     "d89f56e1bfd641c89cd472fe8e8d6788": {
      "model_module": "@jupyter-widgets/base",
      "model_module_version": "2.0.0",
      "model_name": "LayoutModel",
      "state": {}
     },
     "d8aa4d0aa3994c22a2692f181ea5d905": {
      "model_module": "@jupyter-widgets/base",
      "model_module_version": "2.0.0",
      "model_name": "LayoutModel",
      "state": {}
     },
     "d8ed104f28d844b88e3727fc8adef550": {
      "model_module": "@jupyter-widgets/controls",
      "model_module_version": "2.0.0",
      "model_name": "ProgressStyleModel",
      "state": {
       "description_width": ""
      }
     },
     "d8eea4a783cf418584f06eeb736eae5c": {
      "model_module": "@jupyter-widgets/controls",
      "model_module_version": "2.0.0",
      "model_name": "ProgressStyleModel",
      "state": {
       "description_width": ""
      }
     },
     "d93c8e27303d49fca9c16d45ba1849a8": {
      "model_module": "@jupyter-widgets/controls",
      "model_module_version": "2.0.0",
      "model_name": "HTMLModel",
      "state": {
       "layout": "IPY_MODEL_19aadd8dc58f48f1b97c247d5840dc74",
       "style": "IPY_MODEL_0a7a946309b74e3fb67d3e6796542c83",
       "value": "100%"
      }
     },
     "d985612ca7ad40e5a3e7d2b1b3205553": {
      "model_module": "@jupyter-widgets/controls",
      "model_module_version": "2.0.0",
      "model_name": "FloatProgressModel",
      "state": {
       "bar_style": "success",
       "layout": "IPY_MODEL_9bbf73a5041b4ce78b977b611903a257",
       "max": 456,
       "style": "IPY_MODEL_ac1ebe0d6cac4698a2a3da3421e77eaa",
       "value": 456
      }
     },
     "d99b0f8735c04410ae23a2c04d95df5e": {
      "model_module": "@jupyter-widgets/base",
      "model_module_version": "2.0.0",
      "model_name": "LayoutModel",
      "state": {}
     },
     "d9b9ae92f93742c79e03ee46159270bb": {
      "model_module": "@jupyter-widgets/base",
      "model_module_version": "2.0.0",
      "model_name": "LayoutModel",
      "state": {}
     },
     "d9bddadeeaf34a19b5e7f3d12422ad88": {
      "model_module": "@jupyter-widgets/controls",
      "model_module_version": "2.0.0",
      "model_name": "HTMLModel",
      "state": {
       "layout": "IPY_MODEL_d46c0cebe47d4540873e48d3e8cc6e54",
       "style": "IPY_MODEL_6700fca1cdab4bdb87b066174889b83b",
       "value": "100%"
      }
     },
     "d9bdfa1450e04bc7bd788d8297dcc0d9": {
      "model_module": "@jupyter-widgets/base",
      "model_module_version": "2.0.0",
      "model_name": "LayoutModel",
      "state": {}
     },
     "d9e465348ca949e18b9e2c36c31bf27f": {
      "model_module": "@jupyter-widgets/base",
      "model_module_version": "2.0.0",
      "model_name": "LayoutModel",
      "state": {}
     },
     "d9f63f44c4094c36aa1a80232c5b65b0": {
      "model_module": "@jupyter-widgets/controls",
      "model_module_version": "2.0.0",
      "model_name": "HTMLModel",
      "state": {
       "layout": "IPY_MODEL_45fb16e4e7b9465f8bf7c3e0aa70c92d",
       "style": "IPY_MODEL_4f59ef226fff483ca33c96787c50a1b0",
       "value": " 618/618 [00:00&lt;00:00, 161279.24it/s]"
      }
     },
     "d9fccfb55ab04b84879ddb393fcb7b67": {
      "model_module": "@jupyter-widgets/base",
      "model_module_version": "2.0.0",
      "model_name": "LayoutModel",
      "state": {}
     },
     "da040df606fe47678a2e277e2e8876b5": {
      "model_module": "@jupyter-widgets/controls",
      "model_module_version": "2.0.0",
      "model_name": "FloatProgressModel",
      "state": {
       "bar_style": "danger",
       "layout": "IPY_MODEL_e77cec84b4b64b21abf461e49a311578",
       "max": 582,
       "style": "IPY_MODEL_a598ac32380f4c4da766c8861cfd0075"
      }
     },
     "da14005812014ba589cf58d090edf7b7": {
      "model_module": "@jupyter-widgets/base",
      "model_module_version": "2.0.0",
      "model_name": "LayoutModel",
      "state": {}
     },
     "da42a04e6afe46189bfd1d0e936db971": {
      "model_module": "@jupyter-widgets/controls",
      "model_module_version": "2.0.0",
      "model_name": "HTMLStyleModel",
      "state": {
       "description_width": "",
       "font_size": null,
       "text_color": null
      }
     },
     "da4d762dda1c4f9a9b8ba50d574a2df4": {
      "model_module": "@jupyter-widgets/controls",
      "model_module_version": "2.0.0",
      "model_name": "HBoxModel",
      "state": {
       "children": [
        "IPY_MODEL_d93c8e27303d49fca9c16d45ba1849a8",
        "IPY_MODEL_be5bdd9df2f64a94b5e37de2adb22627",
        "IPY_MODEL_aaad041782d34ecfa9daaffe62fa617d"
       ],
       "layout": "IPY_MODEL_548dad2df0534afa8d76ad76a7f2bad4"
      }
     },
     "da59f8f7e92a4f4695091df1611c7a77": {
      "model_module": "@jupyter-widgets/controls",
      "model_module_version": "2.0.0",
      "model_name": "HTMLStyleModel",
      "state": {
       "description_width": "",
       "font_size": null,
       "text_color": null
      }
     },
     "da5f5d1352314531a2c5c6a7ada4a67f": {
      "model_module": "@jupyter-widgets/controls",
      "model_module_version": "2.0.0",
      "model_name": "HBoxModel",
      "state": {
       "children": [
        "IPY_MODEL_70e1a396e3bb4e7c89ecde4e84d71640",
        "IPY_MODEL_771c663164954bd6829666c45dae5d8f",
        "IPY_MODEL_76b33c63443a4fe4ae3c2e5f752598fb"
       ],
       "layout": "IPY_MODEL_03c556684fb4487abce64804dad6d580"
      }
     },
     "da8a0e263abc4f3abbe4ea392d441351": {
      "model_module": "@jupyter-widgets/controls",
      "model_module_version": "2.0.0",
      "model_name": "HTMLModel",
      "state": {
       "layout": "IPY_MODEL_f2d2d17899704d9f8b60595b0d0d5f3d",
       "style": "IPY_MODEL_dd624bf6072147208ee38c2a147724a3",
       "value": " 45%"
      }
     },
     "dac10c5ad37f4870ba4c9634f2ff41db": {
      "model_module": "@jupyter-widgets/base",
      "model_module_version": "2.0.0",
      "model_name": "LayoutModel",
      "state": {}
     },
     "db040a7af44b4a2690e1a80fa6a28296": {
      "model_module": "@jupyter-widgets/base",
      "model_module_version": "2.0.0",
      "model_name": "LayoutModel",
      "state": {}
     },
     "db0a92b8eb2841a6abeaeae64e81b613": {
      "model_module": "@jupyter-widgets/controls",
      "model_module_version": "2.0.0",
      "model_name": "HTMLModel",
      "state": {
       "layout": "IPY_MODEL_d560377c7913468ca5cbf0e1659e8f45",
       "style": "IPY_MODEL_a607cf2d8d274f638529dbf4fb88867b",
       "value": "  0%"
      }
     },
     "db2033c015c9420497777dec77a567a3": {
      "model_module": "@jupyter-widgets/controls",
      "model_module_version": "2.0.0",
      "model_name": "ProgressStyleModel",
      "state": {
       "description_width": ""
      }
     },
     "db3af4648e0e4c93ac3ed50d60489227": {
      "model_module": "@jupyter-widgets/controls",
      "model_module_version": "2.0.0",
      "model_name": "HTMLModel",
      "state": {
       "layout": "IPY_MODEL_66922d8a699d487da59436ede8d2b800",
       "style": "IPY_MODEL_cf8957084eda493aa0891a157cb98d71",
       "value": " 634/634 [00:40&lt;00:00, 15.52it/s]"
      }
     },
     "db515cd0e49543ad9dba9bb1d2ff5a70": {
      "model_module": "@jupyter-widgets/controls",
      "model_module_version": "2.0.0",
      "model_name": "HTMLModel",
      "state": {
       "layout": "IPY_MODEL_a5b923a238e94d4a9cedbb2d85f72ebb",
       "style": "IPY_MODEL_f7f038e793df4b23b06b46569bf0d827",
       "value": " 588/588 [00:00&lt;00:00, 153240.38it/s]"
      }
     },
     "db563b02eff24f928c8e27e2d293cb80": {
      "model_module": "@jupyter-widgets/base",
      "model_module_version": "2.0.0",
      "model_name": "LayoutModel",
      "state": {}
     },
     "db735184e7154cad94032d5cd659c433": {
      "model_module": "@jupyter-widgets/base",
      "model_module_version": "2.0.0",
      "model_name": "LayoutModel",
      "state": {}
     },
     "db7cfeb7b6bb471da1fb44bb1b44df5b": {
      "model_module": "@jupyter-widgets/base",
      "model_module_version": "2.0.0",
      "model_name": "LayoutModel",
      "state": {}
     },
     "dbab83e2f6aa4c88ba663c4ee1119698": {
      "model_module": "@jupyter-widgets/controls",
      "model_module_version": "2.0.0",
      "model_name": "HBoxModel",
      "state": {
       "children": [
        "IPY_MODEL_9b27f76439ad4ef6b15996777a01693b",
        "IPY_MODEL_3006ede41363478fafc34bbe8b54e03c",
        "IPY_MODEL_fc92cb3fd57f4f489ec0147bbdaeb024"
       ],
       "layout": "IPY_MODEL_9b700d1ea94148d79c7c69bdc0347c2b"
      }
     },
     "dbac6725cdc94f3eb95aba0a3328139c": {
      "model_module": "@jupyter-widgets/controls",
      "model_module_version": "2.0.0",
      "model_name": "HTMLStyleModel",
      "state": {
       "description_width": "",
       "font_size": null,
       "text_color": null
      }
     },
     "dbc0764abf7241f48bd73a6a900c3929": {
      "model_module": "@jupyter-widgets/controls",
      "model_module_version": "2.0.0",
      "model_name": "HTMLStyleModel",
      "state": {
       "description_width": "",
       "font_size": null,
       "text_color": null
      }
     },
     "dbc42562cd8e437695648b8bb4483920": {
      "model_module": "@jupyter-widgets/base",
      "model_module_version": "2.0.0",
      "model_name": "LayoutModel",
      "state": {}
     },
     "dbd099941feb4fba876746627099a86a": {
      "model_module": "@jupyter-widgets/controls",
      "model_module_version": "2.0.0",
      "model_name": "HTMLStyleModel",
      "state": {
       "description_width": "",
       "font_size": null,
       "text_color": null
      }
     },
     "dbd65159036448b58c84d12d2129d5d3": {
      "model_module": "@jupyter-widgets/base",
      "model_module_version": "2.0.0",
      "model_name": "LayoutModel",
      "state": {}
     },
     "dbdeb8d636904a11ba06f06369faf886": {
      "model_module": "@jupyter-widgets/controls",
      "model_module_version": "2.0.0",
      "model_name": "HTMLStyleModel",
      "state": {
       "description_width": "",
       "font_size": null,
       "text_color": null
      }
     },
     "dbe595b1d1464b45aa415b51ec393403": {
      "model_module": "@jupyter-widgets/controls",
      "model_module_version": "2.0.0",
      "model_name": "HTMLStyleModel",
      "state": {
       "description_width": "",
       "font_size": null,
       "text_color": null
      }
     },
     "dbfd133b9b7247aa98fddd6dfc9e682e": {
      "model_module": "@jupyter-widgets/base",
      "model_module_version": "2.0.0",
      "model_name": "LayoutModel",
      "state": {}
     },
     "dc03b07bac2a40df9ac9d59cd191bb27": {
      "model_module": "@jupyter-widgets/base",
      "model_module_version": "2.0.0",
      "model_name": "LayoutModel",
      "state": {}
     },
     "dc0ad25f76524b43a2dd0225f9069fb3": {
      "model_module": "@jupyter-widgets/controls",
      "model_module_version": "2.0.0",
      "model_name": "HTMLStyleModel",
      "state": {
       "description_width": "",
       "font_size": null,
       "text_color": null
      }
     },
     "dc0cae0f89c44fd281a406b405085822": {
      "model_module": "@jupyter-widgets/controls",
      "model_module_version": "2.0.0",
      "model_name": "HTMLStyleModel",
      "state": {
       "description_width": "",
       "font_size": null,
       "text_color": null
      }
     },
     "dc101f0c826442fb80b9c5f4b86df82f": {
      "model_module": "@jupyter-widgets/controls",
      "model_module_version": "2.0.0",
      "model_name": "HTMLModel",
      "state": {
       "layout": "IPY_MODEL_78e8baeb84ac43f593ce97e9550a0111",
       "style": "IPY_MODEL_d23e248c7e5f4184a347d053a9d4f5ce",
       "value": " 601/601 [00:00&lt;00:00, 159856.47it/s]"
      }
     },
     "dc1e252bc59742a08815e90380761a6c": {
      "model_module": "@jupyter-widgets/base",
      "model_module_version": "2.0.0",
      "model_name": "LayoutModel",
      "state": {}
     },
     "dc380a98cb81438c949fe27537d038a1": {
      "model_module": "@jupyter-widgets/controls",
      "model_module_version": "2.0.0",
      "model_name": "HTMLStyleModel",
      "state": {
       "description_width": "",
       "font_size": null,
       "text_color": null
      }
     },
     "dc3c1cccf0da400ab5ac9d17cb7b7fc6": {
      "model_module": "@jupyter-widgets/controls",
      "model_module_version": "2.0.0",
      "model_name": "ProgressStyleModel",
      "state": {
       "description_width": ""
      }
     },
     "dc7800454ae24a908513163d9c9fffc7": {
      "model_module": "@jupyter-widgets/base",
      "model_module_version": "2.0.0",
      "model_name": "LayoutModel",
      "state": {}
     },
     "dc93aeeb2caf42baba3ce1443cab9ba1": {
      "model_module": "@jupyter-widgets/base",
      "model_module_version": "2.0.0",
      "model_name": "LayoutModel",
      "state": {}
     },
     "dcb1305eae0f4a49a0aa855699cbbbb2": {
      "model_module": "@jupyter-widgets/controls",
      "model_module_version": "2.0.0",
      "model_name": "HBoxModel",
      "state": {
       "children": [
        "IPY_MODEL_5d4333c2c6b942718ffc85b708350954",
        "IPY_MODEL_b80341acb8a5486f8639affa6f7d38b8",
        "IPY_MODEL_1be0fde5ebb64db49f58783bef676feb"
       ],
       "layout": "IPY_MODEL_f721d2574df240ddbdb1040aaa4595f6"
      }
     },
     "dcb397d4e9154467bfe9a3f66d040dc4": {
      "model_module": "@jupyter-widgets/base",
      "model_module_version": "2.0.0",
      "model_name": "LayoutModel",
      "state": {}
     },
     "dd2e3457481c4d69aafdba32b918e30d": {
      "model_module": "@jupyter-widgets/base",
      "model_module_version": "2.0.0",
      "model_name": "LayoutModel",
      "state": {}
     },
     "dd4b8a67df924e49b40120b934acee50": {
      "model_module": "@jupyter-widgets/controls",
      "model_module_version": "2.0.0",
      "model_name": "HTMLStyleModel",
      "state": {
       "description_width": "",
       "font_size": null,
       "text_color": null
      }
     },
     "dd624bf6072147208ee38c2a147724a3": {
      "model_module": "@jupyter-widgets/controls",
      "model_module_version": "2.0.0",
      "model_name": "HTMLStyleModel",
      "state": {
       "description_width": "",
       "font_size": null,
       "text_color": null
      }
     },
     "dd631387f7fd451fa4cb3ee016990573": {
      "model_module": "@jupyter-widgets/base",
      "model_module_version": "2.0.0",
      "model_name": "LayoutModel",
      "state": {}
     },
     "dd659d8b0c2b4de880c31101907337cd": {
      "model_module": "@jupyter-widgets/controls",
      "model_module_version": "2.0.0",
      "model_name": "ProgressStyleModel",
      "state": {
       "description_width": ""
      }
     },
     "dd6b35262a5a4453820253334bc4fd54": {
      "model_module": "@jupyter-widgets/base",
      "model_module_version": "2.0.0",
      "model_name": "LayoutModel",
      "state": {}
     },
     "dd80474933be42829343f53115a121b7": {
      "model_module": "@jupyter-widgets/controls",
      "model_module_version": "2.0.0",
      "model_name": "FloatProgressModel",
      "state": {
       "bar_style": "success",
       "layout": "IPY_MODEL_5e120cccc8e543959c38f543a9df3565",
       "max": 541,
       "style": "IPY_MODEL_5d23e019caac488ab11706fe88fd5688",
       "value": 541
      }
     },
     "dd8b93d9876f4d19ac068fdc03339257": {
      "model_module": "@jupyter-widgets/controls",
      "model_module_version": "2.0.0",
      "model_name": "HTMLModel",
      "state": {
       "layout": "IPY_MODEL_4360e9e16e794fc1b766015378aae0de",
       "style": "IPY_MODEL_9f4680e9acad42ed97b3608831479583",
       "value": " 625/625 [00:00&lt;00:00, 170057.74it/s]"
      }
     },
     "de035fbef1cc4d448160307f793d35dc": {
      "model_module": "@jupyter-widgets/base",
      "model_module_version": "2.0.0",
      "model_name": "LayoutModel",
      "state": {}
     },
     "de03f22b5e1340be90fd1587e24036fb": {
      "model_module": "@jupyter-widgets/base",
      "model_module_version": "2.0.0",
      "model_name": "LayoutModel",
      "state": {}
     },
     "de2f21a50afb403d8b0ef010ba937d18": {
      "model_module": "@jupyter-widgets/controls",
      "model_module_version": "2.0.0",
      "model_name": "HTMLModel",
      "state": {
       "layout": "IPY_MODEL_cfd1a07d3d4d4c9b8f64f50d8f610d4e",
       "style": "IPY_MODEL_c624782826534a1a8d62d849784336e3",
       "value": "100%"
      }
     },
     "de45359c38ab4ca9a6f5034789ab3804": {
      "model_module": "@jupyter-widgets/base",
      "model_module_version": "2.0.0",
      "model_name": "LayoutModel",
      "state": {}
     },
     "de6934d7264a4832af26def1cea39c6e": {
      "model_module": "@jupyter-widgets/controls",
      "model_module_version": "2.0.0",
      "model_name": "HTMLModel",
      "state": {
       "layout": "IPY_MODEL_63dc3f79ebee43e2bb6e130ca42b673f",
       "style": "IPY_MODEL_de907145b7034d1798ba3a3ebf355493",
       "value": " 625/625 [00:00&lt;00:00, 172519.91it/s]"
      }
     },
     "de794a2c119d4bf1b39473a8ffa127ac": {
      "model_module": "@jupyter-widgets/controls",
      "model_module_version": "2.0.0",
      "model_name": "HTMLStyleModel",
      "state": {
       "description_width": "",
       "font_size": null,
       "text_color": null
      }
     },
     "de8123ce74564bf39eeae17a618f295e": {
      "model_module": "@jupyter-widgets/base",
      "model_module_version": "2.0.0",
      "model_name": "LayoutModel",
      "state": {}
     },
     "de85d78e64664e63a0f32395a6f84572": {
      "model_module": "@jupyter-widgets/base",
      "model_module_version": "2.0.0",
      "model_name": "LayoutModel",
      "state": {}
     },
     "de8fe5d90c114f72a876c42242713760": {
      "model_module": "@jupyter-widgets/base",
      "model_module_version": "2.0.0",
      "model_name": "LayoutModel",
      "state": {}
     },
     "de907145b7034d1798ba3a3ebf355493": {
      "model_module": "@jupyter-widgets/controls",
      "model_module_version": "2.0.0",
      "model_name": "HTMLStyleModel",
      "state": {
       "description_width": "",
       "font_size": null,
       "text_color": null
      }
     },
     "def83d114ad940d285d6b7ebd71bb745": {
      "model_module": "@jupyter-widgets/controls",
      "model_module_version": "2.0.0",
      "model_name": "HBoxModel",
      "state": {
       "children": [
        "IPY_MODEL_841937f396d04d399490bb482376c541",
        "IPY_MODEL_368fcf6269594d1f9a2421ac99f139c7",
        "IPY_MODEL_1c6da25a6228498aa14d119b5a5f094f"
       ],
       "layout": "IPY_MODEL_7543a96193cf4eb7b7e497d2f1029ce5"
      }
     },
     "df07134ed33547fe96966619360e3a82": {
      "model_module": "@jupyter-widgets/controls",
      "model_module_version": "2.0.0",
      "model_name": "FloatProgressModel",
      "state": {
       "bar_style": "success",
       "layout": "IPY_MODEL_13d01a817c9148f8804843030df81f47",
       "max": 859,
       "style": "IPY_MODEL_96ace5dd289f47ffa0d2ce53654c0dff",
       "value": 859
      }
     },
     "df12a341545f4238a1dff94bac7ed06a": {
      "model_module": "@jupyter-widgets/controls",
      "model_module_version": "2.0.0",
      "model_name": "HTMLModel",
      "state": {
       "layout": "IPY_MODEL_422bf67ee3174da9b3b55152b297296a",
       "style": "IPY_MODEL_dc0ad25f76524b43a2dd0225f9069fb3",
       "value": " 542/542 [00:35&lt;00:00, 15.54it/s]"
      }
     },
     "df42f36d47914d779df05e8181103a83": {
      "model_module": "@jupyter-widgets/controls",
      "model_module_version": "2.0.0",
      "model_name": "HTMLModel",
      "state": {
       "layout": "IPY_MODEL_c11fc2fbc9534c59823386b15fac34e5",
       "style": "IPY_MODEL_75091b10024940bf941dadb611847eaf",
       "value": " 0/582 [00:00&lt;?, ?it/s]"
      }
     },
     "dfcfdce6d1764ef392c3b5ff3aa0a44f": {
      "model_module": "@jupyter-widgets/base",
      "model_module_version": "2.0.0",
      "model_name": "LayoutModel",
      "state": {}
     },
     "dffc5d6a3fc3442cb2ea434fc916a507": {
      "model_module": "@jupyter-widgets/controls",
      "model_module_version": "2.0.0",
      "model_name": "HTMLStyleModel",
      "state": {
       "description_width": "",
       "font_size": null,
       "text_color": null
      }
     },
     "e03931d849fd48e29d2eb277d6cf189c": {
      "model_module": "@jupyter-widgets/controls",
      "model_module_version": "2.0.0",
      "model_name": "FloatProgressModel",
      "state": {
       "bar_style": "success",
       "layout": "IPY_MODEL_c594a7f59c1d432ca68275120efd8cd0",
       "max": 632,
       "style": "IPY_MODEL_281db1562a4e4846a16bba01930af34f",
       "value": 632
      }
     },
     "e0720851729d4f1d8084e4a5cc1b4995": {
      "model_module": "@jupyter-widgets/controls",
      "model_module_version": "2.0.0",
      "model_name": "HBoxModel",
      "state": {
       "children": [
        "IPY_MODEL_22a321aaba604c00a6c5159c3cad0f2a",
        "IPY_MODEL_6b571f1a46a349c6b9deb5525bae4db8",
        "IPY_MODEL_5e63bdee9bdd4fcdafec4e9a55261229"
       ],
       "layout": "IPY_MODEL_cb0a471df04d466191a668c7fdf69f2f"
      }
     },
     "e0d64706b94a452d8cf605c8cc7c00d2": {
      "model_module": "@jupyter-widgets/controls",
      "model_module_version": "2.0.0",
      "model_name": "HTMLModel",
      "state": {
       "layout": "IPY_MODEL_1f91b8edca344f589db25f909e5ecfe9",
       "style": "IPY_MODEL_535515e0f3d54841a271fa5c2c67cd52",
       "value": " 593/593 [00:00&lt;00:00, 164967.98it/s]"
      }
     },
     "e0e0e9737b1f4c2f8dac5442f5c03a9f": {
      "model_module": "@jupyter-widgets/base",
      "model_module_version": "2.0.0",
      "model_name": "LayoutModel",
      "state": {}
     },
     "e0fd170e10ad405ab16fc6415f7469a3": {
      "model_module": "@jupyter-widgets/base",
      "model_module_version": "2.0.0",
      "model_name": "LayoutModel",
      "state": {}
     },
     "e167e472764845c69f1f7e939f005c5c": {
      "model_module": "@jupyter-widgets/base",
      "model_module_version": "2.0.0",
      "model_name": "LayoutModel",
      "state": {}
     },
     "e1688f26e9454de1a5724294ebcccad3": {
      "model_module": "@jupyter-widgets/base",
      "model_module_version": "2.0.0",
      "model_name": "LayoutModel",
      "state": {}
     },
     "e17107d8e4504b17a23df0ce7eb2481b": {
      "model_module": "@jupyter-widgets/controls",
      "model_module_version": "2.0.0",
      "model_name": "ProgressStyleModel",
      "state": {
       "description_width": ""
      }
     },
     "e17500078cdb49bdb6abd6a8fbc0c819": {
      "model_module": "@jupyter-widgets/base",
      "model_module_version": "2.0.0",
      "model_name": "LayoutModel",
      "state": {}
     },
     "e17caa1e90444469a529c782f74c6f44": {
      "model_module": "@jupyter-widgets/controls",
      "model_module_version": "2.0.0",
      "model_name": "HBoxModel",
      "state": {
       "children": [
        "IPY_MODEL_a564e012aede49bf946d889d00fe3bca",
        "IPY_MODEL_34806909b1f5411ca8dfc74f00b86f6a",
        "IPY_MODEL_8108b41f57364dedbcdfb7fdd951038c"
       ],
       "layout": "IPY_MODEL_19d7a4b484364adda7be98dde66b09cc"
      }
     },
     "e17f097631a548f5bc4018eddfc35939": {
      "model_module": "@jupyter-widgets/controls",
      "model_module_version": "2.0.0",
      "model_name": "HTMLModel",
      "state": {
       "layout": "IPY_MODEL_2533aabba07c4d1293f0ba3a7e6db0f2",
       "style": "IPY_MODEL_dc380a98cb81438c949fe27537d038a1",
       "value": " 609/609 [00:39&lt;00:00, 15.45it/s]"
      }
     },
     "e19afe059d2b4b009c78ab1334470ec8": {
      "model_module": "@jupyter-widgets/controls",
      "model_module_version": "2.0.0",
      "model_name": "HTMLModel",
      "state": {
       "layout": "IPY_MODEL_a7ff8980b84148c6a933698867c9b696",
       "style": "IPY_MODEL_58465f481fee47a1ae4573fb4df1ca1e",
       "value": "  0%"
      }
     },
     "e19da4e5f64c4f958e1f6c3e70b60e61": {
      "model_module": "@jupyter-widgets/controls",
      "model_module_version": "2.0.0",
      "model_name": "FloatProgressModel",
      "state": {
       "bar_style": "success",
       "layout": "IPY_MODEL_d60b86eb756f47659b4e19be95266661",
       "max": 651,
       "style": "IPY_MODEL_5b0ffed7883c41088fa0c81ba1b5275b",
       "value": 651
      }
     },
     "e1e1084ef59d4d2fb2cd2a3bdac08e5c": {
      "model_module": "@jupyter-widgets/controls",
      "model_module_version": "2.0.0",
      "model_name": "HTMLModel",
      "state": {
       "layout": "IPY_MODEL_92565c520dc34ffbac4f6b8a7d648f4a",
       "style": "IPY_MODEL_b501d2f32888405a8471b5dd40606821",
       "value": "100%"
      }
     },
     "e23acb3f37ef4dfca365ad2af5f955fb": {
      "model_module": "@jupyter-widgets/controls",
      "model_module_version": "2.0.0",
      "model_name": "HBoxModel",
      "state": {
       "children": [
        "IPY_MODEL_4fc8f65aca1b4161b4d376dd58b736f0",
        "IPY_MODEL_276a62273b354c6b9fc7e20ba3b86dfb",
        "IPY_MODEL_2cb271bcb1574a6fa2774650449e6be1"
       ],
       "layout": "IPY_MODEL_c54ead1f3a454cd6883a3da574946d5e"
      }
     },
     "e294aa894eba4a7e8c64e5bfe6c5413a": {
      "model_module": "@jupyter-widgets/controls",
      "model_module_version": "2.0.0",
      "model_name": "HTMLStyleModel",
      "state": {
       "description_width": "",
       "font_size": null,
       "text_color": null
      }
     },
     "e2a62f33bfde4a89b6188a7cf8d7fca6": {
      "model_module": "@jupyter-widgets/base",
      "model_module_version": "2.0.0",
      "model_name": "LayoutModel",
      "state": {}
     },
     "e2cadaa7577843738bf69a6b2c402a4d": {
      "model_module": "@jupyter-widgets/controls",
      "model_module_version": "2.0.0",
      "model_name": "HTMLModel",
      "state": {
       "layout": "IPY_MODEL_ecc1911da40d4fb8bcc8ea335cf920e3",
       "style": "IPY_MODEL_c6b430d4b53d4a78afc6cf608be40956",
       "value": " 650/650 [00:00&lt;00:00, 162057.75it/s]"
      }
     },
     "e2cf204a45534a148e5c08e83992a621": {
      "model_module": "@jupyter-widgets/controls",
      "model_module_version": "2.0.0",
      "model_name": "HBoxModel",
      "state": {
       "children": [
        "IPY_MODEL_80b96fc8c1654add9233f416883aac56",
        "IPY_MODEL_15124e9c1d64435694e040e3316ecc5b",
        "IPY_MODEL_78e9aa30d01b4586ac52afdbf8032ab0"
       ],
       "layout": "IPY_MODEL_64404292c566495badb90691875ce377"
      }
     },
     "e323924748444be5aed90ecdb8b7f7ae": {
      "model_module": "@jupyter-widgets/base",
      "model_module_version": "2.0.0",
      "model_name": "LayoutModel",
      "state": {}
     },
     "e341d816d8a9429d8c8dfaea7177d6cd": {
      "model_module": "@jupyter-widgets/controls",
      "model_module_version": "2.0.0",
      "model_name": "HTMLModel",
      "state": {
       "layout": "IPY_MODEL_9e06475d45674291b1fde2cd2b2275f4",
       "style": "IPY_MODEL_ff30bc6c73f7470997c001e7f943f98f",
       "value": " 468/468 [00:00&lt;00:00, 131054.50it/s]"
      }
     },
     "e34e7b44483140fcac8880b2194f0a99": {
      "model_module": "@jupyter-widgets/controls",
      "model_module_version": "2.0.0",
      "model_name": "HTMLStyleModel",
      "state": {
       "description_width": "",
       "font_size": null,
       "text_color": null
      }
     },
     "e3539701900148fea476d2a0c3efe1cf": {
      "model_module": "@jupyter-widgets/controls",
      "model_module_version": "2.0.0",
      "model_name": "ProgressStyleModel",
      "state": {
       "description_width": ""
      }
     },
     "e36d25b788924b4b9e4463a722314031": {
      "model_module": "@jupyter-widgets/controls",
      "model_module_version": "2.0.0",
      "model_name": "HTMLStyleModel",
      "state": {
       "description_width": "",
       "font_size": null,
       "text_color": null
      }
     },
     "e370c641df8248ccbc8571481cb4cc1b": {
      "model_module": "@jupyter-widgets/controls",
      "model_module_version": "2.0.0",
      "model_name": "FloatProgressModel",
      "state": {
       "bar_style": "success",
       "layout": "IPY_MODEL_351e4d10417643b99d3ed5030fa8e731",
       "max": 492,
       "style": "IPY_MODEL_7cda229a6344407bbbe26c569cbcbc8f",
       "value": 492
      }
     },
     "e38177ad1ecc4063b2f9545608feaaf6": {
      "model_module": "@jupyter-widgets/controls",
      "model_module_version": "2.0.0",
      "model_name": "ProgressStyleModel",
      "state": {
       "description_width": ""
      }
     },
     "e38c68877db041b4aefa6c49dacc6d6c": {
      "model_module": "@jupyter-widgets/base",
      "model_module_version": "2.0.0",
      "model_name": "LayoutModel",
      "state": {}
     },
     "e394e0160a594d4eaf627bbdb0da5f35": {
      "model_module": "@jupyter-widgets/controls",
      "model_module_version": "2.0.0",
      "model_name": "ProgressStyleModel",
      "state": {
       "description_width": ""
      }
     },
     "e3e30943eed845a7948f8aa27e7b54ed": {
      "model_module": "@jupyter-widgets/base",
      "model_module_version": "2.0.0",
      "model_name": "LayoutModel",
      "state": {}
     },
     "e3f7aea6a754421099bb87c460d3e1f3": {
      "model_module": "@jupyter-widgets/base",
      "model_module_version": "2.0.0",
      "model_name": "LayoutModel",
      "state": {}
     },
     "e407e9e26d0e4d69bd1d1e0481ac6958": {
      "model_module": "@jupyter-widgets/controls",
      "model_module_version": "2.0.0",
      "model_name": "HTMLStyleModel",
      "state": {
       "description_width": "",
       "font_size": null,
       "text_color": null
      }
     },
     "e442d3fb661c491dba064b24e8eb3646": {
      "model_module": "@jupyter-widgets/base",
      "model_module_version": "2.0.0",
      "model_name": "LayoutModel",
      "state": {}
     },
     "e45a48788c774109b39522459397550c": {
      "model_module": "@jupyter-widgets/controls",
      "model_module_version": "2.0.0",
      "model_name": "HTMLModel",
      "state": {
       "layout": "IPY_MODEL_0d02a0920fe647b59110c31f7a40a4be",
       "style": "IPY_MODEL_665ecd6667204fdd8a7a372a3c0e5acb",
       "value": " 344/344 [00:23&lt;00:00, 15.20it/s]"
      }
     },
     "e48f7f20ddd34462a7e22cb46f52a957": {
      "model_module": "@jupyter-widgets/base",
      "model_module_version": "2.0.0",
      "model_name": "LayoutModel",
      "state": {}
     },
     "e4ca2def26af4de3be2186cd64bc04d8": {
      "model_module": "@jupyter-widgets/base",
      "model_module_version": "2.0.0",
      "model_name": "LayoutModel",
      "state": {}
     },
     "e4df5c720fde4d84b69375d444a5e102": {
      "model_module": "@jupyter-widgets/controls",
      "model_module_version": "2.0.0",
      "model_name": "FloatProgressModel",
      "state": {
       "bar_style": "danger",
       "layout": "IPY_MODEL_b92c917165874c8c87b9cc1f3c548a19",
       "max": 582,
       "style": "IPY_MODEL_8127eb8116054efebb39ec884d3fed6d"
      }
     },
     "e4e753fc2e5045e9a4515e3deb933a74": {
      "model_module": "@jupyter-widgets/controls",
      "model_module_version": "2.0.0",
      "model_name": "HTMLStyleModel",
      "state": {
       "description_width": "",
       "font_size": null,
       "text_color": null
      }
     },
     "e5224ad2581e42488d2c0e3f4e43bb77": {
      "model_module": "@jupyter-widgets/controls",
      "model_module_version": "2.0.0",
      "model_name": "HTMLStyleModel",
      "state": {
       "description_width": "",
       "font_size": null,
       "text_color": null
      }
     },
     "e54a3ec1af5249809e512c63761fc3bf": {
      "model_module": "@jupyter-widgets/controls",
      "model_module_version": "2.0.0",
      "model_name": "HBoxModel",
      "state": {
       "children": [
        "IPY_MODEL_510a3a5a34e943308941dce56502e63e",
        "IPY_MODEL_0c065bba2ae7467584e483d99e4591f0",
        "IPY_MODEL_6b10bfb6cfbe47c3a32da00b4915cd67"
       ],
       "layout": "IPY_MODEL_1ebe6dc143184f6cb78fe7431bff65f7"
      }
     },
     "e556931ac7e24ec9ac736407af29d4b2": {
      "model_module": "@jupyter-widgets/base",
      "model_module_version": "2.0.0",
      "model_name": "LayoutModel",
      "state": {}
     },
     "e557da4bd47b4aa6bee31266422bba5f": {
      "model_module": "@jupyter-widgets/controls",
      "model_module_version": "2.0.0",
      "model_name": "HTMLModel",
      "state": {
       "layout": "IPY_MODEL_37efc2c473284a7da6a546a82a456cd3",
       "style": "IPY_MODEL_ac966d08d2af493f800f49e81999e068",
       "value": "100%"
      }
     },
     "e58e2d51440f4c08a4623a5d6ccd8b7f": {
      "model_module": "@jupyter-widgets/base",
      "model_module_version": "2.0.0",
      "model_name": "LayoutModel",
      "state": {}
     },
     "e591400a3b3547568e83a4ad084bf48b": {
      "model_module": "@jupyter-widgets/base",
      "model_module_version": "2.0.0",
      "model_name": "LayoutModel",
      "state": {}
     },
     "e5a81f9f27b5486bb7f14bd41158f3a3": {
      "model_module": "@jupyter-widgets/controls",
      "model_module_version": "2.0.0",
      "model_name": "HTMLModel",
      "state": {
       "layout": "IPY_MODEL_5f2236e611af4da8a44b4b635373dec8",
       "style": "IPY_MODEL_9b9fd813f6c24df4b90d841edadbaf00",
       "value": " 480/480 [00:31&lt;00:00, 15.42it/s]"
      }
     },
     "e5cb06eb1c454835837c51000ecc4b63": {
      "model_module": "@jupyter-widgets/base",
      "model_module_version": "2.0.0",
      "model_name": "LayoutModel",
      "state": {}
     },
     "e5fdeecbf55344ec89570a157b7dd58e": {
      "model_module": "@jupyter-widgets/base",
      "model_module_version": "2.0.0",
      "model_name": "LayoutModel",
      "state": {}
     },
     "e60923314f2048c6865ce860cb2fab8b": {
      "model_module": "@jupyter-widgets/controls",
      "model_module_version": "2.0.0",
      "model_name": "FloatProgressModel",
      "state": {
       "bar_style": "success",
       "layout": "IPY_MODEL_57166da7911a4d26886d73752f3acc00",
       "max": 541,
       "style": "IPY_MODEL_8b3c6495b1db41b1b723ea6ccc5b38b9",
       "value": 541
      }
     },
     "e6703ff390b3435e82e4f4ce032330dd": {
      "model_module": "@jupyter-widgets/base",
      "model_module_version": "2.0.0",
      "model_name": "LayoutModel",
      "state": {}
     },
     "e6e4c52557f34d32a35fa55be7f854b3": {
      "model_module": "@jupyter-widgets/controls",
      "model_module_version": "2.0.0",
      "model_name": "HTMLModel",
      "state": {
       "layout": "IPY_MODEL_392d4a2cd1ba487f81fc7e18508ae645",
       "style": "IPY_MODEL_6b486609702f4ecea41853406a88abc5",
       "value": " 637/637 [00:00&lt;00:00, 177821.74it/s]"
      }
     },
     "e7201c78cc39466185ea2dcdaa5985ca": {
      "model_module": "@jupyter-widgets/controls",
      "model_module_version": "2.0.0",
      "model_name": "HBoxModel",
      "state": {
       "children": [
        "IPY_MODEL_4d54e6652ea5419e975d0903789e8ca1",
        "IPY_MODEL_8a4f77fd2ab94acf9bbfa1b07524ffb5",
        "IPY_MODEL_3d2b72457c5645669fd403d61c4f3bc5"
       ],
       "layout": "IPY_MODEL_da14005812014ba589cf58d090edf7b7"
      }
     },
     "e73bc6b0cbad4e3195dc37d8dddf7e1c": {
      "model_module": "@jupyter-widgets/controls",
      "model_module_version": "2.0.0",
      "model_name": "HTMLStyleModel",
      "state": {
       "description_width": "",
       "font_size": null,
       "text_color": null
      }
     },
     "e75f7eb028484a6393e05688b38a4c93": {
      "model_module": "@jupyter-widgets/controls",
      "model_module_version": "2.0.0",
      "model_name": "HTMLStyleModel",
      "state": {
       "description_width": "",
       "font_size": null,
       "text_color": null
      }
     },
     "e7771cff687a4534b4a37bede6219577": {
      "model_module": "@jupyter-widgets/controls",
      "model_module_version": "2.0.0",
      "model_name": "ProgressStyleModel",
      "state": {
       "description_width": ""
      }
     },
     "e77cec84b4b64b21abf461e49a311578": {
      "model_module": "@jupyter-widgets/base",
      "model_module_version": "2.0.0",
      "model_name": "LayoutModel",
      "state": {}
     },
     "e7a110b3fd454758ab755c8eb7c6784b": {
      "model_module": "@jupyter-widgets/base",
      "model_module_version": "2.0.0",
      "model_name": "LayoutModel",
      "state": {}
     },
     "e7a5c1519a3446a48c8ac51e90abeb04": {
      "model_module": "@jupyter-widgets/controls",
      "model_module_version": "2.0.0",
      "model_name": "HTMLModel",
      "state": {
       "layout": "IPY_MODEL_b5fe43e7247042dfad286fe680a802f6",
       "style": "IPY_MODEL_f3b2984976f14855800ff2a5514d7184",
       "value": "100%"
      }
     },
     "e7a751da98ec4f2489623d62a648ab21": {
      "model_module": "@jupyter-widgets/controls",
      "model_module_version": "2.0.0",
      "model_name": "HTMLModel",
      "state": {
       "layout": "IPY_MODEL_60bd698fd5bd405bb81a53b56ca49c23",
       "style": "IPY_MODEL_8437c1d16f2d4701b6ac66007d155f2f",
       "value": " 437/437 [00:00&lt;00:00, 122849.25it/s]"
      }
     },
     "e7c15284dc31489dad39b1c0e84968c6": {
      "model_module": "@jupyter-widgets/controls",
      "model_module_version": "2.0.0",
      "model_name": "HTMLStyleModel",
      "state": {
       "description_width": "",
       "font_size": null,
       "text_color": null
      }
     },
     "e7d71d0d197e4024aa3766ae1929606d": {
      "model_module": "@jupyter-widgets/base",
      "model_module_version": "2.0.0",
      "model_name": "LayoutModel",
      "state": {}
     },
     "e814c4e2492c4efdaadf850a08ae5e63": {
      "model_module": "@jupyter-widgets/base",
      "model_module_version": "2.0.0",
      "model_name": "LayoutModel",
      "state": {}
     },
     "e817384d503f41c89311c81495380d37": {
      "model_module": "@jupyter-widgets/controls",
      "model_module_version": "2.0.0",
      "model_name": "HTMLModel",
      "state": {
       "layout": "IPY_MODEL_6caa96a0acd84c1dabf7a6bf821a6f94",
       "style": "IPY_MODEL_c8cedc48a9fd481bba3c167372888420",
       "value": "100%"
      }
     },
     "e830a32dcb02462ea4f7dbd14e5b5b7e": {
      "model_module": "@jupyter-widgets/controls",
      "model_module_version": "2.0.0",
      "model_name": "HTMLModel",
      "state": {
       "layout": "IPY_MODEL_3739a05f333e4d9bb5eb39c12e928b4e",
       "style": "IPY_MODEL_b5383a6e9b2f4c1d9c8af5587ccc2d3e",
       "value": " 700/700 [00:00&lt;00:00, 194270.68it/s]"
      }
     },
     "e84f3f4f21064f789db9ecfe333cf46d": {
      "model_module": "@jupyter-widgets/base",
      "model_module_version": "2.0.0",
      "model_name": "LayoutModel",
      "state": {}
     },
     "e8a45b728ba54d749afc25f1dd07f636": {
      "model_module": "@jupyter-widgets/base",
      "model_module_version": "2.0.0",
      "model_name": "LayoutModel",
      "state": {}
     },
     "e8ca3018658c4856be3647b6c5f8cbb3": {
      "model_module": "@jupyter-widgets/base",
      "model_module_version": "2.0.0",
      "model_name": "LayoutModel",
      "state": {}
     },
     "e8cdf65f553c445791df4d1bc0d56e8a": {
      "model_module": "@jupyter-widgets/base",
      "model_module_version": "2.0.0",
      "model_name": "LayoutModel",
      "state": {}
     },
     "e8e813fd15f6442185ba74496454c4bd": {
      "model_module": "@jupyter-widgets/base",
      "model_module_version": "2.0.0",
      "model_name": "LayoutModel",
      "state": {}
     },
     "e9148f40d0bc4f4eb6d052bc72f21684": {
      "model_module": "@jupyter-widgets/base",
      "model_module_version": "2.0.0",
      "model_name": "LayoutModel",
      "state": {}
     },
     "e92d426f33eb4f4c86153a03654943a5": {
      "model_module": "@jupyter-widgets/controls",
      "model_module_version": "2.0.0",
      "model_name": "FloatProgressModel",
      "state": {
       "bar_style": "success",
       "layout": "IPY_MODEL_c0da5da448c842f0993fcfc5fe9cd368",
       "max": 632,
       "style": "IPY_MODEL_3c1ba0af6842412bb2dc64c709d736c8",
       "value": 632
      }
     },
     "e948f2d00a9a4847a9190d5d79efd7e6": {
      "model_module": "@jupyter-widgets/controls",
      "model_module_version": "2.0.0",
      "model_name": "HTMLModel",
      "state": {
       "layout": "IPY_MODEL_008f7b31a22841f0abdf191db0c6fc4f",
       "style": "IPY_MODEL_4041c8204e12400dabf012736f882207",
       "value": "  0%"
      }
     },
     "e955d55d69cf4eab9c59eb624b37d9bf": {
      "model_module": "@jupyter-widgets/base",
      "model_module_version": "2.0.0",
      "model_name": "LayoutModel",
      "state": {}
     },
     "e9760c3eab7c411a8428043bdd3f0b3b": {
      "model_module": "@jupyter-widgets/controls",
      "model_module_version": "2.0.0",
      "model_name": "HTMLStyleModel",
      "state": {
       "description_width": "",
       "font_size": null,
       "text_color": null
      }
     },
     "e99ebcb4806d46bda192ab88f2c741cb": {
      "model_module": "@jupyter-widgets/controls",
      "model_module_version": "2.0.0",
      "model_name": "FloatProgressModel",
      "state": {
       "bar_style": "success",
       "layout": "IPY_MODEL_166b8f1ebdd84d5cbb5176d1afe5de34",
       "max": 456,
       "style": "IPY_MODEL_2a074a5c68194e47b9cea28bedf1afd4",
       "value": 456
      }
     },
     "e9b140a88462499eb467f51a18e48284": {
      "model_module": "@jupyter-widgets/controls",
      "model_module_version": "2.0.0",
      "model_name": "HTMLStyleModel",
      "state": {
       "description_width": "",
       "font_size": null,
       "text_color": null
      }
     },
     "ea7d53b5dd2449bfa6efe0f064d50f7d": {
      "model_module": "@jupyter-widgets/controls",
      "model_module_version": "2.0.0",
      "model_name": "HBoxModel",
      "state": {
       "children": [
        "IPY_MODEL_37b5b26a360647888ebc341e1ddd205a",
        "IPY_MODEL_cd9418e5662f41d993c1fbddc9c4f4fb",
        "IPY_MODEL_d9f63f44c4094c36aa1a80232c5b65b0"
       ],
       "layout": "IPY_MODEL_76d5c97f031944949dfd6714a5f65a32"
      }
     },
     "ea80ea7466e04685bbbc4ad3a9fa55eb": {
      "model_module": "@jupyter-widgets/controls",
      "model_module_version": "2.0.0",
      "model_name": "HTMLModel",
      "state": {
       "layout": "IPY_MODEL_9dd9b45976f9425183e2fc8aacd1b8af",
       "style": "IPY_MODEL_ccf588662288416ab104f96cdafb0423",
       "value": " 653/653 [00:00&lt;00:00, 179222.65it/s]"
      }
     },
     "ea8c73b0865d4b3f844d30ea21411d18": {
      "model_module": "@jupyter-widgets/base",
      "model_module_version": "2.0.0",
      "model_name": "LayoutModel",
      "state": {}
     },
     "eaeb764ea68842a8865309b2bcff64e3": {
      "model_module": "@jupyter-widgets/controls",
      "model_module_version": "2.0.0",
      "model_name": "HTMLModel",
      "state": {
       "layout": "IPY_MODEL_b4753bcb45f34cca858ca506cfefa543",
       "style": "IPY_MODEL_938693a91c5c402eb47b95f8a79d195e",
       "value": " 707/707 [00:00&lt;00:00, 196460.38it/s]"
      }
     },
     "eb58eb3b1aef48249a6ccdc8a0438ad1": {
      "model_module": "@jupyter-widgets/controls",
      "model_module_version": "2.0.0",
      "model_name": "HTMLModel",
      "state": {
       "layout": "IPY_MODEL_4e0e42be343a4cf0b3ed356d9838f9b6",
       "style": "IPY_MODEL_4cc3ed8bb4e243769c41db0c92b41f0d",
       "value": "100%"
      }
     },
     "ec2c2531e08147bcbede53eaf3c609ae": {
      "model_module": "@jupyter-widgets/base",
      "model_module_version": "2.0.0",
      "model_name": "LayoutModel",
      "state": {}
     },
     "ec2f7b6550f048ab92d800c87533665b": {
      "model_module": "@jupyter-widgets/controls",
      "model_module_version": "2.0.0",
      "model_name": "ProgressStyleModel",
      "state": {
       "description_width": ""
      }
     },
     "ec694de3ccfb4324a3a55a6e86773dbe": {
      "model_module": "@jupyter-widgets/controls",
      "model_module_version": "2.0.0",
      "model_name": "ProgressStyleModel",
      "state": {
       "description_width": ""
      }
     },
     "ecc1911da40d4fb8bcc8ea335cf920e3": {
      "model_module": "@jupyter-widgets/base",
      "model_module_version": "2.0.0",
      "model_name": "LayoutModel",
      "state": {}
     },
     "ecc257b552214331b953dbb3301d7707": {
      "model_module": "@jupyter-widgets/controls",
      "model_module_version": "2.0.0",
      "model_name": "FloatProgressModel",
      "state": {
       "bar_style": "success",
       "layout": "IPY_MODEL_dd631387f7fd451fa4cb3ee016990573",
       "max": 681,
       "style": "IPY_MODEL_ca538af363b748c6ad32f16ac0570850",
       "value": 681
      }
     },
     "ecceb1c4e93246d0803d83d9e2aa9d1a": {
      "model_module": "@jupyter-widgets/base",
      "model_module_version": "2.0.0",
      "model_name": "LayoutModel",
      "state": {}
     },
     "ecf809835b56458fb7cd34def28cdb3c": {
      "model_module": "@jupyter-widgets/controls",
      "model_module_version": "2.0.0",
      "model_name": "HTMLModel",
      "state": {
       "layout": "IPY_MODEL_7333663ad81b40cab1608b043ef1cd93",
       "style": "IPY_MODEL_558b4f313bcd44eeabedf2f894d38893",
       "value": " 401/401 [00:26&lt;00:00, 15.32it/s]"
      }
     },
     "ed077a4c23f84285ad8551416f5d3efa": {
      "model_module": "@jupyter-widgets/controls",
      "model_module_version": "2.0.0",
      "model_name": "ProgressStyleModel",
      "state": {
       "description_width": ""
      }
     },
     "ed086f6176a34a94af509c4d5468dce3": {
      "model_module": "@jupyter-widgets/base",
      "model_module_version": "2.0.0",
      "model_name": "LayoutModel",
      "state": {}
     },
     "ed28743ddcef4768ad378affe47c501f": {
      "model_module": "@jupyter-widgets/controls",
      "model_module_version": "2.0.0",
      "model_name": "HBoxModel",
      "state": {
       "children": [
        "IPY_MODEL_20884712b05349799a286117051d3823",
        "IPY_MODEL_cbf5c1814dbd47f9867e4f088c40bb46",
        "IPY_MODEL_a6cbf66c3ffd4d84bf554d7926f4674f"
       ],
       "layout": "IPY_MODEL_336ff95b67a64522aeb6dd257f3710b1"
      }
     },
     "ed2b7a04755a478c9860d9c139bb3738": {
      "model_module": "@jupyter-widgets/controls",
      "model_module_version": "2.0.0",
      "model_name": "HTMLModel",
      "state": {
       "layout": "IPY_MODEL_20c8b140f4d8407d9d18b9df2644ccd6",
       "style": "IPY_MODEL_9c30d38adb614aefa757a0707ea147b9",
       "value": " 698/698 [00:00&lt;00:00, 194474.84it/s]"
      }
     },
     "ed3d93445caf46b392f9bdc350ba1b50": {
      "model_module": "@jupyter-widgets/controls",
      "model_module_version": "2.0.0",
      "model_name": "FloatProgressModel",
      "state": {
       "bar_style": "success",
       "layout": "IPY_MODEL_a965cec8c0f649358796b649fdf5ac65",
       "max": 491,
       "style": "IPY_MODEL_9a650725e2654284bf9fd76c86d124bc",
       "value": 491
      }
     },
     "ed49d084d64a489fa6dedb1b182d1c77": {
      "model_module": "@jupyter-widgets/base",
      "model_module_version": "2.0.0",
      "model_name": "LayoutModel",
      "state": {}
     },
     "ed53da456129477d95e9d3493638a8d1": {
      "model_module": "@jupyter-widgets/controls",
      "model_module_version": "2.0.0",
      "model_name": "HBoxModel",
      "state": {
       "children": [
        "IPY_MODEL_258e4a87aab7425ea0d4465f6c555f37",
        "IPY_MODEL_05a783e6954b4fb9a8060f32160c43ec",
        "IPY_MODEL_06e45443179e4e37b0b4e9c4edfeefa7"
       ],
       "layout": "IPY_MODEL_c395b0bc03dd440ea1832a15dda94a29"
      }
     },
     "ee37d771d1e74fc1bcdc89b3f1b5df8b": {
      "model_module": "@jupyter-widgets/controls",
      "model_module_version": "2.0.0",
      "model_name": "HTMLStyleModel",
      "state": {
       "description_width": "",
       "font_size": null,
       "text_color": null
      }
     },
     "ee3f030c67f248ae950d0cb39d2f5dfc": {
      "model_module": "@jupyter-widgets/controls",
      "model_module_version": "2.0.0",
      "model_name": "HTMLModel",
      "state": {
       "layout": "IPY_MODEL_983c0d87da594bfdb43fcb9c645065d5",
       "style": "IPY_MODEL_4de4e94b957d4636a13525a52bbc1fa9",
       "value": "100%"
      }
     },
     "ee4043766e174774912c8e4ffcb63bd5": {
      "model_module": "@jupyter-widgets/controls",
      "model_module_version": "2.0.0",
      "model_name": "HTMLModel",
      "state": {
       "layout": "IPY_MODEL_5617fc9f3ffd49d1814ffca4458ef40a",
       "style": "IPY_MODEL_e5224ad2581e42488d2c0e3f4e43bb77",
       "value": "100%"
      }
     },
     "ee4b863823a94468af77b18864d02679": {
      "model_module": "@jupyter-widgets/controls",
      "model_module_version": "2.0.0",
      "model_name": "HTMLModel",
      "state": {
       "layout": "IPY_MODEL_af174776626a4419bba70733a0bc5e50",
       "style": "IPY_MODEL_6f654f1e810a44b39c2a33caa8607456",
       "value": " 541/541 [00:00&lt;00:00, 150721.92it/s]"
      }
     },
     "ee8c1a1d188d4bd68fb3f2ab89f4e5a1": {
      "model_module": "@jupyter-widgets/base",
      "model_module_version": "2.0.0",
      "model_name": "LayoutModel",
      "state": {}
     },
     "ee9e9765fa4647f4a2935346a56c5021": {
      "model_module": "@jupyter-widgets/base",
      "model_module_version": "2.0.0",
      "model_name": "LayoutModel",
      "state": {}
     },
     "eeb6a3d72bb84a1497cf04dd79bdca11": {
      "model_module": "@jupyter-widgets/base",
      "model_module_version": "2.0.0",
      "model_name": "LayoutModel",
      "state": {}
     },
     "eebfecfeb6914571bf81720a0bea946d": {
      "model_module": "@jupyter-widgets/controls",
      "model_module_version": "2.0.0",
      "model_name": "ProgressStyleModel",
      "state": {
       "description_width": ""
      }
     },
     "eec526cb197549059632f399053c88a5": {
      "model_module": "@jupyter-widgets/base",
      "model_module_version": "2.0.0",
      "model_name": "LayoutModel",
      "state": {}
     },
     "eee150e3cec144ea8646f186c359c62d": {
      "model_module": "@jupyter-widgets/controls",
      "model_module_version": "2.0.0",
      "model_name": "HTMLModel",
      "state": {
       "layout": "IPY_MODEL_d1267726c27247118acd83aa0ec7ea77",
       "style": "IPY_MODEL_d2d79ee40bc242fcb3d48b8f636ae500",
       "value": " 41/118 [24:56&lt;53:08, 41.41s/it]"
      }
     },
     "eefbe698a634401d837354fc080474bc": {
      "model_module": "@jupyter-widgets/base",
      "model_module_version": "2.0.0",
      "model_name": "LayoutModel",
      "state": {}
     },
     "ef2a365c70014eb0840a2d622dc9c134": {
      "model_module": "@jupyter-widgets/controls",
      "model_module_version": "2.0.0",
      "model_name": "ProgressStyleModel",
      "state": {
       "description_width": ""
      }
     },
     "ef439ae77ab643128bac1fcdf738f561": {
      "model_module": "@jupyter-widgets/base",
      "model_module_version": "2.0.0",
      "model_name": "LayoutModel",
      "state": {}
     },
     "ef533a94db804d768e1434f3b000c69d": {
      "model_module": "@jupyter-widgets/controls",
      "model_module_version": "2.0.0",
      "model_name": "ProgressStyleModel",
      "state": {
       "description_width": ""
      }
     },
     "ef57f559fcbd49308c1cf687fcc07ee4": {
      "model_module": "@jupyter-widgets/controls",
      "model_module_version": "2.0.0",
      "model_name": "HTMLModel",
      "state": {
       "layout": "IPY_MODEL_4935f0332891432798363e9fc9611f67",
       "style": "IPY_MODEL_de794a2c119d4bf1b39473a8ffa127ac",
       "value": " 401/401 [00:00&lt;00:00, 113504.92it/s]"
      }
     },
     "efa185cdfc7e431abe4499e5d0d9d978": {
      "model_module": "@jupyter-widgets/controls",
      "model_module_version": "2.0.0",
      "model_name": "HTMLStyleModel",
      "state": {
       "description_width": "",
       "font_size": null,
       "text_color": null
      }
     },
     "f04eeb7f640f41248b82c1ec33b6464b": {
      "model_module": "@jupyter-widgets/controls",
      "model_module_version": "2.0.0",
      "model_name": "HTMLModel",
      "state": {
       "layout": "IPY_MODEL_cdda9a9289d2418199599fc61d90128b",
       "style": "IPY_MODEL_01039ac33d644e2fb1919a6631923fa8",
       "value": "100%"
      }
     },
     "f0a08a4119924cf1a24d983397caa346": {
      "model_module": "@jupyter-widgets/base",
      "model_module_version": "2.0.0",
      "model_name": "LayoutModel",
      "state": {}
     },
     "f0a6b7c402b84dd8b8bd4551eddd991e": {
      "model_module": "@jupyter-widgets/base",
      "model_module_version": "2.0.0",
      "model_name": "LayoutModel",
      "state": {}
     },
     "f0d04f04a3f84ad5a52c0746c6c9e5f0": {
      "model_module": "@jupyter-widgets/controls",
      "model_module_version": "2.0.0",
      "model_name": "HTMLModel",
      "state": {
       "layout": "IPY_MODEL_22cb73d70d5b4fb696f361869e9ef980",
       "style": "IPY_MODEL_671e8e65ce724dfbbe332ce4451ecf3f",
       "value": " 634/634 [00:00&lt;00:00, 178481.02it/s]"
      }
     },
     "f0e7c381cf8e49379440b515939d13cd": {
      "model_module": "@jupyter-widgets/controls",
      "model_module_version": "2.0.0",
      "model_name": "FloatProgressModel",
      "state": {
       "bar_style": "success",
       "layout": "IPY_MODEL_1f9604d1603f4cb7a5910a93d3e6481b",
       "max": 609,
       "style": "IPY_MODEL_788f6ca18dd8447eab6bf1fa26989bfa",
       "value": 609
      }
     },
     "f0e87bcef12542ac92b6ab72f8b910e3": {
      "model_module": "@jupyter-widgets/controls",
      "model_module_version": "2.0.0",
      "model_name": "HTMLModel",
      "state": {
       "layout": "IPY_MODEL_115d0b7e1f654833a48bf175aef18847",
       "style": "IPY_MODEL_b8e2ba0bd85845d2bd03a593503093f0",
       "value": " 703/703 [00:00&lt;00:00, 194037.62it/s]"
      }
     },
     "f1077e9867b349bcb6b77427086b24f7": {
      "model_module": "@jupyter-widgets/controls",
      "model_module_version": "2.0.0",
      "model_name": "HBoxModel",
      "state": {
       "children": [
        "IPY_MODEL_2752208f760c4b2aa22b0903a2f37a67",
        "IPY_MODEL_d40c34d80a1343cd9e3907700df53659",
        "IPY_MODEL_6406dab277674c3190be546b5a6b06cd"
       ],
       "layout": "IPY_MODEL_1daaa4b515b04b93ba76026df1b8c810"
      }
     },
     "f1204b2d29f74c48b152af59f6877296": {
      "model_module": "@jupyter-widgets/controls",
      "model_module_version": "2.0.0",
      "model_name": "HTMLStyleModel",
      "state": {
       "description_width": "",
       "font_size": null,
       "text_color": null
      }
     },
     "f1281d3d831a4d6eb08cf78c73c19a26": {
      "model_module": "@jupyter-widgets/controls",
      "model_module_version": "2.0.0",
      "model_name": "HTMLModel",
      "state": {
       "layout": "IPY_MODEL_44991a23561f413f82da84694371e971",
       "style": "IPY_MODEL_0af2195f91c64555833d8a13f96ba73d",
       "value": "100%"
      }
     },
     "f16095cdb6b6489b9e5388d14e14af3d": {
      "model_module": "@jupyter-widgets/controls",
      "model_module_version": "2.0.0",
      "model_name": "HBoxModel",
      "state": {
       "children": [
        "IPY_MODEL_f3aae4e8eb214fd19fc5a8a5aea149b0",
        "IPY_MODEL_70d1ea924c7c4c48a8b8b45151dc3ec3",
        "IPY_MODEL_ab8edbc3ec47468b8f65e23a92e488e6"
       ],
       "layout": "IPY_MODEL_105f6d95bc1049c2bd03b6230968ac20"
      }
     },
     "f1616890f2f64df18475356d0e41cf36": {
      "model_module": "@jupyter-widgets/base",
      "model_module_version": "2.0.0",
      "model_name": "LayoutModel",
      "state": {}
     },
     "f169a0b787df49b0baa64479b6e445da": {
      "model_module": "@jupyter-widgets/controls",
      "model_module_version": "2.0.0",
      "model_name": "FloatProgressModel",
      "state": {
       "bar_style": "success",
       "layout": "IPY_MODEL_73cd694fbbec46c7a1f8f329ee6f309d",
       "max": 401,
       "style": "IPY_MODEL_6282aa5a9fbb400fbb8b7c74c699fa5c",
       "value": 401
      }
     },
     "f1754fab3c804b9289aae50d30edaf3d": {
      "model_module": "@jupyter-widgets/base",
      "model_module_version": "2.0.0",
      "model_name": "LayoutModel",
      "state": {}
     },
     "f195c54506f0439c98b4c277930b0776": {
      "model_module": "@jupyter-widgets/controls",
      "model_module_version": "2.0.0",
      "model_name": "HTMLStyleModel",
      "state": {
       "description_width": "",
       "font_size": null,
       "text_color": null
      }
     },
     "f1af9d48a7ba4e44ac9ef3d046f82611": {
      "model_module": "@jupyter-widgets/base",
      "model_module_version": "2.0.0",
      "model_name": "LayoutModel",
      "state": {}
     },
     "f1d7c6edef5e4100a1f7d833cf89502b": {
      "model_module": "@jupyter-widgets/controls",
      "model_module_version": "2.0.0",
      "model_name": "HTMLModel",
      "state": {
       "layout": "IPY_MODEL_840d5a4f1fa440899c84e9282bbd744a",
       "style": "IPY_MODEL_92228f16d29245fd894dac24633507e2",
       "value": "100%"
      }
     },
     "f1f2d0f60cf94f03b31d987f34cef22a": {
      "model_module": "@jupyter-widgets/controls",
      "model_module_version": "2.0.0",
      "model_name": "HTMLStyleModel",
      "state": {
       "description_width": "",
       "font_size": null,
       "text_color": null
      }
     },
     "f2014038f5444f6b8d62ad74acc9ae64": {
      "model_module": "@jupyter-widgets/controls",
      "model_module_version": "2.0.0",
      "model_name": "HTMLStyleModel",
      "state": {
       "description_width": "",
       "font_size": null,
       "text_color": null
      }
     },
     "f25b0874270149218cd71056f026d3aa": {
      "model_module": "@jupyter-widgets/controls",
      "model_module_version": "2.0.0",
      "model_name": "ProgressStyleModel",
      "state": {
       "description_width": ""
      }
     },
     "f25c7ad4d3664132aa744fe230349017": {
      "model_module": "@jupyter-widgets/controls",
      "model_module_version": "2.0.0",
      "model_name": "HBoxModel",
      "state": {
       "children": [
        "IPY_MODEL_6caae07cf8b64443aa80dfbdf643cf2f",
        "IPY_MODEL_b6ec7efb8a7f4fecb69606506640749d",
        "IPY_MODEL_9cc9b939a5ec41e48939467da5f3cd50"
       ],
       "layout": "IPY_MODEL_e4ca2def26af4de3be2186cd64bc04d8"
      }
     },
     "f25e599ac1054f7eb618dea9c6f7f22a": {
      "model_module": "@jupyter-widgets/controls",
      "model_module_version": "2.0.0",
      "model_name": "HTMLModel",
      "state": {
       "layout": "IPY_MODEL_bf4b712b42ed4504877df910b98b90a2",
       "style": "IPY_MODEL_7113ec06295344a5ba1c6f05e00c3a26",
       "value": " 456/456 [00:00&lt;00:00, 128173.34it/s]"
      }
     },
     "f2649afe32f7486398ffd71c098b5481": {
      "model_module": "@jupyter-widgets/controls",
      "model_module_version": "2.0.0",
      "model_name": "HBoxModel",
      "state": {
       "children": [
        "IPY_MODEL_c2e0e9ff384c445a996fc39198ece7d3",
        "IPY_MODEL_ce35d629b75a4d6a93ff946307c46722",
        "IPY_MODEL_5a38bae7fc4d4b4ba47be2b157cd2012"
       ],
       "layout": "IPY_MODEL_a9c46cac2cf64858a8357a5d278368c0"
      }
     },
     "f275a1a1147145ac9a92217d5145cbbb": {
      "model_module": "@jupyter-widgets/controls",
      "model_module_version": "2.0.0",
      "model_name": "HBoxModel",
      "state": {
       "children": [
        "IPY_MODEL_9d6662a93cea4656ad6ddfc1e99da3e2",
        "IPY_MODEL_bc3ba00d650e42b3b7e0e706070f5237",
        "IPY_MODEL_f991f6fd815245fba4b5fcbec58a6378"
       ],
       "layout": "IPY_MODEL_0efaf513850043ef86d3b145b854714b"
      }
     },
     "f28e7a6e4c7b4324a824f845b986130f": {
      "model_module": "@jupyter-widgets/controls",
      "model_module_version": "2.0.0",
      "model_name": "HTMLModel",
      "state": {
       "layout": "IPY_MODEL_d867140ce0b64e77a85056cd95aec8f6",
       "style": "IPY_MODEL_3c447bfcb9084ad183754df04aa12071",
       "value": "100%"
      }
     },
     "f2aa099765db4225a9b3c4518fb04334": {
      "model_module": "@jupyter-widgets/base",
      "model_module_version": "2.0.0",
      "model_name": "LayoutModel",
      "state": {}
     },
     "f2d2d17899704d9f8b60595b0d0d5f3d": {
      "model_module": "@jupyter-widgets/base",
      "model_module_version": "2.0.0",
      "model_name": "LayoutModel",
      "state": {}
     },
     "f2ee82a13cb040a09f46f682e8b6a406": {
      "model_module": "@jupyter-widgets/controls",
      "model_module_version": "2.0.0",
      "model_name": "HBoxModel",
      "state": {
       "children": [
        "IPY_MODEL_a29fcf84687744df88f6dbcb5e17e03d",
        "IPY_MODEL_6e8953006168415092bb037ed991f858",
        "IPY_MODEL_c5ea81796b904a93a7eedba8836d76ed"
       ],
       "layout": "IPY_MODEL_f7c5c4fae5da4c0f8babda313128faf0"
      }
     },
     "f2f8e4ffc09a413d8753ce191354b89d": {
      "model_module": "@jupyter-widgets/controls",
      "model_module_version": "2.0.0",
      "model_name": "ProgressStyleModel",
      "state": {
       "description_width": ""
      }
     },
     "f305c076c1914bb48bbf7e56b451cbf8": {
      "model_module": "@jupyter-widgets/controls",
      "model_module_version": "2.0.0",
      "model_name": "HTMLStyleModel",
      "state": {
       "description_width": "",
       "font_size": null,
       "text_color": null
      }
     },
     "f329fda1b1d74cc584c91330323bfc0c": {
      "model_module": "@jupyter-widgets/base",
      "model_module_version": "2.0.0",
      "model_name": "LayoutModel",
      "state": {}
     },
     "f32af14541a245ddb3ddd6bb7a36d343": {
      "model_module": "@jupyter-widgets/controls",
      "model_module_version": "2.0.0",
      "model_name": "HTMLModel",
      "state": {
       "layout": "IPY_MODEL_5ba606a4c9f84b70ae852d9b31c0c3a0",
       "style": "IPY_MODEL_0477d9641d2247c1a134382ed6e6688d",
       "value": " 472/472 [00:00&lt;00:00, 132360.20it/s]"
      }
     },
     "f338a72571ab4223bc682218a34a450f": {
      "model_module": "@jupyter-widgets/base",
      "model_module_version": "2.0.0",
      "model_name": "LayoutModel",
      "state": {}
     },
     "f34ec682a3694d579f097d8c3830017b": {
      "model_module": "@jupyter-widgets/controls",
      "model_module_version": "2.0.0",
      "model_name": "HBoxModel",
      "state": {
       "children": [
        "IPY_MODEL_3c20e4a0e3824d399b5b5416f81638dc",
        "IPY_MODEL_24629965dc7141aeaa000f0b63f0b3ed",
        "IPY_MODEL_fa04c38e3ba642eba6c43909ba8dab99"
       ],
       "layout": "IPY_MODEL_09602b3d8ccb43c9b9ea92a8f026f589"
      }
     },
     "f37b5d4e7d59429abe14e9c7904af0ef": {
      "model_module": "@jupyter-widgets/controls",
      "model_module_version": "2.0.0",
      "model_name": "HTMLStyleModel",
      "state": {
       "description_width": "",
       "font_size": null,
       "text_color": null
      }
     },
     "f39d81d41fd2452193833ab51d0f918c": {
      "model_module": "@jupyter-widgets/controls",
      "model_module_version": "2.0.0",
      "model_name": "HTMLModel",
      "state": {
       "layout": "IPY_MODEL_cd6558b9c9594df9a974beaae6c3c6a0",
       "style": "IPY_MODEL_2c46aff01ea0423e92ca9010c969591b",
       "value": "100%"
      }
     },
     "f3a690328e4c4814972a677292530d10": {
      "model_module": "@jupyter-widgets/base",
      "model_module_version": "2.0.0",
      "model_name": "LayoutModel",
      "state": {}
     },
     "f3aae4e8eb214fd19fc5a8a5aea149b0": {
      "model_module": "@jupyter-widgets/controls",
      "model_module_version": "2.0.0",
      "model_name": "HTMLModel",
      "state": {
       "layout": "IPY_MODEL_4b0bf021a2f94c8bb3a9b2409ff8db1a",
       "style": "IPY_MODEL_e34e7b44483140fcac8880b2194f0a99",
       "value": "100%"
      }
     },
     "f3b2984976f14855800ff2a5514d7184": {
      "model_module": "@jupyter-widgets/controls",
      "model_module_version": "2.0.0",
      "model_name": "HTMLStyleModel",
      "state": {
       "description_width": "",
       "font_size": null,
       "text_color": null
      }
     },
     "f3d5a93b2efe4de0b5e0b83a85c6e425": {
      "model_module": "@jupyter-widgets/base",
      "model_module_version": "2.0.0",
      "model_name": "LayoutModel",
      "state": {}
     },
     "f41030de6147457c9b481365411f744f": {
      "model_module": "@jupyter-widgets/controls",
      "model_module_version": "2.0.0",
      "model_name": "HTMLModel",
      "state": {
       "layout": "IPY_MODEL_b0d3f7e1051d41a08f4ce5a210da98f0",
       "style": "IPY_MODEL_81d62a8d6cc2416198c4a57a161cde13",
       "value": "100%"
      }
     },
     "f4173956504c4b18bd3ac36a20dec2c4": {
      "model_module": "@jupyter-widgets/controls",
      "model_module_version": "2.0.0",
      "model_name": "HTMLModel",
      "state": {
       "layout": "IPY_MODEL_3895d70601e94867800d88000352133f",
       "style": "IPY_MODEL_73b3262375cd4be984c7488ec1f48c59",
       "value": " 0/365 [00:00&lt;?, ?it/s]"
      }
     },
     "f47c911b69924e6382dfe2face3069f6": {
      "model_module": "@jupyter-widgets/controls",
      "model_module_version": "2.0.0",
      "model_name": "HTMLModel",
      "state": {
       "layout": "IPY_MODEL_48f8c1de2478416fae5479f9daabcc80",
       "style": "IPY_MODEL_518f9fd172094905bc315ecfd3b7b515",
       "value": "100%"
      }
     },
     "f486a362a6f04c48a780ec981bf49068": {
      "model_module": "@jupyter-widgets/controls",
      "model_module_version": "2.0.0",
      "model_name": "HTMLStyleModel",
      "state": {
       "description_width": "",
       "font_size": null,
       "text_color": null
      }
     },
     "f49b4bb67bcd482e9bb9b67402294ff3": {
      "model_module": "@jupyter-widgets/controls",
      "model_module_version": "2.0.0",
      "model_name": "HTMLStyleModel",
      "state": {
       "description_width": "",
       "font_size": null,
       "text_color": null
      }
     },
     "f4cd4b26291946dfb536be45a1743bbd": {
      "model_module": "@jupyter-widgets/base",
      "model_module_version": "2.0.0",
      "model_name": "LayoutModel",
      "state": {}
     },
     "f4d27c9d5b7846f0b04baf6504cbf05a": {
      "model_module": "@jupyter-widgets/base",
      "model_module_version": "2.0.0",
      "model_name": "LayoutModel",
      "state": {}
     },
     "f4d8ecdc3db144b09d9b33766775eeb2": {
      "model_module": "@jupyter-widgets/base",
      "model_module_version": "2.0.0",
      "model_name": "LayoutModel",
      "state": {}
     },
     "f4dae17d2d4a463eb186f1a1b693aaca": {
      "model_module": "@jupyter-widgets/controls",
      "model_module_version": "2.0.0",
      "model_name": "HTMLModel",
      "state": {
       "layout": "IPY_MODEL_c31c25702cbe49e296e3b08905ffd76b",
       "style": "IPY_MODEL_571e3dba0d434d39bf68a6d600c5546b",
       "value": " 0/793 [00:00&lt;?, ?it/s]"
      }
     },
     "f4e0c7d537854349a00a2cae38ffd907": {
      "model_module": "@jupyter-widgets/controls",
      "model_module_version": "2.0.0",
      "model_name": "HTMLModel",
      "state": {
       "layout": "IPY_MODEL_21212a1a4c3349f5b54343ced482e97f",
       "style": "IPY_MODEL_7dfb9827f02f4ba3853dc09c15c28d68",
       "value": "100%"
      }
     },
     "f52fb7a1ecde4c41973c81aebdb55992": {
      "model_module": "@jupyter-widgets/base",
      "model_module_version": "2.0.0",
      "model_name": "LayoutModel",
      "state": {}
     },
     "f558add4cbf64f1ea63dd8f9c297372a": {
      "model_module": "@jupyter-widgets/controls",
      "model_module_version": "2.0.0",
      "model_name": "HBoxModel",
      "state": {
       "children": [
        "IPY_MODEL_5a1f796be47e4a9cbcf65615a05ae1a2",
        "IPY_MODEL_44807e5b96a7484a86cd8c15281de540",
        "IPY_MODEL_d3cea40f57c34a25ad8e0a80d345792c"
       ],
       "layout": "IPY_MODEL_be59b321cce548e6a89e39c8881b82e7"
      }
     },
     "f55b97840baf489d9ca0a93f66cdd9ef": {
      "model_module": "@jupyter-widgets/controls",
      "model_module_version": "2.0.0",
      "model_name": "HTMLStyleModel",
      "state": {
       "description_width": "",
       "font_size": null,
       "text_color": null
      }
     },
     "f57574ea06b5426a9ede2e41d0798597": {
      "model_module": "@jupyter-widgets/controls",
      "model_module_version": "2.0.0",
      "model_name": "HTMLModel",
      "state": {
       "layout": "IPY_MODEL_1c8e0e9af56d4a0f83155a4253882f32",
       "style": "IPY_MODEL_6bce92b8751d455ab2cf33f6262d2dc5",
       "value": "100%"
      }
     },
     "f5be3aa2e0d74fb99852f4100506832b": {
      "model_module": "@jupyter-widgets/controls",
      "model_module_version": "2.0.0",
      "model_name": "HBoxModel",
      "state": {
       "children": [
        "IPY_MODEL_96acee189c894f17a29533aeca112819",
        "IPY_MODEL_abd968108eb040ffa67f4b169c95638f",
        "IPY_MODEL_fe9a0775c90b4cd7817f5538ab25f3f4"
       ],
       "layout": "IPY_MODEL_e0fd170e10ad405ab16fc6415f7469a3"
      }
     },
     "f5e18f4d2c514f99aeeaa8369d10ad5a": {
      "model_module": "@jupyter-widgets/controls",
      "model_module_version": "2.0.0",
      "model_name": "HBoxModel",
      "state": {
       "children": [
        "IPY_MODEL_e557da4bd47b4aa6bee31266422bba5f",
        "IPY_MODEL_12d96df5be544efda0eb355d492cb990",
        "IPY_MODEL_c260d07ac9f447e9a708566ef84c14b3"
       ],
       "layout": "IPY_MODEL_6edec019a9d74175b7d67b3a7327ecbd"
      }
     },
     "f5f2332e7a5d4fc09d46785d0abcb3c6": {
      "model_module": "@jupyter-widgets/base",
      "model_module_version": "2.0.0",
      "model_name": "LayoutModel",
      "state": {}
     },
     "f60fe05f8dac4c70b63fb209a28cde29": {
      "model_module": "@jupyter-widgets/controls",
      "model_module_version": "2.0.0",
      "model_name": "HTMLModel",
      "state": {
       "layout": "IPY_MODEL_f76f1396dce3442abebcabc611944bc5",
       "style": "IPY_MODEL_0a2da83c0a61441c9a01ca25c844a25d",
       "value": " 745/745 [00:00&lt;00:00, 205955.48it/s]"
      }
     },
     "f61fe1fe438143838526709d129e3887": {
      "model_module": "@jupyter-widgets/controls",
      "model_module_version": "2.0.0",
      "model_name": "FloatProgressModel",
      "state": {
       "bar_style": "success",
       "layout": "IPY_MODEL_57b0456575284269b90be0573485b499",
       "max": 674,
       "style": "IPY_MODEL_6334ed2f3da84636a9257dd0675d28a2",
       "value": 674
      }
     },
     "f66496b15ebf42c98279401a4b2c3fd2": {
      "model_module": "@jupyter-widgets/base",
      "model_module_version": "2.0.0",
      "model_name": "LayoutModel",
      "state": {}
     },
     "f68c8dc359474094b5dc4b0cac4d94fc": {
      "model_module": "@jupyter-widgets/base",
      "model_module_version": "2.0.0",
      "model_name": "LayoutModel",
      "state": {}
     },
     "f6abcf5daeb84aa7b21d04ae1a9c0566": {
      "model_module": "@jupyter-widgets/base",
      "model_module_version": "2.0.0",
      "model_name": "LayoutModel",
      "state": {}
     },
     "f6c6268cb3c44b7f9757659d2300faa3": {
      "model_module": "@jupyter-widgets/base",
      "model_module_version": "2.0.0",
      "model_name": "LayoutModel",
      "state": {}
     },
     "f6c94007edb54a8ab32c69258d315f70": {
      "model_module": "@jupyter-widgets/base",
      "model_module_version": "2.0.0",
      "model_name": "LayoutModel",
      "state": {}
     },
     "f6de8ef3e11847dcb41a2c2a73c0e555": {
      "model_module": "@jupyter-widgets/base",
      "model_module_version": "2.0.0",
      "model_name": "LayoutModel",
      "state": {}
     },
     "f6e0a464c7a64416941c2e608042ff76": {
      "model_module": "@jupyter-widgets/controls",
      "model_module_version": "2.0.0",
      "model_name": "HTMLModel",
      "state": {
       "layout": "IPY_MODEL_01da846be731454182270cbca6af97b4",
       "style": "IPY_MODEL_98b35b9623804a09a54038e421dce469",
       "value": "  0%"
      }
     },
     "f721d2574df240ddbdb1040aaa4595f6": {
      "model_module": "@jupyter-widgets/base",
      "model_module_version": "2.0.0",
      "model_name": "LayoutModel",
      "state": {}
     },
     "f726b6d13f37420e83578787902b949c": {
      "model_module": "@jupyter-widgets/controls",
      "model_module_version": "2.0.0",
      "model_name": "HTMLModel",
      "state": {
       "layout": "IPY_MODEL_5539026ae5604346b86b00501aff6d23",
       "style": "IPY_MODEL_4c01c00afeed4b3bbfd5d742c85ad260",
       "value": "100%"
      }
     },
     "f728b66774f249f4acbb8052d10af21e": {
      "model_module": "@jupyter-widgets/controls",
      "model_module_version": "2.0.0",
      "model_name": "HTMLModel",
      "state": {
       "layout": "IPY_MODEL_aa810d6dc59e44de9f7329a7f146acce",
       "style": "IPY_MODEL_d6d06888faa44ad1b4e163f1dbb9b50b",
       "value": " 663/663 [00:42&lt;00:00, 15.52it/s]"
      }
     },
     "f73a6a0d91144f828c94962ec79191c4": {
      "model_module": "@jupyter-widgets/controls",
      "model_module_version": "2.0.0",
      "model_name": "FloatProgressModel",
      "state": {
       "bar_style": "success",
       "layout": "IPY_MODEL_fb94761835d646f09fbd8e3f57fc82c0",
       "max": 471,
       "style": "IPY_MODEL_5fcccc16e33b41d684be14708869ad1a",
       "value": 471
      }
     },
     "f743b34ad22943b6bf5c5cf5f3d9aa37": {
      "model_module": "@jupyter-widgets/base",
      "model_module_version": "2.0.0",
      "model_name": "LayoutModel",
      "state": {}
     },
     "f745e22ec680463ba7510b8ba991705a": {
      "model_module": "@jupyter-widgets/base",
      "model_module_version": "2.0.0",
      "model_name": "LayoutModel",
      "state": {}
     },
     "f74fe5ea75ad4d92ba8d0fa9e1cfc3db": {
      "model_module": "@jupyter-widgets/base",
      "model_module_version": "2.0.0",
      "model_name": "LayoutModel",
      "state": {}
     },
     "f758fe64dbb44b70aaaa1fc6dca73fc0": {
      "model_module": "@jupyter-widgets/controls",
      "model_module_version": "2.0.0",
      "model_name": "ProgressStyleModel",
      "state": {
       "description_width": ""
      }
     },
     "f76f1396dce3442abebcabc611944bc5": {
      "model_module": "@jupyter-widgets/base",
      "model_module_version": "2.0.0",
      "model_name": "LayoutModel",
      "state": {}
     },
     "f7b2e23dc60f4f6ab4746ecbb18be945": {
      "model_module": "@jupyter-widgets/base",
      "model_module_version": "2.0.0",
      "model_name": "LayoutModel",
      "state": {}
     },
     "f7c5c4fae5da4c0f8babda313128faf0": {
      "model_module": "@jupyter-widgets/base",
      "model_module_version": "2.0.0",
      "model_name": "LayoutModel",
      "state": {}
     },
     "f7c62b07e5e84a15a5cbd55edf68fa80": {
      "model_module": "@jupyter-widgets/base",
      "model_module_version": "2.0.0",
      "model_name": "LayoutModel",
      "state": {}
     },
     "f7cfa8aa177e489f8ee2b296d0335a6a": {
      "model_module": "@jupyter-widgets/controls",
      "model_module_version": "2.0.0",
      "model_name": "HTMLStyleModel",
      "state": {
       "description_width": "",
       "font_size": null,
       "text_color": null
      }
     },
     "f7ebcfca6f6e47e5b387c958c992ad7e": {
      "model_module": "@jupyter-widgets/controls",
      "model_module_version": "2.0.0",
      "model_name": "FloatProgressModel",
      "state": {
       "bar_style": "danger",
       "layout": "IPY_MODEL_db040a7af44b4a2690e1a80fa6a28296",
       "max": 582,
       "style": "IPY_MODEL_526a9c5a56ff4e4da724032722fb0661"
      }
     },
     "f7f038e793df4b23b06b46569bf0d827": {
      "model_module": "@jupyter-widgets/controls",
      "model_module_version": "2.0.0",
      "model_name": "HTMLStyleModel",
      "state": {
       "description_width": "",
       "font_size": null,
       "text_color": null
      }
     },
     "f7f6780fc52043de8c41404e628167fa": {
      "model_module": "@jupyter-widgets/controls",
      "model_module_version": "2.0.0",
      "model_name": "ProgressStyleModel",
      "state": {
       "description_width": ""
      }
     },
     "f7fe311bfb9b45f488cc3a71b6dec3a3": {
      "model_module": "@jupyter-widgets/controls",
      "model_module_version": "2.0.0",
      "model_name": "ProgressStyleModel",
      "state": {
       "description_width": ""
      }
     },
     "f8a44b75dc8245fca58b448a45efe8b6": {
      "model_module": "@jupyter-widgets/controls",
      "model_module_version": "2.0.0",
      "model_name": "HTMLStyleModel",
      "state": {
       "description_width": "",
       "font_size": null,
       "text_color": null
      }
     },
     "f8c7d03900a94cbba5570e9cf22abeea": {
      "model_module": "@jupyter-widgets/base",
      "model_module_version": "2.0.0",
      "model_name": "LayoutModel",
      "state": {}
     },
     "f8ca3a93dabd4d7b8c46033815d24507": {
      "model_module": "@jupyter-widgets/controls",
      "model_module_version": "2.0.0",
      "model_name": "HTMLStyleModel",
      "state": {
       "description_width": "",
       "font_size": null,
       "text_color": null
      }
     },
     "f8fc15d9ba8e4ef385f09b52d384bb5a": {
      "model_module": "@jupyter-widgets/controls",
      "model_module_version": "2.0.0",
      "model_name": "FloatProgressModel",
      "state": {
       "bar_style": "success",
       "layout": "IPY_MODEL_249c4a922158421eb98aa1bebc61091e",
       "max": 628,
       "style": "IPY_MODEL_c0be083544cb4539bff9e63c46f63d29",
       "value": 628
      }
     },
     "f917503a32994e6eb3ce23c9c1b043c2": {
      "model_module": "@jupyter-widgets/controls",
      "model_module_version": "2.0.0",
      "model_name": "HTMLModel",
      "state": {
       "layout": "IPY_MODEL_d9e465348ca949e18b9e2c36c31bf27f",
       "style": "IPY_MODEL_7977833c5fa24d5baffe0dcd5c7028c1",
       "value": "100%"
      }
     },
     "f91fc5acf19b469ea3eb785c70f2fd61": {
      "model_module": "@jupyter-widgets/controls",
      "model_module_version": "2.0.0",
      "model_name": "HTMLModel",
      "state": {
       "layout": "IPY_MODEL_e5fdeecbf55344ec89570a157b7dd58e",
       "style": "IPY_MODEL_dffc5d6a3fc3442cb2ea434fc916a507",
       "value": "100%"
      }
     },
     "f91fd4f584dd420189ca4542b377c00a": {
      "model_module": "@jupyter-widgets/controls",
      "model_module_version": "2.0.0",
      "model_name": "ProgressStyleModel",
      "state": {
       "description_width": ""
      }
     },
     "f95e2e1bcc624e7eb0879a369f51834f": {
      "model_module": "@jupyter-widgets/base",
      "model_module_version": "2.0.0",
      "model_name": "LayoutModel",
      "state": {}
     },
     "f9669e9b81cc48c8b3c40fe1319bf7cb": {
      "model_module": "@jupyter-widgets/base",
      "model_module_version": "2.0.0",
      "model_name": "LayoutModel",
      "state": {}
     },
     "f991768a4b0a4fdfb757221bb49d1020": {
      "model_module": "@jupyter-widgets/controls",
      "model_module_version": "2.0.0",
      "model_name": "HTMLModel",
      "state": {
       "layout": "IPY_MODEL_e8a45b728ba54d749afc25f1dd07f636",
       "style": "IPY_MODEL_8e323d4352134db890e6c3d50b1f7752",
       "value": " 681/681 [00:43&lt;00:00, 15.40it/s]"
      }
     },
     "f991f6fd815245fba4b5fcbec58a6378": {
      "model_module": "@jupyter-widgets/controls",
      "model_module_version": "2.0.0",
      "model_name": "HTMLModel",
      "state": {
       "layout": "IPY_MODEL_9c2bf180d348431f89dcb76e15514088",
       "style": "IPY_MODEL_fa11cf797eeb4061881ffb33ca7683d2",
       "value": " 492/492 [00:00&lt;00:00, 138329.37it/s]"
      }
     },
     "f9925ef3e7764f1ebf840e919d9e2da2": {
      "model_module": "@jupyter-widgets/controls",
      "model_module_version": "2.0.0",
      "model_name": "HTMLStyleModel",
      "state": {
       "description_width": "",
       "font_size": null,
       "text_color": null
      }
     },
     "f99ed8598b664be3981d3386728d0387": {
      "model_module": "@jupyter-widgets/controls",
      "model_module_version": "2.0.0",
      "model_name": "HTMLStyleModel",
      "state": {
       "description_width": "",
       "font_size": null,
       "text_color": null
      }
     },
     "f9c6f0a22d1a47c0843dfdf5f00c8947": {
      "model_module": "@jupyter-widgets/controls",
      "model_module_version": "2.0.0",
      "model_name": "HBoxModel",
      "state": {
       "children": [
        "IPY_MODEL_8da9a658e433438eb7842fa8990a1538",
        "IPY_MODEL_9fb7c5fc02944461b25f7b31a3a37ffb",
        "IPY_MODEL_6e5aaa3b46bd4f6285eac350d37859b7"
       ],
       "layout": "IPY_MODEL_89d7ebcb2f6c4b4fb503a563a0163d17"
      }
     },
     "f9e3e66a915a4c4692902e425219f127": {
      "model_module": "@jupyter-widgets/base",
      "model_module_version": "2.0.0",
      "model_name": "LayoutModel",
      "state": {}
     },
     "fa04c38e3ba642eba6c43909ba8dab99": {
      "model_module": "@jupyter-widgets/controls",
      "model_module_version": "2.0.0",
      "model_name": "HTMLModel",
      "state": {
       "layout": "IPY_MODEL_8f7c8af7dd83428d96507c687b1a6b07",
       "style": "IPY_MODEL_f55b97840baf489d9ca0a93f66cdd9ef",
       "value": " 0/582 [00:00&lt;?, ?it/s]"
      }
     },
     "fa07f7166f6249489b2f6073996440db": {
      "model_module": "@jupyter-widgets/controls",
      "model_module_version": "2.0.0",
      "model_name": "ProgressStyleModel",
      "state": {
       "description_width": ""
      }
     },
     "fa11cf797eeb4061881ffb33ca7683d2": {
      "model_module": "@jupyter-widgets/controls",
      "model_module_version": "2.0.0",
      "model_name": "HTMLStyleModel",
      "state": {
       "description_width": "",
       "font_size": null,
       "text_color": null
      }
     },
     "fa2642523833400e83b980774a08b804": {
      "model_module": "@jupyter-widgets/base",
      "model_module_version": "2.0.0",
      "model_name": "LayoutModel",
      "state": {}
     },
     "fa87cc94c2cb482baec28dabc28374ea": {
      "model_module": "@jupyter-widgets/base",
      "model_module_version": "2.0.0",
      "model_name": "LayoutModel",
      "state": {}
     },
     "fab12e66f7ec4261bdc4619f7d4c8754": {
      "model_module": "@jupyter-widgets/controls",
      "model_module_version": "2.0.0",
      "model_name": "HBoxModel",
      "state": {
       "children": [
        "IPY_MODEL_7d8fcc1c2c564ae58b6322b8cda77742",
        "IPY_MODEL_9bb9e35867e94871a2d4874709d02dda",
        "IPY_MODEL_cf4cfed5f47e4af6b068d80e12d72b7f"
       ],
       "layout": "IPY_MODEL_7d973e2eaab24a26a0d4be5b3244956d"
      }
     },
     "fae2e6cc0c91420996cf5b184abe2970": {
      "model_module": "@jupyter-widgets/base",
      "model_module_version": "2.0.0",
      "model_name": "LayoutModel",
      "state": {}
     },
     "fae39819c3024360a07e40cfccacd305": {
      "model_module": "@jupyter-widgets/controls",
      "model_module_version": "2.0.0",
      "model_name": "ProgressStyleModel",
      "state": {
       "description_width": ""
      }
     },
     "fb1c50bf78354b15af2cbc36d5091718": {
      "model_module": "@jupyter-widgets/controls",
      "model_module_version": "2.0.0",
      "model_name": "ProgressStyleModel",
      "state": {
       "description_width": ""
      }
     },
     "fb3a1b082e65432392452cd49c970a73": {
      "model_module": "@jupyter-widgets/controls",
      "model_module_version": "2.0.0",
      "model_name": "HBoxModel",
      "state": {
       "children": [
        "IPY_MODEL_3767e895567141f69389dd4636fcf6a1",
        "IPY_MODEL_85c23e55d235466ebaa44be15371f929",
        "IPY_MODEL_eee150e3cec144ea8646f186c359c62d"
       ],
       "layout": "IPY_MODEL_1c45257b9b8340679df54b5b7a2a5a1e"
      }
     },
     "fb94761835d646f09fbd8e3f57fc82c0": {
      "model_module": "@jupyter-widgets/base",
      "model_module_version": "2.0.0",
      "model_name": "LayoutModel",
      "state": {}
     },
     "fbc72fa198d94dd39868a5b70e101465": {
      "model_module": "@jupyter-widgets/controls",
      "model_module_version": "2.0.0",
      "model_name": "HBoxModel",
      "state": {
       "children": [
        "IPY_MODEL_82bc25fffed1478c97f2afed6c79191a",
        "IPY_MODEL_a18f57bf097949109fd530635c89460b",
        "IPY_MODEL_b71871288ece4ac4b2d782c903de093e"
       ],
       "layout": "IPY_MODEL_c02bf874e6b34574aa3f1ad3a60a94fe"
      }
     },
     "fc4a8b07ed3e4b80ab734b5b4016793d": {
      "model_module": "@jupyter-widgets/base",
      "model_module_version": "2.0.0",
      "model_name": "LayoutModel",
      "state": {}
     },
     "fc78b8c9ccae4de7a0c43055b394524a": {
      "model_module": "@jupyter-widgets/base",
      "model_module_version": "2.0.0",
      "model_name": "LayoutModel",
      "state": {}
     },
     "fc7be59ec08c4fa69d6e82d642261919": {
      "model_module": "@jupyter-widgets/controls",
      "model_module_version": "2.0.0",
      "model_name": "HTMLStyleModel",
      "state": {
       "description_width": "",
       "font_size": null,
       "text_color": null
      }
     },
     "fc92cb3fd57f4f489ec0147bbdaeb024": {
      "model_module": "@jupyter-widgets/controls",
      "model_module_version": "2.0.0",
      "model_name": "HTMLModel",
      "state": {
       "layout": "IPY_MODEL_ceb9831a840d4d51b46454e6f8739e96",
       "style": "IPY_MODEL_ce2c58b6719144e9a8f97e1c343edf5e",
       "value": " 631/631 [00:00&lt;00:00, 175271.91it/s]"
      }
     },
     "fc936681009d48709e60e00e94536813": {
      "model_module": "@jupyter-widgets/controls",
      "model_module_version": "2.0.0",
      "model_name": "HTMLModel",
      "state": {
       "layout": "IPY_MODEL_13ae4d9dff2a4d12853a924ec3438559",
       "style": "IPY_MODEL_5be6d82bebf04ff49667ede270adf1b7",
       "value": " 612/612 [00:39&lt;00:00, 15.65it/s]"
      }
     },
     "fca1d96d7c65431b95aaa3250069367b": {
      "model_module": "@jupyter-widgets/controls",
      "model_module_version": "2.0.0",
      "model_name": "HTMLModel",
      "state": {
       "layout": "IPY_MODEL_62f19da5835d4703acf39e8fa810fa97",
       "style": "IPY_MODEL_52ee21c1548f43dbadc4cd2d26801b74",
       "value": "100%"
      }
     },
     "fcabc8a5400542668191448720591c39": {
      "model_module": "@jupyter-widgets/controls",
      "model_module_version": "2.0.0",
      "model_name": "HTMLModel",
      "state": {
       "layout": "IPY_MODEL_c30eb801fa1c47da9462a2d86d3d16f1",
       "style": "IPY_MODEL_b1b1a298313c4962b073c7b99fc8099f",
       "value": "100%"
      }
     },
     "fcb83788e14540128c443f84a3ce53f7": {
      "model_module": "@jupyter-widgets/base",
      "model_module_version": "2.0.0",
      "model_name": "LayoutModel",
      "state": {}
     },
     "fcfe9b3242e64f6ea09e0fab030e8648": {
      "model_module": "@jupyter-widgets/controls",
      "model_module_version": "2.0.0",
      "model_name": "HTMLModel",
      "state": {
       "layout": "IPY_MODEL_2cc8e40d57a540e48c005abe4c81019a",
       "style": "IPY_MODEL_d240c4450abb4af6b6743da477a5e172",
       "value": "100%"
      }
     },
     "fd0824bf3f11433fbab0c9c2a286c147": {
      "model_module": "@jupyter-widgets/controls",
      "model_module_version": "2.0.0",
      "model_name": "HTMLModel",
      "state": {
       "layout": "IPY_MODEL_13931d2503aa49d5a10c7696280f3600",
       "style": "IPY_MODEL_6c6f61f6b06d40e598d13e453035ec33",
       "value": " 722/722 [00:00&lt;00:00, 200455.91it/s]"
      }
     },
     "fd19551fc78d474db71f3125d57d9d40": {
      "model_module": "@jupyter-widgets/base",
      "model_module_version": "2.0.0",
      "model_name": "LayoutModel",
      "state": {}
     },
     "fd27dfd3df7d409099218513f6a23e81": {
      "model_module": "@jupyter-widgets/base",
      "model_module_version": "2.0.0",
      "model_name": "LayoutModel",
      "state": {}
     },
     "fd523c40609743caa5f4425088dd2dd8": {
      "model_module": "@jupyter-widgets/base",
      "model_module_version": "2.0.0",
      "model_name": "LayoutModel",
      "state": {}
     },
     "fd6e9c66513e4c6fa7660ecdfa02bf60": {
      "model_module": "@jupyter-widgets/controls",
      "model_module_version": "2.0.0",
      "model_name": "FloatProgressModel",
      "state": {
       "bar_style": "success",
       "layout": "IPY_MODEL_dd6b35262a5a4453820253334bc4fd54",
       "max": 624,
       "style": "IPY_MODEL_b72c1c9fd6e248e39acfa9697e280ef0",
       "value": 624
      }
     },
     "fd86c69dc56847eeb3f4aa453ce0985d": {
      "model_module": "@jupyter-widgets/controls",
      "model_module_version": "2.0.0",
      "model_name": "HTMLModel",
      "state": {
       "layout": "IPY_MODEL_b7b3b391dc9b4685819b6bf0228a4925",
       "style": "IPY_MODEL_00a5eeca05dd4b7dac5a9d5c2c43da7c",
       "value": " 674/674 [00:00&lt;00:00, 187005.42it/s]"
      }
     },
     "fd9835e5e0d04ae2b6aabc809c96cfea": {
      "model_module": "@jupyter-widgets/base",
      "model_module_version": "2.0.0",
      "model_name": "LayoutModel",
      "state": {}
     },
     "fdb15cdbaba44c5a9a0874747dfd2081": {
      "model_module": "@jupyter-widgets/base",
      "model_module_version": "2.0.0",
      "model_name": "LayoutModel",
      "state": {}
     },
     "fdb65a9dc4f24dea9bbe2709c118d778": {
      "model_module": "@jupyter-widgets/base",
      "model_module_version": "2.0.0",
      "model_name": "LayoutModel",
      "state": {}
     },
     "fde1754d0e954bf2bdf577a1fc92845d": {
      "model_module": "@jupyter-widgets/controls",
      "model_module_version": "2.0.0",
      "model_name": "HTMLModel",
      "state": {
       "layout": "IPY_MODEL_5b50e51952c04c858f30d7bde051ab9f",
       "style": "IPY_MODEL_39d806c3467b433aa7aa05fc84c7b349",
       "value": " 588/588 [00:37&lt;00:00, 15.43it/s]"
      }
     },
     "fe186ca510e44428876021a7988c1b55": {
      "model_module": "@jupyter-widgets/controls",
      "model_module_version": "2.0.0",
      "model_name": "HTMLStyleModel",
      "state": {
       "description_width": "",
       "font_size": null,
       "text_color": null
      }
     },
     "fe2dba880eac45c08af2e98140e395a9": {
      "model_module": "@jupyter-widgets/controls",
      "model_module_version": "2.0.0",
      "model_name": "ProgressStyleModel",
      "state": {
       "description_width": ""
      }
     },
     "fe4a7158cd9d4224bda26ee52929b0ff": {
      "model_module": "@jupyter-widgets/controls",
      "model_module_version": "2.0.0",
      "model_name": "ProgressStyleModel",
      "state": {
       "description_width": ""
      }
     },
     "fe5d229e7eda40a5a00709a386daa3ef": {
      "model_module": "@jupyter-widgets/controls",
      "model_module_version": "2.0.0",
      "model_name": "FloatProgressModel",
      "state": {
       "bar_style": "danger",
       "layout": "IPY_MODEL_42838220993c4abc811a9972b21920ce",
       "max": 465,
       "style": "IPY_MODEL_c75f4085889b40b88a90aab25fa32589"
      }
     },
     "fe7237390695413f8b2410bdcc8b6e3b": {
      "model_module": "@jupyter-widgets/controls",
      "model_module_version": "2.0.0",
      "model_name": "HTMLModel",
      "state": {
       "layout": "IPY_MODEL_a7f62f14249a4995b115edf4052215d3",
       "style": "IPY_MODEL_e75f7eb028484a6393e05688b38a4c93",
       "value": " 646/646 [00:00&lt;00:00, 177371.06it/s]"
      }
     },
     "fe72d68904f94ec094cb9d5a442aff36": {
      "model_module": "@jupyter-widgets/base",
      "model_module_version": "2.0.0",
      "model_name": "LayoutModel",
      "state": {}
     },
     "fe77fe09cf694c58994b5fc45753f6f6": {
      "model_module": "@jupyter-widgets/controls",
      "model_module_version": "2.0.0",
      "model_name": "HTMLModel",
      "state": {
       "layout": "IPY_MODEL_af84d969421c4c0b9e665c62a44a1938",
       "style": "IPY_MODEL_2e3b0ec56e30443e948aa4f646c1340b",
       "value": "100%"
      }
     },
     "fe8de5ed911f439d91d4d8b04ff63c64": {
      "model_module": "@jupyter-widgets/controls",
      "model_module_version": "2.0.0",
      "model_name": "HTMLModel",
      "state": {
       "layout": "IPY_MODEL_f1754fab3c804b9289aae50d30edaf3d",
       "style": "IPY_MODEL_dbc0764abf7241f48bd73a6a900c3929",
       "value": " 587/587 [00:00&lt;00:00, 160342.33it/s]"
      }
     },
     "fe9a0775c90b4cd7817f5538ab25f3f4": {
      "model_module": "@jupyter-widgets/controls",
      "model_module_version": "2.0.0",
      "model_name": "HTMLModel",
      "state": {
       "layout": "IPY_MODEL_f3d5a93b2efe4de0b5e0b83a85c6e425",
       "style": "IPY_MODEL_0d3e190cc31f4b74b14df9b5e34bfdea",
       "value": " 653/653 [00:00&lt;00:00, 183031.31it/s]"
      }
     },
     "fe9c8b491a37499188c3dc4b07723503": {
      "model_module": "@jupyter-widgets/controls",
      "model_module_version": "2.0.0",
      "model_name": "HTMLStyleModel",
      "state": {
       "description_width": "",
       "font_size": null,
       "text_color": null
      }
     },
     "fed97aba10de461dbbe278d7db8bf9bf": {
      "model_module": "@jupyter-widgets/controls",
      "model_module_version": "2.0.0",
      "model_name": "HTMLModel",
      "state": {
       "layout": "IPY_MODEL_ffe3fff295b546fc82dde2977913a26a",
       "style": "IPY_MODEL_5699586178b6405ba0220b1ec0aeff8f",
       "value": " 711/711 [00:00&lt;00:00, 199394.90it/s]"
      }
     },
     "ff121fed93934ade8ed1e324b673464c": {
      "model_module": "@jupyter-widgets/base",
      "model_module_version": "2.0.0",
      "model_name": "LayoutModel",
      "state": {}
     },
     "ff187854edc74da88e87d7fa1fdf4661": {
      "model_module": "@jupyter-widgets/controls",
      "model_module_version": "2.0.0",
      "model_name": "HTMLModel",
      "state": {
       "layout": "IPY_MODEL_7e71eb67de58420181074d69b1b3ea1c",
       "style": "IPY_MODEL_e73bc6b0cbad4e3195dc37d8dddf7e1c",
       "value": "  0%"
      }
     },
     "ff30bc6c73f7470997c001e7f943f98f": {
      "model_module": "@jupyter-widgets/controls",
      "model_module_version": "2.0.0",
      "model_name": "HTMLStyleModel",
      "state": {
       "description_width": "",
       "font_size": null,
       "text_color": null
      }
     },
     "ff36a486f65d4177aa05a006d96fbe22": {
      "model_module": "@jupyter-widgets/controls",
      "model_module_version": "2.0.0",
      "model_name": "ProgressStyleModel",
      "state": {
       "description_width": ""
      }
     },
     "ff6f0466225241699c82520814e26260": {
      "model_module": "@jupyter-widgets/controls",
      "model_module_version": "2.0.0",
      "model_name": "HTMLStyleModel",
      "state": {
       "description_width": "",
       "font_size": null,
       "text_color": null
      }
     },
     "ffa48bc67228484bbc0f9c70a4512dd4": {
      "model_module": "@jupyter-widgets/controls",
      "model_module_version": "2.0.0",
      "model_name": "HTMLStyleModel",
      "state": {
       "description_width": "",
       "font_size": null,
       "text_color": null
      }
     },
     "ffc6a525824244e1ae017178280075ea": {
      "model_module": "@jupyter-widgets/controls",
      "model_module_version": "2.0.0",
      "model_name": "HTMLStyleModel",
      "state": {
       "description_width": "",
       "font_size": null,
       "text_color": null
      }
     },
     "ffe3fff295b546fc82dde2977913a26a": {
      "model_module": "@jupyter-widgets/base",
      "model_module_version": "2.0.0",
      "model_name": "LayoutModel",
      "state": {}
     },
     "fff68e95eb3f44c8af371b7d9d5d3c7f": {
      "model_module": "@jupyter-widgets/controls",
      "model_module_version": "2.0.0",
      "model_name": "HBoxModel",
      "state": {
       "children": [
        "IPY_MODEL_557dfc1850064c0ca5bfe6d145cd9692",
        "IPY_MODEL_ce7365a877474f2eb48b73cd09b69695",
        "IPY_MODEL_f0e87bcef12542ac92b6ab72f8b910e3"
       ],
       "layout": "IPY_MODEL_d4e42be4e3e84c02a02f5a2800695f66"
      }
     }
    },
    "version_major": 2,
    "version_minor": 0
   }
  }
 },
 "nbformat": 4,
 "nbformat_minor": 5
}
