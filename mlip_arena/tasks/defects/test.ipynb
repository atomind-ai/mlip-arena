{
 "cells": [
  {
   "cell_type": "code",
   "execution_count": null,
   "metadata": {
    "tags": []
   },
   "outputs": [],
   "source": [
    "import glob\n",
    "from tqdm.auto import tqdm\n",
    "\n",
    "import numpy as np\n",
    "\n",
    "from ase import units\n",
    "from ase.db import connect\n",
    "from ase.calculators.singlepoint import SinglePointCalculator\n",
    "from pymatgen.io.vasp import Vasprun\n"
   ]
  },
  {
   "cell_type": "code",
   "execution_count": null,
   "metadata": {
    "tags": []
   },
   "outputs": [],
   "source": [
    "import os\n",
    "import numpy as np\n",
    "import warnings\n",
    "from datetime import datetime\n",
    "\n",
    "from pymatgen.core.structure import Structure\n",
    "from pymatgen.io.vasp.outputs import Vasprun\n",
    "\n",
    "\n",
    "def parse_steps(ionic_steps, number_of_steps=10):\n",
    "    # Select the steps we want to use (10 equally-spaced steps by default)\n",
    "    indexes = [\n",
    "        int(i) for i in np.linspace(start=0, stop=len(ionic_steps)-1, num=number_of_steps)\n",
    "    ]\n",
    "    selected_steps = [\n",
    "        ionic_steps[i] for i in indexes\n",
    "    ]\n",
    "    # Select the quantities we want to use: Energy, Force, Stress, Structure\n",
    "    for i, step in enumerate(selected_steps):\n",
    "        selected_steps[i] = {\n",
    "            'e_0_energy': step['e_0_energy'],\n",
    "            'forces': step['forces'],\n",
    "            'stress': (np.array(step['stress']) * -0.1).tolist(),  # from kPa to GPa\n",
    "            \"structure\": step[\"structure\"],\n",
    "        }\n",
    "    return selected_steps\n",
    "\n",
    "\n",
    "def sort_vaspruns_by_date(list_of_vasprun_files):\n",
    "    \"\"\"Sort list of vasprunfiles by date (last part of name)\"\"\"\n",
    "    # Last vasprun.xml file (most recent) is assigned the current date+time\n",
    "    now = datetime.now()\n",
    "    now = (int(now.year), now.month, now.day, now.hour, now.minute)\n",
    "    if len(list_of_vasprun_files) > 1:\n",
    "        # Then sort files by date (last part of name)\n",
    "        dates = {\n",
    "            f.split(\"vasprun.xml\")[-1]: f for f in list_of_vasprun_files\n",
    "            if \"on\" in f\n",
    "        }\n",
    "        #print(dates)\n",
    "        d = {\n",
    "            (\n",
    "                int(f.split(\"on\")[1].split(\"_\")[2].split(\".\")[0]), # year\n",
    "                int(f.split(\"on\")[1].split(\"_\")[1]), # month\n",
    "                int(f.split(\"on\")[1].rsplit(\"_\")[0]), # day\n",
    "                int(f.split(\"on\")[0].split(\"_\", 1)[1].split(\"_\")[0]), # hour\n",
    "                int(f.split(\"on\")[0].split(\"_\", 1)[1].split(\"_\")[1]), # minute\n",
    "            ): v  for f, v in dates.items()\n",
    "        }\n",
    "        # Append last vasprun file (no date in the filename)\n",
    "        d[now] = \"vasprun.xml\"\n",
    "        # Sort by keys (oldest to newest)\n",
    "        d = {k: d[k] for k in sorted(d)}\n",
    "        #print(d)\n",
    "    elif len(list_of_vasprun_files) == 1:\n",
    "        d = {now: \"vasprun.xml\"}\n",
    "    else:\n",
    "        print(\"No vasprun files found!\")\n",
    "        return None\n",
    "    return list(d.values())\n",
    "\n",
    "\n",
    "def parse_distortion_vaspruns(defect_path, dist,):\n",
    "    \"\"\"\n",
    "    Parse all electronically-converged ionic steps for a given SnB distortion\n",
    "    folder.\n",
    "\n",
    "    Args:\n",
    "        defect_path (_type_): _description_\n",
    "        dist (_type_): _description_\n",
    "\n",
    "    Raises:\n",
    "        ValueError: _description_\n",
    "\n",
    "    Returns:\n",
    "        list: list of electronically converged ionic steps.\n",
    "    \"\"\"\n",
    "    vasprun_files = [\n",
    "        f for f in os.listdir(os.path.join(defect_path, dist)) if \"vasprun.xml\" in f\n",
    "    ]  # Get all vasprun files in the folder\n",
    "    sorted_vasprun_files = sort_vaspruns_by_date(\n",
    "        vasprun_files\n",
    "    )  # sort by date (oldest first)\n",
    "    if not sorted_vasprun_files:\n",
    "        return None\n",
    "    print(f\"Dist {dist}, files to parse:\", sorted_vasprun_files)\n",
    "    all_ionic_steps = []\n",
    "    # Parse each vasprun file\n",
    "    for vasprun_file in [sorted_vasprun_files[0], sorted_vasprun_files[-1]]:\n",
    "        #print(vasprun_file)\n",
    "        try:\n",
    "            vasprun = Vasprun(\n",
    "                filename=os.path.join(defect_path, dist, vasprun_file),\n",
    "                parse_potcar_file=False,\n",
    "                parse_dos=False,\n",
    "                parse_eigen=False,\n",
    "                exception_on_bad_xml=False,\n",
    "            )\n",
    "            # Loop over ionic steps to check if electronically-converged\n",
    "            # Check if calc run out of time -> last step not converged, yet n_elec_steps < NELM\n",
    "            if not vasprun.converged_electronic:\n",
    "                print(f\"Calculation did not converge for {vasprun_file}. Removing last ionic step.\")\n",
    "                ionic_steps_tmp = vasprun.ionic_steps[:-1]\n",
    "            else:\n",
    "                ionic_steps_tmp = vasprun.ionic_steps\n",
    "            # Read NELM\n",
    "            try:\n",
    "                nelm = vasprun.parameters[\"NELM\"]\n",
    "            except:\n",
    "                raise ValueError(\"NELM not found in vasprun parameters\")\n",
    "\n",
    "            # Filter electronically-converged ionic steps\n",
    "            for ionic_step in ionic_steps_tmp:\n",
    "                if len(ionic_step[\"electronic_steps\"]) < nelm: # Converged\n",
    "                    # Check not already present in all_ionic_steps (repeat vasprun files)\n",
    "                    if ionic_step not in all_ionic_steps:\n",
    "                        all_ionic_steps.append(ionic_step)\n",
    "                    else:\n",
    "                        print(f\"Ionic step already present in {vasprun_file}\")\n",
    "        except:\n",
    "            print(f\"Error reading {os.path.join(defect_path, dist, vasprun_file)} file\")\n",
    "    return all_ionic_steps\n",
    "\n",
    "\n",
    "def parse_defects(\n",
    "    base_path=\"../../02_Defects/01_Training\",\n",
    "    calculated_compositions=[],\n",
    "    compositions=None,\n",
    "):\n",
    "    \"\"\"\n",
    "    Parse all ionic steps for defects in base_path, whose host\n",
    "    is not in calculated_compositions.\n",
    "    \"\"\"\n",
    "    if not compositions:\n",
    "        compositions = os.listdir(base_path)\n",
    "    data = {}\n",
    "    for comp in os.listdir(base_path):\n",
    "        if (\n",
    "            os.path.isdir(os.path.join(base_path, comp))\n",
    "            and comp not in calculated_compositions\n",
    "            and comp in compositions\n",
    "        ):\n",
    "            print(\"\\n\", comp)\n",
    "            for defect in tqdm(os.listdir(os.path.join(base_path, comp))):\n",
    "                if (\n",
    "                    os.path.isdir(os.path.join(base_path, comp, defect))\n",
    "                    and defect.endswith(\"_0\")  # Neutral defects only\n",
    "                ):\n",
    "                    print(defect)\n",
    "                    data[f\"{comp}_{defect}\"] = {}\n",
    "                    # Loop over distortions\n",
    "                    for dist in os.listdir(os.path.join(base_path, comp, defect)):\n",
    "                        if os.path.isdir(os.path.join(base_path, comp, defect, dist)):\n",
    "                            #print(f\"Parsing vasprun for {dist}\")\n",
    "                            ionic_steps = parse_distortion_vaspruns(\n",
    "                                os.path.join(base_path, comp, defect), dist,\n",
    "                            )\n",
    "                            if ionic_steps:\n",
    "                                data[f\"{comp}_{defect}\"][dist] = ionic_steps\n",
    "    return data\n",
    "\n",
    "\n",
    "def select_steps(data, number_of_steps=10):\n",
    "    selected_data = {}\n",
    "    for defect in data:\n",
    "        selected_data[defect] = {}\n",
    "        for dist, d in data[defect].items():\n",
    "            selected_data[defect][dist] = []\n",
    "            indexes = [\n",
    "                int(i)\n",
    "                for i in np.linspace(\n",
    "                    start=0, stop=len(d) - 1,\n",
    "                    num=number_of_steps\n",
    "                )\n",
    "            ]\n",
    "            selected_steps = [\n",
    "                d[i] for i in indexes\n",
    "            ]\n",
    "            for step in selected_steps:\n",
    "                selected_data[defect][dist].append(step)\n",
    "    return selected_data\n",
    "\n",
    "\n",
    "def save_ionic_indexes(data, number_of_steps=10):\n",
    "    ind_dict = {}\n",
    "    for defect in data:\n",
    "        ind_dict[defect] = {}\n",
    "        for dist, d in data[defect].items():\n",
    "            indexes = [\n",
    "                int(i)\n",
    "                for i in np.linspace(\n",
    "                    start=0, stop=len(d) - 1,\n",
    "                    num=number_of_steps\n",
    "                )\n",
    "            ]\n",
    "            ind_dict[defect][dist] = indexes\n",
    "    return ind_dict\n",
    "\n",
    "\n",
    "def refactor_to_lists_with_defect(data):\n",
    "    \"\"\"\n",
    "    Refactor data dict (matching comp -> defect -> dist -> all/selected ionic steps)\n",
    "    to lists of energies, forces, stresses, structures and defect names.\n",
    "    \"\"\"\n",
    "    processed_data = {\n",
    "        \"energies\": [],\n",
    "        \"forces\": [],\n",
    "        \"stresses\": [],\n",
    "        \"structures\": [],\n",
    "        \"defects\": [],\n",
    "    }\n",
    "    for defect in data:\n",
    "        for dist, d in data[defect].items():\n",
    "            for step in d:\n",
    "                if step[\"e_0_energy\"] < 0:\n",
    "                    processed_data[\"energies\"].append(step[\"e_0_energy\"])\n",
    "                    processed_data[\"forces\"].append(step[\"forces\"])\n",
    "                    processed_data[\"stresses\"].append(\n",
    "                        (np.array(step['stress']) * -0.1).tolist()\n",
    "                    )  # from kPa to GPa\n",
    "                    processed_data[\"structures\"].append(step[\"structure\"])\n",
    "                    processed_data[\"defects\"].append(defect)\n",
    "    return processed_data"
   ]
  },
  {
   "cell_type": "code",
   "execution_count": 24,
   "metadata": {
    "tags": []
   },
   "outputs": [
    {
     "data": {
      "application/vnd.jupyter.widget-view+json": {
       "model_id": "7102ec2397584ef186748e4058e1c66f",
       "version_major": 2,
       "version_minor": 0
      },
      "text/plain": [
       "  0%|          | 0/68 [00:00<?, ?it/s]"
      ]
     },
     "metadata": {},
     "output_type": "display_data"
    },
    {
     "name": "stdout",
     "output_type": "stream",
     "text": [
      "no element found: line 5804, column 0\n",
      "./bulk_primitive_folders/BiSI/vasprun.xml\n"
     ]
    }
   ],
   "source": [
    "from collections import defaultdict\n",
    "\n",
    "db = connect('HSE06_.db')\n",
    "\n",
    "vrun_files = glob.glob(\"./bulk_primitive_folders/*/vasprun.xml\")\n",
    "\n",
    "for file in tqdm(vrun_files):\n",
    "    \n",
    "    composition = file.split('/')[-2]\n",
    "    \n",
    "    try:\n",
    "        vrun = Vasprun(\n",
    "            file,\n",
    "            parse_potcar_file=False,\n",
    "            parse_dos=False,\n",
    "            parse_eigen=False,\n",
    "        )\n",
    "        assert vrun.converged_electronic == True\n",
    "        assert vrun.converged_ionic == True\n",
    "        \n",
    "        last_step = vrun.ionic_steps[-1]\n",
    "        energy = last_step['e_0_energy']\n",
    "        stress = np.array(last_step['stress']) * -0.1 * units.GPa\n",
    "        forces = np.array(last_step['forces'])\n",
    "        atoms = last_step['structure'].to_ase_atoms()\n",
    "\n",
    "        atoms.calc = SinglePointCalculator(\n",
    "            atoms=atoms,\n",
    "            energy=energy,\n",
    "            forces=forces,\n",
    "            stress=stress\n",
    "        )\n",
    "        \n",
    "        id = db.reserve(host=composition, functional='HSE06', defect='pristine')\n",
    "        \n",
    "        if id is None:\n",
    "            continue\n",
    "        else:\n",
    "            db.write(atoms, host=composition, functional='HSE06', defect='pristine')\n",
    "\n",
    "    except Exception as e:\n",
    "        print(e)\n",
    "        print(file)"
   ]
  },
  {
   "cell_type": "code",
   "execution_count": null,
   "metadata": {
    "scrolled": true,
    "tags": []
   },
   "outputs": [],
   "source": [
    "defects = parse_defects(\n",
    "    base_path=\"./defect_relaxations/01_Training/\",\n",
    ")"
   ]
  },
  {
   "cell_type": "code",
   "execution_count": 23,
   "metadata": {
    "tags": []
   },
   "outputs": [
    {
     "data": {
      "text/plain": [
       "dict_keys(['Bond_Distortion_20.0%', 'Unperturbed', 'Bond_Distortion_40.0%', 'Bond_Distortion_-10.0%', 'Bond_Distortion_0.0%', 'Bond_Distortion_-60.0%', 'Bond_Distortion_-20.0%', 'Bond_Distortion_30.0%', 'Bond_Distortion_10.0%', 'Dimer', 'Bond_Distortion_-40.0%', 'Bond_Distortion_-50.0%', 'Bond_Distortion_50.0%', 'Bond_Distortion_60.0%', 'Bond_Distortion_-30.0%'])"
      ]
     },
     "execution_count": 23,
     "metadata": {},
     "output_type": "execute_result"
    }
   ],
   "source": [
    "distortions.keys()"
   ]
  },
  {
   "cell_type": "code",
   "execution_count": 25,
   "metadata": {},
   "outputs": [],
   "source": [
    "for defect, distortions in defects.items():\n",
    "    for distortion in distortions:\n",
    "        \n",
    "        step = distortions[distortion][0]\n",
    "        \n",
    "        energy = step['e_0_energy']\n",
    "        stress = np.array(step['stress']) * -0.1 * units.GPa\n",
    "        forces = np.array(step['forces'])\n",
    "        atoms = step['structure'].to_ase_atoms()\n",
    "\n",
    "        atoms.calc = SinglePointCalculator(\n",
    "            atoms=atoms,\n",
    "            energy=energy,\n",
    "            forces=forces,\n",
    "            stress=stress\n",
    "        )\n",
    "        \n",
    "        db.write(\n",
    "            atoms, \n",
    "            host=defect.split('_')[0], \n",
    "            functional='HSE06', \n",
    "            defect='_'.join(defect.split('_')[1:]),\n",
    "            distortion=distortion,\n",
    "            relaxed=False\n",
    "        )\n",
    "        \n",
    "        step = distortions[distortion][-1]\n",
    "        \n",
    "        energy = step['e_0_energy']\n",
    "        stress = np.array(step['stress']) * -0.1 * units.GPa\n",
    "        forces = np.array(step['forces'])\n",
    "        atoms = step['structure'].to_ase_atoms()\n",
    "\n",
    "        atoms.calc = SinglePointCalculator(\n",
    "            atoms=atoms,\n",
    "            energy=energy,\n",
    "            forces=forces,\n",
    "            stress=stress\n",
    "        )\n",
    "        \n",
    "        db.write(\n",
    "            atoms, \n",
    "            host=defect.split('_')[0], \n",
    "            functional='HSE06', \n",
    "            defect='_'.join(defect.split('_')[1:]),\n",
    "            distortion=distortion,\n",
    "            relaxed=True\n",
    "        )\n",
    "        "
   ]
  },
  {
   "cell_type": "code",
   "execution_count": 16,
   "metadata": {},
   "outputs": [],
   "source": [
    "\n",
    "db = connect('HSE06.db')\n",
    "\n",
    "ids = [row.id for row in db.select() if len(row.toatoms())==0]\n",
    "\n",
    "db.delete(ids)"
   ]
  },
  {
   "cell_type": "code",
   "execution_count": 18,
   "metadata": {
    "tags": []
   },
   "outputs": [],
   "source": []
  },
  {
   "cell_type": "code",
   "execution_count": null,
   "metadata": {},
   "outputs": [],
   "source": []
  }
 ],
 "metadata": {
  "kernelspec": {
   "display_name": "mlip-arena",
   "language": "python",
   "name": "mlip-arena"
  },
  "language_info": {
   "codemirror_mode": {
    "name": "ipython",
    "version": 3
   },
   "file_extension": ".py",
   "mimetype": "text/x-python",
   "name": "python",
   "nbconvert_exporter": "python",
   "pygments_lexer": "ipython3",
   "version": "3.11.8"
  },
  "widgets": {
   "application/vnd.jupyter.widget-state+json": {
    "state": {
     "00094be77de14d478fba29e11feed291": {
      "model_module": "@jupyter-widgets/base",
      "model_module_version": "2.0.0",
      "model_name": "LayoutModel",
      "state": {}
     },
     "00c74500d319489cb26aae4654aef89a": {
      "model_module": "@jupyter-widgets/controls",
      "model_module_version": "2.0.0",
      "model_name": "HTMLStyleModel",
      "state": {
       "description_width": "",
       "font_size": null,
       "text_color": null
      }
     },
     "00ef1a3a9bd1477fadc9eff6f43a9188": {
      "model_module": "@jupyter-widgets/controls",
      "model_module_version": "2.0.0",
      "model_name": "HTMLStyleModel",
      "state": {
       "description_width": "",
       "font_size": null,
       "text_color": null
      }
     },
     "022c6b35314f40be94759ebb76e65e90": {
      "model_module": "@jupyter-widgets/controls",
      "model_module_version": "2.0.0",
      "model_name": "HBoxModel",
      "state": {
       "children": [
        "IPY_MODEL_ea1422d4471b42a9b6c87a347cbc8d7b",
        "IPY_MODEL_a404e0b84db74e3ea637e5a40cc920a1",
        "IPY_MODEL_623744e61d52444aa1aefcbb486558bc"
       ],
       "layout": "IPY_MODEL_c7f3f1b11e4346238174e31b4208aa7d"
      }
     },
     "023bed9cadf0460391f4be210f8abb85": {
      "model_module": "@jupyter-widgets/controls",
      "model_module_version": "2.0.0",
      "model_name": "HTMLStyleModel",
      "state": {
       "description_width": "",
       "font_size": null,
       "text_color": null
      }
     },
     "0254f1750a7d48f29c501c1f90a95fa2": {
      "model_module": "@jupyter-widgets/controls",
      "model_module_version": "2.0.0",
      "model_name": "HBoxModel",
      "state": {
       "children": [
        "IPY_MODEL_ef82e517d6f94532b98734cf8e62b2d3",
        "IPY_MODEL_634780f8f9fb4e5d94de5004b70a476f",
        "IPY_MODEL_f21ef4e5262042c8b4a0bcd662d3010a"
       ],
       "layout": "IPY_MODEL_9c0612eae06c46a2862df539536462a5"
      }
     },
     "0288c7c4490e4993beaa6dd070e27da8": {
      "model_module": "@jupyter-widgets/base",
      "model_module_version": "2.0.0",
      "model_name": "LayoutModel",
      "state": {}
     },
     "031b347b0e7340a297cff17c1976a681": {
      "model_module": "@jupyter-widgets/controls",
      "model_module_version": "2.0.0",
      "model_name": "HTMLStyleModel",
      "state": {
       "description_width": "",
       "font_size": null,
       "text_color": null
      }
     },
     "0352c5eaf52d47f9bec038f3900920d3": {
      "model_module": "@jupyter-widgets/controls",
      "model_module_version": "2.0.0",
      "model_name": "HTMLStyleModel",
      "state": {
       "description_width": "",
       "font_size": null,
       "text_color": null
      }
     },
     "038ab656a8f84fd0b02e0dde75b7d9e1": {
      "model_module": "@jupyter-widgets/base",
      "model_module_version": "2.0.0",
      "model_name": "LayoutModel",
      "state": {}
     },
     "055b909f827546c298a6c1dfc77e1416": {
      "model_module": "@jupyter-widgets/controls",
      "model_module_version": "2.0.0",
      "model_name": "HTMLModel",
      "state": {
       "layout": "IPY_MODEL_74f16962f4b34512a5c3674325e79df7",
       "style": "IPY_MODEL_326501ae7c304d74ae1356f5e74b2e31",
       "value": " 3/3 [03:23&lt;00:00, 102.12s/it]"
      }
     },
     "05796c9a168a4221971f9aad9472d25a": {
      "model_module": "@jupyter-widgets/base",
      "model_module_version": "2.0.0",
      "model_name": "LayoutModel",
      "state": {}
     },
     "057fe2bb438c4d7ea8756ba433db93fe": {
      "model_module": "@jupyter-widgets/controls",
      "model_module_version": "2.0.0",
      "model_name": "HBoxModel",
      "state": {
       "children": [
        "IPY_MODEL_3d6e01e8edff49d3b4999ff7bd1c0baf",
        "IPY_MODEL_cc8d92a9e37544789f475871f5686618",
        "IPY_MODEL_b5a3bf88ca8d4069bb3927fa7dfc0385"
       ],
       "layout": "IPY_MODEL_3a20459acf1a436b950c53d1437d510c"
      }
     },
     "062fea9c5a5546168b04a3242ef1f02f": {
      "model_module": "@jupyter-widgets/controls",
      "model_module_version": "2.0.0",
      "model_name": "FloatProgressModel",
      "state": {
       "bar_style": "success",
       "layout": "IPY_MODEL_fce96c8ac7114a478c7c70327ab9d13e",
       "max": 9,
       "style": "IPY_MODEL_2c53e8c58e0841dc8eb3194b0e31ac61",
       "value": 9
      }
     },
     "0654d96c8ba74be1974d1bd6efa5f823": {
      "model_module": "@jupyter-widgets/base",
      "model_module_version": "2.0.0",
      "model_name": "LayoutModel",
      "state": {}
     },
     "0819f9a847df46d3993cd623b98907c3": {
      "model_module": "@jupyter-widgets/controls",
      "model_module_version": "2.0.0",
      "model_name": "HBoxModel",
      "state": {
       "children": [
        "IPY_MODEL_97d5ba290668451dbe8e3f42472a3e88",
        "IPY_MODEL_e00c93040ae44ddab06dabc1870aec6f",
        "IPY_MODEL_9883bc2cb4a24d99b0c4b6a209c9d16d"
       ],
       "layout": "IPY_MODEL_64451122c88944bb9ba28afea0e8ee02"
      }
     },
     "086f26b5afde47e382903490ed1d7c26": {
      "model_module": "@jupyter-widgets/base",
      "model_module_version": "2.0.0",
      "model_name": "LayoutModel",
      "state": {}
     },
     "08ec56e07f834dde879d8ee9358ffb42": {
      "model_module": "@jupyter-widgets/controls",
      "model_module_version": "2.0.0",
      "model_name": "FloatProgressModel",
      "state": {
       "bar_style": "success",
       "layout": "IPY_MODEL_8a4a7ed72c534a07b0d2c1b25a596d96",
       "max": 3,
       "style": "IPY_MODEL_603f20659bf04fa5b9b7a01648f1a890",
       "value": 3
      }
     },
     "092520f307ba43eab612e41c1f050cfe": {
      "model_module": "@jupyter-widgets/controls",
      "model_module_version": "2.0.0",
      "model_name": "HBoxModel",
      "state": {
       "children": [
        "IPY_MODEL_76e84c58f887413a9503b7e612c76b40",
        "IPY_MODEL_23f46b6c82084cd790dde611c350f006",
        "IPY_MODEL_5c7547e5755448ae80261bf3bedbfd56"
       ],
       "layout": "IPY_MODEL_bdcfdea20146405e9d267dde705ba215"
      }
     },
     "0adda3be187d4a78a0732d4c2bd051e4": {
      "model_module": "@jupyter-widgets/base",
      "model_module_version": "2.0.0",
      "model_name": "LayoutModel",
      "state": {}
     },
     "0c37c51462c74afbabf8a32a40087cdc": {
      "model_module": "@jupyter-widgets/base",
      "model_module_version": "2.0.0",
      "model_name": "LayoutModel",
      "state": {}
     },
     "0c789dd9ad764023ab0192c6159aee5d": {
      "model_module": "@jupyter-widgets/controls",
      "model_module_version": "2.0.0",
      "model_name": "HTMLStyleModel",
      "state": {
       "description_width": "",
       "font_size": null,
       "text_color": null
      }
     },
     "0ca02706bd4447508d2bc20faaddacb3": {
      "model_module": "@jupyter-widgets/controls",
      "model_module_version": "2.0.0",
      "model_name": "HTMLStyleModel",
      "state": {
       "description_width": "",
       "font_size": null,
       "text_color": null
      }
     },
     "0db5eed5e2e843aa90e1db6eb1c2e82e": {
      "model_module": "@jupyter-widgets/controls",
      "model_module_version": "2.0.0",
      "model_name": "HTMLStyleModel",
      "state": {
       "description_width": "",
       "font_size": null,
       "text_color": null
      }
     },
     "0f076bf959a44d0b80e7bc6aa1a9cb22": {
      "model_module": "@jupyter-widgets/base",
      "model_module_version": "2.0.0",
      "model_name": "LayoutModel",
      "state": {}
     },
     "0f361e2ce19e4af6954cfb3ce3fe6ace": {
      "model_module": "@jupyter-widgets/base",
      "model_module_version": "2.0.0",
      "model_name": "LayoutModel",
      "state": {}
     },
     "0fb93f4be0844de2b149e49627168b21": {
      "model_module": "@jupyter-widgets/controls",
      "model_module_version": "2.0.0",
      "model_name": "HTMLModel",
      "state": {
       "layout": "IPY_MODEL_209658b17f1a4b74b0907cacb3e9e935",
       "style": "IPY_MODEL_e43d2da1d8e54f9f9171f561f5eb12b9",
       "value": "100%"
      }
     },
     "0ff8d6298b7e4262bf0207f5590de80f": {
      "model_module": "@jupyter-widgets/controls",
      "model_module_version": "2.0.0",
      "model_name": "FloatProgressModel",
      "state": {
       "bar_style": "success",
       "layout": "IPY_MODEL_44d2600f127b4498b71d008c06ac899a",
       "max": 4,
       "style": "IPY_MODEL_290656f34289400d8b5a7c4ad5c72b97",
       "value": 4
      }
     },
     "1152a014c07441e6bad682cb8286f40f": {
      "model_module": "@jupyter-widgets/base",
      "model_module_version": "2.0.0",
      "model_name": "LayoutModel",
      "state": {}
     },
     "12895f90548a45789d9f54b4ab117358": {
      "model_module": "@jupyter-widgets/controls",
      "model_module_version": "2.0.0",
      "model_name": "FloatProgressModel",
      "state": {
       "bar_style": "success",
       "layout": "IPY_MODEL_bc49015a0ba240bdb08a7e8707098990",
       "max": 68,
       "style": "IPY_MODEL_aa45f20020164fc6ba551b358c6d704e",
       "value": 68
      }
     },
     "12b9d2a7cea94cbd8715fa579e36d9d9": {
      "model_module": "@jupyter-widgets/base",
      "model_module_version": "2.0.0",
      "model_name": "LayoutModel",
      "state": {}
     },
     "13111bab54514b7eac23d8e6ed90d989": {
      "model_module": "@jupyter-widgets/controls",
      "model_module_version": "2.0.0",
      "model_name": "HBoxModel",
      "state": {
       "children": [
        "IPY_MODEL_2385c099a1a5466ca2edb54ac4e66ac4",
        "IPY_MODEL_e18d00b8f5c64ac0af914cc4fab5aeb8",
        "IPY_MODEL_3b53c3772beb42618350e162b4cde884"
       ],
       "layout": "IPY_MODEL_bc8a743d154542449468e262ecd3af25"
      }
     },
     "1613ad88abc847108db8cce8a421843a": {
      "model_module": "@jupyter-widgets/base",
      "model_module_version": "2.0.0",
      "model_name": "LayoutModel",
      "state": {}
     },
     "1696ff7cd3d842b1a95fe0316e98a51f": {
      "model_module": "@jupyter-widgets/controls",
      "model_module_version": "2.0.0",
      "model_name": "HTMLStyleModel",
      "state": {
       "description_width": "",
       "font_size": null,
       "text_color": null
      }
     },
     "16985606e65f415e9b9c114d872f0531": {
      "model_module": "@jupyter-widgets/controls",
      "model_module_version": "2.0.0",
      "model_name": "FloatProgressModel",
      "state": {
       "bar_style": "success",
       "layout": "IPY_MODEL_1152a014c07441e6bad682cb8286f40f",
       "max": 2,
       "style": "IPY_MODEL_ea250698e0fc420eb97467fc64838802",
       "value": 2
      }
     },
     "16f0f037a0b74a09b21591e6f11812ce": {
      "model_module": "@jupyter-widgets/base",
      "model_module_version": "2.0.0",
      "model_name": "LayoutModel",
      "state": {}
     },
     "16f4b0a111a941b9a814246c6d684458": {
      "model_module": "@jupyter-widgets/base",
      "model_module_version": "2.0.0",
      "model_name": "LayoutModel",
      "state": {}
     },
     "176bb3b560e14aa0b1f85a7e6032a454": {
      "model_module": "@jupyter-widgets/controls",
      "model_module_version": "2.0.0",
      "model_name": "HTMLStyleModel",
      "state": {
       "description_width": "",
       "font_size": null,
       "text_color": null
      }
     },
     "1776687b3ac74b9d97076737f28fbdc7": {
      "model_module": "@jupyter-widgets/controls",
      "model_module_version": "2.0.0",
      "model_name": "HTMLStyleModel",
      "state": {
       "description_width": "",
       "font_size": null,
       "text_color": null
      }
     },
     "178654a5129740b3b201e0261472d850": {
      "model_module": "@jupyter-widgets/base",
      "model_module_version": "2.0.0",
      "model_name": "LayoutModel",
      "state": {}
     },
     "17e935a455404ebaa15108b151d15083": {
      "model_module": "@jupyter-widgets/base",
      "model_module_version": "2.0.0",
      "model_name": "LayoutModel",
      "state": {}
     },
     "18d549d4160f42ec8074c79292f5538b": {
      "model_module": "@jupyter-widgets/controls",
      "model_module_version": "2.0.0",
      "model_name": "FloatProgressModel",
      "state": {
       "bar_style": "success",
       "layout": "IPY_MODEL_038ab656a8f84fd0b02e0dde75b7d9e1",
       "max": 3,
       "style": "IPY_MODEL_206dd208d9bb44e6af98c37c8a58fae7",
       "value": 3
      }
     },
     "1bc62df04a6a4d22b9dd118a695cf2cc": {
      "model_module": "@jupyter-widgets/controls",
      "model_module_version": "2.0.0",
      "model_name": "HTMLModel",
      "state": {
       "layout": "IPY_MODEL_f1de5bdc3e0e46f782f991a327cdaeda",
       "style": "IPY_MODEL_95998f7d19b74421a02adbbf1e051e13",
       "value": " 4/4 [05:44&lt;00:00, 116.65s/it]"
      }
     },
     "1d3da57bbc1e4a03b37ce96c71603844": {
      "model_module": "@jupyter-widgets/base",
      "model_module_version": "2.0.0",
      "model_name": "LayoutModel",
      "state": {}
     },
     "1d98ac1aed2e4d70868ce8b7413d3022": {
      "model_module": "@jupyter-widgets/controls",
      "model_module_version": "2.0.0",
      "model_name": "ProgressStyleModel",
      "state": {
       "description_width": ""
      }
     },
     "1dd5acf59c8a46c08ae7860666bfa19a": {
      "model_module": "@jupyter-widgets/base",
      "model_module_version": "2.0.0",
      "model_name": "LayoutModel",
      "state": {}
     },
     "1f8110c846914780a7abc9f604a7da09": {
      "model_module": "@jupyter-widgets/controls",
      "model_module_version": "2.0.0",
      "model_name": "HTMLModel",
      "state": {
       "layout": "IPY_MODEL_cb5c859f649d46e0a2a11e86fee8d8fa",
       "style": "IPY_MODEL_00c74500d319489cb26aae4654aef89a",
       "value": " 4/4 [02:11&lt;00:00, 45.63s/it]"
      }
     },
     "1f918be1276347759388a9564b214df1": {
      "model_module": "@jupyter-widgets/controls",
      "model_module_version": "2.0.0",
      "model_name": "HTMLStyleModel",
      "state": {
       "description_width": "",
       "font_size": null,
       "text_color": null
      }
     },
     "1fd28075db8142c5aef88279d6fbcf7e": {
      "model_module": "@jupyter-widgets/controls",
      "model_module_version": "2.0.0",
      "model_name": "HTMLModel",
      "state": {
       "layout": "IPY_MODEL_599cfd1d329f4593bacd0155552d98af",
       "style": "IPY_MODEL_c53014a9aa5c4b87a159c6c62419b48e",
       "value": "100%"
      }
     },
     "1fed08ff3da54a57abe4dd727e945c67": {
      "model_module": "@jupyter-widgets/controls",
      "model_module_version": "2.0.0",
      "model_name": "HTMLStyleModel",
      "state": {
       "description_width": "",
       "font_size": null,
       "text_color": null
      }
     },
     "20331eea724343348dbc980313b36ff8": {
      "model_module": "@jupyter-widgets/controls",
      "model_module_version": "2.0.0",
      "model_name": "HTMLModel",
      "state": {
       "layout": "IPY_MODEL_bb7cd186eaae4aed9ecbfe25b1c75d6b",
       "style": "IPY_MODEL_7ebde2018a4f4ae59ff5f1ecfce70435",
       "value": " 68/68 [00:02&lt;00:00, 28.05it/s]"
      }
     },
     "206dd208d9bb44e6af98c37c8a58fae7": {
      "model_module": "@jupyter-widgets/controls",
      "model_module_version": "2.0.0",
      "model_name": "ProgressStyleModel",
      "state": {
       "description_width": ""
      }
     },
     "209658b17f1a4b74b0907cacb3e9e935": {
      "model_module": "@jupyter-widgets/base",
      "model_module_version": "2.0.0",
      "model_name": "LayoutModel",
      "state": {}
     },
     "21528a189d96400b903668f061fc95c6": {
      "model_module": "@jupyter-widgets/controls",
      "model_module_version": "2.0.0",
      "model_name": "HTMLModel",
      "state": {
       "layout": "IPY_MODEL_5c774fe3b20d444694ad591b7095097a",
       "style": "IPY_MODEL_5d855401ac8f46cfba99e7a20007c187",
       "value": "100%"
      }
     },
     "21965d3093004ee69ed74cb1f5191160": {
      "model_module": "@jupyter-widgets/controls",
      "model_module_version": "2.0.0",
      "model_name": "HTMLModel",
      "state": {
       "layout": "IPY_MODEL_799ec8c2f0904d27b25bbe888c40862f",
       "style": "IPY_MODEL_023bed9cadf0460391f4be210f8abb85",
       "value": "100%"
      }
     },
     "21d6c23cf15c47b79c115b30d1e8ac37": {
      "model_module": "@jupyter-widgets/base",
      "model_module_version": "2.0.0",
      "model_name": "LayoutModel",
      "state": {}
     },
     "21f8ffbbf5e942dbaeaf4a66ad5bc8a1": {
      "model_module": "@jupyter-widgets/controls",
      "model_module_version": "2.0.0",
      "model_name": "HTMLModel",
      "state": {
       "layout": "IPY_MODEL_865296f15e124f55b959195835ac6308",
       "style": "IPY_MODEL_0c789dd9ad764023ab0192c6159aee5d",
       "value": "100%"
      }
     },
     "22e78dd5385448a2b42cf853eaa7579b": {
      "model_module": "@jupyter-widgets/base",
      "model_module_version": "2.0.0",
      "model_name": "LayoutModel",
      "state": {}
     },
     "2368c2f75a5e456aab7caac0d19ae121": {
      "model_module": "@jupyter-widgets/base",
      "model_module_version": "2.0.0",
      "model_name": "LayoutModel",
      "state": {}
     },
     "2385c099a1a5466ca2edb54ac4e66ac4": {
      "model_module": "@jupyter-widgets/controls",
      "model_module_version": "2.0.0",
      "model_name": "HTMLModel",
      "state": {
       "layout": "IPY_MODEL_af0c161b6f6544f693463b500d9392da",
       "style": "IPY_MODEL_8177999cae3844ea9478043066db52a2",
       "value": "100%"
      }
     },
     "23b40e08fcca4920a06000943d118fca": {
      "model_module": "@jupyter-widgets/controls",
      "model_module_version": "2.0.0",
      "model_name": "FloatProgressModel",
      "state": {
       "bar_style": "success",
       "layout": "IPY_MODEL_0adda3be187d4a78a0732d4c2bd051e4",
       "max": 4,
       "style": "IPY_MODEL_dfdd9790274b4d4e80d1f4115d6bbaf2",
       "value": 4
      }
     },
     "23eccc7b4dcd461aa14ac3d7338ae80e": {
      "model_module": "@jupyter-widgets/controls",
      "model_module_version": "2.0.0",
      "model_name": "ProgressStyleModel",
      "state": {
       "description_width": ""
      }
     },
     "23f46b6c82084cd790dde611c350f006": {
      "model_module": "@jupyter-widgets/controls",
      "model_module_version": "2.0.0",
      "model_name": "FloatProgressModel",
      "state": {
       "bar_style": "success",
       "layout": "IPY_MODEL_e3b50f1fd2134e019691e8d17270c936",
       "max": 2,
       "style": "IPY_MODEL_bb6d52822ae04d219716616528e7e78b",
       "value": 2
      }
     },
     "24a8eeffa1e940df864aac15061d853b": {
      "model_module": "@jupyter-widgets/controls",
      "model_module_version": "2.0.0",
      "model_name": "HTMLModel",
      "state": {
       "layout": "IPY_MODEL_e0291f62d4da42cca7f38439adc6c9ba",
       "style": "IPY_MODEL_6c2d8fa8af30473fa9c64cbb992159c8",
       "value": " 68/68 [00:02&lt;00:00, 29.23it/s]"
      }
     },
     "24db02aa90384982ad80dac85f9ae222": {
      "model_module": "@jupyter-widgets/controls",
      "model_module_version": "2.0.0",
      "model_name": "HTMLStyleModel",
      "state": {
       "description_width": "",
       "font_size": null,
       "text_color": null
      }
     },
     "25abca257b1d4c5693cad204918bf4b0": {
      "model_module": "@jupyter-widgets/controls",
      "model_module_version": "2.0.0",
      "model_name": "FloatProgressModel",
      "state": {
       "bar_style": "success",
       "layout": "IPY_MODEL_382081b86ebf441d9d3e54d6a5163a5f",
       "max": 2,
       "style": "IPY_MODEL_ebd55a7495154302943023d4d9077337",
       "value": 2
      }
     },
     "25ef7a7c9a2849099ea2aae4f1bed21a": {
      "model_module": "@jupyter-widgets/controls",
      "model_module_version": "2.0.0",
      "model_name": "HBoxModel",
      "state": {
       "children": [
        "IPY_MODEL_fdef944d6fa248bb9ac0789a35f4a97a",
        "IPY_MODEL_5368b1641fa84f4e9c4f328ced09e147",
        "IPY_MODEL_dc148f5e189244b59d92af8c6d59cf2d"
       ],
       "layout": "IPY_MODEL_8061780d3c6b4a8ab2f3993abf3681be"
      }
     },
     "266789e6057a4a62943ddef5d0859df6": {
      "model_module": "@jupyter-widgets/controls",
      "model_module_version": "2.0.0",
      "model_name": "HTMLStyleModel",
      "state": {
       "description_width": "",
       "font_size": null,
       "text_color": null
      }
     },
     "26ab049c347d42fab39c8848da537329": {
      "model_module": "@jupyter-widgets/base",
      "model_module_version": "2.0.0",
      "model_name": "LayoutModel",
      "state": {}
     },
     "270c2475f0ce49a68973f49bcf43e714": {
      "model_module": "@jupyter-widgets/controls",
      "model_module_version": "2.0.0",
      "model_name": "HTMLStyleModel",
      "state": {
       "description_width": "",
       "font_size": null,
       "text_color": null
      }
     },
     "2771773a7c2c4fa4b60136b14c86eb65": {
      "model_module": "@jupyter-widgets/controls",
      "model_module_version": "2.0.0",
      "model_name": "HBoxModel",
      "state": {
       "children": [
        "IPY_MODEL_bcd19a4849e3402bb9119b48ea2d6a3b",
        "IPY_MODEL_25abca257b1d4c5693cad204918bf4b0",
        "IPY_MODEL_b4801ac9da0748359ba4adaef41117f9"
       ],
       "layout": "IPY_MODEL_c58b980dff394c7bbba0e5789b4e583e"
      }
     },
     "27838a5033f248ee9339ea3c741cfd32": {
      "model_module": "@jupyter-widgets/controls",
      "model_module_version": "2.0.0",
      "model_name": "HTMLStyleModel",
      "state": {
       "description_width": "",
       "font_size": null,
       "text_color": null
      }
     },
     "27a204e3a7e4422e946de48c9f64b3a7": {
      "model_module": "@jupyter-widgets/controls",
      "model_module_version": "2.0.0",
      "model_name": "HTMLStyleModel",
      "state": {
       "description_width": "",
       "font_size": null,
       "text_color": null
      }
     },
     "284e1e6b7fc74932af58a09b5b0169aa": {
      "model_module": "@jupyter-widgets/controls",
      "model_module_version": "2.0.0",
      "model_name": "HBoxModel",
      "state": {
       "children": [
        "IPY_MODEL_b010e6a680d0433a841aa119ffe51ce5",
        "IPY_MODEL_0ff8d6298b7e4262bf0207f5590de80f",
        "IPY_MODEL_61f24a73f07c4f0db2b2e7a3162ec178"
       ],
       "layout": "IPY_MODEL_7773a2a72fe747b399f1829c9ab41f5e"
      }
     },
     "28549743d5fd450fac135f616f022a53": {
      "model_module": "@jupyter-widgets/controls",
      "model_module_version": "2.0.0",
      "model_name": "HTMLModel",
      "state": {
       "layout": "IPY_MODEL_a03b621b9e8f4ab69a6b2b0da2f215e8",
       "style": "IPY_MODEL_e1760557e85c413f88363c8e0af607b3",
       "value": "100%"
      }
     },
     "28707365589a40f686856879e43ea497": {
      "model_module": "@jupyter-widgets/base",
      "model_module_version": "2.0.0",
      "model_name": "LayoutModel",
      "state": {}
     },
     "28e66a81fcb6422284fa728e81739c0e": {
      "model_module": "@jupyter-widgets/controls",
      "model_module_version": "2.0.0",
      "model_name": "HTMLStyleModel",
      "state": {
       "description_width": "",
       "font_size": null,
       "text_color": null
      }
     },
     "290656f34289400d8b5a7c4ad5c72b97": {
      "model_module": "@jupyter-widgets/controls",
      "model_module_version": "2.0.0",
      "model_name": "ProgressStyleModel",
      "state": {
       "description_width": ""
      }
     },
     "29bdc7b52f9d4db783ed148fe184509d": {
      "model_module": "@jupyter-widgets/base",
      "model_module_version": "2.0.0",
      "model_name": "LayoutModel",
      "state": {}
     },
     "2a1e7adcf9034eed801b0238bb763891": {
      "model_module": "@jupyter-widgets/base",
      "model_module_version": "2.0.0",
      "model_name": "LayoutModel",
      "state": {}
     },
     "2a7ce756650844bfb5d5ecbdf67c8351": {
      "model_module": "@jupyter-widgets/controls",
      "model_module_version": "2.0.0",
      "model_name": "FloatProgressModel",
      "state": {
       "bar_style": "success",
       "layout": "IPY_MODEL_0288c7c4490e4993beaa6dd070e27da8",
       "max": 5,
       "style": "IPY_MODEL_60864640791148b5ab835f2f4276053c",
       "value": 5
      }
     },
     "2bbd7c9786824078a68424ace1d8181a": {
      "model_module": "@jupyter-widgets/controls",
      "model_module_version": "2.0.0",
      "model_name": "HTMLStyleModel",
      "state": {
       "description_width": "",
       "font_size": null,
       "text_color": null
      }
     },
     "2c53e8c58e0841dc8eb3194b0e31ac61": {
      "model_module": "@jupyter-widgets/controls",
      "model_module_version": "2.0.0",
      "model_name": "ProgressStyleModel",
      "state": {
       "description_width": ""
      }
     },
     "2c678bb4808345e9bbaaeb5de2655661": {
      "model_module": "@jupyter-widgets/controls",
      "model_module_version": "2.0.0",
      "model_name": "HTMLStyleModel",
      "state": {
       "description_width": "",
       "font_size": null,
       "text_color": null
      }
     },
     "2e326e8cf6ac4baa84e7c0159a662025": {
      "model_module": "@jupyter-widgets/controls",
      "model_module_version": "2.0.0",
      "model_name": "HTMLModel",
      "state": {
       "layout": "IPY_MODEL_596be43331974e5f9d1470bd4fd72119",
       "style": "IPY_MODEL_c473b786c0b2469da57747c30e903f10",
       "value": " 68/68 [00:02&lt;00:00, 28.63it/s]"
      }
     },
     "2e5e9b6b43f446e9b66c2c097b85bcfc": {
      "model_module": "@jupyter-widgets/base",
      "model_module_version": "2.0.0",
      "model_name": "LayoutModel",
      "state": {}
     },
     "310d973054564ce9b2a5fbd0b9fdcc5e": {
      "model_module": "@jupyter-widgets/controls",
      "model_module_version": "2.0.0",
      "model_name": "FloatProgressModel",
      "state": {
       "bar_style": "success",
       "layout": "IPY_MODEL_9b7b9b36eb64432d81bbc76103f94337",
       "max": 4,
       "style": "IPY_MODEL_80896a063cb84b00a0e7ac4f2eaf047f",
       "value": 4
      }
     },
     "3184e239a3614d9a89246001f580ac3a": {
      "model_module": "@jupyter-widgets/controls",
      "model_module_version": "2.0.0",
      "model_name": "FloatProgressModel",
      "state": {
       "bar_style": "success",
       "layout": "IPY_MODEL_0c37c51462c74afbabf8a32a40087cdc",
       "max": 2,
       "style": "IPY_MODEL_46bcd3c9beb648f681cde50511e7948c",
       "value": 2
      }
     },
     "31a9797c7e9241b3886c76b5997b6794": {
      "model_module": "@jupyter-widgets/controls",
      "model_module_version": "2.0.0",
      "model_name": "HBoxModel",
      "state": {
       "children": [
        "IPY_MODEL_842dcb8a66834730b974de0d5c661de6",
        "IPY_MODEL_3184e239a3614d9a89246001f580ac3a",
        "IPY_MODEL_853ec5e7da6d4a63b0d0300bfb09cb50"
       ],
       "layout": "IPY_MODEL_bc3adf9bd4864e32ab51707190111f54"
      }
     },
     "326501ae7c304d74ae1356f5e74b2e31": {
      "model_module": "@jupyter-widgets/controls",
      "model_module_version": "2.0.0",
      "model_name": "HTMLStyleModel",
      "state": {
       "description_width": "",
       "font_size": null,
       "text_color": null
      }
     },
     "32e8a3efcd2f4d589c506675cbc33cb0": {
      "model_module": "@jupyter-widgets/controls",
      "model_module_version": "2.0.0",
      "model_name": "HTMLModel",
      "state": {
       "layout": "IPY_MODEL_9a84900b37114b96bade5a5748c28080",
       "style": "IPY_MODEL_373e839de9534b9b9e937a62e2b6a8c9",
       "value": " 4/4 [02:04&lt;00:00, 41.28s/it]"
      }
     },
     "358828a2bdd049aba8cd333c1d13cb7a": {
      "model_module": "@jupyter-widgets/base",
      "model_module_version": "2.0.0",
      "model_name": "LayoutModel",
      "state": {}
     },
     "36d63f5e30434c09940ddee646f3a946": {
      "model_module": "@jupyter-widgets/base",
      "model_module_version": "2.0.0",
      "model_name": "LayoutModel",
      "state": {}
     },
     "373e839de9534b9b9e937a62e2b6a8c9": {
      "model_module": "@jupyter-widgets/controls",
      "model_module_version": "2.0.0",
      "model_name": "HTMLStyleModel",
      "state": {
       "description_width": "",
       "font_size": null,
       "text_color": null
      }
     },
     "374de21a481f491c827a4ed21e7e55cb": {
      "model_module": "@jupyter-widgets/controls",
      "model_module_version": "2.0.0",
      "model_name": "ProgressStyleModel",
      "state": {
       "description_width": ""
      }
     },
     "3780c410d1e5436cab594a552cd924d7": {
      "model_module": "@jupyter-widgets/controls",
      "model_module_version": "2.0.0",
      "model_name": "HTMLStyleModel",
      "state": {
       "description_width": "",
       "font_size": null,
       "text_color": null
      }
     },
     "382081b86ebf441d9d3e54d6a5163a5f": {
      "model_module": "@jupyter-widgets/base",
      "model_module_version": "2.0.0",
      "model_name": "LayoutModel",
      "state": {}
     },
     "389e44571ffa4787bf2e08b35f5189fe": {
      "model_module": "@jupyter-widgets/controls",
      "model_module_version": "2.0.0",
      "model_name": "FloatProgressModel",
      "state": {
       "bar_style": "success",
       "layout": "IPY_MODEL_cee613f5460a4f758224e88884e02967",
       "max": 4,
       "style": "IPY_MODEL_5092abfe8f0a46a985fb45021d1fab04",
       "value": 4
      }
     },
     "397a62d993eb45a280abc2c435247466": {
      "model_module": "@jupyter-widgets/controls",
      "model_module_version": "2.0.0",
      "model_name": "HTMLModel",
      "state": {
       "layout": "IPY_MODEL_d9a3dc7d9d064c89865dcd7e42f32967",
       "style": "IPY_MODEL_62ad278970854bb89b00915f9fac548e",
       "value": "100%"
      }
     },
     "3a20459acf1a436b950c53d1437d510c": {
      "model_module": "@jupyter-widgets/base",
      "model_module_version": "2.0.0",
      "model_name": "LayoutModel",
      "state": {}
     },
     "3b06f98975c240e28abf1b74130305bf": {
      "model_module": "@jupyter-widgets/controls",
      "model_module_version": "2.0.0",
      "model_name": "HTMLModel",
      "state": {
       "layout": "IPY_MODEL_90a05b9961154c04b75dc938955b8bf0",
       "style": "IPY_MODEL_e0391aee23804da8ba408e469bcefcf9",
       "value": " 4/4 [03:26&lt;00:00, 67.39s/it]"
      }
     },
     "3b53c3772beb42618350e162b4cde884": {
      "model_module": "@jupyter-widgets/controls",
      "model_module_version": "2.0.0",
      "model_name": "HTMLModel",
      "state": {
       "layout": "IPY_MODEL_0f076bf959a44d0b80e7bc6aa1a9cb22",
       "style": "IPY_MODEL_bf6b25f0d47848169c1cfed218976150",
       "value": " 3/3 [12:24&lt;00:00, 260.44s/it]"
      }
     },
     "3d6e01e8edff49d3b4999ff7bd1c0baf": {
      "model_module": "@jupyter-widgets/controls",
      "model_module_version": "2.0.0",
      "model_name": "HTMLModel",
      "state": {
       "layout": "IPY_MODEL_93da41ce6969434aaea35781c2436f8c",
       "style": "IPY_MODEL_4a0a29a234c8457891a37be7069df569",
       "value": "100%"
      }
     },
     "4068dde7f1a548a8ac643b5978e2ba14": {
      "model_module": "@jupyter-widgets/controls",
      "model_module_version": "2.0.0",
      "model_name": "HTMLModel",
      "state": {
       "layout": "IPY_MODEL_d3b164eabc4a4edca87425b473212007",
       "style": "IPY_MODEL_176bb3b560e14aa0b1f85a7e6032a454",
       "value": " 68/68 [00:02&lt;00:00, 29.17it/s]"
      }
     },
     "41db0a1edf074a449c495e5b61a3a487": {
      "model_module": "@jupyter-widgets/base",
      "model_module_version": "2.0.0",
      "model_name": "LayoutModel",
      "state": {}
     },
     "42a047b35d284ab4a8ec758d77756612": {
      "model_module": "@jupyter-widgets/controls",
      "model_module_version": "2.0.0",
      "model_name": "FloatProgressModel",
      "state": {
       "bar_style": "success",
       "layout": "IPY_MODEL_60868a08f88043e795d4cd1c475f66ff",
       "max": 7,
       "style": "IPY_MODEL_ee65a4e85c414089a807806f7cbcb646",
       "value": 7
      }
     },
     "4327f6f2d5e04fddb5569aa6d139785a": {
      "model_module": "@jupyter-widgets/controls",
      "model_module_version": "2.0.0",
      "model_name": "HTMLStyleModel",
      "state": {
       "description_width": "",
       "font_size": null,
       "text_color": null
      }
     },
     "434e559efedb4536b07a052301283095": {
      "model_module": "@jupyter-widgets/controls",
      "model_module_version": "2.0.0",
      "model_name": "HTMLStyleModel",
      "state": {
       "description_width": "",
       "font_size": null,
       "text_color": null
      }
     },
     "43eccb7c354545c88eab04267ad1da6c": {
      "model_module": "@jupyter-widgets/controls",
      "model_module_version": "2.0.0",
      "model_name": "HBoxModel",
      "state": {
       "children": [
        "IPY_MODEL_21965d3093004ee69ed74cb1f5191160",
        "IPY_MODEL_7bdbb2b727f94ac58b584ff9b9c0ca94",
        "IPY_MODEL_cb63e1cf16c546ca8e2f635a01355d37"
       ],
       "layout": "IPY_MODEL_b43d897310414dd2a665c1711e49c8ef"
      }
     },
     "44a16c2b4f6543f7ba4dede24b076b66": {
      "model_module": "@jupyter-widgets/controls",
      "model_module_version": "2.0.0",
      "model_name": "HTMLModel",
      "state": {
       "layout": "IPY_MODEL_26ab049c347d42fab39c8848da537329",
       "style": "IPY_MODEL_dc47c4a58e54405dad1eb098748949c3",
       "value": " 3/3 [04:23&lt;00:00, 129.25s/it]"
      }
     },
     "44d2600f127b4498b71d008c06ac899a": {
      "model_module": "@jupyter-widgets/base",
      "model_module_version": "2.0.0",
      "model_name": "LayoutModel",
      "state": {}
     },
     "46bcd3c9beb648f681cde50511e7948c": {
      "model_module": "@jupyter-widgets/controls",
      "model_module_version": "2.0.0",
      "model_name": "ProgressStyleModel",
      "state": {
       "description_width": ""
      }
     },
     "46d511ba46524538b0acf0c1d4c8f3b4": {
      "model_module": "@jupyter-widgets/base",
      "model_module_version": "2.0.0",
      "model_name": "LayoutModel",
      "state": {}
     },
     "479b09e0d04042e79634152b9ed53150": {
      "model_module": "@jupyter-widgets/controls",
      "model_module_version": "2.0.0",
      "model_name": "HBoxModel",
      "state": {
       "children": [
        "IPY_MODEL_9a90f1b280f54350b90f127f23b7961c",
        "IPY_MODEL_12895f90548a45789d9f54b4ab117358",
        "IPY_MODEL_4068dde7f1a548a8ac643b5978e2ba14"
       ],
       "layout": "IPY_MODEL_a178f66ca7ca4b3688508d27e9ba5367"
      }
     },
     "49dd69a5eb86434e98de10ecde395ce5": {
      "model_module": "@jupyter-widgets/controls",
      "model_module_version": "2.0.0",
      "model_name": "HTMLModel",
      "state": {
       "layout": "IPY_MODEL_8c9e3ecd87c7423da293770269177116",
       "style": "IPY_MODEL_cb0f7205f6e54196b09d8a4f3f018031",
       "value": "100%"
      }
     },
     "4a0a29a234c8457891a37be7069df569": {
      "model_module": "@jupyter-widgets/controls",
      "model_module_version": "2.0.0",
      "model_name": "HTMLStyleModel",
      "state": {
       "description_width": "",
       "font_size": null,
       "text_color": null
      }
     },
     "4a1723d6577b4917a027a60891caa76c": {
      "model_module": "@jupyter-widgets/controls",
      "model_module_version": "2.0.0",
      "model_name": "HBoxModel",
      "state": {
       "children": [
        "IPY_MODEL_7069ddaddbec4b9b84da7c13b1d5395a",
        "IPY_MODEL_6de5376cd0114a0bbdd5b0361df39dfa",
        "IPY_MODEL_df8217268553416c9d139992a3284a29"
       ],
       "layout": "IPY_MODEL_e123284dc1754073a36c980ef4a57932"
      }
     },
     "4b790bf399e94376a5823469affa081a": {
      "model_module": "@jupyter-widgets/base",
      "model_module_version": "2.0.0",
      "model_name": "LayoutModel",
      "state": {}
     },
     "4b92c6f63e67420faa077ffd435cdc78": {
      "model_module": "@jupyter-widgets/controls",
      "model_module_version": "2.0.0",
      "model_name": "FloatProgressModel",
      "state": {
       "bar_style": "success",
       "layout": "IPY_MODEL_41db0a1edf074a449c495e5b61a3a487",
       "max": 4,
       "style": "IPY_MODEL_1d98ac1aed2e4d70868ce8b7413d3022",
       "value": 4
      }
     },
     "4bb378fc3a9544e2af80ae929de74361": {
      "model_module": "@jupyter-widgets/controls",
      "model_module_version": "2.0.0",
      "model_name": "HBoxModel",
      "state": {
       "children": [
        "IPY_MODEL_1fd28075db8142c5aef88279d6fbcf7e",
        "IPY_MODEL_08ec56e07f834dde879d8ee9358ffb42",
        "IPY_MODEL_055b909f827546c298a6c1dfc77e1416"
       ],
       "layout": "IPY_MODEL_16f4b0a111a941b9a814246c6d684458"
      }
     },
     "4c2286ffef134a9a90ed98a0fd466c74": {
      "model_module": "@jupyter-widgets/base",
      "model_module_version": "2.0.0",
      "model_name": "LayoutModel",
      "state": {}
     },
     "4c436cc26912488cb6cf750115989fb7": {
      "model_module": "@jupyter-widgets/controls",
      "model_module_version": "2.0.0",
      "model_name": "HTMLStyleModel",
      "state": {
       "description_width": "",
       "font_size": null,
       "text_color": null
      }
     },
     "4cabb293f9894cb9a20b138a66b8b426": {
      "model_module": "@jupyter-widgets/controls",
      "model_module_version": "2.0.0",
      "model_name": "ProgressStyleModel",
      "state": {
       "description_width": ""
      }
     },
     "4d3396262ae04b29800699bb3e9859c5": {
      "model_module": "@jupyter-widgets/base",
      "model_module_version": "2.0.0",
      "model_name": "LayoutModel",
      "state": {}
     },
     "4db8ee10885246e2bd1cc34de2094a7f": {
      "model_module": "@jupyter-widgets/base",
      "model_module_version": "2.0.0",
      "model_name": "LayoutModel",
      "state": {}
     },
     "4e394abccf064ced9536afd34a58451a": {
      "model_module": "@jupyter-widgets/base",
      "model_module_version": "2.0.0",
      "model_name": "LayoutModel",
      "state": {}
     },
     "5009c20d8180459e9d92aa5f693015d9": {
      "model_module": "@jupyter-widgets/base",
      "model_module_version": "2.0.0",
      "model_name": "LayoutModel",
      "state": {}
     },
     "5092abfe8f0a46a985fb45021d1fab04": {
      "model_module": "@jupyter-widgets/controls",
      "model_module_version": "2.0.0",
      "model_name": "ProgressStyleModel",
      "state": {
       "description_width": ""
      }
     },
     "50ad0666d9424d4faf9c3e5228a24d97": {
      "model_module": "@jupyter-widgets/controls",
      "model_module_version": "2.0.0",
      "model_name": "HTMLModel",
      "state": {
       "layout": "IPY_MODEL_1613ad88abc847108db8cce8a421843a",
       "style": "IPY_MODEL_7bdf78e197de4638abc2371f905f93ff",
       "value": "100%"
      }
     },
     "5143c449b2d940aa87c5042dd4fb2ad5": {
      "model_module": "@jupyter-widgets/controls",
      "model_module_version": "2.0.0",
      "model_name": "ProgressStyleModel",
      "state": {
       "description_width": ""
      }
     },
     "51a24d6226cb458eb141decd0249b45e": {
      "model_module": "@jupyter-widgets/controls",
      "model_module_version": "2.0.0",
      "model_name": "ProgressStyleModel",
      "state": {
       "description_width": ""
      }
     },
     "5217139e983d4f42a58cb3ae0fbed2ee": {
      "model_module": "@jupyter-widgets/controls",
      "model_module_version": "2.0.0",
      "model_name": "HTMLStyleModel",
      "state": {
       "description_width": "",
       "font_size": null,
       "text_color": null
      }
     },
     "5368b1641fa84f4e9c4f328ced09e147": {
      "model_module": "@jupyter-widgets/controls",
      "model_module_version": "2.0.0",
      "model_name": "FloatProgressModel",
      "state": {
       "bar_style": "success",
       "layout": "IPY_MODEL_735cd578b97449f7b722658ed3e5cf55",
       "max": 3,
       "style": "IPY_MODEL_d2bad50b599e4f7da0f8a2f3ad310b4e",
       "value": 3
      }
     },
     "54129537c2d946fc893e26ff44582d4f": {
      "model_module": "@jupyter-widgets/controls",
      "model_module_version": "2.0.0",
      "model_name": "HTMLModel",
      "state": {
       "layout": "IPY_MODEL_550d604cb66e4b6eab3405f8d14c0df9",
       "style": "IPY_MODEL_270c2475f0ce49a68973f49bcf43e714",
       "value": "100%"
      }
     },
     "541c7b35adac4e87ac186c596f92d895": {
      "model_module": "@jupyter-widgets/controls",
      "model_module_version": "2.0.0",
      "model_name": "FloatProgressModel",
      "state": {
       "bar_style": "success",
       "layout": "IPY_MODEL_e2a3acaf1d6d41ffbb8a5e3e7ea86428",
       "max": 1,
       "style": "IPY_MODEL_87151783d9054183bec475e5ea19f687"
      }
     },
     "54f9ee285ed34c14bbeda08145596afc": {
      "model_module": "@jupyter-widgets/base",
      "model_module_version": "2.0.0",
      "model_name": "LayoutModel",
      "state": {}
     },
     "550d604cb66e4b6eab3405f8d14c0df9": {
      "model_module": "@jupyter-widgets/base",
      "model_module_version": "2.0.0",
      "model_name": "LayoutModel",
      "state": {}
     },
     "55aac667b00c4e3bae1377364aa0e069": {
      "model_module": "@jupyter-widgets/base",
      "model_module_version": "2.0.0",
      "model_name": "LayoutModel",
      "state": {}
     },
     "57e207ba2906494e97a736ecee728ce4": {
      "model_module": "@jupyter-widgets/controls",
      "model_module_version": "2.0.0",
      "model_name": "HTMLStyleModel",
      "state": {
       "description_width": "",
       "font_size": null,
       "text_color": null
      }
     },
     "5855c61a149e4cb882f0044ba6977d1a": {
      "model_module": "@jupyter-widgets/controls",
      "model_module_version": "2.0.0",
      "model_name": "HBoxModel",
      "state": {
       "children": [
        "IPY_MODEL_28549743d5fd450fac135f616f022a53",
        "IPY_MODEL_cb8c3f730b9f482eabd6fead602390c4",
        "IPY_MODEL_44a16c2b4f6543f7ba4dede24b076b66"
       ],
       "layout": "IPY_MODEL_780cd92e45ef43c9ab8906b5ab4164ba"
      }
     },
     "58956937dc2543c6a0cd77cfabdfce33": {
      "model_module": "@jupyter-widgets/controls",
      "model_module_version": "2.0.0",
      "model_name": "ProgressStyleModel",
      "state": {
       "description_width": ""
      }
     },
     "596be43331974e5f9d1470bd4fd72119": {
      "model_module": "@jupyter-widgets/base",
      "model_module_version": "2.0.0",
      "model_name": "LayoutModel",
      "state": {}
     },
     "599cfd1d329f4593bacd0155552d98af": {
      "model_module": "@jupyter-widgets/base",
      "model_module_version": "2.0.0",
      "model_name": "LayoutModel",
      "state": {}
     },
     "5aa7fcbebfb946a9aadb36cadd8492a5": {
      "model_module": "@jupyter-widgets/base",
      "model_module_version": "2.0.0",
      "model_name": "LayoutModel",
      "state": {}
     },
     "5bf20bdfe33946e3a2bb986a2e9dfa11": {
      "model_module": "@jupyter-widgets/controls",
      "model_module_version": "2.0.0",
      "model_name": "FloatProgressModel",
      "state": {
       "bar_style": "success",
       "layout": "IPY_MODEL_601cce4500f8449a9e7620197f73c3a3",
       "max": 3,
       "style": "IPY_MODEL_6d806806bea64d0d94b4bbe990d0e7af",
       "value": 3
      }
     },
     "5c3840db861049dd9414e5187288a1d9": {
      "model_module": "@jupyter-widgets/base",
      "model_module_version": "2.0.0",
      "model_name": "LayoutModel",
      "state": {}
     },
     "5c5e92adb4c7481998c641805933c72a": {
      "model_module": "@jupyter-widgets/controls",
      "model_module_version": "2.0.0",
      "model_name": "HBoxModel",
      "state": {
       "children": [
        "IPY_MODEL_8158b512a90d4769a5c2f38c7ebb2975",
        "IPY_MODEL_6d2fd44b045440519d095575f8e1ea5e",
        "IPY_MODEL_20331eea724343348dbc980313b36ff8"
       ],
       "layout": "IPY_MODEL_21d6c23cf15c47b79c115b30d1e8ac37"
      }
     },
     "5c7547e5755448ae80261bf3bedbfd56": {
      "model_module": "@jupyter-widgets/controls",
      "model_module_version": "2.0.0",
      "model_name": "HTMLModel",
      "state": {
       "layout": "IPY_MODEL_54f9ee285ed34c14bbeda08145596afc",
       "style": "IPY_MODEL_266789e6057a4a62943ddef5d0859df6",
       "value": " 2/2 [02:10&lt;00:00, 130.43s/it]"
      }
     },
     "5c774fe3b20d444694ad591b7095097a": {
      "model_module": "@jupyter-widgets/base",
      "model_module_version": "2.0.0",
      "model_name": "LayoutModel",
      "state": {}
     },
     "5c9f8f4af34c4b03a27c5a7ecda88e55": {
      "model_module": "@jupyter-widgets/controls",
      "model_module_version": "2.0.0",
      "model_name": "HTMLModel",
      "state": {
       "layout": "IPY_MODEL_f272014a7b7446bc97218c4ff661beaf",
       "style": "IPY_MODEL_27a204e3a7e4422e946de48c9f64b3a7",
       "value": " 4/4 [02:45&lt;00:00, 85.61s/it]"
      }
     },
     "5cf65ebd125747bdb03946393e3bf630": {
      "model_module": "@jupyter-widgets/controls",
      "model_module_version": "2.0.0",
      "model_name": "HTMLModel",
      "state": {
       "layout": "IPY_MODEL_db73f765a29045afb727c9fdff55f5b4",
       "style": "IPY_MODEL_d00d11853d7449278e44a71ab29edd73",
       "value": " 0/0 [00:00&lt;?, ?it/s]"
      }
     },
     "5d855401ac8f46cfba99e7a20007c187": {
      "model_module": "@jupyter-widgets/controls",
      "model_module_version": "2.0.0",
      "model_name": "HTMLStyleModel",
      "state": {
       "description_width": "",
       "font_size": null,
       "text_color": null
      }
     },
     "601cce4500f8449a9e7620197f73c3a3": {
      "model_module": "@jupyter-widgets/base",
      "model_module_version": "2.0.0",
      "model_name": "LayoutModel",
      "state": {}
     },
     "603f20659bf04fa5b9b7a01648f1a890": {
      "model_module": "@jupyter-widgets/controls",
      "model_module_version": "2.0.0",
      "model_name": "ProgressStyleModel",
      "state": {
       "description_width": ""
      }
     },
     "60864640791148b5ab835f2f4276053c": {
      "model_module": "@jupyter-widgets/controls",
      "model_module_version": "2.0.0",
      "model_name": "ProgressStyleModel",
      "state": {
       "description_width": ""
      }
     },
     "60868a08f88043e795d4cd1c475f66ff": {
      "model_module": "@jupyter-widgets/base",
      "model_module_version": "2.0.0",
      "model_name": "LayoutModel",
      "state": {}
     },
     "60cf038265aa4f6bb6e63c7c4efe3cc9": {
      "model_module": "@jupyter-widgets/controls",
      "model_module_version": "2.0.0",
      "model_name": "ProgressStyleModel",
      "state": {
       "description_width": ""
      }
     },
     "61f24a73f07c4f0db2b2e7a3162ec178": {
      "model_module": "@jupyter-widgets/controls",
      "model_module_version": "2.0.0",
      "model_name": "HTMLModel",
      "state": {
       "layout": "IPY_MODEL_c2e315ad53104b0993d8282f8c885c3e",
       "style": "IPY_MODEL_d0803e23c0b8409b875fc9ee5f1927bf",
       "value": " 4/4 [06:15&lt;00:00, 186.27s/it]"
      }
     },
     "623744e61d52444aa1aefcbb486558bc": {
      "model_module": "@jupyter-widgets/controls",
      "model_module_version": "2.0.0",
      "model_name": "HTMLModel",
      "state": {
       "layout": "IPY_MODEL_68cac188ba73413ea1890efa7a8bcc12",
       "style": "IPY_MODEL_d06471107dfc40588854d4dea3c406a8",
       "value": " 3/3 [02:33&lt;00:00, 74.67s/it]"
      }
     },
     "6284ed21bcaa4779b7158a2a6c212ea3": {
      "model_module": "@jupyter-widgets/controls",
      "model_module_version": "2.0.0",
      "model_name": "HTMLStyleModel",
      "state": {
       "description_width": "",
       "font_size": null,
       "text_color": null
      }
     },
     "62ad278970854bb89b00915f9fac548e": {
      "model_module": "@jupyter-widgets/controls",
      "model_module_version": "2.0.0",
      "model_name": "HTMLStyleModel",
      "state": {
       "description_width": "",
       "font_size": null,
       "text_color": null
      }
     },
     "634780f8f9fb4e5d94de5004b70a476f": {
      "model_module": "@jupyter-widgets/controls",
      "model_module_version": "2.0.0",
      "model_name": "FloatProgressModel",
      "state": {
       "bar_style": "success",
       "layout": "IPY_MODEL_8d650e6c67024e88bb33b3c7729bf3ee",
       "max": 3,
       "style": "IPY_MODEL_f7f2f5b9eb0a4683bc8fc75ec7e31015",
       "value": 3
      }
     },
     "63811f97366947f68622dd8313c49ca5": {
      "model_module": "@jupyter-widgets/controls",
      "model_module_version": "2.0.0",
      "model_name": "HBoxModel",
      "state": {
       "children": [
        "IPY_MODEL_89fde25ff14e457aab4f37fe7d6bddc6",
        "IPY_MODEL_8b628143966345239827af84b7b78303",
        "IPY_MODEL_b728ce1f0db8423fb098db57671d9158"
       ],
       "layout": "IPY_MODEL_c63152e106954f7faa6d6eb9ea545fe2"
      }
     },
     "64451122c88944bb9ba28afea0e8ee02": {
      "model_module": "@jupyter-widgets/base",
      "model_module_version": "2.0.0",
      "model_name": "LayoutModel",
      "state": {}
     },
     "6512b784644f490f841747fc2f6d9c20": {
      "model_module": "@jupyter-widgets/controls",
      "model_module_version": "2.0.0",
      "model_name": "HBoxModel",
      "state": {
       "children": [
        "IPY_MODEL_0fb93f4be0844de2b149e49627168b21",
        "IPY_MODEL_cb91f254fafc4cdc99824f0ec3860bd0",
        "IPY_MODEL_24a8eeffa1e940df864aac15061d853b"
       ],
       "layout": "IPY_MODEL_358828a2bdd049aba8cd333c1d13cb7a"
      }
     },
     "652930d49bed4cabb3e6ba8592e2b20e": {
      "model_module": "@jupyter-widgets/controls",
      "model_module_version": "2.0.0",
      "model_name": "HTMLStyleModel",
      "state": {
       "description_width": "",
       "font_size": null,
       "text_color": null
      }
     },
     "6878e52f13f74bb0bd9a8db1e097000c": {
      "model_module": "@jupyter-widgets/controls",
      "model_module_version": "2.0.0",
      "model_name": "FloatProgressModel",
      "state": {
       "bar_style": "success",
       "layout": "IPY_MODEL_36d63f5e30434c09940ddee646f3a946",
       "max": 3,
       "style": "IPY_MODEL_cf1aceb663694893b7fdb1d4d7883db1",
       "value": 3
      }
     },
     "6878f64e53dc4ee281ee6b1ecd01fb4d": {
      "model_module": "@jupyter-widgets/controls",
      "model_module_version": "2.0.0",
      "model_name": "HBoxModel",
      "state": {
       "children": [
        "IPY_MODEL_e3489533093f40dfbb3f50ad204de88c",
        "IPY_MODEL_541c7b35adac4e87ac186c596f92d895",
        "IPY_MODEL_5cf65ebd125747bdb03946393e3bf630"
       ],
       "layout": "IPY_MODEL_f08323dc9e5d49a8bf480de904c100bb"
      }
     },
     "687ffef9122240f2bf286f90121fc94f": {
      "model_module": "@jupyter-widgets/base",
      "model_module_version": "2.0.0",
      "model_name": "LayoutModel",
      "state": {}
     },
     "68cac188ba73413ea1890efa7a8bcc12": {
      "model_module": "@jupyter-widgets/base",
      "model_module_version": "2.0.0",
      "model_name": "LayoutModel",
      "state": {}
     },
     "6b1c3b56e9f540ba9ca5165b1d853b6e": {
      "model_module": "@jupyter-widgets/controls",
      "model_module_version": "2.0.0",
      "model_name": "HTMLStyleModel",
      "state": {
       "description_width": "",
       "font_size": null,
       "text_color": null
      }
     },
     "6c2d8fa8af30473fa9c64cbb992159c8": {
      "model_module": "@jupyter-widgets/controls",
      "model_module_version": "2.0.0",
      "model_name": "HTMLStyleModel",
      "state": {
       "description_width": "",
       "font_size": null,
       "text_color": null
      }
     },
     "6c303bac78d9420991b159fe171e0a82": {
      "model_module": "@jupyter-widgets/controls",
      "model_module_version": "2.0.0",
      "model_name": "HTMLModel",
      "state": {
       "layout": "IPY_MODEL_bab4e38a4f4244eabbb867d96773167a",
       "style": "IPY_MODEL_27838a5033f248ee9339ea3c741cfd32",
       "value": " 5/5 [02:42&lt;00:00, 40.61s/it]"
      }
     },
     "6c8444996d2846f6bbecaa193b272ded": {
      "model_module": "@jupyter-widgets/base",
      "model_module_version": "2.0.0",
      "model_name": "LayoutModel",
      "state": {}
     },
     "6d2fd44b045440519d095575f8e1ea5e": {
      "model_module": "@jupyter-widgets/controls",
      "model_module_version": "2.0.0",
      "model_name": "FloatProgressModel",
      "state": {
       "bar_style": "success",
       "layout": "IPY_MODEL_e3c2a0065e864460b2c7e659cbff4ca6",
       "max": 68,
       "style": "IPY_MODEL_4cabb293f9894cb9a20b138a66b8b426",
       "value": 68
      }
     },
     "6d806806bea64d0d94b4bbe990d0e7af": {
      "model_module": "@jupyter-widgets/controls",
      "model_module_version": "2.0.0",
      "model_name": "ProgressStyleModel",
      "state": {
       "description_width": ""
      }
     },
     "6de5376cd0114a0bbdd5b0361df39dfa": {
      "model_module": "@jupyter-widgets/controls",
      "model_module_version": "2.0.0",
      "model_name": "FloatProgressModel",
      "state": {
       "bar_style": "success",
       "layout": "IPY_MODEL_8d096bbf2eb346e685a2a34fe47cdbe3",
       "max": 4,
       "style": "IPY_MODEL_86dde808ac8047b1b2daffda4ec7b875",
       "value": 4
      }
     },
     "6e0352c5b804439780998278050dcd17": {
      "model_module": "@jupyter-widgets/controls",
      "model_module_version": "2.0.0",
      "model_name": "HTMLStyleModel",
      "state": {
       "description_width": "",
       "font_size": null,
       "text_color": null
      }
     },
     "6edcece8974d4b4ab1588ef2d554b4ee": {
      "model_module": "@jupyter-widgets/base",
      "model_module_version": "2.0.0",
      "model_name": "LayoutModel",
      "state": {}
     },
     "6f40f093d7bc4c1db2cfd9ddad765033": {
      "model_module": "@jupyter-widgets/controls",
      "model_module_version": "2.0.0",
      "model_name": "FloatProgressModel",
      "state": {
       "bar_style": "success",
       "layout": "IPY_MODEL_6edcece8974d4b4ab1588ef2d554b4ee",
       "max": 4,
       "style": "IPY_MODEL_d46664a767604271b110c48e2569b0b1",
       "value": 4
      }
     },
     "6f41e0ac0dd24eff88f59b397d601370": {
      "model_module": "@jupyter-widgets/controls",
      "model_module_version": "2.0.0",
      "model_name": "HTMLModel",
      "state": {
       "layout": "IPY_MODEL_e10a4390928341a3a495deb4f554d3e6",
       "style": "IPY_MODEL_812e3c5365384ecda05789bafb49c291",
       "value": " 5/5 [01:56&lt;00:00, 29.12s/it]"
      }
     },
     "6f69722116284dae909bed448ce51910": {
      "model_module": "@jupyter-widgets/controls",
      "model_module_version": "2.0.0",
      "model_name": "HTMLStyleModel",
      "state": {
       "description_width": "",
       "font_size": null,
       "text_color": null
      }
     },
     "6f70e1e4bd8145bca43ed50c0630602c": {
      "model_module": "@jupyter-widgets/controls",
      "model_module_version": "2.0.0",
      "model_name": "HTMLModel",
      "state": {
       "layout": "IPY_MODEL_0f361e2ce19e4af6954cfb3ce3fe6ace",
       "style": "IPY_MODEL_8cab46026aa74eb5a76a805fcdf27ce2",
       "value": " 7/7 [06:42&lt;00:00, 134.60s/it]"
      }
     },
     "6fbfbad6cfba40d0b88c99458303ae09": {
      "model_module": "@jupyter-widgets/controls",
      "model_module_version": "2.0.0",
      "model_name": "FloatProgressModel",
      "state": {
       "bar_style": "success",
       "layout": "IPY_MODEL_d3c38488dbdb43f6bab95fad8d2ce452",
       "max": 4,
       "style": "IPY_MODEL_58956937dc2543c6a0cd77cfabdfce33",
       "value": 4
      }
     },
     "7069ddaddbec4b9b84da7c13b1d5395a": {
      "model_module": "@jupyter-widgets/controls",
      "model_module_version": "2.0.0",
      "model_name": "HTMLModel",
      "state": {
       "layout": "IPY_MODEL_aaa485edd1eb4a8d81c5e7def2b43d53",
       "style": "IPY_MODEL_f55e6320c49e4244bb53a5b49d451e88",
       "value": "100%"
      }
     },
     "7102ec2397584ef186748e4058e1c66f": {
      "model_module": "@jupyter-widgets/controls",
      "model_module_version": "2.0.0",
      "model_name": "HBoxModel",
      "state": {
       "children": [
        "IPY_MODEL_804ed23873294ccdb1e32e501e1dc34f",
        "IPY_MODEL_734c88d099f845379594b8378c338e43",
        "IPY_MODEL_2e326e8cf6ac4baa84e7c0159a662025"
       ],
       "layout": "IPY_MODEL_17e935a455404ebaa15108b151d15083"
      }
     },
     "72faa65c07be4cf088114b0ef009275a": {
      "model_module": "@jupyter-widgets/controls",
      "model_module_version": "2.0.0",
      "model_name": "HBoxModel",
      "state": {
       "children": [
        "IPY_MODEL_f5c1a86421214c76ad7a75e04d7a22b0",
        "IPY_MODEL_4b92c6f63e67420faa077ffd435cdc78",
        "IPY_MODEL_1f8110c846914780a7abc9f604a7da09"
       ],
       "layout": "IPY_MODEL_be231bdf990a4f998787ddf26a88b0b5"
      }
     },
     "734c88d099f845379594b8378c338e43": {
      "model_module": "@jupyter-widgets/controls",
      "model_module_version": "2.0.0",
      "model_name": "FloatProgressModel",
      "state": {
       "bar_style": "success",
       "layout": "IPY_MODEL_2e5e9b6b43f446e9b66c2c097b85bcfc",
       "max": 68,
       "style": "IPY_MODEL_5143c449b2d940aa87c5042dd4fb2ad5",
       "value": 68
      }
     },
     "735cd578b97449f7b722658ed3e5cf55": {
      "model_module": "@jupyter-widgets/base",
      "model_module_version": "2.0.0",
      "model_name": "LayoutModel",
      "state": {}
     },
     "73738d207a374a8fbfe40127d205f2de": {
      "model_module": "@jupyter-widgets/base",
      "model_module_version": "2.0.0",
      "model_name": "LayoutModel",
      "state": {}
     },
     "74f16962f4b34512a5c3674325e79df7": {
      "model_module": "@jupyter-widgets/base",
      "model_module_version": "2.0.0",
      "model_name": "LayoutModel",
      "state": {}
     },
     "76ae45a2cf994ef49f2d6f6989edde2b": {
      "model_module": "@jupyter-widgets/controls",
      "model_module_version": "2.0.0",
      "model_name": "HTMLModel",
      "state": {
       "layout": "IPY_MODEL_c19725612eee46c58bd75e456111d0dc",
       "style": "IPY_MODEL_d268a2de5e9b442db241c5fe5a74b7e5",
       "value": " 9/9 [02:34&lt;00:00, 19.37s/it]"
      }
     },
     "76e84c58f887413a9503b7e612c76b40": {
      "model_module": "@jupyter-widgets/controls",
      "model_module_version": "2.0.0",
      "model_name": "HTMLModel",
      "state": {
       "layout": "IPY_MODEL_89ce63858d9d4e94b0658dc300ccd210",
       "style": "IPY_MODEL_d1f866238d194a02a4a9dbe0ff62c0fa",
       "value": "100%"
      }
     },
     "7773a2a72fe747b399f1829c9ab41f5e": {
      "model_module": "@jupyter-widgets/base",
      "model_module_version": "2.0.0",
      "model_name": "LayoutModel",
      "state": {}
     },
     "780cd92e45ef43c9ab8906b5ab4164ba": {
      "model_module": "@jupyter-widgets/base",
      "model_module_version": "2.0.0",
      "model_name": "LayoutModel",
      "state": {}
     },
     "795ac4ddea5841bfb6dcf12a47a3c555": {
      "model_module": "@jupyter-widgets/base",
      "model_module_version": "2.0.0",
      "model_name": "LayoutModel",
      "state": {}
     },
     "799ec8c2f0904d27b25bbe888c40862f": {
      "model_module": "@jupyter-widgets/base",
      "model_module_version": "2.0.0",
      "model_name": "LayoutModel",
      "state": {}
     },
     "7bdbb2b727f94ac58b584ff9b9c0ca94": {
      "model_module": "@jupyter-widgets/controls",
      "model_module_version": "2.0.0",
      "model_name": "FloatProgressModel",
      "state": {
       "bar_style": "success",
       "layout": "IPY_MODEL_f73af4ffc35549e4ab8a0c69583620a8",
       "max": 4,
       "style": "IPY_MODEL_b68d9e5a0bc34ba1ae26a6a74dbc6d2f",
       "value": 4
      }
     },
     "7bdf78e197de4638abc2371f905f93ff": {
      "model_module": "@jupyter-widgets/controls",
      "model_module_version": "2.0.0",
      "model_name": "HTMLStyleModel",
      "state": {
       "description_width": "",
       "font_size": null,
       "text_color": null
      }
     },
     "7bf1ba0c36cc41f0b260dc16fc9ec388": {
      "model_module": "@jupyter-widgets/base",
      "model_module_version": "2.0.0",
      "model_name": "LayoutModel",
      "state": {}
     },
     "7cced267907a41e4a97e5ba83ed43618": {
      "model_module": "@jupyter-widgets/base",
      "model_module_version": "2.0.0",
      "model_name": "LayoutModel",
      "state": {}
     },
     "7d031b810b0b4cd9bde07c7d2c1eb810": {
      "model_module": "@jupyter-widgets/controls",
      "model_module_version": "2.0.0",
      "model_name": "HTMLModel",
      "state": {
       "layout": "IPY_MODEL_795ac4ddea5841bfb6dcf12a47a3c555",
       "style": "IPY_MODEL_1f918be1276347759388a9564b214df1",
       "value": "100%"
      }
     },
     "7ddc81ec65914f1f9fa326b09c96b192": {
      "model_module": "@jupyter-widgets/controls",
      "model_module_version": "2.0.0",
      "model_name": "HTMLModel",
      "state": {
       "layout": "IPY_MODEL_980cdcc6e2844a238f8408305fb7de40",
       "style": "IPY_MODEL_a02c57fdb82f4085b3845f1113fb3664",
       "value": " 5/5 [03:36&lt;00:00, 53.50s/it]"
      }
     },
     "7de552b5368244cebbb24cea8e8e02f2": {
      "model_module": "@jupyter-widgets/controls",
      "model_module_version": "2.0.0",
      "model_name": "HTMLStyleModel",
      "state": {
       "description_width": "",
       "font_size": null,
       "text_color": null
      }
     },
     "7ebde2018a4f4ae59ff5f1ecfce70435": {
      "model_module": "@jupyter-widgets/controls",
      "model_module_version": "2.0.0",
      "model_name": "HTMLStyleModel",
      "state": {
       "description_width": "",
       "font_size": null,
       "text_color": null
      }
     },
     "7f3fdf2c29bd4f2c86ed625d8d482d75": {
      "model_module": "@jupyter-widgets/controls",
      "model_module_version": "2.0.0",
      "model_name": "HTMLStyleModel",
      "state": {
       "description_width": "",
       "font_size": null,
       "text_color": null
      }
     },
     "80366c853c6a43128fe84562065bb032": {
      "model_module": "@jupyter-widgets/base",
      "model_module_version": "2.0.0",
      "model_name": "LayoutModel",
      "state": {}
     },
     "804ed23873294ccdb1e32e501e1dc34f": {
      "model_module": "@jupyter-widgets/controls",
      "model_module_version": "2.0.0",
      "model_name": "HTMLModel",
      "state": {
       "layout": "IPY_MODEL_8904b1a6209d42389d9f4191d80b4c3d",
       "style": "IPY_MODEL_a358340f2bd9461f9fded9576e03ba64",
       "value": "100%"
      }
     },
     "8061780d3c6b4a8ab2f3993abf3681be": {
      "model_module": "@jupyter-widgets/base",
      "model_module_version": "2.0.0",
      "model_name": "LayoutModel",
      "state": {}
     },
     "80896a063cb84b00a0e7ac4f2eaf047f": {
      "model_module": "@jupyter-widgets/controls",
      "model_module_version": "2.0.0",
      "model_name": "ProgressStyleModel",
      "state": {
       "description_width": ""
      }
     },
     "80a6ecfecda0411cb5d44dfb693b16b2": {
      "model_module": "@jupyter-widgets/controls",
      "model_module_version": "2.0.0",
      "model_name": "HTMLModel",
      "state": {
       "layout": "IPY_MODEL_cc37db704c6140818ddcebd4932af31b",
       "style": "IPY_MODEL_031b347b0e7340a297cff17c1976a681",
       "value": "100%"
      }
     },
     "812e3c5365384ecda05789bafb49c291": {
      "model_module": "@jupyter-widgets/controls",
      "model_module_version": "2.0.0",
      "model_name": "HTMLStyleModel",
      "state": {
       "description_width": "",
       "font_size": null,
       "text_color": null
      }
     },
     "8158b512a90d4769a5c2f38c7ebb2975": {
      "model_module": "@jupyter-widgets/controls",
      "model_module_version": "2.0.0",
      "model_name": "HTMLModel",
      "state": {
       "layout": "IPY_MODEL_94527d480e854d5ba3d1855f9bb858cb",
       "style": "IPY_MODEL_c2f4df25757048c08195ac03c3dde1f8",
       "value": "100%"
      }
     },
     "8177999cae3844ea9478043066db52a2": {
      "model_module": "@jupyter-widgets/controls",
      "model_module_version": "2.0.0",
      "model_name": "HTMLStyleModel",
      "state": {
       "description_width": "",
       "font_size": null,
       "text_color": null
      }
     },
     "834e564691204efe89171273654b5b72": {
      "model_module": "@jupyter-widgets/controls",
      "model_module_version": "2.0.0",
      "model_name": "HTMLStyleModel",
      "state": {
       "description_width": "",
       "font_size": null,
       "text_color": null
      }
     },
     "842dcb8a66834730b974de0d5c661de6": {
      "model_module": "@jupyter-widgets/controls",
      "model_module_version": "2.0.0",
      "model_name": "HTMLModel",
      "state": {
       "layout": "IPY_MODEL_2a1e7adcf9034eed801b0238bb763891",
       "style": "IPY_MODEL_8839a128d6f44282be42653453d510f6",
       "value": "100%"
      }
     },
     "853ec5e7da6d4a63b0d0300bfb09cb50": {
      "model_module": "@jupyter-widgets/controls",
      "model_module_version": "2.0.0",
      "model_name": "HTMLModel",
      "state": {
       "layout": "IPY_MODEL_ce6ea230b39049b1a1bb4241c56f659e",
       "style": "IPY_MODEL_0db5eed5e2e843aa90e1db6eb1c2e82e",
       "value": " 2/2 [01:38&lt;00:00, 98.07s/it]"
      }
     },
     "861e7a4dcfd3404aaa71fd7eedb7068b": {
      "model_module": "@jupyter-widgets/controls",
      "model_module_version": "2.0.0",
      "model_name": "HTMLModel",
      "state": {
       "layout": "IPY_MODEL_8c6c8148747e48fbb837a642c83ab6f2",
       "style": "IPY_MODEL_0352c5eaf52d47f9bec038f3900920d3",
       "value": "100%"
      }
     },
     "865296f15e124f55b959195835ac6308": {
      "model_module": "@jupyter-widgets/base",
      "model_module_version": "2.0.0",
      "model_name": "LayoutModel",
      "state": {}
     },
     "86dde808ac8047b1b2daffda4ec7b875": {
      "model_module": "@jupyter-widgets/controls",
      "model_module_version": "2.0.0",
      "model_name": "ProgressStyleModel",
      "state": {
       "description_width": ""
      }
     },
     "87151783d9054183bec475e5ea19f687": {
      "model_module": "@jupyter-widgets/controls",
      "model_module_version": "2.0.0",
      "model_name": "ProgressStyleModel",
      "state": {
       "description_width": ""
      }
     },
     "8728bcc3656e45fe84808442983da699": {
      "model_module": "@jupyter-widgets/base",
      "model_module_version": "2.0.0",
      "model_name": "LayoutModel",
      "state": {}
     },
     "8839a128d6f44282be42653453d510f6": {
      "model_module": "@jupyter-widgets/controls",
      "model_module_version": "2.0.0",
      "model_name": "HTMLStyleModel",
      "state": {
       "description_width": "",
       "font_size": null,
       "text_color": null
      }
     },
     "88922610a22f444bbe8d61d1ce489885": {
      "model_module": "@jupyter-widgets/base",
      "model_module_version": "2.0.0",
      "model_name": "LayoutModel",
      "state": {}
     },
     "8904b1a6209d42389d9f4191d80b4c3d": {
      "model_module": "@jupyter-widgets/base",
      "model_module_version": "2.0.0",
      "model_name": "LayoutModel",
      "state": {}
     },
     "897b60127ee745be832ca812a3a20462": {
      "model_module": "@jupyter-widgets/base",
      "model_module_version": "2.0.0",
      "model_name": "LayoutModel",
      "state": {}
     },
     "89ce63858d9d4e94b0658dc300ccd210": {
      "model_module": "@jupyter-widgets/base",
      "model_module_version": "2.0.0",
      "model_name": "LayoutModel",
      "state": {}
     },
     "89fde25ff14e457aab4f37fe7d6bddc6": {
      "model_module": "@jupyter-widgets/controls",
      "model_module_version": "2.0.0",
      "model_name": "HTMLModel",
      "state": {
       "layout": "IPY_MODEL_2368c2f75a5e456aab7caac0d19ae121",
       "style": "IPY_MODEL_652930d49bed4cabb3e6ba8592e2b20e",
       "value": "100%"
      }
     },
     "8a3f9d31873047b58adf9799a550c859": {
      "model_module": "@jupyter-widgets/controls",
      "model_module_version": "2.0.0",
      "model_name": "FloatProgressModel",
      "state": {
       "bar_style": "success",
       "layout": "IPY_MODEL_e536700b2e2644b59dea0640c03d2240",
       "max": 2,
       "style": "IPY_MODEL_60cf038265aa4f6bb6e63c7c4efe3cc9",
       "value": 2
      }
     },
     "8a4a7ed72c534a07b0d2c1b25a596d96": {
      "model_module": "@jupyter-widgets/base",
      "model_module_version": "2.0.0",
      "model_name": "LayoutModel",
      "state": {}
     },
     "8b628143966345239827af84b7b78303": {
      "model_module": "@jupyter-widgets/controls",
      "model_module_version": "2.0.0",
      "model_name": "FloatProgressModel",
      "state": {
       "bar_style": "success",
       "layout": "IPY_MODEL_4c2286ffef134a9a90ed98a0fd466c74",
       "max": 6,
       "style": "IPY_MODEL_96e8ec3b8d8e459d9a20bebb542ccc48",
       "value": 6
      }
     },
     "8c6c8148747e48fbb837a642c83ab6f2": {
      "model_module": "@jupyter-widgets/base",
      "model_module_version": "2.0.0",
      "model_name": "LayoutModel",
      "state": {}
     },
     "8c9e3ecd87c7423da293770269177116": {
      "model_module": "@jupyter-widgets/base",
      "model_module_version": "2.0.0",
      "model_name": "LayoutModel",
      "state": {}
     },
     "8cab46026aa74eb5a76a805fcdf27ce2": {
      "model_module": "@jupyter-widgets/controls",
      "model_module_version": "2.0.0",
      "model_name": "HTMLStyleModel",
      "state": {
       "description_width": "",
       "font_size": null,
       "text_color": null
      }
     },
     "8d096bbf2eb346e685a2a34fe47cdbe3": {
      "model_module": "@jupyter-widgets/base",
      "model_module_version": "2.0.0",
      "model_name": "LayoutModel",
      "state": {}
     },
     "8d650e6c67024e88bb33b3c7729bf3ee": {
      "model_module": "@jupyter-widgets/base",
      "model_module_version": "2.0.0",
      "model_name": "LayoutModel",
      "state": {}
     },
     "8deccd4436534b9e8fe30f13f1b50677": {
      "model_module": "@jupyter-widgets/controls",
      "model_module_version": "2.0.0",
      "model_name": "HTMLStyleModel",
      "state": {
       "description_width": "",
       "font_size": null,
       "text_color": null
      }
     },
     "8dfad0eb26a14ff8a53bdb6ecb78cb1e": {
      "model_module": "@jupyter-widgets/controls",
      "model_module_version": "2.0.0",
      "model_name": "HBoxModel",
      "state": {
       "children": [
        "IPY_MODEL_21f8ffbbf5e942dbaeaf4a66ad5bc8a1",
        "IPY_MODEL_389e44571ffa4787bf2e08b35f5189fe",
        "IPY_MODEL_32e8a3efcd2f4d589c506675cbc33cb0"
       ],
       "layout": "IPY_MODEL_80366c853c6a43128fe84562065bb032"
      }
     },
     "8eb382daef7b4b2f8ba4876393479cb6": {
      "model_module": "@jupyter-widgets/controls",
      "model_module_version": "2.0.0",
      "model_name": "HBoxModel",
      "state": {
       "children": [
        "IPY_MODEL_f8149cee4b884b5793d87b0cc3497629",
        "IPY_MODEL_062fea9c5a5546168b04a3242ef1f02f",
        "IPY_MODEL_76ae45a2cf994ef49f2d6f6989edde2b"
       ],
       "layout": "IPY_MODEL_c4258d332c1848c196c67d531ef80a0c"
      }
     },
     "90a05b9961154c04b75dc938955b8bf0": {
      "model_module": "@jupyter-widgets/base",
      "model_module_version": "2.0.0",
      "model_name": "LayoutModel",
      "state": {}
     },
     "911b3854a81d47818966a808ba208001": {
      "model_module": "@jupyter-widgets/controls",
      "model_module_version": "2.0.0",
      "model_name": "HBoxModel",
      "state": {
       "children": [
        "IPY_MODEL_a9124d0bfb2249dd8839d04427b73d31",
        "IPY_MODEL_2a7ce756650844bfb5d5ecbdf67c8351",
        "IPY_MODEL_7ddc81ec65914f1f9fa326b09c96b192"
       ],
       "layout": "IPY_MODEL_d3e0b94234ae47f99cdd0db089d65df9"
      }
     },
     "93da41ce6969434aaea35781c2436f8c": {
      "model_module": "@jupyter-widgets/base",
      "model_module_version": "2.0.0",
      "model_name": "LayoutModel",
      "state": {}
     },
     "94527d480e854d5ba3d1855f9bb858cb": {
      "model_module": "@jupyter-widgets/base",
      "model_module_version": "2.0.0",
      "model_name": "LayoutModel",
      "state": {}
     },
     "954e0fbbdc2c40c08c262df1c0c0106b": {
      "model_module": "@jupyter-widgets/controls",
      "model_module_version": "2.0.0",
      "model_name": "ProgressStyleModel",
      "state": {
       "description_width": ""
      }
     },
     "95998f7d19b74421a02adbbf1e051e13": {
      "model_module": "@jupyter-widgets/controls",
      "model_module_version": "2.0.0",
      "model_name": "HTMLStyleModel",
      "state": {
       "description_width": "",
       "font_size": null,
       "text_color": null
      }
     },
     "96023e0b49bb4aeda2d7e401cd9b9873": {
      "model_module": "@jupyter-widgets/controls",
      "model_module_version": "2.0.0",
      "model_name": "HTMLModel",
      "state": {
       "layout": "IPY_MODEL_c420e526ac2e40038628c15513746595",
       "style": "IPY_MODEL_1696ff7cd3d842b1a95fe0316e98a51f",
       "value": " 4/4 [06:27&lt;00:00, 131.13s/it]"
      }
     },
     "965e7c9d47f64a9b86781bdd629d9bdf": {
      "model_module": "@jupyter-widgets/controls",
      "model_module_version": "2.0.0",
      "model_name": "FloatProgressModel",
      "state": {
       "bar_style": "success",
       "layout": "IPY_MODEL_16f0f037a0b74a09b21591e6f11812ce",
       "max": 4,
       "style": "IPY_MODEL_a7fb92748e8b4a35babd53c4dbb4f6e2",
       "value": 4
      }
     },
     "96e8ec3b8d8e459d9a20bebb542ccc48": {
      "model_module": "@jupyter-widgets/controls",
      "model_module_version": "2.0.0",
      "model_name": "ProgressStyleModel",
      "state": {
       "description_width": ""
      }
     },
     "97d5ba290668451dbe8e3f42472a3e88": {
      "model_module": "@jupyter-widgets/controls",
      "model_module_version": "2.0.0",
      "model_name": "HTMLModel",
      "state": {
       "layout": "IPY_MODEL_5009c20d8180459e9d92aa5f693015d9",
       "style": "IPY_MODEL_8deccd4436534b9e8fe30f13f1b50677",
       "value": "100%"
      }
     },
     "980cdcc6e2844a238f8408305fb7de40": {
      "model_module": "@jupyter-widgets/base",
      "model_module_version": "2.0.0",
      "model_name": "LayoutModel",
      "state": {}
     },
     "9883bc2cb4a24d99b0c4b6a209c9d16d": {
      "model_module": "@jupyter-widgets/controls",
      "model_module_version": "2.0.0",
      "model_name": "HTMLModel",
      "state": {
       "layout": "IPY_MODEL_178654a5129740b3b201e0261472d850",
       "style": "IPY_MODEL_6e0352c5b804439780998278050dcd17",
       "value": " 2/2 [02:22&lt;00:00, 142.84s/it]"
      }
     },
     "9976876713a24c409dcb15ca559fe1f0": {
      "model_module": "@jupyter-widgets/base",
      "model_module_version": "2.0.0",
      "model_name": "LayoutModel",
      "state": {}
     },
     "9a84900b37114b96bade5a5748c28080": {
      "model_module": "@jupyter-widgets/base",
      "model_module_version": "2.0.0",
      "model_name": "LayoutModel",
      "state": {}
     },
     "9a90f1b280f54350b90f127f23b7961c": {
      "model_module": "@jupyter-widgets/controls",
      "model_module_version": "2.0.0",
      "model_name": "HTMLModel",
      "state": {
       "layout": "IPY_MODEL_f8d6b85977fa4d88bc0febd964f126ac",
       "style": "IPY_MODEL_cd20d1c2e904482eb980b0a27ea7006e",
       "value": "100%"
      }
     },
     "9b7b9b36eb64432d81bbc76103f94337": {
      "model_module": "@jupyter-widgets/base",
      "model_module_version": "2.0.0",
      "model_name": "LayoutModel",
      "state": {}
     },
     "9c0612eae06c46a2862df539536462a5": {
      "model_module": "@jupyter-widgets/base",
      "model_module_version": "2.0.0",
      "model_name": "LayoutModel",
      "state": {}
     },
     "9c60c68c6f2d43078834142461a02c36": {
      "model_module": "@jupyter-widgets/base",
      "model_module_version": "2.0.0",
      "model_name": "LayoutModel",
      "state": {}
     },
     "9d98d805206f4b92ac56faa372416297": {
      "model_module": "@jupyter-widgets/controls",
      "model_module_version": "2.0.0",
      "model_name": "HBoxModel",
      "state": {
       "children": [
        "IPY_MODEL_21528a189d96400b903668f061fc95c6",
        "IPY_MODEL_f40cdc0aa4c34a198e9f033f9cdd6515",
        "IPY_MODEL_6c303bac78d9420991b159fe171e0a82"
       ],
       "layout": "IPY_MODEL_9ef118052592441aacda38ad5dd1c126"
      }
     },
     "9e85173061e24410a33a94d8fc1f146d": {
      "model_module": "@jupyter-widgets/base",
      "model_module_version": "2.0.0",
      "model_name": "LayoutModel",
      "state": {}
     },
     "9ef118052592441aacda38ad5dd1c126": {
      "model_module": "@jupyter-widgets/base",
      "model_module_version": "2.0.0",
      "model_name": "LayoutModel",
      "state": {}
     },
     "9f25b87513f146cfa1b7949f178bdd31": {
      "model_module": "@jupyter-widgets/controls",
      "model_module_version": "2.0.0",
      "model_name": "HTMLModel",
      "state": {
       "layout": "IPY_MODEL_9976876713a24c409dcb15ca559fe1f0",
       "style": "IPY_MODEL_1776687b3ac74b9d97076737f28fbdc7",
       "value": " 3/3 [03:08&lt;00:00, 94.60s/it]"
      }
     },
     "9f38bedbde8a4f2d84b7858a94f98c4f": {
      "model_module": "@jupyter-widgets/controls",
      "model_module_version": "2.0.0",
      "model_name": "HTMLModel",
      "state": {
       "layout": "IPY_MODEL_897b60127ee745be832ca812a3a20462",
       "style": "IPY_MODEL_1fed08ff3da54a57abe4dd727e945c67",
       "value": " 3/3 [01:05&lt;00:00, 31.75s/it]"
      }
     },
     "9ff020f1f5ee4764a5aba7b0388fa0db": {
      "model_module": "@jupyter-widgets/base",
      "model_module_version": "2.0.0",
      "model_name": "LayoutModel",
      "state": {}
     },
     "a02c57fdb82f4085b3845f1113fb3664": {
      "model_module": "@jupyter-widgets/controls",
      "model_module_version": "2.0.0",
      "model_name": "HTMLStyleModel",
      "state": {
       "description_width": "",
       "font_size": null,
       "text_color": null
      }
     },
     "a03b621b9e8f4ab69a6b2b0da2f215e8": {
      "model_module": "@jupyter-widgets/base",
      "model_module_version": "2.0.0",
      "model_name": "LayoutModel",
      "state": {}
     },
     "a09463b47787409b9642903259dec43e": {
      "model_module": "@jupyter-widgets/controls",
      "model_module_version": "2.0.0",
      "model_name": "FloatProgressModel",
      "state": {
       "bar_style": "success",
       "layout": "IPY_MODEL_9e85173061e24410a33a94d8fc1f146d",
       "max": 2,
       "style": "IPY_MODEL_d94def46219e44bfb246056fe4424164",
       "value": 2
      }
     },
     "a16b2b4179a64be186039908d848f5c1": {
      "model_module": "@jupyter-widgets/controls",
      "model_module_version": "2.0.0",
      "model_name": "HBoxModel",
      "state": {
       "children": [
        "IPY_MODEL_49dd69a5eb86434e98de10ecde395ce5",
        "IPY_MODEL_42a047b35d284ab4a8ec758d77756612",
        "IPY_MODEL_6f70e1e4bd8145bca43ed50c0630602c"
       ],
       "layout": "IPY_MODEL_7cced267907a41e4a97e5ba83ed43618"
      }
     },
     "a178f66ca7ca4b3688508d27e9ba5367": {
      "model_module": "@jupyter-widgets/base",
      "model_module_version": "2.0.0",
      "model_name": "LayoutModel",
      "state": {}
     },
     "a358340f2bd9461f9fded9576e03ba64": {
      "model_module": "@jupyter-widgets/controls",
      "model_module_version": "2.0.0",
      "model_name": "HTMLStyleModel",
      "state": {
       "description_width": "",
       "font_size": null,
       "text_color": null
      }
     },
     "a37beea2700d401cad5b499370b71374": {
      "model_module": "@jupyter-widgets/controls",
      "model_module_version": "2.0.0",
      "model_name": "HTMLModel",
      "state": {
       "layout": "IPY_MODEL_e343f2d626814c468b783d63ad2c67ee",
       "style": "IPY_MODEL_ba762251968347dd9d3815cb459ff5ee",
       "value": "100%"
      }
     },
     "a3e61fd74e1745cdb179344d721370dd": {
      "model_module": "@jupyter-widgets/base",
      "model_module_version": "2.0.0",
      "model_name": "LayoutModel",
      "state": {}
     },
     "a404e0b84db74e3ea637e5a40cc920a1": {
      "model_module": "@jupyter-widgets/controls",
      "model_module_version": "2.0.0",
      "model_name": "FloatProgressModel",
      "state": {
       "bar_style": "success",
       "layout": "IPY_MODEL_5aa7fcbebfb946a9aadb36cadd8492a5",
       "max": 3,
       "style": "IPY_MODEL_374de21a481f491c827a4ed21e7e55cb",
       "value": 3
      }
     },
     "a4af444bee8941a68b7c457b783b1dc0": {
      "model_module": "@jupyter-widgets/base",
      "model_module_version": "2.0.0",
      "model_name": "LayoutModel",
      "state": {}
     },
     "a70b8e12a3194b04a5986b64b54db358": {
      "model_module": "@jupyter-widgets/controls",
      "model_module_version": "2.0.0",
      "model_name": "HTMLModel",
      "state": {
       "layout": "IPY_MODEL_8728bcc3656e45fe84808442983da699",
       "style": "IPY_MODEL_434e559efedb4536b07a052301283095",
       "value": "100%"
      }
     },
     "a7fb92748e8b4a35babd53c4dbb4f6e2": {
      "model_module": "@jupyter-widgets/controls",
      "model_module_version": "2.0.0",
      "model_name": "ProgressStyleModel",
      "state": {
       "description_width": ""
      }
     },
     "a9124d0bfb2249dd8839d04427b73d31": {
      "model_module": "@jupyter-widgets/controls",
      "model_module_version": "2.0.0",
      "model_name": "HTMLModel",
      "state": {
       "layout": "IPY_MODEL_e6c54c85966248ef9cb5a42fd3e2408b",
       "style": "IPY_MODEL_834e564691204efe89171273654b5b72",
       "value": "100%"
      }
     },
     "aa45f20020164fc6ba551b358c6d704e": {
      "model_module": "@jupyter-widgets/controls",
      "model_module_version": "2.0.0",
      "model_name": "ProgressStyleModel",
      "state": {
       "description_width": ""
      }
     },
     "aaa485edd1eb4a8d81c5e7def2b43d53": {
      "model_module": "@jupyter-widgets/base",
      "model_module_version": "2.0.0",
      "model_name": "LayoutModel",
      "state": {}
     },
     "ac78766d93b34ff69a710d36f7166712": {
      "model_module": "@jupyter-widgets/base",
      "model_module_version": "2.0.0",
      "model_name": "LayoutModel",
      "state": {}
     },
     "af0c161b6f6544f693463b500d9392da": {
      "model_module": "@jupyter-widgets/base",
      "model_module_version": "2.0.0",
      "model_name": "LayoutModel",
      "state": {}
     },
     "b010e6a680d0433a841aa119ffe51ce5": {
      "model_module": "@jupyter-widgets/controls",
      "model_module_version": "2.0.0",
      "model_name": "HTMLModel",
      "state": {
       "layout": "IPY_MODEL_22e78dd5385448a2b42cf853eaa7579b",
       "style": "IPY_MODEL_7de552b5368244cebbb24cea8e8e02f2",
       "value": "100%"
      }
     },
     "b109fd0a74614d8988acbed935167066": {
      "model_module": "@jupyter-widgets/base",
      "model_module_version": "2.0.0",
      "model_name": "LayoutModel",
      "state": {}
     },
     "b16c15cac9bc410ebf681e1abcec117f": {
      "model_module": "@jupyter-widgets/base",
      "model_module_version": "2.0.0",
      "model_name": "LayoutModel",
      "state": {}
     },
     "b43d897310414dd2a665c1711e49c8ef": {
      "model_module": "@jupyter-widgets/base",
      "model_module_version": "2.0.0",
      "model_name": "LayoutModel",
      "state": {}
     },
     "b477ed452ae14485b43e16379e4738e9": {
      "model_module": "@jupyter-widgets/controls",
      "model_module_version": "2.0.0",
      "model_name": "HBoxModel",
      "state": {
       "children": [
        "IPY_MODEL_a70b8e12a3194b04a5986b64b54db358",
        "IPY_MODEL_6fbfbad6cfba40d0b88c99458303ae09",
        "IPY_MODEL_3b06f98975c240e28abf1b74130305bf"
       ],
       "layout": "IPY_MODEL_ea92a4ffb9c44a37a55e62459dedd248"
      }
     },
     "b4801ac9da0748359ba4adaef41117f9": {
      "model_module": "@jupyter-widgets/controls",
      "model_module_version": "2.0.0",
      "model_name": "HTMLModel",
      "state": {
       "layout": "IPY_MODEL_29bdc7b52f9d4db783ed148fe184509d",
       "style": "IPY_MODEL_6b1c3b56e9f540ba9ca5165b1d853b6e",
       "value": " 2/2 [01:22&lt;00:00, 82.43s/it]"
      }
     },
     "b5a3bf88ca8d4069bb3927fa7dfc0385": {
      "model_module": "@jupyter-widgets/controls",
      "model_module_version": "2.0.0",
      "model_name": "HTMLModel",
      "state": {
       "layout": "IPY_MODEL_88922610a22f444bbe8d61d1ce489885",
       "style": "IPY_MODEL_0ca02706bd4447508d2bc20faaddacb3",
       "value": " 5/5 [03:52&lt;00:00, 58.98s/it]"
      }
     },
     "b5ba1d8e08df4987944f47f82cb75947": {
      "model_module": "@jupyter-widgets/base",
      "model_module_version": "2.0.0",
      "model_name": "LayoutModel",
      "state": {}
     },
     "b639b635fba444429fd1ec35e8d94735": {
      "model_module": "@jupyter-widgets/controls",
      "model_module_version": "2.0.0",
      "model_name": "HTMLModel",
      "state": {
       "layout": "IPY_MODEL_f256ee0b0c504059bcba9d65d579e104",
       "style": "IPY_MODEL_e025529c2073469eb21f8e4bbb827974",
       "value": " 3/3 [02:58&lt;00:00, 86.13s/it]"
      }
     },
     "b68d9e5a0bc34ba1ae26a6a74dbc6d2f": {
      "model_module": "@jupyter-widgets/controls",
      "model_module_version": "2.0.0",
      "model_name": "ProgressStyleModel",
      "state": {
       "description_width": ""
      }
     },
     "b728ce1f0db8423fb098db57671d9158": {
      "model_module": "@jupyter-widgets/controls",
      "model_module_version": "2.0.0",
      "model_name": "HTMLModel",
      "state": {
       "layout": "IPY_MODEL_b5ba1d8e08df4987944f47f82cb75947",
       "style": "IPY_MODEL_c1256ed65be44b78b56edfcf030bcc3f",
       "value": " 6/6 [10:11&lt;00:00, 121.79s/it]"
      }
     },
     "b8b1150470874052ac795d89dd67d7de": {
      "model_module": "@jupyter-widgets/controls",
      "model_module_version": "2.0.0",
      "model_name": "HBoxModel",
      "state": {
       "children": [
        "IPY_MODEL_397a62d993eb45a280abc2c435247466",
        "IPY_MODEL_18d549d4160f42ec8074c79292f5538b",
        "IPY_MODEL_b639b635fba444429fd1ec35e8d94735"
       ],
       "layout": "IPY_MODEL_a3e61fd74e1745cdb179344d721370dd"
      }
     },
     "b93977c806b8431c90c96f78bef0a86b": {
      "model_module": "@jupyter-widgets/controls",
      "model_module_version": "2.0.0",
      "model_name": "ProgressStyleModel",
      "state": {
       "description_width": ""
      }
     },
     "b98fc3cff5f64577b24eee50b71a1fc3": {
      "model_module": "@jupyter-widgets/base",
      "model_module_version": "2.0.0",
      "model_name": "LayoutModel",
      "state": {}
     },
     "b99fb2c35c52421fb6c945e54fe0b985": {
      "model_module": "@jupyter-widgets/base",
      "model_module_version": "2.0.0",
      "model_name": "LayoutModel",
      "state": {}
     },
     "ba762251968347dd9d3815cb459ff5ee": {
      "model_module": "@jupyter-widgets/controls",
      "model_module_version": "2.0.0",
      "model_name": "HTMLStyleModel",
      "state": {
       "description_width": "",
       "font_size": null,
       "text_color": null
      }
     },
     "bab4e38a4f4244eabbb867d96773167a": {
      "model_module": "@jupyter-widgets/base",
      "model_module_version": "2.0.0",
      "model_name": "LayoutModel",
      "state": {}
     },
     "bb6d52822ae04d219716616528e7e78b": {
      "model_module": "@jupyter-widgets/controls",
      "model_module_version": "2.0.0",
      "model_name": "ProgressStyleModel",
      "state": {
       "description_width": ""
      }
     },
     "bb7cd186eaae4aed9ecbfe25b1c75d6b": {
      "model_module": "@jupyter-widgets/base",
      "model_module_version": "2.0.0",
      "model_name": "LayoutModel",
      "state": {}
     },
     "bc3adf9bd4864e32ab51707190111f54": {
      "model_module": "@jupyter-widgets/base",
      "model_module_version": "2.0.0",
      "model_name": "LayoutModel",
      "state": {}
     },
     "bc49015a0ba240bdb08a7e8707098990": {
      "model_module": "@jupyter-widgets/base",
      "model_module_version": "2.0.0",
      "model_name": "LayoutModel",
      "state": {}
     },
     "bc8a743d154542449468e262ecd3af25": {
      "model_module": "@jupyter-widgets/base",
      "model_module_version": "2.0.0",
      "model_name": "LayoutModel",
      "state": {}
     },
     "bcd19a4849e3402bb9119b48ea2d6a3b": {
      "model_module": "@jupyter-widgets/controls",
      "model_module_version": "2.0.0",
      "model_name": "HTMLModel",
      "state": {
       "layout": "IPY_MODEL_d40c1dc6f74b4c62926cf2ff6ee84331",
       "style": "IPY_MODEL_24db02aa90384982ad80dac85f9ae222",
       "value": "100%"
      }
     },
     "bdcfdea20146405e9d267dde705ba215": {
      "model_module": "@jupyter-widgets/base",
      "model_module_version": "2.0.0",
      "model_name": "LayoutModel",
      "state": {}
     },
     "be231bdf990a4f998787ddf26a88b0b5": {
      "model_module": "@jupyter-widgets/base",
      "model_module_version": "2.0.0",
      "model_name": "LayoutModel",
      "state": {}
     },
     "bf203b9199194207b7ad8e058103e98b": {
      "model_module": "@jupyter-widgets/controls",
      "model_module_version": "2.0.0",
      "model_name": "HBoxModel",
      "state": {
       "children": [
        "IPY_MODEL_80a6ecfecda0411cb5d44dfb693b16b2",
        "IPY_MODEL_a09463b47787409b9642903259dec43e",
        "IPY_MODEL_d300666989ea4863b4c66de53edb2470"
       ],
       "layout": "IPY_MODEL_4d3396262ae04b29800699bb3e9859c5"
      }
     },
     "bf6b25f0d47848169c1cfed218976150": {
      "model_module": "@jupyter-widgets/controls",
      "model_module_version": "2.0.0",
      "model_name": "HTMLStyleModel",
      "state": {
       "description_width": "",
       "font_size": null,
       "text_color": null
      }
     },
     "c1256ed65be44b78b56edfcf030bcc3f": {
      "model_module": "@jupyter-widgets/controls",
      "model_module_version": "2.0.0",
      "model_name": "HTMLStyleModel",
      "state": {
       "description_width": "",
       "font_size": null,
       "text_color": null
      }
     },
     "c19725612eee46c58bd75e456111d0dc": {
      "model_module": "@jupyter-widgets/base",
      "model_module_version": "2.0.0",
      "model_name": "LayoutModel",
      "state": {}
     },
     "c24de0acec424fedb4723b9cd35a3e9d": {
      "model_module": "@jupyter-widgets/base",
      "model_module_version": "2.0.0",
      "model_name": "LayoutModel",
      "state": {}
     },
     "c2e315ad53104b0993d8282f8c885c3e": {
      "model_module": "@jupyter-widgets/base",
      "model_module_version": "2.0.0",
      "model_name": "LayoutModel",
      "state": {}
     },
     "c2f4df25757048c08195ac03c3dde1f8": {
      "model_module": "@jupyter-widgets/controls",
      "model_module_version": "2.0.0",
      "model_name": "HTMLStyleModel",
      "state": {
       "description_width": "",
       "font_size": null,
       "text_color": null
      }
     },
     "c37053a0d44c4176b12c5dc3500b2388": {
      "model_module": "@jupyter-widgets/base",
      "model_module_version": "2.0.0",
      "model_name": "LayoutModel",
      "state": {}
     },
     "c420e526ac2e40038628c15513746595": {
      "model_module": "@jupyter-widgets/base",
      "model_module_version": "2.0.0",
      "model_name": "LayoutModel",
      "state": {}
     },
     "c4258d332c1848c196c67d531ef80a0c": {
      "model_module": "@jupyter-widgets/base",
      "model_module_version": "2.0.0",
      "model_name": "LayoutModel",
      "state": {}
     },
     "c473b786c0b2469da57747c30e903f10": {
      "model_module": "@jupyter-widgets/controls",
      "model_module_version": "2.0.0",
      "model_name": "HTMLStyleModel",
      "state": {
       "description_width": "",
       "font_size": null,
       "text_color": null
      }
     },
     "c53014a9aa5c4b87a159c6c62419b48e": {
      "model_module": "@jupyter-widgets/controls",
      "model_module_version": "2.0.0",
      "model_name": "HTMLStyleModel",
      "state": {
       "description_width": "",
       "font_size": null,
       "text_color": null
      }
     },
     "c58a978c5f964e3ab75d6847f643a20b": {
      "model_module": "@jupyter-widgets/controls",
      "model_module_version": "2.0.0",
      "model_name": "HTMLStyleModel",
      "state": {
       "description_width": "",
       "font_size": null,
       "text_color": null
      }
     },
     "c58b980dff394c7bbba0e5789b4e583e": {
      "model_module": "@jupyter-widgets/base",
      "model_module_version": "2.0.0",
      "model_name": "LayoutModel",
      "state": {}
     },
     "c63152e106954f7faa6d6eb9ea545fe2": {
      "model_module": "@jupyter-widgets/base",
      "model_module_version": "2.0.0",
      "model_name": "LayoutModel",
      "state": {}
     },
     "c7f3f1b11e4346238174e31b4208aa7d": {
      "model_module": "@jupyter-widgets/base",
      "model_module_version": "2.0.0",
      "model_name": "LayoutModel",
      "state": {}
     },
     "cb0f7205f6e54196b09d8a4f3f018031": {
      "model_module": "@jupyter-widgets/controls",
      "model_module_version": "2.0.0",
      "model_name": "HTMLStyleModel",
      "state": {
       "description_width": "",
       "font_size": null,
       "text_color": null
      }
     },
     "cb3166efbc194d9e8855cf59a9287e05": {
      "model_module": "@jupyter-widgets/controls",
      "model_module_version": "2.0.0",
      "model_name": "HBoxModel",
      "state": {
       "children": [
        "IPY_MODEL_861e7a4dcfd3404aaa71fd7eedb7068b",
        "IPY_MODEL_6878e52f13f74bb0bd9a8db1e097000c",
        "IPY_MODEL_9f38bedbde8a4f2d84b7858a94f98c4f"
       ],
       "layout": "IPY_MODEL_28707365589a40f686856879e43ea497"
      }
     },
     "cb5c859f649d46e0a2a11e86fee8d8fa": {
      "model_module": "@jupyter-widgets/base",
      "model_module_version": "2.0.0",
      "model_name": "LayoutModel",
      "state": {}
     },
     "cb63e1cf16c546ca8e2f635a01355d37": {
      "model_module": "@jupyter-widgets/controls",
      "model_module_version": "2.0.0",
      "model_name": "HTMLModel",
      "state": {
       "layout": "IPY_MODEL_05796c9a168a4221971f9aad9472d25a",
       "style": "IPY_MODEL_2c678bb4808345e9bbaaeb5de2655661",
       "value": " 4/4 [05:05&lt;00:00, 101.74s/it]"
      }
     },
     "cb8c3f730b9f482eabd6fead602390c4": {
      "model_module": "@jupyter-widgets/controls",
      "model_module_version": "2.0.0",
      "model_name": "FloatProgressModel",
      "state": {
       "bar_style": "success",
       "layout": "IPY_MODEL_ac78766d93b34ff69a710d36f7166712",
       "max": 3,
       "style": "IPY_MODEL_f6d40db6673747d4a0fddb584c58b783",
       "value": 3
      }
     },
     "cb91f254fafc4cdc99824f0ec3860bd0": {
      "model_module": "@jupyter-widgets/controls",
      "model_module_version": "2.0.0",
      "model_name": "FloatProgressModel",
      "state": {
       "bar_style": "success",
       "layout": "IPY_MODEL_4db8ee10885246e2bd1cc34de2094a7f",
       "max": 68,
       "style": "IPY_MODEL_f6a9eeb7ff514f839970e401a0aa5d20",
       "value": 68
      }
     },
     "cbf7a5a48b16449f99c9aa07df40a738": {
      "model_module": "@jupyter-widgets/controls",
      "model_module_version": "2.0.0",
      "model_name": "ProgressStyleModel",
      "state": {
       "description_width": ""
      }
     },
     "cc37db704c6140818ddcebd4932af31b": {
      "model_module": "@jupyter-widgets/base",
      "model_module_version": "2.0.0",
      "model_name": "LayoutModel",
      "state": {}
     },
     "cc874a5b223141bd84ce3276a142dad4": {
      "model_module": "@jupyter-widgets/controls",
      "model_module_version": "2.0.0",
      "model_name": "HBoxModel",
      "state": {
       "children": [
        "IPY_MODEL_7d031b810b0b4cd9bde07c7d2c1eb810",
        "IPY_MODEL_310d973054564ce9b2a5fbd0b9fdcc5e",
        "IPY_MODEL_e15fcc572e154f349d2c94d64b2384d9"
       ],
       "layout": "IPY_MODEL_c37053a0d44c4176b12c5dc3500b2388"
      }
     },
     "cc8d92a9e37544789f475871f5686618": {
      "model_module": "@jupyter-widgets/controls",
      "model_module_version": "2.0.0",
      "model_name": "FloatProgressModel",
      "state": {
       "bar_style": "success",
       "layout": "IPY_MODEL_1d3da57bbc1e4a03b37ce96c71603844",
       "max": 5,
       "style": "IPY_MODEL_b93977c806b8431c90c96f78bef0a86b",
       "value": 5
      }
     },
     "cd20d1c2e904482eb980b0a27ea7006e": {
      "model_module": "@jupyter-widgets/controls",
      "model_module_version": "2.0.0",
      "model_name": "HTMLStyleModel",
      "state": {
       "description_width": "",
       "font_size": null,
       "text_color": null
      }
     },
     "ce6ea230b39049b1a1bb4241c56f659e": {
      "model_module": "@jupyter-widgets/base",
      "model_module_version": "2.0.0",
      "model_name": "LayoutModel",
      "state": {}
     },
     "cee613f5460a4f758224e88884e02967": {
      "model_module": "@jupyter-widgets/base",
      "model_module_version": "2.0.0",
      "model_name": "LayoutModel",
      "state": {}
     },
     "cf1aceb663694893b7fdb1d4d7883db1": {
      "model_module": "@jupyter-widgets/controls",
      "model_module_version": "2.0.0",
      "model_name": "ProgressStyleModel",
      "state": {
       "description_width": ""
      }
     },
     "cfb19da88d574b529daffb9030e7db8c": {
      "model_module": "@jupyter-widgets/controls",
      "model_module_version": "2.0.0",
      "model_name": "HBoxModel",
      "state": {
       "children": [
        "IPY_MODEL_54129537c2d946fc893e26ff44582d4f",
        "IPY_MODEL_16985606e65f415e9b9c114d872f0531",
        "IPY_MODEL_ee6b2d6fd6e244c1ad328259d5ccf267"
       ],
       "layout": "IPY_MODEL_f6df527b17154fb58dba6b945992dd79"
      }
     },
     "d00d11853d7449278e44a71ab29edd73": {
      "model_module": "@jupyter-widgets/controls",
      "model_module_version": "2.0.0",
      "model_name": "HTMLStyleModel",
      "state": {
       "description_width": "",
       "font_size": null,
       "text_color": null
      }
     },
     "d06471107dfc40588854d4dea3c406a8": {
      "model_module": "@jupyter-widgets/controls",
      "model_module_version": "2.0.0",
      "model_name": "HTMLStyleModel",
      "state": {
       "description_width": "",
       "font_size": null,
       "text_color": null
      }
     },
     "d0803e23c0b8409b875fc9ee5f1927bf": {
      "model_module": "@jupyter-widgets/controls",
      "model_module_version": "2.0.0",
      "model_name": "HTMLStyleModel",
      "state": {
       "description_width": "",
       "font_size": null,
       "text_color": null
      }
     },
     "d1f866238d194a02a4a9dbe0ff62c0fa": {
      "model_module": "@jupyter-widgets/controls",
      "model_module_version": "2.0.0",
      "model_name": "HTMLStyleModel",
      "state": {
       "description_width": "",
       "font_size": null,
       "text_color": null
      }
     },
     "d268a2de5e9b442db241c5fe5a74b7e5": {
      "model_module": "@jupyter-widgets/controls",
      "model_module_version": "2.0.0",
      "model_name": "HTMLStyleModel",
      "state": {
       "description_width": "",
       "font_size": null,
       "text_color": null
      }
     },
     "d2bad50b599e4f7da0f8a2f3ad310b4e": {
      "model_module": "@jupyter-widgets/controls",
      "model_module_version": "2.0.0",
      "model_name": "ProgressStyleModel",
      "state": {
       "description_width": ""
      }
     },
     "d300666989ea4863b4c66de53edb2470": {
      "model_module": "@jupyter-widgets/controls",
      "model_module_version": "2.0.0",
      "model_name": "HTMLModel",
      "state": {
       "layout": "IPY_MODEL_5c3840db861049dd9414e5187288a1d9",
       "style": "IPY_MODEL_e73c6457bce945b391ebb7dfc93b12a4",
       "value": " 2/2 [01:41&lt;00:00, 101.18s/it]"
      }
     },
     "d3b164eabc4a4edca87425b473212007": {
      "model_module": "@jupyter-widgets/base",
      "model_module_version": "2.0.0",
      "model_name": "LayoutModel",
      "state": {}
     },
     "d3b2fdb80e264527925e7aca767810d3": {
      "model_module": "@jupyter-widgets/base",
      "model_module_version": "2.0.0",
      "model_name": "LayoutModel",
      "state": {}
     },
     "d3bc4490bc52486f8df834da006f1c26": {
      "model_module": "@jupyter-widgets/controls",
      "model_module_version": "2.0.0",
      "model_name": "HTMLModel",
      "state": {
       "layout": "IPY_MODEL_c24de0acec424fedb4723b9cd35a3e9d",
       "style": "IPY_MODEL_feab6e04aacb46d9b36ae64df19be1a3",
       "value": "100%"
      }
     },
     "d3c38488dbdb43f6bab95fad8d2ce452": {
      "model_module": "@jupyter-widgets/base",
      "model_module_version": "2.0.0",
      "model_name": "LayoutModel",
      "state": {}
     },
     "d3e0b94234ae47f99cdd0db089d65df9": {
      "model_module": "@jupyter-widgets/base",
      "model_module_version": "2.0.0",
      "model_name": "LayoutModel",
      "state": {}
     },
     "d40c1dc6f74b4c62926cf2ff6ee84331": {
      "model_module": "@jupyter-widgets/base",
      "model_module_version": "2.0.0",
      "model_name": "LayoutModel",
      "state": {}
     },
     "d46664a767604271b110c48e2569b0b1": {
      "model_module": "@jupyter-widgets/controls",
      "model_module_version": "2.0.0",
      "model_name": "ProgressStyleModel",
      "state": {
       "description_width": ""
      }
     },
     "d664b540070642e4a5627a8d1e45a897": {
      "model_module": "@jupyter-widgets/controls",
      "model_module_version": "2.0.0",
      "model_name": "HTMLStyleModel",
      "state": {
       "description_width": "",
       "font_size": null,
       "text_color": null
      }
     },
     "d7a057b60fed426b945b729c83802d65": {
      "model_module": "@jupyter-widgets/controls",
      "model_module_version": "2.0.0",
      "model_name": "HTMLModel",
      "state": {
       "layout": "IPY_MODEL_4e394abccf064ced9536afd34a58451a",
       "style": "IPY_MODEL_4c436cc26912488cb6cf750115989fb7",
       "value": " 2/2 [01:08&lt;00:00, 68.16s/it]"
      }
     },
     "d94def46219e44bfb246056fe4424164": {
      "model_module": "@jupyter-widgets/controls",
      "model_module_version": "2.0.0",
      "model_name": "ProgressStyleModel",
      "state": {
       "description_width": ""
      }
     },
     "d9a3dc7d9d064c89865dcd7e42f32967": {
      "model_module": "@jupyter-widgets/base",
      "model_module_version": "2.0.0",
      "model_name": "LayoutModel",
      "state": {}
     },
     "db73f765a29045afb727c9fdff55f5b4": {
      "model_module": "@jupyter-widgets/base",
      "model_module_version": "2.0.0",
      "model_name": "LayoutModel",
      "state": {}
     },
     "dc148f5e189244b59d92af8c6d59cf2d": {
      "model_module": "@jupyter-widgets/controls",
      "model_module_version": "2.0.0",
      "model_name": "HTMLModel",
      "state": {
       "layout": "IPY_MODEL_086f26b5afde47e382903490ed1d7c26",
       "style": "IPY_MODEL_5217139e983d4f42a58cb3ae0fbed2ee",
       "value": " 3/3 [01:42&lt;00:00, 51.25s/it]"
      }
     },
     "dc47c4a58e54405dad1eb098748949c3": {
      "model_module": "@jupyter-widgets/controls",
      "model_module_version": "2.0.0",
      "model_name": "HTMLStyleModel",
      "state": {
       "description_width": "",
       "font_size": null,
       "text_color": null
      }
     },
     "df8217268553416c9d139992a3284a29": {
      "model_module": "@jupyter-widgets/controls",
      "model_module_version": "2.0.0",
      "model_name": "HTMLModel",
      "state": {
       "layout": "IPY_MODEL_73738d207a374a8fbfe40127d205f2de",
       "style": "IPY_MODEL_6f69722116284dae909bed448ce51910",
       "value": " 4/4 [04:59&lt;00:00, 89.74s/it]"
      }
     },
     "dfdd9790274b4d4e80d1f4115d6bbaf2": {
      "model_module": "@jupyter-widgets/controls",
      "model_module_version": "2.0.0",
      "model_name": "ProgressStyleModel",
      "state": {
       "description_width": ""
      }
     },
     "e00c93040ae44ddab06dabc1870aec6f": {
      "model_module": "@jupyter-widgets/controls",
      "model_module_version": "2.0.0",
      "model_name": "FloatProgressModel",
      "state": {
       "bar_style": "success",
       "layout": "IPY_MODEL_b16c15cac9bc410ebf681e1abcec117f",
       "max": 2,
       "style": "IPY_MODEL_51a24d6226cb458eb141decd0249b45e",
       "value": 2
      }
     },
     "e025529c2073469eb21f8e4bbb827974": {
      "model_module": "@jupyter-widgets/controls",
      "model_module_version": "2.0.0",
      "model_name": "HTMLStyleModel",
      "state": {
       "description_width": "",
       "font_size": null,
       "text_color": null
      }
     },
     "e0291f62d4da42cca7f38439adc6c9ba": {
      "model_module": "@jupyter-widgets/base",
      "model_module_version": "2.0.0",
      "model_name": "LayoutModel",
      "state": {}
     },
     "e0391aee23804da8ba408e469bcefcf9": {
      "model_module": "@jupyter-widgets/controls",
      "model_module_version": "2.0.0",
      "model_name": "HTMLStyleModel",
      "state": {
       "description_width": "",
       "font_size": null,
       "text_color": null
      }
     },
     "e10a4390928341a3a495deb4f554d3e6": {
      "model_module": "@jupyter-widgets/base",
      "model_module_version": "2.0.0",
      "model_name": "LayoutModel",
      "state": {}
     },
     "e123284dc1754073a36c980ef4a57932": {
      "model_module": "@jupyter-widgets/base",
      "model_module_version": "2.0.0",
      "model_name": "LayoutModel",
      "state": {}
     },
     "e15fcc572e154f349d2c94d64b2384d9": {
      "model_module": "@jupyter-widgets/controls",
      "model_module_version": "2.0.0",
      "model_name": "HTMLModel",
      "state": {
       "layout": "IPY_MODEL_b109fd0a74614d8988acbed935167066",
       "style": "IPY_MODEL_00ef1a3a9bd1477fadc9eff6f43a9188",
       "value": " 4/4 [01:46&lt;00:00, 35.61s/it]"
      }
     },
     "e1760557e85c413f88363c8e0af607b3": {
      "model_module": "@jupyter-widgets/controls",
      "model_module_version": "2.0.0",
      "model_name": "HTMLStyleModel",
      "state": {
       "description_width": "",
       "font_size": null,
       "text_color": null
      }
     },
     "e18d00b8f5c64ac0af914cc4fab5aeb8": {
      "model_module": "@jupyter-widgets/controls",
      "model_module_version": "2.0.0",
      "model_name": "FloatProgressModel",
      "state": {
       "bar_style": "success",
       "layout": "IPY_MODEL_9c60c68c6f2d43078834142461a02c36",
       "max": 3,
       "style": "IPY_MODEL_cbf7a5a48b16449f99c9aa07df40a738",
       "value": 3
      }
     },
     "e2a3acaf1d6d41ffbb8a5e3e7ea86428": {
      "model_module": "@jupyter-widgets/base",
      "model_module_version": "2.0.0",
      "model_name": "LayoutModel",
      "state": {
       "width": "20px"
      }
     },
     "e2f02883625945b18932273285507486": {
      "model_module": "@jupyter-widgets/controls",
      "model_module_version": "2.0.0",
      "model_name": "HBoxModel",
      "state": {
       "children": [
        "IPY_MODEL_fbb86053e5c542d5acb8abda362bc46f",
        "IPY_MODEL_6f40f093d7bc4c1db2cfd9ddad765033",
        "IPY_MODEL_96023e0b49bb4aeda2d7e401cd9b9873"
       ],
       "layout": "IPY_MODEL_00094be77de14d478fba29e11feed291"
      }
     },
     "e343f2d626814c468b783d63ad2c67ee": {
      "model_module": "@jupyter-widgets/base",
      "model_module_version": "2.0.0",
      "model_name": "LayoutModel",
      "state": {}
     },
     "e3489533093f40dfbb3f50ad204de88c": {
      "model_module": "@jupyter-widgets/controls",
      "model_module_version": "2.0.0",
      "model_name": "HTMLModel",
      "state": {
       "layout": "IPY_MODEL_a4af444bee8941a68b7c457b783b1dc0",
       "style": "IPY_MODEL_d664b540070642e4a5627a8d1e45a897"
      }
     },
     "e3b50f1fd2134e019691e8d17270c936": {
      "model_module": "@jupyter-widgets/base",
      "model_module_version": "2.0.0",
      "model_name": "LayoutModel",
      "state": {}
     },
     "e3c2a0065e864460b2c7e659cbff4ca6": {
      "model_module": "@jupyter-widgets/base",
      "model_module_version": "2.0.0",
      "model_name": "LayoutModel",
      "state": {}
     },
     "e43d2da1d8e54f9f9171f561f5eb12b9": {
      "model_module": "@jupyter-widgets/controls",
      "model_module_version": "2.0.0",
      "model_name": "HTMLStyleModel",
      "state": {
       "description_width": "",
       "font_size": null,
       "text_color": null
      }
     },
     "e4dda5b59ace4a94aa8e98bb8a981ccd": {
      "model_module": "@jupyter-widgets/controls",
      "model_module_version": "2.0.0",
      "model_name": "HBoxModel",
      "state": {
       "children": [
        "IPY_MODEL_a37beea2700d401cad5b499370b71374",
        "IPY_MODEL_8a3f9d31873047b58adf9799a550c859",
        "IPY_MODEL_d7a057b60fed426b945b729c83802d65"
       ],
       "layout": "IPY_MODEL_1dd5acf59c8a46c08ae7860666bfa19a"
      }
     },
     "e536700b2e2644b59dea0640c03d2240": {
      "model_module": "@jupyter-widgets/base",
      "model_module_version": "2.0.0",
      "model_name": "LayoutModel",
      "state": {}
     },
     "e6c54c85966248ef9cb5a42fd3e2408b": {
      "model_module": "@jupyter-widgets/base",
      "model_module_version": "2.0.0",
      "model_name": "LayoutModel",
      "state": {}
     },
     "e73c6457bce945b391ebb7dfc93b12a4": {
      "model_module": "@jupyter-widgets/controls",
      "model_module_version": "2.0.0",
      "model_name": "HTMLStyleModel",
      "state": {
       "description_width": "",
       "font_size": null,
       "text_color": null
      }
     },
     "ea1422d4471b42a9b6c87a347cbc8d7b": {
      "model_module": "@jupyter-widgets/controls",
      "model_module_version": "2.0.0",
      "model_name": "HTMLModel",
      "state": {
       "layout": "IPY_MODEL_d3b2fdb80e264527925e7aca767810d3",
       "style": "IPY_MODEL_7f3fdf2c29bd4f2c86ed625d8d482d75",
       "value": "100%"
      }
     },
     "ea250698e0fc420eb97467fc64838802": {
      "model_module": "@jupyter-widgets/controls",
      "model_module_version": "2.0.0",
      "model_name": "ProgressStyleModel",
      "state": {
       "description_width": ""
      }
     },
     "ea92a4ffb9c44a37a55e62459dedd248": {
      "model_module": "@jupyter-widgets/base",
      "model_module_version": "2.0.0",
      "model_name": "LayoutModel",
      "state": {}
     },
     "ebd55a7495154302943023d4d9077337": {
      "model_module": "@jupyter-widgets/controls",
      "model_module_version": "2.0.0",
      "model_name": "ProgressStyleModel",
      "state": {
       "description_width": ""
      }
     },
     "ed0ecc308ae84b91a690f06024a86a6d": {
      "model_module": "@jupyter-widgets/controls",
      "model_module_version": "2.0.0",
      "model_name": "FloatProgressModel",
      "state": {
       "bar_style": "success",
       "layout": "IPY_MODEL_687ffef9122240f2bf286f90121fc94f",
       "max": 5,
       "style": "IPY_MODEL_954e0fbbdc2c40c08c262df1c0c0106b",
       "value": 5
      }
     },
     "ede15fea94964ddb9c311d3e04be73c6": {
      "model_module": "@jupyter-widgets/controls",
      "model_module_version": "2.0.0",
      "model_name": "HTMLModel",
      "state": {
       "layout": "IPY_MODEL_f02102a7ae644cf68a78f25c9cbd44de",
       "style": "IPY_MODEL_4327f6f2d5e04fddb5569aa6d139785a",
       "value": "100%"
      }
     },
     "ee65a4e85c414089a807806f7cbcb646": {
      "model_module": "@jupyter-widgets/controls",
      "model_module_version": "2.0.0",
      "model_name": "ProgressStyleModel",
      "state": {
       "description_width": ""
      }
     },
     "ee6b2d6fd6e244c1ad328259d5ccf267": {
      "model_module": "@jupyter-widgets/controls",
      "model_module_version": "2.0.0",
      "model_name": "HTMLModel",
      "state": {
       "layout": "IPY_MODEL_7bf1ba0c36cc41f0b260dc16fc9ec388",
       "style": "IPY_MODEL_6284ed21bcaa4779b7158a2a6c212ea3",
       "value": " 2/2 [01:06&lt;00:00, 66.71s/it]"
      }
     },
     "ef82e517d6f94532b98734cf8e62b2d3": {
      "model_module": "@jupyter-widgets/controls",
      "model_module_version": "2.0.0",
      "model_name": "HTMLModel",
      "state": {
       "layout": "IPY_MODEL_6c8444996d2846f6bbecaa193b272ded",
       "style": "IPY_MODEL_57e207ba2906494e97a736ecee728ce4",
       "value": "100%"
      }
     },
     "f01adc30e63a47b9b421085d3c1bfe60": {
      "model_module": "@jupyter-widgets/controls",
      "model_module_version": "2.0.0",
      "model_name": "HBoxModel",
      "state": {
       "children": [
        "IPY_MODEL_ede15fea94964ddb9c311d3e04be73c6",
        "IPY_MODEL_ed0ecc308ae84b91a690f06024a86a6d",
        "IPY_MODEL_6f41e0ac0dd24eff88f59b397d601370"
       ],
       "layout": "IPY_MODEL_f01d8dac606b4cfeb10172db3fa36a90"
      }
     },
     "f01d8dac606b4cfeb10172db3fa36a90": {
      "model_module": "@jupyter-widgets/base",
      "model_module_version": "2.0.0",
      "model_name": "LayoutModel",
      "state": {}
     },
     "f02102a7ae644cf68a78f25c9cbd44de": {
      "model_module": "@jupyter-widgets/base",
      "model_module_version": "2.0.0",
      "model_name": "LayoutModel",
      "state": {}
     },
     "f08323dc9e5d49a8bf480de904c100bb": {
      "model_module": "@jupyter-widgets/base",
      "model_module_version": "2.0.0",
      "model_name": "LayoutModel",
      "state": {}
     },
     "f1a25ebdd86b48e581e580a8d1a62b8c": {
      "model_module": "@jupyter-widgets/controls",
      "model_module_version": "2.0.0",
      "model_name": "HTMLStyleModel",
      "state": {
       "description_width": "",
       "font_size": null,
       "text_color": null
      }
     },
     "f1de5bdc3e0e46f782f991a327cdaeda": {
      "model_module": "@jupyter-widgets/base",
      "model_module_version": "2.0.0",
      "model_name": "LayoutModel",
      "state": {}
     },
     "f21ef4e5262042c8b4a0bcd662d3010a": {
      "model_module": "@jupyter-widgets/controls",
      "model_module_version": "2.0.0",
      "model_name": "HTMLModel",
      "state": {
       "layout": "IPY_MODEL_4b790bf399e94376a5823469affa081a",
       "style": "IPY_MODEL_c58a978c5f964e3ab75d6847f643a20b",
       "value": " 3/3 [03:33&lt;00:00, 105.75s/it]"
      }
     },
     "f256ee0b0c504059bcba9d65d579e104": {
      "model_module": "@jupyter-widgets/base",
      "model_module_version": "2.0.0",
      "model_name": "LayoutModel",
      "state": {}
     },
     "f272014a7b7446bc97218c4ff661beaf": {
      "model_module": "@jupyter-widgets/base",
      "model_module_version": "2.0.0",
      "model_name": "LayoutModel",
      "state": {}
     },
     "f40cdc0aa4c34a198e9f033f9cdd6515": {
      "model_module": "@jupyter-widgets/controls",
      "model_module_version": "2.0.0",
      "model_name": "FloatProgressModel",
      "state": {
       "bar_style": "success",
       "layout": "IPY_MODEL_55aac667b00c4e3bae1377364aa0e069",
       "max": 5,
       "style": "IPY_MODEL_23eccc7b4dcd461aa14ac3d7338ae80e",
       "value": 5
      }
     },
     "f55e6320c49e4244bb53a5b49d451e88": {
      "model_module": "@jupyter-widgets/controls",
      "model_module_version": "2.0.0",
      "model_name": "HTMLStyleModel",
      "state": {
       "description_width": "",
       "font_size": null,
       "text_color": null
      }
     },
     "f5c1a86421214c76ad7a75e04d7a22b0": {
      "model_module": "@jupyter-widgets/controls",
      "model_module_version": "2.0.0",
      "model_name": "HTMLModel",
      "state": {
       "layout": "IPY_MODEL_fab1f84fb23044ae95317146e70f10d7",
       "style": "IPY_MODEL_28e66a81fcb6422284fa728e81739c0e",
       "value": "100%"
      }
     },
     "f6a9eeb7ff514f839970e401a0aa5d20": {
      "model_module": "@jupyter-widgets/controls",
      "model_module_version": "2.0.0",
      "model_name": "ProgressStyleModel",
      "state": {
       "description_width": ""
      }
     },
     "f6d40db6673747d4a0fddb584c58b783": {
      "model_module": "@jupyter-widgets/controls",
      "model_module_version": "2.0.0",
      "model_name": "ProgressStyleModel",
      "state": {
       "description_width": ""
      }
     },
     "f6df527b17154fb58dba6b945992dd79": {
      "model_module": "@jupyter-widgets/base",
      "model_module_version": "2.0.0",
      "model_name": "LayoutModel",
      "state": {}
     },
     "f6eb2fe86301453181fb39e55606f95f": {
      "model_module": "@jupyter-widgets/controls",
      "model_module_version": "2.0.0",
      "model_name": "HBoxModel",
      "state": {
       "children": [
        "IPY_MODEL_fe2c5b68703b45d1a7c8034d4bf05fa4",
        "IPY_MODEL_965e7c9d47f64a9b86781bdd629d9bdf",
        "IPY_MODEL_1bc62df04a6a4d22b9dd118a695cf2cc"
       ],
       "layout": "IPY_MODEL_46d511ba46524538b0acf0c1d4c8f3b4"
      }
     },
     "f73af4ffc35549e4ab8a0c69583620a8": {
      "model_module": "@jupyter-widgets/base",
      "model_module_version": "2.0.0",
      "model_name": "LayoutModel",
      "state": {}
     },
     "f77ed5c3e17f4e709673618833f414a9": {
      "model_module": "@jupyter-widgets/controls",
      "model_module_version": "2.0.0",
      "model_name": "HBoxModel",
      "state": {
       "children": [
        "IPY_MODEL_d3bc4490bc52486f8df834da006f1c26",
        "IPY_MODEL_23b40e08fcca4920a06000943d118fca",
        "IPY_MODEL_5c9f8f4af34c4b03a27c5a7ecda88e55"
       ],
       "layout": "IPY_MODEL_b99fb2c35c52421fb6c945e54fe0b985"
      }
     },
     "f7f2f5b9eb0a4683bc8fc75ec7e31015": {
      "model_module": "@jupyter-widgets/controls",
      "model_module_version": "2.0.0",
      "model_name": "ProgressStyleModel",
      "state": {
       "description_width": ""
      }
     },
     "f8149cee4b884b5793d87b0cc3497629": {
      "model_module": "@jupyter-widgets/controls",
      "model_module_version": "2.0.0",
      "model_name": "HTMLModel",
      "state": {
       "layout": "IPY_MODEL_fc50592d0263471db3667d7d735641a9",
       "style": "IPY_MODEL_f9191e20985249d2813d1ee9996d3138",
       "value": "100%"
      }
     },
     "f8d6b85977fa4d88bc0febd964f126ac": {
      "model_module": "@jupyter-widgets/base",
      "model_module_version": "2.0.0",
      "model_name": "LayoutModel",
      "state": {}
     },
     "f9191e20985249d2813d1ee9996d3138": {
      "model_module": "@jupyter-widgets/controls",
      "model_module_version": "2.0.0",
      "model_name": "HTMLStyleModel",
      "state": {
       "description_width": "",
       "font_size": null,
       "text_color": null
      }
     },
     "fab1f84fb23044ae95317146e70f10d7": {
      "model_module": "@jupyter-widgets/base",
      "model_module_version": "2.0.0",
      "model_name": "LayoutModel",
      "state": {}
     },
     "fbb86053e5c542d5acb8abda362bc46f": {
      "model_module": "@jupyter-widgets/controls",
      "model_module_version": "2.0.0",
      "model_name": "HTMLModel",
      "state": {
       "layout": "IPY_MODEL_12b9d2a7cea94cbd8715fa579e36d9d9",
       "style": "IPY_MODEL_2bbd7c9786824078a68424ace1d8181a",
       "value": "100%"
      }
     },
     "fc50592d0263471db3667d7d735641a9": {
      "model_module": "@jupyter-widgets/base",
      "model_module_version": "2.0.0",
      "model_name": "LayoutModel",
      "state": {}
     },
     "fce96c8ac7114a478c7c70327ab9d13e": {
      "model_module": "@jupyter-widgets/base",
      "model_module_version": "2.0.0",
      "model_name": "LayoutModel",
      "state": {}
     },
     "fdc283d335244627978f3a4e50553108": {
      "model_module": "@jupyter-widgets/controls",
      "model_module_version": "2.0.0",
      "model_name": "HBoxModel",
      "state": {
       "children": [
        "IPY_MODEL_50ad0666d9424d4faf9c3e5228a24d97",
        "IPY_MODEL_5bf20bdfe33946e3a2bb986a2e9dfa11",
        "IPY_MODEL_9f25b87513f146cfa1b7949f178bdd31"
       ],
       "layout": "IPY_MODEL_9ff020f1f5ee4764a5aba7b0388fa0db"
      }
     },
     "fdef944d6fa248bb9ac0789a35f4a97a": {
      "model_module": "@jupyter-widgets/controls",
      "model_module_version": "2.0.0",
      "model_name": "HTMLModel",
      "state": {
       "layout": "IPY_MODEL_b98fc3cff5f64577b24eee50b71a1fc3",
       "style": "IPY_MODEL_f1a25ebdd86b48e581e580a8d1a62b8c",
       "value": "100%"
      }
     },
     "fe2c5b68703b45d1a7c8034d4bf05fa4": {
      "model_module": "@jupyter-widgets/controls",
      "model_module_version": "2.0.0",
      "model_name": "HTMLModel",
      "state": {
       "layout": "IPY_MODEL_0654d96c8ba74be1974d1bd6efa5f823",
       "style": "IPY_MODEL_3780c410d1e5436cab594a552cd924d7",
       "value": "100%"
      }
     },
     "feab6e04aacb46d9b36ae64df19be1a3": {
      "model_module": "@jupyter-widgets/controls",
      "model_module_version": "2.0.0",
      "model_name": "HTMLStyleModel",
      "state": {
       "description_width": "",
       "font_size": null,
       "text_color": null
      }
     }
    },
    "version_major": 2,
    "version_minor": 0
   }
  }
 },
 "nbformat": 4,
 "nbformat_minor": 4
}
