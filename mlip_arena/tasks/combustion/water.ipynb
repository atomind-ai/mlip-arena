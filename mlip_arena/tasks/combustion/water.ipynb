{
 "cells": [
  {
   "cell_type": "code",
   "execution_count": 1,
   "metadata": {},
   "outputs": [],
   "source": [
    "from pathlib import Path\n",
    "\n",
    "from ase import units, Atoms\n",
    "from ase.build import molecule\n",
    "from ase.io import read, write\n",
    "from dask.distributed import Client\n",
    "from dask_jobqueue import SLURMCluster\n",
    "from prefect import flow\n",
    "from prefect_dask import DaskTaskRunner\n",
    "from pymatgen.core import Molecule\n",
    "from pymatgen.io.packmol import PackmolBoxGen\n",
    "\n",
    "from mlip_arena.models.utils import REGISTRY, MLIPEnum\n",
    "from mlip_arena.tasks.run import md as MD"
   ]
  },
  {
   "cell_type": "code",
   "execution_count": null,
   "metadata": {},
   "outputs": [],
   "source": [
    "h2 = molecule(\"H2\")\n",
    "o2 = molecule(\"O2\")\n",
    "h2o = molecule(\"H2O\")\n",
    "\n",
    "write(\"h2.xyz\", h2)\n",
    "write(\"o2.xyz\", o2)\n",
    "write(\"h2o.xyz\", h2o)"
   ]
  },
  {
   "cell_type": "code",
   "execution_count": null,
   "metadata": {},
   "outputs": [],
   "source": [
    "h2 = Molecule.from_file(\"h2.xyz\")\n",
    "o2 = Molecule.from_file(\"o2.xyz\")\n",
    "h2o = Molecule.from_file(\"h2o.xyz\")"
   ]
  },
  {
   "cell_type": "code",
   "execution_count": null,
   "metadata": {},
   "outputs": [],
   "source": [
    "molecules = []\n",
    "\n",
    "for m, number in zip([h2, o2], [128, 64]):\n",
    "    molecules.append(\n",
    "        {\n",
    "            \"name\": m.composition.to_pretty_string(),\n",
    "            \"number\": number,\n",
    "            \"coords\": m,\n",
    "        }\n",
    "    )"
   ]
  },
  {
   "cell_type": "code",
   "execution_count": null,
   "metadata": {},
   "outputs": [],
   "source": [
    "tolerance = 2.0\n",
    "input_gen = PackmolBoxGen(\n",
    "    tolerance=tolerance,\n",
    "    seed=1,\n",
    ")\n",
    "margin = 0.5 * tolerance\n",
    "\n",
    "a = 30\n",
    "\n",
    "packmol_set = input_gen.get_input_set(\n",
    "    molecules=molecules,\n",
    "    box=[margin, margin, margin, a - margin, a - margin, a - margin],\n",
    ")\n",
    "packmol_set.write_input(\".\")\n",
    "packmol_set.run(\".\")\n",
    "\n",
    "atoms = read(\"packmol_out.xyz\")\n",
    "atoms.cell = [a, a, a]\n",
    "atoms.pbc = True\n",
    "\n",
    "print(atoms)\n",
    "\n",
    "write(f'{atoms.get_chemical_formula()}.extxyz', atoms)"
   ]
  },
  {
   "cell_type": "code",
   "execution_count": 2,
   "metadata": {
    "tags": []
   },
   "outputs": [
    {
     "name": "stdout",
     "output_type": "stream",
     "text": [
      "Atoms(symbols='H256O128', pbc=True, cell=[30.0, 30.0, 30.0])\n"
     ]
    }
   ],
   "source": [
    "atoms = read(\"H256O128.extxyz\")\n",
    "print(atoms)"
   ]
  },
  {
   "cell_type": "code",
   "execution_count": 3,
   "metadata": {},
   "outputs": [
    {
     "name": "stdout",
     "output_type": "stream",
     "text": [
      "#!/bin/bash\n",
      "\n",
      "#SBATCH -A matgen\n",
      "#SBATCH --mem=0\n",
      "#SBATCH -t 02:00:00\n",
      "#SBATCH -J combustion-water\n",
      "#SBATCH -q regular\n",
      "#SBATCH -N 1\n",
      "#SBATCH -C gpu\n",
      "#SBATCH -G 4\n",
      "#SBATCH --exclusive\n",
      "source ~/.bashrc\n",
      "module load python\n",
      "source activate /pscratch/sd/c/cyrusyc/.conda/mlip-arena\n",
      "/pscratch/sd/c/cyrusyc/.conda/mlip-arena/bin/python -m distributed.cli.dask_worker tcp://128.55.64.18:39213 --name dummy-name --nthreads 1 --memory-limit 59.60GiB --nanny --death-timeout 86400\n",
      "\n"
     ]
    }
   ],
   "source": [
    "nodes_per_alloc = 1\n",
    "gpus_per_alloc = 4\n",
    "ntasks = 1\n",
    "\n",
    "cluster_kwargs = dict(\n",
    "    cores=1,\n",
    "    memory=\"64 GB\",\n",
    "    shebang=\"#!/bin/bash\",\n",
    "    account=\"matgen\",\n",
    "    walltime=\"02:00:00\",\n",
    "    job_mem=\"0\",\n",
    "    job_script_prologue=[\n",
    "        \"source ~/.bashrc\",\n",
    "        \"module load python\",\n",
    "        \"source activate /pscratch/sd/c/cyrusyc/.conda/mlip-arena\",\n",
    "    ],\n",
    "    job_directives_skip=[\"-n\", \"--cpus-per-task\", \"-J\"],\n",
    "    job_extra_directives=[\n",
    "        \"-J combustion-water\",\n",
    "        \"-q regular\",\n",
    "        f\"-N {nodes_per_alloc}\",\n",
    "        \"-C gpu\",\n",
    "        f\"-G {gpus_per_alloc}\",\n",
    "        f\"--exclusive\",\n",
    "        # \"--time-min=00:30:00\",\n",
    "        # \"--comment=1-00:00:00\",\n",
    "        # \"--signal=B:USR1@60\",\n",
    "        # \"--requeue\",\n",
    "        # \"--open-mode=append\"\n",
    "    ],\n",
    "    death_timeout=86400\n",
    ")\n",
    "\n",
    "\n",
    "cluster = SLURMCluster(**cluster_kwargs)\n",
    "print(cluster.job_script())\n",
    "cluster.adapt(minimum_jobs=5, maximum_jobs=50)\n",
    "client = Client(cluster)"
   ]
  },
  {
   "cell_type": "code",
   "execution_count": 4,
   "metadata": {},
   "outputs": [],
   "source": [
    "@flow(task_runner=DaskTaskRunner(address=client.scheduler.address), log_prints=True)\n",
    "def combustion(atoms: Atoms):\n",
    "    futures = []\n",
    "\n",
    "    for model in MLIPEnum:\n",
    "        future = MD.submit(\n",
    "            atoms=atoms,\n",
    "            calculator_name=model,\n",
    "            calculator_kwargs=None,\n",
    "            ensemble=\"nvt\",\n",
    "            dynamics=\"nose-hoover\",\n",
    "            time_step=None,\n",
    "            ase_md_kwargs=dict(ttime=25 * units.fs, pfactor=None),\n",
    "            total_time=1000_000,\n",
    "            temperature=[300, 3000, 3000, 300],\n",
    "            pressure=None,\n",
    "            mb_velocity_seed=0,\n",
    "            traj_file=Path(REGISTRY[model.name][\"family\"])\n",
    "            / f\"{model.name}_{atoms.get_chemical_formula()}.traj\",\n",
    "            traj_interval=1000,\n",
    "            restart=True,\n",
    "        )\n",
    "\n",
    "        futures.append(future)\n",
    "    \n",
    "    return [future.result() for future in futures]"
   ]
  },
  {
   "cell_type": "code",
   "execution_count": null,
   "metadata": {
    "tags": []
   },
   "outputs": [
    {
     "data": {
      "text/html": [
       "<pre style=\"white-space:pre;overflow-x:auto;line-height:normal;font-family:Menlo,'DejaVu Sans Mono',consolas,'Courier New',monospace\">17:24:16.847 | <span style=\"color: #008080; text-decoration-color: #008080\">INFO</span>    | prefect.engine - Created flow run<span style=\"color: #800080; text-decoration-color: #800080\"> 'prompt-newt'</span> for flow<span style=\"color: #800080; text-decoration-color: #800080; font-weight: bold\"> 'combustion'</span>\n",
       "</pre>\n"
      ],
      "text/plain": [
       "17:24:16.847 | \u001b[36mINFO\u001b[0m    | prefect.engine - Created flow run\u001b[35m 'prompt-newt'\u001b[0m for flow\u001b[1;35m 'combustion'\u001b[0m\n"
      ]
     },
     "metadata": {},
     "output_type": "display_data"
    },
    {
     "data": {
      "text/html": [
       "<pre style=\"white-space:pre;overflow-x:auto;line-height:normal;font-family:Menlo,'DejaVu Sans Mono',consolas,'Courier New',monospace\">17:24:16.851 | <span style=\"color: #008080; text-decoration-color: #008080\">INFO</span>    | Flow run<span style=\"color: #800080; text-decoration-color: #800080\"> 'prompt-newt'</span> - View at <span style=\"color: #0000ff; text-decoration-color: #0000ff\">https://app.prefect.cloud/account/f7d40474-9362-4bfa-8950-ee6a43ec00f3/workspace/d4bb0913-5f5e-49f7-bfc5-06509088baeb/flow-runs/flow-run/b77168ca-03bd-4e7b-a6af-8993bd96ee64</span>\n",
       "</pre>\n"
      ],
      "text/plain": [
       "17:24:16.851 | \u001b[36mINFO\u001b[0m    | Flow run\u001b[35m 'prompt-newt'\u001b[0m - View at \u001b[94mhttps://app.prefect.cloud/account/f7d40474-9362-4bfa-8950-ee6a43ec00f3/workspace/d4bb0913-5f5e-49f7-bfc5-06509088baeb/flow-runs/flow-run/b77168ca-03bd-4e7b-a6af-8993bd96ee64\u001b[0m\n"
      ]
     },
     "metadata": {},
     "output_type": "display_data"
    },
    {
     "data": {
      "text/html": [
       "<pre style=\"white-space:pre;overflow-x:auto;line-height:normal;font-family:Menlo,'DejaVu Sans Mono',consolas,'Courier New',monospace\">17:24:16.852 | <span style=\"color: #008080; text-decoration-color: #008080\">INFO</span>    | prefect.task_runner.dask - Connecting to an existing Dask cluster at tcp://128.55.64.18:39213\n",
       "</pre>\n"
      ],
      "text/plain": [
       "17:24:16.852 | \u001b[36mINFO\u001b[0m    | prefect.task_runner.dask - Connecting to an existing Dask cluster at tcp://128.55.64.18:39213\n"
      ]
     },
     "metadata": {},
     "output_type": "display_data"
    },
    {
     "data": {
      "text/html": [
       "<pre style=\"white-space:pre;overflow-x:auto;line-height:normal;font-family:Menlo,'DejaVu Sans Mono',consolas,'Courier New',monospace\">17:24:16.858 | <span style=\"color: #008080; text-decoration-color: #008080\">INFO</span>    | prefect.task_runner.dask - The Dask dashboard is available at <span style=\"color: #0000ff; text-decoration-color: #0000ff\">http://128.55.64.18:8787/status</span>\n",
       "</pre>\n"
      ],
      "text/plain": [
       "17:24:16.858 | \u001b[36mINFO\u001b[0m    | prefect.task_runner.dask - The Dask dashboard is available at \u001b[94mhttp://128.55.64.18:8787/status\u001b[0m\n"
      ]
     },
     "metadata": {},
     "output_type": "display_data"
    },
    {
     "data": {
      "text/html": [
       "<pre style=\"white-space:pre;overflow-x:auto;line-height:normal;font-family:Menlo,'DejaVu Sans Mono',consolas,'Courier New',monospace\">17:24:17.377 | <span style=\"color: #008080; text-decoration-color: #008080\">INFO</span>    | Flow run<span style=\"color: #800080; text-decoration-color: #800080\"> 'prompt-newt'</span> - Created task run 'md-4' for task 'md'\n",
       "</pre>\n"
      ],
      "text/plain": [
       "17:24:17.377 | \u001b[36mINFO\u001b[0m    | Flow run\u001b[35m 'prompt-newt'\u001b[0m - Created task run 'md-4' for task 'md'\n"
      ]
     },
     "metadata": {},
     "output_type": "display_data"
    },
    {
     "data": {
      "text/html": [
       "<pre style=\"white-space:pre;overflow-x:auto;line-height:normal;font-family:Menlo,'DejaVu Sans Mono',consolas,'Courier New',monospace\">17:24:17.407 | <span style=\"color: #008080; text-decoration-color: #008080\">INFO</span>    | Flow run<span style=\"color: #800080; text-decoration-color: #800080\"> 'prompt-newt'</span> - Created task run 'md-1' for task 'md'\n",
       "</pre>\n"
      ],
      "text/plain": [
       "17:24:17.407 | \u001b[36mINFO\u001b[0m    | Flow run\u001b[35m 'prompt-newt'\u001b[0m - Created task run 'md-1' for task 'md'\n"
      ]
     },
     "metadata": {},
     "output_type": "display_data"
    },
    {
     "data": {
      "text/html": [
       "<pre style=\"white-space:pre;overflow-x:auto;line-height:normal;font-family:Menlo,'DejaVu Sans Mono',consolas,'Courier New',monospace\">17:24:17.410 | <span style=\"color: #008080; text-decoration-color: #008080\">INFO</span>    | Flow run<span style=\"color: #800080; text-decoration-color: #800080\"> 'prompt-newt'</span> - Created task run 'md-3' for task 'md'\n",
       "</pre>\n"
      ],
      "text/plain": [
       "17:24:17.410 | \u001b[36mINFO\u001b[0m    | Flow run\u001b[35m 'prompt-newt'\u001b[0m - Created task run 'md-3' for task 'md'\n"
      ]
     },
     "metadata": {},
     "output_type": "display_data"
    },
    {
     "data": {
      "text/html": [
       "<pre style=\"white-space:pre;overflow-x:auto;line-height:normal;font-family:Menlo,'DejaVu Sans Mono',consolas,'Courier New',monospace\">17:24:17.413 | <span style=\"color: #008080; text-decoration-color: #008080\">INFO</span>    | Flow run<span style=\"color: #800080; text-decoration-color: #800080\"> 'prompt-newt'</span> - Created task run 'md-5' for task 'md'\n",
       "</pre>\n"
      ],
      "text/plain": [
       "17:24:17.413 | \u001b[36mINFO\u001b[0m    | Flow run\u001b[35m 'prompt-newt'\u001b[0m - Created task run 'md-5' for task 'md'\n"
      ]
     },
     "metadata": {},
     "output_type": "display_data"
    },
    {
     "data": {
      "text/html": [
       "<pre style=\"white-space:pre;overflow-x:auto;line-height:normal;font-family:Menlo,'DejaVu Sans Mono',consolas,'Courier New',monospace\">17:24:17.417 | <span style=\"color: #008080; text-decoration-color: #008080\">INFO</span>    | Flow run<span style=\"color: #800080; text-decoration-color: #800080\"> 'prompt-newt'</span> - Created task run 'md-7' for task 'md'\n",
       "</pre>\n"
      ],
      "text/plain": [
       "17:24:17.417 | \u001b[36mINFO\u001b[0m    | Flow run\u001b[35m 'prompt-newt'\u001b[0m - Created task run 'md-7' for task 'md'\n"
      ]
     },
     "metadata": {},
     "output_type": "display_data"
    },
    {
     "data": {
      "text/html": [
       "<pre style=\"white-space:pre;overflow-x:auto;line-height:normal;font-family:Menlo,'DejaVu Sans Mono',consolas,'Courier New',monospace\">17:24:17.420 | <span style=\"color: #008080; text-decoration-color: #008080\">INFO</span>    | Flow run<span style=\"color: #800080; text-decoration-color: #800080\"> 'prompt-newt'</span> - Created task run 'md-8' for task 'md'\n",
       "</pre>\n"
      ],
      "text/plain": [
       "17:24:17.420 | \u001b[36mINFO\u001b[0m    | Flow run\u001b[35m 'prompt-newt'\u001b[0m - Created task run 'md-8' for task 'md'\n"
      ]
     },
     "metadata": {},
     "output_type": "display_data"
    },
    {
     "data": {
      "text/html": [
       "<pre style=\"white-space:pre;overflow-x:auto;line-height:normal;font-family:Menlo,'DejaVu Sans Mono',consolas,'Courier New',monospace\">17:24:17.423 | <span style=\"color: #008080; text-decoration-color: #008080\">INFO</span>    | Flow run<span style=\"color: #800080; text-decoration-color: #800080\"> 'prompt-newt'</span> - Created task run 'md-0' for task 'md'\n",
       "</pre>\n"
      ],
      "text/plain": [
       "17:24:17.423 | \u001b[36mINFO\u001b[0m    | Flow run\u001b[35m 'prompt-newt'\u001b[0m - Created task run 'md-0' for task 'md'\n"
      ]
     },
     "metadata": {},
     "output_type": "display_data"
    },
    {
     "data": {
      "text/html": [
       "<pre style=\"white-space:pre;overflow-x:auto;line-height:normal;font-family:Menlo,'DejaVu Sans Mono',consolas,'Courier New',monospace\">17:24:17.425 | <span style=\"color: #008080; text-decoration-color: #008080\">INFO</span>    | Flow run<span style=\"color: #800080; text-decoration-color: #800080\"> 'prompt-newt'</span> - Created task run 'md-2' for task 'md'\n",
       "</pre>\n"
      ],
      "text/plain": [
       "17:24:17.425 | \u001b[36mINFO\u001b[0m    | Flow run\u001b[35m 'prompt-newt'\u001b[0m - Created task run 'md-2' for task 'md'\n"
      ]
     },
     "metadata": {},
     "output_type": "display_data"
    },
    {
     "data": {
      "text/html": [
       "<pre style=\"white-space:pre;overflow-x:auto;line-height:normal;font-family:Menlo,'DejaVu Sans Mono',consolas,'Courier New',monospace\">17:24:17.427 | <span style=\"color: #008080; text-decoration-color: #008080\">INFO</span>    | Flow run<span style=\"color: #800080; text-decoration-color: #800080\"> 'prompt-newt'</span> - Created task run 'md-6' for task 'md'\n",
       "</pre>\n"
      ],
      "text/plain": [
       "17:24:17.427 | \u001b[36mINFO\u001b[0m    | Flow run\u001b[35m 'prompt-newt'\u001b[0m - Created task run 'md-6' for task 'md'\n"
      ]
     },
     "metadata": {},
     "output_type": "display_data"
    },
    {
     "data": {
      "text/html": [
       "<pre style=\"white-space:pre;overflow-x:auto;line-height:normal;font-family:Menlo,'DejaVu Sans Mono',consolas,'Courier New',monospace\">17:24:17.545 | <span style=\"color: #008080; text-decoration-color: #008080\">INFO</span>    | Flow run<span style=\"color: #800080; text-decoration-color: #800080\"> 'prompt-newt'</span> - Created task run 'md-9' for task 'md'\n",
       "</pre>\n"
      ],
      "text/plain": [
       "17:24:17.545 | \u001b[36mINFO\u001b[0m    | Flow run\u001b[35m 'prompt-newt'\u001b[0m - Created task run 'md-9' for task 'md'\n"
      ]
     },
     "metadata": {},
     "output_type": "display_data"
    },
    {
     "data": {
      "text/html": [
       "<pre style=\"white-space:pre;overflow-x:auto;line-height:normal;font-family:Menlo,'DejaVu Sans Mono',consolas,'Courier New',monospace\">17:24:17.948 | <span style=\"color: #008080; text-decoration-color: #008080\">INFO</span>    | Flow run<span style=\"color: #800080; text-decoration-color: #800080\"> 'prompt-newt'</span> - Submitted task run 'md-7' for execution.\n",
       "</pre>\n"
      ],
      "text/plain": [
       "17:24:17.948 | \u001b[36mINFO\u001b[0m    | Flow run\u001b[35m 'prompt-newt'\u001b[0m - Submitted task run 'md-7' for execution.\n"
      ]
     },
     "metadata": {},
     "output_type": "display_data"
    },
    {
     "data": {
      "text/html": [
       "<pre style=\"white-space:pre;overflow-x:auto;line-height:normal;font-family:Menlo,'DejaVu Sans Mono',consolas,'Courier New',monospace\">17:24:17.958 | <span style=\"color: #008080; text-decoration-color: #008080\">INFO</span>    | Flow run<span style=\"color: #800080; text-decoration-color: #800080\"> 'prompt-newt'</span> - Submitted task run 'md-3' for execution.\n",
       "</pre>\n"
      ],
      "text/plain": [
       "17:24:17.958 | \u001b[36mINFO\u001b[0m    | Flow run\u001b[35m 'prompt-newt'\u001b[0m - Submitted task run 'md-3' for execution.\n"
      ]
     },
     "metadata": {},
     "output_type": "display_data"
    },
    {
     "data": {
      "text/html": [
       "<pre style=\"white-space:pre;overflow-x:auto;line-height:normal;font-family:Menlo,'DejaVu Sans Mono',consolas,'Courier New',monospace\">17:24:18.055 | <span style=\"color: #008080; text-decoration-color: #008080\">INFO</span>    | Flow run<span style=\"color: #800080; text-decoration-color: #800080\"> 'prompt-newt'</span> - Submitted task run 'md-4' for execution.\n",
       "</pre>\n"
      ],
      "text/plain": [
       "17:24:18.055 | \u001b[36mINFO\u001b[0m    | Flow run\u001b[35m 'prompt-newt'\u001b[0m - Submitted task run 'md-4' for execution.\n"
      ]
     },
     "metadata": {},
     "output_type": "display_data"
    },
    {
     "data": {
      "text/html": [
       "<pre style=\"white-space:pre;overflow-x:auto;line-height:normal;font-family:Menlo,'DejaVu Sans Mono',consolas,'Courier New',monospace\">17:24:18.062 | <span style=\"color: #008080; text-decoration-color: #008080\">INFO</span>    | Flow run<span style=\"color: #800080; text-decoration-color: #800080\"> 'prompt-newt'</span> - Submitted task run 'md-1' for execution.\n",
       "</pre>\n"
      ],
      "text/plain": [
       "17:24:18.062 | \u001b[36mINFO\u001b[0m    | Flow run\u001b[35m 'prompt-newt'\u001b[0m - Submitted task run 'md-1' for execution.\n"
      ]
     },
     "metadata": {},
     "output_type": "display_data"
    },
    {
     "data": {
      "text/html": [
       "<pre style=\"white-space:pre;overflow-x:auto;line-height:normal;font-family:Menlo,'DejaVu Sans Mono',consolas,'Courier New',monospace\">17:24:18.097 | <span style=\"color: #008080; text-decoration-color: #008080\">INFO</span>    | Flow run<span style=\"color: #800080; text-decoration-color: #800080\"> 'prompt-newt'</span> - Submitted task run 'md-0' for execution.\n",
       "</pre>\n"
      ],
      "text/plain": [
       "17:24:18.097 | \u001b[36mINFO\u001b[0m    | Flow run\u001b[35m 'prompt-newt'\u001b[0m - Submitted task run 'md-0' for execution.\n"
      ]
     },
     "metadata": {},
     "output_type": "display_data"
    },
    {
     "data": {
      "text/html": [
       "<pre style=\"white-space:pre;overflow-x:auto;line-height:normal;font-family:Menlo,'DejaVu Sans Mono',consolas,'Courier New',monospace\">17:24:18.108 | <span style=\"color: #008080; text-decoration-color: #008080\">INFO</span>    | Flow run<span style=\"color: #800080; text-decoration-color: #800080\"> 'prompt-newt'</span> - Submitted task run 'md-9' for execution.\n",
       "</pre>\n"
      ],
      "text/plain": [
       "17:24:18.108 | \u001b[36mINFO\u001b[0m    | Flow run\u001b[35m 'prompt-newt'\u001b[0m - Submitted task run 'md-9' for execution.\n"
      ]
     },
     "metadata": {},
     "output_type": "display_data"
    },
    {
     "data": {
      "text/html": [
       "<pre style=\"white-space:pre;overflow-x:auto;line-height:normal;font-family:Menlo,'DejaVu Sans Mono',consolas,'Courier New',monospace\">17:24:18.114 | <span style=\"color: #008080; text-decoration-color: #008080\">INFO</span>    | Flow run<span style=\"color: #800080; text-decoration-color: #800080\"> 'prompt-newt'</span> - Submitted task run 'md-6' for execution.\n",
       "</pre>\n"
      ],
      "text/plain": [
       "17:24:18.114 | \u001b[36mINFO\u001b[0m    | Flow run\u001b[35m 'prompt-newt'\u001b[0m - Submitted task run 'md-6' for execution.\n"
      ]
     },
     "metadata": {},
     "output_type": "display_data"
    },
    {
     "data": {
      "text/html": [
       "<pre style=\"white-space:pre;overflow-x:auto;line-height:normal;font-family:Menlo,'DejaVu Sans Mono',consolas,'Courier New',monospace\">17:24:18.147 | <span style=\"color: #008080; text-decoration-color: #008080\">INFO</span>    | Flow run<span style=\"color: #800080; text-decoration-color: #800080\"> 'prompt-newt'</span> - Submitted task run 'md-5' for execution.\n",
       "</pre>\n"
      ],
      "text/plain": [
       "17:24:18.147 | \u001b[36mINFO\u001b[0m    | Flow run\u001b[35m 'prompt-newt'\u001b[0m - Submitted task run 'md-5' for execution.\n"
      ]
     },
     "metadata": {},
     "output_type": "display_data"
    },
    {
     "data": {
      "text/html": [
       "<pre style=\"white-space:pre;overflow-x:auto;line-height:normal;font-family:Menlo,'DejaVu Sans Mono',consolas,'Courier New',monospace\">17:24:18.259 | <span style=\"color: #008080; text-decoration-color: #008080\">INFO</span>    | Flow run<span style=\"color: #800080; text-decoration-color: #800080\"> 'prompt-newt'</span> - Submitted task run 'md-8' for execution.\n",
       "</pre>\n"
      ],
      "text/plain": [
       "17:24:18.259 | \u001b[36mINFO\u001b[0m    | Flow run\u001b[35m 'prompt-newt'\u001b[0m - Submitted task run 'md-8' for execution.\n"
      ]
     },
     "metadata": {},
     "output_type": "display_data"
    },
    {
     "data": {
      "text/html": [
       "<pre style=\"white-space:pre;overflow-x:auto;line-height:normal;font-family:Menlo,'DejaVu Sans Mono',consolas,'Courier New',monospace\">17:24:18.281 | <span style=\"color: #008080; text-decoration-color: #008080\">INFO</span>    | Flow run<span style=\"color: #800080; text-decoration-color: #800080\"> 'prompt-newt'</span> - Submitted task run 'md-2' for execution.\n",
       "</pre>\n"
      ],
      "text/plain": [
       "17:24:18.281 | \u001b[36mINFO\u001b[0m    | Flow run\u001b[35m 'prompt-newt'\u001b[0m - Submitted task run 'md-2' for execution.\n"
      ]
     },
     "metadata": {},
     "output_type": "display_data"
    }
   ],
   "source": [
    "results = combustion(atoms)"
   ]
  },
  {
   "cell_type": "code",
   "execution_count": null,
   "metadata": {},
   "outputs": [],
   "source": []
  }
 ],
 "metadata": {
  "kernelspec": {
   "display_name": "mlip-arena",
   "language": "python",
   "name": "mlip-arena"
  },
  "language_info": {
   "codemirror_mode": {
    "name": "ipython",
    "version": 3
   },
   "file_extension": ".py",
   "mimetype": "text/x-python",
   "name": "python",
   "nbconvert_exporter": "python",
   "pygments_lexer": "ipython3",
   "version": "3.11.8"
  },
  "widgets": {
   "application/vnd.jupyter.widget-state+json": {
    "state": {},
    "version_major": 2,
    "version_minor": 0
   }
  }
 },
 "nbformat": 4,
 "nbformat_minor": 4
}
