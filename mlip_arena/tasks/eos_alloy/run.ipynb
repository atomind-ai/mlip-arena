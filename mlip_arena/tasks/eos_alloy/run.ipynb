{
 "cells": [
  {
   "cell_type": "markdown",
   "metadata": {},
   "source": [
    "## 1. Generate input structures"
   ]
  },
  {
   "cell_type": "code",
   "execution_count": 1,
   "metadata": {},
   "outputs": [
    {
     "name": "stdout",
     "output_type": "stream",
     "text": [
      "No module named 'deepmd'\n"
     ]
    }
   ],
   "source": [
    "from ase.build import bulk\n",
    "from mlip_arena.tasks.eos_alloy.input import generate_alloy_db"
   ]
  },
  {
   "cell_type": "code",
   "execution_count": null,
   "metadata": {},
   "outputs": [],
   "source": [
    "structure_template = bulk(\"Al\", a=3.6, cubic=True).repeat([2, 2, 2])\n",
    "elements = [\"Fe\", \"Ni\", \"Cr\"]\n",
    "generate_alloy_db(structure_template, elements, upload=True)"
   ]
  },
  {
   "cell_type": "markdown",
   "metadata": {},
   "source": [
    "## 2. Run equation of state benchmark in parallel"
   ]
  },
  {
   "cell_type": "code",
   "execution_count": 4,
   "metadata": {},
   "outputs": [],
   "source": [
    "from pathlib import Path\n",
    "\n",
    "import pandas as pd\n",
    "from dask.distributed import Client\n",
    "from dask_jobqueue import SLURMCluster\n",
    "from prefect_dask import DaskTaskRunner\n",
    "\n",
    "from mlip_arena.models import REGISTRY\n",
    "from mlip_arena.tasks.eos import run as EOS\n",
    "\n",
    "from mlip_arena.tasks.eos_alloy.flow import run_from_db\n"
   ]
  },
  {
   "cell_type": "code",
   "execution_count": null,
   "metadata": {},
   "outputs": [],
   "source": [
    "# Orchestrate workflow runner\n",
    "\n",
    "nodes_per_alloc = 1\n",
    "gpus_per_alloc = 4\n",
    "ntasks = 1\n",
    "\n",
    "cluster_kwargs = dict(\n",
    "    cores=1,\n",
    "    memory=\"64 GB\",\n",
    "    shebang=\"#!/bin/bash\",\n",
    "    account=\"m3828\",\n",
    "    walltime=\"00:30:00\",\n",
    "    job_mem=\"0\",\n",
    "    job_script_prologue=[\n",
    "        \"source ~/.bashrc\",\n",
    "        \"module load python\",\n",
    "        \"source activate /pscratch/sd/c/cyrusyc/.conda/mlip-arena\",\n",
    "    ],\n",
    "    job_directives_skip=[\"-n\", \"--cpus-per-task\", \"-J\"],\n",
    "    job_extra_directives=[\n",
    "        \"-J eos\",\n",
    "        \"-q debug\",\n",
    "        f\"-N {nodes_per_alloc}\",\n",
    "        \"-C cpu\",\n",
    "        # f\"-G {gpus_per_alloc}\",\n",
    "    ],\n",
    ")\n",
    "\n",
    "cluster = SLURMCluster(**cluster_kwargs)\n",
    "print(cluster.job_script())\n",
    "cluster.adapt(minimum_jobs=2, maximum_jobs=2)\n",
    "client = Client(cluster)\n",
    "\n",
    "run_from_db_ = run_from_db.with_options(\n",
    "    task_runner=DaskTaskRunner(address=client.scheduler.address),\n",
    "    log_prints=True,\n",
    ")\n",
    "\n",
    "# Run the workflow\n",
    "\n",
    "results = run_from_db_(\n",
    "    db_path=\"sqs_Fe-Ni-Cr.db\", out_path=\"eos.h5\", table_name=\"Fe-Ni-Cr\"\n",
    ")"
   ]
  },
  {
   "cell_type": "code",
   "execution_count": 5,
   "metadata": {
    "tags": []
   },
   "outputs": [],
   "source": [
    "\n",
    "def postprocess(output, model: str, formula: str):\n",
    "    row = {\n",
    "        \"formula\": formula,\n",
    "        \"method\": model,\n",
    "        \"volumes\": output[\"eos\"][\"volumes\"],\n",
    "        \"energies\": output[\"eos\"][\"energies\"],\n",
    "        \"K\": output[\"K\"],\n",
    "    }\n",
    "\n",
    "    fpath = Path(REGISTRY[model][\"family\"]) / f\"{model}.parquet\"\n",
    "\n",
    "    if not fpath.exists():\n",
    "        fpath.parent.mkdir(parents=True, exist_ok=True)\n",
    "        df = pd.DataFrame([row])  # Convert the dictionary to a DataFrame with a list\n",
    "    else:\n",
    "        df = pd.read_parquet(fpath)\n",
    "        new_row = pd.DataFrame([row])  # Convert dictionary to DataFrame with a list\n",
    "        df = pd.concat([df, new_row], ignore_index=True)\n",
    "\n",
    "    df.drop_duplicates(subset=[\"formula\", \"method\"], keep=\"last\", inplace=True)\n",
    "    df.to_parquet(fpath)\n",
    "\n"
   ]
  },
  {
   "cell_type": "code",
   "execution_count": null,
   "metadata": {},
   "outputs": [],
   "source": []
  }
 ],
 "metadata": {
  "kernelspec": {
   "display_name": "mlip-arena",
   "language": "python",
   "name": "python3"
  },
  "language_info": {
   "codemirror_mode": {
    "name": "ipython",
    "version": 3
   },
   "file_extension": ".py",
   "mimetype": "text/x-python",
   "name": "python",
   "nbconvert_exporter": "python",
   "pygments_lexer": "ipython3",
   "version": "3.11.8"
  },
  "widgets": {
   "application/vnd.jupyter.widget-state+json": {
    "state": {
     "113712c6db764680b6b480b7a0946472": {
      "model_module": "@jupyter-widgets/controls",
      "model_module_version": "2.0.0",
      "model_name": "HTMLStyleModel",
      "state": {
       "description_width": "",
       "font_size": null,
       "text_color": null
      }
     },
     "38b17bf89b97480da0e0b0b96a6918e9": {
      "model_module": "@jupyter-widgets/controls",
      "model_module_version": "2.0.0",
      "model_name": "FloatProgressModel",
      "state": {
       "bar_style": "danger",
       "layout": "IPY_MODEL_473fd553a05a4b1d94ed48064d524911",
       "max": 561,
       "style": "IPY_MODEL_ca36b6c0733647ad9580583a0af36b3b",
       "value": 1
      }
     },
     "473fd553a05a4b1d94ed48064d524911": {
      "model_module": "@jupyter-widgets/base",
      "model_module_version": "2.0.0",
      "model_name": "LayoutModel",
      "state": {}
     },
     "4b53d30e52154433bee83a836003274e": {
      "model_module": "@jupyter-widgets/base",
      "model_module_version": "2.0.0",
      "model_name": "LayoutModel",
      "state": {}
     },
     "78035b1bd4884910892fa5931b96f7d8": {
      "model_module": "@jupyter-widgets/base",
      "model_module_version": "2.0.0",
      "model_name": "LayoutModel",
      "state": {}
     },
     "7807d646ea444c3bbf0bf8c465e98910": {
      "model_module": "@jupyter-widgets/base",
      "model_module_version": "2.0.0",
      "model_name": "LayoutModel",
      "state": {}
     },
     "b7bf603019d342928cc92ccc124cef9c": {
      "model_module": "@jupyter-widgets/controls",
      "model_module_version": "2.0.0",
      "model_name": "HBoxModel",
      "state": {
       "children": [
        "IPY_MODEL_fc85068961d54affb4838d4143a29a0c",
        "IPY_MODEL_38b17bf89b97480da0e0b0b96a6918e9",
        "IPY_MODEL_ca4fa2af543a401999c85d011a696f39"
       ],
       "layout": "IPY_MODEL_78035b1bd4884910892fa5931b96f7d8"
      }
     },
     "bf131ed07df04378970b35f21830b3fa": {
      "model_module": "@jupyter-widgets/controls",
      "model_module_version": "2.0.0",
      "model_name": "HTMLStyleModel",
      "state": {
       "description_width": "",
       "font_size": null,
       "text_color": null
      }
     },
     "ca36b6c0733647ad9580583a0af36b3b": {
      "model_module": "@jupyter-widgets/controls",
      "model_module_version": "2.0.0",
      "model_name": "ProgressStyleModel",
      "state": {
       "description_width": ""
      }
     },
     "ca4fa2af543a401999c85d011a696f39": {
      "model_module": "@jupyter-widgets/controls",
      "model_module_version": "2.0.0",
      "model_name": "HTMLModel",
      "state": {
       "layout": "IPY_MODEL_7807d646ea444c3bbf0bf8c465e98910",
       "style": "IPY_MODEL_113712c6db764680b6b480b7a0946472",
       "value": " 1/561 [00:00&lt;00:48, 11.46it/s]"
      }
     },
     "fc85068961d54affb4838d4143a29a0c": {
      "model_module": "@jupyter-widgets/controls",
      "model_module_version": "2.0.0",
      "model_name": "HTMLModel",
      "state": {
       "layout": "IPY_MODEL_4b53d30e52154433bee83a836003274e",
       "style": "IPY_MODEL_bf131ed07df04378970b35f21830b3fa",
       "value": "  0%"
      }
     }
    },
    "version_major": 2,
    "version_minor": 0
   }
  }
 },
 "nbformat": 4,
 "nbformat_minor": 4
}
