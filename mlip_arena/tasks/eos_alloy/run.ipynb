{
 "cells": [
  {
   "cell_type": "markdown",
   "metadata": {},
   "source": [
    "## 1. Generate input structures"
   ]
  },
  {
   "cell_type": "code",
   "execution_count": 1,
   "metadata": {},
   "outputs": [
    {
     "name": "stdout",
     "output_type": "stream",
     "text": [
      "No module named 'deepmd'\n"
     ]
    }
   ],
   "source": [
    "from ase.build import bulk\n",
    "from mlip_arena.tasks.eos_alloy.input import generate_alloy_db"
   ]
  },
  {
   "cell_type": "code",
   "execution_count": null,
   "metadata": {},
   "outputs": [],
   "source": [
    "structure_template = bulk(\"Al\", a=3.6, cubic=True).repeat([2, 2, 2])\n",
    "elements = [\"Fe\", \"Ni\", \"Cr\"]\n",
    "generate_alloy_db(structure_template, elements, upload=True)"
   ]
  },
  {
   "cell_type": "markdown",
   "metadata": {},
   "source": [
    "## 2. Run equation of state benchmark in parallel"
   ]
  },
  {
   "cell_type": "code",
   "execution_count": 1,
   "metadata": {
    "tags": []
   },
   "outputs": [
    {
     "name": "stdout",
     "output_type": "stream",
     "text": [
      "No module named 'deepmd'\n"
     ]
    }
   ],
   "source": [
    "from pathlib import Path\n",
    "\n",
    "import pandas as pd\n",
    "from dask.distributed import Client\n",
    "from dask_jobqueue import SLURMCluster\n",
    "from prefect_dask import DaskTaskRunner\n",
    "\n",
    "from mlip_arena.models import REGISTRY\n",
    "from mlip_arena.tasks.eos_alloy.flow import run_from_db\n"
   ]
  },
  {
   "cell_type": "code",
   "execution_count": null,
   "metadata": {
    "tags": []
   },
   "outputs": [
    {
     "name": "stdout",
     "output_type": "stream",
     "text": [
      "#!/bin/bash\n",
      "\n",
      "#SBATCH -A m3828\n",
      "#SBATCH --mem=0\n",
      "#SBATCH -t 00:30:00\n",
      "#SBATCH -J eos\n",
      "#SBATCH -q debug\n",
      "#SBATCH -N 1\n",
      "#SBATCH -C cpu\n",
      "source ~/.bashrc\n",
      "module load python\n",
      "source activate /pscratch/sd/c/cyrusyc/.conda/mlip-arena\n",
      "/pscratch/sd/c/cyrusyc/.conda/mlip-arena/bin/python -m distributed.cli.dask_worker tcp://128.55.64.40:37453 --name dummy-name --nthreads 1 --memory-limit 59.60GiB --nanny --death-timeout 60\n",
      "\n"
     ]
    },
    {
     "data": {
      "text/html": [
       "<pre style=\"white-space:pre;overflow-x:auto;line-height:normal;font-family:Menlo,'DejaVu Sans Mono',consolas,'Courier New',monospace\">16:25:32.540 | <span style=\"color: #008080; text-decoration-color: #008080\">INFO</span>    | prefect.engine - Created flow run<span style=\"color: #800080; text-decoration-color: #800080\"> 'hypnotic-sidewinder'</span> for flow<span style=\"color: #800080; text-decoration-color: #800080; font-weight: bold\"> 'run-from-db'</span>\n",
       "</pre>\n"
      ],
      "text/plain": [
       "16:25:32.540 | \u001b[36mINFO\u001b[0m    | prefect.engine - Created flow run\u001b[35m 'hypnotic-sidewinder'\u001b[0m for flow\u001b[1;35m 'run-from-db'\u001b[0m\n"
      ]
     },
     "metadata": {},
     "output_type": "display_data"
    },
    {
     "data": {
      "text/html": [
       "<pre style=\"white-space:pre;overflow-x:auto;line-height:normal;font-family:Menlo,'DejaVu Sans Mono',consolas,'Courier New',monospace\">16:25:32.545 | <span style=\"color: #008080; text-decoration-color: #008080\">INFO</span>    | prefect.engine - View at <span style=\"color: #0000ff; text-decoration-color: #0000ff\">https://app.prefect.cloud/account/f7d40474-9362-4bfa-8950-ee6a43ec00f3/workspace/d4bb0913-5f5e-49f7-bfc5-06509088baeb/runs/flow-run/5d288389-1e08-446e-ac88-8fd7631ad839</span>\n",
       "</pre>\n"
      ],
      "text/plain": [
       "16:25:32.545 | \u001b[36mINFO\u001b[0m    | prefect.engine - View at \u001b[94mhttps://app.prefect.cloud/account/f7d40474-9362-4bfa-8950-ee6a43ec00f3/workspace/d4bb0913-5f5e-49f7-bfc5-06509088baeb/runs/flow-run/5d288389-1e08-446e-ac88-8fd7631ad839\u001b[0m\n"
      ]
     },
     "metadata": {},
     "output_type": "display_data"
    },
    {
     "data": {
      "text/html": [
       "<pre style=\"white-space:pre;overflow-x:auto;line-height:normal;font-family:Menlo,'DejaVu Sans Mono',consolas,'Courier New',monospace\">16:25:32.900 | <span style=\"color: #008080; text-decoration-color: #008080\">INFO</span>    | prefect.task_runner.dask - Connecting to existing Dask cluster SLURMCluster(be4c6a41, 'tcp://128.55.64.40:37453', workers=0, threads=0, memory=0 B)\n",
       "</pre>\n"
      ],
      "text/plain": [
       "16:25:32.900 | \u001b[36mINFO\u001b[0m    | prefect.task_runner.dask - Connecting to existing Dask cluster SLURMCluster(be4c6a41, 'tcp://128.55.64.40:37453', workers=0, threads=0, memory=0 B)\n"
      ]
     },
     "metadata": {},
     "output_type": "display_data"
    },
    {
     "data": {
      "text/html": [
       "<pre style=\"white-space:pre;overflow-x:auto;line-height:normal;font-family:Menlo,'DejaVu Sans Mono',consolas,'Courier New',monospace\">16:25:45.776 | <span style=\"color: #008080; text-decoration-color: #008080\">INFO</span>    | Task run 'get_atoms_from_db-0b0' - Created task run 'get_atoms_from_db-0b0' for task 'get_atoms_from_db'\n",
       "</pre>\n"
      ],
      "text/plain": [
       "16:25:45.776 | \u001b[36mINFO\u001b[0m    | Task run 'get_atoms_from_db-0b0' - Created task run 'get_atoms_from_db-0b0' for task 'get_atoms_from_db'\n"
      ]
     },
     "metadata": {},
     "output_type": "display_data"
    },
    {
     "data": {
      "text/html": [
       "<pre style=\"white-space:pre;overflow-x:auto;line-height:normal;font-family:Menlo,'DejaVu Sans Mono',consolas,'Courier New',monospace\">16:26:21.770 | <span style=\"color: #008080; text-decoration-color: #008080\">INFO</span>    | Task run 'get_atoms_from_db-0b0' - Finished in state <span style=\"color: #008000; text-decoration-color: #008000\">Completed</span>()\n",
       "</pre>\n"
      ],
      "text/plain": [
       "16:26:21.770 | \u001b[36mINFO\u001b[0m    | Task run 'get_atoms_from_db-0b0' - Finished in state \u001b[32mCompleted\u001b[0m()\n"
      ]
     },
     "metadata": {},
     "output_type": "display_data"
    }
   ],
   "source": [
    "# Orchestrate workflow runner\n",
    "\n",
    "nodes_per_alloc = 1\n",
    "gpus_per_alloc = 4\n",
    "ntasks = 1\n",
    "\n",
    "cluster_kwargs = dict(\n",
    "    cores=1,\n",
    "    memory=\"64 GB\",\n",
    "    shebang=\"#!/bin/bash\",\n",
    "    account=\"m3828\",\n",
    "    walltime=\"00:30:00\",\n",
    "    job_mem=\"0\",\n",
    "    job_script_prologue=[\n",
    "        \"source ~/.bashrc\",\n",
    "        \"module load python\",\n",
    "        \"source activate /pscratch/sd/c/cyrusyc/.conda/mlip-arena\",\n",
    "    ],\n",
    "    job_directives_skip=[\"-n\", \"--cpus-per-task\", \"-J\"],\n",
    "    job_extra_directives=[\n",
    "        \"-J eos\",\n",
    "        \"-q debug\",\n",
    "        f\"-N {nodes_per_alloc}\",\n",
    "        \"-C cpu\",\n",
    "        # f\"-G {gpus_per_alloc}\",\n",
    "    ],\n",
    ")\n",
    "\n",
    "cluster = SLURMCluster(**cluster_kwargs)\n",
    "print(cluster.job_script())\n",
    "cluster.adapt(minimum_jobs=2, maximum_jobs=2)\n",
    "client = Client(cluster)\n",
    "\n",
    "run_from_db_ = run_from_db.with_options(\n",
    "    task_runner=DaskTaskRunner(address=client.scheduler.address),\n",
    "    log_prints=True,\n",
    ")\n",
    "\n",
    "# Run the workflow\n",
    "\n",
    "results = run_from_db_(\n",
    "    db_path=\"sqs_Fe-Ni-Cr.db\", out_path=\"eos.h5\", table_name=\"Fe-Ni-Cr\"\n",
    ")"
   ]
  },
  {
   "cell_type": "code",
   "execution_count": 5,
   "metadata": {
    "tags": []
   },
   "outputs": [],
   "source": [
    "\n",
    "def postprocess(output, model: str, formula: str):\n",
    "    row = {\n",
    "        \"formula\": formula,\n",
    "        \"method\": model,\n",
    "        \"volumes\": output[\"eos\"][\"volumes\"],\n",
    "        \"energies\": output[\"eos\"][\"energies\"],\n",
    "        \"K\": output[\"K\"],\n",
    "    }\n",
    "\n",
    "    fpath = Path(REGISTRY[model][\"family\"]) / f\"{model}.parquet\"\n",
    "\n",
    "    if not fpath.exists():\n",
    "        fpath.parent.mkdir(parents=True, exist_ok=True)\n",
    "        df = pd.DataFrame([row])  # Convert the dictionary to a DataFrame with a list\n",
    "    else:\n",
    "        df = pd.read_parquet(fpath)\n",
    "        new_row = pd.DataFrame([row])  # Convert dictionary to DataFrame with a list\n",
    "        df = pd.concat([df, new_row], ignore_index=True)\n",
    "\n",
    "    df.drop_duplicates(subset=[\"formula\", \"method\"], keep=\"last\", inplace=True)\n",
    "    df.to_parquet(fpath)\n",
    "\n"
   ]
  }
 ],
 "metadata": {
  "kernelspec": {
   "display_name": "mlip-arena",
   "language": "python",
   "name": "mlip-arena"
  },
  "language_info": {
   "codemirror_mode": {
    "name": "ipython",
    "version": 3
   },
   "file_extension": ".py",
   "mimetype": "text/x-python",
   "name": "python",
   "nbconvert_exporter": "python",
   "pygments_lexer": "ipython3",
   "version": "3.11.8"
  },
  "widgets": {
   "application/vnd.jupyter.widget-state+json": {
    "state": {},
    "version_major": 2,
    "version_minor": 0
   }
  }
 },
 "nbformat": 4,
 "nbformat_minor": 4
}
