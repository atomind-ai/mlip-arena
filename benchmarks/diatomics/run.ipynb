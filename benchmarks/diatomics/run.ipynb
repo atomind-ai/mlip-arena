{
 "cells": [
  {
   "cell_type": "code",
   "execution_count": null,
   "id": "99d3152e",
   "metadata": {},
   "outputs": [],
   "source": [
    "from prefect.task_runners import ThreadPoolTaskRunner\n",
    "\n",
    "from mlip_arena.flows.diatomics import homonuclear_diatomics"
   ]
  },
  {
   "cell_type": "code",
   "execution_count": null,
   "id": "ce01acd0",
   "metadata": {},
   "outputs": [],
   "source": [
    "homonuclear_diatomics.with_options(\n",
    "    task_runner=ThreadPoolTaskRunner(max_workers=3)\n",
    ")(\n",
    "    model=\"MACE-MPA\" # can be replaced with any other model name from mlip_arean.models.MLIPEnum or a custom ASE calculator instance\n",
    ")"
   ]
  }
 ],
 "metadata": {
  "kernelspec": {
   "display_name": "Python 3",
   "language": "python",
   "name": "python3"
  },
  "language_info": {
   "codemirror_mode": {
    "name": "ipython",
    "version": 3
   },
   "file_extension": ".py",
   "mimetype": "text/x-python",
   "name": "python",
   "nbconvert_exporter": "python",
   "pygments_lexer": "ipython3",
   "version": "3.11.13"
  }
 },
 "nbformat": 4,
 "nbformat_minor": 5
}
