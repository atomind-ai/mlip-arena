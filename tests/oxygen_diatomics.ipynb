{
 "cells": [
  {
   "cell_type": "code",
   "execution_count": null,
   "metadata": {},
   "outputs": [],
   "source": [
    "from mace.calculators import mace_mp\n",
    "from mlip_arena.tasks.diatomics import calculate_single_diatomic, calculate_homonuclear_diatomics\n",
    "\n",
    "calc = mace_mp()"
   ]
  },
  {
   "cell_type": "code",
   "execution_count": null,
   "metadata": {},
   "outputs": [],
   "source": [
    "from enum import Enum\n",
    "\n",
    "e = Enum(\"TESTEnum\", {\"A\": 1, \"B\": 2, \"C\": 3})\n",
    "\n",
    "print(e.A)\n",
    "print(e.__members__)"
   ]
  },
  {
   "cell_type": "code",
   "execution_count": null,
   "metadata": {},
   "outputs": [],
   "source": []
  },
  {
   "cell_type": "code",
   "execution_count": 11,
   "metadata": {},
   "outputs": [
    {
     "name": "stdout",
     "output_type": "stream",
     "text": [
      "MACE_MP_Medium <class 'mlip_arena.models.mace.MACE_MP_Medium'>\n"
     ]
    }
   ],
   "source": [
    "from mlip_arena.models.utils import MLIPEnum\n",
    "\n",
    "for i in MLIPEnum:\n",
    "    print(i.name, i.value)"
   ]
  },
  {
   "cell_type": "code",
   "execution_count": null,
   "metadata": {},
   "outputs": [],
   "source": [
    "import covalent as ct\n",
    "local = ct.executor.LocalExecutor()\n",
    "\n",
    "dispatch_id = ct.dispatch(calculate_homonuclear_diatomics)(mace_mp)\n",
    "\n",
    "result = ct.get_result(dispatch_id)\n",
    "print(result)"
   ]
  },
  {
   "cell_type": "code",
   "execution_count": null,
   "metadata": {},
   "outputs": [],
   "source": []
  }
 ],
 "metadata": {
  "kernelspec": {
   "display_name": "Python 3",
   "language": "python",
   "name": "python3"
  },
  "language_info": {
   "codemirror_mode": {
    "name": "ipython",
    "version": 3
   },
   "file_extension": ".py",
   "mimetype": "text/x-python",
   "name": "python",
   "nbconvert_exporter": "python",
   "pygments_lexer": "ipython3",
   "version": "3.11.8"
  }
 },
 "nbformat": 4,
 "nbformat_minor": 2
}
