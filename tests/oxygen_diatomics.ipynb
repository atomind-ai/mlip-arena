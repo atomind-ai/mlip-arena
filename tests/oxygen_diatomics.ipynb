{
 "cells": [
  {
   "cell_type": "code",
   "execution_count": 1,
   "metadata": {},
   "outputs": [
    {
     "name": "stderr",
     "output_type": "stream",
     "text": [
      "/pscratch/sd/c/cyrusyc/.conda/mlip-arena/lib/python3.11/site-packages/distributed/node.py:182: UserWarning: Port 8787 is already in use.\n",
      "Perhaps you already have a cluster running?\n",
      "Hosting the HTTP server on port 33813 instead\n",
      "  warnings.warn(\n"
     ]
    },
    {
     "name": "stdout",
     "output_type": "stream",
     "text": [
      "#!/bin/bash\n",
      "\n",
      "#SBATCH -J dask-worker\n",
      "#SBATCH -A m3828\n",
      "#SBATCH --mem=0\n",
      "#SBATCH -t 00:10:00\n",
      "#SBATCH -q debug\n",
      "#SBATCH -C gpu\n",
      "source ~/.bashrc\n",
      "/pscratch/sd/c/cyrusyc/.conda/mlip-arena/bin/python -m distributed.cli.dask_worker tcp://128.55.64.14:40709 --name dummy-name --nthreads 8 --memory-limit 3.73GiB --nworkers 16 --nanny --death-timeout 60\n",
      "\n"
     ]
    }
   ],
   "source": [
    "from dask.distributed import Client\n",
    "from dask_jobqueue import SLURMCluster\n",
    "\n",
    "cluster_kwargs = {\n",
    "    \"cores\": 128,  \n",
    "    \"memory\": \"64 GB\",\n",
    "    \"shebang\": \"#!/bin/bash\",\n",
    "    \"account\": \"m3828\",\n",
    "    \"walltime\": \"00:10:00\",\n",
    "    \"job_mem\": \"0\",\n",
    "    \"job_script_prologue\": [\"source ~/.bashrc\"],\n",
    "    \"job_directives_skip\": [\"-n\", \"--cpus-per-task\"],  \n",
    "    \"job_extra_directives\": [\"-q debug\", \"-C gpu\"],  \n",
    "}\n",
    "\n",
    "cluster = SLURMCluster(**cluster_kwargs)\n",
    "print(cluster.job_script())\n",
    "\n",
    "slurm_jobs = 1\n",
    "cluster.scale(jobs=slurm_jobs)\n",
    "client = Client(cluster)"
   ]
  },
  {
   "cell_type": "code",
   "execution_count": 8,
   "metadata": {},
   "outputs": [
    {
     "name": "stdout",
     "output_type": "stream",
     "text": [
      "True\n"
     ]
    }
   ],
   "source": [
    "from mlip_arena.models.utils import EXTMLIPEnum\n",
    "\n",
    "print(EXTMLIPEnum.MACE in EXTMLIPEnum)"
   ]
  },
  {
   "cell_type": "code",
   "execution_count": 2,
   "metadata": {},
   "outputs": [
    {
     "name": "stderr",
     "output_type": "stream",
     "text": [
      "/pscratch/sd/c/cyrusyc/.conda/mlip-arena/lib/python3.11/site-packages/tqdm/auto.py:21: TqdmWarning: IProgress not found. Please update jupyter and ipywidgets. See https://ipywidgets.readthedocs.io/en/stable/user_install.html\n",
      "  from .autonotebook import tqdm as notebook_tqdm\n"
     ]
    }
   ],
   "source": [
    "from typing import Union\n",
    "\n",
    "import covalent as ct\n",
    "import numpy as np\n",
    "import pandas as pd\n",
    "import torch\n",
    "from ase import Atoms\n",
    "from ase.calculators.calculator import Calculator\n",
    "from ase.data import chemical_symbols\n",
    "from matplotlib import pyplot as plt\n",
    "from prefect import flow, task\n",
    "from prefect_dask import DaskTaskRunner\n",
    "\n",
    "from mlip_arena.models import MLIPCalculator\n",
    "from mlip_arena.models.utils import EXTMLIPEnum, MLIPMap, external_ase_calculator\n",
    "\n",
    "# chemical_symbols.remove(\"X\")\n",
    "\n",
    "\n",
    "@task\n",
    "def calculate_single_diatomic(\n",
    "    calculator_name: str,\n",
    "    calculator_kwargs: dict | None,\n",
    "    atom1: str,\n",
    "    atom2: str,\n",
    "    rmin: float = 0.1,\n",
    "    rmax: float = 6.5,\n",
    "    npts: int = int(1e3),\n",
    ") -> dict:\n",
    "\n",
    "    calculator_kwargs = calculator_kwargs or {}\n",
    "\n",
    "    if calculator_name in EXTMLIPEnum:\n",
    "        calc = external_ase_calculator(calculator_name, **calculator_kwargs)\n",
    "    elif calculator_name in MLIPMap:\n",
    "        calc = MLIPMap[calculator_name](**calculator_kwargs)\n",
    "\n",
    "    a = 2 * rmax\n",
    "\n",
    "    rs = np.linspace(rmin, rmax, npts)\n",
    "    e = np.zeros_like(rs)\n",
    "    f = np.zeros_like(rs)\n",
    "\n",
    "    da = atom1 + atom2\n",
    "\n",
    "    for i, r in enumerate(rs):\n",
    "\n",
    "        positions = [\n",
    "            [0, 0, 0],\n",
    "            [r, 0, 0],\n",
    "        ]\n",
    "\n",
    "        # Create the unit cell with two atoms\n",
    "        atoms = Atoms(da, positions=positions, cell=[a, a, a])\n",
    "\n",
    "        atoms.calc = calc\n",
    "\n",
    "        e[i] = atoms.get_potential_energy()\n",
    "        f[i] = np.inner(np.array([1, 0, 0]), atoms.get_forces()[1])\n",
    "\n",
    "    return {\"r\": rs, \"E\": e, \"F\": f, \"da\": da}\n",
    "\n",
    "\n",
    "from dask.distributed import Client\n",
    "from dask_jobqueue import SLURMCluster\n",
    "\n",
    "\n",
    "@flow(\n",
    "    task_runner=DaskTaskRunner(\n",
    "        cluster_class=SLURMCluster, cluster_kwargs=cluster_kwargs\n",
    "    ),\n",
    "    log_prints=True\n",
    ")\n",
    "def calculate_homonuclear_diatomics(calculator_name, calculator_kwargs):\n",
    "\n",
    "\n",
    "    results = {}\n",
    "\n",
    "    for atom in chemical_symbols:\n",
    "        output = calculate_single_diatomic.submit(\n",
    "            calculator_name, calculator_kwargs, atom, atom\n",
    "        )\n",
    "        print(output)\n",
    "        da = output.pop(\"da\")\n",
    "        results[da] = output\n",
    "        \n",
    "\n",
    "    return results"
   ]
  },
  {
   "cell_type": "code",
   "execution_count": 3,
   "metadata": {},
   "outputs": [
    {
     "data": {
      "text/html": [
       "<pre style=\"white-space:pre;overflow-x:auto;line-height:normal;font-family:Menlo,'DejaVu Sans Mono',consolas,'Courier New',monospace\">23:20:06.274 | <span style=\"color: #008080; text-decoration-color: #008080\">INFO</span>    | prefect.engine - Created flow run<span style=\"color: #800080; text-decoration-color: #800080\"> 'bizarre-mantis'</span> for flow<span style=\"color: #800080; text-decoration-color: #800080; font-weight: bold\"> 'calculate-homonuclear-diatomics'</span>\n",
       "</pre>\n"
      ],
      "text/plain": [
       "23:20:06.274 | \u001b[36mINFO\u001b[0m    | prefect.engine - Created flow run\u001b[35m 'bizarre-mantis'\u001b[0m for flow\u001b[1;35m 'calculate-homonuclear-diatomics'\u001b[0m\n"
      ]
     },
     "metadata": {},
     "output_type": "display_data"
    },
    {
     "data": {
      "text/html": [
       "<pre style=\"white-space:pre;overflow-x:auto;line-height:normal;font-family:Menlo,'DejaVu Sans Mono',consolas,'Courier New',monospace\">23:20:06.278 | <span style=\"color: #008080; text-decoration-color: #008080\">INFO</span>    | Flow run<span style=\"color: #800080; text-decoration-color: #800080\"> 'bizarre-mantis'</span> - View at <span style=\"color: #0000ff; text-decoration-color: #0000ff\">https://app.prefect.cloud/account/f7d40474-9362-4bfa-8950-ee6a43ec00f3/workspace/d4bb0913-5f5e-49f7-bfc5-06509088baeb/flow-runs/flow-run/84d3805b-5f63-41d5-9103-3039688d59f3</span>\n",
       "</pre>\n"
      ],
      "text/plain": [
       "23:20:06.278 | \u001b[36mINFO\u001b[0m    | Flow run\u001b[35m 'bizarre-mantis'\u001b[0m - View at \u001b[94mhttps://app.prefect.cloud/account/f7d40474-9362-4bfa-8950-ee6a43ec00f3/workspace/d4bb0913-5f5e-49f7-bfc5-06509088baeb/flow-runs/flow-run/84d3805b-5f63-41d5-9103-3039688d59f3\u001b[0m\n"
      ]
     },
     "metadata": {},
     "output_type": "display_data"
    },
    {
     "data": {
      "text/html": [
       "<pre style=\"white-space:pre;overflow-x:auto;line-height:normal;font-family:Menlo,'DejaVu Sans Mono',consolas,'Courier New',monospace\">23:20:06.279 | <span style=\"color: #008080; text-decoration-color: #008080\">INFO</span>    | prefect.task_runner.dask - Creating a new Dask cluster with `dask_jobqueue.slurm.SLURMCluster`\n",
       "</pre>\n"
      ],
      "text/plain": [
       "23:20:06.279 | \u001b[36mINFO\u001b[0m    | prefect.task_runner.dask - Creating a new Dask cluster with `dask_jobqueue.slurm.SLURMCluster`\n"
      ]
     },
     "metadata": {},
     "output_type": "display_data"
    },
    {
     "name": "stderr",
     "output_type": "stream",
     "text": [
      "/pscratch/sd/c/cyrusyc/.conda/mlip-arena/lib/python3.11/site-packages/distributed/node.py:182: UserWarning: Port 8787 is already in use.\n",
      "Perhaps you already have a cluster running?\n",
      "Hosting the HTTP server on port 38453 instead\n",
      "  warnings.warn(\n"
     ]
    },
    {
     "data": {
      "text/html": [
       "<pre style=\"white-space:pre;overflow-x:auto;line-height:normal;font-family:Menlo,'DejaVu Sans Mono',consolas,'Courier New',monospace\">23:20:06.301 | <span style=\"color: #008080; text-decoration-color: #008080\">INFO</span>    | prefect.task_runner.dask - The Dask dashboard is available at <span style=\"color: #0000ff; text-decoration-color: #0000ff\">http://128.55.64.14:38453/status</span>\n",
       "</pre>\n"
      ],
      "text/plain": [
       "23:20:06.301 | \u001b[36mINFO\u001b[0m    | prefect.task_runner.dask - The Dask dashboard is available at \u001b[94mhttp://128.55.64.14:38453/status\u001b[0m\n"
      ]
     },
     "metadata": {},
     "output_type": "display_data"
    },
    {
     "data": {
      "text/html": [
       "<pre style=\"white-space:pre;overflow-x:auto;line-height:normal;font-family:Menlo,'DejaVu Sans Mono',consolas,'Courier New',monospace\">23:20:06.713 | <span style=\"color: #008080; text-decoration-color: #008080\">INFO</span>    | Flow run<span style=\"color: #800080; text-decoration-color: #800080\"> 'bizarre-mantis'</span> - PrefectFuture('calculate_single_diatomic-0')\n",
       "</pre>\n"
      ],
      "text/plain": [
       "23:20:06.713 | \u001b[36mINFO\u001b[0m    | Flow run\u001b[35m 'bizarre-mantis'\u001b[0m - PrefectFuture('calculate_single_diatomic-0')\n"
      ]
     },
     "metadata": {},
     "output_type": "display_data"
    },
    {
     "data": {
      "text/html": [
       "<pre style=\"white-space:pre;overflow-x:auto;line-height:normal;font-family:Menlo,'DejaVu Sans Mono',consolas,'Courier New',monospace\">23:20:06.740 | <span style=\"color: #008080; text-decoration-color: #008080\">INFO</span>    | Flow run<span style=\"color: #800080; text-decoration-color: #800080\"> 'bizarre-mantis'</span> - PrefectFuture('calculate_single_diatomic-1')\n",
       "</pre>\n"
      ],
      "text/plain": [
       "23:20:06.740 | \u001b[36mINFO\u001b[0m    | Flow run\u001b[35m 'bizarre-mantis'\u001b[0m - PrefectFuture('calculate_single_diatomic-1')\n"
      ]
     },
     "metadata": {},
     "output_type": "display_data"
    },
    {
     "data": {
      "text/html": [
       "<pre style=\"white-space:pre;overflow-x:auto;line-height:normal;font-family:Menlo,'DejaVu Sans Mono',consolas,'Courier New',monospace\">23:20:06.744 | <span style=\"color: #008080; text-decoration-color: #008080\">INFO</span>    | Flow run<span style=\"color: #800080; text-decoration-color: #800080\"> 'bizarre-mantis'</span> - PrefectFuture('calculate_single_diatomic-2')\n",
       "</pre>\n"
      ],
      "text/plain": [
       "23:20:06.744 | \u001b[36mINFO\u001b[0m    | Flow run\u001b[35m 'bizarre-mantis'\u001b[0m - PrefectFuture('calculate_single_diatomic-2')\n"
      ]
     },
     "metadata": {},
     "output_type": "display_data"
    },
    {
     "data": {
      "text/html": [
       "<pre style=\"white-space:pre;overflow-x:auto;line-height:normal;font-family:Menlo,'DejaVu Sans Mono',consolas,'Courier New',monospace\">23:20:06.748 | <span style=\"color: #008080; text-decoration-color: #008080\">INFO</span>    | Flow run<span style=\"color: #800080; text-decoration-color: #800080\"> 'bizarre-mantis'</span> - PrefectFuture('calculate_single_diatomic-3')\n",
       "</pre>\n"
      ],
      "text/plain": [
       "23:20:06.748 | \u001b[36mINFO\u001b[0m    | Flow run\u001b[35m 'bizarre-mantis'\u001b[0m - PrefectFuture('calculate_single_diatomic-3')\n"
      ]
     },
     "metadata": {},
     "output_type": "display_data"
    },
    {
     "data": {
      "text/html": [
       "<pre style=\"white-space:pre;overflow-x:auto;line-height:normal;font-family:Menlo,'DejaVu Sans Mono',consolas,'Courier New',monospace\">23:20:06.752 | <span style=\"color: #008080; text-decoration-color: #008080\">INFO</span>    | Flow run<span style=\"color: #800080; text-decoration-color: #800080\"> 'bizarre-mantis'</span> - PrefectFuture('calculate_single_diatomic-4')\n",
       "</pre>\n"
      ],
      "text/plain": [
       "23:20:06.752 | \u001b[36mINFO\u001b[0m    | Flow run\u001b[35m 'bizarre-mantis'\u001b[0m - PrefectFuture('calculate_single_diatomic-4')\n"
      ]
     },
     "metadata": {},
     "output_type": "display_data"
    },
    {
     "data": {
      "text/html": [
       "<pre style=\"white-space:pre;overflow-x:auto;line-height:normal;font-family:Menlo,'DejaVu Sans Mono',consolas,'Courier New',monospace\">23:20:06.756 | <span style=\"color: #008080; text-decoration-color: #008080\">INFO</span>    | Flow run<span style=\"color: #800080; text-decoration-color: #800080\"> 'bizarre-mantis'</span> - PrefectFuture('calculate_single_diatomic-5')\n",
       "</pre>\n"
      ],
      "text/plain": [
       "23:20:06.756 | \u001b[36mINFO\u001b[0m    | Flow run\u001b[35m 'bizarre-mantis'\u001b[0m - PrefectFuture('calculate_single_diatomic-5')\n"
      ]
     },
     "metadata": {},
     "output_type": "display_data"
    },
    {
     "data": {
      "text/html": [
       "<pre style=\"white-space:pre;overflow-x:auto;line-height:normal;font-family:Menlo,'DejaVu Sans Mono',consolas,'Courier New',monospace\">23:20:06.760 | <span style=\"color: #008080; text-decoration-color: #008080\">INFO</span>    | Flow run<span style=\"color: #800080; text-decoration-color: #800080\"> 'bizarre-mantis'</span> - PrefectFuture('calculate_single_diatomic-6')\n",
       "</pre>\n"
      ],
      "text/plain": [
       "23:20:06.760 | \u001b[36mINFO\u001b[0m    | Flow run\u001b[35m 'bizarre-mantis'\u001b[0m - PrefectFuture('calculate_single_diatomic-6')\n"
      ]
     },
     "metadata": {},
     "output_type": "display_data"
    },
    {
     "data": {
      "text/html": [
       "<pre style=\"white-space:pre;overflow-x:auto;line-height:normal;font-family:Menlo,'DejaVu Sans Mono',consolas,'Courier New',monospace\">23:20:06.763 | <span style=\"color: #008080; text-decoration-color: #008080\">INFO</span>    | Flow run<span style=\"color: #800080; text-decoration-color: #800080\"> 'bizarre-mantis'</span> - PrefectFuture('calculate_single_diatomic-7')\n",
       "</pre>\n"
      ],
      "text/plain": [
       "23:20:06.763 | \u001b[36mINFO\u001b[0m    | Flow run\u001b[35m 'bizarre-mantis'\u001b[0m - PrefectFuture('calculate_single_diatomic-7')\n"
      ]
     },
     "metadata": {},
     "output_type": "display_data"
    },
    {
     "data": {
      "text/html": [
       "<pre style=\"white-space:pre;overflow-x:auto;line-height:normal;font-family:Menlo,'DejaVu Sans Mono',consolas,'Courier New',monospace\">23:20:06.766 | <span style=\"color: #008080; text-decoration-color: #008080\">INFO</span>    | Flow run<span style=\"color: #800080; text-decoration-color: #800080\"> 'bizarre-mantis'</span> - PrefectFuture('calculate_single_diatomic-8')\n",
       "</pre>\n"
      ],
      "text/plain": [
       "23:20:06.766 | \u001b[36mINFO\u001b[0m    | Flow run\u001b[35m 'bizarre-mantis'\u001b[0m - PrefectFuture('calculate_single_diatomic-8')\n"
      ]
     },
     "metadata": {},
     "output_type": "display_data"
    },
    {
     "data": {
      "text/html": [
       "<pre style=\"white-space:pre;overflow-x:auto;line-height:normal;font-family:Menlo,'DejaVu Sans Mono',consolas,'Courier New',monospace\">23:20:06.770 | <span style=\"color: #008080; text-decoration-color: #008080\">INFO</span>    | Flow run<span style=\"color: #800080; text-decoration-color: #800080\"> 'bizarre-mantis'</span> - PrefectFuture('calculate_single_diatomic-9')\n",
       "</pre>\n"
      ],
      "text/plain": [
       "23:20:06.770 | \u001b[36mINFO\u001b[0m    | Flow run\u001b[35m 'bizarre-mantis'\u001b[0m - PrefectFuture('calculate_single_diatomic-9')\n"
      ]
     },
     "metadata": {},
     "output_type": "display_data"
    },
    {
     "data": {
      "text/html": [
       "<pre style=\"white-space:pre;overflow-x:auto;line-height:normal;font-family:Menlo,'DejaVu Sans Mono',consolas,'Courier New',monospace\">23:20:06.773 | <span style=\"color: #008080; text-decoration-color: #008080\">INFO</span>    | Flow run<span style=\"color: #800080; text-decoration-color: #800080\"> 'bizarre-mantis'</span> - PrefectFuture('calculate_single_diatomic-10')\n",
       "</pre>\n"
      ],
      "text/plain": [
       "23:20:06.773 | \u001b[36mINFO\u001b[0m    | Flow run\u001b[35m 'bizarre-mantis'\u001b[0m - PrefectFuture('calculate_single_diatomic-10')\n"
      ]
     },
     "metadata": {},
     "output_type": "display_data"
    },
    {
     "data": {
      "text/html": [
       "<pre style=\"white-space:pre;overflow-x:auto;line-height:normal;font-family:Menlo,'DejaVu Sans Mono',consolas,'Courier New',monospace\">23:20:06.777 | <span style=\"color: #008080; text-decoration-color: #008080\">INFO</span>    | Flow run<span style=\"color: #800080; text-decoration-color: #800080\"> 'bizarre-mantis'</span> - PrefectFuture('calculate_single_diatomic-11')\n",
       "</pre>\n"
      ],
      "text/plain": [
       "23:20:06.777 | \u001b[36mINFO\u001b[0m    | Flow run\u001b[35m 'bizarre-mantis'\u001b[0m - PrefectFuture('calculate_single_diatomic-11')\n"
      ]
     },
     "metadata": {},
     "output_type": "display_data"
    },
    {
     "data": {
      "text/html": [
       "<pre style=\"white-space:pre;overflow-x:auto;line-height:normal;font-family:Menlo,'DejaVu Sans Mono',consolas,'Courier New',monospace\">23:20:06.780 | <span style=\"color: #008080; text-decoration-color: #008080\">INFO</span>    | Flow run<span style=\"color: #800080; text-decoration-color: #800080\"> 'bizarre-mantis'</span> - PrefectFuture('calculate_single_diatomic-12')\n",
       "</pre>\n"
      ],
      "text/plain": [
       "23:20:06.780 | \u001b[36mINFO\u001b[0m    | Flow run\u001b[35m 'bizarre-mantis'\u001b[0m - PrefectFuture('calculate_single_diatomic-12')\n"
      ]
     },
     "metadata": {},
     "output_type": "display_data"
    },
    {
     "data": {
      "text/html": [
       "<pre style=\"white-space:pre;overflow-x:auto;line-height:normal;font-family:Menlo,'DejaVu Sans Mono',consolas,'Courier New',monospace\">23:20:06.784 | <span style=\"color: #008080; text-decoration-color: #008080\">INFO</span>    | Flow run<span style=\"color: #800080; text-decoration-color: #800080\"> 'bizarre-mantis'</span> - PrefectFuture('calculate_single_diatomic-13')\n",
       "</pre>\n"
      ],
      "text/plain": [
       "23:20:06.784 | \u001b[36mINFO\u001b[0m    | Flow run\u001b[35m 'bizarre-mantis'\u001b[0m - PrefectFuture('calculate_single_diatomic-13')\n"
      ]
     },
     "metadata": {},
     "output_type": "display_data"
    },
    {
     "data": {
      "text/html": [
       "<pre style=\"white-space:pre;overflow-x:auto;line-height:normal;font-family:Menlo,'DejaVu Sans Mono',consolas,'Courier New',monospace\">23:20:06.787 | <span style=\"color: #008080; text-decoration-color: #008080\">INFO</span>    | Flow run<span style=\"color: #800080; text-decoration-color: #800080\"> 'bizarre-mantis'</span> - PrefectFuture('calculate_single_diatomic-14')\n",
       "</pre>\n"
      ],
      "text/plain": [
       "23:20:06.787 | \u001b[36mINFO\u001b[0m    | Flow run\u001b[35m 'bizarre-mantis'\u001b[0m - PrefectFuture('calculate_single_diatomic-14')\n"
      ]
     },
     "metadata": {},
     "output_type": "display_data"
    },
    {
     "data": {
      "text/html": [
       "<pre style=\"white-space:pre;overflow-x:auto;line-height:normal;font-family:Menlo,'DejaVu Sans Mono',consolas,'Courier New',monospace\">23:20:06.790 | <span style=\"color: #008080; text-decoration-color: #008080\">INFO</span>    | Flow run<span style=\"color: #800080; text-decoration-color: #800080\"> 'bizarre-mantis'</span> - PrefectFuture('calculate_single_diatomic-15')\n",
       "</pre>\n"
      ],
      "text/plain": [
       "23:20:06.790 | \u001b[36mINFO\u001b[0m    | Flow run\u001b[35m 'bizarre-mantis'\u001b[0m - PrefectFuture('calculate_single_diatomic-15')\n"
      ]
     },
     "metadata": {},
     "output_type": "display_data"
    },
    {
     "data": {
      "text/html": [
       "<pre style=\"white-space:pre;overflow-x:auto;line-height:normal;font-family:Menlo,'DejaVu Sans Mono',consolas,'Courier New',monospace\">23:20:06.798 | <span style=\"color: #008080; text-decoration-color: #008080\">INFO</span>    | Flow run<span style=\"color: #800080; text-decoration-color: #800080\"> 'bizarre-mantis'</span> - PrefectFuture('calculate_single_diatomic-16')\n",
       "</pre>\n"
      ],
      "text/plain": [
       "23:20:06.798 | \u001b[36mINFO\u001b[0m    | Flow run\u001b[35m 'bizarre-mantis'\u001b[0m - PrefectFuture('calculate_single_diatomic-16')\n"
      ]
     },
     "metadata": {},
     "output_type": "display_data"
    },
    {
     "data": {
      "text/html": [
       "<pre style=\"white-space:pre;overflow-x:auto;line-height:normal;font-family:Menlo,'DejaVu Sans Mono',consolas,'Courier New',monospace\">23:20:06.801 | <span style=\"color: #008080; text-decoration-color: #008080\">INFO</span>    | Flow run<span style=\"color: #800080; text-decoration-color: #800080\"> 'bizarre-mantis'</span> - PrefectFuture('calculate_single_diatomic-17')\n",
       "</pre>\n"
      ],
      "text/plain": [
       "23:20:06.801 | \u001b[36mINFO\u001b[0m    | Flow run\u001b[35m 'bizarre-mantis'\u001b[0m - PrefectFuture('calculate_single_diatomic-17')\n"
      ]
     },
     "metadata": {},
     "output_type": "display_data"
    },
    {
     "data": {
      "text/html": [
       "<pre style=\"white-space:pre;overflow-x:auto;line-height:normal;font-family:Menlo,'DejaVu Sans Mono',consolas,'Courier New',monospace\">23:20:06.805 | <span style=\"color: #008080; text-decoration-color: #008080\">INFO</span>    | Flow run<span style=\"color: #800080; text-decoration-color: #800080\"> 'bizarre-mantis'</span> - PrefectFuture('calculate_single_diatomic-18')\n",
       "</pre>\n"
      ],
      "text/plain": [
       "23:20:06.805 | \u001b[36mINFO\u001b[0m    | Flow run\u001b[35m 'bizarre-mantis'\u001b[0m - PrefectFuture('calculate_single_diatomic-18')\n"
      ]
     },
     "metadata": {},
     "output_type": "display_data"
    },
    {
     "data": {
      "text/html": [
       "<pre style=\"white-space:pre;overflow-x:auto;line-height:normal;font-family:Menlo,'DejaVu Sans Mono',consolas,'Courier New',monospace\">23:20:06.808 | <span style=\"color: #008080; text-decoration-color: #008080\">INFO</span>    | Flow run<span style=\"color: #800080; text-decoration-color: #800080\"> 'bizarre-mantis'</span> - PrefectFuture('calculate_single_diatomic-19')\n",
       "</pre>\n"
      ],
      "text/plain": [
       "23:20:06.808 | \u001b[36mINFO\u001b[0m    | Flow run\u001b[35m 'bizarre-mantis'\u001b[0m - PrefectFuture('calculate_single_diatomic-19')\n"
      ]
     },
     "metadata": {},
     "output_type": "display_data"
    },
    {
     "data": {
      "text/html": [
       "<pre style=\"white-space:pre;overflow-x:auto;line-height:normal;font-family:Menlo,'DejaVu Sans Mono',consolas,'Courier New',monospace\">23:20:06.812 | <span style=\"color: #008080; text-decoration-color: #008080\">INFO</span>    | Flow run<span style=\"color: #800080; text-decoration-color: #800080\"> 'bizarre-mantis'</span> - PrefectFuture('calculate_single_diatomic-20')\n",
       "</pre>\n"
      ],
      "text/plain": [
       "23:20:06.812 | \u001b[36mINFO\u001b[0m    | Flow run\u001b[35m 'bizarre-mantis'\u001b[0m - PrefectFuture('calculate_single_diatomic-20')\n"
      ]
     },
     "metadata": {},
     "output_type": "display_data"
    },
    {
     "data": {
      "text/html": [
       "<pre style=\"white-space:pre;overflow-x:auto;line-height:normal;font-family:Menlo,'DejaVu Sans Mono',consolas,'Courier New',monospace\">23:20:06.815 | <span style=\"color: #008080; text-decoration-color: #008080\">INFO</span>    | Flow run<span style=\"color: #800080; text-decoration-color: #800080\"> 'bizarre-mantis'</span> - PrefectFuture('calculate_single_diatomic-21')\n",
       "</pre>\n"
      ],
      "text/plain": [
       "23:20:06.815 | \u001b[36mINFO\u001b[0m    | Flow run\u001b[35m 'bizarre-mantis'\u001b[0m - PrefectFuture('calculate_single_diatomic-21')\n"
      ]
     },
     "metadata": {},
     "output_type": "display_data"
    },
    {
     "data": {
      "text/html": [
       "<pre style=\"white-space:pre;overflow-x:auto;line-height:normal;font-family:Menlo,'DejaVu Sans Mono',consolas,'Courier New',monospace\">23:20:06.818 | <span style=\"color: #008080; text-decoration-color: #008080\">INFO</span>    | Flow run<span style=\"color: #800080; text-decoration-color: #800080\"> 'bizarre-mantis'</span> - PrefectFuture('calculate_single_diatomic-22')\n",
       "</pre>\n"
      ],
      "text/plain": [
       "23:20:06.818 | \u001b[36mINFO\u001b[0m    | Flow run\u001b[35m 'bizarre-mantis'\u001b[0m - PrefectFuture('calculate_single_diatomic-22')\n"
      ]
     },
     "metadata": {},
     "output_type": "display_data"
    },
    {
     "data": {
      "text/html": [
       "<pre style=\"white-space:pre;overflow-x:auto;line-height:normal;font-family:Menlo,'DejaVu Sans Mono',consolas,'Courier New',monospace\">23:20:06.822 | <span style=\"color: #008080; text-decoration-color: #008080\">INFO</span>    | Flow run<span style=\"color: #800080; text-decoration-color: #800080\"> 'bizarre-mantis'</span> - PrefectFuture('calculate_single_diatomic-23')\n",
       "</pre>\n"
      ],
      "text/plain": [
       "23:20:06.822 | \u001b[36mINFO\u001b[0m    | Flow run\u001b[35m 'bizarre-mantis'\u001b[0m - PrefectFuture('calculate_single_diatomic-23')\n"
      ]
     },
     "metadata": {},
     "output_type": "display_data"
    },
    {
     "data": {
      "text/html": [
       "<pre style=\"white-space:pre;overflow-x:auto;line-height:normal;font-family:Menlo,'DejaVu Sans Mono',consolas,'Courier New',monospace\">23:20:06.825 | <span style=\"color: #008080; text-decoration-color: #008080\">INFO</span>    | Flow run<span style=\"color: #800080; text-decoration-color: #800080\"> 'bizarre-mantis'</span> - PrefectFuture('calculate_single_diatomic-24')\n",
       "</pre>\n"
      ],
      "text/plain": [
       "23:20:06.825 | \u001b[36mINFO\u001b[0m    | Flow run\u001b[35m 'bizarre-mantis'\u001b[0m - PrefectFuture('calculate_single_diatomic-24')\n"
      ]
     },
     "metadata": {},
     "output_type": "display_data"
    },
    {
     "data": {
      "text/html": [
       "<pre style=\"white-space:pre;overflow-x:auto;line-height:normal;font-family:Menlo,'DejaVu Sans Mono',consolas,'Courier New',monospace\">23:20:06.828 | <span style=\"color: #008080; text-decoration-color: #008080\">INFO</span>    | Flow run<span style=\"color: #800080; text-decoration-color: #800080\"> 'bizarre-mantis'</span> - PrefectFuture('calculate_single_diatomic-25')\n",
       "</pre>\n"
      ],
      "text/plain": [
       "23:20:06.828 | \u001b[36mINFO\u001b[0m    | Flow run\u001b[35m 'bizarre-mantis'\u001b[0m - PrefectFuture('calculate_single_diatomic-25')\n"
      ]
     },
     "metadata": {},
     "output_type": "display_data"
    },
    {
     "data": {
      "text/html": [
       "<pre style=\"white-space:pre;overflow-x:auto;line-height:normal;font-family:Menlo,'DejaVu Sans Mono',consolas,'Courier New',monospace\">23:20:06.832 | <span style=\"color: #008080; text-decoration-color: #008080\">INFO</span>    | Flow run<span style=\"color: #800080; text-decoration-color: #800080\"> 'bizarre-mantis'</span> - PrefectFuture('calculate_single_diatomic-26')\n",
       "</pre>\n"
      ],
      "text/plain": [
       "23:20:06.832 | \u001b[36mINFO\u001b[0m    | Flow run\u001b[35m 'bizarre-mantis'\u001b[0m - PrefectFuture('calculate_single_diatomic-26')\n"
      ]
     },
     "metadata": {},
     "output_type": "display_data"
    },
    {
     "data": {
      "text/html": [
       "<pre style=\"white-space:pre;overflow-x:auto;line-height:normal;font-family:Menlo,'DejaVu Sans Mono',consolas,'Courier New',monospace\">23:20:06.835 | <span style=\"color: #008080; text-decoration-color: #008080\">INFO</span>    | Flow run<span style=\"color: #800080; text-decoration-color: #800080\"> 'bizarre-mantis'</span> - PrefectFuture('calculate_single_diatomic-27')\n",
       "</pre>\n"
      ],
      "text/plain": [
       "23:20:06.835 | \u001b[36mINFO\u001b[0m    | Flow run\u001b[35m 'bizarre-mantis'\u001b[0m - PrefectFuture('calculate_single_diatomic-27')\n"
      ]
     },
     "metadata": {},
     "output_type": "display_data"
    },
    {
     "data": {
      "text/html": [
       "<pre style=\"white-space:pre;overflow-x:auto;line-height:normal;font-family:Menlo,'DejaVu Sans Mono',consolas,'Courier New',monospace\">23:20:06.838 | <span style=\"color: #008080; text-decoration-color: #008080\">INFO</span>    | Flow run<span style=\"color: #800080; text-decoration-color: #800080\"> 'bizarre-mantis'</span> - PrefectFuture('calculate_single_diatomic-28')\n",
       "</pre>\n"
      ],
      "text/plain": [
       "23:20:06.838 | \u001b[36mINFO\u001b[0m    | Flow run\u001b[35m 'bizarre-mantis'\u001b[0m - PrefectFuture('calculate_single_diatomic-28')\n"
      ]
     },
     "metadata": {},
     "output_type": "display_data"
    },
    {
     "data": {
      "text/html": [
       "<pre style=\"white-space:pre;overflow-x:auto;line-height:normal;font-family:Menlo,'DejaVu Sans Mono',consolas,'Courier New',monospace\">23:20:06.842 | <span style=\"color: #008080; text-decoration-color: #008080\">INFO</span>    | Flow run<span style=\"color: #800080; text-decoration-color: #800080\"> 'bizarre-mantis'</span> - PrefectFuture('calculate_single_diatomic-29')\n",
       "</pre>\n"
      ],
      "text/plain": [
       "23:20:06.842 | \u001b[36mINFO\u001b[0m    | Flow run\u001b[35m 'bizarre-mantis'\u001b[0m - PrefectFuture('calculate_single_diatomic-29')\n"
      ]
     },
     "metadata": {},
     "output_type": "display_data"
    },
    {
     "data": {
      "text/html": [
       "<pre style=\"white-space:pre;overflow-x:auto;line-height:normal;font-family:Menlo,'DejaVu Sans Mono',consolas,'Courier New',monospace\">23:20:06.845 | <span style=\"color: #008080; text-decoration-color: #008080\">INFO</span>    | Flow run<span style=\"color: #800080; text-decoration-color: #800080\"> 'bizarre-mantis'</span> - PrefectFuture('calculate_single_diatomic-30')\n",
       "</pre>\n"
      ],
      "text/plain": [
       "23:20:06.845 | \u001b[36mINFO\u001b[0m    | Flow run\u001b[35m 'bizarre-mantis'\u001b[0m - PrefectFuture('calculate_single_diatomic-30')\n"
      ]
     },
     "metadata": {},
     "output_type": "display_data"
    },
    {
     "data": {
      "text/html": [
       "<pre style=\"white-space:pre;overflow-x:auto;line-height:normal;font-family:Menlo,'DejaVu Sans Mono',consolas,'Courier New',monospace\">23:20:06.848 | <span style=\"color: #008080; text-decoration-color: #008080\">INFO</span>    | Flow run<span style=\"color: #800080; text-decoration-color: #800080\"> 'bizarre-mantis'</span> - PrefectFuture('calculate_single_diatomic-31')\n",
       "</pre>\n"
      ],
      "text/plain": [
       "23:20:06.848 | \u001b[36mINFO\u001b[0m    | Flow run\u001b[35m 'bizarre-mantis'\u001b[0m - PrefectFuture('calculate_single_diatomic-31')\n"
      ]
     },
     "metadata": {},
     "output_type": "display_data"
    },
    {
     "data": {
      "text/html": [
       "<pre style=\"white-space:pre;overflow-x:auto;line-height:normal;font-family:Menlo,'DejaVu Sans Mono',consolas,'Courier New',monospace\">23:20:06.852 | <span style=\"color: #008080; text-decoration-color: #008080\">INFO</span>    | Flow run<span style=\"color: #800080; text-decoration-color: #800080\"> 'bizarre-mantis'</span> - PrefectFuture('calculate_single_diatomic-32')\n",
       "</pre>\n"
      ],
      "text/plain": [
       "23:20:06.852 | \u001b[36mINFO\u001b[0m    | Flow run\u001b[35m 'bizarre-mantis'\u001b[0m - PrefectFuture('calculate_single_diatomic-32')\n"
      ]
     },
     "metadata": {},
     "output_type": "display_data"
    },
    {
     "data": {
      "text/html": [
       "<pre style=\"white-space:pre;overflow-x:auto;line-height:normal;font-family:Menlo,'DejaVu Sans Mono',consolas,'Courier New',monospace\">23:20:06.856 | <span style=\"color: #008080; text-decoration-color: #008080\">INFO</span>    | Flow run<span style=\"color: #800080; text-decoration-color: #800080\"> 'bizarre-mantis'</span> - PrefectFuture('calculate_single_diatomic-33')\n",
       "</pre>\n"
      ],
      "text/plain": [
       "23:20:06.856 | \u001b[36mINFO\u001b[0m    | Flow run\u001b[35m 'bizarre-mantis'\u001b[0m - PrefectFuture('calculate_single_diatomic-33')\n"
      ]
     },
     "metadata": {},
     "output_type": "display_data"
    },
    {
     "data": {
      "text/html": [
       "<pre style=\"white-space:pre;overflow-x:auto;line-height:normal;font-family:Menlo,'DejaVu Sans Mono',consolas,'Courier New',monospace\">23:20:06.860 | <span style=\"color: #008080; text-decoration-color: #008080\">INFO</span>    | Flow run<span style=\"color: #800080; text-decoration-color: #800080\"> 'bizarre-mantis'</span> - PrefectFuture('calculate_single_diatomic-34')\n",
       "</pre>\n"
      ],
      "text/plain": [
       "23:20:06.860 | \u001b[36mINFO\u001b[0m    | Flow run\u001b[35m 'bizarre-mantis'\u001b[0m - PrefectFuture('calculate_single_diatomic-34')\n"
      ]
     },
     "metadata": {},
     "output_type": "display_data"
    },
    {
     "data": {
      "text/html": [
       "<pre style=\"white-space:pre;overflow-x:auto;line-height:normal;font-family:Menlo,'DejaVu Sans Mono',consolas,'Courier New',monospace\">23:20:06.863 | <span style=\"color: #008080; text-decoration-color: #008080\">INFO</span>    | Flow run<span style=\"color: #800080; text-decoration-color: #800080\"> 'bizarre-mantis'</span> - PrefectFuture('calculate_single_diatomic-35')\n",
       "</pre>\n"
      ],
      "text/plain": [
       "23:20:06.863 | \u001b[36mINFO\u001b[0m    | Flow run\u001b[35m 'bizarre-mantis'\u001b[0m - PrefectFuture('calculate_single_diatomic-35')\n"
      ]
     },
     "metadata": {},
     "output_type": "display_data"
    },
    {
     "data": {
      "text/html": [
       "<pre style=\"white-space:pre;overflow-x:auto;line-height:normal;font-family:Menlo,'DejaVu Sans Mono',consolas,'Courier New',monospace\">23:20:06.867 | <span style=\"color: #008080; text-decoration-color: #008080\">INFO</span>    | Flow run<span style=\"color: #800080; text-decoration-color: #800080\"> 'bizarre-mantis'</span> - PrefectFuture('calculate_single_diatomic-36')\n",
       "</pre>\n"
      ],
      "text/plain": [
       "23:20:06.867 | \u001b[36mINFO\u001b[0m    | Flow run\u001b[35m 'bizarre-mantis'\u001b[0m - PrefectFuture('calculate_single_diatomic-36')\n"
      ]
     },
     "metadata": {},
     "output_type": "display_data"
    },
    {
     "data": {
      "text/html": [
       "<pre style=\"white-space:pre;overflow-x:auto;line-height:normal;font-family:Menlo,'DejaVu Sans Mono',consolas,'Courier New',monospace\">23:20:06.871 | <span style=\"color: #008080; text-decoration-color: #008080\">INFO</span>    | Flow run<span style=\"color: #800080; text-decoration-color: #800080\"> 'bizarre-mantis'</span> - PrefectFuture('calculate_single_diatomic-37')\n",
       "</pre>\n"
      ],
      "text/plain": [
       "23:20:06.871 | \u001b[36mINFO\u001b[0m    | Flow run\u001b[35m 'bizarre-mantis'\u001b[0m - PrefectFuture('calculate_single_diatomic-37')\n"
      ]
     },
     "metadata": {},
     "output_type": "display_data"
    },
    {
     "data": {
      "text/html": [
       "<pre style=\"white-space:pre;overflow-x:auto;line-height:normal;font-family:Menlo,'DejaVu Sans Mono',consolas,'Courier New',monospace\">23:20:06.876 | <span style=\"color: #008080; text-decoration-color: #008080\">INFO</span>    | Flow run<span style=\"color: #800080; text-decoration-color: #800080\"> 'bizarre-mantis'</span> - PrefectFuture('calculate_single_diatomic-38')\n",
       "</pre>\n"
      ],
      "text/plain": [
       "23:20:06.876 | \u001b[36mINFO\u001b[0m    | Flow run\u001b[35m 'bizarre-mantis'\u001b[0m - PrefectFuture('calculate_single_diatomic-38')\n"
      ]
     },
     "metadata": {},
     "output_type": "display_data"
    },
    {
     "data": {
      "text/html": [
       "<pre style=\"white-space:pre;overflow-x:auto;line-height:normal;font-family:Menlo,'DejaVu Sans Mono',consolas,'Courier New',monospace\">23:20:06.879 | <span style=\"color: #008080; text-decoration-color: #008080\">INFO</span>    | Flow run<span style=\"color: #800080; text-decoration-color: #800080\"> 'bizarre-mantis'</span> - PrefectFuture('calculate_single_diatomic-39')\n",
       "</pre>\n"
      ],
      "text/plain": [
       "23:20:06.879 | \u001b[36mINFO\u001b[0m    | Flow run\u001b[35m 'bizarre-mantis'\u001b[0m - PrefectFuture('calculate_single_diatomic-39')\n"
      ]
     },
     "metadata": {},
     "output_type": "display_data"
    },
    {
     "data": {
      "text/html": [
       "<pre style=\"white-space:pre;overflow-x:auto;line-height:normal;font-family:Menlo,'DejaVu Sans Mono',consolas,'Courier New',monospace\">23:20:06.884 | <span style=\"color: #008080; text-decoration-color: #008080\">INFO</span>    | Flow run<span style=\"color: #800080; text-decoration-color: #800080\"> 'bizarre-mantis'</span> - PrefectFuture('calculate_single_diatomic-40')\n",
       "</pre>\n"
      ],
      "text/plain": [
       "23:20:06.884 | \u001b[36mINFO\u001b[0m    | Flow run\u001b[35m 'bizarre-mantis'\u001b[0m - PrefectFuture('calculate_single_diatomic-40')\n"
      ]
     },
     "metadata": {},
     "output_type": "display_data"
    },
    {
     "data": {
      "text/html": [
       "<pre style=\"white-space:pre;overflow-x:auto;line-height:normal;font-family:Menlo,'DejaVu Sans Mono',consolas,'Courier New',monospace\">23:20:06.887 | <span style=\"color: #008080; text-decoration-color: #008080\">INFO</span>    | Flow run<span style=\"color: #800080; text-decoration-color: #800080\"> 'bizarre-mantis'</span> - PrefectFuture('calculate_single_diatomic-41')\n",
       "</pre>\n"
      ],
      "text/plain": [
       "23:20:06.887 | \u001b[36mINFO\u001b[0m    | Flow run\u001b[35m 'bizarre-mantis'\u001b[0m - PrefectFuture('calculate_single_diatomic-41')\n"
      ]
     },
     "metadata": {},
     "output_type": "display_data"
    },
    {
     "data": {
      "text/html": [
       "<pre style=\"white-space:pre;overflow-x:auto;line-height:normal;font-family:Menlo,'DejaVu Sans Mono',consolas,'Courier New',monospace\">23:20:06.890 | <span style=\"color: #008080; text-decoration-color: #008080\">INFO</span>    | Flow run<span style=\"color: #800080; text-decoration-color: #800080\"> 'bizarre-mantis'</span> - PrefectFuture('calculate_single_diatomic-42')\n",
       "</pre>\n"
      ],
      "text/plain": [
       "23:20:06.890 | \u001b[36mINFO\u001b[0m    | Flow run\u001b[35m 'bizarre-mantis'\u001b[0m - PrefectFuture('calculate_single_diatomic-42')\n"
      ]
     },
     "metadata": {},
     "output_type": "display_data"
    },
    {
     "data": {
      "text/html": [
       "<pre style=\"white-space:pre;overflow-x:auto;line-height:normal;font-family:Menlo,'DejaVu Sans Mono',consolas,'Courier New',monospace\">23:20:06.894 | <span style=\"color: #008080; text-decoration-color: #008080\">INFO</span>    | Flow run<span style=\"color: #800080; text-decoration-color: #800080\"> 'bizarre-mantis'</span> - PrefectFuture('calculate_single_diatomic-43')\n",
       "</pre>\n"
      ],
      "text/plain": [
       "23:20:06.894 | \u001b[36mINFO\u001b[0m    | Flow run\u001b[35m 'bizarre-mantis'\u001b[0m - PrefectFuture('calculate_single_diatomic-43')\n"
      ]
     },
     "metadata": {},
     "output_type": "display_data"
    },
    {
     "data": {
      "text/html": [
       "<pre style=\"white-space:pre;overflow-x:auto;line-height:normal;font-family:Menlo,'DejaVu Sans Mono',consolas,'Courier New',monospace\">23:20:06.897 | <span style=\"color: #008080; text-decoration-color: #008080\">INFO</span>    | Flow run<span style=\"color: #800080; text-decoration-color: #800080\"> 'bizarre-mantis'</span> - PrefectFuture('calculate_single_diatomic-44')\n",
       "</pre>\n"
      ],
      "text/plain": [
       "23:20:06.897 | \u001b[36mINFO\u001b[0m    | Flow run\u001b[35m 'bizarre-mantis'\u001b[0m - PrefectFuture('calculate_single_diatomic-44')\n"
      ]
     },
     "metadata": {},
     "output_type": "display_data"
    },
    {
     "data": {
      "text/html": [
       "<pre style=\"white-space:pre;overflow-x:auto;line-height:normal;font-family:Menlo,'DejaVu Sans Mono',consolas,'Courier New',monospace\">23:20:06.901 | <span style=\"color: #008080; text-decoration-color: #008080\">INFO</span>    | Flow run<span style=\"color: #800080; text-decoration-color: #800080\"> 'bizarre-mantis'</span> - PrefectFuture('calculate_single_diatomic-45')\n",
       "</pre>\n"
      ],
      "text/plain": [
       "23:20:06.901 | \u001b[36mINFO\u001b[0m    | Flow run\u001b[35m 'bizarre-mantis'\u001b[0m - PrefectFuture('calculate_single_diatomic-45')\n"
      ]
     },
     "metadata": {},
     "output_type": "display_data"
    },
    {
     "data": {
      "text/html": [
       "<pre style=\"white-space:pre;overflow-x:auto;line-height:normal;font-family:Menlo,'DejaVu Sans Mono',consolas,'Courier New',monospace\">23:20:06.904 | <span style=\"color: #008080; text-decoration-color: #008080\">INFO</span>    | Flow run<span style=\"color: #800080; text-decoration-color: #800080\"> 'bizarre-mantis'</span> - PrefectFuture('calculate_single_diatomic-46')\n",
       "</pre>\n"
      ],
      "text/plain": [
       "23:20:06.904 | \u001b[36mINFO\u001b[0m    | Flow run\u001b[35m 'bizarre-mantis'\u001b[0m - PrefectFuture('calculate_single_diatomic-46')\n"
      ]
     },
     "metadata": {},
     "output_type": "display_data"
    },
    {
     "data": {
      "text/html": [
       "<pre style=\"white-space:pre;overflow-x:auto;line-height:normal;font-family:Menlo,'DejaVu Sans Mono',consolas,'Courier New',monospace\">23:20:06.908 | <span style=\"color: #008080; text-decoration-color: #008080\">INFO</span>    | Flow run<span style=\"color: #800080; text-decoration-color: #800080\"> 'bizarre-mantis'</span> - PrefectFuture('calculate_single_diatomic-47')\n",
       "</pre>\n"
      ],
      "text/plain": [
       "23:20:06.908 | \u001b[36mINFO\u001b[0m    | Flow run\u001b[35m 'bizarre-mantis'\u001b[0m - PrefectFuture('calculate_single_diatomic-47')\n"
      ]
     },
     "metadata": {},
     "output_type": "display_data"
    },
    {
     "data": {
      "text/html": [
       "<pre style=\"white-space:pre;overflow-x:auto;line-height:normal;font-family:Menlo,'DejaVu Sans Mono',consolas,'Courier New',monospace\">23:20:06.911 | <span style=\"color: #008080; text-decoration-color: #008080\">INFO</span>    | Flow run<span style=\"color: #800080; text-decoration-color: #800080\"> 'bizarre-mantis'</span> - PrefectFuture('calculate_single_diatomic-48')\n",
       "</pre>\n"
      ],
      "text/plain": [
       "23:20:06.911 | \u001b[36mINFO\u001b[0m    | Flow run\u001b[35m 'bizarre-mantis'\u001b[0m - PrefectFuture('calculate_single_diatomic-48')\n"
      ]
     },
     "metadata": {},
     "output_type": "display_data"
    },
    {
     "data": {
      "text/html": [
       "<pre style=\"white-space:pre;overflow-x:auto;line-height:normal;font-family:Menlo,'DejaVu Sans Mono',consolas,'Courier New',monospace\">23:20:06.915 | <span style=\"color: #008080; text-decoration-color: #008080\">INFO</span>    | Flow run<span style=\"color: #800080; text-decoration-color: #800080\"> 'bizarre-mantis'</span> - Created task run 'calculate_single_diatomic-6' for task 'calculate_single_diatomic'\n",
       "</pre>\n"
      ],
      "text/plain": [
       "23:20:06.915 | \u001b[36mINFO\u001b[0m    | Flow run\u001b[35m 'bizarre-mantis'\u001b[0m - Created task run 'calculate_single_diatomic-6' for task 'calculate_single_diatomic'\n"
      ]
     },
     "metadata": {},
     "output_type": "display_data"
    },
    {
     "data": {
      "text/html": [
       "<pre style=\"white-space:pre;overflow-x:auto;line-height:normal;font-family:Menlo,'DejaVu Sans Mono',consolas,'Courier New',monospace\">23:20:06.928 | <span style=\"color: #008080; text-decoration-color: #008080\">INFO</span>    | Flow run<span style=\"color: #800080; text-decoration-color: #800080\"> 'bizarre-mantis'</span> - Submitted task run 'calculate_single_diatomic-6' for execution.\n",
       "</pre>\n"
      ],
      "text/plain": [
       "23:20:06.928 | \u001b[36mINFO\u001b[0m    | Flow run\u001b[35m 'bizarre-mantis'\u001b[0m - Submitted task run 'calculate_single_diatomic-6' for execution.\n"
      ]
     },
     "metadata": {},
     "output_type": "display_data"
    },
    {
     "data": {
      "text/html": [
       "<pre style=\"white-space:pre;overflow-x:auto;line-height:normal;font-family:Menlo,'DejaVu Sans Mono',consolas,'Courier New',monospace\">23:20:06.930 | <span style=\"color: #008080; text-decoration-color: #008080\">INFO</span>    | Flow run<span style=\"color: #800080; text-decoration-color: #800080\"> 'bizarre-mantis'</span> - PrefectFuture('calculate_single_diatomic-49')\n",
       "</pre>\n"
      ],
      "text/plain": [
       "23:20:06.930 | \u001b[36mINFO\u001b[0m    | Flow run\u001b[35m 'bizarre-mantis'\u001b[0m - PrefectFuture('calculate_single_diatomic-49')\n"
      ]
     },
     "metadata": {},
     "output_type": "display_data"
    },
    {
     "data": {
      "text/html": [
       "<pre style=\"white-space:pre;overflow-x:auto;line-height:normal;font-family:Menlo,'DejaVu Sans Mono',consolas,'Courier New',monospace\">23:20:06.940 | <span style=\"color: #008080; text-decoration-color: #008080\">INFO</span>    | Flow run<span style=\"color: #800080; text-decoration-color: #800080\"> 'bizarre-mantis'</span> - PrefectFuture('calculate_single_diatomic-50')\n",
       "</pre>\n"
      ],
      "text/plain": [
       "23:20:06.940 | \u001b[36mINFO\u001b[0m    | Flow run\u001b[35m 'bizarre-mantis'\u001b[0m - PrefectFuture('calculate_single_diatomic-50')\n"
      ]
     },
     "metadata": {},
     "output_type": "display_data"
    },
    {
     "data": {
      "text/html": [
       "<pre style=\"white-space:pre;overflow-x:auto;line-height:normal;font-family:Menlo,'DejaVu Sans Mono',consolas,'Courier New',monospace\">23:20:06.945 | <span style=\"color: #008080; text-decoration-color: #008080\">INFO</span>    | Flow run<span style=\"color: #800080; text-decoration-color: #800080\"> 'bizarre-mantis'</span> - PrefectFuture('calculate_single_diatomic-51')\n",
       "</pre>\n"
      ],
      "text/plain": [
       "23:20:06.945 | \u001b[36mINFO\u001b[0m    | Flow run\u001b[35m 'bizarre-mantis'\u001b[0m - PrefectFuture('calculate_single_diatomic-51')\n"
      ]
     },
     "metadata": {},
     "output_type": "display_data"
    },
    {
     "data": {
      "text/html": [
       "<pre style=\"white-space:pre;overflow-x:auto;line-height:normal;font-family:Menlo,'DejaVu Sans Mono',consolas,'Courier New',monospace\">23:20:06.948 | <span style=\"color: #008080; text-decoration-color: #008080\">INFO</span>    | Flow run<span style=\"color: #800080; text-decoration-color: #800080\"> 'bizarre-mantis'</span> - PrefectFuture('calculate_single_diatomic-52')\n",
       "</pre>\n"
      ],
      "text/plain": [
       "23:20:06.948 | \u001b[36mINFO\u001b[0m    | Flow run\u001b[35m 'bizarre-mantis'\u001b[0m - PrefectFuture('calculate_single_diatomic-52')\n"
      ]
     },
     "metadata": {},
     "output_type": "display_data"
    },
    {
     "data": {
      "text/html": [
       "<pre style=\"white-space:pre;overflow-x:auto;line-height:normal;font-family:Menlo,'DejaVu Sans Mono',consolas,'Courier New',monospace\">23:20:06.953 | <span style=\"color: #008080; text-decoration-color: #008080\">INFO</span>    | Flow run<span style=\"color: #800080; text-decoration-color: #800080\"> 'bizarre-mantis'</span> - PrefectFuture('calculate_single_diatomic-53')\n",
       "</pre>\n"
      ],
      "text/plain": [
       "23:20:06.953 | \u001b[36mINFO\u001b[0m    | Flow run\u001b[35m 'bizarre-mantis'\u001b[0m - PrefectFuture('calculate_single_diatomic-53')\n"
      ]
     },
     "metadata": {},
     "output_type": "display_data"
    },
    {
     "data": {
      "text/html": [
       "<pre style=\"white-space:pre;overflow-x:auto;line-height:normal;font-family:Menlo,'DejaVu Sans Mono',consolas,'Courier New',monospace\">23:20:06.958 | <span style=\"color: #008080; text-decoration-color: #008080\">INFO</span>    | Flow run<span style=\"color: #800080; text-decoration-color: #800080\"> 'bizarre-mantis'</span> - PrefectFuture('calculate_single_diatomic-54')\n",
       "</pre>\n"
      ],
      "text/plain": [
       "23:20:06.958 | \u001b[36mINFO\u001b[0m    | Flow run\u001b[35m 'bizarre-mantis'\u001b[0m - PrefectFuture('calculate_single_diatomic-54')\n"
      ]
     },
     "metadata": {},
     "output_type": "display_data"
    },
    {
     "data": {
      "text/html": [
       "<pre style=\"white-space:pre;overflow-x:auto;line-height:normal;font-family:Menlo,'DejaVu Sans Mono',consolas,'Courier New',monospace\">23:20:06.962 | <span style=\"color: #008080; text-decoration-color: #008080\">INFO</span>    | Flow run<span style=\"color: #800080; text-decoration-color: #800080\"> 'bizarre-mantis'</span> - PrefectFuture('calculate_single_diatomic-55')\n",
       "</pre>\n"
      ],
      "text/plain": [
       "23:20:06.962 | \u001b[36mINFO\u001b[0m    | Flow run\u001b[35m 'bizarre-mantis'\u001b[0m - PrefectFuture('calculate_single_diatomic-55')\n"
      ]
     },
     "metadata": {},
     "output_type": "display_data"
    },
    {
     "data": {
      "text/html": [
       "<pre style=\"white-space:pre;overflow-x:auto;line-height:normal;font-family:Menlo,'DejaVu Sans Mono',consolas,'Courier New',monospace\">23:20:06.966 | <span style=\"color: #008080; text-decoration-color: #008080\">INFO</span>    | Flow run<span style=\"color: #800080; text-decoration-color: #800080\"> 'bizarre-mantis'</span> - PrefectFuture('calculate_single_diatomic-56')\n",
       "</pre>\n"
      ],
      "text/plain": [
       "23:20:06.966 | \u001b[36mINFO\u001b[0m    | Flow run\u001b[35m 'bizarre-mantis'\u001b[0m - PrefectFuture('calculate_single_diatomic-56')\n"
      ]
     },
     "metadata": {},
     "output_type": "display_data"
    },
    {
     "data": {
      "text/html": [
       "<pre style=\"white-space:pre;overflow-x:auto;line-height:normal;font-family:Menlo,'DejaVu Sans Mono',consolas,'Courier New',monospace\">23:20:06.970 | <span style=\"color: #008080; text-decoration-color: #008080\">INFO</span>    | Flow run<span style=\"color: #800080; text-decoration-color: #800080\"> 'bizarre-mantis'</span> - PrefectFuture('calculate_single_diatomic-57')\n",
       "</pre>\n"
      ],
      "text/plain": [
       "23:20:06.970 | \u001b[36mINFO\u001b[0m    | Flow run\u001b[35m 'bizarre-mantis'\u001b[0m - PrefectFuture('calculate_single_diatomic-57')\n"
      ]
     },
     "metadata": {},
     "output_type": "display_data"
    },
    {
     "data": {
      "text/html": [
       "<pre style=\"white-space:pre;overflow-x:auto;line-height:normal;font-family:Menlo,'DejaVu Sans Mono',consolas,'Courier New',monospace\">23:20:06.974 | <span style=\"color: #008080; text-decoration-color: #008080\">INFO</span>    | Flow run<span style=\"color: #800080; text-decoration-color: #800080\"> 'bizarre-mantis'</span> - PrefectFuture('calculate_single_diatomic-58')\n",
       "</pre>\n"
      ],
      "text/plain": [
       "23:20:06.974 | \u001b[36mINFO\u001b[0m    | Flow run\u001b[35m 'bizarre-mantis'\u001b[0m - PrefectFuture('calculate_single_diatomic-58')\n"
      ]
     },
     "metadata": {},
     "output_type": "display_data"
    },
    {
     "data": {
      "text/html": [
       "<pre style=\"white-space:pre;overflow-x:auto;line-height:normal;font-family:Menlo,'DejaVu Sans Mono',consolas,'Courier New',monospace\">23:20:06.978 | <span style=\"color: #008080; text-decoration-color: #008080\">INFO</span>    | Flow run<span style=\"color: #800080; text-decoration-color: #800080\"> 'bizarre-mantis'</span> - PrefectFuture('calculate_single_diatomic-59')\n",
       "</pre>\n"
      ],
      "text/plain": [
       "23:20:06.978 | \u001b[36mINFO\u001b[0m    | Flow run\u001b[35m 'bizarre-mantis'\u001b[0m - PrefectFuture('calculate_single_diatomic-59')\n"
      ]
     },
     "metadata": {},
     "output_type": "display_data"
    },
    {
     "data": {
      "text/html": [
       "<pre style=\"white-space:pre;overflow-x:auto;line-height:normal;font-family:Menlo,'DejaVu Sans Mono',consolas,'Courier New',monospace\">23:20:06.979 | <span style=\"color: #008080; text-decoration-color: #008080\">INFO</span>    | Flow run<span style=\"color: #800080; text-decoration-color: #800080\"> 'bizarre-mantis'</span> - Created task run 'calculate_single_diatomic-25' for task 'calculate_single_diatomic'\n",
       "</pre>\n"
      ],
      "text/plain": [
       "23:20:06.979 | \u001b[36mINFO\u001b[0m    | Flow run\u001b[35m 'bizarre-mantis'\u001b[0m - Created task run 'calculate_single_diatomic-25' for task 'calculate_single_diatomic'\n"
      ]
     },
     "metadata": {},
     "output_type": "display_data"
    },
    {
     "data": {
      "text/html": [
       "<pre style=\"white-space:pre;overflow-x:auto;line-height:normal;font-family:Menlo,'DejaVu Sans Mono',consolas,'Courier New',monospace\">23:20:06.986 | <span style=\"color: #008080; text-decoration-color: #008080\">INFO</span>    | Flow run<span style=\"color: #800080; text-decoration-color: #800080\"> 'bizarre-mantis'</span> - Submitted task run 'calculate_single_diatomic-25' for execution.\n",
       "</pre>\n"
      ],
      "text/plain": [
       "23:20:06.986 | \u001b[36mINFO\u001b[0m    | Flow run\u001b[35m 'bizarre-mantis'\u001b[0m - Submitted task run 'calculate_single_diatomic-25' for execution.\n"
      ]
     },
     "metadata": {},
     "output_type": "display_data"
    },
    {
     "data": {
      "text/html": [
       "<pre style=\"white-space:pre;overflow-x:auto;line-height:normal;font-family:Menlo,'DejaVu Sans Mono',consolas,'Courier New',monospace\">23:20:06.989 | <span style=\"color: #008080; text-decoration-color: #008080\">INFO</span>    | Flow run<span style=\"color: #800080; text-decoration-color: #800080\"> 'bizarre-mantis'</span> - PrefectFuture('calculate_single_diatomic-60')\n",
       "</pre>\n"
      ],
      "text/plain": [
       "23:20:06.989 | \u001b[36mINFO\u001b[0m    | Flow run\u001b[35m 'bizarre-mantis'\u001b[0m - PrefectFuture('calculate_single_diatomic-60')\n"
      ]
     },
     "metadata": {},
     "output_type": "display_data"
    },
    {
     "data": {
      "text/html": [
       "<pre style=\"white-space:pre;overflow-x:auto;line-height:normal;font-family:Menlo,'DejaVu Sans Mono',consolas,'Courier New',monospace\">23:20:06.996 | <span style=\"color: #008080; text-decoration-color: #008080\">INFO</span>    | Flow run<span style=\"color: #800080; text-decoration-color: #800080\"> 'bizarre-mantis'</span> - PrefectFuture('calculate_single_diatomic-61')\n",
       "</pre>\n"
      ],
      "text/plain": [
       "23:20:06.996 | \u001b[36mINFO\u001b[0m    | Flow run\u001b[35m 'bizarre-mantis'\u001b[0m - PrefectFuture('calculate_single_diatomic-61')\n"
      ]
     },
     "metadata": {},
     "output_type": "display_data"
    },
    {
     "data": {
      "text/html": [
       "<pre style=\"white-space:pre;overflow-x:auto;line-height:normal;font-family:Menlo,'DejaVu Sans Mono',consolas,'Courier New',monospace\">23:20:07.004 | <span style=\"color: #008080; text-decoration-color: #008080\">INFO</span>    | Flow run<span style=\"color: #800080; text-decoration-color: #800080\"> 'bizarre-mantis'</span> - PrefectFuture('calculate_single_diatomic-62')\n",
       "</pre>\n"
      ],
      "text/plain": [
       "23:20:07.004 | \u001b[36mINFO\u001b[0m    | Flow run\u001b[35m 'bizarre-mantis'\u001b[0m - PrefectFuture('calculate_single_diatomic-62')\n"
      ]
     },
     "metadata": {},
     "output_type": "display_data"
    },
    {
     "data": {
      "text/html": [
       "<pre style=\"white-space:pre;overflow-x:auto;line-height:normal;font-family:Menlo,'DejaVu Sans Mono',consolas,'Courier New',monospace\">23:20:07.009 | <span style=\"color: #008080; text-decoration-color: #008080\">INFO</span>    | Flow run<span style=\"color: #800080; text-decoration-color: #800080\"> 'bizarre-mantis'</span> - PrefectFuture('calculate_single_diatomic-63')\n",
       "</pre>\n"
      ],
      "text/plain": [
       "23:20:07.009 | \u001b[36mINFO\u001b[0m    | Flow run\u001b[35m 'bizarre-mantis'\u001b[0m - PrefectFuture('calculate_single_diatomic-63')\n"
      ]
     },
     "metadata": {},
     "output_type": "display_data"
    },
    {
     "data": {
      "text/html": [
       "<pre style=\"white-space:pre;overflow-x:auto;line-height:normal;font-family:Menlo,'DejaVu Sans Mono',consolas,'Courier New',monospace\">23:20:07.012 | <span style=\"color: #008080; text-decoration-color: #008080\">INFO</span>    | Flow run<span style=\"color: #800080; text-decoration-color: #800080\"> 'bizarre-mantis'</span> - Created task run 'calculate_single_diatomic-0' for task 'calculate_single_diatomic'\n",
       "</pre>\n"
      ],
      "text/plain": [
       "23:20:07.012 | \u001b[36mINFO\u001b[0m    | Flow run\u001b[35m 'bizarre-mantis'\u001b[0m - Created task run 'calculate_single_diatomic-0' for task 'calculate_single_diatomic'\n"
      ]
     },
     "metadata": {},
     "output_type": "display_data"
    },
    {
     "data": {
      "text/html": [
       "<pre style=\"white-space:pre;overflow-x:auto;line-height:normal;font-family:Menlo,'DejaVu Sans Mono',consolas,'Courier New',monospace\">23:20:07.018 | <span style=\"color: #008080; text-decoration-color: #008080\">INFO</span>    | Flow run<span style=\"color: #800080; text-decoration-color: #800080\"> 'bizarre-mantis'</span> - Submitted task run 'calculate_single_diatomic-0' for execution.\n",
       "</pre>\n"
      ],
      "text/plain": [
       "23:20:07.018 | \u001b[36mINFO\u001b[0m    | Flow run\u001b[35m 'bizarre-mantis'\u001b[0m - Submitted task run 'calculate_single_diatomic-0' for execution.\n"
      ]
     },
     "metadata": {},
     "output_type": "display_data"
    },
    {
     "data": {
      "text/html": [
       "<pre style=\"white-space:pre;overflow-x:auto;line-height:normal;font-family:Menlo,'DejaVu Sans Mono',consolas,'Courier New',monospace\">23:20:07.021 | <span style=\"color: #008080; text-decoration-color: #008080\">INFO</span>    | Flow run<span style=\"color: #800080; text-decoration-color: #800080\"> 'bizarre-mantis'</span> - PrefectFuture('calculate_single_diatomic-64')\n",
       "</pre>\n"
      ],
      "text/plain": [
       "23:20:07.021 | \u001b[36mINFO\u001b[0m    | Flow run\u001b[35m 'bizarre-mantis'\u001b[0m - PrefectFuture('calculate_single_diatomic-64')\n"
      ]
     },
     "metadata": {},
     "output_type": "display_data"
    },
    {
     "data": {
      "text/html": [
       "<pre style=\"white-space:pre;overflow-x:auto;line-height:normal;font-family:Menlo,'DejaVu Sans Mono',consolas,'Courier New',monospace\">23:20:07.022 | <span style=\"color: #008080; text-decoration-color: #008080\">INFO</span>    | Flow run<span style=\"color: #800080; text-decoration-color: #800080\"> 'bizarre-mantis'</span> - Created task run 'calculate_single_diatomic-1' for task 'calculate_single_diatomic'\n",
       "</pre>\n"
      ],
      "text/plain": [
       "23:20:07.022 | \u001b[36mINFO\u001b[0m    | Flow run\u001b[35m 'bizarre-mantis'\u001b[0m - Created task run 'calculate_single_diatomic-1' for task 'calculate_single_diatomic'\n"
      ]
     },
     "metadata": {},
     "output_type": "display_data"
    },
    {
     "data": {
      "text/html": [
       "<pre style=\"white-space:pre;overflow-x:auto;line-height:normal;font-family:Menlo,'DejaVu Sans Mono',consolas,'Courier New',monospace\">23:20:07.027 | <span style=\"color: #008080; text-decoration-color: #008080\">INFO</span>    | Flow run<span style=\"color: #800080; text-decoration-color: #800080\"> 'bizarre-mantis'</span> - Submitted task run 'calculate_single_diatomic-1' for execution.\n",
       "</pre>\n"
      ],
      "text/plain": [
       "23:20:07.027 | \u001b[36mINFO\u001b[0m    | Flow run\u001b[35m 'bizarre-mantis'\u001b[0m - Submitted task run 'calculate_single_diatomic-1' for execution.\n"
      ]
     },
     "metadata": {},
     "output_type": "display_data"
    },
    {
     "data": {
      "text/html": [
       "<pre style=\"white-space:pre;overflow-x:auto;line-height:normal;font-family:Menlo,'DejaVu Sans Mono',consolas,'Courier New',monospace\">23:20:07.033 | <span style=\"color: #008080; text-decoration-color: #008080\">INFO</span>    | Flow run<span style=\"color: #800080; text-decoration-color: #800080\"> 'bizarre-mantis'</span> - PrefectFuture('calculate_single_diatomic-65')\n",
       "</pre>\n"
      ],
      "text/plain": [
       "23:20:07.033 | \u001b[36mINFO\u001b[0m    | Flow run\u001b[35m 'bizarre-mantis'\u001b[0m - PrefectFuture('calculate_single_diatomic-65')\n"
      ]
     },
     "metadata": {},
     "output_type": "display_data"
    },
    {
     "data": {
      "text/html": [
       "<pre style=\"white-space:pre;overflow-x:auto;line-height:normal;font-family:Menlo,'DejaVu Sans Mono',consolas,'Courier New',monospace\">23:20:07.038 | <span style=\"color: #008080; text-decoration-color: #008080\">INFO</span>    | Flow run<span style=\"color: #800080; text-decoration-color: #800080\"> 'bizarre-mantis'</span> - Created task run 'calculate_single_diatomic-2' for task 'calculate_single_diatomic'\n",
       "</pre>\n"
      ],
      "text/plain": [
       "23:20:07.038 | \u001b[36mINFO\u001b[0m    | Flow run\u001b[35m 'bizarre-mantis'\u001b[0m - Created task run 'calculate_single_diatomic-2' for task 'calculate_single_diatomic'\n"
      ]
     },
     "metadata": {},
     "output_type": "display_data"
    },
    {
     "data": {
      "text/html": [
       "<pre style=\"white-space:pre;overflow-x:auto;line-height:normal;font-family:Menlo,'DejaVu Sans Mono',consolas,'Courier New',monospace\">23:20:07.043 | <span style=\"color: #008080; text-decoration-color: #008080\">INFO</span>    | Flow run<span style=\"color: #800080; text-decoration-color: #800080\"> 'bizarre-mantis'</span> - Submitted task run 'calculate_single_diatomic-2' for execution.\n",
       "</pre>\n"
      ],
      "text/plain": [
       "23:20:07.043 | \u001b[36mINFO\u001b[0m    | Flow run\u001b[35m 'bizarre-mantis'\u001b[0m - Submitted task run 'calculate_single_diatomic-2' for execution.\n"
      ]
     },
     "metadata": {},
     "output_type": "display_data"
    },
    {
     "data": {
      "text/html": [
       "<pre style=\"white-space:pre;overflow-x:auto;line-height:normal;font-family:Menlo,'DejaVu Sans Mono',consolas,'Courier New',monospace\">23:20:07.045 | <span style=\"color: #008080; text-decoration-color: #008080\">INFO</span>    | Flow run<span style=\"color: #800080; text-decoration-color: #800080\"> 'bizarre-mantis'</span> - PrefectFuture('calculate_single_diatomic-66')\n",
       "</pre>\n"
      ],
      "text/plain": [
       "23:20:07.045 | \u001b[36mINFO\u001b[0m    | Flow run\u001b[35m 'bizarre-mantis'\u001b[0m - PrefectFuture('calculate_single_diatomic-66')\n"
      ]
     },
     "metadata": {},
     "output_type": "display_data"
    },
    {
     "data": {
      "text/html": [
       "<pre style=\"white-space:pre;overflow-x:auto;line-height:normal;font-family:Menlo,'DejaVu Sans Mono',consolas,'Courier New',monospace\">23:20:07.052 | <span style=\"color: #008080; text-decoration-color: #008080\">INFO</span>    | Flow run<span style=\"color: #800080; text-decoration-color: #800080\"> 'bizarre-mantis'</span> - PrefectFuture('calculate_single_diatomic-67')\n",
       "</pre>\n"
      ],
      "text/plain": [
       "23:20:07.052 | \u001b[36mINFO\u001b[0m    | Flow run\u001b[35m 'bizarre-mantis'\u001b[0m - PrefectFuture('calculate_single_diatomic-67')\n"
      ]
     },
     "metadata": {},
     "output_type": "display_data"
    },
    {
     "data": {
      "text/html": [
       "<pre style=\"white-space:pre;overflow-x:auto;line-height:normal;font-family:Menlo,'DejaVu Sans Mono',consolas,'Courier New',monospace\">23:20:07.059 | <span style=\"color: #008080; text-decoration-color: #008080\">INFO</span>    | Flow run<span style=\"color: #800080; text-decoration-color: #800080\"> 'bizarre-mantis'</span> - PrefectFuture('calculate_single_diatomic-68')\n",
       "</pre>\n"
      ],
      "text/plain": [
       "23:20:07.059 | \u001b[36mINFO\u001b[0m    | Flow run\u001b[35m 'bizarre-mantis'\u001b[0m - PrefectFuture('calculate_single_diatomic-68')\n"
      ]
     },
     "metadata": {},
     "output_type": "display_data"
    },
    {
     "data": {
      "text/html": [
       "<pre style=\"white-space:pre;overflow-x:auto;line-height:normal;font-family:Menlo,'DejaVu Sans Mono',consolas,'Courier New',monospace\">23:20:07.062 | <span style=\"color: #008080; text-decoration-color: #008080\">INFO</span>    | Flow run<span style=\"color: #800080; text-decoration-color: #800080\"> 'bizarre-mantis'</span> - Created task run 'calculate_single_diatomic-3' for task 'calculate_single_diatomic'\n",
       "</pre>\n"
      ],
      "text/plain": [
       "23:20:07.062 | \u001b[36mINFO\u001b[0m    | Flow run\u001b[35m 'bizarre-mantis'\u001b[0m - Created task run 'calculate_single_diatomic-3' for task 'calculate_single_diatomic'\n"
      ]
     },
     "metadata": {},
     "output_type": "display_data"
    },
    {
     "data": {
      "text/html": [
       "<pre style=\"white-space:pre;overflow-x:auto;line-height:normal;font-family:Menlo,'DejaVu Sans Mono',consolas,'Courier New',monospace\">23:20:07.068 | <span style=\"color: #008080; text-decoration-color: #008080\">INFO</span>    | Flow run<span style=\"color: #800080; text-decoration-color: #800080\"> 'bizarre-mantis'</span> - Submitted task run 'calculate_single_diatomic-3' for execution.\n",
       "</pre>\n"
      ],
      "text/plain": [
       "23:20:07.068 | \u001b[36mINFO\u001b[0m    | Flow run\u001b[35m 'bizarre-mantis'\u001b[0m - Submitted task run 'calculate_single_diatomic-3' for execution.\n"
      ]
     },
     "metadata": {},
     "output_type": "display_data"
    },
    {
     "data": {
      "text/html": [
       "<pre style=\"white-space:pre;overflow-x:auto;line-height:normal;font-family:Menlo,'DejaVu Sans Mono',consolas,'Courier New',monospace\">23:20:07.070 | <span style=\"color: #008080; text-decoration-color: #008080\">INFO</span>    | Flow run<span style=\"color: #800080; text-decoration-color: #800080\"> 'bizarre-mantis'</span> - Created task run 'calculate_single_diatomic-4' for task 'calculate_single_diatomic'\n",
       "</pre>\n"
      ],
      "text/plain": [
       "23:20:07.070 | \u001b[36mINFO\u001b[0m    | Flow run\u001b[35m 'bizarre-mantis'\u001b[0m - Created task run 'calculate_single_diatomic-4' for task 'calculate_single_diatomic'\n"
      ]
     },
     "metadata": {},
     "output_type": "display_data"
    },
    {
     "data": {
      "text/html": [
       "<pre style=\"white-space:pre;overflow-x:auto;line-height:normal;font-family:Menlo,'DejaVu Sans Mono',consolas,'Courier New',monospace\">23:20:07.071 | <span style=\"color: #008080; text-decoration-color: #008080\">INFO</span>    | Flow run<span style=\"color: #800080; text-decoration-color: #800080\"> 'bizarre-mantis'</span> - PrefectFuture('calculate_single_diatomic-69')\n",
       "</pre>\n"
      ],
      "text/plain": [
       "23:20:07.071 | \u001b[36mINFO\u001b[0m    | Flow run\u001b[35m 'bizarre-mantis'\u001b[0m - PrefectFuture('calculate_single_diatomic-69')\n"
      ]
     },
     "metadata": {},
     "output_type": "display_data"
    },
    {
     "data": {
      "text/html": [
       "<pre style=\"white-space:pre;overflow-x:auto;line-height:normal;font-family:Menlo,'DejaVu Sans Mono',consolas,'Courier New',monospace\">23:20:07.075 | <span style=\"color: #008080; text-decoration-color: #008080\">INFO</span>    | Flow run<span style=\"color: #800080; text-decoration-color: #800080\"> 'bizarre-mantis'</span> - Submitted task run 'calculate_single_diatomic-4' for execution.\n",
       "</pre>\n"
      ],
      "text/plain": [
       "23:20:07.075 | \u001b[36mINFO\u001b[0m    | Flow run\u001b[35m 'bizarre-mantis'\u001b[0m - Submitted task run 'calculate_single_diatomic-4' for execution.\n"
      ]
     },
     "metadata": {},
     "output_type": "display_data"
    },
    {
     "data": {
      "text/html": [
       "<pre style=\"white-space:pre;overflow-x:auto;line-height:normal;font-family:Menlo,'DejaVu Sans Mono',consolas,'Courier New',monospace\">23:20:07.082 | <span style=\"color: #008080; text-decoration-color: #008080\">INFO</span>    | Flow run<span style=\"color: #800080; text-decoration-color: #800080\"> 'bizarre-mantis'</span> - PrefectFuture('calculate_single_diatomic-70')\n",
       "</pre>\n"
      ],
      "text/plain": [
       "23:20:07.082 | \u001b[36mINFO\u001b[0m    | Flow run\u001b[35m 'bizarre-mantis'\u001b[0m - PrefectFuture('calculate_single_diatomic-70')\n"
      ]
     },
     "metadata": {},
     "output_type": "display_data"
    },
    {
     "data": {
      "text/html": [
       "<pre style=\"white-space:pre;overflow-x:auto;line-height:normal;font-family:Menlo,'DejaVu Sans Mono',consolas,'Courier New',monospace\">23:20:07.087 | <span style=\"color: #008080; text-decoration-color: #008080\">INFO</span>    | Flow run<span style=\"color: #800080; text-decoration-color: #800080\"> 'bizarre-mantis'</span> - Created task run 'calculate_single_diatomic-5' for task 'calculate_single_diatomic'\n",
       "</pre>\n"
      ],
      "text/plain": [
       "23:20:07.087 | \u001b[36mINFO\u001b[0m    | Flow run\u001b[35m 'bizarre-mantis'\u001b[0m - Created task run 'calculate_single_diatomic-5' for task 'calculate_single_diatomic'\n"
      ]
     },
     "metadata": {},
     "output_type": "display_data"
    },
    {
     "data": {
      "text/html": [
       "<pre style=\"white-space:pre;overflow-x:auto;line-height:normal;font-family:Menlo,'DejaVu Sans Mono',consolas,'Courier New',monospace\">23:20:07.093 | <span style=\"color: #008080; text-decoration-color: #008080\">INFO</span>    | Flow run<span style=\"color: #800080; text-decoration-color: #800080\"> 'bizarre-mantis'</span> - Submitted task run 'calculate_single_diatomic-5' for execution.\n",
       "</pre>\n"
      ],
      "text/plain": [
       "23:20:07.093 | \u001b[36mINFO\u001b[0m    | Flow run\u001b[35m 'bizarre-mantis'\u001b[0m - Submitted task run 'calculate_single_diatomic-5' for execution.\n"
      ]
     },
     "metadata": {},
     "output_type": "display_data"
    },
    {
     "data": {
      "text/html": [
       "<pre style=\"white-space:pre;overflow-x:auto;line-height:normal;font-family:Menlo,'DejaVu Sans Mono',consolas,'Courier New',monospace\">23:20:07.096 | <span style=\"color: #008080; text-decoration-color: #008080\">INFO</span>    | Flow run<span style=\"color: #800080; text-decoration-color: #800080\"> 'bizarre-mantis'</span> - PrefectFuture('calculate_single_diatomic-71')\n",
       "</pre>\n"
      ],
      "text/plain": [
       "23:20:07.096 | \u001b[36mINFO\u001b[0m    | Flow run\u001b[35m 'bizarre-mantis'\u001b[0m - PrefectFuture('calculate_single_diatomic-71')\n"
      ]
     },
     "metadata": {},
     "output_type": "display_data"
    },
    {
     "data": {
      "text/html": [
       "<pre style=\"white-space:pre;overflow-x:auto;line-height:normal;font-family:Menlo,'DejaVu Sans Mono',consolas,'Courier New',monospace\">23:20:07.108 | <span style=\"color: #008080; text-decoration-color: #008080\">INFO</span>    | Flow run<span style=\"color: #800080; text-decoration-color: #800080\"> 'bizarre-mantis'</span> - PrefectFuture('calculate_single_diatomic-72')\n",
       "</pre>\n"
      ],
      "text/plain": [
       "23:20:07.108 | \u001b[36mINFO\u001b[0m    | Flow run\u001b[35m 'bizarre-mantis'\u001b[0m - PrefectFuture('calculate_single_diatomic-72')\n"
      ]
     },
     "metadata": {},
     "output_type": "display_data"
    },
    {
     "data": {
      "text/html": [
       "<pre style=\"white-space:pre;overflow-x:auto;line-height:normal;font-family:Menlo,'DejaVu Sans Mono',consolas,'Courier New',monospace\">23:20:07.113 | <span style=\"color: #008080; text-decoration-color: #008080\">INFO</span>    | Flow run<span style=\"color: #800080; text-decoration-color: #800080\"> 'bizarre-mantis'</span> - Created task run 'calculate_single_diatomic-7' for task 'calculate_single_diatomic'\n",
       "</pre>\n"
      ],
      "text/plain": [
       "23:20:07.113 | \u001b[36mINFO\u001b[0m    | Flow run\u001b[35m 'bizarre-mantis'\u001b[0m - Created task run 'calculate_single_diatomic-7' for task 'calculate_single_diatomic'\n"
      ]
     },
     "metadata": {},
     "output_type": "display_data"
    },
    {
     "data": {
      "text/html": [
       "<pre style=\"white-space:pre;overflow-x:auto;line-height:normal;font-family:Menlo,'DejaVu Sans Mono',consolas,'Courier New',monospace\">23:20:07.118 | <span style=\"color: #008080; text-decoration-color: #008080\">INFO</span>    | Flow run<span style=\"color: #800080; text-decoration-color: #800080\"> 'bizarre-mantis'</span> - Submitted task run 'calculate_single_diatomic-7' for execution.\n",
       "</pre>\n"
      ],
      "text/plain": [
       "23:20:07.118 | \u001b[36mINFO\u001b[0m    | Flow run\u001b[35m 'bizarre-mantis'\u001b[0m - Submitted task run 'calculate_single_diatomic-7' for execution.\n"
      ]
     },
     "metadata": {},
     "output_type": "display_data"
    },
    {
     "data": {
      "text/html": [
       "<pre style=\"white-space:pre;overflow-x:auto;line-height:normal;font-family:Menlo,'DejaVu Sans Mono',consolas,'Courier New',monospace\">23:20:07.120 | <span style=\"color: #008080; text-decoration-color: #008080\">INFO</span>    | Flow run<span style=\"color: #800080; text-decoration-color: #800080\"> 'bizarre-mantis'</span> - PrefectFuture('calculate_single_diatomic-73')\n",
       "</pre>\n"
      ],
      "text/plain": [
       "23:20:07.120 | \u001b[36mINFO\u001b[0m    | Flow run\u001b[35m 'bizarre-mantis'\u001b[0m - PrefectFuture('calculate_single_diatomic-73')\n"
      ]
     },
     "metadata": {},
     "output_type": "display_data"
    },
    {
     "data": {
      "text/html": [
       "<pre style=\"white-space:pre;overflow-x:auto;line-height:normal;font-family:Menlo,'DejaVu Sans Mono',consolas,'Courier New',monospace\">23:20:07.125 | <span style=\"color: #008080; text-decoration-color: #008080\">INFO</span>    | Flow run<span style=\"color: #800080; text-decoration-color: #800080\"> 'bizarre-mantis'</span> - Created task run 'calculate_single_diatomic-8' for task 'calculate_single_diatomic'\n",
       "</pre>\n"
      ],
      "text/plain": [
       "23:20:07.125 | \u001b[36mINFO\u001b[0m    | Flow run\u001b[35m 'bizarre-mantis'\u001b[0m - Created task run 'calculate_single_diatomic-8' for task 'calculate_single_diatomic'\n"
      ]
     },
     "metadata": {},
     "output_type": "display_data"
    },
    {
     "data": {
      "text/html": [
       "<pre style=\"white-space:pre;overflow-x:auto;line-height:normal;font-family:Menlo,'DejaVu Sans Mono',consolas,'Courier New',monospace\">23:20:07.130 | <span style=\"color: #008080; text-decoration-color: #008080\">INFO</span>    | Flow run<span style=\"color: #800080; text-decoration-color: #800080\"> 'bizarre-mantis'</span> - Submitted task run 'calculate_single_diatomic-8' for execution.\n",
       "</pre>\n"
      ],
      "text/plain": [
       "23:20:07.130 | \u001b[36mINFO\u001b[0m    | Flow run\u001b[35m 'bizarre-mantis'\u001b[0m - Submitted task run 'calculate_single_diatomic-8' for execution.\n"
      ]
     },
     "metadata": {},
     "output_type": "display_data"
    },
    {
     "data": {
      "text/html": [
       "<pre style=\"white-space:pre;overflow-x:auto;line-height:normal;font-family:Menlo,'DejaVu Sans Mono',consolas,'Courier New',monospace\">23:20:07.133 | <span style=\"color: #008080; text-decoration-color: #008080\">INFO</span>    | Flow run<span style=\"color: #800080; text-decoration-color: #800080\"> 'bizarre-mantis'</span> - PrefectFuture('calculate_single_diatomic-74')\n",
       "</pre>\n"
      ],
      "text/plain": [
       "23:20:07.133 | \u001b[36mINFO\u001b[0m    | Flow run\u001b[35m 'bizarre-mantis'\u001b[0m - PrefectFuture('calculate_single_diatomic-74')\n"
      ]
     },
     "metadata": {},
     "output_type": "display_data"
    },
    {
     "data": {
      "text/html": [
       "<pre style=\"white-space:pre;overflow-x:auto;line-height:normal;font-family:Menlo,'DejaVu Sans Mono',consolas,'Courier New',monospace\">23:20:07.135 | <span style=\"color: #008080; text-decoration-color: #008080\">INFO</span>    | Flow run<span style=\"color: #800080; text-decoration-color: #800080\"> 'bizarre-mantis'</span> - Created task run 'calculate_single_diatomic-9' for task 'calculate_single_diatomic'\n",
       "</pre>\n"
      ],
      "text/plain": [
       "23:20:07.135 | \u001b[36mINFO\u001b[0m    | Flow run\u001b[35m 'bizarre-mantis'\u001b[0m - Created task run 'calculate_single_diatomic-9' for task 'calculate_single_diatomic'\n"
      ]
     },
     "metadata": {},
     "output_type": "display_data"
    },
    {
     "data": {
      "text/html": [
       "<pre style=\"white-space:pre;overflow-x:auto;line-height:normal;font-family:Menlo,'DejaVu Sans Mono',consolas,'Courier New',monospace\">23:20:07.139 | <span style=\"color: #008080; text-decoration-color: #008080\">INFO</span>    | Flow run<span style=\"color: #800080; text-decoration-color: #800080\"> 'bizarre-mantis'</span> - Submitted task run 'calculate_single_diatomic-9' for execution.\n",
       "</pre>\n"
      ],
      "text/plain": [
       "23:20:07.139 | \u001b[36mINFO\u001b[0m    | Flow run\u001b[35m 'bizarre-mantis'\u001b[0m - Submitted task run 'calculate_single_diatomic-9' for execution.\n"
      ]
     },
     "metadata": {},
     "output_type": "display_data"
    },
    {
     "data": {
      "text/html": [
       "<pre style=\"white-space:pre;overflow-x:auto;line-height:normal;font-family:Menlo,'DejaVu Sans Mono',consolas,'Courier New',monospace\">23:20:07.145 | <span style=\"color: #008080; text-decoration-color: #008080\">INFO</span>    | Flow run<span style=\"color: #800080; text-decoration-color: #800080\"> 'bizarre-mantis'</span> - PrefectFuture('calculate_single_diatomic-75')\n",
       "</pre>\n"
      ],
      "text/plain": [
       "23:20:07.145 | \u001b[36mINFO\u001b[0m    | Flow run\u001b[35m 'bizarre-mantis'\u001b[0m - PrefectFuture('calculate_single_diatomic-75')\n"
      ]
     },
     "metadata": {},
     "output_type": "display_data"
    },
    {
     "data": {
      "text/html": [
       "<pre style=\"white-space:pre;overflow-x:auto;line-height:normal;font-family:Menlo,'DejaVu Sans Mono',consolas,'Courier New',monospace\">23:20:07.151 | <span style=\"color: #008080; text-decoration-color: #008080\">INFO</span>    | Flow run<span style=\"color: #800080; text-decoration-color: #800080\"> 'bizarre-mantis'</span> - Created task run 'calculate_single_diatomic-10' for task 'calculate_single_diatomic'\n",
       "</pre>\n"
      ],
      "text/plain": [
       "23:20:07.151 | \u001b[36mINFO\u001b[0m    | Flow run\u001b[35m 'bizarre-mantis'\u001b[0m - Created task run 'calculate_single_diatomic-10' for task 'calculate_single_diatomic'\n"
      ]
     },
     "metadata": {},
     "output_type": "display_data"
    },
    {
     "data": {
      "text/html": [
       "<pre style=\"white-space:pre;overflow-x:auto;line-height:normal;font-family:Menlo,'DejaVu Sans Mono',consolas,'Courier New',monospace\">23:20:07.155 | <span style=\"color: #008080; text-decoration-color: #008080\">INFO</span>    | Flow run<span style=\"color: #800080; text-decoration-color: #800080\"> 'bizarre-mantis'</span> - Submitted task run 'calculate_single_diatomic-10' for execution.\n",
       "</pre>\n"
      ],
      "text/plain": [
       "23:20:07.155 | \u001b[36mINFO\u001b[0m    | Flow run\u001b[35m 'bizarre-mantis'\u001b[0m - Submitted task run 'calculate_single_diatomic-10' for execution.\n"
      ]
     },
     "metadata": {},
     "output_type": "display_data"
    },
    {
     "data": {
      "text/html": [
       "<pre style=\"white-space:pre;overflow-x:auto;line-height:normal;font-family:Menlo,'DejaVu Sans Mono',consolas,'Courier New',monospace\">23:20:07.156 | <span style=\"color: #008080; text-decoration-color: #008080\">INFO</span>    | Flow run<span style=\"color: #800080; text-decoration-color: #800080\"> 'bizarre-mantis'</span> - PrefectFuture('calculate_single_diatomic-76')\n",
       "</pre>\n"
      ],
      "text/plain": [
       "23:20:07.156 | \u001b[36mINFO\u001b[0m    | Flow run\u001b[35m 'bizarre-mantis'\u001b[0m - PrefectFuture('calculate_single_diatomic-76')\n"
      ]
     },
     "metadata": {},
     "output_type": "display_data"
    },
    {
     "data": {
      "text/html": [
       "<pre style=\"white-space:pre;overflow-x:auto;line-height:normal;font-family:Menlo,'DejaVu Sans Mono',consolas,'Courier New',monospace\">23:20:07.162 | <span style=\"color: #008080; text-decoration-color: #008080\">INFO</span>    | Flow run<span style=\"color: #800080; text-decoration-color: #800080\"> 'bizarre-mantis'</span> - Created task run 'calculate_single_diatomic-11' for task 'calculate_single_diatomic'\n",
       "</pre>\n"
      ],
      "text/plain": [
       "23:20:07.162 | \u001b[36mINFO\u001b[0m    | Flow run\u001b[35m 'bizarre-mantis'\u001b[0m - Created task run 'calculate_single_diatomic-11' for task 'calculate_single_diatomic'\n"
      ]
     },
     "metadata": {},
     "output_type": "display_data"
    },
    {
     "data": {
      "text/html": [
       "<pre style=\"white-space:pre;overflow-x:auto;line-height:normal;font-family:Menlo,'DejaVu Sans Mono',consolas,'Courier New',monospace\">23:20:07.166 | <span style=\"color: #008080; text-decoration-color: #008080\">INFO</span>    | Flow run<span style=\"color: #800080; text-decoration-color: #800080\"> 'bizarre-mantis'</span> - Submitted task run 'calculate_single_diatomic-11' for execution.\n",
       "</pre>\n"
      ],
      "text/plain": [
       "23:20:07.166 | \u001b[36mINFO\u001b[0m    | Flow run\u001b[35m 'bizarre-mantis'\u001b[0m - Submitted task run 'calculate_single_diatomic-11' for execution.\n"
      ]
     },
     "metadata": {},
     "output_type": "display_data"
    },
    {
     "data": {
      "text/html": [
       "<pre style=\"white-space:pre;overflow-x:auto;line-height:normal;font-family:Menlo,'DejaVu Sans Mono',consolas,'Courier New',monospace\">23:20:07.168 | <span style=\"color: #008080; text-decoration-color: #008080\">INFO</span>    | Flow run<span style=\"color: #800080; text-decoration-color: #800080\"> 'bizarre-mantis'</span> - PrefectFuture('calculate_single_diatomic-77')\n",
       "</pre>\n"
      ],
      "text/plain": [
       "23:20:07.168 | \u001b[36mINFO\u001b[0m    | Flow run\u001b[35m 'bizarre-mantis'\u001b[0m - PrefectFuture('calculate_single_diatomic-77')\n"
      ]
     },
     "metadata": {},
     "output_type": "display_data"
    },
    {
     "data": {
      "text/html": [
       "<pre style=\"white-space:pre;overflow-x:auto;line-height:normal;font-family:Menlo,'DejaVu Sans Mono',consolas,'Courier New',monospace\">23:20:07.170 | <span style=\"color: #008080; text-decoration-color: #008080\">INFO</span>    | Flow run<span style=\"color: #800080; text-decoration-color: #800080\"> 'bizarre-mantis'</span> - Created task run 'calculate_single_diatomic-12' for task 'calculate_single_diatomic'\n",
       "</pre>\n"
      ],
      "text/plain": [
       "23:20:07.170 | \u001b[36mINFO\u001b[0m    | Flow run\u001b[35m 'bizarre-mantis'\u001b[0m - Created task run 'calculate_single_diatomic-12' for task 'calculate_single_diatomic'\n"
      ]
     },
     "metadata": {},
     "output_type": "display_data"
    },
    {
     "data": {
      "text/html": [
       "<pre style=\"white-space:pre;overflow-x:auto;line-height:normal;font-family:Menlo,'DejaVu Sans Mono',consolas,'Courier New',monospace\">23:20:07.175 | <span style=\"color: #008080; text-decoration-color: #008080\">INFO</span>    | Flow run<span style=\"color: #800080; text-decoration-color: #800080\"> 'bizarre-mantis'</span> - Submitted task run 'calculate_single_diatomic-12' for execution.\n",
       "</pre>\n"
      ],
      "text/plain": [
       "23:20:07.175 | \u001b[36mINFO\u001b[0m    | Flow run\u001b[35m 'bizarre-mantis'\u001b[0m - Submitted task run 'calculate_single_diatomic-12' for execution.\n"
      ]
     },
     "metadata": {},
     "output_type": "display_data"
    },
    {
     "data": {
      "text/html": [
       "<pre style=\"white-space:pre;overflow-x:auto;line-height:normal;font-family:Menlo,'DejaVu Sans Mono',consolas,'Courier New',monospace\">23:20:07.178 | <span style=\"color: #008080; text-decoration-color: #008080\">INFO</span>    | Flow run<span style=\"color: #800080; text-decoration-color: #800080\"> 'bizarre-mantis'</span> - PrefectFuture('calculate_single_diatomic-78')\n",
       "</pre>\n"
      ],
      "text/plain": [
       "23:20:07.178 | \u001b[36mINFO\u001b[0m    | Flow run\u001b[35m 'bizarre-mantis'\u001b[0m - PrefectFuture('calculate_single_diatomic-78')\n"
      ]
     },
     "metadata": {},
     "output_type": "display_data"
    },
    {
     "data": {
      "text/html": [
       "<pre style=\"white-space:pre;overflow-x:auto;line-height:normal;font-family:Menlo,'DejaVu Sans Mono',consolas,'Courier New',monospace\">23:20:07.184 | <span style=\"color: #008080; text-decoration-color: #008080\">INFO</span>    | Flow run<span style=\"color: #800080; text-decoration-color: #800080\"> 'bizarre-mantis'</span> - Created task run 'calculate_single_diatomic-13' for task 'calculate_single_diatomic'\n",
       "</pre>\n"
      ],
      "text/plain": [
       "23:20:07.184 | \u001b[36mINFO\u001b[0m    | Flow run\u001b[35m 'bizarre-mantis'\u001b[0m - Created task run 'calculate_single_diatomic-13' for task 'calculate_single_diatomic'\n"
      ]
     },
     "metadata": {},
     "output_type": "display_data"
    },
    {
     "data": {
      "text/html": [
       "<pre style=\"white-space:pre;overflow-x:auto;line-height:normal;font-family:Menlo,'DejaVu Sans Mono',consolas,'Courier New',monospace\">23:20:07.189 | <span style=\"color: #008080; text-decoration-color: #008080\">INFO</span>    | Flow run<span style=\"color: #800080; text-decoration-color: #800080\"> 'bizarre-mantis'</span> - Submitted task run 'calculate_single_diatomic-13' for execution.\n",
       "</pre>\n"
      ],
      "text/plain": [
       "23:20:07.189 | \u001b[36mINFO\u001b[0m    | Flow run\u001b[35m 'bizarre-mantis'\u001b[0m - Submitted task run 'calculate_single_diatomic-13' for execution.\n"
      ]
     },
     "metadata": {},
     "output_type": "display_data"
    },
    {
     "data": {
      "text/html": [
       "<pre style=\"white-space:pre;overflow-x:auto;line-height:normal;font-family:Menlo,'DejaVu Sans Mono',consolas,'Courier New',monospace\">23:20:07.191 | <span style=\"color: #008080; text-decoration-color: #008080\">INFO</span>    | Flow run<span style=\"color: #800080; text-decoration-color: #800080\"> 'bizarre-mantis'</span> - PrefectFuture('calculate_single_diatomic-79')\n",
       "</pre>\n"
      ],
      "text/plain": [
       "23:20:07.191 | \u001b[36mINFO\u001b[0m    | Flow run\u001b[35m 'bizarre-mantis'\u001b[0m - PrefectFuture('calculate_single_diatomic-79')\n"
      ]
     },
     "metadata": {},
     "output_type": "display_data"
    },
    {
     "data": {
      "text/html": [
       "<pre style=\"white-space:pre;overflow-x:auto;line-height:normal;font-family:Menlo,'DejaVu Sans Mono',consolas,'Courier New',monospace\">23:20:07.198 | <span style=\"color: #008080; text-decoration-color: #008080\">INFO</span>    | Flow run<span style=\"color: #800080; text-decoration-color: #800080\"> 'bizarre-mantis'</span> - PrefectFuture('calculate_single_diatomic-80')\n",
       "</pre>\n"
      ],
      "text/plain": [
       "23:20:07.198 | \u001b[36mINFO\u001b[0m    | Flow run\u001b[35m 'bizarre-mantis'\u001b[0m - PrefectFuture('calculate_single_diatomic-80')\n"
      ]
     },
     "metadata": {},
     "output_type": "display_data"
    },
    {
     "data": {
      "text/html": [
       "<pre style=\"white-space:pre;overflow-x:auto;line-height:normal;font-family:Menlo,'DejaVu Sans Mono',consolas,'Courier New',monospace\">23:20:07.203 | <span style=\"color: #008080; text-decoration-color: #008080\">INFO</span>    | Flow run<span style=\"color: #800080; text-decoration-color: #800080\"> 'bizarre-mantis'</span> - PrefectFuture('calculate_single_diatomic-81')\n",
       "</pre>\n"
      ],
      "text/plain": [
       "23:20:07.203 | \u001b[36mINFO\u001b[0m    | Flow run\u001b[35m 'bizarre-mantis'\u001b[0m - PrefectFuture('calculate_single_diatomic-81')\n"
      ]
     },
     "metadata": {},
     "output_type": "display_data"
    },
    {
     "data": {
      "text/html": [
       "<pre style=\"white-space:pre;overflow-x:auto;line-height:normal;font-family:Menlo,'DejaVu Sans Mono',consolas,'Courier New',monospace\">23:20:07.207 | <span style=\"color: #008080; text-decoration-color: #008080\">INFO</span>    | Flow run<span style=\"color: #800080; text-decoration-color: #800080\"> 'bizarre-mantis'</span> - Created task run 'calculate_single_diatomic-16' for task 'calculate_single_diatomic'\n",
       "</pre>\n"
      ],
      "text/plain": [
       "23:20:07.207 | \u001b[36mINFO\u001b[0m    | Flow run\u001b[35m 'bizarre-mantis'\u001b[0m - Created task run 'calculate_single_diatomic-16' for task 'calculate_single_diatomic'\n"
      ]
     },
     "metadata": {},
     "output_type": "display_data"
    },
    {
     "data": {
      "text/html": [
       "<pre style=\"white-space:pre;overflow-x:auto;line-height:normal;font-family:Menlo,'DejaVu Sans Mono',consolas,'Courier New',monospace\">23:20:07.211 | <span style=\"color: #008080; text-decoration-color: #008080\">INFO</span>    | Flow run<span style=\"color: #800080; text-decoration-color: #800080\"> 'bizarre-mantis'</span> - Submitted task run 'calculate_single_diatomic-16' for execution.\n",
       "</pre>\n"
      ],
      "text/plain": [
       "23:20:07.211 | \u001b[36mINFO\u001b[0m    | Flow run\u001b[35m 'bizarre-mantis'\u001b[0m - Submitted task run 'calculate_single_diatomic-16' for execution.\n"
      ]
     },
     "metadata": {},
     "output_type": "display_data"
    },
    {
     "data": {
      "text/html": [
       "<pre style=\"white-space:pre;overflow-x:auto;line-height:normal;font-family:Menlo,'DejaVu Sans Mono',consolas,'Courier New',monospace\">23:20:07.213 | <span style=\"color: #008080; text-decoration-color: #008080\">INFO</span>    | Flow run<span style=\"color: #800080; text-decoration-color: #800080\"> 'bizarre-mantis'</span> - PrefectFuture('calculate_single_diatomic-82')\n",
       "</pre>\n"
      ],
      "text/plain": [
       "23:20:07.213 | \u001b[36mINFO\u001b[0m    | Flow run\u001b[35m 'bizarre-mantis'\u001b[0m - PrefectFuture('calculate_single_diatomic-82')\n"
      ]
     },
     "metadata": {},
     "output_type": "display_data"
    },
    {
     "data": {
      "text/html": [
       "<pre style=\"white-space:pre;overflow-x:auto;line-height:normal;font-family:Menlo,'DejaVu Sans Mono',consolas,'Courier New',monospace\">23:20:07.219 | <span style=\"color: #008080; text-decoration-color: #008080\">INFO</span>    | Flow run<span style=\"color: #800080; text-decoration-color: #800080\"> 'bizarre-mantis'</span> - Created task run 'calculate_single_diatomic-17' for task 'calculate_single_diatomic'\n",
       "</pre>\n"
      ],
      "text/plain": [
       "23:20:07.219 | \u001b[36mINFO\u001b[0m    | Flow run\u001b[35m 'bizarre-mantis'\u001b[0m - Created task run 'calculate_single_diatomic-17' for task 'calculate_single_diatomic'\n"
      ]
     },
     "metadata": {},
     "output_type": "display_data"
    },
    {
     "data": {
      "text/html": [
       "<pre style=\"white-space:pre;overflow-x:auto;line-height:normal;font-family:Menlo,'DejaVu Sans Mono',consolas,'Courier New',monospace\">23:20:07.224 | <span style=\"color: #008080; text-decoration-color: #008080\">INFO</span>    | Flow run<span style=\"color: #800080; text-decoration-color: #800080\"> 'bizarre-mantis'</span> - Submitted task run 'calculate_single_diatomic-17' for execution.\n",
       "</pre>\n"
      ],
      "text/plain": [
       "23:20:07.224 | \u001b[36mINFO\u001b[0m    | Flow run\u001b[35m 'bizarre-mantis'\u001b[0m - Submitted task run 'calculate_single_diatomic-17' for execution.\n"
      ]
     },
     "metadata": {},
     "output_type": "display_data"
    },
    {
     "data": {
      "text/html": [
       "<pre style=\"white-space:pre;overflow-x:auto;line-height:normal;font-family:Menlo,'DejaVu Sans Mono',consolas,'Courier New',monospace\">23:20:07.227 | <span style=\"color: #008080; text-decoration-color: #008080\">INFO</span>    | Flow run<span style=\"color: #800080; text-decoration-color: #800080\"> 'bizarre-mantis'</span> - PrefectFuture('calculate_single_diatomic-83')\n",
       "</pre>\n"
      ],
      "text/plain": [
       "23:20:07.227 | \u001b[36mINFO\u001b[0m    | Flow run\u001b[35m 'bizarre-mantis'\u001b[0m - PrefectFuture('calculate_single_diatomic-83')\n"
      ]
     },
     "metadata": {},
     "output_type": "display_data"
    },
    {
     "data": {
      "text/html": [
       "<pre style=\"white-space:pre;overflow-x:auto;line-height:normal;font-family:Menlo,'DejaVu Sans Mono',consolas,'Courier New',monospace\">23:20:07.232 | <span style=\"color: #008080; text-decoration-color: #008080\">INFO</span>    | Flow run<span style=\"color: #800080; text-decoration-color: #800080\"> 'bizarre-mantis'</span> - Created task run 'calculate_single_diatomic-18' for task 'calculate_single_diatomic'\n",
       "</pre>\n"
      ],
      "text/plain": [
       "23:20:07.232 | \u001b[36mINFO\u001b[0m    | Flow run\u001b[35m 'bizarre-mantis'\u001b[0m - Created task run 'calculate_single_diatomic-18' for task 'calculate_single_diatomic'\n"
      ]
     },
     "metadata": {},
     "output_type": "display_data"
    },
    {
     "data": {
      "text/html": [
       "<pre style=\"white-space:pre;overflow-x:auto;line-height:normal;font-family:Menlo,'DejaVu Sans Mono',consolas,'Courier New',monospace\">23:20:07.237 | <span style=\"color: #008080; text-decoration-color: #008080\">INFO</span>    | Flow run<span style=\"color: #800080; text-decoration-color: #800080\"> 'bizarre-mantis'</span> - Submitted task run 'calculate_single_diatomic-18' for execution.\n",
       "</pre>\n"
      ],
      "text/plain": [
       "23:20:07.237 | \u001b[36mINFO\u001b[0m    | Flow run\u001b[35m 'bizarre-mantis'\u001b[0m - Submitted task run 'calculate_single_diatomic-18' for execution.\n"
      ]
     },
     "metadata": {},
     "output_type": "display_data"
    },
    {
     "data": {
      "text/html": [
       "<pre style=\"white-space:pre;overflow-x:auto;line-height:normal;font-family:Menlo,'DejaVu Sans Mono',consolas,'Courier New',monospace\">23:20:07.240 | <span style=\"color: #008080; text-decoration-color: #008080\">INFO</span>    | Flow run<span style=\"color: #800080; text-decoration-color: #800080\"> 'bizarre-mantis'</span> - PrefectFuture('calculate_single_diatomic-84')\n",
       "</pre>\n"
      ],
      "text/plain": [
       "23:20:07.240 | \u001b[36mINFO\u001b[0m    | Flow run\u001b[35m 'bizarre-mantis'\u001b[0m - PrefectFuture('calculate_single_diatomic-84')\n"
      ]
     },
     "metadata": {},
     "output_type": "display_data"
    },
    {
     "data": {
      "text/html": [
       "<pre style=\"white-space:pre;overflow-x:auto;line-height:normal;font-family:Menlo,'DejaVu Sans Mono',consolas,'Courier New',monospace\">23:20:07.246 | <span style=\"color: #008080; text-decoration-color: #008080\">INFO</span>    | Flow run<span style=\"color: #800080; text-decoration-color: #800080\"> 'bizarre-mantis'</span> - PrefectFuture('calculate_single_diatomic-85')\n",
       "</pre>\n"
      ],
      "text/plain": [
       "23:20:07.246 | \u001b[36mINFO\u001b[0m    | Flow run\u001b[35m 'bizarre-mantis'\u001b[0m - PrefectFuture('calculate_single_diatomic-85')\n"
      ]
     },
     "metadata": {},
     "output_type": "display_data"
    },
    {
     "data": {
      "text/html": [
       "<pre style=\"white-space:pre;overflow-x:auto;line-height:normal;font-family:Menlo,'DejaVu Sans Mono',consolas,'Courier New',monospace\">23:20:07.248 | <span style=\"color: #008080; text-decoration-color: #008080\">INFO</span>    | Flow run<span style=\"color: #800080; text-decoration-color: #800080\"> 'bizarre-mantis'</span> - Created task run 'calculate_single_diatomic-19' for task 'calculate_single_diatomic'\n",
       "</pre>\n"
      ],
      "text/plain": [
       "23:20:07.248 | \u001b[36mINFO\u001b[0m    | Flow run\u001b[35m 'bizarre-mantis'\u001b[0m - Created task run 'calculate_single_diatomic-19' for task 'calculate_single_diatomic'\n"
      ]
     },
     "metadata": {},
     "output_type": "display_data"
    },
    {
     "data": {
      "text/html": [
       "<pre style=\"white-space:pre;overflow-x:auto;line-height:normal;font-family:Menlo,'DejaVu Sans Mono',consolas,'Courier New',monospace\">23:20:07.254 | <span style=\"color: #008080; text-decoration-color: #008080\">INFO</span>    | Flow run<span style=\"color: #800080; text-decoration-color: #800080\"> 'bizarre-mantis'</span> - Submitted task run 'calculate_single_diatomic-19' for execution.\n",
       "</pre>\n"
      ],
      "text/plain": [
       "23:20:07.254 | \u001b[36mINFO\u001b[0m    | Flow run\u001b[35m 'bizarre-mantis'\u001b[0m - Submitted task run 'calculate_single_diatomic-19' for execution.\n"
      ]
     },
     "metadata": {},
     "output_type": "display_data"
    },
    {
     "data": {
      "text/html": [
       "<pre style=\"white-space:pre;overflow-x:auto;line-height:normal;font-family:Menlo,'DejaVu Sans Mono',consolas,'Courier New',monospace\">23:20:07.256 | <span style=\"color: #008080; text-decoration-color: #008080\">INFO</span>    | Flow run<span style=\"color: #800080; text-decoration-color: #800080\"> 'bizarre-mantis'</span> - PrefectFuture('calculate_single_diatomic-86')\n",
       "</pre>\n"
      ],
      "text/plain": [
       "23:20:07.256 | \u001b[36mINFO\u001b[0m    | Flow run\u001b[35m 'bizarre-mantis'\u001b[0m - PrefectFuture('calculate_single_diatomic-86')\n"
      ]
     },
     "metadata": {},
     "output_type": "display_data"
    },
    {
     "data": {
      "text/html": [
       "<pre style=\"white-space:pre;overflow-x:auto;line-height:normal;font-family:Menlo,'DejaVu Sans Mono',consolas,'Courier New',monospace\">23:20:07.261 | <span style=\"color: #008080; text-decoration-color: #008080\">INFO</span>    | Flow run<span style=\"color: #800080; text-decoration-color: #800080\"> 'bizarre-mantis'</span> - Created task run 'calculate_single_diatomic-20' for task 'calculate_single_diatomic'\n",
       "</pre>\n"
      ],
      "text/plain": [
       "23:20:07.261 | \u001b[36mINFO\u001b[0m    | Flow run\u001b[35m 'bizarre-mantis'\u001b[0m - Created task run 'calculate_single_diatomic-20' for task 'calculate_single_diatomic'\n"
      ]
     },
     "metadata": {},
     "output_type": "display_data"
    },
    {
     "data": {
      "text/html": [
       "<pre style=\"white-space:pre;overflow-x:auto;line-height:normal;font-family:Menlo,'DejaVu Sans Mono',consolas,'Courier New',monospace\">23:20:07.266 | <span style=\"color: #008080; text-decoration-color: #008080\">INFO</span>    | Flow run<span style=\"color: #800080; text-decoration-color: #800080\"> 'bizarre-mantis'</span> - Submitted task run 'calculate_single_diatomic-20' for execution.\n",
       "</pre>\n"
      ],
      "text/plain": [
       "23:20:07.266 | \u001b[36mINFO\u001b[0m    | Flow run\u001b[35m 'bizarre-mantis'\u001b[0m - Submitted task run 'calculate_single_diatomic-20' for execution.\n"
      ]
     },
     "metadata": {},
     "output_type": "display_data"
    },
    {
     "data": {
      "text/html": [
       "<pre style=\"white-space:pre;overflow-x:auto;line-height:normal;font-family:Menlo,'DejaVu Sans Mono',consolas,'Courier New',monospace\">23:20:07.270 | <span style=\"color: #008080; text-decoration-color: #008080\">INFO</span>    | Flow run<span style=\"color: #800080; text-decoration-color: #800080\"> 'bizarre-mantis'</span> - PrefectFuture('calculate_single_diatomic-87')\n",
       "</pre>\n"
      ],
      "text/plain": [
       "23:20:07.270 | \u001b[36mINFO\u001b[0m    | Flow run\u001b[35m 'bizarre-mantis'\u001b[0m - PrefectFuture('calculate_single_diatomic-87')\n"
      ]
     },
     "metadata": {},
     "output_type": "display_data"
    },
    {
     "data": {
      "text/html": [
       "<pre style=\"white-space:pre;overflow-x:auto;line-height:normal;font-family:Menlo,'DejaVu Sans Mono',consolas,'Courier New',monospace\">23:20:07.274 | <span style=\"color: #008080; text-decoration-color: #008080\">INFO</span>    | Flow run<span style=\"color: #800080; text-decoration-color: #800080\"> 'bizarre-mantis'</span> - Created task run 'calculate_single_diatomic-21' for task 'calculate_single_diatomic'\n",
       "</pre>\n"
      ],
      "text/plain": [
       "23:20:07.274 | \u001b[36mINFO\u001b[0m    | Flow run\u001b[35m 'bizarre-mantis'\u001b[0m - Created task run 'calculate_single_diatomic-21' for task 'calculate_single_diatomic'\n"
      ]
     },
     "metadata": {},
     "output_type": "display_data"
    },
    {
     "data": {
      "text/html": [
       "<pre style=\"white-space:pre;overflow-x:auto;line-height:normal;font-family:Menlo,'DejaVu Sans Mono',consolas,'Courier New',monospace\">23:20:07.280 | <span style=\"color: #008080; text-decoration-color: #008080\">INFO</span>    | Flow run<span style=\"color: #800080; text-decoration-color: #800080\"> 'bizarre-mantis'</span> - Submitted task run 'calculate_single_diatomic-21' for execution.\n",
       "</pre>\n"
      ],
      "text/plain": [
       "23:20:07.280 | \u001b[36mINFO\u001b[0m    | Flow run\u001b[35m 'bizarre-mantis'\u001b[0m - Submitted task run 'calculate_single_diatomic-21' for execution.\n"
      ]
     },
     "metadata": {},
     "output_type": "display_data"
    },
    {
     "data": {
      "text/html": [
       "<pre style=\"white-space:pre;overflow-x:auto;line-height:normal;font-family:Menlo,'DejaVu Sans Mono',consolas,'Courier New',monospace\">23:20:07.282 | <span style=\"color: #008080; text-decoration-color: #008080\">INFO</span>    | Flow run<span style=\"color: #800080; text-decoration-color: #800080\"> 'bizarre-mantis'</span> - PrefectFuture('calculate_single_diatomic-88')\n",
       "</pre>\n"
      ],
      "text/plain": [
       "23:20:07.282 | \u001b[36mINFO\u001b[0m    | Flow run\u001b[35m 'bizarre-mantis'\u001b[0m - PrefectFuture('calculate_single_diatomic-88')\n"
      ]
     },
     "metadata": {},
     "output_type": "display_data"
    },
    {
     "data": {
      "text/html": [
       "<pre style=\"white-space:pre;overflow-x:auto;line-height:normal;font-family:Menlo,'DejaVu Sans Mono',consolas,'Courier New',monospace\">23:20:07.287 | <span style=\"color: #008080; text-decoration-color: #008080\">INFO</span>    | Flow run<span style=\"color: #800080; text-decoration-color: #800080\"> 'bizarre-mantis'</span> - Created task run 'calculate_single_diatomic-22' for task 'calculate_single_diatomic'\n",
       "</pre>\n"
      ],
      "text/plain": [
       "23:20:07.287 | \u001b[36mINFO\u001b[0m    | Flow run\u001b[35m 'bizarre-mantis'\u001b[0m - Created task run 'calculate_single_diatomic-22' for task 'calculate_single_diatomic'\n"
      ]
     },
     "metadata": {},
     "output_type": "display_data"
    },
    {
     "data": {
      "text/html": [
       "<pre style=\"white-space:pre;overflow-x:auto;line-height:normal;font-family:Menlo,'DejaVu Sans Mono',consolas,'Courier New',monospace\">23:20:07.292 | <span style=\"color: #008080; text-decoration-color: #008080\">INFO</span>    | Flow run<span style=\"color: #800080; text-decoration-color: #800080\"> 'bizarre-mantis'</span> - Submitted task run 'calculate_single_diatomic-22' for execution.\n",
       "</pre>\n"
      ],
      "text/plain": [
       "23:20:07.292 | \u001b[36mINFO\u001b[0m    | Flow run\u001b[35m 'bizarre-mantis'\u001b[0m - Submitted task run 'calculate_single_diatomic-22' for execution.\n"
      ]
     },
     "metadata": {},
     "output_type": "display_data"
    },
    {
     "data": {
      "text/html": [
       "<pre style=\"white-space:pre;overflow-x:auto;line-height:normal;font-family:Menlo,'DejaVu Sans Mono',consolas,'Courier New',monospace\">23:20:07.298 | <span style=\"color: #008080; text-decoration-color: #008080\">INFO</span>    | Flow run<span style=\"color: #800080; text-decoration-color: #800080\"> 'bizarre-mantis'</span> - PrefectFuture('calculate_single_diatomic-89')\n",
       "</pre>\n"
      ],
      "text/plain": [
       "23:20:07.298 | \u001b[36mINFO\u001b[0m    | Flow run\u001b[35m 'bizarre-mantis'\u001b[0m - PrefectFuture('calculate_single_diatomic-89')\n"
      ]
     },
     "metadata": {},
     "output_type": "display_data"
    },
    {
     "data": {
      "text/html": [
       "<pre style=\"white-space:pre;overflow-x:auto;line-height:normal;font-family:Menlo,'DejaVu Sans Mono',consolas,'Courier New',monospace\">23:20:07.307 | <span style=\"color: #008080; text-decoration-color: #008080\">INFO</span>    | Flow run<span style=\"color: #800080; text-decoration-color: #800080\"> 'bizarre-mantis'</span> - PrefectFuture('calculate_single_diatomic-90')\n",
       "</pre>\n"
      ],
      "text/plain": [
       "23:20:07.307 | \u001b[36mINFO\u001b[0m    | Flow run\u001b[35m 'bizarre-mantis'\u001b[0m - PrefectFuture('calculate_single_diatomic-90')\n"
      ]
     },
     "metadata": {},
     "output_type": "display_data"
    },
    {
     "data": {
      "text/html": [
       "<pre style=\"white-space:pre;overflow-x:auto;line-height:normal;font-family:Menlo,'DejaVu Sans Mono',consolas,'Courier New',monospace\">23:20:07.309 | <span style=\"color: #008080; text-decoration-color: #008080\">INFO</span>    | Flow run<span style=\"color: #800080; text-decoration-color: #800080\"> 'bizarre-mantis'</span> - Created task run 'calculate_single_diatomic-23' for task 'calculate_single_diatomic'\n",
       "</pre>\n"
      ],
      "text/plain": [
       "23:20:07.309 | \u001b[36mINFO\u001b[0m    | Flow run\u001b[35m 'bizarre-mantis'\u001b[0m - Created task run 'calculate_single_diatomic-23' for task 'calculate_single_diatomic'\n"
      ]
     },
     "metadata": {},
     "output_type": "display_data"
    },
    {
     "data": {
      "text/html": [
       "<pre style=\"white-space:pre;overflow-x:auto;line-height:normal;font-family:Menlo,'DejaVu Sans Mono',consolas,'Courier New',monospace\">23:20:07.315 | <span style=\"color: #008080; text-decoration-color: #008080\">INFO</span>    | Flow run<span style=\"color: #800080; text-decoration-color: #800080\"> 'bizarre-mantis'</span> - Submitted task run 'calculate_single_diatomic-23' for execution.\n",
       "</pre>\n"
      ],
      "text/plain": [
       "23:20:07.315 | \u001b[36mINFO\u001b[0m    | Flow run\u001b[35m 'bizarre-mantis'\u001b[0m - Submitted task run 'calculate_single_diatomic-23' for execution.\n"
      ]
     },
     "metadata": {},
     "output_type": "display_data"
    },
    {
     "data": {
      "text/html": [
       "<pre style=\"white-space:pre;overflow-x:auto;line-height:normal;font-family:Menlo,'DejaVu Sans Mono',consolas,'Courier New',monospace\">23:20:07.317 | <span style=\"color: #008080; text-decoration-color: #008080\">INFO</span>    | Flow run<span style=\"color: #800080; text-decoration-color: #800080\"> 'bizarre-mantis'</span> - PrefectFuture('calculate_single_diatomic-91')\n",
       "</pre>\n"
      ],
      "text/plain": [
       "23:20:07.317 | \u001b[36mINFO\u001b[0m    | Flow run\u001b[35m 'bizarre-mantis'\u001b[0m - PrefectFuture('calculate_single_diatomic-91')\n"
      ]
     },
     "metadata": {},
     "output_type": "display_data"
    },
    {
     "data": {
      "text/html": [
       "<pre style=\"white-space:pre;overflow-x:auto;line-height:normal;font-family:Menlo,'DejaVu Sans Mono',consolas,'Courier New',monospace\">23:20:07.325 | <span style=\"color: #008080; text-decoration-color: #008080\">INFO</span>    | Flow run<span style=\"color: #800080; text-decoration-color: #800080\"> 'bizarre-mantis'</span> - PrefectFuture('calculate_single_diatomic-92')\n",
       "</pre>\n"
      ],
      "text/plain": [
       "23:20:07.325 | \u001b[36mINFO\u001b[0m    | Flow run\u001b[35m 'bizarre-mantis'\u001b[0m - PrefectFuture('calculate_single_diatomic-92')\n"
      ]
     },
     "metadata": {},
     "output_type": "display_data"
    },
    {
     "data": {
      "text/html": [
       "<pre style=\"white-space:pre;overflow-x:auto;line-height:normal;font-family:Menlo,'DejaVu Sans Mono',consolas,'Courier New',monospace\">23:20:07.329 | <span style=\"color: #008080; text-decoration-color: #008080\">INFO</span>    | Flow run<span style=\"color: #800080; text-decoration-color: #800080\"> 'bizarre-mantis'</span> - Created task run 'calculate_single_diatomic-24' for task 'calculate_single_diatomic'\n",
       "</pre>\n"
      ],
      "text/plain": [
       "23:20:07.329 | \u001b[36mINFO\u001b[0m    | Flow run\u001b[35m 'bizarre-mantis'\u001b[0m - Created task run 'calculate_single_diatomic-24' for task 'calculate_single_diatomic'\n"
      ]
     },
     "metadata": {},
     "output_type": "display_data"
    },
    {
     "data": {
      "text/html": [
       "<pre style=\"white-space:pre;overflow-x:auto;line-height:normal;font-family:Menlo,'DejaVu Sans Mono',consolas,'Courier New',monospace\">23:20:07.334 | <span style=\"color: #008080; text-decoration-color: #008080\">INFO</span>    | Flow run<span style=\"color: #800080; text-decoration-color: #800080\"> 'bizarre-mantis'</span> - Submitted task run 'calculate_single_diatomic-24' for execution.\n",
       "</pre>\n"
      ],
      "text/plain": [
       "23:20:07.334 | \u001b[36mINFO\u001b[0m    | Flow run\u001b[35m 'bizarre-mantis'\u001b[0m - Submitted task run 'calculate_single_diatomic-24' for execution.\n"
      ]
     },
     "metadata": {},
     "output_type": "display_data"
    },
    {
     "data": {
      "text/html": [
       "<pre style=\"white-space:pre;overflow-x:auto;line-height:normal;font-family:Menlo,'DejaVu Sans Mono',consolas,'Courier New',monospace\">23:20:07.336 | <span style=\"color: #008080; text-decoration-color: #008080\">INFO</span>    | Flow run<span style=\"color: #800080; text-decoration-color: #800080\"> 'bizarre-mantis'</span> - PrefectFuture('calculate_single_diatomic-93')\n",
       "</pre>\n"
      ],
      "text/plain": [
       "23:20:07.336 | \u001b[36mINFO\u001b[0m    | Flow run\u001b[35m 'bizarre-mantis'\u001b[0m - PrefectFuture('calculate_single_diatomic-93')\n"
      ]
     },
     "metadata": {},
     "output_type": "display_data"
    },
    {
     "data": {
      "text/html": [
       "<pre style=\"white-space:pre;overflow-x:auto;line-height:normal;font-family:Menlo,'DejaVu Sans Mono',consolas,'Courier New',monospace\">23:20:07.343 | <span style=\"color: #008080; text-decoration-color: #008080\">INFO</span>    | Flow run<span style=\"color: #800080; text-decoration-color: #800080\"> 'bizarre-mantis'</span> - PrefectFuture('calculate_single_diatomic-94')\n",
       "</pre>\n"
      ],
      "text/plain": [
       "23:20:07.343 | \u001b[36mINFO\u001b[0m    | Flow run\u001b[35m 'bizarre-mantis'\u001b[0m - PrefectFuture('calculate_single_diatomic-94')\n"
      ]
     },
     "metadata": {},
     "output_type": "display_data"
    },
    {
     "data": {
      "text/html": [
       "<pre style=\"white-space:pre;overflow-x:auto;line-height:normal;font-family:Menlo,'DejaVu Sans Mono',consolas,'Courier New',monospace\">23:20:07.346 | <span style=\"color: #008080; text-decoration-color: #008080\">INFO</span>    | Flow run<span style=\"color: #800080; text-decoration-color: #800080\"> 'bizarre-mantis'</span> - Created task run 'calculate_single_diatomic-26' for task 'calculate_single_diatomic'\n",
       "</pre>\n"
      ],
      "text/plain": [
       "23:20:07.346 | \u001b[36mINFO\u001b[0m    | Flow run\u001b[35m 'bizarre-mantis'\u001b[0m - Created task run 'calculate_single_diatomic-26' for task 'calculate_single_diatomic'\n"
      ]
     },
     "metadata": {},
     "output_type": "display_data"
    },
    {
     "data": {
      "text/html": [
       "<pre style=\"white-space:pre;overflow-x:auto;line-height:normal;font-family:Menlo,'DejaVu Sans Mono',consolas,'Courier New',monospace\">23:20:07.351 | <span style=\"color: #008080; text-decoration-color: #008080\">INFO</span>    | Flow run<span style=\"color: #800080; text-decoration-color: #800080\"> 'bizarre-mantis'</span> - Submitted task run 'calculate_single_diatomic-26' for execution.\n",
       "</pre>\n"
      ],
      "text/plain": [
       "23:20:07.351 | \u001b[36mINFO\u001b[0m    | Flow run\u001b[35m 'bizarre-mantis'\u001b[0m - Submitted task run 'calculate_single_diatomic-26' for execution.\n"
      ]
     },
     "metadata": {},
     "output_type": "display_data"
    },
    {
     "data": {
      "text/html": [
       "<pre style=\"white-space:pre;overflow-x:auto;line-height:normal;font-family:Menlo,'DejaVu Sans Mono',consolas,'Courier New',monospace\">23:20:07.354 | <span style=\"color: #008080; text-decoration-color: #008080\">INFO</span>    | Flow run<span style=\"color: #800080; text-decoration-color: #800080\"> 'bizarre-mantis'</span> - PrefectFuture('calculate_single_diatomic-95')\n",
       "</pre>\n"
      ],
      "text/plain": [
       "23:20:07.354 | \u001b[36mINFO\u001b[0m    | Flow run\u001b[35m 'bizarre-mantis'\u001b[0m - PrefectFuture('calculate_single_diatomic-95')\n"
      ]
     },
     "metadata": {},
     "output_type": "display_data"
    },
    {
     "data": {
      "text/html": [
       "<pre style=\"white-space:pre;overflow-x:auto;line-height:normal;font-family:Menlo,'DejaVu Sans Mono',consolas,'Courier New',monospace\">23:20:07.355 | <span style=\"color: #008080; text-decoration-color: #008080\">INFO</span>    | Flow run<span style=\"color: #800080; text-decoration-color: #800080\"> 'bizarre-mantis'</span> - Created task run 'calculate_single_diatomic-27' for task 'calculate_single_diatomic'\n",
       "</pre>\n"
      ],
      "text/plain": [
       "23:20:07.355 | \u001b[36mINFO\u001b[0m    | Flow run\u001b[35m 'bizarre-mantis'\u001b[0m - Created task run 'calculate_single_diatomic-27' for task 'calculate_single_diatomic'\n"
      ]
     },
     "metadata": {},
     "output_type": "display_data"
    },
    {
     "data": {
      "text/html": [
       "<pre style=\"white-space:pre;overflow-x:auto;line-height:normal;font-family:Menlo,'DejaVu Sans Mono',consolas,'Courier New',monospace\">23:20:07.360 | <span style=\"color: #008080; text-decoration-color: #008080\">INFO</span>    | Flow run<span style=\"color: #800080; text-decoration-color: #800080\"> 'bizarre-mantis'</span> - Submitted task run 'calculate_single_diatomic-27' for execution.\n",
       "</pre>\n"
      ],
      "text/plain": [
       "23:20:07.360 | \u001b[36mINFO\u001b[0m    | Flow run\u001b[35m 'bizarre-mantis'\u001b[0m - Submitted task run 'calculate_single_diatomic-27' for execution.\n"
      ]
     },
     "metadata": {},
     "output_type": "display_data"
    },
    {
     "data": {
      "text/html": [
       "<pre style=\"white-space:pre;overflow-x:auto;line-height:normal;font-family:Menlo,'DejaVu Sans Mono',consolas,'Courier New',monospace\">23:20:07.366 | <span style=\"color: #008080; text-decoration-color: #008080\">INFO</span>    | Flow run<span style=\"color: #800080; text-decoration-color: #800080\"> 'bizarre-mantis'</span> - PrefectFuture('calculate_single_diatomic-96')\n",
       "</pre>\n"
      ],
      "text/plain": [
       "23:20:07.366 | \u001b[36mINFO\u001b[0m    | Flow run\u001b[35m 'bizarre-mantis'\u001b[0m - PrefectFuture('calculate_single_diatomic-96')\n"
      ]
     },
     "metadata": {},
     "output_type": "display_data"
    },
    {
     "data": {
      "text/html": [
       "<pre style=\"white-space:pre;overflow-x:auto;line-height:normal;font-family:Menlo,'DejaVu Sans Mono',consolas,'Courier New',monospace\">23:20:07.370 | <span style=\"color: #008080; text-decoration-color: #008080\">INFO</span>    | Flow run<span style=\"color: #800080; text-decoration-color: #800080\"> 'bizarre-mantis'</span> - Created task run 'calculate_single_diatomic-28' for task 'calculate_single_diatomic'\n",
       "</pre>\n"
      ],
      "text/plain": [
       "23:20:07.370 | \u001b[36mINFO\u001b[0m    | Flow run\u001b[35m 'bizarre-mantis'\u001b[0m - Created task run 'calculate_single_diatomic-28' for task 'calculate_single_diatomic'\n"
      ]
     },
     "metadata": {},
     "output_type": "display_data"
    },
    {
     "data": {
      "text/html": [
       "<pre style=\"white-space:pre;overflow-x:auto;line-height:normal;font-family:Menlo,'DejaVu Sans Mono',consolas,'Courier New',monospace\">23:20:07.375 | <span style=\"color: #008080; text-decoration-color: #008080\">INFO</span>    | Flow run<span style=\"color: #800080; text-decoration-color: #800080\"> 'bizarre-mantis'</span> - Submitted task run 'calculate_single_diatomic-28' for execution.\n",
       "</pre>\n"
      ],
      "text/plain": [
       "23:20:07.375 | \u001b[36mINFO\u001b[0m    | Flow run\u001b[35m 'bizarre-mantis'\u001b[0m - Submitted task run 'calculate_single_diatomic-28' for execution.\n"
      ]
     },
     "metadata": {},
     "output_type": "display_data"
    },
    {
     "data": {
      "text/html": [
       "<pre style=\"white-space:pre;overflow-x:auto;line-height:normal;font-family:Menlo,'DejaVu Sans Mono',consolas,'Courier New',monospace\">23:20:07.377 | <span style=\"color: #008080; text-decoration-color: #008080\">INFO</span>    | Flow run<span style=\"color: #800080; text-decoration-color: #800080\"> 'bizarre-mantis'</span> - Created task run 'calculate_single_diatomic-29' for task 'calculate_single_diatomic'\n",
       "</pre>\n"
      ],
      "text/plain": [
       "23:20:07.377 | \u001b[36mINFO\u001b[0m    | Flow run\u001b[35m 'bizarre-mantis'\u001b[0m - Created task run 'calculate_single_diatomic-29' for task 'calculate_single_diatomic'\n"
      ]
     },
     "metadata": {},
     "output_type": "display_data"
    },
    {
     "data": {
      "text/html": [
       "<pre style=\"white-space:pre;overflow-x:auto;line-height:normal;font-family:Menlo,'DejaVu Sans Mono',consolas,'Courier New',monospace\">23:20:07.381 | <span style=\"color: #008080; text-decoration-color: #008080\">INFO</span>    | Flow run<span style=\"color: #800080; text-decoration-color: #800080\"> 'bizarre-mantis'</span> - Submitted task run 'calculate_single_diatomic-29' for execution.\n",
       "</pre>\n"
      ],
      "text/plain": [
       "23:20:07.381 | \u001b[36mINFO\u001b[0m    | Flow run\u001b[35m 'bizarre-mantis'\u001b[0m - Submitted task run 'calculate_single_diatomic-29' for execution.\n"
      ]
     },
     "metadata": {},
     "output_type": "display_data"
    },
    {
     "data": {
      "text/html": [
       "<pre style=\"white-space:pre;overflow-x:auto;line-height:normal;font-family:Menlo,'DejaVu Sans Mono',consolas,'Courier New',monospace\">23:20:07.382 | <span style=\"color: #008080; text-decoration-color: #008080\">INFO</span>    | Flow run<span style=\"color: #800080; text-decoration-color: #800080\"> 'bizarre-mantis'</span> - PrefectFuture('calculate_single_diatomic-97')\n",
       "</pre>\n"
      ],
      "text/plain": [
       "23:20:07.382 | \u001b[36mINFO\u001b[0m    | Flow run\u001b[35m 'bizarre-mantis'\u001b[0m - PrefectFuture('calculate_single_diatomic-97')\n"
      ]
     },
     "metadata": {},
     "output_type": "display_data"
    },
    {
     "data": {
      "text/html": [
       "<pre style=\"white-space:pre;overflow-x:auto;line-height:normal;font-family:Menlo,'DejaVu Sans Mono',consolas,'Courier New',monospace\">23:20:07.388 | <span style=\"color: #008080; text-decoration-color: #008080\">INFO</span>    | Flow run<span style=\"color: #800080; text-decoration-color: #800080\"> 'bizarre-mantis'</span> - Created task run 'calculate_single_diatomic-30' for task 'calculate_single_diatomic'\n",
       "</pre>\n"
      ],
      "text/plain": [
       "23:20:07.388 | \u001b[36mINFO\u001b[0m    | Flow run\u001b[35m 'bizarre-mantis'\u001b[0m - Created task run 'calculate_single_diatomic-30' for task 'calculate_single_diatomic'\n"
      ]
     },
     "metadata": {},
     "output_type": "display_data"
    },
    {
     "data": {
      "text/html": [
       "<pre style=\"white-space:pre;overflow-x:auto;line-height:normal;font-family:Menlo,'DejaVu Sans Mono',consolas,'Courier New',monospace\">23:20:07.392 | <span style=\"color: #008080; text-decoration-color: #008080\">INFO</span>    | Flow run<span style=\"color: #800080; text-decoration-color: #800080\"> 'bizarre-mantis'</span> - Submitted task run 'calculate_single_diatomic-30' for execution.\n",
       "</pre>\n"
      ],
      "text/plain": [
       "23:20:07.392 | \u001b[36mINFO\u001b[0m    | Flow run\u001b[35m 'bizarre-mantis'\u001b[0m - Submitted task run 'calculate_single_diatomic-30' for execution.\n"
      ]
     },
     "metadata": {},
     "output_type": "display_data"
    },
    {
     "data": {
      "text/html": [
       "<pre style=\"white-space:pre;overflow-x:auto;line-height:normal;font-family:Menlo,'DejaVu Sans Mono',consolas,'Courier New',monospace\">23:20:07.396 | <span style=\"color: #008080; text-decoration-color: #008080\">INFO</span>    | Flow run<span style=\"color: #800080; text-decoration-color: #800080\"> 'bizarre-mantis'</span> - PrefectFuture('calculate_single_diatomic-98')\n",
       "</pre>\n"
      ],
      "text/plain": [
       "23:20:07.396 | \u001b[36mINFO\u001b[0m    | Flow run\u001b[35m 'bizarre-mantis'\u001b[0m - PrefectFuture('calculate_single_diatomic-98')\n"
      ]
     },
     "metadata": {},
     "output_type": "display_data"
    },
    {
     "data": {
      "text/html": [
       "<pre style=\"white-space:pre;overflow-x:auto;line-height:normal;font-family:Menlo,'DejaVu Sans Mono',consolas,'Courier New',monospace\">23:20:07.400 | <span style=\"color: #008080; text-decoration-color: #008080\">INFO</span>    | Flow run<span style=\"color: #800080; text-decoration-color: #800080\"> 'bizarre-mantis'</span> - Created task run 'calculate_single_diatomic-32' for task 'calculate_single_diatomic'\n",
       "</pre>\n"
      ],
      "text/plain": [
       "23:20:07.400 | \u001b[36mINFO\u001b[0m    | Flow run\u001b[35m 'bizarre-mantis'\u001b[0m - Created task run 'calculate_single_diatomic-32' for task 'calculate_single_diatomic'\n"
      ]
     },
     "metadata": {},
     "output_type": "display_data"
    },
    {
     "data": {
      "text/html": [
       "<pre style=\"white-space:pre;overflow-x:auto;line-height:normal;font-family:Menlo,'DejaVu Sans Mono',consolas,'Courier New',monospace\">23:20:07.404 | <span style=\"color: #008080; text-decoration-color: #008080\">INFO</span>    | Flow run<span style=\"color: #800080; text-decoration-color: #800080\"> 'bizarre-mantis'</span> - Submitted task run 'calculate_single_diatomic-32' for execution.\n",
       "</pre>\n"
      ],
      "text/plain": [
       "23:20:07.404 | \u001b[36mINFO\u001b[0m    | Flow run\u001b[35m 'bizarre-mantis'\u001b[0m - Submitted task run 'calculate_single_diatomic-32' for execution.\n"
      ]
     },
     "metadata": {},
     "output_type": "display_data"
    },
    {
     "data": {
      "text/html": [
       "<pre style=\"white-space:pre;overflow-x:auto;line-height:normal;font-family:Menlo,'DejaVu Sans Mono',consolas,'Courier New',monospace\">23:20:07.408 | <span style=\"color: #008080; text-decoration-color: #008080\">INFO</span>    | Flow run<span style=\"color: #800080; text-decoration-color: #800080\"> 'bizarre-mantis'</span> - PrefectFuture('calculate_single_diatomic-99')\n",
       "</pre>\n"
      ],
      "text/plain": [
       "23:20:07.408 | \u001b[36mINFO\u001b[0m    | Flow run\u001b[35m 'bizarre-mantis'\u001b[0m - PrefectFuture('calculate_single_diatomic-99')\n"
      ]
     },
     "metadata": {},
     "output_type": "display_data"
    },
    {
     "data": {
      "text/html": [
       "<pre style=\"white-space:pre;overflow-x:auto;line-height:normal;font-family:Menlo,'DejaVu Sans Mono',consolas,'Courier New',monospace\">23:20:07.414 | <span style=\"color: #008080; text-decoration-color: #008080\">INFO</span>    | Flow run<span style=\"color: #800080; text-decoration-color: #800080\"> 'bizarre-mantis'</span> - Created task run 'calculate_single_diatomic-33' for task 'calculate_single_diatomic'\n",
       "</pre>\n"
      ],
      "text/plain": [
       "23:20:07.414 | \u001b[36mINFO\u001b[0m    | Flow run\u001b[35m 'bizarre-mantis'\u001b[0m - Created task run 'calculate_single_diatomic-33' for task 'calculate_single_diatomic'\n"
      ]
     },
     "metadata": {},
     "output_type": "display_data"
    },
    {
     "data": {
      "text/html": [
       "<pre style=\"white-space:pre;overflow-x:auto;line-height:normal;font-family:Menlo,'DejaVu Sans Mono',consolas,'Courier New',monospace\">23:20:07.419 | <span style=\"color: #008080; text-decoration-color: #008080\">INFO</span>    | Flow run<span style=\"color: #800080; text-decoration-color: #800080\"> 'bizarre-mantis'</span> - Submitted task run 'calculate_single_diatomic-33' for execution.\n",
       "</pre>\n"
      ],
      "text/plain": [
       "23:20:07.419 | \u001b[36mINFO\u001b[0m    | Flow run\u001b[35m 'bizarre-mantis'\u001b[0m - Submitted task run 'calculate_single_diatomic-33' for execution.\n"
      ]
     },
     "metadata": {},
     "output_type": "display_data"
    },
    {
     "data": {
      "text/html": [
       "<pre style=\"white-space:pre;overflow-x:auto;line-height:normal;font-family:Menlo,'DejaVu Sans Mono',consolas,'Courier New',monospace\">23:20:07.422 | <span style=\"color: #008080; text-decoration-color: #008080\">INFO</span>    | Flow run<span style=\"color: #800080; text-decoration-color: #800080\"> 'bizarre-mantis'</span> - PrefectFuture('calculate_single_diatomic-100')\n",
       "</pre>\n"
      ],
      "text/plain": [
       "23:20:07.422 | \u001b[36mINFO\u001b[0m    | Flow run\u001b[35m 'bizarre-mantis'\u001b[0m - PrefectFuture('calculate_single_diatomic-100')\n"
      ]
     },
     "metadata": {},
     "output_type": "display_data"
    },
    {
     "data": {
      "text/html": [
       "<pre style=\"white-space:pre;overflow-x:auto;line-height:normal;font-family:Menlo,'DejaVu Sans Mono',consolas,'Courier New',monospace\">23:20:07.424 | <span style=\"color: #008080; text-decoration-color: #008080\">INFO</span>    | Flow run<span style=\"color: #800080; text-decoration-color: #800080\"> 'bizarre-mantis'</span> - Created task run 'calculate_single_diatomic-35' for task 'calculate_single_diatomic'\n",
       "</pre>\n"
      ],
      "text/plain": [
       "23:20:07.424 | \u001b[36mINFO\u001b[0m    | Flow run\u001b[35m 'bizarre-mantis'\u001b[0m - Created task run 'calculate_single_diatomic-35' for task 'calculate_single_diatomic'\n"
      ]
     },
     "metadata": {},
     "output_type": "display_data"
    },
    {
     "data": {
      "text/html": [
       "<pre style=\"white-space:pre;overflow-x:auto;line-height:normal;font-family:Menlo,'DejaVu Sans Mono',consolas,'Courier New',monospace\">23:20:07.429 | <span style=\"color: #008080; text-decoration-color: #008080\">INFO</span>    | Flow run<span style=\"color: #800080; text-decoration-color: #800080\"> 'bizarre-mantis'</span> - Submitted task run 'calculate_single_diatomic-35' for execution.\n",
       "</pre>\n"
      ],
      "text/plain": [
       "23:20:07.429 | \u001b[36mINFO\u001b[0m    | Flow run\u001b[35m 'bizarre-mantis'\u001b[0m - Submitted task run 'calculate_single_diatomic-35' for execution.\n"
      ]
     },
     "metadata": {},
     "output_type": "display_data"
    },
    {
     "data": {
      "text/html": [
       "<pre style=\"white-space:pre;overflow-x:auto;line-height:normal;font-family:Menlo,'DejaVu Sans Mono',consolas,'Courier New',monospace\">23:20:07.433 | <span style=\"color: #008080; text-decoration-color: #008080\">INFO</span>    | Flow run<span style=\"color: #800080; text-decoration-color: #800080\"> 'bizarre-mantis'</span> - PrefectFuture('calculate_single_diatomic-101')\n",
       "</pre>\n"
      ],
      "text/plain": [
       "23:20:07.433 | \u001b[36mINFO\u001b[0m    | Flow run\u001b[35m 'bizarre-mantis'\u001b[0m - PrefectFuture('calculate_single_diatomic-101')\n"
      ]
     },
     "metadata": {},
     "output_type": "display_data"
    },
    {
     "data": {
      "text/html": [
       "<pre style=\"white-space:pre;overflow-x:auto;line-height:normal;font-family:Menlo,'DejaVu Sans Mono',consolas,'Courier New',monospace\">23:20:07.439 | <span style=\"color: #008080; text-decoration-color: #008080\">INFO</span>    | Flow run<span style=\"color: #800080; text-decoration-color: #800080\"> 'bizarre-mantis'</span> - PrefectFuture('calculate_single_diatomic-102')\n",
       "</pre>\n"
      ],
      "text/plain": [
       "23:20:07.439 | \u001b[36mINFO\u001b[0m    | Flow run\u001b[35m 'bizarre-mantis'\u001b[0m - PrefectFuture('calculate_single_diatomic-102')\n"
      ]
     },
     "metadata": {},
     "output_type": "display_data"
    },
    {
     "data": {
      "text/html": [
       "<pre style=\"white-space:pre;overflow-x:auto;line-height:normal;font-family:Menlo,'DejaVu Sans Mono',consolas,'Courier New',monospace\">23:20:07.441 | <span style=\"color: #008080; text-decoration-color: #008080\">INFO</span>    | Flow run<span style=\"color: #800080; text-decoration-color: #800080\"> 'bizarre-mantis'</span> - Created task run 'calculate_single_diatomic-37' for task 'calculate_single_diatomic'\n",
       "</pre>\n"
      ],
      "text/plain": [
       "23:20:07.441 | \u001b[36mINFO\u001b[0m    | Flow run\u001b[35m 'bizarre-mantis'\u001b[0m - Created task run 'calculate_single_diatomic-37' for task 'calculate_single_diatomic'\n"
      ]
     },
     "metadata": {},
     "output_type": "display_data"
    },
    {
     "data": {
      "text/html": [
       "<pre style=\"white-space:pre;overflow-x:auto;line-height:normal;font-family:Menlo,'DejaVu Sans Mono',consolas,'Courier New',monospace\">23:20:07.446 | <span style=\"color: #008080; text-decoration-color: #008080\">INFO</span>    | Flow run<span style=\"color: #800080; text-decoration-color: #800080\"> 'bizarre-mantis'</span> - Submitted task run 'calculate_single_diatomic-37' for execution.\n",
       "</pre>\n"
      ],
      "text/plain": [
       "23:20:07.446 | \u001b[36mINFO\u001b[0m    | Flow run\u001b[35m 'bizarre-mantis'\u001b[0m - Submitted task run 'calculate_single_diatomic-37' for execution.\n"
      ]
     },
     "metadata": {},
     "output_type": "display_data"
    },
    {
     "data": {
      "text/html": [
       "<pre style=\"white-space:pre;overflow-x:auto;line-height:normal;font-family:Menlo,'DejaVu Sans Mono',consolas,'Courier New',monospace\">23:20:07.448 | <span style=\"color: #008080; text-decoration-color: #008080\">INFO</span>    | Flow run<span style=\"color: #800080; text-decoration-color: #800080\"> 'bizarre-mantis'</span> - Created task run 'calculate_single_diatomic-38' for task 'calculate_single_diatomic'\n",
       "</pre>\n"
      ],
      "text/plain": [
       "23:20:07.448 | \u001b[36mINFO\u001b[0m    | Flow run\u001b[35m 'bizarre-mantis'\u001b[0m - Created task run 'calculate_single_diatomic-38' for task 'calculate_single_diatomic'\n"
      ]
     },
     "metadata": {},
     "output_type": "display_data"
    },
    {
     "data": {
      "text/html": [
       "<pre style=\"white-space:pre;overflow-x:auto;line-height:normal;font-family:Menlo,'DejaVu Sans Mono',consolas,'Courier New',monospace\">23:20:07.452 | <span style=\"color: #008080; text-decoration-color: #008080\">INFO</span>    | Flow run<span style=\"color: #800080; text-decoration-color: #800080\"> 'bizarre-mantis'</span> - Submitted task run 'calculate_single_diatomic-38' for execution.\n",
       "</pre>\n"
      ],
      "text/plain": [
       "23:20:07.452 | \u001b[36mINFO\u001b[0m    | Flow run\u001b[35m 'bizarre-mantis'\u001b[0m - Submitted task run 'calculate_single_diatomic-38' for execution.\n"
      ]
     },
     "metadata": {},
     "output_type": "display_data"
    },
    {
     "data": {
      "text/html": [
       "<pre style=\"white-space:pre;overflow-x:auto;line-height:normal;font-family:Menlo,'DejaVu Sans Mono',consolas,'Courier New',monospace\">23:20:07.454 | <span style=\"color: #008080; text-decoration-color: #008080\">INFO</span>    | Flow run<span style=\"color: #800080; text-decoration-color: #800080\"> 'bizarre-mantis'</span> - PrefectFuture('calculate_single_diatomic-103')\n",
       "</pre>\n"
      ],
      "text/plain": [
       "23:20:07.454 | \u001b[36mINFO\u001b[0m    | Flow run\u001b[35m 'bizarre-mantis'\u001b[0m - PrefectFuture('calculate_single_diatomic-103')\n"
      ]
     },
     "metadata": {},
     "output_type": "display_data"
    },
    {
     "data": {
      "text/html": [
       "<pre style=\"white-space:pre;overflow-x:auto;line-height:normal;font-family:Menlo,'DejaVu Sans Mono',consolas,'Courier New',monospace\">23:20:07.457 | <span style=\"color: #008080; text-decoration-color: #008080\">INFO</span>    | Flow run<span style=\"color: #800080; text-decoration-color: #800080\"> 'bizarre-mantis'</span> - Created task run 'calculate_single_diatomic-39' for task 'calculate_single_diatomic'\n",
       "</pre>\n"
      ],
      "text/plain": [
       "23:20:07.457 | \u001b[36mINFO\u001b[0m    | Flow run\u001b[35m 'bizarre-mantis'\u001b[0m - Created task run 'calculate_single_diatomic-39' for task 'calculate_single_diatomic'\n"
      ]
     },
     "metadata": {},
     "output_type": "display_data"
    },
    {
     "data": {
      "text/html": [
       "<pre style=\"white-space:pre;overflow-x:auto;line-height:normal;font-family:Menlo,'DejaVu Sans Mono',consolas,'Courier New',monospace\">23:20:07.462 | <span style=\"color: #008080; text-decoration-color: #008080\">INFO</span>    | Flow run<span style=\"color: #800080; text-decoration-color: #800080\"> 'bizarre-mantis'</span> - Submitted task run 'calculate_single_diatomic-39' for execution.\n",
       "</pre>\n"
      ],
      "text/plain": [
       "23:20:07.462 | \u001b[36mINFO\u001b[0m    | Flow run\u001b[35m 'bizarre-mantis'\u001b[0m - Submitted task run 'calculate_single_diatomic-39' for execution.\n"
      ]
     },
     "metadata": {},
     "output_type": "display_data"
    },
    {
     "data": {
      "text/html": [
       "<pre style=\"white-space:pre;overflow-x:auto;line-height:normal;font-family:Menlo,'DejaVu Sans Mono',consolas,'Courier New',monospace\">23:20:07.466 | <span style=\"color: #008080; text-decoration-color: #008080\">INFO</span>    | Flow run<span style=\"color: #800080; text-decoration-color: #800080\"> 'bizarre-mantis'</span> - PrefectFuture('calculate_single_diatomic-104')\n",
       "</pre>\n"
      ],
      "text/plain": [
       "23:20:07.466 | \u001b[36mINFO\u001b[0m    | Flow run\u001b[35m 'bizarre-mantis'\u001b[0m - PrefectFuture('calculate_single_diatomic-104')\n"
      ]
     },
     "metadata": {},
     "output_type": "display_data"
    },
    {
     "data": {
      "text/html": [
       "<pre style=\"white-space:pre;overflow-x:auto;line-height:normal;font-family:Menlo,'DejaVu Sans Mono',consolas,'Courier New',monospace\">23:20:07.468 | <span style=\"color: #008080; text-decoration-color: #008080\">INFO</span>    | Flow run<span style=\"color: #800080; text-decoration-color: #800080\"> 'bizarre-mantis'</span> - Created task run 'calculate_single_diatomic-40' for task 'calculate_single_diatomic'\n",
       "</pre>\n"
      ],
      "text/plain": [
       "23:20:07.468 | \u001b[36mINFO\u001b[0m    | Flow run\u001b[35m 'bizarre-mantis'\u001b[0m - Created task run 'calculate_single_diatomic-40' for task 'calculate_single_diatomic'\n"
      ]
     },
     "metadata": {},
     "output_type": "display_data"
    },
    {
     "data": {
      "text/html": [
       "<pre style=\"white-space:pre;overflow-x:auto;line-height:normal;font-family:Menlo,'DejaVu Sans Mono',consolas,'Courier New',monospace\">23:20:07.473 | <span style=\"color: #008080; text-decoration-color: #008080\">INFO</span>    | Flow run<span style=\"color: #800080; text-decoration-color: #800080\"> 'bizarre-mantis'</span> - Submitted task run 'calculate_single_diatomic-40' for execution.\n",
       "</pre>\n"
      ],
      "text/plain": [
       "23:20:07.473 | \u001b[36mINFO\u001b[0m    | Flow run\u001b[35m 'bizarre-mantis'\u001b[0m - Submitted task run 'calculate_single_diatomic-40' for execution.\n"
      ]
     },
     "metadata": {},
     "output_type": "display_data"
    },
    {
     "data": {
      "text/html": [
       "<pre style=\"white-space:pre;overflow-x:auto;line-height:normal;font-family:Menlo,'DejaVu Sans Mono',consolas,'Courier New',monospace\">23:20:07.484 | <span style=\"color: #008080; text-decoration-color: #008080\">INFO</span>    | Flow run<span style=\"color: #800080; text-decoration-color: #800080\"> 'bizarre-mantis'</span> - PrefectFuture('calculate_single_diatomic-105')\n",
       "</pre>\n"
      ],
      "text/plain": [
       "23:20:07.484 | \u001b[36mINFO\u001b[0m    | Flow run\u001b[35m 'bizarre-mantis'\u001b[0m - PrefectFuture('calculate_single_diatomic-105')\n"
      ]
     },
     "metadata": {},
     "output_type": "display_data"
    },
    {
     "data": {
      "text/html": [
       "<pre style=\"white-space:pre;overflow-x:auto;line-height:normal;font-family:Menlo,'DejaVu Sans Mono',consolas,'Courier New',monospace\">23:20:07.488 | <span style=\"color: #008080; text-decoration-color: #008080\">INFO</span>    | Flow run<span style=\"color: #800080; text-decoration-color: #800080\"> 'bizarre-mantis'</span> - Created task run 'calculate_single_diatomic-42' for task 'calculate_single_diatomic'\n",
       "</pre>\n"
      ],
      "text/plain": [
       "23:20:07.488 | \u001b[36mINFO\u001b[0m    | Flow run\u001b[35m 'bizarre-mantis'\u001b[0m - Created task run 'calculate_single_diatomic-42' for task 'calculate_single_diatomic'\n"
      ]
     },
     "metadata": {},
     "output_type": "display_data"
    },
    {
     "data": {
      "text/html": [
       "<pre style=\"white-space:pre;overflow-x:auto;line-height:normal;font-family:Menlo,'DejaVu Sans Mono',consolas,'Courier New',monospace\">23:20:07.493 | <span style=\"color: #008080; text-decoration-color: #008080\">INFO</span>    | Flow run<span style=\"color: #800080; text-decoration-color: #800080\"> 'bizarre-mantis'</span> - Submitted task run 'calculate_single_diatomic-42' for execution.\n",
       "</pre>\n"
      ],
      "text/plain": [
       "23:20:07.493 | \u001b[36mINFO\u001b[0m    | Flow run\u001b[35m 'bizarre-mantis'\u001b[0m - Submitted task run 'calculate_single_diatomic-42' for execution.\n"
      ]
     },
     "metadata": {},
     "output_type": "display_data"
    },
    {
     "data": {
      "text/html": [
       "<pre style=\"white-space:pre;overflow-x:auto;line-height:normal;font-family:Menlo,'DejaVu Sans Mono',consolas,'Courier New',monospace\">23:20:07.495 | <span style=\"color: #008080; text-decoration-color: #008080\">INFO</span>    | Flow run<span style=\"color: #800080; text-decoration-color: #800080\"> 'bizarre-mantis'</span> - PrefectFuture('calculate_single_diatomic-106')\n",
       "</pre>\n"
      ],
      "text/plain": [
       "23:20:07.495 | \u001b[36mINFO\u001b[0m    | Flow run\u001b[35m 'bizarre-mantis'\u001b[0m - PrefectFuture('calculate_single_diatomic-106')\n"
      ]
     },
     "metadata": {},
     "output_type": "display_data"
    },
    {
     "data": {
      "text/html": [
       "<pre style=\"white-space:pre;overflow-x:auto;line-height:normal;font-family:Menlo,'DejaVu Sans Mono',consolas,'Courier New',monospace\">23:20:07.501 | <span style=\"color: #008080; text-decoration-color: #008080\">INFO</span>    | Flow run<span style=\"color: #800080; text-decoration-color: #800080\"> 'bizarre-mantis'</span> - PrefectFuture('calculate_single_diatomic-107')\n",
       "</pre>\n"
      ],
      "text/plain": [
       "23:20:07.501 | \u001b[36mINFO\u001b[0m    | Flow run\u001b[35m 'bizarre-mantis'\u001b[0m - PrefectFuture('calculate_single_diatomic-107')\n"
      ]
     },
     "metadata": {},
     "output_type": "display_data"
    },
    {
     "data": {
      "text/html": [
       "<pre style=\"white-space:pre;overflow-x:auto;line-height:normal;font-family:Menlo,'DejaVu Sans Mono',consolas,'Courier New',monospace\">23:20:07.503 | <span style=\"color: #008080; text-decoration-color: #008080\">INFO</span>    | Flow run<span style=\"color: #800080; text-decoration-color: #800080\"> 'bizarre-mantis'</span> - Created task run 'calculate_single_diatomic-45' for task 'calculate_single_diatomic'\n",
       "</pre>\n"
      ],
      "text/plain": [
       "23:20:07.503 | \u001b[36mINFO\u001b[0m    | Flow run\u001b[35m 'bizarre-mantis'\u001b[0m - Created task run 'calculate_single_diatomic-45' for task 'calculate_single_diatomic'\n"
      ]
     },
     "metadata": {},
     "output_type": "display_data"
    },
    {
     "data": {
      "text/html": [
       "<pre style=\"white-space:pre;overflow-x:auto;line-height:normal;font-family:Menlo,'DejaVu Sans Mono',consolas,'Courier New',monospace\">23:20:07.508 | <span style=\"color: #008080; text-decoration-color: #008080\">INFO</span>    | Flow run<span style=\"color: #800080; text-decoration-color: #800080\"> 'bizarre-mantis'</span> - Submitted task run 'calculate_single_diatomic-45' for execution.\n",
       "</pre>\n"
      ],
      "text/plain": [
       "23:20:07.508 | \u001b[36mINFO\u001b[0m    | Flow run\u001b[35m 'bizarre-mantis'\u001b[0m - Submitted task run 'calculate_single_diatomic-45' for execution.\n"
      ]
     },
     "metadata": {},
     "output_type": "display_data"
    },
    {
     "data": {
      "text/html": [
       "<pre style=\"white-space:pre;overflow-x:auto;line-height:normal;font-family:Menlo,'DejaVu Sans Mono',consolas,'Courier New',monospace\">23:20:07.510 | <span style=\"color: #008080; text-decoration-color: #008080\">INFO</span>    | Flow run<span style=\"color: #800080; text-decoration-color: #800080\"> 'bizarre-mantis'</span> - Created task run 'calculate_single_diatomic-46' for task 'calculate_single_diatomic'\n",
       "</pre>\n"
      ],
      "text/plain": [
       "23:20:07.510 | \u001b[36mINFO\u001b[0m    | Flow run\u001b[35m 'bizarre-mantis'\u001b[0m - Created task run 'calculate_single_diatomic-46' for task 'calculate_single_diatomic'\n"
      ]
     },
     "metadata": {},
     "output_type": "display_data"
    },
    {
     "data": {
      "text/html": [
       "<pre style=\"white-space:pre;overflow-x:auto;line-height:normal;font-family:Menlo,'DejaVu Sans Mono',consolas,'Courier New',monospace\">23:20:07.515 | <span style=\"color: #008080; text-decoration-color: #008080\">INFO</span>    | Flow run<span style=\"color: #800080; text-decoration-color: #800080\"> 'bizarre-mantis'</span> - Submitted task run 'calculate_single_diatomic-46' for execution.\n",
       "</pre>\n"
      ],
      "text/plain": [
       "23:20:07.515 | \u001b[36mINFO\u001b[0m    | Flow run\u001b[35m 'bizarre-mantis'\u001b[0m - Submitted task run 'calculate_single_diatomic-46' for execution.\n"
      ]
     },
     "metadata": {},
     "output_type": "display_data"
    },
    {
     "data": {
      "text/html": [
       "<pre style=\"white-space:pre;overflow-x:auto;line-height:normal;font-family:Menlo,'DejaVu Sans Mono',consolas,'Courier New',monospace\">23:20:07.517 | <span style=\"color: #008080; text-decoration-color: #008080\">INFO</span>    | Flow run<span style=\"color: #800080; text-decoration-color: #800080\"> 'bizarre-mantis'</span> - PrefectFuture('calculate_single_diatomic-108')\n",
       "</pre>\n"
      ],
      "text/plain": [
       "23:20:07.517 | \u001b[36mINFO\u001b[0m    | Flow run\u001b[35m 'bizarre-mantis'\u001b[0m - PrefectFuture('calculate_single_diatomic-108')\n"
      ]
     },
     "metadata": {},
     "output_type": "display_data"
    },
    {
     "data": {
      "text/html": [
       "<pre style=\"white-space:pre;overflow-x:auto;line-height:normal;font-family:Menlo,'DejaVu Sans Mono',consolas,'Courier New',monospace\">23:20:07.521 | <span style=\"color: #008080; text-decoration-color: #008080\">INFO</span>    | Flow run<span style=\"color: #800080; text-decoration-color: #800080\"> 'bizarre-mantis'</span> - Created task run 'calculate_single_diatomic-47' for task 'calculate_single_diatomic'\n",
       "</pre>\n"
      ],
      "text/plain": [
       "23:20:07.521 | \u001b[36mINFO\u001b[0m    | Flow run\u001b[35m 'bizarre-mantis'\u001b[0m - Created task run 'calculate_single_diatomic-47' for task 'calculate_single_diatomic'\n"
      ]
     },
     "metadata": {},
     "output_type": "display_data"
    },
    {
     "data": {
      "text/html": [
       "<pre style=\"white-space:pre;overflow-x:auto;line-height:normal;font-family:Menlo,'DejaVu Sans Mono',consolas,'Courier New',monospace\">23:20:07.526 | <span style=\"color: #008080; text-decoration-color: #008080\">INFO</span>    | Flow run<span style=\"color: #800080; text-decoration-color: #800080\"> 'bizarre-mantis'</span> - Submitted task run 'calculate_single_diatomic-47' for execution.\n",
       "</pre>\n"
      ],
      "text/plain": [
       "23:20:07.526 | \u001b[36mINFO\u001b[0m    | Flow run\u001b[35m 'bizarre-mantis'\u001b[0m - Submitted task run 'calculate_single_diatomic-47' for execution.\n"
      ]
     },
     "metadata": {},
     "output_type": "display_data"
    },
    {
     "data": {
      "text/html": [
       "<pre style=\"white-space:pre;overflow-x:auto;line-height:normal;font-family:Menlo,'DejaVu Sans Mono',consolas,'Courier New',monospace\">23:20:07.528 | <span style=\"color: #008080; text-decoration-color: #008080\">INFO</span>    | Flow run<span style=\"color: #800080; text-decoration-color: #800080\"> 'bizarre-mantis'</span> - Created task run 'calculate_single_diatomic-48' for task 'calculate_single_diatomic'\n",
       "</pre>\n"
      ],
      "text/plain": [
       "23:20:07.528 | \u001b[36mINFO\u001b[0m    | Flow run\u001b[35m 'bizarre-mantis'\u001b[0m - Created task run 'calculate_single_diatomic-48' for task 'calculate_single_diatomic'\n"
      ]
     },
     "metadata": {},
     "output_type": "display_data"
    },
    {
     "data": {
      "text/html": [
       "<pre style=\"white-space:pre;overflow-x:auto;line-height:normal;font-family:Menlo,'DejaVu Sans Mono',consolas,'Courier New',monospace\">23:20:07.532 | <span style=\"color: #008080; text-decoration-color: #008080\">INFO</span>    | Flow run<span style=\"color: #800080; text-decoration-color: #800080\"> 'bizarre-mantis'</span> - Submitted task run 'calculate_single_diatomic-48' for execution.\n",
       "</pre>\n"
      ],
      "text/plain": [
       "23:20:07.532 | \u001b[36mINFO\u001b[0m    | Flow run\u001b[35m 'bizarre-mantis'\u001b[0m - Submitted task run 'calculate_single_diatomic-48' for execution.\n"
      ]
     },
     "metadata": {},
     "output_type": "display_data"
    },
    {
     "data": {
      "text/html": [
       "<pre style=\"white-space:pre;overflow-x:auto;line-height:normal;font-family:Menlo,'DejaVu Sans Mono',consolas,'Courier New',monospace\">23:20:07.533 | <span style=\"color: #008080; text-decoration-color: #008080\">INFO</span>    | Flow run<span style=\"color: #800080; text-decoration-color: #800080\"> 'bizarre-mantis'</span> - PrefectFuture('calculate_single_diatomic-109')\n",
       "</pre>\n"
      ],
      "text/plain": [
       "23:20:07.533 | \u001b[36mINFO\u001b[0m    | Flow run\u001b[35m 'bizarre-mantis'\u001b[0m - PrefectFuture('calculate_single_diatomic-109')\n"
      ]
     },
     "metadata": {},
     "output_type": "display_data"
    },
    {
     "data": {
      "text/html": [
       "<pre style=\"white-space:pre;overflow-x:auto;line-height:normal;font-family:Menlo,'DejaVu Sans Mono',consolas,'Courier New',monospace\">23:20:07.538 | <span style=\"color: #008080; text-decoration-color: #008080\">INFO</span>    | Flow run<span style=\"color: #800080; text-decoration-color: #800080\"> 'bizarre-mantis'</span> - Created task run 'calculate_single_diatomic-14' for task 'calculate_single_diatomic'\n",
       "</pre>\n"
      ],
      "text/plain": [
       "23:20:07.538 | \u001b[36mINFO\u001b[0m    | Flow run\u001b[35m 'bizarre-mantis'\u001b[0m - Created task run 'calculate_single_diatomic-14' for task 'calculate_single_diatomic'\n"
      ]
     },
     "metadata": {},
     "output_type": "display_data"
    },
    {
     "data": {
      "text/html": [
       "<pre style=\"white-space:pre;overflow-x:auto;line-height:normal;font-family:Menlo,'DejaVu Sans Mono',consolas,'Courier New',monospace\">23:20:07.542 | <span style=\"color: #008080; text-decoration-color: #008080\">INFO</span>    | Flow run<span style=\"color: #800080; text-decoration-color: #800080\"> 'bizarre-mantis'</span> - Submitted task run 'calculate_single_diatomic-14' for execution.\n",
       "</pre>\n"
      ],
      "text/plain": [
       "23:20:07.542 | \u001b[36mINFO\u001b[0m    | Flow run\u001b[35m 'bizarre-mantis'\u001b[0m - Submitted task run 'calculate_single_diatomic-14' for execution.\n"
      ]
     },
     "metadata": {},
     "output_type": "display_data"
    },
    {
     "data": {
      "text/html": [
       "<pre style=\"white-space:pre;overflow-x:auto;line-height:normal;font-family:Menlo,'DejaVu Sans Mono',consolas,'Courier New',monospace\">23:20:07.546 | <span style=\"color: #008080; text-decoration-color: #008080\">INFO</span>    | Flow run<span style=\"color: #800080; text-decoration-color: #800080\"> 'bizarre-mantis'</span> - PrefectFuture('calculate_single_diatomic-110')\n",
       "</pre>\n"
      ],
      "text/plain": [
       "23:20:07.546 | \u001b[36mINFO\u001b[0m    | Flow run\u001b[35m 'bizarre-mantis'\u001b[0m - PrefectFuture('calculate_single_diatomic-110')\n"
      ]
     },
     "metadata": {},
     "output_type": "display_data"
    },
    {
     "data": {
      "text/html": [
       "<pre style=\"white-space:pre;overflow-x:auto;line-height:normal;font-family:Menlo,'DejaVu Sans Mono',consolas,'Courier New',monospace\">23:20:07.550 | <span style=\"color: #008080; text-decoration-color: #008080\">INFO</span>    | Flow run<span style=\"color: #800080; text-decoration-color: #800080\"> 'bizarre-mantis'</span> - Created task run 'calculate_single_diatomic-15' for task 'calculate_single_diatomic'\n",
       "</pre>\n"
      ],
      "text/plain": [
       "23:20:07.550 | \u001b[36mINFO\u001b[0m    | Flow run\u001b[35m 'bizarre-mantis'\u001b[0m - Created task run 'calculate_single_diatomic-15' for task 'calculate_single_diatomic'\n"
      ]
     },
     "metadata": {},
     "output_type": "display_data"
    },
    {
     "data": {
      "text/html": [
       "<pre style=\"white-space:pre;overflow-x:auto;line-height:normal;font-family:Menlo,'DejaVu Sans Mono',consolas,'Courier New',monospace\">23:20:07.555 | <span style=\"color: #008080; text-decoration-color: #008080\">INFO</span>    | Flow run<span style=\"color: #800080; text-decoration-color: #800080\"> 'bizarre-mantis'</span> - Submitted task run 'calculate_single_diatomic-15' for execution.\n",
       "</pre>\n"
      ],
      "text/plain": [
       "23:20:07.555 | \u001b[36mINFO\u001b[0m    | Flow run\u001b[35m 'bizarre-mantis'\u001b[0m - Submitted task run 'calculate_single_diatomic-15' for execution.\n"
      ]
     },
     "metadata": {},
     "output_type": "display_data"
    },
    {
     "data": {
      "text/html": [
       "<pre style=\"white-space:pre;overflow-x:auto;line-height:normal;font-family:Menlo,'DejaVu Sans Mono',consolas,'Courier New',monospace\">23:20:07.561 | <span style=\"color: #008080; text-decoration-color: #008080\">INFO</span>    | Flow run<span style=\"color: #800080; text-decoration-color: #800080\"> 'bizarre-mantis'</span> - PrefectFuture('calculate_single_diatomic-111')\n",
       "</pre>\n"
      ],
      "text/plain": [
       "23:20:07.561 | \u001b[36mINFO\u001b[0m    | Flow run\u001b[35m 'bizarre-mantis'\u001b[0m - PrefectFuture('calculate_single_diatomic-111')\n"
      ]
     },
     "metadata": {},
     "output_type": "display_data"
    },
    {
     "data": {
      "text/html": [
       "<pre style=\"white-space:pre;overflow-x:auto;line-height:normal;font-family:Menlo,'DejaVu Sans Mono',consolas,'Courier New',monospace\">23:20:07.565 | <span style=\"color: #008080; text-decoration-color: #008080\">INFO</span>    | Flow run<span style=\"color: #800080; text-decoration-color: #800080\"> 'bizarre-mantis'</span> - PrefectFuture('calculate_single_diatomic-112')\n",
       "</pre>\n"
      ],
      "text/plain": [
       "23:20:07.565 | \u001b[36mINFO\u001b[0m    | Flow run\u001b[35m 'bizarre-mantis'\u001b[0m - PrefectFuture('calculate_single_diatomic-112')\n"
      ]
     },
     "metadata": {},
     "output_type": "display_data"
    },
    {
     "data": {
      "text/html": [
       "<pre style=\"white-space:pre;overflow-x:auto;line-height:normal;font-family:Menlo,'DejaVu Sans Mono',consolas,'Courier New',monospace\">23:20:07.568 | <span style=\"color: #008080; text-decoration-color: #008080\">INFO</span>    | Flow run<span style=\"color: #800080; text-decoration-color: #800080\"> 'bizarre-mantis'</span> - PrefectFuture('calculate_single_diatomic-113')\n",
       "</pre>\n"
      ],
      "text/plain": [
       "23:20:07.568 | \u001b[36mINFO\u001b[0m    | Flow run\u001b[35m 'bizarre-mantis'\u001b[0m - PrefectFuture('calculate_single_diatomic-113')\n"
      ]
     },
     "metadata": {},
     "output_type": "display_data"
    },
    {
     "data": {
      "text/html": [
       "<pre style=\"white-space:pre;overflow-x:auto;line-height:normal;font-family:Menlo,'DejaVu Sans Mono',consolas,'Courier New',monospace\">23:20:07.571 | <span style=\"color: #008080; text-decoration-color: #008080\">INFO</span>    | Flow run<span style=\"color: #800080; text-decoration-color: #800080\"> 'bizarre-mantis'</span> - Created task run 'calculate_single_diatomic-52' for task 'calculate_single_diatomic'\n",
       "</pre>\n"
      ],
      "text/plain": [
       "23:20:07.571 | \u001b[36mINFO\u001b[0m    | Flow run\u001b[35m 'bizarre-mantis'\u001b[0m - Created task run 'calculate_single_diatomic-52' for task 'calculate_single_diatomic'\n"
      ]
     },
     "metadata": {},
     "output_type": "display_data"
    },
    {
     "data": {
      "text/html": [
       "<pre style=\"white-space:pre;overflow-x:auto;line-height:normal;font-family:Menlo,'DejaVu Sans Mono',consolas,'Courier New',monospace\">23:20:07.576 | <span style=\"color: #008080; text-decoration-color: #008080\">INFO</span>    | Flow run<span style=\"color: #800080; text-decoration-color: #800080\"> 'bizarre-mantis'</span> - Submitted task run 'calculate_single_diatomic-52' for execution.\n",
       "</pre>\n"
      ],
      "text/plain": [
       "23:20:07.576 | \u001b[36mINFO\u001b[0m    | Flow run\u001b[35m 'bizarre-mantis'\u001b[0m - Submitted task run 'calculate_single_diatomic-52' for execution.\n"
      ]
     },
     "metadata": {},
     "output_type": "display_data"
    },
    {
     "data": {
      "text/html": [
       "<pre style=\"white-space:pre;overflow-x:auto;line-height:normal;font-family:Menlo,'DejaVu Sans Mono',consolas,'Courier New',monospace\">23:20:07.577 | <span style=\"color: #008080; text-decoration-color: #008080\">INFO</span>    | Flow run<span style=\"color: #800080; text-decoration-color: #800080\"> 'bizarre-mantis'</span> - PrefectFuture('calculate_single_diatomic-114')\n",
       "</pre>\n"
      ],
      "text/plain": [
       "23:20:07.577 | \u001b[36mINFO\u001b[0m    | Flow run\u001b[35m 'bizarre-mantis'\u001b[0m - PrefectFuture('calculate_single_diatomic-114')\n"
      ]
     },
     "metadata": {},
     "output_type": "display_data"
    },
    {
     "data": {
      "text/html": [
       "<pre style=\"white-space:pre;overflow-x:auto;line-height:normal;font-family:Menlo,'DejaVu Sans Mono',consolas,'Courier New',monospace\">23:20:07.580 | <span style=\"color: #008080; text-decoration-color: #008080\">INFO</span>    | Flow run<span style=\"color: #800080; text-decoration-color: #800080\"> 'bizarre-mantis'</span> - Created task run 'calculate_single_diatomic-53' for task 'calculate_single_diatomic'\n",
       "</pre>\n"
      ],
      "text/plain": [
       "23:20:07.580 | \u001b[36mINFO\u001b[0m    | Flow run\u001b[35m 'bizarre-mantis'\u001b[0m - Created task run 'calculate_single_diatomic-53' for task 'calculate_single_diatomic'\n"
      ]
     },
     "metadata": {},
     "output_type": "display_data"
    },
    {
     "data": {
      "text/html": [
       "<pre style=\"white-space:pre;overflow-x:auto;line-height:normal;font-family:Menlo,'DejaVu Sans Mono',consolas,'Courier New',monospace\">23:20:07.584 | <span style=\"color: #008080; text-decoration-color: #008080\">INFO</span>    | Flow run<span style=\"color: #800080; text-decoration-color: #800080\"> 'bizarre-mantis'</span> - Submitted task run 'calculate_single_diatomic-53' for execution.\n",
       "</pre>\n"
      ],
      "text/plain": [
       "23:20:07.584 | \u001b[36mINFO\u001b[0m    | Flow run\u001b[35m 'bizarre-mantis'\u001b[0m - Submitted task run 'calculate_single_diatomic-53' for execution.\n"
      ]
     },
     "metadata": {},
     "output_type": "display_data"
    },
    {
     "data": {
      "text/html": [
       "<pre style=\"white-space:pre;overflow-x:auto;line-height:normal;font-family:Menlo,'DejaVu Sans Mono',consolas,'Courier New',monospace\">23:20:07.588 | <span style=\"color: #008080; text-decoration-color: #008080\">INFO</span>    | Flow run<span style=\"color: #800080; text-decoration-color: #800080\"> 'bizarre-mantis'</span> - PrefectFuture('calculate_single_diatomic-115')\n",
       "</pre>\n"
      ],
      "text/plain": [
       "23:20:07.588 | \u001b[36mINFO\u001b[0m    | Flow run\u001b[35m 'bizarre-mantis'\u001b[0m - PrefectFuture('calculate_single_diatomic-115')\n"
      ]
     },
     "metadata": {},
     "output_type": "display_data"
    },
    {
     "data": {
      "text/html": [
       "<pre style=\"white-space:pre;overflow-x:auto;line-height:normal;font-family:Menlo,'DejaVu Sans Mono',consolas,'Courier New',monospace\">23:20:07.594 | <span style=\"color: #008080; text-decoration-color: #008080\">INFO</span>    | Flow run<span style=\"color: #800080; text-decoration-color: #800080\"> 'bizarre-mantis'</span> - PrefectFuture('calculate_single_diatomic-116')\n",
       "</pre>\n"
      ],
      "text/plain": [
       "23:20:07.594 | \u001b[36mINFO\u001b[0m    | Flow run\u001b[35m 'bizarre-mantis'\u001b[0m - PrefectFuture('calculate_single_diatomic-116')\n"
      ]
     },
     "metadata": {},
     "output_type": "display_data"
    },
    {
     "data": {
      "text/html": [
       "<pre style=\"white-space:pre;overflow-x:auto;line-height:normal;font-family:Menlo,'DejaVu Sans Mono',consolas,'Courier New',monospace\">23:20:07.596 | <span style=\"color: #008080; text-decoration-color: #008080\">INFO</span>    | Flow run<span style=\"color: #800080; text-decoration-color: #800080\"> 'bizarre-mantis'</span> - Created task run 'calculate_single_diatomic-57' for task 'calculate_single_diatomic'\n",
       "</pre>\n"
      ],
      "text/plain": [
       "23:20:07.596 | \u001b[36mINFO\u001b[0m    | Flow run\u001b[35m 'bizarre-mantis'\u001b[0m - Created task run 'calculate_single_diatomic-57' for task 'calculate_single_diatomic'\n"
      ]
     },
     "metadata": {},
     "output_type": "display_data"
    },
    {
     "data": {
      "text/html": [
       "<pre style=\"white-space:pre;overflow-x:auto;line-height:normal;font-family:Menlo,'DejaVu Sans Mono',consolas,'Courier New',monospace\">23:20:07.601 | <span style=\"color: #008080; text-decoration-color: #008080\">INFO</span>    | Flow run<span style=\"color: #800080; text-decoration-color: #800080\"> 'bizarre-mantis'</span> - Submitted task run 'calculate_single_diatomic-57' for execution.\n",
       "</pre>\n"
      ],
      "text/plain": [
       "23:20:07.601 | \u001b[36mINFO\u001b[0m    | Flow run\u001b[35m 'bizarre-mantis'\u001b[0m - Submitted task run 'calculate_single_diatomic-57' for execution.\n"
      ]
     },
     "metadata": {},
     "output_type": "display_data"
    },
    {
     "data": {
      "text/html": [
       "<pre style=\"white-space:pre;overflow-x:auto;line-height:normal;font-family:Menlo,'DejaVu Sans Mono',consolas,'Courier New',monospace\">23:20:07.605 | <span style=\"color: #008080; text-decoration-color: #008080\">INFO</span>    | Flow run<span style=\"color: #800080; text-decoration-color: #800080\"> 'bizarre-mantis'</span> - PrefectFuture('calculate_single_diatomic-117')\n",
       "</pre>\n"
      ],
      "text/plain": [
       "23:20:07.605 | \u001b[36mINFO\u001b[0m    | Flow run\u001b[35m 'bizarre-mantis'\u001b[0m - PrefectFuture('calculate_single_diatomic-117')\n"
      ]
     },
     "metadata": {},
     "output_type": "display_data"
    },
    {
     "data": {
      "text/html": [
       "<pre style=\"white-space:pre;overflow-x:auto;line-height:normal;font-family:Menlo,'DejaVu Sans Mono',consolas,'Courier New',monospace\">23:20:07.610 | <span style=\"color: #008080; text-decoration-color: #008080\">INFO</span>    | Flow run<span style=\"color: #800080; text-decoration-color: #800080\"> 'bizarre-mantis'</span> - PrefectFuture('calculate_single_diatomic-118')\n",
       "</pre>\n"
      ],
      "text/plain": [
       "23:20:07.610 | \u001b[36mINFO\u001b[0m    | Flow run\u001b[35m 'bizarre-mantis'\u001b[0m - PrefectFuture('calculate_single_diatomic-118')\n"
      ]
     },
     "metadata": {},
     "output_type": "display_data"
    },
    {
     "data": {
      "text/html": [
       "<pre style=\"white-space:pre;overflow-x:auto;line-height:normal;font-family:Menlo,'DejaVu Sans Mono',consolas,'Courier New',monospace\">23:20:07.617 | <span style=\"color: #008080; text-decoration-color: #008080\">INFO</span>    | Flow run<span style=\"color: #800080; text-decoration-color: #800080\"> 'bizarre-mantis'</span> - Created task run 'calculate_single_diatomic-31' for task 'calculate_single_diatomic'\n",
       "</pre>\n"
      ],
      "text/plain": [
       "23:20:07.617 | \u001b[36mINFO\u001b[0m    | Flow run\u001b[35m 'bizarre-mantis'\u001b[0m - Created task run 'calculate_single_diatomic-31' for task 'calculate_single_diatomic'\n"
      ]
     },
     "metadata": {},
     "output_type": "display_data"
    },
    {
     "data": {
      "text/html": [
       "<pre style=\"white-space:pre;overflow-x:auto;line-height:normal;font-family:Menlo,'DejaVu Sans Mono',consolas,'Courier New',monospace\">23:20:07.622 | <span style=\"color: #008080; text-decoration-color: #008080\">INFO</span>    | Flow run<span style=\"color: #800080; text-decoration-color: #800080\"> 'bizarre-mantis'</span> - Submitted task run 'calculate_single_diatomic-31' for execution.\n",
       "</pre>\n"
      ],
      "text/plain": [
       "23:20:07.622 | \u001b[36mINFO\u001b[0m    | Flow run\u001b[35m 'bizarre-mantis'\u001b[0m - Submitted task run 'calculate_single_diatomic-31' for execution.\n"
      ]
     },
     "metadata": {},
     "output_type": "display_data"
    },
    {
     "data": {
      "text/html": [
       "<pre style=\"white-space:pre;overflow-x:auto;line-height:normal;font-family:Menlo,'DejaVu Sans Mono',consolas,'Courier New',monospace\">23:20:07.623 | <span style=\"color: #008080; text-decoration-color: #008080\">INFO</span>    | Flow run<span style=\"color: #800080; text-decoration-color: #800080\"> 'bizarre-mantis'</span> - Created task run 'calculate_single_diatomic-59' for task 'calculate_single_diatomic'\n",
       "</pre>\n"
      ],
      "text/plain": [
       "23:20:07.623 | \u001b[36mINFO\u001b[0m    | Flow run\u001b[35m 'bizarre-mantis'\u001b[0m - Created task run 'calculate_single_diatomic-59' for task 'calculate_single_diatomic'\n"
      ]
     },
     "metadata": {},
     "output_type": "display_data"
    },
    {
     "data": {
      "text/html": [
       "<pre style=\"white-space:pre;overflow-x:auto;line-height:normal;font-family:Menlo,'DejaVu Sans Mono',consolas,'Courier New',monospace\">23:20:07.627 | <span style=\"color: #008080; text-decoration-color: #008080\">INFO</span>    | Flow run<span style=\"color: #800080; text-decoration-color: #800080\"> 'bizarre-mantis'</span> - Submitted task run 'calculate_single_diatomic-59' for execution.\n",
       "</pre>\n"
      ],
      "text/plain": [
       "23:20:07.627 | \u001b[36mINFO\u001b[0m    | Flow run\u001b[35m 'bizarre-mantis'\u001b[0m - Submitted task run 'calculate_single_diatomic-59' for execution.\n"
      ]
     },
     "metadata": {},
     "output_type": "display_data"
    },
    {
     "data": {
      "text/html": [
       "<pre style=\"white-space:pre;overflow-x:auto;line-height:normal;font-family:Menlo,'DejaVu Sans Mono',consolas,'Courier New',monospace\">23:20:07.632 | <span style=\"color: #008080; text-decoration-color: #008080\">INFO</span>    | Flow run<span style=\"color: #800080; text-decoration-color: #800080\"> 'bizarre-mantis'</span> - Created task run 'calculate_single_diatomic-34' for task 'calculate_single_diatomic'\n",
       "</pre>\n"
      ],
      "text/plain": [
       "23:20:07.632 | \u001b[36mINFO\u001b[0m    | Flow run\u001b[35m 'bizarre-mantis'\u001b[0m - Created task run 'calculate_single_diatomic-34' for task 'calculate_single_diatomic'\n"
      ]
     },
     "metadata": {},
     "output_type": "display_data"
    },
    {
     "data": {
      "text/html": [
       "<pre style=\"white-space:pre;overflow-x:auto;line-height:normal;font-family:Menlo,'DejaVu Sans Mono',consolas,'Courier New',monospace\">23:20:07.637 | <span style=\"color: #008080; text-decoration-color: #008080\">INFO</span>    | Flow run<span style=\"color: #800080; text-decoration-color: #800080\"> 'bizarre-mantis'</span> - Submitted task run 'calculate_single_diatomic-34' for execution.\n",
       "</pre>\n"
      ],
      "text/plain": [
       "23:20:07.637 | \u001b[36mINFO\u001b[0m    | Flow run\u001b[35m 'bizarre-mantis'\u001b[0m - Submitted task run 'calculate_single_diatomic-34' for execution.\n"
      ]
     },
     "metadata": {},
     "output_type": "display_data"
    },
    {
     "data": {
      "text/html": [
       "<pre style=\"white-space:pre;overflow-x:auto;line-height:normal;font-family:Menlo,'DejaVu Sans Mono',consolas,'Courier New',monospace\">23:20:07.641 | <span style=\"color: #008080; text-decoration-color: #008080\">INFO</span>    | Flow run<span style=\"color: #800080; text-decoration-color: #800080\"> 'bizarre-mantis'</span> - Created task run 'calculate_single_diatomic-36' for task 'calculate_single_diatomic'\n",
       "</pre>\n"
      ],
      "text/plain": [
       "23:20:07.641 | \u001b[36mINFO\u001b[0m    | Flow run\u001b[35m 'bizarre-mantis'\u001b[0m - Created task run 'calculate_single_diatomic-36' for task 'calculate_single_diatomic'\n"
      ]
     },
     "metadata": {},
     "output_type": "display_data"
    },
    {
     "data": {
      "text/html": [
       "<pre style=\"white-space:pre;overflow-x:auto;line-height:normal;font-family:Menlo,'DejaVu Sans Mono',consolas,'Courier New',monospace\">23:20:07.646 | <span style=\"color: #008080; text-decoration-color: #008080\">INFO</span>    | Flow run<span style=\"color: #800080; text-decoration-color: #800080\"> 'bizarre-mantis'</span> - Submitted task run 'calculate_single_diatomic-36' for execution.\n",
       "</pre>\n"
      ],
      "text/plain": [
       "23:20:07.646 | \u001b[36mINFO\u001b[0m    | Flow run\u001b[35m 'bizarre-mantis'\u001b[0m - Submitted task run 'calculate_single_diatomic-36' for execution.\n"
      ]
     },
     "metadata": {},
     "output_type": "display_data"
    },
    {
     "data": {
      "text/html": [
       "<pre style=\"white-space:pre;overflow-x:auto;line-height:normal;font-family:Menlo,'DejaVu Sans Mono',consolas,'Courier New',monospace\">23:20:07.655 | <span style=\"color: #008080; text-decoration-color: #008080\">INFO</span>    | Flow run<span style=\"color: #800080; text-decoration-color: #800080\"> 'bizarre-mantis'</span> - Created task run 'calculate_single_diatomic-41' for task 'calculate_single_diatomic'\n",
       "</pre>\n"
      ],
      "text/plain": [
       "23:20:07.655 | \u001b[36mINFO\u001b[0m    | Flow run\u001b[35m 'bizarre-mantis'\u001b[0m - Created task run 'calculate_single_diatomic-41' for task 'calculate_single_diatomic'\n"
      ]
     },
     "metadata": {},
     "output_type": "display_data"
    },
    {
     "data": {
      "text/html": [
       "<pre style=\"white-space:pre;overflow-x:auto;line-height:normal;font-family:Menlo,'DejaVu Sans Mono',consolas,'Courier New',monospace\">23:20:07.659 | <span style=\"color: #008080; text-decoration-color: #008080\">INFO</span>    | Flow run<span style=\"color: #800080; text-decoration-color: #800080\"> 'bizarre-mantis'</span> - Submitted task run 'calculate_single_diatomic-41' for execution.\n",
       "</pre>\n"
      ],
      "text/plain": [
       "23:20:07.659 | \u001b[36mINFO\u001b[0m    | Flow run\u001b[35m 'bizarre-mantis'\u001b[0m - Submitted task run 'calculate_single_diatomic-41' for execution.\n"
      ]
     },
     "metadata": {},
     "output_type": "display_data"
    },
    {
     "data": {
      "text/html": [
       "<pre style=\"white-space:pre;overflow-x:auto;line-height:normal;font-family:Menlo,'DejaVu Sans Mono',consolas,'Courier New',monospace\">23:20:07.669 | <span style=\"color: #008080; text-decoration-color: #008080\">INFO</span>    | Flow run<span style=\"color: #800080; text-decoration-color: #800080\"> 'bizarre-mantis'</span> - Created task run 'calculate_single_diatomic-51' for task 'calculate_single_diatomic'\n",
       "</pre>\n"
      ],
      "text/plain": [
       "23:20:07.669 | \u001b[36mINFO\u001b[0m    | Flow run\u001b[35m 'bizarre-mantis'\u001b[0m - Created task run 'calculate_single_diatomic-51' for task 'calculate_single_diatomic'\n"
      ]
     },
     "metadata": {},
     "output_type": "display_data"
    },
    {
     "data": {
      "text/html": [
       "<pre style=\"white-space:pre;overflow-x:auto;line-height:normal;font-family:Menlo,'DejaVu Sans Mono',consolas,'Courier New',monospace\">23:20:07.673 | <span style=\"color: #008080; text-decoration-color: #008080\">INFO</span>    | Flow run<span style=\"color: #800080; text-decoration-color: #800080\"> 'bizarre-mantis'</span> - Submitted task run 'calculate_single_diatomic-51' for execution.\n",
       "</pre>\n"
      ],
      "text/plain": [
       "23:20:07.673 | \u001b[36mINFO\u001b[0m    | Flow run\u001b[35m 'bizarre-mantis'\u001b[0m - Submitted task run 'calculate_single_diatomic-51' for execution.\n"
      ]
     },
     "metadata": {},
     "output_type": "display_data"
    },
    {
     "data": {
      "text/html": [
       "<pre style=\"white-space:pre;overflow-x:auto;line-height:normal;font-family:Menlo,'DejaVu Sans Mono',consolas,'Courier New',monospace\">23:20:07.678 | <span style=\"color: #008080; text-decoration-color: #008080\">INFO</span>    | Flow run<span style=\"color: #800080; text-decoration-color: #800080\"> 'bizarre-mantis'</span> - Created task run 'calculate_single_diatomic-54' for task 'calculate_single_diatomic'\n",
       "</pre>\n"
      ],
      "text/plain": [
       "23:20:07.678 | \u001b[36mINFO\u001b[0m    | Flow run\u001b[35m 'bizarre-mantis'\u001b[0m - Created task run 'calculate_single_diatomic-54' for task 'calculate_single_diatomic'\n"
      ]
     },
     "metadata": {},
     "output_type": "display_data"
    },
    {
     "data": {
      "text/html": [
       "<pre style=\"white-space:pre;overflow-x:auto;line-height:normal;font-family:Menlo,'DejaVu Sans Mono',consolas,'Courier New',monospace\">23:20:07.682 | <span style=\"color: #008080; text-decoration-color: #008080\">INFO</span>    | Flow run<span style=\"color: #800080; text-decoration-color: #800080\"> 'bizarre-mantis'</span> - Submitted task run 'calculate_single_diatomic-54' for execution.\n",
       "</pre>\n"
      ],
      "text/plain": [
       "23:20:07.682 | \u001b[36mINFO\u001b[0m    | Flow run\u001b[35m 'bizarre-mantis'\u001b[0m - Submitted task run 'calculate_single_diatomic-54' for execution.\n"
      ]
     },
     "metadata": {},
     "output_type": "display_data"
    },
    {
     "data": {
      "text/html": [
       "<pre style=\"white-space:pre;overflow-x:auto;line-height:normal;font-family:Menlo,'DejaVu Sans Mono',consolas,'Courier New',monospace\">23:20:07.688 | <span style=\"color: #008080; text-decoration-color: #008080\">INFO</span>    | Flow run<span style=\"color: #800080; text-decoration-color: #800080\"> 'bizarre-mantis'</span> - Created task run 'calculate_single_diatomic-56' for task 'calculate_single_diatomic'\n",
       "</pre>\n"
      ],
      "text/plain": [
       "23:20:07.688 | \u001b[36mINFO\u001b[0m    | Flow run\u001b[35m 'bizarre-mantis'\u001b[0m - Created task run 'calculate_single_diatomic-56' for task 'calculate_single_diatomic'\n"
      ]
     },
     "metadata": {},
     "output_type": "display_data"
    },
    {
     "data": {
      "text/html": [
       "<pre style=\"white-space:pre;overflow-x:auto;line-height:normal;font-family:Menlo,'DejaVu Sans Mono',consolas,'Courier New',monospace\">23:20:07.692 | <span style=\"color: #008080; text-decoration-color: #008080\">INFO</span>    | Flow run<span style=\"color: #800080; text-decoration-color: #800080\"> 'bizarre-mantis'</span> - Submitted task run 'calculate_single_diatomic-56' for execution.\n",
       "</pre>\n"
      ],
      "text/plain": [
       "23:20:07.692 | \u001b[36mINFO\u001b[0m    | Flow run\u001b[35m 'bizarre-mantis'\u001b[0m - Submitted task run 'calculate_single_diatomic-56' for execution.\n"
      ]
     },
     "metadata": {},
     "output_type": "display_data"
    },
    {
     "data": {
      "text/html": [
       "<pre style=\"white-space:pre;overflow-x:auto;line-height:normal;font-family:Menlo,'DejaVu Sans Mono',consolas,'Courier New',monospace\">23:20:07.694 | <span style=\"color: #008080; text-decoration-color: #008080\">INFO</span>    | Flow run<span style=\"color: #800080; text-decoration-color: #800080\"> 'bizarre-mantis'</span> - Created task run 'calculate_single_diatomic-58' for task 'calculate_single_diatomic'\n",
       "</pre>\n"
      ],
      "text/plain": [
       "23:20:07.694 | \u001b[36mINFO\u001b[0m    | Flow run\u001b[35m 'bizarre-mantis'\u001b[0m - Created task run 'calculate_single_diatomic-58' for task 'calculate_single_diatomic'\n"
      ]
     },
     "metadata": {},
     "output_type": "display_data"
    },
    {
     "data": {
      "text/html": [
       "<pre style=\"white-space:pre;overflow-x:auto;line-height:normal;font-family:Menlo,'DejaVu Sans Mono',consolas,'Courier New',monospace\">23:20:07.698 | <span style=\"color: #008080; text-decoration-color: #008080\">INFO</span>    | Flow run<span style=\"color: #800080; text-decoration-color: #800080\"> 'bizarre-mantis'</span> - Submitted task run 'calculate_single_diatomic-58' for execution.\n",
       "</pre>\n"
      ],
      "text/plain": [
       "23:20:07.698 | \u001b[36mINFO\u001b[0m    | Flow run\u001b[35m 'bizarre-mantis'\u001b[0m - Submitted task run 'calculate_single_diatomic-58' for execution.\n"
      ]
     },
     "metadata": {},
     "output_type": "display_data"
    },
    {
     "data": {
      "text/html": [
       "<pre style=\"white-space:pre;overflow-x:auto;line-height:normal;font-family:Menlo,'DejaVu Sans Mono',consolas,'Courier New',monospace\">23:20:07.713 | <span style=\"color: #008080; text-decoration-color: #008080\">INFO</span>    | Flow run<span style=\"color: #800080; text-decoration-color: #800080\"> 'bizarre-mantis'</span> - Created task run 'calculate_single_diatomic-44' for task 'calculate_single_diatomic'\n",
       "</pre>\n"
      ],
      "text/plain": [
       "23:20:07.713 | \u001b[36mINFO\u001b[0m    | Flow run\u001b[35m 'bizarre-mantis'\u001b[0m - Created task run 'calculate_single_diatomic-44' for task 'calculate_single_diatomic'\n"
      ]
     },
     "metadata": {},
     "output_type": "display_data"
    },
    {
     "data": {
      "text/html": [
       "<pre style=\"white-space:pre;overflow-x:auto;line-height:normal;font-family:Menlo,'DejaVu Sans Mono',consolas,'Courier New',monospace\">23:20:07.719 | <span style=\"color: #008080; text-decoration-color: #008080\">INFO</span>    | Flow run<span style=\"color: #800080; text-decoration-color: #800080\"> 'bizarre-mantis'</span> - Submitted task run 'calculate_single_diatomic-44' for execution.\n",
       "</pre>\n"
      ],
      "text/plain": [
       "23:20:07.719 | \u001b[36mINFO\u001b[0m    | Flow run\u001b[35m 'bizarre-mantis'\u001b[0m - Submitted task run 'calculate_single_diatomic-44' for execution.\n"
      ]
     },
     "metadata": {},
     "output_type": "display_data"
    },
    {
     "data": {
      "text/html": [
       "<pre style=\"white-space:pre;overflow-x:auto;line-height:normal;font-family:Menlo,'DejaVu Sans Mono',consolas,'Courier New',monospace\">23:20:07.722 | <span style=\"color: #008080; text-decoration-color: #008080\">INFO</span>    | Flow run<span style=\"color: #800080; text-decoration-color: #800080\"> 'bizarre-mantis'</span> - Created task run 'calculate_single_diatomic-61' for task 'calculate_single_diatomic'\n",
       "</pre>\n"
      ],
      "text/plain": [
       "23:20:07.722 | \u001b[36mINFO\u001b[0m    | Flow run\u001b[35m 'bizarre-mantis'\u001b[0m - Created task run 'calculate_single_diatomic-61' for task 'calculate_single_diatomic'\n"
      ]
     },
     "metadata": {},
     "output_type": "display_data"
    },
    {
     "data": {
      "text/html": [
       "<pre style=\"white-space:pre;overflow-x:auto;line-height:normal;font-family:Menlo,'DejaVu Sans Mono',consolas,'Courier New',monospace\">23:20:07.726 | <span style=\"color: #008080; text-decoration-color: #008080\">INFO</span>    | Flow run<span style=\"color: #800080; text-decoration-color: #800080\"> 'bizarre-mantis'</span> - Submitted task run 'calculate_single_diatomic-61' for execution.\n",
       "</pre>\n"
      ],
      "text/plain": [
       "23:20:07.726 | \u001b[36mINFO\u001b[0m    | Flow run\u001b[35m 'bizarre-mantis'\u001b[0m - Submitted task run 'calculate_single_diatomic-61' for execution.\n"
      ]
     },
     "metadata": {},
     "output_type": "display_data"
    },
    {
     "data": {
      "text/html": [
       "<pre style=\"white-space:pre;overflow-x:auto;line-height:normal;font-family:Menlo,'DejaVu Sans Mono',consolas,'Courier New',monospace\">23:20:07.733 | <span style=\"color: #008080; text-decoration-color: #008080\">INFO</span>    | Flow run<span style=\"color: #800080; text-decoration-color: #800080\"> 'bizarre-mantis'</span> - Created task run 'calculate_single_diatomic-49' for task 'calculate_single_diatomic'\n",
       "</pre>\n"
      ],
      "text/plain": [
       "23:20:07.733 | \u001b[36mINFO\u001b[0m    | Flow run\u001b[35m 'bizarre-mantis'\u001b[0m - Created task run 'calculate_single_diatomic-49' for task 'calculate_single_diatomic'\n"
      ]
     },
     "metadata": {},
     "output_type": "display_data"
    },
    {
     "data": {
      "text/html": [
       "<pre style=\"white-space:pre;overflow-x:auto;line-height:normal;font-family:Menlo,'DejaVu Sans Mono',consolas,'Courier New',monospace\">23:20:07.737 | <span style=\"color: #008080; text-decoration-color: #008080\">INFO</span>    | Flow run<span style=\"color: #800080; text-decoration-color: #800080\"> 'bizarre-mantis'</span> - Submitted task run 'calculate_single_diatomic-49' for execution.\n",
       "</pre>\n"
      ],
      "text/plain": [
       "23:20:07.737 | \u001b[36mINFO\u001b[0m    | Flow run\u001b[35m 'bizarre-mantis'\u001b[0m - Submitted task run 'calculate_single_diatomic-49' for execution.\n"
      ]
     },
     "metadata": {},
     "output_type": "display_data"
    },
    {
     "data": {
      "text/html": [
       "<pre style=\"white-space:pre;overflow-x:auto;line-height:normal;font-family:Menlo,'DejaVu Sans Mono',consolas,'Courier New',monospace\">23:20:07.740 | <span style=\"color: #008080; text-decoration-color: #008080\">INFO</span>    | Flow run<span style=\"color: #800080; text-decoration-color: #800080\"> 'bizarre-mantis'</span> - Created task run 'calculate_single_diatomic-50' for task 'calculate_single_diatomic'\n",
       "</pre>\n"
      ],
      "text/plain": [
       "23:20:07.740 | \u001b[36mINFO\u001b[0m    | Flow run\u001b[35m 'bizarre-mantis'\u001b[0m - Created task run 'calculate_single_diatomic-50' for task 'calculate_single_diatomic'\n"
      ]
     },
     "metadata": {},
     "output_type": "display_data"
    },
    {
     "data": {
      "text/html": [
       "<pre style=\"white-space:pre;overflow-x:auto;line-height:normal;font-family:Menlo,'DejaVu Sans Mono',consolas,'Courier New',monospace\">23:20:07.745 | <span style=\"color: #008080; text-decoration-color: #008080\">INFO</span>    | Flow run<span style=\"color: #800080; text-decoration-color: #800080\"> 'bizarre-mantis'</span> - Submitted task run 'calculate_single_diatomic-50' for execution.\n",
       "</pre>\n"
      ],
      "text/plain": [
       "23:20:07.745 | \u001b[36mINFO\u001b[0m    | Flow run\u001b[35m 'bizarre-mantis'\u001b[0m - Submitted task run 'calculate_single_diatomic-50' for execution.\n"
      ]
     },
     "metadata": {},
     "output_type": "display_data"
    },
    {
     "data": {
      "text/html": [
       "<pre style=\"white-space:pre;overflow-x:auto;line-height:normal;font-family:Menlo,'DejaVu Sans Mono',consolas,'Courier New',monospace\">23:20:07.753 | <span style=\"color: #008080; text-decoration-color: #008080\">INFO</span>    | Flow run<span style=\"color: #800080; text-decoration-color: #800080\"> 'bizarre-mantis'</span> - Created task run 'calculate_single_diatomic-62' for task 'calculate_single_diatomic'\n",
       "</pre>\n"
      ],
      "text/plain": [
       "23:20:07.753 | \u001b[36mINFO\u001b[0m    | Flow run\u001b[35m 'bizarre-mantis'\u001b[0m - Created task run 'calculate_single_diatomic-62' for task 'calculate_single_diatomic'\n"
      ]
     },
     "metadata": {},
     "output_type": "display_data"
    },
    {
     "data": {
      "text/html": [
       "<pre style=\"white-space:pre;overflow-x:auto;line-height:normal;font-family:Menlo,'DejaVu Sans Mono',consolas,'Courier New',monospace\">23:20:07.757 | <span style=\"color: #008080; text-decoration-color: #008080\">INFO</span>    | Flow run<span style=\"color: #800080; text-decoration-color: #800080\"> 'bizarre-mantis'</span> - Submitted task run 'calculate_single_diatomic-62' for execution.\n",
       "</pre>\n"
      ],
      "text/plain": [
       "23:20:07.757 | \u001b[36mINFO\u001b[0m    | Flow run\u001b[35m 'bizarre-mantis'\u001b[0m - Submitted task run 'calculate_single_diatomic-62' for execution.\n"
      ]
     },
     "metadata": {},
     "output_type": "display_data"
    },
    {
     "data": {
      "text/html": [
       "<pre style=\"white-space:pre;overflow-x:auto;line-height:normal;font-family:Menlo,'DejaVu Sans Mono',consolas,'Courier New',monospace\">23:20:07.760 | <span style=\"color: #008080; text-decoration-color: #008080\">INFO</span>    | Flow run<span style=\"color: #800080; text-decoration-color: #800080\"> 'bizarre-mantis'</span> - Created task run 'calculate_single_diatomic-55' for task 'calculate_single_diatomic'\n",
       "</pre>\n"
      ],
      "text/plain": [
       "23:20:07.760 | \u001b[36mINFO\u001b[0m    | Flow run\u001b[35m 'bizarre-mantis'\u001b[0m - Created task run 'calculate_single_diatomic-55' for task 'calculate_single_diatomic'\n"
      ]
     },
     "metadata": {},
     "output_type": "display_data"
    },
    {
     "data": {
      "text/html": [
       "<pre style=\"white-space:pre;overflow-x:auto;line-height:normal;font-family:Menlo,'DejaVu Sans Mono',consolas,'Courier New',monospace\">23:20:07.765 | <span style=\"color: #008080; text-decoration-color: #008080\">INFO</span>    | Flow run<span style=\"color: #800080; text-decoration-color: #800080\"> 'bizarre-mantis'</span> - Submitted task run 'calculate_single_diatomic-55' for execution.\n",
       "</pre>\n"
      ],
      "text/plain": [
       "23:20:07.765 | \u001b[36mINFO\u001b[0m    | Flow run\u001b[35m 'bizarre-mantis'\u001b[0m - Submitted task run 'calculate_single_diatomic-55' for execution.\n"
      ]
     },
     "metadata": {},
     "output_type": "display_data"
    },
    {
     "data": {
      "text/html": [
       "<pre style=\"white-space:pre;overflow-x:auto;line-height:normal;font-family:Menlo,'DejaVu Sans Mono',consolas,'Courier New',monospace\">23:20:07.772 | <span style=\"color: #008080; text-decoration-color: #008080\">INFO</span>    | Flow run<span style=\"color: #800080; text-decoration-color: #800080\"> 'bizarre-mantis'</span> - Created task run 'calculate_single_diatomic-64' for task 'calculate_single_diatomic'\n",
       "</pre>\n"
      ],
      "text/plain": [
       "23:20:07.772 | \u001b[36mINFO\u001b[0m    | Flow run\u001b[35m 'bizarre-mantis'\u001b[0m - Created task run 'calculate_single_diatomic-64' for task 'calculate_single_diatomic'\n"
      ]
     },
     "metadata": {},
     "output_type": "display_data"
    },
    {
     "data": {
      "text/html": [
       "<pre style=\"white-space:pre;overflow-x:auto;line-height:normal;font-family:Menlo,'DejaVu Sans Mono',consolas,'Courier New',monospace\">23:20:07.776 | <span style=\"color: #008080; text-decoration-color: #008080\">INFO</span>    | Flow run<span style=\"color: #800080; text-decoration-color: #800080\"> 'bizarre-mantis'</span> - Submitted task run 'calculate_single_diatomic-64' for execution.\n",
       "</pre>\n"
      ],
      "text/plain": [
       "23:20:07.776 | \u001b[36mINFO\u001b[0m    | Flow run\u001b[35m 'bizarre-mantis'\u001b[0m - Submitted task run 'calculate_single_diatomic-64' for execution.\n"
      ]
     },
     "metadata": {},
     "output_type": "display_data"
    },
    {
     "data": {
      "text/html": [
       "<pre style=\"white-space:pre;overflow-x:auto;line-height:normal;font-family:Menlo,'DejaVu Sans Mono',consolas,'Courier New',monospace\">23:20:07.782 | <span style=\"color: #008080; text-decoration-color: #008080\">INFO</span>    | Flow run<span style=\"color: #800080; text-decoration-color: #800080\"> 'bizarre-mantis'</span> - Created task run 'calculate_single_diatomic-65' for task 'calculate_single_diatomic'\n",
       "</pre>\n"
      ],
      "text/plain": [
       "23:20:07.782 | \u001b[36mINFO\u001b[0m    | Flow run\u001b[35m 'bizarre-mantis'\u001b[0m - Created task run 'calculate_single_diatomic-65' for task 'calculate_single_diatomic'\n"
      ]
     },
     "metadata": {},
     "output_type": "display_data"
    },
    {
     "data": {
      "text/html": [
       "<pre style=\"white-space:pre;overflow-x:auto;line-height:normal;font-family:Menlo,'DejaVu Sans Mono',consolas,'Courier New',monospace\">23:20:07.787 | <span style=\"color: #008080; text-decoration-color: #008080\">INFO</span>    | Flow run<span style=\"color: #800080; text-decoration-color: #800080\"> 'bizarre-mantis'</span> - Submitted task run 'calculate_single_diatomic-65' for execution.\n",
       "</pre>\n"
      ],
      "text/plain": [
       "23:20:07.787 | \u001b[36mINFO\u001b[0m    | Flow run\u001b[35m 'bizarre-mantis'\u001b[0m - Submitted task run 'calculate_single_diatomic-65' for execution.\n"
      ]
     },
     "metadata": {},
     "output_type": "display_data"
    },
    {
     "data": {
      "text/html": [
       "<pre style=\"white-space:pre;overflow-x:auto;line-height:normal;font-family:Menlo,'DejaVu Sans Mono',consolas,'Courier New',monospace\">23:20:07.790 | <span style=\"color: #008080; text-decoration-color: #008080\">INFO</span>    | Flow run<span style=\"color: #800080; text-decoration-color: #800080\"> 'bizarre-mantis'</span> - Created task run 'calculate_single_diatomic-66' for task 'calculate_single_diatomic'\n",
       "</pre>\n"
      ],
      "text/plain": [
       "23:20:07.790 | \u001b[36mINFO\u001b[0m    | Flow run\u001b[35m 'bizarre-mantis'\u001b[0m - Created task run 'calculate_single_diatomic-66' for task 'calculate_single_diatomic'\n"
      ]
     },
     "metadata": {},
     "output_type": "display_data"
    },
    {
     "data": {
      "text/html": [
       "<pre style=\"white-space:pre;overflow-x:auto;line-height:normal;font-family:Menlo,'DejaVu Sans Mono',consolas,'Courier New',monospace\">23:20:07.795 | <span style=\"color: #008080; text-decoration-color: #008080\">INFO</span>    | Flow run<span style=\"color: #800080; text-decoration-color: #800080\"> 'bizarre-mantis'</span> - Submitted task run 'calculate_single_diatomic-66' for execution.\n",
       "</pre>\n"
      ],
      "text/plain": [
       "23:20:07.795 | \u001b[36mINFO\u001b[0m    | Flow run\u001b[35m 'bizarre-mantis'\u001b[0m - Submitted task run 'calculate_single_diatomic-66' for execution.\n"
      ]
     },
     "metadata": {},
     "output_type": "display_data"
    },
    {
     "data": {
      "text/html": [
       "<pre style=\"white-space:pre;overflow-x:auto;line-height:normal;font-family:Menlo,'DejaVu Sans Mono',consolas,'Courier New',monospace\">23:20:07.804 | <span style=\"color: #008080; text-decoration-color: #008080\">INFO</span>    | Flow run<span style=\"color: #800080; text-decoration-color: #800080\"> 'bizarre-mantis'</span> - Created task run 'calculate_single_diatomic-60' for task 'calculate_single_diatomic'\n",
       "</pre>\n"
      ],
      "text/plain": [
       "23:20:07.804 | \u001b[36mINFO\u001b[0m    | Flow run\u001b[35m 'bizarre-mantis'\u001b[0m - Created task run 'calculate_single_diatomic-60' for task 'calculate_single_diatomic'\n"
      ]
     },
     "metadata": {},
     "output_type": "display_data"
    },
    {
     "data": {
      "text/html": [
       "<pre style=\"white-space:pre;overflow-x:auto;line-height:normal;font-family:Menlo,'DejaVu Sans Mono',consolas,'Courier New',monospace\">23:20:07.808 | <span style=\"color: #008080; text-decoration-color: #008080\">INFO</span>    | Flow run<span style=\"color: #800080; text-decoration-color: #800080\"> 'bizarre-mantis'</span> - Submitted task run 'calculate_single_diatomic-60' for execution.\n",
       "</pre>\n"
      ],
      "text/plain": [
       "23:20:07.808 | \u001b[36mINFO\u001b[0m    | Flow run\u001b[35m 'bizarre-mantis'\u001b[0m - Submitted task run 'calculate_single_diatomic-60' for execution.\n"
      ]
     },
     "metadata": {},
     "output_type": "display_data"
    },
    {
     "data": {
      "text/html": [
       "<pre style=\"white-space:pre;overflow-x:auto;line-height:normal;font-family:Menlo,'DejaVu Sans Mono',consolas,'Courier New',monospace\">23:20:07.813 | <span style=\"color: #008080; text-decoration-color: #008080\">INFO</span>    | Flow run<span style=\"color: #800080; text-decoration-color: #800080\"> 'bizarre-mantis'</span> - Created task run 'calculate_single_diatomic-67' for task 'calculate_single_diatomic'\n",
       "</pre>\n"
      ],
      "text/plain": [
       "23:20:07.813 | \u001b[36mINFO\u001b[0m    | Flow run\u001b[35m 'bizarre-mantis'\u001b[0m - Created task run 'calculate_single_diatomic-67' for task 'calculate_single_diatomic'\n"
      ]
     },
     "metadata": {},
     "output_type": "display_data"
    },
    {
     "data": {
      "text/html": [
       "<pre style=\"white-space:pre;overflow-x:auto;line-height:normal;font-family:Menlo,'DejaVu Sans Mono',consolas,'Courier New',monospace\">23:20:07.817 | <span style=\"color: #008080; text-decoration-color: #008080\">INFO</span>    | Flow run<span style=\"color: #800080; text-decoration-color: #800080\"> 'bizarre-mantis'</span> - Submitted task run 'calculate_single_diatomic-67' for execution.\n",
       "</pre>\n"
      ],
      "text/plain": [
       "23:20:07.817 | \u001b[36mINFO\u001b[0m    | Flow run\u001b[35m 'bizarre-mantis'\u001b[0m - Submitted task run 'calculate_single_diatomic-67' for execution.\n"
      ]
     },
     "metadata": {},
     "output_type": "display_data"
    },
    {
     "data": {
      "text/html": [
       "<pre style=\"white-space:pre;overflow-x:auto;line-height:normal;font-family:Menlo,'DejaVu Sans Mono',consolas,'Courier New',monospace\">23:20:07.821 | <span style=\"color: #008080; text-decoration-color: #008080\">INFO</span>    | Flow run<span style=\"color: #800080; text-decoration-color: #800080\"> 'bizarre-mantis'</span> - Created task run 'calculate_single_diatomic-63' for task 'calculate_single_diatomic'\n",
       "</pre>\n"
      ],
      "text/plain": [
       "23:20:07.821 | \u001b[36mINFO\u001b[0m    | Flow run\u001b[35m 'bizarre-mantis'\u001b[0m - Created task run 'calculate_single_diatomic-63' for task 'calculate_single_diatomic'\n"
      ]
     },
     "metadata": {},
     "output_type": "display_data"
    },
    {
     "data": {
      "text/html": [
       "<pre style=\"white-space:pre;overflow-x:auto;line-height:normal;font-family:Menlo,'DejaVu Sans Mono',consolas,'Courier New',monospace\">23:20:07.826 | <span style=\"color: #008080; text-decoration-color: #008080\">INFO</span>    | Flow run<span style=\"color: #800080; text-decoration-color: #800080\"> 'bizarre-mantis'</span> - Submitted task run 'calculate_single_diatomic-63' for execution.\n",
       "</pre>\n"
      ],
      "text/plain": [
       "23:20:07.826 | \u001b[36mINFO\u001b[0m    | Flow run\u001b[35m 'bizarre-mantis'\u001b[0m - Submitted task run 'calculate_single_diatomic-63' for execution.\n"
      ]
     },
     "metadata": {},
     "output_type": "display_data"
    },
    {
     "data": {
      "text/html": [
       "<pre style=\"white-space:pre;overflow-x:auto;line-height:normal;font-family:Menlo,'DejaVu Sans Mono',consolas,'Courier New',monospace\">23:20:07.835 | <span style=\"color: #008080; text-decoration-color: #008080\">INFO</span>    | Flow run<span style=\"color: #800080; text-decoration-color: #800080\"> 'bizarre-mantis'</span> - Created task run 'calculate_single_diatomic-68' for task 'calculate_single_diatomic'\n",
       "</pre>\n"
      ],
      "text/plain": [
       "23:20:07.835 | \u001b[36mINFO\u001b[0m    | Flow run\u001b[35m 'bizarre-mantis'\u001b[0m - Created task run 'calculate_single_diatomic-68' for task 'calculate_single_diatomic'\n"
      ]
     },
     "metadata": {},
     "output_type": "display_data"
    },
    {
     "data": {
      "text/html": [
       "<pre style=\"white-space:pre;overflow-x:auto;line-height:normal;font-family:Menlo,'DejaVu Sans Mono',consolas,'Courier New',monospace\">23:20:07.840 | <span style=\"color: #008080; text-decoration-color: #008080\">INFO</span>    | Flow run<span style=\"color: #800080; text-decoration-color: #800080\"> 'bizarre-mantis'</span> - Submitted task run 'calculate_single_diatomic-68' for execution.\n",
       "</pre>\n"
      ],
      "text/plain": [
       "23:20:07.840 | \u001b[36mINFO\u001b[0m    | Flow run\u001b[35m 'bizarre-mantis'\u001b[0m - Submitted task run 'calculate_single_diatomic-68' for execution.\n"
      ]
     },
     "metadata": {},
     "output_type": "display_data"
    },
    {
     "data": {
      "text/html": [
       "<pre style=\"white-space:pre;overflow-x:auto;line-height:normal;font-family:Menlo,'DejaVu Sans Mono',consolas,'Courier New',monospace\">23:20:07.852 | <span style=\"color: #008080; text-decoration-color: #008080\">INFO</span>    | Flow run<span style=\"color: #800080; text-decoration-color: #800080\"> 'bizarre-mantis'</span> - Created task run 'calculate_single_diatomic-69' for task 'calculate_single_diatomic'\n",
       "</pre>\n"
      ],
      "text/plain": [
       "23:20:07.852 | \u001b[36mINFO\u001b[0m    | Flow run\u001b[35m 'bizarre-mantis'\u001b[0m - Created task run 'calculate_single_diatomic-69' for task 'calculate_single_diatomic'\n"
      ]
     },
     "metadata": {},
     "output_type": "display_data"
    },
    {
     "data": {
      "text/html": [
       "<pre style=\"white-space:pre;overflow-x:auto;line-height:normal;font-family:Menlo,'DejaVu Sans Mono',consolas,'Courier New',monospace\">23:20:07.856 | <span style=\"color: #008080; text-decoration-color: #008080\">INFO</span>    | Flow run<span style=\"color: #800080; text-decoration-color: #800080\"> 'bizarre-mantis'</span> - Submitted task run 'calculate_single_diatomic-69' for execution.\n",
       "</pre>\n"
      ],
      "text/plain": [
       "23:20:07.856 | \u001b[36mINFO\u001b[0m    | Flow run\u001b[35m 'bizarre-mantis'\u001b[0m - Submitted task run 'calculate_single_diatomic-69' for execution.\n"
      ]
     },
     "metadata": {},
     "output_type": "display_data"
    },
    {
     "data": {
      "text/html": [
       "<pre style=\"white-space:pre;overflow-x:auto;line-height:normal;font-family:Menlo,'DejaVu Sans Mono',consolas,'Courier New',monospace\">23:20:07.861 | <span style=\"color: #008080; text-decoration-color: #008080\">INFO</span>    | Flow run<span style=\"color: #800080; text-decoration-color: #800080\"> 'bizarre-mantis'</span> - Created task run 'calculate_single_diatomic-70' for task 'calculate_single_diatomic'\n",
       "</pre>\n"
      ],
      "text/plain": [
       "23:20:07.861 | \u001b[36mINFO\u001b[0m    | Flow run\u001b[35m 'bizarre-mantis'\u001b[0m - Created task run 'calculate_single_diatomic-70' for task 'calculate_single_diatomic'\n"
      ]
     },
     "metadata": {},
     "output_type": "display_data"
    },
    {
     "data": {
      "text/html": [
       "<pre style=\"white-space:pre;overflow-x:auto;line-height:normal;font-family:Menlo,'DejaVu Sans Mono',consolas,'Courier New',monospace\">23:20:07.866 | <span style=\"color: #008080; text-decoration-color: #008080\">INFO</span>    | Flow run<span style=\"color: #800080; text-decoration-color: #800080\"> 'bizarre-mantis'</span> - Submitted task run 'calculate_single_diatomic-70' for execution.\n",
       "</pre>\n"
      ],
      "text/plain": [
       "23:20:07.866 | \u001b[36mINFO\u001b[0m    | Flow run\u001b[35m 'bizarre-mantis'\u001b[0m - Submitted task run 'calculate_single_diatomic-70' for execution.\n"
      ]
     },
     "metadata": {},
     "output_type": "display_data"
    },
    {
     "data": {
      "text/html": [
       "<pre style=\"white-space:pre;overflow-x:auto;line-height:normal;font-family:Menlo,'DejaVu Sans Mono',consolas,'Courier New',monospace\">23:20:07.869 | <span style=\"color: #008080; text-decoration-color: #008080\">INFO</span>    | Flow run<span style=\"color: #800080; text-decoration-color: #800080\"> 'bizarre-mantis'</span> - Created task run 'calculate_single_diatomic-71' for task 'calculate_single_diatomic'\n",
       "</pre>\n"
      ],
      "text/plain": [
       "23:20:07.869 | \u001b[36mINFO\u001b[0m    | Flow run\u001b[35m 'bizarre-mantis'\u001b[0m - Created task run 'calculate_single_diatomic-71' for task 'calculate_single_diatomic'\n"
      ]
     },
     "metadata": {},
     "output_type": "display_data"
    },
    {
     "data": {
      "text/html": [
       "<pre style=\"white-space:pre;overflow-x:auto;line-height:normal;font-family:Menlo,'DejaVu Sans Mono',consolas,'Courier New',monospace\">23:20:07.874 | <span style=\"color: #008080; text-decoration-color: #008080\">INFO</span>    | Flow run<span style=\"color: #800080; text-decoration-color: #800080\"> 'bizarre-mantis'</span> - Submitted task run 'calculate_single_diatomic-71' for execution.\n",
       "</pre>\n"
      ],
      "text/plain": [
       "23:20:07.874 | \u001b[36mINFO\u001b[0m    | Flow run\u001b[35m 'bizarre-mantis'\u001b[0m - Submitted task run 'calculate_single_diatomic-71' for execution.\n"
      ]
     },
     "metadata": {},
     "output_type": "display_data"
    },
    {
     "data": {
      "text/html": [
       "<pre style=\"white-space:pre;overflow-x:auto;line-height:normal;font-family:Menlo,'DejaVu Sans Mono',consolas,'Courier New',monospace\">23:20:07.883 | <span style=\"color: #008080; text-decoration-color: #008080\">INFO</span>    | Flow run<span style=\"color: #800080; text-decoration-color: #800080\"> 'bizarre-mantis'</span> - Created task run 'calculate_single_diatomic-72' for task 'calculate_single_diatomic'\n",
       "</pre>\n"
      ],
      "text/plain": [
       "23:20:07.883 | \u001b[36mINFO\u001b[0m    | Flow run\u001b[35m 'bizarre-mantis'\u001b[0m - Created task run 'calculate_single_diatomic-72' for task 'calculate_single_diatomic'\n"
      ]
     },
     "metadata": {},
     "output_type": "display_data"
    },
    {
     "data": {
      "text/html": [
       "<pre style=\"white-space:pre;overflow-x:auto;line-height:normal;font-family:Menlo,'DejaVu Sans Mono',consolas,'Courier New',monospace\">23:20:07.888 | <span style=\"color: #008080; text-decoration-color: #008080\">INFO</span>    | Flow run<span style=\"color: #800080; text-decoration-color: #800080\"> 'bizarre-mantis'</span> - Submitted task run 'calculate_single_diatomic-72' for execution.\n",
       "</pre>\n"
      ],
      "text/plain": [
       "23:20:07.888 | \u001b[36mINFO\u001b[0m    | Flow run\u001b[35m 'bizarre-mantis'\u001b[0m - Submitted task run 'calculate_single_diatomic-72' for execution.\n"
      ]
     },
     "metadata": {},
     "output_type": "display_data"
    },
    {
     "data": {
      "text/html": [
       "<pre style=\"white-space:pre;overflow-x:auto;line-height:normal;font-family:Menlo,'DejaVu Sans Mono',consolas,'Courier New',monospace\">23:20:07.894 | <span style=\"color: #008080; text-decoration-color: #008080\">INFO</span>    | Flow run<span style=\"color: #800080; text-decoration-color: #800080\"> 'bizarre-mantis'</span> - Created task run 'calculate_single_diatomic-43' for task 'calculate_single_diatomic'\n",
       "</pre>\n"
      ],
      "text/plain": [
       "23:20:07.894 | \u001b[36mINFO\u001b[0m    | Flow run\u001b[35m 'bizarre-mantis'\u001b[0m - Created task run 'calculate_single_diatomic-43' for task 'calculate_single_diatomic'\n"
      ]
     },
     "metadata": {},
     "output_type": "display_data"
    },
    {
     "data": {
      "text/html": [
       "<pre style=\"white-space:pre;overflow-x:auto;line-height:normal;font-family:Menlo,'DejaVu Sans Mono',consolas,'Courier New',monospace\">23:20:07.898 | <span style=\"color: #008080; text-decoration-color: #008080\">INFO</span>    | Flow run<span style=\"color: #800080; text-decoration-color: #800080\"> 'bizarre-mantis'</span> - Submitted task run 'calculate_single_diatomic-43' for execution.\n",
       "</pre>\n"
      ],
      "text/plain": [
       "23:20:07.898 | \u001b[36mINFO\u001b[0m    | Flow run\u001b[35m 'bizarre-mantis'\u001b[0m - Submitted task run 'calculate_single_diatomic-43' for execution.\n"
      ]
     },
     "metadata": {},
     "output_type": "display_data"
    },
    {
     "data": {
      "text/html": [
       "<pre style=\"white-space:pre;overflow-x:auto;line-height:normal;font-family:Menlo,'DejaVu Sans Mono',consolas,'Courier New',monospace\">23:20:07.901 | <span style=\"color: #008080; text-decoration-color: #008080\">INFO</span>    | Flow run<span style=\"color: #800080; text-decoration-color: #800080\"> 'bizarre-mantis'</span> - Created task run 'calculate_single_diatomic-73' for task 'calculate_single_diatomic'\n",
       "</pre>\n"
      ],
      "text/plain": [
       "23:20:07.901 | \u001b[36mINFO\u001b[0m    | Flow run\u001b[35m 'bizarre-mantis'\u001b[0m - Created task run 'calculate_single_diatomic-73' for task 'calculate_single_diatomic'\n"
      ]
     },
     "metadata": {},
     "output_type": "display_data"
    },
    {
     "data": {
      "text/html": [
       "<pre style=\"white-space:pre;overflow-x:auto;line-height:normal;font-family:Menlo,'DejaVu Sans Mono',consolas,'Courier New',monospace\">23:20:07.905 | <span style=\"color: #008080; text-decoration-color: #008080\">INFO</span>    | Flow run<span style=\"color: #800080; text-decoration-color: #800080\"> 'bizarre-mantis'</span> - Submitted task run 'calculate_single_diatomic-73' for execution.\n",
       "</pre>\n"
      ],
      "text/plain": [
       "23:20:07.905 | \u001b[36mINFO\u001b[0m    | Flow run\u001b[35m 'bizarre-mantis'\u001b[0m - Submitted task run 'calculate_single_diatomic-73' for execution.\n"
      ]
     },
     "metadata": {},
     "output_type": "display_data"
    },
    {
     "data": {
      "text/html": [
       "<pre style=\"white-space:pre;overflow-x:auto;line-height:normal;font-family:Menlo,'DejaVu Sans Mono',consolas,'Courier New',monospace\">23:20:07.910 | <span style=\"color: #008080; text-decoration-color: #008080\">INFO</span>    | Flow run<span style=\"color: #800080; text-decoration-color: #800080\"> 'bizarre-mantis'</span> - Created task run 'calculate_single_diatomic-74' for task 'calculate_single_diatomic'\n",
       "</pre>\n"
      ],
      "text/plain": [
       "23:20:07.910 | \u001b[36mINFO\u001b[0m    | Flow run\u001b[35m 'bizarre-mantis'\u001b[0m - Created task run 'calculate_single_diatomic-74' for task 'calculate_single_diatomic'\n"
      ]
     },
     "metadata": {},
     "output_type": "display_data"
    },
    {
     "data": {
      "text/html": [
       "<pre style=\"white-space:pre;overflow-x:auto;line-height:normal;font-family:Menlo,'DejaVu Sans Mono',consolas,'Courier New',monospace\">23:20:07.915 | <span style=\"color: #008080; text-decoration-color: #008080\">INFO</span>    | Flow run<span style=\"color: #800080; text-decoration-color: #800080\"> 'bizarre-mantis'</span> - Submitted task run 'calculate_single_diatomic-74' for execution.\n",
       "</pre>\n"
      ],
      "text/plain": [
       "23:20:07.915 | \u001b[36mINFO\u001b[0m    | Flow run\u001b[35m 'bizarre-mantis'\u001b[0m - Submitted task run 'calculate_single_diatomic-74' for execution.\n"
      ]
     },
     "metadata": {},
     "output_type": "display_data"
    },
    {
     "data": {
      "text/html": [
       "<pre style=\"white-space:pre;overflow-x:auto;line-height:normal;font-family:Menlo,'DejaVu Sans Mono',consolas,'Courier New',monospace\">23:20:07.917 | <span style=\"color: #008080; text-decoration-color: #008080\">INFO</span>    | Flow run<span style=\"color: #800080; text-decoration-color: #800080\"> 'bizarre-mantis'</span> - Created task run 'calculate_single_diatomic-75' for task 'calculate_single_diatomic'\n",
       "</pre>\n"
      ],
      "text/plain": [
       "23:20:07.917 | \u001b[36mINFO\u001b[0m    | Flow run\u001b[35m 'bizarre-mantis'\u001b[0m - Created task run 'calculate_single_diatomic-75' for task 'calculate_single_diatomic'\n"
      ]
     },
     "metadata": {},
     "output_type": "display_data"
    },
    {
     "data": {
      "text/html": [
       "<pre style=\"white-space:pre;overflow-x:auto;line-height:normal;font-family:Menlo,'DejaVu Sans Mono',consolas,'Courier New',monospace\">23:20:07.921 | <span style=\"color: #008080; text-decoration-color: #008080\">INFO</span>    | Flow run<span style=\"color: #800080; text-decoration-color: #800080\"> 'bizarre-mantis'</span> - Submitted task run 'calculate_single_diatomic-75' for execution.\n",
       "</pre>\n"
      ],
      "text/plain": [
       "23:20:07.921 | \u001b[36mINFO\u001b[0m    | Flow run\u001b[35m 'bizarre-mantis'\u001b[0m - Submitted task run 'calculate_single_diatomic-75' for execution.\n"
      ]
     },
     "metadata": {},
     "output_type": "display_data"
    },
    {
     "data": {
      "text/html": [
       "<pre style=\"white-space:pre;overflow-x:auto;line-height:normal;font-family:Menlo,'DejaVu Sans Mono',consolas,'Courier New',monospace\">23:20:07.929 | <span style=\"color: #008080; text-decoration-color: #008080\">INFO</span>    | Flow run<span style=\"color: #800080; text-decoration-color: #800080\"> 'bizarre-mantis'</span> - Created task run 'calculate_single_diatomic-76' for task 'calculate_single_diatomic'\n",
       "</pre>\n"
      ],
      "text/plain": [
       "23:20:07.929 | \u001b[36mINFO\u001b[0m    | Flow run\u001b[35m 'bizarre-mantis'\u001b[0m - Created task run 'calculate_single_diatomic-76' for task 'calculate_single_diatomic'\n"
      ]
     },
     "metadata": {},
     "output_type": "display_data"
    },
    {
     "data": {
      "text/html": [
       "<pre style=\"white-space:pre;overflow-x:auto;line-height:normal;font-family:Menlo,'DejaVu Sans Mono',consolas,'Courier New',monospace\">23:20:07.933 | <span style=\"color: #008080; text-decoration-color: #008080\">INFO</span>    | Flow run<span style=\"color: #800080; text-decoration-color: #800080\"> 'bizarre-mantis'</span> - Submitted task run 'calculate_single_diatomic-76' for execution.\n",
       "</pre>\n"
      ],
      "text/plain": [
       "23:20:07.933 | \u001b[36mINFO\u001b[0m    | Flow run\u001b[35m 'bizarre-mantis'\u001b[0m - Submitted task run 'calculate_single_diatomic-76' for execution.\n"
      ]
     },
     "metadata": {},
     "output_type": "display_data"
    },
    {
     "data": {
      "text/html": [
       "<pre style=\"white-space:pre;overflow-x:auto;line-height:normal;font-family:Menlo,'DejaVu Sans Mono',consolas,'Courier New',monospace\">23:20:07.938 | <span style=\"color: #008080; text-decoration-color: #008080\">INFO</span>    | Flow run<span style=\"color: #800080; text-decoration-color: #800080\"> 'bizarre-mantis'</span> - Created task run 'calculate_single_diatomic-77' for task 'calculate_single_diatomic'\n",
       "</pre>\n"
      ],
      "text/plain": [
       "23:20:07.938 | \u001b[36mINFO\u001b[0m    | Flow run\u001b[35m 'bizarre-mantis'\u001b[0m - Created task run 'calculate_single_diatomic-77' for task 'calculate_single_diatomic'\n"
      ]
     },
     "metadata": {},
     "output_type": "display_data"
    },
    {
     "data": {
      "text/html": [
       "<pre style=\"white-space:pre;overflow-x:auto;line-height:normal;font-family:Menlo,'DejaVu Sans Mono',consolas,'Courier New',monospace\">23:20:07.942 | <span style=\"color: #008080; text-decoration-color: #008080\">INFO</span>    | Flow run<span style=\"color: #800080; text-decoration-color: #800080\"> 'bizarre-mantis'</span> - Submitted task run 'calculate_single_diatomic-77' for execution.\n",
       "</pre>\n"
      ],
      "text/plain": [
       "23:20:07.942 | \u001b[36mINFO\u001b[0m    | Flow run\u001b[35m 'bizarre-mantis'\u001b[0m - Submitted task run 'calculate_single_diatomic-77' for execution.\n"
      ]
     },
     "metadata": {},
     "output_type": "display_data"
    },
    {
     "data": {
      "text/html": [
       "<pre style=\"white-space:pre;overflow-x:auto;line-height:normal;font-family:Menlo,'DejaVu Sans Mono',consolas,'Courier New',monospace\">23:20:07.947 | <span style=\"color: #008080; text-decoration-color: #008080\">INFO</span>    | Flow run<span style=\"color: #800080; text-decoration-color: #800080\"> 'bizarre-mantis'</span> - Created task run 'calculate_single_diatomic-78' for task 'calculate_single_diatomic'\n",
       "</pre>\n"
      ],
      "text/plain": [
       "23:20:07.947 | \u001b[36mINFO\u001b[0m    | Flow run\u001b[35m 'bizarre-mantis'\u001b[0m - Created task run 'calculate_single_diatomic-78' for task 'calculate_single_diatomic'\n"
      ]
     },
     "metadata": {},
     "output_type": "display_data"
    },
    {
     "data": {
      "text/html": [
       "<pre style=\"white-space:pre;overflow-x:auto;line-height:normal;font-family:Menlo,'DejaVu Sans Mono',consolas,'Courier New',monospace\">23:20:07.951 | <span style=\"color: #008080; text-decoration-color: #008080\">INFO</span>    | Flow run<span style=\"color: #800080; text-decoration-color: #800080\"> 'bizarre-mantis'</span> - Submitted task run 'calculate_single_diatomic-78' for execution.\n",
       "</pre>\n"
      ],
      "text/plain": [
       "23:20:07.951 | \u001b[36mINFO\u001b[0m    | Flow run\u001b[35m 'bizarre-mantis'\u001b[0m - Submitted task run 'calculate_single_diatomic-78' for execution.\n"
      ]
     },
     "metadata": {},
     "output_type": "display_data"
    },
    {
     "data": {
      "text/html": [
       "<pre style=\"white-space:pre;overflow-x:auto;line-height:normal;font-family:Menlo,'DejaVu Sans Mono',consolas,'Courier New',monospace\">23:20:07.955 | <span style=\"color: #008080; text-decoration-color: #008080\">INFO</span>    | Flow run<span style=\"color: #800080; text-decoration-color: #800080\"> 'bizarre-mantis'</span> - Created task run 'calculate_single_diatomic-79' for task 'calculate_single_diatomic'\n",
       "</pre>\n"
      ],
      "text/plain": [
       "23:20:07.955 | \u001b[36mINFO\u001b[0m    | Flow run\u001b[35m 'bizarre-mantis'\u001b[0m - Created task run 'calculate_single_diatomic-79' for task 'calculate_single_diatomic'\n"
      ]
     },
     "metadata": {},
     "output_type": "display_data"
    },
    {
     "data": {
      "text/html": [
       "<pre style=\"white-space:pre;overflow-x:auto;line-height:normal;font-family:Menlo,'DejaVu Sans Mono',consolas,'Courier New',monospace\">23:20:07.959 | <span style=\"color: #008080; text-decoration-color: #008080\">INFO</span>    | Flow run<span style=\"color: #800080; text-decoration-color: #800080\"> 'bizarre-mantis'</span> - Submitted task run 'calculate_single_diatomic-79' for execution.\n",
       "</pre>\n"
      ],
      "text/plain": [
       "23:20:07.959 | \u001b[36mINFO\u001b[0m    | Flow run\u001b[35m 'bizarre-mantis'\u001b[0m - Submitted task run 'calculate_single_diatomic-79' for execution.\n"
      ]
     },
     "metadata": {},
     "output_type": "display_data"
    },
    {
     "data": {
      "text/html": [
       "<pre style=\"white-space:pre;overflow-x:auto;line-height:normal;font-family:Menlo,'DejaVu Sans Mono',consolas,'Courier New',monospace\">23:20:07.964 | <span style=\"color: #008080; text-decoration-color: #008080\">INFO</span>    | Flow run<span style=\"color: #800080; text-decoration-color: #800080\"> 'bizarre-mantis'</span> - Created task run 'calculate_single_diatomic-80' for task 'calculate_single_diatomic'\n",
       "</pre>\n"
      ],
      "text/plain": [
       "23:20:07.964 | \u001b[36mINFO\u001b[0m    | Flow run\u001b[35m 'bizarre-mantis'\u001b[0m - Created task run 'calculate_single_diatomic-80' for task 'calculate_single_diatomic'\n"
      ]
     },
     "metadata": {},
     "output_type": "display_data"
    },
    {
     "data": {
      "text/html": [
       "<pre style=\"white-space:pre;overflow-x:auto;line-height:normal;font-family:Menlo,'DejaVu Sans Mono',consolas,'Courier New',monospace\">23:20:07.969 | <span style=\"color: #008080; text-decoration-color: #008080\">INFO</span>    | Flow run<span style=\"color: #800080; text-decoration-color: #800080\"> 'bizarre-mantis'</span> - Submitted task run 'calculate_single_diatomic-80' for execution.\n",
       "</pre>\n"
      ],
      "text/plain": [
       "23:20:07.969 | \u001b[36mINFO\u001b[0m    | Flow run\u001b[35m 'bizarre-mantis'\u001b[0m - Submitted task run 'calculate_single_diatomic-80' for execution.\n"
      ]
     },
     "metadata": {},
     "output_type": "display_data"
    },
    {
     "data": {
      "text/html": [
       "<pre style=\"white-space:pre;overflow-x:auto;line-height:normal;font-family:Menlo,'DejaVu Sans Mono',consolas,'Courier New',monospace\">23:20:07.972 | <span style=\"color: #008080; text-decoration-color: #008080\">INFO</span>    | Flow run<span style=\"color: #800080; text-decoration-color: #800080\"> 'bizarre-mantis'</span> - Created task run 'calculate_single_diatomic-81' for task 'calculate_single_diatomic'\n",
       "</pre>\n"
      ],
      "text/plain": [
       "23:20:07.972 | \u001b[36mINFO\u001b[0m    | Flow run\u001b[35m 'bizarre-mantis'\u001b[0m - Created task run 'calculate_single_diatomic-81' for task 'calculate_single_diatomic'\n"
      ]
     },
     "metadata": {},
     "output_type": "display_data"
    },
    {
     "data": {
      "text/html": [
       "<pre style=\"white-space:pre;overflow-x:auto;line-height:normal;font-family:Menlo,'DejaVu Sans Mono',consolas,'Courier New',monospace\">23:20:07.976 | <span style=\"color: #008080; text-decoration-color: #008080\">INFO</span>    | Flow run<span style=\"color: #800080; text-decoration-color: #800080\"> 'bizarre-mantis'</span> - Submitted task run 'calculate_single_diatomic-81' for execution.\n",
       "</pre>\n"
      ],
      "text/plain": [
       "23:20:07.976 | \u001b[36mINFO\u001b[0m    | Flow run\u001b[35m 'bizarre-mantis'\u001b[0m - Submitted task run 'calculate_single_diatomic-81' for execution.\n"
      ]
     },
     "metadata": {},
     "output_type": "display_data"
    },
    {
     "data": {
      "text/html": [
       "<pre style=\"white-space:pre;overflow-x:auto;line-height:normal;font-family:Menlo,'DejaVu Sans Mono',consolas,'Courier New',monospace\">23:20:07.980 | <span style=\"color: #008080; text-decoration-color: #008080\">INFO</span>    | Flow run<span style=\"color: #800080; text-decoration-color: #800080\"> 'bizarre-mantis'</span> - Created task run 'calculate_single_diatomic-82' for task 'calculate_single_diatomic'\n",
       "</pre>\n"
      ],
      "text/plain": [
       "23:20:07.980 | \u001b[36mINFO\u001b[0m    | Flow run\u001b[35m 'bizarre-mantis'\u001b[0m - Created task run 'calculate_single_diatomic-82' for task 'calculate_single_diatomic'\n"
      ]
     },
     "metadata": {},
     "output_type": "display_data"
    },
    {
     "data": {
      "text/html": [
       "<pre style=\"white-space:pre;overflow-x:auto;line-height:normal;font-family:Menlo,'DejaVu Sans Mono',consolas,'Courier New',monospace\">23:20:07.984 | <span style=\"color: #008080; text-decoration-color: #008080\">INFO</span>    | Flow run<span style=\"color: #800080; text-decoration-color: #800080\"> 'bizarre-mantis'</span> - Submitted task run 'calculate_single_diatomic-82' for execution.\n",
       "</pre>\n"
      ],
      "text/plain": [
       "23:20:07.984 | \u001b[36mINFO\u001b[0m    | Flow run\u001b[35m 'bizarre-mantis'\u001b[0m - Submitted task run 'calculate_single_diatomic-82' for execution.\n"
      ]
     },
     "metadata": {},
     "output_type": "display_data"
    },
    {
     "data": {
      "text/html": [
       "<pre style=\"white-space:pre;overflow-x:auto;line-height:normal;font-family:Menlo,'DejaVu Sans Mono',consolas,'Courier New',monospace\">23:20:07.989 | <span style=\"color: #008080; text-decoration-color: #008080\">INFO</span>    | Flow run<span style=\"color: #800080; text-decoration-color: #800080\"> 'bizarre-mantis'</span> - Created task run 'calculate_single_diatomic-83' for task 'calculate_single_diatomic'\n",
       "</pre>\n"
      ],
      "text/plain": [
       "23:20:07.989 | \u001b[36mINFO\u001b[0m    | Flow run\u001b[35m 'bizarre-mantis'\u001b[0m - Created task run 'calculate_single_diatomic-83' for task 'calculate_single_diatomic'\n"
      ]
     },
     "metadata": {},
     "output_type": "display_data"
    },
    {
     "data": {
      "text/html": [
       "<pre style=\"white-space:pre;overflow-x:auto;line-height:normal;font-family:Menlo,'DejaVu Sans Mono',consolas,'Courier New',monospace\">23:20:07.993 | <span style=\"color: #008080; text-decoration-color: #008080\">INFO</span>    | Flow run<span style=\"color: #800080; text-decoration-color: #800080\"> 'bizarre-mantis'</span> - Submitted task run 'calculate_single_diatomic-83' for execution.\n",
       "</pre>\n"
      ],
      "text/plain": [
       "23:20:07.993 | \u001b[36mINFO\u001b[0m    | Flow run\u001b[35m 'bizarre-mantis'\u001b[0m - Submitted task run 'calculate_single_diatomic-83' for execution.\n"
      ]
     },
     "metadata": {},
     "output_type": "display_data"
    },
    {
     "data": {
      "text/html": [
       "<pre style=\"white-space:pre;overflow-x:auto;line-height:normal;font-family:Menlo,'DejaVu Sans Mono',consolas,'Courier New',monospace\">23:20:08.000 | <span style=\"color: #008080; text-decoration-color: #008080\">INFO</span>    | Flow run<span style=\"color: #800080; text-decoration-color: #800080\"> 'bizarre-mantis'</span> - Created task run 'calculate_single_diatomic-84' for task 'calculate_single_diatomic'\n",
       "</pre>\n"
      ],
      "text/plain": [
       "23:20:08.000 | \u001b[36mINFO\u001b[0m    | Flow run\u001b[35m 'bizarre-mantis'\u001b[0m - Created task run 'calculate_single_diatomic-84' for task 'calculate_single_diatomic'\n"
      ]
     },
     "metadata": {},
     "output_type": "display_data"
    },
    {
     "data": {
      "text/html": [
       "<pre style=\"white-space:pre;overflow-x:auto;line-height:normal;font-family:Menlo,'DejaVu Sans Mono',consolas,'Courier New',monospace\">23:20:08.004 | <span style=\"color: #008080; text-decoration-color: #008080\">INFO</span>    | Flow run<span style=\"color: #800080; text-decoration-color: #800080\"> 'bizarre-mantis'</span> - Submitted task run 'calculate_single_diatomic-84' for execution.\n",
       "</pre>\n"
      ],
      "text/plain": [
       "23:20:08.004 | \u001b[36mINFO\u001b[0m    | Flow run\u001b[35m 'bizarre-mantis'\u001b[0m - Submitted task run 'calculate_single_diatomic-84' for execution.\n"
      ]
     },
     "metadata": {},
     "output_type": "display_data"
    },
    {
     "data": {
      "text/html": [
       "<pre style=\"white-space:pre;overflow-x:auto;line-height:normal;font-family:Menlo,'DejaVu Sans Mono',consolas,'Courier New',monospace\">23:20:08.006 | <span style=\"color: #008080; text-decoration-color: #008080\">INFO</span>    | Flow run<span style=\"color: #800080; text-decoration-color: #800080\"> 'bizarre-mantis'</span> - Created task run 'calculate_single_diatomic-85' for task 'calculate_single_diatomic'\n",
       "</pre>\n"
      ],
      "text/plain": [
       "23:20:08.006 | \u001b[36mINFO\u001b[0m    | Flow run\u001b[35m 'bizarre-mantis'\u001b[0m - Created task run 'calculate_single_diatomic-85' for task 'calculate_single_diatomic'\n"
      ]
     },
     "metadata": {},
     "output_type": "display_data"
    },
    {
     "data": {
      "text/html": [
       "<pre style=\"white-space:pre;overflow-x:auto;line-height:normal;font-family:Menlo,'DejaVu Sans Mono',consolas,'Courier New',monospace\">23:20:08.011 | <span style=\"color: #008080; text-decoration-color: #008080\">INFO</span>    | Flow run<span style=\"color: #800080; text-decoration-color: #800080\"> 'bizarre-mantis'</span> - Submitted task run 'calculate_single_diatomic-85' for execution.\n",
       "</pre>\n"
      ],
      "text/plain": [
       "23:20:08.011 | \u001b[36mINFO\u001b[0m    | Flow run\u001b[35m 'bizarre-mantis'\u001b[0m - Submitted task run 'calculate_single_diatomic-85' for execution.\n"
      ]
     },
     "metadata": {},
     "output_type": "display_data"
    },
    {
     "data": {
      "text/html": [
       "<pre style=\"white-space:pre;overflow-x:auto;line-height:normal;font-family:Menlo,'DejaVu Sans Mono',consolas,'Courier New',monospace\">23:20:08.015 | <span style=\"color: #008080; text-decoration-color: #008080\">INFO</span>    | Flow run<span style=\"color: #800080; text-decoration-color: #800080\"> 'bizarre-mantis'</span> - Created task run 'calculate_single_diatomic-86' for task 'calculate_single_diatomic'\n",
       "</pre>\n"
      ],
      "text/plain": [
       "23:20:08.015 | \u001b[36mINFO\u001b[0m    | Flow run\u001b[35m 'bizarre-mantis'\u001b[0m - Created task run 'calculate_single_diatomic-86' for task 'calculate_single_diatomic'\n"
      ]
     },
     "metadata": {},
     "output_type": "display_data"
    },
    {
     "data": {
      "text/html": [
       "<pre style=\"white-space:pre;overflow-x:auto;line-height:normal;font-family:Menlo,'DejaVu Sans Mono',consolas,'Courier New',monospace\">23:20:08.019 | <span style=\"color: #008080; text-decoration-color: #008080\">INFO</span>    | Flow run<span style=\"color: #800080; text-decoration-color: #800080\"> 'bizarre-mantis'</span> - Submitted task run 'calculate_single_diatomic-86' for execution.\n",
       "</pre>\n"
      ],
      "text/plain": [
       "23:20:08.019 | \u001b[36mINFO\u001b[0m    | Flow run\u001b[35m 'bizarre-mantis'\u001b[0m - Submitted task run 'calculate_single_diatomic-86' for execution.\n"
      ]
     },
     "metadata": {},
     "output_type": "display_data"
    },
    {
     "data": {
      "text/html": [
       "<pre style=\"white-space:pre;overflow-x:auto;line-height:normal;font-family:Menlo,'DejaVu Sans Mono',consolas,'Courier New',monospace\">23:20:08.023 | <span style=\"color: #008080; text-decoration-color: #008080\">INFO</span>    | Flow run<span style=\"color: #800080; text-decoration-color: #800080\"> 'bizarre-mantis'</span> - Created task run 'calculate_single_diatomic-87' for task 'calculate_single_diatomic'\n",
       "</pre>\n"
      ],
      "text/plain": [
       "23:20:08.023 | \u001b[36mINFO\u001b[0m    | Flow run\u001b[35m 'bizarre-mantis'\u001b[0m - Created task run 'calculate_single_diatomic-87' for task 'calculate_single_diatomic'\n"
      ]
     },
     "metadata": {},
     "output_type": "display_data"
    },
    {
     "data": {
      "text/html": [
       "<pre style=\"white-space:pre;overflow-x:auto;line-height:normal;font-family:Menlo,'DejaVu Sans Mono',consolas,'Courier New',monospace\">23:20:08.028 | <span style=\"color: #008080; text-decoration-color: #008080\">INFO</span>    | Flow run<span style=\"color: #800080; text-decoration-color: #800080\"> 'bizarre-mantis'</span> - Submitted task run 'calculate_single_diatomic-87' for execution.\n",
       "</pre>\n"
      ],
      "text/plain": [
       "23:20:08.028 | \u001b[36mINFO\u001b[0m    | Flow run\u001b[35m 'bizarre-mantis'\u001b[0m - Submitted task run 'calculate_single_diatomic-87' for execution.\n"
      ]
     },
     "metadata": {},
     "output_type": "display_data"
    },
    {
     "data": {
      "text/html": [
       "<pre style=\"white-space:pre;overflow-x:auto;line-height:normal;font-family:Menlo,'DejaVu Sans Mono',consolas,'Courier New',monospace\">23:20:08.032 | <span style=\"color: #008080; text-decoration-color: #008080\">INFO</span>    | Flow run<span style=\"color: #800080; text-decoration-color: #800080\"> 'bizarre-mantis'</span> - Created task run 'calculate_single_diatomic-88' for task 'calculate_single_diatomic'\n",
       "</pre>\n"
      ],
      "text/plain": [
       "23:20:08.032 | \u001b[36mINFO\u001b[0m    | Flow run\u001b[35m 'bizarre-mantis'\u001b[0m - Created task run 'calculate_single_diatomic-88' for task 'calculate_single_diatomic'\n"
      ]
     },
     "metadata": {},
     "output_type": "display_data"
    },
    {
     "data": {
      "text/html": [
       "<pre style=\"white-space:pre;overflow-x:auto;line-height:normal;font-family:Menlo,'DejaVu Sans Mono',consolas,'Courier New',monospace\">23:20:08.037 | <span style=\"color: #008080; text-decoration-color: #008080\">INFO</span>    | Flow run<span style=\"color: #800080; text-decoration-color: #800080\"> 'bizarre-mantis'</span> - Submitted task run 'calculate_single_diatomic-88' for execution.\n",
       "</pre>\n"
      ],
      "text/plain": [
       "23:20:08.037 | \u001b[36mINFO\u001b[0m    | Flow run\u001b[35m 'bizarre-mantis'\u001b[0m - Submitted task run 'calculate_single_diatomic-88' for execution.\n"
      ]
     },
     "metadata": {},
     "output_type": "display_data"
    },
    {
     "data": {
      "text/html": [
       "<pre style=\"white-space:pre;overflow-x:auto;line-height:normal;font-family:Menlo,'DejaVu Sans Mono',consolas,'Courier New',monospace\">23:20:08.040 | <span style=\"color: #008080; text-decoration-color: #008080\">INFO</span>    | Flow run<span style=\"color: #800080; text-decoration-color: #800080\"> 'bizarre-mantis'</span> - Created task run 'calculate_single_diatomic-89' for task 'calculate_single_diatomic'\n",
       "</pre>\n"
      ],
      "text/plain": [
       "23:20:08.040 | \u001b[36mINFO\u001b[0m    | Flow run\u001b[35m 'bizarre-mantis'\u001b[0m - Created task run 'calculate_single_diatomic-89' for task 'calculate_single_diatomic'\n"
      ]
     },
     "metadata": {},
     "output_type": "display_data"
    },
    {
     "data": {
      "text/html": [
       "<pre style=\"white-space:pre;overflow-x:auto;line-height:normal;font-family:Menlo,'DejaVu Sans Mono',consolas,'Courier New',monospace\">23:20:08.044 | <span style=\"color: #008080; text-decoration-color: #008080\">INFO</span>    | Flow run<span style=\"color: #800080; text-decoration-color: #800080\"> 'bizarre-mantis'</span> - Submitted task run 'calculate_single_diatomic-89' for execution.\n",
       "</pre>\n"
      ],
      "text/plain": [
       "23:20:08.044 | \u001b[36mINFO\u001b[0m    | Flow run\u001b[35m 'bizarre-mantis'\u001b[0m - Submitted task run 'calculate_single_diatomic-89' for execution.\n"
      ]
     },
     "metadata": {},
     "output_type": "display_data"
    },
    {
     "data": {
      "text/html": [
       "<pre style=\"white-space:pre;overflow-x:auto;line-height:normal;font-family:Menlo,'DejaVu Sans Mono',consolas,'Courier New',monospace\">23:20:08.049 | <span style=\"color: #008080; text-decoration-color: #008080\">INFO</span>    | Flow run<span style=\"color: #800080; text-decoration-color: #800080\"> 'bizarre-mantis'</span> - Created task run 'calculate_single_diatomic-90' for task 'calculate_single_diatomic'\n",
       "</pre>\n"
      ],
      "text/plain": [
       "23:20:08.049 | \u001b[36mINFO\u001b[0m    | Flow run\u001b[35m 'bizarre-mantis'\u001b[0m - Created task run 'calculate_single_diatomic-90' for task 'calculate_single_diatomic'\n"
      ]
     },
     "metadata": {},
     "output_type": "display_data"
    },
    {
     "data": {
      "text/html": [
       "<pre style=\"white-space:pre;overflow-x:auto;line-height:normal;font-family:Menlo,'DejaVu Sans Mono',consolas,'Courier New',monospace\">23:20:08.053 | <span style=\"color: #008080; text-decoration-color: #008080\">INFO</span>    | Flow run<span style=\"color: #800080; text-decoration-color: #800080\"> 'bizarre-mantis'</span> - Submitted task run 'calculate_single_diatomic-90' for execution.\n",
       "</pre>\n"
      ],
      "text/plain": [
       "23:20:08.053 | \u001b[36mINFO\u001b[0m    | Flow run\u001b[35m 'bizarre-mantis'\u001b[0m - Submitted task run 'calculate_single_diatomic-90' for execution.\n"
      ]
     },
     "metadata": {},
     "output_type": "display_data"
    },
    {
     "data": {
      "text/html": [
       "<pre style=\"white-space:pre;overflow-x:auto;line-height:normal;font-family:Menlo,'DejaVu Sans Mono',consolas,'Courier New',monospace\">23:20:08.057 | <span style=\"color: #008080; text-decoration-color: #008080\">INFO</span>    | Flow run<span style=\"color: #800080; text-decoration-color: #800080\"> 'bizarre-mantis'</span> - Created task run 'calculate_single_diatomic-91' for task 'calculate_single_diatomic'\n",
       "</pre>\n"
      ],
      "text/plain": [
       "23:20:08.057 | \u001b[36mINFO\u001b[0m    | Flow run\u001b[35m 'bizarre-mantis'\u001b[0m - Created task run 'calculate_single_diatomic-91' for task 'calculate_single_diatomic'\n"
      ]
     },
     "metadata": {},
     "output_type": "display_data"
    },
    {
     "data": {
      "text/html": [
       "<pre style=\"white-space:pre;overflow-x:auto;line-height:normal;font-family:Menlo,'DejaVu Sans Mono',consolas,'Courier New',monospace\">23:20:08.061 | <span style=\"color: #008080; text-decoration-color: #008080\">INFO</span>    | Flow run<span style=\"color: #800080; text-decoration-color: #800080\"> 'bizarre-mantis'</span> - Submitted task run 'calculate_single_diatomic-91' for execution.\n",
       "</pre>\n"
      ],
      "text/plain": [
       "23:20:08.061 | \u001b[36mINFO\u001b[0m    | Flow run\u001b[35m 'bizarre-mantis'\u001b[0m - Submitted task run 'calculate_single_diatomic-91' for execution.\n"
      ]
     },
     "metadata": {},
     "output_type": "display_data"
    },
    {
     "data": {
      "text/html": [
       "<pre style=\"white-space:pre;overflow-x:auto;line-height:normal;font-family:Menlo,'DejaVu Sans Mono',consolas,'Courier New',monospace\">23:20:08.068 | <span style=\"color: #008080; text-decoration-color: #008080\">INFO</span>    | Flow run<span style=\"color: #800080; text-decoration-color: #800080\"> 'bizarre-mantis'</span> - Created task run 'calculate_single_diatomic-92' for task 'calculate_single_diatomic'\n",
       "</pre>\n"
      ],
      "text/plain": [
       "23:20:08.068 | \u001b[36mINFO\u001b[0m    | Flow run\u001b[35m 'bizarre-mantis'\u001b[0m - Created task run 'calculate_single_diatomic-92' for task 'calculate_single_diatomic'\n"
      ]
     },
     "metadata": {},
     "output_type": "display_data"
    },
    {
     "data": {
      "text/html": [
       "<pre style=\"white-space:pre;overflow-x:auto;line-height:normal;font-family:Menlo,'DejaVu Sans Mono',consolas,'Courier New',monospace\">23:20:08.073 | <span style=\"color: #008080; text-decoration-color: #008080\">INFO</span>    | Flow run<span style=\"color: #800080; text-decoration-color: #800080\"> 'bizarre-mantis'</span> - Submitted task run 'calculate_single_diatomic-92' for execution.\n",
       "</pre>\n"
      ],
      "text/plain": [
       "23:20:08.073 | \u001b[36mINFO\u001b[0m    | Flow run\u001b[35m 'bizarre-mantis'\u001b[0m - Submitted task run 'calculate_single_diatomic-92' for execution.\n"
      ]
     },
     "metadata": {},
     "output_type": "display_data"
    },
    {
     "data": {
      "text/html": [
       "<pre style=\"white-space:pre;overflow-x:auto;line-height:normal;font-family:Menlo,'DejaVu Sans Mono',consolas,'Courier New',monospace\">23:20:08.076 | <span style=\"color: #008080; text-decoration-color: #008080\">INFO</span>    | Flow run<span style=\"color: #800080; text-decoration-color: #800080\"> 'bizarre-mantis'</span> - Created task run 'calculate_single_diatomic-93' for task 'calculate_single_diatomic'\n",
       "</pre>\n"
      ],
      "text/plain": [
       "23:20:08.076 | \u001b[36mINFO\u001b[0m    | Flow run\u001b[35m 'bizarre-mantis'\u001b[0m - Created task run 'calculate_single_diatomic-93' for task 'calculate_single_diatomic'\n"
      ]
     },
     "metadata": {},
     "output_type": "display_data"
    },
    {
     "data": {
      "text/html": [
       "<pre style=\"white-space:pre;overflow-x:auto;line-height:normal;font-family:Menlo,'DejaVu Sans Mono',consolas,'Courier New',monospace\">23:20:08.080 | <span style=\"color: #008080; text-decoration-color: #008080\">INFO</span>    | Flow run<span style=\"color: #800080; text-decoration-color: #800080\"> 'bizarre-mantis'</span> - Submitted task run 'calculate_single_diatomic-93' for execution.\n",
       "</pre>\n"
      ],
      "text/plain": [
       "23:20:08.080 | \u001b[36mINFO\u001b[0m    | Flow run\u001b[35m 'bizarre-mantis'\u001b[0m - Submitted task run 'calculate_single_diatomic-93' for execution.\n"
      ]
     },
     "metadata": {},
     "output_type": "display_data"
    },
    {
     "data": {
      "text/html": [
       "<pre style=\"white-space:pre;overflow-x:auto;line-height:normal;font-family:Menlo,'DejaVu Sans Mono',consolas,'Courier New',monospace\">23:20:08.084 | <span style=\"color: #008080; text-decoration-color: #008080\">INFO</span>    | Flow run<span style=\"color: #800080; text-decoration-color: #800080\"> 'bizarre-mantis'</span> - Created task run 'calculate_single_diatomic-94' for task 'calculate_single_diatomic'\n",
       "</pre>\n"
      ],
      "text/plain": [
       "23:20:08.084 | \u001b[36mINFO\u001b[0m    | Flow run\u001b[35m 'bizarre-mantis'\u001b[0m - Created task run 'calculate_single_diatomic-94' for task 'calculate_single_diatomic'\n"
      ]
     },
     "metadata": {},
     "output_type": "display_data"
    },
    {
     "data": {
      "text/html": [
       "<pre style=\"white-space:pre;overflow-x:auto;line-height:normal;font-family:Menlo,'DejaVu Sans Mono',consolas,'Courier New',monospace\">23:20:08.089 | <span style=\"color: #008080; text-decoration-color: #008080\">INFO</span>    | Flow run<span style=\"color: #800080; text-decoration-color: #800080\"> 'bizarre-mantis'</span> - Submitted task run 'calculate_single_diatomic-94' for execution.\n",
       "</pre>\n"
      ],
      "text/plain": [
       "23:20:08.089 | \u001b[36mINFO\u001b[0m    | Flow run\u001b[35m 'bizarre-mantis'\u001b[0m - Submitted task run 'calculate_single_diatomic-94' for execution.\n"
      ]
     },
     "metadata": {},
     "output_type": "display_data"
    },
    {
     "data": {
      "text/html": [
       "<pre style=\"white-space:pre;overflow-x:auto;line-height:normal;font-family:Menlo,'DejaVu Sans Mono',consolas,'Courier New',monospace\">23:20:08.091 | <span style=\"color: #008080; text-decoration-color: #008080\">INFO</span>    | Flow run<span style=\"color: #800080; text-decoration-color: #800080\"> 'bizarre-mantis'</span> - Created task run 'calculate_single_diatomic-95' for task 'calculate_single_diatomic'\n",
       "</pre>\n"
      ],
      "text/plain": [
       "23:20:08.091 | \u001b[36mINFO\u001b[0m    | Flow run\u001b[35m 'bizarre-mantis'\u001b[0m - Created task run 'calculate_single_diatomic-95' for task 'calculate_single_diatomic'\n"
      ]
     },
     "metadata": {},
     "output_type": "display_data"
    },
    {
     "data": {
      "text/html": [
       "<pre style=\"white-space:pre;overflow-x:auto;line-height:normal;font-family:Menlo,'DejaVu Sans Mono',consolas,'Courier New',monospace\">23:20:08.095 | <span style=\"color: #008080; text-decoration-color: #008080\">INFO</span>    | Flow run<span style=\"color: #800080; text-decoration-color: #800080\"> 'bizarre-mantis'</span> - Submitted task run 'calculate_single_diatomic-95' for execution.\n",
       "</pre>\n"
      ],
      "text/plain": [
       "23:20:08.095 | \u001b[36mINFO\u001b[0m    | Flow run\u001b[35m 'bizarre-mantis'\u001b[0m - Submitted task run 'calculate_single_diatomic-95' for execution.\n"
      ]
     },
     "metadata": {},
     "output_type": "display_data"
    },
    {
     "data": {
      "text/html": [
       "<pre style=\"white-space:pre;overflow-x:auto;line-height:normal;font-family:Menlo,'DejaVu Sans Mono',consolas,'Courier New',monospace\">23:20:08.097 | <span style=\"color: #008080; text-decoration-color: #008080\">INFO</span>    | Flow run<span style=\"color: #800080; text-decoration-color: #800080\"> 'bizarre-mantis'</span> - Created task run 'calculate_single_diatomic-96' for task 'calculate_single_diatomic'\n",
       "</pre>\n"
      ],
      "text/plain": [
       "23:20:08.097 | \u001b[36mINFO\u001b[0m    | Flow run\u001b[35m 'bizarre-mantis'\u001b[0m - Created task run 'calculate_single_diatomic-96' for task 'calculate_single_diatomic'\n"
      ]
     },
     "metadata": {},
     "output_type": "display_data"
    },
    {
     "data": {
      "text/html": [
       "<pre style=\"white-space:pre;overflow-x:auto;line-height:normal;font-family:Menlo,'DejaVu Sans Mono',consolas,'Courier New',monospace\">23:20:08.101 | <span style=\"color: #008080; text-decoration-color: #008080\">INFO</span>    | Flow run<span style=\"color: #800080; text-decoration-color: #800080\"> 'bizarre-mantis'</span> - Submitted task run 'calculate_single_diatomic-96' for execution.\n",
       "</pre>\n"
      ],
      "text/plain": [
       "23:20:08.101 | \u001b[36mINFO\u001b[0m    | Flow run\u001b[35m 'bizarre-mantis'\u001b[0m - Submitted task run 'calculate_single_diatomic-96' for execution.\n"
      ]
     },
     "metadata": {},
     "output_type": "display_data"
    },
    {
     "data": {
      "text/html": [
       "<pre style=\"white-space:pre;overflow-x:auto;line-height:normal;font-family:Menlo,'DejaVu Sans Mono',consolas,'Courier New',monospace\">23:20:08.104 | <span style=\"color: #008080; text-decoration-color: #008080\">INFO</span>    | Flow run<span style=\"color: #800080; text-decoration-color: #800080\"> 'bizarre-mantis'</span> - Created task run 'calculate_single_diatomic-97' for task 'calculate_single_diatomic'\n",
       "</pre>\n"
      ],
      "text/plain": [
       "23:20:08.104 | \u001b[36mINFO\u001b[0m    | Flow run\u001b[35m 'bizarre-mantis'\u001b[0m - Created task run 'calculate_single_diatomic-97' for task 'calculate_single_diatomic'\n"
      ]
     },
     "metadata": {},
     "output_type": "display_data"
    },
    {
     "data": {
      "text/html": [
       "<pre style=\"white-space:pre;overflow-x:auto;line-height:normal;font-family:Menlo,'DejaVu Sans Mono',consolas,'Courier New',monospace\">23:20:08.109 | <span style=\"color: #008080; text-decoration-color: #008080\">INFO</span>    | Flow run<span style=\"color: #800080; text-decoration-color: #800080\"> 'bizarre-mantis'</span> - Submitted task run 'calculate_single_diatomic-97' for execution.\n",
       "</pre>\n"
      ],
      "text/plain": [
       "23:20:08.109 | \u001b[36mINFO\u001b[0m    | Flow run\u001b[35m 'bizarre-mantis'\u001b[0m - Submitted task run 'calculate_single_diatomic-97' for execution.\n"
      ]
     },
     "metadata": {},
     "output_type": "display_data"
    },
    {
     "data": {
      "text/html": [
       "<pre style=\"white-space:pre;overflow-x:auto;line-height:normal;font-family:Menlo,'DejaVu Sans Mono',consolas,'Courier New',monospace\">23:20:08.111 | <span style=\"color: #008080; text-decoration-color: #008080\">INFO</span>    | Flow run<span style=\"color: #800080; text-decoration-color: #800080\"> 'bizarre-mantis'</span> - Created task run 'calculate_single_diatomic-98' for task 'calculate_single_diatomic'\n",
       "</pre>\n"
      ],
      "text/plain": [
       "23:20:08.111 | \u001b[36mINFO\u001b[0m    | Flow run\u001b[35m 'bizarre-mantis'\u001b[0m - Created task run 'calculate_single_diatomic-98' for task 'calculate_single_diatomic'\n"
      ]
     },
     "metadata": {},
     "output_type": "display_data"
    },
    {
     "data": {
      "text/html": [
       "<pre style=\"white-space:pre;overflow-x:auto;line-height:normal;font-family:Menlo,'DejaVu Sans Mono',consolas,'Courier New',monospace\">23:20:08.115 | <span style=\"color: #008080; text-decoration-color: #008080\">INFO</span>    | Flow run<span style=\"color: #800080; text-decoration-color: #800080\"> 'bizarre-mantis'</span> - Submitted task run 'calculate_single_diatomic-98' for execution.\n",
       "</pre>\n"
      ],
      "text/plain": [
       "23:20:08.115 | \u001b[36mINFO\u001b[0m    | Flow run\u001b[35m 'bizarre-mantis'\u001b[0m - Submitted task run 'calculate_single_diatomic-98' for execution.\n"
      ]
     },
     "metadata": {},
     "output_type": "display_data"
    },
    {
     "data": {
      "text/html": [
       "<pre style=\"white-space:pre;overflow-x:auto;line-height:normal;font-family:Menlo,'DejaVu Sans Mono',consolas,'Courier New',monospace\">23:20:08.118 | <span style=\"color: #008080; text-decoration-color: #008080\">INFO</span>    | Flow run<span style=\"color: #800080; text-decoration-color: #800080\"> 'bizarre-mantis'</span> - Created task run 'calculate_single_diatomic-99' for task 'calculate_single_diatomic'\n",
       "</pre>\n"
      ],
      "text/plain": [
       "23:20:08.118 | \u001b[36mINFO\u001b[0m    | Flow run\u001b[35m 'bizarre-mantis'\u001b[0m - Created task run 'calculate_single_diatomic-99' for task 'calculate_single_diatomic'\n"
      ]
     },
     "metadata": {},
     "output_type": "display_data"
    },
    {
     "data": {
      "text/html": [
       "<pre style=\"white-space:pre;overflow-x:auto;line-height:normal;font-family:Menlo,'DejaVu Sans Mono',consolas,'Courier New',monospace\">23:20:08.123 | <span style=\"color: #008080; text-decoration-color: #008080\">INFO</span>    | Flow run<span style=\"color: #800080; text-decoration-color: #800080\"> 'bizarre-mantis'</span> - Submitted task run 'calculate_single_diatomic-99' for execution.\n",
       "</pre>\n"
      ],
      "text/plain": [
       "23:20:08.123 | \u001b[36mINFO\u001b[0m    | Flow run\u001b[35m 'bizarre-mantis'\u001b[0m - Submitted task run 'calculate_single_diatomic-99' for execution.\n"
      ]
     },
     "metadata": {},
     "output_type": "display_data"
    },
    {
     "data": {
      "text/html": [
       "<pre style=\"white-space:pre;overflow-x:auto;line-height:normal;font-family:Menlo,'DejaVu Sans Mono',consolas,'Courier New',monospace\">23:20:08.126 | <span style=\"color: #008080; text-decoration-color: #008080\">INFO</span>    | Flow run<span style=\"color: #800080; text-decoration-color: #800080\"> 'bizarre-mantis'</span> - Created task run 'calculate_single_diatomic-100' for task 'calculate_single_diatomic'\n",
       "</pre>\n"
      ],
      "text/plain": [
       "23:20:08.126 | \u001b[36mINFO\u001b[0m    | Flow run\u001b[35m 'bizarre-mantis'\u001b[0m - Created task run 'calculate_single_diatomic-100' for task 'calculate_single_diatomic'\n"
      ]
     },
     "metadata": {},
     "output_type": "display_data"
    },
    {
     "data": {
      "text/html": [
       "<pre style=\"white-space:pre;overflow-x:auto;line-height:normal;font-family:Menlo,'DejaVu Sans Mono',consolas,'Courier New',monospace\">23:20:08.130 | <span style=\"color: #008080; text-decoration-color: #008080\">INFO</span>    | Flow run<span style=\"color: #800080; text-decoration-color: #800080\"> 'bizarre-mantis'</span> - Submitted task run 'calculate_single_diatomic-100' for execution.\n",
       "</pre>\n"
      ],
      "text/plain": [
       "23:20:08.130 | \u001b[36mINFO\u001b[0m    | Flow run\u001b[35m 'bizarre-mantis'\u001b[0m - Submitted task run 'calculate_single_diatomic-100' for execution.\n"
      ]
     },
     "metadata": {},
     "output_type": "display_data"
    },
    {
     "data": {
      "text/html": [
       "<pre style=\"white-space:pre;overflow-x:auto;line-height:normal;font-family:Menlo,'DejaVu Sans Mono',consolas,'Courier New',monospace\">23:20:08.136 | <span style=\"color: #008080; text-decoration-color: #008080\">INFO</span>    | Flow run<span style=\"color: #800080; text-decoration-color: #800080\"> 'bizarre-mantis'</span> - Created task run 'calculate_single_diatomic-104' for task 'calculate_single_diatomic'\n",
       "</pre>\n"
      ],
      "text/plain": [
       "23:20:08.136 | \u001b[36mINFO\u001b[0m    | Flow run\u001b[35m 'bizarre-mantis'\u001b[0m - Created task run 'calculate_single_diatomic-104' for task 'calculate_single_diatomic'\n"
      ]
     },
     "metadata": {},
     "output_type": "display_data"
    },
    {
     "data": {
      "text/html": [
       "<pre style=\"white-space:pre;overflow-x:auto;line-height:normal;font-family:Menlo,'DejaVu Sans Mono',consolas,'Courier New',monospace\">23:20:08.140 | <span style=\"color: #008080; text-decoration-color: #008080\">INFO</span>    | Flow run<span style=\"color: #800080; text-decoration-color: #800080\"> 'bizarre-mantis'</span> - Submitted task run 'calculate_single_diatomic-104' for execution.\n",
       "</pre>\n"
      ],
      "text/plain": [
       "23:20:08.140 | \u001b[36mINFO\u001b[0m    | Flow run\u001b[35m 'bizarre-mantis'\u001b[0m - Submitted task run 'calculate_single_diatomic-104' for execution.\n"
      ]
     },
     "metadata": {},
     "output_type": "display_data"
    },
    {
     "data": {
      "text/html": [
       "<pre style=\"white-space:pre;overflow-x:auto;line-height:normal;font-family:Menlo,'DejaVu Sans Mono',consolas,'Courier New',monospace\">23:20:08.142 | <span style=\"color: #008080; text-decoration-color: #008080\">INFO</span>    | Flow run<span style=\"color: #800080; text-decoration-color: #800080\"> 'bizarre-mantis'</span> - Created task run 'calculate_single_diatomic-105' for task 'calculate_single_diatomic'\n",
       "</pre>\n"
      ],
      "text/plain": [
       "23:20:08.142 | \u001b[36mINFO\u001b[0m    | Flow run\u001b[35m 'bizarre-mantis'\u001b[0m - Created task run 'calculate_single_diatomic-105' for task 'calculate_single_diatomic'\n"
      ]
     },
     "metadata": {},
     "output_type": "display_data"
    },
    {
     "data": {
      "text/html": [
       "<pre style=\"white-space:pre;overflow-x:auto;line-height:normal;font-family:Menlo,'DejaVu Sans Mono',consolas,'Courier New',monospace\">23:20:08.146 | <span style=\"color: #008080; text-decoration-color: #008080\">INFO</span>    | Flow run<span style=\"color: #800080; text-decoration-color: #800080\"> 'bizarre-mantis'</span> - Submitted task run 'calculate_single_diatomic-105' for execution.\n",
       "</pre>\n"
      ],
      "text/plain": [
       "23:20:08.146 | \u001b[36mINFO\u001b[0m    | Flow run\u001b[35m 'bizarre-mantis'\u001b[0m - Submitted task run 'calculate_single_diatomic-105' for execution.\n"
      ]
     },
     "metadata": {},
     "output_type": "display_data"
    },
    {
     "data": {
      "text/html": [
       "<pre style=\"white-space:pre;overflow-x:auto;line-height:normal;font-family:Menlo,'DejaVu Sans Mono',consolas,'Courier New',monospace\">23:20:08.152 | <span style=\"color: #008080; text-decoration-color: #008080\">INFO</span>    | Flow run<span style=\"color: #800080; text-decoration-color: #800080\"> 'bizarre-mantis'</span> - Created task run 'calculate_single_diatomic-109' for task 'calculate_single_diatomic'\n",
       "</pre>\n"
      ],
      "text/plain": [
       "23:20:08.152 | \u001b[36mINFO\u001b[0m    | Flow run\u001b[35m 'bizarre-mantis'\u001b[0m - Created task run 'calculate_single_diatomic-109' for task 'calculate_single_diatomic'\n"
      ]
     },
     "metadata": {},
     "output_type": "display_data"
    },
    {
     "data": {
      "text/html": [
       "<pre style=\"white-space:pre;overflow-x:auto;line-height:normal;font-family:Menlo,'DejaVu Sans Mono',consolas,'Courier New',monospace\">23:20:08.156 | <span style=\"color: #008080; text-decoration-color: #008080\">INFO</span>    | Flow run<span style=\"color: #800080; text-decoration-color: #800080\"> 'bizarre-mantis'</span> - Submitted task run 'calculate_single_diatomic-109' for execution.\n",
       "</pre>\n"
      ],
      "text/plain": [
       "23:20:08.156 | \u001b[36mINFO\u001b[0m    | Flow run\u001b[35m 'bizarre-mantis'\u001b[0m - Submitted task run 'calculate_single_diatomic-109' for execution.\n"
      ]
     },
     "metadata": {},
     "output_type": "display_data"
    },
    {
     "data": {
      "text/html": [
       "<pre style=\"white-space:pre;overflow-x:auto;line-height:normal;font-family:Menlo,'DejaVu Sans Mono',consolas,'Courier New',monospace\">23:20:08.159 | <span style=\"color: #008080; text-decoration-color: #008080\">INFO</span>    | Flow run<span style=\"color: #800080; text-decoration-color: #800080\"> 'bizarre-mantis'</span> - Created task run 'calculate_single_diatomic-111' for task 'calculate_single_diatomic'\n",
       "</pre>\n"
      ],
      "text/plain": [
       "23:20:08.159 | \u001b[36mINFO\u001b[0m    | Flow run\u001b[35m 'bizarre-mantis'\u001b[0m - Created task run 'calculate_single_diatomic-111' for task 'calculate_single_diatomic'\n"
      ]
     },
     "metadata": {},
     "output_type": "display_data"
    },
    {
     "data": {
      "text/html": [
       "<pre style=\"white-space:pre;overflow-x:auto;line-height:normal;font-family:Menlo,'DejaVu Sans Mono',consolas,'Courier New',monospace\">23:20:08.163 | <span style=\"color: #008080; text-decoration-color: #008080\">INFO</span>    | Flow run<span style=\"color: #800080; text-decoration-color: #800080\"> 'bizarre-mantis'</span> - Submitted task run 'calculate_single_diatomic-111' for execution.\n",
       "</pre>\n"
      ],
      "text/plain": [
       "23:20:08.163 | \u001b[36mINFO\u001b[0m    | Flow run\u001b[35m 'bizarre-mantis'\u001b[0m - Submitted task run 'calculate_single_diatomic-111' for execution.\n"
      ]
     },
     "metadata": {},
     "output_type": "display_data"
    },
    {
     "data": {
      "text/html": [
       "<pre style=\"white-space:pre;overflow-x:auto;line-height:normal;font-family:Menlo,'DejaVu Sans Mono',consolas,'Courier New',monospace\">23:20:08.172 | <span style=\"color: #008080; text-decoration-color: #008080\">INFO</span>    | Flow run<span style=\"color: #800080; text-decoration-color: #800080\"> 'bizarre-mantis'</span> - Created task run 'calculate_single_diatomic-101' for task 'calculate_single_diatomic'\n",
       "</pre>\n"
      ],
      "text/plain": [
       "23:20:08.172 | \u001b[36mINFO\u001b[0m    | Flow run\u001b[35m 'bizarre-mantis'\u001b[0m - Created task run 'calculate_single_diatomic-101' for task 'calculate_single_diatomic'\n"
      ]
     },
     "metadata": {},
     "output_type": "display_data"
    },
    {
     "data": {
      "text/html": [
       "<pre style=\"white-space:pre;overflow-x:auto;line-height:normal;font-family:Menlo,'DejaVu Sans Mono',consolas,'Courier New',monospace\">23:20:08.176 | <span style=\"color: #008080; text-decoration-color: #008080\">INFO</span>    | Flow run<span style=\"color: #800080; text-decoration-color: #800080\"> 'bizarre-mantis'</span> - Submitted task run 'calculate_single_diatomic-101' for execution.\n",
       "</pre>\n"
      ],
      "text/plain": [
       "23:20:08.176 | \u001b[36mINFO\u001b[0m    | Flow run\u001b[35m 'bizarre-mantis'\u001b[0m - Submitted task run 'calculate_single_diatomic-101' for execution.\n"
      ]
     },
     "metadata": {},
     "output_type": "display_data"
    },
    {
     "data": {
      "text/html": [
       "<pre style=\"white-space:pre;overflow-x:auto;line-height:normal;font-family:Menlo,'DejaVu Sans Mono',consolas,'Courier New',monospace\">23:20:08.179 | <span style=\"color: #008080; text-decoration-color: #008080\">INFO</span>    | Flow run<span style=\"color: #800080; text-decoration-color: #800080\"> 'bizarre-mantis'</span> - Created task run 'calculate_single_diatomic-103' for task 'calculate_single_diatomic'\n",
       "</pre>\n"
      ],
      "text/plain": [
       "23:20:08.179 | \u001b[36mINFO\u001b[0m    | Flow run\u001b[35m 'bizarre-mantis'\u001b[0m - Created task run 'calculate_single_diatomic-103' for task 'calculate_single_diatomic'\n"
      ]
     },
     "metadata": {},
     "output_type": "display_data"
    },
    {
     "data": {
      "text/html": [
       "<pre style=\"white-space:pre;overflow-x:auto;line-height:normal;font-family:Menlo,'DejaVu Sans Mono',consolas,'Courier New',monospace\">23:20:08.183 | <span style=\"color: #008080; text-decoration-color: #008080\">INFO</span>    | Flow run<span style=\"color: #800080; text-decoration-color: #800080\"> 'bizarre-mantis'</span> - Submitted task run 'calculate_single_diatomic-103' for execution.\n",
       "</pre>\n"
      ],
      "text/plain": [
       "23:20:08.183 | \u001b[36mINFO\u001b[0m    | Flow run\u001b[35m 'bizarre-mantis'\u001b[0m - Submitted task run 'calculate_single_diatomic-103' for execution.\n"
      ]
     },
     "metadata": {},
     "output_type": "display_data"
    },
    {
     "data": {
      "text/html": [
       "<pre style=\"white-space:pre;overflow-x:auto;line-height:normal;font-family:Menlo,'DejaVu Sans Mono',consolas,'Courier New',monospace\">23:20:08.187 | <span style=\"color: #008080; text-decoration-color: #008080\">INFO</span>    | Flow run<span style=\"color: #800080; text-decoration-color: #800080\"> 'bizarre-mantis'</span> - Created task run 'calculate_single_diatomic-107' for task 'calculate_single_diatomic'\n",
       "</pre>\n"
      ],
      "text/plain": [
       "23:20:08.187 | \u001b[36mINFO\u001b[0m    | Flow run\u001b[35m 'bizarre-mantis'\u001b[0m - Created task run 'calculate_single_diatomic-107' for task 'calculate_single_diatomic'\n"
      ]
     },
     "metadata": {},
     "output_type": "display_data"
    },
    {
     "data": {
      "text/html": [
       "<pre style=\"white-space:pre;overflow-x:auto;line-height:normal;font-family:Menlo,'DejaVu Sans Mono',consolas,'Courier New',monospace\">23:20:08.191 | <span style=\"color: #008080; text-decoration-color: #008080\">INFO</span>    | Flow run<span style=\"color: #800080; text-decoration-color: #800080\"> 'bizarre-mantis'</span> - Submitted task run 'calculate_single_diatomic-107' for execution.\n",
       "</pre>\n"
      ],
      "text/plain": [
       "23:20:08.191 | \u001b[36mINFO\u001b[0m    | Flow run\u001b[35m 'bizarre-mantis'\u001b[0m - Submitted task run 'calculate_single_diatomic-107' for execution.\n"
      ]
     },
     "metadata": {},
     "output_type": "display_data"
    },
    {
     "data": {
      "text/html": [
       "<pre style=\"white-space:pre;overflow-x:auto;line-height:normal;font-family:Menlo,'DejaVu Sans Mono',consolas,'Courier New',monospace\">23:20:08.195 | <span style=\"color: #008080; text-decoration-color: #008080\">INFO</span>    | Flow run<span style=\"color: #800080; text-decoration-color: #800080\"> 'bizarre-mantis'</span> - Created task run 'calculate_single_diatomic-108' for task 'calculate_single_diatomic'\n",
       "</pre>\n"
      ],
      "text/plain": [
       "23:20:08.195 | \u001b[36mINFO\u001b[0m    | Flow run\u001b[35m 'bizarre-mantis'\u001b[0m - Created task run 'calculate_single_diatomic-108' for task 'calculate_single_diatomic'\n"
      ]
     },
     "metadata": {},
     "output_type": "display_data"
    },
    {
     "data": {
      "text/html": [
       "<pre style=\"white-space:pre;overflow-x:auto;line-height:normal;font-family:Menlo,'DejaVu Sans Mono',consolas,'Courier New',monospace\">23:20:08.199 | <span style=\"color: #008080; text-decoration-color: #008080\">INFO</span>    | Flow run<span style=\"color: #800080; text-decoration-color: #800080\"> 'bizarre-mantis'</span> - Submitted task run 'calculate_single_diatomic-108' for execution.\n",
       "</pre>\n"
      ],
      "text/plain": [
       "23:20:08.199 | \u001b[36mINFO\u001b[0m    | Flow run\u001b[35m 'bizarre-mantis'\u001b[0m - Submitted task run 'calculate_single_diatomic-108' for execution.\n"
      ]
     },
     "metadata": {},
     "output_type": "display_data"
    },
    {
     "data": {
      "text/html": [
       "<pre style=\"white-space:pre;overflow-x:auto;line-height:normal;font-family:Menlo,'DejaVu Sans Mono',consolas,'Courier New',monospace\">23:20:08.205 | <span style=\"color: #008080; text-decoration-color: #008080\">INFO</span>    | Flow run<span style=\"color: #800080; text-decoration-color: #800080\"> 'bizarre-mantis'</span> - Created task run 'calculate_single_diatomic-113' for task 'calculate_single_diatomic'\n",
       "</pre>\n"
      ],
      "text/plain": [
       "23:20:08.205 | \u001b[36mINFO\u001b[0m    | Flow run\u001b[35m 'bizarre-mantis'\u001b[0m - Created task run 'calculate_single_diatomic-113' for task 'calculate_single_diatomic'\n"
      ]
     },
     "metadata": {},
     "output_type": "display_data"
    },
    {
     "data": {
      "text/html": [
       "<pre style=\"white-space:pre;overflow-x:auto;line-height:normal;font-family:Menlo,'DejaVu Sans Mono',consolas,'Courier New',monospace\">23:20:08.209 | <span style=\"color: #008080; text-decoration-color: #008080\">INFO</span>    | Flow run<span style=\"color: #800080; text-decoration-color: #800080\"> 'bizarre-mantis'</span> - Submitted task run 'calculate_single_diatomic-113' for execution.\n",
       "</pre>\n"
      ],
      "text/plain": [
       "23:20:08.209 | \u001b[36mINFO\u001b[0m    | Flow run\u001b[35m 'bizarre-mantis'\u001b[0m - Submitted task run 'calculate_single_diatomic-113' for execution.\n"
      ]
     },
     "metadata": {},
     "output_type": "display_data"
    },
    {
     "data": {
      "text/html": [
       "<pre style=\"white-space:pre;overflow-x:auto;line-height:normal;font-family:Menlo,'DejaVu Sans Mono',consolas,'Courier New',monospace\">23:20:08.212 | <span style=\"color: #008080; text-decoration-color: #008080\">INFO</span>    | Flow run<span style=\"color: #800080; text-decoration-color: #800080\"> 'bizarre-mantis'</span> - Created task run 'calculate_single_diatomic-115' for task 'calculate_single_diatomic'\n",
       "</pre>\n"
      ],
      "text/plain": [
       "23:20:08.212 | \u001b[36mINFO\u001b[0m    | Flow run\u001b[35m 'bizarre-mantis'\u001b[0m - Created task run 'calculate_single_diatomic-115' for task 'calculate_single_diatomic'\n"
      ]
     },
     "metadata": {},
     "output_type": "display_data"
    },
    {
     "data": {
      "text/html": [
       "<pre style=\"white-space:pre;overflow-x:auto;line-height:normal;font-family:Menlo,'DejaVu Sans Mono',consolas,'Courier New',monospace\">23:20:08.216 | <span style=\"color: #008080; text-decoration-color: #008080\">INFO</span>    | Flow run<span style=\"color: #800080; text-decoration-color: #800080\"> 'bizarre-mantis'</span> - Submitted task run 'calculate_single_diatomic-115' for execution.\n",
       "</pre>\n"
      ],
      "text/plain": [
       "23:20:08.216 | \u001b[36mINFO\u001b[0m    | Flow run\u001b[35m 'bizarre-mantis'\u001b[0m - Submitted task run 'calculate_single_diatomic-115' for execution.\n"
      ]
     },
     "metadata": {},
     "output_type": "display_data"
    },
    {
     "data": {
      "text/html": [
       "<pre style=\"white-space:pre;overflow-x:auto;line-height:normal;font-family:Menlo,'DejaVu Sans Mono',consolas,'Courier New',monospace\">23:20:08.219 | <span style=\"color: #008080; text-decoration-color: #008080\">INFO</span>    | Flow run<span style=\"color: #800080; text-decoration-color: #800080\"> 'bizarre-mantis'</span> - Created task run 'calculate_single_diatomic-116' for task 'calculate_single_diatomic'\n",
       "</pre>\n"
      ],
      "text/plain": [
       "23:20:08.219 | \u001b[36mINFO\u001b[0m    | Flow run\u001b[35m 'bizarre-mantis'\u001b[0m - Created task run 'calculate_single_diatomic-116' for task 'calculate_single_diatomic'\n"
      ]
     },
     "metadata": {},
     "output_type": "display_data"
    },
    {
     "data": {
      "text/html": [
       "<pre style=\"white-space:pre;overflow-x:auto;line-height:normal;font-family:Menlo,'DejaVu Sans Mono',consolas,'Courier New',monospace\">23:20:08.223 | <span style=\"color: #008080; text-decoration-color: #008080\">INFO</span>    | Flow run<span style=\"color: #800080; text-decoration-color: #800080\"> 'bizarre-mantis'</span> - Submitted task run 'calculate_single_diatomic-116' for execution.\n",
       "</pre>\n"
      ],
      "text/plain": [
       "23:20:08.223 | \u001b[36mINFO\u001b[0m    | Flow run\u001b[35m 'bizarre-mantis'\u001b[0m - Submitted task run 'calculate_single_diatomic-116' for execution.\n"
      ]
     },
     "metadata": {},
     "output_type": "display_data"
    },
    {
     "data": {
      "text/html": [
       "<pre style=\"white-space:pre;overflow-x:auto;line-height:normal;font-family:Menlo,'DejaVu Sans Mono',consolas,'Courier New',monospace\">23:20:08.229 | <span style=\"color: #008080; text-decoration-color: #008080\">INFO</span>    | Flow run<span style=\"color: #800080; text-decoration-color: #800080\"> 'bizarre-mantis'</span> - Created task run 'calculate_single_diatomic-102' for task 'calculate_single_diatomic'\n",
       "</pre>\n"
      ],
      "text/plain": [
       "23:20:08.229 | \u001b[36mINFO\u001b[0m    | Flow run\u001b[35m 'bizarre-mantis'\u001b[0m - Created task run 'calculate_single_diatomic-102' for task 'calculate_single_diatomic'\n"
      ]
     },
     "metadata": {},
     "output_type": "display_data"
    },
    {
     "data": {
      "text/html": [
       "<pre style=\"white-space:pre;overflow-x:auto;line-height:normal;font-family:Menlo,'DejaVu Sans Mono',consolas,'Courier New',monospace\">23:20:08.234 | <span style=\"color: #008080; text-decoration-color: #008080\">INFO</span>    | Flow run<span style=\"color: #800080; text-decoration-color: #800080\"> 'bizarre-mantis'</span> - Submitted task run 'calculate_single_diatomic-102' for execution.\n",
       "</pre>\n"
      ],
      "text/plain": [
       "23:20:08.234 | \u001b[36mINFO\u001b[0m    | Flow run\u001b[35m 'bizarre-mantis'\u001b[0m - Submitted task run 'calculate_single_diatomic-102' for execution.\n"
      ]
     },
     "metadata": {},
     "output_type": "display_data"
    },
    {
     "data": {
      "text/html": [
       "<pre style=\"white-space:pre;overflow-x:auto;line-height:normal;font-family:Menlo,'DejaVu Sans Mono',consolas,'Courier New',monospace\">23:20:08.237 | <span style=\"color: #008080; text-decoration-color: #008080\">INFO</span>    | Flow run<span style=\"color: #800080; text-decoration-color: #800080\"> 'bizarre-mantis'</span> - Created task run 'calculate_single_diatomic-106' for task 'calculate_single_diatomic'\n",
       "</pre>\n"
      ],
      "text/plain": [
       "23:20:08.237 | \u001b[36mINFO\u001b[0m    | Flow run\u001b[35m 'bizarre-mantis'\u001b[0m - Created task run 'calculate_single_diatomic-106' for task 'calculate_single_diatomic'\n"
      ]
     },
     "metadata": {},
     "output_type": "display_data"
    },
    {
     "data": {
      "text/html": [
       "<pre style=\"white-space:pre;overflow-x:auto;line-height:normal;font-family:Menlo,'DejaVu Sans Mono',consolas,'Courier New',monospace\">23:20:08.242 | <span style=\"color: #008080; text-decoration-color: #008080\">INFO</span>    | Flow run<span style=\"color: #800080; text-decoration-color: #800080\"> 'bizarre-mantis'</span> - Submitted task run 'calculate_single_diatomic-106' for execution.\n",
       "</pre>\n"
      ],
      "text/plain": [
       "23:20:08.242 | \u001b[36mINFO\u001b[0m    | Flow run\u001b[35m 'bizarre-mantis'\u001b[0m - Submitted task run 'calculate_single_diatomic-106' for execution.\n"
      ]
     },
     "metadata": {},
     "output_type": "display_data"
    },
    {
     "data": {
      "text/html": [
       "<pre style=\"white-space:pre;overflow-x:auto;line-height:normal;font-family:Menlo,'DejaVu Sans Mono',consolas,'Courier New',monospace\">23:20:08.250 | <span style=\"color: #008080; text-decoration-color: #008080\">INFO</span>    | Flow run<span style=\"color: #800080; text-decoration-color: #800080\"> 'bizarre-mantis'</span> - Created task run 'calculate_single_diatomic-112' for task 'calculate_single_diatomic'\n",
       "</pre>\n"
      ],
      "text/plain": [
       "23:20:08.250 | \u001b[36mINFO\u001b[0m    | Flow run\u001b[35m 'bizarre-mantis'\u001b[0m - Created task run 'calculate_single_diatomic-112' for task 'calculate_single_diatomic'\n"
      ]
     },
     "metadata": {},
     "output_type": "display_data"
    },
    {
     "data": {
      "text/html": [
       "<pre style=\"white-space:pre;overflow-x:auto;line-height:normal;font-family:Menlo,'DejaVu Sans Mono',consolas,'Courier New',monospace\">23:20:08.254 | <span style=\"color: #008080; text-decoration-color: #008080\">INFO</span>    | Flow run<span style=\"color: #800080; text-decoration-color: #800080\"> 'bizarre-mantis'</span> - Submitted task run 'calculate_single_diatomic-112' for execution.\n",
       "</pre>\n"
      ],
      "text/plain": [
       "23:20:08.254 | \u001b[36mINFO\u001b[0m    | Flow run\u001b[35m 'bizarre-mantis'\u001b[0m - Submitted task run 'calculate_single_diatomic-112' for execution.\n"
      ]
     },
     "metadata": {},
     "output_type": "display_data"
    },
    {
     "data": {
      "text/html": [
       "<pre style=\"white-space:pre;overflow-x:auto;line-height:normal;font-family:Menlo,'DejaVu Sans Mono',consolas,'Courier New',monospace\">23:20:08.256 | <span style=\"color: #008080; text-decoration-color: #008080\">INFO</span>    | Flow run<span style=\"color: #800080; text-decoration-color: #800080\"> 'bizarre-mantis'</span> - Created task run 'calculate_single_diatomic-114' for task 'calculate_single_diatomic'\n",
       "</pre>\n"
      ],
      "text/plain": [
       "23:20:08.256 | \u001b[36mINFO\u001b[0m    | Flow run\u001b[35m 'bizarre-mantis'\u001b[0m - Created task run 'calculate_single_diatomic-114' for task 'calculate_single_diatomic'\n"
      ]
     },
     "metadata": {},
     "output_type": "display_data"
    },
    {
     "data": {
      "text/html": [
       "<pre style=\"white-space:pre;overflow-x:auto;line-height:normal;font-family:Menlo,'DejaVu Sans Mono',consolas,'Courier New',monospace\">23:20:08.260 | <span style=\"color: #008080; text-decoration-color: #008080\">INFO</span>    | Flow run<span style=\"color: #800080; text-decoration-color: #800080\"> 'bizarre-mantis'</span> - Submitted task run 'calculate_single_diatomic-114' for execution.\n",
       "</pre>\n"
      ],
      "text/plain": [
       "23:20:08.260 | \u001b[36mINFO\u001b[0m    | Flow run\u001b[35m 'bizarre-mantis'\u001b[0m - Submitted task run 'calculate_single_diatomic-114' for execution.\n"
      ]
     },
     "metadata": {},
     "output_type": "display_data"
    },
    {
     "data": {
      "text/html": [
       "<pre style=\"white-space:pre;overflow-x:auto;line-height:normal;font-family:Menlo,'DejaVu Sans Mono',consolas,'Courier New',monospace\">23:20:08.262 | <span style=\"color: #008080; text-decoration-color: #008080\">INFO</span>    | Flow run<span style=\"color: #800080; text-decoration-color: #800080\"> 'bizarre-mantis'</span> - Created task run 'calculate_single_diatomic-117' for task 'calculate_single_diatomic'\n",
       "</pre>\n"
      ],
      "text/plain": [
       "23:20:08.262 | \u001b[36mINFO\u001b[0m    | Flow run\u001b[35m 'bizarre-mantis'\u001b[0m - Created task run 'calculate_single_diatomic-117' for task 'calculate_single_diatomic'\n"
      ]
     },
     "metadata": {},
     "output_type": "display_data"
    },
    {
     "data": {
      "text/html": [
       "<pre style=\"white-space:pre;overflow-x:auto;line-height:normal;font-family:Menlo,'DejaVu Sans Mono',consolas,'Courier New',monospace\">23:20:08.267 | <span style=\"color: #008080; text-decoration-color: #008080\">INFO</span>    | Flow run<span style=\"color: #800080; text-decoration-color: #800080\"> 'bizarre-mantis'</span> - Submitted task run 'calculate_single_diatomic-117' for execution.\n",
       "</pre>\n"
      ],
      "text/plain": [
       "23:20:08.267 | \u001b[36mINFO\u001b[0m    | Flow run\u001b[35m 'bizarre-mantis'\u001b[0m - Submitted task run 'calculate_single_diatomic-117' for execution.\n"
      ]
     },
     "metadata": {},
     "output_type": "display_data"
    },
    {
     "data": {
      "text/html": [
       "<pre style=\"white-space:pre;overflow-x:auto;line-height:normal;font-family:Menlo,'DejaVu Sans Mono',consolas,'Courier New',monospace\">23:20:08.271 | <span style=\"color: #008080; text-decoration-color: #008080\">INFO</span>    | Flow run<span style=\"color: #800080; text-decoration-color: #800080\"> 'bizarre-mantis'</span> - Created task run 'calculate_single_diatomic-118' for task 'calculate_single_diatomic'\n",
       "</pre>\n"
      ],
      "text/plain": [
       "23:20:08.271 | \u001b[36mINFO\u001b[0m    | Flow run\u001b[35m 'bizarre-mantis'\u001b[0m - Created task run 'calculate_single_diatomic-118' for task 'calculate_single_diatomic'\n"
      ]
     },
     "metadata": {},
     "output_type": "display_data"
    },
    {
     "data": {
      "text/html": [
       "<pre style=\"white-space:pre;overflow-x:auto;line-height:normal;font-family:Menlo,'DejaVu Sans Mono',consolas,'Courier New',monospace\">23:20:08.275 | <span style=\"color: #008080; text-decoration-color: #008080\">INFO</span>    | Flow run<span style=\"color: #800080; text-decoration-color: #800080\"> 'bizarre-mantis'</span> - Submitted task run 'calculate_single_diatomic-118' for execution.\n",
       "</pre>\n"
      ],
      "text/plain": [
       "23:20:08.275 | \u001b[36mINFO\u001b[0m    | Flow run\u001b[35m 'bizarre-mantis'\u001b[0m - Submitted task run 'calculate_single_diatomic-118' for execution.\n"
      ]
     },
     "metadata": {},
     "output_type": "display_data"
    },
    {
     "data": {
      "text/html": [
       "<pre style=\"white-space:pre;overflow-x:auto;line-height:normal;font-family:Menlo,'DejaVu Sans Mono',consolas,'Courier New',monospace\">23:20:08.280 | <span style=\"color: #008080; text-decoration-color: #008080\">INFO</span>    | Flow run<span style=\"color: #800080; text-decoration-color: #800080\"> 'bizarre-mantis'</span> - Created task run 'calculate_single_diatomic-110' for task 'calculate_single_diatomic'\n",
       "</pre>\n"
      ],
      "text/plain": [
       "23:20:08.280 | \u001b[36mINFO\u001b[0m    | Flow run\u001b[35m 'bizarre-mantis'\u001b[0m - Created task run 'calculate_single_diatomic-110' for task 'calculate_single_diatomic'\n"
      ]
     },
     "metadata": {},
     "output_type": "display_data"
    },
    {
     "data": {
      "text/html": [
       "<pre style=\"white-space:pre;overflow-x:auto;line-height:normal;font-family:Menlo,'DejaVu Sans Mono',consolas,'Courier New',monospace\">23:20:08.284 | <span style=\"color: #008080; text-decoration-color: #008080\">INFO</span>    | Flow run<span style=\"color: #800080; text-decoration-color: #800080\"> 'bizarre-mantis'</span> - Submitted task run 'calculate_single_diatomic-110' for execution.\n",
       "</pre>\n"
      ],
      "text/plain": [
       "23:20:08.284 | \u001b[36mINFO\u001b[0m    | Flow run\u001b[35m 'bizarre-mantis'\u001b[0m - Submitted task run 'calculate_single_diatomic-110' for execution.\n"
      ]
     },
     "metadata": {},
     "output_type": "display_data"
    },
    {
     "data": {
      "text/html": [
       "<pre style=\"white-space:pre;overflow-x:auto;line-height:normal;font-family:Menlo,'DejaVu Sans Mono',consolas,'Courier New',monospace\">23:27:44.390 | <span style=\"color: #d70000; text-decoration-color: #d70000\">ERROR</span>   | Flow run<span style=\"color: #800080; text-decoration-color: #800080\"> 'bizarre-mantis'</span> - Crash detected! Execution was cancelled by the runtime environment.\n",
       "</pre>\n"
      ],
      "text/plain": [
       "23:27:44.390 | \u001b[38;5;160mERROR\u001b[0m   | Flow run\u001b[35m 'bizarre-mantis'\u001b[0m - Crash detected! Execution was cancelled by the runtime environment.\n"
      ]
     },
     "metadata": {},
     "output_type": "display_data"
    },
    {
     "ename": "KeyboardInterrupt",
     "evalue": "",
     "output_type": "error",
     "traceback": [
      "\u001b[0;31m---------------------------------------------------------------------------\u001b[0m",
      "\u001b[0;31mKeyboardInterrupt\u001b[0m                         Traceback (most recent call last)",
      "Cell \u001b[0;32mIn[3], line 1\u001b[0m\n\u001b[0;32m----> 1\u001b[0m \u001b[43mcalculate_homonuclear_diatomics\u001b[49m\u001b[43m(\u001b[49m\u001b[38;5;124;43m\"\u001b[39;49m\u001b[38;5;124;43mMACE\u001b[39;49m\u001b[38;5;124;43m\"\u001b[39;49m\u001b[43m,\u001b[49m\u001b[43m \u001b[49m\u001b[43m{\u001b[49m\u001b[43m}\u001b[49m\u001b[43m)\u001b[49m\u001b[38;5;241m.\u001b[39mresult()\n",
      "File \u001b[0;32m/pscratch/sd/c/cyrusyc/.conda/mlip-arena/lib/python3.11/site-packages/prefect/flows.py:1224\u001b[0m, in \u001b[0;36mFlow.__call__\u001b[0;34m(self, return_state, wait_for, *args, **kwargs)\u001b[0m\n\u001b[1;32m   1219\u001b[0m \u001b[38;5;28;01mif\u001b[39;00m task_viz_tracker:\n\u001b[1;32m   1220\u001b[0m     \u001b[38;5;66;03m# this is a subflow, for now return a single task and do not go further\u001b[39;00m\n\u001b[1;32m   1221\u001b[0m     \u001b[38;5;66;03m# we can add support for exploring subflows for tasks in the future.\u001b[39;00m\n\u001b[1;32m   1222\u001b[0m     \u001b[38;5;28;01mreturn\u001b[39;00m track_viz_task(\u001b[38;5;28mself\u001b[39m\u001b[38;5;241m.\u001b[39misasync, \u001b[38;5;28mself\u001b[39m\u001b[38;5;241m.\u001b[39mname, parameters)\n\u001b[0;32m-> 1224\u001b[0m \u001b[38;5;28;01mreturn\u001b[39;00m \u001b[43menter_flow_run_engine_from_flow_call\u001b[49m\u001b[43m(\u001b[49m\n\u001b[1;32m   1225\u001b[0m \u001b[43m    \u001b[49m\u001b[38;5;28;43mself\u001b[39;49m\u001b[43m,\u001b[49m\n\u001b[1;32m   1226\u001b[0m \u001b[43m    \u001b[49m\u001b[43mparameters\u001b[49m\u001b[43m,\u001b[49m\n\u001b[1;32m   1227\u001b[0m \u001b[43m    \u001b[49m\u001b[43mwait_for\u001b[49m\u001b[38;5;241;43m=\u001b[39;49m\u001b[43mwait_for\u001b[49m\u001b[43m,\u001b[49m\n\u001b[1;32m   1228\u001b[0m \u001b[43m    \u001b[49m\u001b[43mreturn_type\u001b[49m\u001b[38;5;241;43m=\u001b[39;49m\u001b[43mreturn_type\u001b[49m\u001b[43m,\u001b[49m\n\u001b[1;32m   1229\u001b[0m \u001b[43m\u001b[49m\u001b[43m)\u001b[49m\n",
      "File \u001b[0;32m/pscratch/sd/c/cyrusyc/.conda/mlip-arena/lib/python3.11/site-packages/prefect/engine.py:297\u001b[0m, in \u001b[0;36menter_flow_run_engine_from_flow_call\u001b[0;34m(flow, parameters, wait_for, return_type)\u001b[0m\n\u001b[1;32m    290\u001b[0m     retval \u001b[38;5;241m=\u001b[39m from_async\u001b[38;5;241m.\u001b[39mwait_for_call_in_loop_thread(\n\u001b[1;32m    291\u001b[0m         begin_run,\n\u001b[1;32m    292\u001b[0m         done_callbacks\u001b[38;5;241m=\u001b[39mdone_callbacks,\n\u001b[1;32m    293\u001b[0m         contexts\u001b[38;5;241m=\u001b[39mcontexts,\n\u001b[1;32m    294\u001b[0m     )\n\u001b[1;32m    296\u001b[0m \u001b[38;5;28;01melse\u001b[39;00m:\n\u001b[0;32m--> 297\u001b[0m     retval \u001b[38;5;241m=\u001b[39m \u001b[43mfrom_sync\u001b[49m\u001b[38;5;241;43m.\u001b[39;49m\u001b[43mwait_for_call_in_loop_thread\u001b[49m\u001b[43m(\u001b[49m\n\u001b[1;32m    298\u001b[0m \u001b[43m        \u001b[49m\u001b[43mbegin_run\u001b[49m\u001b[43m,\u001b[49m\n\u001b[1;32m    299\u001b[0m \u001b[43m        \u001b[49m\u001b[43mdone_callbacks\u001b[49m\u001b[38;5;241;43m=\u001b[39;49m\u001b[43mdone_callbacks\u001b[49m\u001b[43m,\u001b[49m\n\u001b[1;32m    300\u001b[0m \u001b[43m        \u001b[49m\u001b[43mcontexts\u001b[49m\u001b[38;5;241;43m=\u001b[39;49m\u001b[43mcontexts\u001b[49m\u001b[43m,\u001b[49m\n\u001b[1;32m    301\u001b[0m \u001b[43m    \u001b[49m\u001b[43m)\u001b[49m\n\u001b[1;32m    303\u001b[0m \u001b[38;5;28;01mreturn\u001b[39;00m retval\n",
      "File \u001b[0;32m/pscratch/sd/c/cyrusyc/.conda/mlip-arena/lib/python3.11/site-packages/prefect/_internal/concurrency/api.py:242\u001b[0m, in \u001b[0;36mfrom_sync.wait_for_call_in_loop_thread\u001b[0;34m(_from_sync__call, timeout, done_callbacks, contexts)\u001b[0m\n\u001b[1;32m    240\u001b[0m \u001b[38;5;28;01mfor\u001b[39;00m context \u001b[38;5;129;01min\u001b[39;00m contexts \u001b[38;5;129;01mor\u001b[39;00m []:\n\u001b[1;32m    241\u001b[0m     stack\u001b[38;5;241m.\u001b[39menter_context(context)\n\u001b[0;32m--> 242\u001b[0m \u001b[43mwaiter\u001b[49m\u001b[38;5;241;43m.\u001b[39;49m\u001b[43mwait\u001b[49m\u001b[43m(\u001b[49m\u001b[43m)\u001b[49m\n\u001b[1;32m    243\u001b[0m \u001b[38;5;28;01mreturn\u001b[39;00m call\u001b[38;5;241m.\u001b[39mresult()\n",
      "File \u001b[0;32m/pscratch/sd/c/cyrusyc/.conda/mlip-arena/lib/python3.11/site-packages/prefect/_internal/concurrency/waiters.py:170\u001b[0m, in \u001b[0;36mSyncWaiter.wait\u001b[0;34m(self)\u001b[0m\n\u001b[1;32m    167\u001b[0m \u001b[38;5;28mself\u001b[39m\u001b[38;5;241m.\u001b[39m_call\u001b[38;5;241m.\u001b[39mfuture\u001b[38;5;241m.\u001b[39madd_done_callback(\u001b[38;5;28;01mlambda\u001b[39;00m _: \u001b[38;5;28mself\u001b[39m\u001b[38;5;241m.\u001b[39m_done_event\u001b[38;5;241m.\u001b[39mset())\n\u001b[1;32m    169\u001b[0m \u001b[38;5;28;01mwith\u001b[39;00m \u001b[38;5;28mself\u001b[39m\u001b[38;5;241m.\u001b[39m_handle_done_callbacks():\n\u001b[0;32m--> 170\u001b[0m     \u001b[38;5;28;43mself\u001b[39;49m\u001b[38;5;241;43m.\u001b[39;49m\u001b[43m_handle_waiting_callbacks\u001b[49m\u001b[43m(\u001b[49m\u001b[43m)\u001b[49m\n\u001b[1;32m    172\u001b[0m     \u001b[38;5;66;03m# Wait for the future to be done\u001b[39;00m\n\u001b[1;32m    173\u001b[0m     \u001b[38;5;28mself\u001b[39m\u001b[38;5;241m.\u001b[39m_done_event\u001b[38;5;241m.\u001b[39mwait()\n",
      "File \u001b[0;32m/pscratch/sd/c/cyrusyc/.conda/mlip-arena/lib/python3.11/site-packages/prefect/_internal/concurrency/waiters.py:137\u001b[0m, in \u001b[0;36mSyncWaiter._handle_waiting_callbacks\u001b[0;34m(self)\u001b[0m\n\u001b[1;32m    135\u001b[0m logger\u001b[38;5;241m.\u001b[39mdebug(\u001b[38;5;124m\"\u001b[39m\u001b[38;5;124mWaiter \u001b[39m\u001b[38;5;132;01m%r\u001b[39;00m\u001b[38;5;124m watching for callbacks\u001b[39m\u001b[38;5;124m\"\u001b[39m, \u001b[38;5;28mself\u001b[39m)\n\u001b[1;32m    136\u001b[0m \u001b[38;5;28;01mwhile\u001b[39;00m \u001b[38;5;28;01mTrue\u001b[39;00m:\n\u001b[0;32m--> 137\u001b[0m     callback: Call \u001b[38;5;241m=\u001b[39m \u001b[38;5;28;43mself\u001b[39;49m\u001b[38;5;241;43m.\u001b[39;49m\u001b[43m_queue\u001b[49m\u001b[38;5;241;43m.\u001b[39;49m\u001b[43mget\u001b[49m\u001b[43m(\u001b[49m\u001b[43m)\u001b[49m\n\u001b[1;32m    138\u001b[0m     \u001b[38;5;28;01mif\u001b[39;00m callback \u001b[38;5;129;01mis\u001b[39;00m \u001b[38;5;28;01mNone\u001b[39;00m:\n\u001b[1;32m    139\u001b[0m         \u001b[38;5;28;01mbreak\u001b[39;00m\n",
      "File \u001b[0;32m/pscratch/sd/c/cyrusyc/.conda/mlip-arena/lib/python3.11/queue.py:171\u001b[0m, in \u001b[0;36mQueue.get\u001b[0;34m(self, block, timeout)\u001b[0m\n\u001b[1;32m    169\u001b[0m \u001b[38;5;28;01melif\u001b[39;00m timeout \u001b[38;5;129;01mis\u001b[39;00m \u001b[38;5;28;01mNone\u001b[39;00m:\n\u001b[1;32m    170\u001b[0m     \u001b[38;5;28;01mwhile\u001b[39;00m \u001b[38;5;129;01mnot\u001b[39;00m \u001b[38;5;28mself\u001b[39m\u001b[38;5;241m.\u001b[39m_qsize():\n\u001b[0;32m--> 171\u001b[0m         \u001b[38;5;28;43mself\u001b[39;49m\u001b[38;5;241;43m.\u001b[39;49m\u001b[43mnot_empty\u001b[49m\u001b[38;5;241;43m.\u001b[39;49m\u001b[43mwait\u001b[49m\u001b[43m(\u001b[49m\u001b[43m)\u001b[49m\n\u001b[1;32m    172\u001b[0m \u001b[38;5;28;01melif\u001b[39;00m timeout \u001b[38;5;241m<\u001b[39m \u001b[38;5;241m0\u001b[39m:\n\u001b[1;32m    173\u001b[0m     \u001b[38;5;28;01mraise\u001b[39;00m \u001b[38;5;167;01mValueError\u001b[39;00m(\u001b[38;5;124m\"\u001b[39m\u001b[38;5;124m'\u001b[39m\u001b[38;5;124mtimeout\u001b[39m\u001b[38;5;124m'\u001b[39m\u001b[38;5;124m must be a non-negative number\u001b[39m\u001b[38;5;124m\"\u001b[39m)\n",
      "File \u001b[0;32m/pscratch/sd/c/cyrusyc/.conda/mlip-arena/lib/python3.11/threading.py:327\u001b[0m, in \u001b[0;36mCondition.wait\u001b[0;34m(self, timeout)\u001b[0m\n\u001b[1;32m    325\u001b[0m \u001b[38;5;28;01mtry\u001b[39;00m:    \u001b[38;5;66;03m# restore state no matter what (e.g., KeyboardInterrupt)\u001b[39;00m\n\u001b[1;32m    326\u001b[0m     \u001b[38;5;28;01mif\u001b[39;00m timeout \u001b[38;5;129;01mis\u001b[39;00m \u001b[38;5;28;01mNone\u001b[39;00m:\n\u001b[0;32m--> 327\u001b[0m         \u001b[43mwaiter\u001b[49m\u001b[38;5;241;43m.\u001b[39;49m\u001b[43macquire\u001b[49m\u001b[43m(\u001b[49m\u001b[43m)\u001b[49m\n\u001b[1;32m    328\u001b[0m         gotit \u001b[38;5;241m=\u001b[39m \u001b[38;5;28;01mTrue\u001b[39;00m\n\u001b[1;32m    329\u001b[0m     \u001b[38;5;28;01melse\u001b[39;00m:\n",
      "\u001b[0;31mKeyboardInterrupt\u001b[0m: "
     ]
    }
   ],
   "source": [
    "calculate_homonuclear_diatomics(\"MACE\", {}).result()"
   ]
  },
  {
   "cell_type": "code",
   "execution_count": null,
   "metadata": {},
   "outputs": [],
   "source": [
    "from typing import Union\n",
    "\n",
    "import covalent as ct\n",
    "import numpy as np\n",
    "import pandas as pd\n",
    "import torch\n",
    "from ase import Atoms\n",
    "from ase.calculators.calculator import Calculator\n",
    "from ase.data import chemical_symbols\n",
    "from matplotlib import pyplot as plt\n",
    "\n",
    "from mlip_arena.models import MLIPCalculator\n",
    "from mlip_arena.models.utils import EXTMLIPEnum, MLIPMap, external_ase_calculator\n",
    "\n",
    "local = ct.executor.LocalExecutor()\n",
    "\n",
    "\n",
    "@ct.electron\n",
    "def calculate_single_diatomic(\n",
    "    calculator_name: str,\n",
    "    calculator_kwargs: dict | None,\n",
    "    atom1: str,\n",
    "    atom2: str,\n",
    "    rmin: float = 0.1,\n",
    "    rmax: float = 6.5,\n",
    "    npts: int = int(1e3),\n",
    "):\n",
    "\n",
    "    calculator_kwargs = calculator_kwargs or {}\n",
    "\n",
    "    if calculator_name in EXTMLIPEnum:\n",
    "        calc = external_ase_calculator(calculator_name, **calculator_kwargs)\n",
    "    elif calculator_name in MLIPMap:\n",
    "        calc = MLIPMap[calculator_name](**calculator_kwargs)\n",
    "\n",
    "    a = 2 * rmax\n",
    "\n",
    "    rs = np.linspace(rmin, rmax, npts)\n",
    "    e = np.zeros_like(rs)\n",
    "    f = np.zeros_like(rs)\n",
    "\n",
    "    da = atom1 + atom2\n",
    "\n",
    "    for i, r in enumerate(rs):\n",
    "\n",
    "        positions = [\n",
    "            [0, 0, 0],\n",
    "            [r, 0, 0],\n",
    "        ]\n",
    "\n",
    "        # Create the unit cell with two atoms\n",
    "        atoms = Atoms(da, positions=positions, cell=[a, a, a])\n",
    "\n",
    "        atoms.calc = calc\n",
    "\n",
    "        e[i] = atoms.get_potential_energy()\n",
    "        f[i] = np.inner(np.array([1, 0, 0]), atoms.get_forces()[1])\n",
    "\n",
    "    return rs, e, f, da\n",
    "\n",
    "\n",
    "@ct.lattice\n",
    "def calculate_homonuclear_diatomics(\n",
    "    calculator_name: str, calculator_kwargs: dict | None = None\n",
    "):\n",
    "\n",
    "    chemical_symbols.remove(\"X\")\n",
    "\n",
    "    results = {}\n",
    "\n",
    "    for atom in chemical_symbols:\n",
    "        rs, e, f, da = calculate_single_diatomic(\n",
    "            calculator_name, calculator_kwargs, atom, atom\n",
    "        )\n",
    "        results[da] = {\"r\": rs, \"E\": e, \"F\": f}\n",
    "\n",
    "    return results\n",
    "\n",
    "\n",
    "\n",
    "dispatch_id = ct.dispatch(calculate_homonuclear_diatomics)(calculator_name=\"MACE\", calculator_kwargs={})\n",
    "\n",
    "result = ct.get_result(dispatch_id)"
   ]
  },
  {
   "cell_type": "code",
   "execution_count": null,
   "metadata": {},
   "outputs": [],
   "source": [
    "from enum import Enum\n",
    "\n",
    "e = Enum(\"TESTEnum\", {\"A\": 1, \"B\": 2, \"C\": 3})\n",
    "\n",
    "print(e.A)\n",
    "print(e.__members__)"
   ]
  },
  {
   "cell_type": "code",
   "execution_count": null,
   "metadata": {},
   "outputs": [],
   "source": [
    "from mlip_arena.models.utils import external_ase_calculator, EXTMLIPEnum\n",
    "\n",
    "external_ase_calculator(EXTMLIPEnum.MACE)"
   ]
  },
  {
   "cell_type": "code",
   "execution_count": null,
   "metadata": {},
   "outputs": [],
   "source": [
    "from mlip_arena.models.utils import MLIPEnum\n",
    "\n",
    "for model in MLIPEnum:\n",
    "    print(type(model.name), model.value)"
   ]
  },
  {
   "cell_type": "code",
   "execution_count": null,
   "metadata": {},
   "outputs": [],
   "source": [
    "type(EXTMLIPEnum.MACE.value)"
   ]
  },
  {
   "cell_type": "code",
   "execution_count": null,
   "metadata": {},
   "outputs": [],
   "source": [
    "import covalent as ct\n",
    "\n",
    "from mace.calculators import mace_mp\n",
    "from mlip_arena.tasks.diatomics import calculate_homonuclear_diatomics\n",
    "from mlip_arena.models.utils import EXTMLIPEnum\n",
    "\n",
    "local = ct.executor.LocalExecutor()\n",
    "\n",
    "dispatch_id = ct.dispatch(calculate_homonuclear_diatomics)(calculator_name=\"MACE\")\n",
    "\n",
    "result = ct.get_result(dispatch_id)\n",
    "print(result)"
   ]
  },
  {
   "cell_type": "code",
   "execution_count": null,
   "metadata": {},
   "outputs": [],
   "source": []
  }
 ],
 "metadata": {
  "kernelspec": {
   "display_name": "Python 3",
   "language": "python",
   "name": "python3"
  },
  "language_info": {
   "codemirror_mode": {
    "name": "ipython",
    "version": 3
   },
   "file_extension": ".py",
   "mimetype": "text/x-python",
   "name": "python",
   "nbconvert_exporter": "python",
   "pygments_lexer": "ipython3",
   "version": "3.11.8"
  }
 },
 "nbformat": 4,
 "nbformat_minor": 2
}
